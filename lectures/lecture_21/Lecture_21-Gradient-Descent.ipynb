{
 "cells": [
  {
   "cell_type": "markdown",
   "metadata": {},
   "source": [
    "<h1><center> PPOL564 | DS1: Foundations </center><h1>\n",
    "<h3><center> Lecture 21 <br><br><font color='grey'> \n",
    "Gradient Descent </font></center></h3>\n",
    "\n",
    "## Concepts Covered:\n",
    "\n",
    "- Intuition of Leveraging Gradients \n",
    "- Gradient Descent on a linear outcome"
   ]
  },
  {
   "cell_type": "code",
   "execution_count": 74,
   "metadata": {},
   "outputs": [
    {
     "data": {
      "text/html": [
       "\n",
       "    <div class=\"bk-root\">\n",
       "        <a href=\"https://bokeh.pydata.org\" target=\"_blank\" class=\"bk-logo bk-logo-small bk-logo-notebook\"></a>\n",
       "        <span id=\"34f0aa5f-6efe-430c-b5fe-3b8a70207b04\">Loading BokehJS ...</span>\n",
       "    </div>"
      ]
     },
     "metadata": {},
     "output_type": "display_data"
    },
    {
     "data": {
      "application/javascript": [
       "\n",
       "(function(root) {\n",
       "  function now() {\n",
       "    return new Date();\n",
       "  }\n",
       "\n",
       "  var force = true;\n",
       "\n",
       "  if (typeof (root._bokeh_onload_callbacks) === \"undefined\" || force === true) {\n",
       "    root._bokeh_onload_callbacks = [];\n",
       "    root._bokeh_is_loading = undefined;\n",
       "  }\n",
       "\n",
       "  var JS_MIME_TYPE = 'application/javascript';\n",
       "  var HTML_MIME_TYPE = 'text/html';\n",
       "  var EXEC_MIME_TYPE = 'application/vnd.bokehjs_exec.v0+json';\n",
       "  var CLASS_NAME = 'output_bokeh rendered_html';\n",
       "\n",
       "  /**\n",
       "   * Render data to the DOM node\n",
       "   */\n",
       "  function render(props, node) {\n",
       "    var script = document.createElement(\"script\");\n",
       "    node.appendChild(script);\n",
       "  }\n",
       "\n",
       "  /**\n",
       "   * Handle when an output is cleared or removed\n",
       "   */\n",
       "  function handleClearOutput(event, handle) {\n",
       "    var cell = handle.cell;\n",
       "\n",
       "    var id = cell.output_area._bokeh_element_id;\n",
       "    var server_id = cell.output_area._bokeh_server_id;\n",
       "    // Clean up Bokeh references\n",
       "    if (id != null && id in Bokeh.index) {\n",
       "      Bokeh.index[id].model.document.clear();\n",
       "      delete Bokeh.index[id];\n",
       "    }\n",
       "\n",
       "    if (server_id !== undefined) {\n",
       "      // Clean up Bokeh references\n",
       "      var cmd = \"from bokeh.io.state import curstate; print(curstate().uuid_to_server['\" + server_id + \"'].get_sessions()[0].document.roots[0]._id)\";\n",
       "      cell.notebook.kernel.execute(cmd, {\n",
       "        iopub: {\n",
       "          output: function(msg) {\n",
       "            var id = msg.content.text.trim();\n",
       "            if (id in Bokeh.index) {\n",
       "              Bokeh.index[id].model.document.clear();\n",
       "              delete Bokeh.index[id];\n",
       "            }\n",
       "          }\n",
       "        }\n",
       "      });\n",
       "      // Destroy server and session\n",
       "      var cmd = \"import bokeh.io.notebook as ion; ion.destroy_server('\" + server_id + \"')\";\n",
       "      cell.notebook.kernel.execute(cmd);\n",
       "    }\n",
       "  }\n",
       "\n",
       "  /**\n",
       "   * Handle when a new output is added\n",
       "   */\n",
       "  function handleAddOutput(event, handle) {\n",
       "    var output_area = handle.output_area;\n",
       "    var output = handle.output;\n",
       "\n",
       "    // limit handleAddOutput to display_data with EXEC_MIME_TYPE content only\n",
       "    if ((output.output_type != \"display_data\") || (!output.data.hasOwnProperty(EXEC_MIME_TYPE))) {\n",
       "      return\n",
       "    }\n",
       "\n",
       "    var toinsert = output_area.element.find(\".\" + CLASS_NAME.split(' ')[0]);\n",
       "\n",
       "    if (output.metadata[EXEC_MIME_TYPE][\"id\"] !== undefined) {\n",
       "      toinsert[toinsert.length - 1].firstChild.textContent = output.data[JS_MIME_TYPE];\n",
       "      // store reference to embed id on output_area\n",
       "      output_area._bokeh_element_id = output.metadata[EXEC_MIME_TYPE][\"id\"];\n",
       "    }\n",
       "    if (output.metadata[EXEC_MIME_TYPE][\"server_id\"] !== undefined) {\n",
       "      var bk_div = document.createElement(\"div\");\n",
       "      bk_div.innerHTML = output.data[HTML_MIME_TYPE];\n",
       "      var script_attrs = bk_div.children[0].attributes;\n",
       "      for (var i = 0; i < script_attrs.length; i++) {\n",
       "        toinsert[toinsert.length - 1].firstChild.setAttribute(script_attrs[i].name, script_attrs[i].value);\n",
       "      }\n",
       "      // store reference to server id on output_area\n",
       "      output_area._bokeh_server_id = output.metadata[EXEC_MIME_TYPE][\"server_id\"];\n",
       "    }\n",
       "  }\n",
       "\n",
       "  function register_renderer(events, OutputArea) {\n",
       "\n",
       "    function append_mime(data, metadata, element) {\n",
       "      // create a DOM node to render to\n",
       "      var toinsert = this.create_output_subarea(\n",
       "        metadata,\n",
       "        CLASS_NAME,\n",
       "        EXEC_MIME_TYPE\n",
       "      );\n",
       "      this.keyboard_manager.register_events(toinsert);\n",
       "      // Render to node\n",
       "      var props = {data: data, metadata: metadata[EXEC_MIME_TYPE]};\n",
       "      render(props, toinsert[toinsert.length - 1]);\n",
       "      element.append(toinsert);\n",
       "      return toinsert\n",
       "    }\n",
       "\n",
       "    /* Handle when an output is cleared or removed */\n",
       "    events.on('clear_output.CodeCell', handleClearOutput);\n",
       "    events.on('delete.Cell', handleClearOutput);\n",
       "\n",
       "    /* Handle when a new output is added */\n",
       "    events.on('output_added.OutputArea', handleAddOutput);\n",
       "\n",
       "    /**\n",
       "     * Register the mime type and append_mime function with output_area\n",
       "     */\n",
       "    OutputArea.prototype.register_mime_type(EXEC_MIME_TYPE, append_mime, {\n",
       "      /* Is output safe? */\n",
       "      safe: true,\n",
       "      /* Index of renderer in `output_area.display_order` */\n",
       "      index: 0\n",
       "    });\n",
       "  }\n",
       "\n",
       "  // register the mime type if in Jupyter Notebook environment and previously unregistered\n",
       "  if (root.Jupyter !== undefined) {\n",
       "    var events = require('base/js/events');\n",
       "    var OutputArea = require('notebook/js/outputarea').OutputArea;\n",
       "\n",
       "    if (OutputArea.prototype.mime_types().indexOf(EXEC_MIME_TYPE) == -1) {\n",
       "      register_renderer(events, OutputArea);\n",
       "    }\n",
       "  }\n",
       "\n",
       "  \n",
       "  if (typeof (root._bokeh_timeout) === \"undefined\" || force === true) {\n",
       "    root._bokeh_timeout = Date.now() + 5000;\n",
       "    root._bokeh_failed_load = false;\n",
       "  }\n",
       "\n",
       "  var NB_LOAD_WARNING = {'data': {'text/html':\n",
       "     \"<div style='background-color: #fdd'>\\n\"+\n",
       "     \"<p>\\n\"+\n",
       "     \"BokehJS does not appear to have successfully loaded. If loading BokehJS from CDN, this \\n\"+\n",
       "     \"may be due to a slow or bad network connection. Possible fixes:\\n\"+\n",
       "     \"</p>\\n\"+\n",
       "     \"<ul>\\n\"+\n",
       "     \"<li>re-rerun `output_notebook()` to attempt to load from CDN again, or</li>\\n\"+\n",
       "     \"<li>use INLINE resources instead, as so:</li>\\n\"+\n",
       "     \"</ul>\\n\"+\n",
       "     \"<code>\\n\"+\n",
       "     \"from bokeh.resources import INLINE\\n\"+\n",
       "     \"output_notebook(resources=INLINE)\\n\"+\n",
       "     \"</code>\\n\"+\n",
       "     \"</div>\"}};\n",
       "\n",
       "  function display_loaded() {\n",
       "    var el = document.getElementById(\"34f0aa5f-6efe-430c-b5fe-3b8a70207b04\");\n",
       "    if (el != null) {\n",
       "      el.textContent = \"BokehJS is loading...\";\n",
       "    }\n",
       "    if (root.Bokeh !== undefined) {\n",
       "      if (el != null) {\n",
       "        el.textContent = \"BokehJS \" + root.Bokeh.version + \" successfully loaded.\";\n",
       "      }\n",
       "    } else if (Date.now() < root._bokeh_timeout) {\n",
       "      setTimeout(display_loaded, 100)\n",
       "    }\n",
       "  }\n",
       "\n",
       "\n",
       "  function run_callbacks() {\n",
       "    try {\n",
       "      root._bokeh_onload_callbacks.forEach(function(callback) { callback() });\n",
       "    }\n",
       "    finally {\n",
       "      delete root._bokeh_onload_callbacks\n",
       "    }\n",
       "    console.info(\"Bokeh: all callbacks have finished\");\n",
       "  }\n",
       "\n",
       "  function load_libs(js_urls, callback) {\n",
       "    root._bokeh_onload_callbacks.push(callback);\n",
       "    if (root._bokeh_is_loading > 0) {\n",
       "      console.log(\"Bokeh: BokehJS is being loaded, scheduling callback at\", now());\n",
       "      return null;\n",
       "    }\n",
       "    if (js_urls == null || js_urls.length === 0) {\n",
       "      run_callbacks();\n",
       "      return null;\n",
       "    }\n",
       "    console.log(\"Bokeh: BokehJS not loaded, scheduling load and callback at\", now());\n",
       "    root._bokeh_is_loading = js_urls.length;\n",
       "    for (var i = 0; i < js_urls.length; i++) {\n",
       "      var url = js_urls[i];\n",
       "      var s = document.createElement('script');\n",
       "      s.src = url;\n",
       "      s.async = false;\n",
       "      s.onreadystatechange = s.onload = function() {\n",
       "        root._bokeh_is_loading--;\n",
       "        if (root._bokeh_is_loading === 0) {\n",
       "          console.log(\"Bokeh: all BokehJS libraries loaded\");\n",
       "          run_callbacks()\n",
       "        }\n",
       "      };\n",
       "      s.onerror = function() {\n",
       "        console.warn(\"failed to load library \" + url);\n",
       "      };\n",
       "      console.log(\"Bokeh: injecting script tag for BokehJS library: \", url);\n",
       "      document.getElementsByTagName(\"head\")[0].appendChild(s);\n",
       "    }\n",
       "  };var element = document.getElementById(\"34f0aa5f-6efe-430c-b5fe-3b8a70207b04\");\n",
       "  if (element == null) {\n",
       "    console.log(\"Bokeh: ERROR: autoload.js configured with elementid '34f0aa5f-6efe-430c-b5fe-3b8a70207b04' but no matching script tag was found. \")\n",
       "    return false;\n",
       "  }\n",
       "\n",
       "  var js_urls = [\"https://cdn.pydata.org/bokeh/release/bokeh-0.13.0.min.js\", \"https://cdn.pydata.org/bokeh/release/bokeh-widgets-0.13.0.min.js\", \"https://cdn.pydata.org/bokeh/release/bokeh-tables-0.13.0.min.js\", \"https://cdn.pydata.org/bokeh/release/bokeh-gl-0.13.0.min.js\"];\n",
       "\n",
       "  var inline_js = [\n",
       "    function(Bokeh) {\n",
       "      Bokeh.set_log_level(\"info\");\n",
       "    },\n",
       "    \n",
       "    function(Bokeh) {\n",
       "      \n",
       "    },\n",
       "    function(Bokeh) {\n",
       "      console.log(\"Bokeh: injecting CSS: https://cdn.pydata.org/bokeh/release/bokeh-0.13.0.min.css\");\n",
       "      Bokeh.embed.inject_css(\"https://cdn.pydata.org/bokeh/release/bokeh-0.13.0.min.css\");\n",
       "      console.log(\"Bokeh: injecting CSS: https://cdn.pydata.org/bokeh/release/bokeh-widgets-0.13.0.min.css\");\n",
       "      Bokeh.embed.inject_css(\"https://cdn.pydata.org/bokeh/release/bokeh-widgets-0.13.0.min.css\");\n",
       "      console.log(\"Bokeh: injecting CSS: https://cdn.pydata.org/bokeh/release/bokeh-tables-0.13.0.min.css\");\n",
       "      Bokeh.embed.inject_css(\"https://cdn.pydata.org/bokeh/release/bokeh-tables-0.13.0.min.css\");\n",
       "    }\n",
       "  ];\n",
       "\n",
       "  function run_inline_js() {\n",
       "    \n",
       "    if ((root.Bokeh !== undefined) || (force === true)) {\n",
       "      for (var i = 0; i < inline_js.length; i++) {\n",
       "        inline_js[i].call(root, root.Bokeh);\n",
       "      }if (force === true) {\n",
       "        display_loaded();\n",
       "      }} else if (Date.now() < root._bokeh_timeout) {\n",
       "      setTimeout(run_inline_js, 100);\n",
       "    } else if (!root._bokeh_failed_load) {\n",
       "      console.log(\"Bokeh: BokehJS failed to load within specified timeout.\");\n",
       "      root._bokeh_failed_load = true;\n",
       "    } else if (force !== true) {\n",
       "      var cell = $(document.getElementById(\"34f0aa5f-6efe-430c-b5fe-3b8a70207b04\")).parents('.cell').data().cell;\n",
       "      cell.output_area.append_execute_result(NB_LOAD_WARNING)\n",
       "    }\n",
       "\n",
       "  }\n",
       "\n",
       "  if (root._bokeh_is_loading === 0) {\n",
       "    console.log(\"Bokeh: BokehJS loaded, going straight to plotting\");\n",
       "    run_inline_js();\n",
       "  } else {\n",
       "    load_libs(js_urls, function() {\n",
       "      console.log(\"Bokeh: BokehJS plotting callback run at\", now());\n",
       "      run_inline_js();\n",
       "    });\n",
       "  }\n",
       "}(window));"
      ],
      "application/vnd.bokehjs_load.v0+json": "\n(function(root) {\n  function now() {\n    return new Date();\n  }\n\n  var force = true;\n\n  if (typeof (root._bokeh_onload_callbacks) === \"undefined\" || force === true) {\n    root._bokeh_onload_callbacks = [];\n    root._bokeh_is_loading = undefined;\n  }\n\n  \n\n  \n  if (typeof (root._bokeh_timeout) === \"undefined\" || force === true) {\n    root._bokeh_timeout = Date.now() + 5000;\n    root._bokeh_failed_load = false;\n  }\n\n  var NB_LOAD_WARNING = {'data': {'text/html':\n     \"<div style='background-color: #fdd'>\\n\"+\n     \"<p>\\n\"+\n     \"BokehJS does not appear to have successfully loaded. If loading BokehJS from CDN, this \\n\"+\n     \"may be due to a slow or bad network connection. Possible fixes:\\n\"+\n     \"</p>\\n\"+\n     \"<ul>\\n\"+\n     \"<li>re-rerun `output_notebook()` to attempt to load from CDN again, or</li>\\n\"+\n     \"<li>use INLINE resources instead, as so:</li>\\n\"+\n     \"</ul>\\n\"+\n     \"<code>\\n\"+\n     \"from bokeh.resources import INLINE\\n\"+\n     \"output_notebook(resources=INLINE)\\n\"+\n     \"</code>\\n\"+\n     \"</div>\"}};\n\n  function display_loaded() {\n    var el = document.getElementById(\"34f0aa5f-6efe-430c-b5fe-3b8a70207b04\");\n    if (el != null) {\n      el.textContent = \"BokehJS is loading...\";\n    }\n    if (root.Bokeh !== undefined) {\n      if (el != null) {\n        el.textContent = \"BokehJS \" + root.Bokeh.version + \" successfully loaded.\";\n      }\n    } else if (Date.now() < root._bokeh_timeout) {\n      setTimeout(display_loaded, 100)\n    }\n  }\n\n\n  function run_callbacks() {\n    try {\n      root._bokeh_onload_callbacks.forEach(function(callback) { callback() });\n    }\n    finally {\n      delete root._bokeh_onload_callbacks\n    }\n    console.info(\"Bokeh: all callbacks have finished\");\n  }\n\n  function load_libs(js_urls, callback) {\n    root._bokeh_onload_callbacks.push(callback);\n    if (root._bokeh_is_loading > 0) {\n      console.log(\"Bokeh: BokehJS is being loaded, scheduling callback at\", now());\n      return null;\n    }\n    if (js_urls == null || js_urls.length === 0) {\n      run_callbacks();\n      return null;\n    }\n    console.log(\"Bokeh: BokehJS not loaded, scheduling load and callback at\", now());\n    root._bokeh_is_loading = js_urls.length;\n    for (var i = 0; i < js_urls.length; i++) {\n      var url = js_urls[i];\n      var s = document.createElement('script');\n      s.src = url;\n      s.async = false;\n      s.onreadystatechange = s.onload = function() {\n        root._bokeh_is_loading--;\n        if (root._bokeh_is_loading === 0) {\n          console.log(\"Bokeh: all BokehJS libraries loaded\");\n          run_callbacks()\n        }\n      };\n      s.onerror = function() {\n        console.warn(\"failed to load library \" + url);\n      };\n      console.log(\"Bokeh: injecting script tag for BokehJS library: \", url);\n      document.getElementsByTagName(\"head\")[0].appendChild(s);\n    }\n  };var element = document.getElementById(\"34f0aa5f-6efe-430c-b5fe-3b8a70207b04\");\n  if (element == null) {\n    console.log(\"Bokeh: ERROR: autoload.js configured with elementid '34f0aa5f-6efe-430c-b5fe-3b8a70207b04' but no matching script tag was found. \")\n    return false;\n  }\n\n  var js_urls = [\"https://cdn.pydata.org/bokeh/release/bokeh-0.13.0.min.js\", \"https://cdn.pydata.org/bokeh/release/bokeh-widgets-0.13.0.min.js\", \"https://cdn.pydata.org/bokeh/release/bokeh-tables-0.13.0.min.js\", \"https://cdn.pydata.org/bokeh/release/bokeh-gl-0.13.0.min.js\"];\n\n  var inline_js = [\n    function(Bokeh) {\n      Bokeh.set_log_level(\"info\");\n    },\n    \n    function(Bokeh) {\n      \n    },\n    function(Bokeh) {\n      console.log(\"Bokeh: injecting CSS: https://cdn.pydata.org/bokeh/release/bokeh-0.13.0.min.css\");\n      Bokeh.embed.inject_css(\"https://cdn.pydata.org/bokeh/release/bokeh-0.13.0.min.css\");\n      console.log(\"Bokeh: injecting CSS: https://cdn.pydata.org/bokeh/release/bokeh-widgets-0.13.0.min.css\");\n      Bokeh.embed.inject_css(\"https://cdn.pydata.org/bokeh/release/bokeh-widgets-0.13.0.min.css\");\n      console.log(\"Bokeh: injecting CSS: https://cdn.pydata.org/bokeh/release/bokeh-tables-0.13.0.min.css\");\n      Bokeh.embed.inject_css(\"https://cdn.pydata.org/bokeh/release/bokeh-tables-0.13.0.min.css\");\n    }\n  ];\n\n  function run_inline_js() {\n    \n    if ((root.Bokeh !== undefined) || (force === true)) {\n      for (var i = 0; i < inline_js.length; i++) {\n        inline_js[i].call(root, root.Bokeh);\n      }if (force === true) {\n        display_loaded();\n      }} else if (Date.now() < root._bokeh_timeout) {\n      setTimeout(run_inline_js, 100);\n    } else if (!root._bokeh_failed_load) {\n      console.log(\"Bokeh: BokehJS failed to load within specified timeout.\");\n      root._bokeh_failed_load = true;\n    } else if (force !== true) {\n      var cell = $(document.getElementById(\"34f0aa5f-6efe-430c-b5fe-3b8a70207b04\")).parents('.cell').data().cell;\n      cell.output_area.append_execute_result(NB_LOAD_WARNING)\n    }\n\n  }\n\n  if (root._bokeh_is_loading === 0) {\n    console.log(\"Bokeh: BokehJS loaded, going straight to plotting\");\n    run_inline_js();\n  } else {\n    load_libs(js_urls, function() {\n      console.log(\"Bokeh: BokehJS plotting callback run at\", now());\n      run_inline_js();\n    });\n  }\n}(window));"
     },
     "metadata": {},
     "output_type": "display_data"
    }
   ],
   "source": [
    "import numpy as np\n",
    "import sympy as sp\n",
    "import statsmodels.formula.api as smf\n",
    "import pandas as pd\n",
    "from bokeh.plotting import figure, output_notebook, show\n",
    "from bokeh.layouts import column, row, gridplot\n",
    "output_notebook()\n",
    "sp.init_printing(use_unicode=True)"
   ]
  },
  {
   "cell_type": "markdown",
   "metadata": {},
   "source": [
    "# Intuition surrounding leveraging gradients"
   ]
  },
  {
   "cell_type": "markdown",
   "metadata": {},
   "source": [
    "### Define an example function"
   ]
  },
  {
   "cell_type": "code",
   "execution_count": 52,
   "metadata": {},
   "outputs": [],
   "source": [
    "# Consider the following function...\n",
    "z = sp.symbols('z')\n",
    "sym_f = (z**2+1) + -sp.exp(z) - 20*sp.sin(z)\n",
    "f = sp.lambdify(z,sym_f,'numpy')\n",
    "df = sp.lambdify(z,sym_f.diff(),'numpy')\n",
    "ddf = sp.lambdify(z,sym_f.diff().diff(),'numpy')"
   ]
  },
  {
   "cell_type": "code",
   "execution_count": 53,
   "metadata": {},
   "outputs": [
    {
     "data": {
      "text/html": [
       "\n",
       "\n",
       "\n",
       "\n",
       "\n",
       "\n",
       "  <div class=\"bk-root\" id=\"5ee54f88-e04f-4ce0-be83-fdd7f8fb7338\"></div>\n"
      ]
     },
     "metadata": {},
     "output_type": "display_data"
    },
    {
     "data": {
      "application/javascript": [
       "(function(root) {\n",
       "  function embed_document(root) {\n",
       "    \n",
       "  var docs_json = {\"8e8b6929-f62e-4be0-a3d0-3e4636b7de29\":{\"roots\":{\"references\":[{\"attributes\":{},\"id\":\"1b9570d5-3873-4a7d-a99a-ce3c63b69579\",\"type\":\"BasicTicker\"},{\"attributes\":{\"source\":{\"id\":\"6e8faef0-78ca-4601-88c7-5ba3a7241d7a\",\"type\":\"ColumnDataSource\"}},\"id\":\"f2817369-d0e2-43a1-8b43-d5ffed2c4183\",\"type\":\"CDSView\"},{\"attributes\":{},\"id\":\"a6dea82b-8acd-42d9-8e58-a15ade8aa950\",\"type\":\"BasicTicker\"},{\"attributes\":{},\"id\":\"9319e7b7-2ba2-4eac-83b1-c312c76af5c2\",\"type\":\"BasicTickFormatter\"},{\"attributes\":{},\"id\":\"ff4468ef-61cd-4a00-8258-3e7f5f73bb84\",\"type\":\"SaveTool\"},{\"attributes\":{\"formatter\":{\"id\":\"9319e7b7-2ba2-4eac-83b1-c312c76af5c2\",\"type\":\"BasicTickFormatter\"},\"plot\":{\"id\":\"e55e4454-c5c1-4d2b-8e57-0dc5b1a13e97\",\"subtype\":\"Figure\",\"type\":\"Plot\"},\"ticker\":{\"id\":\"1b9570d5-3873-4a7d-a99a-ce3c63b69579\",\"type\":\"BasicTicker\"}},\"id\":\"2b7a88ff-444e-42c2-aa4f-c36d0fe5641b\",\"type\":\"LinearAxis\"},{\"attributes\":{\"bottom_units\":\"screen\",\"fill_alpha\":{\"value\":0.5},\"fill_color\":{\"value\":\"lightgrey\"},\"left_units\":\"screen\",\"level\":\"overlay\",\"line_alpha\":{\"value\":1.0},\"line_color\":{\"value\":\"black\"},\"line_dash\":[4,4],\"line_width\":{\"value\":2},\"plot\":null,\"render_mode\":\"css\",\"right_units\":\"screen\",\"top_units\":\"screen\"},\"id\":\"3673e446-ad60-40be-8846-e67f66828f83\",\"type\":\"BoxAnnotation\"},{\"attributes\":{\"dimension\":1,\"plot\":{\"id\":\"e55e4454-c5c1-4d2b-8e57-0dc5b1a13e97\",\"subtype\":\"Figure\",\"type\":\"Plot\"},\"ticker\":{\"id\":\"1b9570d5-3873-4a7d-a99a-ce3c63b69579\",\"type\":\"BasicTicker\"}},\"id\":\"e7f853d4-8299-48fa-8b8f-c03b8cabd668\",\"type\":\"Grid\"},{\"attributes\":{},\"id\":\"a55f7f46-f123-455e-9d0e-af32cbb15384\",\"type\":\"PanTool\"},{\"attributes\":{\"data_source\":{\"id\":\"6e8faef0-78ca-4601-88c7-5ba3a7241d7a\",\"type\":\"ColumnDataSource\"},\"glyph\":{\"id\":\"4499cb97-3be6-4f09-a975-86d98386bdd0\",\"type\":\"Line\"},\"hover_glyph\":null,\"muted_glyph\":null,\"nonselection_glyph\":{\"id\":\"1f3f35f1-a075-4ede-9516-32d4e696bc36\",\"type\":\"Line\"},\"selection_glyph\":null,\"view\":{\"id\":\"f2817369-d0e2-43a1-8b43-d5ffed2c4183\",\"type\":\"CDSView\"}},\"id\":\"d814c0c1-b696-4b3e-a70b-c0bdff3d5794\",\"type\":\"GlyphRenderer\"},{\"attributes\":{\"overlay\":{\"id\":\"3673e446-ad60-40be-8846-e67f66828f83\",\"type\":\"BoxAnnotation\"}},\"id\":\"b3ac60c2-3400-4fcd-89a0-453c6c3ccda5\",\"type\":\"BoxZoomTool\"},{\"attributes\":{\"active_drag\":\"auto\",\"active_inspect\":\"auto\",\"active_multi\":null,\"active_scroll\":\"auto\",\"active_tap\":\"auto\",\"tools\":[{\"id\":\"a55f7f46-f123-455e-9d0e-af32cbb15384\",\"type\":\"PanTool\"},{\"id\":\"729ff321-ab54-4755-b7d1-c8e53f95dafc\",\"type\":\"WheelZoomTool\"},{\"id\":\"b3ac60c2-3400-4fcd-89a0-453c6c3ccda5\",\"type\":\"BoxZoomTool\"},{\"id\":\"ff4468ef-61cd-4a00-8258-3e7f5f73bb84\",\"type\":\"SaveTool\"},{\"id\":\"6fa135e3-600a-4cba-9c3b-d79f0c2c5e0f\",\"type\":\"ResetTool\"},{\"id\":\"f5065b4d-ee8c-48d7-8b2a-074ddc48c3a7\",\"type\":\"HelpTool\"}]},\"id\":\"24e00576-ada9-4017-824b-d847a85d5b6d\",\"type\":\"Toolbar\"},{\"attributes\":{},\"id\":\"75101a61-5a69-43d4-87b4-07563ea45b3f\",\"type\":\"BasicTickFormatter\"},{\"attributes\":{\"plot\":null,\"text\":\"\"},\"id\":\"8a174939-9474-4b41-9c39-fe61942672cf\",\"type\":\"Title\"},{\"attributes\":{\"plot\":{\"id\":\"e55e4454-c5c1-4d2b-8e57-0dc5b1a13e97\",\"subtype\":\"Figure\",\"type\":\"Plot\"},\"ticker\":{\"id\":\"a6dea82b-8acd-42d9-8e58-a15ade8aa950\",\"type\":\"BasicTicker\"}},\"id\":\"1621f25d-5a1b-4223-853e-653608bb083c\",\"type\":\"Grid\"},{\"attributes\":{\"below\":[{\"id\":\"769c9757-30d3-45b1-bcd3-7d4666b64190\",\"type\":\"LinearAxis\"}],\"left\":[{\"id\":\"2b7a88ff-444e-42c2-aa4f-c36d0fe5641b\",\"type\":\"LinearAxis\"}],\"plot_height\":300,\"plot_width\":700,\"renderers\":[{\"id\":\"769c9757-30d3-45b1-bcd3-7d4666b64190\",\"type\":\"LinearAxis\"},{\"id\":\"1621f25d-5a1b-4223-853e-653608bb083c\",\"type\":\"Grid\"},{\"id\":\"2b7a88ff-444e-42c2-aa4f-c36d0fe5641b\",\"type\":\"LinearAxis\"},{\"id\":\"e7f853d4-8299-48fa-8b8f-c03b8cabd668\",\"type\":\"Grid\"},{\"id\":\"3673e446-ad60-40be-8846-e67f66828f83\",\"type\":\"BoxAnnotation\"},{\"id\":\"d814c0c1-b696-4b3e-a70b-c0bdff3d5794\",\"type\":\"GlyphRenderer\"}],\"title\":{\"id\":\"8a174939-9474-4b41-9c39-fe61942672cf\",\"type\":\"Title\"},\"toolbar\":{\"id\":\"24e00576-ada9-4017-824b-d847a85d5b6d\",\"type\":\"Toolbar\"},\"x_range\":{\"id\":\"a0207b22-ab64-4253-b54d-02c2a78e6632\",\"type\":\"DataRange1d\"},\"x_scale\":{\"id\":\"297cff54-0a44-4df1-8eba-30dca1144987\",\"type\":\"LinearScale\"},\"y_range\":{\"id\":\"5f5fa990-5087-41dc-a9a2-06fc0adf4575\",\"type\":\"DataRange1d\"},\"y_scale\":{\"id\":\"30226ff9-495d-4470-86e2-0d1c60bbdbb5\",\"type\":\"LinearScale\"}},\"id\":\"e55e4454-c5c1-4d2b-8e57-0dc5b1a13e97\",\"subtype\":\"Figure\",\"type\":\"Plot\"},{\"attributes\":{},\"id\":\"c5c47711-6633-4416-b8c6-38b82d2b61b3\",\"type\":\"Selection\"},{\"attributes\":{\"callback\":null},\"id\":\"5f5fa990-5087-41dc-a9a2-06fc0adf4575\",\"type\":\"DataRange1d\"},{\"attributes\":{\"formatter\":{\"id\":\"75101a61-5a69-43d4-87b4-07563ea45b3f\",\"type\":\"BasicTickFormatter\"},\"plot\":{\"id\":\"e55e4454-c5c1-4d2b-8e57-0dc5b1a13e97\",\"subtype\":\"Figure\",\"type\":\"Plot\"},\"ticker\":{\"id\":\"a6dea82b-8acd-42d9-8e58-a15ade8aa950\",\"type\":\"BasicTicker\"}},\"id\":\"769c9757-30d3-45b1-bcd3-7d4666b64190\",\"type\":\"LinearAxis\"},{\"attributes\":{\"callback\":null},\"id\":\"a0207b22-ab64-4253-b54d-02c2a78e6632\",\"type\":\"DataRange1d\"},{\"attributes\":{\"callback\":null,\"data\":{\"x\":{\"__ndarray__\":\"AAAAAAAAJMDNzMzMzMwjwJqZmZmZmSPAZ2ZmZmZmI8A0MzMzMzMjwAEAAAAAACPAzszMzMzMIsCbmZmZmZkiwGhmZmZmZiLANTMzMzMzIsACAAAAAAAiwM/MzMzMzCHAnJmZmZmZIcBpZmZmZmYhwDYzMzMzMyHAAwAAAAAAIcDQzMzMzMwgwJ2ZmZmZmSDAamZmZmZmIMA3MzMzMzMgwAQAAAAAACDAopmZmZmZH8A8MzMzMzMfwNbMzMzMzB7AcGZmZmZmHsAKAAAAAAAewKSZmZmZmR3APjMzMzMzHcDYzMzMzMwcwHJmZmZmZhzADAAAAAAAHMCmmZmZmZkbwEAzMzMzMxvA2szMzMzMGsB0ZmZmZmYawA4AAAAAABrAqJmZmZmZGcBCMzMzMzMZwNzMzMzMzBjAdmZmZmZmGMAQAAAAAAAYwKqZmZmZmRfARDMzMzMzF8DezMzMzMwWwHhmZmZmZhbAEgAAAAAAFsCsmZmZmZkVwEYzMzMzMxXA4MzMzMzMFMB6ZmZmZmYUwBQAAAAAABTArpmZmZmZE8BIMzMzMzMTwOLMzMzMzBLAfGZmZmZmEsAWAAAAAAASwLCZmZmZmRHASjMzMzMzEcDkzMzMzMwQwH5mZmZmZhDAGAAAAAAAEMBkMzMzMzMPwJhmZmZmZg7AzJmZmZmZDcAAzczMzMwMwDQAAAAAAAzAaDMzMzMzC8CcZmZmZmYKwNCZmZmZmQnABM3MzMzMCMA4AAAAAAAIwGwzMzMzMwfAoGZmZmZmBsDUmZmZmZkFwAjNzMzMzATAPAAAAAAABMBwMzMzMzMDwKRmZmZmZgLA2JmZmZmZAcAMzczMzMwAwEAAAAAAAADA6GZmZmZm/r9QzczMzMz8v7gzMzMzM/u/IJqZmZmZ+b+IAAAAAAD4v/BmZmZmZva/WM3MzMzM9L/AMzMzMzPzvyiamZmZmfG/kAAAAAAA8L/wzczMzMzsv8CamZmZmem/kGdmZmZm5r9gNDMzMzPjvzABAAAAAOC/AJyZmZmZ2b+gNTMzMzPTv4CemZmZmcm/gKOZmZmZub8AAAAAAAAkvYCPmZmZmbk/gJSZmZmZyT+gMDMzMzPTPwCXmZmZmdk/YP3/////3z/gMTMzMzPjPxBlZmZmZuY/QJiZmZmZ6T9wy8zMzMzsP6D+/////+8/6JiZmZmZ8T+AMjMzMzPzPxjMzMzMzPQ/sGVmZmZm9j9I///////3P+CYmZmZmfk/eDIzMzMz+z8QzMzMzMz8P6hlZmZmZv4/QP///////z9szMzMzMwAQDiZmZmZmQFABGZmZmZmAkDQMjMzMzMDQJz//////wNAaMzMzMzMBEA0mZmZmZkFQABmZmZmZgZAzDIzMzMzB0CY//////8HQGTMzMzMzAhAMJmZmZmZCUD8ZWZmZmYKQMgyMzMzMwtAlP//////C0BgzMzMzMwMQCyZmZmZmQ1A+GVmZmZmDkDEMjMzMzMPQA==\",\"dtype\":\"float64\",\"shape\":[140]},\"y\":{\"__ndarray__\":\"8C0ma6aHVkCaBwGo/XZWQJU9BpJ2bVZAgKGrCOdpVkCQ0D/uGGtWQOVAJUHNb1ZALK/KS792VkAJxDnjp35WQPF476tAhlZA4q2hXEeMVkATr5r2gI9WQEYMbuu8jlZAHtj5J9iIVkCgsev8v3xWQLUuWd10aVZAqnpm7AxOVkDuK3NTtilWQBo601q5+1VAISy3P3rDVUAafZHCeoBVQG4f/mlbMlVAmh3ydtzYVEAysMKH3nNUQL62YuhiA1RAskEJj4uHU0A+qUnFmgBTQHZke37yblJAaVMjXRPTUUAWWN9pmy1RQFvcHX9Ef1BAKXdW28SRT0ByFaq9wRZOQBQtGvOBj0xADOcjoS3+SkBRLV9ADWVJQO9yTMWDxkdAUhVfhQglRkDUn+HnIINEQMKP1vJZ40JAg0RUxEFIQUADRRkSwmg/QBAwcAFpVDxA6CzwQU1YOUBQF+7NEnk2QAp8KM8guzNAlKWTWpYiMUD4UdHIf2YtQCAG3Q4b4ShAxHSvcBS7JEAGiGX3p/kgQOR+VslUQhtATISRNfxpFUDgCXfgFG8QQFjp/xPWqAhAGPUWpYI1AkAgUar1OgP7PwCEH7YHDfU/UN0NTyZz8j8w2DXlhxjzPwCX0gye2PY/WEaG/reH/T/YauUBuXkDQGwVhv6acQlApinv7TJGEECqWIroPVQUQCoffpEJ0RhARMBbtMipHUDtJmbbemUhQELwjS5CECRAvwNTcQrLJkA7U3zxk4spQHLzL0epRyxAHXrfUTn1LkDi9odqOMUwQM/lj7np/jFAaEnh4ikjM0C4zhArtS00QKUHtJyVGjVAU/T1DC3mNUDH+488Po02QIaRe/30DDdAzuAqSO1iN0DZPcYtOY03QArdyZdlijdAx/VjyH1ZN0DmLReSDfo2QMHJX0AibDZAHj1jLkqwNUAYywAMk8c0QPBC5tSGszNAzvSMgCd2MkCFKjB16RExQBHSvpVZEy9AN8t23WrBK0BwUVpyRDUoQMLr5xjGdiRAY7NyJlyOIEC2i7Pj0AkZQOM2091TxxBAwcgJuozQAEAAAAAAAEBqPcCqnDcWvADAbm8NG4GeEMDY3IloWa4YwL/e+76JPSDAC6Nyenb5I8DJpmszi4InwLgsM1Tz0CrAuK20+IXdLcAiVfCi7lAwwIMyyCo2jDHAUs+IxkmeMsCERAidWYUzwEy00yseQDTACDrzsd/NNMCmtY+afC41wBk1zeJuYjXA/swDetBqNcAzH3ufXkk1wALt40R8ADXAU0j4gDOTNMCl2uchNgU0wBUqfHPdWjPA9QorUSmZMsDcUpagvsUxwHrPOlXl5jDAnJxJIoYDMMBsZaYHUEYuwD+tEZnbmyzAptvM0icZK8BNhSgh3dApwGy/finR1ijAVTcVNAZAKMCx4SzbrCIowIgz8IgolijAUjGxVRezKcDCCcffXZMrwFSTbb43Ui7Agvm0nCYGMcCtkwJ8528zwA==\",\"dtype\":\"float64\",\"shape\":[140]}},\"selected\":{\"id\":\"c5c47711-6633-4416-b8c6-38b82d2b61b3\",\"type\":\"Selection\"},\"selection_policy\":{\"id\":\"c10013c1-a8b2-4435-915c-a2f3ac8d2907\",\"type\":\"UnionRenderers\"}},\"id\":\"6e8faef0-78ca-4601-88c7-5ba3a7241d7a\",\"type\":\"ColumnDataSource\"},{\"attributes\":{\"line_color\":\"#1f77b4\",\"line_width\":3,\"x\":{\"field\":\"x\"},\"y\":{\"field\":\"y\"}},\"id\":\"4499cb97-3be6-4f09-a975-86d98386bdd0\",\"type\":\"Line\"},{\"attributes\":{},\"id\":\"30226ff9-495d-4470-86e2-0d1c60bbdbb5\",\"type\":\"LinearScale\"},{\"attributes\":{\"line_alpha\":0.1,\"line_color\":\"#1f77b4\",\"line_width\":3,\"x\":{\"field\":\"x\"},\"y\":{\"field\":\"y\"}},\"id\":\"1f3f35f1-a075-4ede-9516-32d4e696bc36\",\"type\":\"Line\"},{\"attributes\":{},\"id\":\"729ff321-ab54-4755-b7d1-c8e53f95dafc\",\"type\":\"WheelZoomTool\"},{\"attributes\":{},\"id\":\"6fa135e3-600a-4cba-9c3b-d79f0c2c5e0f\",\"type\":\"ResetTool\"},{\"attributes\":{},\"id\":\"c10013c1-a8b2-4435-915c-a2f3ac8d2907\",\"type\":\"UnionRenderers\"},{\"attributes\":{},\"id\":\"f5065b4d-ee8c-48d7-8b2a-074ddc48c3a7\",\"type\":\"HelpTool\"},{\"attributes\":{},\"id\":\"297cff54-0a44-4df1-8eba-30dca1144987\",\"type\":\"LinearScale\"}],\"root_ids\":[\"e55e4454-c5c1-4d2b-8e57-0dc5b1a13e97\"]},\"title\":\"Bokeh Application\",\"version\":\"0.13.0\"}};\n",
       "  var render_items = [{\"docid\":\"8e8b6929-f62e-4be0-a3d0-3e4636b7de29\",\"roots\":{\"e55e4454-c5c1-4d2b-8e57-0dc5b1a13e97\":\"5ee54f88-e04f-4ce0-be83-fdd7f8fb7338\"}}];\n",
       "  root.Bokeh.embed.embed_items_notebook(docs_json, render_items);\n",
       "\n",
       "  }\n",
       "  if (root.Bokeh !== undefined) {\n",
       "    embed_document(root);\n",
       "  } else {\n",
       "    var attempts = 0;\n",
       "    var timer = setInterval(function(root) {\n",
       "      if (root.Bokeh !== undefined) {\n",
       "        embed_document(root);\n",
       "        clearInterval(timer);\n",
       "      }\n",
       "      attempts++;\n",
       "      if (attempts > 100) {\n",
       "        console.log(\"Bokeh: ERROR: Unable to run BokehJS code because BokehJS library is missing\")\n",
       "        clearInterval(timer);\n",
       "      }\n",
       "    }, 10, root)\n",
       "  }\n",
       "})(window);"
      ],
      "application/vnd.bokehjs_exec.v0+json": ""
     },
     "metadata": {
      "application/vnd.bokehjs_exec.v0+json": {
       "id": "e55e4454-c5c1-4d2b-8e57-0dc5b1a13e97"
      }
     },
     "output_type": "display_data"
    }
   ],
   "source": [
    "x = np.arange(-10,4,.1) # Generate a numerical range\n",
    "p = figure(height=300,width=700)\n",
    "p.line(x,f(x),line_width=3)\n",
    "show(p)"
   ]
  },
  {
   "cell_type": "markdown",
   "metadata": {},
   "source": [
    "## Newton-Raphson Method\n",
    "\n",
    "\"Newton–Raphson method\" is a method for finding successively better approximations to the roots (or zeroes) of a real-valued function ([Wiki](https://en.wikipedia.org/wiki/Newton%27s_method)).\n",
    "\n",
    "Goal is to ﬁnd the $x^*$ to minimize $f(x)$.\n",
    "\n",
    "As we seen, if $f(x)$ is convex, we need to located $x^*$ such that $f′ (x^∗) = 0$\n",
    "\n",
    "Let $g(x) = f′(x)$. Take Taylor expansion about the optimum solution $x^∗$ (see reading on what a Taylor series expansion is but all in all it's just an polynomial approximation for the shape of a function at a given point):\n",
    "\n",
    "\n",
    "<br>\n",
    "<br>\n",
    "\n",
    "$$g(x^∗ ) = g(x) + (x^∗ − x)g'(x) + \\text{“negligible” higher order terms} $$\n",
    "\n",
    "<br>\n",
    "<br>\n",
    "\n",
    "Because $g(x ∗ ) = f′(x^∗ ) = 0$,\n",
    "\n",
    "<br>\n",
    "<br>\n",
    "\n",
    "$$ 0 \\approx g(x) + (x^∗ − x)g′(x) \\to x^∗ \\approx x − \\frac{h(x)}{h′(x)} = x - \\frac{f'(x)}{f′′(x)} $$\n",
    "\n",
    "<br>\n",
    "<br>"
   ]
  },
  {
   "cell_type": "markdown",
   "metadata": {},
   "source": [
    "![wikipedia_nf_gif](https://upload.wikimedia.org/wikipedia/commons/e/e0/NewtonIteration_Ani.gif \"Newton-Ralphson\")"
   ]
  },
  {
   "cell_type": "code",
   "execution_count": 56,
   "metadata": {},
   "outputs": [
    {
     "name": "stdout",
     "output_type": "stream",
     "text": [
      "current: -1, proposed: -1.867\n",
      "current: -1.867, proposed: -1.754\n",
      "current: -1.754, proposed: -1.756\n",
      "Converged at -1.756 (Maxima)\n"
     ]
    }
   ],
   "source": [
    "x = -1 # Starting value\n",
    "on = True\n",
    "while on:\n",
    "    new_x = x - (df(x)/ddf(x))\n",
    "    if np.isclose(new_x,x,.001):\n",
    "        if ddf(new_x)>0:\n",
    "            ctype = \"Minima\"\n",
    "        elif ddf(new_x)<0: \n",
    "            ctype = \"Maxima\"\n",
    "        else:\n",
    "            ctype = 'Inflection'\n",
    "        print(f\"Converged at {round(x,3)} ({ctype})\")\n",
    "        on = False\n",
    "    else:\n",
    "        print(f'current: {round(x,3)}, proposed: {round(new_x,3)}')\n",
    "        x = new_x"
   ]
  },
  {
   "cell_type": "code",
   "execution_count": 57,
   "metadata": {},
   "outputs": [
    {
     "data": {
      "text/html": [
       "\n",
       "\n",
       "\n",
       "\n",
       "\n",
       "\n",
       "  <div class=\"bk-root\" id=\"e5587ad1-8ac9-4758-ab22-536fe2eae1fb\"></div>\n"
      ]
     },
     "metadata": {},
     "output_type": "display_data"
    },
    {
     "data": {
      "application/javascript": [
       "(function(root) {\n",
       "  function embed_document(root) {\n",
       "    \n",
       "  var docs_json = {\"f1f2c209-da28-4e57-b549-06431de454d4\":{\"roots\":{\"references\":[{\"attributes\":{},\"id\":\"2bf71f55-edf6-4acc-be97-fb9119dd271a\",\"type\":\"Selection\"},{\"attributes\":{},\"id\":\"633b4a90-efbc-474b-beac-cedc37f34d18\",\"type\":\"BasicTicker\"},{\"attributes\":{},\"id\":\"d6457d67-553b-4afb-804a-e7e08828c666\",\"type\":\"WheelZoomTool\"},{\"attributes\":{\"label\":{\"value\":\"f(x)\"},\"renderers\":[{\"id\":\"8e891aa7-a84a-4611-ba57-0b937cef372c\",\"type\":\"GlyphRenderer\"}]},\"id\":\"eb0b0ba2-f31b-40a4-8905-d230cf05d740\",\"type\":\"LegendItem\"},{\"attributes\":{\"axis_label\":\"f(x)\",\"formatter\":{\"id\":\"11c9dfd9-159a-4a12-bb0e-7ff784d1c592\",\"type\":\"BasicTickFormatter\"},\"plot\":{\"id\":\"a740f324-c78f-4fa8-8251-2d415b9f97d5\",\"subtype\":\"Figure\",\"type\":\"Plot\"},\"ticker\":{\"id\":\"633b4a90-efbc-474b-beac-cedc37f34d18\",\"type\":\"BasicTicker\"}},\"id\":\"c2b35829-d481-4cc0-b5a6-48d86b7839cb\",\"type\":\"LinearAxis\"},{\"attributes\":{\"source\":{\"id\":\"67e3d8ad-6a2e-4604-add6-9ee707073055\",\"type\":\"ColumnDataSource\"}},\"id\":\"6faade0e-ef64-404c-8af0-01dd1901f34a\",\"type\":\"CDSView\"},{\"attributes\":{\"label\":{\"value\":\"proposed x\"},\"renderers\":[{\"id\":\"82bc6226-178f-4661-a63f-92e92cd4bd43\",\"type\":\"GlyphRenderer\"}]},\"id\":\"9df29915-ce5d-45f3-9808-15359b76a01a\",\"type\":\"LegendItem\"},{\"attributes\":{\"callback\":null,\"data\":{\"x\":{\"__ndarray__\":\"AAAAAAAAJMDNzMzMzMwjwJqZmZmZmSPAZ2ZmZmZmI8A0MzMzMzMjwAEAAAAAACPAzszMzMzMIsCbmZmZmZkiwGhmZmZmZiLANTMzMzMzIsACAAAAAAAiwM/MzMzMzCHAnJmZmZmZIcBpZmZmZmYhwDYzMzMzMyHAAwAAAAAAIcDQzMzMzMwgwJ2ZmZmZmSDAamZmZmZmIMA3MzMzMzMgwAQAAAAAACDAopmZmZmZH8A8MzMzMzMfwNbMzMzMzB7AcGZmZmZmHsAKAAAAAAAewKSZmZmZmR3APjMzMzMzHcDYzMzMzMwcwHJmZmZmZhzADAAAAAAAHMCmmZmZmZkbwEAzMzMzMxvA2szMzMzMGsB0ZmZmZmYawA4AAAAAABrAqJmZmZmZGcBCMzMzMzMZwNzMzMzMzBjAdmZmZmZmGMAQAAAAAAAYwKqZmZmZmRfARDMzMzMzF8DezMzMzMwWwHhmZmZmZhbAEgAAAAAAFsCsmZmZmZkVwEYzMzMzMxXA4MzMzMzMFMB6ZmZmZmYUwBQAAAAAABTArpmZmZmZE8BIMzMzMzMTwOLMzMzMzBLAfGZmZmZmEsAWAAAAAAASwLCZmZmZmRHASjMzMzMzEcDkzMzMzMwQwH5mZmZmZhDAGAAAAAAAEMBkMzMzMzMPwJhmZmZmZg7AzJmZmZmZDcAAzczMzMwMwDQAAAAAAAzAaDMzMzMzC8CcZmZmZmYKwNCZmZmZmQnABM3MzMzMCMA4AAAAAAAIwGwzMzMzMwfAoGZmZmZmBsDUmZmZmZkFwAjNzMzMzATAPAAAAAAABMBwMzMzMzMDwKRmZmZmZgLA2JmZmZmZAcAMzczMzMwAwEAAAAAAAADA6GZmZmZm/r9QzczMzMz8v7gzMzMzM/u/IJqZmZmZ+b+IAAAAAAD4v/BmZmZmZva/WM3MzMzM9L/AMzMzMzPzvyiamZmZmfG/kAAAAAAA8L/wzczMzMzsv8CamZmZmem/kGdmZmZm5r9gNDMzMzPjvzABAAAAAOC/AJyZmZmZ2b+gNTMzMzPTv4CemZmZmcm/gKOZmZmZub8AAAAAAAAkvYCPmZmZmbk/gJSZmZmZyT+gMDMzMzPTPwCXmZmZmdk/YP3/////3z/gMTMzMzPjPxBlZmZmZuY/QJiZmZmZ6T9wy8zMzMzsP6D+/////+8/6JiZmZmZ8T+AMjMzMzPzPxjMzMzMzPQ/sGVmZmZm9j9I///////3P+CYmZmZmfk/eDIzMzMz+z8QzMzMzMz8P6hlZmZmZv4/QP///////z9szMzMzMwAQDiZmZmZmQFABGZmZmZmAkDQMjMzMzMDQJz//////wNAaMzMzMzMBEA0mZmZmZkFQABmZmZmZgZAzDIzMzMzB0CY//////8HQGTMzMzMzAhAMJmZmZmZCUD8ZWZmZmYKQMgyMzMzMwtAlP//////C0BgzMzMzMwMQCyZmZmZmQ1A+GVmZmZmDkDEMjMzMzMPQA==\",\"dtype\":\"float64\",\"shape\":[140]},\"y\":{\"__ndarray__\":\"8C0ma6aHVkCaBwGo/XZWQJU9BpJ2bVZAgKGrCOdpVkCQ0D/uGGtWQOVAJUHNb1ZALK/KS792VkAJxDnjp35WQPF476tAhlZA4q2hXEeMVkATr5r2gI9WQEYMbuu8jlZAHtj5J9iIVkCgsev8v3xWQLUuWd10aVZAqnpm7AxOVkDuK3NTtilWQBo601q5+1VAISy3P3rDVUAafZHCeoBVQG4f/mlbMlVAmh3ydtzYVEAysMKH3nNUQL62YuhiA1RAskEJj4uHU0A+qUnFmgBTQHZke37yblJAaVMjXRPTUUAWWN9pmy1RQFvcHX9Ef1BAKXdW28SRT0ByFaq9wRZOQBQtGvOBj0xADOcjoS3+SkBRLV9ADWVJQO9yTMWDxkdAUhVfhQglRkDUn+HnIINEQMKP1vJZ40JAg0RUxEFIQUADRRkSwmg/QBAwcAFpVDxA6CzwQU1YOUBQF+7NEnk2QAp8KM8guzNAlKWTWpYiMUD4UdHIf2YtQCAG3Q4b4ShAxHSvcBS7JEAGiGX3p/kgQOR+VslUQhtATISRNfxpFUDgCXfgFG8QQFjp/xPWqAhAGPUWpYI1AkAgUar1OgP7PwCEH7YHDfU/UN0NTyZz8j8w2DXlhxjzPwCX0gye2PY/WEaG/reH/T/YauUBuXkDQGwVhv6acQlApinv7TJGEECqWIroPVQUQCoffpEJ0RhARMBbtMipHUDtJmbbemUhQELwjS5CECRAvwNTcQrLJkA7U3zxk4spQHLzL0epRyxAHXrfUTn1LkDi9odqOMUwQM/lj7np/jFAaEnh4ikjM0C4zhArtS00QKUHtJyVGjVAU/T1DC3mNUDH+488Po02QIaRe/30DDdAzuAqSO1iN0DZPcYtOY03QArdyZdlijdAx/VjyH1ZN0DmLReSDfo2QMHJX0AibDZAHj1jLkqwNUAYywAMk8c0QPBC5tSGszNAzvSMgCd2MkCFKjB16RExQBHSvpVZEy9AN8t23WrBK0BwUVpyRDUoQMLr5xjGdiRAY7NyJlyOIEC2i7Pj0AkZQOM2091TxxBAwcgJuozQAEAAAAAAAEBqPcCqnDcWvADAbm8NG4GeEMDY3IloWa4YwL/e+76JPSDAC6Nyenb5I8DJpmszi4InwLgsM1Tz0CrAuK20+IXdLcAiVfCi7lAwwIMyyCo2jDHAUs+IxkmeMsCERAidWYUzwEy00yseQDTACDrzsd/NNMCmtY+afC41wBk1zeJuYjXA/swDetBqNcAzH3ufXkk1wALt40R8ADXAU0j4gDOTNMCl2uchNgU0wBUqfHPdWjPA9QorUSmZMsDcUpagvsUxwHrPOlXl5jDAnJxJIoYDMMBsZaYHUEYuwD+tEZnbmyzAptvM0icZK8BNhSgh3dApwGy/finR1ijAVTcVNAZAKMCx4SzbrCIowIgz8IgolijAUjGxVRezKcDCCcffXZMrwFSTbb43Ui7Agvm0nCYGMcCtkwJ8528zwA==\",\"dtype\":\"float64\",\"shape\":[140]}},\"selected\":{\"id\":\"9ee1a4be-5438-4789-b7ab-ddc86e3bcceb\",\"type\":\"Selection\"},\"selection_policy\":{\"id\":\"6bc25d52-7829-461e-9d47-244a26b7a8c7\",\"type\":\"UnionRenderers\"}},\"id\":\"c8a654f8-085e-4148-9788-1e404845ce06\",\"type\":\"ColumnDataSource\"},{\"attributes\":{\"callback\":null,\"data\":{},\"selected\":{\"id\":\"2bf71f55-edf6-4acc-be97-fb9119dd271a\",\"type\":\"Selection\"},\"selection_policy\":{\"id\":\"c381d53a-136f-49be-855f-4adc284bf286\",\"type\":\"UnionRenderers\"}},\"id\":\"67e3d8ad-6a2e-4604-add6-9ee707073055\",\"type\":\"ColumnDataSource\"},{\"attributes\":{},\"id\":\"6bc25d52-7829-461e-9d47-244a26b7a8c7\",\"type\":\"UnionRenderers\"},{\"attributes\":{\"below\":[{\"id\":\"e6147266-49c7-4560-8ffe-73023d1f3b9c\",\"type\":\"LinearAxis\"}],\"left\":[{\"id\":\"c2b35829-d481-4cc0-b5a6-48d86b7839cb\",\"type\":\"LinearAxis\"}],\"plot_height\":300,\"plot_width\":700,\"renderers\":[{\"id\":\"e6147266-49c7-4560-8ffe-73023d1f3b9c\",\"type\":\"LinearAxis\"},{\"id\":\"dd50cfe5-10de-4c6c-95d7-c6b850db5669\",\"type\":\"Grid\"},{\"id\":\"c2b35829-d481-4cc0-b5a6-48d86b7839cb\",\"type\":\"LinearAxis\"},{\"id\":\"6639d5ed-81dd-47d4-abc6-6d52040600bf\",\"type\":\"Grid\"},{\"id\":\"390d98df-d1d7-455e-9279-a3b14a14b6c7\",\"type\":\"BoxAnnotation\"},{\"id\":\"061e2b5b-3909-4a61-9594-a42c39f128a5\",\"type\":\"Legend\"},{\"id\":\"8e891aa7-a84a-4611-ba57-0b937cef372c\",\"type\":\"GlyphRenderer\"},{\"id\":\"82bc6226-178f-4661-a63f-92e92cd4bd43\",\"type\":\"GlyphRenderer\"}],\"title\":{\"id\":\"bc0aed54-57fc-462e-94bc-6fff2052c881\",\"type\":\"Title\"},\"toolbar\":{\"id\":\"66c605a5-b9b2-4267-81ea-83f12c07b2c6\",\"type\":\"Toolbar\"},\"x_range\":{\"id\":\"fe8a2868-cd93-4cf1-a20e-4a4003086acd\",\"type\":\"DataRange1d\"},\"x_scale\":{\"id\":\"da4aaaba-6af9-4c57-8c93-dc0dfb1c2035\",\"type\":\"LinearScale\"},\"y_range\":{\"id\":\"f0c82441-f983-48de-9bde-d781213e264b\",\"type\":\"DataRange1d\"},\"y_scale\":{\"id\":\"8d51a6b7-2d0a-406c-bc92-c52f7d283f01\",\"type\":\"LinearScale\"}},\"id\":\"a740f324-c78f-4fa8-8251-2d415b9f97d5\",\"subtype\":\"Figure\",\"type\":\"Plot\"},{\"attributes\":{\"source\":{\"id\":\"c8a654f8-085e-4148-9788-1e404845ce06\",\"type\":\"ColumnDataSource\"}},\"id\":\"45e1c269-0811-4d2f-a1ab-b75f71a3f646\",\"type\":\"CDSView\"},{\"attributes\":{},\"id\":\"31cdbe56-c52d-419a-a30a-444d2f6ca673\",\"type\":\"PanTool\"},{\"attributes\":{\"axis_label\":\"x\",\"formatter\":{\"id\":\"a340e2d7-2419-4d4f-998a-64f3c10424dd\",\"type\":\"BasicTickFormatter\"},\"plot\":{\"id\":\"a740f324-c78f-4fa8-8251-2d415b9f97d5\",\"subtype\":\"Figure\",\"type\":\"Plot\"},\"ticker\":{\"id\":\"b3eebe74-a650-455b-9e2e-02c6ea1ddb87\",\"type\":\"BasicTicker\"}},\"id\":\"e6147266-49c7-4560-8ffe-73023d1f3b9c\",\"type\":\"LinearAxis\"},{\"attributes\":{\"callback\":null},\"id\":\"f0c82441-f983-48de-9bde-d781213e264b\",\"type\":\"DataRange1d\"},{\"attributes\":{\"line_alpha\":0.3,\"line_color\":\"#1f77b4\",\"line_width\":3,\"x\":{\"field\":\"x\"},\"y\":{\"field\":\"y\"}},\"id\":\"977b0f69-8902-4ad5-bb77-e6e868e3effa\",\"type\":\"Line\"},{\"attributes\":{\"dimension\":1,\"plot\":{\"id\":\"a740f324-c78f-4fa8-8251-2d415b9f97d5\",\"subtype\":\"Figure\",\"type\":\"Plot\"},\"ticker\":{\"id\":\"633b4a90-efbc-474b-beac-cedc37f34d18\",\"type\":\"BasicTicker\"}},\"id\":\"6639d5ed-81dd-47d4-abc6-6d52040600bf\",\"type\":\"Grid\"},{\"attributes\":{\"items\":[{\"id\":\"eb0b0ba2-f31b-40a4-8905-d230cf05d740\",\"type\":\"LegendItem\"},{\"id\":\"9df29915-ce5d-45f3-9808-15359b76a01a\",\"type\":\"LegendItem\"}],\"plot\":{\"id\":\"a740f324-c78f-4fa8-8251-2d415b9f97d5\",\"subtype\":\"Figure\",\"type\":\"Plot\"}},\"id\":\"061e2b5b-3909-4a61-9594-a42c39f128a5\",\"type\":\"Legend\"},{\"attributes\":{},\"id\":\"11c9dfd9-159a-4a12-bb0e-7ff784d1c592\",\"type\":\"BasicTickFormatter\"},{\"attributes\":{\"data_source\":{\"id\":\"c8a654f8-085e-4148-9788-1e404845ce06\",\"type\":\"ColumnDataSource\"},\"glyph\":{\"id\":\"977b0f69-8902-4ad5-bb77-e6e868e3effa\",\"type\":\"Line\"},\"hover_glyph\":null,\"muted_glyph\":null,\"nonselection_glyph\":{\"id\":\"b3021c46-93da-4cb8-a63b-d568465b6a70\",\"type\":\"Line\"},\"selection_glyph\":null,\"view\":{\"id\":\"45e1c269-0811-4d2f-a1ab-b75f71a3f646\",\"type\":\"CDSView\"}},\"id\":\"8e891aa7-a84a-4611-ba57-0b937cef372c\",\"type\":\"GlyphRenderer\"},{\"attributes\":{\"plot\":null,\"text\":\"\"},\"id\":\"bc0aed54-57fc-462e-94bc-6fff2052c881\",\"type\":\"Title\"},{\"attributes\":{},\"id\":\"b6a777e9-c8ba-41b1-ac27-918967e94f46\",\"type\":\"HelpTool\"},{\"attributes\":{\"plot\":{\"id\":\"a740f324-c78f-4fa8-8251-2d415b9f97d5\",\"subtype\":\"Figure\",\"type\":\"Plot\"},\"ticker\":{\"id\":\"b3eebe74-a650-455b-9e2e-02c6ea1ddb87\",\"type\":\"BasicTicker\"}},\"id\":\"dd50cfe5-10de-4c6c-95d7-c6b850db5669\",\"type\":\"Grid\"},{\"attributes\":{\"bottom_units\":\"screen\",\"fill_alpha\":{\"value\":0.5},\"fill_color\":{\"value\":\"lightgrey\"},\"left_units\":\"screen\",\"level\":\"overlay\",\"line_alpha\":{\"value\":1.0},\"line_color\":{\"value\":\"black\"},\"line_dash\":[4,4],\"line_width\":{\"value\":2},\"plot\":null,\"render_mode\":\"css\",\"right_units\":\"screen\",\"top_units\":\"screen\"},\"id\":\"390d98df-d1d7-455e-9279-a3b14a14b6c7\",\"type\":\"BoxAnnotation\"},{\"attributes\":{},\"id\":\"3bc347d1-4169-4979-b7a4-f8d3cadf6448\",\"type\":\"ResetTool\"},{\"attributes\":{\"active_drag\":\"auto\",\"active_inspect\":\"auto\",\"active_multi\":null,\"active_scroll\":\"auto\",\"active_tap\":\"auto\",\"tools\":[{\"id\":\"31cdbe56-c52d-419a-a30a-444d2f6ca673\",\"type\":\"PanTool\"},{\"id\":\"d6457d67-553b-4afb-804a-e7e08828c666\",\"type\":\"WheelZoomTool\"},{\"id\":\"7766eae0-71c2-4b8a-bf35-4ac7f64983c1\",\"type\":\"BoxZoomTool\"},{\"id\":\"4988b5fe-d071-4722-837d-f7a2d5642136\",\"type\":\"SaveTool\"},{\"id\":\"3bc347d1-4169-4979-b7a4-f8d3cadf6448\",\"type\":\"ResetTool\"},{\"id\":\"b6a777e9-c8ba-41b1-ac27-918967e94f46\",\"type\":\"HelpTool\"}]},\"id\":\"66c605a5-b9b2-4267-81ea-83f12c07b2c6\",\"type\":\"Toolbar\"},{\"attributes\":{\"callback\":null},\"id\":\"fe8a2868-cd93-4cf1-a20e-4a4003086acd\",\"type\":\"DataRange1d\"},{\"attributes\":{\"overlay\":{\"id\":\"390d98df-d1d7-455e-9279-a3b14a14b6c7\",\"type\":\"BoxAnnotation\"}},\"id\":\"7766eae0-71c2-4b8a-bf35-4ac7f64983c1\",\"type\":\"BoxZoomTool\"},{\"attributes\":{},\"id\":\"4988b5fe-d071-4722-837d-f7a2d5642136\",\"type\":\"SaveTool\"},{\"attributes\":{},\"id\":\"a340e2d7-2419-4d4f-998a-64f3c10424dd\",\"type\":\"BasicTickFormatter\"},{\"attributes\":{},\"id\":\"9ee1a4be-5438-4789-b7ab-ddc86e3bcceb\",\"type\":\"Selection\"},{\"attributes\":{},\"id\":\"b3eebe74-a650-455b-9e2e-02c6ea1ddb87\",\"type\":\"BasicTicker\"},{\"attributes\":{\"line_alpha\":0.1,\"line_color\":\"#1f77b4\",\"line_width\":3,\"x\":{\"field\":\"x\"},\"y\":{\"field\":\"y\"}},\"id\":\"b3021c46-93da-4cb8-a63b-d568465b6a70\",\"type\":\"Line\"},{\"attributes\":{},\"id\":\"c381d53a-136f-49be-855f-4adc284bf286\",\"type\":\"UnionRenderers\"},{\"attributes\":{\"fill_alpha\":{\"value\":0.4},\"fill_color\":{\"value\":\"red\"},\"line_alpha\":{\"value\":0.4},\"line_color\":{\"value\":\"red\"},\"size\":{\"units\":\"screen\",\"value\":6},\"x\":{\"value\":-1.7561009433382118},\"y\":{\"value\":23.56877697462752}},\"id\":\"f6119dd8-3306-4f14-a8b4-851158686812\",\"type\":\"Circle\"},{\"attributes\":{\"fill_alpha\":{\"value\":0.1},\"fill_color\":{\"value\":\"#1f77b4\"},\"line_alpha\":{\"value\":0.1},\"line_color\":{\"value\":\"#1f77b4\"},\"size\":{\"units\":\"screen\",\"value\":6},\"x\":{\"value\":-1.7561009433382118},\"y\":{\"value\":23.56877697462752}},\"id\":\"806ba386-4ce5-426c-b714-529746f20de4\",\"type\":\"Circle\"},{\"attributes\":{\"data_source\":{\"id\":\"67e3d8ad-6a2e-4604-add6-9ee707073055\",\"type\":\"ColumnDataSource\"},\"glyph\":{\"id\":\"f6119dd8-3306-4f14-a8b4-851158686812\",\"type\":\"Circle\"},\"hover_glyph\":null,\"muted_glyph\":null,\"nonselection_glyph\":{\"id\":\"806ba386-4ce5-426c-b714-529746f20de4\",\"type\":\"Circle\"},\"selection_glyph\":null,\"view\":{\"id\":\"6faade0e-ef64-404c-8af0-01dd1901f34a\",\"type\":\"CDSView\"}},\"id\":\"82bc6226-178f-4661-a63f-92e92cd4bd43\",\"type\":\"GlyphRenderer\"},{\"attributes\":{},\"id\":\"8d51a6b7-2d0a-406c-bc92-c52f7d283f01\",\"type\":\"LinearScale\"},{\"attributes\":{},\"id\":\"da4aaaba-6af9-4c57-8c93-dc0dfb1c2035\",\"type\":\"LinearScale\"}],\"root_ids\":[\"a740f324-c78f-4fa8-8251-2d415b9f97d5\"]},\"title\":\"Bokeh Application\",\"version\":\"0.13.0\"}};\n",
       "  var render_items = [{\"docid\":\"f1f2c209-da28-4e57-b549-06431de454d4\",\"roots\":{\"a740f324-c78f-4fa8-8251-2d415b9f97d5\":\"e5587ad1-8ac9-4758-ab22-536fe2eae1fb\"}}];\n",
       "  root.Bokeh.embed.embed_items_notebook(docs_json, render_items);\n",
       "\n",
       "  }\n",
       "  if (root.Bokeh !== undefined) {\n",
       "    embed_document(root);\n",
       "  } else {\n",
       "    var attempts = 0;\n",
       "    var timer = setInterval(function(root) {\n",
       "      if (root.Bokeh !== undefined) {\n",
       "        embed_document(root);\n",
       "        clearInterval(timer);\n",
       "      }\n",
       "      attempts++;\n",
       "      if (attempts > 100) {\n",
       "        console.log(\"Bokeh: ERROR: Unable to run BokehJS code because BokehJS library is missing\")\n",
       "        clearInterval(timer);\n",
       "      }\n",
       "    }, 10, root)\n",
       "  }\n",
       "})(window);"
      ],
      "application/vnd.bokehjs_exec.v0+json": ""
     },
     "metadata": {
      "application/vnd.bokehjs_exec.v0+json": {
       "id": "a740f324-c78f-4fa8-8251-2d415b9f97d5"
      }
     },
     "output_type": "display_data"
    }
   ],
   "source": [
    "x = np.arange(-10,4,.1) # Generate a numerical range\n",
    "p = figure(height=300,width=700)\n",
    "p.line(x,f(x),line_width=3,alpha=.3,legend=\"f(x)\")\n",
    "p.scatter(new_x,f(new_x),color=\"red\",size=6,alpha=.4,legend=\"proposed x\")\n",
    "p.yaxis.axis_label = 'f(x)'\n",
    "p.xaxis.axis_label = 'x'\n",
    "show(p)"
   ]
  },
  {
   "cell_type": "markdown",
   "metadata": {},
   "source": [
    "What happens when we: \n",
    "\n",
    "- change the sign of the proposal?\n",
    "- set different starting values?"
   ]
  },
  {
   "cell_type": "markdown",
   "metadata": {},
   "source": [
    "## Steepest Ascent/Descent"
   ]
  },
  {
   "cell_type": "markdown",
   "metadata": {},
   "source": [
    "Here we'll only require information about the rate of change of the function. Let's select some initial location ($x$), then let's calculate the derivative at that location, then take a \"step\" in that direction. "
   ]
  },
  {
   "cell_type": "code",
   "execution_count": 8,
   "metadata": {},
   "outputs": [
    {
     "data": {
      "image/png": "[encoded data removed]",
      "text/latex": [
       "$$0.423783602708908$$"
      ],
      "text/plain": [
       "0.423783602708908"
      ]
     },
     "execution_count": 8,
     "metadata": {},
     "output_type": "execute_result"
    }
   ],
   "source": [
    "prop_x = 1\n",
    "step=.05\n",
    "new_x = prop_x + step*df(prop_x)\n",
    "new_x"
   ]
  },
  {
   "cell_type": "markdown",
   "metadata": {},
   "source": [
    "Let's do this repeatedly until the values don't appear to change."
   ]
  },
  {
   "cell_type": "code",
   "execution_count": 80,
   "metadata": {},
   "outputs": [
    {
     "name": "stdout",
     "output_type": "stream",
     "text": [
      "Converged on iteration 6 at value -4.27\n"
     ]
    }
   ],
   "source": [
    "prop_x = -2 # Starting value\n",
    "step=.05\n",
    "iters = 100\n",
    "vals = []\n",
    "for i in range(iters):\n",
    "    new_x = prop_x - step*df(prop_x)\n",
    "    if np.isclose(new_x,prop_x,.001):\n",
    "        print(f'Converged on iteration {i} at value {round(new_x,3)}')\n",
    "        vals.append([new_x,f(new_x)])\n",
    "        break\n",
    "    else:\n",
    "        prop_x = new_x\n",
    "        vals.append([prop_x,f(prop_x)])\n",
    "vals = np.array(vals)"
   ]
  },
  {
   "cell_type": "code",
   "execution_count": 81,
   "metadata": {},
   "outputs": [
    {
     "data": {
      "text/html": [
       "\n",
       "\n",
       "\n",
       "\n",
       "\n",
       "\n",
       "  <div class=\"bk-root\" id=\"41727141-57b0-4da0-ad84-4f279e79f4c3\"></div>\n"
      ]
     },
     "metadata": {},
     "output_type": "display_data"
    },
    {
     "data": {
      "application/javascript": [
       "(function(root) {\n",
       "  function embed_document(root) {\n",
       "    \n",
       "  var docs_json = {\"7d483dcb-aca8-40a3-ae8a-e528bf41e23e\":{\"roots\":{\"references\":[{\"attributes\":{\"below\":[{\"id\":\"9b601394-d5f1-41b2-a88b-ef18ef2bc6fd\",\"type\":\"LinearAxis\"}],\"left\":[{\"id\":\"6a2eaa10-e2df-44de-8e90-ffb764d33b8a\",\"type\":\"LinearAxis\"}],\"plot_height\":200,\"plot_width\":700,\"renderers\":[{\"id\":\"9b601394-d5f1-41b2-a88b-ef18ef2bc6fd\",\"type\":\"LinearAxis\"},{\"id\":\"c2ec07e8-a8ee-4393-ab44-ae362e1afd09\",\"type\":\"Grid\"},{\"id\":\"6a2eaa10-e2df-44de-8e90-ffb764d33b8a\",\"type\":\"LinearAxis\"},{\"id\":\"54350c85-660b-4257-9104-f476b060e6bd\",\"type\":\"Grid\"},{\"id\":\"b284c1ee-0ba1-442e-aeca-894a6e0d1ef1\",\"type\":\"BoxAnnotation\"},{\"id\":\"84e3bec3-bc46-4fec-b914-9de3991a3f7c\",\"type\":\"GlyphRenderer\"}],\"title\":{\"id\":\"0194fe5c-89cd-405c-bf20-c93f306bf58c\",\"type\":\"Title\"},\"toolbar\":{\"id\":\"e3841721-3b62-483a-8ed8-38c1c9883e42\",\"type\":\"Toolbar\"},\"x_range\":{\"id\":\"e40709d3-87d8-46cf-84fd-71917a1c963f\",\"type\":\"DataRange1d\"},\"x_scale\":{\"id\":\"8714dcf0-bab4-4b41-9852-def23482a48a\",\"type\":\"LinearScale\"},\"y_range\":{\"id\":\"6875b402-2235-4fd1-9313-d6e050e749af\",\"type\":\"DataRange1d\"},\"y_scale\":{\"id\":\"df2521cc-e43a-4b40-a0e1-e1b29608a6d7\",\"type\":\"LinearScale\"}},\"id\":\"ccbbcf50-cf0b-4859-a7cc-386fbba9c558\",\"subtype\":\"Figure\",\"type\":\"Plot\"},{\"attributes\":{},\"id\":\"6416b954-ee81-427f-acf1-bdcf1eb7efd4\",\"type\":\"Selection\"},{\"attributes\":{\"items\":[{\"id\":\"f4d8ba76-afe0-4f3f-a938-65972ba3e233\",\"type\":\"LegendItem\"},{\"id\":\"3c8e3996-013a-4a76-9c61-9a87fd9095d1\",\"type\":\"LegendItem\"}],\"plot\":{\"id\":\"094d3b40-ed61-4dfc-af37-f0687e8836bb\",\"subtype\":\"Figure\",\"type\":\"Plot\"}},\"id\":\"9db230c6-52bf-4300-a6cd-7484d4a67525\",\"type\":\"Legend\"},{\"attributes\":{},\"id\":\"30faaf52-ea45-4e0f-9926-680fddc4b202\",\"type\":\"UnionRenderers\"},{\"attributes\":{},\"id\":\"83397487-b25d-477d-a6e0-44a164a7182f\",\"type\":\"UnionRenderers\"},{\"attributes\":{\"source\":{\"id\":\"0dea7017-bb13-4567-a135-73bf26e504f6\",\"type\":\"ColumnDataSource\"}},\"id\":\"4f221cf6-bfff-4c64-867a-e31c7426be95\",\"type\":\"CDSView\"},{\"attributes\":{\"axis_label\":\"Proposed x\",\"formatter\":{\"id\":\"7a881161-a7f3-444d-9331-b4c204101b77\",\"type\":\"BasicTickFormatter\"},\"plot\":{\"id\":\"ccbbcf50-cf0b-4859-a7cc-386fbba9c558\",\"subtype\":\"Figure\",\"type\":\"Plot\"},\"ticker\":{\"id\":\"dec12e7b-2e3d-4170-a66b-4808ee7821a5\",\"type\":\"BasicTicker\"}},\"id\":\"6a2eaa10-e2df-44de-8e90-ffb764d33b8a\",\"type\":\"LinearAxis\"},{\"attributes\":{},\"id\":\"dec12e7b-2e3d-4170-a66b-4808ee7821a5\",\"type\":\"BasicTicker\"},{\"attributes\":{},\"id\":\"2b4d31e6-18fe-4e0a-b16a-f984192e0047\",\"type\":\"ResetTool\"},{\"attributes\":{\"label\":{\"value\":\"proposed x\"},\"renderers\":[{\"id\":\"cf6db9d4-de1d-487c-90d4-3b57c679f431\",\"type\":\"GlyphRenderer\"}]},\"id\":\"3c8e3996-013a-4a76-9c61-9a87fd9095d1\",\"type\":\"LegendItem\"},{\"attributes\":{\"callback\":null},\"id\":\"e40709d3-87d8-46cf-84fd-71917a1c963f\",\"type\":\"DataRange1d\"},{\"attributes\":{\"line_alpha\":0.1,\"line_color\":\"#1f77b4\",\"line_width\":3,\"x\":{\"field\":\"x\"},\"y\":{\"field\":\"y\"}},\"id\":\"7391d854-edea-4a63-ac46-fba9bbb3740a\",\"type\":\"Line\"},{\"attributes\":{\"line_alpha\":0.1,\"line_color\":\"#1f77b4\",\"line_width\":3,\"x\":{\"field\":\"x\"},\"y\":{\"field\":\"y\"}},\"id\":\"13403317-68f7-4a0f-809f-25ced89abff8\",\"type\":\"Line\"},{\"attributes\":{},\"id\":\"773f2a95-4b0f-46b3-b895-8915a1dc28bb\",\"type\":\"SaveTool\"},{\"attributes\":{\"active_drag\":\"auto\",\"active_inspect\":\"auto\",\"active_multi\":null,\"active_scroll\":\"auto\",\"active_tap\":\"auto\",\"tools\":[{\"id\":\"60675fb9-e3ec-4c89-99e0-ae42f6a9d605\",\"type\":\"PanTool\"},{\"id\":\"4f70160b-24c4-4414-8b85-98507a3aa1a5\",\"type\":\"WheelZoomTool\"},{\"id\":\"ff0820e1-9aba-4f48-b05d-383bf737585c\",\"type\":\"BoxZoomTool\"},{\"id\":\"3e364dfc-c944-46f1-92ef-c38f4a6522af\",\"type\":\"SaveTool\"},{\"id\":\"59c06fff-223d-451b-8f74-23898ae4c4d9\",\"type\":\"ResetTool\"},{\"id\":\"65f555bd-4734-457a-9eba-1e91a70a7d62\",\"type\":\"HelpTool\"}]},\"id\":\"e3841721-3b62-483a-8ed8-38c1c9883e42\",\"type\":\"Toolbar\"},{\"attributes\":{\"callback\":null,\"data\":{\"x\":[0,1,2,3,4,5,6],\"y\":{\"__ndarray__\":\"1pv0gZXUNUAlJuN4LD4yQPrfXLAWECVADDiPz1ujBkBw1yJrwK7yP1CGLG8AT/I/kLk4Cf9O8j8=\",\"dtype\":\"float64\",\"shape\":[7]}},\"selected\":{\"id\":\"6416b954-ee81-427f-acf1-bdcf1eb7efd4\",\"type\":\"Selection\"},\"selection_policy\":{\"id\":\"83397487-b25d-477d-a6e0-44a164a7182f\",\"type\":\"UnionRenderers\"}},\"id\":\"0dea7017-bb13-4567-a135-73bf26e504f6\",\"type\":\"ColumnDataSource\"},{\"attributes\":{\"callback\":null},\"id\":\"6875b402-2235-4fd1-9313-d6e050e749af\",\"type\":\"DataRange1d\"},{\"attributes\":{},\"id\":\"fdf2dfe8-2ffc-45c1-9d58-9080f82357bb\",\"type\":\"BasicTicker\"},{\"attributes\":{},\"id\":\"8714dcf0-bab4-4b41-9852-def23482a48a\",\"type\":\"LinearScale\"},{\"attributes\":{},\"id\":\"df2521cc-e43a-4b40-a0e1-e1b29608a6d7\",\"type\":\"LinearScale\"},{\"attributes\":{\"plot\":{\"id\":\"ccbbcf50-cf0b-4859-a7cc-386fbba9c558\",\"subtype\":\"Figure\",\"type\":\"Plot\"},\"ticker\":{\"id\":\"fdf2dfe8-2ffc-45c1-9d58-9080f82357bb\",\"type\":\"BasicTicker\"}},\"id\":\"c2ec07e8-a8ee-4393-ab44-ae362e1afd09\",\"type\":\"Grid\"},{\"attributes\":{\"axis_label\":\"Iterations\",\"formatter\":{\"id\":\"0e466e8b-9a47-4ed6-a782-ca7c823a1328\",\"type\":\"BasicTickFormatter\"},\"plot\":{\"id\":\"ccbbcf50-cf0b-4859-a7cc-386fbba9c558\",\"subtype\":\"Figure\",\"type\":\"Plot\"},\"ticker\":{\"id\":\"fdf2dfe8-2ffc-45c1-9d58-9080f82357bb\",\"type\":\"BasicTicker\"}},\"id\":\"9b601394-d5f1-41b2-a88b-ef18ef2bc6fd\",\"type\":\"LinearAxis\"},{\"attributes\":{\"fill_alpha\":{\"value\":0.4},\"fill_color\":{\"value\":\"red\"},\"line_alpha\":{\"value\":0.4},\"line_color\":{\"value\":\"red\"},\"size\":{\"units\":\"screen\",\"value\":6},\"x\":{\"field\":\"x\"},\"y\":{\"field\":\"y\"}},\"id\":\"220737f5-14ab-4c13-a941-6897d193b30e\",\"type\":\"Circle\"},{\"attributes\":{\"fill_alpha\":{\"value\":0.1},\"fill_color\":{\"value\":\"#1f77b4\"},\"line_alpha\":{\"value\":0.1},\"line_color\":{\"value\":\"#1f77b4\"},\"size\":{\"units\":\"screen\",\"value\":6},\"x\":{\"field\":\"x\"},\"y\":{\"field\":\"y\"}},\"id\":\"4f4e75e0-e7ea-4b71-b62e-2247bcc6c8b6\",\"type\":\"Circle\"},{\"attributes\":{\"data_source\":{\"id\":\"fa44912c-a046-4ea5-809e-cc7b93652325\",\"type\":\"ColumnDataSource\"},\"glyph\":{\"id\":\"220737f5-14ab-4c13-a941-6897d193b30e\",\"type\":\"Circle\"},\"hover_glyph\":null,\"muted_glyph\":null,\"nonselection_glyph\":{\"id\":\"4f4e75e0-e7ea-4b71-b62e-2247bcc6c8b6\",\"type\":\"Circle\"},\"selection_glyph\":null,\"view\":{\"id\":\"c521079e-da0d-46bd-b372-2e5785cab8db\",\"type\":\"CDSView\"}},\"id\":\"cf6db9d4-de1d-487c-90d4-3b57c679f431\",\"type\":\"GlyphRenderer\"},{\"attributes\":{\"source\":{\"id\":\"fa44912c-a046-4ea5-809e-cc7b93652325\",\"type\":\"ColumnDataSource\"}},\"id\":\"c521079e-da0d-46bd-b372-2e5785cab8db\",\"type\":\"CDSView\"},{\"attributes\":{},\"id\":\"2cdaa76a-2d75-4ea3-9885-bfade912c6e2\",\"type\":\"Selection\"},{\"attributes\":{},\"id\":\"d9f6f708-bc80-4bb8-8529-9b47e1db51ef\",\"type\":\"UnionRenderers\"},{\"attributes\":{\"dimension\":1,\"plot\":{\"id\":\"ccbbcf50-cf0b-4859-a7cc-386fbba9c558\",\"subtype\":\"Figure\",\"type\":\"Plot\"},\"ticker\":{\"id\":\"dec12e7b-2e3d-4170-a66b-4808ee7821a5\",\"type\":\"BasicTicker\"}},\"id\":\"54350c85-660b-4257-9104-f476b060e6bd\",\"type\":\"Grid\"},{\"attributes\":{\"line_alpha\":0.6,\"line_color\":\"red\",\"line_width\":3,\"x\":{\"field\":\"x\"},\"y\":{\"field\":\"y\"}},\"id\":\"7ad83878-040f-4631-b721-1e131ffdd613\",\"type\":\"Line\"},{\"attributes\":{\"children\":[{\"id\":\"094d3b40-ed61-4dfc-af37-f0687e8836bb\",\"subtype\":\"Figure\",\"type\":\"Plot\"},{\"id\":\"ccbbcf50-cf0b-4859-a7cc-386fbba9c558\",\"subtype\":\"Figure\",\"type\":\"Plot\"}]},\"id\":\"9ccbd3fb-c7b1-401d-a1e1-e68e5370d16c\",\"type\":\"Column\"},{\"attributes\":{\"plot\":null,\"text\":\"\"},\"id\":\"0194fe5c-89cd-405c-bf20-c93f306bf58c\",\"type\":\"Title\"},{\"attributes\":{\"data_source\":{\"id\":\"0dea7017-bb13-4567-a135-73bf26e504f6\",\"type\":\"ColumnDataSource\"},\"glyph\":{\"id\":\"7ad83878-040f-4631-b721-1e131ffdd613\",\"type\":\"Line\"},\"hover_glyph\":null,\"muted_glyph\":null,\"nonselection_glyph\":{\"id\":\"13403317-68f7-4a0f-809f-25ced89abff8\",\"type\":\"Line\"},\"selection_glyph\":null,\"view\":{\"id\":\"4f221cf6-bfff-4c64-867a-e31c7426be95\",\"type\":\"CDSView\"}},\"id\":\"84e3bec3-bc46-4fec-b914-9de3991a3f7c\",\"type\":\"GlyphRenderer\"},{\"attributes\":{},\"id\":\"60675fb9-e3ec-4c89-99e0-ae42f6a9d605\",\"type\":\"PanTool\"},{\"attributes\":{},\"id\":\"4f70160b-24c4-4414-8b85-98507a3aa1a5\",\"type\":\"WheelZoomTool\"},{\"attributes\":{\"overlay\":{\"id\":\"b284c1ee-0ba1-442e-aeca-894a6e0d1ef1\",\"type\":\"BoxAnnotation\"}},\"id\":\"ff0820e1-9aba-4f48-b05d-383bf737585c\",\"type\":\"BoxZoomTool\"},{\"attributes\":{},\"id\":\"3e364dfc-c944-46f1-92ef-c38f4a6522af\",\"type\":\"SaveTool\"},{\"attributes\":{},\"id\":\"59c06fff-223d-451b-8f74-23898ae4c4d9\",\"type\":\"ResetTool\"},{\"attributes\":{},\"id\":\"65f555bd-4734-457a-9eba-1e91a70a7d62\",\"type\":\"HelpTool\"},{\"attributes\":{},\"id\":\"0e466e8b-9a47-4ed6-a782-ca7c823a1328\",\"type\":\"BasicTickFormatter\"},{\"attributes\":{\"bottom_units\":\"screen\",\"fill_alpha\":{\"value\":0.5},\"fill_color\":{\"value\":\"lightgrey\"},\"left_units\":\"screen\",\"level\":\"overlay\",\"line_alpha\":{\"value\":1.0},\"line_color\":{\"value\":\"black\"},\"line_dash\":[4,4],\"line_width\":{\"value\":2},\"plot\":null,\"render_mode\":\"css\",\"right_units\":\"screen\",\"top_units\":\"screen\"},\"id\":\"b284c1ee-0ba1-442e-aeca-894a6e0d1ef1\",\"type\":\"BoxAnnotation\"},{\"attributes\":{},\"id\":\"7a881161-a7f3-444d-9331-b4c204101b77\",\"type\":\"BasicTickFormatter\"},{\"attributes\":{},\"id\":\"724f2e9b-4b15-4435-bc93-8cfa4f048463\",\"type\":\"Selection\"},{\"attributes\":{\"plot\":null,\"text\":\"\"},\"id\":\"9e30715a-e044-4db3-b5a8-2cb27c3097ed\",\"type\":\"Title\"},{\"attributes\":{\"callback\":null,\"data\":{\"x\":{\"__ndarray__\":\"2aGadc+sAcANGpJO0aEEwBQLdBg8TgnAhOGlSJrBDsB9bn0FSOMQwKIDav2DFBHAfy193eMUEcA=\",\"dtype\":\"float64\",\"shape\":[7]},\"y\":{\"__ndarray__\":\"1pv0gZXUNUAlJuN4LD4yQPrfXLAWECVADDiPz1ujBkBw1yJrwK7yP1CGLG8AT/I/kLk4Cf9O8j8=\",\"dtype\":\"float64\",\"shape\":[7]}},\"selected\":{\"id\":\"724f2e9b-4b15-4435-bc93-8cfa4f048463\",\"type\":\"Selection\"},\"selection_policy\":{\"id\":\"30faaf52-ea45-4e0f-9926-680fddc4b202\",\"type\":\"UnionRenderers\"}},\"id\":\"fa44912c-a046-4ea5-809e-cc7b93652325\",\"type\":\"ColumnDataSource\"},{\"attributes\":{},\"id\":\"664194c5-eeb4-447b-a9ea-03412151f38a\",\"type\":\"HelpTool\"},{\"attributes\":{\"label\":{\"value\":\"f(x)\"},\"renderers\":[{\"id\":\"e16d9b57-c28d-4314-8a22-9c4e59d9772e\",\"type\":\"GlyphRenderer\"}]},\"id\":\"f4d8ba76-afe0-4f3f-a938-65972ba3e233\",\"type\":\"LegendItem\"},{\"attributes\":{\"callback\":null,\"data\":{\"x\":{\"__ndarray__\":\"AAAAAAAAJMDNzMzMzMwjwJqZmZmZmSPAZ2ZmZmZmI8A0MzMzMzMjwAEAAAAAACPAzszMzMzMIsCbmZmZmZkiwGhmZmZmZiLANTMzMzMzIsACAAAAAAAiwM/MzMzMzCHAnJmZmZmZIcBpZmZmZmYhwDYzMzMzMyHAAwAAAAAAIcDQzMzMzMwgwJ2ZmZmZmSDAamZmZmZmIMA3MzMzMzMgwAQAAAAAACDAopmZmZmZH8A8MzMzMzMfwNbMzMzMzB7AcGZmZmZmHsAKAAAAAAAewKSZmZmZmR3APjMzMzMzHcDYzMzMzMwcwHJmZmZmZhzADAAAAAAAHMCmmZmZmZkbwEAzMzMzMxvA2szMzMzMGsB0ZmZmZmYawA4AAAAAABrAqJmZmZmZGcBCMzMzMzMZwNzMzMzMzBjAdmZmZmZmGMAQAAAAAAAYwKqZmZmZmRfARDMzMzMzF8DezMzMzMwWwHhmZmZmZhbAEgAAAAAAFsCsmZmZmZkVwEYzMzMzMxXA4MzMzMzMFMB6ZmZmZmYUwBQAAAAAABTArpmZmZmZE8BIMzMzMzMTwOLMzMzMzBLAfGZmZmZmEsAWAAAAAAASwLCZmZmZmRHASjMzMzMzEcDkzMzMzMwQwH5mZmZmZhDAGAAAAAAAEMBkMzMzMzMPwJhmZmZmZg7AzJmZmZmZDcAAzczMzMwMwDQAAAAAAAzAaDMzMzMzC8CcZmZmZmYKwNCZmZmZmQnABM3MzMzMCMA4AAAAAAAIwGwzMzMzMwfAoGZmZmZmBsDUmZmZmZkFwAjNzMzMzATAPAAAAAAABMBwMzMzMzMDwKRmZmZmZgLA2JmZmZmZAcAMzczMzMwAwEAAAAAAAADA6GZmZmZm/r9QzczMzMz8v7gzMzMzM/u/IJqZmZmZ+b+IAAAAAAD4v/BmZmZmZva/WM3MzMzM9L/AMzMzMzPzvyiamZmZmfG/kAAAAAAA8L/wzczMzMzsv8CamZmZmem/kGdmZmZm5r9gNDMzMzPjvzABAAAAAOC/AJyZmZmZ2b+gNTMzMzPTv4CemZmZmcm/gKOZmZmZub8AAAAAAAAkvYCPmZmZmbk/gJSZmZmZyT+gMDMzMzPTPwCXmZmZmdk/YP3/////3z/gMTMzMzPjPxBlZmZmZuY/QJiZmZmZ6T9wy8zMzMzsP6D+/////+8/6JiZmZmZ8T+AMjMzMzPzPxjMzMzMzPQ/sGVmZmZm9j9I///////3P+CYmZmZmfk/eDIzMzMz+z8QzMzMzMz8P6hlZmZmZv4/QP///////z9szMzMzMwAQDiZmZmZmQFABGZmZmZmAkDQMjMzMzMDQJz//////wNAaMzMzMzMBEA0mZmZmZkFQABmZmZmZgZAzDIzMzMzB0CY//////8HQGTMzMzMzAhAMJmZmZmZCUD8ZWZmZmYKQMgyMzMzMwtAlP//////C0BgzMzMzMwMQCyZmZmZmQ1A+GVmZmZmDkDEMjMzMzMPQA==\",\"dtype\":\"float64\",\"shape\":[140]},\"y\":{\"__ndarray__\":\"8C0ma6aHVkCaBwGo/XZWQJU9BpJ2bVZAgKGrCOdpVkCQ0D/uGGtWQOVAJUHNb1ZALK/KS792VkAJxDnjp35WQPF476tAhlZA4q2hXEeMVkATr5r2gI9WQEYMbuu8jlZAHtj5J9iIVkCgsev8v3xWQLUuWd10aVZAqnpm7AxOVkDuK3NTtilWQBo601q5+1VAISy3P3rDVUAafZHCeoBVQG4f/mlbMlVAmh3ydtzYVEAysMKH3nNUQL62YuhiA1RAskEJj4uHU0A+qUnFmgBTQHZke37yblJAaVMjXRPTUUAWWN9pmy1RQFvcHX9Ef1BAKXdW28SRT0ByFaq9wRZOQBQtGvOBj0xADOcjoS3+SkBRLV9ADWVJQO9yTMWDxkdAUhVfhQglRkDUn+HnIINEQMKP1vJZ40JAg0RUxEFIQUADRRkSwmg/QBAwcAFpVDxA6CzwQU1YOUBQF+7NEnk2QAp8KM8guzNAlKWTWpYiMUD4UdHIf2YtQCAG3Q4b4ShAxHSvcBS7JEAGiGX3p/kgQOR+VslUQhtATISRNfxpFUDgCXfgFG8QQFjp/xPWqAhAGPUWpYI1AkAgUar1OgP7PwCEH7YHDfU/UN0NTyZz8j8w2DXlhxjzPwCX0gye2PY/WEaG/reH/T/YauUBuXkDQGwVhv6acQlApinv7TJGEECqWIroPVQUQCoffpEJ0RhARMBbtMipHUDtJmbbemUhQELwjS5CECRAvwNTcQrLJkA7U3zxk4spQHLzL0epRyxAHXrfUTn1LkDi9odqOMUwQM/lj7np/jFAaEnh4ikjM0C4zhArtS00QKUHtJyVGjVAU/T1DC3mNUDH+488Po02QIaRe/30DDdAzuAqSO1iN0DZPcYtOY03QArdyZdlijdAx/VjyH1ZN0DmLReSDfo2QMHJX0AibDZAHj1jLkqwNUAYywAMk8c0QPBC5tSGszNAzvSMgCd2MkCFKjB16RExQBHSvpVZEy9AN8t23WrBK0BwUVpyRDUoQMLr5xjGdiRAY7NyJlyOIEC2i7Pj0AkZQOM2091TxxBAwcgJuozQAEAAAAAAAEBqPcCqnDcWvADAbm8NG4GeEMDY3IloWa4YwL/e+76JPSDAC6Nyenb5I8DJpmszi4InwLgsM1Tz0CrAuK20+IXdLcAiVfCi7lAwwIMyyCo2jDHAUs+IxkmeMsCERAidWYUzwEy00yseQDTACDrzsd/NNMCmtY+afC41wBk1zeJuYjXA/swDetBqNcAzH3ufXkk1wALt40R8ADXAU0j4gDOTNMCl2uchNgU0wBUqfHPdWjPA9QorUSmZMsDcUpagvsUxwHrPOlXl5jDAnJxJIoYDMMBsZaYHUEYuwD+tEZnbmyzAptvM0icZK8BNhSgh3dApwGy/finR1ijAVTcVNAZAKMCx4SzbrCIowIgz8IgolijAUjGxVRezKcDCCcffXZMrwFSTbb43Ui7Agvm0nCYGMcCtkwJ8528zwA==\",\"dtype\":\"float64\",\"shape\":[140]}},\"selected\":{\"id\":\"2cdaa76a-2d75-4ea3-9885-bfade912c6e2\",\"type\":\"Selection\"},\"selection_policy\":{\"id\":\"d9f6f708-bc80-4bb8-8529-9b47e1db51ef\",\"type\":\"UnionRenderers\"}},\"id\":\"c2df00b5-ea45-4dab-8e15-f7168845c754\",\"type\":\"ColumnDataSource\"},{\"attributes\":{\"active_drag\":\"auto\",\"active_inspect\":\"auto\",\"active_multi\":null,\"active_scroll\":\"auto\",\"active_tap\":\"auto\",\"tools\":[{\"id\":\"5e1bd62f-e652-4dc0-b96f-5313944f8d21\",\"type\":\"PanTool\"},{\"id\":\"4d5eb3ab-1896-4cab-bcae-7af71fe788af\",\"type\":\"WheelZoomTool\"},{\"id\":\"7173a129-206d-4388-9a73-866a09579af8\",\"type\":\"BoxZoomTool\"},{\"id\":\"773f2a95-4b0f-46b3-b895-8915a1dc28bb\",\"type\":\"SaveTool\"},{\"id\":\"2b4d31e6-18fe-4e0a-b16a-f984192e0047\",\"type\":\"ResetTool\"},{\"id\":\"664194c5-eeb4-447b-a9ea-03412151f38a\",\"type\":\"HelpTool\"}]},\"id\":\"f0f2bb41-e7e7-4740-8ab5-a8d072c5f35e\",\"type\":\"Toolbar\"},{\"attributes\":{},\"id\":\"230831bc-5a64-47f1-a980-e021650a343e\",\"type\":\"BasicTickFormatter\"},{\"attributes\":{},\"id\":\"ccde9c36-5fdb-4ea1-b143-7d000fc0dec1\",\"type\":\"LinearScale\"},{\"attributes\":{\"below\":[{\"id\":\"fc974b3d-3176-454b-b3c2-07131cbfa463\",\"type\":\"LinearAxis\"}],\"left\":[{\"id\":\"cae28872-a020-40c9-b44f-f2496b066883\",\"type\":\"LinearAxis\"}],\"plot_height\":300,\"plot_width\":700,\"renderers\":[{\"id\":\"fc974b3d-3176-454b-b3c2-07131cbfa463\",\"type\":\"LinearAxis\"},{\"id\":\"c4f8252a-5347-470f-9dd1-3b707432251b\",\"type\":\"Grid\"},{\"id\":\"cae28872-a020-40c9-b44f-f2496b066883\",\"type\":\"LinearAxis\"},{\"id\":\"132c10fd-144b-4a41-b751-0343bd238509\",\"type\":\"Grid\"},{\"id\":\"3a5b76b2-d0dd-40ee-9ced-5fe332197a92\",\"type\":\"BoxAnnotation\"},{\"id\":\"9db230c6-52bf-4300-a6cd-7484d4a67525\",\"type\":\"Legend\"},{\"id\":\"e16d9b57-c28d-4314-8a22-9c4e59d9772e\",\"type\":\"GlyphRenderer\"},{\"id\":\"cf6db9d4-de1d-487c-90d4-3b57c679f431\",\"type\":\"GlyphRenderer\"}],\"title\":{\"id\":\"9e30715a-e044-4db3-b5a8-2cb27c3097ed\",\"type\":\"Title\"},\"toolbar\":{\"id\":\"f0f2bb41-e7e7-4740-8ab5-a8d072c5f35e\",\"type\":\"Toolbar\"},\"x_range\":{\"id\":\"6076b069-26b9-43db-9275-7aadec6b8a8d\",\"type\":\"DataRange1d\"},\"x_scale\":{\"id\":\"b665fded-5d98-4688-9b17-a3e5304376bc\",\"type\":\"LinearScale\"},\"y_range\":{\"id\":\"819c8b13-d937-49a6-98b4-73d818a3c37a\",\"type\":\"DataRange1d\"},\"y_scale\":{\"id\":\"ccde9c36-5fdb-4ea1-b143-7d000fc0dec1\",\"type\":\"LinearScale\"}},\"id\":\"094d3b40-ed61-4dfc-af37-f0687e8836bb\",\"subtype\":\"Figure\",\"type\":\"Plot\"},{\"attributes\":{\"line_alpha\":0.3,\"line_color\":\"#1f77b4\",\"line_width\":3,\"x\":{\"field\":\"x\"},\"y\":{\"field\":\"y\"}},\"id\":\"74e4ce0f-b701-4daf-9ff8-472b26bc9a3e\",\"type\":\"Line\"},{\"attributes\":{\"callback\":null},\"id\":\"6076b069-26b9-43db-9275-7aadec6b8a8d\",\"type\":\"DataRange1d\"},{\"attributes\":{\"bottom_units\":\"screen\",\"fill_alpha\":{\"value\":0.5},\"fill_color\":{\"value\":\"lightgrey\"},\"left_units\":\"screen\",\"level\":\"overlay\",\"line_alpha\":{\"value\":1.0},\"line_color\":{\"value\":\"black\"},\"line_dash\":[4,4],\"line_width\":{\"value\":2},\"plot\":null,\"render_mode\":\"css\",\"right_units\":\"screen\",\"top_units\":\"screen\"},\"id\":\"3a5b76b2-d0dd-40ee-9ced-5fe332197a92\",\"type\":\"BoxAnnotation\"},{\"attributes\":{\"axis_label\":\"f(x)\",\"formatter\":{\"id\":\"b17802fe-e44f-4a7e-a5f2-a403dcda16d7\",\"type\":\"BasicTickFormatter\"},\"plot\":{\"id\":\"094d3b40-ed61-4dfc-af37-f0687e8836bb\",\"subtype\":\"Figure\",\"type\":\"Plot\"},\"ticker\":{\"id\":\"fcb5cb48-3f1c-4851-a032-28694b57fdf6\",\"type\":\"BasicTicker\"}},\"id\":\"cae28872-a020-40c9-b44f-f2496b066883\",\"type\":\"LinearAxis\"},{\"attributes\":{},\"id\":\"b665fded-5d98-4688-9b17-a3e5304376bc\",\"type\":\"LinearScale\"},{\"attributes\":{\"data_source\":{\"id\":\"c2df00b5-ea45-4dab-8e15-f7168845c754\",\"type\":\"ColumnDataSource\"},\"glyph\":{\"id\":\"74e4ce0f-b701-4daf-9ff8-472b26bc9a3e\",\"type\":\"Line\"},\"hover_glyph\":null,\"muted_glyph\":null,\"nonselection_glyph\":{\"id\":\"7391d854-edea-4a63-ac46-fba9bbb3740a\",\"type\":\"Line\"},\"selection_glyph\":null,\"view\":{\"id\":\"c8c070c5-3ba8-4237-b5de-03d544edb27d\",\"type\":\"CDSView\"}},\"id\":\"e16d9b57-c28d-4314-8a22-9c4e59d9772e\",\"type\":\"GlyphRenderer\"},{\"attributes\":{},\"id\":\"0de02dc7-7f5f-48ae-b584-e611bf860729\",\"type\":\"BasicTicker\"},{\"attributes\":{\"source\":{\"id\":\"c2df00b5-ea45-4dab-8e15-f7168845c754\",\"type\":\"ColumnDataSource\"}},\"id\":\"c8c070c5-3ba8-4237-b5de-03d544edb27d\",\"type\":\"CDSView\"},{\"attributes\":{\"dimension\":1,\"plot\":{\"id\":\"094d3b40-ed61-4dfc-af37-f0687e8836bb\",\"subtype\":\"Figure\",\"type\":\"Plot\"},\"ticker\":{\"id\":\"fcb5cb48-3f1c-4851-a032-28694b57fdf6\",\"type\":\"BasicTicker\"}},\"id\":\"132c10fd-144b-4a41-b751-0343bd238509\",\"type\":\"Grid\"},{\"attributes\":{},\"id\":\"fcb5cb48-3f1c-4851-a032-28694b57fdf6\",\"type\":\"BasicTicker\"},{\"attributes\":{},\"id\":\"b17802fe-e44f-4a7e-a5f2-a403dcda16d7\",\"type\":\"BasicTickFormatter\"},{\"attributes\":{\"plot\":{\"id\":\"094d3b40-ed61-4dfc-af37-f0687e8836bb\",\"subtype\":\"Figure\",\"type\":\"Plot\"},\"ticker\":{\"id\":\"0de02dc7-7f5f-48ae-b584-e611bf860729\",\"type\":\"BasicTicker\"}},\"id\":\"c4f8252a-5347-470f-9dd1-3b707432251b\",\"type\":\"Grid\"},{\"attributes\":{\"callback\":null},\"id\":\"819c8b13-d937-49a6-98b4-73d818a3c37a\",\"type\":\"DataRange1d\"},{\"attributes\":{\"axis_label\":\"x\",\"formatter\":{\"id\":\"230831bc-5a64-47f1-a980-e021650a343e\",\"type\":\"BasicTickFormatter\"},\"plot\":{\"id\":\"094d3b40-ed61-4dfc-af37-f0687e8836bb\",\"subtype\":\"Figure\",\"type\":\"Plot\"},\"ticker\":{\"id\":\"0de02dc7-7f5f-48ae-b584-e611bf860729\",\"type\":\"BasicTicker\"}},\"id\":\"fc974b3d-3176-454b-b3c2-07131cbfa463\",\"type\":\"LinearAxis\"},{\"attributes\":{},\"id\":\"5e1bd62f-e652-4dc0-b96f-5313944f8d21\",\"type\":\"PanTool\"},{\"attributes\":{},\"id\":\"4d5eb3ab-1896-4cab-bcae-7af71fe788af\",\"type\":\"WheelZoomTool\"},{\"attributes\":{\"overlay\":{\"id\":\"3a5b76b2-d0dd-40ee-9ced-5fe332197a92\",\"type\":\"BoxAnnotation\"}},\"id\":\"7173a129-206d-4388-9a73-866a09579af8\",\"type\":\"BoxZoomTool\"}],\"root_ids\":[\"9ccbd3fb-c7b1-401d-a1e1-e68e5370d16c\"]},\"title\":\"Bokeh Application\",\"version\":\"0.13.0\"}};\n",
       "  var render_items = [{\"docid\":\"7d483dcb-aca8-40a3-ae8a-e528bf41e23e\",\"roots\":{\"9ccbd3fb-c7b1-401d-a1e1-e68e5370d16c\":\"41727141-57b0-4da0-ad84-4f279e79f4c3\"}}];\n",
       "  root.Bokeh.embed.embed_items_notebook(docs_json, render_items);\n",
       "\n",
       "  }\n",
       "  if (root.Bokeh !== undefined) {\n",
       "    embed_document(root);\n",
       "  } else {\n",
       "    var attempts = 0;\n",
       "    var timer = setInterval(function(root) {\n",
       "      if (root.Bokeh !== undefined) {\n",
       "        embed_document(root);\n",
       "        clearInterval(timer);\n",
       "      }\n",
       "      attempts++;\n",
       "      if (attempts > 100) {\n",
       "        console.log(\"Bokeh: ERROR: Unable to run BokehJS code because BokehJS library is missing\")\n",
       "        clearInterval(timer);\n",
       "      }\n",
       "    }, 10, root)\n",
       "  }\n",
       "})(window);"
      ],
      "application/vnd.bokehjs_exec.v0+json": ""
     },
     "metadata": {
      "application/vnd.bokehjs_exec.v0+json": {
       "id": "9ccbd3fb-c7b1-401d-a1e1-e68e5370d16c"
      }
     },
     "output_type": "display_data"
    }
   ],
   "source": [
    "x = np.arange(-10,4,.1) # Generate a numerical range\n",
    "p = figure(height=300,width=700)\n",
    "p.line(x,f(x),line_width=3,alpha=.3,legend=\"f(x)\")\n",
    "p.scatter(vals[:,0],vals[:,1],color=\"red\",size=6,alpha=.4,legend=\"proposed x\")\n",
    "p.yaxis.axis_label = 'f(x)'\n",
    "p.xaxis.axis_label = 'x'\n",
    "\n",
    "p2 = figure(height=200,width=700)\n",
    "p2.line(np.arange(i+1),vals[:,1],line_width=3,alpha=.6,color=\"red\")\n",
    "p2.xaxis.axis_label = 'Iterations'\n",
    "p2.yaxis.axis_label = 'Proposed x'\n",
    "show(column(p,p2))"
   ]
  },
  {
   "cell_type": "markdown",
   "metadata": {},
   "source": [
    "What happens when we: \n",
    "\n",
    "- change the sign of the steps?\n",
    "- set different starting values?\n",
    "- change the step size? \n",
    "\n",
    "\n",
    "How do we ensure we're locating the globals?"
   ]
  },
  {
   "cell_type": "markdown",
   "metadata": {},
   "source": [
    "# Gradient Descent \n",
    "## Linear Model (Continuous Outcomes)"
   ]
  },
  {
   "cell_type": "markdown",
   "metadata": {},
   "source": [
    "### Generate Fake Data\n",
    "\n",
    "To know the expected results, let's simulate some data..."
   ]
  },
  {
   "cell_type": "code",
   "execution_count": 63,
   "metadata": {},
   "outputs": [
    {
     "data": {
      "text/plain": [
       "array([[ 1.        ,  0.4064541 , -0.97402348],\n",
       "       [ 1.        ,  0.32210607, -1.0491106 ],\n",
       "       [ 1.        , -0.05151772, -0.46483438],\n",
       "       [ 1.        , -0.20420096, -0.49055989]])"
      ]
     },
     "execution_count": 63,
     "metadata": {},
     "output_type": "execute_result"
    }
   ],
   "source": [
    "N = 100\n",
    "x = np.random.normal(0,1,N)\n",
    "x2 = np.random.normal(0,1,N)\n",
    "y = 1 + 2*x + 3*x2 + np.random.normal(0,1,N)\n",
    "\n",
    "# Incorporate as design matrix\n",
    "X = np.column_stack([np.ones(x.shape),x,x2])\n",
    "X[1:5,:]"
   ]
  },
  {
   "cell_type": "markdown",
   "metadata": {},
   "source": [
    "## Linear Model"
   ]
  },
  {
   "cell_type": "markdown",
   "metadata": {},
   "source": [
    "The data generating process\n",
    "\n",
    "<br>\n",
    "<br>\n",
    "\n",
    "$$ y = \\beta_{0} + \\beta_1 x_1 + \\beta_2 x_2 + \\epsilon_i$$  \n",
    "\n",
    "<br>\n",
    "<br>\n",
    "\n",
    "Our function that approximates this linear process\n",
    "\n",
    "<br>\n",
    "<br>\n",
    "\n",
    "$$ \\hat{y}_i = \\hat{\\beta}_0 + \\hat{\\beta}_1 x_{1i} + \\hat{\\beta}_2 x_{2i} = X\\hat{\\beta} $$  \n",
    "\n",
    "<br>\n",
    "<br>"
   ]
  },
  {
   "cell_type": "markdown",
   "metadata": {},
   "source": [
    "## Define the cost function"
   ]
  },
  {
   "cell_type": "markdown",
   "metadata": {},
   "source": [
    "Here we'll leverage the information about the gradient to minimize the **cost function**. Cost Function in this context is defined as the **mean squared error**:\n",
    "\n",
    "<br>\n",
    "<br>\n",
    "\n",
    "$$ cost(y,X,\\beta) = \\frac{1}{N}\\sum_{i=1}^N (y_i - \\hat{y}_i)^2 = \\frac{e' e}{N}$$\n",
    "\n",
    "<br>\n",
    "<br>"
   ]
  },
  {
   "cell_type": "markdown",
   "metadata": {},
   "source": [
    "Here is the cost function in algebraic terms..."
   ]
  },
  {
   "cell_type": "code",
   "execution_count": 64,
   "metadata": {},
   "outputs": [
    {
     "data": {
      "image/png": "[encoded data removed]",
      "text/latex": [
       "$$0.8021661709036804$$"
      ],
      "text/plain": [
       "0.8021661709036804"
      ]
     },
     "execution_count": 64,
     "metadata": {},
     "output_type": "execute_result"
    }
   ],
   "source": [
    "def cost(y,X,B):\n",
    "    '''\n",
    "    Cost function is the average mean squared error.\n",
    "    '''\n",
    "    x1 = X[:,0]\n",
    "    x2 = X[:,1]\n",
    "    x3 = X[:,2]\n",
    "    e = sum((y - (B[0] + B[1]*x2 + B[2]*x3))**2)\n",
    "    return e/y.shape[0]\n",
    "cost(y,X,B=np.array([1,2,3]))"
   ]
  },
  {
   "cell_type": "markdown",
   "metadata": {},
   "source": [
    "And here it is in linear algebra terms..."
   ]
  },
  {
   "cell_type": "code",
   "execution_count": 65,
   "metadata": {},
   "outputs": [
    {
     "data": {
      "text/plain": [
       "array([0.80216617])"
      ]
     },
     "execution_count": 65,
     "metadata": {},
     "output_type": "execute_result"
    }
   ],
   "source": [
    "def cost(y,X,B):\n",
    "    '''\n",
    "    Cost function is the average mean squared error.\n",
    "    '''\n",
    "    e = y - X.dot(B)\n",
    "    n = e.shape\n",
    "    return  e.dot(e)/n\n",
    "cost(y,X,B=np.array([1,2,3]))"
   ]
  },
  {
   "cell_type": "markdown",
   "metadata": {},
   "source": [
    "### Calculate the gradient of the cost function\n",
    "\n",
    "Using what we know of the chain rule and gradients...\n",
    "\n",
    "<br>\n",
    "<br>"
   ]
  },
  {
   "cell_type": "markdown",
   "metadata": {},
   "source": [
    "$$ -\\nabla cost  = - \\begin{pmatrix} \n",
    "\\partial_{\\beta_0}\\\\\n",
    "\\partial_{\\beta_1}\\\\\n",
    "\\partial_{\\beta_2}\n",
    "\\end{pmatrix} =\n",
    "- \\begin{pmatrix} \n",
    "2(y_i-\\beta_01 + \\beta_1 x_{1i} + \\beta_2 x_{2i})\\\\ \n",
    "2 x_{1i}(y_i-\\beta_01 + \\beta_{1} x_{1i} + \\beta_2 x_{2i})\\\\\n",
    "2 x_{2i}(y_i-\\beta_01 + \\beta_{1} x_{1i} + \\beta_2 x_{2i})\n",
    "\\end{pmatrix} $$\n",
    "\n",
    "\n",
    "<br>\n",
    "<br>"
   ]
  },
  {
   "cell_type": "code",
   "execution_count": 66,
   "metadata": {},
   "outputs": [],
   "source": [
    "def calc_gradients(y,X,B):\n",
    "    '''\n",
    "    Gradient of the cost function \n",
    "    '''\n",
    "    n = y.shape[0]\n",
    "    betas =[]\n",
    "    betas.append(-sum( 2*(y - X.dot(B)) )/n)\n",
    "    for i in range(1,B.shape[0]):\n",
    "        betas.append(-sum( 2*X[:,i]*(y - X.dot(B)) )/n)\n",
    "    return np.array(betas)"
   ]
  },
  {
   "cell_type": "markdown",
   "metadata": {},
   "source": [
    "Preview how this works..."
   ]
  },
  {
   "cell_type": "code",
   "execution_count": 67,
   "metadata": {},
   "outputs": [
    {
     "data": {
      "text/plain": [
       "array([ 0.27480226, -0.23523127,  0.02184896])"
      ]
     },
     "execution_count": 67,
     "metadata": {},
     "output_type": "execute_result"
    }
   ],
   "source": [
    "initial_B = np.array([1,2,3])\n",
    "calc_gradients(y,X,initial_B)"
   ]
  },
  {
   "cell_type": "markdown",
   "metadata": {},
   "source": [
    "As we did above, lets use the gradient to take steps in the right direction. We'll establish a \"learning rate\" that will determine how much we step in a specific direction."
   ]
  },
  {
   "cell_type": "markdown",
   "metadata": {},
   "source": [
    "The following code has a lot embellishments but there are only a few"
   ]
  },
  {
   "cell_type": "code",
   "execution_count": 82,
   "metadata": {},
   "outputs": [
    {
     "name": "stdout",
     "output_type": "stream",
     "text": [
      "iteration: 0 Loss: 12.22 Coefs: [0.7  0.29 0.23]\n",
      "iteration: 5 Loss: 1.86 Coefs: [0.77 1.67 2.04]\n",
      "iteration: 10 Loss: 0.88 Coefs: [0.82 2.01 2.66]\n",
      "iteration: 15 Loss: 0.78 Coefs: [0.84 2.09 2.86]\n",
      "iteration: 20 Loss: 0.77 Coefs: [0.85 2.1  2.94]\n",
      "iteration: 25 Loss: 0.77 Coefs: [0.85 2.11 2.96]\n",
      "iteration: 30 Loss: 0.77 Coefs: [0.86 2.11 2.97]\n",
      "iteration: 35 Loss: 0.77 Coefs: [0.86 2.11 2.97]\n",
      "iteration: 40 Loss: 0.77 Coefs: [0.86 2.11 2.97]\n",
      "iteration: 45 Loss: 0.77 Coefs: [0.86 2.11 2.98]\n"
     ]
    }
   ],
   "source": [
    "np.random.seed(123)   # Seed for reproducibility\n",
    "B = np.random.rand(3) # initial (random) betas\n",
    "learning_rate = .1    # Learning rate\n",
    "iterations = 50       # number of iterations\n",
    "stats = []            # Let's save the state of the algorithm\n",
    "\n",
    "for i in range(iterations):\n",
    "    \n",
    "    mse = cost(y,X,B) # Calculate the mean squared error\n",
    "\n",
    "    # Print off every 5th iteration...\n",
    "    if i % 5 == 0:\n",
    "        print('iteration:',i,\"Loss:\",mse[0].round(2),'Coefs:',B.round(2))\n",
    "        \n",
    "    # The bit that matters! \n",
    "    gradients = calc_gradients(y,X,B)\n",
    "    B = B - (gradients*learning_rate) # New betas\n",
    "    \n",
    "    # Record values\n",
    "    stats.append(np.hstack([mse,B]))\n",
    "        \n",
    "# Convert to \n",
    "stats = np.array(stats)"
   ]
  },
  {
   "cell_type": "markdown",
   "metadata": {},
   "source": [
    "Visualize"
   ]
  },
  {
   "cell_type": "code",
   "execution_count": 83,
   "metadata": {},
   "outputs": [
    {
     "data": {
      "text/html": [
       "\n",
       "\n",
       "\n",
       "\n",
       "\n",
       "\n",
       "  <div class=\"bk-root\" id=\"f88cdad3-be77-43fe-b0bf-1773499ddaad\"></div>\n"
      ]
     },
     "metadata": {},
     "output_type": "display_data"
    },
    {
     "data": {
      "application/javascript": [
       "(function(root) {\n",
       "  function embed_document(root) {\n",
       "    \n",
       "  var docs_json = {\"9c7f1806-68b7-4161-afe2-6b5a1fd5e833\":{\"roots\":{\"references\":[{\"attributes\":{\"source\":{\"id\":\"cd09a75a-5a26-450a-b6be-3a4b2173de4c\",\"type\":\"ColumnDataSource\"}},\"id\":\"8f330a1d-c78a-49fc-8ad9-c6e28862ce11\",\"type\":\"CDSView\"},{\"attributes\":{\"items\":[{\"id\":\"387798e2-4293-49b2-a8fa-dcc97ca9c26b\",\"type\":\"LegendItem\"},{\"id\":\"72383ca8-281d-4435-a70a-3e6d60cb9b61\",\"type\":\"LegendItem\"},{\"id\":\"293aa1a9-15a7-4f7f-9e47-33f478d2bd61\",\"type\":\"LegendItem\"}],\"plot\":{\"id\":\"dbecd5a8-bb30-46a8-8c2a-5b31b5306738\",\"subtype\":\"Figure\",\"type\":\"Plot\"}},\"id\":\"38c0dadc-91fc-47ca-82ac-20634f405556\",\"type\":\"Legend\"},{\"attributes\":{},\"id\":\"0d9c4dfa-1026-4fc0-a153-a80bbc7332e6\",\"type\":\"BasicTickFormatter\"},{\"attributes\":{\"line_alpha\":0.1,\"line_color\":\"#1f77b4\",\"line_width\":3,\"x\":{\"field\":\"x\"},\"y\":{\"field\":\"y\"}},\"id\":\"18604636-df0e-4bf4-ab64-594196ca046e\",\"type\":\"Line\"},{\"attributes\":{},\"id\":\"ab4b8bc1-1fe4-4b78-bddb-63e5a7f37a8c\",\"type\":\"PanTool\"},{\"attributes\":{\"line_color\":\"red\",\"line_width\":3,\"x\":{\"field\":\"x\"},\"y\":{\"field\":\"y\"}},\"id\":\"1199f29a-fc38-436a-84ff-02495ae98370\",\"type\":\"Line\"},{\"attributes\":{\"plot\":null,\"text\":\"\"},\"id\":\"77e04264-caa6-4d9c-a666-77a2464c34c1\",\"type\":\"Title\"},{\"attributes\":{\"dimension\":1,\"plot\":{\"id\":\"dbecd5a8-bb30-46a8-8c2a-5b31b5306738\",\"subtype\":\"Figure\",\"type\":\"Plot\"},\"ticker\":{\"id\":\"138fdd49-7caf-4727-82f9-e4101a11e21b\",\"type\":\"BasicTicker\"}},\"id\":\"8c1e6c8a-2df6-4cf3-ab88-92ea7cea2db6\",\"type\":\"Grid\"},{\"attributes\":{},\"id\":\"127f10d2-7d00-4bea-b13b-7f2392a8c3bb\",\"type\":\"WheelZoomTool\"},{\"attributes\":{\"overlay\":{\"id\":\"c3e91fe0-2b08-4d11-a46f-958edca3fe02\",\"type\":\"BoxAnnotation\"}},\"id\":\"b4011424-7365-45c7-b57c-579cc55d97c6\",\"type\":\"BoxZoomTool\"},{\"attributes\":{\"callback\":null,\"data\":{\"x\":[0,1,2,3,4,5,6,7,8,9,10,11,12,13,14,15,16,17,18,19,20,21,22,23,24,25,26,27,28,29,30,31,32,33,34,35,36,37,38,39,40,41,42,43,44,45,46,47,48,49],\"y\":{\"__ndarray__\":\"mO30FljS5j+Nsjy3QVTnP8+wLKqRzec/dRb2DVs96D/32fL3O6PoP80wC4g4/+g/XMLbPZ1R6T9IhY6O55rpP5HHRL+z2+k/lbtjGq8U6j87EEmvjUbqPxE/i+cCcuo/GiJFWLyX6j8n4XpPXrjqP2Dwm7SB1Oo/OCMz57Ls6j8PQfhXcQHrPzrQ2KYvE+s/ZK1yHFQi6z+ibC9fOS/rP2raAUwvOus/XfkB4XtD6z8PxwstXEvrP81PVjsFUus/SnTn9KRX6z9bswH0YlzrP5GMUUdhYOs/e3XWI71j6z9XFGGFj2brP1XlGb7taOs/ffTo9elq6z9d6tWak2zrP9uDmcP3bes/KKSmhSFv6z/epu8/GnDrP+MeodvpcOs/TEz5A5dx6z/J5k1WJ3LrP7lMOoufcus/vBXYmQNz6z8BZczVVnPrP0PE3Qicc+s/RTGxiNVz6z+1lDlJBXTrP38qU+wsdOs/vnr0zk106z9NUVAUaXTrP/yQN69/dOs/0LD+aZJ06z+lBCHtoXTrPw==\",\"dtype\":\"float64\",\"shape\":[50]}},\"selected\":{\"id\":\"f93aa735-2df8-454a-aa3a-410c7ee40db5\",\"type\":\"Selection\"},\"selection_policy\":{\"id\":\"321006db-c306-473d-9ecb-adfc94592106\",\"type\":\"UnionRenderers\"}},\"id\":\"cd09a75a-5a26-450a-b6be-3a4b2173de4c\",\"type\":\"ColumnDataSource\"},{\"attributes\":{},\"id\":\"fcc00521-10c8-4ab9-89de-483a06679943\",\"type\":\"SaveTool\"},{\"attributes\":{},\"id\":\"1a81fe5e-58b4-4ee1-8563-7492265e49ca\",\"type\":\"ResetTool\"},{\"attributes\":{},\"id\":\"a1b7a081-2d26-443c-bd15-4da57a009f7b\",\"type\":\"HelpTool\"},{\"attributes\":{},\"id\":\"4999c8ff-c818-4d45-9257-ee6f116ee326\",\"type\":\"PanTool\"},{\"attributes\":{\"bottom_units\":\"screen\",\"fill_alpha\":{\"value\":0.5},\"fill_color\":{\"value\":\"lightgrey\"},\"left_units\":\"screen\",\"level\":\"overlay\",\"line_alpha\":{\"value\":1.0},\"line_color\":{\"value\":\"black\"},\"line_dash\":[4,4],\"line_width\":{\"value\":2},\"plot\":null,\"render_mode\":\"css\",\"right_units\":\"screen\",\"top_units\":\"screen\"},\"id\":\"c3e91fe0-2b08-4d11-a46f-958edca3fe02\",\"type\":\"BoxAnnotation\"},{\"attributes\":{\"axis_label\":\"Mean Squared Error\",\"formatter\":{\"id\":\"1b85b04c-ca0a-4ac7-b050-0e0871a8a4e8\",\"type\":\"BasicTickFormatter\"},\"plot\":{\"id\":\"5292057f-bc0b-4033-82fc-170a09ac9d5d\",\"subtype\":\"Figure\",\"type\":\"Plot\"},\"ticker\":{\"id\":\"631b2473-1269-4311-85c6-cf3cf6b62029\",\"type\":\"BasicTicker\"}},\"id\":\"2b6b4c72-cb58-4907-80ef-c025a39204fd\",\"type\":\"LinearAxis\"},{\"attributes\":{\"label\":{\"value\":\"B0\"},\"renderers\":[{\"id\":\"e76e28fa-6768-409f-bd15-b3c089d2ff81\",\"type\":\"GlyphRenderer\"}]},\"id\":\"387798e2-4293-49b2-a8fa-dcc97ca9c26b\",\"type\":\"LegendItem\"},{\"attributes\":{},\"id\":\"5e8ddd68-0a05-490c-b3d6-2ce9f150d7c8\",\"type\":\"BasicTickFormatter\"},{\"attributes\":{\"axis_label\":\"Iterations\",\"formatter\":{\"id\":\"86afb736-6391-4774-9c3c-db964d3e8a6a\",\"type\":\"BasicTickFormatter\"},\"plot\":{\"id\":\"5292057f-bc0b-4033-82fc-170a09ac9d5d\",\"subtype\":\"Figure\",\"type\":\"Plot\"},\"ticker\":{\"id\":\"854418c7-5c19-4041-8f82-f19173099fbb\",\"type\":\"BasicTicker\"}},\"id\":\"eafa95bc-a28f-410d-85be-a660f03cfe8b\",\"type\":\"LinearAxis\"},{\"attributes\":{},\"id\":\"631b2473-1269-4311-85c6-cf3cf6b62029\",\"type\":\"BasicTicker\"},{\"attributes\":{\"callback\":null,\"data\":{\"x\":[0,1,2,3,4,5,6,7,8,9,10,11,12,13,14,15,16,17,18,19,20,21,22,23,24,25,26,27,28,29,30,31,32,33,34,35,36,37,38,39,40,41,42,43,44,45,46,47,48,49],\"y\":{\"__ndarray__\":\"rr8AW4Fz6D9MB/Cy4h/zP9IlyYNAqvg/b2Uaywoe/T84Gu/6Q1kAQEGfI0n0yQFA2CpWXsPyAkCO457I1+EDQOV6+IuHogRAqcr3/+g9BUC+hcU6RrsFQMSt6RZ5IAZAN9ZynzRyBkDRMaGvP7QGQI6aJMqj6QZAExTmjNIUB0ClnGKowzcHQFZc1N0MVAdAVxpKOPVqB0DgVQd2hH0HQI3br2WPjAdAIu8m08GYB0At7ouApqIHQG6rro6tqgdAY65gpDGxB0Co9iAUfLYHQI3Y8DLIugdAxS8BCUa+B0CYoNF8HMEHQNuy5RJrwwdAvd0IV0vFB0C5Evj/0cYHQHik99oPyAdAKho1ihLJB0BtyrMe5ckHQAAIzpSQygdAGMD1OBzLB0CxfkX5jcsHQHQskKfqywdAMJDnLjbMB0Cx6P6+c8wHQOPPWO+lzAdAQ2jQ287MB0AhGcE78MwHQHI50nQLzQdAORY6qiHNB0BybSPJM80HQNHiv5JCzQdAjZ93pE7NB0DQBJF+WM0HQA==\",\"dtype\":\"float64\",\"shape\":[50]}},\"selected\":{\"id\":\"89eb9d99-b752-426c-b227-cbb88639294c\",\"type\":\"Selection\"},\"selection_policy\":{\"id\":\"11f1d0c4-4a16-4de6-a039-5c88e5e1a001\",\"type\":\"UnionRenderers\"}},\"id\":\"47704530-1518-4941-a3cc-8ee09f3cdec1\",\"type\":\"ColumnDataSource\"},{\"attributes\":{},\"id\":\"d71f1ab1-798b-494d-ab65-4c64ddcda47f\",\"type\":\"LinearScale\"},{\"attributes\":{\"line_color\":\"orange\",\"line_width\":3,\"x\":{\"field\":\"x\"},\"y\":{\"field\":\"y\"}},\"id\":\"15fc5485-b730-4268-ad46-f0d10c8f812b\",\"type\":\"Line\"},{\"attributes\":{},\"id\":\"854418c7-5c19-4041-8f82-f19173099fbb\",\"type\":\"BasicTicker\"},{\"attributes\":{\"line_alpha\":0.1,\"line_color\":\"#1f77b4\",\"line_width\":3,\"x\":{\"field\":\"x\"},\"y\":{\"field\":\"y\"}},\"id\":\"d882d3d6-8127-4ae1-86cb-29deff949135\",\"type\":\"Line\"},{\"attributes\":{\"line_alpha\":0.1,\"line_color\":\"#1f77b4\",\"line_width\":3,\"x\":{\"field\":\"x\"},\"y\":{\"field\":\"y\"}},\"id\":\"140c20fc-1e71-4c1f-8612-19d820c205b1\",\"type\":\"Line\"},{\"attributes\":{\"data_source\":{\"id\":\"b815f487-6775-409f-b5a2-7e2d73eab60a\",\"type\":\"ColumnDataSource\"},\"glyph\":{\"id\":\"15fc5485-b730-4268-ad46-f0d10c8f812b\",\"type\":\"Line\"},\"hover_glyph\":null,\"muted_glyph\":null,\"nonselection_glyph\":{\"id\":\"d882d3d6-8127-4ae1-86cb-29deff949135\",\"type\":\"Line\"},\"selection_glyph\":null,\"view\":{\"id\":\"a1c60f19-ce75-4e50-b1da-509c18ee30d4\",\"type\":\"CDSView\"}},\"id\":\"ceeaa96a-326c-44d0-83e8-5bd6f3049546\",\"type\":\"GlyphRenderer\"},{\"attributes\":{\"plot\":{\"id\":\"5292057f-bc0b-4033-82fc-170a09ac9d5d\",\"subtype\":\"Figure\",\"type\":\"Plot\"},\"ticker\":{\"id\":\"854418c7-5c19-4041-8f82-f19173099fbb\",\"type\":\"BasicTicker\"}},\"id\":\"a9766472-5d36-4bde-abaf-10f2a71c90e8\",\"type\":\"Grid\"},{\"attributes\":{\"source\":{\"id\":\"b815f487-6775-409f-b5a2-7e2d73eab60a\",\"type\":\"ColumnDataSource\"}},\"id\":\"a1c60f19-ce75-4e50-b1da-509c18ee30d4\",\"type\":\"CDSView\"},{\"attributes\":{\"callback\":null},\"id\":\"3415c0e7-13c1-41c5-b54f-d2453979ee20\",\"type\":\"DataRange1d\"},{\"attributes\":{},\"id\":\"f93aa735-2df8-454a-aa3a-410c7ee40db5\",\"type\":\"Selection\"},{\"attributes\":{\"below\":[{\"id\":\"d15bad24-d39a-4c56-a85b-795c29a2709d\",\"type\":\"LinearAxis\"}],\"left\":[{\"id\":\"80a79c58-e86b-445e-8724-1f65032d29fd\",\"type\":\"LinearAxis\"}],\"plot_height\":400,\"plot_width\":400,\"renderers\":[{\"id\":\"d15bad24-d39a-4c56-a85b-795c29a2709d\",\"type\":\"LinearAxis\"},{\"id\":\"7eb82891-2aaa-43b8-b0a8-28c6b765390d\",\"type\":\"Grid\"},{\"id\":\"80a79c58-e86b-445e-8724-1f65032d29fd\",\"type\":\"LinearAxis\"},{\"id\":\"8c1e6c8a-2df6-4cf3-ab88-92ea7cea2db6\",\"type\":\"Grid\"},{\"id\":\"c3e91fe0-2b08-4d11-a46f-958edca3fe02\",\"type\":\"BoxAnnotation\"},{\"id\":\"38c0dadc-91fc-47ca-82ac-20634f405556\",\"type\":\"Legend\"},{\"id\":\"e76e28fa-6768-409f-bd15-b3c089d2ff81\",\"type\":\"GlyphRenderer\"},{\"id\":\"ceeaa96a-326c-44d0-83e8-5bd6f3049546\",\"type\":\"GlyphRenderer\"},{\"id\":\"b31ea4c4-064e-41a2-9e9c-e2a4f8b2c23c\",\"type\":\"GlyphRenderer\"}],\"title\":{\"id\":\"77e04264-caa6-4d9c-a666-77a2464c34c1\",\"type\":\"Title\"},\"toolbar\":{\"id\":\"608a2e6e-c753-4811-bf80-e462b6c5ca16\",\"type\":\"Toolbar\"},\"x_range\":{\"id\":\"a605dc91-72c7-4438-bc4b-4a19acd92332\",\"type\":\"DataRange1d\"},\"x_scale\":{\"id\":\"ef1d5c95-7140-4179-8e86-87668c75ea5d\",\"type\":\"LinearScale\"},\"y_range\":{\"id\":\"ffe10d8d-eb1e-4ab5-a7dd-bff4b6cbb9a5\",\"type\":\"DataRange1d\"},\"y_scale\":{\"id\":\"52994a99-93ca-4bfb-b490-67b697d6bdf9\",\"type\":\"LinearScale\"}},\"id\":\"dbecd5a8-bb30-46a8-8c2a-5b31b5306738\",\"subtype\":\"Figure\",\"type\":\"Plot\"},{\"attributes\":{},\"id\":\"321006db-c306-473d-9ecb-adfc94592106\",\"type\":\"UnionRenderers\"},{\"attributes\":{\"below\":[{\"id\":\"eafa95bc-a28f-410d-85be-a660f03cfe8b\",\"type\":\"LinearAxis\"}],\"left\":[{\"id\":\"2b6b4c72-cb58-4907-80ef-c025a39204fd\",\"type\":\"LinearAxis\"}],\"plot_height\":400,\"plot_width\":400,\"renderers\":[{\"id\":\"eafa95bc-a28f-410d-85be-a660f03cfe8b\",\"type\":\"LinearAxis\"},{\"id\":\"a9766472-5d36-4bde-abaf-10f2a71c90e8\",\"type\":\"Grid\"},{\"id\":\"2b6b4c72-cb58-4907-80ef-c025a39204fd\",\"type\":\"LinearAxis\"},{\"id\":\"390cbd6b-afae-4557-bcae-479952f4c15a\",\"type\":\"Grid\"},{\"id\":\"aaa561c8-3ed1-4663-b1a7-3d91af497ce8\",\"type\":\"BoxAnnotation\"},{\"id\":\"e51c8c02-7279-401e-bcc1-c82f0989cbe3\",\"type\":\"GlyphRenderer\"}],\"title\":{\"id\":\"fdf8929f-ecda-4120-a222-13032e5170e7\",\"type\":\"Title\"},\"toolbar\":{\"id\":\"2ee74b4d-027c-43ad-83bf-7f1b5af80fb4\",\"type\":\"Toolbar\"},\"x_range\":{\"id\":\"b27e6c52-8a52-4cc2-ac5a-6301e1425033\",\"type\":\"DataRange1d\"},\"x_scale\":{\"id\":\"d71f1ab1-798b-494d-ab65-4c64ddcda47f\",\"type\":\"LinearScale\"},\"y_range\":{\"id\":\"3415c0e7-13c1-41c5-b54f-d2453979ee20\",\"type\":\"DataRange1d\"},\"y_scale\":{\"id\":\"bd0dcad5-7f78-491c-8956-ef517e4fffed\",\"type\":\"LinearScale\"}},\"id\":\"5292057f-bc0b-4033-82fc-170a09ac9d5d\",\"subtype\":\"Figure\",\"type\":\"Plot\"},{\"attributes\":{\"label\":{\"value\":\"B1\"},\"renderers\":[{\"id\":\"ceeaa96a-326c-44d0-83e8-5bd6f3049546\",\"type\":\"GlyphRenderer\"}]},\"id\":\"72383ca8-281d-4435-a70a-3e6d60cb9b61\",\"type\":\"LegendItem\"},{\"attributes\":{\"axis_label\":\"Coeffients\",\"formatter\":{\"id\":\"0d9c4dfa-1026-4fc0-a153-a80bbc7332e6\",\"type\":\"BasicTickFormatter\"},\"plot\":{\"id\":\"dbecd5a8-bb30-46a8-8c2a-5b31b5306738\",\"subtype\":\"Figure\",\"type\":\"Plot\"},\"ticker\":{\"id\":\"138fdd49-7caf-4727-82f9-e4101a11e21b\",\"type\":\"BasicTicker\"}},\"id\":\"80a79c58-e86b-445e-8724-1f65032d29fd\",\"type\":\"LinearAxis\"},{\"attributes\":{\"children\":[{\"id\":\"5292057f-bc0b-4033-82fc-170a09ac9d5d\",\"subtype\":\"Figure\",\"type\":\"Plot\"},{\"id\":\"dbecd5a8-bb30-46a8-8c2a-5b31b5306738\",\"subtype\":\"Figure\",\"type\":\"Plot\"}]},\"id\":\"7f89c770-5edc-488c-82e7-cc8e2f8f85e5\",\"type\":\"Row\"},{\"attributes\":{\"callback\":null},\"id\":\"a605dc91-72c7-4438-bc4b-4a19acd92332\",\"type\":\"DataRange1d\"},{\"attributes\":{\"line_color\":\"pink\",\"line_width\":3,\"x\":{\"field\":\"x\"},\"y\":{\"field\":\"y\"}},\"id\":\"804d24d9-ca2c-4e8a-af44-54cc7a105d1b\",\"type\":\"Line\"},{\"attributes\":{},\"id\":\"4a509897-0215-4c94-b3e5-98be20734e0b\",\"type\":\"ResetTool\"},{\"attributes\":{\"line_alpha\":0.1,\"line_color\":\"#1f77b4\",\"line_width\":3,\"x\":{\"field\":\"x\"},\"y\":{\"field\":\"y\"}},\"id\":\"82e09f10-b004-410d-8920-d778e8d83b95\",\"type\":\"Line\"},{\"attributes\":{\"line_color\":\"#1f77b4\",\"line_width\":3,\"x\":{\"field\":\"x\"},\"y\":{\"field\":\"y\"}},\"id\":\"bccd5c2d-59e5-4b23-966d-b01c73034001\",\"type\":\"Line\"},{\"attributes\":{\"data_source\":{\"id\":\"47704530-1518-4941-a3cc-8ee09f3cdec1\",\"type\":\"ColumnDataSource\"},\"glyph\":{\"id\":\"804d24d9-ca2c-4e8a-af44-54cc7a105d1b\",\"type\":\"Line\"},\"hover_glyph\":null,\"muted_glyph\":null,\"nonselection_glyph\":{\"id\":\"82e09f10-b004-410d-8920-d778e8d83b95\",\"type\":\"Line\"},\"selection_glyph\":null,\"view\":{\"id\":\"2be83a44-0d77-40d1-a958-f345feeda8d8\",\"type\":\"CDSView\"}},\"id\":\"b31ea4c4-064e-41a2-9e9c-e2a4f8b2c23c\",\"type\":\"GlyphRenderer\"},{\"attributes\":{\"data_source\":{\"id\":\"e988a793-c338-4425-b008-be98fc35473a\",\"type\":\"ColumnDataSource\"},\"glyph\":{\"id\":\"bccd5c2d-59e5-4b23-966d-b01c73034001\",\"type\":\"Line\"},\"hover_glyph\":null,\"muted_glyph\":null,\"nonselection_glyph\":{\"id\":\"140c20fc-1e71-4c1f-8612-19d820c205b1\",\"type\":\"Line\"},\"selection_glyph\":null,\"view\":{\"id\":\"8521b5ad-f054-44dc-803b-f0c9323dc671\",\"type\":\"CDSView\"}},\"id\":\"e51c8c02-7279-401e-bcc1-c82f0989cbe3\",\"type\":\"GlyphRenderer\"},{\"attributes\":{\"source\":{\"id\":\"47704530-1518-4941-a3cc-8ee09f3cdec1\",\"type\":\"ColumnDataSource\"}},\"id\":\"2be83a44-0d77-40d1-a958-f345feeda8d8\",\"type\":\"CDSView\"},{\"attributes\":{\"dimension\":1,\"plot\":{\"id\":\"5292057f-bc0b-4033-82fc-170a09ac9d5d\",\"subtype\":\"Figure\",\"type\":\"Plot\"},\"ticker\":{\"id\":\"631b2473-1269-4311-85c6-cf3cf6b62029\",\"type\":\"BasicTicker\"}},\"id\":\"390cbd6b-afae-4557-bcae-479952f4c15a\",\"type\":\"Grid\"},{\"attributes\":{},\"id\":\"c3b28f03-0e42-4821-9a4b-a4472e0d415e\",\"type\":\"Selection\"},{\"attributes\":{\"active_drag\":\"auto\",\"active_inspect\":\"auto\",\"active_multi\":null,\"active_scroll\":\"auto\",\"active_tap\":\"auto\",\"tools\":[{\"id\":\"ab4b8bc1-1fe4-4b78-bddb-63e5a7f37a8c\",\"type\":\"PanTool\"},{\"id\":\"127f10d2-7d00-4bea-b13b-7f2392a8c3bb\",\"type\":\"WheelZoomTool\"},{\"id\":\"b4011424-7365-45c7-b57c-579cc55d97c6\",\"type\":\"BoxZoomTool\"},{\"id\":\"fcc00521-10c8-4ab9-89de-483a06679943\",\"type\":\"SaveTool\"},{\"id\":\"1a81fe5e-58b4-4ee1-8563-7492265e49ca\",\"type\":\"ResetTool\"},{\"id\":\"a1b7a081-2d26-443c-bd15-4da57a009f7b\",\"type\":\"HelpTool\"}]},\"id\":\"608a2e6e-c753-4811-bf80-e462b6c5ca16\",\"type\":\"Toolbar\"},{\"attributes\":{},\"id\":\"388be948-fe90-4850-8d1b-12823196010d\",\"type\":\"UnionRenderers\"},{\"attributes\":{\"callback\":null,\"data\":{\"x\":[0,1,2,3,4,5,6,7,8,9,10,11,12,13,14,15,16,17,18,19,20,21,22,23,24,25,26,27,28,29,30,31,32,33,34,35,36,37,38,39,40,41,42,43,44,45,46,47,48,49],\"y\":{\"__ndarray__\":\"uzS8SIho5z9Z+U+FqhzxP46IdyM5NvU/sDM6XQ1R+D8+fBEbQKr6P+OpN7picPw/ADzDBO7G/T96XYtu4sj+P2St8AnKiv8/6tZbqiAOAEAMuS2nkUQAQLhVlVA3bQBAZKWkRnqLAEBLYM4t76EAQNDgyY+JsgBA/c+HocK+AEDB/crKtscAQHgZoB88zgBAGpH8d/PSAEDXDc9sVdYAQBophTS82ABAFgDtHWvaAEAHBSU7lNsAQBgXvqtc3ABAtezL2t/cAEA8P3TxMd0AQBalJq9h3QBAsETmzHndAEC8ixcIgt0AQIR9bup/3QBAaydlX3fdAEBr06oja90AQCZO+Bdd3QBAt3Fqfk7dAECMH8YnQN0AQAlOtpQy3QBApyIUDibdAEByqoa2Gt0AQLqyNJcQ3QBA/CjUqAfdAECdlw7a/9wAQLAz8xP53ABA5Xj/PPPcAEA4syM77twAQIorDvXp3ABAPMLzUubcAEAk7v0+49wAQLoTe6Xg3ABApAPmdN7cAEBScNOd3NwAQA==\",\"dtype\":\"float64\",\"shape\":[50]}},\"selected\":{\"id\":\"c3b28f03-0e42-4821-9a4b-a4472e0d415e\",\"type\":\"Selection\"},\"selection_policy\":{\"id\":\"388be948-fe90-4850-8d1b-12823196010d\",\"type\":\"UnionRenderers\"}},\"id\":\"b815f487-6775-409f-b5a2-7e2d73eab60a\",\"type\":\"ColumnDataSource\"},{\"attributes\":{\"label\":{\"value\":\"B2\"},\"renderers\":[{\"id\":\"b31ea4c4-064e-41a2-9e9c-e2a4f8b2c23c\",\"type\":\"GlyphRenderer\"}]},\"id\":\"293aa1a9-15a7-4f7f-9e47-33f478d2bd61\",\"type\":\"LegendItem\"},{\"attributes\":{},\"id\":\"f1e2ce14-eea4-492b-9da3-b2ab51b93272\",\"type\":\"WheelZoomTool\"},{\"attributes\":{},\"id\":\"4a345a98-51a8-487e-8e60-7951be868b8b\",\"type\":\"HelpTool\"},{\"attributes\":{\"plot\":null,\"text\":\"\"},\"id\":\"fdf8929f-ecda-4120-a222-13032e5170e7\",\"type\":\"Title\"},{\"attributes\":{},\"id\":\"86afb736-6391-4774-9c3c-db964d3e8a6a\",\"type\":\"BasicTickFormatter\"},{\"attributes\":{},\"id\":\"30ca2e58-ff29-4404-9204-4269619349da\",\"type\":\"SaveTool\"},{\"attributes\":{},\"id\":\"1b85b04c-ca0a-4ac7-b050-0e0871a8a4e8\",\"type\":\"BasicTickFormatter\"},{\"attributes\":{\"overlay\":{\"id\":\"aaa561c8-3ed1-4663-b1a7-3d91af497ce8\",\"type\":\"BoxAnnotation\"}},\"id\":\"65c51bb6-84b2-42b2-a49a-786255a89ffb\",\"type\":\"BoxZoomTool\"},{\"attributes\":{},\"id\":\"4fba6dca-2c9f-49ce-b9d7-2924b05c6729\",\"type\":\"Selection\"},{\"attributes\":{\"data_source\":{\"id\":\"cd09a75a-5a26-450a-b6be-3a4b2173de4c\",\"type\":\"ColumnDataSource\"},\"glyph\":{\"id\":\"1199f29a-fc38-436a-84ff-02495ae98370\",\"type\":\"Line\"},\"hover_glyph\":null,\"muted_glyph\":null,\"nonselection_glyph\":{\"id\":\"18604636-df0e-4bf4-ab64-594196ca046e\",\"type\":\"Line\"},\"selection_glyph\":null,\"view\":{\"id\":\"8f330a1d-c78a-49fc-8ad9-c6e28862ce11\",\"type\":\"CDSView\"}},\"id\":\"e76e28fa-6768-409f-bd15-b3c089d2ff81\",\"type\":\"GlyphRenderer\"},{\"attributes\":{},\"id\":\"11f1d0c4-4a16-4de6-a039-5c88e5e1a001\",\"type\":\"UnionRenderers\"},{\"attributes\":{\"source\":{\"id\":\"e988a793-c338-4425-b008-be98fc35473a\",\"type\":\"ColumnDataSource\"}},\"id\":\"8521b5ad-f054-44dc-803b-f0c9323dc671\",\"type\":\"CDSView\"},{\"attributes\":{},\"id\":\"e51ce46f-92b0-4212-bec5-f3ae67fca85c\",\"type\":\"UnionRenderers\"},{\"attributes\":{\"callback\":null},\"id\":\"b27e6c52-8a52-4cc2-ac5a-6301e1425033\",\"type\":\"DataRange1d\"},{\"attributes\":{},\"id\":\"89eb9d99-b752-426c-b227-cbb88639294c\",\"type\":\"Selection\"},{\"attributes\":{\"active_drag\":\"auto\",\"active_inspect\":\"auto\",\"active_multi\":null,\"active_scroll\":\"auto\",\"active_tap\":\"auto\",\"tools\":[{\"id\":\"4999c8ff-c818-4d45-9257-ee6f116ee326\",\"type\":\"PanTool\"},{\"id\":\"f1e2ce14-eea4-492b-9da3-b2ab51b93272\",\"type\":\"WheelZoomTool\"},{\"id\":\"65c51bb6-84b2-42b2-a49a-786255a89ffb\",\"type\":\"BoxZoomTool\"},{\"id\":\"30ca2e58-ff29-4404-9204-4269619349da\",\"type\":\"SaveTool\"},{\"id\":\"4a509897-0215-4c94-b3e5-98be20734e0b\",\"type\":\"ResetTool\"},{\"id\":\"4a345a98-51a8-487e-8e60-7951be868b8b\",\"type\":\"HelpTool\"}]},\"id\":\"2ee74b4d-027c-43ad-83bf-7f1b5af80fb4\",\"type\":\"Toolbar\"},{\"attributes\":{\"callback\":null,\"data\":{\"x\":[0,1,2,3,4,5,6,7,8,9,10,11,12,13,14,15,16,17,18,19,20,21,22,23,24,25,26,27,28,29,30,31,32,33,34,35,36,37,38,39,40,41,42,43,44,45,46,47,48,49],\"y\":{\"__ndarray__\":\"QFYmZChyKECl6uQ2W38fQMa1A6krxBRAxKsqtOk/DECLev3zhQAEQFQEBsU+uv0/ZjoaPaVN9z/EsswE/kXzPzqZPFmVvPA/jS3bhbtE7j9vqa3wrzzsPzIoILLr8eo/WDlT3tUe6j+2RkeWr5fpPxZ+f0vhQOk/xqJfTPQI6T9JeVBH0eToP/PtD+hmzeg/9CYqZTC+6D/bVSbIR7ToP78hjbHPreg/ZWw3E5Sp6D+EuuuQzaboPy2qYcz6pOg/FgE3m8ej6D/O/4YZ/aLoP+ZcMGZ3oug/qB9yAB+i6D8g5CZ75KHoPwNEdLG9oeg/BA7N9KOh6D8qZqnckqHoP6ADZ3+Hoeg/VsS173+h6D/Uus3meqHoP0aD+It3oeg/oAhYT3Wh6D+/2lLRc6HoP+hPVNJyoeg/XJgKKHKh6D84b0W2caHoP9r4Ompxoeg/blpjN3Gh6D9s+GEVcaHoP+mrof5woeg/ZNxn73Ch6D8IpzblcKHoP2qhY95woeg/1qTR2XCh6D8q8sHWcKHoPw==\",\"dtype\":\"float64\",\"shape\":[50]}},\"selected\":{\"id\":\"4fba6dca-2c9f-49ce-b9d7-2924b05c6729\",\"type\":\"Selection\"},\"selection_policy\":{\"id\":\"e51ce46f-92b0-4212-bec5-f3ae67fca85c\",\"type\":\"UnionRenderers\"}},\"id\":\"e988a793-c338-4425-b008-be98fc35473a\",\"type\":\"ColumnDataSource\"},{\"attributes\":{\"bottom_units\":\"screen\",\"fill_alpha\":{\"value\":0.5},\"fill_color\":{\"value\":\"lightgrey\"},\"left_units\":\"screen\",\"level\":\"overlay\",\"line_alpha\":{\"value\":1.0},\"line_color\":{\"value\":\"black\"},\"line_dash\":[4,4],\"line_width\":{\"value\":2},\"plot\":null,\"render_mode\":\"css\",\"right_units\":\"screen\",\"top_units\":\"screen\"},\"id\":\"aaa561c8-3ed1-4663-b1a7-3d91af497ce8\",\"type\":\"BoxAnnotation\"},{\"attributes\":{},\"id\":\"ef1d5c95-7140-4179-8e86-87668c75ea5d\",\"type\":\"LinearScale\"},{\"attributes\":{\"callback\":null},\"id\":\"ffe10d8d-eb1e-4ab5-a7dd-bff4b6cbb9a5\",\"type\":\"DataRange1d\"},{\"attributes\":{},\"id\":\"138fdd49-7caf-4727-82f9-e4101a11e21b\",\"type\":\"BasicTicker\"},{\"attributes\":{},\"id\":\"bd0dcad5-7f78-491c-8956-ef517e4fffed\",\"type\":\"LinearScale\"},{\"attributes\":{\"plot\":{\"id\":\"dbecd5a8-bb30-46a8-8c2a-5b31b5306738\",\"subtype\":\"Figure\",\"type\":\"Plot\"},\"ticker\":{\"id\":\"449c0f9e-3238-457d-ba1e-923641758d31\",\"type\":\"BasicTicker\"}},\"id\":\"7eb82891-2aaa-43b8-b0a8-28c6b765390d\",\"type\":\"Grid\"},{\"attributes\":{},\"id\":\"449c0f9e-3238-457d-ba1e-923641758d31\",\"type\":\"BasicTicker\"},{\"attributes\":{\"axis_label\":\"Iterations\",\"formatter\":{\"id\":\"5e8ddd68-0a05-490c-b3d6-2ce9f150d7c8\",\"type\":\"BasicTickFormatter\"},\"plot\":{\"id\":\"dbecd5a8-bb30-46a8-8c2a-5b31b5306738\",\"subtype\":\"Figure\",\"type\":\"Plot\"},\"ticker\":{\"id\":\"449c0f9e-3238-457d-ba1e-923641758d31\",\"type\":\"BasicTicker\"}},\"id\":\"d15bad24-d39a-4c56-a85b-795c29a2709d\",\"type\":\"LinearAxis\"},{\"attributes\":{},\"id\":\"52994a99-93ca-4bfb-b490-67b697d6bdf9\",\"type\":\"LinearScale\"}],\"root_ids\":[\"7f89c770-5edc-488c-82e7-cc8e2f8f85e5\"]},\"title\":\"Bokeh Application\",\"version\":\"0.13.0\"}};\n",
       "  var render_items = [{\"docid\":\"9c7f1806-68b7-4161-afe2-6b5a1fd5e833\",\"roots\":{\"7f89c770-5edc-488c-82e7-cc8e2f8f85e5\":\"f88cdad3-be77-43fe-b0bf-1773499ddaad\"}}];\n",
       "  root.Bokeh.embed.embed_items_notebook(docs_json, render_items);\n",
       "\n",
       "  }\n",
       "  if (root.Bokeh !== undefined) {\n",
       "    embed_document(root);\n",
       "  } else {\n",
       "    var attempts = 0;\n",
       "    var timer = setInterval(function(root) {\n",
       "      if (root.Bokeh !== undefined) {\n",
       "        embed_document(root);\n",
       "        clearInterval(timer);\n",
       "      }\n",
       "      attempts++;\n",
       "      if (attempts > 100) {\n",
       "        console.log(\"Bokeh: ERROR: Unable to run BokehJS code because BokehJS library is missing\")\n",
       "        clearInterval(timer);\n",
       "      }\n",
       "    }, 10, root)\n",
       "  }\n",
       "})(window);"
      ],
      "application/vnd.bokehjs_exec.v0+json": ""
     },
     "metadata": {
      "application/vnd.bokehjs_exec.v0+json": {
       "id": "7f89c770-5edc-488c-82e7-cc8e2f8f85e5"
      }
     },
     "output_type": "display_data"
    }
   ],
   "source": [
    "# Generate plot\n",
    "p = figure(height=400,width=400)\n",
    "p.xaxis.axis_label = \"Iterations\"\n",
    "p.yaxis.axis_label = \"Mean Squared Error\"\n",
    "p.line(np.arange(stats.shape[0]),stats[:,0],line_width=3)\n",
    "\n",
    "p2 = figure(height=400,width=400)\n",
    "p2.xaxis.axis_label = \"Iterations\"\n",
    "p2.yaxis.axis_label = \"Coeffients\"\n",
    "p2.line(np.arange(stats.shape[0]),stats[:,1],color=\"red\",line_width=3,legend=\"B0\")\n",
    "p2.line(np.arange(stats.shape[0]),stats[:,2],color=\"orange\",line_width=3,legend=\"B1\")\n",
    "p2.line(np.arange(stats.shape[0]),stats[:,3],color=\"pink\",line_width=3,legend=\"B2\")\n",
    "\n",
    "# Print plot\n",
    "show(row(p,p2))"
   ]
  },
  {
   "cell_type": "code",
   "execution_count": 84,
   "metadata": {},
   "outputs": [
    {
     "data": {
      "text/plain": [
       "array([0.85798737, 2.10784267, 2.97526645])"
      ]
     },
     "execution_count": 84,
     "metadata": {},
     "output_type": "execute_result"
    }
   ],
   "source": [
    "# Our betas retrieved through gradient descent. \n",
    "B"
   ]
  },
  {
   "cell_type": "markdown",
   "metadata": {},
   "source": [
    "Compare our model fit to stats model output. "
   ]
  },
  {
   "cell_type": "code",
   "execution_count": 85,
   "metadata": {},
   "outputs": [
    {
     "data": {
      "text/html": [
       "<table class=\"simpletable\">\n",
       "<caption>OLS Regression Results</caption>\n",
       "<tr>\n",
       "  <th>Dep. Variable:</th>            <td>y</td>        <th>  R-squared:         </th> <td>   0.948</td>\n",
       "</tr>\n",
       "<tr>\n",
       "  <th>Model:</th>                   <td>OLS</td>       <th>  Adj. R-squared:    </th> <td>   0.947</td>\n",
       "</tr>\n",
       "<tr>\n",
       "  <th>Method:</th>             <td>Least Squares</td>  <th>  F-statistic:       </th> <td>   887.7</td>\n",
       "</tr>\n",
       "<tr>\n",
       "  <th>Date:</th>             <td>Mon, 18 Nov 2019</td> <th>  Prob (F-statistic):</th> <td>4.43e-63</td>\n",
       "</tr>\n",
       "<tr>\n",
       "  <th>Time:</th>                 <td>13:30:28</td>     <th>  Log-Likelihood:    </th> <td> -128.81</td>\n",
       "</tr>\n",
       "<tr>\n",
       "  <th>No. Observations:</th>      <td>   100</td>      <th>  AIC:               </th> <td>   263.6</td>\n",
       "</tr>\n",
       "<tr>\n",
       "  <th>Df Residuals:</th>          <td>    97</td>      <th>  BIC:               </th> <td>   271.4</td>\n",
       "</tr>\n",
       "<tr>\n",
       "  <th>Df Model:</th>              <td>     2</td>      <th>                     </th>     <td> </td>   \n",
       "</tr>\n",
       "<tr>\n",
       "  <th>Covariance Type:</th>      <td>nonrobust</td>    <th>                     </th>     <td> </td>   \n",
       "</tr>\n",
       "</table>\n",
       "<table class=\"simpletable\">\n",
       "<tr>\n",
       "      <td></td>         <th>coef</th>     <th>std err</th>      <th>t</th>      <th>P>|t|</th>  <th>[0.025</th>    <th>0.975]</th>  \n",
       "</tr>\n",
       "<tr>\n",
       "  <th>Intercept</th> <td>    0.8580</td> <td>    0.089</td> <td>    9.615</td> <td> 0.000</td> <td>    0.681</td> <td>    1.035</td>\n",
       "</tr>\n",
       "<tr>\n",
       "  <th>x1</th>        <td>    2.1078</td> <td>    0.083</td> <td>   25.260</td> <td> 0.000</td> <td>    1.942</td> <td>    2.273</td>\n",
       "</tr>\n",
       "<tr>\n",
       "  <th>x2</th>        <td>    2.9754</td> <td>    0.092</td> <td>   32.418</td> <td> 0.000</td> <td>    2.793</td> <td>    3.158</td>\n",
       "</tr>\n",
       "</table>\n",
       "<table class=\"simpletable\">\n",
       "<tr>\n",
       "  <th>Omnibus:</th>       <td> 0.350</td> <th>  Durbin-Watson:     </th> <td>   1.961</td>\n",
       "</tr>\n",
       "<tr>\n",
       "  <th>Prob(Omnibus):</th> <td> 0.839</td> <th>  Jarque-Bera (JB):  </th> <td>   0.104</td>\n",
       "</tr>\n",
       "<tr>\n",
       "  <th>Skew:</th>          <td>-0.062</td> <th>  Prob(JB):          </th> <td>   0.949</td>\n",
       "</tr>\n",
       "<tr>\n",
       "  <th>Kurtosis:</th>      <td> 3.097</td> <th>  Cond. No.          </th> <td>    1.13</td>\n",
       "</tr>\n",
       "</table><br/><br/>Warnings:<br/>[1] Standard Errors assume that the covariance matrix of the errors is correctly specified."
      ],
      "text/plain": [
       "<class 'statsmodels.iolib.summary.Summary'>\n",
       "\"\"\"\n",
       "                            OLS Regression Results                            \n",
       "==============================================================================\n",
       "Dep. Variable:                      y   R-squared:                       0.948\n",
       "Model:                            OLS   Adj. R-squared:                  0.947\n",
       "Method:                 Least Squares   F-statistic:                     887.7\n",
       "Date:                Mon, 18 Nov 2019   Prob (F-statistic):           4.43e-63\n",
       "Time:                        13:30:28   Log-Likelihood:                -128.81\n",
       "No. Observations:                 100   AIC:                             263.6\n",
       "Df Residuals:                      97   BIC:                             271.4\n",
       "Df Model:                           2                                         \n",
       "Covariance Type:            nonrobust                                         \n",
       "==============================================================================\n",
       "                 coef    std err          t      P>|t|      [0.025      0.975]\n",
       "------------------------------------------------------------------------------\n",
       "Intercept      0.8580      0.089      9.615      0.000       0.681       1.035\n",
       "x1             2.1078      0.083     25.260      0.000       1.942       2.273\n",
       "x2             2.9754      0.092     32.418      0.000       2.793       3.158\n",
       "==============================================================================\n",
       "Omnibus:                        0.350   Durbin-Watson:                   1.961\n",
       "Prob(Omnibus):                  0.839   Jarque-Bera (JB):                0.104\n",
       "Skew:                          -0.062   Prob(JB):                        0.949\n",
       "Kurtosis:                       3.097   Cond. No.                         1.13\n",
       "==============================================================================\n",
       "\n",
       "Warnings:\n",
       "[1] Standard Errors assume that the covariance matrix of the errors is correctly specified.\n",
       "\"\"\""
      ]
     },
     "execution_count": 85,
     "metadata": {},
     "output_type": "execute_result"
    }
   ],
   "source": [
    "model = smf.ols('y ~ x1 + x2', data=pd.DataFrame(dict(y=y,x1=X[:,1],x2 = X[:,2]))).fit()\n",
    "model.summary()"
   ]
  }
 ],
 "metadata": {
  "kernelspec": {
   "display_name": "Python 3",
   "language": "python",
   "name": "python3"
  },
  "language_info": {
   "codemirror_mode": {
    "name": "ipython",
    "version": 3
   },
   "file_extension": ".py",
   "mimetype": "text/x-python",
   "name": "python",
   "nbconvert_exporter": "python",
   "pygments_lexer": "ipython3",
   "version": "3.7.0"
  },
  "toc": {
   "base_numbering": 1,
   "nav_menu": {},
   "number_sections": false,
   "sideBar": false,
   "skip_h1_title": false,
   "title_cell": "Table of Contents",
   "title_sidebar": "Contents",
   "toc_cell": false,
   "toc_position": {},
   "toc_section_display": true,
   "toc_window_display": false
  }
 },
 "nbformat": 4,
 "nbformat_minor": 2
}
