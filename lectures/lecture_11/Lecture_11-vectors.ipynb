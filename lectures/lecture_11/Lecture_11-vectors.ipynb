{
 "cells": [
  {
   "cell_type": "markdown",
   "metadata": {},
   "source": [
    "<h1><center> PPOL564 - Data Science I: Foundations </center><h1>\n",
    "<h3><center> Lecture 11 <br><br><font color='grey'> \n",
    "Manipulating Vectors  <br> </font></center></h3>"
   ]
  },
  {
   "cell_type": "markdown",
   "metadata": {},
   "source": [
    "# Concepts For today:\n",
    "\n",
    "- Introduction to Notation, Terminology, and Basics of Latex.\n",
    "- Introduction to Vectors\n",
    "- Scalar multiplication with vectors\n",
    "- Vector Addition and Subtraction \n",
    "- Linear Combinations, Linear Independence, and Basis\n",
    "\n",
    "### Note\n",
    "\n",
    "In the following lectures, we'll delve into exploring linear algebra. Note that I'll be using some original code written by the professor to help generate some interactive visualizes for some concepts. To use this code yourself, the `bokeh` module must be installed on your machine (or in your Google Colab Instance)\n",
    "\n",
    "```!pip install bokeh```"
   ]
  },
  {
   "cell_type": "code",
   "execution_count": 1,
   "metadata": {},
   "outputs": [
    {
     "data": {
      "text/html": [
       "\n",
       "    <div class=\"bk-root\">\n",
       "        <a href=\"https://bokeh.pydata.org\" target=\"_blank\" class=\"bk-logo bk-logo-small bk-logo-notebook\"></a>\n",
       "        <span id=\"9fc01853-c026-49c3-a91e-789dcd7c50f2\">Loading BokehJS ...</span>\n",
       "    </div>"
      ]
     },
     "metadata": {},
     "output_type": "display_data"
    },
    {
     "data": {
      "application/javascript": [
       "\n",
       "(function(root) {\n",
       "  function now() {\n",
       "    return new Date();\n",
       "  }\n",
       "\n",
       "  var force = true;\n",
       "\n",
       "  if (typeof (root._bokeh_onload_callbacks) === \"undefined\" || force === true) {\n",
       "    root._bokeh_onload_callbacks = [];\n",
       "    root._bokeh_is_loading = undefined;\n",
       "  }\n",
       "\n",
       "  var JS_MIME_TYPE = 'application/javascript';\n",
       "  var HTML_MIME_TYPE = 'text/html';\n",
       "  var EXEC_MIME_TYPE = 'application/vnd.bokehjs_exec.v0+json';\n",
       "  var CLASS_NAME = 'output_bokeh rendered_html';\n",
       "\n",
       "  /**\n",
       "   * Render data to the DOM node\n",
       "   */\n",
       "  function render(props, node) {\n",
       "    var script = document.createElement(\"script\");\n",
       "    node.appendChild(script);\n",
       "  }\n",
       "\n",
       "  /**\n",
       "   * Handle when an output is cleared or removed\n",
       "   */\n",
       "  function handleClearOutput(event, handle) {\n",
       "    var cell = handle.cell;\n",
       "\n",
       "    var id = cell.output_area._bokeh_element_id;\n",
       "    var server_id = cell.output_area._bokeh_server_id;\n",
       "    // Clean up Bokeh references\n",
       "    if (id != null && id in Bokeh.index) {\n",
       "      Bokeh.index[id].model.document.clear();\n",
       "      delete Bokeh.index[id];\n",
       "    }\n",
       "\n",
       "    if (server_id !== undefined) {\n",
       "      // Clean up Bokeh references\n",
       "      var cmd = \"from bokeh.io.state import curstate; print(curstate().uuid_to_server['\" + server_id + \"'].get_sessions()[0].document.roots[0]._id)\";\n",
       "      cell.notebook.kernel.execute(cmd, {\n",
       "        iopub: {\n",
       "          output: function(msg) {\n",
       "            var id = msg.content.text.trim();\n",
       "            if (id in Bokeh.index) {\n",
       "              Bokeh.index[id].model.document.clear();\n",
       "              delete Bokeh.index[id];\n",
       "            }\n",
       "          }\n",
       "        }\n",
       "      });\n",
       "      // Destroy server and session\n",
       "      var cmd = \"import bokeh.io.notebook as ion; ion.destroy_server('\" + server_id + \"')\";\n",
       "      cell.notebook.kernel.execute(cmd);\n",
       "    }\n",
       "  }\n",
       "\n",
       "  /**\n",
       "   * Handle when a new output is added\n",
       "   */\n",
       "  function handleAddOutput(event, handle) {\n",
       "    var output_area = handle.output_area;\n",
       "    var output = handle.output;\n",
       "\n",
       "    // limit handleAddOutput to display_data with EXEC_MIME_TYPE content only\n",
       "    if ((output.output_type != \"display_data\") || (!output.data.hasOwnProperty(EXEC_MIME_TYPE))) {\n",
       "      return\n",
       "    }\n",
       "\n",
       "    var toinsert = output_area.element.find(\".\" + CLASS_NAME.split(' ')[0]);\n",
       "\n",
       "    if (output.metadata[EXEC_MIME_TYPE][\"id\"] !== undefined) {\n",
       "      toinsert[toinsert.length - 1].firstChild.textContent = output.data[JS_MIME_TYPE];\n",
       "      // store reference to embed id on output_area\n",
       "      output_area._bokeh_element_id = output.metadata[EXEC_MIME_TYPE][\"id\"];\n",
       "    }\n",
       "    if (output.metadata[EXEC_MIME_TYPE][\"server_id\"] !== undefined) {\n",
       "      var bk_div = document.createElement(\"div\");\n",
       "      bk_div.innerHTML = output.data[HTML_MIME_TYPE];\n",
       "      var script_attrs = bk_div.children[0].attributes;\n",
       "      for (var i = 0; i < script_attrs.length; i++) {\n",
       "        toinsert[toinsert.length - 1].firstChild.setAttribute(script_attrs[i].name, script_attrs[i].value);\n",
       "      }\n",
       "      // store reference to server id on output_area\n",
       "      output_area._bokeh_server_id = output.metadata[EXEC_MIME_TYPE][\"server_id\"];\n",
       "    }\n",
       "  }\n",
       "\n",
       "  function register_renderer(events, OutputArea) {\n",
       "\n",
       "    function append_mime(data, metadata, element) {\n",
       "      // create a DOM node to render to\n",
       "      var toinsert = this.create_output_subarea(\n",
       "        metadata,\n",
       "        CLASS_NAME,\n",
       "        EXEC_MIME_TYPE\n",
       "      );\n",
       "      this.keyboard_manager.register_events(toinsert);\n",
       "      // Render to node\n",
       "      var props = {data: data, metadata: metadata[EXEC_MIME_TYPE]};\n",
       "      render(props, toinsert[toinsert.length - 1]);\n",
       "      element.append(toinsert);\n",
       "      return toinsert\n",
       "    }\n",
       "\n",
       "    /* Handle when an output is cleared or removed */\n",
       "    events.on('clear_output.CodeCell', handleClearOutput);\n",
       "    events.on('delete.Cell', handleClearOutput);\n",
       "\n",
       "    /* Handle when a new output is added */\n",
       "    events.on('output_added.OutputArea', handleAddOutput);\n",
       "\n",
       "    /**\n",
       "     * Register the mime type and append_mime function with output_area\n",
       "     */\n",
       "    OutputArea.prototype.register_mime_type(EXEC_MIME_TYPE, append_mime, {\n",
       "      /* Is output safe? */\n",
       "      safe: true,\n",
       "      /* Index of renderer in `output_area.display_order` */\n",
       "      index: 0\n",
       "    });\n",
       "  }\n",
       "\n",
       "  // register the mime type if in Jupyter Notebook environment and previously unregistered\n",
       "  if (root.Jupyter !== undefined) {\n",
       "    var events = require('base/js/events');\n",
       "    var OutputArea = require('notebook/js/outputarea').OutputArea;\n",
       "\n",
       "    if (OutputArea.prototype.mime_types().indexOf(EXEC_MIME_TYPE) == -1) {\n",
       "      register_renderer(events, OutputArea);\n",
       "    }\n",
       "  }\n",
       "\n",
       "  \n",
       "  if (typeof (root._bokeh_timeout) === \"undefined\" || force === true) {\n",
       "    root._bokeh_timeout = Date.now() + 5000;\n",
       "    root._bokeh_failed_load = false;\n",
       "  }\n",
       "\n",
       "  var NB_LOAD_WARNING = {'data': {'text/html':\n",
       "     \"<div style='background-color: #fdd'>\\n\"+\n",
       "     \"<p>\\n\"+\n",
       "     \"BokehJS does not appear to have successfully loaded. If loading BokehJS from CDN, this \\n\"+\n",
       "     \"may be due to a slow or bad network connection. Possible fixes:\\n\"+\n",
       "     \"</p>\\n\"+\n",
       "     \"<ul>\\n\"+\n",
       "     \"<li>re-rerun `output_notebook()` to attempt to load from CDN again, or</li>\\n\"+\n",
       "     \"<li>use INLINE resources instead, as so:</li>\\n\"+\n",
       "     \"</ul>\\n\"+\n",
       "     \"<code>\\n\"+\n",
       "     \"from bokeh.resources import INLINE\\n\"+\n",
       "     \"output_notebook(resources=INLINE)\\n\"+\n",
       "     \"</code>\\n\"+\n",
       "     \"</div>\"}};\n",
       "\n",
       "  function display_loaded() {\n",
       "    var el = document.getElementById(\"9fc01853-c026-49c3-a91e-789dcd7c50f2\");\n",
       "    if (el != null) {\n",
       "      el.textContent = \"BokehJS is loading...\";\n",
       "    }\n",
       "    if (root.Bokeh !== undefined) {\n",
       "      if (el != null) {\n",
       "        el.textContent = \"BokehJS \" + root.Bokeh.version + \" successfully loaded.\";\n",
       "      }\n",
       "    } else if (Date.now() < root._bokeh_timeout) {\n",
       "      setTimeout(display_loaded, 100)\n",
       "    }\n",
       "  }\n",
       "\n",
       "\n",
       "  function run_callbacks() {\n",
       "    try {\n",
       "      root._bokeh_onload_callbacks.forEach(function(callback) { callback() });\n",
       "    }\n",
       "    finally {\n",
       "      delete root._bokeh_onload_callbacks\n",
       "    }\n",
       "    console.info(\"Bokeh: all callbacks have finished\");\n",
       "  }\n",
       "\n",
       "  function load_libs(js_urls, callback) {\n",
       "    root._bokeh_onload_callbacks.push(callback);\n",
       "    if (root._bokeh_is_loading > 0) {\n",
       "      console.log(\"Bokeh: BokehJS is being loaded, scheduling callback at\", now());\n",
       "      return null;\n",
       "    }\n",
       "    if (js_urls == null || js_urls.length === 0) {\n",
       "      run_callbacks();\n",
       "      return null;\n",
       "    }\n",
       "    console.log(\"Bokeh: BokehJS not loaded, scheduling load and callback at\", now());\n",
       "    root._bokeh_is_loading = js_urls.length;\n",
       "    for (var i = 0; i < js_urls.length; i++) {\n",
       "      var url = js_urls[i];\n",
       "      var s = document.createElement('script');\n",
       "      s.src = url;\n",
       "      s.async = false;\n",
       "      s.onreadystatechange = s.onload = function() {\n",
       "        root._bokeh_is_loading--;\n",
       "        if (root._bokeh_is_loading === 0) {\n",
       "          console.log(\"Bokeh: all BokehJS libraries loaded\");\n",
       "          run_callbacks()\n",
       "        }\n",
       "      };\n",
       "      s.onerror = function() {\n",
       "        console.warn(\"failed to load library \" + url);\n",
       "      };\n",
       "      console.log(\"Bokeh: injecting script tag for BokehJS library: \", url);\n",
       "      document.getElementsByTagName(\"head\")[0].appendChild(s);\n",
       "    }\n",
       "  };var element = document.getElementById(\"9fc01853-c026-49c3-a91e-789dcd7c50f2\");\n",
       "  if (element == null) {\n",
       "    console.log(\"Bokeh: ERROR: autoload.js configured with elementid '9fc01853-c026-49c3-a91e-789dcd7c50f2' but no matching script tag was found. \")\n",
       "    return false;\n",
       "  }\n",
       "\n",
       "  var js_urls = [\"https://cdn.pydata.org/bokeh/release/bokeh-0.13.0.min.js\", \"https://cdn.pydata.org/bokeh/release/bokeh-widgets-0.13.0.min.js\", \"https://cdn.pydata.org/bokeh/release/bokeh-tables-0.13.0.min.js\", \"https://cdn.pydata.org/bokeh/release/bokeh-gl-0.13.0.min.js\"];\n",
       "\n",
       "  var inline_js = [\n",
       "    function(Bokeh) {\n",
       "      Bokeh.set_log_level(\"info\");\n",
       "    },\n",
       "    \n",
       "    function(Bokeh) {\n",
       "      \n",
       "    },\n",
       "    function(Bokeh) {\n",
       "      console.log(\"Bokeh: injecting CSS: https://cdn.pydata.org/bokeh/release/bokeh-0.13.0.min.css\");\n",
       "      Bokeh.embed.inject_css(\"https://cdn.pydata.org/bokeh/release/bokeh-0.13.0.min.css\");\n",
       "      console.log(\"Bokeh: injecting CSS: https://cdn.pydata.org/bokeh/release/bokeh-widgets-0.13.0.min.css\");\n",
       "      Bokeh.embed.inject_css(\"https://cdn.pydata.org/bokeh/release/bokeh-widgets-0.13.0.min.css\");\n",
       "      console.log(\"Bokeh: injecting CSS: https://cdn.pydata.org/bokeh/release/bokeh-tables-0.13.0.min.css\");\n",
       "      Bokeh.embed.inject_css(\"https://cdn.pydata.org/bokeh/release/bokeh-tables-0.13.0.min.css\");\n",
       "    }\n",
       "  ];\n",
       "\n",
       "  function run_inline_js() {\n",
       "    \n",
       "    if ((root.Bokeh !== undefined) || (force === true)) {\n",
       "      for (var i = 0; i < inline_js.length; i++) {\n",
       "        inline_js[i].call(root, root.Bokeh);\n",
       "      }if (force === true) {\n",
       "        display_loaded();\n",
       "      }} else if (Date.now() < root._bokeh_timeout) {\n",
       "      setTimeout(run_inline_js, 100);\n",
       "    } else if (!root._bokeh_failed_load) {\n",
       "      console.log(\"Bokeh: BokehJS failed to load within specified timeout.\");\n",
       "      root._bokeh_failed_load = true;\n",
       "    } else if (force !== true) {\n",
       "      var cell = $(document.getElementById(\"9fc01853-c026-49c3-a91e-789dcd7c50f2\")).parents('.cell').data().cell;\n",
       "      cell.output_area.append_execute_result(NB_LOAD_WARNING)\n",
       "    }\n",
       "\n",
       "  }\n",
       "\n",
       "  if (root._bokeh_is_loading === 0) {\n",
       "    console.log(\"Bokeh: BokehJS loaded, going straight to plotting\");\n",
       "    run_inline_js();\n",
       "  } else {\n",
       "    load_libs(js_urls, function() {\n",
       "      console.log(\"Bokeh: BokehJS plotting callback run at\", now());\n",
       "      run_inline_js();\n",
       "    });\n",
       "  }\n",
       "}(window));"
      ],
      "application/vnd.bokehjs_load.v0+json": "\n(function(root) {\n  function now() {\n    return new Date();\n  }\n\n  var force = true;\n\n  if (typeof (root._bokeh_onload_callbacks) === \"undefined\" || force === true) {\n    root._bokeh_onload_callbacks = [];\n    root._bokeh_is_loading = undefined;\n  }\n\n  \n\n  \n  if (typeof (root._bokeh_timeout) === \"undefined\" || force === true) {\n    root._bokeh_timeout = Date.now() + 5000;\n    root._bokeh_failed_load = false;\n  }\n\n  var NB_LOAD_WARNING = {'data': {'text/html':\n     \"<div style='background-color: #fdd'>\\n\"+\n     \"<p>\\n\"+\n     \"BokehJS does not appear to have successfully loaded. If loading BokehJS from CDN, this \\n\"+\n     \"may be due to a slow or bad network connection. Possible fixes:\\n\"+\n     \"</p>\\n\"+\n     \"<ul>\\n\"+\n     \"<li>re-rerun `output_notebook()` to attempt to load from CDN again, or</li>\\n\"+\n     \"<li>use INLINE resources instead, as so:</li>\\n\"+\n     \"</ul>\\n\"+\n     \"<code>\\n\"+\n     \"from bokeh.resources import INLINE\\n\"+\n     \"output_notebook(resources=INLINE)\\n\"+\n     \"</code>\\n\"+\n     \"</div>\"}};\n\n  function display_loaded() {\n    var el = document.getElementById(\"9fc01853-c026-49c3-a91e-789dcd7c50f2\");\n    if (el != null) {\n      el.textContent = \"BokehJS is loading...\";\n    }\n    if (root.Bokeh !== undefined) {\n      if (el != null) {\n        el.textContent = \"BokehJS \" + root.Bokeh.version + \" successfully loaded.\";\n      }\n    } else if (Date.now() < root._bokeh_timeout) {\n      setTimeout(display_loaded, 100)\n    }\n  }\n\n\n  function run_callbacks() {\n    try {\n      root._bokeh_onload_callbacks.forEach(function(callback) { callback() });\n    }\n    finally {\n      delete root._bokeh_onload_callbacks\n    }\n    console.info(\"Bokeh: all callbacks have finished\");\n  }\n\n  function load_libs(js_urls, callback) {\n    root._bokeh_onload_callbacks.push(callback);\n    if (root._bokeh_is_loading > 0) {\n      console.log(\"Bokeh: BokehJS is being loaded, scheduling callback at\", now());\n      return null;\n    }\n    if (js_urls == null || js_urls.length === 0) {\n      run_callbacks();\n      return null;\n    }\n    console.log(\"Bokeh: BokehJS not loaded, scheduling load and callback at\", now());\n    root._bokeh_is_loading = js_urls.length;\n    for (var i = 0; i < js_urls.length; i++) {\n      var url = js_urls[i];\n      var s = document.createElement('script');\n      s.src = url;\n      s.async = false;\n      s.onreadystatechange = s.onload = function() {\n        root._bokeh_is_loading--;\n        if (root._bokeh_is_loading === 0) {\n          console.log(\"Bokeh: all BokehJS libraries loaded\");\n          run_callbacks()\n        }\n      };\n      s.onerror = function() {\n        console.warn(\"failed to load library \" + url);\n      };\n      console.log(\"Bokeh: injecting script tag for BokehJS library: \", url);\n      document.getElementsByTagName(\"head\")[0].appendChild(s);\n    }\n  };var element = document.getElementById(\"9fc01853-c026-49c3-a91e-789dcd7c50f2\");\n  if (element == null) {\n    console.log(\"Bokeh: ERROR: autoload.js configured with elementid '9fc01853-c026-49c3-a91e-789dcd7c50f2' but no matching script tag was found. \")\n    return false;\n  }\n\n  var js_urls = [\"https://cdn.pydata.org/bokeh/release/bokeh-0.13.0.min.js\", \"https://cdn.pydata.org/bokeh/release/bokeh-widgets-0.13.0.min.js\", \"https://cdn.pydata.org/bokeh/release/bokeh-tables-0.13.0.min.js\", \"https://cdn.pydata.org/bokeh/release/bokeh-gl-0.13.0.min.js\"];\n\n  var inline_js = [\n    function(Bokeh) {\n      Bokeh.set_log_level(\"info\");\n    },\n    \n    function(Bokeh) {\n      \n    },\n    function(Bokeh) {\n      console.log(\"Bokeh: injecting CSS: https://cdn.pydata.org/bokeh/release/bokeh-0.13.0.min.css\");\n      Bokeh.embed.inject_css(\"https://cdn.pydata.org/bokeh/release/bokeh-0.13.0.min.css\");\n      console.log(\"Bokeh: injecting CSS: https://cdn.pydata.org/bokeh/release/bokeh-widgets-0.13.0.min.css\");\n      Bokeh.embed.inject_css(\"https://cdn.pydata.org/bokeh/release/bokeh-widgets-0.13.0.min.css\");\n      console.log(\"Bokeh: injecting CSS: https://cdn.pydata.org/bokeh/release/bokeh-tables-0.13.0.min.css\");\n      Bokeh.embed.inject_css(\"https://cdn.pydata.org/bokeh/release/bokeh-tables-0.13.0.min.css\");\n    }\n  ];\n\n  function run_inline_js() {\n    \n    if ((root.Bokeh !== undefined) || (force === true)) {\n      for (var i = 0; i < inline_js.length; i++) {\n        inline_js[i].call(root, root.Bokeh);\n      }if (force === true) {\n        display_loaded();\n      }} else if (Date.now() < root._bokeh_timeout) {\n      setTimeout(run_inline_js, 100);\n    } else if (!root._bokeh_failed_load) {\n      console.log(\"Bokeh: BokehJS failed to load within specified timeout.\");\n      root._bokeh_failed_load = true;\n    } else if (force !== true) {\n      var cell = $(document.getElementById(\"9fc01853-c026-49c3-a91e-789dcd7c50f2\")).parents('.cell').data().cell;\n      cell.output_area.append_execute_result(NB_LOAD_WARNING)\n    }\n\n  }\n\n  if (root._bokeh_is_loading === 0) {\n    console.log(\"Bokeh: BokehJS loaded, going straight to plotting\");\n    run_inline_js();\n  } else {\n    load_libs(js_urls, function() {\n      console.log(\"Bokeh: BokehJS plotting callback run at\", now());\n      run_inline_js();\n    });\n  }\n}(window));"
     },
     "metadata": {},
     "output_type": "display_data"
    }
   ],
   "source": [
    "import numpy as np\n",
    "import requests\n",
    "\n",
    "# Read in Visualization code from Github\n",
    "exec(requests.get('https://raw.githubusercontent.com/edunford/ppol564/master/lectures/visualization_library/visualize.py').content)\n",
    "vla = LinearAlgebra # assign class to an simplier naming convention."
   ]
  },
  {
   "cell_type": "markdown",
   "metadata": {},
   "source": [
    "## Writing Mathematical Notation Using Latex\n",
    "\n",
    "Latex allows for the simple construction and formulation of mathematical statements. The framework extends to robust text editor that eases scientific writing. Moreover, .tex files (the file type for a latex document) is ultimately a text document, making it ideal for version control software, such as git. \n",
    "\n",
    "Writing math in Latex is involved and can take some time to master. Please refer to the following link for a useful [Wiki](https://en.wikibooks.org/wiki/LaTeX/Mathematics) on composing mathematical statements in Latex.\n",
    "\n",
    "Note that Jupyter Notebooks come equipped with Latex, and we can write Latex code directly in to the markdown code chunks, housing our mathematical statements between dollar signs.\n",
    "\n",
    "`$ <math here> $`\n",
    "\n",
    "or \n",
    "\n",
    "`$$ <math here> $$`\n",
    "\n",
    "The difference between on and two `$` is that the former will write the mathematical statement inline whereas the latter will print the statement on its own line. \n",
    "\n",
    "E.g.\n",
    "\n",
    "_We found that $x = 4$._\n",
    "\n",
    "_We found that $$x = 4$$._\n",
    "\n",
    "We can also compose equations as follows:\n",
    "\n",
    "```\n",
    "\\begin{equation}\n",
    "< math here >\n",
    "\\end{equation}\n",
    "```\n",
    "\n",
    "E.g. \n",
    "\n",
    "\\begin{equation}\n",
    "y_i = \\beta_0 + \\beta_1 x_i + \\epsilon_i\n",
    "\\end{equation}\n",
    "\n",
    "There are a number of resources that ease writing mathematical statements in Latex, such as [Daum Equation Editor](https://chrome.google.com/webstore/detail/daum-equation-editor/dinfmiceliiomokeofbocegmacmagjhe/related?hl=en). "
   ]
  },
  {
   "cell_type": "markdown",
   "metadata": {},
   "source": [
    "# Vectors\n",
    "\n",
    "A **vector** provides both magnitude and direction.\n",
    "\n",
    "$$ \\vec {v} = \\begin{bmatrix} 1 \\\\ 2 \\end{bmatrix} $$\n"
   ]
  },
  {
   "cell_type": "code",
   "execution_count": 2,
   "metadata": {},
   "outputs": [],
   "source": [
    "# Define a vector in R2\n",
    "vec1 = np.array([1,2])"
   ]
  },
  {
   "cell_type": "code",
   "execution_count": 3,
   "metadata": {},
   "outputs": [
    {
     "data": {
      "text/html": [
       "\n",
       "\n",
       "\n",
       "\n",
       "\n",
       "\n",
       "  <div class=\"bk-root\" id=\"f0e0784d-9f7f-4d68-aee5-4c303cd84547\"></div>\n"
      ]
     },
     "metadata": {},
     "output_type": "display_data"
    },
    {
     "data": {
      "application/javascript": [
       "(function(root) {\n",
       "  function embed_document(root) {\n",
       "    \n",
       "  var docs_json = {\"294df983-918d-4bc8-a1fa-25820d90465c\":{\"roots\":{\"references\":[{\"attributes\":{\"line_alpha\":0.1,\"line_color\":\"#1f77b4\",\"line_width\":1.5,\"x\":{\"field\":\"x\"},\"y\":{\"field\":\"y\"}},\"id\":\"08244605-e747-4bbb-8c82-a0726fb03f07\",\"type\":\"Line\"},{\"attributes\":{\"data_source\":{\"id\":\"1ce3ff9d-02b7-472a-a0f6-b4d5cfbf4520\",\"type\":\"ColumnDataSource\"},\"glyph\":{\"id\":\"c7921748-d146-4db4-865e-d1e120287728\",\"type\":\"Line\"},\"hover_glyph\":null,\"muted_glyph\":null,\"nonselection_glyph\":{\"id\":\"08244605-e747-4bbb-8c82-a0726fb03f07\",\"type\":\"Line\"},\"selection_glyph\":null,\"view\":{\"id\":\"38cc06ac-17f7-41e9-b0e8-cf8169e84a5a\",\"type\":\"CDSView\"}},\"id\":\"69ee0a20-36b3-4019-bb02-4b136b5dcdbf\",\"type\":\"GlyphRenderer\"},{\"attributes\":{\"source\":{\"id\":\"1ce3ff9d-02b7-472a-a0f6-b4d5cfbf4520\",\"type\":\"ColumnDataSource\"}},\"id\":\"38cc06ac-17f7-41e9-b0e8-cf8169e84a5a\",\"type\":\"CDSView\"},{\"attributes\":{\"active_drag\":\"auto\",\"active_inspect\":\"auto\",\"active_multi\":null,\"active_scroll\":\"auto\",\"active_tap\":\"auto\",\"tools\":[{\"id\":\"8e97ce16-75ee-4060-bb9b-4eb6c97c0d55\",\"type\":\"WheelZoomTool\"},{\"id\":\"67900c90-a611-4825-8e78-dae9c744d442\",\"type\":\"PanTool\"},{\"id\":\"4afede46-bde1-44b3-936e-8c55f37ae931\",\"type\":\"ResetTool\"}]},\"id\":\"93f53484-8d4b-4d65-a418-b8177be1c2be\",\"type\":\"Toolbar\"},{\"attributes\":{},\"id\":\"a2367bea-91dd-4a7c-bd5c-1b7aca65be6b\",\"type\":\"BasicTicker\"},{\"attributes\":{\"end\":{\"id\":\"48249692-8327-45b7-b98a-2ebf1f335e02\",\"type\":\"NormalHead\"},\"line_color\":{\"value\":\"blue\"},\"line_width\":{\"value\":3},\"plot\":{\"id\":\"e89a3e73-2ca9-4abb-a592-e6a8f3b56ede\",\"subtype\":\"Figure\",\"type\":\"Plot\"},\"source\":null,\"start\":null,\"x_end\":{\"value\":1.0},\"x_start\":{\"value\":0.0},\"y_end\":{\"value\":2.0},\"y_start\":{\"value\":0.0}},\"id\":\"e6470867-66bc-42d5-b7c4-57b08a187fa7\",\"type\":\"Arrow\"},{\"attributes\":{\"plot\":null,\"text\":\"\"},\"id\":\"2fb77500-3c17-42c0-befc-519b6647d0cf\",\"type\":\"Title\"},{\"attributes\":{},\"id\":\"befdad47-2ac6-40a6-a962-89f6fe856839\",\"type\":\"BasicTickFormatter\"},{\"attributes\":{},\"id\":\"ec1df86d-6c1b-40b2-a220-49219750fe84\",\"type\":\"BasicTickFormatter\"},{\"attributes\":{\"below\":[{\"id\":\"28c80e69-7f1e-46eb-9486-6ddd74f30c27\",\"type\":\"LinearAxis\"}],\"left\":[{\"id\":\"f242946d-eee6-44e4-844c-21a21ce52bea\",\"type\":\"LinearAxis\"}],\"plot_height\":700,\"plot_width\":700,\"renderers\":[{\"id\":\"28c80e69-7f1e-46eb-9486-6ddd74f30c27\",\"type\":\"LinearAxis\"},{\"id\":\"a3f79217-4b7f-4258-9155-a7a8a36c6fe9\",\"type\":\"Grid\"},{\"id\":\"f242946d-eee6-44e4-844c-21a21ce52bea\",\"type\":\"LinearAxis\"},{\"id\":\"51e9714b-8939-41c3-bcc4-866bac1b8381\",\"type\":\"Grid\"},{\"id\":\"3584f070-1561-4719-b545-7898d5211524\",\"type\":\"GlyphRenderer\"},{\"id\":\"69ee0a20-36b3-4019-bb02-4b136b5dcdbf\",\"type\":\"GlyphRenderer\"},{\"id\":\"e6470867-66bc-42d5-b7c4-57b08a187fa7\",\"type\":\"Arrow\"}],\"title\":{\"id\":\"2fb77500-3c17-42c0-befc-519b6647d0cf\",\"type\":\"Title\"},\"toolbar\":{\"id\":\"93f53484-8d4b-4d65-a418-b8177be1c2be\",\"type\":\"Toolbar\"},\"x_range\":{\"id\":\"328eee6a-2896-42a8-a218-9242bb298222\",\"type\":\"Range1d\"},\"x_scale\":{\"id\":\"60969280-87e4-48ac-a1f9-09d797122772\",\"type\":\"LinearScale\"},\"y_range\":{\"id\":\"f21bc15e-0811-4893-9c1a-edd8a3ff3e71\",\"type\":\"Range1d\"},\"y_scale\":{\"id\":\"65fc7139-47dc-4534-b6ea-45b2f8574eb2\",\"type\":\"LinearScale\"}},\"id\":\"e89a3e73-2ca9-4abb-a592-e6a8f3b56ede\",\"subtype\":\"Figure\",\"type\":\"Plot\"},{\"attributes\":{\"callback\":null,\"data\":{\"x\":[-5.0,5.0],\"y\":[0.0,0.0]},\"selected\":{\"id\":\"5ab9e747-7fae-477a-b27c-087e61845e2c\",\"type\":\"Selection\"},\"selection_policy\":{\"id\":\"6fe5eaf1-7999-4ad6-87fb-cb1ed3b7935f\",\"type\":\"UnionRenderers\"}},\"id\":\"a0c155f6-e24c-486e-856e-e475ff2fb67b\",\"type\":\"ColumnDataSource\"},{\"attributes\":{},\"id\":\"6fe5eaf1-7999-4ad6-87fb-cb1ed3b7935f\",\"type\":\"UnionRenderers\"},{\"attributes\":{},\"id\":\"60969280-87e4-48ac-a1f9-09d797122772\",\"type\":\"LinearScale\"},{\"attributes\":{},\"id\":\"5ab9e747-7fae-477a-b27c-087e61845e2c\",\"type\":\"Selection\"},{\"attributes\":{},\"id\":\"a191ac21-08f3-48df-a464-bd0ad457da8a\",\"type\":\"UnionRenderers\"},{\"attributes\":{\"callback\":null,\"end\":3.5,\"start\":-3.5},\"id\":\"328eee6a-2896-42a8-a218-9242bb298222\",\"type\":\"Range1d\"},{\"attributes\":{},\"id\":\"d47d4455-c6aa-481f-a53a-2d8a615ebd54\",\"type\":\"Selection\"},{\"attributes\":{\"callback\":null,\"end\":3.5,\"start\":-3.5},\"id\":\"f21bc15e-0811-4893-9c1a-edd8a3ff3e71\",\"type\":\"Range1d\"},{\"attributes\":{\"fill_color\":{\"value\":\"blue\"},\"line_color\":{\"value\":\"blue\"},\"plot\":null,\"size\":10},\"id\":\"48249692-8327-45b7-b98a-2ebf1f335e02\",\"type\":\"NormalHead\"},{\"attributes\":{\"data_source\":{\"id\":\"a0c155f6-e24c-486e-856e-e475ff2fb67b\",\"type\":\"ColumnDataSource\"},\"glyph\":{\"id\":\"5fb59088-ee6f-412f-9c87-ee1bcbe060e1\",\"type\":\"Line\"},\"hover_glyph\":null,\"muted_glyph\":null,\"nonselection_glyph\":{\"id\":\"8216e423-5229-4cdc-9ac2-a072a8d8f22f\",\"type\":\"Line\"},\"selection_glyph\":null,\"view\":{\"id\":\"c0485340-cac2-47ea-b1cb-206d3324591d\",\"type\":\"CDSView\"}},\"id\":\"3584f070-1561-4719-b545-7898d5211524\",\"type\":\"GlyphRenderer\"},{\"attributes\":{\"line_alpha\":0.1,\"line_color\":\"#1f77b4\",\"line_width\":1.5,\"x\":{\"field\":\"x\"},\"y\":{\"field\":\"y\"}},\"id\":\"8216e423-5229-4cdc-9ac2-a072a8d8f22f\",\"type\":\"Line\"},{\"attributes\":{\"plot\":{\"id\":\"e89a3e73-2ca9-4abb-a592-e6a8f3b56ede\",\"subtype\":\"Figure\",\"type\":\"Plot\"},\"ticker\":{\"id\":\"a2367bea-91dd-4a7c-bd5c-1b7aca65be6b\",\"type\":\"BasicTicker\"}},\"id\":\"a3f79217-4b7f-4258-9155-a7a8a36c6fe9\",\"type\":\"Grid\"},{\"attributes\":{\"formatter\":{\"id\":\"befdad47-2ac6-40a6-a962-89f6fe856839\",\"type\":\"BasicTickFormatter\"},\"plot\":{\"id\":\"e89a3e73-2ca9-4abb-a592-e6a8f3b56ede\",\"subtype\":\"Figure\",\"type\":\"Plot\"},\"ticker\":{\"id\":\"a2367bea-91dd-4a7c-bd5c-1b7aca65be6b\",\"type\":\"BasicTicker\"}},\"id\":\"28c80e69-7f1e-46eb-9486-6ddd74f30c27\",\"type\":\"LinearAxis\"},{\"attributes\":{\"source\":{\"id\":\"a0c155f6-e24c-486e-856e-e475ff2fb67b\",\"type\":\"ColumnDataSource\"}},\"id\":\"c0485340-cac2-47ea-b1cb-206d3324591d\",\"type\":\"CDSView\"},{\"attributes\":{\"callback\":null,\"data\":{\"x\":[0.0,0.0],\"y\":[-5.0,5.0]},\"selected\":{\"id\":\"d47d4455-c6aa-481f-a53a-2d8a615ebd54\",\"type\":\"Selection\"},\"selection_policy\":{\"id\":\"a191ac21-08f3-48df-a464-bd0ad457da8a\",\"type\":\"UnionRenderers\"}},\"id\":\"1ce3ff9d-02b7-472a-a0f6-b4d5cfbf4520\",\"type\":\"ColumnDataSource\"},{\"attributes\":{\"formatter\":{\"id\":\"ec1df86d-6c1b-40b2-a220-49219750fe84\",\"type\":\"BasicTickFormatter\"},\"plot\":{\"id\":\"e89a3e73-2ca9-4abb-a592-e6a8f3b56ede\",\"subtype\":\"Figure\",\"type\":\"Plot\"},\"ticker\":{\"id\":\"47baa6a0-32b2-404a-ba94-d5369dbd4d34\",\"type\":\"BasicTicker\"}},\"id\":\"f242946d-eee6-44e4-844c-21a21ce52bea\",\"type\":\"LinearAxis\"},{\"attributes\":{\"line_width\":1.5,\"x\":{\"field\":\"x\"},\"y\":{\"field\":\"y\"}},\"id\":\"5fb59088-ee6f-412f-9c87-ee1bcbe060e1\",\"type\":\"Line\"},{\"attributes\":{},\"id\":\"8e97ce16-75ee-4060-bb9b-4eb6c97c0d55\",\"type\":\"WheelZoomTool\"},{\"attributes\":{},\"id\":\"65fc7139-47dc-4534-b6ea-45b2f8574eb2\",\"type\":\"LinearScale\"},{\"attributes\":{},\"id\":\"67900c90-a611-4825-8e78-dae9c744d442\",\"type\":\"PanTool\"},{\"attributes\":{},\"id\":\"4afede46-bde1-44b3-936e-8c55f37ae931\",\"type\":\"ResetTool\"},{\"attributes\":{\"dimension\":1,\"plot\":{\"id\":\"e89a3e73-2ca9-4abb-a592-e6a8f3b56ede\",\"subtype\":\"Figure\",\"type\":\"Plot\"},\"ticker\":{\"id\":\"47baa6a0-32b2-404a-ba94-d5369dbd4d34\",\"type\":\"BasicTicker\"}},\"id\":\"51e9714b-8939-41c3-bcc4-866bac1b8381\",\"type\":\"Grid\"},{\"attributes\":{},\"id\":\"47baa6a0-32b2-404a-ba94-d5369dbd4d34\",\"type\":\"BasicTicker\"},{\"attributes\":{\"line_width\":1.5,\"x\":{\"field\":\"x\"},\"y\":{\"field\":\"y\"}},\"id\":\"c7921748-d146-4db4-865e-d1e120287728\",\"type\":\"Line\"}],\"root_ids\":[\"e89a3e73-2ca9-4abb-a592-e6a8f3b56ede\"]},\"title\":\"Bokeh Application\",\"version\":\"0.13.0\"}};\n",
       "  var render_items = [{\"docid\":\"294df983-918d-4bc8-a1fa-25820d90465c\",\"roots\":{\"e89a3e73-2ca9-4abb-a592-e6a8f3b56ede\":\"f0e0784d-9f7f-4d68-aee5-4c303cd84547\"}}];\n",
       "  root.Bokeh.embed.embed_items_notebook(docs_json, render_items);\n",
       "\n",
       "  }\n",
       "  if (root.Bokeh !== undefined) {\n",
       "    embed_document(root);\n",
       "  } else {\n",
       "    var attempts = 0;\n",
       "    var timer = setInterval(function(root) {\n",
       "      if (root.Bokeh !== undefined) {\n",
       "        embed_document(root);\n",
       "        clearInterval(timer);\n",
       "      }\n",
       "      attempts++;\n",
       "      if (attempts > 100) {\n",
       "        console.log(\"Bokeh: ERROR: Unable to run BokehJS code because BokehJS library is missing\")\n",
       "        clearInterval(timer);\n",
       "      }\n",
       "    }, 10, root)\n",
       "  }\n",
       "})(window);"
      ],
      "application/vnd.bokehjs_exec.v0+json": ""
     },
     "metadata": {
      "application/vnd.bokehjs_exec.v0+json": {
       "id": "e89a3e73-2ca9-4abb-a592-e6a8f3b56ede"
      }
     },
     "output_type": "display_data"
    }
   ],
   "source": [
    "plot = vla()\n",
    "plot.graph()\n",
    "plot.vector(vec1)\n",
    "plot.show()"
   ]
  },
  {
   "cell_type": "markdown",
   "metadata": {},
   "source": [
    "Vectors are normally portrayed as shooting out from the origin (0,0); however, there is nothing implicitly binding them to this location. \n",
    "\n",
    "Note that using the zero vector ($\\vec{0}$) as an origin is known as the \"standard position\""
   ]
  },
  {
   "cell_type": "code",
   "execution_count": 4,
   "metadata": {
    "scrolled": false
   },
   "outputs": [
    {
     "data": {
      "text/html": [
       "\n",
       "\n",
       "\n",
       "\n",
       "\n",
       "\n",
       "  <div class=\"bk-root\" id=\"fffa181f-25c7-4c03-9a2f-a5b79b37a485\"></div>\n"
      ]
     },
     "metadata": {},
     "output_type": "display_data"
    },
    {
     "data": {
      "application/javascript": [
       "(function(root) {\n",
       "  function embed_document(root) {\n",
       "    \n",
       "  var docs_json = {\"9175ee19-3a88-40d6-9e0a-e2f528f11fa8\":{\"roots\":{\"references\":[{\"attributes\":{\"line_alpha\":0.1,\"line_color\":\"#1f77b4\",\"line_width\":1.5,\"x\":{\"field\":\"x\"},\"y\":{\"field\":\"y\"}},\"id\":\"08244605-e747-4bbb-8c82-a0726fb03f07\",\"type\":\"Line\"},{\"attributes\":{\"data_source\":{\"id\":\"1ce3ff9d-02b7-472a-a0f6-b4d5cfbf4520\",\"type\":\"ColumnDataSource\"},\"glyph\":{\"id\":\"c7921748-d146-4db4-865e-d1e120287728\",\"type\":\"Line\"},\"hover_glyph\":null,\"muted_glyph\":null,\"nonselection_glyph\":{\"id\":\"08244605-e747-4bbb-8c82-a0726fb03f07\",\"type\":\"Line\"},\"selection_glyph\":null,\"view\":{\"id\":\"38cc06ac-17f7-41e9-b0e8-cf8169e84a5a\",\"type\":\"CDSView\"}},\"id\":\"69ee0a20-36b3-4019-bb02-4b136b5dcdbf\",\"type\":\"GlyphRenderer\"},{\"attributes\":{\"source\":{\"id\":\"1ce3ff9d-02b7-472a-a0f6-b4d5cfbf4520\",\"type\":\"ColumnDataSource\"}},\"id\":\"38cc06ac-17f7-41e9-b0e8-cf8169e84a5a\",\"type\":\"CDSView\"},{\"attributes\":{\"active_drag\":\"auto\",\"active_inspect\":\"auto\",\"active_multi\":null,\"active_scroll\":\"auto\",\"active_tap\":\"auto\",\"tools\":[{\"id\":\"8e97ce16-75ee-4060-bb9b-4eb6c97c0d55\",\"type\":\"WheelZoomTool\"},{\"id\":\"67900c90-a611-4825-8e78-dae9c744d442\",\"type\":\"PanTool\"},{\"id\":\"4afede46-bde1-44b3-936e-8c55f37ae931\",\"type\":\"ResetTool\"}]},\"id\":\"93f53484-8d4b-4d65-a418-b8177be1c2be\",\"type\":\"Toolbar\"},{\"attributes\":{\"fill_alpha\":{\"value\":0.3},\"fill_color\":{\"value\":\"blue\"},\"line_alpha\":{\"value\":0.3},\"line_color\":{\"value\":\"blue\"},\"plot\":null,\"size\":10},\"id\":\"3192caa5-4025-4c6b-a37e-0274884453d2\",\"type\":\"NormalHead\"},{\"attributes\":{},\"id\":\"a2367bea-91dd-4a7c-bd5c-1b7aca65be6b\",\"type\":\"BasicTicker\"},{\"attributes\":{\"end\":{\"id\":\"48249692-8327-45b7-b98a-2ebf1f335e02\",\"type\":\"NormalHead\"},\"line_color\":{\"value\":\"blue\"},\"line_width\":{\"value\":3},\"plot\":{\"id\":\"e89a3e73-2ca9-4abb-a592-e6a8f3b56ede\",\"subtype\":\"Figure\",\"type\":\"Plot\"},\"source\":null,\"start\":null,\"x_end\":{\"value\":1.0},\"x_start\":{\"value\":0.0},\"y_end\":{\"value\":2.0},\"y_start\":{\"value\":0.0}},\"id\":\"e6470867-66bc-42d5-b7c4-57b08a187fa7\",\"type\":\"Arrow\"},{\"attributes\":{\"end\":{\"id\":\"fc74053d-983f-4126-8333-023b7a4de064\",\"type\":\"NormalHead\"},\"line_alpha\":{\"value\":0.3},\"line_color\":{\"value\":\"blue\"},\"line_width\":{\"value\":3},\"plot\":{\"id\":\"e89a3e73-2ca9-4abb-a592-e6a8f3b56ede\",\"subtype\":\"Figure\",\"type\":\"Plot\"},\"source\":null,\"start\":null,\"x_end\":{\"value\":-1.0},\"x_start\":{\"value\":-2},\"y_end\":{\"value\":1.0},\"y_start\":{\"value\":-1}},\"id\":\"7da85555-8947-4b2d-aa09-fc0d75192f11\",\"type\":\"Arrow\"},{\"attributes\":{\"plot\":null,\"text\":\"\"},\"id\":\"2fb77500-3c17-42c0-befc-519b6647d0cf\",\"type\":\"Title\"},{\"attributes\":{},\"id\":\"befdad47-2ac6-40a6-a962-89f6fe856839\",\"type\":\"BasicTickFormatter\"},{\"attributes\":{\"end\":{\"id\":\"3192caa5-4025-4c6b-a37e-0274884453d2\",\"type\":\"NormalHead\"},\"line_alpha\":{\"value\":0.3},\"line_color\":{\"value\":\"blue\"},\"line_width\":{\"value\":3},\"plot\":{\"id\":\"e89a3e73-2ca9-4abb-a592-e6a8f3b56ede\",\"subtype\":\"Figure\",\"type\":\"Plot\"},\"source\":null,\"start\":null,\"x_end\":{\"value\":2.0},\"x_start\":{\"value\":1},\"y_end\":{\"value\":3.0},\"y_start\":{\"value\":1}},\"id\":\"c68fe56e-2828-44a8-bb28-2021d3c1e3be\",\"type\":\"Arrow\"},{\"attributes\":{\"below\":[{\"id\":\"28c80e69-7f1e-46eb-9486-6ddd74f30c27\",\"type\":\"LinearAxis\"}],\"left\":[{\"id\":\"f242946d-eee6-44e4-844c-21a21ce52bea\",\"type\":\"LinearAxis\"}],\"plot_height\":700,\"plot_width\":700,\"renderers\":[{\"id\":\"28c80e69-7f1e-46eb-9486-6ddd74f30c27\",\"type\":\"LinearAxis\"},{\"id\":\"a3f79217-4b7f-4258-9155-a7a8a36c6fe9\",\"type\":\"Grid\"},{\"id\":\"f242946d-eee6-44e4-844c-21a21ce52bea\",\"type\":\"LinearAxis\"},{\"id\":\"51e9714b-8939-41c3-bcc4-866bac1b8381\",\"type\":\"Grid\"},{\"id\":\"3584f070-1561-4719-b545-7898d5211524\",\"type\":\"GlyphRenderer\"},{\"id\":\"69ee0a20-36b3-4019-bb02-4b136b5dcdbf\",\"type\":\"GlyphRenderer\"},{\"id\":\"e6470867-66bc-42d5-b7c4-57b08a187fa7\",\"type\":\"Arrow\"},{\"id\":\"7da85555-8947-4b2d-aa09-fc0d75192f11\",\"type\":\"Arrow\"},{\"id\":\"c68fe56e-2828-44a8-bb28-2021d3c1e3be\",\"type\":\"Arrow\"},{\"id\":\"890b8d48-c3ee-4158-b8af-8b92f360b1f3\",\"type\":\"Arrow\"}],\"title\":{\"id\":\"2fb77500-3c17-42c0-befc-519b6647d0cf\",\"type\":\"Title\"},\"toolbar\":{\"id\":\"93f53484-8d4b-4d65-a418-b8177be1c2be\",\"type\":\"Toolbar\"},\"x_range\":{\"id\":\"328eee6a-2896-42a8-a218-9242bb298222\",\"type\":\"Range1d\"},\"x_scale\":{\"id\":\"60969280-87e4-48ac-a1f9-09d797122772\",\"type\":\"LinearScale\"},\"y_range\":{\"id\":\"f21bc15e-0811-4893-9c1a-edd8a3ff3e71\",\"type\":\"Range1d\"},\"y_scale\":{\"id\":\"65fc7139-47dc-4534-b6ea-45b2f8574eb2\",\"type\":\"LinearScale\"}},\"id\":\"e89a3e73-2ca9-4abb-a592-e6a8f3b56ede\",\"subtype\":\"Figure\",\"type\":\"Plot\"},{\"attributes\":{},\"id\":\"ec1df86d-6c1b-40b2-a220-49219750fe84\",\"type\":\"BasicTickFormatter\"},{\"attributes\":{\"callback\":null,\"data\":{\"x\":[-5.0,5.0],\"y\":[0.0,0.0]},\"selected\":{\"id\":\"5ab9e747-7fae-477a-b27c-087e61845e2c\",\"type\":\"Selection\"},\"selection_policy\":{\"id\":\"6fe5eaf1-7999-4ad6-87fb-cb1ed3b7935f\",\"type\":\"UnionRenderers\"}},\"id\":\"a0c155f6-e24c-486e-856e-e475ff2fb67b\",\"type\":\"ColumnDataSource\"},{\"attributes\":{},\"id\":\"6fe5eaf1-7999-4ad6-87fb-cb1ed3b7935f\",\"type\":\"UnionRenderers\"},{\"attributes\":{},\"id\":\"60969280-87e4-48ac-a1f9-09d797122772\",\"type\":\"LinearScale\"},{\"attributes\":{\"end\":{\"id\":\"d5da73d3-0e5b-4af3-af65-db753761bdc5\",\"type\":\"NormalHead\"},\"line_alpha\":{\"value\":0.3},\"line_color\":{\"value\":\"blue\"},\"line_width\":{\"value\":3},\"plot\":{\"id\":\"e89a3e73-2ca9-4abb-a592-e6a8f3b56ede\",\"subtype\":\"Figure\",\"type\":\"Plot\"},\"source\":null,\"start\":null,\"x_end\":{\"value\":1.0},\"x_start\":{\"value\":0},\"y_end\":{\"value\":-1.0},\"y_start\":{\"value\":-3}},\"id\":\"890b8d48-c3ee-4158-b8af-8b92f360b1f3\",\"type\":\"Arrow\"},{\"attributes\":{},\"id\":\"5ab9e747-7fae-477a-b27c-087e61845e2c\",\"type\":\"Selection\"},{\"attributes\":{},\"id\":\"a191ac21-08f3-48df-a464-bd0ad457da8a\",\"type\":\"UnionRenderers\"},{\"attributes\":{\"callback\":null,\"end\":3.5,\"start\":-3.5},\"id\":\"328eee6a-2896-42a8-a218-9242bb298222\",\"type\":\"Range1d\"},{\"attributes\":{},\"id\":\"d47d4455-c6aa-481f-a53a-2d8a615ebd54\",\"type\":\"Selection\"},{\"attributes\":{\"callback\":null,\"end\":3.5,\"start\":-3.5},\"id\":\"f21bc15e-0811-4893-9c1a-edd8a3ff3e71\",\"type\":\"Range1d\"},{\"attributes\":{\"fill_color\":{\"value\":\"blue\"},\"line_color\":{\"value\":\"blue\"},\"plot\":null,\"size\":10},\"id\":\"48249692-8327-45b7-b98a-2ebf1f335e02\",\"type\":\"NormalHead\"},{\"attributes\":{\"data_source\":{\"id\":\"a0c155f6-e24c-486e-856e-e475ff2fb67b\",\"type\":\"ColumnDataSource\"},\"glyph\":{\"id\":\"5fb59088-ee6f-412f-9c87-ee1bcbe060e1\",\"type\":\"Line\"},\"hover_glyph\":null,\"muted_glyph\":null,\"nonselection_glyph\":{\"id\":\"8216e423-5229-4cdc-9ac2-a072a8d8f22f\",\"type\":\"Line\"},\"selection_glyph\":null,\"view\":{\"id\":\"c0485340-cac2-47ea-b1cb-206d3324591d\",\"type\":\"CDSView\"}},\"id\":\"3584f070-1561-4719-b545-7898d5211524\",\"type\":\"GlyphRenderer\"},{\"attributes\":{\"fill_alpha\":{\"value\":0.3},\"fill_color\":{\"value\":\"blue\"},\"line_alpha\":{\"value\":0.3},\"line_color\":{\"value\":\"blue\"},\"plot\":null,\"size\":10},\"id\":\"d5da73d3-0e5b-4af3-af65-db753761bdc5\",\"type\":\"NormalHead\"},{\"attributes\":{\"line_alpha\":0.1,\"line_color\":\"#1f77b4\",\"line_width\":1.5,\"x\":{\"field\":\"x\"},\"y\":{\"field\":\"y\"}},\"id\":\"8216e423-5229-4cdc-9ac2-a072a8d8f22f\",\"type\":\"Line\"},{\"attributes\":{\"plot\":{\"id\":\"e89a3e73-2ca9-4abb-a592-e6a8f3b56ede\",\"subtype\":\"Figure\",\"type\":\"Plot\"},\"ticker\":{\"id\":\"a2367bea-91dd-4a7c-bd5c-1b7aca65be6b\",\"type\":\"BasicTicker\"}},\"id\":\"a3f79217-4b7f-4258-9155-a7a8a36c6fe9\",\"type\":\"Grid\"},{\"attributes\":{\"fill_alpha\":{\"value\":0.3},\"fill_color\":{\"value\":\"blue\"},\"line_alpha\":{\"value\":0.3},\"line_color\":{\"value\":\"blue\"},\"plot\":null,\"size\":10},\"id\":\"fc74053d-983f-4126-8333-023b7a4de064\",\"type\":\"NormalHead\"},{\"attributes\":{\"formatter\":{\"id\":\"befdad47-2ac6-40a6-a962-89f6fe856839\",\"type\":\"BasicTickFormatter\"},\"plot\":{\"id\":\"e89a3e73-2ca9-4abb-a592-e6a8f3b56ede\",\"subtype\":\"Figure\",\"type\":\"Plot\"},\"ticker\":{\"id\":\"a2367bea-91dd-4a7c-bd5c-1b7aca65be6b\",\"type\":\"BasicTicker\"}},\"id\":\"28c80e69-7f1e-46eb-9486-6ddd74f30c27\",\"type\":\"LinearAxis\"},{\"attributes\":{\"source\":{\"id\":\"a0c155f6-e24c-486e-856e-e475ff2fb67b\",\"type\":\"ColumnDataSource\"}},\"id\":\"c0485340-cac2-47ea-b1cb-206d3324591d\",\"type\":\"CDSView\"},{\"attributes\":{\"callback\":null,\"data\":{\"x\":[0.0,0.0],\"y\":[-5.0,5.0]},\"selected\":{\"id\":\"d47d4455-c6aa-481f-a53a-2d8a615ebd54\",\"type\":\"Selection\"},\"selection_policy\":{\"id\":\"a191ac21-08f3-48df-a464-bd0ad457da8a\",\"type\":\"UnionRenderers\"}},\"id\":\"1ce3ff9d-02b7-472a-a0f6-b4d5cfbf4520\",\"type\":\"ColumnDataSource\"},{\"attributes\":{\"formatter\":{\"id\":\"ec1df86d-6c1b-40b2-a220-49219750fe84\",\"type\":\"BasicTickFormatter\"},\"plot\":{\"id\":\"e89a3e73-2ca9-4abb-a592-e6a8f3b56ede\",\"subtype\":\"Figure\",\"type\":\"Plot\"},\"ticker\":{\"id\":\"47baa6a0-32b2-404a-ba94-d5369dbd4d34\",\"type\":\"BasicTicker\"}},\"id\":\"f242946d-eee6-44e4-844c-21a21ce52bea\",\"type\":\"LinearAxis\"},{\"attributes\":{\"line_width\":1.5,\"x\":{\"field\":\"x\"},\"y\":{\"field\":\"y\"}},\"id\":\"5fb59088-ee6f-412f-9c87-ee1bcbe060e1\",\"type\":\"Line\"},{\"attributes\":{},\"id\":\"8e97ce16-75ee-4060-bb9b-4eb6c97c0d55\",\"type\":\"WheelZoomTool\"},{\"attributes\":{},\"id\":\"65fc7139-47dc-4534-b6ea-45b2f8574eb2\",\"type\":\"LinearScale\"},{\"attributes\":{},\"id\":\"67900c90-a611-4825-8e78-dae9c744d442\",\"type\":\"PanTool\"},{\"attributes\":{},\"id\":\"4afede46-bde1-44b3-936e-8c55f37ae931\",\"type\":\"ResetTool\"},{\"attributes\":{\"dimension\":1,\"plot\":{\"id\":\"e89a3e73-2ca9-4abb-a592-e6a8f3b56ede\",\"subtype\":\"Figure\",\"type\":\"Plot\"},\"ticker\":{\"id\":\"47baa6a0-32b2-404a-ba94-d5369dbd4d34\",\"type\":\"BasicTicker\"}},\"id\":\"51e9714b-8939-41c3-bcc4-866bac1b8381\",\"type\":\"Grid\"},{\"attributes\":{},\"id\":\"47baa6a0-32b2-404a-ba94-d5369dbd4d34\",\"type\":\"BasicTicker\"},{\"attributes\":{\"line_width\":1.5,\"x\":{\"field\":\"x\"},\"y\":{\"field\":\"y\"}},\"id\":\"c7921748-d146-4db4-865e-d1e120287728\",\"type\":\"Line\"}],\"root_ids\":[\"e89a3e73-2ca9-4abb-a592-e6a8f3b56ede\"]},\"title\":\"Bokeh Application\",\"version\":\"0.13.0\"}};\n",
       "  var render_items = [{\"docid\":\"9175ee19-3a88-40d6-9e0a-e2f528f11fa8\",\"roots\":{\"e89a3e73-2ca9-4abb-a592-e6a8f3b56ede\":\"fffa181f-25c7-4c03-9a2f-a5b79b37a485\"}}];\n",
       "  root.Bokeh.embed.embed_items_notebook(docs_json, render_items);\n",
       "\n",
       "  }\n",
       "  if (root.Bokeh !== undefined) {\n",
       "    embed_document(root);\n",
       "  } else {\n",
       "    var attempts = 0;\n",
       "    var timer = setInterval(function(root) {\n",
       "      if (root.Bokeh !== undefined) {\n",
       "        embed_document(root);\n",
       "        clearInterval(timer);\n",
       "      }\n",
       "      attempts++;\n",
       "      if (attempts > 100) {\n",
       "        console.log(\"Bokeh: ERROR: Unable to run BokehJS code because BokehJS library is missing\")\n",
       "        clearInterval(timer);\n",
       "      }\n",
       "    }, 10, root)\n",
       "  }\n",
       "})(window);"
      ],
      "application/vnd.bokehjs_exec.v0+json": ""
     },
     "metadata": {
      "application/vnd.bokehjs_exec.v0+json": {
       "id": "e89a3e73-2ca9-4abb-a592-e6a8f3b56ede"
      }
     },
     "output_type": "display_data"
    }
   ],
   "source": [
    "plot.change_origin(np.array([-2,-1]))\n",
    "plot.vector(vec1,add_color=\"blue\",alpha=.3)\n",
    "\n",
    "plot.change_origin(np.array([1,1]))\n",
    "plot.vector(vec1,add_color=\"blue\",alpha=.3)\n",
    "\n",
    "plot.change_origin(np.array([0,-3]))\n",
    "plot.vector(vec1,add_color=\"blue\",alpha=.3)\n",
    "\n",
    "plot.show()"
   ]
  },
  {
   "cell_type": "markdown",
   "metadata": {},
   "source": [
    "Note that $\\vec{v}$ is a 2-dimensional vector, but we could easily describe vectors in $N$ dimensions (even though we can't visualize them beyond 3 dimensions). \n",
    "\n",
    "We denote a two dimensional plane composing all the real numbers on that plane as $\\Re^2$. Here the superscript captures the number of dimensions, which is 2. We'd denote some $n$ dimensional space as $\\Re^n$\n",
    "\n",
    "For practical reasons, most of the visualizations I'll perform during the lectures will be in $\\Re^2$"
   ]
  },
  {
   "cell_type": "markdown",
   "metadata": {},
   "source": [
    "## Vector Scalar Multiplication \n",
    "\n",
    "\\begin{equation} \n",
    "c\\vec {v} = c\\begin{bmatrix} a \\\\ b \\end{bmatrix} = \\begin{bmatrix} ca \\\\ cb \\end{bmatrix} \n",
    "\\end{equation}\n",
    "\n",
    "Where $c$ is an arbitrary scalar of the real numbers, $c \\in \\Re$\n",
    "\n",
    "**Example**\n",
    "\\begin{equation} \n",
    "2\\vec {v} = 2\\begin{bmatrix} 1 \\\\ 2 \\end{bmatrix} = \\begin{bmatrix} 2(1) \\\\ 2(2) \\end{bmatrix} = \\begin{bmatrix} 2 \\\\ 4 \\end{bmatrix}\n",
    "\\end{equation}\n"
   ]
  },
  {
   "cell_type": "code",
   "execution_count": 5,
   "metadata": {},
   "outputs": [
    {
     "name": "stdout",
     "output_type": "stream",
     "text": [
      "[1 2]\n",
      "[2 4]\n"
     ]
    }
   ],
   "source": [
    "print(vec1)\n",
    "new_vec = 2*vec1\n",
    "print(new_vec)"
   ]
  },
  {
   "cell_type": "code",
   "execution_count": 6,
   "metadata": {},
   "outputs": [
    {
     "data": {
      "text/html": [
       "\n",
       "\n",
       "\n",
       "\n",
       "\n",
       "\n",
       "  <div class=\"bk-root\" id=\"8878ad98-a2c8-463f-876c-514fe9ef25f5\"></div>\n"
      ]
     },
     "metadata": {},
     "output_type": "display_data"
    },
    {
     "data": {
      "application/javascript": [
       "(function(root) {\n",
       "  function embed_document(root) {\n",
       "    \n",
       "  var docs_json = {\"689da2c4-c360-4a78-aa68-bc9a736f906b\":{\"roots\":{\"references\":[{\"attributes\":{},\"id\":\"8aa885e3-9a8c-443b-b004-8175a8c9b2d5\",\"type\":\"BasicTicker\"},{\"attributes\":{\"below\":[{\"id\":\"79ee7c07-df62-463e-bcc1-c440461588fe\",\"type\":\"LinearAxis\"}],\"left\":[{\"id\":\"188b4ac4-372e-4064-823f-c5c21355de64\",\"type\":\"LinearAxis\"}],\"plot_height\":700,\"plot_width\":700,\"renderers\":[{\"id\":\"79ee7c07-df62-463e-bcc1-c440461588fe\",\"type\":\"LinearAxis\"},{\"id\":\"34953cd4-056c-49e4-8029-e3a412c27910\",\"type\":\"Grid\"},{\"id\":\"188b4ac4-372e-4064-823f-c5c21355de64\",\"type\":\"LinearAxis\"},{\"id\":\"b6561991-6f69-4cab-8225-d7cd6cad2215\",\"type\":\"Grid\"},{\"id\":\"ad1f126e-d216-4f71-b88a-e272df726c40\",\"type\":\"GlyphRenderer\"},{\"id\":\"bd29efb3-fe3b-465c-8cfc-fbe5d80e94f1\",\"type\":\"GlyphRenderer\"},{\"id\":\"f1e3ba7e-6fc7-4562-b494-117ba2f57e03\",\"type\":\"Arrow\"},{\"id\":\"5786e954-f7db-4fe6-87bb-c5b7245d3f96\",\"type\":\"Arrow\"}],\"title\":{\"id\":\"0eb0a2e1-dd09-4f80-b004-9c9e350f988b\",\"type\":\"Title\"},\"toolbar\":{\"id\":\"5faf6178-a45a-4e49-a0c7-36627f63d964\",\"type\":\"Toolbar\"},\"x_range\":{\"id\":\"02204226-b7f7-4230-a5df-deb7f233f3cf\",\"type\":\"Range1d\"},\"x_scale\":{\"id\":\"991be4c6-a737-4c16-9d7b-153990de046a\",\"type\":\"LinearScale\"},\"y_range\":{\"id\":\"61f75e18-67e6-49a9-885f-987f6c2b01a9\",\"type\":\"Range1d\"},\"y_scale\":{\"id\":\"34f7cd54-ca03-49f6-a856-9a673824ff37\",\"type\":\"LinearScale\"}},\"id\":\"321b0986-1ec6-4ac9-bfd0-3ba440acb233\",\"subtype\":\"Figure\",\"type\":\"Plot\"},{\"attributes\":{},\"id\":\"621563d5-b582-4c03-99be-fa72d0eaaa27\",\"type\":\"UnionRenderers\"},{\"attributes\":{\"source\":{\"id\":\"a0f23dd2-fe55-42bc-aaf5-78e9f29fbfc0\",\"type\":\"ColumnDataSource\"}},\"id\":\"187b56c9-2d0f-428f-89bc-5e35fc81b228\",\"type\":\"CDSView\"},{\"attributes\":{\"active_drag\":\"auto\",\"active_inspect\":\"auto\",\"active_multi\":null,\"active_scroll\":\"auto\",\"active_tap\":\"auto\",\"tools\":[{\"id\":\"e0a37022-48e6-4dd6-8310-2afdf0fcd1bf\",\"type\":\"WheelZoomTool\"},{\"id\":\"990330e2-d4f0-4809-bf88-a2ae7cb458a9\",\"type\":\"PanTool\"},{\"id\":\"e9e8c9f0-995b-4df2-98ba-560845e0ff60\",\"type\":\"ResetTool\"}]},\"id\":\"5faf6178-a45a-4e49-a0c7-36627f63d964\",\"type\":\"Toolbar\"},{\"attributes\":{\"callback\":null,\"end\":7.0,\"start\":-7.0},\"id\":\"61f75e18-67e6-49a9-885f-987f6c2b01a9\",\"type\":\"Range1d\"},{\"attributes\":{\"callback\":null,\"data\":{\"x\":[-10.0,10.0],\"y\":[0.0,0.0]},\"selected\":{\"id\":\"705b5e2a-b947-463f-83fe-578ced1f1f9c\",\"type\":\"Selection\"},\"selection_policy\":{\"id\":\"621563d5-b582-4c03-99be-fa72d0eaaa27\",\"type\":\"UnionRenderers\"}},\"id\":\"adec49c7-fc9b-4df8-aa18-5d943e9fedaf\",\"type\":\"ColumnDataSource\"},{\"attributes\":{},\"id\":\"991be4c6-a737-4c16-9d7b-153990de046a\",\"type\":\"LinearScale\"},{\"attributes\":{\"line_width\":1.5,\"x\":{\"field\":\"x\"},\"y\":{\"field\":\"y\"}},\"id\":\"fedc3757-5114-4789-bfb5-4d27e48bd963\",\"type\":\"Line\"},{\"attributes\":{},\"id\":\"705b5e2a-b947-463f-83fe-578ced1f1f9c\",\"type\":\"Selection\"},{\"attributes\":{\"plot\":{\"id\":\"321b0986-1ec6-4ac9-bfd0-3ba440acb233\",\"subtype\":\"Figure\",\"type\":\"Plot\"},\"ticker\":{\"id\":\"da6feb58-a4e5-4d7a-8613-b7304fc27d50\",\"type\":\"BasicTicker\"}},\"id\":\"34953cd4-056c-49e4-8029-e3a412c27910\",\"type\":\"Grid\"},{\"attributes\":{\"fill_color\":{\"value\":\"blue\"},\"line_color\":{\"value\":\"blue\"},\"plot\":null,\"size\":10},\"id\":\"94950100-88b8-4b1f-95c8-7f5f9507e624\",\"type\":\"NormalHead\"},{\"attributes\":{\"end\":{\"id\":\"82babc0e-3849-4ca6-a4eb-48f0f719d59d\",\"type\":\"NormalHead\"},\"line_alpha\":{\"value\":0.2},\"line_color\":{\"value\":\"blue\"},\"line_width\":{\"value\":3},\"plot\":{\"id\":\"321b0986-1ec6-4ac9-bfd0-3ba440acb233\",\"subtype\":\"Figure\",\"type\":\"Plot\"},\"source\":null,\"start\":null,\"x_end\":{\"value\":2},\"x_start\":{\"value\":0.0},\"y_end\":{\"value\":4},\"y_start\":{\"value\":0.0}},\"id\":\"5786e954-f7db-4fe6-87bb-c5b7245d3f96\",\"type\":\"Arrow\"},{\"attributes\":{},\"id\":\"da6feb58-a4e5-4d7a-8613-b7304fc27d50\",\"type\":\"BasicTicker\"},{\"attributes\":{\"end\":{\"id\":\"94950100-88b8-4b1f-95c8-7f5f9507e624\",\"type\":\"NormalHead\"},\"line_color\":{\"value\":\"blue\"},\"line_width\":{\"value\":3},\"plot\":{\"id\":\"321b0986-1ec6-4ac9-bfd0-3ba440acb233\",\"subtype\":\"Figure\",\"type\":\"Plot\"},\"source\":null,\"start\":null,\"x_end\":{\"value\":1},\"x_start\":{\"value\":0.0},\"y_end\":{\"value\":2},\"y_start\":{\"value\":0.0}},\"id\":\"f1e3ba7e-6fc7-4562-b494-117ba2f57e03\",\"type\":\"Arrow\"},{\"attributes\":{\"callback\":null,\"data\":{\"x\":[0.0,0.0],\"y\":[-10.0,10.0]},\"selected\":{\"id\":\"d19f1c90-d0ac-4e12-8d38-75e33d023a73\",\"type\":\"Selection\"},\"selection_policy\":{\"id\":\"da13b3de-fc1e-41f2-873c-afcffb78405b\",\"type\":\"UnionRenderers\"}},\"id\":\"a0f23dd2-fe55-42bc-aaf5-78e9f29fbfc0\",\"type\":\"ColumnDataSource\"},{\"attributes\":{\"callback\":null,\"end\":7.0,\"start\":-7.0},\"id\":\"02204226-b7f7-4230-a5df-deb7f233f3cf\",\"type\":\"Range1d\"},{\"attributes\":{\"plot\":null,\"text\":\"\"},\"id\":\"0eb0a2e1-dd09-4f80-b004-9c9e350f988b\",\"type\":\"Title\"},{\"attributes\":{},\"id\":\"d19f1c90-d0ac-4e12-8d38-75e33d023a73\",\"type\":\"Selection\"},{\"attributes\":{},\"id\":\"9b656d6e-2cfb-47ce-a7a3-916beac43a0a\",\"type\":\"BasicTickFormatter\"},{\"attributes\":{},\"id\":\"da13b3de-fc1e-41f2-873c-afcffb78405b\",\"type\":\"UnionRenderers\"},{\"attributes\":{\"line_width\":1.5,\"x\":{\"field\":\"x\"},\"y\":{\"field\":\"y\"}},\"id\":\"2a6e19ff-5dfb-41e6-b356-844c5af54408\",\"type\":\"Line\"},{\"attributes\":{\"line_alpha\":0.1,\"line_color\":\"#1f77b4\",\"line_width\":1.5,\"x\":{\"field\":\"x\"},\"y\":{\"field\":\"y\"}},\"id\":\"ee109b56-70cc-44dc-8574-233830f3fe19\",\"type\":\"Line\"},{\"attributes\":{},\"id\":\"990330e2-d4f0-4809-bf88-a2ae7cb458a9\",\"type\":\"PanTool\"},{\"attributes\":{},\"id\":\"7180033c-7e1e-4ad2-b4a7-72593547d1eb\",\"type\":\"BasicTickFormatter\"},{\"attributes\":{\"data_source\":{\"id\":\"a0f23dd2-fe55-42bc-aaf5-78e9f29fbfc0\",\"type\":\"ColumnDataSource\"},\"glyph\":{\"id\":\"2a6e19ff-5dfb-41e6-b356-844c5af54408\",\"type\":\"Line\"},\"hover_glyph\":null,\"muted_glyph\":null,\"nonselection_glyph\":{\"id\":\"ee109b56-70cc-44dc-8574-233830f3fe19\",\"type\":\"Line\"},\"selection_glyph\":null,\"view\":{\"id\":\"187b56c9-2d0f-428f-89bc-5e35fc81b228\",\"type\":\"CDSView\"}},\"id\":\"bd29efb3-fe3b-465c-8cfc-fbe5d80e94f1\",\"type\":\"GlyphRenderer\"},{\"attributes\":{\"fill_alpha\":{\"value\":0.2},\"fill_color\":{\"value\":\"blue\"},\"line_alpha\":{\"value\":0.2},\"line_color\":{\"value\":\"blue\"},\"plot\":null,\"size\":10},\"id\":\"82babc0e-3849-4ca6-a4eb-48f0f719d59d\",\"type\":\"NormalHead\"},{\"attributes\":{},\"id\":\"34f7cd54-ca03-49f6-a856-9a673824ff37\",\"type\":\"LinearScale\"},{\"attributes\":{\"source\":{\"id\":\"adec49c7-fc9b-4df8-aa18-5d943e9fedaf\",\"type\":\"ColumnDataSource\"}},\"id\":\"4bb7e7d1-2aeb-4172-8bef-d8d65c2ad168\",\"type\":\"CDSView\"},{\"attributes\":{},\"id\":\"e0a37022-48e6-4dd6-8310-2afdf0fcd1bf\",\"type\":\"WheelZoomTool\"},{\"attributes\":{\"data_source\":{\"id\":\"adec49c7-fc9b-4df8-aa18-5d943e9fedaf\",\"type\":\"ColumnDataSource\"},\"glyph\":{\"id\":\"fedc3757-5114-4789-bfb5-4d27e48bd963\",\"type\":\"Line\"},\"hover_glyph\":null,\"muted_glyph\":null,\"nonselection_glyph\":{\"id\":\"a7dffed7-dd44-4f99-b17d-7e3ac3359453\",\"type\":\"Line\"},\"selection_glyph\":null,\"view\":{\"id\":\"4bb7e7d1-2aeb-4172-8bef-d8d65c2ad168\",\"type\":\"CDSView\"}},\"id\":\"ad1f126e-d216-4f71-b88a-e272df726c40\",\"type\":\"GlyphRenderer\"},{\"attributes\":{\"formatter\":{\"id\":\"7180033c-7e1e-4ad2-b4a7-72593547d1eb\",\"type\":\"BasicTickFormatter\"},\"plot\":{\"id\":\"321b0986-1ec6-4ac9-bfd0-3ba440acb233\",\"subtype\":\"Figure\",\"type\":\"Plot\"},\"ticker\":{\"id\":\"8aa885e3-9a8c-443b-b004-8175a8c9b2d5\",\"type\":\"BasicTicker\"}},\"id\":\"188b4ac4-372e-4064-823f-c5c21355de64\",\"type\":\"LinearAxis\"},{\"attributes\":{\"formatter\":{\"id\":\"9b656d6e-2cfb-47ce-a7a3-916beac43a0a\",\"type\":\"BasicTickFormatter\"},\"plot\":{\"id\":\"321b0986-1ec6-4ac9-bfd0-3ba440acb233\",\"subtype\":\"Figure\",\"type\":\"Plot\"},\"ticker\":{\"id\":\"da6feb58-a4e5-4d7a-8613-b7304fc27d50\",\"type\":\"BasicTicker\"}},\"id\":\"79ee7c07-df62-463e-bcc1-c440461588fe\",\"type\":\"LinearAxis\"},{\"attributes\":{\"line_alpha\":0.1,\"line_color\":\"#1f77b4\",\"line_width\":1.5,\"x\":{\"field\":\"x\"},\"y\":{\"field\":\"y\"}},\"id\":\"a7dffed7-dd44-4f99-b17d-7e3ac3359453\",\"type\":\"Line\"},{\"attributes\":{},\"id\":\"e9e8c9f0-995b-4df2-98ba-560845e0ff60\",\"type\":\"ResetTool\"},{\"attributes\":{\"dimension\":1,\"plot\":{\"id\":\"321b0986-1ec6-4ac9-bfd0-3ba440acb233\",\"subtype\":\"Figure\",\"type\":\"Plot\"},\"ticker\":{\"id\":\"8aa885e3-9a8c-443b-b004-8175a8c9b2d5\",\"type\":\"BasicTicker\"}},\"id\":\"b6561991-6f69-4cab-8225-d7cd6cad2215\",\"type\":\"Grid\"}],\"root_ids\":[\"321b0986-1ec6-4ac9-bfd0-3ba440acb233\"]},\"title\":\"Bokeh Application\",\"version\":\"0.13.0\"}};\n",
       "  var render_items = [{\"docid\":\"689da2c4-c360-4a78-aa68-bc9a736f906b\",\"roots\":{\"321b0986-1ec6-4ac9-bfd0-3ba440acb233\":\"8878ad98-a2c8-463f-876c-514fe9ef25f5\"}}];\n",
       "  root.Bokeh.embed.embed_items_notebook(docs_json, render_items);\n",
       "\n",
       "  }\n",
       "  if (root.Bokeh !== undefined) {\n",
       "    embed_document(root);\n",
       "  } else {\n",
       "    var attempts = 0;\n",
       "    var timer = setInterval(function(root) {\n",
       "      if (root.Bokeh !== undefined) {\n",
       "        embed_document(root);\n",
       "        clearInterval(timer);\n",
       "      }\n",
       "      attempts++;\n",
       "      if (attempts > 100) {\n",
       "        console.log(\"Bokeh: ERROR: Unable to run BokehJS code because BokehJS library is missing\")\n",
       "        clearInterval(timer);\n",
       "      }\n",
       "    }, 10, root)\n",
       "  }\n",
       "})(window);"
      ],
      "application/vnd.bokehjs_exec.v0+json": ""
     },
     "metadata": {
      "application/vnd.bokehjs_exec.v0+json": {
       "id": "321b0986-1ec6-4ac9-bfd0-3ba440acb233"
      }
     },
     "output_type": "display_data"
    }
   ],
   "source": [
    "plot.clear()\n",
    "plot.graph(10)\n",
    "plot.vector(vec1,add_color=\"blue\")\n",
    "plot.vector(new_vec,add_color=\"blue\",alpha=.2)\n",
    "plot.show()"
   ]
  },
  {
   "cell_type": "markdown",
   "metadata": {},
   "source": [
    "Scalars increase/decrease the length of a vector. Put differently, the vector is scaled by some magnitude.\n",
    "\n",
    "Thus, we can express any number along a $\\vec{v}$ by scaling it by come constant $c$, where $c \\in \\Re$"
   ]
  },
  {
   "cell_type": "code",
   "execution_count": 7,
   "metadata": {},
   "outputs": [
    {
     "data": {
      "text/html": [
       "\n",
       "\n",
       "\n",
       "\n",
       "\n",
       "\n",
       "  <div class=\"bk-root\" id=\"c588ba7e-2e60-40b1-807e-f4bbfdc89441\"></div>\n"
      ]
     },
     "metadata": {},
     "output_type": "display_data"
    },
    {
     "data": {
      "application/javascript": [
       "(function(root) {\n",
       "  function embed_document(root) {\n",
       "    \n",
       "  var docs_json = {\"0a9cd8b4-f2e7-4f17-ad34-7d276021d910\":{\"roots\":{\"references\":[{\"attributes\":{\"end\":{\"id\":\"8968b70b-3e95-40df-9693-25af76560bc1\",\"type\":\"NormalHead\"},\"line_alpha\":{\"value\":0.2},\"line_color\":{\"value\":\"blue\"},\"line_width\":{\"value\":3},\"plot\":{\"id\":\"321b0986-1ec6-4ac9-bfd0-3ba440acb233\",\"subtype\":\"Figure\",\"type\":\"Plot\"},\"source\":null,\"start\":null,\"x_end\":{\"value\":3.57},\"x_start\":{\"value\":0.0},\"y_end\":{\"value\":7.14},\"y_start\":{\"value\":0.0}},\"id\":\"ce3451a9-1afb-443c-8103-39d12c39818b\",\"type\":\"Arrow\"},{\"attributes\":{},\"id\":\"8aa885e3-9a8c-443b-b004-8175a8c9b2d5\",\"type\":\"BasicTicker\"},{\"attributes\":{\"below\":[{\"id\":\"79ee7c07-df62-463e-bcc1-c440461588fe\",\"type\":\"LinearAxis\"}],\"left\":[{\"id\":\"188b4ac4-372e-4064-823f-c5c21355de64\",\"type\":\"LinearAxis\"}],\"plot_height\":700,\"plot_width\":700,\"renderers\":[{\"id\":\"79ee7c07-df62-463e-bcc1-c440461588fe\",\"type\":\"LinearAxis\"},{\"id\":\"34953cd4-056c-49e4-8029-e3a412c27910\",\"type\":\"Grid\"},{\"id\":\"188b4ac4-372e-4064-823f-c5c21355de64\",\"type\":\"LinearAxis\"},{\"id\":\"b6561991-6f69-4cab-8225-d7cd6cad2215\",\"type\":\"Grid\"},{\"id\":\"ad1f126e-d216-4f71-b88a-e272df726c40\",\"type\":\"GlyphRenderer\"},{\"id\":\"bd29efb3-fe3b-465c-8cfc-fbe5d80e94f1\",\"type\":\"GlyphRenderer\"},{\"id\":\"f1e3ba7e-6fc7-4562-b494-117ba2f57e03\",\"type\":\"Arrow\"},{\"id\":\"5786e954-f7db-4fe6-87bb-c5b7245d3f96\",\"type\":\"Arrow\"},{\"id\":\"30cbed17-2e57-49b7-8a72-4d63f7b214b0\",\"type\":\"Arrow\"},{\"id\":\"0fb690f2-ce30-4967-a4f5-555224a0f925\",\"type\":\"Arrow\"},{\"id\":\"900e5c24-d80f-4c33-a130-442b8f42f6da\",\"type\":\"Arrow\"},{\"id\":\"ce3451a9-1afb-443c-8103-39d12c39818b\",\"type\":\"Arrow\"}],\"title\":{\"id\":\"0eb0a2e1-dd09-4f80-b004-9c9e350f988b\",\"type\":\"Title\"},\"toolbar\":{\"id\":\"5faf6178-a45a-4e49-a0c7-36627f63d964\",\"type\":\"Toolbar\"},\"x_range\":{\"id\":\"02204226-b7f7-4230-a5df-deb7f233f3cf\",\"type\":\"Range1d\"},\"x_scale\":{\"id\":\"991be4c6-a737-4c16-9d7b-153990de046a\",\"type\":\"LinearScale\"},\"y_range\":{\"id\":\"61f75e18-67e6-49a9-885f-987f6c2b01a9\",\"type\":\"Range1d\"},\"y_scale\":{\"id\":\"34f7cd54-ca03-49f6-a856-9a673824ff37\",\"type\":\"LinearScale\"}},\"id\":\"321b0986-1ec6-4ac9-bfd0-3ba440acb233\",\"subtype\":\"Figure\",\"type\":\"Plot\"},{\"attributes\":{},\"id\":\"621563d5-b582-4c03-99be-fa72d0eaaa27\",\"type\":\"UnionRenderers\"},{\"attributes\":{\"end\":{\"id\":\"90600fd0-2b7d-4ea0-aaef-4891c2c2a3ea\",\"type\":\"NormalHead\"},\"line_alpha\":{\"value\":0.2},\"line_color\":{\"value\":\"blue\"},\"line_width\":{\"value\":3},\"plot\":{\"id\":\"321b0986-1ec6-4ac9-bfd0-3ba440acb233\",\"subtype\":\"Figure\",\"type\":\"Plot\"},\"source\":null,\"start\":null,\"x_end\":{\"value\":-0.3},\"x_start\":{\"value\":0.0},\"y_end\":{\"value\":-0.6},\"y_start\":{\"value\":0.0}},\"id\":\"0fb690f2-ce30-4967-a4f5-555224a0f925\",\"type\":\"Arrow\"},{\"attributes\":{\"source\":{\"id\":\"a0f23dd2-fe55-42bc-aaf5-78e9f29fbfc0\",\"type\":\"ColumnDataSource\"}},\"id\":\"187b56c9-2d0f-428f-89bc-5e35fc81b228\",\"type\":\"CDSView\"},{\"attributes\":{\"active_drag\":\"auto\",\"active_inspect\":\"auto\",\"active_multi\":null,\"active_scroll\":\"auto\",\"active_tap\":\"auto\",\"tools\":[{\"id\":\"e0a37022-48e6-4dd6-8310-2afdf0fcd1bf\",\"type\":\"WheelZoomTool\"},{\"id\":\"990330e2-d4f0-4809-bf88-a2ae7cb458a9\",\"type\":\"PanTool\"},{\"id\":\"e9e8c9f0-995b-4df2-98ba-560845e0ff60\",\"type\":\"ResetTool\"}]},\"id\":\"5faf6178-a45a-4e49-a0c7-36627f63d964\",\"type\":\"Toolbar\"},{\"attributes\":{\"end\":{\"id\":\"141b73b2-1c15-4579-9d24-0e97919c9a63\",\"type\":\"NormalHead\"},\"line_alpha\":{\"value\":0.2},\"line_color\":{\"value\":\"blue\"},\"line_width\":{\"value\":3},\"plot\":{\"id\":\"321b0986-1ec6-4ac9-bfd0-3ba440acb233\",\"subtype\":\"Figure\",\"type\":\"Plot\"},\"source\":null,\"start\":null,\"x_end\":{\"value\":-1.2},\"x_start\":{\"value\":0.0},\"y_end\":{\"value\":-2.4},\"y_start\":{\"value\":0.0}},\"id\":\"30cbed17-2e57-49b7-8a72-4d63f7b214b0\",\"type\":\"Arrow\"},{\"attributes\":{\"callback\":null,\"end\":7.0,\"start\":-7.0},\"id\":\"61f75e18-67e6-49a9-885f-987f6c2b01a9\",\"type\":\"Range1d\"},{\"attributes\":{\"callback\":null,\"data\":{\"x\":[-10.0,10.0],\"y\":[0.0,0.0]},\"selected\":{\"id\":\"705b5e2a-b947-463f-83fe-578ced1f1f9c\",\"type\":\"Selection\"},\"selection_policy\":{\"id\":\"621563d5-b582-4c03-99be-fa72d0eaaa27\",\"type\":\"UnionRenderers\"}},\"id\":\"adec49c7-fc9b-4df8-aa18-5d943e9fedaf\",\"type\":\"ColumnDataSource\"},{\"attributes\":{\"fill_alpha\":{\"value\":0.2},\"fill_color\":{\"value\":\"blue\"},\"line_alpha\":{\"value\":0.2},\"line_color\":{\"value\":\"blue\"},\"plot\":null,\"size\":10},\"id\":\"8968b70b-3e95-40df-9693-25af76560bc1\",\"type\":\"NormalHead\"},{\"attributes\":{},\"id\":\"991be4c6-a737-4c16-9d7b-153990de046a\",\"type\":\"LinearScale\"},{\"attributes\":{\"line_width\":1.5,\"x\":{\"field\":\"x\"},\"y\":{\"field\":\"y\"}},\"id\":\"fedc3757-5114-4789-bfb5-4d27e48bd963\",\"type\":\"Line\"},{\"attributes\":{},\"id\":\"705b5e2a-b947-463f-83fe-578ced1f1f9c\",\"type\":\"Selection\"},{\"attributes\":{\"plot\":{\"id\":\"321b0986-1ec6-4ac9-bfd0-3ba440acb233\",\"subtype\":\"Figure\",\"type\":\"Plot\"},\"ticker\":{\"id\":\"da6feb58-a4e5-4d7a-8613-b7304fc27d50\",\"type\":\"BasicTicker\"}},\"id\":\"34953cd4-056c-49e4-8029-e3a412c27910\",\"type\":\"Grid\"},{\"attributes\":{\"fill_color\":{\"value\":\"blue\"},\"line_color\":{\"value\":\"blue\"},\"plot\":null,\"size\":10},\"id\":\"94950100-88b8-4b1f-95c8-7f5f9507e624\",\"type\":\"NormalHead\"},{\"attributes\":{\"fill_alpha\":{\"value\":0.2},\"fill_color\":{\"value\":\"blue\"},\"line_alpha\":{\"value\":0.2},\"line_color\":{\"value\":\"blue\"},\"plot\":null,\"size\":10},\"id\":\"141b73b2-1c15-4579-9d24-0e97919c9a63\",\"type\":\"NormalHead\"},{\"attributes\":{\"end\":{\"id\":\"82babc0e-3849-4ca6-a4eb-48f0f719d59d\",\"type\":\"NormalHead\"},\"line_alpha\":{\"value\":0.2},\"line_color\":{\"value\":\"blue\"},\"line_width\":{\"value\":3},\"plot\":{\"id\":\"321b0986-1ec6-4ac9-bfd0-3ba440acb233\",\"subtype\":\"Figure\",\"type\":\"Plot\"},\"source\":null,\"start\":null,\"x_end\":{\"value\":2},\"x_start\":{\"value\":0.0},\"y_end\":{\"value\":4},\"y_start\":{\"value\":0.0}},\"id\":\"5786e954-f7db-4fe6-87bb-c5b7245d3f96\",\"type\":\"Arrow\"},{\"attributes\":{},\"id\":\"da6feb58-a4e5-4d7a-8613-b7304fc27d50\",\"type\":\"BasicTicker\"},{\"attributes\":{\"end\":{\"id\":\"94950100-88b8-4b1f-95c8-7f5f9507e624\",\"type\":\"NormalHead\"},\"line_color\":{\"value\":\"blue\"},\"line_width\":{\"value\":3},\"plot\":{\"id\":\"321b0986-1ec6-4ac9-bfd0-3ba440acb233\",\"subtype\":\"Figure\",\"type\":\"Plot\"},\"source\":null,\"start\":null,\"x_end\":{\"value\":1},\"x_start\":{\"value\":0.0},\"y_end\":{\"value\":2},\"y_start\":{\"value\":0.0}},\"id\":\"f1e3ba7e-6fc7-4562-b494-117ba2f57e03\",\"type\":\"Arrow\"},{\"attributes\":{\"callback\":null,\"data\":{\"x\":[0.0,0.0],\"y\":[-10.0,10.0]},\"selected\":{\"id\":\"d19f1c90-d0ac-4e12-8d38-75e33d023a73\",\"type\":\"Selection\"},\"selection_policy\":{\"id\":\"da13b3de-fc1e-41f2-873c-afcffb78405b\",\"type\":\"UnionRenderers\"}},\"id\":\"a0f23dd2-fe55-42bc-aaf5-78e9f29fbfc0\",\"type\":\"ColumnDataSource\"},{\"attributes\":{\"callback\":null,\"end\":7.0,\"start\":-7.0},\"id\":\"02204226-b7f7-4230-a5df-deb7f233f3cf\",\"type\":\"Range1d\"},{\"attributes\":{\"plot\":null,\"text\":\"\"},\"id\":\"0eb0a2e1-dd09-4f80-b004-9c9e350f988b\",\"type\":\"Title\"},{\"attributes\":{},\"id\":\"d19f1c90-d0ac-4e12-8d38-75e33d023a73\",\"type\":\"Selection\"},{\"attributes\":{},\"id\":\"9b656d6e-2cfb-47ce-a7a3-916beac43a0a\",\"type\":\"BasicTickFormatter\"},{\"attributes\":{},\"id\":\"da13b3de-fc1e-41f2-873c-afcffb78405b\",\"type\":\"UnionRenderers\"},{\"attributes\":{\"line_width\":1.5,\"x\":{\"field\":\"x\"},\"y\":{\"field\":\"y\"}},\"id\":\"2a6e19ff-5dfb-41e6-b356-844c5af54408\",\"type\":\"Line\"},{\"attributes\":{\"line_alpha\":0.1,\"line_color\":\"#1f77b4\",\"line_width\":1.5,\"x\":{\"field\":\"x\"},\"y\":{\"field\":\"y\"}},\"id\":\"ee109b56-70cc-44dc-8574-233830f3fe19\",\"type\":\"Line\"},{\"attributes\":{},\"id\":\"990330e2-d4f0-4809-bf88-a2ae7cb458a9\",\"type\":\"PanTool\"},{\"attributes\":{},\"id\":\"7180033c-7e1e-4ad2-b4a7-72593547d1eb\",\"type\":\"BasicTickFormatter\"},{\"attributes\":{\"data_source\":{\"id\":\"a0f23dd2-fe55-42bc-aaf5-78e9f29fbfc0\",\"type\":\"ColumnDataSource\"},\"glyph\":{\"id\":\"2a6e19ff-5dfb-41e6-b356-844c5af54408\",\"type\":\"Line\"},\"hover_glyph\":null,\"muted_glyph\":null,\"nonselection_glyph\":{\"id\":\"ee109b56-70cc-44dc-8574-233830f3fe19\",\"type\":\"Line\"},\"selection_glyph\":null,\"view\":{\"id\":\"187b56c9-2d0f-428f-89bc-5e35fc81b228\",\"type\":\"CDSView\"}},\"id\":\"bd29efb3-fe3b-465c-8cfc-fbe5d80e94f1\",\"type\":\"GlyphRenderer\"},{\"attributes\":{\"fill_alpha\":{\"value\":0.2},\"fill_color\":{\"value\":\"blue\"},\"line_alpha\":{\"value\":0.2},\"line_color\":{\"value\":\"blue\"},\"plot\":null,\"size\":10},\"id\":\"90600fd0-2b7d-4ea0-aaef-4891c2c2a3ea\",\"type\":\"NormalHead\"},{\"attributes\":{\"fill_alpha\":{\"value\":0.2},\"fill_color\":{\"value\":\"blue\"},\"line_alpha\":{\"value\":0.2},\"line_color\":{\"value\":\"blue\"},\"plot\":null,\"size\":10},\"id\":\"82babc0e-3849-4ca6-a4eb-48f0f719d59d\",\"type\":\"NormalHead\"},{\"attributes\":{},\"id\":\"34f7cd54-ca03-49f6-a856-9a673824ff37\",\"type\":\"LinearScale\"},{\"attributes\":{\"source\":{\"id\":\"adec49c7-fc9b-4df8-aa18-5d943e9fedaf\",\"type\":\"ColumnDataSource\"}},\"id\":\"4bb7e7d1-2aeb-4172-8bef-d8d65c2ad168\",\"type\":\"CDSView\"},{\"attributes\":{},\"id\":\"e0a37022-48e6-4dd6-8310-2afdf0fcd1bf\",\"type\":\"WheelZoomTool\"},{\"attributes\":{\"fill_alpha\":{\"value\":0.2},\"fill_color\":{\"value\":\"blue\"},\"line_alpha\":{\"value\":0.2},\"line_color\":{\"value\":\"blue\"},\"plot\":null,\"size\":10},\"id\":\"a004f32e-b13f-4d80-ad1d-0715bc3dd2aa\",\"type\":\"NormalHead\"},{\"attributes\":{\"data_source\":{\"id\":\"adec49c7-fc9b-4df8-aa18-5d943e9fedaf\",\"type\":\"ColumnDataSource\"},\"glyph\":{\"id\":\"fedc3757-5114-4789-bfb5-4d27e48bd963\",\"type\":\"Line\"},\"hover_glyph\":null,\"muted_glyph\":null,\"nonselection_glyph\":{\"id\":\"a7dffed7-dd44-4f99-b17d-7e3ac3359453\",\"type\":\"Line\"},\"selection_glyph\":null,\"view\":{\"id\":\"4bb7e7d1-2aeb-4172-8bef-d8d65c2ad168\",\"type\":\"CDSView\"}},\"id\":\"ad1f126e-d216-4f71-b88a-e272df726c40\",\"type\":\"GlyphRenderer\"},{\"attributes\":{\"formatter\":{\"id\":\"7180033c-7e1e-4ad2-b4a7-72593547d1eb\",\"type\":\"BasicTickFormatter\"},\"plot\":{\"id\":\"321b0986-1ec6-4ac9-bfd0-3ba440acb233\",\"subtype\":\"Figure\",\"type\":\"Plot\"},\"ticker\":{\"id\":\"8aa885e3-9a8c-443b-b004-8175a8c9b2d5\",\"type\":\"BasicTicker\"}},\"id\":\"188b4ac4-372e-4064-823f-c5c21355de64\",\"type\":\"LinearAxis\"},{\"attributes\":{\"formatter\":{\"id\":\"9b656d6e-2cfb-47ce-a7a3-916beac43a0a\",\"type\":\"BasicTickFormatter\"},\"plot\":{\"id\":\"321b0986-1ec6-4ac9-bfd0-3ba440acb233\",\"subtype\":\"Figure\",\"type\":\"Plot\"},\"ticker\":{\"id\":\"da6feb58-a4e5-4d7a-8613-b7304fc27d50\",\"type\":\"BasicTicker\"}},\"id\":\"79ee7c07-df62-463e-bcc1-c440461588fe\",\"type\":\"LinearAxis\"},{\"attributes\":{\"end\":{\"id\":\"a004f32e-b13f-4d80-ad1d-0715bc3dd2aa\",\"type\":\"NormalHead\"},\"line_alpha\":{\"value\":0.2},\"line_color\":{\"value\":\"blue\"},\"line_width\":{\"value\":3},\"plot\":{\"id\":\"321b0986-1ec6-4ac9-bfd0-3ba440acb233\",\"subtype\":\"Figure\",\"type\":\"Plot\"},\"source\":null,\"start\":null,\"x_end\":{\"value\":-2.3},\"x_start\":{\"value\":0.0},\"y_end\":{\"value\":-4.6},\"y_start\":{\"value\":0.0}},\"id\":\"900e5c24-d80f-4c33-a130-442b8f42f6da\",\"type\":\"Arrow\"},{\"attributes\":{\"line_alpha\":0.1,\"line_color\":\"#1f77b4\",\"line_width\":1.5,\"x\":{\"field\":\"x\"},\"y\":{\"field\":\"y\"}},\"id\":\"a7dffed7-dd44-4f99-b17d-7e3ac3359453\",\"type\":\"Line\"},{\"attributes\":{},\"id\":\"e9e8c9f0-995b-4df2-98ba-560845e0ff60\",\"type\":\"ResetTool\"},{\"attributes\":{\"dimension\":1,\"plot\":{\"id\":\"321b0986-1ec6-4ac9-bfd0-3ba440acb233\",\"subtype\":\"Figure\",\"type\":\"Plot\"},\"ticker\":{\"id\":\"8aa885e3-9a8c-443b-b004-8175a8c9b2d5\",\"type\":\"BasicTicker\"}},\"id\":\"b6561991-6f69-4cab-8225-d7cd6cad2215\",\"type\":\"Grid\"}],\"root_ids\":[\"321b0986-1ec6-4ac9-bfd0-3ba440acb233\"]},\"title\":\"Bokeh Application\",\"version\":\"0.13.0\"}};\n",
       "  var render_items = [{\"docid\":\"0a9cd8b4-f2e7-4f17-ad34-7d276021d910\",\"roots\":{\"321b0986-1ec6-4ac9-bfd0-3ba440acb233\":\"c588ba7e-2e60-40b1-807e-f4bbfdc89441\"}}];\n",
       "  root.Bokeh.embed.embed_items_notebook(docs_json, render_items);\n",
       "\n",
       "  }\n",
       "  if (root.Bokeh !== undefined) {\n",
       "    embed_document(root);\n",
       "  } else {\n",
       "    var attempts = 0;\n",
       "    var timer = setInterval(function(root) {\n",
       "      if (root.Bokeh !== undefined) {\n",
       "        embed_document(root);\n",
       "        clearInterval(timer);\n",
       "      }\n",
       "      attempts++;\n",
       "      if (attempts > 100) {\n",
       "        console.log(\"Bokeh: ERROR: Unable to run BokehJS code because BokehJS library is missing\")\n",
       "        clearInterval(timer);\n",
       "      }\n",
       "    }, 10, root)\n",
       "  }\n",
       "})(window);"
      ],
      "application/vnd.bokehjs_exec.v0+json": ""
     },
     "metadata": {
      "application/vnd.bokehjs_exec.v0+json": {
       "id": "321b0986-1ec6-4ac9-bfd0-3ba440acb233"
      }
     },
     "output_type": "display_data"
    }
   ],
   "source": [
    "for scalar in [-1.2,-.3,-2.3,3.57]:\n",
    "    new_vec = scalar*vec1\n",
    "    plot.vector(new_vec,add_color=\"blue\",alpha=.2)\n",
    "plot.show()"
   ]
  },
  {
   "cell_type": "markdown",
   "metadata": {},
   "source": [
    "# Vector Addition\n",
    "\n",
    "Given $\\vec{a},~\\vec{b} \\in \\Re^2$\n",
    "\n",
    "$$\\vec{a} = \\begin{bmatrix} a_1 \\\\ a_2 \\end{bmatrix}$$\n",
    "$$\\vec{b} = \\begin{bmatrix} b_1 \\\\ b_2 \\end{bmatrix}$$\n",
    "\n",
    "then \n",
    "\\begin{equation}\n",
    "\\vec{a} + \\vec{b} = \\begin{bmatrix} a_1+b_1 \\\\ a_2+b_2 \\end{bmatrix}\n",
    "\\end{equation}"
   ]
  },
  {
   "cell_type": "code",
   "execution_count": 8,
   "metadata": {},
   "outputs": [
    {
     "data": {
      "text/plain": [
       "array([3, 3])"
      ]
     },
     "execution_count": 8,
     "metadata": {},
     "output_type": "execute_result"
    }
   ],
   "source": [
    "a = np.array([2,1])\n",
    "b = np.array([1,2])\n",
    "c = a + b\n",
    "c"
   ]
  },
  {
   "cell_type": "markdown",
   "metadata": {},
   "source": [
    "$$\\vec{a} = \\begin{bmatrix} 2 \\\\ 1 \\end{bmatrix}$$\n",
    "$$\\vec{b} = \\begin{bmatrix} 1 \\\\ 2 \\end{bmatrix}$$\n",
    "\n",
    "then \n",
    "\\begin{equation}\n",
    "\\vec{a} + \\vec{b} = \\begin{bmatrix} 1+2 \\\\ 2+1 \\end{bmatrix} = \\begin{bmatrix} 3 \\\\ 3 \\end{bmatrix}\n",
    "\\end{equation}"
   ]
  },
  {
   "cell_type": "code",
   "execution_count": 9,
   "metadata": {},
   "outputs": [
    {
     "data": {
      "text/html": [
       "\n",
       "\n",
       "\n",
       "\n",
       "\n",
       "\n",
       "  <div class=\"bk-root\" id=\"1df982a3-5df8-42f2-9df4-146695b41313\"></div>\n"
      ]
     },
     "metadata": {},
     "output_type": "display_data"
    },
    {
     "data": {
      "application/javascript": [
       "(function(root) {\n",
       "  function embed_document(root) {\n",
       "    \n",
       "  var docs_json = {\"5fc08a8d-9d22-4216-baee-0b238cb01a98\":{\"roots\":{\"references\":[{\"attributes\":{\"callback\":null,\"end\":3.5,\"start\":-3.5},\"id\":\"d2336266-6997-45a1-98b9-23c7d47bbb14\",\"type\":\"Range1d\"},{\"attributes\":{\"line_alpha\":0.1,\"line_color\":\"#1f77b4\",\"line_width\":1.5,\"x\":{\"field\":\"x\"},\"y\":{\"field\":\"y\"}},\"id\":\"715060c2-741a-4156-8174-892564d0fd60\",\"type\":\"Line\"},{\"attributes\":{},\"id\":\"2ef66a9c-c6c7-45de-9851-46fe250d42bd\",\"type\":\"BasicTicker\"},{\"attributes\":{},\"id\":\"a3ee1271-df2a-45f5-ade1-154aa7c5f1ed\",\"type\":\"UnionRenderers\"},{\"attributes\":{\"plot\":{\"id\":\"1add866a-f790-4db1-92bc-f49c0240d422\",\"subtype\":\"Figure\",\"type\":\"Plot\"},\"ticker\":{\"id\":\"2ef66a9c-c6c7-45de-9851-46fe250d42bd\",\"type\":\"BasicTicker\"}},\"id\":\"80b0ef2d-c45f-4afb-999d-8936f88f6204\",\"type\":\"Grid\"},{\"attributes\":{},\"id\":\"2e3a41f4-aaf7-4c16-98b4-4fec431c0909\",\"type\":\"BasicTicker\"},{\"attributes\":{\"below\":[{\"id\":\"42230c93-0db8-4136-969a-24c120fbfdbe\",\"type\":\"LinearAxis\"}],\"left\":[{\"id\":\"6cdaab91-bd82-41b9-b87f-f8b0dd18c069\",\"type\":\"LinearAxis\"}],\"plot_height\":700,\"plot_width\":700,\"renderers\":[{\"id\":\"42230c93-0db8-4136-969a-24c120fbfdbe\",\"type\":\"LinearAxis\"},{\"id\":\"80b0ef2d-c45f-4afb-999d-8936f88f6204\",\"type\":\"Grid\"},{\"id\":\"6cdaab91-bd82-41b9-b87f-f8b0dd18c069\",\"type\":\"LinearAxis\"},{\"id\":\"2f7dea08-80da-420d-a3a5-9e9a8ae1a1d9\",\"type\":\"Grid\"},{\"id\":\"447963fc-2316-430f-9d8d-ec14d4f35124\",\"type\":\"GlyphRenderer\"},{\"id\":\"13f007c5-367e-4be1-8b1f-f439f468e0be\",\"type\":\"GlyphRenderer\"},{\"id\":\"1f990ff3-fb19-4df6-9896-a4cbf10482c7\",\"type\":\"Arrow\"},{\"id\":\"37ce7ad6-eeed-4205-9c55-bfdae0528044\",\"type\":\"Arrow\"},{\"id\":\"dc194902-e925-45ed-bb22-d0e0f31ca2e6\",\"type\":\"Arrow\"}],\"title\":{\"id\":\"55fea093-226a-49db-95e9-cc3949dc2e72\",\"type\":\"Title\"},\"toolbar\":{\"id\":\"40086c14-a34d-4c26-96dc-7aa8c785f835\",\"type\":\"Toolbar\"},\"x_range\":{\"id\":\"d2336266-6997-45a1-98b9-23c7d47bbb14\",\"type\":\"Range1d\"},\"x_scale\":{\"id\":\"643d9932-b52d-4147-8688-465e701e9e34\",\"type\":\"LinearScale\"},\"y_range\":{\"id\":\"496e3e8e-e186-4a50-861b-dc1e8387fa3c\",\"type\":\"Range1d\"},\"y_scale\":{\"id\":\"7fd79b95-1b37-45c1-ac1a-143dd9438c8e\",\"type\":\"LinearScale\"}},\"id\":\"1add866a-f790-4db1-92bc-f49c0240d422\",\"subtype\":\"Figure\",\"type\":\"Plot\"},{\"attributes\":{},\"id\":\"643d9932-b52d-4147-8688-465e701e9e34\",\"type\":\"LinearScale\"},{\"attributes\":{\"dimension\":1,\"plot\":{\"id\":\"1add866a-f790-4db1-92bc-f49c0240d422\",\"subtype\":\"Figure\",\"type\":\"Plot\"},\"ticker\":{\"id\":\"2e3a41f4-aaf7-4c16-98b4-4fec431c0909\",\"type\":\"BasicTicker\"}},\"id\":\"2f7dea08-80da-420d-a3a5-9e9a8ae1a1d9\",\"type\":\"Grid\"},{\"attributes\":{\"active_drag\":\"auto\",\"active_inspect\":\"auto\",\"active_multi\":null,\"active_scroll\":\"auto\",\"active_tap\":\"auto\",\"tools\":[{\"id\":\"a33e9112-74c9-43d8-83ad-be217146b3d1\",\"type\":\"WheelZoomTool\"},{\"id\":\"0ff31475-90da-4c51-b730-494bf231c3ba\",\"type\":\"PanTool\"},{\"id\":\"ef5637b6-b541-4e6d-9f0c-8d08317e3693\",\"type\":\"ResetTool\"}]},\"id\":\"40086c14-a34d-4c26-96dc-7aa8c785f835\",\"type\":\"Toolbar\"},{\"attributes\":{\"callback\":null,\"end\":3.5,\"start\":-3.5},\"id\":\"496e3e8e-e186-4a50-861b-dc1e8387fa3c\",\"type\":\"Range1d\"},{\"attributes\":{\"data_source\":{\"id\":\"4941a560-6a14-4015-be36-035d40b8f805\",\"type\":\"ColumnDataSource\"},\"glyph\":{\"id\":\"8cc920f1-a224-4553-bd5f-e7b4f7de9efd\",\"type\":\"Line\"},\"hover_glyph\":null,\"muted_glyph\":null,\"nonselection_glyph\":{\"id\":\"715060c2-741a-4156-8174-892564d0fd60\",\"type\":\"Line\"},\"selection_glyph\":null,\"view\":{\"id\":\"5b59c1df-3abc-41f9-904b-2ef7698d4111\",\"type\":\"CDSView\"}},\"id\":\"447963fc-2316-430f-9d8d-ec14d4f35124\",\"type\":\"GlyphRenderer\"},{\"attributes\":{\"fill_color\":{\"value\":\"red\"},\"line_color\":{\"value\":\"red\"},\"plot\":null,\"size\":10},\"id\":\"3920723b-d9d0-49fb-80a1-0d46a6f1a111\",\"type\":\"NormalHead\"},{\"attributes\":{},\"id\":\"0047b3c5-c27d-4da1-831b-d392d5c8aa55\",\"type\":\"BasicTickFormatter\"},{\"attributes\":{\"end\":{\"id\":\"3920723b-d9d0-49fb-80a1-0d46a6f1a111\",\"type\":\"NormalHead\"},\"line_color\":{\"value\":\"red\"},\"line_width\":{\"value\":3},\"plot\":{\"id\":\"1add866a-f790-4db1-92bc-f49c0240d422\",\"subtype\":\"Figure\",\"type\":\"Plot\"},\"source\":null,\"start\":null,\"x_end\":{\"value\":1},\"x_start\":{\"value\":0.0},\"y_end\":{\"value\":2},\"y_start\":{\"value\":0.0}},\"id\":\"37ce7ad6-eeed-4205-9c55-bfdae0528044\",\"type\":\"Arrow\"},{\"attributes\":{\"source\":{\"id\":\"4941a560-6a14-4015-be36-035d40b8f805\",\"type\":\"ColumnDataSource\"}},\"id\":\"5b59c1df-3abc-41f9-904b-2ef7698d4111\",\"type\":\"CDSView\"},{\"attributes\":{},\"id\":\"7fd79b95-1b37-45c1-ac1a-143dd9438c8e\",\"type\":\"LinearScale\"},{\"attributes\":{\"end\":{\"id\":\"5a2df8d4-fc44-43c7-85da-afbf9e0189a6\",\"type\":\"NormalHead\"},\"line_color\":{\"value\":\"blue\"},\"line_width\":{\"value\":3},\"plot\":{\"id\":\"1add866a-f790-4db1-92bc-f49c0240d422\",\"subtype\":\"Figure\",\"type\":\"Plot\"},\"source\":null,\"start\":null,\"x_end\":{\"value\":2},\"x_start\":{\"value\":0.0},\"y_end\":{\"value\":1},\"y_start\":{\"value\":0.0}},\"id\":\"1f990ff3-fb19-4df6-9896-a4cbf10482c7\",\"type\":\"Arrow\"},{\"attributes\":{\"line_width\":1.5,\"x\":{\"field\":\"x\"},\"y\":{\"field\":\"y\"}},\"id\":\"8cc920f1-a224-4553-bd5f-e7b4f7de9efd\",\"type\":\"Line\"},{\"attributes\":{\"source\":{\"id\":\"c5029474-7acc-4150-b905-c06758612ee0\",\"type\":\"ColumnDataSource\"}},\"id\":\"98167247-9604-4773-a2e7-70620588c07b\",\"type\":\"CDSView\"},{\"attributes\":{\"formatter\":{\"id\":\"d7cc23c9-171e-45c0-85bf-10abc38bb25f\",\"type\":\"BasicTickFormatter\"},\"plot\":{\"id\":\"1add866a-f790-4db1-92bc-f49c0240d422\",\"subtype\":\"Figure\",\"type\":\"Plot\"},\"ticker\":{\"id\":\"2e3a41f4-aaf7-4c16-98b4-4fec431c0909\",\"type\":\"BasicTicker\"}},\"id\":\"6cdaab91-bd82-41b9-b87f-f8b0dd18c069\",\"type\":\"LinearAxis\"},{\"attributes\":{},\"id\":\"0ff31475-90da-4c51-b730-494bf231c3ba\",\"type\":\"PanTool\"},{\"attributes\":{\"fill_color\":{\"value\":\"blue\"},\"line_color\":{\"value\":\"blue\"},\"plot\":null,\"size\":10},\"id\":\"5a2df8d4-fc44-43c7-85da-afbf9e0189a6\",\"type\":\"NormalHead\"},{\"attributes\":{},\"id\":\"d7cc23c9-171e-45c0-85bf-10abc38bb25f\",\"type\":\"BasicTickFormatter\"},{\"attributes\":{\"fill_color\":{\"value\":\"green\"},\"line_color\":{\"value\":\"green\"},\"plot\":null,\"size\":10},\"id\":\"77677ab5-8f48-4b04-a4b8-8cdfbb85d110\",\"type\":\"NormalHead\"},{\"attributes\":{\"callback\":null,\"data\":{\"x\":[0.0,0.0],\"y\":[-5.0,5.0]},\"selected\":{\"id\":\"aa75b9ac-cfb3-4377-9d48-126d54096b29\",\"type\":\"Selection\"},\"selection_policy\":{\"id\":\"9660a288-cb2c-43ce-b2f2-e448a7662d8b\",\"type\":\"UnionRenderers\"}},\"id\":\"c5029474-7acc-4150-b905-c06758612ee0\",\"type\":\"ColumnDataSource\"},{\"attributes\":{\"callback\":null,\"data\":{\"x\":[-5.0,5.0],\"y\":[0.0,0.0]},\"selected\":{\"id\":\"fd76aa0c-86f8-4742-befa-ba40274d9f98\",\"type\":\"Selection\"},\"selection_policy\":{\"id\":\"a3ee1271-df2a-45f5-ade1-154aa7c5f1ed\",\"type\":\"UnionRenderers\"}},\"id\":\"4941a560-6a14-4015-be36-035d40b8f805\",\"type\":\"ColumnDataSource\"},{\"attributes\":{},\"id\":\"ef5637b6-b541-4e6d-9f0c-8d08317e3693\",\"type\":\"ResetTool\"},{\"attributes\":{\"end\":{\"id\":\"77677ab5-8f48-4b04-a4b8-8cdfbb85d110\",\"type\":\"NormalHead\"},\"line_color\":{\"value\":\"green\"},\"line_width\":{\"value\":3},\"plot\":{\"id\":\"1add866a-f790-4db1-92bc-f49c0240d422\",\"subtype\":\"Figure\",\"type\":\"Plot\"},\"source\":null,\"start\":null,\"x_end\":{\"value\":3},\"x_start\":{\"value\":0.0},\"y_end\":{\"value\":3},\"y_start\":{\"value\":0.0}},\"id\":\"dc194902-e925-45ed-bb22-d0e0f31ca2e6\",\"type\":\"Arrow\"},{\"attributes\":{\"data_source\":{\"id\":\"c5029474-7acc-4150-b905-c06758612ee0\",\"type\":\"ColumnDataSource\"},\"glyph\":{\"id\":\"dddc8e30-665a-4778-93ed-117708fbd25d\",\"type\":\"Line\"},\"hover_glyph\":null,\"muted_glyph\":null,\"nonselection_glyph\":{\"id\":\"1a99fbb1-eb8a-4cde-8fd4-af19e55e1660\",\"type\":\"Line\"},\"selection_glyph\":null,\"view\":{\"id\":\"98167247-9604-4773-a2e7-70620588c07b\",\"type\":\"CDSView\"}},\"id\":\"13f007c5-367e-4be1-8b1f-f439f468e0be\",\"type\":\"GlyphRenderer\"},{\"attributes\":{\"plot\":null,\"text\":\"\"},\"id\":\"55fea093-226a-49db-95e9-cc3949dc2e72\",\"type\":\"Title\"},{\"attributes\":{\"line_alpha\":0.1,\"line_color\":\"#1f77b4\",\"line_width\":1.5,\"x\":{\"field\":\"x\"},\"y\":{\"field\":\"y\"}},\"id\":\"1a99fbb1-eb8a-4cde-8fd4-af19e55e1660\",\"type\":\"Line\"},{\"attributes\":{},\"id\":\"aa75b9ac-cfb3-4377-9d48-126d54096b29\",\"type\":\"Selection\"},{\"attributes\":{},\"id\":\"a33e9112-74c9-43d8-83ad-be217146b3d1\",\"type\":\"WheelZoomTool\"},{\"attributes\":{\"line_width\":1.5,\"x\":{\"field\":\"x\"},\"y\":{\"field\":\"y\"}},\"id\":\"dddc8e30-665a-4778-93ed-117708fbd25d\",\"type\":\"Line\"},{\"attributes\":{\"formatter\":{\"id\":\"0047b3c5-c27d-4da1-831b-d392d5c8aa55\",\"type\":\"BasicTickFormatter\"},\"plot\":{\"id\":\"1add866a-f790-4db1-92bc-f49c0240d422\",\"subtype\":\"Figure\",\"type\":\"Plot\"},\"ticker\":{\"id\":\"2ef66a9c-c6c7-45de-9851-46fe250d42bd\",\"type\":\"BasicTicker\"}},\"id\":\"42230c93-0db8-4136-969a-24c120fbfdbe\",\"type\":\"LinearAxis\"},{\"attributes\":{},\"id\":\"fd76aa0c-86f8-4742-befa-ba40274d9f98\",\"type\":\"Selection\"},{\"attributes\":{},\"id\":\"9660a288-cb2c-43ce-b2f2-e448a7662d8b\",\"type\":\"UnionRenderers\"}],\"root_ids\":[\"1add866a-f790-4db1-92bc-f49c0240d422\"]},\"title\":\"Bokeh Application\",\"version\":\"0.13.0\"}};\n",
       "  var render_items = [{\"docid\":\"5fc08a8d-9d22-4216-baee-0b238cb01a98\",\"roots\":{\"1add866a-f790-4db1-92bc-f49c0240d422\":\"1df982a3-5df8-42f2-9df4-146695b41313\"}}];\n",
       "  root.Bokeh.embed.embed_items_notebook(docs_json, render_items);\n",
       "\n",
       "  }\n",
       "  if (root.Bokeh !== undefined) {\n",
       "    embed_document(root);\n",
       "  } else {\n",
       "    var attempts = 0;\n",
       "    var timer = setInterval(function(root) {\n",
       "      if (root.Bokeh !== undefined) {\n",
       "        embed_document(root);\n",
       "        clearInterval(timer);\n",
       "      }\n",
       "      attempts++;\n",
       "      if (attempts > 100) {\n",
       "        console.log(\"Bokeh: ERROR: Unable to run BokehJS code because BokehJS library is missing\")\n",
       "        clearInterval(timer);\n",
       "      }\n",
       "    }, 10, root)\n",
       "  }\n",
       "})(window);"
      ],
      "application/vnd.bokehjs_exec.v0+json": ""
     },
     "metadata": {
      "application/vnd.bokehjs_exec.v0+json": {
       "id": "1add866a-f790-4db1-92bc-f49c0240d422"
      }
     },
     "output_type": "display_data"
    }
   ],
   "source": [
    "plot.clear()\n",
    "plot.graph()\n",
    "plot.vector(a)\n",
    "plot.vector(b)\n",
    "plot.vector(c)\n",
    "plot.show()"
   ]
  },
  {
   "cell_type": "markdown",
   "metadata": {},
   "source": [
    "What is really going on here when we add two vectors?"
   ]
  },
  {
   "cell_type": "code",
   "execution_count": 10,
   "metadata": {},
   "outputs": [
    {
     "data": {
      "text/html": [
       "\n",
       "\n",
       "\n",
       "\n",
       "\n",
       "\n",
       "  <div class=\"bk-root\" id=\"4a7b459e-7a27-46d9-bb39-6b64a31eff87\"></div>\n"
      ]
     },
     "metadata": {},
     "output_type": "display_data"
    },
    {
     "data": {
      "application/javascript": [
       "(function(root) {\n",
       "  function embed_document(root) {\n",
       "    \n",
       "  var docs_json = {\"bc07c858-9501-4ff7-afe4-b46be348b395\":{\"roots\":{\"references\":[{\"attributes\":{},\"id\":\"3901e96d-4445-4461-9875-f968782e8ca5\",\"type\":\"WheelZoomTool\"},{\"attributes\":{},\"id\":\"1cf2f6cd-3197-4435-87ce-142e582a4598\",\"type\":\"LinearScale\"},{\"attributes\":{\"line_alpha\":0.1,\"line_color\":\"#1f77b4\",\"line_width\":1.5,\"x\":{\"field\":\"x\"},\"y\":{\"field\":\"y\"}},\"id\":\"4f70df4e-d227-4784-974a-a3529e4bf285\",\"type\":\"Line\"},{\"attributes\":{\"source\":{\"id\":\"37c6b0b1-216e-470a-b3fe-33f93e06cc5f\",\"type\":\"ColumnDataSource\"}},\"id\":\"4705cd98-9e91-4141-a463-6478ccaf4615\",\"type\":\"CDSView\"},{\"attributes\":{\"active_drag\":\"auto\",\"active_inspect\":\"auto\",\"active_multi\":null,\"active_scroll\":\"auto\",\"active_tap\":\"auto\",\"tools\":[{\"id\":\"3901e96d-4445-4461-9875-f968782e8ca5\",\"type\":\"WheelZoomTool\"},{\"id\":\"b68b870a-756c-4ac0-91e9-6c95a1dbb794\",\"type\":\"PanTool\"},{\"id\":\"d7528afd-e9d5-447b-8a58-d15eb0855967\",\"type\":\"ResetTool\"}]},\"id\":\"191b99cc-c47a-4a9b-8eef-3920c0ff5f9b\",\"type\":\"Toolbar\"},{\"attributes\":{},\"id\":\"b68b870a-756c-4ac0-91e9-6c95a1dbb794\",\"type\":\"PanTool\"},{\"attributes\":{},\"id\":\"d7528afd-e9d5-447b-8a58-d15eb0855967\",\"type\":\"ResetTool\"},{\"attributes\":{},\"id\":\"22a092d1-fc80-4004-a98d-3c108ee39b92\",\"type\":\"BasicTicker\"},{\"attributes\":{\"callback\":null,\"data\":{\"x\":[0.0,0.0],\"y\":[-8.0,8.0]},\"selected\":{\"id\":\"ac9b5ff9-b490-43ca-957c-834a02bcacba\",\"type\":\"Selection\"},\"selection_policy\":{\"id\":\"55030d49-65e5-475d-b107-58a2298e68e5\",\"type\":\"UnionRenderers\"}},\"id\":\"420da313-5bd3-4da0-abcc-b5cd559e7ada\",\"type\":\"ColumnDataSource\"},{\"attributes\":{\"callback\":null,\"data\":{\"x\":[-8.0,8.0],\"y\":[0.0,0.0]},\"selected\":{\"id\":\"de4f625d-783a-4f2f-a30d-b9a77e437799\",\"type\":\"Selection\"},\"selection_policy\":{\"id\":\"af98301f-5bb6-4c2a-b489-4a8494738c67\",\"type\":\"UnionRenderers\"}},\"id\":\"37c6b0b1-216e-470a-b3fe-33f93e06cc5f\",\"type\":\"ColumnDataSource\"},{\"attributes\":{\"line_width\":1.5,\"x\":{\"field\":\"x\"},\"y\":{\"field\":\"y\"}},\"id\":\"6e9a3884-15e7-481d-b81f-3fc5351f4e98\",\"type\":\"Line\"},{\"attributes\":{\"line_alpha\":0.1,\"line_color\":\"#1f77b4\",\"line_width\":1.5,\"x\":{\"field\":\"x\"},\"y\":{\"field\":\"y\"}},\"id\":\"c263f8ec-61e5-452b-bb54-f43773124704\",\"type\":\"Line\"},{\"attributes\":{\"data_source\":{\"id\":\"420da313-5bd3-4da0-abcc-b5cd559e7ada\",\"type\":\"ColumnDataSource\"},\"glyph\":{\"id\":\"6e9a3884-15e7-481d-b81f-3fc5351f4e98\",\"type\":\"Line\"},\"hover_glyph\":null,\"muted_glyph\":null,\"nonselection_glyph\":{\"id\":\"c263f8ec-61e5-452b-bb54-f43773124704\",\"type\":\"Line\"},\"selection_glyph\":null,\"view\":{\"id\":\"9e057ba9-46b6-4882-9cb1-07d65ea15408\",\"type\":\"CDSView\"}},\"id\":\"06dfb23d-42a6-4315-a53e-583d4d89b386\",\"type\":\"GlyphRenderer\"},{\"attributes\":{\"formatter\":{\"id\":\"e72adb57-6b7a-4d2c-8a19-a448c241d06a\",\"type\":\"BasicTickFormatter\"},\"plot\":{\"id\":\"5e719831-e52e-4830-81e6-e4885841042b\",\"subtype\":\"Figure\",\"type\":\"Plot\"},\"ticker\":{\"id\":\"2fa71763-7dd3-4838-b7cc-390113a95f08\",\"type\":\"BasicTicker\"}},\"id\":\"5f73da10-af81-4f4f-a9c3-6b2d90ac70e4\",\"type\":\"LinearAxis\"},{\"attributes\":{\"source\":{\"id\":\"420da313-5bd3-4da0-abcc-b5cd559e7ada\",\"type\":\"ColumnDataSource\"}},\"id\":\"9e057ba9-46b6-4882-9cb1-07d65ea15408\",\"type\":\"CDSView\"},{\"attributes\":{},\"id\":\"e52d8641-d8f0-4a85-be37-29d45a8e2a54\",\"type\":\"BasicTickFormatter\"},{\"attributes\":{\"plot\":null,\"text\":\"\"},\"id\":\"4cc8cbea-10c1-49b5-84c9-477ccc4fad75\",\"type\":\"Title\"},{\"attributes\":{},\"id\":\"e72adb57-6b7a-4d2c-8a19-a448c241d06a\",\"type\":\"BasicTickFormatter\"},{\"attributes\":{\"end\":{\"id\":\"71575b53-691b-429e-b15a-8d7225671c7d\",\"type\":\"NormalHead\"},\"line_alpha\":{\"value\":0.3},\"line_color\":{\"value\":\"blue\"},\"line_width\":{\"value\":3},\"plot\":{\"id\":\"5e719831-e52e-4830-81e6-e4885841042b\",\"subtype\":\"Figure\",\"type\":\"Plot\"},\"source\":null,\"start\":null,\"x_end\":{\"value\":2},\"x_start\":{\"value\":0.0},\"y_end\":{\"value\":1},\"y_start\":{\"value\":0.0}},\"id\":\"34e51fcf-a1a3-4adf-9677-8a28db6df32f\",\"type\":\"Arrow\"},{\"attributes\":{\"fill_color\":{\"value\":\"gold\"},\"line_color\":{\"value\":\"gold\"},\"plot\":null,\"size\":10},\"id\":\"c0b7790b-c3d1-4f98-a217-c73af34a22e8\",\"type\":\"NormalHead\"},{\"attributes\":{\"fill_alpha\":{\"value\":0.3},\"fill_color\":{\"value\":\"red\"},\"line_alpha\":{\"value\":0.3},\"line_color\":{\"value\":\"red\"},\"plot\":null,\"size\":10},\"id\":\"24f3d420-279b-4ad2-8741-f668db8d85d3\",\"type\":\"NormalHead\"},{\"attributes\":{\"end\":{\"id\":\"c0b7790b-c3d1-4f98-a217-c73af34a22e8\",\"type\":\"NormalHead\"},\"line_color\":{\"value\":\"gold\"},\"line_width\":{\"value\":3},\"plot\":{\"id\":\"5e719831-e52e-4830-81e6-e4885841042b\",\"subtype\":\"Figure\",\"type\":\"Plot\"},\"source\":null,\"start\":null,\"x_end\":{\"value\":3},\"x_start\":{\"value\":0.0},\"y_end\":{\"value\":3},\"y_start\":{\"value\":0.0}},\"id\":\"e2e2a82f-b59a-4ca2-9345-5b0823970c4a\",\"type\":\"Arrow\"},{\"attributes\":{\"dimension\":1,\"plot\":{\"id\":\"5e719831-e52e-4830-81e6-e4885841042b\",\"subtype\":\"Figure\",\"type\":\"Plot\"},\"ticker\":{\"id\":\"2fa71763-7dd3-4838-b7cc-390113a95f08\",\"type\":\"BasicTicker\"}},\"id\":\"c78eed14-549c-4c2b-a86e-74be28c66b3a\",\"type\":\"Grid\"},{\"attributes\":{\"line_width\":1.5,\"x\":{\"field\":\"x\"},\"y\":{\"field\":\"y\"}},\"id\":\"bbdd925d-fc13-4e3f-bbd5-6891f2115fe3\",\"type\":\"Line\"},{\"attributes\":{\"end\":{\"id\":\"24f3d420-279b-4ad2-8741-f668db8d85d3\",\"type\":\"NormalHead\"},\"line_alpha\":{\"value\":0.3},\"line_color\":{\"value\":\"red\"},\"line_width\":{\"value\":3},\"plot\":{\"id\":\"5e719831-e52e-4830-81e6-e4885841042b\",\"subtype\":\"Figure\",\"type\":\"Plot\"},\"source\":null,\"start\":null,\"x_end\":{\"value\":3},\"x_start\":{\"value\":2},\"y_end\":{\"value\":3},\"y_start\":{\"value\":1}},\"id\":\"6bee24ab-2b61-48be-8634-b8fbcf141554\",\"type\":\"Arrow\"},{\"attributes\":{\"fill_alpha\":{\"value\":0.3},\"fill_color\":{\"value\":\"blue\"},\"line_alpha\":{\"value\":0.3},\"line_color\":{\"value\":\"blue\"},\"plot\":null,\"size\":10},\"id\":\"71575b53-691b-429e-b15a-8d7225671c7d\",\"type\":\"NormalHead\"},{\"attributes\":{},\"id\":\"af98301f-5bb6-4c2a-b489-4a8494738c67\",\"type\":\"UnionRenderers\"},{\"attributes\":{},\"id\":\"de4f625d-783a-4f2f-a30d-b9a77e437799\",\"type\":\"Selection\"},{\"attributes\":{\"data_source\":{\"id\":\"37c6b0b1-216e-470a-b3fe-33f93e06cc5f\",\"type\":\"ColumnDataSource\"},\"glyph\":{\"id\":\"bbdd925d-fc13-4e3f-bbd5-6891f2115fe3\",\"type\":\"Line\"},\"hover_glyph\":null,\"muted_glyph\":null,\"nonselection_glyph\":{\"id\":\"4f70df4e-d227-4784-974a-a3529e4bf285\",\"type\":\"Line\"},\"selection_glyph\":null,\"view\":{\"id\":\"4705cd98-9e91-4141-a463-6478ccaf4615\",\"type\":\"CDSView\"}},\"id\":\"d8024d9f-302b-4177-bf9b-ae9948a3c43f\",\"type\":\"GlyphRenderer\"},{\"attributes\":{},\"id\":\"55030d49-65e5-475d-b107-58a2298e68e5\",\"type\":\"UnionRenderers\"},{\"attributes\":{},\"id\":\"64dd0680-581c-4acf-9bed-0ce04483a31b\",\"type\":\"LinearScale\"},{\"attributes\":{},\"id\":\"ac9b5ff9-b490-43ca-957c-834a02bcacba\",\"type\":\"Selection\"},{\"attributes\":{\"formatter\":{\"id\":\"e52d8641-d8f0-4a85-be37-29d45a8e2a54\",\"type\":\"BasicTickFormatter\"},\"plot\":{\"id\":\"5e719831-e52e-4830-81e6-e4885841042b\",\"subtype\":\"Figure\",\"type\":\"Plot\"},\"ticker\":{\"id\":\"22a092d1-fc80-4004-a98d-3c108ee39b92\",\"type\":\"BasicTicker\"}},\"id\":\"eb6e8784-06e7-46d0-a5bb-3e3a60d3f1b6\",\"type\":\"LinearAxis\"},{\"attributes\":{\"below\":[{\"id\":\"eb6e8784-06e7-46d0-a5bb-3e3a60d3f1b6\",\"type\":\"LinearAxis\"}],\"left\":[{\"id\":\"5f73da10-af81-4f4f-a9c3-6b2d90ac70e4\",\"type\":\"LinearAxis\"}],\"plot_height\":700,\"plot_width\":700,\"renderers\":[{\"id\":\"eb6e8784-06e7-46d0-a5bb-3e3a60d3f1b6\",\"type\":\"LinearAxis\"},{\"id\":\"624db8a5-dc3d-4b94-bc3b-ef46281b43cc\",\"type\":\"Grid\"},{\"id\":\"5f73da10-af81-4f4f-a9c3-6b2d90ac70e4\",\"type\":\"LinearAxis\"},{\"id\":\"c78eed14-549c-4c2b-a86e-74be28c66b3a\",\"type\":\"Grid\"},{\"id\":\"d8024d9f-302b-4177-bf9b-ae9948a3c43f\",\"type\":\"GlyphRenderer\"},{\"id\":\"06dfb23d-42a6-4315-a53e-583d4d89b386\",\"type\":\"GlyphRenderer\"},{\"id\":\"34e51fcf-a1a3-4adf-9677-8a28db6df32f\",\"type\":\"Arrow\"},{\"id\":\"e2e2a82f-b59a-4ca2-9345-5b0823970c4a\",\"type\":\"Arrow\"},{\"id\":\"6bee24ab-2b61-48be-8634-b8fbcf141554\",\"type\":\"Arrow\"}],\"title\":{\"id\":\"4cc8cbea-10c1-49b5-84c9-477ccc4fad75\",\"type\":\"Title\"},\"toolbar\":{\"id\":\"191b99cc-c47a-4a9b-8eef-3920c0ff5f9b\",\"type\":\"Toolbar\"},\"x_range\":{\"id\":\"55cee20f-c527-4993-9fd4-7a397912a20a\",\"type\":\"Range1d\"},\"x_scale\":{\"id\":\"1cf2f6cd-3197-4435-87ce-142e582a4598\",\"type\":\"LinearScale\"},\"y_range\":{\"id\":\"cebd508d-10c1-4a25-8e20-6666f491336f\",\"type\":\"Range1d\"},\"y_scale\":{\"id\":\"64dd0680-581c-4acf-9bed-0ce04483a31b\",\"type\":\"LinearScale\"}},\"id\":\"5e719831-e52e-4830-81e6-e4885841042b\",\"subtype\":\"Figure\",\"type\":\"Plot\"},{\"attributes\":{\"callback\":null,\"end\":5.6,\"start\":-5.6},\"id\":\"cebd508d-10c1-4a25-8e20-6666f491336f\",\"type\":\"Range1d\"},{\"attributes\":{\"callback\":null,\"end\":5.6,\"start\":-5.6},\"id\":\"55cee20f-c527-4993-9fd4-7a397912a20a\",\"type\":\"Range1d\"},{\"attributes\":{\"plot\":{\"id\":\"5e719831-e52e-4830-81e6-e4885841042b\",\"subtype\":\"Figure\",\"type\":\"Plot\"},\"ticker\":{\"id\":\"22a092d1-fc80-4004-a98d-3c108ee39b92\",\"type\":\"BasicTicker\"}},\"id\":\"624db8a5-dc3d-4b94-bc3b-ef46281b43cc\",\"type\":\"Grid\"},{\"attributes\":{},\"id\":\"2fa71763-7dd3-4838-b7cc-390113a95f08\",\"type\":\"BasicTicker\"}],\"root_ids\":[\"5e719831-e52e-4830-81e6-e4885841042b\"]},\"title\":\"Bokeh Application\",\"version\":\"0.13.0\"}};\n",
       "  var render_items = [{\"docid\":\"bc07c858-9501-4ff7-afe4-b46be348b395\",\"roots\":{\"5e719831-e52e-4830-81e6-e4885841042b\":\"4a7b459e-7a27-46d9-bb39-6b64a31eff87\"}}];\n",
       "  root.Bokeh.embed.embed_items_notebook(docs_json, render_items);\n",
       "\n",
       "  }\n",
       "  if (root.Bokeh !== undefined) {\n",
       "    embed_document(root);\n",
       "  } else {\n",
       "    var attempts = 0;\n",
       "    var timer = setInterval(function(root) {\n",
       "      if (root.Bokeh !== undefined) {\n",
       "        embed_document(root);\n",
       "        clearInterval(timer);\n",
       "      }\n",
       "      attempts++;\n",
       "      if (attempts > 100) {\n",
       "        console.log(\"Bokeh: ERROR: Unable to run BokehJS code because BokehJS library is missing\")\n",
       "        clearInterval(timer);\n",
       "      }\n",
       "    }, 10, root)\n",
       "  }\n",
       "})(window);"
      ],
      "application/vnd.bokehjs_exec.v0+json": ""
     },
     "metadata": {
      "application/vnd.bokehjs_exec.v0+json": {
       "id": "5e719831-e52e-4830-81e6-e4885841042b"
      }
     },
     "output_type": "display_data"
    }
   ],
   "source": [
    "plot.clear()\n",
    "plot.graph(8)\n",
    "plot.add_vectors(a,b)\n",
    "plot.show()"
   ]
  },
  {
   "cell_type": "markdown",
   "metadata": {},
   "source": [
    "# Vector Subtraction\n",
    "\n",
    "Given $\\vec{a},~\\vec{b} \\in \\Re^2$\n",
    "\n",
    "$$\\vec{a} = \\begin{bmatrix} a_1 \\\\ a_2 \\end{bmatrix}$$\n",
    "$$\\vec{b} = \\begin{bmatrix} b_1 \\\\ b_2 \\end{bmatrix}$$\n",
    "\n",
    "then \n",
    "\\begin{equation}\n",
    "\\vec{a} - \\vec{b} = \\begin{bmatrix} a_1-b_1 \\\\ a_2-b_2 \\end{bmatrix}\n",
    "\\end{equation}"
   ]
  },
  {
   "cell_type": "code",
   "execution_count": 11,
   "metadata": {},
   "outputs": [
    {
     "data": {
      "text/plain": [
       "array([ 1, -1])"
      ]
     },
     "execution_count": 11,
     "metadata": {},
     "output_type": "execute_result"
    }
   ],
   "source": [
    "a = np.array([2,1])\n",
    "b = np.array([1,2])\n",
    "c = a - b\n",
    "c"
   ]
  },
  {
   "cell_type": "markdown",
   "metadata": {},
   "source": [
    "$$\\vec{a} = \\begin{bmatrix} 2 \\\\ 1 \\end{bmatrix}$$\n",
    "$$\\vec{b} = \\begin{bmatrix} 1 \\\\ 2 \\end{bmatrix}$$\n",
    "\n",
    "then \n",
    "\\begin{equation}\n",
    "\\vec{a} - \\vec{b} = \\begin{bmatrix} 2-1 \\\\ 1-2 \\end{bmatrix} = \\begin{bmatrix} 1 \\\\ -1 \\end{bmatrix}\n",
    "\\end{equation}"
   ]
  },
  {
   "cell_type": "code",
   "execution_count": 12,
   "metadata": {},
   "outputs": [
    {
     "data": {
      "text/html": [
       "\n",
       "\n",
       "\n",
       "\n",
       "\n",
       "\n",
       "  <div class=\"bk-root\" id=\"2a440925-f4a8-417b-9ef7-86de840e5838\"></div>\n"
      ]
     },
     "metadata": {},
     "output_type": "display_data"
    },
    {
     "data": {
      "application/javascript": [
       "(function(root) {\n",
       "  function embed_document(root) {\n",
       "    \n",
       "  var docs_json = {\"08b956ee-83ee-48f1-9f22-616cccaec5b7\":{\"roots\":{\"references\":[{\"attributes\":{},\"id\":\"5be45290-5b9a-414b-bdd3-826601558679\",\"type\":\"BasicTickFormatter\"},{\"attributes\":{},\"id\":\"1a50470e-322c-4a66-9489-89f74166932c\",\"type\":\"BasicTickFormatter\"},{\"attributes\":{},\"id\":\"fece3734-b6a0-4ffc-971d-31e8d5bc9e38\",\"type\":\"UnionRenderers\"},{\"attributes\":{\"plot\":{\"id\":\"f01fb4a7-48cf-44ef-a8d6-a5a2d4332fe9\",\"subtype\":\"Figure\",\"type\":\"Plot\"},\"ticker\":{\"id\":\"d9a1d823-cc70-4fa2-b94c-90eb539608ca\",\"type\":\"BasicTicker\"}},\"id\":\"537ba5f6-5677-4d0b-8f45-4f89453c1dd5\",\"type\":\"Grid\"},{\"attributes\":{\"fill_color\":{\"value\":\"purple\"},\"line_color\":{\"value\":\"purple\"},\"plot\":null,\"size\":10},\"id\":\"cf952d97-56a9-427d-8c8b-1b72badfa19d\",\"type\":\"NormalHead\"},{\"attributes\":{},\"id\":\"7cbfa9d9-7067-4cd3-a6e6-5d403fc7d126\",\"type\":\"Selection\"},{\"attributes\":{},\"id\":\"68bf88b7-34c9-42f1-8671-629ce1cb502b\",\"type\":\"UnionRenderers\"},{\"attributes\":{},\"id\":\"db739e73-2418-4b81-92cb-11a87df0fefd\",\"type\":\"Selection\"},{\"attributes\":{},\"id\":\"38f5c6cf-5533-4089-a316-28499aeb3482\",\"type\":\"LinearScale\"},{\"attributes\":{},\"id\":\"9c3396c6-cbbd-4193-a2c1-4d3b2829ef87\",\"type\":\"LinearScale\"},{\"attributes\":{\"below\":[{\"id\":\"a263e73a-94d6-41a3-b897-3f5672469d92\",\"type\":\"LinearAxis\"}],\"left\":[{\"id\":\"1dfc47d1-1d48-477c-8fbf-593dfa408686\",\"type\":\"LinearAxis\"}],\"plot_height\":700,\"plot_width\":700,\"renderers\":[{\"id\":\"a263e73a-94d6-41a3-b897-3f5672469d92\",\"type\":\"LinearAxis\"},{\"id\":\"537ba5f6-5677-4d0b-8f45-4f89453c1dd5\",\"type\":\"Grid\"},{\"id\":\"1dfc47d1-1d48-477c-8fbf-593dfa408686\",\"type\":\"LinearAxis\"},{\"id\":\"d6d04783-7f17-45b9-84cb-cb14a0e1b51b\",\"type\":\"Grid\"},{\"id\":\"b134528f-ea12-4cea-a930-7b0f727cf976\",\"type\":\"GlyphRenderer\"},{\"id\":\"9affed94-eb4d-4379-a57e-1cc2d40e3a31\",\"type\":\"GlyphRenderer\"},{\"id\":\"678e7a30-3af8-4a20-9614-e95eeabb8132\",\"type\":\"Arrow\"},{\"id\":\"670e6219-22b4-43c9-b7f5-c6db0b73fcdd\",\"type\":\"Arrow\"},{\"id\":\"db20c016-b1f8-4016-8f2b-ac6e43130ad4\",\"type\":\"Arrow\"}],\"title\":{\"id\":\"5bacc6e4-1f25-4d25-86ab-1bcbe7a2d3dc\",\"type\":\"Title\"},\"toolbar\":{\"id\":\"8ec9e5f0-20ba-4d81-9811-2dfb7c618b1b\",\"type\":\"Toolbar\"},\"x_range\":{\"id\":\"6167337f-be80-4102-be14-9fca488c51b9\",\"type\":\"Range1d\"},\"x_scale\":{\"id\":\"9c3396c6-cbbd-4193-a2c1-4d3b2829ef87\",\"type\":\"LinearScale\"},\"y_range\":{\"id\":\"f09e38bf-9dcc-4363-aacd-1c3a42e436b7\",\"type\":\"Range1d\"},\"y_scale\":{\"id\":\"38f5c6cf-5533-4089-a316-28499aeb3482\",\"type\":\"LinearScale\"}},\"id\":\"f01fb4a7-48cf-44ef-a8d6-a5a2d4332fe9\",\"subtype\":\"Figure\",\"type\":\"Plot\"},{\"attributes\":{\"line_width\":1.5,\"x\":{\"field\":\"x\"},\"y\":{\"field\":\"y\"}},\"id\":\"de099fb9-c809-4961-a056-73da0566677f\",\"type\":\"Line\"},{\"attributes\":{},\"id\":\"6d35df5a-4670-4eea-bc83-8380bedb09ca\",\"type\":\"ResetTool\"},{\"attributes\":{\"fill_color\":{\"value\":\"blue\"},\"line_color\":{\"value\":\"blue\"},\"plot\":null,\"size\":10},\"id\":\"edf08fbd-7de6-4c0f-8363-b53569cbb555\",\"type\":\"NormalHead\"},{\"attributes\":{\"source\":{\"id\":\"63b2c52f-f8af-4c8d-9c5a-a67a9571ce3a\",\"type\":\"ColumnDataSource\"}},\"id\":\"625bfbc9-7cd0-4db0-81d8-efc65acc7baa\",\"type\":\"CDSView\"},{\"attributes\":{\"callback\":null,\"end\":3.5,\"start\":-3.5},\"id\":\"6167337f-be80-4102-be14-9fca488c51b9\",\"type\":\"Range1d\"},{\"attributes\":{\"formatter\":{\"id\":\"1a50470e-322c-4a66-9489-89f74166932c\",\"type\":\"BasicTickFormatter\"},\"plot\":{\"id\":\"f01fb4a7-48cf-44ef-a8d6-a5a2d4332fe9\",\"subtype\":\"Figure\",\"type\":\"Plot\"},\"ticker\":{\"id\":\"d9a1d823-cc70-4fa2-b94c-90eb539608ca\",\"type\":\"BasicTicker\"}},\"id\":\"a263e73a-94d6-41a3-b897-3f5672469d92\",\"type\":\"LinearAxis\"},{\"attributes\":{\"active_drag\":\"auto\",\"active_inspect\":\"auto\",\"active_multi\":null,\"active_scroll\":\"auto\",\"active_tap\":\"auto\",\"tools\":[{\"id\":\"a586f5b1-7bfb-4ba0-b7dd-eac71d06419b\",\"type\":\"WheelZoomTool\"},{\"id\":\"31db6d61-b549-418a-a5cd-4e0ec68df742\",\"type\":\"PanTool\"},{\"id\":\"6d35df5a-4670-4eea-bc83-8380bedb09ca\",\"type\":\"ResetTool\"}]},\"id\":\"8ec9e5f0-20ba-4d81-9811-2dfb7c618b1b\",\"type\":\"Toolbar\"},{\"attributes\":{\"callback\":null,\"data\":{\"x\":[-5.0,5.0],\"y\":[0.0,0.0]},\"selected\":{\"id\":\"7cbfa9d9-7067-4cd3-a6e6-5d403fc7d126\",\"type\":\"Selection\"},\"selection_policy\":{\"id\":\"fece3734-b6a0-4ffc-971d-31e8d5bc9e38\",\"type\":\"UnionRenderers\"}},\"id\":\"208838ec-55cf-45bb-90ad-80cbedf57362\",\"type\":\"ColumnDataSource\"},{\"attributes\":{\"end\":{\"id\":\"3682658e-9bfd-48c2-a87e-beceef3f0888\",\"type\":\"NormalHead\"},\"line_color\":{\"value\":\"red\"},\"line_width\":{\"value\":3},\"plot\":{\"id\":\"f01fb4a7-48cf-44ef-a8d6-a5a2d4332fe9\",\"subtype\":\"Figure\",\"type\":\"Plot\"},\"source\":null,\"start\":null,\"x_end\":{\"value\":1},\"x_start\":{\"value\":0.0},\"y_end\":{\"value\":2},\"y_start\":{\"value\":0.0}},\"id\":\"670e6219-22b4-43c9-b7f5-c6db0b73fcdd\",\"type\":\"Arrow\"},{\"attributes\":{},\"id\":\"d9a1d823-cc70-4fa2-b94c-90eb539608ca\",\"type\":\"BasicTicker\"},{\"attributes\":{\"data_source\":{\"id\":\"63b2c52f-f8af-4c8d-9c5a-a67a9571ce3a\",\"type\":\"ColumnDataSource\"},\"glyph\":{\"id\":\"dc655563-ea89-46b4-ab47-405e8c497f48\",\"type\":\"Line\"},\"hover_glyph\":null,\"muted_glyph\":null,\"nonselection_glyph\":{\"id\":\"cfa5b1e7-f879-49d2-895a-60c4f8c4791c\",\"type\":\"Line\"},\"selection_glyph\":null,\"view\":{\"id\":\"625bfbc9-7cd0-4db0-81d8-efc65acc7baa\",\"type\":\"CDSView\"}},\"id\":\"9affed94-eb4d-4379-a57e-1cc2d40e3a31\",\"type\":\"GlyphRenderer\"},{\"attributes\":{},\"id\":\"31db6d61-b549-418a-a5cd-4e0ec68df742\",\"type\":\"PanTool\"},{\"attributes\":{\"source\":{\"id\":\"208838ec-55cf-45bb-90ad-80cbedf57362\",\"type\":\"ColumnDataSource\"}},\"id\":\"6d91016f-2264-46ef-b26e-32b613528344\",\"type\":\"CDSView\"},{\"attributes\":{\"callback\":null,\"end\":3.5,\"start\":-3.5},\"id\":\"f09e38bf-9dcc-4363-aacd-1c3a42e436b7\",\"type\":\"Range1d\"},{\"attributes\":{\"line_alpha\":0.1,\"line_color\":\"#1f77b4\",\"line_width\":1.5,\"x\":{\"field\":\"x\"},\"y\":{\"field\":\"y\"}},\"id\":\"9142e483-99ba-4a63-a716-5887305d6a90\",\"type\":\"Line\"},{\"attributes\":{},\"id\":\"a586f5b1-7bfb-4ba0-b7dd-eac71d06419b\",\"type\":\"WheelZoomTool\"},{\"attributes\":{\"end\":{\"id\":\"edf08fbd-7de6-4c0f-8363-b53569cbb555\",\"type\":\"NormalHead\"},\"line_color\":{\"value\":\"blue\"},\"line_width\":{\"value\":3},\"plot\":{\"id\":\"f01fb4a7-48cf-44ef-a8d6-a5a2d4332fe9\",\"subtype\":\"Figure\",\"type\":\"Plot\"},\"source\":null,\"start\":null,\"x_end\":{\"value\":2},\"x_start\":{\"value\":0.0},\"y_end\":{\"value\":1},\"y_start\":{\"value\":0.0}},\"id\":\"678e7a30-3af8-4a20-9614-e95eeabb8132\",\"type\":\"Arrow\"},{\"attributes\":{\"data_source\":{\"id\":\"208838ec-55cf-45bb-90ad-80cbedf57362\",\"type\":\"ColumnDataSource\"},\"glyph\":{\"id\":\"de099fb9-c809-4961-a056-73da0566677f\",\"type\":\"Line\"},\"hover_glyph\":null,\"muted_glyph\":null,\"nonselection_glyph\":{\"id\":\"9142e483-99ba-4a63-a716-5887305d6a90\",\"type\":\"Line\"},\"selection_glyph\":null,\"view\":{\"id\":\"6d91016f-2264-46ef-b26e-32b613528344\",\"type\":\"CDSView\"}},\"id\":\"b134528f-ea12-4cea-a930-7b0f727cf976\",\"type\":\"GlyphRenderer\"},{\"attributes\":{\"end\":{\"id\":\"cf952d97-56a9-427d-8c8b-1b72badfa19d\",\"type\":\"NormalHead\"},\"line_color\":{\"value\":\"purple\"},\"line_width\":{\"value\":3},\"plot\":{\"id\":\"f01fb4a7-48cf-44ef-a8d6-a5a2d4332fe9\",\"subtype\":\"Figure\",\"type\":\"Plot\"},\"source\":null,\"start\":null,\"x_end\":{\"value\":1},\"x_start\":{\"value\":0.0},\"y_end\":{\"value\":-1},\"y_start\":{\"value\":0.0}},\"id\":\"db20c016-b1f8-4016-8f2b-ac6e43130ad4\",\"type\":\"Arrow\"},{\"attributes\":{\"line_alpha\":0.1,\"line_color\":\"#1f77b4\",\"line_width\":1.5,\"x\":{\"field\":\"x\"},\"y\":{\"field\":\"y\"}},\"id\":\"cfa5b1e7-f879-49d2-895a-60c4f8c4791c\",\"type\":\"Line\"},{\"attributes\":{\"callback\":null,\"data\":{\"x\":[0.0,0.0],\"y\":[-5.0,5.0]},\"selected\":{\"id\":\"db739e73-2418-4b81-92cb-11a87df0fefd\",\"type\":\"Selection\"},\"selection_policy\":{\"id\":\"68bf88b7-34c9-42f1-8671-629ce1cb502b\",\"type\":\"UnionRenderers\"}},\"id\":\"63b2c52f-f8af-4c8d-9c5a-a67a9571ce3a\",\"type\":\"ColumnDataSource\"},{\"attributes\":{\"line_width\":1.5,\"x\":{\"field\":\"x\"},\"y\":{\"field\":\"y\"}},\"id\":\"dc655563-ea89-46b4-ab47-405e8c497f48\",\"type\":\"Line\"},{\"attributes\":{\"dimension\":1,\"plot\":{\"id\":\"f01fb4a7-48cf-44ef-a8d6-a5a2d4332fe9\",\"subtype\":\"Figure\",\"type\":\"Plot\"},\"ticker\":{\"id\":\"ea670cbb-1917-476d-81d8-d9358b193ac9\",\"type\":\"BasicTicker\"}},\"id\":\"d6d04783-7f17-45b9-84cb-cb14a0e1b51b\",\"type\":\"Grid\"},{\"attributes\":{\"fill_color\":{\"value\":\"red\"},\"line_color\":{\"value\":\"red\"},\"plot\":null,\"size\":10},\"id\":\"3682658e-9bfd-48c2-a87e-beceef3f0888\",\"type\":\"NormalHead\"},{\"attributes\":{},\"id\":\"ea670cbb-1917-476d-81d8-d9358b193ac9\",\"type\":\"BasicTicker\"},{\"attributes\":{\"formatter\":{\"id\":\"5be45290-5b9a-414b-bdd3-826601558679\",\"type\":\"BasicTickFormatter\"},\"plot\":{\"id\":\"f01fb4a7-48cf-44ef-a8d6-a5a2d4332fe9\",\"subtype\":\"Figure\",\"type\":\"Plot\"},\"ticker\":{\"id\":\"ea670cbb-1917-476d-81d8-d9358b193ac9\",\"type\":\"BasicTicker\"}},\"id\":\"1dfc47d1-1d48-477c-8fbf-593dfa408686\",\"type\":\"LinearAxis\"},{\"attributes\":{\"plot\":null,\"text\":\"\"},\"id\":\"5bacc6e4-1f25-4d25-86ab-1bcbe7a2d3dc\",\"type\":\"Title\"}],\"root_ids\":[\"f01fb4a7-48cf-44ef-a8d6-a5a2d4332fe9\"]},\"title\":\"Bokeh Application\",\"version\":\"0.13.0\"}};\n",
       "  var render_items = [{\"docid\":\"08b956ee-83ee-48f1-9f22-616cccaec5b7\",\"roots\":{\"f01fb4a7-48cf-44ef-a8d6-a5a2d4332fe9\":\"2a440925-f4a8-417b-9ef7-86de840e5838\"}}];\n",
       "  root.Bokeh.embed.embed_items_notebook(docs_json, render_items);\n",
       "\n",
       "  }\n",
       "  if (root.Bokeh !== undefined) {\n",
       "    embed_document(root);\n",
       "  } else {\n",
       "    var attempts = 0;\n",
       "    var timer = setInterval(function(root) {\n",
       "      if (root.Bokeh !== undefined) {\n",
       "        embed_document(root);\n",
       "        clearInterval(timer);\n",
       "      }\n",
       "      attempts++;\n",
       "      if (attempts > 100) {\n",
       "        console.log(\"Bokeh: ERROR: Unable to run BokehJS code because BokehJS library is missing\")\n",
       "        clearInterval(timer);\n",
       "      }\n",
       "    }, 10, root)\n",
       "  }\n",
       "})(window);"
      ],
      "application/vnd.bokehjs_exec.v0+json": ""
     },
     "metadata": {
      "application/vnd.bokehjs_exec.v0+json": {
       "id": "f01fb4a7-48cf-44ef-a8d6-a5a2d4332fe9"
      }
     },
     "output_type": "display_data"
    }
   ],
   "source": [
    "plot.clear()\n",
    "plot.graph()\n",
    "plot.vector(a)\n",
    "plot.vector(b)\n",
    "plot.vector(c,add_color=\"purple\")\n",
    "plot.show()"
   ]
  },
  {
   "cell_type": "markdown",
   "metadata": {},
   "source": [
    "What is really going on here when we subtract two vectors?"
   ]
  },
  {
   "cell_type": "code",
   "execution_count": 13,
   "metadata": {},
   "outputs": [
    {
     "data": {
      "text/html": [
       "\n",
       "\n",
       "\n",
       "\n",
       "\n",
       "\n",
       "  <div class=\"bk-root\" id=\"5a89312a-d8dc-4746-8f29-4a46c59af01b\"></div>\n"
      ]
     },
     "metadata": {},
     "output_type": "display_data"
    },
    {
     "data": {
      "application/javascript": [
       "(function(root) {\n",
       "  function embed_document(root) {\n",
       "    \n",
       "  var docs_json = {\"21ce351a-cf06-4c79-b9a8-d760bd934c1f\":{\"roots\":{\"references\":[{\"attributes\":{\"callback\":null,\"data\":{\"x\":[0.0,0.0],\"y\":[-5.0,5.0]},\"selected\":{\"id\":\"446aad9e-2176-46ad-857a-cb39f86d12ef\",\"type\":\"Selection\"},\"selection_policy\":{\"id\":\"ae917e51-ba52-44c7-929e-4eeda33c727b\",\"type\":\"UnionRenderers\"}},\"id\":\"2785c8b9-07cc-40b5-93e2-f911efef0910\",\"type\":\"ColumnDataSource\"},{\"attributes\":{\"dimension\":1,\"plot\":{\"id\":\"9c101fec-2ce8-4b13-9855-9eac5bf70c4b\",\"subtype\":\"Figure\",\"type\":\"Plot\"},\"ticker\":{\"id\":\"659c8e39-8d8d-4b00-bd1a-1d98b1ab7802\",\"type\":\"BasicTicker\"}},\"id\":\"972dff99-ce3f-4b12-b9cb-dde113747adf\",\"type\":\"Grid\"},{\"attributes\":{},\"id\":\"04f2a4d2-8473-459c-a9df-62a45fd09349\",\"type\":\"LinearScale\"},{\"attributes\":{\"plot\":{\"id\":\"9c101fec-2ce8-4b13-9855-9eac5bf70c4b\",\"subtype\":\"Figure\",\"type\":\"Plot\"},\"ticker\":{\"id\":\"b1b55547-0369-4701-a127-5b738d9f02ca\",\"type\":\"BasicTicker\"}},\"id\":\"c7b308ad-b818-4a91-bad4-532661e1e918\",\"type\":\"Grid\"},{\"attributes\":{\"formatter\":{\"id\":\"9abfe743-a777-4702-a42e-1415880fd746\",\"type\":\"BasicTickFormatter\"},\"plot\":{\"id\":\"9c101fec-2ce8-4b13-9855-9eac5bf70c4b\",\"subtype\":\"Figure\",\"type\":\"Plot\"},\"ticker\":{\"id\":\"b1b55547-0369-4701-a127-5b738d9f02ca\",\"type\":\"BasicTicker\"}},\"id\":\"110b060b-373c-44b5-b843-c69723d2f78d\",\"type\":\"LinearAxis\"},{\"attributes\":{},\"id\":\"b1b55547-0369-4701-a127-5b738d9f02ca\",\"type\":\"BasicTicker\"},{\"attributes\":{},\"id\":\"659c8e39-8d8d-4b00-bd1a-1d98b1ab7802\",\"type\":\"BasicTicker\"},{\"attributes\":{\"callback\":null,\"end\":3.5,\"start\":-3.5},\"id\":\"43384f09-8180-4f1c-8557-7505fb81ba17\",\"type\":\"Range1d\"},{\"attributes\":{\"callback\":null,\"data\":{\"x\":[-5.0,5.0],\"y\":[0.0,0.0]},\"selected\":{\"id\":\"60f06d77-6eda-4df7-974b-8e8440b4560a\",\"type\":\"Selection\"},\"selection_policy\":{\"id\":\"1da31864-fad2-488e-b1a0-d8c9dc0d19a2\",\"type\":\"UnionRenderers\"}},\"id\":\"83e60ae2-1691-4165-aa6b-16795b98ad4d\",\"type\":\"ColumnDataSource\"},{\"attributes\":{\"plot\":null,\"text\":\"\"},\"id\":\"728064c2-ba56-4b50-a0df-bd0294bbef8d\",\"type\":\"Title\"},{\"attributes\":{},\"id\":\"6076f454-2b69-4fad-b69f-ea77269028eb\",\"type\":\"LinearScale\"},{\"attributes\":{},\"id\":\"1da31864-fad2-488e-b1a0-d8c9dc0d19a2\",\"type\":\"UnionRenderers\"},{\"attributes\":{\"source\":{\"id\":\"2785c8b9-07cc-40b5-93e2-f911efef0910\",\"type\":\"ColumnDataSource\"}},\"id\":\"bc045824-8424-47bc-908f-76e2fd348011\",\"type\":\"CDSView\"},{\"attributes\":{\"end\":{\"id\":\"94b818a0-b870-41e9-af82-ca5019e1c81c\",\"type\":\"NormalHead\"},\"line_color\":{\"value\":\"blue\"},\"line_width\":{\"value\":3},\"plot\":{\"id\":\"9c101fec-2ce8-4b13-9855-9eac5bf70c4b\",\"subtype\":\"Figure\",\"type\":\"Plot\"},\"source\":null,\"start\":null,\"x_end\":{\"value\":2},\"x_start\":{\"value\":0.0},\"y_end\":{\"value\":1},\"y_start\":{\"value\":0.0}},\"id\":\"b7e0c8ce-518e-44e2-bd39-8881ffffe1b4\",\"type\":\"Arrow\"},{\"attributes\":{\"fill_color\":{\"value\":\"red\"},\"line_color\":{\"value\":\"red\"},\"plot\":null,\"size\":10},\"id\":\"58e93a10-b8d7-48c2-828b-34467002ddb2\",\"type\":\"NormalHead\"},{\"attributes\":{},\"id\":\"9abfe743-a777-4702-a42e-1415880fd746\",\"type\":\"BasicTickFormatter\"},{\"attributes\":{\"fill_alpha\":{\"value\":0.3},\"fill_color\":{\"value\":\"purple\"},\"line_alpha\":{\"value\":0.3},\"line_color\":{\"value\":\"purple\"},\"plot\":null,\"size\":10},\"id\":\"7816d1ab-c31a-4db0-824f-339664d15366\",\"type\":\"NormalHead\"},{\"attributes\":{\"below\":[{\"id\":\"110b060b-373c-44b5-b843-c69723d2f78d\",\"type\":\"LinearAxis\"}],\"left\":[{\"id\":\"8bd73786-b7ce-4d91-8f76-ec656f0e1bb9\",\"type\":\"LinearAxis\"}],\"plot_height\":700,\"plot_width\":700,\"renderers\":[{\"id\":\"110b060b-373c-44b5-b843-c69723d2f78d\",\"type\":\"LinearAxis\"},{\"id\":\"c7b308ad-b818-4a91-bad4-532661e1e918\",\"type\":\"Grid\"},{\"id\":\"8bd73786-b7ce-4d91-8f76-ec656f0e1bb9\",\"type\":\"LinearAxis\"},{\"id\":\"972dff99-ce3f-4b12-b9cb-dde113747adf\",\"type\":\"Grid\"},{\"id\":\"b8128ded-8e5d-4b07-b102-a05dac2ecaef\",\"type\":\"GlyphRenderer\"},{\"id\":\"f920186c-dca1-4a1a-a95f-6f5d00609f49\",\"type\":\"GlyphRenderer\"},{\"id\":\"b7e0c8ce-518e-44e2-bd39-8881ffffe1b4\",\"type\":\"Arrow\"},{\"id\":\"35a7d02a-a745-4283-bdd5-8b16f07b5ddb\",\"type\":\"Arrow\"},{\"id\":\"cd2536ef-9dbb-41f7-8e09-16748f43745c\",\"type\":\"Arrow\"}],\"title\":{\"id\":\"728064c2-ba56-4b50-a0df-bd0294bbef8d\",\"type\":\"Title\"},\"toolbar\":{\"id\":\"166f9e63-4fb3-4e82-9f44-702ada3d96b7\",\"type\":\"Toolbar\"},\"x_range\":{\"id\":\"65861d82-a971-4926-aca0-fbdb564f7337\",\"type\":\"Range1d\"},\"x_scale\":{\"id\":\"6076f454-2b69-4fad-b69f-ea77269028eb\",\"type\":\"LinearScale\"},\"y_range\":{\"id\":\"43384f09-8180-4f1c-8557-7505fb81ba17\",\"type\":\"Range1d\"},\"y_scale\":{\"id\":\"04f2a4d2-8473-459c-a9df-62a45fd09349\",\"type\":\"LinearScale\"}},\"id\":\"9c101fec-2ce8-4b13-9855-9eac5bf70c4b\",\"subtype\":\"Figure\",\"type\":\"Plot\"},{\"attributes\":{\"end\":{\"id\":\"58e93a10-b8d7-48c2-828b-34467002ddb2\",\"type\":\"NormalHead\"},\"line_color\":{\"value\":\"red\"},\"line_width\":{\"value\":3},\"plot\":{\"id\":\"9c101fec-2ce8-4b13-9855-9eac5bf70c4b\",\"subtype\":\"Figure\",\"type\":\"Plot\"},\"source\":null,\"start\":null,\"x_end\":{\"value\":1},\"x_start\":{\"value\":0.0},\"y_end\":{\"value\":2},\"y_start\":{\"value\":0.0}},\"id\":\"35a7d02a-a745-4283-bdd5-8b16f07b5ddb\",\"type\":\"Arrow\"},{\"attributes\":{\"formatter\":{\"id\":\"b3a0cbcf-8fb4-4f28-85d9-9340bc03f5e6\",\"type\":\"BasicTickFormatter\"},\"plot\":{\"id\":\"9c101fec-2ce8-4b13-9855-9eac5bf70c4b\",\"subtype\":\"Figure\",\"type\":\"Plot\"},\"ticker\":{\"id\":\"659c8e39-8d8d-4b00-bd1a-1d98b1ab7802\",\"type\":\"BasicTicker\"}},\"id\":\"8bd73786-b7ce-4d91-8f76-ec656f0e1bb9\",\"type\":\"LinearAxis\"},{\"attributes\":{\"end\":{\"id\":\"7816d1ab-c31a-4db0-824f-339664d15366\",\"type\":\"NormalHead\"},\"line_alpha\":{\"value\":0.3},\"line_color\":{\"value\":\"purple\"},\"line_width\":{\"value\":3},\"plot\":{\"id\":\"9c101fec-2ce8-4b13-9855-9eac5bf70c4b\",\"subtype\":\"Figure\",\"type\":\"Plot\"},\"source\":null,\"start\":null,\"x_end\":{\"value\":2},\"x_start\":{\"value\":1},\"y_end\":{\"value\":1},\"y_start\":{\"value\":2}},\"id\":\"cd2536ef-9dbb-41f7-8e09-16748f43745c\",\"type\":\"Arrow\"},{\"attributes\":{},\"id\":\"b3a0cbcf-8fb4-4f28-85d9-9340bc03f5e6\",\"type\":\"BasicTickFormatter\"},{\"attributes\":{\"line_width\":1.5,\"x\":{\"field\":\"x\"},\"y\":{\"field\":\"y\"}},\"id\":\"dcd3d8d1-4dad-4ad0-828d-2ca997328aa3\",\"type\":\"Line\"},{\"attributes\":{},\"id\":\"60f06d77-6eda-4df7-974b-8e8440b4560a\",\"type\":\"Selection\"},{\"attributes\":{\"line_alpha\":0.1,\"line_color\":\"#1f77b4\",\"line_width\":1.5,\"x\":{\"field\":\"x\"},\"y\":{\"field\":\"y\"}},\"id\":\"fddc6299-84cb-4ddb-aa90-c0ff74121da3\",\"type\":\"Line\"},{\"attributes\":{},\"id\":\"52a9a2ee-aecf-433b-857a-b3b505dcb85c\",\"type\":\"PanTool\"},{\"attributes\":{\"active_drag\":\"auto\",\"active_inspect\":\"auto\",\"active_multi\":null,\"active_scroll\":\"auto\",\"active_tap\":\"auto\",\"tools\":[{\"id\":\"c954ecac-36b8-4b1c-b0ea-4636bd911cf3\",\"type\":\"WheelZoomTool\"},{\"id\":\"52a9a2ee-aecf-433b-857a-b3b505dcb85c\",\"type\":\"PanTool\"},{\"id\":\"f5b340d6-f3f6-4fa8-a0ff-5fc25c8221d8\",\"type\":\"ResetTool\"}]},\"id\":\"166f9e63-4fb3-4e82-9f44-702ada3d96b7\",\"type\":\"Toolbar\"},{\"attributes\":{\"callback\":null,\"end\":3.5,\"start\":-3.5},\"id\":\"65861d82-a971-4926-aca0-fbdb564f7337\",\"type\":\"Range1d\"},{\"attributes\":{},\"id\":\"446aad9e-2176-46ad-857a-cb39f86d12ef\",\"type\":\"Selection\"},{\"attributes\":{\"fill_color\":{\"value\":\"blue\"},\"line_color\":{\"value\":\"blue\"},\"plot\":null,\"size\":10},\"id\":\"94b818a0-b870-41e9-af82-ca5019e1c81c\",\"type\":\"NormalHead\"},{\"attributes\":{},\"id\":\"ae917e51-ba52-44c7-929e-4eeda33c727b\",\"type\":\"UnionRenderers\"},{\"attributes\":{\"data_source\":{\"id\":\"2785c8b9-07cc-40b5-93e2-f911efef0910\",\"type\":\"ColumnDataSource\"},\"glyph\":{\"id\":\"afebb12c-ff89-4989-a604-c9f05c880a8e\",\"type\":\"Line\"},\"hover_glyph\":null,\"muted_glyph\":null,\"nonselection_glyph\":{\"id\":\"fddc6299-84cb-4ddb-aa90-c0ff74121da3\",\"type\":\"Line\"},\"selection_glyph\":null,\"view\":{\"id\":\"bc045824-8424-47bc-908f-76e2fd348011\",\"type\":\"CDSView\"}},\"id\":\"f920186c-dca1-4a1a-a95f-6f5d00609f49\",\"type\":\"GlyphRenderer\"},{\"attributes\":{},\"id\":\"f5b340d6-f3f6-4fa8-a0ff-5fc25c8221d8\",\"type\":\"ResetTool\"},{\"attributes\":{},\"id\":\"c954ecac-36b8-4b1c-b0ea-4636bd911cf3\",\"type\":\"WheelZoomTool\"},{\"attributes\":{\"line_width\":1.5,\"x\":{\"field\":\"x\"},\"y\":{\"field\":\"y\"}},\"id\":\"afebb12c-ff89-4989-a604-c9f05c880a8e\",\"type\":\"Line\"},{\"attributes\":{\"line_alpha\":0.1,\"line_color\":\"#1f77b4\",\"line_width\":1.5,\"x\":{\"field\":\"x\"},\"y\":{\"field\":\"y\"}},\"id\":\"f6e122a3-23cd-4ad6-ad9d-69d60a3f864c\",\"type\":\"Line\"},{\"attributes\":{\"source\":{\"id\":\"83e60ae2-1691-4165-aa6b-16795b98ad4d\",\"type\":\"ColumnDataSource\"}},\"id\":\"956b8d42-2bd9-4384-b7dc-ece169a8f935\",\"type\":\"CDSView\"},{\"attributes\":{\"data_source\":{\"id\":\"83e60ae2-1691-4165-aa6b-16795b98ad4d\",\"type\":\"ColumnDataSource\"},\"glyph\":{\"id\":\"dcd3d8d1-4dad-4ad0-828d-2ca997328aa3\",\"type\":\"Line\"},\"hover_glyph\":null,\"muted_glyph\":null,\"nonselection_glyph\":{\"id\":\"f6e122a3-23cd-4ad6-ad9d-69d60a3f864c\",\"type\":\"Line\"},\"selection_glyph\":null,\"view\":{\"id\":\"956b8d42-2bd9-4384-b7dc-ece169a8f935\",\"type\":\"CDSView\"}},\"id\":\"b8128ded-8e5d-4b07-b102-a05dac2ecaef\",\"type\":\"GlyphRenderer\"}],\"root_ids\":[\"9c101fec-2ce8-4b13-9855-9eac5bf70c4b\"]},\"title\":\"Bokeh Application\",\"version\":\"0.13.0\"}};\n",
       "  var render_items = [{\"docid\":\"21ce351a-cf06-4c79-b9a8-d760bd934c1f\",\"roots\":{\"9c101fec-2ce8-4b13-9855-9eac5bf70c4b\":\"5a89312a-d8dc-4746-8f29-4a46c59af01b\"}}];\n",
       "  root.Bokeh.embed.embed_items_notebook(docs_json, render_items);\n",
       "\n",
       "  }\n",
       "  if (root.Bokeh !== undefined) {\n",
       "    embed_document(root);\n",
       "  } else {\n",
       "    var attempts = 0;\n",
       "    var timer = setInterval(function(root) {\n",
       "      if (root.Bokeh !== undefined) {\n",
       "        embed_document(root);\n",
       "        clearInterval(timer);\n",
       "      }\n",
       "      attempts++;\n",
       "      if (attempts > 100) {\n",
       "        console.log(\"Bokeh: ERROR: Unable to run BokehJS code because BokehJS library is missing\")\n",
       "        clearInterval(timer);\n",
       "      }\n",
       "    }, 10, root)\n",
       "  }\n",
       "})(window);"
      ],
      "application/vnd.bokehjs_exec.v0+json": ""
     },
     "metadata": {
      "application/vnd.bokehjs_exec.v0+json": {
       "id": "9c101fec-2ce8-4b13-9855-9eac5bf70c4b"
      }
     },
     "output_type": "display_data"
    }
   ],
   "source": [
    "plot.clear()\n",
    "plot.graph()\n",
    "plot.subtract_vectors(a,b)\n",
    "plot.show()"
   ]
  },
  {
   "cell_type": "markdown",
   "metadata": {},
   "source": [
    "# Linear Combinations"
   ]
  },
  {
   "cell_type": "code",
   "execution_count": 14,
   "metadata": {},
   "outputs": [
    {
     "data": {
      "text/plain": [
       "array([ 1, -4])"
      ]
     },
     "execution_count": 14,
     "metadata": {},
     "output_type": "execute_result"
    }
   ],
   "source": [
    "# Two Vectors\n",
    "a = np.array([2,1])\n",
    "b = np.array([1,2])\n",
    "\n",
    "# Scaled by some arbitrary constants\n",
    "c1 = 2\n",
    "c2 = -3\n",
    "\n",
    "# generate a new vector \n",
    "v = c1*a + c2*b\n",
    "v"
   ]
  },
  {
   "cell_type": "markdown",
   "metadata": {},
   "source": [
    "Given that $\\vec{a}$ and $\\vec{b}$ are linearly independent. We can use some combination of the two to describe every point in $\\Re^2$"
   ]
  },
  {
   "cell_type": "code",
   "execution_count": 15,
   "metadata": {},
   "outputs": [
    {
     "data": {
      "text/html": [
       "\n",
       "\n",
       "\n",
       "\n",
       "\n",
       "\n",
       "  <div class=\"bk-root\" id=\"78c1b7a4-2f32-44ab-ac37-0f3f00a40241\"></div>\n"
      ]
     },
     "metadata": {},
     "output_type": "display_data"
    },
    {
     "data": {
      "application/javascript": [
       "(function(root) {\n",
       "  function embed_document(root) {\n",
       "    \n",
       "  var docs_json = {\"dc7e2fb8-2e34-4a93-97a5-037311d4293f\":{\"roots\":{\"references\":[{\"attributes\":{\"line_width\":1.5,\"x\":{\"field\":\"x\"},\"y\":{\"field\":\"y\"}},\"id\":\"953b269b-6327-4985-90ec-39869be9502c\",\"type\":\"Line\"},{\"attributes\":{\"line_alpha\":0.1,\"line_color\":\"#1f77b4\",\"line_width\":1.5,\"x\":{\"field\":\"x\"},\"y\":{\"field\":\"y\"}},\"id\":\"044c9807-25d9-46e3-ae6c-8d96d26f4140\",\"type\":\"Line\"},{\"attributes\":{\"end\":{\"id\":\"20377c2c-e282-4d55-b6d4-22f93b679235\",\"type\":\"NormalHead\"},\"line_color\":{\"value\":\"blue\"},\"line_width\":{\"value\":3},\"plot\":{\"id\":\"3b8e541f-9252-4cf1-acaf-4509cbd99c91\",\"subtype\":\"Figure\",\"type\":\"Plot\"},\"source\":null,\"start\":null,\"x_end\":{\"value\":2},\"x_start\":{\"value\":0.0},\"y_end\":{\"value\":1},\"y_start\":{\"value\":0.0}},\"id\":\"d53f93bf-79e3-4d60-b05f-7013eb18760e\",\"type\":\"Arrow\"},{\"attributes\":{\"fill_color\":{\"value\":\"orange\"},\"line_color\":{\"value\":\"orange\"},\"plot\":null,\"size\":10},\"id\":\"834a9468-a579-47f2-888b-9d41f10d1e0c\",\"type\":\"NormalHead\"},{\"attributes\":{\"end\":{\"id\":\"a4dacf26-c290-4e9c-b959-428eb82226e1\",\"type\":\"NormalHead\"},\"line_color\":{\"value\":\"red\"},\"line_width\":{\"value\":3},\"plot\":{\"id\":\"3b8e541f-9252-4cf1-acaf-4509cbd99c91\",\"subtype\":\"Figure\",\"type\":\"Plot\"},\"source\":null,\"start\":null,\"x_end\":{\"value\":1},\"x_start\":{\"value\":0.0},\"y_end\":{\"value\":2},\"y_start\":{\"value\":0.0}},\"id\":\"f3f1536e-72c8-4bc8-9c12-740c24911761\",\"type\":\"Arrow\"},{\"attributes\":{\"source\":{\"id\":\"880d447c-447d-41d9-9346-c521b3ac7849\",\"type\":\"ColumnDataSource\"}},\"id\":\"71a93508-a930-4037-b973-ca5f15c9d54d\",\"type\":\"CDSView\"},{\"attributes\":{\"fill_color\":{\"value\":\"purple\"},\"line_color\":{\"value\":\"purple\"},\"plot\":null,\"size\":10},\"id\":\"21fce191-5282-4c4a-a5f3-2a7ad4d4d8e2\",\"type\":\"NormalHead\"},{\"attributes\":{\"end\":{\"id\":\"209328d8-469a-493c-b553-e9bf237fa03e\",\"type\":\"NormalHead\"},\"line_color\":{\"value\":\"green\"},\"line_width\":{\"value\":3},\"plot\":{\"id\":\"3b8e541f-9252-4cf1-acaf-4509cbd99c91\",\"subtype\":\"Figure\",\"type\":\"Plot\"},\"source\":null,\"start\":null,\"x_end\":{\"value\":-10},\"x_start\":{\"value\":0.0},\"y_end\":{\"value\":-8},\"y_start\":{\"value\":0.0}},\"id\":\"d907f029-d84d-4ddf-9b2e-95d71fc2eb6e\",\"type\":\"Arrow\"},{\"attributes\":{\"end\":{\"id\":\"834a9468-a579-47f2-888b-9d41f10d1e0c\",\"type\":\"NormalHead\"},\"line_color\":{\"value\":\"orange\"},\"line_width\":{\"value\":3},\"plot\":{\"id\":\"3b8e541f-9252-4cf1-acaf-4509cbd99c91\",\"subtype\":\"Figure\",\"type\":\"Plot\"},\"source\":null,\"start\":null,\"x_end\":{\"value\":5.6},\"x_start\":{\"value\":0.0},\"y_end\":{\"value\":10.3},\"y_start\":{\"value\":0.0}},\"id\":\"27f180dc-d5fd-4214-9fac-807f58610dd7\",\"type\":\"Arrow\"},{\"attributes\":{\"fill_color\":{\"value\":\"red\"},\"line_color\":{\"value\":\"red\"},\"plot\":null,\"size\":10},\"id\":\"a4dacf26-c290-4e9c-b959-428eb82226e1\",\"type\":\"NormalHead\"},{\"attributes\":{\"end\":{\"id\":\"21fce191-5282-4c4a-a5f3-2a7ad4d4d8e2\",\"type\":\"NormalHead\"},\"line_color\":{\"value\":\"purple\"},\"line_width\":{\"value\":3},\"plot\":{\"id\":\"3b8e541f-9252-4cf1-acaf-4509cbd99c91\",\"subtype\":\"Figure\",\"type\":\"Plot\"},\"source\":null,\"start\":null,\"x_end\":{\"value\":-4.2},\"x_start\":{\"value\":0.0},\"y_end\":{\"value\":-5.4},\"y_start\":{\"value\":0.0}},\"id\":\"fa7bd9fd-8ea2-4772-888b-a1c02eed9ca7\",\"type\":\"Arrow\"},{\"attributes\":{},\"id\":\"a90ac609-07bb-42db-88f9-341535b48206\",\"type\":\"BasicTickFormatter\"},{\"attributes\":{},\"id\":\"10823a38-6757-4110-8aaf-6f32afd66539\",\"type\":\"BasicTickFormatter\"},{\"attributes\":{\"fill_color\":{\"value\":\"blue\"},\"line_color\":{\"value\":\"blue\"},\"plot\":null,\"size\":10},\"id\":\"20377c2c-e282-4d55-b6d4-22f93b679235\",\"type\":\"NormalHead\"},{\"attributes\":{},\"id\":\"c998f440-976c-4217-9b16-882b75039749\",\"type\":\"UnionRenderers\"},{\"attributes\":{},\"id\":\"0ec4d149-268c-4a3e-9ae9-1c06fbe523c5\",\"type\":\"Selection\"},{\"attributes\":{\"below\":[{\"id\":\"8b9768a3-8ffd-4f00-ba8e-0c32bc6afedb\",\"type\":\"LinearAxis\"}],\"left\":[{\"id\":\"dcae3f1f-06c4-48c9-8467-58087c163ea6\",\"type\":\"LinearAxis\"}],\"plot_height\":700,\"plot_width\":700,\"renderers\":[{\"id\":\"8b9768a3-8ffd-4f00-ba8e-0c32bc6afedb\",\"type\":\"LinearAxis\"},{\"id\":\"d85f6a61-f991-48fa-9314-0d2730beb834\",\"type\":\"Grid\"},{\"id\":\"dcae3f1f-06c4-48c9-8467-58087c163ea6\",\"type\":\"LinearAxis\"},{\"id\":\"8080930f-f01b-4666-865c-814d2113ed0d\",\"type\":\"Grid\"},{\"id\":\"b3474e71-d479-4058-8ea0-e414b8784ad4\",\"type\":\"GlyphRenderer\"},{\"id\":\"fae72eac-bbc2-460e-8324-4c0d335691c0\",\"type\":\"GlyphRenderer\"},{\"id\":\"d53f93bf-79e3-4d60-b05f-7013eb18760e\",\"type\":\"Arrow\"},{\"id\":\"f3f1536e-72c8-4bc8-9c12-740c24911761\",\"type\":\"Arrow\"},{\"id\":\"d907f029-d84d-4ddf-9b2e-95d71fc2eb6e\",\"type\":\"Arrow\"},{\"id\":\"27f180dc-d5fd-4214-9fac-807f58610dd7\",\"type\":\"Arrow\"},{\"id\":\"fa7bd9fd-8ea2-4772-888b-a1c02eed9ca7\",\"type\":\"Arrow\"}],\"title\":{\"id\":\"e30e779f-df32-41ab-b549-883c55416e0e\",\"type\":\"Title\"},\"toolbar\":{\"id\":\"97c377ad-a889-4e06-a4f6-f5e7afed75dd\",\"type\":\"Toolbar\"},\"x_range\":{\"id\":\"e3c69962-2d4d-47fd-8298-6272f5a0cc34\",\"type\":\"Range1d\"},\"x_scale\":{\"id\":\"5158a9eb-a1d0-4f9a-ba84-511d8ff01537\",\"type\":\"LinearScale\"},\"y_range\":{\"id\":\"e1ffad7f-e5cf-4a5c-906c-d37bd3e4fd4b\",\"type\":\"Range1d\"},\"y_scale\":{\"id\":\"d0f5f715-cce3-477b-94c0-40ee6cf0792b\",\"type\":\"LinearScale\"}},\"id\":\"3b8e541f-9252-4cf1-acaf-4509cbd99c91\",\"subtype\":\"Figure\",\"type\":\"Plot\"},{\"attributes\":{},\"id\":\"be1c7643-4dea-48ce-b531-8512caae2a44\",\"type\":\"UnionRenderers\"},{\"attributes\":{\"plot\":null,\"text\":\"\"},\"id\":\"e30e779f-df32-41ab-b549-883c55416e0e\",\"type\":\"Title\"},{\"attributes\":{},\"id\":\"0abf8a68-927a-448b-84f7-59f256464daa\",\"type\":\"Selection\"},{\"attributes\":{\"line_width\":1.5,\"x\":{\"field\":\"x\"},\"y\":{\"field\":\"y\"}},\"id\":\"d10ba397-9524-4689-a1c7-782000892468\",\"type\":\"Line\"},{\"attributes\":{\"active_drag\":\"auto\",\"active_inspect\":\"auto\",\"active_multi\":null,\"active_scroll\":\"auto\",\"active_tap\":\"auto\",\"tools\":[{\"id\":\"86242ebb-8510-4109-b61a-d5a915be8627\",\"type\":\"WheelZoomTool\"},{\"id\":\"132a510d-b298-4419-90cc-30abd5b55ddd\",\"type\":\"PanTool\"},{\"id\":\"df27daef-64da-4982-b88e-39fad2bb2065\",\"type\":\"ResetTool\"}]},\"id\":\"97c377ad-a889-4e06-a4f6-f5e7afed75dd\",\"type\":\"Toolbar\"},{\"attributes\":{\"callback\":null,\"end\":14.0,\"start\":-14.0},\"id\":\"e3c69962-2d4d-47fd-8298-6272f5a0cc34\",\"type\":\"Range1d\"},{\"attributes\":{\"formatter\":{\"id\":\"a90ac609-07bb-42db-88f9-341535b48206\",\"type\":\"BasicTickFormatter\"},\"plot\":{\"id\":\"3b8e541f-9252-4cf1-acaf-4509cbd99c91\",\"subtype\":\"Figure\",\"type\":\"Plot\"},\"ticker\":{\"id\":\"7775489e-f4ca-4725-a8d3-9205f7f7b0f9\",\"type\":\"BasicTicker\"}},\"id\":\"8b9768a3-8ffd-4f00-ba8e-0c32bc6afedb\",\"type\":\"LinearAxis\"},{\"attributes\":{\"callback\":null,\"data\":{\"x\":[-20.0,20.0],\"y\":[0.0,0.0]},\"selected\":{\"id\":\"0ec4d149-268c-4a3e-9ae9-1c06fbe523c5\",\"type\":\"Selection\"},\"selection_policy\":{\"id\":\"c998f440-976c-4217-9b16-882b75039749\",\"type\":\"UnionRenderers\"}},\"id\":\"d82e8cb4-60cf-4dc1-8dbf-100bd14427db\",\"type\":\"ColumnDataSource\"},{\"attributes\":{},\"id\":\"d0f5f715-cce3-477b-94c0-40ee6cf0792b\",\"type\":\"LinearScale\"},{\"attributes\":{\"plot\":{\"id\":\"3b8e541f-9252-4cf1-acaf-4509cbd99c91\",\"subtype\":\"Figure\",\"type\":\"Plot\"},\"ticker\":{\"id\":\"7775489e-f4ca-4725-a8d3-9205f7f7b0f9\",\"type\":\"BasicTicker\"}},\"id\":\"d85f6a61-f991-48fa-9314-0d2730beb834\",\"type\":\"Grid\"},{\"attributes\":{\"callback\":null,\"end\":14.0,\"start\":-14.0},\"id\":\"e1ffad7f-e5cf-4a5c-906c-d37bd3e4fd4b\",\"type\":\"Range1d\"},{\"attributes\":{\"data_source\":{\"id\":\"880d447c-447d-41d9-9346-c521b3ac7849\",\"type\":\"ColumnDataSource\"},\"glyph\":{\"id\":\"953b269b-6327-4985-90ec-39869be9502c\",\"type\":\"Line\"},\"hover_glyph\":null,\"muted_glyph\":null,\"nonselection_glyph\":{\"id\":\"044c9807-25d9-46e3-ae6c-8d96d26f4140\",\"type\":\"Line\"},\"selection_glyph\":null,\"view\":{\"id\":\"71a93508-a930-4037-b973-ca5f15c9d54d\",\"type\":\"CDSView\"}},\"id\":\"fae72eac-bbc2-460e-8324-4c0d335691c0\",\"type\":\"GlyphRenderer\"},{\"attributes\":{\"formatter\":{\"id\":\"10823a38-6757-4110-8aaf-6f32afd66539\",\"type\":\"BasicTickFormatter\"},\"plot\":{\"id\":\"3b8e541f-9252-4cf1-acaf-4509cbd99c91\",\"subtype\":\"Figure\",\"type\":\"Plot\"},\"ticker\":{\"id\":\"0109637d-1a40-4a03-b96a-1d892c63ba05\",\"type\":\"BasicTicker\"}},\"id\":\"dcae3f1f-06c4-48c9-8467-58087c163ea6\",\"type\":\"LinearAxis\"},{\"attributes\":{},\"id\":\"0109637d-1a40-4a03-b96a-1d892c63ba05\",\"type\":\"BasicTicker\"},{\"attributes\":{\"dimension\":1,\"plot\":{\"id\":\"3b8e541f-9252-4cf1-acaf-4509cbd99c91\",\"subtype\":\"Figure\",\"type\":\"Plot\"},\"ticker\":{\"id\":\"0109637d-1a40-4a03-b96a-1d892c63ba05\",\"type\":\"BasicTicker\"}},\"id\":\"8080930f-f01b-4666-865c-814d2113ed0d\",\"type\":\"Grid\"},{\"attributes\":{},\"id\":\"5158a9eb-a1d0-4f9a-ba84-511d8ff01537\",\"type\":\"LinearScale\"},{\"attributes\":{},\"id\":\"7775489e-f4ca-4725-a8d3-9205f7f7b0f9\",\"type\":\"BasicTicker\"},{\"attributes\":{\"callback\":null,\"data\":{\"x\":[0.0,0.0],\"y\":[-20.0,20.0]},\"selected\":{\"id\":\"0abf8a68-927a-448b-84f7-59f256464daa\",\"type\":\"Selection\"},\"selection_policy\":{\"id\":\"be1c7643-4dea-48ce-b531-8512caae2a44\",\"type\":\"UnionRenderers\"}},\"id\":\"880d447c-447d-41d9-9346-c521b3ac7849\",\"type\":\"ColumnDataSource\"},{\"attributes\":{\"data_source\":{\"id\":\"d82e8cb4-60cf-4dc1-8dbf-100bd14427db\",\"type\":\"ColumnDataSource\"},\"glyph\":{\"id\":\"d10ba397-9524-4689-a1c7-782000892468\",\"type\":\"Line\"},\"hover_glyph\":null,\"muted_glyph\":null,\"nonselection_glyph\":{\"id\":\"5d5d5c70-839d-4404-8c14-6d2a52cdd858\",\"type\":\"Line\"},\"selection_glyph\":null,\"view\":{\"id\":\"c185eff0-aa56-4a52-879a-bc8d09998e28\",\"type\":\"CDSView\"}},\"id\":\"b3474e71-d479-4058-8ea0-e414b8784ad4\",\"type\":\"GlyphRenderer\"},{\"attributes\":{},\"id\":\"86242ebb-8510-4109-b61a-d5a915be8627\",\"type\":\"WheelZoomTool\"},{\"attributes\":{\"source\":{\"id\":\"d82e8cb4-60cf-4dc1-8dbf-100bd14427db\",\"type\":\"ColumnDataSource\"}},\"id\":\"c185eff0-aa56-4a52-879a-bc8d09998e28\",\"type\":\"CDSView\"},{\"attributes\":{},\"id\":\"132a510d-b298-4419-90cc-30abd5b55ddd\",\"type\":\"PanTool\"},{\"attributes\":{},\"id\":\"df27daef-64da-4982-b88e-39fad2bb2065\",\"type\":\"ResetTool\"},{\"attributes\":{\"line_alpha\":0.1,\"line_color\":\"#1f77b4\",\"line_width\":1.5,\"x\":{\"field\":\"x\"},\"y\":{\"field\":\"y\"}},\"id\":\"5d5d5c70-839d-4404-8c14-6d2a52cdd858\",\"type\":\"Line\"},{\"attributes\":{\"fill_color\":{\"value\":\"green\"},\"line_color\":{\"value\":\"green\"},\"plot\":null,\"size\":10},\"id\":\"209328d8-469a-493c-b553-e9bf237fa03e\",\"type\":\"NormalHead\"}],\"root_ids\":[\"3b8e541f-9252-4cf1-acaf-4509cbd99c91\"]},\"title\":\"Bokeh Application\",\"version\":\"0.13.0\"}};\n",
       "  var render_items = [{\"docid\":\"dc7e2fb8-2e34-4a93-97a5-037311d4293f\",\"roots\":{\"3b8e541f-9252-4cf1-acaf-4509cbd99c91\":\"78c1b7a4-2f32-44ab-ac37-0f3f00a40241\"}}];\n",
       "  root.Bokeh.embed.embed_items_notebook(docs_json, render_items);\n",
       "\n",
       "  }\n",
       "  if (root.Bokeh !== undefined) {\n",
       "    embed_document(root);\n",
       "  } else {\n",
       "    var attempts = 0;\n",
       "    var timer = setInterval(function(root) {\n",
       "      if (root.Bokeh !== undefined) {\n",
       "        embed_document(root);\n",
       "        clearInterval(timer);\n",
       "      }\n",
       "      attempts++;\n",
       "      if (attempts > 100) {\n",
       "        console.log(\"Bokeh: ERROR: Unable to run BokehJS code because BokehJS library is missing\")\n",
       "        clearInterval(timer);\n",
       "      }\n",
       "    }, 10, root)\n",
       "  }\n",
       "})(window);"
      ],
      "application/vnd.bokehjs_exec.v0+json": ""
     },
     "metadata": {
      "application/vnd.bokehjs_exec.v0+json": {
       "id": "3b8e541f-9252-4cf1-acaf-4509cbd99c91"
      }
     },
     "output_type": "display_data"
    }
   ],
   "source": [
    "plot.clear()\n",
    "plot.graph(20)\n",
    "plot.vector(a)\n",
    "plot.vector(b)\n",
    "plot.vector(-4*a + -2*b)\n",
    "plot.vector(.3*a + 5*b)\n",
    "plot.vector(-1*a + -2.2*b)\n",
    "plot.show()"
   ]
  },
  {
   "cell_type": "markdown",
   "metadata": {},
   "source": [
    "Let's randomly generate a whole bunch of arbitrary constants for $\\vec{a}$ and $\\vec{b}$."
   ]
  },
  {
   "cell_type": "code",
   "execution_count": 16,
   "metadata": {},
   "outputs": [
    {
     "data": {
      "text/plain": [
       "array([-4.41305194])"
      ]
     },
     "execution_count": 16,
     "metadata": {},
     "output_type": "execute_result"
    }
   ],
   "source": [
    "# We can draw random values from known distributions using Numpy\n",
    "\n",
    "# Here I'm drawing one value from a uniform distribution.\n",
    "np.random.uniform(low=-5,high=5,size=1)"
   ]
  },
  {
   "cell_type": "code",
   "execution_count": 17,
   "metadata": {},
   "outputs": [],
   "source": [
    "# Let's draw two random constants 50 times\n",
    "for i in range(50):\n",
    "    c1,c2 = np.random.uniform(low=-5,high=5,size=2)\n",
    "    plot.vector(c1*a + c2*b,add_color='black',alpha=.2)"
   ]
  },
  {
   "cell_type": "code",
   "execution_count": 18,
   "metadata": {},
   "outputs": [
    {
     "data": {
      "text/html": [
       "\n",
       "\n",
       "\n",
       "\n",
       "\n",
       "\n",
       "  <div class=\"bk-root\" id=\"32fa7029-c891-4257-b008-5d85906da9e6\"></div>\n"
      ]
     },
     "metadata": {},
     "output_type": "display_data"
    },
    {
     "data": {
      "application/javascript": [
       "(function(root) {\n",
       "  function embed_document(root) {\n",
       "    \n",
       "  var docs_json = {\"d5b8325a-7282-4113-94ac-159d23884aa1\":{\"roots\":{\"references\":[{\"attributes\":{},\"id\":\"7775489e-f4ca-4725-a8d3-9205f7f7b0f9\",\"type\":\"BasicTicker\"},{\"attributes\":{\"end\":{\"id\":\"b6d1cdb5-e4ea-4c59-8a6e-0a1cf5631f20\",\"type\":\"NormalHead\"},\"line_alpha\":{\"value\":0.2},\"line_width\":{\"value\":3},\"plot\":{\"id\":\"3b8e541f-9252-4cf1-acaf-4509cbd99c91\",\"subtype\":\"Figure\",\"type\":\"Plot\"},\"source\":null,\"start\":null,\"x_end\":{\"value\":11.357192967750498},\"x_start\":{\"value\":0.0},\"y_end\":{\"value\":9.369684910929307},\"y_start\":{\"value\":0.0}},\"id\":\"4561f360-7ae1-4a1a-854b-ad71ce3cdece\",\"type\":\"Arrow\"},{\"attributes\":{\"fill_alpha\":{\"value\":0.2},\"line_alpha\":{\"value\":0.2},\"plot\":null,\"size\":10},\"id\":\"049af993-20f4-40f5-aa54-4b6abec25634\",\"type\":\"NormalHead\"},{\"attributes\":{\"fill_alpha\":{\"value\":0.2},\"line_alpha\":{\"value\":0.2},\"plot\":null,\"size\":10},\"id\":\"82584fa3-ac60-4ba6-8aa7-25820f819a65\",\"type\":\"NormalHead\"},{\"attributes\":{\"end\":{\"id\":\"a6ddfa34-2824-4011-a27b-42eef7f65523\",\"type\":\"NormalHead\"},\"line_alpha\":{\"value\":0.2},\"line_width\":{\"value\":3},\"plot\":{\"id\":\"3b8e541f-9252-4cf1-acaf-4509cbd99c91\",\"subtype\":\"Figure\",\"type\":\"Plot\"},\"source\":null,\"start\":null,\"x_end\":{\"value\":2.993743983383326},\"x_start\":{\"value\":0.0},\"y_end\":{\"value\":-5.9668623875782085},\"y_start\":{\"value\":0.0}},\"id\":\"180fd80e-d256-41e3-a8a6-0e66e264f3b7\",\"type\":\"Arrow\"},{\"attributes\":{\"source\":{\"id\":\"880d447c-447d-41d9-9346-c521b3ac7849\",\"type\":\"ColumnDataSource\"}},\"id\":\"71a93508-a930-4037-b973-ca5f15c9d54d\",\"type\":\"CDSView\"},{\"attributes\":{\"fill_alpha\":{\"value\":0.2},\"line_alpha\":{\"value\":0.2},\"plot\":null,\"size\":10},\"id\":\"891bef9d-10c8-49d1-b479-37e7da43c42b\",\"type\":\"NormalHead\"},{\"attributes\":{\"end\":{\"id\":\"82584fa3-ac60-4ba6-8aa7-25820f819a65\",\"type\":\"NormalHead\"},\"line_alpha\":{\"value\":0.2},\"line_width\":{\"value\":3},\"plot\":{\"id\":\"3b8e541f-9252-4cf1-acaf-4509cbd99c91\",\"subtype\":\"Figure\",\"type\":\"Plot\"},\"source\":null,\"start\":null,\"x_end\":{\"value\":3.0313002730225964},\"x_start\":{\"value\":0.0},\"y_end\":{\"value\":3.2310510493519216},\"y_start\":{\"value\":0.0}},\"id\":\"fc10ddb5-b175-43b8-ab36-794778c856c0\",\"type\":\"Arrow\"},{\"attributes\":{\"fill_alpha\":{\"value\":0.2},\"line_alpha\":{\"value\":0.2},\"plot\":null,\"size\":10},\"id\":\"e1db37db-63ce-4c32-8d94-0d5944ec2fcf\",\"type\":\"NormalHead\"},{\"attributes\":{\"end\":{\"id\":\"891bef9d-10c8-49d1-b479-37e7da43c42b\",\"type\":\"NormalHead\"},\"line_alpha\":{\"value\":0.2},\"line_width\":{\"value\":3},\"plot\":{\"id\":\"3b8e541f-9252-4cf1-acaf-4509cbd99c91\",\"subtype\":\"Figure\",\"type\":\"Plot\"},\"source\":null,\"start\":null,\"x_end\":{\"value\":-8.333289413420555},\"x_start\":{\"value\":0.0},\"y_end\":{\"value\":-10.082377865927828},\"y_start\":{\"value\":0.0}},\"id\":\"1cb3c038-990c-44dc-ba50-a4704086f71f\",\"type\":\"Arrow\"},{\"attributes\":{\"fill_alpha\":{\"value\":0.2},\"line_alpha\":{\"value\":0.2},\"plot\":null,\"size\":10},\"id\":\"ab038563-7c7c-46dc-b450-7a8a95866070\",\"type\":\"NormalHead\"},{\"attributes\":{\"end\":{\"id\":\"becc396a-ab91-4a55-83a6-ec9f3f793046\",\"type\":\"NormalHead\"},\"line_alpha\":{\"value\":0.2},\"line_width\":{\"value\":3},\"plot\":{\"id\":\"3b8e541f-9252-4cf1-acaf-4509cbd99c91\",\"subtype\":\"Figure\",\"type\":\"Plot\"},\"source\":null,\"start\":null,\"x_end\":{\"value\":7.686431649403798},\"x_start\":{\"value\":0.0},\"y_end\":{\"value\":0.6138438702966589},\"y_start\":{\"value\":0.0}},\"id\":\"398d04b9-2f11-49d1-97e6-52ef9c25d8fa\",\"type\":\"Arrow\"},{\"attributes\":{\"end\":{\"id\":\"e1db37db-63ce-4c32-8d94-0d5944ec2fcf\",\"type\":\"NormalHead\"},\"line_alpha\":{\"value\":0.2},\"line_width\":{\"value\":3},\"plot\":{\"id\":\"3b8e541f-9252-4cf1-acaf-4509cbd99c91\",\"subtype\":\"Figure\",\"type\":\"Plot\"},\"source\":null,\"start\":null,\"x_end\":{\"value\":-6.471413864059357},\"x_start\":{\"value\":0.0},\"y_end\":{\"value\":-2.680737771976389},\"y_start\":{\"value\":0.0}},\"id\":\"66eda919-5003-4d1f-bbce-2005cb73a0b0\",\"type\":\"Arrow\"},{\"attributes\":{\"end\":{\"id\":\"78faff74-bc66-452f-b30b-d37e6098229b\",\"type\":\"NormalHead\"},\"line_alpha\":{\"value\":0.2},\"line_width\":{\"value\":3},\"plot\":{\"id\":\"3b8e541f-9252-4cf1-acaf-4509cbd99c91\",\"subtype\":\"Figure\",\"type\":\"Plot\"},\"source\":null,\"start\":null,\"x_end\":{\"value\":-0.8153226813656538},\"x_start\":{\"value\":0.0},\"y_end\":{\"value\":1.9726835389570825},\"y_start\":{\"value\":0.0}},\"id\":\"e6450d6c-f362-4bf7-bb06-f575c49be99b\",\"type\":\"Arrow\"},{\"attributes\":{\"fill_alpha\":{\"value\":0.2},\"line_alpha\":{\"value\":0.2},\"plot\":null,\"size\":10},\"id\":\"d5a8c60a-efa6-4a92-aed1-151483273456\",\"type\":\"NormalHead\"},{\"attributes\":{\"end\":{\"id\":\"ab038563-7c7c-46dc-b450-7a8a95866070\",\"type\":\"NormalHead\"},\"line_alpha\":{\"value\":0.2},\"line_width\":{\"value\":3},\"plot\":{\"id\":\"3b8e541f-9252-4cf1-acaf-4509cbd99c91\",\"subtype\":\"Figure\",\"type\":\"Plot\"},\"source\":null,\"start\":null,\"x_end\":{\"value\":0.30410799377532616},\"x_start\":{\"value\":0.0},\"y_end\":{\"value\":-5.343509234827713},\"y_start\":{\"value\":0.0}},\"id\":\"c926f1e2-e190-4bf0-875b-d4921d7c71e1\",\"type\":\"Arrow\"},{\"attributes\":{\"fill_alpha\":{\"value\":0.2},\"line_alpha\":{\"value\":0.2},\"plot\":null,\"size\":10},\"id\":\"ad6a4efe-153a-4550-980e-2c688e824a5b\",\"type\":\"NormalHead\"},{\"attributes\":{\"end\":{\"id\":\"79715b11-3403-4185-979a-c4410d1f3fe5\",\"type\":\"NormalHead\"},\"line_alpha\":{\"value\":0.2},\"line_width\":{\"value\":3},\"plot\":{\"id\":\"3b8e541f-9252-4cf1-acaf-4509cbd99c91\",\"subtype\":\"Figure\",\"type\":\"Plot\"},\"source\":null,\"start\":null,\"x_end\":{\"value\":5.550268365661507},\"x_start\":{\"value\":0.0},\"y_end\":{\"value\":7.68104422960394},\"y_start\":{\"value\":0.0}},\"id\":\"fa81cc29-ed64-443f-b0da-86b1bcd8e857\",\"type\":\"Arrow\"},{\"attributes\":{\"fill_alpha\":{\"value\":0.2},\"line_alpha\":{\"value\":0.2},\"plot\":null,\"size\":10},\"id\":\"dba1fbb4-70d7-4656-83e4-6400a4a3a70d\",\"type\":\"NormalHead\"},{\"attributes\":{\"end\":{\"id\":\"d5a8c60a-efa6-4a92-aed1-151483273456\",\"type\":\"NormalHead\"},\"line_alpha\":{\"value\":0.2},\"line_width\":{\"value\":3},\"plot\":{\"id\":\"3b8e541f-9252-4cf1-acaf-4509cbd99c91\",\"subtype\":\"Figure\",\"type\":\"Plot\"},\"source\":null,\"start\":null,\"x_end\":{\"value\":4.579755260819027},\"x_start\":{\"value\":0.0},\"y_end\":{\"value\":6.147102303112633},\"y_start\":{\"value\":0.0}},\"id\":\"f916709e-73da-44d6-b36a-a395003f7e51\",\"type\":\"Arrow\"},{\"attributes\":{\"fill_alpha\":{\"value\":0.2},\"line_alpha\":{\"value\":0.2},\"plot\":null,\"size\":10},\"id\":\"b0480934-dcb2-4af7-9a1e-0b2c7373e77a\",\"type\":\"NormalHead\"},{\"attributes\":{\"fill_alpha\":{\"value\":0.2},\"line_alpha\":{\"value\":0.2},\"plot\":null,\"size\":10},\"id\":\"8886501f-c629-4da4-9df8-0b858aab0e4b\",\"type\":\"NormalHead\"},{\"attributes\":{\"below\":[{\"id\":\"8b9768a3-8ffd-4f00-ba8e-0c32bc6afedb\",\"type\":\"LinearAxis\"}],\"left\":[{\"id\":\"dcae3f1f-06c4-48c9-8467-58087c163ea6\",\"type\":\"LinearAxis\"}],\"plot_height\":700,\"plot_width\":700,\"renderers\":[{\"id\":\"8b9768a3-8ffd-4f00-ba8e-0c32bc6afedb\",\"type\":\"LinearAxis\"},{\"id\":\"d85f6a61-f991-48fa-9314-0d2730beb834\",\"type\":\"Grid\"},{\"id\":\"dcae3f1f-06c4-48c9-8467-58087c163ea6\",\"type\":\"LinearAxis\"},{\"id\":\"8080930f-f01b-4666-865c-814d2113ed0d\",\"type\":\"Grid\"},{\"id\":\"b3474e71-d479-4058-8ea0-e414b8784ad4\",\"type\":\"GlyphRenderer\"},{\"id\":\"fae72eac-bbc2-460e-8324-4c0d335691c0\",\"type\":\"GlyphRenderer\"},{\"id\":\"d53f93bf-79e3-4d60-b05f-7013eb18760e\",\"type\":\"Arrow\"},{\"id\":\"f3f1536e-72c8-4bc8-9c12-740c24911761\",\"type\":\"Arrow\"},{\"id\":\"d907f029-d84d-4ddf-9b2e-95d71fc2eb6e\",\"type\":\"Arrow\"},{\"id\":\"27f180dc-d5fd-4214-9fac-807f58610dd7\",\"type\":\"Arrow\"},{\"id\":\"fa7bd9fd-8ea2-4772-888b-a1c02eed9ca7\",\"type\":\"Arrow\"},{\"id\":\"d87777a4-0825-4c28-aff1-b31b8a956add\",\"type\":\"Arrow\"},{\"id\":\"5e1b0421-04cc-4837-bbd9-33df07f2440b\",\"type\":\"Arrow\"},{\"id\":\"ed078492-c9b7-478e-a62a-d713534a4c72\",\"type\":\"Arrow\"},{\"id\":\"a31ff355-480d-4b4c-8ddd-cf6d74d89c92\",\"type\":\"Arrow\"},{\"id\":\"73d1ca51-068b-4988-b173-e63832d5950c\",\"type\":\"Arrow\"},{\"id\":\"f9278724-ad70-4d87-88ce-d76208506664\",\"type\":\"Arrow\"},{\"id\":\"dc7adfab-7326-434d-9514-8fd45e8c7cdd\",\"type\":\"Arrow\"},{\"id\":\"743a4211-4812-4c21-bf83-5106f3e0721c\",\"type\":\"Arrow\"},{\"id\":\"398d04b9-2f11-49d1-97e6-52ef9c25d8fa\",\"type\":\"Arrow\"},{\"id\":\"96996a5e-bf59-424b-9930-da2bc296f617\",\"type\":\"Arrow\"},{\"id\":\"e6450d6c-f362-4bf7-bb06-f575c49be99b\",\"type\":\"Arrow\"},{\"id\":\"fa81cc29-ed64-443f-b0da-86b1bcd8e857\",\"type\":\"Arrow\"},{\"id\":\"32d97b54-3063-446b-9f3a-aa9a35f86f83\",\"type\":\"Arrow\"},{\"id\":\"52217b4f-b109-4d02-ae94-d278f2f6ba73\",\"type\":\"Arrow\"},{\"id\":\"5e983c6d-0518-4d6b-a6ea-fec250cb420b\",\"type\":\"Arrow\"},{\"id\":\"0becef89-7edc-4587-ab14-ac52d314ff31\",\"type\":\"Arrow\"},{\"id\":\"a3f6a58b-cd4b-41e9-8c92-bffc1b4ce3c8\",\"type\":\"Arrow\"},{\"id\":\"c54e81ef-c7f0-43af-8194-fee86814a81c\",\"type\":\"Arrow\"},{\"id\":\"4561f360-7ae1-4a1a-854b-ad71ce3cdece\",\"type\":\"Arrow\"},{\"id\":\"180fd80e-d256-41e3-a8a6-0e66e264f3b7\",\"type\":\"Arrow\"},{\"id\":\"fc10ddb5-b175-43b8-ab36-794778c856c0\",\"type\":\"Arrow\"},{\"id\":\"1cb3c038-990c-44dc-ba50-a4704086f71f\",\"type\":\"Arrow\"},{\"id\":\"66eda919-5003-4d1f-bbce-2005cb73a0b0\",\"type\":\"Arrow\"},{\"id\":\"c926f1e2-e190-4bf0-875b-d4921d7c71e1\",\"type\":\"Arrow\"},{\"id\":\"f916709e-73da-44d6-b36a-a395003f7e51\",\"type\":\"Arrow\"},{\"id\":\"bf9f3694-54e9-418f-82b3-70d24c5910de\",\"type\":\"Arrow\"},{\"id\":\"6089ac5a-36cf-4f4a-bc6a-607c3d532ccc\",\"type\":\"Arrow\"},{\"id\":\"b6aa5458-2f66-4141-8b6c-379968574530\",\"type\":\"Arrow\"},{\"id\":\"94358a87-a6ab-4b12-853a-a73877655df7\",\"type\":\"Arrow\"},{\"id\":\"0106daf3-011b-41da-a09d-80b1b3c1e441\",\"type\":\"Arrow\"},{\"id\":\"d14d1080-3e53-45f6-a74e-6bc4d8993b40\",\"type\":\"Arrow\"},{\"id\":\"ce645941-9ce2-47b9-84a8-18ec680082ea\",\"type\":\"Arrow\"},{\"id\":\"9f1d988c-322d-4e61-b44a-1305cf6504bb\",\"type\":\"Arrow\"},{\"id\":\"a8869845-0709-46cd-a7c3-2adc7ef03eb4\",\"type\":\"Arrow\"},{\"id\":\"7f004158-5285-47e9-9403-521a627af977\",\"type\":\"Arrow\"},{\"id\":\"3486c879-8309-48fe-8976-e816af09db0b\",\"type\":\"Arrow\"},{\"id\":\"7b8bccbe-dbc4-4c5b-994f-981021aab2e4\",\"type\":\"Arrow\"},{\"id\":\"893e3918-43a0-4f24-a87c-a56bc388401d\",\"type\":\"Arrow\"},{\"id\":\"42518877-4938-40b3-8c05-55fe859ef74a\",\"type\":\"Arrow\"},{\"id\":\"40e4aa54-ddc5-4a4a-8a8c-be3dc2493564\",\"type\":\"Arrow\"},{\"id\":\"f492b6bf-c80a-49e9-b1d7-d177c89256d8\",\"type\":\"Arrow\"},{\"id\":\"7c9fa108-4c61-4371-965a-e6792d5a7038\",\"type\":\"Arrow\"},{\"id\":\"cfcd3eab-97ec-4c9c-ac99-99757f372a09\",\"type\":\"Arrow\"},{\"id\":\"d52023f2-2485-4833-b258-4a5037772399\",\"type\":\"Arrow\"},{\"id\":\"7cb36a20-18ab-4663-a20a-7ffefe3a1ea8\",\"type\":\"Arrow\"},{\"id\":\"343290cd-ac61-4168-bcf5-addbd9eb25de\",\"type\":\"Arrow\"},{\"id\":\"bea863c8-affc-4c28-984b-a6f26984a377\",\"type\":\"Arrow\"},{\"id\":\"220a15bb-897d-4231-a492-2363a3185472\",\"type\":\"Arrow\"},{\"id\":\"4fb0724f-5a63-4f42-9a72-3c4fdef240f3\",\"type\":\"Arrow\"},{\"id\":\"39acf0fb-829f-4c4a-897b-2a8aa945528b\",\"type\":\"Arrow\"}],\"title\":{\"id\":\"e30e779f-df32-41ab-b549-883c55416e0e\",\"type\":\"Title\"},\"toolbar\":{\"id\":\"97c377ad-a889-4e06-a4f6-f5e7afed75dd\",\"type\":\"Toolbar\"},\"x_range\":{\"id\":\"e3c69962-2d4d-47fd-8298-6272f5a0cc34\",\"type\":\"Range1d\"},\"x_scale\":{\"id\":\"5158a9eb-a1d0-4f9a-ba84-511d8ff01537\",\"type\":\"LinearScale\"},\"y_range\":{\"id\":\"e1ffad7f-e5cf-4a5c-906c-d37bd3e4fd4b\",\"type\":\"Range1d\"},\"y_scale\":{\"id\":\"d0f5f715-cce3-477b-94c0-40ee6cf0792b\",\"type\":\"LinearScale\"}},\"id\":\"3b8e541f-9252-4cf1-acaf-4509cbd99c91\",\"subtype\":\"Figure\",\"type\":\"Plot\"},{\"attributes\":{\"end\":{\"id\":\"dba1fbb4-70d7-4656-83e4-6400a4a3a70d\",\"type\":\"NormalHead\"},\"line_alpha\":{\"value\":0.2},\"line_width\":{\"value\":3},\"plot\":{\"id\":\"3b8e541f-9252-4cf1-acaf-4509cbd99c91\",\"subtype\":\"Figure\",\"type\":\"Plot\"},\"source\":null,\"start\":null,\"x_end\":{\"value\":0.9051369042834949},\"x_start\":{\"value\":0.0},\"y_end\":{\"value\":-4.29347997326037},\"y_start\":{\"value\":0.0}},\"id\":\"bf9f3694-54e9-418f-82b3-70d24c5910de\",\"type\":\"Arrow\"},{\"attributes\":{\"plot\":null,\"text\":\"\"},\"id\":\"e30e779f-df32-41ab-b549-883c55416e0e\",\"type\":\"Title\"},{\"attributes\":{\"fill_alpha\":{\"value\":0.2},\"line_alpha\":{\"value\":0.2},\"plot\":null,\"size\":10},\"id\":\"79715b11-3403-4185-979a-c4410d1f3fe5\",\"type\":\"NormalHead\"},{\"attributes\":{\"fill_alpha\":{\"value\":0.2},\"line_alpha\":{\"value\":0.2},\"plot\":null,\"size\":10},\"id\":\"78a4697b-7203-4021-8c1a-e2fe920719a3\",\"type\":\"NormalHead\"},{\"attributes\":{\"end\":{\"id\":\"8886501f-c629-4da4-9df8-0b858aab0e4b\",\"type\":\"NormalHead\"},\"line_alpha\":{\"value\":0.2},\"line_width\":{\"value\":3},\"plot\":{\"id\":\"3b8e541f-9252-4cf1-acaf-4509cbd99c91\",\"subtype\":\"Figure\",\"type\":\"Plot\"},\"source\":null,\"start\":null,\"x_end\":{\"value\":-2.1821065344812673},\"x_start\":{\"value\":0.0},\"y_end\":{\"value\":-7.564932888585052},\"y_start\":{\"value\":0.0}},\"id\":\"6089ac5a-36cf-4f4a-bc6a-607c3d532ccc\",\"type\":\"Arrow\"},{\"attributes\":{\"line_width\":1.5,\"x\":{\"field\":\"x\"},\"y\":{\"field\":\"y\"}},\"id\":\"d10ba397-9524-4689-a1c7-782000892468\",\"type\":\"Line\"},{\"attributes\":{\"fill_alpha\":{\"value\":0.2},\"line_alpha\":{\"value\":0.2},\"plot\":null,\"size\":10},\"id\":\"becc396a-ab91-4a55-83a6-ec9f3f793046\",\"type\":\"NormalHead\"},{\"attributes\":{\"active_drag\":\"auto\",\"active_inspect\":\"auto\",\"active_multi\":null,\"active_scroll\":\"auto\",\"active_tap\":\"auto\",\"tools\":[{\"id\":\"86242ebb-8510-4109-b61a-d5a915be8627\",\"type\":\"WheelZoomTool\"},{\"id\":\"132a510d-b298-4419-90cc-30abd5b55ddd\",\"type\":\"PanTool\"},{\"id\":\"df27daef-64da-4982-b88e-39fad2bb2065\",\"type\":\"ResetTool\"}]},\"id\":\"97c377ad-a889-4e06-a4f6-f5e7afed75dd\",\"type\":\"Toolbar\"},{\"attributes\":{\"fill_alpha\":{\"value\":0.2},\"line_alpha\":{\"value\":0.2},\"plot\":null,\"size\":10},\"id\":\"49b21ddc-d526-4900-948b-6b1e9cddf30f\",\"type\":\"NormalHead\"},{\"attributes\":{\"end\":{\"id\":\"ad6a4efe-153a-4550-980e-2c688e824a5b\",\"type\":\"NormalHead\"},\"line_alpha\":{\"value\":0.2},\"line_width\":{\"value\":3},\"plot\":{\"id\":\"3b8e541f-9252-4cf1-acaf-4509cbd99c91\",\"subtype\":\"Figure\",\"type\":\"Plot\"},\"source\":null,\"start\":null,\"x_end\":{\"value\":5.783238740654806},\"x_start\":{\"value\":0.0},\"y_end\":{\"value\":5.291787256055082},\"y_start\":{\"value\":0.0}},\"id\":\"dc7adfab-7326-434d-9514-8fd45e8c7cdd\",\"type\":\"Arrow\"},{\"attributes\":{\"end\":{\"id\":\"78a4697b-7203-4021-8c1a-e2fe920719a3\",\"type\":\"NormalHead\"},\"line_alpha\":{\"value\":0.2},\"line_width\":{\"value\":3},\"plot\":{\"id\":\"3b8e541f-9252-4cf1-acaf-4509cbd99c91\",\"subtype\":\"Figure\",\"type\":\"Plot\"},\"source\":null,\"start\":null,\"x_end\":{\"value\":9.426755166179776},\"x_start\":{\"value\":0.0},\"y_end\":{\"value\":9.474729687397403},\"y_start\":{\"value\":0.0}},\"id\":\"b6aa5458-2f66-4141-8b6c-379968574530\",\"type\":\"Arrow\"},{\"attributes\":{\"callback\":null,\"end\":14.0,\"start\":-14.0},\"id\":\"e3c69962-2d4d-47fd-8298-6272f5a0cc34\",\"type\":\"Range1d\"},{\"attributes\":{\"formatter\":{\"id\":\"a90ac609-07bb-42db-88f9-341535b48206\",\"type\":\"BasicTickFormatter\"},\"plot\":{\"id\":\"3b8e541f-9252-4cf1-acaf-4509cbd99c91\",\"subtype\":\"Figure\",\"type\":\"Plot\"},\"ticker\":{\"id\":\"7775489e-f4ca-4725-a8d3-9205f7f7b0f9\",\"type\":\"BasicTicker\"}},\"id\":\"8b9768a3-8ffd-4f00-ba8e-0c32bc6afedb\",\"type\":\"LinearAxis\"},{\"attributes\":{\"fill_alpha\":{\"value\":0.2},\"line_alpha\":{\"value\":0.2},\"plot\":null,\"size\":10},\"id\":\"9c9a0b98-ac0c-40bd-9661-cf2b535248e9\",\"type\":\"NormalHead\"},{\"attributes\":{\"end\":{\"id\":\"049af993-20f4-40f5-aa54-4b6abec25634\",\"type\":\"NormalHead\"},\"line_alpha\":{\"value\":0.2},\"line_width\":{\"value\":3},\"plot\":{\"id\":\"3b8e541f-9252-4cf1-acaf-4509cbd99c91\",\"subtype\":\"Figure\",\"type\":\"Plot\"},\"source\":null,\"start\":null,\"x_end\":{\"value\":7.744007353106358},\"x_start\":{\"value\":0.0},\"y_end\":{\"value\":9.431709892917656},\"y_start\":{\"value\":0.0}},\"id\":\"f9278724-ad70-4d87-88ce-d76208506664\",\"type\":\"Arrow\"},{\"attributes\":{\"end\":{\"id\":\"49b21ddc-d526-4900-948b-6b1e9cddf30f\",\"type\":\"NormalHead\"},\"line_alpha\":{\"value\":0.2},\"line_width\":{\"value\":3},\"plot\":{\"id\":\"3b8e541f-9252-4cf1-acaf-4509cbd99c91\",\"subtype\":\"Figure\",\"type\":\"Plot\"},\"source\":null,\"start\":null,\"x_end\":{\"value\":1.618423241151393},\"x_start\":{\"value\":0.0},\"y_end\":{\"value\":-5.012279547240894},\"y_start\":{\"value\":0.0}},\"id\":\"94358a87-a6ab-4b12-853a-a73877655df7\",\"type\":\"Arrow\"},{\"attributes\":{\"callback\":null,\"data\":{\"x\":[-20.0,20.0],\"y\":[0.0,0.0]},\"selected\":{\"id\":\"0ec4d149-268c-4a3e-9ae9-1c06fbe523c5\",\"type\":\"Selection\"},\"selection_policy\":{\"id\":\"c998f440-976c-4217-9b16-882b75039749\",\"type\":\"UnionRenderers\"}},\"id\":\"d82e8cb4-60cf-4dc1-8dbf-100bd14427db\",\"type\":\"ColumnDataSource\"},{\"attributes\":{\"fill_alpha\":{\"value\":0.2},\"line_alpha\":{\"value\":0.2},\"plot\":null,\"size\":10},\"id\":\"1e006949-f68d-4cde-9e3c-8984964ecbd0\",\"type\":\"NormalHead\"},{\"attributes\":{\"plot\":{\"id\":\"3b8e541f-9252-4cf1-acaf-4509cbd99c91\",\"subtype\":\"Figure\",\"type\":\"Plot\"},\"ticker\":{\"id\":\"7775489e-f4ca-4725-a8d3-9205f7f7b0f9\",\"type\":\"BasicTicker\"}},\"id\":\"d85f6a61-f991-48fa-9314-0d2730beb834\",\"type\":\"Grid\"},{\"attributes\":{\"end\":{\"id\":\"9c9a0b98-ac0c-40bd-9661-cf2b535248e9\",\"type\":\"NormalHead\"},\"line_alpha\":{\"value\":0.2},\"line_width\":{\"value\":3},\"plot\":{\"id\":\"3b8e541f-9252-4cf1-acaf-4509cbd99c91\",\"subtype\":\"Figure\",\"type\":\"Plot\"},\"source\":null,\"start\":null,\"x_end\":{\"value\":6.09092124150103},\"x_start\":{\"value\":0.0},\"y_end\":{\"value\":6.4270810355818435},\"y_start\":{\"value\":0.0}},\"id\":\"0106daf3-011b-41da-a09d-80b1b3c1e441\",\"type\":\"Arrow\"},{\"attributes\":{\"fill_alpha\":{\"value\":0.2},\"line_alpha\":{\"value\":0.2},\"plot\":null,\"size\":10},\"id\":\"bdb639b4-38c3-4307-9b7a-ccecb0ba58fe\",\"type\":\"NormalHead\"},{\"attributes\":{\"formatter\":{\"id\":\"10823a38-6757-4110-8aaf-6f32afd66539\",\"type\":\"BasicTickFormatter\"},\"plot\":{\"id\":\"3b8e541f-9252-4cf1-acaf-4509cbd99c91\",\"subtype\":\"Figure\",\"type\":\"Plot\"},\"ticker\":{\"id\":\"0109637d-1a40-4a03-b96a-1d892c63ba05\",\"type\":\"BasicTicker\"}},\"id\":\"dcae3f1f-06c4-48c9-8467-58087c163ea6\",\"type\":\"LinearAxis\"},{\"attributes\":{\"end\":{\"id\":\"1e006949-f68d-4cde-9e3c-8984964ecbd0\",\"type\":\"NormalHead\"},\"line_alpha\":{\"value\":0.2},\"line_width\":{\"value\":3},\"plot\":{\"id\":\"3b8e541f-9252-4cf1-acaf-4509cbd99c91\",\"subtype\":\"Figure\",\"type\":\"Plot\"},\"source\":null,\"start\":null,\"x_end\":{\"value\":3.921847264423822},\"x_start\":{\"value\":0.0},\"y_end\":{\"value\":5.443558089032713},\"y_start\":{\"value\":0.0}},\"id\":\"d14d1080-3e53-45f6-a74e-6bc4d8993b40\",\"type\":\"Arrow\"},{\"attributes\":{\"fill_alpha\":{\"value\":0.2},\"line_alpha\":{\"value\":0.2},\"plot\":null,\"size\":10},\"id\":\"5be8a176-ee71-4ed6-917f-5f70baa3da82\",\"type\":\"NormalHead\"},{\"attributes\":{},\"id\":\"0109637d-1a40-4a03-b96a-1d892c63ba05\",\"type\":\"BasicTicker\"},{\"attributes\":{\"fill_alpha\":{\"value\":0.2},\"line_alpha\":{\"value\":0.2},\"plot\":null,\"size\":10},\"id\":\"6ecf1eb7-1fd1-4bae-bb22-454300253eed\",\"type\":\"NormalHead\"},{\"attributes\":{\"dimension\":1,\"plot\":{\"id\":\"3b8e541f-9252-4cf1-acaf-4509cbd99c91\",\"subtype\":\"Figure\",\"type\":\"Plot\"},\"ticker\":{\"id\":\"0109637d-1a40-4a03-b96a-1d892c63ba05\",\"type\":\"BasicTicker\"}},\"id\":\"8080930f-f01b-4666-865c-814d2113ed0d\",\"type\":\"Grid\"},{\"attributes\":{\"end\":{\"id\":\"bdb639b4-38c3-4307-9b7a-ccecb0ba58fe\",\"type\":\"NormalHead\"},\"line_alpha\":{\"value\":0.2},\"line_width\":{\"value\":3},\"plot\":{\"id\":\"3b8e541f-9252-4cf1-acaf-4509cbd99c91\",\"subtype\":\"Figure\",\"type\":\"Plot\"},\"source\":null,\"start\":null,\"x_end\":{\"value\":-5.373749418491919},\"x_start\":{\"value\":0.0},\"y_end\":{\"value\":-1.9350455245865157},\"y_start\":{\"value\":0.0}},\"id\":\"ce645941-9ce2-47b9-84a8-18ec680082ea\",\"type\":\"Arrow\"},{\"attributes\":{\"callback\":null,\"data\":{\"x\":[0.0,0.0],\"y\":[-20.0,20.0]},\"selected\":{\"id\":\"0abf8a68-927a-448b-84f7-59f256464daa\",\"type\":\"Selection\"},\"selection_policy\":{\"id\":\"be1c7643-4dea-48ce-b531-8512caae2a44\",\"type\":\"UnionRenderers\"}},\"id\":\"880d447c-447d-41d9-9346-c521b3ac7849\",\"type\":\"ColumnDataSource\"},{\"attributes\":{\"fill_alpha\":{\"value\":0.2},\"line_alpha\":{\"value\":0.2},\"plot\":null,\"size\":10},\"id\":\"beb00c09-8d86-493b-b3f4-7d44e7cd0577\",\"type\":\"NormalHead\"},{\"attributes\":{\"data_source\":{\"id\":\"d82e8cb4-60cf-4dc1-8dbf-100bd14427db\",\"type\":\"ColumnDataSource\"},\"glyph\":{\"id\":\"d10ba397-9524-4689-a1c7-782000892468\",\"type\":\"Line\"},\"hover_glyph\":null,\"muted_glyph\":null,\"nonselection_glyph\":{\"id\":\"5d5d5c70-839d-4404-8c14-6d2a52cdd858\",\"type\":\"Line\"},\"selection_glyph\":null,\"view\":{\"id\":\"c185eff0-aa56-4a52-879a-bc8d09998e28\",\"type\":\"CDSView\"}},\"id\":\"b3474e71-d479-4058-8ea0-e414b8784ad4\",\"type\":\"GlyphRenderer\"},{\"attributes\":{\"end\":{\"id\":\"6ecf1eb7-1fd1-4bae-bb22-454300253eed\",\"type\":\"NormalHead\"},\"line_alpha\":{\"value\":0.2},\"line_width\":{\"value\":3},\"plot\":{\"id\":\"3b8e541f-9252-4cf1-acaf-4509cbd99c91\",\"subtype\":\"Figure\",\"type\":\"Plot\"},\"source\":null,\"start\":null,\"x_end\":{\"value\":-1.777230542068022},\"x_start\":{\"value\":0.0},\"y_end\":{\"value\":-1.294350507223264},\"y_start\":{\"value\":0.0}},\"id\":\"9f1d988c-322d-4e61-b44a-1305cf6504bb\",\"type\":\"Arrow\"},{\"attributes\":{\"fill_alpha\":{\"value\":0.2},\"line_alpha\":{\"value\":0.2},\"plot\":null,\"size\":10},\"id\":\"acbcae1f-8c4b-493b-9dd7-0cbf06230b35\",\"type\":\"NormalHead\"},{\"attributes\":{},\"id\":\"86242ebb-8510-4109-b61a-d5a915be8627\",\"type\":\"WheelZoomTool\"},{\"attributes\":{\"end\":{\"id\":\"beb00c09-8d86-493b-b3f4-7d44e7cd0577\",\"type\":\"NormalHead\"},\"line_alpha\":{\"value\":0.2},\"line_width\":{\"value\":3},\"plot\":{\"id\":\"3b8e541f-9252-4cf1-acaf-4509cbd99c91\",\"subtype\":\"Figure\",\"type\":\"Plot\"},\"source\":null,\"start\":null,\"x_end\":{\"value\":-3.7632452502737817},\"x_start\":{\"value\":0.0},\"y_end\":{\"value\":2.090123517112896},\"y_start\":{\"value\":0.0}},\"id\":\"a8869845-0709-46cd-a7c3-2adc7ef03eb4\",\"type\":\"Arrow\"},{\"attributes\":{\"source\":{\"id\":\"d82e8cb4-60cf-4dc1-8dbf-100bd14427db\",\"type\":\"ColumnDataSource\"}},\"id\":\"c185eff0-aa56-4a52-879a-bc8d09998e28\",\"type\":\"CDSView\"},{\"attributes\":{\"end\":{\"id\":\"b0480934-dcb2-4af7-9a1e-0b2c7373e77a\",\"type\":\"NormalHead\"},\"line_alpha\":{\"value\":0.2},\"line_width\":{\"value\":3},\"plot\":{\"id\":\"3b8e541f-9252-4cf1-acaf-4509cbd99c91\",\"subtype\":\"Figure\",\"type\":\"Plot\"},\"source\":null,\"start\":null,\"x_end\":{\"value\":9.018981782589709},\"x_start\":{\"value\":0.0},\"y_end\":{\"value\":5.484713055381313},\"y_start\":{\"value\":0.0}},\"id\":\"c54e81ef-c7f0-43af-8194-fee86814a81c\",\"type\":\"Arrow\"},{\"attributes\":{\"fill_alpha\":{\"value\":0.2},\"line_alpha\":{\"value\":0.2},\"plot\":null,\"size\":10},\"id\":\"b0de6035-b86c-45f1-b188-34d81411cb73\",\"type\":\"NormalHead\"},{\"attributes\":{},\"id\":\"132a510d-b298-4419-90cc-30abd5b55ddd\",\"type\":\"PanTool\"},{\"attributes\":{\"end\":{\"id\":\"acbcae1f-8c4b-493b-9dd7-0cbf06230b35\",\"type\":\"NormalHead\"},\"line_alpha\":{\"value\":0.2},\"line_width\":{\"value\":3},\"plot\":{\"id\":\"3b8e541f-9252-4cf1-acaf-4509cbd99c91\",\"subtype\":\"Figure\",\"type\":\"Plot\"},\"source\":null,\"start\":null,\"x_end\":{\"value\":8.891056574157862},\"x_start\":{\"value\":0.0},\"y_end\":{\"value\":11.760965380759028},\"y_start\":{\"value\":0.0}},\"id\":\"7f004158-5285-47e9-9403-521a627af977\",\"type\":\"Arrow\"},{\"attributes\":{\"end\":{\"id\":\"9ccc3598-e09d-4014-900d-e9acf34ae891\",\"type\":\"NormalHead\"},\"line_alpha\":{\"value\":0.2},\"line_width\":{\"value\":3},\"plot\":{\"id\":\"3b8e541f-9252-4cf1-acaf-4509cbd99c91\",\"subtype\":\"Figure\",\"type\":\"Plot\"},\"source\":null,\"start\":null,\"x_end\":{\"value\":-0.6815389661726101},\"x_start\":{\"value\":0.0},\"y_end\":{\"value\":-1.7153297108700345},\"y_start\":{\"value\":0.0}},\"id\":\"a31ff355-480d-4b4c-8ddd-cf6d74d89c92\",\"type\":\"Arrow\"},{\"attributes\":{},\"id\":\"df27daef-64da-4982-b88e-39fad2bb2065\",\"type\":\"ResetTool\"},{\"attributes\":{\"line_alpha\":0.1,\"line_color\":\"#1f77b4\",\"line_width\":1.5,\"x\":{\"field\":\"x\"},\"y\":{\"field\":\"y\"}},\"id\":\"5d5d5c70-839d-4404-8c14-6d2a52cdd858\",\"type\":\"Line\"},{\"attributes\":{\"fill_alpha\":{\"value\":0.2},\"line_alpha\":{\"value\":0.2},\"plot\":null,\"size\":10},\"id\":\"73db3102-b965-4f3a-b417-8279b98025f4\",\"type\":\"NormalHead\"},{\"attributes\":{\"fill_alpha\":{\"value\":0.2},\"line_alpha\":{\"value\":0.2},\"plot\":null,\"size\":10},\"id\":\"96d3b0c9-ff75-4060-947d-1e97fdb018d0\",\"type\":\"NormalHead\"},{\"attributes\":{\"end\":{\"id\":\"b0de6035-b86c-45f1-b188-34d81411cb73\",\"type\":\"NormalHead\"},\"line_alpha\":{\"value\":0.2},\"line_width\":{\"value\":3},\"plot\":{\"id\":\"3b8e541f-9252-4cf1-acaf-4509cbd99c91\",\"subtype\":\"Figure\",\"type\":\"Plot\"},\"source\":null,\"start\":null,\"x_end\":{\"value\":-1.6420368790662394},\"x_start\":{\"value\":0.0},\"y_end\":{\"value\":-2.477243858578868},\"y_start\":{\"value\":0.0}},\"id\":\"3486c879-8309-48fe-8976-e816af09db0b\",\"type\":\"Arrow\"},{\"attributes\":{\"fill_color\":{\"value\":\"green\"},\"line_color\":{\"value\":\"green\"},\"plot\":null,\"size\":10},\"id\":\"209328d8-469a-493c-b553-e9bf237fa03e\",\"type\":\"NormalHead\"},{\"attributes\":{\"line_width\":1.5,\"x\":{\"field\":\"x\"},\"y\":{\"field\":\"y\"}},\"id\":\"953b269b-6327-4985-90ec-39869be9502c\",\"type\":\"Line\"},{\"attributes\":{\"fill_alpha\":{\"value\":0.2},\"line_alpha\":{\"value\":0.2},\"plot\":null,\"size\":10},\"id\":\"7cf0435e-a4e4-428b-9701-cbacad9b2d19\",\"type\":\"NormalHead\"},{\"attributes\":{\"end\":{\"id\":\"96d3b0c9-ff75-4060-947d-1e97fdb018d0\",\"type\":\"NormalHead\"},\"line_alpha\":{\"value\":0.2},\"line_width\":{\"value\":3},\"plot\":{\"id\":\"3b8e541f-9252-4cf1-acaf-4509cbd99c91\",\"subtype\":\"Figure\",\"type\":\"Plot\"},\"source\":null,\"start\":null,\"x_end\":{\"value\":-6.161406776078032},\"x_start\":{\"value\":0.0},\"y_end\":{\"value\":-8.127657302772985},\"y_start\":{\"value\":0.0}},\"id\":\"7b8bccbe-dbc4-4c5b-994f-981021aab2e4\",\"type\":\"Arrow\"},{\"attributes\":{\"line_alpha\":0.1,\"line_color\":\"#1f77b4\",\"line_width\":1.5,\"x\":{\"field\":\"x\"},\"y\":{\"field\":\"y\"}},\"id\":\"044c9807-25d9-46e3-ae6c-8d96d26f4140\",\"type\":\"Line\"},{\"attributes\":{\"end\":{\"id\":\"20377c2c-e282-4d55-b6d4-22f93b679235\",\"type\":\"NormalHead\"},\"line_color\":{\"value\":\"blue\"},\"line_width\":{\"value\":3},\"plot\":{\"id\":\"3b8e541f-9252-4cf1-acaf-4509cbd99c91\",\"subtype\":\"Figure\",\"type\":\"Plot\"},\"source\":null,\"start\":null,\"x_end\":{\"value\":2},\"x_start\":{\"value\":0.0},\"y_end\":{\"value\":1},\"y_start\":{\"value\":0.0}},\"id\":\"d53f93bf-79e3-4d60-b05f-7013eb18760e\",\"type\":\"Arrow\"},{\"attributes\":{\"fill_alpha\":{\"value\":0.2},\"line_alpha\":{\"value\":0.2},\"plot\":null,\"size\":10},\"id\":\"8a7de127-9363-421a-861a-9aea57f78eaa\",\"type\":\"NormalHead\"},{\"attributes\":{\"end\":{\"id\":\"7cf0435e-a4e4-428b-9701-cbacad9b2d19\",\"type\":\"NormalHead\"},\"line_alpha\":{\"value\":0.2},\"line_width\":{\"value\":3},\"plot\":{\"id\":\"3b8e541f-9252-4cf1-acaf-4509cbd99c91\",\"subtype\":\"Figure\",\"type\":\"Plot\"},\"source\":null,\"start\":null,\"x_end\":{\"value\":0.35280240379556105},\"x_start\":{\"value\":0.0},\"y_end\":{\"value\":3.717594095822418},\"y_start\":{\"value\":0.0}},\"id\":\"893e3918-43a0-4f24-a87c-a56bc388401d\",\"type\":\"Arrow\"},{\"attributes\":{\"fill_color\":{\"value\":\"orange\"},\"line_color\":{\"value\":\"orange\"},\"plot\":null,\"size\":10},\"id\":\"834a9468-a579-47f2-888b-9d41f10d1e0c\",\"type\":\"NormalHead\"},{\"attributes\":{\"end\":{\"id\":\"a4dacf26-c290-4e9c-b959-428eb82226e1\",\"type\":\"NormalHead\"},\"line_color\":{\"value\":\"red\"},\"line_width\":{\"value\":3},\"plot\":{\"id\":\"3b8e541f-9252-4cf1-acaf-4509cbd99c91\",\"subtype\":\"Figure\",\"type\":\"Plot\"},\"source\":null,\"start\":null,\"x_end\":{\"value\":1},\"x_start\":{\"value\":0.0},\"y_end\":{\"value\":2},\"y_start\":{\"value\":0.0}},\"id\":\"f3f1536e-72c8-4bc8-9c12-740c24911761\",\"type\":\"Arrow\"},{\"attributes\":{\"fill_alpha\":{\"value\":0.2},\"line_alpha\":{\"value\":0.2},\"plot\":null,\"size\":10},\"id\":\"99ef9ac5-20f6-4370-8865-e8161d5f0fd1\",\"type\":\"NormalHead\"},{\"attributes\":{\"end\":{\"id\":\"8a7de127-9363-421a-861a-9aea57f78eaa\",\"type\":\"NormalHead\"},\"line_alpha\":{\"value\":0.2},\"line_width\":{\"value\":3},\"plot\":{\"id\":\"3b8e541f-9252-4cf1-acaf-4509cbd99c91\",\"subtype\":\"Figure\",\"type\":\"Plot\"},\"source\":null,\"start\":null,\"x_end\":{\"value\":-10.46762366736096},\"x_start\":{\"value\":0.0},\"y_end\":{\"value\":-6.3225793938180175},\"y_start\":{\"value\":0.0}},\"id\":\"42518877-4938-40b3-8c05-55fe859ef74a\",\"type\":\"Arrow\"},{\"attributes\":{\"fill_color\":{\"value\":\"purple\"},\"line_color\":{\"value\":\"purple\"},\"plot\":null,\"size\":10},\"id\":\"21fce191-5282-4c4a-a5f3-2a7ad4d4d8e2\",\"type\":\"NormalHead\"},{\"attributes\":{\"end\":{\"id\":\"209328d8-469a-493c-b553-e9bf237fa03e\",\"type\":\"NormalHead\"},\"line_color\":{\"value\":\"green\"},\"line_width\":{\"value\":3},\"plot\":{\"id\":\"3b8e541f-9252-4cf1-acaf-4509cbd99c91\",\"subtype\":\"Figure\",\"type\":\"Plot\"},\"source\":null,\"start\":null,\"x_end\":{\"value\":-10},\"x_start\":{\"value\":0.0},\"y_end\":{\"value\":-8},\"y_start\":{\"value\":0.0}},\"id\":\"d907f029-d84d-4ddf-9b2e-95d71fc2eb6e\",\"type\":\"Arrow\"},{\"attributes\":{\"fill_alpha\":{\"value\":0.2},\"line_alpha\":{\"value\":0.2},\"plot\":null,\"size\":10},\"id\":\"856e783d-9adc-4b34-9f0d-16bfcf1db262\",\"type\":\"NormalHead\"},{\"attributes\":{\"end\":{\"id\":\"99ef9ac5-20f6-4370-8865-e8161d5f0fd1\",\"type\":\"NormalHead\"},\"line_alpha\":{\"value\":0.2},\"line_width\":{\"value\":3},\"plot\":{\"id\":\"3b8e541f-9252-4cf1-acaf-4509cbd99c91\",\"subtype\":\"Figure\",\"type\":\"Plot\"},\"source\":null,\"start\":null,\"x_end\":{\"value\":1.4037471914937427},\"x_start\":{\"value\":0.0},\"y_end\":{\"value\":3.9236571735440906},\"y_start\":{\"value\":0.0}},\"id\":\"40e4aa54-ddc5-4a4a-8a8c-be3dc2493564\",\"type\":\"Arrow\"},{\"attributes\":{\"fill_alpha\":{\"value\":0.2},\"line_alpha\":{\"value\":0.2},\"plot\":null,\"size\":10},\"id\":\"8299df6d-edc2-4007-b25d-6abf4086fb1c\",\"type\":\"NormalHead\"},{\"attributes\":{\"end\":{\"id\":\"834a9468-a579-47f2-888b-9d41f10d1e0c\",\"type\":\"NormalHead\"},\"line_color\":{\"value\":\"orange\"},\"line_width\":{\"value\":3},\"plot\":{\"id\":\"3b8e541f-9252-4cf1-acaf-4509cbd99c91\",\"subtype\":\"Figure\",\"type\":\"Plot\"},\"source\":null,\"start\":null,\"x_end\":{\"value\":5.6},\"x_start\":{\"value\":0.0},\"y_end\":{\"value\":10.3},\"y_start\":{\"value\":0.0}},\"id\":\"27f180dc-d5fd-4214-9fac-807f58610dd7\",\"type\":\"Arrow\"},{\"attributes\":{\"fill_alpha\":{\"value\":0.2},\"line_alpha\":{\"value\":0.2},\"plot\":null,\"size\":10},\"id\":\"8a31c9a5-bad6-47ac-ace3-83f660c24fa1\",\"type\":\"NormalHead\"},{\"attributes\":{\"end\":{\"id\":\"856e783d-9adc-4b34-9f0d-16bfcf1db262\",\"type\":\"NormalHead\"},\"line_alpha\":{\"value\":0.2},\"line_width\":{\"value\":3},\"plot\":{\"id\":\"3b8e541f-9252-4cf1-acaf-4509cbd99c91\",\"subtype\":\"Figure\",\"type\":\"Plot\"},\"source\":null,\"start\":null,\"x_end\":{\"value\":2.014893112672226},\"x_start\":{\"value\":0.0},\"y_end\":{\"value\":6.174997162351148},\"y_start\":{\"value\":0.0}},\"id\":\"f492b6bf-c80a-49e9-b1d7-d177c89256d8\",\"type\":\"Arrow\"},{\"attributes\":{\"fill_color\":{\"value\":\"red\"},\"line_color\":{\"value\":\"red\"},\"plot\":null,\"size\":10},\"id\":\"a4dacf26-c290-4e9c-b959-428eb82226e1\",\"type\":\"NormalHead\"},{\"attributes\":{\"end\":{\"id\":\"21fce191-5282-4c4a-a5f3-2a7ad4d4d8e2\",\"type\":\"NormalHead\"},\"line_color\":{\"value\":\"purple\"},\"line_width\":{\"value\":3},\"plot\":{\"id\":\"3b8e541f-9252-4cf1-acaf-4509cbd99c91\",\"subtype\":\"Figure\",\"type\":\"Plot\"},\"source\":null,\"start\":null,\"x_end\":{\"value\":-4.2},\"x_start\":{\"value\":0.0},\"y_end\":{\"value\":-5.4},\"y_start\":{\"value\":0.0}},\"id\":\"fa7bd9fd-8ea2-4772-888b-a1c02eed9ca7\",\"type\":\"Arrow\"},{\"attributes\":{\"fill_alpha\":{\"value\":0.2},\"line_alpha\":{\"value\":0.2},\"plot\":null,\"size\":10},\"id\":\"a6ddfa34-2824-4011-a27b-42eef7f65523\",\"type\":\"NormalHead\"},{\"attributes\":{\"fill_alpha\":{\"value\":0.2},\"line_alpha\":{\"value\":0.2},\"plot\":null,\"size\":10},\"id\":\"a5e02cc8-8250-4b70-a4f9-fde8bdccd88e\",\"type\":\"NormalHead\"},{\"attributes\":{\"end\":{\"id\":\"8a31c9a5-bad6-47ac-ace3-83f660c24fa1\",\"type\":\"NormalHead\"},\"line_alpha\":{\"value\":0.2},\"line_width\":{\"value\":3},\"plot\":{\"id\":\"3b8e541f-9252-4cf1-acaf-4509cbd99c91\",\"subtype\":\"Figure\",\"type\":\"Plot\"},\"source\":null,\"start\":null,\"x_end\":{\"value\":-12.885192101260644},\"x_start\":{\"value\":0.0},\"y_end\":{\"value\":-13.551303747849435},\"y_start\":{\"value\":0.0}},\"id\":\"7c9fa108-4c61-4371-965a-e6792d5a7038\",\"type\":\"Arrow\"},{\"attributes\":{},\"id\":\"a90ac609-07bb-42db-88f9-341535b48206\",\"type\":\"BasicTickFormatter\"},{\"attributes\":{},\"id\":\"10823a38-6757-4110-8aaf-6f32afd66539\",\"type\":\"BasicTickFormatter\"},{\"attributes\":{\"fill_alpha\":{\"value\":0.2},\"line_alpha\":{\"value\":0.2},\"plot\":null,\"size\":10},\"id\":\"a955a221-ac51-4430-9cde-89dab78f345d\",\"type\":\"NormalHead\"},{\"attributes\":{\"end\":{\"id\":\"a5e02cc8-8250-4b70-a4f9-fde8bdccd88e\",\"type\":\"NormalHead\"},\"line_alpha\":{\"value\":0.2},\"line_width\":{\"value\":3},\"plot\":{\"id\":\"3b8e541f-9252-4cf1-acaf-4509cbd99c91\",\"subtype\":\"Figure\",\"type\":\"Plot\"},\"source\":null,\"start\":null,\"x_end\":{\"value\":1.4807845834643212},\"x_start\":{\"value\":0.0},\"y_end\":{\"value\":2.979739943575355},\"y_start\":{\"value\":0.0}},\"id\":\"cfcd3eab-97ec-4c9c-ac99-99757f372a09\",\"type\":\"Arrow\"},{\"attributes\":{\"fill_color\":{\"value\":\"blue\"},\"line_color\":{\"value\":\"blue\"},\"plot\":null,\"size\":10},\"id\":\"20377c2c-e282-4d55-b6d4-22f93b679235\",\"type\":\"NormalHead\"},{\"attributes\":{},\"id\":\"c998f440-976c-4217-9b16-882b75039749\",\"type\":\"UnionRenderers\"},{\"attributes\":{\"fill_alpha\":{\"value\":0.2},\"line_alpha\":{\"value\":0.2},\"plot\":null,\"size\":10},\"id\":\"261db18f-619c-4f06-bbe4-f13f8f384b32\",\"type\":\"NormalHead\"},{\"attributes\":{\"fill_alpha\":{\"value\":0.2},\"line_alpha\":{\"value\":0.2},\"plot\":null,\"size\":10},\"id\":\"3bc88f40-8979-490a-afea-f42b89b1c120\",\"type\":\"NormalHead\"},{\"attributes\":{\"end\":{\"id\":\"a955a221-ac51-4430-9cde-89dab78f345d\",\"type\":\"NormalHead\"},\"line_alpha\":{\"value\":0.2},\"line_width\":{\"value\":3},\"plot\":{\"id\":\"3b8e541f-9252-4cf1-acaf-4509cbd99c91\",\"subtype\":\"Figure\",\"type\":\"Plot\"},\"source\":null,\"start\":null,\"x_end\":{\"value\":12.890608586258848},\"x_start\":{\"value\":0.0},\"y_end\":{\"value\":11.549057525737139},\"y_start\":{\"value\":0.0}},\"id\":\"d52023f2-2485-4833-b258-4a5037772399\",\"type\":\"Arrow\"},{\"attributes\":{},\"id\":\"0ec4d149-268c-4a3e-9ae9-1c06fbe523c5\",\"type\":\"Selection\"},{\"attributes\":{\"fill_alpha\":{\"value\":0.2},\"line_alpha\":{\"value\":0.2},\"plot\":null,\"size\":10},\"id\":\"b77bed0b-ab3a-4f68-8284-c5c297a90524\",\"type\":\"NormalHead\"},{\"attributes\":{},\"id\":\"be1c7643-4dea-48ce-b531-8512caae2a44\",\"type\":\"UnionRenderers\"},{\"attributes\":{\"end\":{\"id\":\"a29aa1c8-394e-497a-890b-f878a5bc5d1d\",\"type\":\"NormalHead\"},\"line_alpha\":{\"value\":0.2},\"line_width\":{\"value\":3},\"plot\":{\"id\":\"3b8e541f-9252-4cf1-acaf-4509cbd99c91\",\"subtype\":\"Figure\",\"type\":\"Plot\"},\"source\":null,\"start\":null,\"x_end\":{\"value\":-6.006428440766038},\"x_start\":{\"value\":0.0},\"y_end\":{\"value\":1.7104766309138242},\"y_start\":{\"value\":0.0}},\"id\":\"73d1ca51-068b-4988-b173-e63832d5950c\",\"type\":\"Arrow\"},{\"attributes\":{\"end\":{\"id\":\"3bc88f40-8979-490a-afea-f42b89b1c120\",\"type\":\"NormalHead\"},\"line_alpha\":{\"value\":0.2},\"line_width\":{\"value\":3},\"plot\":{\"id\":\"3b8e541f-9252-4cf1-acaf-4509cbd99c91\",\"subtype\":\"Figure\",\"type\":\"Plot\"},\"source\":null,\"start\":null,\"x_end\":{\"value\":3.8063118216044334},\"x_start\":{\"value\":0.0},\"y_end\":{\"value\":-4.16316993369443},\"y_start\":{\"value\":0.0}},\"id\":\"7cb36a20-18ab-4663-a20a-7ffefe3a1ea8\",\"type\":\"Arrow\"},{\"attributes\":{},\"id\":\"0abf8a68-927a-448b-84f7-59f256464daa\",\"type\":\"Selection\"},{\"attributes\":{\"fill_alpha\":{\"value\":0.2},\"line_alpha\":{\"value\":0.2},\"plot\":null,\"size\":10},\"id\":\"78faff74-bc66-452f-b30b-d37e6098229b\",\"type\":\"NormalHead\"},{\"attributes\":{\"fill_alpha\":{\"value\":0.2},\"line_alpha\":{\"value\":0.2},\"plot\":null,\"size\":10},\"id\":\"c12fa91d-fd4e-4b15-a90a-784a11b67c33\",\"type\":\"NormalHead\"},{\"attributes\":{\"end\":{\"id\":\"b77bed0b-ab3a-4f68-8284-c5c297a90524\",\"type\":\"NormalHead\"},\"line_alpha\":{\"value\":0.2},\"line_width\":{\"value\":3},\"plot\":{\"id\":\"3b8e541f-9252-4cf1-acaf-4509cbd99c91\",\"subtype\":\"Figure\",\"type\":\"Plot\"},\"source\":null,\"start\":null,\"x_end\":{\"value\":-2.3529469028228025},\"x_start\":{\"value\":0.0},\"y_end\":{\"value\":3.6901727713275214},\"y_start\":{\"value\":0.0}},\"id\":\"343290cd-ac61-4168-bcf5-addbd9eb25de\",\"type\":\"Arrow\"},{\"attributes\":{\"fill_alpha\":{\"value\":0.2},\"line_alpha\":{\"value\":0.2},\"plot\":null,\"size\":10},\"id\":\"9ccc3598-e09d-4014-900d-e9acf34ae891\",\"type\":\"NormalHead\"},{\"attributes\":{\"fill_alpha\":{\"value\":0.2},\"line_alpha\":{\"value\":0.2},\"plot\":null,\"size\":10},\"id\":\"b6d1cdb5-e4ea-4c59-8a6e-0a1cf5631f20\",\"type\":\"NormalHead\"},{\"attributes\":{\"fill_alpha\":{\"value\":0.2},\"line_alpha\":{\"value\":0.2},\"plot\":null,\"size\":10},\"id\":\"976120eb-28fc-4a47-96df-f9784256a8e2\",\"type\":\"NormalHead\"},{\"attributes\":{\"end\":{\"id\":\"c9b92c55-6e43-4d2d-a1ac-c63cf27042cb\",\"type\":\"NormalHead\"},\"line_alpha\":{\"value\":0.2},\"line_width\":{\"value\":3},\"plot\":{\"id\":\"3b8e541f-9252-4cf1-acaf-4509cbd99c91\",\"subtype\":\"Figure\",\"type\":\"Plot\"},\"source\":null,\"start\":null,\"x_end\":{\"value\":-10.134909727269816},\"x_start\":{\"value\":0.0},\"y_end\":{\"value\":-5.466819682005701},\"y_start\":{\"value\":0.0}},\"id\":\"5e983c6d-0518-4d6b-a6ea-fec250cb420b\",\"type\":\"Arrow\"},{\"attributes\":{\"end\":{\"id\":\"c12fa91d-fd4e-4b15-a90a-784a11b67c33\",\"type\":\"NormalHead\"},\"line_alpha\":{\"value\":0.2},\"line_width\":{\"value\":3},\"plot\":{\"id\":\"3b8e541f-9252-4cf1-acaf-4509cbd99c91\",\"subtype\":\"Figure\",\"type\":\"Plot\"},\"source\":null,\"start\":null,\"x_end\":{\"value\":7.678329307709646},\"x_start\":{\"value\":0.0},\"y_end\":{\"value\":3.447873147046474},\"y_start\":{\"value\":0.0}},\"id\":\"bea863c8-affc-4c28-984b-a6f26984a377\",\"type\":\"Arrow\"},{\"attributes\":{\"end\":{\"id\":\"73db3102-b965-4f3a-b417-8279b98025f4\",\"type\":\"NormalHead\"},\"line_alpha\":{\"value\":0.2},\"line_width\":{\"value\":3},\"plot\":{\"id\":\"3b8e541f-9252-4cf1-acaf-4509cbd99c91\",\"subtype\":\"Figure\",\"type\":\"Plot\"},\"source\":null,\"start\":null,\"x_end\":{\"value\":-3.1191428410783217},\"x_start\":{\"value\":0.0},\"y_end\":{\"value\":2.9532039698456707},\"y_start\":{\"value\":0.0}},\"id\":\"d87777a4-0825-4c28-aff1-b31b8a956add\",\"type\":\"Arrow\"},{\"attributes\":{\"fill_alpha\":{\"value\":0.2},\"line_alpha\":{\"value\":0.2},\"plot\":null,\"size\":10},\"id\":\"044e3e4e-efb8-4560-b701-b4c2fec77354\",\"type\":\"NormalHead\"},{\"attributes\":{\"fill_alpha\":{\"value\":0.2},\"line_alpha\":{\"value\":0.2},\"plot\":null,\"size\":10},\"id\":\"cf90eb88-5db9-4d9a-8459-d8aabeedc80c\",\"type\":\"NormalHead\"},{\"attributes\":{\"end\":{\"id\":\"976120eb-28fc-4a47-96df-f9784256a8e2\",\"type\":\"NormalHead\"},\"line_alpha\":{\"value\":0.2},\"line_width\":{\"value\":3},\"plot\":{\"id\":\"3b8e541f-9252-4cf1-acaf-4509cbd99c91\",\"subtype\":\"Figure\",\"type\":\"Plot\"},\"source\":null,\"start\":null,\"x_end\":{\"value\":-8.231213902657444},\"x_start\":{\"value\":0.0},\"y_end\":{\"value\":-9.275730916029229},\"y_start\":{\"value\":0.0}},\"id\":\"220a15bb-897d-4231-a492-2363a3185472\",\"type\":\"Arrow\"},{\"attributes\":{},\"id\":\"d0f5f715-cce3-477b-94c0-40ee6cf0792b\",\"type\":\"LinearScale\"},{\"attributes\":{\"fill_alpha\":{\"value\":0.2},\"line_alpha\":{\"value\":0.2},\"plot\":null,\"size\":10},\"id\":\"53f0be1f-3674-4584-90dd-acc4eddb14e1\",\"type\":\"NormalHead\"},{\"attributes\":{\"callback\":null,\"end\":14.0,\"start\":-14.0},\"id\":\"e1ffad7f-e5cf-4a5c-906c-d37bd3e4fd4b\",\"type\":\"Range1d\"},{\"attributes\":{\"fill_alpha\":{\"value\":0.2},\"line_alpha\":{\"value\":0.2},\"plot\":null,\"size\":10},\"id\":\"46820e72-fe3e-427d-a3a7-70d05652b7e4\",\"type\":\"NormalHead\"},{\"attributes\":{\"fill_alpha\":{\"value\":0.2},\"line_alpha\":{\"value\":0.2},\"plot\":null,\"size\":10},\"id\":\"7859a7d5-1f10-4a0c-9214-42c989b83a03\",\"type\":\"NormalHead\"},{\"attributes\":{\"data_source\":{\"id\":\"880d447c-447d-41d9-9346-c521b3ac7849\",\"type\":\"ColumnDataSource\"},\"glyph\":{\"id\":\"953b269b-6327-4985-90ec-39869be9502c\",\"type\":\"Line\"},\"hover_glyph\":null,\"muted_glyph\":null,\"nonselection_glyph\":{\"id\":\"044c9807-25d9-46e3-ae6c-8d96d26f4140\",\"type\":\"Line\"},\"selection_glyph\":null,\"view\":{\"id\":\"71a93508-a930-4037-b973-ca5f15c9d54d\",\"type\":\"CDSView\"}},\"id\":\"fae72eac-bbc2-460e-8324-4c0d335691c0\",\"type\":\"GlyphRenderer\"},{\"attributes\":{\"end\":{\"id\":\"cf90eb88-5db9-4d9a-8459-d8aabeedc80c\",\"type\":\"NormalHead\"},\"line_alpha\":{\"value\":0.2},\"line_width\":{\"value\":3},\"plot\":{\"id\":\"3b8e541f-9252-4cf1-acaf-4509cbd99c91\",\"subtype\":\"Figure\",\"type\":\"Plot\"},\"source\":null,\"start\":null,\"x_end\":{\"value\":-11.012879745756122},\"x_start\":{\"value\":0.0},\"y_end\":{\"value\":-10.822206133573147},\"y_start\":{\"value\":0.0}},\"id\":\"4fb0724f-5a63-4f42-9a72-3c4fdef240f3\",\"type\":\"Arrow\"},{\"attributes\":{\"end\":{\"id\":\"7859a7d5-1f10-4a0c-9214-42c989b83a03\",\"type\":\"NormalHead\"},\"line_alpha\":{\"value\":0.2},\"line_width\":{\"value\":3},\"plot\":{\"id\":\"3b8e541f-9252-4cf1-acaf-4509cbd99c91\",\"subtype\":\"Figure\",\"type\":\"Plot\"},\"source\":null,\"start\":null,\"x_end\":{\"value\":-2.2497670861340424},\"x_start\":{\"value\":0.0},\"y_end\":{\"value\":-1.1572743048234835},\"y_start\":{\"value\":0.0}},\"id\":\"39acf0fb-829f-4c4a-897b-2a8aa945528b\",\"type\":\"Arrow\"},{\"attributes\":{\"end\":{\"id\":\"e7cf7db1-74d7-4dc5-9464-53c2cd969b46\",\"type\":\"NormalHead\"},\"line_alpha\":{\"value\":0.2},\"line_width\":{\"value\":3},\"plot\":{\"id\":\"3b8e541f-9252-4cf1-acaf-4509cbd99c91\",\"subtype\":\"Figure\",\"type\":\"Plot\"},\"source\":null,\"start\":null,\"x_end\":{\"value\":-4.5655286575223375},\"x_start\":{\"value\":0.0},\"y_end\":{\"value\":-2.355881997455369},\"y_start\":{\"value\":0.0}},\"id\":\"ed078492-c9b7-478e-a62a-d713534a4c72\",\"type\":\"Arrow\"},{\"attributes\":{\"end\":{\"id\":\"53f0be1f-3674-4584-90dd-acc4eddb14e1\",\"type\":\"NormalHead\"},\"line_alpha\":{\"value\":0.2},\"line_width\":{\"value\":3},\"plot\":{\"id\":\"3b8e541f-9252-4cf1-acaf-4509cbd99c91\",\"subtype\":\"Figure\",\"type\":\"Plot\"},\"source\":null,\"start\":null,\"x_end\":{\"value\":-3.383755995386096},\"x_start\":{\"value\":0.0},\"y_end\":{\"value\":2.0372954845407074},\"y_start\":{\"value\":0.0}},\"id\":\"a3f6a58b-cd4b-41e9-8c92-bffc1b4ce3c8\",\"type\":\"Arrow\"},{\"attributes\":{},\"id\":\"5158a9eb-a1d0-4f9a-ba84-511d8ff01537\",\"type\":\"LinearScale\"},{\"attributes\":{\"end\":{\"id\":\"9e3b046b-b50e-43ad-811e-46cc24e3f301\",\"type\":\"NormalHead\"},\"line_alpha\":{\"value\":0.2},\"line_width\":{\"value\":3},\"plot\":{\"id\":\"3b8e541f-9252-4cf1-acaf-4509cbd99c91\",\"subtype\":\"Figure\",\"type\":\"Plot\"},\"source\":null,\"start\":null,\"x_end\":{\"value\":-11.356755836680438},\"x_start\":{\"value\":0.0},\"y_end\":{\"value\":-12.254747422625835},\"y_start\":{\"value\":0.0}},\"id\":\"32d97b54-3063-446b-9f3a-aa9a35f86f83\",\"type\":\"Arrow\"},{\"attributes\":{\"fill_alpha\":{\"value\":0.2},\"line_alpha\":{\"value\":0.2},\"plot\":null,\"size\":10},\"id\":\"e7cf7db1-74d7-4dc5-9464-53c2cd969b46\",\"type\":\"NormalHead\"},{\"attributes\":{\"end\":{\"id\":\"46820e72-fe3e-427d-a3a7-70d05652b7e4\",\"type\":\"NormalHead\"},\"line_alpha\":{\"value\":0.2},\"line_width\":{\"value\":3},\"plot\":{\"id\":\"3b8e541f-9252-4cf1-acaf-4509cbd99c91\",\"subtype\":\"Figure\",\"type\":\"Plot\"},\"source\":null,\"start\":null,\"x_end\":{\"value\":-4.365591165713725},\"x_start\":{\"value\":0.0},\"y_end\":{\"value\":-7.2144919183770195},\"y_start\":{\"value\":0.0}},\"id\":\"52217b4f-b109-4d02-ae94-d278f2f6ba73\",\"type\":\"Arrow\"},{\"attributes\":{\"end\":{\"id\":\"5be8a176-ee71-4ed6-917f-5f70baa3da82\",\"type\":\"NormalHead\"},\"line_alpha\":{\"value\":0.2},\"line_width\":{\"value\":3},\"plot\":{\"id\":\"3b8e541f-9252-4cf1-acaf-4509cbd99c91\",\"subtype\":\"Figure\",\"type\":\"Plot\"},\"source\":null,\"start\":null,\"x_end\":{\"value\":0.16653347148021957},\"x_start\":{\"value\":0.0},\"y_end\":{\"value\":-4.213339887739044},\"y_start\":{\"value\":0.0}},\"id\":\"0becef89-7edc-4587-ab14-ac52d314ff31\",\"type\":\"Arrow\"},{\"attributes\":{\"fill_alpha\":{\"value\":0.2},\"line_alpha\":{\"value\":0.2},\"plot\":null,\"size\":10},\"id\":\"a29aa1c8-394e-497a-890b-f878a5bc5d1d\",\"type\":\"NormalHead\"},{\"attributes\":{\"fill_alpha\":{\"value\":0.2},\"line_alpha\":{\"value\":0.2},\"plot\":null,\"size\":10},\"id\":\"9e3b046b-b50e-43ad-811e-46cc24e3f301\",\"type\":\"NormalHead\"},{\"attributes\":{\"end\":{\"id\":\"8299df6d-edc2-4007-b25d-6abf4086fb1c\",\"type\":\"NormalHead\"},\"line_alpha\":{\"value\":0.2},\"line_width\":{\"value\":3},\"plot\":{\"id\":\"3b8e541f-9252-4cf1-acaf-4509cbd99c91\",\"subtype\":\"Figure\",\"type\":\"Plot\"},\"source\":null,\"start\":null,\"x_end\":{\"value\":-5.824325316886345},\"x_start\":{\"value\":0.0},\"y_end\":{\"value\":-5.1336417516536414},\"y_start\":{\"value\":0.0}},\"id\":\"5e1b0421-04cc-4837-bbd9-33df07f2440b\",\"type\":\"Arrow\"},{\"attributes\":{\"end\":{\"id\":\"044e3e4e-efb8-4560-b701-b4c2fec77354\",\"type\":\"NormalHead\"},\"line_alpha\":{\"value\":0.2},\"line_width\":{\"value\":3},\"plot\":{\"id\":\"3b8e541f-9252-4cf1-acaf-4509cbd99c91\",\"subtype\":\"Figure\",\"type\":\"Plot\"},\"source\":null,\"start\":null,\"x_end\":{\"value\":-3.2167352889798106},\"x_start\":{\"value\":0.0},\"y_end\":{\"value\":0.032712622925552104},\"y_start\":{\"value\":0.0}},\"id\":\"743a4211-4812-4c21-bf83-5106f3e0721c\",\"type\":\"Arrow\"},{\"attributes\":{\"fill_alpha\":{\"value\":0.2},\"line_alpha\":{\"value\":0.2},\"plot\":null,\"size\":10},\"id\":\"c9b92c55-6e43-4d2d-a1ac-c63cf27042cb\",\"type\":\"NormalHead\"},{\"attributes\":{\"end\":{\"id\":\"261db18f-619c-4f06-bbe4-f13f8f384b32\",\"type\":\"NormalHead\"},\"line_alpha\":{\"value\":0.2},\"line_width\":{\"value\":3},\"plot\":{\"id\":\"3b8e541f-9252-4cf1-acaf-4509cbd99c91\",\"subtype\":\"Figure\",\"type\":\"Plot\"},\"source\":null,\"start\":null,\"x_end\":{\"value\":4.446999997193881},\"x_start\":{\"value\":0.0},\"y_end\":{\"value\":-3.295679388189944},\"y_start\":{\"value\":0.0}},\"id\":\"96996a5e-bf59-424b-9930-da2bc296f617\",\"type\":\"Arrow\"}],\"root_ids\":[\"3b8e541f-9252-4cf1-acaf-4509cbd99c91\"]},\"title\":\"Bokeh Application\",\"version\":\"0.13.0\"}};\n",
       "  var render_items = [{\"docid\":\"d5b8325a-7282-4113-94ac-159d23884aa1\",\"roots\":{\"3b8e541f-9252-4cf1-acaf-4509cbd99c91\":\"32fa7029-c891-4257-b008-5d85906da9e6\"}}];\n",
       "  root.Bokeh.embed.embed_items_notebook(docs_json, render_items);\n",
       "\n",
       "  }\n",
       "  if (root.Bokeh !== undefined) {\n",
       "    embed_document(root);\n",
       "  } else {\n",
       "    var attempts = 0;\n",
       "    var timer = setInterval(function(root) {\n",
       "      if (root.Bokeh !== undefined) {\n",
       "        embed_document(root);\n",
       "        clearInterval(timer);\n",
       "      }\n",
       "      attempts++;\n",
       "      if (attempts > 100) {\n",
       "        console.log(\"Bokeh: ERROR: Unable to run BokehJS code because BokehJS library is missing\")\n",
       "        clearInterval(timer);\n",
       "      }\n",
       "    }, 10, root)\n",
       "  }\n",
       "})(window);"
      ],
      "application/vnd.bokehjs_exec.v0+json": ""
     },
     "metadata": {
      "application/vnd.bokehjs_exec.v0+json": {
       "id": "3b8e541f-9252-4cf1-acaf-4509cbd99c91"
      }
     },
     "output_type": "display_data"
    }
   ],
   "source": [
    "plot.show()"
   ]
  },
  {
   "cell_type": "markdown",
   "metadata": {},
   "source": [
    "Eventually we could define the entire $\\Re^2$ space with just these two vectors."
   ]
  },
  {
   "cell_type": "markdown",
   "metadata": {},
   "source": [
    "# Linear Dependence\n",
    "\n",
    "When we can describe a vector with some linear combination of other vectors, we call that vector linearly dependent. Put differently, the addition of that new vector to our set does not provide any additional information that we do not already have with the existing vectors in our set.\n",
    "\n",
    "This concept is a little tricky at first, so let's examine this visually."
   ]
  },
  {
   "cell_type": "code",
   "execution_count": 19,
   "metadata": {},
   "outputs": [],
   "source": [
    "# Are these two vectors linearly dependent?\n",
    "a = np.array([1,4])\n",
    "b = np.array([2.5,10])"
   ]
  },
  {
   "cell_type": "code",
   "execution_count": 20,
   "metadata": {},
   "outputs": [
    {
     "data": {
      "text/html": [
       "\n",
       "\n",
       "\n",
       "\n",
       "\n",
       "\n",
       "  <div class=\"bk-root\" id=\"cee2264c-2643-481b-8672-ed25a80c31ca\"></div>\n"
      ]
     },
     "metadata": {},
     "output_type": "display_data"
    },
    {
     "data": {
      "application/javascript": [
       "(function(root) {\n",
       "  function embed_document(root) {\n",
       "    \n",
       "  var docs_json = {\"777540d7-db88-4eb6-9251-7333dcc36e24\":{\"roots\":{\"references\":[{\"attributes\":{},\"id\":\"6ed61c1e-cb1b-4c26-9bb1-f7282d8f30b7\",\"type\":\"LinearScale\"},{\"attributes\":{\"callback\":null,\"data\":{\"x\":[0.0,0.0],\"y\":[-30.0,30.0]},\"selected\":{\"id\":\"ad69a3ae-11c0-46bd-99a8-4b62bbea390e\",\"type\":\"Selection\"},\"selection_policy\":{\"id\":\"2987996b-086c-4048-80ac-f3c7e92a8283\",\"type\":\"UnionRenderers\"}},\"id\":\"fda1f909-10c5-4c7f-ac7f-e6dbf4cac6ac\",\"type\":\"ColumnDataSource\"},{\"attributes\":{},\"id\":\"3a508c5a-098c-47c5-a962-6c89bdbf64ca\",\"type\":\"LinearScale\"},{\"attributes\":{\"formatter\":{\"id\":\"cef27112-7281-44d2-a06b-fd472aa6b20a\",\"type\":\"BasicTickFormatter\"},\"plot\":{\"id\":\"26f60768-8304-43c6-b9e2-ed7f9f417fa6\",\"subtype\":\"Figure\",\"type\":\"Plot\"},\"ticker\":{\"id\":\"2c76e0c5-ce84-40fc-8bfc-ca3e66b4d11d\",\"type\":\"BasicTicker\"}},\"id\":\"4b300a6a-9bb4-4f67-8db5-5aca0cbd063d\",\"type\":\"LinearAxis\"},{\"attributes\":{\"formatter\":{\"id\":\"3f622b6a-2810-44f2-b81f-0292d81908d0\",\"type\":\"BasicTickFormatter\"},\"plot\":{\"id\":\"26f60768-8304-43c6-b9e2-ed7f9f417fa6\",\"subtype\":\"Figure\",\"type\":\"Plot\"},\"ticker\":{\"id\":\"28ab5e18-eddb-4036-8241-6ea8fa18ceba\",\"type\":\"BasicTicker\"}},\"id\":\"7ccd21ba-8f13-4cdb-8d20-fb131a9d599b\",\"type\":\"LinearAxis\"},{\"attributes\":{\"dimension\":1,\"plot\":{\"id\":\"26f60768-8304-43c6-b9e2-ed7f9f417fa6\",\"subtype\":\"Figure\",\"type\":\"Plot\"},\"ticker\":{\"id\":\"28ab5e18-eddb-4036-8241-6ea8fa18ceba\",\"type\":\"BasicTicker\"}},\"id\":\"a7d52803-ab2e-4f80-8953-47060af40ea2\",\"type\":\"Grid\"},{\"attributes\":{\"line_width\":1.5,\"x\":{\"field\":\"x\"},\"y\":{\"field\":\"y\"}},\"id\":\"362bcbc9-cd8e-4efb-a0b6-bafc69fcc0bc\",\"type\":\"Line\"},{\"attributes\":{\"data_source\":{\"id\":\"2ec5aefc-9571-4514-bdc4-c05940e25c77\",\"type\":\"ColumnDataSource\"},\"glyph\":{\"id\":\"362bcbc9-cd8e-4efb-a0b6-bafc69fcc0bc\",\"type\":\"Line\"},\"hover_glyph\":null,\"muted_glyph\":null,\"nonselection_glyph\":{\"id\":\"c629b17b-592c-4911-af9d-4fcd705b532a\",\"type\":\"Line\"},\"selection_glyph\":null,\"view\":{\"id\":\"42c3f34c-d810-436a-965a-723a25324e15\",\"type\":\"CDSView\"}},\"id\":\"567b78f1-17eb-41fd-b23d-edd591724389\",\"type\":\"GlyphRenderer\"},{\"attributes\":{},\"id\":\"df4c641b-4dbc-40c7-855f-0634aa69226d\",\"type\":\"WheelZoomTool\"},{\"attributes\":{\"source\":{\"id\":\"2ec5aefc-9571-4514-bdc4-c05940e25c77\",\"type\":\"ColumnDataSource\"}},\"id\":\"42c3f34c-d810-436a-965a-723a25324e15\",\"type\":\"CDSView\"},{\"attributes\":{},\"id\":\"273c1f26-d242-4e53-823d-7d43679a29fa\",\"type\":\"PanTool\"},{\"attributes\":{},\"id\":\"04d520ec-b824-4977-8dfa-6381e30cd708\",\"type\":\"ResetTool\"},{\"attributes\":{\"line_alpha\":0.1,\"line_color\":\"#1f77b4\",\"line_width\":1.5,\"x\":{\"field\":\"x\"},\"y\":{\"field\":\"y\"}},\"id\":\"c629b17b-592c-4911-af9d-4fcd705b532a\",\"type\":\"Line\"},{\"attributes\":{\"fill_alpha\":{\"value\":0.4},\"fill_color\":{\"value\":\"red\"},\"line_alpha\":{\"value\":0.4},\"line_color\":{\"value\":\"red\"},\"plot\":null,\"size\":10},\"id\":\"822b7183-129e-4f93-8a50-d7f2f6505b2b\",\"type\":\"NormalHead\"},{\"attributes\":{\"line_width\":1.5,\"x\":{\"field\":\"x\"},\"y\":{\"field\":\"y\"}},\"id\":\"937b9175-1f82-4498-988d-d1a2abac38ff\",\"type\":\"Line\"},{\"attributes\":{\"line_alpha\":0.1,\"line_color\":\"#1f77b4\",\"line_width\":1.5,\"x\":{\"field\":\"x\"},\"y\":{\"field\":\"y\"}},\"id\":\"4713c2e6-74ee-4ed7-a034-5d33fe4fa964\",\"type\":\"Line\"},{\"attributes\":{\"data_source\":{\"id\":\"fda1f909-10c5-4c7f-ac7f-e6dbf4cac6ac\",\"type\":\"ColumnDataSource\"},\"glyph\":{\"id\":\"937b9175-1f82-4498-988d-d1a2abac38ff\",\"type\":\"Line\"},\"hover_glyph\":null,\"muted_glyph\":null,\"nonselection_glyph\":{\"id\":\"4713c2e6-74ee-4ed7-a034-5d33fe4fa964\",\"type\":\"Line\"},\"selection_glyph\":null,\"view\":{\"id\":\"985674c5-e162-424b-ac8d-8d12ba6535a8\",\"type\":\"CDSView\"}},\"id\":\"a21c5f71-d995-4d3d-91ed-7d738d13e0fa\",\"type\":\"GlyphRenderer\"},{\"attributes\":{\"source\":{\"id\":\"fda1f909-10c5-4c7f-ac7f-e6dbf4cac6ac\",\"type\":\"ColumnDataSource\"}},\"id\":\"985674c5-e162-424b-ac8d-8d12ba6535a8\",\"type\":\"CDSView\"},{\"attributes\":{},\"id\":\"cef27112-7281-44d2-a06b-fd472aa6b20a\",\"type\":\"BasicTickFormatter\"},{\"attributes\":{\"end\":{\"id\":\"db9cca82-49d1-4616-a639-5b47b136bc23\",\"type\":\"NormalHead\"},\"line_alpha\":{\"value\":0.4},\"line_color\":{\"value\":\"blue\"},\"line_width\":{\"value\":3},\"plot\":{\"id\":\"26f60768-8304-43c6-b9e2-ed7f9f417fa6\",\"subtype\":\"Figure\",\"type\":\"Plot\"},\"source\":null,\"start\":null,\"x_end\":{\"value\":1},\"x_start\":{\"value\":0.0},\"y_end\":{\"value\":4},\"y_start\":{\"value\":0.0}},\"id\":\"5da1718a-404a-404d-8370-5eb3249b1277\",\"type\":\"Arrow\"},{\"attributes\":{\"plot\":null,\"text\":\"\"},\"id\":\"1f44f08a-a832-4664-a610-1d123f835f0d\",\"type\":\"Title\"},{\"attributes\":{\"end\":{\"id\":\"822b7183-129e-4f93-8a50-d7f2f6505b2b\",\"type\":\"NormalHead\"},\"line_alpha\":{\"value\":0.4},\"line_color\":{\"value\":\"red\"},\"line_width\":{\"value\":3},\"plot\":{\"id\":\"26f60768-8304-43c6-b9e2-ed7f9f417fa6\",\"subtype\":\"Figure\",\"type\":\"Plot\"},\"source\":null,\"start\":null,\"x_end\":{\"value\":2.5},\"x_start\":{\"value\":0.0},\"y_end\":{\"value\":10.0},\"y_start\":{\"value\":0.0}},\"id\":\"cff1c18d-9e0d-4a50-8024-e12e4c60f603\",\"type\":\"Arrow\"},{\"attributes\":{\"callback\":null,\"end\":21.0,\"start\":-21.0},\"id\":\"69a3917a-2b34-407c-b4e5-d643922885ea\",\"type\":\"Range1d\"},{\"attributes\":{},\"id\":\"937a8109-c9d4-4382-9bb0-d8fe2940a460\",\"type\":\"UnionRenderers\"},{\"attributes\":{},\"id\":\"3f622b6a-2810-44f2-b81f-0292d81908d0\",\"type\":\"BasicTickFormatter\"},{\"attributes\":{\"callback\":null,\"end\":21.0,\"start\":-21.0},\"id\":\"e87010a4-0958-4808-af95-93f0d3abe9cb\",\"type\":\"Range1d\"},{\"attributes\":{\"active_drag\":\"auto\",\"active_inspect\":\"auto\",\"active_multi\":null,\"active_scroll\":\"auto\",\"active_tap\":\"auto\",\"tools\":[{\"id\":\"df4c641b-4dbc-40c7-855f-0634aa69226d\",\"type\":\"WheelZoomTool\"},{\"id\":\"273c1f26-d242-4e53-823d-7d43679a29fa\",\"type\":\"PanTool\"},{\"id\":\"04d520ec-b824-4977-8dfa-6381e30cd708\",\"type\":\"ResetTool\"}]},\"id\":\"20ea9a9d-c308-4922-ab96-ccc2dca698ff\",\"type\":\"Toolbar\"},{\"attributes\":{},\"id\":\"28ab5e18-eddb-4036-8241-6ea8fa18ceba\",\"type\":\"BasicTicker\"},{\"attributes\":{},\"id\":\"ea09f0de-529a-40ca-a6f4-26899e31db46\",\"type\":\"Selection\"},{\"attributes\":{},\"id\":\"2987996b-086c-4048-80ac-f3c7e92a8283\",\"type\":\"UnionRenderers\"},{\"attributes\":{},\"id\":\"ad69a3ae-11c0-46bd-99a8-4b62bbea390e\",\"type\":\"Selection\"},{\"attributes\":{\"plot\":{\"id\":\"26f60768-8304-43c6-b9e2-ed7f9f417fa6\",\"subtype\":\"Figure\",\"type\":\"Plot\"},\"ticker\":{\"id\":\"2c76e0c5-ce84-40fc-8bfc-ca3e66b4d11d\",\"type\":\"BasicTicker\"}},\"id\":\"3a670f14-a3cf-4cfb-a674-b82c9323b538\",\"type\":\"Grid\"},{\"attributes\":{\"callback\":null,\"data\":{\"x\":[-30.0,30.0],\"y\":[0.0,0.0]},\"selected\":{\"id\":\"ea09f0de-529a-40ca-a6f4-26899e31db46\",\"type\":\"Selection\"},\"selection_policy\":{\"id\":\"937a8109-c9d4-4382-9bb0-d8fe2940a460\",\"type\":\"UnionRenderers\"}},\"id\":\"2ec5aefc-9571-4514-bdc4-c05940e25c77\",\"type\":\"ColumnDataSource\"},{\"attributes\":{},\"id\":\"2c76e0c5-ce84-40fc-8bfc-ca3e66b4d11d\",\"type\":\"BasicTicker\"},{\"attributes\":{\"below\":[{\"id\":\"4b300a6a-9bb4-4f67-8db5-5aca0cbd063d\",\"type\":\"LinearAxis\"}],\"left\":[{\"id\":\"7ccd21ba-8f13-4cdb-8d20-fb131a9d599b\",\"type\":\"LinearAxis\"}],\"plot_height\":700,\"plot_width\":700,\"renderers\":[{\"id\":\"4b300a6a-9bb4-4f67-8db5-5aca0cbd063d\",\"type\":\"LinearAxis\"},{\"id\":\"3a670f14-a3cf-4cfb-a674-b82c9323b538\",\"type\":\"Grid\"},{\"id\":\"7ccd21ba-8f13-4cdb-8d20-fb131a9d599b\",\"type\":\"LinearAxis\"},{\"id\":\"a7d52803-ab2e-4f80-8953-47060af40ea2\",\"type\":\"Grid\"},{\"id\":\"567b78f1-17eb-41fd-b23d-edd591724389\",\"type\":\"GlyphRenderer\"},{\"id\":\"a21c5f71-d995-4d3d-91ed-7d738d13e0fa\",\"type\":\"GlyphRenderer\"},{\"id\":\"5da1718a-404a-404d-8370-5eb3249b1277\",\"type\":\"Arrow\"},{\"id\":\"cff1c18d-9e0d-4a50-8024-e12e4c60f603\",\"type\":\"Arrow\"}],\"title\":{\"id\":\"1f44f08a-a832-4664-a610-1d123f835f0d\",\"type\":\"Title\"},\"toolbar\":{\"id\":\"20ea9a9d-c308-4922-ab96-ccc2dca698ff\",\"type\":\"Toolbar\"},\"x_range\":{\"id\":\"e87010a4-0958-4808-af95-93f0d3abe9cb\",\"type\":\"Range1d\"},\"x_scale\":{\"id\":\"3a508c5a-098c-47c5-a962-6c89bdbf64ca\",\"type\":\"LinearScale\"},\"y_range\":{\"id\":\"69a3917a-2b34-407c-b4e5-d643922885ea\",\"type\":\"Range1d\"},\"y_scale\":{\"id\":\"6ed61c1e-cb1b-4c26-9bb1-f7282d8f30b7\",\"type\":\"LinearScale\"}},\"id\":\"26f60768-8304-43c6-b9e2-ed7f9f417fa6\",\"subtype\":\"Figure\",\"type\":\"Plot\"},{\"attributes\":{\"fill_alpha\":{\"value\":0.4},\"fill_color\":{\"value\":\"blue\"},\"line_alpha\":{\"value\":0.4},\"line_color\":{\"value\":\"blue\"},\"plot\":null,\"size\":10},\"id\":\"db9cca82-49d1-4616-a639-5b47b136bc23\",\"type\":\"NormalHead\"}],\"root_ids\":[\"26f60768-8304-43c6-b9e2-ed7f9f417fa6\"]},\"title\":\"Bokeh Application\",\"version\":\"0.13.0\"}};\n",
       "  var render_items = [{\"docid\":\"777540d7-db88-4eb6-9251-7333dcc36e24\",\"roots\":{\"26f60768-8304-43c6-b9e2-ed7f9f417fa6\":\"cee2264c-2643-481b-8672-ed25a80c31ca\"}}];\n",
       "  root.Bokeh.embed.embed_items_notebook(docs_json, render_items);\n",
       "\n",
       "  }\n",
       "  if (root.Bokeh !== undefined) {\n",
       "    embed_document(root);\n",
       "  } else {\n",
       "    var attempts = 0;\n",
       "    var timer = setInterval(function(root) {\n",
       "      if (root.Bokeh !== undefined) {\n",
       "        embed_document(root);\n",
       "        clearInterval(timer);\n",
       "      }\n",
       "      attempts++;\n",
       "      if (attempts > 100) {\n",
       "        console.log(\"Bokeh: ERROR: Unable to run BokehJS code because BokehJS library is missing\")\n",
       "        clearInterval(timer);\n",
       "      }\n",
       "    }, 10, root)\n",
       "  }\n",
       "})(window);"
      ],
      "application/vnd.bokehjs_exec.v0+json": ""
     },
     "metadata": {
      "application/vnd.bokehjs_exec.v0+json": {
       "id": "26f60768-8304-43c6-b9e2-ed7f9f417fa6"
      }
     },
     "output_type": "display_data"
    }
   ],
   "source": [
    "# Let's visualize them...\n",
    "plot.clear()\n",
    "plot.graph(30)\n",
    "plot.vector(a,alpha=.4)\n",
    "plot.vector(b,alpha=.4)\n",
    "plot.show()"
   ]
  },
  {
   "cell_type": "markdown",
   "metadata": {},
   "source": [
    "When visualized the dependence becomes apparent. No linear combination of these two vectors will allow them to break into a new dimension.\n",
    "\n",
    "To run this point home, let's repeat the exercise from above."
   ]
  },
  {
   "cell_type": "code",
   "execution_count": 21,
   "metadata": {},
   "outputs": [],
   "source": [
    "# Let's draw two random constants 50 times\n",
    "for i in range(50):\n",
    "    c1,c2 = np.random.uniform(low=-5,high=5,size=2)\n",
    "    plot.vector(c1*a + c2*b,add_color='black',alpha=.2)"
   ]
  },
  {
   "cell_type": "code",
   "execution_count": 22,
   "metadata": {},
   "outputs": [
    {
     "data": {
      "text/html": [
       "\n",
       "\n",
       "\n",
       "\n",
       "\n",
       "\n",
       "  <div class=\"bk-root\" id=\"ef819041-2cc9-4ff0-ba65-350a59dfacf4\"></div>\n"
      ]
     },
     "metadata": {},
     "output_type": "display_data"
    },
    {
     "data": {
      "application/javascript": [
       "(function(root) {\n",
       "  function embed_document(root) {\n",
       "    \n",
       "  var docs_json = {\"0661deb8-92a2-4674-85ed-44741d86e82e\":{\"roots\":{\"references\":[{\"attributes\":{\"fill_alpha\":{\"value\":0.2},\"line_alpha\":{\"value\":0.2},\"plot\":null,\"size\":10},\"id\":\"ee8861de-9b39-42ae-9fc5-09da8f3eacf4\",\"type\":\"NormalHead\"},{\"attributes\":{\"fill_alpha\":{\"value\":0.2},\"line_alpha\":{\"value\":0.2},\"plot\":null,\"size\":10},\"id\":\"e49be623-6613-4be1-82fe-2e25f732c345\",\"type\":\"NormalHead\"},{\"attributes\":{\"callback\":null,\"data\":{\"x\":[0.0,0.0],\"y\":[-30.0,30.0]},\"selected\":{\"id\":\"ad69a3ae-11c0-46bd-99a8-4b62bbea390e\",\"type\":\"Selection\"},\"selection_policy\":{\"id\":\"2987996b-086c-4048-80ac-f3c7e92a8283\",\"type\":\"UnionRenderers\"}},\"id\":\"fda1f909-10c5-4c7f-ac7f-e6dbf4cac6ac\",\"type\":\"ColumnDataSource\"},{\"attributes\":{\"fill_alpha\":{\"value\":0.2},\"line_alpha\":{\"value\":0.2},\"plot\":null,\"size\":10},\"id\":\"f5730e72-2927-4952-ba20-9dedb07fceff\",\"type\":\"NormalHead\"},{\"attributes\":{},\"id\":\"3a508c5a-098c-47c5-a962-6c89bdbf64ca\",\"type\":\"LinearScale\"},{\"attributes\":{\"fill_alpha\":{\"value\":0.2},\"line_alpha\":{\"value\":0.2},\"plot\":null,\"size\":10},\"id\":\"0e67472d-852f-492f-bb6a-1a8312c1de69\",\"type\":\"NormalHead\"},{\"attributes\":{\"end\":{\"id\":\"0d26804a-7a9e-40f7-b2d6-2822134e4730\",\"type\":\"NormalHead\"},\"line_alpha\":{\"value\":0.2},\"line_width\":{\"value\":3},\"plot\":{\"id\":\"26f60768-8304-43c6-b9e2-ed7f9f417fa6\",\"subtype\":\"Figure\",\"type\":\"Plot\"},\"source\":null,\"start\":null,\"x_end\":{\"value\":4.231507984747399},\"x_start\":{\"value\":0.0},\"y_end\":{\"value\":16.926031938989595},\"y_start\":{\"value\":0.0}},\"id\":\"6e166747-8217-4397-a215-b0ae52359ab6\",\"type\":\"Arrow\"},{\"attributes\":{\"end\":{\"id\":\"1634ca7d-1bc6-4a77-bda2-0ee625beb423\",\"type\":\"NormalHead\"},\"line_alpha\":{\"value\":0.2},\"line_width\":{\"value\":3},\"plot\":{\"id\":\"26f60768-8304-43c6-b9e2-ed7f9f417fa6\",\"subtype\":\"Figure\",\"type\":\"Plot\"},\"source\":null,\"start\":null,\"x_end\":{\"value\":10.977203421995075},\"x_start\":{\"value\":0.0},\"y_end\":{\"value\":43.9088136879803},\"y_start\":{\"value\":0.0}},\"id\":\"6ae0bb60-3eb6-481c-8132-70192bc65826\",\"type\":\"Arrow\"},{\"attributes\":{\"formatter\":{\"id\":\"3f622b6a-2810-44f2-b81f-0292d81908d0\",\"type\":\"BasicTickFormatter\"},\"plot\":{\"id\":\"26f60768-8304-43c6-b9e2-ed7f9f417fa6\",\"subtype\":\"Figure\",\"type\":\"Plot\"},\"ticker\":{\"id\":\"28ab5e18-eddb-4036-8241-6ea8fa18ceba\",\"type\":\"BasicTicker\"}},\"id\":\"7ccd21ba-8f13-4cdb-8d20-fb131a9d599b\",\"type\":\"LinearAxis\"},{\"attributes\":{\"fill_alpha\":{\"value\":0.2},\"line_alpha\":{\"value\":0.2},\"plot\":null,\"size\":10},\"id\":\"b304c92a-68e2-4b33-a35d-f8da5d314f51\",\"type\":\"NormalHead\"},{\"attributes\":{\"dimension\":1,\"plot\":{\"id\":\"26f60768-8304-43c6-b9e2-ed7f9f417fa6\",\"subtype\":\"Figure\",\"type\":\"Plot\"},\"ticker\":{\"id\":\"28ab5e18-eddb-4036-8241-6ea8fa18ceba\",\"type\":\"BasicTicker\"}},\"id\":\"a7d52803-ab2e-4f80-8953-47060af40ea2\",\"type\":\"Grid\"},{\"attributes\":{\"end\":{\"id\":\"f5730e72-2927-4952-ba20-9dedb07fceff\",\"type\":\"NormalHead\"},\"line_alpha\":{\"value\":0.2},\"line_width\":{\"value\":3},\"plot\":{\"id\":\"26f60768-8304-43c6-b9e2-ed7f9f417fa6\",\"subtype\":\"Figure\",\"type\":\"Plot\"},\"source\":null,\"start\":null,\"x_end\":{\"value\":0.6922931199319846},\"x_start\":{\"value\":0.0},\"y_end\":{\"value\":2.7691724797279385},\"y_start\":{\"value\":0.0}},\"id\":\"8d88eac0-a2a7-478d-93a3-cf68fa8078aa\",\"type\":\"Arrow\"},{\"attributes\":{\"line_width\":1.5,\"x\":{\"field\":\"x\"},\"y\":{\"field\":\"y\"}},\"id\":\"362bcbc9-cd8e-4efb-a0b6-bafc69fcc0bc\",\"type\":\"Line\"},{\"attributes\":{\"data_source\":{\"id\":\"2ec5aefc-9571-4514-bdc4-c05940e25c77\",\"type\":\"ColumnDataSource\"},\"glyph\":{\"id\":\"362bcbc9-cd8e-4efb-a0b6-bafc69fcc0bc\",\"type\":\"Line\"},\"hover_glyph\":null,\"muted_glyph\":null,\"nonselection_glyph\":{\"id\":\"c629b17b-592c-4911-af9d-4fcd705b532a\",\"type\":\"Line\"},\"selection_glyph\":null,\"view\":{\"id\":\"42c3f34c-d810-436a-965a-723a25324e15\",\"type\":\"CDSView\"}},\"id\":\"567b78f1-17eb-41fd-b23d-edd591724389\",\"type\":\"GlyphRenderer\"},{\"attributes\":{\"end\":{\"id\":\"0e67472d-852f-492f-bb6a-1a8312c1de69\",\"type\":\"NormalHead\"},\"line_alpha\":{\"value\":0.2},\"line_width\":{\"value\":3},\"plot\":{\"id\":\"26f60768-8304-43c6-b9e2-ed7f9f417fa6\",\"subtype\":\"Figure\",\"type\":\"Plot\"},\"source\":null,\"start\":null,\"x_end\":{\"value\":9.572818636006605},\"x_start\":{\"value\":0.0},\"y_end\":{\"value\":38.29127454402642},\"y_start\":{\"value\":0.0}},\"id\":\"99d967e1-6dd8-4ea6-b4d5-216b1ea70907\",\"type\":\"Arrow\"},{\"attributes\":{\"end\":{\"id\":\"71ac0d8c-183b-4557-95ad-7c45902fd03c\",\"type\":\"NormalHead\"},\"line_alpha\":{\"value\":0.2},\"line_width\":{\"value\":3},\"plot\":{\"id\":\"26f60768-8304-43c6-b9e2-ed7f9f417fa6\",\"subtype\":\"Figure\",\"type\":\"Plot\"},\"source\":null,\"start\":null,\"x_end\":{\"value\":-15.777424228020816},\"x_start\":{\"value\":0.0},\"y_end\":{\"value\":-63.109696912083265},\"y_start\":{\"value\":0.0}},\"id\":\"e39ac75d-3f4c-4738-9dab-01d636e304ee\",\"type\":\"Arrow\"},{\"attributes\":{},\"id\":\"df4c641b-4dbc-40c7-855f-0634aa69226d\",\"type\":\"WheelZoomTool\"},{\"attributes\":{\"end\":{\"id\":\"b304c92a-68e2-4b33-a35d-f8da5d314f51\",\"type\":\"NormalHead\"},\"line_alpha\":{\"value\":0.2},\"line_width\":{\"value\":3},\"plot\":{\"id\":\"26f60768-8304-43c6-b9e2-ed7f9f417fa6\",\"subtype\":\"Figure\",\"type\":\"Plot\"},\"source\":null,\"start\":null,\"x_end\":{\"value\":-6.531920800778445},\"x_start\":{\"value\":0.0},\"y_end\":{\"value\":-26.12768320311378},\"y_start\":{\"value\":0.0}},\"id\":\"9f0ed9a4-bd2d-4813-8608-9bc148df579c\",\"type\":\"Arrow\"},{\"attributes\":{\"source\":{\"id\":\"2ec5aefc-9571-4514-bdc4-c05940e25c77\",\"type\":\"ColumnDataSource\"}},\"id\":\"42c3f34c-d810-436a-965a-723a25324e15\",\"type\":\"CDSView\"},{\"attributes\":{\"fill_alpha\":{\"value\":0.2},\"line_alpha\":{\"value\":0.2},\"plot\":null,\"size\":10},\"id\":\"087e96cc-6d09-424c-a6eb-d24e18f8a722\",\"type\":\"NormalHead\"},{\"attributes\":{},\"id\":\"273c1f26-d242-4e53-823d-7d43679a29fa\",\"type\":\"PanTool\"},{\"attributes\":{\"end\":{\"id\":\"ae1d9e7b-23ee-4cc3-8c61-752abc8a3e22\",\"type\":\"NormalHead\"},\"line_alpha\":{\"value\":0.2},\"line_width\":{\"value\":3},\"plot\":{\"id\":\"26f60768-8304-43c6-b9e2-ed7f9f417fa6\",\"subtype\":\"Figure\",\"type\":\"Plot\"},\"source\":null,\"start\":null,\"x_end\":{\"value\":0.7296704788547759},\"x_start\":{\"value\":0.0},\"y_end\":{\"value\":2.9186819154191035},\"y_start\":{\"value\":0.0}},\"id\":\"427f4af4-f09c-4f37-83db-8835eca4c6ca\",\"type\":\"Arrow\"},{\"attributes\":{},\"id\":\"04d520ec-b824-4977-8dfa-6381e30cd708\",\"type\":\"ResetTool\"},{\"attributes\":{\"line_alpha\":0.1,\"line_color\":\"#1f77b4\",\"line_width\":1.5,\"x\":{\"field\":\"x\"},\"y\":{\"field\":\"y\"}},\"id\":\"c629b17b-592c-4911-af9d-4fcd705b532a\",\"type\":\"Line\"},{\"attributes\":{\"fill_alpha\":{\"value\":0.2},\"line_alpha\":{\"value\":0.2},\"plot\":null,\"size\":10},\"id\":\"7a6aaf52-4994-47ca-b056-b969be033c50\",\"type\":\"NormalHead\"},{\"attributes\":{\"end\":{\"id\":\"e49be623-6613-4be1-82fe-2e25f732c345\",\"type\":\"NormalHead\"},\"line_alpha\":{\"value\":0.2},\"line_width\":{\"value\":3},\"plot\":{\"id\":\"26f60768-8304-43c6-b9e2-ed7f9f417fa6\",\"subtype\":\"Figure\",\"type\":\"Plot\"},\"source\":null,\"start\":null,\"x_end\":{\"value\":-1.6892859975753418},\"x_start\":{\"value\":0.0},\"y_end\":{\"value\":-6.757143990301367},\"y_start\":{\"value\":0.0}},\"id\":\"18952921-935a-445c-ac80-fd73766264f2\",\"type\":\"Arrow\"},{\"attributes\":{\"fill_alpha\":{\"value\":0.4},\"fill_color\":{\"value\":\"red\"},\"line_alpha\":{\"value\":0.4},\"line_color\":{\"value\":\"red\"},\"plot\":null,\"size\":10},\"id\":\"822b7183-129e-4f93-8a50-d7f2f6505b2b\",\"type\":\"NormalHead\"},{\"attributes\":{\"line_width\":1.5,\"x\":{\"field\":\"x\"},\"y\":{\"field\":\"y\"}},\"id\":\"937b9175-1f82-4498-988d-d1a2abac38ff\",\"type\":\"Line\"},{\"attributes\":{\"fill_alpha\":{\"value\":0.2},\"line_alpha\":{\"value\":0.2},\"plot\":null,\"size\":10},\"id\":\"e8a19eaa-edb9-40b1-9fc6-6870770b1c64\",\"type\":\"NormalHead\"},{\"attributes\":{\"end\":{\"id\":\"087e96cc-6d09-424c-a6eb-d24e18f8a722\",\"type\":\"NormalHead\"},\"line_alpha\":{\"value\":0.2},\"line_width\":{\"value\":3},\"plot\":{\"id\":\"26f60768-8304-43c6-b9e2-ed7f9f417fa6\",\"subtype\":\"Figure\",\"type\":\"Plot\"},\"source\":null,\"start\":null,\"x_end\":{\"value\":-2.4420745927829643},\"x_start\":{\"value\":0.0},\"y_end\":{\"value\":-9.768298371131857},\"y_start\":{\"value\":0.0}},\"id\":\"f22fb748-0cb6-4c49-bd6c-79edf17ffad8\",\"type\":\"Arrow\"},{\"attributes\":{\"line_alpha\":0.1,\"line_color\":\"#1f77b4\",\"line_width\":1.5,\"x\":{\"field\":\"x\"},\"y\":{\"field\":\"y\"}},\"id\":\"4713c2e6-74ee-4ed7-a034-5d33fe4fa964\",\"type\":\"Line\"},{\"attributes\":{\"data_source\":{\"id\":\"fda1f909-10c5-4c7f-ac7f-e6dbf4cac6ac\",\"type\":\"ColumnDataSource\"},\"glyph\":{\"id\":\"937b9175-1f82-4498-988d-d1a2abac38ff\",\"type\":\"Line\"},\"hover_glyph\":null,\"muted_glyph\":null,\"nonselection_glyph\":{\"id\":\"4713c2e6-74ee-4ed7-a034-5d33fe4fa964\",\"type\":\"Line\"},\"selection_glyph\":null,\"view\":{\"id\":\"985674c5-e162-424b-ac8d-8d12ba6535a8\",\"type\":\"CDSView\"}},\"id\":\"a21c5f71-d995-4d3d-91ed-7d738d13e0fa\",\"type\":\"GlyphRenderer\"},{\"attributes\":{\"fill_alpha\":{\"value\":0.2},\"line_alpha\":{\"value\":0.2},\"plot\":null,\"size\":10},\"id\":\"73f92e99-c5b4-4931-b4e0-79cc6ed5db01\",\"type\":\"NormalHead\"},{\"attributes\":{\"end\":{\"id\":\"7a6aaf52-4994-47ca-b056-b969be033c50\",\"type\":\"NormalHead\"},\"line_alpha\":{\"value\":0.2},\"line_width\":{\"value\":3},\"plot\":{\"id\":\"26f60768-8304-43c6-b9e2-ed7f9f417fa6\",\"subtype\":\"Figure\",\"type\":\"Plot\"},\"source\":null,\"start\":null,\"x_end\":{\"value\":4.298851458915783},\"x_start\":{\"value\":0.0},\"y_end\":{\"value\":17.19540583566313},\"y_start\":{\"value\":0.0}},\"id\":\"e1d107c0-021f-4e2d-9b55-bbb729f1a9de\",\"type\":\"Arrow\"},{\"attributes\":{\"source\":{\"id\":\"fda1f909-10c5-4c7f-ac7f-e6dbf4cac6ac\",\"type\":\"ColumnDataSource\"}},\"id\":\"985674c5-e162-424b-ac8d-8d12ba6535a8\",\"type\":\"CDSView\"},{\"attributes\":{},\"id\":\"cef27112-7281-44d2-a06b-fd472aa6b20a\",\"type\":\"BasicTickFormatter\"},{\"attributes\":{\"fill_alpha\":{\"value\":0.2},\"line_alpha\":{\"value\":0.2},\"plot\":null,\"size\":10},\"id\":\"25a0c702-741b-4791-a92b-4526e65893b3\",\"type\":\"NormalHead\"},{\"attributes\":{\"end\":{\"id\":\"e8a19eaa-edb9-40b1-9fc6-6870770b1c64\",\"type\":\"NormalHead\"},\"line_alpha\":{\"value\":0.2},\"line_width\":{\"value\":3},\"plot\":{\"id\":\"26f60768-8304-43c6-b9e2-ed7f9f417fa6\",\"subtype\":\"Figure\",\"type\":\"Plot\"},\"source\":null,\"start\":null,\"x_end\":{\"value\":-12.925035947212486},\"x_start\":{\"value\":0.0},\"y_end\":{\"value\":-51.70014378884994},\"y_start\":{\"value\":0.0}},\"id\":\"604701d8-bab8-4670-adde-e5551cf46b09\",\"type\":\"Arrow\"},{\"attributes\":{\"fill_alpha\":{\"value\":0.2},\"line_alpha\":{\"value\":0.2},\"plot\":null,\"size\":10},\"id\":\"0d26804a-7a9e-40f7-b2d6-2822134e4730\",\"type\":\"NormalHead\"},{\"attributes\":{\"end\":{\"id\":\"db9cca82-49d1-4616-a639-5b47b136bc23\",\"type\":\"NormalHead\"},\"line_alpha\":{\"value\":0.4},\"line_color\":{\"value\":\"blue\"},\"line_width\":{\"value\":3},\"plot\":{\"id\":\"26f60768-8304-43c6-b9e2-ed7f9f417fa6\",\"subtype\":\"Figure\",\"type\":\"Plot\"},\"source\":null,\"start\":null,\"x_end\":{\"value\":1},\"x_start\":{\"value\":0.0},\"y_end\":{\"value\":4},\"y_start\":{\"value\":0.0}},\"id\":\"5da1718a-404a-404d-8370-5eb3249b1277\",\"type\":\"Arrow\"},{\"attributes\":{\"fill_alpha\":{\"value\":0.2},\"line_alpha\":{\"value\":0.2},\"plot\":null,\"size\":10},\"id\":\"bb3f3522-1c91-4afb-bfa4-63a71fa640e6\",\"type\":\"NormalHead\"},{\"attributes\":{\"end\":{\"id\":\"73f92e99-c5b4-4931-b4e0-79cc6ed5db01\",\"type\":\"NormalHead\"},\"line_alpha\":{\"value\":0.2},\"line_width\":{\"value\":3},\"plot\":{\"id\":\"26f60768-8304-43c6-b9e2-ed7f9f417fa6\",\"subtype\":\"Figure\",\"type\":\"Plot\"},\"source\":null,\"start\":null,\"x_end\":{\"value\":-1.7958300690239088},\"x_start\":{\"value\":0.0},\"y_end\":{\"value\":-7.183320276095635},\"y_start\":{\"value\":0.0}},\"id\":\"0a032677-7ef7-4908-b29a-36c278546587\",\"type\":\"Arrow\"},{\"attributes\":{\"plot\":null,\"text\":\"\"},\"id\":\"1f44f08a-a832-4664-a610-1d123f835f0d\",\"type\":\"Title\"},{\"attributes\":{\"fill_alpha\":{\"value\":0.2},\"line_alpha\":{\"value\":0.2},\"plot\":null,\"size\":10},\"id\":\"026d0c95-4209-42d7-93c0-25b9e3830956\",\"type\":\"NormalHead\"},{\"attributes\":{\"end\":{\"id\":\"822b7183-129e-4f93-8a50-d7f2f6505b2b\",\"type\":\"NormalHead\"},\"line_alpha\":{\"value\":0.4},\"line_color\":{\"value\":\"red\"},\"line_width\":{\"value\":3},\"plot\":{\"id\":\"26f60768-8304-43c6-b9e2-ed7f9f417fa6\",\"subtype\":\"Figure\",\"type\":\"Plot\"},\"source\":null,\"start\":null,\"x_end\":{\"value\":2.5},\"x_start\":{\"value\":0.0},\"y_end\":{\"value\":10.0},\"y_start\":{\"value\":0.0}},\"id\":\"cff1c18d-9e0d-4a50-8024-e12e4c60f603\",\"type\":\"Arrow\"},{\"attributes\":{\"end\":{\"id\":\"25a0c702-741b-4791-a92b-4526e65893b3\",\"type\":\"NormalHead\"},\"line_alpha\":{\"value\":0.2},\"line_width\":{\"value\":3},\"plot\":{\"id\":\"26f60768-8304-43c6-b9e2-ed7f9f417fa6\",\"subtype\":\"Figure\",\"type\":\"Plot\"},\"source\":null,\"start\":null,\"x_end\":{\"value\":-0.7371937017818264},\"x_start\":{\"value\":0.0},\"y_end\":{\"value\":-2.9487748071273057},\"y_start\":{\"value\":0.0}},\"id\":\"0c39fba3-d015-4b1d-87e6-db6b16d1e68b\",\"type\":\"Arrow\"},{\"attributes\":{\"fill_alpha\":{\"value\":0.2},\"line_alpha\":{\"value\":0.2},\"plot\":null,\"size\":10},\"id\":\"f05e246d-6b97-41ff-8a57-df10b868ea20\",\"type\":\"NormalHead\"},{\"attributes\":{},\"id\":\"937a8109-c9d4-4382-9bb0-d8fe2940a460\",\"type\":\"UnionRenderers\"},{\"attributes\":{\"end\":{\"id\":\"bb3f3522-1c91-4afb-bfa4-63a71fa640e6\",\"type\":\"NormalHead\"},\"line_alpha\":{\"value\":0.2},\"line_width\":{\"value\":3},\"plot\":{\"id\":\"26f60768-8304-43c6-b9e2-ed7f9f417fa6\",\"subtype\":\"Figure\",\"type\":\"Plot\"},\"source\":null,\"start\":null,\"x_end\":{\"value\":-10.009669346435789},\"x_start\":{\"value\":0.0},\"y_end\":{\"value\":-40.038677385743156},\"y_start\":{\"value\":0.0}},\"id\":\"57c51b88-088e-4f4b-a4df-afa779f6ead4\",\"type\":\"Arrow\"},{\"attributes\":{},\"id\":\"3f622b6a-2810-44f2-b81f-0292d81908d0\",\"type\":\"BasicTickFormatter\"},{\"attributes\":{\"fill_alpha\":{\"value\":0.2},\"line_alpha\":{\"value\":0.2},\"plot\":null,\"size\":10},\"id\":\"71ac0d8c-183b-4557-95ad-7c45902fd03c\",\"type\":\"NormalHead\"},{\"attributes\":{\"fill_alpha\":{\"value\":0.2},\"line_alpha\":{\"value\":0.2},\"plot\":null,\"size\":10},\"id\":\"b75a3894-1ee4-49e8-9efb-dbea3a8e617b\",\"type\":\"NormalHead\"},{\"attributes\":{\"end\":{\"id\":\"026d0c95-4209-42d7-93c0-25b9e3830956\",\"type\":\"NormalHead\"},\"line_alpha\":{\"value\":0.2},\"line_width\":{\"value\":3},\"plot\":{\"id\":\"26f60768-8304-43c6-b9e2-ed7f9f417fa6\",\"subtype\":\"Figure\",\"type\":\"Plot\"},\"source\":null,\"start\":null,\"x_end\":{\"value\":7.611138250574858},\"x_start\":{\"value\":0.0},\"y_end\":{\"value\":30.444553002299433},\"y_start\":{\"value\":0.0}},\"id\":\"ac3613a8-ac9e-4bd1-a3f0-56e3c857e6e5\",\"type\":\"Arrow\"},{\"attributes\":{},\"id\":\"ea09f0de-529a-40ca-a6f4-26899e31db46\",\"type\":\"Selection\"},{\"attributes\":{\"fill_alpha\":{\"value\":0.2},\"line_alpha\":{\"value\":0.2},\"plot\":null,\"size\":10},\"id\":\"a76b16bb-8385-4bba-b46c-4046f066ae03\",\"type\":\"NormalHead\"},{\"attributes\":{},\"id\":\"2987996b-086c-4048-80ac-f3c7e92a8283\",\"type\":\"UnionRenderers\"},{\"attributes\":{\"end\":{\"id\":\"f05e246d-6b97-41ff-8a57-df10b868ea20\",\"type\":\"NormalHead\"},\"line_alpha\":{\"value\":0.2},\"line_width\":{\"value\":3},\"plot\":{\"id\":\"26f60768-8304-43c6-b9e2-ed7f9f417fa6\",\"subtype\":\"Figure\",\"type\":\"Plot\"},\"source\":null,\"start\":null,\"x_end\":{\"value\":-6.838518352707597},\"x_start\":{\"value\":0.0},\"y_end\":{\"value\":-27.354073410830388},\"y_start\":{\"value\":0.0}},\"id\":\"0532bc8f-325f-4d0a-84cd-435bff809ba1\",\"type\":\"Arrow\"},{\"attributes\":{},\"id\":\"ad69a3ae-11c0-46bd-99a8-4b62bbea390e\",\"type\":\"Selection\"},{\"attributes\":{\"fill_alpha\":{\"value\":0.2},\"line_alpha\":{\"value\":0.2},\"plot\":null,\"size\":10},\"id\":\"ae1d9e7b-23ee-4cc3-8c61-752abc8a3e22\",\"type\":\"NormalHead\"},{\"attributes\":{\"fill_alpha\":{\"value\":0.2},\"line_alpha\":{\"value\":0.2},\"plot\":null,\"size\":10},\"id\":\"93aa446a-07de-419a-941f-2273d7c93ab8\",\"type\":\"NormalHead\"},{\"attributes\":{\"plot\":{\"id\":\"26f60768-8304-43c6-b9e2-ed7f9f417fa6\",\"subtype\":\"Figure\",\"type\":\"Plot\"},\"ticker\":{\"id\":\"2c76e0c5-ce84-40fc-8bfc-ca3e66b4d11d\",\"type\":\"BasicTicker\"}},\"id\":\"3a670f14-a3cf-4cfb-a674-b82c9323b538\",\"type\":\"Grid\"},{\"attributes\":{\"end\":{\"id\":\"94586129-5c64-4d63-8edb-bd01b37b233f\",\"type\":\"NormalHead\"},\"line_alpha\":{\"value\":0.2},\"line_width\":{\"value\":3},\"plot\":{\"id\":\"26f60768-8304-43c6-b9e2-ed7f9f417fa6\",\"subtype\":\"Figure\",\"type\":\"Plot\"},\"source\":null,\"start\":null,\"x_end\":{\"value\":5.920052841654644},\"x_start\":{\"value\":0.0},\"y_end\":{\"value\":23.680211366618575},\"y_start\":{\"value\":0.0}},\"id\":\"99f93c71-1e6d-4b50-8796-0beeac34bc64\",\"type\":\"Arrow\"},{\"attributes\":{\"end\":{\"id\":\"b75a3894-1ee4-49e8-9efb-dbea3a8e617b\",\"type\":\"NormalHead\"},\"line_alpha\":{\"value\":0.2},\"line_width\":{\"value\":3},\"plot\":{\"id\":\"26f60768-8304-43c6-b9e2-ed7f9f417fa6\",\"subtype\":\"Figure\",\"type\":\"Plot\"},\"source\":null,\"start\":null,\"x_end\":{\"value\":0.26895108433287884},\"x_start\":{\"value\":0.0},\"y_end\":{\"value\":1.0758043373315154},\"y_start\":{\"value\":0.0}},\"id\":\"87460634-cd27-4159-9f57-6fe400a07469\",\"type\":\"Arrow\"},{\"attributes\":{\"end\":{\"id\":\"86af1ef0-343c-44cf-9b79-b97d222a705b\",\"type\":\"NormalHead\"},\"line_alpha\":{\"value\":0.2},\"line_width\":{\"value\":3},\"plot\":{\"id\":\"26f60768-8304-43c6-b9e2-ed7f9f417fa6\",\"subtype\":\"Figure\",\"type\":\"Plot\"},\"source\":null,\"start\":null,\"x_end\":{\"value\":-5.319309633695132},\"x_start\":{\"value\":0.0},\"y_end\":{\"value\":-21.27723853478053},\"y_start\":{\"value\":0.0}},\"id\":\"8953aa20-d10b-4cc4-a310-4a1709535fd0\",\"type\":\"Arrow\"},{\"attributes\":{},\"id\":\"2c76e0c5-ce84-40fc-8bfc-ca3e66b4d11d\",\"type\":\"BasicTicker\"},{\"attributes\":{\"fill_alpha\":{\"value\":0.2},\"line_alpha\":{\"value\":0.2},\"plot\":null,\"size\":10},\"id\":\"482b35dd-758a-46fc-9c9f-a9c7894d17c5\",\"type\":\"NormalHead\"},{\"attributes\":{\"end\":{\"id\":\"a76b16bb-8385-4bba-b46c-4046f066ae03\",\"type\":\"NormalHead\"},\"line_alpha\":{\"value\":0.2},\"line_width\":{\"value\":3},\"plot\":{\"id\":\"26f60768-8304-43c6-b9e2-ed7f9f417fa6\",\"subtype\":\"Figure\",\"type\":\"Plot\"},\"source\":null,\"start\":null,\"x_end\":{\"value\":11.362199552512728},\"x_start\":{\"value\":0.0},\"y_end\":{\"value\":45.44879821005091},\"y_start\":{\"value\":0.0}},\"id\":\"70d58104-7504-40ca-a5af-59a23b4fc477\",\"type\":\"Arrow\"},{\"attributes\":{\"fill_alpha\":{\"value\":0.2},\"line_alpha\":{\"value\":0.2},\"plot\":null,\"size\":10},\"id\":\"9e48a145-9b2c-4a13-b80c-90bf7f4fe787\",\"type\":\"NormalHead\"},{\"attributes\":{\"fill_alpha\":{\"value\":0.2},\"line_alpha\":{\"value\":0.2},\"plot\":null,\"size\":10},\"id\":\"fa68f043-654f-42e7-8e07-375ae56f61ba\",\"type\":\"NormalHead\"},{\"attributes\":{\"end\":{\"id\":\"93aa446a-07de-419a-941f-2273d7c93ab8\",\"type\":\"NormalHead\"},\"line_alpha\":{\"value\":0.2},\"line_width\":{\"value\":3},\"plot\":{\"id\":\"26f60768-8304-43c6-b9e2-ed7f9f417fa6\",\"subtype\":\"Figure\",\"type\":\"Plot\"},\"source\":null,\"start\":null,\"x_end\":{\"value\":13.105270833241034},\"x_start\":{\"value\":0.0},\"y_end\":{\"value\":52.42108333296414},\"y_start\":{\"value\":0.0}},\"id\":\"c3978ee8-252d-4b53-ae97-9e39a034c077\",\"type\":\"Arrow\"},{\"attributes\":{\"fill_alpha\":{\"value\":0.2},\"line_alpha\":{\"value\":0.2},\"plot\":null,\"size\":10},\"id\":\"94586129-5c64-4d63-8edb-bd01b37b233f\",\"type\":\"NormalHead\"},{\"attributes\":{\"fill_alpha\":{\"value\":0.2},\"line_alpha\":{\"value\":0.2},\"plot\":null,\"size\":10},\"id\":\"5a115135-fa93-463c-865f-225105770e3a\",\"type\":\"NormalHead\"},{\"attributes\":{\"end\":{\"id\":\"482b35dd-758a-46fc-9c9f-a9c7894d17c5\",\"type\":\"NormalHead\"},\"line_alpha\":{\"value\":0.2},\"line_width\":{\"value\":3},\"plot\":{\"id\":\"26f60768-8304-43c6-b9e2-ed7f9f417fa6\",\"subtype\":\"Figure\",\"type\":\"Plot\"},\"source\":null,\"start\":null,\"x_end\":{\"value\":-1.451427998478636},\"x_start\":{\"value\":0.0},\"y_end\":{\"value\":-5.805711993914544},\"y_start\":{\"value\":0.0}},\"id\":\"4aab62b4-1d77-4044-8928-94fbfa1cb01f\",\"type\":\"Arrow\"},{\"attributes\":{\"fill_alpha\":{\"value\":0.2},\"line_alpha\":{\"value\":0.2},\"plot\":null,\"size\":10},\"id\":\"8063b540-b6b1-4c26-b79f-fbd8580f3187\",\"type\":\"NormalHead\"},{\"attributes\":{\"end\":{\"id\":\"fa68f043-654f-42e7-8e07-375ae56f61ba\",\"type\":\"NormalHead\"},\"line_alpha\":{\"value\":0.2},\"line_width\":{\"value\":3},\"plot\":{\"id\":\"26f60768-8304-43c6-b9e2-ed7f9f417fa6\",\"subtype\":\"Figure\",\"type\":\"Plot\"},\"source\":null,\"start\":null,\"x_end\":{\"value\":10.59233130250916},\"x_start\":{\"value\":0.0},\"y_end\":{\"value\":42.36932521003664},\"y_start\":{\"value\":0.0}},\"id\":\"9dfdd407-37cf-479d-85fc-73950e3caef0\",\"type\":\"Arrow\"},{\"attributes\":{\"fill_alpha\":{\"value\":0.2},\"line_alpha\":{\"value\":0.2},\"plot\":null,\"size\":10},\"id\":\"fa2f860c-54f4-499e-b650-d6708a8c3c24\",\"type\":\"NormalHead\"},{\"attributes\":{\"end\":{\"id\":\"5a115135-fa93-463c-865f-225105770e3a\",\"type\":\"NormalHead\"},\"line_alpha\":{\"value\":0.2},\"line_width\":{\"value\":3},\"plot\":{\"id\":\"26f60768-8304-43c6-b9e2-ed7f9f417fa6\",\"subtype\":\"Figure\",\"type\":\"Plot\"},\"source\":null,\"start\":null,\"x_end\":{\"value\":12.529007181475876},\"x_start\":{\"value\":0.0},\"y_end\":{\"value\":50.116028725903504},\"y_start\":{\"value\":0.0}},\"id\":\"00555576-4578-46cd-b7c4-cda4587ef4eb\",\"type\":\"Arrow\"},{\"attributes\":{\"fill_alpha\":{\"value\":0.2},\"line_alpha\":{\"value\":0.2},\"plot\":null,\"size\":10},\"id\":\"1da3b81b-0d70-47a9-95d6-964e9f8ca5aa\",\"type\":\"NormalHead\"},{\"attributes\":{\"end\":{\"id\":\"8063b540-b6b1-4c26-b79f-fbd8580f3187\",\"type\":\"NormalHead\"},\"line_alpha\":{\"value\":0.2},\"line_width\":{\"value\":3},\"plot\":{\"id\":\"26f60768-8304-43c6-b9e2-ed7f9f417fa6\",\"subtype\":\"Figure\",\"type\":\"Plot\"},\"source\":null,\"start\":null,\"x_end\":{\"value\":7.992651847616548},\"x_start\":{\"value\":0.0},\"y_end\":{\"value\":31.970607390466192},\"y_start\":{\"value\":0.0}},\"id\":\"29e3d100-5356-4587-8775-07ecae503139\",\"type\":\"Arrow\"},{\"attributes\":{\"fill_alpha\":{\"value\":0.2},\"line_alpha\":{\"value\":0.2},\"plot\":null,\"size\":10},\"id\":\"05a06973-74c6-497d-ba52-51ead9dc7c1e\",\"type\":\"NormalHead\"},{\"attributes\":{\"end\":{\"id\":\"fa2f860c-54f4-499e-b650-d6708a8c3c24\",\"type\":\"NormalHead\"},\"line_alpha\":{\"value\":0.2},\"line_width\":{\"value\":3},\"plot\":{\"id\":\"26f60768-8304-43c6-b9e2-ed7f9f417fa6\",\"subtype\":\"Figure\",\"type\":\"Plot\"},\"source\":null,\"start\":null,\"x_end\":{\"value\":-8.639260600874119},\"x_start\":{\"value\":0.0},\"y_end\":{\"value\":-34.557042403496474},\"y_start\":{\"value\":0.0}},\"id\":\"76377513-23d1-4b89-a2e5-05ada1606bc2\",\"type\":\"Arrow\"},{\"attributes\":{\"fill_alpha\":{\"value\":0.2},\"line_alpha\":{\"value\":0.2},\"plot\":null,\"size\":10},\"id\":\"be1d1ebc-7dad-4e29-9cfe-d402cf4ca50d\",\"type\":\"NormalHead\"},{\"attributes\":{\"end\":{\"id\":\"1da3b81b-0d70-47a9-95d6-964e9f8ca5aa\",\"type\":\"NormalHead\"},\"line_alpha\":{\"value\":0.2},\"line_width\":{\"value\":3},\"plot\":{\"id\":\"26f60768-8304-43c6-b9e2-ed7f9f417fa6\",\"subtype\":\"Figure\",\"type\":\"Plot\"},\"source\":null,\"start\":null,\"x_end\":{\"value\":-5.021534064099244},\"x_start\":{\"value\":0.0},\"y_end\":{\"value\":-20.086136256396976},\"y_start\":{\"value\":0.0}},\"id\":\"2e8cf2aa-05a9-45e3-acf1-130ec259c518\",\"type\":\"Arrow\"},{\"attributes\":{\"fill_alpha\":{\"value\":0.2},\"line_alpha\":{\"value\":0.2},\"plot\":null,\"size\":10},\"id\":\"2eb09a12-02f5-4a16-b9d7-f4d3c11da9bc\",\"type\":\"NormalHead\"},{\"attributes\":{\"end\":{\"id\":\"05a06973-74c6-497d-ba52-51ead9dc7c1e\",\"type\":\"NormalHead\"},\"line_alpha\":{\"value\":0.2},\"line_width\":{\"value\":3},\"plot\":{\"id\":\"26f60768-8304-43c6-b9e2-ed7f9f417fa6\",\"subtype\":\"Figure\",\"type\":\"Plot\"},\"source\":null,\"start\":null,\"x_end\":{\"value\":0.5779989863582093},\"x_start\":{\"value\":0.0},\"y_end\":{\"value\":2.3119959454328374},\"y_start\":{\"value\":0.0}},\"id\":\"508b8a0d-ab73-477f-989e-80e7b4874a74\",\"type\":\"Arrow\"},{\"attributes\":{\"fill_alpha\":{\"value\":0.2},\"line_alpha\":{\"value\":0.2},\"plot\":null,\"size\":10},\"id\":\"9754fb42-d6dc-4c11-8995-f7d59bc27777\",\"type\":\"NormalHead\"},{\"attributes\":{\"end\":{\"id\":\"be1d1ebc-7dad-4e29-9cfe-d402cf4ca50d\",\"type\":\"NormalHead\"},\"line_alpha\":{\"value\":0.2},\"line_width\":{\"value\":3},\"plot\":{\"id\":\"26f60768-8304-43c6-b9e2-ed7f9f417fa6\",\"subtype\":\"Figure\",\"type\":\"Plot\"},\"source\":null,\"start\":null,\"x_end\":{\"value\":3.9330268701644013},\"x_start\":{\"value\":0.0},\"y_end\":{\"value\":15.732107480657605},\"y_start\":{\"value\":0.0}},\"id\":\"c07e5006-9afe-4fbe-bdc7-7004fc188560\",\"type\":\"Arrow\"},{\"attributes\":{\"fill_alpha\":{\"value\":0.2},\"line_alpha\":{\"value\":0.2},\"plot\":null,\"size\":10},\"id\":\"182ece93-3d2d-472f-bbbe-ad86d87fccf2\",\"type\":\"NormalHead\"},{\"attributes\":{\"end\":{\"id\":\"06398f2f-5375-4fba-8a6e-2d6929008dd7\",\"type\":\"NormalHead\"},\"line_alpha\":{\"value\":0.2},\"line_width\":{\"value\":3},\"plot\":{\"id\":\"26f60768-8304-43c6-b9e2-ed7f9f417fa6\",\"subtype\":\"Figure\",\"type\":\"Plot\"},\"source\":null,\"start\":null,\"x_end\":{\"value\":-9.518957002747992},\"x_start\":{\"value\":0.0},\"y_end\":{\"value\":-38.07582801099197},\"y_start\":{\"value\":0.0}},\"id\":\"8754cc15-a289-4835-86a4-d44f16755498\",\"type\":\"Arrow\"},{\"attributes\":{\"fill_alpha\":{\"value\":0.2},\"line_alpha\":{\"value\":0.2},\"plot\":null,\"size\":10},\"id\":\"96a28184-6cda-4dba-8608-63472609e1d7\",\"type\":\"NormalHead\"},{\"attributes\":{\"end\":{\"id\":\"2eb09a12-02f5-4a16-b9d7-f4d3c11da9bc\",\"type\":\"NormalHead\"},\"line_alpha\":{\"value\":0.2},\"line_width\":{\"value\":3},\"plot\":{\"id\":\"26f60768-8304-43c6-b9e2-ed7f9f417fa6\",\"subtype\":\"Figure\",\"type\":\"Plot\"},\"source\":null,\"start\":null,\"x_end\":{\"value\":-13.333336321295292},\"x_start\":{\"value\":0.0},\"y_end\":{\"value\":-53.33334528518117},\"y_start\":{\"value\":0.0}},\"id\":\"4e36ac48-15b2-46cd-9374-9e7d62961e09\",\"type\":\"Arrow\"},{\"attributes\":{\"fill_alpha\":{\"value\":0.2},\"line_alpha\":{\"value\":0.2},\"plot\":null,\"size\":10},\"id\":\"cc9e11d4-b803-445a-b60e-d6ff4b9406ea\",\"type\":\"NormalHead\"},{\"attributes\":{\"fill_alpha\":{\"value\":0.2},\"line_alpha\":{\"value\":0.2},\"plot\":null,\"size\":10},\"id\":\"cf6428ec-461b-4189-9d5e-8b896f764402\",\"type\":\"NormalHead\"},{\"attributes\":{\"fill_alpha\":{\"value\":0.2},\"line_alpha\":{\"value\":0.2},\"plot\":null,\"size\":10},\"id\":\"aa346173-6f07-42e6-99eb-bc5a9405f654\",\"type\":\"NormalHead\"},{\"attributes\":{\"end\":{\"id\":\"9754fb42-d6dc-4c11-8995-f7d59bc27777\",\"type\":\"NormalHead\"},\"line_alpha\":{\"value\":0.2},\"line_width\":{\"value\":3},\"plot\":{\"id\":\"26f60768-8304-43c6-b9e2-ed7f9f417fa6\",\"subtype\":\"Figure\",\"type\":\"Plot\"},\"source\":null,\"start\":null,\"x_end\":{\"value\":2.407245959901755},\"x_start\":{\"value\":0.0},\"y_end\":{\"value\":9.62898383960702},\"y_start\":{\"value\":0.0}},\"id\":\"02dcc68e-7d14-4828-8b86-3ee53b381c11\",\"type\":\"Arrow\"},{\"attributes\":{\"fill_alpha\":{\"value\":0.2},\"line_alpha\":{\"value\":0.2},\"plot\":null,\"size\":10},\"id\":\"afcc993b-8c4c-4ffc-913d-7ad43d2271ac\",\"type\":\"NormalHead\"},{\"attributes\":{\"end\":{\"id\":\"96a28184-6cda-4dba-8608-63472609e1d7\",\"type\":\"NormalHead\"},\"line_alpha\":{\"value\":0.2},\"line_width\":{\"value\":3},\"plot\":{\"id\":\"26f60768-8304-43c6-b9e2-ed7f9f417fa6\",\"subtype\":\"Figure\",\"type\":\"Plot\"},\"source\":null,\"start\":null,\"x_end\":{\"value\":-6.732486452886136},\"x_start\":{\"value\":0.0},\"y_end\":{\"value\":-26.929945811544545},\"y_start\":{\"value\":0.0}},\"id\":\"1b6bd896-c623-4eff-930f-ec55d0593d68\",\"type\":\"Arrow\"},{\"attributes\":{\"fill_alpha\":{\"value\":0.2},\"line_alpha\":{\"value\":0.2},\"plot\":null,\"size\":10},\"id\":\"b5a072f0-e1f3-4312-8062-9d2be1fcd11c\",\"type\":\"NormalHead\"},{\"attributes\":{\"fill_alpha\":{\"value\":0.2},\"line_alpha\":{\"value\":0.2},\"plot\":null,\"size\":10},\"id\":\"8a85a265-8872-4cb8-bc7d-50b27c5e1d6f\",\"type\":\"NormalHead\"},{\"attributes\":{\"fill_alpha\":{\"value\":0.2},\"line_alpha\":{\"value\":0.2},\"plot\":null,\"size\":10},\"id\":\"612ed66a-0395-43d0-ba04-9fc11e19ad12\",\"type\":\"NormalHead\"},{\"attributes\":{\"end\":{\"id\":\"8a85a265-8872-4cb8-bc7d-50b27c5e1d6f\",\"type\":\"NormalHead\"},\"line_alpha\":{\"value\":0.2},\"line_width\":{\"value\":3},\"plot\":{\"id\":\"26f60768-8304-43c6-b9e2-ed7f9f417fa6\",\"subtype\":\"Figure\",\"type\":\"Plot\"},\"source\":null,\"start\":null,\"x_end\":{\"value\":2.017615771850961},\"x_start\":{\"value\":0.0},\"y_end\":{\"value\":8.070463087403844},\"y_start\":{\"value\":0.0}},\"id\":\"4c655ebe-bade-4e74-ab8e-77ca85e9deea\",\"type\":\"Arrow\"},{\"attributes\":{\"end\":{\"id\":\"aa346173-6f07-42e6-99eb-bc5a9405f654\",\"type\":\"NormalHead\"},\"line_alpha\":{\"value\":0.2},\"line_width\":{\"value\":3},\"plot\":{\"id\":\"26f60768-8304-43c6-b9e2-ed7f9f417fa6\",\"subtype\":\"Figure\",\"type\":\"Plot\"},\"source\":null,\"start\":null,\"x_end\":{\"value\":-0.8437231393527491},\"x_start\":{\"value\":0.0},\"y_end\":{\"value\":-3.3748925574109965},\"y_start\":{\"value\":0.0}},\"id\":\"8d995223-e396-4e1a-931d-01fd7501d320\",\"type\":\"Arrow\"},{\"attributes\":{\"fill_alpha\":{\"value\":0.2},\"line_alpha\":{\"value\":0.2},\"plot\":null,\"size\":10},\"id\":\"5e3d4c33-966f-4fcc-8c6e-410f33749b84\",\"type\":\"NormalHead\"},{\"attributes\":{\"fill_alpha\":{\"value\":0.2},\"line_alpha\":{\"value\":0.2},\"plot\":null,\"size\":10},\"id\":\"ff23cd7b-86f9-468c-8d47-68387dcb33cd\",\"type\":\"NormalHead\"},{\"attributes\":{\"end\":{\"id\":\"afcc993b-8c4c-4ffc-913d-7ad43d2271ac\",\"type\":\"NormalHead\"},\"line_alpha\":{\"value\":0.2},\"line_width\":{\"value\":3},\"plot\":{\"id\":\"26f60768-8304-43c6-b9e2-ed7f9f417fa6\",\"subtype\":\"Figure\",\"type\":\"Plot\"},\"source\":null,\"start\":null,\"x_end\":{\"value\":-2.7338005371728005},\"x_start\":{\"value\":0.0},\"y_end\":{\"value\":-10.935202148691202},\"y_start\":{\"value\":0.0}},\"id\":\"c44a8752-baf1-4908-a5cb-519cf9952584\",\"type\":\"Arrow\"},{\"attributes\":{\"fill_alpha\":{\"value\":0.2},\"line_alpha\":{\"value\":0.2},\"plot\":null,\"size\":10},\"id\":\"06398f2f-5375-4fba-8a6e-2d6929008dd7\",\"type\":\"NormalHead\"},{\"attributes\":{\"end\":{\"id\":\"ee8861de-9b39-42ae-9fc5-09da8f3eacf4\",\"type\":\"NormalHead\"},\"line_alpha\":{\"value\":0.2},\"line_width\":{\"value\":3},\"plot\":{\"id\":\"26f60768-8304-43c6-b9e2-ed7f9f417fa6\",\"subtype\":\"Figure\",\"type\":\"Plot\"},\"source\":null,\"start\":null,\"x_end\":{\"value\":6.00397264170487},\"x_start\":{\"value\":0.0},\"y_end\":{\"value\":24.01589056681948},\"y_start\":{\"value\":0.0}},\"id\":\"b75ba5ff-d423-457a-a4b2-2ee98dc895b3\",\"type\":\"Arrow\"},{\"attributes\":{\"fill_alpha\":{\"value\":0.2},\"line_alpha\":{\"value\":0.2},\"plot\":null,\"size\":10},\"id\":\"4f8d1b08-8b03-4aa0-b121-1e1e710a5d39\",\"type\":\"NormalHead\"},{\"attributes\":{\"end\":{\"id\":\"0b545fef-5647-4911-afa1-dd030fcc6833\",\"type\":\"NormalHead\"},\"line_alpha\":{\"value\":0.2},\"line_width\":{\"value\":3},\"plot\":{\"id\":\"26f60768-8304-43c6-b9e2-ed7f9f417fa6\",\"subtype\":\"Figure\",\"type\":\"Plot\"},\"source\":null,\"start\":null,\"x_end\":{\"value\":-4.639134396907599},\"x_start\":{\"value\":0.0},\"y_end\":{\"value\":-18.556537587630395},\"y_start\":{\"value\":0.0}},\"id\":\"d4ba25d0-7236-4b2e-b1b6-1d21ed69355e\",\"type\":\"Arrow\"},{\"attributes\":{\"end\":{\"id\":\"612ed66a-0395-43d0-ba04-9fc11e19ad12\",\"type\":\"NormalHead\"},\"line_alpha\":{\"value\":0.2},\"line_width\":{\"value\":3},\"plot\":{\"id\":\"26f60768-8304-43c6-b9e2-ed7f9f417fa6\",\"subtype\":\"Figure\",\"type\":\"Plot\"},\"source\":null,\"start\":null,\"x_end\":{\"value\":-0.051785635342910474},\"x_start\":{\"value\":0.0},\"y_end\":{\"value\":-0.2071425413716419},\"y_start\":{\"value\":0.0}},\"id\":\"dcc848a1-9f45-4201-adbb-1eaad33edec0\",\"type\":\"Arrow\"},{\"attributes\":{\"end\":{\"id\":\"b5a072f0-e1f3-4312-8062-9d2be1fcd11c\",\"type\":\"NormalHead\"},\"line_alpha\":{\"value\":0.2},\"line_width\":{\"value\":3},\"plot\":{\"id\":\"26f60768-8304-43c6-b9e2-ed7f9f417fa6\",\"subtype\":\"Figure\",\"type\":\"Plot\"},\"source\":null,\"start\":null,\"x_end\":{\"value\":-15.309190916133751},\"x_start\":{\"value\":0.0},\"y_end\":{\"value\":-61.236763664535005},\"y_start\":{\"value\":0.0}},\"id\":\"15138078-93b5-413e-9d5f-c2720979db6b\",\"type\":\"Arrow\"},{\"attributes\":{\"end\":{\"id\":\"182ece93-3d2d-472f-bbbe-ad86d87fccf2\",\"type\":\"NormalHead\"},\"line_alpha\":{\"value\":0.2},\"line_width\":{\"value\":3},\"plot\":{\"id\":\"26f60768-8304-43c6-b9e2-ed7f9f417fa6\",\"subtype\":\"Figure\",\"type\":\"Plot\"},\"source\":null,\"start\":null,\"x_end\":{\"value\":3.221236340831738},\"x_start\":{\"value\":0.0},\"y_end\":{\"value\":12.884945363326953},\"y_start\":{\"value\":0.0}},\"id\":\"8ab7a8c8-0784-4670-b656-cc9205e00135\",\"type\":\"Arrow\"},{\"attributes\":{\"end\":{\"id\":\"ff23cd7b-86f9-468c-8d47-68387dcb33cd\",\"type\":\"NormalHead\"},\"line_alpha\":{\"value\":0.2},\"line_width\":{\"value\":3},\"plot\":{\"id\":\"26f60768-8304-43c6-b9e2-ed7f9f417fa6\",\"subtype\":\"Figure\",\"type\":\"Plot\"},\"source\":null,\"start\":null,\"x_end\":{\"value\":-4.516181194975056},\"x_start\":{\"value\":0.0},\"y_end\":{\"value\":-18.064724779900224},\"y_start\":{\"value\":0.0}},\"id\":\"39ca8950-f08f-4e77-805a-7e5c040c2287\",\"type\":\"Arrow\"},{\"attributes\":{\"end\":{\"id\":\"5e3d4c33-966f-4fcc-8c6e-410f33749b84\",\"type\":\"NormalHead\"},\"line_alpha\":{\"value\":0.2},\"line_width\":{\"value\":3},\"plot\":{\"id\":\"26f60768-8304-43c6-b9e2-ed7f9f417fa6\",\"subtype\":\"Figure\",\"type\":\"Plot\"},\"source\":null,\"start\":null,\"x_end\":{\"value\":3.4557392143679264},\"x_start\":{\"value\":0.0},\"y_end\":{\"value\":13.822956857471706},\"y_start\":{\"value\":0.0}},\"id\":\"f9537fd1-f22b-4565-b3fa-dd8c2dba3afe\",\"type\":\"Arrow\"},{\"attributes\":{\"end\":{\"id\":\"6c3efe64-68a3-46aa-8cbc-20221c72dd5a\",\"type\":\"NormalHead\"},\"line_alpha\":{\"value\":0.2},\"line_width\":{\"value\":3},\"plot\":{\"id\":\"26f60768-8304-43c6-b9e2-ed7f9f417fa6\",\"subtype\":\"Figure\",\"type\":\"Plot\"},\"source\":null,\"start\":null,\"x_end\":{\"value\":-9.56819810305533},\"x_start\":{\"value\":0.0},\"y_end\":{\"value\":-38.27279241222132},\"y_start\":{\"value\":0.0}},\"id\":\"0c343f82-753b-4851-bf25-006a0c03adfc\",\"type\":\"Arrow\"},{\"attributes\":{\"end\":{\"id\":\"4f8d1b08-8b03-4aa0-b121-1e1e710a5d39\",\"type\":\"NormalHead\"},\"line_alpha\":{\"value\":0.2},\"line_width\":{\"value\":3},\"plot\":{\"id\":\"26f60768-8304-43c6-b9e2-ed7f9f417fa6\",\"subtype\":\"Figure\",\"type\":\"Plot\"},\"source\":null,\"start\":null,\"x_end\":{\"value\":-3.613522094352918},\"x_start\":{\"value\":0.0},\"y_end\":{\"value\":-14.454088377411672},\"y_start\":{\"value\":0.0}},\"id\":\"0127c2db-fd37-4675-916d-cc4354650625\",\"type\":\"Arrow\"},{\"attributes\":{\"fill_alpha\":{\"value\":0.2},\"line_alpha\":{\"value\":0.2},\"plot\":null,\"size\":10},\"id\":\"0b545fef-5647-4911-afa1-dd030fcc6833\",\"type\":\"NormalHead\"},{\"attributes\":{\"fill_alpha\":{\"value\":0.2},\"line_alpha\":{\"value\":0.2},\"plot\":null,\"size\":10},\"id\":\"6c3efe64-68a3-46aa-8cbc-20221c72dd5a\",\"type\":\"NormalHead\"},{\"attributes\":{\"end\":{\"id\":\"cc9e11d4-b803-445a-b60e-d6ff4b9406ea\",\"type\":\"NormalHead\"},\"line_alpha\":{\"value\":0.2},\"line_width\":{\"value\":3},\"plot\":{\"id\":\"26f60768-8304-43c6-b9e2-ed7f9f417fa6\",\"subtype\":\"Figure\",\"type\":\"Plot\"},\"source\":null,\"start\":null,\"x_end\":{\"value\":4.644548005597522},\"x_start\":{\"value\":0.0},\"y_end\":{\"value\":18.578192022390088},\"y_start\":{\"value\":0.0}},\"id\":\"4cbb2244-4674-4dfc-88e6-f82da5491560\",\"type\":\"Arrow\"},{\"attributes\":{\"fill_alpha\":{\"value\":0.2},\"line_alpha\":{\"value\":0.2},\"plot\":null,\"size\":10},\"id\":\"86af1ef0-343c-44cf-9b79-b97d222a705b\",\"type\":\"NormalHead\"},{\"attributes\":{},\"id\":\"6ed61c1e-cb1b-4c26-9bb1-f7282d8f30b7\",\"type\":\"LinearScale\"},{\"attributes\":{\"fill_alpha\":{\"value\":0.2},\"line_alpha\":{\"value\":0.2},\"plot\":null,\"size\":10},\"id\":\"467e3349-0037-4aef-b204-8f6fec009768\",\"type\":\"NormalHead\"},{\"attributes\":{\"formatter\":{\"id\":\"cef27112-7281-44d2-a06b-fd472aa6b20a\",\"type\":\"BasicTickFormatter\"},\"plot\":{\"id\":\"26f60768-8304-43c6-b9e2-ed7f9f417fa6\",\"subtype\":\"Figure\",\"type\":\"Plot\"},\"ticker\":{\"id\":\"2c76e0c5-ce84-40fc-8bfc-ca3e66b4d11d\",\"type\":\"BasicTicker\"}},\"id\":\"4b300a6a-9bb4-4f67-8db5-5aca0cbd063d\",\"type\":\"LinearAxis\"},{\"attributes\":{\"fill_alpha\":{\"value\":0.4},\"fill_color\":{\"value\":\"blue\"},\"line_alpha\":{\"value\":0.4},\"line_color\":{\"value\":\"blue\"},\"plot\":null,\"size\":10},\"id\":\"db9cca82-49d1-4616-a639-5b47b136bc23\",\"type\":\"NormalHead\"},{\"attributes\":{\"callback\":null,\"end\":21.0,\"start\":-21.0},\"id\":\"69a3917a-2b34-407c-b4e5-d643922885ea\",\"type\":\"Range1d\"},{\"attributes\":{\"callback\":null,\"end\":21.0,\"start\":-21.0},\"id\":\"e87010a4-0958-4808-af95-93f0d3abe9cb\",\"type\":\"Range1d\"},{\"attributes\":{\"active_drag\":\"auto\",\"active_inspect\":\"auto\",\"active_multi\":null,\"active_scroll\":\"auto\",\"active_tap\":\"auto\",\"tools\":[{\"id\":\"df4c641b-4dbc-40c7-855f-0634aa69226d\",\"type\":\"WheelZoomTool\"},{\"id\":\"273c1f26-d242-4e53-823d-7d43679a29fa\",\"type\":\"PanTool\"},{\"id\":\"04d520ec-b824-4977-8dfa-6381e30cd708\",\"type\":\"ResetTool\"}]},\"id\":\"20ea9a9d-c308-4922-ab96-ccc2dca698ff\",\"type\":\"Toolbar\"},{\"attributes\":{},\"id\":\"28ab5e18-eddb-4036-8241-6ea8fa18ceba\",\"type\":\"BasicTicker\"},{\"attributes\":{\"end\":{\"id\":\"467e3349-0037-4aef-b204-8f6fec009768\",\"type\":\"NormalHead\"},\"line_alpha\":{\"value\":0.2},\"line_width\":{\"value\":3},\"plot\":{\"id\":\"26f60768-8304-43c6-b9e2-ed7f9f417fa6\",\"subtype\":\"Figure\",\"type\":\"Plot\"},\"source\":null,\"start\":null,\"x_end\":{\"value\":4.472198091639754},\"x_start\":{\"value\":0.0},\"y_end\":{\"value\":17.888792366559017},\"y_start\":{\"value\":0.0}},\"id\":\"3f7a6b6c-4f92-4c41-a252-be98e2617504\",\"type\":\"Arrow\"},{\"attributes\":{\"fill_alpha\":{\"value\":0.2},\"line_alpha\":{\"value\":0.2},\"plot\":null,\"size\":10},\"id\":\"4827c226-0d53-437e-9172-2c4f1e82901b\",\"type\":\"NormalHead\"},{\"attributes\":{\"fill_alpha\":{\"value\":0.2},\"line_alpha\":{\"value\":0.2},\"plot\":null,\"size\":10},\"id\":\"1634ca7d-1bc6-4a77-bda2-0ee625beb423\",\"type\":\"NormalHead\"},{\"attributes\":{\"end\":{\"id\":\"4827c226-0d53-437e-9172-2c4f1e82901b\",\"type\":\"NormalHead\"},\"line_alpha\":{\"value\":0.2},\"line_width\":{\"value\":3},\"plot\":{\"id\":\"26f60768-8304-43c6-b9e2-ed7f9f417fa6\",\"subtype\":\"Figure\",\"type\":\"Plot\"},\"source\":null,\"start\":null,\"x_end\":{\"value\":-6.656266189078377},\"x_start\":{\"value\":0.0},\"y_end\":{\"value\":-26.62506475631351},\"y_start\":{\"value\":0.0}},\"id\":\"42a98eca-3307-4da0-918c-33cb6db893d8\",\"type\":\"Arrow\"},{\"attributes\":{\"callback\":null,\"data\":{\"x\":[-30.0,30.0],\"y\":[0.0,0.0]},\"selected\":{\"id\":\"ea09f0de-529a-40ca-a6f4-26899e31db46\",\"type\":\"Selection\"},\"selection_policy\":{\"id\":\"937a8109-c9d4-4382-9bb0-d8fe2940a460\",\"type\":\"UnionRenderers\"}},\"id\":\"2ec5aefc-9571-4514-bdc4-c05940e25c77\",\"type\":\"ColumnDataSource\"},{\"attributes\":{\"end\":{\"id\":\"9e48a145-9b2c-4a13-b80c-90bf7f4fe787\",\"type\":\"NormalHead\"},\"line_alpha\":{\"value\":0.2},\"line_width\":{\"value\":3},\"plot\":{\"id\":\"26f60768-8304-43c6-b9e2-ed7f9f417fa6\",\"subtype\":\"Figure\",\"type\":\"Plot\"},\"source\":null,\"start\":null,\"x_end\":{\"value\":3.5488277108994666},\"x_start\":{\"value\":0.0},\"y_end\":{\"value\":14.195310843597866},\"y_start\":{\"value\":0.0}},\"id\":\"01361e5f-6d2d-424c-9bed-24f94023a0d4\",\"type\":\"Arrow\"},{\"attributes\":{\"below\":[{\"id\":\"4b300a6a-9bb4-4f67-8db5-5aca0cbd063d\",\"type\":\"LinearAxis\"}],\"left\":[{\"id\":\"7ccd21ba-8f13-4cdb-8d20-fb131a9d599b\",\"type\":\"LinearAxis\"}],\"plot_height\":700,\"plot_width\":700,\"renderers\":[{\"id\":\"4b300a6a-9bb4-4f67-8db5-5aca0cbd063d\",\"type\":\"LinearAxis\"},{\"id\":\"3a670f14-a3cf-4cfb-a674-b82c9323b538\",\"type\":\"Grid\"},{\"id\":\"7ccd21ba-8f13-4cdb-8d20-fb131a9d599b\",\"type\":\"LinearAxis\"},{\"id\":\"a7d52803-ab2e-4f80-8953-47060af40ea2\",\"type\":\"Grid\"},{\"id\":\"567b78f1-17eb-41fd-b23d-edd591724389\",\"type\":\"GlyphRenderer\"},{\"id\":\"a21c5f71-d995-4d3d-91ed-7d738d13e0fa\",\"type\":\"GlyphRenderer\"},{\"id\":\"5da1718a-404a-404d-8370-5eb3249b1277\",\"type\":\"Arrow\"},{\"id\":\"cff1c18d-9e0d-4a50-8024-e12e4c60f603\",\"type\":\"Arrow\"},{\"id\":\"4c655ebe-bade-4e74-ab8e-77ca85e9deea\",\"type\":\"Arrow\"},{\"id\":\"6e166747-8217-4397-a215-b0ae52359ab6\",\"type\":\"Arrow\"},{\"id\":\"8754cc15-a289-4835-86a4-d44f16755498\",\"type\":\"Arrow\"},{\"id\":\"8ab7a8c8-0784-4670-b656-cc9205e00135\",\"type\":\"Arrow\"},{\"id\":\"b75ba5ff-d423-457a-a4b2-2ee98dc895b3\",\"type\":\"Arrow\"},{\"id\":\"f9537fd1-f22b-4565-b3fa-dd8c2dba3afe\",\"type\":\"Arrow\"},{\"id\":\"15138078-93b5-413e-9d5f-c2720979db6b\",\"type\":\"Arrow\"},{\"id\":\"4cbb2244-4674-4dfc-88e6-f82da5491560\",\"type\":\"Arrow\"},{\"id\":\"d4ba25d0-7236-4b2e-b1b6-1d21ed69355e\",\"type\":\"Arrow\"},{\"id\":\"8953aa20-d10b-4cc4-a310-4a1709535fd0\",\"type\":\"Arrow\"},{\"id\":\"0c343f82-753b-4851-bf25-006a0c03adfc\",\"type\":\"Arrow\"},{\"id\":\"99f93c71-1e6d-4b50-8796-0beeac34bc64\",\"type\":\"Arrow\"},{\"id\":\"01361e5f-6d2d-424c-9bed-24f94023a0d4\",\"type\":\"Arrow\"},{\"id\":\"d6f9c847-7487-4008-a88a-22d39fd6d6f8\",\"type\":\"Arrow\"},{\"id\":\"3f7a6b6c-4f92-4c41-a252-be98e2617504\",\"type\":\"Arrow\"},{\"id\":\"42a98eca-3307-4da0-918c-33cb6db893d8\",\"type\":\"Arrow\"},{\"id\":\"6ae0bb60-3eb6-481c-8132-70192bc65826\",\"type\":\"Arrow\"},{\"id\":\"8d88eac0-a2a7-478d-93a3-cf68fa8078aa\",\"type\":\"Arrow\"},{\"id\":\"99d967e1-6dd8-4ea6-b4d5-216b1ea70907\",\"type\":\"Arrow\"},{\"id\":\"9f0ed9a4-bd2d-4813-8608-9bc148df579c\",\"type\":\"Arrow\"},{\"id\":\"e39ac75d-3f4c-4738-9dab-01d636e304ee\",\"type\":\"Arrow\"},{\"id\":\"427f4af4-f09c-4f37-83db-8835eca4c6ca\",\"type\":\"Arrow\"},{\"id\":\"18952921-935a-445c-ac80-fd73766264f2\",\"type\":\"Arrow\"},{\"id\":\"f22fb748-0cb6-4c49-bd6c-79edf17ffad8\",\"type\":\"Arrow\"},{\"id\":\"e1d107c0-021f-4e2d-9b55-bbb729f1a9de\",\"type\":\"Arrow\"},{\"id\":\"604701d8-bab8-4670-adde-e5551cf46b09\",\"type\":\"Arrow\"},{\"id\":\"0a032677-7ef7-4908-b29a-36c278546587\",\"type\":\"Arrow\"},{\"id\":\"0c39fba3-d015-4b1d-87e6-db6b16d1e68b\",\"type\":\"Arrow\"},{\"id\":\"57c51b88-088e-4f4b-a4df-afa779f6ead4\",\"type\":\"Arrow\"},{\"id\":\"ac3613a8-ac9e-4bd1-a3f0-56e3c857e6e5\",\"type\":\"Arrow\"},{\"id\":\"0532bc8f-325f-4d0a-84cd-435bff809ba1\",\"type\":\"Arrow\"},{\"id\":\"87460634-cd27-4159-9f57-6fe400a07469\",\"type\":\"Arrow\"},{\"id\":\"70d58104-7504-40ca-a5af-59a23b4fc477\",\"type\":\"Arrow\"},{\"id\":\"c3978ee8-252d-4b53-ae97-9e39a034c077\",\"type\":\"Arrow\"},{\"id\":\"4aab62b4-1d77-4044-8928-94fbfa1cb01f\",\"type\":\"Arrow\"},{\"id\":\"9dfdd407-37cf-479d-85fc-73950e3caef0\",\"type\":\"Arrow\"},{\"id\":\"00555576-4578-46cd-b7c4-cda4587ef4eb\",\"type\":\"Arrow\"},{\"id\":\"29e3d100-5356-4587-8775-07ecae503139\",\"type\":\"Arrow\"},{\"id\":\"76377513-23d1-4b89-a2e5-05ada1606bc2\",\"type\":\"Arrow\"},{\"id\":\"2e8cf2aa-05a9-45e3-acf1-130ec259c518\",\"type\":\"Arrow\"},{\"id\":\"508b8a0d-ab73-477f-989e-80e7b4874a74\",\"type\":\"Arrow\"},{\"id\":\"c07e5006-9afe-4fbe-bdc7-7004fc188560\",\"type\":\"Arrow\"},{\"id\":\"4e36ac48-15b2-46cd-9374-9e7d62961e09\",\"type\":\"Arrow\"},{\"id\":\"02dcc68e-7d14-4828-8b86-3ee53b381c11\",\"type\":\"Arrow\"},{\"id\":\"1b6bd896-c623-4eff-930f-ec55d0593d68\",\"type\":\"Arrow\"},{\"id\":\"8d995223-e396-4e1a-931d-01fd7501d320\",\"type\":\"Arrow\"},{\"id\":\"c44a8752-baf1-4908-a5cb-519cf9952584\",\"type\":\"Arrow\"},{\"id\":\"dcc848a1-9f45-4201-adbb-1eaad33edec0\",\"type\":\"Arrow\"},{\"id\":\"39ca8950-f08f-4e77-805a-7e5c040c2287\",\"type\":\"Arrow\"},{\"id\":\"0127c2db-fd37-4675-916d-cc4354650625\",\"type\":\"Arrow\"}],\"title\":{\"id\":\"1f44f08a-a832-4664-a610-1d123f835f0d\",\"type\":\"Title\"},\"toolbar\":{\"id\":\"20ea9a9d-c308-4922-ab96-ccc2dca698ff\",\"type\":\"Toolbar\"},\"x_range\":{\"id\":\"e87010a4-0958-4808-af95-93f0d3abe9cb\",\"type\":\"Range1d\"},\"x_scale\":{\"id\":\"3a508c5a-098c-47c5-a962-6c89bdbf64ca\",\"type\":\"LinearScale\"},\"y_range\":{\"id\":\"69a3917a-2b34-407c-b4e5-d643922885ea\",\"type\":\"Range1d\"},\"y_scale\":{\"id\":\"6ed61c1e-cb1b-4c26-9bb1-f7282d8f30b7\",\"type\":\"LinearScale\"}},\"id\":\"26f60768-8304-43c6-b9e2-ed7f9f417fa6\",\"subtype\":\"Figure\",\"type\":\"Plot\"},{\"attributes\":{\"end\":{\"id\":\"cf6428ec-461b-4189-9d5e-8b896f764402\",\"type\":\"NormalHead\"},\"line_alpha\":{\"value\":0.2},\"line_width\":{\"value\":3},\"plot\":{\"id\":\"26f60768-8304-43c6-b9e2-ed7f9f417fa6\",\"subtype\":\"Figure\",\"type\":\"Plot\"},\"source\":null,\"start\":null,\"x_end\":{\"value\":12.700235263479431},\"x_start\":{\"value\":0.0},\"y_end\":{\"value\":50.800941053917725},\"y_start\":{\"value\":0.0}},\"id\":\"d6f9c847-7487-4008-a88a-22d39fd6d6f8\",\"type\":\"Arrow\"}],\"root_ids\":[\"26f60768-8304-43c6-b9e2-ed7f9f417fa6\"]},\"title\":\"Bokeh Application\",\"version\":\"0.13.0\"}};\n",
       "  var render_items = [{\"docid\":\"0661deb8-92a2-4674-85ed-44741d86e82e\",\"roots\":{\"26f60768-8304-43c6-b9e2-ed7f9f417fa6\":\"ef819041-2cc9-4ff0-ba65-350a59dfacf4\"}}];\n",
       "  root.Bokeh.embed.embed_items_notebook(docs_json, render_items);\n",
       "\n",
       "  }\n",
       "  if (root.Bokeh !== undefined) {\n",
       "    embed_document(root);\n",
       "  } else {\n",
       "    var attempts = 0;\n",
       "    var timer = setInterval(function(root) {\n",
       "      if (root.Bokeh !== undefined) {\n",
       "        embed_document(root);\n",
       "        clearInterval(timer);\n",
       "      }\n",
       "      attempts++;\n",
       "      if (attempts > 100) {\n",
       "        console.log(\"Bokeh: ERROR: Unable to run BokehJS code because BokehJS library is missing\")\n",
       "        clearInterval(timer);\n",
       "      }\n",
       "    }, 10, root)\n",
       "  }\n",
       "})(window);"
      ],
      "application/vnd.bokehjs_exec.v0+json": ""
     },
     "metadata": {
      "application/vnd.bokehjs_exec.v0+json": {
       "id": "26f60768-8304-43c6-b9e2-ed7f9f417fa6"
      }
     },
     "output_type": "display_data"
    }
   ],
   "source": [
    "plot.show()"
   ]
  },
  {
   "cell_type": "markdown",
   "metadata": {},
   "source": [
    "Linear independence is an important concept because it tells us how much information is contained within a system. "
   ]
  },
  {
   "cell_type": "markdown",
   "metadata": {},
   "source": [
    "# Unit Vectors\n",
    "\n",
    "As we've seen, linear combinations of linearly independent can be used to locate any space within the dimensions the vectors describe. To an extent, all linearly independent vectors are linear combinations of their unit vectors. \n",
    "\n",
    "A **unit vector** (or basis vector) is a one unit movement along a specific dimension in some $\\Re^n$ dimensional space. A unit vector is denoted by $\\hat{i}$ and $\\hat{j}$ (and $\\hat{k}$ when referring to $\\Re^3$).\n",
    "\n",
    "\n",
    "$$\\hat{i} = \\begin{bmatrix} 1 \\\\ 0 \\end{bmatrix}$$\n",
    "$$\\hat{j} = \\begin{bmatrix} 0 \\\\ 1 \\end{bmatrix}$$\n"
   ]
  },
  {
   "cell_type": "code",
   "execution_count": 23,
   "metadata": {},
   "outputs": [
    {
     "data": {
      "text/html": [
       "\n",
       "\n",
       "\n",
       "\n",
       "\n",
       "\n",
       "  <div class=\"bk-root\" id=\"c6c5dcb8-b27e-45a7-bb94-bb743eb03072\"></div>\n"
      ]
     },
     "metadata": {},
     "output_type": "display_data"
    },
    {
     "data": {
      "application/javascript": [
       "(function(root) {\n",
       "  function embed_document(root) {\n",
       "    \n",
       "  var docs_json = {\"44146c37-ed9b-467e-a32e-b3fcbb47c940\":{\"roots\":{\"references\":[{\"attributes\":{\"line_width\":1.5,\"x\":{\"field\":\"x\"},\"y\":{\"field\":\"y\"}},\"id\":\"7d6d08a4-62af-4390-9cac-b4aa24ce3dc3\",\"type\":\"Line\"},{\"attributes\":{\"line_alpha\":0.1,\"line_color\":\"#1f77b4\",\"line_width\":1.5,\"x\":{\"field\":\"x\"},\"y\":{\"field\":\"y\"}},\"id\":\"b7e61972-26f1-4214-9fcb-e451f328f854\",\"type\":\"Line\"},{\"attributes\":{\"data_source\":{\"id\":\"93e7af1c-6f77-4f10-be2b-690c33f4c697\",\"type\":\"ColumnDataSource\"},\"glyph\":{\"id\":\"7d6d08a4-62af-4390-9cac-b4aa24ce3dc3\",\"type\":\"Line\"},\"hover_glyph\":null,\"muted_glyph\":null,\"nonselection_glyph\":{\"id\":\"b7e61972-26f1-4214-9fcb-e451f328f854\",\"type\":\"Line\"},\"selection_glyph\":null,\"view\":{\"id\":\"761754b6-6c91-4e5d-9c03-dcdf64dd6fe3\",\"type\":\"CDSView\"}},\"id\":\"7a99abe7-009a-4519-8481-ff5aa6d3cea7\",\"type\":\"GlyphRenderer\"},{\"attributes\":{\"source\":{\"id\":\"93e7af1c-6f77-4f10-be2b-690c33f4c697\",\"type\":\"ColumnDataSource\"}},\"id\":\"761754b6-6c91-4e5d-9c03-dcdf64dd6fe3\",\"type\":\"CDSView\"},{\"attributes\":{},\"id\":\"5e90bea3-0977-4cfa-acdd-cad0d7ea55ac\",\"type\":\"BasicTickFormatter\"},{\"attributes\":{\"end\":{\"id\":\"9fc2b0c6-3fdb-4fa8-9924-1512047f4b0b\",\"type\":\"NormalHead\"},\"line_color\":{\"value\":\"blue\"},\"line_width\":{\"value\":3},\"plot\":{\"id\":\"7721f0b7-5d66-4bf7-9824-9c9962aa7913\",\"subtype\":\"Figure\",\"type\":\"Plot\"},\"source\":null,\"start\":null,\"x_end\":{\"value\":1},\"x_start\":{\"value\":0.0},\"y_end\":{\"value\":0},\"y_start\":{\"value\":0.0}},\"id\":\"1b76fd89-cd76-4666-b88d-11a09f5d6949\",\"type\":\"Arrow\"},{\"attributes\":{\"plot\":null,\"text\":\"\"},\"id\":\"7eeef787-8b0f-485f-950f-a0ff13ad06c6\",\"type\":\"Title\"},{\"attributes\":{\"end\":{\"id\":\"8d1f54d8-1351-43e1-bafb-6efde986700b\",\"type\":\"NormalHead\"},\"line_color\":{\"value\":\"red\"},\"line_width\":{\"value\":3},\"plot\":{\"id\":\"7721f0b7-5d66-4bf7-9824-9c9962aa7913\",\"subtype\":\"Figure\",\"type\":\"Plot\"},\"source\":null,\"start\":null,\"x_end\":{\"value\":0},\"x_start\":{\"value\":0.0},\"y_end\":{\"value\":1},\"y_start\":{\"value\":0.0}},\"id\":\"a1e6c347-da21-4026-bfcf-dc12d975c44b\",\"type\":\"Arrow\"},{\"attributes\":{},\"id\":\"12d1f3da-0d34-43ed-b2be-4df1044ca8d7\",\"type\":\"UnionRenderers\"},{\"attributes\":{},\"id\":\"73046fa6-35b2-4b4c-b593-5a27da840e57\",\"type\":\"BasicTickFormatter\"},{\"attributes\":{},\"id\":\"70580a9a-6dd7-4d96-bb78-cf08368bc86c\",\"type\":\"Selection\"},{\"attributes\":{},\"id\":\"43eaf886-2ec2-4cbb-84b9-5195dc1d32a3\",\"type\":\"UnionRenderers\"},{\"attributes\":{},\"id\":\"14c80e8f-2b44-4837-a3d1-b18ecbe4edd6\",\"type\":\"Selection\"},{\"attributes\":{\"fill_color\":{\"value\":\"blue\"},\"line_color\":{\"value\":\"blue\"},\"plot\":null,\"size\":10},\"id\":\"9fc2b0c6-3fdb-4fa8-9924-1512047f4b0b\",\"type\":\"NormalHead\"},{\"attributes\":{\"dimension\":1,\"plot\":{\"id\":\"7721f0b7-5d66-4bf7-9824-9c9962aa7913\",\"subtype\":\"Figure\",\"type\":\"Plot\"},\"ticker\":{\"id\":\"dd7d47c6-61d2-48aa-bc8b-49ae0a49d026\",\"type\":\"BasicTicker\"}},\"id\":\"6ecd7b0e-e540-4063-b14f-d90859765875\",\"type\":\"Grid\"},{\"attributes\":{\"below\":[{\"id\":\"9e1d773a-e6df-40b3-8020-b8f1260b03bc\",\"type\":\"LinearAxis\"}],\"left\":[{\"id\":\"47856fa6-02aa-4253-9beb-57e51f2a1c22\",\"type\":\"LinearAxis\"}],\"plot_height\":700,\"plot_width\":700,\"renderers\":[{\"id\":\"9e1d773a-e6df-40b3-8020-b8f1260b03bc\",\"type\":\"LinearAxis\"},{\"id\":\"56860fa0-45d9-426b-9e19-9e1390ea2697\",\"type\":\"Grid\"},{\"id\":\"47856fa6-02aa-4253-9beb-57e51f2a1c22\",\"type\":\"LinearAxis\"},{\"id\":\"6ecd7b0e-e540-4063-b14f-d90859765875\",\"type\":\"Grid\"},{\"id\":\"8f53321a-1353-4017-97df-a5d89b4fc420\",\"type\":\"GlyphRenderer\"},{\"id\":\"7a99abe7-009a-4519-8481-ff5aa6d3cea7\",\"type\":\"GlyphRenderer\"},{\"id\":\"1b76fd89-cd76-4666-b88d-11a09f5d6949\",\"type\":\"Arrow\"},{\"id\":\"a1e6c347-da21-4026-bfcf-dc12d975c44b\",\"type\":\"Arrow\"}],\"title\":{\"id\":\"7eeef787-8b0f-485f-950f-a0ff13ad06c6\",\"type\":\"Title\"},\"toolbar\":{\"id\":\"a1325adb-a071-4789-b779-cc76f12b906f\",\"type\":\"Toolbar\"},\"x_range\":{\"id\":\"ca459e06-259a-4479-9a68-c5846a694d22\",\"type\":\"Range1d\"},\"x_scale\":{\"id\":\"9faffbcf-e744-4275-9d40-da1d5604c82a\",\"type\":\"LinearScale\"},\"y_range\":{\"id\":\"93c803e8-32a4-4172-9456-47e671e5dbd6\",\"type\":\"Range1d\"},\"y_scale\":{\"id\":\"63fa9f31-6b98-4a04-bdf7-4a40656dc9c1\",\"type\":\"LinearScale\"}},\"id\":\"7721f0b7-5d66-4bf7-9824-9c9962aa7913\",\"subtype\":\"Figure\",\"type\":\"Plot\"},{\"attributes\":{},\"id\":\"dd7d47c6-61d2-48aa-bc8b-49ae0a49d026\",\"type\":\"BasicTicker\"},{\"attributes\":{\"line_width\":1.5,\"x\":{\"field\":\"x\"},\"y\":{\"field\":\"y\"}},\"id\":\"0d9cfb93-19a5-4b08-a4db-d315266698af\",\"type\":\"Line\"},{\"attributes\":{\"active_drag\":\"auto\",\"active_inspect\":\"auto\",\"active_multi\":null,\"active_scroll\":\"auto\",\"active_tap\":\"auto\",\"tools\":[{\"id\":\"7f18595e-142f-496f-8f5f-4e71ff6edba2\",\"type\":\"WheelZoomTool\"},{\"id\":\"8065aa26-421c-4b9d-88c0-fc66cf9169fd\",\"type\":\"PanTool\"},{\"id\":\"a92b57b6-325f-4d7d-a920-2337c7f4b683\",\"type\":\"ResetTool\"}]},\"id\":\"a1325adb-a071-4789-b779-cc76f12b906f\",\"type\":\"Toolbar\"},{\"attributes\":{\"line_alpha\":0.1,\"line_color\":\"#1f77b4\",\"line_width\":1.5,\"x\":{\"field\":\"x\"},\"y\":{\"field\":\"y\"}},\"id\":\"8c0a0829-3c06-46ef-a8f5-afc1a6a598a4\",\"type\":\"Line\"},{\"attributes\":{\"callback\":null,\"end\":5.6,\"start\":-5.6},\"id\":\"93c803e8-32a4-4172-9456-47e671e5dbd6\",\"type\":\"Range1d\"},{\"attributes\":{\"plot\":{\"id\":\"7721f0b7-5d66-4bf7-9824-9c9962aa7913\",\"subtype\":\"Figure\",\"type\":\"Plot\"},\"ticker\":{\"id\":\"1ed551bd-d3ad-40bf-9dba-515a928e1127\",\"type\":\"BasicTicker\"}},\"id\":\"56860fa0-45d9-426b-9e19-9e1390ea2697\",\"type\":\"Grid\"},{\"attributes\":{},\"id\":\"1ed551bd-d3ad-40bf-9dba-515a928e1127\",\"type\":\"BasicTicker\"},{\"attributes\":{\"formatter\":{\"id\":\"73046fa6-35b2-4b4c-b593-5a27da840e57\",\"type\":\"BasicTickFormatter\"},\"plot\":{\"id\":\"7721f0b7-5d66-4bf7-9824-9c9962aa7913\",\"subtype\":\"Figure\",\"type\":\"Plot\"},\"ticker\":{\"id\":\"1ed551bd-d3ad-40bf-9dba-515a928e1127\",\"type\":\"BasicTicker\"}},\"id\":\"9e1d773a-e6df-40b3-8020-b8f1260b03bc\",\"type\":\"LinearAxis\"},{\"attributes\":{\"formatter\":{\"id\":\"5e90bea3-0977-4cfa-acdd-cad0d7ea55ac\",\"type\":\"BasicTickFormatter\"},\"plot\":{\"id\":\"7721f0b7-5d66-4bf7-9824-9c9962aa7913\",\"subtype\":\"Figure\",\"type\":\"Plot\"},\"ticker\":{\"id\":\"dd7d47c6-61d2-48aa-bc8b-49ae0a49d026\",\"type\":\"BasicTicker\"}},\"id\":\"47856fa6-02aa-4253-9beb-57e51f2a1c22\",\"type\":\"LinearAxis\"},{\"attributes\":{\"callback\":null,\"data\":{\"x\":[-8.0,8.0],\"y\":[0.0,0.0]},\"selected\":{\"id\":\"70580a9a-6dd7-4d96-bb78-cf08368bc86c\",\"type\":\"Selection\"},\"selection_policy\":{\"id\":\"12d1f3da-0d34-43ed-b2be-4df1044ca8d7\",\"type\":\"UnionRenderers\"}},\"id\":\"c671d421-d02c-4649-8614-32f3943b0492\",\"type\":\"ColumnDataSource\"},{\"attributes\":{},\"id\":\"9faffbcf-e744-4275-9d40-da1d5604c82a\",\"type\":\"LinearScale\"},{\"attributes\":{\"callback\":null,\"data\":{\"x\":[0.0,0.0],\"y\":[-8.0,8.0]},\"selected\":{\"id\":\"14c80e8f-2b44-4837-a3d1-b18ecbe4edd6\",\"type\":\"Selection\"},\"selection_policy\":{\"id\":\"43eaf886-2ec2-4cbb-84b9-5195dc1d32a3\",\"type\":\"UnionRenderers\"}},\"id\":\"93e7af1c-6f77-4f10-be2b-690c33f4c697\",\"type\":\"ColumnDataSource\"},{\"attributes\":{\"data_source\":{\"id\":\"c671d421-d02c-4649-8614-32f3943b0492\",\"type\":\"ColumnDataSource\"},\"glyph\":{\"id\":\"0d9cfb93-19a5-4b08-a4db-d315266698af\",\"type\":\"Line\"},\"hover_glyph\":null,\"muted_glyph\":null,\"nonselection_glyph\":{\"id\":\"8c0a0829-3c06-46ef-a8f5-afc1a6a598a4\",\"type\":\"Line\"},\"selection_glyph\":null,\"view\":{\"id\":\"600f6013-9e15-4d63-8fe7-47845eda431f\",\"type\":\"CDSView\"}},\"id\":\"8f53321a-1353-4017-97df-a5d89b4fc420\",\"type\":\"GlyphRenderer\"},{\"attributes\":{},\"id\":\"7f18595e-142f-496f-8f5f-4e71ff6edba2\",\"type\":\"WheelZoomTool\"},{\"attributes\":{\"source\":{\"id\":\"c671d421-d02c-4649-8614-32f3943b0492\",\"type\":\"ColumnDataSource\"}},\"id\":\"600f6013-9e15-4d63-8fe7-47845eda431f\",\"type\":\"CDSView\"},{\"attributes\":{},\"id\":\"8065aa26-421c-4b9d-88c0-fc66cf9169fd\",\"type\":\"PanTool\"},{\"attributes\":{},\"id\":\"a92b57b6-325f-4d7d-a920-2337c7f4b683\",\"type\":\"ResetTool\"},{\"attributes\":{\"callback\":null,\"end\":5.6,\"start\":-5.6},\"id\":\"ca459e06-259a-4479-9a68-c5846a694d22\",\"type\":\"Range1d\"},{\"attributes\":{},\"id\":\"63fa9f31-6b98-4a04-bdf7-4a40656dc9c1\",\"type\":\"LinearScale\"},{\"attributes\":{\"fill_color\":{\"value\":\"red\"},\"line_color\":{\"value\":\"red\"},\"plot\":null,\"size\":10},\"id\":\"8d1f54d8-1351-43e1-bafb-6efde986700b\",\"type\":\"NormalHead\"}],\"root_ids\":[\"7721f0b7-5d66-4bf7-9824-9c9962aa7913\"]},\"title\":\"Bokeh Application\",\"version\":\"0.13.0\"}};\n",
       "  var render_items = [{\"docid\":\"44146c37-ed9b-467e-a32e-b3fcbb47c940\",\"roots\":{\"7721f0b7-5d66-4bf7-9824-9c9962aa7913\":\"c6c5dcb8-b27e-45a7-bb94-bb743eb03072\"}}];\n",
       "  root.Bokeh.embed.embed_items_notebook(docs_json, render_items);\n",
       "\n",
       "  }\n",
       "  if (root.Bokeh !== undefined) {\n",
       "    embed_document(root);\n",
       "  } else {\n",
       "    var attempts = 0;\n",
       "    var timer = setInterval(function(root) {\n",
       "      if (root.Bokeh !== undefined) {\n",
       "        embed_document(root);\n",
       "        clearInterval(timer);\n",
       "      }\n",
       "      attempts++;\n",
       "      if (attempts > 100) {\n",
       "        console.log(\"Bokeh: ERROR: Unable to run BokehJS code because BokehJS library is missing\")\n",
       "        clearInterval(timer);\n",
       "      }\n",
       "    }, 10, root)\n",
       "  }\n",
       "})(window);"
      ],
      "application/vnd.bokehjs_exec.v0+json": ""
     },
     "metadata": {
      "application/vnd.bokehjs_exec.v0+json": {
       "id": "7721f0b7-5d66-4bf7-9824-9c9962aa7913"
      }
     },
     "output_type": "display_data"
    }
   ],
   "source": [
    "i = np.array([1,0])\n",
    "j = np.array([0,1])\n",
    "plot.clear()\n",
    "plot.graph(8)\n",
    "plot.vector(i,add_color=\"blue\")\n",
    "plot.vector(j,add_color=\"red\")\n",
    "plot.show()"
   ]
  },
  {
   "cell_type": "markdown",
   "metadata": {},
   "source": [
    "Any specific vector can be treated as a linear combination of the unit vectors.\n",
    "\n",
    "To get to the position $\\begin{bmatrix} 2 \\\\ 3 \\end{bmatrix}$, we could just scale and combine $\\hat{i}$ and $\\hat{j}$ accordingly.\n",
    "\n",
    "$$2\\hat{i} + 3\\hat{j}= 2\\begin{bmatrix} 1 \\\\ 0 \\end{bmatrix} + 3\\begin{bmatrix} 0 \\\\ 1 \\end{bmatrix} = \\begin{bmatrix} 2 \\\\ 3 \\end{bmatrix}$$\n",
    "\n",
    "This concept of a unit vector helps us define the \"**basis**\" of our coordinate system. That is, they help use establish the fundamental units that describe the positions within a specific space. "
   ]
  },
  {
   "cell_type": "code",
   "execution_count": 24,
   "metadata": {},
   "outputs": [
    {
     "data": {
      "text/plain": [
       "array([2, 3])"
      ]
     },
     "execution_count": 24,
     "metadata": {},
     "output_type": "execute_result"
    }
   ],
   "source": [
    "2*i+3*j"
   ]
  },
  {
   "cell_type": "code",
   "execution_count": 25,
   "metadata": {},
   "outputs": [
    {
     "data": {
      "text/html": [
       "\n",
       "\n",
       "\n",
       "\n",
       "\n",
       "\n",
       "  <div class=\"bk-root\" id=\"eccbe97c-c713-4225-a6b4-0e1d6d0cf8f6\"></div>\n"
      ]
     },
     "metadata": {},
     "output_type": "display_data"
    },
    {
     "data": {
      "application/javascript": [
       "(function(root) {\n",
       "  function embed_document(root) {\n",
       "    \n",
       "  var docs_json = {\"ac7e0a2a-cd00-49b3-b216-fdf66a1b6227\":{\"roots\":{\"references\":[{\"attributes\":{\"fill_alpha\":{\"value\":0.2},\"line_alpha\":{\"value\":0.2},\"plot\":null,\"size\":10},\"id\":\"af84f03c-f9b8-49f1-9271-fe2200015b32\",\"type\":\"NormalHead\"},{\"attributes\":{\"end\":{\"id\":\"ee0213b9-f125-49a1-b03a-905f6f8f36ba\",\"type\":\"NormalHead\"},\"line_alpha\":{\"value\":0.2},\"line_width\":{\"value\":3},\"plot\":{\"id\":\"7721f0b7-5d66-4bf7-9824-9c9962aa7913\",\"subtype\":\"Figure\",\"type\":\"Plot\"},\"source\":null,\"start\":null,\"x_end\":{\"value\":1.4874066955831333},\"x_start\":{\"value\":0.0},\"y_end\":{\"value\":3.9109936965038212},\"y_start\":{\"value\":0.0}},\"id\":\"8465ea3e-d946-4833-8722-e0f4043d4863\",\"type\":\"Arrow\"},{\"attributes\":{\"end\":{\"id\":\"15045f74-8cff-41d2-83db-7c8ee66f0dac\",\"type\":\"NormalHead\"},\"line_alpha\":{\"value\":0.2},\"line_width\":{\"value\":3},\"plot\":{\"id\":\"7721f0b7-5d66-4bf7-9824-9c9962aa7913\",\"subtype\":\"Figure\",\"type\":\"Plot\"},\"source\":null,\"start\":null,\"x_end\":{\"value\":2.0547278590898426},\"x_start\":{\"value\":0.0},\"y_end\":{\"value\":4.605720432998764},\"y_start\":{\"value\":0.0}},\"id\":\"222950dc-0ff0-45c2-bade-e4e1f57bc440\",\"type\":\"Arrow\"},{\"attributes\":{\"fill_alpha\":{\"value\":0.2},\"line_alpha\":{\"value\":0.2},\"plot\":null,\"size\":10},\"id\":\"21c5ae83-a65c-46d8-acdd-cbb87bd825bd\",\"type\":\"NormalHead\"},{\"attributes\":{\"end\":{\"id\":\"af84f03c-f9b8-49f1-9271-fe2200015b32\",\"type\":\"NormalHead\"},\"line_alpha\":{\"value\":0.2},\"line_width\":{\"value\":3},\"plot\":{\"id\":\"7721f0b7-5d66-4bf7-9824-9c9962aa7913\",\"subtype\":\"Figure\",\"type\":\"Plot\"},\"source\":null,\"start\":null,\"x_end\":{\"value\":0.8727976341038},\"x_start\":{\"value\":0.0},\"y_end\":{\"value\":-1.356810892870386},\"y_start\":{\"value\":0.0}},\"id\":\"aac07e0d-004d-4d19-9fa3-6ed44ad9eab0\",\"type\":\"Arrow\"},{\"attributes\":{\"fill_alpha\":{\"value\":0.2},\"line_alpha\":{\"value\":0.2},\"plot\":null,\"size\":10},\"id\":\"d207856d-3c44-40a6-87fb-21b68ce18452\",\"type\":\"NormalHead\"},{\"attributes\":{\"end\":{\"id\":\"21c5ae83-a65c-46d8-acdd-cbb87bd825bd\",\"type\":\"NormalHead\"},\"line_alpha\":{\"value\":0.2},\"line_width\":{\"value\":3},\"plot\":{\"id\":\"7721f0b7-5d66-4bf7-9824-9c9962aa7913\",\"subtype\":\"Figure\",\"type\":\"Plot\"},\"source\":null,\"start\":null,\"x_end\":{\"value\":-1.084418734277671},\"x_start\":{\"value\":0.0},\"y_end\":{\"value\":3.5003133807455917},\"y_start\":{\"value\":0.0}},\"id\":\"e609f19c-2581-4993-8935-629a7ef6be3f\",\"type\":\"Arrow\"},{\"attributes\":{\"fill_alpha\":{\"value\":0.2},\"line_alpha\":{\"value\":0.2},\"plot\":null,\"size\":10},\"id\":\"f7bd8752-a319-481e-ad0e-1999fc94b989\",\"type\":\"NormalHead\"},{\"attributes\":{\"fill_alpha\":{\"value\":0.2},\"line_alpha\":{\"value\":0.2},\"plot\":null,\"size\":10},\"id\":\"220e4275-252c-46eb-ad50-e9168159c00e\",\"type\":\"NormalHead\"},{\"attributes\":{\"end\":{\"id\":\"d207856d-3c44-40a6-87fb-21b68ce18452\",\"type\":\"NormalHead\"},\"line_alpha\":{\"value\":0.2},\"line_width\":{\"value\":3},\"plot\":{\"id\":\"7721f0b7-5d66-4bf7-9824-9c9962aa7913\",\"subtype\":\"Figure\",\"type\":\"Plot\"},\"source\":null,\"start\":null,\"x_end\":{\"value\":-4.566927661905251},\"x_start\":{\"value\":0.0},\"y_end\":{\"value\":-4.8917801521620525},\"y_start\":{\"value\":0.0}},\"id\":\"79f1daed-a037-48be-8160-847500906e5e\",\"type\":\"Arrow\"},{\"attributes\":{\"fill_alpha\":{\"value\":0.2},\"line_alpha\":{\"value\":0.2},\"plot\":null,\"size\":10},\"id\":\"10908272-c22f-4252-bafb-63e171381550\",\"type\":\"NormalHead\"},{\"attributes\":{\"end\":{\"id\":\"220e4275-252c-46eb-ad50-e9168159c00e\",\"type\":\"NormalHead\"},\"line_alpha\":{\"value\":0.2},\"line_width\":{\"value\":3},\"plot\":{\"id\":\"7721f0b7-5d66-4bf7-9824-9c9962aa7913\",\"subtype\":\"Figure\",\"type\":\"Plot\"},\"source\":null,\"start\":null,\"x_end\":{\"value\":-2.321739734078272},\"x_start\":{\"value\":0.0},\"y_end\":{\"value\":-3.4333992675666334},\"y_start\":{\"value\":0.0}},\"id\":\"3edee322-4509-4094-bff8-500ce2ce72e1\",\"type\":\"Arrow\"},{\"attributes\":{\"fill_alpha\":{\"value\":0.2},\"line_alpha\":{\"value\":0.2},\"plot\":null,\"size\":10},\"id\":\"907375d5-b519-4755-bd07-31dff7525a74\",\"type\":\"NormalHead\"},{\"attributes\":{\"end\":{\"id\":\"10908272-c22f-4252-bafb-63e171381550\",\"type\":\"NormalHead\"},\"line_alpha\":{\"value\":0.2},\"line_width\":{\"value\":3},\"plot\":{\"id\":\"7721f0b7-5d66-4bf7-9824-9c9962aa7913\",\"subtype\":\"Figure\",\"type\":\"Plot\"},\"source\":null,\"start\":null,\"x_end\":{\"value\":-2.2721496504646668},\"x_start\":{\"value\":0.0},\"y_end\":{\"value\":3.9706375492617045},\"y_start\":{\"value\":0.0}},\"id\":\"ec492872-c9e5-4be1-8c1e-f63af1423546\",\"type\":\"Arrow\"},{\"attributes\":{\"fill_alpha\":{\"value\":0.2},\"line_alpha\":{\"value\":0.2},\"plot\":null,\"size\":10},\"id\":\"4a9b9d01-7901-490b-a026-160b86605a87\",\"type\":\"NormalHead\"},{\"attributes\":{\"end\":{\"id\":\"907375d5-b519-4755-bd07-31dff7525a74\",\"type\":\"NormalHead\"},\"line_alpha\":{\"value\":0.2},\"line_width\":{\"value\":3},\"plot\":{\"id\":\"7721f0b7-5d66-4bf7-9824-9c9962aa7913\",\"subtype\":\"Figure\",\"type\":\"Plot\"},\"source\":null,\"start\":null,\"x_end\":{\"value\":1.6678693522237893},\"x_start\":{\"value\":0.0},\"y_end\":{\"value\":-2.3571628395061284},\"y_start\":{\"value\":0.0}},\"id\":\"271313f3-2484-4120-bc3d-f853ea8a4641\",\"type\":\"Arrow\"},{\"attributes\":{\"fill_color\":{\"value\":\"blue\"},\"line_color\":{\"value\":\"blue\"},\"plot\":null,\"size\":10},\"id\":\"9fc2b0c6-3fdb-4fa8-9924-1512047f4b0b\",\"type\":\"NormalHead\"},{\"attributes\":{\"fill_alpha\":{\"value\":0.2},\"line_alpha\":{\"value\":0.2},\"plot\":null,\"size\":10},\"id\":\"f21419a9-7f6a-47f7-9195-392ae8ffbdda\",\"type\":\"NormalHead\"},{\"attributes\":{\"dimension\":1,\"plot\":{\"id\":\"7721f0b7-5d66-4bf7-9824-9c9962aa7913\",\"subtype\":\"Figure\",\"type\":\"Plot\"},\"ticker\":{\"id\":\"dd7d47c6-61d2-48aa-bc8b-49ae0a49d026\",\"type\":\"BasicTicker\"}},\"id\":\"6ecd7b0e-e540-4063-b14f-d90859765875\",\"type\":\"Grid\"},{\"attributes\":{\"end\":{\"id\":\"4a9b9d01-7901-490b-a026-160b86605a87\",\"type\":\"NormalHead\"},\"line_alpha\":{\"value\":0.2},\"line_width\":{\"value\":3},\"plot\":{\"id\":\"7721f0b7-5d66-4bf7-9824-9c9962aa7913\",\"subtype\":\"Figure\",\"type\":\"Plot\"},\"source\":null,\"start\":null,\"x_end\":{\"value\":0.984363929413079},\"x_start\":{\"value\":0.0},\"y_end\":{\"value\":-2.306958165420671},\"y_start\":{\"value\":0.0}},\"id\":\"6004c049-98ff-434d-9586-6f8ed379f6e8\",\"type\":\"Arrow\"},{\"attributes\":{\"below\":[{\"id\":\"9e1d773a-e6df-40b3-8020-b8f1260b03bc\",\"type\":\"LinearAxis\"}],\"left\":[{\"id\":\"47856fa6-02aa-4253-9beb-57e51f2a1c22\",\"type\":\"LinearAxis\"}],\"plot_height\":700,\"plot_width\":700,\"renderers\":[{\"id\":\"9e1d773a-e6df-40b3-8020-b8f1260b03bc\",\"type\":\"LinearAxis\"},{\"id\":\"56860fa0-45d9-426b-9e19-9e1390ea2697\",\"type\":\"Grid\"},{\"id\":\"47856fa6-02aa-4253-9beb-57e51f2a1c22\",\"type\":\"LinearAxis\"},{\"id\":\"6ecd7b0e-e540-4063-b14f-d90859765875\",\"type\":\"Grid\"},{\"id\":\"8f53321a-1353-4017-97df-a5d89b4fc420\",\"type\":\"GlyphRenderer\"},{\"id\":\"7a99abe7-009a-4519-8481-ff5aa6d3cea7\",\"type\":\"GlyphRenderer\"},{\"id\":\"1b76fd89-cd76-4666-b88d-11a09f5d6949\",\"type\":\"Arrow\"},{\"id\":\"a1e6c347-da21-4026-bfcf-dc12d975c44b\",\"type\":\"Arrow\"},{\"id\":\"f484ca29-f3ae-4bdb-83ab-083e12007034\",\"type\":\"Arrow\"},{\"id\":\"23fd090f-c620-4af2-954f-c9d7b3a348ea\",\"type\":\"Arrow\"},{\"id\":\"4d63b984-859b-494d-99ab-9bc651ed89de\",\"type\":\"Arrow\"},{\"id\":\"32283575-e25e-42d3-8b7d-2824d45428ab\",\"type\":\"Arrow\"},{\"id\":\"1503bd8a-c245-476d-89a6-ecc25e07d2ec\",\"type\":\"Arrow\"},{\"id\":\"20a99b62-287d-44b9-be72-958d73cc9d34\",\"type\":\"Arrow\"},{\"id\":\"222950dc-0ff0-45c2-bade-e4e1f57bc440\",\"type\":\"Arrow\"},{\"id\":\"aac07e0d-004d-4d19-9fa3-6ed44ad9eab0\",\"type\":\"Arrow\"},{\"id\":\"e609f19c-2581-4993-8935-629a7ef6be3f\",\"type\":\"Arrow\"},{\"id\":\"79f1daed-a037-48be-8160-847500906e5e\",\"type\":\"Arrow\"},{\"id\":\"3edee322-4509-4094-bff8-500ce2ce72e1\",\"type\":\"Arrow\"},{\"id\":\"ec492872-c9e5-4be1-8c1e-f63af1423546\",\"type\":\"Arrow\"},{\"id\":\"271313f3-2484-4120-bc3d-f853ea8a4641\",\"type\":\"Arrow\"},{\"id\":\"6004c049-98ff-434d-9586-6f8ed379f6e8\",\"type\":\"Arrow\"},{\"id\":\"73059efe-dbc3-4b12-b8f0-6324766be4d9\",\"type\":\"Arrow\"},{\"id\":\"241a7971-7df2-4c0e-a660-54d5e9c583a5\",\"type\":\"Arrow\"},{\"id\":\"a3ab662b-b4df-48f6-aabf-3585635fc0b3\",\"type\":\"Arrow\"},{\"id\":\"19baf919-3f0c-4242-b4bb-0a5ac9640097\",\"type\":\"Arrow\"},{\"id\":\"d5e63e88-716a-41a3-bc2e-bb304577b060\",\"type\":\"Arrow\"},{\"id\":\"8465ea3e-d946-4833-8722-e0f4043d4863\",\"type\":\"Arrow\"},{\"id\":\"e5095c67-4f84-4daa-b3eb-c2efd859b067\",\"type\":\"Arrow\"},{\"id\":\"30c74ec7-c446-4dc3-b467-aa429bb5c432\",\"type\":\"Arrow\"},{\"id\":\"de7a3f60-2091-4ec6-9507-42a7fbc977f8\",\"type\":\"Arrow\"},{\"id\":\"b275446f-87e0-4962-9d1b-9643fa8631dc\",\"type\":\"Arrow\"},{\"id\":\"058b9baa-5fbf-49aa-9341-65e69e3a7071\",\"type\":\"Arrow\"},{\"id\":\"2f660701-f72a-406d-867e-f1e7b8c572fc\",\"type\":\"Arrow\"},{\"id\":\"d3e77291-5f19-4d27-8e26-9b1e037df7ec\",\"type\":\"Arrow\"},{\"id\":\"008a0376-7e92-47eb-b6ad-e193c98cb115\",\"type\":\"Arrow\"},{\"id\":\"46c99457-fa46-42b2-890f-7b0b48059a92\",\"type\":\"Arrow\"},{\"id\":\"7f36ab5f-f6b6-4228-a4ed-bef8cdbcf213\",\"type\":\"Arrow\"},{\"id\":\"3cf15c15-7f4d-424f-bd04-40a0c5935770\",\"type\":\"Arrow\"},{\"id\":\"647dec0c-2303-4062-9d6e-ddb8500841cc\",\"type\":\"Arrow\"},{\"id\":\"d1646b16-76fa-452e-9945-08fd132f00dc\",\"type\":\"Arrow\"},{\"id\":\"1362e2a4-c1b2-4340-98ae-056cd000f958\",\"type\":\"Arrow\"},{\"id\":\"a3551520-6cf7-47aa-9699-cf71563c8600\",\"type\":\"Arrow\"},{\"id\":\"bac399cb-cf00-461d-92f6-9b5ef2df923b\",\"type\":\"Arrow\"},{\"id\":\"5062337e-8d76-4209-9edd-128f55ebff84\",\"type\":\"Arrow\"},{\"id\":\"79173cac-3296-4a3c-9bbd-aac07a18d0d3\",\"type\":\"Arrow\"},{\"id\":\"fbc6fb1f-e8a5-406b-a558-cb8cbdf0887a\",\"type\":\"Arrow\"},{\"id\":\"d9bb80d8-e7dd-49da-8ff8-5bc40bd72092\",\"type\":\"Arrow\"},{\"id\":\"c3389b11-0a1b-4f2a-a893-3dc9fff02c65\",\"type\":\"Arrow\"},{\"id\":\"f9d7a8ee-4cd4-4b0b-9264-be7e7886bfe2\",\"type\":\"Arrow\"},{\"id\":\"f440cf5e-d88e-4390-b100-c50b8746c31b\",\"type\":\"Arrow\"},{\"id\":\"23bb5a75-aca5-49ee-80eb-4038f1ef4775\",\"type\":\"Arrow\"},{\"id\":\"f14d130a-a87f-474d-9ee7-ba189640354e\",\"type\":\"Arrow\"},{\"id\":\"e5bc9453-7cfe-40dd-9abc-aabd613b8a8a\",\"type\":\"Arrow\"},{\"id\":\"345da994-b7fe-47cf-ad84-0eeddab27aba\",\"type\":\"Arrow\"},{\"id\":\"3347173e-0672-40e5-af84-23d133125e8f\",\"type\":\"Arrow\"},{\"id\":\"41e2e0d7-93af-42de-858b-19bb9f3fc569\",\"type\":\"Arrow\"},{\"id\":\"320bb15b-ed31-4884-b158-90139766f2e6\",\"type\":\"Arrow\"},{\"id\":\"632993e3-7243-4923-bfbd-3024ff78e1cf\",\"type\":\"Arrow\"}],\"title\":{\"id\":\"7eeef787-8b0f-485f-950f-a0ff13ad06c6\",\"type\":\"Title\"},\"toolbar\":{\"id\":\"a1325adb-a071-4789-b779-cc76f12b906f\",\"type\":\"Toolbar\"},\"x_range\":{\"id\":\"ca459e06-259a-4479-9a68-c5846a694d22\",\"type\":\"Range1d\"},\"x_scale\":{\"id\":\"9faffbcf-e744-4275-9d40-da1d5604c82a\",\"type\":\"LinearScale\"},\"y_range\":{\"id\":\"93c803e8-32a4-4172-9456-47e671e5dbd6\",\"type\":\"Range1d\"},\"y_scale\":{\"id\":\"63fa9f31-6b98-4a04-bdf7-4a40656dc9c1\",\"type\":\"LinearScale\"}},\"id\":\"7721f0b7-5d66-4bf7-9824-9c9962aa7913\",\"subtype\":\"Figure\",\"type\":\"Plot\"},{\"attributes\":{\"fill_alpha\":{\"value\":0.2},\"line_alpha\":{\"value\":0.2},\"plot\":null,\"size\":10},\"id\":\"5b3e9a51-852a-461e-9485-6e1c227a0032\",\"type\":\"NormalHead\"},{\"attributes\":{\"end\":{\"id\":\"f21419a9-7f6a-47f7-9195-392ae8ffbdda\",\"type\":\"NormalHead\"},\"line_alpha\":{\"value\":0.2},\"line_width\":{\"value\":3},\"plot\":{\"id\":\"7721f0b7-5d66-4bf7-9824-9c9962aa7913\",\"subtype\":\"Figure\",\"type\":\"Plot\"},\"source\":null,\"start\":null,\"x_end\":{\"value\":-3.1305738301295714},\"x_start\":{\"value\":0.0},\"y_end\":{\"value\":-0.9075200361145495},\"y_start\":{\"value\":0.0}},\"id\":\"73059efe-dbc3-4b12-b8f0-6324766be4d9\",\"type\":\"Arrow\"},{\"attributes\":{},\"id\":\"dd7d47c6-61d2-48aa-bc8b-49ae0a49d026\",\"type\":\"BasicTicker\"},{\"attributes\":{\"line_width\":1.5,\"x\":{\"field\":\"x\"},\"y\":{\"field\":\"y\"}},\"id\":\"0d9cfb93-19a5-4b08-a4db-d315266698af\",\"type\":\"Line\"},{\"attributes\":{\"fill_alpha\":{\"value\":0.2},\"line_alpha\":{\"value\":0.2},\"plot\":null,\"size\":10},\"id\":\"cc4bfc41-55c9-43ba-af01-d813ebe38771\",\"type\":\"NormalHead\"},{\"attributes\":{\"end\":{\"id\":\"5b3e9a51-852a-461e-9485-6e1c227a0032\",\"type\":\"NormalHead\"},\"line_alpha\":{\"value\":0.2},\"line_width\":{\"value\":3},\"plot\":{\"id\":\"7721f0b7-5d66-4bf7-9824-9c9962aa7913\",\"subtype\":\"Figure\",\"type\":\"Plot\"},\"source\":null,\"start\":null,\"x_end\":{\"value\":2.8939430796053047},\"x_start\":{\"value\":0.0},\"y_end\":{\"value\":-0.8739332353092264},\"y_start\":{\"value\":0.0}},\"id\":\"241a7971-7df2-4c0e-a660-54d5e9c583a5\",\"type\":\"Arrow\"},{\"attributes\":{\"active_drag\":\"auto\",\"active_inspect\":\"auto\",\"active_multi\":null,\"active_scroll\":\"auto\",\"active_tap\":\"auto\",\"tools\":[{\"id\":\"7f18595e-142f-496f-8f5f-4e71ff6edba2\",\"type\":\"WheelZoomTool\"},{\"id\":\"8065aa26-421c-4b9d-88c0-fc66cf9169fd\",\"type\":\"PanTool\"},{\"id\":\"a92b57b6-325f-4d7d-a920-2337c7f4b683\",\"type\":\"ResetTool\"}]},\"id\":\"a1325adb-a071-4789-b779-cc76f12b906f\",\"type\":\"Toolbar\"},{\"attributes\":{\"callback\":null,\"end\":5.6,\"start\":-5.6},\"id\":\"93c803e8-32a4-4172-9456-47e671e5dbd6\",\"type\":\"Range1d\"},{\"attributes\":{\"fill_alpha\":{\"value\":0.2},\"line_alpha\":{\"value\":0.2},\"plot\":null,\"size\":10},\"id\":\"2342344c-be92-4cee-89be-e85b20d0cee9\",\"type\":\"NormalHead\"},{\"attributes\":{\"end\":{\"id\":\"cc4bfc41-55c9-43ba-af01-d813ebe38771\",\"type\":\"NormalHead\"},\"line_alpha\":{\"value\":0.2},\"line_width\":{\"value\":3},\"plot\":{\"id\":\"7721f0b7-5d66-4bf7-9824-9c9962aa7913\",\"subtype\":\"Figure\",\"type\":\"Plot\"},\"source\":null,\"start\":null,\"x_end\":{\"value\":2.1031280012243556},\"x_start\":{\"value\":0.0},\"y_end\":{\"value\":-3.9939615907895796},\"y_start\":{\"value\":0.0}},\"id\":\"a3ab662b-b4df-48f6-aabf-3585635fc0b3\",\"type\":\"Arrow\"},{\"attributes\":{\"plot\":{\"id\":\"7721f0b7-5d66-4bf7-9824-9c9962aa7913\",\"subtype\":\"Figure\",\"type\":\"Plot\"},\"ticker\":{\"id\":\"1ed551bd-d3ad-40bf-9dba-515a928e1127\",\"type\":\"BasicTicker\"}},\"id\":\"56860fa0-45d9-426b-9e19-9e1390ea2697\",\"type\":\"Grid\"},{\"attributes\":{\"fill_alpha\":{\"value\":0.2},\"line_alpha\":{\"value\":0.2},\"plot\":null,\"size\":10},\"id\":\"d9ea0384-00c8-4b8e-a533-bec4658dd9e3\",\"type\":\"NormalHead\"},{\"attributes\":{\"end\":{\"id\":\"2342344c-be92-4cee-89be-e85b20d0cee9\",\"type\":\"NormalHead\"},\"line_alpha\":{\"value\":0.2},\"line_width\":{\"value\":3},\"plot\":{\"id\":\"7721f0b7-5d66-4bf7-9824-9c9962aa7913\",\"subtype\":\"Figure\",\"type\":\"Plot\"},\"source\":null,\"start\":null,\"x_end\":{\"value\":-3.6634655044024864},\"x_start\":{\"value\":0.0},\"y_end\":{\"value\":-0.9232750839201573},\"y_start\":{\"value\":0.0}},\"id\":\"19baf919-3f0c-4242-b4bb-0a5ac9640097\",\"type\":\"Arrow\"},{\"attributes\":{},\"id\":\"1ed551bd-d3ad-40bf-9dba-515a928e1127\",\"type\":\"BasicTicker\"},{\"attributes\":{\"formatter\":{\"id\":\"73046fa6-35b2-4b4c-b593-5a27da840e57\",\"type\":\"BasicTickFormatter\"},\"plot\":{\"id\":\"7721f0b7-5d66-4bf7-9824-9c9962aa7913\",\"subtype\":\"Figure\",\"type\":\"Plot\"},\"ticker\":{\"id\":\"1ed551bd-d3ad-40bf-9dba-515a928e1127\",\"type\":\"BasicTicker\"}},\"id\":\"9e1d773a-e6df-40b3-8020-b8f1260b03bc\",\"type\":\"LinearAxis\"},{\"attributes\":{\"end\":{\"id\":\"4f42d39d-c740-46b0-95fc-3483dc58658c\",\"type\":\"NormalHead\"},\"line_alpha\":{\"value\":0.2},\"line_width\":{\"value\":3},\"plot\":{\"id\":\"7721f0b7-5d66-4bf7-9824-9c9962aa7913\",\"subtype\":\"Figure\",\"type\":\"Plot\"},\"source\":null,\"start\":null,\"x_end\":{\"value\":2.505039587173721},\"x_start\":{\"value\":0.0},\"y_end\":{\"value\":2.891301262688101},\"y_start\":{\"value\":0.0}},\"id\":\"23bb5a75-aca5-49ee-80eb-4038f1ef4775\",\"type\":\"Arrow\"},{\"attributes\":{\"formatter\":{\"id\":\"5e90bea3-0977-4cfa-acdd-cad0d7ea55ac\",\"type\":\"BasicTickFormatter\"},\"plot\":{\"id\":\"7721f0b7-5d66-4bf7-9824-9c9962aa7913\",\"subtype\":\"Figure\",\"type\":\"Plot\"},\"ticker\":{\"id\":\"dd7d47c6-61d2-48aa-bc8b-49ae0a49d026\",\"type\":\"BasicTicker\"}},\"id\":\"47856fa6-02aa-4253-9beb-57e51f2a1c22\",\"type\":\"LinearAxis\"},{\"attributes\":{\"end\":{\"id\":\"d9ea0384-00c8-4b8e-a533-bec4658dd9e3\",\"type\":\"NormalHead\"},\"line_alpha\":{\"value\":0.2},\"line_width\":{\"value\":3},\"plot\":{\"id\":\"7721f0b7-5d66-4bf7-9824-9c9962aa7913\",\"subtype\":\"Figure\",\"type\":\"Plot\"},\"source\":null,\"start\":null,\"x_end\":{\"value\":1.2826278245614553},\"x_start\":{\"value\":0.0},\"y_end\":{\"value\":-2.759753016810449},\"y_start\":{\"value\":0.0}},\"id\":\"d5e63e88-716a-41a3-bc2e-bb304577b060\",\"type\":\"Arrow\"},{\"attributes\":{\"callback\":null,\"data\":{\"x\":[-8.0,8.0],\"y\":[0.0,0.0]},\"selected\":{\"id\":\"70580a9a-6dd7-4d96-bb78-cf08368bc86c\",\"type\":\"Selection\"},\"selection_policy\":{\"id\":\"12d1f3da-0d34-43ed-b2be-4df1044ca8d7\",\"type\":\"UnionRenderers\"}},\"id\":\"c671d421-d02c-4649-8614-32f3943b0492\",\"type\":\"ColumnDataSource\"},{\"attributes\":{\"fill_alpha\":{\"value\":0.2},\"line_alpha\":{\"value\":0.2},\"plot\":null,\"size\":10},\"id\":\"d64f1c8b-2bec-44f9-ac03-4ae1817cb8f3\",\"type\":\"NormalHead\"},{\"attributes\":{\"callback\":null,\"data\":{\"x\":[0.0,0.0],\"y\":[-8.0,8.0]},\"selected\":{\"id\":\"14c80e8f-2b44-4837-a3d1-b18ecbe4edd6\",\"type\":\"Selection\"},\"selection_policy\":{\"id\":\"43eaf886-2ec2-4cbb-84b9-5195dc1d32a3\",\"type\":\"UnionRenderers\"}},\"id\":\"93e7af1c-6f77-4f10-be2b-690c33f4c697\",\"type\":\"ColumnDataSource\"},{\"attributes\":{\"fill_alpha\":{\"value\":0.2},\"line_alpha\":{\"value\":0.2},\"plot\":null,\"size\":10},\"id\":\"992c1abd-9a19-4a3c-80ef-fb920f15feb0\",\"type\":\"NormalHead\"},{\"attributes\":{\"data_source\":{\"id\":\"c671d421-d02c-4649-8614-32f3943b0492\",\"type\":\"ColumnDataSource\"},\"glyph\":{\"id\":\"0d9cfb93-19a5-4b08-a4db-d315266698af\",\"type\":\"Line\"},\"hover_glyph\":null,\"muted_glyph\":null,\"nonselection_glyph\":{\"id\":\"8c0a0829-3c06-46ef-a8f5-afc1a6a598a4\",\"type\":\"Line\"},\"selection_glyph\":null,\"view\":{\"id\":\"600f6013-9e15-4d63-8fe7-47845eda431f\",\"type\":\"CDSView\"}},\"id\":\"8f53321a-1353-4017-97df-a5d89b4fc420\",\"type\":\"GlyphRenderer\"},{\"attributes\":{\"end\":{\"id\":\"00c4b1de-d46b-44ca-932e-d4662a9f2843\",\"type\":\"NormalHead\"},\"line_alpha\":{\"value\":0.2},\"line_width\":{\"value\":3},\"plot\":{\"id\":\"7721f0b7-5d66-4bf7-9824-9c9962aa7913\",\"subtype\":\"Figure\",\"type\":\"Plot\"},\"source\":null,\"start\":null,\"x_end\":{\"value\":-1.6362323999637884},\"x_start\":{\"value\":0.0},\"y_end\":{\"value\":2.6571479098465733},\"y_start\":{\"value\":0.0}},\"id\":\"e5095c67-4f84-4daa-b3eb-c2efd859b067\",\"type\":\"Arrow\"},{\"attributes\":{\"end\":{\"id\":\"d64f1c8b-2bec-44f9-ac03-4ae1817cb8f3\",\"type\":\"NormalHead\"},\"line_alpha\":{\"value\":0.2},\"line_width\":{\"value\":3},\"plot\":{\"id\":\"7721f0b7-5d66-4bf7-9824-9c9962aa7913\",\"subtype\":\"Figure\",\"type\":\"Plot\"},\"source\":null,\"start\":null,\"x_end\":{\"value\":2.6924505038349187},\"x_start\":{\"value\":0.0},\"y_end\":{\"value\":1.5827183584878748},\"y_start\":{\"value\":0.0}},\"id\":\"30c74ec7-c446-4dc3-b467-aa429bb5c432\",\"type\":\"Arrow\"},{\"attributes\":{},\"id\":\"7f18595e-142f-496f-8f5f-4e71ff6edba2\",\"type\":\"WheelZoomTool\"},{\"attributes\":{\"source\":{\"id\":\"c671d421-d02c-4649-8614-32f3943b0492\",\"type\":\"ColumnDataSource\"}},\"id\":\"600f6013-9e15-4d63-8fe7-47845eda431f\",\"type\":\"CDSView\"},{\"attributes\":{\"fill_alpha\":{\"value\":0.2},\"line_alpha\":{\"value\":0.2},\"plot\":null,\"size\":10},\"id\":\"7afed74e-f921-4028-b9de-7617a284d3f7\",\"type\":\"NormalHead\"},{\"attributes\":{\"end\":{\"id\":\"992c1abd-9a19-4a3c-80ef-fb920f15feb0\",\"type\":\"NormalHead\"},\"line_alpha\":{\"value\":0.2},\"line_width\":{\"value\":3},\"plot\":{\"id\":\"7721f0b7-5d66-4bf7-9824-9c9962aa7913\",\"subtype\":\"Figure\",\"type\":\"Plot\"},\"source\":null,\"start\":null,\"x_end\":{\"value\":4.2759835792356},\"x_start\":{\"value\":0.0},\"y_end\":{\"value\":1.3377558920797927},\"y_start\":{\"value\":0.0}},\"id\":\"de7a3f60-2091-4ec6-9507-42a7fbc977f8\",\"type\":\"Arrow\"},{\"attributes\":{},\"id\":\"8065aa26-421c-4b9d-88c0-fc66cf9169fd\",\"type\":\"PanTool\"},{\"attributes\":{\"fill_alpha\":{\"value\":0.2},\"line_alpha\":{\"value\":0.2},\"plot\":null,\"size\":10},\"id\":\"addae2b3-c569-49a8-b70e-1cb643c102b3\",\"type\":\"NormalHead\"},{\"attributes\":{},\"id\":\"a92b57b6-325f-4d7d-a920-2337c7f4b683\",\"type\":\"ResetTool\"},{\"attributes\":{\"line_alpha\":0.1,\"line_color\":\"#1f77b4\",\"line_width\":1.5,\"x\":{\"field\":\"x\"},\"y\":{\"field\":\"y\"}},\"id\":\"8c0a0829-3c06-46ef-a8f5-afc1a6a598a4\",\"type\":\"Line\"},{\"attributes\":{},\"id\":\"63fa9f31-6b98-4a04-bdf7-4a40656dc9c1\",\"type\":\"LinearScale\"},{\"attributes\":{\"end\":{\"id\":\"7afed74e-f921-4028-b9de-7617a284d3f7\",\"type\":\"NormalHead\"},\"line_alpha\":{\"value\":0.2},\"line_width\":{\"value\":3},\"plot\":{\"id\":\"7721f0b7-5d66-4bf7-9824-9c9962aa7913\",\"subtype\":\"Figure\",\"type\":\"Plot\"},\"source\":null,\"start\":null,\"x_end\":{\"value\":3.689947970753405},\"x_start\":{\"value\":0.0},\"y_end\":{\"value\":2.993782852916934},\"y_start\":{\"value\":0.0}},\"id\":\"b275446f-87e0-4962-9d1b-9643fa8631dc\",\"type\":\"Arrow\"},{\"attributes\":{\"fill_color\":{\"value\":\"red\"},\"line_color\":{\"value\":\"red\"},\"plot\":null,\"size\":10},\"id\":\"8d1f54d8-1351-43e1-bafb-6efde986700b\",\"type\":\"NormalHead\"},{\"attributes\":{\"fill_alpha\":{\"value\":0.2},\"line_alpha\":{\"value\":0.2},\"plot\":null,\"size\":10},\"id\":\"371a5550-df41-4e69-864e-22976e7d0ec6\",\"type\":\"NormalHead\"},{\"attributes\":{\"end\":{\"id\":\"addae2b3-c569-49a8-b70e-1cb643c102b3\",\"type\":\"NormalHead\"},\"line_alpha\":{\"value\":0.2},\"line_width\":{\"value\":3},\"plot\":{\"id\":\"7721f0b7-5d66-4bf7-9824-9c9962aa7913\",\"subtype\":\"Figure\",\"type\":\"Plot\"},\"source\":null,\"start\":null,\"x_end\":{\"value\":-1.3843561120130907},\"x_start\":{\"value\":0.0},\"y_end\":{\"value\":3.0434329603247647},\"y_start\":{\"value\":0.0}},\"id\":\"058b9baa-5fbf-49aa-9341-65e69e3a7071\",\"type\":\"Arrow\"},{\"attributes\":{\"line_width\":1.5,\"x\":{\"field\":\"x\"},\"y\":{\"field\":\"y\"}},\"id\":\"7d6d08a4-62af-4390-9cac-b4aa24ce3dc3\",\"type\":\"Line\"},{\"attributes\":{\"fill_alpha\":{\"value\":0.2},\"line_alpha\":{\"value\":0.2},\"plot\":null,\"size\":10},\"id\":\"9c117169-a323-4782-aa92-fd3ddb0c6a74\",\"type\":\"NormalHead\"},{\"attributes\":{\"line_alpha\":0.1,\"line_color\":\"#1f77b4\",\"line_width\":1.5,\"x\":{\"field\":\"x\"},\"y\":{\"field\":\"y\"}},\"id\":\"b7e61972-26f1-4214-9fcb-e451f328f854\",\"type\":\"Line\"},{\"attributes\":{\"fill_alpha\":{\"value\":0.2},\"line_alpha\":{\"value\":0.2},\"plot\":null,\"size\":10},\"id\":\"4a0b6bf6-d1f2-4ed0-8118-c4cc4638e800\",\"type\":\"NormalHead\"},{\"attributes\":{\"data_source\":{\"id\":\"93e7af1c-6f77-4f10-be2b-690c33f4c697\",\"type\":\"ColumnDataSource\"},\"glyph\":{\"id\":\"7d6d08a4-62af-4390-9cac-b4aa24ce3dc3\",\"type\":\"Line\"},\"hover_glyph\":null,\"muted_glyph\":null,\"nonselection_glyph\":{\"id\":\"b7e61972-26f1-4214-9fcb-e451f328f854\",\"type\":\"Line\"},\"selection_glyph\":null,\"view\":{\"id\":\"761754b6-6c91-4e5d-9c03-dcdf64dd6fe3\",\"type\":\"CDSView\"}},\"id\":\"7a99abe7-009a-4519-8481-ff5aa6d3cea7\",\"type\":\"GlyphRenderer\"},{\"attributes\":{\"end\":{\"id\":\"371a5550-df41-4e69-864e-22976e7d0ec6\",\"type\":\"NormalHead\"},\"line_alpha\":{\"value\":0.2},\"line_width\":{\"value\":3},\"plot\":{\"id\":\"7721f0b7-5d66-4bf7-9824-9c9962aa7913\",\"subtype\":\"Figure\",\"type\":\"Plot\"},\"source\":null,\"start\":null,\"x_end\":{\"value\":0.23366263037410206},\"x_start\":{\"value\":0.0},\"y_end\":{\"value\":-1.9164497121549298},\"y_start\":{\"value\":0.0}},\"id\":\"2f660701-f72a-406d-867e-f1e7b8c572fc\",\"type\":\"Arrow\"},{\"attributes\":{\"source\":{\"id\":\"93e7af1c-6f77-4f10-be2b-690c33f4c697\",\"type\":\"ColumnDataSource\"}},\"id\":\"761754b6-6c91-4e5d-9c03-dcdf64dd6fe3\",\"type\":\"CDSView\"},{\"attributes\":{\"fill_alpha\":{\"value\":0.2},\"line_alpha\":{\"value\":0.2},\"plot\":null,\"size\":10},\"id\":\"b2576e1f-eef3-4da7-9ab5-9e42a837ba03\",\"type\":\"NormalHead\"},{\"attributes\":{\"end\":{\"id\":\"4a0b6bf6-d1f2-4ed0-8118-c4cc4638e800\",\"type\":\"NormalHead\"},\"line_alpha\":{\"value\":0.2},\"line_width\":{\"value\":3},\"plot\":{\"id\":\"7721f0b7-5d66-4bf7-9824-9c9962aa7913\",\"subtype\":\"Figure\",\"type\":\"Plot\"},\"source\":null,\"start\":null,\"x_end\":{\"value\":3.7782616739476858},\"x_start\":{\"value\":0.0},\"y_end\":{\"value\":2.289281174354329},\"y_start\":{\"value\":0.0}},\"id\":\"d3e77291-5f19-4d27-8e26-9b1e037df7ec\",\"type\":\"Arrow\"},{\"attributes\":{},\"id\":\"5e90bea3-0977-4cfa-acdd-cad0d7ea55ac\",\"type\":\"BasicTickFormatter\"},{\"attributes\":{\"fill_alpha\":{\"value\":0.2},\"line_alpha\":{\"value\":0.2},\"plot\":null,\"size\":10},\"id\":\"d31ad307-ef36-40e3-95e3-376e6e0be44c\",\"type\":\"NormalHead\"},{\"attributes\":{\"fill_alpha\":{\"value\":0.2},\"line_alpha\":{\"value\":0.2},\"plot\":null,\"size\":10},\"id\":\"a0d15ba2-59db-4375-b65f-d4b39d9cae55\",\"type\":\"NormalHead\"},{\"attributes\":{\"end\":{\"id\":\"9fc2b0c6-3fdb-4fa8-9924-1512047f4b0b\",\"type\":\"NormalHead\"},\"line_color\":{\"value\":\"blue\"},\"line_width\":{\"value\":3},\"plot\":{\"id\":\"7721f0b7-5d66-4bf7-9824-9c9962aa7913\",\"subtype\":\"Figure\",\"type\":\"Plot\"},\"source\":null,\"start\":null,\"x_end\":{\"value\":1},\"x_start\":{\"value\":0.0},\"y_end\":{\"value\":0},\"y_start\":{\"value\":0.0}},\"id\":\"1b76fd89-cd76-4666-b88d-11a09f5d6949\",\"type\":\"Arrow\"},{\"attributes\":{\"end\":{\"id\":\"b2576e1f-eef3-4da7-9ab5-9e42a837ba03\",\"type\":\"NormalHead\"},\"line_alpha\":{\"value\":0.2},\"line_width\":{\"value\":3},\"plot\":{\"id\":\"7721f0b7-5d66-4bf7-9824-9c9962aa7913\",\"subtype\":\"Figure\",\"type\":\"Plot\"},\"source\":null,\"start\":null,\"x_end\":{\"value\":3.8732235784169404},\"x_start\":{\"value\":0.0},\"y_end\":{\"value\":0.38116966211192604},\"y_start\":{\"value\":0.0}},\"id\":\"008a0376-7e92-47eb-b6ad-e193c98cb115\",\"type\":\"Arrow\"},{\"attributes\":{\"plot\":null,\"text\":\"\"},\"id\":\"7eeef787-8b0f-485f-950f-a0ff13ad06c6\",\"type\":\"Title\"},{\"attributes\":{\"fill_alpha\":{\"value\":0.2},\"line_alpha\":{\"value\":0.2},\"plot\":null,\"size\":10},\"id\":\"b4cc01aa-4be6-41a0-b988-510f1c6ce60e\",\"type\":\"NormalHead\"},{\"attributes\":{\"end\":{\"id\":\"a0d15ba2-59db-4375-b65f-d4b39d9cae55\",\"type\":\"NormalHead\"},\"line_alpha\":{\"value\":0.2},\"line_width\":{\"value\":3},\"plot\":{\"id\":\"7721f0b7-5d66-4bf7-9824-9c9962aa7913\",\"subtype\":\"Figure\",\"type\":\"Plot\"},\"source\":null,\"start\":null,\"x_end\":{\"value\":1.8309544299320715},\"x_start\":{\"value\":0.0},\"y_end\":{\"value\":-4.246506289233859},\"y_start\":{\"value\":0.0}},\"id\":\"46c99457-fa46-42b2-890f-7b0b48059a92\",\"type\":\"Arrow\"},{\"attributes\":{\"end\":{\"id\":\"8d1f54d8-1351-43e1-bafb-6efde986700b\",\"type\":\"NormalHead\"},\"line_color\":{\"value\":\"red\"},\"line_width\":{\"value\":3},\"plot\":{\"id\":\"7721f0b7-5d66-4bf7-9824-9c9962aa7913\",\"subtype\":\"Figure\",\"type\":\"Plot\"},\"source\":null,\"start\":null,\"x_end\":{\"value\":0},\"x_start\":{\"value\":0.0},\"y_end\":{\"value\":1},\"y_start\":{\"value\":0.0}},\"id\":\"a1e6c347-da21-4026-bfcf-dc12d975c44b\",\"type\":\"Arrow\"},{\"attributes\":{\"fill_alpha\":{\"value\":0.2},\"line_alpha\":{\"value\":0.2},\"plot\":null,\"size\":10},\"id\":\"8b9c5325-6326-4fa7-a962-768dc3350c0b\",\"type\":\"NormalHead\"},{\"attributes\":{\"end\":{\"id\":\"b4cc01aa-4be6-41a0-b988-510f1c6ce60e\",\"type\":\"NormalHead\"},\"line_alpha\":{\"value\":0.2},\"line_width\":{\"value\":3},\"plot\":{\"id\":\"7721f0b7-5d66-4bf7-9824-9c9962aa7913\",\"subtype\":\"Figure\",\"type\":\"Plot\"},\"source\":null,\"start\":null,\"x_end\":{\"value\":-4.238127190087582},\"x_start\":{\"value\":0.0},\"y_end\":{\"value\":-4.205372704090124},\"y_start\":{\"value\":0.0}},\"id\":\"7f36ab5f-f6b6-4228-a4ed-bef8cdbcf213\",\"type\":\"Arrow\"},{\"attributes\":{},\"id\":\"12d1f3da-0d34-43ed-b2be-4df1044ca8d7\",\"type\":\"UnionRenderers\"},{\"attributes\":{},\"id\":\"73046fa6-35b2-4b4c-b593-5a27da840e57\",\"type\":\"BasicTickFormatter\"},{\"attributes\":{\"fill_alpha\":{\"value\":0.2},\"line_alpha\":{\"value\":0.2},\"plot\":null,\"size\":10},\"id\":\"abccc328-22e4-4035-b3ca-10f9acf6b316\",\"type\":\"NormalHead\"},{\"attributes\":{\"end\":{\"id\":\"8b9c5325-6326-4fa7-a962-768dc3350c0b\",\"type\":\"NormalHead\"},\"line_alpha\":{\"value\":0.2},\"line_width\":{\"value\":3},\"plot\":{\"id\":\"7721f0b7-5d66-4bf7-9824-9c9962aa7913\",\"subtype\":\"Figure\",\"type\":\"Plot\"},\"source\":null,\"start\":null,\"x_end\":{\"value\":0.9105691314421458},\"x_start\":{\"value\":0.0},\"y_end\":{\"value\":-1.714080241631243},\"y_start\":{\"value\":0.0}},\"id\":\"3cf15c15-7f4d-424f-bd04-40a0c5935770\",\"type\":\"Arrow\"},{\"attributes\":{\"fill_alpha\":{\"value\":0.2},\"line_alpha\":{\"value\":0.2},\"plot\":null,\"size\":10},\"id\":\"ee0213b9-f125-49a1-b03a-905f6f8f36ba\",\"type\":\"NormalHead\"},{\"attributes\":{\"fill_alpha\":{\"value\":0.2},\"line_alpha\":{\"value\":0.2},\"plot\":null,\"size\":10},\"id\":\"c3b74b48-62b2-466e-be35-290f58b8eafd\",\"type\":\"NormalHead\"},{\"attributes\":{},\"id\":\"70580a9a-6dd7-4d96-bb78-cf08368bc86c\",\"type\":\"Selection\"},{\"attributes\":{\"end\":{\"id\":\"abccc328-22e4-4035-b3ca-10f9acf6b316\",\"type\":\"NormalHead\"},\"line_alpha\":{\"value\":0.2},\"line_width\":{\"value\":3},\"plot\":{\"id\":\"7721f0b7-5d66-4bf7-9824-9c9962aa7913\",\"subtype\":\"Figure\",\"type\":\"Plot\"},\"source\":null,\"start\":null,\"x_end\":{\"value\":-0.0347134337213344},\"x_start\":{\"value\":0.0},\"y_end\":{\"value\":-3.4758990724800554},\"y_start\":{\"value\":0.0}},\"id\":\"647dec0c-2303-4062-9d6e-ddb8500841cc\",\"type\":\"Arrow\"},{\"attributes\":{},\"id\":\"43eaf886-2ec2-4cbb-84b9-5195dc1d32a3\",\"type\":\"UnionRenderers\"},{\"attributes\":{\"fill_alpha\":{\"value\":0.2},\"line_alpha\":{\"value\":0.2},\"plot\":null,\"size\":10},\"id\":\"48f2d5e9-9689-43e8-8b95-8ba226a1db85\",\"type\":\"NormalHead\"},{\"attributes\":{},\"id\":\"14c80e8f-2b44-4837-a3d1-b18ecbe4edd6\",\"type\":\"Selection\"},{\"attributes\":{\"end\":{\"id\":\"c3b74b48-62b2-466e-be35-290f58b8eafd\",\"type\":\"NormalHead\"},\"line_alpha\":{\"value\":0.2},\"line_width\":{\"value\":3},\"plot\":{\"id\":\"7721f0b7-5d66-4bf7-9824-9c9962aa7913\",\"subtype\":\"Figure\",\"type\":\"Plot\"},\"source\":null,\"start\":null,\"x_end\":{\"value\":1.8859927009921407},\"x_start\":{\"value\":0.0},\"y_end\":{\"value\":3.874409063690278},\"y_start\":{\"value\":0.0}},\"id\":\"d1646b16-76fa-452e-9945-08fd132f00dc\",\"type\":\"Arrow\"},{\"attributes\":{\"fill_alpha\":{\"value\":0.2},\"line_alpha\":{\"value\":0.2},\"plot\":null,\"size\":10},\"id\":\"00c4b1de-d46b-44ca-932e-d4662a9f2843\",\"type\":\"NormalHead\"},{\"attributes\":{\"end\":{\"id\":\"69ca896d-7ccb-4fa3-8bfe-abe7c8168137\",\"type\":\"NormalHead\"},\"line_alpha\":{\"value\":0.2},\"line_width\":{\"value\":3},\"plot\":{\"id\":\"7721f0b7-5d66-4bf7-9824-9c9962aa7913\",\"subtype\":\"Figure\",\"type\":\"Plot\"},\"source\":null,\"start\":null,\"x_end\":{\"value\":-3.967530069684342},\"x_start\":{\"value\":0.0},\"y_end\":{\"value\":1.1463458686261632},\"y_start\":{\"value\":0.0}},\"id\":\"f484ca29-f3ae-4bdb-83ab-083e12007034\",\"type\":\"Arrow\"},{\"attributes\":{\"fill_alpha\":{\"value\":0.2},\"line_alpha\":{\"value\":0.2},\"plot\":null,\"size\":10},\"id\":\"8602ff05-540e-4ca7-a25d-72b48b1db607\",\"type\":\"NormalHead\"},{\"attributes\":{\"end\":{\"id\":\"48f2d5e9-9689-43e8-8b95-8ba226a1db85\",\"type\":\"NormalHead\"},\"line_alpha\":{\"value\":0.2},\"line_width\":{\"value\":3},\"plot\":{\"id\":\"7721f0b7-5d66-4bf7-9824-9c9962aa7913\",\"subtype\":\"Figure\",\"type\":\"Plot\"},\"source\":null,\"start\":null,\"x_end\":{\"value\":-1.7615509263719717},\"x_start\":{\"value\":0.0},\"y_end\":{\"value\":0.4918834243950503},\"y_start\":{\"value\":0.0}},\"id\":\"1362e2a4-c1b2-4340-98ae-056cd000f958\",\"type\":\"Arrow\"},{\"attributes\":{\"fill_alpha\":{\"value\":0.2},\"line_alpha\":{\"value\":0.2},\"plot\":null,\"size\":10},\"id\":\"7c37c44e-0f24-4146-b546-3a88720d59e5\",\"type\":\"NormalHead\"},{\"attributes\":{\"end\":{\"id\":\"8602ff05-540e-4ca7-a25d-72b48b1db607\",\"type\":\"NormalHead\"},\"line_alpha\":{\"value\":0.2},\"line_width\":{\"value\":3},\"plot\":{\"id\":\"7721f0b7-5d66-4bf7-9824-9c9962aa7913\",\"subtype\":\"Figure\",\"type\":\"Plot\"},\"source\":null,\"start\":null,\"x_end\":{\"value\":3.420427715535329},\"x_start\":{\"value\":0.0},\"y_end\":{\"value\":3.369047391053817},\"y_start\":{\"value\":0.0}},\"id\":\"a3551520-6cf7-47aa-9699-cf71563c8600\",\"type\":\"Arrow\"},{\"attributes\":{\"fill_alpha\":{\"value\":0.2},\"line_alpha\":{\"value\":0.2},\"plot\":null,\"size\":10},\"id\":\"69ca896d-7ccb-4fa3-8bfe-abe7c8168137\",\"type\":\"NormalHead\"},{\"attributes\":{\"fill_alpha\":{\"value\":0.2},\"line_alpha\":{\"value\":0.2},\"plot\":null,\"size\":10},\"id\":\"258957c5-19c3-4dcc-ba4b-0faee9e0e93b\",\"type\":\"NormalHead\"},{\"attributes\":{\"end\":{\"id\":\"7c37c44e-0f24-4146-b546-3a88720d59e5\",\"type\":\"NormalHead\"},\"line_alpha\":{\"value\":0.2},\"line_width\":{\"value\":3},\"plot\":{\"id\":\"7721f0b7-5d66-4bf7-9824-9c9962aa7913\",\"subtype\":\"Figure\",\"type\":\"Plot\"},\"source\":null,\"start\":null,\"x_end\":{\"value\":-0.8590227131117336},\"x_start\":{\"value\":0.0},\"y_end\":{\"value\":-4.053854118556851},\"y_start\":{\"value\":0.0}},\"id\":\"bac399cb-cf00-461d-92f6-9b5ef2df923b\",\"type\":\"Arrow\"},{\"attributes\":{\"fill_alpha\":{\"value\":0.2},\"line_alpha\":{\"value\":0.2},\"plot\":null,\"size\":10},\"id\":\"2da833fd-1a7d-4b02-8237-377a5b7fca62\",\"type\":\"NormalHead\"},{\"attributes\":{\"end\":{\"id\":\"258957c5-19c3-4dcc-ba4b-0faee9e0e93b\",\"type\":\"NormalHead\"},\"line_alpha\":{\"value\":0.2},\"line_width\":{\"value\":3},\"plot\":{\"id\":\"7721f0b7-5d66-4bf7-9824-9c9962aa7913\",\"subtype\":\"Figure\",\"type\":\"Plot\"},\"source\":null,\"start\":null,\"x_end\":{\"value\":-3.752975800719489},\"x_start\":{\"value\":0.0},\"y_end\":{\"value\":1.6592075179636883},\"y_start\":{\"value\":0.0}},\"id\":\"5062337e-8d76-4209-9edd-128f55ebff84\",\"type\":\"Arrow\"},{\"attributes\":{\"fill_alpha\":{\"value\":0.2},\"line_alpha\":{\"value\":0.2},\"plot\":null,\"size\":10},\"id\":\"43baa15b-8fc3-4c65-9e38-c3c240ceeb94\",\"type\":\"NormalHead\"},{\"attributes\":{\"end\":{\"id\":\"2da833fd-1a7d-4b02-8237-377a5b7fca62\",\"type\":\"NormalHead\"},\"line_alpha\":{\"value\":0.2},\"line_width\":{\"value\":3},\"plot\":{\"id\":\"7721f0b7-5d66-4bf7-9824-9c9962aa7913\",\"subtype\":\"Figure\",\"type\":\"Plot\"},\"source\":null,\"start\":null,\"x_end\":{\"value\":-0.5774847094322961},\"x_start\":{\"value\":0.0},\"y_end\":{\"value\":-0.9076427782107057},\"y_start\":{\"value\":0.0}},\"id\":\"79173cac-3296-4a3c-9bbd-aac07a18d0d3\",\"type\":\"Arrow\"},{\"attributes\":{\"fill_alpha\":{\"value\":0.2},\"line_alpha\":{\"value\":0.2},\"plot\":null,\"size\":10},\"id\":\"bab57442-5ad8-4e30-890e-2d1856e1752c\",\"type\":\"NormalHead\"},{\"attributes\":{\"end\":{\"id\":\"43baa15b-8fc3-4c65-9e38-c3c240ceeb94\",\"type\":\"NormalHead\"},\"line_alpha\":{\"value\":0.2},\"line_width\":{\"value\":3},\"plot\":{\"id\":\"7721f0b7-5d66-4bf7-9824-9c9962aa7913\",\"subtype\":\"Figure\",\"type\":\"Plot\"},\"source\":null,\"start\":null,\"x_end\":{\"value\":-1.0390890759895175},\"x_start\":{\"value\":0.0},\"y_end\":{\"value\":2.882313635051176},\"y_start\":{\"value\":0.0}},\"id\":\"fbc6fb1f-e8a5-406b-a558-cb8cbdf0887a\",\"type\":\"Arrow\"},{\"attributes\":{},\"id\":\"9faffbcf-e744-4275-9d40-da1d5604c82a\",\"type\":\"LinearScale\"},{\"attributes\":{\"fill_alpha\":{\"value\":0.2},\"line_alpha\":{\"value\":0.2},\"plot\":null,\"size\":10},\"id\":\"4b5216df-bc1e-42a5-ad21-2a24f69cf9d2\",\"type\":\"NormalHead\"},{\"attributes\":{\"end\":{\"id\":\"bab57442-5ad8-4e30-890e-2d1856e1752c\",\"type\":\"NormalHead\"},\"line_alpha\":{\"value\":0.2},\"line_width\":{\"value\":3},\"plot\":{\"id\":\"7721f0b7-5d66-4bf7-9824-9c9962aa7913\",\"subtype\":\"Figure\",\"type\":\"Plot\"},\"source\":null,\"start\":null,\"x_end\":{\"value\":-2.448802564998087},\"x_start\":{\"value\":0.0},\"y_end\":{\"value\":-4.561030786605054},\"y_start\":{\"value\":0.0}},\"id\":\"d9bb80d8-e7dd-49da-8ff8-5bc40bd72092\",\"type\":\"Arrow\"},{\"attributes\":{\"fill_alpha\":{\"value\":0.2},\"line_alpha\":{\"value\":0.2},\"plot\":null,\"size\":10},\"id\":\"15045f74-8cff-41d2-83db-7c8ee66f0dac\",\"type\":\"NormalHead\"},{\"attributes\":{\"fill_alpha\":{\"value\":0.2},\"line_alpha\":{\"value\":0.2},\"plot\":null,\"size\":10},\"id\":\"d8df0312-4079-4bf1-9093-13d820aef753\",\"type\":\"NormalHead\"},{\"attributes\":{\"end\":{\"id\":\"56977636-86bb-4920-84a9-4e8f6c69ae30\",\"type\":\"NormalHead\"},\"line_alpha\":{\"value\":0.2},\"line_width\":{\"value\":3},\"plot\":{\"id\":\"7721f0b7-5d66-4bf7-9824-9c9962aa7913\",\"subtype\":\"Figure\",\"type\":\"Plot\"},\"source\":null,\"start\":null,\"x_end\":{\"value\":2.3819310731602634},\"x_start\":{\"value\":0.0},\"y_end\":{\"value\":-4.012098691354673},\"y_start\":{\"value\":0.0}},\"id\":\"23fd090f-c620-4af2-954f-c9d7b3a348ea\",\"type\":\"Arrow\"},{\"attributes\":{\"end\":{\"id\":\"f7bd8752-a319-481e-ad0e-1999fc94b989\",\"type\":\"NormalHead\"},\"line_alpha\":{\"value\":0.2},\"line_width\":{\"value\":3},\"plot\":{\"id\":\"7721f0b7-5d66-4bf7-9824-9c9962aa7913\",\"subtype\":\"Figure\",\"type\":\"Plot\"},\"source\":null,\"start\":null,\"x_end\":{\"value\":2.7597033584629056},\"x_start\":{\"value\":0.0},\"y_end\":{\"value\":3.1158949283600013},\"y_start\":{\"value\":0.0}},\"id\":\"20a99b62-287d-44b9-be72-958d73cc9d34\",\"type\":\"Arrow\"},{\"attributes\":{\"end\":{\"id\":\"4b5216df-bc1e-42a5-ad21-2a24f69cf9d2\",\"type\":\"NormalHead\"},\"line_alpha\":{\"value\":0.2},\"line_width\":{\"value\":3},\"plot\":{\"id\":\"7721f0b7-5d66-4bf7-9824-9c9962aa7913\",\"subtype\":\"Figure\",\"type\":\"Plot\"},\"source\":null,\"start\":null,\"x_end\":{\"value\":-1.7323798548028768},\"x_start\":{\"value\":0.0},\"y_end\":{\"value\":-1.6354501998233193},\"y_start\":{\"value\":0.0}},\"id\":\"c3389b11-0a1b-4f2a-a893-3dc9fff02c65\",\"type\":\"Arrow\"},{\"attributes\":{\"end\":{\"id\":\"27be445a-7eb5-4fc4-a88d-7391967d990e\",\"type\":\"NormalHead\"},\"line_alpha\":{\"value\":0.2},\"line_width\":{\"value\":3},\"plot\":{\"id\":\"7721f0b7-5d66-4bf7-9824-9c9962aa7913\",\"subtype\":\"Figure\",\"type\":\"Plot\"},\"source\":null,\"start\":null,\"x_end\":{\"value\":-3.831712314184028},\"x_start\":{\"value\":0.0},\"y_end\":{\"value\":1.1656670192385263},\"y_start\":{\"value\":0.0}},\"id\":\"32283575-e25e-42d3-8b7d-2824d45428ab\",\"type\":\"Arrow\"},{\"attributes\":{\"fill_alpha\":{\"value\":0.2},\"line_alpha\":{\"value\":0.2},\"plot\":null,\"size\":10},\"id\":\"412eb383-3ca2-470e-8e1f-f3edb9e53f13\",\"type\":\"NormalHead\"},{\"attributes\":{\"callback\":null,\"end\":5.6,\"start\":-5.6},\"id\":\"ca459e06-259a-4479-9a68-c5846a694d22\",\"type\":\"Range1d\"},{\"attributes\":{\"end\":{\"id\":\"d8df0312-4079-4bf1-9093-13d820aef753\",\"type\":\"NormalHead\"},\"line_alpha\":{\"value\":0.2},\"line_width\":{\"value\":3},\"plot\":{\"id\":\"7721f0b7-5d66-4bf7-9824-9c9962aa7913\",\"subtype\":\"Figure\",\"type\":\"Plot\"},\"source\":null,\"start\":null,\"x_end\":{\"value\":0.5556473419733896},\"x_start\":{\"value\":0.0},\"y_end\":{\"value\":4.520858861790186},\"y_start\":{\"value\":0.0}},\"id\":\"f9d7a8ee-4cd4-4b0b-9264-be7e7886bfe2\",\"type\":\"Arrow\"},{\"attributes\":{\"end\":{\"id\":\"9c117169-a323-4782-aa92-fd3ddb0c6a74\",\"type\":\"NormalHead\"},\"line_alpha\":{\"value\":0.2},\"line_width\":{\"value\":3},\"plot\":{\"id\":\"7721f0b7-5d66-4bf7-9824-9c9962aa7913\",\"subtype\":\"Figure\",\"type\":\"Plot\"},\"source\":null,\"start\":null,\"x_end\":{\"value\":-1.707183678665194},\"x_start\":{\"value\":0.0},\"y_end\":{\"value\":2.7994023530775394},\"y_start\":{\"value\":0.0}},\"id\":\"4d63b984-859b-494d-99ab-9bc651ed89de\",\"type\":\"Arrow\"},{\"attributes\":{\"end\":{\"id\":\"d31ad307-ef36-40e3-95e3-376e6e0be44c\",\"type\":\"NormalHead\"},\"line_alpha\":{\"value\":0.2},\"line_width\":{\"value\":3},\"plot\":{\"id\":\"7721f0b7-5d66-4bf7-9824-9c9962aa7913\",\"subtype\":\"Figure\",\"type\":\"Plot\"},\"source\":null,\"start\":null,\"x_end\":{\"value\":0.9659592123611507},\"x_start\":{\"value\":0.0},\"y_end\":{\"value\":3.7950244638447455},\"y_start\":{\"value\":0.0}},\"id\":\"1503bd8a-c245-476d-89a6-ecc25e07d2ec\",\"type\":\"Arrow\"},{\"attributes\":{\"fill_alpha\":{\"value\":0.2},\"line_alpha\":{\"value\":0.2},\"plot\":null,\"size\":10},\"id\":\"27be445a-7eb5-4fc4-a88d-7391967d990e\",\"type\":\"NormalHead\"},{\"attributes\":{\"fill_alpha\":{\"value\":0.2},\"line_alpha\":{\"value\":0.2},\"plot\":null,\"size\":10},\"id\":\"4f42d39d-c740-46b0-95fc-3483dc58658c\",\"type\":\"NormalHead\"},{\"attributes\":{\"fill_alpha\":{\"value\":0.2},\"line_alpha\":{\"value\":0.2},\"plot\":null,\"size\":10},\"id\":\"e8136184-c518-4b7c-8acd-0b75108d441e\",\"type\":\"NormalHead\"},{\"attributes\":{\"end\":{\"id\":\"f65bfb9c-2137-4d5a-81a4-09d7b6f3a446\",\"type\":\"NormalHead\"},\"line_alpha\":{\"value\":0.2},\"line_width\":{\"value\":3},\"plot\":{\"id\":\"7721f0b7-5d66-4bf7-9824-9c9962aa7913\",\"subtype\":\"Figure\",\"type\":\"Plot\"},\"source\":null,\"start\":null,\"x_end\":{\"value\":-1.7444186827426278},\"x_start\":{\"value\":0.0},\"y_end\":{\"value\":4.197771961175512},\"y_start\":{\"value\":0.0}},\"id\":\"e5bc9453-7cfe-40dd-9abc-aabd613b8a8a\",\"type\":\"Arrow\"},{\"attributes\":{\"fill_alpha\":{\"value\":0.2},\"line_alpha\":{\"value\":0.2},\"plot\":null,\"size\":10},\"id\":\"a5b86c66-7121-45b6-b4c3-8026c83b5936\",\"type\":\"NormalHead\"},{\"attributes\":{\"end\":{\"id\":\"e8136184-c518-4b7c-8acd-0b75108d441e\",\"type\":\"NormalHead\"},\"line_alpha\":{\"value\":0.2},\"line_width\":{\"value\":3},\"plot\":{\"id\":\"7721f0b7-5d66-4bf7-9824-9c9962aa7913\",\"subtype\":\"Figure\",\"type\":\"Plot\"},\"source\":null,\"start\":null,\"x_end\":{\"value\":0.7858065845874087},\"x_start\":{\"value\":0.0},\"y_end\":{\"value\":-4.253082881470267},\"y_start\":{\"value\":0.0}},\"id\":\"345da994-b7fe-47cf-ad84-0eeddab27aba\",\"type\":\"Arrow\"},{\"attributes\":{\"fill_alpha\":{\"value\":0.2},\"line_alpha\":{\"value\":0.2},\"plot\":null,\"size\":10},\"id\":\"a71daf50-ae68-4085-97ab-22598b315d22\",\"type\":\"NormalHead\"},{\"attributes\":{\"end\":{\"id\":\"a5b86c66-7121-45b6-b4c3-8026c83b5936\",\"type\":\"NormalHead\"},\"line_alpha\":{\"value\":0.2},\"line_width\":{\"value\":3},\"plot\":{\"id\":\"7721f0b7-5d66-4bf7-9824-9c9962aa7913\",\"subtype\":\"Figure\",\"type\":\"Plot\"},\"source\":null,\"start\":null,\"x_end\":{\"value\":-0.13150020487146996},\"x_start\":{\"value\":0.0},\"y_end\":{\"value\":4.6335325841713},\"y_start\":{\"value\":0.0}},\"id\":\"3347173e-0672-40e5-af84-23d133125e8f\",\"type\":\"Arrow\"},{\"attributes\":{\"fill_alpha\":{\"value\":0.2},\"line_alpha\":{\"value\":0.2},\"plot\":null,\"size\":10},\"id\":\"c243ef0d-fcc7-4edb-a9e6-e8ce4703f54d\",\"type\":\"NormalHead\"},{\"attributes\":{\"end\":{\"id\":\"a71daf50-ae68-4085-97ab-22598b315d22\",\"type\":\"NormalHead\"},\"line_alpha\":{\"value\":0.2},\"line_width\":{\"value\":3},\"plot\":{\"id\":\"7721f0b7-5d66-4bf7-9824-9c9962aa7913\",\"subtype\":\"Figure\",\"type\":\"Plot\"},\"source\":null,\"start\":null,\"x_end\":{\"value\":1.714483118981919},\"x_start\":{\"value\":0.0},\"y_end\":{\"value\":-3.792730006413445},\"y_start\":{\"value\":0.0}},\"id\":\"41e2e0d7-93af-42de-858b-19bb9f3fc569\",\"type\":\"Arrow\"},{\"attributes\":{\"fill_alpha\":{\"value\":0.2},\"line_alpha\":{\"value\":0.2},\"plot\":null,\"size\":10},\"id\":\"2534e01f-4ef9-4312-a632-5e5334cb3e5c\",\"type\":\"NormalHead\"},{\"attributes\":{\"end\":{\"id\":\"c243ef0d-fcc7-4edb-a9e6-e8ce4703f54d\",\"type\":\"NormalHead\"},\"line_alpha\":{\"value\":0.2},\"line_width\":{\"value\":3},\"plot\":{\"id\":\"7721f0b7-5d66-4bf7-9824-9c9962aa7913\",\"subtype\":\"Figure\",\"type\":\"Plot\"},\"source\":null,\"start\":null,\"x_end\":{\"value\":-2.78647088073368},\"x_start\":{\"value\":0.0},\"y_end\":{\"value\":-4.494332642635834},\"y_start\":{\"value\":0.0}},\"id\":\"320bb15b-ed31-4884-b158-90139766f2e6\",\"type\":\"Arrow\"},{\"attributes\":{\"end\":{\"id\":\"2534e01f-4ef9-4312-a632-5e5334cb3e5c\",\"type\":\"NormalHead\"},\"line_alpha\":{\"value\":0.2},\"line_width\":{\"value\":3},\"plot\":{\"id\":\"7721f0b7-5d66-4bf7-9824-9c9962aa7913\",\"subtype\":\"Figure\",\"type\":\"Plot\"},\"source\":null,\"start\":null,\"x_end\":{\"value\":-1.135844894613196},\"x_start\":{\"value\":0.0},\"y_end\":{\"value\":-0.8128471688268295},\"y_start\":{\"value\":0.0}},\"id\":\"632993e3-7243-4923-bfbd-3024ff78e1cf\",\"type\":\"Arrow\"},{\"attributes\":{\"fill_alpha\":{\"value\":0.2},\"line_alpha\":{\"value\":0.2},\"plot\":null,\"size\":10},\"id\":\"56977636-86bb-4920-84a9-4e8f6c69ae30\",\"type\":\"NormalHead\"},{\"attributes\":{\"fill_alpha\":{\"value\":0.2},\"line_alpha\":{\"value\":0.2},\"plot\":null,\"size\":10},\"id\":\"f65bfb9c-2137-4d5a-81a4-09d7b6f3a446\",\"type\":\"NormalHead\"},{\"attributes\":{\"end\":{\"id\":\"fe12521e-c9d3-429d-ab0a-e9cc3b172b53\",\"type\":\"NormalHead\"},\"line_alpha\":{\"value\":0.2},\"line_width\":{\"value\":3},\"plot\":{\"id\":\"7721f0b7-5d66-4bf7-9824-9c9962aa7913\",\"subtype\":\"Figure\",\"type\":\"Plot\"},\"source\":null,\"start\":null,\"x_end\":{\"value\":3.5774073849293604},\"x_start\":{\"value\":0.0},\"y_end\":{\"value\":1.533291162081797},\"y_start\":{\"value\":0.0}},\"id\":\"f14d130a-a87f-474d-9ee7-ba189640354e\",\"type\":\"Arrow\"},{\"attributes\":{\"end\":{\"id\":\"412eb383-3ca2-470e-8e1f-f3edb9e53f13\",\"type\":\"NormalHead\"},\"line_alpha\":{\"value\":0.2},\"line_width\":{\"value\":3},\"plot\":{\"id\":\"7721f0b7-5d66-4bf7-9824-9c9962aa7913\",\"subtype\":\"Figure\",\"type\":\"Plot\"},\"source\":null,\"start\":null,\"x_end\":{\"value\":-4.440632332775969},\"x_start\":{\"value\":0.0},\"y_end\":{\"value\":-3.666448006248592},\"y_start\":{\"value\":0.0}},\"id\":\"f440cf5e-d88e-4390-b100-c50b8746c31b\",\"type\":\"Arrow\"},{\"attributes\":{\"fill_alpha\":{\"value\":0.2},\"line_alpha\":{\"value\":0.2},\"plot\":null,\"size\":10},\"id\":\"fe12521e-c9d3-429d-ab0a-e9cc3b172b53\",\"type\":\"NormalHead\"}],\"root_ids\":[\"7721f0b7-5d66-4bf7-9824-9c9962aa7913\"]},\"title\":\"Bokeh Application\",\"version\":\"0.13.0\"}};\n",
       "  var render_items = [{\"docid\":\"ac7e0a2a-cd00-49b3-b216-fdf66a1b6227\",\"roots\":{\"7721f0b7-5d66-4bf7-9824-9c9962aa7913\":\"eccbe97c-c713-4225-a6b4-0e1d6d0cf8f6\"}}];\n",
       "  root.Bokeh.embed.embed_items_notebook(docs_json, render_items);\n",
       "\n",
       "  }\n",
       "  if (root.Bokeh !== undefined) {\n",
       "    embed_document(root);\n",
       "  } else {\n",
       "    var attempts = 0;\n",
       "    var timer = setInterval(function(root) {\n",
       "      if (root.Bokeh !== undefined) {\n",
       "        embed_document(root);\n",
       "        clearInterval(timer);\n",
       "      }\n",
       "      attempts++;\n",
       "      if (attempts > 100) {\n",
       "        console.log(\"Bokeh: ERROR: Unable to run BokehJS code because BokehJS library is missing\")\n",
       "        clearInterval(timer);\n",
       "      }\n",
       "    }, 10, root)\n",
       "  }\n",
       "})(window);"
      ],
      "application/vnd.bokehjs_exec.v0+json": ""
     },
     "metadata": {
      "application/vnd.bokehjs_exec.v0+json": {
       "id": "7721f0b7-5d66-4bf7-9824-9c9962aa7913"
      }
     },
     "output_type": "display_data"
    }
   ],
   "source": [
    "cnt =0 \n",
    "while cnt <= 50:\n",
    "    c1,c2 = np.random.uniform(low=-5,high=5,size=2)\n",
    "    plot.vector(c1*i + c2*j,\n",
    "                add_color='black',alpha=.2)\n",
    "    cnt += 1\n",
    "plot.show()"
   ]
  },
  {
   "cell_type": "markdown",
   "metadata": {},
   "source": [
    "As the figure above loosely demonstrates, a set of vectors **spans** a vector space if every vector in that vector space can be written as a linear combination of vectors from that set. A set of linearly independent vectors that span a vector space define a **basis** for that vector space. \n",
    "\n",
    "The reason why linear independence is so important is that we are interested in the minimum number of spanning vectors among a set of vectors, which tells us the dimension of that vector space. The **dimension** of a vector space is equal to the number of vectors in its basis."
   ]
  }
 ],
 "metadata": {
  "kernelspec": {
   "display_name": "Python 3",
   "language": "python",
   "name": "python3"
  },
  "language_info": {
   "codemirror_mode": {
    "name": "ipython",
    "version": 3
   },
   "file_extension": ".py",
   "mimetype": "text/x-python",
   "name": "python",
   "nbconvert_exporter": "python",
   "pygments_lexer": "ipython3",
   "version": "3.7.0"
  },
  "toc": {
   "base_numbering": 1,
   "nav_menu": {},
   "number_sections": false,
   "sideBar": false,
   "skip_h1_title": false,
   "title_cell": "Table of Contents",
   "title_sidebar": "Contents",
   "toc_cell": false,
   "toc_position": {},
   "toc_section_display": true,
   "toc_window_display": false
  }
 },
 "nbformat": 4,
 "nbformat_minor": 2
}
