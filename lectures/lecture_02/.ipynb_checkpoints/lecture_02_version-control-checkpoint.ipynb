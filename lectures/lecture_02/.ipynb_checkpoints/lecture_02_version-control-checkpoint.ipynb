{
 "cells": [
  {
   "cell_type": "markdown",
   "metadata": {
    "slideshow": {
     "slide_type": "-"
    }
   },
   "source": [
    "<h1><center> PPOL564 - Data Science I: Foundations </center><h1>\n",
    "<h3><center> Lecture 2 <br><br><font color='grey'> \n",
    "Version Control </font></center></h3>\n",
    "\n",
    "### Concepts we'll cover today:\n",
    "\n",
    "- Conceptualize what version control and how it works;\n",
    "- Basics of `git` and operating it with command line arguments;\n",
    "- Generating repositories on `Github`;\n",
    "- Linking local repositories with online remotes;\n",
    "- Dealing with merge conflicts;\n",
    "- Advanced functionality:\n",
    "    + Branching\n",
    "    \n",
    "    \n",
    "### Cheatsheets\n",
    "Note that the purpose of this notebook is to serve as a cheatsheet/reference for future use. Though there are better one out there than what I've outlined here. I've listed a few below for your use. \n",
    "\n",
    "- [**Github Cheatsheet (A)**](https://github.github.com/training-kit/downloads/github-git-cheat-sheet.pdf)\n",
    "- [**Github Cheatsheet (B)**](https://education.github.com/git-cheat-sheet-education.pdf)"
   ]
  },
  {
   "cell_type": "markdown",
   "metadata": {
    "slideshow": {
     "slide_type": "slide"
    }
   },
   "source": [
    "# Working from the Command Line\n",
    "\n",
    "The command line offers an easy way in which to navigate the computer. From it, we can:\n",
    "\n",
    "- create, move, edit files\n",
    "- install new functionality onto our computer\n",
    "- run scripts in `R` or `python`\n",
    "\n",
    "The \"command line\" line can differ, however, given what machine you're running. \n",
    "\n",
    "- If you're on a **Mac** a unix command line comes installed on your machine. This is your `terminal`, which is an application available on all macs. \n",
    "\n",
    "- If you're on a **Windows** machine, you'll need to activate your Ubuntu terminal by turning on the developer mode on your computer. Instructions on how to do that can be found [**here**](https://www.windowscentral.com/how-install-bash-shell-command-line-windows-10). (Note that there are also other alternatives, such as [**putty**](https://www.chiark.greenend.org.uk/~sgtatham/putty/))\n",
    "\n",
    "The command line offers more control when interacting with your machine. Moreover, we'll need to leverage the command line when using most cloud computing connections. It takes some getting used to, but well worth it once you get the hang of it. \n",
    "\n",
    "**The point of it** (w/r/t our purposes) is that it'll help us:\n",
    "1. Understand file paths on your computer \n",
    "2. Serves as a common hub from which to work\n",
    "3. Allow for us to generate reproducible coding sequences (via running scripts)\n",
    "4. Streamline work flow\n",
    "    + set projects up\n",
    "    + work between languages\n",
    "    + batch process heavy loads\n",
    "5. Vital when speaking to a computing cluster, working on a virtual machine, or ssh-ing into a local computer "
   ]
  },
  {
   "cell_type": "markdown",
   "metadata": {
    "slideshow": {
     "slide_type": "slide"
    }
   },
   "source": [
    "## Common command line commands\n",
    "\n",
    "The following outlines a few common commands that will be useful as you move forward. Disclaimer: some of these commands may differ given your operating system, but it's only quick Google search to find out how things are done on your machine.\n",
    "\n",
    "<div class=\"alert alert-warning\">\n",
    "\n",
    "- `pwd`: check working directory\n",
    "- `cd <path>`: change working directory\n",
    "    + `cd ..`: go back to the last directory\n",
    "    + `cd  `: go to the top directory\n",
    "    + `cd -`: go back to where you once where\n",
    "- `ls`: list all files in the working directory\n",
    "- `mkdir <dir name>`: make a directory\n",
    "- `mv <old path> <new path>`: move file from old path to new path\n",
    "- `cp <old path> <new path>`: copy file from old path to new path\n",
    "- `ctr + c`: stops current execution.\n",
    "- `cat <file>`: print the entire file\n",
    "- `head`: view the start of a file to some $N$ number of lines\n",
    "    - `head -n 3 file`\n",
    "- `tail`: view the end of a file to some $N$ number of lines\n",
    "    - `tail -n 3 file`\n",
    "\n",
    "- Making a file:\n",
    "    - `touch <file name>`\n",
    "    - `echo 'text' > file`\n",
    "        \n",
    "- Renaming a File:\n",
    "    - `mv <old file name> <new file name>`\n",
    "    \n",
    "- Asking for help:\n",
    "    - `man <command name>`\n",
    "    - `<command name> -h`\n",
    "  \n",
    "</div>"
   ]
  },
  {
   "cell_type": "markdown",
   "metadata": {
    "slideshow": {
     "slide_type": "slide"
    }
   },
   "source": [
    "# Version Control with Git"
   ]
  },
  {
   "cell_type": "markdown",
   "metadata": {
    "slideshow": {
     "slide_type": "subslide"
    }
   },
   "source": [
    "## [Everyday] Git commands\n",
    "\n",
    "<div class=\"alert alert-warning\">\n",
    "\n",
    "**Set up your identity** \n",
    "- `git config --global user.name \"myname\"`: set your user name\n",
    "- `git config --global user.email your-email@georgetown.edu`: set your email account\n",
    "\n",
    "\n",
    "**Starting or getting a git repository on your machine**\n",
    "- `git init`: start a new repository from a working directory\n",
    "- `git clone <url or location to repository>`: clone an existing repository\n",
    "- `git status`: get the current status of the repository.\n",
    "\n",
    "**Staging any changes you made**\n",
    "- `git add <file>`: stage a file to be committed \n",
    "- `git add .`: stage _all files_ to be committed\n",
    "- `git reset HEAD <file> `: un-stage all files to be committed\n",
    "\n",
    "**Saving the staged changes**\n",
    "- `git commit -m \"some message\"`: commit staged changes to repository \n",
    "- `git commit`: commit staged changes to repository (will be prompted to leave a message)\n",
    "\n",
    "**Getting current state from the remote (Github) or sending changes to it.**\n",
    "- `git fetch`: download recent changes in the remote repository (but do not explicitly merge with your local version)\n",
    "- `git pull`: download recent changes in the remote repository and merge with your local version)\n",
    "- `git push`: push commits to remote (e.g. github repository)\n",
    "\n",
    "**Getting Help**\n",
    "- `git help <verb>`\n",
    "- `man git-<verb>`\n",
    "\n",
    "</div>"
   ]
  },
  {
   "cell_type": "markdown",
   "metadata": {},
   "source": [
    "## [Advanced] Git commands\n",
    "\n",
    "<div class=\"alert alert-warning\"> \n",
    "\n",
    "**Accessing the logs &rarr; who did what to which file and when?**\n",
    "\n",
    "- `git log`: look at the commit history\n",
    "    + Useful arguments:\n",
    "      + `--oneline`: view a condensed summary \n",
    "      + `--all`: view the entire commit history\n",
    "      + `--graph`: view a text graph of the commit sequence\n",
    "      + `--stat`: abbreviated stats for each commit\n",
    "      + `--since=2.weeks`: review commits within some temporal range\n",
    "    + Easily format the log\n",
    "        + `git log --pretty=format:\"%h - %an, %ar : %s\"`\n",
    "        + see [Git Basics on Viewing the Commit History](https://git-scm.com/book/en/v2/Git-Basics-Viewing-the-Commit-History) for more insight into the different possible configurations and customizations\n",
    "\n",
    "**Tracking Differences**\n",
    "- `git diff` : explore the differences between files\n",
    "    - Use the hash hexidecimal code to compare commits\n",
    "        + e.g. `git diff 44d14b2 2adbea3`\n",
    "- `git whatchanged`\n",
    "\n",
    "**Tracking Movement**: If we were to just rename or move a file, Git doesn't necessarily know that it was already tracking that file.\n",
    "\n",
    "- `git mv old-file-location new-file-location`: Move files around so that the git history is retained\n",
    "- `git mv old-file-name new-file-name`: Rename files so that the git history is retained\n",
    "\n",
    "**Time Traveling**\n",
    "\n",
    "- `git checkout <commit-hash>`: Move to prior snapshots of the project\n",
    "- `git revert <commit-hash>`: Revert the project to a prior point\n",
    "\n",
    "**Branching**: A branch in Git is a lightweight, movable pointer to a commit. Default branch is named \"_master_\"\n",
    "\n",
    "- `git branch <name-of-new-branch>`: create a new branch\n",
    "- `git checkout <name-of-branch>`: checkout a branch\n",
    "- `git checkout -b <name-of-new-branch>`: create & checkout a branch simultaneously\n",
    "- `git merge <name-of-main-branch> <name-of-branch-to-be-merged>`: merging branches\n",
    "- `git branch -d <name-of-branch>`: deleting branches\n",
    "- `git branch -v`: seeing the last commit on each branch\n",
    "\n",
    "</div>"
   ]
  },
  {
   "cell_type": "markdown",
   "metadata": {
    "slideshow": {
     "slide_type": "subslide"
    }
   },
   "source": [
    "## Remotes\n",
    "\n",
    "<div class=\"alert alert-warning\"> \n",
    "**Git Remote**\n",
    "- `git remote add origin https://github.com/user/repo.git`: connect a local git repository to a Github repository\n",
    "    - generic version: `git remote add <name-of-our-remote> <REMOTE_URL>` \n",
    "    - We can add another remote to say another git repository service, like [bitbucket](https://bitbucket.org/). \n",
    "        \n",
    "**Looking at our different remotes**\n",
    "- `git remote`: print available remotes in the console\n",
    "- `git ls-remote`: Displays references available in a remote repository along with the associated commit IDs.\n",
    "- `git remote -v`: shows the URL of the remotes\n",
    "\n",
    "**Fetching from a remote**\n",
    "- `git fetch <remote-name>`\n",
    "    \n",
    "**Pushing changes to the remote**\n",
    "- `git push -u <remote> <branch>`: telling it which remote we are pushing to.\n",
    "- `git push -u origin master`: telling it which remote we are pushing to.\n",
    "\n",
    "**Inspecting Remotes**\n",
    "- `git remote show origin`\n",
    "- `git remote show`\n",
    "    \n",
    "**Renaming Remotes**\n",
    "- `git remote rename origin my-go-to-remote`\n",
    "        \n",
    "**Removing Remotes**\n",
    "- `git remote remove <remote-name>`\n",
    "\n",
    "</div>"
   ]
  },
  {
   "cell_type": "markdown",
   "metadata": {
    "slideshow": {
     "slide_type": "subslide"
    }
   },
   "source": [
    "## Merge & Merge Conflicts \n",
    "\n",
    "The true power of Git shines as a tool for project collaboration and coordination. Often we want to make local changes to a file and then push those changes to the online remote. In order to push our files to the remote, we'll need to merge our version of the repository with the current state of the repository. If none of the files we changed were changed previously by others, then a merging of files will occur smoothly and automatically. \n",
    "\n",
    "However, sometimes there are **_conflicts_** between branches or remote versions of a repository. Say you changed the some part of a file by deleting a function and a colleague changed the same file by modifying the function. This would be an example of a conflict. Git does not know which version is the correct one, so it will **mark the file as having a conflict** using a special delimiter. \n",
    "\n",
    "```\n",
    "<<<<<<< HEAD\n",
    "def my_function(x):\n",
    "    a = []\n",
    "    for i in x:\n",
    "        a.append(i)\n",
    "    return a\n",
    "=======\n",
    "def my_function(x):\n",
    "    for i in x:\n",
    "        print(i) \n",
    ">>>>>>> new-branch\n",
    "```\n",
    "\n",
    "It's up to you to manually decide the appropriate path of resolution. Above we have an example where one user changed the internal layout of a function. We'll now have both versions of that section of code and will need to manually edit which version we wish to keep (e.g. the upper or bottom part). **The point is that Git is very careful to force you to check when and where discrepancies exist and resolve them yourself.**\n",
    "\n",
    "When updating a local repository, we need to `pull` or `fetch` changes made to the remote. Note that `fetch` will download the available data without merging it into your current workflow, whereas `pull` will download and then integrate the versions. "
   ]
  },
  {
   "cell_type": "markdown",
   "metadata": {
    "slideshow": {
     "slide_type": "subslide"
    }
   },
   "source": [
    "## .gitignore: ignoring specific files or file types\n",
    "\n",
    "Sometimes we do not want to track certain file types. \n",
    "\n",
    "For example, Github has an upload rate of 100mb, meaning that we wouldn't want to push really big data sources up to the repository. We might want to avoid uploading _any_ data files to our Github repository for this reason. To do this, we may want to ignore specific file types, such as `.csv` (comma separated values) or `.Rdata` (an R data file type). To do this, we need to make a special file that Git reads to tell it which files _not_ to track. \n",
    "\n",
    "We can exclude these files by adding a `.gitignore` file to our project folder.\n",
    "\n",
    "\n",
    "```\n",
    "*.ipynb_checkpoints \n",
    "*.Rdata\n",
    "*.csv\n",
    "```"
   ]
  },
  {
   "cell_type": "markdown",
   "metadata": {
    "slideshow": {
     "slide_type": "subslide"
    }
   },
   "source": [
    "## Git Graphical User Interfaces (GUIs) \n",
    "\n",
    "Keep in mind that there are graphical ways to probe a repositories record:\n",
    "\n",
    "- **Github record** online\n",
    "- `gitk`: initiated in the commandline.\n",
    "- [**Github desktop**](https://desktop.github.com/)\n",
    "- [**Gitkraken**](https://www.gitkraken.com/)\n",
    "- Plug-ins\n",
    "    + [RStudio](https://www.rstudio.com/) has a great git interface\n",
    "    + [Atom](https://atom.io)"
   ]
  },
  {
   "cell_type": "markdown",
   "metadata": {
    "slideshow": {
     "slide_type": "slide"
    }
   },
   "source": [
    "### References\n",
    "\n",
    "Scott and Ben Straub. (2014). ‘Pro Git’. Ed. 2: https://git- scm.com/book/en/v2"
   ]
  }
 ],
 "metadata": {
  "kernelspec": {
   "display_name": "Python 3",
   "language": "python",
   "name": "python3"
  },
  "language_info": {
   "codemirror_mode": {
    "name": "ipython",
    "version": 3
   },
   "file_extension": ".py",
   "mimetype": "text/x-python",
   "name": "python",
   "nbconvert_exporter": "python",
   "pygments_lexer": "ipython3",
   "version": "3.7.0"
  },
  "toc": {
   "base_numbering": 1,
   "nav_menu": {},
   "number_sections": false,
   "sideBar": false,
   "skip_h1_title": false,
   "title_cell": "Table of Contents",
   "title_sidebar": "Contents",
   "toc_cell": false,
   "toc_position": {},
   "toc_section_display": true,
   "toc_window_display": false
  }
 },
 "nbformat": 4,
 "nbformat_minor": 2
}
