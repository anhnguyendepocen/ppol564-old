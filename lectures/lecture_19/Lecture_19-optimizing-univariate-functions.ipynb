{
 "cells": [
  {
   "cell_type": "markdown",
   "metadata": {},
   "source": [
    "<h1><center> PPOL564 | Data Science 1: Foundations </center><h1>\n",
    "<h3><center> Lecture 19 <br><br><font color='grey'> \n",
    " Optimizing in One Dimension </font></center></h3>\n",
    "\n",
    "## Concepts Covered:\n",
    "\n",
    "- Extrema and Critical points \n",
    "- Local vs. Global Extrema\n",
    "- Higher order derivatives\n",
    "- Convex, Concave, and inflection points\n",
    "- Optimizing Univariate functions\n",
    "- Using `sympy` to walk through the optimization steps"
   ]
  },
  {
   "cell_type": "code",
   "execution_count": 1,
   "metadata": {},
   "outputs": [
    {
     "data": {
      "text/html": [
       "\n",
       "    <div class=\"bk-root\">\n",
       "        <a href=\"https://bokeh.pydata.org\" target=\"_blank\" class=\"bk-logo bk-logo-small bk-logo-notebook\"></a>\n",
       "        <span id=\"75ca2431-ed7a-46f5-ae8c-75163e716e38\">Loading BokehJS ...</span>\n",
       "    </div>"
      ]
     },
     "metadata": {},
     "output_type": "display_data"
    },
    {
     "data": {
      "application/javascript": [
       "\n",
       "(function(root) {\n",
       "  function now() {\n",
       "    return new Date();\n",
       "  }\n",
       "\n",
       "  var force = true;\n",
       "\n",
       "  if (typeof (root._bokeh_onload_callbacks) === \"undefined\" || force === true) {\n",
       "    root._bokeh_onload_callbacks = [];\n",
       "    root._bokeh_is_loading = undefined;\n",
       "  }\n",
       "\n",
       "  var JS_MIME_TYPE = 'application/javascript';\n",
       "  var HTML_MIME_TYPE = 'text/html';\n",
       "  var EXEC_MIME_TYPE = 'application/vnd.bokehjs_exec.v0+json';\n",
       "  var CLASS_NAME = 'output_bokeh rendered_html';\n",
       "\n",
       "  /**\n",
       "   * Render data to the DOM node\n",
       "   */\n",
       "  function render(props, node) {\n",
       "    var script = document.createElement(\"script\");\n",
       "    node.appendChild(script);\n",
       "  }\n",
       "\n",
       "  /**\n",
       "   * Handle when an output is cleared or removed\n",
       "   */\n",
       "  function handleClearOutput(event, handle) {\n",
       "    var cell = handle.cell;\n",
       "\n",
       "    var id = cell.output_area._bokeh_element_id;\n",
       "    var server_id = cell.output_area._bokeh_server_id;\n",
       "    // Clean up Bokeh references\n",
       "    if (id != null && id in Bokeh.index) {\n",
       "      Bokeh.index[id].model.document.clear();\n",
       "      delete Bokeh.index[id];\n",
       "    }\n",
       "\n",
       "    if (server_id !== undefined) {\n",
       "      // Clean up Bokeh references\n",
       "      var cmd = \"from bokeh.io.state import curstate; print(curstate().uuid_to_server['\" + server_id + \"'].get_sessions()[0].document.roots[0]._id)\";\n",
       "      cell.notebook.kernel.execute(cmd, {\n",
       "        iopub: {\n",
       "          output: function(msg) {\n",
       "            var id = msg.content.text.trim();\n",
       "            if (id in Bokeh.index) {\n",
       "              Bokeh.index[id].model.document.clear();\n",
       "              delete Bokeh.index[id];\n",
       "            }\n",
       "          }\n",
       "        }\n",
       "      });\n",
       "      // Destroy server and session\n",
       "      var cmd = \"import bokeh.io.notebook as ion; ion.destroy_server('\" + server_id + \"')\";\n",
       "      cell.notebook.kernel.execute(cmd);\n",
       "    }\n",
       "  }\n",
       "\n",
       "  /**\n",
       "   * Handle when a new output is added\n",
       "   */\n",
       "  function handleAddOutput(event, handle) {\n",
       "    var output_area = handle.output_area;\n",
       "    var output = handle.output;\n",
       "\n",
       "    // limit handleAddOutput to display_data with EXEC_MIME_TYPE content only\n",
       "    if ((output.output_type != \"display_data\") || (!output.data.hasOwnProperty(EXEC_MIME_TYPE))) {\n",
       "      return\n",
       "    }\n",
       "\n",
       "    var toinsert = output_area.element.find(\".\" + CLASS_NAME.split(' ')[0]);\n",
       "\n",
       "    if (output.metadata[EXEC_MIME_TYPE][\"id\"] !== undefined) {\n",
       "      toinsert[toinsert.length - 1].firstChild.textContent = output.data[JS_MIME_TYPE];\n",
       "      // store reference to embed id on output_area\n",
       "      output_area._bokeh_element_id = output.metadata[EXEC_MIME_TYPE][\"id\"];\n",
       "    }\n",
       "    if (output.metadata[EXEC_MIME_TYPE][\"server_id\"] !== undefined) {\n",
       "      var bk_div = document.createElement(\"div\");\n",
       "      bk_div.innerHTML = output.data[HTML_MIME_TYPE];\n",
       "      var script_attrs = bk_div.children[0].attributes;\n",
       "      for (var i = 0; i < script_attrs.length; i++) {\n",
       "        toinsert[toinsert.length - 1].firstChild.setAttribute(script_attrs[i].name, script_attrs[i].value);\n",
       "      }\n",
       "      // store reference to server id on output_area\n",
       "      output_area._bokeh_server_id = output.metadata[EXEC_MIME_TYPE][\"server_id\"];\n",
       "    }\n",
       "  }\n",
       "\n",
       "  function register_renderer(events, OutputArea) {\n",
       "\n",
       "    function append_mime(data, metadata, element) {\n",
       "      // create a DOM node to render to\n",
       "      var toinsert = this.create_output_subarea(\n",
       "        metadata,\n",
       "        CLASS_NAME,\n",
       "        EXEC_MIME_TYPE\n",
       "      );\n",
       "      this.keyboard_manager.register_events(toinsert);\n",
       "      // Render to node\n",
       "      var props = {data: data, metadata: metadata[EXEC_MIME_TYPE]};\n",
       "      render(props, toinsert[toinsert.length - 1]);\n",
       "      element.append(toinsert);\n",
       "      return toinsert\n",
       "    }\n",
       "\n",
       "    /* Handle when an output is cleared or removed */\n",
       "    events.on('clear_output.CodeCell', handleClearOutput);\n",
       "    events.on('delete.Cell', handleClearOutput);\n",
       "\n",
       "    /* Handle when a new output is added */\n",
       "    events.on('output_added.OutputArea', handleAddOutput);\n",
       "\n",
       "    /**\n",
       "     * Register the mime type and append_mime function with output_area\n",
       "     */\n",
       "    OutputArea.prototype.register_mime_type(EXEC_MIME_TYPE, append_mime, {\n",
       "      /* Is output safe? */\n",
       "      safe: true,\n",
       "      /* Index of renderer in `output_area.display_order` */\n",
       "      index: 0\n",
       "    });\n",
       "  }\n",
       "\n",
       "  // register the mime type if in Jupyter Notebook environment and previously unregistered\n",
       "  if (root.Jupyter !== undefined) {\n",
       "    var events = require('base/js/events');\n",
       "    var OutputArea = require('notebook/js/outputarea').OutputArea;\n",
       "\n",
       "    if (OutputArea.prototype.mime_types().indexOf(EXEC_MIME_TYPE) == -1) {\n",
       "      register_renderer(events, OutputArea);\n",
       "    }\n",
       "  }\n",
       "\n",
       "  \n",
       "  if (typeof (root._bokeh_timeout) === \"undefined\" || force === true) {\n",
       "    root._bokeh_timeout = Date.now() + 5000;\n",
       "    root._bokeh_failed_load = false;\n",
       "  }\n",
       "\n",
       "  var NB_LOAD_WARNING = {'data': {'text/html':\n",
       "     \"<div style='background-color: #fdd'>\\n\"+\n",
       "     \"<p>\\n\"+\n",
       "     \"BokehJS does not appear to have successfully loaded. If loading BokehJS from CDN, this \\n\"+\n",
       "     \"may be due to a slow or bad network connection. Possible fixes:\\n\"+\n",
       "     \"</p>\\n\"+\n",
       "     \"<ul>\\n\"+\n",
       "     \"<li>re-rerun `output_notebook()` to attempt to load from CDN again, or</li>\\n\"+\n",
       "     \"<li>use INLINE resources instead, as so:</li>\\n\"+\n",
       "     \"</ul>\\n\"+\n",
       "     \"<code>\\n\"+\n",
       "     \"from bokeh.resources import INLINE\\n\"+\n",
       "     \"output_notebook(resources=INLINE)\\n\"+\n",
       "     \"</code>\\n\"+\n",
       "     \"</div>\"}};\n",
       "\n",
       "  function display_loaded() {\n",
       "    var el = document.getElementById(\"75ca2431-ed7a-46f5-ae8c-75163e716e38\");\n",
       "    if (el != null) {\n",
       "      el.textContent = \"BokehJS is loading...\";\n",
       "    }\n",
       "    if (root.Bokeh !== undefined) {\n",
       "      if (el != null) {\n",
       "        el.textContent = \"BokehJS \" + root.Bokeh.version + \" successfully loaded.\";\n",
       "      }\n",
       "    } else if (Date.now() < root._bokeh_timeout) {\n",
       "      setTimeout(display_loaded, 100)\n",
       "    }\n",
       "  }\n",
       "\n",
       "\n",
       "  function run_callbacks() {\n",
       "    try {\n",
       "      root._bokeh_onload_callbacks.forEach(function(callback) { callback() });\n",
       "    }\n",
       "    finally {\n",
       "      delete root._bokeh_onload_callbacks\n",
       "    }\n",
       "    console.info(\"Bokeh: all callbacks have finished\");\n",
       "  }\n",
       "\n",
       "  function load_libs(js_urls, callback) {\n",
       "    root._bokeh_onload_callbacks.push(callback);\n",
       "    if (root._bokeh_is_loading > 0) {\n",
       "      console.log(\"Bokeh: BokehJS is being loaded, scheduling callback at\", now());\n",
       "      return null;\n",
       "    }\n",
       "    if (js_urls == null || js_urls.length === 0) {\n",
       "      run_callbacks();\n",
       "      return null;\n",
       "    }\n",
       "    console.log(\"Bokeh: BokehJS not loaded, scheduling load and callback at\", now());\n",
       "    root._bokeh_is_loading = js_urls.length;\n",
       "    for (var i = 0; i < js_urls.length; i++) {\n",
       "      var url = js_urls[i];\n",
       "      var s = document.createElement('script');\n",
       "      s.src = url;\n",
       "      s.async = false;\n",
       "      s.onreadystatechange = s.onload = function() {\n",
       "        root._bokeh_is_loading--;\n",
       "        if (root._bokeh_is_loading === 0) {\n",
       "          console.log(\"Bokeh: all BokehJS libraries loaded\");\n",
       "          run_callbacks()\n",
       "        }\n",
       "      };\n",
       "      s.onerror = function() {\n",
       "        console.warn(\"failed to load library \" + url);\n",
       "      };\n",
       "      console.log(\"Bokeh: injecting script tag for BokehJS library: \", url);\n",
       "      document.getElementsByTagName(\"head\")[0].appendChild(s);\n",
       "    }\n",
       "  };var element = document.getElementById(\"75ca2431-ed7a-46f5-ae8c-75163e716e38\");\n",
       "  if (element == null) {\n",
       "    console.log(\"Bokeh: ERROR: autoload.js configured with elementid '75ca2431-ed7a-46f5-ae8c-75163e716e38' but no matching script tag was found. \")\n",
       "    return false;\n",
       "  }\n",
       "\n",
       "  var js_urls = [\"https://cdn.pydata.org/bokeh/release/bokeh-0.13.0.min.js\", \"https://cdn.pydata.org/bokeh/release/bokeh-widgets-0.13.0.min.js\", \"https://cdn.pydata.org/bokeh/release/bokeh-tables-0.13.0.min.js\", \"https://cdn.pydata.org/bokeh/release/bokeh-gl-0.13.0.min.js\"];\n",
       "\n",
       "  var inline_js = [\n",
       "    function(Bokeh) {\n",
       "      Bokeh.set_log_level(\"info\");\n",
       "    },\n",
       "    \n",
       "    function(Bokeh) {\n",
       "      \n",
       "    },\n",
       "    function(Bokeh) {\n",
       "      console.log(\"Bokeh: injecting CSS: https://cdn.pydata.org/bokeh/release/bokeh-0.13.0.min.css\");\n",
       "      Bokeh.embed.inject_css(\"https://cdn.pydata.org/bokeh/release/bokeh-0.13.0.min.css\");\n",
       "      console.log(\"Bokeh: injecting CSS: https://cdn.pydata.org/bokeh/release/bokeh-widgets-0.13.0.min.css\");\n",
       "      Bokeh.embed.inject_css(\"https://cdn.pydata.org/bokeh/release/bokeh-widgets-0.13.0.min.css\");\n",
       "      console.log(\"Bokeh: injecting CSS: https://cdn.pydata.org/bokeh/release/bokeh-tables-0.13.0.min.css\");\n",
       "      Bokeh.embed.inject_css(\"https://cdn.pydata.org/bokeh/release/bokeh-tables-0.13.0.min.css\");\n",
       "    }\n",
       "  ];\n",
       "\n",
       "  function run_inline_js() {\n",
       "    \n",
       "    if ((root.Bokeh !== undefined) || (force === true)) {\n",
       "      for (var i = 0; i < inline_js.length; i++) {\n",
       "        inline_js[i].call(root, root.Bokeh);\n",
       "      }if (force === true) {\n",
       "        display_loaded();\n",
       "      }} else if (Date.now() < root._bokeh_timeout) {\n",
       "      setTimeout(run_inline_js, 100);\n",
       "    } else if (!root._bokeh_failed_load) {\n",
       "      console.log(\"Bokeh: BokehJS failed to load within specified timeout.\");\n",
       "      root._bokeh_failed_load = true;\n",
       "    } else if (force !== true) {\n",
       "      var cell = $(document.getElementById(\"75ca2431-ed7a-46f5-ae8c-75163e716e38\")).parents('.cell').data().cell;\n",
       "      cell.output_area.append_execute_result(NB_LOAD_WARNING)\n",
       "    }\n",
       "\n",
       "  }\n",
       "\n",
       "  if (root._bokeh_is_loading === 0) {\n",
       "    console.log(\"Bokeh: BokehJS loaded, going straight to plotting\");\n",
       "    run_inline_js();\n",
       "  } else {\n",
       "    load_libs(js_urls, function() {\n",
       "      console.log(\"Bokeh: BokehJS plotting callback run at\", now());\n",
       "      run_inline_js();\n",
       "    });\n",
       "  }\n",
       "}(window));"
      ],
      "application/vnd.bokehjs_load.v0+json": "\n(function(root) {\n  function now() {\n    return new Date();\n  }\n\n  var force = true;\n\n  if (typeof (root._bokeh_onload_callbacks) === \"undefined\" || force === true) {\n    root._bokeh_onload_callbacks = [];\n    root._bokeh_is_loading = undefined;\n  }\n\n  \n\n  \n  if (typeof (root._bokeh_timeout) === \"undefined\" || force === true) {\n    root._bokeh_timeout = Date.now() + 5000;\n    root._bokeh_failed_load = false;\n  }\n\n  var NB_LOAD_WARNING = {'data': {'text/html':\n     \"<div style='background-color: #fdd'>\\n\"+\n     \"<p>\\n\"+\n     \"BokehJS does not appear to have successfully loaded. If loading BokehJS from CDN, this \\n\"+\n     \"may be due to a slow or bad network connection. Possible fixes:\\n\"+\n     \"</p>\\n\"+\n     \"<ul>\\n\"+\n     \"<li>re-rerun `output_notebook()` to attempt to load from CDN again, or</li>\\n\"+\n     \"<li>use INLINE resources instead, as so:</li>\\n\"+\n     \"</ul>\\n\"+\n     \"<code>\\n\"+\n     \"from bokeh.resources import INLINE\\n\"+\n     \"output_notebook(resources=INLINE)\\n\"+\n     \"</code>\\n\"+\n     \"</div>\"}};\n\n  function display_loaded() {\n    var el = document.getElementById(\"75ca2431-ed7a-46f5-ae8c-75163e716e38\");\n    if (el != null) {\n      el.textContent = \"BokehJS is loading...\";\n    }\n    if (root.Bokeh !== undefined) {\n      if (el != null) {\n        el.textContent = \"BokehJS \" + root.Bokeh.version + \" successfully loaded.\";\n      }\n    } else if (Date.now() < root._bokeh_timeout) {\n      setTimeout(display_loaded, 100)\n    }\n  }\n\n\n  function run_callbacks() {\n    try {\n      root._bokeh_onload_callbacks.forEach(function(callback) { callback() });\n    }\n    finally {\n      delete root._bokeh_onload_callbacks\n    }\n    console.info(\"Bokeh: all callbacks have finished\");\n  }\n\n  function load_libs(js_urls, callback) {\n    root._bokeh_onload_callbacks.push(callback);\n    if (root._bokeh_is_loading > 0) {\n      console.log(\"Bokeh: BokehJS is being loaded, scheduling callback at\", now());\n      return null;\n    }\n    if (js_urls == null || js_urls.length === 0) {\n      run_callbacks();\n      return null;\n    }\n    console.log(\"Bokeh: BokehJS not loaded, scheduling load and callback at\", now());\n    root._bokeh_is_loading = js_urls.length;\n    for (var i = 0; i < js_urls.length; i++) {\n      var url = js_urls[i];\n      var s = document.createElement('script');\n      s.src = url;\n      s.async = false;\n      s.onreadystatechange = s.onload = function() {\n        root._bokeh_is_loading--;\n        if (root._bokeh_is_loading === 0) {\n          console.log(\"Bokeh: all BokehJS libraries loaded\");\n          run_callbacks()\n        }\n      };\n      s.onerror = function() {\n        console.warn(\"failed to load library \" + url);\n      };\n      console.log(\"Bokeh: injecting script tag for BokehJS library: \", url);\n      document.getElementsByTagName(\"head\")[0].appendChild(s);\n    }\n  };var element = document.getElementById(\"75ca2431-ed7a-46f5-ae8c-75163e716e38\");\n  if (element == null) {\n    console.log(\"Bokeh: ERROR: autoload.js configured with elementid '75ca2431-ed7a-46f5-ae8c-75163e716e38' but no matching script tag was found. \")\n    return false;\n  }\n\n  var js_urls = [\"https://cdn.pydata.org/bokeh/release/bokeh-0.13.0.min.js\", \"https://cdn.pydata.org/bokeh/release/bokeh-widgets-0.13.0.min.js\", \"https://cdn.pydata.org/bokeh/release/bokeh-tables-0.13.0.min.js\", \"https://cdn.pydata.org/bokeh/release/bokeh-gl-0.13.0.min.js\"];\n\n  var inline_js = [\n    function(Bokeh) {\n      Bokeh.set_log_level(\"info\");\n    },\n    \n    function(Bokeh) {\n      \n    },\n    function(Bokeh) {\n      console.log(\"Bokeh: injecting CSS: https://cdn.pydata.org/bokeh/release/bokeh-0.13.0.min.css\");\n      Bokeh.embed.inject_css(\"https://cdn.pydata.org/bokeh/release/bokeh-0.13.0.min.css\");\n      console.log(\"Bokeh: injecting CSS: https://cdn.pydata.org/bokeh/release/bokeh-widgets-0.13.0.min.css\");\n      Bokeh.embed.inject_css(\"https://cdn.pydata.org/bokeh/release/bokeh-widgets-0.13.0.min.css\");\n      console.log(\"Bokeh: injecting CSS: https://cdn.pydata.org/bokeh/release/bokeh-tables-0.13.0.min.css\");\n      Bokeh.embed.inject_css(\"https://cdn.pydata.org/bokeh/release/bokeh-tables-0.13.0.min.css\");\n    }\n  ];\n\n  function run_inline_js() {\n    \n    if ((root.Bokeh !== undefined) || (force === true)) {\n      for (var i = 0; i < inline_js.length; i++) {\n        inline_js[i].call(root, root.Bokeh);\n      }if (force === true) {\n        display_loaded();\n      }} else if (Date.now() < root._bokeh_timeout) {\n      setTimeout(run_inline_js, 100);\n    } else if (!root._bokeh_failed_load) {\n      console.log(\"Bokeh: BokehJS failed to load within specified timeout.\");\n      root._bokeh_failed_load = true;\n    } else if (force !== true) {\n      var cell = $(document.getElementById(\"75ca2431-ed7a-46f5-ae8c-75163e716e38\")).parents('.cell').data().cell;\n      cell.output_area.append_execute_result(NB_LOAD_WARNING)\n    }\n\n  }\n\n  if (root._bokeh_is_loading === 0) {\n    console.log(\"Bokeh: BokehJS loaded, going straight to plotting\");\n    run_inline_js();\n  } else {\n    load_libs(js_urls, function() {\n      console.log(\"Bokeh: BokehJS plotting callback run at\", now());\n      run_inline_js();\n    });\n  }\n}(window));"
     },
     "metadata": {},
     "output_type": "display_data"
    }
   ],
   "source": [
    "import numpy as np\n",
    "from sympy import * \n",
    "init_printing(use_unicode=True)\n",
    "\n",
    "# Bokeh for interactive plots\n",
    "from bokeh.plotting import figure, output_notebook, show\n",
    "from bokeh.layouts import row, column\n",
    "from bokeh.models import Span, PointDrawTool\n",
    "output_notebook()\n",
    "\n",
    "def plot(w=700,h=500,title='',x='X',y='f(x)'):\n",
    "    '''Wrapper function to ease starting a new plot.'''\n",
    "    p = figure(plot_width=w,plot_height=h,title=title,\n",
    "           toolbar_location=\"above\",\n",
    "           tooltips=[(\"out\", \"$y\"),(\"x\", \"$x\")],\n",
    "           tools='pan,hover,wheel_zoom,reset')\n",
    "    \n",
    "    # Define a continuous line for the x-axis\n",
    "    hline = Span(location=0, dimension='width', line_color='grey', line_width=1)\n",
    "    p.renderers.extend([hline])\n",
    "    \n",
    "    # Labels\n",
    "    p.xaxis.axis_label = x\n",
    "    p.yaxis.axis_label = y\n",
    "    return p\n",
    "\n",
    "def draw(p):\n",
    "    '''Wrapper function for generating a drawing tool on a graph'''\n",
    "    renderer = p.scatter(x=[], y=[], color='black', size=10)\n",
    "    draw_tool = PointDrawTool(renderers=[renderer], empty_value='black')\n",
    "    p.add_tools(draw_tool)\n",
    "    p.toolbar.active_tap = draw_tool\n",
    "    return p"
   ]
  },
  {
   "cell_type": "markdown",
   "metadata": {},
   "source": [
    "## Extrema "
   ]
  },
  {
   "cell_type": "markdown",
   "metadata": {},
   "source": [
    "Consider the following two functions:\n",
    "\n",
    "$$ f(x) = -x^2 $$\n",
    "$$ g(x) = x^2 $$"
   ]
  },
  {
   "cell_type": "code",
   "execution_count": 52,
   "metadata": {},
   "outputs": [],
   "source": [
    "def f(x):\n",
    "    return -x**2\n",
    "\n",
    "def g(x):\n",
    "    return x**2"
   ]
  },
  {
   "cell_type": "markdown",
   "metadata": {},
   "source": [
    "Let's plot them. For what value of $x$ in the interval $[-5,5]$ does each function reach a **maximum** or **minimum** value?"
   ]
  },
  {
   "cell_type": "code",
   "execution_count": 53,
   "metadata": {},
   "outputs": [
    {
     "data": {
      "text/html": [
       "\n",
       "\n",
       "\n",
       "\n",
       "\n",
       "\n",
       "  <div class=\"bk-root\" id=\"c86dcdcd-494c-4dcf-a909-7cc95828638f\"></div>\n"
      ]
     },
     "metadata": {},
     "output_type": "display_data"
    },
    {
     "data": {
      "application/javascript": [
       "(function(root) {\n",
       "  function embed_document(root) {\n",
       "    \n",
       "  var docs_json = {\"224fd09e-331f-47f9-9d1e-1744ffd0b56f\":{\"roots\":{\"references\":[{\"attributes\":{},\"id\":\"c3151d9d-df55-44b9-8416-2098eaf52aaf\",\"type\":\"UnionRenderers\"},{\"attributes\":{\"dimension\":1,\"plot\":{\"id\":\"2faa29a2-5e16-42c3-bdd8-39007b603958\",\"subtype\":\"Figure\",\"type\":\"Plot\"},\"ticker\":{\"id\":\"9747cbdf-b5cf-4f54-9d74-884747a61820\",\"type\":\"BasicTicker\"}},\"id\":\"7a346004-f53b-4345-a3a4-c39079c405a6\",\"type\":\"Grid\"},{\"attributes\":{},\"id\":\"2d6aef04-c8a3-4712-b663-5de170e24caf\",\"type\":\"BasicTickFormatter\"},{\"attributes\":{},\"id\":\"a321532c-fdbd-45c1-8526-ceab85c3dcfc\",\"type\":\"Selection\"},{\"attributes\":{},\"id\":\"e92340d0-c34a-4ae2-a3f6-3cc59ed7cf3d\",\"type\":\"UnionRenderers\"},{\"attributes\":{\"fill_alpha\":{\"value\":0.1},\"fill_color\":{\"value\":\"#1f77b4\"},\"line_alpha\":{\"value\":0.1},\"line_color\":{\"value\":\"#1f77b4\"},\"size\":{\"units\":\"screen\",\"value\":10},\"x\":{\"field\":\"x\"},\"y\":{\"field\":\"y\"}},\"id\":\"78872b96-21a5-4029-89e0-7d4e41367d27\",\"type\":\"Circle\"},{\"attributes\":{},\"id\":\"cd27930b-49b7-4698-b643-dd418a0d63b8\",\"type\":\"Selection\"},{\"attributes\":{\"data_source\":{\"id\":\"4f4f9e0d-e980-4a97-aba9-25137fdc50e5\",\"type\":\"ColumnDataSource\"},\"glyph\":{\"id\":\"afaffb75-0bbd-47bc-b95a-735865846e22\",\"type\":\"Circle\"},\"hover_glyph\":null,\"muted_glyph\":null,\"nonselection_glyph\":{\"id\":\"78872b96-21a5-4029-89e0-7d4e41367d27\",\"type\":\"Circle\"},\"selection_glyph\":null,\"view\":{\"id\":\"3877d9fd-9fd6-42ed-a037-3398a4428315\",\"type\":\"CDSView\"}},\"id\":\"7f8b9dea-9c5c-4996-9454-7ef40e847309\",\"type\":\"GlyphRenderer\"},{\"attributes\":{},\"id\":\"fb8ea236-0b49-41d1-a0a6-509e1858be89\",\"type\":\"UnionRenderers\"},{\"attributes\":{\"below\":[{\"id\":\"7bb43bc9-20e8-46a8-ba0b-fa71d31bd43c\",\"type\":\"LinearAxis\"}],\"left\":[{\"id\":\"8ce704b2-d336-4f4e-a980-a26dc4dbacd8\",\"type\":\"LinearAxis\"}],\"plot_height\":300,\"plot_width\":700,\"renderers\":[{\"id\":\"7bb43bc9-20e8-46a8-ba0b-fa71d31bd43c\",\"type\":\"LinearAxis\"},{\"id\":\"2371c6f5-760f-4b89-9745-18bc2704f2a8\",\"type\":\"Grid\"},{\"id\":\"8ce704b2-d336-4f4e-a980-a26dc4dbacd8\",\"type\":\"LinearAxis\"},{\"id\":\"7a346004-f53b-4345-a3a4-c39079c405a6\",\"type\":\"Grid\"},{\"id\":\"a49bdb58-7c5d-4388-b849-f7da47a5af59\",\"type\":\"Span\"},{\"id\":\"cb86cd0b-715c-4154-86b6-ff9533bfd653\",\"type\":\"GlyphRenderer\"},{\"id\":\"55dcc0d4-217a-4643-bda5-949a6d577300\",\"type\":\"GlyphRenderer\"}],\"title\":{\"id\":\"417978a0-2953-49c6-a35e-c26095916e51\",\"type\":\"Title\"},\"toolbar\":{\"id\":\"31eecc96-d506-4d95-a612-ce693e1cd73c\",\"type\":\"Toolbar\"},\"toolbar_location\":\"above\",\"x_range\":{\"id\":\"a8e70b93-62fd-4bd9-bf6a-3b29da21f9cb\",\"type\":\"DataRange1d\"},\"x_scale\":{\"id\":\"cfa0095d-9698-42f5-a547-52d8699e8bf5\",\"type\":\"LinearScale\"},\"y_range\":{\"id\":\"065ffd49-5f80-4143-884e-cef61aabdab7\",\"type\":\"DataRange1d\"},\"y_scale\":{\"id\":\"38b8ec38-082c-48e0-be21-fc195631bfee\",\"type\":\"LinearScale\"}},\"id\":\"2faa29a2-5e16-42c3-bdd8-39007b603958\",\"subtype\":\"Figure\",\"type\":\"Plot\"},{\"attributes\":{},\"id\":\"bd12882a-73f3-4186-9056-b1a3c0c3190d\",\"type\":\"Selection\"},{\"attributes\":{\"line_alpha\":0.1,\"line_color\":\"#1f77b4\",\"line_width\":3,\"x\":{\"field\":\"x\"},\"y\":{\"field\":\"y\"}},\"id\":\"9f3bce0e-46cf-4097-91ab-97d3ef9c747d\",\"type\":\"Line\"},{\"attributes\":{},\"id\":\"76e293a3-5e9a-4dd2-8003-bdd051c5d4f6\",\"type\":\"UnionRenderers\"},{\"attributes\":{\"data_source\":{\"id\":\"dbc144dd-95cc-4533-92cd-7bb40020e503\",\"type\":\"ColumnDataSource\"},\"glyph\":{\"id\":\"194e112c-07d4-4334-9884-4642d48ee9da\",\"type\":\"Line\"},\"hover_glyph\":null,\"muted_glyph\":null,\"nonselection_glyph\":{\"id\":\"9f3bce0e-46cf-4097-91ab-97d3ef9c747d\",\"type\":\"Line\"},\"selection_glyph\":null,\"view\":{\"id\":\"82a5f4ba-1bfa-45e6-8144-dc0a4e7811f3\",\"type\":\"CDSView\"}},\"id\":\"cb86cd0b-715c-4154-86b6-ff9533bfd653\",\"type\":\"GlyphRenderer\"},{\"attributes\":{\"callback\":null,\"data\":{\"x\":{\"__ndarray__\":\"AAAAAAAAFMCamZmZmZkTwDQzMzMzMxPAzszMzMzMEsBoZmZmZmYSwAIAAAAAABLAnJmZmZmZEcA2MzMzMzMRwNDMzMzMzBDAamZmZmZmEMAEAAAAAAAQwDwzMzMzMw/AcGZmZmZmDsCkmZmZmZkNwNjMzMzMzAzADAAAAAAADMBAMzMzMzMLwHRmZmZmZgrAqJmZmZmZCcDczMzMzMwIwBAAAAAAAAjARDMzMzMzB8B4ZmZmZmYGwKyZmZmZmQXA4MzMzMzMBMAUAAAAAAAEwEgzMzMzMwPAfGZmZmZmAsCwmZmZmZkBwOTMzMzMzADAGAAAAAAAAMCYZmZmZmb+vwDNzMzMzPy/aDMzMzMz+7/QmZmZmZn5vzgAAAAAAPi/oGZmZmZm9r8IzczMzMz0v3AzMzMzM/O/2JmZmZmZ8b9AAAAAAADwv1DNzMzMzOy/IJqZmZmZ6b/wZmZmZmbmv8AzMzMzM+O/kAAAAAAA4L/AmpmZmZnZv2A0MzMzM9O/AJyZmZmZyb+AnpmZmZm5vwAAAAAAABS9gJSZmZmZuT8Al5mZmZnJP+AxMzMzM9M/QJiZmZmZ2T+g/v/////fP4AyMzMzM+M/sGVmZmZm5j/gmJmZmZnpPxDMzMzMzOw/QP//////7z84mZmZmZnxP9AyMzMzM/M/aMzMzMzM9D8AZmZmZmb2P5j///////c/MJmZmZmZ+T/IMjMzMzP7P2DMzMzMzPw/+GVmZmZm/j+Q////////P5TMzMzMzABAYJmZmZmZAUAsZmZmZmYCQPgyMzMzMwNAxP//////A0CQzMzMzMwEQFyZmZmZmQVAKGZmZmZmBkD0MjMzMzMHQMD//////wdAjMzMzMzMCEBYmZmZmZkJQCRmZmZmZgpA8DIzMzMzC0C8//////8LQIjMzMzMzAxAVJmZmZmZDUAgZmZmZmYOQOwyMzMzMw9AuP//////D0BCZmZmZmYQQKjMzMzMzBBADjMzMzMzEUB0mZmZmZkRQNr//////xFAQGZmZmZmEkCmzMzMzMwSQAwzMzMzMxNAcpmZmZmZE0DY//////8TQA==\",\"dtype\":\"float64\",\"shape\":[101]},\"y\":{\"__ndarray__\":\"AAAAAAAAOcDE9ShcjwI4wAzXo3A9CjfA2qNwPQoXNsAtXI/C9Sg1wAUAAAAAQDTAYY/C9ShcM8BDCtejcH0ywKtwPQrXozHAl8L1KFzPMMAIAAAAAAAwwP1RuB6Fay7A9HoUrkfhLMD1ehSuR2ErwABSuB6F6ynAFQAAAACAKMA0hetRuB4nwF7hehSuxyXAkhSuR+F6JMDQHoXrUTgjwBgAAAAAACLAargehevRIMCNj8L1KFwfwFtcj8L1KB3APNejcD0KG8AyAAAAAAAZwDzXo3A9ChfAW1yPwvUoFcCNj8L1KFwTwNVwPQrXoxHAMAAAAAAAEMBAexSuR+EMwEhSuB6F6wnAeIXrUbgeB8DSFK5H4XoEwFQAAAAAAALA/Y/C9Shc/7+k16NwPQr7v5zXo3A9Cve/5Y/C9Shc87+AAAAAAADwv9hSuB6F6+m/UhWuR+F65L/dkML1KFzfv1zYo3A9Cte/IAEAAAAA0L9SFq5H4XrEv9zZo3A9Cre/UhiuR+F6pL9SHK5H4XqEvwAAAAAAADm6UgyuR+F6hL9SEK5H4Xqkv9zTo3A9Cre/UhKuR+F6xL9A/f/////Pv1zVo3A9Cte/XY3C9Shc379SE65H4Xrkv5hQuB6F6+m/gP7/////77+FjsL1KFzzvxzWo3A9Cve/BNajcD0K+789jsL1KFz/v2T//////wHA0hOuR+F6BMBohOtRuB4HwChRuB6F6wnAEHoUrkfhDMAg//////8PwC1wPQrXoxHA3Y7C9ShcE8CjW4/C9SgVwHzWo3A9ChfAav//////GMBs1qNwPQobwINbj8L1KB3ArY7C9ShcH8D2tx6F69EgwKD//////yHAVB6F61E4I8ASFK5H4XokwNrgehSuxyXArITrUbgeJ8CJ/////38owHBRuB6F6ynAYXoUrkdhK8BcehSuR+EswGFRuB6Fay7AcP//////L8BFwvUoXM8wwFdwPQrXozHA7QnXo3B9MsAJj8L1KFwzwKv/////PzTA0VuPwvUoNcB8o3A9Chc2wKzWo3A9CjfAYvUoXI8COMCc//////84wA==\",\"dtype\":\"float64\",\"shape\":[101]}},\"selected\":{\"id\":\"fdb1af37-4bff-4bdc-92b4-77dd1e78d2a7\",\"type\":\"Selection\"},\"selection_policy\":{\"id\":\"c3151d9d-df55-44b9-8416-2098eaf52aaf\",\"type\":\"UnionRenderers\"}},\"id\":\"dbc144dd-95cc-4533-92cd-7bb40020e503\",\"type\":\"ColumnDataSource\"},{\"attributes\":{\"callback\":null},\"id\":\"a8e70b93-62fd-4bd9-bf6a-3b29da21f9cb\",\"type\":\"DataRange1d\"},{\"attributes\":{\"active_drag\":\"auto\",\"active_inspect\":\"auto\",\"active_multi\":null,\"active_scroll\":\"auto\",\"active_tap\":{\"id\":\"ec4b7ff4-4245-418b-8aed-0b6964d3c616\",\"type\":\"PointDrawTool\"},\"tools\":[{\"id\":\"70db435d-525c-44ce-922d-007d184ab92d\",\"type\":\"PanTool\"},{\"id\":\"1c7802e4-e5e7-4202-9ba5-b45c2d806954\",\"type\":\"HoverTool\"},{\"id\":\"19a29541-02f7-495a-8938-12cf057d0ddb\",\"type\":\"WheelZoomTool\"},{\"id\":\"22f8dbc2-b356-4725-9921-799086adbc1b\",\"type\":\"ResetTool\"},{\"id\":\"ec4b7ff4-4245-418b-8aed-0b6964d3c616\",\"type\":\"PointDrawTool\"}]},\"id\":\"31eecc96-d506-4d95-a612-ce693e1cd73c\",\"type\":\"Toolbar\"},{\"attributes\":{\"callback\":null},\"id\":\"065ffd49-5f80-4143-884e-cef61aabdab7\",\"type\":\"DataRange1d\"},{\"attributes\":{\"below\":[{\"id\":\"6e9c09da-ce16-4f7a-952d-5177ecf97d72\",\"type\":\"LinearAxis\"}],\"left\":[{\"id\":\"9a84bf4c-5d97-4860-8333-ba6769b702c9\",\"type\":\"LinearAxis\"}],\"plot_height\":300,\"plot_width\":700,\"renderers\":[{\"id\":\"6e9c09da-ce16-4f7a-952d-5177ecf97d72\",\"type\":\"LinearAxis\"},{\"id\":\"20c5e4d1-de25-49d0-9c23-8a3a98b5a5e1\",\"type\":\"Grid\"},{\"id\":\"9a84bf4c-5d97-4860-8333-ba6769b702c9\",\"type\":\"LinearAxis\"},{\"id\":\"020765ee-1bbe-47a0-96da-ed931efa5632\",\"type\":\"Grid\"},{\"id\":\"75020a64-24e3-4577-9b8e-17b267d70b70\",\"type\":\"Span\"},{\"id\":\"f3c20f00-9912-48f8-8852-88f99b80ff9f\",\"type\":\"GlyphRenderer\"},{\"id\":\"7f8b9dea-9c5c-4996-9454-7ef40e847309\",\"type\":\"GlyphRenderer\"}],\"title\":{\"id\":\"aec4585b-01dc-4d6f-b46a-9a7f45aa2bd8\",\"type\":\"Title\"},\"toolbar\":{\"id\":\"55ff0a3a-a261-4250-a46b-2038f8afd742\",\"type\":\"Toolbar\"},\"toolbar_location\":\"above\",\"x_range\":{\"id\":\"b1429693-a9ea-4d31-82cd-93303fac939c\",\"type\":\"DataRange1d\"},\"x_scale\":{\"id\":\"cbe47bbb-5803-4a2b-9a6a-481f6c19772b\",\"type\":\"LinearScale\"},\"y_range\":{\"id\":\"e76c87ea-b90d-4562-9487-c0fde17aa50a\",\"type\":\"DataRange1d\"},\"y_scale\":{\"id\":\"3608521b-5b4d-4d01-87a0-3d8eca2c1e9b\",\"type\":\"LinearScale\"}},\"id\":\"90917515-0d1f-4199-961a-85fc29704dbb\",\"subtype\":\"Figure\",\"type\":\"Plot\"},{\"attributes\":{},\"id\":\"22f8dbc2-b356-4725-9921-799086adbc1b\",\"type\":\"ResetTool\"},{\"attributes\":{\"fill_alpha\":{\"value\":0.1},\"fill_color\":{\"value\":\"#1f77b4\"},\"line_alpha\":{\"value\":0.1},\"line_color\":{\"value\":\"#1f77b4\"},\"size\":{\"units\":\"screen\",\"value\":10},\"x\":{\"field\":\"x\"},\"y\":{\"field\":\"y\"}},\"id\":\"670b4550-3d27-4083-9afe-aa4a5653d671\",\"type\":\"Circle\"},{\"attributes\":{\"callback\":null,\"renderers\":\"auto\",\"tooltips\":[[\"out\",\"$y\"],[\"x\",\"$x\"]]},\"id\":\"1c7802e4-e5e7-4202-9ba5-b45c2d806954\",\"type\":\"HoverTool\"},{\"attributes\":{},\"id\":\"19a29541-02f7-495a-8938-12cf057d0ddb\",\"type\":\"WheelZoomTool\"},{\"attributes\":{\"fill_color\":{\"value\":\"black\"},\"size\":{\"units\":\"screen\",\"value\":10},\"x\":{\"field\":\"x\"},\"y\":{\"field\":\"y\"}},\"id\":\"4b1ba72d-66e7-4c80-a1db-4864e63b0982\",\"type\":\"Circle\"},{\"attributes\":{\"line_color\":{\"value\":\"grey\"},\"location\":0,\"plot\":null},\"id\":\"a49bdb58-7c5d-4388-b849-f7da47a5af59\",\"type\":\"Span\"},{\"attributes\":{\"plot\":null,\"text\":\"\"},\"id\":\"417978a0-2953-49c6-a35e-c26095916e51\",\"type\":\"Title\"},{\"attributes\":{},\"id\":\"70db435d-525c-44ce-922d-007d184ab92d\",\"type\":\"PanTool\"},{\"attributes\":{},\"id\":\"a8a597c0-c1da-4c5d-ba54-f67c27a3674a\",\"type\":\"BasicTickFormatter\"},{\"attributes\":{\"callback\":null,\"data\":{\"x\":{\"__ndarray__\":\"AAAAAAAAFMCamZmZmZkTwDQzMzMzMxPAzszMzMzMEsBoZmZmZmYSwAIAAAAAABLAnJmZmZmZEcA2MzMzMzMRwNDMzMzMzBDAamZmZmZmEMAEAAAAAAAQwDwzMzMzMw/AcGZmZmZmDsCkmZmZmZkNwNjMzMzMzAzADAAAAAAADMBAMzMzMzMLwHRmZmZmZgrAqJmZmZmZCcDczMzMzMwIwBAAAAAAAAjARDMzMzMzB8B4ZmZmZmYGwKyZmZmZmQXA4MzMzMzMBMAUAAAAAAAEwEgzMzMzMwPAfGZmZmZmAsCwmZmZmZkBwOTMzMzMzADAGAAAAAAAAMCYZmZmZmb+vwDNzMzMzPy/aDMzMzMz+7/QmZmZmZn5vzgAAAAAAPi/oGZmZmZm9r8IzczMzMz0v3AzMzMzM/O/2JmZmZmZ8b9AAAAAAADwv1DNzMzMzOy/IJqZmZmZ6b/wZmZmZmbmv8AzMzMzM+O/kAAAAAAA4L/AmpmZmZnZv2A0MzMzM9O/AJyZmZmZyb+AnpmZmZm5vwAAAAAAABS9gJSZmZmZuT8Al5mZmZnJP+AxMzMzM9M/QJiZmZmZ2T+g/v/////fP4AyMzMzM+M/sGVmZmZm5j/gmJmZmZnpPxDMzMzMzOw/QP//////7z84mZmZmZnxP9AyMzMzM/M/aMzMzMzM9D8AZmZmZmb2P5j///////c/MJmZmZmZ+T/IMjMzMzP7P2DMzMzMzPw/+GVmZmZm/j+Q////////P5TMzMzMzABAYJmZmZmZAUAsZmZmZmYCQPgyMzMzMwNAxP//////A0CQzMzMzMwEQFyZmZmZmQVAKGZmZmZmBkD0MjMzMzMHQMD//////wdAjMzMzMzMCEBYmZmZmZkJQCRmZmZmZgpA8DIzMzMzC0C8//////8LQIjMzMzMzAxAVJmZmZmZDUAgZmZmZmYOQOwyMzMzMw9AuP//////D0BCZmZmZmYQQKjMzMzMzBBADjMzMzMzEUB0mZmZmZkRQNr//////xFAQGZmZmZmEkCmzMzMzMwSQAwzMzMzMxNAcpmZmZmZE0DY//////8TQA==\",\"dtype\":\"float64\",\"shape\":[101]},\"y\":{\"__ndarray__\":\"AAAAAAAAOUDE9ShcjwI4QAzXo3A9CjdA2qNwPQoXNkAtXI/C9Sg1QAUAAAAAQDRAYY/C9ShcM0BDCtejcH0yQKtwPQrXozFAl8L1KFzPMEAIAAAAAAAwQP1RuB6Fay5A9HoUrkfhLED1ehSuR2ErQABSuB6F6ylAFQAAAACAKEA0hetRuB4nQF7hehSuxyVAkhSuR+F6JEDQHoXrUTgjQBgAAAAAACJAargehevRIECNj8L1KFwfQFtcj8L1KB1APNejcD0KG0AyAAAAAAAZQDzXo3A9ChdAW1yPwvUoFUCNj8L1KFwTQNVwPQrXoxFAMAAAAAAAEEBAexSuR+EMQEhSuB6F6wlAeIXrUbgeB0DSFK5H4XoEQFQAAAAAAAJA/Y/C9Shc/z+k16NwPQr7P5zXo3A9Cvc/5Y/C9Shc8z+AAAAAAADwP9hSuB6F6+k/UhWuR+F65D/dkML1KFzfP1zYo3A9Ctc/IAEAAAAA0D9SFq5H4XrEP9zZo3A9Crc/UhiuR+F6pD9SHK5H4XqEPwAAAAAAADk6UgyuR+F6hD9SEK5H4XqkP9zTo3A9Crc/UhKuR+F6xD9A/f/////PP1zVo3A9Ctc/XY3C9Shc3z9SE65H4XrkP5hQuB6F6+k/gP7/////7z+FjsL1KFzzPxzWo3A9Cvc/BNajcD0K+z89jsL1KFz/P2T//////wFA0hOuR+F6BEBohOtRuB4HQChRuB6F6wlAEHoUrkfhDEAg//////8PQC1wPQrXoxFA3Y7C9ShcE0CjW4/C9SgVQHzWo3A9ChdAav//////GEBs1qNwPQobQINbj8L1KB1ArY7C9ShcH0D2tx6F69EgQKD//////yFAVB6F61E4I0ASFK5H4XokQNrgehSuxyVArITrUbgeJ0CJ/////38oQHBRuB6F6ylAYXoUrkdhK0BcehSuR+EsQGFRuB6Fay5AcP//////L0BFwvUoXM8wQFdwPQrXozFA7QnXo3B9MkAJj8L1KFwzQKv/////PzRA0VuPwvUoNUB8o3A9Chc2QKzWo3A9CjdAYvUoXI8COECc//////84QA==\",\"dtype\":\"float64\",\"shape\":[101]}},\"selected\":{\"id\":\"cd27930b-49b7-4698-b643-dd418a0d63b8\",\"type\":\"Selection\"},\"selection_policy\":{\"id\":\"fb8ea236-0b49-41d1-a0a6-509e1858be89\",\"type\":\"UnionRenderers\"}},\"id\":\"23b5d18d-872a-4414-b99d-d5d425463bad\",\"type\":\"ColumnDataSource\"},{\"attributes\":{\"callback\":null,\"data\":{\"x\":[],\"y\":[]},\"selected\":{\"id\":\"a321532c-fdbd-45c1-8526-ceab85c3dcfc\",\"type\":\"Selection\"},\"selection_policy\":{\"id\":\"e92340d0-c34a-4ae2-a3f6-3cc59ed7cf3d\",\"type\":\"UnionRenderers\"}},\"id\":\"6ee660cc-297f-4cbc-86cc-37e4b6208ce5\",\"type\":\"ColumnDataSource\"},{\"attributes\":{},\"id\":\"9747cbdf-b5cf-4f54-9d74-884747a61820\",\"type\":\"BasicTicker\"},{\"attributes\":{},\"id\":\"5103f100-a201-4268-b1ae-54d1aae08df8\",\"type\":\"BasicTicker\"},{\"attributes\":{\"axis_label\":\"f(x)\",\"formatter\":{\"id\":\"c7933964-4f10-4d02-90fc-3b139b12faab\",\"type\":\"BasicTickFormatter\"},\"plot\":{\"id\":\"2faa29a2-5e16-42c3-bdd8-39007b603958\",\"subtype\":\"Figure\",\"type\":\"Plot\"},\"ticker\":{\"id\":\"9747cbdf-b5cf-4f54-9d74-884747a61820\",\"type\":\"BasicTicker\"}},\"id\":\"8ce704b2-d336-4f4e-a980-a26dc4dbacd8\",\"type\":\"LinearAxis\"},{\"attributes\":{\"axis_label\":\"X\",\"formatter\":{\"id\":\"a8a597c0-c1da-4c5d-ba54-f67c27a3674a\",\"type\":\"BasicTickFormatter\"},\"plot\":{\"id\":\"2faa29a2-5e16-42c3-bdd8-39007b603958\",\"subtype\":\"Figure\",\"type\":\"Plot\"},\"ticker\":{\"id\":\"5103f100-a201-4268-b1ae-54d1aae08df8\",\"type\":\"BasicTicker\"}},\"id\":\"7bb43bc9-20e8-46a8-ba0b-fa71d31bd43c\",\"type\":\"LinearAxis\"},{\"attributes\":{\"line_alpha\":0.3,\"line_color\":\"#1f77b4\",\"line_width\":3,\"x\":{\"field\":\"x\"},\"y\":{\"field\":\"y\"}},\"id\":\"194e112c-07d4-4334-9884-4642d48ee9da\",\"type\":\"Line\"},{\"attributes\":{\"source\":{\"id\":\"6ee660cc-297f-4cbc-86cc-37e4b6208ce5\",\"type\":\"ColumnDataSource\"}},\"id\":\"2bd4af44-8d1e-4eaf-ae8b-fd30896a8d24\",\"type\":\"CDSView\"},{\"attributes\":{\"plot\":{\"id\":\"2faa29a2-5e16-42c3-bdd8-39007b603958\",\"subtype\":\"Figure\",\"type\":\"Plot\"},\"ticker\":{\"id\":\"5103f100-a201-4268-b1ae-54d1aae08df8\",\"type\":\"BasicTicker\"}},\"id\":\"2371c6f5-760f-4b89-9745-18bc2704f2a8\",\"type\":\"Grid\"},{\"attributes\":{},\"id\":\"38b8ec38-082c-48e0-be21-fc195631bfee\",\"type\":\"LinearScale\"},{\"attributes\":{\"empty_value\":\"black\",\"renderers\":[{\"id\":\"55dcc0d4-217a-4643-bda5-949a6d577300\",\"type\":\"GlyphRenderer\"}]},\"id\":\"ec4b7ff4-4245-418b-8aed-0b6964d3c616\",\"type\":\"PointDrawTool\"},{\"attributes\":{\"plot\":null,\"text\":\"\"},\"id\":\"aec4585b-01dc-4d6f-b46a-9a7f45aa2bd8\",\"type\":\"Title\"},{\"attributes\":{},\"id\":\"cfa0095d-9698-42f5-a547-52d8699e8bf5\",\"type\":\"LinearScale\"},{\"attributes\":{\"source\":{\"id\":\"dbc144dd-95cc-4533-92cd-7bb40020e503\",\"type\":\"ColumnDataSource\"}},\"id\":\"82a5f4ba-1bfa-45e6-8144-dc0a4e7811f3\",\"type\":\"CDSView\"},{\"attributes\":{\"data_source\":{\"id\":\"6ee660cc-297f-4cbc-86cc-37e4b6208ce5\",\"type\":\"ColumnDataSource\"},\"glyph\":{\"id\":\"4b1ba72d-66e7-4c80-a1db-4864e63b0982\",\"type\":\"Circle\"},\"hover_glyph\":null,\"muted_glyph\":null,\"nonselection_glyph\":{\"id\":\"670b4550-3d27-4083-9afe-aa4a5653d671\",\"type\":\"Circle\"},\"selection_glyph\":null,\"view\":{\"id\":\"2bd4af44-8d1e-4eaf-ae8b-fd30896a8d24\",\"type\":\"CDSView\"}},\"id\":\"55dcc0d4-217a-4643-bda5-949a6d577300\",\"type\":\"GlyphRenderer\"},{\"attributes\":{},\"id\":\"429adf2b-d670-424b-98c0-c3dcd5846ece\",\"type\":\"BasicTickFormatter\"},{\"attributes\":{\"callback\":null},\"id\":\"b1429693-a9ea-4d31-82cd-93303fac939c\",\"type\":\"DataRange1d\"},{\"attributes\":{\"line_alpha\":0.1,\"line_color\":\"#1f77b4\",\"line_width\":3,\"x\":{\"field\":\"x\"},\"y\":{\"field\":\"y\"}},\"id\":\"859c57ec-83a1-4866-ba45-e6e4ddaa6657\",\"type\":\"Line\"},{\"attributes\":{},\"id\":\"3608521b-5b4d-4d01-87a0-3d8eca2c1e9b\",\"type\":\"LinearScale\"},{\"attributes\":{},\"id\":\"c7933964-4f10-4d02-90fc-3b139b12faab\",\"type\":\"BasicTickFormatter\"},{\"attributes\":{\"callback\":null},\"id\":\"e76c87ea-b90d-4562-9487-c0fde17aa50a\",\"type\":\"DataRange1d\"},{\"attributes\":{\"active_drag\":\"auto\",\"active_inspect\":\"auto\",\"active_multi\":null,\"active_scroll\":\"auto\",\"active_tap\":{\"id\":\"abd82bcc-dbc9-4e52-afa1-93641d1fb388\",\"type\":\"PointDrawTool\"},\"tools\":[{\"id\":\"6141992d-5d62-423c-9b2d-c343af829b4e\",\"type\":\"PanTool\"},{\"id\":\"d0cc54c0-4810-43e0-9058-1385dc80b2bd\",\"type\":\"HoverTool\"},{\"id\":\"b40c9125-aa56-45d6-af0f-04a0c65ed7de\",\"type\":\"WheelZoomTool\"},{\"id\":\"894c2888-e44d-4835-aa6a-3fce6c5b82ac\",\"type\":\"ResetTool\"},{\"id\":\"abd82bcc-dbc9-4e52-afa1-93641d1fb388\",\"type\":\"PointDrawTool\"}]},\"id\":\"55ff0a3a-a261-4250-a46b-2038f8afd742\",\"type\":\"Toolbar\"},{\"attributes\":{},\"id\":\"cbe47bbb-5803-4a2b-9a6a-481f6c19772b\",\"type\":\"LinearScale\"},{\"attributes\":{\"callback\":null,\"data\":{\"x\":[],\"y\":[]},\"selected\":{\"id\":\"bd12882a-73f3-4186-9056-b1a3c0c3190d\",\"type\":\"Selection\"},\"selection_policy\":{\"id\":\"76e293a3-5e9a-4dd2-8003-bdd051c5d4f6\",\"type\":\"UnionRenderers\"}},\"id\":\"4f4f9e0d-e980-4a97-aba9-25137fdc50e5\",\"type\":\"ColumnDataSource\"},{\"attributes\":{\"axis_label\":\"f(x)\",\"formatter\":{\"id\":\"2d6aef04-c8a3-4712-b663-5de170e24caf\",\"type\":\"BasicTickFormatter\"},\"plot\":{\"id\":\"90917515-0d1f-4199-961a-85fc29704dbb\",\"subtype\":\"Figure\",\"type\":\"Plot\"},\"ticker\":{\"id\":\"477e9704-752c-4313-8d13-a0c8e995a3ee\",\"type\":\"BasicTicker\"}},\"id\":\"9a84bf4c-5d97-4860-8333-ba6769b702c9\",\"type\":\"LinearAxis\"},{\"attributes\":{\"dimension\":1,\"plot\":{\"id\":\"90917515-0d1f-4199-961a-85fc29704dbb\",\"subtype\":\"Figure\",\"type\":\"Plot\"},\"ticker\":{\"id\":\"477e9704-752c-4313-8d13-a0c8e995a3ee\",\"type\":\"BasicTicker\"}},\"id\":\"020765ee-1bbe-47a0-96da-ed931efa5632\",\"type\":\"Grid\"},{\"attributes\":{},\"id\":\"477e9704-752c-4313-8d13-a0c8e995a3ee\",\"type\":\"BasicTicker\"},{\"attributes\":{},\"id\":\"e02fd803-949b-4f0e-8207-700e67c6b290\",\"type\":\"BasicTicker\"},{\"attributes\":{},\"id\":\"fdb1af37-4bff-4bdc-92b4-77dd1e78d2a7\",\"type\":\"Selection\"},{\"attributes\":{\"axis_label\":\"X\",\"formatter\":{\"id\":\"429adf2b-d670-424b-98c0-c3dcd5846ece\",\"type\":\"BasicTickFormatter\"},\"plot\":{\"id\":\"90917515-0d1f-4199-961a-85fc29704dbb\",\"subtype\":\"Figure\",\"type\":\"Plot\"},\"ticker\":{\"id\":\"e02fd803-949b-4f0e-8207-700e67c6b290\",\"type\":\"BasicTicker\"}},\"id\":\"6e9c09da-ce16-4f7a-952d-5177ecf97d72\",\"type\":\"LinearAxis\"},{\"attributes\":{\"plot\":{\"id\":\"90917515-0d1f-4199-961a-85fc29704dbb\",\"subtype\":\"Figure\",\"type\":\"Plot\"},\"ticker\":{\"id\":\"e02fd803-949b-4f0e-8207-700e67c6b290\",\"type\":\"BasicTicker\"}},\"id\":\"20c5e4d1-de25-49d0-9c23-8a3a98b5a5e1\",\"type\":\"Grid\"},{\"attributes\":{\"children\":[{\"id\":\"2faa29a2-5e16-42c3-bdd8-39007b603958\",\"subtype\":\"Figure\",\"type\":\"Plot\"},{\"id\":\"90917515-0d1f-4199-961a-85fc29704dbb\",\"subtype\":\"Figure\",\"type\":\"Plot\"}]},\"id\":\"9ed400f9-0f0d-4c40-8adb-23713ba2065e\",\"type\":\"Column\"},{\"attributes\":{\"line_color\":{\"value\":\"grey\"},\"location\":0,\"plot\":null},\"id\":\"75020a64-24e3-4577-9b8e-17b267d70b70\",\"type\":\"Span\"},{\"attributes\":{\"line_alpha\":0.3,\"line_color\":\"#1f77b4\",\"line_width\":3,\"x\":{\"field\":\"x\"},\"y\":{\"field\":\"y\"}},\"id\":\"b27f1869-42cf-472b-9363-746f4159730d\",\"type\":\"Line\"},{\"attributes\":{\"callback\":null,\"renderers\":\"auto\",\"tooltips\":[[\"out\",\"$y\"],[\"x\",\"$x\"]]},\"id\":\"d0cc54c0-4810-43e0-9058-1385dc80b2bd\",\"type\":\"HoverTool\"},{\"attributes\":{\"fill_color\":{\"value\":\"black\"},\"size\":{\"units\":\"screen\",\"value\":10},\"x\":{\"field\":\"x\"},\"y\":{\"field\":\"y\"}},\"id\":\"afaffb75-0bbd-47bc-b95a-735865846e22\",\"type\":\"Circle\"},{\"attributes\":{},\"id\":\"6141992d-5d62-423c-9b2d-c343af829b4e\",\"type\":\"PanTool\"},{\"attributes\":{\"source\":{\"id\":\"23b5d18d-872a-4414-b99d-d5d425463bad\",\"type\":\"ColumnDataSource\"}},\"id\":\"b20053ae-bb6e-4d6f-b0d6-0a358a238928\",\"type\":\"CDSView\"},{\"attributes\":{},\"id\":\"894c2888-e44d-4835-aa6a-3fce6c5b82ac\",\"type\":\"ResetTool\"},{\"attributes\":{},\"id\":\"b40c9125-aa56-45d6-af0f-04a0c65ed7de\",\"type\":\"WheelZoomTool\"},{\"attributes\":{\"empty_value\":\"black\",\"renderers\":[{\"id\":\"7f8b9dea-9c5c-4996-9454-7ef40e847309\",\"type\":\"GlyphRenderer\"}]},\"id\":\"abd82bcc-dbc9-4e52-afa1-93641d1fb388\",\"type\":\"PointDrawTool\"},{\"attributes\":{\"source\":{\"id\":\"4f4f9e0d-e980-4a97-aba9-25137fdc50e5\",\"type\":\"ColumnDataSource\"}},\"id\":\"3877d9fd-9fd6-42ed-a037-3398a4428315\",\"type\":\"CDSView\"},{\"attributes\":{\"data_source\":{\"id\":\"23b5d18d-872a-4414-b99d-d5d425463bad\",\"type\":\"ColumnDataSource\"},\"glyph\":{\"id\":\"b27f1869-42cf-472b-9363-746f4159730d\",\"type\":\"Line\"},\"hover_glyph\":null,\"muted_glyph\":null,\"nonselection_glyph\":{\"id\":\"859c57ec-83a1-4866-ba45-e6e4ddaa6657\",\"type\":\"Line\"},\"selection_glyph\":null,\"view\":{\"id\":\"b20053ae-bb6e-4d6f-b0d6-0a358a238928\",\"type\":\"CDSView\"}},\"id\":\"f3c20f00-9912-48f8-8852-88f99b80ff9f\",\"type\":\"GlyphRenderer\"}],\"root_ids\":[\"9ed400f9-0f0d-4c40-8adb-23713ba2065e\"]},\"title\":\"Bokeh Application\",\"version\":\"0.13.0\"}};\n",
       "  var render_items = [{\"docid\":\"224fd09e-331f-47f9-9d1e-1744ffd0b56f\",\"roots\":{\"9ed400f9-0f0d-4c40-8adb-23713ba2065e\":\"c86dcdcd-494c-4dcf-a909-7cc95828638f\"}}];\n",
       "  root.Bokeh.embed.embed_items_notebook(docs_json, render_items);\n",
       "\n",
       "  }\n",
       "  if (root.Bokeh !== undefined) {\n",
       "    embed_document(root);\n",
       "  } else {\n",
       "    var attempts = 0;\n",
       "    var timer = setInterval(function(root) {\n",
       "      if (root.Bokeh !== undefined) {\n",
       "        embed_document(root);\n",
       "        clearInterval(timer);\n",
       "      }\n",
       "      attempts++;\n",
       "      if (attempts > 100) {\n",
       "        console.log(\"Bokeh: ERROR: Unable to run BokehJS code because BokehJS library is missing\")\n",
       "        clearInterval(timer);\n",
       "      }\n",
       "    }, 10, root)\n",
       "  }\n",
       "})(window);"
      ],
      "application/vnd.bokehjs_exec.v0+json": ""
     },
     "metadata": {
      "application/vnd.bokehjs_exec.v0+json": {
       "id": "9ed400f9-0f0d-4c40-8adb-23713ba2065e"
      }
     },
     "output_type": "display_data"
    }
   ],
   "source": [
    "x = np.arange(-5,5.1,.1) # Define the Function Domain \n",
    "\n",
    "# Plot 1\n",
    "p = plot(w=700,h=300)\n",
    "p.line(x,f(x),line_width=3,alpha=.3)\n",
    "# p.scatter([0],[0],size=6)\n",
    "p = draw(p)\n",
    "\n",
    "# Plot 2\n",
    "p2 = plot(w=700,h=300)\n",
    "p2.line(x,g(x),line_width=3,alpha=.3)\n",
    "# p2.scatter([0],[0],size=6)\n",
    "p2 = draw(p2)\n",
    "\n",
    "show(column(p,p2)) # Render plot"
   ]
  },
  {
   "cell_type": "markdown",
   "metadata": {},
   "source": [
    "What about the following function?\n",
    "\n",
    "$$h(x) =  -2x \\cos{x} $$"
   ]
  },
  {
   "cell_type": "code",
   "execution_count": 4,
   "metadata": {},
   "outputs": [],
   "source": [
    "def h(x):\n",
    "    return -2*x*np.cos(x)"
   ]
  },
  {
   "cell_type": "markdown",
   "metadata": {},
   "source": [
    "Let's plot them again. This time let's try to \"eyeball\" where the minima and maxima of the function for $x \\in [-5,5]$"
   ]
  },
  {
   "cell_type": "code",
   "execution_count": 6,
   "metadata": {},
   "outputs": [
    {
     "data": {
      "text/html": [
       "\n",
       "\n",
       "\n",
       "\n",
       "\n",
       "\n",
       "  <div class=\"bk-root\" id=\"75773d6b-3341-43e9-bb70-0e0726cc888e\"></div>\n"
      ]
     },
     "metadata": {},
     "output_type": "display_data"
    },
    {
     "data": {
      "application/javascript": [
       "(function(root) {\n",
       "  function embed_document(root) {\n",
       "    \n",
       "  var docs_json = {\"a3f66118-3e96-4598-8282-7481e8397cf6\":{\"roots\":{\"references\":[{\"attributes\":{\"callback\":null,\"renderers\":\"auto\",\"tooltips\":[[\"out\",\"$y\"],[\"x\",\"$x\"]]},\"id\":\"42d9697f-f890-4572-b01e-2aa6675c824a\",\"type\":\"HoverTool\"},{\"attributes\":{\"source\":{\"id\":\"49340d60-bbe0-4f75-9833-80c4b1180dbf\",\"type\":\"ColumnDataSource\"}},\"id\":\"30075d98-3338-4b07-a576-8ef3e1e456bf\",\"type\":\"CDSView\"},{\"attributes\":{\"callback\":null,\"data\":{\"x\":{\"__ndarray__\":\"AAAAAAAAFMCamZmZmZkTwDQzMzMzMxPAzszMzMzMEsBoZmZmZmYSwAIAAAAAABLAnJmZmZmZEcA2MzMzMzMRwNDMzMzMzBDAamZmZmZmEMAEAAAAAAAQwDwzMzMzMw/AcGZmZmZmDsCkmZmZmZkNwNjMzMzMzAzADAAAAAAADMBAMzMzMzMLwHRmZmZmZgrAqJmZmZmZCcDczMzMzMwIwBAAAAAAAAjARDMzMzMzB8B4ZmZmZmYGwKyZmZmZmQXA4MzMzMzMBMAUAAAAAAAEwEgzMzMzMwPAfGZmZmZmAsCwmZmZmZkBwOTMzMzMzADAGAAAAAAAAMCYZmZmZmb+vwDNzMzMzPy/aDMzMzMz+7/QmZmZmZn5vzgAAAAAAPi/oGZmZmZm9r8IzczMzMz0v3AzMzMzM/O/2JmZmZmZ8b9AAAAAAADwv1DNzMzMzOy/IJqZmZmZ6b/wZmZmZmbmv8AzMzMzM+O/kAAAAAAA4L/AmpmZmZnZv2A0MzMzM9O/AJyZmZmZyb+AnpmZmZm5vwAAAAAAABS9gJSZmZmZuT8Al5mZmZnJP+AxMzMzM9M/QJiZmZmZ2T+g/v/////fP4AyMzMzM+M/sGVmZmZm5j/gmJmZmZnpPxDMzMzMzOw/QP//////7z84mZmZmZnxP9AyMzMzM/M/aMzMzMzM9D8AZmZmZmb2P5j///////c/MJmZmZmZ+T/IMjMzMzP7P2DMzMzMzPw/+GVmZmZm/j+Q////////P5TMzMzMzABAYJmZmZmZAUAsZmZmZmYCQPgyMzMzMwNAxP//////A0CQzMzMzMwEQFyZmZmZmQVAKGZmZmZmBkD0MjMzMzMHQMD//////wdAjMzMzMzMCEBYmZmZmZkJQCRmZmZmZgpA8DIzMzMzC0C8//////8LQIjMzMzMzAxAVJmZmZmZDUAgZmZmZmYOQOwyMzMzMw9AuP//////D0BCZmZmZmYQQKjMzMzMzBBADjMzMzMzEUB0mZmZmZkRQNr//////xFAQGZmZmZmEkCmzMzMzMwSQAwzMzMzMxNAcpmZmZmZE0DY//////8TQA==\",\"dtype\":\"float64\",\"shape\":[101]},\"y\":{\"__ndarray__\":\"kB2GzGaxBkCgzsR2wT79P2hNxDYz4eo/cnp+deTPvb8NflMfRILwv9VE477GWv6/aTwGPOCiBcDOsqQWMpMLwN0O/AgHeRDAQzvThK7aEsCuJNsGpuoUwNJDwJ8qphbAaeADi6ALGMB7Aq4TkBoZwBVb8NWe0xnAD/dIg4U4GsAdu0NZAkwawOOc1oTIERrA0G9htWyOGcDTwHwqT8cYwHRs5I6DwhfA4VvW+LaGFsCImyNtFBsVwDbc5EUohxPApjg64MLSEcBcd7P12gUQwM/74AvgUAzAqmp3Z9qECMBk8q/sGbcEwCWnBvh79gDA23JTVyai+r82dr7876fzv5uO1GB2LOq/s+7gH1wJ3L8ng7Jqleu3v33xqPe/Kcs/QxEb1EZ13j/6+zbUgkHmP3iReks+1Os/ROp0B+Tu7z9lBrUPKErxP9wxhIcB5/E/Lq0n5e/V8T+rIdY56SHxPwihIxVhse8/CH5bBigV7D90tq/sQ5TnP0FtT3+rV+I/1x353fYW2T+h5Oz623jJPwAAAAAAACQ9x9rs+tt4yb8jGfnd9hbZvxZrT3+rV+K/irSv7EOU579vfFsGKBXsv9GfIxVhse+/RyHWOekh8b8HrSfl79Xxv/cxhIcB5/G/xga1DyhK8b+V63QH5O7vv12Teks+1Ou/cP421IJB5r9QFxvURnXev7//qPe/Kcu/lWKyapXrtz+f5eAfXAncP6iJ1GB2LOo/j3O+/O+n8z8QcFNXJqL6P7GlBvh79gBA6fCv7Bm3BEAtaXdn2oQIQFb64AvgUAxApXaz9doFEED2NzrgwtIRQJHb5EUohxNA8pojbRQbFUBbW9b4toYWQANs5I6DwhdAecB8Kk/HGECPb2G1bI4ZQL6c1oTIERpAFrtDWQJMGkAn90iDhTgaQE1b8NWe0xlA1QKuE5AaGUDk4AOLoAsYQG9EwJ8qphZAbCXbBqbqFEAiPNOErtoSQNsP/AgHeRBABLWkFjKTC0DVPgY84KIFQBFK477GWv4/n4NTH0SC8D8w2H515M+9PzpBxDYz4eq/YcjEdsE+/b9kGobMZrEGwA==\",\"dtype\":\"float64\",\"shape\":[101]}},\"selected\":{\"id\":\"391e2062-e9e2-4d74-b624-aa86816aec00\",\"type\":\"Selection\"},\"selection_policy\":{\"id\":\"8527ec16-2032-4074-823d-bc6590e63472\",\"type\":\"UnionRenderers\"}},\"id\":\"49340d60-bbe0-4f75-9833-80c4b1180dbf\",\"type\":\"ColumnDataSource\"},{\"attributes\":{\"source\":{\"id\":\"892a355b-c0dd-4245-a51a-3d76de6c65dd\",\"type\":\"ColumnDataSource\"}},\"id\":\"3af2601c-fed3-4a05-a99e-ed3fbd9a307a\",\"type\":\"CDSView\"},{\"attributes\":{},\"id\":\"af82ea4d-a7ca-4c44-9018-420ac9d92765\",\"type\":\"BasicTickFormatter\"},{\"attributes\":{\"line_alpha\":0.1,\"line_color\":\"#1f77b4\",\"line_width\":3,\"x\":{\"field\":\"x\"},\"y\":{\"field\":\"y\"}},\"id\":\"7755ceca-7eec-4671-8a9e-05a6bf532a34\",\"type\":\"Line\"},{\"attributes\":{\"empty_value\":\"black\",\"renderers\":[{\"id\":\"cd4a57dc-4b9d-4d47-90fa-f58d90ce4643\",\"type\":\"GlyphRenderer\"}]},\"id\":\"6facb736-7967-43e6-9f33-0b538cf79e9e\",\"type\":\"PointDrawTool\"},{\"attributes\":{\"data_source\":{\"id\":\"49340d60-bbe0-4f75-9833-80c4b1180dbf\",\"type\":\"ColumnDataSource\"},\"glyph\":{\"id\":\"05b1a81b-52e5-4852-a9f3-6517e1e9f5a1\",\"type\":\"Line\"},\"hover_glyph\":null,\"muted_glyph\":null,\"nonselection_glyph\":{\"id\":\"7755ceca-7eec-4671-8a9e-05a6bf532a34\",\"type\":\"Line\"},\"selection_glyph\":null,\"view\":{\"id\":\"30075d98-3338-4b07-a576-8ef3e1e456bf\",\"type\":\"CDSView\"}},\"id\":\"ebc923b2-5026-45ec-ae5c-447b5bb50078\",\"type\":\"GlyphRenderer\"},{\"attributes\":{},\"id\":\"6537f609-2c63-48c3-a8d3-0b661ca6fee3\",\"type\":\"Selection\"},{\"attributes\":{\"below\":[{\"id\":\"d5aa25f2-06d8-4f0b-9d77-c68c94b6cad9\",\"type\":\"LinearAxis\"}],\"left\":[{\"id\":\"389fbf9b-49dc-4215-a8be-f9671683e9d3\",\"type\":\"LinearAxis\"}],\"plot_height\":400,\"plot_width\":700,\"renderers\":[{\"id\":\"d5aa25f2-06d8-4f0b-9d77-c68c94b6cad9\",\"type\":\"LinearAxis\"},{\"id\":\"45a0cd5d-0fd4-45f7-8c14-b172e7bfcde8\",\"type\":\"Grid\"},{\"id\":\"389fbf9b-49dc-4215-a8be-f9671683e9d3\",\"type\":\"LinearAxis\"},{\"id\":\"56096505-e57d-498d-a798-d0bf3c01b08f\",\"type\":\"Grid\"},{\"id\":\"d1e6f262-debb-40bc-bad2-77929b00eb57\",\"type\":\"Span\"},{\"id\":\"ebc923b2-5026-45ec-ae5c-447b5bb50078\",\"type\":\"GlyphRenderer\"},{\"id\":\"cd4a57dc-4b9d-4d47-90fa-f58d90ce4643\",\"type\":\"GlyphRenderer\"}],\"title\":{\"id\":\"424e9aa3-b777-4b96-a433-6a187e313775\",\"type\":\"Title\"},\"toolbar\":{\"id\":\"890254ae-f10c-459f-9420-e66c2c85e76d\",\"type\":\"Toolbar\"},\"toolbar_location\":\"above\",\"x_range\":{\"id\":\"dce932fb-6cf8-47a3-8b49-7f89147956c0\",\"type\":\"DataRange1d\"},\"x_scale\":{\"id\":\"4319f849-ddb7-41c1-b8ca-9ce156580992\",\"type\":\"LinearScale\"},\"y_range\":{\"id\":\"ac57a6c1-6d41-460a-a42e-4a8f98c8829c\",\"type\":\"DataRange1d\"},\"y_scale\":{\"id\":\"acb7246b-5a8a-42b8-9959-c43a9b9bede7\",\"type\":\"LinearScale\"}},\"id\":\"c781c9c4-6435-49b8-b63c-5997fa0e2402\",\"subtype\":\"Figure\",\"type\":\"Plot\"},{\"attributes\":{},\"id\":\"f5fb8ac8-26d7-454e-81ab-d98963c6bc5b\",\"type\":\"BasicTickFormatter\"},{\"attributes\":{},\"id\":\"9496aa46-7f99-41e6-a00c-3ca499384069\",\"type\":\"WheelZoomTool\"},{\"attributes\":{\"plot\":null,\"text\":\"Where are the maxima and minima? Draw them.\"},\"id\":\"424e9aa3-b777-4b96-a433-6a187e313775\",\"type\":\"Title\"},{\"attributes\":{},\"id\":\"16c251cf-b41c-449e-a34a-f68058179f21\",\"type\":\"ResetTool\"},{\"attributes\":{},\"id\":\"8527ec16-2032-4074-823d-bc6590e63472\",\"type\":\"UnionRenderers\"},{\"attributes\":{\"callback\":null,\"data\":{\"x\":[],\"y\":[]},\"selected\":{\"id\":\"6537f609-2c63-48c3-a8d3-0b661ca6fee3\",\"type\":\"Selection\"},\"selection_policy\":{\"id\":\"f4661ac6-aee9-464e-b28f-01e2f441903e\",\"type\":\"UnionRenderers\"}},\"id\":\"892a355b-c0dd-4245-a51a-3d76de6c65dd\",\"type\":\"ColumnDataSource\"},{\"attributes\":{},\"id\":\"acb7246b-5a8a-42b8-9959-c43a9b9bede7\",\"type\":\"LinearScale\"},{\"attributes\":{},\"id\":\"7fca1c96-d20b-4fa2-a620-56e928c1615c\",\"type\":\"BasicTicker\"},{\"attributes\":{},\"id\":\"26743dc0-0f45-496f-aeb5-8be86fc818d4\",\"type\":\"PanTool\"},{\"attributes\":{\"line_alpha\":0.5,\"line_color\":\"orange\",\"line_width\":3,\"x\":{\"field\":\"x\"},\"y\":{\"field\":\"y\"}},\"id\":\"05b1a81b-52e5-4852-a9f3-6517e1e9f5a1\",\"type\":\"Line\"},{\"attributes\":{\"fill_alpha\":{\"value\":0.1},\"fill_color\":{\"value\":\"#1f77b4\"},\"line_alpha\":{\"value\":0.1},\"line_color\":{\"value\":\"#1f77b4\"},\"size\":{\"units\":\"screen\",\"value\":10},\"x\":{\"field\":\"x\"},\"y\":{\"field\":\"y\"}},\"id\":\"b8449753-0ef9-42c0-aa2d-0d34ac4a3ec5\",\"type\":\"Circle\"},{\"attributes\":{\"line_color\":{\"value\":\"grey\"},\"location\":0,\"plot\":null},\"id\":\"d1e6f262-debb-40bc-bad2-77929b00eb57\",\"type\":\"Span\"},{\"attributes\":{\"fill_color\":{\"value\":\"black\"},\"size\":{\"units\":\"screen\",\"value\":10},\"x\":{\"field\":\"x\"},\"y\":{\"field\":\"y\"}},\"id\":\"0fde86cf-4b83-4ccc-82be-18f2b2e614b2\",\"type\":\"Circle\"},{\"attributes\":{},\"id\":\"f4661ac6-aee9-464e-b28f-01e2f441903e\",\"type\":\"UnionRenderers\"},{\"attributes\":{},\"id\":\"f8bd2d1c-3418-43a8-939f-01ce7b529f67\",\"type\":\"BasicTicker\"},{\"attributes\":{},\"id\":\"391e2062-e9e2-4d74-b624-aa86816aec00\",\"type\":\"Selection\"},{\"attributes\":{\"dimension\":1,\"plot\":{\"id\":\"c781c9c4-6435-49b8-b63c-5997fa0e2402\",\"subtype\":\"Figure\",\"type\":\"Plot\"},\"ticker\":{\"id\":\"f8bd2d1c-3418-43a8-939f-01ce7b529f67\",\"type\":\"BasicTicker\"}},\"id\":\"56096505-e57d-498d-a798-d0bf3c01b08f\",\"type\":\"Grid\"},{\"attributes\":{\"callback\":null},\"id\":\"dce932fb-6cf8-47a3-8b49-7f89147956c0\",\"type\":\"DataRange1d\"},{\"attributes\":{},\"id\":\"4319f849-ddb7-41c1-b8ca-9ce156580992\",\"type\":\"LinearScale\"},{\"attributes\":{\"callback\":null},\"id\":\"ac57a6c1-6d41-460a-a42e-4a8f98c8829c\",\"type\":\"DataRange1d\"},{\"attributes\":{\"active_drag\":\"auto\",\"active_inspect\":\"auto\",\"active_multi\":null,\"active_scroll\":\"auto\",\"active_tap\":{\"id\":\"6facb736-7967-43e6-9f33-0b538cf79e9e\",\"type\":\"PointDrawTool\"},\"tools\":[{\"id\":\"26743dc0-0f45-496f-aeb5-8be86fc818d4\",\"type\":\"PanTool\"},{\"id\":\"42d9697f-f890-4572-b01e-2aa6675c824a\",\"type\":\"HoverTool\"},{\"id\":\"9496aa46-7f99-41e6-a00c-3ca499384069\",\"type\":\"WheelZoomTool\"},{\"id\":\"16c251cf-b41c-449e-a34a-f68058179f21\",\"type\":\"ResetTool\"},{\"id\":\"6facb736-7967-43e6-9f33-0b538cf79e9e\",\"type\":\"PointDrawTool\"}]},\"id\":\"890254ae-f10c-459f-9420-e66c2c85e76d\",\"type\":\"Toolbar\"},{\"attributes\":{\"data_source\":{\"id\":\"892a355b-c0dd-4245-a51a-3d76de6c65dd\",\"type\":\"ColumnDataSource\"},\"glyph\":{\"id\":\"0fde86cf-4b83-4ccc-82be-18f2b2e614b2\",\"type\":\"Circle\"},\"hover_glyph\":null,\"muted_glyph\":null,\"nonselection_glyph\":{\"id\":\"b8449753-0ef9-42c0-aa2d-0d34ac4a3ec5\",\"type\":\"Circle\"},\"selection_glyph\":null,\"view\":{\"id\":\"3af2601c-fed3-4a05-a99e-ed3fbd9a307a\",\"type\":\"CDSView\"}},\"id\":\"cd4a57dc-4b9d-4d47-90fa-f58d90ce4643\",\"type\":\"GlyphRenderer\"},{\"attributes\":{\"axis_label\":\"f(x)\",\"formatter\":{\"id\":\"f5fb8ac8-26d7-454e-81ab-d98963c6bc5b\",\"type\":\"BasicTickFormatter\"},\"plot\":{\"id\":\"c781c9c4-6435-49b8-b63c-5997fa0e2402\",\"subtype\":\"Figure\",\"type\":\"Plot\"},\"ticker\":{\"id\":\"f8bd2d1c-3418-43a8-939f-01ce7b529f67\",\"type\":\"BasicTicker\"}},\"id\":\"389fbf9b-49dc-4215-a8be-f9671683e9d3\",\"type\":\"LinearAxis\"},{\"attributes\":{\"plot\":{\"id\":\"c781c9c4-6435-49b8-b63c-5997fa0e2402\",\"subtype\":\"Figure\",\"type\":\"Plot\"},\"ticker\":{\"id\":\"7fca1c96-d20b-4fa2-a620-56e928c1615c\",\"type\":\"BasicTicker\"}},\"id\":\"45a0cd5d-0fd4-45f7-8c14-b172e7bfcde8\",\"type\":\"Grid\"},{\"attributes\":{\"axis_label\":\"X\",\"formatter\":{\"id\":\"af82ea4d-a7ca-4c44-9018-420ac9d92765\",\"type\":\"BasicTickFormatter\"},\"plot\":{\"id\":\"c781c9c4-6435-49b8-b63c-5997fa0e2402\",\"subtype\":\"Figure\",\"type\":\"Plot\"},\"ticker\":{\"id\":\"7fca1c96-d20b-4fa2-a620-56e928c1615c\",\"type\":\"BasicTicker\"}},\"id\":\"d5aa25f2-06d8-4f0b-9d77-c68c94b6cad9\",\"type\":\"LinearAxis\"}],\"root_ids\":[\"c781c9c4-6435-49b8-b63c-5997fa0e2402\"]},\"title\":\"Bokeh Application\",\"version\":\"0.13.0\"}};\n",
       "  var render_items = [{\"docid\":\"a3f66118-3e96-4598-8282-7481e8397cf6\",\"roots\":{\"c781c9c4-6435-49b8-b63c-5997fa0e2402\":\"75773d6b-3341-43e9-bb70-0e0726cc888e\"}}];\n",
       "  root.Bokeh.embed.embed_items_notebook(docs_json, render_items);\n",
       "\n",
       "  }\n",
       "  if (root.Bokeh !== undefined) {\n",
       "    embed_document(root);\n",
       "  } else {\n",
       "    var attempts = 0;\n",
       "    var timer = setInterval(function(root) {\n",
       "      if (root.Bokeh !== undefined) {\n",
       "        embed_document(root);\n",
       "        clearInterval(timer);\n",
       "      }\n",
       "      attempts++;\n",
       "      if (attempts > 100) {\n",
       "        console.log(\"Bokeh: ERROR: Unable to run BokehJS code because BokehJS library is missing\")\n",
       "        clearInterval(timer);\n",
       "      }\n",
       "    }, 10, root)\n",
       "  }\n",
       "})(window);"
      ],
      "application/vnd.bokehjs_exec.v0+json": ""
     },
     "metadata": {
      "application/vnd.bokehjs_exec.v0+json": {
       "id": "c781c9c4-6435-49b8-b63c-5997fa0e2402"
      }
     },
     "output_type": "display_data"
    }
   ],
   "source": [
    "x = np.arange(-5,5.1,.1) # Define the Function Domain \n",
    "\n",
    "# Plot Maxima\n",
    "p = plot(w=700,h=400,title=\"Where are the maxima and minima? Draw them.\")\n",
    "p.line(x,h(x),line_width=3,alpha=.5,color=\"orange\")\n",
    "\n",
    "# Generate a drawing tool to locate the extrema\n",
    "p = draw(p)\n",
    "\n",
    "show(p)# Render plot"
   ]
  },
  {
   "cell_type": "markdown",
   "metadata": {},
   "source": [
    "\n",
    "#### Why do we care about these extreme points on a function?"
   ]
  },
  {
   "cell_type": "markdown",
   "metadata": {},
   "source": [
    "### Critical Points \n",
    "\n",
    "Something interesting emerges when we look at the first derivative of the function $h(x)$.\n",
    "\n",
    "$$h(x) =  -2x \\cos{x} $$\n",
    "\n",
    "$$h'(x) =  -2 \\cos(x) + 2x\\sin(x) $$"
   ]
  },
  {
   "cell_type": "code",
   "execution_count": 7,
   "metadata": {},
   "outputs": [],
   "source": [
    "def dh(x):\n",
    "    return -2*np.cos(x) + 2*x*np.sin(x)"
   ]
  },
  {
   "cell_type": "code",
   "execution_count": 9,
   "metadata": {},
   "outputs": [
    {
     "data": {
      "text/html": [
       "\n",
       "\n",
       "\n",
       "\n",
       "\n",
       "\n",
       "  <div class=\"bk-root\" id=\"de692cce-1244-47a8-84f2-b8296d4f44ed\"></div>\n"
      ]
     },
     "metadata": {},
     "output_type": "display_data"
    },
    {
     "data": {
      "application/javascript": [
       "(function(root) {\n",
       "  function embed_document(root) {\n",
       "    \n",
       "  var docs_json = {\"82d218ae-3a25-4d73-8256-b7c8b0e71b32\":{\"roots\":{\"references\":[{\"attributes\":{\"label\":{\"value\":\"h'(x)\"},\"renderers\":[{\"id\":\"ff5e7eb2-4c69-4c64-a435-6b3ea8071dfd\",\"type\":\"GlyphRenderer\"}]},\"id\":\"6a73da65-a3c4-446b-9945-f12777908452\",\"type\":\"LegendItem\"},{\"attributes\":{\"callback\":null,\"data\":{\"x\":{\"__ndarray__\":\"AAAAAAAAFMCamZmZmZkTwDQzMzMzMxPAzszMzMzMEsBoZmZmZmYSwAIAAAAAABLAnJmZmZmZEcA2MzMzMzMRwNDMzMzMzBDAamZmZmZmEMAEAAAAAAAQwDwzMzMzMw/AcGZmZmZmDsCkmZmZmZkNwNjMzMzMzAzADAAAAAAADMBAMzMzMzMLwHRmZmZmZgrAqJmZmZmZCcDczMzMzMwIwBAAAAAAAAjARDMzMzMzB8B4ZmZmZmYGwKyZmZmZmQXA4MzMzMzMBMAUAAAAAAAEwEgzMzMzMwPAfGZmZmZmAsCwmZmZmZkBwOTMzMzMzADAGAAAAAAAAMCYZmZmZmb+vwDNzMzMzPy/aDMzMzMz+7/QmZmZmZn5vzgAAAAAAPi/oGZmZmZm9r8IzczMzMz0v3AzMzMzM/O/2JmZmZmZ8b9AAAAAAADwv1DNzMzMzOy/IJqZmZmZ6b/wZmZmZmbmv8AzMzMzM+O/kAAAAAAA4L/AmpmZmZnZv2A0MzMzM9O/AJyZmZmZyb+AnpmZmZm5vwAAAAAAABS9gJSZmZmZuT8Al5mZmZnJP+AxMzMzM9M/QJiZmZmZ2T+g/v/////fP4AyMzMzM+M/sGVmZmZm5j/gmJmZmZnpPxDMzMzMzOw/QP//////7z84mZmZmZnxP9AyMzMzM/M/aMzMzMzM9D8AZmZmZmb2P5j///////c/MJmZmZmZ+T/IMjMzMzP7P2DMzMzMzPw/+GVmZmZm/j+Q////////P5TMzMzMzABAYJmZmZmZAUAsZmZmZmYCQPgyMzMzMwNAxP//////A0CQzMzMzMwEQFyZmZmZmQVAKGZmZmZmBkD0MjMzMzMHQMD//////wdAjMzMzMzMCEBYmZmZmZkJQCRmZmZmZgpA8DIzMzMzC0C8//////8LQIjMzMzMzAxAVJmZmZmZDUAgZmZmZmYOQOwyMzMzMw9AuP//////D0BCZmZmZmYQQKjMzMzMzBBADjMzMzMzEUB0mZmZmZkRQNr//////xFAQGZmZmZmEkCmzMzMzMwSQAwzMzMzMxNAcpmZmZmZE0DY//////8TQA==\",\"dtype\":\"float64\",\"shape\":[101]},\"y\":{\"__ndarray__\":\"bhSzkClQJMA7RDH7igAkwJzEm37yeSPAC5k1or6/IsCFm6iB1tUhwGNSHZiawCDA84cMragJH8DGRuV4SU8cwJZUPFrkXBnAGxxBeKs9FsCfVSVcEP0SwKJt46Y7TQ/AcTMHV6SLCMDxksl39MsBwNvneMU2SPa/LCQKNGik4r/IDZkAzhPJP8rabCQA4u0/8sHxo8n3+T/iDVKkbgwCQJWCZ4gXnQZAAGXlofGiCkC22NM6QRUOQGGsco/HdhBAWfoukdmTEUB9QYNk62ASQOh+Zg043hJAEidFZhoNE0B07sz9AvASQLldG2lqihJAe0hTQMDgEUDMluwFV/gQQHbPDoWarg9AiVwWT+gIDUAtspUkaA4KQAPzZJ/ezgZAuswtC8daA0Cm6DeqKIb/Pxqrzt7hMfg/hAqbA/3a8D/+Dqj+WEbjPzizcZSrWMU/gMKMe0Bxz79gSBBFxRbkvyiZ/SijI++/C7tI6W1p9L/TwJ8fSX34v+IGU5fYu/u/lheBoDQX/r9ui+ljSoX/vwAAAAAAAADAzovpY0qF/79TGIGgNBf+v/oHU5fYu/u/QsKfH0l9+L/KvEjpbWn0vzid/SijI++/70wQRcUW5L9o1ox7QHHPv/idcZSrWMU/bAmo/lhG4z+qB5sD/drwPzyozt7hMfg/zuU3qiiG/z9Yyy0Lx1oDQLPxZJ/ezgZA9bCVJGgOCkBvWxZP6AgNQIDODoWarg9AZZbsBVf4EEAsSFNAwOARQIRdG2lqihJAWu7M/QLwEkAWJ0VmGg0TQAp/Zg043hJAvkGDZOtgEkC4+i6R2ZMRQOCsco/HdhBA8tnTOkEVDkB2ZuWh8aIKQEOEZ4gXnQZAxQ9SpG4MAkAWxvGjyff5P7rjbCQA4u0/yDOZAM4TyT88Ggo0aKTiv7fieMU2SPa/UJDJd/TLAcDLMAdXpIsIwAJr46Y7TQ/AVVQlXBD9EsDcGkF4qz0WwGVTPFrkXBnAqkXleElPHMDuhgytqAkfwO9RHZiawCDAIJuogdbVIcC4mDWivr8iwF3Em37yeSPAEUQx+4oAJMBZFLOQKVAkwA==\",\"dtype\":\"float64\",\"shape\":[101]}},\"selected\":{\"id\":\"3e2f7c63-c2bd-458e-80fe-5ebf53c96b5e\",\"type\":\"Selection\"},\"selection_policy\":{\"id\":\"82338139-5163-4772-b588-22c4cdef73bb\",\"type\":\"UnionRenderers\"}},\"id\":\"f74ec8ab-8868-49d0-a7be-bededd18377b\",\"type\":\"ColumnDataSource\"},{\"attributes\":{\"data_source\":{\"id\":\"f74ec8ab-8868-49d0-a7be-bededd18377b\",\"type\":\"ColumnDataSource\"},\"glyph\":{\"id\":\"788c3fac-f4ab-4c1c-b1fe-d636924039f3\",\"type\":\"Line\"},\"hover_glyph\":null,\"muted_glyph\":null,\"nonselection_glyph\":{\"id\":\"edb2a7bd-344e-40f3-b1fe-dbb3f2f3d0ba\",\"type\":\"Line\"},\"selection_glyph\":null,\"view\":{\"id\":\"df7d6780-790b-4142-9542-f5a6f60a620d\",\"type\":\"CDSView\"}},\"id\":\"ff5e7eb2-4c69-4c64-a435-6b3ea8071dfd\",\"type\":\"GlyphRenderer\"},{\"attributes\":{\"plot\":{\"id\":\"dff1dd3c-0432-4ac9-a77c-35b1eb13d1ab\",\"subtype\":\"Figure\",\"type\":\"Plot\"},\"ticker\":{\"id\":\"f2e61288-50ac-4fd8-a818-08610f20d32f\",\"type\":\"BasicTicker\"}},\"id\":\"00fa3b75-dd88-4eab-ab47-b793192f6074\",\"type\":\"Grid\"},{\"attributes\":{\"data_source\":{\"id\":\"ced8cd9b-ae41-46ad-a03e-a5ff967ae1f2\",\"type\":\"ColumnDataSource\"},\"glyph\":{\"id\":\"8f64f5ef-d6b4-4b94-a991-7f31ad228618\",\"type\":\"Circle\"},\"hover_glyph\":null,\"muted_glyph\":null,\"nonselection_glyph\":{\"id\":\"eeb163a8-aa9d-4485-8539-82d4e8fb6455\",\"type\":\"Circle\"},\"selection_glyph\":null,\"view\":{\"id\":\"3f57bfbb-8bc8-4718-9535-0da5a098433e\",\"type\":\"CDSView\"}},\"id\":\"7ba8d82c-603a-4aee-bfd8-f476adccca8c\",\"type\":\"GlyphRenderer\"},{\"attributes\":{\"source\":{\"id\":\"4844fe34-fd97-49a4-b218-6d5804b0e3c3\",\"type\":\"ColumnDataSource\"}},\"id\":\"cd95457a-118f-4fa1-bf53-7969bbe226ac\",\"type\":\"CDSView\"},{\"attributes\":{\"source\":{\"id\":\"f74ec8ab-8868-49d0-a7be-bededd18377b\",\"type\":\"ColumnDataSource\"}},\"id\":\"df7d6780-790b-4142-9542-f5a6f60a620d\",\"type\":\"CDSView\"},{\"attributes\":{\"callback\":null,\"renderers\":\"auto\",\"tooltips\":[[\"out\",\"$y\"],[\"x\",\"$x\"]]},\"id\":\"499d8102-6218-443e-82b8-c0a6c7b92324\",\"type\":\"HoverTool\"},{\"attributes\":{\"dimension\":1,\"plot\":{\"id\":\"dff1dd3c-0432-4ac9-a77c-35b1eb13d1ab\",\"subtype\":\"Figure\",\"type\":\"Plot\"},\"ticker\":{\"id\":\"1d4cbd75-41ab-44b6-8960-45605e9f7e11\",\"type\":\"BasicTicker\"}},\"id\":\"175470e0-7c6b-4943-9450-d12eab698a2c\",\"type\":\"Grid\"},{\"attributes\":{},\"id\":\"7a4a762c-58e7-4f8a-874d-1e9ec7c0bb45\",\"type\":\"WheelZoomTool\"},{\"attributes\":{\"fill_color\":{\"value\":\"black\"},\"size\":{\"units\":\"screen\",\"value\":10},\"x\":{\"field\":\"x\"},\"y\":{\"field\":\"y\"}},\"id\":\"8f64f5ef-d6b4-4b94-a991-7f31ad228618\",\"type\":\"Circle\"},{\"attributes\":{},\"id\":\"1d4cbd75-41ab-44b6-8960-45605e9f7e11\",\"type\":\"BasicTicker\"},{\"attributes\":{\"fill_alpha\":{\"value\":0.1},\"fill_color\":{\"value\":\"#1f77b4\"},\"line_alpha\":{\"value\":0.1},\"line_color\":{\"value\":\"#1f77b4\"},\"size\":{\"units\":\"screen\",\"value\":10},\"x\":{\"field\":\"x\"},\"y\":{\"field\":\"y\"}},\"id\":\"eeb163a8-aa9d-4485-8539-82d4e8fb6455\",\"type\":\"Circle\"},{\"attributes\":{\"callback\":null},\"id\":\"842fb34f-eedc-4dd8-a51b-7adb25150a46\",\"type\":\"DataRange1d\"},{\"attributes\":{\"line_alpha\":0.5,\"line_color\":\"orange\",\"line_width\":3,\"x\":{\"field\":\"x\"},\"y\":{\"field\":\"y\"}},\"id\":\"1528e3b0-ad1b-42c4-94d2-f18ea9997fff\",\"type\":\"Line\"},{\"attributes\":{\"source\":{\"id\":\"ced8cd9b-ae41-46ad-a03e-a5ff967ae1f2\",\"type\":\"ColumnDataSource\"}},\"id\":\"3f57bfbb-8bc8-4718-9535-0da5a098433e\",\"type\":\"CDSView\"},{\"attributes\":{\"data_source\":{\"id\":\"4844fe34-fd97-49a4-b218-6d5804b0e3c3\",\"type\":\"ColumnDataSource\"},\"glyph\":{\"id\":\"1528e3b0-ad1b-42c4-94d2-f18ea9997fff\",\"type\":\"Line\"},\"hover_glyph\":null,\"muted_glyph\":null,\"nonselection_glyph\":{\"id\":\"77ab01bb-1612-49ad-ae3d-91e54fda7fc9\",\"type\":\"Line\"},\"selection_glyph\":null,\"view\":{\"id\":\"cd95457a-118f-4fa1-bf53-7969bbe226ac\",\"type\":\"CDSView\"}},\"id\":\"a204bc9c-4a31-4cd0-a741-676b4ed70fb4\",\"type\":\"GlyphRenderer\"},{\"attributes\":{\"label\":{\"value\":\"h(x)\"},\"renderers\":[{\"id\":\"a204bc9c-4a31-4cd0-a741-676b4ed70fb4\",\"type\":\"GlyphRenderer\"}]},\"id\":\"2f76f088-0793-472e-85f7-593a97330935\",\"type\":\"LegendItem\"},{\"attributes\":{\"empty_value\":\"black\",\"renderers\":[{\"id\":\"7ba8d82c-603a-4aee-bfd8-f476adccca8c\",\"type\":\"GlyphRenderer\"}]},\"id\":\"2f41926c-7f23-4028-8c65-27ec3a58d13b\",\"type\":\"PointDrawTool\"},{\"attributes\":{},\"id\":\"eb685d9d-d5ef-4305-b1c1-dff93fe3ee1e\",\"type\":\"LinearScale\"},{\"attributes\":{},\"id\":\"3e2f7c63-c2bd-458e-80fe-5ebf53c96b5e\",\"type\":\"Selection\"},{\"attributes\":{\"line_alpha\":0.1,\"line_color\":\"#1f77b4\",\"line_width\":3,\"x\":{\"field\":\"x\"},\"y\":{\"field\":\"y\"}},\"id\":\"77ab01bb-1612-49ad-ae3d-91e54fda7fc9\",\"type\":\"Line\"},{\"attributes\":{},\"id\":\"82338139-5163-4772-b588-22c4cdef73bb\",\"type\":\"UnionRenderers\"},{\"attributes\":{\"line_alpha\":0.4,\"line_color\":\"steelblue\",\"line_width\":3,\"x\":{\"field\":\"x\"},\"y\":{\"field\":\"y\"}},\"id\":\"788c3fac-f4ab-4c1c-b1fe-d636924039f3\",\"type\":\"Line\"},{\"attributes\":{},\"id\":\"e1dc8bef-3e20-4f5f-b1cb-4f7537d78dd9\",\"type\":\"Selection\"},{\"attributes\":{\"items\":[{\"id\":\"2f76f088-0793-472e-85f7-593a97330935\",\"type\":\"LegendItem\"},{\"id\":\"6a73da65-a3c4-446b-9945-f12777908452\",\"type\":\"LegendItem\"}],\"plot\":{\"id\":\"dff1dd3c-0432-4ac9-a77c-35b1eb13d1ab\",\"subtype\":\"Figure\",\"type\":\"Plot\"}},\"id\":\"13f31e89-f0dd-43fe-808c-f72720747db8\",\"type\":\"Legend\"},{\"attributes\":{},\"id\":\"63a3be4a-4d62-4883-975f-2bb38105e515\",\"type\":\"UnionRenderers\"},{\"attributes\":{\"callback\":null,\"data\":{\"x\":[],\"y\":[]},\"selected\":{\"id\":\"e1dc8bef-3e20-4f5f-b1cb-4f7537d78dd9\",\"type\":\"Selection\"},\"selection_policy\":{\"id\":\"63a3be4a-4d62-4883-975f-2bb38105e515\",\"type\":\"UnionRenderers\"}},\"id\":\"ced8cd9b-ae41-46ad-a03e-a5ff967ae1f2\",\"type\":\"ColumnDataSource\"},{\"attributes\":{},\"id\":\"d1d75ee9-0b1d-44c4-851d-0b9da89b0587\",\"type\":\"LinearScale\"},{\"attributes\":{},\"id\":\"c9bb41fd-cf96-42e5-9644-563b738344cb\",\"type\":\"PanTool\"},{\"attributes\":{},\"id\":\"f2e61288-50ac-4fd8-a818-08610f20d32f\",\"type\":\"BasicTicker\"},{\"attributes\":{\"axis_label\":\"f(x)\",\"formatter\":{\"id\":\"d16f8b23-7631-475d-b135-3bdabd6cffdf\",\"type\":\"BasicTickFormatter\"},\"plot\":{\"id\":\"dff1dd3c-0432-4ac9-a77c-35b1eb13d1ab\",\"subtype\":\"Figure\",\"type\":\"Plot\"},\"ticker\":{\"id\":\"1d4cbd75-41ab-44b6-8960-45605e9f7e11\",\"type\":\"BasicTicker\"}},\"id\":\"7856db15-e735-42e9-9ee8-4d15ff699a7b\",\"type\":\"LinearAxis\"},{\"attributes\":{\"active_drag\":\"auto\",\"active_inspect\":\"auto\",\"active_multi\":null,\"active_scroll\":\"auto\",\"active_tap\":{\"id\":\"2f41926c-7f23-4028-8c65-27ec3a58d13b\",\"type\":\"PointDrawTool\"},\"tools\":[{\"id\":\"c9bb41fd-cf96-42e5-9644-563b738344cb\",\"type\":\"PanTool\"},{\"id\":\"499d8102-6218-443e-82b8-c0a6c7b92324\",\"type\":\"HoverTool\"},{\"id\":\"7a4a762c-58e7-4f8a-874d-1e9ec7c0bb45\",\"type\":\"WheelZoomTool\"},{\"id\":\"e63fc850-ec8b-471a-935e-8390498e0ea4\",\"type\":\"ResetTool\"},{\"id\":\"2f41926c-7f23-4028-8c65-27ec3a58d13b\",\"type\":\"PointDrawTool\"}]},\"id\":\"8123e03c-6453-4b25-b21a-0d351b6703e5\",\"type\":\"Toolbar\"},{\"attributes\":{},\"id\":\"e63fc850-ec8b-471a-935e-8390498e0ea4\",\"type\":\"ResetTool\"},{\"attributes\":{\"callback\":null},\"id\":\"1837c9d2-2571-45cb-a1c0-7c2abda3b969\",\"type\":\"DataRange1d\"},{\"attributes\":{},\"id\":\"c5ba5c75-7dc0-4516-931d-6df5de70bbcc\",\"type\":\"BasicTickFormatter\"},{\"attributes\":{\"line_alpha\":0.1,\"line_color\":\"#1f77b4\",\"line_width\":3,\"x\":{\"field\":\"x\"},\"y\":{\"field\":\"y\"}},\"id\":\"edb2a7bd-344e-40f3-b1fe-dbb3f2f3d0ba\",\"type\":\"Line\"},{\"attributes\":{\"axis_label\":\"X\",\"formatter\":{\"id\":\"c5ba5c75-7dc0-4516-931d-6df5de70bbcc\",\"type\":\"BasicTickFormatter\"},\"plot\":{\"id\":\"dff1dd3c-0432-4ac9-a77c-35b1eb13d1ab\",\"subtype\":\"Figure\",\"type\":\"Plot\"},\"ticker\":{\"id\":\"f2e61288-50ac-4fd8-a818-08610f20d32f\",\"type\":\"BasicTicker\"}},\"id\":\"38213447-4719-4a7d-be80-87276034b249\",\"type\":\"LinearAxis\"},{\"attributes\":{},\"id\":\"7660b667-bb83-47a4-8aca-396e93ea1fc4\",\"type\":\"Selection\"},{\"attributes\":{\"plot\":null,\"text\":\"h(x) and h'(x) for x in [-5,5]\"},\"id\":\"331a0f31-d79e-46ff-81d2-e91d8fead453\",\"type\":\"Title\"},{\"attributes\":{\"line_color\":{\"value\":\"grey\"},\"location\":0,\"plot\":null},\"id\":\"6b21032e-a033-4d70-94ed-a0a165df14de\",\"type\":\"Span\"},{\"attributes\":{\"callback\":null,\"data\":{\"x\":{\"__ndarray__\":\"AAAAAAAAFMCamZmZmZkTwDQzMzMzMxPAzszMzMzMEsBoZmZmZmYSwAIAAAAAABLAnJmZmZmZEcA2MzMzMzMRwNDMzMzMzBDAamZmZmZmEMAEAAAAAAAQwDwzMzMzMw/AcGZmZmZmDsCkmZmZmZkNwNjMzMzMzAzADAAAAAAADMBAMzMzMzMLwHRmZmZmZgrAqJmZmZmZCcDczMzMzMwIwBAAAAAAAAjARDMzMzMzB8B4ZmZmZmYGwKyZmZmZmQXA4MzMzMzMBMAUAAAAAAAEwEgzMzMzMwPAfGZmZmZmAsCwmZmZmZkBwOTMzMzMzADAGAAAAAAAAMCYZmZmZmb+vwDNzMzMzPy/aDMzMzMz+7/QmZmZmZn5vzgAAAAAAPi/oGZmZmZm9r8IzczMzMz0v3AzMzMzM/O/2JmZmZmZ8b9AAAAAAADwv1DNzMzMzOy/IJqZmZmZ6b/wZmZmZmbmv8AzMzMzM+O/kAAAAAAA4L/AmpmZmZnZv2A0MzMzM9O/AJyZmZmZyb+AnpmZmZm5vwAAAAAAABS9gJSZmZmZuT8Al5mZmZnJP+AxMzMzM9M/QJiZmZmZ2T+g/v/////fP4AyMzMzM+M/sGVmZmZm5j/gmJmZmZnpPxDMzMzMzOw/QP//////7z84mZmZmZnxP9AyMzMzM/M/aMzMzMzM9D8AZmZmZmb2P5j///////c/MJmZmZmZ+T/IMjMzMzP7P2DMzMzMzPw/+GVmZmZm/j+Q////////P5TMzMzMzABAYJmZmZmZAUAsZmZmZmYCQPgyMzMzMwNAxP//////A0CQzMzMzMwEQFyZmZmZmQVAKGZmZmZmBkD0MjMzMzMHQMD//////wdAjMzMzMzMCEBYmZmZmZkJQCRmZmZmZgpA8DIzMzMzC0C8//////8LQIjMzMzMzAxAVJmZmZmZDUAgZmZmZmYOQOwyMzMzMw9AuP//////D0BCZmZmZmYQQKjMzMzMzBBADjMzMzMzEUB0mZmZmZkRQNr//////xFAQGZmZmZmEkCmzMzMzMwSQAwzMzMzMxNAcpmZmZmZE0DY//////8TQA==\",\"dtype\":\"float64\",\"shape\":[101]},\"y\":{\"__ndarray__\":\"kB2GzGaxBkCgzsR2wT79P2hNxDYz4eo/cnp+deTPvb8NflMfRILwv9VE477GWv6/aTwGPOCiBcDOsqQWMpMLwN0O/AgHeRDAQzvThK7aEsCuJNsGpuoUwNJDwJ8qphbAaeADi6ALGMB7Aq4TkBoZwBVb8NWe0xnAD/dIg4U4GsAdu0NZAkwawOOc1oTIERrA0G9htWyOGcDTwHwqT8cYwHRs5I6DwhfA4VvW+LaGFsCImyNtFBsVwDbc5EUohxPApjg64MLSEcBcd7P12gUQwM/74AvgUAzAqmp3Z9qECMBk8q/sGbcEwCWnBvh79gDA23JTVyai+r82dr7876fzv5uO1GB2LOq/s+7gH1wJ3L8ng7Jqleu3v33xqPe/Kcs/QxEb1EZ13j/6+zbUgkHmP3iReks+1Os/ROp0B+Tu7z9lBrUPKErxP9wxhIcB5/E/Lq0n5e/V8T+rIdY56SHxPwihIxVhse8/CH5bBigV7D90tq/sQ5TnP0FtT3+rV+I/1x353fYW2T+h5Oz623jJPwAAAAAAACQ9x9rs+tt4yb8jGfnd9hbZvxZrT3+rV+K/irSv7EOU579vfFsGKBXsv9GfIxVhse+/RyHWOekh8b8HrSfl79Xxv/cxhIcB5/G/xga1DyhK8b+V63QH5O7vv12Teks+1Ou/cP421IJB5r9QFxvURnXev7//qPe/Kcu/lWKyapXrtz+f5eAfXAncP6iJ1GB2LOo/j3O+/O+n8z8QcFNXJqL6P7GlBvh79gBA6fCv7Bm3BEAtaXdn2oQIQFb64AvgUAxApXaz9doFEED2NzrgwtIRQJHb5EUohxNA8pojbRQbFUBbW9b4toYWQANs5I6DwhdAecB8Kk/HGECPb2G1bI4ZQL6c1oTIERpAFrtDWQJMGkAn90iDhTgaQE1b8NWe0xlA1QKuE5AaGUDk4AOLoAsYQG9EwJ8qphZAbCXbBqbqFEAiPNOErtoSQNsP/AgHeRBABLWkFjKTC0DVPgY84KIFQBFK477GWv4/n4NTH0SC8D8w2H515M+9PzpBxDYz4eq/YcjEdsE+/b9kGobMZrEGwA==\",\"dtype\":\"float64\",\"shape\":[101]}},\"selected\":{\"id\":\"7660b667-bb83-47a4-8aca-396e93ea1fc4\",\"type\":\"Selection\"},\"selection_policy\":{\"id\":\"0dd33bdd-7679-431c-884d-9d33a297f5f7\",\"type\":\"UnionRenderers\"}},\"id\":\"4844fe34-fd97-49a4-b218-6d5804b0e3c3\",\"type\":\"ColumnDataSource\"},{\"attributes\":{\"below\":[{\"id\":\"38213447-4719-4a7d-be80-87276034b249\",\"type\":\"LinearAxis\"}],\"left\":[{\"id\":\"7856db15-e735-42e9-9ee8-4d15ff699a7b\",\"type\":\"LinearAxis\"}],\"plot_height\":400,\"plot_width\":700,\"renderers\":[{\"id\":\"38213447-4719-4a7d-be80-87276034b249\",\"type\":\"LinearAxis\"},{\"id\":\"00fa3b75-dd88-4eab-ab47-b793192f6074\",\"type\":\"Grid\"},{\"id\":\"7856db15-e735-42e9-9ee8-4d15ff699a7b\",\"type\":\"LinearAxis\"},{\"id\":\"175470e0-7c6b-4943-9450-d12eab698a2c\",\"type\":\"Grid\"},{\"id\":\"6b21032e-a033-4d70-94ed-a0a165df14de\",\"type\":\"Span\"},{\"id\":\"13f31e89-f0dd-43fe-808c-f72720747db8\",\"type\":\"Legend\"},{\"id\":\"a204bc9c-4a31-4cd0-a741-676b4ed70fb4\",\"type\":\"GlyphRenderer\"},{\"id\":\"ff5e7eb2-4c69-4c64-a435-6b3ea8071dfd\",\"type\":\"GlyphRenderer\"},{\"id\":\"7ba8d82c-603a-4aee-bfd8-f476adccca8c\",\"type\":\"GlyphRenderer\"}],\"title\":{\"id\":\"331a0f31-d79e-46ff-81d2-e91d8fead453\",\"type\":\"Title\"},\"toolbar\":{\"id\":\"8123e03c-6453-4b25-b21a-0d351b6703e5\",\"type\":\"Toolbar\"},\"toolbar_location\":\"above\",\"x_range\":{\"id\":\"842fb34f-eedc-4dd8-a51b-7adb25150a46\",\"type\":\"DataRange1d\"},\"x_scale\":{\"id\":\"eb685d9d-d5ef-4305-b1c1-dff93fe3ee1e\",\"type\":\"LinearScale\"},\"y_range\":{\"id\":\"1837c9d2-2571-45cb-a1c0-7c2abda3b969\",\"type\":\"DataRange1d\"},\"y_scale\":{\"id\":\"d1d75ee9-0b1d-44c4-851d-0b9da89b0587\",\"type\":\"LinearScale\"}},\"id\":\"dff1dd3c-0432-4ac9-a77c-35b1eb13d1ab\",\"subtype\":\"Figure\",\"type\":\"Plot\"},{\"attributes\":{},\"id\":\"d16f8b23-7631-475d-b135-3bdabd6cffdf\",\"type\":\"BasicTickFormatter\"},{\"attributes\":{},\"id\":\"0dd33bdd-7679-431c-884d-9d33a297f5f7\",\"type\":\"UnionRenderers\"}],\"root_ids\":[\"dff1dd3c-0432-4ac9-a77c-35b1eb13d1ab\"]},\"title\":\"Bokeh Application\",\"version\":\"0.13.0\"}};\n",
       "  var render_items = [{\"docid\":\"82d218ae-3a25-4d73-8256-b7c8b0e71b32\",\"roots\":{\"dff1dd3c-0432-4ac9-a77c-35b1eb13d1ab\":\"de692cce-1244-47a8-84f2-b8296d4f44ed\"}}];\n",
       "  root.Bokeh.embed.embed_items_notebook(docs_json, render_items);\n",
       "\n",
       "  }\n",
       "  if (root.Bokeh !== undefined) {\n",
       "    embed_document(root);\n",
       "  } else {\n",
       "    var attempts = 0;\n",
       "    var timer = setInterval(function(root) {\n",
       "      if (root.Bokeh !== undefined) {\n",
       "        embed_document(root);\n",
       "        clearInterval(timer);\n",
       "      }\n",
       "      attempts++;\n",
       "      if (attempts > 100) {\n",
       "        console.log(\"Bokeh: ERROR: Unable to run BokehJS code because BokehJS library is missing\")\n",
       "        clearInterval(timer);\n",
       "      }\n",
       "    }, 10, root)\n",
       "  }\n",
       "})(window);"
      ],
      "application/vnd.bokehjs_exec.v0+json": ""
     },
     "metadata": {
      "application/vnd.bokehjs_exec.v0+json": {
       "id": "dff1dd3c-0432-4ac9-a77c-35b1eb13d1ab"
      }
     },
     "output_type": "display_data"
    }
   ],
   "source": [
    "p = plot(w=700,h=400,title=\"h(x) and h'(x) for x in [-5,5]\")\n",
    "\n",
    "# Plot function\n",
    "p.line(x,h(x),line_width=3,alpha=.5,color=\"orange\",legend=\"h(x)\")\n",
    "p.line(x,dh(x),line_width=3,alpha=.4,color=\"steelblue\",legend=\"h'(x)\")\n",
    "p = draw(p)\n",
    "    \n",
    "show(p) # render function"
   ]
  },
  {
   "cell_type": "markdown",
   "metadata": {},
   "source": [
    "A **critical point** is any $x^* \\in [a,b]$ such that either $f'(x^*) = 0$ or $f'(x^*)$ is undefined. These are the points on the function where \"things happen\": the function either blows up, jumps (discontinuity), or is stationary. \n",
    "\n",
    "**Stationary points** occur when $f'(x^*) = 0$: at these points in the function, there is no change in the function. We are interested in critical points because local extrema occur at these points. \n",
    "\n",
    "**Extrema** of a function correspond with its maximum and minimum values within some specified domain. This can be thought of as \"the peaks and the valleys\" of the function. The first derivative of a function tells use the slope of the tangent line. As we see above, when function reaches a maximum/minimum, slope of the tangent line goes to zero. The first derivative carries information about the potential location of the maxima and minima within a specified domain: the extrema will always be a point where the first derivative crosses the x-axis. "
   ]
  },
  {
   "cell_type": "code",
   "execution_count": 12,
   "metadata": {},
   "outputs": [
    {
     "data": {
      "text/html": [
       "\n",
       "\n",
       "\n",
       "\n",
       "\n",
       "\n",
       "  <div class=\"bk-root\" id=\"ba6ca78e-b6a2-4e06-acf4-230c3905e442\"></div>\n"
      ]
     },
     "metadata": {},
     "output_type": "display_data"
    },
    {
     "data": {
      "application/javascript": [
       "(function(root) {\n",
       "  function embed_document(root) {\n",
       "    \n",
       "  var docs_json = {\"24ed0880-4f30-403e-a736-eacec33489ab\":{\"roots\":{\"references\":[{\"attributes\":{},\"id\":\"b87f4b51-48da-4bd5-8476-9150d3c24d68\",\"type\":\"LinearScale\"},{\"attributes\":{\"items\":[{\"id\":\"2d81dab3-2a83-4587-8736-c1b46261f20d\",\"type\":\"LegendItem\"},{\"id\":\"dcd81259-1749-4385-8cc3-fc5d0221b8a8\",\"type\":\"LegendItem\"}],\"plot\":{\"id\":\"b3ff70e8-2a12-4d7b-b0f7-ff53f46d3db7\",\"subtype\":\"Figure\",\"type\":\"Plot\"}},\"id\":\"574e5650-c39d-41df-a33a-f33ac82007f6\",\"type\":\"Legend\"},{\"attributes\":{\"line_alpha\":0.3,\"line_color\":\"#1f77b4\",\"line_width\":3,\"x\":{\"field\":\"x\"},\"y\":{\"field\":\"y\"}},\"id\":\"8234c4cc-2c0c-4c3a-899e-1af0fc081996\",\"type\":\"Line\"},{\"attributes\":{\"label\":{\"value\":\"g(x)\"},\"renderers\":[{\"id\":\"3a716062-b5d7-4742-b881-297c4b756536\",\"type\":\"GlyphRenderer\"}]},\"id\":\"2d81dab3-2a83-4587-8736-c1b46261f20d\",\"type\":\"LegendItem\"},{\"attributes\":{\"callback\":null,\"data\":{\"x\":[0],\"y\":[0]},\"selected\":{\"id\":\"f9d26e97-b078-4fa1-afde-ab18843a283a\",\"type\":\"Selection\"},\"selection_policy\":{\"id\":\"99df337e-dd35-45e6-8bbc-c4a0ba66219d\",\"type\":\"UnionRenderers\"}},\"id\":\"3886b667-2228-4d63-a4cc-9d91d9122073\",\"type\":\"ColumnDataSource\"},{\"attributes\":{\"line_alpha\":0.3,\"line_color\":\"green\",\"line_width\":3,\"x\":{\"field\":\"x\"},\"y\":{\"field\":\"y\"}},\"id\":\"d8ae74e2-9ccc-401c-8cd4-68dfbed5935a\",\"type\":\"Line\"},{\"attributes\":{\"line_alpha\":0.1,\"line_color\":\"#1f77b4\",\"line_width\":3,\"x\":{\"field\":\"x\"},\"y\":{\"field\":\"y\"}},\"id\":\"92d23ef5-54ab-40a2-8dc5-fa87f66b6675\",\"type\":\"Line\"},{\"attributes\":{\"data_source\":{\"id\":\"7222414f-47ff-4885-b747-2507a8f6e73f\",\"type\":\"ColumnDataSource\"},\"glyph\":{\"id\":\"d8ae74e2-9ccc-401c-8cd4-68dfbed5935a\",\"type\":\"Line\"},\"hover_glyph\":null,\"muted_glyph\":null,\"nonselection_glyph\":{\"id\":\"92d23ef5-54ab-40a2-8dc5-fa87f66b6675\",\"type\":\"Line\"},\"selection_glyph\":null,\"view\":{\"id\":\"86fc5bf7-b296-4209-920a-b1f54431b1b3\",\"type\":\"CDSView\"}},\"id\":\"4d4aaf13-b61c-4358-8a0a-e9d6de1a7b12\",\"type\":\"GlyphRenderer\"},{\"attributes\":{\"source\":{\"id\":\"3cf60636-6780-41a8-84fa-3d77c345153a\",\"type\":\"ColumnDataSource\"}},\"id\":\"d1ddb333-7768-4215-bbcd-3c85e4c3d6ea\",\"type\":\"CDSView\"},{\"attributes\":{\"source\":{\"id\":\"7222414f-47ff-4885-b747-2507a8f6e73f\",\"type\":\"ColumnDataSource\"}},\"id\":\"86fc5bf7-b296-4209-920a-b1f54431b1b3\",\"type\":\"CDSView\"},{\"attributes\":{},\"id\":\"e713843d-9b38-44ef-a471-670c6fb0986f\",\"type\":\"Selection\"},{\"attributes\":{},\"id\":\"846fdd97-09db-472d-b806-af163e2bd439\",\"type\":\"Selection\"},{\"attributes\":{},\"id\":\"d92fcc07-b383-4d33-8178-2cc86eee4a20\",\"type\":\"UnionRenderers\"},{\"attributes\":{\"label\":{\"value\":\"g'(x)\"},\"renderers\":[{\"id\":\"4d4aaf13-b61c-4358-8a0a-e9d6de1a7b12\",\"type\":\"GlyphRenderer\"}]},\"id\":\"dcd81259-1749-4385-8cc3-fc5d0221b8a8\",\"type\":\"LegendItem\"},{\"attributes\":{\"children\":[{\"id\":\"fe14d405-6840-41b7-bb9a-99649d4b815a\",\"subtype\":\"Figure\",\"type\":\"Plot\"},{\"id\":\"b3ff70e8-2a12-4d7b-b0f7-ff53f46d3db7\",\"subtype\":\"Figure\",\"type\":\"Plot\"}]},\"id\":\"d44a8ced-0d17-4713-829f-72622b71c438\",\"type\":\"Column\"},{\"attributes\":{\"fill_color\":{\"value\":\"#1f77b4\"},\"line_color\":{\"value\":\"#1f77b4\"},\"size\":{\"units\":\"screen\",\"value\":6},\"x\":{\"field\":\"x\"},\"y\":{\"field\":\"y\"}},\"id\":\"96eeba2f-45ea-4c86-bb0b-3e51206d6429\",\"type\":\"Circle\"},{\"attributes\":{\"fill_alpha\":{\"value\":0.1},\"fill_color\":{\"value\":\"#1f77b4\"},\"line_alpha\":{\"value\":0.1},\"line_color\":{\"value\":\"#1f77b4\"},\"size\":{\"units\":\"screen\",\"value\":6},\"x\":{\"field\":\"x\"},\"y\":{\"field\":\"y\"}},\"id\":\"3af68628-2cb0-4d15-8a99-67f1b567fb1a\",\"type\":\"Circle\"},{\"attributes\":{\"data_source\":{\"id\":\"3886b667-2228-4d63-a4cc-9d91d9122073\",\"type\":\"ColumnDataSource\"},\"glyph\":{\"id\":\"96eeba2f-45ea-4c86-bb0b-3e51206d6429\",\"type\":\"Circle\"},\"hover_glyph\":null,\"muted_glyph\":null,\"nonselection_glyph\":{\"id\":\"3af68628-2cb0-4d15-8a99-67f1b567fb1a\",\"type\":\"Circle\"},\"selection_glyph\":null,\"view\":{\"id\":\"92677d02-a8a7-4660-b8dd-8cfc3761c59c\",\"type\":\"CDSView\"}},\"id\":\"2046f045-b6b5-433f-8996-a5b34776936b\",\"type\":\"GlyphRenderer\"},{\"attributes\":{\"source\":{\"id\":\"3886b667-2228-4d63-a4cc-9d91d9122073\",\"type\":\"ColumnDataSource\"}},\"id\":\"92677d02-a8a7-4660-b8dd-8cfc3761c59c\",\"type\":\"CDSView\"},{\"attributes\":{},\"id\":\"0b8f3f5d-5ef9-4576-95a4-6759421f9b71\",\"type\":\"WheelZoomTool\"},{\"attributes\":{},\"id\":\"9caef8e9-d475-4ca4-86c0-d8ed29e0e31e\",\"type\":\"Selection\"},{\"attributes\":{},\"id\":\"fa0928e6-bb07-4b13-bb16-ea081b396dc1\",\"type\":\"ResetTool\"},{\"attributes\":{\"plot\":null,\"text\":\"Minima of g(x)\"},\"id\":\"555350e2-6dba-4871-8465-7c604908ba70\",\"type\":\"Title\"},{\"attributes\":{},\"id\":\"8c295590-bcd2-4118-9eab-27769693d3db\",\"type\":\"UnionRenderers\"},{\"attributes\":{},\"id\":\"b89ca293-7451-4430-8d53-b268623614ff\",\"type\":\"Selection\"},{\"attributes\":{},\"id\":\"a2fabda3-70af-4dd6-83e3-2f860fbc8fda\",\"type\":\"UnionRenderers\"},{\"attributes\":{},\"id\":\"28621b83-c8de-4dba-adcd-7311d4d371d8\",\"type\":\"Selection\"},{\"attributes\":{},\"id\":\"9f15a4cf-e3c4-4e79-851b-162bb1809e50\",\"type\":\"UnionRenderers\"},{\"attributes\":{},\"id\":\"f9d26e97-b078-4fa1-afde-ab18843a283a\",\"type\":\"Selection\"},{\"attributes\":{},\"id\":\"4bea958a-7e99-4622-8187-0b8097ad6543\",\"type\":\"PanTool\"},{\"attributes\":{\"plot\":{\"id\":\"fe14d405-6840-41b7-bb9a-99649d4b815a\",\"subtype\":\"Figure\",\"type\":\"Plot\"},\"ticker\":{\"id\":\"9f80b16e-3e4a-44ba-afcf-69f281bcb809\",\"type\":\"BasicTicker\"}},\"id\":\"2e2505b1-d53d-4c8f-9284-761a48cab4dc\",\"type\":\"Grid\"},{\"attributes\":{},\"id\":\"99df337e-dd35-45e6-8bbc-c4a0ba66219d\",\"type\":\"UnionRenderers\"},{\"attributes\":{},\"id\":\"518b4335-ef5f-40c6-a3c3-590fb68d0396\",\"type\":\"BasicTickFormatter\"},{\"attributes\":{\"callback\":null,\"data\":{\"x\":{\"__ndarray__\":\"AAAAAAAAFMCamZmZmZkTwDQzMzMzMxPAzszMzMzMEsBoZmZmZmYSwAIAAAAAABLAnJmZmZmZEcA2MzMzMzMRwNDMzMzMzBDAamZmZmZmEMAEAAAAAAAQwDwzMzMzMw/AcGZmZmZmDsCkmZmZmZkNwNjMzMzMzAzADAAAAAAADMBAMzMzMzMLwHRmZmZmZgrAqJmZmZmZCcDczMzMzMwIwBAAAAAAAAjARDMzMzMzB8B4ZmZmZmYGwKyZmZmZmQXA4MzMzMzMBMAUAAAAAAAEwEgzMzMzMwPAfGZmZmZmAsCwmZmZmZkBwOTMzMzMzADAGAAAAAAAAMCYZmZmZmb+vwDNzMzMzPy/aDMzMzMz+7/QmZmZmZn5vzgAAAAAAPi/oGZmZmZm9r8IzczMzMz0v3AzMzMzM/O/2JmZmZmZ8b9AAAAAAADwv1DNzMzMzOy/IJqZmZmZ6b/wZmZmZmbmv8AzMzMzM+O/kAAAAAAA4L/AmpmZmZnZv2A0MzMzM9O/AJyZmZmZyb+AnpmZmZm5vwAAAAAAABS9gJSZmZmZuT8Al5mZmZnJP+AxMzMzM9M/QJiZmZmZ2T+g/v/////fP4AyMzMzM+M/sGVmZmZm5j/gmJmZmZnpPxDMzMzMzOw/QP//////7z84mZmZmZnxP9AyMzMzM/M/aMzMzMzM9D8AZmZmZmb2P5j///////c/MJmZmZmZ+T/IMjMzMzP7P2DMzMzMzPw/+GVmZmZm/j+Q////////P5TMzMzMzABAYJmZmZmZAUAsZmZmZmYCQPgyMzMzMwNAxP//////A0CQzMzMzMwEQFyZmZmZmQVAKGZmZmZmBkD0MjMzMzMHQMD//////wdAjMzMzMzMCEBYmZmZmZkJQCRmZmZmZgpA8DIzMzMzC0C8//////8LQIjMzMzMzAxAVJmZmZmZDUAgZmZmZmYOQOwyMzMzMw9AuP//////D0BCZmZmZmYQQKjMzMzMzBBADjMzMzMzEUB0mZmZmZkRQNr//////xFAQGZmZmZmEkCmzMzMzMwSQAwzMzMzMxNAcpmZmZmZE0DY//////8TQA==\",\"dtype\":\"float64\",\"shape\":[101]},\"y\":{\"__ndarray__\":\"AAAAAAAAJMCamZmZmZkjwDQzMzMzMyPAzszMzMzMIsBoZmZmZmYiwAIAAAAAACLAnJmZmZmZIcA2MzMzMzMhwNDMzMzMzCDAamZmZmZmIMAEAAAAAAAgwDwzMzMzMx/AcGZmZmZmHsCkmZmZmZkdwNjMzMzMzBzADAAAAAAAHMBAMzMzMzMbwHRmZmZmZhrAqJmZmZmZGcDczMzMzMwYwBAAAAAAABjARDMzMzMzF8B4ZmZmZmYWwKyZmZmZmRXA4MzMzMzMFMAUAAAAAAAUwEgzMzMzMxPAfGZmZmZmEsCwmZmZmZkRwOTMzMzMzBDAGAAAAAAAEMCYZmZmZmYOwADNzMzMzAzAaDMzMzMzC8DQmZmZmZkJwDgAAAAAAAjAoGZmZmZmBsAIzczMzMwEwHAzMzMzMwPA2JmZmZmZAcBAAAAAAAAAwFDNzMzMzPy/IJqZmZmZ+b/wZmZmZmb2v8AzMzMzM/O/kAAAAAAA8L/AmpmZmZnpv2A0MzMzM+O/AJyZmZmZ2b+AnpmZmZnJvwAAAAAAACS9gJSZmZmZyT8Al5mZmZnZP+AxMzMzM+M/QJiZmZmZ6T+g/v/////vP4AyMzMzM/M/sGVmZmZm9j/gmJmZmZn5PxDMzMzMzPw/QP///////z84mZmZmZkBQNAyMzMzMwNAaMzMzMzMBEAAZmZmZmYGQJj//////wdAMJmZmZmZCUDIMjMzMzMLQGDMzMzMzAxA+GVmZmZmDkCQ//////8PQJTMzMzMzBBAYJmZmZmZEUAsZmZmZmYSQPgyMzMzMxNAxP//////E0CQzMzMzMwUQFyZmZmZmRVAKGZmZmZmFkD0MjMzMzMXQMD//////xdAjMzMzMzMGEBYmZmZmZkZQCRmZmZmZhpA8DIzMzMzG0C8//////8bQIjMzMzMzBxAVJmZmZmZHUAgZmZmZmYeQOwyMzMzMx9AuP//////H0BCZmZmZmYgQKjMzMzMzCBADjMzMzMzIUB0mZmZmZkhQNr//////yFAQGZmZmZmIkCmzMzMzMwiQAwzMzMzMyNAcpmZmZmZI0DY//////8jQA==\",\"dtype\":\"float64\",\"shape\":[101]}},\"selected\":{\"id\":\"28621b83-c8de-4dba-adcd-7311d4d371d8\",\"type\":\"Selection\"},\"selection_policy\":{\"id\":\"9f15a4cf-e3c4-4e79-851b-162bb1809e50\",\"type\":\"UnionRenderers\"}},\"id\":\"7222414f-47ff-4885-b747-2507a8f6e73f\",\"type\":\"ColumnDataSource\"},{\"attributes\":{\"line_alpha\":0.1,\"line_color\":\"#1f77b4\",\"line_width\":3,\"x\":{\"field\":\"x\"},\"y\":{\"field\":\"y\"}},\"id\":\"0b1f79db-26cb-4b13-a796-f3e534beffe1\",\"type\":\"Line\"},{\"attributes\":{\"callback\":null,\"data\":{\"x\":{\"__ndarray__\":\"AAAAAAAAFMCamZmZmZkTwDQzMzMzMxPAzszMzMzMEsBoZmZmZmYSwAIAAAAAABLAnJmZmZmZEcA2MzMzMzMRwNDMzMzMzBDAamZmZmZmEMAEAAAAAAAQwDwzMzMzMw/AcGZmZmZmDsCkmZmZmZkNwNjMzMzMzAzADAAAAAAADMBAMzMzMzMLwHRmZmZmZgrAqJmZmZmZCcDczMzMzMwIwBAAAAAAAAjARDMzMzMzB8B4ZmZmZmYGwKyZmZmZmQXA4MzMzMzMBMAUAAAAAAAEwEgzMzMzMwPAfGZmZmZmAsCwmZmZmZkBwOTMzMzMzADAGAAAAAAAAMCYZmZmZmb+vwDNzMzMzPy/aDMzMzMz+7/QmZmZmZn5vzgAAAAAAPi/oGZmZmZm9r8IzczMzMz0v3AzMzMzM/O/2JmZmZmZ8b9AAAAAAADwv1DNzMzMzOy/IJqZmZmZ6b/wZmZmZmbmv8AzMzMzM+O/kAAAAAAA4L/AmpmZmZnZv2A0MzMzM9O/AJyZmZmZyb+AnpmZmZm5vwAAAAAAABS9gJSZmZmZuT8Al5mZmZnJP+AxMzMzM9M/QJiZmZmZ2T+g/v/////fP4AyMzMzM+M/sGVmZmZm5j/gmJmZmZnpPxDMzMzMzOw/QP//////7z84mZmZmZnxP9AyMzMzM/M/aMzMzMzM9D8AZmZmZmb2P5j///////c/MJmZmZmZ+T/IMjMzMzP7P2DMzMzMzPw/+GVmZmZm/j+Q////////P5TMzMzMzABAYJmZmZmZAUAsZmZmZmYCQPgyMzMzMwNAxP//////A0CQzMzMzMwEQFyZmZmZmQVAKGZmZmZmBkD0MjMzMzMHQMD//////wdAjMzMzMzMCEBYmZmZmZkJQCRmZmZmZgpA8DIzMzMzC0C8//////8LQIjMzMzMzAxAVJmZmZmZDUAgZmZmZmYOQOwyMzMzMw9AuP//////D0BCZmZmZmYQQKjMzMzMzBBADjMzMzMzEUB0mZmZmZkRQNr//////xFAQGZmZmZmEkCmzMzMzMwSQAwzMzMzMxNAcpmZmZmZE0DY//////8TQA==\",\"dtype\":\"float64\",\"shape\":[101]},\"y\":{\"__ndarray__\":\"AAAAAAAAJECamZmZmZkjQDQzMzMzMyNAzszMzMzMIkBoZmZmZmYiQAIAAAAAACJAnJmZmZmZIUA2MzMzMzMhQNDMzMzMzCBAamZmZmZmIEAEAAAAAAAgQDwzMzMzMx9AcGZmZmZmHkCkmZmZmZkdQNjMzMzMzBxADAAAAAAAHEBAMzMzMzMbQHRmZmZmZhpAqJmZmZmZGUDczMzMzMwYQBAAAAAAABhARDMzMzMzF0B4ZmZmZmYWQKyZmZmZmRVA4MzMzMzMFEAUAAAAAAAUQEgzMzMzMxNAfGZmZmZmEkCwmZmZmZkRQOTMzMzMzBBAGAAAAAAAEECYZmZmZmYOQADNzMzMzAxAaDMzMzMzC0DQmZmZmZkJQDgAAAAAAAhAoGZmZmZmBkAIzczMzMwEQHAzMzMzMwNA2JmZmZmZAUBAAAAAAAAAQFDNzMzMzPw/IJqZmZmZ+T/wZmZmZmb2P8AzMzMzM/M/kAAAAAAA8D/AmpmZmZnpP2A0MzMzM+M/AJyZmZmZ2T+AnpmZmZnJPwAAAAAAACQ9gJSZmZmZyb8Al5mZmZnZv+AxMzMzM+O/QJiZmZmZ6b+g/v/////vv4AyMzMzM/O/sGVmZmZm9r/gmJmZmZn5vxDMzMzMzPy/QP///////784mZmZmZkBwNAyMzMzMwPAaMzMzMzMBMAAZmZmZmYGwJj//////wfAMJmZmZmZCcDIMjMzMzMLwGDMzMzMzAzA+GVmZmZmDsCQ//////8PwJTMzMzMzBDAYJmZmZmZEcAsZmZmZmYSwPgyMzMzMxPAxP//////E8CQzMzMzMwUwFyZmZmZmRXAKGZmZmZmFsD0MjMzMzMXwMD//////xfAjMzMzMzMGMBYmZmZmZkZwCRmZmZmZhrA8DIzMzMzG8C8//////8bwIjMzMzMzBzAVJmZmZmZHcAgZmZmZmYewOwyMzMzMx/AuP//////H8BCZmZmZmYgwKjMzMzMzCDADjMzMzMzIcB0mZmZmZkhwNr//////yHAQGZmZmZmIsCmzMzMzMwiwAwzMzMzMyPAcpmZmZmZI8DY//////8jwA==\",\"dtype\":\"float64\",\"shape\":[101]}},\"selected\":{\"id\":\"9caef8e9-d475-4ca4-86c0-d8ed29e0e31e\",\"type\":\"Selection\"},\"selection_policy\":{\"id\":\"8c295590-bcd2-4118-9eab-27769693d3db\",\"type\":\"UnionRenderers\"}},\"id\":\"3cf60636-6780-41a8-84fa-3d77c345153a\",\"type\":\"ColumnDataSource\"},{\"attributes\":{\"callback\":null,\"data\":{\"x\":{\"__ndarray__\":\"AAAAAAAAFMCamZmZmZkTwDQzMzMzMxPAzszMzMzMEsBoZmZmZmYSwAIAAAAAABLAnJmZmZmZEcA2MzMzMzMRwNDMzMzMzBDAamZmZmZmEMAEAAAAAAAQwDwzMzMzMw/AcGZmZmZmDsCkmZmZmZkNwNjMzMzMzAzADAAAAAAADMBAMzMzMzMLwHRmZmZmZgrAqJmZmZmZCcDczMzMzMwIwBAAAAAAAAjARDMzMzMzB8B4ZmZmZmYGwKyZmZmZmQXA4MzMzMzMBMAUAAAAAAAEwEgzMzMzMwPAfGZmZmZmAsCwmZmZmZkBwOTMzMzMzADAGAAAAAAAAMCYZmZmZmb+vwDNzMzMzPy/aDMzMzMz+7/QmZmZmZn5vzgAAAAAAPi/oGZmZmZm9r8IzczMzMz0v3AzMzMzM/O/2JmZmZmZ8b9AAAAAAADwv1DNzMzMzOy/IJqZmZmZ6b/wZmZmZmbmv8AzMzMzM+O/kAAAAAAA4L/AmpmZmZnZv2A0MzMzM9O/AJyZmZmZyb+AnpmZmZm5vwAAAAAAABS9gJSZmZmZuT8Al5mZmZnJP+AxMzMzM9M/QJiZmZmZ2T+g/v/////fP4AyMzMzM+M/sGVmZmZm5j/gmJmZmZnpPxDMzMzMzOw/QP//////7z84mZmZmZnxP9AyMzMzM/M/aMzMzMzM9D8AZmZmZmb2P5j///////c/MJmZmZmZ+T/IMjMzMzP7P2DMzMzMzPw/+GVmZmZm/j+Q////////P5TMzMzMzABAYJmZmZmZAUAsZmZmZmYCQPgyMzMzMwNAxP//////A0CQzMzMzMwEQFyZmZmZmQVAKGZmZmZmBkD0MjMzMzMHQMD//////wdAjMzMzMzMCEBYmZmZmZkJQCRmZmZmZgpA8DIzMzMzC0C8//////8LQIjMzMzMzAxAVJmZmZmZDUAgZmZmZmYOQOwyMzMzMw9AuP//////D0BCZmZmZmYQQKjMzMzMzBBADjMzMzMzEUB0mZmZmZkRQNr//////xFAQGZmZmZmEkCmzMzMzMwSQAwzMzMzMxNAcpmZmZmZE0DY//////8TQA==\",\"dtype\":\"float64\",\"shape\":[101]},\"y\":{\"__ndarray__\":\"AAAAAAAAOcDE9ShcjwI4wAzXo3A9CjfA2qNwPQoXNsAtXI/C9Sg1wAUAAAAAQDTAYY/C9ShcM8BDCtejcH0ywKtwPQrXozHAl8L1KFzPMMAIAAAAAAAwwP1RuB6Fay7A9HoUrkfhLMD1ehSuR2ErwABSuB6F6ynAFQAAAACAKMA0hetRuB4nwF7hehSuxyXAkhSuR+F6JMDQHoXrUTgjwBgAAAAAACLAargehevRIMCNj8L1KFwfwFtcj8L1KB3APNejcD0KG8AyAAAAAAAZwDzXo3A9ChfAW1yPwvUoFcCNj8L1KFwTwNVwPQrXoxHAMAAAAAAAEMBAexSuR+EMwEhSuB6F6wnAeIXrUbgeB8DSFK5H4XoEwFQAAAAAAALA/Y/C9Shc/7+k16NwPQr7v5zXo3A9Cve/5Y/C9Shc87+AAAAAAADwv9hSuB6F6+m/UhWuR+F65L/dkML1KFzfv1zYo3A9Cte/IAEAAAAA0L9SFq5H4XrEv9zZo3A9Cre/UhiuR+F6pL9SHK5H4XqEvwAAAAAAADm6UgyuR+F6hL9SEK5H4Xqkv9zTo3A9Cre/UhKuR+F6xL9A/f/////Pv1zVo3A9Cte/XY3C9Shc379SE65H4Xrkv5hQuB6F6+m/gP7/////77+FjsL1KFzzvxzWo3A9Cve/BNajcD0K+789jsL1KFz/v2T//////wHA0hOuR+F6BMBohOtRuB4HwChRuB6F6wnAEHoUrkfhDMAg//////8PwC1wPQrXoxHA3Y7C9ShcE8CjW4/C9SgVwHzWo3A9ChfAav//////GMBs1qNwPQobwINbj8L1KB3ArY7C9ShcH8D2tx6F69EgwKD//////yHAVB6F61E4I8ASFK5H4XokwNrgehSuxyXArITrUbgeJ8CJ/////38owHBRuB6F6ynAYXoUrkdhK8BcehSuR+EswGFRuB6Fay7AcP//////L8BFwvUoXM8wwFdwPQrXozHA7QnXo3B9MsAJj8L1KFwzwKv/////PzTA0VuPwvUoNcB8o3A9Chc2wKzWo3A9CjfAYvUoXI8COMCc//////84wA==\",\"dtype\":\"float64\",\"shape\":[101]}},\"selected\":{\"id\":\"e713843d-9b38-44ef-a471-670c6fb0986f\",\"type\":\"Selection\"},\"selection_policy\":{\"id\":\"a0c1f04e-8efe-4bd0-af12-6dd8cfff1257\",\"type\":\"UnionRenderers\"}},\"id\":\"a63cb854-c6f4-4096-9d28-d6e524074c97\",\"type\":\"ColumnDataSource\"},{\"attributes\":{\"below\":[{\"id\":\"6e644ddd-54fa-4448-bb18-fb239b99303c\",\"type\":\"LinearAxis\"}],\"left\":[{\"id\":\"c2ce6e43-b49f-4595-9c69-a7a64c2d219c\",\"type\":\"LinearAxis\"}],\"plot_height\":400,\"plot_width\":700,\"renderers\":[{\"id\":\"6e644ddd-54fa-4448-bb18-fb239b99303c\",\"type\":\"LinearAxis\"},{\"id\":\"2e2505b1-d53d-4c8f-9284-761a48cab4dc\",\"type\":\"Grid\"},{\"id\":\"c2ce6e43-b49f-4595-9c69-a7a64c2d219c\",\"type\":\"LinearAxis\"},{\"id\":\"802dcb4e-85f5-486b-badd-666bb6fdf297\",\"type\":\"Grid\"},{\"id\":\"55c1ccb8-6e04-4937-91b6-de52ba5f80cd\",\"type\":\"Span\"},{\"id\":\"35fd9de0-fd80-4398-b4ce-37ced357bad0\",\"type\":\"Legend\"},{\"id\":\"35edfec8-18e4-4b44-b91d-bc62a3e4f2fd\",\"type\":\"GlyphRenderer\"},{\"id\":\"b6adf8f0-705a-48e8-94ab-d00e11056a9c\",\"type\":\"GlyphRenderer\"},{\"id\":\"f5fb4675-f8d3-41b1-bdbb-04df003b831e\",\"type\":\"GlyphRenderer\"}],\"title\":{\"id\":\"ae966de6-9d31-4325-88c5-4816bcf5a314\",\"type\":\"Title\"},\"toolbar\":{\"id\":\"681981e7-65bb-4091-99b3-0d5ec64f507d\",\"type\":\"Toolbar\"},\"toolbar_location\":\"above\",\"x_range\":{\"id\":\"b4c5adbf-3d6d-41bb-b432-386e421d23ef\",\"type\":\"DataRange1d\"},\"x_scale\":{\"id\":\"b1afa53c-74a6-4bdf-a9f5-2f686ac06956\",\"type\":\"LinearScale\"},\"y_range\":{\"id\":\"eaebd12c-3c2c-4c3e-a6a7-474b457555f0\",\"type\":\"DataRange1d\"},\"y_scale\":{\"id\":\"b87f4b51-48da-4bd5-8476-9150d3c24d68\",\"type\":\"LinearScale\"}},\"id\":\"fe14d405-6840-41b7-bb9a-99649d4b815a\",\"subtype\":\"Figure\",\"type\":\"Plot\"},{\"attributes\":{\"active_drag\":\"auto\",\"active_inspect\":\"auto\",\"active_multi\":null,\"active_scroll\":\"auto\",\"active_tap\":\"auto\",\"tools\":[{\"id\":\"9361ec57-df77-4ac5-8d91-d3a443bec09d\",\"type\":\"PanTool\"},{\"id\":\"134f8e6d-2005-498e-9353-e8bd7246fe67\",\"type\":\"HoverTool\"},{\"id\":\"0b8f3f5d-5ef9-4576-95a4-6759421f9b71\",\"type\":\"WheelZoomTool\"},{\"id\":\"fa0928e6-bb07-4b13-bb16-ea081b396dc1\",\"type\":\"ResetTool\"}]},\"id\":\"681981e7-65bb-4091-99b3-0d5ec64f507d\",\"type\":\"Toolbar\"},{\"attributes\":{\"data_source\":{\"id\":\"a63cb854-c6f4-4096-9d28-d6e524074c97\",\"type\":\"ColumnDataSource\"},\"glyph\":{\"id\":\"8234c4cc-2c0c-4c3a-899e-1af0fc081996\",\"type\":\"Line\"},\"hover_glyph\":null,\"muted_glyph\":null,\"nonselection_glyph\":{\"id\":\"0b1f79db-26cb-4b13-a796-f3e534beffe1\",\"type\":\"Line\"},\"selection_glyph\":null,\"view\":{\"id\":\"19a9765e-4c9a-47fe-b2d9-7b5c8dd8452b\",\"type\":\"CDSView\"}},\"id\":\"35edfec8-18e4-4b44-b91d-bc62a3e4f2fd\",\"type\":\"GlyphRenderer\"},{\"attributes\":{\"plot\":null,\"text\":\"Maxima of f(x)\"},\"id\":\"ae966de6-9d31-4325-88c5-4816bcf5a314\",\"type\":\"Title\"},{\"attributes\":{\"line_alpha\":0.3,\"line_color\":\"green\",\"line_width\":3,\"x\":{\"field\":\"x\"},\"y\":{\"field\":\"y\"}},\"id\":\"edc98168-07db-4312-88c1-96b3d615ca9c\",\"type\":\"Line\"},{\"attributes\":{\"callback\":null},\"id\":\"eaebd12c-3c2c-4c3e-a6a7-474b457555f0\",\"type\":\"DataRange1d\"},{\"attributes\":{\"axis_label\":\"X\",\"formatter\":{\"id\":\"577967f7-7a71-44f4-a5c4-1f844d1aeadd\",\"type\":\"BasicTickFormatter\"},\"plot\":{\"id\":\"fe14d405-6840-41b7-bb9a-99649d4b815a\",\"subtype\":\"Figure\",\"type\":\"Plot\"},\"ticker\":{\"id\":\"9f80b16e-3e4a-44ba-afcf-69f281bcb809\",\"type\":\"BasicTicker\"}},\"id\":\"6e644ddd-54fa-4448-bb18-fb239b99303c\",\"type\":\"LinearAxis\"},{\"attributes\":{},\"id\":\"ca4e98b0-2901-4f2c-a505-0b0defa8a2f3\",\"type\":\"LinearScale\"},{\"attributes\":{},\"id\":\"9f80b16e-3e4a-44ba-afcf-69f281bcb809\",\"type\":\"BasicTicker\"},{\"attributes\":{\"axis_label\":\"f(x)\",\"formatter\":{\"id\":\"4ffa86d0-c2c9-48ff-a474-202eeddfea5a\",\"type\":\"BasicTickFormatter\"},\"plot\":{\"id\":\"fe14d405-6840-41b7-bb9a-99649d4b815a\",\"subtype\":\"Figure\",\"type\":\"Plot\"},\"ticker\":{\"id\":\"a537e28c-d6e8-4457-93ae-9c4325777ce4\",\"type\":\"BasicTicker\"}},\"id\":\"c2ce6e43-b49f-4595-9c69-a7a64c2d219c\",\"type\":\"LinearAxis\"},{\"attributes\":{\"data_source\":{\"id\":\"7893c898-33e6-4ba8-99e1-90f8c87fd75c\",\"type\":\"ColumnDataSource\"},\"glyph\":{\"id\":\"bc29d81d-7089-4b02-a720-dd78d7b8eb24\",\"type\":\"Line\"},\"hover_glyph\":null,\"muted_glyph\":null,\"nonselection_glyph\":{\"id\":\"a50e4d3d-7b98-493b-b1b3-725796b89553\",\"type\":\"Line\"},\"selection_glyph\":null,\"view\":{\"id\":\"85302d6d-30c4-4947-9e17-4a8d18f49e4a\",\"type\":\"CDSView\"}},\"id\":\"3a716062-b5d7-4742-b881-297c4b756536\",\"type\":\"GlyphRenderer\"},{\"attributes\":{},\"id\":\"b1afa53c-74a6-4bdf-a9f5-2f686ac06956\",\"type\":\"LinearScale\"},{\"attributes\":{\"source\":{\"id\":\"7893c898-33e6-4ba8-99e1-90f8c87fd75c\",\"type\":\"ColumnDataSource\"}},\"id\":\"85302d6d-30c4-4947-9e17-4a8d18f49e4a\",\"type\":\"CDSView\"},{\"attributes\":{},\"id\":\"a537e28c-d6e8-4457-93ae-9c4325777ce4\",\"type\":\"BasicTicker\"},{\"attributes\":{\"callback\":null,\"renderers\":\"auto\",\"tooltips\":[[\"out\",\"$y\"],[\"x\",\"$x\"]]},\"id\":\"134f8e6d-2005-498e-9353-e8bd7246fe67\",\"type\":\"HoverTool\"},{\"attributes\":{\"items\":[{\"id\":\"73aece03-05bd-4230-a97e-657417939531\",\"type\":\"LegendItem\"},{\"id\":\"b2b6e803-3195-4316-9b06-1bfac2687c59\",\"type\":\"LegendItem\"}],\"plot\":{\"id\":\"fe14d405-6840-41b7-bb9a-99649d4b815a\",\"subtype\":\"Figure\",\"type\":\"Plot\"}},\"id\":\"35fd9de0-fd80-4398-b4ce-37ced357bad0\",\"type\":\"Legend\"},{\"attributes\":{\"line_color\":{\"value\":\"grey\"},\"location\":0,\"plot\":null},\"id\":\"84f3c6ca-e3a4-482c-8d44-447be2f1fcce\",\"type\":\"Span\"},{\"attributes\":{\"dimension\":1,\"plot\":{\"id\":\"fe14d405-6840-41b7-bb9a-99649d4b815a\",\"subtype\":\"Figure\",\"type\":\"Plot\"},\"ticker\":{\"id\":\"a537e28c-d6e8-4457-93ae-9c4325777ce4\",\"type\":\"BasicTicker\"}},\"id\":\"802dcb4e-85f5-486b-badd-666bb6fdf297\",\"type\":\"Grid\"},{\"attributes\":{},\"id\":\"9361ec57-df77-4ac5-8d91-d3a443bec09d\",\"type\":\"PanTool\"},{\"attributes\":{\"callback\":null},\"id\":\"b0322710-d03f-406c-80c3-699cd6eac141\",\"type\":\"DataRange1d\"},{\"attributes\":{},\"id\":\"4ffa86d0-c2c9-48ff-a474-202eeddfea5a\",\"type\":\"BasicTickFormatter\"},{\"attributes\":{\"line_color\":{\"value\":\"grey\"},\"location\":0,\"plot\":null},\"id\":\"55c1ccb8-6e04-4937-91b6-de52ba5f80cd\",\"type\":\"Span\"},{\"attributes\":{\"active_drag\":\"auto\",\"active_inspect\":\"auto\",\"active_multi\":null,\"active_scroll\":\"auto\",\"active_tap\":\"auto\",\"tools\":[{\"id\":\"4bea958a-7e99-4622-8187-0b8097ad6543\",\"type\":\"PanTool\"},{\"id\":\"7209744f-bfae-40c2-95f5-09183afff902\",\"type\":\"HoverTool\"},{\"id\":\"dd9cc958-9ea9-418f-b5ef-5df77f1b8144\",\"type\":\"WheelZoomTool\"},{\"id\":\"47ed6159-73d4-4acc-bee7-6007075dc9c4\",\"type\":\"ResetTool\"}]},\"id\":\"2613717d-452c-4986-91c3-3e1c1f362d7f\",\"type\":\"Toolbar\"},{\"attributes\":{\"label\":{\"value\":\"f(x)\"},\"renderers\":[{\"id\":\"35edfec8-18e4-4b44-b91d-bc62a3e4f2fd\",\"type\":\"GlyphRenderer\"}]},\"id\":\"73aece03-05bd-4230-a97e-657417939531\",\"type\":\"LegendItem\"},{\"attributes\":{},\"id\":\"2b62877f-18bf-498b-b49c-ed7b3e92c7cc\",\"type\":\"BasicTicker\"},{\"attributes\":{},\"id\":\"75bb94ea-7559-4e37-a202-f85ff2439543\",\"type\":\"LinearScale\"},{\"attributes\":{\"line_alpha\":0.3,\"line_color\":\"#1f77b4\",\"line_width\":3,\"x\":{\"field\":\"x\"},\"y\":{\"field\":\"y\"}},\"id\":\"bc29d81d-7089-4b02-a720-dd78d7b8eb24\",\"type\":\"Line\"},{\"attributes\":{\"dimension\":1,\"plot\":{\"id\":\"b3ff70e8-2a12-4d7b-b0f7-ff53f46d3db7\",\"subtype\":\"Figure\",\"type\":\"Plot\"},\"ticker\":{\"id\":\"2b62877f-18bf-498b-b49c-ed7b3e92c7cc\",\"type\":\"BasicTicker\"}},\"id\":\"785adde4-f01c-4dde-9083-96dbd2280081\",\"type\":\"Grid\"},{\"attributes\":{\"fill_color\":{\"value\":\"#1f77b4\"},\"line_color\":{\"value\":\"#1f77b4\"},\"size\":{\"units\":\"screen\",\"value\":6},\"x\":{\"field\":\"x\"},\"y\":{\"field\":\"y\"}},\"id\":\"b3046973-1b35-46aa-a7cd-c239d38e15a8\",\"type\":\"Circle\"},{\"attributes\":{\"axis_label\":\"f(x)\",\"formatter\":{\"id\":\"518b4335-ef5f-40c6-a3c3-590fb68d0396\",\"type\":\"BasicTickFormatter\"},\"plot\":{\"id\":\"b3ff70e8-2a12-4d7b-b0f7-ff53f46d3db7\",\"subtype\":\"Figure\",\"type\":\"Plot\"},\"ticker\":{\"id\":\"2b62877f-18bf-498b-b49c-ed7b3e92c7cc\",\"type\":\"BasicTicker\"}},\"id\":\"5549005d-f821-497c-9507-f410596a9716\",\"type\":\"LinearAxis\"},{\"attributes\":{\"fill_alpha\":{\"value\":0.1},\"fill_color\":{\"value\":\"#1f77b4\"},\"line_alpha\":{\"value\":0.1},\"line_color\":{\"value\":\"#1f77b4\"},\"size\":{\"units\":\"screen\",\"value\":6},\"x\":{\"field\":\"x\"},\"y\":{\"field\":\"y\"}},\"id\":\"e675264e-e74e-4e36-a0f0-7b8260971341\",\"type\":\"Circle\"},{\"attributes\":{\"callback\":null},\"id\":\"24dfa556-23fe-436c-915b-177fa5437ee2\",\"type\":\"DataRange1d\"},{\"attributes\":{},\"id\":\"577967f7-7a71-44f4-a5c4-1f844d1aeadd\",\"type\":\"BasicTickFormatter\"},{\"attributes\":{\"source\":{\"id\":\"a63cb854-c6f4-4096-9d28-d6e524074c97\",\"type\":\"ColumnDataSource\"}},\"id\":\"19a9765e-4c9a-47fe-b2d9-7b5c8dd8452b\",\"type\":\"CDSView\"},{\"attributes\":{\"line_alpha\":0.1,\"line_color\":\"#1f77b4\",\"line_width\":3,\"x\":{\"field\":\"x\"},\"y\":{\"field\":\"y\"}},\"id\":\"2dbe5849-03bf-4b5d-a0d4-c18beb29ba15\",\"type\":\"Line\"},{\"attributes\":{},\"id\":\"cc54d61f-805b-4aac-b363-24259f60fc5a\",\"type\":\"BasicTicker\"},{\"attributes\":{},\"id\":\"47ed6159-73d4-4acc-bee7-6007075dc9c4\",\"type\":\"ResetTool\"},{\"attributes\":{\"data_source\":{\"id\":\"e21028dd-3ff0-4997-98af-5499fa9995fe\",\"type\":\"ColumnDataSource\"},\"glyph\":{\"id\":\"b3046973-1b35-46aa-a7cd-c239d38e15a8\",\"type\":\"Circle\"},\"hover_glyph\":null,\"muted_glyph\":null,\"nonselection_glyph\":{\"id\":\"e675264e-e74e-4e36-a0f0-7b8260971341\",\"type\":\"Circle\"},\"selection_glyph\":null,\"view\":{\"id\":\"5c8fc5c7-a5cd-4674-9b00-7a80a8ea9e25\",\"type\":\"CDSView\"}},\"id\":\"f5fb4675-f8d3-41b1-bdbb-04df003b831e\",\"type\":\"GlyphRenderer\"},{\"attributes\":{\"axis_label\":\"X\",\"formatter\":{\"id\":\"ee58c00d-ad2f-4e4a-9fd0-0b92eeb0f543\",\"type\":\"BasicTickFormatter\"},\"plot\":{\"id\":\"b3ff70e8-2a12-4d7b-b0f7-ff53f46d3db7\",\"subtype\":\"Figure\",\"type\":\"Plot\"},\"ticker\":{\"id\":\"cc54d61f-805b-4aac-b363-24259f60fc5a\",\"type\":\"BasicTicker\"}},\"id\":\"bd2c0d79-7ddb-4e67-8f8d-aa7d59006fd8\",\"type\":\"LinearAxis\"},{\"attributes\":{\"callback\":null},\"id\":\"b4c5adbf-3d6d-41bb-b432-386e421d23ef\",\"type\":\"DataRange1d\"},{\"attributes\":{\"source\":{\"id\":\"e21028dd-3ff0-4997-98af-5499fa9995fe\",\"type\":\"ColumnDataSource\"}},\"id\":\"5c8fc5c7-a5cd-4674-9b00-7a80a8ea9e25\",\"type\":\"CDSView\"},{\"attributes\":{\"callback\":null,\"renderers\":\"auto\",\"tooltips\":[[\"out\",\"$y\"],[\"x\",\"$x\"]]},\"id\":\"7209744f-bfae-40c2-95f5-09183afff902\",\"type\":\"HoverTool\"},{\"attributes\":{\"data_source\":{\"id\":\"3cf60636-6780-41a8-84fa-3d77c345153a\",\"type\":\"ColumnDataSource\"},\"glyph\":{\"id\":\"edc98168-07db-4312-88c1-96b3d615ca9c\",\"type\":\"Line\"},\"hover_glyph\":null,\"muted_glyph\":null,\"nonselection_glyph\":{\"id\":\"2dbe5849-03bf-4b5d-a0d4-c18beb29ba15\",\"type\":\"Line\"},\"selection_glyph\":null,\"view\":{\"id\":\"d1ddb333-7768-4215-bbcd-3c85e4c3d6ea\",\"type\":\"CDSView\"}},\"id\":\"b6adf8f0-705a-48e8-94ab-d00e11056a9c\",\"type\":\"GlyphRenderer\"},{\"attributes\":{\"plot\":{\"id\":\"b3ff70e8-2a12-4d7b-b0f7-ff53f46d3db7\",\"subtype\":\"Figure\",\"type\":\"Plot\"},\"ticker\":{\"id\":\"cc54d61f-805b-4aac-b363-24259f60fc5a\",\"type\":\"BasicTicker\"}},\"id\":\"0f51bb26-6569-468b-99ae-4718b9b4391c\",\"type\":\"Grid\"},{\"attributes\":{\"below\":[{\"id\":\"bd2c0d79-7ddb-4e67-8f8d-aa7d59006fd8\",\"type\":\"LinearAxis\"}],\"left\":[{\"id\":\"5549005d-f821-497c-9507-f410596a9716\",\"type\":\"LinearAxis\"}],\"plot_height\":400,\"plot_width\":700,\"renderers\":[{\"id\":\"bd2c0d79-7ddb-4e67-8f8d-aa7d59006fd8\",\"type\":\"LinearAxis\"},{\"id\":\"0f51bb26-6569-468b-99ae-4718b9b4391c\",\"type\":\"Grid\"},{\"id\":\"5549005d-f821-497c-9507-f410596a9716\",\"type\":\"LinearAxis\"},{\"id\":\"785adde4-f01c-4dde-9083-96dbd2280081\",\"type\":\"Grid\"},{\"id\":\"84f3c6ca-e3a4-482c-8d44-447be2f1fcce\",\"type\":\"Span\"},{\"id\":\"574e5650-c39d-41df-a33a-f33ac82007f6\",\"type\":\"Legend\"},{\"id\":\"3a716062-b5d7-4742-b881-297c4b756536\",\"type\":\"GlyphRenderer\"},{\"id\":\"4d4aaf13-b61c-4358-8a0a-e9d6de1a7b12\",\"type\":\"GlyphRenderer\"},{\"id\":\"2046f045-b6b5-433f-8996-a5b34776936b\",\"type\":\"GlyphRenderer\"}],\"title\":{\"id\":\"555350e2-6dba-4871-8465-7c604908ba70\",\"type\":\"Title\"},\"toolbar\":{\"id\":\"2613717d-452c-4986-91c3-3e1c1f362d7f\",\"type\":\"Toolbar\"},\"toolbar_location\":\"above\",\"x_range\":{\"id\":\"b0322710-d03f-406c-80c3-699cd6eac141\",\"type\":\"DataRange1d\"},\"x_scale\":{\"id\":\"ca4e98b0-2901-4f2c-a505-0b0defa8a2f3\",\"type\":\"LinearScale\"},\"y_range\":{\"id\":\"24dfa556-23fe-436c-915b-177fa5437ee2\",\"type\":\"DataRange1d\"},\"y_scale\":{\"id\":\"75bb94ea-7559-4e37-a202-f85ff2439543\",\"type\":\"LinearScale\"}},\"id\":\"b3ff70e8-2a12-4d7b-b0f7-ff53f46d3db7\",\"subtype\":\"Figure\",\"type\":\"Plot\"},{\"attributes\":{},\"id\":\"dd9cc958-9ea9-418f-b5ef-5df77f1b8144\",\"type\":\"WheelZoomTool\"},{\"attributes\":{\"label\":{\"value\":\"f'(x)\"},\"renderers\":[{\"id\":\"b6adf8f0-705a-48e8-94ab-d00e11056a9c\",\"type\":\"GlyphRenderer\"}]},\"id\":\"b2b6e803-3195-4316-9b06-1bfac2687c59\",\"type\":\"LegendItem\"},{\"attributes\":{},\"id\":\"ee58c00d-ad2f-4e4a-9fd0-0b92eeb0f543\",\"type\":\"BasicTickFormatter\"},{\"attributes\":{\"line_alpha\":0.1,\"line_color\":\"#1f77b4\",\"line_width\":3,\"x\":{\"field\":\"x\"},\"y\":{\"field\":\"y\"}},\"id\":\"a50e4d3d-7b98-493b-b1b3-725796b89553\",\"type\":\"Line\"},{\"attributes\":{},\"id\":\"a0c1f04e-8efe-4bd0-af12-6dd8cfff1257\",\"type\":\"UnionRenderers\"},{\"attributes\":{\"callback\":null,\"data\":{\"x\":{\"__ndarray__\":\"AAAAAAAAFMCamZmZmZkTwDQzMzMzMxPAzszMzMzMEsBoZmZmZmYSwAIAAAAAABLAnJmZmZmZEcA2MzMzMzMRwNDMzMzMzBDAamZmZmZmEMAEAAAAAAAQwDwzMzMzMw/AcGZmZmZmDsCkmZmZmZkNwNjMzMzMzAzADAAAAAAADMBAMzMzMzMLwHRmZmZmZgrAqJmZmZmZCcDczMzMzMwIwBAAAAAAAAjARDMzMzMzB8B4ZmZmZmYGwKyZmZmZmQXA4MzMzMzMBMAUAAAAAAAEwEgzMzMzMwPAfGZmZmZmAsCwmZmZmZkBwOTMzMzMzADAGAAAAAAAAMCYZmZmZmb+vwDNzMzMzPy/aDMzMzMz+7/QmZmZmZn5vzgAAAAAAPi/oGZmZmZm9r8IzczMzMz0v3AzMzMzM/O/2JmZmZmZ8b9AAAAAAADwv1DNzMzMzOy/IJqZmZmZ6b/wZmZmZmbmv8AzMzMzM+O/kAAAAAAA4L/AmpmZmZnZv2A0MzMzM9O/AJyZmZmZyb+AnpmZmZm5vwAAAAAAABS9gJSZmZmZuT8Al5mZmZnJP+AxMzMzM9M/QJiZmZmZ2T+g/v/////fP4AyMzMzM+M/sGVmZmZm5j/gmJmZmZnpPxDMzMzMzOw/QP//////7z84mZmZmZnxP9AyMzMzM/M/aMzMzMzM9D8AZmZmZmb2P5j///////c/MJmZmZmZ+T/IMjMzMzP7P2DMzMzMzPw/+GVmZmZm/j+Q////////P5TMzMzMzABAYJmZmZmZAUAsZmZmZmYCQPgyMzMzMwNAxP//////A0CQzMzMzMwEQFyZmZmZmQVAKGZmZmZmBkD0MjMzMzMHQMD//////wdAjMzMzMzMCEBYmZmZmZkJQCRmZmZmZgpA8DIzMzMzC0C8//////8LQIjMzMzMzAxAVJmZmZmZDUAgZmZmZmYOQOwyMzMzMw9AuP//////D0BCZmZmZmYQQKjMzMzMzBBADjMzMzMzEUB0mZmZmZkRQNr//////xFAQGZmZmZmEkCmzMzMzMwSQAwzMzMzMxNAcpmZmZmZE0DY//////8TQA==\",\"dtype\":\"float64\",\"shape\":[101]},\"y\":{\"__ndarray__\":\"AAAAAAAAOUDE9ShcjwI4QAzXo3A9CjdA2qNwPQoXNkAtXI/C9Sg1QAUAAAAAQDRAYY/C9ShcM0BDCtejcH0yQKtwPQrXozFAl8L1KFzPMEAIAAAAAAAwQP1RuB6Fay5A9HoUrkfhLED1ehSuR2ErQABSuB6F6ylAFQAAAACAKEA0hetRuB4nQF7hehSuxyVAkhSuR+F6JEDQHoXrUTgjQBgAAAAAACJAargehevRIECNj8L1KFwfQFtcj8L1KB1APNejcD0KG0AyAAAAAAAZQDzXo3A9ChdAW1yPwvUoFUCNj8L1KFwTQNVwPQrXoxFAMAAAAAAAEEBAexSuR+EMQEhSuB6F6wlAeIXrUbgeB0DSFK5H4XoEQFQAAAAAAAJA/Y/C9Shc/z+k16NwPQr7P5zXo3A9Cvc/5Y/C9Shc8z+AAAAAAADwP9hSuB6F6+k/UhWuR+F65D/dkML1KFzfP1zYo3A9Ctc/IAEAAAAA0D9SFq5H4XrEP9zZo3A9Crc/UhiuR+F6pD9SHK5H4XqEPwAAAAAAADk6UgyuR+F6hD9SEK5H4XqkP9zTo3A9Crc/UhKuR+F6xD9A/f/////PP1zVo3A9Ctc/XY3C9Shc3z9SE65H4XrkP5hQuB6F6+k/gP7/////7z+FjsL1KFzzPxzWo3A9Cvc/BNajcD0K+z89jsL1KFz/P2T//////wFA0hOuR+F6BEBohOtRuB4HQChRuB6F6wlAEHoUrkfhDEAg//////8PQC1wPQrXoxFA3Y7C9ShcE0CjW4/C9SgVQHzWo3A9ChdAav//////GEBs1qNwPQobQINbj8L1KB1ArY7C9ShcH0D2tx6F69EgQKD//////yFAVB6F61E4I0ASFK5H4XokQNrgehSuxyVArITrUbgeJ0CJ/////38oQHBRuB6F6ylAYXoUrkdhK0BcehSuR+EsQGFRuB6Fay5AcP//////L0BFwvUoXM8wQFdwPQrXozFA7QnXo3B9MkAJj8L1KFwzQKv/////PzRA0VuPwvUoNUB8o3A9Chc2QKzWo3A9CjdAYvUoXI8COECc//////84QA==\",\"dtype\":\"float64\",\"shape\":[101]}},\"selected\":{\"id\":\"846fdd97-09db-472d-b806-af163e2bd439\",\"type\":\"Selection\"},\"selection_policy\":{\"id\":\"d92fcc07-b383-4d33-8178-2cc86eee4a20\",\"type\":\"UnionRenderers\"}},\"id\":\"7893c898-33e6-4ba8-99e1-90f8c87fd75c\",\"type\":\"ColumnDataSource\"},{\"attributes\":{\"callback\":null,\"data\":{\"x\":[0],\"y\":[0]},\"selected\":{\"id\":\"b89ca293-7451-4430-8d53-b268623614ff\",\"type\":\"Selection\"},\"selection_policy\":{\"id\":\"a2fabda3-70af-4dd6-83e3-2f860fbc8fda\",\"type\":\"UnionRenderers\"}},\"id\":\"e21028dd-3ff0-4997-98af-5499fa9995fe\",\"type\":\"ColumnDataSource\"}],\"root_ids\":[\"d44a8ced-0d17-4713-829f-72622b71c438\"]},\"title\":\"Bokeh Application\",\"version\":\"0.13.0\"}};\n",
       "  var render_items = [{\"docid\":\"24ed0880-4f30-403e-a736-eacec33489ab\",\"roots\":{\"d44a8ced-0d17-4713-829f-72622b71c438\":\"ba6ca78e-b6a2-4e06-acf4-230c3905e442\"}}];\n",
       "  root.Bokeh.embed.embed_items_notebook(docs_json, render_items);\n",
       "\n",
       "  }\n",
       "  if (root.Bokeh !== undefined) {\n",
       "    embed_document(root);\n",
       "  } else {\n",
       "    var attempts = 0;\n",
       "    var timer = setInterval(function(root) {\n",
       "      if (root.Bokeh !== undefined) {\n",
       "        embed_document(root);\n",
       "        clearInterval(timer);\n",
       "      }\n",
       "      attempts++;\n",
       "      if (attempts > 100) {\n",
       "        console.log(\"Bokeh: ERROR: Unable to run BokehJS code because BokehJS library is missing\")\n",
       "        clearInterval(timer);\n",
       "      }\n",
       "    }, 10, root)\n",
       "  }\n",
       "})(window);"
      ],
      "application/vnd.bokehjs_exec.v0+json": ""
     },
     "metadata": {
      "application/vnd.bokehjs_exec.v0+json": {
       "id": "d44a8ced-0d17-4713-829f-72622b71c438"
      }
     },
     "output_type": "display_data"
    }
   ],
   "source": [
    "x = np.arange(-5,5.1,.1) # Define the Function Domain \n",
    "\n",
    "# Define the first derivatives of f and g\n",
    "df = lambda x: -2*x\n",
    "dg = lambda x: 2*x\n",
    "\n",
    "# Plot Maxima\n",
    "p = plot(w=700,h=400,title=\"Maxima of f(x)\")\n",
    "p.line(x,f(x),line_width=3,alpha=.3,legend=\"f(x)\")\n",
    "p.line(x,df(x),line_width=3,alpha=.3,color=\"green\",legend=\"f'(x)\")\n",
    "p.scatter([0],[0],size=6)\n",
    "\n",
    "# Plot Minima\n",
    "p2 = plot(w=700,h=400,title=\"Minima of g(x)\")\n",
    "p2.line(x,g(x),line_width=3,alpha=.3,legend=\"g(x)\")\n",
    "p2.line(x,dg(x),line_width=3,alpha=.3,color=\"green\",legend=\"g'(x)\")\n",
    "p2.scatter([0],[0],size=6)\n",
    "\n",
    "show(column(p,p2)) # Render plot"
   ]
  },
  {
   "cell_type": "markdown",
   "metadata": {},
   "source": [
    "Graphically, we can clearly locate these points visually (at least for simple functions like $f(x)$ and $g(x)$), but how would we determine if a critical point is a maxima or minima without visualizing it. \n",
    "\n",
    "Look at the above graph and see if we can't gather any intuition for how this might work?"
   ]
  },
  {
   "cell_type": "markdown",
   "metadata": {},
   "source": [
    "Consider the function $w(x)$\n",
    "\n",
    "<br>\n",
    "<br>\n",
    "\n",
    "$$ w(x) = 2x^2 + x + 1$$\n",
    "\n",
    "<br>\n",
    "<br>"
   ]
  },
  {
   "cell_type": "markdown",
   "metadata": {},
   "source": [
    "What are the critical values? That is, when is the derivative (a) equal to one or (b) undefined. \n",
    "\n",
    "<br>\n",
    "<br>\n",
    "\n",
    "$$ w'(x) = 4x + 1 $$\n",
    "\n",
    "<br>\n",
    "<br>\n",
    "\n",
    "$$ w'(x^*) = 4x + 1 = 0 $$\n",
    "\n",
    "<br>\n",
    "<br>\n",
    "\n",
    "$$ x^* = -.25$$\n",
    "\n",
    "<br>\n",
    "<br>"
   ]
  },
  {
   "cell_type": "markdown",
   "metadata": {},
   "source": [
    "Does this point correspond with a maxima or minima? How would we figure this out? \n",
    "\n",
    "<br>\n",
    "<br>\n",
    "\n",
    "What is the functions behavior around that point? From the above figure we might surmise from the above graphic is that what we're most interested in is the behavior of the function both just prior and just after the critical point. Specifically, the value of the slope. \n",
    "\n",
    "<br>\n",
    "<br>\n",
    "\n",
    "- A maxima appears to correspond with $+ \\to -$ sign flip. \n",
    "- A minima appears to correspond with $- \\to +$ sign flip. \n",
    "\n",
    "<br>\n",
    "<br>\n",
    "\n",
    "With our hypotheses in hand, let's plug in values around the critical point and see their sign. \n",
    "\n",
    "|  position | evaluation | sign |  |\n",
    "|--------|-------| ------ | ----| \n",
    "| Left | $ w'(-.5) = 4(-.5) + 1 = -1 $ | $-$ | decreasing|\n",
    "| Critical value | $ w'(-.25) = 4(-.25) + 1 = 0 $ | $~$| stationary |\n",
    "| Right | $ w'(0) = 4(0) + 1 = 1 $ | $+$ | increasing\n",
    "\n",
    "$x^* = -.25$ appears to correspond with a minima. \n"
   ]
  },
  {
   "cell_type": "markdown",
   "metadata": {},
   "source": [
    "Let's inspect this result visually"
   ]
  },
  {
   "cell_type": "code",
   "execution_count": 13,
   "metadata": {},
   "outputs": [
    {
     "data": {
      "text/html": [
       "\n",
       "\n",
       "\n",
       "\n",
       "\n",
       "\n",
       "  <div class=\"bk-root\" id=\"83c14984-6ea2-4f8c-bc1d-ae168213d943\"></div>\n"
      ]
     },
     "metadata": {},
     "output_type": "display_data"
    },
    {
     "data": {
      "application/javascript": [
       "(function(root) {\n",
       "  function embed_document(root) {\n",
       "    \n",
       "  var docs_json = {\"8f1f8d8a-1783-4f87-bbe9-2b22edaa8baa\":{\"roots\":{\"references\":[{\"attributes\":{\"line_alpha\":0.4,\"line_color\":\"#1f77b4\",\"line_width\":3,\"x\":{\"field\":\"x\"},\"y\":{\"field\":\"y\"}},\"id\":\"f4226233-d778-4a26-91c6-b68d3e1c2077\",\"type\":\"Line\"},{\"attributes\":{},\"id\":\"6a67f340-e63a-4272-bb7a-4e5b4d3381b8\",\"type\":\"LinearScale\"},{\"attributes\":{},\"id\":\"a5144059-6e66-4c41-92c1-7bd772f58d84\",\"type\":\"BasicTicker\"},{\"attributes\":{\"callback\":null,\"data\":{\"x\":{\"__ndarray__\":\"AAAAAAAAFMCamZmZmZkTwDQzMzMzMxPAzszMzMzMEsBoZmZmZmYSwAIAAAAAABLAnJmZmZmZEcA2MzMzMzMRwNDMzMzMzBDAamZmZmZmEMAEAAAAAAAQwDwzMzMzMw/AcGZmZmZmDsCkmZmZmZkNwNjMzMzMzAzADAAAAAAADMBAMzMzMzMLwHRmZmZmZgrAqJmZmZmZCcDczMzMzMwIwBAAAAAAAAjARDMzMzMzB8B4ZmZmZmYGwKyZmZmZmQXA4MzMzMzMBMAUAAAAAAAEwEgzMzMzMwPAfGZmZmZmAsCwmZmZmZkBwOTMzMzMzADAGAAAAAAAAMCYZmZmZmb+vwDNzMzMzPy/aDMzMzMz+7/QmZmZmZn5vzgAAAAAAPi/oGZmZmZm9r8IzczMzMz0v3AzMzMzM/O/2JmZmZmZ8b9AAAAAAADwv1DNzMzMzOy/IJqZmZmZ6b/wZmZmZmbmv8AzMzMzM+O/kAAAAAAA4L/AmpmZmZnZv2A0MzMzM9O/AJyZmZmZyb+AnpmZmZm5vwAAAAAAABS9gJSZmZmZuT8Al5mZmZnJP+AxMzMzM9M/QJiZmZmZ2T+g/v/////fP4AyMzMzM+M/sGVmZmZm5j/gmJmZmZnpPxDMzMzMzOw/QP//////7z84mZmZmZnxP9AyMzMzM/M/aMzMzMzM9D8AZmZmZmb2P5j///////c/MJmZmZmZ+T/IMjMzMzP7P2DMzMzMzPw/+GVmZmZm/j+Q////////P5TMzMzMzABAYJmZmZmZAUAsZmZmZmYCQPgyMzMzMwNAxP//////A0CQzMzMzMwEQFyZmZmZmQVAKGZmZmZmBkD0MjMzMzMHQMD//////wdAjMzMzMzMCEBYmZmZmZkJQCRmZmZmZgpA8DIzMzMzC0C8//////8LQIjMzMzMzAxAVJmZmZmZDUAgZmZmZmYOQOwyMzMzMw9AuP//////D0BCZmZmZmYQQKjMzMzMzBBADjMzMzMzEUB0mZmZmZkRQNr//////xFAQGZmZmZmEkCmzMzMzMwSQAwzMzMzMxNAcpmZmZmZE0DY//////8TQA==\",\"dtype\":\"float64\",\"shape\":[101]},\"y\":{\"__ndarray__\":\"AAAAAAAAR0CRwvUoXA9GQKZwPQrXI0VAQArXo3A9REBgj8L1KFxDQAUAAAAAgEJALlyPwvWoQUDco3A9CtdAQBHXo3A9CkBAlOtRuB6FPkAPAAAAAAA9QJbrUbgehTtAJq5H4XoUOkDAR+F6FK44QGW4HoXrUTdAFAAAAAAANkDMHoXrUbg0QJAUrkfhejNAXeF6FK5HMkA0hetRuB4xQBYAAAAAADBAA6RwPQrXLUDv9Shcj8IrQPD1KFyPwilABKRwPQrXJ0AtAAAAAAAmQGoK16NwPSRAvML1KFyPIkAhKVyPwvUgQDh7FK5H4R5AVAAAAAAAHECa4XoUrkcZQAgfhetRuBZAnrgehetRFEBerkfhehQSQEYAAAAAABBArVyPwvUoDEAgcT0K16MIQOQ9CtejcAVA+cL1KFyPAkBgAAAAAAAAQDDsUbgehfs/QkjhehSu9z/2FK5H4Xr0P05SuB6F6/E/SAAAAAAA8D/JPQrXo3DtP0dcj8L1KOw/ClyPwvUo7D8SPQrXo3DtP2D//////+8/eVG4HoXr8T/lE65H4Xr0P/RG4XoUrvc/pOpRuB6F+z/4/v//////P/fB9ShcjwJAwzwK16NwBUDhbz0K16MIQFBbj8L1KAxAEP//////D0CQrUfhehQSQMK3HoXrURRAHB6F61G4FkCe4HoUrkcZQEr//////xtAHnoUrkfhHkCNKFyPwvUgQCDC9ShcjyJAxwnXo3A9JECC//////8lQFKjcD0K1ydANfUoXI/CKUAu9Shcj8IrQDqjcD0K1y1AW///////L0DIhOtRuB4xQO3gehSuRzJAHBSuR+F6M0BUHoXrUbg0QJj//////zVA5rcehetRN0A9R+F6FK44QJ6tR+F6FDpACutRuB6FO0CA//////88QAHrUbgehT5AxtajcD0KQECQo3A9CtdAQN9bj8L1qEFAtP////9/QkANj8L1KFxDQOwJ16NwPURAT3A9CtcjRUA4wvUoXA9GQKb//////0ZAmShcj8L1R0ARPQrXo/BIQA49Ctej8ElAkChcj8L1SkCX//////9LQA==\",\"dtype\":\"float64\",\"shape\":[101]}},\"selected\":{\"id\":\"779e133b-3a48-4b2c-9d90-3776ed744c35\",\"type\":\"Selection\"},\"selection_policy\":{\"id\":\"93e6c5e3-8d7b-4559-873a-e1064adafa01\",\"type\":\"UnionRenderers\"}},\"id\":\"1970dcf2-7f78-4303-bcd8-605157d44280\",\"type\":\"ColumnDataSource\"},{\"attributes\":{\"callback\":null},\"id\":\"8dc5e06d-3d6d-4016-9302-b5f5701a731a\",\"type\":\"DataRange1d\"},{\"attributes\":{},\"id\":\"f57e0901-ccf6-4ba8-8ef5-be46f969d307\",\"type\":\"BasicTickFormatter\"},{\"attributes\":{},\"id\":\"a5e1e3cb-3071-464e-9060-523b5fbc12b7\",\"type\":\"BasicTicker\"},{\"attributes\":{\"callback\":null,\"renderers\":\"auto\",\"tooltips\":[[\"out\",\"$y\"],[\"x\",\"$x\"]]},\"id\":\"25fca2b6-ea07-473c-aea6-586571517a5d\",\"type\":\"HoverTool\"},{\"attributes\":{\"data_source\":{\"id\":\"1970dcf2-7f78-4303-bcd8-605157d44280\",\"type\":\"ColumnDataSource\"},\"glyph\":{\"id\":\"f4226233-d778-4a26-91c6-b68d3e1c2077\",\"type\":\"Line\"},\"hover_glyph\":null,\"muted_glyph\":null,\"nonselection_glyph\":{\"id\":\"eb39f943-50c4-42aa-ac31-dfdc777d93ce\",\"type\":\"Line\"},\"selection_glyph\":null,\"view\":{\"id\":\"767da1a7-b3fb-4a99-b0ab-2a2d6417deec\",\"type\":\"CDSView\"}},\"id\":\"d2cd70fa-df15-4a25-a4bc-d08ef8f6d9e6\",\"type\":\"GlyphRenderer\"},{\"attributes\":{\"source\":{\"id\":\"c225fbc5-d624-4dab-a7af-e19e94a7efb9\",\"type\":\"ColumnDataSource\"}},\"id\":\"d7a1b4cb-f96f-41cc-b576-fb0b177df64f\",\"type\":\"CDSView\"},{\"attributes\":{\"plot\":null,\"text\":\"\"},\"id\":\"03dba1d5-5a64-49fe-a284-cbc5742c999d\",\"type\":\"Title\"},{\"attributes\":{},\"id\":\"779e133b-3a48-4b2c-9d90-3776ed744c35\",\"type\":\"Selection\"},{\"attributes\":{\"axis_label\":\"X\",\"formatter\":{\"id\":\"0a8db674-c9d8-4cc2-8d97-6c0413e2c78a\",\"type\":\"BasicTickFormatter\"},\"plot\":{\"id\":\"2c1a1e0c-ced9-4097-8f1e-48e0d302e916\",\"subtype\":\"Figure\",\"type\":\"Plot\"},\"ticker\":{\"id\":\"a5144059-6e66-4c41-92c1-7bd772f58d84\",\"type\":\"BasicTicker\"}},\"id\":\"c1691a9d-1bda-4360-bd38-59b6ad475a4d\",\"type\":\"LinearAxis\"},{\"attributes\":{\"dimension\":1,\"plot\":{\"id\":\"2c1a1e0c-ced9-4097-8f1e-48e0d302e916\",\"subtype\":\"Figure\",\"type\":\"Plot\"},\"ticker\":{\"id\":\"a5e1e3cb-3071-464e-9060-523b5fbc12b7\",\"type\":\"BasicTicker\"}},\"id\":\"304afd03-d9c9-4b30-92c9-b13b15aec127\",\"type\":\"Grid\"},{\"attributes\":{},\"id\":\"3e895843-e239-47ef-9a55-07142040eb95\",\"type\":\"WheelZoomTool\"},{\"attributes\":{\"data_source\":{\"id\":\"c225fbc5-d624-4dab-a7af-e19e94a7efb9\",\"type\":\"ColumnDataSource\"},\"glyph\":{\"id\":\"be649489-130e-415f-aa6a-242979e9e806\",\"type\":\"Circle\"},\"hover_glyph\":null,\"muted_glyph\":null,\"nonselection_glyph\":{\"id\":\"a918a8d3-250e-4e9f-bc92-e66881a0c3b4\",\"type\":\"Circle\"},\"selection_glyph\":null,\"view\":{\"id\":\"d7a1b4cb-f96f-41cc-b576-fb0b177df64f\",\"type\":\"CDSView\"}},\"id\":\"050058b8-942a-46c1-aa92-1dff610ed7a0\",\"type\":\"GlyphRenderer\"},{\"attributes\":{},\"id\":\"93e6c5e3-8d7b-4559-873a-e1064adafa01\",\"type\":\"UnionRenderers\"},{\"attributes\":{},\"id\":\"0a8db674-c9d8-4cc2-8d97-6c0413e2c78a\",\"type\":\"BasicTickFormatter\"},{\"attributes\":{\"callback\":null,\"data\":{\"x\":[-0.25]},\"selected\":{\"id\":\"3b08997f-3984-42eb-aa7b-22fc90554cf4\",\"type\":\"Selection\"},\"selection_policy\":{\"id\":\"3d8bc390-2727-4810-8825-389843874d7f\",\"type\":\"UnionRenderers\"}},\"id\":\"c225fbc5-d624-4dab-a7af-e19e94a7efb9\",\"type\":\"ColumnDataSource\"},{\"attributes\":{\"line_alpha\":0.1,\"line_color\":\"#1f77b4\",\"line_width\":3,\"x\":{\"field\":\"x\"},\"y\":{\"field\":\"y\"}},\"id\":\"eb39f943-50c4-42aa-ac31-dfdc777d93ce\",\"type\":\"Line\"},{\"attributes\":{\"axis_label\":\"f(x)\",\"formatter\":{\"id\":\"f57e0901-ccf6-4ba8-8ef5-be46f969d307\",\"type\":\"BasicTickFormatter\"},\"plot\":{\"id\":\"2c1a1e0c-ced9-4097-8f1e-48e0d302e916\",\"subtype\":\"Figure\",\"type\":\"Plot\"},\"ticker\":{\"id\":\"a5e1e3cb-3071-464e-9060-523b5fbc12b7\",\"type\":\"BasicTicker\"}},\"id\":\"cdf5d5d6-1bbe-47b3-bd71-733614e639b2\",\"type\":\"LinearAxis\"},{\"attributes\":{\"callback\":null},\"id\":\"e7df7b5f-faf6-4d22-a15b-1a7743247095\",\"type\":\"DataRange1d\"},{\"attributes\":{\"below\":[{\"id\":\"c1691a9d-1bda-4360-bd38-59b6ad475a4d\",\"type\":\"LinearAxis\"}],\"left\":[{\"id\":\"cdf5d5d6-1bbe-47b3-bd71-733614e639b2\",\"type\":\"LinearAxis\"}],\"plot_height\":300,\"plot_width\":700,\"renderers\":[{\"id\":\"c1691a9d-1bda-4360-bd38-59b6ad475a4d\",\"type\":\"LinearAxis\"},{\"id\":\"a6626779-5199-41fb-a69c-ea4019ef5ebb\",\"type\":\"Grid\"},{\"id\":\"cdf5d5d6-1bbe-47b3-bd71-733614e639b2\",\"type\":\"LinearAxis\"},{\"id\":\"304afd03-d9c9-4b30-92c9-b13b15aec127\",\"type\":\"Grid\"},{\"id\":\"8eda15b6-ac9d-4957-a9bd-d74423364848\",\"type\":\"Span\"},{\"id\":\"d2cd70fa-df15-4a25-a4bc-d08ef8f6d9e6\",\"type\":\"GlyphRenderer\"},{\"id\":\"050058b8-942a-46c1-aa92-1dff610ed7a0\",\"type\":\"GlyphRenderer\"}],\"title\":{\"id\":\"03dba1d5-5a64-49fe-a284-cbc5742c999d\",\"type\":\"Title\"},\"toolbar\":{\"id\":\"5cc07427-e3d3-46fb-acc3-cc9cefe876ff\",\"type\":\"Toolbar\"},\"toolbar_location\":\"above\",\"x_range\":{\"id\":\"e7df7b5f-faf6-4d22-a15b-1a7743247095\",\"type\":\"DataRange1d\"},\"x_scale\":{\"id\":\"6a67f340-e63a-4272-bb7a-4e5b4d3381b8\",\"type\":\"LinearScale\"},\"y_range\":{\"id\":\"8dc5e06d-3d6d-4016-9302-b5f5701a731a\",\"type\":\"DataRange1d\"},\"y_scale\":{\"id\":\"74a563ed-1d45-48e6-875e-79a7e1000885\",\"type\":\"LinearScale\"}},\"id\":\"2c1a1e0c-ced9-4097-8f1e-48e0d302e916\",\"subtype\":\"Figure\",\"type\":\"Plot\"},{\"attributes\":{\"fill_color\":{\"value\":\"black\"},\"size\":{\"units\":\"screen\",\"value\":7},\"x\":{\"field\":\"x\"},\"y\":{\"value\":0.875}},\"id\":\"be649489-130e-415f-aa6a-242979e9e806\",\"type\":\"Circle\"},{\"attributes\":{},\"id\":\"3b08997f-3984-42eb-aa7b-22fc90554cf4\",\"type\":\"Selection\"},{\"attributes\":{\"line_color\":{\"value\":\"grey\"},\"location\":0,\"plot\":null},\"id\":\"8eda15b6-ac9d-4957-a9bd-d74423364848\",\"type\":\"Span\"},{\"attributes\":{},\"id\":\"3d8bc390-2727-4810-8825-389843874d7f\",\"type\":\"UnionRenderers\"},{\"attributes\":{\"fill_alpha\":{\"value\":0.1},\"fill_color\":{\"value\":\"#1f77b4\"},\"line_alpha\":{\"value\":0.1},\"line_color\":{\"value\":\"#1f77b4\"},\"size\":{\"units\":\"screen\",\"value\":7},\"x\":{\"field\":\"x\"},\"y\":{\"value\":0.875}},\"id\":\"a918a8d3-250e-4e9f-bc92-e66881a0c3b4\",\"type\":\"Circle\"},{\"attributes\":{\"plot\":{\"id\":\"2c1a1e0c-ced9-4097-8f1e-48e0d302e916\",\"subtype\":\"Figure\",\"type\":\"Plot\"},\"ticker\":{\"id\":\"a5144059-6e66-4c41-92c1-7bd772f58d84\",\"type\":\"BasicTicker\"}},\"id\":\"a6626779-5199-41fb-a69c-ea4019ef5ebb\",\"type\":\"Grid\"},{\"attributes\":{},\"id\":\"cc8be3e5-57b7-4637-875c-712fcfdced83\",\"type\":\"PanTool\"},{\"attributes\":{},\"id\":\"e2889694-93cb-4cea-a8f1-7d8b7b860601\",\"type\":\"ResetTool\"},{\"attributes\":{\"active_drag\":\"auto\",\"active_inspect\":\"auto\",\"active_multi\":null,\"active_scroll\":\"auto\",\"active_tap\":\"auto\",\"tools\":[{\"id\":\"cc8be3e5-57b7-4637-875c-712fcfdced83\",\"type\":\"PanTool\"},{\"id\":\"25fca2b6-ea07-473c-aea6-586571517a5d\",\"type\":\"HoverTool\"},{\"id\":\"3e895843-e239-47ef-9a55-07142040eb95\",\"type\":\"WheelZoomTool\"},{\"id\":\"e2889694-93cb-4cea-a8f1-7d8b7b860601\",\"type\":\"ResetTool\"}]},\"id\":\"5cc07427-e3d3-46fb-acc3-cc9cefe876ff\",\"type\":\"Toolbar\"},{\"attributes\":{\"source\":{\"id\":\"1970dcf2-7f78-4303-bcd8-605157d44280\",\"type\":\"ColumnDataSource\"}},\"id\":\"767da1a7-b3fb-4a99-b0ab-2a2d6417deec\",\"type\":\"CDSView\"},{\"attributes\":{},\"id\":\"74a563ed-1d45-48e6-875e-79a7e1000885\",\"type\":\"LinearScale\"}],\"root_ids\":[\"2c1a1e0c-ced9-4097-8f1e-48e0d302e916\"]},\"title\":\"Bokeh Application\",\"version\":\"0.13.0\"}};\n",
       "  var render_items = [{\"docid\":\"8f1f8d8a-1783-4f87-bbe9-2b22edaa8baa\",\"roots\":{\"2c1a1e0c-ced9-4097-8f1e-48e0d302e916\":\"83c14984-6ea2-4f8c-bc1d-ae168213d943\"}}];\n",
       "  root.Bokeh.embed.embed_items_notebook(docs_json, render_items);\n",
       "\n",
       "  }\n",
       "  if (root.Bokeh !== undefined) {\n",
       "    embed_document(root);\n",
       "  } else {\n",
       "    var attempts = 0;\n",
       "    var timer = setInterval(function(root) {\n",
       "      if (root.Bokeh !== undefined) {\n",
       "        embed_document(root);\n",
       "        clearInterval(timer);\n",
       "      }\n",
       "      attempts++;\n",
       "      if (attempts > 100) {\n",
       "        console.log(\"Bokeh: ERROR: Unable to run BokehJS code because BokehJS library is missing\")\n",
       "        clearInterval(timer);\n",
       "      }\n",
       "    }, 10, root)\n",
       "  }\n",
       "})(window);"
      ],
      "application/vnd.bokehjs_exec.v0+json": ""
     },
     "metadata": {
      "application/vnd.bokehjs_exec.v0+json": {
       "id": "2c1a1e0c-ced9-4097-8f1e-48e0d302e916"
      }
     },
     "output_type": "display_data"
    }
   ],
   "source": [
    "w = lambda x: 2*x**2 + x + 1\n",
    "p = plot(h=300,w=700)\n",
    "p.line(x,w(x),line_width=3,alpha=.4)\n",
    "p.scatter([-.25],w(-.25),size=7,color=\"black\")\n",
    "show(p)"
   ]
  },
  {
   "cell_type": "markdown",
   "metadata": {},
   "source": [
    "As we'll see below, we can get more precise about this definition by using higher order derivatives."
   ]
  },
  {
   "cell_type": "markdown",
   "metadata": {},
   "source": [
    "## Local vs. Global Extremum"
   ]
  },
  {
   "cell_type": "markdown",
   "metadata": {},
   "source": [
    "A **local** extremum is the largest/smallest value of a function over some interval of values in the domain of the function (i.e. over some interval on the x-axis). A **global** extremem is the largest/smallest point on _all_ values of the function\n",
    "\n",
    "Consider again $h(x)$, which is plotted above. Of it's extrema, which are global and which are local?"
   ]
  },
  {
   "cell_type": "code",
   "execution_count": 14,
   "metadata": {},
   "outputs": [
    {
     "data": {
      "text/html": [
       "\n",
       "\n",
       "\n",
       "\n",
       "\n",
       "\n",
       "  <div class=\"bk-root\" id=\"0273180b-2cfe-434e-b7b0-a1867ed77266\"></div>\n"
      ]
     },
     "metadata": {},
     "output_type": "display_data"
    },
    {
     "data": {
      "application/javascript": [
       "(function(root) {\n",
       "  function embed_document(root) {\n",
       "    \n",
       "  var docs_json = {\"806226e0-7f0e-4775-b699-207f9da2570d\":{\"roots\":{\"references\":[{\"attributes\":{},\"id\":\"c22ccdbd-93bc-4e48-a89e-2b8bc9a23be2\",\"type\":\"BasicTicker\"},{\"attributes\":{},\"id\":\"de3962fa-d506-48f0-b44e-ad1b8f20e4d4\",\"type\":\"ResetTool\"},{\"attributes\":{},\"id\":\"8a772809-1014-49b0-b00f-86c742bc35d7\",\"type\":\"WheelZoomTool\"},{\"attributes\":{\"callback\":null},\"id\":\"3eed9744-8ec0-468a-ae25-305eb2feeb90\",\"type\":\"DataRange1d\"},{\"attributes\":{\"label\":{\"value\":\"h(x)\"},\"renderers\":[{\"id\":\"7e7e4d3c-fa8b-4ddd-9788-e843b34dc03b\",\"type\":\"GlyphRenderer\"}]},\"id\":\"d0d19e72-2cbc-4502-b001-174064a4699c\",\"type\":\"LegendItem\"},{\"attributes\":{\"callback\":null,\"data\":{\"x\":{\"__ndarray__\":\"AAAAAAAAFMCamZmZmZkTwDQzMzMzMxPAzszMzMzMEsBoZmZmZmYSwAIAAAAAABLAnJmZmZmZEcA2MzMzMzMRwNDMzMzMzBDAamZmZmZmEMAEAAAAAAAQwDwzMzMzMw/AcGZmZmZmDsCkmZmZmZkNwNjMzMzMzAzADAAAAAAADMBAMzMzMzMLwHRmZmZmZgrAqJmZmZmZCcDczMzMzMwIwBAAAAAAAAjARDMzMzMzB8B4ZmZmZmYGwKyZmZmZmQXA4MzMzMzMBMAUAAAAAAAEwEgzMzMzMwPAfGZmZmZmAsCwmZmZmZkBwOTMzMzMzADAGAAAAAAAAMCYZmZmZmb+vwDNzMzMzPy/aDMzMzMz+7/QmZmZmZn5vzgAAAAAAPi/oGZmZmZm9r8IzczMzMz0v3AzMzMzM/O/2JmZmZmZ8b9AAAAAAADwv1DNzMzMzOy/IJqZmZmZ6b/wZmZmZmbmv8AzMzMzM+O/kAAAAAAA4L/AmpmZmZnZv2A0MzMzM9O/AJyZmZmZyb+AnpmZmZm5vwAAAAAAABS9gJSZmZmZuT8Al5mZmZnJP+AxMzMzM9M/QJiZmZmZ2T+g/v/////fP4AyMzMzM+M/sGVmZmZm5j/gmJmZmZnpPxDMzMzMzOw/QP//////7z84mZmZmZnxP9AyMzMzM/M/aMzMzMzM9D8AZmZmZmb2P5j///////c/MJmZmZmZ+T/IMjMzMzP7P2DMzMzMzPw/+GVmZmZm/j+Q////////P5TMzMzMzABAYJmZmZmZAUAsZmZmZmYCQPgyMzMzMwNAxP//////A0CQzMzMzMwEQFyZmZmZmQVAKGZmZmZmBkD0MjMzMzMHQMD//////wdAjMzMzMzMCEBYmZmZmZkJQCRmZmZmZgpA8DIzMzMzC0C8//////8LQIjMzMzMzAxAVJmZmZmZDUAgZmZmZmYOQOwyMzMzMw9AuP//////D0BCZmZmZmYQQKjMzMzMzBBADjMzMzMzEUB0mZmZmZkRQNr//////xFAQGZmZmZmEkCmzMzMzMwSQAwzMzMzMxNAcpmZmZmZE0DY//////8TQA==\",\"dtype\":\"float64\",\"shape\":[101]},\"y\":{\"__ndarray__\":\"kB2GzGaxBkCgzsR2wT79P2hNxDYz4eo/cnp+deTPvb8NflMfRILwv9VE477GWv6/aTwGPOCiBcDOsqQWMpMLwN0O/AgHeRDAQzvThK7aEsCuJNsGpuoUwNJDwJ8qphbAaeADi6ALGMB7Aq4TkBoZwBVb8NWe0xnAD/dIg4U4GsAdu0NZAkwawOOc1oTIERrA0G9htWyOGcDTwHwqT8cYwHRs5I6DwhfA4VvW+LaGFsCImyNtFBsVwDbc5EUohxPApjg64MLSEcBcd7P12gUQwM/74AvgUAzAqmp3Z9qECMBk8q/sGbcEwCWnBvh79gDA23JTVyai+r82dr7876fzv5uO1GB2LOq/s+7gH1wJ3L8ng7Jqleu3v33xqPe/Kcs/QxEb1EZ13j/6+zbUgkHmP3iReks+1Os/ROp0B+Tu7z9lBrUPKErxP9wxhIcB5/E/Lq0n5e/V8T+rIdY56SHxPwihIxVhse8/CH5bBigV7D90tq/sQ5TnP0FtT3+rV+I/1x353fYW2T+h5Oz623jJPwAAAAAAACQ9x9rs+tt4yb8jGfnd9hbZvxZrT3+rV+K/irSv7EOU579vfFsGKBXsv9GfIxVhse+/RyHWOekh8b8HrSfl79Xxv/cxhIcB5/G/xga1DyhK8b+V63QH5O7vv12Teks+1Ou/cP421IJB5r9QFxvURnXev7//qPe/Kcu/lWKyapXrtz+f5eAfXAncP6iJ1GB2LOo/j3O+/O+n8z8QcFNXJqL6P7GlBvh79gBA6fCv7Bm3BEAtaXdn2oQIQFb64AvgUAxApXaz9doFEED2NzrgwtIRQJHb5EUohxNA8pojbRQbFUBbW9b4toYWQANs5I6DwhdAecB8Kk/HGECPb2G1bI4ZQL6c1oTIERpAFrtDWQJMGkAn90iDhTgaQE1b8NWe0xlA1QKuE5AaGUDk4AOLoAsYQG9EwJ8qphZAbCXbBqbqFEAiPNOErtoSQNsP/AgHeRBABLWkFjKTC0DVPgY84KIFQBFK477GWv4/n4NTH0SC8D8w2H515M+9PzpBxDYz4eq/YcjEdsE+/b9kGobMZrEGwA==\",\"dtype\":\"float64\",\"shape\":[101]}},\"selected\":{\"id\":\"91725019-c737-423e-b599-3e3f7c48ebd6\",\"type\":\"Selection\"},\"selection_policy\":{\"id\":\"75bad4f6-8a0f-4ea6-ac14-23024002baea\",\"type\":\"UnionRenderers\"}},\"id\":\"a19e6e7d-5679-410c-b8df-af1127f5b38d\",\"type\":\"ColumnDataSource\"},{\"attributes\":{},\"id\":\"42e8df0d-4def-4a8b-a06f-49146c9c780d\",\"type\":\"PanTool\"},{\"attributes\":{\"callback\":null,\"renderers\":\"auto\",\"tooltips\":[[\"out\",\"$y\"],[\"x\",\"$x\"]]},\"id\":\"045866f8-0f58-4018-a837-cfca26c86088\",\"type\":\"HoverTool\"},{\"attributes\":{},\"id\":\"6265a83d-ac16-4006-8a42-f29fc94bf408\",\"type\":\"BasicTickFormatter\"},{\"attributes\":{\"fill_color\":{\"value\":\"black\"},\"size\":{\"units\":\"screen\",\"value\":10},\"x\":{\"field\":\"x\"},\"y\":{\"field\":\"y\"}},\"id\":\"b81d25d6-dbfb-467f-bb2a-029a1b82bc0c\",\"type\":\"Circle\"},{\"attributes\":{},\"id\":\"8323b4d2-c24b-4258-bfc9-4dce415a7ad6\",\"type\":\"BasicTicker\"},{\"attributes\":{\"callback\":null},\"id\":\"85674f92-65b4-430f-a77c-ba4ad07db657\",\"type\":\"DataRange1d\"},{\"attributes\":{},\"id\":\"39de18d2-f736-446e-9afc-27e33b28e0dc\",\"type\":\"BasicTickFormatter\"},{\"attributes\":{\"dimension\":1,\"plot\":{\"id\":\"e1619d66-1db5-46ca-80ca-15d908f99e2c\",\"subtype\":\"Figure\",\"type\":\"Plot\"},\"ticker\":{\"id\":\"c22ccdbd-93bc-4e48-a89e-2b8bc9a23be2\",\"type\":\"BasicTicker\"}},\"id\":\"a548f44b-eb6b-428b-9e79-040eeb4cf1cc\",\"type\":\"Grid\"},{\"attributes\":{\"fill_alpha\":{\"value\":0.1},\"fill_color\":{\"value\":\"#1f77b4\"},\"line_alpha\":{\"value\":0.1},\"line_color\":{\"value\":\"#1f77b4\"},\"size\":{\"units\":\"screen\",\"value\":10},\"x\":{\"field\":\"x\"},\"y\":{\"field\":\"y\"}},\"id\":\"943c1db5-baa9-4898-89e9-91a74f265cf0\",\"type\":\"Circle\"},{\"attributes\":{\"source\":{\"id\":\"a19e6e7d-5679-410c-b8df-af1127f5b38d\",\"type\":\"ColumnDataSource\"}},\"id\":\"e8792090-230d-4e75-b27a-242ce3a8fc73\",\"type\":\"CDSView\"},{\"attributes\":{},\"id\":\"6fbccba3-9571-4927-8e1b-d5c3bda65ac4\",\"type\":\"Selection\"},{\"attributes\":{\"data_source\":{\"id\":\"a19e6e7d-5679-410c-b8df-af1127f5b38d\",\"type\":\"ColumnDataSource\"},\"glyph\":{\"id\":\"d33ce1e4-e89d-49ce-9db0-40d75aa2c557\",\"type\":\"Line\"},\"hover_glyph\":null,\"muted_glyph\":null,\"nonselection_glyph\":{\"id\":\"d0b52217-723d-4dd6-9dca-44fb6f8b121d\",\"type\":\"Line\"},\"selection_glyph\":null,\"view\":{\"id\":\"e8792090-230d-4e75-b27a-242ce3a8fc73\",\"type\":\"CDSView\"}},\"id\":\"7e7e4d3c-fa8b-4ddd-9788-e843b34dc03b\",\"type\":\"GlyphRenderer\"},{\"attributes\":{\"empty_value\":\"black\",\"renderers\":[{\"id\":\"67e617d8-3efa-454b-ba43-cb599bc36444\",\"type\":\"GlyphRenderer\"}]},\"id\":\"086c94af-59cc-431f-9836-cae80dd516e8\",\"type\":\"PointDrawTool\"},{\"attributes\":{},\"id\":\"91725019-c737-423e-b599-3e3f7c48ebd6\",\"type\":\"Selection\"},{\"attributes\":{\"items\":[{\"id\":\"d0d19e72-2cbc-4502-b001-174064a4699c\",\"type\":\"LegendItem\"}],\"plot\":{\"id\":\"e1619d66-1db5-46ca-80ca-15d908f99e2c\",\"subtype\":\"Figure\",\"type\":\"Plot\"}},\"id\":\"56af1e5e-610e-48fc-830b-111038b7c651\",\"type\":\"Legend\"},{\"attributes\":{\"below\":[{\"id\":\"0cce5f5c-0ae3-4cbd-a795-1af717351134\",\"type\":\"LinearAxis\"}],\"left\":[{\"id\":\"5bac4e98-0d79-453d-9eaf-416ca7322b9c\",\"type\":\"LinearAxis\"}],\"plot_height\":300,\"plot_width\":700,\"renderers\":[{\"id\":\"0cce5f5c-0ae3-4cbd-a795-1af717351134\",\"type\":\"LinearAxis\"},{\"id\":\"377b2ee2-0ed9-4e52-8715-9c21c264c6c8\",\"type\":\"Grid\"},{\"id\":\"5bac4e98-0d79-453d-9eaf-416ca7322b9c\",\"type\":\"LinearAxis\"},{\"id\":\"a548f44b-eb6b-428b-9e79-040eeb4cf1cc\",\"type\":\"Grid\"},{\"id\":\"20a33f8f-2a4c-4297-8dfc-3573d0d4bb17\",\"type\":\"Span\"},{\"id\":\"56af1e5e-610e-48fc-830b-111038b7c651\",\"type\":\"Legend\"},{\"id\":\"7e7e4d3c-fa8b-4ddd-9788-e843b34dc03b\",\"type\":\"GlyphRenderer\"},{\"id\":\"67e617d8-3efa-454b-ba43-cb599bc36444\",\"type\":\"GlyphRenderer\"}],\"title\":{\"id\":\"681e9737-03f1-4dcc-9678-8aa3577755c2\",\"type\":\"Title\"},\"toolbar\":{\"id\":\"ddaf38f2-7c26-40e4-ba39-ef658e3ad1ce\",\"type\":\"Toolbar\"},\"toolbar_location\":\"above\",\"x_range\":{\"id\":\"85674f92-65b4-430f-a77c-ba4ad07db657\",\"type\":\"DataRange1d\"},\"x_scale\":{\"id\":\"db74f147-69c1-4071-a41e-133080b9433b\",\"type\":\"LinearScale\"},\"y_range\":{\"id\":\"3eed9744-8ec0-468a-ae25-305eb2feeb90\",\"type\":\"DataRange1d\"},\"y_scale\":{\"id\":\"c10c1baa-fe2d-45a4-8be0-1269a681627e\",\"type\":\"LinearScale\"}},\"id\":\"e1619d66-1db5-46ca-80ca-15d908f99e2c\",\"subtype\":\"Figure\",\"type\":\"Plot\"},{\"attributes\":{\"source\":{\"id\":\"0e434dbc-e91f-4993-8e84-9de831204217\",\"type\":\"ColumnDataSource\"}},\"id\":\"7d5f9191-0fd0-4c77-b260-bdd09c3458c3\",\"type\":\"CDSView\"},{\"attributes\":{\"line_alpha\":0.5,\"line_color\":\"orange\",\"line_width\":3,\"x\":{\"field\":\"x\"},\"y\":{\"field\":\"y\"}},\"id\":\"d33ce1e4-e89d-49ce-9db0-40d75aa2c557\",\"type\":\"Line\"},{\"attributes\":{\"plot\":{\"id\":\"e1619d66-1db5-46ca-80ca-15d908f99e2c\",\"subtype\":\"Figure\",\"type\":\"Plot\"},\"ticker\":{\"id\":\"8323b4d2-c24b-4258-bfc9-4dce415a7ad6\",\"type\":\"BasicTicker\"}},\"id\":\"377b2ee2-0ed9-4e52-8715-9c21c264c6c8\",\"type\":\"Grid\"},{\"attributes\":{\"data_source\":{\"id\":\"0e434dbc-e91f-4993-8e84-9de831204217\",\"type\":\"ColumnDataSource\"},\"glyph\":{\"id\":\"b81d25d6-dbfb-467f-bb2a-029a1b82bc0c\",\"type\":\"Circle\"},\"hover_glyph\":null,\"muted_glyph\":null,\"nonselection_glyph\":{\"id\":\"943c1db5-baa9-4898-89e9-91a74f265cf0\",\"type\":\"Circle\"},\"selection_glyph\":null,\"view\":{\"id\":\"7d5f9191-0fd0-4c77-b260-bdd09c3458c3\",\"type\":\"CDSView\"}},\"id\":\"67e617d8-3efa-454b-ba43-cb599bc36444\",\"type\":\"GlyphRenderer\"},{\"attributes\":{},\"id\":\"db74f147-69c1-4071-a41e-133080b9433b\",\"type\":\"LinearScale\"},{\"attributes\":{},\"id\":\"8694e898-5618-4a45-a9dc-38bfa7f182b3\",\"type\":\"UnionRenderers\"},{\"attributes\":{\"plot\":null,\"text\":\"h(x) for x in [-5,5]\"},\"id\":\"681e9737-03f1-4dcc-9678-8aa3577755c2\",\"type\":\"Title\"},{\"attributes\":{\"axis_label\":\"X\",\"formatter\":{\"id\":\"6265a83d-ac16-4006-8a42-f29fc94bf408\",\"type\":\"BasicTickFormatter\"},\"plot\":{\"id\":\"e1619d66-1db5-46ca-80ca-15d908f99e2c\",\"subtype\":\"Figure\",\"type\":\"Plot\"},\"ticker\":{\"id\":\"8323b4d2-c24b-4258-bfc9-4dce415a7ad6\",\"type\":\"BasicTicker\"}},\"id\":\"0cce5f5c-0ae3-4cbd-a795-1af717351134\",\"type\":\"LinearAxis\"},{\"attributes\":{},\"id\":\"75bad4f6-8a0f-4ea6-ac14-23024002baea\",\"type\":\"UnionRenderers\"},{\"attributes\":{\"line_alpha\":0.1,\"line_color\":\"#1f77b4\",\"line_width\":3,\"x\":{\"field\":\"x\"},\"y\":{\"field\":\"y\"}},\"id\":\"d0b52217-723d-4dd6-9dca-44fb6f8b121d\",\"type\":\"Line\"},{\"attributes\":{\"axis_label\":\"f(x)\",\"formatter\":{\"id\":\"39de18d2-f736-446e-9afc-27e33b28e0dc\",\"type\":\"BasicTickFormatter\"},\"plot\":{\"id\":\"e1619d66-1db5-46ca-80ca-15d908f99e2c\",\"subtype\":\"Figure\",\"type\":\"Plot\"},\"ticker\":{\"id\":\"c22ccdbd-93bc-4e48-a89e-2b8bc9a23be2\",\"type\":\"BasicTicker\"}},\"id\":\"5bac4e98-0d79-453d-9eaf-416ca7322b9c\",\"type\":\"LinearAxis\"},{\"attributes\":{\"callback\":null,\"data\":{\"x\":[],\"y\":[]},\"selected\":{\"id\":\"6fbccba3-9571-4927-8e1b-d5c3bda65ac4\",\"type\":\"Selection\"},\"selection_policy\":{\"id\":\"8694e898-5618-4a45-a9dc-38bfa7f182b3\",\"type\":\"UnionRenderers\"}},\"id\":\"0e434dbc-e91f-4993-8e84-9de831204217\",\"type\":\"ColumnDataSource\"},{\"attributes\":{\"active_drag\":\"auto\",\"active_inspect\":\"auto\",\"active_multi\":null,\"active_scroll\":\"auto\",\"active_tap\":{\"id\":\"086c94af-59cc-431f-9836-cae80dd516e8\",\"type\":\"PointDrawTool\"},\"tools\":[{\"id\":\"42e8df0d-4def-4a8b-a06f-49146c9c780d\",\"type\":\"PanTool\"},{\"id\":\"045866f8-0f58-4018-a837-cfca26c86088\",\"type\":\"HoverTool\"},{\"id\":\"8a772809-1014-49b0-b00f-86c742bc35d7\",\"type\":\"WheelZoomTool\"},{\"id\":\"de3962fa-d506-48f0-b44e-ad1b8f20e4d4\",\"type\":\"ResetTool\"},{\"id\":\"086c94af-59cc-431f-9836-cae80dd516e8\",\"type\":\"PointDrawTool\"}]},\"id\":\"ddaf38f2-7c26-40e4-ba39-ef658e3ad1ce\",\"type\":\"Toolbar\"},{\"attributes\":{\"line_color\":{\"value\":\"grey\"},\"location\":0,\"plot\":null},\"id\":\"20a33f8f-2a4c-4297-8dfc-3573d0d4bb17\",\"type\":\"Span\"},{\"attributes\":{},\"id\":\"c10c1baa-fe2d-45a4-8be0-1269a681627e\",\"type\":\"LinearScale\"}],\"root_ids\":[\"e1619d66-1db5-46ca-80ca-15d908f99e2c\"]},\"title\":\"Bokeh Application\",\"version\":\"0.13.0\"}};\n",
       "  var render_items = [{\"docid\":\"806226e0-7f0e-4775-b699-207f9da2570d\",\"roots\":{\"e1619d66-1db5-46ca-80ca-15d908f99e2c\":\"0273180b-2cfe-434e-b7b0-a1867ed77266\"}}];\n",
       "  root.Bokeh.embed.embed_items_notebook(docs_json, render_items);\n",
       "\n",
       "  }\n",
       "  if (root.Bokeh !== undefined) {\n",
       "    embed_document(root);\n",
       "  } else {\n",
       "    var attempts = 0;\n",
       "    var timer = setInterval(function(root) {\n",
       "      if (root.Bokeh !== undefined) {\n",
       "        embed_document(root);\n",
       "        clearInterval(timer);\n",
       "      }\n",
       "      attempts++;\n",
       "      if (attempts > 100) {\n",
       "        console.log(\"Bokeh: ERROR: Unable to run BokehJS code because BokehJS library is missing\")\n",
       "        clearInterval(timer);\n",
       "      }\n",
       "    }, 10, root)\n",
       "  }\n",
       "})(window);"
      ],
      "application/vnd.bokehjs_exec.v0+json": ""
     },
     "metadata": {
      "application/vnd.bokehjs_exec.v0+json": {
       "id": "e1619d66-1db5-46ca-80ca-15d908f99e2c"
      }
     },
     "output_type": "display_data"
    }
   ],
   "source": [
    "p = plot(w=700,h=300,title=\"h(x) for x in [-5,5]\")\n",
    "p.line(x,h(x),line_width=3,alpha=.5,color=\"orange\",legend=\"h(x)\")\n",
    "p = draw(p)\n",
    "show(p)"
   ]
  },
  {
   "cell_type": "markdown",
   "metadata": {},
   "source": [
    "What about for function $t(x)$ and $v(x)$?\n",
    "\n",
    "$$ t(x)  = (x-1)(x-3)(x-4) $$"
   ]
  },
  {
   "cell_type": "code",
   "execution_count": 15,
   "metadata": {},
   "outputs": [],
   "source": [
    "def t(x):\n",
    "    return (x-1)*(x-3)*(x-4)\n",
    "\n",
    "def v(x):\n",
    "    return x"
   ]
  },
  {
   "cell_type": "code",
   "execution_count": 17,
   "metadata": {},
   "outputs": [
    {
     "data": {
      "text/html": [
       "\n",
       "\n",
       "\n",
       "\n",
       "\n",
       "\n",
       "  <div class=\"bk-root\" id=\"0c556c96-82d6-4240-b42c-47ab2f7babec\"></div>\n"
      ]
     },
     "metadata": {},
     "output_type": "display_data"
    },
    {
     "data": {
      "application/javascript": [
       "(function(root) {\n",
       "  function embed_document(root) {\n",
       "    \n",
       "  var docs_json = {\"9134cb3e-c3de-45c3-b049-0b30a712c9de\":{\"roots\":{\"references\":[{\"attributes\":{\"plot\":{\"id\":\"a4f2f9fd-561f-419f-aa72-1de19af2d1ab\",\"subtype\":\"Figure\",\"type\":\"Plot\"},\"ticker\":{\"id\":\"ff9c65db-a7a2-40f7-aa74-80abb111102b\",\"type\":\"BasicTicker\"}},\"id\":\"b1e4f0b9-a18e-42d9-bd75-8ec701f20f2d\",\"type\":\"Grid\"},{\"attributes\":{\"line_alpha\":0.1,\"line_color\":\"#1f77b4\",\"line_width\":3,\"x\":{\"field\":\"x\"},\"y\":{\"field\":\"y\"}},\"id\":\"22535240-9e37-4934-8a05-1b41423e57d6\",\"type\":\"Line\"},{\"attributes\":{\"callback\":null,\"data\":{\"x\":[],\"y\":[]},\"selected\":{\"id\":\"0ec6d91d-f0a4-4402-a377-a5d8dc965662\",\"type\":\"Selection\"},\"selection_policy\":{\"id\":\"6249d5b7-c2d5-4418-87f5-236fce55194d\",\"type\":\"UnionRenderers\"}},\"id\":\"63729f67-bca7-42dc-884a-0a961a830b98\",\"type\":\"ColumnDataSource\"},{\"attributes\":{},\"id\":\"ff9c65db-a7a2-40f7-aa74-80abb111102b\",\"type\":\"BasicTicker\"},{\"attributes\":{\"axis_label\":\"f(x)\",\"formatter\":{\"id\":\"7dc40c29-b6a9-4e61-91f6-dd2fb9156ae8\",\"type\":\"BasicTickFormatter\"},\"plot\":{\"id\":\"a4f2f9fd-561f-419f-aa72-1de19af2d1ab\",\"subtype\":\"Figure\",\"type\":\"Plot\"},\"ticker\":{\"id\":\"8adad53c-40a1-4d65-9598-c877045605a3\",\"type\":\"BasicTicker\"}},\"id\":\"9dc9c964-71d8-489d-b01f-83763dbdef5d\",\"type\":\"LinearAxis\"},{\"attributes\":{},\"id\":\"8adad53c-40a1-4d65-9598-c877045605a3\",\"type\":\"BasicTicker\"},{\"attributes\":{\"dimension\":1,\"plot\":{\"id\":\"a4f2f9fd-561f-419f-aa72-1de19af2d1ab\",\"subtype\":\"Figure\",\"type\":\"Plot\"},\"ticker\":{\"id\":\"8adad53c-40a1-4d65-9598-c877045605a3\",\"type\":\"BasicTicker\"}},\"id\":\"aa25157e-b707-4632-a195-c0d832ea17f8\",\"type\":\"Grid\"},{\"attributes\":{\"items\":[{\"id\":\"0c9e5479-1903-496f-94d0-0397334121ff\",\"type\":\"LegendItem\"}],\"location\":\"top_left\",\"plot\":{\"id\":\"a4f2f9fd-561f-419f-aa72-1de19af2d1ab\",\"subtype\":\"Figure\",\"type\":\"Plot\"}},\"id\":\"9956c0ad-b19b-4349-b9f6-c826eaf05214\",\"type\":\"Legend\"},{\"attributes\":{\"line_alpha\":0.5,\"line_color\":\"steelblue\",\"line_width\":3,\"x\":{\"field\":\"x\"},\"y\":{\"field\":\"y\"}},\"id\":\"3eaab025-5058-4451-958f-6981e8ae9811\",\"type\":\"Line\"},{\"attributes\":{},\"id\":\"f7feed4c-e504-4222-ad30-ac9f42402d57\",\"type\":\"BasicTickFormatter\"},{\"attributes\":{},\"id\":\"23b3ccf0-a9d1-4464-bf27-c64086a80b19\",\"type\":\"PanTool\"},{\"attributes\":{},\"id\":\"7dc40c29-b6a9-4e61-91f6-dd2fb9156ae8\",\"type\":\"BasicTickFormatter\"},{\"attributes\":{\"callback\":null,\"renderers\":\"auto\",\"tooltips\":[[\"out\",\"$y\"],[\"x\",\"$x\"]]},\"id\":\"27fc6550-0e97-4e86-94bb-6dcfff8b68c6\",\"type\":\"HoverTool\"},{\"attributes\":{},\"id\":\"4476b8ee-a33f-48b7-a58d-fb092c37aed2\",\"type\":\"WheelZoomTool\"},{\"attributes\":{},\"id\":\"78a4bd61-a30c-49ad-98d7-d351ded801ec\",\"type\":\"LinearScale\"},{\"attributes\":{},\"id\":\"03dcd8d2-deb1-4827-9f1c-22c0b3ffea23\",\"type\":\"ResetTool\"},{\"attributes\":{\"source\":{\"id\":\"de7b7ae6-5462-43d1-847b-f701df4d20ce\",\"type\":\"ColumnDataSource\"}},\"id\":\"89beaeff-5505-4f8a-94e3-e3039d107738\",\"type\":\"CDSView\"},{\"attributes\":{\"data_source\":{\"id\":\"de7b7ae6-5462-43d1-847b-f701df4d20ce\",\"type\":\"ColumnDataSource\"},\"glyph\":{\"id\":\"3eaab025-5058-4451-958f-6981e8ae9811\",\"type\":\"Line\"},\"hover_glyph\":null,\"muted_glyph\":null,\"nonselection_glyph\":{\"id\":\"22535240-9e37-4934-8a05-1b41423e57d6\",\"type\":\"Line\"},\"selection_glyph\":null,\"view\":{\"id\":\"89beaeff-5505-4f8a-94e3-e3039d107738\",\"type\":\"CDSView\"}},\"id\":\"b238d814-a8e6-46c4-a722-89cd54daadc6\",\"type\":\"GlyphRenderer\"},{\"attributes\":{\"callback\":null},\"id\":\"3b7c853e-580f-4ed9-8687-a3d71ceb4e10\",\"type\":\"DataRange1d\"},{\"attributes\":{\"label\":{\"value\":\"v(x) for x in [0,1]\"},\"renderers\":[{\"id\":\"b238d814-a8e6-46c4-a722-89cd54daadc6\",\"type\":\"GlyphRenderer\"}]},\"id\":\"0c9e5479-1903-496f-94d0-0397334121ff\",\"type\":\"LegendItem\"},{\"attributes\":{\"fill_color\":{\"value\":\"black\"},\"size\":{\"units\":\"screen\",\"value\":10},\"x\":{\"field\":\"x\"},\"y\":{\"field\":\"y\"}},\"id\":\"7479b16b-fa41-4571-920b-67d37681ed2e\",\"type\":\"Circle\"},{\"attributes\":{\"callback\":null,\"data\":{\"x\":[],\"y\":[]},\"selected\":{\"id\":\"7d079aad-2913-4bd6-b86e-a186202d265d\",\"type\":\"Selection\"},\"selection_policy\":{\"id\":\"2b070db6-5be6-4258-bbde-d5539f4d53ab\",\"type\":\"UnionRenderers\"}},\"id\":\"ab82e1f3-ef8f-4eaa-aabb-8d6902f5120a\",\"type\":\"ColumnDataSource\"},{\"attributes\":{\"fill_color\":{\"value\":\"black\"},\"size\":{\"units\":\"screen\",\"value\":10},\"x\":{\"field\":\"x\"},\"y\":{\"field\":\"y\"}},\"id\":\"c0fb3601-6796-44b0-9e6d-4040c71120e4\",\"type\":\"Circle\"},{\"attributes\":{\"fill_alpha\":{\"value\":0.1},\"fill_color\":{\"value\":\"#1f77b4\"},\"line_alpha\":{\"value\":0.1},\"line_color\":{\"value\":\"#1f77b4\"},\"size\":{\"units\":\"screen\",\"value\":10},\"x\":{\"field\":\"x\"},\"y\":{\"field\":\"y\"}},\"id\":\"bdeda786-24de-4047-b4fa-c516adf98a38\",\"type\":\"Circle\"},{\"attributes\":{\"data_source\":{\"id\":\"63729f67-bca7-42dc-884a-0a961a830b98\",\"type\":\"ColumnDataSource\"},\"glyph\":{\"id\":\"c0fb3601-6796-44b0-9e6d-4040c71120e4\",\"type\":\"Circle\"},\"hover_glyph\":null,\"muted_glyph\":null,\"nonselection_glyph\":{\"id\":\"bdeda786-24de-4047-b4fa-c516adf98a38\",\"type\":\"Circle\"},\"selection_glyph\":null,\"view\":{\"id\":\"17bbd828-70be-46c6-9847-7e7b2bbe2d0b\",\"type\":\"CDSView\"}},\"id\":\"0bc4ae75-af36-436f-9ec7-58235a5f2a4e\",\"type\":\"GlyphRenderer\"},{\"attributes\":{\"source\":{\"id\":\"63729f67-bca7-42dc-884a-0a961a830b98\",\"type\":\"ColumnDataSource\"}},\"id\":\"17bbd828-70be-46c6-9847-7e7b2bbe2d0b\",\"type\":\"CDSView\"},{\"attributes\":{\"empty_value\":\"black\",\"renderers\":[{\"id\":\"0bc4ae75-af36-436f-9ec7-58235a5f2a4e\",\"type\":\"GlyphRenderer\"}]},\"id\":\"32636c9a-e418-421f-a800-c4cd9fa7e193\",\"type\":\"PointDrawTool\"},{\"attributes\":{\"data_source\":{\"id\":\"d874c693-c896-41fc-ad47-91a104d89149\",\"type\":\"ColumnDataSource\"},\"glyph\":{\"id\":\"7fd4fe01-6b70-4fee-8dc1-567d41237f81\",\"type\":\"Line\"},\"hover_glyph\":null,\"muted_glyph\":null,\"nonselection_glyph\":{\"id\":\"8ec14957-00d1-4835-8345-78f95f6c59a9\",\"type\":\"Line\"},\"selection_glyph\":null,\"view\":{\"id\":\"d24ef2cd-482a-4ee0-92bd-846550840698\",\"type\":\"CDSView\"}},\"id\":\"34486afe-ab85-4dc8-a1ed-b07bd9d30d76\",\"type\":\"GlyphRenderer\"},{\"attributes\":{\"children\":[{\"id\":\"3beb2305-cc65-47c0-a1b8-e6e3bc979ce7\",\"subtype\":\"Figure\",\"type\":\"Plot\"},{\"id\":\"a4f2f9fd-561f-419f-aa72-1de19af2d1ab\",\"subtype\":\"Figure\",\"type\":\"Plot\"}]},\"id\":\"8baabed8-099e-4a14-a6e7-1add8f1e69e8\",\"type\":\"Column\"},{\"attributes\":{},\"id\":\"700f7f46-8ba4-462f-a4d4-e12240034b7f\",\"type\":\"Selection\"},{\"attributes\":{\"fill_alpha\":{\"value\":0.1},\"fill_color\":{\"value\":\"#1f77b4\"},\"line_alpha\":{\"value\":0.1},\"line_color\":{\"value\":\"#1f77b4\"},\"size\":{\"units\":\"screen\",\"value\":10},\"x\":{\"field\":\"x\"},\"y\":{\"field\":\"y\"}},\"id\":\"decb18b9-e87f-423e-8871-6ec8d196eb7b\",\"type\":\"Circle\"},{\"attributes\":{\"callback\":null},\"id\":\"981e83b1-4d6c-4e36-aa86-4ebdc4bc34af\",\"type\":\"DataRange1d\"},{\"attributes\":{\"callback\":null},\"id\":\"5a0b00e5-82ce-422c-8d8d-1f3ffc2cd329\",\"type\":\"DataRange1d\"},{\"attributes\":{\"data_source\":{\"id\":\"ab82e1f3-ef8f-4eaa-aabb-8d6902f5120a\",\"type\":\"ColumnDataSource\"},\"glyph\":{\"id\":\"7479b16b-fa41-4571-920b-67d37681ed2e\",\"type\":\"Circle\"},\"hover_glyph\":null,\"muted_glyph\":null,\"nonselection_glyph\":{\"id\":\"decb18b9-e87f-423e-8871-6ec8d196eb7b\",\"type\":\"Circle\"},\"selection_glyph\":null,\"view\":{\"id\":\"df98d845-8d3b-449e-a8fd-c1d5a927f9b9\",\"type\":\"CDSView\"}},\"id\":\"c1e07e0f-7ce7-49eb-8b95-908df21108f8\",\"type\":\"GlyphRenderer\"},{\"attributes\":{\"source\":{\"id\":\"ab82e1f3-ef8f-4eaa-aabb-8d6902f5120a\",\"type\":\"ColumnDataSource\"}},\"id\":\"df98d845-8d3b-449e-a8fd-c1d5a927f9b9\",\"type\":\"CDSView\"},{\"attributes\":{\"empty_value\":\"black\",\"renderers\":[{\"id\":\"c1e07e0f-7ce7-49eb-8b95-908df21108f8\",\"type\":\"GlyphRenderer\"}]},\"id\":\"d52173c6-c03f-4e6c-8a1d-5cfd14b0031d\",\"type\":\"PointDrawTool\"},{\"attributes\":{},\"id\":\"8125ea9a-6c9c-42c8-add0-b607b19d2c2e\",\"type\":\"LinearScale\"},{\"attributes\":{\"active_drag\":\"auto\",\"active_inspect\":\"auto\",\"active_multi\":null,\"active_scroll\":\"auto\",\"active_tap\":{\"id\":\"d52173c6-c03f-4e6c-8a1d-5cfd14b0031d\",\"type\":\"PointDrawTool\"},\"tools\":[{\"id\":\"23b3ccf0-a9d1-4464-bf27-c64086a80b19\",\"type\":\"PanTool\"},{\"id\":\"27fc6550-0e97-4e86-94bb-6dcfff8b68c6\",\"type\":\"HoverTool\"},{\"id\":\"4476b8ee-a33f-48b7-a58d-fb092c37aed2\",\"type\":\"WheelZoomTool\"},{\"id\":\"03dcd8d2-deb1-4827-9f1c-22c0b3ffea23\",\"type\":\"ResetTool\"},{\"id\":\"d52173c6-c03f-4e6c-8a1d-5cfd14b0031d\",\"type\":\"PointDrawTool\"}]},\"id\":\"9bf54bf3-3673-4c4f-8ec8-c7f16f843fc5\",\"type\":\"Toolbar\"},{\"attributes\":{\"line_width\":3,\"x\":{\"field\":\"x\"},\"y\":{\"field\":\"y\"}},\"id\":\"7fd4fe01-6b70-4fee-8dc1-567d41237f81\",\"type\":\"Line\"},{\"attributes\":{\"line_color\":{\"value\":\"grey\"},\"location\":0,\"plot\":null},\"id\":\"bd8f22e4-7727-4914-8cdc-f520ed24af1c\",\"type\":\"Span\"},{\"attributes\":{},\"id\":\"867f3d3f-4ef1-462d-9efd-4b72bb8e6ae5\",\"type\":\"LinearScale\"},{\"attributes\":{},\"id\":\"22dc9d4f-e7cf-4bee-8fb6-62ae8186c6e4\",\"type\":\"UnionRenderers\"},{\"attributes\":{},\"id\":\"0ec6d91d-f0a4-4402-a377-a5d8dc965662\",\"type\":\"Selection\"},{\"attributes\":{\"line_alpha\":0.1,\"line_color\":\"#1f77b4\",\"line_width\":3,\"x\":{\"field\":\"x\"},\"y\":{\"field\":\"y\"}},\"id\":\"c1511caf-9525-40c0-a7f8-b6cc7d41eb42\",\"type\":\"Line\"},{\"attributes\":{},\"id\":\"6249d5b7-c2d5-4418-87f5-236fce55194d\",\"type\":\"UnionRenderers\"},{\"attributes\":{},\"id\":\"04ad2162-73bb-407c-bcc2-176020cf27c5\",\"type\":\"Selection\"},{\"attributes\":{\"axis_label\":\"X\",\"formatter\":{\"id\":\"f7feed4c-e504-4222-ad30-ac9f42402d57\",\"type\":\"BasicTickFormatter\"},\"plot\":{\"id\":\"a4f2f9fd-561f-419f-aa72-1de19af2d1ab\",\"subtype\":\"Figure\",\"type\":\"Plot\"},\"ticker\":{\"id\":\"ff9c65db-a7a2-40f7-aa74-80abb111102b\",\"type\":\"BasicTicker\"}},\"id\":\"5b4b1da0-fd95-485d-9338-ed6d724d61a4\",\"type\":\"LinearAxis\"},{\"attributes\":{},\"id\":\"4f5565a7-be9b-4a35-961d-892e36f6060f\",\"type\":\"Selection\"},{\"attributes\":{},\"id\":\"605ee352-598f-4a9f-8a2a-01f967a1198d\",\"type\":\"UnionRenderers\"},{\"attributes\":{\"label\":{\"value\":\"t(x) for x in [0,6]\"},\"renderers\":[{\"id\":\"a292f7ef-159a-4561-9b22-ae035805820d\",\"type\":\"GlyphRenderer\"}]},\"id\":\"86123af9-bd6f-455c-bffd-9790b69a585f\",\"type\":\"LegendItem\"},{\"attributes\":{},\"id\":\"7d079aad-2913-4bd6-b86e-a186202d265d\",\"type\":\"Selection\"},{\"attributes\":{\"line_alpha\":0.1,\"line_color\":\"#1f77b4\",\"line_width\":3,\"x\":{\"field\":\"x\"},\"y\":{\"field\":\"y\"}},\"id\":\"8ec14957-00d1-4835-8345-78f95f6c59a9\",\"type\":\"Line\"},{\"attributes\":{},\"id\":\"2b070db6-5be6-4258-bbde-d5539f4d53ab\",\"type\":\"UnionRenderers\"},{\"attributes\":{\"below\":[{\"id\":\"5b4b1da0-fd95-485d-9338-ed6d724d61a4\",\"type\":\"LinearAxis\"}],\"left\":[{\"id\":\"9dc9c964-71d8-489d-b01f-83763dbdef5d\",\"type\":\"LinearAxis\"}],\"plot_height\":400,\"plot_width\":700,\"renderers\":[{\"id\":\"5b4b1da0-fd95-485d-9338-ed6d724d61a4\",\"type\":\"LinearAxis\"},{\"id\":\"b1e4f0b9-a18e-42d9-bd75-8ec701f20f2d\",\"type\":\"Grid\"},{\"id\":\"9dc9c964-71d8-489d-b01f-83763dbdef5d\",\"type\":\"LinearAxis\"},{\"id\":\"aa25157e-b707-4632-a195-c0d832ea17f8\",\"type\":\"Grid\"},{\"id\":\"bd8f22e4-7727-4914-8cdc-f520ed24af1c\",\"type\":\"Span\"},{\"id\":\"9956c0ad-b19b-4349-b9f6-c826eaf05214\",\"type\":\"Legend\"},{\"id\":\"b238d814-a8e6-46c4-a722-89cd54daadc6\",\"type\":\"GlyphRenderer\"},{\"id\":\"c1e07e0f-7ce7-49eb-8b95-908df21108f8\",\"type\":\"GlyphRenderer\"}],\"title\":{\"id\":\"82db51cd-450a-4c69-b453-055d25daf178\",\"type\":\"Title\"},\"toolbar\":{\"id\":\"9bf54bf3-3673-4c4f-8ec8-c7f16f843fc5\",\"type\":\"Toolbar\"},\"toolbar_location\":\"above\",\"x_range\":{\"id\":\"5a0b00e5-82ce-422c-8d8d-1f3ffc2cd329\",\"type\":\"DataRange1d\"},\"x_scale\":{\"id\":\"867f3d3f-4ef1-462d-9efd-4b72bb8e6ae5\",\"type\":\"LinearScale\"},\"y_range\":{\"id\":\"3b7c853e-580f-4ed9-8687-a3d71ceb4e10\",\"type\":\"DataRange1d\"},\"y_scale\":{\"id\":\"78a4bd61-a30c-49ad-98d7-d351ded801ec\",\"type\":\"LinearScale\"}},\"id\":\"a4f2f9fd-561f-419f-aa72-1de19af2d1ab\",\"subtype\":\"Figure\",\"type\":\"Plot\"},{\"attributes\":{\"plot\":null,\"text\":\"\"},\"id\":\"32ab1bff-c83f-4636-9eb3-46e49b5f272c\",\"type\":\"Title\"},{\"attributes\":{\"callback\":null,\"data\":{\"x\":{\"__ndarray__\":\"AAAAAAAA8D+amZmZmZnxPzQzMzMzM/M/zszMzMzM9D9oZmZmZmb2PwIAAAAAAPg/nJmZmZmZ+T82MzMzMzP7P9DMzMzMzPw/amZmZmZm/j8CAAAAAAAAQM/MzMzMzABAnJmZmZmZAUBpZmZmZmYCQDYzMzMzMwNAAwAAAAAABEDQzMzMzMwEQJ2ZmZmZmQVAamZmZmZmBkA3MzMzMzMHQAQAAAAAAAhA0czMzMzMCECemZmZmZkJQGtmZmZmZgpAODMzMzMzC0AFAAAAAAAMQNLMzMzMzAxAn5mZmZmZDUBsZmZmZmYOQDkzMzMzMw9AAwAAAAAAEEA=\",\"dtype\":\"float64\",\"shape\":[31]},\"y\":{\"__ndarray__\":\"AAAAAAAAAABzEoPAyqHhP1fjpZvEIPA/2XjpJjEI9j8+tMh2vp/6PwMAAAAAAP4/VeOlm8QgAEBZObTIdr4AQEw3iUFg5QBAbhKDwMqhAED8////////P3lqvHSTGP4/0c73U+Ol+z+Dl24Sg8D4Pw4v3SQGgfU/8///////8T9c6SYxCKzsP37vp8ZLN+U/l873U+Ol2z8Jl24Sg8DKP/j//////++8ddV46SYxyL/uSQwCK4fWv9/z/dR46d6/Sd9PjZdu4r8FAAAAAADkvyWHFtnO9+O/rJ8aL90k4r816SYxCKzcv+ZhEFg5tNC/EgAAAAAAAj0=\",\"dtype\":\"float64\",\"shape\":[31]}},\"selected\":{\"id\":\"4f5565a7-be9b-4a35-961d-892e36f6060f\",\"type\":\"Selection\"},\"selection_policy\":{\"id\":\"1f286122-0350-4c6b-8b05-facb4ab0351d\",\"type\":\"UnionRenderers\"}},\"id\":\"d874c693-c896-41fc-ad47-91a104d89149\",\"type\":\"ColumnDataSource\"},{\"attributes\":{},\"id\":\"d1f5c773-f197-4340-8d69-f94086e9b5c4\",\"type\":\"LinearScale\"},{\"attributes\":{\"items\":[{\"id\":\"c96c1c1f-4072-43b1-9b64-a5b49122ec2c\",\"type\":\"LegendItem\"},{\"id\":\"86123af9-bd6f-455c-bffd-9790b69a585f\",\"type\":\"LegendItem\"}],\"location\":\"top_left\",\"plot\":{\"id\":\"3beb2305-cc65-47c0-a1b8-e6e3bc979ce7\",\"subtype\":\"Figure\",\"type\":\"Plot\"}},\"id\":\"418aef74-f407-4d24-be05-e6fa83f89b56\",\"type\":\"Legend\"},{\"attributes\":{\"below\":[{\"id\":\"e19e21de-873a-4279-8d80-0e7eddcb9174\",\"type\":\"LinearAxis\"}],\"left\":[{\"id\":\"b6965b37-ee17-43c2-9067-8dd639027135\",\"type\":\"LinearAxis\"}],\"plot_height\":400,\"plot_width\":700,\"renderers\":[{\"id\":\"e19e21de-873a-4279-8d80-0e7eddcb9174\",\"type\":\"LinearAxis\"},{\"id\":\"8f75992d-167c-430d-ae27-12f4d3425325\",\"type\":\"Grid\"},{\"id\":\"b6965b37-ee17-43c2-9067-8dd639027135\",\"type\":\"LinearAxis\"},{\"id\":\"0cabc77d-6954-47ce-9b94-8df836c8c875\",\"type\":\"Grid\"},{\"id\":\"3c3d35fa-c810-42a9-a752-ea786aed25b3\",\"type\":\"Span\"},{\"id\":\"418aef74-f407-4d24-be05-e6fa83f89b56\",\"type\":\"Legend\"},{\"id\":\"34486afe-ab85-4dc8-a1ed-b07bd9d30d76\",\"type\":\"GlyphRenderer\"},{\"id\":\"a292f7ef-159a-4561-9b22-ae035805820d\",\"type\":\"GlyphRenderer\"},{\"id\":\"0bc4ae75-af36-436f-9ec7-58235a5f2a4e\",\"type\":\"GlyphRenderer\"}],\"title\":{\"id\":\"32ab1bff-c83f-4636-9eb3-46e49b5f272c\",\"type\":\"Title\"},\"toolbar\":{\"id\":\"1b59e38d-fed2-4064-9a04-abf46c4a1e5c\",\"type\":\"Toolbar\"},\"toolbar_location\":\"above\",\"x_range\":{\"id\":\"981e83b1-4d6c-4e36-aa86-4ebdc4bc34af\",\"type\":\"DataRange1d\"},\"x_scale\":{\"id\":\"8125ea9a-6c9c-42c8-add0-b607b19d2c2e\",\"type\":\"LinearScale\"},\"y_range\":{\"id\":\"dddad132-ec78-40b2-9c41-78a43f7b5528\",\"type\":\"DataRange1d\"},\"y_scale\":{\"id\":\"d1f5c773-f197-4340-8d69-f94086e9b5c4\",\"type\":\"LinearScale\"}},\"id\":\"3beb2305-cc65-47c0-a1b8-e6e3bc979ce7\",\"subtype\":\"Figure\",\"type\":\"Plot\"},{\"attributes\":{},\"id\":\"81f10d4d-368f-49cb-a37a-13b207a8a8ec\",\"type\":\"BasicTicker\"},{\"attributes\":{\"plot\":{\"id\":\"3beb2305-cc65-47c0-a1b8-e6e3bc979ce7\",\"subtype\":\"Figure\",\"type\":\"Plot\"},\"ticker\":{\"id\":\"81f10d4d-368f-49cb-a37a-13b207a8a8ec\",\"type\":\"BasicTicker\"}},\"id\":\"8f75992d-167c-430d-ae27-12f4d3425325\",\"type\":\"Grid\"},{\"attributes\":{\"axis_label\":\"X\",\"formatter\":{\"id\":\"ddbe41d3-b70f-4123-8acb-43aded0c829e\",\"type\":\"BasicTickFormatter\"},\"plot\":{\"id\":\"3beb2305-cc65-47c0-a1b8-e6e3bc979ce7\",\"subtype\":\"Figure\",\"type\":\"Plot\"},\"ticker\":{\"id\":\"81f10d4d-368f-49cb-a37a-13b207a8a8ec\",\"type\":\"BasicTicker\"}},\"id\":\"e19e21de-873a-4279-8d80-0e7eddcb9174\",\"type\":\"LinearAxis\"},{\"attributes\":{\"callback\":null,\"renderers\":\"auto\",\"tooltips\":[[\"out\",\"$y\"],[\"x\",\"$x\"]]},\"id\":\"4d6ada28-a100-4a1c-ab81-729bf4e614f1\",\"type\":\"HoverTool\"},{\"attributes\":{\"callback\":null},\"id\":\"dddad132-ec78-40b2-9c41-78a43f7b5528\",\"type\":\"DataRange1d\"},{\"attributes\":{\"label\":{\"value\":\"t(x) for x in [1,4]\"},\"renderers\":[{\"id\":\"34486afe-ab85-4dc8-a1ed-b07bd9d30d76\",\"type\":\"GlyphRenderer\"}]},\"id\":\"c96c1c1f-4072-43b1-9b64-a5b49122ec2c\",\"type\":\"LegendItem\"},{\"attributes\":{\"active_drag\":\"auto\",\"active_inspect\":\"auto\",\"active_multi\":null,\"active_scroll\":\"auto\",\"active_tap\":{\"id\":\"32636c9a-e418-421f-a800-c4cd9fa7e193\",\"type\":\"PointDrawTool\"},\"tools\":[{\"id\":\"b294b772-1f7c-4028-a597-2ca2d15759f1\",\"type\":\"PanTool\"},{\"id\":\"4d6ada28-a100-4a1c-ab81-729bf4e614f1\",\"type\":\"HoverTool\"},{\"id\":\"c0a06295-be1b-4421-b288-969b22142126\",\"type\":\"WheelZoomTool\"},{\"id\":\"01af35d5-4f9d-4223-acef-5ca81628649c\",\"type\":\"ResetTool\"},{\"id\":\"32636c9a-e418-421f-a800-c4cd9fa7e193\",\"type\":\"PointDrawTool\"}]},\"id\":\"1b59e38d-fed2-4064-9a04-abf46c4a1e5c\",\"type\":\"Toolbar\"},{\"attributes\":{\"axis_label\":\"f(x)\",\"formatter\":{\"id\":\"36fe10fe-e116-45d7-816e-7c3f21487b9a\",\"type\":\"BasicTickFormatter\"},\"plot\":{\"id\":\"3beb2305-cc65-47c0-a1b8-e6e3bc979ce7\",\"subtype\":\"Figure\",\"type\":\"Plot\"},\"ticker\":{\"id\":\"0d56eae2-8932-4486-b75c-9406e268eb5c\",\"type\":\"BasicTicker\"}},\"id\":\"b6965b37-ee17-43c2-9067-8dd639027135\",\"type\":\"LinearAxis\"},{\"attributes\":{\"dimension\":1,\"plot\":{\"id\":\"3beb2305-cc65-47c0-a1b8-e6e3bc979ce7\",\"subtype\":\"Figure\",\"type\":\"Plot\"},\"ticker\":{\"id\":\"0d56eae2-8932-4486-b75c-9406e268eb5c\",\"type\":\"BasicTicker\"}},\"id\":\"0cabc77d-6954-47ce-9b94-8df836c8c875\",\"type\":\"Grid\"},{\"attributes\":{},\"id\":\"0d56eae2-8932-4486-b75c-9406e268eb5c\",\"type\":\"BasicTicker\"},{\"attributes\":{},\"id\":\"b294b772-1f7c-4028-a597-2ca2d15759f1\",\"type\":\"PanTool\"},{\"attributes\":{},\"id\":\"36fe10fe-e116-45d7-816e-7c3f21487b9a\",\"type\":\"BasicTickFormatter\"},{\"attributes\":{\"line_color\":{\"value\":\"grey\"},\"location\":0,\"plot\":null},\"id\":\"3c3d35fa-c810-42a9-a752-ea786aed25b3\",\"type\":\"Span\"},{\"attributes\":{},\"id\":\"ddbe41d3-b70f-4123-8acb-43aded0c829e\",\"type\":\"BasicTickFormatter\"},{\"attributes\":{\"plot\":null,\"text\":\"\"},\"id\":\"82db51cd-450a-4c69-b453-055d25daf178\",\"type\":\"Title\"},{\"attributes\":{},\"id\":\"01af35d5-4f9d-4223-acef-5ca81628649c\",\"type\":\"ResetTool\"},{\"attributes\":{},\"id\":\"c0a06295-be1b-4421-b288-969b22142126\",\"type\":\"WheelZoomTool\"},{\"attributes\":{\"source\":{\"id\":\"277e27cd-ca89-4fb4-afa1-79bd60b284c8\",\"type\":\"ColumnDataSource\"}},\"id\":\"ffd39400-d396-4383-ade9-9b4b80448af6\",\"type\":\"CDSView\"},{\"attributes\":{\"source\":{\"id\":\"d874c693-c896-41fc-ad47-91a104d89149\",\"type\":\"ColumnDataSource\"}},\"id\":\"d24ef2cd-482a-4ee0-92bd-846550840698\",\"type\":\"CDSView\"},{\"attributes\":{\"data_source\":{\"id\":\"277e27cd-ca89-4fb4-afa1-79bd60b284c8\",\"type\":\"ColumnDataSource\"},\"glyph\":{\"id\":\"e0f2143e-81a3-4438-a30c-2b61922ce755\",\"type\":\"Line\"},\"hover_glyph\":null,\"muted_glyph\":null,\"nonselection_glyph\":{\"id\":\"c1511caf-9525-40c0-a7f8-b6cc7d41eb42\",\"type\":\"Line\"},\"selection_glyph\":null,\"view\":{\"id\":\"ffd39400-d396-4383-ade9-9b4b80448af6\",\"type\":\"CDSView\"}},\"id\":\"a292f7ef-159a-4561-9b22-ae035805820d\",\"type\":\"GlyphRenderer\"},{\"attributes\":{\"callback\":null,\"data\":{\"x\":{\"__ndarray__\":\"AAAAAAAAAACamZmZmZm5P5qZmZmZmck/NDMzMzMz0z+amZmZmZnZPwAAAAAAAOA/NDMzMzMz4z9nZmZmZmbmP5qZmZmZmek/zczMzMzM7D8AAAAAAADwPw==\",\"dtype\":\"float64\",\"shape\":[11]},\"y\":{\"__ndarray__\":\"AAAAAAAAAACamZmZmZm5P5qZmZmZmck/NDMzMzMz0z+amZmZmZnZPwAAAAAAAOA/NDMzMzMz4z9nZmZmZmbmP5qZmZmZmek/zczMzMzM7D8AAAAAAADwPw==\",\"dtype\":\"float64\",\"shape\":[11]}},\"selected\":{\"id\":\"04ad2162-73bb-407c-bcc2-176020cf27c5\",\"type\":\"Selection\"},\"selection_policy\":{\"id\":\"605ee352-598f-4a9f-8a2a-01f967a1198d\",\"type\":\"UnionRenderers\"}},\"id\":\"de7b7ae6-5462-43d1-847b-f701df4d20ce\",\"type\":\"ColumnDataSource\"},{\"attributes\":{\"line_alpha\":0.2,\"line_color\":\"green\",\"line_width\":3,\"x\":{\"field\":\"x\"},\"y\":{\"field\":\"y\"}},\"id\":\"e0f2143e-81a3-4438-a30c-2b61922ce755\",\"type\":\"Line\"},{\"attributes\":{\"callback\":null,\"data\":{\"x\":{\"__ndarray__\":\"AAAAAAAAAACamZmZmZm5P5qZmZmZmck/NDMzMzMz0z+amZmZmZnZPwAAAAAAAOA/NDMzMzMz4z9nZmZmZmbmP5qZmZmZmek/zczMzMzM7D8AAAAAAADwP5qZmZmZmfE/NDMzMzMz8z/NzMzMzMz0P2dmZmZmZvY/AAAAAAAA+D+amZmZmZn5PzQzMzMzM/s/zczMzMzM/D9nZmZmZmb+PwAAAAAAAABAzczMzMzMAECamZmZmZkBQGdmZmZmZgJANDMzMzMzA0AAAAAAAAAEQM3MzMzMzARAmpmZmZmZBUBnZmZmZmYGQDQzMzMzMwdAAAAAAAAACEDNzMzMzMwIQJqZmZmZmQlAZ2ZmZmZmCkA0MzMzMzMLQAAAAAAAAAxAzczMzMzMDECamZmZmZkNQGdmZmZmZg5ANDMzMzMzD0AAAAAAAAAQQGdmZmZmZhBAzczMzMzMEEAzMzMzMzMRQJqZmZmZmRFAAAAAAAAAEkBnZmZmZmYSQM3MzMzMzBJANDMzMzMzE0CamZmZmZkTQAAAAAAAABRAZ2ZmZmZmFEDNzMzMzMwUQDQzMzMzMxVAmpmZmZmZFUAAAAAAAAAWQGdmZmZmZhZAzczMzMzMFkA0MzMzMzMXQJqZmZmZmRdAAAAAAAAAGEA=\",\"dtype\":\"float64\",\"shape\":[61]},\"y\":{\"__ndarray__\":\"AAAAAAAAKMDO91PjpVskwJ8aL90kBiHARrbz/dT4G8ARWDm0yHYWwAAAAAAAgBHA5yYxCKwcCsCc76fGSzcCwLpJDAIrh/a/oUW28/3U5L8AAAAAAAAAAHMSg8DKoeE/V+Olm8Qg8D/WeOkmMQj2Pzq0yHa+n/o/AAAAAAAA/j9U46WbxCAAQFg5tMh2vgBATDeJQWDlAEBuEoPAyqEAQAAAAAAAAABAf2q8dJMY/j/YzvdT46X7P4uXbhKDwPg/Fy/dJAaB9T8AAAAAAADyP3fpJjEIrOw/mu+nxks35T/PzvdT46XbP3KXbhKDwMo/AAAAAAAAAIAD1XjpJjHIv79JDAIrh9a/vPP91Hjp3r8+30+Nl27ivwAAAAAAAOS/K4cW2c7347+9nxov3STiv3LpJjEIrNy/P2IQWDm00L8AAAAAAAAAAJLn+6nx0tU/AX9qvHST6D9gO99PjZf0PxtYObTIdv4/AAAAAAAABUDjzvdT46ULQOsmMQisnBFAINnO91PjFUCYGARWDq0aQAAAAAAAACBAAtV46SbxIkCWGARWDi0mQBdYObTItilAySCwcmiRLUAAAAAAAOAwQI1BYOXQIjNAp5vEILCSNUAD1XjpJjE4QDy0yHa+/zpAAAAAAAAAPkA=\",\"dtype\":\"float64\",\"shape\":[61]}},\"selected\":{\"id\":\"700f7f46-8ba4-462f-a4d4-e12240034b7f\",\"type\":\"Selection\"},\"selection_policy\":{\"id\":\"22dc9d4f-e7cf-4bee-8fb6-62ae8186c6e4\",\"type\":\"UnionRenderers\"}},\"id\":\"277e27cd-ca89-4fb4-afa1-79bd60b284c8\",\"type\":\"ColumnDataSource\"},{\"attributes\":{},\"id\":\"1f286122-0350-4c6b-8b05-facb4ab0351d\",\"type\":\"UnionRenderers\"}],\"root_ids\":[\"8baabed8-099e-4a14-a6e7-1add8f1e69e8\"]},\"title\":\"Bokeh Application\",\"version\":\"0.13.0\"}};\n",
       "  var render_items = [{\"docid\":\"9134cb3e-c3de-45c3-b049-0b30a712c9de\",\"roots\":{\"8baabed8-099e-4a14-a6e7-1add8f1e69e8\":\"0c556c96-82d6-4240-b42c-47ab2f7babec\"}}];\n",
       "  root.Bokeh.embed.embed_items_notebook(docs_json, render_items);\n",
       "\n",
       "  }\n",
       "  if (root.Bokeh !== undefined) {\n",
       "    embed_document(root);\n",
       "  } else {\n",
       "    var attempts = 0;\n",
       "    var timer = setInterval(function(root) {\n",
       "      if (root.Bokeh !== undefined) {\n",
       "        embed_document(root);\n",
       "        clearInterval(timer);\n",
       "      }\n",
       "      attempts++;\n",
       "      if (attempts > 100) {\n",
       "        console.log(\"Bokeh: ERROR: Unable to run BokehJS code because BokehJS library is missing\")\n",
       "        clearInterval(timer);\n",
       "      }\n",
       "    }, 10, root)\n",
       "  }\n",
       "})(window);"
      ],
      "application/vnd.bokehjs_exec.v0+json": ""
     },
     "metadata": {
      "application/vnd.bokehjs_exec.v0+json": {
       "id": "8baabed8-099e-4a14-a6e7-1add8f1e69e8"
      }
     },
     "output_type": "display_data"
    }
   ],
   "source": [
    "p = plot(w=700,h=400)\n",
    "x = np.arange(1,4.1,.1) # domain\n",
    "p.line(x,t(x),line_width=3,alpha=1,color=\"black\",legend=\"t(x) for x in [1,4]\")\n",
    "x = np.arange(0,6.1,.1) # domain\n",
    "p.line(x,t(x),line_width=3,alpha=.2,color=\"green\",legend=\"t(x) for x in [0,6]\")\n",
    "\n",
    "p2 = plot(w=700,h=400)\n",
    "x = np.arange(0,1.1,.1) # domain\n",
    "p2.line(x,v(x),line_width=3,alpha=.5,color=\"steelblue\",legend=\"v(x) for x in [0,1]\")\n",
    "\n",
    "p = draw(p);p2 = draw(p2)\n",
    "p.legend.location = \"top_left\";p2.legend.location = \"top_left\"\n",
    "show(column(p,p2))"
   ]
  },
  {
   "cell_type": "markdown",
   "metadata": {},
   "source": [
    "Takeaways?\n",
    "\n",
    "- Distinguishing global from local extrema requires that we consider the bounds placed on the maximization/minimization problem. \n",
    "- Extrema at the boundary of the domain need not correspond to points at which the first derivative is zero. \n",
    "- Extrema that occur within the domain are called **interior extrema**.\n",
    "- **supremum** is the least upper bound of any set. **infinimum** is the greatest lower bound of any set. "
   ]
  },
  {
   "cell_type": "markdown",
   "metadata": {},
   "source": [
    "# Higher Order Derivatives"
   ]
  },
  {
   "cell_type": "markdown",
   "metadata": {},
   "source": [
    "Recall the use of the `sympy` module (see lecture 19). Let's leverage the module to find the higher order derivatives of function $f(y)$"
   ]
  },
  {
   "cell_type": "code",
   "execution_count": 18,
   "metadata": {},
   "outputs": [
    {
     "name": "stdout",
     "output_type": "stream",
     "text": [
      "\n",
      "Function f(y)\n"
     ]
    },
    {
     "data": {
      "image/png": "[encoded data removed]",
      "text/latex": [
       "$$y \\left(0.3 y^{3} + 2 y^{2}\\right)$$"
      ],
      "text/plain": [
       "  ⎛     3      2⎞\n",
       "y⋅⎝0.3⋅y  + 2⋅y ⎠"
      ]
     },
     "metadata": {},
     "output_type": "display_data"
    },
    {
     "name": "stdout",
     "output_type": "stream",
     "text": [
      "\n",
      "First Derivative of f(y)\n"
     ]
    },
    {
     "data": {
      "image/png": "[encoded data removed]",
      "text/latex": [
       "$$0.3 y^{3} + 2 y^{2} + y \\left(0.9 y^{2} + 4 y\\right)$$"
      ],
      "text/plain": [
       "     3      2     ⎛     2      ⎞\n",
       "0.3⋅y  + 2⋅y  + y⋅⎝0.9⋅y  + 4⋅y⎠"
      ]
     },
     "metadata": {},
     "output_type": "display_data"
    },
    {
     "name": "stdout",
     "output_type": "stream",
     "text": [
      "\n",
      "Second Derivative of f(y)\n"
     ]
    },
    {
     "data": {
      "image/png": "[encoded data removed]",
      "text/latex": [
       "$$1.8 y^{2} + y \\left(1.8 y + 4\\right) + 8 y$$"
      ],
      "text/plain": [
       "     2                      \n",
       "1.8⋅y  + y⋅(1.8⋅y + 4) + 8⋅y"
      ]
     },
     "metadata": {},
     "output_type": "display_data"
    },
    {
     "name": "stdout",
     "output_type": "stream",
     "text": [
      "\n",
      "Third Derivative of f(y)\n"
     ]
    },
    {
     "data": {
      "image/png": "[encoded data removed]",
      "text/latex": [
       "$$7.2 y + 12$$"
      ],
      "text/plain": [
       "7.2⋅y + 12"
      ]
     },
     "metadata": {},
     "output_type": "display_data"
    },
    {
     "name": "stdout",
     "output_type": "stream",
     "text": [
      "\n",
      "Fourth Derivative of f(y)\n"
     ]
    },
    {
     "data": {
      "image/png": "[encoded data removed]",
      "text/latex": [
       "$$7.2$$"
      ],
      "text/plain": [
       "7.20000000000000"
      ]
     },
     "metadata": {},
     "output_type": "display_data"
    },
    {
     "name": "stdout",
     "output_type": "stream",
     "text": [
      "\n",
      "Fifth Derivative of f(y)\n"
     ]
    },
    {
     "data": {
      "image/png": "[encoded data removed]",
      "text/latex": [
       "$$0$$"
      ],
      "text/plain": [
       "0"
      ]
     },
     "metadata": {},
     "output_type": "display_data"
    }
   ],
   "source": [
    "y = symbols('y')\n",
    "f = y*(2*y**2 + .3*y**3)\n",
    "\n",
    "print(\"\\nFunction f(y)\")\n",
    "display(f)\n",
    "\n",
    "print(\"\\nFirst Derivative of f(y)\")\n",
    "display(f.diff())\n",
    "\n",
    "print(\"\\nSecond Derivative of f(y)\")\n",
    "display(f.diff().diff())\n",
    "\n",
    "print(\"\\nThird Derivative of f(y)\")\n",
    "display(f.diff().diff().diff())\n",
    "\n",
    "print(\"\\nFourth Derivative of f(y)\")\n",
    "display(f.diff().diff().diff().diff())\n",
    "\n",
    "print(\"\\nFifth Derivative of f(y)\")\n",
    "display(f.diff().diff().diff().diff().diff())"
   ]
  },
  {
   "cell_type": "markdown",
   "metadata": {},
   "source": [
    "Derivatives of any order tell us something about the **shape** of a function.\n",
    "\n",
    "- The **first derivative** informs which direction the function is trending. Is it increasing? Is it decreasing?\n",
    "- The **second derivative** tells us the most basic _curvature_ of the function. Is the rate at which it is increasing or decreasing getting faster or slower?\n",
    "- Higher order derivatives provide more nuanced information about the shape of the function.\n",
    "- For locating extrema, we care most about the information provided by the first and second derivatives"
   ]
  },
  {
   "cell_type": "markdown",
   "metadata": {},
   "source": [
    "### Intuition of higher order derivatives\n",
    "\n",
    "> What do higher-order derivatives represent conceptually? Think of driving a car. The function $f(\\cdot)$ describes how far we drove as a function of time. $$~\\\\Distance = f(time)\\\\~$$ The derivative tells us our speed as a function of time (i.e. how fast were we going). $$ ~\\\\Speed = f'(time)\\\\~$$ The second derivative tells us our rate of acceleration as a function of time (i.e. how hard we were pressing on the petal at any given point in the trip). $$ ~\\\\Acceleration = f''(time)\\\\~$$ The third derivative would tell us how much the car \"jerked\" at any moment in time (i.e. how quickly we pressed or let up on the petal). $$ ~\\\\Jerk = f'''(time)\\\\~$$ And so on..."
   ]
  },
  {
   "cell_type": "code",
   "execution_count": 23,
   "metadata": {
    "scrolled": false
   },
   "outputs": [
    {
     "data": {
      "text/html": [
       "\n",
       "\n",
       "\n",
       "\n",
       "\n",
       "\n",
       "  <div class=\"bk-root\" id=\"3f77dee3-b2f1-4f53-8cdc-db1f22798891\"></div>\n"
      ]
     },
     "metadata": {},
     "output_type": "display_data"
    },
    {
     "data": {
      "application/javascript": [
       "(function(root) {\n",
       "  function embed_document(root) {\n",
       "    \n",
       "  var docs_json = {\"c1b178d1-da4e-48be-92fb-5ca5a7b6ab62\":{\"roots\":{\"references\":[{\"attributes\":{\"plot\":{\"id\":\"ef12e4de-c043-4576-8691-d21b88eef521\",\"subtype\":\"Figure\",\"type\":\"Plot\"},\"ticker\":{\"id\":\"fe2d3fc4-3e94-4f42-869f-d177c9b3f4c5\",\"type\":\"BasicTicker\"}},\"id\":\"24256a04-1f0e-4791-9935-91cd3e547d38\",\"type\":\"Grid\"},{\"attributes\":{},\"id\":\"fe2d3fc4-3e94-4f42-869f-d177c9b3f4c5\",\"type\":\"BasicTicker\"},{\"attributes\":{\"axis_label\":\"Speed\",\"formatter\":{\"id\":\"b3e44e13-c0e2-41bc-b086-9ee48843570f\",\"type\":\"BasicTickFormatter\"},\"plot\":{\"id\":\"ef12e4de-c043-4576-8691-d21b88eef521\",\"subtype\":\"Figure\",\"type\":\"Plot\"},\"ticker\":{\"id\":\"570dcda0-a540-403e-8b5e-bb20c1f0867c\",\"type\":\"BasicTicker\"}},\"id\":\"9b34fafa-4b3f-4ae0-b26a-5d0309ca1e54\",\"type\":\"LinearAxis\"},{\"attributes\":{\"line_color\":\"#1f77b4\",\"line_width\":2.5,\"x\":{\"field\":\"x\"},\"y\":{\"field\":\"y\"}},\"id\":\"14cab1c7-dd48-4022-84e1-c7b691eb768b\",\"type\":\"Line\"},{\"attributes\":{},\"id\":\"570dcda0-a540-403e-8b5e-bb20c1f0867c\",\"type\":\"BasicTicker\"},{\"attributes\":{\"active_drag\":\"auto\",\"active_inspect\":\"auto\",\"active_multi\":null,\"active_scroll\":\"auto\",\"active_tap\":\"auto\",\"tools\":[{\"id\":\"6354db26-9360-41f3-9fa9-0537eaf1064d\",\"type\":\"PanTool\"},{\"id\":\"aa6a03f3-551e-44df-b113-21108fa9a659\",\"type\":\"HoverTool\"},{\"id\":\"aa7cd1a6-ace0-4df2-bf55-6492c3883410\",\"type\":\"WheelZoomTool\"},{\"id\":\"455af5cc-a34e-4510-8caf-840d2c34bce9\",\"type\":\"ResetTool\"}]},\"id\":\"da722ad4-6500-43b5-9154-89c39a77d124\",\"type\":\"Toolbar\"},{\"attributes\":{\"dimension\":1,\"plot\":{\"id\":\"ef12e4de-c043-4576-8691-d21b88eef521\",\"subtype\":\"Figure\",\"type\":\"Plot\"},\"ticker\":{\"id\":\"570dcda0-a540-403e-8b5e-bb20c1f0867c\",\"type\":\"BasicTicker\"}},\"id\":\"bd3f7ed4-f063-4adc-95d8-922314bfebc9\",\"type\":\"Grid\"},{\"attributes\":{\"plot\":null,\"text\":\"\"},\"id\":\"efb3b1dc-1597-423e-821d-b846c4241df0\",\"type\":\"Title\"},{\"attributes\":{\"callback\":null,\"data\":{\"x\":{\"__ndarray__\":\"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\",\"dtype\":\"float64\",\"shape\":[315]},\"y\":{\"__ndarray__\":\"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\",\"dtype\":\"float64\",\"shape\":[315]}},\"selected\":{\"id\":\"cf8dcd88-a3ac-409a-b840-053f7491657f\",\"type\":\"Selection\"},\"selection_policy\":{\"id\":\"e4f3a55b-f8a0-4a9c-8bde-18e080b95f6f\",\"type\":\"UnionRenderers\"}},\"id\":\"97424ce7-ecf5-4eb8-895b-dbddf9ee97de\",\"type\":\"ColumnDataSource\"},{\"attributes\":{\"callback\":null,\"data\":{\"x\":{\"__ndarray__\":\"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\",\"dtype\":\"float64\",\"shape\":[315]},\"y\":{\"__ndarray__\":\"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\",\"dtype\":\"float64\",\"shape\":[315]}},\"selected\":{\"id\":\"a3ffb5f2-a791-431b-9181-4ff6cc1392e8\",\"type\":\"Selection\"},\"selection_policy\":{\"id\":\"e2822097-cfb9-45d2-a02f-05d32fc488d3\",\"type\":\"UnionRenderers\"}},\"id\":\"a3a8a658-742e-4f95-9b71-289823f8fef3\",\"type\":\"ColumnDataSource\"},{\"attributes\":{},\"id\":\"391cc1c3-df60-4372-9f8b-7a2ded2e124c\",\"type\":\"PanTool\"},{\"attributes\":{},\"id\":\"ed9bfd91-0cff-4491-bba8-a22619ee6bc2\",\"type\":\"UnionRenderers\"},{\"attributes\":{},\"id\":\"71e4476b-c1da-4e23-9b78-8656d9e5e091\",\"type\":\"LinearScale\"},{\"attributes\":{},\"id\":\"5392fb02-c028-4c58-8608-4bf2de3b4127\",\"type\":\"LinearScale\"},{\"attributes\":{},\"id\":\"e00a4fa0-d662-4431-9ac1-4de8196d74af\",\"type\":\"Selection\"},{\"attributes\":{\"callback\":null,\"renderers\":\"auto\",\"tooltips\":[[\"out\",\"$y\"],[\"x\",\"$x\"]]},\"id\":\"92eee16d-8340-4e61-b7ad-fddcfeeaf2ba\",\"type\":\"HoverTool\"},{\"attributes\":{\"below\":[{\"id\":\"40cf1fce-1b55-4237-b9b2-3d151a2d8e64\",\"type\":\"LinearAxis\"}],\"left\":[{\"id\":\"9b34fafa-4b3f-4ae0-b26a-5d0309ca1e54\",\"type\":\"LinearAxis\"}],\"plot_height\":300,\"plot_width\":700,\"renderers\":[{\"id\":\"40cf1fce-1b55-4237-b9b2-3d151a2d8e64\",\"type\":\"LinearAxis\"},{\"id\":\"24256a04-1f0e-4791-9935-91cd3e547d38\",\"type\":\"Grid\"},{\"id\":\"9b34fafa-4b3f-4ae0-b26a-5d0309ca1e54\",\"type\":\"LinearAxis\"},{\"id\":\"bd3f7ed4-f063-4adc-95d8-922314bfebc9\",\"type\":\"Grid\"},{\"id\":\"f1e2e577-114f-4775-a5fd-c52aad69f6ff\",\"type\":\"Span\"},{\"id\":\"4a093bf0-4c9d-4e53-98c7-d60465e1fcd9\",\"type\":\"GlyphRenderer\"}],\"title\":{\"id\":\"af49103d-06ff-4122-b7ec-3366ddff1686\",\"type\":\"Title\"},\"toolbar\":{\"id\":\"2865fbd3-22c4-4a88-bbab-4abd4883415c\",\"type\":\"Toolbar\"},\"toolbar_location\":\"above\",\"x_range\":{\"id\":\"ba4fca19-a9ce-40d1-a7d3-d01abf1b16f2\",\"type\":\"DataRange1d\"},\"x_scale\":{\"id\":\"b3b9fe59-9db5-461c-8439-e0c37dd6dbc7\",\"type\":\"LinearScale\"},\"y_range\":{\"id\":\"e3bdc725-b571-474c-a71a-b8f2bd653f6f\",\"type\":\"DataRange1d\"},\"y_scale\":{\"id\":\"5392fb02-c028-4c58-8608-4bf2de3b4127\",\"type\":\"LinearScale\"}},\"id\":\"ef12e4de-c043-4576-8691-d21b88eef521\",\"subtype\":\"Figure\",\"type\":\"Plot\"},{\"attributes\":{},\"id\":\"6953989e-1d2a-49b2-a03d-ce76ff217100\",\"type\":\"WheelZoomTool\"},{\"attributes\":{\"axis_label\":\"Time\",\"formatter\":{\"id\":\"ff87c9f8-3c74-45ca-9ffb-cf8a0d172c69\",\"type\":\"BasicTickFormatter\"},\"plot\":{\"id\":\"1c13a976-e45f-49df-9d23-e49e6e5cab3f\",\"subtype\":\"Figure\",\"type\":\"Plot\"},\"ticker\":{\"id\":\"01e5c4e5-61fd-48e4-a9ec-dc9781b8c1a9\",\"type\":\"BasicTicker\"}},\"id\":\"594a8aaa-60f1-4ffb-9438-b517a7214aea\",\"type\":\"LinearAxis\"},{\"attributes\":{},\"id\":\"78d8bd6a-335a-4bb1-93a8-a309fa33f97f\",\"type\":\"ResetTool\"},{\"attributes\":{\"active_drag\":\"auto\",\"active_inspect\":\"auto\",\"active_multi\":null,\"active_scroll\":\"auto\",\"active_tap\":\"auto\",\"tools\":[{\"id\":\"25acc64d-6816-4e3b-b9c7-57d32e936b0d\",\"type\":\"PanTool\"},{\"id\":\"6d4fc492-f561-40ac-b349-0d622c0271e1\",\"type\":\"HoverTool\"},{\"id\":\"ce75ab14-4a18-49ca-9cdf-a3735298053e\",\"type\":\"WheelZoomTool\"},{\"id\":\"24859e9c-5d6d-4586-b7ef-cb7f63cbd007\",\"type\":\"ResetTool\"}]},\"id\":\"76cd9b01-9b27-46fb-8e64-ba052d735f74\",\"type\":\"Toolbar\"},{\"attributes\":{\"callback\":null},\"id\":\"6747590e-4b12-4383-b7d4-8c3c75063f27\",\"type\":\"DataRange1d\"},{\"attributes\":{\"callback\":null},\"id\":\"ba4fca19-a9ce-40d1-a7d3-d01abf1b16f2\",\"type\":\"DataRange1d\"},{\"attributes\":{\"callback\":null},\"id\":\"11c5dbc1-f57e-4523-8b40-5ef93fb4ba23\",\"type\":\"DataRange1d\"},{\"attributes\":{},\"id\":\"c103599f-54d7-4eac-adcd-a4c0251caba4\",\"type\":\"LinearScale\"},{\"attributes\":{},\"id\":\"29f6247d-0a9f-4190-a2c9-ce590f30881a\",\"type\":\"LinearScale\"},{\"attributes\":{\"plot\":{\"id\":\"9cb32d03-4889-4a8e-9b2c-29f37692e9d6\",\"subtype\":\"Figure\",\"type\":\"Plot\"},\"ticker\":{\"id\":\"6b9f8c80-3f55-4dc5-a320-0c6f387658de\",\"type\":\"BasicTicker\"}},\"id\":\"76bdd543-8b7d-4f4b-ac87-765715da76d6\",\"type\":\"Grid\"},{\"attributes\":{\"active_drag\":\"auto\",\"active_inspect\":\"auto\",\"active_multi\":null,\"active_scroll\":\"auto\",\"active_tap\":\"auto\",\"tools\":[{\"id\":\"391cc1c3-df60-4372-9f8b-7a2ded2e124c\",\"type\":\"PanTool\"},{\"id\":\"92eee16d-8340-4e61-b7ad-fddcfeeaf2ba\",\"type\":\"HoverTool\"},{\"id\":\"6953989e-1d2a-49b2-a03d-ce76ff217100\",\"type\":\"WheelZoomTool\"},{\"id\":\"78d8bd6a-335a-4bb1-93a8-a309fa33f97f\",\"type\":\"ResetTool\"}]},\"id\":\"2865fbd3-22c4-4a88-bbab-4abd4883415c\",\"type\":\"Toolbar\"},{\"attributes\":{\"axis_label\":\"Time\",\"formatter\":{\"id\":\"52212148-becb-441a-81f3-eb79210aecbd\",\"type\":\"BasicTickFormatter\"},\"plot\":{\"id\":\"9cb32d03-4889-4a8e-9b2c-29f37692e9d6\",\"subtype\":\"Figure\",\"type\":\"Plot\"},\"ticker\":{\"id\":\"6b9f8c80-3f55-4dc5-a320-0c6f387658de\",\"type\":\"BasicTicker\"}},\"id\":\"38801ee0-ab4a-44e5-bb15-c365b84bfba8\",\"type\":\"LinearAxis\"},{\"attributes\":{},\"id\":\"6b9f8c80-3f55-4dc5-a320-0c6f387658de\",\"type\":\"BasicTicker\"},{\"attributes\":{\"axis_label\":\"Acceleration\",\"formatter\":{\"id\":\"049e6be6-8da2-4ed3-879b-16f4c4f7a33c\",\"type\":\"BasicTickFormatter\"},\"plot\":{\"id\":\"9cb32d03-4889-4a8e-9b2c-29f37692e9d6\",\"subtype\":\"Figure\",\"type\":\"Plot\"},\"ticker\":{\"id\":\"38bddc0b-f312-445b-88dd-a7657e7612bc\",\"type\":\"BasicTicker\"}},\"id\":\"bb74b1b8-5c39-4ec6-ac5c-675ac8a623ee\",\"type\":\"LinearAxis\"},{\"attributes\":{},\"id\":\"38bddc0b-f312-445b-88dd-a7657e7612bc\",\"type\":\"BasicTicker\"},{\"attributes\":{\"below\":[{\"id\":\"594a8aaa-60f1-4ffb-9438-b517a7214aea\",\"type\":\"LinearAxis\"}],\"left\":[{\"id\":\"841cfea7-4774-44fc-b477-c7532ef1bf1a\",\"type\":\"LinearAxis\"}],\"plot_height\":300,\"plot_width\":700,\"renderers\":[{\"id\":\"594a8aaa-60f1-4ffb-9438-b517a7214aea\",\"type\":\"LinearAxis\"},{\"id\":\"00e2a6dc-8836-4d32-9383-bf61cac07275\",\"type\":\"Grid\"},{\"id\":\"841cfea7-4774-44fc-b477-c7532ef1bf1a\",\"type\":\"LinearAxis\"},{\"id\":\"3891b2c2-04d1-4fb3-9dab-106d37ad909f\",\"type\":\"Grid\"},{\"id\":\"6056444c-ab71-47e5-b7dc-998363c97b25\",\"type\":\"Span\"},{\"id\":\"c4eb7e4f-18fe-48e7-8489-0a566e48da68\",\"type\":\"GlyphRenderer\"}],\"title\":{\"id\":\"9c7c033d-da8d-47cf-b8e0-a7ea1567bc7d\",\"type\":\"Title\"},\"toolbar\":{\"id\":\"da722ad4-6500-43b5-9154-89c39a77d124\",\"type\":\"Toolbar\"},\"toolbar_location\":\"above\",\"x_range\":{\"id\":\"ac79e68b-a98d-4612-afaa-54238820a933\",\"type\":\"DataRange1d\"},\"x_scale\":{\"id\":\"3a73d5ab-a961-4400-a5db-148d3b3b5e92\",\"type\":\"LinearScale\"},\"y_range\":{\"id\":\"d934b6f4-3564-4240-b8c3-e0c3fffb40e3\",\"type\":\"DataRange1d\"},\"y_scale\":{\"id\":\"c103599f-54d7-4eac-adcd-a4c0251caba4\",\"type\":\"LinearScale\"}},\"id\":\"1c13a976-e45f-49df-9d23-e49e6e5cab3f\",\"subtype\":\"Figure\",\"type\":\"Plot\"},{\"attributes\":{\"dimension\":1,\"plot\":{\"id\":\"9cb32d03-4889-4a8e-9b2c-29f37692e9d6\",\"subtype\":\"Figure\",\"type\":\"Plot\"},\"ticker\":{\"id\":\"38bddc0b-f312-445b-88dd-a7657e7612bc\",\"type\":\"BasicTicker\"}},\"id\":\"2bd2edb9-5e73-42ee-91f4-2b7c4fc2b07b\",\"type\":\"Grid\"},{\"attributes\":{\"axis_label\":\"Distance\",\"formatter\":{\"id\":\"6e0c8c6a-d5f3-4c2f-8328-c68edf88ea19\",\"type\":\"BasicTickFormatter\"},\"plot\":{\"id\":\"1c13a976-e45f-49df-9d23-e49e6e5cab3f\",\"subtype\":\"Figure\",\"type\":\"Plot\"},\"ticker\":{\"id\":\"f182b101-6075-4e95-a3f9-30941ae45d7b\",\"type\":\"BasicTicker\"}},\"id\":\"841cfea7-4774-44fc-b477-c7532ef1bf1a\",\"type\":\"LinearAxis\"},{\"attributes\":{\"line_alpha\":0.1,\"line_color\":\"#1f77b4\",\"line_width\":2.5,\"x\":{\"field\":\"x\"},\"y\":{\"field\":\"y\"}},\"id\":\"4a44382f-a07d-4e43-a117-561f33a95457\",\"type\":\"Line\"},{\"attributes\":{\"plot\":{\"id\":\"1c13a976-e45f-49df-9d23-e49e6e5cab3f\",\"subtype\":\"Figure\",\"type\":\"Plot\"},\"ticker\":{\"id\":\"01e5c4e5-61fd-48e4-a9ec-dc9781b8c1a9\",\"type\":\"BasicTicker\"}},\"id\":\"00e2a6dc-8836-4d32-9383-bf61cac07275\",\"type\":\"Grid\"},{\"attributes\":{\"line_color\":{\"value\":\"grey\"},\"location\":0,\"plot\":null},\"id\":\"42f763d4-3352-4c93-923e-41dc7218436d\",\"type\":\"Span\"},{\"attributes\":{\"callback\":null},\"id\":\"ac79e68b-a98d-4612-afaa-54238820a933\",\"type\":\"DataRange1d\"},{\"attributes\":{\"callback\":null,\"data\":{\"x\":{\"__ndarray__\":\"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\",\"dtype\":\"float64\",\"shape\":[315]},\"y\":{\"__ndarray__\":\"AAAAAAAAJEDKfux2vv8jQH54X935/iNAGlphOLL9I0BLX1WQ5/sjQHdb+fCZ+SNAxWxlacn2I0A1mQsMdvMjQL9Vt+6f7yNAeveMKkfrI0DYDgnca+YjQPus/yIO4SNAF5ObIi7bI0D/S10BzNQjQM0vGunnzSNAwlH7BoLGI0BIWHyLmr4jQDc/aqoxtiNAXgTimketI0BQPk+X3KMjQIydat3wmSNA+Fc4roSPI0DQfgZOmIQjQP4+awQseSNA+AtDHEBtI0Alta7j1GAjQNVlEazqUyNA5o8OyoFGI0APwYeVmjgjQPhimmk1KiNAFGadpFIbI0Bl1x6o8gsjQCFh4dgV/CJAX7bZnrzrIkDP6Stl59oiQJKvKJqWySJASIpKr8q3IkBe4zIZhKUiQLEOp0/DkiJArzmNzYh/IkDbRekQ1WsiQACP2ZqoVyJA+5yT7wNDIkBNwWCW5y0iQIKgmhlUGCJAfKenBkoCIkDQbPftyeshQCj+/mLU1CFA9hk1/Gm9IUBSVQ5Ti6UhQFIu+QM5jSFA4AparnN0IUAeJIf0O1shQIpexHuSQSFA5g4/7HcnIUASrAnx7AwhQO9tFzjy8SBAW9k3cojWIEB5ORJTsLogQFAGIZFqniBA7Tit5beBIEAajckMmWQgQNSwTcUORyBAl2HR0BkpIECpd6fzugogQPK+senl1x9AgAI/PIWZH0DxLcJ3VVofQLThUzpYGh9A4FBPJ4/ZHkD2hEfn+5ceQGR//CegVR5AIDlQnH0SHkCogDv8lc4dQKO2wgTriR1AZ2nqd35EHUDMz6scUv4cQHYj6b5ntxxA+NphL8FvHEAcxKZDYCccQID+DdZG3htAENemxXaUG0B6hC328UkbQPjE/k+6/hpA010LwNGyGkDifMs3OmYaQFv8Ma31GBpAQomfGgbLGUDgrNV+bXwZQHW56dwtLRlApJo3PEndGEDGiVSowYwYQJymATGZOxhAoHQe6tHpF0BoPZvrbZcXQElYa1FvRBdA1Fd3O9jwFkA8HY/NqpwWQETSWy/pRxZA68lRjJXyFUAvSKITspwVQGgxLfhARhVAcKFycETvFEAIa4S2vpcUQOh/9weyPxRAtkHVpSDnE0BsvIzUDI4TQGzK49t4NBNAuiLoBmfaEkCzUeCj2X8SQKucPATTJBJAw9CHfFXJEUB+/VdkY20RQE8bPxb/EBFAnp677yq0EECw9yhR6VYQQHb/Xzt58g9AOqdudk42D0BeOackV3kOQOiPbxyYuw1ASVhKORb9DED7Pbdb1j0MQGz0EmndfQtA/iB3SzC9CkALJprx0/sJQKbPrk7NOQlA8OJDWiF3CEDokCMQ1bMHQHnNMnDt7wZAnItQfm8rBkB33zRCYGYFQDUHUMfEoARAkFupHKLaA0C+KL5U/RMDQMZwYIXbTAJA7peVx0GFAUA+/HQ3Nb0AQKnxDOh16f8/FqxBPrBX/j8/TpC6I8X8P8QsGKvaMfs/V0HMYt+d+T/0gS85PAn4P3waEYr7c/Y/0IlItSfe9D+rpHEey0fzP8d/qCzwsPE/DkNFSqEZ8D8jzy/J0QPtPzvER9ei0+k/EXi3o8qi5j8zOLkXXnHjP3GCUyByP+A/s8KfWzca2j+sZmNm37TTP7h/s5YMnso/TfXj4Fejuz99yVyeC0+AP2rxd1Wij7e/YHwS20WUyL/gbVu7DLDSv1vtsBB8Fdm/hLyIAkd637+qlwvVIe/ivy5E7BKkIOa/WrhRTZVR6b8qo12a4IHsv8AccRRxse+/2cxa7Rhw8b8e39IIBwfzv6gHy3F4nfS/fb6ewGIz9r9+4R6Ru8j3vwrO1YJ4Xfm/OmJLOY/x+r/s40hc9YT8vwbMHJigF/6/7nPenYap/7/r0diRTp0AwOf/hPJsZQHADCl3URktAsB32B2STvQCwAQ/9JoHuwPAFJ+jVT+BBMB9oySv8EYFwMqg4JcWDAbA67/SA6zQBsCGEanqq5QHwASJ5UcRWAjAjt7+GtcaCcAbV4Fn+NwJwLVxLzVwngrAK3kikDlfC8Bc+eqITx8MwBkXsTSt3gzAHMpUrU2dDcD5940RLFsOwFRvDIVDGA/Ak8KXMI/UD8CQgBchBUgQwEMnlPZXpRDASCsotT0CEcC9zgT8s14RwO7VNW24uhHAWQqxrUgWEsDUqmVlYnESwBfISz8DzBLAVI1z6SgmE8C5dBQV0X8TwA5nnHb52BPAe8a+xZ8xFMCoY4O9wYkUwENdVRxd4RTAFOkRpG84FcDEBhca944VwFwbUkfx5BXAyXVO+Fs6FsBUu0P9NI8WwFI8JCp64xbALjCrVik3F8DM2GpeQIoXwJiM2iC93BfARqdkgZ0uGMBuYHRn338YwDKIg76A0BjABykodn8gGcDUDiKC2W8ZwH4yaNqMvhnAJwo2e5cMGsAhvRhl91kawNw7/JyqphrA8zo4LK/yGsByEZ0gAz4bwLR5gIykiBvAljTKhpHSG8DcjgAryBscwCLIVJlGZBzAYluv9gqsHMBqKLxsE/McwEZ+9ileOR3A5gW1Yel+HcBGjTVMs8MdwBSyqCa6Bx7AP2w9M/xKHsCDdyy5d40ewDKcwwQrzx7AcNZwZxQQH8AUXM03MlAfwHCAqNGCjx/AJnYSlgTOH8Aud7P12gUgwLvKq55KJCDATjZ7flBCIMAaAGDQ618gwGK9UtIbfSDADkoLxd+ZIMA6rgXsNrYgwK/xho0g0iDAEN2h8pvtIMCoqDtnqAghwMaYEDpFIyHAaIe4vHE9IcBCW6tDLVchwNZrRSZ3cCHAstLLvk6JIcB+qXBqs6EhwPw0V4mkuSHAqvyXfiHRIcAOz0SwKeghwHqybIe8/iHASMIfcNkUIsBV+HLZfyoiwMLigzWvPyLAx0V8+WZUIsCXqZWdpmgiwCzUHJ1tfCLA8i51druPIsAuGByrj6IiwBkgrL/ptCLAijHgO8nGIsAwppaqLdgiwCVG1JkW6SLA+TLHmoP5IsDrvclBdAkjwGApZSboGCPAiVVU494nI8AFWIYWWDYjwJn+IGFTRCPAxTyDZ9BRI8BMhEfRzl4jwH4IRklOayPASuyWfU53I8AIW5Qfz4IjwOKL3OPPjSPA1q9TglCYI8BPyiW2UKIjwC90yD3QqyPAWYn82s60I8CfwM9STL0jwBEunm1IxSPAo68T98LMI8AcRC2+u9MjwEVMOpUy2iPAYrbdUSfgI8DHEw/NmeUjwLCYG+OJ6iPAMAanc/fuI8BCfqxh4vIjwP1Bf5NK9iPAzlnL8i/5I8DWJ5ZskvsjwEPkPvFx/SPAvwN/dM7+I8Dhh2rtp/8jwKY5cFb+/yPA\",\"dtype\":\"float64\",\"shape\":[315]}},\"selected\":{\"id\":\"e00a4fa0-d662-4431-9ac1-4de8196d74af\",\"type\":\"Selection\"},\"selection_policy\":{\"id\":\"ed9bfd91-0cff-4491-bba8-a22619ee6bc2\",\"type\":\"UnionRenderers\"}},\"id\":\"ec71037b-89c1-488e-be57-0618d85b0fa8\",\"type\":\"ColumnDataSource\"},{\"attributes\":{\"plot\":null,\"text\":\"\"},\"id\":\"9c7c033d-da8d-47cf-b8e0-a7ea1567bc7d\",\"type\":\"Title\"},{\"attributes\":{},\"id\":\"25acc64d-6816-4e3b-b9c7-57d32e936b0d\",\"type\":\"PanTool\"},{\"attributes\":{},\"id\":\"01e5c4e5-61fd-48e4-a9ec-dc9781b8c1a9\",\"type\":\"BasicTicker\"},{\"attributes\":{\"line_color\":\"darkred\",\"line_width\":2.5,\"x\":{\"field\":\"x\"},\"y\":{\"field\":\"y\"}},\"id\":\"25b8405e-1594-49bb-97c5-39290c6aa87a\",\"type\":\"Line\"},{\"attributes\":{},\"id\":\"3a73d5ab-a961-4400-a5db-148d3b3b5e92\",\"type\":\"LinearScale\"},{\"attributes\":{\"callback\":null,\"renderers\":\"auto\",\"tooltips\":[[\"out\",\"$y\"],[\"x\",\"$x\"]]},\"id\":\"6d4fc492-f561-40ac-b349-0d622c0271e1\",\"type\":\"HoverTool\"},{\"attributes\":{},\"id\":\"ce75ab14-4a18-49ca-9cdf-a3735298053e\",\"type\":\"WheelZoomTool\"},{\"attributes\":{\"plot\":null,\"text\":\"\"},\"id\":\"af49103d-06ff-4122-b7ec-3366ddff1686\",\"type\":\"Title\"},{\"attributes\":{},\"id\":\"24859e9c-5d6d-4586-b7ef-cb7f63cbd007\",\"type\":\"ResetTool\"},{\"attributes\":{\"source\":{\"id\":\"97424ce7-ecf5-4eb8-895b-dbddf9ee97de\",\"type\":\"ColumnDataSource\"}},\"id\":\"8f6e8043-eea0-4609-b3d3-193b58db5f11\",\"type\":\"CDSView\"},{\"attributes\":{\"data_source\":{\"id\":\"97424ce7-ecf5-4eb8-895b-dbddf9ee97de\",\"type\":\"ColumnDataSource\"},\"glyph\":{\"id\":\"14cab1c7-dd48-4022-84e1-c7b691eb768b\",\"type\":\"Line\"},\"hover_glyph\":null,\"muted_glyph\":null,\"nonselection_glyph\":{\"id\":\"4a44382f-a07d-4e43-a117-561f33a95457\",\"type\":\"Line\"},\"selection_glyph\":null,\"view\":{\"id\":\"8f6e8043-eea0-4609-b3d3-193b58db5f11\",\"type\":\"CDSView\"}},\"id\":\"c4eb7e4f-18fe-48e7-8489-0a566e48da68\",\"type\":\"GlyphRenderer\"},{\"attributes\":{\"line_alpha\":0.1,\"line_color\":\"#1f77b4\",\"line_width\":2.5,\"x\":{\"field\":\"x\"},\"y\":{\"field\":\"y\"}},\"id\":\"15ca1b0d-9ceb-4c79-b463-153406190144\",\"type\":\"Line\"},{\"attributes\":{\"data_source\":{\"id\":\"a3a8a658-742e-4f95-9b71-289823f8fef3\",\"type\":\"ColumnDataSource\"},\"glyph\":{\"id\":\"25b8405e-1594-49bb-97c5-39290c6aa87a\",\"type\":\"Line\"},\"hover_glyph\":null,\"muted_glyph\":null,\"nonselection_glyph\":{\"id\":\"15ca1b0d-9ceb-4c79-b463-153406190144\",\"type\":\"Line\"},\"selection_glyph\":null,\"view\":{\"id\":\"4777a07b-0b35-4259-af75-da7763ade0b0\",\"type\":\"CDSView\"}},\"id\":\"4a093bf0-4c9d-4e53-98c7-d60465e1fcd9\",\"type\":\"GlyphRenderer\"},{\"attributes\":{\"dimension\":1,\"plot\":{\"id\":\"1c13a976-e45f-49df-9d23-e49e6e5cab3f\",\"subtype\":\"Figure\",\"type\":\"Plot\"},\"ticker\":{\"id\":\"f182b101-6075-4e95-a3f9-30941ae45d7b\",\"type\":\"BasicTicker\"}},\"id\":\"3891b2c2-04d1-4fb3-9dab-106d37ad909f\",\"type\":\"Grid\"},{\"attributes\":{\"source\":{\"id\":\"a3a8a658-742e-4f95-9b71-289823f8fef3\",\"type\":\"ColumnDataSource\"}},\"id\":\"4777a07b-0b35-4259-af75-da7763ade0b0\",\"type\":\"CDSView\"},{\"attributes\":{},\"id\":\"f182b101-6075-4e95-a3f9-30941ae45d7b\",\"type\":\"BasicTicker\"},{\"attributes\":{\"children\":[{\"id\":\"1c13a976-e45f-49df-9d23-e49e6e5cab3f\",\"subtype\":\"Figure\",\"type\":\"Plot\"},{\"id\":\"ef12e4de-c043-4576-8691-d21b88eef521\",\"subtype\":\"Figure\",\"type\":\"Plot\"},{\"id\":\"9cb32d03-4889-4a8e-9b2c-29f37692e9d6\",\"subtype\":\"Figure\",\"type\":\"Plot\"}]},\"id\":\"497ce804-3f70-47e4-a659-d68d21f4606e\",\"type\":\"Column\"},{\"attributes\":{\"below\":[{\"id\":\"38801ee0-ab4a-44e5-bb15-c365b84bfba8\",\"type\":\"LinearAxis\"}],\"left\":[{\"id\":\"bb74b1b8-5c39-4ec6-ac5c-675ac8a623ee\",\"type\":\"LinearAxis\"}],\"plot_height\":300,\"plot_width\":700,\"renderers\":[{\"id\":\"38801ee0-ab4a-44e5-bb15-c365b84bfba8\",\"type\":\"LinearAxis\"},{\"id\":\"76bdd543-8b7d-4f4b-ac87-765715da76d6\",\"type\":\"Grid\"},{\"id\":\"bb74b1b8-5c39-4ec6-ac5c-675ac8a623ee\",\"type\":\"LinearAxis\"},{\"id\":\"2bd2edb9-5e73-42ee-91f4-2b7c4fc2b07b\",\"type\":\"Grid\"},{\"id\":\"42f763d4-3352-4c93-923e-41dc7218436d\",\"type\":\"Span\"},{\"id\":\"70f59d09-893f-48f2-bfe1-7a8d928c8937\",\"type\":\"GlyphRenderer\"}],\"title\":{\"id\":\"efb3b1dc-1597-423e-821d-b846c4241df0\",\"type\":\"Title\"},\"toolbar\":{\"id\":\"76cd9b01-9b27-46fb-8e64-ba052d735f74\",\"type\":\"Toolbar\"},\"toolbar_location\":\"above\",\"x_range\":{\"id\":\"6747590e-4b12-4383-b7d4-8c3c75063f27\",\"type\":\"DataRange1d\"},\"x_scale\":{\"id\":\"71e4476b-c1da-4e23-9b78-8656d9e5e091\",\"type\":\"LinearScale\"},\"y_range\":{\"id\":\"11c5dbc1-f57e-4523-8b40-5ef93fb4ba23\",\"type\":\"DataRange1d\"},\"y_scale\":{\"id\":\"29f6247d-0a9f-4190-a2c9-ce590f30881a\",\"type\":\"LinearScale\"}},\"id\":\"9cb32d03-4889-4a8e-9b2c-29f37692e9d6\",\"subtype\":\"Figure\",\"type\":\"Plot\"},{\"attributes\":{\"line_color\":\"gold\",\"line_width\":2.5,\"x\":{\"field\":\"x\"},\"y\":{\"field\":\"y\"}},\"id\":\"f491bf3d-111a-4dd7-a41c-a51a11e14d63\",\"type\":\"Line\"},{\"attributes\":{\"line_alpha\":0.1,\"line_color\":\"#1f77b4\",\"line_width\":2.5,\"x\":{\"field\":\"x\"},\"y\":{\"field\":\"y\"}},\"id\":\"a50cd937-fbf5-4160-95e5-a2da23030187\",\"type\":\"Line\"},{\"attributes\":{\"callback\":null},\"id\":\"e3bdc725-b571-474c-a71a-b8f2bd653f6f\",\"type\":\"DataRange1d\"},{\"attributes\":{\"data_source\":{\"id\":\"ec71037b-89c1-488e-be57-0618d85b0fa8\",\"type\":\"ColumnDataSource\"},\"glyph\":{\"id\":\"f491bf3d-111a-4dd7-a41c-a51a11e14d63\",\"type\":\"Line\"},\"hover_glyph\":null,\"muted_glyph\":null,\"nonselection_glyph\":{\"id\":\"a50cd937-fbf5-4160-95e5-a2da23030187\",\"type\":\"Line\"},\"selection_glyph\":null,\"view\":{\"id\":\"65c429f7-f671-434f-b1df-1aa07a39b525\",\"type\":\"CDSView\"}},\"id\":\"70f59d09-893f-48f2-bfe1-7a8d928c8937\",\"type\":\"GlyphRenderer\"},{\"attributes\":{\"line_color\":{\"value\":\"grey\"},\"location\":0,\"plot\":null},\"id\":\"6056444c-ab71-47e5-b7dc-998363c97b25\",\"type\":\"Span\"},{\"attributes\":{\"source\":{\"id\":\"ec71037b-89c1-488e-be57-0618d85b0fa8\",\"type\":\"ColumnDataSource\"}},\"id\":\"65c429f7-f671-434f-b1df-1aa07a39b525\",\"type\":\"CDSView\"},{\"attributes\":{\"callback\":null,\"renderers\":\"auto\",\"tooltips\":[[\"out\",\"$y\"],[\"x\",\"$x\"]]},\"id\":\"aa6a03f3-551e-44df-b113-21108fa9a659\",\"type\":\"HoverTool\"},{\"attributes\":{\"line_color\":{\"value\":\"grey\"},\"location\":0,\"plot\":null},\"id\":\"f1e2e577-114f-4775-a5fd-c52aad69f6ff\",\"type\":\"Span\"},{\"attributes\":{},\"id\":\"ff87c9f8-3c74-45ca-9ffb-cf8a0d172c69\",\"type\":\"BasicTickFormatter\"},{\"attributes\":{},\"id\":\"a3ffb5f2-a791-431b-9181-4ff6cc1392e8\",\"type\":\"Selection\"},{\"attributes\":{},\"id\":\"e2822097-cfb9-45d2-a02f-05d32fc488d3\",\"type\":\"UnionRenderers\"},{\"attributes\":{},\"id\":\"0a2aa88e-3bc0-4d29-a9ab-33efd4eae749\",\"type\":\"BasicTickFormatter\"},{\"attributes\":{},\"id\":\"6e0c8c6a-d5f3-4c2f-8328-c68edf88ea19\",\"type\":\"BasicTickFormatter\"},{\"attributes\":{},\"id\":\"b3e44e13-c0e2-41bc-b086-9ee48843570f\",\"type\":\"BasicTickFormatter\"},{\"attributes\":{},\"id\":\"52212148-becb-441a-81f3-eb79210aecbd\",\"type\":\"BasicTickFormatter\"},{\"attributes\":{},\"id\":\"049e6be6-8da2-4ed3-879b-16f4c4f7a33c\",\"type\":\"BasicTickFormatter\"},{\"attributes\":{},\"id\":\"aa7cd1a6-ace0-4df2-bf55-6492c3883410\",\"type\":\"WheelZoomTool\"},{\"attributes\":{},\"id\":\"cf8dcd88-a3ac-409a-b840-053f7491657f\",\"type\":\"Selection\"},{\"attributes\":{},\"id\":\"6354db26-9360-41f3-9fa9-0537eaf1064d\",\"type\":\"PanTool\"},{\"attributes\":{},\"id\":\"e4f3a55b-f8a0-4a9c-8bde-18e080b95f6f\",\"type\":\"UnionRenderers\"},{\"attributes\":{\"callback\":null},\"id\":\"d934b6f4-3564-4240-b8c3-e0c3fffb40e3\",\"type\":\"DataRange1d\"},{\"attributes\":{\"axis_label\":\"Time\",\"formatter\":{\"id\":\"0a2aa88e-3bc0-4d29-a9ab-33efd4eae749\",\"type\":\"BasicTickFormatter\"},\"plot\":{\"id\":\"ef12e4de-c043-4576-8691-d21b88eef521\",\"subtype\":\"Figure\",\"type\":\"Plot\"},\"ticker\":{\"id\":\"fe2d3fc4-3e94-4f42-869f-d177c9b3f4c5\",\"type\":\"BasicTicker\"}},\"id\":\"40cf1fce-1b55-4237-b9b2-3d151a2d8e64\",\"type\":\"LinearAxis\"},{\"attributes\":{},\"id\":\"b3b9fe59-9db5-461c-8439-e0c37dd6dbc7\",\"type\":\"LinearScale\"},{\"attributes\":{},\"id\":\"455af5cc-a34e-4510-8caf-840d2c34bce9\",\"type\":\"ResetTool\"}],\"root_ids\":[\"497ce804-3f70-47e4-a659-d68d21f4606e\"]},\"title\":\"Bokeh Application\",\"version\":\"0.13.0\"}};\n",
       "  var render_items = [{\"docid\":\"c1b178d1-da4e-48be-92fb-5ca5a7b6ab62\",\"roots\":{\"497ce804-3f70-47e4-a659-d68d21f4606e\":\"3f77dee3-b2f1-4f53-8cdc-db1f22798891\"}}];\n",
       "  root.Bokeh.embed.embed_items_notebook(docs_json, render_items);\n",
       "\n",
       "  }\n",
       "  if (root.Bokeh !== undefined) {\n",
       "    embed_document(root);\n",
       "  } else {\n",
       "    var attempts = 0;\n",
       "    var timer = setInterval(function(root) {\n",
       "      if (root.Bokeh !== undefined) {\n",
       "        embed_document(root);\n",
       "        clearInterval(timer);\n",
       "      }\n",
       "      attempts++;\n",
       "      if (attempts > 100) {\n",
       "        console.log(\"Bokeh: ERROR: Unable to run BokehJS code because BokehJS library is missing\")\n",
       "        clearInterval(timer);\n",
       "      }\n",
       "    }, 10, root)\n",
       "  }\n",
       "})(window);"
      ],
      "application/vnd.bokehjs_exec.v0+json": ""
     },
     "metadata": {
      "application/vnd.bokehjs_exec.v0+json": {
       "id": "497ce804-3f70-47e4-a659-d68d21f4606e"
      }
     },
     "output_type": "display_data"
    }
   ],
   "source": [
    "# Functions\n",
    "f = lambda time: -10*np.cos(time) + 10\n",
    "df = lambda time: 10*np.sin(time)\n",
    "ddf = lambda time: 10*np.cos(time)\n",
    "\n",
    "# Domain\n",
    "time = np.arange(0,(np.pi),.01)\n",
    "\n",
    "# Plot\n",
    "dim = 300,700\n",
    "p = plot(h=dim[0],w=dim[1],y=\"Distance\",x=\"Time\")\n",
    "p1 = plot(h=dim[0],w=dim[1],y=\"Speed\",x=\"Time\")\n",
    "p2 = plot(h=dim[0],w=dim[1],y=\"Acceleration\",x=\"Time\")\n",
    "p.line(time,f(time),line_width=2.5)\n",
    "p1.line(time,df(time),line_width=2.5,color=\"darkred\")\n",
    "p2.line(time,ddf(time),line_width=2.5,color=\"gold\")\n",
    "show(column(p,p1,p2))"
   ]
  },
  {
   "cell_type": "markdown",
   "metadata": {},
   "source": [
    "### Notation\n",
    "\n",
    "For any given function $f(x)$ that is continuous and differentiable within the domain $x \\in [a,b]$\n",
    "\n",
    "<br>\n",
    "<br>\n",
    "\n",
    "$$ \\text{first-order derivative}: \\frac{df(x)}{dx} = \\lim_{h\\to0}\\frac{f(x-h)-f(x)}{h} = f'(x) = D_x$$\n",
    "\n",
    "<br>\n",
    "<br>\n",
    "\n",
    "$$ \\text{second-order derivative}: \\frac{d^2f(x)}{dx^2} = \\lim_{h\\to0}\\frac{f'(x-h)-f'(x)}{h} = f''(x) = D_x^2$$\n",
    "\n",
    "<br>\n",
    "<br>\n",
    "\n",
    "$$ \\vdots $$\n",
    "\n",
    "<br>\n",
    "<br>\n",
    "\n",
    "$$ \\text{nth-order derivative}: \\frac{d^{n}f(x)}{dx^n} = \\lim_{h\\to0}\\frac{f^{(n)}(x-h)-f^{(n)}(x)}{h} = f^{(n)}(x) = D_x^n$$\n",
    "\n",
    "<br>\n",
    "<br>"
   ]
  },
  {
   "cell_type": "markdown",
   "metadata": {},
   "source": [
    "### Visualization"
   ]
  },
  {
   "cell_type": "code",
   "execution_count": 24,
   "metadata": {},
   "outputs": [],
   "source": [
    "def graph(func,x,start=-5,end=5):\n",
    "    '''\n",
    "    Generate an interactive graph of a sympy defined function along with \n",
    "    it's first and second derivatives\n",
    "    \n",
    "    Arguments:\n",
    "    \n",
    "        - func: univariate function defined with a sympy instanitiated symbol.\n",
    "        - start: start of the numpy numerical array\n",
    "        - end: end of the numpy numerical array\n",
    "        \n",
    "    Return:\n",
    "    \n",
    "        - Renders an interactive graph.\n",
    "    '''\n",
    "    \n",
    "    # Establish numerical range\n",
    "    num_range = np.arange(start, end + .1,.1)\n",
    "    \n",
    "    # convert sympy and higher order derivatives into numpy output\n",
    "    f = lambdify(x, func, \"numpy\") \n",
    "    df = lambdify(x, func.diff(), \"numpy\")\n",
    "    ddf = lambdify(x, func.diff().diff(), \"numpy\")\n",
    "\n",
    "    \n",
    "    # Establish Plot\n",
    "    p = figure(width=700,height=400,\n",
    "               toolbar_location=\"above\",\n",
    "               tooltips=[(\"f_\", \"$y\"),(\"x\", \"$x\")],\n",
    "               tools='pan,hover,wheel_zoom,reset')\n",
    "    \n",
    "    # Set Axis spans\n",
    "    vline = Span(location=0, dimension='height', line_color='black', line_width=.5)\n",
    "    hline = Span(location=0, dimension='width', line_color='black', line_width=.5)\n",
    "    p.renderers.extend([hline,vline])\n",
    "    \n",
    "    # Plot function and first/second derivatives\n",
    "    p.line(num_range,f(num_range),\n",
    "           color=\"black\",muted_color='black',muted_alpha=0.1,\n",
    "           line_width=4,alpha=.6,\n",
    "           legend=f\"f({x.name}) = {func}\")\n",
    "    p.line(num_range,df(num_range),\n",
    "           color=\"steelblue\",muted_color='steelblue',muted_alpha=0.1,\n",
    "           line_width=4,alpha=.6,\n",
    "           legend=f\"f'({x.name}) = {func.diff()}\")\n",
    "    p.line(num_range,ddf(num_range),\n",
    "           color=\"orange\",muted_color='orange',muted_alpha=0.1,\n",
    "           line_width=4,alpha=.6,\n",
    "           legend=f\"f''({x.name}) = {func.diff().diff()}\")\n",
    "    \n",
    "    # Add draw feature\n",
    "    p = draw(p)\n",
    "    \n",
    "    # Set plot conditions\n",
    "    p.legend.click_policy=\"mute\"\n",
    "    p.legend.location = \"top_left\"\n",
    "    p.xaxis.axis_label = \"X\"\n",
    "    p.yaxis.axis_label = \"\"\n",
    "    show(p) # Output plot"
   ]
  },
  {
   "cell_type": "markdown",
   "metadata": {},
   "source": [
    "**<font color='forestgreen'>Play</font>** with different functional forms and get a feel for their higher order derivatives."
   ]
  },
  {
   "cell_type": "code",
   "execution_count": 25,
   "metadata": {},
   "outputs": [],
   "source": [
    "z = symbols('z') # define symbol z"
   ]
  },
  {
   "cell_type": "code",
   "execution_count": 26,
   "metadata": {},
   "outputs": [
    {
     "data": {
      "text/html": [
       "\n",
       "\n",
       "\n",
       "\n",
       "\n",
       "\n",
       "  <div class=\"bk-root\" id=\"7fe92eea-3066-4e62-9608-25617f32e491\"></div>\n"
      ]
     },
     "metadata": {},
     "output_type": "display_data"
    },
    {
     "data": {
      "application/javascript": [
       "(function(root) {\n",
       "  function embed_document(root) {\n",
       "    \n",
       "  var docs_json = {\"41db4eb1-a524-4911-bb9f-e329e76b9b83\":{\"roots\":{\"references\":[{\"attributes\":{\"axis_label\":\"X\",\"formatter\":{\"id\":\"1c6b1061-b76c-465f-9b59-6faa3665478c\",\"type\":\"BasicTickFormatter\"},\"plot\":{\"id\":\"ea60bb1f-bb90-4b9b-b471-08517df12354\",\"subtype\":\"Figure\",\"type\":\"Plot\"},\"ticker\":{\"id\":\"72dbe773-15d9-455a-bd59-22ad8804f0e5\",\"type\":\"BasicTicker\"}},\"id\":\"b14ef389-b17f-4e59-bd89-1b1793e13822\",\"type\":\"LinearAxis\"},{\"attributes\":{},\"id\":\"3fa4b385-1de5-4953-ac09-56f436b2b622\",\"type\":\"BasicTicker\"},{\"attributes\":{\"source\":{\"id\":\"855905ab-bf2c-4723-9912-7d2fc11a1503\",\"type\":\"ColumnDataSource\"}},\"id\":\"3fb74e95-34a2-4a58-a71a-951c907112b6\",\"type\":\"CDSView\"},{\"attributes\":{},\"id\":\"c39d30d0-944b-43eb-a148-efdcb0efb29a\",\"type\":\"UnionRenderers\"},{\"attributes\":{\"label\":{\"value\":\"f'(z) = -z*sin(z) + cos(z)\"},\"renderers\":[{\"id\":\"3d900551-c14f-4008-84dd-17306844a371\",\"type\":\"GlyphRenderer\"}]},\"id\":\"8c259fcc-2931-46aa-9db1-e1e3352f6383\",\"type\":\"LegendItem\"},{\"attributes\":{\"label\":{\"value\":\"f''(z) = -z*cos(z) - 2*sin(z)\"},\"renderers\":[{\"id\":\"4bb31a16-50be-438b-9106-3bf69916da56\",\"type\":\"GlyphRenderer\"}]},\"id\":\"bd5b27e8-6ae5-4e6b-bd77-aadb4ed9cbf6\",\"type\":\"LegendItem\"},{\"attributes\":{\"source\":{\"id\":\"75d226dd-3833-40cd-ab20-8ff95e2832b3\",\"type\":\"ColumnDataSource\"}},\"id\":\"1d9e65c6-e0dd-49d5-ab5b-0e3ec88422a9\",\"type\":\"CDSView\"},{\"attributes\":{\"plot\":null,\"text\":\"\"},\"id\":\"993e35a1-cc23-4b45-9dcb-de01eba17375\",\"type\":\"Title\"},{\"attributes\":{},\"id\":\"83e4dcc8-2498-442c-ba8b-ccec913f75e8\",\"type\":\"UnionRenderers\"},{\"attributes\":{\"callback\":null,\"data\":{\"x\":{\"__ndarray__\":\"AAAAAAAAFMCamZmZmZkTwDQzMzMzMxPAzszMzMzMEsBoZmZmZmYSwAIAAAAAABLAnJmZmZmZEcA2MzMzMzMRwNDMzMzMzBDAamZmZmZmEMAEAAAAAAAQwDwzMzMzMw/AcGZmZmZmDsCkmZmZmZkNwNjMzMzMzAzADAAAAAAADMBAMzMzMzMLwHRmZmZmZgrAqJmZmZmZCcDczMzMzMwIwBAAAAAAAAjARDMzMzMzB8B4ZmZmZmYGwKyZmZmZmQXA4MzMzMzMBMAUAAAAAAAEwEgzMzMzMwPAfGZmZmZmAsCwmZmZmZkBwOTMzMzMzADAGAAAAAAAAMCYZmZmZmb+vwDNzMzMzPy/aDMzMzMz+7/QmZmZmZn5vzgAAAAAAPi/oGZmZmZm9r8IzczMzMz0v3AzMzMzM/O/2JmZmZmZ8b9AAAAAAADwv1DNzMzMzOy/IJqZmZmZ6b/wZmZmZmbmv8AzMzMzM+O/kAAAAAAA4L/AmpmZmZnZv2A0MzMzM9O/AJyZmZmZyb+AnpmZmZm5vwAAAAAAABS9gJSZmZmZuT8Al5mZmZnJP+AxMzMzM9M/QJiZmZmZ2T+g/v/////fP4AyMzMzM+M/sGVmZmZm5j/gmJmZmZnpPxDMzMzMzOw/QP//////7z84mZmZmZnxP9AyMzMzM/M/aMzMzMzM9D8AZmZmZmb2P5j///////c/MJmZmZmZ+T/IMjMzMzP7P2DMzMzMzPw/+GVmZmZm/j+Q////////P5TMzMzMzABAYJmZmZmZAUAsZmZmZmYCQPgyMzMzMwNAxP//////A0CQzMzMzMwEQFyZmZmZmQVAKGZmZmZmBkD0MjMzMzMHQMD//////wdAjMzMzMzMCEBYmZmZmZkJQCRmZmZmZgpA8DIzMzMzC0C8//////8LQIjMzMzMzAxAVJmZmZmZDUAgZmZmZmYOQOwyMzMzMw9AuP//////D0BCZmZmZmYQQKjMzMzMzBBADjMzMzMzEUB0mZmZmZkRQNr//////xFAQGZmZmZmEkCmzMzMzMwSQAwzMzMzMxNAcpmZmZmZE0DY//////8TQA==\",\"dtype\":\"float64\",\"shape\":[101]},\"y\":{\"__ndarray__\":\"yA5DZrNYA8BQZ2K7YJ/+v1oTsc1MuPa/WRiouAEj7r/mA1nBd/vev7CyyxGUU6q/pPEY8ICL1j+cZUktZCbnP7od+BEO8vA/hnamCV219T9cSbYNTNX5P6SHgD9VTP0/aeADi6ALAEB7Aq4TkBoBQBVb8NWe0wFAD/dIg4U4AkAdu0NZAkwCQOOc1oTIEQJA0G9htWyOAUDTwHwqT8cAQOjYyB0Hhf8/wres8W0N/T8QN0faKDb6P2y4yYtQDvc/THF0wIWl8z+47mbrtQvwP573wRfAoeg/VNXuzrQJ4T+Qyb+yZ9zSP6Dk1AB/z64/lDSyomZ3xb+UE4MGILDYv7K4lc/E6eK/U8QH+Kj96L/O11SpRoHuvxiPev+bsvG/KGKD2qjO87/+vg21YJD1v16k3pIP9fa/kTrdAbn7978yg9oHFKX4v+4YwsOA8/i/l9aT8vfq+L/WEOuc9JD4v0LoSEVY7Pe/gt+WAUoF97+d7Sv7EOX1v1Db09/qlfS/uyO/294i879Kzq6/jZfxv1AAAAAAAPC/p2SigOTQ7L+3uYFIQrrpv3VKWEAq1Oa/uyWoCd415L/IQdL8a/XhvxgwbnVPJ+C/cr1TjC283b/ypbA1IFTcvxKc9/D8Mdy/dPKV4K9r3b82ikX8jQjgv1K2QtrgFeK/yIDklT7f5L8sOvlKrmLovwjgCgHImuy/FZNVq1y/8L+0HPyDK4Hzv2oiNZgdi/a/yDlf/vfT+b8IuKkrE1H9v9hSA/w9ewDAdPhX9oxbAsCWtLszbUIEwCt98AVwKAbApXaz9doFCMD2NzrgwtIJwJHb5EUohwvA8pojbRQbDcBbW9b4toYOwANs5I6Dwg/APGA+ladjEMDIt7BaNscQwF9Oa0LkCBHAi92hLAEmEcCUe6TBQhwRwKYt+GrP6RDAagHXCUiNEMBy8IFF0AUQwG9EwJ8qpg7AbCXbBqbqDMAiPNOErtoKwNsP/AgHeQjAglpSC5nJBcBqHwMecNECwAilcV9jLf+/0MGpDyJB+L/C9qsjf+7wv2PfnWRmj+K/+LzZSfQJtr+QaRgym8XaPw==\",\"dtype\":\"float64\",\"shape\":[101]}},\"selected\":{\"id\":\"9d144a91-9041-4f3c-a598-113a5b328a1d\",\"type\":\"Selection\"},\"selection_policy\":{\"id\":\"c39d30d0-944b-43eb-a148-efdcb0efb29a\",\"type\":\"UnionRenderers\"}},\"id\":\"75d226dd-3833-40cd-ab20-8ff95e2832b3\",\"type\":\"ColumnDataSource\"},{\"attributes\":{},\"id\":\"72dbe773-15d9-455a-bd59-22ad8804f0e5\",\"type\":\"BasicTicker\"},{\"attributes\":{\"label\":{\"value\":\"f(z) = z*cos(z) - 1\"},\"renderers\":[{\"id\":\"02ebe578-7655-45ae-8a35-efb8f3c7a4da\",\"type\":\"GlyphRenderer\"}]},\"id\":\"e135fb57-74ee-43a7-a00f-80dda03a23e4\",\"type\":\"LegendItem\"},{\"attributes\":{\"line_width\":{\"value\":0.5},\"location\":0,\"plot\":null},\"id\":\"d66fc8bd-3c67-4660-b37d-5ba08db20a5c\",\"type\":\"Span\"},{\"attributes\":{},\"id\":\"8b82ca84-d9e8-4df8-a586-8bae7a1345fd\",\"type\":\"UnionRenderers\"},{\"attributes\":{\"line_alpha\":0.6,\"line_color\":\"steelblue\",\"line_width\":4,\"x\":{\"field\":\"x\"},\"y\":{\"field\":\"y\"}},\"id\":\"b570701c-f45f-4d40-bf98-74b3add351d6\",\"type\":\"Line\"},{\"attributes\":{\"fill_color\":{\"value\":\"black\"},\"size\":{\"units\":\"screen\",\"value\":10},\"x\":{\"field\":\"x\"},\"y\":{\"field\":\"y\"}},\"id\":\"6cec7a3e-f1eb-4528-9af0-28ffedc81d82\",\"type\":\"Circle\"},{\"attributes\":{\"line_alpha\":0.1,\"line_color\":\"orange\",\"line_width\":4,\"x\":{\"field\":\"x\"},\"y\":{\"field\":\"y\"}},\"id\":\"53dec7d5-3001-40fa-93c3-0e93f1df1885\",\"type\":\"Line\"},{\"attributes\":{\"data_source\":{\"id\":\"75d226dd-3833-40cd-ab20-8ff95e2832b3\",\"type\":\"ColumnDataSource\"},\"glyph\":{\"id\":\"96d71177-81ae-4cfa-bebc-07d646bfb39e\",\"type\":\"Line\"},\"hover_glyph\":null,\"muted_glyph\":{\"id\":\"e502d024-a2ca-4066-b232-420a7dc171e0\",\"type\":\"Line\"},\"nonselection_glyph\":{\"id\":\"61a92714-d779-4227-b28f-a98a1754bb9f\",\"type\":\"Line\"},\"selection_glyph\":null,\"view\":{\"id\":\"1d9e65c6-e0dd-49d5-ab5b-0e3ec88422a9\",\"type\":\"CDSView\"}},\"id\":\"02ebe578-7655-45ae-8a35-efb8f3c7a4da\",\"type\":\"GlyphRenderer\"},{\"attributes\":{},\"id\":\"d1e9f7c5-7837-4344-b5ce-d08b02862d06\",\"type\":\"Selection\"},{\"attributes\":{\"line_alpha\":0.1,\"line_color\":\"#1f77b4\",\"line_width\":4,\"x\":{\"field\":\"x\"},\"y\":{\"field\":\"y\"}},\"id\":\"1305dca9-862f-4726-87ff-5c21313dd9d2\",\"type\":\"Line\"},{\"attributes\":{\"click_policy\":\"mute\",\"items\":[{\"id\":\"e135fb57-74ee-43a7-a00f-80dda03a23e4\",\"type\":\"LegendItem\"},{\"id\":\"8c259fcc-2931-46aa-9db1-e1e3352f6383\",\"type\":\"LegendItem\"},{\"id\":\"bd5b27e8-6ae5-4e6b-bd77-aadb4ed9cbf6\",\"type\":\"LegendItem\"}],\"location\":\"top_left\",\"plot\":{\"id\":\"ea60bb1f-bb90-4b9b-b471-08517df12354\",\"subtype\":\"Figure\",\"type\":\"Plot\"}},\"id\":\"de71f0c3-194c-4069-933c-40e8c598b860\",\"type\":\"Legend\"},{\"attributes\":{\"callback\":null,\"data\":{\"x\":[],\"y\":[]},\"selected\":{\"id\":\"91bab94b-38bd-48d3-9b19-8cd799ce1d36\",\"type\":\"Selection\"},\"selection_policy\":{\"id\":\"8b82ca84-d9e8-4df8-a586-8bae7a1345fd\",\"type\":\"UnionRenderers\"}},\"id\":\"dca95173-0f66-45f6-8225-6f8c6a5482e5\",\"type\":\"ColumnDataSource\"},{\"attributes\":{\"fill_alpha\":{\"value\":0.1},\"fill_color\":{\"value\":\"#1f77b4\"},\"line_alpha\":{\"value\":0.1},\"line_color\":{\"value\":\"#1f77b4\"},\"size\":{\"units\":\"screen\",\"value\":10},\"x\":{\"field\":\"x\"},\"y\":{\"field\":\"y\"}},\"id\":\"7f1c38f7-53b7-487a-9423-1528a9e96326\",\"type\":\"Circle\"},{\"attributes\":{\"active_drag\":\"auto\",\"active_inspect\":\"auto\",\"active_multi\":null,\"active_scroll\":\"auto\",\"active_tap\":{\"id\":\"52d247bf-744d-41ee-8189-4a1b4d28caef\",\"type\":\"PointDrawTool\"},\"tools\":[{\"id\":\"6e0594df-8cfb-4193-b352-027d8e3ccaf8\",\"type\":\"PanTool\"},{\"id\":\"411f39b3-c1e8-4261-ae93-db76098f5724\",\"type\":\"HoverTool\"},{\"id\":\"645dd93b-f5a3-40a8-bfe4-2a8d5c9a0e5b\",\"type\":\"WheelZoomTool\"},{\"id\":\"558c9fee-a310-46c2-8a85-977b56e4ea2c\",\"type\":\"ResetTool\"},{\"id\":\"52d247bf-744d-41ee-8189-4a1b4d28caef\",\"type\":\"PointDrawTool\"}]},\"id\":\"661400a8-0543-4515-a888-f6ac2f3522fc\",\"type\":\"Toolbar\"},{\"attributes\":{\"formatter\":{\"id\":\"67994b1f-4c74-44ba-9175-f9fb6fe533a4\",\"type\":\"BasicTickFormatter\"},\"plot\":{\"id\":\"ea60bb1f-bb90-4b9b-b471-08517df12354\",\"subtype\":\"Figure\",\"type\":\"Plot\"},\"ticker\":{\"id\":\"3fa4b385-1de5-4953-ac09-56f436b2b622\",\"type\":\"BasicTicker\"}},\"id\":\"29483ce2-e2e5-4227-9e8b-daea0b3c612a\",\"type\":\"LinearAxis\"},{\"attributes\":{\"callback\":null},\"id\":\"9b647fc0-20da-4bf9-9ec8-e1110eb171c6\",\"type\":\"DataRange1d\"},{\"attributes\":{\"dimension\":1,\"plot\":{\"id\":\"ea60bb1f-bb90-4b9b-b471-08517df12354\",\"subtype\":\"Figure\",\"type\":\"Plot\"},\"ticker\":{\"id\":\"3fa4b385-1de5-4953-ac09-56f436b2b622\",\"type\":\"BasicTicker\"}},\"id\":\"094d5339-968d-45f6-a313-f795c8a5b4ea\",\"type\":\"Grid\"},{\"attributes\":{\"data_source\":{\"id\":\"855905ab-bf2c-4723-9912-7d2fc11a1503\",\"type\":\"ColumnDataSource\"},\"glyph\":{\"id\":\"dda0e1ff-d11d-4f0d-9b46-a3d0d2689875\",\"type\":\"Line\"},\"hover_glyph\":null,\"muted_glyph\":{\"id\":\"53dec7d5-3001-40fa-93c3-0e93f1df1885\",\"type\":\"Line\"},\"nonselection_glyph\":{\"id\":\"f255b21e-f35d-4d76-b917-9c3ecc86b68e\",\"type\":\"Line\"},\"selection_glyph\":null,\"view\":{\"id\":\"3fb74e95-34a2-4a58-a71a-951c907112b6\",\"type\":\"CDSView\"}},\"id\":\"4bb31a16-50be-438b-9106-3bf69916da56\",\"type\":\"GlyphRenderer\"},{\"attributes\":{\"plot\":{\"id\":\"ea60bb1f-bb90-4b9b-b471-08517df12354\",\"subtype\":\"Figure\",\"type\":\"Plot\"},\"ticker\":{\"id\":\"72dbe773-15d9-455a-bd59-22ad8804f0e5\",\"type\":\"BasicTicker\"}},\"id\":\"4690b39a-1880-4a9c-bee9-a403f1c1e1ca\",\"type\":\"Grid\"},{\"attributes\":{},\"id\":\"f36dd4e1-5092-4833-a7c7-0bdd0628064b\",\"type\":\"UnionRenderers\"},{\"attributes\":{\"line_alpha\":0.1,\"line_color\":\"steelblue\",\"line_width\":4,\"x\":{\"field\":\"x\"},\"y\":{\"field\":\"y\"}},\"id\":\"b4646ae8-cc8d-4b2f-95e8-c04f532733fe\",\"type\":\"Line\"},{\"attributes\":{\"line_alpha\":0.1,\"line_color\":\"#1f77b4\",\"line_width\":4,\"x\":{\"field\":\"x\"},\"y\":{\"field\":\"y\"}},\"id\":\"f255b21e-f35d-4d76-b917-9c3ecc86b68e\",\"type\":\"Line\"},{\"attributes\":{\"line_alpha\":0.6,\"line_width\":4,\"x\":{\"field\":\"x\"},\"y\":{\"field\":\"y\"}},\"id\":\"96d71177-81ae-4cfa-bebc-07d646bfb39e\",\"type\":\"Line\"},{\"attributes\":{\"source\":{\"id\":\"ec103df1-11c1-4f2b-9165-0908a5985f0e\",\"type\":\"ColumnDataSource\"}},\"id\":\"6810885f-022d-4a2a-ab6d-e1457e0b9387\",\"type\":\"CDSView\"},{\"attributes\":{\"callback\":null,\"data\":{\"x\":{\"__ndarray__\":\"AAAAAAAAFMCamZmZmZkTwDQzMzMzMxPAzszMzMzMEsBoZmZmZmYSwAIAAAAAABLAnJmZmZmZEcA2MzMzMzMRwNDMzMzMzBDAamZmZmZmEMAEAAAAAAAQwDwzMzMzMw/AcGZmZmZmDsCkmZmZmZkNwNjMzMzMzAzADAAAAAAADMBAMzMzMzMLwHRmZmZmZgrAqJmZmZmZCcDczMzMzMwIwBAAAAAAAAjARDMzMzMzB8B4ZmZmZmYGwKyZmZmZmQXA4MzMzMzMBMAUAAAAAAAEwEgzMzMzMwPAfGZmZmZmAsCwmZmZmZkBwOTMzMzMzADAGAAAAAAAAMCYZmZmZmb+vwDNzMzMzPy/aDMzMzMz+7/QmZmZmZn5vzgAAAAAAPi/oGZmZmZm9r8IzczMzMz0v3AzMzMzM/O/2JmZmZmZ8b9AAAAAAADwv1DNzMzMzOy/IJqZmZmZ6b/wZmZmZmbmv8AzMzMzM+O/kAAAAAAA4L/AmpmZmZnZv2A0MzMzM9O/AJyZmZmZyb+AnpmZmZm5vwAAAAAAABS9gJSZmZmZuT8Al5mZmZnJP+AxMzMzM9M/QJiZmZmZ2T+g/v/////fP4AyMzMzM+M/sGVmZmZm5j/gmJmZmZnpPxDMzMzMzOw/QP//////7z84mZmZmZnxP9AyMzMzM/M/aMzMzMzM9D8AZmZmZmb2P5j///////c/MJmZmZmZ+T/IMjMzMzP7P2DMzMzMzPw/+GVmZmZm/j+Q////////P5TMzMzMzABAYJmZmZmZAUAsZmZmZmYCQPgyMzMzMwNAxP//////A0CQzMzMzMwEQFyZmZmZmQVAKGZmZmZmBkD0MjMzMzMHQMD//////wdAjMzMzMzMCEBYmZmZmZkJQCRmZmZmZgpA8DIzMzMzC0C8//////8LQIjMzMzMzAxAVJmZmZmZDUAgZmZmZmYOQOwyMzMzMw9AuP//////D0BCZmZmZmYQQKjMzMzMzBBADjMzMzMzEUB0mZmZmZkRQNr//////xFAQGZmZmZmEkCmzMzMzMwSQAwzMzMzMxNAcpmZmZmZE0DY//////8TQA==\",\"dtype\":\"float64\",\"shape\":[101]},\"y\":{\"__ndarray__\":\"bhSzkClQFEA7RDH7igAUQJzEm37yeRNAC5k1or6/EkCFm6iB1tURQGNSHZiawBBA84cMragJD0DGRuV4SU8MQJZUPFrkXAlAGxxBeKs9BkCfVSVcEP0CQKJt46Y7Tf8/cTMHV6SL+D/xksl39MvxP9vneMU2SOY/LCQKNGik0j/IDZkAzhO5v8rabCQA4t2/8sHxo8n36b/iDVKkbgzyv5WCZ4gXnfa/AGXlofGi+r+22NM6QRX+v2Gsco/HdgDAWfoukdmTAcB9QYNk62ACwOh+Zg043gLAEidFZhoNA8B07sz9AvACwLldG2lqigLAe0hTQMDgAcDMluwFV/gAwHbPDoWarv+/iVwWT+gI/b8tspUkaA76vwPzZJ/ezva/uswtC8da87+m6DeqKIbvvxqrzt7hMei/hAqbA/3a4L/+Dqj+WEbTvzizcZSrWLW/gMKMe0Bxvz9gSBBFxRbUPyiZ/SijI98/C7tI6W1p5D/TwJ8fSX3oP+IGU5fYu+s/lheBoDQX7j9ui+ljSoXvPwAAAAAAAPA/zovpY0qF7z9TGIGgNBfuP/oHU5fYu+s/QsKfH0l96D/KvEjpbWnkPzid/SijI98/70wQRcUW1D9o1ox7QHG/P/idcZSrWLW/bAmo/lhG07+qB5sD/drgvzyozt7hMei/zuU3qiiG779Yyy0Lx1rzv7PxZJ/ezva/9bCVJGgO+r9vWxZP6Aj9v4DODoWarv+/ZZbsBVf4AMAsSFNAwOABwIRdG2lqigLAWu7M/QLwAsAWJ0VmGg0DwAp/Zg043gLAvkGDZOtgAsC4+i6R2ZMBwOCsco/HdgDA8tnTOkEV/r92ZuWh8aL6v0OEZ4gXnfa/xQ9SpG4M8r8WxvGjyffpv7rjbCQA4t2/yDOZAM4Tub88Ggo0aKTSP7fieMU2SOY/UJDJd/TL8T/LMAdXpIv4PwJr46Y7Tf8/VVQlXBD9AkDcGkF4qz0GQGVTPFrkXAlAqkXleElPDEDuhgytqAkPQO9RHZiawBBAIJuogdbVEUC4mDWivr8SQF3Em37yeRNAEUQx+4oAFEBZFLOQKVAUQA==\",\"dtype\":\"float64\",\"shape\":[101]}},\"selected\":{\"id\":\"1f39a034-27b9-4640-8715-3a7059598ad8\",\"type\":\"Selection\"},\"selection_policy\":{\"id\":\"83e4dcc8-2498-442c-ba8b-ccec913f75e8\",\"type\":\"UnionRenderers\"}},\"id\":\"ec103df1-11c1-4f2b-9165-0908a5985f0e\",\"type\":\"ColumnDataSource\"},{\"attributes\":{\"dimension\":\"height\",\"line_width\":{\"value\":0.5},\"location\":0,\"plot\":null},\"id\":\"60f07d3a-b682-404e-8b7a-f3871887404d\",\"type\":\"Span\"},{\"attributes\":{\"line_alpha\":0.1,\"line_color\":\"#1f77b4\",\"line_width\":4,\"x\":{\"field\":\"x\"},\"y\":{\"field\":\"y\"}},\"id\":\"61a92714-d779-4227-b28f-a98a1754bb9f\",\"type\":\"Line\"},{\"attributes\":{\"callback\":null,\"data\":{\"x\":{\"__ndarray__\":\"AAAAAAAAFMCamZmZmZkTwDQzMzMzMxPAzszMzMzMEsBoZmZmZmYSwAIAAAAAABLAnJmZmZmZEcA2MzMzMzMRwNDMzMzMzBDAamZmZmZmEMAEAAAAAAAQwDwzMzMzMw/AcGZmZmZmDsCkmZmZmZkNwNjMzMzMzAzADAAAAAAADMBAMzMzMzMLwHRmZmZmZgrAqJmZmZmZCcDczMzMzMwIwBAAAAAAAAjARDMzMzMzB8B4ZmZmZmYGwKyZmZmZmQXA4MzMzMzMBMAUAAAAAAAEwEgzMzMzMwPAfGZmZmZmAsCwmZmZmZkBwOTMzMzMzADAGAAAAAAAAMCYZmZmZmb+vwDNzMzMzPy/aDMzMzMz+7/QmZmZmZn5vzgAAAAAAPi/oGZmZmZm9r8IzczMzMz0v3AzMzMzM/O/2JmZmZmZ8b9AAAAAAADwv1DNzMzMzOy/IJqZmZmZ6b/wZmZmZmbmv8AzMzMzM+O/kAAAAAAA4L/AmpmZmZnZv2A0MzMzM9O/AJyZmZmZyb+AnpmZmZm5vwAAAAAAABS9gJSZmZmZuT8Al5mZmZnJP+AxMzMzM9M/QJiZmZmZ2T+g/v/////fP4AyMzMzM+M/sGVmZmZm5j/gmJmZmZnpPxDMzMzMzOw/QP//////7z84mZmZmZnxP9AyMzMzM/M/aMzMzMzM9D8AZmZmZmb2P5j///////c/MJmZmZmZ+T/IMjMzMzP7P2DMzMzMzPw/+GVmZmZm/j+Q////////P5TMzMzMzABAYJmZmZmZAUAsZmZmZmYCQPgyMzMzMwNAxP//////A0CQzMzMzMwEQFyZmZmZmQVAKGZmZmZmBkD0MjMzMzMHQMD//////wdAjMzMzMzMCEBYmZmZmZkJQCRmZmZmZgpA8DIzMzMzC0C8//////8LQIjMzMzMzAxAVJmZmZmZDUAgZmZmZmYOQOwyMzMzMw9AuP//////D0BCZmZmZmYQQKjMzMzMzBBADjMzMzMzEUB0mZmZmZkRQNr//////xFAQGZmZmZmEkCmzMzMzMwSQAwzMzMzMxNAcpmZmZmZE0DY//////8TQA==\",\"dtype\":\"float64\",\"shape\":[101]},\"y\":{\"__ndarray__\":\"jO5ppWz4379UhMC639Dwv6UqW8xHKPm/E/BxGe92AMDh1YORuQYEwHdxnE6oOgfArrKlNjMLCsB+HlOoNnIMwE4Y5HgAaw7AqJ9EQljyD8AImuR6QYMQwOIOKNug0xDAZCB9BebqEMAWiOLEYsoQwNJHdpMXdBDArY/3YlTVD8BRjoOdtGIOwJB+Ld7olwzAVrEwb4Z9CsBwAGiu/hwIwOiRLYF8gAXA5lUN3r+yAsBwRJjI733/vydlt/k3Yfm/0uvTBIkm87+QSC67Dcrpv8ipdFjszdq/AHjnQycBpb/AkeuzZ6DUP1CXyY/aUeU/YfVPfseP7z8c/bogH3T0PzLyh+mknvg/03ozU4w6/D+proocJT3/P1V+U00LzwBAnyHkXLurAUC1bmlX7DICQCh9fJopZAJAAE8FJz9AAkAzyHFLNMkBQMDgDy5CAgFAwdVTtYzf/z/4KjEGYy79Pw8q7lzl/fk/+GK8O75c9j/aocFvLlvyP/RxYlWjFew/ATIdSb384j8uIYFkjiXTPwAAAAAAAC49vhmBZI4l079hLh1Jvfziv3puYlWjFey/OKDBby5b8r95Ybw7vlz2v7ko7lzl/fm/0CkxBmMu/b/Q1FO1jN//v2PgDy5CAgHA9MdxSzTJAcDiTgUnP0ACwCp9fJopZALA2G5pV+wyAsDlIeRcu6sBwLx+U00LzwDAt6+KHCU9/78efDNTjDr8v7jzh+mknvi/1v66IB909L82+U9+x4/vv3qbyY/aUeW/nJrrs2eg1L+gLedDJwGlPzSgdFjszdo/skMuuw3K6T9g6dMEiSbzP7xit/k3Yfk/FkKYyO99/z/EVA3ev7ICQNmQLYF8gAVAdv9nrv4cCEB1sDBvhn0KQMx9Ld7olwxAsI2DnbRiDkAwj/diVNUPQKdHdpMXdBBA/4fixGLKEEBiIH0F5uoQQPcOKNug0xBAMprkekGDEEAsoERCWPIPQP4Y5HgAaw5AWh9TqDZyDEC0s6U2MwsKQKRynE6oOgdAM9eDkbkGBECI8XEZ73YAQMwtW8xHKPk/rofAut/Q8D+o/GmlbPjfPw==\",\"dtype\":\"float64\",\"shape\":[101]}},\"selected\":{\"id\":\"d1e9f7c5-7837-4344-b5ce-d08b02862d06\",\"type\":\"Selection\"},\"selection_policy\":{\"id\":\"f36dd4e1-5092-4833-a7c7-0bdd0628064b\",\"type\":\"UnionRenderers\"}},\"id\":\"855905ab-bf2c-4723-9912-7d2fc11a1503\",\"type\":\"ColumnDataSource\"},{\"attributes\":{},\"id\":\"e31a098f-a016-44e9-9007-2c92d7e7c29c\",\"type\":\"LinearScale\"},{\"attributes\":{},\"id\":\"1c6b1061-b76c-465f-9b59-6faa3665478c\",\"type\":\"BasicTickFormatter\"},{\"attributes\":{},\"id\":\"6e0594df-8cfb-4193-b352-027d8e3ccaf8\",\"type\":\"PanTool\"},{\"attributes\":{},\"id\":\"9d144a91-9041-4f3c-a598-113a5b328a1d\",\"type\":\"Selection\"},{\"attributes\":{\"callback\":null,\"renderers\":\"auto\",\"tooltips\":[[\"f_\",\"$y\"],[\"x\",\"$x\"]]},\"id\":\"411f39b3-c1e8-4261-ae93-db76098f5724\",\"type\":\"HoverTool\"},{\"attributes\":{},\"id\":\"91bab94b-38bd-48d3-9b19-8cd799ce1d36\",\"type\":\"Selection\"},{\"attributes\":{\"data_source\":{\"id\":\"dca95173-0f66-45f6-8225-6f8c6a5482e5\",\"type\":\"ColumnDataSource\"},\"glyph\":{\"id\":\"6cec7a3e-f1eb-4528-9af0-28ffedc81d82\",\"type\":\"Circle\"},\"hover_glyph\":null,\"muted_glyph\":null,\"nonselection_glyph\":{\"id\":\"7f1c38f7-53b7-487a-9423-1528a9e96326\",\"type\":\"Circle\"},\"selection_glyph\":null,\"view\":{\"id\":\"513c1067-5b26-45be-bcc5-857f78ab1a1f\",\"type\":\"CDSView\"}},\"id\":\"69fb54cb-ae60-42ae-8c89-e873e585f889\",\"type\":\"GlyphRenderer\"},{\"attributes\":{},\"id\":\"ab6d01c4-9fb8-40ea-b09e-ca1b60407863\",\"type\":\"LinearScale\"},{\"attributes\":{},\"id\":\"1f39a034-27b9-4640-8715-3a7059598ad8\",\"type\":\"Selection\"},{\"attributes\":{\"data_source\":{\"id\":\"ec103df1-11c1-4f2b-9165-0908a5985f0e\",\"type\":\"ColumnDataSource\"},\"glyph\":{\"id\":\"b570701c-f45f-4d40-bf98-74b3add351d6\",\"type\":\"Line\"},\"hover_glyph\":null,\"muted_glyph\":{\"id\":\"b4646ae8-cc8d-4b2f-95e8-c04f532733fe\",\"type\":\"Line\"},\"nonselection_glyph\":{\"id\":\"1305dca9-862f-4726-87ff-5c21313dd9d2\",\"type\":\"Line\"},\"selection_glyph\":null,\"view\":{\"id\":\"6810885f-022d-4a2a-ab6d-e1457e0b9387\",\"type\":\"CDSView\"}},\"id\":\"3d900551-c14f-4008-84dd-17306844a371\",\"type\":\"GlyphRenderer\"},{\"attributes\":{\"line_alpha\":0.1,\"line_width\":4,\"x\":{\"field\":\"x\"},\"y\":{\"field\":\"y\"}},\"id\":\"e502d024-a2ca-4066-b232-420a7dc171e0\",\"type\":\"Line\"},{\"attributes\":{},\"id\":\"645dd93b-f5a3-40a8-bfe4-2a8d5c9a0e5b\",\"type\":\"WheelZoomTool\"},{\"attributes\":{\"callback\":null},\"id\":\"cb1a6b6f-38e5-4889-b0d1-1c3168bce934\",\"type\":\"DataRange1d\"},{\"attributes\":{\"line_alpha\":0.6,\"line_color\":\"orange\",\"line_width\":4,\"x\":{\"field\":\"x\"},\"y\":{\"field\":\"y\"}},\"id\":\"dda0e1ff-d11d-4f0d-9b46-a3d0d2689875\",\"type\":\"Line\"},{\"attributes\":{\"source\":{\"id\":\"dca95173-0f66-45f6-8225-6f8c6a5482e5\",\"type\":\"ColumnDataSource\"}},\"id\":\"513c1067-5b26-45be-bcc5-857f78ab1a1f\",\"type\":\"CDSView\"},{\"attributes\":{},\"id\":\"558c9fee-a310-46c2-8a85-977b56e4ea2c\",\"type\":\"ResetTool\"},{\"attributes\":{\"empty_value\":\"black\",\"renderers\":[{\"id\":\"69fb54cb-ae60-42ae-8c89-e873e585f889\",\"type\":\"GlyphRenderer\"}]},\"id\":\"52d247bf-744d-41ee-8189-4a1b4d28caef\",\"type\":\"PointDrawTool\"},{\"attributes\":{},\"id\":\"67994b1f-4c74-44ba-9175-f9fb6fe533a4\",\"type\":\"BasicTickFormatter\"},{\"attributes\":{\"below\":[{\"id\":\"b14ef389-b17f-4e59-bd89-1b1793e13822\",\"type\":\"LinearAxis\"}],\"left\":[{\"id\":\"29483ce2-e2e5-4227-9e8b-daea0b3c612a\",\"type\":\"LinearAxis\"}],\"plot_height\":400,\"plot_width\":700,\"renderers\":[{\"id\":\"b14ef389-b17f-4e59-bd89-1b1793e13822\",\"type\":\"LinearAxis\"},{\"id\":\"4690b39a-1880-4a9c-bee9-a403f1c1e1ca\",\"type\":\"Grid\"},{\"id\":\"29483ce2-e2e5-4227-9e8b-daea0b3c612a\",\"type\":\"LinearAxis\"},{\"id\":\"094d5339-968d-45f6-a313-f795c8a5b4ea\",\"type\":\"Grid\"},{\"id\":\"d66fc8bd-3c67-4660-b37d-5ba08db20a5c\",\"type\":\"Span\"},{\"id\":\"60f07d3a-b682-404e-8b7a-f3871887404d\",\"type\":\"Span\"},{\"id\":\"de71f0c3-194c-4069-933c-40e8c598b860\",\"type\":\"Legend\"},{\"id\":\"02ebe578-7655-45ae-8a35-efb8f3c7a4da\",\"type\":\"GlyphRenderer\"},{\"id\":\"3d900551-c14f-4008-84dd-17306844a371\",\"type\":\"GlyphRenderer\"},{\"id\":\"4bb31a16-50be-438b-9106-3bf69916da56\",\"type\":\"GlyphRenderer\"},{\"id\":\"69fb54cb-ae60-42ae-8c89-e873e585f889\",\"type\":\"GlyphRenderer\"}],\"title\":{\"id\":\"993e35a1-cc23-4b45-9dcb-de01eba17375\",\"type\":\"Title\"},\"toolbar\":{\"id\":\"661400a8-0543-4515-a888-f6ac2f3522fc\",\"type\":\"Toolbar\"},\"toolbar_location\":\"above\",\"x_range\":{\"id\":\"cb1a6b6f-38e5-4889-b0d1-1c3168bce934\",\"type\":\"DataRange1d\"},\"x_scale\":{\"id\":\"ab6d01c4-9fb8-40ea-b09e-ca1b60407863\",\"type\":\"LinearScale\"},\"y_range\":{\"id\":\"9b647fc0-20da-4bf9-9ec8-e1110eb171c6\",\"type\":\"DataRange1d\"},\"y_scale\":{\"id\":\"e31a098f-a016-44e9-9007-2c92d7e7c29c\",\"type\":\"LinearScale\"}},\"id\":\"ea60bb1f-bb90-4b9b-b471-08517df12354\",\"subtype\":\"Figure\",\"type\":\"Plot\"}],\"root_ids\":[\"ea60bb1f-bb90-4b9b-b471-08517df12354\"]},\"title\":\"Bokeh Application\",\"version\":\"0.13.0\"}};\n",
       "  var render_items = [{\"docid\":\"41db4eb1-a524-4911-bb9f-e329e76b9b83\",\"roots\":{\"ea60bb1f-bb90-4b9b-b471-08517df12354\":\"7fe92eea-3066-4e62-9608-25617f32e491\"}}];\n",
       "  root.Bokeh.embed.embed_items_notebook(docs_json, render_items);\n",
       "\n",
       "  }\n",
       "  if (root.Bokeh !== undefined) {\n",
       "    embed_document(root);\n",
       "  } else {\n",
       "    var attempts = 0;\n",
       "    var timer = setInterval(function(root) {\n",
       "      if (root.Bokeh !== undefined) {\n",
       "        embed_document(root);\n",
       "        clearInterval(timer);\n",
       "      }\n",
       "      attempts++;\n",
       "      if (attempts > 100) {\n",
       "        console.log(\"Bokeh: ERROR: Unable to run BokehJS code because BokehJS library is missing\")\n",
       "        clearInterval(timer);\n",
       "      }\n",
       "    }, 10, root)\n",
       "  }\n",
       "})(window);"
      ],
      "application/vnd.bokehjs_exec.v0+json": ""
     },
     "metadata": {
      "application/vnd.bokehjs_exec.v0+json": {
       "id": "ea60bb1f-bb90-4b9b-b471-08517df12354"
      }
     },
     "output_type": "display_data"
    }
   ],
   "source": [
    "graph(-1+z*cos(z),z)"
   ]
  },
  {
   "cell_type": "code",
   "execution_count": 27,
   "metadata": {},
   "outputs": [
    {
     "data": {
      "text/html": [
       "\n",
       "\n",
       "\n",
       "\n",
       "\n",
       "\n",
       "  <div class=\"bk-root\" id=\"f442f8df-3610-452b-a38f-2ad07d2fc2f1\"></div>\n"
      ]
     },
     "metadata": {},
     "output_type": "display_data"
    },
    {
     "data": {
      "application/javascript": [
       "(function(root) {\n",
       "  function embed_document(root) {\n",
       "    \n",
       "  var docs_json = {\"0779835c-718d-4f85-84c6-a719f8472af7\":{\"roots\":{\"references\":[{\"attributes\":{\"data_source\":{\"id\":\"44f7e58a-f97c-47de-8852-a8e0887f90e9\",\"type\":\"ColumnDataSource\"},\"glyph\":{\"id\":\"465b28be-c9be-4053-a74a-959d094ee654\",\"type\":\"Line\"},\"hover_glyph\":null,\"muted_glyph\":{\"id\":\"3c31f725-b539-4069-b549-2752b9a26738\",\"type\":\"Line\"},\"nonselection_glyph\":{\"id\":\"dcfbb17a-5973-44ce-b2f1-7ef958d580d8\",\"type\":\"Line\"},\"selection_glyph\":null,\"view\":{\"id\":\"35ec0b1b-d312-43e2-89a6-10a6c08a628b\",\"type\":\"CDSView\"}},\"id\":\"4a9cd8ac-ea59-4fd8-b5d4-9cc1fbd1672d\",\"type\":\"GlyphRenderer\"},{\"attributes\":{},\"id\":\"26562dc0-7f1b-4734-a031-a1bd00dbfe11\",\"type\":\"LinearScale\"},{\"attributes\":{\"source\":{\"id\":\"44f7e58a-f97c-47de-8852-a8e0887f90e9\",\"type\":\"ColumnDataSource\"}},\"id\":\"35ec0b1b-d312-43e2-89a6-10a6c08a628b\",\"type\":\"CDSView\"},{\"attributes\":{},\"id\":\"d0c4fcae-eda9-4f48-b24f-e7f6ac394681\",\"type\":\"BasicTicker\"},{\"attributes\":{},\"id\":\"b651a35e-e7f2-4d8c-af75-aaa593a8ff4e\",\"type\":\"Selection\"},{\"attributes\":{\"axis_label\":\"X\",\"formatter\":{\"id\":\"914e12c7-787c-40eb-92ce-d7a42a2bd3a1\",\"type\":\"BasicTickFormatter\"},\"plot\":{\"id\":\"1cc26fee-30c3-4402-a7e3-04c2292598c0\",\"subtype\":\"Figure\",\"type\":\"Plot\"},\"ticker\":{\"id\":\"d0c4fcae-eda9-4f48-b24f-e7f6ac394681\",\"type\":\"BasicTicker\"}},\"id\":\"81672330-4473-4174-86ff-97d53b77dfcf\",\"type\":\"LinearAxis\"},{\"attributes\":{\"dimension\":\"height\",\"line_width\":{\"value\":0.5},\"location\":0,\"plot\":null},\"id\":\"6fef1068-66a8-4c92-913f-13ae727991d2\",\"type\":\"Span\"},{\"attributes\":{\"plot\":{\"id\":\"1cc26fee-30c3-4402-a7e3-04c2292598c0\",\"subtype\":\"Figure\",\"type\":\"Plot\"},\"ticker\":{\"id\":\"d0c4fcae-eda9-4f48-b24f-e7f6ac394681\",\"type\":\"BasicTicker\"}},\"id\":\"5a3169dd-c56f-429c-970e-08a1b6228d61\",\"type\":\"Grid\"},{\"attributes\":{\"label\":{\"value\":\"f''(z) = 6*z\"},\"renderers\":[{\"id\":\"4a9cd8ac-ea59-4fd8-b5d4-9cc1fbd1672d\",\"type\":\"GlyphRenderer\"}]},\"id\":\"47eac9cf-5579-4442-b542-396ba5783b00\",\"type\":\"LegendItem\"},{\"attributes\":{\"line_width\":{\"value\":0.5},\"location\":0,\"plot\":null},\"id\":\"32404602-ce36-46da-bf54-460bacab3cf9\",\"type\":\"Span\"},{\"attributes\":{\"callback\":null,\"data\":{\"x\":[],\"y\":[]},\"selected\":{\"id\":\"bed9e784-1151-4226-b8b3-af0124ecb347\",\"type\":\"Selection\"},\"selection_policy\":{\"id\":\"af117c4e-bf34-4fd5-986d-db8902bd3fcf\",\"type\":\"UnionRenderers\"}},\"id\":\"d277b9ff-3c7c-453f-95aa-89ffca377152\",\"type\":\"ColumnDataSource\"},{\"attributes\":{\"formatter\":{\"id\":\"8e57cf60-0960-4f33-9d0f-b7eb192cfff5\",\"type\":\"BasicTickFormatter\"},\"plot\":{\"id\":\"1cc26fee-30c3-4402-a7e3-04c2292598c0\",\"subtype\":\"Figure\",\"type\":\"Plot\"},\"ticker\":{\"id\":\"98c09ed1-97c0-4f5e-b5d4-b602811a9415\",\"type\":\"BasicTicker\"}},\"id\":\"56d2e87c-595d-40be-83c5-81c3fbe13c3d\",\"type\":\"LinearAxis\"},{\"attributes\":{\"fill_color\":{\"value\":\"black\"},\"size\":{\"units\":\"screen\",\"value\":10},\"x\":{\"field\":\"x\"},\"y\":{\"field\":\"y\"}},\"id\":\"6c36b649-aaac-43c3-abc6-057791cac4cd\",\"type\":\"Circle\"},{\"attributes\":{},\"id\":\"98c09ed1-97c0-4f5e-b5d4-b602811a9415\",\"type\":\"BasicTicker\"},{\"attributes\":{\"fill_alpha\":{\"value\":0.1},\"fill_color\":{\"value\":\"#1f77b4\"},\"line_alpha\":{\"value\":0.1},\"line_color\":{\"value\":\"#1f77b4\"},\"size\":{\"units\":\"screen\",\"value\":10},\"x\":{\"field\":\"x\"},\"y\":{\"field\":\"y\"}},\"id\":\"61f9f876-c02b-4ab9-94f9-5cda0bbf99ab\",\"type\":\"Circle\"},{\"attributes\":{\"dimension\":1,\"plot\":{\"id\":\"1cc26fee-30c3-4402-a7e3-04c2292598c0\",\"subtype\":\"Figure\",\"type\":\"Plot\"},\"ticker\":{\"id\":\"98c09ed1-97c0-4f5e-b5d4-b602811a9415\",\"type\":\"BasicTicker\"}},\"id\":\"e171d9cc-de43-475f-af91-0e1f30425dfc\",\"type\":\"Grid\"},{\"attributes\":{\"callback\":null},\"id\":\"5085d598-7acf-45f9-8745-cd53410b5d6e\",\"type\":\"DataRange1d\"},{\"attributes\":{\"data_source\":{\"id\":\"d277b9ff-3c7c-453f-95aa-89ffca377152\",\"type\":\"ColumnDataSource\"},\"glyph\":{\"id\":\"6c36b649-aaac-43c3-abc6-057791cac4cd\",\"type\":\"Circle\"},\"hover_glyph\":null,\"muted_glyph\":null,\"nonselection_glyph\":{\"id\":\"61f9f876-c02b-4ab9-94f9-5cda0bbf99ab\",\"type\":\"Circle\"},\"selection_glyph\":null,\"view\":{\"id\":\"b25aead2-88ea-4160-923b-4811ab08c35f\",\"type\":\"CDSView\"}},\"id\":\"d7be819f-1c8d-45f4-9d20-8250dac6e277\",\"type\":\"GlyphRenderer\"},{\"attributes\":{\"click_policy\":\"mute\",\"items\":[{\"id\":\"6ce6564c-48c1-45c0-be48-14afe4ce3b21\",\"type\":\"LegendItem\"},{\"id\":\"e06078f6-b7ab-411d-9358-109bc54afc36\",\"type\":\"LegendItem\"},{\"id\":\"47eac9cf-5579-4442-b542-396ba5783b00\",\"type\":\"LegendItem\"}],\"location\":\"top_left\",\"plot\":{\"id\":\"1cc26fee-30c3-4402-a7e3-04c2292598c0\",\"subtype\":\"Figure\",\"type\":\"Plot\"}},\"id\":\"2b054879-603c-4c36-b1dc-2a59f55e8ba6\",\"type\":\"Legend\"},{\"attributes\":{\"source\":{\"id\":\"d277b9ff-3c7c-453f-95aa-89ffca377152\",\"type\":\"ColumnDataSource\"}},\"id\":\"b25aead2-88ea-4160-923b-4811ab08c35f\",\"type\":\"CDSView\"},{\"attributes\":{\"empty_value\":\"black\",\"renderers\":[{\"id\":\"d7be819f-1c8d-45f4-9d20-8250dac6e277\",\"type\":\"GlyphRenderer\"}]},\"id\":\"c58c096f-f928-45bd-9c5c-d7241409fb44\",\"type\":\"PointDrawTool\"},{\"attributes\":{\"data_source\":{\"id\":\"2d7a318e-2a60-433d-a9cd-84a82c582444\",\"type\":\"ColumnDataSource\"},\"glyph\":{\"id\":\"6761637e-2447-4e03-873a-97d80ebd4fba\",\"type\":\"Line\"},\"hover_glyph\":null,\"muted_glyph\":{\"id\":\"d35c770b-2a79-4762-9240-174b59b0ecf6\",\"type\":\"Line\"},\"nonselection_glyph\":{\"id\":\"5bf0db83-b0dd-4a76-849f-d2cc71ff9d43\",\"type\":\"Line\"},\"selection_glyph\":null,\"view\":{\"id\":\"39344d60-5ef7-49d3-9449-e41adc160578\",\"type\":\"CDSView\"}},\"id\":\"4c4e598c-bcba-49bf-9d13-5a04ecd00aac\",\"type\":\"GlyphRenderer\"},{\"attributes\":{},\"id\":\"08302ab2-8fb3-4855-8c72-9c1f6a4d3d3b\",\"type\":\"PanTool\"},{\"attributes\":{},\"id\":\"33695b1c-4ef7-40f8-8433-cb3ef654f3ab\",\"type\":\"Selection\"},{\"attributes\":{\"source\":{\"id\":\"2d7a318e-2a60-433d-a9cd-84a82c582444\",\"type\":\"ColumnDataSource\"}},\"id\":\"39344d60-5ef7-49d3-9449-e41adc160578\",\"type\":\"CDSView\"},{\"attributes\":{},\"id\":\"3f2465e0-4cf4-445c-baec-7967bc90c33a\",\"type\":\"UnionRenderers\"},{\"attributes\":{\"callback\":null,\"renderers\":\"auto\",\"tooltips\":[[\"f_\",\"$y\"],[\"x\",\"$x\"]]},\"id\":\"2d4dc937-90a9-470d-83bf-ee14ec8fa095\",\"type\":\"HoverTool\"},{\"attributes\":{},\"id\":\"bed9e784-1151-4226-b8b3-af0124ecb347\",\"type\":\"Selection\"},{\"attributes\":{\"callback\":null},\"id\":\"c724acf1-b91c-4d38-b8f4-6cb2c60a47a6\",\"type\":\"DataRange1d\"},{\"attributes\":{},\"id\":\"95dc7d8b-39ce-41c6-95e2-0230f3bbeeee\",\"type\":\"WheelZoomTool\"},{\"attributes\":{},\"id\":\"af117c4e-bf34-4fd5-986d-db8902bd3fcf\",\"type\":\"UnionRenderers\"},{\"attributes\":{},\"id\":\"580871d6-55d1-4d50-9799-173ba4d7c313\",\"type\":\"ResetTool\"},{\"attributes\":{\"below\":[{\"id\":\"81672330-4473-4174-86ff-97d53b77dfcf\",\"type\":\"LinearAxis\"}],\"left\":[{\"id\":\"56d2e87c-595d-40be-83c5-81c3fbe13c3d\",\"type\":\"LinearAxis\"}],\"plot_height\":400,\"plot_width\":700,\"renderers\":[{\"id\":\"81672330-4473-4174-86ff-97d53b77dfcf\",\"type\":\"LinearAxis\"},{\"id\":\"5a3169dd-c56f-429c-970e-08a1b6228d61\",\"type\":\"Grid\"},{\"id\":\"56d2e87c-595d-40be-83c5-81c3fbe13c3d\",\"type\":\"LinearAxis\"},{\"id\":\"e171d9cc-de43-475f-af91-0e1f30425dfc\",\"type\":\"Grid\"},{\"id\":\"32404602-ce36-46da-bf54-460bacab3cf9\",\"type\":\"Span\"},{\"id\":\"6fef1068-66a8-4c92-913f-13ae727991d2\",\"type\":\"Span\"},{\"id\":\"2b054879-603c-4c36-b1dc-2a59f55e8ba6\",\"type\":\"Legend\"},{\"id\":\"4c4e598c-bcba-49bf-9d13-5a04ecd00aac\",\"type\":\"GlyphRenderer\"},{\"id\":\"0f4e9ae8-78ee-4d2d-b70c-1450770a2c7e\",\"type\":\"GlyphRenderer\"},{\"id\":\"4a9cd8ac-ea59-4fd8-b5d4-9cc1fbd1672d\",\"type\":\"GlyphRenderer\"},{\"id\":\"d7be819f-1c8d-45f4-9d20-8250dac6e277\",\"type\":\"GlyphRenderer\"}],\"title\":{\"id\":\"360b2a47-5cbf-4dfb-bc8e-4b675a372383\",\"type\":\"Title\"},\"toolbar\":{\"id\":\"87234497-cf62-4f1d-879f-04fda613b9b6\",\"type\":\"Toolbar\"},\"toolbar_location\":\"above\",\"x_range\":{\"id\":\"c724acf1-b91c-4d38-b8f4-6cb2c60a47a6\",\"type\":\"DataRange1d\"},\"x_scale\":{\"id\":\"26562dc0-7f1b-4734-a031-a1bd00dbfe11\",\"type\":\"LinearScale\"},\"y_range\":{\"id\":\"5085d598-7acf-45f9-8745-cd53410b5d6e\",\"type\":\"DataRange1d\"},\"y_scale\":{\"id\":\"f7e0ebdc-8d53-4851-a81f-e9ae29a12fa6\",\"type\":\"LinearScale\"}},\"id\":\"1cc26fee-30c3-4402-a7e3-04c2292598c0\",\"subtype\":\"Figure\",\"type\":\"Plot\"},{\"attributes\":{\"line_alpha\":0.1,\"line_width\":4,\"x\":{\"field\":\"x\"},\"y\":{\"field\":\"y\"}},\"id\":\"d35c770b-2a79-4762-9240-174b59b0ecf6\",\"type\":\"Line\"},{\"attributes\":{\"callback\":null,\"data\":{\"x\":{\"__ndarray__\":\"AAAAAAAAFMCamZmZmZkTwDQzMzMzMxPAzszMzMzMEsBoZmZmZmYSwAIAAAAAABLAnJmZmZmZEcA2MzMzMzMRwNDMzMzMzBDAamZmZmZmEMAEAAAAAAAQwDwzMzMzMw/AcGZmZmZmDsCkmZmZmZkNwNjMzMzMzAzADAAAAAAADMBAMzMzMzMLwHRmZmZmZgrAqJmZmZmZCcDczMzMzMwIwBAAAAAAAAjARDMzMzMzB8B4ZmZmZmYGwKyZmZmZmQXA4MzMzMzMBMAUAAAAAAAEwEgzMzMzMwPAfGZmZmZmAsCwmZmZmZkBwOTMzMzMzADAGAAAAAAAAMCYZmZmZmb+vwDNzMzMzPy/aDMzMzMz+7/QmZmZmZn5vzgAAAAAAPi/oGZmZmZm9r8IzczMzMz0v3AzMzMzM/O/2JmZmZmZ8b9AAAAAAADwv1DNzMzMzOy/IJqZmZmZ6b/wZmZmZmbmv8AzMzMzM+O/kAAAAAAA4L/AmpmZmZnZv2A0MzMzM9O/AJyZmZmZyb+AnpmZmZm5vwAAAAAAABS9gJSZmZmZuT8Al5mZmZnJP+AxMzMzM9M/QJiZmZmZ2T+g/v/////fP4AyMzMzM+M/sGVmZmZm5j/gmJmZmZnpPxDMzMzMzOw/QP//////7z84mZmZmZnxP9AyMzMzM/M/aMzMzMzM9D8AZmZmZmb2P5j///////c/MJmZmZmZ+T/IMjMzMzP7P2DMzMzMzPw/+GVmZmZm/j+Q////////P5TMzMzMzABAYJmZmZmZAUAsZmZmZmYCQPgyMzMzMwNAxP//////A0CQzMzMzMwEQFyZmZmZmQVAKGZmZmZmBkD0MjMzMzMHQMD//////wdAjMzMzMzMCEBYmZmZmZkJQCRmZmZmZgpA8DIzMzMzC0C8//////8LQIjMzMzMzAxAVJmZmZmZDUAgZmZmZmYOQOwyMzMzMw9AuP//////D0BCZmZmZmYQQKjMzMzMzBBADjMzMzMzEUB0mZmZmZkRQNr//////xFAQGZmZmZmEkCmzMzMzMwSQAwzMzMzMxNAcpmZmZmZE0DY//////8TQA==\",\"dtype\":\"float64\",\"shape\":[101]},\"y\":{\"__ndarray__\":\"AAAAAABAX8Cqxks3iWldwN3O91PjpVvA7iYxCKz0WcA13SQGgVVYwAgAAAAAyFbAu53vp8ZLVcClxCCwcuBTwB2DwMqhhVLAeOf7qfE6UcAMAAAAAABQwF+28/3UqE3AcA4tsp1vS8D4JAaBlVNJwKIW2c73U0fAHAAAAABwRcAP/tR46aZDwCotsp3v90HAGKrx0k1iQMAII9v5fso9wDYAAAAAADvAEiUGgZVjOMD0yqFFtvM1wDQrhxbZrjPAK39qvHSTMcBeAAAAAEAvwDPP91PjpSvAhd0kBoFVKMADnu+nxkslwF+DwMqhhSLASAAAAAAAIMDcDi2ynW8bwAQX2c73UxfAZv7UeOmmE8BkqvHSTWIQwL0AAAAAAAvAasuhRbbzBcCQf2q8dJMBwODP91Pjpfu/lZ7vp8ZL9b/AAAAAAADwv8YX2c73U+e//qrx0k1i4L9VzKFFtvPVvznR91Pjpcu/sAEAAAAAwL8xrPHSTWKwv+3T91PjpZu/mK7x0k1igL9ks/HSTWJQvwAAAAAAQF+3MaDx0k1iUD/+pPHSTWKAPyDJ91PjpZs/ZKfx0k1isD/g+/////+/P9PL91Pjpcs/qMihRbbz1T+YqPHSTWLgP7wU2c73U+c/wP3/////7z9QnO+nxkv1Py3N91Pjpfs/+n1qvHSTAUCTyaFFtvMFQKH+/////wpAManx0k1iEEAL/dR46aYTQH8V2c73UxdAKw0tsp1vG0Cw/v////8fQFeCwMqhhSJA4Zzvp8ZLJUBH3CQGgVUoQNnN91PjpStA5/7///8/L0Bgfmq8dJMxQFoqhxbZrjNACcqhRbbzNUAWJAaBlWM4QCj//////zpA5yHb+X7KPUB+qfHSTWJAQIcssp3v90FAYv3UeOmmQ0Bk/////29FQOAV2c73U0dAKyQGgZVTSUCXDS2ynW9LQHu18/3UqE1AKP//////T0D65vup8TpRQJmCwMqhhVJAG8QgsHLgU0Aqne+nxktVQHD/////x1ZAl9wkBoFVWEBJJjEIrPRZQDDO91PjpVtA9sVLN4lpXUBE/////z9fQA==\",\"dtype\":\"float64\",\"shape\":[101]}},\"selected\":{\"id\":\"ceaf68cc-560e-424a-a659-cb26d3390eee\",\"type\":\"Selection\"},\"selection_policy\":{\"id\":\"4e437cd5-ea32-42ca-a7e6-d4cfb3b79295\",\"type\":\"UnionRenderers\"}},\"id\":\"2d7a318e-2a60-433d-a9cd-84a82c582444\",\"type\":\"ColumnDataSource\"},{\"attributes\":{\"plot\":null,\"text\":\"\"},\"id\":\"360b2a47-5cbf-4dfb-bc8e-4b675a372383\",\"type\":\"Title\"},{\"attributes\":{},\"id\":\"914e12c7-787c-40eb-92ce-d7a42a2bd3a1\",\"type\":\"BasicTickFormatter\"},{\"attributes\":{},\"id\":\"8e57cf60-0960-4f33-9d0f-b7eb192cfff5\",\"type\":\"BasicTickFormatter\"},{\"attributes\":{\"active_drag\":\"auto\",\"active_inspect\":\"auto\",\"active_multi\":null,\"active_scroll\":\"auto\",\"active_tap\":{\"id\":\"c58c096f-f928-45bd-9c5c-d7241409fb44\",\"type\":\"PointDrawTool\"},\"tools\":[{\"id\":\"08302ab2-8fb3-4855-8c72-9c1f6a4d3d3b\",\"type\":\"PanTool\"},{\"id\":\"2d4dc937-90a9-470d-83bf-ee14ec8fa095\",\"type\":\"HoverTool\"},{\"id\":\"95dc7d8b-39ce-41c6-95e2-0230f3bbeeee\",\"type\":\"WheelZoomTool\"},{\"id\":\"580871d6-55d1-4d50-9799-173ba4d7c313\",\"type\":\"ResetTool\"},{\"id\":\"c58c096f-f928-45bd-9c5c-d7241409fb44\",\"type\":\"PointDrawTool\"}]},\"id\":\"87234497-cf62-4f1d-879f-04fda613b9b6\",\"type\":\"Toolbar\"},{\"attributes\":{\"label\":{\"value\":\"f(z) = z**3\"},\"renderers\":[{\"id\":\"4c4e598c-bcba-49bf-9d13-5a04ecd00aac\",\"type\":\"GlyphRenderer\"}]},\"id\":\"6ce6564c-48c1-45c0-be48-14afe4ce3b21\",\"type\":\"LegendItem\"},{\"attributes\":{\"line_alpha\":0.6,\"line_color\":\"steelblue\",\"line_width\":4,\"x\":{\"field\":\"x\"},\"y\":{\"field\":\"y\"}},\"id\":\"031ed88b-2494-4341-b2a1-7a1441bddce5\",\"type\":\"Line\"},{\"attributes\":{},\"id\":\"4e437cd5-ea32-42ca-a7e6-d4cfb3b79295\",\"type\":\"UnionRenderers\"},{\"attributes\":{\"callback\":null,\"data\":{\"x\":{\"__ndarray__\":\"AAAAAAAAFMCamZmZmZkTwDQzMzMzMxPAzszMzMzMEsBoZmZmZmYSwAIAAAAAABLAnJmZmZmZEcA2MzMzMzMRwNDMzMzMzBDAamZmZmZmEMAEAAAAAAAQwDwzMzMzMw/AcGZmZmZmDsCkmZmZmZkNwNjMzMzMzAzADAAAAAAADMBAMzMzMzMLwHRmZmZmZgrAqJmZmZmZCcDczMzMzMwIwBAAAAAAAAjARDMzMzMzB8B4ZmZmZmYGwKyZmZmZmQXA4MzMzMzMBMAUAAAAAAAEwEgzMzMzMwPAfGZmZmZmAsCwmZmZmZkBwOTMzMzMzADAGAAAAAAAAMCYZmZmZmb+vwDNzMzMzPy/aDMzMzMz+7/QmZmZmZn5vzgAAAAAAPi/oGZmZmZm9r8IzczMzMz0v3AzMzMzM/O/2JmZmZmZ8b9AAAAAAADwv1DNzMzMzOy/IJqZmZmZ6b/wZmZmZmbmv8AzMzMzM+O/kAAAAAAA4L/AmpmZmZnZv2A0MzMzM9O/AJyZmZmZyb+AnpmZmZm5vwAAAAAAABS9gJSZmZmZuT8Al5mZmZnJP+AxMzMzM9M/QJiZmZmZ2T+g/v/////fP4AyMzMzM+M/sGVmZmZm5j/gmJmZmZnpPxDMzMzMzOw/QP//////7z84mZmZmZnxP9AyMzMzM/M/aMzMzMzM9D8AZmZmZmb2P5j///////c/MJmZmZmZ+T/IMjMzMzP7P2DMzMzMzPw/+GVmZmZm/j+Q////////P5TMzMzMzABAYJmZmZmZAUAsZmZmZmYCQPgyMzMzMwNAxP//////A0CQzMzMzMwEQFyZmZmZmQVAKGZmZmZmBkD0MjMzMzMHQMD//////wdAjMzMzMzMCEBYmZmZmZkJQCRmZmZmZgpA8DIzMzMzC0C8//////8LQIjMzMzMzAxAVJmZmZmZDUAgZmZmZmYOQOwyMzMzMw9AuP//////D0BCZmZmZmYQQKjMzMzMzBBADjMzMzMzEUB0mZmZmZkRQNr//////xFAQGZmZmZmEkCmzMzMzMwSQAwzMzMzMxNAcpmZmZmZE0DY//////8TQA==\",\"dtype\":\"float64\",\"shape\":[101]},\"y\":{\"__ndarray__\":\"AAAAAADAUkBTuB6F6wFSQEnhehSuR1FA5HoUrkeRUEBECtejcL1PQAgAAAAAYE5AEtejcD0KTUBkj8L1KLxLQAApXI/CdUpA4qNwPQo3SUAMAAAAAABIQH49Ctej0EZAN1yPwvWoRUA4XI/C9YhEQIA9CtejcENAEAAAAABgQkDno3A9CldBQAYpXI/CVUBA2x6F61G4PkA4rkfhetQ8QCQAAAAAADtAnxSuR+E6OUCq61G4HoU3QESF61G43jVAbeF6FK5HNEAmAAAAAMAyQG3hehSuRzFAiArXo3C9L0BU16NwPQotQEApXI/CdSpASAAAAAAAKEBwXI/C9aglQLY9CtejcCNAGqRwPQpXIUA7H4XrUbgeQH4AAAAAABtA/utRuB6FF0C74XoUrkcUQLXhehSuRxFA2NejcD0KDUDAAAAAAAAIQCI+CtejcANA+x+F61G4/j+m7FG4HoX3P0XiehSuR/E/sAEAAAAA6D97IYXrUbjeP2XjehSuR9E/eySF61G4vj97KoXrUbiePwAAAAAAwFI6exKF61G4nj97GIXrUbi+P+XeehSuR9E/exuF61G43j/w/f/////nPwXgehSuR/E/BupRuB6F9z/7HIXrUbj+P3I8CtejcANA4P7/////B0DI1aNwPQoNQJXgehSuRxFAg+B6FK5HFECu6lG4HoUXQBb//////xpAux2F61G4HkBOo3A9ClchQN48CtejcCNAjFuPwvWoJUBY//////8nQEQoXI/CdSpATNajcD0KLUB0CdejcL0vQN3gehSuRzFAkP////+/MkDR4HoUrkc0QKKE61G43jVAAutRuB6FN0DxE65H4To5QHD//////zpAfq1H4XrUPEAbHoXrUbg+QKQoXI/CVUBAgaNwPQpXQUCn/////19CQBQ9CtejcENAyVuPwvWIREDFW4/C9ahFQAk9Ctej0EZAlP//////R0Boo3A9CjdJQIIoXI/CdUpA5I7C9Si8S0CO1qNwPQpNQID/////X05AugnXo3C9T0CdehSuR5FQQAHhehSuR1FACrgehesBUkC1/////79SQA==\",\"dtype\":\"float64\",\"shape\":[101]}},\"selected\":{\"id\":\"b651a35e-e7f2-4d8c-af75-aaa593a8ff4e\",\"type\":\"Selection\"},\"selection_policy\":{\"id\":\"3abc6831-59e4-450c-891a-d98f466a00c4\",\"type\":\"UnionRenderers\"}},\"id\":\"4390e5c3-bc28-4719-ad42-04f35b0bd3e4\",\"type\":\"ColumnDataSource\"},{\"attributes\":{\"data_source\":{\"id\":\"4390e5c3-bc28-4719-ad42-04f35b0bd3e4\",\"type\":\"ColumnDataSource\"},\"glyph\":{\"id\":\"031ed88b-2494-4341-b2a1-7a1441bddce5\",\"type\":\"Line\"},\"hover_glyph\":null,\"muted_glyph\":{\"id\":\"657a974b-3a28-41d2-9f5c-90cb1ca735e6\",\"type\":\"Line\"},\"nonselection_glyph\":{\"id\":\"72a6160a-4fcb-4299-a8f4-e98b4251bb7c\",\"type\":\"Line\"},\"selection_glyph\":null,\"view\":{\"id\":\"bbfb2871-925b-41f8-9a25-9ea7a14e939a\",\"type\":\"CDSView\"}},\"id\":\"0f4e9ae8-78ee-4d2d-b70c-1450770a2c7e\",\"type\":\"GlyphRenderer\"},{\"attributes\":{},\"id\":\"f7e0ebdc-8d53-4851-a81f-e9ae29a12fa6\",\"type\":\"LinearScale\"},{\"attributes\":{\"line_alpha\":0.1,\"line_color\":\"#1f77b4\",\"line_width\":4,\"x\":{\"field\":\"x\"},\"y\":{\"field\":\"y\"}},\"id\":\"72a6160a-4fcb-4299-a8f4-e98b4251bb7c\",\"type\":\"Line\"},{\"attributes\":{\"line_alpha\":0.1,\"line_color\":\"steelblue\",\"line_width\":4,\"x\":{\"field\":\"x\"},\"y\":{\"field\":\"y\"}},\"id\":\"657a974b-3a28-41d2-9f5c-90cb1ca735e6\",\"type\":\"Line\"},{\"attributes\":{\"source\":{\"id\":\"4390e5c3-bc28-4719-ad42-04f35b0bd3e4\",\"type\":\"ColumnDataSource\"}},\"id\":\"bbfb2871-925b-41f8-9a25-9ea7a14e939a\",\"type\":\"CDSView\"},{\"attributes\":{},\"id\":\"ceaf68cc-560e-424a-a659-cb26d3390eee\",\"type\":\"Selection\"},{\"attributes\":{\"line_alpha\":0.6,\"line_color\":\"orange\",\"line_width\":4,\"x\":{\"field\":\"x\"},\"y\":{\"field\":\"y\"}},\"id\":\"465b28be-c9be-4053-a74a-959d094ee654\",\"type\":\"Line\"},{\"attributes\":{\"label\":{\"value\":\"f'(z) = 3*z**2\"},\"renderers\":[{\"id\":\"0f4e9ae8-78ee-4d2d-b70c-1450770a2c7e\",\"type\":\"GlyphRenderer\"}]},\"id\":\"e06078f6-b7ab-411d-9358-109bc54afc36\",\"type\":\"LegendItem\"},{\"attributes\":{\"line_alpha\":0.6,\"line_width\":4,\"x\":{\"field\":\"x\"},\"y\":{\"field\":\"y\"}},\"id\":\"6761637e-2447-4e03-873a-97d80ebd4fba\",\"type\":\"Line\"},{\"attributes\":{},\"id\":\"3abc6831-59e4-450c-891a-d98f466a00c4\",\"type\":\"UnionRenderers\"},{\"attributes\":{\"callback\":null,\"data\":{\"x\":{\"__ndarray__\":\"AAAAAAAAFMCamZmZmZkTwDQzMzMzMxPAzszMzMzMEsBoZmZmZmYSwAIAAAAAABLAnJmZmZmZEcA2MzMzMzMRwNDMzMzMzBDAamZmZmZmEMAEAAAAAAAQwDwzMzMzMw/AcGZmZmZmDsCkmZmZmZkNwNjMzMzMzAzADAAAAAAADMBAMzMzMzMLwHRmZmZmZgrAqJmZmZmZCcDczMzMzMwIwBAAAAAAAAjARDMzMzMzB8B4ZmZmZmYGwKyZmZmZmQXA4MzMzMzMBMAUAAAAAAAEwEgzMzMzMwPAfGZmZmZmAsCwmZmZmZkBwOTMzMzMzADAGAAAAAAAAMCYZmZmZmb+vwDNzMzMzPy/aDMzMzMz+7/QmZmZmZn5vzgAAAAAAPi/oGZmZmZm9r8IzczMzMz0v3AzMzMzM/O/2JmZmZmZ8b9AAAAAAADwv1DNzMzMzOy/IJqZmZmZ6b/wZmZmZmbmv8AzMzMzM+O/kAAAAAAA4L/AmpmZmZnZv2A0MzMzM9O/AJyZmZmZyb+AnpmZmZm5vwAAAAAAABS9gJSZmZmZuT8Al5mZmZnJP+AxMzMzM9M/QJiZmZmZ2T+g/v/////fP4AyMzMzM+M/sGVmZmZm5j/gmJmZmZnpPxDMzMzMzOw/QP//////7z84mZmZmZnxP9AyMzMzM/M/aMzMzMzM9D8AZmZmZmb2P5j///////c/MJmZmZmZ+T/IMjMzMzP7P2DMzMzMzPw/+GVmZmZm/j+Q////////P5TMzMzMzABAYJmZmZmZAUAsZmZmZmYCQPgyMzMzMwNAxP//////A0CQzMzMzMwEQFyZmZmZmQVAKGZmZmZmBkD0MjMzMzMHQMD//////wdAjMzMzMzMCEBYmZmZmZkJQCRmZmZmZgpA8DIzMzMzC0C8//////8LQIjMzMzMzAxAVJmZmZmZDUAgZmZmZmYOQOwyMzMzMw9AuP//////D0BCZmZmZmYQQKjMzMzMzBBADjMzMzMzEUB0mZmZmZkRQNr//////xFAQGZmZmZmEkCmzMzMzMwSQAwzMzMzMxNAcpmZmZmZE0DY//////8TQA==\",\"dtype\":\"float64\",\"shape\":[101]},\"y\":{\"__ndarray__\":\"AAAAAAAAPsBnZmZmZmY9wM7MzMzMzDzANTMzMzMzPMCcmZmZmZk7wAMAAAAAADvAamZmZmZmOsDRzMzMzMw5wDgzMzMzMznAn5mZmZmZOMAGAAAAAAA4wG1mZmZmZjfA1MzMzMzMNsA7MzMzMzM2wKKZmZmZmTXACQAAAAAANcBwZmZmZmY0wNfMzMzMzDPAPjMzMzMzM8ClmZmZmZkywAwAAAAAADLAc2ZmZmZmMcDazMzMzMwwwEEzMzMzMzDAUDMzMzMzL8AeAAAAAAAuwOzMzMzMzCzAupmZmZmZK8CIZmZmZmYqwFYzMzMzMynAJAAAAAAAKMDyzMzMzMwmwMCZmZmZmSXAjmZmZmZmJMBcMzMzMzMjwCoAAAAAACLA+MzMzMzMIMCMMzMzMzMfwCjNzMzMzBzAxGZmZmZmGsBgAAAAAAAYwPyZmZmZmRXAmDMzMzMzE8A0zczMzMwQwKDNzMzMzAzA2AAAAAAACMAQNDMzMzMDwJDOzMzMzPy/ADUzMzMz87/gNjMzMzPjvwAAAAAAAD69YC8zMzMz4z9AMTMzMzPzP9DKzMzMzPw/MDIzMzMzA0D4/v////8HQMDLzMzMzAxARMzMzMzMEECoMjMzMzMTQAyZmZmZmRVAcP//////F0DUZWZmZmYaQDjMzMzMzBxAnDIzMzMzH0CAzMzMzMwgQLL//////yFA5DIzMzMzI0AWZmZmZmYkQEiZmZmZmSVAeszMzMzMJkCs//////8nQN4yMzMzMylAEGZmZmZmKkBCmZmZmZkrQHTMzMzMzCxApv//////LUDYMjMzMzMvQAUzMzMzMzBAnszMzMzMMEA3ZmZmZmYxQND//////zFAaZmZmZmZMkACMzMzMzMzQJvMzMzMzDNANGZmZmZmNEDN//////80QGaZmZmZmTVA/zIzMzMzNkCYzMzMzMw2QDFmZmZmZjdAyv//////N0BjmZmZmZk4QPwyMzMzMzlAlczMzMzMOUAuZmZmZmY6QMf//////zpAYJmZmZmZO0D5MjMzMzM8QJLMzMzMzDxAK2ZmZmZmPUDE//////89QA==\",\"dtype\":\"float64\",\"shape\":[101]}},\"selected\":{\"id\":\"33695b1c-4ef7-40f8-8433-cb3ef654f3ab\",\"type\":\"Selection\"},\"selection_policy\":{\"id\":\"3f2465e0-4cf4-445c-baec-7967bc90c33a\",\"type\":\"UnionRenderers\"}},\"id\":\"44f7e58a-f97c-47de-8852-a8e0887f90e9\",\"type\":\"ColumnDataSource\"},{\"attributes\":{\"line_alpha\":0.1,\"line_color\":\"#1f77b4\",\"line_width\":4,\"x\":{\"field\":\"x\"},\"y\":{\"field\":\"y\"}},\"id\":\"5bf0db83-b0dd-4a76-849f-d2cc71ff9d43\",\"type\":\"Line\"},{\"attributes\":{\"line_alpha\":0.1,\"line_color\":\"orange\",\"line_width\":4,\"x\":{\"field\":\"x\"},\"y\":{\"field\":\"y\"}},\"id\":\"3c31f725-b539-4069-b549-2752b9a26738\",\"type\":\"Line\"},{\"attributes\":{\"line_alpha\":0.1,\"line_color\":\"#1f77b4\",\"line_width\":4,\"x\":{\"field\":\"x\"},\"y\":{\"field\":\"y\"}},\"id\":\"dcfbb17a-5973-44ce-b2f1-7ef958d580d8\",\"type\":\"Line\"}],\"root_ids\":[\"1cc26fee-30c3-4402-a7e3-04c2292598c0\"]},\"title\":\"Bokeh Application\",\"version\":\"0.13.0\"}};\n",
       "  var render_items = [{\"docid\":\"0779835c-718d-4f85-84c6-a719f8472af7\",\"roots\":{\"1cc26fee-30c3-4402-a7e3-04c2292598c0\":\"f442f8df-3610-452b-a38f-2ad07d2fc2f1\"}}];\n",
       "  root.Bokeh.embed.embed_items_notebook(docs_json, render_items);\n",
       "\n",
       "  }\n",
       "  if (root.Bokeh !== undefined) {\n",
       "    embed_document(root);\n",
       "  } else {\n",
       "    var attempts = 0;\n",
       "    var timer = setInterval(function(root) {\n",
       "      if (root.Bokeh !== undefined) {\n",
       "        embed_document(root);\n",
       "        clearInterval(timer);\n",
       "      }\n",
       "      attempts++;\n",
       "      if (attempts > 100) {\n",
       "        console.log(\"Bokeh: ERROR: Unable to run BokehJS code because BokehJS library is missing\")\n",
       "        clearInterval(timer);\n",
       "      }\n",
       "    }, 10, root)\n",
       "  }\n",
       "})(window);"
      ],
      "application/vnd.bokehjs_exec.v0+json": ""
     },
     "metadata": {
      "application/vnd.bokehjs_exec.v0+json": {
       "id": "1cc26fee-30c3-4402-a7e3-04c2292598c0"
      }
     },
     "output_type": "display_data"
    }
   ],
   "source": [
    "graph(z**3,z)"
   ]
  },
  {
   "cell_type": "markdown",
   "metadata": {},
   "source": [
    "# Concave, Convex, and Inflection Points"
   ]
  },
  {
   "cell_type": "code",
   "execution_count": 28,
   "metadata": {},
   "outputs": [],
   "source": [
    "x = symbols('x') # Define sympy symbol"
   ]
  },
  {
   "cell_type": "markdown",
   "metadata": {},
   "source": [
    "### Concavity (maxima)\n",
    "\n",
    "$$ f'(x^*) = 0 $$\n",
    "$$ f''(x^*) < 0 $$"
   ]
  },
  {
   "cell_type": "code",
   "execution_count": 29,
   "metadata": {},
   "outputs": [
    {
     "data": {
      "text/html": [
       "\n",
       "\n",
       "\n",
       "\n",
       "\n",
       "\n",
       "  <div class=\"bk-root\" id=\"39f97b89-b4ec-486f-988a-b1dda8260ce1\"></div>\n"
      ]
     },
     "metadata": {},
     "output_type": "display_data"
    },
    {
     "data": {
      "application/javascript": [
       "(function(root) {\n",
       "  function embed_document(root) {\n",
       "    \n",
       "  var docs_json = {\"af974df7-33df-4412-83e8-4d7dd51f19fc\":{\"roots\":{\"references\":[{\"attributes\":{\"line_alpha\":0.6,\"line_color\":\"orange\",\"line_width\":4,\"x\":{\"field\":\"x\"},\"y\":{\"value\":-2}},\"id\":\"08f77552-e922-4f82-9ce9-bda0ffc0af05\",\"type\":\"Line\"},{\"attributes\":{},\"id\":\"74e9d00b-d54e-437d-ac67-cb86ec04a26b\",\"type\":\"LinearScale\"},{\"attributes\":{\"label\":{\"value\":\"f'(x) = -2*x\"},\"renderers\":[{\"id\":\"1e112b62-1b5b-4ff4-9029-0108f4cc6bee\",\"type\":\"GlyphRenderer\"}]},\"id\":\"992adb62-c45f-43a2-8510-9906ef13c954\",\"type\":\"LegendItem\"},{\"attributes\":{},\"id\":\"456f52ce-7e63-4df1-ad1a-8f15cd809d6d\",\"type\":\"UnionRenderers\"},{\"attributes\":{},\"id\":\"3565445d-5710-4ab0-849a-936097240c7f\",\"type\":\"BasicTickFormatter\"},{\"attributes\":{\"callback\":null,\"data\":{\"x\":{\"__ndarray__\":\"AAAAAAAAFMCamZmZmZkTwDQzMzMzMxPAzszMzMzMEsBoZmZmZmYSwAIAAAAAABLAnJmZmZmZEcA2MzMzMzMRwNDMzMzMzBDAamZmZmZmEMAEAAAAAAAQwDwzMzMzMw/AcGZmZmZmDsCkmZmZmZkNwNjMzMzMzAzADAAAAAAADMBAMzMzMzMLwHRmZmZmZgrAqJmZmZmZCcDczMzMzMwIwBAAAAAAAAjARDMzMzMzB8B4ZmZmZmYGwKyZmZmZmQXA4MzMzMzMBMAUAAAAAAAEwEgzMzMzMwPAfGZmZmZmAsCwmZmZmZkBwOTMzMzMzADAGAAAAAAAAMCYZmZmZmb+vwDNzMzMzPy/aDMzMzMz+7/QmZmZmZn5vzgAAAAAAPi/oGZmZmZm9r8IzczMzMz0v3AzMzMzM/O/2JmZmZmZ8b9AAAAAAADwv1DNzMzMzOy/IJqZmZmZ6b/wZmZmZmbmv8AzMzMzM+O/kAAAAAAA4L/AmpmZmZnZv2A0MzMzM9O/AJyZmZmZyb+AnpmZmZm5vwAAAAAAABS9gJSZmZmZuT8Al5mZmZnJP+AxMzMzM9M/QJiZmZmZ2T+g/v/////fP4AyMzMzM+M/sGVmZmZm5j/gmJmZmZnpPxDMzMzMzOw/QP//////7z84mZmZmZnxP9AyMzMzM/M/aMzMzMzM9D8AZmZmZmb2P5j///////c/MJmZmZmZ+T/IMjMzMzP7P2DMzMzMzPw/+GVmZmZm/j+Q////////P5TMzMzMzABAYJmZmZmZAUAsZmZmZmYCQPgyMzMzMwNAxP//////A0CQzMzMzMwEQFyZmZmZmQVAKGZmZmZmBkD0MjMzMzMHQMD//////wdAjMzMzMzMCEBYmZmZmZkJQCRmZmZmZgpA8DIzMzMzC0C8//////8LQIjMzMzMzAxAVJmZmZmZDUAgZmZmZmYOQOwyMzMzMw9AuP//////D0BCZmZmZmYQQKjMzMzMzBBADjMzMzMzEUB0mZmZmZkRQNr//////xFAQGZmZmZmEkCmzMzMzMwSQAwzMzMzMxNAcpmZmZmZE0DY//////8TQA==\",\"dtype\":\"float64\",\"shape\":[101]}},\"selected\":{\"id\":\"bf9358c2-6329-4237-a142-a32ddced020c\",\"type\":\"Selection\"},\"selection_policy\":{\"id\":\"ec09678b-be88-483b-9619-1d00f7accb2d\",\"type\":\"UnionRenderers\"}},\"id\":\"40ae0bf5-43ff-4a6b-919d-5be34e5feae1\",\"type\":\"ColumnDataSource\"},{\"attributes\":{\"label\":{\"value\":\"f(x) = -x**2\"},\"renderers\":[{\"id\":\"9a90740f-fb15-43d1-a3f5-5aff88aadc72\",\"type\":\"GlyphRenderer\"}]},\"id\":\"51590a44-3d9a-4605-b0f0-b2ff2d39ac44\",\"type\":\"LegendItem\"},{\"attributes\":{\"line_alpha\":0.1,\"line_color\":\"#1f77b4\",\"line_width\":4,\"x\":{\"field\":\"x\"},\"y\":{\"value\":-2}},\"id\":\"ac2e3dad-eccc-4d7f-ba34-fe4eac3dad18\",\"type\":\"Line\"},{\"attributes\":{\"callback\":null},\"id\":\"c297c834-15e6-4ac7-91f8-45f374ad30c7\",\"type\":\"DataRange1d\"},{\"attributes\":{\"line_alpha\":0.1,\"line_color\":\"#1f77b4\",\"line_width\":4,\"x\":{\"field\":\"x\"},\"y\":{\"field\":\"y\"}},\"id\":\"25d7aa26-8748-40e7-8ac9-8dd0185b9f46\",\"type\":\"Line\"},{\"attributes\":{\"line_alpha\":0.1,\"line_color\":\"orange\",\"line_width\":4,\"x\":{\"field\":\"x\"},\"y\":{\"value\":-2}},\"id\":\"b31776d3-9564-4f54-ba2d-f27a8f7d47d8\",\"type\":\"Line\"},{\"attributes\":{},\"id\":\"c2ace421-7dfa-48e5-8994-7b0837c6fb8d\",\"type\":\"LinearScale\"},{\"attributes\":{\"data_source\":{\"id\":\"40ae0bf5-43ff-4a6b-919d-5be34e5feae1\",\"type\":\"ColumnDataSource\"},\"glyph\":{\"id\":\"08f77552-e922-4f82-9ce9-bda0ffc0af05\",\"type\":\"Line\"},\"hover_glyph\":null,\"muted_glyph\":{\"id\":\"b31776d3-9564-4f54-ba2d-f27a8f7d47d8\",\"type\":\"Line\"},\"nonselection_glyph\":{\"id\":\"ac2e3dad-eccc-4d7f-ba34-fe4eac3dad18\",\"type\":\"Line\"},\"selection_glyph\":null,\"view\":{\"id\":\"4354e7f4-5d52-4ed1-81df-b9824d217658\",\"type\":\"CDSView\"}},\"id\":\"34e48696-80d6-4fd2-8eba-3a279df9e891\",\"type\":\"GlyphRenderer\"},{\"attributes\":{\"callback\":null},\"id\":\"90c31877-6ee5-4c65-83e7-d6fb414afbf2\",\"type\":\"DataRange1d\"},{\"attributes\":{\"source\":{\"id\":\"40ae0bf5-43ff-4a6b-919d-5be34e5feae1\",\"type\":\"ColumnDataSource\"}},\"id\":\"4354e7f4-5d52-4ed1-81df-b9824d217658\",\"type\":\"CDSView\"},{\"attributes\":{},\"id\":\"716419a9-4473-4a14-8ba3-86e6fe9ba1f3\",\"type\":\"ResetTool\"},{\"attributes\":{},\"id\":\"d5cafd0e-49f3-401a-95d9-b6a440b07d3b\",\"type\":\"Selection\"},{\"attributes\":{\"line_alpha\":0.6,\"line_width\":4,\"x\":{\"field\":\"x\"},\"y\":{\"field\":\"y\"}},\"id\":\"eee30c35-683d-4359-9be2-dfb15f413d7d\",\"type\":\"Line\"},{\"attributes\":{},\"id\":\"ec09678b-be88-483b-9619-1d00f7accb2d\",\"type\":\"UnionRenderers\"},{\"attributes\":{\"axis_label\":\"X\",\"formatter\":{\"id\":\"ded65d69-5631-4068-b51b-a2199621e10a\",\"type\":\"BasicTickFormatter\"},\"plot\":{\"id\":\"25cca04e-f548-431a-8afa-9eb7530bb033\",\"subtype\":\"Figure\",\"type\":\"Plot\"},\"ticker\":{\"id\":\"1f8e8086-06a9-44aa-bd45-112a5d1d6782\",\"type\":\"BasicTicker\"}},\"id\":\"897816a9-da42-4b2d-b857-e9e78d26d521\",\"type\":\"LinearAxis\"},{\"attributes\":{\"label\":{\"value\":\"f''(x) = -2\"},\"renderers\":[{\"id\":\"34e48696-80d6-4fd2-8eba-3a279df9e891\",\"type\":\"GlyphRenderer\"}]},\"id\":\"080f597f-7620-4154-8890-c42adfe83d44\",\"type\":\"LegendItem\"},{\"attributes\":{\"active_drag\":\"auto\",\"active_inspect\":\"auto\",\"active_multi\":null,\"active_scroll\":\"auto\",\"active_tap\":{\"id\":\"bbccd364-3514-482d-9921-aee2e379bd1f\",\"type\":\"PointDrawTool\"},\"tools\":[{\"id\":\"d5c66844-8997-4797-b7f4-f681fcf6e543\",\"type\":\"PanTool\"},{\"id\":\"cbca6724-c1e6-4333-98bf-b3297041629f\",\"type\":\"HoverTool\"},{\"id\":\"a008e334-9a9e-4f29-89de-69c32e709153\",\"type\":\"WheelZoomTool\"},{\"id\":\"716419a9-4473-4a14-8ba3-86e6fe9ba1f3\",\"type\":\"ResetTool\"},{\"id\":\"bbccd364-3514-482d-9921-aee2e379bd1f\",\"type\":\"PointDrawTool\"}]},\"id\":\"3dc0d6af-40ce-4223-9659-2ff8b112cbe3\",\"type\":\"Toolbar\"},{\"attributes\":{\"callback\":null,\"data\":{\"x\":[],\"y\":[]},\"selected\":{\"id\":\"331a7421-ed29-41ca-bd79-df20cd715a17\",\"type\":\"Selection\"},\"selection_policy\":{\"id\":\"c63d4862-a738-4269-b21d-56b1f16c86cb\",\"type\":\"UnionRenderers\"}},\"id\":\"74b3a474-f1ee-4319-b882-8e113a3e51f4\",\"type\":\"ColumnDataSource\"},{\"attributes\":{},\"id\":\"3c8365c9-4656-4f07-9429-70851f7c9fa5\",\"type\":\"BasicTicker\"},{\"attributes\":{\"fill_color\":{\"value\":\"black\"},\"size\":{\"units\":\"screen\",\"value\":10},\"x\":{\"field\":\"x\"},\"y\":{\"field\":\"y\"}},\"id\":\"2bd031cd-96de-4f08-a8e4-5d8731cf841e\",\"type\":\"Circle\"},{\"attributes\":{\"plot\":{\"id\":\"25cca04e-f548-431a-8afa-9eb7530bb033\",\"subtype\":\"Figure\",\"type\":\"Plot\"},\"ticker\":{\"id\":\"1f8e8086-06a9-44aa-bd45-112a5d1d6782\",\"type\":\"BasicTicker\"}},\"id\":\"06659032-06bf-48ef-9c2e-796782573d18\",\"type\":\"Grid\"},{\"attributes\":{\"below\":[{\"id\":\"897816a9-da42-4b2d-b857-e9e78d26d521\",\"type\":\"LinearAxis\"}],\"left\":[{\"id\":\"69aaa4b2-19fb-4f96-b763-53c003567cf8\",\"type\":\"LinearAxis\"}],\"plot_height\":400,\"plot_width\":700,\"renderers\":[{\"id\":\"897816a9-da42-4b2d-b857-e9e78d26d521\",\"type\":\"LinearAxis\"},{\"id\":\"06659032-06bf-48ef-9c2e-796782573d18\",\"type\":\"Grid\"},{\"id\":\"69aaa4b2-19fb-4f96-b763-53c003567cf8\",\"type\":\"LinearAxis\"},{\"id\":\"ec7f2d25-8971-4932-a79e-a20b56a014bb\",\"type\":\"Grid\"},{\"id\":\"6ff1ce18-ba6f-4806-b79a-47e2dd087060\",\"type\":\"Span\"},{\"id\":\"ceb5b59d-938e-485c-b3bd-32bc43da70a9\",\"type\":\"Span\"},{\"id\":\"8238e9ef-80ff-4644-b90d-e9c34d50e80a\",\"type\":\"Legend\"},{\"id\":\"9a90740f-fb15-43d1-a3f5-5aff88aadc72\",\"type\":\"GlyphRenderer\"},{\"id\":\"1e112b62-1b5b-4ff4-9029-0108f4cc6bee\",\"type\":\"GlyphRenderer\"},{\"id\":\"34e48696-80d6-4fd2-8eba-3a279df9e891\",\"type\":\"GlyphRenderer\"},{\"id\":\"1591a59b-79f2-4d34-98ec-08cf6e9789bd\",\"type\":\"GlyphRenderer\"}],\"title\":{\"id\":\"fe9442cc-b5e7-4e9d-aa7b-5124d15805a9\",\"type\":\"Title\"},\"toolbar\":{\"id\":\"3dc0d6af-40ce-4223-9659-2ff8b112cbe3\",\"type\":\"Toolbar\"},\"toolbar_location\":\"above\",\"x_range\":{\"id\":\"c297c834-15e6-4ac7-91f8-45f374ad30c7\",\"type\":\"DataRange1d\"},\"x_scale\":{\"id\":\"74e9d00b-d54e-437d-ac67-cb86ec04a26b\",\"type\":\"LinearScale\"},\"y_range\":{\"id\":\"90c31877-6ee5-4c65-83e7-d6fb414afbf2\",\"type\":\"DataRange1d\"},\"y_scale\":{\"id\":\"c2ace421-7dfa-48e5-8994-7b0837c6fb8d\",\"type\":\"LinearScale\"}},\"id\":\"25cca04e-f548-431a-8afa-9eb7530bb033\",\"subtype\":\"Figure\",\"type\":\"Plot\"},{\"attributes\":{\"fill_alpha\":{\"value\":0.1},\"fill_color\":{\"value\":\"#1f77b4\"},\"line_alpha\":{\"value\":0.1},\"line_color\":{\"value\":\"#1f77b4\"},\"size\":{\"units\":\"screen\",\"value\":10},\"x\":{\"field\":\"x\"},\"y\":{\"field\":\"y\"}},\"id\":\"c247aa13-a4c7-40b1-aed4-38a39a2d052f\",\"type\":\"Circle\"},{\"attributes\":{},\"id\":\"1f8e8086-06a9-44aa-bd45-112a5d1d6782\",\"type\":\"BasicTicker\"},{\"attributes\":{\"data_source\":{\"id\":\"74b3a474-f1ee-4319-b882-8e113a3e51f4\",\"type\":\"ColumnDataSource\"},\"glyph\":{\"id\":\"2bd031cd-96de-4f08-a8e4-5d8731cf841e\",\"type\":\"Circle\"},\"hover_glyph\":null,\"muted_glyph\":null,\"nonselection_glyph\":{\"id\":\"c247aa13-a4c7-40b1-aed4-38a39a2d052f\",\"type\":\"Circle\"},\"selection_glyph\":null,\"view\":{\"id\":\"d5ea7f75-c208-4764-b6a0-3e6ab44028e3\",\"type\":\"CDSView\"}},\"id\":\"1591a59b-79f2-4d34-98ec-08cf6e9789bd\",\"type\":\"GlyphRenderer\"},{\"attributes\":{\"formatter\":{\"id\":\"3565445d-5710-4ab0-849a-936097240c7f\",\"type\":\"BasicTickFormatter\"},\"plot\":{\"id\":\"25cca04e-f548-431a-8afa-9eb7530bb033\",\"subtype\":\"Figure\",\"type\":\"Plot\"},\"ticker\":{\"id\":\"3c8365c9-4656-4f07-9429-70851f7c9fa5\",\"type\":\"BasicTicker\"}},\"id\":\"69aaa4b2-19fb-4f96-b763-53c003567cf8\",\"type\":\"LinearAxis\"},{\"attributes\":{\"source\":{\"id\":\"74b3a474-f1ee-4319-b882-8e113a3e51f4\",\"type\":\"ColumnDataSource\"}},\"id\":\"d5ea7f75-c208-4764-b6a0-3e6ab44028e3\",\"type\":\"CDSView\"},{\"attributes\":{\"dimension\":1,\"plot\":{\"id\":\"25cca04e-f548-431a-8afa-9eb7530bb033\",\"subtype\":\"Figure\",\"type\":\"Plot\"},\"ticker\":{\"id\":\"3c8365c9-4656-4f07-9429-70851f7c9fa5\",\"type\":\"BasicTicker\"}},\"id\":\"ec7f2d25-8971-4932-a79e-a20b56a014bb\",\"type\":\"Grid\"},{\"attributes\":{},\"id\":\"ded65d69-5631-4068-b51b-a2199621e10a\",\"type\":\"BasicTickFormatter\"},{\"attributes\":{\"empty_value\":\"black\",\"renderers\":[{\"id\":\"1591a59b-79f2-4d34-98ec-08cf6e9789bd\",\"type\":\"GlyphRenderer\"}]},\"id\":\"bbccd364-3514-482d-9921-aee2e379bd1f\",\"type\":\"PointDrawTool\"},{\"attributes\":{\"line_width\":{\"value\":0.5},\"location\":0,\"plot\":null},\"id\":\"6ff1ce18-ba6f-4806-b79a-47e2dd087060\",\"type\":\"Span\"},{\"attributes\":{\"dimension\":\"height\",\"line_width\":{\"value\":0.5},\"location\":0,\"plot\":null},\"id\":\"ceb5b59d-938e-485c-b3bd-32bc43da70a9\",\"type\":\"Span\"},{\"attributes\":{},\"id\":\"bf9358c2-6329-4237-a142-a32ddced020c\",\"type\":\"Selection\"},{\"attributes\":{\"line_alpha\":0.1,\"line_width\":4,\"x\":{\"field\":\"x\"},\"y\":{\"field\":\"y\"}},\"id\":\"15c2e4fc-944d-4180-9e15-561ae7c4b356\",\"type\":\"Line\"},{\"attributes\":{},\"id\":\"d5c66844-8997-4797-b7f4-f681fcf6e543\",\"type\":\"PanTool\"},{\"attributes\":{},\"id\":\"331a7421-ed29-41ca-bd79-df20cd715a17\",\"type\":\"Selection\"},{\"attributes\":{\"source\":{\"id\":\"be01d9e2-a37f-48ec-a61a-18211f04277c\",\"type\":\"ColumnDataSource\"}},\"id\":\"a11a6925-9def-441d-9fbb-909eb2641872\",\"type\":\"CDSView\"},{\"attributes\":{},\"id\":\"c63d4862-a738-4269-b21d-56b1f16c86cb\",\"type\":\"UnionRenderers\"},{\"attributes\":{\"callback\":null,\"renderers\":\"auto\",\"tooltips\":[[\"f_\",\"$y\"],[\"x\",\"$x\"]]},\"id\":\"cbca6724-c1e6-4333-98bf-b3297041629f\",\"type\":\"HoverTool\"},{\"attributes\":{},\"id\":\"a008e334-9a9e-4f29-89de-69c32e709153\",\"type\":\"WheelZoomTool\"},{\"attributes\":{\"data_source\":{\"id\":\"be01d9e2-a37f-48ec-a61a-18211f04277c\",\"type\":\"ColumnDataSource\"},\"glyph\":{\"id\":\"eee30c35-683d-4359-9be2-dfb15f413d7d\",\"type\":\"Line\"},\"hover_glyph\":null,\"muted_glyph\":{\"id\":\"15c2e4fc-944d-4180-9e15-561ae7c4b356\",\"type\":\"Line\"},\"nonselection_glyph\":{\"id\":\"25d7aa26-8748-40e7-8ac9-8dd0185b9f46\",\"type\":\"Line\"},\"selection_glyph\":null,\"view\":{\"id\":\"a11a6925-9def-441d-9fbb-909eb2641872\",\"type\":\"CDSView\"}},\"id\":\"9a90740f-fb15-43d1-a3f5-5aff88aadc72\",\"type\":\"GlyphRenderer\"},{\"attributes\":{\"callback\":null,\"data\":{\"x\":{\"__ndarray__\":\"AAAAAAAAFMCamZmZmZkTwDQzMzMzMxPAzszMzMzMEsBoZmZmZmYSwAIAAAAAABLAnJmZmZmZEcA2MzMzMzMRwNDMzMzMzBDAamZmZmZmEMAEAAAAAAAQwDwzMzMzMw/AcGZmZmZmDsCkmZmZmZkNwNjMzMzMzAzADAAAAAAADMBAMzMzMzMLwHRmZmZmZgrAqJmZmZmZCcDczMzMzMwIwBAAAAAAAAjARDMzMzMzB8B4ZmZmZmYGwKyZmZmZmQXA4MzMzMzMBMAUAAAAAAAEwEgzMzMzMwPAfGZmZmZmAsCwmZmZmZkBwOTMzMzMzADAGAAAAAAAAMCYZmZmZmb+vwDNzMzMzPy/aDMzMzMz+7/QmZmZmZn5vzgAAAAAAPi/oGZmZmZm9r8IzczMzMz0v3AzMzMzM/O/2JmZmZmZ8b9AAAAAAADwv1DNzMzMzOy/IJqZmZmZ6b/wZmZmZmbmv8AzMzMzM+O/kAAAAAAA4L/AmpmZmZnZv2A0MzMzM9O/AJyZmZmZyb+AnpmZmZm5vwAAAAAAABS9gJSZmZmZuT8Al5mZmZnJP+AxMzMzM9M/QJiZmZmZ2T+g/v/////fP4AyMzMzM+M/sGVmZmZm5j/gmJmZmZnpPxDMzMzMzOw/QP//////7z84mZmZmZnxP9AyMzMzM/M/aMzMzMzM9D8AZmZmZmb2P5j///////c/MJmZmZmZ+T/IMjMzMzP7P2DMzMzMzPw/+GVmZmZm/j+Q////////P5TMzMzMzABAYJmZmZmZAUAsZmZmZmYCQPgyMzMzMwNAxP//////A0CQzMzMzMwEQFyZmZmZmQVAKGZmZmZmBkD0MjMzMzMHQMD//////wdAjMzMzMzMCEBYmZmZmZkJQCRmZmZmZgpA8DIzMzMzC0C8//////8LQIjMzMzMzAxAVJmZmZmZDUAgZmZmZmYOQOwyMzMzMw9AuP//////D0BCZmZmZmYQQKjMzMzMzBBADjMzMzMzEUB0mZmZmZkRQNr//////xFAQGZmZmZmEkCmzMzMzMwSQAwzMzMzMxNAcpmZmZmZE0DY//////8TQA==\",\"dtype\":\"float64\",\"shape\":[101]},\"y\":{\"__ndarray__\":\"AAAAAAAAOcDE9ShcjwI4wAzXo3A9CjfA2qNwPQoXNsAtXI/C9Sg1wAUAAAAAQDTAYY/C9ShcM8BDCtejcH0ywKtwPQrXozHAl8L1KFzPMMAIAAAAAAAwwP1RuB6Fay7A9HoUrkfhLMD1ehSuR2ErwABSuB6F6ynAFQAAAACAKMA0hetRuB4nwF7hehSuxyXAkhSuR+F6JMDQHoXrUTgjwBgAAAAAACLAargehevRIMCNj8L1KFwfwFtcj8L1KB3APNejcD0KG8AyAAAAAAAZwDzXo3A9ChfAW1yPwvUoFcCNj8L1KFwTwNVwPQrXoxHAMAAAAAAAEMBAexSuR+EMwEhSuB6F6wnAeIXrUbgeB8DSFK5H4XoEwFQAAAAAAALA/Y/C9Shc/7+k16NwPQr7v5zXo3A9Cve/5Y/C9Shc87+AAAAAAADwv9hSuB6F6+m/UhWuR+F65L/dkML1KFzfv1zYo3A9Cte/IAEAAAAA0L9SFq5H4XrEv9zZo3A9Cre/UhiuR+F6pL9SHK5H4XqEvwAAAAAAADm6UgyuR+F6hL9SEK5H4Xqkv9zTo3A9Cre/UhKuR+F6xL9A/f/////Pv1zVo3A9Cte/XY3C9Shc379SE65H4Xrkv5hQuB6F6+m/gP7/////77+FjsL1KFzzvxzWo3A9Cve/BNajcD0K+789jsL1KFz/v2T//////wHA0hOuR+F6BMBohOtRuB4HwChRuB6F6wnAEHoUrkfhDMAg//////8PwC1wPQrXoxHA3Y7C9ShcE8CjW4/C9SgVwHzWo3A9ChfAav//////GMBs1qNwPQobwINbj8L1KB3ArY7C9ShcH8D2tx6F69EgwKD//////yHAVB6F61E4I8ASFK5H4XokwNrgehSuxyXArITrUbgeJ8CJ/////38owHBRuB6F6ynAYXoUrkdhK8BcehSuR+EswGFRuB6Fay7AcP//////L8BFwvUoXM8wwFdwPQrXozHA7QnXo3B9MsAJj8L1KFwzwKv/////PzTA0VuPwvUoNcB8o3A9Chc2wKzWo3A9CjfAYvUoXI8COMCc//////84wA==\",\"dtype\":\"float64\",\"shape\":[101]}},\"selected\":{\"id\":\"2af8de71-1e58-440e-99ef-5e73df47fc86\",\"type\":\"Selection\"},\"selection_policy\":{\"id\":\"52686022-646c-4654-bb15-7a43078a85fc\",\"type\":\"UnionRenderers\"}},\"id\":\"be01d9e2-a37f-48ec-a61a-18211f04277c\",\"type\":\"ColumnDataSource\"},{\"attributes\":{\"plot\":null,\"text\":\"\"},\"id\":\"fe9442cc-b5e7-4e9d-aa7b-5124d15805a9\",\"type\":\"Title\"},{\"attributes\":{\"click_policy\":\"mute\",\"items\":[{\"id\":\"51590a44-3d9a-4605-b0f0-b2ff2d39ac44\",\"type\":\"LegendItem\"},{\"id\":\"992adb62-c45f-43a2-8510-9906ef13c954\",\"type\":\"LegendItem\"},{\"id\":\"080f597f-7620-4154-8890-c42adfe83d44\",\"type\":\"LegendItem\"}],\"location\":\"top_left\",\"plot\":{\"id\":\"25cca04e-f548-431a-8afa-9eb7530bb033\",\"subtype\":\"Figure\",\"type\":\"Plot\"}},\"id\":\"8238e9ef-80ff-4644-b90d-e9c34d50e80a\",\"type\":\"Legend\"},{\"attributes\":{\"line_alpha\":0.6,\"line_color\":\"steelblue\",\"line_width\":4,\"x\":{\"field\":\"x\"},\"y\":{\"field\":\"y\"}},\"id\":\"6868ec09-29fd-4ce1-9872-8b8f5c387ccd\",\"type\":\"Line\"},{\"attributes\":{},\"id\":\"52686022-646c-4654-bb15-7a43078a85fc\",\"type\":\"UnionRenderers\"},{\"attributes\":{\"line_alpha\":0.1,\"line_color\":\"steelblue\",\"line_width\":4,\"x\":{\"field\":\"x\"},\"y\":{\"field\":\"y\"}},\"id\":\"443d01fd-d33c-4a4f-8696-e5900f0f26f0\",\"type\":\"Line\"},{\"attributes\":{\"callback\":null,\"data\":{\"x\":{\"__ndarray__\":\"AAAAAAAAFMCamZmZmZkTwDQzMzMzMxPAzszMzMzMEsBoZmZmZmYSwAIAAAAAABLAnJmZmZmZEcA2MzMzMzMRwNDMzMzMzBDAamZmZmZmEMAEAAAAAAAQwDwzMzMzMw/AcGZmZmZmDsCkmZmZmZkNwNjMzMzMzAzADAAAAAAADMBAMzMzMzMLwHRmZmZmZgrAqJmZmZmZCcDczMzMzMwIwBAAAAAAAAjARDMzMzMzB8B4ZmZmZmYGwKyZmZmZmQXA4MzMzMzMBMAUAAAAAAAEwEgzMzMzMwPAfGZmZmZmAsCwmZmZmZkBwOTMzMzMzADAGAAAAAAAAMCYZmZmZmb+vwDNzMzMzPy/aDMzMzMz+7/QmZmZmZn5vzgAAAAAAPi/oGZmZmZm9r8IzczMzMz0v3AzMzMzM/O/2JmZmZmZ8b9AAAAAAADwv1DNzMzMzOy/IJqZmZmZ6b/wZmZmZmbmv8AzMzMzM+O/kAAAAAAA4L/AmpmZmZnZv2A0MzMzM9O/AJyZmZmZyb+AnpmZmZm5vwAAAAAAABS9gJSZmZmZuT8Al5mZmZnJP+AxMzMzM9M/QJiZmZmZ2T+g/v/////fP4AyMzMzM+M/sGVmZmZm5j/gmJmZmZnpPxDMzMzMzOw/QP//////7z84mZmZmZnxP9AyMzMzM/M/aMzMzMzM9D8AZmZmZmb2P5j///////c/MJmZmZmZ+T/IMjMzMzP7P2DMzMzMzPw/+GVmZmZm/j+Q////////P5TMzMzMzABAYJmZmZmZAUAsZmZmZmYCQPgyMzMzMwNAxP//////A0CQzMzMzMwEQFyZmZmZmQVAKGZmZmZmBkD0MjMzMzMHQMD//////wdAjMzMzMzMCEBYmZmZmZkJQCRmZmZmZgpA8DIzMzMzC0C8//////8LQIjMzMzMzAxAVJmZmZmZDUAgZmZmZmYOQOwyMzMzMw9AuP//////D0BCZmZmZmYQQKjMzMzMzBBADjMzMzMzEUB0mZmZmZkRQNr//////xFAQGZmZmZmEkCmzMzMzMwSQAwzMzMzMxNAcpmZmZmZE0DY//////8TQA==\",\"dtype\":\"float64\",\"shape\":[101]},\"y\":{\"__ndarray__\":\"AAAAAAAAJECamZmZmZkjQDQzMzMzMyNAzszMzMzMIkBoZmZmZmYiQAIAAAAAACJAnJmZmZmZIUA2MzMzMzMhQNDMzMzMzCBAamZmZmZmIEAEAAAAAAAgQDwzMzMzMx9AcGZmZmZmHkCkmZmZmZkdQNjMzMzMzBxADAAAAAAAHEBAMzMzMzMbQHRmZmZmZhpAqJmZmZmZGUDczMzMzMwYQBAAAAAAABhARDMzMzMzF0B4ZmZmZmYWQKyZmZmZmRVA4MzMzMzMFEAUAAAAAAAUQEgzMzMzMxNAfGZmZmZmEkCwmZmZmZkRQOTMzMzMzBBAGAAAAAAAEECYZmZmZmYOQADNzMzMzAxAaDMzMzMzC0DQmZmZmZkJQDgAAAAAAAhAoGZmZmZmBkAIzczMzMwEQHAzMzMzMwNA2JmZmZmZAUBAAAAAAAAAQFDNzMzMzPw/IJqZmZmZ+T/wZmZmZmb2P8AzMzMzM/M/kAAAAAAA8D/AmpmZmZnpP2A0MzMzM+M/AJyZmZmZ2T+AnpmZmZnJPwAAAAAAACQ9gJSZmZmZyb8Al5mZmZnZv+AxMzMzM+O/QJiZmZmZ6b+g/v/////vv4AyMzMzM/O/sGVmZmZm9r/gmJmZmZn5vxDMzMzMzPy/QP///////784mZmZmZkBwNAyMzMzMwPAaMzMzMzMBMAAZmZmZmYGwJj//////wfAMJmZmZmZCcDIMjMzMzMLwGDMzMzMzAzA+GVmZmZmDsCQ//////8PwJTMzMzMzBDAYJmZmZmZEcAsZmZmZmYSwPgyMzMzMxPAxP//////E8CQzMzMzMwUwFyZmZmZmRXAKGZmZmZmFsD0MjMzMzMXwMD//////xfAjMzMzMzMGMBYmZmZmZkZwCRmZmZmZhrA8DIzMzMzG8C8//////8bwIjMzMzMzBzAVJmZmZmZHcAgZmZmZmYewOwyMzMzMx/AuP//////H8BCZmZmZmYgwKjMzMzMzCDADjMzMzMzIcB0mZmZmZkhwNr//////yHAQGZmZmZmIsCmzMzMzMwiwAwzMzMzMyPAcpmZmZmZI8DY//////8jwA==\",\"dtype\":\"float64\",\"shape\":[101]}},\"selected\":{\"id\":\"d5cafd0e-49f3-401a-95d9-b6a440b07d3b\",\"type\":\"Selection\"},\"selection_policy\":{\"id\":\"456f52ce-7e63-4df1-ad1a-8f15cd809d6d\",\"type\":\"UnionRenderers\"}},\"id\":\"8e26bd2e-73dc-49f3-98b6-02232833b753\",\"type\":\"ColumnDataSource\"},{\"attributes\":{\"line_alpha\":0.1,\"line_color\":\"#1f77b4\",\"line_width\":4,\"x\":{\"field\":\"x\"},\"y\":{\"field\":\"y\"}},\"id\":\"d9076d3c-27f5-4c11-81b8-47f3ab278483\",\"type\":\"Line\"},{\"attributes\":{\"data_source\":{\"id\":\"8e26bd2e-73dc-49f3-98b6-02232833b753\",\"type\":\"ColumnDataSource\"},\"glyph\":{\"id\":\"6868ec09-29fd-4ce1-9872-8b8f5c387ccd\",\"type\":\"Line\"},\"hover_glyph\":null,\"muted_glyph\":{\"id\":\"443d01fd-d33c-4a4f-8696-e5900f0f26f0\",\"type\":\"Line\"},\"nonselection_glyph\":{\"id\":\"d9076d3c-27f5-4c11-81b8-47f3ab278483\",\"type\":\"Line\"},\"selection_glyph\":null,\"view\":{\"id\":\"11a066b6-27b3-45d4-968d-7c26f1cb065b\",\"type\":\"CDSView\"}},\"id\":\"1e112b62-1b5b-4ff4-9029-0108f4cc6bee\",\"type\":\"GlyphRenderer\"},{\"attributes\":{\"source\":{\"id\":\"8e26bd2e-73dc-49f3-98b6-02232833b753\",\"type\":\"ColumnDataSource\"}},\"id\":\"11a066b6-27b3-45d4-968d-7c26f1cb065b\",\"type\":\"CDSView\"},{\"attributes\":{},\"id\":\"2af8de71-1e58-440e-99ef-5e73df47fc86\",\"type\":\"Selection\"}],\"root_ids\":[\"25cca04e-f548-431a-8afa-9eb7530bb033\"]},\"title\":\"Bokeh Application\",\"version\":\"0.13.0\"}};\n",
       "  var render_items = [{\"docid\":\"af974df7-33df-4412-83e8-4d7dd51f19fc\",\"roots\":{\"25cca04e-f548-431a-8afa-9eb7530bb033\":\"39f97b89-b4ec-486f-988a-b1dda8260ce1\"}}];\n",
       "  root.Bokeh.embed.embed_items_notebook(docs_json, render_items);\n",
       "\n",
       "  }\n",
       "  if (root.Bokeh !== undefined) {\n",
       "    embed_document(root);\n",
       "  } else {\n",
       "    var attempts = 0;\n",
       "    var timer = setInterval(function(root) {\n",
       "      if (root.Bokeh !== undefined) {\n",
       "        embed_document(root);\n",
       "        clearInterval(timer);\n",
       "      }\n",
       "      attempts++;\n",
       "      if (attempts > 100) {\n",
       "        console.log(\"Bokeh: ERROR: Unable to run BokehJS code because BokehJS library is missing\")\n",
       "        clearInterval(timer);\n",
       "      }\n",
       "    }, 10, root)\n",
       "  }\n",
       "})(window);"
      ],
      "application/vnd.bokehjs_exec.v0+json": ""
     },
     "metadata": {
      "application/vnd.bokehjs_exec.v0+json": {
       "id": "25cca04e-f548-431a-8afa-9eb7530bb033"
      }
     },
     "output_type": "display_data"
    }
   ],
   "source": [
    "graph(-x**2,x)"
   ]
  },
  {
   "cell_type": "markdown",
   "metadata": {},
   "source": [
    "### Convexity (minima)\n",
    "\n",
    "$$ f'(x^*) = 0 $$\n",
    "$$ f''(x^*) > 0 $$"
   ]
  },
  {
   "cell_type": "code",
   "execution_count": 30,
   "metadata": {},
   "outputs": [
    {
     "data": {
      "text/html": [
       "\n",
       "\n",
       "\n",
       "\n",
       "\n",
       "\n",
       "  <div class=\"bk-root\" id=\"2edaa32a-5bb6-4a35-89fd-e51451d72b22\"></div>\n"
      ]
     },
     "metadata": {},
     "output_type": "display_data"
    },
    {
     "data": {
      "application/javascript": [
       "(function(root) {\n",
       "  function embed_document(root) {\n",
       "    \n",
       "  var docs_json = {\"195840c4-9478-4a93-b59d-b11d42d9885a\":{\"roots\":{\"references\":[{\"attributes\":{\"data_source\":{\"id\":\"f1d9071d-8a5c-471a-883f-25a7516a627a\",\"type\":\"ColumnDataSource\"},\"glyph\":{\"id\":\"8c7a0d24-41fa-418a-867f-c6fc3c9970b6\",\"type\":\"Circle\"},\"hover_glyph\":null,\"muted_glyph\":null,\"nonselection_glyph\":{\"id\":\"4e090aeb-8d61-40a4-9580-6c3e39ee4b32\",\"type\":\"Circle\"},\"selection_glyph\":null,\"view\":{\"id\":\"7ffa8e77-68c1-4cc7-ab4a-bba90e587975\",\"type\":\"CDSView\"}},\"id\":\"bf7ccb45-5b64-4267-9a73-1034208b2e69\",\"type\":\"GlyphRenderer\"},{\"attributes\":{\"below\":[{\"id\":\"d53a7baa-762e-4e62-ad78-92cb5ad11361\",\"type\":\"LinearAxis\"}],\"left\":[{\"id\":\"8b9be140-7753-4b35-8ed6-f094239c1dfb\",\"type\":\"LinearAxis\"}],\"plot_height\":400,\"plot_width\":700,\"renderers\":[{\"id\":\"d53a7baa-762e-4e62-ad78-92cb5ad11361\",\"type\":\"LinearAxis\"},{\"id\":\"977b4086-acc1-4c99-b391-079f1f8d83fa\",\"type\":\"Grid\"},{\"id\":\"8b9be140-7753-4b35-8ed6-f094239c1dfb\",\"type\":\"LinearAxis\"},{\"id\":\"f4755b68-2a1f-4a4a-bf6e-d0ebf694a428\",\"type\":\"Grid\"},{\"id\":\"28f2db3e-6c1d-4fbb-9263-be58982ac8f0\",\"type\":\"Span\"},{\"id\":\"2b880d78-331d-42b5-8f43-a4052a650392\",\"type\":\"Span\"},{\"id\":\"f09eff43-0f98-4bd3-8fb5-b7ff3cd292f3\",\"type\":\"Legend\"},{\"id\":\"d12a0d12-e427-4145-ab5b-f0ed9842bc4a\",\"type\":\"GlyphRenderer\"},{\"id\":\"dd8acf3f-2402-4395-ba32-69c8dd989187\",\"type\":\"GlyphRenderer\"},{\"id\":\"d1545d5a-e20c-4d00-ad04-87521ac353a2\",\"type\":\"GlyphRenderer\"},{\"id\":\"bf7ccb45-5b64-4267-9a73-1034208b2e69\",\"type\":\"GlyphRenderer\"}],\"title\":{\"id\":\"e2e72070-788f-4527-8028-16f911e04ead\",\"type\":\"Title\"},\"toolbar\":{\"id\":\"32b4335b-b8cc-47d7-85de-25cb3c3877c8\",\"type\":\"Toolbar\"},\"toolbar_location\":\"above\",\"x_range\":{\"id\":\"9625d626-471c-4ac3-8fc9-16057aafe5ba\",\"type\":\"DataRange1d\"},\"x_scale\":{\"id\":\"0a921588-75a5-4900-a21e-31217bb339c3\",\"type\":\"LinearScale\"},\"y_range\":{\"id\":\"faac693f-fcb8-44a5-8682-bd0c84ed5afb\",\"type\":\"DataRange1d\"},\"y_scale\":{\"id\":\"77d15533-36bb-4bbb-a470-249052f083f3\",\"type\":\"LinearScale\"}},\"id\":\"7fcde36a-c26a-409c-adbb-c4b80018ef09\",\"subtype\":\"Figure\",\"type\":\"Plot\"},{\"attributes\":{},\"id\":\"93b1d5fd-6342-4b92-8ac1-e061f4f40e55\",\"type\":\"BasicTicker\"},{\"attributes\":{\"source\":{\"id\":\"f1d9071d-8a5c-471a-883f-25a7516a627a\",\"type\":\"ColumnDataSource\"}},\"id\":\"7ffa8e77-68c1-4cc7-ab4a-bba90e587975\",\"type\":\"CDSView\"},{\"attributes\":{\"click_policy\":\"mute\",\"items\":[{\"id\":\"b66dd615-7747-452b-b1d9-24edf43aa090\",\"type\":\"LegendItem\"},{\"id\":\"6357a242-9580-4498-a518-5f8ceef9ba18\",\"type\":\"LegendItem\"},{\"id\":\"a7561a1e-b08c-42d1-a11c-5041aa99f3f2\",\"type\":\"LegendItem\"}],\"location\":\"top_left\",\"plot\":{\"id\":\"7fcde36a-c26a-409c-adbb-c4b80018ef09\",\"subtype\":\"Figure\",\"type\":\"Plot\"}},\"id\":\"f09eff43-0f98-4bd3-8fb5-b7ff3cd292f3\",\"type\":\"Legend\"},{\"attributes\":{\"empty_value\":\"black\",\"renderers\":[{\"id\":\"bf7ccb45-5b64-4267-9a73-1034208b2e69\",\"type\":\"GlyphRenderer\"}]},\"id\":\"65f0c077-d3ee-406d-a247-437f1cb6a8f1\",\"type\":\"PointDrawTool\"},{\"attributes\":{\"dimension\":1,\"plot\":{\"id\":\"7fcde36a-c26a-409c-adbb-c4b80018ef09\",\"subtype\":\"Figure\",\"type\":\"Plot\"},\"ticker\":{\"id\":\"93b1d5fd-6342-4b92-8ac1-e061f4f40e55\",\"type\":\"BasicTicker\"}},\"id\":\"f4755b68-2a1f-4a4a-bf6e-d0ebf694a428\",\"type\":\"Grid\"},{\"attributes\":{\"callback\":null,\"data\":{\"x\":{\"__ndarray__\":\"AAAAAAAAFMCamZmZmZkTwDQzMzMzMxPAzszMzMzMEsBoZmZmZmYSwAIAAAAAABLAnJmZmZmZEcA2MzMzMzMRwNDMzMzMzBDAamZmZmZmEMAEAAAAAAAQwDwzMzMzMw/AcGZmZmZmDsCkmZmZmZkNwNjMzMzMzAzADAAAAAAADMBAMzMzMzMLwHRmZmZmZgrAqJmZmZmZCcDczMzMzMwIwBAAAAAAAAjARDMzMzMzB8B4ZmZmZmYGwKyZmZmZmQXA4MzMzMzMBMAUAAAAAAAEwEgzMzMzMwPAfGZmZmZmAsCwmZmZmZkBwOTMzMzMzADAGAAAAAAAAMCYZmZmZmb+vwDNzMzMzPy/aDMzMzMz+7/QmZmZmZn5vzgAAAAAAPi/oGZmZmZm9r8IzczMzMz0v3AzMzMzM/O/2JmZmZmZ8b9AAAAAAADwv1DNzMzMzOy/IJqZmZmZ6b/wZmZmZmbmv8AzMzMzM+O/kAAAAAAA4L/AmpmZmZnZv2A0MzMzM9O/AJyZmZmZyb+AnpmZmZm5vwAAAAAAABS9gJSZmZmZuT8Al5mZmZnJP+AxMzMzM9M/QJiZmZmZ2T+g/v/////fP4AyMzMzM+M/sGVmZmZm5j/gmJmZmZnpPxDMzMzMzOw/QP//////7z84mZmZmZnxP9AyMzMzM/M/aMzMzMzM9D8AZmZmZmb2P5j///////c/MJmZmZmZ+T/IMjMzMzP7P2DMzMzMzPw/+GVmZmZm/j+Q////////P5TMzMzMzABAYJmZmZmZAUAsZmZmZmYCQPgyMzMzMwNAxP//////A0CQzMzMzMwEQFyZmZmZmQVAKGZmZmZmBkD0MjMzMzMHQMD//////wdAjMzMzMzMCEBYmZmZmZkJQCRmZmZmZgpA8DIzMzMzC0C8//////8LQIjMzMzMzAxAVJmZmZmZDUAgZmZmZmYOQOwyMzMzMw9AuP//////D0BCZmZmZmYQQKjMzMzMzBBADjMzMzMzEUB0mZmZmZkRQNr//////xFAQGZmZmZmEkCmzMzMzMwSQAwzMzMzMxNAcpmZmZmZE0DY//////8TQA==\",\"dtype\":\"float64\",\"shape\":[101]},\"y\":{\"__ndarray__\":\"AAAAAAAAOUDE9ShcjwI4QAzXo3A9CjdA2qNwPQoXNkAtXI/C9Sg1QAUAAAAAQDRAYY/C9ShcM0BDCtejcH0yQKtwPQrXozFAl8L1KFzPMEAIAAAAAAAwQP1RuB6Fay5A9HoUrkfhLED1ehSuR2ErQABSuB6F6ylAFQAAAACAKEA0hetRuB4nQF7hehSuxyVAkhSuR+F6JEDQHoXrUTgjQBgAAAAAACJAargehevRIECNj8L1KFwfQFtcj8L1KB1APNejcD0KG0AyAAAAAAAZQDzXo3A9ChdAW1yPwvUoFUCNj8L1KFwTQNVwPQrXoxFAMAAAAAAAEEBAexSuR+EMQEhSuB6F6wlAeIXrUbgeB0DSFK5H4XoEQFQAAAAAAAJA/Y/C9Shc/z+k16NwPQr7P5zXo3A9Cvc/5Y/C9Shc8z+AAAAAAADwP9hSuB6F6+k/UhWuR+F65D/dkML1KFzfP1zYo3A9Ctc/IAEAAAAA0D9SFq5H4XrEP9zZo3A9Crc/UhiuR+F6pD9SHK5H4XqEPwAAAAAAADk6UgyuR+F6hD9SEK5H4XqkP9zTo3A9Crc/UhKuR+F6xD9A/f/////PP1zVo3A9Ctc/XY3C9Shc3z9SE65H4XrkP5hQuB6F6+k/gP7/////7z+FjsL1KFzzPxzWo3A9Cvc/BNajcD0K+z89jsL1KFz/P2T//////wFA0hOuR+F6BEBohOtRuB4HQChRuB6F6wlAEHoUrkfhDEAg//////8PQC1wPQrXoxFA3Y7C9ShcE0CjW4/C9SgVQHzWo3A9ChdAav//////GEBs1qNwPQobQINbj8L1KB1ArY7C9ShcH0D2tx6F69EgQKD//////yFAVB6F61E4I0ASFK5H4XokQNrgehSuxyVArITrUbgeJ0CJ/////38oQHBRuB6F6ylAYXoUrkdhK0BcehSuR+EsQGFRuB6Fay5AcP//////L0BFwvUoXM8wQFdwPQrXozFA7QnXo3B9MkAJj8L1KFwzQKv/////PzRA0VuPwvUoNUB8o3A9Chc2QKzWo3A9CjdAYvUoXI8COECc//////84QA==\",\"dtype\":\"float64\",\"shape\":[101]}},\"selected\":{\"id\":\"e3917f41-7606-43b5-8db1-0c201db5bc60\",\"type\":\"Selection\"},\"selection_policy\":{\"id\":\"7073ec36-0f6d-4fd4-8847-0d880a1dcafe\",\"type\":\"UnionRenderers\"}},\"id\":\"68f415b4-5c4b-4bf0-9c08-ab7b06307f6b\",\"type\":\"ColumnDataSource\"},{\"attributes\":{},\"id\":\"4a2138ff-719e-43ae-860a-efc51671d943\",\"type\":\"Selection\"},{\"attributes\":{\"line_alpha\":0.1,\"line_color\":\"#1f77b4\",\"line_width\":4,\"x\":{\"field\":\"x\"},\"y\":{\"field\":\"y\"}},\"id\":\"4c17b33e-c159-4b22-9fa3-fe4a1dacebcd\",\"type\":\"Line\"},{\"attributes\":{},\"id\":\"49c2501e-a369-4abf-9eeb-f7eb24f54284\",\"type\":\"UnionRenderers\"},{\"attributes\":{\"source\":{\"id\":\"68f415b4-5c4b-4bf0-9c08-ab7b06307f6b\",\"type\":\"ColumnDataSource\"}},\"id\":\"3eb77bc6-e213-46b9-8ff5-6f9bc040064a\",\"type\":\"CDSView\"},{\"attributes\":{},\"id\":\"d2ea1ebc-5981-4da9-bd08-e83db4204c1e\",\"type\":\"Selection\"},{\"attributes\":{},\"id\":\"7a99efd9-82a4-44fe-ac88-46ee6ae2feeb\",\"type\":\"PanTool\"},{\"attributes\":{},\"id\":\"13700cd0-34fd-4f61-b525-834e805995b6\",\"type\":\"UnionRenderers\"},{\"attributes\":{\"plot\":null,\"text\":\"\"},\"id\":\"e2e72070-788f-4527-8028-16f911e04ead\",\"type\":\"Title\"},{\"attributes\":{\"callback\":null,\"renderers\":\"auto\",\"tooltips\":[[\"f_\",\"$y\"],[\"x\",\"$x\"]]},\"id\":\"331ec35d-d88e-4654-9eea-a945798281da\",\"type\":\"HoverTool\"},{\"attributes\":{\"line_width\":{\"value\":0.5},\"location\":0,\"plot\":null},\"id\":\"28f2db3e-6c1d-4fbb-9263-be58982ac8f0\",\"type\":\"Span\"},{\"attributes\":{},\"id\":\"903eb272-2cc4-4b94-aa5d-39dd0725ef7b\",\"type\":\"WheelZoomTool\"},{\"attributes\":{},\"id\":\"45ae131e-4cbb-4490-8229-e6fcf574e90e\",\"type\":\"ResetTool\"},{\"attributes\":{\"formatter\":{\"id\":\"07fdf880-83de-4ec2-8e17-86d7d2b3f618\",\"type\":\"BasicTickFormatter\"},\"plot\":{\"id\":\"7fcde36a-c26a-409c-adbb-c4b80018ef09\",\"subtype\":\"Figure\",\"type\":\"Plot\"},\"ticker\":{\"id\":\"93b1d5fd-6342-4b92-8ac1-e061f4f40e55\",\"type\":\"BasicTicker\"}},\"id\":\"8b9be140-7753-4b35-8ed6-f094239c1dfb\",\"type\":\"LinearAxis\"},{\"attributes\":{\"line_alpha\":0.6,\"line_width\":4,\"x\":{\"field\":\"x\"},\"y\":{\"field\":\"y\"}},\"id\":\"c0ea7da0-87ab-44c5-bf78-7cbf3e0c1218\",\"type\":\"Line\"},{\"attributes\":{\"line_alpha\":0.1,\"line_width\":4,\"x\":{\"field\":\"x\"},\"y\":{\"field\":\"y\"}},\"id\":\"4ee7d396-fead-4f85-aaa7-a31331d3f5ca\",\"type\":\"Line\"},{\"attributes\":{},\"id\":\"be63c68b-3887-4174-a7ee-41bd54d41c6d\",\"type\":\"BasicTickFormatter\"},{\"attributes\":{},\"id\":\"07fdf880-83de-4ec2-8e17-86d7d2b3f618\",\"type\":\"BasicTickFormatter\"},{\"attributes\":{\"label\":{\"value\":\"f(x) = x**2\"},\"renderers\":[{\"id\":\"d12a0d12-e427-4145-ab5b-f0ed9842bc4a\",\"type\":\"GlyphRenderer\"}]},\"id\":\"b66dd615-7747-452b-b1d9-24edf43aa090\",\"type\":\"LegendItem\"},{\"attributes\":{\"line_alpha\":0.6,\"line_color\":\"steelblue\",\"line_width\":4,\"x\":{\"field\":\"x\"},\"y\":{\"field\":\"y\"}},\"id\":\"83d4d7e4-f697-4d2b-a87a-9e5c06483379\",\"type\":\"Line\"},{\"attributes\":{},\"id\":\"77d15533-36bb-4bbb-a470-249052f083f3\",\"type\":\"LinearScale\"},{\"attributes\":{\"fill_alpha\":{\"value\":0.1},\"fill_color\":{\"value\":\"#1f77b4\"},\"line_alpha\":{\"value\":0.1},\"line_color\":{\"value\":\"#1f77b4\"},\"size\":{\"units\":\"screen\",\"value\":10},\"x\":{\"field\":\"x\"},\"y\":{\"field\":\"y\"}},\"id\":\"4e090aeb-8d61-40a4-9580-6c3e39ee4b32\",\"type\":\"Circle\"},{\"attributes\":{},\"id\":\"7073ec36-0f6d-4fd4-8847-0d880a1dcafe\",\"type\":\"UnionRenderers\"},{\"attributes\":{\"callback\":null,\"data\":{\"x\":{\"__ndarray__\":\"AAAAAAAAFMCamZmZmZkTwDQzMzMzMxPAzszMzMzMEsBoZmZmZmYSwAIAAAAAABLAnJmZmZmZEcA2MzMzMzMRwNDMzMzMzBDAamZmZmZmEMAEAAAAAAAQwDwzMzMzMw/AcGZmZmZmDsCkmZmZmZkNwNjMzMzMzAzADAAAAAAADMBAMzMzMzMLwHRmZmZmZgrAqJmZmZmZCcDczMzMzMwIwBAAAAAAAAjARDMzMzMzB8B4ZmZmZmYGwKyZmZmZmQXA4MzMzMzMBMAUAAAAAAAEwEgzMzMzMwPAfGZmZmZmAsCwmZmZmZkBwOTMzMzMzADAGAAAAAAAAMCYZmZmZmb+vwDNzMzMzPy/aDMzMzMz+7/QmZmZmZn5vzgAAAAAAPi/oGZmZmZm9r8IzczMzMz0v3AzMzMzM/O/2JmZmZmZ8b9AAAAAAADwv1DNzMzMzOy/IJqZmZmZ6b/wZmZmZmbmv8AzMzMzM+O/kAAAAAAA4L/AmpmZmZnZv2A0MzMzM9O/AJyZmZmZyb+AnpmZmZm5vwAAAAAAABS9gJSZmZmZuT8Al5mZmZnJP+AxMzMzM9M/QJiZmZmZ2T+g/v/////fP4AyMzMzM+M/sGVmZmZm5j/gmJmZmZnpPxDMzMzMzOw/QP//////7z84mZmZmZnxP9AyMzMzM/M/aMzMzMzM9D8AZmZmZmb2P5j///////c/MJmZmZmZ+T/IMjMzMzP7P2DMzMzMzPw/+GVmZmZm/j+Q////////P5TMzMzMzABAYJmZmZmZAUAsZmZmZmYCQPgyMzMzMwNAxP//////A0CQzMzMzMwEQFyZmZmZmQVAKGZmZmZmBkD0MjMzMzMHQMD//////wdAjMzMzMzMCEBYmZmZmZkJQCRmZmZmZgpA8DIzMzMzC0C8//////8LQIjMzMzMzAxAVJmZmZmZDUAgZmZmZmYOQOwyMzMzMw9AuP//////D0BCZmZmZmYQQKjMzMzMzBBADjMzMzMzEUB0mZmZmZkRQNr//////xFAQGZmZmZmEkCmzMzMzMwSQAwzMzMzMxNAcpmZmZmZE0DY//////8TQA==\",\"dtype\":\"float64\",\"shape\":[101]},\"y\":{\"__ndarray__\":\"AAAAAAAAJMCamZmZmZkjwDQzMzMzMyPAzszMzMzMIsBoZmZmZmYiwAIAAAAAACLAnJmZmZmZIcA2MzMzMzMhwNDMzMzMzCDAamZmZmZmIMAEAAAAAAAgwDwzMzMzMx/AcGZmZmZmHsCkmZmZmZkdwNjMzMzMzBzADAAAAAAAHMBAMzMzMzMbwHRmZmZmZhrAqJmZmZmZGcDczMzMzMwYwBAAAAAAABjARDMzMzMzF8B4ZmZmZmYWwKyZmZmZmRXA4MzMzMzMFMAUAAAAAAAUwEgzMzMzMxPAfGZmZmZmEsCwmZmZmZkRwOTMzMzMzBDAGAAAAAAAEMCYZmZmZmYOwADNzMzMzAzAaDMzMzMzC8DQmZmZmZkJwDgAAAAAAAjAoGZmZmZmBsAIzczMzMwEwHAzMzMzMwPA2JmZmZmZAcBAAAAAAAAAwFDNzMzMzPy/IJqZmZmZ+b/wZmZmZmb2v8AzMzMzM/O/kAAAAAAA8L/AmpmZmZnpv2A0MzMzM+O/AJyZmZmZ2b+AnpmZmZnJvwAAAAAAACS9gJSZmZmZyT8Al5mZmZnZP+AxMzMzM+M/QJiZmZmZ6T+g/v/////vP4AyMzMzM/M/sGVmZmZm9j/gmJmZmZn5PxDMzMzMzPw/QP///////z84mZmZmZkBQNAyMzMzMwNAaMzMzMzMBEAAZmZmZmYGQJj//////wdAMJmZmZmZCUDIMjMzMzMLQGDMzMzMzAxA+GVmZmZmDkCQ//////8PQJTMzMzMzBBAYJmZmZmZEUAsZmZmZmYSQPgyMzMzMxNAxP//////E0CQzMzMzMwUQFyZmZmZmRVAKGZmZmZmFkD0MjMzMzMXQMD//////xdAjMzMzMzMGEBYmZmZmZkZQCRmZmZmZhpA8DIzMzMzG0C8//////8bQIjMzMzMzBxAVJmZmZmZHUAgZmZmZmYeQOwyMzMzMx9AuP//////H0BCZmZmZmYgQKjMzMzMzCBADjMzMzMzIUB0mZmZmZkhQNr//////yFAQGZmZmZmIkCmzMzMzMwiQAwzMzMzMyNAcpmZmZmZI0DY//////8jQA==\",\"dtype\":\"float64\",\"shape\":[101]}},\"selected\":{\"id\":\"d64e34e9-91e8-4cda-84be-82ad4ea6558e\",\"type\":\"Selection\"},\"selection_policy\":{\"id\":\"5f0b5fab-f37c-4cdf-b4db-2f267a996404\",\"type\":\"UnionRenderers\"}},\"id\":\"f380579d-8c4d-4b63-894c-182a99f14db5\",\"type\":\"ColumnDataSource\"},{\"attributes\":{},\"id\":\"5f0b5fab-f37c-4cdf-b4db-2f267a996404\",\"type\":\"UnionRenderers\"},{\"attributes\":{\"line_alpha\":0.1,\"line_color\":\"steelblue\",\"line_width\":4,\"x\":{\"field\":\"x\"},\"y\":{\"field\":\"y\"}},\"id\":\"499a35ed-d592-4bcd-a87e-999b45b4e27a\",\"type\":\"Line\"},{\"attributes\":{\"line_alpha\":0.1,\"line_color\":\"#1f77b4\",\"line_width\":4,\"x\":{\"field\":\"x\"},\"y\":{\"field\":\"y\"}},\"id\":\"a2da23db-7ea5-4f06-a790-e5dbee5c1d81\",\"type\":\"Line\"},{\"attributes\":{\"data_source\":{\"id\":\"f380579d-8c4d-4b63-894c-182a99f14db5\",\"type\":\"ColumnDataSource\"},\"glyph\":{\"id\":\"83d4d7e4-f697-4d2b-a87a-9e5c06483379\",\"type\":\"Line\"},\"hover_glyph\":null,\"muted_glyph\":{\"id\":\"499a35ed-d592-4bcd-a87e-999b45b4e27a\",\"type\":\"Line\"},\"nonselection_glyph\":{\"id\":\"a2da23db-7ea5-4f06-a790-e5dbee5c1d81\",\"type\":\"Line\"},\"selection_glyph\":null,\"view\":{\"id\":\"89b3574f-4e9d-4268-a9c4-7a337ab83cfc\",\"type\":\"CDSView\"}},\"id\":\"dd8acf3f-2402-4395-ba32-69c8dd989187\",\"type\":\"GlyphRenderer\"},{\"attributes\":{\"axis_label\":\"X\",\"formatter\":{\"id\":\"be63c68b-3887-4174-a7ee-41bd54d41c6d\",\"type\":\"BasicTickFormatter\"},\"plot\":{\"id\":\"7fcde36a-c26a-409c-adbb-c4b80018ef09\",\"subtype\":\"Figure\",\"type\":\"Plot\"},\"ticker\":{\"id\":\"878fe5a7-9913-41bd-bf77-b858cf910e07\",\"type\":\"BasicTicker\"}},\"id\":\"d53a7baa-762e-4e62-ad78-92cb5ad11361\",\"type\":\"LinearAxis\"},{\"attributes\":{},\"id\":\"d64e34e9-91e8-4cda-84be-82ad4ea6558e\",\"type\":\"Selection\"},{\"attributes\":{\"source\":{\"id\":\"f380579d-8c4d-4b63-894c-182a99f14db5\",\"type\":\"ColumnDataSource\"}},\"id\":\"89b3574f-4e9d-4268-a9c4-7a337ab83cfc\",\"type\":\"CDSView\"},{\"attributes\":{\"plot\":{\"id\":\"7fcde36a-c26a-409c-adbb-c4b80018ef09\",\"subtype\":\"Figure\",\"type\":\"Plot\"},\"ticker\":{\"id\":\"878fe5a7-9913-41bd-bf77-b858cf910e07\",\"type\":\"BasicTicker\"}},\"id\":\"977b4086-acc1-4c99-b391-079f1f8d83fa\",\"type\":\"Grid\"},{\"attributes\":{},\"id\":\"e3917f41-7606-43b5-8db1-0c201db5bc60\",\"type\":\"Selection\"},{\"attributes\":{\"line_alpha\":0.6,\"line_color\":\"orange\",\"line_width\":4,\"x\":{\"field\":\"x\"},\"y\":{\"value\":2}},\"id\":\"019cbfc4-85d0-4803-8b4b-3a264880058e\",\"type\":\"Line\"},{\"attributes\":{\"data_source\":{\"id\":\"68f415b4-5c4b-4bf0-9c08-ab7b06307f6b\",\"type\":\"ColumnDataSource\"},\"glyph\":{\"id\":\"c0ea7da0-87ab-44c5-bf78-7cbf3e0c1218\",\"type\":\"Line\"},\"hover_glyph\":null,\"muted_glyph\":{\"id\":\"4ee7d396-fead-4f85-aaa7-a31331d3f5ca\",\"type\":\"Line\"},\"nonselection_glyph\":{\"id\":\"4c17b33e-c159-4b22-9fa3-fe4a1dacebcd\",\"type\":\"Line\"},\"selection_glyph\":null,\"view\":{\"id\":\"3eb77bc6-e213-46b9-8ff5-6f9bc040064a\",\"type\":\"CDSView\"}},\"id\":\"d12a0d12-e427-4145-ab5b-f0ed9842bc4a\",\"type\":\"GlyphRenderer\"},{\"attributes\":{},\"id\":\"878fe5a7-9913-41bd-bf77-b858cf910e07\",\"type\":\"BasicTicker\"},{\"attributes\":{\"label\":{\"value\":\"f'(x) = 2*x\"},\"renderers\":[{\"id\":\"dd8acf3f-2402-4395-ba32-69c8dd989187\",\"type\":\"GlyphRenderer\"}]},\"id\":\"6357a242-9580-4498-a518-5f8ceef9ba18\",\"type\":\"LegendItem\"},{\"attributes\":{\"callback\":null,\"data\":{\"x\":[],\"y\":[]},\"selected\":{\"id\":\"d2ea1ebc-5981-4da9-bd08-e83db4204c1e\",\"type\":\"Selection\"},\"selection_policy\":{\"id\":\"13700cd0-34fd-4f61-b525-834e805995b6\",\"type\":\"UnionRenderers\"}},\"id\":\"f1d9071d-8a5c-471a-883f-25a7516a627a\",\"type\":\"ColumnDataSource\"},{\"attributes\":{\"callback\":null,\"data\":{\"x\":{\"__ndarray__\":\"AAAAAAAAFMCamZmZmZkTwDQzMzMzMxPAzszMzMzMEsBoZmZmZmYSwAIAAAAAABLAnJmZmZmZEcA2MzMzMzMRwNDMzMzMzBDAamZmZmZmEMAEAAAAAAAQwDwzMzMzMw/AcGZmZmZmDsCkmZmZmZkNwNjMzMzMzAzADAAAAAAADMBAMzMzMzMLwHRmZmZmZgrAqJmZmZmZCcDczMzMzMwIwBAAAAAAAAjARDMzMzMzB8B4ZmZmZmYGwKyZmZmZmQXA4MzMzMzMBMAUAAAAAAAEwEgzMzMzMwPAfGZmZmZmAsCwmZmZmZkBwOTMzMzMzADAGAAAAAAAAMCYZmZmZmb+vwDNzMzMzPy/aDMzMzMz+7/QmZmZmZn5vzgAAAAAAPi/oGZmZmZm9r8IzczMzMz0v3AzMzMzM/O/2JmZmZmZ8b9AAAAAAADwv1DNzMzMzOy/IJqZmZmZ6b/wZmZmZmbmv8AzMzMzM+O/kAAAAAAA4L/AmpmZmZnZv2A0MzMzM9O/AJyZmZmZyb+AnpmZmZm5vwAAAAAAABS9gJSZmZmZuT8Al5mZmZnJP+AxMzMzM9M/QJiZmZmZ2T+g/v/////fP4AyMzMzM+M/sGVmZmZm5j/gmJmZmZnpPxDMzMzMzOw/QP//////7z84mZmZmZnxP9AyMzMzM/M/aMzMzMzM9D8AZmZmZmb2P5j///////c/MJmZmZmZ+T/IMjMzMzP7P2DMzMzMzPw/+GVmZmZm/j+Q////////P5TMzMzMzABAYJmZmZmZAUAsZmZmZmYCQPgyMzMzMwNAxP//////A0CQzMzMzMwEQFyZmZmZmQVAKGZmZmZmBkD0MjMzMzMHQMD//////wdAjMzMzMzMCEBYmZmZmZkJQCRmZmZmZgpA8DIzMzMzC0C8//////8LQIjMzMzMzAxAVJmZmZmZDUAgZmZmZmYOQOwyMzMzMw9AuP//////D0BCZmZmZmYQQKjMzMzMzBBADjMzMzMzEUB0mZmZmZkRQNr//////xFAQGZmZmZmEkCmzMzMzMwSQAwzMzMzMxNAcpmZmZmZE0DY//////8TQA==\",\"dtype\":\"float64\",\"shape\":[101]}},\"selected\":{\"id\":\"4a2138ff-719e-43ae-860a-efc51671d943\",\"type\":\"Selection\"},\"selection_policy\":{\"id\":\"49c2501e-a369-4abf-9eeb-f7eb24f54284\",\"type\":\"UnionRenderers\"}},\"id\":\"6cb9554a-cd5f-4f13-a9f9-5f4492ea36f6\",\"type\":\"ColumnDataSource\"},{\"attributes\":{\"line_alpha\":0.1,\"line_color\":\"#1f77b4\",\"line_width\":4,\"x\":{\"field\":\"x\"},\"y\":{\"value\":2}},\"id\":\"e950c736-b6fb-4822-9005-2b957ff991a4\",\"type\":\"Line\"},{\"attributes\":{\"line_alpha\":0.1,\"line_color\":\"orange\",\"line_width\":4,\"x\":{\"field\":\"x\"},\"y\":{\"value\":2}},\"id\":\"b4ef3103-2797-49a1-8100-d16e446525a4\",\"type\":\"Line\"},{\"attributes\":{\"data_source\":{\"id\":\"6cb9554a-cd5f-4f13-a9f9-5f4492ea36f6\",\"type\":\"ColumnDataSource\"},\"glyph\":{\"id\":\"019cbfc4-85d0-4803-8b4b-3a264880058e\",\"type\":\"Line\"},\"hover_glyph\":null,\"muted_glyph\":{\"id\":\"b4ef3103-2797-49a1-8100-d16e446525a4\",\"type\":\"Line\"},\"nonselection_glyph\":{\"id\":\"e950c736-b6fb-4822-9005-2b957ff991a4\",\"type\":\"Line\"},\"selection_glyph\":null,\"view\":{\"id\":\"387e56aa-6c17-41c0-8301-2f4e66e31985\",\"type\":\"CDSView\"}},\"id\":\"d1545d5a-e20c-4d00-ad04-87521ac353a2\",\"type\":\"GlyphRenderer\"},{\"attributes\":{},\"id\":\"0a921588-75a5-4900-a21e-31217bb339c3\",\"type\":\"LinearScale\"},{\"attributes\":{\"source\":{\"id\":\"6cb9554a-cd5f-4f13-a9f9-5f4492ea36f6\",\"type\":\"ColumnDataSource\"}},\"id\":\"387e56aa-6c17-41c0-8301-2f4e66e31985\",\"type\":\"CDSView\"},{\"attributes\":{\"active_drag\":\"auto\",\"active_inspect\":\"auto\",\"active_multi\":null,\"active_scroll\":\"auto\",\"active_tap\":{\"id\":\"65f0c077-d3ee-406d-a247-437f1cb6a8f1\",\"type\":\"PointDrawTool\"},\"tools\":[{\"id\":\"7a99efd9-82a4-44fe-ac88-46ee6ae2feeb\",\"type\":\"PanTool\"},{\"id\":\"331ec35d-d88e-4654-9eea-a945798281da\",\"type\":\"HoverTool\"},{\"id\":\"903eb272-2cc4-4b94-aa5d-39dd0725ef7b\",\"type\":\"WheelZoomTool\"},{\"id\":\"45ae131e-4cbb-4490-8229-e6fcf574e90e\",\"type\":\"ResetTool\"},{\"id\":\"65f0c077-d3ee-406d-a247-437f1cb6a8f1\",\"type\":\"PointDrawTool\"}]},\"id\":\"32b4335b-b8cc-47d7-85de-25cb3c3877c8\",\"type\":\"Toolbar\"},{\"attributes\":{\"dimension\":\"height\",\"line_width\":{\"value\":0.5},\"location\":0,\"plot\":null},\"id\":\"2b880d78-331d-42b5-8f43-a4052a650392\",\"type\":\"Span\"},{\"attributes\":{\"label\":{\"value\":\"f''(x) = 2\"},\"renderers\":[{\"id\":\"d1545d5a-e20c-4d00-ad04-87521ac353a2\",\"type\":\"GlyphRenderer\"}]},\"id\":\"a7561a1e-b08c-42d1-a11c-5041aa99f3f2\",\"type\":\"LegendItem\"},{\"attributes\":{\"fill_color\":{\"value\":\"black\"},\"size\":{\"units\":\"screen\",\"value\":10},\"x\":{\"field\":\"x\"},\"y\":{\"field\":\"y\"}},\"id\":\"8c7a0d24-41fa-418a-867f-c6fc3c9970b6\",\"type\":\"Circle\"},{\"attributes\":{\"callback\":null},\"id\":\"9625d626-471c-4ac3-8fc9-16057aafe5ba\",\"type\":\"DataRange1d\"},{\"attributes\":{\"callback\":null},\"id\":\"faac693f-fcb8-44a5-8682-bd0c84ed5afb\",\"type\":\"DataRange1d\"}],\"root_ids\":[\"7fcde36a-c26a-409c-adbb-c4b80018ef09\"]},\"title\":\"Bokeh Application\",\"version\":\"0.13.0\"}};\n",
       "  var render_items = [{\"docid\":\"195840c4-9478-4a93-b59d-b11d42d9885a\",\"roots\":{\"7fcde36a-c26a-409c-adbb-c4b80018ef09\":\"2edaa32a-5bb6-4a35-89fd-e51451d72b22\"}}];\n",
       "  root.Bokeh.embed.embed_items_notebook(docs_json, render_items);\n",
       "\n",
       "  }\n",
       "  if (root.Bokeh !== undefined) {\n",
       "    embed_document(root);\n",
       "  } else {\n",
       "    var attempts = 0;\n",
       "    var timer = setInterval(function(root) {\n",
       "      if (root.Bokeh !== undefined) {\n",
       "        embed_document(root);\n",
       "        clearInterval(timer);\n",
       "      }\n",
       "      attempts++;\n",
       "      if (attempts > 100) {\n",
       "        console.log(\"Bokeh: ERROR: Unable to run BokehJS code because BokehJS library is missing\")\n",
       "        clearInterval(timer);\n",
       "      }\n",
       "    }, 10, root)\n",
       "  }\n",
       "})(window);"
      ],
      "application/vnd.bokehjs_exec.v0+json": ""
     },
     "metadata": {
      "application/vnd.bokehjs_exec.v0+json": {
       "id": "7fcde36a-c26a-409c-adbb-c4b80018ef09"
      }
     },
     "output_type": "display_data"
    }
   ],
   "source": [
    "graph(x**2,x)"
   ]
  },
  {
   "cell_type": "markdown",
   "metadata": {},
   "source": [
    "### Inflection Points\n",
    "\n",
    "$$ f'(x^*) = 0 $$\n",
    "$$ f''(x^*) = 0 $$"
   ]
  },
  {
   "cell_type": "code",
   "execution_count": 31,
   "metadata": {},
   "outputs": [
    {
     "data": {
      "text/html": [
       "\n",
       "\n",
       "\n",
       "\n",
       "\n",
       "\n",
       "  <div class=\"bk-root\" id=\"95bc7212-15dc-4621-b062-30a86ba03271\"></div>\n"
      ]
     },
     "metadata": {},
     "output_type": "display_data"
    },
    {
     "data": {
      "application/javascript": [
       "(function(root) {\n",
       "  function embed_document(root) {\n",
       "    \n",
       "  var docs_json = {\"85c0e13e-0531-4f6d-abdd-d1ff22647731\":{\"roots\":{\"references\":[{\"attributes\":{},\"id\":\"4a29b07f-3137-48d2-a208-b250d745705b\",\"type\":\"UnionRenderers\"},{\"attributes\":{\"source\":{\"id\":\"dd073fbb-6c91-40e3-b63a-e54bacfff563\",\"type\":\"ColumnDataSource\"}},\"id\":\"e68cd92e-46e4-4c14-bc76-96cfa33736f7\",\"type\":\"CDSView\"},{\"attributes\":{},\"id\":\"41c5f39f-2f5e-4997-aba0-87dbfe4fd042\",\"type\":\"WheelZoomTool\"},{\"attributes\":{},\"id\":\"f245fa7b-ad83-4f1b-9943-a4aad15e7b06\",\"type\":\"ResetTool\"},{\"attributes\":{\"data_source\":{\"id\":\"dd073fbb-6c91-40e3-b63a-e54bacfff563\",\"type\":\"ColumnDataSource\"},\"glyph\":{\"id\":\"c29fcd43-ca26-4be8-b0e3-b3192b04456e\",\"type\":\"Line\"},\"hover_glyph\":null,\"muted_glyph\":{\"id\":\"6b63c234-9300-4ad9-8717-3dc91c8dd728\",\"type\":\"Line\"},\"nonselection_glyph\":{\"id\":\"42f9e993-9948-4d73-8c31-dc03ce251c0a\",\"type\":\"Line\"},\"selection_glyph\":null,\"view\":{\"id\":\"e68cd92e-46e4-4c14-bc76-96cfa33736f7\",\"type\":\"CDSView\"}},\"id\":\"babf9441-c15c-4c31-ac24-2e19c93e8b23\",\"type\":\"GlyphRenderer\"},{\"attributes\":{\"line_alpha\":0.6,\"line_color\":\"steelblue\",\"line_width\":4,\"x\":{\"field\":\"x\"},\"y\":{\"field\":\"y\"}},\"id\":\"d0ce48d7-8419-42ce-95a0-09c39e26b353\",\"type\":\"Line\"},{\"attributes\":{\"plot\":null,\"text\":\"\"},\"id\":\"6ef28404-3e8d-4b0c-9975-eaef2baabb12\",\"type\":\"Title\"},{\"attributes\":{},\"id\":\"ffd52aa5-a276-40e8-88b3-f07f8daef5f8\",\"type\":\"BasicTickFormatter\"},{\"attributes\":{},\"id\":\"09e86438-1f86-47c4-b144-661726558da1\",\"type\":\"BasicTickFormatter\"},{\"attributes\":{\"click_policy\":\"mute\",\"items\":[{\"id\":\"a77c6664-cf60-4d42-9a77-58597407c4f3\",\"type\":\"LegendItem\"},{\"id\":\"d279f32e-fdca-4bf7-af1c-c12245849a7d\",\"type\":\"LegendItem\"},{\"id\":\"3b3b84a4-6bb3-48b7-8d0b-5c56ca9db2d8\",\"type\":\"LegendItem\"}],\"location\":\"top_left\",\"plot\":{\"id\":\"2f421ac0-1dd1-45a6-bfe4-e07def52891c\",\"subtype\":\"Figure\",\"type\":\"Plot\"}},\"id\":\"694d18a5-308b-460e-9d07-37ad7d3f60d0\",\"type\":\"Legend\"},{\"attributes\":{\"line_width\":{\"value\":0.5},\"location\":0,\"plot\":null},\"id\":\"b84a6719-3ec5-487e-9e97-c2bb33e2ec89\",\"type\":\"Span\"},{\"attributes\":{\"callback\":null,\"data\":{\"x\":{\"__ndarray__\":\"AAAAAAAAFMCamZmZmZkTwDQzMzMzMxPAzszMzMzMEsBoZmZmZmYSwAIAAAAAABLAnJmZmZmZEcA2MzMzMzMRwNDMzMzMzBDAamZmZmZmEMAEAAAAAAAQwDwzMzMzMw/AcGZmZmZmDsCkmZmZmZkNwNjMzMzMzAzADAAAAAAADMBAMzMzMzMLwHRmZmZmZgrAqJmZmZmZCcDczMzMzMwIwBAAAAAAAAjARDMzMzMzB8B4ZmZmZmYGwKyZmZmZmQXA4MzMzMzMBMAUAAAAAAAEwEgzMzMzMwPAfGZmZmZmAsCwmZmZmZkBwOTMzMzMzADAGAAAAAAAAMCYZmZmZmb+vwDNzMzMzPy/aDMzMzMz+7/QmZmZmZn5vzgAAAAAAPi/oGZmZmZm9r8IzczMzMz0v3AzMzMzM/O/2JmZmZmZ8b9AAAAAAADwv1DNzMzMzOy/IJqZmZmZ6b/wZmZmZmbmv8AzMzMzM+O/kAAAAAAA4L/AmpmZmZnZv2A0MzMzM9O/AJyZmZmZyb+AnpmZmZm5vwAAAAAAABS9gJSZmZmZuT8Al5mZmZnJP+AxMzMzM9M/QJiZmZmZ2T+g/v/////fP4AyMzMzM+M/sGVmZmZm5j/gmJmZmZnpPxDMzMzMzOw/QP//////7z84mZmZmZnxP9AyMzMzM/M/aMzMzMzM9D8AZmZmZmb2P5j///////c/MJmZmZmZ+T/IMjMzMzP7P2DMzMzMzPw/+GVmZmZm/j+Q////////P5TMzMzMzABAYJmZmZmZAUAsZmZmZmYCQPgyMzMzMwNAxP//////A0CQzMzMzMwEQFyZmZmZmQVAKGZmZmZmBkD0MjMzMzMHQMD//////wdAjMzMzMzMCEBYmZmZmZkJQCRmZmZmZgpA8DIzMzMzC0C8//////8LQIjMzMzMzAxAVJmZmZmZDUAgZmZmZmYOQOwyMzMzMw9AuP//////D0BCZmZmZmYQQKjMzMzMzBBADjMzMzMzEUB0mZmZmZkRQNr//////xFAQGZmZmZmEkCmzMzMzMwSQAwzMzMzMxNAcpmZmZmZE0DY//////8TQA==\",\"dtype\":\"float64\",\"shape\":[101]},\"y\":{\"__ndarray__\":\"AAAAAADAUkBTuB6F6wFSQEnhehSuR1FA5HoUrkeRUEBECtejcL1PQAgAAAAAYE5AEtejcD0KTUBkj8L1KLxLQAApXI/CdUpA4qNwPQo3SUAMAAAAAABIQH49Ctej0EZAN1yPwvWoRUA4XI/C9YhEQIA9CtejcENAEAAAAABgQkDno3A9CldBQAYpXI/CVUBA2x6F61G4PkA4rkfhetQ8QCQAAAAAADtAnxSuR+E6OUCq61G4HoU3QESF61G43jVAbeF6FK5HNEAmAAAAAMAyQG3hehSuRzFAiArXo3C9L0BU16NwPQotQEApXI/CdSpASAAAAAAAKEBwXI/C9aglQLY9CtejcCNAGqRwPQpXIUA7H4XrUbgeQH4AAAAAABtA/utRuB6FF0C74XoUrkcUQLXhehSuRxFA2NejcD0KDUDAAAAAAAAIQCI+CtejcANA+x+F61G4/j+m7FG4HoX3P0XiehSuR/E/sAEAAAAA6D97IYXrUbjeP2XjehSuR9E/eySF61G4vj97KoXrUbiePwAAAAAAwFI6exKF61G4nj97GIXrUbi+P+XeehSuR9E/exuF61G43j/w/f/////nPwXgehSuR/E/BupRuB6F9z/7HIXrUbj+P3I8CtejcANA4P7/////B0DI1aNwPQoNQJXgehSuRxFAg+B6FK5HFECu6lG4HoUXQBb//////xpAux2F61G4HkBOo3A9ClchQN48CtejcCNAjFuPwvWoJUBY//////8nQEQoXI/CdSpATNajcD0KLUB0CdejcL0vQN3gehSuRzFAkP////+/MkDR4HoUrkc0QKKE61G43jVAAutRuB6FN0DxE65H4To5QHD//////zpAfq1H4XrUPEAbHoXrUbg+QKQoXI/CVUBAgaNwPQpXQUCn/////19CQBQ9CtejcENAyVuPwvWIREDFW4/C9ahFQAk9Ctej0EZAlP//////R0Boo3A9CjdJQIIoXI/CdUpA5I7C9Si8S0CO1qNwPQpNQID/////X05AugnXo3C9T0CdehSuR5FQQAHhehSuR1FACrgehesBUkC1/////79SQA==\",\"dtype\":\"float64\",\"shape\":[101]}},\"selected\":{\"id\":\"4d8f6828-0cee-40c7-a588-d854d47ab0c3\",\"type\":\"Selection\"},\"selection_policy\":{\"id\":\"9f0e8f74-4955-40ec-a597-6b6f25d94cb0\",\"type\":\"UnionRenderers\"}},\"id\":\"961aaba9-e113-4e0f-ad15-d8c7410cf48e\",\"type\":\"ColumnDataSource\"},{\"attributes\":{},\"id\":\"300597cf-a504-48f0-b035-df0c7a17427a\",\"type\":\"UnionRenderers\"},{\"attributes\":{\"line_alpha\":0.6,\"line_width\":4,\"x\":{\"field\":\"x\"},\"y\":{\"field\":\"y\"}},\"id\":\"c29fcd43-ca26-4be8-b0e3-b3192b04456e\",\"type\":\"Line\"},{\"attributes\":{\"dimension\":\"height\",\"line_width\":{\"value\":0.5},\"location\":0,\"plot\":null},\"id\":\"7a5034d8-a6fc-4e50-b86d-982f7df7317b\",\"type\":\"Span\"},{\"attributes\":{\"data_source\":{\"id\":\"961aaba9-e113-4e0f-ad15-d8c7410cf48e\",\"type\":\"ColumnDataSource\"},\"glyph\":{\"id\":\"d0ce48d7-8419-42ce-95a0-09c39e26b353\",\"type\":\"Line\"},\"hover_glyph\":null,\"muted_glyph\":{\"id\":\"d90428e4-5891-4f6f-b543-240887762b1d\",\"type\":\"Line\"},\"nonselection_glyph\":{\"id\":\"991ae2f7-3d23-499a-83fa-6d0bb7ce3684\",\"type\":\"Line\"},\"selection_glyph\":null,\"view\":{\"id\":\"8413423d-9ff9-4599-b55a-bb0dd8ff423b\",\"type\":\"CDSView\"}},\"id\":\"817d4f6a-f297-4d9a-b603-9b5ec5a035d7\",\"type\":\"GlyphRenderer\"},{\"attributes\":{\"line_alpha\":0.1,\"line_color\":\"#1f77b4\",\"line_width\":4,\"x\":{\"field\":\"x\"},\"y\":{\"field\":\"y\"}},\"id\":\"991ae2f7-3d23-499a-83fa-6d0bb7ce3684\",\"type\":\"Line\"},{\"attributes\":{\"line_alpha\":0.1,\"line_color\":\"steelblue\",\"line_width\":4,\"x\":{\"field\":\"x\"},\"y\":{\"field\":\"y\"}},\"id\":\"d90428e4-5891-4f6f-b543-240887762b1d\",\"type\":\"Line\"},{\"attributes\":{\"source\":{\"id\":\"961aaba9-e113-4e0f-ad15-d8c7410cf48e\",\"type\":\"ColumnDataSource\"}},\"id\":\"8413423d-9ff9-4599-b55a-bb0dd8ff423b\",\"type\":\"CDSView\"},{\"attributes\":{},\"id\":\"1b80b2f6-2387-431d-8a62-281cb4759d72\",\"type\":\"Selection\"},{\"attributes\":{\"line_alpha\":0.6,\"line_color\":\"orange\",\"line_width\":4,\"x\":{\"field\":\"x\"},\"y\":{\"field\":\"y\"}},\"id\":\"0cfe4aca-a33b-41be-8b55-a360b03ee671\",\"type\":\"Line\"},{\"attributes\":{\"label\":{\"value\":\"f'(x) = 3*x**2\"},\"renderers\":[{\"id\":\"817d4f6a-f297-4d9a-b603-9b5ec5a035d7\",\"type\":\"GlyphRenderer\"}]},\"id\":\"d279f32e-fdca-4bf7-af1c-c12245849a7d\",\"type\":\"LegendItem\"},{\"attributes\":{\"callback\":null,\"renderers\":\"auto\",\"tooltips\":[[\"f_\",\"$y\"],[\"x\",\"$x\"]]},\"id\":\"ab651fd0-84fc-4713-ba2a-9588a58a4f85\",\"type\":\"HoverTool\"},{\"attributes\":{},\"id\":\"9f0e8f74-4955-40ec-a597-6b6f25d94cb0\",\"type\":\"UnionRenderers\"},{\"attributes\":{\"callback\":null,\"data\":{\"x\":{\"__ndarray__\":\"AAAAAAAAFMCamZmZmZkTwDQzMzMzMxPAzszMzMzMEsBoZmZmZmYSwAIAAAAAABLAnJmZmZmZEcA2MzMzMzMRwNDMzMzMzBDAamZmZmZmEMAEAAAAAAAQwDwzMzMzMw/AcGZmZmZmDsCkmZmZmZkNwNjMzMzMzAzADAAAAAAADMBAMzMzMzMLwHRmZmZmZgrAqJmZmZmZCcDczMzMzMwIwBAAAAAAAAjARDMzMzMzB8B4ZmZmZmYGwKyZmZmZmQXA4MzMzMzMBMAUAAAAAAAEwEgzMzMzMwPAfGZmZmZmAsCwmZmZmZkBwOTMzMzMzADAGAAAAAAAAMCYZmZmZmb+vwDNzMzMzPy/aDMzMzMz+7/QmZmZmZn5vzgAAAAAAPi/oGZmZmZm9r8IzczMzMz0v3AzMzMzM/O/2JmZmZmZ8b9AAAAAAADwv1DNzMzMzOy/IJqZmZmZ6b/wZmZmZmbmv8AzMzMzM+O/kAAAAAAA4L/AmpmZmZnZv2A0MzMzM9O/AJyZmZmZyb+AnpmZmZm5vwAAAAAAABS9gJSZmZmZuT8Al5mZmZnJP+AxMzMzM9M/QJiZmZmZ2T+g/v/////fP4AyMzMzM+M/sGVmZmZm5j/gmJmZmZnpPxDMzMzMzOw/QP//////7z84mZmZmZnxP9AyMzMzM/M/aMzMzMzM9D8AZmZmZmb2P5j///////c/MJmZmZmZ+T/IMjMzMzP7P2DMzMzMzPw/+GVmZmZm/j+Q////////P5TMzMzMzABAYJmZmZmZAUAsZmZmZmYCQPgyMzMzMwNAxP//////A0CQzMzMzMwEQFyZmZmZmQVAKGZmZmZmBkD0MjMzMzMHQMD//////wdAjMzMzMzMCEBYmZmZmZkJQCRmZmZmZgpA8DIzMzMzC0C8//////8LQIjMzMzMzAxAVJmZmZmZDUAgZmZmZmYOQOwyMzMzMw9AuP//////D0BCZmZmZmYQQKjMzMzMzBBADjMzMzMzEUB0mZmZmZkRQNr//////xFAQGZmZmZmEkCmzMzMzMwSQAwzMzMzMxNAcpmZmZmZE0DY//////8TQA==\",\"dtype\":\"float64\",\"shape\":[101]},\"y\":{\"__ndarray__\":\"AAAAAAAAPsBnZmZmZmY9wM7MzMzMzDzANTMzMzMzPMCcmZmZmZk7wAMAAAAAADvAamZmZmZmOsDRzMzMzMw5wDgzMzMzMznAn5mZmZmZOMAGAAAAAAA4wG1mZmZmZjfA1MzMzMzMNsA7MzMzMzM2wKKZmZmZmTXACQAAAAAANcBwZmZmZmY0wNfMzMzMzDPAPjMzMzMzM8ClmZmZmZkywAwAAAAAADLAc2ZmZmZmMcDazMzMzMwwwEEzMzMzMzDAUDMzMzMzL8AeAAAAAAAuwOzMzMzMzCzAupmZmZmZK8CIZmZmZmYqwFYzMzMzMynAJAAAAAAAKMDyzMzMzMwmwMCZmZmZmSXAjmZmZmZmJMBcMzMzMzMjwCoAAAAAACLA+MzMzMzMIMCMMzMzMzMfwCjNzMzMzBzAxGZmZmZmGsBgAAAAAAAYwPyZmZmZmRXAmDMzMzMzE8A0zczMzMwQwKDNzMzMzAzA2AAAAAAACMAQNDMzMzMDwJDOzMzMzPy/ADUzMzMz87/gNjMzMzPjvwAAAAAAAD69YC8zMzMz4z9AMTMzMzPzP9DKzMzMzPw/MDIzMzMzA0D4/v////8HQMDLzMzMzAxARMzMzMzMEECoMjMzMzMTQAyZmZmZmRVAcP//////F0DUZWZmZmYaQDjMzMzMzBxAnDIzMzMzH0CAzMzMzMwgQLL//////yFA5DIzMzMzI0AWZmZmZmYkQEiZmZmZmSVAeszMzMzMJkCs//////8nQN4yMzMzMylAEGZmZmZmKkBCmZmZmZkrQHTMzMzMzCxApv//////LUDYMjMzMzMvQAUzMzMzMzBAnszMzMzMMEA3ZmZmZmYxQND//////zFAaZmZmZmZMkACMzMzMzMzQJvMzMzMzDNANGZmZmZmNEDN//////80QGaZmZmZmTVA/zIzMzMzNkCYzMzMzMw2QDFmZmZmZjdAyv//////N0BjmZmZmZk4QPwyMzMzMzlAlczMzMzMOUAuZmZmZmY6QMf//////zpAYJmZmZmZO0D5MjMzMzM8QJLMzMzMzDxAK2ZmZmZmPUDE//////89QA==\",\"dtype\":\"float64\",\"shape\":[101]}},\"selected\":{\"id\":\"c64b9e9d-018a-47cd-876c-171259b137e3\",\"type\":\"Selection\"},\"selection_policy\":{\"id\":\"b9799aee-d5cf-452e-af0d-c5070ac56ea1\",\"type\":\"UnionRenderers\"}},\"id\":\"e1538a3c-dc23-4178-9d05-f653bbf0afea\",\"type\":\"ColumnDataSource\"},{\"attributes\":{},\"id\":\"bf9685c7-0c43-4513-8974-1c4822f0fc9f\",\"type\":\"LinearScale\"},{\"attributes\":{\"below\":[{\"id\":\"bebc6df0-1c0e-49ab-8042-e6a9aa32213a\",\"type\":\"LinearAxis\"}],\"left\":[{\"id\":\"a0c8411f-0207-455c-bf35-95f79051f85d\",\"type\":\"LinearAxis\"}],\"plot_height\":400,\"plot_width\":700,\"renderers\":[{\"id\":\"bebc6df0-1c0e-49ab-8042-e6a9aa32213a\",\"type\":\"LinearAxis\"},{\"id\":\"2c352924-d4c0-4add-9a85-fbec1d3f0f4a\",\"type\":\"Grid\"},{\"id\":\"a0c8411f-0207-455c-bf35-95f79051f85d\",\"type\":\"LinearAxis\"},{\"id\":\"949a080f-5f58-4993-80c7-4cb01044cd62\",\"type\":\"Grid\"},{\"id\":\"b84a6719-3ec5-487e-9e97-c2bb33e2ec89\",\"type\":\"Span\"},{\"id\":\"7a5034d8-a6fc-4e50-b86d-982f7df7317b\",\"type\":\"Span\"},{\"id\":\"694d18a5-308b-460e-9d07-37ad7d3f60d0\",\"type\":\"Legend\"},{\"id\":\"babf9441-c15c-4c31-ac24-2e19c93e8b23\",\"type\":\"GlyphRenderer\"},{\"id\":\"817d4f6a-f297-4d9a-b603-9b5ec5a035d7\",\"type\":\"GlyphRenderer\"},{\"id\":\"2f28cd36-5e59-49b2-8404-26b37f9d3385\",\"type\":\"GlyphRenderer\"},{\"id\":\"8067c598-269d-4b83-a592-9e14f4fec395\",\"type\":\"GlyphRenderer\"}],\"title\":{\"id\":\"6ef28404-3e8d-4b0c-9975-eaef2baabb12\",\"type\":\"Title\"},\"toolbar\":{\"id\":\"d8f26ef2-1bf7-4fa7-be9e-d3734f83ae66\",\"type\":\"Toolbar\"},\"toolbar_location\":\"above\",\"x_range\":{\"id\":\"67ed6831-eea8-413c-9f3f-57404405c7ee\",\"type\":\"DataRange1d\"},\"x_scale\":{\"id\":\"d5ca4961-db65-413a-a811-ff7a738a794c\",\"type\":\"LinearScale\"},\"y_range\":{\"id\":\"9dd2118a-524e-4f34-9882-0a6b7da9c73a\",\"type\":\"DataRange1d\"},\"y_scale\":{\"id\":\"bf9685c7-0c43-4513-8974-1c4822f0fc9f\",\"type\":\"LinearScale\"}},\"id\":\"2f421ac0-1dd1-45a6-bfe4-e07def52891c\",\"subtype\":\"Figure\",\"type\":\"Plot\"},{\"attributes\":{\"line_alpha\":0.1,\"line_color\":\"orange\",\"line_width\":4,\"x\":{\"field\":\"x\"},\"y\":{\"field\":\"y\"}},\"id\":\"07d0e2f8-ae0d-4ff4-b451-04af9870614d\",\"type\":\"Line\"},{\"attributes\":{\"line_alpha\":0.1,\"line_color\":\"#1f77b4\",\"line_width\":4,\"x\":{\"field\":\"x\"},\"y\":{\"field\":\"y\"}},\"id\":\"274168f3-1e91-474c-adba-d29feff5cf6a\",\"type\":\"Line\"},{\"attributes\":{},\"id\":\"d5ca4961-db65-413a-a811-ff7a738a794c\",\"type\":\"LinearScale\"},{\"attributes\":{\"data_source\":{\"id\":\"e1538a3c-dc23-4178-9d05-f653bbf0afea\",\"type\":\"ColumnDataSource\"},\"glyph\":{\"id\":\"0cfe4aca-a33b-41be-8b55-a360b03ee671\",\"type\":\"Line\"},\"hover_glyph\":null,\"muted_glyph\":{\"id\":\"07d0e2f8-ae0d-4ff4-b451-04af9870614d\",\"type\":\"Line\"},\"nonselection_glyph\":{\"id\":\"274168f3-1e91-474c-adba-d29feff5cf6a\",\"type\":\"Line\"},\"selection_glyph\":null,\"view\":{\"id\":\"3bcb4355-6348-4c2c-b7b6-653f038922aa\",\"type\":\"CDSView\"}},\"id\":\"2f28cd36-5e59-49b2-8404-26b37f9d3385\",\"type\":\"GlyphRenderer\"},{\"attributes\":{\"source\":{\"id\":\"e1538a3c-dc23-4178-9d05-f653bbf0afea\",\"type\":\"ColumnDataSource\"}},\"id\":\"3bcb4355-6348-4c2c-b7b6-653f038922aa\",\"type\":\"CDSView\"},{\"attributes\":{\"callback\":null},\"id\":\"67ed6831-eea8-413c-9f3f-57404405c7ee\",\"type\":\"DataRange1d\"},{\"attributes\":{},\"id\":\"60349d9d-a367-4e94-9dd0-5ba040d7ac8a\",\"type\":\"BasicTicker\"},{\"attributes\":{\"dimension\":1,\"plot\":{\"id\":\"2f421ac0-1dd1-45a6-bfe4-e07def52891c\",\"subtype\":\"Figure\",\"type\":\"Plot\"},\"ticker\":{\"id\":\"63a87728-848c-4744-b350-c0fbd24861d0\",\"type\":\"BasicTicker\"}},\"id\":\"949a080f-5f58-4993-80c7-4cb01044cd62\",\"type\":\"Grid\"},{\"attributes\":{\"plot\":{\"id\":\"2f421ac0-1dd1-45a6-bfe4-e07def52891c\",\"subtype\":\"Figure\",\"type\":\"Plot\"},\"ticker\":{\"id\":\"60349d9d-a367-4e94-9dd0-5ba040d7ac8a\",\"type\":\"BasicTicker\"}},\"id\":\"2c352924-d4c0-4add-9a85-fbec1d3f0f4a\",\"type\":\"Grid\"},{\"attributes\":{},\"id\":\"4d8f6828-0cee-40c7-a588-d854d47ab0c3\",\"type\":\"Selection\"},{\"attributes\":{},\"id\":\"b9799aee-d5cf-452e-af0d-c5070ac56ea1\",\"type\":\"UnionRenderers\"},{\"attributes\":{\"axis_label\":\"X\",\"formatter\":{\"id\":\"ffd52aa5-a276-40e8-88b3-f07f8daef5f8\",\"type\":\"BasicTickFormatter\"},\"plot\":{\"id\":\"2f421ac0-1dd1-45a6-bfe4-e07def52891c\",\"subtype\":\"Figure\",\"type\":\"Plot\"},\"ticker\":{\"id\":\"60349d9d-a367-4e94-9dd0-5ba040d7ac8a\",\"type\":\"BasicTicker\"}},\"id\":\"bebc6df0-1c0e-49ab-8042-e6a9aa32213a\",\"type\":\"LinearAxis\"},{\"attributes\":{\"label\":{\"value\":\"f''(x) = 6*x\"},\"renderers\":[{\"id\":\"2f28cd36-5e59-49b2-8404-26b37f9d3385\",\"type\":\"GlyphRenderer\"}]},\"id\":\"3b3b84a4-6bb3-48b7-8d0b-5c56ca9db2d8\",\"type\":\"LegendItem\"},{\"attributes\":{\"callback\":null,\"data\":{\"x\":[],\"y\":[]},\"selected\":{\"id\":\"6a8ca581-3de8-4d2b-9e07-a0fcb51f72ac\",\"type\":\"Selection\"},\"selection_policy\":{\"id\":\"4a29b07f-3137-48d2-a208-b250d745705b\",\"type\":\"UnionRenderers\"}},\"id\":\"d0a9f3d2-8a5f-4145-8ffa-5431f1ededcb\",\"type\":\"ColumnDataSource\"},{\"attributes\":{},\"id\":\"961a087a-345c-46fd-8872-27748de04378\",\"type\":\"PanTool\"},{\"attributes\":{\"fill_color\":{\"value\":\"black\"},\"size\":{\"units\":\"screen\",\"value\":10},\"x\":{\"field\":\"x\"},\"y\":{\"field\":\"y\"}},\"id\":\"5aefc51d-4aa8-455d-8cb9-71b0a7c1ce92\",\"type\":\"Circle\"},{\"attributes\":{},\"id\":\"63a87728-848c-4744-b350-c0fbd24861d0\",\"type\":\"BasicTicker\"},{\"attributes\":{\"line_alpha\":0.1,\"line_color\":\"#1f77b4\",\"line_width\":4,\"x\":{\"field\":\"x\"},\"y\":{\"field\":\"y\"}},\"id\":\"42f9e993-9948-4d73-8c31-dc03ce251c0a\",\"type\":\"Line\"},{\"attributes\":{\"fill_alpha\":{\"value\":0.1},\"fill_color\":{\"value\":\"#1f77b4\"},\"line_alpha\":{\"value\":0.1},\"line_color\":{\"value\":\"#1f77b4\"},\"size\":{\"units\":\"screen\",\"value\":10},\"x\":{\"field\":\"x\"},\"y\":{\"field\":\"y\"}},\"id\":\"a226c013-647d-42d6-b228-ceeb6e8644f4\",\"type\":\"Circle\"},{\"attributes\":{\"line_alpha\":0.1,\"line_width\":4,\"x\":{\"field\":\"x\"},\"y\":{\"field\":\"y\"}},\"id\":\"6b63c234-9300-4ad9-8717-3dc91c8dd728\",\"type\":\"Line\"},{\"attributes\":{\"data_source\":{\"id\":\"d0a9f3d2-8a5f-4145-8ffa-5431f1ededcb\",\"type\":\"ColumnDataSource\"},\"glyph\":{\"id\":\"5aefc51d-4aa8-455d-8cb9-71b0a7c1ce92\",\"type\":\"Circle\"},\"hover_glyph\":null,\"muted_glyph\":null,\"nonselection_glyph\":{\"id\":\"a226c013-647d-42d6-b228-ceeb6e8644f4\",\"type\":\"Circle\"},\"selection_glyph\":null,\"view\":{\"id\":\"144e19c8-7351-442e-b9e0-87d92ec78469\",\"type\":\"CDSView\"}},\"id\":\"8067c598-269d-4b83-a592-9e14f4fec395\",\"type\":\"GlyphRenderer\"},{\"attributes\":{\"callback\":null,\"data\":{\"x\":{\"__ndarray__\":\"AAAAAAAAFMCamZmZmZkTwDQzMzMzMxPAzszMzMzMEsBoZmZmZmYSwAIAAAAAABLAnJmZmZmZEcA2MzMzMzMRwNDMzMzMzBDAamZmZmZmEMAEAAAAAAAQwDwzMzMzMw/AcGZmZmZmDsCkmZmZmZkNwNjMzMzMzAzADAAAAAAADMBAMzMzMzMLwHRmZmZmZgrAqJmZmZmZCcDczMzMzMwIwBAAAAAAAAjARDMzMzMzB8B4ZmZmZmYGwKyZmZmZmQXA4MzMzMzMBMAUAAAAAAAEwEgzMzMzMwPAfGZmZmZmAsCwmZmZmZkBwOTMzMzMzADAGAAAAAAAAMCYZmZmZmb+vwDNzMzMzPy/aDMzMzMz+7/QmZmZmZn5vzgAAAAAAPi/oGZmZmZm9r8IzczMzMz0v3AzMzMzM/O/2JmZmZmZ8b9AAAAAAADwv1DNzMzMzOy/IJqZmZmZ6b/wZmZmZmbmv8AzMzMzM+O/kAAAAAAA4L/AmpmZmZnZv2A0MzMzM9O/AJyZmZmZyb+AnpmZmZm5vwAAAAAAABS9gJSZmZmZuT8Al5mZmZnJP+AxMzMzM9M/QJiZmZmZ2T+g/v/////fP4AyMzMzM+M/sGVmZmZm5j/gmJmZmZnpPxDMzMzMzOw/QP//////7z84mZmZmZnxP9AyMzMzM/M/aMzMzMzM9D8AZmZmZmb2P5j///////c/MJmZmZmZ+T/IMjMzMzP7P2DMzMzMzPw/+GVmZmZm/j+Q////////P5TMzMzMzABAYJmZmZmZAUAsZmZmZmYCQPgyMzMzMwNAxP//////A0CQzMzMzMwEQFyZmZmZmQVAKGZmZmZmBkD0MjMzMzMHQMD//////wdAjMzMzMzMCEBYmZmZmZkJQCRmZmZmZgpA8DIzMzMzC0C8//////8LQIjMzMzMzAxAVJmZmZmZDUAgZmZmZmYOQOwyMzMzMw9AuP//////D0BCZmZmZmYQQKjMzMzMzBBADjMzMzMzEUB0mZmZmZkRQNr//////xFAQGZmZmZmEkCmzMzMzMwSQAwzMzMzMxNAcpmZmZmZE0DY//////8TQA==\",\"dtype\":\"float64\",\"shape\":[101]},\"y\":{\"__ndarray__\":\"AAAAAABAX8Cqxks3iWldwN3O91PjpVvA7iYxCKz0WcA13SQGgVVYwAgAAAAAyFbAu53vp8ZLVcClxCCwcuBTwB2DwMqhhVLAeOf7qfE6UcAMAAAAAABQwF+28/3UqE3AcA4tsp1vS8D4JAaBlVNJwKIW2c73U0fAHAAAAABwRcAP/tR46aZDwCotsp3v90HAGKrx0k1iQMAII9v5fso9wDYAAAAAADvAEiUGgZVjOMD0yqFFtvM1wDQrhxbZrjPAK39qvHSTMcBeAAAAAEAvwDPP91PjpSvAhd0kBoFVKMADnu+nxkslwF+DwMqhhSLASAAAAAAAIMDcDi2ynW8bwAQX2c73UxfAZv7UeOmmE8BkqvHSTWIQwL0AAAAAAAvAasuhRbbzBcCQf2q8dJMBwODP91Pjpfu/lZ7vp8ZL9b/AAAAAAADwv8YX2c73U+e//qrx0k1i4L9VzKFFtvPVvznR91Pjpcu/sAEAAAAAwL8xrPHSTWKwv+3T91PjpZu/mK7x0k1igL9ks/HSTWJQvwAAAAAAQF+3MaDx0k1iUD/+pPHSTWKAPyDJ91PjpZs/ZKfx0k1isD/g+/////+/P9PL91Pjpcs/qMihRbbz1T+YqPHSTWLgP7wU2c73U+c/wP3/////7z9QnO+nxkv1Py3N91Pjpfs/+n1qvHSTAUCTyaFFtvMFQKH+/////wpAManx0k1iEEAL/dR46aYTQH8V2c73UxdAKw0tsp1vG0Cw/v////8fQFeCwMqhhSJA4Zzvp8ZLJUBH3CQGgVUoQNnN91PjpStA5/7///8/L0Bgfmq8dJMxQFoqhxbZrjNACcqhRbbzNUAWJAaBlWM4QCj//////zpA5yHb+X7KPUB+qfHSTWJAQIcssp3v90FAYv3UeOmmQ0Bk/////29FQOAV2c73U0dAKyQGgZVTSUCXDS2ynW9LQHu18/3UqE1AKP//////T0D65vup8TpRQJmCwMqhhVJAG8QgsHLgU0Aqne+nxktVQHD/////x1ZAl9wkBoFVWEBJJjEIrPRZQDDO91PjpVtA9sVLN4lpXUBE/////z9fQA==\",\"dtype\":\"float64\",\"shape\":[101]}},\"selected\":{\"id\":\"1b80b2f6-2387-431d-8a62-281cb4759d72\",\"type\":\"Selection\"},\"selection_policy\":{\"id\":\"300597cf-a504-48f0-b035-df0c7a17427a\",\"type\":\"UnionRenderers\"}},\"id\":\"dd073fbb-6c91-40e3-b63a-e54bacfff563\",\"type\":\"ColumnDataSource\"},{\"attributes\":{\"source\":{\"id\":\"d0a9f3d2-8a5f-4145-8ffa-5431f1ededcb\",\"type\":\"ColumnDataSource\"}},\"id\":\"144e19c8-7351-442e-b9e0-87d92ec78469\",\"type\":\"CDSView\"},{\"attributes\":{\"callback\":null},\"id\":\"9dd2118a-524e-4f34-9882-0a6b7da9c73a\",\"type\":\"DataRange1d\"},{\"attributes\":{\"empty_value\":\"black\",\"renderers\":[{\"id\":\"8067c598-269d-4b83-a592-9e14f4fec395\",\"type\":\"GlyphRenderer\"}]},\"id\":\"c9b96f74-f22f-4e46-87ab-57f249c5e49d\",\"type\":\"PointDrawTool\"},{\"attributes\":{\"label\":{\"value\":\"f(x) = x**3\"},\"renderers\":[{\"id\":\"babf9441-c15c-4c31-ac24-2e19c93e8b23\",\"type\":\"GlyphRenderer\"}]},\"id\":\"a77c6664-cf60-4d42-9a77-58597407c4f3\",\"type\":\"LegendItem\"},{\"attributes\":{},\"id\":\"c64b9e9d-018a-47cd-876c-171259b137e3\",\"type\":\"Selection\"},{\"attributes\":{\"formatter\":{\"id\":\"09e86438-1f86-47c4-b144-661726558da1\",\"type\":\"BasicTickFormatter\"},\"plot\":{\"id\":\"2f421ac0-1dd1-45a6-bfe4-e07def52891c\",\"subtype\":\"Figure\",\"type\":\"Plot\"},\"ticker\":{\"id\":\"63a87728-848c-4744-b350-c0fbd24861d0\",\"type\":\"BasicTicker\"}},\"id\":\"a0c8411f-0207-455c-bf35-95f79051f85d\",\"type\":\"LinearAxis\"},{\"attributes\":{\"active_drag\":\"auto\",\"active_inspect\":\"auto\",\"active_multi\":null,\"active_scroll\":\"auto\",\"active_tap\":{\"id\":\"c9b96f74-f22f-4e46-87ab-57f249c5e49d\",\"type\":\"PointDrawTool\"},\"tools\":[{\"id\":\"961a087a-345c-46fd-8872-27748de04378\",\"type\":\"PanTool\"},{\"id\":\"ab651fd0-84fc-4713-ba2a-9588a58a4f85\",\"type\":\"HoverTool\"},{\"id\":\"41c5f39f-2f5e-4997-aba0-87dbfe4fd042\",\"type\":\"WheelZoomTool\"},{\"id\":\"f245fa7b-ad83-4f1b-9943-a4aad15e7b06\",\"type\":\"ResetTool\"},{\"id\":\"c9b96f74-f22f-4e46-87ab-57f249c5e49d\",\"type\":\"PointDrawTool\"}]},\"id\":\"d8f26ef2-1bf7-4fa7-be9e-d3734f83ae66\",\"type\":\"Toolbar\"},{\"attributes\":{},\"id\":\"6a8ca581-3de8-4d2b-9e07-a0fcb51f72ac\",\"type\":\"Selection\"}],\"root_ids\":[\"2f421ac0-1dd1-45a6-bfe4-e07def52891c\"]},\"title\":\"Bokeh Application\",\"version\":\"0.13.0\"}};\n",
       "  var render_items = [{\"docid\":\"85c0e13e-0531-4f6d-abdd-d1ff22647731\",\"roots\":{\"2f421ac0-1dd1-45a6-bfe4-e07def52891c\":\"95bc7212-15dc-4621-b062-30a86ba03271\"}}];\n",
       "  root.Bokeh.embed.embed_items_notebook(docs_json, render_items);\n",
       "\n",
       "  }\n",
       "  if (root.Bokeh !== undefined) {\n",
       "    embed_document(root);\n",
       "  } else {\n",
       "    var attempts = 0;\n",
       "    var timer = setInterval(function(root) {\n",
       "      if (root.Bokeh !== undefined) {\n",
       "        embed_document(root);\n",
       "        clearInterval(timer);\n",
       "      }\n",
       "      attempts++;\n",
       "      if (attempts > 100) {\n",
       "        console.log(\"Bokeh: ERROR: Unable to run BokehJS code because BokehJS library is missing\")\n",
       "        clearInterval(timer);\n",
       "      }\n",
       "    }, 10, root)\n",
       "  }\n",
       "})(window);"
      ],
      "application/vnd.bokehjs_exec.v0+json": ""
     },
     "metadata": {
      "application/vnd.bokehjs_exec.v0+json": {
       "id": "2f421ac0-1dd1-45a6-bfe4-e07def52891c"
      }
     },
     "output_type": "display_data"
    }
   ],
   "source": [
    "graph(x**3,x)"
   ]
  },
  {
   "cell_type": "markdown",
   "metadata": {},
   "source": [
    "Inflection points are locations where the graph turns from being concave to convex or vice versa. Such points are also known as **saddle points** and are not extrema. In general, we don't care about inflection points: we care about extrema!"
   ]
  },
  {
   "cell_type": "markdown",
   "metadata": {},
   "source": [
    "**<font color = 'red'> However, we have to make sure that inflection points are _actually_ inflection points </font>.** That is, the function goes from concave to convex or vice versa. It could actually be a minima/maxima. We can uncover if this is the case by taking the higher order derivatives.\n",
    "\n",
    "$$ f'''(x^*) > 0~~\\text{or}~~f'''(x^*) < 0~~\\text{then}~~x^* =~\\text{inflection point} $$"
   ]
  },
  {
   "cell_type": "markdown",
   "metadata": {},
   "source": [
    "For function $f(x) = x^3$\n",
    "\n",
    "<br>\n",
    "<br>\n",
    "$$ f'(x^*) = 0~\\text{for}~x^* = 0$$\n",
    "\n",
    "<br>\n",
    "<br>\n",
    "\n",
    "$$ f''(0) = 0$$\n",
    "\n",
    "<br>\n",
    "<br>\n",
    "$$ f'''(x) = 6$$\n",
    "\n",
    "<br>\n",
    "<br>"
   ]
  },
  {
   "cell_type": "code",
   "execution_count": 32,
   "metadata": {},
   "outputs": [
    {
     "data": {
      "image/png": "[encoded data removed]",
      "text/latex": [
       "$$6$$"
      ],
      "text/plain": [
       "6"
      ]
     },
     "execution_count": 32,
     "metadata": {},
     "output_type": "execute_result"
    }
   ],
   "source": [
    "(x**3).diff().diff().diff() "
   ]
  },
  {
   "cell_type": "markdown",
   "metadata": {},
   "source": [
    "So $x^* =0$ for $f(x) = x^3$ is a inflection point.\n",
    "\n",
    "<br>\n",
    "<br>\n",
    "\n",
    "However, consider the following function..."
   ]
  },
  {
   "cell_type": "code",
   "execution_count": 33,
   "metadata": {},
   "outputs": [
    {
     "data": {
      "text/html": [
       "\n",
       "\n",
       "\n",
       "\n",
       "\n",
       "\n",
       "  <div class=\"bk-root\" id=\"a4fbd3c9-9c97-4440-b1f3-52c389b2223e\"></div>\n"
      ]
     },
     "metadata": {},
     "output_type": "display_data"
    },
    {
     "data": {
      "application/javascript": [
       "(function(root) {\n",
       "  function embed_document(root) {\n",
       "    \n",
       "  var docs_json = {\"68c47649-5eed-4a6f-9f86-23b89d5e8b16\":{\"roots\":{\"references\":[{\"attributes\":{},\"id\":\"6b641a71-cd74-4c10-8f17-67b64b38801d\",\"type\":\"PanTool\"},{\"attributes\":{},\"id\":\"f9fdecdb-794a-40d8-8140-4ada310ef3f0\",\"type\":\"Selection\"},{\"attributes\":{\"source\":{\"id\":\"5c301189-af7b-46af-9ea2-24a86d6e0cd6\",\"type\":\"ColumnDataSource\"}},\"id\":\"f0fd5139-ba6c-44b7-961c-0041b66ad355\",\"type\":\"CDSView\"},{\"attributes\":{},\"id\":\"204eb4f6-d0ae-4f4c-8d19-73bb6560bec0\",\"type\":\"UnionRenderers\"},{\"attributes\":{\"callback\":null,\"data\":{\"x\":{\"__ndarray__\":\"AAAAAAAAFMCamZmZmZkTwDQzMzMzMxPAzszMzMzMEsBoZmZmZmYSwAIAAAAAABLAnJmZmZmZEcA2MzMzMzMRwNDMzMzMzBDAamZmZmZmEMAEAAAAAAAQwDwzMzMzMw/AcGZmZmZmDsCkmZmZmZkNwNjMzMzMzAzADAAAAAAADMBAMzMzMzMLwHRmZmZmZgrAqJmZmZmZCcDczMzMzMwIwBAAAAAAAAjARDMzMzMzB8B4ZmZmZmYGwKyZmZmZmQXA4MzMzMzMBMAUAAAAAAAEwEgzMzMzMwPAfGZmZmZmAsCwmZmZmZkBwOTMzMzMzADAGAAAAAAAAMCYZmZmZmb+vwDNzMzMzPy/aDMzMzMz+7/QmZmZmZn5vzgAAAAAAPi/oGZmZmZm9r8IzczMzMz0v3AzMzMzM/O/2JmZmZmZ8b9AAAAAAADwv1DNzMzMzOy/IJqZmZmZ6b/wZmZmZmbmv8AzMzMzM+O/kAAAAAAA4L/AmpmZmZnZv2A0MzMzM9O/AJyZmZmZyb+AnpmZmZm5vwAAAAAAABS9gJSZmZmZuT8Al5mZmZnJP+AxMzMzM9M/QJiZmZmZ2T+g/v/////fP4AyMzMzM+M/sGVmZmZm5j/gmJmZmZnpPxDMzMzMzOw/QP//////7z84mZmZmZnxP9AyMzMzM/M/aMzMzMzM9D8AZmZmZmb2P5j///////c/MJmZmZmZ+T/IMjMzMzP7P2DMzMzMzPw/+GVmZmZm/j+Q////////P5TMzMzMzABAYJmZmZmZAUAsZmZmZmYCQPgyMzMzMwNAxP//////A0CQzMzMzMwEQFyZmZmZmQVAKGZmZmZmBkD0MjMzMzMHQMD//////wdAjMzMzMzMCEBYmZmZmZkJQCRmZmZmZgpA8DIzMzMzC0C8//////8LQIjMzMzMzAxAVJmZmZmZDUAgZmZmZmYOQOwyMzMzMw9AuP//////D0BCZmZmZmYQQKjMzMzMzBBADjMzMzMzEUB0mZmZmZkRQNr//////xFAQGZmZmZmEkCmzMzMzMwSQAwzMzMzMxNAcpmZmZmZE0DY//////8TQA==\",\"dtype\":\"float64\",\"shape\":[101]},\"y\":{\"__ndarray__\":\"AAAAAACIg0B8Nqs+1wOCQIXix5i7loBAJ/RsVn1/fkBm/kP67ft7QAsAAAAAoXlAhC0hH/Rsd0Bo07zjFF51QHxWfa62cnNArDOitDepcUAQAAAAAABwQNjRAN4C62xAWWdEaW8QakDUe/KwUG1nQM76XG3F/mRAIAAAAADCYkD714FzRrRgQMj9ZffkpV1AaEMc6+I2WkA0O3DOiBZXQDYAAAAAQFRAIA6+MJmuUUChguLHmLtOQJ2tad5xkkpAmdjw9ErZRkBOAAAAAIhDQMrix5i7lkBA4P5D+u37O0DuLSEf9Gw3QNhWfa62cjNAYAAAAAAAMEDiZ0RpbxAqQEL7XG3F/iRAXtiBc0a0IEALRBzr4jYaQL0AAAAAQBRAfYPix5i7DkBJ2fD0StkGQFTjx5i7lgBAwy4hH/Rs9z8AAQAAAADwPyv8XG3F/uQ/U0Uc6+I22j80heLHmLvOP2nkx5i7lsA/QAIAAAAAsD/jRxzr4jaaP5Lmx5i7loA/AU0c6+I2Wj8/Vxzr4jYaPwAAAAAAiIM0SS4c6+I2Gj+GOBzr4jZaP+7dx5i7loA/pT0c6+I2mj+A+v////+vPxfgx5i7lsA/WH7ix5i7zj80QBzr4jbaP4b4XG3F/uQ/AP3/////7z9wKyEf9Gz3Pyvhx5i7lgBAitbw9ErZBkAPgOLHmLsOQKH+////PxRAfEEc6+I2GkDV1oFzRrQgQHD5XG3F/iRAvWVEaW8QKkBA/v////8vQGZVfa62cjNARSwhH/RsN0D5/EP67fs7QLbhx5i7lkBAFv////+HQ0A61/D0StlGQBSsad5xkkpA6oDix5i7TkAsDb4wma5RQCj/////P1RACjpwzogWV0AgQhzr4jZaQGH8ZffkpV1AN9eBc0a0YEBK/////8FiQOT5XG3F/mRA13rysFBtZ0BHZkRpbxBqQK/QAN4C62xA4P7/////b0D/MqK0N6lxQMNVfa62cnNAotK84xRedUCvLCEf9Gx3QCj/////oHlAc/1D+u37e0Aj82xWfX9+QPvhx5i7loBA6DWrPtcDgkBk/////4eDQA==\",\"dtype\":\"float64\",\"shape\":[101]}},\"selected\":{\"id\":\"6e4041d0-a6b0-4801-b0f2-32c74d640486\",\"type\":\"Selection\"},\"selection_policy\":{\"id\":\"9422bddf-b268-46d5-9437-0968cb2a9190\",\"type\":\"UnionRenderers\"}},\"id\":\"5c301189-af7b-46af-9ea2-24a86d6e0cd6\",\"type\":\"ColumnDataSource\"},{\"attributes\":{},\"id\":\"0b140ca2-0881-4510-bbf2-b13a407a003d\",\"type\":\"Selection\"},{\"attributes\":{},\"id\":\"507cc9bf-9411-44ca-91b1-df0f07df2916\",\"type\":\"WheelZoomTool\"},{\"attributes\":{},\"id\":\"0be897d1-629c-4ff2-9c31-459fdc0af46f\",\"type\":\"UnionRenderers\"},{\"attributes\":{},\"id\":\"18952a7a-86c4-4b8e-b5eb-64965e13bab9\",\"type\":\"ResetTool\"},{\"attributes\":{\"data_source\":{\"id\":\"5c301189-af7b-46af-9ea2-24a86d6e0cd6\",\"type\":\"ColumnDataSource\"},\"glyph\":{\"id\":\"f3b6788b-a07a-4e34-a4ab-9dd3d9371c17\",\"type\":\"Line\"},\"hover_glyph\":null,\"muted_glyph\":{\"id\":\"4ed0297c-a27d-48db-98c6-702e5a9299f8\",\"type\":\"Line\"},\"nonselection_glyph\":{\"id\":\"be95ed62-270d-4f0a-95ad-80e2f82ede06\",\"type\":\"Line\"},\"selection_glyph\":null,\"view\":{\"id\":\"f0fd5139-ba6c-44b7-961c-0041b66ad355\",\"type\":\"CDSView\"}},\"id\":\"6f61b454-a795-4c05-aa4e-6c605ad5302b\",\"type\":\"GlyphRenderer\"},{\"attributes\":{\"click_policy\":\"mute\",\"items\":[{\"id\":\"c8772364-013b-4027-8500-e71533d37a55\",\"type\":\"LegendItem\"},{\"id\":\"42510b0c-e3da-4b82-9a77-068e585000c3\",\"type\":\"LegendItem\"},{\"id\":\"4c463940-b1ea-4112-9031-0e641b7f554b\",\"type\":\"LegendItem\"}],\"location\":\"top_left\",\"plot\":{\"id\":\"f4a5e5ef-0290-44f1-9dc8-eaada88ce1e4\",\"subtype\":\"Figure\",\"type\":\"Plot\"}},\"id\":\"13517be7-b9cd-4b37-8920-b38b67979087\",\"type\":\"Legend\"},{\"attributes\":{\"plot\":null,\"text\":\"\"},\"id\":\"6ada56d3-f246-4794-b7ae-f861cf3f1112\",\"type\":\"Title\"},{\"attributes\":{},\"id\":\"fd8a496c-551d-445d-bbb4-fbff8ae06b39\",\"type\":\"BasicTickFormatter\"},{\"attributes\":{\"plot\":{\"id\":\"f4a5e5ef-0290-44f1-9dc8-eaada88ce1e4\",\"subtype\":\"Figure\",\"type\":\"Plot\"},\"ticker\":{\"id\":\"8a933df5-419c-40cf-b3c7-ff480c4cd560\",\"type\":\"BasicTicker\"}},\"id\":\"6518acbe-b051-445a-91ef-09827f458c02\",\"type\":\"Grid\"},{\"attributes\":{\"callback\":null,\"renderers\":\"auto\",\"tooltips\":[[\"f_\",\"$y\"],[\"x\",\"$x\"]]},\"id\":\"a5766b31-2ad6-487f-9977-901b39b868cb\",\"type\":\"HoverTool\"},{\"attributes\":{},\"id\":\"6e39f587-ba64-413c-9365-09428b107969\",\"type\":\"BasicTickFormatter\"},{\"attributes\":{},\"id\":\"ffb52a58-8896-4ffa-ad42-bc8b9a0b1b6c\",\"type\":\"BasicTicker\"},{\"attributes\":{\"label\":{\"value\":\"f(x) = x**4\"},\"renderers\":[{\"id\":\"6f61b454-a795-4c05-aa4e-6c605ad5302b\",\"type\":\"GlyphRenderer\"}]},\"id\":\"c8772364-013b-4027-8500-e71533d37a55\",\"type\":\"LegendItem\"},{\"attributes\":{},\"id\":\"8a933df5-419c-40cf-b3c7-ff480c4cd560\",\"type\":\"BasicTicker\"},{\"attributes\":{\"line_alpha\":0.1,\"line_width\":4,\"x\":{\"field\":\"x\"},\"y\":{\"field\":\"y\"}},\"id\":\"4ed0297c-a27d-48db-98c6-702e5a9299f8\",\"type\":\"Line\"},{\"attributes\":{\"line_alpha\":0.6,\"line_color\":\"steelblue\",\"line_width\":4,\"x\":{\"field\":\"x\"},\"y\":{\"field\":\"y\"}},\"id\":\"1fc44199-9b03-4c27-afc2-9e65ee8a0bcc\",\"type\":\"Line\"},{\"attributes\":{},\"id\":\"9422bddf-b268-46d5-9437-0968cb2a9190\",\"type\":\"UnionRenderers\"},{\"attributes\":{\"line_alpha\":0.1,\"line_color\":\"#1f77b4\",\"line_width\":4,\"x\":{\"field\":\"x\"},\"y\":{\"field\":\"y\"}},\"id\":\"be95ed62-270d-4f0a-95ad-80e2f82ede06\",\"type\":\"Line\"},{\"attributes\":{\"line_alpha\":0.6,\"line_width\":4,\"x\":{\"field\":\"x\"},\"y\":{\"field\":\"y\"}},\"id\":\"f3b6788b-a07a-4e34-a4ab-9dd3d9371c17\",\"type\":\"Line\"},{\"attributes\":{\"active_drag\":\"auto\",\"active_inspect\":\"auto\",\"active_multi\":null,\"active_scroll\":\"auto\",\"active_tap\":{\"id\":\"508b2b8d-551c-48e6-8316-b634ca3839ad\",\"type\":\"PointDrawTool\"},\"tools\":[{\"id\":\"6b641a71-cd74-4c10-8f17-67b64b38801d\",\"type\":\"PanTool\"},{\"id\":\"a5766b31-2ad6-487f-9977-901b39b868cb\",\"type\":\"HoverTool\"},{\"id\":\"507cc9bf-9411-44ca-91b1-df0f07df2916\",\"type\":\"WheelZoomTool\"},{\"id\":\"18952a7a-86c4-4b8e-b5eb-64965e13bab9\",\"type\":\"ResetTool\"},{\"id\":\"508b2b8d-551c-48e6-8316-b634ca3839ad\",\"type\":\"PointDrawTool\"}]},\"id\":\"865a41e4-9ecd-43ce-bf9f-5399761ca500\",\"type\":\"Toolbar\"},{\"attributes\":{\"callback\":null,\"data\":{\"x\":{\"__ndarray__\":\"AAAAAAAAFMCamZmZmZkTwDQzMzMzMxPAzszMzMzMEsBoZmZmZmYSwAIAAAAAABLAnJmZmZmZEcA2MzMzMzMRwNDMzMzMzBDAamZmZmZmEMAEAAAAAAAQwDwzMzMzMw/AcGZmZmZmDsCkmZmZmZkNwNjMzMzMzAzADAAAAAAADMBAMzMzMzMLwHRmZmZmZgrAqJmZmZmZCcDczMzMzMwIwBAAAAAAAAjARDMzMzMzB8B4ZmZmZmYGwKyZmZmZmQXA4MzMzMzMBMAUAAAAAAAEwEgzMzMzMwPAfGZmZmZmAsCwmZmZmZkBwOTMzMzMzADAGAAAAAAAAMCYZmZmZmb+vwDNzMzMzPy/aDMzMzMz+7/QmZmZmZn5vzgAAAAAAPi/oGZmZmZm9r8IzczMzMz0v3AzMzMzM/O/2JmZmZmZ8b9AAAAAAADwv1DNzMzMzOy/IJqZmZmZ6b/wZmZmZmbmv8AzMzMzM+O/kAAAAAAA4L/AmpmZmZnZv2A0MzMzM9O/AJyZmZmZyb+AnpmZmZm5vwAAAAAAABS9gJSZmZmZuT8Al5mZmZnJP+AxMzMzM9M/QJiZmZmZ2T+g/v/////fP4AyMzMzM+M/sGVmZmZm5j/gmJmZmZnpPxDMzMzMzOw/QP//////7z84mZmZmZnxP9AyMzMzM/M/aMzMzMzM9D8AZmZmZmb2P5j///////c/MJmZmZmZ+T/IMjMzMzP7P2DMzMzMzPw/+GVmZmZm/j+Q////////P5TMzMzMzABAYJmZmZmZAUAsZmZmZmYCQPgyMzMzMwNAxP//////A0CQzMzMzMwEQFyZmZmZmQVAKGZmZmZmBkD0MjMzMzMHQMD//////wdAjMzMzMzMCEBYmZmZmZkJQCRmZmZmZgpA8DIzMzMzC0C8//////8LQIjMzMzMzAxAVJmZmZmZDUAgZmZmZmYOQOwyMzMzMw9AuP//////D0BCZmZmZmYQQKjMzMzMzBBADjMzMzMzEUB0mZmZmZkRQNr//////xFAQGZmZmZmEkCmzMzMzMwSQAwzMzMzMxNAcpmZmZmZE0DY//////8TQA==\",\"dtype\":\"float64\",\"shape\":[101]},\"y\":{\"__ndarray__\":\"AAAAAABAf8Cqxks3iWl9wN3O91PjpXvA7iYxCKz0ecA13SQGgVV4wAgAAAAAyHbAu53vp8ZLdcClxCCwcuBzwB2DwMqhhXLAeOf7qfE6ccAMAAAAAABwwF+28/3UqG3AcA4tsp1va8D4JAaBlVNpwKIW2c73U2fAHAAAAABwZcAP/tR46aZjwCotsp3v92HAGKrx0k1iYMAII9v5fspdwDYAAAAAAFvAEiUGgZVjWMD0yqFFtvNVwDQrhxbZrlPAK39qvHSTUcBeAAAAAEBPwDPP91PjpUvAhd0kBoFVSMADnu+nxktFwF+DwMqhhULASAAAAAAAQMDcDi2ynW87wAQX2c73UzfAZv7UeOmmM8BkqvHSTWIwwL0AAAAAACvAasuhRbbzJcCQf2q8dJMhwODP91PjpRvAlZ7vp8ZLFcDAAAAAAAAQwMYX2c73UwfA/qrx0k1iAMBVzKFFtvP1vznR91Pjpeu/sAEAAAAA4L8xrPHSTWLQv+3T91Pjpbu/mK7x0k1ioL9ks/HSTWJwvwAAAAAAQH+3MaDx0k1icD/+pPHSTWKgPyDJ91Pjpbs/ZKfx0k1i0D/g+//////fP9PL91Pjpes/qMihRbbz9T+YqPHSTWIAQLwU2c73UwdAwP3/////D0BQnO+nxksVQC3N91PjpRtA+n1qvHSTIUCTyaFFtvMlQKH+/////ypAManx0k1iMEAL/dR46aYzQH8V2c73UzdAKw0tsp1vO0Cw/v////8/QFeCwMqhhUJA4Zzvp8ZLRUBH3CQGgVVIQNnN91PjpUtA5/7///8/T0Bgfmq8dJNRQFoqhxbZrlNACcqhRbbzVUAWJAaBlWNYQCj//////1pA5yHb+X7KXUB+qfHSTWJgQIcssp3v92FAYv3UeOmmY0Bk/////29lQOAV2c73U2dAKyQGgZVTaUCXDS2ynW9rQHu18/3UqG1AKP//////b0D65vup8TpxQJmCwMqhhXJAG8QgsHLgc0Aqne+nxkt1QHD/////x3ZAl9wkBoFVeEBJJjEIrPR5QDDO91PjpXtA9sVLN4lpfUBE/////z9/QA==\",\"dtype\":\"float64\",\"shape\":[101]}},\"selected\":{\"id\":\"ce58cb97-4bbd-48ae-86d2-411c99777035\",\"type\":\"Selection\"},\"selection_policy\":{\"id\":\"2715f21a-d46a-4994-a85e-178e4e198f69\",\"type\":\"UnionRenderers\"}},\"id\":\"ec5600df-ae42-4f36-8e5d-d83077db67f0\",\"type\":\"ColumnDataSource\"},{\"attributes\":{\"data_source\":{\"id\":\"ec5600df-ae42-4f36-8e5d-d83077db67f0\",\"type\":\"ColumnDataSource\"},\"glyph\":{\"id\":\"1fc44199-9b03-4c27-afc2-9e65ee8a0bcc\",\"type\":\"Line\"},\"hover_glyph\":null,\"muted_glyph\":{\"id\":\"e4714dd7-381d-42fd-a714-69707989295b\",\"type\":\"Line\"},\"nonselection_glyph\":{\"id\":\"ce784c6f-ed6b-4c7a-8024-b690eaaa08d9\",\"type\":\"Line\"},\"selection_glyph\":null,\"view\":{\"id\":\"c011e393-9d78-4508-96a7-7461102daf59\",\"type\":\"CDSView\"}},\"id\":\"7eaf78e5-af03-40bf-8d22-84379751badd\",\"type\":\"GlyphRenderer\"},{\"attributes\":{\"line_alpha\":0.1,\"line_color\":\"#1f77b4\",\"line_width\":4,\"x\":{\"field\":\"x\"},\"y\":{\"field\":\"y\"}},\"id\":\"ce784c6f-ed6b-4c7a-8024-b690eaaa08d9\",\"type\":\"Line\"},{\"attributes\":{\"callback\":null},\"id\":\"6cf09914-5f81-4715-aa4d-d771974e9c98\",\"type\":\"DataRange1d\"},{\"attributes\":{\"line_alpha\":0.1,\"line_color\":\"steelblue\",\"line_width\":4,\"x\":{\"field\":\"x\"},\"y\":{\"field\":\"y\"}},\"id\":\"e4714dd7-381d-42fd-a714-69707989295b\",\"type\":\"Line\"},{\"attributes\":{\"formatter\":{\"id\":\"6e39f587-ba64-413c-9365-09428b107969\",\"type\":\"BasicTickFormatter\"},\"plot\":{\"id\":\"f4a5e5ef-0290-44f1-9dc8-eaada88ce1e4\",\"subtype\":\"Figure\",\"type\":\"Plot\"},\"ticker\":{\"id\":\"ffb52a58-8896-4ffa-ad42-bc8b9a0b1b6c\",\"type\":\"BasicTicker\"}},\"id\":\"7a49827e-a227-48e4-b0d5-f05e5d0ccdb4\",\"type\":\"LinearAxis\"},{\"attributes\":{\"dimension\":\"height\",\"line_width\":{\"value\":0.5},\"location\":0,\"plot\":null},\"id\":\"08396af3-2bd5-49de-9eb1-0d03a30979c3\",\"type\":\"Span\"},{\"attributes\":{\"dimension\":1,\"plot\":{\"id\":\"f4a5e5ef-0290-44f1-9dc8-eaada88ce1e4\",\"subtype\":\"Figure\",\"type\":\"Plot\"},\"ticker\":{\"id\":\"ffb52a58-8896-4ffa-ad42-bc8b9a0b1b6c\",\"type\":\"BasicTicker\"}},\"id\":\"e4a5f14e-7bba-417e-82e5-16612c2df070\",\"type\":\"Grid\"},{\"attributes\":{\"source\":{\"id\":\"ec5600df-ae42-4f36-8e5d-d83077db67f0\",\"type\":\"ColumnDataSource\"}},\"id\":\"c011e393-9d78-4508-96a7-7461102daf59\",\"type\":\"CDSView\"},{\"attributes\":{},\"id\":\"6e4041d0-a6b0-4801-b0f2-32c74d640486\",\"type\":\"Selection\"},{\"attributes\":{\"line_alpha\":0.6,\"line_color\":\"orange\",\"line_width\":4,\"x\":{\"field\":\"x\"},\"y\":{\"field\":\"y\"}},\"id\":\"772643c1-d991-40be-9b0c-972b306a486e\",\"type\":\"Line\"},{\"attributes\":{\"label\":{\"value\":\"f'(x) = 4*x**3\"},\"renderers\":[{\"id\":\"7eaf78e5-af03-40bf-8d22-84379751badd\",\"type\":\"GlyphRenderer\"}]},\"id\":\"42510b0c-e3da-4b82-9a77-068e585000c3\",\"type\":\"LegendItem\"},{\"attributes\":{\"axis_label\":\"X\",\"formatter\":{\"id\":\"fd8a496c-551d-445d-bbb4-fbff8ae06b39\",\"type\":\"BasicTickFormatter\"},\"plot\":{\"id\":\"f4a5e5ef-0290-44f1-9dc8-eaada88ce1e4\",\"subtype\":\"Figure\",\"type\":\"Plot\"},\"ticker\":{\"id\":\"8a933df5-419c-40cf-b3c7-ff480c4cd560\",\"type\":\"BasicTicker\"}},\"id\":\"54dd6c60-6ad2-4a94-90ed-20de25c9bb96\",\"type\":\"LinearAxis\"},{\"attributes\":{},\"id\":\"2715f21a-d46a-4994-a85e-178e4e198f69\",\"type\":\"UnionRenderers\"},{\"attributes\":{\"line_width\":{\"value\":0.5},\"location\":0,\"plot\":null},\"id\":\"bf7ef411-eaef-410d-8778-9fab03a3a757\",\"type\":\"Span\"},{\"attributes\":{\"callback\":null,\"data\":{\"x\":{\"__ndarray__\":\"AAAAAAAAFMCamZmZmZkTwDQzMzMzMxPAzszMzMzMEsBoZmZmZmYSwAIAAAAAABLAnJmZmZmZEcA2MzMzMzMRwNDMzMzMzBDAamZmZmZmEMAEAAAAAAAQwDwzMzMzMw/AcGZmZmZmDsCkmZmZmZkNwNjMzMzMzAzADAAAAAAADMBAMzMzMzMLwHRmZmZmZgrAqJmZmZmZCcDczMzMzMwIwBAAAAAAAAjARDMzMzMzB8B4ZmZmZmYGwKyZmZmZmQXA4MzMzMzMBMAUAAAAAAAEwEgzMzMzMwPAfGZmZmZmAsCwmZmZmZkBwOTMzMzMzADAGAAAAAAAAMCYZmZmZmb+vwDNzMzMzPy/aDMzMzMz+7/QmZmZmZn5vzgAAAAAAPi/oGZmZmZm9r8IzczMzMz0v3AzMzMzM/O/2JmZmZmZ8b9AAAAAAADwv1DNzMzMzOy/IJqZmZmZ6b/wZmZmZmbmv8AzMzMzM+O/kAAAAAAA4L/AmpmZmZnZv2A0MzMzM9O/AJyZmZmZyb+AnpmZmZm5vwAAAAAAABS9gJSZmZmZuT8Al5mZmZnJP+AxMzMzM9M/QJiZmZmZ2T+g/v/////fP4AyMzMzM+M/sGVmZmZm5j/gmJmZmZnpPxDMzMzMzOw/QP//////7z84mZmZmZnxP9AyMzMzM/M/aMzMzMzM9D8AZmZmZmb2P5j///////c/MJmZmZmZ+T/IMjMzMzP7P2DMzMzMzPw/+GVmZmZm/j+Q////////P5TMzMzMzABAYJmZmZmZAUAsZmZmZmYCQPgyMzMzMwNAxP//////A0CQzMzMzMwEQFyZmZmZmQVAKGZmZmZmBkD0MjMzMzMHQMD//////wdAjMzMzMzMCEBYmZmZmZkJQCRmZmZmZgpA8DIzMzMzC0C8//////8LQIjMzMzMzAxAVJmZmZmZDUAgZmZmZmYOQOwyMzMzMw9AuP//////D0BCZmZmZmYQQKjMzMzMzBBADjMzMzMzEUB0mZmZmZkRQNr//////xFAQGZmZmZmEkCmzMzMzMwSQAwzMzMzMxNAcpmZmZmZE0DY//////8TQA==\",\"dtype\":\"float64\",\"shape\":[101]},\"y\":{\"__ndarray__\":\"AAAAAADAckBTuB6F6wFyQEnhehSuR3FA5HoUrkeRcEBECtejcL1vQAgAAAAAYG5AEtejcD0KbUBkj8L1KLxrQAApXI/CdWpA4qNwPQo3aUAMAAAAAABoQH49Ctej0GZAN1yPwvWoZUA4XI/C9YhkQIA9CtejcGNAEAAAAABgYkDno3A9CldhQAYpXI/CVWBA2x6F61G4XkA4rkfhetRcQCQAAAAAAFtAnxSuR+E6WUCq61G4HoVXQESF61G43lVAbeF6FK5HVEAmAAAAAMBSQG3hehSuR1FAiArXo3C9T0BU16NwPQpNQEApXI/CdUpASAAAAAAASEBwXI/C9ahFQLY9CtejcENAGqRwPQpXQUA7H4XrUbg+QH4AAAAAADtA/utRuB6FN0C74XoUrkc0QLXhehSuRzFA2NejcD0KLUDAAAAAAAAoQCI+CtejcCNA+x+F61G4HkCm7FG4HoUXQEXiehSuRxFAsAEAAAAACEB7IYXrUbj+P2XjehSuR/E/eySF61G43j97KoXrUbi+PwAAAAAAwHI6exKF61G4vj97GIXrUbjeP+XeehSuR/E/exuF61G4/j/w/f////8HQAXgehSuRxFABupRuB6FF0D7HIXrUbgeQHI8CtejcCNA4P7/////J0DI1aNwPQotQJXgehSuRzFAg+B6FK5HNECu6lG4HoU3QBb//////zpAux2F61G4PkBOo3A9CldBQN48CtejcENAjFuPwvWoRUBY//////9HQEQoXI/CdUpATNajcD0KTUB0CdejcL1PQN3gehSuR1FAkP////+/UkDR4HoUrkdUQKKE61G43lVAAutRuB6FV0DxE65H4TpZQHD//////1pAfq1H4XrUXEAbHoXrUbheQKQoXI/CVWBAgaNwPQpXYUCn/////19iQBQ9CtejcGNAyVuPwvWIZEDFW4/C9ahlQAk9Ctej0GZAlP//////Z0Boo3A9CjdpQIIoXI/CdWpA5I7C9Si8a0CO1qNwPQptQID/////X25AugnXo3C9b0CdehSuR5FwQAHhehSuR3FACrgehesBckC1/////79yQA==\",\"dtype\":\"float64\",\"shape\":[101]}},\"selected\":{\"id\":\"f9fdecdb-794a-40d8-8140-4ada310ef3f0\",\"type\":\"Selection\"},\"selection_policy\":{\"id\":\"204eb4f6-d0ae-4f4c-8d19-73bb6560bec0\",\"type\":\"UnionRenderers\"}},\"id\":\"6b8219eb-56eb-46d8-a0a4-550e30187724\",\"type\":\"ColumnDataSource\"},{\"attributes\":{\"data_source\":{\"id\":\"6b8219eb-56eb-46d8-a0a4-550e30187724\",\"type\":\"ColumnDataSource\"},\"glyph\":{\"id\":\"772643c1-d991-40be-9b0c-972b306a486e\",\"type\":\"Line\"},\"hover_glyph\":null,\"muted_glyph\":{\"id\":\"21f17677-b861-405e-a098-b959b96213d6\",\"type\":\"Line\"},\"nonselection_glyph\":{\"id\":\"9b186e4b-c74d-4ff9-95d6-c02a113016aa\",\"type\":\"Line\"},\"selection_glyph\":null,\"view\":{\"id\":\"8a78e5be-41f7-445f-aae1-3f526f091c18\",\"type\":\"CDSView\"}},\"id\":\"dccfbc33-b9ec-4784-837d-adc71a43fedb\",\"type\":\"GlyphRenderer\"},{\"attributes\":{},\"id\":\"4c1ae9df-3e65-4834-97aa-b21b0f8a8a03\",\"type\":\"LinearScale\"},{\"attributes\":{\"line_alpha\":0.1,\"line_color\":\"#1f77b4\",\"line_width\":4,\"x\":{\"field\":\"x\"},\"y\":{\"field\":\"y\"}},\"id\":\"9b186e4b-c74d-4ff9-95d6-c02a113016aa\",\"type\":\"Line\"},{\"attributes\":{\"line_alpha\":0.1,\"line_color\":\"orange\",\"line_width\":4,\"x\":{\"field\":\"x\"},\"y\":{\"field\":\"y\"}},\"id\":\"21f17677-b861-405e-a098-b959b96213d6\",\"type\":\"Line\"},{\"attributes\":{\"source\":{\"id\":\"6b8219eb-56eb-46d8-a0a4-550e30187724\",\"type\":\"ColumnDataSource\"}},\"id\":\"8a78e5be-41f7-445f-aae1-3f526f091c18\",\"type\":\"CDSView\"},{\"attributes\":{},\"id\":\"ce58cb97-4bbd-48ae-86d2-411c99777035\",\"type\":\"Selection\"},{\"attributes\":{\"label\":{\"value\":\"f''(x) = 12*x**2\"},\"renderers\":[{\"id\":\"dccfbc33-b9ec-4784-837d-adc71a43fedb\",\"type\":\"GlyphRenderer\"}]},\"id\":\"4c463940-b1ea-4112-9031-0e641b7f554b\",\"type\":\"LegendItem\"},{\"attributes\":{\"below\":[{\"id\":\"54dd6c60-6ad2-4a94-90ed-20de25c9bb96\",\"type\":\"LinearAxis\"}],\"left\":[{\"id\":\"7a49827e-a227-48e4-b0d5-f05e5d0ccdb4\",\"type\":\"LinearAxis\"}],\"plot_height\":400,\"plot_width\":700,\"renderers\":[{\"id\":\"54dd6c60-6ad2-4a94-90ed-20de25c9bb96\",\"type\":\"LinearAxis\"},{\"id\":\"6518acbe-b051-445a-91ef-09827f458c02\",\"type\":\"Grid\"},{\"id\":\"7a49827e-a227-48e4-b0d5-f05e5d0ccdb4\",\"type\":\"LinearAxis\"},{\"id\":\"e4a5f14e-7bba-417e-82e5-16612c2df070\",\"type\":\"Grid\"},{\"id\":\"bf7ef411-eaef-410d-8778-9fab03a3a757\",\"type\":\"Span\"},{\"id\":\"08396af3-2bd5-49de-9eb1-0d03a30979c3\",\"type\":\"Span\"},{\"id\":\"13517be7-b9cd-4b37-8920-b38b67979087\",\"type\":\"Legend\"},{\"id\":\"6f61b454-a795-4c05-aa4e-6c605ad5302b\",\"type\":\"GlyphRenderer\"},{\"id\":\"7eaf78e5-af03-40bf-8d22-84379751badd\",\"type\":\"GlyphRenderer\"},{\"id\":\"dccfbc33-b9ec-4784-837d-adc71a43fedb\",\"type\":\"GlyphRenderer\"},{\"id\":\"1bacfb22-4889-4d51-8cb1-e930db073ea1\",\"type\":\"GlyphRenderer\"}],\"title\":{\"id\":\"6ada56d3-f246-4794-b7ae-f861cf3f1112\",\"type\":\"Title\"},\"toolbar\":{\"id\":\"865a41e4-9ecd-43ce-bf9f-5399761ca500\",\"type\":\"Toolbar\"},\"toolbar_location\":\"above\",\"x_range\":{\"id\":\"6cf09914-5f81-4715-aa4d-d771974e9c98\",\"type\":\"DataRange1d\"},\"x_scale\":{\"id\":\"4c1ae9df-3e65-4834-97aa-b21b0f8a8a03\",\"type\":\"LinearScale\"},\"y_range\":{\"id\":\"41dcb8a3-f7a8-4166-96b3-93290055e4cc\",\"type\":\"DataRange1d\"},\"y_scale\":{\"id\":\"88c013ce-0fa6-4a1d-b8c0-4a32fa46418b\",\"type\":\"LinearScale\"}},\"id\":\"f4a5e5ef-0290-44f1-9dc8-eaada88ce1e4\",\"subtype\":\"Figure\",\"type\":\"Plot\"},{\"attributes\":{\"callback\":null},\"id\":\"41dcb8a3-f7a8-4166-96b3-93290055e4cc\",\"type\":\"DataRange1d\"},{\"attributes\":{\"callback\":null,\"data\":{\"x\":[],\"y\":[]},\"selected\":{\"id\":\"0b140ca2-0881-4510-bbf2-b13a407a003d\",\"type\":\"Selection\"},\"selection_policy\":{\"id\":\"0be897d1-629c-4ff2-9c31-459fdc0af46f\",\"type\":\"UnionRenderers\"}},\"id\":\"eefad695-01bb-4c43-9065-cd9a0d521492\",\"type\":\"ColumnDataSource\"},{\"attributes\":{\"fill_color\":{\"value\":\"black\"},\"size\":{\"units\":\"screen\",\"value\":10},\"x\":{\"field\":\"x\"},\"y\":{\"field\":\"y\"}},\"id\":\"1e429607-6998-44ff-b0be-387f90c226b1\",\"type\":\"Circle\"},{\"attributes\":{\"fill_alpha\":{\"value\":0.1},\"fill_color\":{\"value\":\"#1f77b4\"},\"line_alpha\":{\"value\":0.1},\"line_color\":{\"value\":\"#1f77b4\"},\"size\":{\"units\":\"screen\",\"value\":10},\"x\":{\"field\":\"x\"},\"y\":{\"field\":\"y\"}},\"id\":\"082fccf7-9954-460a-90e9-566475809fcb\",\"type\":\"Circle\"},{\"attributes\":{},\"id\":\"88c013ce-0fa6-4a1d-b8c0-4a32fa46418b\",\"type\":\"LinearScale\"},{\"attributes\":{\"source\":{\"id\":\"eefad695-01bb-4c43-9065-cd9a0d521492\",\"type\":\"ColumnDataSource\"}},\"id\":\"eb9c622c-692d-4064-b36b-b21fe4bbcebf\",\"type\":\"CDSView\"},{\"attributes\":{\"data_source\":{\"id\":\"eefad695-01bb-4c43-9065-cd9a0d521492\",\"type\":\"ColumnDataSource\"},\"glyph\":{\"id\":\"1e429607-6998-44ff-b0be-387f90c226b1\",\"type\":\"Circle\"},\"hover_glyph\":null,\"muted_glyph\":null,\"nonselection_glyph\":{\"id\":\"082fccf7-9954-460a-90e9-566475809fcb\",\"type\":\"Circle\"},\"selection_glyph\":null,\"view\":{\"id\":\"eb9c622c-692d-4064-b36b-b21fe4bbcebf\",\"type\":\"CDSView\"}},\"id\":\"1bacfb22-4889-4d51-8cb1-e930db073ea1\",\"type\":\"GlyphRenderer\"},{\"attributes\":{\"empty_value\":\"black\",\"renderers\":[{\"id\":\"1bacfb22-4889-4d51-8cb1-e930db073ea1\",\"type\":\"GlyphRenderer\"}]},\"id\":\"508b2b8d-551c-48e6-8316-b634ca3839ad\",\"type\":\"PointDrawTool\"}],\"root_ids\":[\"f4a5e5ef-0290-44f1-9dc8-eaada88ce1e4\"]},\"title\":\"Bokeh Application\",\"version\":\"0.13.0\"}};\n",
       "  var render_items = [{\"docid\":\"68c47649-5eed-4a6f-9f86-23b89d5e8b16\",\"roots\":{\"f4a5e5ef-0290-44f1-9dc8-eaada88ce1e4\":\"a4fbd3c9-9c97-4440-b1f3-52c389b2223e\"}}];\n",
       "  root.Bokeh.embed.embed_items_notebook(docs_json, render_items);\n",
       "\n",
       "  }\n",
       "  if (root.Bokeh !== undefined) {\n",
       "    embed_document(root);\n",
       "  } else {\n",
       "    var attempts = 0;\n",
       "    var timer = setInterval(function(root) {\n",
       "      if (root.Bokeh !== undefined) {\n",
       "        embed_document(root);\n",
       "        clearInterval(timer);\n",
       "      }\n",
       "      attempts++;\n",
       "      if (attempts > 100) {\n",
       "        console.log(\"Bokeh: ERROR: Unable to run BokehJS code because BokehJS library is missing\")\n",
       "        clearInterval(timer);\n",
       "      }\n",
       "    }, 10, root)\n",
       "  }\n",
       "})(window);"
      ],
      "application/vnd.bokehjs_exec.v0+json": ""
     },
     "metadata": {
      "application/vnd.bokehjs_exec.v0+json": {
       "id": "f4a5e5ef-0290-44f1-9dc8-eaada88ce1e4"
      }
     },
     "output_type": "display_data"
    }
   ],
   "source": [
    "func = x**4\n",
    "graph(func,x)"
   ]
  },
  {
   "cell_type": "markdown",
   "metadata": {},
   "source": [
    "<br>\n",
    "<br>\n",
    "\n",
    "$$ f'(x^*) = 4x^3 = 0 $$\n",
    "$$ x^3 = 0 $$\n",
    "$$ x^* = 0 $$\n",
    "\n",
    "<br>\n",
    "<br>\n",
    "\n",
    "$$ f''(0) = 12(0)^2 = 0 $$\n",
    "\n",
    "\n",
    "<br>\n",
    "<br>\n",
    "\n",
    "$$ f'''(0) = 24(0) = 0 $$\n",
    "\n",
    "<br>\n",
    "<br>\n",
    "\n",
    "$$ f^{(4)}(0) = 24 $$\n",
    "\n",
    "<br>\n",
    "<br>\n",
    "\n",
    "$x^* = 0$ is actually a minima of $f(x)$.\n",
    "\n",
    "<br>\n",
    "<br>"
   ]
  },
  {
   "cell_type": "markdown",
   "metadata": {},
   "source": [
    "### General Rule\n",
    "\n",
    "<br>\n",
    "<br>\n",
    "\n",
    "- if $f''(x^*) = 0$, don't trust it right away:\n",
    "    - Compute the higher order derivative at the stationary point $x^*$ until you arrive at a non-zero value. \n",
    "        - If this derivative is of **odd order** ($f'''(x^*)$,$f^{(5)}(x^*)$,$f^{(7)}(x^*)$,$\\dots$), then the stationary point is an **inflection point**.\n",
    "        - If this derivative is of **even order** ($f^{(4)}(x^*)$,$f^{(6)}(x^*)$,$\\dots$), then the stationary point is an **extremum**.\n",
    "            + if this **_value is positive_** then the stationary point is a local **minimum**.\n",
    "            + if this **_value is negative_** then the stationary point is a local **maximum**.\n",
    "            \n",
    "<br>\n",
    "<br>            "
   ]
  },
  {
   "cell_type": "markdown",
   "metadata": {},
   "source": [
    "## Comparing Boundaries and Extrema\n",
    "\n",
    "Once you've located the critical points of a function, found the stationary points and determined if they are local minima or maxima, you need to make a determination if they are _global_ minima or maxima. That is, _across the entire specified domain of the function_, is this in fact the largest (or smallest) point."
   ]
  },
  {
   "cell_type": "markdown",
   "metadata": {},
   "source": [
    "We can do this by actually plugging the boundary values into $f(x)$ and seeing if their value is larger/smaller than the interior extrema we located."
   ]
  },
  {
   "cell_type": "markdown",
   "metadata": {},
   "source": [
    "Again with function $f(x) = x^4$, we located a local minima at $x^* = 0$, is this in fact a local minima? \n",
    "\n",
    "From the graph above, we can see the domain $[-5,5]$. Let's plug those values into $f(x)$.\n",
    "\n",
    "<br>\n",
    "<br>\n",
    "\n",
    "$$ f(-5) = (-5)^4 = 625 $$\n",
    "\n",
    "<br>\n",
    "<br>\n",
    "\n",
    "$$ f(5) = (5)^4 = 625 $$\n",
    "\n",
    "<br>\n",
    "<br>"
   ]
  },
  {
   "cell_type": "markdown",
   "metadata": {},
   "source": [
    "Neither value is less than our minima\n",
    "\n",
    "$$ f(0) = 0 $$\n",
    "\n",
    "So $x^*$ is in fact a global minima for $f(x)$"
   ]
  },
  {
   "cell_type": "markdown",
   "metadata": {},
   "source": [
    "# Steps for Minimizing/Maximizing a Univariate Function\n",
    "\n",
    "Putting all the above together, here are the steps for minimizing or maximizing a univariate function (i.e. finding the global minima/maxima). These are the steps outlined in the reading (see pg. 168):\n",
    "\n",
    "1. Find $f'(x)$\n",
    "2. Set $f'(x) = 0 $ and solve for all $x^*$. These are stationary points of the function.\n",
    "3. Find $f''(x)$\n",
    "4. For each stationary point $x^*$, substitute $x^*$ into $f''(x)$\n",
    "    - if $f''(x^*) < 0$, $f(x)$ has a local maximum at $x^*$.\n",
    "    - if $f''(x^*) > 0$, $f(x)$ has a local minimum at $x^*$.\n",
    "    - if $f''(x^*) = 0$, $x^*$ may be an inflection point. But we need to check to make sure:\n",
    "        - Compute the higher order derivative at the stationary point $x^*$ until you arrive at a non-zero value. \n",
    "            - If this derivative is of odd order ($f'''(x^*)$,$f^{(5)}(x^*)$,$f^{(7)}(x^*)$,$\\dots$), then the stationary point is an inflection point.\n",
    "            - If this derivative is of even order ($f^{(4)}(x^*)$,$f^{(6)}(x^*)$,$\\dots$), then the stationary point is an extremum.\n",
    "                + if this value is positive then the stationary point is a local minimum.\n",
    "                + if this value is negative then the stationary point is a local maximum.\n",
    "5. Substitue each local extremum into $f(x)$ to find the functions's value at that point.\n",
    "6. Substitute the lower and upper bounds of the domain over which you are attempting to find the extrema into $f(x)$ to find the function's values at those points.\n",
    "7. Of those values:\n",
    "    - the smallest $x^*$ or boundary point is the global minimum.\n",
    "    - the largest $x^*$ or boundary point is the global maximum.\n",
    "\n",
    "And with that, choose the value you care about the most (i.e. are you maximizing or minimizing?)"
   ]
  },
  {
   "cell_type": "markdown",
   "metadata": {},
   "source": [
    "## Shortcuts with `sympy`"
   ]
  },
  {
   "cell_type": "markdown",
   "metadata": {},
   "source": [
    "$$ f(x) = 0.3 x^{3} - x^{2} + 0.4 x + 2 $$\n",
    "\n",
    "$$ \\arg max_x f(x) $$\n",
    "\n",
    "where $x \\in [-4,4] $\n",
    "\n"
   ]
  },
  {
   "cell_type": "code",
   "execution_count": 36,
   "metadata": {},
   "outputs": [
    {
     "data": {
      "image/png": "[encoded data removed]",
      "text/latex": [
       "$$0.3 x^{3} - x^{2} + 0.4 x + 2$$"
      ],
      "text/plain": [
       "     3    2            \n",
       "0.3⋅x  - x  + 0.4⋅x + 2"
      ]
     },
     "execution_count": 36,
     "metadata": {},
     "output_type": "execute_result"
    }
   ],
   "source": [
    "# Our function!\n",
    "x = symbols('x')\n",
    "f = .3*x**3 -x**2 + .4*x +2\n",
    "f"
   ]
  },
  {
   "cell_type": "markdown",
   "metadata": {},
   "source": [
    "#### Step 1"
   ]
  },
  {
   "cell_type": "code",
   "execution_count": 37,
   "metadata": {},
   "outputs": [
    {
     "data": {
      "image/png": "[encoded data removed]",
      "text/latex": [
       "$$0.9 x^{2} - 2 x + 0.4$$"
      ],
      "text/plain": [
       "     2            \n",
       "0.9⋅x  - 2⋅x + 0.4"
      ]
     },
     "execution_count": 37,
     "metadata": {},
     "output_type": "execute_result"
    }
   ],
   "source": [
    "# Find the first derivative\n",
    "df = f.diff()\n",
    "df"
   ]
  },
  {
   "cell_type": "markdown",
   "metadata": {},
   "source": [
    "#### Step 2"
   ]
  },
  {
   "cell_type": "code",
   "execution_count": 38,
   "metadata": {},
   "outputs": [
    {
     "data": {
      "image/png": "[encoded data removed]",
      "text/latex": [
       "$$0.9 x^{2} - 2 x + 0.4 = 0$$"
      ],
      "text/plain": [
       "     2                \n",
       "0.9⋅x  - 2⋅x + 0.4 = 0"
      ]
     },
     "execution_count": 38,
     "metadata": {},
     "output_type": "execute_result"
    }
   ],
   "source": [
    "# Solve for f'(x) = 0\n",
    "Eq(df,0)"
   ]
  },
  {
   "cell_type": "code",
   "execution_count": 39,
   "metadata": {},
   "outputs": [
    {
     "data": {
      "image/png": "[encoded data removed]",
      "text/latex": [
       "$$\\left [ 0.222222222222222, \\quad 2.0\\right ]$$"
      ],
      "text/plain": [
       "[0.222222222222222, 2.0]"
      ]
     },
     "execution_count": 39,
     "metadata": {},
     "output_type": "execute_result"
    }
   ],
   "source": [
    "crit_points = solveset(Eq(df,0),domain=Interval(-4,4))\n",
    "crit_points = list(crit_points)\n",
    "crit_points"
   ]
  },
  {
   "cell_type": "markdown",
   "metadata": {},
   "source": [
    "#### Step 3"
   ]
  },
  {
   "cell_type": "code",
   "execution_count": 40,
   "metadata": {},
   "outputs": [
    {
     "data": {
      "image/png": "[encoded data removed]",
      "text/latex": [
       "$$1.8 x - 2$$"
      ],
      "text/plain": [
       "1.8⋅x - 2"
      ]
     },
     "execution_count": 40,
     "metadata": {},
     "output_type": "execute_result"
    }
   ],
   "source": [
    "# Find the second derivative\n",
    "ddf = df.diff()\n",
    "ddf"
   ]
  },
  {
   "cell_type": "markdown",
   "metadata": {},
   "source": [
    "#### Step 4"
   ]
  },
  {
   "cell_type": "code",
   "execution_count": 41,
   "metadata": {},
   "outputs": [
    {
     "data": {
      "image/png": "[encoded data removed]",
      "text/latex": [
       "$$-2.0$$"
      ],
      "text/plain": [
       "-2.00000000000000"
      ]
     },
     "execution_count": 41,
     "metadata": {},
     "output_type": "execute_result"
    }
   ],
   "source": [
    "# For x* in crit_points, plug each x* in to f''(x)\n",
    "ddf.evalf(subs={x: 0}) # We can plut in values for x like this"
   ]
  },
  {
   "cell_type": "markdown",
   "metadata": {},
   "source": [
    "Let's now plug in our critical points."
   ]
  },
  {
   "cell_type": "code",
   "execution_count": 43,
   "metadata": {},
   "outputs": [
    {
     "name": "stdout",
     "output_type": "stream",
     "text": [
      "f''(0.22) = -1.6 (x* = 0.22 is a local maxima)\n",
      "f''(2.0) = 1.6 (x* = 2.0 is a local minima)\n"
     ]
    }
   ],
   "source": [
    "store = []\n",
    "for x_ in crit_points:\n",
    "    deriv2_eval = ddf.evalf(subs={x: x_})\n",
    "    \n",
    "    # Determine type\n",
    "    cp_type = None\n",
    "    if deriv2_eval > 0:\n",
    "        cp_type =\"local minima\"\n",
    "    elif deriv2_eval < 0:\n",
    "        cp_type =\"local maxima\"\n",
    "    else:\n",
    "        cp_type =\"pot. inflection point\"\n",
    "    \n",
    "    # Print each type\n",
    "    print(f\"f''({round(x_,2)}) = {round(deriv2_eval,2)} (x* = {round(x_,2)} is a {cp_type})\")\n",
    "    \n",
    "    # save output\n",
    "    store.append([x_,deriv2_eval])\n",
    "    \n",
    "store = np.array(store) # convert to numpy matrix"
   ]
  },
  {
   "cell_type": "markdown",
   "metadata": {},
   "source": [
    "#### Step 5"
   ]
  },
  {
   "cell_type": "code",
   "execution_count": 44,
   "metadata": {},
   "outputs": [
    {
     "name": "stdout",
     "output_type": "stream",
     "text": [
      "Interior Extrema:\n",
      "f(0.22) = 2.04\n",
      "f(2.0) = 1.2\n"
     ]
    }
   ],
   "source": [
    "# Find the values for each interior extremum\n",
    "print(\"Interior Extrema:\")\n",
    "for row in store:\n",
    "    crit_val = row[0]\n",
    "    ev = f.evalf(subs={x: crit_val}) # plug back into x\n",
    "    print(f'f({round(crit_val,2)}) = {round(ev,2)}')\n"
   ]
  },
  {
   "cell_type": "markdown",
   "metadata": {},
   "source": [
    "#### Step 6"
   ]
  },
  {
   "cell_type": "code",
   "execution_count": 45,
   "metadata": {},
   "outputs": [
    {
     "name": "stdout",
     "output_type": "stream",
     "text": [
      "Boundary Values:\n",
      "f(-4) = -34.8\n",
      "f(4) = 6.8\n"
     ]
    }
   ],
   "source": [
    "# Find the values of the boundaries\n",
    "boundaries = [-4,4]\n",
    "print('Boundary Values:')\n",
    "for b in boundaries:\n",
    "    ev = f.evalf(subs={x: b})\n",
    "    print(f'f({round(b,2)}) = {round(ev,2)}')"
   ]
  },
  {
   "cell_type": "markdown",
   "metadata": {},
   "source": [
    "Are either of our stationary points global minima or maxima?"
   ]
  },
  {
   "cell_type": "markdown",
   "metadata": {},
   "source": [
    "#### Inspect Visually"
   ]
  },
  {
   "cell_type": "code",
   "execution_count": 46,
   "metadata": {},
   "outputs": [
    {
     "data": {
      "text/html": [
       "\n",
       "\n",
       "\n",
       "\n",
       "\n",
       "\n",
       "  <div class=\"bk-root\" id=\"bc3c06b6-fba0-4205-a65d-32403a2d5898\"></div>\n"
      ]
     },
     "metadata": {},
     "output_type": "display_data"
    },
    {
     "data": {
      "application/javascript": [
       "(function(root) {\n",
       "  function embed_document(root) {\n",
       "    \n",
       "  var docs_json = {\"b18a8806-e14c-4ede-88c8-f813118ff747\":{\"roots\":{\"references\":[{\"attributes\":{\"dimension\":\"height\",\"line_width\":{\"value\":0.5},\"location\":0,\"plot\":null},\"id\":\"9e651587-1915-4d37-a0f8-dc882c992ad5\",\"type\":\"Span\"},{\"attributes\":{},\"id\":\"14ee3840-7d6e-4903-9390-5b35dbdae089\",\"type\":\"Selection\"},{\"attributes\":{\"callback\":null,\"renderers\":\"auto\",\"tooltips\":[[\"f_\",\"$y\"],[\"x\",\"$x\"]]},\"id\":\"8971c106-e0f4-4761-9413-55290930f287\",\"type\":\"HoverTool\"},{\"attributes\":{\"plot\":null,\"text\":\"\"},\"id\":\"e3b148d1-2a10-4876-9e35-c997c583c382\",\"type\":\"Title\"},{\"attributes\":{},\"id\":\"73cdb279-837c-42ca-b00b-0e68910479ed\",\"type\":\"Selection\"},{\"attributes\":{},\"id\":\"7b6aed89-2d06-4673-b6a9-1a3cb82f9f6d\",\"type\":\"UnionRenderers\"},{\"attributes\":{},\"id\":\"b4377fa9-1c07-4b44-a8bd-cd20edec2c1d\",\"type\":\"LinearScale\"},{\"attributes\":{\"line_width\":{\"value\":0.5},\"location\":0,\"plot\":null},\"id\":\"7b11de38-0c0a-475d-8757-43c9cda779fd\",\"type\":\"Span\"},{\"attributes\":{\"callback\":null,\"data\":{\"x\":{\"__ndarray__\":\"AAAAAAAAEMAzMzMzMzMPwGZmZmZmZg7AmZmZmZmZDcDMzMzMzMwMwP///////wvAMjMzMzMzC8BlZmZmZmYKwJiZmZmZmQnAy8zMzMzMCMD+//////8HwDEzMzMzMwfAZGZmZmZmBsCXmZmZmZkFwMrMzMzMzATA/f//////A8AwMzMzMzMDwGNmZmZmZgLAlpmZmZmZAcDJzMzMzMwAwPj///////+/XmZmZmZm/r/EzMzMzMz8vyozMzMzM/u/kJmZmZmZ+b/2///////3v1xmZmZmZva/wszMzMzM9L8oMzMzMzPzv46ZmZmZmfG/6P//////77+0zMzMzMzsv4CZmZmZmem/TGZmZmZm5r8YMzMzMzPjv8j//////9+/YJmZmZmZ2b/4MjMzMzPTvyCZmZmZmcm/oJiZmZmZub8AAAAAAADwPICamZmZmbk/IJqZmZmZyT+AMzMzMzPTP+CZmZmZmdk/IAAAAAAA4D9YMzMzMzPjP5BmZmZmZuY/wJmZmZmZ6T/wzMzMzMzsPxQAAAAAAPA/sJmZmZmZ8T9IMzMzMzPzP+DMzMzMzPQ/fGZmZmZm9j8YAAAAAAD4P7CZmZmZmfk/SDMzMzMz+z/kzMzMzMz8P4BmZmZmZv4/DAAAAAAAAEDYzMzMzMwAQKaZmZmZmQFAdGZmZmZmAkBAMzMzMzMDQAwAAAAAAARA2szMzMzMBEComZmZmZkFQHRmZmZmZgZAQDMzMzMzB0AOAAAAAAAIQNzMzMzMzAhAqJmZmZmZCUB0ZmZmZmYKQEIzMzMzMwtAEAAAAAAADEDczMzMzMwMQKiZmZmZmQ1AdmZmZmZmDkBEMzMzMzMPQAgAAAAAABBA\",\"dtype\":\"float64\",\"shape\":[81]},\"y\":{\"__ndarray__\":\"zMzMzMzMNkDdJAaBleM1QOXQItv5/jRA5NAi2/keNEDcJAaBlUMzQMvMzMzMbDJAs8h2vp+aMUCSGARWDs0wQGm8dJMYBDBAcWiR7Xx/LkD9//////8sQHk/NV66iStA5SYxCKwcKkBBtvP91LgoQI3tfD81XidAyczMzMwMJkDzU+Olm8QkQA2DwMqhhSNAF1pkO99PIkAR2c73UyMhQPb//////x9Ap53vp8bLHUA4i2zn+6kbQKnIdr6fmhlA+VUOLbKdF0AoMzMzM7MVQDZg5dAi2xNAJN0kBoEVEkDwqfHSTWIQQDmNl24Sgw1AT2ZmZmZmCkAl30+Nl24HQLn3U+OlmwRAC7ByaJHtAUA4EFg5tMj+P9j///////k/9C7dJAaB9T+Mne+nxkvxP0aXbhKDwOo/bHJoke184z8amZmZmZnZP7yWbhKDwMo/0NtPjZduoj/QWTm0yHa+v1aq8dJNYtC/RgAAAAAA2L9SWDm0yHbevzXZzvdT4+G/P4cW2c73479TtvP91Hjlv29mZmZmZua/j5duEoPA5r+zSQwCK4fmv+F8PzVeuuW/DzEIrBxa5L9DZmZmZmbivwY5tMh2vt+/lqfGSzeJ2b8eGARWDi3Sv1wV2c73U8O/AAAAAABAAz2kE4PAyqHFPxoRWDm0yNY/NcuhRbbz4T/FDAIrhxbpP6JmZmZmZvA/bgaBlUOL9D+y5dAi2/n4P2oEVg4tsv0/TzEIrBxaAUAvAAAAAAAEQM9uEoPAygZAI30/NV66CUA3K4cW2c4MQIq8dJMYBBBAVjMzMzOzEUD++X5qvHQTQIQQWDm0SBVA8Ha+nxovF0A4LbKd7ycZQF4zMzMzMxtA\",\"dtype\":\"float64\",\"shape\":[81]}},\"selected\":{\"id\":\"666f1edc-3008-4a34-bf1c-e1cfc5254649\",\"type\":\"Selection\"},\"selection_policy\":{\"id\":\"2082598e-0098-417b-a616-82d5a64b7f91\",\"type\":\"UnionRenderers\"}},\"id\":\"dfebc5e6-0dc4-4e39-8a9e-ad251d87261d\",\"type\":\"ColumnDataSource\"},{\"attributes\":{\"line_alpha\":0.6,\"line_width\":4,\"x\":{\"field\":\"x\"},\"y\":{\"field\":\"y\"}},\"id\":\"9cad871c-2b6a-4c91-80b9-edb63f1aa7ca\",\"type\":\"Line\"},{\"attributes\":{\"source\":{\"id\":\"fb44dea4-badc-4d86-9a5d-f42c30f8fdc9\",\"type\":\"ColumnDataSource\"}},\"id\":\"8f1de38a-16f2-42b3-a200-fc042303b056\",\"type\":\"CDSView\"},{\"attributes\":{\"data_source\":{\"id\":\"5335c66e-a9bf-4f17-8d84-5b79b11d332a\",\"type\":\"ColumnDataSource\"},\"glyph\":{\"id\":\"9cad871c-2b6a-4c91-80b9-edb63f1aa7ca\",\"type\":\"Line\"},\"hover_glyph\":null,\"muted_glyph\":{\"id\":\"969b2a4b-125a-4368-a2b4-97574134ceb0\",\"type\":\"Line\"},\"nonselection_glyph\":{\"id\":\"61bf0ddb-a724-49e2-b2ea-77727fdbb0e0\",\"type\":\"Line\"},\"selection_glyph\":null,\"view\":{\"id\":\"b6fb1323-159b-4ae4-97e6-fcade28ef85b\",\"type\":\"CDSView\"}},\"id\":\"ad90dbb5-72cb-44d1-ac7c-ebaa782f628e\",\"type\":\"GlyphRenderer\"},{\"attributes\":{},\"id\":\"130c90c1-bfee-4f88-8398-fc6f2ad3f075\",\"type\":\"Selection\"},{\"attributes\":{},\"id\":\"d761acb4-7385-4c99-bd99-2cb2fec195ec\",\"type\":\"BasicTicker\"},{\"attributes\":{\"callback\":null},\"id\":\"5440ef9d-40df-47d9-9185-ad80179a3ebf\",\"type\":\"DataRange1d\"},{\"attributes\":{\"callback\":null,\"data\":{\"x\":[],\"y\":[]},\"selected\":{\"id\":\"14ee3840-7d6e-4903-9390-5b35dbdae089\",\"type\":\"Selection\"},\"selection_policy\":{\"id\":\"2154745d-8d9c-4341-8d9f-0c1a92e09c90\",\"type\":\"UnionRenderers\"}},\"id\":\"fb44dea4-badc-4d86-9a5d-f42c30f8fdc9\",\"type\":\"ColumnDataSource\"},{\"attributes\":{\"empty_value\":\"black\",\"renderers\":[{\"id\":\"ad4728ef-28af-4784-a2bc-cf11e0b9318f\",\"type\":\"GlyphRenderer\"}]},\"id\":\"f50500d9-71ba-4651-8455-bf8c972b67f1\",\"type\":\"PointDrawTool\"},{\"attributes\":{},\"id\":\"903e1d40-f88e-499f-b59d-e95975a39805\",\"type\":\"BasicTickFormatter\"},{\"attributes\":{\"fill_alpha\":{\"value\":0.1},\"fill_color\":{\"value\":\"#1f77b4\"},\"line_alpha\":{\"value\":0.1},\"line_color\":{\"value\":\"#1f77b4\"},\"size\":{\"units\":\"screen\",\"value\":10},\"x\":{\"field\":\"x\"},\"y\":{\"field\":\"y\"}},\"id\":\"46f8ebbe-54a9-44b6-942a-b7708707192d\",\"type\":\"Circle\"},{\"attributes\":{\"label\":{\"value\":\"f'(x) = 0.9*x**2 - 2*x + 0.4\"},\"renderers\":[{\"id\":\"56dfc307-7a3a-48bf-a7e1-8bf9b222b511\",\"type\":\"GlyphRenderer\"}]},\"id\":\"cc3ed056-7978-4312-92cb-83daf9a9663b\",\"type\":\"LegendItem\"},{\"attributes\":{},\"id\":\"454a6f15-3d92-4bf9-8c44-c1bde7d3bc82\",\"type\":\"BasicTicker\"},{\"attributes\":{},\"id\":\"8569be39-533e-41e4-a147-77c45de6a3a5\",\"type\":\"BasicTickFormatter\"},{\"attributes\":{\"fill_color\":{\"value\":\"black\"},\"size\":{\"units\":\"screen\",\"value\":10},\"x\":{\"field\":\"x\"},\"y\":{\"field\":\"y\"}},\"id\":\"9dc0e2aa-7bae-4e6b-8027-03f6fa84b721\",\"type\":\"Circle\"},{\"attributes\":{\"label\":{\"value\":\"f''(x) = 1.8*x - 2\"},\"renderers\":[{\"id\":\"cec53dfb-cab5-47e4-b61b-076d400aa3a0\",\"type\":\"GlyphRenderer\"}]},\"id\":\"6b0ea0ee-7c6c-4a2b-8467-c91b15b6b891\",\"type\":\"LegendItem\"},{\"attributes\":{},\"id\":\"3b757c1c-b88d-41b9-9c8c-00dbc7b730c3\",\"type\":\"UnionRenderers\"},{\"attributes\":{\"data_source\":{\"id\":\"fb44dea4-badc-4d86-9a5d-f42c30f8fdc9\",\"type\":\"ColumnDataSource\"},\"glyph\":{\"id\":\"9dc0e2aa-7bae-4e6b-8027-03f6fa84b721\",\"type\":\"Circle\"},\"hover_glyph\":null,\"muted_glyph\":null,\"nonselection_glyph\":{\"id\":\"46f8ebbe-54a9-44b6-942a-b7708707192d\",\"type\":\"Circle\"},\"selection_glyph\":null,\"view\":{\"id\":\"8f1de38a-16f2-42b3-a200-fc042303b056\",\"type\":\"CDSView\"}},\"id\":\"ad4728ef-28af-4784-a2bc-cf11e0b9318f\",\"type\":\"GlyphRenderer\"},{\"attributes\":{\"click_policy\":\"mute\",\"items\":[{\"id\":\"de2a449e-672f-4139-bbe5-0cd5dea7e9e5\",\"type\":\"LegendItem\"},{\"id\":\"cc3ed056-7978-4312-92cb-83daf9a9663b\",\"type\":\"LegendItem\"},{\"id\":\"6b0ea0ee-7c6c-4a2b-8467-c91b15b6b891\",\"type\":\"LegendItem\"}],\"location\":\"top_left\",\"plot\":{\"id\":\"a542da86-e7de-433b-9d79-fadd722ddb7a\",\"subtype\":\"Figure\",\"type\":\"Plot\"}},\"id\":\"481ab14b-cd36-4221-a076-cd5a07304341\",\"type\":\"Legend\"},{\"attributes\":{\"below\":[{\"id\":\"84a2d8f1-34d0-4c72-b641-0e75363f9a74\",\"type\":\"LinearAxis\"}],\"left\":[{\"id\":\"357b0aa2-1c6b-4bc6-94e7-7071f6722527\",\"type\":\"LinearAxis\"}],\"plot_height\":400,\"plot_width\":700,\"renderers\":[{\"id\":\"84a2d8f1-34d0-4c72-b641-0e75363f9a74\",\"type\":\"LinearAxis\"},{\"id\":\"0744a661-3dea-44b9-9c27-886746cd8eb5\",\"type\":\"Grid\"},{\"id\":\"357b0aa2-1c6b-4bc6-94e7-7071f6722527\",\"type\":\"LinearAxis\"},{\"id\":\"d7a365b6-40d1-4384-b034-3819a1a05bfc\",\"type\":\"Grid\"},{\"id\":\"7b11de38-0c0a-475d-8757-43c9cda779fd\",\"type\":\"Span\"},{\"id\":\"9e651587-1915-4d37-a0f8-dc882c992ad5\",\"type\":\"Span\"},{\"id\":\"481ab14b-cd36-4221-a076-cd5a07304341\",\"type\":\"Legend\"},{\"id\":\"ad90dbb5-72cb-44d1-ac7c-ebaa782f628e\",\"type\":\"GlyphRenderer\"},{\"id\":\"56dfc307-7a3a-48bf-a7e1-8bf9b222b511\",\"type\":\"GlyphRenderer\"},{\"id\":\"cec53dfb-cab5-47e4-b61b-076d400aa3a0\",\"type\":\"GlyphRenderer\"},{\"id\":\"ad4728ef-28af-4784-a2bc-cf11e0b9318f\",\"type\":\"GlyphRenderer\"}],\"title\":{\"id\":\"e3b148d1-2a10-4876-9e35-c997c583c382\",\"type\":\"Title\"},\"toolbar\":{\"id\":\"b3e72706-358d-411f-b1d4-72e487e4330b\",\"type\":\"Toolbar\"},\"toolbar_location\":\"above\",\"x_range\":{\"id\":\"5440ef9d-40df-47d9-9185-ad80179a3ebf\",\"type\":\"DataRange1d\"},\"x_scale\":{\"id\":\"b18ab599-496f-4f2e-87b9-95901e566141\",\"type\":\"LinearScale\"},\"y_range\":{\"id\":\"ba28282c-d2ae-45a9-8c9c-0638f5f042f5\",\"type\":\"DataRange1d\"},\"y_scale\":{\"id\":\"b4377fa9-1c07-4b44-a8bd-cd20edec2c1d\",\"type\":\"LinearScale\"}},\"id\":\"a542da86-e7de-433b-9d79-fadd722ddb7a\",\"subtype\":\"Figure\",\"type\":\"Plot\"},{\"attributes\":{\"callback\":null,\"data\":{\"x\":{\"__ndarray__\":\"AAAAAAAAEMAzMzMzMzMPwGZmZmZmZg7AmZmZmZmZDcDMzMzMzMwMwP///////wvAMjMzMzMzC8BlZmZmZmYKwJiZmZmZmQnAy8zMzMzMCMD+//////8HwDEzMzMzMwfAZGZmZmZmBsCXmZmZmZkFwMrMzMzMzATA/f//////A8AwMzMzMzMDwGNmZmZmZgLAlpmZmZmZAcDJzMzMzMwAwPj///////+/XmZmZmZm/r/EzMzMzMz8vyozMzMzM/u/kJmZmZmZ+b/2///////3v1xmZmZmZva/wszMzMzM9L8oMzMzMzPzv46ZmZmZmfG/6P//////77+0zMzMzMzsv4CZmZmZmem/TGZmZmZm5r8YMzMzMzPjv8j//////9+/YJmZmZmZ2b/4MjMzMzPTvyCZmZmZmcm/oJiZmZmZub8AAAAAAADwPICamZmZmbk/IJqZmZmZyT+AMzMzMzPTP+CZmZmZmdk/IAAAAAAA4D9YMzMzMzPjP5BmZmZmZuY/wJmZmZmZ6T/wzMzMzMzsPxQAAAAAAPA/sJmZmZmZ8T9IMzMzMzPzP+DMzMzMzPQ/fGZmZmZm9j8YAAAAAAD4P7CZmZmZmfk/SDMzMzMz+z/kzMzMzMz8P4BmZmZmZv4/DAAAAAAAAEDYzMzMzMwAQKaZmZmZmQFAdGZmZmZmAkBAMzMzMzMDQAwAAAAAAARA2szMzMzMBEComZmZmZkFQHRmZmZmZgZAQDMzMzMzB0AOAAAAAAAIQNzMzMzMzAhAqJmZmZmZCUB0ZmZmZmYKQEIzMzMzMwtAEAAAAAAADEDczMzMzMwMQKiZmZmZmQ1AdmZmZmZmDkBEMzMzMzMPQAgAAAAAABBA\",\"dtype\":\"float64\",\"shape\":[81]},\"y\":{\"__ndarray__\":\"Z2ZmZmZmQcBxrIvbaEhAwFz+Q/rtaz7AO5tVn6tdPMCDDU+vlGU6wDAzMzMzgzjASOoENBG2NsDIEMe6uP00wLOEfNCzWTPAByQofozJMcDJzMzMzEwwwO652or9xS3AI2UZ4lgXK8A3V1uxv4wowCdMpgpGJSbA+P/////fI8CpLm6jAbwhwH4o7Q2+cB/Abtk9eVioG8Au6Nms+hwYwLzMzMzMzBTAHv8h/fa1EcCs7snDQq0NwNBaQj7oWQjAsDLEsS5uA8CWzMzMzMz9v17Lf0i/ffW/hIOezarP678wP6Tfvg7cv0CxYn/ZPam/0DMzMzMz0z9Ib4EExY/jP/CUZYhjXew/ZCV1ApoI8j9Y6Nms+lz1P0ozMzMzM/g/KyZTBaOS+j/v4AuTqYL8P4iDL0ymCv4/6i2QoPgx/z8DAAAAAAAAQOmMKO0NPgBAn82qz9VWAEAf0m9fB04AQGKqYFRSJwBAx8zMzMzM/z80LNSa5h3/PwCTqYJRSf4/IiEf9GxW/T+J9gZfmEz8PyYzMzMzM/s/7fZ14JwR+j/WYaHWNO/4P9KTh4Va0/c/zKz6XG3F9j/AzMzMzMz1P54T0ETY8PQ/WqHWNO849D/klbIMcazzPzARNjy9UvM/MjMzMzMz8z/eG3xhMlXzPybr4jYawPM//MA5I0p79D9OvVKWIY71PxYAAAAAAPc/R6kT0ETY+D/X2F92Tx77P6+utmJ/2f0/ZSV1ApqIAECIZmZmZmYCQMYqGJXUiQRACIJzRpT2BkBNfGEyVbAJQJwpyxDHugxA8czMzMwMEECI7lpCPugRQJSBBMWP8RNAGg6+MJkqFkARHHxhMpUYQGozMzMzMxtA\",\"dtype\":\"float64\",\"shape\":[81]}},\"selected\":{\"id\":\"73cdb279-837c-42ca-b00b-0e68910479ed\",\"type\":\"Selection\"},\"selection_policy\":{\"id\":\"7b6aed89-2d06-4673-b6a9-1a3cb82f9f6d\",\"type\":\"UnionRenderers\"}},\"id\":\"5335c66e-a9bf-4f17-8d84-5b79b11d332a\",\"type\":\"ColumnDataSource\"},{\"attributes\":{\"line_alpha\":0.6,\"line_color\":\"orange\",\"line_width\":4,\"x\":{\"field\":\"x\"},\"y\":{\"field\":\"y\"}},\"id\":\"e50b8540-959a-4e38-a8ee-a42f064689fb\",\"type\":\"Line\"},{\"attributes\":{},\"id\":\"2154745d-8d9c-4341-8d9f-0c1a92e09c90\",\"type\":\"UnionRenderers\"},{\"attributes\":{\"active_drag\":\"auto\",\"active_inspect\":\"auto\",\"active_multi\":null,\"active_scroll\":\"auto\",\"active_tap\":{\"id\":\"f50500d9-71ba-4651-8455-bf8c972b67f1\",\"type\":\"PointDrawTool\"},\"tools\":[{\"id\":\"58365864-0c4e-4fe4-8e11-e3507b3c7d03\",\"type\":\"PanTool\"},{\"id\":\"8971c106-e0f4-4761-9413-55290930f287\",\"type\":\"HoverTool\"},{\"id\":\"98263022-9237-4096-9e1d-47d06a18ff22\",\"type\":\"WheelZoomTool\"},{\"id\":\"7a796140-25f4-4380-b459-b92b9e3e71cd\",\"type\":\"ResetTool\"},{\"id\":\"f50500d9-71ba-4651-8455-bf8c972b67f1\",\"type\":\"PointDrawTool\"}]},\"id\":\"b3e72706-358d-411f-b1d4-72e487e4330b\",\"type\":\"Toolbar\"},{\"attributes\":{\"source\":{\"id\":\"21dbd5ef-ec9c-4c05-84fe-5f4245729c90\",\"type\":\"ColumnDataSource\"}},\"id\":\"fcd1ab49-d527-4327-a3ee-04ff3d01745e\",\"type\":\"CDSView\"},{\"attributes\":{\"line_alpha\":0.1,\"line_color\":\"orange\",\"line_width\":4,\"x\":{\"field\":\"x\"},\"y\":{\"field\":\"y\"}},\"id\":\"353e2ce2-33d9-46a2-8709-ab10819200e9\",\"type\":\"Line\"},{\"attributes\":{\"dimension\":1,\"plot\":{\"id\":\"a542da86-e7de-433b-9d79-fadd722ddb7a\",\"subtype\":\"Figure\",\"type\":\"Plot\"},\"ticker\":{\"id\":\"d761acb4-7385-4c99-bd99-2cb2fec195ec\",\"type\":\"BasicTicker\"}},\"id\":\"d7a365b6-40d1-4384-b034-3819a1a05bfc\",\"type\":\"Grid\"},{\"attributes\":{\"data_source\":{\"id\":\"21dbd5ef-ec9c-4c05-84fe-5f4245729c90\",\"type\":\"ColumnDataSource\"},\"glyph\":{\"id\":\"e50b8540-959a-4e38-a8ee-a42f064689fb\",\"type\":\"Line\"},\"hover_glyph\":null,\"muted_glyph\":{\"id\":\"353e2ce2-33d9-46a2-8709-ab10819200e9\",\"type\":\"Line\"},\"nonselection_glyph\":{\"id\":\"68e1dcf1-144d-452d-9170-83814c6f886c\",\"type\":\"Line\"},\"selection_glyph\":null,\"view\":{\"id\":\"fcd1ab49-d527-4327-a3ee-04ff3d01745e\",\"type\":\"CDSView\"}},\"id\":\"cec53dfb-cab5-47e4-b61b-076d400aa3a0\",\"type\":\"GlyphRenderer\"},{\"attributes\":{},\"id\":\"58365864-0c4e-4fe4-8e11-e3507b3c7d03\",\"type\":\"PanTool\"},{\"attributes\":{\"line_alpha\":0.1,\"line_width\":4,\"x\":{\"field\":\"x\"},\"y\":{\"field\":\"y\"}},\"id\":\"969b2a4b-125a-4368-a2b4-97574134ceb0\",\"type\":\"Line\"},{\"attributes\":{},\"id\":\"666f1edc-3008-4a34-bf1c-e1cfc5254649\",\"type\":\"Selection\"},{\"attributes\":{},\"id\":\"b18ab599-496f-4f2e-87b9-95901e566141\",\"type\":\"LinearScale\"},{\"attributes\":{\"line_alpha\":0.1,\"line_color\":\"steelblue\",\"line_width\":4,\"x\":{\"field\":\"x\"},\"y\":{\"field\":\"y\"}},\"id\":\"ac417918-78bf-4b0b-b75f-37d007671bdc\",\"type\":\"Line\"},{\"attributes\":{\"formatter\":{\"id\":\"903e1d40-f88e-499f-b59d-e95975a39805\",\"type\":\"BasicTickFormatter\"},\"plot\":{\"id\":\"a542da86-e7de-433b-9d79-fadd722ddb7a\",\"subtype\":\"Figure\",\"type\":\"Plot\"},\"ticker\":{\"id\":\"d761acb4-7385-4c99-bd99-2cb2fec195ec\",\"type\":\"BasicTicker\"}},\"id\":\"357b0aa2-1c6b-4bc6-94e7-7071f6722527\",\"type\":\"LinearAxis\"},{\"attributes\":{\"line_alpha\":0.1,\"line_color\":\"#1f77b4\",\"line_width\":4,\"x\":{\"field\":\"x\"},\"y\":{\"field\":\"y\"}},\"id\":\"68e1dcf1-144d-452d-9170-83814c6f886c\",\"type\":\"Line\"},{\"attributes\":{},\"id\":\"98263022-9237-4096-9e1d-47d06a18ff22\",\"type\":\"WheelZoomTool\"},{\"attributes\":{\"axis_label\":\"X\",\"formatter\":{\"id\":\"8569be39-533e-41e4-a147-77c45de6a3a5\",\"type\":\"BasicTickFormatter\"},\"plot\":{\"id\":\"a542da86-e7de-433b-9d79-fadd722ddb7a\",\"subtype\":\"Figure\",\"type\":\"Plot\"},\"ticker\":{\"id\":\"454a6f15-3d92-4bf9-8c44-c1bde7d3bc82\",\"type\":\"BasicTicker\"}},\"id\":\"84a2d8f1-34d0-4c72-b641-0e75363f9a74\",\"type\":\"LinearAxis\"},{\"attributes\":{\"callback\":null,\"data\":{\"x\":{\"__ndarray__\":\"AAAAAAAAEMAzMzMzMzMPwGZmZmZmZg7AmZmZmZmZDcDMzMzMzMwMwP///////wvAMjMzMzMzC8BlZmZmZmYKwJiZmZmZmQnAy8zMzMzMCMD+//////8HwDEzMzMzMwfAZGZmZmZmBsCXmZmZmZkFwMrMzMzMzATA/f//////A8AwMzMzMzMDwGNmZmZmZgLAlpmZmZmZAcDJzMzMzMwAwPj///////+/XmZmZmZm/r/EzMzMzMz8vyozMzMzM/u/kJmZmZmZ+b/2///////3v1xmZmZmZva/wszMzMzM9L8oMzMzMzPzv46ZmZmZmfG/6P//////77+0zMzMzMzsv4CZmZmZmem/TGZmZmZm5r8YMzMzMzPjv8j//////9+/YJmZmZmZ2b/4MjMzMzPTvyCZmZmZmcm/oJiZmZmZub8AAAAAAADwPICamZmZmbk/IJqZmZmZyT+AMzMzMzPTP+CZmZmZmdk/IAAAAAAA4D9YMzMzMzPjP5BmZmZmZuY/wJmZmZmZ6T/wzMzMzMzsPxQAAAAAAPA/sJmZmZmZ8T9IMzMzMzPzP+DMzMzMzPQ/fGZmZmZm9j8YAAAAAAD4P7CZmZmZmfk/SDMzMzMz+z/kzMzMzMz8P4BmZmZmZv4/DAAAAAAAAEDYzMzMzMwAQKaZmZmZmQFAdGZmZmZmAkBAMzMzMzMDQAwAAAAAAARA2szMzMzMBEComZmZmZkFQHRmZmZmZgZAQDMzMzMzB0AOAAAAAAAIQNzMzMzMzAhAqJmZmZmZCUB0ZmZmZmYKQEIzMzMzMwtAEAAAAAAADEDczMzMzMwMQKiZmZmZmQ1AdmZmZmZmDkBEMzMzMzMPQAgAAAAAABBA\",\"dtype\":\"float64\",\"shape\":[81]},\"y\":{\"__ndarray__\":\"ZmZmZmZmIsAK16NwPQoiwK5H4XoUriHAUrgehetRIcD2KFyPwvUgwJmZmZmZmSDAPQrXo3A9IMDB9Shcj8IfwAnXo3A9Ch/AULgehetRHsCYmZmZmZkdwN96FK5H4RzAJ1yPwvUoHMBuPQrXo3AbwLYehetRuBrA/f//////GcBF4XoUrkcZwIzC9ShcjxjA1KNwPQrXF8AchetRuB4XwGNmZmZmZhbAqkfhehSuFcDyKFyPwvUUwDoK16NwPRTAgetRuB6FE8DIzMzMzMwSwBCuR+F6FBLAWI/C9ShcEcCfcD0K16MQwMyjcD0K1w/AXGZmZmZmDsDqKFyPwvUMwHrrUbgehQvACK5H4XoUCsCYcD0K16MIwCczMzMzMwfAtvUoXI/CBcBFuB6F61EEwNR6FK5H4QLAYz0K16NwAcDj////////vwWF61G4Hv2/HwrXo3A9+r86j8L1KFz3v1sUrkfhevS/fJmZmZmZ8b8uPQrXo3Dtv2JH4XoUrue/plG4HoXr4b/Utx6F61HYv3iYmZmZmcm/QAquR+F6lL+wFa5H4XrEP1D2KFyPwtU/9HA9Ctej4D+8ZmZmZmbmP3xcj8L1KOw/HClcj8L18D8CpHA9CtfzP+YehetRuPY/xpmZmZmZ+T+kFK5H4Xr8P4qPwvUoXP8/OIXrUbgeAUCmwvUoXI8CQBYAAAAAAARAiD0K16NwBUD8ehSuR+EGQGq4HoXrUQhA2vUoXI/CCUBMMzMzMzMLQMBwPQrXowxALq5H4XoUDkCe61G4HoUPQIgUrkfhehBAQjMzMzMzEUD5UbgehesRQLFwPQrXoxJAao/C9ShcE0AkrkfhehQUQNvMzMzMzBRA\",\"dtype\":\"float64\",\"shape\":[81]}},\"selected\":{\"id\":\"130c90c1-bfee-4f88-8398-fc6f2ad3f075\",\"type\":\"Selection\"},\"selection_policy\":{\"id\":\"3b757c1c-b88d-41b9-9c8c-00dbc7b730c3\",\"type\":\"UnionRenderers\"}},\"id\":\"21dbd5ef-ec9c-4c05-84fe-5f4245729c90\",\"type\":\"ColumnDataSource\"},{\"attributes\":{},\"id\":\"7a796140-25f4-4380-b459-b92b9e3e71cd\",\"type\":\"ResetTool\"},{\"attributes\":{\"line_alpha\":0.6,\"line_color\":\"steelblue\",\"line_width\":4,\"x\":{\"field\":\"x\"},\"y\":{\"field\":\"y\"}},\"id\":\"7449e589-c019-4154-833a-412d78d81105\",\"type\":\"Line\"},{\"attributes\":{\"label\":{\"value\":\"f(x) = 0.3*x**3 - x**2 + 0.4*x + 2\"},\"renderers\":[{\"id\":\"ad90dbb5-72cb-44d1-ac7c-ebaa782f628e\",\"type\":\"GlyphRenderer\"}]},\"id\":\"de2a449e-672f-4139-bbe5-0cd5dea7e9e5\",\"type\":\"LegendItem\"},{\"attributes\":{\"data_source\":{\"id\":\"dfebc5e6-0dc4-4e39-8a9e-ad251d87261d\",\"type\":\"ColumnDataSource\"},\"glyph\":{\"id\":\"7449e589-c019-4154-833a-412d78d81105\",\"type\":\"Line\"},\"hover_glyph\":null,\"muted_glyph\":{\"id\":\"ac417918-78bf-4b0b-b75f-37d007671bdc\",\"type\":\"Line\"},\"nonselection_glyph\":{\"id\":\"97cc0d9f-430e-4f40-8431-96e7465be4d7\",\"type\":\"Line\"},\"selection_glyph\":null,\"view\":{\"id\":\"3bd2a53e-4e3c-4fac-852b-fbd4f9e97f1e\",\"type\":\"CDSView\"}},\"id\":\"56dfc307-7a3a-48bf-a7e1-8bf9b222b511\",\"type\":\"GlyphRenderer\"},{\"attributes\":{\"plot\":{\"id\":\"a542da86-e7de-433b-9d79-fadd722ddb7a\",\"subtype\":\"Figure\",\"type\":\"Plot\"},\"ticker\":{\"id\":\"454a6f15-3d92-4bf9-8c44-c1bde7d3bc82\",\"type\":\"BasicTicker\"}},\"id\":\"0744a661-3dea-44b9-9c27-886746cd8eb5\",\"type\":\"Grid\"},{\"attributes\":{\"source\":{\"id\":\"5335c66e-a9bf-4f17-8d84-5b79b11d332a\",\"type\":\"ColumnDataSource\"}},\"id\":\"b6fb1323-159b-4ae4-97e6-fcade28ef85b\",\"type\":\"CDSView\"},{\"attributes\":{\"source\":{\"id\":\"dfebc5e6-0dc4-4e39-8a9e-ad251d87261d\",\"type\":\"ColumnDataSource\"}},\"id\":\"3bd2a53e-4e3c-4fac-852b-fbd4f9e97f1e\",\"type\":\"CDSView\"},{\"attributes\":{\"line_alpha\":0.1,\"line_color\":\"#1f77b4\",\"line_width\":4,\"x\":{\"field\":\"x\"},\"y\":{\"field\":\"y\"}},\"id\":\"61bf0ddb-a724-49e2-b2ea-77727fdbb0e0\",\"type\":\"Line\"},{\"attributes\":{},\"id\":\"2082598e-0098-417b-a616-82d5a64b7f91\",\"type\":\"UnionRenderers\"},{\"attributes\":{\"line_alpha\":0.1,\"line_color\":\"#1f77b4\",\"line_width\":4,\"x\":{\"field\":\"x\"},\"y\":{\"field\":\"y\"}},\"id\":\"97cc0d9f-430e-4f40-8431-96e7465be4d7\",\"type\":\"Line\"},{\"attributes\":{\"callback\":null},\"id\":\"ba28282c-d2ae-45a9-8c9c-0638f5f042f5\",\"type\":\"DataRange1d\"}],\"root_ids\":[\"a542da86-e7de-433b-9d79-fadd722ddb7a\"]},\"title\":\"Bokeh Application\",\"version\":\"0.13.0\"}};\n",
       "  var render_items = [{\"docid\":\"b18a8806-e14c-4ede-88c8-f813118ff747\",\"roots\":{\"a542da86-e7de-433b-9d79-fadd722ddb7a\":\"bc3c06b6-fba0-4205-a65d-32403a2d5898\"}}];\n",
       "  root.Bokeh.embed.embed_items_notebook(docs_json, render_items);\n",
       "\n",
       "  }\n",
       "  if (root.Bokeh !== undefined) {\n",
       "    embed_document(root);\n",
       "  } else {\n",
       "    var attempts = 0;\n",
       "    var timer = setInterval(function(root) {\n",
       "      if (root.Bokeh !== undefined) {\n",
       "        embed_document(root);\n",
       "        clearInterval(timer);\n",
       "      }\n",
       "      attempts++;\n",
       "      if (attempts > 100) {\n",
       "        console.log(\"Bokeh: ERROR: Unable to run BokehJS code because BokehJS library is missing\")\n",
       "        clearInterval(timer);\n",
       "      }\n",
       "    }, 10, root)\n",
       "  }\n",
       "})(window);"
      ],
      "application/vnd.bokehjs_exec.v0+json": ""
     },
     "metadata": {
      "application/vnd.bokehjs_exec.v0+json": {
       "id": "a542da86-e7de-433b-9d79-fadd722ddb7a"
      }
     },
     "output_type": "display_data"
    }
   ],
   "source": [
    "graph(.3*x**3 -x**2 + .4*x +2 ,x,start=-4,end=4)"
   ]
  },
  {
   "cell_type": "markdown",
   "metadata": {},
   "source": [
    "# You Try it!"
   ]
  },
  {
   "cell_type": "markdown",
   "metadata": {},
   "source": [
    "Find all extrema for the following functions along the specified domain. State whether each extremum is a minimum or maximum. Of the minima and maxima, state which are local and which are global."
   ]
  },
  {
   "cell_type": "markdown",
   "metadata": {},
   "source": [
    "1. $$ f(x) = 6x - x^2 + 12, x\\in [0,10]$$"
   ]
  },
  {
   "cell_type": "markdown",
   "metadata": {},
   "source": [
    "2. $$ f(x) = -4 + 3x^3, x\\in [0,10]$$"
   ]
  },
  {
   "cell_type": "markdown",
   "metadata": {},
   "source": [
    "3. $$ f(x) = ln(1+x) - x^2, x \\in [-2,2]$$"
   ]
  },
  {
   "cell_type": "markdown",
   "metadata": {},
   "source": [
    "# Scipy's `optimize`\n",
    "\n",
    "Python has a range of optimization algorithms, some of which we will touch in the forthcoming lectures. For now, I just want to put `scipy` on your radar."
   ]
  },
  {
   "cell_type": "code",
   "execution_count": 47,
   "metadata": {},
   "outputs": [],
   "source": [
    "from scipy import optimize"
   ]
  },
  {
   "cell_type": "code",
   "execution_count": 48,
   "metadata": {},
   "outputs": [],
   "source": [
    "# Set our objective function\n",
    "def f(x):\n",
    "    return .3*x**3 -x**2 + .4*x +2"
   ]
  },
  {
   "cell_type": "code",
   "execution_count": 49,
   "metadata": {},
   "outputs": [],
   "source": [
    "result = optimize.minimize_scalar(f,bounds=(-4,4),method='bounded')"
   ]
  },
  {
   "cell_type": "code",
   "execution_count": 50,
   "metadata": {},
   "outputs": [
    {
     "data": {
      "text/plain": [
       "     fun: -34.79991872352222\n",
       " message: 'Solution found.'\n",
       "    nfev: 30\n",
       "  status: 0\n",
       " success: True\n",
       "       x: -3.999996435239639"
      ]
     },
     "execution_count": 50,
     "metadata": {},
     "output_type": "execute_result"
    }
   ],
   "source": [
    "result"
   ]
  }
 ],
 "metadata": {
  "kernelspec": {
   "display_name": "Python 3",
   "language": "python",
   "name": "python3"
  },
  "language_info": {
   "codemirror_mode": {
    "name": "ipython",
    "version": 3
   },
   "file_extension": ".py",
   "mimetype": "text/x-python",
   "name": "python",
   "nbconvert_exporter": "python",
   "pygments_lexer": "ipython3",
   "version": "3.7.0"
  },
  "toc": {
   "base_numbering": 1,
   "nav_menu": {},
   "number_sections": false,
   "sideBar": false,
   "skip_h1_title": false,
   "title_cell": "Table of Contents",
   "title_sidebar": "Contents",
   "toc_cell": false,
   "toc_position": {},
   "toc_section_display": true,
   "toc_window_display": false
  }
 },
 "nbformat": 4,
 "nbformat_minor": 2
}
