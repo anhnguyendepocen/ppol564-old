{
 "cells": [
  {
   "cell_type": "markdown",
   "metadata": {},
   "source": [
    "<h1><center> PPOL564 | DS1: Foundations </center><h1>\n",
    "<h3><center> Lecture 24 <br><br><font color='grey'> \n",
    "Bayes </font></center></h3>\n",
    "\n",
    "### Today's Topics\n",
    "\n",
    "- Introduce Bayes theorem\n",
    "- Naive Bayes Classification \n"
   ]
  },
  {
   "cell_type": "code",
   "execution_count": 1,
   "metadata": {},
   "outputs": [],
   "source": [
    "import pandas as pd\n",
    "import numpy as np\n",
    "import pprint as pp # for printing\n",
    "import scipy.stats as st # for Normal PDF\n",
    "import matplotlib.pyplot as plt\n",
    "import seaborn as sns\n",
    "import warnings\n",
    "import requests\n",
    "warnings.filterwarnings(\"ignore\")\n",
    "plt.style.use('ggplot')"
   ]
  },
  {
   "cell_type": "markdown",
   "metadata": {},
   "source": [
    "Download data from Github"
   ]
  },
  {
   "cell_type": "code",
   "execution_count": 2,
   "metadata": {},
   "outputs": [],
   "source": [
    "def download_data(git_loc,dest_name):\n",
    "    '''\n",
    "    Download data from Github and save to the notebook's working directory.\n",
    "    '''\n",
    "    req = requests.get(git_loc)\n",
    "    with open(dest_name,\"w\") as file:\n",
    "        for line in req.text:\n",
    "            file.writelines(line)\n",
    "\n",
    "# civil war data.            \n",
    "download_data(\"https://raw.githubusercontent.com/edunford/ppol564/master/lectures/lecture_24/civil_war.csv\",\n",
    "             \"civil_war.csv\")            \n",
    "            \n",
    "# Same data from the 2nd gradient descent lecture \n",
    "download_data('https://raw.githubusercontent.com/edunford/ppol564/master/lectures/lecture_22/test_data.csv',\n",
    "         \"test_data.csv\")\n",
    "download_data('https://raw.githubusercontent.com/edunford/ppol564/master/lectures/lecture_22/training_data.csv',\n",
    "         \"training_data.csv\")"
   ]
  },
  {
   "cell_type": "markdown",
   "metadata": {},
   "source": [
    "# Bayes Theorem"
   ]
  },
  {
   "cell_type": "markdown",
   "metadata": {},
   "source": [
    "Recall that the join probability of event $A$ conditional on $B$ can can be expressed as\n",
    "\n",
    "<br><br>\n",
    "\n",
    "$$Pr(A \\cap B) = Pr(B | A)Pr(A) = Pr(A|B)Pr(B)$$\n",
    "\n",
    "<br><br>\n",
    "\n",
    "Which offers a way defining a conditional probability. \n",
    "\n",
    "<br><br>\n",
    "\n",
    "$$Pr(B | A)Pr(A) = Pr(A|B)Pr(B)$$\n",
    "\n",
    "<br><br>\n",
    "\n",
    "\\begin{equation}\n",
    "Pr(B | A) = \\frac{Pr(A|B)Pr(B)}{Pr(A)}\n",
    "\\end{equation}\n",
    "\n",
    "<br><br>\n",
    "\n",
    "Bayes rule (or Bayes Theorem) offers a way of re-arranging the above. \n",
    "\n",
    "<br><br>\n",
    "\n",
    "\\begin{equation}\n",
    "Pr(A | B) = \\frac{Pr(B|A)Pr(A)}{Pr(B)}\n",
    "\\end{equation}\n",
    "\n",
    "<br><br>\n",
    "\n",
    "This is useful when $Pr(A | B)$ is easier to calculate than $Pr(B | A)$ (or vice versa) or when the joint probability is unknown. \n",
    "\n",
    "Looking at the above equation, we might not know $Pr(B)$. However, we can calculate it by using information that we do have. \n",
    "\n",
    "<br><br>\n",
    "\n",
    "$$ Pr(B) = Pr(B | A)Pr(A) + Pr(B | A^{not})Pr(A^{not}) $$\n",
    "\n",
    "<br><br>\n",
    "\n",
    "where \n",
    "\n",
    "- $Pr(A^{not}) = 1 - Pr(A)$\n",
    "- $Pr(B | A^{not}) = 1 - Pr(B^{not}|A^{not})$\n",
    "\n",
    "This offers a complete formulation of Bayes theorem. \n",
    "\n",
    "<br><br>\n",
    "\n",
    "\\begin{equation}\n",
    "Pr(A | B) = \\frac{Pr(B|A)Pr(A)}{Pr(B | A)Pr(A) + Pr(B | A^{not})Pr(A^{not})}\n",
    "\\end{equation}\n",
    "\n",
    "<br><br>\n",
    "\n",
    "Where \n",
    "\n",
    "- $Pr(B|A)$ is the **likelihood** of event $B$ given $A$.\n",
    "- $Pr(A)$ is the **prior** probability of event $A$ (i.e. our belief about the likelihood of event $A$)\n",
    "- $Pr(B)$ or $Pr(B | A)Pr(A) + Pr(B | A^{not})Pr(A^{not})$ is a **normalizing constant** (it ensures the probabilities sum to 1). \n",
    "- $Pr(A|B)$ is known as the **posterior** probability. The updated probability of event $A$ given $B$ after learning something from the data. \n",
    "\n",
    "<br><br>\n",
    "\n",
    "Put simply, \n",
    "\n",
    "$$\\text{Posterior} \\propto \\text{Likelihood}\\times \\text{Prior}$$\n",
    "\n",
    "<br><br>"
   ]
  },
  {
   "cell_type": "markdown",
   "metadata": {},
   "source": [
    "## Example 1"
   ]
  },
  {
   "cell_type": "markdown",
   "metadata": {},
   "source": [
    "Let's work through an example. \n",
    "\n",
    "> Say we have a test that predicts HIV in a patient. The test successfully detects all infections. However, the test returns positive result for 1% of healthy people. Only .1% of people are believed to have HIV in the population. Now, say you just took the test and received a positive result. **_What's the probability that you have HIV?_**"
   ]
  },
  {
   "cell_type": "markdown",
   "metadata": {},
   "source": [
    "Let's set the problem up into a Bayesian formulation. \n",
    "\n",
    "<br><br>\n",
    "\n",
    "$$ Pr(HIV = 1 | Test = 1) = \\frac{Pr(Test = 1 | HIV = 1)Pr(HIV=1)}{Pr(Test = 1)}$$\n",
    "\n",
    "<br><br>\n",
    "\n",
    "Now, let's plug in the information that we know.\n",
    "\n",
    "- The test perfectly detects all true HIV cases: $Pr(Test = 1 | HIV = 1) = 1$\n",
    "- The test reports positive in 1% of healthy: $Pr(Test = 1 | HIV = 0) = .01$\n",
    "- Only .1% of the population has HIV: $Pr(HIV = 1) = .001$\n",
    "\n",
    "We don't know the probability of a positive test, but we can calculate it from the information provided.\n",
    "\n",
    "<br><br>\n",
    "\n",
    "$$ Pr(Test = 1) = Pr(Test = 1 | HIV = 1 ) Pr(HIV = 1) + Pr(Test = 1 | HIV = 0 )Pr(HIV=0) $$\n",
    "\n",
    "$$ Pr(Test = 1) = 1 (.001) + .01 (1 - .001) $$\n",
    "\n",
    "$$ Pr(Test = 1) = .01099 $$\n",
    "\n",
    "<br><br>\n",
    "\n",
    "Plug everything back into the equation.\n",
    "\n",
    "<br><br>\n",
    "\n",
    "$$ Pr(HIV = 1 | Test = 1) = \\frac{1 (.001)}{.01099} = .091$$\n",
    "\n",
    "<br><br>\n",
    "\n",
    "What's the probability that you have HIV given you tested positive? 9.1% -- really low!"
   ]
  },
  {
   "cell_type": "markdown",
   "metadata": {},
   "source": [
    "## Example 2"
   ]
  },
  {
   "cell_type": "markdown",
   "metadata": {},
   "source": [
    "Suppose Facebook is concerned about hate speech on its platform. It developed an algorithm that correctly detects posts with hate speech 80% of the time $Pr(Flagged = 1 | Hate = 1) = .8$. However, it makes mistakes: 14% of the time it incorrectly classifies a normal post as hate speech $Pr(Flagged = 1 | Hate = 0) = .14$. Across it's platform, Facebook estimates that hate speech is rare: only .3% of all posts are considered hate speech. Finally, Facebook wants to rid itself of hate speech entirely, so it blocks the accounts of all people who posted any hate speech content. \n",
    "\n",
    "Your friend's account was just block for using hate speech. **_What's the probability that he/she actually posted hate speech?_**"
   ]
  },
  {
   "cell_type": "markdown",
   "metadata": {},
   "source": [
    "<br><br>\n",
    "\n",
    "$$ Pr(Hate = 1 | Flagged = 1) = \\frac{Pr(Flagged = 1|Hate =1)Pr(Hate =1)}{Pr(Flagged=1)} $$\n",
    "\n",
    "<br><br>"
   ]
  },
  {
   "cell_type": "code",
   "execution_count": 3,
   "metadata": {},
   "outputs": [
    {
     "data": {
      "text/plain": [
       "0.016903789266093816"
      ]
     },
     "execution_count": 3,
     "metadata": {},
     "output_type": "execute_result"
    }
   ],
   "source": [
    "pr_flagged_given_hs = .8 # Positive Classification given hate speech post\n",
    "pr_flagged_given_n = .14 # Positive Classification given normal post\n",
    "pr_hs = .003 # Prop. of hate speech content on FB\n",
    "pr_n = 1 - pr_hs # Prop. of hate speech \n",
    "\n",
    "# Denominator\n",
    "pr_flagged = (pr_flagged_given_hs * pr_hs) + (pr_flagged_given_n*pr_n)\n",
    "\n",
    "\n",
    "# Calculate the probability.\n",
    "(pr_flagged_given_hs*pr_hs)/pr_flagged # only 1.7% "
   ]
  },
  {
   "cell_type": "markdown",
   "metadata": {},
   "source": [
    "Let's think about the same set up, but a little differently. Rather than providing probabilities, let's use frequencies. \n",
    "\n",
    "- Out of a sample of a 1 million posts, 3000 contain hate speech content.\n",
    "- Of those 3000, 2400 were correctly flagged by the algorithm.\n",
    "- The algorithm incorrectly classified 139580 \"normal posts\" as hate speech.\n",
    "\n",
    "With this information, what's the probability that your friend &mdash; who was just kicked off the platform &mdash; actually posted hate content?"
   ]
  },
  {
   "cell_type": "markdown",
   "metadata": {},
   "source": [
    "Here all we need to do is divide the true positives by all posts with a positive classifications (true positives + false positives)."
   ]
  },
  {
   "cell_type": "code",
   "execution_count": 4,
   "metadata": {},
   "outputs": [
    {
     "data": {
      "text/plain": [
       "0.016903789266093816"
      ]
     },
     "execution_count": 4,
     "metadata": {},
     "output_type": "execute_result"
    }
   ],
   "source": [
    "2400/(139580 + 2400)"
   ]
  },
  {
   "cell_type": "markdown",
   "metadata": {},
   "source": [
    "# Bayes theorem for Modeling"
   ]
  },
  {
   "cell_type": "markdown",
   "metadata": {},
   "source": [
    "When we construct a model, we're formalizing some **hypothesis** we have about the world. We then collect data and test the validity of that hypothesis.\n",
    "\n",
    "Bayes theorem provides a way of thinking about the relationship between the data and our hypotheses.\n",
    "\n",
    "<br><br>\n",
    "\n",
    "$$Pr(\\text{Hypothesis}|\\text{Data}) = \\frac{Pr(\\text{Data}| \\text{Hypothesis})Pr(\\text{Hypothesis})}{Pr(\\text{Data})}$$\n",
    "\n",
    "<br><br>"
   ]
  },
  {
   "cell_type": "markdown",
   "metadata": {},
   "source": [
    "The above states that the probability of the hypothesis being true given observed data is equivalent to the likelihood of observing the data given the hypothesis multiplied by the prior belief that the hypothesis is correct. We then normalize the probabilities by dividing by the marginal probability of observing the data.\n",
    "\n",
    "Recall that $Pr(Data)$ is a normalizing constant. It can be difficult to calculate this value on data, which takes some tricky math to compute but can effectively be ignored for our purposes. \n",
    "\n",
    "<br><br>\n",
    "\n",
    "$$Pr(\\text{Hypothesis}|\\text{Data}) \\propto Pr(\\text{Data}| \\text{Hypothesis})Pr(\\text{Hypothesis})$$\n",
    "\n",
    "<br><br>\n",
    "\n",
    "If we have some prior knowledge about the probability of the hypothesis being true &mdash; given prior research or knowledge that we have about the world &mdash; then we can incorporate that information into the model.\n",
    "\n",
    "If we have _no beliefs_ regarding the probability of the hypothesis (or hypotheses) being correct, then we can assign a uniform (or equal) probability to any likelihood, which effectively turns the prior into a constant. \n",
    "\n",
    "<br><br>\n",
    "\n",
    "$$Pr(\\text{Hypothesis}|\\text{Data}) \\propto Pr(\\text{Data}| \\text{Hypothesis})$$\n",
    "\n",
    "<br><br>\n",
    "\n",
    "> Remember: when we say \"hypothesis\" we are really saying \"parameter\" or \"model\". That is, we add variables to a model because we have some hypothesis that those variables affect the outcome of interest. \n",
    "\n",
    "Our aim then is to find the hypothesis that maximizes the probability of observing the data. This optimization method is known as [Maximum a posteriori estimation](https://en.wikipedia.org/wiki/Maximum_a_posteriori_estimation) (MAP). When the prior is uniform (that is all hypotheses are equally likely), then MAP is generally equivalent to Maximum Likelihood Estimation (MLE). The take-away is that there is a close relationship  between frequentist and Bayesian methods, much of the discussion centers around the role the prior probability plays in updating our posterior probability. \n",
    "\n",
    "We'll talk more about estimation methods next time in class."
   ]
  },
  {
   "cell_type": "markdown",
   "metadata": {},
   "source": [
    "### The Impact of the Prior"
   ]
  },
  {
   "cell_type": "markdown",
   "metadata": {},
   "source": [
    "Most criticism of Bayesian modeling comes from the subjectivity of the prior. The idea is that the researcher can set a prior that returns the desired results, rather than letting the data speak for itself. The specification of the prior is only an issue if the $N$ is small. As the number of observations in the data grow, the less influence the prior will have. "
   ]
  },
  {
   "cell_type": "markdown",
   "metadata": {},
   "source": [
    "# Bayes Classifier"
   ]
  },
  {
   "cell_type": "markdown",
   "metadata": {},
   "source": [
    "Recall a few lectures back we attempted to predict a binary outcome using a linear combination of predictors. If we think carefully, we were trying isolate the probability that $y = 1$ given the values of our predictor.\n",
    "\n",
    "\n",
    "$$Pr(y=1 | X)$$\n",
    "\n",
    "Put more generically, \n",
    "\n",
    "$$Pr(class | data) $$\n",
    "\n",
    "That is, the predicted class is conditional on the predictors. \n",
    "\n",
    "We can use Bayes theorem here to construct a classifier that uses conditional probability to predict a class. \n",
    "\n",
    "<br><br>\n",
    "\n",
    "$$Pr(class | data) = \\frac{Pr(data | class) Pr(class)}{Pr(data)}$$\n",
    "\n",
    "<br><br>\n",
    "\n",
    "This calculation can be performed for more than one class. We just need to calculate probability for each class in the problem. We then look at all the probabilities for each class assignment, and choose the largest (i.e. maximize). \n",
    "\n",
    "However, such a classifier is **_difficult to compute_**.\n",
    "\n",
    "> \"The conditional probability of the observation based on the class $Pr(data|class)$ is not feasible unless the number of examples is extraordinarily large, e.g. large enough to effectively estimate the probability distribution for all different possible combinations of values. This is almost never the case, we will not have sufficient coverage of the domain.\" ([Brownlee](https://machinelearningmastery.com/bayes-theorem-for-machine-learning/))\n",
    "\n",
    "As both the data grows (in either the number of parameters or the size of the data), the estimation task becomes more difficult. \n",
    "\n",
    "## Naive Bayes Classifier\n",
    "\n",
    "We can greatly simplify the above equation by making a simple assumption: that each variable is _independent_ of the other variables in the model. \n",
    "\n",
    "<br><br>\n",
    "\n",
    "$$Pr(class | data) = \\frac{Pr( x_1| class)\\times Pr( x_2| class) \\times \\dots \\times  Pr(class)}{Pr(data)}$$\n",
    "\n",
    "<br><br>\n",
    "\n",
    "where $x_1$ and $x_2$ represent variables in the data. \n",
    "\n",
    "We can further simplify by dropping the denominator. As the $Pr(data)$ is a normalizing constant it can be removed.\n",
    "\n",
    "<br><br>\n",
    "\n",
    "$$Pr(class | data) = Pr( x_1| class)\\times Pr( x_2| class) \\times \\dots \\times  Pr(class)$$\n",
    "\n",
    "<br><br>\n",
    "\n",
    "This is known as a **Naive Bayesian Classifier**, or Naive Bayes. The \"naivety\" stems from the simplifying assumptions we make to the original Bayesian setup. "
   ]
  },
  {
   "cell_type": "markdown",
   "metadata": {},
   "source": [
    "## Building a Naive Bayesian Classifier"
   ]
  },
  {
   "cell_type": "markdown",
   "metadata": {},
   "source": [
    "Let's build a Naive Bayes classifier on a binary outcome ( $y \\in [0,1]$ ) with binary predictor variables. Below is a dataset that tracks when a country enters into a civil war given their level of economic development (develop = 1 means a \"developed economy\", develop = 0 means a \"developing economy\") and political regime (authoritarian = 1 means an \"authoritarian regime\", authoritarian = 0 means a \"quasi/full-democracy\")."
   ]
  },
  {
   "cell_type": "code",
   "execution_count": 28,
   "metadata": {
    "scrolled": true
   },
   "outputs": [
    {
     "name": "stdout",
     "output_type": "stream",
     "text": [
      "Training Data: 80 \n",
      "Test Data: 20\n"
     ]
    },
    {
     "data": {
      "text/html": [
       "<div>\n",
       "<style scoped>\n",
       "    .dataframe tbody tr th:only-of-type {\n",
       "        vertical-align: middle;\n",
       "    }\n",
       "\n",
       "    .dataframe tbody tr th {\n",
       "        vertical-align: top;\n",
       "    }\n",
       "\n",
       "    .dataframe thead th {\n",
       "        text-align: right;\n",
       "    }\n",
       "</style>\n",
       "<table border=\"1\" class=\"dataframe\">\n",
       "  <thead>\n",
       "    <tr style=\"text-align: right;\">\n",
       "      <th></th>\n",
       "      <th>civil_war</th>\n",
       "      <th>developed</th>\n",
       "      <th>authoritarian</th>\n",
       "    </tr>\n",
       "  </thead>\n",
       "  <tbody>\n",
       "    <tr>\n",
       "      <th>0</th>\n",
       "      <td>0</td>\n",
       "      <td>0</td>\n",
       "      <td>0</td>\n",
       "    </tr>\n",
       "    <tr>\n",
       "      <th>1</th>\n",
       "      <td>0</td>\n",
       "      <td>1</td>\n",
       "      <td>0</td>\n",
       "    </tr>\n",
       "    <tr>\n",
       "      <th>2</th>\n",
       "      <td>0</td>\n",
       "      <td>1</td>\n",
       "      <td>0</td>\n",
       "    </tr>\n",
       "    <tr>\n",
       "      <th>3</th>\n",
       "      <td>0</td>\n",
       "      <td>1</td>\n",
       "      <td>1</td>\n",
       "    </tr>\n",
       "    <tr>\n",
       "      <th>4</th>\n",
       "      <td>1</td>\n",
       "      <td>0</td>\n",
       "      <td>1</td>\n",
       "    </tr>\n",
       "  </tbody>\n",
       "</table>\n",
       "</div>"
      ],
      "text/plain": [
       "   civil_war  developed  authoritarian\n",
       "0          0          0              0\n",
       "1          0          1              0\n",
       "2          0          1              0\n",
       "3          0          1              1\n",
       "4          1          0              1"
      ]
     },
     "execution_count": 28,
     "metadata": {},
     "output_type": "execute_result"
    }
   ],
   "source": [
    "np.random.seed(1234)\n",
    "cw_data = pd.read_csv(\"civil_war.csv\")\n",
    "train = cw_data.sample(frac=.8).reset_index(drop=True)\n",
    "test = cw_data.drop(train.index).reset_index(drop=True)\n",
    "print(\"Training Data:\",train.shape[0],\n",
    "      \"\\nTest Data:\",test.shape[0])\n",
    "train.head()"
   ]
  },
  {
   "cell_type": "markdown",
   "metadata": {},
   "source": [
    "### Calculate Class Probabilities: $Pr(class)$"
   ]
  },
  {
   "cell_type": "code",
   "execution_count": 29,
   "metadata": {},
   "outputs": [
    {
     "name": "stdout",
     "output_type": "stream",
     "text": [
      "\n",
      "Pr(civil_war = 1): 0.3125\n",
      "Pr(civil_war = 0): 0.6875\n",
      "\n"
     ]
    }
   ],
   "source": [
    "N = train.shape[0]\n",
    "\n",
    "# Subset the data by class\n",
    "cw1 = train.query(\"civil_war == 1\")\n",
    "cw0 = train.query(\"civil_war == 0\")\n",
    "\n",
    "# Calculate the probability for each class\n",
    "pr_cw_1 = cw1.shape[0]/N\n",
    "pr_cw_0 = cw0.shape[0]/N\n",
    "\n",
    "# Print the probabilities\n",
    "print(\n",
    "f\"\"\"\n",
    "Pr(civil_war = 1): {pr_cw_1}\n",
    "Pr(civil_war = 0): {pr_cw_0}\n",
    "\"\"\")"
   ]
  },
  {
   "cell_type": "markdown",
   "metadata": {},
   "source": [
    "### Calculate the Conditional Probabilities $Pr(data | class)$\n",
    "\n",
    "- $Pr(developed = 1 | CW = 1)$\n",
    "- $Pr(developed = 0 | CW = 1)$\n",
    "- $Pr(developed = 1 | CW = 0)$\n",
    "- $Pr(developed = 0 | CW = 0)$\n",
    "- $Pr(authoritarian = 1 | CW = 1)$\n",
    "- $Pr(authoritarian = 0 | CW = 1)$\n",
    "- $Pr(authoritarian = 1 | CW = 0)$\n",
    "- $Pr(authoritarian = 0 | CW = 0)$"
   ]
  },
  {
   "cell_type": "code",
   "execution_count": 30,
   "metadata": {},
   "outputs": [
    {
     "name": "stdout",
     "output_type": "stream",
     "text": [
      "\n",
      "Pr(developed = 1 |civil_war = 1): 0.4\n",
      "Pr(developed = 0 |civil_war = 1): 0.6\n",
      "Pr(developed = 1 |civil_war = 0): 0.6909090909090909\n",
      "Pr(developed = 0 |civil_war = 0): 0.3090909090909091\n",
      "Pr(authoritarian = 1 |civil_war = 1): 0.92\n",
      "Pr(authoritarian = 0 |civil_war = 1): 0.08\n",
      "Pr(authoritarian = 1 |civil_war = 0): 0.41818181818181815\n",
      "Pr(authoritarian = 0 |civil_war = 0): 0.5818181818181818\n",
      "\n"
     ]
    }
   ],
   "source": [
    "# Given CW == 1\n",
    "d1_cw1 = cw1.query(\"developed == 1\").shape[0]/cw1.shape[0]\n",
    "d0_cw1 = cw1.query(\"developed == 0\").shape[0]/cw1.shape[0]\n",
    "a1_cw1 = cw1.query(\"authoritarian == 1\").shape[0]/cw1.shape[0]\n",
    "a0_cw1 = cw1.query(\"authoritarian == 0\").shape[0]/cw1.shape[0]\n",
    "\n",
    "# Given CW == 0\n",
    "d1_cw0 = cw0.query(\"developed == 1\").shape[0]/cw0.shape[0]\n",
    "d0_cw0 = cw0.query(\"developed == 0\").shape[0]/cw0.shape[0]\n",
    "a1_cw0 = cw0.query(\"authoritarian == 1\").shape[0]/cw0.shape[0]\n",
    "a0_cw0 = cw0.query(\"authoritarian == 0\").shape[0]/cw0.shape[0]\n",
    "\n",
    "print(\n",
    "f\"\"\"\n",
    "Pr(developed = 1 |civil_war = 1): {d1_cw1}\n",
    "Pr(developed = 0 |civil_war = 1): {d0_cw1}\n",
    "Pr(developed = 1 |civil_war = 0): {d1_cw0}\n",
    "Pr(developed = 0 |civil_war = 0): {d0_cw0}\n",
    "Pr(authoritarian = 1 |civil_war = 1): {a1_cw1}\n",
    "Pr(authoritarian = 0 |civil_war = 1): {a0_cw1}\n",
    "Pr(authoritarian = 1 |civil_war = 0): {a1_cw0}\n",
    "Pr(authoritarian = 0 |civil_war = 0): {a0_cw0}\n",
    "\"\"\")"
   ]
  },
  {
   "cell_type": "markdown",
   "metadata": {},
   "source": [
    "### Make a Prediction"
   ]
  },
  {
   "cell_type": "markdown",
   "metadata": {},
   "source": [
    "Now we simply multiply together the probabilities for each outcome given some configuration of the variables. \n",
    "\n",
    "For example, say we want to predict whether **a country will enter into a civil war given its a developing democracy**. "
   ]
  },
  {
   "cell_type": "code",
   "execution_count": 31,
   "metadata": {},
   "outputs": [
    {
     "name": "stdout",
     "output_type": "stream",
     "text": [
      "\n",
      "Pr(cw = 1) = 0.015\n",
      "Pr(cw = 0) = 0.12363636363636363\n",
      "\n"
     ]
    }
   ],
   "source": [
    "prob_cw1 = d0_cw1 * a0_cw1 * pr_cw_1\n",
    "prob_cw0 = d0_cw0 * a0_cw0 * pr_cw_0\n",
    "\n",
    "print(f\"\"\"\n",
    "Pr(cw = 1) = {prob_cw1}\n",
    "Pr(cw = 0) = {prob_cw0}\n",
    "\"\"\")"
   ]
  },
  {
   "cell_type": "markdown",
   "metadata": {},
   "source": [
    "$.124$ is greater than $.015$ so we predict \"no civil war\" ($CW = 0$). "
   ]
  },
  {
   "cell_type": "markdown",
   "metadata": {},
   "source": [
    "Now, let's use the probabilities to predict if an authoritarian developing country will enter into a civil war. "
   ]
  },
  {
   "cell_type": "code",
   "execution_count": 32,
   "metadata": {},
   "outputs": [
    {
     "name": "stdout",
     "output_type": "stream",
     "text": [
      "\n",
      "Pr(cw = 1) = 0.17250000000000001\n",
      "Pr(cw = 0) = 0.08886363636363635\n",
      "\n"
     ]
    }
   ],
   "source": [
    "prob_cw1 = d0_cw1 * a1_cw1 * pr_cw_1\n",
    "prob_cw0 = d0_cw0 * a1_cw0 * pr_cw_0\n",
    "\n",
    "print(f\"\"\"\n",
    "Pr(cw = 1) = {prob_cw1}\n",
    "Pr(cw = 0) = {prob_cw0}\n",
    "\"\"\")"
   ]
  },
  {
   "cell_type": "markdown",
   "metadata": {},
   "source": [
    "$.173$ is greater than $.089$ so we'll predict \"civil war\" for this observation ($CW = 1$). "
   ]
  },
  {
   "cell_type": "markdown",
   "metadata": {},
   "source": [
    "In essence, we do this for every observation in the data. The idea is that we leverage conditional probabilities in the data to predict future class assignment, assuming the data generating process in the training data (i.e. the data we're learning on) is equivalent to the data we test on. "
   ]
  },
  {
   "cell_type": "markdown",
   "metadata": {},
   "source": [
    "### Predicting Multiple Observations"
   ]
  },
  {
   "cell_type": "markdown",
   "metadata": {},
   "source": [
    "Let's now expand this setup so that we can calculate the underlying probabilities and then calculate the predictions for each observation in the data. "
   ]
  },
  {
   "cell_type": "code",
   "execution_count": 33,
   "metadata": {},
   "outputs": [
    {
     "name": "stdout",
     "output_type": "stream",
     "text": [
      "class probabilities\n",
      "\n",
      "{0: 0.6875, 1: 0.3125}\n",
      "\n",
      "\n",
      "conditional probabilities\n",
      "\n",
      "{('authoritarian', 0, 0): 0.5818181818181818,\n",
      " ('authoritarian', 0, 1): 0.07999999999999996,\n",
      " ('authoritarian', 1, 0): 0.41818181818181815,\n",
      " ('authoritarian', 1, 1): 0.92,\n",
      " ('developed', 0, 0): 0.3090909090909091,\n",
      " ('developed', 0, 1): 0.6,\n",
      " ('developed', 1, 0): 0.6909090909090909,\n",
      " ('developed', 1, 1): 0.4}\n"
     ]
    }
   ],
   "source": [
    "def calc_probs(data,outcome_var=\"\"):\n",
    "    '''\n",
    "    Function calculates the class and conditional probabilities in \n",
    "    the binary data. \n",
    "    \n",
    "    Note that I'm using dictionaries with tuple keys to keep\n",
    "    track of the variable, it's val, and the outcome, which we're conditioning on. \n",
    "    '''\n",
    "    # Generate empty dictionary containers.\n",
    "    class_probs = {};cond_probs = {}\n",
    "    # Locate all variables that are not the outcome.\n",
    "    vars = [v for v in data.columns if v != outcome_var]\n",
    "    # iterate through the class outcomes\n",
    "    for y, d in data.groupby(outcome_var): \n",
    "        # calculate the class probabilities\n",
    "        class_probs.update({y: d.shape[0]/data.shape[0]})\n",
    "        for v in vars:\n",
    "            # calculate the conditional probabilities for each variable given the class.\n",
    "            pr = d[v].sum()/d.shape[0]\n",
    "            cond_probs[(v,1,y)] = pr \n",
    "            cond_probs[(v,0,y)] = 1 - pr\n",
    "    return class_probs, cond_probs\n",
    "\n",
    "\n",
    "# Run\n",
    "class_probs, cond_probs = calc_probs(train,outcome_var=\"civil_war\")\n",
    "\n",
    "# Print\n",
    "print(\"class probabilities\",end=\"\\n\\n\")\n",
    "pp.pprint(class_probs)\n",
    "print(\"\\n\")\n",
    "print(\"conditional probabilities\",end=\"\\n\\n\")\n",
    "pp.pprint(cond_probs)"
   ]
  },
  {
   "cell_type": "markdown",
   "metadata": {},
   "source": [
    "Now we've conveniently stored all the probabilities as dictionaries. Let's build a prediction function that combs through the observations in the data and calculates the probabilities and makes a class prediction. "
   ]
  },
  {
   "cell_type": "code",
   "execution_count": 34,
   "metadata": {},
   "outputs": [
    {
     "data": {
      "text/html": [
       "<div>\n",
       "<style scoped>\n",
       "    .dataframe tbody tr th:only-of-type {\n",
       "        vertical-align: middle;\n",
       "    }\n",
       "\n",
       "    .dataframe tbody tr th {\n",
       "        vertical-align: top;\n",
       "    }\n",
       "\n",
       "    .dataframe thead th {\n",
       "        text-align: right;\n",
       "    }\n",
       "</style>\n",
       "<table border=\"1\" class=\"dataframe\">\n",
       "  <thead>\n",
       "    <tr style=\"text-align: right;\">\n",
       "      <th></th>\n",
       "      <th>pr_0</th>\n",
       "      <th>pr_1</th>\n",
       "      <th>pred</th>\n",
       "    </tr>\n",
       "  </thead>\n",
       "  <tbody>\n",
       "    <tr>\n",
       "      <th>0</th>\n",
       "      <td>0.123636</td>\n",
       "      <td>0.0150</td>\n",
       "      <td>0</td>\n",
       "    </tr>\n",
       "    <tr>\n",
       "      <th>1</th>\n",
       "      <td>0.276364</td>\n",
       "      <td>0.0100</td>\n",
       "      <td>0</td>\n",
       "    </tr>\n",
       "    <tr>\n",
       "      <th>2</th>\n",
       "      <td>0.276364</td>\n",
       "      <td>0.0100</td>\n",
       "      <td>0</td>\n",
       "    </tr>\n",
       "    <tr>\n",
       "      <th>3</th>\n",
       "      <td>0.198636</td>\n",
       "      <td>0.1150</td>\n",
       "      <td>0</td>\n",
       "    </tr>\n",
       "    <tr>\n",
       "      <th>4</th>\n",
       "      <td>0.088864</td>\n",
       "      <td>0.1725</td>\n",
       "      <td>1</td>\n",
       "    </tr>\n",
       "  </tbody>\n",
       "</table>\n",
       "</div>"
      ],
      "text/plain": [
       "       pr_0    pr_1  pred\n",
       "0  0.123636  0.0150     0\n",
       "1  0.276364  0.0100     0\n",
       "2  0.276364  0.0100     0\n",
       "3  0.198636  0.1150     0\n",
       "4  0.088864  0.1725     1"
      ]
     },
     "execution_count": 34,
     "metadata": {},
     "output_type": "execute_result"
    }
   ],
   "source": [
    "def predict(data,class_probs,cond_probs):\n",
    "    '''\n",
    "    Function calculates the conditiona probability for membership into each class.\n",
    "    Then returns both the probabilities and the most likely class. \n",
    "    '''\n",
    "    store_preds = []\n",
    "    for i,row in data.iterrows():\n",
    "        pr_1 = 1; pr_0 = 1\n",
    "        for j in range(1,len(row.index)):\n",
    "            pr_0 *= cond_probs[(row.index[j],row.values[j],0)]\n",
    "            pr_1 *= cond_probs[(row.index[j],row.values[j],1)]     \n",
    "        pr_0 *= class_probs[0]\n",
    "        pr_1 *= class_probs[1]\n",
    "        store_preds.append([pr_0,pr_1,max([(pr_0,0),(pr_1,1)])[1]])\n",
    "    return pd.DataFrame(store_preds,columns=[\"pr_0\",\"pr_1\",\"pred\"])\n",
    "\n",
    "# Run \n",
    "preds = predict(train, class_probs, cond_probs)\n",
    "preds.head()"
   ]
  },
  {
   "cell_type": "markdown",
   "metadata": {},
   "source": [
    "Finally, let's calculate predictive accuracy (i.e. how many correct prediction did we make)."
   ]
  },
  {
   "cell_type": "code",
   "execution_count": 35,
   "metadata": {},
   "outputs": [
    {
     "data": {
      "text/plain": [
       "0.7625"
      ]
     },
     "execution_count": 35,
     "metadata": {},
     "output_type": "execute_result"
    }
   ],
   "source": [
    "accuracy = sum(train.civil_war == preds.pred)/train.shape[0]\n",
    "accuracy"
   ]
  },
  {
   "cell_type": "markdown",
   "metadata": {},
   "source": [
    "We obtained predictive accuracy of 76.3% on the training data, not bad!"
   ]
  },
  {
   "cell_type": "markdown",
   "metadata": {},
   "source": [
    "Let's now try to predict the outcomes in the test data and see how we do."
   ]
  },
  {
   "cell_type": "code",
   "execution_count": 36,
   "metadata": {},
   "outputs": [
    {
     "data": {
      "text/plain": [
       "0.9"
      ]
     },
     "execution_count": 36,
     "metadata": {},
     "output_type": "execute_result"
    }
   ],
   "source": [
    "test_preds = predict(test, class_probs, cond_probs)\n",
    "test_accuracy = sum(test.civil_war == test_preds.pred)/test.shape[0]\n",
    "test_accuracy"
   ]
  },
  {
   "cell_type": "markdown",
   "metadata": {},
   "source": [
    "We have an out of sample prediction of 90%."
   ]
  },
  {
   "cell_type": "markdown",
   "metadata": {},
   "source": [
    "Though the **Naive Bayes Classifier**  is quite simplistic when compared to other modeling strategies (such as a neural net or a gradient boosting machine); however, it proves to be effective on a wide array of prediction tasks. "
   ]
  },
  {
   "cell_type": "markdown",
   "metadata": {},
   "source": [
    "## Naive Bayesian Classifier with Continuous Predictors"
   ]
  },
  {
   "cell_type": "markdown",
   "metadata": {},
   "source": [
    "The modeling strategy outlined above assumes that we have binary or discrete features (i.e. 0/1). However, what if that's not the case, and we have continuous features that we want to use in the prediction task? "
   ]
  },
  {
   "cell_type": "markdown",
   "metadata": {},
   "source": [
    "For this exercise, let's use the same data as we did in the gradient descent lecture."
   ]
  },
  {
   "cell_type": "code",
   "execution_count": 14,
   "metadata": {},
   "outputs": [
    {
     "data": {
      "text/html": [
       "<div>\n",
       "<style scoped>\n",
       "    .dataframe tbody tr th:only-of-type {\n",
       "        vertical-align: middle;\n",
       "    }\n",
       "\n",
       "    .dataframe tbody tr th {\n",
       "        vertical-align: top;\n",
       "    }\n",
       "\n",
       "    .dataframe thead th {\n",
       "        text-align: right;\n",
       "    }\n",
       "</style>\n",
       "<table border=\"1\" class=\"dataframe\">\n",
       "  <thead>\n",
       "    <tr style=\"text-align: right;\">\n",
       "      <th></th>\n",
       "      <th>y</th>\n",
       "      <th>x1</th>\n",
       "      <th>x2</th>\n",
       "    </tr>\n",
       "  </thead>\n",
       "  <tbody>\n",
       "    <tr>\n",
       "      <th>0</th>\n",
       "      <td>1.0</td>\n",
       "      <td>-1.085631</td>\n",
       "      <td>-0.748827</td>\n",
       "    </tr>\n",
       "    <tr>\n",
       "      <th>1</th>\n",
       "      <td>1.0</td>\n",
       "      <td>0.997345</td>\n",
       "      <td>0.567595</td>\n",
       "    </tr>\n",
       "    <tr>\n",
       "      <th>2</th>\n",
       "      <td>1.0</td>\n",
       "      <td>0.282978</td>\n",
       "      <td>0.718151</td>\n",
       "    </tr>\n",
       "    <tr>\n",
       "      <th>3</th>\n",
       "      <td>0.0</td>\n",
       "      <td>-1.506295</td>\n",
       "      <td>-0.999381</td>\n",
       "    </tr>\n",
       "    <tr>\n",
       "      <th>4</th>\n",
       "      <td>1.0</td>\n",
       "      <td>-0.578600</td>\n",
       "      <td>0.474898</td>\n",
       "    </tr>\n",
       "  </tbody>\n",
       "</table>\n",
       "</div>"
      ],
      "text/plain": [
       "     y        x1        x2\n",
       "0  1.0 -1.085631 -0.748827\n",
       "1  1.0  0.997345  0.567595\n",
       "2  1.0  0.282978  0.718151\n",
       "3  0.0 -1.506295 -0.999381\n",
       "4  1.0 -0.578600  0.474898"
      ]
     },
     "execution_count": 14,
     "metadata": {},
     "output_type": "execute_result"
    }
   ],
   "source": [
    "train = pd.read_csv(\"training_data.csv\")\n",
    "test = pd.read_csv(\"test_data.csv\")\n",
    "train.head()"
   ]
  },
  {
   "cell_type": "markdown",
   "metadata": {},
   "source": [
    "As we did when in the gradient descent lecture, we need a way to map a continuous variable into a probability space. Here we'll use the probability density function for Gaussian (normal) distribution to convert continuous values into probabilities.\n",
    "\n",
    "Note that we can use information regarding the distribution of each continuous predict and find out where any single point is on that continuous variables probability distribution."
   ]
  },
  {
   "cell_type": "code",
   "execution_count": 15,
   "metadata": {},
   "outputs": [
    {
     "data": {
      "text/plain": [
       "0.09565679616352402"
      ]
     },
     "execution_count": 15,
     "metadata": {},
     "output_type": "execute_result"
    }
   ],
   "source": [
    "st.norm(0, 1).pdf(-1.69) # using the scipy.stats module"
   ]
  },
  {
   "cell_type": "code",
   "execution_count": 16,
   "metadata": {},
   "outputs": [
    {
     "data": {
      "image/png": "[encoded data removed]",
      "text/plain": [
       "<Figure size 1500x600 with 1 Axes>"
      ]
     },
     "metadata": {
      "needs_background": "light"
     },
     "output_type": "display_data"
    }
   ],
   "source": [
    "# Calculate the CDF for values in-between the interval of -5 and 5\n",
    "d = pd.DataFrame([[i,st.norm(0, 1).pdf(i)] for i in np.linspace(-5,5)])\n",
    "\n",
    "# Plot the density function. \n",
    "plt.figure(figsize=(10,4),dpi=150)\n",
    "ax = sns.lineplot(d[0],d[1])\n",
    "ax = ax.set(xlabel='X', ylabel='Probability',\n",
    "            title=\"PDF Normal Distribution\\n(mean = 0, Variance = 1)\")\n",
    "plt.show()"
   ]
  },
  {
   "cell_type": "markdown",
   "metadata": {},
   "source": [
    "We can calculate the conditional mean and standard deviation for each value of the outcome and then calculate the predictions from there for any one of our continuous variables.\n",
    "\n",
    "Let's go through the steps again."
   ]
  },
  {
   "cell_type": "markdown",
   "metadata": {},
   "source": [
    "### Calculate Class Probabilities: $Pr(class)$"
   ]
  },
  {
   "cell_type": "code",
   "execution_count": 17,
   "metadata": {},
   "outputs": [],
   "source": [
    "y1 = train.query(\"y == 1\")\n",
    "y0 = train.query(\"y == 0\")\n",
    "\n",
    "# Class probabilities.\n",
    "pr_y1 = y1.shape[0]/train.shape[0]\n",
    "pr_y0 = y0.shape[0]/train.shape[0]"
   ]
  },
  {
   "cell_type": "markdown",
   "metadata": {},
   "source": [
    "### Calculate the conditional means/standard deviations"
   ]
  },
  {
   "cell_type": "code",
   "execution_count": 18,
   "metadata": {},
   "outputs": [
    {
     "name": "stdout",
     "output_type": "stream",
     "text": [
      "{('x1', 0): {'mean': 0.5156773594310682, 'sd': 0.9113594482519166},\n",
      " ('x1', 1): {'mean': -0.36705951737634046, 'sd': 0.903305618794902},\n",
      " ('x2', 0): {'mean': -0.7234270807398658, 'sd': 0.7924025069188566},\n",
      " ('x2', 1): {'mean': 0.4400327732120252, 'sd': 0.7671342801807611}}\n"
     ]
    }
   ],
   "source": [
    "# Collect the mean and standard dev. of each conditional distribution\n",
    "dist_locs = \\\n",
    "{(\"x1\",1):{'mean':y1.x1.mean(),'sd':y1.x1.std()},\n",
    " (\"x1\",0):{'mean':y0.x1.mean(),'sd':y0.x1.std()},\n",
    " (\"x2\",1):{'mean':y1.x2.mean(),'sd':y1.x2.std()},\n",
    " (\"x2\",0):{'mean':y0.x2.mean(),'sd':y0.x2.std()}\n",
    "}\n",
    "\n",
    "# Print\n",
    "pp.pprint(dist_locs)"
   ]
  },
  {
   "cell_type": "markdown",
   "metadata": {},
   "source": [
    "View what these different conditional distributions look like:"
   ]
  },
  {
   "cell_type": "code",
   "execution_count": 19,
   "metadata": {
    "scrolled": false
   },
   "outputs": [
    {
     "data": {
      "image/png": "[encoded data removed]",
      "text/plain": [
       "<Figure size 1500x600 with 1 Axes>"
      ]
     },
     "metadata": {
      "needs_background": "light"
     },
     "output_type": "display_data"
    }
   ],
   "source": [
    "plt.figure(figsize=(10,4),dpi=150)\n",
    "for key in dist_locs.keys():\n",
    "    locs = dist_locs[key]\n",
    "    d = pd.DataFrame([[i,st.norm(locs['mean'], locs['sd']).pdf(i)] \n",
    "                      for i in np.linspace(-3,3)])\n",
    "    ax = sns.lineplot(d[0],d[1],label=f\"{key[0]} where y = {key[1]}\")"
   ]
  },
  {
   "cell_type": "markdown",
   "metadata": {},
   "source": [
    "### Predict\n",
    "\n",
    "Let's walk through predicting a single observation."
   ]
  },
  {
   "cell_type": "code",
   "execution_count": 20,
   "metadata": {},
   "outputs": [
    {
     "name": "stdout",
     "output_type": "stream",
     "text": [
      "1.0 0.9973454465835858 0.5675947260277651\n"
     ]
    }
   ],
   "source": [
    "y,x1,x2 = train.iloc[1,:]\n",
    "print(y,x1,x2)"
   ]
  },
  {
   "cell_type": "code",
   "execution_count": 21,
   "metadata": {},
   "outputs": [
    {
     "name": "stdout",
     "output_type": "stream",
     "text": [
      "\n",
      "    Pr(y == 1| X): 0.04553473825311161\n",
      "    Pr(y == 0| X): 0.018857981798910916\n",
      "\n"
     ]
    }
   ],
   "source": [
    "# Prediction for the 1 class\n",
    "a = st.norm(dist_locs[(\"x1\",1)]['mean'], dist_locs[(\"x1\",1)]['sd']).pdf(x1)\n",
    "b = st.norm(dist_locs[(\"x2\",1)]['mean'], dist_locs[(\"x2\",1)]['sd']).pdf(x2)\n",
    "c = pr_y1\n",
    "pr_1 = a * b * c\n",
    "\n",
    "# Prediction for the 0 class\n",
    "a = st.norm(dist_locs[(\"x1\",0)]['mean'], dist_locs[(\"x1\",0)]['sd']).pdf(x1)\n",
    "b = st.norm(dist_locs[(\"x2\",0)]['mean'], dist_locs[(\"x2\",0)]['sd']).pdf(x2)\n",
    "c = pr_y0\n",
    "pr_0 = a * b * c\n",
    "\n",
    "print(\n",
    "f'''\n",
    "    Pr(y == 1| X): {pr_1}\n",
    "    Pr(y == 0| X): {pr_0}\n",
    "''')"
   ]
  },
  {
   "cell_type": "markdown",
   "metadata": {},
   "source": [
    "4.55% is greater than 1.89%, so we predict that $y = 1$"
   ]
  },
  {
   "cell_type": "markdown",
   "metadata": {},
   "source": [
    "### Predicting multiple observations"
   ]
  },
  {
   "cell_type": "code",
   "execution_count": 22,
   "metadata": {},
   "outputs": [],
   "source": [
    "def predict(data,dist_locs):\n",
    "    ''''''\n",
    "    store_preds = []\n",
    "    for i,row in data.iterrows():\n",
    "        \n",
    "        # Get the predictions using a Gaussan distribution\n",
    "        pr_0 = 1; pr_1 = 1\n",
    "        for j in range(1,len(row)):\n",
    "            pr_0 *= st.norm(dist_locs[(row.index[j],0)]['mean'],\n",
    "                            dist_locs[(row.index[j],0)]['sd']).pdf(row.values[j])\n",
    "            pr_1 *= st.norm(dist_locs[(row.index[j],1)]['mean'], \n",
    "                            dist_locs[(row.index[j],1)]['sd']).pdf(row.values[j])\n",
    "        pr_0 *= pr_y0\n",
    "        pr_1 *= pr_y1\n",
    "        \n",
    "        # Assign the class designation to the highest probability\n",
    "        if pr_0 >= pr_1:\n",
    "            class_pred = 0\n",
    "        else:\n",
    "            class_pred = 1\n",
    "            \n",
    "        store_preds.append([pr_0,pr_1,class_pred])\n",
    "        \n",
    "    return pd.DataFrame(store_preds,columns=[\"pr_0\",\"pr_1\",\"pred\"])\n",
    "\n",
    "# Run\n",
    "preds_train = predict(train,dist_locs)"
   ]
  },
  {
   "cell_type": "code",
   "execution_count": 23,
   "metadata": {},
   "outputs": [
    {
     "data": {
      "text/html": [
       "<div>\n",
       "<style scoped>\n",
       "    .dataframe tbody tr th:only-of-type {\n",
       "        vertical-align: middle;\n",
       "    }\n",
       "\n",
       "    .dataframe tbody tr th {\n",
       "        vertical-align: top;\n",
       "    }\n",
       "\n",
       "    .dataframe thead th {\n",
       "        text-align: right;\n",
       "    }\n",
       "</style>\n",
       "<table border=\"1\" class=\"dataframe\">\n",
       "  <thead>\n",
       "    <tr style=\"text-align: right;\">\n",
       "      <th></th>\n",
       "      <th>pr_0</th>\n",
       "      <th>pr_1</th>\n",
       "      <th>pred</th>\n",
       "    </tr>\n",
       "  </thead>\n",
       "  <tbody>\n",
       "    <tr>\n",
       "      <th>0</th>\n",
       "      <td>0.017456</td>\n",
       "      <td>0.031683</td>\n",
       "      <td>1</td>\n",
       "    </tr>\n",
       "    <tr>\n",
       "      <th>1</th>\n",
       "      <td>0.018858</td>\n",
       "      <td>0.045535</td>\n",
       "      <td>1</td>\n",
       "    </tr>\n",
       "    <tr>\n",
       "      <th>2</th>\n",
       "      <td>0.015126</td>\n",
       "      <td>0.104417</td>\n",
       "      <td>1</td>\n",
       "    </tr>\n",
       "    <tr>\n",
       "      <th>3</th>\n",
       "      <td>0.006567</td>\n",
       "      <td>0.011217</td>\n",
       "      <td>1</td>\n",
       "    </tr>\n",
       "    <tr>\n",
       "      <th>4</th>\n",
       "      <td>0.012673</td>\n",
       "      <td>0.140413</td>\n",
       "      <td>1</td>\n",
       "    </tr>\n",
       "    <tr>\n",
       "      <th>5</th>\n",
       "      <td>0.013239</td>\n",
       "      <td>0.000129</td>\n",
       "      <td>0</td>\n",
       "    </tr>\n",
       "    <tr>\n",
       "      <th>6</th>\n",
       "      <td>0.000359</td>\n",
       "      <td>0.007559</td>\n",
       "      <td>1</td>\n",
       "    </tr>\n",
       "    <tr>\n",
       "      <th>7</th>\n",
       "      <td>0.041775</td>\n",
       "      <td>0.017549</td>\n",
       "      <td>0</td>\n",
       "    </tr>\n",
       "    <tr>\n",
       "      <th>8</th>\n",
       "      <td>0.057935</td>\n",
       "      <td>0.007510</td>\n",
       "      <td>0</td>\n",
       "    </tr>\n",
       "    <tr>\n",
       "      <th>9</th>\n",
       "      <td>0.020291</td>\n",
       "      <td>0.010154</td>\n",
       "      <td>0</td>\n",
       "    </tr>\n",
       "  </tbody>\n",
       "</table>\n",
       "</div>"
      ],
      "text/plain": [
       "       pr_0      pr_1  pred\n",
       "0  0.017456  0.031683     1\n",
       "1  0.018858  0.045535     1\n",
       "2  0.015126  0.104417     1\n",
       "3  0.006567  0.011217     1\n",
       "4  0.012673  0.140413     1\n",
       "5  0.013239  0.000129     0\n",
       "6  0.000359  0.007559     1\n",
       "7  0.041775  0.017549     0\n",
       "8  0.057935  0.007510     0\n",
       "9  0.020291  0.010154     0"
      ]
     },
     "execution_count": 23,
     "metadata": {},
     "output_type": "execute_result"
    }
   ],
   "source": [
    "# Predicted output\n",
    "preds_train.head(10)"
   ]
  },
  {
   "cell_type": "markdown",
   "metadata": {},
   "source": [
    "Examine the predictive accuracy of the training data. "
   ]
  },
  {
   "cell_type": "code",
   "execution_count": 24,
   "metadata": {},
   "outputs": [
    {
     "data": {
      "text/plain": [
       "0.862"
      ]
     },
     "execution_count": 24,
     "metadata": {},
     "output_type": "execute_result"
    }
   ],
   "source": [
    "accuracy_train = sum(train.y == preds_train.pred)/train.shape[0]\n",
    "accuracy_train"
   ]
  },
  {
   "cell_type": "markdown",
   "metadata": {},
   "source": [
    "Examine the predictive accuracy on the test data."
   ]
  },
  {
   "cell_type": "code",
   "execution_count": 25,
   "metadata": {},
   "outputs": [],
   "source": [
    "preds_test = predict(test,dist_locs)"
   ]
  },
  {
   "cell_type": "code",
   "execution_count": 26,
   "metadata": {},
   "outputs": [
    {
     "data": {
      "text/plain": [
       "0.862"
      ]
     },
     "execution_count": 26,
     "metadata": {},
     "output_type": "execute_result"
    }
   ],
   "source": [
    "accuracy_test = sum(test.y == preds_test.pred)/test.shape[0]\n",
    "accuracy_test"
   ]
  }
 ],
 "metadata": {
  "kernelspec": {
   "display_name": "Python 3",
   "language": "python",
   "name": "python3"
  },
  "language_info": {
   "codemirror_mode": {
    "name": "ipython",
    "version": 3
   },
   "file_extension": ".py",
   "mimetype": "text/x-python",
   "name": "python",
   "nbconvert_exporter": "python",
   "pygments_lexer": "ipython3",
   "version": "3.7.0"
  },
  "toc": {
   "base_numbering": 1,
   "nav_menu": {},
   "number_sections": false,
   "sideBar": false,
   "skip_h1_title": false,
   "title_cell": "Table of Contents",
   "title_sidebar": "Contents",
   "toc_cell": false,
   "toc_position": {},
   "toc_section_display": true,
   "toc_window_display": false
  }
 },
 "nbformat": 4,
 "nbformat_minor": 2
}
