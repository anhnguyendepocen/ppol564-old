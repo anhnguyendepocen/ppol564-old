{
 "cells": [
  {
   "cell_type": "markdown",
   "metadata": {},
   "source": [
    "<h1><center> PPOL564 - Data Science I: Foundations </center><h1>\n",
    "<h3><center> Lecture 17 <br><br><font color='grey'>Variance-Covariance and Correlation Matrices </font></center></h3>"
   ]
  },
  {
   "cell_type": "markdown",
   "metadata": {},
   "source": [
    "## Concepts covered:\n",
    "\n",
    "Review of two matrices that appear a regularly in applied data science and statistics: \n",
    "\n",
    "- variance-covariance matrix  \n",
    "- correlation matrix"
   ]
  },
  {
   "cell_type": "code",
   "execution_count": 1,
   "metadata": {},
   "outputs": [
    {
     "data": {
      "text/html": [
       "\n",
       "    <div class=\"bk-root\">\n",
       "        <a href=\"https://bokeh.pydata.org\" target=\"_blank\" class=\"bk-logo bk-logo-small bk-logo-notebook\"></a>\n",
       "        <span id=\"a4ec610d-e268-4ab7-9b9d-95680cf5cf02\">Loading BokehJS ...</span>\n",
       "    </div>"
      ]
     },
     "metadata": {},
     "output_type": "display_data"
    },
    {
     "data": {
      "application/javascript": [
       "\n",
       "(function(root) {\n",
       "  function now() {\n",
       "    return new Date();\n",
       "  }\n",
       "\n",
       "  var force = true;\n",
       "\n",
       "  if (typeof (root._bokeh_onload_callbacks) === \"undefined\" || force === true) {\n",
       "    root._bokeh_onload_callbacks = [];\n",
       "    root._bokeh_is_loading = undefined;\n",
       "  }\n",
       "\n",
       "  var JS_MIME_TYPE = 'application/javascript';\n",
       "  var HTML_MIME_TYPE = 'text/html';\n",
       "  var EXEC_MIME_TYPE = 'application/vnd.bokehjs_exec.v0+json';\n",
       "  var CLASS_NAME = 'output_bokeh rendered_html';\n",
       "\n",
       "  /**\n",
       "   * Render data to the DOM node\n",
       "   */\n",
       "  function render(props, node) {\n",
       "    var script = document.createElement(\"script\");\n",
       "    node.appendChild(script);\n",
       "  }\n",
       "\n",
       "  /**\n",
       "   * Handle when an output is cleared or removed\n",
       "   */\n",
       "  function handleClearOutput(event, handle) {\n",
       "    var cell = handle.cell;\n",
       "\n",
       "    var id = cell.output_area._bokeh_element_id;\n",
       "    var server_id = cell.output_area._bokeh_server_id;\n",
       "    // Clean up Bokeh references\n",
       "    if (id != null && id in Bokeh.index) {\n",
       "      Bokeh.index[id].model.document.clear();\n",
       "      delete Bokeh.index[id];\n",
       "    }\n",
       "\n",
       "    if (server_id !== undefined) {\n",
       "      // Clean up Bokeh references\n",
       "      var cmd = \"from bokeh.io.state import curstate; print(curstate().uuid_to_server['\" + server_id + \"'].get_sessions()[0].document.roots[0]._id)\";\n",
       "      cell.notebook.kernel.execute(cmd, {\n",
       "        iopub: {\n",
       "          output: function(msg) {\n",
       "            var id = msg.content.text.trim();\n",
       "            if (id in Bokeh.index) {\n",
       "              Bokeh.index[id].model.document.clear();\n",
       "              delete Bokeh.index[id];\n",
       "            }\n",
       "          }\n",
       "        }\n",
       "      });\n",
       "      // Destroy server and session\n",
       "      var cmd = \"import bokeh.io.notebook as ion; ion.destroy_server('\" + server_id + \"')\";\n",
       "      cell.notebook.kernel.execute(cmd);\n",
       "    }\n",
       "  }\n",
       "\n",
       "  /**\n",
       "   * Handle when a new output is added\n",
       "   */\n",
       "  function handleAddOutput(event, handle) {\n",
       "    var output_area = handle.output_area;\n",
       "    var output = handle.output;\n",
       "\n",
       "    // limit handleAddOutput to display_data with EXEC_MIME_TYPE content only\n",
       "    if ((output.output_type != \"display_data\") || (!output.data.hasOwnProperty(EXEC_MIME_TYPE))) {\n",
       "      return\n",
       "    }\n",
       "\n",
       "    var toinsert = output_area.element.find(\".\" + CLASS_NAME.split(' ')[0]);\n",
       "\n",
       "    if (output.metadata[EXEC_MIME_TYPE][\"id\"] !== undefined) {\n",
       "      toinsert[toinsert.length - 1].firstChild.textContent = output.data[JS_MIME_TYPE];\n",
       "      // store reference to embed id on output_area\n",
       "      output_area._bokeh_element_id = output.metadata[EXEC_MIME_TYPE][\"id\"];\n",
       "    }\n",
       "    if (output.metadata[EXEC_MIME_TYPE][\"server_id\"] !== undefined) {\n",
       "      var bk_div = document.createElement(\"div\");\n",
       "      bk_div.innerHTML = output.data[HTML_MIME_TYPE];\n",
       "      var script_attrs = bk_div.children[0].attributes;\n",
       "      for (var i = 0; i < script_attrs.length; i++) {\n",
       "        toinsert[toinsert.length - 1].firstChild.setAttribute(script_attrs[i].name, script_attrs[i].value);\n",
       "      }\n",
       "      // store reference to server id on output_area\n",
       "      output_area._bokeh_server_id = output.metadata[EXEC_MIME_TYPE][\"server_id\"];\n",
       "    }\n",
       "  }\n",
       "\n",
       "  function register_renderer(events, OutputArea) {\n",
       "\n",
       "    function append_mime(data, metadata, element) {\n",
       "      // create a DOM node to render to\n",
       "      var toinsert = this.create_output_subarea(\n",
       "        metadata,\n",
       "        CLASS_NAME,\n",
       "        EXEC_MIME_TYPE\n",
       "      );\n",
       "      this.keyboard_manager.register_events(toinsert);\n",
       "      // Render to node\n",
       "      var props = {data: data, metadata: metadata[EXEC_MIME_TYPE]};\n",
       "      render(props, toinsert[toinsert.length - 1]);\n",
       "      element.append(toinsert);\n",
       "      return toinsert\n",
       "    }\n",
       "\n",
       "    /* Handle when an output is cleared or removed */\n",
       "    events.on('clear_output.CodeCell', handleClearOutput);\n",
       "    events.on('delete.Cell', handleClearOutput);\n",
       "\n",
       "    /* Handle when a new output is added */\n",
       "    events.on('output_added.OutputArea', handleAddOutput);\n",
       "\n",
       "    /**\n",
       "     * Register the mime type and append_mime function with output_area\n",
       "     */\n",
       "    OutputArea.prototype.register_mime_type(EXEC_MIME_TYPE, append_mime, {\n",
       "      /* Is output safe? */\n",
       "      safe: true,\n",
       "      /* Index of renderer in `output_area.display_order` */\n",
       "      index: 0\n",
       "    });\n",
       "  }\n",
       "\n",
       "  // register the mime type if in Jupyter Notebook environment and previously unregistered\n",
       "  if (root.Jupyter !== undefined) {\n",
       "    var events = require('base/js/events');\n",
       "    var OutputArea = require('notebook/js/outputarea').OutputArea;\n",
       "\n",
       "    if (OutputArea.prototype.mime_types().indexOf(EXEC_MIME_TYPE) == -1) {\n",
       "      register_renderer(events, OutputArea);\n",
       "    }\n",
       "  }\n",
       "\n",
       "  \n",
       "  if (typeof (root._bokeh_timeout) === \"undefined\" || force === true) {\n",
       "    root._bokeh_timeout = Date.now() + 5000;\n",
       "    root._bokeh_failed_load = false;\n",
       "  }\n",
       "\n",
       "  var NB_LOAD_WARNING = {'data': {'text/html':\n",
       "     \"<div style='background-color: #fdd'>\\n\"+\n",
       "     \"<p>\\n\"+\n",
       "     \"BokehJS does not appear to have successfully loaded. If loading BokehJS from CDN, this \\n\"+\n",
       "     \"may be due to a slow or bad network connection. Possible fixes:\\n\"+\n",
       "     \"</p>\\n\"+\n",
       "     \"<ul>\\n\"+\n",
       "     \"<li>re-rerun `output_notebook()` to attempt to load from CDN again, or</li>\\n\"+\n",
       "     \"<li>use INLINE resources instead, as so:</li>\\n\"+\n",
       "     \"</ul>\\n\"+\n",
       "     \"<code>\\n\"+\n",
       "     \"from bokeh.resources import INLINE\\n\"+\n",
       "     \"output_notebook(resources=INLINE)\\n\"+\n",
       "     \"</code>\\n\"+\n",
       "     \"</div>\"}};\n",
       "\n",
       "  function display_loaded() {\n",
       "    var el = document.getElementById(\"a4ec610d-e268-4ab7-9b9d-95680cf5cf02\");\n",
       "    if (el != null) {\n",
       "      el.textContent = \"BokehJS is loading...\";\n",
       "    }\n",
       "    if (root.Bokeh !== undefined) {\n",
       "      if (el != null) {\n",
       "        el.textContent = \"BokehJS \" + root.Bokeh.version + \" successfully loaded.\";\n",
       "      }\n",
       "    } else if (Date.now() < root._bokeh_timeout) {\n",
       "      setTimeout(display_loaded, 100)\n",
       "    }\n",
       "  }\n",
       "\n",
       "\n",
       "  function run_callbacks() {\n",
       "    try {\n",
       "      root._bokeh_onload_callbacks.forEach(function(callback) { callback() });\n",
       "    }\n",
       "    finally {\n",
       "      delete root._bokeh_onload_callbacks\n",
       "    }\n",
       "    console.info(\"Bokeh: all callbacks have finished\");\n",
       "  }\n",
       "\n",
       "  function load_libs(js_urls, callback) {\n",
       "    root._bokeh_onload_callbacks.push(callback);\n",
       "    if (root._bokeh_is_loading > 0) {\n",
       "      console.log(\"Bokeh: BokehJS is being loaded, scheduling callback at\", now());\n",
       "      return null;\n",
       "    }\n",
       "    if (js_urls == null || js_urls.length === 0) {\n",
       "      run_callbacks();\n",
       "      return null;\n",
       "    }\n",
       "    console.log(\"Bokeh: BokehJS not loaded, scheduling load and callback at\", now());\n",
       "    root._bokeh_is_loading = js_urls.length;\n",
       "    for (var i = 0; i < js_urls.length; i++) {\n",
       "      var url = js_urls[i];\n",
       "      var s = document.createElement('script');\n",
       "      s.src = url;\n",
       "      s.async = false;\n",
       "      s.onreadystatechange = s.onload = function() {\n",
       "        root._bokeh_is_loading--;\n",
       "        if (root._bokeh_is_loading === 0) {\n",
       "          console.log(\"Bokeh: all BokehJS libraries loaded\");\n",
       "          run_callbacks()\n",
       "        }\n",
       "      };\n",
       "      s.onerror = function() {\n",
       "        console.warn(\"failed to load library \" + url);\n",
       "      };\n",
       "      console.log(\"Bokeh: injecting script tag for BokehJS library: \", url);\n",
       "      document.getElementsByTagName(\"head\")[0].appendChild(s);\n",
       "    }\n",
       "  };var element = document.getElementById(\"a4ec610d-e268-4ab7-9b9d-95680cf5cf02\");\n",
       "  if (element == null) {\n",
       "    console.log(\"Bokeh: ERROR: autoload.js configured with elementid 'a4ec610d-e268-4ab7-9b9d-95680cf5cf02' but no matching script tag was found. \")\n",
       "    return false;\n",
       "  }\n",
       "\n",
       "  var js_urls = [\"https://cdn.pydata.org/bokeh/release/bokeh-0.13.0.min.js\", \"https://cdn.pydata.org/bokeh/release/bokeh-widgets-0.13.0.min.js\", \"https://cdn.pydata.org/bokeh/release/bokeh-tables-0.13.0.min.js\", \"https://cdn.pydata.org/bokeh/release/bokeh-gl-0.13.0.min.js\"];\n",
       "\n",
       "  var inline_js = [\n",
       "    function(Bokeh) {\n",
       "      Bokeh.set_log_level(\"info\");\n",
       "    },\n",
       "    \n",
       "    function(Bokeh) {\n",
       "      \n",
       "    },\n",
       "    function(Bokeh) {\n",
       "      console.log(\"Bokeh: injecting CSS: https://cdn.pydata.org/bokeh/release/bokeh-0.13.0.min.css\");\n",
       "      Bokeh.embed.inject_css(\"https://cdn.pydata.org/bokeh/release/bokeh-0.13.0.min.css\");\n",
       "      console.log(\"Bokeh: injecting CSS: https://cdn.pydata.org/bokeh/release/bokeh-widgets-0.13.0.min.css\");\n",
       "      Bokeh.embed.inject_css(\"https://cdn.pydata.org/bokeh/release/bokeh-widgets-0.13.0.min.css\");\n",
       "      console.log(\"Bokeh: injecting CSS: https://cdn.pydata.org/bokeh/release/bokeh-tables-0.13.0.min.css\");\n",
       "      Bokeh.embed.inject_css(\"https://cdn.pydata.org/bokeh/release/bokeh-tables-0.13.0.min.css\");\n",
       "    }\n",
       "  ];\n",
       "\n",
       "  function run_inline_js() {\n",
       "    \n",
       "    if ((root.Bokeh !== undefined) || (force === true)) {\n",
       "      for (var i = 0; i < inline_js.length; i++) {\n",
       "        inline_js[i].call(root, root.Bokeh);\n",
       "      }if (force === true) {\n",
       "        display_loaded();\n",
       "      }} else if (Date.now() < root._bokeh_timeout) {\n",
       "      setTimeout(run_inline_js, 100);\n",
       "    } else if (!root._bokeh_failed_load) {\n",
       "      console.log(\"Bokeh: BokehJS failed to load within specified timeout.\");\n",
       "      root._bokeh_failed_load = true;\n",
       "    } else if (force !== true) {\n",
       "      var cell = $(document.getElementById(\"a4ec610d-e268-4ab7-9b9d-95680cf5cf02\")).parents('.cell').data().cell;\n",
       "      cell.output_area.append_execute_result(NB_LOAD_WARNING)\n",
       "    }\n",
       "\n",
       "  }\n",
       "\n",
       "  if (root._bokeh_is_loading === 0) {\n",
       "    console.log(\"Bokeh: BokehJS loaded, going straight to plotting\");\n",
       "    run_inline_js();\n",
       "  } else {\n",
       "    load_libs(js_urls, function() {\n",
       "      console.log(\"Bokeh: BokehJS plotting callback run at\", now());\n",
       "      run_inline_js();\n",
       "    });\n",
       "  }\n",
       "}(window));"
      ],
      "application/vnd.bokehjs_load.v0+json": "\n(function(root) {\n  function now() {\n    return new Date();\n  }\n\n  var force = true;\n\n  if (typeof (root._bokeh_onload_callbacks) === \"undefined\" || force === true) {\n    root._bokeh_onload_callbacks = [];\n    root._bokeh_is_loading = undefined;\n  }\n\n  \n\n  \n  if (typeof (root._bokeh_timeout) === \"undefined\" || force === true) {\n    root._bokeh_timeout = Date.now() + 5000;\n    root._bokeh_failed_load = false;\n  }\n\n  var NB_LOAD_WARNING = {'data': {'text/html':\n     \"<div style='background-color: #fdd'>\\n\"+\n     \"<p>\\n\"+\n     \"BokehJS does not appear to have successfully loaded. If loading BokehJS from CDN, this \\n\"+\n     \"may be due to a slow or bad network connection. Possible fixes:\\n\"+\n     \"</p>\\n\"+\n     \"<ul>\\n\"+\n     \"<li>re-rerun `output_notebook()` to attempt to load from CDN again, or</li>\\n\"+\n     \"<li>use INLINE resources instead, as so:</li>\\n\"+\n     \"</ul>\\n\"+\n     \"<code>\\n\"+\n     \"from bokeh.resources import INLINE\\n\"+\n     \"output_notebook(resources=INLINE)\\n\"+\n     \"</code>\\n\"+\n     \"</div>\"}};\n\n  function display_loaded() {\n    var el = document.getElementById(\"a4ec610d-e268-4ab7-9b9d-95680cf5cf02\");\n    if (el != null) {\n      el.textContent = \"BokehJS is loading...\";\n    }\n    if (root.Bokeh !== undefined) {\n      if (el != null) {\n        el.textContent = \"BokehJS \" + root.Bokeh.version + \" successfully loaded.\";\n      }\n    } else if (Date.now() < root._bokeh_timeout) {\n      setTimeout(display_loaded, 100)\n    }\n  }\n\n\n  function run_callbacks() {\n    try {\n      root._bokeh_onload_callbacks.forEach(function(callback) { callback() });\n    }\n    finally {\n      delete root._bokeh_onload_callbacks\n    }\n    console.info(\"Bokeh: all callbacks have finished\");\n  }\n\n  function load_libs(js_urls, callback) {\n    root._bokeh_onload_callbacks.push(callback);\n    if (root._bokeh_is_loading > 0) {\n      console.log(\"Bokeh: BokehJS is being loaded, scheduling callback at\", now());\n      return null;\n    }\n    if (js_urls == null || js_urls.length === 0) {\n      run_callbacks();\n      return null;\n    }\n    console.log(\"Bokeh: BokehJS not loaded, scheduling load and callback at\", now());\n    root._bokeh_is_loading = js_urls.length;\n    for (var i = 0; i < js_urls.length; i++) {\n      var url = js_urls[i];\n      var s = document.createElement('script');\n      s.src = url;\n      s.async = false;\n      s.onreadystatechange = s.onload = function() {\n        root._bokeh_is_loading--;\n        if (root._bokeh_is_loading === 0) {\n          console.log(\"Bokeh: all BokehJS libraries loaded\");\n          run_callbacks()\n        }\n      };\n      s.onerror = function() {\n        console.warn(\"failed to load library \" + url);\n      };\n      console.log(\"Bokeh: injecting script tag for BokehJS library: \", url);\n      document.getElementsByTagName(\"head\")[0].appendChild(s);\n    }\n  };var element = document.getElementById(\"a4ec610d-e268-4ab7-9b9d-95680cf5cf02\");\n  if (element == null) {\n    console.log(\"Bokeh: ERROR: autoload.js configured with elementid 'a4ec610d-e268-4ab7-9b9d-95680cf5cf02' but no matching script tag was found. \")\n    return false;\n  }\n\n  var js_urls = [\"https://cdn.pydata.org/bokeh/release/bokeh-0.13.0.min.js\", \"https://cdn.pydata.org/bokeh/release/bokeh-widgets-0.13.0.min.js\", \"https://cdn.pydata.org/bokeh/release/bokeh-tables-0.13.0.min.js\", \"https://cdn.pydata.org/bokeh/release/bokeh-gl-0.13.0.min.js\"];\n\n  var inline_js = [\n    function(Bokeh) {\n      Bokeh.set_log_level(\"info\");\n    },\n    \n    function(Bokeh) {\n      \n    },\n    function(Bokeh) {\n      console.log(\"Bokeh: injecting CSS: https://cdn.pydata.org/bokeh/release/bokeh-0.13.0.min.css\");\n      Bokeh.embed.inject_css(\"https://cdn.pydata.org/bokeh/release/bokeh-0.13.0.min.css\");\n      console.log(\"Bokeh: injecting CSS: https://cdn.pydata.org/bokeh/release/bokeh-widgets-0.13.0.min.css\");\n      Bokeh.embed.inject_css(\"https://cdn.pydata.org/bokeh/release/bokeh-widgets-0.13.0.min.css\");\n      console.log(\"Bokeh: injecting CSS: https://cdn.pydata.org/bokeh/release/bokeh-tables-0.13.0.min.css\");\n      Bokeh.embed.inject_css(\"https://cdn.pydata.org/bokeh/release/bokeh-tables-0.13.0.min.css\");\n    }\n  ];\n\n  function run_inline_js() {\n    \n    if ((root.Bokeh !== undefined) || (force === true)) {\n      for (var i = 0; i < inline_js.length; i++) {\n        inline_js[i].call(root, root.Bokeh);\n      }if (force === true) {\n        display_loaded();\n      }} else if (Date.now() < root._bokeh_timeout) {\n      setTimeout(run_inline_js, 100);\n    } else if (!root._bokeh_failed_load) {\n      console.log(\"Bokeh: BokehJS failed to load within specified timeout.\");\n      root._bokeh_failed_load = true;\n    } else if (force !== true) {\n      var cell = $(document.getElementById(\"a4ec610d-e268-4ab7-9b9d-95680cf5cf02\")).parents('.cell').data().cell;\n      cell.output_area.append_execute_result(NB_LOAD_WARNING)\n    }\n\n  }\n\n  if (root._bokeh_is_loading === 0) {\n    console.log(\"Bokeh: BokehJS loaded, going straight to plotting\");\n    run_inline_js();\n  } else {\n    load_libs(js_urls, function() {\n      console.log(\"Bokeh: BokehJS plotting callback run at\", now());\n      run_inline_js();\n    });\n  }\n}(window));"
     },
     "metadata": {},
     "output_type": "display_data"
    }
   ],
   "source": [
    "import numpy as np\n",
    "from numpy import linalg as la\n",
    "import pandas as pd\n",
    "import requests\n",
    "\n",
    "# Read in Visualization code from Github (requires bokeh module)\n",
    "exec(requests.get('https://raw.githubusercontent.com/edunford/ppol564/master/lectures/visualization_library/visualize.py').content)\n",
    "vla = LinearAlgebra # assign class to an simplier naming convention.\n",
    "plot = vla()"
   ]
  },
  {
   "cell_type": "markdown",
   "metadata": {},
   "source": [
    "## Simulate Data "
   ]
  },
  {
   "cell_type": "code",
   "execution_count": 2,
   "metadata": {},
   "outputs": [
    {
     "name": "stdout",
     "output_type": "stream",
     "text": [
      "The dimensions of X\n",
      " (10, 2)\n",
      "\n",
      "X\n",
      " [[1.91 4.  ]\n",
      " [3.28 1.49]\n",
      " [2.42 4.65]\n",
      " [0.57 2.57]\n",
      " [4.27 2.13]\n",
      " [2.32 2.91]\n",
      " [4.49 2.36]\n",
      " [2.56 2.57]\n",
      " [5.21 5.19]\n",
      " [4.   3.39]]\n"
     ]
    }
   ],
   "source": [
    "np.random.seed(123) # To reproduce simulation \n",
    "N = 10              # Number of observations\n",
    "P = 2               # Number of variables\n",
    "X = np.random.normal(3,1,N*P).reshape(N,P).round(2) # Draw from a normal distribution\n",
    "\n",
    "print('The dimensions of X\\n',X.shape)\n",
    "print('\\nX\\n',X)"
   ]
  },
  {
   "cell_type": "code",
   "execution_count": 3,
   "metadata": {},
   "outputs": [
    {
     "name": "stdout",
     "output_type": "stream",
     "text": [
      "Visual representation of our simulated data as vectors\n",
      "\n"
     ]
    },
    {
     "data": {
      "text/html": [
       "\n",
       "\n",
       "\n",
       "\n",
       "\n",
       "\n",
       "  <div class=\"bk-root\" id=\"70e5995b-9707-4393-8610-e480434ee579\"></div>\n"
      ]
     },
     "metadata": {},
     "output_type": "display_data"
    },
    {
     "data": {
      "application/javascript": [
       "(function(root) {\n",
       "  function embed_document(root) {\n",
       "    \n",
       "  var docs_json = {\"1d649a05-b226-4c00-a82f-0f2c697989bb\":{\"roots\":{\"references\":[{\"attributes\":{\"fill_color\":{\"value\":\"black\"},\"x\":{\"value\":2.42},\"y\":{\"value\":4.65}},\"id\":\"4fa58f27-5b8a-444f-a387-6307b23a82bc\",\"type\":\"Circle\"},{\"attributes\":{\"plot\":null,\"text\":\"\"},\"id\":\"5e1d3879-2b19-427c-ab27-6a0088cb1ca7\",\"type\":\"Title\"},{\"attributes\":{},\"id\":\"eafb360a-6d54-4fcb-8b7c-b4624adbb020\",\"type\":\"Selection\"},{\"attributes\":{\"fill_alpha\":{\"value\":0.1},\"fill_color\":{\"value\":\"#1f77b4\"},\"line_alpha\":{\"value\":0.1},\"line_color\":{\"value\":\"#1f77b4\"},\"x\":{\"value\":2.42},\"y\":{\"value\":4.65}},\"id\":\"e18c05a0-bfa3-46e1-b6fd-b44f1d19ab21\",\"type\":\"Circle\"},{\"attributes\":{},\"id\":\"f71a75eb-433d-4c85-ab43-63e341188ab0\",\"type\":\"UnionRenderers\"},{\"attributes\":{\"data_source\":{\"id\":\"581b8f01-4a0c-4294-adb4-c251e4f06818\",\"type\":\"ColumnDataSource\"},\"glyph\":{\"id\":\"4fa58f27-5b8a-444f-a387-6307b23a82bc\",\"type\":\"Circle\"},\"hover_glyph\":null,\"muted_glyph\":null,\"nonselection_glyph\":{\"id\":\"e18c05a0-bfa3-46e1-b6fd-b44f1d19ab21\",\"type\":\"Circle\"},\"selection_glyph\":null,\"view\":{\"id\":\"238e5472-637e-4088-ae98-04f279c9003a\",\"type\":\"CDSView\"}},\"id\":\"85c92e84-920e-4e89-be9b-d91e005f3481\",\"type\":\"GlyphRenderer\"},{\"attributes\":{},\"id\":\"b7d10886-629c-483f-988b-82821f1b7cd8\",\"type\":\"Selection\"},{\"attributes\":{\"source\":{\"id\":\"581b8f01-4a0c-4294-adb4-c251e4f06818\",\"type\":\"ColumnDataSource\"}},\"id\":\"238e5472-637e-4088-ae98-04f279c9003a\",\"type\":\"CDSView\"},{\"attributes\":{},\"id\":\"5745e325-2a63-40a9-919a-21f35379adde\",\"type\":\"UnionRenderers\"},{\"attributes\":{\"callback\":null,\"data\":{\"x\":[-10.0,10.0],\"y\":[0.0,0.0]},\"selected\":{\"id\":\"f9a515d6-4508-4a24-b537-b0c6ee8608e3\",\"type\":\"Selection\"},\"selection_policy\":{\"id\":\"b23fdcb9-44c4-4c44-86bf-292e891676bc\",\"type\":\"UnionRenderers\"}},\"id\":\"dc7aa189-1659-45cd-8fa2-941c8c1a2315\",\"type\":\"ColumnDataSource\"},{\"attributes\":{\"fill_alpha\":{\"value\":0.1},\"line_alpha\":{\"value\":0.1},\"plot\":null,\"size\":10},\"id\":\"4c2388f6-d85c-44d2-b8ec-380609b83121\",\"type\":\"NormalHead\"},{\"attributes\":{},\"id\":\"20b9fcbf-9fe0-446a-ac2e-0db4fb8accc6\",\"type\":\"Selection\"},{\"attributes\":{\"end\":{\"id\":\"4c2388f6-d85c-44d2-b8ec-380609b83121\",\"type\":\"NormalHead\"},\"line_alpha\":{\"value\":0.1},\"line_width\":{\"value\":3},\"plot\":{\"id\":\"dda2cb34-05a6-4ea3-8217-d567abd8cb95\",\"subtype\":\"Figure\",\"type\":\"Plot\"},\"source\":null,\"start\":null,\"x_end\":{\"value\":0.57},\"x_start\":{\"value\":0.0},\"y_end\":{\"value\":2.57},\"y_start\":{\"value\":0.0}},\"id\":\"0dc123c3-73b2-4227-967c-b2a5bc97f193\",\"type\":\"Arrow\"},{\"attributes\":{\"active_drag\":\"auto\",\"active_inspect\":\"auto\",\"active_multi\":null,\"active_scroll\":\"auto\",\"active_tap\":\"auto\",\"tools\":[{\"id\":\"8fa322d3-4833-46b0-8937-bb9a8c0216e7\",\"type\":\"WheelZoomTool\"},{\"id\":\"ac21142d-740a-47d4-97a7-73ea7af4c0a5\",\"type\":\"PanTool\"},{\"id\":\"015d438b-326d-4d0f-9794-87447a1cea9c\",\"type\":\"ResetTool\"}]},\"id\":\"a4824f1a-8d30-4587-b61d-1b594a638aa7\",\"type\":\"Toolbar\"},{\"attributes\":{},\"id\":\"f951eb61-8a29-4cd3-ace5-ac432128d801\",\"type\":\"UnionRenderers\"},{\"attributes\":{\"callback\":null,\"data\":{},\"selected\":{\"id\":\"2cda8316-ed23-43d9-acbd-0f0daa6f1670\",\"type\":\"Selection\"},\"selection_policy\":{\"id\":\"73be2b15-b439-4384-9933-24c19b4963c1\",\"type\":\"UnionRenderers\"}},\"id\":\"ffbd0065-8521-4afc-bb4a-c4dda6f8ad8b\",\"type\":\"ColumnDataSource\"},{\"attributes\":{},\"id\":\"83692e0a-bbb8-4503-b17e-ddddc140d5ca\",\"type\":\"Selection\"},{\"attributes\":{\"fill_alpha\":{\"value\":0.1},\"fill_color\":{\"value\":\"#1f77b4\"},\"line_alpha\":{\"value\":0.1},\"line_color\":{\"value\":\"#1f77b4\"},\"x\":{\"value\":0.57},\"y\":{\"value\":2.57}},\"id\":\"29880bc5-0f2d-46ce-a2ff-78b62a45f57f\",\"type\":\"Circle\"},{\"attributes\":{},\"id\":\"9bd3cb8e-0c16-4a43-957c-e78c38183657\",\"type\":\"UnionRenderers\"},{\"attributes\":{\"fill_color\":{\"value\":\"black\"},\"x\":{\"value\":0.57},\"y\":{\"value\":2.57}},\"id\":\"d3af41d4-0f0b-4d05-9281-b61b3a593bd7\",\"type\":\"Circle\"},{\"attributes\":{},\"id\":\"93cec0b5-29f0-4010-b6f2-5fc85b854a2e\",\"type\":\"Selection\"},{\"attributes\":{\"data_source\":{\"id\":\"ffbd0065-8521-4afc-bb4a-c4dda6f8ad8b\",\"type\":\"ColumnDataSource\"},\"glyph\":{\"id\":\"d3af41d4-0f0b-4d05-9281-b61b3a593bd7\",\"type\":\"Circle\"},\"hover_glyph\":null,\"muted_glyph\":null,\"nonselection_glyph\":{\"id\":\"29880bc5-0f2d-46ce-a2ff-78b62a45f57f\",\"type\":\"Circle\"},\"selection_glyph\":null,\"view\":{\"id\":\"ba20773f-b51c-4f2a-a3b1-a873a0a5cb91\",\"type\":\"CDSView\"}},\"id\":\"8f9df409-82f2-4820-ab1c-e9d8ecacfd4d\",\"type\":\"GlyphRenderer\"},{\"attributes\":{},\"id\":\"8de60b4b-6c88-4b0b-9c8d-f40cd244f872\",\"type\":\"LinearScale\"},{\"attributes\":{\"source\":{\"id\":\"ffbd0065-8521-4afc-bb4a-c4dda6f8ad8b\",\"type\":\"ColumnDataSource\"}},\"id\":\"ba20773f-b51c-4f2a-a3b1-a873a0a5cb91\",\"type\":\"CDSView\"},{\"attributes\":{\"fill_alpha\":{\"value\":0.1},\"line_alpha\":{\"value\":0.1},\"plot\":null,\"size\":10},\"id\":\"0aab1da4-1881-4dcd-baed-a52ccc22d125\",\"type\":\"NormalHead\"},{\"attributes\":{\"plot\":{\"id\":\"dda2cb34-05a6-4ea3-8217-d567abd8cb95\",\"subtype\":\"Figure\",\"type\":\"Plot\"},\"ticker\":{\"id\":\"7af64cb8-d4af-4782-b89e-5a421afd3bde\",\"type\":\"BasicTicker\"}},\"id\":\"f887a933-4462-413b-9c19-01a127023feb\",\"type\":\"Grid\"},{\"attributes\":{\"end\":{\"id\":\"0aab1da4-1881-4dcd-baed-a52ccc22d125\",\"type\":\"NormalHead\"},\"line_alpha\":{\"value\":0.1},\"line_width\":{\"value\":3},\"plot\":{\"id\":\"dda2cb34-05a6-4ea3-8217-d567abd8cb95\",\"subtype\":\"Figure\",\"type\":\"Plot\"},\"source\":null,\"start\":null,\"x_end\":{\"value\":4.27},\"x_start\":{\"value\":0.0},\"y_end\":{\"value\":2.13},\"y_start\":{\"value\":0.0}},\"id\":\"eed04597-1c56-4ce2-a214-f86b488c6b8a\",\"type\":\"Arrow\"},{\"attributes\":{\"callback\":null,\"data\":{},\"selected\":{\"id\":\"78daf15f-ed7f-47a6-a7b1-d825f05fe6ca\",\"type\":\"Selection\"},\"selection_policy\":{\"id\":\"b813829c-716a-40fc-81de-4a854d5ea8cd\",\"type\":\"UnionRenderers\"}},\"id\":\"b1f2e9bc-dcab-4b18-b164-08dbbfc8b426\",\"type\":\"ColumnDataSource\"},{\"attributes\":{\"fill_alpha\":{\"value\":0.1},\"fill_color\":{\"value\":\"#1f77b4\"},\"line_alpha\":{\"value\":0.1},\"line_color\":{\"value\":\"#1f77b4\"},\"x\":{\"value\":4.27},\"y\":{\"value\":2.13}},\"id\":\"a851e714-8ba7-4f43-b1ad-19a516a66a38\",\"type\":\"Circle\"},{\"attributes\":{\"fill_color\":{\"value\":\"black\"},\"x\":{\"value\":4.27},\"y\":{\"value\":2.13}},\"id\":\"cd5e5c34-0528-4bd3-9127-8358871a204e\",\"type\":\"Circle\"},{\"attributes\":{\"data_source\":{\"id\":\"b1f2e9bc-dcab-4b18-b164-08dbbfc8b426\",\"type\":\"ColumnDataSource\"},\"glyph\":{\"id\":\"cd5e5c34-0528-4bd3-9127-8358871a204e\",\"type\":\"Circle\"},\"hover_glyph\":null,\"muted_glyph\":null,\"nonselection_glyph\":{\"id\":\"a851e714-8ba7-4f43-b1ad-19a516a66a38\",\"type\":\"Circle\"},\"selection_glyph\":null,\"view\":{\"id\":\"1777a4ce-37c3-4e6f-aa58-0c45982aff84\",\"type\":\"CDSView\"}},\"id\":\"1e9dc785-5e21-4af3-b83d-68309c53a2f6\",\"type\":\"GlyphRenderer\"},{\"attributes\":{\"source\":{\"id\":\"b1f2e9bc-dcab-4b18-b164-08dbbfc8b426\",\"type\":\"ColumnDataSource\"}},\"id\":\"1777a4ce-37c3-4e6f-aa58-0c45982aff84\",\"type\":\"CDSView\"},{\"attributes\":{\"fill_alpha\":{\"value\":0.1},\"line_alpha\":{\"value\":0.1},\"plot\":null,\"size\":10},\"id\":\"4693641f-485b-4c01-8669-ae98717e05ce\",\"type\":\"NormalHead\"},{\"attributes\":{\"end\":{\"id\":\"4693641f-485b-4c01-8669-ae98717e05ce\",\"type\":\"NormalHead\"},\"line_alpha\":{\"value\":0.1},\"line_width\":{\"value\":3},\"plot\":{\"id\":\"dda2cb34-05a6-4ea3-8217-d567abd8cb95\",\"subtype\":\"Figure\",\"type\":\"Plot\"},\"source\":null,\"start\":null,\"x_end\":{\"value\":2.32},\"x_start\":{\"value\":0.0},\"y_end\":{\"value\":2.91},\"y_start\":{\"value\":0.0}},\"id\":\"08690f7a-4c03-4c30-a07f-03a8ac9abca3\",\"type\":\"Arrow\"},{\"attributes\":{\"callback\":null,\"data\":{},\"selected\":{\"id\":\"eafb360a-6d54-4fcb-8b7c-b4624adbb020\",\"type\":\"Selection\"},\"selection_policy\":{\"id\":\"9c7ce298-209b-472a-bfba-a2ba38273361\",\"type\":\"UnionRenderers\"}},\"id\":\"84abd90e-fbd1-4b95-a9f9-190175528e58\",\"type\":\"ColumnDataSource\"},{\"attributes\":{},\"id\":\"8fa322d3-4833-46b0-8937-bb9a8c0216e7\",\"type\":\"WheelZoomTool\"},{\"attributes\":{\"fill_alpha\":{\"value\":0.1},\"fill_color\":{\"value\":\"#1f77b4\"},\"line_alpha\":{\"value\":0.1},\"line_color\":{\"value\":\"#1f77b4\"},\"x\":{\"value\":2.32},\"y\":{\"value\":2.91}},\"id\":\"66fd61b3-1a15-4b83-ab10-0ce92b07c2b3\",\"type\":\"Circle\"},{\"attributes\":{\"callback\":null,\"end\":7.0,\"start\":-7.0},\"id\":\"68f08066-4320-43b1-b391-7a8adae7d4db\",\"type\":\"Range1d\"},{\"attributes\":{\"fill_color\":{\"value\":\"black\"},\"x\":{\"value\":2.32},\"y\":{\"value\":2.91}},\"id\":\"b9012bc5-1f9a-40ba-9db7-2e7a3319b28a\",\"type\":\"Circle\"},{\"attributes\":{\"data_source\":{\"id\":\"84abd90e-fbd1-4b95-a9f9-190175528e58\",\"type\":\"ColumnDataSource\"},\"glyph\":{\"id\":\"b9012bc5-1f9a-40ba-9db7-2e7a3319b28a\",\"type\":\"Circle\"},\"hover_glyph\":null,\"muted_glyph\":null,\"nonselection_glyph\":{\"id\":\"66fd61b3-1a15-4b83-ab10-0ce92b07c2b3\",\"type\":\"Circle\"},\"selection_glyph\":null,\"view\":{\"id\":\"1032f103-58d1-49d4-9bea-84015931c911\",\"type\":\"CDSView\"}},\"id\":\"a63f24d4-6a50-4fb8-b1b4-2fccf3e2c37d\",\"type\":\"GlyphRenderer\"},{\"attributes\":{\"source\":{\"id\":\"84abd90e-fbd1-4b95-a9f9-190175528e58\",\"type\":\"ColumnDataSource\"}},\"id\":\"1032f103-58d1-49d4-9bea-84015931c911\",\"type\":\"CDSView\"},{\"attributes\":{\"line_width\":1.5,\"x\":{\"field\":\"x\"},\"y\":{\"field\":\"y\"}},\"id\":\"141ad4b7-899e-4c0a-b33a-d580d7775b85\",\"type\":\"Line\"},{\"attributes\":{\"fill_alpha\":{\"value\":0.1},\"line_alpha\":{\"value\":0.1},\"plot\":null,\"size\":10},\"id\":\"8ce0570c-06a0-4739-9806-acaee8ee578d\",\"type\":\"NormalHead\"},{\"attributes\":{},\"id\":\"7af64cb8-d4af-4782-b89e-5a421afd3bde\",\"type\":\"BasicTicker\"},{\"attributes\":{\"formatter\":{\"id\":\"c23dc398-83a4-4458-935d-e6d103b08309\",\"type\":\"BasicTickFormatter\"},\"plot\":{\"id\":\"dda2cb34-05a6-4ea3-8217-d567abd8cb95\",\"subtype\":\"Figure\",\"type\":\"Plot\"},\"ticker\":{\"id\":\"7af64cb8-d4af-4782-b89e-5a421afd3bde\",\"type\":\"BasicTicker\"}},\"id\":\"34c96610-b2e5-41b6-abc1-4841437cf0cd\",\"type\":\"LinearAxis\"},{\"attributes\":{\"end\":{\"id\":\"8ce0570c-06a0-4739-9806-acaee8ee578d\",\"type\":\"NormalHead\"},\"line_alpha\":{\"value\":0.1},\"line_width\":{\"value\":3},\"plot\":{\"id\":\"dda2cb34-05a6-4ea3-8217-d567abd8cb95\",\"subtype\":\"Figure\",\"type\":\"Plot\"},\"source\":null,\"start\":null,\"x_end\":{\"value\":4.49},\"x_start\":{\"value\":0.0},\"y_end\":{\"value\":2.36},\"y_start\":{\"value\":0.0}},\"id\":\"c39ca8a4-0922-43fd-9e7c-0510074a80d8\",\"type\":\"Arrow\"},{\"attributes\":{\"callback\":null,\"data\":{},\"selected\":{\"id\":\"b7d10886-629c-483f-988b-82821f1b7cd8\",\"type\":\"Selection\"},\"selection_policy\":{\"id\":\"f71a75eb-433d-4c85-ab43-63e341188ab0\",\"type\":\"UnionRenderers\"}},\"id\":\"7bade64f-45fb-43f4-b87a-4ed677dc9719\",\"type\":\"ColumnDataSource\"},{\"attributes\":{\"below\":[{\"id\":\"34c96610-b2e5-41b6-abc1-4841437cf0cd\",\"type\":\"LinearAxis\"}],\"left\":[{\"id\":\"d4f50cfb-2a5e-4a5d-9207-83b330889bd7\",\"type\":\"LinearAxis\"}],\"plot_height\":700,\"plot_width\":700,\"renderers\":[{\"id\":\"34c96610-b2e5-41b6-abc1-4841437cf0cd\",\"type\":\"LinearAxis\"},{\"id\":\"f887a933-4462-413b-9c19-01a127023feb\",\"type\":\"Grid\"},{\"id\":\"d4f50cfb-2a5e-4a5d-9207-83b330889bd7\",\"type\":\"LinearAxis\"},{\"id\":\"f1b3716e-29d5-45d6-9c3b-07f58152237e\",\"type\":\"Grid\"},{\"id\":\"66e20a49-1c7a-439b-8357-5895bf556a7e\",\"type\":\"GlyphRenderer\"},{\"id\":\"ca63dce3-1a46-49a0-8851-a7ccdae453b4\",\"type\":\"GlyphRenderer\"},{\"id\":\"fe5fb30a-27a8-4a3b-99b1-ba774eed479a\",\"type\":\"Arrow\"},{\"id\":\"d703ee95-02ce-4d52-8e1e-abdbc33638b7\",\"type\":\"GlyphRenderer\"},{\"id\":\"16892327-288a-42e1-8b8a-970b5faa6300\",\"type\":\"Arrow\"},{\"id\":\"9f290736-844f-417e-8700-baa9829df5b1\",\"type\":\"GlyphRenderer\"},{\"id\":\"a621dcde-5d4d-4d6a-b7ed-485a5ca43655\",\"type\":\"Arrow\"},{\"id\":\"85c92e84-920e-4e89-be9b-d91e005f3481\",\"type\":\"GlyphRenderer\"},{\"id\":\"0dc123c3-73b2-4227-967c-b2a5bc97f193\",\"type\":\"Arrow\"},{\"id\":\"8f9df409-82f2-4820-ab1c-e9d8ecacfd4d\",\"type\":\"GlyphRenderer\"},{\"id\":\"eed04597-1c56-4ce2-a214-f86b488c6b8a\",\"type\":\"Arrow\"},{\"id\":\"1e9dc785-5e21-4af3-b83d-68309c53a2f6\",\"type\":\"GlyphRenderer\"},{\"id\":\"08690f7a-4c03-4c30-a07f-03a8ac9abca3\",\"type\":\"Arrow\"},{\"id\":\"a63f24d4-6a50-4fb8-b1b4-2fccf3e2c37d\",\"type\":\"GlyphRenderer\"},{\"id\":\"c39ca8a4-0922-43fd-9e7c-0510074a80d8\",\"type\":\"Arrow\"},{\"id\":\"1f0379e2-aff9-4bff-b8d4-d01b36349139\",\"type\":\"GlyphRenderer\"},{\"id\":\"98a2c695-8b83-44cd-940d-6b7ebd8e39d0\",\"type\":\"Arrow\"},{\"id\":\"25dd89c1-0d9c-473f-881b-3b8a9e54bbf6\",\"type\":\"GlyphRenderer\"},{\"id\":\"7a6d5e0f-b558-443a-9b21-29314774c2a9\",\"type\":\"Arrow\"},{\"id\":\"1bb0e4ab-7db5-476c-a43a-76eec406cb4e\",\"type\":\"GlyphRenderer\"},{\"id\":\"5e26487c-873d-4612-8e16-19f580e4262d\",\"type\":\"Arrow\"},{\"id\":\"929e44d4-5aff-480f-b9de-4bfed7be8530\",\"type\":\"GlyphRenderer\"}],\"title\":{\"id\":\"5e1d3879-2b19-427c-ab27-6a0088cb1ca7\",\"type\":\"Title\"},\"toolbar\":{\"id\":\"a4824f1a-8d30-4587-b61d-1b594a638aa7\",\"type\":\"Toolbar\"},\"x_range\":{\"id\":\"68f08066-4320-43b1-b391-7a8adae7d4db\",\"type\":\"Range1d\"},\"x_scale\":{\"id\":\"0e1b0e9b-5908-4d4a-9b46-e8a90184391e\",\"type\":\"LinearScale\"},\"y_range\":{\"id\":\"c261b907-626d-4cd2-b5c9-887e4da3d0b6\",\"type\":\"Range1d\"},\"y_scale\":{\"id\":\"8de60b4b-6c88-4b0b-9c8d-f40cd244f872\",\"type\":\"LinearScale\"}},\"id\":\"dda2cb34-05a6-4ea3-8217-d567abd8cb95\",\"subtype\":\"Figure\",\"type\":\"Plot\"},{\"attributes\":{\"fill_alpha\":{\"value\":0.1},\"fill_color\":{\"value\":\"#1f77b4\"},\"line_alpha\":{\"value\":0.1},\"line_color\":{\"value\":\"#1f77b4\"},\"x\":{\"value\":4.49},\"y\":{\"value\":2.36}},\"id\":\"62671b69-0adc-4599-8f92-16fee2805130\",\"type\":\"Circle\"},{\"attributes\":{\"fill_color\":{\"value\":\"black\"},\"x\":{\"value\":4.49},\"y\":{\"value\":2.36}},\"id\":\"eb6ca08f-0ee5-432a-be13-8812edf13f2b\",\"type\":\"Circle\"},{\"attributes\":{\"data_source\":{\"id\":\"7bade64f-45fb-43f4-b87a-4ed677dc9719\",\"type\":\"ColumnDataSource\"},\"glyph\":{\"id\":\"eb6ca08f-0ee5-432a-be13-8812edf13f2b\",\"type\":\"Circle\"},\"hover_glyph\":null,\"muted_glyph\":null,\"nonselection_glyph\":{\"id\":\"62671b69-0adc-4599-8f92-16fee2805130\",\"type\":\"Circle\"},\"selection_glyph\":null,\"view\":{\"id\":\"18de7be5-625d-4de9-a7bf-fdc8236282fd\",\"type\":\"CDSView\"}},\"id\":\"1f0379e2-aff9-4bff-b8d4-d01b36349139\",\"type\":\"GlyphRenderer\"},{\"attributes\":{\"callback\":null,\"end\":7.0,\"start\":-7.0},\"id\":\"c261b907-626d-4cd2-b5c9-887e4da3d0b6\",\"type\":\"Range1d\"},{\"attributes\":{\"source\":{\"id\":\"7bade64f-45fb-43f4-b87a-4ed677dc9719\",\"type\":\"ColumnDataSource\"}},\"id\":\"18de7be5-625d-4de9-a7bf-fdc8236282fd\",\"type\":\"CDSView\"},{\"attributes\":{\"fill_alpha\":{\"value\":0.1},\"line_alpha\":{\"value\":0.1},\"plot\":null,\"size\":10},\"id\":\"51613d03-5b01-423d-a72e-bbfb8af2d0f6\",\"type\":\"NormalHead\"},{\"attributes\":{\"end\":{\"id\":\"51613d03-5b01-423d-a72e-bbfb8af2d0f6\",\"type\":\"NormalHead\"},\"line_alpha\":{\"value\":0.1},\"line_width\":{\"value\":3},\"plot\":{\"id\":\"dda2cb34-05a6-4ea3-8217-d567abd8cb95\",\"subtype\":\"Figure\",\"type\":\"Plot\"},\"source\":null,\"start\":null,\"x_end\":{\"value\":2.56},\"x_start\":{\"value\":0.0},\"y_end\":{\"value\":2.57},\"y_start\":{\"value\":0.0}},\"id\":\"98a2c695-8b83-44cd-940d-6b7ebd8e39d0\",\"type\":\"Arrow\"},{\"attributes\":{\"callback\":null,\"data\":{},\"selected\":{\"id\":\"20b9fcbf-9fe0-446a-ac2e-0db4fb8accc6\",\"type\":\"Selection\"},\"selection_policy\":{\"id\":\"5745e325-2a63-40a9-919a-21f35379adde\",\"type\":\"UnionRenderers\"}},\"id\":\"a6bc9b50-569b-4ddb-8466-34c132b16cd5\",\"type\":\"ColumnDataSource\"},{\"attributes\":{\"fill_alpha\":{\"value\":0.1},\"fill_color\":{\"value\":\"#1f77b4\"},\"line_alpha\":{\"value\":0.1},\"line_color\":{\"value\":\"#1f77b4\"},\"x\":{\"value\":2.56},\"y\":{\"value\":2.57}},\"id\":\"56ceeb0b-b077-4536-91a7-ae06f617632f\",\"type\":\"Circle\"},{\"attributes\":{\"fill_color\":{\"value\":\"black\"},\"x\":{\"value\":2.56},\"y\":{\"value\":2.57}},\"id\":\"5cbbb360-2e20-446f-a0c7-4cf52424e003\",\"type\":\"Circle\"},{\"attributes\":{\"data_source\":{\"id\":\"a6bc9b50-569b-4ddb-8466-34c132b16cd5\",\"type\":\"ColumnDataSource\"},\"glyph\":{\"id\":\"5cbbb360-2e20-446f-a0c7-4cf52424e003\",\"type\":\"Circle\"},\"hover_glyph\":null,\"muted_glyph\":null,\"nonselection_glyph\":{\"id\":\"56ceeb0b-b077-4536-91a7-ae06f617632f\",\"type\":\"Circle\"},\"selection_glyph\":null,\"view\":{\"id\":\"9ef96eeb-c7af-44ea-b502-3f0b0a24ed75\",\"type\":\"CDSView\"}},\"id\":\"25dd89c1-0d9c-473f-881b-3b8a9e54bbf6\",\"type\":\"GlyphRenderer\"},{\"attributes\":{\"source\":{\"id\":\"a6bc9b50-569b-4ddb-8466-34c132b16cd5\",\"type\":\"ColumnDataSource\"}},\"id\":\"9ef96eeb-c7af-44ea-b502-3f0b0a24ed75\",\"type\":\"CDSView\"},{\"attributes\":{\"fill_alpha\":{\"value\":0.1},\"line_alpha\":{\"value\":0.1},\"plot\":null,\"size\":10},\"id\":\"4b292129-1296-44c1-ad88-8fe153711b04\",\"type\":\"NormalHead\"},{\"attributes\":{\"end\":{\"id\":\"4b292129-1296-44c1-ad88-8fe153711b04\",\"type\":\"NormalHead\"},\"line_alpha\":{\"value\":0.1},\"line_width\":{\"value\":3},\"plot\":{\"id\":\"dda2cb34-05a6-4ea3-8217-d567abd8cb95\",\"subtype\":\"Figure\",\"type\":\"Plot\"},\"source\":null,\"start\":null,\"x_end\":{\"value\":5.21},\"x_start\":{\"value\":0.0},\"y_end\":{\"value\":5.19},\"y_start\":{\"value\":0.0}},\"id\":\"7a6d5e0f-b558-443a-9b21-29314774c2a9\",\"type\":\"Arrow\"},{\"attributes\":{},\"id\":\"b813829c-716a-40fc-81de-4a854d5ea8cd\",\"type\":\"UnionRenderers\"},{\"attributes\":{\"callback\":null,\"data\":{},\"selected\":{\"id\":\"83692e0a-bbb8-4503-b17e-ddddc140d5ca\",\"type\":\"Selection\"},\"selection_policy\":{\"id\":\"f951eb61-8a29-4cd3-ace5-ac432128d801\",\"type\":\"UnionRenderers\"}},\"id\":\"27baf929-e775-4936-8bd1-c07e49bd1576\",\"type\":\"ColumnDataSource\"},{\"attributes\":{\"fill_alpha\":{\"value\":0.1},\"fill_color\":{\"value\":\"#1f77b4\"},\"line_alpha\":{\"value\":0.1},\"line_color\":{\"value\":\"#1f77b4\"},\"x\":{\"value\":5.21},\"y\":{\"value\":5.19}},\"id\":\"64eb5b9a-6b03-4ef2-98bc-54c7b66dddbb\",\"type\":\"Circle\"},{\"attributes\":{\"fill_color\":{\"value\":\"black\"},\"x\":{\"value\":5.21},\"y\":{\"value\":5.19}},\"id\":\"c40d52d4-1a0d-482b-9db8-57435161bd99\",\"type\":\"Circle\"},{\"attributes\":{},\"id\":\"015d438b-326d-4d0f-9794-87447a1cea9c\",\"type\":\"ResetTool\"},{\"attributes\":{\"data_source\":{\"id\":\"27baf929-e775-4936-8bd1-c07e49bd1576\",\"type\":\"ColumnDataSource\"},\"glyph\":{\"id\":\"c40d52d4-1a0d-482b-9db8-57435161bd99\",\"type\":\"Circle\"},\"hover_glyph\":null,\"muted_glyph\":null,\"nonselection_glyph\":{\"id\":\"64eb5b9a-6b03-4ef2-98bc-54c7b66dddbb\",\"type\":\"Circle\"},\"selection_glyph\":null,\"view\":{\"id\":\"9a6453bc-45ee-4024-91a6-f0e9dcd0b3c6\",\"type\":\"CDSView\"}},\"id\":\"1bb0e4ab-7db5-476c-a43a-76eec406cb4e\",\"type\":\"GlyphRenderer\"},{\"attributes\":{\"source\":{\"id\":\"27baf929-e775-4936-8bd1-c07e49bd1576\",\"type\":\"ColumnDataSource\"}},\"id\":\"9a6453bc-45ee-4024-91a6-f0e9dcd0b3c6\",\"type\":\"CDSView\"},{\"attributes\":{\"fill_alpha\":{\"value\":0.1},\"line_alpha\":{\"value\":0.1},\"plot\":null,\"size\":10},\"id\":\"81a4fea1-e862-48cb-9ee3-5e05e7457e51\",\"type\":\"NormalHead\"},{\"attributes\":{\"end\":{\"id\":\"81a4fea1-e862-48cb-9ee3-5e05e7457e51\",\"type\":\"NormalHead\"},\"line_alpha\":{\"value\":0.1},\"line_width\":{\"value\":3},\"plot\":{\"id\":\"dda2cb34-05a6-4ea3-8217-d567abd8cb95\",\"subtype\":\"Figure\",\"type\":\"Plot\"},\"source\":null,\"start\":null,\"x_end\":{\"value\":4.0},\"x_start\":{\"value\":0.0},\"y_end\":{\"value\":3.39},\"y_start\":{\"value\":0.0}},\"id\":\"5e26487c-873d-4612-8e16-19f580e4262d\",\"type\":\"Arrow\"},{\"attributes\":{\"callback\":null,\"data\":{},\"selected\":{\"id\":\"93cec0b5-29f0-4010-b6f2-5fc85b854a2e\",\"type\":\"Selection\"},\"selection_policy\":{\"id\":\"9bd3cb8e-0c16-4a43-957c-e78c38183657\",\"type\":\"UnionRenderers\"}},\"id\":\"8456d599-3916-41f1-9e0e-392e89096089\",\"type\":\"ColumnDataSource\"},{\"attributes\":{\"fill_alpha\":{\"value\":0.1},\"fill_color\":{\"value\":\"#1f77b4\"},\"line_alpha\":{\"value\":0.1},\"line_color\":{\"value\":\"#1f77b4\"},\"x\":{\"value\":4.0},\"y\":{\"value\":3.39}},\"id\":\"ccf8eca2-b1c1-44c5-94b7-74b98b193d12\",\"type\":\"Circle\"},{\"attributes\":{\"fill_color\":{\"value\":\"black\"},\"x\":{\"value\":4.0},\"y\":{\"value\":3.39}},\"id\":\"fe5d5cc5-bc5f-45e0-951f-4e4576cacdae\",\"type\":\"Circle\"},{\"attributes\":{\"data_source\":{\"id\":\"dc7aa189-1659-45cd-8fa2-941c8c1a2315\",\"type\":\"ColumnDataSource\"},\"glyph\":{\"id\":\"141ad4b7-899e-4c0a-b33a-d580d7775b85\",\"type\":\"Line\"},\"hover_glyph\":null,\"muted_glyph\":null,\"nonselection_glyph\":{\"id\":\"3c8b5e92-a660-4b44-b8a4-639389309616\",\"type\":\"Line\"},\"selection_glyph\":null,\"view\":{\"id\":\"b521b968-9944-4090-855f-527eff21935f\",\"type\":\"CDSView\"}},\"id\":\"66e20a49-1c7a-439b-8357-5895bf556a7e\",\"type\":\"GlyphRenderer\"},{\"attributes\":{\"source\":{\"id\":\"b4393857-f900-4d31-a2d8-b9b166f88d53\",\"type\":\"ColumnDataSource\"}},\"id\":\"452cd5ae-e1c8-414e-844f-b88310ec0e33\",\"type\":\"CDSView\"},{\"attributes\":{\"data_source\":{\"id\":\"8456d599-3916-41f1-9e0e-392e89096089\",\"type\":\"ColumnDataSource\"},\"glyph\":{\"id\":\"fe5d5cc5-bc5f-45e0-951f-4e4576cacdae\",\"type\":\"Circle\"},\"hover_glyph\":null,\"muted_glyph\":null,\"nonselection_glyph\":{\"id\":\"ccf8eca2-b1c1-44c5-94b7-74b98b193d12\",\"type\":\"Circle\"},\"selection_glyph\":null,\"view\":{\"id\":\"970545a0-808c-4d1e-8dd1-854b40801ced\",\"type\":\"CDSView\"}},\"id\":\"929e44d4-5aff-480f-b9de-4bfed7be8530\",\"type\":\"GlyphRenderer\"},{\"attributes\":{\"source\":{\"id\":\"8456d599-3916-41f1-9e0e-392e89096089\",\"type\":\"ColumnDataSource\"}},\"id\":\"970545a0-808c-4d1e-8dd1-854b40801ced\",\"type\":\"CDSView\"},{\"attributes\":{\"line_alpha\":0.1,\"line_color\":\"#1f77b4\",\"line_width\":1.5,\"x\":{\"field\":\"x\"},\"y\":{\"field\":\"y\"}},\"id\":\"b5ed950f-e7d8-48b1-b7ec-abccb852b98b\",\"type\":\"Line\"},{\"attributes\":{},\"id\":\"b23fdcb9-44c4-4c44-86bf-292e891676bc\",\"type\":\"UnionRenderers\"},{\"attributes\":{\"line_width\":1.5,\"x\":{\"field\":\"x\"},\"y\":{\"field\":\"y\"}},\"id\":\"e32814b6-b887-41e5-815a-a979b6055265\",\"type\":\"Line\"},{\"attributes\":{\"fill_color\":{\"value\":\"black\"},\"x\":{\"value\":1.91},\"y\":{\"value\":4.0}},\"id\":\"d157309b-9349-4894-ac4d-944fa2ea69e3\",\"type\":\"Circle\"},{\"attributes\":{},\"id\":\"c23dc398-83a4-4458-935d-e6d103b08309\",\"type\":\"BasicTickFormatter\"},{\"attributes\":{},\"id\":\"ac21142d-740a-47d4-97a7-73ea7af4c0a5\",\"type\":\"PanTool\"},{\"attributes\":{},\"id\":\"0e1b0e9b-5908-4d4a-9b46-e8a90184391e\",\"type\":\"LinearScale\"},{\"attributes\":{},\"id\":\"b4f2489a-0d66-4a31-8c0f-30184910dd61\",\"type\":\"BasicTickFormatter\"},{\"attributes\":{\"end\":{\"id\":\"d90dbda3-ee05-496c-bad9-01917a41e9e4\",\"type\":\"NormalHead\"},\"line_alpha\":{\"value\":0.1},\"line_width\":{\"value\":3},\"plot\":{\"id\":\"dda2cb34-05a6-4ea3-8217-d567abd8cb95\",\"subtype\":\"Figure\",\"type\":\"Plot\"},\"source\":null,\"start\":null,\"x_end\":{\"value\":2.42},\"x_start\":{\"value\":0.0},\"y_end\":{\"value\":4.65},\"y_start\":{\"value\":0.0}},\"id\":\"a621dcde-5d4d-4d6a-b7ed-485a5ca43655\",\"type\":\"Arrow\"},{\"attributes\":{},\"id\":\"f9a515d6-4508-4a24-b537-b0c6ee8608e3\",\"type\":\"Selection\"},{\"attributes\":{\"line_alpha\":0.1,\"line_color\":\"#1f77b4\",\"line_width\":1.5,\"x\":{\"field\":\"x\"},\"y\":{\"field\":\"y\"}},\"id\":\"3c8b5e92-a660-4b44-b8a4-639389309616\",\"type\":\"Line\"},{\"attributes\":{\"data_source\":{\"id\":\"a7b0bbd8-ba34-4d8c-a562-b3b6906a89f4\",\"type\":\"ColumnDataSource\"},\"glyph\":{\"id\":\"d157309b-9349-4894-ac4d-944fa2ea69e3\",\"type\":\"Circle\"},\"hover_glyph\":null,\"muted_glyph\":null,\"nonselection_glyph\":{\"id\":\"d04d7388-9b31-4f80-9e23-17cd35a970ee\",\"type\":\"Circle\"},\"selection_glyph\":null,\"view\":{\"id\":\"b8038d4d-260f-4ed4-9367-82640967e4b8\",\"type\":\"CDSView\"}},\"id\":\"d703ee95-02ce-4d52-8e1e-abdbc33638b7\",\"type\":\"GlyphRenderer\"},{\"attributes\":{\"source\":{\"id\":\"0e31568c-94eb-4d80-9ee2-e7ebd7fd9dbe\",\"type\":\"ColumnDataSource\"}},\"id\":\"484de236-5561-45ed-bf50-dc5e081cacc6\",\"type\":\"CDSView\"},{\"attributes\":{},\"id\":\"9c7ce298-209b-472a-bfba-a2ba38273361\",\"type\":\"UnionRenderers\"},{\"attributes\":{\"end\":{\"id\":\"52a4075d-415e-4557-a219-d46b8b9568c2\",\"type\":\"NormalHead\"},\"line_alpha\":{\"value\":0.1},\"line_width\":{\"value\":3},\"plot\":{\"id\":\"dda2cb34-05a6-4ea3-8217-d567abd8cb95\",\"subtype\":\"Figure\",\"type\":\"Plot\"},\"source\":null,\"start\":null,\"x_end\":{\"value\":1.91},\"x_start\":{\"value\":0.0},\"y_end\":{\"value\":4.0},\"y_start\":{\"value\":0.0}},\"id\":\"fe5fb30a-27a8-4a3b-99b1-ba774eed479a\",\"type\":\"Arrow\"},{\"attributes\":{},\"id\":\"d742b8f6-a25d-44e7-bb3e-207a947a53eb\",\"type\":\"UnionRenderers\"},{\"attributes\":{},\"id\":\"5d0a9b23-cf64-4267-8ae5-629a20e93935\",\"type\":\"BasicTicker\"},{\"attributes\":{\"callback\":null,\"data\":{},\"selected\":{\"id\":\"83de5c7f-18f3-4a9e-ac3a-acc5493d340e\",\"type\":\"Selection\"},\"selection_policy\":{\"id\":\"780c2263-a6fc-4f98-9540-001d5e3b36a7\",\"type\":\"UnionRenderers\"}},\"id\":\"581b8f01-4a0c-4294-adb4-c251e4f06818\",\"type\":\"ColumnDataSource\"},{\"attributes\":{},\"id\":\"7e7d5716-a715-4a76-b028-c22cea75d177\",\"type\":\"Selection\"},{\"attributes\":{\"source\":{\"id\":\"dc7aa189-1659-45cd-8fa2-941c8c1a2315\",\"type\":\"ColumnDataSource\"}},\"id\":\"b521b968-9944-4090-855f-527eff21935f\",\"type\":\"CDSView\"},{\"attributes\":{\"fill_alpha\":{\"value\":0.1},\"fill_color\":{\"value\":\"#1f77b4\"},\"line_alpha\":{\"value\":0.1},\"line_color\":{\"value\":\"#1f77b4\"},\"x\":{\"value\":1.91},\"y\":{\"value\":4.0}},\"id\":\"d04d7388-9b31-4f80-9e23-17cd35a970ee\",\"type\":\"Circle\"},{\"attributes\":{},\"id\":\"7bd4c568-7771-4851-bb23-c6dcf0fdd2f3\",\"type\":\"UnionRenderers\"},{\"attributes\":{\"callback\":null,\"data\":{},\"selected\":{\"id\":\"729f19b5-99dc-4fd9-b115-7631662a15b9\",\"type\":\"Selection\"},\"selection_policy\":{\"id\":\"7bd4c568-7771-4851-bb23-c6dcf0fdd2f3\",\"type\":\"UnionRenderers\"}},\"id\":\"a7b0bbd8-ba34-4d8c-a562-b3b6906a89f4\",\"type\":\"ColumnDataSource\"},{\"attributes\":{},\"id\":\"729f19b5-99dc-4fd9-b115-7631662a15b9\",\"type\":\"Selection\"},{\"attributes\":{\"source\":{\"id\":\"a7b0bbd8-ba34-4d8c-a562-b3b6906a89f4\",\"type\":\"ColumnDataSource\"}},\"id\":\"b8038d4d-260f-4ed4-9367-82640967e4b8\",\"type\":\"CDSView\"},{\"attributes\":{\"fill_alpha\":{\"value\":0.1},\"line_alpha\":{\"value\":0.1},\"plot\":null,\"size\":10},\"id\":\"d90dbda3-ee05-496c-bad9-01917a41e9e4\",\"type\":\"NormalHead\"},{\"attributes\":{},\"id\":\"6515f058-92af-458a-ba05-ae64b855d484\",\"type\":\"UnionRenderers\"},{\"attributes\":{\"fill_alpha\":{\"value\":0.1},\"line_alpha\":{\"value\":0.1},\"plot\":null,\"size\":10},\"id\":\"41894e9b-cffa-4cdd-928b-492493774acc\",\"type\":\"NormalHead\"},{\"attributes\":{},\"id\":\"648a8526-b529-480a-b5db-1d2a5f9f991b\",\"type\":\"Selection\"},{\"attributes\":{\"formatter\":{\"id\":\"b4f2489a-0d66-4a31-8c0f-30184910dd61\",\"type\":\"BasicTickFormatter\"},\"plot\":{\"id\":\"dda2cb34-05a6-4ea3-8217-d567abd8cb95\",\"subtype\":\"Figure\",\"type\":\"Plot\"},\"ticker\":{\"id\":\"5d0a9b23-cf64-4267-8ae5-629a20e93935\",\"type\":\"BasicTicker\"}},\"id\":\"d4f50cfb-2a5e-4a5d-9207-83b330889bd7\",\"type\":\"LinearAxis\"},{\"attributes\":{\"end\":{\"id\":\"41894e9b-cffa-4cdd-928b-492493774acc\",\"type\":\"NormalHead\"},\"line_alpha\":{\"value\":0.1},\"line_width\":{\"value\":3},\"plot\":{\"id\":\"dda2cb34-05a6-4ea3-8217-d567abd8cb95\",\"subtype\":\"Figure\",\"type\":\"Plot\"},\"source\":null,\"start\":null,\"x_end\":{\"value\":3.28},\"x_start\":{\"value\":0.0},\"y_end\":{\"value\":1.49},\"y_start\":{\"value\":0.0}},\"id\":\"16892327-288a-42e1-8b8a-970b5faa6300\",\"type\":\"Arrow\"},{\"attributes\":{},\"id\":\"780c2263-a6fc-4f98-9540-001d5e3b36a7\",\"type\":\"UnionRenderers\"},{\"attributes\":{\"callback\":null,\"data\":{\"x\":[0.0,0.0],\"y\":[-10.0,10.0]},\"selected\":{\"id\":\"7e7d5716-a715-4a76-b028-c22cea75d177\",\"type\":\"Selection\"},\"selection_policy\":{\"id\":\"d742b8f6-a25d-44e7-bb3e-207a947a53eb\",\"type\":\"UnionRenderers\"}},\"id\":\"b4393857-f900-4d31-a2d8-b9b166f88d53\",\"type\":\"ColumnDataSource\"},{\"attributes\":{\"callback\":null,\"data\":{},\"selected\":{\"id\":\"648a8526-b529-480a-b5db-1d2a5f9f991b\",\"type\":\"Selection\"},\"selection_policy\":{\"id\":\"6515f058-92af-458a-ba05-ae64b855d484\",\"type\":\"UnionRenderers\"}},\"id\":\"0e31568c-94eb-4d80-9ee2-e7ebd7fd9dbe\",\"type\":\"ColumnDataSource\"},{\"attributes\":{},\"id\":\"83de5c7f-18f3-4a9e-ac3a-acc5493d340e\",\"type\":\"Selection\"},{\"attributes\":{\"data_source\":{\"id\":\"b4393857-f900-4d31-a2d8-b9b166f88d53\",\"type\":\"ColumnDataSource\"},\"glyph\":{\"id\":\"e32814b6-b887-41e5-815a-a979b6055265\",\"type\":\"Line\"},\"hover_glyph\":null,\"muted_glyph\":null,\"nonselection_glyph\":{\"id\":\"b5ed950f-e7d8-48b1-b7ec-abccb852b98b\",\"type\":\"Line\"},\"selection_glyph\":null,\"view\":{\"id\":\"452cd5ae-e1c8-414e-844f-b88310ec0e33\",\"type\":\"CDSView\"}},\"id\":\"ca63dce3-1a46-49a0-8851-a7ccdae453b4\",\"type\":\"GlyphRenderer\"},{\"attributes\":{\"fill_alpha\":{\"value\":0.1},\"fill_color\":{\"value\":\"#1f77b4\"},\"line_alpha\":{\"value\":0.1},\"line_color\":{\"value\":\"#1f77b4\"},\"x\":{\"value\":3.28},\"y\":{\"value\":1.49}},\"id\":\"e0593a74-24b6-4bc1-b4e9-c440494db9d0\",\"type\":\"Circle\"},{\"attributes\":{},\"id\":\"73be2b15-b439-4384-9933-24c19b4963c1\",\"type\":\"UnionRenderers\"},{\"attributes\":{\"dimension\":1,\"plot\":{\"id\":\"dda2cb34-05a6-4ea3-8217-d567abd8cb95\",\"subtype\":\"Figure\",\"type\":\"Plot\"},\"ticker\":{\"id\":\"5d0a9b23-cf64-4267-8ae5-629a20e93935\",\"type\":\"BasicTicker\"}},\"id\":\"f1b3716e-29d5-45d6-9c3b-07f58152237e\",\"type\":\"Grid\"},{\"attributes\":{\"fill_color\":{\"value\":\"black\"},\"x\":{\"value\":3.28},\"y\":{\"value\":1.49}},\"id\":\"5c0ab825-80ad-4c7a-bbb6-2fbcc1184e50\",\"type\":\"Circle\"},{\"attributes\":{},\"id\":\"2cda8316-ed23-43d9-acbd-0f0daa6f1670\",\"type\":\"Selection\"},{\"attributes\":{\"data_source\":{\"id\":\"0e31568c-94eb-4d80-9ee2-e7ebd7fd9dbe\",\"type\":\"ColumnDataSource\"},\"glyph\":{\"id\":\"5c0ab825-80ad-4c7a-bbb6-2fbcc1184e50\",\"type\":\"Circle\"},\"hover_glyph\":null,\"muted_glyph\":null,\"nonselection_glyph\":{\"id\":\"e0593a74-24b6-4bc1-b4e9-c440494db9d0\",\"type\":\"Circle\"},\"selection_glyph\":null,\"view\":{\"id\":\"484de236-5561-45ed-bf50-dc5e081cacc6\",\"type\":\"CDSView\"}},\"id\":\"9f290736-844f-417e-8700-baa9829df5b1\",\"type\":\"GlyphRenderer\"},{\"attributes\":{\"fill_alpha\":{\"value\":0.1},\"line_alpha\":{\"value\":0.1},\"plot\":null,\"size\":10},\"id\":\"52a4075d-415e-4557-a219-d46b8b9568c2\",\"type\":\"NormalHead\"},{\"attributes\":{},\"id\":\"78daf15f-ed7f-47a6-a7b1-d825f05fe6ca\",\"type\":\"Selection\"}],\"root_ids\":[\"dda2cb34-05a6-4ea3-8217-d567abd8cb95\"]},\"title\":\"Bokeh Application\",\"version\":\"0.13.0\"}};\n",
       "  var render_items = [{\"docid\":\"1d649a05-b226-4c00-a82f-0f2c697989bb\",\"roots\":{\"dda2cb34-05a6-4ea3-8217-d567abd8cb95\":\"70e5995b-9707-4393-8610-e480434ee579\"}}];\n",
       "  root.Bokeh.embed.embed_items_notebook(docs_json, render_items);\n",
       "\n",
       "  }\n",
       "  if (root.Bokeh !== undefined) {\n",
       "    embed_document(root);\n",
       "  } else {\n",
       "    var attempts = 0;\n",
       "    var timer = setInterval(function(root) {\n",
       "      if (root.Bokeh !== undefined) {\n",
       "        embed_document(root);\n",
       "        clearInterval(timer);\n",
       "      }\n",
       "      attempts++;\n",
       "      if (attempts > 100) {\n",
       "        console.log(\"Bokeh: ERROR: Unable to run BokehJS code because BokehJS library is missing\")\n",
       "        clearInterval(timer);\n",
       "      }\n",
       "    }, 10, root)\n",
       "  }\n",
       "})(window);"
      ],
      "application/vnd.bokehjs_exec.v0+json": ""
     },
     "metadata": {
      "application/vnd.bokehjs_exec.v0+json": {
       "id": "dda2cb34-05a6-4ea3-8217-d567abd8cb95"
      }
     },
     "output_type": "display_data"
    }
   ],
   "source": [
    "print(\"Visual representation of our simulated data as vectors\\n\")\n",
    "plot.graph(10)\n",
    "plot.vec_w_point(X)\n",
    "plot.show()"
   ]
  },
  {
   "cell_type": "markdown",
   "metadata": {},
   "source": [
    "## Variance-Covariance Matrix\n",
    "\n",
    "Covariance is the sum of the squared deviations of two (or more) variables from their respective the means.\n",
    "\n",
    "<br>\n",
    "<br>\n",
    "\n",
    "$$ cov(x,y) = \\frac{\\sum^{N}_{i=1} (x_i - \\bar{x})(y_i - \\bar{y})}{N-1} = \\Sigma $$\n",
    "\n",
    "<br>\n",
    "<br>"
   ]
  },
  {
   "cell_type": "markdown",
   "metadata": {},
   "source": [
    "As we saw before, we can express the above equation in matrix form. \n",
    "\n",
    "<br>\n",
    "<br>\n",
    "\n",
    "$$\\Sigma = \\frac{1}{N-1} (\\textbf{X} - \\bar{\\textbf{X}})^T(\\textbf{X} - \\bar{\\textbf{X}}) $$\n",
    "\n",
    "<br>\n",
    "<br>\n",
    "\n",
    "Where $\\textbf{X}_{n \\times p}$ is our data matrix and $\\frac{1}{N-1}$ is a scalar."
   ]
  },
  {
   "cell_type": "markdown",
   "metadata": {},
   "source": [
    "## Let's unpack this..."
   ]
  },
  {
   "cell_type": "markdown",
   "metadata": {},
   "source": [
    "### Mean\n",
    "\n",
    "The mean is the central tendency of our vector of points. Spatially, we can think of the mean as the \"centroid\" (the central point within a scatter of points)\n",
    "\n",
    "<br>\n",
    "<br>\n",
    "\n",
    "In vector form,\n",
    "$$\\bar{x} = \\frac{\\sum_{i=1}^{N} x_i}{N} $$\n",
    "\n",
    "<br>\n",
    "<br>\n",
    "\n",
    "In matrix form,\n",
    "$$ \\bar{\\textbf{x}} = \\frac{1}{N}\\textbf{1}\\textbf{X}$$\n",
    "\n",
    "<br>\n",
    "<br>"
   ]
  },
  {
   "cell_type": "code",
   "execution_count": 4,
   "metadata": {},
   "outputs": [
    {
     "data": {
      "text/plain": [
       "array([3.103, 3.126])"
      ]
     },
     "execution_count": 4,
     "metadata": {},
     "output_type": "execute_result"
    }
   ],
   "source": [
    "X_means = (1/N)*(np.ones(N).dot(X)) # Means of each column vector\n",
    "X_means"
   ]
  },
  {
   "cell_type": "code",
   "execution_count": 5,
   "metadata": {},
   "outputs": [
    {
     "data": {
      "text/html": [
       "\n",
       "\n",
       "\n",
       "\n",
       "\n",
       "\n",
       "  <div class=\"bk-root\" id=\"33a7fc5e-d573-475b-9a35-d7c08aba1fbe\"></div>\n"
      ]
     },
     "metadata": {},
     "output_type": "display_data"
    },
    {
     "data": {
      "application/javascript": [
       "(function(root) {\n",
       "  function embed_document(root) {\n",
       "    \n",
       "  var docs_json = {\"a3634555-7465-4be3-a5fd-ce66ee7a8499\":{\"roots\":{\"references\":[{\"attributes\":{\"fill_color\":{\"value\":\"black\"},\"x\":{\"value\":2.42},\"y\":{\"value\":4.65}},\"id\":\"4fa58f27-5b8a-444f-a387-6307b23a82bc\",\"type\":\"Circle\"},{\"attributes\":{\"plot\":null,\"text\":\"\"},\"id\":\"5e1d3879-2b19-427c-ab27-6a0088cb1ca7\",\"type\":\"Title\"},{\"attributes\":{},\"id\":\"eafb360a-6d54-4fcb-8b7c-b4624adbb020\",\"type\":\"Selection\"},{\"attributes\":{\"fill_alpha\":{\"value\":0.1},\"fill_color\":{\"value\":\"#1f77b4\"},\"line_alpha\":{\"value\":0.1},\"line_color\":{\"value\":\"#1f77b4\"},\"x\":{\"value\":2.42},\"y\":{\"value\":4.65}},\"id\":\"e18c05a0-bfa3-46e1-b6fd-b44f1d19ab21\",\"type\":\"Circle\"},{\"attributes\":{},\"id\":\"f71a75eb-433d-4c85-ab43-63e341188ab0\",\"type\":\"UnionRenderers\"},{\"attributes\":{\"data_source\":{\"id\":\"581b8f01-4a0c-4294-adb4-c251e4f06818\",\"type\":\"ColumnDataSource\"},\"glyph\":{\"id\":\"4fa58f27-5b8a-444f-a387-6307b23a82bc\",\"type\":\"Circle\"},\"hover_glyph\":null,\"muted_glyph\":null,\"nonselection_glyph\":{\"id\":\"e18c05a0-bfa3-46e1-b6fd-b44f1d19ab21\",\"type\":\"Circle\"},\"selection_glyph\":null,\"view\":{\"id\":\"238e5472-637e-4088-ae98-04f279c9003a\",\"type\":\"CDSView\"}},\"id\":\"85c92e84-920e-4e89-be9b-d91e005f3481\",\"type\":\"GlyphRenderer\"},{\"attributes\":{},\"id\":\"b7d10886-629c-483f-988b-82821f1b7cd8\",\"type\":\"Selection\"},{\"attributes\":{\"source\":{\"id\":\"581b8f01-4a0c-4294-adb4-c251e4f06818\",\"type\":\"ColumnDataSource\"}},\"id\":\"238e5472-637e-4088-ae98-04f279c9003a\",\"type\":\"CDSView\"},{\"attributes\":{},\"id\":\"5745e325-2a63-40a9-919a-21f35379adde\",\"type\":\"UnionRenderers\"},{\"attributes\":{\"callback\":null,\"data\":{\"x\":[-10.0,10.0],\"y\":[0.0,0.0]},\"selected\":{\"id\":\"f9a515d6-4508-4a24-b537-b0c6ee8608e3\",\"type\":\"Selection\"},\"selection_policy\":{\"id\":\"b23fdcb9-44c4-4c44-86bf-292e891676bc\",\"type\":\"UnionRenderers\"}},\"id\":\"dc7aa189-1659-45cd-8fa2-941c8c1a2315\",\"type\":\"ColumnDataSource\"},{\"attributes\":{\"fill_alpha\":{\"value\":0.1},\"line_alpha\":{\"value\":0.1},\"plot\":null,\"size\":10},\"id\":\"4c2388f6-d85c-44d2-b8ec-380609b83121\",\"type\":\"NormalHead\"},{\"attributes\":{},\"id\":\"20b9fcbf-9fe0-446a-ac2e-0db4fb8accc6\",\"type\":\"Selection\"},{\"attributes\":{\"end\":{\"id\":\"4c2388f6-d85c-44d2-b8ec-380609b83121\",\"type\":\"NormalHead\"},\"line_alpha\":{\"value\":0.1},\"line_width\":{\"value\":3},\"plot\":{\"id\":\"dda2cb34-05a6-4ea3-8217-d567abd8cb95\",\"subtype\":\"Figure\",\"type\":\"Plot\"},\"source\":null,\"start\":null,\"x_end\":{\"value\":0.57},\"x_start\":{\"value\":0.0},\"y_end\":{\"value\":2.57},\"y_start\":{\"value\":0.0}},\"id\":\"0dc123c3-73b2-4227-967c-b2a5bc97f193\",\"type\":\"Arrow\"},{\"attributes\":{\"active_drag\":\"auto\",\"active_inspect\":\"auto\",\"active_multi\":null,\"active_scroll\":\"auto\",\"active_tap\":\"auto\",\"tools\":[{\"id\":\"8fa322d3-4833-46b0-8937-bb9a8c0216e7\",\"type\":\"WheelZoomTool\"},{\"id\":\"ac21142d-740a-47d4-97a7-73ea7af4c0a5\",\"type\":\"PanTool\"},{\"id\":\"015d438b-326d-4d0f-9794-87447a1cea9c\",\"type\":\"ResetTool\"}]},\"id\":\"a4824f1a-8d30-4587-b61d-1b594a638aa7\",\"type\":\"Toolbar\"},{\"attributes\":{},\"id\":\"f951eb61-8a29-4cd3-ace5-ac432128d801\",\"type\":\"UnionRenderers\"},{\"attributes\":{\"callback\":null,\"data\":{},\"selected\":{\"id\":\"2cda8316-ed23-43d9-acbd-0f0daa6f1670\",\"type\":\"Selection\"},\"selection_policy\":{\"id\":\"73be2b15-b439-4384-9933-24c19b4963c1\",\"type\":\"UnionRenderers\"}},\"id\":\"ffbd0065-8521-4afc-bb4a-c4dda6f8ad8b\",\"type\":\"ColumnDataSource\"},{\"attributes\":{},\"id\":\"83692e0a-bbb8-4503-b17e-ddddc140d5ca\",\"type\":\"Selection\"},{\"attributes\":{\"fill_alpha\":{\"value\":0.1},\"fill_color\":{\"value\":\"#1f77b4\"},\"line_alpha\":{\"value\":0.1},\"line_color\":{\"value\":\"#1f77b4\"},\"x\":{\"value\":0.57},\"y\":{\"value\":2.57}},\"id\":\"29880bc5-0f2d-46ce-a2ff-78b62a45f57f\",\"type\":\"Circle\"},{\"attributes\":{},\"id\":\"9bd3cb8e-0c16-4a43-957c-e78c38183657\",\"type\":\"UnionRenderers\"},{\"attributes\":{\"fill_color\":{\"value\":\"black\"},\"x\":{\"value\":0.57},\"y\":{\"value\":2.57}},\"id\":\"d3af41d4-0f0b-4d05-9281-b61b3a593bd7\",\"type\":\"Circle\"},{\"attributes\":{},\"id\":\"93cec0b5-29f0-4010-b6f2-5fc85b854a2e\",\"type\":\"Selection\"},{\"attributes\":{},\"id\":\"e19b5eb9-94f3-4edf-95e4-879123d80f6f\",\"type\":\"Selection\"},{\"attributes\":{\"data_source\":{\"id\":\"ffbd0065-8521-4afc-bb4a-c4dda6f8ad8b\",\"type\":\"ColumnDataSource\"},\"glyph\":{\"id\":\"d3af41d4-0f0b-4d05-9281-b61b3a593bd7\",\"type\":\"Circle\"},\"hover_glyph\":null,\"muted_glyph\":null,\"nonselection_glyph\":{\"id\":\"29880bc5-0f2d-46ce-a2ff-78b62a45f57f\",\"type\":\"Circle\"},\"selection_glyph\":null,\"view\":{\"id\":\"ba20773f-b51c-4f2a-a3b1-a873a0a5cb91\",\"type\":\"CDSView\"}},\"id\":\"8f9df409-82f2-4820-ab1c-e9d8ecacfd4d\",\"type\":\"GlyphRenderer\"},{\"attributes\":{},\"id\":\"8de60b4b-6c88-4b0b-9c8d-f40cd244f872\",\"type\":\"LinearScale\"},{\"attributes\":{},\"id\":\"60bc7259-049c-4818-be7c-750f16ebff8d\",\"type\":\"UnionRenderers\"},{\"attributes\":{\"source\":{\"id\":\"ffbd0065-8521-4afc-bb4a-c4dda6f8ad8b\",\"type\":\"ColumnDataSource\"}},\"id\":\"ba20773f-b51c-4f2a-a3b1-a873a0a5cb91\",\"type\":\"CDSView\"},{\"attributes\":{\"fill_alpha\":{\"value\":0.1},\"line_alpha\":{\"value\":0.1},\"plot\":null,\"size\":10},\"id\":\"0aab1da4-1881-4dcd-baed-a52ccc22d125\",\"type\":\"NormalHead\"},{\"attributes\":{\"end\":{\"id\":\"0aab1da4-1881-4dcd-baed-a52ccc22d125\",\"type\":\"NormalHead\"},\"line_alpha\":{\"value\":0.1},\"line_width\":{\"value\":3},\"plot\":{\"id\":\"dda2cb34-05a6-4ea3-8217-d567abd8cb95\",\"subtype\":\"Figure\",\"type\":\"Plot\"},\"source\":null,\"start\":null,\"x_end\":{\"value\":4.27},\"x_start\":{\"value\":0.0},\"y_end\":{\"value\":2.13},\"y_start\":{\"value\":0.0}},\"id\":\"eed04597-1c56-4ce2-a214-f86b488c6b8a\",\"type\":\"Arrow\"},{\"attributes\":{\"callback\":null,\"data\":{},\"selected\":{\"id\":\"78daf15f-ed7f-47a6-a7b1-d825f05fe6ca\",\"type\":\"Selection\"},\"selection_policy\":{\"id\":\"b813829c-716a-40fc-81de-4a854d5ea8cd\",\"type\":\"UnionRenderers\"}},\"id\":\"b1f2e9bc-dcab-4b18-b164-08dbbfc8b426\",\"type\":\"ColumnDataSource\"},{\"attributes\":{\"fill_alpha\":{\"value\":0.1},\"fill_color\":{\"value\":\"#1f77b4\"},\"line_alpha\":{\"value\":0.1},\"line_color\":{\"value\":\"#1f77b4\"},\"x\":{\"value\":4.27},\"y\":{\"value\":2.13}},\"id\":\"a851e714-8ba7-4f43-b1ad-19a516a66a38\",\"type\":\"Circle\"},{\"attributes\":{\"fill_color\":{\"value\":\"black\"},\"x\":{\"value\":4.27},\"y\":{\"value\":2.13}},\"id\":\"cd5e5c34-0528-4bd3-9127-8358871a204e\",\"type\":\"Circle\"},{\"attributes\":{\"fill_alpha\":{\"value\":0.1},\"line_alpha\":{\"value\":0.1},\"plot\":null,\"size\":10},\"id\":\"52a4075d-415e-4557-a219-d46b8b9568c2\",\"type\":\"NormalHead\"},{\"attributes\":{\"data_source\":{\"id\":\"b1f2e9bc-dcab-4b18-b164-08dbbfc8b426\",\"type\":\"ColumnDataSource\"},\"glyph\":{\"id\":\"cd5e5c34-0528-4bd3-9127-8358871a204e\",\"type\":\"Circle\"},\"hover_glyph\":null,\"muted_glyph\":null,\"nonselection_glyph\":{\"id\":\"a851e714-8ba7-4f43-b1ad-19a516a66a38\",\"type\":\"Circle\"},\"selection_glyph\":null,\"view\":{\"id\":\"1777a4ce-37c3-4e6f-aa58-0c45982aff84\",\"type\":\"CDSView\"}},\"id\":\"1e9dc785-5e21-4af3-b83d-68309c53a2f6\",\"type\":\"GlyphRenderer\"},{\"attributes\":{\"source\":{\"id\":\"b1f2e9bc-dcab-4b18-b164-08dbbfc8b426\",\"type\":\"ColumnDataSource\"}},\"id\":\"1777a4ce-37c3-4e6f-aa58-0c45982aff84\",\"type\":\"CDSView\"},{\"attributes\":{\"fill_alpha\":{\"value\":0.1},\"line_alpha\":{\"value\":0.1},\"plot\":null,\"size\":10},\"id\":\"4693641f-485b-4c01-8669-ae98717e05ce\",\"type\":\"NormalHead\"},{\"attributes\":{\"end\":{\"id\":\"4693641f-485b-4c01-8669-ae98717e05ce\",\"type\":\"NormalHead\"},\"line_alpha\":{\"value\":0.1},\"line_width\":{\"value\":3},\"plot\":{\"id\":\"dda2cb34-05a6-4ea3-8217-d567abd8cb95\",\"subtype\":\"Figure\",\"type\":\"Plot\"},\"source\":null,\"start\":null,\"x_end\":{\"value\":2.32},\"x_start\":{\"value\":0.0},\"y_end\":{\"value\":2.91},\"y_start\":{\"value\":0.0}},\"id\":\"08690f7a-4c03-4c30-a07f-03a8ac9abca3\",\"type\":\"Arrow\"},{\"attributes\":{\"callback\":null,\"data\":{},\"selected\":{\"id\":\"eafb360a-6d54-4fcb-8b7c-b4624adbb020\",\"type\":\"Selection\"},\"selection_policy\":{\"id\":\"9c7ce298-209b-472a-bfba-a2ba38273361\",\"type\":\"UnionRenderers\"}},\"id\":\"84abd90e-fbd1-4b95-a9f9-190175528e58\",\"type\":\"ColumnDataSource\"},{\"attributes\":{\"fill_alpha\":{\"value\":0.1},\"fill_color\":{\"value\":\"#1f77b4\"},\"line_alpha\":{\"value\":0.1},\"line_color\":{\"value\":\"#1f77b4\"},\"x\":{\"value\":2.32},\"y\":{\"value\":2.91}},\"id\":\"66fd61b3-1a15-4b83-ab10-0ce92b07c2b3\",\"type\":\"Circle\"},{\"attributes\":{\"fill_color\":{\"value\":\"black\"},\"x\":{\"value\":2.32},\"y\":{\"value\":2.91}},\"id\":\"b9012bc5-1f9a-40ba-9db7-2e7a3319b28a\",\"type\":\"Circle\"},{\"attributes\":{\"data_source\":{\"id\":\"84abd90e-fbd1-4b95-a9f9-190175528e58\",\"type\":\"ColumnDataSource\"},\"glyph\":{\"id\":\"b9012bc5-1f9a-40ba-9db7-2e7a3319b28a\",\"type\":\"Circle\"},\"hover_glyph\":null,\"muted_glyph\":null,\"nonselection_glyph\":{\"id\":\"66fd61b3-1a15-4b83-ab10-0ce92b07c2b3\",\"type\":\"Circle\"},\"selection_glyph\":null,\"view\":{\"id\":\"1032f103-58d1-49d4-9bea-84015931c911\",\"type\":\"CDSView\"}},\"id\":\"a63f24d4-6a50-4fb8-b1b4-2fccf3e2c37d\",\"type\":\"GlyphRenderer\"},{\"attributes\":{\"source\":{\"id\":\"84abd90e-fbd1-4b95-a9f9-190175528e58\",\"type\":\"ColumnDataSource\"}},\"id\":\"1032f103-58d1-49d4-9bea-84015931c911\",\"type\":\"CDSView\"},{\"attributes\":{\"fill_alpha\":{\"value\":0.1},\"line_alpha\":{\"value\":0.1},\"plot\":null,\"size\":10},\"id\":\"8ce0570c-06a0-4739-9806-acaee8ee578d\",\"type\":\"NormalHead\"},{\"attributes\":{\"formatter\":{\"id\":\"c23dc398-83a4-4458-935d-e6d103b08309\",\"type\":\"BasicTickFormatter\"},\"plot\":{\"id\":\"dda2cb34-05a6-4ea3-8217-d567abd8cb95\",\"subtype\":\"Figure\",\"type\":\"Plot\"},\"ticker\":{\"id\":\"7af64cb8-d4af-4782-b89e-5a421afd3bde\",\"type\":\"BasicTicker\"}},\"id\":\"34c96610-b2e5-41b6-abc1-4841437cf0cd\",\"type\":\"LinearAxis\"},{\"attributes\":{\"end\":{\"id\":\"8ce0570c-06a0-4739-9806-acaee8ee578d\",\"type\":\"NormalHead\"},\"line_alpha\":{\"value\":0.1},\"line_width\":{\"value\":3},\"plot\":{\"id\":\"dda2cb34-05a6-4ea3-8217-d567abd8cb95\",\"subtype\":\"Figure\",\"type\":\"Plot\"},\"source\":null,\"start\":null,\"x_end\":{\"value\":4.49},\"x_start\":{\"value\":0.0},\"y_end\":{\"value\":2.36},\"y_start\":{\"value\":0.0}},\"id\":\"c39ca8a4-0922-43fd-9e7c-0510074a80d8\",\"type\":\"Arrow\"},{\"attributes\":{\"callback\":null,\"data\":{},\"selected\":{\"id\":\"b7d10886-629c-483f-988b-82821f1b7cd8\",\"type\":\"Selection\"},\"selection_policy\":{\"id\":\"f71a75eb-433d-4c85-ab43-63e341188ab0\",\"type\":\"UnionRenderers\"}},\"id\":\"7bade64f-45fb-43f4-b87a-4ed677dc9719\",\"type\":\"ColumnDataSource\"},{\"attributes\":{\"below\":[{\"id\":\"34c96610-b2e5-41b6-abc1-4841437cf0cd\",\"type\":\"LinearAxis\"}],\"left\":[{\"id\":\"d4f50cfb-2a5e-4a5d-9207-83b330889bd7\",\"type\":\"LinearAxis\"}],\"plot_height\":700,\"plot_width\":700,\"renderers\":[{\"id\":\"34c96610-b2e5-41b6-abc1-4841437cf0cd\",\"type\":\"LinearAxis\"},{\"id\":\"f887a933-4462-413b-9c19-01a127023feb\",\"type\":\"Grid\"},{\"id\":\"d4f50cfb-2a5e-4a5d-9207-83b330889bd7\",\"type\":\"LinearAxis\"},{\"id\":\"f1b3716e-29d5-45d6-9c3b-07f58152237e\",\"type\":\"Grid\"},{\"id\":\"66e20a49-1c7a-439b-8357-5895bf556a7e\",\"type\":\"GlyphRenderer\"},{\"id\":\"ca63dce3-1a46-49a0-8851-a7ccdae453b4\",\"type\":\"GlyphRenderer\"},{\"id\":\"fe5fb30a-27a8-4a3b-99b1-ba774eed479a\",\"type\":\"Arrow\"},{\"id\":\"d703ee95-02ce-4d52-8e1e-abdbc33638b7\",\"type\":\"GlyphRenderer\"},{\"id\":\"16892327-288a-42e1-8b8a-970b5faa6300\",\"type\":\"Arrow\"},{\"id\":\"9f290736-844f-417e-8700-baa9829df5b1\",\"type\":\"GlyphRenderer\"},{\"id\":\"a621dcde-5d4d-4d6a-b7ed-485a5ca43655\",\"type\":\"Arrow\"},{\"id\":\"85c92e84-920e-4e89-be9b-d91e005f3481\",\"type\":\"GlyphRenderer\"},{\"id\":\"0dc123c3-73b2-4227-967c-b2a5bc97f193\",\"type\":\"Arrow\"},{\"id\":\"8f9df409-82f2-4820-ab1c-e9d8ecacfd4d\",\"type\":\"GlyphRenderer\"},{\"id\":\"eed04597-1c56-4ce2-a214-f86b488c6b8a\",\"type\":\"Arrow\"},{\"id\":\"1e9dc785-5e21-4af3-b83d-68309c53a2f6\",\"type\":\"GlyphRenderer\"},{\"id\":\"08690f7a-4c03-4c30-a07f-03a8ac9abca3\",\"type\":\"Arrow\"},{\"id\":\"a63f24d4-6a50-4fb8-b1b4-2fccf3e2c37d\",\"type\":\"GlyphRenderer\"},{\"id\":\"c39ca8a4-0922-43fd-9e7c-0510074a80d8\",\"type\":\"Arrow\"},{\"id\":\"1f0379e2-aff9-4bff-b8d4-d01b36349139\",\"type\":\"GlyphRenderer\"},{\"id\":\"98a2c695-8b83-44cd-940d-6b7ebd8e39d0\",\"type\":\"Arrow\"},{\"id\":\"25dd89c1-0d9c-473f-881b-3b8a9e54bbf6\",\"type\":\"GlyphRenderer\"},{\"id\":\"7a6d5e0f-b558-443a-9b21-29314774c2a9\",\"type\":\"Arrow\"},{\"id\":\"1bb0e4ab-7db5-476c-a43a-76eec406cb4e\",\"type\":\"GlyphRenderer\"},{\"id\":\"5e26487c-873d-4612-8e16-19f580e4262d\",\"type\":\"Arrow\"},{\"id\":\"929e44d4-5aff-480f-b9de-4bfed7be8530\",\"type\":\"GlyphRenderer\"},{\"id\":\"964f5c59-cbfe-4401-ab18-b614ebe84ba5\",\"type\":\"Arrow\"},{\"id\":\"182f0c05-981f-4ee0-b43c-b96853ad2bea\",\"type\":\"GlyphRenderer\"}],\"title\":{\"id\":\"5e1d3879-2b19-427c-ab27-6a0088cb1ca7\",\"type\":\"Title\"},\"toolbar\":{\"id\":\"a4824f1a-8d30-4587-b61d-1b594a638aa7\",\"type\":\"Toolbar\"},\"x_range\":{\"id\":\"68f08066-4320-43b1-b391-7a8adae7d4db\",\"type\":\"Range1d\"},\"x_scale\":{\"id\":\"0e1b0e9b-5908-4d4a-9b46-e8a90184391e\",\"type\":\"LinearScale\"},\"y_range\":{\"id\":\"c261b907-626d-4cd2-b5c9-887e4da3d0b6\",\"type\":\"Range1d\"},\"y_scale\":{\"id\":\"8de60b4b-6c88-4b0b-9c8d-f40cd244f872\",\"type\":\"LinearScale\"}},\"id\":\"dda2cb34-05a6-4ea3-8217-d567abd8cb95\",\"subtype\":\"Figure\",\"type\":\"Plot\"},{\"attributes\":{\"fill_alpha\":{\"value\":0.1},\"fill_color\":{\"value\":\"#1f77b4\"},\"line_alpha\":{\"value\":0.1},\"line_color\":{\"value\":\"#1f77b4\"},\"x\":{\"value\":4.49},\"y\":{\"value\":2.36}},\"id\":\"62671b69-0adc-4599-8f92-16fee2805130\",\"type\":\"Circle\"},{\"attributes\":{\"fill_color\":{\"value\":\"black\"},\"x\":{\"value\":4.49},\"y\":{\"value\":2.36}},\"id\":\"eb6ca08f-0ee5-432a-be13-8812edf13f2b\",\"type\":\"Circle\"},{\"attributes\":{\"data_source\":{\"id\":\"7bade64f-45fb-43f4-b87a-4ed677dc9719\",\"type\":\"ColumnDataSource\"},\"glyph\":{\"id\":\"eb6ca08f-0ee5-432a-be13-8812edf13f2b\",\"type\":\"Circle\"},\"hover_glyph\":null,\"muted_glyph\":null,\"nonselection_glyph\":{\"id\":\"62671b69-0adc-4599-8f92-16fee2805130\",\"type\":\"Circle\"},\"selection_glyph\":null,\"view\":{\"id\":\"18de7be5-625d-4de9-a7bf-fdc8236282fd\",\"type\":\"CDSView\"}},\"id\":\"1f0379e2-aff9-4bff-b8d4-d01b36349139\",\"type\":\"GlyphRenderer\"},{\"attributes\":{\"source\":{\"id\":\"7bade64f-45fb-43f4-b87a-4ed677dc9719\",\"type\":\"ColumnDataSource\"}},\"id\":\"18de7be5-625d-4de9-a7bf-fdc8236282fd\",\"type\":\"CDSView\"},{\"attributes\":{\"fill_alpha\":{\"value\":0.1},\"line_alpha\":{\"value\":0.1},\"plot\":null,\"size\":10},\"id\":\"51613d03-5b01-423d-a72e-bbfb8af2d0f6\",\"type\":\"NormalHead\"},{\"attributes\":{\"end\":{\"id\":\"51613d03-5b01-423d-a72e-bbfb8af2d0f6\",\"type\":\"NormalHead\"},\"line_alpha\":{\"value\":0.1},\"line_width\":{\"value\":3},\"plot\":{\"id\":\"dda2cb34-05a6-4ea3-8217-d567abd8cb95\",\"subtype\":\"Figure\",\"type\":\"Plot\"},\"source\":null,\"start\":null,\"x_end\":{\"value\":2.56},\"x_start\":{\"value\":0.0},\"y_end\":{\"value\":2.57},\"y_start\":{\"value\":0.0}},\"id\":\"98a2c695-8b83-44cd-940d-6b7ebd8e39d0\",\"type\":\"Arrow\"},{\"attributes\":{\"callback\":null,\"data\":{},\"selected\":{\"id\":\"20b9fcbf-9fe0-446a-ac2e-0db4fb8accc6\",\"type\":\"Selection\"},\"selection_policy\":{\"id\":\"5745e325-2a63-40a9-919a-21f35379adde\",\"type\":\"UnionRenderers\"}},\"id\":\"a6bc9b50-569b-4ddb-8466-34c132b16cd5\",\"type\":\"ColumnDataSource\"},{\"attributes\":{\"fill_alpha\":{\"value\":0.1},\"fill_color\":{\"value\":\"#1f77b4\"},\"line_alpha\":{\"value\":0.1},\"line_color\":{\"value\":\"#1f77b4\"},\"x\":{\"value\":2.56},\"y\":{\"value\":2.57}},\"id\":\"56ceeb0b-b077-4536-91a7-ae06f617632f\",\"type\":\"Circle\"},{\"attributes\":{\"fill_color\":{\"value\":\"black\"},\"x\":{\"value\":2.56},\"y\":{\"value\":2.57}},\"id\":\"5cbbb360-2e20-446f-a0c7-4cf52424e003\",\"type\":\"Circle\"},{\"attributes\":{\"data_source\":{\"id\":\"a6bc9b50-569b-4ddb-8466-34c132b16cd5\",\"type\":\"ColumnDataSource\"},\"glyph\":{\"id\":\"5cbbb360-2e20-446f-a0c7-4cf52424e003\",\"type\":\"Circle\"},\"hover_glyph\":null,\"muted_glyph\":null,\"nonselection_glyph\":{\"id\":\"56ceeb0b-b077-4536-91a7-ae06f617632f\",\"type\":\"Circle\"},\"selection_glyph\":null,\"view\":{\"id\":\"9ef96eeb-c7af-44ea-b502-3f0b0a24ed75\",\"type\":\"CDSView\"}},\"id\":\"25dd89c1-0d9c-473f-881b-3b8a9e54bbf6\",\"type\":\"GlyphRenderer\"},{\"attributes\":{\"source\":{\"id\":\"a6bc9b50-569b-4ddb-8466-34c132b16cd5\",\"type\":\"ColumnDataSource\"}},\"id\":\"9ef96eeb-c7af-44ea-b502-3f0b0a24ed75\",\"type\":\"CDSView\"},{\"attributes\":{\"data_source\":{\"id\":\"e17a5f2f-e02b-45f9-94b8-74505b2001e7\",\"type\":\"ColumnDataSource\"},\"glyph\":{\"id\":\"978181c1-701c-4fcb-af0b-4765b0b38e57\",\"type\":\"Circle\"},\"hover_glyph\":null,\"muted_glyph\":null,\"nonselection_glyph\":{\"id\":\"8d4c51de-7d9e-4ef4-9d7c-78e9624de5ce\",\"type\":\"Circle\"},\"selection_glyph\":null,\"view\":{\"id\":\"c046996c-c82f-466e-a17c-9267a91d11b3\",\"type\":\"CDSView\"}},\"id\":\"182f0c05-981f-4ee0-b43c-b96853ad2bea\",\"type\":\"GlyphRenderer\"},{\"attributes\":{\"fill_alpha\":{\"value\":0.1},\"line_alpha\":{\"value\":0.1},\"plot\":null,\"size\":10},\"id\":\"4b292129-1296-44c1-ad88-8fe153711b04\",\"type\":\"NormalHead\"},{\"attributes\":{\"end\":{\"id\":\"4b292129-1296-44c1-ad88-8fe153711b04\",\"type\":\"NormalHead\"},\"line_alpha\":{\"value\":0.1},\"line_width\":{\"value\":3},\"plot\":{\"id\":\"dda2cb34-05a6-4ea3-8217-d567abd8cb95\",\"subtype\":\"Figure\",\"type\":\"Plot\"},\"source\":null,\"start\":null,\"x_end\":{\"value\":5.21},\"x_start\":{\"value\":0.0},\"y_end\":{\"value\":5.19},\"y_start\":{\"value\":0.0}},\"id\":\"7a6d5e0f-b558-443a-9b21-29314774c2a9\",\"type\":\"Arrow\"},{\"attributes\":{\"callback\":null,\"data\":{},\"selected\":{\"id\":\"83692e0a-bbb8-4503-b17e-ddddc140d5ca\",\"type\":\"Selection\"},\"selection_policy\":{\"id\":\"f951eb61-8a29-4cd3-ace5-ac432128d801\",\"type\":\"UnionRenderers\"}},\"id\":\"27baf929-e775-4936-8bd1-c07e49bd1576\",\"type\":\"ColumnDataSource\"},{\"attributes\":{\"source\":{\"id\":\"e17a5f2f-e02b-45f9-94b8-74505b2001e7\",\"type\":\"ColumnDataSource\"}},\"id\":\"c046996c-c82f-466e-a17c-9267a91d11b3\",\"type\":\"CDSView\"},{\"attributes\":{\"fill_alpha\":{\"value\":0.1},\"fill_color\":{\"value\":\"#1f77b4\"},\"line_alpha\":{\"value\":0.1},\"line_color\":{\"value\":\"#1f77b4\"},\"x\":{\"value\":5.21},\"y\":{\"value\":5.19}},\"id\":\"64eb5b9a-6b03-4ef2-98bc-54c7b66dddbb\",\"type\":\"Circle\"},{\"attributes\":{\"fill_alpha\":{\"value\":0.3},\"fill_color\":{\"value\":\"blue\"},\"line_alpha\":{\"value\":0.3},\"line_color\":{\"value\":\"blue\"},\"plot\":null,\"size\":10},\"id\":\"7371f417-9efc-4750-87e9-526283e16a17\",\"type\":\"NormalHead\"},{\"attributes\":{\"fill_color\":{\"value\":\"black\"},\"x\":{\"value\":5.21},\"y\":{\"value\":5.19}},\"id\":\"c40d52d4-1a0d-482b-9db8-57435161bd99\",\"type\":\"Circle\"},{\"attributes\":{\"data_source\":{\"id\":\"27baf929-e775-4936-8bd1-c07e49bd1576\",\"type\":\"ColumnDataSource\"},\"glyph\":{\"id\":\"c40d52d4-1a0d-482b-9db8-57435161bd99\",\"type\":\"Circle\"},\"hover_glyph\":null,\"muted_glyph\":null,\"nonselection_glyph\":{\"id\":\"64eb5b9a-6b03-4ef2-98bc-54c7b66dddbb\",\"type\":\"Circle\"},\"selection_glyph\":null,\"view\":{\"id\":\"9a6453bc-45ee-4024-91a6-f0e9dcd0b3c6\",\"type\":\"CDSView\"}},\"id\":\"1bb0e4ab-7db5-476c-a43a-76eec406cb4e\",\"type\":\"GlyphRenderer\"},{\"attributes\":{\"source\":{\"id\":\"27baf929-e775-4936-8bd1-c07e49bd1576\",\"type\":\"ColumnDataSource\"}},\"id\":\"9a6453bc-45ee-4024-91a6-f0e9dcd0b3c6\",\"type\":\"CDSView\"},{\"attributes\":{\"fill_alpha\":{\"value\":0.1},\"line_alpha\":{\"value\":0.1},\"plot\":null,\"size\":10},\"id\":\"81a4fea1-e862-48cb-9ee3-5e05e7457e51\",\"type\":\"NormalHead\"},{\"attributes\":{\"end\":{\"id\":\"81a4fea1-e862-48cb-9ee3-5e05e7457e51\",\"type\":\"NormalHead\"},\"line_alpha\":{\"value\":0.1},\"line_width\":{\"value\":3},\"plot\":{\"id\":\"dda2cb34-05a6-4ea3-8217-d567abd8cb95\",\"subtype\":\"Figure\",\"type\":\"Plot\"},\"source\":null,\"start\":null,\"x_end\":{\"value\":4.0},\"x_start\":{\"value\":0.0},\"y_end\":{\"value\":3.39},\"y_start\":{\"value\":0.0}},\"id\":\"5e26487c-873d-4612-8e16-19f580e4262d\",\"type\":\"Arrow\"},{\"attributes\":{\"callback\":null,\"data\":{},\"selected\":{\"id\":\"93cec0b5-29f0-4010-b6f2-5fc85b854a2e\",\"type\":\"Selection\"},\"selection_policy\":{\"id\":\"9bd3cb8e-0c16-4a43-957c-e78c38183657\",\"type\":\"UnionRenderers\"}},\"id\":\"8456d599-3916-41f1-9e0e-392e89096089\",\"type\":\"ColumnDataSource\"},{\"attributes\":{\"fill_alpha\":{\"value\":0.1},\"fill_color\":{\"value\":\"#1f77b4\"},\"line_alpha\":{\"value\":0.1},\"line_color\":{\"value\":\"#1f77b4\"},\"x\":{\"value\":4.0},\"y\":{\"value\":3.39}},\"id\":\"ccf8eca2-b1c1-44c5-94b7-74b98b193d12\",\"type\":\"Circle\"},{\"attributes\":{\"fill_color\":{\"value\":\"black\"},\"x\":{\"value\":4.0},\"y\":{\"value\":3.39}},\"id\":\"fe5d5cc5-bc5f-45e0-951f-4e4576cacdae\",\"type\":\"Circle\"},{\"attributes\":{\"data_source\":{\"id\":\"8456d599-3916-41f1-9e0e-392e89096089\",\"type\":\"ColumnDataSource\"},\"glyph\":{\"id\":\"fe5d5cc5-bc5f-45e0-951f-4e4576cacdae\",\"type\":\"Circle\"},\"hover_glyph\":null,\"muted_glyph\":null,\"nonselection_glyph\":{\"id\":\"ccf8eca2-b1c1-44c5-94b7-74b98b193d12\",\"type\":\"Circle\"},\"selection_glyph\":null,\"view\":{\"id\":\"970545a0-808c-4d1e-8dd1-854b40801ced\",\"type\":\"CDSView\"}},\"id\":\"929e44d4-5aff-480f-b9de-4bfed7be8530\",\"type\":\"GlyphRenderer\"},{\"attributes\":{\"source\":{\"id\":\"8456d599-3916-41f1-9e0e-392e89096089\",\"type\":\"ColumnDataSource\"}},\"id\":\"970545a0-808c-4d1e-8dd1-854b40801ced\",\"type\":\"CDSView\"},{\"attributes\":{\"fill_alpha\":{\"value\":0.1},\"fill_color\":{\"value\":\"#1f77b4\"},\"line_alpha\":{\"value\":0.1},\"line_color\":{\"value\":\"#1f77b4\"},\"x\":{\"value\":3.1029999999999998},\"y\":{\"value\":3.1260000000000003}},\"id\":\"8d4c51de-7d9e-4ef4-9d7c-78e9624de5ce\",\"type\":\"Circle\"},{\"attributes\":{},\"id\":\"b23fdcb9-44c4-4c44-86bf-292e891676bc\",\"type\":\"UnionRenderers\"},{\"attributes\":{},\"id\":\"c23dc398-83a4-4458-935d-e6d103b08309\",\"type\":\"BasicTickFormatter\"},{\"attributes\":{},\"id\":\"0e1b0e9b-5908-4d4a-9b46-e8a90184391e\",\"type\":\"LinearScale\"},{\"attributes\":{},\"id\":\"b4f2489a-0d66-4a31-8c0f-30184910dd61\",\"type\":\"BasicTickFormatter\"},{\"attributes\":{},\"id\":\"f9a515d6-4508-4a24-b537-b0c6ee8608e3\",\"type\":\"Selection\"},{\"attributes\":{},\"id\":\"9c7ce298-209b-472a-bfba-a2ba38273361\",\"type\":\"UnionRenderers\"},{\"attributes\":{},\"id\":\"d742b8f6-a25d-44e7-bb3e-207a947a53eb\",\"type\":\"UnionRenderers\"},{\"attributes\":{},\"id\":\"7e7d5716-a715-4a76-b028-c22cea75d177\",\"type\":\"Selection\"},{\"attributes\":{},\"id\":\"7bd4c568-7771-4851-bb23-c6dcf0fdd2f3\",\"type\":\"UnionRenderers\"},{\"attributes\":{},\"id\":\"729f19b5-99dc-4fd9-b115-7631662a15b9\",\"type\":\"Selection\"},{\"attributes\":{},\"id\":\"6515f058-92af-458a-ba05-ae64b855d484\",\"type\":\"UnionRenderers\"},{\"attributes\":{},\"id\":\"648a8526-b529-480a-b5db-1d2a5f9f991b\",\"type\":\"Selection\"},{\"attributes\":{},\"id\":\"780c2263-a6fc-4f98-9540-001d5e3b36a7\",\"type\":\"UnionRenderers\"},{\"attributes\":{},\"id\":\"83de5c7f-18f3-4a9e-ac3a-acc5493d340e\",\"type\":\"Selection\"},{\"attributes\":{},\"id\":\"73be2b15-b439-4384-9933-24c19b4963c1\",\"type\":\"UnionRenderers\"},{\"attributes\":{},\"id\":\"2cda8316-ed23-43d9-acbd-0f0daa6f1670\",\"type\":\"Selection\"},{\"attributes\":{},\"id\":\"b813829c-716a-40fc-81de-4a854d5ea8cd\",\"type\":\"UnionRenderers\"},{\"attributes\":{\"end\":{\"id\":\"7371f417-9efc-4750-87e9-526283e16a17\",\"type\":\"NormalHead\"},\"line_alpha\":{\"value\":0.3},\"line_color\":{\"value\":\"blue\"},\"line_width\":{\"value\":3},\"plot\":{\"id\":\"dda2cb34-05a6-4ea3-8217-d567abd8cb95\",\"subtype\":\"Figure\",\"type\":\"Plot\"},\"source\":null,\"start\":null,\"x_end\":{\"value\":3.1029999999999998},\"x_start\":{\"value\":0.0},\"y_end\":{\"value\":3.1260000000000003},\"y_start\":{\"value\":0.0}},\"id\":\"964f5c59-cbfe-4401-ab18-b614ebe84ba5\",\"type\":\"Arrow\"},{\"attributes\":{},\"id\":\"78daf15f-ed7f-47a6-a7b1-d825f05fe6ca\",\"type\":\"Selection\"},{\"attributes\":{\"fill_color\":{\"value\":\"blue\"},\"line_color\":{\"value\":\"blue\"},\"x\":{\"value\":3.1029999999999998},\"y\":{\"value\":3.1260000000000003}},\"id\":\"978181c1-701c-4fcb-af0b-4765b0b38e57\",\"type\":\"Circle\"},{\"attributes\":{\"plot\":{\"id\":\"dda2cb34-05a6-4ea3-8217-d567abd8cb95\",\"subtype\":\"Figure\",\"type\":\"Plot\"},\"ticker\":{\"id\":\"7af64cb8-d4af-4782-b89e-5a421afd3bde\",\"type\":\"BasicTicker\"}},\"id\":\"f887a933-4462-413b-9c19-01a127023feb\",\"type\":\"Grid\"},{\"attributes\":{},\"id\":\"8fa322d3-4833-46b0-8937-bb9a8c0216e7\",\"type\":\"WheelZoomTool\"},{\"attributes\":{\"callback\":null,\"end\":7.0,\"start\":-7.0},\"id\":\"68f08066-4320-43b1-b391-7a8adae7d4db\",\"type\":\"Range1d\"},{\"attributes\":{\"line_width\":1.5,\"x\":{\"field\":\"x\"},\"y\":{\"field\":\"y\"}},\"id\":\"141ad4b7-899e-4c0a-b33a-d580d7775b85\",\"type\":\"Line\"},{\"attributes\":{},\"id\":\"7af64cb8-d4af-4782-b89e-5a421afd3bde\",\"type\":\"BasicTicker\"},{\"attributes\":{\"callback\":null,\"end\":7.0,\"start\":-7.0},\"id\":\"c261b907-626d-4cd2-b5c9-887e4da3d0b6\",\"type\":\"Range1d\"},{\"attributes\":{},\"id\":\"015d438b-326d-4d0f-9794-87447a1cea9c\",\"type\":\"ResetTool\"},{\"attributes\":{\"data_source\":{\"id\":\"dc7aa189-1659-45cd-8fa2-941c8c1a2315\",\"type\":\"ColumnDataSource\"},\"glyph\":{\"id\":\"141ad4b7-899e-4c0a-b33a-d580d7775b85\",\"type\":\"Line\"},\"hover_glyph\":null,\"muted_glyph\":null,\"nonselection_glyph\":{\"id\":\"3c8b5e92-a660-4b44-b8a4-639389309616\",\"type\":\"Line\"},\"selection_glyph\":null,\"view\":{\"id\":\"b521b968-9944-4090-855f-527eff21935f\",\"type\":\"CDSView\"}},\"id\":\"66e20a49-1c7a-439b-8357-5895bf556a7e\",\"type\":\"GlyphRenderer\"},{\"attributes\":{\"source\":{\"id\":\"b4393857-f900-4d31-a2d8-b9b166f88d53\",\"type\":\"ColumnDataSource\"}},\"id\":\"452cd5ae-e1c8-414e-844f-b88310ec0e33\",\"type\":\"CDSView\"},{\"attributes\":{\"line_alpha\":0.1,\"line_color\":\"#1f77b4\",\"line_width\":1.5,\"x\":{\"field\":\"x\"},\"y\":{\"field\":\"y\"}},\"id\":\"b5ed950f-e7d8-48b1-b7ec-abccb852b98b\",\"type\":\"Line\"},{\"attributes\":{\"callback\":null,\"data\":{},\"selected\":{\"id\":\"e19b5eb9-94f3-4edf-95e4-879123d80f6f\",\"type\":\"Selection\"},\"selection_policy\":{\"id\":\"60bc7259-049c-4818-be7c-750f16ebff8d\",\"type\":\"UnionRenderers\"}},\"id\":\"e17a5f2f-e02b-45f9-94b8-74505b2001e7\",\"type\":\"ColumnDataSource\"},{\"attributes\":{\"line_width\":1.5,\"x\":{\"field\":\"x\"},\"y\":{\"field\":\"y\"}},\"id\":\"e32814b6-b887-41e5-815a-a979b6055265\",\"type\":\"Line\"},{\"attributes\":{\"fill_color\":{\"value\":\"black\"},\"x\":{\"value\":1.91},\"y\":{\"value\":4.0}},\"id\":\"d157309b-9349-4894-ac4d-944fa2ea69e3\",\"type\":\"Circle\"},{\"attributes\":{},\"id\":\"ac21142d-740a-47d4-97a7-73ea7af4c0a5\",\"type\":\"PanTool\"},{\"attributes\":{\"end\":{\"id\":\"d90dbda3-ee05-496c-bad9-01917a41e9e4\",\"type\":\"NormalHead\"},\"line_alpha\":{\"value\":0.1},\"line_width\":{\"value\":3},\"plot\":{\"id\":\"dda2cb34-05a6-4ea3-8217-d567abd8cb95\",\"subtype\":\"Figure\",\"type\":\"Plot\"},\"source\":null,\"start\":null,\"x_end\":{\"value\":2.42},\"x_start\":{\"value\":0.0},\"y_end\":{\"value\":4.65},\"y_start\":{\"value\":0.0}},\"id\":\"a621dcde-5d4d-4d6a-b7ed-485a5ca43655\",\"type\":\"Arrow\"},{\"attributes\":{\"line_alpha\":0.1,\"line_color\":\"#1f77b4\",\"line_width\":1.5,\"x\":{\"field\":\"x\"},\"y\":{\"field\":\"y\"}},\"id\":\"3c8b5e92-a660-4b44-b8a4-639389309616\",\"type\":\"Line\"},{\"attributes\":{\"data_source\":{\"id\":\"a7b0bbd8-ba34-4d8c-a562-b3b6906a89f4\",\"type\":\"ColumnDataSource\"},\"glyph\":{\"id\":\"d157309b-9349-4894-ac4d-944fa2ea69e3\",\"type\":\"Circle\"},\"hover_glyph\":null,\"muted_glyph\":null,\"nonselection_glyph\":{\"id\":\"d04d7388-9b31-4f80-9e23-17cd35a970ee\",\"type\":\"Circle\"},\"selection_glyph\":null,\"view\":{\"id\":\"b8038d4d-260f-4ed4-9367-82640967e4b8\",\"type\":\"CDSView\"}},\"id\":\"d703ee95-02ce-4d52-8e1e-abdbc33638b7\",\"type\":\"GlyphRenderer\"},{\"attributes\":{\"end\":{\"id\":\"52a4075d-415e-4557-a219-d46b8b9568c2\",\"type\":\"NormalHead\"},\"line_alpha\":{\"value\":0.1},\"line_width\":{\"value\":3},\"plot\":{\"id\":\"dda2cb34-05a6-4ea3-8217-d567abd8cb95\",\"subtype\":\"Figure\",\"type\":\"Plot\"},\"source\":null,\"start\":null,\"x_end\":{\"value\":1.91},\"x_start\":{\"value\":0.0},\"y_end\":{\"value\":4.0},\"y_start\":{\"value\":0.0}},\"id\":\"fe5fb30a-27a8-4a3b-99b1-ba774eed479a\",\"type\":\"Arrow\"},{\"attributes\":{},\"id\":\"5d0a9b23-cf64-4267-8ae5-629a20e93935\",\"type\":\"BasicTicker\"},{\"attributes\":{\"callback\":null,\"data\":{},\"selected\":{\"id\":\"83de5c7f-18f3-4a9e-ac3a-acc5493d340e\",\"type\":\"Selection\"},\"selection_policy\":{\"id\":\"780c2263-a6fc-4f98-9540-001d5e3b36a7\",\"type\":\"UnionRenderers\"}},\"id\":\"581b8f01-4a0c-4294-adb4-c251e4f06818\",\"type\":\"ColumnDataSource\"},{\"attributes\":{\"source\":{\"id\":\"dc7aa189-1659-45cd-8fa2-941c8c1a2315\",\"type\":\"ColumnDataSource\"}},\"id\":\"b521b968-9944-4090-855f-527eff21935f\",\"type\":\"CDSView\"},{\"attributes\":{\"fill_alpha\":{\"value\":0.1},\"fill_color\":{\"value\":\"#1f77b4\"},\"line_alpha\":{\"value\":0.1},\"line_color\":{\"value\":\"#1f77b4\"},\"x\":{\"value\":1.91},\"y\":{\"value\":4.0}},\"id\":\"d04d7388-9b31-4f80-9e23-17cd35a970ee\",\"type\":\"Circle\"},{\"attributes\":{\"callback\":null,\"data\":{},\"selected\":{\"id\":\"729f19b5-99dc-4fd9-b115-7631662a15b9\",\"type\":\"Selection\"},\"selection_policy\":{\"id\":\"7bd4c568-7771-4851-bb23-c6dcf0fdd2f3\",\"type\":\"UnionRenderers\"}},\"id\":\"a7b0bbd8-ba34-4d8c-a562-b3b6906a89f4\",\"type\":\"ColumnDataSource\"},{\"attributes\":{\"source\":{\"id\":\"a7b0bbd8-ba34-4d8c-a562-b3b6906a89f4\",\"type\":\"ColumnDataSource\"}},\"id\":\"b8038d4d-260f-4ed4-9367-82640967e4b8\",\"type\":\"CDSView\"},{\"attributes\":{\"fill_alpha\":{\"value\":0.1},\"line_alpha\":{\"value\":0.1},\"plot\":null,\"size\":10},\"id\":\"41894e9b-cffa-4cdd-928b-492493774acc\",\"type\":\"NormalHead\"},{\"attributes\":{\"formatter\":{\"id\":\"b4f2489a-0d66-4a31-8c0f-30184910dd61\",\"type\":\"BasicTickFormatter\"},\"plot\":{\"id\":\"dda2cb34-05a6-4ea3-8217-d567abd8cb95\",\"subtype\":\"Figure\",\"type\":\"Plot\"},\"ticker\":{\"id\":\"5d0a9b23-cf64-4267-8ae5-629a20e93935\",\"type\":\"BasicTicker\"}},\"id\":\"d4f50cfb-2a5e-4a5d-9207-83b330889bd7\",\"type\":\"LinearAxis\"},{\"attributes\":{\"end\":{\"id\":\"41894e9b-cffa-4cdd-928b-492493774acc\",\"type\":\"NormalHead\"},\"line_alpha\":{\"value\":0.1},\"line_width\":{\"value\":3},\"plot\":{\"id\":\"dda2cb34-05a6-4ea3-8217-d567abd8cb95\",\"subtype\":\"Figure\",\"type\":\"Plot\"},\"source\":null,\"start\":null,\"x_end\":{\"value\":3.28},\"x_start\":{\"value\":0.0},\"y_end\":{\"value\":1.49},\"y_start\":{\"value\":0.0}},\"id\":\"16892327-288a-42e1-8b8a-970b5faa6300\",\"type\":\"Arrow\"},{\"attributes\":{\"callback\":null,\"data\":{\"x\":[0.0,0.0],\"y\":[-10.0,10.0]},\"selected\":{\"id\":\"7e7d5716-a715-4a76-b028-c22cea75d177\",\"type\":\"Selection\"},\"selection_policy\":{\"id\":\"d742b8f6-a25d-44e7-bb3e-207a947a53eb\",\"type\":\"UnionRenderers\"}},\"id\":\"b4393857-f900-4d31-a2d8-b9b166f88d53\",\"type\":\"ColumnDataSource\"},{\"attributes\":{\"callback\":null,\"data\":{},\"selected\":{\"id\":\"648a8526-b529-480a-b5db-1d2a5f9f991b\",\"type\":\"Selection\"},\"selection_policy\":{\"id\":\"6515f058-92af-458a-ba05-ae64b855d484\",\"type\":\"UnionRenderers\"}},\"id\":\"0e31568c-94eb-4d80-9ee2-e7ebd7fd9dbe\",\"type\":\"ColumnDataSource\"},{\"attributes\":{\"data_source\":{\"id\":\"b4393857-f900-4d31-a2d8-b9b166f88d53\",\"type\":\"ColumnDataSource\"},\"glyph\":{\"id\":\"e32814b6-b887-41e5-815a-a979b6055265\",\"type\":\"Line\"},\"hover_glyph\":null,\"muted_glyph\":null,\"nonselection_glyph\":{\"id\":\"b5ed950f-e7d8-48b1-b7ec-abccb852b98b\",\"type\":\"Line\"},\"selection_glyph\":null,\"view\":{\"id\":\"452cd5ae-e1c8-414e-844f-b88310ec0e33\",\"type\":\"CDSView\"}},\"id\":\"ca63dce3-1a46-49a0-8851-a7ccdae453b4\",\"type\":\"GlyphRenderer\"},{\"attributes\":{\"fill_alpha\":{\"value\":0.1},\"fill_color\":{\"value\":\"#1f77b4\"},\"line_alpha\":{\"value\":0.1},\"line_color\":{\"value\":\"#1f77b4\"},\"x\":{\"value\":3.28},\"y\":{\"value\":1.49}},\"id\":\"e0593a74-24b6-4bc1-b4e9-c440494db9d0\",\"type\":\"Circle\"},{\"attributes\":{\"dimension\":1,\"plot\":{\"id\":\"dda2cb34-05a6-4ea3-8217-d567abd8cb95\",\"subtype\":\"Figure\",\"type\":\"Plot\"},\"ticker\":{\"id\":\"5d0a9b23-cf64-4267-8ae5-629a20e93935\",\"type\":\"BasicTicker\"}},\"id\":\"f1b3716e-29d5-45d6-9c3b-07f58152237e\",\"type\":\"Grid\"},{\"attributes\":{\"fill_color\":{\"value\":\"black\"},\"x\":{\"value\":3.28},\"y\":{\"value\":1.49}},\"id\":\"5c0ab825-80ad-4c7a-bbb6-2fbcc1184e50\",\"type\":\"Circle\"},{\"attributes\":{\"data_source\":{\"id\":\"0e31568c-94eb-4d80-9ee2-e7ebd7fd9dbe\",\"type\":\"ColumnDataSource\"},\"glyph\":{\"id\":\"5c0ab825-80ad-4c7a-bbb6-2fbcc1184e50\",\"type\":\"Circle\"},\"hover_glyph\":null,\"muted_glyph\":null,\"nonselection_glyph\":{\"id\":\"e0593a74-24b6-4bc1-b4e9-c440494db9d0\",\"type\":\"Circle\"},\"selection_glyph\":null,\"view\":{\"id\":\"484de236-5561-45ed-bf50-dc5e081cacc6\",\"type\":\"CDSView\"}},\"id\":\"9f290736-844f-417e-8700-baa9829df5b1\",\"type\":\"GlyphRenderer\"},{\"attributes\":{\"source\":{\"id\":\"0e31568c-94eb-4d80-9ee2-e7ebd7fd9dbe\",\"type\":\"ColumnDataSource\"}},\"id\":\"484de236-5561-45ed-bf50-dc5e081cacc6\",\"type\":\"CDSView\"},{\"attributes\":{\"fill_alpha\":{\"value\":0.1},\"line_alpha\":{\"value\":0.1},\"plot\":null,\"size\":10},\"id\":\"d90dbda3-ee05-496c-bad9-01917a41e9e4\",\"type\":\"NormalHead\"}],\"root_ids\":[\"dda2cb34-05a6-4ea3-8217-d567abd8cb95\"]},\"title\":\"Bokeh Application\",\"version\":\"0.13.0\"}};\n",
       "  var render_items = [{\"docid\":\"a3634555-7465-4be3-a5fd-ce66ee7a8499\",\"roots\":{\"dda2cb34-05a6-4ea3-8217-d567abd8cb95\":\"33a7fc5e-d573-475b-9a35-d7c08aba1fbe\"}}];\n",
       "  root.Bokeh.embed.embed_items_notebook(docs_json, render_items);\n",
       "\n",
       "  }\n",
       "  if (root.Bokeh !== undefined) {\n",
       "    embed_document(root);\n",
       "  } else {\n",
       "    var attempts = 0;\n",
       "    var timer = setInterval(function(root) {\n",
       "      if (root.Bokeh !== undefined) {\n",
       "        embed_document(root);\n",
       "        clearInterval(timer);\n",
       "      }\n",
       "      attempts++;\n",
       "      if (attempts > 100) {\n",
       "        console.log(\"Bokeh: ERROR: Unable to run BokehJS code because BokehJS library is missing\")\n",
       "        clearInterval(timer);\n",
       "      }\n",
       "    }, 10, root)\n",
       "  }\n",
       "})(window);"
      ],
      "application/vnd.bokehjs_exec.v0+json": ""
     },
     "metadata": {
      "application/vnd.bokehjs_exec.v0+json": {
       "id": "dda2cb34-05a6-4ea3-8217-d567abd8cb95"
      }
     },
     "output_type": "display_data"
    }
   ],
   "source": [
    "plot.vec_w_point(X_means,color=\"blue\",alpha=.3)\n",
    "plot.show()"
   ]
  },
  {
   "cell_type": "markdown",
   "metadata": {},
   "source": [
    "### Deviations from the mean\n",
    "\n",
    "$$ \\textbf{X} - \\bar{\\textbf{x}}$$"
   ]
  },
  {
   "cell_type": "code",
   "execution_count": 6,
   "metadata": {},
   "outputs": [
    {
     "data": {
      "text/plain": [
       "array([[-1.193,  0.874],\n",
       "       [ 0.177, -1.636],\n",
       "       [-0.683,  1.524],\n",
       "       [-2.533, -0.556],\n",
       "       [ 1.167, -0.996],\n",
       "       [-0.783, -0.216],\n",
       "       [ 1.387, -0.766],\n",
       "       [-0.543, -0.556],\n",
       "       [ 2.107,  2.064],\n",
       "       [ 0.897,  0.264]])"
      ]
     },
     "execution_count": 6,
     "metadata": {},
     "output_type": "execute_result"
    }
   ],
   "source": [
    "X_dev = (X - X_means)  \n",
    "X_dev"
   ]
  },
  {
   "cell_type": "code",
   "execution_count": 7,
   "metadata": {},
   "outputs": [
    {
     "data": {
      "text/html": [
       "\n",
       "\n",
       "\n",
       "\n",
       "\n",
       "\n",
       "  <div class=\"bk-root\" id=\"27bca395-feb3-4063-a112-0aea99405c14\"></div>\n"
      ]
     },
     "metadata": {},
     "output_type": "display_data"
    },
    {
     "data": {
      "application/javascript": [
       "(function(root) {\n",
       "  function embed_document(root) {\n",
       "    \n",
       "  var docs_json = {\"b9475968-a549-47ae-bf2b-fb1d0dfcb275\":{\"roots\":{\"references\":[{\"attributes\":{\"fill_color\":{\"value\":\"orange\"},\"line_color\":{\"value\":\"orange\"},\"x\":{\"value\":1.3870000000000005},\"y\":{\"value\":-0.7660000000000005}},\"id\":\"6993170e-9057-496b-b67d-606002667926\",\"type\":\"Circle\"},{\"attributes\":{},\"id\":\"b16b5723-edcd-4438-b44e-fc761dee15b7\",\"type\":\"BasicTickFormatter\"},{\"attributes\":{\"fill_color\":{\"value\":\"orange\"},\"line_color\":{\"value\":\"orange\"},\"x\":{\"value\":0.17700000000000005},\"y\":{\"value\":-1.6360000000000003}},\"id\":\"1701ddf7-3189-4bea-8810-6ec58de0a2ac\",\"type\":\"Circle\"},{\"attributes\":{},\"id\":\"0ab4e950-2289-417e-a766-7779d4f26165\",\"type\":\"WheelZoomTool\"},{\"attributes\":{\"fill_alpha\":{\"value\":0.1},\"fill_color\":{\"value\":\"#1f77b4\"},\"line_alpha\":{\"value\":0.1},\"line_color\":{\"value\":\"#1f77b4\"},\"x\":{\"value\":1.3870000000000005},\"y\":{\"value\":-0.7660000000000005}},\"id\":\"10397144-ba52-4f55-9d1b-64d0c4e761ca\",\"type\":\"Circle\"},{\"attributes\":{\"data_source\":{\"id\":\"c4e0f55f-66c9-4b92-a548-61ff7862ab94\",\"type\":\"ColumnDataSource\"},\"glyph\":{\"id\":\"1701ddf7-3189-4bea-8810-6ec58de0a2ac\",\"type\":\"Circle\"},\"hover_glyph\":null,\"muted_glyph\":null,\"nonselection_glyph\":{\"id\":\"26fcd1f4-6dba-425a-b16d-e313868e1eaa\",\"type\":\"Circle\"},\"selection_glyph\":null,\"view\":{\"id\":\"2da3ea20-0502-491d-88f5-42a1a8736d2e\",\"type\":\"CDSView\"}},\"id\":\"baa3f52d-f58c-40fa-9fa1-edb0fd7a693b\",\"type\":\"GlyphRenderer\"},{\"attributes\":{\"data_source\":{\"id\":\"16b6e84c-a077-4501-9fe4-4b6bdca3c2f1\",\"type\":\"ColumnDataSource\"},\"glyph\":{\"id\":\"6993170e-9057-496b-b67d-606002667926\",\"type\":\"Circle\"},\"hover_glyph\":null,\"muted_glyph\":null,\"nonselection_glyph\":{\"id\":\"10397144-ba52-4f55-9d1b-64d0c4e761ca\",\"type\":\"Circle\"},\"selection_glyph\":null,\"view\":{\"id\":\"82019e1d-8e54-4a7d-9ca1-dd221b5b6714\",\"type\":\"CDSView\"}},\"id\":\"9108c1f6-19da-4ff1-8d70-0b6917e48e29\",\"type\":\"GlyphRenderer\"},{\"attributes\":{\"source\":{\"id\":\"16b6e84c-a077-4501-9fe4-4b6bdca3c2f1\",\"type\":\"ColumnDataSource\"}},\"id\":\"82019e1d-8e54-4a7d-9ca1-dd221b5b6714\",\"type\":\"CDSView\"},{\"attributes\":{\"fill_alpha\":{\"value\":0.4},\"fill_color\":{\"value\":\"orange\"},\"line_alpha\":{\"value\":0.4},\"line_color\":{\"value\":\"orange\"},\"plot\":null,\"size\":10},\"id\":\"33bb4ca9-215b-4f07-8afa-586840e090a3\",\"type\":\"NormalHead\"},{\"attributes\":{\"callback\":null,\"end\":3.5,\"start\":-3.5},\"id\":\"6a93655c-c733-4f79-be61-0b022d437dfc\",\"type\":\"Range1d\"},{\"attributes\":{},\"id\":\"cf130246-d630-4c11-8374-23ea333a62ea\",\"type\":\"UnionRenderers\"},{\"attributes\":{\"end\":{\"id\":\"33bb4ca9-215b-4f07-8afa-586840e090a3\",\"type\":\"NormalHead\"},\"line_alpha\":{\"value\":0.4},\"line_color\":{\"value\":\"orange\"},\"line_width\":{\"value\":3},\"plot\":{\"id\":\"ff23b008-999a-4c60-89f7-6e12fad46093\",\"subtype\":\"Figure\",\"type\":\"Plot\"},\"source\":null,\"start\":null,\"x_end\":{\"value\":-0.5429999999999997},\"x_start\":{\"value\":0.0},\"y_end\":{\"value\":-0.5560000000000005},\"y_start\":{\"value\":0.0}},\"id\":\"6c16f604-85a3-4ccb-aff8-b9e3873cf1e0\",\"type\":\"Arrow\"},{\"attributes\":{\"active_drag\":\"auto\",\"active_inspect\":\"auto\",\"active_multi\":null,\"active_scroll\":\"auto\",\"active_tap\":\"auto\",\"tools\":[{\"id\":\"0ab4e950-2289-417e-a766-7779d4f26165\",\"type\":\"WheelZoomTool\"},{\"id\":\"45e0cac5-7715-44d8-a585-4c9e948fc0ba\",\"type\":\"PanTool\"},{\"id\":\"377d3c22-dc77-4407-8d2b-845cfaa2d5a8\",\"type\":\"ResetTool\"}]},\"id\":\"844ed529-3193-4ae2-9b74-bd3491b281bc\",\"type\":\"Toolbar\"},{\"attributes\":{\"callback\":null,\"data\":{},\"selected\":{\"id\":\"9192d26c-563f-4417-8493-bcb38542fb9c\",\"type\":\"Selection\"},\"selection_policy\":{\"id\":\"1cb80eae-187c-4195-80c3-ebbf48c52289\",\"type\":\"UnionRenderers\"}},\"id\":\"28e34956-d357-4f57-90de-4f251f753c87\",\"type\":\"ColumnDataSource\"},{\"attributes\":{\"callback\":null,\"data\":{},\"selected\":{\"id\":\"4e118020-c9e9-42e7-aa74-1efbe7259511\",\"type\":\"Selection\"},\"selection_policy\":{\"id\":\"a6f189ca-1faa-4d4f-94ec-a30a98e99bee\",\"type\":\"UnionRenderers\"}},\"id\":\"5ab1810c-1a4d-411d-b1e6-c0d4196c452f\",\"type\":\"ColumnDataSource\"},{\"attributes\":{\"fill_alpha\":{\"value\":0.4},\"fill_color\":{\"value\":\"orange\"},\"line_alpha\":{\"value\":0.4},\"line_color\":{\"value\":\"orange\"},\"plot\":null,\"size\":10},\"id\":\"01a8749a-9897-4b31-ad30-e82ba60ee565\",\"type\":\"NormalHead\"},{\"attributes\":{\"end\":{\"id\":\"01a8749a-9897-4b31-ad30-e82ba60ee565\",\"type\":\"NormalHead\"},\"line_alpha\":{\"value\":0.4},\"line_color\":{\"value\":\"orange\"},\"line_width\":{\"value\":3},\"plot\":{\"id\":\"ff23b008-999a-4c60-89f7-6e12fad46093\",\"subtype\":\"Figure\",\"type\":\"Plot\"},\"source\":null,\"start\":null,\"x_end\":{\"value\":-0.6829999999999998},\"x_start\":{\"value\":0.0},\"y_end\":{\"value\":1.524},\"y_start\":{\"value\":0.0}},\"id\":\"0899b481-500c-4143-b4e4-236c663a49ce\",\"type\":\"Arrow\"},{\"attributes\":{\"fill_alpha\":{\"value\":0.1},\"fill_color\":{\"value\":\"#1f77b4\"},\"line_alpha\":{\"value\":0.1},\"line_color\":{\"value\":\"#1f77b4\"},\"x\":{\"value\":-0.5429999999999997},\"y\":{\"value\":-0.5560000000000005}},\"id\":\"1e61a5f4-f58c-48e8-b395-35736907398d\",\"type\":\"Circle\"},{\"attributes\":{\"fill_color\":{\"value\":\"orange\"},\"line_color\":{\"value\":\"orange\"},\"x\":{\"value\":-0.5429999999999997},\"y\":{\"value\":-0.5560000000000005}},\"id\":\"ffbf895b-0861-40f2-b52a-518c44640b07\",\"type\":\"Circle\"},{\"attributes\":{},\"id\":\"46fe25e0-d220-4407-8db9-a994cadd4ea1\",\"type\":\"UnionRenderers\"},{\"attributes\":{\"data_source\":{\"id\":\"5ab1810c-1a4d-411d-b1e6-c0d4196c452f\",\"type\":\"ColumnDataSource\"},\"glyph\":{\"id\":\"ffbf895b-0861-40f2-b52a-518c44640b07\",\"type\":\"Circle\"},\"hover_glyph\":null,\"muted_glyph\":null,\"nonselection_glyph\":{\"id\":\"1e61a5f4-f58c-48e8-b395-35736907398d\",\"type\":\"Circle\"},\"selection_glyph\":null,\"view\":{\"id\":\"5dd54d51-8d7e-458a-b463-9b936d9a8ba5\",\"type\":\"CDSView\"}},\"id\":\"b66d85db-0d00-40eb-8bcb-1c588521f384\",\"type\":\"GlyphRenderer\"},{\"attributes\":{\"fill_alpha\":{\"value\":0.1},\"fill_color\":{\"value\":\"#1f77b4\"},\"line_alpha\":{\"value\":0.1},\"line_color\":{\"value\":\"#1f77b4\"},\"x\":{\"value\":-1.1929999999999998},\"y\":{\"value\":0.8739999999999997}},\"id\":\"83c6a570-5b52-4e82-97c3-d9e69f36c49d\",\"type\":\"Circle\"},{\"attributes\":{\"source\":{\"id\":\"5ab1810c-1a4d-411d-b1e6-c0d4196c452f\",\"type\":\"ColumnDataSource\"}},\"id\":\"5dd54d51-8d7e-458a-b463-9b936d9a8ba5\",\"type\":\"CDSView\"},{\"attributes\":{\"line_alpha\":0.1,\"line_color\":\"#1f77b4\",\"line_width\":1.5,\"x\":{\"field\":\"x\"},\"y\":{\"field\":\"y\"}},\"id\":\"63db92a7-0f7c-4180-bb9f-a40376330ef5\",\"type\":\"Line\"},{\"attributes\":{\"line_width\":1.5,\"x\":{\"field\":\"x\"},\"y\":{\"field\":\"y\"}},\"id\":\"652dc47d-d85e-474f-bcb2-b8097fbd7624\",\"type\":\"Line\"},{\"attributes\":{\"fill_alpha\":{\"value\":0.4},\"fill_color\":{\"value\":\"orange\"},\"line_alpha\":{\"value\":0.4},\"line_color\":{\"value\":\"orange\"},\"plot\":null,\"size\":10},\"id\":\"b64032c6-45a4-4c7a-94fe-53f3152784d5\",\"type\":\"NormalHead\"},{\"attributes\":{\"plot\":null,\"text\":\"\"},\"id\":\"96c497ba-5f92-41de-9bb9-352f169492a0\",\"type\":\"Title\"},{\"attributes\":{\"end\":{\"id\":\"b64032c6-45a4-4c7a-94fe-53f3152784d5\",\"type\":\"NormalHead\"},\"line_alpha\":{\"value\":0.4},\"line_color\":{\"value\":\"orange\"},\"line_width\":{\"value\":3},\"plot\":{\"id\":\"ff23b008-999a-4c60-89f7-6e12fad46093\",\"subtype\":\"Figure\",\"type\":\"Plot\"},\"source\":null,\"start\":null,\"x_end\":{\"value\":2.107},\"x_start\":{\"value\":0.0},\"y_end\":{\"value\":2.064},\"y_start\":{\"value\":0.0}},\"id\":\"f2544c00-5c59-4427-b400-73cad6ba1807\",\"type\":\"Arrow\"},{\"attributes\":{\"callback\":null,\"data\":{},\"selected\":{\"id\":\"157aa1ad-c2bf-45d5-b7c2-3c6f703bc49a\",\"type\":\"Selection\"},\"selection_policy\":{\"id\":\"7ad40ef3-30f0-4859-adbe-884b9d9f0baf\",\"type\":\"UnionRenderers\"}},\"id\":\"793e8a7a-3654-44b9-b213-de7aa37dbd25\",\"type\":\"ColumnDataSource\"},{\"attributes\":{\"end\":{\"id\":\"b959b444-12e4-47da-bc86-4889b9824844\",\"type\":\"NormalHead\"},\"line_alpha\":{\"value\":0.4},\"line_color\":{\"value\":\"orange\"},\"line_width\":{\"value\":3},\"plot\":{\"id\":\"ff23b008-999a-4c60-89f7-6e12fad46093\",\"subtype\":\"Figure\",\"type\":\"Plot\"},\"source\":null,\"start\":null,\"x_end\":{\"value\":-2.533},\"x_start\":{\"value\":0.0},\"y_end\":{\"value\":-0.5560000000000005},\"y_start\":{\"value\":0.0}},\"id\":\"c7bb3ebd-8138-41db-a1d3-c7a4945feb9a\",\"type\":\"Arrow\"},{\"attributes\":{\"source\":{\"id\":\"21ae22c1-cb17-4c7b-939d-884602aaa913\",\"type\":\"ColumnDataSource\"}},\"id\":\"054e3f80-3849-4a56-a0f8-7044b16cd70b\",\"type\":\"CDSView\"},{\"attributes\":{\"fill_alpha\":{\"value\":0.1},\"fill_color\":{\"value\":\"#1f77b4\"},\"line_alpha\":{\"value\":0.1},\"line_color\":{\"value\":\"#1f77b4\"},\"x\":{\"value\":2.107},\"y\":{\"value\":2.064}},\"id\":\"95ff631f-94a5-49c7-942c-1a9613e9b799\",\"type\":\"Circle\"},{\"attributes\":{\"callback\":null,\"data\":{\"x\":[0.0,0.0],\"y\":[-5.0,5.0]},\"selected\":{\"id\":\"8816c954-1e9e-4a8a-9efd-780667a03409\",\"type\":\"Selection\"},\"selection_policy\":{\"id\":\"8d81a5b1-c8ee-4af7-83dd-971c0744524d\",\"type\":\"UnionRenderers\"}},\"id\":\"21ae22c1-cb17-4c7b-939d-884602aaa913\",\"type\":\"ColumnDataSource\"},{\"attributes\":{\"fill_color\":{\"value\":\"orange\"},\"line_color\":{\"value\":\"orange\"},\"x\":{\"value\":2.107},\"y\":{\"value\":2.064}},\"id\":\"7ce9e6f8-e1d7-4b45-a3ae-108153676934\",\"type\":\"Circle\"},{\"attributes\":{\"source\":{\"id\":\"c4e0f55f-66c9-4b92-a548-61ff7862ab94\",\"type\":\"ColumnDataSource\"}},\"id\":\"2da3ea20-0502-491d-88f5-42a1a8736d2e\",\"type\":\"CDSView\"},{\"attributes\":{\"data_source\":{\"id\":\"793e8a7a-3654-44b9-b213-de7aa37dbd25\",\"type\":\"ColumnDataSource\"},\"glyph\":{\"id\":\"7ce9e6f8-e1d7-4b45-a3ae-108153676934\",\"type\":\"Circle\"},\"hover_glyph\":null,\"muted_glyph\":null,\"nonselection_glyph\":{\"id\":\"95ff631f-94a5-49c7-942c-1a9613e9b799\",\"type\":\"Circle\"},\"selection_glyph\":null,\"view\":{\"id\":\"baa1498e-f5e2-48c8-a538-2d1e6fdeea3f\",\"type\":\"CDSView\"}},\"id\":\"4aab0a09-e97b-429f-bd6f-885de1f7d2d4\",\"type\":\"GlyphRenderer\"},{\"attributes\":{\"data_source\":{\"id\":\"21ae22c1-cb17-4c7b-939d-884602aaa913\",\"type\":\"ColumnDataSource\"},\"glyph\":{\"id\":\"652dc47d-d85e-474f-bcb2-b8097fbd7624\",\"type\":\"Line\"},\"hover_glyph\":null,\"muted_glyph\":null,\"nonselection_glyph\":{\"id\":\"9fb51b39-aaa7-4cbb-81c2-02c70fcdaa66\",\"type\":\"Line\"},\"selection_glyph\":null,\"view\":{\"id\":\"054e3f80-3849-4a56-a0f8-7044b16cd70b\",\"type\":\"CDSView\"}},\"id\":\"79cde5d8-57e3-438f-9fb7-260d561948cf\",\"type\":\"GlyphRenderer\"},{\"attributes\":{\"source\":{\"id\":\"793e8a7a-3654-44b9-b213-de7aa37dbd25\",\"type\":\"ColumnDataSource\"}},\"id\":\"baa1498e-f5e2-48c8-a538-2d1e6fdeea3f\",\"type\":\"CDSView\"},{\"attributes\":{\"line_alpha\":0.1,\"line_color\":\"#1f77b4\",\"line_width\":1.5,\"x\":{\"field\":\"x\"},\"y\":{\"field\":\"y\"}},\"id\":\"9fb51b39-aaa7-4cbb-81c2-02c70fcdaa66\",\"type\":\"Line\"},{\"attributes\":{\"fill_alpha\":{\"value\":0.4},\"fill_color\":{\"value\":\"orange\"},\"line_alpha\":{\"value\":0.4},\"line_color\":{\"value\":\"orange\"},\"plot\":null,\"size\":10},\"id\":\"be4216f5-d1c0-420a-8e5f-131310257d96\",\"type\":\"NormalHead\"},{\"attributes\":{\"data_source\":{\"id\":\"28e34956-d357-4f57-90de-4f251f753c87\",\"type\":\"ColumnDataSource\"},\"glyph\":{\"id\":\"35f34e7a-29c2-4fb5-999c-431517cdfd54\",\"type\":\"Circle\"},\"hover_glyph\":null,\"muted_glyph\":null,\"nonselection_glyph\":{\"id\":\"1977a30d-b855-4959-a38d-4bcc4ec1ea9d\",\"type\":\"Circle\"},\"selection_glyph\":null,\"view\":{\"id\":\"66282433-29ef-4239-b39d-75a19fa89cea\",\"type\":\"CDSView\"}},\"id\":\"a4450dfb-906f-4cd0-ab94-588e6361d0e2\",\"type\":\"GlyphRenderer\"},{\"attributes\":{\"fill_alpha\":{\"value\":0.1},\"fill_color\":{\"value\":\"#1f77b4\"},\"line_alpha\":{\"value\":0.1},\"line_color\":{\"value\":\"#1f77b4\"},\"x\":{\"value\":0.17700000000000005},\"y\":{\"value\":-1.6360000000000003}},\"id\":\"26fcd1f4-6dba-425a-b16d-e313868e1eaa\",\"type\":\"Circle\"},{\"attributes\":{\"end\":{\"id\":\"be4216f5-d1c0-420a-8e5f-131310257d96\",\"type\":\"NormalHead\"},\"line_alpha\":{\"value\":0.4},\"line_color\":{\"value\":\"orange\"},\"line_width\":{\"value\":3},\"plot\":{\"id\":\"ff23b008-999a-4c60-89f7-6e12fad46093\",\"subtype\":\"Figure\",\"type\":\"Plot\"},\"source\":null,\"start\":null,\"x_end\":{\"value\":0.8970000000000002},\"x_start\":{\"value\":0.0},\"y_end\":{\"value\":0.2639999999999998},\"y_start\":{\"value\":0.0}},\"id\":\"d45f2d25-cffa-4973-9560-687d8003bdf3\",\"type\":\"Arrow\"},{\"attributes\":{\"callback\":null,\"data\":{},\"selected\":{\"id\":\"5ae4c2f2-5dda-4598-8215-8c5efa524ca4\",\"type\":\"Selection\"},\"selection_policy\":{\"id\":\"5510529b-ae58-45bb-ba95-489f088ba7ff\",\"type\":\"UnionRenderers\"}},\"id\":\"59dcb027-317b-4b30-a724-82b2b920c7c1\",\"type\":\"ColumnDataSource\"},{\"attributes\":{\"callback\":null,\"data\":{},\"selected\":{\"id\":\"b6eb7247-0aa7-4a45-a342-c377ce727345\",\"type\":\"Selection\"},\"selection_policy\":{\"id\":\"7f8c2655-1be3-47e1-ac7d-7431e4232777\",\"type\":\"UnionRenderers\"}},\"id\":\"2a9c758c-40ac-4911-ace7-572e912d1f90\",\"type\":\"ColumnDataSource\"},{\"attributes\":{\"callback\":null,\"data\":{},\"selected\":{\"id\":\"5bb8729c-dd62-4492-b1c1-4d7919ef6bbd\",\"type\":\"Selection\"},\"selection_policy\":{\"id\":\"6347b340-38f1-4233-bafe-b5a2bd0c1642\",\"type\":\"UnionRenderers\"}},\"id\":\"e71a3d03-fca8-4112-afa2-aca98994b208\",\"type\":\"ColumnDataSource\"},{\"attributes\":{\"fill_alpha\":{\"value\":0.4},\"fill_color\":{\"value\":\"orange\"},\"line_alpha\":{\"value\":0.4},\"line_color\":{\"value\":\"orange\"},\"plot\":null,\"size\":10},\"id\":\"5fbfa225-686a-489f-bbfc-0adc1483328c\",\"type\":\"NormalHead\"},{\"attributes\":{\"callback\":null,\"data\":{},\"selected\":{\"id\":\"a77c5fbb-0370-40b1-928f-f8eefbb6d5db\",\"type\":\"Selection\"},\"selection_policy\":{\"id\":\"46fe25e0-d220-4407-8db9-a994cadd4ea1\",\"type\":\"UnionRenderers\"}},\"id\":\"16b6e84c-a077-4501-9fe4-4b6bdca3c2f1\",\"type\":\"ColumnDataSource\"},{\"attributes\":{\"fill_alpha\":{\"value\":0.1},\"fill_color\":{\"value\":\"#1f77b4\"},\"line_alpha\":{\"value\":0.1},\"line_color\":{\"value\":\"#1f77b4\"},\"x\":{\"value\":0.8970000000000002},\"y\":{\"value\":0.2639999999999998}},\"id\":\"66834ce5-2924-47c9-984c-fffc681059b2\",\"type\":\"Circle\"},{\"attributes\":{\"fill_color\":{\"value\":\"orange\"},\"line_color\":{\"value\":\"orange\"},\"x\":{\"value\":-1.1929999999999998},\"y\":{\"value\":0.8739999999999997}},\"id\":\"a40f3049-368f-4e46-a910-dfd0b3477293\",\"type\":\"Circle\"},{\"attributes\":{\"fill_color\":{\"value\":\"orange\"},\"line_color\":{\"value\":\"orange\"},\"x\":{\"value\":0.8970000000000002},\"y\":{\"value\":0.2639999999999998}},\"id\":\"97861030-bbb1-4656-ac8c-edc3dca37649\",\"type\":\"Circle\"},{\"attributes\":{\"callback\":null,\"data\":{},\"selected\":{\"id\":\"afa0c6ab-091d-4234-9d0f-ef47cccd3398\",\"type\":\"Selection\"},\"selection_policy\":{\"id\":\"2f2799be-fe0b-44f7-aec6-49964248fd2b\",\"type\":\"UnionRenderers\"}},\"id\":\"c4e0f55f-66c9-4b92-a548-61ff7862ab94\",\"type\":\"ColumnDataSource\"},{\"attributes\":{\"source\":{\"id\":\"ccbf655b-02b0-4254-9b30-77f9331d3439\",\"type\":\"ColumnDataSource\"}},\"id\":\"fe27101f-7dd1-4fc5-bb04-b561abf5d494\",\"type\":\"CDSView\"},{\"attributes\":{\"data_source\":{\"id\":\"e71a3d03-fca8-4112-afa2-aca98994b208\",\"type\":\"ColumnDataSource\"},\"glyph\":{\"id\":\"97861030-bbb1-4656-ac8c-edc3dca37649\",\"type\":\"Circle\"},\"hover_glyph\":null,\"muted_glyph\":null,\"nonselection_glyph\":{\"id\":\"66834ce5-2924-47c9-984c-fffc681059b2\",\"type\":\"Circle\"},\"selection_glyph\":null,\"view\":{\"id\":\"5279cb2c-ae3d-4eba-ad31-aad8b3865884\",\"type\":\"CDSView\"}},\"id\":\"a86d2693-e21b-4703-8683-e51b941167e4\",\"type\":\"GlyphRenderer\"},{\"attributes\":{\"data_source\":{\"id\":\"59dcb027-317b-4b30-a724-82b2b920c7c1\",\"type\":\"ColumnDataSource\"},\"glyph\":{\"id\":\"a40f3049-368f-4e46-a910-dfd0b3477293\",\"type\":\"Circle\"},\"hover_glyph\":null,\"muted_glyph\":null,\"nonselection_glyph\":{\"id\":\"83c6a570-5b52-4e82-97c3-d9e69f36c49d\",\"type\":\"Circle\"},\"selection_glyph\":null,\"view\":{\"id\":\"f553aef7-4b23-4283-a7da-c9b325295aa9\",\"type\":\"CDSView\"}},\"id\":\"b3cc3de2-1943-46d4-9ca3-a6f7f2b0c824\",\"type\":\"GlyphRenderer\"},{\"attributes\":{\"source\":{\"id\":\"2a9c758c-40ac-4911-ace7-572e912d1f90\",\"type\":\"ColumnDataSource\"}},\"id\":\"7764cd69-8c27-4900-add6-aea04daa097e\",\"type\":\"CDSView\"},{\"attributes\":{\"source\":{\"id\":\"e71a3d03-fca8-4112-afa2-aca98994b208\",\"type\":\"ColumnDataSource\"}},\"id\":\"5279cb2c-ae3d-4eba-ad31-aad8b3865884\",\"type\":\"CDSView\"},{\"attributes\":{\"source\":{\"id\":\"59dcb027-317b-4b30-a724-82b2b920c7c1\",\"type\":\"ColumnDataSource\"}},\"id\":\"f553aef7-4b23-4283-a7da-c9b325295aa9\",\"type\":\"CDSView\"},{\"attributes\":{\"fill_color\":{\"value\":\"orange\"},\"line_color\":{\"value\":\"orange\"},\"x\":{\"value\":-0.6829999999999998},\"y\":{\"value\":1.524}},\"id\":\"35f34e7a-29c2-4fb5-999c-431517cdfd54\",\"type\":\"Circle\"},{\"attributes\":{\"fill_alpha\":{\"value\":0.4},\"fill_color\":{\"value\":\"orange\"},\"line_alpha\":{\"value\":0.4},\"line_color\":{\"value\":\"orange\"},\"plot\":null,\"size\":10},\"id\":\"b959b444-12e4-47da-bc86-4889b9824844\",\"type\":\"NormalHead\"},{\"attributes\":{},\"id\":\"c5c3968e-f2a5-497d-a4eb-a6be1a7241be\",\"type\":\"UnionRenderers\"},{\"attributes\":{\"end\":{\"id\":\"5fbfa225-686a-489f-bbfc-0adc1483328c\",\"type\":\"NormalHead\"},\"line_alpha\":{\"value\":0.4},\"line_color\":{\"value\":\"orange\"},\"line_width\":{\"value\":3},\"plot\":{\"id\":\"ff23b008-999a-4c60-89f7-6e12fad46093\",\"subtype\":\"Figure\",\"type\":\"Plot\"},\"source\":null,\"start\":null,\"x_end\":{\"value\":0.17700000000000005},\"x_start\":{\"value\":0.0},\"y_end\":{\"value\":-1.6360000000000003},\"y_start\":{\"value\":0.0}},\"id\":\"f9261113-97c3-431d-8332-b57d6e1dd0f1\",\"type\":\"Arrow\"},{\"attributes\":{\"fill_alpha\":{\"value\":0.1},\"fill_color\":{\"value\":\"#1f77b4\"},\"line_alpha\":{\"value\":0.1},\"line_color\":{\"value\":\"#1f77b4\"},\"x\":{\"value\":-2.533},\"y\":{\"value\":-0.5560000000000005}},\"id\":\"eb2dfcbf-d1ba-4dea-8d4c-accb812f6da3\",\"type\":\"Circle\"},{\"attributes\":{},\"id\":\"b0de3eb9-f8a8-4c0f-aa3b-120b52d6103f\",\"type\":\"BasicTickFormatter\"},{\"attributes\":{\"plot\":{\"id\":\"ff23b008-999a-4c60-89f7-6e12fad46093\",\"subtype\":\"Figure\",\"type\":\"Plot\"},\"ticker\":{\"id\":\"461bd660-c18a-40ee-82d7-78c965c31479\",\"type\":\"BasicTicker\"}},\"id\":\"410b3fbf-dfe8-4fc7-af14-31e4a356aa56\",\"type\":\"Grid\"},{\"attributes\":{\"data_source\":{\"id\":\"2a9c758c-40ac-4911-ace7-572e912d1f90\",\"type\":\"ColumnDataSource\"},\"glyph\":{\"id\":\"f8140c75-33a7-4279-aef4-e22a8812e76a\",\"type\":\"Circle\"},\"hover_glyph\":null,\"muted_glyph\":null,\"nonselection_glyph\":{\"id\":\"38e847e6-09e6-4005-87c0-cb9f984ada14\",\"type\":\"Circle\"},\"selection_glyph\":null,\"view\":{\"id\":\"7764cd69-8c27-4900-add6-aea04daa097e\",\"type\":\"CDSView\"}},\"id\":\"b6bb6e06-64bc-470e-ab01-5d3f8318d9bd\",\"type\":\"GlyphRenderer\"},{\"attributes\":{},\"id\":\"32cc84b8-0759-499f-a387-0cf8502ec755\",\"type\":\"Selection\"},{\"attributes\":{\"end\":{\"id\":\"abae717e-308e-4e91-bcd7-c952418d8061\",\"type\":\"NormalHead\"},\"line_alpha\":{\"value\":0.4},\"line_color\":{\"value\":\"orange\"},\"line_width\":{\"value\":3},\"plot\":{\"id\":\"ff23b008-999a-4c60-89f7-6e12fad46093\",\"subtype\":\"Figure\",\"type\":\"Plot\"},\"source\":null,\"start\":null,\"x_end\":{\"value\":1.1669999999999998},\"x_start\":{\"value\":0.0},\"y_end\":{\"value\":-0.9960000000000004},\"y_start\":{\"value\":0.0}},\"id\":\"4eb1d74b-7bb9-4f76-a827-2c3675a308fe\",\"type\":\"Arrow\"},{\"attributes\":{},\"id\":\"a6f189ca-1faa-4d4f-94ec-a30a98e99bee\",\"type\":\"UnionRenderers\"},{\"attributes\":{\"fill_alpha\":{\"value\":0.4},\"fill_color\":{\"value\":\"orange\"},\"line_alpha\":{\"value\":0.4},\"line_color\":{\"value\":\"orange\"},\"plot\":null,\"size\":10},\"id\":\"abae717e-308e-4e91-bcd7-c952418d8061\",\"type\":\"NormalHead\"},{\"attributes\":{},\"id\":\"8d81a5b1-c8ee-4af7-83dd-971c0744524d\",\"type\":\"UnionRenderers\"},{\"attributes\":{\"fill_color\":{\"value\":\"orange\"},\"line_color\":{\"value\":\"orange\"},\"x\":{\"value\":1.1669999999999998},\"y\":{\"value\":-0.9960000000000004}},\"id\":\"f8140c75-33a7-4279-aef4-e22a8812e76a\",\"type\":\"Circle\"},{\"attributes\":{},\"id\":\"8816c954-1e9e-4a8a-9efd-780667a03409\",\"type\":\"Selection\"},{\"attributes\":{\"fill_alpha\":{\"value\":0.1},\"fill_color\":{\"value\":\"#1f77b4\"},\"line_alpha\":{\"value\":0.1},\"line_color\":{\"value\":\"#1f77b4\"},\"x\":{\"value\":-0.6829999999999998},\"y\":{\"value\":1.524}},\"id\":\"1977a30d-b855-4959-a38d-4bcc4ec1ea9d\",\"type\":\"Circle\"},{\"attributes\":{},\"id\":\"5510529b-ae58-45bb-ba95-489f088ba7ff\",\"type\":\"UnionRenderers\"},{\"attributes\":{\"data_source\":{\"id\":\"ccbf655b-02b0-4254-9b30-77f9331d3439\",\"type\":\"ColumnDataSource\"},\"glyph\":{\"id\":\"68c732d6-2eb8-40c6-a127-b853b31b70f7\",\"type\":\"Circle\"},\"hover_glyph\":null,\"muted_glyph\":null,\"nonselection_glyph\":{\"id\":\"eb2dfcbf-d1ba-4dea-8d4c-accb812f6da3\",\"type\":\"Circle\"},\"selection_glyph\":null,\"view\":{\"id\":\"fe27101f-7dd1-4fc5-bb04-b561abf5d494\",\"type\":\"CDSView\"}},\"id\":\"e4ac2b08-105f-41b6-a007-29115bd2419f\",\"type\":\"GlyphRenderer\"},{\"attributes\":{},\"id\":\"5ae4c2f2-5dda-4598-8215-8c5efa524ca4\",\"type\":\"Selection\"},{\"attributes\":{\"fill_alpha\":{\"value\":0.1},\"fill_color\":{\"value\":\"#1f77b4\"},\"line_alpha\":{\"value\":0.1},\"line_color\":{\"value\":\"#1f77b4\"},\"x\":{\"value\":1.1669999999999998},\"y\":{\"value\":-0.9960000000000004}},\"id\":\"38e847e6-09e6-4005-87c0-cb9f984ada14\",\"type\":\"Circle\"},{\"attributes\":{},\"id\":\"2f2799be-fe0b-44f7-aec6-49964248fd2b\",\"type\":\"UnionRenderers\"},{\"attributes\":{\"fill_alpha\":{\"value\":0.4},\"fill_color\":{\"value\":\"orange\"},\"line_alpha\":{\"value\":0.4},\"line_color\":{\"value\":\"orange\"},\"plot\":null,\"size\":10},\"id\":\"70328792-273c-4519-aa2b-574b113bc76e\",\"type\":\"NormalHead\"},{\"attributes\":{},\"id\":\"afa0c6ab-091d-4234-9d0f-ef47cccd3398\",\"type\":\"Selection\"},{\"attributes\":{\"end\":{\"id\":\"70328792-273c-4519-aa2b-574b113bc76e\",\"type\":\"NormalHead\"},\"line_alpha\":{\"value\":0.4},\"line_color\":{\"value\":\"orange\"},\"line_width\":{\"value\":3},\"plot\":{\"id\":\"ff23b008-999a-4c60-89f7-6e12fad46093\",\"subtype\":\"Figure\",\"type\":\"Plot\"},\"source\":null,\"start\":null,\"x_end\":{\"value\":-0.7829999999999999},\"x_start\":{\"value\":0.0},\"y_end\":{\"value\":-0.2160000000000002},\"y_start\":{\"value\":0.0}},\"id\":\"5f3e28a5-cc54-4b78-8e72-4c99ae3a73a4\",\"type\":\"Arrow\"},{\"attributes\":{},\"id\":\"1cb80eae-187c-4195-80c3-ebbf48c52289\",\"type\":\"UnionRenderers\"},{\"attributes\":{},\"id\":\"9192d26c-563f-4417-8493-bcb38542fb9c\",\"type\":\"Selection\"},{\"attributes\":{\"fill_alpha\":{\"value\":0.1},\"fill_color\":{\"value\":\"#1f77b4\"},\"line_alpha\":{\"value\":0.1},\"line_color\":{\"value\":\"#1f77b4\"},\"x\":{\"value\":-0.7829999999999999},\"y\":{\"value\":-0.2160000000000002}},\"id\":\"af8cf13e-a50b-45f6-aaf7-5b5ce3bafed3\",\"type\":\"Circle\"},{\"attributes\":{},\"id\":\"37ee9603-3c44-435c-8afb-f16f9e5bb471\",\"type\":\"UnionRenderers\"},{\"attributes\":{},\"id\":\"0fa0fd9e-d0e9-464b-85c2-ed141fbce9f1\",\"type\":\"Selection\"},{\"attributes\":{\"fill_color\":{\"value\":\"orange\"},\"line_color\":{\"value\":\"orange\"},\"x\":{\"value\":-0.7829999999999999},\"y\":{\"value\":-0.2160000000000002}},\"id\":\"124f162c-b12d-4154-bc12-f7fdca5deb9a\",\"type\":\"Circle\"},{\"attributes\":{},\"id\":\"7f8c2655-1be3-47e1-ac7d-7431e4232777\",\"type\":\"UnionRenderers\"},{\"attributes\":{},\"id\":\"b6eb7247-0aa7-4a45-a342-c377ce727345\",\"type\":\"Selection\"},{\"attributes\":{\"callback\":null,\"data\":{},\"selected\":{\"id\":\"0fa0fd9e-d0e9-464b-85c2-ed141fbce9f1\",\"type\":\"Selection\"},\"selection_policy\":{\"id\":\"37ee9603-3c44-435c-8afb-f16f9e5bb471\",\"type\":\"UnionRenderers\"}},\"id\":\"ccbf655b-02b0-4254-9b30-77f9331d3439\",\"type\":\"ColumnDataSource\"},{\"attributes\":{},\"id\":\"377d3c22-dc77-4407-8d2b-845cfaa2d5a8\",\"type\":\"ResetTool\"},{\"attributes\":{},\"id\":\"4e118020-c9e9-42e7-aa74-1efbe7259511\",\"type\":\"Selection\"},{\"attributes\":{\"data_source\":{\"id\":\"60db89a3-4dca-4c41-8f42-e723142aaa48\",\"type\":\"ColumnDataSource\"},\"glyph\":{\"id\":\"124f162c-b12d-4154-bc12-f7fdca5deb9a\",\"type\":\"Circle\"},\"hover_glyph\":null,\"muted_glyph\":null,\"nonselection_glyph\":{\"id\":\"af8cf13e-a50b-45f6-aaf7-5b5ce3bafed3\",\"type\":\"Circle\"},\"selection_glyph\":null,\"view\":{\"id\":\"ce7b5e86-5ce2-4761-9666-8209eb5fcfaf\",\"type\":\"CDSView\"}},\"id\":\"2fa00090-ebe8-493f-889d-14550e2d80cd\",\"type\":\"GlyphRenderer\"},{\"attributes\":{},\"id\":\"f7f9f4fb-6c63-4995-becb-7877a427093b\",\"type\":\"Selection\"},{\"attributes\":{},\"id\":\"7ad40ef3-30f0-4859-adbe-884b9d9f0baf\",\"type\":\"UnionRenderers\"},{\"attributes\":{\"callback\":null,\"end\":3.5,\"start\":-3.5},\"id\":\"78320dc7-6fae-48b7-be57-7c014211ad9f\",\"type\":\"Range1d\"},{\"attributes\":{\"fill_color\":{\"value\":\"orange\"},\"line_color\":{\"value\":\"orange\"},\"x\":{\"value\":-2.533},\"y\":{\"value\":-0.5560000000000005}},\"id\":\"68c732d6-2eb8-40c6-a127-b853b31b70f7\",\"type\":\"Circle\"},{\"attributes\":{},\"id\":\"157aa1ad-c2bf-45d5-b7c2-3c6f703bc49a\",\"type\":\"Selection\"},{\"attributes\":{\"callback\":null,\"data\":{},\"selected\":{\"id\":\"f7f9f4fb-6c63-4995-becb-7877a427093b\",\"type\":\"Selection\"},\"selection_policy\":{\"id\":\"cf130246-d630-4c11-8374-23ea333a62ea\",\"type\":\"UnionRenderers\"}},\"id\":\"60db89a3-4dca-4c41-8f42-e723142aaa48\",\"type\":\"ColumnDataSource\"},{\"attributes\":{},\"id\":\"6347b340-38f1-4233-bafe-b5a2bd0c1642\",\"type\":\"UnionRenderers\"},{\"attributes\":{\"source\":{\"id\":\"28e34956-d357-4f57-90de-4f251f753c87\",\"type\":\"ColumnDataSource\"}},\"id\":\"66282433-29ef-4239-b39d-75a19fa89cea\",\"type\":\"CDSView\"},{\"attributes\":{},\"id\":\"5bb8729c-dd62-4492-b1c1-4d7919ef6bbd\",\"type\":\"Selection\"},{\"attributes\":{\"below\":[{\"id\":\"7fe65f2e-4cd2-48af-930c-7a290123a0ff\",\"type\":\"LinearAxis\"}],\"left\":[{\"id\":\"0c06cb64-2531-4b18-a564-5b5666504a23\",\"type\":\"LinearAxis\"}],\"plot_height\":700,\"plot_width\":700,\"renderers\":[{\"id\":\"7fe65f2e-4cd2-48af-930c-7a290123a0ff\",\"type\":\"LinearAxis\"},{\"id\":\"410b3fbf-dfe8-4fc7-af14-31e4a356aa56\",\"type\":\"Grid\"},{\"id\":\"0c06cb64-2531-4b18-a564-5b5666504a23\",\"type\":\"LinearAxis\"},{\"id\":\"c7a043fb-3da3-4158-a89d-16ae42a8b653\",\"type\":\"Grid\"},{\"id\":\"995f76fa-cff2-4889-b2b0-15eb361987b7\",\"type\":\"GlyphRenderer\"},{\"id\":\"79cde5d8-57e3-438f-9fb7-260d561948cf\",\"type\":\"GlyphRenderer\"},{\"id\":\"1a031541-354e-40bb-b6fd-4658163feb9d\",\"type\":\"Arrow\"},{\"id\":\"b3cc3de2-1943-46d4-9ca3-a6f7f2b0c824\",\"type\":\"GlyphRenderer\"},{\"id\":\"f9261113-97c3-431d-8332-b57d6e1dd0f1\",\"type\":\"Arrow\"},{\"id\":\"baa3f52d-f58c-40fa-9fa1-edb0fd7a693b\",\"type\":\"GlyphRenderer\"},{\"id\":\"0899b481-500c-4143-b4e4-236c663a49ce\",\"type\":\"Arrow\"},{\"id\":\"a4450dfb-906f-4cd0-ab94-588e6361d0e2\",\"type\":\"GlyphRenderer\"},{\"id\":\"c7bb3ebd-8138-41db-a1d3-c7a4945feb9a\",\"type\":\"Arrow\"},{\"id\":\"e4ac2b08-105f-41b6-a007-29115bd2419f\",\"type\":\"GlyphRenderer\"},{\"id\":\"4eb1d74b-7bb9-4f76-a827-2c3675a308fe\",\"type\":\"Arrow\"},{\"id\":\"b6bb6e06-64bc-470e-ab01-5d3f8318d9bd\",\"type\":\"GlyphRenderer\"},{\"id\":\"5f3e28a5-cc54-4b78-8e72-4c99ae3a73a4\",\"type\":\"Arrow\"},{\"id\":\"2fa00090-ebe8-493f-889d-14550e2d80cd\",\"type\":\"GlyphRenderer\"},{\"id\":\"e111d524-4355-46d5-ae63-f385c1b7da3a\",\"type\":\"Arrow\"},{\"id\":\"9108c1f6-19da-4ff1-8d70-0b6917e48e29\",\"type\":\"GlyphRenderer\"},{\"id\":\"6c16f604-85a3-4ccb-aff8-b9e3873cf1e0\",\"type\":\"Arrow\"},{\"id\":\"b66d85db-0d00-40eb-8bcb-1c588521f384\",\"type\":\"GlyphRenderer\"},{\"id\":\"f2544c00-5c59-4427-b400-73cad6ba1807\",\"type\":\"Arrow\"},{\"id\":\"4aab0a09-e97b-429f-bd6f-885de1f7d2d4\",\"type\":\"GlyphRenderer\"},{\"id\":\"d45f2d25-cffa-4973-9560-687d8003bdf3\",\"type\":\"Arrow\"},{\"id\":\"a86d2693-e21b-4703-8683-e51b941167e4\",\"type\":\"GlyphRenderer\"}],\"title\":{\"id\":\"96c497ba-5f92-41de-9bb9-352f169492a0\",\"type\":\"Title\"},\"toolbar\":{\"id\":\"844ed529-3193-4ae2-9b74-bd3491b281bc\",\"type\":\"Toolbar\"},\"x_range\":{\"id\":\"6a93655c-c733-4f79-be61-0b022d437dfc\",\"type\":\"Range1d\"},\"x_scale\":{\"id\":\"5b74ec45-f8b3-4e1d-9ee1-bb20b13dba46\",\"type\":\"LinearScale\"},\"y_range\":{\"id\":\"78320dc7-6fae-48b7-be57-7c014211ad9f\",\"type\":\"Range1d\"},\"y_scale\":{\"id\":\"26166ba4-a208-44e6-8927-f04596bb6295\",\"type\":\"LinearScale\"}},\"id\":\"ff23b008-999a-4c60-89f7-6e12fad46093\",\"subtype\":\"Figure\",\"type\":\"Plot\"},{\"attributes\":{},\"id\":\"04fc2edb-ead4-40e5-97be-eb2f5bedf3a5\",\"type\":\"BasicTicker\"},{\"attributes\":{\"source\":{\"id\":\"60db89a3-4dca-4c41-8f42-e723142aaa48\",\"type\":\"ColumnDataSource\"}},\"id\":\"ce7b5e86-5ce2-4761-9666-8209eb5fcfaf\",\"type\":\"CDSView\"},{\"attributes\":{\"formatter\":{\"id\":\"b16b5723-edcd-4438-b44e-fc761dee15b7\",\"type\":\"BasicTickFormatter\"},\"plot\":{\"id\":\"ff23b008-999a-4c60-89f7-6e12fad46093\",\"subtype\":\"Figure\",\"type\":\"Plot\"},\"ticker\":{\"id\":\"461bd660-c18a-40ee-82d7-78c965c31479\",\"type\":\"BasicTicker\"}},\"id\":\"7fe65f2e-4cd2-48af-930c-7a290123a0ff\",\"type\":\"LinearAxis\"},{\"attributes\":{},\"id\":\"5b74ec45-f8b3-4e1d-9ee1-bb20b13dba46\",\"type\":\"LinearScale\"},{\"attributes\":{\"end\":{\"id\":\"930ea99f-5662-4d3c-8bcf-5e180f2c8d5b\",\"type\":\"NormalHead\"},\"line_alpha\":{\"value\":0.4},\"line_color\":{\"value\":\"orange\"},\"line_width\":{\"value\":3},\"plot\":{\"id\":\"ff23b008-999a-4c60-89f7-6e12fad46093\",\"subtype\":\"Figure\",\"type\":\"Plot\"},\"source\":null,\"start\":null,\"x_end\":{\"value\":1.3870000000000005},\"x_start\":{\"value\":0.0},\"y_end\":{\"value\":-0.7660000000000005},\"y_start\":{\"value\":0.0}},\"id\":\"e111d524-4355-46d5-ae63-f385c1b7da3a\",\"type\":\"Arrow\"},{\"attributes\":{\"source\":{\"id\":\"90186070-1006-4137-977a-07134400a865\",\"type\":\"ColumnDataSource\"}},\"id\":\"047d1e9b-b7bf-40f9-8c82-20e632c27d17\",\"type\":\"CDSView\"},{\"attributes\":{\"callback\":null,\"data\":{\"x\":[-5.0,5.0],\"y\":[0.0,0.0]},\"selected\":{\"id\":\"32cc84b8-0759-499f-a387-0cf8502ec755\",\"type\":\"Selection\"},\"selection_policy\":{\"id\":\"c5c3968e-f2a5-497d-a4eb-a6be1a7241be\",\"type\":\"UnionRenderers\"}},\"id\":\"90186070-1006-4137-977a-07134400a865\",\"type\":\"ColumnDataSource\"},{\"attributes\":{\"dimension\":1,\"plot\":{\"id\":\"ff23b008-999a-4c60-89f7-6e12fad46093\",\"subtype\":\"Figure\",\"type\":\"Plot\"},\"ticker\":{\"id\":\"04fc2edb-ead4-40e5-97be-eb2f5bedf3a5\",\"type\":\"BasicTicker\"}},\"id\":\"c7a043fb-3da3-4158-a89d-16ae42a8b653\",\"type\":\"Grid\"},{\"attributes\":{},\"id\":\"461bd660-c18a-40ee-82d7-78c965c31479\",\"type\":\"BasicTicker\"},{\"attributes\":{\"fill_alpha\":{\"value\":0.4},\"fill_color\":{\"value\":\"orange\"},\"line_alpha\":{\"value\":0.4},\"line_color\":{\"value\":\"orange\"},\"plot\":null,\"size\":10},\"id\":\"2d207e13-931c-4d3a-8add-df68a8b1b2d0\",\"type\":\"NormalHead\"},{\"attributes\":{\"end\":{\"id\":\"2d207e13-931c-4d3a-8add-df68a8b1b2d0\",\"type\":\"NormalHead\"},\"line_alpha\":{\"value\":0.4},\"line_color\":{\"value\":\"orange\"},\"line_width\":{\"value\":3},\"plot\":{\"id\":\"ff23b008-999a-4c60-89f7-6e12fad46093\",\"subtype\":\"Figure\",\"type\":\"Plot\"},\"source\":null,\"start\":null,\"x_end\":{\"value\":-1.1929999999999998},\"x_start\":{\"value\":0.0},\"y_end\":{\"value\":0.8739999999999997},\"y_start\":{\"value\":0.0}},\"id\":\"1a031541-354e-40bb-b6fd-4658163feb9d\",\"type\":\"Arrow\"},{\"attributes\":{},\"id\":\"a77c5fbb-0370-40b1-928f-f8eefbb6d5db\",\"type\":\"Selection\"},{\"attributes\":{\"formatter\":{\"id\":\"b0de3eb9-f8a8-4c0f-aa3b-120b52d6103f\",\"type\":\"BasicTickFormatter\"},\"plot\":{\"id\":\"ff23b008-999a-4c60-89f7-6e12fad46093\",\"subtype\":\"Figure\",\"type\":\"Plot\"},\"ticker\":{\"id\":\"04fc2edb-ead4-40e5-97be-eb2f5bedf3a5\",\"type\":\"BasicTicker\"}},\"id\":\"0c06cb64-2531-4b18-a564-5b5666504a23\",\"type\":\"LinearAxis\"},{\"attributes\":{},\"id\":\"45e0cac5-7715-44d8-a585-4c9e948fc0ba\",\"type\":\"PanTool\"},{\"attributes\":{\"data_source\":{\"id\":\"90186070-1006-4137-977a-07134400a865\",\"type\":\"ColumnDataSource\"},\"glyph\":{\"id\":\"2243ca11-e108-4c26-b414-b6273589781d\",\"type\":\"Line\"},\"hover_glyph\":null,\"muted_glyph\":null,\"nonselection_glyph\":{\"id\":\"63db92a7-0f7c-4180-bb9f-a40376330ef5\",\"type\":\"Line\"},\"selection_glyph\":null,\"view\":{\"id\":\"047d1e9b-b7bf-40f9-8c82-20e632c27d17\",\"type\":\"CDSView\"}},\"id\":\"995f76fa-cff2-4889-b2b0-15eb361987b7\",\"type\":\"GlyphRenderer\"},{\"attributes\":{\"fill_alpha\":{\"value\":0.4},\"fill_color\":{\"value\":\"orange\"},\"line_alpha\":{\"value\":0.4},\"line_color\":{\"value\":\"orange\"},\"plot\":null,\"size\":10},\"id\":\"930ea99f-5662-4d3c-8bcf-5e180f2c8d5b\",\"type\":\"NormalHead\"},{\"attributes\":{\"line_width\":1.5,\"x\":{\"field\":\"x\"},\"y\":{\"field\":\"y\"}},\"id\":\"2243ca11-e108-4c26-b414-b6273589781d\",\"type\":\"Line\"},{\"attributes\":{},\"id\":\"26166ba4-a208-44e6-8927-f04596bb6295\",\"type\":\"LinearScale\"}],\"root_ids\":[\"ff23b008-999a-4c60-89f7-6e12fad46093\"]},\"title\":\"Bokeh Application\",\"version\":\"0.13.0\"}};\n",
       "  var render_items = [{\"docid\":\"b9475968-a549-47ae-bf2b-fb1d0dfcb275\",\"roots\":{\"ff23b008-999a-4c60-89f7-6e12fad46093\":\"27bca395-feb3-4063-a112-0aea99405c14\"}}];\n",
       "  root.Bokeh.embed.embed_items_notebook(docs_json, render_items);\n",
       "\n",
       "  }\n",
       "  if (root.Bokeh !== undefined) {\n",
       "    embed_document(root);\n",
       "  } else {\n",
       "    var attempts = 0;\n",
       "    var timer = setInterval(function(root) {\n",
       "      if (root.Bokeh !== undefined) {\n",
       "        embed_document(root);\n",
       "        clearInterval(timer);\n",
       "      }\n",
       "      attempts++;\n",
       "      if (attempts > 100) {\n",
       "        console.log(\"Bokeh: ERROR: Unable to run BokehJS code because BokehJS library is missing\")\n",
       "        clearInterval(timer);\n",
       "      }\n",
       "    }, 10, root)\n",
       "  }\n",
       "})(window);"
      ],
      "application/vnd.bokehjs_exec.v0+json": ""
     },
     "metadata": {
      "application/vnd.bokehjs_exec.v0+json": {
       "id": "ff23b008-999a-4c60-89f7-6e12fad46093"
      }
     },
     "output_type": "display_data"
    }
   ],
   "source": [
    "plot.clear().graph()\n",
    "plot.vec_w_point(X_dev,color=\"orange\",alpha=.4)\n",
    "plot.show()"
   ]
  },
  {
   "cell_type": "markdown",
   "metadata": {},
   "source": [
    "We can see that that centering:\n",
    "\n",
    "1. Sets the mean (or central location) to 0.\n",
    "2. The lengths of each vector represent the distance from the mean (i.e. that centroid location). "
   ]
  },
  {
   "cell_type": "markdown",
   "metadata": {},
   "source": [
    "### Average squared deviations from the mean\n",
    "\n",
    "<br>\n",
    "<br>\n",
    "\n",
    "$$ \\frac{1}{N-1} (\\textbf{X} - \\bar{\\textbf{x}})^T(\\textbf{X} - \\bar{\\textbf{x}}) $$\n",
    "\n",
    "<br>\n",
    "<br>\n",
    "\n",
    "$$ \\frac{1}{N-1} \\textbf{X}_{centered}^T\\textbf{X}_{centered}$$\n",
    "\n",
    "<br>\n",
    "<br>\n",
    "\n",
    "\n",
    "$$\\Sigma$$\n",
    "\n",
    "<br>\n",
    "<br>"
   ]
  },
  {
   "cell_type": "code",
   "execution_count": 8,
   "metadata": {},
   "outputs": [
    {
     "data": {
      "text/plain": [
       "array([[1.97497889, 0.20745778],\n",
       "       [0.20745778, 1.37071556]])"
      ]
     },
     "execution_count": 8,
     "metadata": {},
     "output_type": "execute_result"
    }
   ],
   "source": [
    "squared_dev = X_dev.T.dot(X_dev)\n",
    "sigma = squared_dev*(1/(N-1))\n",
    "sigma"
   ]
  },
  {
   "cell_type": "code",
   "execution_count": 9,
   "metadata": {},
   "outputs": [
    {
     "data": {
      "text/html": [
       "\n",
       "\n",
       "\n",
       "\n",
       "\n",
       "\n",
       "  <div class=\"bk-root\" id=\"cf85c49c-ef65-4651-95c8-0c51571b3492\"></div>\n"
      ]
     },
     "metadata": {},
     "output_type": "display_data"
    },
    {
     "data": {
      "application/javascript": [
       "(function(root) {\n",
       "  function embed_document(root) {\n",
       "    \n",
       "  var docs_json = {\"89ce8b22-d46b-4ac5-9e7b-8ff0b075ec26\":{\"roots\":{\"references\":[{\"attributes\":{},\"id\":\"a08416ed-475c-49af-926c-d1b6fc7f0973\",\"type\":\"LinearScale\"},{\"attributes\":{\"data_source\":{\"id\":\"0c512403-ba7d-4d86-ad35-971871fee48d\",\"type\":\"ColumnDataSource\"},\"glyph\":{\"id\":\"338e6e16-e320-482f-a2e2-a1af98684d2c\",\"type\":\"Line\"},\"hover_glyph\":null,\"muted_glyph\":null,\"nonselection_glyph\":{\"id\":\"84b27562-dbda-4749-b090-db68520b1b82\",\"type\":\"Line\"},\"selection_glyph\":null,\"view\":{\"id\":\"a8c7b996-0ae2-4c0f-b435-aa5b37d3fd37\",\"type\":\"CDSView\"}},\"id\":\"83c3533d-78b8-4e9a-9df8-4d9702d498a7\",\"type\":\"GlyphRenderer\"},{\"attributes\":{\"source\":{\"id\":\"0c512403-ba7d-4d86-ad35-971871fee48d\",\"type\":\"ColumnDataSource\"}},\"id\":\"a8c7b996-0ae2-4c0f-b435-aa5b37d3fd37\",\"type\":\"CDSView\"},{\"attributes\":{},\"id\":\"db9cf7f2-8d5e-4f95-bc01-6c644a000e53\",\"type\":\"ResetTool\"},{\"attributes\":{\"callback\":null,\"data\":{\"x\":[-5.0,5.0],\"y\":[0.0,0.0]},\"selected\":{\"id\":\"bd71a1bb-2b8b-4da6-90e0-90e561c96383\",\"type\":\"Selection\"},\"selection_policy\":{\"id\":\"68e8f8f5-8ee8-49f3-af4d-e1f93e8fc7db\",\"type\":\"UnionRenderers\"}},\"id\":\"0c512403-ba7d-4d86-ad35-971871fee48d\",\"type\":\"ColumnDataSource\"},{\"attributes\":{\"callback\":null,\"data\":{\"x\":[0.0,0.0],\"y\":[-5.0,5.0]},\"selected\":{\"id\":\"eeb4c3d9-aade-4805-b5fb-133568da074f\",\"type\":\"Selection\"},\"selection_policy\":{\"id\":\"1d62f5f7-b9c4-4166-a2b1-1e7448a92e08\",\"type\":\"UnionRenderers\"}},\"id\":\"12adf85b-c44a-4d17-9567-da1657b0f1d6\",\"type\":\"ColumnDataSource\"},{\"attributes\":{\"callback\":null,\"end\":3.5,\"start\":-3.5},\"id\":\"a6651ecf-0897-4f27-a680-9c5ff0fefa77\",\"type\":\"Range1d\"},{\"attributes\":{\"below\":[{\"id\":\"3c419f4c-af4a-4fb5-a909-fb6cda2b1e67\",\"type\":\"LinearAxis\"}],\"left\":[{\"id\":\"eb2325d1-56b4-4b38-bacf-9ea957ae411a\",\"type\":\"LinearAxis\"}],\"plot_height\":700,\"plot_width\":700,\"renderers\":[{\"id\":\"3c419f4c-af4a-4fb5-a909-fb6cda2b1e67\",\"type\":\"LinearAxis\"},{\"id\":\"32e1951d-5221-4ab5-be70-0828e925e096\",\"type\":\"Grid\"},{\"id\":\"eb2325d1-56b4-4b38-bacf-9ea957ae411a\",\"type\":\"LinearAxis\"},{\"id\":\"fc3c7eab-95e6-4ea7-9e55-54b3e9441277\",\"type\":\"Grid\"},{\"id\":\"83c3533d-78b8-4e9a-9df8-4d9702d498a7\",\"type\":\"GlyphRenderer\"},{\"id\":\"79b5b1e4-8ce0-4c94-ad60-f4f24963420a\",\"type\":\"GlyphRenderer\"},{\"id\":\"66b4f8ec-37fd-4c18-9c52-153f3cd38ac4\",\"type\":\"Arrow\"},{\"id\":\"4e61e62d-d83e-40a6-be69-051252aac721\",\"type\":\"GlyphRenderer\"},{\"id\":\"0f654df5-f720-412c-999c-cd02b0c5a0ca\",\"type\":\"Arrow\"},{\"id\":\"ca0d5a38-8607-4d7b-a8de-62565fdac60b\",\"type\":\"GlyphRenderer\"}],\"title\":{\"id\":\"30bbca07-00b9-4686-995e-5eb5eb543364\",\"type\":\"Title\"},\"toolbar\":{\"id\":\"6fe473c0-7b95-4968-b389-5073602d758c\",\"type\":\"Toolbar\"},\"x_range\":{\"id\":\"a6651ecf-0897-4f27-a680-9c5ff0fefa77\",\"type\":\"Range1d\"},\"x_scale\":{\"id\":\"5d52fa58-2a3f-4959-9e53-1d0685db8347\",\"type\":\"LinearScale\"},\"y_range\":{\"id\":\"0e7d2467-4190-42eb-99d9-1117684767bd\",\"type\":\"Range1d\"},\"y_scale\":{\"id\":\"a08416ed-475c-49af-926c-d1b6fc7f0973\",\"type\":\"LinearScale\"}},\"id\":\"8cf4b083-b416-42b2-980d-60c55f5ca381\",\"subtype\":\"Figure\",\"type\":\"Plot\"},{\"attributes\":{},\"id\":\"68e8f8f5-8ee8-49f3-af4d-e1f93e8fc7db\",\"type\":\"UnionRenderers\"},{\"attributes\":{\"line_width\":1.5,\"x\":{\"field\":\"x\"},\"y\":{\"field\":\"y\"}},\"id\":\"c54ae311-5550-4f4b-91dd-2f46fb1910e8\",\"type\":\"Line\"},{\"attributes\":{},\"id\":\"83e0f8a9-f14a-496d-a1c8-22807f2fd2f3\",\"type\":\"PanTool\"},{\"attributes\":{\"line_alpha\":0.1,\"line_color\":\"#1f77b4\",\"line_width\":1.5,\"x\":{\"field\":\"x\"},\"y\":{\"field\":\"y\"}},\"id\":\"e4342f8f-32af-4847-9550-38d02e58479a\",\"type\":\"Line\"},{\"attributes\":{\"data_source\":{\"id\":\"12adf85b-c44a-4d17-9567-da1657b0f1d6\",\"type\":\"ColumnDataSource\"},\"glyph\":{\"id\":\"c54ae311-5550-4f4b-91dd-2f46fb1910e8\",\"type\":\"Line\"},\"hover_glyph\":null,\"muted_glyph\":null,\"nonselection_glyph\":{\"id\":\"e4342f8f-32af-4847-9550-38d02e58479a\",\"type\":\"Line\"},\"selection_glyph\":null,\"view\":{\"id\":\"8273bae7-eeca-4f3f-8b38-650649cc73f6\",\"type\":\"CDSView\"}},\"id\":\"79b5b1e4-8ce0-4c94-ad60-f4f24963420a\",\"type\":\"GlyphRenderer\"},{\"attributes\":{\"source\":{\"id\":\"12adf85b-c44a-4d17-9567-da1657b0f1d6\",\"type\":\"ColumnDataSource\"}},\"id\":\"8273bae7-eeca-4f3f-8b38-650649cc73f6\",\"type\":\"CDSView\"},{\"attributes\":{\"plot\":null,\"text\":\"\"},\"id\":\"30bbca07-00b9-4686-995e-5eb5eb543364\",\"type\":\"Title\"},{\"attributes\":{\"line_width\":1.5,\"x\":{\"field\":\"x\"},\"y\":{\"field\":\"y\"}},\"id\":\"338e6e16-e320-482f-a2e2-a1af98684d2c\",\"type\":\"Line\"},{\"attributes\":{\"callback\":null,\"data\":{},\"selected\":{\"id\":\"f9d4c7ca-582f-47d6-acb3-94447e131538\",\"type\":\"Selection\"},\"selection_policy\":{\"id\":\"d7f8b41d-4902-44bb-94cb-8ce434e4890b\",\"type\":\"UnionRenderers\"}},\"id\":\"8781367b-b2e3-44c2-8522-46f738efb805\",\"type\":\"ColumnDataSource\"},{\"attributes\":{\"fill_alpha\":{\"value\":0.1},\"fill_color\":{\"value\":\"#1f77b4\"},\"line_alpha\":{\"value\":0.1},\"line_color\":{\"value\":\"#1f77b4\"},\"x\":{\"value\":1.9749788888888886},\"y\":{\"value\":0.20745777777777785}},\"id\":\"34ddd52c-aa69-458b-8eb6-db1ea3cb70c2\",\"type\":\"Circle\"},{\"attributes\":{\"fill_color\":{\"value\":\"red\"},\"line_color\":{\"value\":\"red\"},\"x\":{\"value\":1.9749788888888886},\"y\":{\"value\":0.20745777777777785}},\"id\":\"30bfb437-db67-4bcd-8b0b-92041dac4fab\",\"type\":\"Circle\"},{\"attributes\":{\"active_drag\":\"auto\",\"active_inspect\":\"auto\",\"active_multi\":null,\"active_scroll\":\"auto\",\"active_tap\":\"auto\",\"tools\":[{\"id\":\"f68af5ba-70f2-4e9b-87fd-0dd36793d1cc\",\"type\":\"WheelZoomTool\"},{\"id\":\"83e0f8a9-f14a-496d-a1c8-22807f2fd2f3\",\"type\":\"PanTool\"},{\"id\":\"db9cf7f2-8d5e-4f95-bc01-6c644a000e53\",\"type\":\"ResetTool\"}]},\"id\":\"6fe473c0-7b95-4968-b389-5073602d758c\",\"type\":\"Toolbar\"},{\"attributes\":{\"data_source\":{\"id\":\"8781367b-b2e3-44c2-8522-46f738efb805\",\"type\":\"ColumnDataSource\"},\"glyph\":{\"id\":\"30bfb437-db67-4bcd-8b0b-92041dac4fab\",\"type\":\"Circle\"},\"hover_glyph\":null,\"muted_glyph\":null,\"nonselection_glyph\":{\"id\":\"34ddd52c-aa69-458b-8eb6-db1ea3cb70c2\",\"type\":\"Circle\"},\"selection_glyph\":null,\"view\":{\"id\":\"60131ee3-a637-4d63-a4ce-ae41914bb24d\",\"type\":\"CDSView\"}},\"id\":\"4e61e62d-d83e-40a6-be69-051252aac721\",\"type\":\"GlyphRenderer\"},{\"attributes\":{\"source\":{\"id\":\"8781367b-b2e3-44c2-8522-46f738efb805\",\"type\":\"ColumnDataSource\"}},\"id\":\"60131ee3-a637-4d63-a4ce-ae41914bb24d\",\"type\":\"CDSView\"},{\"attributes\":{\"line_alpha\":0.1,\"line_color\":\"#1f77b4\",\"line_width\":1.5,\"x\":{\"field\":\"x\"},\"y\":{\"field\":\"y\"}},\"id\":\"84b27562-dbda-4749-b090-db68520b1b82\",\"type\":\"Line\"},{\"attributes\":{\"fill_alpha\":{\"value\":0.3},\"fill_color\":{\"value\":\"red\"},\"line_alpha\":{\"value\":0.3},\"line_color\":{\"value\":\"red\"},\"plot\":null,\"size\":10},\"id\":\"b4af1638-55d4-412b-aa88-6684083eec2b\",\"type\":\"NormalHead\"},{\"attributes\":{},\"id\":\"6cf09624-b579-4840-896d-8b10bde340f0\",\"type\":\"BasicTicker\"},{\"attributes\":{\"end\":{\"id\":\"b4af1638-55d4-412b-aa88-6684083eec2b\",\"type\":\"NormalHead\"},\"line_alpha\":{\"value\":0.3},\"line_color\":{\"value\":\"red\"},\"line_width\":{\"value\":3},\"plot\":{\"id\":\"8cf4b083-b416-42b2-980d-60c55f5ca381\",\"subtype\":\"Figure\",\"type\":\"Plot\"},\"source\":null,\"start\":null,\"x_end\":{\"value\":0.20745777777777785},\"x_start\":{\"value\":0.0},\"y_end\":{\"value\":1.370715555555556},\"y_start\":{\"value\":0.0}},\"id\":\"0f654df5-f720-412c-999c-cd02b0c5a0ca\",\"type\":\"Arrow\"},{\"attributes\":{\"dimension\":1,\"plot\":{\"id\":\"8cf4b083-b416-42b2-980d-60c55f5ca381\",\"subtype\":\"Figure\",\"type\":\"Plot\"},\"ticker\":{\"id\":\"6fcf3d0e-ce0a-4656-bd2d-3bbdab58b37f\",\"type\":\"BasicTicker\"}},\"id\":\"fc3c7eab-95e6-4ea7-9e55-54b3e9441277\",\"type\":\"Grid\"},{\"attributes\":{\"callback\":null,\"data\":{},\"selected\":{\"id\":\"e34de9b0-7009-42f7-aedc-869d5389d489\",\"type\":\"Selection\"},\"selection_policy\":{\"id\":\"2da4c8ef-0619-44fd-b5c0-8ab5d876d540\",\"type\":\"UnionRenderers\"}},\"id\":\"da8632b2-4656-4e99-918e-75856abfdb5b\",\"type\":\"ColumnDataSource\"},{\"attributes\":{\"formatter\":{\"id\":\"4c898976-7755-463b-94ba-58a19935fcb5\",\"type\":\"BasicTickFormatter\"},\"plot\":{\"id\":\"8cf4b083-b416-42b2-980d-60c55f5ca381\",\"subtype\":\"Figure\",\"type\":\"Plot\"},\"ticker\":{\"id\":\"6fcf3d0e-ce0a-4656-bd2d-3bbdab58b37f\",\"type\":\"BasicTicker\"}},\"id\":\"eb2325d1-56b4-4b38-bacf-9ea957ae411a\",\"type\":\"LinearAxis\"},{\"attributes\":{\"fill_alpha\":{\"value\":0.1},\"fill_color\":{\"value\":\"#1f77b4\"},\"line_alpha\":{\"value\":0.1},\"line_color\":{\"value\":\"#1f77b4\"},\"x\":{\"value\":0.20745777777777785},\"y\":{\"value\":1.370715555555556}},\"id\":\"00bd1b5c-307d-4fd9-aa9f-1ddc84c33d2b\",\"type\":\"Circle\"},{\"attributes\":{\"fill_color\":{\"value\":\"red\"},\"line_color\":{\"value\":\"red\"},\"x\":{\"value\":0.20745777777777785},\"y\":{\"value\":1.370715555555556}},\"id\":\"99181b10-3661-43bd-8410-2d7c2d19fc61\",\"type\":\"Circle\"},{\"attributes\":{},\"id\":\"5d52fa58-2a3f-4959-9e53-1d0685db8347\",\"type\":\"LinearScale\"},{\"attributes\":{\"data_source\":{\"id\":\"da8632b2-4656-4e99-918e-75856abfdb5b\",\"type\":\"ColumnDataSource\"},\"glyph\":{\"id\":\"99181b10-3661-43bd-8410-2d7c2d19fc61\",\"type\":\"Circle\"},\"hover_glyph\":null,\"muted_glyph\":null,\"nonselection_glyph\":{\"id\":\"00bd1b5c-307d-4fd9-aa9f-1ddc84c33d2b\",\"type\":\"Circle\"},\"selection_glyph\":null,\"view\":{\"id\":\"826e55d4-b2ee-4b22-96d2-e10f3980381a\",\"type\":\"CDSView\"}},\"id\":\"ca0d5a38-8607-4d7b-a8de-62565fdac60b\",\"type\":\"GlyphRenderer\"},{\"attributes\":{\"source\":{\"id\":\"da8632b2-4656-4e99-918e-75856abfdb5b\",\"type\":\"ColumnDataSource\"}},\"id\":\"826e55d4-b2ee-4b22-96d2-e10f3980381a\",\"type\":\"CDSView\"},{\"attributes\":{},\"id\":\"6fcf3d0e-ce0a-4656-bd2d-3bbdab58b37f\",\"type\":\"BasicTicker\"},{\"attributes\":{},\"id\":\"c225730c-8ec8-454a-89b2-5f327249e667\",\"type\":\"BasicTickFormatter\"},{\"attributes\":{\"fill_alpha\":{\"value\":0.3},\"fill_color\":{\"value\":\"red\"},\"line_alpha\":{\"value\":0.3},\"line_color\":{\"value\":\"red\"},\"plot\":null,\"size\":10},\"id\":\"b4c222ab-7f9a-4ef5-8157-9ae7feca4fde\",\"type\":\"NormalHead\"},{\"attributes\":{\"plot\":{\"id\":\"8cf4b083-b416-42b2-980d-60c55f5ca381\",\"subtype\":\"Figure\",\"type\":\"Plot\"},\"ticker\":{\"id\":\"6cf09624-b579-4840-896d-8b10bde340f0\",\"type\":\"BasicTicker\"}},\"id\":\"32e1951d-5221-4ab5-be70-0828e925e096\",\"type\":\"Grid\"},{\"attributes\":{},\"id\":\"4c898976-7755-463b-94ba-58a19935fcb5\",\"type\":\"BasicTickFormatter\"},{\"attributes\":{\"formatter\":{\"id\":\"c225730c-8ec8-454a-89b2-5f327249e667\",\"type\":\"BasicTickFormatter\"},\"plot\":{\"id\":\"8cf4b083-b416-42b2-980d-60c55f5ca381\",\"subtype\":\"Figure\",\"type\":\"Plot\"},\"ticker\":{\"id\":\"6cf09624-b579-4840-896d-8b10bde340f0\",\"type\":\"BasicTicker\"}},\"id\":\"3c419f4c-af4a-4fb5-a909-fb6cda2b1e67\",\"type\":\"LinearAxis\"},{\"attributes\":{},\"id\":\"bd71a1bb-2b8b-4da6-90e0-90e561c96383\",\"type\":\"Selection\"},{\"attributes\":{},\"id\":\"1d62f5f7-b9c4-4166-a2b1-1e7448a92e08\",\"type\":\"UnionRenderers\"},{\"attributes\":{},\"id\":\"eeb4c3d9-aade-4805-b5fb-133568da074f\",\"type\":\"Selection\"},{\"attributes\":{\"callback\":null,\"end\":3.5,\"start\":-3.5},\"id\":\"0e7d2467-4190-42eb-99d9-1117684767bd\",\"type\":\"Range1d\"},{\"attributes\":{},\"id\":\"d7f8b41d-4902-44bb-94cb-8ce434e4890b\",\"type\":\"UnionRenderers\"},{\"attributes\":{\"end\":{\"id\":\"b4c222ab-7f9a-4ef5-8157-9ae7feca4fde\",\"type\":\"NormalHead\"},\"line_alpha\":{\"value\":0.3},\"line_color\":{\"value\":\"red\"},\"line_width\":{\"value\":3},\"plot\":{\"id\":\"8cf4b083-b416-42b2-980d-60c55f5ca381\",\"subtype\":\"Figure\",\"type\":\"Plot\"},\"source\":null,\"start\":null,\"x_end\":{\"value\":1.9749788888888886},\"x_start\":{\"value\":0.0},\"y_end\":{\"value\":0.20745777777777785},\"y_start\":{\"value\":0.0}},\"id\":\"66b4f8ec-37fd-4c18-9c52-153f3cd38ac4\",\"type\":\"Arrow\"},{\"attributes\":{},\"id\":\"f9d4c7ca-582f-47d6-acb3-94447e131538\",\"type\":\"Selection\"},{\"attributes\":{},\"id\":\"2da4c8ef-0619-44fd-b5c0-8ab5d876d540\",\"type\":\"UnionRenderers\"},{\"attributes\":{},\"id\":\"e34de9b0-7009-42f7-aedc-869d5389d489\",\"type\":\"Selection\"},{\"attributes\":{},\"id\":\"f68af5ba-70f2-4e9b-87fd-0dd36793d1cc\",\"type\":\"WheelZoomTool\"}],\"root_ids\":[\"8cf4b083-b416-42b2-980d-60c55f5ca381\"]},\"title\":\"Bokeh Application\",\"version\":\"0.13.0\"}};\n",
       "  var render_items = [{\"docid\":\"89ce8b22-d46b-4ac5-9e7b-8ff0b075ec26\",\"roots\":{\"8cf4b083-b416-42b2-980d-60c55f5ca381\":\"cf85c49c-ef65-4651-95c8-0c51571b3492\"}}];\n",
       "  root.Bokeh.embed.embed_items_notebook(docs_json, render_items);\n",
       "\n",
       "  }\n",
       "  if (root.Bokeh !== undefined) {\n",
       "    embed_document(root);\n",
       "  } else {\n",
       "    var attempts = 0;\n",
       "    var timer = setInterval(function(root) {\n",
       "      if (root.Bokeh !== undefined) {\n",
       "        embed_document(root);\n",
       "        clearInterval(timer);\n",
       "      }\n",
       "      attempts++;\n",
       "      if (attempts > 100) {\n",
       "        console.log(\"Bokeh: ERROR: Unable to run BokehJS code because BokehJS library is missing\")\n",
       "        clearInterval(timer);\n",
       "      }\n",
       "    }, 10, root)\n",
       "  }\n",
       "})(window);"
      ],
      "application/vnd.bokehjs_exec.v0+json": ""
     },
     "metadata": {
      "application/vnd.bokehjs_exec.v0+json": {
       "id": "8cf4b083-b416-42b2-980d-60c55f5ca381"
      }
     },
     "output_type": "display_data"
    }
   ],
   "source": [
    "plot.clear().graph()\n",
    "plot.vec_w_point(sigma,color=\"red\",alpha=.3)\n",
    "plot.show()"
   ]
  },
  {
   "cell_type": "markdown",
   "metadata": {},
   "source": [
    "The distance in which we move in along the two axes, is the variance of our two variables. This information is captured along the **diagonal axis**."
   ]
  },
  {
   "cell_type": "code",
   "execution_count": 10,
   "metadata": {},
   "outputs": [
    {
     "data": {
      "text/plain": [
       "array([1.97497889, 1.37071556])"
      ]
     },
     "execution_count": 10,
     "metadata": {},
     "output_type": "execute_result"
    }
   ],
   "source": [
    "sigma.diagonal()"
   ]
  },
  {
   "cell_type": "code",
   "execution_count": 11,
   "metadata": {},
   "outputs": [
    {
     "data": {
      "text/html": [
       "\n",
       "\n",
       "\n",
       "\n",
       "\n",
       "\n",
       "  <div class=\"bk-root\" id=\"4cabb47d-e3bf-4f57-bdf8-d9b5066aefa6\"></div>\n"
      ]
     },
     "metadata": {},
     "output_type": "display_data"
    },
    {
     "data": {
      "application/javascript": [
       "(function(root) {\n",
       "  function embed_document(root) {\n",
       "    \n",
       "  var docs_json = {\"26fc5ebc-bc80-46f0-b830-e4dd96f3ed09\":{\"roots\":{\"references\":[{\"attributes\":{\"data_source\":{\"id\":\"0c512403-ba7d-4d86-ad35-971871fee48d\",\"type\":\"ColumnDataSource\"},\"glyph\":{\"id\":\"338e6e16-e320-482f-a2e2-a1af98684d2c\",\"type\":\"Line\"},\"hover_glyph\":null,\"muted_glyph\":null,\"nonselection_glyph\":{\"id\":\"84b27562-dbda-4749-b090-db68520b1b82\",\"type\":\"Line\"},\"selection_glyph\":null,\"view\":{\"id\":\"a8c7b996-0ae2-4c0f-b435-aa5b37d3fd37\",\"type\":\"CDSView\"}},\"id\":\"83c3533d-78b8-4e9a-9df8-4d9702d498a7\",\"type\":\"GlyphRenderer\"},{\"attributes\":{\"source\":{\"id\":\"0c512403-ba7d-4d86-ad35-971871fee48d\",\"type\":\"ColumnDataSource\"}},\"id\":\"a8c7b996-0ae2-4c0f-b435-aa5b37d3fd37\",\"type\":\"CDSView\"},{\"attributes\":{},\"id\":\"db9cf7f2-8d5e-4f95-bc01-6c644a000e53\",\"type\":\"ResetTool\"},{\"attributes\":{\"callback\":null,\"data\":{\"x\":[0.0,0.0],\"y\":[-5.0,5.0]},\"selected\":{\"id\":\"eeb4c3d9-aade-4805-b5fb-133568da074f\",\"type\":\"Selection\"},\"selection_policy\":{\"id\":\"1d62f5f7-b9c4-4166-a2b1-1e7448a92e08\",\"type\":\"UnionRenderers\"}},\"id\":\"12adf85b-c44a-4d17-9567-da1657b0f1d6\",\"type\":\"ColumnDataSource\"},{\"attributes\":{\"below\":[{\"id\":\"3c419f4c-af4a-4fb5-a909-fb6cda2b1e67\",\"type\":\"LinearAxis\"}],\"left\":[{\"id\":\"eb2325d1-56b4-4b38-bacf-9ea957ae411a\",\"type\":\"LinearAxis\"}],\"plot_height\":700,\"plot_width\":700,\"renderers\":[{\"id\":\"3c419f4c-af4a-4fb5-a909-fb6cda2b1e67\",\"type\":\"LinearAxis\"},{\"id\":\"32e1951d-5221-4ab5-be70-0828e925e096\",\"type\":\"Grid\"},{\"id\":\"eb2325d1-56b4-4b38-bacf-9ea957ae411a\",\"type\":\"LinearAxis\"},{\"id\":\"fc3c7eab-95e6-4ea7-9e55-54b3e9441277\",\"type\":\"Grid\"},{\"id\":\"83c3533d-78b8-4e9a-9df8-4d9702d498a7\",\"type\":\"GlyphRenderer\"},{\"id\":\"79b5b1e4-8ce0-4c94-ad60-f4f24963420a\",\"type\":\"GlyphRenderer\"},{\"id\":\"66b4f8ec-37fd-4c18-9c52-153f3cd38ac4\",\"type\":\"Arrow\"},{\"id\":\"4e61e62d-d83e-40a6-be69-051252aac721\",\"type\":\"GlyphRenderer\"},{\"id\":\"0f654df5-f720-412c-999c-cd02b0c5a0ca\",\"type\":\"Arrow\"},{\"id\":\"ca0d5a38-8607-4d7b-a8de-62565fdac60b\",\"type\":\"GlyphRenderer\"},{\"id\":\"29916e5a-f3c5-4d32-aec8-05ebfc932a5e\",\"type\":\"Arrow\"},{\"id\":\"9d2d024c-e7ba-4cd1-b603-c3ab06ed5b35\",\"type\":\"GlyphRenderer\"},{\"id\":\"747be47e-62bb-4ff5-b9d7-a8b2fc7fbd30\",\"type\":\"Arrow\"},{\"id\":\"2ead7841-a087-4d60-811f-d80717f1f824\",\"type\":\"GlyphRenderer\"}],\"title\":{\"id\":\"30bbca07-00b9-4686-995e-5eb5eb543364\",\"type\":\"Title\"},\"toolbar\":{\"id\":\"6fe473c0-7b95-4968-b389-5073602d758c\",\"type\":\"Toolbar\"},\"x_range\":{\"id\":\"a6651ecf-0897-4f27-a680-9c5ff0fefa77\",\"type\":\"Range1d\"},\"x_scale\":{\"id\":\"5d52fa58-2a3f-4959-9e53-1d0685db8347\",\"type\":\"LinearScale\"},\"y_range\":{\"id\":\"0e7d2467-4190-42eb-99d9-1117684767bd\",\"type\":\"Range1d\"},\"y_scale\":{\"id\":\"a08416ed-475c-49af-926c-d1b6fc7f0973\",\"type\":\"LinearScale\"}},\"id\":\"8cf4b083-b416-42b2-980d-60c55f5ca381\",\"subtype\":\"Figure\",\"type\":\"Plot\"},{\"attributes\":{},\"id\":\"68e8f8f5-8ee8-49f3-af4d-e1f93e8fc7db\",\"type\":\"UnionRenderers\"},{\"attributes\":{\"line_width\":1.5,\"x\":{\"field\":\"x\"},\"y\":{\"field\":\"y\"}},\"id\":\"c54ae311-5550-4f4b-91dd-2f46fb1910e8\",\"type\":\"Line\"},{\"attributes\":{},\"id\":\"83e0f8a9-f14a-496d-a1c8-22807f2fd2f3\",\"type\":\"PanTool\"},{\"attributes\":{\"line_alpha\":0.1,\"line_color\":\"#1f77b4\",\"line_width\":1.5,\"x\":{\"field\":\"x\"},\"y\":{\"field\":\"y\"}},\"id\":\"e4342f8f-32af-4847-9550-38d02e58479a\",\"type\":\"Line\"},{\"attributes\":{\"data_source\":{\"id\":\"12adf85b-c44a-4d17-9567-da1657b0f1d6\",\"type\":\"ColumnDataSource\"},\"glyph\":{\"id\":\"c54ae311-5550-4f4b-91dd-2f46fb1910e8\",\"type\":\"Line\"},\"hover_glyph\":null,\"muted_glyph\":null,\"nonselection_glyph\":{\"id\":\"e4342f8f-32af-4847-9550-38d02e58479a\",\"type\":\"Line\"},\"selection_glyph\":null,\"view\":{\"id\":\"8273bae7-eeca-4f3f-8b38-650649cc73f6\",\"type\":\"CDSView\"}},\"id\":\"79b5b1e4-8ce0-4c94-ad60-f4f24963420a\",\"type\":\"GlyphRenderer\"},{\"attributes\":{\"source\":{\"id\":\"12adf85b-c44a-4d17-9567-da1657b0f1d6\",\"type\":\"ColumnDataSource\"}},\"id\":\"8273bae7-eeca-4f3f-8b38-650649cc73f6\",\"type\":\"CDSView\"},{\"attributes\":{\"plot\":null,\"text\":\"\"},\"id\":\"30bbca07-00b9-4686-995e-5eb5eb543364\",\"type\":\"Title\"},{\"attributes\":{\"plot\":null,\"size\":10},\"id\":\"c19a9827-3ef7-47c2-a755-089903d5e55b\",\"type\":\"NormalHead\"},{\"attributes\":{},\"id\":\"3a0eda44-0a3a-4b06-b229-f4084604a792\",\"type\":\"UnionRenderers\"},{\"attributes\":{},\"id\":\"50de3920-cb5f-4ec7-afd7-89682baeb56f\",\"type\":\"UnionRenderers\"},{\"attributes\":{\"callback\":null,\"data\":{},\"selected\":{\"id\":\"f9d4c7ca-582f-47d6-acb3-94447e131538\",\"type\":\"Selection\"},\"selection_policy\":{\"id\":\"d7f8b41d-4902-44bb-94cb-8ce434e4890b\",\"type\":\"UnionRenderers\"}},\"id\":\"8781367b-b2e3-44c2-8522-46f738efb805\",\"type\":\"ColumnDataSource\"},{\"attributes\":{\"fill_alpha\":{\"value\":0.1},\"fill_color\":{\"value\":\"#1f77b4\"},\"line_alpha\":{\"value\":0.1},\"line_color\":{\"value\":\"#1f77b4\"},\"x\":{\"value\":1.9749788888888886},\"y\":{\"value\":0.20745777777777785}},\"id\":\"34ddd52c-aa69-458b-8eb6-db1ea3cb70c2\",\"type\":\"Circle\"},{\"attributes\":{\"fill_color\":{\"value\":\"red\"},\"line_color\":{\"value\":\"red\"},\"x\":{\"value\":1.9749788888888886},\"y\":{\"value\":0.20745777777777785}},\"id\":\"30bfb437-db67-4bcd-8b0b-92041dac4fab\",\"type\":\"Circle\"},{\"attributes\":{\"data_source\":{\"id\":\"8781367b-b2e3-44c2-8522-46f738efb805\",\"type\":\"ColumnDataSource\"},\"glyph\":{\"id\":\"30bfb437-db67-4bcd-8b0b-92041dac4fab\",\"type\":\"Circle\"},\"hover_glyph\":null,\"muted_glyph\":null,\"nonselection_glyph\":{\"id\":\"34ddd52c-aa69-458b-8eb6-db1ea3cb70c2\",\"type\":\"Circle\"},\"selection_glyph\":null,\"view\":{\"id\":\"60131ee3-a637-4d63-a4ce-ae41914bb24d\",\"type\":\"CDSView\"}},\"id\":\"4e61e62d-d83e-40a6-be69-051252aac721\",\"type\":\"GlyphRenderer\"},{\"attributes\":{\"source\":{\"id\":\"8781367b-b2e3-44c2-8522-46f738efb805\",\"type\":\"ColumnDataSource\"}},\"id\":\"60131ee3-a637-4d63-a4ce-ae41914bb24d\",\"type\":\"CDSView\"},{\"attributes\":{\"fill_alpha\":{\"value\":0.3},\"fill_color\":{\"value\":\"red\"},\"line_alpha\":{\"value\":0.3},\"line_color\":{\"value\":\"red\"},\"plot\":null,\"size\":10},\"id\":\"b4af1638-55d4-412b-aa88-6684083eec2b\",\"type\":\"NormalHead\"},{\"attributes\":{\"end\":{\"id\":\"b4af1638-55d4-412b-aa88-6684083eec2b\",\"type\":\"NormalHead\"},\"line_alpha\":{\"value\":0.3},\"line_color\":{\"value\":\"red\"},\"line_width\":{\"value\":3},\"plot\":{\"id\":\"8cf4b083-b416-42b2-980d-60c55f5ca381\",\"subtype\":\"Figure\",\"type\":\"Plot\"},\"source\":null,\"start\":null,\"x_end\":{\"value\":0.20745777777777785},\"x_start\":{\"value\":0.0},\"y_end\":{\"value\":1.370715555555556},\"y_start\":{\"value\":0.0}},\"id\":\"0f654df5-f720-412c-999c-cd02b0c5a0ca\",\"type\":\"Arrow\"},{\"attributes\":{\"dimension\":1,\"plot\":{\"id\":\"8cf4b083-b416-42b2-980d-60c55f5ca381\",\"subtype\":\"Figure\",\"type\":\"Plot\"},\"ticker\":{\"id\":\"6fcf3d0e-ce0a-4656-bd2d-3bbdab58b37f\",\"type\":\"BasicTicker\"}},\"id\":\"fc3c7eab-95e6-4ea7-9e55-54b3e9441277\",\"type\":\"Grid\"},{\"attributes\":{\"callback\":null,\"data\":{},\"selected\":{\"id\":\"e34de9b0-7009-42f7-aedc-869d5389d489\",\"type\":\"Selection\"},\"selection_policy\":{\"id\":\"2da4c8ef-0619-44fd-b5c0-8ab5d876d540\",\"type\":\"UnionRenderers\"}},\"id\":\"da8632b2-4656-4e99-918e-75856abfdb5b\",\"type\":\"ColumnDataSource\"},{\"attributes\":{\"fill_alpha\":{\"value\":0.1},\"fill_color\":{\"value\":\"#1f77b4\"},\"line_alpha\":{\"value\":0.1},\"line_color\":{\"value\":\"#1f77b4\"},\"x\":{\"value\":0.20745777777777785},\"y\":{\"value\":1.370715555555556}},\"id\":\"00bd1b5c-307d-4fd9-aa9f-1ddc84c33d2b\",\"type\":\"Circle\"},{\"attributes\":{\"fill_color\":{\"value\":\"red\"},\"line_color\":{\"value\":\"red\"},\"x\":{\"value\":0.20745777777777785},\"y\":{\"value\":1.370715555555556}},\"id\":\"99181b10-3661-43bd-8410-2d7c2d19fc61\",\"type\":\"Circle\"},{\"attributes\":{\"data_source\":{\"id\":\"da8632b2-4656-4e99-918e-75856abfdb5b\",\"type\":\"ColumnDataSource\"},\"glyph\":{\"id\":\"99181b10-3661-43bd-8410-2d7c2d19fc61\",\"type\":\"Circle\"},\"hover_glyph\":null,\"muted_glyph\":null,\"nonselection_glyph\":{\"id\":\"00bd1b5c-307d-4fd9-aa9f-1ddc84c33d2b\",\"type\":\"Circle\"},\"selection_glyph\":null,\"view\":{\"id\":\"826e55d4-b2ee-4b22-96d2-e10f3980381a\",\"type\":\"CDSView\"}},\"id\":\"ca0d5a38-8607-4d7b-a8de-62565fdac60b\",\"type\":\"GlyphRenderer\"},{\"attributes\":{\"source\":{\"id\":\"da8632b2-4656-4e99-918e-75856abfdb5b\",\"type\":\"ColumnDataSource\"}},\"id\":\"826e55d4-b2ee-4b22-96d2-e10f3980381a\",\"type\":\"CDSView\"},{\"attributes\":{},\"id\":\"c225730c-8ec8-454a-89b2-5f327249e667\",\"type\":\"BasicTickFormatter\"},{\"attributes\":{\"fill_alpha\":{\"value\":0.3},\"fill_color\":{\"value\":\"red\"},\"line_alpha\":{\"value\":0.3},\"line_color\":{\"value\":\"red\"},\"plot\":null,\"size\":10},\"id\":\"b4c222ab-7f9a-4ef5-8157-9ae7feca4fde\",\"type\":\"NormalHead\"},{\"attributes\":{\"plot\":{\"id\":\"8cf4b083-b416-42b2-980d-60c55f5ca381\",\"subtype\":\"Figure\",\"type\":\"Plot\"},\"ticker\":{\"id\":\"6cf09624-b579-4840-896d-8b10bde340f0\",\"type\":\"BasicTicker\"}},\"id\":\"32e1951d-5221-4ab5-be70-0828e925e096\",\"type\":\"Grid\"},{\"attributes\":{},\"id\":\"4c898976-7755-463b-94ba-58a19935fcb5\",\"type\":\"BasicTickFormatter\"},{\"attributes\":{},\"id\":\"bd71a1bb-2b8b-4da6-90e0-90e561c96383\",\"type\":\"Selection\"},{\"attributes\":{},\"id\":\"712f8c49-6143-4661-bf3a-8d8fd119d4c4\",\"type\":\"Selection\"},{\"attributes\":{},\"id\":\"1d62f5f7-b9c4-4166-a2b1-1e7448a92e08\",\"type\":\"UnionRenderers\"},{\"attributes\":{},\"id\":\"eeb4c3d9-aade-4805-b5fb-133568da074f\",\"type\":\"Selection\"},{\"attributes\":{},\"id\":\"d7f8b41d-4902-44bb-94cb-8ce434e4890b\",\"type\":\"UnionRenderers\"},{\"attributes\":{},\"id\":\"f9d4c7ca-582f-47d6-acb3-94447e131538\",\"type\":\"Selection\"},{\"attributes\":{\"source\":{\"id\":\"af06f474-e617-4cc0-82d4-d7d6ab6bb737\",\"type\":\"ColumnDataSource\"}},\"id\":\"6faa859b-40d9-4c8b-bb2c-273a7a0f6281\",\"type\":\"CDSView\"},{\"attributes\":{},\"id\":\"2da4c8ef-0619-44fd-b5c0-8ab5d876d540\",\"type\":\"UnionRenderers\"},{\"attributes\":{},\"id\":\"e34de9b0-7009-42f7-aedc-869d5389d489\",\"type\":\"Selection\"},{\"attributes\":{},\"id\":\"a08416ed-475c-49af-926c-d1b6fc7f0973\",\"type\":\"LinearScale\"},{\"attributes\":{\"fill_alpha\":{\"value\":0.1},\"fill_color\":{\"value\":\"#1f77b4\"},\"line_alpha\":{\"value\":0.1},\"line_color\":{\"value\":\"#1f77b4\"},\"x\":{\"value\":0.0},\"y\":{\"value\":1.370715555555556}},\"id\":\"55aad517-659a-461d-88a6-11f3fc8c3722\",\"type\":\"Circle\"},{\"attributes\":{\"fill_color\":{\"value\":\"black\"},\"x\":{\"value\":0.0},\"y\":{\"value\":1.370715555555556}},\"id\":\"c8fca154-a2f2-4f59-8185-37f33a5206da\",\"type\":\"Circle\"},{\"attributes\":{\"callback\":null,\"data\":{\"x\":[-5.0,5.0],\"y\":[0.0,0.0]},\"selected\":{\"id\":\"bd71a1bb-2b8b-4da6-90e0-90e561c96383\",\"type\":\"Selection\"},\"selection_policy\":{\"id\":\"68e8f8f5-8ee8-49f3-af4d-e1f93e8fc7db\",\"type\":\"UnionRenderers\"}},\"id\":\"0c512403-ba7d-4d86-ad35-971871fee48d\",\"type\":\"ColumnDataSource\"},{\"attributes\":{\"callback\":null,\"end\":3.5,\"start\":-3.5},\"id\":\"a6651ecf-0897-4f27-a680-9c5ff0fefa77\",\"type\":\"Range1d\"},{\"attributes\":{\"end\":{\"id\":\"c19a9827-3ef7-47c2-a755-089903d5e55b\",\"type\":\"NormalHead\"},\"line_width\":{\"value\":3},\"plot\":{\"id\":\"8cf4b083-b416-42b2-980d-60c55f5ca381\",\"subtype\":\"Figure\",\"type\":\"Plot\"},\"source\":null,\"start\":null,\"x_end\":{\"value\":1.9749788888888886},\"x_start\":{\"value\":0.0},\"y_end\":{\"value\":0.0},\"y_start\":{\"value\":0.0}},\"id\":\"29916e5a-f3c5-4d32-aec8-05ebfc932a5e\",\"type\":\"Arrow\"},{\"attributes\":{\"data_source\":{\"id\":\"af06f474-e617-4cc0-82d4-d7d6ab6bb737\",\"type\":\"ColumnDataSource\"},\"glyph\":{\"id\":\"c8fca154-a2f2-4f59-8185-37f33a5206da\",\"type\":\"Circle\"},\"hover_glyph\":null,\"muted_glyph\":null,\"nonselection_glyph\":{\"id\":\"55aad517-659a-461d-88a6-11f3fc8c3722\",\"type\":\"Circle\"},\"selection_glyph\":null,\"view\":{\"id\":\"6faa859b-40d9-4c8b-bb2c-273a7a0f6281\",\"type\":\"CDSView\"}},\"id\":\"2ead7841-a087-4d60-811f-d80717f1f824\",\"type\":\"GlyphRenderer\"},{\"attributes\":{\"line_width\":1.5,\"x\":{\"field\":\"x\"},\"y\":{\"field\":\"y\"}},\"id\":\"338e6e16-e320-482f-a2e2-a1af98684d2c\",\"type\":\"Line\"},{\"attributes\":{\"source\":{\"id\":\"26c75e67-82f1-43ac-94cc-48e7e406cf5a\",\"type\":\"ColumnDataSource\"}},\"id\":\"bd7ced9f-ae9c-4616-a74c-42dfaa27727c\",\"type\":\"CDSView\"},{\"attributes\":{\"active_drag\":\"auto\",\"active_inspect\":\"auto\",\"active_multi\":null,\"active_scroll\":\"auto\",\"active_tap\":\"auto\",\"tools\":[{\"id\":\"f68af5ba-70f2-4e9b-87fd-0dd36793d1cc\",\"type\":\"WheelZoomTool\"},{\"id\":\"83e0f8a9-f14a-496d-a1c8-22807f2fd2f3\",\"type\":\"PanTool\"},{\"id\":\"db9cf7f2-8d5e-4f95-bc01-6c644a000e53\",\"type\":\"ResetTool\"}]},\"id\":\"6fe473c0-7b95-4968-b389-5073602d758c\",\"type\":\"Toolbar\"},{\"attributes\":{\"plot\":null,\"size\":10},\"id\":\"fbbb0e67-1946-40b6-9cc2-cb7bf0091da3\",\"type\":\"NormalHead\"},{\"attributes\":{\"line_alpha\":0.1,\"line_color\":\"#1f77b4\",\"line_width\":1.5,\"x\":{\"field\":\"x\"},\"y\":{\"field\":\"y\"}},\"id\":\"84b27562-dbda-4749-b090-db68520b1b82\",\"type\":\"Line\"},{\"attributes\":{},\"id\":\"6cf09624-b579-4840-896d-8b10bde340f0\",\"type\":\"BasicTicker\"},{\"attributes\":{\"data_source\":{\"id\":\"26c75e67-82f1-43ac-94cc-48e7e406cf5a\",\"type\":\"ColumnDataSource\"},\"glyph\":{\"id\":\"1acf9714-5385-44b3-9f46-712eb187a1a6\",\"type\":\"Circle\"},\"hover_glyph\":null,\"muted_glyph\":null,\"nonselection_glyph\":{\"id\":\"0ab21e4c-bbd2-4cb7-b408-091523cc5c60\",\"type\":\"Circle\"},\"selection_glyph\":null,\"view\":{\"id\":\"bd7ced9f-ae9c-4616-a74c-42dfaa27727c\",\"type\":\"CDSView\"}},\"id\":\"9d2d024c-e7ba-4cd1-b603-c3ab06ed5b35\",\"type\":\"GlyphRenderer\"},{\"attributes\":{\"formatter\":{\"id\":\"4c898976-7755-463b-94ba-58a19935fcb5\",\"type\":\"BasicTickFormatter\"},\"plot\":{\"id\":\"8cf4b083-b416-42b2-980d-60c55f5ca381\",\"subtype\":\"Figure\",\"type\":\"Plot\"},\"ticker\":{\"id\":\"6fcf3d0e-ce0a-4656-bd2d-3bbdab58b37f\",\"type\":\"BasicTicker\"}},\"id\":\"eb2325d1-56b4-4b38-bacf-9ea957ae411a\",\"type\":\"LinearAxis\"},{\"attributes\":{\"fill_alpha\":{\"value\":0.1},\"fill_color\":{\"value\":\"#1f77b4\"},\"line_alpha\":{\"value\":0.1},\"line_color\":{\"value\":\"#1f77b4\"},\"x\":{\"value\":1.9749788888888886},\"y\":{\"value\":0.0}},\"id\":\"0ab21e4c-bbd2-4cb7-b408-091523cc5c60\",\"type\":\"Circle\"},{\"attributes\":{},\"id\":\"5d52fa58-2a3f-4959-9e53-1d0685db8347\",\"type\":\"LinearScale\"},{\"attributes\":{\"fill_color\":{\"value\":\"black\"},\"x\":{\"value\":1.9749788888888886},\"y\":{\"value\":0.0}},\"id\":\"1acf9714-5385-44b3-9f46-712eb187a1a6\",\"type\":\"Circle\"},{\"attributes\":{\"callback\":null,\"data\":{},\"selected\":{\"id\":\"e4a91846-748c-4c22-8748-251280998e69\",\"type\":\"Selection\"},\"selection_policy\":{\"id\":\"3a0eda44-0a3a-4b06-b229-f4084604a792\",\"type\":\"UnionRenderers\"}},\"id\":\"26c75e67-82f1-43ac-94cc-48e7e406cf5a\",\"type\":\"ColumnDataSource\"},{\"attributes\":{},\"id\":\"6fcf3d0e-ce0a-4656-bd2d-3bbdab58b37f\",\"type\":\"BasicTicker\"},{\"attributes\":{\"end\":{\"id\":\"fbbb0e67-1946-40b6-9cc2-cb7bf0091da3\",\"type\":\"NormalHead\"},\"line_width\":{\"value\":3},\"plot\":{\"id\":\"8cf4b083-b416-42b2-980d-60c55f5ca381\",\"subtype\":\"Figure\",\"type\":\"Plot\"},\"source\":null,\"start\":null,\"x_end\":{\"value\":0.0},\"x_start\":{\"value\":0.0},\"y_end\":{\"value\":1.370715555555556},\"y_start\":{\"value\":0.0}},\"id\":\"747be47e-62bb-4ff5-b9d7-a8b2fc7fbd30\",\"type\":\"Arrow\"},{\"attributes\":{\"formatter\":{\"id\":\"c225730c-8ec8-454a-89b2-5f327249e667\",\"type\":\"BasicTickFormatter\"},\"plot\":{\"id\":\"8cf4b083-b416-42b2-980d-60c55f5ca381\",\"subtype\":\"Figure\",\"type\":\"Plot\"},\"ticker\":{\"id\":\"6cf09624-b579-4840-896d-8b10bde340f0\",\"type\":\"BasicTicker\"}},\"id\":\"3c419f4c-af4a-4fb5-a909-fb6cda2b1e67\",\"type\":\"LinearAxis\"},{\"attributes\":{\"callback\":null,\"end\":3.5,\"start\":-3.5},\"id\":\"0e7d2467-4190-42eb-99d9-1117684767bd\",\"type\":\"Range1d\"},{\"attributes\":{\"end\":{\"id\":\"b4c222ab-7f9a-4ef5-8157-9ae7feca4fde\",\"type\":\"NormalHead\"},\"line_alpha\":{\"value\":0.3},\"line_color\":{\"value\":\"red\"},\"line_width\":{\"value\":3},\"plot\":{\"id\":\"8cf4b083-b416-42b2-980d-60c55f5ca381\",\"subtype\":\"Figure\",\"type\":\"Plot\"},\"source\":null,\"start\":null,\"x_end\":{\"value\":1.9749788888888886},\"x_start\":{\"value\":0.0},\"y_end\":{\"value\":0.20745777777777785},\"y_start\":{\"value\":0.0}},\"id\":\"66b4f8ec-37fd-4c18-9c52-153f3cd38ac4\",\"type\":\"Arrow\"},{\"attributes\":{},\"id\":\"f68af5ba-70f2-4e9b-87fd-0dd36793d1cc\",\"type\":\"WheelZoomTool\"},{\"attributes\":{},\"id\":\"e4a91846-748c-4c22-8748-251280998e69\",\"type\":\"Selection\"},{\"attributes\":{\"callback\":null,\"data\":{},\"selected\":{\"id\":\"712f8c49-6143-4661-bf3a-8d8fd119d4c4\",\"type\":\"Selection\"},\"selection_policy\":{\"id\":\"50de3920-cb5f-4ec7-afd7-89682baeb56f\",\"type\":\"UnionRenderers\"}},\"id\":\"af06f474-e617-4cc0-82d4-d7d6ab6bb737\",\"type\":\"ColumnDataSource\"}],\"root_ids\":[\"8cf4b083-b416-42b2-980d-60c55f5ca381\"]},\"title\":\"Bokeh Application\",\"version\":\"0.13.0\"}};\n",
       "  var render_items = [{\"docid\":\"26fc5ebc-bc80-46f0-b830-e4dd96f3ed09\",\"roots\":{\"8cf4b083-b416-42b2-980d-60c55f5ca381\":\"4cabb47d-e3bf-4f57-bdf8-d9b5066aefa6\"}}];\n",
       "  root.Bokeh.embed.embed_items_notebook(docs_json, render_items);\n",
       "\n",
       "  }\n",
       "  if (root.Bokeh !== undefined) {\n",
       "    embed_document(root);\n",
       "  } else {\n",
       "    var attempts = 0;\n",
       "    var timer = setInterval(function(root) {\n",
       "      if (root.Bokeh !== undefined) {\n",
       "        embed_document(root);\n",
       "        clearInterval(timer);\n",
       "      }\n",
       "      attempts++;\n",
       "      if (attempts > 100) {\n",
       "        console.log(\"Bokeh: ERROR: Unable to run BokehJS code because BokehJS library is missing\")\n",
       "        clearInterval(timer);\n",
       "      }\n",
       "    }, 10, root)\n",
       "  }\n",
       "})(window);"
      ],
      "application/vnd.bokehjs_exec.v0+json": ""
     },
     "metadata": {
      "application/vnd.bokehjs_exec.v0+json": {
       "id": "8cf4b083-b416-42b2-980d-60c55f5ca381"
      }
     },
     "output_type": "display_data"
    }
   ],
   "source": [
    "var = np.diag(sigma.diagonal())\n",
    "plot.vec_w_point(var,alpha=1)\n",
    "plot.show()"
   ]
  },
  {
   "cell_type": "markdown",
   "metadata": {},
   "source": [
    "The off diagonals capture the length of the projection of the two variable, i.e. the degree the two variables move in the same direction."
   ]
  },
  {
   "cell_type": "code",
   "execution_count": 12,
   "metadata": {},
   "outputs": [
    {
     "data": {
      "text/html": [
       "\n",
       "\n",
       "\n",
       "\n",
       "\n",
       "\n",
       "  <div class=\"bk-root\" id=\"a5f863d5-4381-46de-9324-fc5036afb0a2\"></div>\n"
      ]
     },
     "metadata": {},
     "output_type": "display_data"
    },
    {
     "data": {
      "application/javascript": [
       "(function(root) {\n",
       "  function embed_document(root) {\n",
       "    \n",
       "  var docs_json = {\"3c472177-b42a-4326-acd8-8adfb619a83f\":{\"roots\":{\"references\":[{\"attributes\":{\"callback\":null,\"data\":{},\"selected\":{\"id\":\"bee71e41-0837-4419-878d-9c98a397c84b\",\"type\":\"Selection\"},\"selection_policy\":{\"id\":\"e28ed70a-1551-4c9d-8063-f8c53b888705\",\"type\":\"UnionRenderers\"}},\"id\":\"58a1e8fd-ff8b-41ce-927a-d70eb9f8d1d5\",\"type\":\"ColumnDataSource\"},{\"attributes\":{\"below\":[{\"id\":\"1cd63d71-a4cd-45ba-aefb-d8c43621d073\",\"type\":\"LinearAxis\"}],\"left\":[{\"id\":\"049c4a03-70eb-4395-9428-081297774ea2\",\"type\":\"LinearAxis\"}],\"plot_height\":700,\"plot_width\":700,\"renderers\":[{\"id\":\"1cd63d71-a4cd-45ba-aefb-d8c43621d073\",\"type\":\"LinearAxis\"},{\"id\":\"22457f81-d60f-403d-84d7-c56eb580d27d\",\"type\":\"Grid\"},{\"id\":\"049c4a03-70eb-4395-9428-081297774ea2\",\"type\":\"LinearAxis\"},{\"id\":\"598728f2-ac2a-44de-af4a-1b6ca9907ef6\",\"type\":\"Grid\"},{\"id\":\"fdacf97f-2a4e-402c-b7b8-4b759568090c\",\"type\":\"GlyphRenderer\"},{\"id\":\"d9e68e8f-de97-434d-bb0f-a56e3c82b727\",\"type\":\"GlyphRenderer\"},{\"id\":\"4d4820e8-bc05-455d-ad83-a8db65df607a\",\"type\":\"Arrow\"},{\"id\":\"4762ad10-afa5-45f3-8cbe-bc9eabc22ed9\",\"type\":\"GlyphRenderer\"},{\"id\":\"c8f4317f-9722-489e-9881-f1cf89cbff8b\",\"type\":\"Arrow\"},{\"id\":\"7093f1d6-a7a1-4aa4-9140-f384103791e6\",\"type\":\"GlyphRenderer\"},{\"id\":\"423fc1e9-3627-4d1f-8073-ab58dd4a00db\",\"type\":\"Arrow\"},{\"id\":\"01d3b414-b520-41c8-b43b-c53241b029f0\",\"type\":\"Arrow\"},{\"id\":\"8cd9acde-68f5-4871-abe3-10ce44e41ba7\",\"type\":\"Arrow\"},{\"id\":\"cfcd8975-67b9-4825-85dd-ff634c9c1a93\",\"type\":\"Arrow\"}],\"title\":{\"id\":\"6d96de25-f14e-47bb-a79c-8458ebec5a8a\",\"type\":\"Title\"},\"toolbar\":{\"id\":\"a82af398-0876-473c-b9f8-c5a2c07f0bbc\",\"type\":\"Toolbar\"},\"x_range\":{\"id\":\"1f74a140-fc31-4333-9c6c-413f1a6748e1\",\"type\":\"Range1d\"},\"x_scale\":{\"id\":\"70dee86b-9c29-402e-8d71-847046f17066\",\"type\":\"LinearScale\"},\"y_range\":{\"id\":\"cfdee205-e3fe-4b4c-ad5b-af075e925006\",\"type\":\"Range1d\"},\"y_scale\":{\"id\":\"3ffd8f6c-bc0c-4bb6-bbfd-1a0f7c1fbfc4\",\"type\":\"LinearScale\"}},\"id\":\"232cc5e6-d3dc-48c4-819d-f330d8585311\",\"subtype\":\"Figure\",\"type\":\"Plot\"},{\"attributes\":{\"fill_alpha\":{\"value\":0.1},\"fill_color\":{\"value\":\"#1f77b4\"},\"line_alpha\":{\"value\":0.1},\"line_color\":{\"value\":\"#1f77b4\"},\"x\":{\"value\":0.20745777777777785},\"y\":{\"value\":1.370715555555556}},\"id\":\"d891fa3d-18f4-4629-872d-4b4191cc23c4\",\"type\":\"Circle\"},{\"attributes\":{\"end\":{\"id\":\"783577e6-4618-47d3-8037-7ff5ce2e7073\",\"type\":\"NormalHead\"},\"line_alpha\":{\"value\":0.7},\"line_color\":{\"value\":\"blue\"},\"line_width\":{\"value\":3},\"plot\":{\"id\":\"232cc5e6-d3dc-48c4-819d-f330d8585311\",\"subtype\":\"Figure\",\"type\":\"Plot\"},\"source\":null,\"start\":null,\"x_end\":{\"value\":1.9749788888888886},\"x_start\":{\"value\":0.0},\"y_end\":{\"value\":0.20745777777777785},\"y_start\":{\"value\":0.0}},\"id\":\"423fc1e9-3627-4d1f-8073-ab58dd4a00db\",\"type\":\"Arrow\"},{\"attributes\":{\"fill_color\":{\"value\":\"red\"},\"line_color\":{\"value\":\"red\"},\"x\":{\"value\":0.20745777777777785},\"y\":{\"value\":1.370715555555556}},\"id\":\"74b34998-99a7-495f-8417-093e34028ebb\",\"type\":\"Circle\"},{\"attributes\":{\"line_width\":1.5,\"x\":{\"field\":\"x\"},\"y\":{\"field\":\"y\"}},\"id\":\"9da8286c-82db-4526-9305-7cac131c6eb4\",\"type\":\"Line\"},{\"attributes\":{\"data_source\":{\"id\":\"58a1e8fd-ff8b-41ce-927a-d70eb9f8d1d5\",\"type\":\"ColumnDataSource\"},\"glyph\":{\"id\":\"74b34998-99a7-495f-8417-093e34028ebb\",\"type\":\"Circle\"},\"hover_glyph\":null,\"muted_glyph\":null,\"nonselection_glyph\":{\"id\":\"d891fa3d-18f4-4629-872d-4b4191cc23c4\",\"type\":\"Circle\"},\"selection_glyph\":null,\"view\":{\"id\":\"dc8a8b86-2e72-45ec-9ef2-e40c9ffd9c88\",\"type\":\"CDSView\"}},\"id\":\"7093f1d6-a7a1-4aa4-9140-f384103791e6\",\"type\":\"GlyphRenderer\"},{\"attributes\":{\"active_drag\":\"auto\",\"active_inspect\":\"auto\",\"active_multi\":null,\"active_scroll\":\"auto\",\"active_tap\":\"auto\",\"tools\":[{\"id\":\"ac819128-a4ba-42d1-af26-3975522c2bf5\",\"type\":\"WheelZoomTool\"},{\"id\":\"d777dd07-592f-4853-a118-310eb36e48f3\",\"type\":\"PanTool\"},{\"id\":\"cc9fa260-3531-405b-b934-50fc03d22df7\",\"type\":\"ResetTool\"}]},\"id\":\"a82af398-0876-473c-b9f8-c5a2c07f0bbc\",\"type\":\"Toolbar\"},{\"attributes\":{\"source\":{\"id\":\"58a1e8fd-ff8b-41ce-927a-d70eb9f8d1d5\",\"type\":\"ColumnDataSource\"}},\"id\":\"dc8a8b86-2e72-45ec-9ef2-e40c9ffd9c88\",\"type\":\"CDSView\"},{\"attributes\":{\"fill_alpha\":{\"value\":0.3},\"fill_color\":{\"value\":\"red\"},\"line_alpha\":{\"value\":0.3},\"line_color\":{\"value\":\"red\"},\"plot\":null,\"size\":10},\"id\":\"38ad51ef-1573-4348-a90a-212ee139fa95\",\"type\":\"NormalHead\"},{\"attributes\":{\"line_alpha\":0.1,\"line_color\":\"#1f77b4\",\"line_width\":1.5,\"x\":{\"field\":\"x\"},\"y\":{\"field\":\"y\"}},\"id\":\"45d8c7c1-7fdb-4974-b616-66bcad5a5b2e\",\"type\":\"Line\"},{\"attributes\":{\"plot\":{\"id\":\"232cc5e6-d3dc-48c4-819d-f330d8585311\",\"subtype\":\"Figure\",\"type\":\"Plot\"},\"ticker\":{\"id\":\"9f931b2e-95d5-45ea-a8ee-bb7ed448105d\",\"type\":\"BasicTicker\"}},\"id\":\"22457f81-d60f-403d-84d7-c56eb580d27d\",\"type\":\"Grid\"},{\"attributes\":{\"fill_alpha\":{\"value\":0.7},\"fill_color\":{\"value\":\"red\"},\"line_alpha\":{\"value\":0.7},\"line_color\":{\"value\":\"red\"},\"plot\":null,\"size\":10},\"id\":\"31e3f43d-cf12-4bbf-aacf-77e540671da2\",\"type\":\"NormalHead\"},{\"attributes\":{\"plot\":null,\"size\":10},\"id\":\"0ae33f41-f6c0-4102-8779-3c608359cf81\",\"type\":\"NormalHead\"},{\"attributes\":{\"callback\":null,\"data\":{\"x\":[-5.0,5.0],\"y\":[0.0,0.0]},\"selected\":{\"id\":\"53fad933-b665-4eeb-a98c-897bb88d8bfa\",\"type\":\"Selection\"},\"selection_policy\":{\"id\":\"bb00f6de-c898-4281-a76b-8f83eee13da7\",\"type\":\"UnionRenderers\"}},\"id\":\"4edbb4f7-036e-4032-a6d1-ec83418dbfc4\",\"type\":\"ColumnDataSource\"},{\"attributes\":{\"end\":{\"id\":\"31e3f43d-cf12-4bbf-aacf-77e540671da2\",\"type\":\"NormalHead\"},\"line_alpha\":{\"value\":0.7},\"line_color\":{\"value\":\"red\"},\"line_width\":{\"value\":3},\"plot\":{\"id\":\"232cc5e6-d3dc-48c4-819d-f330d8585311\",\"subtype\":\"Figure\",\"type\":\"Plot\"},\"source\":null,\"start\":null,\"x_end\":{\"value\":0.20745777777777785},\"x_start\":{\"value\":0.0},\"y_end\":{\"value\":1.370715555555556},\"y_start\":{\"value\":0.0}},\"id\":\"01d3b414-b520-41c8-b43b-c53241b029f0\",\"type\":\"Arrow\"},{\"attributes\":{\"data_source\":{\"id\":\"4edbb4f7-036e-4032-a6d1-ec83418dbfc4\",\"type\":\"ColumnDataSource\"},\"glyph\":{\"id\":\"9da8286c-82db-4526-9305-7cac131c6eb4\",\"type\":\"Line\"},\"hover_glyph\":null,\"muted_glyph\":null,\"nonselection_glyph\":{\"id\":\"45d8c7c1-7fdb-4974-b616-66bcad5a5b2e\",\"type\":\"Line\"},\"selection_glyph\":null,\"view\":{\"id\":\"d0672dcc-305f-4afa-bd6a-ec3be073f2c3\",\"type\":\"CDSView\"}},\"id\":\"fdacf97f-2a4e-402c-b7b8-4b759568090c\",\"type\":\"GlyphRenderer\"},{\"attributes\":{\"fill_alpha\":{\"value\":0.4},\"fill_color\":{\"value\":\"grey\"},\"line_alpha\":{\"value\":0.4},\"line_color\":{\"value\":\"grey\"},\"plot\":null,\"size\":10},\"id\":\"cc6edecc-ad4a-4bb7-9b82-52fc8240f1c3\",\"type\":\"NormalHead\"},{\"attributes\":{\"callback\":null,\"end\":3.5,\"start\":-3.5},\"id\":\"1f74a140-fc31-4333-9c6c-413f1a6748e1\",\"type\":\"Range1d\"},{\"attributes\":{\"end\":{\"id\":\"0ae33f41-f6c0-4102-8779-3c608359cf81\",\"type\":\"NormalHead\"},\"line_width\":{\"value\":4},\"plot\":{\"id\":\"232cc5e6-d3dc-48c4-819d-f330d8585311\",\"subtype\":\"Figure\",\"type\":\"Plot\"},\"source\":null,\"start\":null,\"x_end\":{\"value\":0.3476063980390612},\"x_start\":{\"value\":0.0},\"y_end\":{\"value\":0.0365136312515685},\"y_start\":{\"value\":0.0}},\"id\":\"8cd9acde-68f5-4871-abe3-10ce44e41ba7\",\"type\":\"Arrow\"},{\"attributes\":{},\"id\":\"70dee86b-9c29-402e-8d71-847046f17066\",\"type\":\"LinearScale\"},{\"attributes\":{},\"id\":\"fa204fd6-56a8-4d6b-ac46-fdd19d9708b1\",\"type\":\"BasicTicker\"},{\"attributes\":{\"end\":{\"id\":\"cc6edecc-ad4a-4bb7-9b82-52fc8240f1c3\",\"type\":\"NormalHead\"},\"line_alpha\":{\"value\":0.4},\"line_color\":{\"value\":\"grey\"},\"line_width\":{\"value\":3},\"plot\":{\"id\":\"232cc5e6-d3dc-48c4-819d-f330d8585311\",\"subtype\":\"Figure\",\"type\":\"Plot\"},\"source\":null,\"start\":null,\"x_end\":{\"value\":0.3476063980390612},\"x_start\":{\"value\":0.20745777777777785},\"y_end\":{\"value\":0.03651363125156859},\"y_start\":{\"value\":1.370715555555556}},\"id\":\"cfcd8975-67b9-4825-85dd-ff634c9c1a93\",\"type\":\"Arrow\"},{\"attributes\":{},\"id\":\"3ffd8f6c-bc0c-4bb6-bbfd-1a0f7c1fbfc4\",\"type\":\"LinearScale\"},{\"attributes\":{},\"id\":\"d362ac4b-1f73-44e8-8ee8-ad17629b5a01\",\"type\":\"BasicTickFormatter\"},{\"attributes\":{\"formatter\":{\"id\":\"11ac5ebb-8eda-482e-892b-701374fb1e24\",\"type\":\"BasicTickFormatter\"},\"plot\":{\"id\":\"232cc5e6-d3dc-48c4-819d-f330d8585311\",\"subtype\":\"Figure\",\"type\":\"Plot\"},\"ticker\":{\"id\":\"fa204fd6-56a8-4d6b-ac46-fdd19d9708b1\",\"type\":\"BasicTicker\"}},\"id\":\"049c4a03-70eb-4395-9428-081297774ea2\",\"type\":\"LinearAxis\"},{\"attributes\":{\"plot\":null,\"text\":\"\"},\"id\":\"6d96de25-f14e-47bb-a79c-8458ebec5a8a\",\"type\":\"Title\"},{\"attributes\":{\"formatter\":{\"id\":\"d362ac4b-1f73-44e8-8ee8-ad17629b5a01\",\"type\":\"BasicTickFormatter\"},\"plot\":{\"id\":\"232cc5e6-d3dc-48c4-819d-f330d8585311\",\"subtype\":\"Figure\",\"type\":\"Plot\"},\"ticker\":{\"id\":\"9f931b2e-95d5-45ea-a8ee-bb7ed448105d\",\"type\":\"BasicTicker\"}},\"id\":\"1cd63d71-a4cd-45ba-aefb-d8c43621d073\",\"type\":\"LinearAxis\"},{\"attributes\":{},\"id\":\"bb00f6de-c898-4281-a76b-8f83eee13da7\",\"type\":\"UnionRenderers\"},{\"attributes\":{},\"id\":\"9f931b2e-95d5-45ea-a8ee-bb7ed448105d\",\"type\":\"BasicTicker\"},{\"attributes\":{},\"id\":\"11ac5ebb-8eda-482e-892b-701374fb1e24\",\"type\":\"BasicTickFormatter\"},{\"attributes\":{\"callback\":null,\"data\":{\"x\":[0.0,0.0],\"y\":[-5.0,5.0]},\"selected\":{\"id\":\"e76c5676-b255-43a7-877c-9d6174edb1d5\",\"type\":\"Selection\"},\"selection_policy\":{\"id\":\"a51e8f9e-e5c0-481c-85f3-6d119317a388\",\"type\":\"UnionRenderers\"}},\"id\":\"3e46972d-22eb-4bf2-aaac-09800492cef1\",\"type\":\"ColumnDataSource\"},{\"attributes\":{},\"id\":\"53fad933-b665-4eeb-a98c-897bb88d8bfa\",\"type\":\"Selection\"},{\"attributes\":{},\"id\":\"ac819128-a4ba-42d1-af26-3975522c2bf5\",\"type\":\"WheelZoomTool\"},{\"attributes\":{\"source\":{\"id\":\"4edbb4f7-036e-4032-a6d1-ec83418dbfc4\",\"type\":\"ColumnDataSource\"}},\"id\":\"d0672dcc-305f-4afa-bd6a-ec3be073f2c3\",\"type\":\"CDSView\"},{\"attributes\":{},\"id\":\"a51e8f9e-e5c0-481c-85f3-6d119317a388\",\"type\":\"UnionRenderers\"},{\"attributes\":{},\"id\":\"d777dd07-592f-4853-a118-310eb36e48f3\",\"type\":\"PanTool\"},{\"attributes\":{},\"id\":\"e76c5676-b255-43a7-877c-9d6174edb1d5\",\"type\":\"Selection\"},{\"attributes\":{},\"id\":\"cc9fa260-3531-405b-b934-50fc03d22df7\",\"type\":\"ResetTool\"},{\"attributes\":{},\"id\":\"19638c26-4460-4cea-b2c4-8e3c32b7f161\",\"type\":\"UnionRenderers\"},{\"attributes\":{},\"id\":\"afe07fcc-3ad3-497a-88a2-9ea25f6e1b8c\",\"type\":\"Selection\"},{\"attributes\":{\"end\":{\"id\":\"38ad51ef-1573-4348-a90a-212ee139fa95\",\"type\":\"NormalHead\"},\"line_alpha\":{\"value\":0.3},\"line_color\":{\"value\":\"red\"},\"line_width\":{\"value\":3},\"plot\":{\"id\":\"232cc5e6-d3dc-48c4-819d-f330d8585311\",\"subtype\":\"Figure\",\"type\":\"Plot\"},\"source\":null,\"start\":null,\"x_end\":{\"value\":1.9749788888888886},\"x_start\":{\"value\":0.0},\"y_end\":{\"value\":0.20745777777777785},\"y_start\":{\"value\":0.0}},\"id\":\"4d4820e8-bc05-455d-ad83-a8db65df607a\",\"type\":\"Arrow\"},{\"attributes\":{\"dimension\":1,\"plot\":{\"id\":\"232cc5e6-d3dc-48c4-819d-f330d8585311\",\"subtype\":\"Figure\",\"type\":\"Plot\"},\"ticker\":{\"id\":\"fa204fd6-56a8-4d6b-ac46-fdd19d9708b1\",\"type\":\"BasicTicker\"}},\"id\":\"598728f2-ac2a-44de-af4a-1b6ca9907ef6\",\"type\":\"Grid\"},{\"attributes\":{},\"id\":\"e28ed70a-1551-4c9d-8063-f8c53b888705\",\"type\":\"UnionRenderers\"},{\"attributes\":{\"line_width\":1.5,\"x\":{\"field\":\"x\"},\"y\":{\"field\":\"y\"}},\"id\":\"cdf922f9-7fbe-4250-b09b-a40b7d490240\",\"type\":\"Line\"},{\"attributes\":{},\"id\":\"bee71e41-0837-4419-878d-9c98a397c84b\",\"type\":\"Selection\"},{\"attributes\":{\"line_alpha\":0.1,\"line_color\":\"#1f77b4\",\"line_width\":1.5,\"x\":{\"field\":\"x\"},\"y\":{\"field\":\"y\"}},\"id\":\"24054868-b29c-4a11-b980-60527ee7c6db\",\"type\":\"Line\"},{\"attributes\":{\"data_source\":{\"id\":\"3e46972d-22eb-4bf2-aaac-09800492cef1\",\"type\":\"ColumnDataSource\"},\"glyph\":{\"id\":\"cdf922f9-7fbe-4250-b09b-a40b7d490240\",\"type\":\"Line\"},\"hover_glyph\":null,\"muted_glyph\":null,\"nonselection_glyph\":{\"id\":\"24054868-b29c-4a11-b980-60527ee7c6db\",\"type\":\"Line\"},\"selection_glyph\":null,\"view\":{\"id\":\"1f0b36ad-4717-4df6-9f1b-a8e74e699b82\",\"type\":\"CDSView\"}},\"id\":\"d9e68e8f-de97-434d-bb0f-a56e3c82b727\",\"type\":\"GlyphRenderer\"},{\"attributes\":{\"source\":{\"id\":\"3e46972d-22eb-4bf2-aaac-09800492cef1\",\"type\":\"ColumnDataSource\"}},\"id\":\"1f0b36ad-4717-4df6-9f1b-a8e74e699b82\",\"type\":\"CDSView\"},{\"attributes\":{\"fill_alpha\":{\"value\":0.7},\"fill_color\":{\"value\":\"blue\"},\"line_alpha\":{\"value\":0.7},\"line_color\":{\"value\":\"blue\"},\"plot\":null,\"size\":10},\"id\":\"783577e6-4618-47d3-8037-7ff5ce2e7073\",\"type\":\"NormalHead\"},{\"attributes\":{\"callback\":null,\"data\":{},\"selected\":{\"id\":\"afe07fcc-3ad3-497a-88a2-9ea25f6e1b8c\",\"type\":\"Selection\"},\"selection_policy\":{\"id\":\"19638c26-4460-4cea-b2c4-8e3c32b7f161\",\"type\":\"UnionRenderers\"}},\"id\":\"3e1f9c3f-b327-4f3d-9e2a-37d50c68ce96\",\"type\":\"ColumnDataSource\"},{\"attributes\":{\"fill_alpha\":{\"value\":0.1},\"fill_color\":{\"value\":\"#1f77b4\"},\"line_alpha\":{\"value\":0.1},\"line_color\":{\"value\":\"#1f77b4\"},\"x\":{\"value\":1.9749788888888886},\"y\":{\"value\":0.20745777777777785}},\"id\":\"b66045fe-1e5d-4d2e-9346-0983ab2c2f86\",\"type\":\"Circle\"},{\"attributes\":{\"fill_color\":{\"value\":\"red\"},\"line_color\":{\"value\":\"red\"},\"x\":{\"value\":1.9749788888888886},\"y\":{\"value\":0.20745777777777785}},\"id\":\"9edd276a-6e41-4c5b-8ebb-4edd01775198\",\"type\":\"Circle\"},{\"attributes\":{\"data_source\":{\"id\":\"3e1f9c3f-b327-4f3d-9e2a-37d50c68ce96\",\"type\":\"ColumnDataSource\"},\"glyph\":{\"id\":\"9edd276a-6e41-4c5b-8ebb-4edd01775198\",\"type\":\"Circle\"},\"hover_glyph\":null,\"muted_glyph\":null,\"nonselection_glyph\":{\"id\":\"b66045fe-1e5d-4d2e-9346-0983ab2c2f86\",\"type\":\"Circle\"},\"selection_glyph\":null,\"view\":{\"id\":\"8e57f142-58c0-496f-8bf6-c1c43cc42315\",\"type\":\"CDSView\"}},\"id\":\"4762ad10-afa5-45f3-8cbe-bc9eabc22ed9\",\"type\":\"GlyphRenderer\"},{\"attributes\":{\"source\":{\"id\":\"3e1f9c3f-b327-4f3d-9e2a-37d50c68ce96\",\"type\":\"ColumnDataSource\"}},\"id\":\"8e57f142-58c0-496f-8bf6-c1c43cc42315\",\"type\":\"CDSView\"},{\"attributes\":{\"callback\":null,\"end\":3.5,\"start\":-3.5},\"id\":\"cfdee205-e3fe-4b4c-ad5b-af075e925006\",\"type\":\"Range1d\"},{\"attributes\":{\"fill_alpha\":{\"value\":0.3},\"fill_color\":{\"value\":\"red\"},\"line_alpha\":{\"value\":0.3},\"line_color\":{\"value\":\"red\"},\"plot\":null,\"size\":10},\"id\":\"9d8712db-c4b7-41cd-9586-fad18ec69b8e\",\"type\":\"NormalHead\"},{\"attributes\":{\"end\":{\"id\":\"9d8712db-c4b7-41cd-9586-fad18ec69b8e\",\"type\":\"NormalHead\"},\"line_alpha\":{\"value\":0.3},\"line_color\":{\"value\":\"red\"},\"line_width\":{\"value\":3},\"plot\":{\"id\":\"232cc5e6-d3dc-48c4-819d-f330d8585311\",\"subtype\":\"Figure\",\"type\":\"Plot\"},\"source\":null,\"start\":null,\"x_end\":{\"value\":0.20745777777777785},\"x_start\":{\"value\":0.0},\"y_end\":{\"value\":1.370715555555556},\"y_start\":{\"value\":0.0}},\"id\":\"c8f4317f-9722-489e-9881-f1cf89cbff8b\",\"type\":\"Arrow\"}],\"root_ids\":[\"232cc5e6-d3dc-48c4-819d-f330d8585311\"]},\"title\":\"Bokeh Application\",\"version\":\"0.13.0\"}};\n",
       "  var render_items = [{\"docid\":\"3c472177-b42a-4326-acd8-8adfb619a83f\",\"roots\":{\"232cc5e6-d3dc-48c4-819d-f330d8585311\":\"a5f863d5-4381-46de-9324-fc5036afb0a2\"}}];\n",
       "  root.Bokeh.embed.embed_items_notebook(docs_json, render_items);\n",
       "\n",
       "  }\n",
       "  if (root.Bokeh !== undefined) {\n",
       "    embed_document(root);\n",
       "  } else {\n",
       "    var attempts = 0;\n",
       "    var timer = setInterval(function(root) {\n",
       "      if (root.Bokeh !== undefined) {\n",
       "        embed_document(root);\n",
       "        clearInterval(timer);\n",
       "      }\n",
       "      attempts++;\n",
       "      if (attempts > 100) {\n",
       "        console.log(\"Bokeh: ERROR: Unable to run BokehJS code because BokehJS library is missing\")\n",
       "        clearInterval(timer);\n",
       "      }\n",
       "    }, 10, root)\n",
       "  }\n",
       "})(window);"
      ],
      "application/vnd.bokehjs_exec.v0+json": ""
     },
     "metadata": {
      "application/vnd.bokehjs_exec.v0+json": {
       "id": "232cc5e6-d3dc-48c4-819d-f330d8585311"
      }
     },
     "output_type": "display_data"
    }
   ],
   "source": [
    "plot.clear().graph()\n",
    "plot.vec_w_point(sigma,color=\"red\",alpha=.3)\n",
    "plot.projection(sigma[0],sigma[1])\n",
    "plot.show()"
   ]
  },
  {
   "cell_type": "markdown",
   "metadata": {},
   "source": [
    "#### All in one step"
   ]
  },
  {
   "cell_type": "code",
   "execution_count": 13,
   "metadata": {},
   "outputs": [
    {
     "data": {
      "text/plain": [
       "(2, 2)"
      ]
     },
     "execution_count": 13,
     "metadata": {},
     "output_type": "execute_result"
    }
   ],
   "source": [
    "N = X.shape[0]                         # Number of observations\n",
    "X_means = (np.ones(N).dot(X))/N        # Means of each column vector\n",
    "X_dev = (X - X_means)                  # Deviations from the mean\n",
    "squared_dev = X_dev.T.dot(X_dev)       # Squared Deviations from the mean\n",
    "sigma = (1/(N-1))*squared_dev          # Average (with df adjustment)\n",
    "sigma.shape "
   ]
  },
  {
   "cell_type": "code",
   "execution_count": 14,
   "metadata": {},
   "outputs": [
    {
     "name": "stdout",
     "output_type": "stream",
     "text": [
      "Our Variance-Covariance Matrix\n",
      "\n",
      "[[1.975 0.207]\n",
      " [0.207 1.371]]\n"
     ]
    }
   ],
   "source": [
    "print(\"Our Variance-Covariance Matrix\\n\")\n",
    "print(sigma.round(3))"
   ]
  },
  {
   "cell_type": "markdown",
   "metadata": {},
   "source": [
    "#### Using Numpy"
   ]
  },
  {
   "cell_type": "code",
   "execution_count": 15,
   "metadata": {},
   "outputs": [
    {
     "data": {
      "text/plain": [
       "array([[1.975, 0.207],\n",
       "       [0.207, 1.371]])"
      ]
     },
     "execution_count": 15,
     "metadata": {},
     "output_type": "execute_result"
    }
   ],
   "source": [
    "np.cov(X.T).round(3)"
   ]
  },
  {
   "cell_type": "markdown",
   "metadata": {},
   "source": [
    "## Correlation Matrix\n",
    "\n",
    "A correlation matrix is similar to our variance-covariance matrix except that we standardize the deviations from the mean by dividing each variable by it's respective standard deviation. This effectively puts the deviations of each variable onto the same scale.\n",
    "\n",
    "<br>\n",
    "<br>\n",
    "\n",
    "$$ corr(x,y) = \\frac{1}{N-1}\\frac{\\sum^{N}_{i=1} (x_i - \\bar{x})(y_i - \\bar{y})}{\\sigma_x \\sigma_y} = \\rho $$\n",
    "\n",
    "<br>\n",
    "<br>\n",
    "\n",
    "In matrix form,\n",
    "\n",
    "<br>\n",
    "<br>\n",
    "\n",
    "$$\\rho  = \\frac{1}{N-1} \\frac{(\\textbf{X} - \\bar{\\textbf{x}})^T(\\textbf{X} - \\bar{\\textbf{x}})}{\\sqrt{diag(\\Sigma)}} $$\n",
    "\n",
    "<br>\n",
    "<br>\n",
    "\n",
    "> **Note**: Recall that the diagonal of covariance matrix corresponds with the variances. When we take the square root of the variance, we get the standard deviation. $\\sqrt{diag(\\Sigma)}$ is merely the matrix expression of this calculation."
   ]
  },
  {
   "cell_type": "markdown",
   "metadata": {},
   "source": [
    "### What this means?\n",
    "\n",
    "Like before, we are interested in the deviations from the mean..."
   ]
  },
  {
   "cell_type": "code",
   "execution_count": 16,
   "metadata": {},
   "outputs": [
    {
     "data": {
      "text/html": [
       "\n",
       "\n",
       "\n",
       "\n",
       "\n",
       "\n",
       "  <div class=\"bk-root\" id=\"c6c5e9a3-5ada-424b-b97c-05cad862ada7\"></div>\n"
      ]
     },
     "metadata": {},
     "output_type": "display_data"
    },
    {
     "data": {
      "application/javascript": [
       "(function(root) {\n",
       "  function embed_document(root) {\n",
       "    \n",
       "  var docs_json = {\"1a18efdc-fc9e-42d5-9793-d4a63a33bcdb\":{\"roots\":{\"references\":[{\"attributes\":{\"callback\":null,\"data\":{},\"selected\":{\"id\":\"a9b1c4db-3296-42d3-a99c-37f385a47c38\",\"type\":\"Selection\"},\"selection_policy\":{\"id\":\"cf0dd74d-5c5c-453d-9b8d-2aa9c784c37c\",\"type\":\"UnionRenderers\"}},\"id\":\"a6e67569-bfcd-4001-8c81-2cece3e6cb23\",\"type\":\"ColumnDataSource\"},{\"attributes\":{},\"id\":\"dc81a363-2839-464d-9d2f-dd0e8e8b702b\",\"type\":\"UnionRenderers\"},{\"attributes\":{\"data_source\":{\"id\":\"c23a1a65-59cd-4a90-a49e-8bf199f0fc49\",\"type\":\"ColumnDataSource\"},\"glyph\":{\"id\":\"924e08d6-d9c3-4a72-a825-176e06b207f7\",\"type\":\"Line\"},\"hover_glyph\":null,\"muted_glyph\":null,\"nonselection_glyph\":{\"id\":\"53f02f05-1879-47de-915f-02ad0440abfd\",\"type\":\"Line\"},\"selection_glyph\":null,\"view\":{\"id\":\"99648b0f-1ee9-454a-b910-a1939ac23515\",\"type\":\"CDSView\"}},\"id\":\"075864f0-9f9d-4336-899e-a7a29a10d75d\",\"type\":\"GlyphRenderer\"},{\"attributes\":{\"fill_color\":{\"value\":\"orange\"},\"line_color\":{\"value\":\"orange\"},\"x\":{\"value\":2.107},\"y\":{\"value\":2.064}},\"id\":\"aca4928c-d8ed-4843-8aff-2a1d2119d517\",\"type\":\"Circle\"},{\"attributes\":{\"fill_alpha\":{\"value\":0.1},\"fill_color\":{\"value\":\"#1f77b4\"},\"line_alpha\":{\"value\":0.1},\"line_color\":{\"value\":\"#1f77b4\"},\"x\":{\"value\":2.107},\"y\":{\"value\":2.064}},\"id\":\"1806c71c-a3a1-46f0-a8f0-39b084bf2e88\",\"type\":\"Circle\"},{\"attributes\":{\"dimension\":1,\"plot\":{\"id\":\"59b435c0-e139-46d2-bd76-06560f658723\",\"subtype\":\"Figure\",\"type\":\"Plot\"},\"ticker\":{\"id\":\"b97f9376-2306-46f5-9ebb-604166f2853f\",\"type\":\"BasicTicker\"}},\"id\":\"05e933cd-50cd-46e4-9b4c-31079f3b3a36\",\"type\":\"Grid\"},{\"attributes\":{\"data_source\":{\"id\":\"a6e67569-bfcd-4001-8c81-2cece3e6cb23\",\"type\":\"ColumnDataSource\"},\"glyph\":{\"id\":\"aca4928c-d8ed-4843-8aff-2a1d2119d517\",\"type\":\"Circle\"},\"hover_glyph\":null,\"muted_glyph\":null,\"nonselection_glyph\":{\"id\":\"1806c71c-a3a1-46f0-a8f0-39b084bf2e88\",\"type\":\"Circle\"},\"selection_glyph\":null,\"view\":{\"id\":\"b86dd8d4-93c0-483e-8381-fd05d078925c\",\"type\":\"CDSView\"}},\"id\":\"fe6a1853-e8a1-4871-8e7e-e2c8cbb7e981\",\"type\":\"GlyphRenderer\"},{\"attributes\":{\"end\":{\"id\":\"a7fa6d88-3ba8-4178-a626-25bb5962cba3\",\"type\":\"NormalHead\"},\"line_alpha\":{\"value\":0.2},\"line_color\":{\"value\":\"orange\"},\"line_width\":{\"value\":3},\"plot\":{\"id\":\"59b435c0-e139-46d2-bd76-06560f658723\",\"subtype\":\"Figure\",\"type\":\"Plot\"},\"source\":null,\"start\":null,\"x_end\":{\"value\":2.107},\"x_start\":{\"value\":0.0},\"y_end\":{\"value\":2.064},\"y_start\":{\"value\":0.0}},\"id\":\"c0ed731f-7fd5-48e6-b827-3c025eff1b32\",\"type\":\"Arrow\"},{\"attributes\":{\"source\":{\"id\":\"a6e67569-bfcd-4001-8c81-2cece3e6cb23\",\"type\":\"ColumnDataSource\"}},\"id\":\"b86dd8d4-93c0-483e-8381-fd05d078925c\",\"type\":\"CDSView\"},{\"attributes\":{},\"id\":\"42cacf41-1c8e-44e3-9f9a-14401380b19d\",\"type\":\"WheelZoomTool\"},{\"attributes\":{\"plot\":{\"id\":\"59b435c0-e139-46d2-bd76-06560f658723\",\"subtype\":\"Figure\",\"type\":\"Plot\"},\"ticker\":{\"id\":\"535f41ba-d883-4a4f-8aad-c830872cd056\",\"type\":\"BasicTicker\"}},\"id\":\"97ea7446-ffc1-4cb7-88e1-3e687c9f8d31\",\"type\":\"Grid\"},{\"attributes\":{\"fill_alpha\":{\"value\":0.2},\"fill_color\":{\"value\":\"orange\"},\"line_alpha\":{\"value\":0.2},\"line_color\":{\"value\":\"orange\"},\"plot\":null,\"size\":10},\"id\":\"e266a69d-917c-47db-a9c7-d0358ab582ce\",\"type\":\"NormalHead\"},{\"attributes\":{\"line_alpha\":0.1,\"line_color\":\"#1f77b4\",\"line_width\":1.5,\"x\":{\"field\":\"x\"},\"y\":{\"field\":\"y\"}},\"id\":\"04bd4f80-d934-4e93-918a-ae4777c9e529\",\"type\":\"Line\"},{\"attributes\":{\"end\":{\"id\":\"e266a69d-917c-47db-a9c7-d0358ab582ce\",\"type\":\"NormalHead\"},\"line_alpha\":{\"value\":0.2},\"line_color\":{\"value\":\"orange\"},\"line_width\":{\"value\":3},\"plot\":{\"id\":\"59b435c0-e139-46d2-bd76-06560f658723\",\"subtype\":\"Figure\",\"type\":\"Plot\"},\"source\":null,\"start\":null,\"x_end\":{\"value\":0.8970000000000002},\"x_start\":{\"value\":0.0},\"y_end\":{\"value\":0.2639999999999998},\"y_start\":{\"value\":0.0}},\"id\":\"df6d46b5-3633-4f1f-9169-eda70f32d7ce\",\"type\":\"Arrow\"},{\"attributes\":{\"data_source\":{\"id\":\"05406b37-592e-4676-822e-0f73d03e4f6b\",\"type\":\"ColumnDataSource\"},\"glyph\":{\"id\":\"418350f8-f86d-48d7-8d43-934df2dcaea4\",\"type\":\"Line\"},\"hover_glyph\":null,\"muted_glyph\":null,\"nonselection_glyph\":{\"id\":\"04bd4f80-d934-4e93-918a-ae4777c9e529\",\"type\":\"Line\"},\"selection_glyph\":null,\"view\":{\"id\":\"d74d5a2f-a3e0-48df-954d-f585cad45f3c\",\"type\":\"CDSView\"}},\"id\":\"acd72d13-6ca0-4c4e-b7a2-8e5ae5cd555c\",\"type\":\"GlyphRenderer\"},{\"attributes\":{\"callback\":null,\"data\":{},\"selected\":{\"id\":\"c630d5e3-c975-4dca-a015-43f3043576bd\",\"type\":\"Selection\"},\"selection_policy\":{\"id\":\"373a16b8-0c36-43ac-8b91-6a4a27250974\",\"type\":\"UnionRenderers\"}},\"id\":\"1df88699-e941-4d4b-a570-50276b3b8ca5\",\"type\":\"ColumnDataSource\"},{\"attributes\":{\"source\":{\"id\":\"c23a1a65-59cd-4a90-a49e-8bf199f0fc49\",\"type\":\"ColumnDataSource\"}},\"id\":\"99648b0f-1ee9-454a-b910-a1939ac23515\",\"type\":\"CDSView\"},{\"attributes\":{\"fill_alpha\":{\"value\":0.1},\"fill_color\":{\"value\":\"#1f77b4\"},\"line_alpha\":{\"value\":0.1},\"line_color\":{\"value\":\"#1f77b4\"},\"x\":{\"value\":0.8970000000000002},\"y\":{\"value\":0.2639999999999998}},\"id\":\"7e9860dd-c9b9-428e-9b82-6749368a2acd\",\"type\":\"Circle\"},{\"attributes\":{\"source\":{\"id\":\"05406b37-592e-4676-822e-0f73d03e4f6b\",\"type\":\"ColumnDataSource\"}},\"id\":\"d74d5a2f-a3e0-48df-954d-f585cad45f3c\",\"type\":\"CDSView\"},{\"attributes\":{\"fill_color\":{\"value\":\"orange\"},\"line_color\":{\"value\":\"orange\"},\"x\":{\"value\":0.8970000000000002},\"y\":{\"value\":0.2639999999999998}},\"id\":\"090488af-4c68-4528-8079-f9809242713e\",\"type\":\"Circle\"},{\"attributes\":{},\"id\":\"a7d7b1f6-91c4-45f6-9971-6ea5cb13da24\",\"type\":\"ResetTool\"},{\"attributes\":{\"data_source\":{\"id\":\"1df88699-e941-4d4b-a570-50276b3b8ca5\",\"type\":\"ColumnDataSource\"},\"glyph\":{\"id\":\"090488af-4c68-4528-8079-f9809242713e\",\"type\":\"Circle\"},\"hover_glyph\":null,\"muted_glyph\":null,\"nonselection_glyph\":{\"id\":\"7e9860dd-c9b9-428e-9b82-6749368a2acd\",\"type\":\"Circle\"},\"selection_glyph\":null,\"view\":{\"id\":\"17959cac-5ecb-4ab1-9803-1766d10c6fe8\",\"type\":\"CDSView\"}},\"id\":\"4cdf49e6-cd0e-4004-a22f-d582df229fdd\",\"type\":\"GlyphRenderer\"},{\"attributes\":{\"plot\":null,\"text\":\"\"},\"id\":\"cb6f9bec-7263-4c22-91e2-eb182a681d7c\",\"type\":\"Title\"},{\"attributes\":{\"source\":{\"id\":\"1df88699-e941-4d4b-a570-50276b3b8ca5\",\"type\":\"ColumnDataSource\"}},\"id\":\"17959cac-5ecb-4ab1-9803-1766d10c6fe8\",\"type\":\"CDSView\"},{\"attributes\":{\"line_width\":1.5,\"x\":{\"field\":\"x\"},\"y\":{\"field\":\"y\"}},\"id\":\"418350f8-f86d-48d7-8d43-934df2dcaea4\",\"type\":\"Line\"},{\"attributes\":{},\"id\":\"6cc6b95d-66be-4d79-ad66-f1dfa30276da\",\"type\":\"BasicTickFormatter\"},{\"attributes\":{},\"id\":\"460d8ff0-1477-4fa2-af55-3ad4c21589ae\",\"type\":\"PanTool\"},{\"attributes\":{},\"id\":\"a36313fa-75db-4236-98c6-b17999dba266\",\"type\":\"BasicTickFormatter\"},{\"attributes\":{\"callback\":null,\"data\":{\"x\":[0.0,0.0],\"y\":[-5.0,5.0]},\"selected\":{\"id\":\"ee23be34-4a25-479e-a639-7fad20ad3996\",\"type\":\"Selection\"},\"selection_policy\":{\"id\":\"1bab7a20-c08b-49da-8e5c-a4af2523afbe\",\"type\":\"UnionRenderers\"}},\"id\":\"05406b37-592e-4676-822e-0f73d03e4f6b\",\"type\":\"ColumnDataSource\"},{\"attributes\":{},\"id\":\"29f4ea96-2d32-49ad-bd9e-75f44e9ac78d\",\"type\":\"Selection\"},{\"attributes\":{\"callback\":null,\"data\":{},\"selected\":{\"id\":\"f97e940d-e861-4170-b918-4a7ccb39b3e2\",\"type\":\"Selection\"},\"selection_policy\":{\"id\":\"91194c67-fe69-465b-b43c-72c2744143fa\",\"type\":\"UnionRenderers\"}},\"id\":\"b17447b3-999c-4228-a937-a6d77736b53c\",\"type\":\"ColumnDataSource\"},{\"attributes\":{\"end\":{\"id\":\"ed5371c9-01f2-4f10-b6b7-0e56a237045d\",\"type\":\"NormalHead\"},\"line_alpha\":{\"value\":0.2},\"line_color\":{\"value\":\"orange\"},\"line_width\":{\"value\":3},\"plot\":{\"id\":\"59b435c0-e139-46d2-bd76-06560f658723\",\"subtype\":\"Figure\",\"type\":\"Plot\"},\"source\":null,\"start\":null,\"x_end\":{\"value\":-1.1929999999999998},\"x_start\":{\"value\":0.0},\"y_end\":{\"value\":0.8739999999999997},\"y_start\":{\"value\":0.0}},\"id\":\"10d407f1-f417-497d-819a-e89a594a37fe\",\"type\":\"Arrow\"},{\"attributes\":{},\"id\":\"1bab7a20-c08b-49da-8e5c-a4af2523afbe\",\"type\":\"UnionRenderers\"},{\"attributes\":{\"fill_alpha\":{\"value\":0.1},\"fill_color\":{\"value\":\"#1f77b4\"},\"line_alpha\":{\"value\":0.1},\"line_color\":{\"value\":\"#1f77b4\"},\"x\":{\"value\":-1.1929999999999998},\"y\":{\"value\":0.8739999999999997}},\"id\":\"535560b4-2f25-45f3-a6dc-562fff19bae9\",\"type\":\"Circle\"},{\"attributes\":{},\"id\":\"ee23be34-4a25-479e-a639-7fad20ad3996\",\"type\":\"Selection\"},{\"attributes\":{\"fill_color\":{\"value\":\"orange\"},\"line_color\":{\"value\":\"orange\"},\"x\":{\"value\":-1.1929999999999998},\"y\":{\"value\":0.8739999999999997}},\"id\":\"86b09ff3-5010-4da8-85fe-5def21b8d5f9\",\"type\":\"Circle\"},{\"attributes\":{},\"id\":\"91194c67-fe69-465b-b43c-72c2744143fa\",\"type\":\"UnionRenderers\"},{\"attributes\":{\"data_source\":{\"id\":\"b17447b3-999c-4228-a937-a6d77736b53c\",\"type\":\"ColumnDataSource\"},\"glyph\":{\"id\":\"86b09ff3-5010-4da8-85fe-5def21b8d5f9\",\"type\":\"Circle\"},\"hover_glyph\":null,\"muted_glyph\":null,\"nonselection_glyph\":{\"id\":\"535560b4-2f25-45f3-a6dc-562fff19bae9\",\"type\":\"Circle\"},\"selection_glyph\":null,\"view\":{\"id\":\"090c2c55-3b8d-4553-ad62-b3ef463726d4\",\"type\":\"CDSView\"}},\"id\":\"764844a1-7a78-40cc-b242-3ffbb99e1947\",\"type\":\"GlyphRenderer\"},{\"attributes\":{},\"id\":\"f97e940d-e861-4170-b918-4a7ccb39b3e2\",\"type\":\"Selection\"},{\"attributes\":{\"source\":{\"id\":\"b17447b3-999c-4228-a937-a6d77736b53c\",\"type\":\"ColumnDataSource\"}},\"id\":\"090c2c55-3b8d-4553-ad62-b3ef463726d4\",\"type\":\"CDSView\"},{\"attributes\":{},\"id\":\"4b2a9fd3-8466-4152-aaf5-7b7712d52098\",\"type\":\"UnionRenderers\"},{\"attributes\":{\"fill_alpha\":{\"value\":0.2},\"fill_color\":{\"value\":\"orange\"},\"line_alpha\":{\"value\":0.2},\"line_color\":{\"value\":\"orange\"},\"plot\":null,\"size\":10},\"id\":\"86f6bcf9-db3b-4540-9b62-8589e727cc41\",\"type\":\"NormalHead\"},{\"attributes\":{},\"id\":\"919e7c08-f2f4-4f8f-8648-85c8263f2294\",\"type\":\"Selection\"},{\"attributes\":{\"end\":{\"id\":\"86f6bcf9-db3b-4540-9b62-8589e727cc41\",\"type\":\"NormalHead\"},\"line_alpha\":{\"value\":0.2},\"line_color\":{\"value\":\"orange\"},\"line_width\":{\"value\":3},\"plot\":{\"id\":\"59b435c0-e139-46d2-bd76-06560f658723\",\"subtype\":\"Figure\",\"type\":\"Plot\"},\"source\":null,\"start\":null,\"x_end\":{\"value\":0.17700000000000005},\"x_start\":{\"value\":0.0},\"y_end\":{\"value\":-1.6360000000000003},\"y_start\":{\"value\":0.0}},\"id\":\"1123cec9-2924-4bb6-bd65-afb18c1b13c5\",\"type\":\"Arrow\"},{\"attributes\":{},\"id\":\"2b6b5059-e7a7-4af6-b88f-ea1e8d2b5b3f\",\"type\":\"UnionRenderers\"},{\"attributes\":{\"callback\":null,\"data\":{},\"selected\":{\"id\":\"919e7c08-f2f4-4f8f-8648-85c8263f2294\",\"type\":\"Selection\"},\"selection_policy\":{\"id\":\"4b2a9fd3-8466-4152-aaf5-7b7712d52098\",\"type\":\"UnionRenderers\"}},\"id\":\"6f6fcc3e-f985-4f34-b98d-782851d4e4be\",\"type\":\"ColumnDataSource\"},{\"attributes\":{},\"id\":\"c185a4f6-6bea-429f-b897-5f23f5e43cde\",\"type\":\"Selection\"},{\"attributes\":{\"fill_alpha\":{\"value\":0.1},\"fill_color\":{\"value\":\"#1f77b4\"},\"line_alpha\":{\"value\":0.1},\"line_color\":{\"value\":\"#1f77b4\"},\"x\":{\"value\":0.17700000000000005},\"y\":{\"value\":-1.6360000000000003}},\"id\":\"6c6e4ba3-1652-4d24-b291-6cc15306ec12\",\"type\":\"Circle\"},{\"attributes\":{},\"id\":\"63bf9421-5d41-4476-b4d5-80d4a923d457\",\"type\":\"UnionRenderers\"},{\"attributes\":{\"formatter\":{\"id\":\"a36313fa-75db-4236-98c6-b17999dba266\",\"type\":\"BasicTickFormatter\"},\"plot\":{\"id\":\"59b435c0-e139-46d2-bd76-06560f658723\",\"subtype\":\"Figure\",\"type\":\"Plot\"},\"ticker\":{\"id\":\"b97f9376-2306-46f5-9ebb-604166f2853f\",\"type\":\"BasicTicker\"}},\"id\":\"a445b447-0155-4331-bd6e-aee0993fb6ce\",\"type\":\"LinearAxis\"},{\"attributes\":{\"callback\":null,\"end\":3.5,\"start\":-3.5},\"id\":\"29bdd27d-2e1c-4d3a-95d8-823ecbd52df0\",\"type\":\"Range1d\"},{\"attributes\":{\"fill_color\":{\"value\":\"orange\"},\"line_color\":{\"value\":\"orange\"},\"x\":{\"value\":0.17700000000000005},\"y\":{\"value\":-1.6360000000000003}},\"id\":\"784d5411-1da8-40d4-bfdc-fa43df0325ac\",\"type\":\"Circle\"},{\"attributes\":{},\"id\":\"2bcbb2f1-b236-4227-96a9-3dce8d7d4c8b\",\"type\":\"Selection\"},{\"attributes\":{\"data_source\":{\"id\":\"6f6fcc3e-f985-4f34-b98d-782851d4e4be\",\"type\":\"ColumnDataSource\"},\"glyph\":{\"id\":\"784d5411-1da8-40d4-bfdc-fa43df0325ac\",\"type\":\"Circle\"},\"hover_glyph\":null,\"muted_glyph\":null,\"nonselection_glyph\":{\"id\":\"6c6e4ba3-1652-4d24-b291-6cc15306ec12\",\"type\":\"Circle\"},\"selection_glyph\":null,\"view\":{\"id\":\"170788cf-4611-4686-871a-d17befcea35b\",\"type\":\"CDSView\"}},\"id\":\"acacf2fe-473b-45b3-b5c0-40275b4e4dc8\",\"type\":\"GlyphRenderer\"},{\"attributes\":{},\"id\":\"59594a3d-0207-4280-851d-1e0c5697c0ec\",\"type\":\"UnionRenderers\"},{\"attributes\":{\"source\":{\"id\":\"6f6fcc3e-f985-4f34-b98d-782851d4e4be\",\"type\":\"ColumnDataSource\"}},\"id\":\"170788cf-4611-4686-871a-d17befcea35b\",\"type\":\"CDSView\"},{\"attributes\":{},\"id\":\"65fb7195-6166-44d3-9a1d-34b7e2282119\",\"type\":\"Selection\"},{\"attributes\":{\"fill_alpha\":{\"value\":0.2},\"fill_color\":{\"value\":\"orange\"},\"line_alpha\":{\"value\":0.2},\"line_color\":{\"value\":\"orange\"},\"plot\":null,\"size\":10},\"id\":\"9219e69d-b4bd-49f8-84ac-1a20278088d0\",\"type\":\"NormalHead\"},{\"attributes\":{},\"id\":\"b429ec62-fd5c-436d-bd9e-0dc35b5354d9\",\"type\":\"UnionRenderers\"},{\"attributes\":{\"end\":{\"id\":\"9219e69d-b4bd-49f8-84ac-1a20278088d0\",\"type\":\"NormalHead\"},\"line_alpha\":{\"value\":0.2},\"line_color\":{\"value\":\"orange\"},\"line_width\":{\"value\":3},\"plot\":{\"id\":\"59b435c0-e139-46d2-bd76-06560f658723\",\"subtype\":\"Figure\",\"type\":\"Plot\"},\"source\":null,\"start\":null,\"x_end\":{\"value\":-0.6829999999999998},\"x_start\":{\"value\":0.0},\"y_end\":{\"value\":1.524},\"y_start\":{\"value\":0.0}},\"id\":\"940063e2-ea31-4034-9a9b-bf814104ab24\",\"type\":\"Arrow\"},{\"attributes\":{},\"id\":\"be9e57c4-bc00-4c55-82db-018db0b62ad4\",\"type\":\"Selection\"},{\"attributes\":{\"callback\":null,\"data\":{},\"selected\":{\"id\":\"c185a4f6-6bea-429f-b897-5f23f5e43cde\",\"type\":\"Selection\"},\"selection_policy\":{\"id\":\"2b6b5059-e7a7-4af6-b88f-ea1e8d2b5b3f\",\"type\":\"UnionRenderers\"}},\"id\":\"dfa2b02d-cfdb-4970-9f22-674ac777a522\",\"type\":\"ColumnDataSource\"},{\"attributes\":{},\"id\":\"0e06673d-1130-4816-9c4e-d55ee2adcc65\",\"type\":\"UnionRenderers\"},{\"attributes\":{\"fill_alpha\":{\"value\":0.1},\"fill_color\":{\"value\":\"#1f77b4\"},\"line_alpha\":{\"value\":0.1},\"line_color\":{\"value\":\"#1f77b4\"},\"x\":{\"value\":-0.6829999999999998},\"y\":{\"value\":1.524}},\"id\":\"8acb3669-b31c-4bef-8e1a-1c27cfd03168\",\"type\":\"Circle\"},{\"attributes\":{},\"id\":\"36123d0d-1a92-41ef-9132-0135a37b7698\",\"type\":\"Selection\"},{\"attributes\":{\"fill_color\":{\"value\":\"orange\"},\"line_color\":{\"value\":\"orange\"},\"x\":{\"value\":-0.6829999999999998},\"y\":{\"value\":1.524}},\"id\":\"954f0bca-9a18-44e3-b7dc-c977812965ce\",\"type\":\"Circle\"},{\"attributes\":{},\"id\":\"e32d6ea9-bcc9-40bf-a9cb-0c151b111ed4\",\"type\":\"UnionRenderers\"},{\"attributes\":{\"data_source\":{\"id\":\"dfa2b02d-cfdb-4970-9f22-674ac777a522\",\"type\":\"ColumnDataSource\"},\"glyph\":{\"id\":\"954f0bca-9a18-44e3-b7dc-c977812965ce\",\"type\":\"Circle\"},\"hover_glyph\":null,\"muted_glyph\":null,\"nonselection_glyph\":{\"id\":\"8acb3669-b31c-4bef-8e1a-1c27cfd03168\",\"type\":\"Circle\"},\"selection_glyph\":null,\"view\":{\"id\":\"bf216e3d-1ac4-4dca-869c-4204a43a12f3\",\"type\":\"CDSView\"}},\"id\":\"7f9b3a0e-65ce-4969-bb5a-61a9d2c9ea8b\",\"type\":\"GlyphRenderer\"},{\"attributes\":{},\"id\":\"ca84e31b-cf37-4378-bcfe-9331a6d971a1\",\"type\":\"Selection\"},{\"attributes\":{\"source\":{\"id\":\"dfa2b02d-cfdb-4970-9f22-674ac777a522\",\"type\":\"ColumnDataSource\"}},\"id\":\"bf216e3d-1ac4-4dca-869c-4204a43a12f3\",\"type\":\"CDSView\"},{\"attributes\":{},\"id\":\"cf0dd74d-5c5c-453d-9b8d-2aa9c784c37c\",\"type\":\"UnionRenderers\"},{\"attributes\":{\"fill_alpha\":{\"value\":0.2},\"fill_color\":{\"value\":\"orange\"},\"line_alpha\":{\"value\":0.2},\"line_color\":{\"value\":\"orange\"},\"plot\":null,\"size\":10},\"id\":\"a771eb50-0e38-43fd-a3f0-4c7e29f82048\",\"type\":\"NormalHead\"},{\"attributes\":{},\"id\":\"a9b1c4db-3296-42d3-a99c-37f385a47c38\",\"type\":\"Selection\"},{\"attributes\":{\"end\":{\"id\":\"a771eb50-0e38-43fd-a3f0-4c7e29f82048\",\"type\":\"NormalHead\"},\"line_alpha\":{\"value\":0.2},\"line_color\":{\"value\":\"orange\"},\"line_width\":{\"value\":3},\"plot\":{\"id\":\"59b435c0-e139-46d2-bd76-06560f658723\",\"subtype\":\"Figure\",\"type\":\"Plot\"},\"source\":null,\"start\":null,\"x_end\":{\"value\":-2.533},\"x_start\":{\"value\":0.0},\"y_end\":{\"value\":-0.5560000000000005},\"y_start\":{\"value\":0.0}},\"id\":\"f21df034-aeac-41e0-bc1d-b6ee054f6d3f\",\"type\":\"Arrow\"},{\"attributes\":{},\"id\":\"373a16b8-0c36-43ac-8b91-6a4a27250974\",\"type\":\"UnionRenderers\"},{\"attributes\":{\"callback\":null,\"data\":{},\"selected\":{\"id\":\"2bcbb2f1-b236-4227-96a9-3dce8d7d4c8b\",\"type\":\"Selection\"},\"selection_policy\":{\"id\":\"63bf9421-5d41-4476-b4d5-80d4a923d457\",\"type\":\"UnionRenderers\"}},\"id\":\"11f30c7b-3f94-4767-b177-751969d07490\",\"type\":\"ColumnDataSource\"},{\"attributes\":{},\"id\":\"c630d5e3-c975-4dca-a015-43f3043576bd\",\"type\":\"Selection\"},{\"attributes\":{\"fill_alpha\":{\"value\":0.1},\"fill_color\":{\"value\":\"#1f77b4\"},\"line_alpha\":{\"value\":0.1},\"line_color\":{\"value\":\"#1f77b4\"},\"x\":{\"value\":-2.533},\"y\":{\"value\":-0.5560000000000005}},\"id\":\"6ba1570e-e556-4f97-91a4-aa949c256c27\",\"type\":\"Circle\"},{\"attributes\":{\"fill_color\":{\"value\":\"orange\"},\"line_color\":{\"value\":\"orange\"},\"x\":{\"value\":-2.533},\"y\":{\"value\":-0.5560000000000005}},\"id\":\"5f12d693-5f17-4c48-a074-7f40b92aa60c\",\"type\":\"Circle\"},{\"attributes\":{\"line_width\":1.5,\"x\":{\"field\":\"x\"},\"y\":{\"field\":\"y\"}},\"id\":\"924e08d6-d9c3-4a72-a825-176e06b207f7\",\"type\":\"Line\"},{\"attributes\":{\"data_source\":{\"id\":\"11f30c7b-3f94-4767-b177-751969d07490\",\"type\":\"ColumnDataSource\"},\"glyph\":{\"id\":\"5f12d693-5f17-4c48-a074-7f40b92aa60c\",\"type\":\"Circle\"},\"hover_glyph\":null,\"muted_glyph\":null,\"nonselection_glyph\":{\"id\":\"6ba1570e-e556-4f97-91a4-aa949c256c27\",\"type\":\"Circle\"},\"selection_glyph\":null,\"view\":{\"id\":\"1a733385-fadf-403a-b3ae-654c8b1d3ce3\",\"type\":\"CDSView\"}},\"id\":\"5b3c6558-85a2-4743-8bf6-e6889015d66b\",\"type\":\"GlyphRenderer\"},{\"attributes\":{\"source\":{\"id\":\"11f30c7b-3f94-4767-b177-751969d07490\",\"type\":\"ColumnDataSource\"}},\"id\":\"1a733385-fadf-403a-b3ae-654c8b1d3ce3\",\"type\":\"CDSView\"},{\"attributes\":{\"fill_alpha\":{\"value\":0.2},\"fill_color\":{\"value\":\"orange\"},\"line_alpha\":{\"value\":0.2},\"line_color\":{\"value\":\"orange\"},\"plot\":null,\"size\":10},\"id\":\"1ab674a9-ab55-49a1-a7c2-ad7172ab6000\",\"type\":\"NormalHead\"},{\"attributes\":{\"end\":{\"id\":\"1ab674a9-ab55-49a1-a7c2-ad7172ab6000\",\"type\":\"NormalHead\"},\"line_alpha\":{\"value\":0.2},\"line_color\":{\"value\":\"orange\"},\"line_width\":{\"value\":3},\"plot\":{\"id\":\"59b435c0-e139-46d2-bd76-06560f658723\",\"subtype\":\"Figure\",\"type\":\"Plot\"},\"source\":null,\"start\":null,\"x_end\":{\"value\":1.1669999999999998},\"x_start\":{\"value\":0.0},\"y_end\":{\"value\":-0.9960000000000004},\"y_start\":{\"value\":0.0}},\"id\":\"d5cd3e1d-a71f-4117-a59f-eddae19b8fd3\",\"type\":\"Arrow\"},{\"attributes\":{\"callback\":null,\"data\":{},\"selected\":{\"id\":\"65fb7195-6166-44d3-9a1d-34b7e2282119\",\"type\":\"Selection\"},\"selection_policy\":{\"id\":\"59594a3d-0207-4280-851d-1e0c5697c0ec\",\"type\":\"UnionRenderers\"}},\"id\":\"c4af5c27-9ed6-4f97-abe2-fccdd4c4d4c5\",\"type\":\"ColumnDataSource\"},{\"attributes\":{\"fill_alpha\":{\"value\":0.1},\"fill_color\":{\"value\":\"#1f77b4\"},\"line_alpha\":{\"value\":0.1},\"line_color\":{\"value\":\"#1f77b4\"},\"x\":{\"value\":1.1669999999999998},\"y\":{\"value\":-0.9960000000000004}},\"id\":\"2e7af012-4b61-4419-a3e6-7560db5263c3\",\"type\":\"Circle\"},{\"attributes\":{\"fill_color\":{\"value\":\"orange\"},\"line_color\":{\"value\":\"orange\"},\"x\":{\"value\":1.1669999999999998},\"y\":{\"value\":-0.9960000000000004}},\"id\":\"f806399f-15a3-42da-86da-da5fa4774857\",\"type\":\"Circle\"},{\"attributes\":{\"data_source\":{\"id\":\"c4af5c27-9ed6-4f97-abe2-fccdd4c4d4c5\",\"type\":\"ColumnDataSource\"},\"glyph\":{\"id\":\"f806399f-15a3-42da-86da-da5fa4774857\",\"type\":\"Circle\"},\"hover_glyph\":null,\"muted_glyph\":null,\"nonselection_glyph\":{\"id\":\"2e7af012-4b61-4419-a3e6-7560db5263c3\",\"type\":\"Circle\"},\"selection_glyph\":null,\"view\":{\"id\":\"c1d5dc0f-9e18-4293-91db-dd92986a1fc1\",\"type\":\"CDSView\"}},\"id\":\"5dca347c-fa87-43d3-899e-99e033827afd\",\"type\":\"GlyphRenderer\"},{\"attributes\":{\"source\":{\"id\":\"c4af5c27-9ed6-4f97-abe2-fccdd4c4d4c5\",\"type\":\"ColumnDataSource\"}},\"id\":\"c1d5dc0f-9e18-4293-91db-dd92986a1fc1\",\"type\":\"CDSView\"},{\"attributes\":{\"fill_alpha\":{\"value\":0.2},\"fill_color\":{\"value\":\"orange\"},\"line_alpha\":{\"value\":0.2},\"line_color\":{\"value\":\"orange\"},\"plot\":null,\"size\":10},\"id\":\"91d568fc-5c16-480b-9475-23b8e6ca409d\",\"type\":\"NormalHead\"},{\"attributes\":{\"end\":{\"id\":\"91d568fc-5c16-480b-9475-23b8e6ca409d\",\"type\":\"NormalHead\"},\"line_alpha\":{\"value\":0.2},\"line_color\":{\"value\":\"orange\"},\"line_width\":{\"value\":3},\"plot\":{\"id\":\"59b435c0-e139-46d2-bd76-06560f658723\",\"subtype\":\"Figure\",\"type\":\"Plot\"},\"source\":null,\"start\":null,\"x_end\":{\"value\":-0.7829999999999999},\"x_start\":{\"value\":0.0},\"y_end\":{\"value\":-0.2160000000000002},\"y_start\":{\"value\":0.0}},\"id\":\"202ddf2c-0362-4413-a258-e6254e5e6496\",\"type\":\"Arrow\"},{\"attributes\":{\"callback\":null,\"data\":{},\"selected\":{\"id\":\"be9e57c4-bc00-4c55-82db-018db0b62ad4\",\"type\":\"Selection\"},\"selection_policy\":{\"id\":\"b429ec62-fd5c-436d-bd9e-0dc35b5354d9\",\"type\":\"UnionRenderers\"}},\"id\":\"04ff2086-447f-4f42-9769-8a5b8d3d578a\",\"type\":\"ColumnDataSource\"},{\"attributes\":{\"below\":[{\"id\":\"64a0b576-af93-4105-bcbd-c1feed673208\",\"type\":\"LinearAxis\"}],\"left\":[{\"id\":\"a445b447-0155-4331-bd6e-aee0993fb6ce\",\"type\":\"LinearAxis\"}],\"plot_height\":700,\"plot_width\":700,\"renderers\":[{\"id\":\"64a0b576-af93-4105-bcbd-c1feed673208\",\"type\":\"LinearAxis\"},{\"id\":\"97ea7446-ffc1-4cb7-88e1-3e687c9f8d31\",\"type\":\"Grid\"},{\"id\":\"a445b447-0155-4331-bd6e-aee0993fb6ce\",\"type\":\"LinearAxis\"},{\"id\":\"05e933cd-50cd-46e4-9b4c-31079f3b3a36\",\"type\":\"Grid\"},{\"id\":\"075864f0-9f9d-4336-899e-a7a29a10d75d\",\"type\":\"GlyphRenderer\"},{\"id\":\"acd72d13-6ca0-4c4e-b7a2-8e5ae5cd555c\",\"type\":\"GlyphRenderer\"},{\"id\":\"10d407f1-f417-497d-819a-e89a594a37fe\",\"type\":\"Arrow\"},{\"id\":\"764844a1-7a78-40cc-b242-3ffbb99e1947\",\"type\":\"GlyphRenderer\"},{\"id\":\"1123cec9-2924-4bb6-bd65-afb18c1b13c5\",\"type\":\"Arrow\"},{\"id\":\"acacf2fe-473b-45b3-b5c0-40275b4e4dc8\",\"type\":\"GlyphRenderer\"},{\"id\":\"940063e2-ea31-4034-9a9b-bf814104ab24\",\"type\":\"Arrow\"},{\"id\":\"7f9b3a0e-65ce-4969-bb5a-61a9d2c9ea8b\",\"type\":\"GlyphRenderer\"},{\"id\":\"f21df034-aeac-41e0-bc1d-b6ee054f6d3f\",\"type\":\"Arrow\"},{\"id\":\"5b3c6558-85a2-4743-8bf6-e6889015d66b\",\"type\":\"GlyphRenderer\"},{\"id\":\"d5cd3e1d-a71f-4117-a59f-eddae19b8fd3\",\"type\":\"Arrow\"},{\"id\":\"5dca347c-fa87-43d3-899e-99e033827afd\",\"type\":\"GlyphRenderer\"},{\"id\":\"202ddf2c-0362-4413-a258-e6254e5e6496\",\"type\":\"Arrow\"},{\"id\":\"1905168e-9e8a-4222-b634-9af894069ae3\",\"type\":\"GlyphRenderer\"},{\"id\":\"728e0e40-1c45-4652-84a6-ca29ab3176a3\",\"type\":\"Arrow\"},{\"id\":\"6153644e-90fe-4ade-b2c5-d38a97101ba0\",\"type\":\"GlyphRenderer\"},{\"id\":\"e704b98a-f0ad-4a54-a5bf-e451c0f74b2f\",\"type\":\"Arrow\"},{\"id\":\"938d3fb7-5f64-4827-b656-445d5ce391aa\",\"type\":\"GlyphRenderer\"},{\"id\":\"c0ed731f-7fd5-48e6-b827-3c025eff1b32\",\"type\":\"Arrow\"},{\"id\":\"fe6a1853-e8a1-4871-8e7e-e2c8cbb7e981\",\"type\":\"GlyphRenderer\"},{\"id\":\"df6d46b5-3633-4f1f-9169-eda70f32d7ce\",\"type\":\"Arrow\"},{\"id\":\"4cdf49e6-cd0e-4004-a22f-d582df229fdd\",\"type\":\"GlyphRenderer\"}],\"title\":{\"id\":\"cb6f9bec-7263-4c22-91e2-eb182a681d7c\",\"type\":\"Title\"},\"toolbar\":{\"id\":\"bb98df12-1387-4352-84f6-a4d1f2217817\",\"type\":\"Toolbar\"},\"x_range\":{\"id\":\"29bdd27d-2e1c-4d3a-95d8-823ecbd52df0\",\"type\":\"Range1d\"},\"x_scale\":{\"id\":\"d48dc1be-3937-43fd-a180-0b0411f59c29\",\"type\":\"LinearScale\"},\"y_range\":{\"id\":\"e1a60390-5270-414b-abd0-f25ed60d6214\",\"type\":\"Range1d\"},\"y_scale\":{\"id\":\"471ddc61-7208-444e-ada9-092076cd3e4a\",\"type\":\"LinearScale\"}},\"id\":\"59b435c0-e139-46d2-bd76-06560f658723\",\"subtype\":\"Figure\",\"type\":\"Plot\"},{\"attributes\":{\"fill_alpha\":{\"value\":0.1},\"fill_color\":{\"value\":\"#1f77b4\"},\"line_alpha\":{\"value\":0.1},\"line_color\":{\"value\":\"#1f77b4\"},\"x\":{\"value\":-0.7829999999999999},\"y\":{\"value\":-0.2160000000000002}},\"id\":\"1684d252-51fd-4a63-9d08-5350b21b3c4e\",\"type\":\"Circle\"},{\"attributes\":{\"fill_color\":{\"value\":\"orange\"},\"line_color\":{\"value\":\"orange\"},\"x\":{\"value\":-0.7829999999999999},\"y\":{\"value\":-0.2160000000000002}},\"id\":\"8eb9047c-cfe7-4c4a-bf69-8d6641f6bad5\",\"type\":\"Circle\"},{\"attributes\":{\"formatter\":{\"id\":\"6cc6b95d-66be-4d79-ad66-f1dfa30276da\",\"type\":\"BasicTickFormatter\"},\"plot\":{\"id\":\"59b435c0-e139-46d2-bd76-06560f658723\",\"subtype\":\"Figure\",\"type\":\"Plot\"},\"ticker\":{\"id\":\"535f41ba-d883-4a4f-8aad-c830872cd056\",\"type\":\"BasicTicker\"}},\"id\":\"64a0b576-af93-4105-bcbd-c1feed673208\",\"type\":\"LinearAxis\"},{\"attributes\":{\"data_source\":{\"id\":\"04ff2086-447f-4f42-9769-8a5b8d3d578a\",\"type\":\"ColumnDataSource\"},\"glyph\":{\"id\":\"8eb9047c-cfe7-4c4a-bf69-8d6641f6bad5\",\"type\":\"Circle\"},\"hover_glyph\":null,\"muted_glyph\":null,\"nonselection_glyph\":{\"id\":\"1684d252-51fd-4a63-9d08-5350b21b3c4e\",\"type\":\"Circle\"},\"selection_glyph\":null,\"view\":{\"id\":\"19c742e6-187f-4458-a2e5-b1f5661fe0aa\",\"type\":\"CDSView\"}},\"id\":\"1905168e-9e8a-4222-b634-9af894069ae3\",\"type\":\"GlyphRenderer\"},{\"attributes\":{\"source\":{\"id\":\"04ff2086-447f-4f42-9769-8a5b8d3d578a\",\"type\":\"ColumnDataSource\"}},\"id\":\"19c742e6-187f-4458-a2e5-b1f5661fe0aa\",\"type\":\"CDSView\"},{\"attributes\":{},\"id\":\"535f41ba-d883-4a4f-8aad-c830872cd056\",\"type\":\"BasicTicker\"},{\"attributes\":{\"fill_alpha\":{\"value\":0.2},\"fill_color\":{\"value\":\"orange\"},\"line_alpha\":{\"value\":0.2},\"line_color\":{\"value\":\"orange\"},\"plot\":null,\"size\":10},\"id\":\"68541048-6454-48fd-a862-7f8019f8fbfc\",\"type\":\"NormalHead\"},{\"attributes\":{\"end\":{\"id\":\"68541048-6454-48fd-a862-7f8019f8fbfc\",\"type\":\"NormalHead\"},\"line_alpha\":{\"value\":0.2},\"line_color\":{\"value\":\"orange\"},\"line_width\":{\"value\":3},\"plot\":{\"id\":\"59b435c0-e139-46d2-bd76-06560f658723\",\"subtype\":\"Figure\",\"type\":\"Plot\"},\"source\":null,\"start\":null,\"x_end\":{\"value\":1.3870000000000005},\"x_start\":{\"value\":0.0},\"y_end\":{\"value\":-0.7660000000000005},\"y_start\":{\"value\":0.0}},\"id\":\"728e0e40-1c45-4652-84a6-ca29ab3176a3\",\"type\":\"Arrow\"},{\"attributes\":{\"callback\":null,\"data\":{},\"selected\":{\"id\":\"36123d0d-1a92-41ef-9132-0135a37b7698\",\"type\":\"Selection\"},\"selection_policy\":{\"id\":\"0e06673d-1130-4816-9c4e-d55ee2adcc65\",\"type\":\"UnionRenderers\"}},\"id\":\"cd1b6efe-b385-4837-84e8-3f949d716c64\",\"type\":\"ColumnDataSource\"},{\"attributes\":{\"fill_alpha\":{\"value\":0.1},\"fill_color\":{\"value\":\"#1f77b4\"},\"line_alpha\":{\"value\":0.1},\"line_color\":{\"value\":\"#1f77b4\"},\"x\":{\"value\":1.3870000000000005},\"y\":{\"value\":-0.7660000000000005}},\"id\":\"0cf19bc4-5c06-40b2-b83f-02dfde755779\",\"type\":\"Circle\"},{\"attributes\":{\"line_alpha\":0.1,\"line_color\":\"#1f77b4\",\"line_width\":1.5,\"x\":{\"field\":\"x\"},\"y\":{\"field\":\"y\"}},\"id\":\"53f02f05-1879-47de-915f-02ad0440abfd\",\"type\":\"Line\"},{\"attributes\":{},\"id\":\"b97f9376-2306-46f5-9ebb-604166f2853f\",\"type\":\"BasicTicker\"},{\"attributes\":{\"fill_color\":{\"value\":\"orange\"},\"line_color\":{\"value\":\"orange\"},\"x\":{\"value\":1.3870000000000005},\"y\":{\"value\":-0.7660000000000005}},\"id\":\"9a3c1a27-6358-4115-8af7-291c48cd60d1\",\"type\":\"Circle\"},{\"attributes\":{\"data_source\":{\"id\":\"cd1b6efe-b385-4837-84e8-3f949d716c64\",\"type\":\"ColumnDataSource\"},\"glyph\":{\"id\":\"9a3c1a27-6358-4115-8af7-291c48cd60d1\",\"type\":\"Circle\"},\"hover_glyph\":null,\"muted_glyph\":null,\"nonselection_glyph\":{\"id\":\"0cf19bc4-5c06-40b2-b83f-02dfde755779\",\"type\":\"Circle\"},\"selection_glyph\":null,\"view\":{\"id\":\"65677d28-3ae8-4141-87b8-5cc42cfe313a\",\"type\":\"CDSView\"}},\"id\":\"6153644e-90fe-4ade-b2c5-d38a97101ba0\",\"type\":\"GlyphRenderer\"},{\"attributes\":{},\"id\":\"471ddc61-7208-444e-ada9-092076cd3e4a\",\"type\":\"LinearScale\"},{\"attributes\":{\"source\":{\"id\":\"cd1b6efe-b385-4837-84e8-3f949d716c64\",\"type\":\"ColumnDataSource\"}},\"id\":\"65677d28-3ae8-4141-87b8-5cc42cfe313a\",\"type\":\"CDSView\"},{\"attributes\":{\"callback\":null,\"data\":{\"x\":[-5.0,5.0],\"y\":[0.0,0.0]},\"selected\":{\"id\":\"29f4ea96-2d32-49ad-bd9e-75f44e9ac78d\",\"type\":\"Selection\"},\"selection_policy\":{\"id\":\"dc81a363-2839-464d-9d2f-dd0e8e8b702b\",\"type\":\"UnionRenderers\"}},\"id\":\"c23a1a65-59cd-4a90-a49e-8bf199f0fc49\",\"type\":\"ColumnDataSource\"},{\"attributes\":{\"fill_alpha\":{\"value\":0.2},\"fill_color\":{\"value\":\"orange\"},\"line_alpha\":{\"value\":0.2},\"line_color\":{\"value\":\"orange\"},\"plot\":null,\"size\":10},\"id\":\"8b64fc01-29d3-44c5-b3b1-47001058984b\",\"type\":\"NormalHead\"},{\"attributes\":{\"callback\":null,\"end\":3.5,\"start\":-3.5},\"id\":\"e1a60390-5270-414b-abd0-f25ed60d6214\",\"type\":\"Range1d\"},{\"attributes\":{\"end\":{\"id\":\"8b64fc01-29d3-44c5-b3b1-47001058984b\",\"type\":\"NormalHead\"},\"line_alpha\":{\"value\":0.2},\"line_color\":{\"value\":\"orange\"},\"line_width\":{\"value\":3},\"plot\":{\"id\":\"59b435c0-e139-46d2-bd76-06560f658723\",\"subtype\":\"Figure\",\"type\":\"Plot\"},\"source\":null,\"start\":null,\"x_end\":{\"value\":-0.5429999999999997},\"x_start\":{\"value\":0.0},\"y_end\":{\"value\":-0.5560000000000005},\"y_start\":{\"value\":0.0}},\"id\":\"e704b98a-f0ad-4a54-a5bf-e451c0f74b2f\",\"type\":\"Arrow\"},{\"attributes\":{},\"id\":\"d48dc1be-3937-43fd-a180-0b0411f59c29\",\"type\":\"LinearScale\"},{\"attributes\":{\"active_drag\":\"auto\",\"active_inspect\":\"auto\",\"active_multi\":null,\"active_scroll\":\"auto\",\"active_tap\":\"auto\",\"tools\":[{\"id\":\"42cacf41-1c8e-44e3-9f9a-14401380b19d\",\"type\":\"WheelZoomTool\"},{\"id\":\"460d8ff0-1477-4fa2-af55-3ad4c21589ae\",\"type\":\"PanTool\"},{\"id\":\"a7d7b1f6-91c4-45f6-9971-6ea5cb13da24\",\"type\":\"ResetTool\"}]},\"id\":\"bb98df12-1387-4352-84f6-a4d1f2217817\",\"type\":\"Toolbar\"},{\"attributes\":{\"callback\":null,\"data\":{},\"selected\":{\"id\":\"ca84e31b-cf37-4378-bcfe-9331a6d971a1\",\"type\":\"Selection\"},\"selection_policy\":{\"id\":\"e32d6ea9-bcc9-40bf-a9cb-0c151b111ed4\",\"type\":\"UnionRenderers\"}},\"id\":\"64b61c7c-1fab-483b-859f-dc6af260fcd0\",\"type\":\"ColumnDataSource\"},{\"attributes\":{\"fill_alpha\":{\"value\":0.1},\"fill_color\":{\"value\":\"#1f77b4\"},\"line_alpha\":{\"value\":0.1},\"line_color\":{\"value\":\"#1f77b4\"},\"x\":{\"value\":-0.5429999999999997},\"y\":{\"value\":-0.5560000000000005}},\"id\":\"5d6dd7a3-617e-4c8a-866b-f6927c1e2e6c\",\"type\":\"Circle\"},{\"attributes\":{\"fill_color\":{\"value\":\"orange\"},\"line_color\":{\"value\":\"orange\"},\"x\":{\"value\":-0.5429999999999997},\"y\":{\"value\":-0.5560000000000005}},\"id\":\"89e8d501-ddd8-43da-a9f9-382d6c7e0657\",\"type\":\"Circle\"},{\"attributes\":{\"data_source\":{\"id\":\"64b61c7c-1fab-483b-859f-dc6af260fcd0\",\"type\":\"ColumnDataSource\"},\"glyph\":{\"id\":\"89e8d501-ddd8-43da-a9f9-382d6c7e0657\",\"type\":\"Circle\"},\"hover_glyph\":null,\"muted_glyph\":null,\"nonselection_glyph\":{\"id\":\"5d6dd7a3-617e-4c8a-866b-f6927c1e2e6c\",\"type\":\"Circle\"},\"selection_glyph\":null,\"view\":{\"id\":\"c2c8efbb-a14b-49ae-82cc-6f9cab83b62c\",\"type\":\"CDSView\"}},\"id\":\"938d3fb7-5f64-4827-b656-445d5ce391aa\",\"type\":\"GlyphRenderer\"},{\"attributes\":{\"fill_alpha\":{\"value\":0.2},\"fill_color\":{\"value\":\"orange\"},\"line_alpha\":{\"value\":0.2},\"line_color\":{\"value\":\"orange\"},\"plot\":null,\"size\":10},\"id\":\"ed5371c9-01f2-4f10-b6b7-0e56a237045d\",\"type\":\"NormalHead\"},{\"attributes\":{\"source\":{\"id\":\"64b61c7c-1fab-483b-859f-dc6af260fcd0\",\"type\":\"ColumnDataSource\"}},\"id\":\"c2c8efbb-a14b-49ae-82cc-6f9cab83b62c\",\"type\":\"CDSView\"},{\"attributes\":{\"fill_alpha\":{\"value\":0.2},\"fill_color\":{\"value\":\"orange\"},\"line_alpha\":{\"value\":0.2},\"line_color\":{\"value\":\"orange\"},\"plot\":null,\"size\":10},\"id\":\"a7fa6d88-3ba8-4178-a626-25bb5962cba3\",\"type\":\"NormalHead\"}],\"root_ids\":[\"59b435c0-e139-46d2-bd76-06560f658723\"]},\"title\":\"Bokeh Application\",\"version\":\"0.13.0\"}};\n",
       "  var render_items = [{\"docid\":\"1a18efdc-fc9e-42d5-9793-d4a63a33bcdb\",\"roots\":{\"59b435c0-e139-46d2-bd76-06560f658723\":\"c6c5e9a3-5ada-424b-b97c-05cad862ada7\"}}];\n",
       "  root.Bokeh.embed.embed_items_notebook(docs_json, render_items);\n",
       "\n",
       "  }\n",
       "  if (root.Bokeh !== undefined) {\n",
       "    embed_document(root);\n",
       "  } else {\n",
       "    var attempts = 0;\n",
       "    var timer = setInterval(function(root) {\n",
       "      if (root.Bokeh !== undefined) {\n",
       "        embed_document(root);\n",
       "        clearInterval(timer);\n",
       "      }\n",
       "      attempts++;\n",
       "      if (attempts > 100) {\n",
       "        console.log(\"Bokeh: ERROR: Unable to run BokehJS code because BokehJS library is missing\")\n",
       "        clearInterval(timer);\n",
       "      }\n",
       "    }, 10, root)\n",
       "  }\n",
       "})(window);"
      ],
      "application/vnd.bokehjs_exec.v0+json": ""
     },
     "metadata": {
      "application/vnd.bokehjs_exec.v0+json": {
       "id": "59b435c0-e139-46d2-bd76-06560f658723"
      }
     },
     "output_type": "display_data"
    }
   ],
   "source": [
    "plot.clear().graph()\n",
    "plot.vec_w_point(X_dev,color=\"orange\",alpha=.2)\n",
    "plot.show()"
   ]
  },
  {
   "cell_type": "markdown",
   "metadata": {},
   "source": [
    "But now were are going to standardize these deviations so that they are in terms of standard deviations (i.e. standard deviations from the mean)"
   ]
  },
  {
   "cell_type": "code",
   "execution_count": 17,
   "metadata": {},
   "outputs": [
    {
     "data": {
      "text/plain": [
       "array([[-0.84890524,  0.74651367],\n",
       "       [ 0.12594822, -1.39736425],\n",
       "       [-0.48600359,  1.30170117],\n",
       "       [-1.80241155, -0.47489885],\n",
       "       [ 0.83040437, -0.85071809],\n",
       "       [-0.55716077, -0.18449308],\n",
       "       [ 0.98695018, -0.65426713],\n",
       "       [-0.38638353, -0.47489885],\n",
       "       [ 1.49928193,  1.76293387],\n",
       "       [ 0.63827997,  0.22549154]])"
      ]
     },
     "execution_count": 17,
     "metadata": {},
     "output_type": "execute_result"
    }
   ],
   "source": [
    "X_std = X_dev/np.sqrt(sigma.diagonal())\n",
    "X_std"
   ]
  },
  {
   "cell_type": "code",
   "execution_count": 18,
   "metadata": {},
   "outputs": [
    {
     "data": {
      "text/html": [
       "\n",
       "\n",
       "\n",
       "\n",
       "\n",
       "\n",
       "  <div class=\"bk-root\" id=\"754a0144-fd98-4670-9973-af95ef8a88dc\"></div>\n"
      ]
     },
     "metadata": {},
     "output_type": "display_data"
    },
    {
     "data": {
      "application/javascript": [
       "(function(root) {\n",
       "  function embed_document(root) {\n",
       "    \n",
       "  var docs_json = {\"33aa13ac-b3ec-473b-b3d0-161f4d7c1c1f\":{\"roots\":{\"references\":[{\"attributes\":{},\"id\":\"e58574b2-3e03-4613-a887-9fce95e54b1f\",\"type\":\"BasicTickFormatter\"},{\"attributes\":{\"callback\":null,\"data\":{\"x\":[0.0,0.0],\"y\":[-5.0,5.0]},\"selected\":{\"id\":\"d7b34523-e265-4845-8c69-8328c5d01750\",\"type\":\"Selection\"},\"selection_policy\":{\"id\":\"806bcbd1-a05f-4a16-a7c2-fa4e26938ea4\",\"type\":\"UnionRenderers\"}},\"id\":\"f0cb7139-fda9-42dd-878d-7c3e8392b374\",\"type\":\"ColumnDataSource\"},{\"attributes\":{\"fill_color\":{\"value\":\"green\"},\"line_color\":{\"value\":\"green\"},\"x\":{\"value\":0.638279967418158},\"y\":{\"value\":0.22549154183344575}},\"id\":\"433551b0-c202-4a79-96bf-a2862590871d\",\"type\":\"Circle\"},{\"attributes\":{\"fill_alpha\":{\"value\":0.1},\"fill_color\":{\"value\":\"#1f77b4\"},\"line_alpha\":{\"value\":0.1},\"line_color\":{\"value\":\"#1f77b4\"},\"x\":{\"value\":0.638279967418158},\"y\":{\"value\":0.22549154183344575}},\"id\":\"3e57beb7-ed4a-4bf6-ac06-44ba3b0a9a72\",\"type\":\"Circle\"},{\"attributes\":{\"data_source\":{\"id\":\"a3367417-aa3c-4331-bbab-ebc6d6a6e0a9\",\"type\":\"ColumnDataSource\"},\"glyph\":{\"id\":\"433551b0-c202-4a79-96bf-a2862590871d\",\"type\":\"Circle\"},\"hover_glyph\":null,\"muted_glyph\":null,\"nonselection_glyph\":{\"id\":\"3e57beb7-ed4a-4bf6-ac06-44ba3b0a9a72\",\"type\":\"Circle\"},\"selection_glyph\":null,\"view\":{\"id\":\"8ab11dc6-2101-4f5c-91f4-e41294c3401e\",\"type\":\"CDSView\"}},\"id\":\"d477ee41-42b7-43de-a4e8-6421c20e47f8\",\"type\":\"GlyphRenderer\"},{\"attributes\":{\"callback\":null,\"end\":3.5,\"start\":-3.5},\"id\":\"90d6e02a-f605-4ed5-b158-be83716d16b6\",\"type\":\"Range1d\"},{\"attributes\":{\"line_width\":1.5,\"x\":{\"field\":\"x\"},\"y\":{\"field\":\"y\"}},\"id\":\"e4037606-82cf-4b90-8290-54d2b531d751\",\"type\":\"Line\"},{\"attributes\":{\"end\":{\"id\":\"2cbf047e-f0e6-4025-8e82-c23df803921b\",\"type\":\"NormalHead\"},\"line_alpha\":{\"value\":0.2},\"line_color\":{\"value\":\"green\"},\"line_width\":{\"value\":3},\"plot\":{\"id\":\"df5bdfe1-5d62-45b4-a941-09cadeb244af\",\"subtype\":\"Figure\",\"type\":\"Plot\"},\"source\":null,\"start\":null,\"x_end\":{\"value\":0.638279967418158},\"x_start\":{\"value\":0.0},\"y_end\":{\"value\":0.22549154183344575},\"y_start\":{\"value\":0.0}},\"id\":\"279f61dd-026b-4bba-825e-037dbf5904fc\",\"type\":\"Arrow\"},{\"attributes\":{\"line_alpha\":0.1,\"line_color\":\"#1f77b4\",\"line_width\":1.5,\"x\":{\"field\":\"x\"},\"y\":{\"field\":\"y\"}},\"id\":\"312635c4-f12e-4a26-9b61-87dc53b3545b\",\"type\":\"Line\"},{\"attributes\":{\"source\":{\"id\":\"a3367417-aa3c-4331-bbab-ebc6d6a6e0a9\",\"type\":\"ColumnDataSource\"}},\"id\":\"8ab11dc6-2101-4f5c-91f4-e41294c3401e\",\"type\":\"CDSView\"},{\"attributes\":{\"data_source\":{\"id\":\"f0cb7139-fda9-42dd-878d-7c3e8392b374\",\"type\":\"ColumnDataSource\"},\"glyph\":{\"id\":\"e4037606-82cf-4b90-8290-54d2b531d751\",\"type\":\"Line\"},\"hover_glyph\":null,\"muted_glyph\":null,\"nonselection_glyph\":{\"id\":\"312635c4-f12e-4a26-9b61-87dc53b3545b\",\"type\":\"Line\"},\"selection_glyph\":null,\"view\":{\"id\":\"c5836a7a-48cf-47dc-bda5-f125df9416ac\",\"type\":\"CDSView\"}},\"id\":\"0ea0ba0e-18f8-49b6-b9bd-bc3fd891b38b\",\"type\":\"GlyphRenderer\"},{\"attributes\":{},\"id\":\"c86ff2ea-50a2-4c1b-b977-4ed586839a2d\",\"type\":\"PanTool\"},{\"attributes\":{\"source\":{\"id\":\"f0cb7139-fda9-42dd-878d-7c3e8392b374\",\"type\":\"ColumnDataSource\"}},\"id\":\"c5836a7a-48cf-47dc-bda5-f125df9416ac\",\"type\":\"CDSView\"},{\"attributes\":{},\"id\":\"7359dc48-c7b3-4a94-b973-7d9b4518cd3b\",\"type\":\"UnionRenderers\"},{\"attributes\":{\"plot\":null,\"text\":\"\"},\"id\":\"db88e1d7-2955-4be0-bee5-cc183a74b004\",\"type\":\"Title\"},{\"attributes\":{},\"id\":\"df20d60b-dd39-4af7-92f9-146d5c5a463f\",\"type\":\"BasicTickFormatter\"},{\"attributes\":{},\"id\":\"9ca7161e-af89-4616-8e69-9889ef1273c1\",\"type\":\"Selection\"},{\"attributes\":{\"callback\":null,\"data\":{},\"selected\":{\"id\":\"500b2fc0-45e4-43df-9f17-ce270cc75b45\",\"type\":\"Selection\"},\"selection_policy\":{\"id\":\"566177db-6754-4f25-b8c0-e88da71ba2c1\",\"type\":\"UnionRenderers\"}},\"id\":\"02bff793-5ef7-4ce6-927c-b6d9bd5ed3f4\",\"type\":\"ColumnDataSource\"},{\"attributes\":{\"callback\":null,\"data\":{},\"selected\":{\"id\":\"7d19d886-f63f-463f-8e57-1bfa3576cc93\",\"type\":\"Selection\"},\"selection_policy\":{\"id\":\"8dbb8796-7761-4868-8c79-da4f9dddf7eb\",\"type\":\"UnionRenderers\"}},\"id\":\"a3367417-aa3c-4331-bbab-ebc6d6a6e0a9\",\"type\":\"ColumnDataSource\"},{\"attributes\":{\"fill_alpha\":{\"value\":0.1},\"fill_color\":{\"value\":\"#1f77b4\"},\"line_alpha\":{\"value\":0.1},\"line_color\":{\"value\":\"#1f77b4\"},\"x\":{\"value\":-0.8489052409474495},\"y\":{\"value\":0.7465136650092108}},\"id\":\"496d8108-6d2f-41e6-9c85-3ba23e31dde6\",\"type\":\"Circle\"},{\"attributes\":{},\"id\":\"806bcbd1-a05f-4a16-a7c2-fa4e26938ea4\",\"type\":\"UnionRenderers\"},{\"attributes\":{\"fill_color\":{\"value\":\"green\"},\"line_color\":{\"value\":\"green\"},\"x\":{\"value\":-0.8489052409474495},\"y\":{\"value\":0.7465136650092108}},\"id\":\"0dac9e0e-903b-4730-987f-9f5628a90991\",\"type\":\"Circle\"},{\"attributes\":{},\"id\":\"d7b34523-e265-4845-8c69-8328c5d01750\",\"type\":\"Selection\"},{\"attributes\":{\"data_source\":{\"id\":\"02bff793-5ef7-4ce6-927c-b6d9bd5ed3f4\",\"type\":\"ColumnDataSource\"},\"glyph\":{\"id\":\"0dac9e0e-903b-4730-987f-9f5628a90991\",\"type\":\"Circle\"},\"hover_glyph\":null,\"muted_glyph\":null,\"nonselection_glyph\":{\"id\":\"496d8108-6d2f-41e6-9c85-3ba23e31dde6\",\"type\":\"Circle\"},\"selection_glyph\":null,\"view\":{\"id\":\"6765ae23-a690-40df-9ad9-42ff279b39e4\",\"type\":\"CDSView\"}},\"id\":\"ff767a30-75ec-4849-bdd6-04f0a953efdd\",\"type\":\"GlyphRenderer\"},{\"attributes\":{},\"id\":\"566177db-6754-4f25-b8c0-e88da71ba2c1\",\"type\":\"UnionRenderers\"},{\"attributes\":{\"source\":{\"id\":\"02bff793-5ef7-4ce6-927c-b6d9bd5ed3f4\",\"type\":\"ColumnDataSource\"}},\"id\":\"6765ae23-a690-40df-9ad9-42ff279b39e4\",\"type\":\"CDSView\"},{\"attributes\":{},\"id\":\"500b2fc0-45e4-43df-9f17-ce270cc75b45\",\"type\":\"Selection\"},{\"attributes\":{\"fill_alpha\":{\"value\":0.2},\"fill_color\":{\"value\":\"green\"},\"line_alpha\":{\"value\":0.2},\"line_color\":{\"value\":\"green\"},\"plot\":null,\"size\":10},\"id\":\"8cf2f117-50af-49ae-8bf2-9dfc95b1d690\",\"type\":\"NormalHead\"},{\"attributes\":{},\"id\":\"92bc4d50-e0bd-4fdd-9723-c376c93af090\",\"type\":\"UnionRenderers\"},{\"attributes\":{\"end\":{\"id\":\"8cf2f117-50af-49ae-8bf2-9dfc95b1d690\",\"type\":\"NormalHead\"},\"line_alpha\":{\"value\":0.2},\"line_color\":{\"value\":\"green\"},\"line_width\":{\"value\":3},\"plot\":{\"id\":\"df5bdfe1-5d62-45b4-a941-09cadeb244af\",\"subtype\":\"Figure\",\"type\":\"Plot\"},\"source\":null,\"start\":null,\"x_end\":{\"value\":0.12594822099555625},\"x_start\":{\"value\":0.0},\"y_end\":{\"value\":-1.3973642516648395},\"y_start\":{\"value\":0.0}},\"id\":\"4ac9826d-fcc5-43f2-8fa0-49c36ee1479f\",\"type\":\"Arrow\"},{\"attributes\":{},\"id\":\"6be43648-1560-4f9f-8622-1be5baedd3cc\",\"type\":\"Selection\"},{\"attributes\":{\"callback\":null,\"data\":{},\"selected\":{\"id\":\"6be43648-1560-4f9f-8622-1be5baedd3cc\",\"type\":\"Selection\"},\"selection_policy\":{\"id\":\"92bc4d50-e0bd-4fdd-9723-c376c93af090\",\"type\":\"UnionRenderers\"}},\"id\":\"16600957-3e6d-4c23-b3d7-79f57caf2a60\",\"type\":\"ColumnDataSource\"},{\"attributes\":{},\"id\":\"3341c381-8998-4139-bd94-c6e6557780a3\",\"type\":\"UnionRenderers\"},{\"attributes\":{\"fill_alpha\":{\"value\":0.1},\"fill_color\":{\"value\":\"#1f77b4\"},\"line_alpha\":{\"value\":0.1},\"line_color\":{\"value\":\"#1f77b4\"},\"x\":{\"value\":0.12594822099555625},\"y\":{\"value\":-1.3973642516648395}},\"id\":\"b6098c56-ba02-4d06-8280-22bc1307ea80\",\"type\":\"Circle\"},{\"attributes\":{},\"id\":\"c2c0ff6d-2f53-4fb7-a920-e6d17b8067cb\",\"type\":\"Selection\"},{\"attributes\":{\"fill_color\":{\"value\":\"green\"},\"line_color\":{\"value\":\"green\"},\"x\":{\"value\":0.12594822099555625},\"y\":{\"value\":-1.3973642516648395}},\"id\":\"263c5438-a72b-4e6a-860f-875232f088ac\",\"type\":\"Circle\"},{\"attributes\":{},\"id\":\"05fda624-633c-4fd6-8731-87b5262bd667\",\"type\":\"UnionRenderers\"},{\"attributes\":{\"data_source\":{\"id\":\"16600957-3e6d-4c23-b3d7-79f57caf2a60\",\"type\":\"ColumnDataSource\"},\"glyph\":{\"id\":\"263c5438-a72b-4e6a-860f-875232f088ac\",\"type\":\"Circle\"},\"hover_glyph\":null,\"muted_glyph\":null,\"nonselection_glyph\":{\"id\":\"b6098c56-ba02-4d06-8280-22bc1307ea80\",\"type\":\"Circle\"},\"selection_glyph\":null,\"view\":{\"id\":\"8bd4b8b6-616e-496d-8fd6-244e565e29bc\",\"type\":\"CDSView\"}},\"id\":\"b0a12c24-814e-4bf6-bcc8-dcc89bbdd806\",\"type\":\"GlyphRenderer\"},{\"attributes\":{},\"id\":\"1a911a03-b678-4f64-b214-3e697d2b0cee\",\"type\":\"Selection\"},{\"attributes\":{\"source\":{\"id\":\"16600957-3e6d-4c23-b3d7-79f57caf2a60\",\"type\":\"ColumnDataSource\"}},\"id\":\"8bd4b8b6-616e-496d-8fd6-244e565e29bc\",\"type\":\"CDSView\"},{\"attributes\":{},\"id\":\"3437eb56-dffc-4fbd-98c6-4f861d3f128c\",\"type\":\"UnionRenderers\"},{\"attributes\":{\"fill_alpha\":{\"value\":0.2},\"fill_color\":{\"value\":\"green\"},\"line_alpha\":{\"value\":0.2},\"line_color\":{\"value\":\"green\"},\"plot\":null,\"size\":10},\"id\":\"76def1b7-f8cc-4a8e-9ffe-1e203bfa23b3\",\"type\":\"NormalHead\"},{\"attributes\":{},\"id\":\"502039b3-29e2-4065-9c1f-9111a7fbf013\",\"type\":\"Selection\"},{\"attributes\":{\"source\":{\"id\":\"081b4481-94f3-491a-b0d2-f6e4b0de162a\",\"type\":\"ColumnDataSource\"}},\"id\":\"00de6c32-63e1-40ee-b7f1-97b17f5f1c7f\",\"type\":\"CDSView\"},{\"attributes\":{\"end\":{\"id\":\"76def1b7-f8cc-4a8e-9ffe-1e203bfa23b3\",\"type\":\"NormalHead\"},\"line_alpha\":{\"value\":0.2},\"line_color\":{\"value\":\"green\"},\"line_width\":{\"value\":3},\"plot\":{\"id\":\"df5bdfe1-5d62-45b4-a941-09cadeb244af\",\"subtype\":\"Figure\",\"type\":\"Plot\"},\"source\":null,\"start\":null,\"x_end\":{\"value\":-0.48600358723144},\"x_start\":{\"value\":0.0},\"y_end\":{\"value\":1.301701173311256},\"y_start\":{\"value\":0.0}},\"id\":\"bf93c010-a3e8-4d88-9457-429ddebae703\",\"type\":\"Arrow\"},{\"attributes\":{},\"id\":\"b5e75b2d-b962-4bed-930e-03c13fc9eab1\",\"type\":\"UnionRenderers\"},{\"attributes\":{\"formatter\":{\"id\":\"e58574b2-3e03-4613-a887-9fce95e54b1f\",\"type\":\"BasicTickFormatter\"},\"plot\":{\"id\":\"df5bdfe1-5d62-45b4-a941-09cadeb244af\",\"subtype\":\"Figure\",\"type\":\"Plot\"},\"ticker\":{\"id\":\"e63cc2b6-02d0-469c-b157-d4f5a0578b05\",\"type\":\"BasicTicker\"}},\"id\":\"2519f6b7-e274-4409-b237-b41c7b00b586\",\"type\":\"LinearAxis\"},{\"attributes\":{\"callback\":null,\"data\":{},\"selected\":{\"id\":\"c2c0ff6d-2f53-4fb7-a920-e6d17b8067cb\",\"type\":\"Selection\"},\"selection_policy\":{\"id\":\"3341c381-8998-4139-bd94-c6e6557780a3\",\"type\":\"UnionRenderers\"}},\"id\":\"806f1176-da90-4b6e-9230-aa407c0bb13b\",\"type\":\"ColumnDataSource\"},{\"attributes\":{},\"id\":\"37c37a0a-b8d6-4b35-839a-c29fce291571\",\"type\":\"Selection\"},{\"attributes\":{\"fill_alpha\":{\"value\":0.1},\"fill_color\":{\"value\":\"#1f77b4\"},\"line_alpha\":{\"value\":0.1},\"line_color\":{\"value\":\"#1f77b4\"},\"x\":{\"value\":-0.48600358723144},\"y\":{\"value\":1.301701173311256}},\"id\":\"0d9140bb-be3d-49f1-85b5-ad029137299b\",\"type\":\"Circle\"},{\"attributes\":{},\"id\":\"fef11e0a-0672-4d3a-bfc8-76f794d6975a\",\"type\":\"UnionRenderers\"},{\"attributes\":{\"fill_color\":{\"value\":\"green\"},\"line_color\":{\"value\":\"green\"},\"x\":{\"value\":-0.48600358723144},\"y\":{\"value\":1.301701173311256}},\"id\":\"0b9f15da-00e5-4bf8-8fe1-30c9b8e0f06b\",\"type\":\"Circle\"},{\"attributes\":{},\"id\":\"1fd91e69-30f8-4d96-91d4-4861ad86acbf\",\"type\":\"Selection\"},{\"attributes\":{\"data_source\":{\"id\":\"806f1176-da90-4b6e-9230-aa407c0bb13b\",\"type\":\"ColumnDataSource\"},\"glyph\":{\"id\":\"0b9f15da-00e5-4bf8-8fe1-30c9b8e0f06b\",\"type\":\"Circle\"},\"hover_glyph\":null,\"muted_glyph\":null,\"nonselection_glyph\":{\"id\":\"0d9140bb-be3d-49f1-85b5-ad029137299b\",\"type\":\"Circle\"},\"selection_glyph\":null,\"view\":{\"id\":\"c513d060-2e3b-40eb-9021-67f433bf39fa\",\"type\":\"CDSView\"}},\"id\":\"c8143fe0-b283-42bb-8251-4daa0665c977\",\"type\":\"GlyphRenderer\"},{\"attributes\":{},\"id\":\"3a27f92b-7d58-4033-bf1b-383d1d2ad1b1\",\"type\":\"UnionRenderers\"},{\"attributes\":{\"source\":{\"id\":\"806f1176-da90-4b6e-9230-aa407c0bb13b\",\"type\":\"ColumnDataSource\"}},\"id\":\"c513d060-2e3b-40eb-9021-67f433bf39fa\",\"type\":\"CDSView\"},{\"attributes\":{},\"id\":\"d773ea6a-02b5-4084-bd5d-ac7b05ccc977\",\"type\":\"Selection\"},{\"attributes\":{},\"id\":\"9ea92aa3-ec6d-4f53-b12a-83e4294ed2b2\",\"type\":\"ResetTool\"},{\"attributes\":{\"fill_alpha\":{\"value\":0.2},\"fill_color\":{\"value\":\"green\"},\"line_alpha\":{\"value\":0.2},\"line_color\":{\"value\":\"green\"},\"plot\":null,\"size\":10},\"id\":\"2cefe8c1-ba01-4f18-8f16-27db859579bc\",\"type\":\"NormalHead\"},{\"attributes\":{},\"id\":\"d049eb1c-a775-4c4c-bb11-b6d4fcac7ee9\",\"type\":\"UnionRenderers\"},{\"attributes\":{\"end\":{\"id\":\"2cefe8c1-ba01-4f18-8f16-27db859579bc\",\"type\":\"NormalHead\"},\"line_alpha\":{\"value\":0.2},\"line_color\":{\"value\":\"green\"},\"line_width\":{\"value\":3},\"plot\":{\"id\":\"df5bdfe1-5d62-45b4-a941-09cadeb244af\",\"subtype\":\"Figure\",\"type\":\"Plot\"},\"source\":null,\"start\":null,\"x_end\":{\"value\":-1.8024115467895134},\"x_start\":{\"value\":0.0},\"y_end\":{\"value\":-0.4748988532552881},\"y_start\":{\"value\":0.0}},\"id\":\"a0350948-27dc-4a5e-8566-8c764bf9090f\",\"type\":\"Arrow\"},{\"attributes\":{},\"id\":\"9f84ed63-f025-4640-be88-5a49d70a4846\",\"type\":\"Selection\"},{\"attributes\":{\"callback\":null,\"data\":{},\"selected\":{\"id\":\"1a911a03-b678-4f64-b214-3e697d2b0cee\",\"type\":\"Selection\"},\"selection_policy\":{\"id\":\"05fda624-633c-4fd6-8731-87b5262bd667\",\"type\":\"UnionRenderers\"}},\"id\":\"139e8611-c717-4db2-828c-a615c23552c5\",\"type\":\"ColumnDataSource\"},{\"attributes\":{},\"id\":\"8dbb8796-7761-4868-8c79-da4f9dddf7eb\",\"type\":\"UnionRenderers\"},{\"attributes\":{\"fill_alpha\":{\"value\":0.1},\"fill_color\":{\"value\":\"#1f77b4\"},\"line_alpha\":{\"value\":0.1},\"line_color\":{\"value\":\"#1f77b4\"},\"x\":{\"value\":-1.8024115467895134},\"y\":{\"value\":-0.4748988532552881}},\"id\":\"40bd180f-12a9-4c3b-a86e-1b386212f334\",\"type\":\"Circle\"},{\"attributes\":{},\"id\":\"7d19d886-f63f-463f-8e57-1bfa3576cc93\",\"type\":\"Selection\"},{\"attributes\":{\"fill_color\":{\"value\":\"green\"},\"line_color\":{\"value\":\"green\"},\"x\":{\"value\":-1.8024115467895134},\"y\":{\"value\":-0.4748988532552881}},\"id\":\"78df3e27-a8b8-4728-8354-c92ed1b0a4d6\",\"type\":\"Circle\"},{\"attributes\":{\"data_source\":{\"id\":\"139e8611-c717-4db2-828c-a615c23552c5\",\"type\":\"ColumnDataSource\"},\"glyph\":{\"id\":\"78df3e27-a8b8-4728-8354-c92ed1b0a4d6\",\"type\":\"Circle\"},\"hover_glyph\":null,\"muted_glyph\":null,\"nonselection_glyph\":{\"id\":\"40bd180f-12a9-4c3b-a86e-1b386212f334\",\"type\":\"Circle\"},\"selection_glyph\":null,\"view\":{\"id\":\"9dd0fc0e-7748-4810-b927-37e397cb1525\",\"type\":\"CDSView\"}},\"id\":\"216144bb-bd5f-46b2-8be0-629232e0a03b\",\"type\":\"GlyphRenderer\"},{\"attributes\":{\"source\":{\"id\":\"139e8611-c717-4db2-828c-a615c23552c5\",\"type\":\"ColumnDataSource\"}},\"id\":\"9dd0fc0e-7748-4810-b927-37e397cb1525\",\"type\":\"CDSView\"},{\"attributes\":{\"fill_alpha\":{\"value\":0.2},\"fill_color\":{\"value\":\"green\"},\"line_alpha\":{\"value\":0.2},\"line_color\":{\"value\":\"green\"},\"plot\":null,\"size\":10},\"id\":\"c11801bf-0ec0-4705-b2c8-54a301e9281b\",\"type\":\"NormalHead\"},{\"attributes\":{},\"id\":\"280a6b88-9f0d-4d7d-a7d9-e5c4bc49f372\",\"type\":\"LinearScale\"},{\"attributes\":{\"end\":{\"id\":\"c11801bf-0ec0-4705-b2c8-54a301e9281b\",\"type\":\"NormalHead\"},\"line_alpha\":{\"value\":0.2},\"line_color\":{\"value\":\"green\"},\"line_width\":{\"value\":3},\"plot\":{\"id\":\"df5bdfe1-5d62-45b4-a941-09cadeb244af\",\"subtype\":\"Figure\",\"type\":\"Plot\"},\"source\":null,\"start\":null,\"x_end\":{\"value\":0.8304043723266332},\"x_start\":{\"value\":0.0},\"y_end\":{\"value\":-0.8507180896443646},\"y_start\":{\"value\":0.0}},\"id\":\"65f12096-a464-4411-b02a-d40211d42324\",\"type\":\"Arrow\"},{\"attributes\":{\"callback\":null,\"data\":{},\"selected\":{\"id\":\"502039b3-29e2-4065-9c1f-9111a7fbf013\",\"type\":\"Selection\"},\"selection_policy\":{\"id\":\"3437eb56-dffc-4fbd-98c6-4f861d3f128c\",\"type\":\"UnionRenderers\"}},\"id\":\"099e6085-bde1-4c71-8293-409876289ae9\",\"type\":\"ColumnDataSource\"},{\"attributes\":{\"fill_alpha\":{\"value\":0.1},\"fill_color\":{\"value\":\"#1f77b4\"},\"line_alpha\":{\"value\":0.1},\"line_color\":{\"value\":\"#1f77b4\"},\"x\":{\"value\":0.8304043723266332},\"y\":{\"value\":-0.8507180896443646}},\"id\":\"cc9567fc-c85d-417b-9aaa-ef33cf3a34b8\",\"type\":\"Circle\"},{\"attributes\":{\"fill_color\":{\"value\":\"green\"},\"line_color\":{\"value\":\"green\"},\"x\":{\"value\":0.8304043723266332},\"y\":{\"value\":-0.8507180896443646}},\"id\":\"d22c33d2-43f9-4cbb-9b7e-57a19cb0ec13\",\"type\":\"Circle\"},{\"attributes\":{\"data_source\":{\"id\":\"099e6085-bde1-4c71-8293-409876289ae9\",\"type\":\"ColumnDataSource\"},\"glyph\":{\"id\":\"d22c33d2-43f9-4cbb-9b7e-57a19cb0ec13\",\"type\":\"Circle\"},\"hover_glyph\":null,\"muted_glyph\":null,\"nonselection_glyph\":{\"id\":\"cc9567fc-c85d-417b-9aaa-ef33cf3a34b8\",\"type\":\"Circle\"},\"selection_glyph\":null,\"view\":{\"id\":\"aae0ec89-1c7e-4fdc-abaa-97199e916d8a\",\"type\":\"CDSView\"}},\"id\":\"e00a138d-0557-4d26-bf04-fa5dd56d653b\",\"type\":\"GlyphRenderer\"},{\"attributes\":{\"source\":{\"id\":\"099e6085-bde1-4c71-8293-409876289ae9\",\"type\":\"ColumnDataSource\"}},\"id\":\"aae0ec89-1c7e-4fdc-abaa-97199e916d8a\",\"type\":\"CDSView\"},{\"attributes\":{\"fill_alpha\":{\"value\":0.2},\"fill_color\":{\"value\":\"green\"},\"line_alpha\":{\"value\":0.2},\"line_color\":{\"value\":\"green\"},\"plot\":null,\"size\":10},\"id\":\"c1e40f95-6e5e-449f-82e9-950cc535373f\",\"type\":\"NormalHead\"},{\"attributes\":{\"end\":{\"id\":\"c1e40f95-6e5e-449f-82e9-950cc535373f\",\"type\":\"NormalHead\"},\"line_alpha\":{\"value\":0.2},\"line_color\":{\"value\":\"green\"},\"line_width\":{\"value\":3},\"plot\":{\"id\":\"df5bdfe1-5d62-45b4-a941-09cadeb244af\",\"subtype\":\"Figure\",\"type\":\"Plot\"},\"source\":null,\"start\":null,\"x_end\":{\"value\":-0.5571607742345791},\"x_start\":{\"value\":0.0},\"y_end\":{\"value\":-0.18449307968191048},\"y_start\":{\"value\":0.0}},\"id\":\"f5712abf-64ef-48f9-a102-0b94abb07333\",\"type\":\"Arrow\"},{\"attributes\":{},\"id\":\"e63cc2b6-02d0-469c-b157-d4f5a0578b05\",\"type\":\"BasicTicker\"},{\"attributes\":{\"callback\":null,\"data\":{},\"selected\":{\"id\":\"37c37a0a-b8d6-4b35-839a-c29fce291571\",\"type\":\"Selection\"},\"selection_policy\":{\"id\":\"b5e75b2d-b962-4bed-930e-03c13fc9eab1\",\"type\":\"UnionRenderers\"}},\"id\":\"d4ab0d83-9374-4fe5-ba7d-789eaab96a43\",\"type\":\"ColumnDataSource\"},{\"attributes\":{\"end\":{\"id\":\"1519de75-7499-4789-a002-364756340da1\",\"type\":\"NormalHead\"},\"line_alpha\":{\"value\":0.2},\"line_color\":{\"value\":\"green\"},\"line_width\":{\"value\":3},\"plot\":{\"id\":\"df5bdfe1-5d62-45b4-a941-09cadeb244af\",\"subtype\":\"Figure\",\"type\":\"Plot\"},\"source\":null,\"start\":null,\"x_end\":{\"value\":-0.8489052409474495},\"x_start\":{\"value\":0.0},\"y_end\":{\"value\":0.7465136650092108},\"y_start\":{\"value\":0.0}},\"id\":\"870c0ab5-faa0-42e7-8732-fc1669abc571\",\"type\":\"Arrow\"},{\"attributes\":{\"fill_alpha\":{\"value\":0.1},\"fill_color\":{\"value\":\"#1f77b4\"},\"line_alpha\":{\"value\":0.1},\"line_color\":{\"value\":\"#1f77b4\"},\"x\":{\"value\":-0.5571607742345791},\"y\":{\"value\":-0.18449307968191048}},\"id\":\"1e2fd086-975a-4d94-9130-f675331a68c8\",\"type\":\"Circle\"},{\"attributes\":{\"fill_color\":{\"value\":\"green\"},\"line_color\":{\"value\":\"green\"},\"x\":{\"value\":-0.5571607742345791},\"y\":{\"value\":-0.18449307968191048}},\"id\":\"6191d37a-f99e-4576-9157-47949dd3e1a1\",\"type\":\"Circle\"},{\"attributes\":{\"data_source\":{\"id\":\"d4ab0d83-9374-4fe5-ba7d-789eaab96a43\",\"type\":\"ColumnDataSource\"},\"glyph\":{\"id\":\"6191d37a-f99e-4576-9157-47949dd3e1a1\",\"type\":\"Circle\"},\"hover_glyph\":null,\"muted_glyph\":null,\"nonselection_glyph\":{\"id\":\"1e2fd086-975a-4d94-9130-f675331a68c8\",\"type\":\"Circle\"},\"selection_glyph\":null,\"view\":{\"id\":\"067790ed-bacf-4b9c-b43b-13bc631e052f\",\"type\":\"CDSView\"}},\"id\":\"26498dc1-745e-4807-8386-69ebbbeae2bc\",\"type\":\"GlyphRenderer\"},{\"attributes\":{\"dimension\":1,\"plot\":{\"id\":\"df5bdfe1-5d62-45b4-a941-09cadeb244af\",\"subtype\":\"Figure\",\"type\":\"Plot\"},\"ticker\":{\"id\":\"3693fdd9-bc6b-42e9-ada5-10b546ce2b2e\",\"type\":\"BasicTicker\"}},\"id\":\"1d7ffd37-c4e9-4bb2-abb7-db3daecacd5b\",\"type\":\"Grid\"},{\"attributes\":{\"source\":{\"id\":\"d4ab0d83-9374-4fe5-ba7d-789eaab96a43\",\"type\":\"ColumnDataSource\"}},\"id\":\"067790ed-bacf-4b9c-b43b-13bc631e052f\",\"type\":\"CDSView\"},{\"attributes\":{\"fill_alpha\":{\"value\":0.2},\"fill_color\":{\"value\":\"green\"},\"line_alpha\":{\"value\":0.2},\"line_color\":{\"value\":\"green\"},\"plot\":null,\"size\":10},\"id\":\"7d0f141a-3a51-4b4e-931b-cccaf9a0c4cf\",\"type\":\"NormalHead\"},{\"attributes\":{\"end\":{\"id\":\"7d0f141a-3a51-4b4e-931b-cccaf9a0c4cf\",\"type\":\"NormalHead\"},\"line_alpha\":{\"value\":0.2},\"line_color\":{\"value\":\"green\"},\"line_width\":{\"value\":3},\"plot\":{\"id\":\"df5bdfe1-5d62-45b4-a941-09cadeb244af\",\"subtype\":\"Figure\",\"type\":\"Plot\"},\"source\":null,\"start\":null,\"x_end\":{\"value\":0.9869501837335397},\"x_start\":{\"value\":0.0},\"y_end\":{\"value\":-0.6542671251682564},\"y_start\":{\"value\":0.0}},\"id\":\"06658118-7563-4e9d-ba9b-1fbb62623bed\",\"type\":\"Arrow\"},{\"attributes\":{\"callback\":null,\"data\":{},\"selected\":{\"id\":\"1fd91e69-30f8-4d96-91d4-4861ad86acbf\",\"type\":\"Selection\"},\"selection_policy\":{\"id\":\"fef11e0a-0672-4d3a-bfc8-76f794d6975a\",\"type\":\"UnionRenderers\"}},\"id\":\"7906faa3-9d91-42a7-9a2f-e9ff1715dd13\",\"type\":\"ColumnDataSource\"},{\"attributes\":{\"fill_alpha\":{\"value\":0.1},\"fill_color\":{\"value\":\"#1f77b4\"},\"line_alpha\":{\"value\":0.1},\"line_color\":{\"value\":\"#1f77b4\"},\"x\":{\"value\":0.9869501837335397},\"y\":{\"value\":-0.6542671251682564}},\"id\":\"280bb7d7-eee5-4f3d-87b3-4c4f346122cd\",\"type\":\"Circle\"},{\"attributes\":{\"callback\":null,\"end\":3.5,\"start\":-3.5},\"id\":\"7ec9a141-bfd3-4e7e-8cc4-bc7acf45834d\",\"type\":\"Range1d\"},{\"attributes\":{\"fill_color\":{\"value\":\"green\"},\"line_color\":{\"value\":\"green\"},\"x\":{\"value\":0.9869501837335397},\"y\":{\"value\":-0.6542671251682564}},\"id\":\"06e4de65-49fc-4c4c-9ee3-dc74885b0e3f\",\"type\":\"Circle\"},{\"attributes\":{\"data_source\":{\"id\":\"7906faa3-9d91-42a7-9a2f-e9ff1715dd13\",\"type\":\"ColumnDataSource\"},\"glyph\":{\"id\":\"06e4de65-49fc-4c4c-9ee3-dc74885b0e3f\",\"type\":\"Circle\"},\"hover_glyph\":null,\"muted_glyph\":null,\"nonselection_glyph\":{\"id\":\"280bb7d7-eee5-4f3d-87b3-4c4f346122cd\",\"type\":\"Circle\"},\"selection_glyph\":null,\"view\":{\"id\":\"91d5ebc6-c549-43c9-aa52-c4e024bda864\",\"type\":\"CDSView\"}},\"id\":\"0e174d96-c33a-4a37-8abb-080916f2afbe\",\"type\":\"GlyphRenderer\"},{\"attributes\":{\"active_drag\":\"auto\",\"active_inspect\":\"auto\",\"active_multi\":null,\"active_scroll\":\"auto\",\"active_tap\":\"auto\",\"tools\":[{\"id\":\"2be73aaa-cfe9-42b3-a798-f9357c9b1f81\",\"type\":\"WheelZoomTool\"},{\"id\":\"c86ff2ea-50a2-4c1b-b977-4ed586839a2d\",\"type\":\"PanTool\"},{\"id\":\"9ea92aa3-ec6d-4f53-b12a-83e4294ed2b2\",\"type\":\"ResetTool\"}]},\"id\":\"588e98b1-45cb-4c12-a155-90c65129a2f8\",\"type\":\"Toolbar\"},{\"attributes\":{},\"id\":\"2be73aaa-cfe9-42b3-a798-f9357c9b1f81\",\"type\":\"WheelZoomTool\"},{\"attributes\":{\"source\":{\"id\":\"7906faa3-9d91-42a7-9a2f-e9ff1715dd13\",\"type\":\"ColumnDataSource\"}},\"id\":\"91d5ebc6-c549-43c9-aa52-c4e024bda864\",\"type\":\"CDSView\"},{\"attributes\":{\"fill_alpha\":{\"value\":0.2},\"fill_color\":{\"value\":\"green\"},\"line_alpha\":{\"value\":0.2},\"line_color\":{\"value\":\"green\"},\"plot\":null,\"size\":10},\"id\":\"50df7582-b970-443f-85af-0cd22595f996\",\"type\":\"NormalHead\"},{\"attributes\":{\"end\":{\"id\":\"50df7582-b970-443f-85af-0cd22595f996\",\"type\":\"NormalHead\"},\"line_alpha\":{\"value\":0.2},\"line_color\":{\"value\":\"green\"},\"line_width\":{\"value\":3},\"plot\":{\"id\":\"df5bdfe1-5d62-45b4-a941-09cadeb244af\",\"subtype\":\"Figure\",\"type\":\"Plot\"},\"source\":null,\"start\":null,\"x_end\":{\"value\":-0.3863835254270451},\"x_start\":{\"value\":0.0},\"y_end\":{\"value\":-0.4748988532552881},\"y_start\":{\"value\":0.0}},\"id\":\"7ee86b6a-540b-464d-a22c-64edaca28502\",\"type\":\"Arrow\"},{\"attributes\":{\"callback\":null,\"data\":{},\"selected\":{\"id\":\"d773ea6a-02b5-4084-bd5d-ac7b05ccc977\",\"type\":\"Selection\"},\"selection_policy\":{\"id\":\"3a27f92b-7d58-4033-bf1b-383d1d2ad1b1\",\"type\":\"UnionRenderers\"}},\"id\":\"6df45ab5-3764-4be9-859b-e0ae4fc47289\",\"type\":\"ColumnDataSource\"},{\"attributes\":{\"fill_alpha\":{\"value\":0.1},\"fill_color\":{\"value\":\"#1f77b4\"},\"line_alpha\":{\"value\":0.1},\"line_color\":{\"value\":\"#1f77b4\"},\"x\":{\"value\":-0.3863835254270451},\"y\":{\"value\":-0.4748988532552881}},\"id\":\"6ea18f7e-3ed9-439b-8e9d-712ea00c7f3b\",\"type\":\"Circle\"},{\"attributes\":{\"fill_color\":{\"value\":\"green\"},\"line_color\":{\"value\":\"green\"},\"x\":{\"value\":-0.3863835254270451},\"y\":{\"value\":-0.4748988532552881}},\"id\":\"134a61ec-2fba-4210-80c9-6392f187c1bc\",\"type\":\"Circle\"},{\"attributes\":{\"data_source\":{\"id\":\"6df45ab5-3764-4be9-859b-e0ae4fc47289\",\"type\":\"ColumnDataSource\"},\"glyph\":{\"id\":\"134a61ec-2fba-4210-80c9-6392f187c1bc\",\"type\":\"Circle\"},\"hover_glyph\":null,\"muted_glyph\":null,\"nonselection_glyph\":{\"id\":\"6ea18f7e-3ed9-439b-8e9d-712ea00c7f3b\",\"type\":\"Circle\"},\"selection_glyph\":null,\"view\":{\"id\":\"2eec38bb-bb43-4958-8521-b1336b12d10a\",\"type\":\"CDSView\"}},\"id\":\"82d83283-ed21-48ff-bcfe-5c99febbb0f5\",\"type\":\"GlyphRenderer\"},{\"attributes\":{\"source\":{\"id\":\"6df45ab5-3764-4be9-859b-e0ae4fc47289\",\"type\":\"ColumnDataSource\"}},\"id\":\"2eec38bb-bb43-4958-8521-b1336b12d10a\",\"type\":\"CDSView\"},{\"attributes\":{\"line_alpha\":0.1,\"line_color\":\"#1f77b4\",\"line_width\":1.5,\"x\":{\"field\":\"x\"},\"y\":{\"field\":\"y\"}},\"id\":\"fece2998-67f8-495c-9df5-01a154ea5f88\",\"type\":\"Line\"},{\"attributes\":{\"fill_alpha\":{\"value\":0.2},\"fill_color\":{\"value\":\"green\"},\"line_alpha\":{\"value\":0.2},\"line_color\":{\"value\":\"green\"},\"plot\":null,\"size\":10},\"id\":\"0772a427-186d-4cf0-b87d-341056284c05\",\"type\":\"NormalHead\"},{\"attributes\":{\"plot\":{\"id\":\"df5bdfe1-5d62-45b4-a941-09cadeb244af\",\"subtype\":\"Figure\",\"type\":\"Plot\"},\"ticker\":{\"id\":\"e63cc2b6-02d0-469c-b157-d4f5a0578b05\",\"type\":\"BasicTicker\"}},\"id\":\"7ceecc78-7907-4f61-8e17-47b925a306cd\",\"type\":\"Grid\"},{\"attributes\":{\"end\":{\"id\":\"0772a427-186d-4cf0-b87d-341056284c05\",\"type\":\"NormalHead\"},\"line_alpha\":{\"value\":0.2},\"line_color\":{\"value\":\"green\"},\"line_width\":{\"value\":3},\"plot\":{\"id\":\"df5bdfe1-5d62-45b4-a941-09cadeb244af\",\"subtype\":\"Figure\",\"type\":\"Plot\"},\"source\":null,\"start\":null,\"x_end\":{\"value\":1.499281930156141},\"x_start\":{\"value\":0.0},\"y_end\":{\"value\":1.7629338725160317},\"y_start\":{\"value\":0.0}},\"id\":\"cdc97f6b-f593-4f7c-9926-7067353459b3\",\"type\":\"Arrow\"},{\"attributes\":{\"line_width\":1.5,\"x\":{\"field\":\"x\"},\"y\":{\"field\":\"y\"}},\"id\":\"dd88d620-75d3-468d-bb6a-c1cdf8b41c0a\",\"type\":\"Line\"},{\"attributes\":{\"callback\":null,\"data\":{},\"selected\":{\"id\":\"9f84ed63-f025-4640-be88-5a49d70a4846\",\"type\":\"Selection\"},\"selection_policy\":{\"id\":\"d049eb1c-a775-4c4c-bb11-b6d4fcac7ee9\",\"type\":\"UnionRenderers\"}},\"id\":\"55208582-c050-4178-aa6b-2cc1f33b5fdf\",\"type\":\"ColumnDataSource\"},{\"attributes\":{\"fill_alpha\":{\"value\":0.1},\"fill_color\":{\"value\":\"#1f77b4\"},\"line_alpha\":{\"value\":0.1},\"line_color\":{\"value\":\"#1f77b4\"},\"x\":{\"value\":1.499281930156141},\"y\":{\"value\":1.7629338725160317}},\"id\":\"2b6a15d1-daa5-4827-8b1a-c95256341bd5\",\"type\":\"Circle\"},{\"attributes\":{\"fill_alpha\":{\"value\":0.2},\"fill_color\":{\"value\":\"green\"},\"line_alpha\":{\"value\":0.2},\"line_color\":{\"value\":\"green\"},\"plot\":null,\"size\":10},\"id\":\"1519de75-7499-4789-a002-364756340da1\",\"type\":\"NormalHead\"},{\"attributes\":{\"fill_color\":{\"value\":\"green\"},\"line_color\":{\"value\":\"green\"},\"x\":{\"value\":1.499281930156141},\"y\":{\"value\":1.7629338725160317}},\"id\":\"95f15151-f5e8-4636-aaa0-462122ec8aaf\",\"type\":\"Circle\"},{\"attributes\":{},\"id\":\"3693fdd9-bc6b-42e9-ada5-10b546ce2b2e\",\"type\":\"BasicTicker\"},{\"attributes\":{\"data_source\":{\"id\":\"55208582-c050-4178-aa6b-2cc1f33b5fdf\",\"type\":\"ColumnDataSource\"},\"glyph\":{\"id\":\"95f15151-f5e8-4636-aaa0-462122ec8aaf\",\"type\":\"Circle\"},\"hover_glyph\":null,\"muted_glyph\":null,\"nonselection_glyph\":{\"id\":\"2b6a15d1-daa5-4827-8b1a-c95256341bd5\",\"type\":\"Circle\"},\"selection_glyph\":null,\"view\":{\"id\":\"ac073f46-64e0-41e6-ab5f-7b75973c85eb\",\"type\":\"CDSView\"}},\"id\":\"f633f793-9f99-410c-9f7c-200c5917dc92\",\"type\":\"GlyphRenderer\"},{\"attributes\":{\"formatter\":{\"id\":\"df20d60b-dd39-4af7-92f9-146d5c5a463f\",\"type\":\"BasicTickFormatter\"},\"plot\":{\"id\":\"df5bdfe1-5d62-45b4-a941-09cadeb244af\",\"subtype\":\"Figure\",\"type\":\"Plot\"},\"ticker\":{\"id\":\"3693fdd9-bc6b-42e9-ada5-10b546ce2b2e\",\"type\":\"BasicTicker\"}},\"id\":\"186ab3ee-8558-47de-9239-b3cf39d56c0f\",\"type\":\"LinearAxis\"},{\"attributes\":{},\"id\":\"bb9e6d44-3f59-4570-a6c2-515871f0e577\",\"type\":\"LinearScale\"},{\"attributes\":{\"source\":{\"id\":\"55208582-c050-4178-aa6b-2cc1f33b5fdf\",\"type\":\"ColumnDataSource\"}},\"id\":\"ac073f46-64e0-41e6-ab5f-7b75973c85eb\",\"type\":\"CDSView\"},{\"attributes\":{\"data_source\":{\"id\":\"081b4481-94f3-491a-b0d2-f6e4b0de162a\",\"type\":\"ColumnDataSource\"},\"glyph\":{\"id\":\"dd88d620-75d3-468d-bb6a-c1cdf8b41c0a\",\"type\":\"Line\"},\"hover_glyph\":null,\"muted_glyph\":null,\"nonselection_glyph\":{\"id\":\"fece2998-67f8-495c-9df5-01a154ea5f88\",\"type\":\"Line\"},\"selection_glyph\":null,\"view\":{\"id\":\"00de6c32-63e1-40ee-b7f1-97b17f5f1c7f\",\"type\":\"CDSView\"}},\"id\":\"8c251b8a-3199-4ff9-8c2e-d993acbaba7f\",\"type\":\"GlyphRenderer\"},{\"attributes\":{\"fill_alpha\":{\"value\":0.2},\"fill_color\":{\"value\":\"green\"},\"line_alpha\":{\"value\":0.2},\"line_color\":{\"value\":\"green\"},\"plot\":null,\"size\":10},\"id\":\"2cbf047e-f0e6-4025-8e82-c23df803921b\",\"type\":\"NormalHead\"},{\"attributes\":{\"callback\":null,\"data\":{\"x\":[-5.0,5.0],\"y\":[0.0,0.0]},\"selected\":{\"id\":\"9ca7161e-af89-4616-8e69-9889ef1273c1\",\"type\":\"Selection\"},\"selection_policy\":{\"id\":\"7359dc48-c7b3-4a94-b973-7d9b4518cd3b\",\"type\":\"UnionRenderers\"}},\"id\":\"081b4481-94f3-491a-b0d2-f6e4b0de162a\",\"type\":\"ColumnDataSource\"},{\"attributes\":{\"below\":[{\"id\":\"2519f6b7-e274-4409-b237-b41c7b00b586\",\"type\":\"LinearAxis\"}],\"left\":[{\"id\":\"186ab3ee-8558-47de-9239-b3cf39d56c0f\",\"type\":\"LinearAxis\"}],\"plot_height\":700,\"plot_width\":700,\"renderers\":[{\"id\":\"2519f6b7-e274-4409-b237-b41c7b00b586\",\"type\":\"LinearAxis\"},{\"id\":\"7ceecc78-7907-4f61-8e17-47b925a306cd\",\"type\":\"Grid\"},{\"id\":\"186ab3ee-8558-47de-9239-b3cf39d56c0f\",\"type\":\"LinearAxis\"},{\"id\":\"1d7ffd37-c4e9-4bb2-abb7-db3daecacd5b\",\"type\":\"Grid\"},{\"id\":\"8c251b8a-3199-4ff9-8c2e-d993acbaba7f\",\"type\":\"GlyphRenderer\"},{\"id\":\"0ea0ba0e-18f8-49b6-b9bd-bc3fd891b38b\",\"type\":\"GlyphRenderer\"},{\"id\":\"870c0ab5-faa0-42e7-8732-fc1669abc571\",\"type\":\"Arrow\"},{\"id\":\"ff767a30-75ec-4849-bdd6-04f0a953efdd\",\"type\":\"GlyphRenderer\"},{\"id\":\"4ac9826d-fcc5-43f2-8fa0-49c36ee1479f\",\"type\":\"Arrow\"},{\"id\":\"b0a12c24-814e-4bf6-bcc8-dcc89bbdd806\",\"type\":\"GlyphRenderer\"},{\"id\":\"bf93c010-a3e8-4d88-9457-429ddebae703\",\"type\":\"Arrow\"},{\"id\":\"c8143fe0-b283-42bb-8251-4daa0665c977\",\"type\":\"GlyphRenderer\"},{\"id\":\"a0350948-27dc-4a5e-8566-8c764bf9090f\",\"type\":\"Arrow\"},{\"id\":\"216144bb-bd5f-46b2-8be0-629232e0a03b\",\"type\":\"GlyphRenderer\"},{\"id\":\"65f12096-a464-4411-b02a-d40211d42324\",\"type\":\"Arrow\"},{\"id\":\"e00a138d-0557-4d26-bf04-fa5dd56d653b\",\"type\":\"GlyphRenderer\"},{\"id\":\"f5712abf-64ef-48f9-a102-0b94abb07333\",\"type\":\"Arrow\"},{\"id\":\"26498dc1-745e-4807-8386-69ebbbeae2bc\",\"type\":\"GlyphRenderer\"},{\"id\":\"06658118-7563-4e9d-ba9b-1fbb62623bed\",\"type\":\"Arrow\"},{\"id\":\"0e174d96-c33a-4a37-8abb-080916f2afbe\",\"type\":\"GlyphRenderer\"},{\"id\":\"7ee86b6a-540b-464d-a22c-64edaca28502\",\"type\":\"Arrow\"},{\"id\":\"82d83283-ed21-48ff-bcfe-5c99febbb0f5\",\"type\":\"GlyphRenderer\"},{\"id\":\"cdc97f6b-f593-4f7c-9926-7067353459b3\",\"type\":\"Arrow\"},{\"id\":\"f633f793-9f99-410c-9f7c-200c5917dc92\",\"type\":\"GlyphRenderer\"},{\"id\":\"279f61dd-026b-4bba-825e-037dbf5904fc\",\"type\":\"Arrow\"},{\"id\":\"d477ee41-42b7-43de-a4e8-6421c20e47f8\",\"type\":\"GlyphRenderer\"}],\"title\":{\"id\":\"db88e1d7-2955-4be0-bee5-cc183a74b004\",\"type\":\"Title\"},\"toolbar\":{\"id\":\"588e98b1-45cb-4c12-a155-90c65129a2f8\",\"type\":\"Toolbar\"},\"x_range\":{\"id\":\"90d6e02a-f605-4ed5-b158-be83716d16b6\",\"type\":\"Range1d\"},\"x_scale\":{\"id\":\"280a6b88-9f0d-4d7d-a7d9-e5c4bc49f372\",\"type\":\"LinearScale\"},\"y_range\":{\"id\":\"7ec9a141-bfd3-4e7e-8cc4-bc7acf45834d\",\"type\":\"Range1d\"},\"y_scale\":{\"id\":\"bb9e6d44-3f59-4570-a6c2-515871f0e577\",\"type\":\"LinearScale\"}},\"id\":\"df5bdfe1-5d62-45b4-a941-09cadeb244af\",\"subtype\":\"Figure\",\"type\":\"Plot\"}],\"root_ids\":[\"df5bdfe1-5d62-45b4-a941-09cadeb244af\"]},\"title\":\"Bokeh Application\",\"version\":\"0.13.0\"}};\n",
       "  var render_items = [{\"docid\":\"33aa13ac-b3ec-473b-b3d0-161f4d7c1c1f\",\"roots\":{\"df5bdfe1-5d62-45b4-a941-09cadeb244af\":\"754a0144-fd98-4670-9973-af95ef8a88dc\"}}];\n",
       "  root.Bokeh.embed.embed_items_notebook(docs_json, render_items);\n",
       "\n",
       "  }\n",
       "  if (root.Bokeh !== undefined) {\n",
       "    embed_document(root);\n",
       "  } else {\n",
       "    var attempts = 0;\n",
       "    var timer = setInterval(function(root) {\n",
       "      if (root.Bokeh !== undefined) {\n",
       "        embed_document(root);\n",
       "        clearInterval(timer);\n",
       "      }\n",
       "      attempts++;\n",
       "      if (attempts > 100) {\n",
       "        console.log(\"Bokeh: ERROR: Unable to run BokehJS code because BokehJS library is missing\")\n",
       "        clearInterval(timer);\n",
       "      }\n",
       "    }, 10, root)\n",
       "  }\n",
       "})(window);"
      ],
      "application/vnd.bokehjs_exec.v0+json": ""
     },
     "metadata": {
      "application/vnd.bokehjs_exec.v0+json": {
       "id": "df5bdfe1-5d62-45b4-a941-09cadeb244af"
      }
     },
     "output_type": "display_data"
    }
   ],
   "source": [
    "plot.clear().graph()\n",
    "plot.vec_w_point(X_std,color=\"green\",alpha=.2)\n",
    "plot.show()"
   ]
  },
  {
   "cell_type": "markdown",
   "metadata": {},
   "source": [
    "Add this step again, and put it all together..."
   ]
  },
  {
   "cell_type": "code",
   "execution_count": 19,
   "metadata": {},
   "outputs": [
    {
     "name": "stdout",
     "output_type": "stream",
     "text": [
      "Our Correlation Matrix\n",
      "[[1.    0.126]\n",
      " [0.126 1.   ]]\n"
     ]
    }
   ],
   "source": [
    "N = X.shape[0]                         # Number of observations\n",
    "X_means = (np.ones(N).dot(X))/N        # Means of each column vector\n",
    "X_std = np.sqrt(sigma.diagonal())      # Standard deviations of each column vector\n",
    "X_dev = (X - X_means)                  # Deviations from the mean\n",
    "X_std = X_dev/X_std                    # Standardize those deviations from the mean\n",
    "squared_dev = X_std.T.dot(X_std)       # Squared Deviations from the mean\n",
    "corr_matrix = (1/(N-1))*squared_dev    # Average (with df adjustment)\n",
    "\n",
    "# Print the Matrix\n",
    "print(\"Our Correlation Matrix\")\n",
    "print(corr_matrix.round(3))"
   ]
  },
  {
   "cell_type": "markdown",
   "metadata": {},
   "source": [
    "#### Using Numpy"
   ]
  },
  {
   "cell_type": "code",
   "execution_count": 20,
   "metadata": {},
   "outputs": [
    {
     "data": {
      "text/plain": [
       "array([[1.   , 0.126],\n",
       "       [0.126, 1.   ]])"
      ]
     },
     "execution_count": 20,
     "metadata": {},
     "output_type": "execute_result"
    }
   ],
   "source": [
    "np.corrcoef(X.T).round(3)"
   ]
  },
  {
   "cell_type": "markdown",
   "metadata": {},
   "source": [
    "## Another way to think about this"
   ]
  },
  {
   "cell_type": "markdown",
   "metadata": {},
   "source": [
    "We can think of the correlation is as the **angle between the centered version of our two variables**."
   ]
  },
  {
   "cell_type": "code",
   "execution_count": 21,
   "metadata": {},
   "outputs": [
    {
     "name": "stdout",
     "output_type": "stream",
     "text": [
      "\n",
      "X and Y centered\n",
      "\n",
      "[-1.193  0.177 -0.683 -2.533  1.167 -0.783  1.387 -0.543  2.107  0.897]\n",
      "[ 0.874 -1.636  1.524 -0.556 -0.996 -0.216 -0.766 -0.556  2.064  0.264]\n",
      "\n",
      "Angle between the our centered versions of X and Y\n",
      "\n",
      "0.126\n"
     ]
    }
   ],
   "source": [
    "x = X[:,0] \n",
    "y = X[:,1] \n",
    "\n",
    "x = x - x.mean()\n",
    "y = y - y.mean()\n",
    "\n",
    "print(\"\\nX and Y centered\\n\")\n",
    "print(x)\n",
    "print(y)\n",
    "\n",
    "# Cosine equation\n",
    "cosine = x.dot(y)/(la.norm(x)*la.norm(y))\n",
    "\n",
    "print(\"\\nAngle between the our centered versions of X and Y\\n\")\n",
    "print(cosine.round(3))"
   ]
  }
 ],
 "metadata": {
  "kernelspec": {
   "display_name": "Python 3",
   "language": "python",
   "name": "python3"
  },
  "language_info": {
   "codemirror_mode": {
    "name": "ipython",
    "version": 3
   },
   "file_extension": ".py",
   "mimetype": "text/x-python",
   "name": "python",
   "nbconvert_exporter": "python",
   "pygments_lexer": "ipython3",
   "version": "3.7.0"
  },
  "toc": {
   "base_numbering": 1,
   "nav_menu": {},
   "number_sections": false,
   "sideBar": false,
   "skip_h1_title": false,
   "title_cell": "Table of Contents",
   "title_sidebar": "Contents",
   "toc_cell": false,
   "toc_position": {},
   "toc_section_display": false,
   "toc_window_display": true
  }
 },
 "nbformat": 4,
 "nbformat_minor": 2
}
