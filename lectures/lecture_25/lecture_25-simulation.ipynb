{
 "cells": [
  {
   "cell_type": "markdown",
   "metadata": {},
   "source": [
    "<h1><center> PPOL564 | DS1: Foundations </center><h1>\n",
    "<h3><center> Lecture 25 <br><br><font color='grey'> \n",
    "Simulation </font></center></h3>\n",
    "\n",
    "### Today's Topics\n",
    "\n",
    "- Simulating data generating processes\n",
    "- Agent Based Models"
   ]
  },
  {
   "cell_type": "code",
   "execution_count": 1,
   "metadata": {},
   "outputs": [
    {
     "name": "stderr",
     "output_type": "stream",
     "text": [
      "/usr/local/lib/python3.7/site-packages/matplotlib/__init__.py:886: MatplotlibDeprecationWarning: \n",
      "examples.directory is deprecated; in the future, examples will be found relative to the 'datapath' directory.\n",
      "  \"found relative to the 'datapath' directory.\".format(key))\n"
     ]
    }
   ],
   "source": [
    "import pandas as pd\n",
    "import numpy as np\n",
    "import scipy.stats as st \n",
    "import matplotlib.pyplot as plt\n",
    "import seaborn as sns\n",
    "import statsmodels.formula.api as sm\n",
    "import statsmodels.discrete.discrete_model as smd\n",
    "import warnings\n",
    "import requests\n",
    "warnings.filterwarnings(\"ignore\")\n",
    "plt.style.use('ggplot')"
   ]
  },
  {
   "cell_type": "markdown",
   "metadata": {},
   "source": [
    "# Simulation "
   ]
  },
  {
   "cell_type": "markdown",
   "metadata": {},
   "source": [
    "### Simulating a data generating process for a linear model"
   ]
  },
  {
   "cell_type": "code",
   "execution_count": 2,
   "metadata": {},
   "outputs": [
    {
     "data": {
      "text/html": [
       "<div>\n",
       "<style scoped>\n",
       "    .dataframe tbody tr th:only-of-type {\n",
       "        vertical-align: middle;\n",
       "    }\n",
       "\n",
       "    .dataframe tbody tr th {\n",
       "        vertical-align: top;\n",
       "    }\n",
       "\n",
       "    .dataframe thead th {\n",
       "        text-align: right;\n",
       "    }\n",
       "</style>\n",
       "<table border=\"1\" class=\"dataframe\">\n",
       "  <thead>\n",
       "    <tr style=\"text-align: right;\">\n",
       "      <th></th>\n",
       "      <th>y</th>\n",
       "      <th>x1</th>\n",
       "      <th>x2</th>\n",
       "    </tr>\n",
       "  </thead>\n",
       "  <tbody>\n",
       "    <tr>\n",
       "      <th>0</th>\n",
       "      <td>1.226925</td>\n",
       "      <td>0.441227</td>\n",
       "      <td>0.542769</td>\n",
       "    </tr>\n",
       "    <tr>\n",
       "      <th>1</th>\n",
       "      <td>1.935195</td>\n",
       "      <td>-0.330870</td>\n",
       "      <td>0.400912</td>\n",
       "    </tr>\n",
       "    <tr>\n",
       "      <th>2</th>\n",
       "      <td>3.962403</td>\n",
       "      <td>2.430771</td>\n",
       "      <td>0.719705</td>\n",
       "    </tr>\n",
       "    <tr>\n",
       "      <th>3</th>\n",
       "      <td>1.224431</td>\n",
       "      <td>-0.252092</td>\n",
       "      <td>-0.021605</td>\n",
       "    </tr>\n",
       "    <tr>\n",
       "      <th>4</th>\n",
       "      <td>1.130109</td>\n",
       "      <td>0.109610</td>\n",
       "      <td>0.024040</td>\n",
       "    </tr>\n",
       "  </tbody>\n",
       "</table>\n",
       "</div>"
      ],
      "text/plain": [
       "          y        x1        x2\n",
       "0  1.226925  0.441227  0.542769\n",
       "1  1.935195 -0.330870  0.400912\n",
       "2  3.962403  2.430771  0.719705\n",
       "3  1.224431 -0.252092 -0.021605\n",
       "4  1.130109  0.109610  0.024040"
      ]
     },
     "execution_count": 2,
     "metadata": {},
     "output_type": "execute_result"
    }
   ],
   "source": [
    "np.random.seed(5)\n",
    "N = 1000\n",
    "x1 = np.random.normal(size=N)\n",
    "x2 = np.random.normal(size=N)\n",
    "error = np.random.normal(size=N)\n",
    "y = 1 + .5*x1 + -2*x2 + 3*x1*x2 + error\n",
    "D = pd.DataFrame(dict(y=y,x1 = x1, x2 = x2))\n",
    "D.head()"
   ]
  },
  {
   "cell_type": "code",
   "execution_count": 3,
   "metadata": {},
   "outputs": [
    {
     "data": {
      "text/html": [
       "<table class=\"simpletable\">\n",
       "<caption>OLS Regression Results</caption>\n",
       "<tr>\n",
       "  <th>Dep. Variable:</th>            <td>y</td>        <th>  R-squared:         </th> <td>   0.928</td>\n",
       "</tr>\n",
       "<tr>\n",
       "  <th>Model:</th>                   <td>OLS</td>       <th>  Adj. R-squared:    </th> <td>   0.928</td>\n",
       "</tr>\n",
       "<tr>\n",
       "  <th>Method:</th>             <td>Least Squares</td>  <th>  F-statistic:       </th> <td>   4305.</td>\n",
       "</tr>\n",
       "<tr>\n",
       "  <th>Date:</th>             <td>Wed, 04 Dec 2019</td> <th>  Prob (F-statistic):</th>  <td>  0.00</td> \n",
       "</tr>\n",
       "<tr>\n",
       "  <th>Time:</th>                 <td>07:52:27</td>     <th>  Log-Likelihood:    </th> <td> -1425.5</td>\n",
       "</tr>\n",
       "<tr>\n",
       "  <th>No. Observations:</th>      <td>  1000</td>      <th>  AIC:               </th> <td>   2859.</td>\n",
       "</tr>\n",
       "<tr>\n",
       "  <th>Df Residuals:</th>          <td>   996</td>      <th>  BIC:               </th> <td>   2879.</td>\n",
       "</tr>\n",
       "<tr>\n",
       "  <th>Df Model:</th>              <td>     3</td>      <th>                     </th>     <td> </td>   \n",
       "</tr>\n",
       "<tr>\n",
       "  <th>Covariance Type:</th>      <td>nonrobust</td>    <th>                     </th>     <td> </td>   \n",
       "</tr>\n",
       "</table>\n",
       "<table class=\"simpletable\">\n",
       "<tr>\n",
       "      <td></td>         <th>coef</th>     <th>std err</th>      <th>t</th>      <th>P>|t|</th>  <th>[0.025</th>    <th>0.975]</th>  \n",
       "</tr>\n",
       "<tr>\n",
       "  <th>Intercept</th> <td>    0.9721</td> <td>    0.032</td> <td>   30.445</td> <td> 0.000</td> <td>    0.909</td> <td>    1.035</td>\n",
       "</tr>\n",
       "<tr>\n",
       "  <th>x1</th>        <td>    0.5047</td> <td>    0.032</td> <td>   15.657</td> <td> 0.000</td> <td>    0.441</td> <td>    0.568</td>\n",
       "</tr>\n",
       "<tr>\n",
       "  <th>x2</th>        <td>   -2.0575</td> <td>    0.032</td> <td>  -64.081</td> <td> 0.000</td> <td>   -2.120</td> <td>   -1.994</td>\n",
       "</tr>\n",
       "<tr>\n",
       "  <th>x1:x2</th>     <td>    3.0042</td> <td>    0.031</td> <td>   97.633</td> <td> 0.000</td> <td>    2.944</td> <td>    3.065</td>\n",
       "</tr>\n",
       "</table>\n",
       "<table class=\"simpletable\">\n",
       "<tr>\n",
       "  <th>Omnibus:</th>       <td> 4.346</td> <th>  Durbin-Watson:     </th> <td>   1.960</td>\n",
       "</tr>\n",
       "<tr>\n",
       "  <th>Prob(Omnibus):</th> <td> 0.114</td> <th>  Jarque-Bera (JB):  </th> <td>   3.615</td>\n",
       "</tr>\n",
       "<tr>\n",
       "  <th>Skew:</th>          <td>-0.051</td> <th>  Prob(JB):          </th> <td>   0.164</td>\n",
       "</tr>\n",
       "<tr>\n",
       "  <th>Kurtosis:</th>      <td> 2.724</td> <th>  Cond. No.          </th> <td>    1.11</td>\n",
       "</tr>\n",
       "</table><br/><br/>Warnings:<br/>[1] Standard Errors assume that the covariance matrix of the errors is correctly specified."
      ],
      "text/plain": [
       "<class 'statsmodels.iolib.summary.Summary'>\n",
       "\"\"\"\n",
       "                            OLS Regression Results                            \n",
       "==============================================================================\n",
       "Dep. Variable:                      y   R-squared:                       0.928\n",
       "Model:                            OLS   Adj. R-squared:                  0.928\n",
       "Method:                 Least Squares   F-statistic:                     4305.\n",
       "Date:                Wed, 04 Dec 2019   Prob (F-statistic):               0.00\n",
       "Time:                        07:52:27   Log-Likelihood:                -1425.5\n",
       "No. Observations:                1000   AIC:                             2859.\n",
       "Df Residuals:                     996   BIC:                             2879.\n",
       "Df Model:                           3                                         \n",
       "Covariance Type:            nonrobust                                         \n",
       "==============================================================================\n",
       "                 coef    std err          t      P>|t|      [0.025      0.975]\n",
       "------------------------------------------------------------------------------\n",
       "Intercept      0.9721      0.032     30.445      0.000       0.909       1.035\n",
       "x1             0.5047      0.032     15.657      0.000       0.441       0.568\n",
       "x2            -2.0575      0.032    -64.081      0.000      -2.120      -1.994\n",
       "x1:x2          3.0042      0.031     97.633      0.000       2.944       3.065\n",
       "==============================================================================\n",
       "Omnibus:                        4.346   Durbin-Watson:                   1.960\n",
       "Prob(Omnibus):                  0.114   Jarque-Bera (JB):                3.615\n",
       "Skew:                          -0.051   Prob(JB):                        0.164\n",
       "Kurtosis:                       2.724   Cond. No.                         1.11\n",
       "==============================================================================\n",
       "\n",
       "Warnings:\n",
       "[1] Standard Errors assume that the covariance matrix of the errors is correctly specified.\n",
       "\"\"\""
      ]
     },
     "execution_count": 3,
     "metadata": {},
     "output_type": "execute_result"
    }
   ],
   "source": [
    "sm.ols('y ~ x1 + x2 + x1*x2', data=D).fit().summary()"
   ]
  },
  {
   "cell_type": "markdown",
   "metadata": {},
   "source": [
    "### Monte Carlo Simulation"
   ]
  },
  {
   "cell_type": "markdown",
   "metadata": {},
   "source": [
    "Let's simulate the data many times, retaining the the coefficients on each iteration"
   ]
  },
  {
   "cell_type": "code",
   "execution_count": 4,
   "metadata": {},
   "outputs": [],
   "source": [
    "coefs = []\n",
    "sims = 1000\n",
    "N = 100\n",
    "b = [1,.5,-2,3]\n",
    "for i in range(sims):\n",
    "    x1 = np.random.normal(size=N)\n",
    "    x2 = np.random.normal(size=N)\n",
    "    error = np.random.normal(size=N)\n",
    "    y = b[0] + b[1]*x1 + b[2]*x2 + b[3]*x1*x2 + error\n",
    "    D = pd.DataFrame(dict(y=y,x1 = x1, x2 = x2))\n",
    "    mod = sm.ols('y ~ x1 + x2 + x1*x2', data=D).fit()\n",
    "    coefs.append(mod.params.tolist())\n",
    "\n",
    "# Convert to a array\n",
    "coefs = np.array(coefs)"
   ]
  },
  {
   "cell_type": "code",
   "execution_count": 5,
   "metadata": {},
   "outputs": [
    {
     "data": {
      "image/png": "[encoded data removed]",
      "text/plain": [
       "<Figure size 720x576 with 4 Axes>"
      ]
     },
     "metadata": {},
     "output_type": "display_data"
    }
   ],
   "source": [
    "fig, axs = plt.subplots(4,1, sharex=True, sharey=True,figsize=(10,8))\n",
    "sns.distplot(coefs[:,0],kde=False,ax=axs[0])\n",
    "sns.distplot(coefs[:,1],kde=False,ax=axs[1])\n",
    "sns.distplot(coefs[:,2],kde=False,ax=axs[2])\n",
    "sns.distplot(coefs[:,3],kde=False,ax=axs[3])\n",
    "\n",
    "# Plot the position of the \"true\" coefficient values. \n",
    "axs[0].axvline(b[0],color=\"darkblue\")\n",
    "axs[1].axvline(b[1],color=\"darkblue\")\n",
    "axs[2].axvline(b[2],color=\"darkblue\")\n",
    "axs[3].axvline(b[3],color=\"darkblue\")\n",
    "\n",
    "# Plot the titles for each subplot\n",
    "axs[0].title.set_text('Intercept')\n",
    "axs[1].title.set_text('x1')\n",
    "axs[2].title.set_text('x2')\n",
    "axs[3].title.set_text('x1*x2')\n",
    "fig.show()"
   ]
  },
  {
   "cell_type": "markdown",
   "metadata": {},
   "source": [
    "### Monte Carlo Simulation of a Statistical Error: _omitted variable bias_"
   ]
  },
  {
   "cell_type": "markdown",
   "metadata": {},
   "source": [
    "Let's now simulate the impact of Omitted variable bias. Let's say there is some unobserved variable $z$ that is correlated with $x_1$ and $x_2$. How would that bias our estimates?\n",
    "\n",
    "In the below code everything is the same except that we're adding variable $z$ that is correlated with the outcomes and the two predictors. "
   ]
  },
  {
   "cell_type": "code",
   "execution_count": 6,
   "metadata": {},
   "outputs": [],
   "source": [
    "coefs = []\n",
    "sims = 1000\n",
    "N = 100\n",
    "b = [1,.5,-2,3]\n",
    "for i in range(sims):\n",
    "    z = np.random.normal(1,3,size=N) \n",
    "    x1 = np.random.normal(size=N) + z\n",
    "    x2 = np.random.normal(size=N) - z\n",
    "    error = np.random.normal(size=N)\n",
    "    y = b[0] + b[1]*x1 + b[2]*x2 + b[3]*x1*x2 + 5*z  + error\n",
    "    D = pd.DataFrame(dict(y=y,x1 = x1, x2 = x2))\n",
    "    mod = sm.ols('y ~ x1 + x2 + x1*x2', data=D).fit()\n",
    "    coefs.append(mod.params.tolist())\n",
    "\n",
    "# Convert to a array\n",
    "coefs = np.array(coefs)"
   ]
  },
  {
   "cell_type": "markdown",
   "metadata": {},
   "source": [
    "As the plots below show, $z$ is a confounding variable. By not including it in the model, we are biasing our estimates of $\\beta_1$ and $\\beta_2$"
   ]
  },
  {
   "cell_type": "code",
   "execution_count": 7,
   "metadata": {},
   "outputs": [
    {
     "data": {
      "image/png": "[encoded data removed]",
      "text/plain": [
       "<Figure size 720x576 with 4 Axes>"
      ]
     },
     "metadata": {},
     "output_type": "display_data"
    }
   ],
   "source": [
    "fig, axs = plt.subplots(4,1, sharex=True, sharey=True,figsize=(10,8))\n",
    "sns.distplot(coefs[:,0],kde=False,ax=axs[0])\n",
    "sns.distplot(coefs[:,1],kde=False,ax=axs[1])\n",
    "sns.distplot(coefs[:,2],kde=False,ax=axs[2])\n",
    "sns.distplot(coefs[:,3],kde=False,ax=axs[3])\n",
    "\n",
    "# Plot the position of the \"true\" coefficient values. \n",
    "axs[0].axvline(b[0],color=\"darkblue\")\n",
    "axs[1].axvline(b[1],color=\"darkblue\")\n",
    "axs[2].axvline(b[2],color=\"darkblue\")\n",
    "axs[3].axvline(b[3],color=\"darkblue\")\n",
    "\n",
    "# Plot the titles for each subplot\n",
    "axs[0].title.set_text('Intercept')\n",
    "axs[1].title.set_text('x1')\n",
    "axs[2].title.set_text('x2')\n",
    "axs[3].title.set_text('x1*x2')\n",
    "fig.show()"
   ]
  },
  {
   "cell_type": "markdown",
   "metadata": {},
   "source": [
    "## Simulating Different Types of Outcomes"
   ]
  },
  {
   "cell_type": "markdown",
   "metadata": {},
   "source": [
    "### Binary Outcome"
   ]
  },
  {
   "cell_type": "code",
   "execution_count": 8,
   "metadata": {},
   "outputs": [
    {
     "data": {
      "image/png": "[encoded data removed]",
      "text/plain": [
       "<Figure size 648x648 with 12 Axes>"
      ]
     },
     "metadata": {},
     "output_type": "display_data"
    }
   ],
   "source": [
    "np.random.seed(12345)\n",
    "N = 1000 # Number of observations\n",
    "\n",
    "# Linear combination of predictors\n",
    "x1 = np.random.normal(size=N)            # One continuous predictor \n",
    "x2 = np.random.binomial(1,p=.2,size=N)   # One binary predictor \n",
    "X = np.column_stack([np.ones(N),x1,x2])  # Compose as a matrix\n",
    "\n",
    "B = np.array([.5,.7,-2])                 # True Coefficients\n",
    "mu  = X.dot(B)                           # average prob is a function of x1 and x2\n",
    "\n",
    "# Convert our linear combination into a probability space\n",
    "pr = st.norm.cdf(mu,0,1) \n",
    "\n",
    "# Convert into binary outcome using the Bernoulli distribution\n",
    "y = np.random.binomial(n=1,p = pr)\n",
    "\n",
    "# Visualize\n",
    "sns.pairplot(pd.DataFrame(dict(y=y,x1=x1,x2=x2)),height=3)\n",
    "plt.show()"
   ]
  },
  {
   "cell_type": "code",
   "execution_count": 9,
   "metadata": {},
   "outputs": [
    {
     "name": "stdout",
     "output_type": "stream",
     "text": [
      "Optimization terminated successfully.\n",
      "         Current function value: 0.489036\n",
      "         Iterations 6\n"
     ]
    },
    {
     "data": {
      "text/html": [
       "<table class=\"simpletable\">\n",
       "<caption>Probit Regression Results</caption>\n",
       "<tr>\n",
       "  <th>Dep. Variable:</th>         <td>y</td>        <th>  No. Observations:  </th>  <td>  1000</td>  \n",
       "</tr>\n",
       "<tr>\n",
       "  <th>Model:</th>              <td>Probit</td>      <th>  Df Residuals:      </th>  <td>   997</td>  \n",
       "</tr>\n",
       "<tr>\n",
       "  <th>Method:</th>               <td>MLE</td>       <th>  Df Model:          </th>  <td>     2</td>  \n",
       "</tr>\n",
       "<tr>\n",
       "  <th>Date:</th>          <td>Wed, 04 Dec 2019</td> <th>  Pseudo R-squ.:     </th>  <td>0.2895</td>  \n",
       "</tr>\n",
       "<tr>\n",
       "  <th>Time:</th>              <td>07:52:58</td>     <th>  Log-Likelihood:    </th> <td> -489.04</td> \n",
       "</tr>\n",
       "<tr>\n",
       "  <th>converged:</th>           <td>True</td>       <th>  LL-Null:           </th> <td> -688.34</td> \n",
       "</tr>\n",
       "<tr>\n",
       "  <th> </th>                      <td> </td>        <th>  LLR p-value:       </th> <td>2.782e-87</td>\n",
       "</tr>\n",
       "</table>\n",
       "<table class=\"simpletable\">\n",
       "<tr>\n",
       "    <td></td>       <th>coef</th>     <th>std err</th>      <th>z</th>      <th>P>|z|</th>  <th>[0.025</th>    <th>0.975]</th>  \n",
       "</tr>\n",
       "<tr>\n",
       "  <th>const</th> <td>    0.5017</td> <td>    0.051</td> <td>    9.862</td> <td> 0.000</td> <td>    0.402</td> <td>    0.601</td>\n",
       "</tr>\n",
       "<tr>\n",
       "  <th>x1</th>    <td>    0.7307</td> <td>    0.058</td> <td>   12.701</td> <td> 0.000</td> <td>    0.618</td> <td>    0.843</td>\n",
       "</tr>\n",
       "<tr>\n",
       "  <th>x2</th>    <td>   -2.0212</td> <td>    0.150</td> <td>  -13.473</td> <td> 0.000</td> <td>   -2.315</td> <td>   -1.727</td>\n",
       "</tr>\n",
       "</table>"
      ],
      "text/plain": [
       "<class 'statsmodels.iolib.summary.Summary'>\n",
       "\"\"\"\n",
       "                          Probit Regression Results                           \n",
       "==============================================================================\n",
       "Dep. Variable:                      y   No. Observations:                 1000\n",
       "Model:                         Probit   Df Residuals:                      997\n",
       "Method:                           MLE   Df Model:                            2\n",
       "Date:                Wed, 04 Dec 2019   Pseudo R-squ.:                  0.2895\n",
       "Time:                        07:52:58   Log-Likelihood:                -489.04\n",
       "converged:                       True   LL-Null:                       -688.34\n",
       "                                        LLR p-value:                 2.782e-87\n",
       "==============================================================================\n",
       "                 coef    std err          z      P>|z|      [0.025      0.975]\n",
       "------------------------------------------------------------------------------\n",
       "const          0.5017      0.051      9.862      0.000       0.402       0.601\n",
       "x1             0.7307      0.058     12.701      0.000       0.618       0.843\n",
       "x2            -2.0212      0.150    -13.473      0.000      -2.315      -1.727\n",
       "==============================================================================\n",
       "\"\"\""
      ]
     },
     "execution_count": 9,
     "metadata": {},
     "output_type": "execute_result"
    }
   ],
   "source": [
    "smd.Probit(y,X).fit().summary()"
   ]
  },
  {
   "cell_type": "markdown",
   "metadata": {},
   "source": [
    "### Count Outcome"
   ]
  },
  {
   "cell_type": "code",
   "execution_count": 10,
   "metadata": {},
   "outputs": [
    {
     "data": {
      "image/png": "[encoded data removed]",
      "text/plain": [
       "<Figure size 648x648 with 12 Axes>"
      ]
     },
     "metadata": {},
     "output_type": "display_data"
    }
   ],
   "source": [
    "np.random.seed(12345)\n",
    "N = 1000 # Number of observations\n",
    "\n",
    "# Linear combination of predictors\n",
    "x1 = np.random.normal(size=N)            # One continuous predictor \n",
    "x2 = np.random.binomial(1,p=.2,size=N)   # One binary predictor \n",
    "X = np.column_stack([np.ones(N),x1,x2])  # Compose as a matrix\n",
    "                     \n",
    "B = np.array([.5,.7,-2])                 # True Coefficients\n",
    "mu  = X.dot(B)                           # average rate is a function of x1 and x2\n",
    "\n",
    "# Convert our linear combination into a \"rate\" space (i.e. positively defined)\n",
    "lamb = np.exp(mu) \n",
    "\n",
    "# Convert into binary outcome using the Bernoulli distribution\n",
    "y = np.random.poisson(lam=lamb)\n",
    "\n",
    "# Visualize\n",
    "sns.pairplot(pd.DataFrame(dict(y=y,x1=x1,x2=x2)),height=3)\n",
    "plt.show()"
   ]
  },
  {
   "cell_type": "code",
   "execution_count": 11,
   "metadata": {},
   "outputs": [
    {
     "name": "stdout",
     "output_type": "stream",
     "text": [
      "Optimization terminated successfully.\n",
      "         Current function value: 1.414652\n",
      "         Iterations 7\n"
     ]
    },
    {
     "data": {
      "text/html": [
       "<table class=\"simpletable\">\n",
       "<caption>Poisson Regression Results</caption>\n",
       "<tr>\n",
       "  <th>Dep. Variable:</th>         <td>y</td>        <th>  No. Observations:  </th>   <td>  1000</td>  \n",
       "</tr>\n",
       "<tr>\n",
       "  <th>Model:</th>              <td>Poisson</td>     <th>  Df Residuals:      </th>   <td>   997</td>  \n",
       "</tr>\n",
       "<tr>\n",
       "  <th>Method:</th>               <td>MLE</td>       <th>  Df Model:          </th>   <td>     2</td>  \n",
       "</tr>\n",
       "<tr>\n",
       "  <th>Date:</th>          <td>Wed, 04 Dec 2019</td> <th>  Pseudo R-squ.:     </th>   <td>0.2950</td>  \n",
       "</tr>\n",
       "<tr>\n",
       "  <th>Time:</th>              <td>07:53:00</td>     <th>  Log-Likelihood:    </th>  <td> -1414.7</td> \n",
       "</tr>\n",
       "<tr>\n",
       "  <th>converged:</th>           <td>True</td>       <th>  LL-Null:           </th>  <td> -2006.5</td> \n",
       "</tr>\n",
       "<tr>\n",
       "  <th> </th>                      <td> </td>        <th>  LLR p-value:       </th> <td>9.449e-258</td>\n",
       "</tr>\n",
       "</table>\n",
       "<table class=\"simpletable\">\n",
       "<tr>\n",
       "    <td></td>       <th>coef</th>     <th>std err</th>      <th>z</th>      <th>P>|z|</th>  <th>[0.025</th>    <th>0.975]</th>  \n",
       "</tr>\n",
       "<tr>\n",
       "  <th>const</th> <td>    0.5047</td> <td>    0.029</td> <td>   17.409</td> <td> 0.000</td> <td>    0.448</td> <td>    0.562</td>\n",
       "</tr>\n",
       "<tr>\n",
       "  <th>x1</th>    <td>    0.6753</td> <td>    0.023</td> <td>   29.288</td> <td> 0.000</td> <td>    0.630</td> <td>    0.721</td>\n",
       "</tr>\n",
       "<tr>\n",
       "  <th>x2</th>    <td>   -1.8784</td> <td>    0.126</td> <td>  -14.852</td> <td> 0.000</td> <td>   -2.126</td> <td>   -1.631</td>\n",
       "</tr>\n",
       "</table>"
      ],
      "text/plain": [
       "<class 'statsmodels.iolib.summary.Summary'>\n",
       "\"\"\"\n",
       "                          Poisson Regression Results                          \n",
       "==============================================================================\n",
       "Dep. Variable:                      y   No. Observations:                 1000\n",
       "Model:                        Poisson   Df Residuals:                      997\n",
       "Method:                           MLE   Df Model:                            2\n",
       "Date:                Wed, 04 Dec 2019   Pseudo R-squ.:                  0.2950\n",
       "Time:                        07:53:00   Log-Likelihood:                -1414.7\n",
       "converged:                       True   LL-Null:                       -2006.5\n",
       "                                        LLR p-value:                9.449e-258\n",
       "==============================================================================\n",
       "                 coef    std err          z      P>|z|      [0.025      0.975]\n",
       "------------------------------------------------------------------------------\n",
       "const          0.5047      0.029     17.409      0.000       0.448       0.562\n",
       "x1             0.6753      0.023     29.288      0.000       0.630       0.721\n",
       "x2            -1.8784      0.126    -14.852      0.000      -2.126      -1.631\n",
       "==============================================================================\n",
       "\"\"\""
      ]
     },
     "execution_count": 11,
     "metadata": {},
     "output_type": "execute_result"
    }
   ],
   "source": [
    "smd.Poisson(y,X).fit().summary()"
   ]
  },
  {
   "cell_type": "markdown",
   "metadata": {},
   "source": [
    "# Agent Based Models"
   ]
  },
  {
   "cell_type": "markdown",
   "metadata": {},
   "source": [
    "> \"An agent-based model (ABM) is a class of computational models for simulating the actions and interactions of autonomous agents (both individual or collective entities such as organizations or groups) with a view to assessing their effects on the system as a whole. It combines elements of game theory, complex systems, emergence, computational sociology, multi-agent systems, and evolutionary programming. Monte Carlo methods are used to introduce randomness.\" ([Wiki](https://en.wikipedia.org/wiki/Agent-based_model))"
   ]
  },
  {
   "cell_type": "markdown",
   "metadata": {},
   "source": [
    "### [Schelling's Model of Segregation](http://nifty.stanford.edu/2014/mccown-schelling-model-segregation/)"
   ]
  },
  {
   "cell_type": "markdown",
   "metadata": {},
   "source": [
    "A walkthrough regarding how to construct Schelling's model in Python:\n",
    "\n",
    "- [From Scratch](https://www.binpress.com/simulating-segregation-with-python/)\n",
    "- [Using Mesa](https://towardsdatascience.com/introduction-to-mesa-agent-based-modeling-in-python-bcb0596e1c9a)"
   ]
  }
 ],
 "metadata": {
  "kernelspec": {
   "display_name": "Python 3",
   "language": "python",
   "name": "python3"
  },
  "language_info": {
   "codemirror_mode": {
    "name": "ipython",
    "version": 3
   },
   "file_extension": ".py",
   "mimetype": "text/x-python",
   "name": "python",
   "nbconvert_exporter": "python",
   "pygments_lexer": "ipython3",
   "version": "3.7.2"
  },
  "toc": {
   "base_numbering": 1,
   "nav_menu": {},
   "number_sections": false,
   "sideBar": false,
   "skip_h1_title": false,
   "title_cell": "Table of Contents",
   "title_sidebar": "Contents",
   "toc_cell": false,
   "toc_position": {},
   "toc_section_display": true,
   "toc_window_display": false
  }
 },
 "nbformat": 4,
 "nbformat_minor": 2
}
