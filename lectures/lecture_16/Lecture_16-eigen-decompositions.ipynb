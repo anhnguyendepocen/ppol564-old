{
 "cells": [
  {
   "cell_type": "markdown",
   "metadata": {},
   "source": [
    "<h1><center> PPOL564 - Data Science I: Foundations </center><h1>\n",
    "<h3><center> Lecture 16 <br><br><font color='grey'> Eigen Decompositions </font></center></h3>\n",
    "\n",
    "# Concepts Covered:\n",
    "\n",
    "- Intuition of what eigenvalues and eigenvectors are\n",
    "- Deriving eigenvalues and eigenvectors\n",
    "- Eigendecompositions\n",
    "- Properties of the Eigens"
   ]
  },
  {
   "cell_type": "code",
   "execution_count": 1,
   "metadata": {},
   "outputs": [
    {
     "data": {
      "text/html": [
       "\n",
       "    <div class=\"bk-root\">\n",
       "        <a href=\"https://bokeh.pydata.org\" target=\"_blank\" class=\"bk-logo bk-logo-small bk-logo-notebook\"></a>\n",
       "        <span id=\"6653bef8-a1c7-40d1-8021-3eea9731f970\">Loading BokehJS ...</span>\n",
       "    </div>"
      ]
     },
     "metadata": {},
     "output_type": "display_data"
    },
    {
     "data": {
      "application/javascript": [
       "\n",
       "(function(root) {\n",
       "  function now() {\n",
       "    return new Date();\n",
       "  }\n",
       "\n",
       "  var force = true;\n",
       "\n",
       "  if (typeof (root._bokeh_onload_callbacks) === \"undefined\" || force === true) {\n",
       "    root._bokeh_onload_callbacks = [];\n",
       "    root._bokeh_is_loading = undefined;\n",
       "  }\n",
       "\n",
       "  var JS_MIME_TYPE = 'application/javascript';\n",
       "  var HTML_MIME_TYPE = 'text/html';\n",
       "  var EXEC_MIME_TYPE = 'application/vnd.bokehjs_exec.v0+json';\n",
       "  var CLASS_NAME = 'output_bokeh rendered_html';\n",
       "\n",
       "  /**\n",
       "   * Render data to the DOM node\n",
       "   */\n",
       "  function render(props, node) {\n",
       "    var script = document.createElement(\"script\");\n",
       "    node.appendChild(script);\n",
       "  }\n",
       "\n",
       "  /**\n",
       "   * Handle when an output is cleared or removed\n",
       "   */\n",
       "  function handleClearOutput(event, handle) {\n",
       "    var cell = handle.cell;\n",
       "\n",
       "    var id = cell.output_area._bokeh_element_id;\n",
       "    var server_id = cell.output_area._bokeh_server_id;\n",
       "    // Clean up Bokeh references\n",
       "    if (id != null && id in Bokeh.index) {\n",
       "      Bokeh.index[id].model.document.clear();\n",
       "      delete Bokeh.index[id];\n",
       "    }\n",
       "\n",
       "    if (server_id !== undefined) {\n",
       "      // Clean up Bokeh references\n",
       "      var cmd = \"from bokeh.io.state import curstate; print(curstate().uuid_to_server['\" + server_id + \"'].get_sessions()[0].document.roots[0]._id)\";\n",
       "      cell.notebook.kernel.execute(cmd, {\n",
       "        iopub: {\n",
       "          output: function(msg) {\n",
       "            var id = msg.content.text.trim();\n",
       "            if (id in Bokeh.index) {\n",
       "              Bokeh.index[id].model.document.clear();\n",
       "              delete Bokeh.index[id];\n",
       "            }\n",
       "          }\n",
       "        }\n",
       "      });\n",
       "      // Destroy server and session\n",
       "      var cmd = \"import bokeh.io.notebook as ion; ion.destroy_server('\" + server_id + \"')\";\n",
       "      cell.notebook.kernel.execute(cmd);\n",
       "    }\n",
       "  }\n",
       "\n",
       "  /**\n",
       "   * Handle when a new output is added\n",
       "   */\n",
       "  function handleAddOutput(event, handle) {\n",
       "    var output_area = handle.output_area;\n",
       "    var output = handle.output;\n",
       "\n",
       "    // limit handleAddOutput to display_data with EXEC_MIME_TYPE content only\n",
       "    if ((output.output_type != \"display_data\") || (!output.data.hasOwnProperty(EXEC_MIME_TYPE))) {\n",
       "      return\n",
       "    }\n",
       "\n",
       "    var toinsert = output_area.element.find(\".\" + CLASS_NAME.split(' ')[0]);\n",
       "\n",
       "    if (output.metadata[EXEC_MIME_TYPE][\"id\"] !== undefined) {\n",
       "      toinsert[toinsert.length - 1].firstChild.textContent = output.data[JS_MIME_TYPE];\n",
       "      // store reference to embed id on output_area\n",
       "      output_area._bokeh_element_id = output.metadata[EXEC_MIME_TYPE][\"id\"];\n",
       "    }\n",
       "    if (output.metadata[EXEC_MIME_TYPE][\"server_id\"] !== undefined) {\n",
       "      var bk_div = document.createElement(\"div\");\n",
       "      bk_div.innerHTML = output.data[HTML_MIME_TYPE];\n",
       "      var script_attrs = bk_div.children[0].attributes;\n",
       "      for (var i = 0; i < script_attrs.length; i++) {\n",
       "        toinsert[toinsert.length - 1].firstChild.setAttribute(script_attrs[i].name, script_attrs[i].value);\n",
       "      }\n",
       "      // store reference to server id on output_area\n",
       "      output_area._bokeh_server_id = output.metadata[EXEC_MIME_TYPE][\"server_id\"];\n",
       "    }\n",
       "  }\n",
       "\n",
       "  function register_renderer(events, OutputArea) {\n",
       "\n",
       "    function append_mime(data, metadata, element) {\n",
       "      // create a DOM node to render to\n",
       "      var toinsert = this.create_output_subarea(\n",
       "        metadata,\n",
       "        CLASS_NAME,\n",
       "        EXEC_MIME_TYPE\n",
       "      );\n",
       "      this.keyboard_manager.register_events(toinsert);\n",
       "      // Render to node\n",
       "      var props = {data: data, metadata: metadata[EXEC_MIME_TYPE]};\n",
       "      render(props, toinsert[toinsert.length - 1]);\n",
       "      element.append(toinsert);\n",
       "      return toinsert\n",
       "    }\n",
       "\n",
       "    /* Handle when an output is cleared or removed */\n",
       "    events.on('clear_output.CodeCell', handleClearOutput);\n",
       "    events.on('delete.Cell', handleClearOutput);\n",
       "\n",
       "    /* Handle when a new output is added */\n",
       "    events.on('output_added.OutputArea', handleAddOutput);\n",
       "\n",
       "    /**\n",
       "     * Register the mime type and append_mime function with output_area\n",
       "     */\n",
       "    OutputArea.prototype.register_mime_type(EXEC_MIME_TYPE, append_mime, {\n",
       "      /* Is output safe? */\n",
       "      safe: true,\n",
       "      /* Index of renderer in `output_area.display_order` */\n",
       "      index: 0\n",
       "    });\n",
       "  }\n",
       "\n",
       "  // register the mime type if in Jupyter Notebook environment and previously unregistered\n",
       "  if (root.Jupyter !== undefined) {\n",
       "    var events = require('base/js/events');\n",
       "    var OutputArea = require('notebook/js/outputarea').OutputArea;\n",
       "\n",
       "    if (OutputArea.prototype.mime_types().indexOf(EXEC_MIME_TYPE) == -1) {\n",
       "      register_renderer(events, OutputArea);\n",
       "    }\n",
       "  }\n",
       "\n",
       "  \n",
       "  if (typeof (root._bokeh_timeout) === \"undefined\" || force === true) {\n",
       "    root._bokeh_timeout = Date.now() + 5000;\n",
       "    root._bokeh_failed_load = false;\n",
       "  }\n",
       "\n",
       "  var NB_LOAD_WARNING = {'data': {'text/html':\n",
       "     \"<div style='background-color: #fdd'>\\n\"+\n",
       "     \"<p>\\n\"+\n",
       "     \"BokehJS does not appear to have successfully loaded. If loading BokehJS from CDN, this \\n\"+\n",
       "     \"may be due to a slow or bad network connection. Possible fixes:\\n\"+\n",
       "     \"</p>\\n\"+\n",
       "     \"<ul>\\n\"+\n",
       "     \"<li>re-rerun `output_notebook()` to attempt to load from CDN again, or</li>\\n\"+\n",
       "     \"<li>use INLINE resources instead, as so:</li>\\n\"+\n",
       "     \"</ul>\\n\"+\n",
       "     \"<code>\\n\"+\n",
       "     \"from bokeh.resources import INLINE\\n\"+\n",
       "     \"output_notebook(resources=INLINE)\\n\"+\n",
       "     \"</code>\\n\"+\n",
       "     \"</div>\"}};\n",
       "\n",
       "  function display_loaded() {\n",
       "    var el = document.getElementById(\"6653bef8-a1c7-40d1-8021-3eea9731f970\");\n",
       "    if (el != null) {\n",
       "      el.textContent = \"BokehJS is loading...\";\n",
       "    }\n",
       "    if (root.Bokeh !== undefined) {\n",
       "      if (el != null) {\n",
       "        el.textContent = \"BokehJS \" + root.Bokeh.version + \" successfully loaded.\";\n",
       "      }\n",
       "    } else if (Date.now() < root._bokeh_timeout) {\n",
       "      setTimeout(display_loaded, 100)\n",
       "    }\n",
       "  }\n",
       "\n",
       "\n",
       "  function run_callbacks() {\n",
       "    try {\n",
       "      root._bokeh_onload_callbacks.forEach(function(callback) { callback() });\n",
       "    }\n",
       "    finally {\n",
       "      delete root._bokeh_onload_callbacks\n",
       "    }\n",
       "    console.info(\"Bokeh: all callbacks have finished\");\n",
       "  }\n",
       "\n",
       "  function load_libs(js_urls, callback) {\n",
       "    root._bokeh_onload_callbacks.push(callback);\n",
       "    if (root._bokeh_is_loading > 0) {\n",
       "      console.log(\"Bokeh: BokehJS is being loaded, scheduling callback at\", now());\n",
       "      return null;\n",
       "    }\n",
       "    if (js_urls == null || js_urls.length === 0) {\n",
       "      run_callbacks();\n",
       "      return null;\n",
       "    }\n",
       "    console.log(\"Bokeh: BokehJS not loaded, scheduling load and callback at\", now());\n",
       "    root._bokeh_is_loading = js_urls.length;\n",
       "    for (var i = 0; i < js_urls.length; i++) {\n",
       "      var url = js_urls[i];\n",
       "      var s = document.createElement('script');\n",
       "      s.src = url;\n",
       "      s.async = false;\n",
       "      s.onreadystatechange = s.onload = function() {\n",
       "        root._bokeh_is_loading--;\n",
       "        if (root._bokeh_is_loading === 0) {\n",
       "          console.log(\"Bokeh: all BokehJS libraries loaded\");\n",
       "          run_callbacks()\n",
       "        }\n",
       "      };\n",
       "      s.onerror = function() {\n",
       "        console.warn(\"failed to load library \" + url);\n",
       "      };\n",
       "      console.log(\"Bokeh: injecting script tag for BokehJS library: \", url);\n",
       "      document.getElementsByTagName(\"head\")[0].appendChild(s);\n",
       "    }\n",
       "  };var element = document.getElementById(\"6653bef8-a1c7-40d1-8021-3eea9731f970\");\n",
       "  if (element == null) {\n",
       "    console.log(\"Bokeh: ERROR: autoload.js configured with elementid '6653bef8-a1c7-40d1-8021-3eea9731f970' but no matching script tag was found. \")\n",
       "    return false;\n",
       "  }\n",
       "\n",
       "  var js_urls = [\"https://cdn.pydata.org/bokeh/release/bokeh-0.13.0.min.js\", \"https://cdn.pydata.org/bokeh/release/bokeh-widgets-0.13.0.min.js\", \"https://cdn.pydata.org/bokeh/release/bokeh-tables-0.13.0.min.js\", \"https://cdn.pydata.org/bokeh/release/bokeh-gl-0.13.0.min.js\"];\n",
       "\n",
       "  var inline_js = [\n",
       "    function(Bokeh) {\n",
       "      Bokeh.set_log_level(\"info\");\n",
       "    },\n",
       "    \n",
       "    function(Bokeh) {\n",
       "      \n",
       "    },\n",
       "    function(Bokeh) {\n",
       "      console.log(\"Bokeh: injecting CSS: https://cdn.pydata.org/bokeh/release/bokeh-0.13.0.min.css\");\n",
       "      Bokeh.embed.inject_css(\"https://cdn.pydata.org/bokeh/release/bokeh-0.13.0.min.css\");\n",
       "      console.log(\"Bokeh: injecting CSS: https://cdn.pydata.org/bokeh/release/bokeh-widgets-0.13.0.min.css\");\n",
       "      Bokeh.embed.inject_css(\"https://cdn.pydata.org/bokeh/release/bokeh-widgets-0.13.0.min.css\");\n",
       "      console.log(\"Bokeh: injecting CSS: https://cdn.pydata.org/bokeh/release/bokeh-tables-0.13.0.min.css\");\n",
       "      Bokeh.embed.inject_css(\"https://cdn.pydata.org/bokeh/release/bokeh-tables-0.13.0.min.css\");\n",
       "    }\n",
       "  ];\n",
       "\n",
       "  function run_inline_js() {\n",
       "    \n",
       "    if ((root.Bokeh !== undefined) || (force === true)) {\n",
       "      for (var i = 0; i < inline_js.length; i++) {\n",
       "        inline_js[i].call(root, root.Bokeh);\n",
       "      }if (force === true) {\n",
       "        display_loaded();\n",
       "      }} else if (Date.now() < root._bokeh_timeout) {\n",
       "      setTimeout(run_inline_js, 100);\n",
       "    } else if (!root._bokeh_failed_load) {\n",
       "      console.log(\"Bokeh: BokehJS failed to load within specified timeout.\");\n",
       "      root._bokeh_failed_load = true;\n",
       "    } else if (force !== true) {\n",
       "      var cell = $(document.getElementById(\"6653bef8-a1c7-40d1-8021-3eea9731f970\")).parents('.cell').data().cell;\n",
       "      cell.output_area.append_execute_result(NB_LOAD_WARNING)\n",
       "    }\n",
       "\n",
       "  }\n",
       "\n",
       "  if (root._bokeh_is_loading === 0) {\n",
       "    console.log(\"Bokeh: BokehJS loaded, going straight to plotting\");\n",
       "    run_inline_js();\n",
       "  } else {\n",
       "    load_libs(js_urls, function() {\n",
       "      console.log(\"Bokeh: BokehJS plotting callback run at\", now());\n",
       "      run_inline_js();\n",
       "    });\n",
       "  }\n",
       "}(window));"
      ],
      "application/vnd.bokehjs_load.v0+json": "\n(function(root) {\n  function now() {\n    return new Date();\n  }\n\n  var force = true;\n\n  if (typeof (root._bokeh_onload_callbacks) === \"undefined\" || force === true) {\n    root._bokeh_onload_callbacks = [];\n    root._bokeh_is_loading = undefined;\n  }\n\n  \n\n  \n  if (typeof (root._bokeh_timeout) === \"undefined\" || force === true) {\n    root._bokeh_timeout = Date.now() + 5000;\n    root._bokeh_failed_load = false;\n  }\n\n  var NB_LOAD_WARNING = {'data': {'text/html':\n     \"<div style='background-color: #fdd'>\\n\"+\n     \"<p>\\n\"+\n     \"BokehJS does not appear to have successfully loaded. If loading BokehJS from CDN, this \\n\"+\n     \"may be due to a slow or bad network connection. Possible fixes:\\n\"+\n     \"</p>\\n\"+\n     \"<ul>\\n\"+\n     \"<li>re-rerun `output_notebook()` to attempt to load from CDN again, or</li>\\n\"+\n     \"<li>use INLINE resources instead, as so:</li>\\n\"+\n     \"</ul>\\n\"+\n     \"<code>\\n\"+\n     \"from bokeh.resources import INLINE\\n\"+\n     \"output_notebook(resources=INLINE)\\n\"+\n     \"</code>\\n\"+\n     \"</div>\"}};\n\n  function display_loaded() {\n    var el = document.getElementById(\"6653bef8-a1c7-40d1-8021-3eea9731f970\");\n    if (el != null) {\n      el.textContent = \"BokehJS is loading...\";\n    }\n    if (root.Bokeh !== undefined) {\n      if (el != null) {\n        el.textContent = \"BokehJS \" + root.Bokeh.version + \" successfully loaded.\";\n      }\n    } else if (Date.now() < root._bokeh_timeout) {\n      setTimeout(display_loaded, 100)\n    }\n  }\n\n\n  function run_callbacks() {\n    try {\n      root._bokeh_onload_callbacks.forEach(function(callback) { callback() });\n    }\n    finally {\n      delete root._bokeh_onload_callbacks\n    }\n    console.info(\"Bokeh: all callbacks have finished\");\n  }\n\n  function load_libs(js_urls, callback) {\n    root._bokeh_onload_callbacks.push(callback);\n    if (root._bokeh_is_loading > 0) {\n      console.log(\"Bokeh: BokehJS is being loaded, scheduling callback at\", now());\n      return null;\n    }\n    if (js_urls == null || js_urls.length === 0) {\n      run_callbacks();\n      return null;\n    }\n    console.log(\"Bokeh: BokehJS not loaded, scheduling load and callback at\", now());\n    root._bokeh_is_loading = js_urls.length;\n    for (var i = 0; i < js_urls.length; i++) {\n      var url = js_urls[i];\n      var s = document.createElement('script');\n      s.src = url;\n      s.async = false;\n      s.onreadystatechange = s.onload = function() {\n        root._bokeh_is_loading--;\n        if (root._bokeh_is_loading === 0) {\n          console.log(\"Bokeh: all BokehJS libraries loaded\");\n          run_callbacks()\n        }\n      };\n      s.onerror = function() {\n        console.warn(\"failed to load library \" + url);\n      };\n      console.log(\"Bokeh: injecting script tag for BokehJS library: \", url);\n      document.getElementsByTagName(\"head\")[0].appendChild(s);\n    }\n  };var element = document.getElementById(\"6653bef8-a1c7-40d1-8021-3eea9731f970\");\n  if (element == null) {\n    console.log(\"Bokeh: ERROR: autoload.js configured with elementid '6653bef8-a1c7-40d1-8021-3eea9731f970' but no matching script tag was found. \")\n    return false;\n  }\n\n  var js_urls = [\"https://cdn.pydata.org/bokeh/release/bokeh-0.13.0.min.js\", \"https://cdn.pydata.org/bokeh/release/bokeh-widgets-0.13.0.min.js\", \"https://cdn.pydata.org/bokeh/release/bokeh-tables-0.13.0.min.js\", \"https://cdn.pydata.org/bokeh/release/bokeh-gl-0.13.0.min.js\"];\n\n  var inline_js = [\n    function(Bokeh) {\n      Bokeh.set_log_level(\"info\");\n    },\n    \n    function(Bokeh) {\n      \n    },\n    function(Bokeh) {\n      console.log(\"Bokeh: injecting CSS: https://cdn.pydata.org/bokeh/release/bokeh-0.13.0.min.css\");\n      Bokeh.embed.inject_css(\"https://cdn.pydata.org/bokeh/release/bokeh-0.13.0.min.css\");\n      console.log(\"Bokeh: injecting CSS: https://cdn.pydata.org/bokeh/release/bokeh-widgets-0.13.0.min.css\");\n      Bokeh.embed.inject_css(\"https://cdn.pydata.org/bokeh/release/bokeh-widgets-0.13.0.min.css\");\n      console.log(\"Bokeh: injecting CSS: https://cdn.pydata.org/bokeh/release/bokeh-tables-0.13.0.min.css\");\n      Bokeh.embed.inject_css(\"https://cdn.pydata.org/bokeh/release/bokeh-tables-0.13.0.min.css\");\n    }\n  ];\n\n  function run_inline_js() {\n    \n    if ((root.Bokeh !== undefined) || (force === true)) {\n      for (var i = 0; i < inline_js.length; i++) {\n        inline_js[i].call(root, root.Bokeh);\n      }if (force === true) {\n        display_loaded();\n      }} else if (Date.now() < root._bokeh_timeout) {\n      setTimeout(run_inline_js, 100);\n    } else if (!root._bokeh_failed_load) {\n      console.log(\"Bokeh: BokehJS failed to load within specified timeout.\");\n      root._bokeh_failed_load = true;\n    } else if (force !== true) {\n      var cell = $(document.getElementById(\"6653bef8-a1c7-40d1-8021-3eea9731f970\")).parents('.cell').data().cell;\n      cell.output_area.append_execute_result(NB_LOAD_WARNING)\n    }\n\n  }\n\n  if (root._bokeh_is_loading === 0) {\n    console.log(\"Bokeh: BokehJS loaded, going straight to plotting\");\n    run_inline_js();\n  } else {\n    load_libs(js_urls, function() {\n      console.log(\"Bokeh: BokehJS plotting callback run at\", now());\n      run_inline_js();\n    });\n  }\n}(window));"
     },
     "metadata": {},
     "output_type": "display_data"
    }
   ],
   "source": [
    "import numpy as np\n",
    "from numpy import linalg as la\n",
    "import pandas as pd\n",
    "import matplotlib.pyplot as plt\n",
    "import requests\n",
    "\n",
    "# Read in Visualization code from Github (requires bokeh module)\n",
    "exec(requests.get('https://raw.githubusercontent.com/edunford/ppol564/master/lectures/visualization_library/visualize.py').content)\n",
    "vla = LinearAlgebra # assign class to an simplier naming convention."
   ]
  },
  {
   "cell_type": "markdown",
   "metadata": {},
   "source": [
    "# What are Eigen Vectors and Values?"
   ]
  },
  {
   "cell_type": "markdown",
   "metadata": {},
   "source": [
    "Say we have some transformation matrix $\\textbf{A}$."
   ]
  },
  {
   "cell_type": "code",
   "execution_count": 2,
   "metadata": {},
   "outputs": [
    {
     "data": {
      "text/plain": [
       "array([[1, 2],\n",
       "       [2, 1]])"
      ]
     },
     "execution_count": 2,
     "metadata": {},
     "output_type": "execute_result"
    }
   ],
   "source": [
    "A = np.array([[1,2],\n",
    "              [2,1]])\n",
    "A"
   ]
  },
  {
   "cell_type": "markdown",
   "metadata": {},
   "source": [
    "Let's transform some vector $\\vec{x}$ by $\\textbf{A}$."
   ]
  },
  {
   "cell_type": "code",
   "execution_count": 3,
   "metadata": {},
   "outputs": [
    {
     "name": "stdout",
     "output_type": "stream",
     "text": [
      "Original vector x\n",
      "[-0.3  0.1]\n",
      "\n",
      "Ax\n",
      "[-0.1 -0.5]\n",
      "\n",
      "AAx\n",
      "[-1.1 -0.7]\n",
      "\n",
      "AAAx\n",
      "[-2.5 -2.9]\n"
     ]
    }
   ],
   "source": [
    "x = np.array([-.3,.1])\n",
    "\n",
    "print('Original vector x')\n",
    "print(x)\n",
    "\n",
    "# What happens to as we transform x by matrix A?\n",
    "print(\"\\nAx\")\n",
    "print(A.dot(x))\n",
    "print(\"\\nAAx\")\n",
    "print(A.dot(A.dot(x)))\n",
    "print(\"\\nAAAx\")\n",
    "print(A.dot(A.dot(A.dot(x))))"
   ]
  },
  {
   "cell_type": "markdown",
   "metadata": {},
   "source": [
    "Let's do the same thing again with vector $\\vec{v}$"
   ]
  },
  {
   "cell_type": "code",
   "execution_count": 4,
   "metadata": {},
   "outputs": [
    {
     "name": "stdout",
     "output_type": "stream",
     "text": [
      "Original vector v\n",
      "[0.7 0.7]\n",
      "\n",
      "Av\n",
      "[2.1 2.1]\n",
      "\n",
      "AAv\n",
      "[6.3 6.3]\n",
      "\n",
      "AAAv\n",
      "[18.9 18.9]\n"
     ]
    }
   ],
   "source": [
    "v = np.array([.7,.7])\n",
    "\n",
    "print('Original vector v')\n",
    "print(v)\n",
    "\n",
    "\n",
    "# What happens to as we transform v by matrix A?\n",
    "print(\"\\nAv\")\n",
    "print(A.dot(v))\n",
    "print(\"\\nAAv\")\n",
    "print(A.dot(A.dot(v)))\n",
    "print(\"\\nAAAv\")\n",
    "print(A.dot(A.dot(A.dot(v))))"
   ]
  },
  {
   "cell_type": "markdown",
   "metadata": {},
   "source": [
    "Let's visualize this..."
   ]
  },
  {
   "cell_type": "code",
   "execution_count": 5,
   "metadata": {},
   "outputs": [
    {
     "data": {
      "text/html": [
       "\n",
       "\n",
       "\n",
       "\n",
       "\n",
       "\n",
       "  <div class=\"bk-root\" id=\"a0a7bfac-e516-4458-88a8-c1acb00989e6\"></div>\n"
      ]
     },
     "metadata": {},
     "output_type": "display_data"
    },
    {
     "data": {
      "application/javascript": [
       "(function(root) {\n",
       "  function embed_document(root) {\n",
       "    \n",
       "  var docs_json = {\"32a83466-5050-4ed4-8575-f9f320127a70\":{\"roots\":{\"references\":[{\"attributes\":{\"plot\":null,\"size\":10},\"id\":\"4cf33200-ee08-415f-b7eb-9daad95615f1\",\"type\":\"NormalHead\"},{\"attributes\":{\"source\":{\"id\":\"a65abf2f-075a-4dd0-a42b-ffe773263825\",\"type\":\"ColumnDataSource\"}},\"id\":\"5fbe4781-6a90-4fc9-a733-291e2c7bd030\",\"type\":\"CDSView\"},{\"attributes\":{\"line_alpha\":0.1,\"line_color\":\"#1f77b4\",\"line_width\":1.5,\"x\":{\"field\":\"x\"},\"y\":{\"field\":\"y\"}},\"id\":\"fd2f89a1-6b5d-4b7c-a33c-8e2bca88d465\",\"type\":\"Line\"},{\"attributes\":{\"line_width\":1.5,\"x\":{\"field\":\"x\"},\"y\":{\"field\":\"y\"}},\"id\":\"b7f61bf7-1eec-463b-ae7b-2a37e5d58d72\",\"type\":\"Line\"},{\"attributes\":{\"active_drag\":\"auto\",\"active_inspect\":\"auto\",\"active_multi\":null,\"active_scroll\":\"auto\",\"active_tap\":\"auto\",\"tools\":[{\"id\":\"1ce1fcbb-d9c5-466f-9da2-15ce260f727f\",\"type\":\"WheelZoomTool\"},{\"id\":\"8023bbe6-60eb-44b7-afbb-2b87b62344eb\",\"type\":\"PanTool\"},{\"id\":\"2ea96fdd-f738-413b-8f8e-d2afb8ce37b5\",\"type\":\"ResetTool\"}]},\"id\":\"9417f6ae-5bb6-4ad4-ba68-44dae3639267\",\"type\":\"Toolbar\"},{\"attributes\":{\"line_width\":1.5,\"x\":{\"field\":\"x\"},\"y\":{\"field\":\"y\"}},\"id\":\"b8512118-c3f5-49b2-82e0-bec90fda0c17\",\"type\":\"Line\"},{\"attributes\":{},\"id\":\"ed05902b-9c83-4b2c-bdf4-d259cbcf9927\",\"type\":\"LinearScale\"},{\"attributes\":{\"callback\":null,\"data\":{\"x\":[0.0,0.0],\"y\":[-5.0,5.0]},\"selected\":{\"id\":\"a153357a-3c1f-463b-9d6b-de4a12330e9b\",\"type\":\"Selection\"},\"selection_policy\":{\"id\":\"3c842317-d46c-4406-bdb0-60aea2c4a933\",\"type\":\"UnionRenderers\"}},\"id\":\"f15fa949-9853-4931-beea-5f2a1c150caa\",\"type\":\"ColumnDataSource\"},{\"attributes\":{\"callback\":null,\"end\":3.5,\"start\":-3.5},\"id\":\"451fade8-c06b-4625-8933-21034b2c6272\",\"type\":\"Range1d\"},{\"attributes\":{\"plot\":{\"id\":\"d0cd0177-ed98-4732-9546-669cacf98ea0\",\"subtype\":\"Figure\",\"type\":\"Plot\"},\"ticker\":{\"id\":\"a66b0d28-3084-4e9e-a382-29aebd0f51b3\",\"type\":\"BasicTicker\"}},\"id\":\"b450b09b-6dbd-48df-a5ba-9cf9dd479fef\",\"type\":\"Grid\"},{\"attributes\":{},\"id\":\"277c3d05-6ce3-403e-a629-5b58c4961683\",\"type\":\"BasicTickFormatter\"},{\"attributes\":{},\"id\":\"81950b44-60aa-40de-a553-c949f8106e91\",\"type\":\"Selection\"},{\"attributes\":{\"callback\":null,\"data\":{\"x\":[-5.0,5.0],\"y\":[0.0,0.0]},\"selected\":{\"id\":\"81950b44-60aa-40de-a553-c949f8106e91\",\"type\":\"Selection\"},\"selection_policy\":{\"id\":\"aa8f7518-a4f3-400e-8590-3c287c62cfda\",\"type\":\"UnionRenderers\"}},\"id\":\"a65abf2f-075a-4dd0-a42b-ffe773263825\",\"type\":\"ColumnDataSource\"},{\"attributes\":{\"formatter\":{\"id\":\"bad7c41f-e393-42a8-8d18-ead86b491ebd\",\"type\":\"BasicTickFormatter\"},\"plot\":{\"id\":\"d0cd0177-ed98-4732-9546-669cacf98ea0\",\"subtype\":\"Figure\",\"type\":\"Plot\"},\"ticker\":{\"id\":\"eb5ef028-6d41-45e5-b46a-c0939bebd986\",\"type\":\"BasicTicker\"}},\"id\":\"07c4f925-3604-4404-b100-3f594e97b250\",\"type\":\"LinearAxis\"},{\"attributes\":{},\"id\":\"2ea96fdd-f738-413b-8f8e-d2afb8ce37b5\",\"type\":\"ResetTool\"},{\"attributes\":{\"fill_color\":{\"value\":\"blue\"},\"line_color\":{\"value\":\"blue\"},\"plot\":null,\"size\":10},\"id\":\"7c937591-1f42-44ad-b96f-b25efa5d45ee\",\"type\":\"NormalHead\"},{\"attributes\":{\"source\":{\"id\":\"f15fa949-9853-4931-beea-5f2a1c150caa\",\"type\":\"ColumnDataSource\"}},\"id\":\"03ce5d1c-b02b-4b58-84f0-cdb6a798b40d\",\"type\":\"CDSView\"},{\"attributes\":{\"below\":[{\"id\":\"9e6a1ac6-6973-4017-96b1-9ed5f16726fc\",\"type\":\"LinearAxis\"}],\"left\":[{\"id\":\"07c4f925-3604-4404-b100-3f594e97b250\",\"type\":\"LinearAxis\"}],\"plot_height\":700,\"plot_width\":700,\"renderers\":[{\"id\":\"9e6a1ac6-6973-4017-96b1-9ed5f16726fc\",\"type\":\"LinearAxis\"},{\"id\":\"b450b09b-6dbd-48df-a5ba-9cf9dd479fef\",\"type\":\"Grid\"},{\"id\":\"07c4f925-3604-4404-b100-3f594e97b250\",\"type\":\"LinearAxis\"},{\"id\":\"67bc246d-dcf2-415e-9603-a69891d5567c\",\"type\":\"Grid\"},{\"id\":\"21cc52d6-0a2f-4d04-a890-47e5fe0c13a1\",\"type\":\"GlyphRenderer\"},{\"id\":\"e86cec65-76e9-4896-95ea-0d8a5136bc13\",\"type\":\"GlyphRenderer\"},{\"id\":\"53606173-c398-45ef-85ae-49ee44f8d5a8\",\"type\":\"Arrow\"},{\"id\":\"a3cb9549-8480-4b34-9aa7-ab9f38b5a83b\",\"type\":\"Arrow\"}],\"title\":{\"id\":\"08af10bb-2105-4b9a-876e-17fc81f1709a\",\"type\":\"Title\"},\"toolbar\":{\"id\":\"9417f6ae-5bb6-4ad4-ba68-44dae3639267\",\"type\":\"Toolbar\"},\"x_range\":{\"id\":\"6527af12-6264-4b47-83b5-4514e47ba749\",\"type\":\"Range1d\"},\"x_scale\":{\"id\":\"63889197-ec93-4c69-a889-419a4fada00e\",\"type\":\"LinearScale\"},\"y_range\":{\"id\":\"451fade8-c06b-4625-8933-21034b2c6272\",\"type\":\"Range1d\"},\"y_scale\":{\"id\":\"ed05902b-9c83-4b2c-bdf4-d259cbcf9927\",\"type\":\"LinearScale\"}},\"id\":\"d0cd0177-ed98-4732-9546-669cacf98ea0\",\"subtype\":\"Figure\",\"type\":\"Plot\"},{\"attributes\":{\"formatter\":{\"id\":\"277c3d05-6ce3-403e-a629-5b58c4961683\",\"type\":\"BasicTickFormatter\"},\"plot\":{\"id\":\"d0cd0177-ed98-4732-9546-669cacf98ea0\",\"subtype\":\"Figure\",\"type\":\"Plot\"},\"ticker\":{\"id\":\"a66b0d28-3084-4e9e-a382-29aebd0f51b3\",\"type\":\"BasicTicker\"}},\"id\":\"9e6a1ac6-6973-4017-96b1-9ed5f16726fc\",\"type\":\"LinearAxis\"},{\"attributes\":{\"dimension\":1,\"plot\":{\"id\":\"d0cd0177-ed98-4732-9546-669cacf98ea0\",\"subtype\":\"Figure\",\"type\":\"Plot\"},\"ticker\":{\"id\":\"eb5ef028-6d41-45e5-b46a-c0939bebd986\",\"type\":\"BasicTicker\"}},\"id\":\"67bc246d-dcf2-415e-9603-a69891d5567c\",\"type\":\"Grid\"},{\"attributes\":{\"data_source\":{\"id\":\"f15fa949-9853-4931-beea-5f2a1c150caa\",\"type\":\"ColumnDataSource\"},\"glyph\":{\"id\":\"b7f61bf7-1eec-463b-ae7b-2a37e5d58d72\",\"type\":\"Line\"},\"hover_glyph\":null,\"muted_glyph\":null,\"nonselection_glyph\":{\"id\":\"fd2f89a1-6b5d-4b7c-a33c-8e2bca88d465\",\"type\":\"Line\"},\"selection_glyph\":null,\"view\":{\"id\":\"03ce5d1c-b02b-4b58-84f0-cdb6a798b40d\",\"type\":\"CDSView\"}},\"id\":\"e86cec65-76e9-4896-95ea-0d8a5136bc13\",\"type\":\"GlyphRenderer\"},{\"attributes\":{\"callback\":null,\"end\":3.5,\"start\":-3.5},\"id\":\"6527af12-6264-4b47-83b5-4514e47ba749\",\"type\":\"Range1d\"},{\"attributes\":{},\"id\":\"aa8f7518-a4f3-400e-8590-3c287c62cfda\",\"type\":\"UnionRenderers\"},{\"attributes\":{},\"id\":\"1ce1fcbb-d9c5-466f-9da2-15ce260f727f\",\"type\":\"WheelZoomTool\"},{\"attributes\":{},\"id\":\"8023bbe6-60eb-44b7-afbb-2b87b62344eb\",\"type\":\"PanTool\"},{\"attributes\":{\"data_source\":{\"id\":\"a65abf2f-075a-4dd0-a42b-ffe773263825\",\"type\":\"ColumnDataSource\"},\"glyph\":{\"id\":\"b8512118-c3f5-49b2-82e0-bec90fda0c17\",\"type\":\"Line\"},\"hover_glyph\":null,\"muted_glyph\":null,\"nonselection_glyph\":{\"id\":\"00afc435-a63a-41dd-8677-8ed964da45b5\",\"type\":\"Line\"},\"selection_glyph\":null,\"view\":{\"id\":\"5fbe4781-6a90-4fc9-a733-291e2c7bd030\",\"type\":\"CDSView\"}},\"id\":\"21cc52d6-0a2f-4d04-a890-47e5fe0c13a1\",\"type\":\"GlyphRenderer\"},{\"attributes\":{},\"id\":\"eb5ef028-6d41-45e5-b46a-c0939bebd986\",\"type\":\"BasicTicker\"},{\"attributes\":{},\"id\":\"bad7c41f-e393-42a8-8d18-ead86b491ebd\",\"type\":\"BasicTickFormatter\"},{\"attributes\":{\"end\":{\"id\":\"7c937591-1f42-44ad-b96f-b25efa5d45ee\",\"type\":\"NormalHead\"},\"line_color\":{\"value\":\"blue\"},\"line_width\":{\"value\":3},\"plot\":{\"id\":\"d0cd0177-ed98-4732-9546-669cacf98ea0\",\"subtype\":\"Figure\",\"type\":\"Plot\"},\"source\":null,\"start\":null,\"x_end\":{\"value\":0.7},\"x_start\":{\"value\":0.0},\"y_end\":{\"value\":0.7},\"y_start\":{\"value\":0.0}},\"id\":\"a3cb9549-8480-4b34-9aa7-ab9f38b5a83b\",\"type\":\"Arrow\"},{\"attributes\":{\"plot\":null,\"text\":\"\"},\"id\":\"08af10bb-2105-4b9a-876e-17fc81f1709a\",\"type\":\"Title\"},{\"attributes\":{},\"id\":\"a66b0d28-3084-4e9e-a382-29aebd0f51b3\",\"type\":\"BasicTicker\"},{\"attributes\":{\"line_alpha\":0.1,\"line_color\":\"#1f77b4\",\"line_width\":1.5,\"x\":{\"field\":\"x\"},\"y\":{\"field\":\"y\"}},\"id\":\"00afc435-a63a-41dd-8677-8ed964da45b5\",\"type\":\"Line\"},{\"attributes\":{},\"id\":\"a153357a-3c1f-463b-9d6b-de4a12330e9b\",\"type\":\"Selection\"},{\"attributes\":{\"end\":{\"id\":\"4cf33200-ee08-415f-b7eb-9daad95615f1\",\"type\":\"NormalHead\"},\"line_width\":{\"value\":3},\"plot\":{\"id\":\"d0cd0177-ed98-4732-9546-669cacf98ea0\",\"subtype\":\"Figure\",\"type\":\"Plot\"},\"source\":null,\"start\":null,\"x_end\":{\"value\":-0.3},\"x_start\":{\"value\":0.0},\"y_end\":{\"value\":0.1},\"y_start\":{\"value\":0.0}},\"id\":\"53606173-c398-45ef-85ae-49ee44f8d5a8\",\"type\":\"Arrow\"},{\"attributes\":{},\"id\":\"63889197-ec93-4c69-a889-419a4fada00e\",\"type\":\"LinearScale\"},{\"attributes\":{},\"id\":\"3c842317-d46c-4406-bdb0-60aea2c4a933\",\"type\":\"UnionRenderers\"}],\"root_ids\":[\"d0cd0177-ed98-4732-9546-669cacf98ea0\"]},\"title\":\"Bokeh Application\",\"version\":\"0.13.0\"}};\n",
       "  var render_items = [{\"docid\":\"32a83466-5050-4ed4-8575-f9f320127a70\",\"roots\":{\"d0cd0177-ed98-4732-9546-669cacf98ea0\":\"a0a7bfac-e516-4458-88a8-c1acb00989e6\"}}];\n",
       "  root.Bokeh.embed.embed_items_notebook(docs_json, render_items);\n",
       "\n",
       "  }\n",
       "  if (root.Bokeh !== undefined) {\n",
       "    embed_document(root);\n",
       "  } else {\n",
       "    var attempts = 0;\n",
       "    var timer = setInterval(function(root) {\n",
       "      if (root.Bokeh !== undefined) {\n",
       "        embed_document(root);\n",
       "        clearInterval(timer);\n",
       "      }\n",
       "      attempts++;\n",
       "      if (attempts > 100) {\n",
       "        console.log(\"Bokeh: ERROR: Unable to run BokehJS code because BokehJS library is missing\")\n",
       "        clearInterval(timer);\n",
       "      }\n",
       "    }, 10, root)\n",
       "  }\n",
       "})(window);"
      ],
      "application/vnd.bokehjs_exec.v0+json": ""
     },
     "metadata": {
      "application/vnd.bokehjs_exec.v0+json": {
       "id": "d0cd0177-ed98-4732-9546-669cacf98ea0"
      }
     },
     "output_type": "display_data"
    }
   ],
   "source": [
    "plot = vla()\n",
    "plot.graph(extent=5)\n",
    "plot.vector(x,add_color=\"black\")\n",
    "plot.vector(v,add_color=\"blue\")\n",
    "plot.show()"
   ]
  },
  {
   "cell_type": "code",
   "execution_count": 6,
   "metadata": {},
   "outputs": [
    {
     "data": {
      "text/html": [
       "\n",
       "\n",
       "\n",
       "\n",
       "\n",
       "\n",
       "  <div class=\"bk-root\" id=\"8798ffeb-f148-486c-9ca5-a54e6d5e41c5\"></div>\n"
      ]
     },
     "metadata": {},
     "output_type": "display_data"
    },
    {
     "data": {
      "application/javascript": [
       "(function(root) {\n",
       "  function embed_document(root) {\n",
       "    \n",
       "  var docs_json = {\"7f7f1ab4-cc95-4f5e-8671-e51792381811\":{\"roots\":{\"references\":[{\"attributes\":{\"plot\":null,\"size\":10},\"id\":\"4cf33200-ee08-415f-b7eb-9daad95615f1\",\"type\":\"NormalHead\"},{\"attributes\":{\"fill_alpha\":{\"value\":0.2},\"fill_color\":{\"value\":\"blue\"},\"line_alpha\":{\"value\":0.2},\"line_color\":{\"value\":\"blue\"},\"plot\":null,\"size\":10},\"id\":\"9c140074-f4d8-406d-9241-02348c37c51d\",\"type\":\"NormalHead\"},{\"attributes\":{\"source\":{\"id\":\"a65abf2f-075a-4dd0-a42b-ffe773263825\",\"type\":\"ColumnDataSource\"}},\"id\":\"5fbe4781-6a90-4fc9-a733-291e2c7bd030\",\"type\":\"CDSView\"},{\"attributes\":{\"line_alpha\":0.1,\"line_color\":\"#1f77b4\",\"line_width\":1.5,\"x\":{\"field\":\"x\"},\"y\":{\"field\":\"y\"}},\"id\":\"fd2f89a1-6b5d-4b7c-a33c-8e2bca88d465\",\"type\":\"Line\"},{\"attributes\":{\"line_width\":1.5,\"x\":{\"field\":\"x\"},\"y\":{\"field\":\"y\"}},\"id\":\"b7f61bf7-1eec-463b-ae7b-2a37e5d58d72\",\"type\":\"Line\"},{\"attributes\":{\"active_drag\":\"auto\",\"active_inspect\":\"auto\",\"active_multi\":null,\"active_scroll\":\"auto\",\"active_tap\":\"auto\",\"tools\":[{\"id\":\"1ce1fcbb-d9c5-466f-9da2-15ce260f727f\",\"type\":\"WheelZoomTool\"},{\"id\":\"8023bbe6-60eb-44b7-afbb-2b87b62344eb\",\"type\":\"PanTool\"},{\"id\":\"2ea96fdd-f738-413b-8f8e-d2afb8ce37b5\",\"type\":\"ResetTool\"}]},\"id\":\"9417f6ae-5bb6-4ad4-ba68-44dae3639267\",\"type\":\"Toolbar\"},{\"attributes\":{\"fill_alpha\":{\"value\":0.2},\"line_alpha\":{\"value\":0.2},\"plot\":null,\"size\":10},\"id\":\"020a4109-817f-47e2-9c67-f397d2a98354\",\"type\":\"NormalHead\"},{\"attributes\":{\"fill_alpha\":{\"value\":0.2},\"line_alpha\":{\"value\":0.2},\"plot\":null,\"size\":10},\"id\":\"b33945b3-3a25-46f9-90aa-fcd07efc6cb4\",\"type\":\"NormalHead\"},{\"attributes\":{\"line_width\":1.5,\"x\":{\"field\":\"x\"},\"y\":{\"field\":\"y\"}},\"id\":\"b8512118-c3f5-49b2-82e0-bec90fda0c17\",\"type\":\"Line\"},{\"attributes\":{\"fill_alpha\":{\"value\":0.2},\"line_alpha\":{\"value\":0.2},\"plot\":null,\"size\":10},\"id\":\"f30bd834-7823-427e-a5bb-4a0789bc58a6\",\"type\":\"NormalHead\"},{\"attributes\":{},\"id\":\"ed05902b-9c83-4b2c-bdf4-d259cbcf9927\",\"type\":\"LinearScale\"},{\"attributes\":{\"callback\":null,\"data\":{\"x\":[0.0,0.0],\"y\":[-5.0,5.0]},\"selected\":{\"id\":\"a153357a-3c1f-463b-9d6b-de4a12330e9b\",\"type\":\"Selection\"},\"selection_policy\":{\"id\":\"3c842317-d46c-4406-bdb0-60aea2c4a933\",\"type\":\"UnionRenderers\"}},\"id\":\"f15fa949-9853-4931-beea-5f2a1c150caa\",\"type\":\"ColumnDataSource\"},{\"attributes\":{\"callback\":null,\"end\":3.5,\"start\":-3.5},\"id\":\"451fade8-c06b-4625-8933-21034b2c6272\",\"type\":\"Range1d\"},{\"attributes\":{\"plot\":{\"id\":\"d0cd0177-ed98-4732-9546-669cacf98ea0\",\"subtype\":\"Figure\",\"type\":\"Plot\"},\"ticker\":{\"id\":\"a66b0d28-3084-4e9e-a382-29aebd0f51b3\",\"type\":\"BasicTicker\"}},\"id\":\"b450b09b-6dbd-48df-a5ba-9cf9dd479fef\",\"type\":\"Grid\"},{\"attributes\":{},\"id\":\"277c3d05-6ce3-403e-a629-5b58c4961683\",\"type\":\"BasicTickFormatter\"},{\"attributes\":{\"end\":{\"id\":\"020a4109-817f-47e2-9c67-f397d2a98354\",\"type\":\"NormalHead\"},\"line_alpha\":{\"value\":0.2},\"line_width\":{\"value\":3},\"plot\":{\"id\":\"d0cd0177-ed98-4732-9546-669cacf98ea0\",\"subtype\":\"Figure\",\"type\":\"Plot\"},\"source\":null,\"start\":null,\"x_end\":{\"value\":-0.09999999999999998},\"x_start\":{\"value\":0.0},\"y_end\":{\"value\":-0.5},\"y_start\":{\"value\":0.0}},\"id\":\"fd5c6961-e6cc-4434-b340-3c082077fad0\",\"type\":\"Arrow\"},{\"attributes\":{\"fill_alpha\":{\"value\":0.2},\"fill_color\":{\"value\":\"blue\"},\"line_alpha\":{\"value\":0.2},\"line_color\":{\"value\":\"blue\"},\"plot\":null,\"size\":10},\"id\":\"948312f6-7f52-4b71-8a9e-d5a941aa2e9a\",\"type\":\"NormalHead\"},{\"attributes\":{},\"id\":\"81950b44-60aa-40de-a553-c949f8106e91\",\"type\":\"Selection\"},{\"attributes\":{\"callback\":null,\"data\":{\"x\":[-5.0,5.0],\"y\":[0.0,0.0]},\"selected\":{\"id\":\"81950b44-60aa-40de-a553-c949f8106e91\",\"type\":\"Selection\"},\"selection_policy\":{\"id\":\"aa8f7518-a4f3-400e-8590-3c287c62cfda\",\"type\":\"UnionRenderers\"}},\"id\":\"a65abf2f-075a-4dd0-a42b-ffe773263825\",\"type\":\"ColumnDataSource\"},{\"attributes\":{\"formatter\":{\"id\":\"bad7c41f-e393-42a8-8d18-ead86b491ebd\",\"type\":\"BasicTickFormatter\"},\"plot\":{\"id\":\"d0cd0177-ed98-4732-9546-669cacf98ea0\",\"subtype\":\"Figure\",\"type\":\"Plot\"},\"ticker\":{\"id\":\"eb5ef028-6d41-45e5-b46a-c0939bebd986\",\"type\":\"BasicTicker\"}},\"id\":\"07c4f925-3604-4404-b100-3f594e97b250\",\"type\":\"LinearAxis\"},{\"attributes\":{\"end\":{\"id\":\"f30bd834-7823-427e-a5bb-4a0789bc58a6\",\"type\":\"NormalHead\"},\"line_alpha\":{\"value\":0.2},\"line_width\":{\"value\":3},\"plot\":{\"id\":\"d0cd0177-ed98-4732-9546-669cacf98ea0\",\"subtype\":\"Figure\",\"type\":\"Plot\"},\"source\":null,\"start\":null,\"x_end\":{\"value\":-2.5},\"x_start\":{\"value\":0.0},\"y_end\":{\"value\":-2.9000000000000004},\"y_start\":{\"value\":0.0}},\"id\":\"017f954f-42d5-4eb1-8b16-6d922a587289\",\"type\":\"Arrow\"},{\"attributes\":{},\"id\":\"2ea96fdd-f738-413b-8f8e-d2afb8ce37b5\",\"type\":\"ResetTool\"},{\"attributes\":{\"fill_color\":{\"value\":\"blue\"},\"line_color\":{\"value\":\"blue\"},\"plot\":null,\"size\":10},\"id\":\"7c937591-1f42-44ad-b96f-b25efa5d45ee\",\"type\":\"NormalHead\"},{\"attributes\":{\"end\":{\"id\":\"948312f6-7f52-4b71-8a9e-d5a941aa2e9a\",\"type\":\"NormalHead\"},\"line_alpha\":{\"value\":0.2},\"line_color\":{\"value\":\"blue\"},\"line_width\":{\"value\":3},\"plot\":{\"id\":\"d0cd0177-ed98-4732-9546-669cacf98ea0\",\"subtype\":\"Figure\",\"type\":\"Plot\"},\"source\":null,\"start\":null,\"x_end\":{\"value\":2.0999999999999996},\"x_start\":{\"value\":0.0},\"y_end\":{\"value\":2.0999999999999996},\"y_start\":{\"value\":0.0}},\"id\":\"22e5a1af-daf5-49ca-8f53-5db3bf19db31\",\"type\":\"Arrow\"},{\"attributes\":{\"source\":{\"id\":\"f15fa949-9853-4931-beea-5f2a1c150caa\",\"type\":\"ColumnDataSource\"}},\"id\":\"03ce5d1c-b02b-4b58-84f0-cdb6a798b40d\",\"type\":\"CDSView\"},{\"attributes\":{\"below\":[{\"id\":\"9e6a1ac6-6973-4017-96b1-9ed5f16726fc\",\"type\":\"LinearAxis\"}],\"left\":[{\"id\":\"07c4f925-3604-4404-b100-3f594e97b250\",\"type\":\"LinearAxis\"}],\"plot_height\":700,\"plot_width\":700,\"renderers\":[{\"id\":\"9e6a1ac6-6973-4017-96b1-9ed5f16726fc\",\"type\":\"LinearAxis\"},{\"id\":\"b450b09b-6dbd-48df-a5ba-9cf9dd479fef\",\"type\":\"Grid\"},{\"id\":\"07c4f925-3604-4404-b100-3f594e97b250\",\"type\":\"LinearAxis\"},{\"id\":\"67bc246d-dcf2-415e-9603-a69891d5567c\",\"type\":\"Grid\"},{\"id\":\"21cc52d6-0a2f-4d04-a890-47e5fe0c13a1\",\"type\":\"GlyphRenderer\"},{\"id\":\"e86cec65-76e9-4896-95ea-0d8a5136bc13\",\"type\":\"GlyphRenderer\"},{\"id\":\"53606173-c398-45ef-85ae-49ee44f8d5a8\",\"type\":\"Arrow\"},{\"id\":\"a3cb9549-8480-4b34-9aa7-ab9f38b5a83b\",\"type\":\"Arrow\"},{\"id\":\"fd5c6961-e6cc-4434-b340-3c082077fad0\",\"type\":\"Arrow\"},{\"id\":\"d2b2158a-56cf-4636-8220-347e267ce987\",\"type\":\"Arrow\"},{\"id\":\"017f954f-42d5-4eb1-8b16-6d922a587289\",\"type\":\"Arrow\"},{\"id\":\"22e5a1af-daf5-49ca-8f53-5db3bf19db31\",\"type\":\"Arrow\"},{\"id\":\"518edd78-1a2a-4afe-a149-4f86616e419e\",\"type\":\"Arrow\"},{\"id\":\"ee95c468-3e2d-4ab1-bdf1-81762d42c949\",\"type\":\"Arrow\"}],\"title\":{\"id\":\"08af10bb-2105-4b9a-876e-17fc81f1709a\",\"type\":\"Title\"},\"toolbar\":{\"id\":\"9417f6ae-5bb6-4ad4-ba68-44dae3639267\",\"type\":\"Toolbar\"},\"x_range\":{\"id\":\"6527af12-6264-4b47-83b5-4514e47ba749\",\"type\":\"Range1d\"},\"x_scale\":{\"id\":\"63889197-ec93-4c69-a889-419a4fada00e\",\"type\":\"LinearScale\"},\"y_range\":{\"id\":\"451fade8-c06b-4625-8933-21034b2c6272\",\"type\":\"Range1d\"},\"y_scale\":{\"id\":\"ed05902b-9c83-4b2c-bdf4-d259cbcf9927\",\"type\":\"LinearScale\"}},\"id\":\"d0cd0177-ed98-4732-9546-669cacf98ea0\",\"subtype\":\"Figure\",\"type\":\"Plot\"},{\"attributes\":{\"end\":{\"id\":\"b33945b3-3a25-46f9-90aa-fcd07efc6cb4\",\"type\":\"NormalHead\"},\"line_alpha\":{\"value\":0.2},\"line_width\":{\"value\":3},\"plot\":{\"id\":\"d0cd0177-ed98-4732-9546-669cacf98ea0\",\"subtype\":\"Figure\",\"type\":\"Plot\"},\"source\":null,\"start\":null,\"x_end\":{\"value\":-1.1},\"x_start\":{\"value\":0.0},\"y_end\":{\"value\":-0.7},\"y_start\":{\"value\":0.0}},\"id\":\"d2b2158a-56cf-4636-8220-347e267ce987\",\"type\":\"Arrow\"},{\"attributes\":{\"formatter\":{\"id\":\"277c3d05-6ce3-403e-a629-5b58c4961683\",\"type\":\"BasicTickFormatter\"},\"plot\":{\"id\":\"d0cd0177-ed98-4732-9546-669cacf98ea0\",\"subtype\":\"Figure\",\"type\":\"Plot\"},\"ticker\":{\"id\":\"a66b0d28-3084-4e9e-a382-29aebd0f51b3\",\"type\":\"BasicTicker\"}},\"id\":\"9e6a1ac6-6973-4017-96b1-9ed5f16726fc\",\"type\":\"LinearAxis\"},{\"attributes\":{\"dimension\":1,\"plot\":{\"id\":\"d0cd0177-ed98-4732-9546-669cacf98ea0\",\"subtype\":\"Figure\",\"type\":\"Plot\"},\"ticker\":{\"id\":\"eb5ef028-6d41-45e5-b46a-c0939bebd986\",\"type\":\"BasicTicker\"}},\"id\":\"67bc246d-dcf2-415e-9603-a69891d5567c\",\"type\":\"Grid\"},{\"attributes\":{\"data_source\":{\"id\":\"f15fa949-9853-4931-beea-5f2a1c150caa\",\"type\":\"ColumnDataSource\"},\"glyph\":{\"id\":\"b7f61bf7-1eec-463b-ae7b-2a37e5d58d72\",\"type\":\"Line\"},\"hover_glyph\":null,\"muted_glyph\":null,\"nonselection_glyph\":{\"id\":\"fd2f89a1-6b5d-4b7c-a33c-8e2bca88d465\",\"type\":\"Line\"},\"selection_glyph\":null,\"view\":{\"id\":\"03ce5d1c-b02b-4b58-84f0-cdb6a798b40d\",\"type\":\"CDSView\"}},\"id\":\"e86cec65-76e9-4896-95ea-0d8a5136bc13\",\"type\":\"GlyphRenderer\"},{\"attributes\":{\"callback\":null,\"end\":3.5,\"start\":-3.5},\"id\":\"6527af12-6264-4b47-83b5-4514e47ba749\",\"type\":\"Range1d\"},{\"attributes\":{},\"id\":\"aa8f7518-a4f3-400e-8590-3c287c62cfda\",\"type\":\"UnionRenderers\"},{\"attributes\":{},\"id\":\"1ce1fcbb-d9c5-466f-9da2-15ce260f727f\",\"type\":\"WheelZoomTool\"},{\"attributes\":{},\"id\":\"8023bbe6-60eb-44b7-afbb-2b87b62344eb\",\"type\":\"PanTool\"},{\"attributes\":{\"data_source\":{\"id\":\"a65abf2f-075a-4dd0-a42b-ffe773263825\",\"type\":\"ColumnDataSource\"},\"glyph\":{\"id\":\"b8512118-c3f5-49b2-82e0-bec90fda0c17\",\"type\":\"Line\"},\"hover_glyph\":null,\"muted_glyph\":null,\"nonselection_glyph\":{\"id\":\"00afc435-a63a-41dd-8677-8ed964da45b5\",\"type\":\"Line\"},\"selection_glyph\":null,\"view\":{\"id\":\"5fbe4781-6a90-4fc9-a733-291e2c7bd030\",\"type\":\"CDSView\"}},\"id\":\"21cc52d6-0a2f-4d04-a890-47e5fe0c13a1\",\"type\":\"GlyphRenderer\"},{\"attributes\":{},\"id\":\"eb5ef028-6d41-45e5-b46a-c0939bebd986\",\"type\":\"BasicTicker\"},{\"attributes\":{\"fill_alpha\":{\"value\":0.2},\"fill_color\":{\"value\":\"blue\"},\"line_alpha\":{\"value\":0.2},\"line_color\":{\"value\":\"blue\"},\"plot\":null,\"size\":10},\"id\":\"3039cbfa-506a-4743-88ee-17da0c777ab0\",\"type\":\"NormalHead\"},{\"attributes\":{},\"id\":\"bad7c41f-e393-42a8-8d18-ead86b491ebd\",\"type\":\"BasicTickFormatter\"},{\"attributes\":{\"end\":{\"id\":\"7c937591-1f42-44ad-b96f-b25efa5d45ee\",\"type\":\"NormalHead\"},\"line_color\":{\"value\":\"blue\"},\"line_width\":{\"value\":3},\"plot\":{\"id\":\"d0cd0177-ed98-4732-9546-669cacf98ea0\",\"subtype\":\"Figure\",\"type\":\"Plot\"},\"source\":null,\"start\":null,\"x_end\":{\"value\":0.7},\"x_start\":{\"value\":0.0},\"y_end\":{\"value\":0.7},\"y_start\":{\"value\":0.0}},\"id\":\"a3cb9549-8480-4b34-9aa7-ab9f38b5a83b\",\"type\":\"Arrow\"},{\"attributes\":{\"plot\":null,\"text\":\"\"},\"id\":\"08af10bb-2105-4b9a-876e-17fc81f1709a\",\"type\":\"Title\"},{\"attributes\":{},\"id\":\"a66b0d28-3084-4e9e-a382-29aebd0f51b3\",\"type\":\"BasicTicker\"},{\"attributes\":{\"end\":{\"id\":\"3039cbfa-506a-4743-88ee-17da0c777ab0\",\"type\":\"NormalHead\"},\"line_alpha\":{\"value\":0.2},\"line_color\":{\"value\":\"blue\"},\"line_width\":{\"value\":3},\"plot\":{\"id\":\"d0cd0177-ed98-4732-9546-669cacf98ea0\",\"subtype\":\"Figure\",\"type\":\"Plot\"},\"source\":null,\"start\":null,\"x_end\":{\"value\":18.9},\"x_start\":{\"value\":0.0},\"y_end\":{\"value\":18.9},\"y_start\":{\"value\":0.0}},\"id\":\"ee95c468-3e2d-4ab1-bdf1-81762d42c949\",\"type\":\"Arrow\"},{\"attributes\":{\"line_alpha\":0.1,\"line_color\":\"#1f77b4\",\"line_width\":1.5,\"x\":{\"field\":\"x\"},\"y\":{\"field\":\"y\"}},\"id\":\"00afc435-a63a-41dd-8677-8ed964da45b5\",\"type\":\"Line\"},{\"attributes\":{},\"id\":\"a153357a-3c1f-463b-9d6b-de4a12330e9b\",\"type\":\"Selection\"},{\"attributes\":{\"end\":{\"id\":\"4cf33200-ee08-415f-b7eb-9daad95615f1\",\"type\":\"NormalHead\"},\"line_width\":{\"value\":3},\"plot\":{\"id\":\"d0cd0177-ed98-4732-9546-669cacf98ea0\",\"subtype\":\"Figure\",\"type\":\"Plot\"},\"source\":null,\"start\":null,\"x_end\":{\"value\":-0.3},\"x_start\":{\"value\":0.0},\"y_end\":{\"value\":0.1},\"y_start\":{\"value\":0.0}},\"id\":\"53606173-c398-45ef-85ae-49ee44f8d5a8\",\"type\":\"Arrow\"},{\"attributes\":{},\"id\":\"63889197-ec93-4c69-a889-419a4fada00e\",\"type\":\"LinearScale\"},{\"attributes\":{},\"id\":\"3c842317-d46c-4406-bdb0-60aea2c4a933\",\"type\":\"UnionRenderers\"},{\"attributes\":{\"end\":{\"id\":\"9c140074-f4d8-406d-9241-02348c37c51d\",\"type\":\"NormalHead\"},\"line_alpha\":{\"value\":0.2},\"line_color\":{\"value\":\"blue\"},\"line_width\":{\"value\":3},\"plot\":{\"id\":\"d0cd0177-ed98-4732-9546-669cacf98ea0\",\"subtype\":\"Figure\",\"type\":\"Plot\"},\"source\":null,\"start\":null,\"x_end\":{\"value\":6.299999999999999},\"x_start\":{\"value\":0.0},\"y_end\":{\"value\":6.299999999999999},\"y_start\":{\"value\":0.0}},\"id\":\"518edd78-1a2a-4afe-a149-4f86616e419e\",\"type\":\"Arrow\"}],\"root_ids\":[\"d0cd0177-ed98-4732-9546-669cacf98ea0\"]},\"title\":\"Bokeh Application\",\"version\":\"0.13.0\"}};\n",
       "  var render_items = [{\"docid\":\"7f7f1ab4-cc95-4f5e-8671-e51792381811\",\"roots\":{\"d0cd0177-ed98-4732-9546-669cacf98ea0\":\"8798ffeb-f148-486c-9ca5-a54e6d5e41c5\"}}];\n",
       "  root.Bokeh.embed.embed_items_notebook(docs_json, render_items);\n",
       "\n",
       "  }\n",
       "  if (root.Bokeh !== undefined) {\n",
       "    embed_document(root);\n",
       "  } else {\n",
       "    var attempts = 0;\n",
       "    var timer = setInterval(function(root) {\n",
       "      if (root.Bokeh !== undefined) {\n",
       "        embed_document(root);\n",
       "        clearInterval(timer);\n",
       "      }\n",
       "      attempts++;\n",
       "      if (attempts > 100) {\n",
       "        console.log(\"Bokeh: ERROR: Unable to run BokehJS code because BokehJS library is missing\")\n",
       "        clearInterval(timer);\n",
       "      }\n",
       "    }, 10, root)\n",
       "  }\n",
       "})(window);"
      ],
      "application/vnd.bokehjs_exec.v0+json": ""
     },
     "metadata": {
      "application/vnd.bokehjs_exec.v0+json": {
       "id": "d0cd0177-ed98-4732-9546-669cacf98ea0"
      }
     },
     "output_type": "display_data"
    }
   ],
   "source": [
    "# Plot vector x and all its transformations\n",
    "plot.vector(A.dot(x),add_color=\"black\",alpha=.2)\n",
    "plot.vector(A.dot(A.dot(x)),add_color=\"black\",alpha=.2)\n",
    "plot.vector(A.dot(A.dot(A.dot(x))),add_color=\"black\",alpha=.2)\n",
    "\n",
    "# Plot vector v and all its transformations\n",
    "plot.vector(A.dot(v),add_color=\"blue\",alpha=.2)\n",
    "plot.vector(A.dot(A.dot(v)),add_color=\"blue\",alpha=.2)\n",
    "plot.vector(A.dot(A.dot(A.dot(v))),add_color=\"blue\",alpha=.2)\n",
    "plot.show()"
   ]
  },
  {
   "cell_type": "markdown",
   "metadata": {},
   "source": [
    "**_What is going on here?_**\n",
    "\n",
    "$\\vec{v}$ isn't being transformed like $\\vec{x}$ is each time; rather, it's being scaled!"
   ]
  },
  {
   "cell_type": "code",
   "execution_count": 7,
   "metadata": {},
   "outputs": [
    {
     "name": "stdout",
     "output_type": "stream",
     "text": [
      "[0.7 0.7]\n",
      "[2.1 2.1]\n",
      "[6.3 6.3]\n",
      "[18.9 18.9]\n"
     ]
    }
   ],
   "source": [
    "print(v)\n",
    "print(v*3)\n",
    "print(v*(3**2))\n",
    "print(v*(3**3))"
   ]
  },
  {
   "cell_type": "markdown",
   "metadata": {},
   "source": [
    "Why? \n",
    "\n",
    "$\\vec{v}$ is an **Eigenvector**! "
   ]
  },
  {
   "cell_type": "markdown",
   "metadata": {},
   "source": [
    "\n",
    "\n",
    "An Eigen vector is a vector that only expands or shrinks when undergoing a linear transformation. An eigenvector (or the **_characteristic vector of a linear transformation_**) is a _non-zero vector_ that changes by only a scalar factor when that linear transformation is applied to it. \n",
    "\n",
    "The factor by which that Eigenvector shrinks or expands is called its **Eigenvalue**, which we denote with $\\lambda$."
   ]
  },
  {
   "cell_type": "markdown",
   "metadata": {},
   "source": [
    "# Finding Eigenvalues and Eigenvectors \n",
    "\n",
    "\n",
    "The equation for locating an Eigenvalue and Eigenvector is as follows.\n",
    "\n",
    "<br>\n",
    "<br>\n",
    "\n",
    "\\begin{equation}\n",
    "\\textbf{A}\\vec{v} = \\lambda \\vec{v}\n",
    "\\end{equation}\n",
    "\n",
    "<br>\n",
    "<br>\n",
    "\n",
    "We want to locate some $\\vec{v}$ where the transformation of that vector simply yields a scaled version of that original vector. \n",
    "\n",
    "Think about this: **our transformation matrix $\\textbf{A}$ collapses to a _single scalar value_ when applied on $\\vec{v}$**\n",
    "\n",
    "#### We are interested in finding two things:\n",
    "\n",
    "1. what is this $\\vec{v}$ (the eigenvector)\n",
    "2. what is that scalar $\\lambda$ (the eigenvalue) that $\\vec{v}$ is being scaled by?"
   ]
  },
  {
   "cell_type": "markdown",
   "metadata": {},
   "source": [
    "First, let's do a little re-arranging \n",
    "\n",
    "\n",
    "We're going from matrix multiplication to scalar multiplication, which is odd. To get around this, we can turn a scalar into a matrix by taking the scalar product of the identity matrix. \n",
    "\n",
    "$$ \\lambda \\textbf{I}$$\n",
    "\n",
    "$$ \\lambda \\begin{bmatrix}1 & 0 \\\\ 0 & 1 \\end{bmatrix}$$\n",
    "\n",
    "$$ \\begin{bmatrix}\\lambda  & 0 \\\\ 0 & \\lambda  \\end{bmatrix}$$"
   ]
  },
  {
   "cell_type": "markdown",
   "metadata": {},
   "source": [
    "Also, $\\vec{v}$ is on both sides of the equation, so let's re-arrange things.\n",
    "\n",
    "<br>\n",
    "<br>\n",
    "\n",
    "$$ \\textbf{A}\\vec{v} = \\lambda \\textbf{I} \\vec{v} $$\n",
    "\n",
    "<br>\n",
    "<br>\n",
    "\n",
    "$$ \\textbf{A}\\vec{v} - \\lambda \\textbf{I} \\vec{v}  = 0$$\n",
    "\n",
    "<br>\n",
    "<br>\n",
    "\n",
    "$$ (\\textbf{A} - \\lambda \\textbf{I})\\vec{v}  = 0$$\n",
    "\n",
    "<br>\n",
    "<br>\n",
    "\n",
    "Assuming that $\\textbf{A}$ is a $2 \\times 2$ matrix\n",
    "\n",
    "<br>\n",
    "<br>\n",
    "\n",
    "$$ ( \\begin{bmatrix} a_{11}  & a_{12} \\\\ a_{21} & a_{22} \\end{bmatrix} -  \\begin{bmatrix}\\lambda  & 0 \\\\ 0 & \\lambda  \\end{bmatrix})\\vec{v}  = 0$$\n",
    "\n",
    "<br>\n",
    "<br>\n",
    "\n",
    "$$ \\begin{bmatrix} a_{11} - \\lambda & a_{12} \\\\ a_{21} & a_{22} - \\lambda \\end{bmatrix}\\vec{v}  = 0$$"
   ]
  },
  {
   "cell_type": "markdown",
   "metadata": {},
   "source": [
    "## Finding the eigenvalues\n",
    "\n",
    "Recall that what we are aiming for is locating an instance when $ \\begin{bmatrix} a_{11} - \\lambda & a_{12} \\\\ a_{21} & a_{22} - \\lambda \\end{bmatrix}$ **collapses down into a _singular value_.**\n",
    "\n",
    "Put differently, we are looking for values of $\\lambda$ that result in the determinant of our **A** matrix equaling zero."
   ]
  },
  {
   "cell_type": "markdown",
   "metadata": {},
   "source": [
    "<br>\n",
    "<br>\n",
    "\n",
    "$$ det(\\textbf{A} - \\lambda \\textbf{I})  = 0$$\n",
    "\n",
    "<br>\n",
    "<br>\n",
    "\n",
    "$$det(\\begin{bmatrix} a_{11} - \\lambda & a_{12} \\\\ a_{21} & a_{22} - \\lambda \\end{bmatrix}) = 0$$\n",
    "\n",
    "<br>\n",
    "<br>"
   ]
  },
  {
   "cell_type": "markdown",
   "metadata": {},
   "source": [
    "So, we merely need to plug in values for $\\lambda$ where this condition holds.\n",
    "\n",
    "Let's try doing this computationally by just brute force plugging in values and having the computer do the work for us. "
   ]
  },
  {
   "cell_type": "code",
   "execution_count": 8,
   "metadata": {},
   "outputs": [],
   "source": [
    "def find_lambdas(A,start,end):\n",
    "    '''\n",
    "    Calculates the determinant across a specified range of lamba entries.\n",
    "    '''\n",
    "    store = []\n",
    "    for lamb in np.arange(start,end+1,.5):\n",
    "        det = la.det(A - (lamb*np.eye(2)))\n",
    "        store.append([lamb,det])\n",
    "    return np.array(store)"
   ]
  },
  {
   "cell_type": "code",
   "execution_count": 9,
   "metadata": {},
   "outputs": [
    {
     "data": {
      "image/png": "[encoded data removed]",
      "text/plain": [
       "<Figure size 432x288 with 1 Axes>"
      ]
     },
     "metadata": {
      "needs_background": "light"
     },
     "output_type": "display_data"
    }
   ],
   "source": [
    "# Scan between -5 and 5\n",
    "vals = find_lambdas(A,-5,5)\n",
    "\n",
    "# Let's plot this \n",
    "plt.figure()\n",
    "plt.ylabel('Determinant')\n",
    "plt.xlabel('Lambda')\n",
    "plt.axhline(0,color=\"black\")\n",
    "plt.plot(vals[:,0],vals[:,1],\n",
    "         linewidth=3,color=\"orange\",alpha=.5)\n",
    "\n",
    "# Plot instances when det == 0\n",
    "plt.scatter(vals[np.where(vals[:,1]==0),0],\n",
    "           vals[np.where(vals[:,1]==0),1],\n",
    "           color=\"black\") \n",
    "plt.show()"
   ]
  },
  {
   "cell_type": "code",
   "execution_count": 10,
   "metadata": {},
   "outputs": [
    {
     "data": {
      "text/plain": [
       "array([[-1.,  3.]])"
      ]
     },
     "execution_count": 10,
     "metadata": {},
     "output_type": "execute_result"
    }
   ],
   "source": [
    "# What are these values where the det == 0??\n",
    "vals[np.where(vals[:,1]==0),0]"
   ]
  },
  {
   "cell_type": "markdown",
   "metadata": {},
   "source": [
    "Naturally, we could also derive these values algebraically.\n",
    "\n",
    "Recall the composition of matrix **A**.\n",
    "\n",
    "<br>\n",
    "<br>\n",
    "\n",
    "\\begin{equation}\n",
    "A =  \\begin{bmatrix} 1 & 2 \\\\ 2 & 1 \\end{bmatrix}\n",
    "\\end{equation}\n",
    "\n",
    "<br>\n",
    "<br>\n",
    "\n",
    "\\begin{equation}\n",
    "det(\\begin{bmatrix} 1 - \\lambda & 2 \\\\ 2 & 1 - \\lambda \\end{bmatrix}) = 0\n",
    "\\end{equation}\n",
    "\n",
    "<br>\n",
    "<br>\n",
    "\n",
    "\\begin{equation}\n",
    "(1 - \\lambda)(1 - \\lambda) - (2)(2)= 0\n",
    "\\end{equation}\n",
    "\n",
    "<br>\n",
    "<br>\n",
    "\n",
    "\\begin{equation}\n",
    "\\lambda^2 - 2\\lambda - 3 = 0\n",
    "\\end{equation}\n",
    "\n",
    "<br>\n",
    "<br>\n",
    "\n",
    "The above equation is known as the \"characteristic polynomial\".\n",
    "\n",
    "<br>\n",
    "<br>\n",
    "\n",
    "\\begin{equation}\n",
    "(\\lambda + 1)(\\lambda - 3) = 0\n",
    "\\end{equation}\n",
    "\n",
    "<br>\n",
    "<br>\n",
    "\n",
    "\\begin{equation}\n",
    "\\lambda = - 1 \\\\ \\lambda = 3\n",
    "\\end{equation}\n"
   ]
  },
  {
   "cell_type": "markdown",
   "metadata": {},
   "source": [
    "## Finding the eigenvectors\n",
    "\n",
    "Let's now find the eigenvector that corresponds with each eigenvalue. We can do this easily by \n",
    "\n",
    "1. plugging in our respective eigenvalues, and \n",
    "\n",
    "2. Solving for the values of $\\vec{v}$ in equation 1\n",
    "\n",
    "<br>\n",
    "<br>\n",
    "\n",
    "\\begin{equation}\n",
    "\\begin{bmatrix} 1 - \\lambda & 2 \\\\ 2 & 1 - \\lambda \\end{bmatrix} \\begin{bmatrix}v_1\\\\v_2\\end{bmatrix} = \\begin{bmatrix}0\\\\0\\end{bmatrix}\n",
    "\\end{equation}\n",
    "\n",
    "\n",
    "<br>\n",
    "<br>"
   ]
  },
  {
   "cell_type": "markdown",
   "metadata": {},
   "source": [
    "**Solving for the eigenvector when $\\lambda = 3$**, using reduced row echelon form to solve the system of equations. The aim is to use row-wise manipulations to convert the matrix to an identity matrix (see lecture 14). Since the our matrix isn't full rank (by definition of what the eigen values are doing), we'll only be able to recover one of the unit vectors. In other words, our aim is to convert first vector column into the $hat{i}$ unit vector.\n",
    "\n",
    "<br>\n",
    "<br>\n",
    "\n",
    "\\begin{equation}\n",
    "\\left|\n",
    "\\begin{array}{cc|c}\n",
    "1 - (3) & 2 & 0  \\\\ \n",
    "2 & 1 -(3) & 0 \\\\ \n",
    "\\end{array}\n",
    "\\right|\n",
    "\\end{equation}\n",
    "\n",
    "<br>\n",
    "<br>\n",
    "\n",
    "\\begin{equation}\n",
    "\\left|\n",
    "\\begin{array}{cc|c}\n",
    "-2 & 2 & 0  \\\\ \n",
    "2 & -2 & 0 \\\\ \n",
    "\\end{array}\n",
    "\\right|\n",
    "\\end{equation}\n",
    "\n",
    "<br>\n",
    "<br>\n",
    "\n",
    "Add the first row to the second.\n",
    "\n",
    "<br>\n",
    "<br>\n",
    "\n",
    "\\begin{equation}\n",
    "\\left|\n",
    "\\begin{array}{cc|c}\n",
    "-2 & 2 & 0  \\\\ \n",
    "0 & 0 & 0 \\\\ \n",
    "\\end{array}\n",
    "\\right|\n",
    "\\end{equation}\n",
    "\n",
    "<br>\n",
    "<br>\n",
    "\n",
    "Then divide the first row by -2.\n",
    "\n",
    "<br>\n",
    "<br>\n",
    "\n",
    "\\begin{equation}\n",
    "\\left|\n",
    "\\begin{array}{cc|c}\n",
    "1 & -1 & 0  \\\\ \n",
    "0 & 0 & 0 \\\\ \n",
    "\\end{array}\n",
    "\\right|\n",
    "\\end{equation}\n",
    "\n",
    "<br>\n",
    "<br>\n",
    "\n",
    "Let's re-represent this as the original matrix format\n",
    "\n",
    "<br>\n",
    "<br>\n",
    "\n",
    "\\begin{equation}\n",
    "\\begin{bmatrix} 1 & -1 \\\\ 0 & 0 \\end{bmatrix}\\begin{bmatrix} v_1 \\\\ v_2 \\end{bmatrix} = \\begin{bmatrix} 0 \\\\ 0 \\end{bmatrix}\n",
    "\\end{equation}\n",
    "\n",
    "<br>\n",
    "<br>\n",
    "\n",
    "Multiple $\\vec{v}$ by the reduced form equation.\n",
    "\n",
    "<br>\n",
    "<br>\n",
    "\n",
    "\\begin{equation}\n",
    "v_1(1) - v_2(1) = 0 \n",
    "\\end{equation}\n",
    "\n",
    "<br>\n",
    "<br>\n",
    "\n",
    "\n",
    "\\begin{equation}\n",
    "v_1 = v_2 \\\\\n",
    "v_1 = 1 \\\\\n",
    "v_2 = 1\n",
    "\\end{equation}\n",
    "\n",
    "<br>\n",
    "<br>\n",
    "\n",
    "Thus, the eigenvector $\\vec{e}_{\\lambda = 3}$ is all vectors that span  the vector $\\begin{bmatrix} 1 \\\\1  \\end{bmatrix}$\n",
    "\n",
    "<br>\n",
    "<br>"
   ]
  },
  {
   "cell_type": "markdown",
   "metadata": {},
   "source": [
    "Now, **Solving for the eigenvector when $\\lambda = -1$**\n",
    "\n",
    "\n",
    "<br>\n",
    "<br>\n",
    "\n",
    "\\begin{equation}\n",
    "\\left|\n",
    "\\begin{array}{cc|c}\n",
    "1 - (-1) & 2 & 0  \\\\ \n",
    "2 & 1 -(-1) & 0 \\\\ \n",
    "\\end{array}\n",
    "\\right|\n",
    "\\end{equation}\n",
    "\n",
    "<br>\n",
    "<br>\n",
    "\n",
    "\\begin{equation}\n",
    "\\left|\n",
    "\\begin{array}{cc|c}\n",
    "2 & 2 & 0  \\\\ \n",
    "2 & 2 & 0 \\\\ \n",
    "\\end{array}\n",
    "\\right|\n",
    "\\end{equation}\n",
    "\n",
    "<br>\n",
    "<br>\n",
    "\n",
    "Let's subtract the first row from the second and divide the first row by 2. \n",
    "\n",
    "<br>\n",
    "<br>\n",
    "\n",
    "\\begin{equation}\n",
    "\\left|\n",
    "\\begin{array}{cc|c}\n",
    "1 & 1 & 0  \\\\ \n",
    "0 & 0 & 0 \\\\ \n",
    "\\end{array}\n",
    "\\right|\n",
    "\\end{equation}\n",
    "\n",
    "<br>\n",
    "<br>\n",
    "\n",
    "\\begin{equation}\n",
    "\\left|\n",
    "\\begin{array}{cc|c}\n",
    "1 & 1 & 0  \\\\ \n",
    "0 & 0 & 0 \\\\ \n",
    "\\end{array}\n",
    "\\right|\n",
    "\\end{equation}\n",
    "\n",
    "\n",
    "<br>\n",
    "<br>\n",
    "\n",
    "\\begin{equation}\n",
    "\\begin{bmatrix} 1 & 1 \\\\ 0 & 0 \\end{bmatrix}\\begin{bmatrix} v_1 \\\\ v_2 \\end{bmatrix} = \\begin{bmatrix} 0 \\\\ 0 \\end{bmatrix}\n",
    "\\end{equation}\n",
    "\n",
    "<br>\n",
    "<br>\n",
    "\n",
    "\\begin{equation}\n",
    "v_1 + v_2 = 0 \\\\\n",
    "v_1 = -v_2 \\\\\n",
    "v_1 = -1 \\\\\n",
    "v_2 = 1\n",
    "\\end{equation}\n",
    "\n",
    "<br>\n",
    "<br>\n",
    "\n",
    "Thus, the eigenvector $\\vec{e}_{\\lambda = -1}$ is all vectors that span  the vector $\\begin{bmatrix} -1 \\\\1  \\end{bmatrix}$"
   ]
  },
  {
   "cell_type": "markdown",
   "metadata": {},
   "source": [
    "Let's visualize these two vectors to see how we did."
   ]
  },
  {
   "cell_type": "code",
   "execution_count": 11,
   "metadata": {},
   "outputs": [
    {
     "data": {
      "text/html": [
       "\n",
       "\n",
       "\n",
       "\n",
       "\n",
       "\n",
       "  <div class=\"bk-root\" id=\"64c4548c-fd0f-4183-8979-c66e58a669b9\"></div>\n"
      ]
     },
     "metadata": {},
     "output_type": "display_data"
    },
    {
     "data": {
      "application/javascript": [
       "(function(root) {\n",
       "  function embed_document(root) {\n",
       "    \n",
       "  var docs_json = {\"9a5f9bd9-b573-4a5e-bf93-336fa8c0dc9a\":{\"roots\":{\"references\":[{\"attributes\":{\"active_drag\":\"auto\",\"active_inspect\":\"auto\",\"active_multi\":null,\"active_scroll\":\"auto\",\"active_tap\":\"auto\",\"tools\":[{\"id\":\"a2e0441b-e787-4eef-9698-edf82db6e54a\",\"type\":\"WheelZoomTool\"},{\"id\":\"9af10647-1a88-44fe-ba98-49c6751595fe\",\"type\":\"PanTool\"},{\"id\":\"d887eb4b-faa6-48d6-8e6f-c5868c5d94b0\",\"type\":\"ResetTool\"}]},\"id\":\"575b067c-e4c5-4b63-96b0-454ba224f616\",\"type\":\"Toolbar\"},{\"attributes\":{\"end\":{\"id\":\"e839b633-1394-44a7-9002-ba7280071b4f\",\"type\":\"NormalHead\"},\"line_alpha\":{\"value\":0.2},\"line_color\":{\"value\":\"blue\"},\"line_width\":{\"value\":3},\"plot\":{\"id\":\"c3de8405-4e7a-4709-afeb-abf1b61f0a72\",\"subtype\":\"Figure\",\"type\":\"Plot\"},\"source\":null,\"start\":null,\"x_end\":{\"value\":27},\"x_start\":{\"value\":0.0},\"y_end\":{\"value\":27},\"y_start\":{\"value\":0.0}},\"id\":\"7dcbb310-bd27-4bb9-a23b-589c6d2488f9\",\"type\":\"Arrow\"},{\"attributes\":{},\"id\":\"9af10647-1a88-44fe-ba98-49c6751595fe\",\"type\":\"PanTool\"},{\"attributes\":{\"dimension\":1,\"plot\":{\"id\":\"c3de8405-4e7a-4709-afeb-abf1b61f0a72\",\"subtype\":\"Figure\",\"type\":\"Plot\"},\"ticker\":{\"id\":\"084bfa99-8be7-44e6-ac01-5e8658f91115\",\"type\":\"BasicTicker\"}},\"id\":\"6487b549-bec2-49f9-9c9d-e43a9b8a188a\",\"type\":\"Grid\"},{\"attributes\":{},\"id\":\"a502999a-569c-4ad7-a297-9a2a1f40e924\",\"type\":\"UnionRenderers\"},{\"attributes\":{\"fill_alpha\":{\"value\":0.2},\"fill_color\":{\"value\":\"red\"},\"line_alpha\":{\"value\":0.2},\"line_color\":{\"value\":\"red\"},\"plot\":null,\"size\":10},\"id\":\"f32d1ac2-64b0-4b87-a98c-07fe9e221432\",\"type\":\"NormalHead\"},{\"attributes\":{\"line_alpha\":0.1,\"line_color\":\"#1f77b4\",\"line_width\":1.5,\"x\":{\"field\":\"x\"},\"y\":{\"field\":\"y\"}},\"id\":\"a2f6a581-eed5-4228-bd70-d07eca85b897\",\"type\":\"Line\"},{\"attributes\":{\"line_width\":1.5,\"x\":{\"field\":\"x\"},\"y\":{\"field\":\"y\"}},\"id\":\"058f0294-ba77-4ce6-8f35-6e4adbd27f37\",\"type\":\"Line\"},{\"attributes\":{\"data_source\":{\"id\":\"2bad31c0-ff79-4d38-9802-bb87f1789f81\",\"type\":\"ColumnDataSource\"},\"glyph\":{\"id\":\"0425e4ff-05ab-4e6b-bdb2-b69485ee51fe\",\"type\":\"Line\"},\"hover_glyph\":null,\"muted_glyph\":null,\"nonselection_glyph\":{\"id\":\"a2f6a581-eed5-4228-bd70-d07eca85b897\",\"type\":\"Line\"},\"selection_glyph\":null,\"view\":{\"id\":\"37fca7d9-3790-462e-b638-10b9f9c2958f\",\"type\":\"CDSView\"}},\"id\":\"0505fbbe-6d2d-4869-9b62-91bc62346f38\",\"type\":\"GlyphRenderer\"},{\"attributes\":{\"callback\":null,\"data\":{\"x\":[0.0,0.0],\"y\":[-20.0,20.0]},\"selected\":{\"id\":\"de6c0517-b84e-4ca2-8d4f-07ce792e60f1\",\"type\":\"Selection\"},\"selection_policy\":{\"id\":\"d0eabe9b-d12f-4977-a343-3df2aa54ebe8\",\"type\":\"UnionRenderers\"}},\"id\":\"5a0f9f29-54f8-40f6-8188-2793d22fb254\",\"type\":\"ColumnDataSource\"},{\"attributes\":{\"plot\":null,\"text\":\"\"},\"id\":\"9c09254a-b605-473d-9e79-455a31c3d024\",\"type\":\"Title\"},{\"attributes\":{},\"id\":\"1ddcfa57-fd56-4fac-ad14-eeea6448cc83\",\"type\":\"BasicTickFormatter\"},{\"attributes\":{},\"id\":\"8a41d6d4-a3b9-4146-abd4-0c8fabadeaed\",\"type\":\"BasicTickFormatter\"},{\"attributes\":{\"callback\":null,\"end\":14.0,\"start\":-14.0},\"id\":\"821015fc-ccdb-4062-a059-5c27f01067d7\",\"type\":\"Range1d\"},{\"attributes\":{\"end\":{\"id\":\"f32d1ac2-64b0-4b87-a98c-07fe9e221432\",\"type\":\"NormalHead\"},\"line_alpha\":{\"value\":0.2},\"line_color\":{\"value\":\"red\"},\"line_width\":{\"value\":3},\"plot\":{\"id\":\"c3de8405-4e7a-4709-afeb-abf1b61f0a72\",\"subtype\":\"Figure\",\"type\":\"Plot\"},\"source\":null,\"start\":null,\"x_end\":{\"value\":-1},\"x_start\":{\"value\":0.0},\"y_end\":{\"value\":1},\"y_start\":{\"value\":0.0}},\"id\":\"edf72d55-9d58-4d8a-a4ba-2f003cf579bb\",\"type\":\"Arrow\"},{\"attributes\":{\"source\":{\"id\":\"2bad31c0-ff79-4d38-9802-bb87f1789f81\",\"type\":\"ColumnDataSource\"}},\"id\":\"37fca7d9-3790-462e-b638-10b9f9c2958f\",\"type\":\"CDSView\"},{\"attributes\":{\"end\":{\"id\":\"57f6b07c-3c54-48f7-bacc-e56efbacc56c\",\"type\":\"NormalHead\"},\"line_alpha\":{\"value\":0.2},\"line_color\":{\"value\":\"blue\"},\"line_width\":{\"value\":3},\"plot\":{\"id\":\"c3de8405-4e7a-4709-afeb-abf1b61f0a72\",\"subtype\":\"Figure\",\"type\":\"Plot\"},\"source\":null,\"start\":null,\"x_end\":{\"value\":9},\"x_start\":{\"value\":0.0},\"y_end\":{\"value\":9},\"y_start\":{\"value\":0.0}},\"id\":\"3bc30210-153d-4105-9183-63615bc96395\",\"type\":\"Arrow\"},{\"attributes\":{},\"id\":\"c36baa57-eb24-43db-bbf5-375703b5d38d\",\"type\":\"LinearScale\"},{\"attributes\":{},\"id\":\"15206ae3-08f9-46ca-a35e-7ee57aad5630\",\"type\":\"BasicTicker\"},{\"attributes\":{\"callback\":null,\"end\":14.0,\"start\":-14.0},\"id\":\"424448de-66a1-48f1-aff5-082a018a83c3\",\"type\":\"Range1d\"},{\"attributes\":{\"end\":{\"id\":\"f16af1ea-639e-4ff9-acc5-5e4fb5289b78\",\"type\":\"NormalHead\"},\"line_alpha\":{\"value\":0.2},\"line_color\":{\"value\":\"red\"},\"line_width\":{\"value\":3},\"plot\":{\"id\":\"c3de8405-4e7a-4709-afeb-abf1b61f0a72\",\"subtype\":\"Figure\",\"type\":\"Plot\"},\"source\":null,\"start\":null,\"x_end\":{\"value\":1},\"x_start\":{\"value\":0.0},\"y_end\":{\"value\":-1},\"y_start\":{\"value\":0.0}},\"id\":\"82e0a301-7212-448f-b26e-c6b183d5e28c\",\"type\":\"Arrow\"},{\"attributes\":{},\"id\":\"a2e0441b-e787-4eef-9698-edf82db6e54a\",\"type\":\"WheelZoomTool\"},{\"attributes\":{\"data_source\":{\"id\":\"5a0f9f29-54f8-40f6-8188-2793d22fb254\",\"type\":\"ColumnDataSource\"},\"glyph\":{\"id\":\"058f0294-ba77-4ce6-8f35-6e4adbd27f37\",\"type\":\"Line\"},\"hover_glyph\":null,\"muted_glyph\":null,\"nonselection_glyph\":{\"id\":\"2e179c1c-ef94-4fb5-826f-3bae6f8e6533\",\"type\":\"Line\"},\"selection_glyph\":null,\"view\":{\"id\":\"ccf95b27-6bf1-4a2c-8c7a-f1a40c7c2f95\",\"type\":\"CDSView\"}},\"id\":\"84c0a938-9e30-4462-a9e1-80c52b8f23af\",\"type\":\"GlyphRenderer\"},{\"attributes\":{\"formatter\":{\"id\":\"8a41d6d4-a3b9-4146-abd4-0c8fabadeaed\",\"type\":\"BasicTickFormatter\"},\"plot\":{\"id\":\"c3de8405-4e7a-4709-afeb-abf1b61f0a72\",\"subtype\":\"Figure\",\"type\":\"Plot\"},\"ticker\":{\"id\":\"15206ae3-08f9-46ca-a35e-7ee57aad5630\",\"type\":\"BasicTicker\"}},\"id\":\"7b315e88-65c4-4658-84d9-872664f92b4d\",\"type\":\"LinearAxis\"},{\"attributes\":{},\"id\":\"d887eb4b-faa6-48d6-8e6f-c5868c5d94b0\",\"type\":\"ResetTool\"},{\"attributes\":{\"end\":{\"id\":\"848c9f3d-064c-444d-9578-c4f68db0c5dc\",\"type\":\"NormalHead\"},\"line_alpha\":{\"value\":0.2},\"line_color\":{\"value\":\"red\"},\"line_width\":{\"value\":3},\"plot\":{\"id\":\"c3de8405-4e7a-4709-afeb-abf1b61f0a72\",\"subtype\":\"Figure\",\"type\":\"Plot\"},\"source\":null,\"start\":null,\"x_end\":{\"value\":-1},\"x_start\":{\"value\":0.0},\"y_end\":{\"value\":1},\"y_start\":{\"value\":0.0}},\"id\":\"c06739d6-0f20-4bc2-ae75-f5f016fc7666\",\"type\":\"Arrow\"},{\"attributes\":{\"source\":{\"id\":\"5a0f9f29-54f8-40f6-8188-2793d22fb254\",\"type\":\"ColumnDataSource\"}},\"id\":\"ccf95b27-6bf1-4a2c-8c7a-f1a40c7c2f95\",\"type\":\"CDSView\"},{\"attributes\":{\"end\":{\"id\":\"fed870ab-0d10-459b-b188-c4e77119634f\",\"type\":\"NormalHead\"},\"line_alpha\":{\"value\":0.2},\"line_color\":{\"value\":\"blue\"},\"line_width\":{\"value\":3},\"plot\":{\"id\":\"c3de8405-4e7a-4709-afeb-abf1b61f0a72\",\"subtype\":\"Figure\",\"type\":\"Plot\"},\"source\":null,\"start\":null,\"x_end\":{\"value\":3},\"x_start\":{\"value\":0.0},\"y_end\":{\"value\":3},\"y_start\":{\"value\":0.0}},\"id\":\"37f97ef6-0966-4d60-9b19-1c7a788aba0b\",\"type\":\"Arrow\"},{\"attributes\":{},\"id\":\"6a0ea223-af07-4d83-876e-1ff0344cbbf5\",\"type\":\"LinearScale\"},{\"attributes\":{\"fill_alpha\":{\"value\":0.2},\"fill_color\":{\"value\":\"red\"},\"line_alpha\":{\"value\":0.2},\"line_color\":{\"value\":\"red\"},\"plot\":null,\"size\":10},\"id\":\"f16af1ea-639e-4ff9-acc5-5e4fb5289b78\",\"type\":\"NormalHead\"},{\"attributes\":{\"callback\":null,\"data\":{\"x\":[-20.0,20.0],\"y\":[0.0,0.0]},\"selected\":{\"id\":\"0b97eb81-599a-49c7-bc0b-ae65a9c56937\",\"type\":\"Selection\"},\"selection_policy\":{\"id\":\"a502999a-569c-4ad7-a297-9a2a1f40e924\",\"type\":\"UnionRenderers\"}},\"id\":\"2bad31c0-ff79-4d38-9802-bb87f1789f81\",\"type\":\"ColumnDataSource\"},{\"attributes\":{\"line_alpha\":0.1,\"line_color\":\"#1f77b4\",\"line_width\":1.5,\"x\":{\"field\":\"x\"},\"y\":{\"field\":\"y\"}},\"id\":\"2e179c1c-ef94-4fb5-826f-3bae6f8e6533\",\"type\":\"Line\"},{\"attributes\":{},\"id\":\"0b97eb81-599a-49c7-bc0b-ae65a9c56937\",\"type\":\"Selection\"},{\"attributes\":{\"fill_alpha\":{\"value\":0.2},\"fill_color\":{\"value\":\"red\"},\"line_alpha\":{\"value\":0.2},\"line_color\":{\"value\":\"red\"},\"plot\":null,\"size\":10},\"id\":\"848c9f3d-064c-444d-9578-c4f68db0c5dc\",\"type\":\"NormalHead\"},{\"attributes\":{\"fill_alpha\":{\"value\":0.2},\"fill_color\":{\"value\":\"blue\"},\"line_alpha\":{\"value\":0.2},\"line_color\":{\"value\":\"blue\"},\"plot\":null,\"size\":10},\"id\":\"e839b633-1394-44a7-9002-ba7280071b4f\",\"type\":\"NormalHead\"},{\"attributes\":{\"plot\":{\"id\":\"c3de8405-4e7a-4709-afeb-abf1b61f0a72\",\"subtype\":\"Figure\",\"type\":\"Plot\"},\"ticker\":{\"id\":\"15206ae3-08f9-46ca-a35e-7ee57aad5630\",\"type\":\"BasicTicker\"}},\"id\":\"2741a778-8e5b-4fec-96af-6b6562c26a07\",\"type\":\"Grid\"},{\"attributes\":{\"fill_alpha\":{\"value\":0.2},\"fill_color\":{\"value\":\"blue\"},\"line_alpha\":{\"value\":0.2},\"line_color\":{\"value\":\"blue\"},\"plot\":null,\"size\":10},\"id\":\"fed870ab-0d10-459b-b188-c4e77119634f\",\"type\":\"NormalHead\"},{\"attributes\":{\"fill_alpha\":{\"value\":0.2},\"fill_color\":{\"value\":\"blue\"},\"line_alpha\":{\"value\":0.2},\"line_color\":{\"value\":\"blue\"},\"plot\":null,\"size\":10},\"id\":\"57f6b07c-3c54-48f7-bacc-e56efbacc56c\",\"type\":\"NormalHead\"},{\"attributes\":{},\"id\":\"de6c0517-b84e-4ca2-8d4f-07ce792e60f1\",\"type\":\"Selection\"},{\"attributes\":{},\"id\":\"084bfa99-8be7-44e6-ac01-5e8658f91115\",\"type\":\"BasicTicker\"},{\"attributes\":{\"formatter\":{\"id\":\"1ddcfa57-fd56-4fac-ad14-eeea6448cc83\",\"type\":\"BasicTickFormatter\"},\"plot\":{\"id\":\"c3de8405-4e7a-4709-afeb-abf1b61f0a72\",\"subtype\":\"Figure\",\"type\":\"Plot\"},\"ticker\":{\"id\":\"084bfa99-8be7-44e6-ac01-5e8658f91115\",\"type\":\"BasicTicker\"}},\"id\":\"5725265a-fa17-4da1-955c-dfdd847161f7\",\"type\":\"LinearAxis\"},{\"attributes\":{},\"id\":\"d0eabe9b-d12f-4977-a343-3df2aa54ebe8\",\"type\":\"UnionRenderers\"},{\"attributes\":{\"below\":[{\"id\":\"7b315e88-65c4-4658-84d9-872664f92b4d\",\"type\":\"LinearAxis\"}],\"left\":[{\"id\":\"5725265a-fa17-4da1-955c-dfdd847161f7\",\"type\":\"LinearAxis\"}],\"plot_height\":700,\"plot_width\":700,\"renderers\":[{\"id\":\"7b315e88-65c4-4658-84d9-872664f92b4d\",\"type\":\"LinearAxis\"},{\"id\":\"2741a778-8e5b-4fec-96af-6b6562c26a07\",\"type\":\"Grid\"},{\"id\":\"5725265a-fa17-4da1-955c-dfdd847161f7\",\"type\":\"LinearAxis\"},{\"id\":\"6487b549-bec2-49f9-9c9d-e43a9b8a188a\",\"type\":\"Grid\"},{\"id\":\"0505fbbe-6d2d-4869-9b62-91bc62346f38\",\"type\":\"GlyphRenderer\"},{\"id\":\"84c0a938-9e30-4462-a9e1-80c52b8f23af\",\"type\":\"GlyphRenderer\"},{\"id\":\"37f97ef6-0966-4d60-9b19-1c7a788aba0b\",\"type\":\"Arrow\"},{\"id\":\"3bc30210-153d-4105-9183-63615bc96395\",\"type\":\"Arrow\"},{\"id\":\"7dcbb310-bd27-4bb9-a23b-589c6d2488f9\",\"type\":\"Arrow\"},{\"id\":\"edf72d55-9d58-4d8a-a4ba-2f003cf579bb\",\"type\":\"Arrow\"},{\"id\":\"82e0a301-7212-448f-b26e-c6b183d5e28c\",\"type\":\"Arrow\"},{\"id\":\"c06739d6-0f20-4bc2-ae75-f5f016fc7666\",\"type\":\"Arrow\"}],\"title\":{\"id\":\"9c09254a-b605-473d-9e79-455a31c3d024\",\"type\":\"Title\"},\"toolbar\":{\"id\":\"575b067c-e4c5-4b63-96b0-454ba224f616\",\"type\":\"Toolbar\"},\"x_range\":{\"id\":\"821015fc-ccdb-4062-a059-5c27f01067d7\",\"type\":\"Range1d\"},\"x_scale\":{\"id\":\"6a0ea223-af07-4d83-876e-1ff0344cbbf5\",\"type\":\"LinearScale\"},\"y_range\":{\"id\":\"424448de-66a1-48f1-aff5-082a018a83c3\",\"type\":\"Range1d\"},\"y_scale\":{\"id\":\"c36baa57-eb24-43db-bbf5-375703b5d38d\",\"type\":\"LinearScale\"}},\"id\":\"c3de8405-4e7a-4709-afeb-abf1b61f0a72\",\"subtype\":\"Figure\",\"type\":\"Plot\"},{\"attributes\":{\"line_width\":1.5,\"x\":{\"field\":\"x\"},\"y\":{\"field\":\"y\"}},\"id\":\"0425e4ff-05ab-4e6b-bdb2-b69485ee51fe\",\"type\":\"Line\"}],\"root_ids\":[\"c3de8405-4e7a-4709-afeb-abf1b61f0a72\"]},\"title\":\"Bokeh Application\",\"version\":\"0.13.0\"}};\n",
       "  var render_items = [{\"docid\":\"9a5f9bd9-b573-4a5e-bf93-336fa8c0dc9a\",\"roots\":{\"c3de8405-4e7a-4709-afeb-abf1b61f0a72\":\"64c4548c-fd0f-4183-8979-c66e58a669b9\"}}];\n",
       "  root.Bokeh.embed.embed_items_notebook(docs_json, render_items);\n",
       "\n",
       "  }\n",
       "  if (root.Bokeh !== undefined) {\n",
       "    embed_document(root);\n",
       "  } else {\n",
       "    var attempts = 0;\n",
       "    var timer = setInterval(function(root) {\n",
       "      if (root.Bokeh !== undefined) {\n",
       "        embed_document(root);\n",
       "        clearInterval(timer);\n",
       "      }\n",
       "      attempts++;\n",
       "      if (attempts > 100) {\n",
       "        console.log(\"Bokeh: ERROR: Unable to run BokehJS code because BokehJS library is missing\")\n",
       "        clearInterval(timer);\n",
       "      }\n",
       "    }, 10, root)\n",
       "  }\n",
       "})(window);"
      ],
      "application/vnd.bokehjs_exec.v0+json": ""
     },
     "metadata": {
      "application/vnd.bokehjs_exec.v0+json": {
       "id": "c3de8405-4e7a-4709-afeb-abf1b61f0a72"
      }
     },
     "output_type": "display_data"
    }
   ],
   "source": [
    "e1 = np.array([1,1])\n",
    "e2 = np.array([1,-1])\n",
    "\n",
    "# Generate Graphic\n",
    "plot.clear().graph(20)\n",
    "plot.vector(A.dot(e1),add_color=\"blue\",alpha=.2)\n",
    "plot.vector(A.dot(A.dot(e1)),add_color=\"blue\",alpha=.2)\n",
    "plot.vector(A.dot(A.dot(A.dot(e1))),add_color=\"blue\",alpha=.2)\n",
    "plot.vector(A.dot(e2),add_color=\"red\",alpha=.2)\n",
    "plot.vector(A.dot(A.dot(e2)),add_color=\"red\",alpha=.2)\n",
    "plot.vector(A.dot(A.dot(A.dot(e2))),add_color=\"red\",alpha=.2)\n",
    "plot.show()"
   ]
  },
  {
   "cell_type": "markdown",
   "metadata": {},
   "source": [
    "**What sorts of conclusions can we draw from these two eigenvectors and their corresponding eigenvalues?**\n",
    "\n",
    "<br>\n",
    "<br>\n",
    "\n",
    "With each transformation, eigenvector that corresponds with the eigen value 3 grows, whereas the eigenvector that corresponds with the eigen value -1 is stable (it just flips signs but never really changes.\n",
    "<br>\n",
    "<br>\n",
    "\n",
    "This information is really useful when studying a system of linear equations to know if some process is shrinking, growing, or at equilibrium (see the reading for examples!)"
   ]
  },
  {
   "cell_type": "markdown",
   "metadata": {},
   "source": [
    "### Deriving the Eigenvalues and Vectors using `numpy`"
   ]
  },
  {
   "cell_type": "code",
   "execution_count": 12,
   "metadata": {},
   "outputs": [],
   "source": [
    "evals, evecs = la.eig(A)"
   ]
  },
  {
   "cell_type": "code",
   "execution_count": 13,
   "metadata": {},
   "outputs": [
    {
     "data": {
      "text/plain": [
       "array([ 3., -1.])"
      ]
     },
     "execution_count": 13,
     "metadata": {},
     "output_type": "execute_result"
    }
   ],
   "source": [
    "evals"
   ]
  },
  {
   "cell_type": "code",
   "execution_count": 14,
   "metadata": {},
   "outputs": [
    {
     "data": {
      "text/plain": [
       "array([[ 0.70710678, -0.70710678],\n",
       "       [ 0.70710678,  0.70710678]])"
      ]
     },
     "execution_count": 14,
     "metadata": {},
     "output_type": "execute_result"
    }
   ],
   "source": [
    "evecs"
   ]
  },
  {
   "cell_type": "markdown",
   "metadata": {},
   "source": [
    "Why do these eigenvectors differ slightly from the ones we located manually?"
   ]
  },
  {
   "cell_type": "code",
   "execution_count": 27,
   "metadata": {},
   "outputs": [
    {
     "name": "stdout",
     "output_type": "stream",
     "text": [
      "\n",
      "Our Eigenvectors normalized\n",
      "\n",
      "E1 = [0.70710678 0.70710678]\n",
      "E2 = [-0.70710678  0.70710678]\n"
     ]
    }
   ],
   "source": [
    "e1 = np.array([1,1])\n",
    "e2 = np.array([-1,1])\n",
    "\n",
    "print(\"\\nOur Eigenvectors normalized\\n\")\n",
    "\n",
    "print('E1 =',e1/la.norm(e1))\n",
    "print('E2 =',e2/la.norm(e2))"
   ]
  },
  {
   "cell_type": "markdown",
   "metadata": {},
   "source": [
    "# Eigen Decomposition\n",
    "\n",
    "Building off the above where we derived each eigenvalue and eigenvector individually, we can express some matrix $\\textbf{A}$ as three matrices. This process of breaking down a matrix into the product of other matrices is known as factorization or a **decomposition**. \n",
    "\n",
    "Matrix decompositions come in [many flavors](https://en.wikipedia.org/wiki/Matrix_decomposition) in linear algebra and you might run into different ones to help resolve different types of problems. "
   ]
  },
  {
   "cell_type": "markdown",
   "metadata": {},
   "source": [
    "If $\\textbf{A}$ is an $n \\times n$ matrix (with $n$ linearly independent eigenvectors), then we can express the decomposition as follows.\n",
    "\n",
    "<br>\n",
    "<br>\n",
    "\n",
    "\\begin{equation}\n",
    "\\textbf{A}\\textbf{V} = \\textbf{V}\\Lambda\n",
    "\\end{equation}\n",
    "\n",
    "<br>\n",
    "<br>\n",
    "\n",
    "\\begin{equation}\n",
    "\\textbf{A} = \\textbf{V}\\Lambda\\textbf{V}^{-1}\n",
    "\\end{equation}\n",
    "\n",
    "<br>\n",
    "<br>\n",
    "\n",
    "where \n",
    "\n",
    "- $\\textbf{V}$ is a matrix of eigenvectors \n",
    "- $\\Lambda$ is a diagonal matrix of eigenvalues."
   ]
  },
  {
   "cell_type": "code",
   "execution_count": 28,
   "metadata": {},
   "outputs": [
    {
     "name": "stdout",
     "output_type": "stream",
     "text": [
      "Original Matrix A\n",
      "\n",
      "[[1 2]\n",
      " [2 1]]\n",
      "\n",
      "Decomposed Parts\n",
      "\n",
      "Eigenvectors V\n",
      "\n",
      "[[ 0.71 -0.71]\n",
      " [ 0.71  0.71]]\n",
      "\n",
      "Eigenvalues L\n",
      "\n",
      "[[ 3.  0.]\n",
      " [ 0. -1.]]\n",
      "\n",
      "Eigenvectors Inverse V^-1\n",
      "\n",
      "[[ 0.71  0.71]\n",
      " [-0.71  0.71]]\n",
      "\n",
      "Recomposed Matrix VLV^-1\n",
      "\n",
      "[[1. 2.]\n",
      " [2. 1.]]\n"
     ]
    }
   ],
   "source": [
    "L = np.diag(evals)\n",
    "V = evecs\n",
    "V_inv = la.inv(V)\n",
    "\n",
    "print('Original Matrix A\\n')\n",
    "print(A)\n",
    "\n",
    "print('\\nDecomposed Parts\\n')\n",
    "\n",
    "print('Eigenvectors V\\n')\n",
    "print(V.round(2))\n",
    "\n",
    "print('\\nEigenvalues L\\n')\n",
    "print(L.round(2))\n",
    "\n",
    "print('\\nEigenvectors Inverse V^-1\\n')\n",
    "print(V_inv.round(2))\n",
    "\n",
    "print('\\nRecomposed Matrix VLV^-1\\n')\n",
    "print(V.dot(L).dot(V_inv))"
   ]
  },
  {
   "cell_type": "markdown",
   "metadata": {},
   "source": [
    "# Properties of the Eigens\n",
    "\n",
    "#### Multiplicity\n",
    "\n",
    "Eigen decompositions have some very interesting properties, one of the most interesting features is that if we want to apply a transformation multiple times, we merely need to take a polynomial of our eigenvalues! In way, we already saw this in the initial example above.\n",
    "\n",
    "<br>\n",
    "<br>\n",
    "\n",
    "\\begin{equation}\n",
    "\\textbf{A} = \\textbf{V}\\Lambda\\textbf{V}^{-1}\n",
    "\\end{equation}\n",
    "\n",
    "<br>\n",
    "<br>\n",
    "\n",
    "\\begin{equation}\n",
    "\\textbf{A}\\textbf{A} = \\textbf{A}^2 = \\textbf{V}\\Lambda(\\textbf{V}^{-1} \\textbf{V})\\Lambda\\textbf{V}^{-1} = \\textbf{V}\\Lambda^2\\textbf{V}^{-1} \n",
    "\\end{equation}\n",
    "\n",
    "<br>\n",
    "<br>\n",
    "\n",
    "\\begin{equation}\n",
    "\\textbf{A}^n = \\textbf{V}\\Lambda^n\\textbf{V}^{-1} \n",
    "\\end{equation}\n",
    "\n",
    "<br>\n",
    "<br>\n",
    "\n",
    "This can greatly ease some computations, such as [Markov chains](http://setosa.io/ev/markov-chains/)!"
   ]
  },
  {
   "cell_type": "code",
   "execution_count": 29,
   "metadata": {},
   "outputs": [
    {
     "data": {
      "text/plain": [
       "array([[41, 40],\n",
       "       [40, 41]])"
      ]
     },
     "execution_count": 29,
     "metadata": {},
     "output_type": "execute_result"
    }
   ],
   "source": [
    "A.dot(A.dot(A.dot(A)))"
   ]
  },
  {
   "cell_type": "code",
   "execution_count": 30,
   "metadata": {},
   "outputs": [
    {
     "data": {
      "text/plain": [
       "array([[41., 40.],\n",
       "       [40., 41.]])"
      ]
     },
     "execution_count": 30,
     "metadata": {},
     "output_type": "execute_result"
    }
   ],
   "source": [
    "V.dot(L**4).dot(V_inv)"
   ]
  },
  {
   "cell_type": "markdown",
   "metadata": {},
   "source": [
    "So we needed to transform $\\vec{x}$ by $\\textbf{A}$ 25 times we could just do this."
   ]
  },
  {
   "cell_type": "code",
   "execution_count": 31,
   "metadata": {},
   "outputs": [
    {
     "data": {
      "text/plain": [
       "array([-8.47288609e+10, -8.47288609e+10])"
      ]
     },
     "execution_count": 31,
     "metadata": {},
     "output_type": "execute_result"
    }
   ],
   "source": [
    "A_25 = V.dot(L**25).dot(V_inv)\n",
    "A_25.dot(x)"
   ]
  },
  {
   "cell_type": "markdown",
   "metadata": {},
   "source": [
    "#### The product of the eigenvalues is equal to the determinant of $\\textbf{A}$"
   ]
  },
  {
   "cell_type": "code",
   "execution_count": 32,
   "metadata": {},
   "outputs": [
    {
     "data": {
      "text/plain": [
       "-2.9999999999999996"
      ]
     },
     "execution_count": 32,
     "metadata": {},
     "output_type": "execute_result"
    }
   ],
   "source": [
    "la.det(A)"
   ]
  },
  {
   "cell_type": "code",
   "execution_count": 33,
   "metadata": {},
   "outputs": [
    {
     "data": {
      "text/plain": [
       "-2.999999999999999"
      ]
     },
     "execution_count": 33,
     "metadata": {},
     "output_type": "execute_result"
    }
   ],
   "source": [
    "evals.prod()"
   ]
  },
  {
   "cell_type": "markdown",
   "metadata": {},
   "source": [
    "#### The sum of the eigenvalues is equal to the trace of $\\textbf{A}$ (i.e. the sum of the values along the diagonal of $\\textbf{A}$) "
   ]
  },
  {
   "cell_type": "code",
   "execution_count": 34,
   "metadata": {},
   "outputs": [
    {
     "data": {
      "text/plain": [
       "2"
      ]
     },
     "execution_count": 34,
     "metadata": {},
     "output_type": "execute_result"
    }
   ],
   "source": [
    "A.trace()"
   ]
  },
  {
   "cell_type": "code",
   "execution_count": 35,
   "metadata": {},
   "outputs": [
    {
     "data": {
      "text/plain": [
       "2.000000000000001"
      ]
     },
     "execution_count": 35,
     "metadata": {},
     "output_type": "execute_result"
    }
   ],
   "source": [
    "sum(evals)"
   ]
  },
  {
   "cell_type": "markdown",
   "metadata": {},
   "source": [
    "#### If $\\textbf{A}$  is invertible, then the eigenvalues of the inverse of $\\textbf{A}$  are inverted"
   ]
  },
  {
   "cell_type": "code",
   "execution_count": 36,
   "metadata": {},
   "outputs": [
    {
     "data": {
      "text/plain": [
       "array([ 3., -1.])"
      ]
     },
     "execution_count": 36,
     "metadata": {},
     "output_type": "execute_result"
    }
   ],
   "source": [
    "evals"
   ]
  },
  {
   "cell_type": "code",
   "execution_count": 37,
   "metadata": {},
   "outputs": [
    {
     "data": {
      "text/plain": [
       "array([ 0.33333333, -1.        ])"
      ]
     },
     "execution_count": 37,
     "metadata": {},
     "output_type": "execute_result"
    }
   ],
   "source": [
    "la.eigvals(la.inv(A))"
   ]
  },
  {
   "cell_type": "markdown",
   "metadata": {},
   "source": [
    "#### Eigenvectors are orthogonal to one another\n",
    "\n",
    "This means each eigenvector describes a unique dimension!"
   ]
  },
  {
   "cell_type": "code",
   "execution_count": 38,
   "metadata": {},
   "outputs": [
    {
     "data": {
      "text/plain": [
       "0.0"
      ]
     },
     "execution_count": 38,
     "metadata": {},
     "output_type": "execute_result"
    }
   ],
   "source": [
    "evecs[:,0].dot(evecs[:,1])"
   ]
  }
 ],
 "metadata": {
  "kernelspec": {
   "display_name": "Python 3",
   "language": "python",
   "name": "python3"
  },
  "language_info": {
   "codemirror_mode": {
    "name": "ipython",
    "version": 3
   },
   "file_extension": ".py",
   "mimetype": "text/x-python",
   "name": "python",
   "nbconvert_exporter": "python",
   "pygments_lexer": "ipython3",
   "version": "3.7.0"
  },
  "toc": {
   "base_numbering": 1,
   "nav_menu": {},
   "number_sections": false,
   "sideBar": false,
   "skip_h1_title": false,
   "title_cell": "Table of Contents",
   "title_sidebar": "Contents",
   "toc_cell": false,
   "toc_position": {},
   "toc_section_display": false,
   "toc_window_display": false
  }
 },
 "nbformat": 4,
 "nbformat_minor": 2
}
