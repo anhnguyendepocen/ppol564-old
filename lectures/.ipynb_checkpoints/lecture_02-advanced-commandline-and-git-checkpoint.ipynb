{
 "cells": [
  {
   "cell_type": "markdown",
   "metadata": {
    "slideshow": {
     "slide_type": "slide"
    }
   },
   "source": [
    "<h1><center>Foundations of Data Science</center></h1>\n",
    "<h3><font color='grey'><center> Delving Deeper into the Commandline and Git</center></font></h3>\n",
    "<br>\n",
    "<h4><center> Lecture 2 </center></h4>"
   ]
  },
  {
   "cell_type": "markdown",
   "metadata": {
    "slideshow": {
     "slide_type": "slide"
    }
   },
   "source": [
    "**Last Time**\n",
    "\n",
    "- Thought through why version control and documentation is useful\n",
    "- Walked through basic use of the command line\n",
    "- Began using Git + Github\n",
    "\n",
    "<br>\n",
    "\n",
    "**This Time**\n",
    "- Continue expanding our knowledge of the commandline \n",
    "- Using branches in Git\n",
    "- Using the REPL and Jupyter Notebooks for coding in Python"
   ]
  },
  {
   "cell_type": "markdown",
   "metadata": {
    "slideshow": {
     "slide_type": "slide"
    }
   },
   "source": [
    "<h1><center>Back to the Commandline</center></h1>"
   ]
  },
  {
   "cell_type": "markdown",
   "metadata": {
    "slideshow": {
     "slide_type": "subslide"
    }
   },
   "source": [
    "<h2><center>Commandline Refresher</center></h2>\n",
    "\n",
    "- `pwd`: check working directory\n",
    "- `cd <path>`: change working directory\n",
    "    + `cd ..`: go back to the last directory\n",
    "    + `cd  `: go to the top directory\n",
    "    + `cd -`: go back to where you once where\n",
    "- `ls`: list all files in the working directory\n",
    "- `mkdir <dir name>`: make a directory\n",
    "- `mv <old path> <new path>`: move file from old path to new path\n",
    "- `cp <old path> <new path>`: copy file from old path to new path"
   ]
  },
  {
   "cell_type": "markdown",
   "metadata": {
    "slideshow": {
     "slide_type": "subslide"
    }
   },
   "source": [
    "<h2><center>Commandline Refresher</center></h2>\n",
    "\n",
    "- **Making a file**:\n",
    "    - `touch <file name>`\n",
    "    - `echo 'text' > file`\n",
    "    - Other Ways\n",
    "        - `printf 'text' > file`\n",
    "        - `cat > file`\n",
    "        - `nano file` (+ `text` + [ctr + w] + enter + [ctr + x])\n",
    "        - `vi file` (+ `i` + `text` + esc + `:wq`)\n",
    "        \n",
    "        \n",
    "        \n",
    "- **Editing a File**\n",
    "    - `open file`\n",
    "    - `nano file` (+ `text` + [ctr + w] + enter + [ctr + x])\n",
    "    - `vi file` (+ `i` + `text` + esc + `:wq`)\n",
    "    \n",
    "    \n",
    "    \n",
    "- **Renaming a File**\n",
    "    - `mv <old file name> <new file name>`\n"
   ]
  },
  {
   "cell_type": "markdown",
   "metadata": {
    "slideshow": {
     "slide_type": "subslide"
    }
   },
   "source": [
    "<h2><center>Commandline Refresher</center></h2>\n",
    "\n",
    "- **Help**:\n",
    "    - `man <command name>`\n",
    "    - `<command name> -h`"
   ]
  },
  {
   "cell_type": "markdown",
   "metadata": {
    "slideshow": {
     "slide_type": "subslide"
    }
   },
   "source": [
    "<h2><center> Break an Ongoing Process </center></h2>\n",
    "\n",
    "- **<span color='#c1261b'>STOP</span> whatever it is you're doing**\n",
    "    - `ctr + c`: stops current execution.\n",
    "    \n",
    "For example,\n",
    "\n",
    "```bash\n",
    "echo '\n",
    "while True:\n",
    "    print(\"-\")\n",
    "    print(\"--\")\n",
    "    print(\"---\")' | \n",
    "python3\n",
    "```\n",
    "This will run forever or until our memory is full. Let's stop it."
   ]
  },
  {
   "cell_type": "markdown",
   "metadata": {
    "slideshow": {
     "slide_type": "subslide"
    }
   },
   "source": [
    "<h2><center>Viewing Files</center></h2>\n",
    "\n",
    "- `cat file`: print the entire file\n",
    "- `less`: view the output as \"pages\"\n",
    "    - `:n` =  next page (or space),`:p` = past page, `:q` = quit page\n",
    "- `head`: view the start of a file to some $N$ number of lines\n",
    "    - `head -n 3 file`\n",
    "- `tail`: view the end of a file to some $N$ number of lines\n",
    "    - `tail -n 3 file`"
   ]
  },
  {
   "cell_type": "markdown",
   "metadata": {
    "slideshow": {
     "slide_type": "subslide"
    }
   },
   "source": [
    "<h2><center>Finding Files</center></h2>\n",
    "\n",
    "- **Searching within Files**\n",
    "    - `grep`: selects lines according to what they contain.\n",
    "        - Relevant arguments\n",
    "            - `- c`: print a count of matching lines rather than the lines themselves\n",
    "            - `- h`: do not print the names of files when searching multiple files\n",
    "            - `- i`: ignore case (e.g., treat \"Goose\" and \"goose\" as matches)\n",
    "            - `- l`: print the names of files that contain matches, not the matches\n",
    "            - `- n`: print line numbers for matching lines\n",
    "            - `- v`: invert the match, i.e., only show lines that don't match\n",
    "- **Liberal use of `TAB`**\n",
    "    + `open my_fi` + TAB (to complete all files in the working directory that match that file)\n",
    "- **Wildcard operator** (or fuzzy match)\n",
    "    + `open *.pdf`"
   ]
  },
  {
   "cell_type": "markdown",
   "metadata": {
    "slideshow": {
     "slide_type": "subslide"
    }
   },
   "source": [
    "<h2><center>Piping</center></h2>\n",
    "\n",
    "- `<commands on the left side> | <get passed to commands on the right>`    \n",
    "    \n",
    "```bash\n",
    "echo 'cat cat cat \n",
    "dog dog goose cat' |\n",
    "head -n 1\n",
    "```\n",
    "```\n",
    "cat cat cat\n",
    "```\n"
   ]
  },
  {
   "cell_type": "markdown",
   "metadata": {
    "slideshow": {
     "slide_type": "subslide"
    }
   },
   "source": [
    "<h2><center>Variable Assignment</center></h2>\n",
    "\n",
    "\n",
    "+ `variable=value`: no space between the variable value and assignment name\n",
    "+ `$` + `variable`: to access the value within \n",
    "\n",
    "Example,\n",
    "\n",
    "```bash\n",
    "x=4  \n",
    "echo x\n",
    "echo $x # Use the $ to call to the values within the variable\n",
    "```"
   ]
  },
  {
   "cell_type": "markdown",
   "metadata": {
    "slideshow": {
     "slide_type": "subslide"
    }
   },
   "source": [
    "<h2><center>Aliases</center></h2>\n",
    "\n",
    "\n",
    "- allows a user to create simple names or abbreviations for commands no matter how complex \n",
    "- use those abbreviations in the same way that ordinary commands are used\n",
    "- recognized only by the shell in which they are created/\n",
    "    \n",
    "Example 1: build an alias to make shortcuts to our desktop and dropbox\n",
    "```bash\n",
    "alias my_desk='cd ~/Desktop/'\n",
    "alias my_drop='cd ~/Dropbox/'\n",
    "my_desk\n",
    "my_drop\n",
    "```\n",
    "\n",
    "Example 2: pretty out of the git log to see time line\n",
    "```bash\n",
    "alias gstory='git log --oneline --decorate --all --graph'\n",
    "gstory # Assuming we are in a git directory\n",
    "```"
   ]
  },
  {
   "cell_type": "markdown",
   "metadata": {
    "slideshow": {
     "slide_type": "subslide"
    }
   },
   "source": [
    "<h2><center>Functions</center></h2>\n",
    "\n",
    "- Similar to aliases, we can make abbreviated commands that help us work on the commandline\n",
    "- again, recognized only by the shell in which they are created\n",
    "    \n",
    "Example: build a function that makes shortcuts to our desktop and prints a message telling use where we are going.\n",
    "```bash\n",
    "my_desk () {\n",
    "    cd ~/Desktop/\n",
    "    echo \"Heading to the Desktop\"\n",
    "}\n",
    "my_desk\n",
    "```"
   ]
  },
  {
   "cell_type": "markdown",
   "metadata": {
    "slideshow": {
     "slide_type": "subslide"
    }
   },
   "source": [
    "<h2><center>Functions + arguments</center></h2>\n",
    "\n",
    "\n",
    "- order to the arguments subsequently passed specified by integer values\n",
    "- order can be re-arranged within the function\n",
    "    \n",
    "Example: build a function that prints $n$ number of lines from a file\n",
    "```bash\n",
    "pp () {\n",
    "    head -n $2 $1\n",
    "}\n",
    "pp text.txt 4\n",
    "```"
   ]
  },
  {
   "cell_type": "markdown",
   "metadata": {
    "slideshow": {
     "slide_type": "subslide"
    }
   },
   "source": [
    "<h2><center> Running Shell Scripts </center></h2>\n",
    "\n",
    "- We can construct programs that we can then pass into the shell.\n",
    "- `.sh` file type\n",
    "- `source` or `bash` (depending if one is running bash)\n",
    "\n",
    "    \n",
    "Example: {my-prog.sh}\n",
    "```bash \n",
    "echo \"alias my_desk='cd ~/Desktop/'\" > my-prog.sh\n",
    "source my-prog.sh\n",
    "my_desk\n",
    "```"
   ]
  },
  {
   "cell_type": "markdown",
   "metadata": {
    "slideshow": {
     "slide_type": "subslide"
    }
   },
   "source": [
    "<h2><center>Commandline &rarr; A Deeper Dive</center></h2>\n",
    "\n",
    "**The point of it all...**\n",
    "1. Understand file paths on your computer \n",
    "2. Serves as a common hub from which to work\n",
    "3. Reproducible sequence\n",
    "4. Streamline work flow\n",
    "    + set projects up\n",
    "    + work between languages\n",
    "    + batch process heavy loads\n",
    "5. Vital when speaking to a computing cluster, working on a virtual machine, or ssh-ing into a local computer"
   ]
  },
  {
   "cell_type": "markdown",
   "metadata": {
    "slideshow": {
     "slide_type": "slide"
    }
   },
   "source": [
    "<h1><center>Version Control with Git</center></h1>"
   ]
  },
  {
   "cell_type": "markdown",
   "metadata": {
    "slideshow": {
     "slide_type": "subslide"
    }
   },
   "source": [
    "<h2><center>Git Refresher</center></h2>\n",
    "\n",
    "- &rarr; `git init`: start a new repository from a working directory\n",
    "- &rarr; `git clone <url or location to repository>`: clone an existing repository\n",
    "- &rarr; `git status`: get the current status of the repository.\n",
    "\n",
    "\n",
    "- &rarr; `git add <file>`: stage a file to be committed \n",
    "- &rarr; `git add .`: stage all files to be committed\n",
    "- &rarr; `git git reset HEAD <file> `: un-stage all files to be committed\n",
    "\n",
    "\n",
    "- &rarr; `git commit -m \"some message\"`: commit staged changes to repository \n",
    "- &rarr; `git commit`: commit staged changes to repository (will be prompted to leave a message)"
   ]
  },
  {
   "cell_type": "markdown",
   "metadata": {
    "slideshow": {
     "slide_type": "subslide"
    }
   },
   "source": [
    "<h2><center>Git Refresher</center></h2>\n",
    "\n",
    "- &rarr; `git fetch`: download recent changes in the remote repository (but do not explicitly merge with your local version)\n",
    "- &rarr; `git pull`: download recent changes in the remote repository and merge with your local version)\n",
    "\n",
    "\n",
    "- &rarr; `git push`: push commits to remote (e.g. github repository)"
   ]
  },
  {
   "cell_type": "markdown",
   "metadata": {
    "slideshow": {
     "slide_type": "subslide"
    }
   },
   "source": [
    "<h2><center>Git Refresher</center></h2>\n",
    "\n",
    "**Getting Help**\n",
    "\n",
    "- `git help <verb>`\n",
    "- `man git-<verb>`\n",
    "    \n",
    "```bash\n",
    "git help log \n",
    "\n",
    "# or \n",
    "\n",
    "man git-log\n",
    "```"
   ]
  },
  {
   "cell_type": "markdown",
   "metadata": {
    "slideshow": {
     "slide_type": "subslide"
    }
   },
   "source": [
    "<h2><center>Git Config </center></h2>\n",
    "\n",
    "Recall that we are generating a historical record on the project, so we want to know who is who when reviewing the changes. To this end, let's generate \n",
    "\n",
    "- `git config --list`: list off all your configured settings\n",
    "\n",
    "\n",
    "- `git config [args]`\n",
    "    - `--system`: settings for every user on your computer.\n",
    "    - `--global`: settings for every one on your projects.\n",
    "    - `--local`: settings for one specific project.\n",
    "    - e.g. `git config --list --local`\n",
    "\n",
    "\n",
    "- **Set up your identity**\n",
    "    - `git config --global user.name \"myname\"`: Set up a user name\n",
    "    - `    git config --global user.email your-email@georgetown.edu`: Set up a user name"
   ]
  },
  {
   "cell_type": "markdown",
   "metadata": {
    "slideshow": {
     "slide_type": "subslide"
    }
   },
   "source": [
    "<h2><center> Reviewing Commit History </center></h2>\n",
    "\n",
    "- `git log`: look at the commit history\n",
    "    + Contains a range of useful arguments:\n",
    "        + `--oneline`: view a condensed summary \n",
    "        + `--all`: view the entire commit history\n",
    "        + `--graph`: view a text graph of the commit sequence\n",
    "        + `--stat`: abbreviated stats for each commit\n",
    "        + `--since=2.weeks`: review commits within some temporal range\n",
    "- Easily format the log\n",
    "    + `git log --pretty=format:\"%h - %an, %ar : %s\"`\n",
    "    + see [Git Basics on Viewing the Commit History](https://git-scm.com/book/en/v2/Git-Basics-Viewing-the-Commit-History) for more insight into the different possible configurations and customizations"
   ]
  },
  {
   "cell_type": "markdown",
   "metadata": {
    "slideshow": {
     "slide_type": "subslide"
    }
   },
   "source": [
    "<h2><center> Tracking Differences </center></h2>\n",
    "\n",
    "- `git diff` &rarr; explore the differences between files\n",
    "    - `git diff <commit 1> <commit 2>`\n",
    "    - Use the hash hexidecimal code to compare commits\n",
    "        + e.g. `git diff 44d14b2 2adbea3`\n",
    "- `git whatchanged`"
   ]
  },
  {
   "cell_type": "markdown",
   "metadata": {
    "slideshow": {
     "slide_type": "subslide"
    }
   },
   "source": [
    "<h2><center> Tracking Movement </center></h2>\n",
    "\n",
    "- **Move files around so that the git history is retained**\n",
    "    - `git mv old-file-location new-file-location` \n",
    "    \n",
    "    \n",
    "- **Rename files so that the git history is retained**\n",
    "    - `git mv old-file-name new-file-name` \n",
    "\n",
    "\n",
    "If we were to just rename or move a file, Git doesn't necessarily know that it was already tracking that file."
   ]
  },
  {
   "cell_type": "markdown",
   "metadata": {
    "slideshow": {
     "slide_type": "subslide"
    }
   },
   "source": [
    "<h2><center> Time Traveling </center></h2>\n",
    "\n",
    "- **Move to prior snapshots of the project**\n",
    "    - `git checkout <commit-hash>` \n",
    "- **Revert the project to a prior point**\n",
    "    - `git revert <commit-hash>` "
   ]
  },
  {
   "cell_type": "markdown",
   "metadata": {
    "slideshow": {
     "slide_type": "subslide"
    }
   },
   "source": [
    "<h2><center>Git \n",
    "    Branches </center></h2>\n",
    "\n",
    "- A branch in Git is a lightweight, movable pointer to a commit.\n",
    "- Default branch is named \"**_master_**\"\n",
    "\n",
    "**Create new branch**\n",
    "```bash \n",
    "git branch <name-of-new-branch>\n",
    "```\n",
    "\n",
    "**Checkout a branch**\n",
    "```bash \n",
    "git checkout <name-of-branch>\n",
    "```\n",
    "\n",
    "**Do both simultaneously**\n",
    "```bash \n",
    "git checkout -b <name-of-new-branch>\n",
    "```"
   ]
  },
  {
   "cell_type": "markdown",
   "metadata": {
    "slideshow": {
     "slide_type": "subslide"
    }
   },
   "source": [
    "<h2><center> Branches </center></h2>\n",
    "\n",
    "**Merging branches**\n",
    "```bash \n",
    "git merge <name-of-main-branch> <name-of-branch-to-be-merged>\n",
    "```\n",
    "\n",
    "**Deleting branches**\n",
    "```bash \n",
    "git branch -d <name-of-branch>\n",
    "```\n",
    "\n",
    "**Seeing Last Commit on each branch**\n",
    "```bash\n",
    "git branch -v\n",
    "```\n",
    "\n",
    "Let's visualize this process &rarr; [Visualize Git](http://git-school.github.io/visualizing-git/). Let's think of how branching can serve our work flow needs."
   ]
  },
  {
   "cell_type": "markdown",
   "metadata": {
    "slideshow": {
     "slide_type": "subslide"
    }
   },
   "source": [
    "<h2><center>Git  &rarr; Branches &rarr; Merge Conflicts </center></h2>\n",
    "\n",
    "Sometimes there are conflicts between branches that we are intending to merge. Say you changed the same part of the same file differently in the two branches and then try to merge those two branches together, Git won’t be able to merge them cleanly.\n",
    "\n",
    "Git adds standard <u>**conflict-resolution markers**</u> to the files that have conflicts, so you can open them manually and resolve those conflicts.\n",
    "\n",
    "\n",
    "```\n",
    "<<<<<<< HEAD\n",
    "Here I'll change the text. Make a different change.\n",
    "=======\n",
    "Here I'll change the text. Some more.\n",
    ">>>>>>> new-branch\n",
    "```\n",
    "\n",
    "\n",
    "There are large number of conflict approaches. **The point is that Git is very careful to force you to check when and where discrepancies exist and resolve them yourself.**"
   ]
  },
  {
   "cell_type": "markdown",
   "metadata": {
    "slideshow": {
     "slide_type": "subslide"
    }
   },
   "source": [
    "<h2><center> Remotes </center></h2>\n",
    "\n",
    "- **Git Remote**:\n",
    "    - &rarr; `git remote add origin https://github.com/user/repo.git`  \n",
    "    - &rarr; `git remote add <name-of-our-remote> <REMOTE_URL>`  \n",
    "    - We can add another remote to say another git repository service, like [bitbucket](https://bitbucket.org/). We'll push and pull this remote to a specific \"branch\", as our main branch is already linked to Github\n",
    "    \n",
    "    \n",
    "- **Looking at our different remotes**\n",
    "    - `git remote`\n",
    "    - `git ls-remote`\n",
    "    - `git remote -v`: shows the URL of the remotes"
   ]
  },
  {
   "cell_type": "markdown",
   "metadata": {
    "slideshow": {
     "slide_type": "subslide"
    }
   },
   "source": [
    "<h2><center> Remotes </center></h2>\n",
    "\n",
    "- **Fetching from a remote**\n",
    "    - `git fetch <remote-name>`\n",
    "    \n",
    "    \n",
    "- **Pushing changes to the remote**\n",
    "    - `git push -u <remote> <branch>`: telling it which remote we are pushing to.\n",
    "    - `git push -u origin master`: telling it which remote we are pushing to."
   ]
  },
  {
   "cell_type": "markdown",
   "metadata": {
    "slideshow": {
     "slide_type": "subslide"
    }
   },
   "source": [
    "<h2><center> Remotes </center></h2>\n",
    "\n",
    "- **Inspecting Remotes**\n",
    "    - `git remote show origin`\n",
    "    - `git remote show`\n",
    "    \n",
    "    \n",
    "- **Renaming Remotes**\n",
    "    - `git remote rename origin my-go-to-remote`\n",
    "    \n",
    "    \n",
    "- **Removing Remotes**\n",
    "    - `git remote remove <remote-name>`\n"
   ]
  },
  {
   "cell_type": "markdown",
   "metadata": {
    "slideshow": {
     "slide_type": "subslide"
    }
   },
   "source": [
    "<h2><center>Git  Ignore </center></h2>\n",
    "\n",
    "Sometimes we do not want to track certain file types. \n",
    "\n",
    "For example, really big data sources that we wouldn't want to push to the repo, or log files that are constantly being updated everytime we run some process, but are otherwise meaningless. \n",
    "\n",
    "We can exclude these files by adding a `.gitignore` file to our project folder.\n",
    "\n",
    "\n",
    "```bash\n",
    "echo '*.ipynb_checkpoints *.Rdata' > .gitignore\n",
    "```"
   ]
  },
  {
   "cell_type": "markdown",
   "metadata": {
    "slideshow": {
     "slide_type": "subslide"
    }
   },
   "source": [
    "<h2><center>Git  Aliases </center></h2>\n",
    "\n",
    "Much like making aliases in the shell, we do so with git to make our lives easier\n",
    "\n",
    "```bash\n",
    "git config --global alias.unstage 'reset HEAD --'\n",
    "git config --global alias.last 'log -1 HEAD'\n",
    "git config --global alias.pg 'log --oneline --graph --decorate --all'\n",
    "```"
   ]
  },
  {
   "cell_type": "markdown",
   "metadata": {
    "slideshow": {
     "slide_type": "subslide"
    }
   },
   "source": [
    "<h2><center>Git Graphical User Interfaces </center></h2>\n",
    "\n",
    "Keep in mind that there are graphical ways to probe a repositories record:\n",
    "\n",
    "- **Github record** online\n",
    "- `gitk`: initiated in the commandline.\n",
    "- [Github desktop](https://desktop.github.com/)\n",
    "- Plug-ins\n",
    "    + R Studio has a great git interface\n",
    "    + Atom and the like"
   ]
  },
  {
   "cell_type": "markdown",
   "metadata": {
    "slideshow": {
     "slide_type": "slide"
    }
   },
   "source": [
    "<h3><center>References</center></h3>\n",
    "\n",
    "Wording for some slides were pulled from: Scott and Ben Straub. (2014). ‘Pro Git’. Ed. 2: https://git- scm.com/book/en/v2"
   ]
  },
  {
   "cell_type": "code",
   "execution_count": null,
   "metadata": {},
   "outputs": [],
   "source": []
  }
 ],
 "metadata": {
  "celltoolbar": "Slideshow",
  "kernelspec": {
   "display_name": "Python 3",
   "language": "python",
   "name": "python3"
  },
  "language_info": {
   "codemirror_mode": {
    "name": "ipython",
    "version": 3
   },
   "file_extension": ".py",
   "mimetype": "text/x-python",
   "name": "python",
   "nbconvert_exporter": "python",
   "pygments_lexer": "ipython3",
   "version": "3.7.0"
  }
 },
 "nbformat": 4,
 "nbformat_minor": 2
}
