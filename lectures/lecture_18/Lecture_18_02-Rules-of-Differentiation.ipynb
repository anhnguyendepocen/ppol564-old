{
 "cells": [
  {
   "cell_type": "markdown",
   "metadata": {},
   "source": [
    "<h1><center> PPOL564 | Data Science 1: Foundations </center><h1>\n",
    "<h3><center> Lecture 18 <br><br><font color='grey'> \n",
    "    Rules of Differentiation </font></center></h3>"
   ]
  },
  {
   "cell_type": "markdown",
   "metadata": {},
   "source": [
    "## Concepts Covered:\n",
    "\n",
    "- Delve into some of the most useful rules of derivatives. We'll cover how they are derived and the intuition underpinning them.\n",
    "- Introduction to the symbolic math library `sympy`"
   ]
  },
  {
   "cell_type": "code",
   "execution_count": 1,
   "metadata": {},
   "outputs": [
    {
     "data": {
      "text/html": [
       "\n",
       "    <div class=\"bk-root\">\n",
       "        <a href=\"https://bokeh.pydata.org\" target=\"_blank\" class=\"bk-logo bk-logo-small bk-logo-notebook\"></a>\n",
       "        <span id=\"b1f35ba0-3f62-474e-aee6-dec5a02ee465\">Loading BokehJS ...</span>\n",
       "    </div>"
      ]
     },
     "metadata": {},
     "output_type": "display_data"
    },
    {
     "data": {
      "application/javascript": [
       "\n",
       "(function(root) {\n",
       "  function now() {\n",
       "    return new Date();\n",
       "  }\n",
       "\n",
       "  var force = true;\n",
       "\n",
       "  if (typeof (root._bokeh_onload_callbacks) === \"undefined\" || force === true) {\n",
       "    root._bokeh_onload_callbacks = [];\n",
       "    root._bokeh_is_loading = undefined;\n",
       "  }\n",
       "\n",
       "  var JS_MIME_TYPE = 'application/javascript';\n",
       "  var HTML_MIME_TYPE = 'text/html';\n",
       "  var EXEC_MIME_TYPE = 'application/vnd.bokehjs_exec.v0+json';\n",
       "  var CLASS_NAME = 'output_bokeh rendered_html';\n",
       "\n",
       "  /**\n",
       "   * Render data to the DOM node\n",
       "   */\n",
       "  function render(props, node) {\n",
       "    var script = document.createElement(\"script\");\n",
       "    node.appendChild(script);\n",
       "  }\n",
       "\n",
       "  /**\n",
       "   * Handle when an output is cleared or removed\n",
       "   */\n",
       "  function handleClearOutput(event, handle) {\n",
       "    var cell = handle.cell;\n",
       "\n",
       "    var id = cell.output_area._bokeh_element_id;\n",
       "    var server_id = cell.output_area._bokeh_server_id;\n",
       "    // Clean up Bokeh references\n",
       "    if (id != null && id in Bokeh.index) {\n",
       "      Bokeh.index[id].model.document.clear();\n",
       "      delete Bokeh.index[id];\n",
       "    }\n",
       "\n",
       "    if (server_id !== undefined) {\n",
       "      // Clean up Bokeh references\n",
       "      var cmd = \"from bokeh.io.state import curstate; print(curstate().uuid_to_server['\" + server_id + \"'].get_sessions()[0].document.roots[0]._id)\";\n",
       "      cell.notebook.kernel.execute(cmd, {\n",
       "        iopub: {\n",
       "          output: function(msg) {\n",
       "            var id = msg.content.text.trim();\n",
       "            if (id in Bokeh.index) {\n",
       "              Bokeh.index[id].model.document.clear();\n",
       "              delete Bokeh.index[id];\n",
       "            }\n",
       "          }\n",
       "        }\n",
       "      });\n",
       "      // Destroy server and session\n",
       "      var cmd = \"import bokeh.io.notebook as ion; ion.destroy_server('\" + server_id + \"')\";\n",
       "      cell.notebook.kernel.execute(cmd);\n",
       "    }\n",
       "  }\n",
       "\n",
       "  /**\n",
       "   * Handle when a new output is added\n",
       "   */\n",
       "  function handleAddOutput(event, handle) {\n",
       "    var output_area = handle.output_area;\n",
       "    var output = handle.output;\n",
       "\n",
       "    // limit handleAddOutput to display_data with EXEC_MIME_TYPE content only\n",
       "    if ((output.output_type != \"display_data\") || (!output.data.hasOwnProperty(EXEC_MIME_TYPE))) {\n",
       "      return\n",
       "    }\n",
       "\n",
       "    var toinsert = output_area.element.find(\".\" + CLASS_NAME.split(' ')[0]);\n",
       "\n",
       "    if (output.metadata[EXEC_MIME_TYPE][\"id\"] !== undefined) {\n",
       "      toinsert[toinsert.length - 1].firstChild.textContent = output.data[JS_MIME_TYPE];\n",
       "      // store reference to embed id on output_area\n",
       "      output_area._bokeh_element_id = output.metadata[EXEC_MIME_TYPE][\"id\"];\n",
       "    }\n",
       "    if (output.metadata[EXEC_MIME_TYPE][\"server_id\"] !== undefined) {\n",
       "      var bk_div = document.createElement(\"div\");\n",
       "      bk_div.innerHTML = output.data[HTML_MIME_TYPE];\n",
       "      var script_attrs = bk_div.children[0].attributes;\n",
       "      for (var i = 0; i < script_attrs.length; i++) {\n",
       "        toinsert[toinsert.length - 1].firstChild.setAttribute(script_attrs[i].name, script_attrs[i].value);\n",
       "      }\n",
       "      // store reference to server id on output_area\n",
       "      output_area._bokeh_server_id = output.metadata[EXEC_MIME_TYPE][\"server_id\"];\n",
       "    }\n",
       "  }\n",
       "\n",
       "  function register_renderer(events, OutputArea) {\n",
       "\n",
       "    function append_mime(data, metadata, element) {\n",
       "      // create a DOM node to render to\n",
       "      var toinsert = this.create_output_subarea(\n",
       "        metadata,\n",
       "        CLASS_NAME,\n",
       "        EXEC_MIME_TYPE\n",
       "      );\n",
       "      this.keyboard_manager.register_events(toinsert);\n",
       "      // Render to node\n",
       "      var props = {data: data, metadata: metadata[EXEC_MIME_TYPE]};\n",
       "      render(props, toinsert[toinsert.length - 1]);\n",
       "      element.append(toinsert);\n",
       "      return toinsert\n",
       "    }\n",
       "\n",
       "    /* Handle when an output is cleared or removed */\n",
       "    events.on('clear_output.CodeCell', handleClearOutput);\n",
       "    events.on('delete.Cell', handleClearOutput);\n",
       "\n",
       "    /* Handle when a new output is added */\n",
       "    events.on('output_added.OutputArea', handleAddOutput);\n",
       "\n",
       "    /**\n",
       "     * Register the mime type and append_mime function with output_area\n",
       "     */\n",
       "    OutputArea.prototype.register_mime_type(EXEC_MIME_TYPE, append_mime, {\n",
       "      /* Is output safe? */\n",
       "      safe: true,\n",
       "      /* Index of renderer in `output_area.display_order` */\n",
       "      index: 0\n",
       "    });\n",
       "  }\n",
       "\n",
       "  // register the mime type if in Jupyter Notebook environment and previously unregistered\n",
       "  if (root.Jupyter !== undefined) {\n",
       "    var events = require('base/js/events');\n",
       "    var OutputArea = require('notebook/js/outputarea').OutputArea;\n",
       "\n",
       "    if (OutputArea.prototype.mime_types().indexOf(EXEC_MIME_TYPE) == -1) {\n",
       "      register_renderer(events, OutputArea);\n",
       "    }\n",
       "  }\n",
       "\n",
       "  \n",
       "  if (typeof (root._bokeh_timeout) === \"undefined\" || force === true) {\n",
       "    root._bokeh_timeout = Date.now() + 5000;\n",
       "    root._bokeh_failed_load = false;\n",
       "  }\n",
       "\n",
       "  var NB_LOAD_WARNING = {'data': {'text/html':\n",
       "     \"<div style='background-color: #fdd'>\\n\"+\n",
       "     \"<p>\\n\"+\n",
       "     \"BokehJS does not appear to have successfully loaded. If loading BokehJS from CDN, this \\n\"+\n",
       "     \"may be due to a slow or bad network connection. Possible fixes:\\n\"+\n",
       "     \"</p>\\n\"+\n",
       "     \"<ul>\\n\"+\n",
       "     \"<li>re-rerun `output_notebook()` to attempt to load from CDN again, or</li>\\n\"+\n",
       "     \"<li>use INLINE resources instead, as so:</li>\\n\"+\n",
       "     \"</ul>\\n\"+\n",
       "     \"<code>\\n\"+\n",
       "     \"from bokeh.resources import INLINE\\n\"+\n",
       "     \"output_notebook(resources=INLINE)\\n\"+\n",
       "     \"</code>\\n\"+\n",
       "     \"</div>\"}};\n",
       "\n",
       "  function display_loaded() {\n",
       "    var el = document.getElementById(\"b1f35ba0-3f62-474e-aee6-dec5a02ee465\");\n",
       "    if (el != null) {\n",
       "      el.textContent = \"BokehJS is loading...\";\n",
       "    }\n",
       "    if (root.Bokeh !== undefined) {\n",
       "      if (el != null) {\n",
       "        el.textContent = \"BokehJS \" + root.Bokeh.version + \" successfully loaded.\";\n",
       "      }\n",
       "    } else if (Date.now() < root._bokeh_timeout) {\n",
       "      setTimeout(display_loaded, 100)\n",
       "    }\n",
       "  }\n",
       "\n",
       "\n",
       "  function run_callbacks() {\n",
       "    try {\n",
       "      root._bokeh_onload_callbacks.forEach(function(callback) { callback() });\n",
       "    }\n",
       "    finally {\n",
       "      delete root._bokeh_onload_callbacks\n",
       "    }\n",
       "    console.info(\"Bokeh: all callbacks have finished\");\n",
       "  }\n",
       "\n",
       "  function load_libs(js_urls, callback) {\n",
       "    root._bokeh_onload_callbacks.push(callback);\n",
       "    if (root._bokeh_is_loading > 0) {\n",
       "      console.log(\"Bokeh: BokehJS is being loaded, scheduling callback at\", now());\n",
       "      return null;\n",
       "    }\n",
       "    if (js_urls == null || js_urls.length === 0) {\n",
       "      run_callbacks();\n",
       "      return null;\n",
       "    }\n",
       "    console.log(\"Bokeh: BokehJS not loaded, scheduling load and callback at\", now());\n",
       "    root._bokeh_is_loading = js_urls.length;\n",
       "    for (var i = 0; i < js_urls.length; i++) {\n",
       "      var url = js_urls[i];\n",
       "      var s = document.createElement('script');\n",
       "      s.src = url;\n",
       "      s.async = false;\n",
       "      s.onreadystatechange = s.onload = function() {\n",
       "        root._bokeh_is_loading--;\n",
       "        if (root._bokeh_is_loading === 0) {\n",
       "          console.log(\"Bokeh: all BokehJS libraries loaded\");\n",
       "          run_callbacks()\n",
       "        }\n",
       "      };\n",
       "      s.onerror = function() {\n",
       "        console.warn(\"failed to load library \" + url);\n",
       "      };\n",
       "      console.log(\"Bokeh: injecting script tag for BokehJS library: \", url);\n",
       "      document.getElementsByTagName(\"head\")[0].appendChild(s);\n",
       "    }\n",
       "  };var element = document.getElementById(\"b1f35ba0-3f62-474e-aee6-dec5a02ee465\");\n",
       "  if (element == null) {\n",
       "    console.log(\"Bokeh: ERROR: autoload.js configured with elementid 'b1f35ba0-3f62-474e-aee6-dec5a02ee465' but no matching script tag was found. \")\n",
       "    return false;\n",
       "  }\n",
       "\n",
       "  var js_urls = [\"https://cdn.pydata.org/bokeh/release/bokeh-0.13.0.min.js\", \"https://cdn.pydata.org/bokeh/release/bokeh-widgets-0.13.0.min.js\", \"https://cdn.pydata.org/bokeh/release/bokeh-tables-0.13.0.min.js\", \"https://cdn.pydata.org/bokeh/release/bokeh-gl-0.13.0.min.js\"];\n",
       "\n",
       "  var inline_js = [\n",
       "    function(Bokeh) {\n",
       "      Bokeh.set_log_level(\"info\");\n",
       "    },\n",
       "    \n",
       "    function(Bokeh) {\n",
       "      \n",
       "    },\n",
       "    function(Bokeh) {\n",
       "      console.log(\"Bokeh: injecting CSS: https://cdn.pydata.org/bokeh/release/bokeh-0.13.0.min.css\");\n",
       "      Bokeh.embed.inject_css(\"https://cdn.pydata.org/bokeh/release/bokeh-0.13.0.min.css\");\n",
       "      console.log(\"Bokeh: injecting CSS: https://cdn.pydata.org/bokeh/release/bokeh-widgets-0.13.0.min.css\");\n",
       "      Bokeh.embed.inject_css(\"https://cdn.pydata.org/bokeh/release/bokeh-widgets-0.13.0.min.css\");\n",
       "      console.log(\"Bokeh: injecting CSS: https://cdn.pydata.org/bokeh/release/bokeh-tables-0.13.0.min.css\");\n",
       "      Bokeh.embed.inject_css(\"https://cdn.pydata.org/bokeh/release/bokeh-tables-0.13.0.min.css\");\n",
       "    }\n",
       "  ];\n",
       "\n",
       "  function run_inline_js() {\n",
       "    \n",
       "    if ((root.Bokeh !== undefined) || (force === true)) {\n",
       "      for (var i = 0; i < inline_js.length; i++) {\n",
       "        inline_js[i].call(root, root.Bokeh);\n",
       "      }if (force === true) {\n",
       "        display_loaded();\n",
       "      }} else if (Date.now() < root._bokeh_timeout) {\n",
       "      setTimeout(run_inline_js, 100);\n",
       "    } else if (!root._bokeh_failed_load) {\n",
       "      console.log(\"Bokeh: BokehJS failed to load within specified timeout.\");\n",
       "      root._bokeh_failed_load = true;\n",
       "    } else if (force !== true) {\n",
       "      var cell = $(document.getElementById(\"b1f35ba0-3f62-474e-aee6-dec5a02ee465\")).parents('.cell').data().cell;\n",
       "      cell.output_area.append_execute_result(NB_LOAD_WARNING)\n",
       "    }\n",
       "\n",
       "  }\n",
       "\n",
       "  if (root._bokeh_is_loading === 0) {\n",
       "    console.log(\"Bokeh: BokehJS loaded, going straight to plotting\");\n",
       "    run_inline_js();\n",
       "  } else {\n",
       "    load_libs(js_urls, function() {\n",
       "      console.log(\"Bokeh: BokehJS plotting callback run at\", now());\n",
       "      run_inline_js();\n",
       "    });\n",
       "  }\n",
       "}(window));"
      ],
      "application/vnd.bokehjs_load.v0+json": "\n(function(root) {\n  function now() {\n    return new Date();\n  }\n\n  var force = true;\n\n  if (typeof (root._bokeh_onload_callbacks) === \"undefined\" || force === true) {\n    root._bokeh_onload_callbacks = [];\n    root._bokeh_is_loading = undefined;\n  }\n\n  \n\n  \n  if (typeof (root._bokeh_timeout) === \"undefined\" || force === true) {\n    root._bokeh_timeout = Date.now() + 5000;\n    root._bokeh_failed_load = false;\n  }\n\n  var NB_LOAD_WARNING = {'data': {'text/html':\n     \"<div style='background-color: #fdd'>\\n\"+\n     \"<p>\\n\"+\n     \"BokehJS does not appear to have successfully loaded. If loading BokehJS from CDN, this \\n\"+\n     \"may be due to a slow or bad network connection. Possible fixes:\\n\"+\n     \"</p>\\n\"+\n     \"<ul>\\n\"+\n     \"<li>re-rerun `output_notebook()` to attempt to load from CDN again, or</li>\\n\"+\n     \"<li>use INLINE resources instead, as so:</li>\\n\"+\n     \"</ul>\\n\"+\n     \"<code>\\n\"+\n     \"from bokeh.resources import INLINE\\n\"+\n     \"output_notebook(resources=INLINE)\\n\"+\n     \"</code>\\n\"+\n     \"</div>\"}};\n\n  function display_loaded() {\n    var el = document.getElementById(\"b1f35ba0-3f62-474e-aee6-dec5a02ee465\");\n    if (el != null) {\n      el.textContent = \"BokehJS is loading...\";\n    }\n    if (root.Bokeh !== undefined) {\n      if (el != null) {\n        el.textContent = \"BokehJS \" + root.Bokeh.version + \" successfully loaded.\";\n      }\n    } else if (Date.now() < root._bokeh_timeout) {\n      setTimeout(display_loaded, 100)\n    }\n  }\n\n\n  function run_callbacks() {\n    try {\n      root._bokeh_onload_callbacks.forEach(function(callback) { callback() });\n    }\n    finally {\n      delete root._bokeh_onload_callbacks\n    }\n    console.info(\"Bokeh: all callbacks have finished\");\n  }\n\n  function load_libs(js_urls, callback) {\n    root._bokeh_onload_callbacks.push(callback);\n    if (root._bokeh_is_loading > 0) {\n      console.log(\"Bokeh: BokehJS is being loaded, scheduling callback at\", now());\n      return null;\n    }\n    if (js_urls == null || js_urls.length === 0) {\n      run_callbacks();\n      return null;\n    }\n    console.log(\"Bokeh: BokehJS not loaded, scheduling load and callback at\", now());\n    root._bokeh_is_loading = js_urls.length;\n    for (var i = 0; i < js_urls.length; i++) {\n      var url = js_urls[i];\n      var s = document.createElement('script');\n      s.src = url;\n      s.async = false;\n      s.onreadystatechange = s.onload = function() {\n        root._bokeh_is_loading--;\n        if (root._bokeh_is_loading === 0) {\n          console.log(\"Bokeh: all BokehJS libraries loaded\");\n          run_callbacks()\n        }\n      };\n      s.onerror = function() {\n        console.warn(\"failed to load library \" + url);\n      };\n      console.log(\"Bokeh: injecting script tag for BokehJS library: \", url);\n      document.getElementsByTagName(\"head\")[0].appendChild(s);\n    }\n  };var element = document.getElementById(\"b1f35ba0-3f62-474e-aee6-dec5a02ee465\");\n  if (element == null) {\n    console.log(\"Bokeh: ERROR: autoload.js configured with elementid 'b1f35ba0-3f62-474e-aee6-dec5a02ee465' but no matching script tag was found. \")\n    return false;\n  }\n\n  var js_urls = [\"https://cdn.pydata.org/bokeh/release/bokeh-0.13.0.min.js\", \"https://cdn.pydata.org/bokeh/release/bokeh-widgets-0.13.0.min.js\", \"https://cdn.pydata.org/bokeh/release/bokeh-tables-0.13.0.min.js\", \"https://cdn.pydata.org/bokeh/release/bokeh-gl-0.13.0.min.js\"];\n\n  var inline_js = [\n    function(Bokeh) {\n      Bokeh.set_log_level(\"info\");\n    },\n    \n    function(Bokeh) {\n      \n    },\n    function(Bokeh) {\n      console.log(\"Bokeh: injecting CSS: https://cdn.pydata.org/bokeh/release/bokeh-0.13.0.min.css\");\n      Bokeh.embed.inject_css(\"https://cdn.pydata.org/bokeh/release/bokeh-0.13.0.min.css\");\n      console.log(\"Bokeh: injecting CSS: https://cdn.pydata.org/bokeh/release/bokeh-widgets-0.13.0.min.css\");\n      Bokeh.embed.inject_css(\"https://cdn.pydata.org/bokeh/release/bokeh-widgets-0.13.0.min.css\");\n      console.log(\"Bokeh: injecting CSS: https://cdn.pydata.org/bokeh/release/bokeh-tables-0.13.0.min.css\");\n      Bokeh.embed.inject_css(\"https://cdn.pydata.org/bokeh/release/bokeh-tables-0.13.0.min.css\");\n    }\n  ];\n\n  function run_inline_js() {\n    \n    if ((root.Bokeh !== undefined) || (force === true)) {\n      for (var i = 0; i < inline_js.length; i++) {\n        inline_js[i].call(root, root.Bokeh);\n      }if (force === true) {\n        display_loaded();\n      }} else if (Date.now() < root._bokeh_timeout) {\n      setTimeout(run_inline_js, 100);\n    } else if (!root._bokeh_failed_load) {\n      console.log(\"Bokeh: BokehJS failed to load within specified timeout.\");\n      root._bokeh_failed_load = true;\n    } else if (force !== true) {\n      var cell = $(document.getElementById(\"b1f35ba0-3f62-474e-aee6-dec5a02ee465\")).parents('.cell').data().cell;\n      cell.output_area.append_execute_result(NB_LOAD_WARNING)\n    }\n\n  }\n\n  if (root._bokeh_is_loading === 0) {\n    console.log(\"Bokeh: BokehJS loaded, going straight to plotting\");\n    run_inline_js();\n  } else {\n    load_libs(js_urls, function() {\n      console.log(\"Bokeh: BokehJS plotting callback run at\", now());\n      run_inline_js();\n    });\n  }\n}(window));"
     },
     "metadata": {},
     "output_type": "display_data"
    }
   ],
   "source": [
    "import numpy as np\n",
    "from sympy import * # Import all functions form the module.\n",
    "\n",
    "# Bokeh for interactive plots\n",
    "from bokeh.plotting import figure, output_notebook, show\n",
    "from bokeh.layouts import row, column\n",
    "from bokeh.models import Span\n",
    "output_notebook()\n",
    "\n",
    "def plot(w=700,h=500,title='',x='X',y='f(X)'):\n",
    "    '''Wrapper function to ease starting a new plot.\n",
    "    '''\n",
    "    p = figure(plot_width=w,plot_height=h,title=title,toolbar_location=\"below\")\n",
    "    p.xaxis.axis_label = x\n",
    "    p.yaxis.axis_label = y\n",
    "    return p"
   ]
  },
  {
   "cell_type": "markdown",
   "metadata": {},
   "source": [
    "# Derivatives\n",
    "\n",
    "Calculating the instantaneous rate of change in a function. \n",
    "\n",
    "<br>\n",
    "<br>\n",
    "\n",
    "$$ \\frac{d f(x)}{d x} = \\lim_{h \\to 0} \\frac{f(x+h) - f(x)}{h}  $$\n",
    "\n",
    "<br>\n",
    "<br>"
   ]
  },
  {
   "cell_type": "markdown",
   "metadata": {},
   "source": [
    "In the other notebook accompanying today's lecture, we developed a simple function that could approximate the derivative for us by taking small changes. We saw that this performed pretty well at accomplishing the basic aims of calculating the derivative. "
   ]
  },
  {
   "cell_type": "code",
   "execution_count": 2,
   "metadata": {},
   "outputs": [],
   "source": [
    "def deriv(x,func,nudge=.001):\n",
    "    '''\n",
    "    More generic derivative function\n",
    "    '''\n",
    "    return (func(x + nudge) - func(x))/nudge"
   ]
  },
  {
   "cell_type": "markdown",
   "metadata": {},
   "source": [
    "Let's use this function to \"double check\" the differentiation rules outlined below. "
   ]
  },
  {
   "cell_type": "markdown",
   "metadata": {},
   "source": [
    "# Rules of Differentiation "
   ]
  },
  {
   "cell_type": "markdown",
   "metadata": {},
   "source": [
    "## Constant Rule"
   ]
  },
  {
   "cell_type": "markdown",
   "metadata": {},
   "source": [
    "### Rule\n",
    "\n",
    "<br>\n",
    "<br>\n",
    "\n",
    "$$f(x) = c$$\n",
    "\n",
    "<br>\n",
    "<br>\n",
    "\n",
    "$$\\frac{d f(x)}{d c} = 0$$\n",
    "\n",
    "<br>\n",
    "<br>\n",
    "\n",
    "where $c$ is some arbitrary constant."
   ]
  },
  {
   "cell_type": "markdown",
   "metadata": {},
   "source": [
    "### Intuition"
   ]
  },
  {
   "cell_type": "code",
   "execution_count": 3,
   "metadata": {
    "scrolled": true
   },
   "outputs": [
    {
     "data": {
      "text/html": [
       "\n",
       "\n",
       "\n",
       "\n",
       "\n",
       "\n",
       "  <div class=\"bk-root\" id=\"30921983-3149-4b23-8fee-afaccf6297b1\"></div>\n"
      ]
     },
     "metadata": {},
     "output_type": "display_data"
    },
    {
     "data": {
      "application/javascript": [
       "(function(root) {\n",
       "  function embed_document(root) {\n",
       "    \n",
       "  var docs_json = {\"0a6ac202-c950-4ad8-be6f-cceb1c97b77d\":{\"roots\":{\"references\":[{\"attributes\":{},\"id\":\"21b28930-6c67-44ab-9cb8-826683169243\",\"type\":\"ResetTool\"},{\"attributes\":{\"callback\":null},\"id\":\"2d717acb-3e11-4978-abaf-e666b4854e75\",\"type\":\"DataRange1d\"},{\"attributes\":{\"items\":[{\"id\":\"0ac51790-67f4-4237-8690-53ae6f72df67\",\"type\":\"LegendItem\"},{\"id\":\"2a542579-b25a-4251-85b7-8bef8e1e36a6\",\"type\":\"LegendItem\"}],\"plot\":{\"id\":\"2d566240-9d3e-43d3-915d-a5d6a6e97e42\",\"subtype\":\"Figure\",\"type\":\"Plot\"}},\"id\":\"d3bfedb6-02ae-4a67-90e2-cee0cb54d819\",\"type\":\"Legend\"},{\"attributes\":{},\"id\":\"748051ae-3cf6-4649-bb4a-5df16de8342e\",\"type\":\"HelpTool\"},{\"attributes\":{\"bottom_units\":\"screen\",\"fill_alpha\":{\"value\":0.5},\"fill_color\":{\"value\":\"lightgrey\"},\"left_units\":\"screen\",\"level\":\"overlay\",\"line_alpha\":{\"value\":1.0},\"line_color\":{\"value\":\"black\"},\"line_dash\":[4,4],\"line_width\":{\"value\":2},\"plot\":null,\"render_mode\":\"css\",\"right_units\":\"screen\",\"top_units\":\"screen\"},\"id\":\"67c5a09b-881d-49f5-8265-8a1fc19b9504\",\"type\":\"BoxAnnotation\"},{\"attributes\":{},\"id\":\"1643aba7-f6cb-4dea-978b-1cc015c1f9ee\",\"type\":\"LinearScale\"},{\"attributes\":{\"line_alpha\":0.5,\"line_color\":\"red\",\"line_dash\":[6,4,2,4],\"line_width\":3,\"x\":{\"field\":\"x\"},\"y\":{\"value\":0.0}},\"id\":\"68f78e93-a671-4873-aec9-a4e7943f868e\",\"type\":\"Line\"},{\"attributes\":{\"line_alpha\":0.1,\"line_color\":\"#1f77b4\",\"line_dash\":[6,4,2,4],\"line_width\":3,\"x\":{\"field\":\"x\"},\"y\":{\"value\":0.0}},\"id\":\"4f107847-cc41-4f98-8155-13ed65892211\",\"type\":\"Line\"},{\"attributes\":{\"data_source\":{\"id\":\"b5547393-6f0b-4bc0-973e-da2351a97b3e\",\"type\":\"ColumnDataSource\"},\"glyph\":{\"id\":\"68f78e93-a671-4873-aec9-a4e7943f868e\",\"type\":\"Line\"},\"hover_glyph\":null,\"muted_glyph\":null,\"nonselection_glyph\":{\"id\":\"4f107847-cc41-4f98-8155-13ed65892211\",\"type\":\"Line\"},\"selection_glyph\":null,\"view\":{\"id\":\"f4a9e108-34ac-43f6-8b8e-2e6b9a6ffbf7\",\"type\":\"CDSView\"}},\"id\":\"55169b2d-74c9-4477-984e-7f28b7449ff4\",\"type\":\"GlyphRenderer\"},{\"attributes\":{},\"id\":\"caf4cdde-de49-43ae-b2ac-1f8694e2b292\",\"type\":\"BasicTickFormatter\"},{\"attributes\":{\"source\":{\"id\":\"b5547393-6f0b-4bc0-973e-da2351a97b3e\",\"type\":\"ColumnDataSource\"}},\"id\":\"f4a9e108-34ac-43f6-8b8e-2e6b9a6ffbf7\",\"type\":\"CDSView\"},{\"attributes\":{},\"id\":\"2580bacc-5e93-470f-addc-f386498350a0\",\"type\":\"Selection\"},{\"attributes\":{},\"id\":\"5e4e8045-8c84-415c-ba19-f9f6c92f187f\",\"type\":\"UnionRenderers\"},{\"attributes\":{\"callback\":null,\"data\":{\"x\":{\"__ndarray__\":\"AAAAAAAAFMCamZmZmZkTwDQzMzMzMxPAzszMzMzMEsBoZmZmZmYSwAIAAAAAABLAnJmZmZmZEcA2MzMzMzMRwNDMzMzMzBDAamZmZmZmEMAEAAAAAAAQwDwzMzMzMw/AcGZmZmZmDsCkmZmZmZkNwNjMzMzMzAzADAAAAAAADMBAMzMzMzMLwHRmZmZmZgrAqJmZmZmZCcDczMzMzMwIwBAAAAAAAAjARDMzMzMzB8B4ZmZmZmYGwKyZmZmZmQXA4MzMzMzMBMAUAAAAAAAEwEgzMzMzMwPAfGZmZmZmAsCwmZmZmZkBwOTMzMzMzADAGAAAAAAAAMCYZmZmZmb+vwDNzMzMzPy/aDMzMzMz+7/QmZmZmZn5vzgAAAAAAPi/oGZmZmZm9r8IzczMzMz0v3AzMzMzM/O/2JmZmZmZ8b9AAAAAAADwv1DNzMzMzOy/IJqZmZmZ6b/wZmZmZmbmv8AzMzMzM+O/kAAAAAAA4L/AmpmZmZnZv2A0MzMzM9O/AJyZmZmZyb+AnpmZmZm5vwAAAAAAABS9gJSZmZmZuT8Al5mZmZnJP+AxMzMzM9M/QJiZmZmZ2T+g/v/////fP4AyMzMzM+M/sGVmZmZm5j/gmJmZmZnpPxDMzMzMzOw/QP//////7z84mZmZmZnxP9AyMzMzM/M/aMzMzMzM9D8AZmZmZmb2P5j///////c/MJmZmZmZ+T/IMjMzMzP7P2DMzMzMzPw/+GVmZmZm/j+Q////////P5TMzMzMzABAYJmZmZmZAUAsZmZmZmYCQPgyMzMzMwNAxP//////A0CQzMzMzMwEQFyZmZmZmQVAKGZmZmZmBkD0MjMzMzMHQMD//////wdAjMzMzMzMCEBYmZmZmZkJQCRmZmZmZgpA8DIzMzMzC0C8//////8LQIjMzMzMzAxAVJmZmZmZDUAgZmZmZmYOQOwyMzMzMw9AuP//////D0BCZmZmZmYQQKjMzMzMzBBADjMzMzMzEUB0mZmZmZkRQNr//////xFAQGZmZmZmEkCmzMzMzMwSQAwzMzMzMxNAcpmZmZmZE0DY//////8TQA==\",\"dtype\":\"float64\",\"shape\":[101]}},\"selected\":{\"id\":\"2580bacc-5e93-470f-addc-f386498350a0\",\"type\":\"Selection\"},\"selection_policy\":{\"id\":\"5e4e8045-8c84-415c-ba19-f9f6c92f187f\",\"type\":\"UnionRenderers\"}},\"id\":\"684ca587-ecea-46b3-80c1-c7028475c188\",\"type\":\"ColumnDataSource\"},{\"attributes\":{\"label\":{\"value\":\"f'(x)=0\"},\"renderers\":[{\"id\":\"55169b2d-74c9-4477-984e-7f28b7449ff4\",\"type\":\"GlyphRenderer\"}]},\"id\":\"2a542579-b25a-4251-85b7-8bef8e1e36a6\",\"type\":\"LegendItem\"},{\"attributes\":{\"data_source\":{\"id\":\"684ca587-ecea-46b3-80c1-c7028475c188\",\"type\":\"ColumnDataSource\"},\"glyph\":{\"id\":\"fbd7847f-681c-4c40-a4db-bce1f54c6bc6\",\"type\":\"Line\"},\"hover_glyph\":null,\"muted_glyph\":null,\"nonselection_glyph\":{\"id\":\"9f38e1c0-1094-4ac4-8dbc-a3ac39cf891c\",\"type\":\"Line\"},\"selection_glyph\":null,\"view\":{\"id\":\"0905c83b-6769-49af-b143-58c6cc990f1f\",\"type\":\"CDSView\"}},\"id\":\"608da7c0-60f3-4220-bf81-1ea7aa86fe25\",\"type\":\"GlyphRenderer\"},{\"attributes\":{},\"id\":\"a1b518da-6c20-4368-96ca-60273a9884ea\",\"type\":\"Selection\"},{\"attributes\":{\"plot\":null,\"text\":\"\"},\"id\":\"fac233fe-aced-48d2-993e-75e831bf29dd\",\"type\":\"Title\"},{\"attributes\":{\"below\":[{\"id\":\"26b05c73-25b8-4eba-8486-b10f48bbef9f\",\"type\":\"LinearAxis\"}],\"left\":[{\"id\":\"ef2d51e5-5562-4719-8566-4b5841dcfc1a\",\"type\":\"LinearAxis\"}],\"plot_height\":300,\"plot_width\":700,\"renderers\":[{\"id\":\"26b05c73-25b8-4eba-8486-b10f48bbef9f\",\"type\":\"LinearAxis\"},{\"id\":\"268b90df-2b58-4782-9802-33c7e3298df9\",\"type\":\"Grid\"},{\"id\":\"ef2d51e5-5562-4719-8566-4b5841dcfc1a\",\"type\":\"LinearAxis\"},{\"id\":\"28db4f3f-73c4-42cc-840a-46073eec2284\",\"type\":\"Grid\"},{\"id\":\"67c5a09b-881d-49f5-8265-8a1fc19b9504\",\"type\":\"BoxAnnotation\"},{\"id\":\"d3bfedb6-02ae-4a67-90e2-cee0cb54d819\",\"type\":\"Legend\"},{\"id\":\"608da7c0-60f3-4220-bf81-1ea7aa86fe25\",\"type\":\"GlyphRenderer\"},{\"id\":\"55169b2d-74c9-4477-984e-7f28b7449ff4\",\"type\":\"GlyphRenderer\"}],\"title\":{\"id\":\"fac233fe-aced-48d2-993e-75e831bf29dd\",\"type\":\"Title\"},\"toolbar\":{\"id\":\"9da7e704-37cb-484a-b08a-18555b9e9da9\",\"type\":\"Toolbar\"},\"toolbar_location\":\"below\",\"x_range\":{\"id\":\"2d717acb-3e11-4978-abaf-e666b4854e75\",\"type\":\"DataRange1d\"},\"x_scale\":{\"id\":\"1643aba7-f6cb-4dea-978b-1cc015c1f9ee\",\"type\":\"LinearScale\"},\"y_range\":{\"id\":\"36eb83aa-9342-4a1b-ac5d-eab3c2208870\",\"type\":\"DataRange1d\"},\"y_scale\":{\"id\":\"2c1cc164-cb81-4955-8b85-32e555f7d64f\",\"type\":\"LinearScale\"}},\"id\":\"2d566240-9d3e-43d3-915d-a5d6a6e97e42\",\"subtype\":\"Figure\",\"type\":\"Plot\"},{\"attributes\":{},\"id\":\"e2ed7710-7e62-419c-b384-8c9dcf298f5c\",\"type\":\"UnionRenderers\"},{\"attributes\":{\"line_color\":\"#1f77b4\",\"line_width\":3,\"x\":{\"field\":\"x\"},\"y\":{\"value\":3}},\"id\":\"fbd7847f-681c-4c40-a4db-bce1f54c6bc6\",\"type\":\"Line\"},{\"attributes\":{},\"id\":\"5436ae8a-bd28-4e06-918b-e66de4f6d38b\",\"type\":\"BasicTicker\"},{\"attributes\":{\"active_drag\":\"auto\",\"active_inspect\":\"auto\",\"active_multi\":null,\"active_scroll\":\"auto\",\"active_tap\":\"auto\",\"tools\":[{\"id\":\"b133010d-13b2-47fc-a77e-f0cdc52a7794\",\"type\":\"PanTool\"},{\"id\":\"8cbd8b8a-34fa-4ba7-8058-ed4d18b7750a\",\"type\":\"WheelZoomTool\"},{\"id\":\"e896abdc-c1e1-4448-9fdd-573382f23ee3\",\"type\":\"BoxZoomTool\"},{\"id\":\"52e9bc1f-48d7-4861-8b27-b646396251ca\",\"type\":\"SaveTool\"},{\"id\":\"21b28930-6c67-44ab-9cb8-826683169243\",\"type\":\"ResetTool\"},{\"id\":\"748051ae-3cf6-4649-bb4a-5df16de8342e\",\"type\":\"HelpTool\"}]},\"id\":\"9da7e704-37cb-484a-b08a-18555b9e9da9\",\"type\":\"Toolbar\"},{\"attributes\":{\"callback\":null},\"id\":\"36eb83aa-9342-4a1b-ac5d-eab3c2208870\",\"type\":\"DataRange1d\"},{\"attributes\":{\"axis_label\":\"f(X)\",\"formatter\":{\"id\":\"23815dea-6cbb-4b1d-980f-4014ed8ad0b5\",\"type\":\"BasicTickFormatter\"},\"plot\":{\"id\":\"2d566240-9d3e-43d3-915d-a5d6a6e97e42\",\"subtype\":\"Figure\",\"type\":\"Plot\"},\"ticker\":{\"id\":\"df328667-0941-4fdb-a99e-2498148c5a37\",\"type\":\"BasicTicker\"}},\"id\":\"ef2d51e5-5562-4719-8566-4b5841dcfc1a\",\"type\":\"LinearAxis\"},{\"attributes\":{\"label\":{\"value\":\"f(x)=3\"},\"renderers\":[{\"id\":\"608da7c0-60f3-4220-bf81-1ea7aa86fe25\",\"type\":\"GlyphRenderer\"}]},\"id\":\"0ac51790-67f4-4237-8690-53ae6f72df67\",\"type\":\"LegendItem\"},{\"attributes\":{\"plot\":{\"id\":\"2d566240-9d3e-43d3-915d-a5d6a6e97e42\",\"subtype\":\"Figure\",\"type\":\"Plot\"},\"ticker\":{\"id\":\"5436ae8a-bd28-4e06-918b-e66de4f6d38b\",\"type\":\"BasicTicker\"}},\"id\":\"268b90df-2b58-4782-9802-33c7e3298df9\",\"type\":\"Grid\"},{\"attributes\":{},\"id\":\"df328667-0941-4fdb-a99e-2498148c5a37\",\"type\":\"BasicTicker\"},{\"attributes\":{\"dimension\":1,\"plot\":{\"id\":\"2d566240-9d3e-43d3-915d-a5d6a6e97e42\",\"subtype\":\"Figure\",\"type\":\"Plot\"},\"ticker\":{\"id\":\"df328667-0941-4fdb-a99e-2498148c5a37\",\"type\":\"BasicTicker\"}},\"id\":\"28db4f3f-73c4-42cc-840a-46073eec2284\",\"type\":\"Grid\"},{\"attributes\":{\"source\":{\"id\":\"684ca587-ecea-46b3-80c1-c7028475c188\",\"type\":\"ColumnDataSource\"}},\"id\":\"0905c83b-6769-49af-b143-58c6cc990f1f\",\"type\":\"CDSView\"},{\"attributes\":{},\"id\":\"23815dea-6cbb-4b1d-980f-4014ed8ad0b5\",\"type\":\"BasicTickFormatter\"},{\"attributes\":{},\"id\":\"2c1cc164-cb81-4955-8b85-32e555f7d64f\",\"type\":\"LinearScale\"},{\"attributes\":{\"line_alpha\":0.1,\"line_color\":\"#1f77b4\",\"line_width\":3,\"x\":{\"field\":\"x\"},\"y\":{\"value\":3}},\"id\":\"9f38e1c0-1094-4ac4-8dbc-a3ac39cf891c\",\"type\":\"Line\"},{\"attributes\":{\"callback\":null,\"data\":{\"x\":{\"__ndarray__\":\"AAAAAAAAFMCamZmZmZkTwDQzMzMzMxPAzszMzMzMEsBoZmZmZmYSwAIAAAAAABLAnJmZmZmZEcA2MzMzMzMRwNDMzMzMzBDAamZmZmZmEMAEAAAAAAAQwDwzMzMzMw/AcGZmZmZmDsCkmZmZmZkNwNjMzMzMzAzADAAAAAAADMBAMzMzMzMLwHRmZmZmZgrAqJmZmZmZCcDczMzMzMwIwBAAAAAAAAjARDMzMzMzB8B4ZmZmZmYGwKyZmZmZmQXA4MzMzMzMBMAUAAAAAAAEwEgzMzMzMwPAfGZmZmZmAsCwmZmZmZkBwOTMzMzMzADAGAAAAAAAAMCYZmZmZmb+vwDNzMzMzPy/aDMzMzMz+7/QmZmZmZn5vzgAAAAAAPi/oGZmZmZm9r8IzczMzMz0v3AzMzMzM/O/2JmZmZmZ8b9AAAAAAADwv1DNzMzMzOy/IJqZmZmZ6b/wZmZmZmbmv8AzMzMzM+O/kAAAAAAA4L/AmpmZmZnZv2A0MzMzM9O/AJyZmZmZyb+AnpmZmZm5vwAAAAAAABS9gJSZmZmZuT8Al5mZmZnJP+AxMzMzM9M/QJiZmZmZ2T+g/v/////fP4AyMzMzM+M/sGVmZmZm5j/gmJmZmZnpPxDMzMzMzOw/QP//////7z84mZmZmZnxP9AyMzMzM/M/aMzMzMzM9D8AZmZmZmb2P5j///////c/MJmZmZmZ+T/IMjMzMzP7P2DMzMzMzPw/+GVmZmZm/j+Q////////P5TMzMzMzABAYJmZmZmZAUAsZmZmZmYCQPgyMzMzMwNAxP//////A0CQzMzMzMwEQFyZmZmZmQVAKGZmZmZmBkD0MjMzMzMHQMD//////wdAjMzMzMzMCEBYmZmZmZkJQCRmZmZmZgpA8DIzMzMzC0C8//////8LQIjMzMzMzAxAVJmZmZmZDUAgZmZmZmYOQOwyMzMzMw9AuP//////D0BCZmZmZmYQQKjMzMzMzBBADjMzMzMzEUB0mZmZmZkRQNr//////xFAQGZmZmZmEkCmzMzMzMwSQAwzMzMzMxNAcpmZmZmZE0DY//////8TQA==\",\"dtype\":\"float64\",\"shape\":[101]}},\"selected\":{\"id\":\"a1b518da-6c20-4368-96ca-60273a9884ea\",\"type\":\"Selection\"},\"selection_policy\":{\"id\":\"e2ed7710-7e62-419c-b384-8c9dcf298f5c\",\"type\":\"UnionRenderers\"}},\"id\":\"b5547393-6f0b-4bc0-973e-da2351a97b3e\",\"type\":\"ColumnDataSource\"},{\"attributes\":{},\"id\":\"b133010d-13b2-47fc-a77e-f0cdc52a7794\",\"type\":\"PanTool\"},{\"attributes\":{\"axis_label\":\"X\",\"formatter\":{\"id\":\"caf4cdde-de49-43ae-b2ac-1f8694e2b292\",\"type\":\"BasicTickFormatter\"},\"plot\":{\"id\":\"2d566240-9d3e-43d3-915d-a5d6a6e97e42\",\"subtype\":\"Figure\",\"type\":\"Plot\"},\"ticker\":{\"id\":\"5436ae8a-bd28-4e06-918b-e66de4f6d38b\",\"type\":\"BasicTicker\"}},\"id\":\"26b05c73-25b8-4eba-8486-b10f48bbef9f\",\"type\":\"LinearAxis\"},{\"attributes\":{},\"id\":\"52e9bc1f-48d7-4861-8b27-b646396251ca\",\"type\":\"SaveTool\"},{\"attributes\":{},\"id\":\"8cbd8b8a-34fa-4ba7-8058-ed4d18b7750a\",\"type\":\"WheelZoomTool\"},{\"attributes\":{\"overlay\":{\"id\":\"67c5a09b-881d-49f5-8265-8a1fc19b9504\",\"type\":\"BoxAnnotation\"}},\"id\":\"e896abdc-c1e1-4448-9fdd-573382f23ee3\",\"type\":\"BoxZoomTool\"}],\"root_ids\":[\"2d566240-9d3e-43d3-915d-a5d6a6e97e42\"]},\"title\":\"Bokeh Application\",\"version\":\"0.13.0\"}};\n",
       "  var render_items = [{\"docid\":\"0a6ac202-c950-4ad8-be6f-cceb1c97b77d\",\"roots\":{\"2d566240-9d3e-43d3-915d-a5d6a6e97e42\":\"30921983-3149-4b23-8fee-afaccf6297b1\"}}];\n",
       "  root.Bokeh.embed.embed_items_notebook(docs_json, render_items);\n",
       "\n",
       "  }\n",
       "  if (root.Bokeh !== undefined) {\n",
       "    embed_document(root);\n",
       "  } else {\n",
       "    var attempts = 0;\n",
       "    var timer = setInterval(function(root) {\n",
       "      if (root.Bokeh !== undefined) {\n",
       "        embed_document(root);\n",
       "        clearInterval(timer);\n",
       "      }\n",
       "      attempts++;\n",
       "      if (attempts > 100) {\n",
       "        console.log(\"Bokeh: ERROR: Unable to run BokehJS code because BokehJS library is missing\")\n",
       "        clearInterval(timer);\n",
       "      }\n",
       "    }, 10, root)\n",
       "  }\n",
       "})(window);"
      ],
      "application/vnd.bokehjs_exec.v0+json": ""
     },
     "metadata": {
      "application/vnd.bokehjs_exec.v0+json": {
       "id": "2d566240-9d3e-43d3-915d-a5d6a6e97e42"
      }
     },
     "output_type": "display_data"
    }
   ],
   "source": [
    "def f(x):\n",
    "    return 3\n",
    "\n",
    "x = np.arange(-5,5.1,.1)\n",
    "p = plot(700,300)\n",
    "p.line(x,f(x),line_width=3,legend='f(x)=3')\n",
    "p.line(x,deriv(x,f),line_width=3,\n",
    "       line_dash='dashdot',legend=\"f'(x)=0\",\n",
    "       color=\"red\",alpha=.5)\n",
    "show(p)"
   ]
  },
  {
   "cell_type": "markdown",
   "metadata": {},
   "source": [
    "## The Scalar Rule\n",
    "\n",
    "<br>\n",
    "<br>\n",
    "\n",
    "$$\\frac{d f(cx)}{d x} $$\n",
    "\n",
    "<br>\n",
    "<br>\n",
    "\n",
    "$$\\lim_{h \\to 0} \\frac{c(f(x+h)) - c(f(x))}{h}$$\n",
    "\n",
    "<br>\n",
    "<br>\n",
    "\n",
    "$$ \\lim_{h \\to 0} c(\\frac{f(x+h) - f(x)}{h}) $$\n",
    "\n",
    "<br>\n",
    "<br>\n",
    "\n",
    "$$ f'(cx) = cf'(x) $$\n",
    "\n",
    "<br>\n",
    "<br>\n",
    "\n",
    "where $c$ is some arbitrary constant.\n",
    "\n",
    "<br>\n",
    "<br>"
   ]
  },
  {
   "cell_type": "markdown",
   "metadata": {},
   "source": [
    "### Intuition"
   ]
  },
  {
   "cell_type": "code",
   "execution_count": 4,
   "metadata": {},
   "outputs": [
    {
     "data": {
      "text/html": [
       "\n",
       "\n",
       "\n",
       "\n",
       "\n",
       "\n",
       "  <div class=\"bk-root\" id=\"4ba53a0e-4278-4f2d-92e9-2eb031b0b162\"></div>\n"
      ]
     },
     "metadata": {},
     "output_type": "display_data"
    },
    {
     "data": {
      "application/javascript": [
       "(function(root) {\n",
       "  function embed_document(root) {\n",
       "    \n",
       "  var docs_json = {\"d05b646d-6232-4358-b500-d210d40bca4c\":{\"roots\":{\"references\":[{\"attributes\":{},\"id\":\"45bdd7f6-3138-4739-b312-fa1b61dc32b9\",\"type\":\"PanTool\"},{\"attributes\":{},\"id\":\"2f55b799-f1bf-4e69-9522-0b93bf1daf9a\",\"type\":\"BasicTickFormatter\"},{\"attributes\":{},\"id\":\"aa5a4f7e-e15c-46fa-aff3-a3bdd987d6e1\",\"type\":\"WheelZoomTool\"},{\"attributes\":{},\"id\":\"88d08a22-bbed-4d50-a16d-eae7437277cd\",\"type\":\"SaveTool\"},{\"attributes\":{},\"id\":\"9fd1726c-945b-47c5-afca-03ff53bdde81\",\"type\":\"UnionRenderers\"},{\"attributes\":{\"line_alpha\":0.5,\"line_color\":\"skyblue\",\"line_dash\":[6,4,2,4],\"line_width\":3,\"x\":{\"field\":\"x\"},\"y\":{\"field\":\"y\"}},\"id\":\"545d6d8d-3fd7-44ae-9657-0025bc101270\",\"type\":\"Line\"},{\"attributes\":{\"line_alpha\":0.1,\"line_color\":\"#1f77b4\",\"line_dash\":[6,4,2,4],\"line_width\":3,\"x\":{\"field\":\"x\"},\"y\":{\"field\":\"y\"}},\"id\":\"4b058b51-b64e-4f1b-9bde-8586bb0ae01b\",\"type\":\"Line\"},{\"attributes\":{\"data_source\":{\"id\":\"68bd9eef-bcd2-44b7-b112-b60281a77e56\",\"type\":\"ColumnDataSource\"},\"glyph\":{\"id\":\"545d6d8d-3fd7-44ae-9657-0025bc101270\",\"type\":\"Line\"},\"hover_glyph\":null,\"muted_glyph\":null,\"nonselection_glyph\":{\"id\":\"4b058b51-b64e-4f1b-9bde-8586bb0ae01b\",\"type\":\"Line\"},\"selection_glyph\":null,\"view\":{\"id\":\"7c4a2a5d-b0f8-4455-a9de-885da1601edf\",\"type\":\"CDSView\"}},\"id\":\"c6aacc0e-e36d-4149-9a02-9e920ea2070f\",\"type\":\"GlyphRenderer\"},{\"attributes\":{\"below\":[{\"id\":\"b0ba8eaa-ef6c-4206-bd2e-8905ee19a8aa\",\"type\":\"LinearAxis\"}],\"left\":[{\"id\":\"655792e3-332a-4705-9074-0523e5e294df\",\"type\":\"LinearAxis\"}],\"plot_height\":300,\"plot_width\":700,\"renderers\":[{\"id\":\"b0ba8eaa-ef6c-4206-bd2e-8905ee19a8aa\",\"type\":\"LinearAxis\"},{\"id\":\"159b3039-a7d0-4d70-8ff6-c8ab84292f11\",\"type\":\"Grid\"},{\"id\":\"655792e3-332a-4705-9074-0523e5e294df\",\"type\":\"LinearAxis\"},{\"id\":\"7cd2fdb3-e13a-47d1-8893-9c0200913dcd\",\"type\":\"Grid\"},{\"id\":\"35594380-3a12-4c3a-a661-9a99605649e2\",\"type\":\"BoxAnnotation\"},{\"id\":\"2b5178ce-af74-47dd-b701-b77fbb1ea668\",\"type\":\"Legend\"},{\"id\":\"87a41c53-d140-4e63-bd15-0ca25c00dbe5\",\"type\":\"GlyphRenderer\"},{\"id\":\"c6aacc0e-e36d-4149-9a02-9e920ea2070f\",\"type\":\"GlyphRenderer\"},{\"id\":\"488a8b84-f5a9-4efb-bc4a-59e8898a0484\",\"type\":\"GlyphRenderer\"}],\"title\":{\"id\":\"67407a4d-458b-4ce2-a36e-77f3c9e17a21\",\"type\":\"Title\"},\"toolbar\":{\"id\":\"f396ebbf-14a7-4751-895e-29809c029a57\",\"type\":\"Toolbar\"},\"toolbar_location\":\"below\",\"x_range\":{\"id\":\"3abeb066-fb97-47c8-ad6b-08bb097b924d\",\"type\":\"DataRange1d\"},\"x_scale\":{\"id\":\"aff81607-e445-4043-99f7-e6415d0b852e\",\"type\":\"LinearScale\"},\"y_range\":{\"id\":\"6ef9791e-f572-4705-9034-48dcbdca9882\",\"type\":\"DataRange1d\"},\"y_scale\":{\"id\":\"58b81207-3edd-4271-8ccd-f4e062fa9fee\",\"type\":\"LinearScale\"}},\"id\":\"720dea72-10f3-4eef-acac-ff99cbc294a2\",\"subtype\":\"Figure\",\"type\":\"Plot\"},{\"attributes\":{},\"id\":\"7a3224bf-1670-4106-afdd-8a73d1c64e73\",\"type\":\"ResetTool\"},{\"attributes\":{\"plot\":null,\"text\":\"\"},\"id\":\"67407a4d-458b-4ce2-a36e-77f3c9e17a21\",\"type\":\"Title\"},{\"attributes\":{\"bottom_units\":\"screen\",\"fill_alpha\":{\"value\":0.5},\"fill_color\":{\"value\":\"lightgrey\"},\"left_units\":\"screen\",\"level\":\"overlay\",\"line_alpha\":{\"value\":1.0},\"line_color\":{\"value\":\"black\"},\"line_dash\":[4,4],\"line_width\":{\"value\":2},\"plot\":null,\"render_mode\":\"css\",\"right_units\":\"screen\",\"top_units\":\"screen\"},\"id\":\"35594380-3a12-4c3a-a661-9a99605649e2\",\"type\":\"BoxAnnotation\"},{\"attributes\":{\"source\":{\"id\":\"62bddc56-4a46-47d0-96e9-56a005ed4373\",\"type\":\"ColumnDataSource\"}},\"id\":\"7906c6fb-d69d-4837-be0f-3e912f3707e2\",\"type\":\"CDSView\"},{\"attributes\":{\"callback\":null,\"data\":{\"x\":{\"__ndarray__\":\"AAAAAAAAFMCamZmZmZkTwDQzMzMzMxPAzszMzMzMEsBoZmZmZmYSwAIAAAAAABLAnJmZmZmZEcA2MzMzMzMRwNDMzMzMzBDAamZmZmZmEMAEAAAAAAAQwDwzMzMzMw/AcGZmZmZmDsCkmZmZmZkNwNjMzMzMzAzADAAAAAAADMBAMzMzMzMLwHRmZmZmZgrAqJmZmZmZCcDczMzMzMwIwBAAAAAAAAjARDMzMzMzB8B4ZmZmZmYGwKyZmZmZmQXA4MzMzMzMBMAUAAAAAAAEwEgzMzMzMwPAfGZmZmZmAsCwmZmZmZkBwOTMzMzMzADAGAAAAAAAAMCYZmZmZmb+vwDNzMzMzPy/aDMzMzMz+7/QmZmZmZn5vzgAAAAAAPi/oGZmZmZm9r8IzczMzMz0v3AzMzMzM/O/2JmZmZmZ8b9AAAAAAADwv1DNzMzMzOy/IJqZmZmZ6b/wZmZmZmbmv8AzMzMzM+O/kAAAAAAA4L/AmpmZmZnZv2A0MzMzM9O/AJyZmZmZyb+AnpmZmZm5vwAAAAAAABS9gJSZmZmZuT8Al5mZmZnJP+AxMzMzM9M/QJiZmZmZ2T+g/v/////fP4AyMzMzM+M/sGVmZmZm5j/gmJmZmZnpPxDMzMzMzOw/QP//////7z84mZmZmZnxP9AyMzMzM/M/aMzMzMzM9D8AZmZmZmb2P5j///////c/MJmZmZmZ+T/IMjMzMzP7P2DMzMzMzPw/+GVmZmZm/j+Q////////P5TMzMzMzABAYJmZmZmZAUAsZmZmZmYCQPgyMzMzMwNAxP//////A0CQzMzMzMwEQFyZmZmZmQVAKGZmZmZmBkD0MjMzMzMHQMD//////wdAjMzMzMzMCEBYmZmZmZkJQCRmZmZmZgpA8DIzMzMzC0C8//////8LQIjMzMzMzAxAVJmZmZmZDUAgZmZmZmYOQOwyMzMzMw9AuP//////D0BCZmZmZmYQQKjMzMzMzBBADjMzMzMzEUB0mZmZmZkRQNr//////xFAQGZmZmZmEkCmzMzMzMwSQAwzMzMzMxNAcpmZmZmZE0DY//////8TQA==\",\"dtype\":\"float64\",\"shape\":[101]},\"y\":{\"__ndarray__\":\"ADO5WH8v6z/gkkSkp9vhP0BF+39EtNA/AEZGRQPMo78A2Y3n8KDVv2Aq1lGHSOS/gM85Y7SM7b+QKN/4pULzv2DnVc6tjfe/MNdThXac+79QW3YLn2T/v2gli3o9bgHAdPnQnZX9AsDAoUx3WlwEwFCCj84KhwXA7P/0oap6BsDsmNzIyjQHwIH9ni2PswfAivRQj7P1B8DaHim/jvoHwD4+P1EUwgfAlPxRvNRMB8BM9EHo+5sGwEQv8y5OsQXAnEk/1yOPBMDwvocVYzgDwBjvP6F4sAHA0KDN5J32/7/Ae7B6iDr8v4DwKY0+Nvi/QKkqVgb087/AzZnxiP3uvyB4vEjAw+W/wDbwpZek2L8A8/S9mAq2vwC/sg/HWss/gOJOlDhd4D9AXuvr47npPxCBA7dgavE/MJWnh0PL9T8gUfxTZ/T5P3BBep8n2/0/oDHs3sS6AEBk1ccsK10CQAgtXIOY0ANAXOv50lYRBUBM41ewMRwGQITuGId+7gZAtJy+ayOGB0DJtpZ7nOEHQLUh5Lz//wdA61dZdf/gB0AQounw6oQHQFCF9Lat7AZAJCjSL80ZBkDA0cXAZA4FQCgLSmggzQNACNB/6DVZAkAYiTuRXLYAQBCzYX2H0f0/sHgZShDq+T8wkMAIUMD1P9CmEMbsXvE/wK72vDWi6T+AAI6qAEXgP4BQt0e4+Mo/AHyw7B7Ptr/Ah56tVdXYv8CwADSv2+W/4FlyjMoU779AHR29Mv/zv/ATG/nZQPi/MAbwyXdE/L/Ay+itx///v/icoAqftAHAqHs5ZhA8A8BwpX+nTpIEwKQgzmTuswXACKlKzAqeBsCeANEKTU4HwPiyqUfywgfAUs++JdD6B8Dykci+V/UHwLkC0hCXsgfAYpBu2jgzB8BUOvzlgngGwMBZT8hShAXAgKQbGxlZBMDcD08/0/kCwGAtVbcDagHAQAilWVJb/79QNZ1xaJL7v0Dd3xD4gve/sIur9mM387/ADu9sUXXtv+CvgjuBMOS/QHcMYRlw1b8A5Ee100Kiv0ClhiY75dA/YH7Tsszz4T8Aez5gEEfrPw==\",\"dtype\":\"float64\",\"shape\":[101]}},\"selected\":{\"id\":\"bb83fb72-efb1-48ea-86d0-25922c4efb75\",\"type\":\"Selection\"},\"selection_policy\":{\"id\":\"bffd2b4e-2d32-47e5-99bb-744e0349d612\",\"type\":\"UnionRenderers\"}},\"id\":\"62bddc56-4a46-47d0-96e9-56a005ed4373\",\"type\":\"ColumnDataSource\"},{\"attributes\":{\"line_alpha\":0.5,\"line_color\":\"forestgreen\",\"line_dash\":[6,4,2,4],\"line_width\":3,\"x\":{\"field\":\"x\"},\"y\":{\"field\":\"y\"}},\"id\":\"c73f81cb-c10a-471d-97f2-c895d93eef92\",\"type\":\"Line\"},{\"attributes\":{},\"id\":\"dce3a126-3794-4069-8288-0e30ca6a5738\",\"type\":\"BasicTickFormatter\"},{\"attributes\":{\"items\":[{\"id\":\"323cae1b-14fb-439d-8e70-48ac82bdb8ee\",\"type\":\"LegendItem\"},{\"id\":\"72d3c51b-ac96-4935-ac21-1bad42c979ad\",\"type\":\"LegendItem\"},{\"id\":\"d66039b4-60db-487c-87a0-aae9e96225e2\",\"type\":\"LegendItem\"}],\"plot\":{\"id\":\"720dea72-10f3-4eef-acac-ff99cbc294a2\",\"subtype\":\"Figure\",\"type\":\"Plot\"}},\"id\":\"2b5178ce-af74-47dd-b701-b77fbb1ea668\",\"type\":\"Legend\"},{\"attributes\":{},\"id\":\"58b81207-3edd-4271-8ccd-f4e062fa9fee\",\"type\":\"LinearScale\"},{\"attributes\":{\"dimension\":1,\"plot\":{\"id\":\"720dea72-10f3-4eef-acac-ff99cbc294a2\",\"subtype\":\"Figure\",\"type\":\"Plot\"},\"ticker\":{\"id\":\"ccf5bf2e-d0a5-42f1-986b-971c35187698\",\"type\":\"BasicTicker\"}},\"id\":\"7cd2fdb3-e13a-47d1-8893-9c0200913dcd\",\"type\":\"Grid\"},{\"attributes\":{\"axis_label\":\"f(X)\",\"formatter\":{\"id\":\"dce3a126-3794-4069-8288-0e30ca6a5738\",\"type\":\"BasicTickFormatter\"},\"plot\":{\"id\":\"720dea72-10f3-4eef-acac-ff99cbc294a2\",\"subtype\":\"Figure\",\"type\":\"Plot\"},\"ticker\":{\"id\":\"ccf5bf2e-d0a5-42f1-986b-971c35187698\",\"type\":\"BasicTicker\"}},\"id\":\"655792e3-332a-4705-9074-0523e5e294df\",\"type\":\"LinearAxis\"},{\"attributes\":{\"line_alpha\":0.1,\"line_color\":\"#1f77b4\",\"line_dash\":[6,4,2,4],\"line_width\":3,\"x\":{\"field\":\"x\"},\"y\":{\"field\":\"y\"}},\"id\":\"34c38f24-7340-4fa7-ad67-6bc1e283cf2d\",\"type\":\"Line\"},{\"attributes\":{},\"id\":\"aff81607-e445-4043-99f7-e6415d0b852e\",\"type\":\"LinearScale\"},{\"attributes\":{\"label\":{\"value\":\"f'(x)=3cos(x)\"},\"renderers\":[{\"id\":\"87a41c53-d140-4e63-bd15-0ca25c00dbe5\",\"type\":\"GlyphRenderer\"}]},\"id\":\"323cae1b-14fb-439d-8e70-48ac82bdb8ee\",\"type\":\"LegendItem\"},{\"attributes\":{\"plot\":{\"id\":\"720dea72-10f3-4eef-acac-ff99cbc294a2\",\"subtype\":\"Figure\",\"type\":\"Plot\"},\"ticker\":{\"id\":\"92dee826-54b0-4151-aedf-30a90adebe88\",\"type\":\"BasicTicker\"}},\"id\":\"159b3039-a7d0-4d70-8ff6-c8ab84292f11\",\"type\":\"Grid\"},{\"attributes\":{\"label\":{\"value\":\"f'(x)=1cos(x)\"},\"renderers\":[{\"id\":\"c6aacc0e-e36d-4149-9a02-9e920ea2070f\",\"type\":\"GlyphRenderer\"}]},\"id\":\"72d3c51b-ac96-4935-ac21-1bad42c979ad\",\"type\":\"LegendItem\"},{\"attributes\":{\"active_drag\":\"auto\",\"active_inspect\":\"auto\",\"active_multi\":null,\"active_scroll\":\"auto\",\"active_tap\":\"auto\",\"tools\":[{\"id\":\"45bdd7f6-3138-4739-b312-fa1b61dc32b9\",\"type\":\"PanTool\"},{\"id\":\"aa5a4f7e-e15c-46fa-aff3-a3bdd987d6e1\",\"type\":\"WheelZoomTool\"},{\"id\":\"e60a8ecc-d2e0-4c86-9575-02cfa84f8c0a\",\"type\":\"BoxZoomTool\"},{\"id\":\"88d08a22-bbed-4d50-a16d-eae7437277cd\",\"type\":\"SaveTool\"},{\"id\":\"7a3224bf-1670-4106-afdd-8a73d1c64e73\",\"type\":\"ResetTool\"},{\"id\":\"80af04b9-c9aa-4ef4-a05d-bb55d10e1d54\",\"type\":\"HelpTool\"}]},\"id\":\"f396ebbf-14a7-4751-895e-29809c029a57\",\"type\":\"Toolbar\"},{\"attributes\":{},\"id\":\"bffd2b4e-2d32-47e5-99bb-744e0349d612\",\"type\":\"UnionRenderers\"},{\"attributes\":{\"callback\":null},\"id\":\"3abeb066-fb97-47c8-ad6b-08bb097b924d\",\"type\":\"DataRange1d\"},{\"attributes\":{\"axis_label\":\"X\",\"formatter\":{\"id\":\"2f55b799-f1bf-4e69-9522-0b93bf1daf9a\",\"type\":\"BasicTickFormatter\"},\"plot\":{\"id\":\"720dea72-10f3-4eef-acac-ff99cbc294a2\",\"subtype\":\"Figure\",\"type\":\"Plot\"},\"ticker\":{\"id\":\"92dee826-54b0-4151-aedf-30a90adebe88\",\"type\":\"BasicTicker\"}},\"id\":\"b0ba8eaa-ef6c-4206-bd2e-8905ee19a8aa\",\"type\":\"LinearAxis\"},{\"attributes\":{},\"id\":\"bb83fb72-efb1-48ea-86d0-25922c4efb75\",\"type\":\"Selection\"},{\"attributes\":{\"callback\":null},\"id\":\"6ef9791e-f572-4705-9034-48dcbdca9882\",\"type\":\"DataRange1d\"},{\"attributes\":{\"source\":{\"id\":\"68bd9eef-bcd2-44b7-b112-b60281a77e56\",\"type\":\"ColumnDataSource\"}},\"id\":\"7c4a2a5d-b0f8-4455-a9de-885da1601edf\",\"type\":\"CDSView\"},{\"attributes\":{\"source\":{\"id\":\"46737a4d-58b7-4ae5-8723-29bd7fbf301a\",\"type\":\"ColumnDataSource\"}},\"id\":\"2f1acfca-199a-4a41-9aa5-658eea97927c\",\"type\":\"CDSView\"},{\"attributes\":{},\"id\":\"80af04b9-c9aa-4ef4-a05d-bb55d10e1d54\",\"type\":\"HelpTool\"},{\"attributes\":{\"line_alpha\":0.1,\"line_color\":\"#1f77b4\",\"line_dash\":[6,4,2,4],\"line_width\":3,\"x\":{\"field\":\"x\"},\"y\":{\"field\":\"y\"}},\"id\":\"7bf374a4-fa1b-45f2-b13e-d83335efb142\",\"type\":\"Line\"},{\"attributes\":{},\"id\":\"35237e54-5cb3-46ed-ba48-dfb116bb668b\",\"type\":\"Selection\"},{\"attributes\":{\"data_source\":{\"id\":\"62bddc56-4a46-47d0-96e9-56a005ed4373\",\"type\":\"ColumnDataSource\"},\"glyph\":{\"id\":\"866e02d7-b6f1-4bdd-aa57-f20a1c50b3cf\",\"type\":\"Line\"},\"hover_glyph\":null,\"muted_glyph\":null,\"nonselection_glyph\":{\"id\":\"7bf374a4-fa1b-45f2-b13e-d83335efb142\",\"type\":\"Line\"},\"selection_glyph\":null,\"view\":{\"id\":\"7906c6fb-d69d-4837-be0f-3e912f3707e2\",\"type\":\"CDSView\"}},\"id\":\"87a41c53-d140-4e63-bd15-0ca25c00dbe5\",\"type\":\"GlyphRenderer\"},{\"attributes\":{},\"id\":\"162135b3-b405-4c4f-b752-5f6571f7976d\",\"type\":\"Selection\"},{\"attributes\":{\"overlay\":{\"id\":\"35594380-3a12-4c3a-a661-9a99605649e2\",\"type\":\"BoxAnnotation\"}},\"id\":\"e60a8ecc-d2e0-4c86-9575-02cfa84f8c0a\",\"type\":\"BoxZoomTool\"},{\"attributes\":{\"label\":{\"value\":\"f'(x)=.5cos(x)\"},\"renderers\":[{\"id\":\"488a8b84-f5a9-4efb-bc4a-59e8898a0484\",\"type\":\"GlyphRenderer\"}]},\"id\":\"d66039b4-60db-487c-87a0-aae9e96225e2\",\"type\":\"LegendItem\"},{\"attributes\":{\"callback\":null,\"data\":{\"x\":{\"__ndarray__\":\"AAAAAAAAFMCamZmZmZkTwDQzMzMzMxPAzszMzMzMEsBoZmZmZmYSwAIAAAAAABLAnJmZmZmZEcA2MzMzMzMRwNDMzMzMzBDAamZmZmZmEMAEAAAAAAAQwDwzMzMzMw/AcGZmZmZmDsCkmZmZmZkNwNjMzMzMzAzADAAAAAAADMBAMzMzMzMLwHRmZmZmZgrAqJmZmZmZCcDczMzMzMwIwBAAAAAAAAjARDMzMzMzB8B4ZmZmZmYGwKyZmZmZmQXA4MzMzMzMBMAUAAAAAAAEwEgzMzMzMwPAfGZmZmZmAsCwmZmZmZkBwOTMzMzMzADAGAAAAAAAAMCYZmZmZmb+vwDNzMzMzPy/aDMzMzMz+7/QmZmZmZn5vzgAAAAAAPi/oGZmZmZm9r8IzczMzMz0v3AzMzMzM/O/2JmZmZmZ8b9AAAAAAADwv1DNzMzMzOy/IJqZmZmZ6b/wZmZmZmbmv8AzMzMzM+O/kAAAAAAA4L/AmpmZmZnZv2A0MzMzM9O/AJyZmZmZyb+AnpmZmZm5vwAAAAAAABS9gJSZmZmZuT8Al5mZmZnJP+AxMzMzM9M/QJiZmZmZ2T+g/v/////fP4AyMzMzM+M/sGVmZmZm5j/gmJmZmZnpPxDMzMzMzOw/QP//////7z84mZmZmZnxP9AyMzMzM/M/aMzMzMzM9D8AZmZmZmb2P5j///////c/MJmZmZmZ+T/IMjMzMzP7P2DMzMzMzPw/+GVmZmZm/j+Q////////P5TMzMzMzABAYJmZmZmZAUAsZmZmZmYCQPgyMzMzMwNAxP//////A0CQzMzMzMwEQFyZmZmZmQVAKGZmZmZmBkD0MjMzMzMHQMD//////wdAjMzMzMzMCEBYmZmZmZkJQCRmZmZmZgpA8DIzMzMzC0C8//////8LQIjMzMzMzAxAVJmZmZmZDUAgZmZmZmYOQOwyMzMzMw9AuP//////D0BCZmZmZmYQQKjMzMzMzBBADjMzMzMzEUB0mZmZmZkRQNr//////xFAQGZmZmZmEkCmzMzMzMwSQAwzMzMzMxNAcpmZmZmZE0DY//////8TQA==\",\"dtype\":\"float64\",\"shape\":[101]},\"y\":{\"__ndarray__\":\"ACImO6of0j+Ablswis/HP4BHpKqwRbY/AAizsVllir9AbBKKlta8v4A4yBdfC8u/ADXR7CKz07/QiCmhMq7Zv3CMcmiSZ9+/ODaNA09o4r/QlPlcv+3kv/DZDk6nPee/+PVr0hxS6b8ALWb0zSXrv8RXv2gOtOy/mP6bguP47b+UICZhDvHuv6z80zwUmu+/TpsWv0Ty77+40zZUvvjvv6RTVGxwre+/bqbCpRsR778M8VfgTyXuv6iVmT5o7Oy/0Az/HoVp679I/bQchKDpvxhAVSz2lee/0G3e7RNP5b94/spRsNHiv+hOcbMpJOC/MC+OHbOa2r+Qhmb2BanUv6BF+2AABc2/gCSgbrptwL8AQpxSdmOdv0DKIbWEPLI/wI2+xaDRxT9Q8ZzylybRP7CuBPSAONc/MHTftAQP3T+4jP03mk3hP7DTpr9v5+M/gJfl01tO5j8ocwqROXzoP2jlegR2a+o/2I2ibh4X7D8U2R/r7HrtP7Doy15Tk+4/8NCoj4Rd7z+LnnNPe9fvP0eChab//+8/Y3XM8anW7z++LeLr41vvP8Rbm57nkO4/MODCP7x37T8IwQcBMRPsP9i6YuDVZuo/YBVVi/J26D8QZE9se0jmP3AfQf4E4eM/MKO7hrVG4T8wGFa2agDdP6DjwLI7Kdc/cMz5fc4W0T8AVr04VrHFP4DLJIUl+7E/AFDrkH5pnr+gqmkeOY7AvyCRq5rpJM2/IEFMCIe41L8Qzyb8mKnav4hmZ/s7K+C/KFj120/Y4r+Q2kXJL1Xlv6Am1rh+m+e/8Ez3Mmul6b84M6o0vm3rvzgqaIbo7+y/VOO4ZQ4o7r8oVsFjERPvv6DujF+Yru+/bhSphxX577/uF7ZTyvHvv0yuwmvJmO+/1GuTePbu7r9sTlDdA/btvwDNaWBusOy/AIbPznYh67/Qv76pGU3pv3CUcfQEOOe/cF3DO4zn5L/ozGj2mmHivyB3KsFKWd+/UGKP8y+f2b+AtPSdi6PTv2CaA/pW68q/wH8QLHeVvL8AMgpHGlmIvwCHs4j5hrY/QAgambvvxz/AsSlAYC/SPw==\",\"dtype\":\"float64\",\"shape\":[101]}},\"selected\":{\"id\":\"35237e54-5cb3-46ed-ba48-dfb116bb668b\",\"type\":\"Selection\"},\"selection_policy\":{\"id\":\"23292278-edb6-477e-a3a0-8c42cb41c81d\",\"type\":\"UnionRenderers\"}},\"id\":\"68bd9eef-bcd2-44b7-b112-b60281a77e56\",\"type\":\"ColumnDataSource\"},{\"attributes\":{},\"id\":\"ccf5bf2e-d0a5-42f1-986b-971c35187698\",\"type\":\"BasicTicker\"},{\"attributes\":{},\"id\":\"23292278-edb6-477e-a3a0-8c42cb41c81d\",\"type\":\"UnionRenderers\"},{\"attributes\":{\"line_alpha\":0.5,\"line_color\":\"red\",\"line_dash\":[6,4,2,4],\"line_width\":3,\"x\":{\"field\":\"x\"},\"y\":{\"field\":\"y\"}},\"id\":\"866e02d7-b6f1-4bdd-aa57-f20a1c50b3cf\",\"type\":\"Line\"},{\"attributes\":{\"data_source\":{\"id\":\"46737a4d-58b7-4ae5-8723-29bd7fbf301a\",\"type\":\"ColumnDataSource\"},\"glyph\":{\"id\":\"c73f81cb-c10a-471d-97f2-c895d93eef92\",\"type\":\"Line\"},\"hover_glyph\":null,\"muted_glyph\":null,\"nonselection_glyph\":{\"id\":\"34c38f24-7340-4fa7-ad67-6bc1e283cf2d\",\"type\":\"Line\"},\"selection_glyph\":null,\"view\":{\"id\":\"2f1acfca-199a-4a41-9aa5-658eea97927c\",\"type\":\"CDSView\"}},\"id\":\"488a8b84-f5a9-4efb-bc4a-59e8898a0484\",\"type\":\"GlyphRenderer\"},{\"attributes\":{},\"id\":\"92dee826-54b0-4151-aedf-30a90adebe88\",\"type\":\"BasicTicker\"},{\"attributes\":{\"callback\":null,\"data\":{\"x\":{\"__ndarray__\":\"AAAAAAAAFMCamZmZmZkTwDQzMzMzMxPAzszMzMzMEsBoZmZmZmYSwAIAAAAAABLAnJmZmZmZEcA2MzMzMzMRwNDMzMzMzBDAamZmZmZmEMAEAAAAAAAQwDwzMzMzMw/AcGZmZmZmDsCkmZmZmZkNwNjMzMzMzAzADAAAAAAADMBAMzMzMzMLwHRmZmZmZgrAqJmZmZmZCcDczMzMzMwIwBAAAAAAAAjARDMzMzMzB8B4ZmZmZmYGwKyZmZmZmQXA4MzMzMzMBMAUAAAAAAAEwEgzMzMzMwPAfGZmZmZmAsCwmZmZmZkBwOTMzMzMzADAGAAAAAAAAMCYZmZmZmb+vwDNzMzMzPy/aDMzMzMz+7/QmZmZmZn5vzgAAAAAAPi/oGZmZmZm9r8IzczMzMz0v3AzMzMzM/O/2JmZmZmZ8b9AAAAAAADwv1DNzMzMzOy/IJqZmZmZ6b/wZmZmZmbmv8AzMzMzM+O/kAAAAAAA4L/AmpmZmZnZv2A0MzMzM9O/AJyZmZmZyb+AnpmZmZm5vwAAAAAAABS9gJSZmZmZuT8Al5mZmZnJP+AxMzMzM9M/QJiZmZmZ2T+g/v/////fP4AyMzMzM+M/sGVmZmZm5j/gmJmZmZnpPxDMzMzMzOw/QP//////7z84mZmZmZnxP9AyMzMzM/M/aMzMzMzM9D8AZmZmZmb2P5j///////c/MJmZmZmZ+T/IMjMzMzP7P2DMzMzMzPw/+GVmZmZm/j+Q////////P5TMzMzMzABAYJmZmZmZAUAsZmZmZmYCQPgyMzMzMwNAxP//////A0CQzMzMzMwEQFyZmZmZmQVAKGZmZmZmBkD0MjMzMzMHQMD//////wdAjMzMzMzMCEBYmZmZmZkJQCRmZmZmZgpA8DIzMzMzC0C8//////8LQIjMzMzMzAxAVJmZmZmZDUAgZmZmZmYOQOwyMzMzMw9AuP//////D0BCZmZmZmYQQKjMzMzMzBBADjMzMzMzEUB0mZmZmZkRQNr//////xFAQGZmZmZmEkCmzMzMzMwSQAwzMzMzMxNAcpmZmZmZE0DY//////8TQA==\",\"dtype\":\"float64\",\"shape\":[101]},\"y\":{\"__ndarray__\":\"ACImO6ofwj+Ablswis+3P4BHpKqwRaY/AAizsVller9AbBKKltasv4A4yBdfC7u/ADXR7CKzw7/QiCmhMq7Jv3CMcmiSZ8+/ODaNA09o0r/QlPlcv+3Uv/DZDk6nPde/+PVr0hxS2b8ALWb0zSXbv8RXv2gOtNy/mP6bguP43b+UICZhDvHev6z80zwUmt+/TpsWv0Ty37+40zZUvvjfv6RTVGxwrd+/bqbCpRsR378M8VfgTyXev6iVmT5o7Ny/0Az/HoVp279I/bQchKDZvxhAVSz2lde/0G3e7RNP1b94/spRsNHSv+hOcbMpJNC/MC+OHbOayr+Qhmb2BanEv6BF+2AABb2/gCSgbrptsL8AQpxSdmONv0DKIbWEPKI/wI2+xaDRtT9Q8ZzylybBP7CuBPSAOMc/MHTftAQPzT+4jP03mk3RP7DTpr9v59M/gJfl01tO1j8ocwqROXzYP2jlegR2a9o/2I2ibh4X3D8U2R/r7HrdP7Doy15Tk94/8NCoj4Rd3z+LnnNPe9ffP0eChab//98/Y3XM8anW3z++LeLr41vfP8Rbm57nkN4/MODCP7x33T8IwQcBMRPcP9i6YuDVZto/YBVVi/J22D8QZE9se0jWP3AfQf4E4dM/MKO7hrVG0T8wGFa2agDNP6DjwLI7Kcc/cMz5fc4WwT8AVr04VrG1P4DLJIUl+6E/AFDrkH5pjr+gqmkeOY6wvyCRq5rpJL2/IEFMCIe4xL8Qzyb8mKnKv4hmZ/s7K9C/KFj120/Y0r+Q2kXJL1XVv6Am1rh+m9e/8Ez3Mmul2b84M6o0vm3bvzgqaIbo79y/VOO4ZQ4o3r8oVsFjERPfv6DujF+Yrt+/bhSphxX537/uF7ZTyvHfv0yuwmvJmN+/1GuTePbu3r9sTlDdA/bdvwDNaWBusNy/AIbPznYh27/Qv76pGU3Zv3CUcfQEONe/cF3DO4zn1L/ozGj2mmHSvyB3KsFKWc+/UGKP8y+fyb+AtPSdi6PDv2CaA/pW67q/wH8QLHeVrL8AMgpHGll4vwCHs4j5hqY/QAgambvvtz/AsSlAYC/CPw==\",\"dtype\":\"float64\",\"shape\":[101]}},\"selected\":{\"id\":\"162135b3-b405-4c4f-b752-5f6571f7976d\",\"type\":\"Selection\"},\"selection_policy\":{\"id\":\"9fd1726c-945b-47c5-afca-03ff53bdde81\",\"type\":\"UnionRenderers\"}},\"id\":\"46737a4d-58b7-4ae5-8723-29bd7fbf301a\",\"type\":\"ColumnDataSource\"}],\"root_ids\":[\"720dea72-10f3-4eef-acac-ff99cbc294a2\"]},\"title\":\"Bokeh Application\",\"version\":\"0.13.0\"}};\n",
       "  var render_items = [{\"docid\":\"d05b646d-6232-4358-b500-d210d40bca4c\",\"roots\":{\"720dea72-10f3-4eef-acac-ff99cbc294a2\":\"4ba53a0e-4278-4f2d-92e9-2eb031b0b162\"}}];\n",
       "  root.Bokeh.embed.embed_items_notebook(docs_json, render_items);\n",
       "\n",
       "  }\n",
       "  if (root.Bokeh !== undefined) {\n",
       "    embed_document(root);\n",
       "  } else {\n",
       "    var attempts = 0;\n",
       "    var timer = setInterval(function(root) {\n",
       "      if (root.Bokeh !== undefined) {\n",
       "        embed_document(root);\n",
       "        clearInterval(timer);\n",
       "      }\n",
       "      attempts++;\n",
       "      if (attempts > 100) {\n",
       "        console.log(\"Bokeh: ERROR: Unable to run BokehJS code because BokehJS library is missing\")\n",
       "        clearInterval(timer);\n",
       "      }\n",
       "    }, 10, root)\n",
       "  }\n",
       "})(window);"
      ],
      "application/vnd.bokehjs_exec.v0+json": ""
     },
     "metadata": {
      "application/vnd.bokehjs_exec.v0+json": {
       "id": "720dea72-10f3-4eef-acac-ff99cbc294a2"
      }
     },
     "output_type": "display_data"
    }
   ],
   "source": [
    "def f1(x):\n",
    "    return 3*np.sin(x)\n",
    "def f2(x):\n",
    "    return 1*np.sin(x)\n",
    "def f3(x):\n",
    "    return .5*np.sin(x)\n",
    "\n",
    "x = np.arange(-5,5.1,.1)\n",
    "p = plot(700,300)\n",
    "p.line(x,deriv(x,f1),line_width=3,\n",
    "       line_dash='dashdot',legend=\"f'(x)=3cos(x)\",\n",
    "       color=\"red\",alpha=.5)\n",
    "p.line(x,deriv(x,f2),line_width=3,\n",
    "       line_dash='dashdot',legend=\"f'(x)=1cos(x)\",\n",
    "       color=\"skyblue\",alpha=.5)\n",
    "p.line(x,deriv(x,f3),line_width=3,\n",
    "       line_dash='dashdot',legend=\"f'(x)=.5cos(x)\",\n",
    "       color=\"forestgreen\",alpha=.5)\n",
    "show(p)"
   ]
  },
  {
   "cell_type": "markdown",
   "metadata": {},
   "source": [
    "## The Sum Rule\n",
    "\n",
    "Let's apply the above to more than one function.\n",
    "\n",
    "<br>\n",
    "<br>\n",
    "\n",
    "$$ \\frac{d(f + g)}{d x} $$\n",
    "\n",
    "<br>\n",
    "<br>\n",
    "\n",
    "$$\\lim_{h \\to 0} \\frac{(f(x+h) + g(x+h) ) - (f(x) + g(x))}{h}$$\n",
    "\n",
    "<br>\n",
    "<br>\n",
    "\n",
    "$$ \\lim_{h \\to 0} \\frac{(f(x+h) - f(x)) + (g(x+h) - g(x))}{h}$$\n",
    "\n",
    "<br>\n",
    "<br>\n",
    "\n",
    "$$ \\lim_{h \\to 0} (\\frac{f(x+h) - f(x)}{h} + \\frac{g(x+h) - g(x)}{h})$$\n",
    "\n",
    "<br>\n",
    "<br>\n",
    "\n",
    "$$ f'(x) + g'(x) $$\n",
    "\n",
    "<br>\n",
    "<br>\n",
    "\n",
    "Naturally, this holds as well for subtraction.\n",
    "\n",
    "<br>\n",
    "<br>\n",
    "\n",
    "$$  \\frac{d(f(x) - g(x))}{d x} = f'(x) - g'(x) $$\n",
    "\n",
    "<br>\n",
    "<br>"
   ]
  },
  {
   "cell_type": "markdown",
   "metadata": {},
   "source": [
    "These linear operators should look familiar! \n",
    "\n",
    "#### Let's see what these rules mean in practice"
   ]
  },
  {
   "cell_type": "markdown",
   "metadata": {},
   "source": [
    "<br>\n",
    "<br>\n",
    "\n",
    "$$ f(x) = x^3 + 2x^2 - 3x$$\n",
    "\n",
    "<br>\n",
    "<br>\n",
    "\n",
    "$$ \\frac{df(x)}{dx} = \\frac{d(x^3 + 2x^2 - 3x)}{dx}$$\n",
    "\n",
    "<br>\n",
    "<br>\n",
    "\n",
    "$$ \\frac{df(x)}{dx} = \\frac{d(x^3)}{dx} + \\frac{d(2x^2)}{dx} - \\frac{d(3x)}{dx}$$\n",
    "\n",
    "<br>\n",
    "<br>\n",
    "\n",
    "$$ \\frac{df(x)}{dx} = \\frac{d(x^3)}{dx} + 2\\frac{d(x^2)}{dx} - 3\\frac{d(x)}{dx}$$\n",
    "\n",
    "<br>\n",
    "<br>\n",
    "\n",
    "$$ \\frac{df(x)}{dx} = 3x^2 + 2(2x) - 3(1)$$\n",
    "\n",
    "<br>\n",
    "<br>\n",
    "\n",
    "$$ \\frac{df(x)}{dx} = 3x^2 + 4x - 3$$\n",
    "\n",
    "<br>\n",
    "<br>"
   ]
  },
  {
   "cell_type": "markdown",
   "metadata": {},
   "source": [
    "### Intuition\n",
    "Given the function is differentiable, we can differentiate each individual component of the function individually and then add the components together. "
   ]
  },
  {
   "cell_type": "code",
   "execution_count": 5,
   "metadata": {},
   "outputs": [],
   "source": [
    "# Define our function and its components\n",
    "def f(x):\n",
    "    return x**3 + 2*x**2 + 3*x\n",
    "\n",
    "def f_comp1(x):\n",
    "    return x**3\n",
    "\n",
    "def f_comp2(x):\n",
    "    return 2*x**2\n",
    "\n",
    "def f_comp3(x):\n",
    "    return 3*x"
   ]
  },
  {
   "cell_type": "code",
   "execution_count": 6,
   "metadata": {},
   "outputs": [
    {
     "data": {
      "text/html": [
       "\n",
       "\n",
       "\n",
       "\n",
       "\n",
       "\n",
       "  <div class=\"bk-root\" id=\"e1c13fbb-7742-4ef5-b9d9-f87b1f6523f0\"></div>\n"
      ]
     },
     "metadata": {},
     "output_type": "display_data"
    },
    {
     "data": {
      "application/javascript": [
       "(function(root) {\n",
       "  function embed_document(root) {\n",
       "    \n",
       "  var docs_json = {\"a93692c2-f28f-45cb-a3ea-802da7ae02f9\":{\"roots\":{\"references\":[{\"attributes\":{\"axis_label\":\"X\",\"formatter\":{\"id\":\"45548abe-59f3-47f2-ba8c-b94303b5f3b9\",\"type\":\"BasicTickFormatter\"},\"plot\":{\"id\":\"838c9bb4-c6d1-4191-941d-b61a949eca5a\",\"subtype\":\"Figure\",\"type\":\"Plot\"},\"ticker\":{\"id\":\"83de4f86-7a7a-4ca9-8a27-cd6c9ed70039\",\"type\":\"BasicTicker\"}},\"id\":\"97bbdb7a-5dc3-48f9-9415-c418029827ca\",\"type\":\"LinearAxis\"},{\"attributes\":{\"plot\":{\"id\":\"838c9bb4-c6d1-4191-941d-b61a949eca5a\",\"subtype\":\"Figure\",\"type\":\"Plot\"},\"ticker\":{\"id\":\"83de4f86-7a7a-4ca9-8a27-cd6c9ed70039\",\"type\":\"BasicTicker\"}},\"id\":\"51d4f009-5fec-4b32-b8c1-149df8f67f4b\",\"type\":\"Grid\"},{\"attributes\":{\"axis_label\":\"f(X)\",\"formatter\":{\"id\":\"b5896f28-a0b7-43d4-8142-ace0c5c54ffa\",\"type\":\"BasicTickFormatter\"},\"plot\":{\"id\":\"838c9bb4-c6d1-4191-941d-b61a949eca5a\",\"subtype\":\"Figure\",\"type\":\"Plot\"},\"ticker\":{\"id\":\"459deb74-9426-4158-86df-3a6c75dc45da\",\"type\":\"BasicTicker\"}},\"id\":\"991cd2fd-4069-42c6-b3fd-a4e8b1909356\",\"type\":\"LinearAxis\"},{\"attributes\":{},\"id\":\"273e3ac8-7809-41eb-b8c2-8c02b1cbea47\",\"type\":\"LinearScale\"},{\"attributes\":{},\"id\":\"83de4f86-7a7a-4ca9-8a27-cd6c9ed70039\",\"type\":\"BasicTicker\"},{\"attributes\":{},\"id\":\"e2fc18b5-9807-4f8c-a0dd-7de9d41a7b25\",\"type\":\"UnionRenderers\"},{\"attributes\":{\"callback\":null,\"data\":{\"x\":[4,4],\"y\":[108,96]},\"selected\":{\"id\":\"8fea0352-26fe-430d-9173-36c770ed5199\",\"type\":\"Selection\"},\"selection_policy\":{\"id\":\"f669e67e-8f4a-4ca6-b3df-074fdf8c77ab\",\"type\":\"UnionRenderers\"}},\"id\":\"189b5f73-95b8-4d94-ada2-79f2be81f3ee\",\"type\":\"ColumnDataSource\"},{\"attributes\":{\"line_alpha\":0.6,\"line_color\":\"green\",\"line_width\":5,\"x\":{\"field\":\"x\"},\"y\":{\"field\":\"y\"}},\"id\":\"32fe2402-0810-49f4-b223-a95b86f75f99\",\"type\":\"Line\"},{\"attributes\":{},\"id\":\"058ec580-f536-4d43-8d8c-8ea5393a2272\",\"type\":\"Selection\"},{\"attributes\":{\"line_alpha\":0.1,\"line_color\":\"#1f77b4\",\"line_width\":5,\"x\":{\"field\":\"x\"},\"y\":{\"field\":\"y\"}},\"id\":\"6ec10ebe-306c-4bbe-bfd9-999f1f1f5378\",\"type\":\"Line\"},{\"attributes\":{},\"id\":\"5efc177a-4bdf-4c19-b0be-192e75e48872\",\"type\":\"UnionRenderers\"},{\"attributes\":{\"data_source\":{\"id\":\"189b5f73-95b8-4d94-ada2-79f2be81f3ee\",\"type\":\"ColumnDataSource\"},\"glyph\":{\"id\":\"32fe2402-0810-49f4-b223-a95b86f75f99\",\"type\":\"Line\"},\"hover_glyph\":null,\"muted_glyph\":null,\"nonselection_glyph\":{\"id\":\"6ec10ebe-306c-4bbe-bfd9-999f1f1f5378\",\"type\":\"Line\"},\"selection_glyph\":null,\"view\":{\"id\":\"fc08f185-7fe6-427a-afd6-0b3a6d12fa36\",\"type\":\"CDSView\"}},\"id\":\"bab6c812-b733-4f45-af42-ec100f9c2710\",\"type\":\"GlyphRenderer\"},{\"attributes\":{},\"id\":\"a7bb0af6-37f7-4e04-865a-90fc333811b2\",\"type\":\"Selection\"},{\"attributes\":{\"source\":{\"id\":\"189b5f73-95b8-4d94-ada2-79f2be81f3ee\",\"type\":\"ColumnDataSource\"}},\"id\":\"fc08f185-7fe6-427a-afd6-0b3a6d12fa36\",\"type\":\"CDSView\"},{\"attributes\":{},\"id\":\"cb137c94-12bd-43a2-a0d8-e85f6c5cb3b5\",\"type\":\"UnionRenderers\"},{\"attributes\":{\"callback\":null,\"data\":{\"x\":[5,5],\"y\":[125,0]},\"selected\":{\"id\":\"f3a8a1bb-d4ea-4c75-9a2b-3f69d8160290\",\"type\":\"Selection\"},\"selection_policy\":{\"id\":\"b24022ac-cbcb-4938-ac70-b9a844cca8a7\",\"type\":\"UnionRenderers\"}},\"id\":\"8a3a0948-a374-449d-9b52-d09fd238e2cf\",\"type\":\"ColumnDataSource\"},{\"attributes\":{},\"id\":\"a19f68e4-27aa-4707-a38f-0ff762a39e5f\",\"type\":\"Selection\"},{\"attributes\":{\"line_alpha\":0.4,\"line_width\":5,\"x\":{\"field\":\"x\"},\"y\":{\"field\":\"y\"}},\"id\":\"8dc7c1a7-01ed-4202-b5e2-784921b16d0a\",\"type\":\"Line\"},{\"attributes\":{},\"id\":\"5301f462-6d70-4308-898c-63f910faeac9\",\"type\":\"UnionRenderers\"},{\"attributes\":{\"line_alpha\":0.1,\"line_color\":\"#1f77b4\",\"line_width\":5,\"x\":{\"field\":\"x\"},\"y\":{\"field\":\"y\"}},\"id\":\"8df952b1-a4d4-4f07-877a-55236ac602c8\",\"type\":\"Line\"},{\"attributes\":{},\"id\":\"f36761d0-232d-476f-b283-5bf60bbdfd71\",\"type\":\"Selection\"},{\"attributes\":{\"data_source\":{\"id\":\"8a3a0948-a374-449d-9b52-d09fd238e2cf\",\"type\":\"ColumnDataSource\"},\"glyph\":{\"id\":\"8dc7c1a7-01ed-4202-b5e2-784921b16d0a\",\"type\":\"Line\"},\"hover_glyph\":null,\"muted_glyph\":null,\"nonselection_glyph\":{\"id\":\"8df952b1-a4d4-4f07-877a-55236ac602c8\",\"type\":\"Line\"},\"selection_glyph\":null,\"view\":{\"id\":\"b0955feb-75bf-4172-974b-66426f09af8c\",\"type\":\"CDSView\"}},\"id\":\"a13f945f-f6be-450e-9f12-801f1ae77c43\",\"type\":\"GlyphRenderer\"},{\"attributes\":{},\"id\":\"8951c2b0-d1fe-45ce-947b-d65fe5b5767e\",\"type\":\"UnionRenderers\"},{\"attributes\":{\"source\":{\"id\":\"8a3a0948-a374-449d-9b52-d09fd238e2cf\",\"type\":\"ColumnDataSource\"}},\"id\":\"b0955feb-75bf-4172-974b-66426f09af8c\",\"type\":\"CDSView\"},{\"attributes\":{},\"id\":\"a7294fb8-0609-4764-a9ca-05b35f0278e5\",\"type\":\"Selection\"},{\"attributes\":{\"callback\":null,\"data\":{\"x\":[5,5],\"y\":[175,125]},\"selected\":{\"id\":\"2929c385-2865-4dd7-ad0f-6a946b4dd35e\",\"type\":\"Selection\"},\"selection_policy\":{\"id\":\"0193f7b3-8be3-47f6-b4fb-11839c716e72\",\"type\":\"UnionRenderers\"}},\"id\":\"c04acc26-19b3-43af-92dc-ef7fa3ecd170\",\"type\":\"ColumnDataSource\"},{\"attributes\":{},\"id\":\"2f98876a-b32d-4a20-ac7f-a48fcf3642d7\",\"type\":\"UnionRenderers\"},{\"attributes\":{\"line_alpha\":0.4,\"line_color\":\"orange\",\"line_width\":5,\"x\":{\"field\":\"x\"},\"y\":{\"field\":\"y\"}},\"id\":\"8420efb0-8f80-4d20-a16c-8e4b5da5cf37\",\"type\":\"Line\"},{\"attributes\":{},\"id\":\"17f28ac5-6afb-4808-924d-355871d066f7\",\"type\":\"Selection\"},{\"attributes\":{\"line_alpha\":0.1,\"line_color\":\"#1f77b4\",\"line_width\":5,\"x\":{\"field\":\"x\"},\"y\":{\"field\":\"y\"}},\"id\":\"9be79b1c-5106-4a4a-bb8a-5dd45091936f\",\"type\":\"Line\"},{\"attributes\":{},\"id\":\"8da2d280-de14-4060-950d-a6a6b21d342b\",\"type\":\"UnionRenderers\"},{\"attributes\":{\"data_source\":{\"id\":\"c04acc26-19b3-43af-92dc-ef7fa3ecd170\",\"type\":\"ColumnDataSource\"},\"glyph\":{\"id\":\"8420efb0-8f80-4d20-a16c-8e4b5da5cf37\",\"type\":\"Line\"},\"hover_glyph\":null,\"muted_glyph\":null,\"nonselection_glyph\":{\"id\":\"9be79b1c-5106-4a4a-bb8a-5dd45091936f\",\"type\":\"Line\"},\"selection_glyph\":null,\"view\":{\"id\":\"341072c9-e489-417a-88a5-c0323eb01992\",\"type\":\"CDSView\"}},\"id\":\"692d22ba-3dd0-4374-a85c-f06bc1f0bcf2\",\"type\":\"GlyphRenderer\"},{\"attributes\":{},\"id\":\"f12728f9-ec4a-489e-8c4c-b4b5d78fc777\",\"type\":\"Selection\"},{\"attributes\":{\"source\":{\"id\":\"c04acc26-19b3-43af-92dc-ef7fa3ecd170\",\"type\":\"ColumnDataSource\"}},\"id\":\"341072c9-e489-417a-88a5-c0323eb01992\",\"type\":\"CDSView\"},{\"attributes\":{},\"id\":\"77e17352-c0a6-4764-a8e9-44ad545299e6\",\"type\":\"UnionRenderers\"},{\"attributes\":{\"callback\":null,\"data\":{\"x\":[5,5],\"y\":[190,175]},\"selected\":{\"id\":\"4cc71cf8-0ebd-4d35-bef2-fd90d4e70e19\",\"type\":\"Selection\"},\"selection_policy\":{\"id\":\"5c1052de-1439-4593-b8ce-34eed9f57f44\",\"type\":\"UnionRenderers\"}},\"id\":\"d53dbda1-9b68-4d3c-9daa-9f62419c5ef1\",\"type\":\"ColumnDataSource\"},{\"attributes\":{},\"id\":\"4ff6d174-50e1-4ca1-b1a7-40ed16863fa1\",\"type\":\"Selection\"},{\"attributes\":{\"line_alpha\":0.6,\"line_color\":\"green\",\"line_width\":5,\"x\":{\"field\":\"x\"},\"y\":{\"field\":\"y\"}},\"id\":\"351ba095-29b9-4562-ad6e-e8c2b6dc0af3\",\"type\":\"Line\"},{\"attributes\":{},\"id\":\"c2c92af8-d171-4af7-b352-22d651bffc7e\",\"type\":\"UnionRenderers\"},{\"attributes\":{\"line_alpha\":0.1,\"line_color\":\"#1f77b4\",\"line_width\":5,\"x\":{\"field\":\"x\"},\"y\":{\"field\":\"y\"}},\"id\":\"a4de34de-c3fc-46d0-b1e6-3f0b891c29d6\",\"type\":\"Line\"},{\"attributes\":{},\"id\":\"8fea0352-26fe-430d-9173-36c770ed5199\",\"type\":\"Selection\"},{\"attributes\":{\"data_source\":{\"id\":\"d53dbda1-9b68-4d3c-9daa-9f62419c5ef1\",\"type\":\"ColumnDataSource\"},\"glyph\":{\"id\":\"351ba095-29b9-4562-ad6e-e8c2b6dc0af3\",\"type\":\"Line\"},\"hover_glyph\":null,\"muted_glyph\":null,\"nonselection_glyph\":{\"id\":\"a4de34de-c3fc-46d0-b1e6-3f0b891c29d6\",\"type\":\"Line\"},\"selection_glyph\":null,\"view\":{\"id\":\"a9a941f8-a454-40ad-a41d-23ec1bf51174\",\"type\":\"CDSView\"}},\"id\":\"d4c8649b-033d-4f18-9b6a-f2f824d9152d\",\"type\":\"GlyphRenderer\"},{\"attributes\":{},\"id\":\"f669e67e-8f4a-4ca6-b3df-074fdf8c77ab\",\"type\":\"UnionRenderers\"},{\"attributes\":{\"source\":{\"id\":\"d53dbda1-9b68-4d3c-9daa-9f62419c5ef1\",\"type\":\"ColumnDataSource\"}},\"id\":\"a9a941f8-a454-40ad-a41d-23ec1bf51174\",\"type\":\"CDSView\"},{\"attributes\":{},\"id\":\"f3a8a1bb-d4ea-4c75-9a2b-3f69d8160290\",\"type\":\"Selection\"},{\"attributes\":{\"children\":[{\"id\":\"838c9bb4-c6d1-4191-941d-b61a949eca5a\",\"subtype\":\"Figure\",\"type\":\"Plot\"},{\"id\":\"2356e52d-9b36-4df5-b2f6-c539892938aa\",\"subtype\":\"Figure\",\"type\":\"Plot\"}]},\"id\":\"5ccc0840-3c4b-4185-a7bd-acae1c4cd972\",\"type\":\"Column\"},{\"attributes\":{},\"id\":\"b24022ac-cbcb-4938-ac70-b9a844cca8a7\",\"type\":\"UnionRenderers\"},{\"attributes\":{\"line_alpha\":0.1,\"line_color\":\"#1f77b4\",\"line_width\":3,\"x\":{\"field\":\"x\"},\"y\":{\"field\":\"y\"}},\"id\":\"e64511f2-09a9-4dde-bfeb-836ae42e4691\",\"type\":\"Line\"},{\"attributes\":{},\"id\":\"2929c385-2865-4dd7-ad0f-6a946b4dd35e\",\"type\":\"Selection\"},{\"attributes\":{\"data_source\":{\"id\":\"8db45a2c-78e8-4dca-8a7f-610bea614306\",\"type\":\"ColumnDataSource\"},\"glyph\":{\"id\":\"2d5a9c1d-c012-44dd-a5b5-7137ccbe806d\",\"type\":\"Line\"},\"hover_glyph\":null,\"muted_glyph\":null,\"nonselection_glyph\":{\"id\":\"e64511f2-09a9-4dde-bfeb-836ae42e4691\",\"type\":\"Line\"},\"selection_glyph\":null,\"view\":{\"id\":\"30befbc9-ad2e-4e4d-8a4b-9bf0ec5842cd\",\"type\":\"CDSView\"}},\"id\":\"26d549c8-0fe2-4621-be6b-ab6dc6d2eebb\",\"type\":\"GlyphRenderer\"},{\"attributes\":{},\"id\":\"0193f7b3-8be3-47f6-b4fb-11839c716e72\",\"type\":\"UnionRenderers\"},{\"attributes\":{\"source\":{\"id\":\"8db45a2c-78e8-4dca-8a7f-610bea614306\",\"type\":\"ColumnDataSource\"}},\"id\":\"30befbc9-ad2e-4e4d-8a4b-9bf0ec5842cd\",\"type\":\"CDSView\"},{\"attributes\":{},\"id\":\"4cc71cf8-0ebd-4d35-bef2-fd90d4e70e19\",\"type\":\"Selection\"},{\"attributes\":{},\"id\":\"5c1052de-1439-4593-b8ce-34eed9f57f44\",\"type\":\"UnionRenderers\"},{\"attributes\":{},\"id\":\"67c2e5ce-c5d2-4186-aa28-2534f647b363\",\"type\":\"BasicTickFormatter\"},{\"attributes\":{},\"id\":\"eee48d68-b840-4d50-b2c1-b213a312aef6\",\"type\":\"Selection\"},{\"attributes\":{},\"id\":\"db591047-84b0-477a-92d0-6674119b154e\",\"type\":\"UnionRenderers\"},{\"attributes\":{},\"id\":\"cad17d44-d6f1-413f-89e3-c45249fc1fca\",\"type\":\"Selection\"},{\"attributes\":{},\"id\":\"179112db-88c0-446f-a680-3ebadd2a224c\",\"type\":\"BasicTickFormatter\"},{\"attributes\":{},\"id\":\"55f5c0c2-f0f3-4c90-8652-8bf220674dbc\",\"type\":\"UnionRenderers\"},{\"attributes\":{},\"id\":\"984c047f-aeac-4c63-94c6-34d2fb74d71b\",\"type\":\"UnionRenderers\"},{\"attributes\":{},\"id\":\"897abb53-7e3d-4b60-bc75-5adbb26cbba8\",\"type\":\"Selection\"},{\"attributes\":{},\"id\":\"ac28b4f8-b386-4d96-80a3-1e8d36f7cf30\",\"type\":\"Selection\"},{\"attributes\":{},\"id\":\"30059208-a9e4-4df3-9e07-1e74810690f6\",\"type\":\"Selection\"},{\"attributes\":{},\"id\":\"2dd0ec25-aaef-4761-96dc-f7dac9947871\",\"type\":\"UnionRenderers\"},{\"attributes\":{},\"id\":\"10c2bc3e-ee6e-4cb7-acf6-4bafd3f9265b\",\"type\":\"Selection\"},{\"attributes\":{},\"id\":\"32b165c7-869f-4855-a3f4-e31fe3ecc4ba\",\"type\":\"UnionRenderers\"},{\"attributes\":{},\"id\":\"fa6fadfa-60e7-4c78-9082-9df6d4596aba\",\"type\":\"Selection\"},{\"attributes\":{},\"id\":\"6d48dc67-129e-4e55-88bf-01ae34305c17\",\"type\":\"UnionRenderers\"},{\"attributes\":{},\"id\":\"4cd18466-1755-40fb-bf71-c54a749d2c10\",\"type\":\"Selection\"},{\"attributes\":{},\"id\":\"598f9783-6404-4c70-8d95-5a476ce592b0\",\"type\":\"UnionRenderers\"},{\"attributes\":{},\"id\":\"27e7079f-05a1-49cf-b557-cf9b47b9f6b7\",\"type\":\"Selection\"},{\"attributes\":{},\"id\":\"5f86acbc-f516-45f3-8986-b42d4cf91458\",\"type\":\"UnionRenderers\"},{\"attributes\":{},\"id\":\"ac63dd8b-612e-40fb-9c53-6ac6e48a373c\",\"type\":\"Selection\"},{\"attributes\":{},\"id\":\"e564e415-03d7-467c-912a-1dcac43bd906\",\"type\":\"UnionRenderers\"},{\"attributes\":{},\"id\":\"a0c5c6e8-9f0f-439e-9dd6-8f5715bd779d\",\"type\":\"Selection\"},{\"attributes\":{},\"id\":\"9ca2fd55-f6ac-4ae5-99d0-775a7119de09\",\"type\":\"UnionRenderers\"},{\"attributes\":{},\"id\":\"aecae3a4-b1bd-4b35-ae5b-80c6388fc209\",\"type\":\"Selection\"},{\"attributes\":{},\"id\":\"9ce65b16-5ddd-4da4-9757-4c7f7004518a\",\"type\":\"UnionRenderers\"},{\"attributes\":{},\"id\":\"a623eec4-cbf6-48d8-943d-346a9b7c44cf\",\"type\":\"Selection\"},{\"attributes\":{},\"id\":\"27b6de7f-95a8-48b9-93ba-2f91fff2a1d7\",\"type\":\"UnionRenderers\"},{\"attributes\":{},\"id\":\"24ad36ab-c0e3-400c-864a-263840451563\",\"type\":\"Selection\"},{\"attributes\":{},\"id\":\"aee4ba56-328a-47c2-923c-cdba890d331a\",\"type\":\"UnionRenderers\"},{\"attributes\":{},\"id\":\"7af832b5-6c77-43e1-a5da-b930e14e19c0\",\"type\":\"Selection\"},{\"attributes\":{},\"id\":\"426d8fc8-f660-427e-ab81-52069081639f\",\"type\":\"UnionRenderers\"},{\"attributes\":{},\"id\":\"8a83dc29-10fc-4176-ac13-0555e60dfe1d\",\"type\":\"Selection\"},{\"attributes\":{},\"id\":\"c22d08d7-0a73-4cb2-8c97-a9f91ce10f27\",\"type\":\"UnionRenderers\"},{\"attributes\":{},\"id\":\"ca052859-e45e-4aaa-8cec-6731e531bd05\",\"type\":\"Selection\"},{\"attributes\":{},\"id\":\"837ba63f-d809-4be0-a066-b97806e9a3da\",\"type\":\"UnionRenderers\"},{\"attributes\":{},\"id\":\"5f378171-6235-49c8-925c-aaa28ffc1ea0\",\"type\":\"Selection\"},{\"attributes\":{},\"id\":\"0de86b04-412b-46dc-94bb-02199835d75f\",\"type\":\"UnionRenderers\"},{\"attributes\":{},\"id\":\"7c51ff14-881f-40f1-b1b8-e340e85556c3\",\"type\":\"Selection\"},{\"attributes\":{},\"id\":\"90766f45-69b7-40e6-92c1-ad745547a64e\",\"type\":\"UnionRenderers\"},{\"attributes\":{},\"id\":\"e2cb5741-02df-4a9e-a175-4e63f4bc2723\",\"type\":\"Selection\"},{\"attributes\":{},\"id\":\"ffd1b9c9-f104-469d-b601-baf739873a00\",\"type\":\"UnionRenderers\"},{\"attributes\":{},\"id\":\"fbe5acac-1ac6-4332-9e35-4440c907dc60\",\"type\":\"Selection\"},{\"attributes\":{},\"id\":\"3ccc7fa0-020a-4f34-a76e-5342835e5eb5\",\"type\":\"UnionRenderers\"},{\"attributes\":{},\"id\":\"bd7721a2-bc65-4489-9937-a236654ff58e\",\"type\":\"Selection\"},{\"attributes\":{},\"id\":\"bf46fc11-5b85-404f-bd93-4a334f0b819e\",\"type\":\"UnionRenderers\"},{\"attributes\":{},\"id\":\"5c5c34c0-389d-4673-9500-5aca0ccc099c\",\"type\":\"Selection\"},{\"attributes\":{},\"id\":\"bdcffe2c-0fd8-410d-801b-b060f2a36cf1\",\"type\":\"UnionRenderers\"},{\"attributes\":{\"data_source\":{\"id\":\"7f4be510-a507-483b-9f68-c7b8709e8b39\",\"type\":\"ColumnDataSource\"},\"glyph\":{\"id\":\"b761ee26-893b-4643-b2ff-ee5f4f90a734\",\"type\":\"Line\"},\"hover_glyph\":null,\"muted_glyph\":null,\"nonselection_glyph\":{\"id\":\"ba2e30b8-fa08-4a5f-86c5-6d878d5ba043\",\"type\":\"Line\"},\"selection_glyph\":null,\"view\":{\"id\":\"5b5b3a1c-8b93-4b74-89a1-5805d72cce2f\",\"type\":\"CDSView\"}},\"id\":\"edfef204-e0b0-4b1c-a321-98dd62fcf6e4\",\"type\":\"GlyphRenderer\"},{\"attributes\":{\"line_alpha\":0.1,\"line_color\":\"#1f77b4\",\"line_width\":5,\"x\":{\"field\":\"x\"},\"y\":{\"field\":\"y\"}},\"id\":\"ba2e30b8-fa08-4a5f-86c5-6d878d5ba043\",\"type\":\"Line\"},{\"attributes\":{\"source\":{\"id\":\"be20dba0-ad25-4eca-9d39-66991bfb9836\",\"type\":\"ColumnDataSource\"}},\"id\":\"ec6b6e19-edcf-4e2b-9126-52178485d818\",\"type\":\"CDSView\"},{\"attributes\":{\"overlay\":{\"id\":\"03a18b47-bdb5-4d60-811a-21a9832338bb\",\"type\":\"BoxAnnotation\"}},\"id\":\"86e68cf0-02a6-4cb9-b1ca-792d211cbc7c\",\"type\":\"BoxZoomTool\"},{\"attributes\":{\"source\":{\"id\":\"7f4be510-a507-483b-9f68-c7b8709e8b39\",\"type\":\"ColumnDataSource\"}},\"id\":\"5b5b3a1c-8b93-4b74-89a1-5805d72cce2f\",\"type\":\"CDSView\"},{\"attributes\":{},\"id\":\"5bd20762-ae65-47e2-9488-cbafaddf6ef7\",\"type\":\"SaveTool\"},{\"attributes\":{\"callback\":null,\"data\":{\"x\":[0,0],\"y\":[0,0]},\"selected\":{\"id\":\"7c51ff14-881f-40f1-b1b8-e340e85556c3\",\"type\":\"Selection\"},\"selection_policy\":{\"id\":\"90766f45-69b7-40e6-92c1-ad745547a64e\",\"type\":\"UnionRenderers\"}},\"id\":\"110d3f36-b4f7-483e-b41e-8162d21fe6a6\",\"type\":\"ColumnDataSource\"},{\"attributes\":{},\"id\":\"0778b5f6-7128-4cdb-85bc-887264d1a127\",\"type\":\"ResetTool\"},{\"attributes\":{\"line_alpha\":0.4,\"line_width\":5,\"x\":{\"field\":\"x\"},\"y\":{\"field\":\"y\"}},\"id\":\"15698ba2-cfa7-4c86-ad80-330e6ee4f573\",\"type\":\"Line\"},{\"attributes\":{},\"id\":\"f02c6fa2-d829-436b-a3b8-fb31a6d8768a\",\"type\":\"HelpTool\"},{\"attributes\":{\"bottom_units\":\"screen\",\"fill_alpha\":{\"value\":0.5},\"fill_color\":{\"value\":\"lightgrey\"},\"left_units\":\"screen\",\"level\":\"overlay\",\"line_alpha\":{\"value\":1.0},\"line_color\":{\"value\":\"black\"},\"line_dash\":[4,4],\"line_width\":{\"value\":2},\"plot\":null,\"render_mode\":\"css\",\"right_units\":\"screen\",\"top_units\":\"screen\"},\"id\":\"03a18b47-bdb5-4d60-811a-21a9832338bb\",\"type\":\"BoxAnnotation\"},{\"attributes\":{\"line_alpha\":0.1,\"line_color\":\"#1f77b4\",\"line_width\":5,\"x\":{\"field\":\"x\"},\"y\":{\"field\":\"y\"}},\"id\":\"34f490bc-23cd-49c5-9d3b-38f366d1c641\",\"type\":\"Line\"},{\"attributes\":{\"data_source\":{\"id\":\"b2b8e409-d009-49bd-b560-c28d65933659\",\"type\":\"ColumnDataSource\"},\"glyph\":{\"id\":\"506526a2-28fe-485f-8b85-f3a7896a330d\",\"type\":\"Line\"},\"hover_glyph\":null,\"muted_glyph\":null,\"nonselection_glyph\":{\"id\":\"ad640861-f65b-4b2b-812b-cfaf0aece49c\",\"type\":\"Line\"},\"selection_glyph\":null,\"view\":{\"id\":\"5433d8e1-77c7-4280-8b16-940e2f135a5e\",\"type\":\"CDSView\"}},\"id\":\"c6f2fc39-ebf9-4cb7-aa51-b23688eab5e9\",\"type\":\"GlyphRenderer\"},{\"attributes\":{\"data_source\":{\"id\":\"110d3f36-b4f7-483e-b41e-8162d21fe6a6\",\"type\":\"ColumnDataSource\"},\"glyph\":{\"id\":\"15698ba2-cfa7-4c86-ad80-330e6ee4f573\",\"type\":\"Line\"},\"hover_glyph\":null,\"muted_glyph\":null,\"nonselection_glyph\":{\"id\":\"34f490bc-23cd-49c5-9d3b-38f366d1c641\",\"type\":\"Line\"},\"selection_glyph\":null,\"view\":{\"id\":\"443d3e53-27f8-4018-9e9a-edd4dab0f006\",\"type\":\"CDSView\"}},\"id\":\"726af5a8-3ccb-4823-9ee6-4b106d80eeef\",\"type\":\"GlyphRenderer\"},{\"attributes\":{\"line_alpha\":0.4,\"line_color\":\"orange\",\"line_width\":5,\"x\":{\"field\":\"x\"},\"y\":{\"field\":\"y\"}},\"id\":\"506526a2-28fe-485f-8b85-f3a7896a330d\",\"type\":\"Line\"},{\"attributes\":{\"source\":{\"id\":\"110d3f36-b4f7-483e-b41e-8162d21fe6a6\",\"type\":\"ColumnDataSource\"}},\"id\":\"443d3e53-27f8-4018-9e9a-edd4dab0f006\",\"type\":\"CDSView\"},{\"attributes\":{\"line_alpha\":0.1,\"line_color\":\"#1f77b4\",\"line_width\":5,\"x\":{\"field\":\"x\"},\"y\":{\"field\":\"y\"}},\"id\":\"ad640861-f65b-4b2b-812b-cfaf0aece49c\",\"type\":\"Line\"},{\"attributes\":{\"callback\":null,\"data\":{\"x\":[0,0],\"y\":[0,0]},\"selected\":{\"id\":\"e2cb5741-02df-4a9e-a175-4e63f4bc2723\",\"type\":\"Selection\"},\"selection_policy\":{\"id\":\"ffd1b9c9-f104-469d-b601-baf739873a00\",\"type\":\"UnionRenderers\"}},\"id\":\"0875345f-6547-4d6c-bab9-c9a9b616da8c\",\"type\":\"ColumnDataSource\"},{\"attributes\":{\"source\":{\"id\":\"b2b8e409-d009-49bd-b560-c28d65933659\",\"type\":\"ColumnDataSource\"}},\"id\":\"5433d8e1-77c7-4280-8b16-940e2f135a5e\",\"type\":\"CDSView\"},{\"attributes\":{\"line_alpha\":0.4,\"line_color\":\"orange\",\"line_width\":5,\"x\":{\"field\":\"x\"},\"y\":{\"field\":\"y\"}},\"id\":\"8a0b49e5-eec0-4455-81c9-ae33c08bbadf\",\"type\":\"Line\"},{\"attributes\":{\"callback\":null,\"data\":{\"x\":[-5,-5],\"y\":[-90,-75]},\"selected\":{\"id\":\"10c2bc3e-ee6e-4cb7-acf6-4bafd3f9265b\",\"type\":\"Selection\"},\"selection_policy\":{\"id\":\"32b165c7-869f-4855-a3f4-e31fe3ecc4ba\",\"type\":\"UnionRenderers\"}},\"id\":\"762d6cf4-8d29-4288-99fa-3d7084d62996\",\"type\":\"ColumnDataSource\"},{\"attributes\":{\"line_alpha\":0.1,\"line_color\":\"#1f77b4\",\"line_width\":5,\"x\":{\"field\":\"x\"},\"y\":{\"field\":\"y\"}},\"id\":\"1f81f6f3-9bd9-4823-b6b7-b999f5bc3115\",\"type\":\"Line\"},{\"attributes\":{\"data_source\":{\"id\":\"0875345f-6547-4d6c-bab9-c9a9b616da8c\",\"type\":\"ColumnDataSource\"},\"glyph\":{\"id\":\"8a0b49e5-eec0-4455-81c9-ae33c08bbadf\",\"type\":\"Line\"},\"hover_glyph\":null,\"muted_glyph\":null,\"nonselection_glyph\":{\"id\":\"1f81f6f3-9bd9-4823-b6b7-b999f5bc3115\",\"type\":\"Line\"},\"selection_glyph\":null,\"view\":{\"id\":\"fd9ee3ff-a000-4529-8f95-7afbe95eb6b0\",\"type\":\"CDSView\"}},\"id\":\"9dd06eea-1bfe-40ee-af50-ff2568401260\",\"type\":\"GlyphRenderer\"},{\"attributes\":{\"line_alpha\":0.6,\"line_color\":\"green\",\"line_width\":5,\"x\":{\"field\":\"x\"},\"y\":{\"field\":\"y\"}},\"id\":\"f957c452-4d3f-4a8e-89ae-bc6750da075c\",\"type\":\"Line\"},{\"attributes\":{\"line_alpha\":0.1,\"line_color\":\"#1f77b4\",\"line_width\":5,\"x\":{\"field\":\"x\"},\"y\":{\"field\":\"y\"}},\"id\":\"3e0a792b-f51d-42ba-a214-2d5d6c7e6ed9\",\"type\":\"Line\"},{\"attributes\":{\"source\":{\"id\":\"0875345f-6547-4d6c-bab9-c9a9b616da8c\",\"type\":\"ColumnDataSource\"}},\"id\":\"fd9ee3ff-a000-4529-8f95-7afbe95eb6b0\",\"type\":\"CDSView\"},{\"attributes\":{\"data_source\":{\"id\":\"762d6cf4-8d29-4288-99fa-3d7084d62996\",\"type\":\"ColumnDataSource\"},\"glyph\":{\"id\":\"f957c452-4d3f-4a8e-89ae-bc6750da075c\",\"type\":\"Line\"},\"hover_glyph\":null,\"muted_glyph\":null,\"nonselection_glyph\":{\"id\":\"3e0a792b-f51d-42ba-a214-2d5d6c7e6ed9\",\"type\":\"Line\"},\"selection_glyph\":null,\"view\":{\"id\":\"287c662f-0ef0-4ff5-9111-06f1af631c83\",\"type\":\"CDSView\"}},\"id\":\"2ffd9289-c09f-4fb0-9299-1f3fbb1ded69\",\"type\":\"GlyphRenderer\"},{\"attributes\":{\"callback\":null,\"data\":{\"x\":[0,0],\"y\":[0,0]},\"selected\":{\"id\":\"fbe5acac-1ac6-4332-9e35-4440c907dc60\",\"type\":\"Selection\"},\"selection_policy\":{\"id\":\"3ccc7fa0-020a-4f34-a76e-5342835e5eb5\",\"type\":\"UnionRenderers\"}},\"id\":\"7fa9c36c-9375-4ba6-b9b7-3421c8e97016\",\"type\":\"ColumnDataSource\"},{\"attributes\":{\"source\":{\"id\":\"762d6cf4-8d29-4288-99fa-3d7084d62996\",\"type\":\"ColumnDataSource\"}},\"id\":\"287c662f-0ef0-4ff5-9111-06f1af631c83\",\"type\":\"CDSView\"},{\"attributes\":{\"line_alpha\":0.6,\"line_color\":\"green\",\"line_width\":5,\"x\":{\"field\":\"x\"},\"y\":{\"field\":\"y\"}},\"id\":\"04c0b59b-9487-4972-9f13-72e131acae7b\",\"type\":\"Line\"},{\"attributes\":{\"callback\":null,\"data\":{\"x\":[-4,-4],\"y\":[-64,0]},\"selected\":{\"id\":\"fa6fadfa-60e7-4c78-9082-9df6d4596aba\",\"type\":\"Selection\"},\"selection_policy\":{\"id\":\"6d48dc67-129e-4e55-88bf-01ae34305c17\",\"type\":\"UnionRenderers\"}},\"id\":\"ca972340-7022-408a-a636-89e91beef837\",\"type\":\"ColumnDataSource\"},{\"attributes\":{\"line_alpha\":0.1,\"line_color\":\"#1f77b4\",\"line_width\":5,\"x\":{\"field\":\"x\"},\"y\":{\"field\":\"y\"}},\"id\":\"335fdbff-4681-4108-8be0-56a55f0617df\",\"type\":\"Line\"},{\"attributes\":{\"data_source\":{\"id\":\"7fa9c36c-9375-4ba6-b9b7-3421c8e97016\",\"type\":\"ColumnDataSource\"},\"glyph\":{\"id\":\"04c0b59b-9487-4972-9f13-72e131acae7b\",\"type\":\"Line\"},\"hover_glyph\":null,\"muted_glyph\":null,\"nonselection_glyph\":{\"id\":\"335fdbff-4681-4108-8be0-56a55f0617df\",\"type\":\"Line\"},\"selection_glyph\":null,\"view\":{\"id\":\"820e717f-d66a-4cce-a282-00a1b8ada13b\",\"type\":\"CDSView\"}},\"id\":\"70fa5aa7-5929-4d3f-bffe-3b1dd8a9b1df\",\"type\":\"GlyphRenderer\"},{\"attributes\":{\"line_alpha\":0.4,\"line_width\":5,\"x\":{\"field\":\"x\"},\"y\":{\"field\":\"y\"}},\"id\":\"e38d5c39-4ec0-47f5-8394-33ce2eb4bc8e\",\"type\":\"Line\"},{\"attributes\":{\"line_alpha\":0.1,\"line_color\":\"#1f77b4\",\"line_width\":5,\"x\":{\"field\":\"x\"},\"y\":{\"field\":\"y\"}},\"id\":\"04f5c199-a686-4f4a-b1db-b5e842133f8b\",\"type\":\"Line\"},{\"attributes\":{\"source\":{\"id\":\"7fa9c36c-9375-4ba6-b9b7-3421c8e97016\",\"type\":\"ColumnDataSource\"}},\"id\":\"820e717f-d66a-4cce-a282-00a1b8ada13b\",\"type\":\"CDSView\"},{\"attributes\":{\"data_source\":{\"id\":\"ca972340-7022-408a-a636-89e91beef837\",\"type\":\"ColumnDataSource\"},\"glyph\":{\"id\":\"e38d5c39-4ec0-47f5-8394-33ce2eb4bc8e\",\"type\":\"Line\"},\"hover_glyph\":null,\"muted_glyph\":null,\"nonselection_glyph\":{\"id\":\"04f5c199-a686-4f4a-b1db-b5e842133f8b\",\"type\":\"Line\"},\"selection_glyph\":null,\"view\":{\"id\":\"d229212f-ea2e-4aac-821f-3f39ecf8659a\",\"type\":\"CDSView\"}},\"id\":\"a23da218-05ae-488a-8252-b370d5a4ebab\",\"type\":\"GlyphRenderer\"},{\"attributes\":{\"callback\":null,\"data\":{\"x\":[1,1],\"y\":[1,0]},\"selected\":{\"id\":\"bd7721a2-bc65-4489-9937-a236654ff58e\",\"type\":\"Selection\"},\"selection_policy\":{\"id\":\"bf46fc11-5b85-404f-bd93-4a334f0b819e\",\"type\":\"UnionRenderers\"}},\"id\":\"3a0a7d87-811f-4a86-b831-1cb56cc4547d\",\"type\":\"ColumnDataSource\"},{\"attributes\":{\"source\":{\"id\":\"ca972340-7022-408a-a636-89e91beef837\",\"type\":\"ColumnDataSource\"}},\"id\":\"d229212f-ea2e-4aac-821f-3f39ecf8659a\",\"type\":\"CDSView\"},{\"attributes\":{\"line_alpha\":0.4,\"line_width\":5,\"x\":{\"field\":\"x\"},\"y\":{\"field\":\"y\"}},\"id\":\"1c6d4c8b-d38c-4da9-80d6-558d7176dd13\",\"type\":\"Line\"},{\"attributes\":{\"callback\":null,\"data\":{\"x\":[-4,-4],\"y\":[-32,-64]},\"selected\":{\"id\":\"4cd18466-1755-40fb-bf71-c54a749d2c10\",\"type\":\"Selection\"},\"selection_policy\":{\"id\":\"598f9783-6404-4c70-8d95-5a476ce592b0\",\"type\":\"UnionRenderers\"}},\"id\":\"08fd00bc-7d45-4f3e-bbdf-ee56f7fcf149\",\"type\":\"ColumnDataSource\"},{\"attributes\":{\"line_alpha\":0.1,\"line_color\":\"#1f77b4\",\"line_width\":5,\"x\":{\"field\":\"x\"},\"y\":{\"field\":\"y\"}},\"id\":\"871f9aec-4c7a-4515-bb23-e7b69921b7a1\",\"type\":\"Line\"},{\"attributes\":{\"data_source\":{\"id\":\"3a0a7d87-811f-4a86-b831-1cb56cc4547d\",\"type\":\"ColumnDataSource\"},\"glyph\":{\"id\":\"1c6d4c8b-d38c-4da9-80d6-558d7176dd13\",\"type\":\"Line\"},\"hover_glyph\":null,\"muted_glyph\":null,\"nonselection_glyph\":{\"id\":\"871f9aec-4c7a-4515-bb23-e7b69921b7a1\",\"type\":\"Line\"},\"selection_glyph\":null,\"view\":{\"id\":\"aa77ff52-0128-44ba-af67-8a605b3cfb90\",\"type\":\"CDSView\"}},\"id\":\"9f383a66-c7bb-4ba9-8812-7feddcb322fe\",\"type\":\"GlyphRenderer\"},{\"attributes\":{\"line_alpha\":0.4,\"line_color\":\"orange\",\"line_width\":5,\"x\":{\"field\":\"x\"},\"y\":{\"field\":\"y\"}},\"id\":\"4bde615b-fcf9-4e0c-978a-217e72c5c75a\",\"type\":\"Line\"},{\"attributes\":{\"line_alpha\":0.1,\"line_color\":\"#1f77b4\",\"line_width\":5,\"x\":{\"field\":\"x\"},\"y\":{\"field\":\"y\"}},\"id\":\"c8c6aedc-76b2-4b34-a837-241b0372e7f5\",\"type\":\"Line\"},{\"attributes\":{\"source\":{\"id\":\"3a0a7d87-811f-4a86-b831-1cb56cc4547d\",\"type\":\"ColumnDataSource\"}},\"id\":\"aa77ff52-0128-44ba-af67-8a605b3cfb90\",\"type\":\"CDSView\"},{\"attributes\":{\"data_source\":{\"id\":\"08fd00bc-7d45-4f3e-bbdf-ee56f7fcf149\",\"type\":\"ColumnDataSource\"},\"glyph\":{\"id\":\"4bde615b-fcf9-4e0c-978a-217e72c5c75a\",\"type\":\"Line\"},\"hover_glyph\":null,\"muted_glyph\":null,\"nonselection_glyph\":{\"id\":\"c8c6aedc-76b2-4b34-a837-241b0372e7f5\",\"type\":\"Line\"},\"selection_glyph\":null,\"view\":{\"id\":\"3ba34cee-bbbd-44cd-a342-a010fdd71263\",\"type\":\"CDSView\"}},\"id\":\"4598b918-11dc-4447-b7f8-79aa824b5ad6\",\"type\":\"GlyphRenderer\"},{\"attributes\":{\"callback\":null,\"data\":{\"x\":[1,1],\"y\":[3,1]},\"selected\":{\"id\":\"5c5c34c0-389d-4673-9500-5aca0ccc099c\",\"type\":\"Selection\"},\"selection_policy\":{\"id\":\"bdcffe2c-0fd8-410d-801b-b060f2a36cf1\",\"type\":\"UnionRenderers\"}},\"id\":\"7069e585-f968-4cba-bd64-78262a66f005\",\"type\":\"ColumnDataSource\"},{\"attributes\":{\"source\":{\"id\":\"08fd00bc-7d45-4f3e-bbdf-ee56f7fcf149\",\"type\":\"ColumnDataSource\"}},\"id\":\"3ba34cee-bbbd-44cd-a342-a010fdd71263\",\"type\":\"CDSView\"},{\"attributes\":{\"line_alpha\":0.4,\"line_color\":\"orange\",\"line_width\":5,\"x\":{\"field\":\"x\"},\"y\":{\"field\":\"y\"}},\"id\":\"ee271112-8c6a-46b2-8296-13ab97758b33\",\"type\":\"Line\"},{\"attributes\":{\"callback\":null,\"data\":{\"x\":[-4,-4],\"y\":[-44,-32]},\"selected\":{\"id\":\"27e7079f-05a1-49cf-b557-cf9b47b9f6b7\",\"type\":\"Selection\"},\"selection_policy\":{\"id\":\"5f86acbc-f516-45f3-8986-b42d4cf91458\",\"type\":\"UnionRenderers\"}},\"id\":\"e9bb3e8a-d00c-438c-8858-e46f33714128\",\"type\":\"ColumnDataSource\"},{\"attributes\":{\"line_alpha\":0.1,\"line_color\":\"#1f77b4\",\"line_width\":5,\"x\":{\"field\":\"x\"},\"y\":{\"field\":\"y\"}},\"id\":\"5993deef-5c71-4868-9692-3cd327a51aa4\",\"type\":\"Line\"},{\"attributes\":{\"data_source\":{\"id\":\"7069e585-f968-4cba-bd64-78262a66f005\",\"type\":\"ColumnDataSource\"},\"glyph\":{\"id\":\"ee271112-8c6a-46b2-8296-13ab97758b33\",\"type\":\"Line\"},\"hover_glyph\":null,\"muted_glyph\":null,\"nonselection_glyph\":{\"id\":\"5993deef-5c71-4868-9692-3cd327a51aa4\",\"type\":\"Line\"},\"selection_glyph\":null,\"view\":{\"id\":\"8e9d14e4-f204-4a9a-bb09-b2c9d99e8650\",\"type\":\"CDSView\"}},\"id\":\"9d9d0b1b-bb51-4a96-822a-b74d92eebd1a\",\"type\":\"GlyphRenderer\"},{\"attributes\":{\"line_alpha\":0.6,\"line_color\":\"green\",\"line_width\":5,\"x\":{\"field\":\"x\"},\"y\":{\"field\":\"y\"}},\"id\":\"d65d5bdf-b093-4bc6-8894-2eb7b3416517\",\"type\":\"Line\"},{\"attributes\":{\"line_alpha\":0.1,\"line_color\":\"#1f77b4\",\"line_width\":5,\"x\":{\"field\":\"x\"},\"y\":{\"field\":\"y\"}},\"id\":\"7a4901b4-369e-41f9-b56e-a98016259910\",\"type\":\"Line\"},{\"attributes\":{\"source\":{\"id\":\"7069e585-f968-4cba-bd64-78262a66f005\",\"type\":\"ColumnDataSource\"}},\"id\":\"8e9d14e4-f204-4a9a-bb09-b2c9d99e8650\",\"type\":\"CDSView\"},{\"attributes\":{\"data_source\":{\"id\":\"e9bb3e8a-d00c-438c-8858-e46f33714128\",\"type\":\"ColumnDataSource\"},\"glyph\":{\"id\":\"d65d5bdf-b093-4bc6-8894-2eb7b3416517\",\"type\":\"Line\"},\"hover_glyph\":null,\"muted_glyph\":null,\"nonselection_glyph\":{\"id\":\"7a4901b4-369e-41f9-b56e-a98016259910\",\"type\":\"Line\"},\"selection_glyph\":null,\"view\":{\"id\":\"2cdbf68d-ba8c-4183-b79d-76bb69c70e9d\",\"type\":\"CDSView\"}},\"id\":\"343b4e22-dac7-435e-b785-1450a4f91e0c\",\"type\":\"GlyphRenderer\"},{\"attributes\":{\"callback\":null,\"data\":{\"x\":[1,1],\"y\":[6,3]},\"selected\":{\"id\":\"ac28b4f8-b386-4d96-80a3-1e8d36f7cf30\",\"type\":\"Selection\"},\"selection_policy\":{\"id\":\"e2fc18b5-9807-4f8c-a0dd-7de9d41a7b25\",\"type\":\"UnionRenderers\"}},\"id\":\"451dbbae-952f-4cac-98e2-b461c9737fb2\",\"type\":\"ColumnDataSource\"},{\"attributes\":{\"source\":{\"id\":\"e9bb3e8a-d00c-438c-8858-e46f33714128\",\"type\":\"ColumnDataSource\"}},\"id\":\"2cdbf68d-ba8c-4183-b79d-76bb69c70e9d\",\"type\":\"CDSView\"},{\"attributes\":{\"line_alpha\":0.6,\"line_color\":\"green\",\"line_width\":5,\"x\":{\"field\":\"x\"},\"y\":{\"field\":\"y\"}},\"id\":\"ccaf4bfa-1684-45f2-b1c7-050e50728147\",\"type\":\"Line\"},{\"attributes\":{\"callback\":null,\"data\":{\"x\":[-3,-3],\"y\":[-27,0]},\"selected\":{\"id\":\"ac63dd8b-612e-40fb-9c53-6ac6e48a373c\",\"type\":\"Selection\"},\"selection_policy\":{\"id\":\"e564e415-03d7-467c-912a-1dcac43bd906\",\"type\":\"UnionRenderers\"}},\"id\":\"50e84f57-4b5d-4bc3-868b-7341e10d2c8d\",\"type\":\"ColumnDataSource\"},{\"attributes\":{\"line_alpha\":0.1,\"line_color\":\"#1f77b4\",\"line_width\":5,\"x\":{\"field\":\"x\"},\"y\":{\"field\":\"y\"}},\"id\":\"0bad73f4-97a7-490d-ae21-e1b30c0d95f1\",\"type\":\"Line\"},{\"attributes\":{\"data_source\":{\"id\":\"451dbbae-952f-4cac-98e2-b461c9737fb2\",\"type\":\"ColumnDataSource\"},\"glyph\":{\"id\":\"ccaf4bfa-1684-45f2-b1c7-050e50728147\",\"type\":\"Line\"},\"hover_glyph\":null,\"muted_glyph\":null,\"nonselection_glyph\":{\"id\":\"0bad73f4-97a7-490d-ae21-e1b30c0d95f1\",\"type\":\"Line\"},\"selection_glyph\":null,\"view\":{\"id\":\"240effba-4253-454f-9f6f-feee40e08f73\",\"type\":\"CDSView\"}},\"id\":\"81930f0d-a87e-4c88-a338-8946f6b7131e\",\"type\":\"GlyphRenderer\"},{\"attributes\":{\"line_alpha\":0.4,\"line_width\":5,\"x\":{\"field\":\"x\"},\"y\":{\"field\":\"y\"}},\"id\":\"1727191d-3e44-4b86-9efc-e05a73f7ef86\",\"type\":\"Line\"},{\"attributes\":{\"line_alpha\":0.1,\"line_color\":\"#1f77b4\",\"line_width\":5,\"x\":{\"field\":\"x\"},\"y\":{\"field\":\"y\"}},\"id\":\"f25b8af6-dec3-42ed-a8db-002b948a2975\",\"type\":\"Line\"},{\"attributes\":{\"source\":{\"id\":\"451dbbae-952f-4cac-98e2-b461c9737fb2\",\"type\":\"ColumnDataSource\"}},\"id\":\"240effba-4253-454f-9f6f-feee40e08f73\",\"type\":\"CDSView\"},{\"attributes\":{\"data_source\":{\"id\":\"50e84f57-4b5d-4bc3-868b-7341e10d2c8d\",\"type\":\"ColumnDataSource\"},\"glyph\":{\"id\":\"1727191d-3e44-4b86-9efc-e05a73f7ef86\",\"type\":\"Line\"},\"hover_glyph\":null,\"muted_glyph\":null,\"nonselection_glyph\":{\"id\":\"f25b8af6-dec3-42ed-a8db-002b948a2975\",\"type\":\"Line\"},\"selection_glyph\":null,\"view\":{\"id\":\"2970e944-45ac-45e5-8133-7e5f968acebd\",\"type\":\"CDSView\"}},\"id\":\"9b7f4f3b-409a-47d7-919d-d517e204b977\",\"type\":\"GlyphRenderer\"},{\"attributes\":{\"callback\":null,\"data\":{\"x\":[2,2],\"y\":[8,0]},\"selected\":{\"id\":\"058ec580-f536-4d43-8d8c-8ea5393a2272\",\"type\":\"Selection\"},\"selection_policy\":{\"id\":\"5efc177a-4bdf-4c19-b0be-192e75e48872\",\"type\":\"UnionRenderers\"}},\"id\":\"a94ef665-8a3c-4bee-979d-8eb684a48e44\",\"type\":\"ColumnDataSource\"},{\"attributes\":{\"source\":{\"id\":\"50e84f57-4b5d-4bc3-868b-7341e10d2c8d\",\"type\":\"ColumnDataSource\"}},\"id\":\"2970e944-45ac-45e5-8133-7e5f968acebd\",\"type\":\"CDSView\"},{\"attributes\":{\"line_alpha\":0.4,\"line_width\":5,\"x\":{\"field\":\"x\"},\"y\":{\"field\":\"y\"}},\"id\":\"38efa811-11b2-4985-8a91-65c18ffe3a0b\",\"type\":\"Line\"},{\"attributes\":{\"callback\":null,\"data\":{\"x\":[-3,-3],\"y\":[-9,-27]},\"selected\":{\"id\":\"a0c5c6e8-9f0f-439e-9dd6-8f5715bd779d\",\"type\":\"Selection\"},\"selection_policy\":{\"id\":\"9ca2fd55-f6ac-4ae5-99d0-775a7119de09\",\"type\":\"UnionRenderers\"}},\"id\":\"90ced3a8-ab5e-408c-8e31-3d3cb349cb13\",\"type\":\"ColumnDataSource\"},{\"attributes\":{\"line_alpha\":0.1,\"line_color\":\"#1f77b4\",\"line_width\":5,\"x\":{\"field\":\"x\"},\"y\":{\"field\":\"y\"}},\"id\":\"4e226e7f-8c74-44e7-a124-29127b269032\",\"type\":\"Line\"},{\"attributes\":{\"data_source\":{\"id\":\"a94ef665-8a3c-4bee-979d-8eb684a48e44\",\"type\":\"ColumnDataSource\"},\"glyph\":{\"id\":\"38efa811-11b2-4985-8a91-65c18ffe3a0b\",\"type\":\"Line\"},\"hover_glyph\":null,\"muted_glyph\":null,\"nonselection_glyph\":{\"id\":\"4e226e7f-8c74-44e7-a124-29127b269032\",\"type\":\"Line\"},\"selection_glyph\":null,\"view\":{\"id\":\"9fc1565b-1a72-4970-9c6e-6445b6a656ad\",\"type\":\"CDSView\"}},\"id\":\"03a11df9-4feb-4581-9c0b-584fc217eec4\",\"type\":\"GlyphRenderer\"},{\"attributes\":{\"line_alpha\":0.4,\"line_color\":\"orange\",\"line_width\":5,\"x\":{\"field\":\"x\"},\"y\":{\"field\":\"y\"}},\"id\":\"f018aaa0-ac8d-41de-8c3d-a5433c2b4103\",\"type\":\"Line\"},{\"attributes\":{\"line_alpha\":0.1,\"line_color\":\"#1f77b4\",\"line_width\":5,\"x\":{\"field\":\"x\"},\"y\":{\"field\":\"y\"}},\"id\":\"4ce60f00-dc30-4035-979b-cd0e46812af3\",\"type\":\"Line\"},{\"attributes\":{\"source\":{\"id\":\"a94ef665-8a3c-4bee-979d-8eb684a48e44\",\"type\":\"ColumnDataSource\"}},\"id\":\"9fc1565b-1a72-4970-9c6e-6445b6a656ad\",\"type\":\"CDSView\"},{\"attributes\":{\"data_source\":{\"id\":\"90ced3a8-ab5e-408c-8e31-3d3cb349cb13\",\"type\":\"ColumnDataSource\"},\"glyph\":{\"id\":\"f018aaa0-ac8d-41de-8c3d-a5433c2b4103\",\"type\":\"Line\"},\"hover_glyph\":null,\"muted_glyph\":null,\"nonselection_glyph\":{\"id\":\"4ce60f00-dc30-4035-979b-cd0e46812af3\",\"type\":\"Line\"},\"selection_glyph\":null,\"view\":{\"id\":\"16ab9c62-8e24-42a5-8e67-ccb55e425580\",\"type\":\"CDSView\"}},\"id\":\"c50e938e-f994-4580-afc0-f12dde1c817f\",\"type\":\"GlyphRenderer\"},{\"attributes\":{\"callback\":null,\"data\":{\"x\":[2,2],\"y\":[16,8]},\"selected\":{\"id\":\"a7bb0af6-37f7-4e04-865a-90fc333811b2\",\"type\":\"Selection\"},\"selection_policy\":{\"id\":\"cb137c94-12bd-43a2-a0d8-e85f6c5cb3b5\",\"type\":\"UnionRenderers\"}},\"id\":\"2e2a13f7-f03d-421f-9ef3-114c9357df47\",\"type\":\"ColumnDataSource\"},{\"attributes\":{\"source\":{\"id\":\"90ced3a8-ab5e-408c-8e31-3d3cb349cb13\",\"type\":\"ColumnDataSource\"}},\"id\":\"16ab9c62-8e24-42a5-8e67-ccb55e425580\",\"type\":\"CDSView\"},{\"attributes\":{\"line_alpha\":0.4,\"line_color\":\"orange\",\"line_width\":5,\"x\":{\"field\":\"x\"},\"y\":{\"field\":\"y\"}},\"id\":\"273bde21-8c02-4f61-aa08-d5ce54ff97a0\",\"type\":\"Line\"},{\"attributes\":{\"callback\":null,\"data\":{\"x\":[-3,-3],\"y\":[-18,-9]},\"selected\":{\"id\":\"aecae3a4-b1bd-4b35-ae5b-80c6388fc209\",\"type\":\"Selection\"},\"selection_policy\":{\"id\":\"9ce65b16-5ddd-4da4-9757-4c7f7004518a\",\"type\":\"UnionRenderers\"}},\"id\":\"41e1abbd-2491-4ef1-a301-1969015e3491\",\"type\":\"ColumnDataSource\"},{\"attributes\":{\"line_alpha\":0.1,\"line_color\":\"#1f77b4\",\"line_width\":5,\"x\":{\"field\":\"x\"},\"y\":{\"field\":\"y\"}},\"id\":\"aecf7748-f318-4b49-a296-1d0c912cbb12\",\"type\":\"Line\"},{\"attributes\":{\"data_source\":{\"id\":\"2e2a13f7-f03d-421f-9ef3-114c9357df47\",\"type\":\"ColumnDataSource\"},\"glyph\":{\"id\":\"273bde21-8c02-4f61-aa08-d5ce54ff97a0\",\"type\":\"Line\"},\"hover_glyph\":null,\"muted_glyph\":null,\"nonselection_glyph\":{\"id\":\"aecf7748-f318-4b49-a296-1d0c912cbb12\",\"type\":\"Line\"},\"selection_glyph\":null,\"view\":{\"id\":\"ffe3c566-1466-45df-80b3-8d879dc5d590\",\"type\":\"CDSView\"}},\"id\":\"d7d7eb46-d696-414f-8cae-3415a4801f30\",\"type\":\"GlyphRenderer\"},{\"attributes\":{\"line_alpha\":0.6,\"line_color\":\"green\",\"line_width\":5,\"x\":{\"field\":\"x\"},\"y\":{\"field\":\"y\"}},\"id\":\"920dfd86-f2a1-4f32-9c5c-6e5ab64f68ef\",\"type\":\"Line\"},{\"attributes\":{\"line_alpha\":0.1,\"line_color\":\"#1f77b4\",\"line_width\":5,\"x\":{\"field\":\"x\"},\"y\":{\"field\":\"y\"}},\"id\":\"55f21141-f31f-47fd-86e7-c3d90ed263e2\",\"type\":\"Line\"},{\"attributes\":{\"source\":{\"id\":\"2e2a13f7-f03d-421f-9ef3-114c9357df47\",\"type\":\"ColumnDataSource\"}},\"id\":\"ffe3c566-1466-45df-80b3-8d879dc5d590\",\"type\":\"CDSView\"},{\"attributes\":{\"data_source\":{\"id\":\"41e1abbd-2491-4ef1-a301-1969015e3491\",\"type\":\"ColumnDataSource\"},\"glyph\":{\"id\":\"920dfd86-f2a1-4f32-9c5c-6e5ab64f68ef\",\"type\":\"Line\"},\"hover_glyph\":null,\"muted_glyph\":null,\"nonselection_glyph\":{\"id\":\"55f21141-f31f-47fd-86e7-c3d90ed263e2\",\"type\":\"Line\"},\"selection_glyph\":null,\"view\":{\"id\":\"a6633f42-bdc9-44d6-bd9b-25436a828dcb\",\"type\":\"CDSView\"}},\"id\":\"19015bb5-0f01-4c50-a7f1-c93c53d6fc9e\",\"type\":\"GlyphRenderer\"},{\"attributes\":{\"callback\":null,\"data\":{\"x\":[2,2],\"y\":[22,16]},\"selected\":{\"id\":\"a19f68e4-27aa-4707-a38f-0ff762a39e5f\",\"type\":\"Selection\"},\"selection_policy\":{\"id\":\"5301f462-6d70-4308-898c-63f910faeac9\",\"type\":\"UnionRenderers\"}},\"id\":\"8bd5a40d-1e94-4e72-84fe-6e2d47196152\",\"type\":\"ColumnDataSource\"},{\"attributes\":{\"source\":{\"id\":\"41e1abbd-2491-4ef1-a301-1969015e3491\",\"type\":\"ColumnDataSource\"}},\"id\":\"a6633f42-bdc9-44d6-bd9b-25436a828dcb\",\"type\":\"CDSView\"},{\"attributes\":{\"line_alpha\":0.6,\"line_color\":\"green\",\"line_width\":5,\"x\":{\"field\":\"x\"},\"y\":{\"field\":\"y\"}},\"id\":\"c5eae47c-fbad-4f23-bfa1-1099b0fbfb6d\",\"type\":\"Line\"},{\"attributes\":{\"callback\":null,\"data\":{\"x\":[-2,-2],\"y\":[-8,0]},\"selected\":{\"id\":\"a623eec4-cbf6-48d8-943d-346a9b7c44cf\",\"type\":\"Selection\"},\"selection_policy\":{\"id\":\"27b6de7f-95a8-48b9-93ba-2f91fff2a1d7\",\"type\":\"UnionRenderers\"}},\"id\":\"9e87eb45-9c61-40da-9f52-8ffc332214a8\",\"type\":\"ColumnDataSource\"},{\"attributes\":{\"line_alpha\":0.1,\"line_color\":\"#1f77b4\",\"line_width\":5,\"x\":{\"field\":\"x\"},\"y\":{\"field\":\"y\"}},\"id\":\"185315ee-4fa7-4b73-9c68-6f5e23a570c2\",\"type\":\"Line\"},{\"attributes\":{\"data_source\":{\"id\":\"8bd5a40d-1e94-4e72-84fe-6e2d47196152\",\"type\":\"ColumnDataSource\"},\"glyph\":{\"id\":\"c5eae47c-fbad-4f23-bfa1-1099b0fbfb6d\",\"type\":\"Line\"},\"hover_glyph\":null,\"muted_glyph\":null,\"nonselection_glyph\":{\"id\":\"185315ee-4fa7-4b73-9c68-6f5e23a570c2\",\"type\":\"Line\"},\"selection_glyph\":null,\"view\":{\"id\":\"a61f8621-d48d-428b-8619-82620273d3ab\",\"type\":\"CDSView\"}},\"id\":\"3ba0b251-376d-4416-8397-49cc81f7f0b6\",\"type\":\"GlyphRenderer\"},{\"attributes\":{\"line_alpha\":0.4,\"line_width\":5,\"x\":{\"field\":\"x\"},\"y\":{\"field\":\"y\"}},\"id\":\"9a946b5b-41d2-45fc-becd-ecd2bb8ba7f8\",\"type\":\"Line\"},{\"attributes\":{\"line_alpha\":0.1,\"line_color\":\"#1f77b4\",\"line_width\":5,\"x\":{\"field\":\"x\"},\"y\":{\"field\":\"y\"}},\"id\":\"b5c09f6a-0d69-46b6-b2ee-be53c20a8d01\",\"type\":\"Line\"},{\"attributes\":{\"source\":{\"id\":\"8bd5a40d-1e94-4e72-84fe-6e2d47196152\",\"type\":\"ColumnDataSource\"}},\"id\":\"a61f8621-d48d-428b-8619-82620273d3ab\",\"type\":\"CDSView\"},{\"attributes\":{\"data_source\":{\"id\":\"9e87eb45-9c61-40da-9f52-8ffc332214a8\",\"type\":\"ColumnDataSource\"},\"glyph\":{\"id\":\"9a946b5b-41d2-45fc-becd-ecd2bb8ba7f8\",\"type\":\"Line\"},\"hover_glyph\":null,\"muted_glyph\":null,\"nonselection_glyph\":{\"id\":\"b5c09f6a-0d69-46b6-b2ee-be53c20a8d01\",\"type\":\"Line\"},\"selection_glyph\":null,\"view\":{\"id\":\"168f7fd9-5a93-4229-bfcc-d90ab98c1baa\",\"type\":\"CDSView\"}},\"id\":\"5ea6f0a5-ece1-4bbb-9d93-2b3e32f4fdfe\",\"type\":\"GlyphRenderer\"},{\"attributes\":{\"callback\":null,\"data\":{\"x\":[3,3],\"y\":[27,0]},\"selected\":{\"id\":\"f36761d0-232d-476f-b283-5bf60bbdfd71\",\"type\":\"Selection\"},\"selection_policy\":{\"id\":\"8951c2b0-d1fe-45ce-947b-d65fe5b5767e\",\"type\":\"UnionRenderers\"}},\"id\":\"5174981a-c342-4ab3-a18a-4c3ff1b5597a\",\"type\":\"ColumnDataSource\"},{\"attributes\":{\"source\":{\"id\":\"9e87eb45-9c61-40da-9f52-8ffc332214a8\",\"type\":\"ColumnDataSource\"}},\"id\":\"168f7fd9-5a93-4229-bfcc-d90ab98c1baa\",\"type\":\"CDSView\"},{\"attributes\":{\"line_alpha\":0.4,\"line_width\":5,\"x\":{\"field\":\"x\"},\"y\":{\"field\":\"y\"}},\"id\":\"09b1a45a-0c75-4efe-b8be-323cbf085ea2\",\"type\":\"Line\"},{\"attributes\":{\"callback\":null,\"data\":{\"x\":[-2,-2],\"y\":[0,-8]},\"selected\":{\"id\":\"24ad36ab-c0e3-400c-864a-263840451563\",\"type\":\"Selection\"},\"selection_policy\":{\"id\":\"aee4ba56-328a-47c2-923c-cdba890d331a\",\"type\":\"UnionRenderers\"}},\"id\":\"f63cc3f4-2bc4-45fb-b14e-b1b8d8eed41b\",\"type\":\"ColumnDataSource\"},{\"attributes\":{\"line_alpha\":0.1,\"line_color\":\"#1f77b4\",\"line_width\":5,\"x\":{\"field\":\"x\"},\"y\":{\"field\":\"y\"}},\"id\":\"203701e1-89ac-4cbd-b605-57e12181a6f4\",\"type\":\"Line\"},{\"attributes\":{\"data_source\":{\"id\":\"5174981a-c342-4ab3-a18a-4c3ff1b5597a\",\"type\":\"ColumnDataSource\"},\"glyph\":{\"id\":\"09b1a45a-0c75-4efe-b8be-323cbf085ea2\",\"type\":\"Line\"},\"hover_glyph\":null,\"muted_glyph\":null,\"nonselection_glyph\":{\"id\":\"203701e1-89ac-4cbd-b605-57e12181a6f4\",\"type\":\"Line\"},\"selection_glyph\":null,\"view\":{\"id\":\"5e67fdf0-acc7-412a-b186-5532424810ac\",\"type\":\"CDSView\"}},\"id\":\"1737c3bf-ceb3-414f-a8b8-69c868a98802\",\"type\":\"GlyphRenderer\"},{\"attributes\":{\"line_alpha\":0.4,\"line_color\":\"orange\",\"line_width\":5,\"x\":{\"field\":\"x\"},\"y\":{\"field\":\"y\"}},\"id\":\"eec970c1-a8bf-4ccf-892f-868ad4133240\",\"type\":\"Line\"},{\"attributes\":{\"line_alpha\":0.1,\"line_color\":\"#1f77b4\",\"line_width\":5,\"x\":{\"field\":\"x\"},\"y\":{\"field\":\"y\"}},\"id\":\"b326b16c-4972-4f7e-85ca-dd92642b96d7\",\"type\":\"Line\"},{\"attributes\":{\"source\":{\"id\":\"5174981a-c342-4ab3-a18a-4c3ff1b5597a\",\"type\":\"ColumnDataSource\"}},\"id\":\"5e67fdf0-acc7-412a-b186-5532424810ac\",\"type\":\"CDSView\"},{\"attributes\":{\"data_source\":{\"id\":\"f63cc3f4-2bc4-45fb-b14e-b1b8d8eed41b\",\"type\":\"ColumnDataSource\"},\"glyph\":{\"id\":\"eec970c1-a8bf-4ccf-892f-868ad4133240\",\"type\":\"Line\"},\"hover_glyph\":null,\"muted_glyph\":null,\"nonselection_glyph\":{\"id\":\"b326b16c-4972-4f7e-85ca-dd92642b96d7\",\"type\":\"Line\"},\"selection_glyph\":null,\"view\":{\"id\":\"2db6765d-878f-4032-8b1e-ab6d18363cfc\",\"type\":\"CDSView\"}},\"id\":\"d413aded-224b-4b1e-9795-c659c40e8057\",\"type\":\"GlyphRenderer\"},{\"attributes\":{\"callback\":null,\"data\":{\"x\":[3,3],\"y\":[45,27]},\"selected\":{\"id\":\"a7294fb8-0609-4764-a9ca-05b35f0278e5\",\"type\":\"Selection\"},\"selection_policy\":{\"id\":\"2f98876a-b32d-4a20-ac7f-a48fcf3642d7\",\"type\":\"UnionRenderers\"}},\"id\":\"97c8e1ee-6793-4b4d-8fa8-9f8d884bc996\",\"type\":\"ColumnDataSource\"},{\"attributes\":{\"source\":{\"id\":\"f63cc3f4-2bc4-45fb-b14e-b1b8d8eed41b\",\"type\":\"ColumnDataSource\"}},\"id\":\"2db6765d-878f-4032-8b1e-ab6d18363cfc\",\"type\":\"CDSView\"},{\"attributes\":{\"line_alpha\":0.4,\"line_color\":\"orange\",\"line_width\":5,\"x\":{\"field\":\"x\"},\"y\":{\"field\":\"y\"}},\"id\":\"5d16be02-3a3f-4be2-9805-c958a4fb1439\",\"type\":\"Line\"},{\"attributes\":{\"callback\":null,\"data\":{\"x\":[-2,-2],\"y\":[-6,0]},\"selected\":{\"id\":\"7af832b5-6c77-43e1-a5da-b930e14e19c0\",\"type\":\"Selection\"},\"selection_policy\":{\"id\":\"426d8fc8-f660-427e-ab81-52069081639f\",\"type\":\"UnionRenderers\"}},\"id\":\"e9393bc1-4c27-40a1-b400-0ff9ceb84cd7\",\"type\":\"ColumnDataSource\"},{\"attributes\":{\"line_alpha\":0.1,\"line_color\":\"#1f77b4\",\"line_width\":5,\"x\":{\"field\":\"x\"},\"y\":{\"field\":\"y\"}},\"id\":\"735d6e4b-3c39-4034-aca9-0b37fdb7844f\",\"type\":\"Line\"},{\"attributes\":{\"data_source\":{\"id\":\"97c8e1ee-6793-4b4d-8fa8-9f8d884bc996\",\"type\":\"ColumnDataSource\"},\"glyph\":{\"id\":\"5d16be02-3a3f-4be2-9805-c958a4fb1439\",\"type\":\"Line\"},\"hover_glyph\":null,\"muted_glyph\":null,\"nonselection_glyph\":{\"id\":\"735d6e4b-3c39-4034-aca9-0b37fdb7844f\",\"type\":\"Line\"},\"selection_glyph\":null,\"view\":{\"id\":\"f85d07c7-b58c-4ae3-a00a-773db4734af3\",\"type\":\"CDSView\"}},\"id\":\"15efd35e-af55-4bc1-8b02-5ce90d264abe\",\"type\":\"GlyphRenderer\"},{\"attributes\":{\"line_alpha\":0.6,\"line_color\":\"green\",\"line_width\":5,\"x\":{\"field\":\"x\"},\"y\":{\"field\":\"y\"}},\"id\":\"1a0e6bf6-ef98-4c83-b226-c0a5ecd09604\",\"type\":\"Line\"},{\"attributes\":{\"line_alpha\":0.1,\"line_color\":\"#1f77b4\",\"line_width\":5,\"x\":{\"field\":\"x\"},\"y\":{\"field\":\"y\"}},\"id\":\"22d15b5e-0b47-469d-b6ad-e505775cfec4\",\"type\":\"Line\"},{\"attributes\":{\"source\":{\"id\":\"97c8e1ee-6793-4b4d-8fa8-9f8d884bc996\",\"type\":\"ColumnDataSource\"}},\"id\":\"f85d07c7-b58c-4ae3-a00a-773db4734af3\",\"type\":\"CDSView\"},{\"attributes\":{\"data_source\":{\"id\":\"e9393bc1-4c27-40a1-b400-0ff9ceb84cd7\",\"type\":\"ColumnDataSource\"},\"glyph\":{\"id\":\"1a0e6bf6-ef98-4c83-b226-c0a5ecd09604\",\"type\":\"Line\"},\"hover_glyph\":null,\"muted_glyph\":null,\"nonselection_glyph\":{\"id\":\"22d15b5e-0b47-469d-b6ad-e505775cfec4\",\"type\":\"Line\"},\"selection_glyph\":null,\"view\":{\"id\":\"9bae8a23-9ce6-4f75-956e-9bb0f2580008\",\"type\":\"CDSView\"}},\"id\":\"ee1e272b-a03f-4540-af65-174a0a4700f7\",\"type\":\"GlyphRenderer\"},{\"attributes\":{\"callback\":null,\"data\":{\"x\":[3,3],\"y\":[54,45]},\"selected\":{\"id\":\"17f28ac5-6afb-4808-924d-355871d066f7\",\"type\":\"Selection\"},\"selection_policy\":{\"id\":\"8da2d280-de14-4060-950d-a6a6b21d342b\",\"type\":\"UnionRenderers\"}},\"id\":\"736da9d2-32c3-4c89-a0d0-9b563648d30c\",\"type\":\"ColumnDataSource\"},{\"attributes\":{\"source\":{\"id\":\"e9393bc1-4c27-40a1-b400-0ff9ceb84cd7\",\"type\":\"ColumnDataSource\"}},\"id\":\"9bae8a23-9ce6-4f75-956e-9bb0f2580008\",\"type\":\"CDSView\"},{\"attributes\":{\"line_alpha\":0.6,\"line_color\":\"green\",\"line_width\":5,\"x\":{\"field\":\"x\"},\"y\":{\"field\":\"y\"}},\"id\":\"6c62ed8f-d597-4e7e-a35e-f907d53bef75\",\"type\":\"Line\"},{\"attributes\":{\"callback\":null,\"data\":{\"x\":[-1,-1],\"y\":[-1,0]},\"selected\":{\"id\":\"8a83dc29-10fc-4176-ac13-0555e60dfe1d\",\"type\":\"Selection\"},\"selection_policy\":{\"id\":\"c22d08d7-0a73-4cb2-8c97-a9f91ce10f27\",\"type\":\"UnionRenderers\"}},\"id\":\"e239c516-2adf-4e97-bb66-571d679bcdce\",\"type\":\"ColumnDataSource\"},{\"attributes\":{\"line_alpha\":0.1,\"line_color\":\"#1f77b4\",\"line_width\":5,\"x\":{\"field\":\"x\"},\"y\":{\"field\":\"y\"}},\"id\":\"3ce7a978-0936-4f3f-92c7-bdeedde567a0\",\"type\":\"Line\"},{\"attributes\":{\"data_source\":{\"id\":\"736da9d2-32c3-4c89-a0d0-9b563648d30c\",\"type\":\"ColumnDataSource\"},\"glyph\":{\"id\":\"6c62ed8f-d597-4e7e-a35e-f907d53bef75\",\"type\":\"Line\"},\"hover_glyph\":null,\"muted_glyph\":null,\"nonselection_glyph\":{\"id\":\"3ce7a978-0936-4f3f-92c7-bdeedde567a0\",\"type\":\"Line\"},\"selection_glyph\":null,\"view\":{\"id\":\"365cdd93-c1a4-4595-bdc5-95b81a5d396b\",\"type\":\"CDSView\"}},\"id\":\"84095f9e-7f48-445b-85c2-e4b6f97234a9\",\"type\":\"GlyphRenderer\"},{\"attributes\":{\"line_alpha\":0.4,\"line_width\":5,\"x\":{\"field\":\"x\"},\"y\":{\"field\":\"y\"}},\"id\":\"a3a37276-6bbc-4504-a1c9-ad46bbbffa5b\",\"type\":\"Line\"},{\"attributes\":{\"line_alpha\":0.1,\"line_color\":\"#1f77b4\",\"line_width\":5,\"x\":{\"field\":\"x\"},\"y\":{\"field\":\"y\"}},\"id\":\"a884ab6c-ce4e-4b47-8fa8-6a45020c31eb\",\"type\":\"Line\"},{\"attributes\":{\"source\":{\"id\":\"736da9d2-32c3-4c89-a0d0-9b563648d30c\",\"type\":\"ColumnDataSource\"}},\"id\":\"365cdd93-c1a4-4595-bdc5-95b81a5d396b\",\"type\":\"CDSView\"},{\"attributes\":{\"data_source\":{\"id\":\"e239c516-2adf-4e97-bb66-571d679bcdce\",\"type\":\"ColumnDataSource\"},\"glyph\":{\"id\":\"a3a37276-6bbc-4504-a1c9-ad46bbbffa5b\",\"type\":\"Line\"},\"hover_glyph\":null,\"muted_glyph\":null,\"nonselection_glyph\":{\"id\":\"a884ab6c-ce4e-4b47-8fa8-6a45020c31eb\",\"type\":\"Line\"},\"selection_glyph\":null,\"view\":{\"id\":\"d650a521-49f0-49e6-b9b6-c7b055786ab8\",\"type\":\"CDSView\"}},\"id\":\"58370ae5-3821-47f4-97a7-d3a4fcaf2389\",\"type\":\"GlyphRenderer\"},{\"attributes\":{\"callback\":null,\"data\":{\"x\":[4,4],\"y\":[64,0]},\"selected\":{\"id\":\"f12728f9-ec4a-489e-8c4c-b4b5d78fc777\",\"type\":\"Selection\"},\"selection_policy\":{\"id\":\"77e17352-c0a6-4764-a8e9-44ad545299e6\",\"type\":\"UnionRenderers\"}},\"id\":\"4dd8d57e-dc50-4d55-8ebd-49415de59422\",\"type\":\"ColumnDataSource\"},{\"attributes\":{\"source\":{\"id\":\"e239c516-2adf-4e97-bb66-571d679bcdce\",\"type\":\"ColumnDataSource\"}},\"id\":\"d650a521-49f0-49e6-b9b6-c7b055786ab8\",\"type\":\"CDSView\"},{\"attributes\":{\"line_alpha\":0.4,\"line_width\":5,\"x\":{\"field\":\"x\"},\"y\":{\"field\":\"y\"}},\"id\":\"6ba5dde7-600e-4cfc-95ab-e7164b821c99\",\"type\":\"Line\"},{\"attributes\":{\"callback\":null,\"data\":{\"x\":[-1,-1],\"y\":[1,-1]},\"selected\":{\"id\":\"ca052859-e45e-4aaa-8cec-6731e531bd05\",\"type\":\"Selection\"},\"selection_policy\":{\"id\":\"837ba63f-d809-4be0-a066-b97806e9a3da\",\"type\":\"UnionRenderers\"}},\"id\":\"66f6c959-651c-4acd-9193-b2cb7a68f2aa\",\"type\":\"ColumnDataSource\"},{\"attributes\":{\"line_alpha\":0.1,\"line_color\":\"#1f77b4\",\"line_width\":5,\"x\":{\"field\":\"x\"},\"y\":{\"field\":\"y\"}},\"id\":\"05e8da05-3df2-4f15-b7ba-7568d3a47c3e\",\"type\":\"Line\"},{\"attributes\":{\"data_source\":{\"id\":\"4dd8d57e-dc50-4d55-8ebd-49415de59422\",\"type\":\"ColumnDataSource\"},\"glyph\":{\"id\":\"6ba5dde7-600e-4cfc-95ab-e7164b821c99\",\"type\":\"Line\"},\"hover_glyph\":null,\"muted_glyph\":null,\"nonselection_glyph\":{\"id\":\"05e8da05-3df2-4f15-b7ba-7568d3a47c3e\",\"type\":\"Line\"},\"selection_glyph\":null,\"view\":{\"id\":\"fd72c64b-b0fb-4b47-bec5-c3ea4f159c11\",\"type\":\"CDSView\"}},\"id\":\"f8cd314d-c443-4863-9fa3-e003c38a0456\",\"type\":\"GlyphRenderer\"},{\"attributes\":{\"line_alpha\":0.4,\"line_color\":\"orange\",\"line_width\":5,\"x\":{\"field\":\"x\"},\"y\":{\"field\":\"y\"}},\"id\":\"22941050-4577-4631-a844-bee0f73c1391\",\"type\":\"Line\"},{\"attributes\":{\"line_alpha\":0.1,\"line_color\":\"#1f77b4\",\"line_width\":5,\"x\":{\"field\":\"x\"},\"y\":{\"field\":\"y\"}},\"id\":\"946e8232-351d-4412-8792-a67efa052e93\",\"type\":\"Line\"},{\"attributes\":{\"source\":{\"id\":\"4dd8d57e-dc50-4d55-8ebd-49415de59422\",\"type\":\"ColumnDataSource\"}},\"id\":\"fd72c64b-b0fb-4b47-bec5-c3ea4f159c11\",\"type\":\"CDSView\"},{\"attributes\":{\"data_source\":{\"id\":\"66f6c959-651c-4acd-9193-b2cb7a68f2aa\",\"type\":\"ColumnDataSource\"},\"glyph\":{\"id\":\"22941050-4577-4631-a844-bee0f73c1391\",\"type\":\"Line\"},\"hover_glyph\":null,\"muted_glyph\":null,\"nonselection_glyph\":{\"id\":\"946e8232-351d-4412-8792-a67efa052e93\",\"type\":\"Line\"},\"selection_glyph\":null,\"view\":{\"id\":\"8477e989-4ce0-4dce-91f0-6fa926a3450a\",\"type\":\"CDSView\"}},\"id\":\"51157270-158d-485e-95b6-633b5f0b1863\",\"type\":\"GlyphRenderer\"},{\"attributes\":{\"callback\":null,\"data\":{\"x\":[4,4],\"y\":[96,64]},\"selected\":{\"id\":\"4ff6d174-50e1-4ca1-b1a7-40ed16863fa1\",\"type\":\"Selection\"},\"selection_policy\":{\"id\":\"c2c92af8-d171-4af7-b352-22d651bffc7e\",\"type\":\"UnionRenderers\"}},\"id\":\"be20dba0-ad25-4eca-9d39-66991bfb9836\",\"type\":\"ColumnDataSource\"},{\"attributes\":{\"source\":{\"id\":\"66f6c959-651c-4acd-9193-b2cb7a68f2aa\",\"type\":\"ColumnDataSource\"}},\"id\":\"8477e989-4ce0-4dce-91f0-6fa926a3450a\",\"type\":\"CDSView\"},{\"attributes\":{\"line_alpha\":0.4,\"line_color\":\"orange\",\"line_width\":5,\"x\":{\"field\":\"x\"},\"y\":{\"field\":\"y\"}},\"id\":\"adc1d47c-05a9-48b4-8ae4-52704b3c80ea\",\"type\":\"Line\"},{\"attributes\":{\"callback\":null,\"data\":{\"x\":[-1,-1],\"y\":[-2,1]},\"selected\":{\"id\":\"5f378171-6235-49c8-925c-aaa28ffc1ea0\",\"type\":\"Selection\"},\"selection_policy\":{\"id\":\"0de86b04-412b-46dc-94bb-02199835d75f\",\"type\":\"UnionRenderers\"}},\"id\":\"7f4be510-a507-483b-9f68-c7b8709e8b39\",\"type\":\"ColumnDataSource\"},{\"attributes\":{\"line_alpha\":0.1,\"line_color\":\"#1f77b4\",\"line_width\":5,\"x\":{\"field\":\"x\"},\"y\":{\"field\":\"y\"}},\"id\":\"5ef6c63f-5b0d-4962-a12a-f18123ea5677\",\"type\":\"Line\"},{\"attributes\":{\"data_source\":{\"id\":\"be20dba0-ad25-4eca-9d39-66991bfb9836\",\"type\":\"ColumnDataSource\"},\"glyph\":{\"id\":\"adc1d47c-05a9-48b4-8ae4-52704b3c80ea\",\"type\":\"Line\"},\"hover_glyph\":null,\"muted_glyph\":null,\"nonselection_glyph\":{\"id\":\"5ef6c63f-5b0d-4962-a12a-f18123ea5677\",\"type\":\"Line\"},\"selection_glyph\":null,\"view\":{\"id\":\"ec6b6e19-edcf-4e2b-9126-52178485d818\",\"type\":\"CDSView\"}},\"id\":\"f4758521-8942-4407-84b0-78668d80b1e9\",\"type\":\"GlyphRenderer\"},{\"attributes\":{\"line_alpha\":0.6,\"line_color\":\"green\",\"line_width\":5,\"x\":{\"field\":\"x\"},\"y\":{\"field\":\"y\"}},\"id\":\"b761ee26-893b-4643-b2ff-ee5f4f90a734\",\"type\":\"Line\"},{\"attributes\":{\"callback\":null,\"data\":{\"x\":{\"__ndarray__\":\"AAAAAAAAFMCamZmZmZkTwDQzMzMzMxPAzszMzMzMEsBoZmZmZmYSwAIAAAAAABLAnJmZmZmZEcA2MzMzMzMRwNDMzMzMzBDAamZmZmZmEMAEAAAAAAAQwDwzMzMzMw/AcGZmZmZmDsCkmZmZmZkNwNjMzMzMzAzADAAAAAAADMBAMzMzMzMLwHRmZmZmZgrAqJmZmZmZCcDczMzMzMwIwBAAAAAAAAjARDMzMzMzB8B4ZmZmZmYGwKyZmZmZmQXA4MzMzMzMBMAUAAAAAAAEwEgzMzMzMwPAfGZmZmZmAsCwmZmZmZkBwOTMzMzMzADAGAAAAAAAAMCYZmZmZmb+vwDNzMzMzPy/aDMzMzMz+7/QmZmZmZn5vzgAAAAAAPi/oGZmZmZm9r8IzczMzMz0v3AzMzMzM/O/2JmZmZmZ8b9AAAAAAADwv1DNzMzMzOy/IJqZmZmZ6b/wZmZmZmbmv8AzMzMzM+O/kAAAAAAA4L/AmpmZmZnZv2A0MzMzM9O/AJyZmZmZyb+AnpmZmZm5vwAAAAAAABS9gJSZmZmZuT8Al5mZmZnJP+AxMzMzM9M/QJiZmZmZ2T+g/v/////fP4AyMzMzM+M/sGVmZmZm5j/gmJmZmZnpPxDMzMzMzOw/QP//////7z84mZmZmZnxP9AyMzMzM/M/aMzMzMzM9D8AZmZmZmb2P5j///////c/MJmZmZmZ+T/IMjMzMzP7P2DMzMzMzPw/+GVmZmZm/j+Q////////P5TMzMzMzABAYJmZmZmZAUAsZmZmZmYCQPgyMzMzMwNAxP//////A0CQzMzMzMwEQFyZmZmZmQVAKGZmZmZmBkD0MjMzMzMHQMD//////wdAjMzMzMzMCEBYmZmZmZkJQCRmZmZmZgpA8DIzMzMzC0C8//////8LQIjMzMzMzAxAVJmZmZmZDUAgZmZmZmYOQOwyMzMzMw9AuP//////D0BCZmZmZmYQQKjMzMzMzBBADjMzMzMzEUB0mZmZmZkRQNr//////xFAQGZmZmZmEkCmzMzMzMwSQAwzMzMzMxNAcpmZmZmZE0DY//////8TQA==\",\"dtype\":\"float64\",\"shape\":[101]},\"y\":{\"__ndarray__\":\"AAAAAAAASUDE9ShcjwJIQAzXo3A9CkdA2qNwPQoXRkAtXI/C9ShFQAUAAAAAQERAYY/C9ShcQ0BDCtejcH1CQKtwPQrXo0FAl8L1KFzPQEAIAAAAAABAQP1RuB6Faz5A9HoUrkfhPED1ehSuR2E7QABSuB6F6zlAFQAAAACAOEA0hetRuB43QF7hehSuxzVAkhSuR+F6NEDQHoXrUTgzQBgAAAAAADJAargehevRMECNj8L1KFwvQFtcj8L1KC1APNejcD0KK0AyAAAAAAApQDzXo3A9CidAW1yPwvUoJUCNj8L1KFwjQNVwPQrXoyFAMAAAAAAAIEBAexSuR+EcQEhSuB6F6xlAeIXrUbgeF0DSFK5H4XoUQFQAAAAAABJA/Y/C9ShcD0Ck16NwPQoLQJzXo3A9CgdA5Y/C9ShcA0CAAAAAAAAAQNhSuB6F6/k/UhWuR+F69D/dkML1KFzvP1zYo3A9Cuc/IAEAAAAA4D9SFq5H4XrUP9zZo3A9Csc/UhiuR+F6tD9SHK5H4XqUPwAAAAAAAEk6UgyuR+F6lD9SEK5H4Xq0P9zTo3A9Csc/UhKuR+F61D9A/f/////fP1zVo3A9Cuc/XY3C9Shc7z9SE65H4Xr0P5hQuB6F6/k/gP7//////z+FjsL1KFwDQBzWo3A9CgdABNajcD0KC0A9jsL1KFwPQGT//////xFA0hOuR+F6FEBohOtRuB4XQChRuB6F6xlAEHoUrkfhHEAg//////8fQC1wPQrXoyFA3Y7C9ShcI0CjW4/C9SglQHzWo3A9CidAav//////KEBs1qNwPQorQINbj8L1KC1ArY7C9ShcL0D2tx6F69EwQKD//////zFAVB6F61E4M0ASFK5H4Xo0QNrgehSuxzVArITrUbgeN0CJ/////384QHBRuB6F6zlAYXoUrkdhO0BcehSuR+E8QGFRuB6Faz5AcP//////P0BFwvUoXM9AQFdwPQrXo0FA7QnXo3B9QkAJj8L1KFxDQKv/////P0RA0VuPwvUoRUB8o3A9ChdGQKzWo3A9CkdAYvUoXI8CSECc//////9IQA==\",\"dtype\":\"float64\",\"shape\":[101]}},\"selected\":{\"id\":\"ac184b93-b634-4456-8283-277b160ddb47\",\"type\":\"Selection\"},\"selection_policy\":{\"id\":\"5ce26e80-1f28-4c3c-ad4c-5240afa4eedd\",\"type\":\"UnionRenderers\"}},\"id\":\"7a266012-fde5-4b65-913d-3311a854864c\",\"type\":\"ColumnDataSource\"},{\"attributes\":{},\"id\":\"459deb74-9426-4158-86df-3a6c75dc45da\",\"type\":\"BasicTicker\"},{\"attributes\":{},\"id\":\"45548abe-59f3-47f2-ba8c-b94303b5f3b9\",\"type\":\"BasicTickFormatter\"},{\"attributes\":{\"items\":[{\"id\":\"6c3b5fc0-32bc-4690-94fa-ba813196ee5e\",\"type\":\"LegendItem\"},{\"id\":\"53041b6b-5609-4dc5-bb13-da907c3d05a5\",\"type\":\"LegendItem\"},{\"id\":\"85523723-39d5-4811-bbc9-3197f7589442\",\"type\":\"LegendItem\"}],\"location\":\"top_center\",\"plot\":{\"id\":\"838c9bb4-c6d1-4191-941d-b61a949eca5a\",\"subtype\":\"Figure\",\"type\":\"Plot\"}},\"id\":\"3aeae165-5ffa-40cb-94b8-e2c423fda859\",\"type\":\"Legend\"},{\"attributes\":{\"callback\":null,\"data\":{\"x\":{\"__ndarray__\":\"AAAAAAAAFMCamZmZmZkTwDQzMzMzMxPAzszMzMzMEsBoZmZmZmYSwAIAAAAAABLAnJmZmZmZEcA2MzMzMzMRwNDMzMzMzBDAamZmZmZmEMAEAAAAAAAQwDwzMzMzMw/AcGZmZmZmDsCkmZmZmZkNwNjMzMzMzAzADAAAAAAADMBAMzMzMzMLwHRmZmZmZgrAqJmZmZmZCcDczMzMzMwIwBAAAAAAAAjARDMzMzMzB8B4ZmZmZmYGwKyZmZmZmQXA4MzMzMzMBMAUAAAAAAAEwEgzMzMzMwPAfGZmZmZmAsCwmZmZmZkBwOTMzMzMzADAGAAAAAAAAMCYZmZmZmb+vwDNzMzMzPy/aDMzMzMz+7/QmZmZmZn5vzgAAAAAAPi/oGZmZmZm9r8IzczMzMz0v3AzMzMzM/O/2JmZmZmZ8b9AAAAAAADwv1DNzMzMzOy/IJqZmZmZ6b/wZmZmZmbmv8AzMzMzM+O/kAAAAAAA4L/AmpmZmZnZv2A0MzMzM9O/AJyZmZmZyb+AnpmZmZm5vwAAAAAAABS9gJSZmZmZuT8Al5mZmZnJP+AxMzMzM9M/QJiZmZmZ2T+g/v/////fP4AyMzMzM+M/sGVmZmZm5j/gmJmZmZnpPxDMzMzMzOw/QP//////7z84mZmZmZnxP9AyMzMzM/M/aMzMzMzM9D8AZmZmZmb2P5j///////c/MJmZmZmZ+T/IMjMzMzP7P2DMzMzMzPw/+GVmZmZm/j+Q////////P5TMzMzMzABAYJmZmZmZAUAsZmZmZmYCQPgyMzMzMwNAxP//////A0CQzMzMzMwEQFyZmZmZmQVAKGZmZmZmBkD0MjMzMzMHQMD//////wdAjMzMzMzMCEBYmZmZmZkJQCRmZmZmZgpA8DIzMzMzC0C8//////8LQIjMzMzMzAxAVJmZmZmZDUAgZmZmZmYOQOwyMzMzMw9AuP//////D0BCZmZmZmYQQKjMzMzMzBBADjMzMzMzEUB0mZmZmZkRQNr//////xFAQGZmZmZmEkCmzMzMzMwSQAwzMzMzMxNAcpmZmZmZE0DY//////8TQA==\",\"dtype\":\"float64\",\"shape\":[101]},\"y\":{\"__ndarray__\":\"AAAAAABAX8Cqxks3iWldwN3O91PjpVvA7iYxCKz0WcA13SQGgVVYwAgAAAAAyFbAu53vp8ZLVcClxCCwcuBTwB2DwMqhhVLAeOf7qfE6UcAMAAAAAABQwF+28/3UqE3AcA4tsp1vS8D4JAaBlVNJwKIW2c73U0fAHAAAAABwRcAP/tR46aZDwCotsp3v90HAGKrx0k1iQMAII9v5fso9wDYAAAAAADvAEiUGgZVjOMD0yqFFtvM1wDQrhxbZrjPAK39qvHSTMcBeAAAAAEAvwDPP91PjpSvAhd0kBoFVKMADnu+nxkslwF+DwMqhhSLASAAAAAAAIMDcDi2ynW8bwAQX2c73UxfAZv7UeOmmE8BkqvHSTWIQwL0AAAAAAAvAasuhRbbzBcCQf2q8dJMBwODP91Pjpfu/lZ7vp8ZL9b/AAAAAAADwv8YX2c73U+e//qrx0k1i4L9VzKFFtvPVvznR91Pjpcu/sAEAAAAAwL8xrPHSTWKwv+3T91PjpZu/mK7x0k1igL9ks/HSTWJQvwAAAAAAQF+3MaDx0k1iUD/+pPHSTWKAPyDJ91PjpZs/ZKfx0k1isD/g+/////+/P9PL91Pjpcs/qMihRbbz1T+YqPHSTWLgP7wU2c73U+c/wP3/////7z9QnO+nxkv1Py3N91Pjpfs/+n1qvHSTAUCTyaFFtvMFQKH+/////wpAManx0k1iEEAL/dR46aYTQH8V2c73UxdAKw0tsp1vG0Cw/v////8fQFeCwMqhhSJA4Zzvp8ZLJUBH3CQGgVUoQNnN91PjpStA5/7///8/L0Bgfmq8dJMxQFoqhxbZrjNACcqhRbbzNUAWJAaBlWM4QCj//////zpA5yHb+X7KPUB+qfHSTWJAQIcssp3v90FAYv3UeOmmQ0Bk/////29FQOAV2c73U0dAKyQGgZVTSUCXDS2ynW9LQHu18/3UqE1AKP//////T0D65vup8TpRQJmCwMqhhVJAG8QgsHLgU0Aqne+nxktVQHD/////x1ZAl9wkBoFVWEBJJjEIrPRZQDDO91PjpVtA9sVLN4lpXUBE/////z9fQA==\",\"dtype\":\"float64\",\"shape\":[101]}},\"selected\":{\"id\":\"d66e63bd-d071-48d4-874c-b5f5c300c842\",\"type\":\"Selection\"},\"selection_policy\":{\"id\":\"3822802d-cf30-4027-bfb9-2b8c637d3356\",\"type\":\"UnionRenderers\"}},\"id\":\"246a976c-d47b-4fa9-9814-fad3a873e21c\",\"type\":\"ColumnDataSource\"},{\"attributes\":{\"below\":[{\"id\":\"97bbdb7a-5dc3-48f9-9415-c418029827ca\",\"type\":\"LinearAxis\"}],\"left\":[{\"id\":\"991cd2fd-4069-42c6-b3fd-a4e8b1909356\",\"type\":\"LinearAxis\"}],\"plot_height\":400,\"plot_width\":700,\"renderers\":[{\"id\":\"97bbdb7a-5dc3-48f9-9415-c418029827ca\",\"type\":\"LinearAxis\"},{\"id\":\"51d4f009-5fec-4b32-b8c1-149df8f67f4b\",\"type\":\"Grid\"},{\"id\":\"991cd2fd-4069-42c6-b3fd-a4e8b1909356\",\"type\":\"LinearAxis\"},{\"id\":\"e7c21327-39c2-4d7a-9ab0-f1d0daa7603a\",\"type\":\"Grid\"},{\"id\":\"1742fab1-81b8-416b-9aa1-a4551c328f13\",\"type\":\"BoxAnnotation\"},{\"id\":\"3aeae165-5ffa-40cb-94b8-e2c423fda859\",\"type\":\"Legend\"},{\"id\":\"f2149fe2-56fe-4302-824c-d8cba22ba464\",\"type\":\"GlyphRenderer\"},{\"id\":\"bbe08e11-134a-4410-80e8-5b993ce69397\",\"type\":\"GlyphRenderer\"},{\"id\":\"1cb95e11-ee41-4304-b502-87abeff21982\",\"type\":\"GlyphRenderer\"}],\"title\":{\"id\":\"c292306a-69ce-4dcd-8619-483975d4d084\",\"type\":\"Title\"},\"toolbar\":{\"id\":\"a5cfa369-aa50-4dab-925a-b383f98d4cdb\",\"type\":\"Toolbar\"},\"toolbar_location\":\"below\",\"x_range\":{\"id\":\"f10d42c2-3b30-4c7c-bd3f-417a17460766\",\"type\":\"DataRange1d\"},\"x_scale\":{\"id\":\"f86961c5-a413-41ee-90fb-cb8a92e34f1b\",\"type\":\"LinearScale\"},\"y_range\":{\"id\":\"20e8d35c-721e-4879-b846-109ee71d8e68\",\"type\":\"DataRange1d\"},\"y_scale\":{\"id\":\"273e3ac8-7809-41eb-b8c2-8c02b1cbea47\",\"type\":\"LinearScale\"}},\"id\":\"838c9bb4-c6d1-4191-941d-b61a949eca5a\",\"subtype\":\"Figure\",\"type\":\"Plot\"},{\"attributes\":{\"plot\":null,\"text\":\"Each Function Individually\"},\"id\":\"c292306a-69ce-4dcd-8619-483975d4d084\",\"type\":\"Title\"},{\"attributes\":{\"callback\":null},\"id\":\"f10d42c2-3b30-4c7c-bd3f-417a17460766\",\"type\":\"DataRange1d\"},{\"attributes\":{\"active_drag\":\"auto\",\"active_inspect\":\"auto\",\"active_multi\":null,\"active_scroll\":\"auto\",\"active_tap\":\"auto\",\"tools\":[{\"id\":\"1b8dcb20-a4fe-4d63-8ff9-8a1d9f83c785\",\"type\":\"PanTool\"},{\"id\":\"733ea1d0-d9c4-47da-929b-b10e47d2c9f2\",\"type\":\"WheelZoomTool\"},{\"id\":\"ff599720-3333-435f-83e6-e6e95a4e7bbd\",\"type\":\"BoxZoomTool\"},{\"id\":\"56b84f6c-18c2-498a-abe7-8032ac0a73c1\",\"type\":\"SaveTool\"},{\"id\":\"efc30494-e046-4186-bced-306042b69fb7\",\"type\":\"ResetTool\"},{\"id\":\"2a039441-4535-410f-8dde-b33ab905f52f\",\"type\":\"HelpTool\"}]},\"id\":\"a5cfa369-aa50-4dab-925a-b383f98d4cdb\",\"type\":\"Toolbar\"},{\"attributes\":{\"data_source\":{\"id\":\"246a976c-d47b-4fa9-9814-fad3a873e21c\",\"type\":\"ColumnDataSource\"},\"glyph\":{\"id\":\"57837b92-8fa4-4517-809a-091cac2b71ee\",\"type\":\"Line\"},\"hover_glyph\":null,\"muted_glyph\":null,\"nonselection_glyph\":{\"id\":\"7156af0f-a4ed-4685-8ad4-17a87f759d27\",\"type\":\"Line\"},\"selection_glyph\":null,\"view\":{\"id\":\"05868ab3-c602-46be-a288-e422dcf99123\",\"type\":\"CDSView\"}},\"id\":\"f2149fe2-56fe-4302-824c-d8cba22ba464\",\"type\":\"GlyphRenderer\"},{\"attributes\":{},\"id\":\"f86961c5-a413-41ee-90fb-cb8a92e34f1b\",\"type\":\"LinearScale\"},{\"attributes\":{\"plot\":null,\"text\":\"Combined Components\"},\"id\":\"69f5987c-22b3-4e9c-8d10-3501605b6ee5\",\"type\":\"Title\"},{\"attributes\":{\"callback\":null},\"id\":\"20e8d35c-721e-4879-b846-109ee71d8e68\",\"type\":\"DataRange1d\"},{\"attributes\":{\"dimension\":1,\"plot\":{\"id\":\"838c9bb4-c6d1-4191-941d-b61a949eca5a\",\"subtype\":\"Figure\",\"type\":\"Plot\"},\"ticker\":{\"id\":\"459deb74-9426-4158-86df-3a6c75dc45da\",\"type\":\"BasicTicker\"}},\"id\":\"e7c21327-39c2-4d7a-9ab0-f1d0daa7603a\",\"type\":\"Grid\"},{\"attributes\":{\"source\":{\"id\":\"246a976c-d47b-4fa9-9814-fad3a873e21c\",\"type\":\"ColumnDataSource\"}},\"id\":\"05868ab3-c602-46be-a288-e422dcf99123\",\"type\":\"CDSView\"},{\"attributes\":{\"line_alpha\":0.1,\"line_color\":\"#1f77b4\",\"line_width\":2,\"x\":{\"field\":\"x\"},\"y\":{\"field\":\"y\"}},\"id\":\"7156af0f-a4ed-4685-8ad4-17a87f759d27\",\"type\":\"Line\"},{\"attributes\":{\"line_alpha\":0.5,\"line_width\":2,\"x\":{\"field\":\"x\"},\"y\":{\"field\":\"y\"}},\"id\":\"57837b92-8fa4-4517-809a-091cac2b71ee\",\"type\":\"Line\"},{\"attributes\":{\"callback\":null,\"data\":{\"x\":{\"__ndarray__\":\"AAAAAAAAFMCamZmZmZkTwDQzMzMzMxPAzszMzMzMEsBoZmZmZmYSwAIAAAAAABLAnJmZmZmZEcA2MzMzMzMRwNDMzMzMzBDAamZmZmZmEMAEAAAAAAAQwDwzMzMzMw/AcGZmZmZmDsCkmZmZmZkNwNjMzMzMzAzADAAAAAAADMBAMzMzMzMLwHRmZmZmZgrAqJmZmZmZCcDczMzMzMwIwBAAAAAAAAjARDMzMzMzB8B4ZmZmZmYGwKyZmZmZmQXA4MzMzMzMBMAUAAAAAAAEwEgzMzMzMwPAfGZmZmZmAsCwmZmZmZkBwOTMzMzMzADAGAAAAAAAAMCYZmZmZmb+vwDNzMzMzPy/aDMzMzMz+7/QmZmZmZn5vzgAAAAAAPi/oGZmZmZm9r8IzczMzMz0v3AzMzMzM/O/2JmZmZmZ8b9AAAAAAADwv1DNzMzMzOy/IJqZmZmZ6b/wZmZmZmbmv8AzMzMzM+O/kAAAAAAA4L/AmpmZmZnZv2A0MzMzM9O/AJyZmZmZyb+AnpmZmZm5vwAAAAAAABS9gJSZmZmZuT8Al5mZmZnJP+AxMzMzM9M/QJiZmZmZ2T+g/v/////fP4AyMzMzM+M/sGVmZmZm5j/gmJmZmZnpPxDMzMzMzOw/QP//////7z84mZmZmZnxP9AyMzMzM/M/aMzMzMzM9D8AZmZmZmb2P5j///////c/MJmZmZmZ+T/IMjMzMzP7P2DMzMzMzPw/+GVmZmZm/j+Q////////P5TMzMzMzABAYJmZmZmZAUAsZmZmZmYCQPgyMzMzMwNAxP//////A0CQzMzMzMwEQFyZmZmZmQVAKGZmZmZmBkD0MjMzMzMHQMD//////wdAjMzMzMzMCEBYmZmZmZkJQCRmZmZmZgpA8DIzMzMzC0C8//////8LQIjMzMzMzAxAVJmZmZmZDUAgZmZmZmYOQOwyMzMzMw9AuP//////D0BCZmZmZmYQQKjMzMzMzBBADjMzMzMzEUB0mZmZmZkRQNr//////xFAQGZmZmZmEkCmzMzMzMwSQAwzMzMzMxNAcpmZmZmZE0DY//////8TQA==\",\"dtype\":\"float64\",\"shape\":[101]},\"y\":{\"__ndarray__\":\"AAAAAACAVsCVGARWDhVVwPF8PzVeulPAaDvfT41vUsBSYhBYOTRRwAYAAAAACFDAsEW28/3UTcA7sp3vp7ZLwF1iEFg5tEnAwXJoke3MR8ASAAAAAABGwPwmMQisTETAKwRWDi2yQsBMtMh2vi9BwBWoxks3iT/AKAAAAADgPMAiqvHSTWI6wGLfT42XDjjAPdnO91PjNcAK0SLb+d4zwCQAAAAAADLA4p8aL91EMMA1001iEFgtwE4tsp3vZyrAwsDKoUW2J8A7AAAAAEAlwG1eukkMAiPAB05iEFj5IMB0g8DKoUUewGpYObTI9hrAVAAAAAAAGMCOYOXQIlsVwHxeukkMAhPAfN9PjZfuEMDcke18PzUOwGkAAAAAAAvAXdV46SYxCMB42/l+arwFwHzdJAaBlQPAKqabxCCwAcBAAAAAAAAAwANt5/up8fy/XScxCKwc+r8PxSCwcmj3v5nb+X5qvPS/fgAAAAAA8r99ku18PzXuv7iWQ4ts5+e/sDiJQWDl4L/ORots5/vRv5z//////y29xQGBlUOL1D/euXSTGATmPwi/yqFFtvE/O9FNYhBY+T8D//////8AQPTXzvdT4wVAsKjx0k1iC0A8U+Olm8QQQEQDVg4tMhRAEP//////F0BAYRBYOTQcQDoi2/l+aiBApmEQWDn0IkA0fD81XrolQDP/////vyhA9HfpJjEILEDFc5MYBJYvQPy/yqFFtjFA7pRDi2zHM0Bf//////81QPrFSzeJYThAY69yaJHtOkBGgsDKoaU9QKSCwMqhRUBAif/////PQUAmm8QgsHJDQM84tMh2LkVA2Lt0kxgER0CUB6wcWvRIQFj//////0pAeIYW2c4nTUBIgJVDi2xPQA1oke1851BAoiyyne8nUkCO/////3dTQHnSTWIQ2FRADpduEoNIVkD1PjVeuslXQNy7dJMYXFlAaf//////WkBI+6nx0rVcQCShRbbzfV5AUvHSTWIsYEC62M73UyNhQJ//////I2JA1t5PjZcuY0A076fGS0NkQIyp8dJNYmVAt4YW2c6LZkCF/////79nQA==\",\"dtype\":\"float64\",\"shape\":[101]}},\"selected\":{\"id\":\"eee48d68-b840-4d50-b2c1-b213a312aef6\",\"type\":\"Selection\"},\"selection_policy\":{\"id\":\"db591047-84b0-477a-92d0-6674119b154e\",\"type\":\"UnionRenderers\"}},\"id\":\"8db45a2c-78e8-4dca-8a7f-610bea614306\",\"type\":\"ColumnDataSource\"},{\"attributes\":{},\"id\":\"1b8dcb20-a4fe-4d63-8ff9-8a1d9f83c785\",\"type\":\"PanTool\"},{\"attributes\":{},\"id\":\"b5896f28-a0b7-43d4-8142-ace0c5c54ffa\",\"type\":\"BasicTickFormatter\"},{\"attributes\":{},\"id\":\"733ea1d0-d9c4-47da-929b-b10e47d2c9f2\",\"type\":\"WheelZoomTool\"},{\"attributes\":{\"overlay\":{\"id\":\"1742fab1-81b8-416b-9aa1-a4551c328f13\",\"type\":\"BoxAnnotation\"}},\"id\":\"ff599720-3333-435f-83e6-e6e95a4e7bbd\",\"type\":\"BoxZoomTool\"},{\"attributes\":{},\"id\":\"56b84f6c-18c2-498a-abe7-8032ac0a73c1\",\"type\":\"SaveTool\"},{\"attributes\":{},\"id\":\"efc30494-e046-4186-bced-306042b69fb7\",\"type\":\"ResetTool\"},{\"attributes\":{},\"id\":\"2a039441-4535-410f-8dde-b33ab905f52f\",\"type\":\"HelpTool\"},{\"attributes\":{\"bottom_units\":\"screen\",\"fill_alpha\":{\"value\":0.5},\"fill_color\":{\"value\":\"lightgrey\"},\"left_units\":\"screen\",\"level\":\"overlay\",\"line_alpha\":{\"value\":1.0},\"line_color\":{\"value\":\"black\"},\"line_dash\":[4,4],\"line_width\":{\"value\":2},\"plot\":null,\"render_mode\":\"css\",\"right_units\":\"screen\",\"top_units\":\"screen\"},\"id\":\"1742fab1-81b8-416b-9aa1-a4551c328f13\",\"type\":\"BoxAnnotation\"},{\"attributes\":{\"label\":{\"value\":\"f1 = x^3\"},\"renderers\":[{\"id\":\"f2149fe2-56fe-4302-824c-d8cba22ba464\",\"type\":\"GlyphRenderer\"}]},\"id\":\"6c3b5fc0-32bc-4690-94fa-ba813196ee5e\",\"type\":\"LegendItem\"},{\"attributes\":{\"callback\":null,\"data\":{\"x\":{\"__ndarray__\":\"AAAAAAAAFMCamZmZmZkTwDQzMzMzMxPAzszMzMzMEsBoZmZmZmYSwAIAAAAAABLAnJmZmZmZEcA2MzMzMzMRwNDMzMzMzBDAamZmZmZmEMAEAAAAAAAQwDwzMzMzMw/AcGZmZmZmDsCkmZmZmZkNwNjMzMzMzAzADAAAAAAADMBAMzMzMzMLwHRmZmZmZgrAqJmZmZmZCcDczMzMzMwIwBAAAAAAAAjARDMzMzMzB8B4ZmZmZmYGwKyZmZmZmQXA4MzMzMzMBMAUAAAAAAAEwEgzMzMzMwPAfGZmZmZmAsCwmZmZmZkBwOTMzMzMzADAGAAAAAAAAMCYZmZmZmb+vwDNzMzMzPy/aDMzMzMz+7/QmZmZmZn5vzgAAAAAAPi/oGZmZmZm9r8IzczMzMz0v3AzMzMzM/O/2JmZmZmZ8b9AAAAAAADwv1DNzMzMzOy/IJqZmZmZ6b/wZmZmZmbmv8AzMzMzM+O/kAAAAAAA4L/AmpmZmZnZv2A0MzMzM9O/AJyZmZmZyb+AnpmZmZm5vwAAAAAAABS9gJSZmZmZuT8Al5mZmZnJP+AxMzMzM9M/QJiZmZmZ2T+g/v/////fP4AyMzMzM+M/sGVmZmZm5j/gmJmZmZnpPxDMzMzMzOw/QP//////7z84mZmZmZnxP9AyMzMzM/M/aMzMzMzM9D8AZmZmZmb2P5j///////c/MJmZmZmZ+T/IMjMzMzP7P2DMzMzMzPw/+GVmZmZm/j+Q////////P5TMzMzMzABAYJmZmZmZAUAsZmZmZmYCQPgyMzMzMwNAxP//////A0CQzMzMzMwEQFyZmZmZmQVAKGZmZmZmBkD0MjMzMzMHQMD//////wdAjMzMzMzMCEBYmZmZmZkJQCRmZmZmZgpA8DIzMzMzC0C8//////8LQIjMzMzMzAxAVJmZmZmZDUAgZmZmZmYOQOwyMzMzMw9AuP//////D0BCZmZmZmYQQKjMzMzMzBBADjMzMzMzEUB0mZmZmZkRQNr//////xFAQGZmZmZmEkCmzMzMzMwSQAwzMzMzMxNAcpmZmZmZE0DY//////8TQA==\",\"dtype\":\"float64\",\"shape\":[101]},\"y\":{\"__ndarray__\":\"AAAAAAAALsBnZmZmZmYtwM7MzMzMzCzANTMzMzMzLMCcmZmZmZkrwAMAAAAAACvAamZmZmZmKsDRzMzMzMwpwDgzMzMzMynAn5mZmZmZKMAGAAAAAAAowG1mZmZmZifA1MzMzMzMJsA7MzMzMzMmwKKZmZmZmSXACQAAAAAAJcBwZmZmZmYkwNfMzMzMzCPAPjMzMzMzI8ClmZmZmZkiwAwAAAAAACLAc2ZmZmZmIcDazMzMzMwgwEEzMzMzMyDAUDMzMzMzH8AeAAAAAAAewOzMzMzMzBzAupmZmZmZG8CIZmZmZmYawFYzMzMzMxnAJAAAAAAAGMDyzMzMzMwWwMCZmZmZmRXAjmZmZmZmFMBcMzMzMzMTwCoAAAAAABLA+MzMzMzMEMCMMzMzMzMPwCjNzMzMzAzAxGZmZmZmCsBgAAAAAAAIwPyZmZmZmQXAmDMzMzMzA8A0zczMzMwAwKDNzMzMzPy/2AAAAAAA+L8QNDMzMzPzv5DOzMzMzOy/ADUzMzMz47/gNjMzMzPTvwAAAAAAAC69YC8zMzMz0z9AMTMzMzPjP9DKzMzMzOw/MDIzMzMz8z/4/v/////3P8DLzMzMzPw/RMzMzMzMAECoMjMzMzMDQAyZmZmZmQVAcP//////B0DUZWZmZmYKQDjMzMzMzAxAnDIzMzMzD0CAzMzMzMwQQLL//////xFA5DIzMzMzE0AWZmZmZmYUQEiZmZmZmRVAeszMzMzMFkCs//////8XQN4yMzMzMxlAEGZmZmZmGkBCmZmZmZkbQHTMzMzMzBxApv//////HUDYMjMzMzMfQAUzMzMzMyBAnszMzMzMIEA3ZmZmZmYhQND//////yFAaZmZmZmZIkACMzMzMzMjQJvMzMzMzCNANGZmZmZmJEDN//////8kQGaZmZmZmSVA/zIzMzMzJkCYzMzMzMwmQDFmZmZmZidAyv//////J0BjmZmZmZkoQPwyMzMzMylAlczMzMzMKUAuZmZmZmYqQMf//////ypAYJmZmZmZK0D5MjMzMzMsQJLMzMzMzCxAK2ZmZmZmLUDE//////8tQA==\",\"dtype\":\"float64\",\"shape\":[101]}},\"selected\":{\"id\":\"cad17d44-d6f1-413f-89e3-c45249fc1fca\",\"type\":\"Selection\"},\"selection_policy\":{\"id\":\"55f5c0c2-f0f3-4c90-8652-8bf220674dbc\",\"type\":\"UnionRenderers\"}},\"id\":\"84c99b39-1b4f-4a94-809b-57b2e5c74990\",\"type\":\"ColumnDataSource\"},{\"attributes\":{\"line_alpha\":0.5,\"line_color\":\"orange\",\"line_width\":2,\"x\":{\"field\":\"x\"},\"y\":{\"field\":\"y\"}},\"id\":\"dbd6097a-6b50-47ea-9ba5-1ae0f3b02bd0\",\"type\":\"Line\"},{\"attributes\":{\"line_alpha\":0.1,\"line_color\":\"#1f77b4\",\"line_width\":2,\"x\":{\"field\":\"x\"},\"y\":{\"field\":\"y\"}},\"id\":\"d960323a-47b2-40bb-a8a8-c5470ee14544\",\"type\":\"Line\"},{\"attributes\":{\"data_source\":{\"id\":\"7a266012-fde5-4b65-913d-3311a854864c\",\"type\":\"ColumnDataSource\"},\"glyph\":{\"id\":\"dbd6097a-6b50-47ea-9ba5-1ae0f3b02bd0\",\"type\":\"Line\"},\"hover_glyph\":null,\"muted_glyph\":null,\"nonselection_glyph\":{\"id\":\"d960323a-47b2-40bb-a8a8-c5470ee14544\",\"type\":\"Line\"},\"selection_glyph\":null,\"view\":{\"id\":\"3584f492-fd79-456d-a391-34a9b7d9fa1e\",\"type\":\"CDSView\"}},\"id\":\"bbe08e11-134a-4410-80e8-5b993ce69397\",\"type\":\"GlyphRenderer\"},{\"attributes\":{\"source\":{\"id\":\"7a266012-fde5-4b65-913d-3311a854864c\",\"type\":\"ColumnDataSource\"}},\"id\":\"3584f492-fd79-456d-a391-34a9b7d9fa1e\",\"type\":\"CDSView\"},{\"attributes\":{},\"id\":\"d66e63bd-d071-48d4-874c-b5f5c300c842\",\"type\":\"Selection\"},{\"attributes\":{},\"id\":\"3822802d-cf30-4027-bfb9-2b8c637d3356\",\"type\":\"UnionRenderers\"},{\"attributes\":{\"label\":{\"value\":\"f2 = 2x^2\"},\"renderers\":[{\"id\":\"bbe08e11-134a-4410-80e8-5b993ce69397\",\"type\":\"GlyphRenderer\"}]},\"id\":\"53041b6b-5609-4dc5-bb13-da907c3d05a5\",\"type\":\"LegendItem\"},{\"attributes\":{\"below\":[{\"id\":\"52640b41-c0a6-4033-8a0b-d22f275a0ecd\",\"type\":\"LinearAxis\"}],\"left\":[{\"id\":\"49325ee1-aac6-4cf5-a0c7-9d1adb05dd3b\",\"type\":\"LinearAxis\"}],\"plot_height\":400,\"plot_width\":700,\"renderers\":[{\"id\":\"52640b41-c0a6-4033-8a0b-d22f275a0ecd\",\"type\":\"LinearAxis\"},{\"id\":\"dc1e4da6-9172-4a3a-a9e7-982c3be02547\",\"type\":\"Grid\"},{\"id\":\"49325ee1-aac6-4cf5-a0c7-9d1adb05dd3b\",\"type\":\"LinearAxis\"},{\"id\":\"97cd8c87-f881-4b76-8276-d1495a907e79\",\"type\":\"Grid\"},{\"id\":\"03a18b47-bdb5-4d60-811a-21a9832338bb\",\"type\":\"BoxAnnotation\"},{\"id\":\"0f0497c6-c7c8-41ac-badc-f3f753da7ec0\",\"type\":\"GlyphRenderer\"},{\"id\":\"c6f2fc39-ebf9-4cb7-aa51-b23688eab5e9\",\"type\":\"GlyphRenderer\"},{\"id\":\"2ffd9289-c09f-4fb0-9299-1f3fbb1ded69\",\"type\":\"GlyphRenderer\"},{\"id\":\"a23da218-05ae-488a-8252-b370d5a4ebab\",\"type\":\"GlyphRenderer\"},{\"id\":\"4598b918-11dc-4447-b7f8-79aa824b5ad6\",\"type\":\"GlyphRenderer\"},{\"id\":\"343b4e22-dac7-435e-b785-1450a4f91e0c\",\"type\":\"GlyphRenderer\"},{\"id\":\"9b7f4f3b-409a-47d7-919d-d517e204b977\",\"type\":\"GlyphRenderer\"},{\"id\":\"c50e938e-f994-4580-afc0-f12dde1c817f\",\"type\":\"GlyphRenderer\"},{\"id\":\"19015bb5-0f01-4c50-a7f1-c93c53d6fc9e\",\"type\":\"GlyphRenderer\"},{\"id\":\"5ea6f0a5-ece1-4bbb-9d93-2b3e32f4fdfe\",\"type\":\"GlyphRenderer\"},{\"id\":\"d413aded-224b-4b1e-9795-c659c40e8057\",\"type\":\"GlyphRenderer\"},{\"id\":\"ee1e272b-a03f-4540-af65-174a0a4700f7\",\"type\":\"GlyphRenderer\"},{\"id\":\"58370ae5-3821-47f4-97a7-d3a4fcaf2389\",\"type\":\"GlyphRenderer\"},{\"id\":\"51157270-158d-485e-95b6-633b5f0b1863\",\"type\":\"GlyphRenderer\"},{\"id\":\"edfef204-e0b0-4b1c-a321-98dd62fcf6e4\",\"type\":\"GlyphRenderer\"},{\"id\":\"726af5a8-3ccb-4823-9ee6-4b106d80eeef\",\"type\":\"GlyphRenderer\"},{\"id\":\"9dd06eea-1bfe-40ee-af50-ff2568401260\",\"type\":\"GlyphRenderer\"},{\"id\":\"70fa5aa7-5929-4d3f-bffe-3b1dd8a9b1df\",\"type\":\"GlyphRenderer\"},{\"id\":\"9f383a66-c7bb-4ba9-8812-7feddcb322fe\",\"type\":\"GlyphRenderer\"},{\"id\":\"9d9d0b1b-bb51-4a96-822a-b74d92eebd1a\",\"type\":\"GlyphRenderer\"},{\"id\":\"81930f0d-a87e-4c88-a338-8946f6b7131e\",\"type\":\"GlyphRenderer\"},{\"id\":\"03a11df9-4feb-4581-9c0b-584fc217eec4\",\"type\":\"GlyphRenderer\"},{\"id\":\"d7d7eb46-d696-414f-8cae-3415a4801f30\",\"type\":\"GlyphRenderer\"},{\"id\":\"3ba0b251-376d-4416-8397-49cc81f7f0b6\",\"type\":\"GlyphRenderer\"},{\"id\":\"1737c3bf-ceb3-414f-a8b8-69c868a98802\",\"type\":\"GlyphRenderer\"},{\"id\":\"15efd35e-af55-4bc1-8b02-5ce90d264abe\",\"type\":\"GlyphRenderer\"},{\"id\":\"84095f9e-7f48-445b-85c2-e4b6f97234a9\",\"type\":\"GlyphRenderer\"},{\"id\":\"f8cd314d-c443-4863-9fa3-e003c38a0456\",\"type\":\"GlyphRenderer\"},{\"id\":\"f4758521-8942-4407-84b0-78668d80b1e9\",\"type\":\"GlyphRenderer\"},{\"id\":\"bab6c812-b733-4f45-af42-ec100f9c2710\",\"type\":\"GlyphRenderer\"},{\"id\":\"a13f945f-f6be-450e-9f12-801f1ae77c43\",\"type\":\"GlyphRenderer\"},{\"id\":\"692d22ba-3dd0-4374-a85c-f06bc1f0bcf2\",\"type\":\"GlyphRenderer\"},{\"id\":\"d4c8649b-033d-4f18-9b6a-f2f824d9152d\",\"type\":\"GlyphRenderer\"},{\"id\":\"26d549c8-0fe2-4621-be6b-ab6dc6d2eebb\",\"type\":\"GlyphRenderer\"}],\"title\":{\"id\":\"69f5987c-22b3-4e9c-8d10-3501605b6ee5\",\"type\":\"Title\"},\"toolbar\":{\"id\":\"653ef2cd-0858-4052-ac7f-9bfcb9fa0443\",\"type\":\"Toolbar\"},\"toolbar_location\":\"below\",\"x_range\":{\"id\":\"950fb3f1-230e-4ec8-90fe-232ffdb9f785\",\"type\":\"DataRange1d\"},\"x_scale\":{\"id\":\"349056fd-db65-4449-be57-86332869260f\",\"type\":\"LinearScale\"},\"y_range\":{\"id\":\"6878ff36-ce78-49b0-98f7-3b9e45f63d33\",\"type\":\"DataRange1d\"},\"y_scale\":{\"id\":\"81512c8d-c1aa-4cd9-8187-438b7036281a\",\"type\":\"LinearScale\"}},\"id\":\"2356e52d-9b36-4df5-b2f6-c539892938aa\",\"subtype\":\"Figure\",\"type\":\"Plot\"},{\"attributes\":{\"line_alpha\":0.5,\"line_color\":\"green\",\"line_width\":2,\"x\":{\"field\":\"x\"},\"y\":{\"field\":\"y\"}},\"id\":\"f88a21db-8656-4569-80c3-2e3aee551060\",\"type\":\"Line\"},{\"attributes\":{\"line_alpha\":0.1,\"line_color\":\"#1f77b4\",\"line_width\":2,\"x\":{\"field\":\"x\"},\"y\":{\"field\":\"y\"}},\"id\":\"38ae9c8f-85f4-4bdc-a9df-b01c6da6a882\",\"type\":\"Line\"},{\"attributes\":{\"data_source\":{\"id\":\"84c99b39-1b4f-4a94-809b-57b2e5c74990\",\"type\":\"ColumnDataSource\"},\"glyph\":{\"id\":\"f88a21db-8656-4569-80c3-2e3aee551060\",\"type\":\"Line\"},\"hover_glyph\":null,\"muted_glyph\":null,\"nonselection_glyph\":{\"id\":\"38ae9c8f-85f4-4bdc-a9df-b01c6da6a882\",\"type\":\"Line\"},\"selection_glyph\":null,\"view\":{\"id\":\"eb31116b-aac4-4c3d-995d-4bc6013763bf\",\"type\":\"CDSView\"}},\"id\":\"1cb95e11-ee41-4304-b502-87abeff21982\",\"type\":\"GlyphRenderer\"},{\"attributes\":{\"source\":{\"id\":\"84c99b39-1b4f-4a94-809b-57b2e5c74990\",\"type\":\"ColumnDataSource\"}},\"id\":\"eb31116b-aac4-4c3d-995d-4bc6013763bf\",\"type\":\"CDSView\"},{\"attributes\":{},\"id\":\"ac184b93-b634-4456-8283-277b160ddb47\",\"type\":\"Selection\"},{\"attributes\":{},\"id\":\"5ce26e80-1f28-4c3c-ad4c-5240afa4eedd\",\"type\":\"UnionRenderers\"},{\"attributes\":{\"label\":{\"value\":\"f2 = 3x\"},\"renderers\":[{\"id\":\"1cb95e11-ee41-4304-b502-87abeff21982\",\"type\":\"GlyphRenderer\"}]},\"id\":\"85523723-39d5-4811-bbc9-3197f7589442\",\"type\":\"LegendItem\"},{\"attributes\":{\"callback\":null,\"data\":{\"x\":[-5,-5],\"y\":[-125,0]},\"selected\":{\"id\":\"897abb53-7e3d-4b60-bc75-5adbb26cbba8\",\"type\":\"Selection\"},\"selection_policy\":{\"id\":\"984c047f-aeac-4c63-94c6-34d2fb74d71b\",\"type\":\"UnionRenderers\"}},\"id\":\"d308391a-b29d-42d4-b26b-53d55512c160\",\"type\":\"ColumnDataSource\"},{\"attributes\":{\"data_source\":{\"id\":\"d308391a-b29d-42d4-b26b-53d55512c160\",\"type\":\"ColumnDataSource\"},\"glyph\":{\"id\":\"51f7f1f1-e6b9-4d42-ace7-a42b46af99ca\",\"type\":\"Line\"},\"hover_glyph\":null,\"muted_glyph\":null,\"nonselection_glyph\":{\"id\":\"a7c44d3b-a1ae-47ad-bf14-ccdbbdcae631\",\"type\":\"Line\"},\"selection_glyph\":null,\"view\":{\"id\":\"11bc0f44-2594-4578-9258-60b3f4ac3909\",\"type\":\"CDSView\"}},\"id\":\"0f0497c6-c7c8-41ac-badc-f3f753da7ec0\",\"type\":\"GlyphRenderer\"},{\"attributes\":{\"callback\":null},\"id\":\"950fb3f1-230e-4ec8-90fe-232ffdb9f785\",\"type\":\"DataRange1d\"},{\"attributes\":{\"active_drag\":\"auto\",\"active_inspect\":\"auto\",\"active_multi\":null,\"active_scroll\":\"auto\",\"active_tap\":\"auto\",\"tools\":[{\"id\":\"7316928d-bf69-4766-a610-3885e519164b\",\"type\":\"PanTool\"},{\"id\":\"a199a468-80ab-437f-b7e9-782b750963b1\",\"type\":\"WheelZoomTool\"},{\"id\":\"86e68cf0-02a6-4cb9-b1ca-792d211cbc7c\",\"type\":\"BoxZoomTool\"},{\"id\":\"5bd20762-ae65-47e2-9488-cbafaddf6ef7\",\"type\":\"SaveTool\"},{\"id\":\"0778b5f6-7128-4cdb-85bc-887264d1a127\",\"type\":\"ResetTool\"},{\"id\":\"f02c6fa2-d829-436b-a3b8-fb31a6d8768a\",\"type\":\"HelpTool\"}]},\"id\":\"653ef2cd-0858-4052-ac7f-9bfcb9fa0443\",\"type\":\"Toolbar\"},{\"attributes\":{\"line_alpha\":0.4,\"line_width\":5,\"x\":{\"field\":\"x\"},\"y\":{\"field\":\"y\"}},\"id\":\"51f7f1f1-e6b9-4d42-ace7-a42b46af99ca\",\"type\":\"Line\"},{\"attributes\":{},\"id\":\"349056fd-db65-4449-be57-86332869260f\",\"type\":\"LinearScale\"},{\"attributes\":{\"callback\":null},\"id\":\"6878ff36-ce78-49b0-98f7-3b9e45f63d33\",\"type\":\"DataRange1d\"},{\"attributes\":{},\"id\":\"81512c8d-c1aa-4cd9-8187-438b7036281a\",\"type\":\"LinearScale\"},{\"attributes\":{\"plot\":{\"id\":\"2356e52d-9b36-4df5-b2f6-c539892938aa\",\"subtype\":\"Figure\",\"type\":\"Plot\"},\"ticker\":{\"id\":\"9ca447bd-242e-4749-8b97-adb0764902bf\",\"type\":\"BasicTicker\"}},\"id\":\"dc1e4da6-9172-4a3a-a9e7-982c3be02547\",\"type\":\"Grid\"},{\"attributes\":{\"axis_label\":\"X\",\"formatter\":{\"id\":\"67c2e5ce-c5d2-4186-aa28-2534f647b363\",\"type\":\"BasicTickFormatter\"},\"plot\":{\"id\":\"2356e52d-9b36-4df5-b2f6-c539892938aa\",\"subtype\":\"Figure\",\"type\":\"Plot\"},\"ticker\":{\"id\":\"9ca447bd-242e-4749-8b97-adb0764902bf\",\"type\":\"BasicTicker\"}},\"id\":\"52640b41-c0a6-4033-8a0b-d22f275a0ecd\",\"type\":\"LinearAxis\"},{\"attributes\":{},\"id\":\"9ca447bd-242e-4749-8b97-adb0764902bf\",\"type\":\"BasicTicker\"},{\"attributes\":{\"axis_label\":\"f(X)\",\"formatter\":{\"id\":\"179112db-88c0-446f-a680-3ebadd2a224c\",\"type\":\"BasicTickFormatter\"},\"plot\":{\"id\":\"2356e52d-9b36-4df5-b2f6-c539892938aa\",\"subtype\":\"Figure\",\"type\":\"Plot\"},\"ticker\":{\"id\":\"4e38cc75-b6cc-403e-9cb9-be20c16dcc52\",\"type\":\"BasicTicker\"}},\"id\":\"49325ee1-aac6-4cf5-a0c7-9d1adb05dd3b\",\"type\":\"LinearAxis\"},{\"attributes\":{},\"id\":\"4e38cc75-b6cc-403e-9cb9-be20c16dcc52\",\"type\":\"BasicTicker\"},{\"attributes\":{\"dimension\":1,\"plot\":{\"id\":\"2356e52d-9b36-4df5-b2f6-c539892938aa\",\"subtype\":\"Figure\",\"type\":\"Plot\"},\"ticker\":{\"id\":\"4e38cc75-b6cc-403e-9cb9-be20c16dcc52\",\"type\":\"BasicTicker\"}},\"id\":\"97cd8c87-f881-4b76-8276-d1495a907e79\",\"type\":\"Grid\"},{\"attributes\":{\"line_alpha\":0.1,\"line_color\":\"#1f77b4\",\"line_width\":5,\"x\":{\"field\":\"x\"},\"y\":{\"field\":\"y\"}},\"id\":\"a7c44d3b-a1ae-47ad-bf14-ccdbbdcae631\",\"type\":\"Line\"},{\"attributes\":{\"callback\":null,\"data\":{\"x\":[-5,-5],\"y\":[-75,-125]},\"selected\":{\"id\":\"30059208-a9e4-4df3-9e07-1e74810690f6\",\"type\":\"Selection\"},\"selection_policy\":{\"id\":\"2dd0ec25-aaef-4761-96dc-f7dac9947871\",\"type\":\"UnionRenderers\"}},\"id\":\"b2b8e409-d009-49bd-b560-c28d65933659\",\"type\":\"ColumnDataSource\"},{\"attributes\":{\"line_color\":\"steelblue\",\"line_width\":3,\"x\":{\"field\":\"x\"},\"y\":{\"field\":\"y\"}},\"id\":\"2d5a9c1d-c012-44dd-a5b5-7137ccbe806d\",\"type\":\"Line\"},{\"attributes\":{\"source\":{\"id\":\"d308391a-b29d-42d4-b26b-53d55512c160\",\"type\":\"ColumnDataSource\"}},\"id\":\"11bc0f44-2594-4578-9258-60b3f4ac3909\",\"type\":\"CDSView\"},{\"attributes\":{},\"id\":\"7316928d-bf69-4766-a610-3885e519164b\",\"type\":\"PanTool\"},{\"attributes\":{},\"id\":\"a199a468-80ab-437f-b7e9-782b750963b1\",\"type\":\"WheelZoomTool\"}],\"root_ids\":[\"5ccc0840-3c4b-4185-a7bd-acae1c4cd972\"]},\"title\":\"Bokeh Application\",\"version\":\"0.13.0\"}};\n",
       "  var render_items = [{\"docid\":\"a93692c2-f28f-45cb-a3ea-802da7ae02f9\",\"roots\":{\"5ccc0840-3c4b-4185-a7bd-acae1c4cd972\":\"e1c13fbb-7742-4ef5-b9d9-f87b1f6523f0\"}}];\n",
       "  root.Bokeh.embed.embed_items_notebook(docs_json, render_items);\n",
       "\n",
       "  }\n",
       "  if (root.Bokeh !== undefined) {\n",
       "    embed_document(root);\n",
       "  } else {\n",
       "    var attempts = 0;\n",
       "    var timer = setInterval(function(root) {\n",
       "      if (root.Bokeh !== undefined) {\n",
       "        embed_document(root);\n",
       "        clearInterval(timer);\n",
       "      }\n",
       "      attempts++;\n",
       "      if (attempts > 100) {\n",
       "        console.log(\"Bokeh: ERROR: Unable to run BokehJS code because BokehJS library is missing\")\n",
       "        clearInterval(timer);\n",
       "      }\n",
       "    }, 10, root)\n",
       "  }\n",
       "})(window);"
      ],
      "application/vnd.bokehjs_exec.v0+json": ""
     },
     "metadata": {
      "application/vnd.bokehjs_exec.v0+json": {
       "id": "5ccc0840-3c4b-4185-a7bd-acae1c4cd972"
      }
     },
     "output_type": "display_data"
    }
   ],
   "source": [
    "# Specify a range of x\n",
    "x = np.arange(-5,5+.1,.1)\n",
    "\n",
    "# Plot each of the component Functions \n",
    "p1 = plot(700,400,title=\"Each Function Individually\")\n",
    "p1.line(x,f_comp1(x),\n",
    "        color='black',line_width=2,alpha=.5,\n",
    "        legend ='f1 = x^3')\n",
    "p1.line(x,f_comp2(x),\n",
    "        color='orange',line_width=2,alpha=.5,\n",
    "        legend ='f2 = 2x^2')\n",
    "p1.line(x,f_comp3(x),\n",
    "        color='green',line_width=2,alpha=.5,\n",
    "        legend ='f2 = 3x')\n",
    "p1.legend.location = 'top_center'\n",
    "\n",
    "\n",
    "# Plot the combination of the component functions\n",
    "p2 = plot(700,400,title=\"Combined Components\")\n",
    "for i in range(-5,5+1):  \n",
    "    p2.line([i,i], # X-axis\n",
    "            [f_comp1(i),0], # Y-Axis\n",
    "            color='black',line_width=5,alpha=.4)\n",
    "    p2.line([i,i], # X-axis\n",
    "            [f_comp1(i)+f_comp2(i),f_comp1(i)], # Y-Axis\n",
    "            color='orange',line_width=5,alpha=.4)\n",
    "    p2.line([i,i], # X-axis\n",
    "            [f_comp1(i)+f_comp2(i)+f_comp3(i),f_comp1(i)+f_comp2(i)], # Y-Axis\n",
    "            color='green',line_width=5,alpha=.6)\n",
    "p2.line(x,f(x),color='steelblue',line_width=3)    \n",
    "\n",
    "# Print the two functions side by side\n",
    "show(column(p1,p2))"
   ]
  },
  {
   "cell_type": "markdown",
   "metadata": {},
   "source": [
    "Likewise, this extends to the derivatives as we are are altering the rate of change when altering the form of the function."
   ]
  },
  {
   "cell_type": "code",
   "execution_count": 7,
   "metadata": {},
   "outputs": [
    {
     "data": {
      "text/html": [
       "\n",
       "\n",
       "\n",
       "\n",
       "\n",
       "\n",
       "  <div class=\"bk-root\" id=\"fb6f44e0-30a2-4b49-8ce5-f8ab61f85ead\"></div>\n"
      ]
     },
     "metadata": {},
     "output_type": "display_data"
    },
    {
     "data": {
      "application/javascript": [
       "(function(root) {\n",
       "  function embed_document(root) {\n",
       "    \n",
       "  var docs_json = {\"6358b78b-a826-454d-bc41-e71d93b39c77\":{\"roots\":{\"references\":[{\"attributes\":{\"line_alpha\":0.1,\"line_color\":\"#1f77b4\",\"line_width\":5,\"x\":{\"field\":\"x\"},\"y\":{\"field\":\"y\"}},\"id\":\"e04e99ad-67d6-4d7e-952b-aebdb32bf7ff\",\"type\":\"Line\"},{\"attributes\":{\"data_source\":{\"id\":\"2198e893-791d-49e9-94a1-4f0369fbe991\",\"type\":\"ColumnDataSource\"},\"glyph\":{\"id\":\"28c589bc-2674-4f25-b813-8fd357459529\",\"type\":\"Line\"},\"hover_glyph\":null,\"muted_glyph\":null,\"nonselection_glyph\":{\"id\":\"1a260c12-6ea2-4220-94f9-242ab89d65a0\",\"type\":\"Line\"},\"selection_glyph\":null,\"view\":{\"id\":\"34c933d7-6b8f-4f83-bbe1-e64e468d51b4\",\"type\":\"CDSView\"}},\"id\":\"1ecc3151-3012-4174-980f-105f0fa07949\",\"type\":\"GlyphRenderer\"},{\"attributes\":{\"source\":{\"id\":\"2198e893-791d-49e9-94a1-4f0369fbe991\",\"type\":\"ColumnDataSource\"}},\"id\":\"34c933d7-6b8f-4f83-bbe1-e64e468d51b4\",\"type\":\"CDSView\"},{\"attributes\":{},\"id\":\"3389df5e-9a54-4b13-b487-ab416a1d64a7\",\"type\":\"Selection\"},{\"attributes\":{},\"id\":\"bfe1add2-401b-4db2-8d57-c48bd32bab92\",\"type\":\"UnionRenderers\"},{\"attributes\":{\"label\":{\"value\":\"df3 = 3\"},\"renderers\":[{\"id\":\"1ecc3151-3012-4174-980f-105f0fa07949\",\"type\":\"GlyphRenderer\"}]},\"id\":\"4bcea4ba-5d5f-42ef-92d8-c48d68b74e00\",\"type\":\"LegendItem\"},{\"attributes\":{\"source\":{\"id\":\"ca128553-027f-412a-abb4-4b1b31c59ef7\",\"type\":\"ColumnDataSource\"}},\"id\":\"f83ab459-c7fa-4f08-9c4d-cd3c56b327ef\",\"type\":\"CDSView\"},{\"attributes\":{\"line_alpha\":0.1,\"line_color\":\"#1f77b4\",\"line_width\":3,\"x\":{\"field\":\"x\"},\"y\":{\"field\":\"y\"}},\"id\":\"7a8bce34-6ced-462e-beb9-6102a31baa66\",\"type\":\"Line\"},{\"attributes\":{\"plot\":null,\"text\":\"The Derivatives Combined\"},\"id\":\"26946fbc-00f3-45de-a4a0-cb7ef089d9e9\",\"type\":\"Title\"},{\"attributes\":{\"callback\":null},\"id\":\"f3e889b2-d5d9-4866-9e46-db459d1e808a\",\"type\":\"DataRange1d\"},{\"attributes\":{\"active_drag\":\"auto\",\"active_inspect\":\"auto\",\"active_multi\":null,\"active_scroll\":\"auto\",\"active_tap\":\"auto\",\"tools\":[{\"id\":\"2a437dc9-b00b-458d-a2af-df0beb07990d\",\"type\":\"PanTool\"},{\"id\":\"a3b1ba13-8a98-42ba-b59c-9345a05f3f8f\",\"type\":\"WheelZoomTool\"},{\"id\":\"798bbb30-908e-4a1b-b494-f260aeb8a508\",\"type\":\"BoxZoomTool\"},{\"id\":\"fc92d169-83c8-47c3-8d6a-6e061c1f0943\",\"type\":\"SaveTool\"},{\"id\":\"ecb0c219-5ce3-43a8-ae89-817ba87d7ec3\",\"type\":\"ResetTool\"},{\"id\":\"88f16a44-9d43-42d6-9e00-4fff5b6124c4\",\"type\":\"HelpTool\"}]},\"id\":\"5aac3c9c-d15d-45d9-b1f2-a06a372cd7a1\",\"type\":\"Toolbar\"},{\"attributes\":{\"line_alpha\":0.1,\"line_color\":\"#1f77b4\",\"line_width\":5,\"x\":{\"field\":\"x\"},\"y\":{\"field\":\"y\"}},\"id\":\"4dc6c17c-1bbb-4757-bdcf-f1186daa0021\",\"type\":\"Line\"},{\"attributes\":{},\"id\":\"8d65529e-59ae-42a5-9146-fdf9bf7cce99\",\"type\":\"LinearScale\"},{\"attributes\":{\"callback\":null},\"id\":\"3c7f48f3-5ea1-43c8-9226-496a36a320a4\",\"type\":\"DataRange1d\"},{\"attributes\":{},\"id\":\"e320fd53-9af2-487b-bb0e-0c274f7b1ae5\",\"type\":\"LinearScale\"},{\"attributes\":{\"plot\":{\"id\":\"0767930c-853e-47ca-b496-198f95674f0c\",\"subtype\":\"Figure\",\"type\":\"Plot\"},\"ticker\":{\"id\":\"5b03cc24-8fcc-4826-a7a3-9b04888a6589\",\"type\":\"BasicTicker\"}},\"id\":\"4a08f9f8-0963-4914-b581-1dffd96be67a\",\"type\":\"Grid\"},{\"attributes\":{\"axis_label\":\"X\",\"formatter\":{\"id\":\"2d39f957-4838-4457-bb3a-1b93cc2371f4\",\"type\":\"BasicTickFormatter\"},\"plot\":{\"id\":\"0767930c-853e-47ca-b496-198f95674f0c\",\"subtype\":\"Figure\",\"type\":\"Plot\"},\"ticker\":{\"id\":\"5b03cc24-8fcc-4826-a7a3-9b04888a6589\",\"type\":\"BasicTicker\"}},\"id\":\"24076a89-c3f6-478c-bbf0-06c6639b6146\",\"type\":\"LinearAxis\"},{\"attributes\":{},\"id\":\"5b03cc24-8fcc-4826-a7a3-9b04888a6589\",\"type\":\"BasicTicker\"},{\"attributes\":{\"axis_label\":\"f(X)\",\"formatter\":{\"id\":\"b7515e60-9893-4ba2-a32f-5116666370ee\",\"type\":\"BasicTickFormatter\"},\"plot\":{\"id\":\"0767930c-853e-47ca-b496-198f95674f0c\",\"subtype\":\"Figure\",\"type\":\"Plot\"},\"ticker\":{\"id\":\"f81fcb13-f297-44a0-b734-05b223ccc165\",\"type\":\"BasicTicker\"}},\"id\":\"f77a52b1-bee3-4091-8c28-6481de28a6b2\",\"type\":\"LinearAxis\"},{\"attributes\":{},\"id\":\"f81fcb13-f297-44a0-b734-05b223ccc165\",\"type\":\"BasicTicker\"},{\"attributes\":{\"dimension\":1,\"plot\":{\"id\":\"0767930c-853e-47ca-b496-198f95674f0c\",\"subtype\":\"Figure\",\"type\":\"Plot\"},\"ticker\":{\"id\":\"f81fcb13-f297-44a0-b734-05b223ccc165\",\"type\":\"BasicTicker\"}},\"id\":\"acb2f6d1-4210-4fcb-9b2c-27ff2ae52060\",\"type\":\"Grid\"},{\"attributes\":{\"data_source\":{\"id\":\"ca128553-027f-412a-abb4-4b1b31c59ef7\",\"type\":\"ColumnDataSource\"},\"glyph\":{\"id\":\"63235481-dbc8-4a49-abce-00a0b5d716fe\",\"type\":\"Line\"},\"hover_glyph\":null,\"muted_glyph\":null,\"nonselection_glyph\":{\"id\":\"4dc6c17c-1bbb-4757-bdcf-f1186daa0021\",\"type\":\"Line\"},\"selection_glyph\":null,\"view\":{\"id\":\"f83ab459-c7fa-4f08-9c4d-cd3c56b327ef\",\"type\":\"CDSView\"}},\"id\":\"f8b78ac8-7482-4c20-be33-47e006ed9cbb\",\"type\":\"GlyphRenderer\"},{\"attributes\":{\"line_alpha\":0.4,\"line_width\":5,\"x\":{\"field\":\"x\"},\"y\":{\"field\":\"y\"}},\"id\":\"63235481-dbc8-4a49-abce-00a0b5d716fe\",\"type\":\"Line\"},{\"attributes\":{\"callback\":null,\"data\":{\"x\":{\"__ndarray__\":\"AAAAAAAAFMCamZmZmZkTwDQzMzMzMxPAzszMzMzMEsBoZmZmZmYSwAIAAAAAABLAnJmZmZmZEcA2MzMzMzMRwNDMzMzMzBDAamZmZmZmEMAEAAAAAAAQwDwzMzMzMw/AcGZmZmZmDsCkmZmZmZkNwNjMzMzMzAzADAAAAAAADMBAMzMzMzMLwHRmZmZmZgrAqJmZmZmZCcDczMzMzMwIwBAAAAAAAAjARDMzMzMzB8B4ZmZmZmYGwKyZmZmZmQXA4MzMzMzMBMAUAAAAAAAEwEgzMzMzMwPAfGZmZmZmAsCwmZmZmZkBwOTMzMzMzADAGAAAAAAAAMCYZmZmZmb+vwDNzMzMzPy/aDMzMzMz+7/QmZmZmZn5vzgAAAAAAPi/oGZmZmZm9r8IzczMzMz0v3AzMzMzM/O/2JmZmZmZ8b9AAAAAAADwv1DNzMzMzOy/IJqZmZmZ6b/wZmZmZmbmv8AzMzMzM+O/kAAAAAAA4L/AmpmZmZnZv2A0MzMzM9O/AJyZmZmZyb+AnpmZmZm5vwAAAAAAABS9gJSZmZmZuT8Al5mZmZnJP+AxMzMzM9M/QJiZmZmZ2T+g/v/////fP4AyMzMzM+M/sGVmZmZm5j/gmJmZmZnpPxDMzMzMzOw/QP//////7z84mZmZmZnxP9AyMzMzM/M/aMzMzMzM9D8AZmZmZmb2P5j///////c/MJmZmZmZ+T/IMjMzMzP7P2DMzMzMzPw/+GVmZmZm/j+Q////////P5TMzMzMzABAYJmZmZmZAUAsZmZmZmYCQPgyMzMzMwNAxP//////A0CQzMzMzMwEQFyZmZmZmQVAKGZmZmZmBkD0MjMzMzMHQMD//////wdAjMzMzMzMCEBYmZmZmZkJQCRmZmZmZgpA8DIzMzMzC0C8//////8LQIjMzMzMzAxAVJmZmZmZDUAgZmZmZmYOQOwyMzMzMw9AuP//////D0BCZmZmZmYQQKjMzMzMzBBADjMzMzMzEUB0mZmZmZkRQNr//////xFAQGZmZmZmEkCmzMzMzMwSQAwzMzMzMxNAcpmZmZmZE0DY//////8TQA==\",\"dtype\":\"float64\",\"shape\":[101]},\"y\":{\"__ndarray__\":\"AAAAAAAATUDZo3A9CrdLQPgoXI/CdUpAYY/C9Sg8SUAQ16NwPQpIQAcAAAAA4EZARArXo3C9RUDJ9Shcj6JEQJjC9Shcj0NArXA9CteDQkAKAAAAAIBBQK9wPQrXg0BANoXrUbgeP0Ce61G4HkU9QJQUrkfhejtAGgAAAADAOUAurkfhehQ4QNIehetReDZAB1K4HoXrNEDKR+F6FG4zQBwAAAAAADJA/XoUrkehMEDccD0K16MuQNxwPQrXIyxA+vUoXI/CKUA4AAAAAIAnQJKPwvUoXCVADKRwPQpXI0CkPQrXo3AhQLi4HoXrUR9AYAAAAAAAHEBIUrgehesYQGyuR+F6FBZAzBSuR+F6E0BrhetRuB4RQIwAAAAAAA5AvArXo3A9CkBmKVyPwvUGQIpcj8L1KARAKKRwPQrXAUBAAAAAAAAAQKThehSuR/0/u+tRuB6F+z/GHoXrUbj6P8V6FK5H4fo/uP//////+z+frUfhehT+PzzC9ShcjwBAJML1KFyPAkCF1qNwPQoFQGD//////wdAtTwK16NwC0CEjsL1KFwPQGZ6FK5H4RFAyLcehetRFEBm//////8WQEFRuB6F6xlAWq1H4XoUHUDYCdejcD0gQCDC9ShcDyJAiP//////I0AOwvUoXA8mQLIJ16NwPShAdtajcD2KKkBXKFyPwvUsQFf/////fy9Au61H4XoUMUBZHoXrUXgyQIdRuB6F6zNAREfhehRuNUCQ//////82QGx6FK5HoThA1rcehetROkDQtx6F6xE8QFl6FK5H4T1Acv////+/P0CMo3A9CtdAQKgoXI/C1UFAC4/C9SjcQkC21qNwPepDQKj//////0RA4gnXo3AdRkBk9Shcj0JHQC3C9Shcb0hAPXA9CtejSUCW/////99KQDZwPQrXI0xAHsL1KFxvTUBN9Shcj8JOQOKE61G4DlBAwf////+/UEBE61G4HnVRQGtH4XoULlJANhSuR+HqUkCkUbgehatTQLb/////b1RAbR6F61E4VUDGrUfhegRWQMStR+F61FZAZh6F61GoV0Cr/////39YQA==\",\"dtype\":\"float64\",\"shape\":[101]}},\"selected\":{\"id\":\"dfbe6604-3685-4bcf-8bfd-517a4c59058e\",\"type\":\"Selection\"},\"selection_policy\":{\"id\":\"d3b196dd-d584-4f83-bf94-d72c3e3943f7\",\"type\":\"UnionRenderers\"}},\"id\":\"5063d704-da4d-4f8d-a7ed-358758243e1b\",\"type\":\"ColumnDataSource\"},{\"attributes\":{\"line_alpha\":0.4,\"line_color\":\"orange\",\"line_width\":5,\"x\":{\"field\":\"x\"},\"y\":{\"field\":\"y\"}},\"id\":\"707e6595-5019-4b57-a2c9-7076181d9013\",\"type\":\"Line\"},{\"attributes\":{},\"id\":\"2a437dc9-b00b-458d-a2af-df0beb07990d\",\"type\":\"PanTool\"},{\"attributes\":{\"callback\":null,\"data\":{\"x\":[-5,-5],\"y\":[55,75]},\"selected\":{\"id\":\"130c6208-3c88-4e26-9b04-9256adc2b366\",\"type\":\"Selection\"},\"selection_policy\":{\"id\":\"5caa8a8c-5d73-45ce-90f9-a2c2f1a835f3\",\"type\":\"UnionRenderers\"}},\"id\":\"abee6404-6b64-4e18-882c-347411334c42\",\"type\":\"ColumnDataSource\"},{\"attributes\":{},\"id\":\"a3b1ba13-8a98-42ba-b59c-9345a05f3f8f\",\"type\":\"WheelZoomTool\"},{\"attributes\":{\"overlay\":{\"id\":\"0f983934-01c9-406f-bd5f-fb217b6efe2a\",\"type\":\"BoxAnnotation\"}},\"id\":\"798bbb30-908e-4a1b-b494-f260aeb8a508\",\"type\":\"BoxZoomTool\"},{\"attributes\":{},\"id\":\"fc92d169-83c8-47c3-8d6a-6e061c1f0943\",\"type\":\"SaveTool\"},{\"attributes\":{},\"id\":\"ecb0c219-5ce3-43a8-ae89-817ba87d7ec3\",\"type\":\"ResetTool\"},{\"attributes\":{},\"id\":\"88f16a44-9d43-42d6-9e00-4fff5b6124c4\",\"type\":\"HelpTool\"},{\"attributes\":{\"bottom_units\":\"screen\",\"fill_alpha\":{\"value\":0.5},\"fill_color\":{\"value\":\"lightgrey\"},\"left_units\":\"screen\",\"level\":\"overlay\",\"line_alpha\":{\"value\":1.0},\"line_color\":{\"value\":\"black\"},\"line_dash\":[4,4],\"line_width\":{\"value\":2},\"plot\":null,\"render_mode\":\"css\",\"right_units\":\"screen\",\"top_units\":\"screen\"},\"id\":\"0f983934-01c9-406f-bd5f-fb217b6efe2a\",\"type\":\"BoxAnnotation\"},{\"attributes\":{\"source\":{\"id\":\"abee6404-6b64-4e18-882c-347411334c42\",\"type\":\"ColumnDataSource\"}},\"id\":\"1f645844-0a1b-4766-a3ef-5731fb15ede5\",\"type\":\"CDSView\"},{\"attributes\":{\"line_alpha\":0.1,\"line_color\":\"#1f77b4\",\"line_width\":5,\"x\":{\"field\":\"x\"},\"y\":{\"field\":\"y\"}},\"id\":\"76c74b99-2091-4694-b717-4d19972cf219\",\"type\":\"Line\"},{\"attributes\":{\"data_source\":{\"id\":\"abee6404-6b64-4e18-882c-347411334c42\",\"type\":\"ColumnDataSource\"},\"glyph\":{\"id\":\"707e6595-5019-4b57-a2c9-7076181d9013\",\"type\":\"Line\"},\"hover_glyph\":null,\"muted_glyph\":null,\"nonselection_glyph\":{\"id\":\"76c74b99-2091-4694-b717-4d19972cf219\",\"type\":\"Line\"},\"selection_glyph\":null,\"view\":{\"id\":\"1f645844-0a1b-4766-a3ef-5731fb15ede5\",\"type\":\"CDSView\"}},\"id\":\"53b52c19-6eac-42e4-99df-953f5049bd25\",\"type\":\"GlyphRenderer\"},{\"attributes\":{\"callback\":null,\"data\":{\"x\":[-5,-5],\"y\":[58,55]},\"selected\":{\"id\":\"c10b520c-cc1d-4ebb-a2bc-35f371cc0736\",\"type\":\"Selection\"},\"selection_policy\":{\"id\":\"afe71c5b-5580-4974-9e0f-41e029020dfa\",\"type\":\"UnionRenderers\"}},\"id\":\"69fc51bb-ddb2-4969-a583-2a3aa5eed81a\",\"type\":\"ColumnDataSource\"},{\"attributes\":{\"line_alpha\":0.6,\"line_color\":\"green\",\"line_width\":5,\"x\":{\"field\":\"x\"},\"y\":{\"field\":\"y\"}},\"id\":\"e2e4302f-cdf4-4376-944f-549aefc66083\",\"type\":\"Line\"},{\"attributes\":{\"line_alpha\":0.1,\"line_color\":\"#1f77b4\",\"line_width\":5,\"x\":{\"field\":\"x\"},\"y\":{\"field\":\"y\"}},\"id\":\"cafb1587-20e3-440a-b42d-d71eb1a87aa6\",\"type\":\"Line\"},{\"attributes\":{\"data_source\":{\"id\":\"69fc51bb-ddb2-4969-a583-2a3aa5eed81a\",\"type\":\"ColumnDataSource\"},\"glyph\":{\"id\":\"e2e4302f-cdf4-4376-944f-549aefc66083\",\"type\":\"Line\"},\"hover_glyph\":null,\"muted_glyph\":null,\"nonselection_glyph\":{\"id\":\"cafb1587-20e3-440a-b42d-d71eb1a87aa6\",\"type\":\"Line\"},\"selection_glyph\":null,\"view\":{\"id\":\"429cf028-5943-409f-a60b-d9158d111598\",\"type\":\"CDSView\"}},\"id\":\"0a92272e-ee0c-4f37-a755-447f82ad9484\",\"type\":\"GlyphRenderer\"},{\"attributes\":{\"source\":{\"id\":\"69fc51bb-ddb2-4969-a583-2a3aa5eed81a\",\"type\":\"ColumnDataSource\"}},\"id\":\"429cf028-5943-409f-a60b-d9158d111598\",\"type\":\"CDSView\"},{\"attributes\":{\"callback\":null,\"data\":{\"x\":[-4,-4],\"y\":[48,0]},\"selected\":{\"id\":\"afce344b-5c94-4883-b61c-6c732ef2b0a2\",\"type\":\"Selection\"},\"selection_policy\":{\"id\":\"9a0c75a7-f730-4e50-951a-f4ee89c53b23\",\"type\":\"UnionRenderers\"}},\"id\":\"d0eeff71-6f06-4718-9841-a2a303fcba80\",\"type\":\"ColumnDataSource\"},{\"attributes\":{\"line_alpha\":0.4,\"line_width\":5,\"x\":{\"field\":\"x\"},\"y\":{\"field\":\"y\"}},\"id\":\"4b3c06e4-858e-434e-b7f0-2e122883d8a5\",\"type\":\"Line\"},{\"attributes\":{\"line_alpha\":0.1,\"line_color\":\"#1f77b4\",\"line_width\":5,\"x\":{\"field\":\"x\"},\"y\":{\"field\":\"y\"}},\"id\":\"fc58f1d6-12d0-44fe-a25e-6efaa6ec546c\",\"type\":\"Line\"},{\"attributes\":{\"data_source\":{\"id\":\"d0eeff71-6f06-4718-9841-a2a303fcba80\",\"type\":\"ColumnDataSource\"},\"glyph\":{\"id\":\"4b3c06e4-858e-434e-b7f0-2e122883d8a5\",\"type\":\"Line\"},\"hover_glyph\":null,\"muted_glyph\":null,\"nonselection_glyph\":{\"id\":\"fc58f1d6-12d0-44fe-a25e-6efaa6ec546c\",\"type\":\"Line\"},\"selection_glyph\":null,\"view\":{\"id\":\"5adf79b2-bd4c-4c6f-9f47-28c783ad2173\",\"type\":\"CDSView\"}},\"id\":\"0356829f-31c7-4c6a-a27e-4bc07fb924d8\",\"type\":\"GlyphRenderer\"},{\"attributes\":{\"source\":{\"id\":\"d0eeff71-6f06-4718-9841-a2a303fcba80\",\"type\":\"ColumnDataSource\"}},\"id\":\"5adf79b2-bd4c-4c6f-9f47-28c783ad2173\",\"type\":\"CDSView\"},{\"attributes\":{\"callback\":null,\"data\":{\"x\":[-4,-4],\"y\":[32,48]},\"selected\":{\"id\":\"a3cb5986-f527-44ad-994a-8cbb9790eb15\",\"type\":\"Selection\"},\"selection_policy\":{\"id\":\"c5d34252-cbd3-4638-a283-8afc8b260fba\",\"type\":\"UnionRenderers\"}},\"id\":\"1ed4979e-a417-4774-a013-0a2210f41d8e\",\"type\":\"ColumnDataSource\"},{\"attributes\":{\"line_alpha\":0.4,\"line_color\":\"orange\",\"line_width\":5,\"x\":{\"field\":\"x\"},\"y\":{\"field\":\"y\"}},\"id\":\"8cd9a643-2f2f-4e75-8d63-969ef5faeab6\",\"type\":\"Line\"},{\"attributes\":{\"line_alpha\":0.1,\"line_color\":\"#1f77b4\",\"line_width\":5,\"x\":{\"field\":\"x\"},\"y\":{\"field\":\"y\"}},\"id\":\"34175240-3472-4dad-a7ab-9ac718edfcb1\",\"type\":\"Line\"},{\"attributes\":{\"data_source\":{\"id\":\"1ed4979e-a417-4774-a013-0a2210f41d8e\",\"type\":\"ColumnDataSource\"},\"glyph\":{\"id\":\"8cd9a643-2f2f-4e75-8d63-969ef5faeab6\",\"type\":\"Line\"},\"hover_glyph\":null,\"muted_glyph\":null,\"nonselection_glyph\":{\"id\":\"34175240-3472-4dad-a7ab-9ac718edfcb1\",\"type\":\"Line\"},\"selection_glyph\":null,\"view\":{\"id\":\"ceb2bb30-b1a6-4f6c-9214-174253877ab0\",\"type\":\"CDSView\"}},\"id\":\"e5ed4e95-0cc0-424c-8d4a-988d62c634be\",\"type\":\"GlyphRenderer\"},{\"attributes\":{\"source\":{\"id\":\"1ed4979e-a417-4774-a013-0a2210f41d8e\",\"type\":\"ColumnDataSource\"}},\"id\":\"ceb2bb30-b1a6-4f6c-9214-174253877ab0\",\"type\":\"CDSView\"},{\"attributes\":{\"callback\":null,\"data\":{\"x\":[-4,-4],\"y\":[35,32]},\"selected\":{\"id\":\"e6de9cb7-a592-49b0-a02d-ba183853087f\",\"type\":\"Selection\"},\"selection_policy\":{\"id\":\"cc665039-c219-40cf-9d60-63cd830dec87\",\"type\":\"UnionRenderers\"}},\"id\":\"065a67d7-a75f-453a-9cd7-9a96bd8b52f0\",\"type\":\"ColumnDataSource\"},{\"attributes\":{\"line_alpha\":0.6,\"line_color\":\"green\",\"line_width\":5,\"x\":{\"field\":\"x\"},\"y\":{\"field\":\"y\"}},\"id\":\"a8d96cec-c48e-4ea1-8b75-6ab7872b3450\",\"type\":\"Line\"},{\"attributes\":{\"line_alpha\":0.1,\"line_color\":\"#1f77b4\",\"line_width\":5,\"x\":{\"field\":\"x\"},\"y\":{\"field\":\"y\"}},\"id\":\"66409f61-dc20-49f7-bc8e-b8551b5a40cb\",\"type\":\"Line\"},{\"attributes\":{\"data_source\":{\"id\":\"065a67d7-a75f-453a-9cd7-9a96bd8b52f0\",\"type\":\"ColumnDataSource\"},\"glyph\":{\"id\":\"a8d96cec-c48e-4ea1-8b75-6ab7872b3450\",\"type\":\"Line\"},\"hover_glyph\":null,\"muted_glyph\":null,\"nonselection_glyph\":{\"id\":\"66409f61-dc20-49f7-bc8e-b8551b5a40cb\",\"type\":\"Line\"},\"selection_glyph\":null,\"view\":{\"id\":\"28241edd-d63e-4b84-b07f-08e2c9d169bb\",\"type\":\"CDSView\"}},\"id\":\"9466e33e-78fc-48cb-98db-6c1ad1d829ac\",\"type\":\"GlyphRenderer\"},{\"attributes\":{\"source\":{\"id\":\"065a67d7-a75f-453a-9cd7-9a96bd8b52f0\",\"type\":\"ColumnDataSource\"}},\"id\":\"28241edd-d63e-4b84-b07f-08e2c9d169bb\",\"type\":\"CDSView\"},{\"attributes\":{\"callback\":null,\"data\":{\"x\":[-3,-3],\"y\":[27,0]},\"selected\":{\"id\":\"520c7eae-2fd5-4f10-b327-368f81e853c4\",\"type\":\"Selection\"},\"selection_policy\":{\"id\":\"41b2abd1-bc45-418a-91ef-d7974aa75fac\",\"type\":\"UnionRenderers\"}},\"id\":\"709e03ed-82e8-4555-a4a8-6a4c78fc02d2\",\"type\":\"ColumnDataSource\"},{\"attributes\":{\"line_alpha\":0.4,\"line_width\":5,\"x\":{\"field\":\"x\"},\"y\":{\"field\":\"y\"}},\"id\":\"de2a30ac-1d1e-4536-99b4-b36d4a5b6299\",\"type\":\"Line\"},{\"attributes\":{\"line_alpha\":0.1,\"line_color\":\"#1f77b4\",\"line_width\":5,\"x\":{\"field\":\"x\"},\"y\":{\"field\":\"y\"}},\"id\":\"7c745942-9615-4222-8505-ea6946ea1bc2\",\"type\":\"Line\"},{\"attributes\":{\"data_source\":{\"id\":\"709e03ed-82e8-4555-a4a8-6a4c78fc02d2\",\"type\":\"ColumnDataSource\"},\"glyph\":{\"id\":\"de2a30ac-1d1e-4536-99b4-b36d4a5b6299\",\"type\":\"Line\"},\"hover_glyph\":null,\"muted_glyph\":null,\"nonselection_glyph\":{\"id\":\"7c745942-9615-4222-8505-ea6946ea1bc2\",\"type\":\"Line\"},\"selection_glyph\":null,\"view\":{\"id\":\"016c377f-5b5c-46ad-8fec-c241dca529ff\",\"type\":\"CDSView\"}},\"id\":\"a400e19a-e515-40fc-acc7-0b9df83a0a62\",\"type\":\"GlyphRenderer\"},{\"attributes\":{\"source\":{\"id\":\"709e03ed-82e8-4555-a4a8-6a4c78fc02d2\",\"type\":\"ColumnDataSource\"}},\"id\":\"016c377f-5b5c-46ad-8fec-c241dca529ff\",\"type\":\"CDSView\"},{\"attributes\":{\"callback\":null,\"data\":{\"x\":[-3,-3],\"y\":[15,27]},\"selected\":{\"id\":\"b4dfd288-d15f-4625-bbe2-5efb05a2b70d\",\"type\":\"Selection\"},\"selection_policy\":{\"id\":\"2d703b98-9559-4bc9-a9b2-b7e60e5bee7a\",\"type\":\"UnionRenderers\"}},\"id\":\"87736395-d364-4310-9f83-0166ee3d85a9\",\"type\":\"ColumnDataSource\"},{\"attributes\":{\"line_alpha\":0.4,\"line_color\":\"orange\",\"line_width\":5,\"x\":{\"field\":\"x\"},\"y\":{\"field\":\"y\"}},\"id\":\"0171b0ac-080b-4282-bd85-23c47850ef24\",\"type\":\"Line\"},{\"attributes\":{\"line_alpha\":0.1,\"line_color\":\"#1f77b4\",\"line_width\":5,\"x\":{\"field\":\"x\"},\"y\":{\"field\":\"y\"}},\"id\":\"db93760b-0370-4c35-8b30-a22ea0010a89\",\"type\":\"Line\"},{\"attributes\":{\"line_alpha\":0.1,\"line_color\":\"#1f77b4\",\"line_width\":5,\"x\":{\"field\":\"x\"},\"y\":{\"field\":\"y\"}},\"id\":\"25ceab74-d59a-4657-aced-66abe918940a\",\"type\":\"Line\"},{\"attributes\":{\"data_source\":{\"id\":\"87736395-d364-4310-9f83-0166ee3d85a9\",\"type\":\"ColumnDataSource\"},\"glyph\":{\"id\":\"0171b0ac-080b-4282-bd85-23c47850ef24\",\"type\":\"Line\"},\"hover_glyph\":null,\"muted_glyph\":null,\"nonselection_glyph\":{\"id\":\"db93760b-0370-4c35-8b30-a22ea0010a89\",\"type\":\"Line\"},\"selection_glyph\":null,\"view\":{\"id\":\"03671712-f548-4749-8bbc-b3eb38cd2ba1\",\"type\":\"CDSView\"}},\"id\":\"74815cbe-6676-413b-962d-359bbc9d83c6\",\"type\":\"GlyphRenderer\"},{\"attributes\":{\"source\":{\"id\":\"87736395-d364-4310-9f83-0166ee3d85a9\",\"type\":\"ColumnDataSource\"}},\"id\":\"03671712-f548-4749-8bbc-b3eb38cd2ba1\",\"type\":\"CDSView\"},{\"attributes\":{\"callback\":null,\"data\":{\"x\":[-3,-3],\"y\":[18,15]},\"selected\":{\"id\":\"33db25f5-e616-4aae-820a-820ab9764a6e\",\"type\":\"Selection\"},\"selection_policy\":{\"id\":\"8649cc6f-3071-4c20-b203-6eb8fc2ef777\",\"type\":\"UnionRenderers\"}},\"id\":\"16df652a-1604-402a-b55d-0ad803656b34\",\"type\":\"ColumnDataSource\"},{\"attributes\":{\"line_alpha\":0.6,\"line_color\":\"green\",\"line_width\":5,\"x\":{\"field\":\"x\"},\"y\":{\"field\":\"y\"}},\"id\":\"ca71882d-6b87-4b4a-a58e-08b5c4047daf\",\"type\":\"Line\"},{\"attributes\":{\"line_alpha\":0.1,\"line_color\":\"#1f77b4\",\"line_width\":5,\"x\":{\"field\":\"x\"},\"y\":{\"field\":\"y\"}},\"id\":\"d901a602-ed3c-44e8-9459-3a58e7e121c8\",\"type\":\"Line\"},{\"attributes\":{\"data_source\":{\"id\":\"32f526be-36b1-4f2c-a704-cb1321a16ea7\",\"type\":\"ColumnDataSource\"},\"glyph\":{\"id\":\"fb967f13-a8cf-4b7e-af3f-5115eb8840cc\",\"type\":\"Line\"},\"hover_glyph\":null,\"muted_glyph\":null,\"nonselection_glyph\":{\"id\":\"25ceab74-d59a-4657-aced-66abe918940a\",\"type\":\"Line\"},\"selection_glyph\":null,\"view\":{\"id\":\"94681ca2-3f90-404b-8b1c-40a3d8eb3930\",\"type\":\"CDSView\"}},\"id\":\"657ce621-15bb-4f4d-a0c8-afaf9d631824\",\"type\":\"GlyphRenderer\"},{\"attributes\":{\"data_source\":{\"id\":\"16df652a-1604-402a-b55d-0ad803656b34\",\"type\":\"ColumnDataSource\"},\"glyph\":{\"id\":\"ca71882d-6b87-4b4a-a58e-08b5c4047daf\",\"type\":\"Line\"},\"hover_glyph\":null,\"muted_glyph\":null,\"nonselection_glyph\":{\"id\":\"d901a602-ed3c-44e8-9459-3a58e7e121c8\",\"type\":\"Line\"},\"selection_glyph\":null,\"view\":{\"id\":\"ecebb9b1-6306-4a64-a8d8-1954c893e7eb\",\"type\":\"CDSView\"}},\"id\":\"518f476b-8bbb-47ba-878b-8dd082f6e9da\",\"type\":\"GlyphRenderer\"},{\"attributes\":{\"source\":{\"id\":\"16df652a-1604-402a-b55d-0ad803656b34\",\"type\":\"ColumnDataSource\"}},\"id\":\"ecebb9b1-6306-4a64-a8d8-1954c893e7eb\",\"type\":\"CDSView\"},{\"attributes\":{\"callback\":null,\"data\":{\"x\":[-2,-2],\"y\":[12,0]},\"selected\":{\"id\":\"170f43c3-2b00-4cae-b44f-c6726a8e46bd\",\"type\":\"Selection\"},\"selection_policy\":{\"id\":\"6270657a-db19-4212-ab5d-edbddb8922ed\",\"type\":\"UnionRenderers\"}},\"id\":\"764f509a-6e11-4021-90e5-3be9c50ac3a8\",\"type\":\"ColumnDataSource\"},{\"attributes\":{\"line_alpha\":0.4,\"line_width\":5,\"x\":{\"field\":\"x\"},\"y\":{\"field\":\"y\"}},\"id\":\"8e00f690-f6fc-431a-b553-3cc3399dd737\",\"type\":\"Line\"},{\"attributes\":{},\"id\":\"afe71c5b-5580-4974-9e0f-41e029020dfa\",\"type\":\"UnionRenderers\"},{\"attributes\":{},\"id\":\"bd050bac-447c-4a12-86c6-43ad6e832a5d\",\"type\":\"Selection\"},{\"attributes\":{},\"id\":\"c10b520c-cc1d-4ebb-a2bc-35f371cc0736\",\"type\":\"Selection\"},{\"attributes\":{},\"id\":\"bfd43562-3b3b-4a43-9b11-f17cc3425eeb\",\"type\":\"UnionRenderers\"},{\"attributes\":{},\"id\":\"b4dfd288-d15f-4625-bbe2-5efb05a2b70d\",\"type\":\"Selection\"},{\"attributes\":{\"source\":{\"id\":\"dcc34f27-a834-4eed-a893-893e0c191dac\",\"type\":\"ColumnDataSource\"}},\"id\":\"4d7efe23-2470-4797-9bdc-a52340c1baf5\",\"type\":\"CDSView\"},{\"attributes\":{\"data_source\":{\"id\":\"764f509a-6e11-4021-90e5-3be9c50ac3a8\",\"type\":\"ColumnDataSource\"},\"glyph\":{\"id\":\"8e00f690-f6fc-431a-b553-3cc3399dd737\",\"type\":\"Line\"},\"hover_glyph\":null,\"muted_glyph\":null,\"nonselection_glyph\":{\"id\":\"e04e99ad-67d6-4d7e-952b-aebdb32bf7ff\",\"type\":\"Line\"},\"selection_glyph\":null,\"view\":{\"id\":\"0f2b410e-0ab0-40b6-9158-d895c86552f8\",\"type\":\"CDSView\"}},\"id\":\"0e56eee9-7d10-4268-bd8c-92eded8a7624\",\"type\":\"GlyphRenderer\"},{\"attributes\":{\"callback\":null,\"data\":{\"x\":[3,3],\"y\":[27,0]},\"selected\":{\"id\":\"c9ae0d65-d7da-4c50-b4db-6d043615e820\",\"type\":\"Selection\"},\"selection_policy\":{\"id\":\"abe1956d-d15a-498f-8df3-2bb6af2bf2ad\",\"type\":\"UnionRenderers\"}},\"id\":\"9ad6bf2e-e2d4-4648-b4ee-41b70beba55e\",\"type\":\"ColumnDataSource\"},{\"attributes\":{},\"id\":\"33db25f5-e616-4aae-820a-820ab9764a6e\",\"type\":\"Selection\"},{\"attributes\":{\"source\":{\"id\":\"32f526be-36b1-4f2c-a704-cb1321a16ea7\",\"type\":\"ColumnDataSource\"}},\"id\":\"94681ca2-3f90-404b-8b1c-40a3d8eb3930\",\"type\":\"CDSView\"},{\"attributes\":{\"source\":{\"id\":\"764f509a-6e11-4021-90e5-3be9c50ac3a8\",\"type\":\"ColumnDataSource\"}},\"id\":\"0f2b410e-0ab0-40b6-9158-d895c86552f8\",\"type\":\"CDSView\"},{\"attributes\":{\"line_alpha\":0.4,\"line_width\":5,\"x\":{\"field\":\"x\"},\"y\":{\"field\":\"y\"}},\"id\":\"21125703-691f-4d76-98ea-0c3fbea16368\",\"type\":\"Line\"},{\"attributes\":{},\"id\":\"8649cc6f-3071-4c20-b203-6eb8fc2ef777\",\"type\":\"UnionRenderers\"},{\"attributes\":{\"callback\":null,\"data\":{\"x\":[-2,-2],\"y\":[4,12]},\"selected\":{\"id\":\"1ebf816a-80eb-41ff-88a0-8c258a26c59f\",\"type\":\"Selection\"},\"selection_policy\":{\"id\":\"3ba85521-e8f7-4e91-8719-0eabec291ad9\",\"type\":\"UnionRenderers\"}},\"id\":\"4f196f99-b7e3-4b56-ba34-9de9083add6d\",\"type\":\"ColumnDataSource\"},{\"attributes\":{\"line_alpha\":0.1,\"line_color\":\"#1f77b4\",\"line_width\":5,\"x\":{\"field\":\"x\"},\"y\":{\"field\":\"y\"}},\"id\":\"9d3fd171-2177-4eb3-b040-2b3884ee089f\",\"type\":\"Line\"},{\"attributes\":{},\"id\":\"170f43c3-2b00-4cae-b44f-c6726a8e46bd\",\"type\":\"Selection\"},{\"attributes\":{\"data_source\":{\"id\":\"9ad6bf2e-e2d4-4648-b4ee-41b70beba55e\",\"type\":\"ColumnDataSource\"},\"glyph\":{\"id\":\"21125703-691f-4d76-98ea-0c3fbea16368\",\"type\":\"Line\"},\"hover_glyph\":null,\"muted_glyph\":null,\"nonselection_glyph\":{\"id\":\"9d3fd171-2177-4eb3-b040-2b3884ee089f\",\"type\":\"Line\"},\"selection_glyph\":null,\"view\":{\"id\":\"df6bf191-ef3c-4613-945a-b0f9da82e761\",\"type\":\"CDSView\"}},\"id\":\"191acb0a-02e6-40e8-b355-f96d0fba64cd\",\"type\":\"GlyphRenderer\"},{\"attributes\":{\"line_alpha\":0.4,\"line_color\":\"orange\",\"line_width\":5,\"x\":{\"field\":\"x\"},\"y\":{\"field\":\"y\"}},\"id\":\"6687275c-2a2e-4fed-b8a8-75c9a267ac71\",\"type\":\"Line\"},{\"attributes\":{},\"id\":\"6270657a-db19-4212-ab5d-edbddb8922ed\",\"type\":\"UnionRenderers\"},{\"attributes\":{\"line_alpha\":0.4,\"line_width\":5,\"x\":{\"field\":\"x\"},\"y\":{\"field\":\"y\"}},\"id\":\"1079416f-e090-4d6f-9e82-e4de8c8e7d8e\",\"type\":\"Line\"},{\"attributes\":{\"line_alpha\":0.1,\"line_color\":\"#1f77b4\",\"line_width\":5,\"x\":{\"field\":\"x\"},\"y\":{\"field\":\"y\"}},\"id\":\"57f38636-6537-4d5a-9ebf-19f4e40d0458\",\"type\":\"Line\"},{\"attributes\":{\"source\":{\"id\":\"9ad6bf2e-e2d4-4648-b4ee-41b70beba55e\",\"type\":\"ColumnDataSource\"}},\"id\":\"df6bf191-ef3c-4613-945a-b0f9da82e761\",\"type\":\"CDSView\"},{\"attributes\":{},\"id\":\"1ebf816a-80eb-41ff-88a0-8c258a26c59f\",\"type\":\"Selection\"},{\"attributes\":{\"data_source\":{\"id\":\"4f196f99-b7e3-4b56-ba34-9de9083add6d\",\"type\":\"ColumnDataSource\"},\"glyph\":{\"id\":\"6687275c-2a2e-4fed-b8a8-75c9a267ac71\",\"type\":\"Line\"},\"hover_glyph\":null,\"muted_glyph\":null,\"nonselection_glyph\":{\"id\":\"57f38636-6537-4d5a-9ebf-19f4e40d0458\",\"type\":\"Line\"},\"selection_glyph\":null,\"view\":{\"id\":\"7bf457f3-8754-4ff8-9743-3a1bcc766c95\",\"type\":\"CDSView\"}},\"id\":\"45126894-0704-4697-bcd7-77808ba18a62\",\"type\":\"GlyphRenderer\"},{\"attributes\":{\"callback\":null,\"data\":{\"x\":[3,3],\"y\":[39,27]},\"selected\":{\"id\":\"86351757-f66c-40b0-be80-be9fb9d8d575\",\"type\":\"Selection\"},\"selection_policy\":{\"id\":\"3c7db35a-3052-45b7-8376-1c52e46828d2\",\"type\":\"UnionRenderers\"}},\"id\":\"f7c5ff82-96f5-45be-b77b-edf98e8a3fb5\",\"type\":\"ColumnDataSource\"},{\"attributes\":{},\"id\":\"3ba85521-e8f7-4e91-8719-0eabec291ad9\",\"type\":\"UnionRenderers\"},{\"attributes\":{\"source\":{\"id\":\"4f196f99-b7e3-4b56-ba34-9de9083add6d\",\"type\":\"ColumnDataSource\"}},\"id\":\"7bf457f3-8754-4ff8-9743-3a1bcc766c95\",\"type\":\"CDSView\"},{\"attributes\":{\"line_alpha\":0.4,\"line_color\":\"orange\",\"line_width\":5,\"x\":{\"field\":\"x\"},\"y\":{\"field\":\"y\"}},\"id\":\"997fd8a0-efb6-427e-8f12-487f1a394a13\",\"type\":\"Line\"},{\"attributes\":{},\"id\":\"fc1074bb-f085-4f6b-bfc1-d8c331965315\",\"type\":\"Selection\"},{\"attributes\":{\"callback\":null,\"data\":{\"x\":[-2,-2],\"y\":[7,4]},\"selected\":{\"id\":\"fc1074bb-f085-4f6b-bfc1-d8c331965315\",\"type\":\"Selection\"},\"selection_policy\":{\"id\":\"8e032612-4403-40dd-860e-27b592cc175d\",\"type\":\"UnionRenderers\"}},\"id\":\"5da7f65e-7694-411a-8527-a295a3f6a459\",\"type\":\"ColumnDataSource\"},{\"attributes\":{\"line_alpha\":0.1,\"line_color\":\"#1f77b4\",\"line_width\":5,\"x\":{\"field\":\"x\"},\"y\":{\"field\":\"y\"}},\"id\":\"45d519c3-f14d-45f2-a586-3bd476ded1c1\",\"type\":\"Line\"},{\"attributes\":{},\"id\":\"8e032612-4403-40dd-860e-27b592cc175d\",\"type\":\"UnionRenderers\"},{\"attributes\":{\"data_source\":{\"id\":\"f7c5ff82-96f5-45be-b77b-edf98e8a3fb5\",\"type\":\"ColumnDataSource\"},\"glyph\":{\"id\":\"997fd8a0-efb6-427e-8f12-487f1a394a13\",\"type\":\"Line\"},\"hover_glyph\":null,\"muted_glyph\":null,\"nonselection_glyph\":{\"id\":\"45d519c3-f14d-45f2-a586-3bd476ded1c1\",\"type\":\"Line\"},\"selection_glyph\":null,\"view\":{\"id\":\"9af45603-283b-4eea-9c3e-0bb58917edc9\",\"type\":\"CDSView\"}},\"id\":\"0327811c-4d0a-419e-9368-68eca973f89e\",\"type\":\"GlyphRenderer\"},{\"attributes\":{\"line_alpha\":0.6,\"line_color\":\"green\",\"line_width\":5,\"x\":{\"field\":\"x\"},\"y\":{\"field\":\"y\"}},\"id\":\"66a9d33b-fea5-4b9f-9507-fa1150f1e7f3\",\"type\":\"Line\"},{\"attributes\":{},\"id\":\"5b9c608b-dbfe-41b2-a547-29a7141faa06\",\"type\":\"Selection\"},{\"attributes\":{\"plot\":{\"id\":\"21772595-a820-4f8b-a5e4-44a788dbd9ea\",\"subtype\":\"Figure\",\"type\":\"Plot\"},\"ticker\":{\"id\":\"b40edf6b-9db0-413c-ad21-7c2574d02bad\",\"type\":\"BasicTicker\"}},\"id\":\"2e56db7d-f7d5-43f9-b0ac-d9f422220397\",\"type\":\"Grid\"},{\"attributes\":{\"line_alpha\":0.1,\"line_color\":\"#1f77b4\",\"line_width\":5,\"x\":{\"field\":\"x\"},\"y\":{\"field\":\"y\"}},\"id\":\"e65ab047-fb87-40cf-a7bc-75aa67efe080\",\"type\":\"Line\"},{\"attributes\":{\"source\":{\"id\":\"f7c5ff82-96f5-45be-b77b-edf98e8a3fb5\",\"type\":\"ColumnDataSource\"}},\"id\":\"9af45603-283b-4eea-9c3e-0bb58917edc9\",\"type\":\"CDSView\"},{\"attributes\":{},\"id\":\"f7c689e3-5c8e-4b3a-a2ca-645e732ee1fd\",\"type\":\"UnionRenderers\"},{\"attributes\":{\"data_source\":{\"id\":\"5da7f65e-7694-411a-8527-a295a3f6a459\",\"type\":\"ColumnDataSource\"},\"glyph\":{\"id\":\"66a9d33b-fea5-4b9f-9507-fa1150f1e7f3\",\"type\":\"Line\"},\"hover_glyph\":null,\"muted_glyph\":null,\"nonselection_glyph\":{\"id\":\"e65ab047-fb87-40cf-a7bc-75aa67efe080\",\"type\":\"Line\"},\"selection_glyph\":null,\"view\":{\"id\":\"691b1467-55f7-4d48-9b03-f9cc93bf5dbd\",\"type\":\"CDSView\"}},\"id\":\"750b2286-261b-4f75-953e-4deca96881db\",\"type\":\"GlyphRenderer\"},{\"attributes\":{\"callback\":null,\"data\":{\"x\":[3,3],\"y\":[42,39]},\"selected\":{\"id\":\"f0a345d3-e58a-44eb-95b6-471e84fdfad8\",\"type\":\"Selection\"},\"selection_policy\":{\"id\":\"8ba09ed6-15d5-4803-8232-e08dd99e077d\",\"type\":\"UnionRenderers\"}},\"id\":\"f09b1a69-2e81-4411-8b42-1713e3c1f21a\",\"type\":\"ColumnDataSource\"},{\"attributes\":{},\"id\":\"e2764c56-32f3-4573-a637-ae07d749fd1b\",\"type\":\"Selection\"},{\"attributes\":{\"source\":{\"id\":\"5da7f65e-7694-411a-8527-a295a3f6a459\",\"type\":\"ColumnDataSource\"}},\"id\":\"691b1467-55f7-4d48-9b03-f9cc93bf5dbd\",\"type\":\"CDSView\"},{\"attributes\":{\"line_alpha\":0.6,\"line_color\":\"green\",\"line_width\":5,\"x\":{\"field\":\"x\"},\"y\":{\"field\":\"y\"}},\"id\":\"62907624-52ed-4916-bcdf-820e346f391f\",\"type\":\"Line\"},{\"attributes\":{},\"id\":\"d7621444-3361-4ac5-83ec-46f06b85ed8e\",\"type\":\"UnionRenderers\"},{\"attributes\":{\"callback\":null,\"data\":{\"x\":[-1,-1],\"y\":[3,0]},\"selected\":{\"id\":\"5b9c608b-dbfe-41b2-a547-29a7141faa06\",\"type\":\"Selection\"},\"selection_policy\":{\"id\":\"f7c689e3-5c8e-4b3a-a2ca-645e732ee1fd\",\"type\":\"UnionRenderers\"}},\"id\":\"1aebb7e5-6611-4f40-bbda-39da8121c6f2\",\"type\":\"ColumnDataSource\"},{\"attributes\":{\"line_alpha\":0.1,\"line_color\":\"#1f77b4\",\"line_width\":5,\"x\":{\"field\":\"x\"},\"y\":{\"field\":\"y\"}},\"id\":\"e4e298b9-64bf-41df-b122-8ac5cb59d450\",\"type\":\"Line\"},{\"attributes\":{},\"id\":\"70975b56-f1d5-4dac-b6a5-852f31b2f795\",\"type\":\"Selection\"},{\"attributes\":{\"data_source\":{\"id\":\"f09b1a69-2e81-4411-8b42-1713e3c1f21a\",\"type\":\"ColumnDataSource\"},\"glyph\":{\"id\":\"62907624-52ed-4916-bcdf-820e346f391f\",\"type\":\"Line\"},\"hover_glyph\":null,\"muted_glyph\":null,\"nonselection_glyph\":{\"id\":\"e4e298b9-64bf-41df-b122-8ac5cb59d450\",\"type\":\"Line\"},\"selection_glyph\":null,\"view\":{\"id\":\"3b4bc092-d785-4846-86fd-cbcb2ca65eaf\",\"type\":\"CDSView\"}},\"id\":\"116432a9-6bd3-44bb-82bf-d5c548b5d349\",\"type\":\"GlyphRenderer\"},{\"attributes\":{\"line_alpha\":0.4,\"line_width\":5,\"x\":{\"field\":\"x\"},\"y\":{\"field\":\"y\"}},\"id\":\"177481ab-e5e8-4a7b-a494-c47c80eff2bc\",\"type\":\"Line\"},{\"attributes\":{},\"id\":\"6bf6116c-3a83-4118-aa78-b0a310c7a882\",\"type\":\"UnionRenderers\"},{\"attributes\":{\"data_source\":{\"id\":\"c49e1f30-dce8-4e78-b7a0-5a7274869d59\",\"type\":\"ColumnDataSource\"},\"glyph\":{\"id\":\"1079416f-e090-4d6f-9e82-e4de8c8e7d8e\",\"type\":\"Line\"},\"hover_glyph\":null,\"muted_glyph\":null,\"nonselection_glyph\":{\"id\":\"ac33b052-5000-4428-af6c-71b238c833eb\",\"type\":\"Line\"},\"selection_glyph\":null,\"view\":{\"id\":\"7bd4cfb0-16cc-4476-841e-f46890845907\",\"type\":\"CDSView\"}},\"id\":\"e169456f-4c02-4fed-9342-265a216008de\",\"type\":\"GlyphRenderer\"},{\"attributes\":{\"line_alpha\":0.1,\"line_color\":\"#1f77b4\",\"line_width\":5,\"x\":{\"field\":\"x\"},\"y\":{\"field\":\"y\"}},\"id\":\"22d68516-be46-468c-a24c-278ccd9f231a\",\"type\":\"Line\"},{\"attributes\":{\"source\":{\"id\":\"f09b1a69-2e81-4411-8b42-1713e3c1f21a\",\"type\":\"ColumnDataSource\"}},\"id\":\"3b4bc092-d785-4846-86fd-cbcb2ca65eaf\",\"type\":\"CDSView\"},{\"attributes\":{},\"id\":\"4daa0b39-a202-4b60-988d-d6611f45e087\",\"type\":\"Selection\"},{\"attributes\":{\"data_source\":{\"id\":\"1aebb7e5-6611-4f40-bbda-39da8121c6f2\",\"type\":\"ColumnDataSource\"},\"glyph\":{\"id\":\"177481ab-e5e8-4a7b-a494-c47c80eff2bc\",\"type\":\"Line\"},\"hover_glyph\":null,\"muted_glyph\":null,\"nonselection_glyph\":{\"id\":\"22d68516-be46-468c-a24c-278ccd9f231a\",\"type\":\"Line\"},\"selection_glyph\":null,\"view\":{\"id\":\"7680c548-356a-44d0-932d-13b62c93ea0a\",\"type\":\"CDSView\"}},\"id\":\"e5fbc684-2dc4-471c-82c2-5f60fcfdcab6\",\"type\":\"GlyphRenderer\"},{\"attributes\":{\"callback\":null,\"data\":{\"x\":[4,4],\"y\":[48,0]},\"selected\":{\"id\":\"b0513a94-1bb8-4750-b5b2-4ff6b2c79a6b\",\"type\":\"Selection\"},\"selection_policy\":{\"id\":\"697f0c90-2380-4c41-8a28-99941d8c9ab0\",\"type\":\"UnionRenderers\"}},\"id\":\"3522221f-2af5-49a3-93b9-7774f0b875fb\",\"type\":\"ColumnDataSource\"},{\"attributes\":{},\"id\":\"3784da00-e301-4742-8317-5799c8ced7af\",\"type\":\"UnionRenderers\"},{\"attributes\":{\"source\":{\"id\":\"1aebb7e5-6611-4f40-bbda-39da8121c6f2\",\"type\":\"ColumnDataSource\"}},\"id\":\"7680c548-356a-44d0-932d-13b62c93ea0a\",\"type\":\"CDSView\"},{\"attributes\":{\"line_alpha\":0.4,\"line_width\":5,\"x\":{\"field\":\"x\"},\"y\":{\"field\":\"y\"}},\"id\":\"cd511fe5-8674-448c-a9d3-317e56e7b1fa\",\"type\":\"Line\"},{\"attributes\":{},\"id\":\"b1d07bd8-7340-41d1-95ae-e0aea0a8f396\",\"type\":\"Selection\"},{\"attributes\":{\"callback\":null,\"data\":{\"x\":[-1,-1],\"y\":[-1,3]},\"selected\":{\"id\":\"e2764c56-32f3-4573-a637-ae07d749fd1b\",\"type\":\"Selection\"},\"selection_policy\":{\"id\":\"d7621444-3361-4ac5-83ec-46f06b85ed8e\",\"type\":\"UnionRenderers\"}},\"id\":\"dcacc2ab-c999-4405-9e4c-0f296d50a244\",\"type\":\"ColumnDataSource\"},{\"attributes\":{\"line_alpha\":0.1,\"line_color\":\"#1f77b4\",\"line_width\":5,\"x\":{\"field\":\"x\"},\"y\":{\"field\":\"y\"}},\"id\":\"e3f4f55d-87e2-4d77-93b0-522b40f6ab62\",\"type\":\"Line\"},{\"attributes\":{},\"id\":\"9ac7462e-82bb-4d82-ad20-8978c399fdf3\",\"type\":\"UnionRenderers\"},{\"attributes\":{\"data_source\":{\"id\":\"3522221f-2af5-49a3-93b9-7774f0b875fb\",\"type\":\"ColumnDataSource\"},\"glyph\":{\"id\":\"cd511fe5-8674-448c-a9d3-317e56e7b1fa\",\"type\":\"Line\"},\"hover_glyph\":null,\"muted_glyph\":null,\"nonselection_glyph\":{\"id\":\"e3f4f55d-87e2-4d77-93b0-522b40f6ab62\",\"type\":\"Line\"},\"selection_glyph\":null,\"view\":{\"id\":\"fb87b539-9afb-4a62-911d-5dd7676e683e\",\"type\":\"CDSView\"}},\"id\":\"ed7da267-057d-4136-9784-2cf475985b05\",\"type\":\"GlyphRenderer\"},{\"attributes\":{\"line_alpha\":0.4,\"line_color\":\"orange\",\"line_width\":5,\"x\":{\"field\":\"x\"},\"y\":{\"field\":\"y\"}},\"id\":\"ec196bc5-e0de-46be-a341-4aa4d7dffb9b\",\"type\":\"Line\"},{\"attributes\":{},\"id\":\"a228aafe-5e1a-4cfe-a96e-95ccbe9e2508\",\"type\":\"Selection\"},{\"attributes\":{\"line_alpha\":0.1,\"line_color\":\"#1f77b4\",\"line_width\":5,\"x\":{\"field\":\"x\"},\"y\":{\"field\":\"y\"}},\"id\":\"446f4240-9dd4-4623-987e-80cca270f90d\",\"type\":\"Line\"},{\"attributes\":{\"source\":{\"id\":\"3522221f-2af5-49a3-93b9-7774f0b875fb\",\"type\":\"ColumnDataSource\"}},\"id\":\"fb87b539-9afb-4a62-911d-5dd7676e683e\",\"type\":\"CDSView\"},{\"attributes\":{},\"id\":\"af66b5c8-3ce7-48f3-844a-9c40b0cb221f\",\"type\":\"UnionRenderers\"},{\"attributes\":{\"data_source\":{\"id\":\"dcacc2ab-c999-4405-9e4c-0f296d50a244\",\"type\":\"ColumnDataSource\"},\"glyph\":{\"id\":\"ec196bc5-e0de-46be-a341-4aa4d7dffb9b\",\"type\":\"Line\"},\"hover_glyph\":null,\"muted_glyph\":null,\"nonselection_glyph\":{\"id\":\"446f4240-9dd4-4623-987e-80cca270f90d\",\"type\":\"Line\"},\"selection_glyph\":null,\"view\":{\"id\":\"9b11a624-d195-4e19-a325-c1b3047f7a4f\",\"type\":\"CDSView\"}},\"id\":\"7c0a5aec-8032-4f09-85d3-f27b05981322\",\"type\":\"GlyphRenderer\"},{\"attributes\":{\"callback\":null,\"data\":{\"x\":[4,4],\"y\":[64,48]},\"selected\":{\"id\":\"68ca6fe1-0bbe-480c-a605-069849f54b18\",\"type\":\"Selection\"},\"selection_policy\":{\"id\":\"a4ba7fe0-ae81-44f2-a3f6-1cc8fe65baf9\",\"type\":\"UnionRenderers\"}},\"id\":\"b40c42ba-132d-485e-8f5e-1bfe8fe0e4cf\",\"type\":\"ColumnDataSource\"},{\"attributes\":{},\"id\":\"7bfe40b7-d518-47a5-9140-ffb080e75771\",\"type\":\"Selection\"},{\"attributes\":{\"source\":{\"id\":\"dcacc2ab-c999-4405-9e4c-0f296d50a244\",\"type\":\"ColumnDataSource\"}},\"id\":\"9b11a624-d195-4e19-a325-c1b3047f7a4f\",\"type\":\"CDSView\"},{\"attributes\":{\"line_alpha\":0.4,\"line_color\":\"orange\",\"line_width\":5,\"x\":{\"field\":\"x\"},\"y\":{\"field\":\"y\"}},\"id\":\"b1e054bc-2318-458e-ad43-950b3865016b\",\"type\":\"Line\"},{\"attributes\":{},\"id\":\"375b5570-c22b-4349-ae40-2f860b79fdca\",\"type\":\"UnionRenderers\"},{\"attributes\":{\"callback\":null,\"data\":{\"x\":[-1,-1],\"y\":[2,-1]},\"selected\":{\"id\":\"70975b56-f1d5-4dac-b6a5-852f31b2f795\",\"type\":\"Selection\"},\"selection_policy\":{\"id\":\"6bf6116c-3a83-4118-aa78-b0a310c7a882\",\"type\":\"UnionRenderers\"}},\"id\":\"725a5e59-7065-4886-af8b-278e1c89a178\",\"type\":\"ColumnDataSource\"},{\"attributes\":{\"line_alpha\":0.1,\"line_color\":\"#1f77b4\",\"line_width\":5,\"x\":{\"field\":\"x\"},\"y\":{\"field\":\"y\"}},\"id\":\"de8c3831-ab62-4846-9629-724c6df4befb\",\"type\":\"Line\"},{\"attributes\":{},\"id\":\"8ba73631-37fb-4f35-aa62-4b7c4fb1ecb5\",\"type\":\"Selection\"},{\"attributes\":{\"data_source\":{\"id\":\"b40c42ba-132d-485e-8f5e-1bfe8fe0e4cf\",\"type\":\"ColumnDataSource\"},\"glyph\":{\"id\":\"b1e054bc-2318-458e-ad43-950b3865016b\",\"type\":\"Line\"},\"hover_glyph\":null,\"muted_glyph\":null,\"nonselection_glyph\":{\"id\":\"de8c3831-ab62-4846-9629-724c6df4befb\",\"type\":\"Line\"},\"selection_glyph\":null,\"view\":{\"id\":\"071c098b-1e27-4a3b-bfb7-a93d62422f1a\",\"type\":\"CDSView\"}},\"id\":\"35775730-566c-4104-b156-e500de24bc91\",\"type\":\"GlyphRenderer\"},{\"attributes\":{\"line_alpha\":0.6,\"line_color\":\"green\",\"line_width\":5,\"x\":{\"field\":\"x\"},\"y\":{\"field\":\"y\"}},\"id\":\"14c0ed32-1706-4e7d-aac1-0152922c4606\",\"type\":\"Line\"},{\"attributes\":{},\"id\":\"3451f9e9-60d2-4421-84b6-79be51b54706\",\"type\":\"UnionRenderers\"},{\"attributes\":{\"line_alpha\":0.1,\"line_color\":\"#1f77b4\",\"line_width\":5,\"x\":{\"field\":\"x\"},\"y\":{\"field\":\"y\"}},\"id\":\"b4cf2534-1e0a-4c9b-9763-c10f9cc8e2c0\",\"type\":\"Line\"},{\"attributes\":{\"source\":{\"id\":\"b40c42ba-132d-485e-8f5e-1bfe8fe0e4cf\",\"type\":\"ColumnDataSource\"}},\"id\":\"071c098b-1e27-4a3b-bfb7-a93d62422f1a\",\"type\":\"CDSView\"},{\"attributes\":{},\"id\":\"3261b116-e9aa-4a90-8798-933c56952fd2\",\"type\":\"Selection\"},{\"attributes\":{\"data_source\":{\"id\":\"725a5e59-7065-4886-af8b-278e1c89a178\",\"type\":\"ColumnDataSource\"},\"glyph\":{\"id\":\"14c0ed32-1706-4e7d-aac1-0152922c4606\",\"type\":\"Line\"},\"hover_glyph\":null,\"muted_glyph\":null,\"nonselection_glyph\":{\"id\":\"b4cf2534-1e0a-4c9b-9763-c10f9cc8e2c0\",\"type\":\"Line\"},\"selection_glyph\":null,\"view\":{\"id\":\"1c6c9c57-87bc-4e13-97b3-031c36aefa09\",\"type\":\"CDSView\"}},\"id\":\"273d532e-a6c3-40ad-aa14-c1157d6804f9\",\"type\":\"GlyphRenderer\"},{\"attributes\":{\"callback\":null,\"data\":{\"x\":[4,4],\"y\":[67,64]},\"selected\":{\"id\":\"35783723-8cc5-4bf4-a03f-675846b75f73\",\"type\":\"Selection\"},\"selection_policy\":{\"id\":\"beaa557a-b843-4a22-9f86-d3686573e3c1\",\"type\":\"UnionRenderers\"}},\"id\":\"80a04463-b7dc-4b7e-a346-603b86b4783e\",\"type\":\"ColumnDataSource\"},{\"attributes\":{},\"id\":\"60f04d25-813f-4431-825d-a8123c31f6a8\",\"type\":\"UnionRenderers\"},{\"attributes\":{\"source\":{\"id\":\"725a5e59-7065-4886-af8b-278e1c89a178\",\"type\":\"ColumnDataSource\"}},\"id\":\"1c6c9c57-87bc-4e13-97b3-031c36aefa09\",\"type\":\"CDSView\"},{\"attributes\":{\"line_alpha\":0.6,\"line_color\":\"green\",\"line_width\":5,\"x\":{\"field\":\"x\"},\"y\":{\"field\":\"y\"}},\"id\":\"e2dfbaa8-c27d-478b-84cb-444eab0caf40\",\"type\":\"Line\"},{\"attributes\":{},\"id\":\"8a63db50-b980-4c20-a6aa-e1c49c437728\",\"type\":\"Selection\"},{\"attributes\":{\"callback\":null,\"data\":{\"x\":[0,0],\"y\":[0,0]},\"selected\":{\"id\":\"4daa0b39-a202-4b60-988d-d6611f45e087\",\"type\":\"Selection\"},\"selection_policy\":{\"id\":\"3784da00-e301-4742-8317-5799c8ced7af\",\"type\":\"UnionRenderers\"}},\"id\":\"f133de27-9480-42c9-8835-8f6a442db255\",\"type\":\"ColumnDataSource\"},{\"attributes\":{\"line_alpha\":0.1,\"line_color\":\"#1f77b4\",\"line_width\":5,\"x\":{\"field\":\"x\"},\"y\":{\"field\":\"y\"}},\"id\":\"6becf734-314e-4d18-a987-1293ec40ffed\",\"type\":\"Line\"},{\"attributes\":{},\"id\":\"c29e8ba6-82b2-4814-aebe-6dba44ddb161\",\"type\":\"UnionRenderers\"},{\"attributes\":{\"data_source\":{\"id\":\"80a04463-b7dc-4b7e-a346-603b86b4783e\",\"type\":\"ColumnDataSource\"},\"glyph\":{\"id\":\"e2dfbaa8-c27d-478b-84cb-444eab0caf40\",\"type\":\"Line\"},\"hover_glyph\":null,\"muted_glyph\":null,\"nonselection_glyph\":{\"id\":\"6becf734-314e-4d18-a987-1293ec40ffed\",\"type\":\"Line\"},\"selection_glyph\":null,\"view\":{\"id\":\"6073e30d-6604-4f69-92d7-ec225189d757\",\"type\":\"CDSView\"}},\"id\":\"b2fd3c23-471f-4b23-b0cc-f8bfb16f28ea\",\"type\":\"GlyphRenderer\"},{\"attributes\":{\"line_alpha\":0.4,\"line_width\":5,\"x\":{\"field\":\"x\"},\"y\":{\"field\":\"y\"}},\"id\":\"33a1873b-783e-4e0e-a591-eaeed484f81a\",\"type\":\"Line\"},{\"attributes\":{},\"id\":\"7036af47-b26e-48ad-90c8-8e304f41eb86\",\"type\":\"Selection\"},{\"attributes\":{\"callback\":null},\"id\":\"11d6ee7f-1c69-4373-b79b-8d3540decc27\",\"type\":\"DataRange1d\"},{\"attributes\":{\"callback\":null,\"data\":{\"x\":{\"__ndarray__\":\"AAAAAAAAFMCamZmZmZkTwDQzMzMzMxPAzszMzMzMEsBoZmZmZmYSwAIAAAAAABLAnJmZmZmZEcA2MzMzMzMRwNDMzMzMzBDAamZmZmZmEMAEAAAAAAAQwDwzMzMzMw/AcGZmZmZmDsCkmZmZmZkNwNjMzMzMzAzADAAAAAAADMBAMzMzMzMLwHRmZmZmZgrAqJmZmZmZCcDczMzMzMwIwBAAAAAAAAjARDMzMzMzB8B4ZmZmZmYGwKyZmZmZmQXA4MzMzMzMBMAUAAAAAAAEwEgzMzMzMwPAfGZmZmZmAsCwmZmZmZkBwOTMzMzMzADAGAAAAAAAAMCYZmZmZmb+vwDNzMzMzPy/aDMzMzMz+7/QmZmZmZn5vzgAAAAAAPi/oGZmZmZm9r8IzczMzMz0v3AzMzMzM/O/2JmZmZmZ8b9AAAAAAADwv1DNzMzMzOy/IJqZmZmZ6b/wZmZmZmbmv8AzMzMzM+O/kAAAAAAA4L/AmpmZmZnZv2A0MzMzM9O/AJyZmZmZyb+AnpmZmZm5vwAAAAAAABS9gJSZmZmZuT8Al5mZmZnJP+AxMzMzM9M/QJiZmZmZ2T+g/v/////fP4AyMzMzM+M/sGVmZmZm5j/gmJmZmZnpPxDMzMzMzOw/QP//////7z84mZmZmZnxP9AyMzMzM/M/aMzMzMzM9D8AZmZmZmb2P5j///////c/MJmZmZmZ+T/IMjMzMzP7P2DMzMzMzPw/+GVmZmZm/j+Q////////P5TMzMzMzABAYJmZmZmZAUAsZmZmZmYCQPgyMzMzMwNAxP//////A0CQzMzMzMwEQFyZmZmZmQVAKGZmZmZmBkD0MjMzMzMHQMD//////wdAjMzMzMzMCEBYmZmZmZkJQCRmZmZmZgpA8DIzMzMzC0C8//////8LQIjMzMzMzAxAVJmZmZmZDUAgZmZmZmYOQOwyMzMzMw9AuP//////D0BCZmZmZmYQQKjMzMzMzBBADjMzMzMzEUB0mZmZmZkRQNr//////xFAQGZmZmZmEkCmzMzMzMwSQAwzMzMzMxNAcpmZmZmZE0DY//////8TQA==\",\"dtype\":\"float64\",\"shape\":[101]},\"y\":{\"__ndarray__\":\"AAAAAAAANMCamZmZmZkzwDQzMzMzMzPAzszMzMzMMsBoZmZmZmYywAIAAAAAADLAnJmZmZmZMcA2MzMzMzMxwNDMzMzMzDDAamZmZmZmMMAEAAAAAAAwwDwzMzMzMy/AcGZmZmZmLsCkmZmZmZktwNjMzMzMzCzADAAAAAAALMBAMzMzMzMrwHRmZmZmZirAqJmZmZmZKcDczMzMzMwowBAAAAAAACjARDMzMzMzJ8B4ZmZmZmYmwKyZmZmZmSXA4MzMzMzMJMAUAAAAAAAkwEgzMzMzMyPAfGZmZmZmIsCwmZmZmZkhwOTMzMzMzCDAGAAAAAAAIMCYZmZmZmYewADNzMzMzBzAaDMzMzMzG8DQmZmZmZkZwDgAAAAAABjAoGZmZmZmFsAIzczMzMwUwHAzMzMzMxPA2JmZmZmZEcBAAAAAAAAQwFDNzMzMzAzAIJqZmZmZCcDwZmZmZmYGwMAzMzMzMwPAkAAAAAAAAMDAmpmZmZn5v2A0MzMzM/O/AJyZmZmZ6b+AnpmZmZnZvwAAAAAAADS9gJSZmZmZ2T8Al5mZmZnpP+AxMzMzM/M/QJiZmZmZ+T+g/v//////P4AyMzMzMwNAsGVmZmZmBkDgmJmZmZkJQBDMzMzMzAxAQP//////D0A4mZmZmZkRQNAyMzMzMxNAaMzMzMzMFEAAZmZmZmYWQJj//////xdAMJmZmZmZGUDIMjMzMzMbQGDMzMzMzBxA+GVmZmZmHkCQ//////8fQJTMzMzMzCBAYJmZmZmZIUAsZmZmZmYiQPgyMzMzMyNAxP//////I0CQzMzMzMwkQFyZmZmZmSVAKGZmZmZmJkD0MjMzMzMnQMD//////ydAjMzMzMzMKEBYmZmZmZkpQCRmZmZmZipA8DIzMzMzK0C8//////8rQIjMzMzMzCxAVJmZmZmZLUAgZmZmZmYuQOwyMzMzMy9AuP//////L0BCZmZmZmYwQKjMzMzMzDBADjMzMzMzMUB0mZmZmZkxQNr//////zFAQGZmZmZmMkCmzMzMzMwyQAwzMzMzMzNAcpmZmZmZM0DY//////8zQA==\",\"dtype\":\"float64\",\"shape\":[101]}},\"selected\":{\"id\":\"3389df5e-9a54-4b13-b487-ab416a1d64a7\",\"type\":\"Selection\"},\"selection_policy\":{\"id\":\"bfe1add2-401b-4db2-8d57-c48bd32bab92\",\"type\":\"UnionRenderers\"}},\"id\":\"b7e4107a-1cf2-4235-8a27-15615bc2687b\",\"type\":\"ColumnDataSource\"},{\"attributes\":{\"line_alpha\":0.1,\"line_color\":\"#1f77b4\",\"line_width\":5,\"x\":{\"field\":\"x\"},\"y\":{\"field\":\"y\"}},\"id\":\"d663cad6-6a56-4531-a63d-f89ae99dee42\",\"type\":\"Line\"},{\"attributes\":{\"source\":{\"id\":\"80a04463-b7dc-4b7e-a346-603b86b4783e\",\"type\":\"ColumnDataSource\"}},\"id\":\"6073e30d-6604-4f69-92d7-ec225189d757\",\"type\":\"CDSView\"},{\"attributes\":{},\"id\":\"dc958c44-295c-4adb-8122-0aa51bc85a6b\",\"type\":\"UnionRenderers\"},{\"attributes\":{\"data_source\":{\"id\":\"f133de27-9480-42c9-8835-8f6a442db255\",\"type\":\"ColumnDataSource\"},\"glyph\":{\"id\":\"33a1873b-783e-4e0e-a591-eaeed484f81a\",\"type\":\"Line\"},\"hover_glyph\":null,\"muted_glyph\":null,\"nonselection_glyph\":{\"id\":\"d663cad6-6a56-4531-a63d-f89ae99dee42\",\"type\":\"Line\"},\"selection_glyph\":null,\"view\":{\"id\":\"946408ca-606f-42c1-9f83-5f05bf460d0a\",\"type\":\"CDSView\"}},\"id\":\"b9f42cdc-2823-43cb-8141-05702e3fe243\",\"type\":\"GlyphRenderer\"},{\"attributes\":{\"callback\":null,\"data\":{\"x\":[5,5],\"y\":[75,0]},\"selected\":{\"id\":\"f2592088-6129-4962-afbc-c9777b6357e6\",\"type\":\"Selection\"},\"selection_policy\":{\"id\":\"8287a863-35d5-4d81-ba23-898c73606ef3\",\"type\":\"UnionRenderers\"}},\"id\":\"4da33fd5-c80d-415a-87af-1af8e7dcfe0c\",\"type\":\"ColumnDataSource\"},{\"attributes\":{\"callback\":null},\"id\":\"2ee53705-0c73-41ce-8749-e20f9c40748c\",\"type\":\"DataRange1d\"},{\"attributes\":{},\"id\":\"9acf2edf-190e-4d4e-9e9b-59eeadd27349\",\"type\":\"Selection\"},{\"attributes\":{\"source\":{\"id\":\"f133de27-9480-42c9-8835-8f6a442db255\",\"type\":\"ColumnDataSource\"}},\"id\":\"946408ca-606f-42c1-9f83-5f05bf460d0a\",\"type\":\"CDSView\"},{\"attributes\":{\"line_alpha\":0.4,\"line_width\":5,\"x\":{\"field\":\"x\"},\"y\":{\"field\":\"y\"}},\"id\":\"786fbc30-41a8-4ac4-a352-29bce35853da\",\"type\":\"Line\"},{\"attributes\":{\"active_drag\":\"auto\",\"active_inspect\":\"auto\",\"active_multi\":null,\"active_scroll\":\"auto\",\"active_tap\":\"auto\",\"tools\":[{\"id\":\"6270c9a1-f0d8-4c11-afb2-789245b07a62\",\"type\":\"PanTool\"},{\"id\":\"f29ac4fa-d6b9-4025-8373-f3e0d9eddd0c\",\"type\":\"WheelZoomTool\"},{\"id\":\"ff89df22-be50-49a1-ba2f-5558892284f4\",\"type\":\"BoxZoomTool\"},{\"id\":\"3d17b950-d169-4abe-a9b7-14460ca67efe\",\"type\":\"SaveTool\"},{\"id\":\"578a715d-759f-476b-9f6d-ee1e461803fb\",\"type\":\"ResetTool\"},{\"id\":\"b1ed45d8-7612-4438-bf10-deeb0fceda5e\",\"type\":\"HelpTool\"}]},\"id\":\"f083f422-6c3e-4c9f-856f-88653b464902\",\"type\":\"Toolbar\"},{\"attributes\":{},\"id\":\"4f4c6a5a-6699-4f6e-99e2-a7fff76c4813\",\"type\":\"UnionRenderers\"},{\"attributes\":{\"callback\":null,\"data\":{\"x\":[0,0],\"y\":[0,0]},\"selected\":{\"id\":\"b1d07bd8-7340-41d1-95ae-e0aea0a8f396\",\"type\":\"Selection\"},\"selection_policy\":{\"id\":\"9ac7462e-82bb-4d82-ad20-8978c399fdf3\",\"type\":\"UnionRenderers\"}},\"id\":\"c79afc29-a28a-43b0-b3a7-f4d8e1a32591\",\"type\":\"ColumnDataSource\"},{\"attributes\":{\"line_alpha\":0.1,\"line_color\":\"#1f77b4\",\"line_width\":5,\"x\":{\"field\":\"x\"},\"y\":{\"field\":\"y\"}},\"id\":\"10f01eed-7c87-400f-a9cb-1d2a290e3825\",\"type\":\"Line\"},{\"attributes\":{},\"id\":\"c9ae0d65-d7da-4c50-b4db-6d043615e820\",\"type\":\"Selection\"},{\"attributes\":{\"line_alpha\":0.1,\"line_color\":\"#1f77b4\",\"line_width\":2,\"x\":{\"field\":\"x\"},\"y\":{\"value\":3}},\"id\":\"1a260c12-6ea2-4220-94f9-242ab89d65a0\",\"type\":\"Line\"},{\"attributes\":{},\"id\":\"abe1956d-d15a-498f-8df3-2bb6af2bf2ad\",\"type\":\"UnionRenderers\"},{\"attributes\":{\"items\":[{\"id\":\"f8cbe3de-ca6d-48a6-a551-3f7ff5bc45fd\",\"type\":\"LegendItem\"},{\"id\":\"6f94427a-8e3f-4152-bd97-0dd005b1cb5e\",\"type\":\"LegendItem\"},{\"id\":\"4bcea4ba-5d5f-42ef-92d8-c48d68b74e00\",\"type\":\"LegendItem\"}],\"location\":\"top_center\",\"plot\":{\"id\":\"21772595-a820-4f8b-a5e4-44a788dbd9ea\",\"subtype\":\"Figure\",\"type\":\"Plot\"}},\"id\":\"adce6b03-e869-4b9d-a211-c0f1c242f646\",\"type\":\"Legend\"},{\"attributes\":{\"data_source\":{\"id\":\"4da33fd5-c80d-415a-87af-1af8e7dcfe0c\",\"type\":\"ColumnDataSource\"},\"glyph\":{\"id\":\"786fbc30-41a8-4ac4-a352-29bce35853da\",\"type\":\"Line\"},\"hover_glyph\":null,\"muted_glyph\":null,\"nonselection_glyph\":{\"id\":\"10f01eed-7c87-400f-a9cb-1d2a290e3825\",\"type\":\"Line\"},\"selection_glyph\":null,\"view\":{\"id\":\"84ee7c28-2133-432c-b2f8-e2f2dea89ce1\",\"type\":\"CDSView\"}},\"id\":\"a5df340b-5f3d-4897-a0f3-1e45809316a6\",\"type\":\"GlyphRenderer\"},{\"attributes\":{\"line_alpha\":0.4,\"line_color\":\"orange\",\"line_width\":5,\"x\":{\"field\":\"x\"},\"y\":{\"field\":\"y\"}},\"id\":\"7d00e0c6-b2d8-4b4d-a05c-13f2029cb092\",\"type\":\"Line\"},{\"attributes\":{\"below\":[{\"id\":\"0d76db12-050e-4302-8fe2-089ea3163e03\",\"type\":\"LinearAxis\"}],\"left\":[{\"id\":\"f2e52ff1-34e0-49cf-9dbc-26c503178f3f\",\"type\":\"LinearAxis\"}],\"plot_height\":400,\"plot_width\":700,\"renderers\":[{\"id\":\"0d76db12-050e-4302-8fe2-089ea3163e03\",\"type\":\"LinearAxis\"},{\"id\":\"2e56db7d-f7d5-43f9-b0ac-d9f422220397\",\"type\":\"Grid\"},{\"id\":\"f2e52ff1-34e0-49cf-9dbc-26c503178f3f\",\"type\":\"LinearAxis\"},{\"id\":\"05fc4855-5978-4044-ba1a-50451f59969d\",\"type\":\"Grid\"},{\"id\":\"87329c3d-80e3-40c0-bdac-8329f6533486\",\"type\":\"BoxAnnotation\"},{\"id\":\"adce6b03-e869-4b9d-a211-c0f1c242f646\",\"type\":\"Legend\"},{\"id\":\"200c81bc-ba75-44be-b751-77d44f7e64f8\",\"type\":\"GlyphRenderer\"},{\"id\":\"00d4ada9-9d87-4fd6-a332-6eb3b75756ed\",\"type\":\"GlyphRenderer\"},{\"id\":\"1ecc3151-3012-4174-980f-105f0fa07949\",\"type\":\"GlyphRenderer\"}],\"title\":{\"id\":\"c06c9c50-042e-40e6-b134-6b73759c1991\",\"type\":\"Title\"},\"toolbar\":{\"id\":\"f083f422-6c3e-4c9f-856f-88653b464902\",\"type\":\"Toolbar\"},\"toolbar_location\":\"below\",\"x_range\":{\"id\":\"2ee53705-0c73-41ce-8749-e20f9c40748c\",\"type\":\"DataRange1d\"},\"x_scale\":{\"id\":\"8623b616-7ce5-4723-9a77-a279cb491ca6\",\"type\":\"LinearScale\"},\"y_range\":{\"id\":\"11d6ee7f-1c69-4373-b79b-8d3540decc27\",\"type\":\"DataRange1d\"},\"y_scale\":{\"id\":\"90a3d1ce-21e1-483b-8e9b-3446a40d7326\",\"type\":\"LinearScale\"}},\"id\":\"21772595-a820-4f8b-a5e4-44a788dbd9ea\",\"subtype\":\"Figure\",\"type\":\"Plot\"},{\"attributes\":{\"line_alpha\":0.1,\"line_color\":\"#1f77b4\",\"line_width\":5,\"x\":{\"field\":\"x\"},\"y\":{\"field\":\"y\"}},\"id\":\"0cbe616b-d16c-4c36-ab2a-885e39d38d8e\",\"type\":\"Line\"},{\"attributes\":{\"source\":{\"id\":\"4da33fd5-c80d-415a-87af-1af8e7dcfe0c\",\"type\":\"ColumnDataSource\"}},\"id\":\"84ee7c28-2133-432c-b2f8-e2f2dea89ce1\",\"type\":\"CDSView\"},{\"attributes\":{},\"id\":\"86351757-f66c-40b0-be80-be9fb9d8d575\",\"type\":\"Selection\"},{\"attributes\":{\"callback\":null,\"data\":{\"x\":{\"__ndarray__\":\"AAAAAAAAFMCamZmZmZkTwDQzMzMzMxPAzszMzMzMEsBoZmZmZmYSwAIAAAAAABLAnJmZmZmZEcA2MzMzMzMRwNDMzMzMzBDAamZmZmZmEMAEAAAAAAAQwDwzMzMzMw/AcGZmZmZmDsCkmZmZmZkNwNjMzMzMzAzADAAAAAAADMBAMzMzMzMLwHRmZmZmZgrAqJmZmZmZCcDczMzMzMwIwBAAAAAAAAjARDMzMzMzB8B4ZmZmZmYGwKyZmZmZmQXA4MzMzMzMBMAUAAAAAAAEwEgzMzMzMwPAfGZmZmZmAsCwmZmZmZkBwOTMzMzMzADAGAAAAAAAAMCYZmZmZmb+vwDNzMzMzPy/aDMzMzMz+7/QmZmZmZn5vzgAAAAAAPi/oGZmZmZm9r8IzczMzMz0v3AzMzMzM/O/2JmZmZmZ8b9AAAAAAADwv1DNzMzMzOy/IJqZmZmZ6b/wZmZmZmbmv8AzMzMzM+O/kAAAAAAA4L/AmpmZmZnZv2A0MzMzM9O/AJyZmZmZyb+AnpmZmZm5vwAAAAAAABS9gJSZmZmZuT8Al5mZmZnJP+AxMzMzM9M/QJiZmZmZ2T+g/v/////fP4AyMzMzM+M/sGVmZmZm5j/gmJmZmZnpPxDMzMzMzOw/QP//////7z84mZmZmZnxP9AyMzMzM/M/aMzMzMzM9D8AZmZmZmb2P5j///////c/MJmZmZmZ+T/IMjMzMzP7P2DMzMzMzPw/+GVmZmZm/j+Q////////P5TMzMzMzABAYJmZmZmZAUAsZmZmZmYCQPgyMzMzMwNAxP//////A0CQzMzMzMwEQFyZmZmZmQVAKGZmZmZmBkD0MjMzMzMHQMD//////wdAjMzMzMzMCEBYmZmZmZkJQCRmZmZmZgpA8DIzMzMzC0C8//////8LQIjMzMzMzAxAVJmZmZmZDUAgZmZmZmYOQOwyMzMzMw9AuP//////D0BCZmZmZmYQQKjMzMzMzBBADjMzMzMzEUB0mZmZmZkRQNr//////xFAQGZmZmZmEkCmzMzMzMwSQAwzMzMzMxNAcpmZmZmZE0DY//////8TQA==\",\"dtype\":\"float64\",\"shape\":[101]},\"y\":{\"__ndarray__\":\"AAAAAADAUkBTuB6F6wFSQEnhehSuR1FA5HoUrkeRUEBECtejcL1PQAgAAAAAYE5AEtejcD0KTUBkj8L1KLxLQAApXI/CdUpA4qNwPQo3SUAMAAAAAABIQH49Ctej0EZAN1yPwvWoRUA4XI/C9YhEQIA9CtejcENAEAAAAABgQkDno3A9CldBQAYpXI/CVUBA2x6F61G4PkA4rkfhetQ8QCQAAAAAADtAnxSuR+E6OUCq61G4HoU3QESF61G43jVAbeF6FK5HNEAmAAAAAMAyQG3hehSuRzFAiArXo3C9L0BU16NwPQotQEApXI/CdSpASAAAAAAAKEBwXI/C9aglQLY9CtejcCNAGqRwPQpXIUA7H4XrUbgeQH4AAAAAABtA/utRuB6FF0C74XoUrkcUQLXhehSuRxFA2NejcD0KDUDAAAAAAAAIQCI+CtejcANA+x+F61G4/j+m7FG4HoX3P0XiehSuR/E/sAEAAAAA6D97IYXrUbjeP2XjehSuR9E/eySF61G4vj97KoXrUbiePwAAAAAAwFI6exKF61G4nj97GIXrUbi+P+XeehSuR9E/exuF61G43j/w/f/////nPwXgehSuR/E/BupRuB6F9z/7HIXrUbj+P3I8CtejcANA4P7/////B0DI1aNwPQoNQJXgehSuRxFAg+B6FK5HFECu6lG4HoUXQBb//////xpAux2F61G4HkBOo3A9ClchQN48CtejcCNAjFuPwvWoJUBY//////8nQEQoXI/CdSpATNajcD0KLUB0CdejcL0vQN3gehSuRzFAkP////+/MkDR4HoUrkc0QKKE61G43jVAAutRuB6FN0DxE65H4To5QHD//////zpAfq1H4XrUPEAbHoXrUbg+QKQoXI/CVUBAgaNwPQpXQUCn/////19CQBQ9CtejcENAyVuPwvWIREDFW4/C9ahFQAk9Ctej0EZAlP//////R0Boo3A9CjdJQIIoXI/CdUpA5I7C9Si8S0CO1qNwPQpNQID/////X05AugnXo3C9T0CdehSuR5FQQAHhehSuR1FACrgehesBUkC1/////79SQA==\",\"dtype\":\"float64\",\"shape\":[101]}},\"selected\":{\"id\":\"5d0e3c5a-c989-4ceb-902e-3f0ff82e6eb7\",\"type\":\"Selection\"},\"selection_policy\":{\"id\":\"e4e80433-7309-4d8e-b260-eef0060cbf99\",\"type\":\"UnionRenderers\"}},\"id\":\"79d3e682-9b6c-4612-9ccd-e719751225d7\",\"type\":\"ColumnDataSource\"},{\"attributes\":{},\"id\":\"3c7db35a-3052-45b7-8376-1c52e46828d2\",\"type\":\"UnionRenderers\"},{\"attributes\":{\"data_source\":{\"id\":\"c79afc29-a28a-43b0-b3a7-f4d8e1a32591\",\"type\":\"ColumnDataSource\"},\"glyph\":{\"id\":\"7d00e0c6-b2d8-4b4d-a05c-13f2029cb092\",\"type\":\"Line\"},\"hover_glyph\":null,\"muted_glyph\":null,\"nonselection_glyph\":{\"id\":\"0cbe616b-d16c-4c36-ab2a-885e39d38d8e\",\"type\":\"Line\"},\"selection_glyph\":null,\"view\":{\"id\":\"2d9cd6cb-eb9b-43f6-9f15-1ff67a1813f3\",\"type\":\"CDSView\"}},\"id\":\"4041ac7c-03cb-42c9-bed5-41b4d72e9805\",\"type\":\"GlyphRenderer\"},{\"attributes\":{},\"id\":\"b6bbda59-7e0d-4f5d-a641-8e8d162bb609\",\"type\":\"BasicTickFormatter\"},{\"attributes\":{\"callback\":null,\"data\":{\"x\":[5,5],\"y\":[95,75]},\"selected\":{\"id\":\"bd050bac-447c-4a12-86c6-43ad6e832a5d\",\"type\":\"Selection\"},\"selection_policy\":{\"id\":\"7aacb113-b7d5-4c75-a33d-3c4f7e5a8aa2\",\"type\":\"UnionRenderers\"}},\"id\":\"dcc34f27-a834-4eed-a893-893e0c191dac\",\"type\":\"ColumnDataSource\"},{\"attributes\":{\"source\":{\"id\":\"c79afc29-a28a-43b0-b3a7-f4d8e1a32591\",\"type\":\"ColumnDataSource\"}},\"id\":\"2d9cd6cb-eb9b-43f6-9f15-1ff67a1813f3\",\"type\":\"CDSView\"},{\"attributes\":{\"line_alpha\":0.4,\"line_color\":\"orange\",\"line_width\":5,\"x\":{\"field\":\"x\"},\"y\":{\"field\":\"y\"}},\"id\":\"fde67eb5-fa7b-41f8-850c-a922918a1824\",\"type\":\"Line\"},{\"attributes\":{\"plot\":null,\"text\":\"The Derivative of each Function Individually\"},\"id\":\"c06c9c50-042e-40e6-b134-6b73759c1991\",\"type\":\"Title\"},{\"attributes\":{},\"id\":\"f0a345d3-e58a-44eb-95b6-471e84fdfad8\",\"type\":\"Selection\"},{\"attributes\":{},\"id\":\"8ba09ed6-15d5-4803-8232-e08dd99e077d\",\"type\":\"UnionRenderers\"},{\"attributes\":{},\"id\":\"8623b616-7ce5-4723-9a77-a279cb491ca6\",\"type\":\"LinearScale\"},{\"attributes\":{\"callback\":null,\"data\":{\"x\":[0,0],\"y\":[3,0]},\"selected\":{\"id\":\"a228aafe-5e1a-4cfe-a96e-95ccbe9e2508\",\"type\":\"Selection\"},\"selection_policy\":{\"id\":\"af66b5c8-3ce7-48f3-844a-9c40b0cb221f\",\"type\":\"UnionRenderers\"}},\"id\":\"7fde2f6a-7139-4418-a4cd-46407cf3b930\",\"type\":\"ColumnDataSource\"},{\"attributes\":{\"line_alpha\":0.1,\"line_color\":\"#1f77b4\",\"line_width\":5,\"x\":{\"field\":\"x\"},\"y\":{\"field\":\"y\"}},\"id\":\"9b732090-35dc-4e0c-8b89-0df8e25ce03e\",\"type\":\"Line\"},{\"attributes\":{},\"id\":\"b0513a94-1bb8-4750-b5b2-4ff6b2c79a6b\",\"type\":\"Selection\"},{\"attributes\":{\"below\":[{\"id\":\"24076a89-c3f6-478c-bbf0-06c6639b6146\",\"type\":\"LinearAxis\"}],\"left\":[{\"id\":\"f77a52b1-bee3-4091-8c28-6481de28a6b2\",\"type\":\"LinearAxis\"}],\"plot_height\":400,\"plot_width\":700,\"renderers\":[{\"id\":\"24076a89-c3f6-478c-bbf0-06c6639b6146\",\"type\":\"LinearAxis\"},{\"id\":\"4a08f9f8-0963-4914-b581-1dffd96be67a\",\"type\":\"Grid\"},{\"id\":\"f77a52b1-bee3-4091-8c28-6481de28a6b2\",\"type\":\"LinearAxis\"},{\"id\":\"acb2f6d1-4210-4fcb-9b2c-27ff2ae52060\",\"type\":\"Grid\"},{\"id\":\"0f983934-01c9-406f-bd5f-fb217b6efe2a\",\"type\":\"BoxAnnotation\"},{\"id\":\"f8b78ac8-7482-4c20-be33-47e006ed9cbb\",\"type\":\"GlyphRenderer\"},{\"id\":\"53b52c19-6eac-42e4-99df-953f5049bd25\",\"type\":\"GlyphRenderer\"},{\"id\":\"0a92272e-ee0c-4f37-a755-447f82ad9484\",\"type\":\"GlyphRenderer\"},{\"id\":\"0356829f-31c7-4c6a-a27e-4bc07fb924d8\",\"type\":\"GlyphRenderer\"},{\"id\":\"e5ed4e95-0cc0-424c-8d4a-988d62c634be\",\"type\":\"GlyphRenderer\"},{\"id\":\"9466e33e-78fc-48cb-98db-6c1ad1d829ac\",\"type\":\"GlyphRenderer\"},{\"id\":\"a400e19a-e515-40fc-acc7-0b9df83a0a62\",\"type\":\"GlyphRenderer\"},{\"id\":\"74815cbe-6676-413b-962d-359bbc9d83c6\",\"type\":\"GlyphRenderer\"},{\"id\":\"518f476b-8bbb-47ba-878b-8dd082f6e9da\",\"type\":\"GlyphRenderer\"},{\"id\":\"0e56eee9-7d10-4268-bd8c-92eded8a7624\",\"type\":\"GlyphRenderer\"},{\"id\":\"45126894-0704-4697-bcd7-77808ba18a62\",\"type\":\"GlyphRenderer\"},{\"id\":\"750b2286-261b-4f75-953e-4deca96881db\",\"type\":\"GlyphRenderer\"},{\"id\":\"e5fbc684-2dc4-471c-82c2-5f60fcfdcab6\",\"type\":\"GlyphRenderer\"},{\"id\":\"7c0a5aec-8032-4f09-85d3-f27b05981322\",\"type\":\"GlyphRenderer\"},{\"id\":\"273d532e-a6c3-40ad-aa14-c1157d6804f9\",\"type\":\"GlyphRenderer\"},{\"id\":\"b9f42cdc-2823-43cb-8141-05702e3fe243\",\"type\":\"GlyphRenderer\"},{\"id\":\"4041ac7c-03cb-42c9-bed5-41b4d72e9805\",\"type\":\"GlyphRenderer\"},{\"id\":\"a13098ca-954a-4e04-a708-9c030684a10a\",\"type\":\"GlyphRenderer\"},{\"id\":\"e169456f-4c02-4fed-9342-265a216008de\",\"type\":\"GlyphRenderer\"},{\"id\":\"95694e6f-c80f-4194-9442-423d5e4c1a77\",\"type\":\"GlyphRenderer\"},{\"id\":\"7827643c-ec7d-4b2f-94a6-ddb19f981d25\",\"type\":\"GlyphRenderer\"},{\"id\":\"e8c88b19-4114-42fc-bf87-ccf43b772ec9\",\"type\":\"GlyphRenderer\"},{\"id\":\"316c3a57-ffa5-429b-a4c3-12d2b0cf71da\",\"type\":\"GlyphRenderer\"},{\"id\":\"657ce621-15bb-4f4d-a0c8-afaf9d631824\",\"type\":\"GlyphRenderer\"},{\"id\":\"191acb0a-02e6-40e8-b355-f96d0fba64cd\",\"type\":\"GlyphRenderer\"},{\"id\":\"0327811c-4d0a-419e-9368-68eca973f89e\",\"type\":\"GlyphRenderer\"},{\"id\":\"116432a9-6bd3-44bb-82bf-d5c548b5d349\",\"type\":\"GlyphRenderer\"},{\"id\":\"ed7da267-057d-4136-9784-2cf475985b05\",\"type\":\"GlyphRenderer\"},{\"id\":\"35775730-566c-4104-b156-e500de24bc91\",\"type\":\"GlyphRenderer\"},{\"id\":\"b2fd3c23-471f-4b23-b0cc-f8bfb16f28ea\",\"type\":\"GlyphRenderer\"},{\"id\":\"a5df340b-5f3d-4897-a0f3-1e45809316a6\",\"type\":\"GlyphRenderer\"},{\"id\":\"9b1cae5b-c713-46e5-9599-3fe48105853a\",\"type\":\"GlyphRenderer\"},{\"id\":\"60641ce3-2f6a-4b51-ae5f-7de6ca6c69d7\",\"type\":\"GlyphRenderer\"},{\"id\":\"b3345acb-5608-41e7-9eae-61e6b4f65ee8\",\"type\":\"GlyphRenderer\"}],\"title\":{\"id\":\"26946fbc-00f3-45de-a4a0-cb7ef089d9e9\",\"type\":\"Title\"},\"toolbar\":{\"id\":\"5aac3c9c-d15d-45d9-b1f2-a06a372cd7a1\",\"type\":\"Toolbar\"},\"toolbar_location\":\"below\",\"x_range\":{\"id\":\"f3e889b2-d5d9-4866-9e46-db459d1e808a\",\"type\":\"DataRange1d\"},\"x_scale\":{\"id\":\"8d65529e-59ae-42a5-9146-fdf9bf7cce99\",\"type\":\"LinearScale\"},\"y_range\":{\"id\":\"3c7f48f3-5ea1-43c8-9226-496a36a320a4\",\"type\":\"DataRange1d\"},\"y_scale\":{\"id\":\"e320fd53-9af2-487b-bb0e-0c274f7b1ae5\",\"type\":\"LinearScale\"}},\"id\":\"0767930c-853e-47ca-b496-198f95674f0c\",\"subtype\":\"Figure\",\"type\":\"Plot\"},{\"attributes\":{\"data_source\":{\"id\":\"dcc34f27-a834-4eed-a893-893e0c191dac\",\"type\":\"ColumnDataSource\"},\"glyph\":{\"id\":\"fde67eb5-fa7b-41f8-850c-a922918a1824\",\"type\":\"Line\"},\"hover_glyph\":null,\"muted_glyph\":null,\"nonselection_glyph\":{\"id\":\"9b732090-35dc-4e0c-8b89-0df8e25ce03e\",\"type\":\"Line\"},\"selection_glyph\":null,\"view\":{\"id\":\"4d7efe23-2470-4797-9bdc-a52340c1baf5\",\"type\":\"CDSView\"}},\"id\":\"9b1cae5b-c713-46e5-9599-3fe48105853a\",\"type\":\"GlyphRenderer\"},{\"attributes\":{\"line_alpha\":0.6,\"line_color\":\"green\",\"line_width\":5,\"x\":{\"field\":\"x\"},\"y\":{\"field\":\"y\"}},\"id\":\"7695a34b-dfc8-411a-933d-e1737356f34d\",\"type\":\"Line\"},{\"attributes\":{},\"id\":\"90a3d1ce-21e1-483b-8e9b-3446a40d7326\",\"type\":\"LinearScale\"},{\"attributes\":{},\"id\":\"697f0c90-2380-4c41-8a28-99941d8c9ab0\",\"type\":\"UnionRenderers\"},{\"attributes\":{\"line_alpha\":0.1,\"line_color\":\"#1f77b4\",\"line_width\":5,\"x\":{\"field\":\"x\"},\"y\":{\"field\":\"y\"}},\"id\":\"0a5fed3e-09f7-4fc0-81fd-50cc0fea7bf2\",\"type\":\"Line\"},{\"attributes\":{\"data_source\":{\"id\":\"7fde2f6a-7139-4418-a4cd-46407cf3b930\",\"type\":\"ColumnDataSource\"},\"glyph\":{\"id\":\"7695a34b-dfc8-411a-933d-e1737356f34d\",\"type\":\"Line\"},\"hover_glyph\":null,\"muted_glyph\":null,\"nonselection_glyph\":{\"id\":\"0a5fed3e-09f7-4fc0-81fd-50cc0fea7bf2\",\"type\":\"Line\"},\"selection_glyph\":null,\"view\":{\"id\":\"b184f222-37c9-4e2c-aa94-c37597563504\",\"type\":\"CDSView\"}},\"id\":\"a13098ca-954a-4e04-a708-9c030684a10a\",\"type\":\"GlyphRenderer\"},{\"attributes\":{\"data_source\":{\"id\":\"79d3e682-9b6c-4612-9ccd-e719751225d7\",\"type\":\"ColumnDataSource\"},\"glyph\":{\"id\":\"c6e609ee-7826-4845-9304-902adc47879a\",\"type\":\"Line\"},\"hover_glyph\":null,\"muted_glyph\":null,\"nonselection_glyph\":{\"id\":\"fcdfeb28-c235-46ee-b586-0341ff928138\",\"type\":\"Line\"},\"selection_glyph\":null,\"view\":{\"id\":\"59881b1a-3c28-45d3-8d25-0c706e5d5a7f\",\"type\":\"CDSView\"}},\"id\":\"200c81bc-ba75-44be-b751-77d44f7e64f8\",\"type\":\"GlyphRenderer\"},{\"attributes\":{\"callback\":null,\"data\":{\"x\":[5,5],\"y\":[98,95]},\"selected\":{\"id\":\"0da06362-6582-41fe-9e55-1ae764897d3e\",\"type\":\"Selection\"},\"selection_policy\":{\"id\":\"bfd43562-3b3b-4a43-9b11-f17cc3425eeb\",\"type\":\"UnionRenderers\"}},\"id\":\"ee707bc1-bfbc-48a1-8c07-7d0d49b66466\",\"type\":\"ColumnDataSource\"},{\"attributes\":{},\"id\":\"68ca6fe1-0bbe-480c-a605-069849f54b18\",\"type\":\"Selection\"},{\"attributes\":{\"axis_label\":\"X\",\"formatter\":{\"id\":\"b6bbda59-7e0d-4f5d-a641-8e8d162bb609\",\"type\":\"BasicTickFormatter\"},\"plot\":{\"id\":\"21772595-a820-4f8b-a5e4-44a788dbd9ea\",\"subtype\":\"Figure\",\"type\":\"Plot\"},\"ticker\":{\"id\":\"b40edf6b-9db0-413c-ad21-7c2574d02bad\",\"type\":\"BasicTicker\"}},\"id\":\"0d76db12-050e-4302-8fe2-089ea3163e03\",\"type\":\"LinearAxis\"},{\"attributes\":{},\"id\":\"a4ba7fe0-ae81-44f2-a3f6-1cc8fe65baf9\",\"type\":\"UnionRenderers\"},{\"attributes\":{\"source\":{\"id\":\"7fde2f6a-7139-4418-a4cd-46407cf3b930\",\"type\":\"ColumnDataSource\"}},\"id\":\"b184f222-37c9-4e2c-aa94-c37597563504\",\"type\":\"CDSView\"},{\"attributes\":{},\"id\":\"35783723-8cc5-4bf4-a03f-675846b75f73\",\"type\":\"Selection\"},{\"attributes\":{},\"id\":\"b40edf6b-9db0-413c-ad21-7c2574d02bad\",\"type\":\"BasicTicker\"},{\"attributes\":{\"callback\":null,\"data\":{\"x\":[1,1],\"y\":[3,0]},\"selected\":{\"id\":\"7bfe40b7-d518-47a5-9140-ffb080e75771\",\"type\":\"Selection\"},\"selection_policy\":{\"id\":\"375b5570-c22b-4349-ae40-2f860b79fdca\",\"type\":\"UnionRenderers\"}},\"id\":\"c49e1f30-dce8-4e78-b7a0-5a7274869d59\",\"type\":\"ColumnDataSource\"},{\"attributes\":{\"line_alpha\":0.1,\"line_color\":\"#1f77b4\",\"line_width\":5,\"x\":{\"field\":\"x\"},\"y\":{\"field\":\"y\"}},\"id\":\"ca90b9ee-c895-4736-a376-d5d73d7d3984\",\"type\":\"Line\"},{\"attributes\":{\"axis_label\":\"f(X)\",\"formatter\":{\"id\":\"276b8cf5-dc0c-4bb3-b388-8a350b151064\",\"type\":\"BasicTickFormatter\"},\"plot\":{\"id\":\"21772595-a820-4f8b-a5e4-44a788dbd9ea\",\"subtype\":\"Figure\",\"type\":\"Plot\"},\"ticker\":{\"id\":\"dcc94a4a-c98c-4bb7-8837-814f36c63705\",\"type\":\"BasicTicker\"}},\"id\":\"f2e52ff1-34e0-49cf-9dbc-26c503178f3f\",\"type\":\"LinearAxis\"},{\"attributes\":{},\"id\":\"beaa557a-b843-4a22-9f86-d3686573e3c1\",\"type\":\"UnionRenderers\"},{\"attributes\":{\"data_source\":{\"id\":\"ee707bc1-bfbc-48a1-8c07-7d0d49b66466\",\"type\":\"ColumnDataSource\"},\"glyph\":{\"id\":\"c3a7d571-154b-4596-a455-078d0f5bccd6\",\"type\":\"Line\"},\"hover_glyph\":null,\"muted_glyph\":null,\"nonselection_glyph\":{\"id\":\"ca90b9ee-c895-4736-a376-d5d73d7d3984\",\"type\":\"Line\"},\"selection_glyph\":null,\"view\":{\"id\":\"ebecc7de-71b0-4824-8985-a579d0bfeb9a\",\"type\":\"CDSView\"}},\"id\":\"60641ce3-2f6a-4b51-ae5f-7de6ca6c69d7\",\"type\":\"GlyphRenderer\"},{\"attributes\":{\"line_alpha\":0.1,\"line_color\":\"#1f77b4\",\"line_width\":5,\"x\":{\"field\":\"x\"},\"y\":{\"field\":\"y\"}},\"id\":\"ac33b052-5000-4428-af6c-71b238c833eb\",\"type\":\"Line\"},{\"attributes\":{},\"id\":\"dcc94a4a-c98c-4bb7-8837-814f36c63705\",\"type\":\"BasicTicker\"},{\"attributes\":{\"source\":{\"id\":\"ee707bc1-bfbc-48a1-8c07-7d0d49b66466\",\"type\":\"ColumnDataSource\"}},\"id\":\"ebecc7de-71b0-4824-8985-a579d0bfeb9a\",\"type\":\"CDSView\"},{\"attributes\":{},\"id\":\"f2592088-6129-4962-afbc-c9777b6357e6\",\"type\":\"Selection\"},{\"attributes\":{\"dimension\":1,\"plot\":{\"id\":\"21772595-a820-4f8b-a5e4-44a788dbd9ea\",\"subtype\":\"Figure\",\"type\":\"Plot\"},\"ticker\":{\"id\":\"dcc94a4a-c98c-4bb7-8837-814f36c63705\",\"type\":\"BasicTicker\"}},\"id\":\"05fc4855-5978-4044-ba1a-50451f59969d\",\"type\":\"Grid\"},{\"attributes\":{},\"id\":\"8287a863-35d5-4d81-ba23-898c73606ef3\",\"type\":\"UnionRenderers\"},{\"attributes\":{\"children\":[{\"id\":\"21772595-a820-4f8b-a5e4-44a788dbd9ea\",\"subtype\":\"Figure\",\"type\":\"Plot\"},{\"id\":\"0767930c-853e-47ca-b496-198f95674f0c\",\"subtype\":\"Figure\",\"type\":\"Plot\"}]},\"id\":\"98919d16-0712-4516-8944-d23b0293156d\",\"type\":\"Column\"},{\"attributes\":{\"source\":{\"id\":\"c49e1f30-dce8-4e78-b7a0-5a7274869d59\",\"type\":\"ColumnDataSource\"}},\"id\":\"7bd4cfb0-16cc-4476-841e-f46890845907\",\"type\":\"CDSView\"},{\"attributes\":{\"source\":{\"id\":\"79d3e682-9b6c-4612-9ccd-e719751225d7\",\"type\":\"ColumnDataSource\"}},\"id\":\"59881b1a-3c28-45d3-8d25-0c706e5d5a7f\",\"type\":\"CDSView\"},{\"attributes\":{\"line_alpha\":0.6,\"line_color\":\"green\",\"line_width\":5,\"x\":{\"field\":\"x\"},\"y\":{\"field\":\"y\"}},\"id\":\"c3a7d571-154b-4596-a455-078d0f5bccd6\",\"type\":\"Line\"},{\"attributes\":{\"line_color\":\"steelblue\",\"line_width\":3,\"x\":{\"field\":\"x\"},\"y\":{\"field\":\"y\"}},\"id\":\"765532c3-9731-4a9a-8cc3-21c1fcae7b22\",\"type\":\"Line\"},{\"attributes\":{\"line_alpha\":0.1,\"line_color\":\"#1f77b4\",\"line_width\":2,\"x\":{\"field\":\"x\"},\"y\":{\"field\":\"y\"}},\"id\":\"fcdfeb28-c235-46ee-b586-0341ff928138\",\"type\":\"Line\"},{\"attributes\":{},\"id\":\"7aacb113-b7d5-4c75-a33d-3c4f7e5a8aa2\",\"type\":\"UnionRenderers\"},{\"attributes\":{\"callback\":null,\"data\":{\"x\":[1,1],\"y\":[7,3]},\"selected\":{\"id\":\"8ba73631-37fb-4f35-aa62-4b7c4fb1ecb5\",\"type\":\"Selection\"},\"selection_policy\":{\"id\":\"3451f9e9-60d2-4421-84b6-79be51b54706\",\"type\":\"UnionRenderers\"}},\"id\":\"70e927c4-82ca-470d-8ac5-883cb8ed81e0\",\"type\":\"ColumnDataSource\"},{\"attributes\":{\"data_source\":{\"id\":\"5063d704-da4d-4f8d-a7ed-358758243e1b\",\"type\":\"ColumnDataSource\"},\"glyph\":{\"id\":\"765532c3-9731-4a9a-8cc3-21c1fcae7b22\",\"type\":\"Line\"},\"hover_glyph\":null,\"muted_glyph\":null,\"nonselection_glyph\":{\"id\":\"7a8bce34-6ced-462e-beb9-6102a31baa66\",\"type\":\"Line\"},\"selection_glyph\":null,\"view\":{\"id\":\"5907d09d-7e87-44d7-9bce-85a2f2c62e96\",\"type\":\"CDSView\"}},\"id\":\"b3345acb-5608-41e7-9eae-61e6b4f65ee8\",\"type\":\"GlyphRenderer\"},{\"attributes\":{\"line_alpha\":0.5,\"line_width\":2,\"x\":{\"field\":\"x\"},\"y\":{\"field\":\"y\"}},\"id\":\"c6e609ee-7826-4845-9304-902adc47879a\",\"type\":\"Line\"},{\"attributes\":{\"line_alpha\":0.4,\"line_color\":\"orange\",\"line_width\":5,\"x\":{\"field\":\"x\"},\"y\":{\"field\":\"y\"}},\"id\":\"3cc6d07f-bf2c-4e85-be8e-f8b14ed8920e\",\"type\":\"Line\"},{\"attributes\":{},\"id\":\"0da06362-6582-41fe-9e55-1ae764897d3e\",\"type\":\"Selection\"},{\"attributes\":{\"callback\":null,\"data\":{\"x\":[-5,-5],\"y\":[75,0]},\"selected\":{\"id\":\"6ee822d8-9ce5-454b-b643-97346caca307\",\"type\":\"Selection\"},\"selection_policy\":{\"id\":\"b41dc9a8-a114-4213-b773-21dd669d1ba3\",\"type\":\"UnionRenderers\"}},\"id\":\"ca128553-027f-412a-abb4-4b1b31c59ef7\",\"type\":\"ColumnDataSource\"},{\"attributes\":{\"line_alpha\":0.1,\"line_color\":\"#1f77b4\",\"line_width\":5,\"x\":{\"field\":\"x\"},\"y\":{\"field\":\"y\"}},\"id\":\"5f38bc2b-6ff2-4a1c-9058-58bb0c61487c\",\"type\":\"Line\"},{\"attributes\":{\"source\":{\"id\":\"5063d704-da4d-4f8d-a7ed-358758243e1b\",\"type\":\"ColumnDataSource\"}},\"id\":\"5907d09d-7e87-44d7-9bce-85a2f2c62e96\",\"type\":\"CDSView\"},{\"attributes\":{\"data_source\":{\"id\":\"70e927c4-82ca-470d-8ac5-883cb8ed81e0\",\"type\":\"ColumnDataSource\"},\"glyph\":{\"id\":\"3cc6d07f-bf2c-4e85-be8e-f8b14ed8920e\",\"type\":\"Line\"},\"hover_glyph\":null,\"muted_glyph\":null,\"nonselection_glyph\":{\"id\":\"5f38bc2b-6ff2-4a1c-9058-58bb0c61487c\",\"type\":\"Line\"},\"selection_glyph\":null,\"view\":{\"id\":\"5c4543cc-8651-40e7-a965-3b87d1b04ac0\",\"type\":\"CDSView\"}},\"id\":\"95694e6f-c80f-4194-9442-423d5e4c1a77\",\"type\":\"GlyphRenderer\"},{\"attributes\":{},\"id\":\"6270c9a1-f0d8-4c11-afb2-789245b07a62\",\"type\":\"PanTool\"},{\"attributes\":{},\"id\":\"dfbe6604-3685-4bcf-8bfd-517a4c59058e\",\"type\":\"Selection\"},{\"attributes\":{\"source\":{\"id\":\"70e927c4-82ca-470d-8ac5-883cb8ed81e0\",\"type\":\"ColumnDataSource\"}},\"id\":\"5c4543cc-8651-40e7-a965-3b87d1b04ac0\",\"type\":\"CDSView\"},{\"attributes\":{},\"id\":\"276b8cf5-dc0c-4bb3-b388-8a350b151064\",\"type\":\"BasicTickFormatter\"},{\"attributes\":{},\"id\":\"d3b196dd-d584-4f83-bf94-d72c3e3943f7\",\"type\":\"UnionRenderers\"},{\"attributes\":{\"callback\":null,\"data\":{\"x\":[1,1],\"y\":[10,7]},\"selected\":{\"id\":\"3261b116-e9aa-4a90-8798-933c56952fd2\",\"type\":\"Selection\"},\"selection_policy\":{\"id\":\"60f04d25-813f-4431-825d-a8123c31f6a8\",\"type\":\"UnionRenderers\"}},\"id\":\"e27a9f0f-e001-48cc-b55a-fc97644f65c4\",\"type\":\"ColumnDataSource\"},{\"attributes\":{},\"id\":\"2d39f957-4838-4457-bb3a-1b93cc2371f4\",\"type\":\"BasicTickFormatter\"},{\"attributes\":{},\"id\":\"f29ac4fa-d6b9-4025-8373-f3e0d9eddd0c\",\"type\":\"WheelZoomTool\"},{\"attributes\":{\"line_alpha\":0.6,\"line_color\":\"green\",\"line_width\":5,\"x\":{\"field\":\"x\"},\"y\":{\"field\":\"y\"}},\"id\":\"b51c9935-dd1a-4c52-89a0-44264ce15b77\",\"type\":\"Line\"},{\"attributes\":{\"line_alpha\":0.1,\"line_color\":\"#1f77b4\",\"line_width\":5,\"x\":{\"field\":\"x\"},\"y\":{\"field\":\"y\"}},\"id\":\"b0f4a433-a544-43aa-a233-5cc2164cbb63\",\"type\":\"Line\"},{\"attributes\":{\"overlay\":{\"id\":\"87329c3d-80e3-40c0-bdac-8329f6533486\",\"type\":\"BoxAnnotation\"}},\"id\":\"ff89df22-be50-49a1-ba2f-5558892284f4\",\"type\":\"BoxZoomTool\"},{\"attributes\":{},\"id\":\"851ece35-88c7-47da-8c90-0872a0207f3a\",\"type\":\"Selection\"},{\"attributes\":{\"data_source\":{\"id\":\"e27a9f0f-e001-48cc-b55a-fc97644f65c4\",\"type\":\"ColumnDataSource\"},\"glyph\":{\"id\":\"b51c9935-dd1a-4c52-89a0-44264ce15b77\",\"type\":\"Line\"},\"hover_glyph\":null,\"muted_glyph\":null,\"nonselection_glyph\":{\"id\":\"b0f4a433-a544-43aa-a233-5cc2164cbb63\",\"type\":\"Line\"},\"selection_glyph\":null,\"view\":{\"id\":\"a35cfe75-ff8e-4f7a-9cfa-529537bab9e3\",\"type\":\"CDSView\"}},\"id\":\"7827643c-ec7d-4b2f-94a6-ddb19f981d25\",\"type\":\"GlyphRenderer\"},{\"attributes\":{},\"id\":\"b7515e60-9893-4ba2-a32f-5116666370ee\",\"type\":\"BasicTickFormatter\"},{\"attributes\":{},\"id\":\"3d17b950-d169-4abe-a9b7-14460ca67efe\",\"type\":\"SaveTool\"},{\"attributes\":{\"source\":{\"id\":\"e27a9f0f-e001-48cc-b55a-fc97644f65c4\",\"type\":\"ColumnDataSource\"}},\"id\":\"a35cfe75-ff8e-4f7a-9cfa-529537bab9e3\",\"type\":\"CDSView\"},{\"attributes\":{},\"id\":\"73d3d932-1388-4a97-8208-8177bbaf22e7\",\"type\":\"UnionRenderers\"},{\"attributes\":{},\"id\":\"578a715d-759f-476b-9f6d-ee1e461803fb\",\"type\":\"ResetTool\"},{\"attributes\":{\"callback\":null,\"data\":{\"x\":[2,2],\"y\":[12,0]},\"selected\":{\"id\":\"8a63db50-b980-4c20-a6aa-e1c49c437728\",\"type\":\"Selection\"},\"selection_policy\":{\"id\":\"c29e8ba6-82b2-4814-aebe-6dba44ddb161\",\"type\":\"UnionRenderers\"}},\"id\":\"4bfee226-e3fe-4129-8bc2-61a3e4698c31\",\"type\":\"ColumnDataSource\"},{\"attributes\":{},\"id\":\"b41dc9a8-a114-4213-b773-21dd669d1ba3\",\"type\":\"UnionRenderers\"},{\"attributes\":{},\"id\":\"b1ed45d8-7612-4438-bf10-deeb0fceda5e\",\"type\":\"HelpTool\"},{\"attributes\":{\"line_alpha\":0.4,\"line_width\":5,\"x\":{\"field\":\"x\"},\"y\":{\"field\":\"y\"}},\"id\":\"55579102-c5da-40a5-99dd-81c0a32ec41e\",\"type\":\"Line\"},{\"attributes\":{},\"id\":\"6ee822d8-9ce5-454b-b643-97346caca307\",\"type\":\"Selection\"},{\"attributes\":{\"bottom_units\":\"screen\",\"fill_alpha\":{\"value\":0.5},\"fill_color\":{\"value\":\"lightgrey\"},\"left_units\":\"screen\",\"level\":\"overlay\",\"line_alpha\":{\"value\":1.0},\"line_color\":{\"value\":\"black\"},\"line_dash\":[4,4],\"line_width\":{\"value\":2},\"plot\":null,\"render_mode\":\"css\",\"right_units\":\"screen\",\"top_units\":\"screen\"},\"id\":\"87329c3d-80e3-40c0-bdac-8329f6533486\",\"type\":\"BoxAnnotation\"},{\"attributes\":{\"line_alpha\":0.1,\"line_color\":\"#1f77b4\",\"line_width\":5,\"x\":{\"field\":\"x\"},\"y\":{\"field\":\"y\"}},\"id\":\"79719946-459e-453f-9a6e-0d6b947d34a5\",\"type\":\"Line\"},{\"attributes\":{},\"id\":\"afce344b-5c94-4883-b61c-6c732ef2b0a2\",\"type\":\"Selection\"},{\"attributes\":{\"label\":{\"value\":\"df1 = 3x^2\"},\"renderers\":[{\"id\":\"200c81bc-ba75-44be-b751-77d44f7e64f8\",\"type\":\"GlyphRenderer\"}]},\"id\":\"f8cbe3de-ca6d-48a6-a551-3f7ff5bc45fd\",\"type\":\"LegendItem\"},{\"attributes\":{\"data_source\":{\"id\":\"4bfee226-e3fe-4129-8bc2-61a3e4698c31\",\"type\":\"ColumnDataSource\"},\"glyph\":{\"id\":\"55579102-c5da-40a5-99dd-81c0a32ec41e\",\"type\":\"Line\"},\"hover_glyph\":null,\"muted_glyph\":null,\"nonselection_glyph\":{\"id\":\"79719946-459e-453f-9a6e-0d6b947d34a5\",\"type\":\"Line\"},\"selection_glyph\":null,\"view\":{\"id\":\"16991ca9-9035-4d39-8e65-c4415cf51c0e\",\"type\":\"CDSView\"}},\"id\":\"e8c88b19-4114-42fc-bf87-ccf43b772ec9\",\"type\":\"GlyphRenderer\"},{\"attributes\":{},\"id\":\"130c6208-3c88-4e26-9b04-9256adc2b366\",\"type\":\"Selection\"},{\"attributes\":{\"callback\":null,\"data\":{\"x\":{\"__ndarray__\":\"AAAAAAAAFMCamZmZmZkTwDQzMzMzMxPAzszMzMzMEsBoZmZmZmYSwAIAAAAAABLAnJmZmZmZEcA2MzMzMzMRwNDMzMzMzBDAamZmZmZmEMAEAAAAAAAQwDwzMzMzMw/AcGZmZmZmDsCkmZmZmZkNwNjMzMzMzAzADAAAAAAADMBAMzMzMzMLwHRmZmZmZgrAqJmZmZmZCcDczMzMzMwIwBAAAAAAAAjARDMzMzMzB8B4ZmZmZmYGwKyZmZmZmQXA4MzMzMzMBMAUAAAAAAAEwEgzMzMzMwPAfGZmZmZmAsCwmZmZmZkBwOTMzMzMzADAGAAAAAAAAMCYZmZmZmb+vwDNzMzMzPy/aDMzMzMz+7/QmZmZmZn5vzgAAAAAAPi/oGZmZmZm9r8IzczMzMz0v3AzMzMzM/O/2JmZmZmZ8b9AAAAAAADwv1DNzMzMzOy/IJqZmZmZ6b/wZmZmZmbmv8AzMzMzM+O/kAAAAAAA4L/AmpmZmZnZv2A0MzMzM9O/AJyZmZmZyb+AnpmZmZm5vwAAAAAAABS9gJSZmZmZuT8Al5mZmZnJP+AxMzMzM9M/QJiZmZmZ2T+g/v/////fP4AyMzMzM+M/sGVmZmZm5j/gmJmZmZnpPxDMzMzMzOw/QP//////7z84mZmZmZnxP9AyMzMzM/M/aMzMzMzM9D8AZmZmZmb2P5j///////c/MJmZmZmZ+T/IMjMzMzP7P2DMzMzMzPw/+GVmZmZm/j+Q////////P5TMzMzMzABAYJmZmZmZAUAsZmZmZmYCQPgyMzMzMwNAxP//////A0CQzMzMzMwEQFyZmZmZmQVAKGZmZmZmBkD0MjMzMzMHQMD//////wdAjMzMzMzMCEBYmZmZmZkJQCRmZmZmZgpA8DIzMzMzC0C8//////8LQIjMzMzMzAxAVJmZmZmZDUAgZmZmZmYOQOwyMzMzMw9AuP//////D0BCZmZmZmYQQKjMzMzMzBBADjMzMzMzEUB0mZmZmZkRQNr//////xFAQGZmZmZmEkCmzMzMzMwSQAwzMzMzMxNAcpmZmZmZE0DY//////8TQA==\",\"dtype\":\"float64\",\"shape\":[101]}},\"selected\":{\"id\":\"851ece35-88c7-47da-8c90-0872a0207f3a\",\"type\":\"Selection\"},\"selection_policy\":{\"id\":\"73d3d932-1388-4a97-8208-8177bbaf22e7\",\"type\":\"UnionRenderers\"}},\"id\":\"2198e893-791d-49e9-94a1-4f0369fbe991\",\"type\":\"ColumnDataSource\"},{\"attributes\":{\"source\":{\"id\":\"4bfee226-e3fe-4129-8bc2-61a3e4698c31\",\"type\":\"ColumnDataSource\"}},\"id\":\"16991ca9-9035-4d39-8e65-c4415cf51c0e\",\"type\":\"CDSView\"},{\"attributes\":{},\"id\":\"5caa8a8c-5d73-45ce-90f9-a2c2f1a835f3\",\"type\":\"UnionRenderers\"},{\"attributes\":{\"line_alpha\":0.5,\"line_color\":\"orange\",\"line_width\":2,\"x\":{\"field\":\"x\"},\"y\":{\"field\":\"y\"}},\"id\":\"bd85d6d1-089e-4abf-97a3-ef92e8ae7bf3\",\"type\":\"Line\"},{\"attributes\":{\"callback\":null,\"data\":{\"x\":[2,2],\"y\":[20,12]},\"selected\":{\"id\":\"7036af47-b26e-48ad-90c8-8e304f41eb86\",\"type\":\"Selection\"},\"selection_policy\":{\"id\":\"dc958c44-295c-4adb-8122-0aa51bc85a6b\",\"type\":\"UnionRenderers\"}},\"id\":\"dd8c31b0-ff9d-45c0-8078-7adb68a25a15\",\"type\":\"ColumnDataSource\"},{\"attributes\":{},\"id\":\"2d703b98-9559-4bc9-a9b2-b7e60e5bee7a\",\"type\":\"UnionRenderers\"},{\"attributes\":{\"line_alpha\":0.1,\"line_color\":\"#1f77b4\",\"line_width\":2,\"x\":{\"field\":\"x\"},\"y\":{\"field\":\"y\"}},\"id\":\"2d354a3b-ffbd-496d-902d-08eed4e210e6\",\"type\":\"Line\"},{\"attributes\":{\"line_alpha\":0.4,\"line_color\":\"orange\",\"line_width\":5,\"x\":{\"field\":\"x\"},\"y\":{\"field\":\"y\"}},\"id\":\"006c81ae-9f7d-4d3a-9f3a-e8809fff8217\",\"type\":\"Line\"},{\"attributes\":{},\"id\":\"9a0c75a7-f730-4e50-951a-f4ee89c53b23\",\"type\":\"UnionRenderers\"},{\"attributes\":{\"data_source\":{\"id\":\"b7e4107a-1cf2-4235-8a27-15615bc2687b\",\"type\":\"ColumnDataSource\"},\"glyph\":{\"id\":\"bd85d6d1-089e-4abf-97a3-ef92e8ae7bf3\",\"type\":\"Line\"},\"hover_glyph\":null,\"muted_glyph\":null,\"nonselection_glyph\":{\"id\":\"2d354a3b-ffbd-496d-902d-08eed4e210e6\",\"type\":\"Line\"},\"selection_glyph\":null,\"view\":{\"id\":\"0ebe7a1d-78d0-47bb-bdf3-cffbaf7319ec\",\"type\":\"CDSView\"}},\"id\":\"00d4ada9-9d87-4fd6-a332-6eb3b75756ed\",\"type\":\"GlyphRenderer\"},{\"attributes\":{\"line_alpha\":0.1,\"line_color\":\"#1f77b4\",\"line_width\":5,\"x\":{\"field\":\"x\"},\"y\":{\"field\":\"y\"}},\"id\":\"8fab62bc-e843-4c2f-af5a-9bfc03f95dd6\",\"type\":\"Line\"},{\"attributes\":{},\"id\":\"a3cb5986-f527-44ad-994a-8cbb9790eb15\",\"type\":\"Selection\"},{\"attributes\":{\"source\":{\"id\":\"b7e4107a-1cf2-4235-8a27-15615bc2687b\",\"type\":\"ColumnDataSource\"}},\"id\":\"0ebe7a1d-78d0-47bb-bdf3-cffbaf7319ec\",\"type\":\"CDSView\"},{\"attributes\":{\"data_source\":{\"id\":\"dd8c31b0-ff9d-45c0-8078-7adb68a25a15\",\"type\":\"ColumnDataSource\"},\"glyph\":{\"id\":\"006c81ae-9f7d-4d3a-9f3a-e8809fff8217\",\"type\":\"Line\"},\"hover_glyph\":null,\"muted_glyph\":null,\"nonselection_glyph\":{\"id\":\"8fab62bc-e843-4c2f-af5a-9bfc03f95dd6\",\"type\":\"Line\"},\"selection_glyph\":null,\"view\":{\"id\":\"438523e7-0e40-442d-94ce-93362bfdc4cd\",\"type\":\"CDSView\"}},\"id\":\"316c3a57-ffa5-429b-a4c3-12d2b0cf71da\",\"type\":\"GlyphRenderer\"},{\"attributes\":{},\"id\":\"c5d34252-cbd3-4638-a283-8afc8b260fba\",\"type\":\"UnionRenderers\"},{\"attributes\":{},\"id\":\"5d0e3c5a-c989-4ceb-902e-3f0ff82e6eb7\",\"type\":\"Selection\"},{\"attributes\":{\"source\":{\"id\":\"dd8c31b0-ff9d-45c0-8078-7adb68a25a15\",\"type\":\"ColumnDataSource\"}},\"id\":\"438523e7-0e40-442d-94ce-93362bfdc4cd\",\"type\":\"CDSView\"},{\"attributes\":{},\"id\":\"e6de9cb7-a592-49b0-a02d-ba183853087f\",\"type\":\"Selection\"},{\"attributes\":{},\"id\":\"e4e80433-7309-4d8e-b260-eef0060cbf99\",\"type\":\"UnionRenderers\"},{\"attributes\":{\"callback\":null,\"data\":{\"x\":[2,2],\"y\":[23,20]},\"selected\":{\"id\":\"9acf2edf-190e-4d4e-9e9b-59eeadd27349\",\"type\":\"Selection\"},\"selection_policy\":{\"id\":\"4f4c6a5a-6699-4f6e-99e2-a7fff76c4813\",\"type\":\"UnionRenderers\"}},\"id\":\"32f526be-36b1-4f2c-a704-cb1321a16ea7\",\"type\":\"ColumnDataSource\"},{\"attributes\":{},\"id\":\"cc665039-c219-40cf-9d60-63cd830dec87\",\"type\":\"UnionRenderers\"},{\"attributes\":{\"label\":{\"value\":\"df2 = 4x\"},\"renderers\":[{\"id\":\"00d4ada9-9d87-4fd6-a332-6eb3b75756ed\",\"type\":\"GlyphRenderer\"}]},\"id\":\"6f94427a-8e3f-4152-bd97-0dd005b1cb5e\",\"type\":\"LegendItem\"},{\"attributes\":{\"line_alpha\":0.6,\"line_color\":\"green\",\"line_width\":5,\"x\":{\"field\":\"x\"},\"y\":{\"field\":\"y\"}},\"id\":\"fb967f13-a8cf-4b7e-af3f-5115eb8840cc\",\"type\":\"Line\"},{\"attributes\":{},\"id\":\"520c7eae-2fd5-4f10-b327-368f81e853c4\",\"type\":\"Selection\"},{\"attributes\":{},\"id\":\"41b2abd1-bc45-418a-91ef-d7974aa75fac\",\"type\":\"UnionRenderers\"},{\"attributes\":{\"line_alpha\":0.5,\"line_color\":\"green\",\"line_width\":2,\"x\":{\"field\":\"x\"},\"y\":{\"value\":3}},\"id\":\"28c589bc-2674-4f25-b813-8fd357459529\",\"type\":\"Line\"}],\"root_ids\":[\"98919d16-0712-4516-8944-d23b0293156d\"]},\"title\":\"Bokeh Application\",\"version\":\"0.13.0\"}};\n",
       "  var render_items = [{\"docid\":\"6358b78b-a826-454d-bc41-e71d93b39c77\",\"roots\":{\"98919d16-0712-4516-8944-d23b0293156d\":\"fb6f44e0-30a2-4b49-8ce5-f8ab61f85ead\"}}];\n",
       "  root.Bokeh.embed.embed_items_notebook(docs_json, render_items);\n",
       "\n",
       "  }\n",
       "  if (root.Bokeh !== undefined) {\n",
       "    embed_document(root);\n",
       "  } else {\n",
       "    var attempts = 0;\n",
       "    var timer = setInterval(function(root) {\n",
       "      if (root.Bokeh !== undefined) {\n",
       "        embed_document(root);\n",
       "        clearInterval(timer);\n",
       "      }\n",
       "      attempts++;\n",
       "      if (attempts > 100) {\n",
       "        console.log(\"Bokeh: ERROR: Unable to run BokehJS code because BokehJS library is missing\")\n",
       "        clearInterval(timer);\n",
       "      }\n",
       "    }, 10, root)\n",
       "  }\n",
       "})(window);"
      ],
      "application/vnd.bokehjs_exec.v0+json": ""
     },
     "metadata": {
      "application/vnd.bokehjs_exec.v0+json": {
       "id": "98919d16-0712-4516-8944-d23b0293156d"
      }
     },
     "output_type": "display_data"
    }
   ],
   "source": [
    "# Derivatives of each or our component functions\n",
    "def df(x):\n",
    "    return 3*x**2 + 4*x + 3\n",
    "\n",
    "def df_comp1(x):\n",
    "    return 3*x**2\n",
    "\n",
    "def df_comp2(x):\n",
    "    return 4*x\n",
    "\n",
    "def df_comp3(x):\n",
    "    return 3\n",
    "\n",
    "# Plot each of the component Functions \n",
    "p1 = plot(700,400,title=\"The Derivative of each Function Individually\")\n",
    "p1.line(x,df_comp1(x),\n",
    "        color='black',line_width=2,alpha=.5,\n",
    "        legend=\"df1 = 3x^2\")\n",
    "p1.line(x,df_comp2(x),\n",
    "        color='orange',line_width=2,alpha=.5,\n",
    "       legend=\"df2 = 4x\")        \n",
    "p1.line(x,df_comp3(x),\n",
    "        color='green',line_width=2,alpha=.5,\n",
    "       legend=\"df3 = 3\")\n",
    "p1.legend.location = 'top_center'\n",
    "\n",
    "# Plot the combination of the component functions\n",
    "p2 = plot(700,400,title=\"The Derivatives Combined\")\n",
    "for i in range(-5,5+1):  \n",
    "    p2.line([i,i],[df_comp1(i),0],color='black',line_width=5,alpha=.4)\n",
    "    p2.line([i,i],[df_comp1(i)+df_comp2(i),df_comp1(i)],color='orange',line_width=5,alpha=.4)\n",
    "    p2.line([i,i],[df_comp1(i)+df_comp2(i)+df_comp3(i),df_comp1(i)+df_comp2(i)],color='green',line_width=5,alpha=.6)\n",
    "p2.line(x,df(x),color='steelblue',line_width=3)    \n",
    "\n",
    "# Print the two functions side by side\n",
    "show(column(p1,p2))"
   ]
  },
  {
   "cell_type": "markdown",
   "metadata": {},
   "source": [
    "# The Power Rule"
   ]
  },
  {
   "cell_type": "markdown",
   "metadata": {},
   "source": [
    "### Rule"
   ]
  },
  {
   "cell_type": "markdown",
   "metadata": {},
   "source": [
    "\n",
    "<br>\n",
    "<br>\n",
    "\n",
    "$$ f(x) =x^n $$\n",
    "\n",
    "<br>\n",
    "<br>\n",
    "\n",
    "$$ f'(x) = nx^{n-1} $$\n",
    "\n",
    "<br>\n",
    "<br>"
   ]
  },
  {
   "cell_type": "markdown",
   "metadata": {},
   "source": [
    "### Derivation\n",
    "\n",
    "The underlying derivation of the power rule is best seen in its application to different polynomials. Let's take the derivative of three polynomials and see how the power rule emerges as a consistent pattern."
   ]
  },
  {
   "cell_type": "markdown",
   "metadata": {},
   "source": [
    "**Example 1** \n",
    "\n",
    "Consider the function $f(x) = x^2$\n",
    "\n",
    "<br>\n",
    "<br>\n",
    "\n",
    "$$ f'(x) = \\lim_{h\\to0}\\frac{(x + h)^2 - x^2}{h} $$\n",
    "\n",
    "<br>\n",
    "<br>\n",
    "\n",
    "$$ \\frac{x^2 + 2 x (h) + h^2 - x^2}{h}$$\n",
    "\n",
    "<br>\n",
    "<br>\n",
    "\n",
    "$$ \\frac{2 x (h) + h^2}{h}$$\n",
    "\n",
    "<br>\n",
    "<br>\n",
    "\n",
    "\n",
    "$$ \\frac{h(2 x + h)}{h}$$\n",
    "\n",
    "<br>\n",
    "<br>\n",
    "\n",
    "$$ 2 x + h $$\n",
    "\n",
    "<br>\n",
    "<br>\n",
    "\n",
    "and as we shrink $h$ to zero (is taken to its limit), we end up with \n",
    "\n",
    "<br>\n",
    "<br>\n",
    "\n",
    "$$2x$$\n",
    "\n",
    "<br>\n",
    "<br>"
   ]
  },
  {
   "cell_type": "markdown",
   "metadata": {},
   "source": [
    "**Example 2:**\n",
    "\n",
    "Consider the function $ f(x) = x^3 $\n",
    "\n",
    "<br>\n",
    "<br>\n",
    "\n",
    "$$ f'(x) = \\lim_{h \\to 0} \\frac{(x + h)^3 - x^3}{h}$$\n",
    "\n",
    "<br>\n",
    "<br>\n",
    "\n",
    "$$\\frac{(h)^3 - 3 (h)^2 x + 3(h)x^2}{h}$$\n",
    "\n",
    "<br>\n",
    "<br>\n",
    "\n",
    "$$(h)^2 - 3 (h) x + 3x^2$$\n",
    "\n",
    "<br>\n",
    "<br>\n",
    "\n",
    "$$3x^2$$\n",
    "\n",
    "\n",
    "<br>\n",
    "<br>\n",
    "\n",
    "\n",
    "\n",
    "\n",
    "**Example 3:**\n",
    "\n",
    "Consider the function $ f(x) = x^7 $\n",
    "\n",
    "<br>\n",
    "<br>\n",
    "\n",
    "$$f'(x) = \\lim_{h \\to 0} \\frac{(x + h)^7 - x^7}{h}$$\n",
    "\n",
    "<br>\n",
    "<br>\n",
    "\n",
    "$$\\frac{(h)^7 + 7(h)^6 x + 21 (h)^5 x^2 + 35 (h)^3 x^4 + 21 (h)^2 x^5 + 7(h) x^6}{h}$$\n",
    "\n",
    "<br>\n",
    "<br>\n",
    "\n",
    "\n",
    "$$\\frac{ h(h^6 + 7 h^5 x + 21 h^4 x^2 + 35 h^2 x^4 + 21 h x^5 + 7 x^6)}{h}$$\n",
    "\n",
    "<br>\n",
    "<br>\n",
    "\n",
    "\n",
    "$$ h^6 + 7 h^5 x + 21 h^4 x^2 + 35 h^2 x^4 + 21 h x^5 + 7 x^6$$\n",
    "\n",
    "<br>\n",
    "<br>\n",
    "\n",
    "Which ultimately reduces to as $h$ approaches 0.\n",
    "\n",
    "<br>\n",
    "<br>\n",
    "\n",
    "$$ 7x^6 $$ \n",
    "\n",
    "<br>\n",
    "<br>"
   ]
  },
  {
   "cell_type": "markdown",
   "metadata": {},
   "source": [
    "The emerging pattern reveals a surprisingly simple rule, which is the **power rule**\n",
    "\n",
    "<br>\n",
    "<br>\n",
    "\n",
    "$$ n x ^{n-1} $$\n",
    "\n",
    "<br>\n",
    "<br>"
   ]
  },
  {
   "cell_type": "markdown",
   "metadata": {},
   "source": [
    "### Intuition\n",
    "\n",
    "What is a square? \n",
    "\n",
    "<br>\n",
    "<br>\n",
    "\n",
    "$$ x^2$$\n",
    "\n",
    "<br>\n",
    "<br>\n",
    "\n",
    "$$ x \\cdot x$$\n",
    "\n",
    "<br>\n",
    "<br>\n",
    "\n",
    "$$ area =  base \\times height $$\n",
    "\n",
    "\n",
    "<br>\n",
    "<br>\n",
    "\n",
    "What is the change in area when we increase the area of the square a little?"
   ]
  },
  {
   "cell_type": "code",
   "execution_count": 29,
   "metadata": {},
   "outputs": [
    {
     "data": {
      "text/html": [
       "\n",
       "\n",
       "\n",
       "\n",
       "\n",
       "\n",
       "  <div class=\"bk-root\" id=\"db068e75-6ab5-4b0f-b5be-e05485273e13\"></div>\n"
      ]
     },
     "metadata": {},
     "output_type": "display_data"
    },
    {
     "data": {
      "application/javascript": [
       "(function(root) {\n",
       "  function embed_document(root) {\n",
       "    \n",
       "  var docs_json = {\"0dab0a80-ed58-4108-87a9-130882f5a6a7\":{\"roots\":{\"references\":[{\"attributes\":{},\"id\":\"94eaf0b3-4f92-4017-a2a2-50ef8173e265\",\"type\":\"PanTool\"},{\"attributes\":{\"below\":[{\"id\":\"1060dfdb-242b-4ed7-a8e1-69c5ae00b8e9\",\"type\":\"LinearAxis\"}],\"left\":[{\"id\":\"da48466e-1f1d-4d70-ad03-3341f9173e52\",\"type\":\"LinearAxis\"}],\"plot_height\":475,\"plot_width\":475,\"renderers\":[{\"id\":\"1060dfdb-242b-4ed7-a8e1-69c5ae00b8e9\",\"type\":\"LinearAxis\"},{\"id\":\"bd9beb73-8e20-47ed-866e-f3b1a362973d\",\"type\":\"Grid\"},{\"id\":\"da48466e-1f1d-4d70-ad03-3341f9173e52\",\"type\":\"LinearAxis\"},{\"id\":\"f5a88e1e-17fe-4aa6-8d36-a82cdb158ac9\",\"type\":\"Grid\"},{\"id\":\"bb2475bc-8add-45bf-99ee-f1aa59efa6f3\",\"type\":\"BoxAnnotation\"},{\"id\":\"29c68c51-873a-4d67-a111-a10da84e6a91\",\"type\":\"Legend\"},{\"id\":\"b873fc81-a5cf-4120-8c58-50c349d61f21\",\"type\":\"GlyphRenderer\"},{\"id\":\"ecc06f0d-e00f-4dbf-b11d-66ab0946c3e6\",\"type\":\"GlyphRenderer\"},{\"id\":\"3184b73b-3007-4785-8668-b896e435b792\",\"type\":\"GlyphRenderer\"}],\"title\":{\"id\":\"a15de92a-576e-473e-a2c1-4ee5796f8eec\",\"type\":\"Title\"},\"toolbar\":{\"id\":\"154ac9eb-3eba-484f-b2b1-eca4aa548756\",\"type\":\"Toolbar\"},\"toolbar_location\":\"below\",\"x_range\":{\"id\":\"774504d1-8336-4106-b189-819f9dc3af39\",\"type\":\"DataRange1d\"},\"x_scale\":{\"id\":\"32b8c04f-891d-41aa-baf0-d562113e8335\",\"type\":\"LinearScale\"},\"y_range\":{\"id\":\"487876d3-a3d9-46f6-8b51-035232503b1b\",\"type\":\"DataRange1d\"},\"y_scale\":{\"id\":\"a1eb51fe-28b2-47bb-b12b-c0e7ab54e105\",\"type\":\"LinearScale\"}},\"id\":\"0ec2b08d-b55f-4410-82fe-4f9529a136df\",\"subtype\":\"Figure\",\"type\":\"Plot\"},{\"attributes\":{},\"id\":\"84eae27d-783d-4ea8-b03f-cc5b637277c3\",\"type\":\"WheelZoomTool\"},{\"attributes\":{\"overlay\":{\"id\":\"b590a735-7761-497b-b6a3-98aab31d9142\",\"type\":\"BoxAnnotation\"}},\"id\":\"2b4c14a5-4be7-4de0-b9d2-a4db606ccf20\",\"type\":\"BoxZoomTool\"},{\"attributes\":{},\"id\":\"7f2450a3-2b80-4ca2-bdaf-7bf16e6dde59\",\"type\":\"SaveTool\"},{\"attributes\":{},\"id\":\"a28741d3-8dc0-4e47-8d47-7c613c8618b7\",\"type\":\"ResetTool\"},{\"attributes\":{},\"id\":\"b800ea29-15c1-48ac-a7f9-b6e2ab6ee394\",\"type\":\"HelpTool\"},{\"attributes\":{\"bottom_units\":\"screen\",\"fill_alpha\":{\"value\":0.5},\"fill_color\":{\"value\":\"lightgrey\"},\"left_units\":\"screen\",\"level\":\"overlay\",\"line_alpha\":{\"value\":1.0},\"line_color\":{\"value\":\"black\"},\"line_dash\":[4,4],\"line_width\":{\"value\":2},\"plot\":null,\"render_mode\":\"css\",\"right_units\":\"screen\",\"top_units\":\"screen\"},\"id\":\"b590a735-7761-497b-b6a3-98aab31d9142\",\"type\":\"BoxAnnotation\"},{\"attributes\":{\"callback\":null},\"id\":\"c6c79868-f17d-42b6-8036-64c2979473ce\",\"type\":\"DataRange1d\"},{\"attributes\":{\"label\":{\"value\":\"Initial Area\"},\"renderers\":[{\"id\":\"46063cb1-5f84-43c5-89a3-00f35746b090\",\"type\":\"GlyphRenderer\"}]},\"id\":\"65ccb6fb-500f-4761-aae4-3e0f4da40f1b\",\"type\":\"LegendItem\"},{\"attributes\":{\"source\":{\"id\":\"85fa6471-bfd8-4e36-9974-f178ceaf8a3e\",\"type\":\"ColumnDataSource\"}},\"id\":\"46bbf87a-84f5-4601-9453-9e92f250c9dc\",\"type\":\"CDSView\"},{\"attributes\":{\"bottom\":{\"field\":\"bottom\"},\"fill_alpha\":{\"value\":0.2},\"fill_color\":{\"value\":\"gold\"},\"left\":{\"field\":\"left\"},\"line_alpha\":{\"value\":0.2},\"line_color\":{\"value\":\"gold\"},\"right\":{\"field\":\"right\"},\"top\":{\"field\":\"top\"}},\"id\":\"8af62074-50f5-441f-ab84-6f723005fd06\",\"type\":\"Quad\"},{\"attributes\":{\"bottom\":{\"field\":\"bottom\"},\"fill_alpha\":{\"value\":0.1},\"fill_color\":{\"value\":\"#1f77b4\"},\"left\":{\"field\":\"left\"},\"line_alpha\":{\"value\":0.1},\"line_color\":{\"value\":\"#1f77b4\"},\"right\":{\"field\":\"right\"},\"top\":{\"field\":\"top\"}},\"id\":\"6ae9be97-13fb-4baa-986a-3ad927abbb71\",\"type\":\"Quad\"},{\"attributes\":{\"bottom\":{\"field\":\"bottom\"},\"fill_color\":{\"value\":\"steelblue\"},\"left\":{\"field\":\"left\"},\"line_color\":{\"value\":\"steelblue\"},\"right\":{\"field\":\"right\"},\"top\":{\"field\":\"top\"}},\"id\":\"1c8e133a-2e34-44a6-bc55-b7baaa8c629b\",\"type\":\"Quad\"},{\"attributes\":{\"data_source\":{\"id\":\"d41fe4b4-ee7c-4fae-8d56-ba351a49f3df\",\"type\":\"ColumnDataSource\"},\"glyph\":{\"id\":\"8af62074-50f5-441f-ab84-6f723005fd06\",\"type\":\"Quad\"},\"hover_glyph\":null,\"muted_glyph\":null,\"nonselection_glyph\":{\"id\":\"6ae9be97-13fb-4baa-986a-3ad927abbb71\",\"type\":\"Quad\"},\"selection_glyph\":null,\"view\":{\"id\":\"bd34efd7-2b34-4628-8ac2-c74341d37fa9\",\"type\":\"CDSView\"}},\"id\":\"4e67ad4f-2b23-4f40-8afc-7861584bbd4a\",\"type\":\"GlyphRenderer\"},{\"attributes\":{\"source\":{\"id\":\"d41fe4b4-ee7c-4fae-8d56-ba351a49f3df\",\"type\":\"ColumnDataSource\"}},\"id\":\"bd34efd7-2b34-4628-8ac2-c74341d37fa9\",\"type\":\"CDSView\"},{\"attributes\":{},\"id\":\"a40c3dd8-cce1-4a40-9ebd-d1ae7822f6f4\",\"type\":\"Selection\"},{\"attributes\":{},\"id\":\"2772515c-edaa-4be2-85a0-24bfa1c261ed\",\"type\":\"UnionRenderers\"},{\"attributes\":{\"label\":{\"value\":\"Area + some increase (h)\"},\"renderers\":[{\"id\":\"4e67ad4f-2b23-4f40-8afc-7861584bbd4a\",\"type\":\"GlyphRenderer\"}]},\"id\":\"3908ba20-5176-4ce1-814d-6f08d27c41d0\",\"type\":\"LegendItem\"},{\"attributes\":{\"items\":[{\"id\":\"b381c46e-b759-4c67-a28a-af702fa76df6\",\"type\":\"LegendItem\"},{\"id\":\"4be8d660-48ec-45f8-9656-cea16ac11599\",\"type\":\"LegendItem\"},{\"id\":\"286b9f23-5402-423e-adf3-0e4036da92bf\",\"type\":\"LegendItem\"}],\"location\":\"bottom_left\",\"plot\":{\"id\":\"0ec2b08d-b55f-4410-82fe-4f9529a136df\",\"subtype\":\"Figure\",\"type\":\"Plot\"}},\"id\":\"29c68c51-873a-4d67-a111-a10da84e6a91\",\"type\":\"Legend\"},{\"attributes\":{\"plot\":null,\"text\":\"\"},\"id\":\"a15de92a-576e-473e-a2c1-4ee5796f8eec\",\"type\":\"Title\"},{\"attributes\":{\"callback\":null},\"id\":\"774504d1-8336-4106-b189-819f9dc3af39\",\"type\":\"DataRange1d\"},{\"attributes\":{\"active_drag\":\"auto\",\"active_inspect\":\"auto\",\"active_multi\":null,\"active_scroll\":\"auto\",\"active_tap\":\"auto\",\"tools\":[{\"id\":\"e0602192-8dd9-4ef4-aacb-eb5e81f395b0\",\"type\":\"PanTool\"},{\"id\":\"512d6c30-9d46-4d09-a41b-16387b7db4d6\",\"type\":\"WheelZoomTool\"},{\"id\":\"f5772489-caf2-49c3-bcb3-b5b28bbfbb98\",\"type\":\"BoxZoomTool\"},{\"id\":\"5c750e81-6517-44e1-873b-e269d5fa5988\",\"type\":\"SaveTool\"},{\"id\":\"529850d6-2de4-444d-b39b-bb8bdf3ef503\",\"type\":\"ResetTool\"},{\"id\":\"ae29180f-ba7b-4af5-9156-ac28385aee8f\",\"type\":\"HelpTool\"}]},\"id\":\"154ac9eb-3eba-484f-b2b1-eca4aa548756\",\"type\":\"Toolbar\"},{\"attributes\":{\"bottom\":{\"field\":\"bottom\"},\"fill_alpha\":{\"value\":0.1},\"fill_color\":{\"value\":\"#1f77b4\"},\"left\":{\"field\":\"left\"},\"line_alpha\":{\"value\":0.1},\"line_color\":{\"value\":\"#1f77b4\"},\"right\":{\"field\":\"right\"},\"top\":{\"field\":\"top\"}},\"id\":\"d329816c-8523-478d-94ca-ac655bbb5303\",\"type\":\"Quad\"},{\"attributes\":{},\"id\":\"32b8c04f-891d-41aa-baf0-d562113e8335\",\"type\":\"LinearScale\"},{\"attributes\":{\"callback\":null},\"id\":\"487876d3-a3d9-46f6-8b51-035232503b1b\",\"type\":\"DataRange1d\"},{\"attributes\":{},\"id\":\"a1eb51fe-28b2-47bb-b12b-c0e7ab54e105\",\"type\":\"LinearScale\"},{\"attributes\":{\"plot\":{\"id\":\"0ec2b08d-b55f-4410-82fe-4f9529a136df\",\"subtype\":\"Figure\",\"type\":\"Plot\"},\"ticker\":{\"id\":\"dceee341-fbbb-4d22-87b2-1695a1c1f45a\",\"type\":\"BasicTicker\"}},\"id\":\"bd9beb73-8e20-47ed-866e-f3b1a362973d\",\"type\":\"Grid\"},{\"attributes\":{\"axis_label\":\"x\",\"formatter\":{\"id\":\"1d52f1c7-c726-4a62-8b6c-00687da4ed54\",\"type\":\"BasicTickFormatter\"},\"plot\":{\"id\":\"0ec2b08d-b55f-4410-82fe-4f9529a136df\",\"subtype\":\"Figure\",\"type\":\"Plot\"},\"ticker\":{\"id\":\"dceee341-fbbb-4d22-87b2-1695a1c1f45a\",\"type\":\"BasicTicker\"}},\"id\":\"1060dfdb-242b-4ed7-a8e1-69c5ae00b8e9\",\"type\":\"LinearAxis\"},{\"attributes\":{},\"id\":\"dceee341-fbbb-4d22-87b2-1695a1c1f45a\",\"type\":\"BasicTicker\"},{\"attributes\":{\"axis_label\":\"x\",\"formatter\":{\"id\":\"d210a460-4882-4bfd-b546-2803cd4886c4\",\"type\":\"BasicTickFormatter\"},\"plot\":{\"id\":\"0ec2b08d-b55f-4410-82fe-4f9529a136df\",\"subtype\":\"Figure\",\"type\":\"Plot\"},\"ticker\":{\"id\":\"2c8963e3-02b6-4474-b388-de0e7ee7ce7b\",\"type\":\"BasicTicker\"}},\"id\":\"da48466e-1f1d-4d70-ad03-3341f9173e52\",\"type\":\"LinearAxis\"},{\"attributes\":{},\"id\":\"2c8963e3-02b6-4474-b388-de0e7ee7ce7b\",\"type\":\"BasicTicker\"},{\"attributes\":{\"dimension\":1,\"plot\":{\"id\":\"0ec2b08d-b55f-4410-82fe-4f9529a136df\",\"subtype\":\"Figure\",\"type\":\"Plot\"},\"ticker\":{\"id\":\"2c8963e3-02b6-4474-b388-de0e7ee7ce7b\",\"type\":\"BasicTicker\"}},\"id\":\"f5a88e1e-17fe-4aa6-8d36-a82cdb158ac9\",\"type\":\"Grid\"},{\"attributes\":{\"data_source\":{\"id\":\"85fa6471-bfd8-4e36-9974-f178ceaf8a3e\",\"type\":\"ColumnDataSource\"},\"glyph\":{\"id\":\"a748a2b5-095c-4d74-b43d-0b026dd47f49\",\"type\":\"Quad\"},\"hover_glyph\":null,\"muted_glyph\":null,\"nonselection_glyph\":{\"id\":\"d329816c-8523-478d-94ca-ac655bbb5303\",\"type\":\"Quad\"},\"selection_glyph\":null,\"view\":{\"id\":\"46bbf87a-84f5-4601-9453-9e92f250c9dc\",\"type\":\"CDSView\"}},\"id\":\"b873fc81-a5cf-4120-8c58-50c349d61f21\",\"type\":\"GlyphRenderer\"},{\"attributes\":{\"bottom\":{\"field\":\"bottom\"},\"fill_alpha\":{\"value\":0.2},\"fill_color\":{\"value\":\"red\"},\"left\":{\"field\":\"left\"},\"line_alpha\":{\"value\":0.2},\"line_color\":{\"value\":\"red\"},\"right\":{\"field\":\"right\"},\"top\":{\"field\":\"top\"}},\"id\":\"a748a2b5-095c-4d74-b43d-0b026dd47f49\",\"type\":\"Quad\"},{\"attributes\":{\"callback\":null,\"data\":{\"bottom\":[0],\"left\":[2],\"right\":[2.1],\"top\":[2]},\"selected\":{\"id\":\"775772ca-4ee5-452c-b0b3-bc74bbe8ce44\",\"type\":\"Selection\"},\"selection_policy\":{\"id\":\"b0736a67-11b8-451d-a80a-eec74f44f5f8\",\"type\":\"UnionRenderers\"}},\"id\":\"b3dffc7a-2fe3-45d8-89ef-f8c82e2c5bf2\",\"type\":\"ColumnDataSource\"},{\"attributes\":{},\"id\":\"d210a460-4882-4bfd-b546-2803cd4886c4\",\"type\":\"BasicTickFormatter\"},{\"attributes\":{},\"id\":\"e0602192-8dd9-4ef4-aacb-eb5e81f395b0\",\"type\":\"PanTool\"},{\"attributes\":{},\"id\":\"1d52f1c7-c726-4a62-8b6c-00687da4ed54\",\"type\":\"BasicTickFormatter\"},{\"attributes\":{},\"id\":\"512d6c30-9d46-4d09-a41b-16387b7db4d6\",\"type\":\"WheelZoomTool\"},{\"attributes\":{\"callback\":null},\"id\":\"7d14309b-521d-4a65-9305-55ff610d7b88\",\"type\":\"DataRange1d\"},{\"attributes\":{\"overlay\":{\"id\":\"bb2475bc-8add-45bf-99ee-f1aa59efa6f3\",\"type\":\"BoxAnnotation\"}},\"id\":\"f5772489-caf2-49c3-bcb3-b5b28bbfbb98\",\"type\":\"BoxZoomTool\"},{\"attributes\":{},\"id\":\"5c750e81-6517-44e1-873b-e269d5fa5988\",\"type\":\"SaveTool\"},{\"attributes\":{},\"id\":\"529850d6-2de4-444d-b39b-bb8bdf3ef503\",\"type\":\"ResetTool\"},{\"attributes\":{},\"id\":\"ae29180f-ba7b-4af5-9156-ac28385aee8f\",\"type\":\"HelpTool\"},{\"attributes\":{\"bottom_units\":\"screen\",\"fill_alpha\":{\"value\":0.5},\"fill_color\":{\"value\":\"lightgrey\"},\"left_units\":\"screen\",\"level\":\"overlay\",\"line_alpha\":{\"value\":1.0},\"line_color\":{\"value\":\"black\"},\"line_dash\":[4,4],\"line_width\":{\"value\":2},\"plot\":null,\"render_mode\":\"css\",\"right_units\":\"screen\",\"top_units\":\"screen\"},\"id\":\"bb2475bc-8add-45bf-99ee-f1aa59efa6f3\",\"type\":\"BoxAnnotation\"},{\"attributes\":{\"callback\":null,\"data\":{\"bottom\":[2],\"left\":[2],\"right\":[2.1],\"top\":[2.1]},\"selected\":{\"id\":\"092c0466-e64d-40f8-bb70-06aeb5298167\",\"type\":\"Selection\"},\"selection_policy\":{\"id\":\"150276e1-fc7b-424c-821c-28fcaf8e5ee9\",\"type\":\"UnionRenderers\"}},\"id\":\"ecb738bf-cd7e-4037-86d1-1c39a82b1421\",\"type\":\"ColumnDataSource\"},{\"attributes\":{\"label\":{\"value\":\"x(h)\"},\"renderers\":[{\"id\":\"b873fc81-a5cf-4120-8c58-50c349d61f21\",\"type\":\"GlyphRenderer\"}]},\"id\":\"b381c46e-b759-4c67-a28a-af702fa76df6\",\"type\":\"LegendItem\"},{\"attributes\":{\"bottom\":{\"field\":\"bottom\"},\"fill_alpha\":{\"value\":0.2},\"fill_color\":{\"value\":\"purple\"},\"left\":{\"field\":\"left\"},\"line_alpha\":{\"value\":0.2},\"line_color\":{\"value\":\"purple\"},\"right\":{\"field\":\"right\"},\"top\":{\"field\":\"top\"}},\"id\":\"eec9227e-884f-4426-9414-5d8a1081a344\",\"type\":\"Quad\"},{\"attributes\":{\"bottom\":{\"field\":\"bottom\"},\"fill_alpha\":{\"value\":0.1},\"fill_color\":{\"value\":\"#1f77b4\"},\"left\":{\"field\":\"left\"},\"line_alpha\":{\"value\":0.1},\"line_color\":{\"value\":\"#1f77b4\"},\"right\":{\"field\":\"right\"},\"top\":{\"field\":\"top\"}},\"id\":\"1d8edf9d-02af-440a-aa70-34e9f86748d0\",\"type\":\"Quad\"},{\"attributes\":{},\"id\":\"bddcf268-d90a-4468-9773-9048bdfd6dce\",\"type\":\"BasicTickFormatter\"},{\"attributes\":{\"data_source\":{\"id\":\"b3dffc7a-2fe3-45d8-89ef-f8c82e2c5bf2\",\"type\":\"ColumnDataSource\"},\"glyph\":{\"id\":\"eec9227e-884f-4426-9414-5d8a1081a344\",\"type\":\"Quad\"},\"hover_glyph\":null,\"muted_glyph\":null,\"nonselection_glyph\":{\"id\":\"1d8edf9d-02af-440a-aa70-34e9f86748d0\",\"type\":\"Quad\"},\"selection_glyph\":null,\"view\":{\"id\":\"1c1b0262-5d2f-48e7-b672-1d0a2949a8e8\",\"type\":\"CDSView\"}},\"id\":\"ecc06f0d-e00f-4dbf-b11d-66ab0946c3e6\",\"type\":\"GlyphRenderer\"},{\"attributes\":{},\"id\":\"1a53b279-97ed-4625-8063-1b7762241dcc\",\"type\":\"BasicTicker\"},{\"attributes\":{\"source\":{\"id\":\"b3dffc7a-2fe3-45d8-89ef-f8c82e2c5bf2\",\"type\":\"ColumnDataSource\"}},\"id\":\"1c1b0262-5d2f-48e7-b672-1d0a2949a8e8\",\"type\":\"CDSView\"},{\"attributes\":{},\"id\":\"f4de21dd-430f-400e-805e-98c7d27b7dbc\",\"type\":\"Selection\"},{\"attributes\":{},\"id\":\"a72a75fe-c7fd-41a6-91bf-ef540df5a7f4\",\"type\":\"UnionRenderers\"},{\"attributes\":{\"label\":{\"value\":\"(h)x\"},\"renderers\":[{\"id\":\"ecc06f0d-e00f-4dbf-b11d-66ab0946c3e6\",\"type\":\"GlyphRenderer\"}]},\"id\":\"4be8d660-48ec-45f8-9656-cea16ac11599\",\"type\":\"LegendItem\"},{\"attributes\":{\"children\":[{\"id\":\"380dba08-c180-40ef-a4e3-c0e5f4f733ec\",\"subtype\":\"Figure\",\"type\":\"Plot\"},{\"id\":\"0ec2b08d-b55f-4410-82fe-4f9529a136df\",\"subtype\":\"Figure\",\"type\":\"Plot\"}]},\"id\":\"a5262101-4ea4-403d-9b4f-951ae3579d69\",\"type\":\"Column\"},{\"attributes\":{\"below\":[{\"id\":\"708bc591-e373-4b99-81a6-5b3957998112\",\"type\":\"LinearAxis\"}],\"left\":[{\"id\":\"25396b18-6b58-4296-89e8-719214ec6c57\",\"type\":\"LinearAxis\"}],\"plot_height\":475,\"plot_width\":475,\"renderers\":[{\"id\":\"708bc591-e373-4b99-81a6-5b3957998112\",\"type\":\"LinearAxis\"},{\"id\":\"27d9a952-874d-4cab-b6ca-ed1ece7c4805\",\"type\":\"Grid\"},{\"id\":\"25396b18-6b58-4296-89e8-719214ec6c57\",\"type\":\"LinearAxis\"},{\"id\":\"a292a90f-852b-4141-b1d7-595b510c53c6\",\"type\":\"Grid\"},{\"id\":\"b590a735-7761-497b-b6a3-98aab31d9142\",\"type\":\"BoxAnnotation\"},{\"id\":\"74d0532e-dab5-4e79-a596-c3739d244fbb\",\"type\":\"Legend\"},{\"id\":\"46063cb1-5f84-43c5-89a3-00f35746b090\",\"type\":\"GlyphRenderer\"},{\"id\":\"4e67ad4f-2b23-4f40-8afc-7861584bbd4a\",\"type\":\"GlyphRenderer\"}],\"title\":{\"id\":\"894547b4-0b19-4a52-a813-67ede62799ad\",\"type\":\"Title\"},\"toolbar\":{\"id\":\"1dd3d846-a9c2-4507-8745-b20de5b4246b\",\"type\":\"Toolbar\"},\"toolbar_location\":\"below\",\"x_range\":{\"id\":\"7d14309b-521d-4a65-9305-55ff610d7b88\",\"type\":\"DataRange1d\"},\"x_scale\":{\"id\":\"09330890-3e28-4e7a-a7c5-4bc729ff5966\",\"type\":\"LinearScale\"},\"y_range\":{\"id\":\"c6c79868-f17d-42b6-8036-64c2979473ce\",\"type\":\"DataRange1d\"},\"y_scale\":{\"id\":\"18f7b080-c5e5-463a-b17a-f03f9ac6225a\",\"type\":\"LinearScale\"}},\"id\":\"380dba08-c180-40ef-a4e3-c0e5f4f733ec\",\"subtype\":\"Figure\",\"type\":\"Plot\"},{\"attributes\":{\"items\":[{\"id\":\"65ccb6fb-500f-4761-aae4-3e0f4da40f1b\",\"type\":\"LegendItem\"},{\"id\":\"3908ba20-5176-4ce1-814d-6f08d27c41d0\",\"type\":\"LegendItem\"}],\"location\":\"bottom_left\",\"plot\":{\"id\":\"380dba08-c180-40ef-a4e3-c0e5f4f733ec\",\"subtype\":\"Figure\",\"type\":\"Plot\"}},\"id\":\"74d0532e-dab5-4e79-a596-c3739d244fbb\",\"type\":\"Legend\"},{\"attributes\":{\"bottom\":{\"field\":\"bottom\"},\"fill_alpha\":{\"value\":0.2},\"fill_color\":{\"value\":\"gold\"},\"left\":{\"field\":\"left\"},\"line_alpha\":{\"value\":0.2},\"line_color\":{\"value\":\"gold\"},\"right\":{\"field\":\"right\"},\"top\":{\"field\":\"top\"}},\"id\":\"4eaaf85c-fde6-47fc-8fe1-e6a5d242dec4\",\"type\":\"Quad\"},{\"attributes\":{\"source\":{\"id\":\"8e501fb1-9cc5-4430-b64e-46a6a310f0ca\",\"type\":\"ColumnDataSource\"}},\"id\":\"08ea3219-f055-411c-9a38-14eb1616d635\",\"type\":\"CDSView\"},{\"attributes\":{\"bottom\":{\"field\":\"bottom\"},\"fill_alpha\":{\"value\":0.1},\"fill_color\":{\"value\":\"#1f77b4\"},\"left\":{\"field\":\"left\"},\"line_alpha\":{\"value\":0.1},\"line_color\":{\"value\":\"#1f77b4\"},\"right\":{\"field\":\"right\"},\"top\":{\"field\":\"top\"}},\"id\":\"38aefd2a-45a6-44da-9079-9f2b76a3cdd0\",\"type\":\"Quad\"},{\"attributes\":{\"data_source\":{\"id\":\"ecb738bf-cd7e-4037-86d1-1c39a82b1421\",\"type\":\"ColumnDataSource\"},\"glyph\":{\"id\":\"4eaaf85c-fde6-47fc-8fe1-e6a5d242dec4\",\"type\":\"Quad\"},\"hover_glyph\":null,\"muted_glyph\":null,\"nonselection_glyph\":{\"id\":\"38aefd2a-45a6-44da-9079-9f2b76a3cdd0\",\"type\":\"Quad\"},\"selection_glyph\":null,\"view\":{\"id\":\"aaed4612-946f-4109-adfe-4f93ba41552f\",\"type\":\"CDSView\"}},\"id\":\"3184b73b-3007-4785-8668-b896e435b792\",\"type\":\"GlyphRenderer\"},{\"attributes\":{\"callback\":null,\"data\":{\"bottom\":[0],\"left\":[0],\"right\":[2],\"top\":[2]},\"selected\":{\"id\":\"a40c3dd8-cce1-4a40-9ebd-d1ae7822f6f4\",\"type\":\"Selection\"},\"selection_policy\":{\"id\":\"2772515c-edaa-4be2-85a0-24bfa1c261ed\",\"type\":\"UnionRenderers\"}},\"id\":\"8e501fb1-9cc5-4430-b64e-46a6a310f0ca\",\"type\":\"ColumnDataSource\"},{\"attributes\":{\"plot\":null,\"text\":\"\"},\"id\":\"894547b4-0b19-4a52-a813-67ede62799ad\",\"type\":\"Title\"},{\"attributes\":{\"source\":{\"id\":\"ecb738bf-cd7e-4037-86d1-1c39a82b1421\",\"type\":\"ColumnDataSource\"}},\"id\":\"aaed4612-946f-4109-adfe-4f93ba41552f\",\"type\":\"CDSView\"},{\"attributes\":{\"bottom\":{\"field\":\"bottom\"},\"fill_alpha\":{\"value\":0.1},\"fill_color\":{\"value\":\"#1f77b4\"},\"left\":{\"field\":\"left\"},\"line_alpha\":{\"value\":0.1},\"line_color\":{\"value\":\"#1f77b4\"},\"right\":{\"field\":\"right\"},\"top\":{\"field\":\"top\"}},\"id\":\"a2e23dad-24fa-44ab-a04d-5e5abb4a4bbd\",\"type\":\"Quad\"},{\"attributes\":{},\"id\":\"775772ca-4ee5-452c-b0b3-bc74bbe8ce44\",\"type\":\"Selection\"},{\"attributes\":{\"active_drag\":\"auto\",\"active_inspect\":\"auto\",\"active_multi\":null,\"active_scroll\":\"auto\",\"active_tap\":\"auto\",\"tools\":[{\"id\":\"94eaf0b3-4f92-4017-a2a2-50ef8173e265\",\"type\":\"PanTool\"},{\"id\":\"84eae27d-783d-4ea8-b03f-cc5b637277c3\",\"type\":\"WheelZoomTool\"},{\"id\":\"2b4c14a5-4be7-4de0-b9d2-a4db606ccf20\",\"type\":\"BoxZoomTool\"},{\"id\":\"7f2450a3-2b80-4ca2-bdaf-7bf16e6dde59\",\"type\":\"SaveTool\"},{\"id\":\"a28741d3-8dc0-4e47-8d47-7c613c8618b7\",\"type\":\"ResetTool\"},{\"id\":\"b800ea29-15c1-48ac-a7f9-b6e2ab6ee394\",\"type\":\"HelpTool\"}]},\"id\":\"1dd3d846-a9c2-4507-8745-b20de5b4246b\",\"type\":\"Toolbar\"},{\"attributes\":{},\"id\":\"b0736a67-11b8-451d-a80a-eec74f44f5f8\",\"type\":\"UnionRenderers\"},{\"attributes\":{\"plot\":{\"id\":\"380dba08-c180-40ef-a4e3-c0e5f4f733ec\",\"subtype\":\"Figure\",\"type\":\"Plot\"},\"ticker\":{\"id\":\"1a53b279-97ed-4625-8063-1b7762241dcc\",\"type\":\"BasicTicker\"}},\"id\":\"27d9a952-874d-4cab-b6ca-ed1ece7c4805\",\"type\":\"Grid\"},{\"attributes\":{\"label\":{\"value\":\"h(h)\"},\"renderers\":[{\"id\":\"3184b73b-3007-4785-8668-b896e435b792\",\"type\":\"GlyphRenderer\"}]},\"id\":\"286b9f23-5402-423e-adf3-0e4036da92bf\",\"type\":\"LegendItem\"},{\"attributes\":{\"axis_label\":\"x\",\"formatter\":{\"id\":\"bddcf268-d90a-4468-9773-9048bdfd6dce\",\"type\":\"BasicTickFormatter\"},\"plot\":{\"id\":\"380dba08-c180-40ef-a4e3-c0e5f4f733ec\",\"subtype\":\"Figure\",\"type\":\"Plot\"},\"ticker\":{\"id\":\"c5b39b22-61ce-406a-94a4-4d3a84294d4d\",\"type\":\"BasicTicker\"}},\"id\":\"25396b18-6b58-4296-89e8-719214ec6c57\",\"type\":\"LinearAxis\"},{\"attributes\":{},\"id\":\"1e97654b-95dd-4531-a9cc-f511f2b18b17\",\"type\":\"Selection\"},{\"attributes\":{\"axis_label\":\"x\",\"formatter\":{\"id\":\"5f57b64a-4695-4e0a-acd3-9dbe8324ac5f\",\"type\":\"BasicTickFormatter\"},\"plot\":{\"id\":\"380dba08-c180-40ef-a4e3-c0e5f4f733ec\",\"subtype\":\"Figure\",\"type\":\"Plot\"},\"ticker\":{\"id\":\"1a53b279-97ed-4625-8063-1b7762241dcc\",\"type\":\"BasicTicker\"}},\"id\":\"708bc591-e373-4b99-81a6-5b3957998112\",\"type\":\"LinearAxis\"},{\"attributes\":{},\"id\":\"09330890-3e28-4e7a-a7c5-4bc729ff5966\",\"type\":\"LinearScale\"},{\"attributes\":{},\"id\":\"150276e1-fc7b-424c-821c-28fcaf8e5ee9\",\"type\":\"UnionRenderers\"},{\"attributes\":{},\"id\":\"18f7b080-c5e5-463a-b17a-f03f9ac6225a\",\"type\":\"LinearScale\"},{\"attributes\":{},\"id\":\"710c1b09-5a5d-4bb0-9ffa-768d9ca7df62\",\"type\":\"UnionRenderers\"},{\"attributes\":{},\"id\":\"c5b39b22-61ce-406a-94a4-4d3a84294d4d\",\"type\":\"BasicTicker\"},{\"attributes\":{},\"id\":\"092c0466-e64d-40f8-bb70-06aeb5298167\",\"type\":\"Selection\"},{\"attributes\":{\"dimension\":1,\"plot\":{\"id\":\"380dba08-c180-40ef-a4e3-c0e5f4f733ec\",\"subtype\":\"Figure\",\"type\":\"Plot\"},\"ticker\":{\"id\":\"c5b39b22-61ce-406a-94a4-4d3a84294d4d\",\"type\":\"BasicTicker\"}},\"id\":\"a292a90f-852b-4141-b1d7-595b510c53c6\",\"type\":\"Grid\"},{\"attributes\":{\"data_source\":{\"id\":\"8e501fb1-9cc5-4430-b64e-46a6a310f0ca\",\"type\":\"ColumnDataSource\"},\"glyph\":{\"id\":\"1c8e133a-2e34-44a6-bc55-b7baaa8c629b\",\"type\":\"Quad\"},\"hover_glyph\":null,\"muted_glyph\":null,\"nonselection_glyph\":{\"id\":\"a2e23dad-24fa-44ab-a04d-5e5abb4a4bbd\",\"type\":\"Quad\"},\"selection_glyph\":null,\"view\":{\"id\":\"08ea3219-f055-411c-9a38-14eb1616d635\",\"type\":\"CDSView\"}},\"id\":\"46063cb1-5f84-43c5-89a3-00f35746b090\",\"type\":\"GlyphRenderer\"},{\"attributes\":{\"callback\":null,\"data\":{\"bottom\":[2],\"left\":[0],\"right\":[2],\"top\":[2.1]},\"selected\":{\"id\":\"f4de21dd-430f-400e-805e-98c7d27b7dbc\",\"type\":\"Selection\"},\"selection_policy\":{\"id\":\"a72a75fe-c7fd-41a6-91bf-ef540df5a7f4\",\"type\":\"UnionRenderers\"}},\"id\":\"85fa6471-bfd8-4e36-9974-f178ceaf8a3e\",\"type\":\"ColumnDataSource\"},{\"attributes\":{\"callback\":null,\"data\":{\"bottom\":[0],\"left\":[0],\"right\":[2.1],\"top\":[2.1]},\"selected\":{\"id\":\"1e97654b-95dd-4531-a9cc-f511f2b18b17\",\"type\":\"Selection\"},\"selection_policy\":{\"id\":\"710c1b09-5a5d-4bb0-9ffa-768d9ca7df62\",\"type\":\"UnionRenderers\"}},\"id\":\"d41fe4b4-ee7c-4fae-8d56-ba351a49f3df\",\"type\":\"ColumnDataSource\"},{\"attributes\":{},\"id\":\"5f57b64a-4695-4e0a-acd3-9dbe8324ac5f\",\"type\":\"BasicTickFormatter\"}],\"root_ids\":[\"a5262101-4ea4-403d-9b4f-951ae3579d69\"]},\"title\":\"Bokeh Application\",\"version\":\"0.13.0\"}};\n",
       "  var render_items = [{\"docid\":\"0dab0a80-ed58-4108-87a9-130882f5a6a7\",\"roots\":{\"a5262101-4ea4-403d-9b4f-951ae3579d69\":\"db068e75-6ab5-4b0f-b5be-e05485273e13\"}}];\n",
       "  root.Bokeh.embed.embed_items_notebook(docs_json, render_items);\n",
       "\n",
       "  }\n",
       "  if (root.Bokeh !== undefined) {\n",
       "    embed_document(root);\n",
       "  } else {\n",
       "    var attempts = 0;\n",
       "    var timer = setInterval(function(root) {\n",
       "      if (root.Bokeh !== undefined) {\n",
       "        embed_document(root);\n",
       "        clearInterval(timer);\n",
       "      }\n",
       "      attempts++;\n",
       "      if (attempts > 100) {\n",
       "        console.log(\"Bokeh: ERROR: Unable to run BokehJS code because BokehJS library is missing\")\n",
       "        clearInterval(timer);\n",
       "      }\n",
       "    }, 10, root)\n",
       "  }\n",
       "})(window);"
      ],
      "application/vnd.bokehjs_exec.v0+json": ""
     },
     "metadata": {
      "application/vnd.bokehjs_exec.v0+json": {
       "id": "a5262101-4ea4-403d-9b4f-951ae3579d69"
      }
     },
     "output_type": "display_data"
    }
   ],
   "source": [
    "# Parameters \n",
    "base = 2 # Base \n",
    "height = 2 # Height\n",
    "h = .1 # our slight change\n",
    "\n",
    "\n",
    "# PLOT 1\n",
    "p1 = plot(475,475,y='x',x='x')\n",
    "\n",
    "# plot our square\n",
    "p1.quad(top=[height], bottom=[0], left=[0],\n",
    "       right=[base], color=\"steelblue\",\n",
    "       legend=\"Initial Area\")\n",
    "\n",
    "# Plot our square with a slight h\n",
    "p1.quad(top=[height+h], bottom=[0], left=[0],\n",
    "       right=[base+h], color=\"gold\",alpha=.2,\n",
    "       legend=\"Area + some increase (h)\")\n",
    "p1.legend.location = 'bottom_left'\n",
    "\n",
    "\n",
    "# PLOT 2\n",
    "# Lets color the areas being changes\n",
    "p2 = plot(475,475,x='x',y='x')\n",
    "\n",
    "# Change in the height as we adjust x. \n",
    "p2.quad(top=[height + h], bottom=[height], left=[0],\n",
    "       right=[base], color=\"red\",alpha=.2,\n",
    "      legend=\"x(h)\")\n",
    "\n",
    "# Change in the base as we adjust x.\n",
    "p2.quad(top=[height], bottom=[0], left=[base],\n",
    "       right=[base + h], color=\"purple\",alpha=.2,\n",
    "      legend=\"(h)x\")\n",
    "\n",
    "# Change in the base as we adjust x.\n",
    "p2.quad(top=[height+h], bottom=[height], left=[base],\n",
    "       right=[base+h], color=\"gold\",alpha=.2,\n",
    "      legend=\"h(h)\")\n",
    "p2.legend.location = 'bottom_left'\n",
    "show(column(p1,p2))"
   ]
  },
  {
   "cell_type": "markdown",
   "metadata": {},
   "source": [
    "What is the resulting area of the change?\n",
    "\n",
    "<br>\n",
    "<br>\n",
    "\n",
    "$$ new~area =  xh + xh + h^2 $$\n",
    "\n",
    "<br>\n",
    "<br>\n",
    "\n",
    "$$ 2xh + h^2 $$\n",
    "\n",
    "<br>\n",
    "<br>\n",
    "\n",
    "Divide $h$ out\n",
    "\n",
    "<br>\n",
    "<br>\n",
    "\n",
    "$$ \\frac{2xh + h^2}{h} $$\n",
    "\n",
    "<br>\n",
    "<br>\n",
    "\n",
    "$$ \\lim_{h \\to 0} 2x + h $$\n",
    "\n",
    "<br>\n",
    "<br>\n",
    "\n",
    "Again, as we shrink the size of $h$ (the change) down into smaller and smaller bits, we end up with \n",
    "\n",
    "<br>\n",
    "<br>\n",
    "\n",
    "$$2x$$\n",
    "\n",
    "<br>\n",
    "<br>\n",
    "\n",
    "Can you see how this would extend to any polynomial?"
   ]
  },
  {
   "cell_type": "markdown",
   "metadata": {},
   "source": [
    "# The Product Rule"
   ]
  },
  {
   "cell_type": "markdown",
   "metadata": {},
   "source": [
    "### Rule\n",
    "\n",
    "<br>\n",
    "<br>\n",
    "\n",
    "$$ F(x) = f(x)g(x) $$\n",
    "\n",
    "<br>\n",
    "<br>\n",
    "\n",
    "$$ F'(x) = f'(x) g(x) + f(x) g'(x) $$\n",
    "\n",
    "<br>\n",
    "<br>"
   ]
  },
  {
   "cell_type": "markdown",
   "metadata": {},
   "source": [
    "### Derivation\n",
    "\n",
    "<br>\n",
    "<br>\n",
    "\n",
    "$$  F'(x) = \\lim_{h \\to 0}  \\frac{f(x+h)g(x+h) - f(x)g(x)}{h} $$\n",
    "\n",
    "<br>\n",
    "<br>\n",
    "\n",
    "We'll need to perform a trick to manipulate this expression algebraically. We can do this by adding and subtracting the same value in the numerator. Note that this doesn't change anything in the expression, but it does allow us a way to manipulate it. \n",
    "\n",
    "<br>\n",
    "<br>\n",
    "\n",
    "\n",
    "$$ \\lim_{h \\to 0} \\frac{f(x+h)g(x+h) \\textbf{- f(x)g(x+h) + f(x)g(x+h)} - f(x)g(x)}{h} $$\n",
    "\n",
    "<br>\n",
    "<br>\n",
    "\n",
    "\n",
    "Regroup values and use what we know of addition\n",
    "\n",
    "<br>\n",
    "<br>\n",
    "\n",
    "$$ \\lim_{h \\to 0} \\frac{f(x+h)g(x+h) - f(x)g(x+h)}{h} + \\lim_{h \\to 0} \\frac{f(x)g(x+h) - f(x)g(x)}{h} $$\n",
    "\n",
    "<br>\n",
    "<br>\n",
    "\n",
    "Factor out values\n",
    "\n",
    "<br>\n",
    "<br>\n",
    "\n",
    "$$ \\lim_{h \\to 0} g(x+h)\\frac{f(x+h)-f(x)}{h} +  \\lim_{h \\to 0} f(x) \\frac{g(x+h)-g(x)}{h}$$ \n",
    "\n",
    "<br>\n",
    "<br>\n",
    "\n",
    "Take the limit of each component\n",
    "\n",
    "<br>\n",
    "<br>\n",
    "\n",
    "$$ (\\lim_{h \\to 0} g(x+h)) (\\lim_{h \\to 0} \\frac{f(x+h)-f(x)}{h}) +  (\\lim_{h \\to 0} f(x)) (\\lim_{h \\to 0}\\frac{g(x+h)-g(x)}{h})$$ \n",
    "\n",
    "<br>\n",
    "<br>\n",
    "\n",
    "\n",
    "$$ g(x)f'(x) + f(x)g'(x) $$\n",
    "\n",
    "<br>\n",
    "<br>\n",
    "\n",
    "More commonly arranged as \n",
    "\n",
    "<br>\n",
    "<br>\n",
    "\n",
    "\n",
    "$$ f'(x)g(x) + f(x)g'(x) $$\n",
    "\n",
    "<br>\n",
    "<br>"
   ]
  },
  {
   "cell_type": "markdown",
   "metadata": {},
   "source": [
    "### Example"
   ]
  },
  {
   "cell_type": "markdown",
   "metadata": {},
   "source": [
    "<br>\n",
    "<br>\n",
    "\n",
    "$$ f(x) = 2x + 3 $$\n",
    "\n",
    "<br>\n",
    "<br>\n",
    "\n",
    "$$ g(x) = x^2 $$\n",
    "\n",
    "<br>\n",
    "<br>\n",
    "\n",
    "$$ F(x) = f(x)g(x) $$\n",
    "\n",
    "<br>\n",
    "<br>\n",
    "\n",
    "$$ F(x) = (2x + 3)(x^2) $$\n",
    "\n",
    "<br>\n",
    "<br>\n",
    "\n",
    "$$ F'(x) = (2)(x^2) + (2x + 3)2x $$\n",
    "\n",
    "<br>\n",
    "<br>\n",
    "\n",
    "$$ F'(x) = 2x^2 + 4x^2 + 6x $$\n",
    "\n",
    "<br>\n",
    "<br>\n",
    "\n",
    "$$ F'(x) = 6x^2 + 6x $$\n",
    "\n",
    "<br>\n",
    "<br>"
   ]
  },
  {
   "cell_type": "markdown",
   "metadata": {},
   "source": [
    "### Intuition"
   ]
  },
  {
   "cell_type": "markdown",
   "metadata": {},
   "source": [
    "Let's consider the following functions:\n",
    "\n",
    "<br>\n",
    "<br>\n",
    "\n",
    "$$ f(x) = \\sin(x) $$\n",
    "\n",
    "<br>\n",
    "<br>\n",
    "\n",
    "$$ g(x) = x^2 $$\n",
    "\n",
    "<br>\n",
    "<br>\n",
    "\n",
    "What is the resulting product of these two functions as we nudge x incrementally? As we've seen, when dealing with products, it's sometimes useful to think in terms of the **area** when multiplied by one another. "
   ]
  },
  {
   "cell_type": "code",
   "execution_count": 9,
   "metadata": {},
   "outputs": [],
   "source": [
    "def f(x):\n",
    "    return np.sin(x)\n",
    "\n",
    "def g(x):\n",
    "    return x**2"
   ]
  },
  {
   "cell_type": "code",
   "execution_count": 30,
   "metadata": {},
   "outputs": [
    {
     "data": {
      "text/html": [
       "\n",
       "\n",
       "\n",
       "\n",
       "\n",
       "\n",
       "  <div class=\"bk-root\" id=\"e61ed3a8-adb6-4190-9913-4eed105a59ce\"></div>\n"
      ]
     },
     "metadata": {},
     "output_type": "display_data"
    },
    {
     "data": {
      "application/javascript": [
       "(function(root) {\n",
       "  function embed_document(root) {\n",
       "    \n",
       "  var docs_json = {\"dad9846c-32a6-4a66-a246-cd7c79ba4670\":{\"roots\":{\"references\":[{\"attributes\":{\"callback\":null},\"id\":\"e6e0c8b2-4ab9-4644-acc8-7d5bfe4f7184\",\"type\":\"DataRange1d\"},{\"attributes\":{\"active_drag\":\"auto\",\"active_inspect\":\"auto\",\"active_multi\":null,\"active_scroll\":\"auto\",\"active_tap\":\"auto\",\"tools\":[{\"id\":\"09f53dfb-e31c-4ac5-98a8-fcf420d6c7fa\",\"type\":\"PanTool\"},{\"id\":\"21447955-72b9-4d33-9fb1-f670a3c9ad0b\",\"type\":\"WheelZoomTool\"},{\"id\":\"9efc209a-d330-4000-b287-9ab3deb17efd\",\"type\":\"BoxZoomTool\"},{\"id\":\"3fdf6068-0d51-46a8-af4c-4355154ff72b\",\"type\":\"SaveTool\"},{\"id\":\"fb5c94e6-6725-42c5-8f34-192baab5fada\",\"type\":\"ResetTool\"},{\"id\":\"8f0eb1d8-a051-476c-ad42-d670a86fcfa4\",\"type\":\"HelpTool\"}]},\"id\":\"de3e0a7b-636e-4bda-a3da-f642a8c7f862\",\"type\":\"Toolbar\"},{\"attributes\":{\"data_source\":{\"id\":\"6694a89b-b3ca-473c-b891-044581b4f5e7\",\"type\":\"ColumnDataSource\"},\"glyph\":{\"id\":\"af30ea2d-e070-4e82-94f1-b59ae64855fb\",\"type\":\"Quad\"},\"hover_glyph\":null,\"muted_glyph\":null,\"nonselection_glyph\":{\"id\":\"022cc961-8c8a-47d4-9ab8-d95fcd987e2c\",\"type\":\"Quad\"},\"selection_glyph\":null,\"view\":{\"id\":\"b62c6370-7fde-4b91-a401-ed11aa3cb850\",\"type\":\"CDSView\"}},\"id\":\"f9e82091-6ed7-4a44-9686-cde87804e289\",\"type\":\"GlyphRenderer\"},{\"attributes\":{},\"id\":\"91aed34a-0001-4ac7-908a-92f8fb22d661\",\"type\":\"LinearScale\"},{\"attributes\":{\"callback\":null},\"id\":\"0ffc8e14-ac1f-460f-80ba-bb7e2fca04ac\",\"type\":\"DataRange1d\"},{\"attributes\":{},\"id\":\"671f7fca-a403-4b5d-a4b1-d743e9dda158\",\"type\":\"LinearScale\"},{\"attributes\":{\"plot\":{\"id\":\"215971cf-e9ec-40c2-b991-63ba95001565\",\"subtype\":\"Figure\",\"type\":\"Plot\"},\"ticker\":{\"id\":\"7654f5ea-8c50-42e8-9dc1-1153c2147edd\",\"type\":\"BasicTicker\"}},\"id\":\"41004d56-8bc5-49d3-a659-ac7de7bbe718\",\"type\":\"Grid\"},{\"attributes\":{\"axis_label\":\"x^2\",\"formatter\":{\"id\":\"e658814d-991d-45a2-8088-7a414a0df2f6\",\"type\":\"BasicTickFormatter\"},\"plot\":{\"id\":\"215971cf-e9ec-40c2-b991-63ba95001565\",\"subtype\":\"Figure\",\"type\":\"Plot\"},\"ticker\":{\"id\":\"7654f5ea-8c50-42e8-9dc1-1153c2147edd\",\"type\":\"BasicTicker\"}},\"id\":\"72abb7d7-f4a4-4d63-b002-5e8101629f2e\",\"type\":\"LinearAxis\"},{\"attributes\":{},\"id\":\"7654f5ea-8c50-42e8-9dc1-1153c2147edd\",\"type\":\"BasicTicker\"},{\"attributes\":{\"axis_label\":\"sin(x)\",\"formatter\":{\"id\":\"dc275c1c-50c9-449f-99b3-612e13d80af4\",\"type\":\"BasicTickFormatter\"},\"plot\":{\"id\":\"215971cf-e9ec-40c2-b991-63ba95001565\",\"subtype\":\"Figure\",\"type\":\"Plot\"},\"ticker\":{\"id\":\"267428a5-d867-436b-97b1-72fb2dd89723\",\"type\":\"BasicTicker\"}},\"id\":\"c85dd02f-cf3d-4836-9bb9-872886117511\",\"type\":\"LinearAxis\"},{\"attributes\":{},\"id\":\"267428a5-d867-436b-97b1-72fb2dd89723\",\"type\":\"BasicTicker\"},{\"attributes\":{\"dimension\":1,\"plot\":{\"id\":\"215971cf-e9ec-40c2-b991-63ba95001565\",\"subtype\":\"Figure\",\"type\":\"Plot\"},\"ticker\":{\"id\":\"267428a5-d867-436b-97b1-72fb2dd89723\",\"type\":\"BasicTicker\"}},\"id\":\"892198b9-736e-42a5-924b-e88fd09632e3\",\"type\":\"Grid\"},{\"attributes\":{\"source\":{\"id\":\"6694a89b-b3ca-473c-b891-044581b4f5e7\",\"type\":\"ColumnDataSource\"}},\"id\":\"b62c6370-7fde-4b91-a401-ed11aa3cb850\",\"type\":\"CDSView\"},{\"attributes\":{\"bottom\":{\"field\":\"bottom\"},\"fill_alpha\":{\"value\":0.1},\"fill_color\":{\"value\":\"#1f77b4\"},\"left\":{\"field\":\"left\"},\"line_alpha\":{\"value\":0.1},\"line_color\":{\"value\":\"#1f77b4\"},\"right\":{\"field\":\"right\"},\"top\":{\"field\":\"top\"}},\"id\":\"022cc961-8c8a-47d4-9ab8-d95fcd987e2c\",\"type\":\"Quad\"},{\"attributes\":{\"items\":[{\"id\":\"5d7f78de-102a-4045-a306-fe7fbeb0275a\",\"type\":\"LegendItem\"},{\"id\":\"ad9288e3-509c-427e-b089-9ddbb9bd26ad\",\"type\":\"LegendItem\"},{\"id\":\"39761aa7-efa2-470b-88b6-b7a6e6f4206f\",\"type\":\"LegendItem\"}],\"location\":\"bottom_left\",\"plot\":{\"id\":\"215971cf-e9ec-40c2-b991-63ba95001565\",\"subtype\":\"Figure\",\"type\":\"Plot\"}},\"id\":\"bb99afec-6b06-4acd-96a8-8fd4f546958f\",\"type\":\"Legend\"},{\"attributes\":{},\"id\":\"dc275c1c-50c9-449f-99b3-612e13d80af4\",\"type\":\"BasicTickFormatter\"},{\"attributes\":{},\"id\":\"09f53dfb-e31c-4ac5-98a8-fcf420d6c7fa\",\"type\":\"PanTool\"},{\"attributes\":{},\"id\":\"e658814d-991d-45a2-8088-7a414a0df2f6\",\"type\":\"BasicTickFormatter\"},{\"attributes\":{},\"id\":\"21447955-72b9-4d33-9fb1-f670a3c9ad0b\",\"type\":\"WheelZoomTool\"},{\"attributes\":{\"overlay\":{\"id\":\"6a6761c7-39ea-446c-bc47-aed18bd62fe5\",\"type\":\"BoxAnnotation\"}},\"id\":\"9efc209a-d330-4000-b287-9ab3deb17efd\",\"type\":\"BoxZoomTool\"},{\"attributes\":{},\"id\":\"3fdf6068-0d51-46a8-af4c-4355154ff72b\",\"type\":\"SaveTool\"},{\"attributes\":{\"callback\":null},\"id\":\"f2178908-dd0c-4b64-82d3-93114b73ef5e\",\"type\":\"DataRange1d\"},{\"attributes\":{},\"id\":\"fb5c94e6-6725-42c5-8f34-192baab5fada\",\"type\":\"ResetTool\"},{\"attributes\":{},\"id\":\"8f0eb1d8-a051-476c-ad42-d670a86fcfa4\",\"type\":\"HelpTool\"},{\"attributes\":{\"bottom_units\":\"screen\",\"fill_alpha\":{\"value\":0.5},\"fill_color\":{\"value\":\"lightgrey\"},\"left_units\":\"screen\",\"level\":\"overlay\",\"line_alpha\":{\"value\":1.0},\"line_color\":{\"value\":\"black\"},\"line_dash\":[4,4],\"line_width\":{\"value\":2},\"plot\":null,\"render_mode\":\"css\",\"right_units\":\"screen\",\"top_units\":\"screen\"},\"id\":\"6a6761c7-39ea-446c-bc47-aed18bd62fe5\",\"type\":\"BoxAnnotation\"},{\"attributes\":{\"callback\":null,\"data\":{\"bottom\":[-2],\"left\":[1],\"right\":[1.2100000000000002],\"top\":[-2.189]},\"selected\":{\"id\":\"c0eff1b6-dd24-4d07-883e-578b29f1667e\",\"type\":\"Selection\"},\"selection_policy\":{\"id\":\"a109d977-8d29-43b6-bef2-c1aaf92bc1bb\",\"type\":\"UnionRenderers\"}},\"id\":\"589e7556-50dc-415a-874f-f57c80c96803\",\"type\":\"ColumnDataSource\"},{\"attributes\":{\"label\":{\"value\":\"x^2 sin(x+h)\"},\"renderers\":[{\"id\":\"f9e82091-6ed7-4a44-9686-cde87804e289\",\"type\":\"GlyphRenderer\"}]},\"id\":\"5d7f78de-102a-4045-a306-fe7fbeb0275a\",\"type\":\"LegendItem\"},{\"attributes\":{\"bottom\":{\"field\":\"bottom\"},\"fill_alpha\":{\"value\":0.2},\"fill_color\":{\"value\":\"purple\"},\"left\":{\"field\":\"left\"},\"line_alpha\":{\"value\":0.2},\"line_color\":{\"value\":\"purple\"},\"right\":{\"field\":\"right\"},\"top\":{\"field\":\"top\"}},\"id\":\"0f5e7cfb-62e3-4616-8eae-fd4b40cefdbe\",\"type\":\"Quad\"},{\"attributes\":{\"bottom\":{\"field\":\"bottom\"},\"fill_alpha\":{\"value\":0.1},\"fill_color\":{\"value\":\"#1f77b4\"},\"left\":{\"field\":\"left\"},\"line_alpha\":{\"value\":0.1},\"line_color\":{\"value\":\"#1f77b4\"},\"right\":{\"field\":\"right\"},\"top\":{\"field\":\"top\"}},\"id\":\"806cd85f-5426-418f-840d-c61ebfa54aee\",\"type\":\"Quad\"},{\"attributes\":{\"data_source\":{\"id\":\"7d4aa923-2e67-4a55-9274-adc7312aed83\",\"type\":\"ColumnDataSource\"},\"glyph\":{\"id\":\"0f5e7cfb-62e3-4616-8eae-fd4b40cefdbe\",\"type\":\"Quad\"},\"hover_glyph\":null,\"muted_glyph\":null,\"nonselection_glyph\":{\"id\":\"806cd85f-5426-418f-840d-c61ebfa54aee\",\"type\":\"Quad\"},\"selection_glyph\":null,\"view\":{\"id\":\"c0bd65e3-4a7e-4ce9-b7d4-df8232de28fd\",\"type\":\"CDSView\"}},\"id\":\"5c04cda2-c8ae-4940-8a44-1f546483bef3\",\"type\":\"GlyphRenderer\"},{\"attributes\":{\"source\":{\"id\":\"7d4aa923-2e67-4a55-9274-adc7312aed83\",\"type\":\"ColumnDataSource\"}},\"id\":\"c0bd65e3-4a7e-4ce9-b7d4-df8232de28fd\",\"type\":\"CDSView\"},{\"attributes\":{},\"id\":\"e34febfb-4c4e-44bb-9a9f-54fcb3639de2\",\"type\":\"Selection\"},{\"attributes\":{},\"id\":\"c59ed5c1-26e4-4392-abbd-276b457e151a\",\"type\":\"UnionRenderers\"},{\"attributes\":{\"label\":{\"value\":\"sin(x) (x+h)^2\"},\"renderers\":[{\"id\":\"5c04cda2-c8ae-4940-8a44-1f546483bef3\",\"type\":\"GlyphRenderer\"}]},\"id\":\"ad9288e3-509c-427e-b089-9ddbb9bd26ad\",\"type\":\"LegendItem\"},{\"attributes\":{\"children\":[{\"id\":\"9e537c4a-b27d-4ae1-91fa-df40ff739744\",\"subtype\":\"Figure\",\"type\":\"Plot\"},{\"id\":\"215971cf-e9ec-40c2-b991-63ba95001565\",\"subtype\":\"Figure\",\"type\":\"Plot\"}]},\"id\":\"3513ada2-c225-49e4-9d27-85a4ba4778f0\",\"type\":\"Column\"},{\"attributes\":{\"bottom\":{\"field\":\"bottom\"},\"fill_alpha\":{\"value\":0.2},\"fill_color\":{\"value\":\"gold\"},\"left\":{\"field\":\"left\"},\"line_alpha\":{\"value\":0.2},\"line_color\":{\"value\":\"gold\"},\"right\":{\"field\":\"right\"},\"top\":{\"field\":\"top\"}},\"id\":\"ab307c14-236f-4cc3-9012-b875e6fa4a15\",\"type\":\"Quad\"},{\"attributes\":{\"bottom\":{\"field\":\"bottom\"},\"fill_alpha\":{\"value\":0.1},\"fill_color\":{\"value\":\"#1f77b4\"},\"left\":{\"field\":\"left\"},\"line_alpha\":{\"value\":0.1},\"line_color\":{\"value\":\"#1f77b4\"},\"right\":{\"field\":\"right\"},\"top\":{\"field\":\"top\"}},\"id\":\"599d2a73-70fd-42f8-8322-ebc1a133b6f7\",\"type\":\"Quad\"},{\"attributes\":{\"below\":[{\"id\":\"fbf19082-f9b7-4eb4-adc3-20782b685c53\",\"type\":\"LinearAxis\"}],\"left\":[{\"id\":\"34b3f765-d6a6-406b-b69c-b0965ee3c183\",\"type\":\"LinearAxis\"}],\"plot_height\":475,\"plot_width\":700,\"renderers\":[{\"id\":\"fbf19082-f9b7-4eb4-adc3-20782b685c53\",\"type\":\"LinearAxis\"},{\"id\":\"1f35f8a2-dbc6-457b-be84-7571edacab1a\",\"type\":\"Grid\"},{\"id\":\"34b3f765-d6a6-406b-b69c-b0965ee3c183\",\"type\":\"LinearAxis\"},{\"id\":\"4e7900b2-774a-4ce0-b2af-7abfa5fd46e6\",\"type\":\"Grid\"},{\"id\":\"f6a5cd17-a276-4ee4-b4bd-466818ea1bef\",\"type\":\"BoxAnnotation\"},{\"id\":\"4a417b61-b1dd-421e-aabb-76ed91904175\",\"type\":\"Legend\"},{\"id\":\"7dfbd645-b4a9-4d68-a044-3fa50d26530a\",\"type\":\"GlyphRenderer\"},{\"id\":\"5fd85df6-145f-47e7-8b27-e25dc4e39d59\",\"type\":\"GlyphRenderer\"}],\"title\":{\"id\":\"4c814d8a-c5b5-4b54-8ab4-e425180f52b3\",\"type\":\"Title\"},\"toolbar\":{\"id\":\"e532ae6a-ff54-43d2-a5b7-5f8dc3455671\",\"type\":\"Toolbar\"},\"toolbar_location\":\"below\",\"x_range\":{\"id\":\"f2178908-dd0c-4b64-82d3-93114b73ef5e\",\"type\":\"DataRange1d\"},\"x_scale\":{\"id\":\"94bad9de-1f9f-4954-b96b-63b11a5fb170\",\"type\":\"LinearScale\"},\"y_range\":{\"id\":\"fa368959-629e-4f0c-b614-308e5666e660\",\"type\":\"DataRange1d\"},\"y_scale\":{\"id\":\"5c23a77e-5e16-40f3-a7d7-bbb80c3127c2\",\"type\":\"LinearScale\"}},\"id\":\"9e537c4a-b27d-4ae1-91fa-df40ff739744\",\"subtype\":\"Figure\",\"type\":\"Plot\"},{\"attributes\":{\"bottom\":{\"field\":\"bottom\"},\"fill_alpha\":{\"value\":0.1},\"fill_color\":{\"value\":\"#1f77b4\"},\"left\":{\"field\":\"left\"},\"line_alpha\":{\"value\":0.1},\"line_color\":{\"value\":\"#1f77b4\"},\"right\":{\"field\":\"right\"},\"top\":{\"field\":\"top\"}},\"id\":\"673b0dc7-0229-40a5-8808-abafbdef264b\",\"type\":\"Quad\"},{\"attributes\":{\"items\":[{\"id\":\"2a0127e7-3b08-4af7-98f7-b12057b13a0f\",\"type\":\"LegendItem\"},{\"id\":\"6793b927-35d5-4cdf-add2-2a7249703c2a\",\"type\":\"LegendItem\"}],\"location\":\"bottom_left\",\"plot\":{\"id\":\"9e537c4a-b27d-4ae1-91fa-df40ff739744\",\"subtype\":\"Figure\",\"type\":\"Plot\"}},\"id\":\"4a417b61-b1dd-421e-aabb-76ed91904175\",\"type\":\"Legend\"},{\"attributes\":{\"data_source\":{\"id\":\"589e7556-50dc-415a-874f-f57c80c96803\",\"type\":\"ColumnDataSource\"},\"glyph\":{\"id\":\"ab307c14-236f-4cc3-9012-b875e6fa4a15\",\"type\":\"Quad\"},\"hover_glyph\":null,\"muted_glyph\":null,\"nonselection_glyph\":{\"id\":\"673b0dc7-0229-40a5-8808-abafbdef264b\",\"type\":\"Quad\"},\"selection_glyph\":null,\"view\":{\"id\":\"b8ad85da-acf6-4139-a87a-acd4d8e1bc8c\",\"type\":\"CDSView\"}},\"id\":\"65592c73-b8ab-4e35-b3b8-f2bc7b2455dc\",\"type\":\"GlyphRenderer\"},{\"attributes\":{\"below\":[{\"id\":\"72abb7d7-f4a4-4d63-b002-5e8101629f2e\",\"type\":\"LinearAxis\"}],\"left\":[{\"id\":\"c85dd02f-cf3d-4836-9bb9-872886117511\",\"type\":\"LinearAxis\"}],\"plot_height\":475,\"plot_width\":700,\"renderers\":[{\"id\":\"72abb7d7-f4a4-4d63-b002-5e8101629f2e\",\"type\":\"LinearAxis\"},{\"id\":\"41004d56-8bc5-49d3-a659-ac7de7bbe718\",\"type\":\"Grid\"},{\"id\":\"c85dd02f-cf3d-4836-9bb9-872886117511\",\"type\":\"LinearAxis\"},{\"id\":\"892198b9-736e-42a5-924b-e88fd09632e3\",\"type\":\"Grid\"},{\"id\":\"6a6761c7-39ea-446c-bc47-aed18bd62fe5\",\"type\":\"BoxAnnotation\"},{\"id\":\"bb99afec-6b06-4acd-96a8-8fd4f546958f\",\"type\":\"Legend\"},{\"id\":\"f9e82091-6ed7-4a44-9686-cde87804e289\",\"type\":\"GlyphRenderer\"},{\"id\":\"5c04cda2-c8ae-4940-8a44-1f546483bef3\",\"type\":\"GlyphRenderer\"},{\"id\":\"65592c73-b8ab-4e35-b3b8-f2bc7b2455dc\",\"type\":\"GlyphRenderer\"}],\"title\":{\"id\":\"1c0c2db1-4a52-47fa-93df-d0edfebd917c\",\"type\":\"Title\"},\"toolbar\":{\"id\":\"de3e0a7b-636e-4bda-a3da-f642a8c7f862\",\"type\":\"Toolbar\"},\"toolbar_location\":\"below\",\"x_range\":{\"id\":\"e6e0c8b2-4ab9-4644-acc8-7d5bfe4f7184\",\"type\":\"DataRange1d\"},\"x_scale\":{\"id\":\"91aed34a-0001-4ac7-908a-92f8fb22d661\",\"type\":\"LinearScale\"},\"y_range\":{\"id\":\"0ffc8e14-ac1f-460f-80ba-bb7e2fca04ac\",\"type\":\"DataRange1d\"},\"y_scale\":{\"id\":\"671f7fca-a403-4b5d-a4b1-d743e9dda158\",\"type\":\"LinearScale\"}},\"id\":\"215971cf-e9ec-40c2-b991-63ba95001565\",\"subtype\":\"Figure\",\"type\":\"Plot\"},{\"attributes\":{\"source\":{\"id\":\"589e7556-50dc-415a-874f-f57c80c96803\",\"type\":\"ColumnDataSource\"}},\"id\":\"b8ad85da-acf6-4139-a87a-acd4d8e1bc8c\",\"type\":\"CDSView\"},{\"attributes\":{\"plot\":null,\"text\":\"\"},\"id\":\"4c814d8a-c5b5-4b54-8ab4-e425180f52b3\",\"type\":\"Title\"},{\"attributes\":{},\"id\":\"804376d5-c187-455d-9dc1-45d1d79e442f\",\"type\":\"Selection\"},{\"attributes\":{},\"id\":\"1f83317f-53b0-40a9-a069-f6fc58574b3c\",\"type\":\"BasicTicker\"},{\"attributes\":{},\"id\":\"46a589d1-76b8-4ac1-a11b-9324b2052ed1\",\"type\":\"UnionRenderers\"},{\"attributes\":{},\"id\":\"5c23a77e-5e16-40f3-a7d7-bbb80c3127c2\",\"type\":\"LinearScale\"},{\"attributes\":{\"label\":{\"value\":\"(x+h)^2 (sin(x+h))\"},\"renderers\":[{\"id\":\"65592c73-b8ab-4e35-b3b8-f2bc7b2455dc\",\"type\":\"GlyphRenderer\"}]},\"id\":\"39761aa7-efa2-470b-88b6-b7a6e6f4206f\",\"type\":\"LegendItem\"},{\"attributes\":{\"callback\":null,\"data\":{\"bottom\":[0],\"left\":[0],\"right\":[1.2100000000000002],\"top\":[-2.189]},\"selected\":{\"id\":\"c090a1a2-a56e-4ac8-8b90-1fb36d638e85\",\"type\":\"Selection\"},\"selection_policy\":{\"id\":\"6fdc9ace-07e9-4666-bf60-87d68ec0ec56\",\"type\":\"UnionRenderers\"}},\"id\":\"7007065a-9ef0-4e78-a9c8-da905e4dd380\",\"type\":\"ColumnDataSource\"},{\"attributes\":{\"active_drag\":\"auto\",\"active_inspect\":\"auto\",\"active_multi\":null,\"active_scroll\":\"auto\",\"active_tap\":\"auto\",\"tools\":[{\"id\":\"261cf928-9c33-4e8f-8a2c-7cd16a3c4dc8\",\"type\":\"PanTool\"},{\"id\":\"7f99d731-748c-4613-9845-21849060b259\",\"type\":\"WheelZoomTool\"},{\"id\":\"87eb9327-b0fe-4076-88c6-45a0cc4d0006\",\"type\":\"BoxZoomTool\"},{\"id\":\"341c203f-91ab-4481-a792-1322d1d721ba\",\"type\":\"SaveTool\"},{\"id\":\"fc66657d-44e0-4b6c-8d6d-92b307461407\",\"type\":\"ResetTool\"},{\"id\":\"37c43345-975b-4018-a89e-135fe030d2e3\",\"type\":\"HelpTool\"}]},\"id\":\"e532ae6a-ff54-43d2-a5b7-5f8dc3455671\",\"type\":\"Toolbar\"},{\"attributes\":{},\"id\":\"c090a1a2-a56e-4ac8-8b90-1fb36d638e85\",\"type\":\"Selection\"},{\"attributes\":{\"callback\":null},\"id\":\"fa368959-629e-4f0c-b614-308e5666e660\",\"type\":\"DataRange1d\"},{\"attributes\":{\"plot\":{\"id\":\"9e537c4a-b27d-4ae1-91fa-df40ff739744\",\"subtype\":\"Figure\",\"type\":\"Plot\"},\"ticker\":{\"id\":\"14fdc548-5457-45f8-9af1-92645b48f162\",\"type\":\"BasicTicker\"}},\"id\":\"1f35f8a2-dbc6-457b-be84-7571edacab1a\",\"type\":\"Grid\"},{\"attributes\":{},\"id\":\"a109d977-8d29-43b6-bef2-c1aaf92bc1bb\",\"type\":\"UnionRenderers\"},{\"attributes\":{\"axis_label\":\"x^2\",\"formatter\":{\"id\":\"08b9640c-e4ab-44d5-9f4b-77a30338e709\",\"type\":\"BasicTickFormatter\"},\"plot\":{\"id\":\"9e537c4a-b27d-4ae1-91fa-df40ff739744\",\"subtype\":\"Figure\",\"type\":\"Plot\"},\"ticker\":{\"id\":\"14fdc548-5457-45f8-9af1-92645b48f162\",\"type\":\"BasicTicker\"}},\"id\":\"fbf19082-f9b7-4eb4-adc3-20782b685c53\",\"type\":\"LinearAxis\"},{\"attributes\":{},\"id\":\"6fdc9ace-07e9-4666-bf60-87d68ec0ec56\",\"type\":\"UnionRenderers\"},{\"attributes\":{},\"id\":\"14fdc548-5457-45f8-9af1-92645b48f162\",\"type\":\"BasicTicker\"},{\"attributes\":{},\"id\":\"c0eff1b6-dd24-4d07-883e-578b29f1667e\",\"type\":\"Selection\"},{\"attributes\":{},\"id\":\"459120c0-93a7-4fdd-a590-50a12cf4281b\",\"type\":\"BasicTickFormatter\"},{\"attributes\":{},\"id\":\"08b9640c-e4ab-44d5-9f4b-77a30338e709\",\"type\":\"BasicTickFormatter\"},{\"attributes\":{\"axis_label\":\"sin(x)\",\"formatter\":{\"id\":\"459120c0-93a7-4fdd-a590-50a12cf4281b\",\"type\":\"BasicTickFormatter\"},\"plot\":{\"id\":\"9e537c4a-b27d-4ae1-91fa-df40ff739744\",\"subtype\":\"Figure\",\"type\":\"Plot\"},\"ticker\":{\"id\":\"1f83317f-53b0-40a9-a069-f6fc58574b3c\",\"type\":\"BasicTicker\"}},\"id\":\"34b3f765-d6a6-406b-b69c-b0965ee3c183\",\"type\":\"LinearAxis\"},{\"attributes\":{\"dimension\":1,\"plot\":{\"id\":\"9e537c4a-b27d-4ae1-91fa-df40ff739744\",\"subtype\":\"Figure\",\"type\":\"Plot\"},\"ticker\":{\"id\":\"1f83317f-53b0-40a9-a069-f6fc58574b3c\",\"type\":\"BasicTicker\"}},\"id\":\"4e7900b2-774a-4ce0-b2af-7abfa5fd46e6\",\"type\":\"Grid\"},{\"attributes\":{\"source\":{\"id\":\"2a2e970e-721e-4e12-bdb1-26ab84095b06\",\"type\":\"ColumnDataSource\"}},\"id\":\"836017b4-6e7a-4c8f-a174-d2fd7559b417\",\"type\":\"CDSView\"},{\"attributes\":{\"data_source\":{\"id\":\"2a2e970e-721e-4e12-bdb1-26ab84095b06\",\"type\":\"ColumnDataSource\"},\"glyph\":{\"id\":\"1aa8d010-fc0e-42a0-9f19-f09d5a64b9bf\",\"type\":\"Quad\"},\"hover_glyph\":null,\"muted_glyph\":null,\"nonselection_glyph\":{\"id\":\"599d2a73-70fd-42f8-8322-ebc1a133b6f7\",\"type\":\"Quad\"},\"selection_glyph\":null,\"view\":{\"id\":\"836017b4-6e7a-4c8f-a174-d2fd7559b417\",\"type\":\"CDSView\"}},\"id\":\"7dfbd645-b4a9-4d68-a044-3fa50d26530a\",\"type\":\"GlyphRenderer\"},{\"attributes\":{\"bottom\":{\"field\":\"bottom\"},\"fill_alpha\":{\"value\":0.2},\"fill_color\":{\"value\":\"red\"},\"left\":{\"field\":\"left\"},\"line_alpha\":{\"value\":0.2},\"line_color\":{\"value\":\"red\"},\"right\":{\"field\":\"right\"},\"top\":{\"field\":\"top\"}},\"id\":\"af30ea2d-e070-4e82-94f1-b59ae64855fb\",\"type\":\"Quad\"},{\"attributes\":{},\"id\":\"261cf928-9c33-4e8f-8a2c-7cd16a3c4dc8\",\"type\":\"PanTool\"},{\"attributes\":{\"label\":{\"value\":\"Initial Area\"},\"renderers\":[{\"id\":\"7dfbd645-b4a9-4d68-a044-3fa50d26530a\",\"type\":\"GlyphRenderer\"}]},\"id\":\"2a0127e7-3b08-4af7-98f7-b12057b13a0f\",\"type\":\"LegendItem\"},{\"attributes\":{},\"id\":\"7f99d731-748c-4613-9845-21849060b259\",\"type\":\"WheelZoomTool\"},{\"attributes\":{\"plot\":null,\"text\":\"\"},\"id\":\"1c0c2db1-4a52-47fa-93df-d0edfebd917c\",\"type\":\"Title\"},{\"attributes\":{},\"id\":\"341c203f-91ab-4481-a792-1322d1d721ba\",\"type\":\"SaveTool\"},{\"attributes\":{},\"id\":\"fc66657d-44e0-4b6c-8d6d-92b307461407\",\"type\":\"ResetTool\"},{\"attributes\":{\"overlay\":{\"id\":\"f6a5cd17-a276-4ee4-b4bd-466818ea1bef\",\"type\":\"BoxAnnotation\"}},\"id\":\"87eb9327-b0fe-4076-88c6-45a0cc4d0006\",\"type\":\"BoxZoomTool\"},{\"attributes\":{},\"id\":\"37c43345-975b-4018-a89e-135fe030d2e3\",\"type\":\"HelpTool\"},{\"attributes\":{\"bottom_units\":\"screen\",\"fill_alpha\":{\"value\":0.5},\"fill_color\":{\"value\":\"lightgrey\"},\"left_units\":\"screen\",\"level\":\"overlay\",\"line_alpha\":{\"value\":1.0},\"line_color\":{\"value\":\"black\"},\"line_dash\":[4,4],\"line_width\":{\"value\":2},\"plot\":null,\"render_mode\":\"css\",\"right_units\":\"screen\",\"top_units\":\"screen\"},\"id\":\"f6a5cd17-a276-4ee4-b4bd-466818ea1bef\",\"type\":\"BoxAnnotation\"},{\"attributes\":{\"bottom\":{\"field\":\"bottom\"},\"fill_alpha\":{\"value\":0.1},\"fill_color\":{\"value\":\"#1f77b4\"},\"left\":{\"field\":\"left\"},\"line_alpha\":{\"value\":0.1},\"line_color\":{\"value\":\"#1f77b4\"},\"right\":{\"field\":\"right\"},\"top\":{\"field\":\"top\"}},\"id\":\"48bd8168-06e4-47f8-bdea-162bb550c8fc\",\"type\":\"Quad\"},{\"attributes\":{\"bottom\":{\"field\":\"bottom\"},\"fill_alpha\":{\"value\":0.2},\"fill_color\":{\"value\":\"gold\"},\"left\":{\"field\":\"left\"},\"line_alpha\":{\"value\":0.2},\"line_color\":{\"value\":\"gold\"},\"right\":{\"field\":\"right\"},\"top\":{\"field\":\"top\"}},\"id\":\"974f5c24-6014-410a-8f42-a71c6857b370\",\"type\":\"Quad\"},{\"attributes\":{\"data_source\":{\"id\":\"7007065a-9ef0-4e78-a9c8-da905e4dd380\",\"type\":\"ColumnDataSource\"},\"glyph\":{\"id\":\"974f5c24-6014-410a-8f42-a71c6857b370\",\"type\":\"Quad\"},\"hover_glyph\":null,\"muted_glyph\":null,\"nonselection_glyph\":{\"id\":\"48bd8168-06e4-47f8-bdea-162bb550c8fc\",\"type\":\"Quad\"},\"selection_glyph\":null,\"view\":{\"id\":\"27a04f66-8018-46b6-bd99-bb4af313b092\",\"type\":\"CDSView\"}},\"id\":\"5fd85df6-145f-47e7-8b27-e25dc4e39d59\",\"type\":\"GlyphRenderer\"},{\"attributes\":{\"source\":{\"id\":\"7007065a-9ef0-4e78-a9c8-da905e4dd380\",\"type\":\"ColumnDataSource\"}},\"id\":\"27a04f66-8018-46b6-bd99-bb4af313b092\",\"type\":\"CDSView\"},{\"attributes\":{\"bottom\":{\"field\":\"bottom\"},\"fill_color\":{\"value\":\"steelblue\"},\"left\":{\"field\":\"left\"},\"line_color\":{\"value\":\"steelblue\"},\"right\":{\"field\":\"right\"},\"top\":{\"field\":\"top\"}},\"id\":\"1aa8d010-fc0e-42a0-9f19-f09d5a64b9bf\",\"type\":\"Quad\"},{\"attributes\":{},\"id\":\"f6f20650-196a-42db-9baf-6de38c904dad\",\"type\":\"Selection\"},{\"attributes\":{},\"id\":\"94bad9de-1f9f-4954-b96b-63b11a5fb170\",\"type\":\"LinearScale\"},{\"attributes\":{\"callback\":null,\"data\":{\"bottom\":[0],\"left\":[0],\"right\":[1],\"top\":[-2]},\"selected\":{\"id\":\"f6f20650-196a-42db-9baf-6de38c904dad\",\"type\":\"Selection\"},\"selection_policy\":{\"id\":\"03f4e626-db56-4634-b1c8-816d262bc041\",\"type\":\"UnionRenderers\"}},\"id\":\"2a2e970e-721e-4e12-bdb1-26ab84095b06\",\"type\":\"ColumnDataSource\"},{\"attributes\":{},\"id\":\"03f4e626-db56-4634-b1c8-816d262bc041\",\"type\":\"UnionRenderers\"},{\"attributes\":{\"label\":{\"value\":\"Initial Area + some increase (h)\"},\"renderers\":[{\"id\":\"5fd85df6-145f-47e7-8b27-e25dc4e39d59\",\"type\":\"GlyphRenderer\"}]},\"id\":\"6793b927-35d5-4cdf-add2-2a7249703c2a\",\"type\":\"LegendItem\"},{\"attributes\":{\"callback\":null,\"data\":{\"bottom\":[-2],\"left\":[0],\"right\":[1],\"top\":[-2.189]},\"selected\":{\"id\":\"e34febfb-4c4e-44bb-9a9f-54fcb3639de2\",\"type\":\"Selection\"},\"selection_policy\":{\"id\":\"c59ed5c1-26e4-4392-abbd-276b457e151a\",\"type\":\"UnionRenderers\"}},\"id\":\"6694a89b-b3ca-473c-b891-044581b4f5e7\",\"type\":\"ColumnDataSource\"},{\"attributes\":{\"callback\":null,\"data\":{\"bottom\":[0],\"left\":[1],\"right\":[1.2100000000000002],\"top\":[-2]},\"selected\":{\"id\":\"804376d5-c187-455d-9dc1-45d1d79e442f\",\"type\":\"Selection\"},\"selection_policy\":{\"id\":\"46a589d1-76b8-4ac1-a11b-9324b2052ed1\",\"type\":\"UnionRenderers\"}},\"id\":\"7d4aa923-2e67-4a55-9274-adc7312aed83\",\"type\":\"ColumnDataSource\"}],\"root_ids\":[\"3513ada2-c225-49e4-9d27-85a4ba4778f0\"]},\"title\":\"Bokeh Application\",\"version\":\"0.13.0\"}};\n",
       "  var render_items = [{\"docid\":\"dad9846c-32a6-4a66-a246-cd7c79ba4670\",\"roots\":{\"3513ada2-c225-49e4-9d27-85a4ba4778f0\":\"e61ed3a8-adb6-4190-9913-4eed105a59ce\"}}];\n",
       "  root.Bokeh.embed.embed_items_notebook(docs_json, render_items);\n",
       "\n",
       "  }\n",
       "  if (root.Bokeh !== undefined) {\n",
       "    embed_document(root);\n",
       "  } else {\n",
       "    var attempts = 0;\n",
       "    var timer = setInterval(function(root) {\n",
       "      if (root.Bokeh !== undefined) {\n",
       "        embed_document(root);\n",
       "        clearInterval(timer);\n",
       "      }\n",
       "      attempts++;\n",
       "      if (attempts > 100) {\n",
       "        console.log(\"Bokeh: ERROR: Unable to run BokehJS code because BokehJS library is missing\")\n",
       "        clearInterval(timer);\n",
       "      }\n",
       "    }, 10, root)\n",
       "  }\n",
       "})(window);"
      ],
      "application/vnd.bokehjs_exec.v0+json": ""
     },
     "metadata": {
      "application/vnd.bokehjs_exec.v0+json": {
       "id": "3513ada2-c225-49e4-9d27-85a4ba4778f0"
      }
     },
     "output_type": "display_data"
    }
   ],
   "source": [
    "# Parameters\n",
    "base = 1 # Base \n",
    "height = 1 # Height\n",
    "area = base*height\n",
    "h = .1 # our slight change\n",
    "\n",
    "# PLOT 1\n",
    "\n",
    "# plot our square\n",
    "p1 = plot(700,475,x='x^2',y='sin(x)')\n",
    "\n",
    "p1.quad(top=[f(height)], bottom=[0], left=[0],\n",
    "       right=[g(base)], color=\"steelblue\",\n",
    "       legend='Initial Area')\n",
    "\n",
    "# Plot our square with a slight nudge\n",
    "p1.quad(top=[f(height + h)], bottom=[0], left=[0],\n",
    "       right=[g(base + h)], color=\"gold\",alpha=.2,\n",
    "       legend='Initial Area + some increase (h)')\n",
    "p1.legend.location = 'bottom_left'\n",
    "\n",
    "# PLOT 2\n",
    "# Lets color the areas being changes\n",
    "p2 = plot(700,475,x='x^2',y='sin(x)')\n",
    "\n",
    "# p2.quad(top=[f(height)], bottom=[0], left=[0],\n",
    "#        right=[g(base)], color=\"steelblue\",alpha=.05,\n",
    "#        legend=\"x^2 sin(x)\")\n",
    "\n",
    "# Change in the height as we adjust x. \n",
    "p2.quad(top=[f(height + h)], bottom=[f(height)], left=[0],\n",
    "       right=[g(base)], color=\"red\",alpha=.2,\n",
    "      legend=\"x^2 sin(x+h)\")\n",
    "\n",
    "# Change in the base as we adjust x.\n",
    "p2.quad(top=[f(height)], bottom=[0], left=[g(base)],\n",
    "       right=[g(base + h)], color=\"purple\",alpha=.2,\n",
    "      legend=\"sin(x) (x+h)^2\")\n",
    "\n",
    "# Change in the base as we adjust x.\n",
    "p2.quad(top=[f(height+h)], bottom=[f(height)], left=[g(base)],\n",
    "       right=[g(base+h)], color=\"gold\",alpha=.2,\n",
    "      legend=\"(x+h)^2 (sin(x+h))\")\n",
    "p2.legend.location = 'bottom_left'\n",
    "show(column(p1,p2))"
   ]
  },
  {
   "cell_type": "markdown",
   "metadata": {},
   "source": [
    "Let's gather these pieces\n",
    "\n",
    "<br>\n",
    "<br>\n",
    "\n",
    "$$ \\frac{\\sin(x+h)-sin(x)}{h} x^2  + \\sin(x) \\frac{(x+h)^2-x^2}{h} + \\frac{\\sin(x+h)-sin(x)}{h}\\frac{(x+h)^2-x^2}{h} $$ \n",
    "\n",
    "<br>\n",
    "<br>\n",
    "\n",
    "We can essentially ignore $\\sin(x+h)(x+h)^2$ as that area will shrink to a trivially small size as $h \\to 0 $\n",
    "\n",
    "<br>\n",
    "<br>\n",
    "\n",
    "This leaves us with \n",
    "\n",
    "<br>\n",
    "<br>\n",
    "\n",
    "$$ \\frac{\\sin(x+h)-sin(x)}{h} x^2  + \\sin(x) \\frac{(x+h)^2-x^2}{h}$$ \n",
    "\n",
    "<br>\n",
    "<br>\n",
    "\n",
    "$$ \\cos(x) x^2  + \\sin(x) 2x $$ \n",
    "\n",
    "<br>\n",
    "<br>\n",
    "\n",
    "We are simply adding the respective area. This is the essence of the **product rule**.\n",
    "\n",
    "<br>\n",
    "<br>\n",
    "\n",
    "$$ f'(x) g(x) + f(x) g'(x) $$\n",
    "\n",
    "<br>\n",
    "<br>\n"
   ]
  },
  {
   "cell_type": "markdown",
   "metadata": {},
   "source": [
    "# The Chain Rule\n",
    "\n",
    "The chain rule is dictates how we deal with function compositions. That is, functions within functions. \n",
    "\n",
    "<br>\n",
    "<br>\n",
    "\n",
    "$$ g: x \\mapsto z $$ \n",
    "\n",
    "<br>\n",
    "<br>\n",
    "\n",
    "$$ f: z \\mapsto y $$ \n",
    "\n",
    "<br>\n",
    "<br>\n",
    "\n",
    "$$ g \\circ f: x \\mapsto y $$\n",
    "\n",
    "<br>\n",
    "<br>\n",
    "\n",
    "$$ f(g(x))= y $$\n",
    "\n",
    "<br>\n",
    "<br>\n",
    "\n",
    "We saw something similar to this when we took multiple matrix transformations.\n",
    "\n",
    "<br>\n",
    "<br>\n",
    "\n",
    "$$\\textbf{A}\\textbf{B}\\vec{x} = \\vec{y}$$\n",
    "\n",
    "<br>\n",
    "<br>"
   ]
  },
  {
   "cell_type": "markdown",
   "metadata": {},
   "source": [
    "### Rule\n",
    "\n",
    "\n",
    "<br>\n",
    "<br>\n",
    "\n",
    "$$ F(x) = f(g(x)) $$\n",
    "\n",
    "<br>\n",
    "<br>\n",
    "\n",
    "$$ F'(x) = f'(g(x))g'(x) $$\n",
    "\n",
    "<br>\n",
    "<br>"
   ]
  },
  {
   "cell_type": "markdown",
   "metadata": {},
   "source": [
    "### Derivation"
   ]
  },
  {
   "cell_type": "markdown",
   "metadata": {},
   "source": [
    "<br>\n",
    "<br>\n",
    "\n",
    "$$ F'(x) = \\lim_{h \\to 0}\\frac{f(g(x+h)) - f(g(x))}{h} $$\n",
    "\n",
    "<br>\n",
    "<br>\n",
    "\n",
    "Now let's multiply and divide by $g(x+h) - g(x)$. Recall that this doesn't change underlying value of the function as long as we multiply this value into both the numerator and the denominator. \n",
    "\n",
    "<br>\n",
    "<br>\n",
    "\n",
    "$$ \\lim_{h \\to 0}\\frac{f(g(x+h)) - f(g(x))}{h} \\frac{g(x+h) - g(x)}{g(x+h) - g(x)} $$\n",
    "\n",
    "<br>\n",
    "<br>\n",
    "\n",
    "$$ \\lim_{h \\to 0}\\frac{f(g(x+h)) - f(g(x))}{g(x+h) - g(x)} \\frac{g(x+h) - g(x)}{h} $$\n",
    "\n",
    "<br>\n",
    "<br>\n",
    "\n",
    "Recall that $h$ is really $(x + h) - x$, that is, it's the difference. When we think in these terms we can see that we have two similar types of statements...\n",
    "\n",
    "<br>\n",
    "<br>\n",
    "\n",
    "$$ \\lim_{h \\to 0}\\frac{f(g(x+h)) - f(g(x))}{g(x+h) - g(x)}\\lim_{h \\to 0}\\frac{g(x+h) - g(x)}{(x+h) - x} $$\n",
    "\n",
    "<br>\n",
    "<br>\n",
    "\n",
    "The first product is taking the change in $f(\\cdot)$ with respect to the change in $g(x)$ and the second takes the change in $g(\\cdot)$ with respect to the change in $x$.\n",
    "\n",
    "<br>\n",
    "<br>\n",
    "\n",
    "$$ f'(g(x))g'(x) $$\n",
    "\n",
    "<br>\n",
    "<br>"
   ]
  },
  {
   "cell_type": "markdown",
   "metadata": {},
   "source": [
    "### Intuition"
   ]
  },
  {
   "cell_type": "markdown",
   "metadata": {},
   "source": [
    "<br>\n",
    "<br>\n",
    "\n",
    "$$ x \\mapsto z \\mapsto y $$\n",
    "\n",
    "<br>\n",
    "<br>\n",
    "\n",
    "How does a change in $x$ correspond to a change in $z$ and how does that resulting change in $z$ correspond to a change in $y$?\n",
    "\n",
    "<br>\n",
    "<br>\n",
    "\n",
    "$$ f(x) = \\sin(x) $$\n",
    "\n",
    "<br>\n",
    "<br>\n",
    "\n",
    "$$ g(x) = x^2  $$\n",
    "\n",
    "\n",
    "<br>\n",
    "<br>"
   ]
  },
  {
   "cell_type": "code",
   "execution_count": 11,
   "metadata": {},
   "outputs": [],
   "source": [
    "# Define Functions\n",
    "def f(x):\n",
    "    return np.sin(x)\n",
    "\n",
    "def g(x):\n",
    "    return x**2"
   ]
  },
  {
   "cell_type": "markdown",
   "metadata": {},
   "source": [
    "Below is function that will help us analyze the changes discretely."
   ]
  },
  {
   "cell_type": "code",
   "execution_count": 12,
   "metadata": {},
   "outputs": [],
   "source": [
    "def chain(x,nudge=.1):\n",
    "    x1 = x\n",
    "    x2 = x + nudge\n",
    "    print(f'''\n",
    "    Changing x from {x1} to {x2}\n",
    "    x1: {x1}\\t\\t --> g(x1): {round(g(x1),1) }\\t\\t --> f(g(x1)): {round(f(g(x1)),1)}\n",
    "    x2: {x2}\\t\\t --> g(x2): {round(g(x2),1) }\\t\\t --> f(g(x2)): {round(f(g(x2)),1)}\n",
    "    ch: {round(x2-x1,2)}\\t\\t --> {round(g(x2)-g(x1),1)}\\t\\t --> {round(f(g(x2))-f(g(x1)),1)}\n",
    "    ''')"
   ]
  },
  {
   "cell_type": "code",
   "execution_count": 13,
   "metadata": {},
   "outputs": [
    {
     "name": "stdout",
     "output_type": "stream",
     "text": [
      "\n",
      "    Changing x from 1 to 1.1\n",
      "    x1: 1\t\t --> g(x1): 1\t\t --> f(g(x1)): 0.8\n",
      "    x2: 1.1\t\t --> g(x2): 1.2\t\t --> f(g(x2)): 0.9\n",
      "    ch: 0.1\t\t --> 0.2\t\t --> 0.1\n",
      "    \n",
      "\n",
      "    Changing x from 5 to 5.1\n",
      "    x1: 5\t\t --> g(x1): 25\t\t --> f(g(x1)): -0.1\n",
      "    x2: 5.1\t\t --> g(x2): 26.0\t\t --> f(g(x2)): 0.8\n",
      "    ch: 0.1\t\t --> 1.0\t\t --> 0.9\n",
      "    \n",
      "\n",
      "    Changing x from 10 to 10.1\n",
      "    x1: 10\t\t --> g(x1): 100\t\t --> f(g(x1)): -0.5\n",
      "    x2: 10.1\t\t --> g(x2): 102.0\t\t --> f(g(x2)): 1.0\n",
      "    ch: 0.1\t\t --> 2.0\t\t --> 1.5\n",
      "    \n",
      "\n",
      "    Changing x from 20 to 20.1\n",
      "    x1: 20\t\t --> g(x1): 400\t\t --> f(g(x1)): -0.9\n",
      "    x2: 20.1\t\t --> g(x2): 404.0\t\t --> f(g(x2)): 1.0\n",
      "    ch: 0.1\t\t --> 4.0\t\t --> 1.8\n",
      "    \n",
      "\n",
      "    Changing x from 50 to 50.1\n",
      "    x1: 50\t\t --> g(x1): 2500\t\t --> f(g(x1)): -0.7\n",
      "    x2: 50.1\t\t --> g(x2): 2510.0\t\t --> f(g(x2)): 0.1\n",
      "    ch: 0.1\t\t --> 10.0\t\t --> 0.8\n",
      "    \n"
     ]
    }
   ],
   "source": [
    "for i in [1,5,10,20,50]:\n",
    "    chain(i)"
   ]
  },
  {
   "cell_type": "code",
   "execution_count": 14,
   "metadata": {},
   "outputs": [
    {
     "data": {
      "text/html": [
       "\n",
       "\n",
       "\n",
       "\n",
       "\n",
       "\n",
       "  <div class=\"bk-root\" id=\"70762c48-eaec-4d20-b39d-e1a6e7b2a1f3\"></div>\n"
      ]
     },
     "metadata": {},
     "output_type": "display_data"
    },
    {
     "data": {
      "application/javascript": [
       "(function(root) {\n",
       "  function embed_document(root) {\n",
       "    \n",
       "  var docs_json = {\"cd06316e-a60f-4f6c-91c8-1c4358d0b694\":{\"roots\":{\"references\":[{\"attributes\":{\"children\":[{\"id\":\"b7a169a1-6251-43b4-8d17-992d6f79699c\",\"subtype\":\"Figure\",\"type\":\"Plot\"},{\"id\":\"3b48d515-0c32-4865-b6f0-2772b9f4386d\",\"subtype\":\"Figure\",\"type\":\"Plot\"}]},\"id\":\"5b2cb662-2d35-417f-9c9d-0ef4c825812e\",\"type\":\"Column\"},{\"attributes\":{\"data_source\":{\"id\":\"02f8b0da-b9d5-49cb-a35d-8ec7497af336\",\"type\":\"ColumnDataSource\"},\"glyph\":{\"id\":\"c0f4eafd-8b65-48c1-b426-12f98a1fc187\",\"type\":\"Line\"},\"hover_glyph\":null,\"muted_glyph\":null,\"nonselection_glyph\":{\"id\":\"a57917c2-c807-4310-9ea8-4fd2aa96b4c7\",\"type\":\"Line\"},\"selection_glyph\":null,\"view\":{\"id\":\"a1999927-9961-462e-8d56-6367bb991682\",\"type\":\"CDSView\"}},\"id\":\"2454bd00-55fc-4e97-ab7c-7f1b49461157\",\"type\":\"GlyphRenderer\"},{\"attributes\":{\"line_alpha\":0.5,\"line_color\":\"grey\",\"line_dash\":[6],\"line_width\":3,\"x\":{\"field\":\"x\"},\"y\":{\"field\":\"y\"}},\"id\":\"c0f4eafd-8b65-48c1-b426-12f98a1fc187\",\"type\":\"Line\"},{\"attributes\":{\"line_alpha\":0.1,\"line_color\":\"#1f77b4\",\"line_dash\":[6],\"line_width\":3,\"x\":{\"field\":\"x\"},\"y\":{\"field\":\"y\"}},\"id\":\"a57917c2-c807-4310-9ea8-4fd2aa96b4c7\",\"type\":\"Line\"},{\"attributes\":{\"source\":{\"id\":\"02f8b0da-b9d5-49cb-a35d-8ec7497af336\",\"type\":\"ColumnDataSource\"}},\"id\":\"a1999927-9961-462e-8d56-6367bb991682\",\"type\":\"CDSView\"},{\"attributes\":{\"label\":{\"value\":\"F'(x) = f'(g(x))g'(x)\"},\"renderers\":[{\"id\":\"2454bd00-55fc-4e97-ab7c-7f1b49461157\",\"type\":\"GlyphRenderer\"}]},\"id\":\"2a2ccb40-a6b2-4299-b7b9-0bdaa6038746\",\"type\":\"LegendItem\"},{\"attributes\":{},\"id\":\"70d240a1-cfa3-4baf-b512-41c4e77eb999\",\"type\":\"Selection\"},{\"attributes\":{\"callback\":null},\"id\":\"5d6cf7d1-e4bf-4e79-8ed5-00d115fc1af9\",\"type\":\"DataRange1d\"},{\"attributes\":{},\"id\":\"e6e44352-c822-420a-8113-65c948979197\",\"type\":\"UnionRenderers\"},{\"attributes\":{},\"id\":\"c72f92b1-6c0b-4b2e-96e3-7813b47c828b\",\"type\":\"Selection\"},{\"attributes\":{},\"id\":\"56aecd1c-8652-4182-8912-9254a25bbfb3\",\"type\":\"UnionRenderers\"},{\"attributes\":{},\"id\":\"c8370922-9f80-4d7c-b764-b6fdb8a7c289\",\"type\":\"UnionRenderers\"},{\"attributes\":{\"line_alpha\":0.5,\"line_color\":\"red\",\"line_width\":3,\"x\":{\"field\":\"x\"},\"y\":{\"field\":\"y\"}},\"id\":\"343123af-443c-4d3b-b57f-83b4f1040a14\",\"type\":\"Line\"},{\"attributes\":{},\"id\":\"f1eec4f7-b87b-4c02-8def-d31150dfa22f\",\"type\":\"Selection\"},{\"attributes\":{\"source\":{\"id\":\"ebab29fd-2671-43d7-9258-d1a071161c40\",\"type\":\"ColumnDataSource\"}},\"id\":\"87690728-dfb2-4981-8979-a1c06442ce80\",\"type\":\"CDSView\"},{\"attributes\":{\"data_source\":{\"id\":\"ebab29fd-2671-43d7-9258-d1a071161c40\",\"type\":\"ColumnDataSource\"},\"glyph\":{\"id\":\"ace650b3-c52d-44a7-a213-4a72a2d979e4\",\"type\":\"Line\"},\"hover_glyph\":null,\"muted_glyph\":null,\"nonselection_glyph\":{\"id\":\"5b69c2aa-9c45-4f6d-a2f7-3066b1602ab0\",\"type\":\"Line\"},\"selection_glyph\":null,\"view\":{\"id\":\"87690728-dfb2-4981-8979-a1c06442ce80\",\"type\":\"CDSView\"}},\"id\":\"899e3e5c-801e-4ea2-af90-ca46a4bbb2ef\",\"type\":\"GlyphRenderer\"},{\"attributes\":{\"line_alpha\":0.5,\"line_color\":\"purple\",\"line_width\":3,\"x\":{\"field\":\"x\"},\"y\":{\"field\":\"y\"}},\"id\":\"cdac1a29-9abd-48f4-a21d-2dbe7c18a3be\",\"type\":\"Line\"},{\"attributes\":{},\"id\":\"96246f2c-4f36-41ac-9776-e7b46b1857d4\",\"type\":\"Selection\"},{\"attributes\":{},\"id\":\"a38e854b-e365-4f65-bace-f8b7498f4c15\",\"type\":\"UnionRenderers\"},{\"attributes\":{\"line_alpha\":0.1,\"line_color\":\"#1f77b4\",\"line_width\":3,\"x\":{\"field\":\"x\"},\"y\":{\"field\":\"y\"}},\"id\":\"b77b1e6a-5ff4-471c-9fee-32704a731483\",\"type\":\"Line\"},{\"attributes\":{},\"id\":\"a4a2b5d7-afba-4394-8e27-f094562694f9\",\"type\":\"BasicTicker\"},{\"attributes\":{\"source\":{\"id\":\"cc63b9bc-84f2-4a85-9c45-78d0f809d9ad\",\"type\":\"ColumnDataSource\"}},\"id\":\"1301fc2b-0026-4b09-b81e-9cfb07962f8f\",\"type\":\"CDSView\"},{\"attributes\":{},\"id\":\"5afb0cec-5d5f-4da0-972e-5e12d812109e\",\"type\":\"LinearScale\"},{\"attributes\":{\"label\":{\"value\":\"f(g(x))\"},\"renderers\":[{\"id\":\"4e605cfa-8f21-4172-bd76-d8c5a09588b0\",\"type\":\"GlyphRenderer\"}]},\"id\":\"d53ac2e0-5b11-4e77-bc1e-f07eac783653\",\"type\":\"LegendItem\"},{\"attributes\":{},\"id\":\"64445bb4-bce1-456d-b87a-2f3de251c32f\",\"type\":\"UnionRenderers\"},{\"attributes\":{\"callback\":null,\"data\":{\"x\":{\"__ndarray__\":\"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\",\"dtype\":\"float64\",\"shape\":[1001]},\"y\":{\"__ndarray__\":\"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\",\"dtype\":\"float64\",\"shape\":[1001]}},\"selected\":{\"id\":\"96246f2c-4f36-41ac-9776-e7b46b1857d4\",\"type\":\"Selection\"},\"selection_policy\":{\"id\":\"a38e854b-e365-4f65-bace-f8b7498f4c15\",\"type\":\"UnionRenderers\"}},\"id\":\"ebab29fd-2671-43d7-9258-d1a071161c40\",\"type\":\"ColumnDataSource\"},{\"attributes\":{\"data_source\":{\"id\":\"f8022492-dd37-4dfe-9532-f53200912d0f\",\"type\":\"ColumnDataSource\"},\"glyph\":{\"id\":\"cdac1a29-9abd-48f4-a21d-2dbe7c18a3be\",\"type\":\"Line\"},\"hover_glyph\":null,\"muted_glyph\":null,\"nonselection_glyph\":{\"id\":\"b77b1e6a-5ff4-471c-9fee-32704a731483\",\"type\":\"Line\"},\"selection_glyph\":null,\"view\":{\"id\":\"0057ac33-6f95-4bdd-aec5-735ac35675a3\",\"type\":\"CDSView\"}},\"id\":\"4e605cfa-8f21-4172-bd76-d8c5a09588b0\",\"type\":\"GlyphRenderer\"},{\"attributes\":{\"below\":[{\"id\":\"b8d8654c-eb32-4665-a648-574c119964d3\",\"type\":\"LinearAxis\"}],\"left\":[{\"id\":\"4fec7f9c-6e0d-4ec5-88b9-8495f4d21798\",\"type\":\"LinearAxis\"}],\"plot_height\":400,\"plot_width\":700,\"renderers\":[{\"id\":\"b8d8654c-eb32-4665-a648-574c119964d3\",\"type\":\"LinearAxis\"},{\"id\":\"80e11e90-265e-47ae-b3f1-4dd0bbbd6bfd\",\"type\":\"Grid\"},{\"id\":\"4fec7f9c-6e0d-4ec5-88b9-8495f4d21798\",\"type\":\"LinearAxis\"},{\"id\":\"3bc5c640-11a9-490b-b38c-29319bfb03fa\",\"type\":\"Grid\"},{\"id\":\"10c4b857-2da9-4248-b3a7-240c4202c225\",\"type\":\"BoxAnnotation\"},{\"id\":\"7ee7dc53-313e-4332-88d2-d49ffc5a57e5\",\"type\":\"Legend\"},{\"id\":\"6520a5f9-48cf-4028-95b5-7f0a6da232f4\",\"type\":\"GlyphRenderer\"},{\"id\":\"da9675c4-a0af-44ae-9315-34cc2f20af97\",\"type\":\"GlyphRenderer\"},{\"id\":\"2454bd00-55fc-4e97-ab7c-7f1b49461157\",\"type\":\"GlyphRenderer\"}],\"title\":{\"id\":\"40aebe74-b1eb-40a8-93c3-e8a60181f382\",\"type\":\"Title\"},\"toolbar\":{\"id\":\"764c8fd7-60c1-4833-86f1-8ada9b55eeb7\",\"type\":\"Toolbar\"},\"toolbar_location\":\"below\",\"x_range\":{\"id\":\"5d6cf7d1-e4bf-4e79-8ed5-00d115fc1af9\",\"type\":\"DataRange1d\"},\"x_scale\":{\"id\":\"32e05752-94de-499c-aba7-7dc612b46ba6\",\"type\":\"LinearScale\"},\"y_range\":{\"id\":\"2cbc2c82-c027-48a0-892f-b5d767a0b270\",\"type\":\"DataRange1d\"},\"y_scale\":{\"id\":\"aa97ae54-e388-43a4-9216-83a7105b24f0\",\"type\":\"LinearScale\"}},\"id\":\"3b48d515-0c32-4865-b6f0-2772b9f4386d\",\"subtype\":\"Figure\",\"type\":\"Plot\"},{\"attributes\":{},\"id\":\"1c2c1603-3c66-4709-90fd-e6fce2a0bed5\",\"type\":\"Selection\"},{\"attributes\":{\"source\":{\"id\":\"3da52ff4-8e26-48c9-b382-10fb3a6a4fff\",\"type\":\"ColumnDataSource\"}},\"id\":\"659969b9-21dc-465b-86c0-328037ea2911\",\"type\":\"CDSView\"},{\"attributes\":{\"line_alpha\":0.5,\"line_color\":\"purple\",\"line_dash\":[6],\"line_width\":3,\"x\":{\"field\":\"x\"},\"y\":{\"field\":\"y\"}},\"id\":\"a3853424-dc91-431e-8baf-1bf6ef0ff347\",\"type\":\"Line\"},{\"attributes\":{\"label\":{\"value\":\"g(x)\"},\"renderers\":[{\"id\":\"899e3e5c-801e-4ea2-af90-ca46a4bbb2ef\",\"type\":\"GlyphRenderer\"}]},\"id\":\"03f4ae1f-987f-4c0f-b4c3-a1f39b0dcc43\",\"type\":\"LegendItem\"},{\"attributes\":{\"active_drag\":\"auto\",\"active_inspect\":\"auto\",\"active_multi\":null,\"active_scroll\":\"auto\",\"active_tap\":\"auto\",\"tools\":[{\"id\":\"d3987946-be13-4c68-a905-cf618296324e\",\"type\":\"PanTool\"},{\"id\":\"567c92f1-b122-4ffc-ba94-94c9030b8930\",\"type\":\"WheelZoomTool\"},{\"id\":\"71f5bcbd-092b-4f46-aac9-a1fcc3991646\",\"type\":\"BoxZoomTool\"},{\"id\":\"e68bcdf6-07d7-4f3d-9124-b19e58d38d70\",\"type\":\"SaveTool\"},{\"id\":\"c0cca1fd-e142-4ca3-b019-596d42d11942\",\"type\":\"ResetTool\"},{\"id\":\"de216212-9e58-4c90-8e54-63fd6c9e278a\",\"type\":\"HelpTool\"}]},\"id\":\"764c8fd7-60c1-4833-86f1-8ada9b55eeb7\",\"type\":\"Toolbar\"},{\"attributes\":{\"data_source\":{\"id\":\"3da52ff4-8e26-48c9-b382-10fb3a6a4fff\",\"type\":\"ColumnDataSource\"},\"glyph\":{\"id\":\"a3853424-dc91-431e-8baf-1bf6ef0ff347\",\"type\":\"Line\"},\"hover_glyph\":null,\"muted_glyph\":null,\"nonselection_glyph\":{\"id\":\"04351927-cf1c-4c99-8faf-816a46dd5a00\",\"type\":\"Line\"},\"selection_glyph\":null,\"view\":{\"id\":\"659969b9-21dc-465b-86c0-328037ea2911\",\"type\":\"CDSView\"}},\"id\":\"da9675c4-a0af-44ae-9315-34cc2f20af97\",\"type\":\"GlyphRenderer\"},{\"attributes\":{\"source\":{\"id\":\"f8022492-dd37-4dfe-9532-f53200912d0f\",\"type\":\"ColumnDataSource\"}},\"id\":\"0057ac33-6f95-4bdd-aec5-735ac35675a3\",\"type\":\"CDSView\"},{\"attributes\":{},\"id\":\"5ee887e5-f9ae-41a9-9e5e-ae8e999d9b65\",\"type\":\"BasicTicker\"},{\"attributes\":{\"callback\":null,\"data\":{\"x\":{\"__ndarray__\":\"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\",\"dtype\":\"float64\",\"shape\":[1001]},\"y\":{\"__ndarray__\":\"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\",\"dtype\":\"float64\",\"shape\":[1001]}},\"selected\":{\"id\":\"c72f92b1-6c0b-4b2e-96e3-7813b47c828b\",\"type\":\"Selection\"},\"selection_policy\":{\"id\":\"c8370922-9f80-4d7c-b764-b6fdb8a7c289\",\"type\":\"UnionRenderers\"}},\"id\":\"f8022492-dd37-4dfe-9532-f53200912d0f\",\"type\":\"ColumnDataSource\"},{\"attributes\":{\"source\":{\"id\":\"9224bc23-1ab7-4985-8589-fbc7449b287f\",\"type\":\"ColumnDataSource\"}},\"id\":\"c518594b-c565-45a0-a345-3435767f909f\",\"type\":\"CDSView\"},{\"attributes\":{},\"id\":\"9bb2e836-3959-4607-aa7f-f3593855133b\",\"type\":\"LinearScale\"},{\"attributes\":{},\"id\":\"4db5ba6f-9de4-4f53-b313-7ecd31c199e9\",\"type\":\"BasicTicker\"},{\"attributes\":{\"plot\":{\"id\":\"b7a169a1-6251-43b4-8d17-992d6f79699c\",\"subtype\":\"Figure\",\"type\":\"Plot\"},\"ticker\":{\"id\":\"a4a2b5d7-afba-4394-8e27-f094562694f9\",\"type\":\"BasicTicker\"}},\"id\":\"7c9df442-371a-4e68-8e8e-475b907eac2a\",\"type\":\"Grid\"},{\"attributes\":{\"overlay\":{\"id\":\"10c4b857-2da9-4248-b3a7-240c4202c225\",\"type\":\"BoxAnnotation\"}},\"id\":\"71f5bcbd-092b-4f46-aac9-a1fcc3991646\",\"type\":\"BoxZoomTool\"},{\"attributes\":{\"dimension\":1,\"plot\":{\"id\":\"b7a169a1-6251-43b4-8d17-992d6f79699c\",\"subtype\":\"Figure\",\"type\":\"Plot\"},\"ticker\":{\"id\":\"1d1152be-635c-4b46-8735-94a789552080\",\"type\":\"BasicTicker\"}},\"id\":\"93831855-e5ab-4298-a5b1-67f9265f2561\",\"type\":\"Grid\"},{\"attributes\":{},\"id\":\"6c01b226-18e0-49ec-b52e-8e3bd989ebb5\",\"type\":\"UnionRenderers\"},{\"attributes\":{\"callback\":null},\"id\":\"4277331a-4bfc-4d1e-87f6-afad21a1d09c\",\"type\":\"DataRange1d\"},{\"attributes\":{},\"id\":\"aa97ae54-e388-43a4-9216-83a7105b24f0\",\"type\":\"LinearScale\"},{\"attributes\":{\"axis_label\":\"X\",\"formatter\":{\"id\":\"ad9ffb2f-df88-4b51-8f20-fe84986e67c0\",\"type\":\"BasicTickFormatter\"},\"plot\":{\"id\":\"b7a169a1-6251-43b4-8d17-992d6f79699c\",\"subtype\":\"Figure\",\"type\":\"Plot\"},\"ticker\":{\"id\":\"a4a2b5d7-afba-4394-8e27-f094562694f9\",\"type\":\"BasicTicker\"}},\"id\":\"d4b36295-9d2e-4f9d-8fc2-3881af64f244\",\"type\":\"LinearAxis\"},{\"attributes\":{\"axis_label\":\"X\",\"formatter\":{\"id\":\"6202cfce-bead-4efd-8290-0f580a7100eb\",\"type\":\"BasicTickFormatter\"},\"plot\":{\"id\":\"3b48d515-0c32-4865-b6f0-2772b9f4386d\",\"subtype\":\"Figure\",\"type\":\"Plot\"},\"ticker\":{\"id\":\"4db5ba6f-9de4-4f53-b313-7ecd31c199e9\",\"type\":\"BasicTicker\"}},\"id\":\"b8d8654c-eb32-4665-a648-574c119964d3\",\"type\":\"LinearAxis\"},{\"attributes\":{\"formatter\":{\"id\":\"64d86bdd-42f2-4473-9bb8-3ebc26427008\",\"type\":\"BasicTickFormatter\"},\"plot\":{\"id\":\"b7a169a1-6251-43b4-8d17-992d6f79699c\",\"subtype\":\"Figure\",\"type\":\"Plot\"},\"ticker\":{\"id\":\"1d1152be-635c-4b46-8735-94a789552080\",\"type\":\"BasicTicker\"}},\"id\":\"85353d18-8560-468a-a347-4871da3e5d51\",\"type\":\"LinearAxis\"},{\"attributes\":{\"plot\":{\"id\":\"3b48d515-0c32-4865-b6f0-2772b9f4386d\",\"subtype\":\"Figure\",\"type\":\"Plot\"},\"ticker\":{\"id\":\"4db5ba6f-9de4-4f53-b313-7ecd31c199e9\",\"type\":\"BasicTicker\"}},\"id\":\"80e11e90-265e-47ae-b3f1-4dd0bbbd6bfd\",\"type\":\"Grid\"},{\"attributes\":{},\"id\":\"1d1152be-635c-4b46-8735-94a789552080\",\"type\":\"BasicTicker\"},{\"attributes\":{\"callback\":null},\"id\":\"2cbc2c82-c027-48a0-892f-b5d767a0b270\",\"type\":\"DataRange1d\"},{\"attributes\":{},\"id\":\"32e05752-94de-499c-aba7-7dc612b46ba6\",\"type\":\"LinearScale\"},{\"attributes\":{\"active_drag\":\"auto\",\"active_inspect\":\"auto\",\"active_multi\":null,\"active_scroll\":\"auto\",\"active_tap\":\"auto\",\"tools\":[{\"id\":\"5f7bc29f-0fe6-4e27-99fe-c8ba15e82917\",\"type\":\"PanTool\"},{\"id\":\"0138f9d2-44bf-4e27-9e76-28c48450077c\",\"type\":\"WheelZoomTool\"},{\"id\":\"c49ad348-2d40-4c8b-86e2-39850dacf2b9\",\"type\":\"BoxZoomTool\"},{\"id\":\"092121fe-b21b-4fab-87d9-abfb32a7539f\",\"type\":\"SaveTool\"},{\"id\":\"95b3c549-01d1-46d0-99d5-3d3b88bd9edc\",\"type\":\"ResetTool\"},{\"id\":\"5c84dda4-41ee-483c-81b8-d6f071024ab4\",\"type\":\"HelpTool\"}]},\"id\":\"f375ec23-f526-4b46-845c-f4db6f1e2eb2\",\"type\":\"Toolbar\"},{\"attributes\":{},\"id\":\"38028233-92d7-477d-92a2-1e2afb5df32a\",\"type\":\"BasicTickFormatter\"},{\"attributes\":{\"line_alpha\":0.1,\"line_color\":\"#1f77b4\",\"line_dash\":[6],\"line_width\":3,\"x\":{\"field\":\"x\"},\"y\":{\"field\":\"y\"}},\"id\":\"1d44a27c-cace-46df-a35a-1e6268181806\",\"type\":\"Line\"},{\"attributes\":{\"callback\":null,\"data\":{\"x\":{\"__ndarray__\":\"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\",\"dtype\":\"float64\",\"shape\":[1001]},\"y\":{\"__ndarray__\":\"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\",\"dtype\":\"float64\",\"shape\":[1001]}},\"selected\":{\"id\":\"1c2c1603-3c66-4709-90fd-e6fce2a0bed5\",\"type\":\"Selection\"},\"selection_policy\":{\"id\":\"64445bb4-bce1-456d-b87a-2f3de251c32f\",\"type\":\"UnionRenderers\"}},\"id\":\"9224bc23-1ab7-4985-8589-fbc7449b287f\",\"type\":\"ColumnDataSource\"},{\"attributes\":{\"plot\":null,\"text\":\"\"},\"id\":\"40aebe74-b1eb-40a8-93c3-e8a60181f382\",\"type\":\"Title\"},{\"attributes\":{\"line_alpha\":0.5,\"line_color\":\"steelblue\",\"line_width\":3,\"x\":{\"field\":\"x\"},\"y\":{\"field\":\"y\"}},\"id\":\"ace650b3-c52d-44a7-a213-4a72a2d979e4\",\"type\":\"Line\"},{\"attributes\":{},\"id\":\"713f5dc4-ec8e-417c-82b2-91310f463ce0\",\"type\":\"Selection\"},{\"attributes\":{\"items\":[{\"id\":\"03f4ae1f-987f-4c0f-b4c3-a1f39b0dcc43\",\"type\":\"LegendItem\"},{\"id\":\"bcde8df0-5c9c-4724-8876-069cf9929e83\",\"type\":\"LegendItem\"},{\"id\":\"d53ac2e0-5b11-4e77-bc1e-f07eac783653\",\"type\":\"LegendItem\"}],\"plot\":{\"id\":\"b7a169a1-6251-43b4-8d17-992d6f79699c\",\"subtype\":\"Figure\",\"type\":\"Plot\"}},\"id\":\"fa5cce31-b114-43b5-b676-0816322dcba4\",\"type\":\"Legend\"},{\"attributes\":{\"line_alpha\":0.1,\"line_color\":\"#1f77b4\",\"line_width\":3,\"x\":{\"field\":\"x\"},\"y\":{\"field\":\"y\"}},\"id\":\"5b69c2aa-9c45-4f6d-a2f7-3066b1602ab0\",\"type\":\"Line\"},{\"attributes\":{\"items\":[{\"id\":\"504dd68a-d6d9-4545-a54c-639cda5fd794\",\"type\":\"LegendItem\"},{\"id\":\"39e7ac63-4360-4b82-b455-e73cc7ae1147\",\"type\":\"LegendItem\"},{\"id\":\"2a2ccb40-a6b2-4299-b7b9-0bdaa6038746\",\"type\":\"LegendItem\"}],\"plot\":{\"id\":\"3b48d515-0c32-4865-b6f0-2772b9f4386d\",\"subtype\":\"Figure\",\"type\":\"Plot\"}},\"id\":\"7ee7dc53-313e-4332-88d2-d49ffc5a57e5\",\"type\":\"Legend\"},{\"attributes\":{},\"id\":\"64d86bdd-42f2-4473-9bb8-3ebc26427008\",\"type\":\"BasicTickFormatter\"},{\"attributes\":{\"formatter\":{\"id\":\"38028233-92d7-477d-92a2-1e2afb5df32a\",\"type\":\"BasicTickFormatter\"},\"plot\":{\"id\":\"3b48d515-0c32-4865-b6f0-2772b9f4386d\",\"subtype\":\"Figure\",\"type\":\"Plot\"},\"ticker\":{\"id\":\"5ee887e5-f9ae-41a9-9e5e-ae8e999d9b65\",\"type\":\"BasicTicker\"}},\"id\":\"4fec7f9c-6e0d-4ec5-88b9-8495f4d21798\",\"type\":\"LinearAxis\"},{\"attributes\":{\"callback\":null},\"id\":\"aed3bea4-869e-4849-b5b6-19f89d58577c\",\"type\":\"DataRange1d\"},{\"attributes\":{\"dimension\":1,\"plot\":{\"id\":\"3b48d515-0c32-4865-b6f0-2772b9f4386d\",\"subtype\":\"Figure\",\"type\":\"Plot\"},\"ticker\":{\"id\":\"5ee887e5-f9ae-41a9-9e5e-ae8e999d9b65\",\"type\":\"BasicTicker\"}},\"id\":\"3bc5c640-11a9-490b-b38c-29319bfb03fa\",\"type\":\"Grid\"},{\"attributes\":{\"plot\":null,\"text\":\"\"},\"id\":\"752fe384-d8f9-4876-9613-8509f556b707\",\"type\":\"Title\"},{\"attributes\":{},\"id\":\"6202cfce-bead-4efd-8290-0f580a7100eb\",\"type\":\"BasicTickFormatter\"},{\"attributes\":{\"below\":[{\"id\":\"d4b36295-9d2e-4f9d-8fc2-3881af64f244\",\"type\":\"LinearAxis\"}],\"left\":[{\"id\":\"85353d18-8560-468a-a347-4871da3e5d51\",\"type\":\"LinearAxis\"}],\"plot_height\":400,\"plot_width\":700,\"renderers\":[{\"id\":\"d4b36295-9d2e-4f9d-8fc2-3881af64f244\",\"type\":\"LinearAxis\"},{\"id\":\"7c9df442-371a-4e68-8e8e-475b907eac2a\",\"type\":\"Grid\"},{\"id\":\"85353d18-8560-468a-a347-4871da3e5d51\",\"type\":\"LinearAxis\"},{\"id\":\"93831855-e5ab-4298-a5b1-67f9265f2561\",\"type\":\"Grid\"},{\"id\":\"b29ba6e1-6a33-43ef-978d-6f8c423e0a52\",\"type\":\"BoxAnnotation\"},{\"id\":\"fa5cce31-b114-43b5-b676-0816322dcba4\",\"type\":\"Legend\"},{\"id\":\"899e3e5c-801e-4ea2-af90-ca46a4bbb2ef\",\"type\":\"GlyphRenderer\"},{\"id\":\"6104b64b-6e8b-495c-9e75-85feb55e3f20\",\"type\":\"GlyphRenderer\"},{\"id\":\"4e605cfa-8f21-4172-bd76-d8c5a09588b0\",\"type\":\"GlyphRenderer\"}],\"title\":{\"id\":\"752fe384-d8f9-4876-9613-8509f556b707\",\"type\":\"Title\"},\"toolbar\":{\"id\":\"f375ec23-f526-4b46-845c-f4db6f1e2eb2\",\"type\":\"Toolbar\"},\"toolbar_location\":\"below\",\"x_range\":{\"id\":\"aed3bea4-869e-4849-b5b6-19f89d58577c\",\"type\":\"DataRange1d\"},\"x_scale\":{\"id\":\"9bb2e836-3959-4607-aa7f-f3593855133b\",\"type\":\"LinearScale\"},\"y_range\":{\"id\":\"4277331a-4bfc-4d1e-87f6-afad21a1d09c\",\"type\":\"DataRange1d\"},\"y_scale\":{\"id\":\"5afb0cec-5d5f-4da0-972e-5e12d812109e\",\"type\":\"LinearScale\"}},\"id\":\"b7a169a1-6251-43b4-8d17-992d6f79699c\",\"subtype\":\"Figure\",\"type\":\"Plot\"},{\"attributes\":{},\"id\":\"d3987946-be13-4c68-a905-cf618296324e\",\"type\":\"PanTool\"},{\"attributes\":{},\"id\":\"ad9ffb2f-df88-4b51-8f20-fe84986e67c0\",\"type\":\"BasicTickFormatter\"},{\"attributes\":{\"callback\":null,\"data\":{\"x\":{\"__ndarray__\":\"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\",\"dtype\":\"float64\",\"shape\":[1001]},\"y\":{\"__ndarray__\":\"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\",\"dtype\":\"float64\",\"shape\":[1001]}},\"selected\":{\"id\":\"713f5dc4-ec8e-417c-82b2-91310f463ce0\",\"type\":\"Selection\"},\"selection_policy\":{\"id\":\"6c01b226-18e0-49ec-b52e-8e3bd989ebb5\",\"type\":\"UnionRenderers\"}},\"id\":\"cc63b9bc-84f2-4a85-9c45-78d0f809d9ad\",\"type\":\"ColumnDataSource\"},{\"attributes\":{\"callback\":null,\"data\":{\"x\":{\"__ndarray__\":\"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\",\"dtype\":\"float64\",\"shape\":[1001]},\"y\":{\"__ndarray__\":\"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\",\"dtype\":\"float64\",\"shape\":[1001]}},\"selected\":{\"id\":\"70d240a1-cfa3-4baf-b512-41c4e77eb999\",\"type\":\"Selection\"},\"selection_policy\":{\"id\":\"e6e44352-c822-420a-8113-65c948979197\",\"type\":\"UnionRenderers\"}},\"id\":\"3da52ff4-8e26-48c9-b382-10fb3a6a4fff\",\"type\":\"ColumnDataSource\"},{\"attributes\":{},\"id\":\"5f7bc29f-0fe6-4e27-99fe-c8ba15e82917\",\"type\":\"PanTool\"},{\"attributes\":{},\"id\":\"567c92f1-b122-4ffc-ba94-94c9030b8930\",\"type\":\"WheelZoomTool\"},{\"attributes\":{\"line_alpha\":0.1,\"line_color\":\"#1f77b4\",\"line_width\":3,\"x\":{\"field\":\"x\"},\"y\":{\"field\":\"y\"}},\"id\":\"c61fda36-3e37-4582-8921-bdbf8d939d2e\",\"type\":\"Line\"},{\"attributes\":{\"line_alpha\":0.5,\"line_color\":\"steelblue\",\"line_dash\":[6],\"line_width\":3,\"x\":{\"field\":\"x\"},\"y\":{\"field\":\"y\"}},\"id\":\"752bd399-98ce-4399-89a3-d5b0ea052478\",\"type\":\"Line\"},{\"attributes\":{\"label\":{\"value\":\"f(x)\"},\"renderers\":[{\"id\":\"6104b64b-6e8b-495c-9e75-85feb55e3f20\",\"type\":\"GlyphRenderer\"}]},\"id\":\"bcde8df0-5c9c-4724-8876-069cf9929e83\",\"type\":\"LegendItem\"},{\"attributes\":{\"data_source\":{\"id\":\"9224bc23-1ab7-4985-8589-fbc7449b287f\",\"type\":\"ColumnDataSource\"},\"glyph\":{\"id\":\"752bd399-98ce-4399-89a3-d5b0ea052478\",\"type\":\"Line\"},\"hover_glyph\":null,\"muted_glyph\":null,\"nonselection_glyph\":{\"id\":\"1d44a27c-cace-46df-a35a-1e6268181806\",\"type\":\"Line\"},\"selection_glyph\":null,\"view\":{\"id\":\"c518594b-c565-45a0-a345-3435767f909f\",\"type\":\"CDSView\"}},\"id\":\"6520a5f9-48cf-4028-95b5-7f0a6da232f4\",\"type\":\"GlyphRenderer\"},{\"attributes\":{\"overlay\":{\"id\":\"b29ba6e1-6a33-43ef-978d-6f8c423e0a52\",\"type\":\"BoxAnnotation\"}},\"id\":\"c49ad348-2d40-4c8b-86e2-39850dacf2b9\",\"type\":\"BoxZoomTool\"},{\"attributes\":{\"callback\":null,\"data\":{\"x\":{\"__ndarray__\":\"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\",\"dtype\":\"float64\",\"shape\":[1001]},\"y\":{\"__ndarray__\":\"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\",\"dtype\":\"float64\",\"shape\":[1001]}},\"selected\":{\"id\":\"f1eec4f7-b87b-4c02-8def-d31150dfa22f\",\"type\":\"Selection\"},\"selection_policy\":{\"id\":\"56aecd1c-8652-4182-8912-9254a25bbfb3\",\"type\":\"UnionRenderers\"}},\"id\":\"02f8b0da-b9d5-49cb-a35d-8ec7497af336\",\"type\":\"ColumnDataSource\"},{\"attributes\":{},\"id\":\"5c84dda4-41ee-483c-81b8-d6f071024ab4\",\"type\":\"HelpTool\"},{\"attributes\":{\"bottom_units\":\"screen\",\"fill_alpha\":{\"value\":0.5},\"fill_color\":{\"value\":\"lightgrey\"},\"left_units\":\"screen\",\"level\":\"overlay\",\"line_alpha\":{\"value\":1.0},\"line_color\":{\"value\":\"black\"},\"line_dash\":[4,4],\"line_width\":{\"value\":2},\"plot\":null,\"render_mode\":\"css\",\"right_units\":\"screen\",\"top_units\":\"screen\"},\"id\":\"10c4b857-2da9-4248-b3a7-240c4202c225\",\"type\":\"BoxAnnotation\"},{\"attributes\":{\"data_source\":{\"id\":\"cc63b9bc-84f2-4a85-9c45-78d0f809d9ad\",\"type\":\"ColumnDataSource\"},\"glyph\":{\"id\":\"343123af-443c-4d3b-b57f-83b4f1040a14\",\"type\":\"Line\"},\"hover_glyph\":null,\"muted_glyph\":null,\"nonselection_glyph\":{\"id\":\"c61fda36-3e37-4582-8921-bdbf8d939d2e\",\"type\":\"Line\"},\"selection_glyph\":null,\"view\":{\"id\":\"1301fc2b-0026-4b09-b81e-9cfb07962f8f\",\"type\":\"CDSView\"}},\"id\":\"6104b64b-6e8b-495c-9e75-85feb55e3f20\",\"type\":\"GlyphRenderer\"},{\"attributes\":{},\"id\":\"de216212-9e58-4c90-8e54-63fd6c9e278a\",\"type\":\"HelpTool\"},{\"attributes\":{\"bottom_units\":\"screen\",\"fill_alpha\":{\"value\":0.5},\"fill_color\":{\"value\":\"lightgrey\"},\"left_units\":\"screen\",\"level\":\"overlay\",\"line_alpha\":{\"value\":1.0},\"line_color\":{\"value\":\"black\"},\"line_dash\":[4,4],\"line_width\":{\"value\":2},\"plot\":null,\"render_mode\":\"css\",\"right_units\":\"screen\",\"top_units\":\"screen\"},\"id\":\"b29ba6e1-6a33-43ef-978d-6f8c423e0a52\",\"type\":\"BoxAnnotation\"},{\"attributes\":{},\"id\":\"c0cca1fd-e142-4ca3-b019-596d42d11942\",\"type\":\"ResetTool\"},{\"attributes\":{},\"id\":\"0138f9d2-44bf-4e27-9e76-28c48450077c\",\"type\":\"WheelZoomTool\"},{\"attributes\":{},\"id\":\"e68bcdf6-07d7-4f3d-9124-b19e58d38d70\",\"type\":\"SaveTool\"},{\"attributes\":{},\"id\":\"95b3c549-01d1-46d0-99d5-3d3b88bd9edc\",\"type\":\"ResetTool\"},{\"attributes\":{\"label\":{\"value\":\"f'(g(x))\"},\"renderers\":[{\"id\":\"da9675c4-a0af-44ae-9315-34cc2f20af97\",\"type\":\"GlyphRenderer\"}]},\"id\":\"39e7ac63-4360-4b82-b455-e73cc7ae1147\",\"type\":\"LegendItem\"},{\"attributes\":{},\"id\":\"092121fe-b21b-4fab-87d9-abfb32a7539f\",\"type\":\"SaveTool\"},{\"attributes\":{\"label\":{\"value\":\"g'(x)\"},\"renderers\":[{\"id\":\"6520a5f9-48cf-4028-95b5-7f0a6da232f4\",\"type\":\"GlyphRenderer\"}]},\"id\":\"504dd68a-d6d9-4545-a54c-639cda5fd794\",\"type\":\"LegendItem\"},{\"attributes\":{\"line_alpha\":0.1,\"line_color\":\"#1f77b4\",\"line_dash\":[6],\"line_width\":3,\"x\":{\"field\":\"x\"},\"y\":{\"field\":\"y\"}},\"id\":\"04351927-cf1c-4c99-8faf-816a46dd5a00\",\"type\":\"Line\"}],\"root_ids\":[\"5b2cb662-2d35-417f-9c9d-0ef4c825812e\"]},\"title\":\"Bokeh Application\",\"version\":\"0.13.0\"}};\n",
       "  var render_items = [{\"docid\":\"cd06316e-a60f-4f6c-91c8-1c4358d0b694\",\"roots\":{\"5b2cb662-2d35-417f-9c9d-0ef4c825812e\":\"70762c48-eaec-4d20-b39d-e1a6e7b2a1f3\"}}];\n",
       "  root.Bokeh.embed.embed_items_notebook(docs_json, render_items);\n",
       "\n",
       "  }\n",
       "  if (root.Bokeh !== undefined) {\n",
       "    embed_document(root);\n",
       "  } else {\n",
       "    var attempts = 0;\n",
       "    var timer = setInterval(function(root) {\n",
       "      if (root.Bokeh !== undefined) {\n",
       "        embed_document(root);\n",
       "        clearInterval(timer);\n",
       "      }\n",
       "      attempts++;\n",
       "      if (attempts > 100) {\n",
       "        console.log(\"Bokeh: ERROR: Unable to run BokehJS code because BokehJS library is missing\")\n",
       "        clearInterval(timer);\n",
       "      }\n",
       "    }, 10, root)\n",
       "  }\n",
       "})(window);"
      ],
      "application/vnd.bokehjs_exec.v0+json": ""
     },
     "metadata": {
      "application/vnd.bokehjs_exec.v0+json": {
       "id": "5b2cb662-2d35-417f-9c9d-0ef4c825812e"
      }
     },
     "output_type": "display_data"
    }
   ],
   "source": [
    "# Show graphically\n",
    "\n",
    "x = np.arange(-5,5 + .01 , .01)\n",
    "\n",
    "# Plot functional forms\n",
    "p1 = plot(700,400,y='')\n",
    "p1.line(x,g(x),color='steelblue',legend='g(x)',line_width=3,alpha=.5)\n",
    "p1.line(x,f(x),color='red',legend=\"f(x)\",line_width=3,alpha=.5)\n",
    "p1.line(x,f(g(x)),color='purple',legend='f(g(x))',line_width=3,alpha=.5)\n",
    "\n",
    "\n",
    "\n",
    "\n",
    "# Define composite function\n",
    "def F(x):\n",
    "    '''Composite function of f and g'''\n",
    "    return f(g(x))\n",
    "\n",
    "# Plot derivatives\n",
    "p2 = plot(700,400,y='')\n",
    "p2.line(x,deriv(x,func=g,nudge=.001),color='steelblue',\n",
    "       line_dash=\"dashed\",\n",
    "       legend=\"g'(x)\",\n",
    "       line_width=3,alpha=.5)\n",
    "p2.line(x,deriv(g(x),func=f,nudge=.001),color='purple',\n",
    "       line_dash=\"dashed\",\n",
    "       legend=\"f'(g(x))\",\n",
    "       line_width=3,alpha=.5)\n",
    "p2.line(x,F(x),color='grey',\n",
    "        line_dash=\"dashed\",\n",
    "        line_width=3,alpha=.5,\n",
    "        legend=\"F'(x) = f'(g(x))g'(x)\")\n",
    "show(column(p1,p2))"
   ]
  },
  {
   "cell_type": "markdown",
   "metadata": {},
   "source": [
    "# The Exponential Rule"
   ]
  },
  {
   "cell_type": "markdown",
   "metadata": {},
   "source": [
    "### Rule\n",
    "\n",
    "<br>\n",
    "<br>\n",
    "\n",
    "$$ f(x) = e^x $$\n",
    "\n",
    "<br>\n",
    "<br>\n",
    "\n",
    "$$ f'(x) = e^x $$\n",
    "\n",
    "<br>\n",
    "<br>"
   ]
  },
  {
   "cell_type": "markdown",
   "metadata": {},
   "source": [
    "### Derivation\n",
    "\n",
    "<br>\n",
    "<br>\n",
    "\n",
    "$$ f'(x) = \\lim_{h \\to0} \\frac{e^{x+h} - e^x}{h} $$\n",
    "\n",
    "<br>\n",
    "<br>\n",
    "\n",
    "$$ \\lim_{h \\to0} \\frac{e^{x}e^{h} - e^x}{h} $$\n",
    "\n",
    "<br>\n",
    "<br>\n",
    "\n",
    "Factor out $e^{x}$\n",
    "\n",
    "<br>\n",
    "<br>\n",
    "\n",
    "$$ e^{x} \\lim_{h \\to0} \\frac{e^{h} - 1}{h} $$\n",
    "\n",
    "<br>\n",
    "<br>\n",
    "\n",
    "$\\frac{e^{h} - 1}{h}$ converges to $1$ in the limit (see reading), leaving\n",
    "\n",
    "\n",
    "<br>\n",
    "<br>\n",
    "\n",
    "$$ e^{x} $$\n",
    "\n",
    "\n",
    "<br>\n",
    "<br>"
   ]
  },
  {
   "cell_type": "code",
   "execution_count": 15,
   "metadata": {},
   "outputs": [
    {
     "name": "stdout",
     "output_type": "stream",
     "text": [
      "1.005016708416795\n",
      "1.0005001667083846\n",
      "1.000005000006965\n",
      "1.0000000494336803\n"
     ]
    }
   ],
   "source": [
    "# Non-rigorous but a computational proof of this\n",
    "for h in [.01,.001,.00001,.0000001]:\n",
    "    print((np.exp(h)-1)/h)"
   ]
  },
  {
   "cell_type": "markdown",
   "metadata": {},
   "source": [
    "### Intuition\n",
    "\n",
    "This isn't as much an intuition as watching the function behave when we nudge it."
   ]
  },
  {
   "cell_type": "code",
   "execution_count": 16,
   "metadata": {},
   "outputs": [
    {
     "data": {
      "text/html": [
       "\n",
       "\n",
       "\n",
       "\n",
       "\n",
       "\n",
       "  <div class=\"bk-root\" id=\"8cbe1d3c-4810-4217-bb55-11b582db906f\"></div>\n"
      ]
     },
     "metadata": {},
     "output_type": "display_data"
    },
    {
     "data": {
      "application/javascript": [
       "(function(root) {\n",
       "  function embed_document(root) {\n",
       "    \n",
       "  var docs_json = {\"36d96f21-a02b-439f-b522-9b102dca7fd2\":{\"roots\":{\"references\":[{\"attributes\":{\"plot\":null,\"text\":\"\"},\"id\":\"0958d2c8-59dc-4b2f-8d7c-12efc3335691\",\"type\":\"Title\"},{\"attributes\":{\"data_source\":{\"id\":\"26d5e251-0326-4786-b579-acefa9d0d78c\",\"type\":\"ColumnDataSource\"},\"glyph\":{\"id\":\"ff9b14f4-72ec-47c9-9a3b-0c467428ca0a\",\"type\":\"Line\"},\"hover_glyph\":null,\"muted_glyph\":null,\"nonselection_glyph\":{\"id\":\"1e959c2f-db2c-4034-8fca-a9c18b4d06aa\",\"type\":\"Line\"},\"selection_glyph\":null,\"view\":{\"id\":\"4329c50d-7280-4666-bef2-412784220650\",\"type\":\"CDSView\"}},\"id\":\"9ee91bd2-f5da-4fa1-821e-dfe633092516\",\"type\":\"GlyphRenderer\"},{\"attributes\":{\"callback\":null,\"data\":{\"x\":{\"__ndarray__\":\"AAAAAAAAFMCamZmZmZkTwDQzMzMzMxPAzszMzMzMEsBoZmZmZmYSwAIAAAAAABLAnJmZmZmZEcA2MzMzMzMRwNDMzMzMzBDAamZmZmZmEMAEAAAAAAAQwDwzMzMzMw/AcGZmZmZmDsCkmZmZmZkNwNjMzMzMzAzADAAAAAAADMBAMzMzMzMLwHRmZmZmZgrAqJmZmZmZCcDczMzMzMwIwBAAAAAAAAjARDMzMzMzB8B4ZmZmZmYGwKyZmZmZmQXA4MzMzMzMBMAUAAAAAAAEwEgzMzMzMwPAfGZmZmZmAsCwmZmZmZkBwOTMzMzMzADAGAAAAAAAAMCYZmZmZmb+vwDNzMzMzPy/aDMzMzMz+7/QmZmZmZn5vzgAAAAAAPi/oGZmZmZm9r8IzczMzMz0v3AzMzMzM/O/2JmZmZmZ8b9AAAAAAADwv1DNzMzMzOy/IJqZmZmZ6b/wZmZmZmbmv8AzMzMzM+O/kAAAAAAA4L/AmpmZmZnZv2A0MzMzM9O/AJyZmZmZyb+AnpmZmZm5vwAAAAAAABS9gJSZmZmZuT8Al5mZmZnJP+AxMzMzM9M/QJiZmZmZ2T+g/v/////fP4AyMzMzM+M/sGVmZmZm5j/gmJmZmZnpPxDMzMzMzOw/QP//////7z84mZmZmZnxP9AyMzMzM/M/aMzMzMzM9D8AZmZmZmb2P5j///////c/MJmZmZmZ+T/IMjMzMzP7P2DMzMzMzPw/+GVmZmZm/j+Q////////P5TMzMzMzABAYJmZmZmZAUAsZmZmZmYCQPgyMzMzMwNAxP//////A0CQzMzMzMwEQFyZmZmZmQVAKGZmZmZmBkD0MjMzMzMHQMD//////wdAjMzMzMzMCEBYmZmZmZkJQCRmZmZmZgpA8DIzMzMzC0C8//////8LQIjMzMzMzAxAVJmZmZmZDUAgZmZmZmYOQOwyMzMzMw9AuP//////D0BCZmZmZmYQQKjMzMzMzBBADjMzMzMzEUB0mZmZmZkRQNr//////xFAQGZmZmZmEkCmzMzMzMwSQAwzMzMzMxNAcpmZmZmZE0DY//////8TQA==\",\"dtype\":\"float64\",\"shape\":[101]},\"y\":{\"__ndarray__\":\"dlMN4D+Zez9L5hrsToB+PwJscPPB2oA/UkaZbYuggj+VwE2ODpaEPwzElUZQwIY/66fsqtwkiT9Go7Ap1cmLP22WOkAAto4/+l9ua234kD/iPCG4VcGSP7dLrK5LupQ/VbYIFl3olj8kEIfGH1GZP0GwQ/m/+ps/OP/kGBDsnj9VkhQeTRahP2S+hbtZ4qI/Ivv/mcjepD90gPtlsBCnP3ywzsywfak/0mRT5QAsrD9AbXwcfyKvP5sAVGdhNLE/ijBj3ZcDsz/w85TAhQO1P4e/ibJKObc/NpnsRpCquT/AsHWFmF28P9gRiPJNWb8/mIG/o6pSwT/b1wiEECXDP/AJfZODKMU/uYmpeCxixz++Tfu+vtfJP7lbS3KHj8w/owa2Q32Qzz9B4owwKXHRP5USehbERtM/nhuRhMJN1T/a7iw2VovXP7NtCMA8Bdo/ENuBRc7B3D+5VN25DcjfP5YElmvdj+E/s5Vv/LJo4z+LcHIGQ3PlP5V7w2nItOc/3GAW1goz6j+tKtWZbfTsP2D//////+8/eQBas8eu8T8nrFie3YrzPyMajIwFmfU/X7/7koPe9z8LBh6OKWH6P0ypEQtmJ/0/K4kmYSocAECBRv5m6M0BQEd4XGVErQNA51YUiwq/BUAA1UQyiAgIQABlEHaZjwpA+/cVNrhaDUDfWRFXhjgQQM3ET+Y/7RFAaTdbu+fPE0AU+A13UuUVQODt78jWMhhAPmPYHFu+GkDf3NS4ZI4dQNocCDkUVSBA3A3Ekc4MIkC9h+8KyPIjQMXJScbdCyZABOAx2W9dKEDoe1wSb+0qQFcpVzJswi1AwiHsXtRxMEBvgXrKlCwyQGWwb7/lFTRAiP1n76wyNkDKtiTmU4g4QJt6gOfVHDtAbaO9Qs/2PUBPazkhx45AQGp3PfKSTEJA0OvuREE5REB4l9lpwFlGQGFGyXODs0hAYzknLpBMS0Cm8kKLjitOQJq/B9nsq1BA0myDa8lsUkBTtD4I21xUQNTd4a0YgVZAE8IIB//eWECvYTR5nnxbQDuQPa6qYF5AVLoL4EXJYEDWMnCZOI1iQA==\",\"dtype\":\"float64\",\"shape\":[101]}},\"selected\":{\"id\":\"c6b56785-bfae-4b39-b7eb-e0945a52a787\",\"type\":\"Selection\"},\"selection_policy\":{\"id\":\"8d0dec20-0864-44f5-b4b4-ad8e0c41144d\",\"type\":\"UnionRenderers\"}},\"id\":\"97fc135d-8f3b-4c87-9608-6a567e73a224\",\"type\":\"ColumnDataSource\"},{\"attributes\":{},\"id\":\"1d54c853-b030-4cb8-ad4e-6f8527212443\",\"type\":\"Selection\"},{\"attributes\":{\"source\":{\"id\":\"26d5e251-0326-4786-b579-acefa9d0d78c\",\"type\":\"ColumnDataSource\"}},\"id\":\"4329c50d-7280-4666-bef2-412784220650\",\"type\":\"CDSView\"},{\"attributes\":{\"below\":[{\"id\":\"22d6a4c5-d895-4b50-aa28-3ec5275e696d\",\"type\":\"LinearAxis\"}],\"left\":[{\"id\":\"5dba5846-13a5-4c26-a8c3-2d26acf77227\",\"type\":\"LinearAxis\"}],\"plot_height\":300,\"plot_width\":700,\"renderers\":[{\"id\":\"22d6a4c5-d895-4b50-aa28-3ec5275e696d\",\"type\":\"LinearAxis\"},{\"id\":\"aff09cc8-1251-47b1-aeef-a579cfdb11be\",\"type\":\"Grid\"},{\"id\":\"5dba5846-13a5-4c26-a8c3-2d26acf77227\",\"type\":\"LinearAxis\"},{\"id\":\"8a19dec7-3fc5-46ff-9bb5-a71cf9edc868\",\"type\":\"Grid\"},{\"id\":\"d1e03e88-24f3-4495-9790-eb570936c7a3\",\"type\":\"BoxAnnotation\"},{\"id\":\"b90707a0-880e-4e34-8dcb-78a506416f8e\",\"type\":\"GlyphRenderer\"},{\"id\":\"9ee91bd2-f5da-4fa1-821e-dfe633092516\",\"type\":\"GlyphRenderer\"}],\"title\":{\"id\":\"0958d2c8-59dc-4b2f-8d7c-12efc3335691\",\"type\":\"Title\"},\"toolbar\":{\"id\":\"84c8f47a-a62e-434e-b40c-6c8d20ed7ec7\",\"type\":\"Toolbar\"},\"toolbar_location\":\"below\",\"x_range\":{\"id\":\"7d84200f-3b42-48c1-b0c8-5cff2dc06a10\",\"type\":\"DataRange1d\"},\"x_scale\":{\"id\":\"b747b67e-fd28-4227-ab83-a42217bd1bf0\",\"type\":\"LinearScale\"},\"y_range\":{\"id\":\"9df77596-612c-4409-a9c1-b6bfe38f387d\",\"type\":\"DataRange1d\"},\"y_scale\":{\"id\":\"53ad0bb0-b067-4e81-9d56-794d601305fc\",\"type\":\"LinearScale\"}},\"id\":\"9b83fbfd-7f44-48b7-b348-7f74bb446e89\",\"subtype\":\"Figure\",\"type\":\"Plot\"},{\"attributes\":{\"line_alpha\":0.1,\"line_color\":\"#1f77b4\",\"line_width\":6,\"x\":{\"field\":\"x\"},\"y\":{\"field\":\"y\"}},\"id\":\"1e959c2f-db2c-4034-8fca-a9c18b4d06aa\",\"type\":\"Line\"},{\"attributes\":{},\"id\":\"5bf6aa7c-ef46-41c7-82eb-7b89049c9a1e\",\"type\":\"UnionRenderers\"},{\"attributes\":{},\"id\":\"53ad0bb0-b067-4e81-9d56-794d601305fc\",\"type\":\"LinearScale\"},{\"attributes\":{},\"id\":\"56081cd7-9b2e-490f-9853-69271bbbc9cc\",\"type\":\"ResetTool\"},{\"attributes\":{},\"id\":\"b747b67e-fd28-4227-ab83-a42217bd1bf0\",\"type\":\"LinearScale\"},{\"attributes\":{\"line_alpha\":0.4,\"line_color\":\"red\",\"line_width\":6,\"x\":{\"field\":\"x\"},\"y\":{\"field\":\"y\"}},\"id\":\"ff9b14f4-72ec-47c9-9a3b-0c467428ca0a\",\"type\":\"Line\"},{\"attributes\":{\"overlay\":{\"id\":\"d1e03e88-24f3-4495-9790-eb570936c7a3\",\"type\":\"BoxAnnotation\"}},\"id\":\"2d68b948-9729-4de2-a4f7-d8277afecfb4\",\"type\":\"BoxZoomTool\"},{\"attributes\":{},\"id\":\"63d73b5a-2e44-4d7d-9868-86d02a99bc11\",\"type\":\"PanTool\"},{\"attributes\":{\"axis_label\":\"f(X)\",\"formatter\":{\"id\":\"972e51bd-ff76-4822-bb5a-310326bc958b\",\"type\":\"BasicTickFormatter\"},\"plot\":{\"id\":\"9b83fbfd-7f44-48b7-b348-7f74bb446e89\",\"subtype\":\"Figure\",\"type\":\"Plot\"},\"ticker\":{\"id\":\"4e64c8d2-3afc-458c-801e-ed86ec28a553\",\"type\":\"BasicTicker\"}},\"id\":\"5dba5846-13a5-4c26-a8c3-2d26acf77227\",\"type\":\"LinearAxis\"},{\"attributes\":{\"line_width\":3,\"x\":{\"field\":\"x\"},\"y\":{\"field\":\"y\"}},\"id\":\"95ad4169-7a34-4097-ba4c-abcd5c461268\",\"type\":\"Line\"},{\"attributes\":{\"data_source\":{\"id\":\"97fc135d-8f3b-4c87-9608-6a567e73a224\",\"type\":\"ColumnDataSource\"},\"glyph\":{\"id\":\"95ad4169-7a34-4097-ba4c-abcd5c461268\",\"type\":\"Line\"},\"hover_glyph\":null,\"muted_glyph\":null,\"nonselection_glyph\":{\"id\":\"ef274254-ba60-4402-8c99-3dae53ee425d\",\"type\":\"Line\"},\"selection_glyph\":null,\"view\":{\"id\":\"164d6423-3ca3-4cfb-a91e-927cf4b13c6a\",\"type\":\"CDSView\"}},\"id\":\"b90707a0-880e-4e34-8dcb-78a506416f8e\",\"type\":\"GlyphRenderer\"},{\"attributes\":{},\"id\":\"4e64c8d2-3afc-458c-801e-ed86ec28a553\",\"type\":\"BasicTicker\"},{\"attributes\":{},\"id\":\"c6b56785-bfae-4b39-b7eb-e0945a52a787\",\"type\":\"Selection\"},{\"attributes\":{\"source\":{\"id\":\"97fc135d-8f3b-4c87-9608-6a567e73a224\",\"type\":\"ColumnDataSource\"}},\"id\":\"164d6423-3ca3-4cfb-a91e-927cf4b13c6a\",\"type\":\"CDSView\"},{\"attributes\":{},\"id\":\"972e51bd-ff76-4822-bb5a-310326bc958b\",\"type\":\"BasicTickFormatter\"},{\"attributes\":{\"active_drag\":\"auto\",\"active_inspect\":\"auto\",\"active_multi\":null,\"active_scroll\":\"auto\",\"active_tap\":\"auto\",\"tools\":[{\"id\":\"63d73b5a-2e44-4d7d-9868-86d02a99bc11\",\"type\":\"PanTool\"},{\"id\":\"e9097792-3bbf-4e0a-b312-fbf41e207fee\",\"type\":\"WheelZoomTool\"},{\"id\":\"2d68b948-9729-4de2-a4f7-d8277afecfb4\",\"type\":\"BoxZoomTool\"},{\"id\":\"c1c24456-66ec-407e-b2fc-4e575f9ed32b\",\"type\":\"SaveTool\"},{\"id\":\"56081cd7-9b2e-490f-9853-69271bbbc9cc\",\"type\":\"ResetTool\"},{\"id\":\"08cbe846-e44b-4fc5-aacc-7c637af2a3b3\",\"type\":\"HelpTool\"}]},\"id\":\"84c8f47a-a62e-434e-b40c-6c8d20ed7ec7\",\"type\":\"Toolbar\"},{\"attributes\":{},\"id\":\"ed7117b4-22a9-4810-828b-a90102125d69\",\"type\":\"BasicTicker\"},{\"attributes\":{\"callback\":null},\"id\":\"9df77596-612c-4409-a9c1-b6bfe38f387d\",\"type\":\"DataRange1d\"},{\"attributes\":{},\"id\":\"8d0dec20-0864-44f5-b4b4-ad8e0c41144d\",\"type\":\"UnionRenderers\"},{\"attributes\":{},\"id\":\"08cbe846-e44b-4fc5-aacc-7c637af2a3b3\",\"type\":\"HelpTool\"},{\"attributes\":{\"bottom_units\":\"screen\",\"fill_alpha\":{\"value\":0.5},\"fill_color\":{\"value\":\"lightgrey\"},\"left_units\":\"screen\",\"level\":\"overlay\",\"line_alpha\":{\"value\":1.0},\"line_color\":{\"value\":\"black\"},\"line_dash\":[4,4],\"line_width\":{\"value\":2},\"plot\":null,\"render_mode\":\"css\",\"right_units\":\"screen\",\"top_units\":\"screen\"},\"id\":\"d1e03e88-24f3-4495-9790-eb570936c7a3\",\"type\":\"BoxAnnotation\"},{\"attributes\":{\"line_alpha\":0.1,\"line_color\":\"#1f77b4\",\"line_width\":3,\"x\":{\"field\":\"x\"},\"y\":{\"field\":\"y\"}},\"id\":\"ef274254-ba60-4402-8c99-3dae53ee425d\",\"type\":\"Line\"},{\"attributes\":{\"dimension\":1,\"plot\":{\"id\":\"9b83fbfd-7f44-48b7-b348-7f74bb446e89\",\"subtype\":\"Figure\",\"type\":\"Plot\"},\"ticker\":{\"id\":\"4e64c8d2-3afc-458c-801e-ed86ec28a553\",\"type\":\"BasicTicker\"}},\"id\":\"8a19dec7-3fc5-46ff-9bb5-a71cf9edc868\",\"type\":\"Grid\"},{\"attributes\":{},\"id\":\"c1c24456-66ec-407e-b2fc-4e575f9ed32b\",\"type\":\"SaveTool\"},{\"attributes\":{},\"id\":\"e9097792-3bbf-4e0a-b312-fbf41e207fee\",\"type\":\"WheelZoomTool\"},{\"attributes\":{\"callback\":null,\"data\":{\"x\":{\"__ndarray__\":\"AAAAAAAAFMCamZmZmZkTwDQzMzMzMxPAzszMzMzMEsBoZmZmZmYSwAIAAAAAABLAnJmZmZmZEcA2MzMzMzMRwNDMzMzMzBDAamZmZmZmEMAEAAAAAAAQwDwzMzMzMw/AcGZmZmZmDsCkmZmZmZkNwNjMzMzMzAzADAAAAAAADMBAMzMzMzMLwHRmZmZmZgrAqJmZmZmZCcDczMzMzMwIwBAAAAAAAAjARDMzMzMzB8B4ZmZmZmYGwKyZmZmZmQXA4MzMzMzMBMAUAAAAAAAEwEgzMzMzMwPAfGZmZmZmAsCwmZmZmZkBwOTMzMzMzADAGAAAAAAAAMCYZmZmZmb+vwDNzMzMzPy/aDMzMzMz+7/QmZmZmZn5vzgAAAAAAPi/oGZmZmZm9r8IzczMzMz0v3AzMzMzM/O/2JmZmZmZ8b9AAAAAAADwv1DNzMzMzOy/IJqZmZmZ6b/wZmZmZmbmv8AzMzMzM+O/kAAAAAAA4L/AmpmZmZnZv2A0MzMzM9O/AJyZmZmZyb+AnpmZmZm5vwAAAAAAABS9gJSZmZmZuT8Al5mZmZnJP+AxMzMzM9M/QJiZmZmZ2T+g/v/////fP4AyMzMzM+M/sGVmZmZm5j/gmJmZmZnpPxDMzMzMzOw/QP//////7z84mZmZmZnxP9AyMzMzM/M/aMzMzMzM9D8AZmZmZmb2P5j///////c/MJmZmZmZ+T/IMjMzMzP7P2DMzMzMzPw/+GVmZmZm/j+Q////////P5TMzMzMzABAYJmZmZmZAUAsZmZmZmYCQPgyMzMzMwNAxP//////A0CQzMzMzMwEQFyZmZmZmQVAKGZmZmZmBkD0MjMzMzMHQMD//////wdAjMzMzMzMCEBYmZmZmZkJQCRmZmZmZgpA8DIzMzMzC0C8//////8LQIjMzMzMzAxAVJmZmZmZDUAgZmZmZmYOQOwyMzMzMw9AuP//////D0BCZmZmZmYQQKjMzMzMzBBADjMzMzMzEUB0mZmZmZkRQNr//////xFAQGZmZmZmEkCmzMzMzMwSQAwzMzMzMxNAcpmZmZmZE0DY//////8TQA==\",\"dtype\":\"float64\",\"shape\":[101]},\"y\":{\"__ndarray__\":\"cMJWh8icez8IZg+4NoR+Pxiwjmzq3IA/kDBeAe6igj/4vBpZsZiEP8BMUwk6w4Y/eORX3BQoiT/4/noJZM2LP9AxLOzuuY4/2PAXsZn6kD+Y8bl+vMOSP6h9Vx3zvJQ/AE6S+Uvrlj/oys+iXVSZP3hHghxV/ps/GNXtsAXwnj/Abfk2fRihP/hbVrzE5KI/eHe0tHThpD9gLVhzpBOnP6D37l30gKk/iOUMV5wvrD/IDMyseyavP+j2L1qVNrE/4MvcHwcGsz+gKYyPNga1P7hg0PJDPLc/IAjwltmtuT+AJsRQOmG8P4huY4dRXb8/ADZad+JUwT+goakPhCfDP/jj/h45K8U/oP4A9Splxz/AKf/XDdvJPxhfXKIvk8w/+KZ36YeUzz+46rnrZHPRP6BmzfI7SdM/uB701HxQ1T+IMcz3WY7XPzDPO6yRCNo/iLCW5XzF3D8IifV8H8zfP0j4NBUdkuE/aBkOMS9r4z+AxhskAnblP0DC8XnRt+c/6D66n2U26j8Y5UK1IvjsPyB7enYMAvA/OJJWUgux8T8IaugyXo3zP1iz73/Jm/U/+I4Q+5Hh9z+gc4U/imT6P5hQQa0hK/0/0IDdcjoeAEC4UVACMNABQMjqkGHJrwNAWAS1XNPBBUBoJaj7mwsIQCCboBkAkwpAOKGEanpeDUBYBV4KmjoQQDhq+4SL7xFAAGT1JnHSE0DYjn0vIOgVQFhNGv3vNRhAAOsIvcfBGkAo4xOLLZIdQJDgTpQrVyBASNLZOh4PIkAgIL7tVfUjQHgqKW6wDiZAiIOsgY5gKECgQre54fAqQNBBDK47xi1AyKWcaO9zMEA4TReF6C4yQAAsTyF4GDRAeENnj4Q1NkCom4kMeIs4QKALoqBOIDtAuP+ic6X6PUCwoc7f5ZBAQPC+isXqTkJAeIvJLdg7REDYIrgKnVxGQLBSwyGttkhAUMi+Aw9QS0AQfid9ay9OQKgaCFMPrlBAAE23XiVvUkAwuAyAdl9UQLCAblj6g1ZA8OxTRi7iWECI5AN2I4BbQMDaBG2OZF5AQAwJHGzLYECIXM2zmI9iQA==\",\"dtype\":\"float64\",\"shape\":[101]}},\"selected\":{\"id\":\"1d54c853-b030-4cb8-ad4e-6f8527212443\",\"type\":\"Selection\"},\"selection_policy\":{\"id\":\"5bf6aa7c-ef46-41c7-82eb-7b89049c9a1e\",\"type\":\"UnionRenderers\"}},\"id\":\"26d5e251-0326-4786-b579-acefa9d0d78c\",\"type\":\"ColumnDataSource\"},{\"attributes\":{},\"id\":\"251c7b56-9394-4153-bd79-f00f4d765a7a\",\"type\":\"BasicTickFormatter\"},{\"attributes\":{\"callback\":null},\"id\":\"7d84200f-3b42-48c1-b0c8-5cff2dc06a10\",\"type\":\"DataRange1d\"},{\"attributes\":{\"plot\":{\"id\":\"9b83fbfd-7f44-48b7-b348-7f74bb446e89\",\"subtype\":\"Figure\",\"type\":\"Plot\"},\"ticker\":{\"id\":\"ed7117b4-22a9-4810-828b-a90102125d69\",\"type\":\"BasicTicker\"}},\"id\":\"aff09cc8-1251-47b1-aeef-a579cfdb11be\",\"type\":\"Grid\"},{\"attributes\":{\"axis_label\":\"X\",\"formatter\":{\"id\":\"251c7b56-9394-4153-bd79-f00f4d765a7a\",\"type\":\"BasicTickFormatter\"},\"plot\":{\"id\":\"9b83fbfd-7f44-48b7-b348-7f74bb446e89\",\"subtype\":\"Figure\",\"type\":\"Plot\"},\"ticker\":{\"id\":\"ed7117b4-22a9-4810-828b-a90102125d69\",\"type\":\"BasicTicker\"}},\"id\":\"22d6a4c5-d895-4b50-aa28-3ec5275e696d\",\"type\":\"LinearAxis\"}],\"root_ids\":[\"9b83fbfd-7f44-48b7-b348-7f74bb446e89\"]},\"title\":\"Bokeh Application\",\"version\":\"0.13.0\"}};\n",
       "  var render_items = [{\"docid\":\"36d96f21-a02b-439f-b522-9b102dca7fd2\",\"roots\":{\"9b83fbfd-7f44-48b7-b348-7f74bb446e89\":\"8cbe1d3c-4810-4217-bb55-11b582db906f\"}}];\n",
       "  root.Bokeh.embed.embed_items_notebook(docs_json, render_items);\n",
       "\n",
       "  }\n",
       "  if (root.Bokeh !== undefined) {\n",
       "    embed_document(root);\n",
       "  } else {\n",
       "    var attempts = 0;\n",
       "    var timer = setInterval(function(root) {\n",
       "      if (root.Bokeh !== undefined) {\n",
       "        embed_document(root);\n",
       "        clearInterval(timer);\n",
       "      }\n",
       "      attempts++;\n",
       "      if (attempts > 100) {\n",
       "        console.log(\"Bokeh: ERROR: Unable to run BokehJS code because BokehJS library is missing\")\n",
       "        clearInterval(timer);\n",
       "      }\n",
       "    }, 10, root)\n",
       "  }\n",
       "})(window);"
      ],
      "application/vnd.bokehjs_exec.v0+json": ""
     },
     "metadata": {
      "application/vnd.bokehjs_exec.v0+json": {
       "id": "9b83fbfd-7f44-48b7-b348-7f74bb446e89"
      }
     },
     "output_type": "display_data"
    }
   ],
   "source": [
    "def f(x):\n",
    "    return np.exp(x)\n",
    "\n",
    "x = np.arange(-5,5.1,.1)\n",
    "p = plot(700,300)\n",
    "p.line(x,f(x),line_width=3,color=\"black\")\n",
    "p.line(x,deriv(x,f,nudge=.001),line_width=6,color=\"red\",alpha=.4)\n",
    "show(p)"
   ]
  },
  {
   "cell_type": "markdown",
   "metadata": {},
   "source": [
    "# Summary of the Rules"
   ]
  },
  {
   "cell_type": "markdown",
   "metadata": {},
   "source": [
    "We covered the three most important rule of differentiation (of which the other rules can usually be derived). However, it's useful to list off all the rules that we'll encounter most often for future reference."
   ]
  },
  {
   "cell_type": "markdown",
   "metadata": {},
   "source": [
    "|Rule Name | Function | Derivative\n",
    "|-----|-----|-----|\n",
    "| **Sum**  | $ f(x) + g(x)$ | $f'(x) + g'(x)$|\n",
    "| Difference  | $ f(x) - g(x)$ | $f'(x) - g'(x)$|\n",
    "| **Scalar** | $ f(ax) $ | $af'(x)$|\n",
    "| **Product**  | $ f(x)g(x)$ | $f'(x)g(x) + f(x)g'(x)$|\n",
    "| Quotient  | $ \\frac{f(x)}{g(x)}$ | $\\frac{f'(x)g(x) - f(x)g'(x)}{g(x)^2}$|\n",
    "| **Chain**  | $ f(g(x))$ | $f'(g(x))g'(x)$|\n",
    "| **Constant**  | $ f(c)$ | $0$|\n",
    "| **Exponential**  | $ e^x$ | $ e^x$|\n",
    "| Natural Log  | $  ln(x)$ | $\\frac{1}{x}$|\n",
    "| Cosine | $ \\cos(x) $ | $-\\sin(x)$|\n",
    "| Sine | $ \\sin(x) $ | $\\cos(x)$|\n",
    "| Tangent | $ \\tan(x) $ | $1 + \\tan^2(x)$|\n",
    "\n",
    "(Note that I've bolded the rules that we covered today)."
   ]
  },
  {
   "cell_type": "markdown",
   "metadata": {},
   "source": [
    "# Sympy: Symbolic Math in Python"
   ]
  },
  {
   "cell_type": "markdown",
   "metadata": {},
   "source": [
    "Python has a useful library for calculating the derivative and other mathematical derivations. With [sympy](https://www.sympy.org/en/index.html), we can easily calculate the mathematical derivations outlined above (and much more). For now, I'll put it on our radar as it offers us a tool in python to quickly calculate the derivatives of trick functions. "
   ]
  },
  {
   "cell_type": "code",
   "execution_count": 17,
   "metadata": {},
   "outputs": [
    {
     "data": {
      "image/png": "[encoded data removed]",
      "text/latex": [
       "$$z^{3}$$"
      ],
      "text/plain": [
       " 3\n",
       "z "
      ]
     },
     "execution_count": 17,
     "metadata": {},
     "output_type": "execute_result"
    }
   ],
   "source": [
    "z = symbols('z') # specify the symbol used in an expression\n",
    "init_printing(use_unicode=True)\n",
    "expr = z**3\n",
    "expr"
   ]
  },
  {
   "cell_type": "markdown",
   "metadata": {},
   "source": [
    "### Calculating the Derivative"
   ]
  },
  {
   "cell_type": "code",
   "execution_count": 18,
   "metadata": {},
   "outputs": [
    {
     "data": {
      "image/png": "[encoded data removed]",
      "text/latex": [
       "$$3 z^{2}$$"
      ],
      "text/plain": [
       "   2\n",
       "3⋅z "
      ]
     },
     "execution_count": 18,
     "metadata": {},
     "output_type": "execute_result"
    }
   ],
   "source": [
    "# Calculate the derivative\n",
    "expr.diff()"
   ]
  },
  {
   "cell_type": "code",
   "execution_count": 19,
   "metadata": {},
   "outputs": [
    {
     "data": {
      "image/png": "[encoded data removed]",
      "text/latex": [
       "$$2 z \\cos{\\left (z^{2} \\right )}$$"
      ],
      "text/plain": [
       "       ⎛ 2⎞\n",
       "2⋅z⋅cos⎝z ⎠"
      ]
     },
     "execution_count": 19,
     "metadata": {},
     "output_type": "execute_result"
    }
   ],
   "source": [
    "# Implements all the tools and logic outlined above \n",
    "expr2 = sin(z**2)\n",
    "expr2.diff()"
   ]
  },
  {
   "cell_type": "markdown",
   "metadata": {},
   "source": [
    "We can evaluate the symbolic outputs using the `evalf` and `lambdify` methods."
   ]
  },
  {
   "cell_type": "code",
   "execution_count": 20,
   "metadata": {},
   "outputs": [
    {
     "data": {
      "image/png": "[encoded data removed]",
      "text/latex": [
       "$$8.0$$"
      ],
      "text/plain": [
       "8.00000000000000"
      ]
     },
     "execution_count": 20,
     "metadata": {},
     "output_type": "execute_result"
    }
   ],
   "source": [
    "expr.evalf(subs={z: 2})"
   ]
  },
  {
   "cell_type": "code",
   "execution_count": 21,
   "metadata": {},
   "outputs": [
    {
     "data": {
      "image/png": "[encoded data removed]",
      "text/latex": [
       "$$12.0$$"
      ],
      "text/plain": [
       "12.0000000000000"
      ]
     },
     "execution_count": 21,
     "metadata": {},
     "output_type": "execute_result"
    }
   ],
   "source": [
    "expr.diff().evalf(subs={z: 2})"
   ]
  },
  {
   "cell_type": "markdown",
   "metadata": {},
   "source": [
    "`lambdify` allows us to efficiently pass whole arrays of numbers through. We convert each expression into a special \"lambda-like\" function that we can then pass numerical values generated by `numpy`."
   ]
  },
  {
   "cell_type": "code",
   "execution_count": 22,
   "metadata": {},
   "outputs": [
    {
     "data": {
      "image/png": "[encoded data removed]",
      "text/latex": [
       "$$z^{3} - 2 z^{2} - z$$"
      ],
      "text/plain": [
       " 3      2    \n",
       "z  - 2⋅z  - z"
      ]
     },
     "execution_count": 22,
     "metadata": {},
     "output_type": "execute_result"
    }
   ],
   "source": [
    "# Define our expressions\n",
    "expr = z**3 - 2*z**2 - 1*z\n",
    "f = lambdify(z, expr, \"numpy\")  # function \n",
    "df = lambdify(z, expr.diff(), \"numpy\") # first derivative\n",
    "expr"
   ]
  },
  {
   "cell_type": "markdown",
   "metadata": {},
   "source": [
    "Let's plot the resulting values as we've done this entire time using the numerical arrays provided. "
   ]
  },
  {
   "cell_type": "code",
   "execution_count": 23,
   "metadata": {},
   "outputs": [
    {
     "data": {
      "text/html": [
       "\n",
       "\n",
       "\n",
       "\n",
       "\n",
       "\n",
       "  <div class=\"bk-root\" id=\"5751f577-c6a4-4f79-820c-743dbafbf771\"></div>\n"
      ]
     },
     "metadata": {},
     "output_type": "display_data"
    },
    {
     "data": {
      "application/javascript": [
       "(function(root) {\n",
       "  function embed_document(root) {\n",
       "    \n",
       "  var docs_json = {\"70fab8ec-1e1f-4ca8-9d3a-727815953f29\":{\"roots\":{\"references\":[{\"attributes\":{\"callback\":null,\"data\":{\"x\":{\"__ndarray__\":\"AAAAAAAAFMCamZmZmZkTwDQzMzMzMxPAzszMzMzMEsBoZmZmZmYSwAIAAAAAABLAnJmZmZmZEcA2MzMzMzMRwNDMzMzMzBDAamZmZmZmEMAEAAAAAAAQwDwzMzMzMw/AcGZmZmZmDsCkmZmZmZkNwNjMzMzMzAzADAAAAAAADMBAMzMzMzMLwHRmZmZmZgrAqJmZmZmZCcDczMzMzMwIwBAAAAAAAAjARDMzMzMzB8B4ZmZmZmYGwKyZmZmZmQXA4MzMzMzMBMAUAAAAAAAEwEgzMzMzMwPAfGZmZmZmAsCwmZmZmZkBwOTMzMzMzADAGAAAAAAAAMCYZmZmZmb+vwDNzMzMzPy/aDMzMzMz+7/QmZmZmZn5vzgAAAAAAPi/oGZmZmZm9r8IzczMzMz0v3AzMzMzM/O/2JmZmZmZ8b9AAAAAAADwv1DNzMzMzOy/IJqZmZmZ6b/wZmZmZmbmv8AzMzMzM+O/kAAAAAAA4L/AmpmZmZnZv2A0MzMzM9O/AJyZmZmZyb+AnpmZmZm5vwAAAAAAABS9gJSZmZmZuT8Al5mZmZnJP+AxMzMzM9M/QJiZmZmZ2T+g/v/////fP4AyMzMzM+M/sGVmZmZm5j/gmJmZmZnpPxDMzMzMzOw/QP//////7z84mZmZmZnxP9AyMzMzM/M/aMzMzMzM9D8AZmZmZmb2P5j///////c/MJmZmZmZ+T/IMjMzMzP7P2DMzMzMzPw/+GVmZmZm/j+Q////////P5TMzMzMzABAYJmZmZmZAUAsZmZmZmYCQPgyMzMzMwNAxP//////A0CQzMzMzMwEQFyZmZmZmQVAKGZmZmZmBkD0MjMzMzMHQMD//////wdAjMzMzMzMCEBYmZmZmZkJQCRmZmZmZgpA8DIzMzMzC0C8//////8LQIjMzMzMzAxAVJmZmZmZDUAgZmZmZmYOQOwyMzMzMw9AuP//////D0BCZmZmZmYQQKjMzMzMzBBADjMzMzMzEUB0mZmZmZkRQNr//////xFAQGZmZmZmEkCmzMzMzMwSQAwzMzMzMxNAcpmZmZmZE0A=\",\"dtype\":\"float64\",\"shape\":[100]},\"y\":{\"__ndarray__\":\"AAAAAACAV0C6HoXrUahWQBauR+F61FVAGK5H4XoEVUC8HoXrUThUQAQAAAAAcFNA8FG4HoWrUkCAFK5H4epRQLRH4XoULlFAjOtRuB51UEAOAAAAAIBPQE0K16NwHU5A0/UoXI/CTEChwvUoXG9LQLZwPQrXI0pAEwAAAADgSEC3cD0K16NHQKPC9Shcb0ZA2PUoXI9CRUBTCtejcB1EQBYAAAAAAENAINejcD3qQUBzj8L1KNxAQBpSuB6Fqz9A3UfhehSuPUAwAAAAAMA7QBF7FK5H4TlAgrgehesROECCuB6F61E2QBJ7FK5HoTRAMAAAAAAAM0DeR+F6FG4xQDakcD0K1y9Azj0K16PwLECGXI/C9SgqQFsAAAAAgCdATylcj8L1JEBi16NwPYoiQJIK16NwPSBAxIXrUbgeHECgAAAAAAAYQLmF61G4HhRADxWuR+F6EEBEXY/C9SgKQOKkcD0K1wNA+AEAAAAA/D8e43oUrkfxP+S0R+F6FN4/iPutR+F6tL9sB9ejcD3iv4D9/////++/1lC4HoXr9b/4eRSuR+H6vyd6FK5H4f6/sChcj8L1AMDU//////8BwH7C9ShcjwLArXA9CtejAsBiCtejcD0CwJ6PwvUoXAHAYAAAAAAAAMBQuR6F61H8v+xI4XoUrve/lK9H4XoU8r+Q2qNwPQrnvyAIAAAAANC/sEi4HoXr0T+gnnA9CtfrP3C1HoXrUfg/QKJwPQrXAUBA/v////8HQMBuPQrXow5A2HkUrkfhEkCQRuF6FK4WQIQdhetRuBpAuP7/////HkAS9Shcj8IhQOhvPQrXIyRA3G89CtejJkDu9Chcj0IpQCD//////ytAcI7C9SjcLkBvUbgeheswQDYehetReDJAiq1H4XoUNEBw/////781QOQTrkfhejdA6OpRuB5FOUB6hOtRuB47QJzgehSuBz1ATP//////PkBHcD0K14NAQC7C9Shcj0FAXfUoXI+iQkDUCdejcL1DQJP/////30RAmtajcD0KRkDnjsL1KDxHQHwoXI/CdUhAW6NwPQq3SUA=\",\"dtype\":\"float64\",\"shape\":[100]}},\"selected\":{\"id\":\"bd9df543-290b-47d2-b595-cd82da6b536c\",\"type\":\"Selection\"},\"selection_policy\":{\"id\":\"9fcbfb6d-6e66-43bd-b075-2fb13dad8ff2\",\"type\":\"UnionRenderers\"}},\"id\":\"e12ee3e6-40f8-4e2f-821c-3b2e32dc92dd\",\"type\":\"ColumnDataSource\"},{\"attributes\":{\"axis_label\":\"f(X)\",\"formatter\":{\"id\":\"317839dc-b1c2-4873-97ec-297926af4f38\",\"type\":\"BasicTickFormatter\"},\"plot\":{\"id\":\"43d4c201-fe38-4e7b-b8f3-0aa032f96992\",\"subtype\":\"Figure\",\"type\":\"Plot\"},\"ticker\":{\"id\":\"a5972f61-516e-40ea-a2df-11492b4bbfe5\",\"type\":\"BasicTicker\"}},\"id\":\"e4d6b226-fa6d-45b9-8d4a-823aded263ce\",\"type\":\"LinearAxis\"},{\"attributes\":{\"dimension\":1,\"plot\":{\"id\":\"43d4c201-fe38-4e7b-b8f3-0aa032f96992\",\"subtype\":\"Figure\",\"type\":\"Plot\"},\"ticker\":{\"id\":\"a5972f61-516e-40ea-a2df-11492b4bbfe5\",\"type\":\"BasicTicker\"}},\"id\":\"d7f5cf07-688f-40ac-9c35-d9df3b7d4819\",\"type\":\"Grid\"},{\"attributes\":{\"line_alpha\":0.1,\"line_color\":\"#1f77b4\",\"line_width\":3,\"x\":{\"field\":\"x\"},\"y\":{\"field\":\"y\"}},\"id\":\"d0d3309a-afbf-496a-81ac-311662d1afd3\",\"type\":\"Line\"},{\"attributes\":{\"data_source\":{\"id\":\"588874a5-0ffe-4257-b296-8ad28fb9c811\",\"type\":\"ColumnDataSource\"},\"glyph\":{\"id\":\"4af0a0ec-9665-434a-8734-8db84748da01\",\"type\":\"Line\"},\"hover_glyph\":null,\"muted_glyph\":null,\"nonselection_glyph\":{\"id\":\"d0d3309a-afbf-496a-81ac-311662d1afd3\",\"type\":\"Line\"},\"selection_glyph\":null,\"view\":{\"id\":\"ccfb966b-4727-4dc7-bc34-7f551a446d91\",\"type\":\"CDSView\"}},\"id\":\"7b0e9129-276c-4afd-ad30-77673ad979ec\",\"type\":\"GlyphRenderer\"},{\"attributes\":{},\"id\":\"a5972f61-516e-40ea-a2df-11492b4bbfe5\",\"type\":\"BasicTicker\"},{\"attributes\":{\"items\":[{\"id\":\"0989b7f0-add4-48e3-a27b-c57b1fcf1483\",\"type\":\"LegendItem\"},{\"id\":\"065b5d2f-7d84-499c-8c8c-b6be2c5818b4\",\"type\":\"LegendItem\"}],\"plot\":{\"id\":\"43d4c201-fe38-4e7b-b8f3-0aa032f96992\",\"subtype\":\"Figure\",\"type\":\"Plot\"}},\"id\":\"275ef613-8784-4e62-8121-2665ea7d0e4a\",\"type\":\"Legend\"},{\"attributes\":{},\"id\":\"d236688d-b1b4-4072-ae7c-81596998a32e\",\"type\":\"BasicTickFormatter\"},{\"attributes\":{},\"id\":\"af5d4706-2135-45cb-a32e-bc3a61d7b603\",\"type\":\"PanTool\"},{\"attributes\":{},\"id\":\"bd9df543-290b-47d2-b595-cd82da6b536c\",\"type\":\"Selection\"},{\"attributes\":{},\"id\":\"9a8a9a05-b652-474a-a75a-56c54a1c2ef6\",\"type\":\"WheelZoomTool\"},{\"attributes\":{\"overlay\":{\"id\":\"1e0bd6dc-bd6c-4160-9366-0a6968a48223\",\"type\":\"BoxAnnotation\"}},\"id\":\"d3898ae7-28ac-483d-9b15-3eb4dc9c0300\",\"type\":\"BoxZoomTool\"},{\"attributes\":{},\"id\":\"646b7719-76c7-43b9-8896-da8e680ed645\",\"type\":\"SaveTool\"},{\"attributes\":{},\"id\":\"b12d8a67-8c4a-4ee9-9634-b7c1db4084d6\",\"type\":\"ResetTool\"},{\"attributes\":{\"callback\":null,\"data\":{\"x\":{\"__ndarray__\":\"AAAAAAAAFMCamZmZmZkTwDQzMzMzMxPAzszMzMzMEsBoZmZmZmYSwAIAAAAAABLAnJmZmZmZEcA2MzMzMzMRwNDMzMzMzBDAamZmZmZmEMAEAAAAAAAQwDwzMzMzMw/AcGZmZmZmDsCkmZmZmZkNwNjMzMzMzAzADAAAAAAADMBAMzMzMzMLwHRmZmZmZgrAqJmZmZmZCcDczMzMzMwIwBAAAAAAAAjARDMzMzMzB8B4ZmZmZmYGwKyZmZmZmQXA4MzMzMzMBMAUAAAAAAAEwEgzMzMzMwPAfGZmZmZmAsCwmZmZmZkBwOTMzMzMzADAGAAAAAAAAMCYZmZmZmb+vwDNzMzMzPy/aDMzMzMz+7/QmZmZmZn5vzgAAAAAAPi/oGZmZmZm9r8IzczMzMz0v3AzMzMzM/O/2JmZmZmZ8b9AAAAAAADwv1DNzMzMzOy/IJqZmZmZ6b/wZmZmZmbmv8AzMzMzM+O/kAAAAAAA4L/AmpmZmZnZv2A0MzMzM9O/AJyZmZmZyb+AnpmZmZm5vwAAAAAAABS9gJSZmZmZuT8Al5mZmZnJP+AxMzMzM9M/QJiZmZmZ2T+g/v/////fP4AyMzMzM+M/sGVmZmZm5j/gmJmZmZnpPxDMzMzMzOw/QP//////7z84mZmZmZnxP9AyMzMzM/M/aMzMzMzM9D8AZmZmZmb2P5j///////c/MJmZmZmZ+T/IMjMzMzP7P2DMzMzMzPw/+GVmZmZm/j+Q////////P5TMzMzMzABAYJmZmZmZAUAsZmZmZmYCQPgyMzMzMwNAxP//////A0CQzMzMzMwEQFyZmZmZmQVAKGZmZmZmBkD0MjMzMzMHQMD//////wdAjMzMzMzMCEBYmZmZmZkJQCRmZmZmZgpA8DIzMzMzC0C8//////8LQIjMzMzMzAxAVJmZmZmZDUAgZmZmZmYOQOwyMzMzMw9AuP//////D0BCZmZmZmYQQKjMzMzMzBBADjMzMzMzEUB0mZmZmZkRQNr//////xFAQGZmZmZmEkCmzMzMzMwSQAwzMzMzMxNAcpmZmZmZE0A=\",\"dtype\":\"float64\",\"shape\":[100]},\"y\":{\"__ndarray__\":\"AAAAAABAZcD5U+OlmxhkwJhDi2zn+2LACFYOLbLpYcBzEoPAyuFgwAoAAAAAyF/A0ks3iUHgXcCTFtnO9wtcwKVuEoPASlrAXWIQWDmcWMAQAAAAAABXwBVWDi2ydVXAwnJoke38U8BsZDvfT5VSwGo5tMh2PlHAJQAAAADwT8B1jZduEoNNwHI3iUFgNUvAxhov3SQGScAeVOOlm/RGwCYAAAAAAEXAijvfT40nQ8D2Itv5fmpBwCymm8QgkD/ALdEi2/l+PMBGAAAAAKA5wM9s5/up8TbAIFCNl25yNMCS46WbxCAywPvAyqFF9i/AcgAAAAAALMA7+FPjpVsowAYbL90kBiXAgtv5fmr8IcDCWDm0yHYewKQAAAAAgBnADJQYBFYOFcBY+FPjpRsRwNQlBoGVQwvARJLtfD81BcDAAAAAAAAAwBR4vp8aL/e/gju0yHa+778YEC2yne/jv9Qx3SQGgdW/8AMAAAAAwL8glvHSTWKQP8wohxbZzrc/2+kmMQisvD+eUGIQWDm0Pzj//////xM9FFE5tMh2vr9swiCwcmjRvzyfRbbz/dy/XKBFtvP95L90/v/////rv3SKbOf7qfG/XAesHFpk9b92CwIrhxb5v0Issp3vp/y/QP///////7/5jJduEoMBwO6IQWDl0ALAPr6fGi/dA8Cq91PjpZsEwPP//////wTA2qFFtvP9BMAeqMZLN4kEwILdJAaBlQPAxgwCK4cWAsCoAAAAAAAAwNgHgZVDi/q/oMLKoUW2879wjkFg5dDmv4Cwarx0k7i/wPj/////4z+Ame+nxkv3P2hLYhBYOQNAbK+d76fGC0AGFwRWDq0SQED+/////xdABqjx0k3iHUB+FwRWDi0iQN9WObTItiVAdB+wcmiRKUCP/v///78tQL9AYOXQIjFAyprEILCSM0AO1HjpJjE2QDizyHa+/zhA6f7/////O0DOfWq8dDM/QEb7qfHSTUFA5xcEVg4dQ0AceOkmMQhFQDr/////D0dAlZDtfD81SUCBD1g5tHhLQFJf5dAi201ArrGd76cuUEA=\",\"dtype\":\"float64\",\"shape\":[100]}},\"selected\":{\"id\":\"a5c234e7-a433-4bd8-9c4e-cb88c5160a6a\",\"type\":\"Selection\"},\"selection_policy\":{\"id\":\"ae85007b-7e90-4c34-ab46-d6213fe08d50\",\"type\":\"UnionRenderers\"}},\"id\":\"588874a5-0ffe-4257-b296-8ad28fb9c811\",\"type\":\"ColumnDataSource\"},{\"attributes\":{},\"id\":\"5b9a16b5-4943-45f8-8f7f-2ad69aafca04\",\"type\":\"HelpTool\"},{\"attributes\":{\"bottom_units\":\"screen\",\"fill_alpha\":{\"value\":0.5},\"fill_color\":{\"value\":\"lightgrey\"},\"left_units\":\"screen\",\"level\":\"overlay\",\"line_alpha\":{\"value\":1.0},\"line_color\":{\"value\":\"black\"},\"line_dash\":[4,4],\"line_width\":{\"value\":2},\"plot\":null,\"render_mode\":\"css\",\"right_units\":\"screen\",\"top_units\":\"screen\"},\"id\":\"1e0bd6dc-bd6c-4160-9366-0a6968a48223\",\"type\":\"BoxAnnotation\"},{\"attributes\":{},\"id\":\"fd8e966b-19d1-4754-bf82-0c85190104fe\",\"type\":\"LinearScale\"},{\"attributes\":{\"source\":{\"id\":\"588874a5-0ffe-4257-b296-8ad28fb9c811\",\"type\":\"ColumnDataSource\"}},\"id\":\"ccfb966b-4727-4dc7-bc34-7f551a446d91\",\"type\":\"CDSView\"},{\"attributes\":{},\"id\":\"317839dc-b1c2-4873-97ec-297926af4f38\",\"type\":\"BasicTickFormatter\"},{\"attributes\":{\"label\":{\"value\":\"f(x)=z**3 - 2*z**2 - z\"},\"renderers\":[{\"id\":\"7b0e9129-276c-4afd-ad30-77673ad979ec\",\"type\":\"GlyphRenderer\"}]},\"id\":\"0989b7f0-add4-48e3-a27b-c57b1fcf1483\",\"type\":\"LegendItem\"},{\"attributes\":{\"data_source\":{\"id\":\"e12ee3e6-40f8-4e2f-821c-3b2e32dc92dd\",\"type\":\"ColumnDataSource\"},\"glyph\":{\"id\":\"5402826e-c929-4b2c-957c-92c6948a5a1a\",\"type\":\"Line\"},\"hover_glyph\":null,\"muted_glyph\":null,\"nonselection_glyph\":{\"id\":\"ca07eb00-a5fa-4945-80d0-edcd2a3dfa47\",\"type\":\"Line\"},\"selection_glyph\":null,\"view\":{\"id\":\"c4b680d1-79cc-4dd2-9e09-0f06861a4679\",\"type\":\"CDSView\"}},\"id\":\"3564eb28-b4ee-4fe0-b3c6-f022d92ea572\",\"type\":\"GlyphRenderer\"},{\"attributes\":{\"line_alpha\":0.1,\"line_color\":\"#1f77b4\",\"line_dash\":[6,4,2,4],\"line_width\":3,\"x\":{\"field\":\"x\"},\"y\":{\"field\":\"y\"}},\"id\":\"ca07eb00-a5fa-4945-80d0-edcd2a3dfa47\",\"type\":\"Line\"},{\"attributes\":{\"line_alpha\":0.5,\"line_color\":\"red\",\"line_dash\":[6,4,2,4],\"line_width\":3,\"x\":{\"field\":\"x\"},\"y\":{\"field\":\"y\"}},\"id\":\"5402826e-c929-4b2c-957c-92c6948a5a1a\",\"type\":\"Line\"},{\"attributes\":{\"source\":{\"id\":\"e12ee3e6-40f8-4e2f-821c-3b2e32dc92dd\",\"type\":\"ColumnDataSource\"}},\"id\":\"c4b680d1-79cc-4dd2-9e09-0f06861a4679\",\"type\":\"CDSView\"},{\"attributes\":{},\"id\":\"ae85007b-7e90-4c34-ab46-d6213fe08d50\",\"type\":\"UnionRenderers\"},{\"attributes\":{\"line_alpha\":0.5,\"line_color\":\"#1f77b4\",\"line_width\":3,\"x\":{\"field\":\"x\"},\"y\":{\"field\":\"y\"}},\"id\":\"4af0a0ec-9665-434a-8734-8db84748da01\",\"type\":\"Line\"},{\"attributes\":{},\"id\":\"a5c234e7-a433-4bd8-9c4e-cb88c5160a6a\",\"type\":\"Selection\"},{\"attributes\":{\"line_color\":{\"value\":\"grey\"},\"line_width\":{\"value\":2},\"location\":0,\"plot\":null},\"id\":\"9bdab7f1-61b5-4c15-80ec-d73ff1afddcf\",\"type\":\"Span\"},{\"attributes\":{\"label\":{\"value\":\"f'(x)=3*z**2 - 4*z - 1\"},\"renderers\":[{\"id\":\"3564eb28-b4ee-4fe0-b3c6-f022d92ea572\",\"type\":\"GlyphRenderer\"}]},\"id\":\"065b5d2f-7d84-499c-8c8c-b6be2c5818b4\",\"type\":\"LegendItem\"},{\"attributes\":{\"plot\":null,\"text\":\"\"},\"id\":\"4f6b2834-5dce-44d8-a0db-0deb967ca610\",\"type\":\"Title\"},{\"attributes\":{\"below\":[{\"id\":\"adf6338b-cbfc-4109-a4c9-66590bf5ce67\",\"type\":\"LinearAxis\"}],\"left\":[{\"id\":\"e4d6b226-fa6d-45b9-8d4a-823aded263ce\",\"type\":\"LinearAxis\"}],\"plot_height\":500,\"plot_width\":700,\"renderers\":[{\"id\":\"adf6338b-cbfc-4109-a4c9-66590bf5ce67\",\"type\":\"LinearAxis\"},{\"id\":\"318d41d1-6c30-42e8-8c53-3d47731cee2d\",\"type\":\"Grid\"},{\"id\":\"e4d6b226-fa6d-45b9-8d4a-823aded263ce\",\"type\":\"LinearAxis\"},{\"id\":\"d7f5cf07-688f-40ac-9c35-d9df3b7d4819\",\"type\":\"Grid\"},{\"id\":\"1e0bd6dc-bd6c-4160-9366-0a6968a48223\",\"type\":\"BoxAnnotation\"},{\"id\":\"275ef613-8784-4e62-8121-2665ea7d0e4a\",\"type\":\"Legend\"},{\"id\":\"7b0e9129-276c-4afd-ad30-77673ad979ec\",\"type\":\"GlyphRenderer\"},{\"id\":\"3564eb28-b4ee-4fe0-b3c6-f022d92ea572\",\"type\":\"GlyphRenderer\"},{\"id\":\"9bdab7f1-61b5-4c15-80ec-d73ff1afddcf\",\"type\":\"Span\"}],\"title\":{\"id\":\"4f6b2834-5dce-44d8-a0db-0deb967ca610\",\"type\":\"Title\"},\"toolbar\":{\"id\":\"8e20a4e6-9c01-4d70-9397-81996d5bfcf4\",\"type\":\"Toolbar\"},\"toolbar_location\":\"below\",\"x_range\":{\"id\":\"f4670152-5709-42aa-a998-0e3f6dab722d\",\"type\":\"DataRange1d\"},\"x_scale\":{\"id\":\"bdaaf71d-8b1e-4af1-bf02-10e69de154e1\",\"type\":\"LinearScale\"},\"y_range\":{\"id\":\"6a8176fe-8449-4f80-959a-8981a5ea78ca\",\"type\":\"DataRange1d\"},\"y_scale\":{\"id\":\"fd8e966b-19d1-4754-bf82-0c85190104fe\",\"type\":\"LinearScale\"}},\"id\":\"43d4c201-fe38-4e7b-b8f3-0aa032f96992\",\"subtype\":\"Figure\",\"type\":\"Plot\"},{\"attributes\":{},\"id\":\"9fcbfb6d-6e66-43bd-b075-2fb13dad8ff2\",\"type\":\"UnionRenderers\"},{\"attributes\":{\"callback\":null},\"id\":\"6a8176fe-8449-4f80-959a-8981a5ea78ca\",\"type\":\"DataRange1d\"},{\"attributes\":{\"active_drag\":\"auto\",\"active_inspect\":\"auto\",\"active_multi\":null,\"active_scroll\":\"auto\",\"active_tap\":\"auto\",\"tools\":[{\"id\":\"af5d4706-2135-45cb-a32e-bc3a61d7b603\",\"type\":\"PanTool\"},{\"id\":\"9a8a9a05-b652-474a-a75a-56c54a1c2ef6\",\"type\":\"WheelZoomTool\"},{\"id\":\"d3898ae7-28ac-483d-9b15-3eb4dc9c0300\",\"type\":\"BoxZoomTool\"},{\"id\":\"646b7719-76c7-43b9-8896-da8e680ed645\",\"type\":\"SaveTool\"},{\"id\":\"b12d8a67-8c4a-4ee9-9634-b7c1db4084d6\",\"type\":\"ResetTool\"},{\"id\":\"5b9a16b5-4943-45f8-8f7f-2ad69aafca04\",\"type\":\"HelpTool\"}]},\"id\":\"8e20a4e6-9c01-4d70-9397-81996d5bfcf4\",\"type\":\"Toolbar\"},{\"attributes\":{\"plot\":{\"id\":\"43d4c201-fe38-4e7b-b8f3-0aa032f96992\",\"subtype\":\"Figure\",\"type\":\"Plot\"},\"ticker\":{\"id\":\"4ad65a44-66d9-41a2-b36a-1489fa74b9d8\",\"type\":\"BasicTicker\"}},\"id\":\"318d41d1-6c30-42e8-8c53-3d47731cee2d\",\"type\":\"Grid\"},{\"attributes\":{\"callback\":null},\"id\":\"f4670152-5709-42aa-a998-0e3f6dab722d\",\"type\":\"DataRange1d\"},{\"attributes\":{\"axis_label\":\"X\",\"formatter\":{\"id\":\"d236688d-b1b4-4072-ae7c-81596998a32e\",\"type\":\"BasicTickFormatter\"},\"plot\":{\"id\":\"43d4c201-fe38-4e7b-b8f3-0aa032f96992\",\"subtype\":\"Figure\",\"type\":\"Plot\"},\"ticker\":{\"id\":\"4ad65a44-66d9-41a2-b36a-1489fa74b9d8\",\"type\":\"BasicTicker\"}},\"id\":\"adf6338b-cbfc-4109-a4c9-66590bf5ce67\",\"type\":\"LinearAxis\"},{\"attributes\":{},\"id\":\"4ad65a44-66d9-41a2-b36a-1489fa74b9d8\",\"type\":\"BasicTicker\"},{\"attributes\":{},\"id\":\"bdaaf71d-8b1e-4af1-bf02-10e69de154e1\",\"type\":\"LinearScale\"}],\"root_ids\":[\"43d4c201-fe38-4e7b-b8f3-0aa032f96992\"]},\"title\":\"Bokeh Application\",\"version\":\"0.13.0\"}};\n",
       "  var render_items = [{\"docid\":\"70fab8ec-1e1f-4ca8-9d3a-727815953f29\",\"roots\":{\"43d4c201-fe38-4e7b-b8f3-0aa032f96992\":\"5751f577-c6a4-4f79-820c-743dbafbf771\"}}];\n",
       "  root.Bokeh.embed.embed_items_notebook(docs_json, render_items);\n",
       "\n",
       "  }\n",
       "  if (root.Bokeh !== undefined) {\n",
       "    embed_document(root);\n",
       "  } else {\n",
       "    var attempts = 0;\n",
       "    var timer = setInterval(function(root) {\n",
       "      if (root.Bokeh !== undefined) {\n",
       "        embed_document(root);\n",
       "        clearInterval(timer);\n",
       "      }\n",
       "      attempts++;\n",
       "      if (attempts > 100) {\n",
       "        console.log(\"Bokeh: ERROR: Unable to run BokehJS code because BokehJS library is missing\")\n",
       "        clearInterval(timer);\n",
       "      }\n",
       "    }, 10, root)\n",
       "  }\n",
       "})(window);"
      ],
      "application/vnd.bokehjs_exec.v0+json": ""
     },
     "metadata": {
      "application/vnd.bokehjs_exec.v0+json": {
       "id": "43d4c201-fe38-4e7b-b8f3-0aa032f96992"
      }
     },
     "output_type": "display_data"
    }
   ],
   "source": [
    "a = np.arange(-5,5,.1) \n",
    "p = plot()\n",
    "hline = Span(location=0, dimension='width', line_color='grey', line_width=2)\n",
    "p.line(a,f(a),legend=f'f(x)={str(expr)}',alpha=.5,line_width=3)\n",
    "p.line(a,df(a),color=\"red\",\n",
    "       legend=f\"f'(x)={str(expr.diff())}\",alpha=.5,line_width=3,\n",
    "       line_dash = 'dashdot')\n",
    "p.renderers.extend([hline])\n",
    "show(p)"
   ]
  },
  {
   "cell_type": "markdown",
   "metadata": {},
   "source": [
    "### Expansions"
   ]
  },
  {
   "cell_type": "code",
   "execution_count": 24,
   "metadata": {},
   "outputs": [
    {
     "data": {
      "image/png": "[encoded data removed]",
      "text/latex": [
       "$$\\left(z^{2} + 9 z\\right) \\left(z^{3} + z\\right)$$"
      ],
      "text/plain": [
       "⎛ 2      ⎞ ⎛ 3    ⎞\n",
       "⎝z  + 9⋅z⎠⋅⎝z  + z⎠"
      ]
     },
     "execution_count": 24,
     "metadata": {},
     "output_type": "execute_result"
    }
   ],
   "source": [
    "expr3 = (z**3+z)*(z*9+z**2)\n",
    "expr3"
   ]
  },
  {
   "cell_type": "code",
   "execution_count": 25,
   "metadata": {},
   "outputs": [
    {
     "data": {
      "image/png": "[encoded data removed]",
      "text/latex": [
       "$$z^{5} + 9 z^{4} + z^{3} + 9 z^{2}$$"
      ],
      "text/plain": [
       " 5      4    3      2\n",
       "z  + 9⋅z  + z  + 9⋅z "
      ]
     },
     "execution_count": 25,
     "metadata": {},
     "output_type": "execute_result"
    }
   ],
   "source": [
    "expr3.expand()"
   ]
  },
  {
   "cell_type": "markdown",
   "metadata": {},
   "source": [
    "### Simplifications"
   ]
  },
  {
   "cell_type": "code",
   "execution_count": 26,
   "metadata": {},
   "outputs": [
    {
     "data": {
      "image/png": "[encoded data removed]",
      "text/latex": [
       "$$z^{2} \\left(z + 9\\right) \\left(z^{2} + 1\\right)$$"
      ],
      "text/plain": [
       " 2         ⎛ 2    ⎞\n",
       "z ⋅(z + 9)⋅⎝z  + 1⎠"
      ]
     },
     "execution_count": 26,
     "metadata": {},
     "output_type": "execute_result"
    }
   ],
   "source": [
    "simplify(expr3)"
   ]
  },
  {
   "cell_type": "markdown",
   "metadata": {},
   "source": [
    "### Printing \n",
    "\n",
    "Express output equations in terms of python or latex."
   ]
  },
  {
   "cell_type": "code",
   "execution_count": 27,
   "metadata": {},
   "outputs": [
    {
     "name": "stdout",
     "output_type": "stream",
     "text": [
      "(z**2 + 9*z)*(z**3 + z)\n"
     ]
    }
   ],
   "source": [
    "print(expr3)"
   ]
  },
  {
   "cell_type": "code",
   "execution_count": 28,
   "metadata": {},
   "outputs": [
    {
     "data": {
      "text/plain": [
       "'\\\\left(z^{2} + 9 z\\\\right) \\\\left(z^{3} + z\\\\right)'"
      ]
     },
     "execution_count": 28,
     "metadata": {},
     "output_type": "execute_result"
    }
   ],
   "source": [
    "latex(expr3)"
   ]
  }
 ],
 "metadata": {
  "kernelspec": {
   "display_name": "Python 3",
   "language": "python",
   "name": "python3"
  },
  "language_info": {
   "codemirror_mode": {
    "name": "ipython",
    "version": 3
   },
   "file_extension": ".py",
   "mimetype": "text/x-python",
   "name": "python",
   "nbconvert_exporter": "python",
   "pygments_lexer": "ipython3",
   "version": "3.7.0"
  },
  "toc": {
   "base_numbering": 1,
   "nav_menu": {},
   "number_sections": false,
   "sideBar": false,
   "skip_h1_title": false,
   "title_cell": "Table of Contents",
   "title_sidebar": "Contents",
   "toc_cell": false,
   "toc_position": {},
   "toc_section_display": true,
   "toc_window_display": false
  }
 },
 "nbformat": 4,
 "nbformat_minor": 2
}
