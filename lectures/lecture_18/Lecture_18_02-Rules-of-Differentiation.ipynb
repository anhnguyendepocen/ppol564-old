{
 "cells": [
  {
   "cell_type": "markdown",
   "metadata": {},
   "source": [
    "<h1><center> PPOL564 | Data Science 1: Foundations </center><h1>\n",
    "<h3><center> Lecture 18 <br><br><font color='grey'> \n",
    "    Rules of Differentiation </font></center></h3>"
   ]
  },
  {
   "cell_type": "markdown",
   "metadata": {},
   "source": [
    "## Concepts Covered:\n",
    "\n",
    "- Delve into some of the most useful rules of derivatives. We'll cover how they are derived and the intuition underpinning them.\n",
    "- Introduction to the symbolic math library `sympy`"
   ]
  },
  {
   "cell_type": "code",
   "execution_count": 1,
   "metadata": {},
   "outputs": [
    {
     "data": {
      "text/html": [
       "\n",
       "    <div class=\"bk-root\">\n",
       "        <a href=\"https://bokeh.pydata.org\" target=\"_blank\" class=\"bk-logo bk-logo-small bk-logo-notebook\"></a>\n",
       "        <span id=\"e99f3d8d-785a-493a-84e1-2544ef76df68\">Loading BokehJS ...</span>\n",
       "    </div>"
      ]
     },
     "metadata": {},
     "output_type": "display_data"
    },
    {
     "data": {
      "application/javascript": [
       "\n",
       "(function(root) {\n",
       "  function now() {\n",
       "    return new Date();\n",
       "  }\n",
       "\n",
       "  var force = true;\n",
       "\n",
       "  if (typeof (root._bokeh_onload_callbacks) === \"undefined\" || force === true) {\n",
       "    root._bokeh_onload_callbacks = [];\n",
       "    root._bokeh_is_loading = undefined;\n",
       "  }\n",
       "\n",
       "  var JS_MIME_TYPE = 'application/javascript';\n",
       "  var HTML_MIME_TYPE = 'text/html';\n",
       "  var EXEC_MIME_TYPE = 'application/vnd.bokehjs_exec.v0+json';\n",
       "  var CLASS_NAME = 'output_bokeh rendered_html';\n",
       "\n",
       "  /**\n",
       "   * Render data to the DOM node\n",
       "   */\n",
       "  function render(props, node) {\n",
       "    var script = document.createElement(\"script\");\n",
       "    node.appendChild(script);\n",
       "  }\n",
       "\n",
       "  /**\n",
       "   * Handle when an output is cleared or removed\n",
       "   */\n",
       "  function handleClearOutput(event, handle) {\n",
       "    var cell = handle.cell;\n",
       "\n",
       "    var id = cell.output_area._bokeh_element_id;\n",
       "    var server_id = cell.output_area._bokeh_server_id;\n",
       "    // Clean up Bokeh references\n",
       "    if (id != null && id in Bokeh.index) {\n",
       "      Bokeh.index[id].model.document.clear();\n",
       "      delete Bokeh.index[id];\n",
       "    }\n",
       "\n",
       "    if (server_id !== undefined) {\n",
       "      // Clean up Bokeh references\n",
       "      var cmd = \"from bokeh.io.state import curstate; print(curstate().uuid_to_server['\" + server_id + \"'].get_sessions()[0].document.roots[0]._id)\";\n",
       "      cell.notebook.kernel.execute(cmd, {\n",
       "        iopub: {\n",
       "          output: function(msg) {\n",
       "            var id = msg.content.text.trim();\n",
       "            if (id in Bokeh.index) {\n",
       "              Bokeh.index[id].model.document.clear();\n",
       "              delete Bokeh.index[id];\n",
       "            }\n",
       "          }\n",
       "        }\n",
       "      });\n",
       "      // Destroy server and session\n",
       "      var cmd = \"import bokeh.io.notebook as ion; ion.destroy_server('\" + server_id + \"')\";\n",
       "      cell.notebook.kernel.execute(cmd);\n",
       "    }\n",
       "  }\n",
       "\n",
       "  /**\n",
       "   * Handle when a new output is added\n",
       "   */\n",
       "  function handleAddOutput(event, handle) {\n",
       "    var output_area = handle.output_area;\n",
       "    var output = handle.output;\n",
       "\n",
       "    // limit handleAddOutput to display_data with EXEC_MIME_TYPE content only\n",
       "    if ((output.output_type != \"display_data\") || (!output.data.hasOwnProperty(EXEC_MIME_TYPE))) {\n",
       "      return\n",
       "    }\n",
       "\n",
       "    var toinsert = output_area.element.find(\".\" + CLASS_NAME.split(' ')[0]);\n",
       "\n",
       "    if (output.metadata[EXEC_MIME_TYPE][\"id\"] !== undefined) {\n",
       "      toinsert[toinsert.length - 1].firstChild.textContent = output.data[JS_MIME_TYPE];\n",
       "      // store reference to embed id on output_area\n",
       "      output_area._bokeh_element_id = output.metadata[EXEC_MIME_TYPE][\"id\"];\n",
       "    }\n",
       "    if (output.metadata[EXEC_MIME_TYPE][\"server_id\"] !== undefined) {\n",
       "      var bk_div = document.createElement(\"div\");\n",
       "      bk_div.innerHTML = output.data[HTML_MIME_TYPE];\n",
       "      var script_attrs = bk_div.children[0].attributes;\n",
       "      for (var i = 0; i < script_attrs.length; i++) {\n",
       "        toinsert[toinsert.length - 1].firstChild.setAttribute(script_attrs[i].name, script_attrs[i].value);\n",
       "      }\n",
       "      // store reference to server id on output_area\n",
       "      output_area._bokeh_server_id = output.metadata[EXEC_MIME_TYPE][\"server_id\"];\n",
       "    }\n",
       "  }\n",
       "\n",
       "  function register_renderer(events, OutputArea) {\n",
       "\n",
       "    function append_mime(data, metadata, element) {\n",
       "      // create a DOM node to render to\n",
       "      var toinsert = this.create_output_subarea(\n",
       "        metadata,\n",
       "        CLASS_NAME,\n",
       "        EXEC_MIME_TYPE\n",
       "      );\n",
       "      this.keyboard_manager.register_events(toinsert);\n",
       "      // Render to node\n",
       "      var props = {data: data, metadata: metadata[EXEC_MIME_TYPE]};\n",
       "      render(props, toinsert[toinsert.length - 1]);\n",
       "      element.append(toinsert);\n",
       "      return toinsert\n",
       "    }\n",
       "\n",
       "    /* Handle when an output is cleared or removed */\n",
       "    events.on('clear_output.CodeCell', handleClearOutput);\n",
       "    events.on('delete.Cell', handleClearOutput);\n",
       "\n",
       "    /* Handle when a new output is added */\n",
       "    events.on('output_added.OutputArea', handleAddOutput);\n",
       "\n",
       "    /**\n",
       "     * Register the mime type and append_mime function with output_area\n",
       "     */\n",
       "    OutputArea.prototype.register_mime_type(EXEC_MIME_TYPE, append_mime, {\n",
       "      /* Is output safe? */\n",
       "      safe: true,\n",
       "      /* Index of renderer in `output_area.display_order` */\n",
       "      index: 0\n",
       "    });\n",
       "  }\n",
       "\n",
       "  // register the mime type if in Jupyter Notebook environment and previously unregistered\n",
       "  if (root.Jupyter !== undefined) {\n",
       "    var events = require('base/js/events');\n",
       "    var OutputArea = require('notebook/js/outputarea').OutputArea;\n",
       "\n",
       "    if (OutputArea.prototype.mime_types().indexOf(EXEC_MIME_TYPE) == -1) {\n",
       "      register_renderer(events, OutputArea);\n",
       "    }\n",
       "  }\n",
       "\n",
       "  \n",
       "  if (typeof (root._bokeh_timeout) === \"undefined\" || force === true) {\n",
       "    root._bokeh_timeout = Date.now() + 5000;\n",
       "    root._bokeh_failed_load = false;\n",
       "  }\n",
       "\n",
       "  var NB_LOAD_WARNING = {'data': {'text/html':\n",
       "     \"<div style='background-color: #fdd'>\\n\"+\n",
       "     \"<p>\\n\"+\n",
       "     \"BokehJS does not appear to have successfully loaded. If loading BokehJS from CDN, this \\n\"+\n",
       "     \"may be due to a slow or bad network connection. Possible fixes:\\n\"+\n",
       "     \"</p>\\n\"+\n",
       "     \"<ul>\\n\"+\n",
       "     \"<li>re-rerun `output_notebook()` to attempt to load from CDN again, or</li>\\n\"+\n",
       "     \"<li>use INLINE resources instead, as so:</li>\\n\"+\n",
       "     \"</ul>\\n\"+\n",
       "     \"<code>\\n\"+\n",
       "     \"from bokeh.resources import INLINE\\n\"+\n",
       "     \"output_notebook(resources=INLINE)\\n\"+\n",
       "     \"</code>\\n\"+\n",
       "     \"</div>\"}};\n",
       "\n",
       "  function display_loaded() {\n",
       "    var el = document.getElementById(\"e99f3d8d-785a-493a-84e1-2544ef76df68\");\n",
       "    if (el != null) {\n",
       "      el.textContent = \"BokehJS is loading...\";\n",
       "    }\n",
       "    if (root.Bokeh !== undefined) {\n",
       "      if (el != null) {\n",
       "        el.textContent = \"BokehJS \" + root.Bokeh.version + \" successfully loaded.\";\n",
       "      }\n",
       "    } else if (Date.now() < root._bokeh_timeout) {\n",
       "      setTimeout(display_loaded, 100)\n",
       "    }\n",
       "  }\n",
       "\n",
       "\n",
       "  function run_callbacks() {\n",
       "    try {\n",
       "      root._bokeh_onload_callbacks.forEach(function(callback) { callback() });\n",
       "    }\n",
       "    finally {\n",
       "      delete root._bokeh_onload_callbacks\n",
       "    }\n",
       "    console.info(\"Bokeh: all callbacks have finished\");\n",
       "  }\n",
       "\n",
       "  function load_libs(js_urls, callback) {\n",
       "    root._bokeh_onload_callbacks.push(callback);\n",
       "    if (root._bokeh_is_loading > 0) {\n",
       "      console.log(\"Bokeh: BokehJS is being loaded, scheduling callback at\", now());\n",
       "      return null;\n",
       "    }\n",
       "    if (js_urls == null || js_urls.length === 0) {\n",
       "      run_callbacks();\n",
       "      return null;\n",
       "    }\n",
       "    console.log(\"Bokeh: BokehJS not loaded, scheduling load and callback at\", now());\n",
       "    root._bokeh_is_loading = js_urls.length;\n",
       "    for (var i = 0; i < js_urls.length; i++) {\n",
       "      var url = js_urls[i];\n",
       "      var s = document.createElement('script');\n",
       "      s.src = url;\n",
       "      s.async = false;\n",
       "      s.onreadystatechange = s.onload = function() {\n",
       "        root._bokeh_is_loading--;\n",
       "        if (root._bokeh_is_loading === 0) {\n",
       "          console.log(\"Bokeh: all BokehJS libraries loaded\");\n",
       "          run_callbacks()\n",
       "        }\n",
       "      };\n",
       "      s.onerror = function() {\n",
       "        console.warn(\"failed to load library \" + url);\n",
       "      };\n",
       "      console.log(\"Bokeh: injecting script tag for BokehJS library: \", url);\n",
       "      document.getElementsByTagName(\"head\")[0].appendChild(s);\n",
       "    }\n",
       "  };var element = document.getElementById(\"e99f3d8d-785a-493a-84e1-2544ef76df68\");\n",
       "  if (element == null) {\n",
       "    console.log(\"Bokeh: ERROR: autoload.js configured with elementid 'e99f3d8d-785a-493a-84e1-2544ef76df68' but no matching script tag was found. \")\n",
       "    return false;\n",
       "  }\n",
       "\n",
       "  var js_urls = [\"https://cdn.pydata.org/bokeh/release/bokeh-0.13.0.min.js\", \"https://cdn.pydata.org/bokeh/release/bokeh-widgets-0.13.0.min.js\", \"https://cdn.pydata.org/bokeh/release/bokeh-tables-0.13.0.min.js\", \"https://cdn.pydata.org/bokeh/release/bokeh-gl-0.13.0.min.js\"];\n",
       "\n",
       "  var inline_js = [\n",
       "    function(Bokeh) {\n",
       "      Bokeh.set_log_level(\"info\");\n",
       "    },\n",
       "    \n",
       "    function(Bokeh) {\n",
       "      \n",
       "    },\n",
       "    function(Bokeh) {\n",
       "      console.log(\"Bokeh: injecting CSS: https://cdn.pydata.org/bokeh/release/bokeh-0.13.0.min.css\");\n",
       "      Bokeh.embed.inject_css(\"https://cdn.pydata.org/bokeh/release/bokeh-0.13.0.min.css\");\n",
       "      console.log(\"Bokeh: injecting CSS: https://cdn.pydata.org/bokeh/release/bokeh-widgets-0.13.0.min.css\");\n",
       "      Bokeh.embed.inject_css(\"https://cdn.pydata.org/bokeh/release/bokeh-widgets-0.13.0.min.css\");\n",
       "      console.log(\"Bokeh: injecting CSS: https://cdn.pydata.org/bokeh/release/bokeh-tables-0.13.0.min.css\");\n",
       "      Bokeh.embed.inject_css(\"https://cdn.pydata.org/bokeh/release/bokeh-tables-0.13.0.min.css\");\n",
       "    }\n",
       "  ];\n",
       "\n",
       "  function run_inline_js() {\n",
       "    \n",
       "    if ((root.Bokeh !== undefined) || (force === true)) {\n",
       "      for (var i = 0; i < inline_js.length; i++) {\n",
       "        inline_js[i].call(root, root.Bokeh);\n",
       "      }if (force === true) {\n",
       "        display_loaded();\n",
       "      }} else if (Date.now() < root._bokeh_timeout) {\n",
       "      setTimeout(run_inline_js, 100);\n",
       "    } else if (!root._bokeh_failed_load) {\n",
       "      console.log(\"Bokeh: BokehJS failed to load within specified timeout.\");\n",
       "      root._bokeh_failed_load = true;\n",
       "    } else if (force !== true) {\n",
       "      var cell = $(document.getElementById(\"e99f3d8d-785a-493a-84e1-2544ef76df68\")).parents('.cell').data().cell;\n",
       "      cell.output_area.append_execute_result(NB_LOAD_WARNING)\n",
       "    }\n",
       "\n",
       "  }\n",
       "\n",
       "  if (root._bokeh_is_loading === 0) {\n",
       "    console.log(\"Bokeh: BokehJS loaded, going straight to plotting\");\n",
       "    run_inline_js();\n",
       "  } else {\n",
       "    load_libs(js_urls, function() {\n",
       "      console.log(\"Bokeh: BokehJS plotting callback run at\", now());\n",
       "      run_inline_js();\n",
       "    });\n",
       "  }\n",
       "}(window));"
      ],
      "application/vnd.bokehjs_load.v0+json": "\n(function(root) {\n  function now() {\n    return new Date();\n  }\n\n  var force = true;\n\n  if (typeof (root._bokeh_onload_callbacks) === \"undefined\" || force === true) {\n    root._bokeh_onload_callbacks = [];\n    root._bokeh_is_loading = undefined;\n  }\n\n  \n\n  \n  if (typeof (root._bokeh_timeout) === \"undefined\" || force === true) {\n    root._bokeh_timeout = Date.now() + 5000;\n    root._bokeh_failed_load = false;\n  }\n\n  var NB_LOAD_WARNING = {'data': {'text/html':\n     \"<div style='background-color: #fdd'>\\n\"+\n     \"<p>\\n\"+\n     \"BokehJS does not appear to have successfully loaded. If loading BokehJS from CDN, this \\n\"+\n     \"may be due to a slow or bad network connection. Possible fixes:\\n\"+\n     \"</p>\\n\"+\n     \"<ul>\\n\"+\n     \"<li>re-rerun `output_notebook()` to attempt to load from CDN again, or</li>\\n\"+\n     \"<li>use INLINE resources instead, as so:</li>\\n\"+\n     \"</ul>\\n\"+\n     \"<code>\\n\"+\n     \"from bokeh.resources import INLINE\\n\"+\n     \"output_notebook(resources=INLINE)\\n\"+\n     \"</code>\\n\"+\n     \"</div>\"}};\n\n  function display_loaded() {\n    var el = document.getElementById(\"e99f3d8d-785a-493a-84e1-2544ef76df68\");\n    if (el != null) {\n      el.textContent = \"BokehJS is loading...\";\n    }\n    if (root.Bokeh !== undefined) {\n      if (el != null) {\n        el.textContent = \"BokehJS \" + root.Bokeh.version + \" successfully loaded.\";\n      }\n    } else if (Date.now() < root._bokeh_timeout) {\n      setTimeout(display_loaded, 100)\n    }\n  }\n\n\n  function run_callbacks() {\n    try {\n      root._bokeh_onload_callbacks.forEach(function(callback) { callback() });\n    }\n    finally {\n      delete root._bokeh_onload_callbacks\n    }\n    console.info(\"Bokeh: all callbacks have finished\");\n  }\n\n  function load_libs(js_urls, callback) {\n    root._bokeh_onload_callbacks.push(callback);\n    if (root._bokeh_is_loading > 0) {\n      console.log(\"Bokeh: BokehJS is being loaded, scheduling callback at\", now());\n      return null;\n    }\n    if (js_urls == null || js_urls.length === 0) {\n      run_callbacks();\n      return null;\n    }\n    console.log(\"Bokeh: BokehJS not loaded, scheduling load and callback at\", now());\n    root._bokeh_is_loading = js_urls.length;\n    for (var i = 0; i < js_urls.length; i++) {\n      var url = js_urls[i];\n      var s = document.createElement('script');\n      s.src = url;\n      s.async = false;\n      s.onreadystatechange = s.onload = function() {\n        root._bokeh_is_loading--;\n        if (root._bokeh_is_loading === 0) {\n          console.log(\"Bokeh: all BokehJS libraries loaded\");\n          run_callbacks()\n        }\n      };\n      s.onerror = function() {\n        console.warn(\"failed to load library \" + url);\n      };\n      console.log(\"Bokeh: injecting script tag for BokehJS library: \", url);\n      document.getElementsByTagName(\"head\")[0].appendChild(s);\n    }\n  };var element = document.getElementById(\"e99f3d8d-785a-493a-84e1-2544ef76df68\");\n  if (element == null) {\n    console.log(\"Bokeh: ERROR: autoload.js configured with elementid 'e99f3d8d-785a-493a-84e1-2544ef76df68' but no matching script tag was found. \")\n    return false;\n  }\n\n  var js_urls = [\"https://cdn.pydata.org/bokeh/release/bokeh-0.13.0.min.js\", \"https://cdn.pydata.org/bokeh/release/bokeh-widgets-0.13.0.min.js\", \"https://cdn.pydata.org/bokeh/release/bokeh-tables-0.13.0.min.js\", \"https://cdn.pydata.org/bokeh/release/bokeh-gl-0.13.0.min.js\"];\n\n  var inline_js = [\n    function(Bokeh) {\n      Bokeh.set_log_level(\"info\");\n    },\n    \n    function(Bokeh) {\n      \n    },\n    function(Bokeh) {\n      console.log(\"Bokeh: injecting CSS: https://cdn.pydata.org/bokeh/release/bokeh-0.13.0.min.css\");\n      Bokeh.embed.inject_css(\"https://cdn.pydata.org/bokeh/release/bokeh-0.13.0.min.css\");\n      console.log(\"Bokeh: injecting CSS: https://cdn.pydata.org/bokeh/release/bokeh-widgets-0.13.0.min.css\");\n      Bokeh.embed.inject_css(\"https://cdn.pydata.org/bokeh/release/bokeh-widgets-0.13.0.min.css\");\n      console.log(\"Bokeh: injecting CSS: https://cdn.pydata.org/bokeh/release/bokeh-tables-0.13.0.min.css\");\n      Bokeh.embed.inject_css(\"https://cdn.pydata.org/bokeh/release/bokeh-tables-0.13.0.min.css\");\n    }\n  ];\n\n  function run_inline_js() {\n    \n    if ((root.Bokeh !== undefined) || (force === true)) {\n      for (var i = 0; i < inline_js.length; i++) {\n        inline_js[i].call(root, root.Bokeh);\n      }if (force === true) {\n        display_loaded();\n      }} else if (Date.now() < root._bokeh_timeout) {\n      setTimeout(run_inline_js, 100);\n    } else if (!root._bokeh_failed_load) {\n      console.log(\"Bokeh: BokehJS failed to load within specified timeout.\");\n      root._bokeh_failed_load = true;\n    } else if (force !== true) {\n      var cell = $(document.getElementById(\"e99f3d8d-785a-493a-84e1-2544ef76df68\")).parents('.cell').data().cell;\n      cell.output_area.append_execute_result(NB_LOAD_WARNING)\n    }\n\n  }\n\n  if (root._bokeh_is_loading === 0) {\n    console.log(\"Bokeh: BokehJS loaded, going straight to plotting\");\n    run_inline_js();\n  } else {\n    load_libs(js_urls, function() {\n      console.log(\"Bokeh: BokehJS plotting callback run at\", now());\n      run_inline_js();\n    });\n  }\n}(window));"
     },
     "metadata": {},
     "output_type": "display_data"
    }
   ],
   "source": [
    "import numpy as np\n",
    "from sympy import * # Import all functions form the module.\n",
    "\n",
    "# Bokeh for interactive plots\n",
    "from bokeh.plotting import figure, output_notebook, show\n",
    "from bokeh.layouts import row, column\n",
    "from bokeh.models import Span\n",
    "output_notebook()\n",
    "\n",
    "def plot(w=900,h=500,title='',x='X',y='f(X)'):\n",
    "    '''Wrapper function to ease starting a new plot.\n",
    "    '''\n",
    "    p = figure(plot_width=w,plot_height=h,title=title,toolbar_location=\"below\")\n",
    "    p.xaxis.axis_label = x\n",
    "    p.yaxis.axis_label = y\n",
    "    return p"
   ]
  },
  {
   "cell_type": "markdown",
   "metadata": {},
   "source": [
    "# Derivatives\n",
    "\n",
    "Calculating the instantaneous rate of change in a function. \n",
    "\n",
    "<br>\n",
    "<br>\n",
    "\n",
    "$$ \\frac{d f(x)}{d x} = \\lim_{h \\to 0} \\frac{f(x+h) - f(x)}{h}  $$\n",
    "\n",
    "<br>\n",
    "<br>"
   ]
  },
  {
   "cell_type": "markdown",
   "metadata": {},
   "source": [
    "In the other notebook accompanying today's lecture, we developed a simple function that could approximate the derivative for us by taking small changes. We saw that this performed pretty well at accomplishing the basic aims of calculating the derivative. "
   ]
  },
  {
   "cell_type": "code",
   "execution_count": 2,
   "metadata": {},
   "outputs": [],
   "source": [
    "def deriv(x,func,nudge=.001):\n",
    "    '''\n",
    "    More generic derivative function\n",
    "    '''\n",
    "    return (func(x + nudge) - func(x))/nudge"
   ]
  },
  {
   "cell_type": "markdown",
   "metadata": {},
   "source": [
    "Let's use this function to \"double check\" the differentiation rules outlined below. "
   ]
  },
  {
   "cell_type": "markdown",
   "metadata": {},
   "source": [
    "# Rules of Differentiation "
   ]
  },
  {
   "cell_type": "markdown",
   "metadata": {},
   "source": [
    "## Constant Rule"
   ]
  },
  {
   "cell_type": "markdown",
   "metadata": {},
   "source": [
    "### Rule\n",
    "\n",
    "<br>\n",
    "<br>\n",
    "\n",
    "$$f(x) = c$$\n",
    "\n",
    "<br>\n",
    "<br>\n",
    "\n",
    "$$\\frac{d f(x)}{d c} = 0$$\n",
    "\n",
    "<br>\n",
    "<br>\n",
    "\n",
    "where $c$ is some arbitrary constant."
   ]
  },
  {
   "cell_type": "markdown",
   "metadata": {},
   "source": [
    "### Intuition"
   ]
  },
  {
   "cell_type": "code",
   "execution_count": 3,
   "metadata": {
    "scrolled": true
   },
   "outputs": [
    {
     "data": {
      "text/html": [
       "\n",
       "\n",
       "\n",
       "\n",
       "\n",
       "\n",
       "  <div class=\"bk-root\" id=\"78b26cc8-7fea-4985-8661-1745f968bbc2\"></div>\n"
      ]
     },
     "metadata": {},
     "output_type": "display_data"
    },
    {
     "data": {
      "application/javascript": [
       "(function(root) {\n",
       "  function embed_document(root) {\n",
       "    \n",
       "  var docs_json = {\"9fd95d46-11d2-43ed-aad8-96b2d4b964be\":{\"roots\":{\"references\":[{\"attributes\":{\"bottom_units\":\"screen\",\"fill_alpha\":{\"value\":0.5},\"fill_color\":{\"value\":\"lightgrey\"},\"left_units\":\"screen\",\"level\":\"overlay\",\"line_alpha\":{\"value\":1.0},\"line_color\":{\"value\":\"black\"},\"line_dash\":[4,4],\"line_width\":{\"value\":2},\"plot\":null,\"render_mode\":\"css\",\"right_units\":\"screen\",\"top_units\":\"screen\"},\"id\":\"124d46c7-455c-4609-8d73-317432cd9770\",\"type\":\"BoxAnnotation\"},{\"attributes\":{\"overlay\":{\"id\":\"124d46c7-455c-4609-8d73-317432cd9770\",\"type\":\"BoxAnnotation\"}},\"id\":\"c8983db4-d879-4e78-ac82-7901c58cf1b5\",\"type\":\"BoxZoomTool\"},{\"attributes\":{},\"id\":\"06267481-0f97-4048-8ea6-96135785c800\",\"type\":\"SaveTool\"},{\"attributes\":{},\"id\":\"5ed6b71a-876b-4601-9fe9-c2650ea8edad\",\"type\":\"ResetTool\"},{\"attributes\":{},\"id\":\"56ea9e15-e4af-47dc-a7ae-b41ff32c1e7a\",\"type\":\"HelpTool\"},{\"attributes\":{\"callback\":null},\"id\":\"a8c80ddc-08fc-467f-b849-73ef12de18b5\",\"type\":\"DataRange1d\"},{\"attributes\":{\"line_alpha\":0.1,\"line_color\":\"#1f77b4\",\"line_dash\":[6,4,2,4],\"line_width\":3,\"x\":{\"field\":\"x\"},\"y\":{\"value\":0.0}},\"id\":\"bf328194-5286-455c-9beb-dd92d35faa0e\",\"type\":\"Line\"},{\"attributes\":{\"label\":{\"value\":\"f(x)=3\"},\"renderers\":[{\"id\":\"5ebfc30e-7345-4d2c-81fa-c40c35479e02\",\"type\":\"GlyphRenderer\"}]},\"id\":\"3f2d2917-a172-4a55-b1aa-693ea3f08b81\",\"type\":\"LegendItem\"},{\"attributes\":{\"line_alpha\":0.5,\"line_color\":\"red\",\"line_dash\":[6,4,2,4],\"line_width\":3,\"x\":{\"field\":\"x\"},\"y\":{\"value\":0.0}},\"id\":\"f2d15700-f742-446c-87c5-7ef8a23f1d43\",\"type\":\"Line\"},{\"attributes\":{},\"id\":\"f5989914-1c2c-4af2-85cf-9a72a301ddda\",\"type\":\"Selection\"},{\"attributes\":{\"data_source\":{\"id\":\"6e89a661-87aa-4953-a36e-fd99ef3b63bd\",\"type\":\"ColumnDataSource\"},\"glyph\":{\"id\":\"f2d15700-f742-446c-87c5-7ef8a23f1d43\",\"type\":\"Line\"},\"hover_glyph\":null,\"muted_glyph\":null,\"nonselection_glyph\":{\"id\":\"bf328194-5286-455c-9beb-dd92d35faa0e\",\"type\":\"Line\"},\"selection_glyph\":null,\"view\":{\"id\":\"6c3b9ed3-b0a5-4be1-8f68-e73ca934be77\",\"type\":\"CDSView\"}},\"id\":\"dacdfa99-a483-4a5a-8a65-219ff5304ef9\",\"type\":\"GlyphRenderer\"},{\"attributes\":{\"source\":{\"id\":\"6e89a661-87aa-4953-a36e-fd99ef3b63bd\",\"type\":\"ColumnDataSource\"}},\"id\":\"6c3b9ed3-b0a5-4be1-8f68-e73ca934be77\",\"type\":\"CDSView\"},{\"attributes\":{},\"id\":\"58428bb8-e670-4b62-a6de-cf6425157e31\",\"type\":\"UnionRenderers\"},{\"attributes\":{},\"id\":\"c5c78bb1-98d4-462f-86ce-5058b47616e6\",\"type\":\"UnionRenderers\"},{\"attributes\":{\"label\":{\"value\":\"f'(x)=0\"},\"renderers\":[{\"id\":\"dacdfa99-a483-4a5a-8a65-219ff5304ef9\",\"type\":\"GlyphRenderer\"}]},\"id\":\"08f18c18-8fe9-4bdf-9e2f-167cc276a56b\",\"type\":\"LegendItem\"},{\"attributes\":{\"source\":{\"id\":\"59412baf-82aa-4591-ba96-a679c5c67cf7\",\"type\":\"ColumnDataSource\"}},\"id\":\"eb453e73-eb26-409c-8668-be0de4867790\",\"type\":\"CDSView\"},{\"attributes\":{\"callback\":null,\"data\":{\"x\":{\"__ndarray__\":\"AAAAAAAAFMCamZmZmZkTwDQzMzMzMxPAzszMzMzMEsBoZmZmZmYSwAIAAAAAABLAnJmZmZmZEcA2MzMzMzMRwNDMzMzMzBDAamZmZmZmEMAEAAAAAAAQwDwzMzMzMw/AcGZmZmZmDsCkmZmZmZkNwNjMzMzMzAzADAAAAAAADMBAMzMzMzMLwHRmZmZmZgrAqJmZmZmZCcDczMzMzMwIwBAAAAAAAAjARDMzMzMzB8B4ZmZmZmYGwKyZmZmZmQXA4MzMzMzMBMAUAAAAAAAEwEgzMzMzMwPAfGZmZmZmAsCwmZmZmZkBwOTMzMzMzADAGAAAAAAAAMCYZmZmZmb+vwDNzMzMzPy/aDMzMzMz+7/QmZmZmZn5vzgAAAAAAPi/oGZmZmZm9r8IzczMzMz0v3AzMzMzM/O/2JmZmZmZ8b9AAAAAAADwv1DNzMzMzOy/IJqZmZmZ6b/wZmZmZmbmv8AzMzMzM+O/kAAAAAAA4L/AmpmZmZnZv2A0MzMzM9O/AJyZmZmZyb+AnpmZmZm5vwAAAAAAABS9gJSZmZmZuT8Al5mZmZnJP+AxMzMzM9M/QJiZmZmZ2T+g/v/////fP4AyMzMzM+M/sGVmZmZm5j/gmJmZmZnpPxDMzMzMzOw/QP//////7z84mZmZmZnxP9AyMzMzM/M/aMzMzMzM9D8AZmZmZmb2P5j///////c/MJmZmZmZ+T/IMjMzMzP7P2DMzMzMzPw/+GVmZmZm/j+Q////////P5TMzMzMzABAYJmZmZmZAUAsZmZmZmYCQPgyMzMzMwNAxP//////A0CQzMzMzMwEQFyZmZmZmQVAKGZmZmZmBkD0MjMzMzMHQMD//////wdAjMzMzMzMCEBYmZmZmZkJQCRmZmZmZgpA8DIzMzMzC0C8//////8LQIjMzMzMzAxAVJmZmZmZDUAgZmZmZmYOQOwyMzMzMw9AuP//////D0BCZmZmZmYQQKjMzMzMzBBADjMzMzMzEUB0mZmZmZkRQNr//////xFAQGZmZmZmEkCmzMzMzMwSQAwzMzMzMxNAcpmZmZmZE0DY//////8TQA==\",\"dtype\":\"float64\",\"shape\":[101]}},\"selected\":{\"id\":\"f5989914-1c2c-4af2-85cf-9a72a301ddda\",\"type\":\"Selection\"},\"selection_policy\":{\"id\":\"58428bb8-e670-4b62-a6de-cf6425157e31\",\"type\":\"UnionRenderers\"}},\"id\":\"59412baf-82aa-4591-ba96-a679c5c67cf7\",\"type\":\"ColumnDataSource\"},{\"attributes\":{},\"id\":\"ff1b1922-5e28-4679-ba1c-717177089b0b\",\"type\":\"Selection\"},{\"attributes\":{\"below\":[{\"id\":\"33e28527-7af9-4528-89f2-b42df71fc74d\",\"type\":\"LinearAxis\"}],\"left\":[{\"id\":\"73b16a86-27fe-4077-869b-6dfddf9a845e\",\"type\":\"LinearAxis\"}],\"plot_height\":300,\"plot_width\":950,\"renderers\":[{\"id\":\"33e28527-7af9-4528-89f2-b42df71fc74d\",\"type\":\"LinearAxis\"},{\"id\":\"04ed3a1b-3fb0-4472-b962-49344d46785b\",\"type\":\"Grid\"},{\"id\":\"73b16a86-27fe-4077-869b-6dfddf9a845e\",\"type\":\"LinearAxis\"},{\"id\":\"397cb83f-c55a-4927-8f60-df31e7a944f5\",\"type\":\"Grid\"},{\"id\":\"124d46c7-455c-4609-8d73-317432cd9770\",\"type\":\"BoxAnnotation\"},{\"id\":\"f8680435-ffe4-4be5-a0a2-8cdb5250ee84\",\"type\":\"Legend\"},{\"id\":\"5ebfc30e-7345-4d2c-81fa-c40c35479e02\",\"type\":\"GlyphRenderer\"},{\"id\":\"dacdfa99-a483-4a5a-8a65-219ff5304ef9\",\"type\":\"GlyphRenderer\"}],\"title\":{\"id\":\"d2a0f147-51b3-486b-ac4b-6801f7a4263e\",\"type\":\"Title\"},\"toolbar\":{\"id\":\"5a20cc7e-8a26-44f8-9c27-084a6e6d7856\",\"type\":\"Toolbar\"},\"toolbar_location\":\"below\",\"x_range\":{\"id\":\"a8c80ddc-08fc-467f-b849-73ef12de18b5\",\"type\":\"DataRange1d\"},\"x_scale\":{\"id\":\"02e6f42f-b296-4b8b-830a-2663813cfec1\",\"type\":\"LinearScale\"},\"y_range\":{\"id\":\"d6c2859c-673a-4110-a76c-9ae67d099735\",\"type\":\"DataRange1d\"},\"y_scale\":{\"id\":\"95a90b57-841c-4e7c-b3f7-523a4a723272\",\"type\":\"LinearScale\"}},\"id\":\"5d56e520-3c03-4809-bf40-4311461a78c0\",\"subtype\":\"Figure\",\"type\":\"Plot\"},{\"attributes\":{\"plot\":null,\"text\":\"\"},\"id\":\"d2a0f147-51b3-486b-ac4b-6801f7a4263e\",\"type\":\"Title\"},{\"attributes\":{\"callback\":null},\"id\":\"d6c2859c-673a-4110-a76c-9ae67d099735\",\"type\":\"DataRange1d\"},{\"attributes\":{\"line_color\":\"#1f77b4\",\"line_width\":3,\"x\":{\"field\":\"x\"},\"y\":{\"value\":3}},\"id\":\"4e1b2599-56cb-478b-ba4b-0f71bacab91a\",\"type\":\"Line\"},{\"attributes\":{},\"id\":\"6e40193c-a27f-4b81-9889-95d76118d0be\",\"type\":\"BasicTickFormatter\"},{\"attributes\":{},\"id\":\"02e6f42f-b296-4b8b-830a-2663813cfec1\",\"type\":\"LinearScale\"},{\"attributes\":{},\"id\":\"6823d46b-6cb4-4580-ae02-30a67a15af81\",\"type\":\"BasicTickFormatter\"},{\"attributes\":{\"active_drag\":\"auto\",\"active_inspect\":\"auto\",\"active_multi\":null,\"active_scroll\":\"auto\",\"active_tap\":\"auto\",\"tools\":[{\"id\":\"924395a1-f5cd-4d64-b27c-a9e4ec84caf8\",\"type\":\"PanTool\"},{\"id\":\"50311fd9-936f-414f-839c-d6239b26d439\",\"type\":\"WheelZoomTool\"},{\"id\":\"c8983db4-d879-4e78-ac82-7901c58cf1b5\",\"type\":\"BoxZoomTool\"},{\"id\":\"06267481-0f97-4048-8ea6-96135785c800\",\"type\":\"SaveTool\"},{\"id\":\"5ed6b71a-876b-4601-9fe9-c2650ea8edad\",\"type\":\"ResetTool\"},{\"id\":\"56ea9e15-e4af-47dc-a7ae-b41ff32c1e7a\",\"type\":\"HelpTool\"}]},\"id\":\"5a20cc7e-8a26-44f8-9c27-084a6e6d7856\",\"type\":\"Toolbar\"},{\"attributes\":{},\"id\":\"95a90b57-841c-4e7c-b3f7-523a4a723272\",\"type\":\"LinearScale\"},{\"attributes\":{},\"id\":\"5adc89c9-e411-4312-afb0-31e6ccf2989b\",\"type\":\"BasicTicker\"},{\"attributes\":{\"plot\":{\"id\":\"5d56e520-3c03-4809-bf40-4311461a78c0\",\"subtype\":\"Figure\",\"type\":\"Plot\"},\"ticker\":{\"id\":\"5adc89c9-e411-4312-afb0-31e6ccf2989b\",\"type\":\"BasicTicker\"}},\"id\":\"04ed3a1b-3fb0-4472-b962-49344d46785b\",\"type\":\"Grid\"},{\"attributes\":{\"axis_label\":\"X\",\"formatter\":{\"id\":\"6823d46b-6cb4-4580-ae02-30a67a15af81\",\"type\":\"BasicTickFormatter\"},\"plot\":{\"id\":\"5d56e520-3c03-4809-bf40-4311461a78c0\",\"subtype\":\"Figure\",\"type\":\"Plot\"},\"ticker\":{\"id\":\"5adc89c9-e411-4312-afb0-31e6ccf2989b\",\"type\":\"BasicTicker\"}},\"id\":\"33e28527-7af9-4528-89f2-b42df71fc74d\",\"type\":\"LinearAxis\"},{\"attributes\":{\"axis_label\":\"f(X)\",\"formatter\":{\"id\":\"6e40193c-a27f-4b81-9889-95d76118d0be\",\"type\":\"BasicTickFormatter\"},\"plot\":{\"id\":\"5d56e520-3c03-4809-bf40-4311461a78c0\",\"subtype\":\"Figure\",\"type\":\"Plot\"},\"ticker\":{\"id\":\"514a122d-8307-413b-afad-7c0341aaca35\",\"type\":\"BasicTicker\"}},\"id\":\"73b16a86-27fe-4077-869b-6dfddf9a845e\",\"type\":\"LinearAxis\"},{\"attributes\":{},\"id\":\"514a122d-8307-413b-afad-7c0341aaca35\",\"type\":\"BasicTicker\"},{\"attributes\":{\"dimension\":1,\"plot\":{\"id\":\"5d56e520-3c03-4809-bf40-4311461a78c0\",\"subtype\":\"Figure\",\"type\":\"Plot\"},\"ticker\":{\"id\":\"514a122d-8307-413b-afad-7c0341aaca35\",\"type\":\"BasicTicker\"}},\"id\":\"397cb83f-c55a-4927-8f60-df31e7a944f5\",\"type\":\"Grid\"},{\"attributes\":{\"items\":[{\"id\":\"3f2d2917-a172-4a55-b1aa-693ea3f08b81\",\"type\":\"LegendItem\"},{\"id\":\"08f18c18-8fe9-4bdf-9e2f-167cc276a56b\",\"type\":\"LegendItem\"}],\"plot\":{\"id\":\"5d56e520-3c03-4809-bf40-4311461a78c0\",\"subtype\":\"Figure\",\"type\":\"Plot\"}},\"id\":\"f8680435-ffe4-4be5-a0a2-8cdb5250ee84\",\"type\":\"Legend\"},{\"attributes\":{\"line_alpha\":0.1,\"line_color\":\"#1f77b4\",\"line_width\":3,\"x\":{\"field\":\"x\"},\"y\":{\"value\":3}},\"id\":\"9fefd9a3-ad15-410b-a98a-2d8a4f11197d\",\"type\":\"Line\"},{\"attributes\":{\"data_source\":{\"id\":\"59412baf-82aa-4591-ba96-a679c5c67cf7\",\"type\":\"ColumnDataSource\"},\"glyph\":{\"id\":\"4e1b2599-56cb-478b-ba4b-0f71bacab91a\",\"type\":\"Line\"},\"hover_glyph\":null,\"muted_glyph\":null,\"nonselection_glyph\":{\"id\":\"9fefd9a3-ad15-410b-a98a-2d8a4f11197d\",\"type\":\"Line\"},\"selection_glyph\":null,\"view\":{\"id\":\"eb453e73-eb26-409c-8668-be0de4867790\",\"type\":\"CDSView\"}},\"id\":\"5ebfc30e-7345-4d2c-81fa-c40c35479e02\",\"type\":\"GlyphRenderer\"},{\"attributes\":{\"callback\":null,\"data\":{\"x\":{\"__ndarray__\":\"AAAAAAAAFMCamZmZmZkTwDQzMzMzMxPAzszMzMzMEsBoZmZmZmYSwAIAAAAAABLAnJmZmZmZEcA2MzMzMzMRwNDMzMzMzBDAamZmZmZmEMAEAAAAAAAQwDwzMzMzMw/AcGZmZmZmDsCkmZmZmZkNwNjMzMzMzAzADAAAAAAADMBAMzMzMzMLwHRmZmZmZgrAqJmZmZmZCcDczMzMzMwIwBAAAAAAAAjARDMzMzMzB8B4ZmZmZmYGwKyZmZmZmQXA4MzMzMzMBMAUAAAAAAAEwEgzMzMzMwPAfGZmZmZmAsCwmZmZmZkBwOTMzMzMzADAGAAAAAAAAMCYZmZmZmb+vwDNzMzMzPy/aDMzMzMz+7/QmZmZmZn5vzgAAAAAAPi/oGZmZmZm9r8IzczMzMz0v3AzMzMzM/O/2JmZmZmZ8b9AAAAAAADwv1DNzMzMzOy/IJqZmZmZ6b/wZmZmZmbmv8AzMzMzM+O/kAAAAAAA4L/AmpmZmZnZv2A0MzMzM9O/AJyZmZmZyb+AnpmZmZm5vwAAAAAAABS9gJSZmZmZuT8Al5mZmZnJP+AxMzMzM9M/QJiZmZmZ2T+g/v/////fP4AyMzMzM+M/sGVmZmZm5j/gmJmZmZnpPxDMzMzMzOw/QP//////7z84mZmZmZnxP9AyMzMzM/M/aMzMzMzM9D8AZmZmZmb2P5j///////c/MJmZmZmZ+T/IMjMzMzP7P2DMzMzMzPw/+GVmZmZm/j+Q////////P5TMzMzMzABAYJmZmZmZAUAsZmZmZmYCQPgyMzMzMwNAxP//////A0CQzMzMzMwEQFyZmZmZmQVAKGZmZmZmBkD0MjMzMzMHQMD//////wdAjMzMzMzMCEBYmZmZmZkJQCRmZmZmZgpA8DIzMzMzC0C8//////8LQIjMzMzMzAxAVJmZmZmZDUAgZmZmZmYOQOwyMzMzMw9AuP//////D0BCZmZmZmYQQKjMzMzMzBBADjMzMzMzEUB0mZmZmZkRQNr//////xFAQGZmZmZmEkCmzMzMzMwSQAwzMzMzMxNAcpmZmZmZE0DY//////8TQA==\",\"dtype\":\"float64\",\"shape\":[101]}},\"selected\":{\"id\":\"ff1b1922-5e28-4679-ba1c-717177089b0b\",\"type\":\"Selection\"},\"selection_policy\":{\"id\":\"c5c78bb1-98d4-462f-86ce-5058b47616e6\",\"type\":\"UnionRenderers\"}},\"id\":\"6e89a661-87aa-4953-a36e-fd99ef3b63bd\",\"type\":\"ColumnDataSource\"},{\"attributes\":{},\"id\":\"924395a1-f5cd-4d64-b27c-a9e4ec84caf8\",\"type\":\"PanTool\"},{\"attributes\":{},\"id\":\"50311fd9-936f-414f-839c-d6239b26d439\",\"type\":\"WheelZoomTool\"}],\"root_ids\":[\"5d56e520-3c03-4809-bf40-4311461a78c0\"]},\"title\":\"Bokeh Application\",\"version\":\"0.13.0\"}};\n",
       "  var render_items = [{\"docid\":\"9fd95d46-11d2-43ed-aad8-96b2d4b964be\",\"roots\":{\"5d56e520-3c03-4809-bf40-4311461a78c0\":\"78b26cc8-7fea-4985-8661-1745f968bbc2\"}}];\n",
       "  root.Bokeh.embed.embed_items_notebook(docs_json, render_items);\n",
       "\n",
       "  }\n",
       "  if (root.Bokeh !== undefined) {\n",
       "    embed_document(root);\n",
       "  } else {\n",
       "    var attempts = 0;\n",
       "    var timer = setInterval(function(root) {\n",
       "      if (root.Bokeh !== undefined) {\n",
       "        embed_document(root);\n",
       "        clearInterval(timer);\n",
       "      }\n",
       "      attempts++;\n",
       "      if (attempts > 100) {\n",
       "        console.log(\"Bokeh: ERROR: Unable to run BokehJS code because BokehJS library is missing\")\n",
       "        clearInterval(timer);\n",
       "      }\n",
       "    }, 10, root)\n",
       "  }\n",
       "})(window);"
      ],
      "application/vnd.bokehjs_exec.v0+json": ""
     },
     "metadata": {
      "application/vnd.bokehjs_exec.v0+json": {
       "id": "5d56e520-3c03-4809-bf40-4311461a78c0"
      }
     },
     "output_type": "display_data"
    }
   ],
   "source": [
    "def f(x):\n",
    "    return 3\n",
    "\n",
    "x = np.arange(-5,5.1,.1)\n",
    "p = plot(950,300)\n",
    "p.line(x,f(x),line_width=3,legend='f(x)=3')\n",
    "p.line(x,deriv(x,f),line_width=3,\n",
    "       line_dash='dashdot',legend=\"f'(x)=0\",\n",
    "       color=\"red\",alpha=.5)\n",
    "show(p)"
   ]
  },
  {
   "cell_type": "markdown",
   "metadata": {},
   "source": [
    "## The Scalar Rule\n",
    "\n",
    "<br>\n",
    "<br>\n",
    "\n",
    "$$\\frac{d f(cx)}{d x} $$\n",
    "\n",
    "<br>\n",
    "<br>\n",
    "\n",
    "$$\\lim_{h \\to 0} \\frac{c(f(x+h)) - c(f(x))}{h}$$\n",
    "\n",
    "<br>\n",
    "<br>\n",
    "\n",
    "$$ \\lim_{h \\to 0} c(\\frac{f(x+h) - f(x)}{h}) $$\n",
    "\n",
    "<br>\n",
    "<br>\n",
    "\n",
    "$$ f'(cx) = cf'(x) $$\n",
    "\n",
    "<br>\n",
    "<br>\n",
    "\n",
    "where $c$ is some arbitrary constant.\n",
    "\n",
    "<br>\n",
    "<br>"
   ]
  },
  {
   "cell_type": "markdown",
   "metadata": {},
   "source": [
    "### Intuition"
   ]
  },
  {
   "cell_type": "code",
   "execution_count": 4,
   "metadata": {},
   "outputs": [
    {
     "data": {
      "text/html": [
       "\n",
       "\n",
       "\n",
       "\n",
       "\n",
       "\n",
       "  <div class=\"bk-root\" id=\"5314d8af-e8bd-4101-a536-acbea247fb8b\"></div>\n"
      ]
     },
     "metadata": {},
     "output_type": "display_data"
    },
    {
     "data": {
      "application/javascript": [
       "(function(root) {\n",
       "  function embed_document(root) {\n",
       "    \n",
       "  var docs_json = {\"b98686a2-bfdc-4a6a-9250-023506c03058\":{\"roots\":{\"references\":[{\"attributes\":{},\"id\":\"3988b497-f2bc-49d3-8e57-eb269d7aa5c6\",\"type\":\"PanTool\"},{\"attributes\":{},\"id\":\"b309cc61-ec1a-4a61-9e2c-1b0228d19e3a\",\"type\":\"SaveTool\"},{\"attributes\":{\"overlay\":{\"id\":\"e3b2c762-e400-4810-a769-1a2fb74c5146\",\"type\":\"BoxAnnotation\"}},\"id\":\"aa90697d-2842-4694-931c-f3e8958230b9\",\"type\":\"BoxZoomTool\"},{\"attributes\":{\"axis_label\":\"f(X)\",\"formatter\":{\"id\":\"bbd2bec1-ee78-4ca4-96f3-0b4946a3bdcd\",\"type\":\"BasicTickFormatter\"},\"plot\":{\"id\":\"c5bba1d8-0946-4f96-b78e-2803004fc562\",\"subtype\":\"Figure\",\"type\":\"Plot\"},\"ticker\":{\"id\":\"aa6fdf3c-f9b6-4d3e-b260-5eac6a2fc90f\",\"type\":\"BasicTicker\"}},\"id\":\"08d2a993-52a0-4d2d-a4d8-a2c805ae4ecf\",\"type\":\"LinearAxis\"},{\"attributes\":{},\"id\":\"ebfe35c5-10c8-4dd8-8bc5-0511237bb803\",\"type\":\"WheelZoomTool\"},{\"attributes\":{\"callback\":null,\"data\":{\"x\":{\"__ndarray__\":\"AAAAAAAAFMCamZmZmZkTwDQzMzMzMxPAzszMzMzMEsBoZmZmZmYSwAIAAAAAABLAnJmZmZmZEcA2MzMzMzMRwNDMzMzMzBDAamZmZmZmEMAEAAAAAAAQwDwzMzMzMw/AcGZmZmZmDsCkmZmZmZkNwNjMzMzMzAzADAAAAAAADMBAMzMzMzMLwHRmZmZmZgrAqJmZmZmZCcDczMzMzMwIwBAAAAAAAAjARDMzMzMzB8B4ZmZmZmYGwKyZmZmZmQXA4MzMzMzMBMAUAAAAAAAEwEgzMzMzMwPAfGZmZmZmAsCwmZmZmZkBwOTMzMzMzADAGAAAAAAAAMCYZmZmZmb+vwDNzMzMzPy/aDMzMzMz+7/QmZmZmZn5vzgAAAAAAPi/oGZmZmZm9r8IzczMzMz0v3AzMzMzM/O/2JmZmZmZ8b9AAAAAAADwv1DNzMzMzOy/IJqZmZmZ6b/wZmZmZmbmv8AzMzMzM+O/kAAAAAAA4L/AmpmZmZnZv2A0MzMzM9O/AJyZmZmZyb+AnpmZmZm5vwAAAAAAABS9gJSZmZmZuT8Al5mZmZnJP+AxMzMzM9M/QJiZmZmZ2T+g/v/////fP4AyMzMzM+M/sGVmZmZm5j/gmJmZmZnpPxDMzMzMzOw/QP//////7z84mZmZmZnxP9AyMzMzM/M/aMzMzMzM9D8AZmZmZmb2P5j///////c/MJmZmZmZ+T/IMjMzMzP7P2DMzMzMzPw/+GVmZmZm/j+Q////////P5TMzMzMzABAYJmZmZmZAUAsZmZmZmYCQPgyMzMzMwNAxP//////A0CQzMzMzMwEQFyZmZmZmQVAKGZmZmZmBkD0MjMzMzMHQMD//////wdAjMzMzMzMCEBYmZmZmZkJQCRmZmZmZgpA8DIzMzMzC0C8//////8LQIjMzMzMzAxAVJmZmZmZDUAgZmZmZmYOQOwyMzMzMw9AuP//////D0BCZmZmZmYQQKjMzMzMzBBADjMzMzMzEUB0mZmZmZkRQNr//////xFAQGZmZmZmEkCmzMzMzMwSQAwzMzMzMxNAcpmZmZmZE0DY//////8TQA==\",\"dtype\":\"float64\",\"shape\":[101]},\"y\":{\"__ndarray__\":\"ACImO6ofwj+Ablswis+3P4BHpKqwRaY/AAizsVller9AbBKKltasv4A4yBdfC7u/ADXR7CKzw7/QiCmhMq7Jv3CMcmiSZ8+/ODaNA09o0r/QlPlcv+3Uv/DZDk6nPde/+PVr0hxS2b8ALWb0zSXbv8RXv2gOtNy/mP6bguP43b+UICZhDvHev6z80zwUmt+/TpsWv0Ty37+40zZUvvjfv6RTVGxwrd+/bqbCpRsR378M8VfgTyXev6iVmT5o7Ny/0Az/HoVp279I/bQchKDZvxhAVSz2lde/0G3e7RNP1b94/spRsNHSv+hOcbMpJNC/MC+OHbOayr+Qhmb2BanEv6BF+2AABb2/gCSgbrptsL8AQpxSdmONv0DKIbWEPKI/wI2+xaDRtT9Q8ZzylybBP7CuBPSAOMc/MHTftAQPzT+4jP03mk3RP7DTpr9v59M/gJfl01tO1j8ocwqROXzYP2jlegR2a9o/2I2ibh4X3D8U2R/r7HrdP7Doy15Tk94/8NCoj4Rd3z+LnnNPe9ffP0eChab//98/Y3XM8anW3z++LeLr41vfP8Rbm57nkN4/MODCP7x33T8IwQcBMRPcP9i6YuDVZto/YBVVi/J22D8QZE9se0jWP3AfQf4E4dM/MKO7hrVG0T8wGFa2agDNP6DjwLI7Kcc/cMz5fc4WwT8AVr04VrG1P4DLJIUl+6E/AFDrkH5pjr+gqmkeOY6wvyCRq5rpJL2/IEFMCIe4xL8Qzyb8mKnKv4hmZ/s7K9C/KFj120/Y0r+Q2kXJL1XVv6Am1rh+m9e/8Ez3Mmul2b84M6o0vm3bvzgqaIbo79y/VOO4ZQ4o3r8oVsFjERPfv6DujF+Yrt+/bhSphxX537/uF7ZTyvHfv0yuwmvJmN+/1GuTePbu3r9sTlDdA/bdvwDNaWBusNy/AIbPznYh27/Qv76pGU3Zv3CUcfQEONe/cF3DO4zn1L/ozGj2mmHSvyB3KsFKWc+/UGKP8y+fyb+AtPSdi6PDv2CaA/pW67q/wH8QLHeVrL8AMgpHGll4vwCHs4j5hqY/QAgambvvtz/AsSlAYC/CPw==\",\"dtype\":\"float64\",\"shape\":[101]}},\"selected\":{\"id\":\"fb772d45-ffa2-41ac-b3ff-3d122210bb76\",\"type\":\"Selection\"},\"selection_policy\":{\"id\":\"4de174bd-14d6-4d46-a829-ce8f03b409ac\",\"type\":\"UnionRenderers\"}},\"id\":\"0e292ed2-8de7-48e1-a9cf-b7819aefb58f\",\"type\":\"ColumnDataSource\"},{\"attributes\":{},\"id\":\"9f8aad02-47a9-4e11-8e06-4127c0bcd978\",\"type\":\"HelpTool\"},{\"attributes\":{\"callback\":null,\"data\":{\"x\":{\"__ndarray__\":\"AAAAAAAAFMCamZmZmZkTwDQzMzMzMxPAzszMzMzMEsBoZmZmZmYSwAIAAAAAABLAnJmZmZmZEcA2MzMzMzMRwNDMzMzMzBDAamZmZmZmEMAEAAAAAAAQwDwzMzMzMw/AcGZmZmZmDsCkmZmZmZkNwNjMzMzMzAzADAAAAAAADMBAMzMzMzMLwHRmZmZmZgrAqJmZmZmZCcDczMzMzMwIwBAAAAAAAAjARDMzMzMzB8B4ZmZmZmYGwKyZmZmZmQXA4MzMzMzMBMAUAAAAAAAEwEgzMzMzMwPAfGZmZmZmAsCwmZmZmZkBwOTMzMzMzADAGAAAAAAAAMCYZmZmZmb+vwDNzMzMzPy/aDMzMzMz+7/QmZmZmZn5vzgAAAAAAPi/oGZmZmZm9r8IzczMzMz0v3AzMzMzM/O/2JmZmZmZ8b9AAAAAAADwv1DNzMzMzOy/IJqZmZmZ6b/wZmZmZmbmv8AzMzMzM+O/kAAAAAAA4L/AmpmZmZnZv2A0MzMzM9O/AJyZmZmZyb+AnpmZmZm5vwAAAAAAABS9gJSZmZmZuT8Al5mZmZnJP+AxMzMzM9M/QJiZmZmZ2T+g/v/////fP4AyMzMzM+M/sGVmZmZm5j/gmJmZmZnpPxDMzMzMzOw/QP//////7z84mZmZmZnxP9AyMzMzM/M/aMzMzMzM9D8AZmZmZmb2P5j///////c/MJmZmZmZ+T/IMjMzMzP7P2DMzMzMzPw/+GVmZmZm/j+Q////////P5TMzMzMzABAYJmZmZmZAUAsZmZmZmYCQPgyMzMzMwNAxP//////A0CQzMzMzMwEQFyZmZmZmQVAKGZmZmZmBkD0MjMzMzMHQMD//////wdAjMzMzMzMCEBYmZmZmZkJQCRmZmZmZgpA8DIzMzMzC0C8//////8LQIjMzMzMzAxAVJmZmZmZDUAgZmZmZmYOQOwyMzMzMw9AuP//////D0BCZmZmZmYQQKjMzMzMzBBADjMzMzMzEUB0mZmZmZkRQNr//////xFAQGZmZmZmEkCmzMzMzMwSQAwzMzMzMxNAcpmZmZmZE0DY//////8TQA==\",\"dtype\":\"float64\",\"shape\":[101]},\"y\":{\"__ndarray__\":\"ADO5WH8v6z/gkkSkp9vhP0BF+39EtNA/AEZGRQPMo78A2Y3n8KDVv2Aq1lGHSOS/gM85Y7SM7b+QKN/4pULzv2DnVc6tjfe/MNdThXac+79QW3YLn2T/v2gli3o9bgHAdPnQnZX9AsDAoUx3WlwEwFCCj84KhwXA7P/0oap6BsDsmNzIyjQHwIH9ni2PswfAivRQj7P1B8DaHim/jvoHwD4+P1EUwgfAlPxRvNRMB8BM9EHo+5sGwEQv8y5OsQXAnEk/1yOPBMDwvocVYzgDwBjvP6F4sAHA0KDN5J32/7/Ae7B6iDr8v4DwKY0+Nvi/QKkqVgb087/AzZnxiP3uvyB4vEjAw+W/wDbwpZek2L8A8/S9mAq2vwC/sg/HWss/gOJOlDhd4D9AXuvr47npPxCBA7dgavE/MJWnh0PL9T8gUfxTZ/T5P3BBep8n2/0/oDHs3sS6AEBk1ccsK10CQAgtXIOY0ANAXOv50lYRBUBM41ewMRwGQITuGId+7gZAtJy+ayOGB0DJtpZ7nOEHQLUh5Lz//wdA61dZdf/gB0AQounw6oQHQFCF9Lat7AZAJCjSL80ZBkDA0cXAZA4FQCgLSmggzQNACNB/6DVZAkAYiTuRXLYAQBCzYX2H0f0/sHgZShDq+T8wkMAIUMD1P9CmEMbsXvE/wK72vDWi6T+AAI6qAEXgP4BQt0e4+Mo/AHyw7B7Ptr/Ah56tVdXYv8CwADSv2+W/4FlyjMoU779AHR29Mv/zv/ATG/nZQPi/MAbwyXdE/L/Ay+itx///v/icoAqftAHAqHs5ZhA8A8BwpX+nTpIEwKQgzmTuswXACKlKzAqeBsCeANEKTU4HwPiyqUfywgfAUs++JdD6B8Dykci+V/UHwLkC0hCXsgfAYpBu2jgzB8BUOvzlgngGwMBZT8hShAXAgKQbGxlZBMDcD08/0/kCwGAtVbcDagHAQAilWVJb/79QNZ1xaJL7v0Dd3xD4gve/sIur9mM387/ADu9sUXXtv+CvgjuBMOS/QHcMYRlw1b8A5Ee100Kiv0ClhiY75dA/YH7Tsszz4T8Aez5gEEfrPw==\",\"dtype\":\"float64\",\"shape\":[101]}},\"selected\":{\"id\":\"e1d371cd-b943-459d-9154-f45c845fb281\",\"type\":\"Selection\"},\"selection_policy\":{\"id\":\"56154096-0f72-4b36-920d-3188fa853905\",\"type\":\"UnionRenderers\"}},\"id\":\"474d570b-c963-47d1-a357-69c25d7033ff\",\"type\":\"ColumnDataSource\"},{\"attributes\":{\"data_source\":{\"id\":\"d2e9ea75-31f3-4c63-8212-49d8773e0da1\",\"type\":\"ColumnDataSource\"},\"glyph\":{\"id\":\"fc1adcf4-0c08-4620-b202-ae924ab005c1\",\"type\":\"Line\"},\"hover_glyph\":null,\"muted_glyph\":null,\"nonselection_glyph\":{\"id\":\"3d9c66fb-2285-418c-a167-5d8580cab9f2\",\"type\":\"Line\"},\"selection_glyph\":null,\"view\":{\"id\":\"28a73c83-8eb5-4647-b779-37a27f23b77f\",\"type\":\"CDSView\"}},\"id\":\"9133a477-2141-4cb6-8ccd-5ebc96576ee3\",\"type\":\"GlyphRenderer\"},{\"attributes\":{},\"id\":\"fb772d45-ffa2-41ac-b3ff-3d122210bb76\",\"type\":\"Selection\"},{\"attributes\":{\"callback\":null},\"id\":\"f1115082-6a2d-4100-b60f-20fcec2c82a2\",\"type\":\"DataRange1d\"},{\"attributes\":{\"source\":{\"id\":\"d2e9ea75-31f3-4c63-8212-49d8773e0da1\",\"type\":\"ColumnDataSource\"}},\"id\":\"28a73c83-8eb5-4647-b779-37a27f23b77f\",\"type\":\"CDSView\"},{\"attributes\":{\"plot\":{\"id\":\"c5bba1d8-0946-4f96-b78e-2803004fc562\",\"subtype\":\"Figure\",\"type\":\"Plot\"},\"ticker\":{\"id\":\"4776abc1-7da1-48fa-ac2b-08279d723d5a\",\"type\":\"BasicTicker\"}},\"id\":\"d64ea4f7-5941-466d-bafc-e4e57f5163b2\",\"type\":\"Grid\"},{\"attributes\":{},\"id\":\"56154096-0f72-4b36-920d-3188fa853905\",\"type\":\"UnionRenderers\"},{\"attributes\":{\"bottom_units\":\"screen\",\"fill_alpha\":{\"value\":0.5},\"fill_color\":{\"value\":\"lightgrey\"},\"left_units\":\"screen\",\"level\":\"overlay\",\"line_alpha\":{\"value\":1.0},\"line_color\":{\"value\":\"black\"},\"line_dash\":[4,4],\"line_width\":{\"value\":2},\"plot\":null,\"render_mode\":\"css\",\"right_units\":\"screen\",\"top_units\":\"screen\"},\"id\":\"e3b2c762-e400-4810-a769-1a2fb74c5146\",\"type\":\"BoxAnnotation\"},{\"attributes\":{\"callback\":null},\"id\":\"7465492a-4138-44a9-9a4f-45ed6383d6d5\",\"type\":\"DataRange1d\"},{\"attributes\":{\"data_source\":{\"id\":\"0e292ed2-8de7-48e1-a9cf-b7819aefb58f\",\"type\":\"ColumnDataSource\"},\"glyph\":{\"id\":\"a5db5148-c34b-4c9d-b0cd-98e1ce2d9f66\",\"type\":\"Line\"},\"hover_glyph\":null,\"muted_glyph\":null,\"nonselection_glyph\":{\"id\":\"dfb37c99-5768-42da-9a36-ba8dfa10152d\",\"type\":\"Line\"},\"selection_glyph\":null,\"view\":{\"id\":\"2b3a5a8b-7e27-49b2-8134-45679c46e948\",\"type\":\"CDSView\"}},\"id\":\"f4e8055f-c7a7-4958-bd3d-aebcf52b2abb\",\"type\":\"GlyphRenderer\"},{\"attributes\":{\"line_alpha\":0.1,\"line_color\":\"#1f77b4\",\"line_dash\":[6,4,2,4],\"line_width\":3,\"x\":{\"field\":\"x\"},\"y\":{\"field\":\"y\"}},\"id\":\"dfb37c99-5768-42da-9a36-ba8dfa10152d\",\"type\":\"Line\"},{\"attributes\":{\"axis_label\":\"X\",\"formatter\":{\"id\":\"739d1596-c332-4cc5-ae04-603de064e033\",\"type\":\"BasicTickFormatter\"},\"plot\":{\"id\":\"c5bba1d8-0946-4f96-b78e-2803004fc562\",\"subtype\":\"Figure\",\"type\":\"Plot\"},\"ticker\":{\"id\":\"4776abc1-7da1-48fa-ac2b-08279d723d5a\",\"type\":\"BasicTicker\"}},\"id\":\"61d3003d-2d33-475b-88e4-4a3ccdbc5835\",\"type\":\"LinearAxis\"},{\"attributes\":{\"below\":[{\"id\":\"61d3003d-2d33-475b-88e4-4a3ccdbc5835\",\"type\":\"LinearAxis\"}],\"left\":[{\"id\":\"08d2a993-52a0-4d2d-a4d8-a2c805ae4ecf\",\"type\":\"LinearAxis\"}],\"plot_height\":300,\"plot_width\":950,\"renderers\":[{\"id\":\"61d3003d-2d33-475b-88e4-4a3ccdbc5835\",\"type\":\"LinearAxis\"},{\"id\":\"d64ea4f7-5941-466d-bafc-e4e57f5163b2\",\"type\":\"Grid\"},{\"id\":\"08d2a993-52a0-4d2d-a4d8-a2c805ae4ecf\",\"type\":\"LinearAxis\"},{\"id\":\"350a4cb6-7b7c-4cd1-ae9c-c2e3a9fd532d\",\"type\":\"Grid\"},{\"id\":\"e3b2c762-e400-4810-a769-1a2fb74c5146\",\"type\":\"BoxAnnotation\"},{\"id\":\"38754c1a-f9a0-40c7-bd04-77ece25f961d\",\"type\":\"Legend\"},{\"id\":\"46a7e3e0-d30e-4a06-9b35-555bbbe8f84b\",\"type\":\"GlyphRenderer\"},{\"id\":\"9133a477-2141-4cb6-8ccd-5ebc96576ee3\",\"type\":\"GlyphRenderer\"},{\"id\":\"f4e8055f-c7a7-4958-bd3d-aebcf52b2abb\",\"type\":\"GlyphRenderer\"}],\"title\":{\"id\":\"447a5594-81b3-412f-988b-91b449c7930b\",\"type\":\"Title\"},\"toolbar\":{\"id\":\"de576660-a21a-4bb1-aa90-695f2fbcd65b\",\"type\":\"Toolbar\"},\"toolbar_location\":\"below\",\"x_range\":{\"id\":\"7465492a-4138-44a9-9a4f-45ed6383d6d5\",\"type\":\"DataRange1d\"},\"x_scale\":{\"id\":\"519ab11c-d134-492e-a8c9-dcafa3ac82cf\",\"type\":\"LinearScale\"},\"y_range\":{\"id\":\"f1115082-6a2d-4100-b60f-20fcec2c82a2\",\"type\":\"DataRange1d\"},\"y_scale\":{\"id\":\"e79e73fe-c4f7-450e-bcac-ff409b585df6\",\"type\":\"LinearScale\"}},\"id\":\"c5bba1d8-0946-4f96-b78e-2803004fc562\",\"subtype\":\"Figure\",\"type\":\"Plot\"},{\"attributes\":{\"items\":[{\"id\":\"e441f7e5-a850-40ac-9ebc-aeb4c275342c\",\"type\":\"LegendItem\"},{\"id\":\"2679b010-94e9-4405-9ec6-df3b78890a77\",\"type\":\"LegendItem\"},{\"id\":\"b345e298-1976-4ad7-8798-1eeac73afc32\",\"type\":\"LegendItem\"}],\"plot\":{\"id\":\"c5bba1d8-0946-4f96-b78e-2803004fc562\",\"subtype\":\"Figure\",\"type\":\"Plot\"}},\"id\":\"38754c1a-f9a0-40c7-bd04-77ece25f961d\",\"type\":\"Legend\"},{\"attributes\":{\"line_alpha\":0.1,\"line_color\":\"#1f77b4\",\"line_dash\":[6,4,2,4],\"line_width\":3,\"x\":{\"field\":\"x\"},\"y\":{\"field\":\"y\"}},\"id\":\"3d9c66fb-2285-418c-a167-5d8580cab9f2\",\"type\":\"Line\"},{\"attributes\":{\"plot\":null,\"text\":\"\"},\"id\":\"447a5594-81b3-412f-988b-91b449c7930b\",\"type\":\"Title\"},{\"attributes\":{},\"id\":\"bbd2bec1-ee78-4ca4-96f3-0b4946a3bdcd\",\"type\":\"BasicTickFormatter\"},{\"attributes\":{\"line_alpha\":0.5,\"line_color\":\"skyblue\",\"line_dash\":[6,4,2,4],\"line_width\":3,\"x\":{\"field\":\"x\"},\"y\":{\"field\":\"y\"}},\"id\":\"fc1adcf4-0c08-4620-b202-ae924ab005c1\",\"type\":\"Line\"},{\"attributes\":{\"data_source\":{\"id\":\"474d570b-c963-47d1-a357-69c25d7033ff\",\"type\":\"ColumnDataSource\"},\"glyph\":{\"id\":\"4e86a229-bddb-4f8d-9bec-4e573f6be0c2\",\"type\":\"Line\"},\"hover_glyph\":null,\"muted_glyph\":null,\"nonselection_glyph\":{\"id\":\"7cc04b7f-d824-4d36-bb82-64725ac1de28\",\"type\":\"Line\"},\"selection_glyph\":null,\"view\":{\"id\":\"0f2fc5da-00b9-42c4-ae74-5be01697db74\",\"type\":\"CDSView\"}},\"id\":\"46a7e3e0-d30e-4a06-9b35-555bbbe8f84b\",\"type\":\"GlyphRenderer\"},{\"attributes\":{\"source\":{\"id\":\"0e292ed2-8de7-48e1-a9cf-b7819aefb58f\",\"type\":\"ColumnDataSource\"}},\"id\":\"2b3a5a8b-7e27-49b2-8134-45679c46e948\",\"type\":\"CDSView\"},{\"attributes\":{\"active_drag\":\"auto\",\"active_inspect\":\"auto\",\"active_multi\":null,\"active_scroll\":\"auto\",\"active_tap\":\"auto\",\"tools\":[{\"id\":\"3988b497-f2bc-49d3-8e57-eb269d7aa5c6\",\"type\":\"PanTool\"},{\"id\":\"ebfe35c5-10c8-4dd8-8bc5-0511237bb803\",\"type\":\"WheelZoomTool\"},{\"id\":\"aa90697d-2842-4694-931c-f3e8958230b9\",\"type\":\"BoxZoomTool\"},{\"id\":\"b309cc61-ec1a-4a61-9e2c-1b0228d19e3a\",\"type\":\"SaveTool\"},{\"id\":\"99a53dcd-e1bc-4189-805a-3304539e1350\",\"type\":\"ResetTool\"},{\"id\":\"9f8aad02-47a9-4e11-8e06-4127c0bcd978\",\"type\":\"HelpTool\"}]},\"id\":\"de576660-a21a-4bb1-aa90-695f2fbcd65b\",\"type\":\"Toolbar\"},{\"attributes\":{},\"id\":\"e79e73fe-c4f7-450e-bcac-ff409b585df6\",\"type\":\"LinearScale\"},{\"attributes\":{\"label\":{\"value\":\"f'(x)=.5cos(x)\"},\"renderers\":[{\"id\":\"f4e8055f-c7a7-4958-bd3d-aebcf52b2abb\",\"type\":\"GlyphRenderer\"}]},\"id\":\"b345e298-1976-4ad7-8798-1eeac73afc32\",\"type\":\"LegendItem\"},{\"attributes\":{\"line_alpha\":0.5,\"line_color\":\"red\",\"line_dash\":[6,4,2,4],\"line_width\":3,\"x\":{\"field\":\"x\"},\"y\":{\"field\":\"y\"}},\"id\":\"4e86a229-bddb-4f8d-9bec-4e573f6be0c2\",\"type\":\"Line\"},{\"attributes\":{},\"id\":\"519ab11c-d134-492e-a8c9-dcafa3ac82cf\",\"type\":\"LinearScale\"},{\"attributes\":{\"dimension\":1,\"plot\":{\"id\":\"c5bba1d8-0946-4f96-b78e-2803004fc562\",\"subtype\":\"Figure\",\"type\":\"Plot\"},\"ticker\":{\"id\":\"aa6fdf3c-f9b6-4d3e-b260-5eac6a2fc90f\",\"type\":\"BasicTicker\"}},\"id\":\"350a4cb6-7b7c-4cd1-ae9c-c2e3a9fd532d\",\"type\":\"Grid\"},{\"attributes\":{},\"id\":\"aa6fdf3c-f9b6-4d3e-b260-5eac6a2fc90f\",\"type\":\"BasicTicker\"},{\"attributes\":{},\"id\":\"4776abc1-7da1-48fa-ac2b-08279d723d5a\",\"type\":\"BasicTicker\"},{\"attributes\":{},\"id\":\"4de174bd-14d6-4d46-a829-ce8f03b409ac\",\"type\":\"UnionRenderers\"},{\"attributes\":{\"line_alpha\":0.5,\"line_color\":\"forestgreen\",\"line_dash\":[6,4,2,4],\"line_width\":3,\"x\":{\"field\":\"x\"},\"y\":{\"field\":\"y\"}},\"id\":\"a5db5148-c34b-4c9d-b0cd-98e1ce2d9f66\",\"type\":\"Line\"},{\"attributes\":{\"label\":{\"value\":\"f'(x)=3cos(x)\"},\"renderers\":[{\"id\":\"46a7e3e0-d30e-4a06-9b35-555bbbe8f84b\",\"type\":\"GlyphRenderer\"}]},\"id\":\"e441f7e5-a850-40ac-9ebc-aeb4c275342c\",\"type\":\"LegendItem\"},{\"attributes\":{\"label\":{\"value\":\"f'(x)=1cos(x)\"},\"renderers\":[{\"id\":\"9133a477-2141-4cb6-8ccd-5ebc96576ee3\",\"type\":\"GlyphRenderer\"}]},\"id\":\"2679b010-94e9-4405-9ec6-df3b78890a77\",\"type\":\"LegendItem\"},{\"attributes\":{},\"id\":\"739d1596-c332-4cc5-ae04-603de064e033\",\"type\":\"BasicTickFormatter\"},{\"attributes\":{},\"id\":\"8f0a2c8b-9eb9-4a61-8a3b-0071eb4fc15c\",\"type\":\"Selection\"},{\"attributes\":{\"callback\":null,\"data\":{\"x\":{\"__ndarray__\":\"AAAAAAAAFMCamZmZmZkTwDQzMzMzMxPAzszMzMzMEsBoZmZmZmYSwAIAAAAAABLAnJmZmZmZEcA2MzMzMzMRwNDMzMzMzBDAamZmZmZmEMAEAAAAAAAQwDwzMzMzMw/AcGZmZmZmDsCkmZmZmZkNwNjMzMzMzAzADAAAAAAADMBAMzMzMzMLwHRmZmZmZgrAqJmZmZmZCcDczMzMzMwIwBAAAAAAAAjARDMzMzMzB8B4ZmZmZmYGwKyZmZmZmQXA4MzMzMzMBMAUAAAAAAAEwEgzMzMzMwPAfGZmZmZmAsCwmZmZmZkBwOTMzMzMzADAGAAAAAAAAMCYZmZmZmb+vwDNzMzMzPy/aDMzMzMz+7/QmZmZmZn5vzgAAAAAAPi/oGZmZmZm9r8IzczMzMz0v3AzMzMzM/O/2JmZmZmZ8b9AAAAAAADwv1DNzMzMzOy/IJqZmZmZ6b/wZmZmZmbmv8AzMzMzM+O/kAAAAAAA4L/AmpmZmZnZv2A0MzMzM9O/AJyZmZmZyb+AnpmZmZm5vwAAAAAAABS9gJSZmZmZuT8Al5mZmZnJP+AxMzMzM9M/QJiZmZmZ2T+g/v/////fP4AyMzMzM+M/sGVmZmZm5j/gmJmZmZnpPxDMzMzMzOw/QP//////7z84mZmZmZnxP9AyMzMzM/M/aMzMzMzM9D8AZmZmZmb2P5j///////c/MJmZmZmZ+T/IMjMzMzP7P2DMzMzMzPw/+GVmZmZm/j+Q////////P5TMzMzMzABAYJmZmZmZAUAsZmZmZmYCQPgyMzMzMwNAxP//////A0CQzMzMzMwEQFyZmZmZmQVAKGZmZmZmBkD0MjMzMzMHQMD//////wdAjMzMzMzMCEBYmZmZmZkJQCRmZmZmZgpA8DIzMzMzC0C8//////8LQIjMzMzMzAxAVJmZmZmZDUAgZmZmZmYOQOwyMzMzMw9AuP//////D0BCZmZmZmYQQKjMzMzMzBBADjMzMzMzEUB0mZmZmZkRQNr//////xFAQGZmZmZmEkCmzMzMzMwSQAwzMzMzMxNAcpmZmZmZE0DY//////8TQA==\",\"dtype\":\"float64\",\"shape\":[101]},\"y\":{\"__ndarray__\":\"ACImO6of0j+Ablswis/HP4BHpKqwRbY/AAizsVllir9AbBKKlta8v4A4yBdfC8u/ADXR7CKz07/QiCmhMq7Zv3CMcmiSZ9+/ODaNA09o4r/QlPlcv+3kv/DZDk6nPee/+PVr0hxS6b8ALWb0zSXrv8RXv2gOtOy/mP6bguP47b+UICZhDvHuv6z80zwUmu+/TpsWv0Ty77+40zZUvvjvv6RTVGxwre+/bqbCpRsR778M8VfgTyXuv6iVmT5o7Oy/0Az/HoVp679I/bQchKDpvxhAVSz2lee/0G3e7RNP5b94/spRsNHiv+hOcbMpJOC/MC+OHbOa2r+Qhmb2BanUv6BF+2AABc2/gCSgbrptwL8AQpxSdmOdv0DKIbWEPLI/wI2+xaDRxT9Q8ZzylybRP7CuBPSAONc/MHTftAQP3T+4jP03mk3hP7DTpr9v5+M/gJfl01tO5j8ocwqROXzoP2jlegR2a+o/2I2ibh4X7D8U2R/r7HrtP7Doy15Tk+4/8NCoj4Rd7z+LnnNPe9fvP0eChab//+8/Y3XM8anW7z++LeLr41vvP8Rbm57nkO4/MODCP7x37T8IwQcBMRPsP9i6YuDVZuo/YBVVi/J26D8QZE9se0jmP3AfQf4E4eM/MKO7hrVG4T8wGFa2agDdP6DjwLI7Kdc/cMz5fc4W0T8AVr04VrHFP4DLJIUl+7E/AFDrkH5pnr+gqmkeOY7AvyCRq5rpJM2/IEFMCIe41L8Qzyb8mKnav4hmZ/s7K+C/KFj120/Y4r+Q2kXJL1Xlv6Am1rh+m+e/8Ez3Mmul6b84M6o0vm3rvzgqaIbo7+y/VOO4ZQ4o7r8oVsFjERPvv6DujF+Yru+/bhSphxX577/uF7ZTyvHvv0yuwmvJmO+/1GuTePbu7r9sTlDdA/btvwDNaWBusOy/AIbPznYh67/Qv76pGU3pv3CUcfQEOOe/cF3DO4zn5L/ozGj2mmHivyB3KsFKWd+/UGKP8y+f2b+AtPSdi6PTv2CaA/pW68q/wH8QLHeVvL8AMgpHGlmIvwCHs4j5hrY/QAgambvvxz/AsSlAYC/SPw==\",\"dtype\":\"float64\",\"shape\":[101]}},\"selected\":{\"id\":\"8f0a2c8b-9eb9-4a61-8a3b-0071eb4fc15c\",\"type\":\"Selection\"},\"selection_policy\":{\"id\":\"288e407c-da43-4e1a-ba35-f8ce4bf06f13\",\"type\":\"UnionRenderers\"}},\"id\":\"d2e9ea75-31f3-4c63-8212-49d8773e0da1\",\"type\":\"ColumnDataSource\"},{\"attributes\":{},\"id\":\"e1d371cd-b943-459d-9154-f45c845fb281\",\"type\":\"Selection\"},{\"attributes\":{},\"id\":\"99a53dcd-e1bc-4189-805a-3304539e1350\",\"type\":\"ResetTool\"},{\"attributes\":{},\"id\":\"288e407c-da43-4e1a-ba35-f8ce4bf06f13\",\"type\":\"UnionRenderers\"},{\"attributes\":{\"line_alpha\":0.1,\"line_color\":\"#1f77b4\",\"line_dash\":[6,4,2,4],\"line_width\":3,\"x\":{\"field\":\"x\"},\"y\":{\"field\":\"y\"}},\"id\":\"7cc04b7f-d824-4d36-bb82-64725ac1de28\",\"type\":\"Line\"},{\"attributes\":{\"source\":{\"id\":\"474d570b-c963-47d1-a357-69c25d7033ff\",\"type\":\"ColumnDataSource\"}},\"id\":\"0f2fc5da-00b9-42c4-ae74-5be01697db74\",\"type\":\"CDSView\"}],\"root_ids\":[\"c5bba1d8-0946-4f96-b78e-2803004fc562\"]},\"title\":\"Bokeh Application\",\"version\":\"0.13.0\"}};\n",
       "  var render_items = [{\"docid\":\"b98686a2-bfdc-4a6a-9250-023506c03058\",\"roots\":{\"c5bba1d8-0946-4f96-b78e-2803004fc562\":\"5314d8af-e8bd-4101-a536-acbea247fb8b\"}}];\n",
       "  root.Bokeh.embed.embed_items_notebook(docs_json, render_items);\n",
       "\n",
       "  }\n",
       "  if (root.Bokeh !== undefined) {\n",
       "    embed_document(root);\n",
       "  } else {\n",
       "    var attempts = 0;\n",
       "    var timer = setInterval(function(root) {\n",
       "      if (root.Bokeh !== undefined) {\n",
       "        embed_document(root);\n",
       "        clearInterval(timer);\n",
       "      }\n",
       "      attempts++;\n",
       "      if (attempts > 100) {\n",
       "        console.log(\"Bokeh: ERROR: Unable to run BokehJS code because BokehJS library is missing\")\n",
       "        clearInterval(timer);\n",
       "      }\n",
       "    }, 10, root)\n",
       "  }\n",
       "})(window);"
      ],
      "application/vnd.bokehjs_exec.v0+json": ""
     },
     "metadata": {
      "application/vnd.bokehjs_exec.v0+json": {
       "id": "c5bba1d8-0946-4f96-b78e-2803004fc562"
      }
     },
     "output_type": "display_data"
    }
   ],
   "source": [
    "def f1(x):\n",
    "    return 3*np.sin(x)\n",
    "def f2(x):\n",
    "    return 1*np.sin(x)\n",
    "def f3(x):\n",
    "    return .5*np.sin(x)\n",
    "\n",
    "x = np.arange(-5,5.1,.1)\n",
    "p = plot(950,300)\n",
    "p.line(x,deriv(x,f1),line_width=3,\n",
    "       line_dash='dashdot',legend=\"f'(x)=3cos(x)\",\n",
    "       color=\"red\",alpha=.5)\n",
    "p.line(x,deriv(x,f2),line_width=3,\n",
    "       line_dash='dashdot',legend=\"f'(x)=1cos(x)\",\n",
    "       color=\"skyblue\",alpha=.5)\n",
    "p.line(x,deriv(x,f3),line_width=3,\n",
    "       line_dash='dashdot',legend=\"f'(x)=.5cos(x)\",\n",
    "       color=\"forestgreen\",alpha=.5)\n",
    "show(p)"
   ]
  },
  {
   "cell_type": "markdown",
   "metadata": {},
   "source": [
    "## The Sum Rule\n",
    "\n",
    "Let's apply the above to more than one function.\n",
    "\n",
    "<br>\n",
    "<br>\n",
    "\n",
    "$$ \\frac{d(f + g)}{d x} $$\n",
    "\n",
    "<br>\n",
    "<br>\n",
    "\n",
    "$$\\lim_{h \\to 0} \\frac{(f(x+h) + g(x+h) ) - (f(x) + g(x))}{h}$$\n",
    "\n",
    "<br>\n",
    "<br>\n",
    "\n",
    "$$ \\lim_{h \\to 0} \\frac{(f(x+h) - f(x)) + (g(x+h) - g(x))}{h}$$\n",
    "\n",
    "<br>\n",
    "<br>\n",
    "\n",
    "$$ \\lim_{h \\to 0} (\\frac{f(x+h) - f(x)}{h} + \\frac{g(x+h) - g(x)}{h})$$\n",
    "\n",
    "<br>\n",
    "<br>\n",
    "\n",
    "$$ f'(x) + g'(x) $$\n",
    "\n",
    "<br>\n",
    "<br>\n",
    "\n",
    "Naturally, this holds as well for subtraction.\n",
    "\n",
    "<br>\n",
    "<br>\n",
    "\n",
    "$$  \\frac{d(f(x) - g(x))}{d x} = f'(x) - g'(x) $$\n",
    "\n",
    "<br>\n",
    "<br>"
   ]
  },
  {
   "cell_type": "markdown",
   "metadata": {},
   "source": [
    "These linear operators should look familiar! \n",
    "\n",
    "#### Let's see what these rules mean in practice"
   ]
  },
  {
   "cell_type": "markdown",
   "metadata": {},
   "source": [
    "<br>\n",
    "<br>\n",
    "\n",
    "$$ f(x) = x^3 + 2x^2 - 3x$$\n",
    "\n",
    "<br>\n",
    "<br>\n",
    "\n",
    "$$ \\frac{df(x)}{dx} = \\frac{d(x^3 + 2x^2 - 3x)}{dx}$$\n",
    "\n",
    "<br>\n",
    "<br>\n",
    "\n",
    "$$ \\frac{df(x)}{dx} = \\frac{d(x^3)}{dx} + \\frac{d(2x^2)}{dx} - \\frac{d(3x)}{dx}$$\n",
    "\n",
    "<br>\n",
    "<br>\n",
    "\n",
    "$$ \\frac{df(x)}{dx} = \\frac{d(x^3)}{dx} + 2\\frac{d(x^2)}{dx} - 3\\frac{d(x)}{dx}$$\n",
    "\n",
    "<br>\n",
    "<br>\n",
    "\n",
    "$$ \\frac{df(x)}{dx} = 3x^2 + 2(2x) - 3(1)$$\n",
    "\n",
    "<br>\n",
    "<br>\n",
    "\n",
    "$$ \\frac{df(x)}{dx} = 3x^2 + 4x - 3$$\n",
    "\n",
    "<br>\n",
    "<br>"
   ]
  },
  {
   "cell_type": "markdown",
   "metadata": {},
   "source": [
    "### Intuition\n",
    "Given the function is differentiable, we can differentiate each individual component of the function individually and then add the components together. "
   ]
  },
  {
   "cell_type": "code",
   "execution_count": 5,
   "metadata": {},
   "outputs": [],
   "source": [
    "# Define our function and its components\n",
    "def f(x):\n",
    "    return x**3 + 2*x**2 + 3*x\n",
    "\n",
    "def f_comp1(x):\n",
    "    return x**3\n",
    "\n",
    "def f_comp2(x):\n",
    "    return 2*x**2\n",
    "\n",
    "def f_comp3(x):\n",
    "    return 3*x"
   ]
  },
  {
   "cell_type": "code",
   "execution_count": 6,
   "metadata": {},
   "outputs": [
    {
     "data": {
      "text/html": [
       "\n",
       "\n",
       "\n",
       "\n",
       "\n",
       "\n",
       "  <div class=\"bk-root\" id=\"f7504f05-aef9-4313-a06b-c852ef31b333\"></div>\n"
      ]
     },
     "metadata": {},
     "output_type": "display_data"
    },
    {
     "data": {
      "application/javascript": [
       "(function(root) {\n",
       "  function embed_document(root) {\n",
       "    \n",
       "  var docs_json = {\"f99c676f-3dec-403c-b9c6-bbe16065482d\":{\"roots\":{\"references\":[{\"attributes\":{\"data_source\":{\"id\":\"856fdacf-14b9-4b83-af36-995c506683d2\",\"type\":\"ColumnDataSource\"},\"glyph\":{\"id\":\"7e994a8d-4ca1-4d87-91cf-0442a84430d3\",\"type\":\"Line\"},\"hover_glyph\":null,\"muted_glyph\":null,\"nonselection_glyph\":{\"id\":\"957de3ef-8685-4c06-b2d4-5b48a8e7d271\",\"type\":\"Line\"},\"selection_glyph\":null,\"view\":{\"id\":\"f2d456e4-e492-469d-be8d-5b2b2a433c12\",\"type\":\"CDSView\"}},\"id\":\"15f7da8c-2ee0-4037-a024-3163f8b32edb\",\"type\":\"GlyphRenderer\"},{\"attributes\":{\"line_alpha\":0.6,\"line_color\":\"green\",\"line_width\":5,\"x\":{\"field\":\"x\"},\"y\":{\"field\":\"y\"}},\"id\":\"ca02f4f8-5111-4604-9b8f-9c3d27d14725\",\"type\":\"Line\"},{\"attributes\":{},\"id\":\"29f41d41-2c1b-446a-a25e-43ef91a1c65e\",\"type\":\"UnionRenderers\"},{\"attributes\":{},\"id\":\"e2d44a6d-8c40-476e-81a7-cc9f3ef954ba\",\"type\":\"WheelZoomTool\"},{\"attributes\":{\"line_alpha\":0.1,\"line_color\":\"#1f77b4\",\"line_width\":5,\"x\":{\"field\":\"x\"},\"y\":{\"field\":\"y\"}},\"id\":\"355b2ecb-bf73-4843-be91-286696573f62\",\"type\":\"Line\"},{\"attributes\":{\"source\":{\"id\":\"856fdacf-14b9-4b83-af36-995c506683d2\",\"type\":\"ColumnDataSource\"}},\"id\":\"f2d456e4-e492-469d-be8d-5b2b2a433c12\",\"type\":\"CDSView\"},{\"attributes\":{\"data_source\":{\"id\":\"99909723-ca5a-4f51-aa8d-1e39a1eff71c\",\"type\":\"ColumnDataSource\"},\"glyph\":{\"id\":\"ca02f4f8-5111-4604-9b8f-9c3d27d14725\",\"type\":\"Line\"},\"hover_glyph\":null,\"muted_glyph\":null,\"nonselection_glyph\":{\"id\":\"355b2ecb-bf73-4843-be91-286696573f62\",\"type\":\"Line\"},\"selection_glyph\":null,\"view\":{\"id\":\"0d3182ca-859f-45a3-95e8-337a5658c4ff\",\"type\":\"CDSView\"}},\"id\":\"567e6567-b97e-4c3a-9f22-2d61fc883e4d\",\"type\":\"GlyphRenderer\"},{\"attributes\":{\"overlay\":{\"id\":\"59a00c47-633c-4c15-88ca-61dc52b217e7\",\"type\":\"BoxAnnotation\"}},\"id\":\"c3182871-fa52-4f05-9447-f12593fbbe0d\",\"type\":\"BoxZoomTool\"},{\"attributes\":{\"callback\":null,\"data\":{\"x\":[4,4],\"y\":[108,96]},\"selected\":{\"id\":\"f4ebdac4-7dd3-4b02-89b1-bccae0b49180\",\"type\":\"Selection\"},\"selection_policy\":{\"id\":\"f1207f44-e2f9-47c8-a01b-11c0135e2fd7\",\"type\":\"UnionRenderers\"}},\"id\":\"6e52c6ab-a7e5-4bf3-ad49-cadfa9df766f\",\"type\":\"ColumnDataSource\"},{\"attributes\":{},\"id\":\"f1f1b4ec-158a-4d66-8e20-bdfbb0d00943\",\"type\":\"Selection\"},{\"attributes\":{},\"id\":\"84606275-8aca-4989-ac9b-6283bfc41c8c\",\"type\":\"SaveTool\"},{\"attributes\":{\"source\":{\"id\":\"99909723-ca5a-4f51-aa8d-1e39a1eff71c\",\"type\":\"ColumnDataSource\"}},\"id\":\"0d3182ca-859f-45a3-95e8-337a5658c4ff\",\"type\":\"CDSView\"},{\"attributes\":{\"line_alpha\":0.6,\"line_color\":\"green\",\"line_width\":5,\"x\":{\"field\":\"x\"},\"y\":{\"field\":\"y\"}},\"id\":\"508046b7-06ba-4af4-b25c-0d99a1ee3028\",\"type\":\"Line\"},{\"attributes\":{},\"id\":\"4e100786-10e2-4b03-a454-654d5e93f6ac\",\"type\":\"ResetTool\"},{\"attributes\":{\"callback\":null,\"data\":{\"x\":[0,0],\"y\":[0,0]},\"selected\":{\"id\":\"7e9c650d-1a23-4335-b8b1-b269ca621bf6\",\"type\":\"Selection\"},\"selection_policy\":{\"id\":\"cc81c5f7-0c7c-4d78-a106-018385524558\",\"type\":\"UnionRenderers\"}},\"id\":\"e87151dc-c8d1-46d2-989b-403d5c5ec7ff\",\"type\":\"ColumnDataSource\"},{\"attributes\":{\"line_alpha\":0.1,\"line_color\":\"#1f77b4\",\"line_width\":5,\"x\":{\"field\":\"x\"},\"y\":{\"field\":\"y\"}},\"id\":\"583ce584-f850-4c82-b55b-6984d6506e6c\",\"type\":\"Line\"},{\"attributes\":{},\"id\":\"caed1c3f-b58e-4f0c-9659-ccec912be373\",\"type\":\"UnionRenderers\"},{\"attributes\":{\"data_source\":{\"id\":\"6e52c6ab-a7e5-4bf3-ad49-cadfa9df766f\",\"type\":\"ColumnDataSource\"},\"glyph\":{\"id\":\"508046b7-06ba-4af4-b25c-0d99a1ee3028\",\"type\":\"Line\"},\"hover_glyph\":null,\"muted_glyph\":null,\"nonselection_glyph\":{\"id\":\"583ce584-f850-4c82-b55b-6984d6506e6c\",\"type\":\"Line\"},\"selection_glyph\":null,\"view\":{\"id\":\"d3b9893c-c027-4aa8-96a1-30c5e76b19f1\",\"type\":\"CDSView\"}},\"id\":\"691718fe-04ca-46cc-8922-9a2703dc3024\",\"type\":\"GlyphRenderer\"},{\"attributes\":{},\"id\":\"d5d8f35e-4e51-40ca-ac46-22b2c577259c\",\"type\":\"HelpTool\"},{\"attributes\":{\"line_alpha\":0.4,\"line_width\":5,\"x\":{\"field\":\"x\"},\"y\":{\"field\":\"y\"}},\"id\":\"f37f6fac-81da-4c74-bb73-e89ecc619803\",\"type\":\"Line\"},{\"attributes\":{\"bottom_units\":\"screen\",\"fill_alpha\":{\"value\":0.5},\"fill_color\":{\"value\":\"lightgrey\"},\"left_units\":\"screen\",\"level\":\"overlay\",\"line_alpha\":{\"value\":1.0},\"line_color\":{\"value\":\"black\"},\"line_dash\":[4,4],\"line_width\":{\"value\":2},\"plot\":null,\"render_mode\":\"css\",\"right_units\":\"screen\",\"top_units\":\"screen\"},\"id\":\"59a00c47-633c-4c15-88ca-61dc52b217e7\",\"type\":\"BoxAnnotation\"},{\"attributes\":{\"line_alpha\":0.1,\"line_color\":\"#1f77b4\",\"line_width\":5,\"x\":{\"field\":\"x\"},\"y\":{\"field\":\"y\"}},\"id\":\"950eed4b-e7bd-49a5-be11-289ab92c650b\",\"type\":\"Line\"},{\"attributes\":{\"source\":{\"id\":\"6e52c6ab-a7e5-4bf3-ad49-cadfa9df766f\",\"type\":\"ColumnDataSource\"}},\"id\":\"d3b9893c-c027-4aa8-96a1-30c5e76b19f1\",\"type\":\"CDSView\"},{\"attributes\":{},\"id\":\"5f717554-7d5a-442f-8e07-caa58dd1c5bb\",\"type\":\"UnionRenderers\"},{\"attributes\":{\"data_source\":{\"id\":\"93612f5c-40f2-465e-88cf-a63e57b9e9a5\",\"type\":\"ColumnDataSource\"},\"glyph\":{\"id\":\"c098e2fa-2e6d-4666-b845-0f0e07dcec96\",\"type\":\"Line\"},\"hover_glyph\":null,\"muted_glyph\":null,\"nonselection_glyph\":{\"id\":\"aa7307ec-d72e-4b6f-9edb-6c290cfe4235\",\"type\":\"Line\"},\"selection_glyph\":null,\"view\":{\"id\":\"f9bb20c6-41b7-4dda-99ed-448cf40d2f86\",\"type\":\"CDSView\"}},\"id\":\"28c4c5c1-884e-4af5-bec0-0ce06ea841ea\",\"type\":\"GlyphRenderer\"},{\"attributes\":{\"data_source\":{\"id\":\"e87151dc-c8d1-46d2-989b-403d5c5ec7ff\",\"type\":\"ColumnDataSource\"},\"glyph\":{\"id\":\"f37f6fac-81da-4c74-bb73-e89ecc619803\",\"type\":\"Line\"},\"hover_glyph\":null,\"muted_glyph\":null,\"nonselection_glyph\":{\"id\":\"950eed4b-e7bd-49a5-be11-289ab92c650b\",\"type\":\"Line\"},\"selection_glyph\":null,\"view\":{\"id\":\"c644620f-0d54-4a10-b35a-c45b5d35d112\",\"type\":\"CDSView\"}},\"id\":\"519a8106-189b-4361-b4e7-6f7463a7a0c5\",\"type\":\"GlyphRenderer\"},{\"attributes\":{\"callback\":null,\"data\":{\"x\":[5,5],\"y\":[125,0]},\"selected\":{\"id\":\"1290305c-8016-447d-abe6-77a1382b0105\",\"type\":\"Selection\"},\"selection_policy\":{\"id\":\"46de2a6c-41da-4ddb-bb0c-ea3f02fe81aa\",\"type\":\"UnionRenderers\"}},\"id\":\"1e244642-ea4d-4ea2-827d-39b87a3887a5\",\"type\":\"ColumnDataSource\"},{\"attributes\":{\"line_alpha\":0.4,\"line_color\":\"orange\",\"line_width\":5,\"x\":{\"field\":\"x\"},\"y\":{\"field\":\"y\"}},\"id\":\"c098e2fa-2e6d-4666-b845-0f0e07dcec96\",\"type\":\"Line\"},{\"attributes\":{\"source\":{\"id\":\"e87151dc-c8d1-46d2-989b-403d5c5ec7ff\",\"type\":\"ColumnDataSource\"}},\"id\":\"c644620f-0d54-4a10-b35a-c45b5d35d112\",\"type\":\"CDSView\"},{\"attributes\":{\"line_alpha\":0.4,\"line_width\":5,\"x\":{\"field\":\"x\"},\"y\":{\"field\":\"y\"}},\"id\":\"b44166bd-e61f-4b11-b4bb-2fc5e79c6629\",\"type\":\"Line\"},{\"attributes\":{},\"id\":\"a20de782-4e7f-4ee8-9c65-a89c32b8d0f4\",\"type\":\"UnionRenderers\"},{\"attributes\":{\"line_alpha\":0.1,\"line_color\":\"#1f77b4\",\"line_width\":5,\"x\":{\"field\":\"x\"},\"y\":{\"field\":\"y\"}},\"id\":\"aa7307ec-d72e-4b6f-9edb-6c290cfe4235\",\"type\":\"Line\"},{\"attributes\":{\"callback\":null,\"data\":{\"x\":[0,0],\"y\":[0,0]},\"selected\":{\"id\":\"59b2ac1b-0517-4259-b050-41831f49a741\",\"type\":\"Selection\"},\"selection_policy\":{\"id\":\"7dc64080-e9cb-4f72-b8e3-67892227e324\",\"type\":\"UnionRenderers\"}},\"id\":\"f3d876de-2889-4555-8c27-a66029c8aaf3\",\"type\":\"ColumnDataSource\"},{\"attributes\":{\"line_alpha\":0.1,\"line_color\":\"#1f77b4\",\"line_width\":5,\"x\":{\"field\":\"x\"},\"y\":{\"field\":\"y\"}},\"id\":\"f9280d65-3294-4220-ada7-74f46e513d85\",\"type\":\"Line\"},{\"attributes\":{\"data_source\":{\"id\":\"1e244642-ea4d-4ea2-827d-39b87a3887a5\",\"type\":\"ColumnDataSource\"},\"glyph\":{\"id\":\"b44166bd-e61f-4b11-b4bb-2fc5e79c6629\",\"type\":\"Line\"},\"hover_glyph\":null,\"muted_glyph\":null,\"nonselection_glyph\":{\"id\":\"f9280d65-3294-4220-ada7-74f46e513d85\",\"type\":\"Line\"},\"selection_glyph\":null,\"view\":{\"id\":\"7244f000-38dc-4a17-ae38-748fc29d271d\",\"type\":\"CDSView\"}},\"id\":\"eb4c998e-9229-4131-8764-cf1605e7eeb3\",\"type\":\"GlyphRenderer\"},{\"attributes\":{\"source\":{\"id\":\"93612f5c-40f2-465e-88cf-a63e57b9e9a5\",\"type\":\"ColumnDataSource\"}},\"id\":\"f9bb20c6-41b7-4dda-99ed-448cf40d2f86\",\"type\":\"CDSView\"},{\"attributes\":{\"line_alpha\":0.4,\"line_color\":\"orange\",\"line_width\":5,\"x\":{\"field\":\"x\"},\"y\":{\"field\":\"y\"}},\"id\":\"fada12f3-9eae-4cec-ae7a-30c086b6bb42\",\"type\":\"Line\"},{\"attributes\":{},\"id\":\"eaeefdf0-c639-407e-8183-599cdabfcf1b\",\"type\":\"UnionRenderers\"},{\"attributes\":{\"callback\":null,\"data\":{\"x\":[-5,-5],\"y\":[-90,-75]},\"selected\":{\"id\":\"f62d92cb-eebc-421e-8cdc-9ec0f8cfea22\",\"type\":\"Selection\"},\"selection_policy\":{\"id\":\"3202a48b-783b-4f2e-8a0b-4e6180e3ddbf\",\"type\":\"UnionRenderers\"}},\"id\":\"b7c6a8d3-3712-48b3-8836-cb982dcf85cf\",\"type\":\"ColumnDataSource\"},{\"attributes\":{\"line_alpha\":0.1,\"line_color\":\"#1f77b4\",\"line_width\":5,\"x\":{\"field\":\"x\"},\"y\":{\"field\":\"y\"}},\"id\":\"5ac5f786-f5ca-436f-960c-459356ffd64f\",\"type\":\"Line\"},{\"attributes\":{\"source\":{\"id\":\"1e244642-ea4d-4ea2-827d-39b87a3887a5\",\"type\":\"ColumnDataSource\"}},\"id\":\"7244f000-38dc-4a17-ae38-748fc29d271d\",\"type\":\"CDSView\"},{\"attributes\":{\"data_source\":{\"id\":\"f3d876de-2889-4555-8c27-a66029c8aaf3\",\"type\":\"ColumnDataSource\"},\"glyph\":{\"id\":\"fada12f3-9eae-4cec-ae7a-30c086b6bb42\",\"type\":\"Line\"},\"hover_glyph\":null,\"muted_glyph\":null,\"nonselection_glyph\":{\"id\":\"5ac5f786-f5ca-436f-960c-459356ffd64f\",\"type\":\"Line\"},\"selection_glyph\":null,\"view\":{\"id\":\"ca199e52-9e88-4d30-a7e6-9890ef091a44\",\"type\":\"CDSView\"}},\"id\":\"0918ca92-8d73-4b4a-973b-19c050d87f9f\",\"type\":\"GlyphRenderer\"},{\"attributes\":{\"line_alpha\":0.6,\"line_color\":\"green\",\"line_width\":5,\"x\":{\"field\":\"x\"},\"y\":{\"field\":\"y\"}},\"id\":\"5582c630-367c-489e-98ea-1c156aa47d20\",\"type\":\"Line\"},{\"attributes\":{\"callback\":null,\"data\":{\"x\":[5,5],\"y\":[175,125]},\"selected\":{\"id\":\"d4c572d8-0c16-4be5-9dd9-a75b37b935d6\",\"type\":\"Selection\"},\"selection_policy\":{\"id\":\"db526035-23a7-4549-9bc5-c2d7fe792441\",\"type\":\"UnionRenderers\"}},\"id\":\"b731b3f6-c5a2-4da4-b1a5-c1ded06e2554\",\"type\":\"ColumnDataSource\"},{\"attributes\":{},\"id\":\"6eab4a40-3811-4ea6-be18-1c3b2633b7ab\",\"type\":\"UnionRenderers\"},{\"attributes\":{\"line_alpha\":0.1,\"line_color\":\"#1f77b4\",\"line_width\":5,\"x\":{\"field\":\"x\"},\"y\":{\"field\":\"y\"}},\"id\":\"1847d1b4-d73d-464d-9bb8-a62e9c7c6269\",\"type\":\"Line\"},{\"attributes\":{\"source\":{\"id\":\"f3d876de-2889-4555-8c27-a66029c8aaf3\",\"type\":\"ColumnDataSource\"}},\"id\":\"ca199e52-9e88-4d30-a7e6-9890ef091a44\",\"type\":\"CDSView\"},{\"attributes\":{\"line_alpha\":0.4,\"line_color\":\"orange\",\"line_width\":5,\"x\":{\"field\":\"x\"},\"y\":{\"field\":\"y\"}},\"id\":\"d82e539f-1999-4e96-9471-75d143b51143\",\"type\":\"Line\"},{\"attributes\":{\"data_source\":{\"id\":\"b7c6a8d3-3712-48b3-8836-cb982dcf85cf\",\"type\":\"ColumnDataSource\"},\"glyph\":{\"id\":\"5582c630-367c-489e-98ea-1c156aa47d20\",\"type\":\"Line\"},\"hover_glyph\":null,\"muted_glyph\":null,\"nonselection_glyph\":{\"id\":\"1847d1b4-d73d-464d-9bb8-a62e9c7c6269\",\"type\":\"Line\"},\"selection_glyph\":null,\"view\":{\"id\":\"3beac0cf-d38b-4dbb-aa11-246b0e308afc\",\"type\":\"CDSView\"}},\"id\":\"ca23dd70-7328-4702-b3dd-3342fc7c0a7d\",\"type\":\"GlyphRenderer\"},{\"attributes\":{\"callback\":null,\"data\":{\"x\":[0,0],\"y\":[0,0]},\"selected\":{\"id\":\"33d13298-8613-40be-804c-0abac5aced46\",\"type\":\"Selection\"},\"selection_policy\":{\"id\":\"2c71edac-23d5-4a9d-9893-66b45850210a\",\"type\":\"UnionRenderers\"}},\"id\":\"74dad732-e346-4680-a59a-ff74cad2f243\",\"type\":\"ColumnDataSource\"},{\"attributes\":{\"line_alpha\":0.1,\"line_color\":\"#1f77b4\",\"line_width\":5,\"x\":{\"field\":\"x\"},\"y\":{\"field\":\"y\"}},\"id\":\"7cdcdcc5-e65a-4cd5-b975-e57cc8702ba7\",\"type\":\"Line\"},{\"attributes\":{},\"id\":\"ee32d5cb-b08d-4fa8-b31d-f22a11c5f569\",\"type\":\"UnionRenderers\"},{\"attributes\":{\"data_source\":{\"id\":\"b731b3f6-c5a2-4da4-b1a5-c1ded06e2554\",\"type\":\"ColumnDataSource\"},\"glyph\":{\"id\":\"d82e539f-1999-4e96-9471-75d143b51143\",\"type\":\"Line\"},\"hover_glyph\":null,\"muted_glyph\":null,\"nonselection_glyph\":{\"id\":\"7cdcdcc5-e65a-4cd5-b975-e57cc8702ba7\",\"type\":\"Line\"},\"selection_glyph\":null,\"view\":{\"id\":\"87aace84-3957-4d9c-bbb9-c9377d4cd8e1\",\"type\":\"CDSView\"}},\"id\":\"05655811-7c74-4871-a35d-aa5f7fb21c24\",\"type\":\"GlyphRenderer\"},{\"attributes\":{\"source\":{\"id\":\"b7c6a8d3-3712-48b3-8836-cb982dcf85cf\",\"type\":\"ColumnDataSource\"}},\"id\":\"3beac0cf-d38b-4dbb-aa11-246b0e308afc\",\"type\":\"CDSView\"},{\"attributes\":{\"line_alpha\":0.6,\"line_color\":\"green\",\"line_width\":5,\"x\":{\"field\":\"x\"},\"y\":{\"field\":\"y\"}},\"id\":\"3b5d556e-53a2-4be8-bedc-7be945cff40d\",\"type\":\"Line\"},{\"attributes\":{\"callback\":null,\"data\":{\"x\":[-4,-4],\"y\":[-64,0]},\"selected\":{\"id\":\"ebe04868-1b90-4f52-bdf5-647116e8c2ea\",\"type\":\"Selection\"},\"selection_policy\":{\"id\":\"18e5a0be-264a-4df6-9b6a-4dc733d1d601\",\"type\":\"UnionRenderers\"}},\"id\":\"37cf4a9b-63f8-48fc-9a1a-81f50fc0d1d4\",\"type\":\"ColumnDataSource\"},{\"attributes\":{\"line_alpha\":0.1,\"line_color\":\"#1f77b4\",\"line_width\":5,\"x\":{\"field\":\"x\"},\"y\":{\"field\":\"y\"}},\"id\":\"842a5a1a-22fd-4455-a583-c201f3533921\",\"type\":\"Line\"},{\"attributes\":{\"source\":{\"id\":\"b731b3f6-c5a2-4da4-b1a5-c1ded06e2554\",\"type\":\"ColumnDataSource\"}},\"id\":\"87aace84-3957-4d9c-bbb9-c9377d4cd8e1\",\"type\":\"CDSView\"},{\"attributes\":{},\"id\":\"511b34d8-3ca8-4b20-aa51-071a34aa803f\",\"type\":\"UnionRenderers\"},{\"attributes\":{\"data_source\":{\"id\":\"74dad732-e346-4680-a59a-ff74cad2f243\",\"type\":\"ColumnDataSource\"},\"glyph\":{\"id\":\"3b5d556e-53a2-4be8-bedc-7be945cff40d\",\"type\":\"Line\"},\"hover_glyph\":null,\"muted_glyph\":null,\"nonselection_glyph\":{\"id\":\"842a5a1a-22fd-4455-a583-c201f3533921\",\"type\":\"Line\"},\"selection_glyph\":null,\"view\":{\"id\":\"955757e3-a85b-4902-8dfd-fbb669636663\",\"type\":\"CDSView\"}},\"id\":\"92be67d8-bf1d-414f-bf15-f64ae626190d\",\"type\":\"GlyphRenderer\"},{\"attributes\":{\"line_alpha\":0.4,\"line_width\":5,\"x\":{\"field\":\"x\"},\"y\":{\"field\":\"y\"}},\"id\":\"1d2ba918-3a09-47c5-ad82-21a99f753e2d\",\"type\":\"Line\"},{\"attributes\":{\"callback\":null,\"data\":{\"x\":[5,5],\"y\":[190,175]},\"selected\":{\"id\":\"b90b9d7a-e225-4edb-9dcd-26f3e1eadf2d\",\"type\":\"Selection\"},\"selection_policy\":{\"id\":\"a74cfecb-71a2-4fff-9b0c-5891cb788d8c\",\"type\":\"UnionRenderers\"}},\"id\":\"bf4529f3-6909-4eb5-b1de-dee80c36cb0e\",\"type\":\"ColumnDataSource\"},{\"attributes\":{\"line_alpha\":0.1,\"line_color\":\"#1f77b4\",\"line_width\":5,\"x\":{\"field\":\"x\"},\"y\":{\"field\":\"y\"}},\"id\":\"a2e79c66-c0ac-4852-a4ea-4535b02ab676\",\"type\":\"Line\"},{\"attributes\":{\"source\":{\"id\":\"74dad732-e346-4680-a59a-ff74cad2f243\",\"type\":\"ColumnDataSource\"}},\"id\":\"955757e3-a85b-4902-8dfd-fbb669636663\",\"type\":\"CDSView\"},{\"attributes\":{\"line_alpha\":0.6,\"line_color\":\"green\",\"line_width\":5,\"x\":{\"field\":\"x\"},\"y\":{\"field\":\"y\"}},\"id\":\"46c763ae-0a44-4348-bd19-0d34b68388a7\",\"type\":\"Line\"},{\"attributes\":{},\"id\":\"cac03b4e-a9c8-4b2b-afe9-8c25803e0622\",\"type\":\"UnionRenderers\"},{\"attributes\":{\"data_source\":{\"id\":\"37cf4a9b-63f8-48fc-9a1a-81f50fc0d1d4\",\"type\":\"ColumnDataSource\"},\"glyph\":{\"id\":\"1d2ba918-3a09-47c5-ad82-21a99f753e2d\",\"type\":\"Line\"},\"hover_glyph\":null,\"muted_glyph\":null,\"nonselection_glyph\":{\"id\":\"a2e79c66-c0ac-4852-a4ea-4535b02ab676\",\"type\":\"Line\"},\"selection_glyph\":null,\"view\":{\"id\":\"72b891cd-a522-4368-af72-54b85d5231cc\",\"type\":\"CDSView\"}},\"id\":\"77365c61-0308-4780-a1ed-8bdb7c44d5a0\",\"type\":\"GlyphRenderer\"},{\"attributes\":{\"callback\":null,\"data\":{\"x\":[1,1],\"y\":[1,0]},\"selected\":{\"id\":\"cc0ccfb4-5db2-436b-ab71-123e5ca76402\",\"type\":\"Selection\"},\"selection_policy\":{\"id\":\"1493cb80-b086-4087-878f-b2d531c8be0a\",\"type\":\"UnionRenderers\"}},\"id\":\"a26e4f51-358c-4a7a-a925-f23bb20da813\",\"type\":\"ColumnDataSource\"},{\"attributes\":{\"line_alpha\":0.1,\"line_color\":\"#1f77b4\",\"line_width\":5,\"x\":{\"field\":\"x\"},\"y\":{\"field\":\"y\"}},\"id\":\"bae1f3d0-57b5-4bb4-8f03-676da95efd33\",\"type\":\"Line\"},{\"attributes\":{\"data_source\":{\"id\":\"bf4529f3-6909-4eb5-b1de-dee80c36cb0e\",\"type\":\"ColumnDataSource\"},\"glyph\":{\"id\":\"46c763ae-0a44-4348-bd19-0d34b68388a7\",\"type\":\"Line\"},\"hover_glyph\":null,\"muted_glyph\":null,\"nonselection_glyph\":{\"id\":\"bae1f3d0-57b5-4bb4-8f03-676da95efd33\",\"type\":\"Line\"},\"selection_glyph\":null,\"view\":{\"id\":\"2a1efe8a-7db7-4125-bca4-73f0e0b5c6f9\",\"type\":\"CDSView\"}},\"id\":\"61529fcf-c608-4258-a57d-9295caab65f2\",\"type\":\"GlyphRenderer\"},{\"attributes\":{\"source\":{\"id\":\"37cf4a9b-63f8-48fc-9a1a-81f50fc0d1d4\",\"type\":\"ColumnDataSource\"}},\"id\":\"72b891cd-a522-4368-af72-54b85d5231cc\",\"type\":\"CDSView\"},{\"attributes\":{\"line_alpha\":0.4,\"line_width\":5,\"x\":{\"field\":\"x\"},\"y\":{\"field\":\"y\"}},\"id\":\"1c4a1c7c-301b-4805-a073-a46e5c84eadc\",\"type\":\"Line\"},{\"attributes\":{},\"id\":\"f1207f44-e2f9-47c8-a01b-11c0135e2fd7\",\"type\":\"UnionRenderers\"},{\"attributes\":{\"callback\":null,\"data\":{\"x\":[-4,-4],\"y\":[-32,-64]},\"selected\":{\"id\":\"fd9bf828-9a94-4c9d-bf8b-e07f7610ba75\",\"type\":\"Selection\"},\"selection_policy\":{\"id\":\"d69a377e-78ee-4a9d-ab6b-a092cad57deb\",\"type\":\"UnionRenderers\"}},\"id\":\"8be5c32a-acc7-4cf6-98b7-5713502690b4\",\"type\":\"ColumnDataSource\"},{\"attributes\":{\"line_alpha\":0.1,\"line_color\":\"#1f77b4\",\"line_width\":5,\"x\":{\"field\":\"x\"},\"y\":{\"field\":\"y\"}},\"id\":\"c71d6518-4d27-4b78-a478-3f7322299444\",\"type\":\"Line\"},{\"attributes\":{\"source\":{\"id\":\"bf4529f3-6909-4eb5-b1de-dee80c36cb0e\",\"type\":\"ColumnDataSource\"}},\"id\":\"2a1efe8a-7db7-4125-bca4-73f0e0b5c6f9\",\"type\":\"CDSView\"},{\"attributes\":{\"children\":[{\"id\":\"caaff9b7-0503-44a1-b771-5445ff08bd91\",\"subtype\":\"Figure\",\"type\":\"Plot\"},{\"id\":\"ce7a83c8-367b-417b-acd2-139a3acc159f\",\"subtype\":\"Figure\",\"type\":\"Plot\"}]},\"id\":\"4d22080e-0f72-45c8-8715-e855c9634667\",\"type\":\"Row\"},{\"attributes\":{\"data_source\":{\"id\":\"a26e4f51-358c-4a7a-a925-f23bb20da813\",\"type\":\"ColumnDataSource\"},\"glyph\":{\"id\":\"1c4a1c7c-301b-4805-a073-a46e5c84eadc\",\"type\":\"Line\"},\"hover_glyph\":null,\"muted_glyph\":null,\"nonselection_glyph\":{\"id\":\"c71d6518-4d27-4b78-a478-3f7322299444\",\"type\":\"Line\"},\"selection_glyph\":null,\"view\":{\"id\":\"3729a8f8-f232-4aa6-b86e-11f523e625a7\",\"type\":\"CDSView\"}},\"id\":\"39aff1ea-a215-4e02-abd1-bae120fe658b\",\"type\":\"GlyphRenderer\"},{\"attributes\":{\"line_alpha\":0.4,\"line_color\":\"orange\",\"line_width\":5,\"x\":{\"field\":\"x\"},\"y\":{\"field\":\"y\"}},\"id\":\"2fdca73d-3c4e-4fcd-bd54-e7f3cd4d7f7d\",\"type\":\"Line\"},{\"attributes\":{},\"id\":\"46de2a6c-41da-4ddb-bb0c-ea3f02fe81aa\",\"type\":\"UnionRenderers\"},{\"attributes\":{\"line_alpha\":0.1,\"line_color\":\"#1f77b4\",\"line_width\":5,\"x\":{\"field\":\"x\"},\"y\":{\"field\":\"y\"}},\"id\":\"4a3fde7e-f17a-4760-99d1-2b1b1631bd5b\",\"type\":\"Line\"},{\"attributes\":{\"source\":{\"id\":\"a26e4f51-358c-4a7a-a925-f23bb20da813\",\"type\":\"ColumnDataSource\"}},\"id\":\"3729a8f8-f232-4aa6-b86e-11f523e625a7\",\"type\":\"CDSView\"},{\"attributes\":{\"line_alpha\":0.1,\"line_color\":\"#1f77b4\",\"line_width\":3,\"x\":{\"field\":\"x\"},\"y\":{\"field\":\"y\"}},\"id\":\"6895e8ee-0950-4713-9163-9207f875ac4e\",\"type\":\"Line\"},{\"attributes\":{\"data_source\":{\"id\":\"8be5c32a-acc7-4cf6-98b7-5713502690b4\",\"type\":\"ColumnDataSource\"},\"glyph\":{\"id\":\"2fdca73d-3c4e-4fcd-bd54-e7f3cd4d7f7d\",\"type\":\"Line\"},\"hover_glyph\":null,\"muted_glyph\":null,\"nonselection_glyph\":{\"id\":\"4a3fde7e-f17a-4760-99d1-2b1b1631bd5b\",\"type\":\"Line\"},\"selection_glyph\":null,\"view\":{\"id\":\"4635c8fa-2189-4489-b33d-cb552eb35ae6\",\"type\":\"CDSView\"}},\"id\":\"b81b838c-3075-4d7b-90c2-59005d0bd7c0\",\"type\":\"GlyphRenderer\"},{\"attributes\":{\"data_source\":{\"id\":\"1f32d3ac-0e8f-4bc7-8297-c711eed721b2\",\"type\":\"ColumnDataSource\"},\"glyph\":{\"id\":\"ae08e719-ec08-44da-8598-cdad93eac8cc\",\"type\":\"Line\"},\"hover_glyph\":null,\"muted_glyph\":null,\"nonselection_glyph\":{\"id\":\"6895e8ee-0950-4713-9163-9207f875ac4e\",\"type\":\"Line\"},\"selection_glyph\":null,\"view\":{\"id\":\"bd37f9d7-7cfc-4afd-8c9f-3a7e5ad8bcb8\",\"type\":\"CDSView\"}},\"id\":\"10bf1d0f-d3d6-43d9-bbe2-b5711e6616df\",\"type\":\"GlyphRenderer\"},{\"attributes\":{\"callback\":null,\"data\":{\"x\":[1,1],\"y\":[3,1]},\"selected\":{\"id\":\"566f36ae-c5f1-4d23-83cb-3a2a26dd1bce\",\"type\":\"Selection\"},\"selection_policy\":{\"id\":\"367e50ba-7095-4bef-8745-52090919a52f\",\"type\":\"UnionRenderers\"}},\"id\":\"c0e09203-c282-448b-a3e7-137abfee6467\",\"type\":\"ColumnDataSource\"},{\"attributes\":{},\"id\":\"db526035-23a7-4549-9bc5-c2d7fe792441\",\"type\":\"UnionRenderers\"},{\"attributes\":{\"source\":{\"id\":\"8be5c32a-acc7-4cf6-98b7-5713502690b4\",\"type\":\"ColumnDataSource\"}},\"id\":\"4635c8fa-2189-4489-b33d-cb552eb35ae6\",\"type\":\"CDSView\"},{\"attributes\":{\"line_alpha\":0.4,\"line_color\":\"orange\",\"line_width\":5,\"x\":{\"field\":\"x\"},\"y\":{\"field\":\"y\"}},\"id\":\"4f24959a-3a68-4746-884c-952b5c81dcea\",\"type\":\"Line\"},{\"attributes\":{\"source\":{\"id\":\"1f32d3ac-0e8f-4bc7-8297-c711eed721b2\",\"type\":\"ColumnDataSource\"}},\"id\":\"bd37f9d7-7cfc-4afd-8c9f-3a7e5ad8bcb8\",\"type\":\"CDSView\"},{\"attributes\":{\"callback\":null,\"data\":{\"x\":[-4,-4],\"y\":[-44,-32]},\"selected\":{\"id\":\"3fc2face-af81-4fcd-a21d-6828a902b2e4\",\"type\":\"Selection\"},\"selection_policy\":{\"id\":\"fc970fcb-b886-45e2-a7b1-1821e377dc1e\",\"type\":\"UnionRenderers\"}},\"id\":\"9b09e45f-e76f-4ad2-94b0-abff6aa65112\",\"type\":\"ColumnDataSource\"},{\"attributes\":{\"line_alpha\":0.1,\"line_color\":\"#1f77b4\",\"line_width\":5,\"x\":{\"field\":\"x\"},\"y\":{\"field\":\"y\"}},\"id\":\"98fe3a83-e312-4b39-871c-391acc705967\",\"type\":\"Line\"},{\"attributes\":{},\"id\":\"d4c572d8-0c16-4be5-9dd9-a75b37b935d6\",\"type\":\"Selection\"},{\"attributes\":{},\"id\":\"a74cfecb-71a2-4fff-9b0c-5891cb788d8c\",\"type\":\"UnionRenderers\"},{\"attributes\":{\"data_source\":{\"id\":\"c0e09203-c282-448b-a3e7-137abfee6467\",\"type\":\"ColumnDataSource\"},\"glyph\":{\"id\":\"4f24959a-3a68-4746-884c-952b5c81dcea\",\"type\":\"Line\"},\"hover_glyph\":null,\"muted_glyph\":null,\"nonselection_glyph\":{\"id\":\"98fe3a83-e312-4b39-871c-391acc705967\",\"type\":\"Line\"},\"selection_glyph\":null,\"view\":{\"id\":\"43a48e46-fa94-40ed-9f39-edb74d3e5603\",\"type\":\"CDSView\"}},\"id\":\"2b60b84a-21ae-484e-a313-014be517352e\",\"type\":\"GlyphRenderer\"},{\"attributes\":{},\"id\":\"a86a5c47-da5d-4e9a-9c7f-881d4a7d3777\",\"type\":\"BasicTickFormatter\"},{\"attributes\":{\"line_alpha\":0.6,\"line_color\":\"green\",\"line_width\":5,\"x\":{\"field\":\"x\"},\"y\":{\"field\":\"y\"}},\"id\":\"dfe4d6a9-5ca6-4ac0-8037-da87b006ac2e\",\"type\":\"Line\"},{\"attributes\":{},\"id\":\"6f061f5e-2f87-4d79-82f5-3eac7e1ba0fb\",\"type\":\"LinearScale\"},{\"attributes\":{\"line_alpha\":0.1,\"line_color\":\"#1f77b4\",\"line_width\":5,\"x\":{\"field\":\"x\"},\"y\":{\"field\":\"y\"}},\"id\":\"27733020-ae28-4c8e-8e9b-d842a2c0213e\",\"type\":\"Line\"},{\"attributes\":{\"source\":{\"id\":\"c0e09203-c282-448b-a3e7-137abfee6467\",\"type\":\"ColumnDataSource\"}},\"id\":\"43a48e46-fa94-40ed-9f39-edb74d3e5603\",\"type\":\"CDSView\"},{\"attributes\":{},\"id\":\"e15a493e-e861-4bd9-a420-979ba50e54ab\",\"type\":\"UnionRenderers\"},{\"attributes\":{\"data_source\":{\"id\":\"9b09e45f-e76f-4ad2-94b0-abff6aa65112\",\"type\":\"ColumnDataSource\"},\"glyph\":{\"id\":\"dfe4d6a9-5ca6-4ac0-8037-da87b006ac2e\",\"type\":\"Line\"},\"hover_glyph\":null,\"muted_glyph\":null,\"nonselection_glyph\":{\"id\":\"27733020-ae28-4c8e-8e9b-d842a2c0213e\",\"type\":\"Line\"},\"selection_glyph\":null,\"view\":{\"id\":\"4af97bf4-a18a-46a5-ad72-18cc5fc132a4\",\"type\":\"CDSView\"}},\"id\":\"59f0cdf5-42eb-406a-bf54-79b8806efcaf\",\"type\":\"GlyphRenderer\"},{\"attributes\":{},\"id\":\"d9c8d749-8307-429e-9a3a-995a0b2021af\",\"type\":\"BasicTickFormatter\"},{\"attributes\":{\"callback\":null,\"data\":{\"x\":[1,1],\"y\":[6,3]},\"selected\":{\"id\":\"f1f1b4ec-158a-4d66-8e20-bdfbb0d00943\",\"type\":\"Selection\"},\"selection_policy\":{\"id\":\"29f41d41-2c1b-446a-a25e-43ef91a1c65e\",\"type\":\"UnionRenderers\"}},\"id\":\"085cbef4-cd16-4cd9-98b9-a4c2f334f8d0\",\"type\":\"ColumnDataSource\"},{\"attributes\":{},\"id\":\"3d0019fd-9254-498a-8dd7-0c24a4637104\",\"type\":\"UnionRenderers\"},{\"attributes\":{\"source\":{\"id\":\"9b09e45f-e76f-4ad2-94b0-abff6aa65112\",\"type\":\"ColumnDataSource\"}},\"id\":\"4af97bf4-a18a-46a5-ad72-18cc5fc132a4\",\"type\":\"CDSView\"},{\"attributes\":{\"line_alpha\":0.6,\"line_color\":\"green\",\"line_width\":5,\"x\":{\"field\":\"x\"},\"y\":{\"field\":\"y\"}},\"id\":\"ba5b7eaa-2b6d-4fb0-8513-c33fe409d533\",\"type\":\"Line\"},{\"attributes\":{\"callback\":null,\"data\":{\"x\":[-3,-3],\"y\":[-27,0]},\"selected\":{\"id\":\"0ece8abb-815f-4b11-ac42-1e12b3e8052f\",\"type\":\"Selection\"},\"selection_policy\":{\"id\":\"e45389ee-c101-4329-b6c1-48ea08e9c88d\",\"type\":\"UnionRenderers\"}},\"id\":\"a67d0514-1db0-4e6b-927f-702d3d285690\",\"type\":\"ColumnDataSource\"},{\"attributes\":{\"line_alpha\":0.1,\"line_color\":\"#1f77b4\",\"line_width\":5,\"x\":{\"field\":\"x\"},\"y\":{\"field\":\"y\"}},\"id\":\"6ed0e4c8-2c74-4a57-9041-03bba5f2113c\",\"type\":\"Line\"},{\"attributes\":{},\"id\":\"9c991913-1490-4430-8d5b-9414275abd1c\",\"type\":\"Selection\"},{\"attributes\":{\"data_source\":{\"id\":\"085cbef4-cd16-4cd9-98b9-a4c2f334f8d0\",\"type\":\"ColumnDataSource\"},\"glyph\":{\"id\":\"ba5b7eaa-2b6d-4fb0-8513-c33fe409d533\",\"type\":\"Line\"},\"hover_glyph\":null,\"muted_glyph\":null,\"nonselection_glyph\":{\"id\":\"6ed0e4c8-2c74-4a57-9041-03bba5f2113c\",\"type\":\"Line\"},\"selection_glyph\":null,\"view\":{\"id\":\"26af40e4-cd35-42f7-aa2f-0b931d1d9e06\",\"type\":\"CDSView\"}},\"id\":\"b57a4eb3-9bb4-430e-89f8-ae5e31f6bae5\",\"type\":\"GlyphRenderer\"},{\"attributes\":{\"line_alpha\":0.4,\"line_width\":5,\"x\":{\"field\":\"x\"},\"y\":{\"field\":\"y\"}},\"id\":\"8d9c09be-ba7a-4f3f-af27-0c1c9f8a0fff\",\"type\":\"Line\"},{\"attributes\":{},\"id\":\"db820859-ca35-42ca-a98f-c13a1f4e243c\",\"type\":\"Selection\"},{\"attributes\":{\"line_alpha\":0.1,\"line_color\":\"#1f77b4\",\"line_width\":5,\"x\":{\"field\":\"x\"},\"y\":{\"field\":\"y\"}},\"id\":\"77dc841a-68ad-4f9b-81f8-ed7491f94012\",\"type\":\"Line\"},{\"attributes\":{\"source\":{\"id\":\"085cbef4-cd16-4cd9-98b9-a4c2f334f8d0\",\"type\":\"ColumnDataSource\"}},\"id\":\"26af40e4-cd35-42f7-aa2f-0b931d1d9e06\",\"type\":\"CDSView\"},{\"attributes\":{},\"id\":\"749c67f7-721c-46ac-8992-910e5e97930e\",\"type\":\"UnionRenderers\"},{\"attributes\":{\"data_source\":{\"id\":\"a67d0514-1db0-4e6b-927f-702d3d285690\",\"type\":\"ColumnDataSource\"},\"glyph\":{\"id\":\"8d9c09be-ba7a-4f3f-af27-0c1c9f8a0fff\",\"type\":\"Line\"},\"hover_glyph\":null,\"muted_glyph\":null,\"nonselection_glyph\":{\"id\":\"77dc841a-68ad-4f9b-81f8-ed7491f94012\",\"type\":\"Line\"},\"selection_glyph\":null,\"view\":{\"id\":\"c28987e6-9f75-41e0-b9b9-1cd2c3af7706\",\"type\":\"CDSView\"}},\"id\":\"e11ad1b0-d064-4639-8907-c2d5c9444943\",\"type\":\"GlyphRenderer\"},{\"attributes\":{\"callback\":null,\"data\":{\"x\":[2,2],\"y\":[8,0]},\"selected\":{\"id\":\"bb1214ef-accd-4c0e-8513-b3257b0ed99f\",\"type\":\"Selection\"},\"selection_policy\":{\"id\":\"caed1c3f-b58e-4f0c-9659-ccec912be373\",\"type\":\"UnionRenderers\"}},\"id\":\"82ac47f0-aee8-4d5f-bd8f-f723cb20a30c\",\"type\":\"ColumnDataSource\"},{\"attributes\":{},\"id\":\"566f36ae-c5f1-4d23-83cb-3a2a26dd1bce\",\"type\":\"Selection\"},{\"attributes\":{\"source\":{\"id\":\"a67d0514-1db0-4e6b-927f-702d3d285690\",\"type\":\"ColumnDataSource\"}},\"id\":\"c28987e6-9f75-41e0-b9b9-1cd2c3af7706\",\"type\":\"CDSView\"},{\"attributes\":{\"line_alpha\":0.4,\"line_width\":5,\"x\":{\"field\":\"x\"},\"y\":{\"field\":\"y\"}},\"id\":\"63d3b6b8-44e2-44f0-8e4a-4e8092d5151a\",\"type\":\"Line\"},{\"attributes\":{},\"id\":\"2814c4dc-d467-4188-85b5-46711384413d\",\"type\":\"UnionRenderers\"},{\"attributes\":{\"callback\":null,\"data\":{\"x\":[-3,-3],\"y\":[-9,-27]},\"selected\":{\"id\":\"a3563d66-949a-45f4-b39d-622e6b52ed18\",\"type\":\"Selection\"},\"selection_policy\":{\"id\":\"8fca8caa-d5c4-4fc9-8165-dea1784ed70b\",\"type\":\"UnionRenderers\"}},\"id\":\"1a4ee014-c2a6-4ca6-89d3-21dd1047f6a7\",\"type\":\"ColumnDataSource\"},{\"attributes\":{\"line_alpha\":0.1,\"line_color\":\"#1f77b4\",\"line_width\":5,\"x\":{\"field\":\"x\"},\"y\":{\"field\":\"y\"}},\"id\":\"f76e7b6f-f061-4d75-9db1-e06a0f46b1de\",\"type\":\"Line\"},{\"attributes\":{},\"id\":\"4af5da80-61df-4cf4-8833-664a14c9e69f\",\"type\":\"Selection\"},{\"attributes\":{\"data_source\":{\"id\":\"82ac47f0-aee8-4d5f-bd8f-f723cb20a30c\",\"type\":\"ColumnDataSource\"},\"glyph\":{\"id\":\"63d3b6b8-44e2-44f0-8e4a-4e8092d5151a\",\"type\":\"Line\"},\"hover_glyph\":null,\"muted_glyph\":null,\"nonselection_glyph\":{\"id\":\"f76e7b6f-f061-4d75-9db1-e06a0f46b1de\",\"type\":\"Line\"},\"selection_glyph\":null,\"view\":{\"id\":\"c61c29e9-75f5-4805-b1b6-9aeb0f18b15c\",\"type\":\"CDSView\"}},\"id\":\"ecc89e64-340a-494c-a23b-0813cc9e9f44\",\"type\":\"GlyphRenderer\"},{\"attributes\":{\"line_alpha\":0.4,\"line_color\":\"orange\",\"line_width\":5,\"x\":{\"field\":\"x\"},\"y\":{\"field\":\"y\"}},\"id\":\"75acf9b9-2705-4b3d-aa86-880edb28bd89\",\"type\":\"Line\"},{\"attributes\":{},\"id\":\"3202a48b-783b-4f2e-8a0b-4e6180e3ddbf\",\"type\":\"UnionRenderers\"},{\"attributes\":{\"line_alpha\":0.1,\"line_color\":\"#1f77b4\",\"line_width\":5,\"x\":{\"field\":\"x\"},\"y\":{\"field\":\"y\"}},\"id\":\"29e49f55-12e3-496a-9db5-6e25b88bfe70\",\"type\":\"Line\"},{\"attributes\":{\"source\":{\"id\":\"82ac47f0-aee8-4d5f-bd8f-f723cb20a30c\",\"type\":\"ColumnDataSource\"}},\"id\":\"c61c29e9-75f5-4805-b1b6-9aeb0f18b15c\",\"type\":\"CDSView\"},{\"attributes\":{},\"id\":\"f62d92cb-eebc-421e-8cdc-9ec0f8cfea22\",\"type\":\"Selection\"},{\"attributes\":{\"data_source\":{\"id\":\"1a4ee014-c2a6-4ca6-89d3-21dd1047f6a7\",\"type\":\"ColumnDataSource\"},\"glyph\":{\"id\":\"75acf9b9-2705-4b3d-aa86-880edb28bd89\",\"type\":\"Line\"},\"hover_glyph\":null,\"muted_glyph\":null,\"nonselection_glyph\":{\"id\":\"29e49f55-12e3-496a-9db5-6e25b88bfe70\",\"type\":\"Line\"},\"selection_glyph\":null,\"view\":{\"id\":\"bde4c962-19ab-4f07-bc99-30c1b3322a3d\",\"type\":\"CDSView\"}},\"id\":\"890b8b56-e9dc-4cbd-be08-28df067973a3\",\"type\":\"GlyphRenderer\"},{\"attributes\":{\"callback\":null,\"data\":{\"x\":[2,2],\"y\":[16,8]},\"selected\":{\"id\":\"10bebf01-3c70-473f-b7f5-2044048886f3\",\"type\":\"Selection\"},\"selection_policy\":{\"id\":\"5f717554-7d5a-442f-8e07-caa58dd1c5bb\",\"type\":\"UnionRenderers\"}},\"id\":\"50900bc3-d7af-4600-b915-efd4b74d95c0\",\"type\":\"ColumnDataSource\"},{\"attributes\":{},\"id\":\"18e5a0be-264a-4df6-9b6a-4dc733d1d601\",\"type\":\"UnionRenderers\"},{\"attributes\":{\"source\":{\"id\":\"1a4ee014-c2a6-4ca6-89d3-21dd1047f6a7\",\"type\":\"ColumnDataSource\"}},\"id\":\"bde4c962-19ab-4f07-bc99-30c1b3322a3d\",\"type\":\"CDSView\"},{\"attributes\":{\"line_alpha\":0.4,\"line_color\":\"orange\",\"line_width\":5,\"x\":{\"field\":\"x\"},\"y\":{\"field\":\"y\"}},\"id\":\"214a22c5-ad90-4df2-b7ca-c65ce0e66424\",\"type\":\"Line\"},{\"attributes\":{},\"id\":\"ebe04868-1b90-4f52-bdf5-647116e8c2ea\",\"type\":\"Selection\"},{\"attributes\":{\"callback\":null,\"data\":{\"x\":[-3,-3],\"y\":[-18,-9]},\"selected\":{\"id\":\"5ed95b7b-15cf-439c-8483-5b26fa98966b\",\"type\":\"Selection\"},\"selection_policy\":{\"id\":\"3339c4ca-b766-41d5-99f6-850af7d2604e\",\"type\":\"UnionRenderers\"}},\"id\":\"a57999ae-563b-4898-8503-347b17d0a41f\",\"type\":\"ColumnDataSource\"},{\"attributes\":{\"line_alpha\":0.1,\"line_color\":\"#1f77b4\",\"line_width\":5,\"x\":{\"field\":\"x\"},\"y\":{\"field\":\"y\"}},\"id\":\"4d43c55c-33d6-425a-b513-85fb9d8559aa\",\"type\":\"Line\"},{\"attributes\":{},\"id\":\"d69a377e-78ee-4a9d-ab6b-a092cad57deb\",\"type\":\"UnionRenderers\"},{\"attributes\":{\"data_source\":{\"id\":\"50900bc3-d7af-4600-b915-efd4b74d95c0\",\"type\":\"ColumnDataSource\"},\"glyph\":{\"id\":\"214a22c5-ad90-4df2-b7ca-c65ce0e66424\",\"type\":\"Line\"},\"hover_glyph\":null,\"muted_glyph\":null,\"nonselection_glyph\":{\"id\":\"4d43c55c-33d6-425a-b513-85fb9d8559aa\",\"type\":\"Line\"},\"selection_glyph\":null,\"view\":{\"id\":\"cd4bfe10-7025-4e17-92da-e2d1bb0169ac\",\"type\":\"CDSView\"}},\"id\":\"7d109ceb-71e9-4a4c-8da0-31e44cd33530\",\"type\":\"GlyphRenderer\"},{\"attributes\":{\"line_alpha\":0.6,\"line_color\":\"green\",\"line_width\":5,\"x\":{\"field\":\"x\"},\"y\":{\"field\":\"y\"}},\"id\":\"92309dd9-2aee-461e-a481-3706d95ac671\",\"type\":\"Line\"},{\"attributes\":{},\"id\":\"fd9bf828-9a94-4c9d-bf8b-e07f7610ba75\",\"type\":\"Selection\"},{\"attributes\":{\"line_alpha\":0.1,\"line_color\":\"#1f77b4\",\"line_width\":5,\"x\":{\"field\":\"x\"},\"y\":{\"field\":\"y\"}},\"id\":\"f28bd8bf-fec2-4282-8a82-bdc7859d8533\",\"type\":\"Line\"},{\"attributes\":{\"source\":{\"id\":\"50900bc3-d7af-4600-b915-efd4b74d95c0\",\"type\":\"ColumnDataSource\"}},\"id\":\"cd4bfe10-7025-4e17-92da-e2d1bb0169ac\",\"type\":\"CDSView\"},{\"attributes\":{},\"id\":\"fc970fcb-b886-45e2-a7b1-1821e377dc1e\",\"type\":\"UnionRenderers\"},{\"attributes\":{\"data_source\":{\"id\":\"a57999ae-563b-4898-8503-347b17d0a41f\",\"type\":\"ColumnDataSource\"},\"glyph\":{\"id\":\"92309dd9-2aee-461e-a481-3706d95ac671\",\"type\":\"Line\"},\"hover_glyph\":null,\"muted_glyph\":null,\"nonselection_glyph\":{\"id\":\"f28bd8bf-fec2-4282-8a82-bdc7859d8533\",\"type\":\"Line\"},\"selection_glyph\":null,\"view\":{\"id\":\"7943939b-d684-47bf-9c5c-c9d75a2e74db\",\"type\":\"CDSView\"}},\"id\":\"f91c537f-566e-4403-aae1-3a7325dadfa0\",\"type\":\"GlyphRenderer\"},{\"attributes\":{\"callback\":null,\"data\":{\"x\":[2,2],\"y\":[22,16]},\"selected\":{\"id\":\"918dde72-cd45-481b-904c-7371f63a5c9d\",\"type\":\"Selection\"},\"selection_policy\":{\"id\":\"a20de782-4e7f-4ee8-9c65-a89c32b8d0f4\",\"type\":\"UnionRenderers\"}},\"id\":\"cd282ea5-c36f-4b81-8966-a72a936fc1ad\",\"type\":\"ColumnDataSource\"},{\"attributes\":{},\"id\":\"3fc2face-af81-4fcd-a21d-6828a902b2e4\",\"type\":\"Selection\"},{\"attributes\":{\"source\":{\"id\":\"a57999ae-563b-4898-8503-347b17d0a41f\",\"type\":\"ColumnDataSource\"}},\"id\":\"7943939b-d684-47bf-9c5c-c9d75a2e74db\",\"type\":\"CDSView\"},{\"attributes\":{\"line_alpha\":0.6,\"line_color\":\"green\",\"line_width\":5,\"x\":{\"field\":\"x\"},\"y\":{\"field\":\"y\"}},\"id\":\"17d09001-f011-4ba2-bbb4-274692ac5b59\",\"type\":\"Line\"},{\"attributes\":{},\"id\":\"e45389ee-c101-4329-b6c1-48ea08e9c88d\",\"type\":\"UnionRenderers\"},{\"attributes\":{\"callback\":null,\"data\":{\"x\":[-2,-2],\"y\":[-8,0]},\"selected\":{\"id\":\"4cb673a7-c6c6-423e-b785-d55edf49c18b\",\"type\":\"Selection\"},\"selection_policy\":{\"id\":\"f35cbf5e-9f3d-478b-ba5b-0f2ba748360e\",\"type\":\"UnionRenderers\"}},\"id\":\"72f03eac-07a3-419f-b593-99c2bc583ea7\",\"type\":\"ColumnDataSource\"},{\"attributes\":{\"line_alpha\":0.1,\"line_color\":\"#1f77b4\",\"line_width\":5,\"x\":{\"field\":\"x\"},\"y\":{\"field\":\"y\"}},\"id\":\"f427fb92-0d46-4ffd-9817-e9f35619c916\",\"type\":\"Line\"},{\"attributes\":{},\"id\":\"0ece8abb-815f-4b11-ac42-1e12b3e8052f\",\"type\":\"Selection\"},{\"attributes\":{},\"id\":\"4608a5ea-27e2-4cbe-89ac-b8e4f6ae955f\",\"type\":\"LinearScale\"},{\"attributes\":{\"data_source\":{\"id\":\"cd282ea5-c36f-4b81-8966-a72a936fc1ad\",\"type\":\"ColumnDataSource\"},\"glyph\":{\"id\":\"17d09001-f011-4ba2-bbb4-274692ac5b59\",\"type\":\"Line\"},\"hover_glyph\":null,\"muted_glyph\":null,\"nonselection_glyph\":{\"id\":\"f427fb92-0d46-4ffd-9817-e9f35619c916\",\"type\":\"Line\"},\"selection_glyph\":null,\"view\":{\"id\":\"07706bae-cb07-4096-8ced-8a8f97e79e27\",\"type\":\"CDSView\"}},\"id\":\"660821dc-dea2-4cc1-82a6-9b2cec19d0e4\",\"type\":\"GlyphRenderer\"},{\"attributes\":{\"line_alpha\":0.4,\"line_width\":5,\"x\":{\"field\":\"x\"},\"y\":{\"field\":\"y\"}},\"id\":\"1bf38d7d-eedb-4b23-9baf-b329a6cdbdeb\",\"type\":\"Line\"},{\"attributes\":{},\"id\":\"8fca8caa-d5c4-4fc9-8165-dea1784ed70b\",\"type\":\"UnionRenderers\"},{\"attributes\":{\"line_alpha\":0.1,\"line_color\":\"#1f77b4\",\"line_width\":5,\"x\":{\"field\":\"x\"},\"y\":{\"field\":\"y\"}},\"id\":\"30464396-7c5f-40a2-bf86-9bca28248ac8\",\"type\":\"Line\"},{\"attributes\":{\"source\":{\"id\":\"cd282ea5-c36f-4b81-8966-a72a936fc1ad\",\"type\":\"ColumnDataSource\"}},\"id\":\"07706bae-cb07-4096-8ced-8a8f97e79e27\",\"type\":\"CDSView\"},{\"attributes\":{},\"id\":\"a3563d66-949a-45f4-b39d-622e6b52ed18\",\"type\":\"Selection\"},{\"attributes\":{\"data_source\":{\"id\":\"72f03eac-07a3-419f-b593-99c2bc583ea7\",\"type\":\"ColumnDataSource\"},\"glyph\":{\"id\":\"1bf38d7d-eedb-4b23-9baf-b329a6cdbdeb\",\"type\":\"Line\"},\"hover_glyph\":null,\"muted_glyph\":null,\"nonselection_glyph\":{\"id\":\"30464396-7c5f-40a2-bf86-9bca28248ac8\",\"type\":\"Line\"},\"selection_glyph\":null,\"view\":{\"id\":\"e639c0ce-7822-4cb0-8e52-1295970eb352\",\"type\":\"CDSView\"}},\"id\":\"b1a238db-7a24-46a4-aa17-f9340cb676a4\",\"type\":\"GlyphRenderer\"},{\"attributes\":{\"callback\":null,\"data\":{\"x\":[3,3],\"y\":[27,0]},\"selected\":{\"id\":\"2a8c8fe2-7ef5-453d-965b-edfb7ec5a95d\",\"type\":\"Selection\"},\"selection_policy\":{\"id\":\"eaeefdf0-c639-407e-8183-599cdabfcf1b\",\"type\":\"UnionRenderers\"}},\"id\":\"936f34f4-61d4-4abd-b11e-70158bd2a6f5\",\"type\":\"ColumnDataSource\"},{\"attributes\":{},\"id\":\"3339c4ca-b766-41d5-99f6-850af7d2604e\",\"type\":\"UnionRenderers\"},{\"attributes\":{\"source\":{\"id\":\"72f03eac-07a3-419f-b593-99c2bc583ea7\",\"type\":\"ColumnDataSource\"}},\"id\":\"e639c0ce-7822-4cb0-8e52-1295970eb352\",\"type\":\"CDSView\"},{\"attributes\":{\"line_alpha\":0.4,\"line_width\":5,\"x\":{\"field\":\"x\"},\"y\":{\"field\":\"y\"}},\"id\":\"a1e7b134-7c5f-4f28-8995-fef3468b3bb9\",\"type\":\"Line\"},{\"attributes\":{},\"id\":\"5ed95b7b-15cf-439c-8483-5b26fa98966b\",\"type\":\"Selection\"},{\"attributes\":{\"callback\":null,\"data\":{\"x\":[-2,-2],\"y\":[0,-8]},\"selected\":{\"id\":\"8642ab40-9088-4f0e-afab-41278426db66\",\"type\":\"Selection\"},\"selection_policy\":{\"id\":\"9336a735-93d3-4192-94de-307fac4d7803\",\"type\":\"UnionRenderers\"}},\"id\":\"eab47441-6903-4360-8d33-0d5e2080f5ee\",\"type\":\"ColumnDataSource\"},{\"attributes\":{\"line_alpha\":0.1,\"line_color\":\"#1f77b4\",\"line_width\":5,\"x\":{\"field\":\"x\"},\"y\":{\"field\":\"y\"}},\"id\":\"6a7ed847-9947-4424-89ca-e041e63548f7\",\"type\":\"Line\"},{\"attributes\":{},\"id\":\"f35cbf5e-9f3d-478b-ba5b-0f2ba748360e\",\"type\":\"UnionRenderers\"},{\"attributes\":{\"data_source\":{\"id\":\"936f34f4-61d4-4abd-b11e-70158bd2a6f5\",\"type\":\"ColumnDataSource\"},\"glyph\":{\"id\":\"a1e7b134-7c5f-4f28-8995-fef3468b3bb9\",\"type\":\"Line\"},\"hover_glyph\":null,\"muted_glyph\":null,\"nonselection_glyph\":{\"id\":\"6a7ed847-9947-4424-89ca-e041e63548f7\",\"type\":\"Line\"},\"selection_glyph\":null,\"view\":{\"id\":\"0b3ef19d-053b-4352-a585-e267a3604140\",\"type\":\"CDSView\"}},\"id\":\"44abc403-e327-4126-93dc-2e3b89974ae1\",\"type\":\"GlyphRenderer\"},{\"attributes\":{\"line_alpha\":0.4,\"line_color\":\"orange\",\"line_width\":5,\"x\":{\"field\":\"x\"},\"y\":{\"field\":\"y\"}},\"id\":\"5eb0125e-fe97-408b-a6e4-5f350d516274\",\"type\":\"Line\"},{\"attributes\":{},\"id\":\"4cb673a7-c6c6-423e-b785-d55edf49c18b\",\"type\":\"Selection\"},{\"attributes\":{\"line_alpha\":0.1,\"line_color\":\"#1f77b4\",\"line_width\":5,\"x\":{\"field\":\"x\"},\"y\":{\"field\":\"y\"}},\"id\":\"069bc701-5bbb-4d42-ba48-e327045eff09\",\"type\":\"Line\"},{\"attributes\":{\"source\":{\"id\":\"936f34f4-61d4-4abd-b11e-70158bd2a6f5\",\"type\":\"ColumnDataSource\"}},\"id\":\"0b3ef19d-053b-4352-a585-e267a3604140\",\"type\":\"CDSView\"},{\"attributes\":{},\"id\":\"9336a735-93d3-4192-94de-307fac4d7803\",\"type\":\"UnionRenderers\"},{\"attributes\":{\"data_source\":{\"id\":\"eab47441-6903-4360-8d33-0d5e2080f5ee\",\"type\":\"ColumnDataSource\"},\"glyph\":{\"id\":\"5eb0125e-fe97-408b-a6e4-5f350d516274\",\"type\":\"Line\"},\"hover_glyph\":null,\"muted_glyph\":null,\"nonselection_glyph\":{\"id\":\"069bc701-5bbb-4d42-ba48-e327045eff09\",\"type\":\"Line\"},\"selection_glyph\":null,\"view\":{\"id\":\"23fb819c-9ff7-40ce-8305-0c1038393c61\",\"type\":\"CDSView\"}},\"id\":\"2575c63a-cd22-42f4-946f-c7b70b8e1921\",\"type\":\"GlyphRenderer\"},{\"attributes\":{\"callback\":null,\"data\":{\"x\":[3,3],\"y\":[45,27]},\"selected\":{\"id\":\"46f038f7-95cb-4cd4-8404-74e51bd9a667\",\"type\":\"Selection\"},\"selection_policy\":{\"id\":\"6eab4a40-3811-4ea6-be18-1c3b2633b7ab\",\"type\":\"UnionRenderers\"}},\"id\":\"e24eafe5-3c7e-49cc-abf2-739ec815c848\",\"type\":\"ColumnDataSource\"},{\"attributes\":{},\"id\":\"8642ab40-9088-4f0e-afab-41278426db66\",\"type\":\"Selection\"},{\"attributes\":{\"source\":{\"id\":\"eab47441-6903-4360-8d33-0d5e2080f5ee\",\"type\":\"ColumnDataSource\"}},\"id\":\"23fb819c-9ff7-40ce-8305-0c1038393c61\",\"type\":\"CDSView\"},{\"attributes\":{\"line_alpha\":0.4,\"line_color\":\"orange\",\"line_width\":5,\"x\":{\"field\":\"x\"},\"y\":{\"field\":\"y\"}},\"id\":\"ef1d1df1-101f-41d5-b414-1f88ecdee87c\",\"type\":\"Line\"},{\"attributes\":{},\"id\":\"3930b064-22bd-455d-b25e-9e71f2e0eb75\",\"type\":\"UnionRenderers\"},{\"attributes\":{\"callback\":null,\"data\":{\"x\":[-2,-2],\"y\":[-6,0]},\"selected\":{\"id\":\"a46f1cdc-3d31-48f7-8d85-6bf923e1ee41\",\"type\":\"Selection\"},\"selection_policy\":{\"id\":\"3930b064-22bd-455d-b25e-9e71f2e0eb75\",\"type\":\"UnionRenderers\"}},\"id\":\"8b5873c7-099b-42a6-b460-f5392a7e6164\",\"type\":\"ColumnDataSource\"},{\"attributes\":{\"line_alpha\":0.1,\"line_color\":\"#1f77b4\",\"line_width\":5,\"x\":{\"field\":\"x\"},\"y\":{\"field\":\"y\"}},\"id\":\"4c9f7d62-3848-4656-8ea6-3c4c1d22387f\",\"type\":\"Line\"},{\"attributes\":{},\"id\":\"a46f1cdc-3d31-48f7-8d85-6bf923e1ee41\",\"type\":\"Selection\"},{\"attributes\":{\"data_source\":{\"id\":\"e24eafe5-3c7e-49cc-abf2-739ec815c848\",\"type\":\"ColumnDataSource\"},\"glyph\":{\"id\":\"ef1d1df1-101f-41d5-b414-1f88ecdee87c\",\"type\":\"Line\"},\"hover_glyph\":null,\"muted_glyph\":null,\"nonselection_glyph\":{\"id\":\"4c9f7d62-3848-4656-8ea6-3c4c1d22387f\",\"type\":\"Line\"},\"selection_glyph\":null,\"view\":{\"id\":\"0441aa4b-7692-4cf9-93a1-8097eb2e5459\",\"type\":\"CDSView\"}},\"id\":\"511df446-ab36-4fb6-b00e-459c0fab5910\",\"type\":\"GlyphRenderer\"},{\"attributes\":{\"line_alpha\":0.6,\"line_color\":\"green\",\"line_width\":5,\"x\":{\"field\":\"x\"},\"y\":{\"field\":\"y\"}},\"id\":\"6e02a4fb-cf53-47de-8087-e6ffc3ada5f0\",\"type\":\"Line\"},{\"attributes\":{},\"id\":\"c65e9256-96b5-47ef-8c87-f8dd6ceecdc2\",\"type\":\"UnionRenderers\"},{\"attributes\":{},\"id\":\"dc70ecca-9448-4a2e-bc9e-e5a226b9e7dd\",\"type\":\"Selection\"},{\"attributes\":{\"line_alpha\":0.1,\"line_color\":\"#1f77b4\",\"line_width\":5,\"x\":{\"field\":\"x\"},\"y\":{\"field\":\"y\"}},\"id\":\"e234fb64-54fc-4f8a-ae86-9a6b583771d5\",\"type\":\"Line\"},{\"attributes\":{\"source\":{\"id\":\"e24eafe5-3c7e-49cc-abf2-739ec815c848\",\"type\":\"ColumnDataSource\"}},\"id\":\"0441aa4b-7692-4cf9-93a1-8097eb2e5459\",\"type\":\"CDSView\"},{\"attributes\":{\"data_source\":{\"id\":\"8b5873c7-099b-42a6-b460-f5392a7e6164\",\"type\":\"ColumnDataSource\"},\"glyph\":{\"id\":\"6e02a4fb-cf53-47de-8087-e6ffc3ada5f0\",\"type\":\"Line\"},\"hover_glyph\":null,\"muted_glyph\":null,\"nonselection_glyph\":{\"id\":\"e234fb64-54fc-4f8a-ae86-9a6b583771d5\",\"type\":\"Line\"},\"selection_glyph\":null,\"view\":{\"id\":\"01973d88-2663-452f-ac61-ee7cd871ca4a\",\"type\":\"CDSView\"}},\"id\":\"9d638033-f6c7-44b5-9a4b-157b99192f49\",\"type\":\"GlyphRenderer\"},{\"attributes\":{\"callback\":null,\"data\":{\"x\":[3,3],\"y\":[54,45]},\"selected\":{\"id\":\"2c492e4a-1a7a-492d-9148-18aa1e477b20\",\"type\":\"Selection\"},\"selection_policy\":{\"id\":\"ee32d5cb-b08d-4fa8-b31d-f22a11c5f569\",\"type\":\"UnionRenderers\"}},\"id\":\"c7ca358d-1d54-4c6b-a808-534b4e364ea0\",\"type\":\"ColumnDataSource\"},{\"attributes\":{},\"id\":\"5e07e1a5-9d93-43b2-96a5-41ee289c9ddf\",\"type\":\"UnionRenderers\"},{\"attributes\":{\"source\":{\"id\":\"8b5873c7-099b-42a6-b460-f5392a7e6164\",\"type\":\"ColumnDataSource\"}},\"id\":\"01973d88-2663-452f-ac61-ee7cd871ca4a\",\"type\":\"CDSView\"},{\"attributes\":{\"line_alpha\":0.6,\"line_color\":\"green\",\"line_width\":5,\"x\":{\"field\":\"x\"},\"y\":{\"field\":\"y\"}},\"id\":\"6a0f2a08-2807-4f39-bef1-362c07305c98\",\"type\":\"Line\"},{\"attributes\":{},\"id\":\"11026bf9-37fc-47d0-aab7-e5f5bcdfaafe\",\"type\":\"Selection\"},{\"attributes\":{\"callback\":null,\"data\":{\"x\":[-1,-1],\"y\":[-1,0]},\"selected\":{\"id\":\"dc70ecca-9448-4a2e-bc9e-e5a226b9e7dd\",\"type\":\"Selection\"},\"selection_policy\":{\"id\":\"c65e9256-96b5-47ef-8c87-f8dd6ceecdc2\",\"type\":\"UnionRenderers\"}},\"id\":\"68a60fb4-0715-4423-9dbb-90ac181b3a35\",\"type\":\"ColumnDataSource\"},{\"attributes\":{\"line_alpha\":0.1,\"line_color\":\"#1f77b4\",\"line_width\":5,\"x\":{\"field\":\"x\"},\"y\":{\"field\":\"y\"}},\"id\":\"a4225aaa-89f3-4876-a057-e82603f5e83d\",\"type\":\"Line\"},{\"attributes\":{},\"id\":\"7d802943-e640-482f-8281-ca5534738d27\",\"type\":\"UnionRenderers\"},{\"attributes\":{\"data_source\":{\"id\":\"c7ca358d-1d54-4c6b-a808-534b4e364ea0\",\"type\":\"ColumnDataSource\"},\"glyph\":{\"id\":\"6a0f2a08-2807-4f39-bef1-362c07305c98\",\"type\":\"Line\"},\"hover_glyph\":null,\"muted_glyph\":null,\"nonselection_glyph\":{\"id\":\"a4225aaa-89f3-4876-a057-e82603f5e83d\",\"type\":\"Line\"},\"selection_glyph\":null,\"view\":{\"id\":\"e3bd6674-465f-46e7-abac-7f4f9f38480c\",\"type\":\"CDSView\"}},\"id\":\"7cd16a8c-3a8d-491b-8174-193ef9f444e1\",\"type\":\"GlyphRenderer\"},{\"attributes\":{\"line_alpha\":0.4,\"line_width\":5,\"x\":{\"field\":\"x\"},\"y\":{\"field\":\"y\"}},\"id\":\"516c23a6-5402-4ab6-bf64-3755ec7cde75\",\"type\":\"Line\"},{\"attributes\":{},\"id\":\"efce7cec-541e-48c7-b2a8-d80a08f9ad3c\",\"type\":\"Selection\"},{\"attributes\":{\"line_alpha\":0.1,\"line_color\":\"#1f77b4\",\"line_width\":5,\"x\":{\"field\":\"x\"},\"y\":{\"field\":\"y\"}},\"id\":\"e9dfd205-5e6c-402f-990d-6901aeaa2448\",\"type\":\"Line\"},{\"attributes\":{\"source\":{\"id\":\"c7ca358d-1d54-4c6b-a808-534b4e364ea0\",\"type\":\"ColumnDataSource\"}},\"id\":\"e3bd6674-465f-46e7-abac-7f4f9f38480c\",\"type\":\"CDSView\"},{\"attributes\":{},\"id\":\"cc81c5f7-0c7c-4d78-a106-018385524558\",\"type\":\"UnionRenderers\"},{\"attributes\":{\"data_source\":{\"id\":\"68a60fb4-0715-4423-9dbb-90ac181b3a35\",\"type\":\"ColumnDataSource\"},\"glyph\":{\"id\":\"516c23a6-5402-4ab6-bf64-3755ec7cde75\",\"type\":\"Line\"},\"hover_glyph\":null,\"muted_glyph\":null,\"nonselection_glyph\":{\"id\":\"e9dfd205-5e6c-402f-990d-6901aeaa2448\",\"type\":\"Line\"},\"selection_glyph\":null,\"view\":{\"id\":\"70c82d85-43f3-40e6-b0bd-642515bc1b1e\",\"type\":\"CDSView\"}},\"id\":\"84f19f18-0679-422b-aa0d-72aa852ae5d6\",\"type\":\"GlyphRenderer\"},{\"attributes\":{\"callback\":null,\"data\":{\"x\":[4,4],\"y\":[64,0]},\"selected\":{\"id\":\"fc19d59d-dcc5-4bbf-923f-5c2d242ed7f7\",\"type\":\"Selection\"},\"selection_policy\":{\"id\":\"511b34d8-3ca8-4b20-aa51-071a34aa803f\",\"type\":\"UnionRenderers\"}},\"id\":\"e4a74770-87a4-4390-b9b7-be7572624615\",\"type\":\"ColumnDataSource\"},{\"attributes\":{},\"id\":\"7e9c650d-1a23-4335-b8b1-b269ca621bf6\",\"type\":\"Selection\"},{\"attributes\":{\"source\":{\"id\":\"68a60fb4-0715-4423-9dbb-90ac181b3a35\",\"type\":\"ColumnDataSource\"}},\"id\":\"70c82d85-43f3-40e6-b0bd-642515bc1b1e\",\"type\":\"CDSView\"},{\"attributes\":{\"line_alpha\":0.4,\"line_width\":5,\"x\":{\"field\":\"x\"},\"y\":{\"field\":\"y\"}},\"id\":\"86468a65-7017-4b1b-a44e-d7437fa11dff\",\"type\":\"Line\"},{\"attributes\":{},\"id\":\"7dc64080-e9cb-4f72-b8e3-67892227e324\",\"type\":\"UnionRenderers\"},{\"attributes\":{\"callback\":null,\"data\":{\"x\":[-1,-1],\"y\":[1,-1]},\"selected\":{\"id\":\"11026bf9-37fc-47d0-aab7-e5f5bcdfaafe\",\"type\":\"Selection\"},\"selection_policy\":{\"id\":\"5e07e1a5-9d93-43b2-96a5-41ee289c9ddf\",\"type\":\"UnionRenderers\"}},\"id\":\"96102a24-2d18-4db8-9016-3ec9b4ec9be6\",\"type\":\"ColumnDataSource\"},{\"attributes\":{\"line_alpha\":0.1,\"line_color\":\"#1f77b4\",\"line_width\":5,\"x\":{\"field\":\"x\"},\"y\":{\"field\":\"y\"}},\"id\":\"01e914b9-5082-4c75-b9b6-cbbd6c958ac9\",\"type\":\"Line\"},{\"attributes\":{},\"id\":\"59b2ac1b-0517-4259-b050-41831f49a741\",\"type\":\"Selection\"},{\"attributes\":{\"data_source\":{\"id\":\"e4a74770-87a4-4390-b9b7-be7572624615\",\"type\":\"ColumnDataSource\"},\"glyph\":{\"id\":\"86468a65-7017-4b1b-a44e-d7437fa11dff\",\"type\":\"Line\"},\"hover_glyph\":null,\"muted_glyph\":null,\"nonselection_glyph\":{\"id\":\"01e914b9-5082-4c75-b9b6-cbbd6c958ac9\",\"type\":\"Line\"},\"selection_glyph\":null,\"view\":{\"id\":\"5313955b-49c4-4465-ae2d-89190fb0a9b7\",\"type\":\"CDSView\"}},\"id\":\"50ce0059-5d73-4fcb-a758-7430ffbe1bc3\",\"type\":\"GlyphRenderer\"},{\"attributes\":{\"line_alpha\":0.4,\"line_color\":\"orange\",\"line_width\":5,\"x\":{\"field\":\"x\"},\"y\":{\"field\":\"y\"}},\"id\":\"39f9ef93-6b17-4844-8248-612722e685bb\",\"type\":\"Line\"},{\"attributes\":{},\"id\":\"2c71edac-23d5-4a9d-9893-66b45850210a\",\"type\":\"UnionRenderers\"},{\"attributes\":{},\"id\":\"33d13298-8613-40be-804c-0abac5aced46\",\"type\":\"Selection\"},{\"attributes\":{\"line_alpha\":0.1,\"line_color\":\"#1f77b4\",\"line_width\":5,\"x\":{\"field\":\"x\"},\"y\":{\"field\":\"y\"}},\"id\":\"559c436e-2be3-44cd-9504-0f55e48eb839\",\"type\":\"Line\"},{\"attributes\":{\"source\":{\"id\":\"e4a74770-87a4-4390-b9b7-be7572624615\",\"type\":\"ColumnDataSource\"}},\"id\":\"5313955b-49c4-4465-ae2d-89190fb0a9b7\",\"type\":\"CDSView\"},{\"attributes\":{\"data_source\":{\"id\":\"96102a24-2d18-4db8-9016-3ec9b4ec9be6\",\"type\":\"ColumnDataSource\"},\"glyph\":{\"id\":\"39f9ef93-6b17-4844-8248-612722e685bb\",\"type\":\"Line\"},\"hover_glyph\":null,\"muted_glyph\":null,\"nonselection_glyph\":{\"id\":\"559c436e-2be3-44cd-9504-0f55e48eb839\",\"type\":\"Line\"},\"selection_glyph\":null,\"view\":{\"id\":\"9e81935d-8f3e-48f3-b3ac-1f33c75e9253\",\"type\":\"CDSView\"}},\"id\":\"9519b72c-e52e-4343-9b68-b14f89fd1e34\",\"type\":\"GlyphRenderer\"},{\"attributes\":{\"callback\":null,\"data\":{\"x\":[4,4],\"y\":[96,64]},\"selected\":{\"id\":\"112e4c6c-faf4-4d95-aef7-c4f045f84237\",\"type\":\"Selection\"},\"selection_policy\":{\"id\":\"cac03b4e-a9c8-4b2b-afe9-8c25803e0622\",\"type\":\"UnionRenderers\"}},\"id\":\"856fdacf-14b9-4b83-af36-995c506683d2\",\"type\":\"ColumnDataSource\"},{\"attributes\":{},\"id\":\"1493cb80-b086-4087-878f-b2d531c8be0a\",\"type\":\"UnionRenderers\"},{\"attributes\":{\"source\":{\"id\":\"96102a24-2d18-4db8-9016-3ec9b4ec9be6\",\"type\":\"ColumnDataSource\"}},\"id\":\"9e81935d-8f3e-48f3-b3ac-1f33c75e9253\",\"type\":\"CDSView\"},{\"attributes\":{\"line_alpha\":0.4,\"line_color\":\"orange\",\"line_width\":5,\"x\":{\"field\":\"x\"},\"y\":{\"field\":\"y\"}},\"id\":\"7e994a8d-4ca1-4d87-91cf-0442a84430d3\",\"type\":\"Line\"},{\"attributes\":{},\"id\":\"cc0ccfb4-5db2-436b-ab71-123e5ca76402\",\"type\":\"Selection\"},{\"attributes\":{},\"id\":\"a3c48b5e-6a6f-4b5f-a798-906ba3d2fd5d\",\"type\":\"BasicTicker\"},{\"attributes\":{\"callback\":null,\"data\":{\"x\":[-1,-1],\"y\":[-2,1]},\"selected\":{\"id\":\"efce7cec-541e-48c7-b2a8-d80a08f9ad3c\",\"type\":\"Selection\"},\"selection_policy\":{\"id\":\"7d802943-e640-482f-8281-ca5534738d27\",\"type\":\"UnionRenderers\"}},\"id\":\"99909723-ca5a-4f51-aa8d-1e39a1eff71c\",\"type\":\"ColumnDataSource\"},{\"attributes\":{\"line_alpha\":0.1,\"line_color\":\"#1f77b4\",\"line_width\":5,\"x\":{\"field\":\"x\"},\"y\":{\"field\":\"y\"}},\"id\":\"957de3ef-8685-4c06-b2d4-5b48a8e7d271\",\"type\":\"Line\"},{\"attributes\":{},\"id\":\"367e50ba-7095-4bef-8745-52090919a52f\",\"type\":\"UnionRenderers\"},{\"attributes\":{\"callback\":null},\"id\":\"d3df260e-cedd-49fc-828a-c13faba6338f\",\"type\":\"DataRange1d\"},{\"attributes\":{},\"id\":\"b90b9d7a-e225-4edb-9dcd-26f3e1eadf2d\",\"type\":\"Selection\"},{\"attributes\":{\"axis_label\":\"X\",\"formatter\":{\"id\":\"23e97585-697c-4c08-99e4-854bb5bb7328\",\"type\":\"BasicTickFormatter\"},\"plot\":{\"id\":\"caaff9b7-0503-44a1-b771-5445ff08bd91\",\"subtype\":\"Figure\",\"type\":\"Plot\"},\"ticker\":{\"id\":\"a3c48b5e-6a6f-4b5f-a798-906ba3d2fd5d\",\"type\":\"BasicTicker\"}},\"id\":\"c6ec9644-be80-4f8d-8719-9751c1ef2f15\",\"type\":\"LinearAxis\"},{\"attributes\":{\"plot\":{\"id\":\"caaff9b7-0503-44a1-b771-5445ff08bd91\",\"subtype\":\"Figure\",\"type\":\"Plot\"},\"ticker\":{\"id\":\"a3c48b5e-6a6f-4b5f-a798-906ba3d2fd5d\",\"type\":\"BasicTicker\"}},\"id\":\"c9cf55a3-61c4-4cc3-9968-adfbb3e34c9c\",\"type\":\"Grid\"},{\"attributes\":{\"source\":{\"id\":\"20d05bc0-4000-4287-94ec-04d63bd0db48\",\"type\":\"ColumnDataSource\"}},\"id\":\"dba70474-70cf-41c7-9e98-770c9f102037\",\"type\":\"CDSView\"},{\"attributes\":{},\"id\":\"6c86ee6c-81a2-4a66-8e30-4f582e631226\",\"type\":\"BasicTickFormatter\"},{\"attributes\":{\"callback\":null,\"data\":{\"x\":{\"__ndarray__\":\"AAAAAAAAFMCamZmZmZkTwDQzMzMzMxPAzszMzMzMEsBoZmZmZmYSwAIAAAAAABLAnJmZmZmZEcA2MzMzMzMRwNDMzMzMzBDAamZmZmZmEMAEAAAAAAAQwDwzMzMzMw/AcGZmZmZmDsCkmZmZmZkNwNjMzMzMzAzADAAAAAAADMBAMzMzMzMLwHRmZmZmZgrAqJmZmZmZCcDczMzMzMwIwBAAAAAAAAjARDMzMzMzB8B4ZmZmZmYGwKyZmZmZmQXA4MzMzMzMBMAUAAAAAAAEwEgzMzMzMwPAfGZmZmZmAsCwmZmZmZkBwOTMzMzMzADAGAAAAAAAAMCYZmZmZmb+vwDNzMzMzPy/aDMzMzMz+7/QmZmZmZn5vzgAAAAAAPi/oGZmZmZm9r8IzczMzMz0v3AzMzMzM/O/2JmZmZmZ8b9AAAAAAADwv1DNzMzMzOy/IJqZmZmZ6b/wZmZmZmbmv8AzMzMzM+O/kAAAAAAA4L/AmpmZmZnZv2A0MzMzM9O/AJyZmZmZyb+AnpmZmZm5vwAAAAAAABS9gJSZmZmZuT8Al5mZmZnJP+AxMzMzM9M/QJiZmZmZ2T+g/v/////fP4AyMzMzM+M/sGVmZmZm5j/gmJmZmZnpPxDMzMzMzOw/QP//////7z84mZmZmZnxP9AyMzMzM/M/aMzMzMzM9D8AZmZmZmb2P5j///////c/MJmZmZmZ+T/IMjMzMzP7P2DMzMzMzPw/+GVmZmZm/j+Q////////P5TMzMzMzABAYJmZmZmZAUAsZmZmZmYCQPgyMzMzMwNAxP//////A0CQzMzMzMwEQFyZmZmZmQVAKGZmZmZmBkD0MjMzMzMHQMD//////wdAjMzMzMzMCEBYmZmZmZkJQCRmZmZmZgpA8DIzMzMzC0C8//////8LQIjMzMzMzAxAVJmZmZmZDUAgZmZmZmYOQOwyMzMzMw9AuP//////D0BCZmZmZmYQQKjMzMzMzBBADjMzMzMzEUB0mZmZmZkRQNr//////xFAQGZmZmZmEkCmzMzMzMwSQAwzMzMzMxNAcpmZmZmZE0DY//////8TQA==\",\"dtype\":\"float64\",\"shape\":[101]},\"y\":{\"__ndarray__\":\"AAAAAABAX8Cqxks3iWldwN3O91PjpVvA7iYxCKz0WcA13SQGgVVYwAgAAAAAyFbAu53vp8ZLVcClxCCwcuBTwB2DwMqhhVLAeOf7qfE6UcAMAAAAAABQwF+28/3UqE3AcA4tsp1vS8D4JAaBlVNJwKIW2c73U0fAHAAAAABwRcAP/tR46aZDwCotsp3v90HAGKrx0k1iQMAII9v5fso9wDYAAAAAADvAEiUGgZVjOMD0yqFFtvM1wDQrhxbZrjPAK39qvHSTMcBeAAAAAEAvwDPP91PjpSvAhd0kBoFVKMADnu+nxkslwF+DwMqhhSLASAAAAAAAIMDcDi2ynW8bwAQX2c73UxfAZv7UeOmmE8BkqvHSTWIQwL0AAAAAAAvAasuhRbbzBcCQf2q8dJMBwODP91Pjpfu/lZ7vp8ZL9b/AAAAAAADwv8YX2c73U+e//qrx0k1i4L9VzKFFtvPVvznR91Pjpcu/sAEAAAAAwL8xrPHSTWKwv+3T91PjpZu/mK7x0k1igL9ks/HSTWJQvwAAAAAAQF+3MaDx0k1iUD/+pPHSTWKAPyDJ91PjpZs/ZKfx0k1isD/g+/////+/P9PL91Pjpcs/qMihRbbz1T+YqPHSTWLgP7wU2c73U+c/wP3/////7z9QnO+nxkv1Py3N91Pjpfs/+n1qvHSTAUCTyaFFtvMFQKH+/////wpAManx0k1iEEAL/dR46aYTQH8V2c73UxdAKw0tsp1vG0Cw/v////8fQFeCwMqhhSJA4Zzvp8ZLJUBH3CQGgVUoQNnN91PjpStA5/7///8/L0Bgfmq8dJMxQFoqhxbZrjNACcqhRbbzNUAWJAaBlWM4QCj//////zpA5yHb+X7KPUB+qfHSTWJAQIcssp3v90FAYv3UeOmmQ0Bk/////29FQOAV2c73U0dAKyQGgZVTSUCXDS2ynW9LQHu18/3UqE1AKP//////T0D65vup8TpRQJmCwMqhhVJAG8QgsHLgU0Aqne+nxktVQHD/////x1ZAl9wkBoFVWEBJJjEIrPRZQDDO91PjpVtA9sVLN4lpXUBE/////z9fQA==\",\"dtype\":\"float64\",\"shape\":[101]}},\"selected\":{\"id\":\"0509c979-8191-453d-b293-58163e5750c2\",\"type\":\"Selection\"},\"selection_policy\":{\"id\":\"84af6bf4-7a3d-4c7f-9a26-f65217866c81\",\"type\":\"UnionRenderers\"}},\"id\":\"20d05bc0-4000-4287-94ec-04d63bd0db48\",\"type\":\"ColumnDataSource\"},{\"attributes\":{\"below\":[{\"id\":\"c6ec9644-be80-4f8d-8719-9751c1ef2f15\",\"type\":\"LinearAxis\"}],\"left\":[{\"id\":\"865b9266-a7c6-49be-83bd-99abdad77b06\",\"type\":\"LinearAxis\"}],\"plot_height\":400,\"plot_width\":475,\"renderers\":[{\"id\":\"c6ec9644-be80-4f8d-8719-9751c1ef2f15\",\"type\":\"LinearAxis\"},{\"id\":\"c9cf55a3-61c4-4cc3-9968-adfbb3e34c9c\",\"type\":\"Grid\"},{\"id\":\"865b9266-a7c6-49be-83bd-99abdad77b06\",\"type\":\"LinearAxis\"},{\"id\":\"8c32bbd9-f1f8-4193-8a59-c9cbf6ccf42f\",\"type\":\"Grid\"},{\"id\":\"f0d05f88-c9f1-4027-a0e2-51fc2a902412\",\"type\":\"BoxAnnotation\"},{\"id\":\"22682d96-c14b-48b7-ad83-c14a07e07786\",\"type\":\"Legend\"},{\"id\":\"325fbf96-01de-4674-a581-a58df6c13997\",\"type\":\"GlyphRenderer\"},{\"id\":\"10f4cb0b-e618-4245-9de6-1531f1519184\",\"type\":\"GlyphRenderer\"},{\"id\":\"ab67813e-3a8e-415f-a8bb-77bb3f18964b\",\"type\":\"GlyphRenderer\"}],\"title\":{\"id\":\"ca6680e1-df36-4878-83db-510b5b52c7e9\",\"type\":\"Title\"},\"toolbar\":{\"id\":\"3659c2aa-0f5e-4546-9c0c-6a8f5f6412f7\",\"type\":\"Toolbar\"},\"toolbar_location\":\"below\",\"x_range\":{\"id\":\"9fcd825b-49c6-431b-83b7-16a558adbcf8\",\"type\":\"DataRange1d\"},\"x_scale\":{\"id\":\"4608a5ea-27e2-4cbe-89ac-b8e4f6ae955f\",\"type\":\"LinearScale\"},\"y_range\":{\"id\":\"d3df260e-cedd-49fc-828a-c13faba6338f\",\"type\":\"DataRange1d\"},\"y_scale\":{\"id\":\"6f061f5e-2f87-4d79-82f5-3eac7e1ba0fb\",\"type\":\"LinearScale\"}},\"id\":\"caaff9b7-0503-44a1-b771-5445ff08bd91\",\"subtype\":\"Figure\",\"type\":\"Plot\"},{\"attributes\":{\"plot\":null,\"text\":\"Each Function Individually\"},\"id\":\"ca6680e1-df36-4878-83db-510b5b52c7e9\",\"type\":\"Title\"},{\"attributes\":{},\"id\":\"77341e8d-5a78-4b68-b7f7-e8e1d59a2c35\",\"type\":\"Selection\"},{\"attributes\":{\"active_drag\":\"auto\",\"active_inspect\":\"auto\",\"active_multi\":null,\"active_scroll\":\"auto\",\"active_tap\":\"auto\",\"tools\":[{\"id\":\"6468b894-5070-4aaf-8991-ea02867e8de2\",\"type\":\"PanTool\"},{\"id\":\"10047c6b-d886-4b63-a218-298fbf8c5dac\",\"type\":\"WheelZoomTool\"},{\"id\":\"8fe1e3bb-e821-47a2-a272-f4a38a2aa6fa\",\"type\":\"BoxZoomTool\"},{\"id\":\"46cfe87e-50e1-4a8e-be27-851436242bab\",\"type\":\"SaveTool\"},{\"id\":\"8f023865-7fe3-4249-8cbb-48e634b12f41\",\"type\":\"ResetTool\"},{\"id\":\"8bcac622-fcba-4483-a6f9-786b5d3d6eef\",\"type\":\"HelpTool\"}]},\"id\":\"3659c2aa-0f5e-4546-9c0c-6a8f5f6412f7\",\"type\":\"Toolbar\"},{\"attributes\":{\"axis_label\":\"f(X)\",\"formatter\":{\"id\":\"6c86ee6c-81a2-4a66-8e30-4f582e631226\",\"type\":\"BasicTickFormatter\"},\"plot\":{\"id\":\"caaff9b7-0503-44a1-b771-5445ff08bd91\",\"subtype\":\"Figure\",\"type\":\"Plot\"},\"ticker\":{\"id\":\"02fa111a-b3c5-4c57-9686-7d1e8bea6ab1\",\"type\":\"BasicTicker\"}},\"id\":\"865b9266-a7c6-49be-83bd-99abdad77b06\",\"type\":\"LinearAxis\"},{\"attributes\":{\"line_alpha\":0.1,\"line_color\":\"#1f77b4\",\"line_width\":2,\"x\":{\"field\":\"x\"},\"y\":{\"field\":\"y\"}},\"id\":\"d0e8d6e9-464f-4015-b0ee-a7e9e5ae2eb8\",\"type\":\"Line\"},{\"attributes\":{\"dimension\":1,\"plot\":{\"id\":\"caaff9b7-0503-44a1-b771-5445ff08bd91\",\"subtype\":\"Figure\",\"type\":\"Plot\"},\"ticker\":{\"id\":\"02fa111a-b3c5-4c57-9686-7d1e8bea6ab1\",\"type\":\"BasicTicker\"}},\"id\":\"8c32bbd9-f1f8-4193-8a59-c9cbf6ccf42f\",\"type\":\"Grid\"},{\"attributes\":{},\"id\":\"02fa111a-b3c5-4c57-9686-7d1e8bea6ab1\",\"type\":\"BasicTicker\"},{\"attributes\":{\"data_source\":{\"id\":\"20d05bc0-4000-4287-94ec-04d63bd0db48\",\"type\":\"ColumnDataSource\"},\"glyph\":{\"id\":\"f6f63fb9-2006-4907-911d-52a246eeb9d1\",\"type\":\"Line\"},\"hover_glyph\":null,\"muted_glyph\":null,\"nonselection_glyph\":{\"id\":\"d0e8d6e9-464f-4015-b0ee-a7e9e5ae2eb8\",\"type\":\"Line\"},\"selection_glyph\":null,\"view\":{\"id\":\"dba70474-70cf-41c7-9e98-770c9f102037\",\"type\":\"CDSView\"}},\"id\":\"325fbf96-01de-4674-a581-a58df6c13997\",\"type\":\"GlyphRenderer\"},{\"attributes\":{\"line_alpha\":0.5,\"line_width\":2,\"x\":{\"field\":\"x\"},\"y\":{\"field\":\"y\"}},\"id\":\"f6f63fb9-2006-4907-911d-52a246eeb9d1\",\"type\":\"Line\"},{\"attributes\":{\"callback\":null,\"data\":{\"x\":{\"__ndarray__\":\"AAAAAAAAFMCamZmZmZkTwDQzMzMzMxPAzszMzMzMEsBoZmZmZmYSwAIAAAAAABLAnJmZmZmZEcA2MzMzMzMRwNDMzMzMzBDAamZmZmZmEMAEAAAAAAAQwDwzMzMzMw/AcGZmZmZmDsCkmZmZmZkNwNjMzMzMzAzADAAAAAAADMBAMzMzMzMLwHRmZmZmZgrAqJmZmZmZCcDczMzMzMwIwBAAAAAAAAjARDMzMzMzB8B4ZmZmZmYGwKyZmZmZmQXA4MzMzMzMBMAUAAAAAAAEwEgzMzMzMwPAfGZmZmZmAsCwmZmZmZkBwOTMzMzMzADAGAAAAAAAAMCYZmZmZmb+vwDNzMzMzPy/aDMzMzMz+7/QmZmZmZn5vzgAAAAAAPi/oGZmZmZm9r8IzczMzMz0v3AzMzMzM/O/2JmZmZmZ8b9AAAAAAADwv1DNzMzMzOy/IJqZmZmZ6b/wZmZmZmbmv8AzMzMzM+O/kAAAAAAA4L/AmpmZmZnZv2A0MzMzM9O/AJyZmZmZyb+AnpmZmZm5vwAAAAAAABS9gJSZmZmZuT8Al5mZmZnJP+AxMzMzM9M/QJiZmZmZ2T+g/v/////fP4AyMzMzM+M/sGVmZmZm5j/gmJmZmZnpPxDMzMzMzOw/QP//////7z84mZmZmZnxP9AyMzMzM/M/aMzMzMzM9D8AZmZmZmb2P5j///////c/MJmZmZmZ+T/IMjMzMzP7P2DMzMzMzPw/+GVmZmZm/j+Q////////P5TMzMzMzABAYJmZmZmZAUAsZmZmZmYCQPgyMzMzMwNAxP//////A0CQzMzMzMwEQFyZmZmZmQVAKGZmZmZmBkD0MjMzMzMHQMD//////wdAjMzMzMzMCEBYmZmZmZkJQCRmZmZmZgpA8DIzMzMzC0C8//////8LQIjMzMzMzAxAVJmZmZmZDUAgZmZmZmYOQOwyMzMzMw9AuP//////D0BCZmZmZmYQQKjMzMzMzBBADjMzMzMzEUB0mZmZmZkRQNr//////xFAQGZmZmZmEkCmzMzMzMwSQAwzMzMzMxNAcpmZmZmZE0DY//////8TQA==\",\"dtype\":\"float64\",\"shape\":[101]},\"y\":{\"__ndarray__\":\"AAAAAAAASUDE9ShcjwJIQAzXo3A9CkdA2qNwPQoXRkAtXI/C9ShFQAUAAAAAQERAYY/C9ShcQ0BDCtejcH1CQKtwPQrXo0FAl8L1KFzPQEAIAAAAAABAQP1RuB6Faz5A9HoUrkfhPED1ehSuR2E7QABSuB6F6zlAFQAAAACAOEA0hetRuB43QF7hehSuxzVAkhSuR+F6NEDQHoXrUTgzQBgAAAAAADJAargehevRMECNj8L1KFwvQFtcj8L1KC1APNejcD0KK0AyAAAAAAApQDzXo3A9CidAW1yPwvUoJUCNj8L1KFwjQNVwPQrXoyFAMAAAAAAAIEBAexSuR+EcQEhSuB6F6xlAeIXrUbgeF0DSFK5H4XoUQFQAAAAAABJA/Y/C9ShcD0Ck16NwPQoLQJzXo3A9CgdA5Y/C9ShcA0CAAAAAAAAAQNhSuB6F6/k/UhWuR+F69D/dkML1KFzvP1zYo3A9Cuc/IAEAAAAA4D9SFq5H4XrUP9zZo3A9Csc/UhiuR+F6tD9SHK5H4XqUPwAAAAAAAEk6UgyuR+F6lD9SEK5H4Xq0P9zTo3A9Csc/UhKuR+F61D9A/f/////fP1zVo3A9Cuc/XY3C9Shc7z9SE65H4Xr0P5hQuB6F6/k/gP7//////z+FjsL1KFwDQBzWo3A9CgdABNajcD0KC0A9jsL1KFwPQGT//////xFA0hOuR+F6FEBohOtRuB4XQChRuB6F6xlAEHoUrkfhHEAg//////8fQC1wPQrXoyFA3Y7C9ShcI0CjW4/C9SglQHzWo3A9CidAav//////KEBs1qNwPQorQINbj8L1KC1ArY7C9ShcL0D2tx6F69EwQKD//////zFAVB6F61E4M0ASFK5H4Xo0QNrgehSuxzVArITrUbgeN0CJ/////384QHBRuB6F6zlAYXoUrkdhO0BcehSuR+E8QGFRuB6Faz5AcP//////P0BFwvUoXM9AQFdwPQrXo0FA7QnXo3B9QkAJj8L1KFxDQKv/////P0RA0VuPwvUoRUB8o3A9ChdGQKzWo3A9CkdAYvUoXI8CSECc//////9IQA==\",\"dtype\":\"float64\",\"shape\":[101]}},\"selected\":{\"id\":\"71f8226f-6f85-4dc4-8cd7-4b9c181e0b26\",\"type\":\"Selection\"},\"selection_policy\":{\"id\":\"c958b9d8-0cde-40da-a9d2-85b7e4915acd\",\"type\":\"UnionRenderers\"}},\"id\":\"9308da5d-5ac5-4f3f-88b2-6738ace5c9ed\",\"type\":\"ColumnDataSource\"},{\"attributes\":{\"callback\":null},\"id\":\"9fcd825b-49c6-431b-83b7-16a558adbcf8\",\"type\":\"DataRange1d\"},{\"attributes\":{\"items\":[{\"id\":\"e908f77a-c63b-41c7-9429-c8c80fb9c88d\",\"type\":\"LegendItem\"},{\"id\":\"74fe1969-6226-44e7-bc86-58343aa4b8f1\",\"type\":\"LegendItem\"},{\"id\":\"973e934a-32f3-4a76-ab6d-f419fec4286f\",\"type\":\"LegendItem\"}],\"location\":\"top_center\",\"plot\":{\"id\":\"caaff9b7-0503-44a1-b771-5445ff08bd91\",\"subtype\":\"Figure\",\"type\":\"Plot\"}},\"id\":\"22682d96-c14b-48b7-ad83-c14a07e07786\",\"type\":\"Legend\"},{\"attributes\":{},\"id\":\"6468b894-5070-4aaf-8991-ea02867e8de2\",\"type\":\"PanTool\"},{\"attributes\":{},\"id\":\"23e97585-697c-4c08-99e4-854bb5bb7328\",\"type\":\"BasicTickFormatter\"},{\"attributes\":{},\"id\":\"10047c6b-d886-4b63-a218-298fbf8c5dac\",\"type\":\"WheelZoomTool\"},{\"attributes\":{\"overlay\":{\"id\":\"f0d05f88-c9f1-4027-a0e2-51fc2a902412\",\"type\":\"BoxAnnotation\"}},\"id\":\"8fe1e3bb-e821-47a2-a272-f4a38a2aa6fa\",\"type\":\"BoxZoomTool\"},{\"attributes\":{},\"id\":\"46cfe87e-50e1-4a8e-be27-851436242bab\",\"type\":\"SaveTool\"},{\"attributes\":{},\"id\":\"8f023865-7fe3-4249-8cbb-48e634b12f41\",\"type\":\"ResetTool\"},{\"attributes\":{},\"id\":\"8bcac622-fcba-4483-a6f9-786b5d3d6eef\",\"type\":\"HelpTool\"},{\"attributes\":{\"bottom_units\":\"screen\",\"fill_alpha\":{\"value\":0.5},\"fill_color\":{\"value\":\"lightgrey\"},\"left_units\":\"screen\",\"level\":\"overlay\",\"line_alpha\":{\"value\":1.0},\"line_color\":{\"value\":\"black\"},\"line_dash\":[4,4],\"line_width\":{\"value\":2},\"plot\":null,\"render_mode\":\"css\",\"right_units\":\"screen\",\"top_units\":\"screen\"},\"id\":\"f0d05f88-c9f1-4027-a0e2-51fc2a902412\",\"type\":\"BoxAnnotation\"},{\"attributes\":{\"callback\":null,\"data\":{\"x\":{\"__ndarray__\":\"AAAAAAAAFMCamZmZmZkTwDQzMzMzMxPAzszMzMzMEsBoZmZmZmYSwAIAAAAAABLAnJmZmZmZEcA2MzMzMzMRwNDMzMzMzBDAamZmZmZmEMAEAAAAAAAQwDwzMzMzMw/AcGZmZmZmDsCkmZmZmZkNwNjMzMzMzAzADAAAAAAADMBAMzMzMzMLwHRmZmZmZgrAqJmZmZmZCcDczMzMzMwIwBAAAAAAAAjARDMzMzMzB8B4ZmZmZmYGwKyZmZmZmQXA4MzMzMzMBMAUAAAAAAAEwEgzMzMzMwPAfGZmZmZmAsCwmZmZmZkBwOTMzMzMzADAGAAAAAAAAMCYZmZmZmb+vwDNzMzMzPy/aDMzMzMz+7/QmZmZmZn5vzgAAAAAAPi/oGZmZmZm9r8IzczMzMz0v3AzMzMzM/O/2JmZmZmZ8b9AAAAAAADwv1DNzMzMzOy/IJqZmZmZ6b/wZmZmZmbmv8AzMzMzM+O/kAAAAAAA4L/AmpmZmZnZv2A0MzMzM9O/AJyZmZmZyb+AnpmZmZm5vwAAAAAAABS9gJSZmZmZuT8Al5mZmZnJP+AxMzMzM9M/QJiZmZmZ2T+g/v/////fP4AyMzMzM+M/sGVmZmZm5j/gmJmZmZnpPxDMzMzMzOw/QP//////7z84mZmZmZnxP9AyMzMzM/M/aMzMzMzM9D8AZmZmZmb2P5j///////c/MJmZmZmZ+T/IMjMzMzP7P2DMzMzMzPw/+GVmZmZm/j+Q////////P5TMzMzMzABAYJmZmZmZAUAsZmZmZmYCQPgyMzMzMwNAxP//////A0CQzMzMzMwEQFyZmZmZmQVAKGZmZmZmBkD0MjMzMzMHQMD//////wdAjMzMzMzMCEBYmZmZmZkJQCRmZmZmZgpA8DIzMzMzC0C8//////8LQIjMzMzMzAxAVJmZmZmZDUAgZmZmZmYOQOwyMzMzMw9AuP//////D0BCZmZmZmYQQKjMzMzMzBBADjMzMzMzEUB0mZmZmZkRQNr//////xFAQGZmZmZmEkCmzMzMzMwSQAwzMzMzMxNAcpmZmZmZE0DY//////8TQA==\",\"dtype\":\"float64\",\"shape\":[101]},\"y\":{\"__ndarray__\":\"AAAAAAAALsBnZmZmZmYtwM7MzMzMzCzANTMzMzMzLMCcmZmZmZkrwAMAAAAAACvAamZmZmZmKsDRzMzMzMwpwDgzMzMzMynAn5mZmZmZKMAGAAAAAAAowG1mZmZmZifA1MzMzMzMJsA7MzMzMzMmwKKZmZmZmSXACQAAAAAAJcBwZmZmZmYkwNfMzMzMzCPAPjMzMzMzI8ClmZmZmZkiwAwAAAAAACLAc2ZmZmZmIcDazMzMzMwgwEEzMzMzMyDAUDMzMzMzH8AeAAAAAAAewOzMzMzMzBzAupmZmZmZG8CIZmZmZmYawFYzMzMzMxnAJAAAAAAAGMDyzMzMzMwWwMCZmZmZmRXAjmZmZmZmFMBcMzMzMzMTwCoAAAAAABLA+MzMzMzMEMCMMzMzMzMPwCjNzMzMzAzAxGZmZmZmCsBgAAAAAAAIwPyZmZmZmQXAmDMzMzMzA8A0zczMzMwAwKDNzMzMzPy/2AAAAAAA+L8QNDMzMzPzv5DOzMzMzOy/ADUzMzMz47/gNjMzMzPTvwAAAAAAAC69YC8zMzMz0z9AMTMzMzPjP9DKzMzMzOw/MDIzMzMz8z/4/v/////3P8DLzMzMzPw/RMzMzMzMAECoMjMzMzMDQAyZmZmZmQVAcP//////B0DUZWZmZmYKQDjMzMzMzAxAnDIzMzMzD0CAzMzMzMwQQLL//////xFA5DIzMzMzE0AWZmZmZmYUQEiZmZmZmRVAeszMzMzMFkCs//////8XQN4yMzMzMxlAEGZmZmZmGkBCmZmZmZkbQHTMzMzMzBxApv//////HUDYMjMzMzMfQAUzMzMzMyBAnszMzMzMIEA3ZmZmZmYhQND//////yFAaZmZmZmZIkACMzMzMzMjQJvMzMzMzCNANGZmZmZmJEDN//////8kQGaZmZmZmSVA/zIzMzMzJkCYzMzMzMwmQDFmZmZmZidAyv//////J0BjmZmZmZkoQPwyMzMzMylAlczMzMzMKUAuZmZmZmYqQMf//////ypAYJmZmZmZK0D5MjMzMzMsQJLMzMzMzCxAK2ZmZmZmLUDE//////8tQA==\",\"dtype\":\"float64\",\"shape\":[101]}},\"selected\":{\"id\":\"9c991913-1490-4430-8d5b-9414275abd1c\",\"type\":\"Selection\"},\"selection_policy\":{\"id\":\"3d0019fd-9254-498a-8dd7-0c24a4637104\",\"type\":\"UnionRenderers\"}},\"id\":\"94fadf29-bab1-4810-9b53-85ab751b6519\",\"type\":\"ColumnDataSource\"},{\"attributes\":{\"label\":{\"value\":\"f1 = x^3\"},\"renderers\":[{\"id\":\"325fbf96-01de-4674-a581-a58df6c13997\",\"type\":\"GlyphRenderer\"}]},\"id\":\"e908f77a-c63b-41c7-9429-c8c80fb9c88d\",\"type\":\"LegendItem\"},{\"attributes\":{},\"id\":\"0509c979-8191-453d-b293-58163e5750c2\",\"type\":\"Selection\"},{\"attributes\":{\"line_alpha\":0.5,\"line_color\":\"orange\",\"line_width\":2,\"x\":{\"field\":\"x\"},\"y\":{\"field\":\"y\"}},\"id\":\"d88a7e79-5c5f-4218-a792-2269b7170985\",\"type\":\"Line\"},{\"attributes\":{\"line_alpha\":0.1,\"line_color\":\"#1f77b4\",\"line_width\":2,\"x\":{\"field\":\"x\"},\"y\":{\"field\":\"y\"}},\"id\":\"4dedf7f2-b80f-421d-a0b3-121efb65ad7d\",\"type\":\"Line\"},{\"attributes\":{\"data_source\":{\"id\":\"9308da5d-5ac5-4f3f-88b2-6738ace5c9ed\",\"type\":\"ColumnDataSource\"},\"glyph\":{\"id\":\"d88a7e79-5c5f-4218-a792-2269b7170985\",\"type\":\"Line\"},\"hover_glyph\":null,\"muted_glyph\":null,\"nonselection_glyph\":{\"id\":\"4dedf7f2-b80f-421d-a0b3-121efb65ad7d\",\"type\":\"Line\"},\"selection_glyph\":null,\"view\":{\"id\":\"d09eb24a-03c1-4b65-b3f8-ceb12c3c2611\",\"type\":\"CDSView\"}},\"id\":\"10f4cb0b-e618-4245-9de6-1531f1519184\",\"type\":\"GlyphRenderer\"},{\"attributes\":{\"source\":{\"id\":\"9308da5d-5ac5-4f3f-88b2-6738ace5c9ed\",\"type\":\"ColumnDataSource\"}},\"id\":\"d09eb24a-03c1-4b65-b3f8-ceb12c3c2611\",\"type\":\"CDSView\"},{\"attributes\":{},\"id\":\"84af6bf4-7a3d-4c7f-9a26-f65217866c81\",\"type\":\"UnionRenderers\"},{\"attributes\":{},\"id\":\"71f8226f-6f85-4dc4-8cd7-4b9c181e0b26\",\"type\":\"Selection\"},{\"attributes\":{\"label\":{\"value\":\"f2 = 2x^2\"},\"renderers\":[{\"id\":\"10f4cb0b-e618-4245-9de6-1531f1519184\",\"type\":\"GlyphRenderer\"}]},\"id\":\"74fe1969-6226-44e7-bc86-58343aa4b8f1\",\"type\":\"LegendItem\"},{\"attributes\":{\"callback\":null,\"data\":{\"x\":{\"__ndarray__\":\"AAAAAAAAFMCamZmZmZkTwDQzMzMzMxPAzszMzMzMEsBoZmZmZmYSwAIAAAAAABLAnJmZmZmZEcA2MzMzMzMRwNDMzMzMzBDAamZmZmZmEMAEAAAAAAAQwDwzMzMzMw/AcGZmZmZmDsCkmZmZmZkNwNjMzMzMzAzADAAAAAAADMBAMzMzMzMLwHRmZmZmZgrAqJmZmZmZCcDczMzMzMwIwBAAAAAAAAjARDMzMzMzB8B4ZmZmZmYGwKyZmZmZmQXA4MzMzMzMBMAUAAAAAAAEwEgzMzMzMwPAfGZmZmZmAsCwmZmZmZkBwOTMzMzMzADAGAAAAAAAAMCYZmZmZmb+vwDNzMzMzPy/aDMzMzMz+7/QmZmZmZn5vzgAAAAAAPi/oGZmZmZm9r8IzczMzMz0v3AzMzMzM/O/2JmZmZmZ8b9AAAAAAADwv1DNzMzMzOy/IJqZmZmZ6b/wZmZmZmbmv8AzMzMzM+O/kAAAAAAA4L/AmpmZmZnZv2A0MzMzM9O/AJyZmZmZyb+AnpmZmZm5vwAAAAAAABS9gJSZmZmZuT8Al5mZmZnJP+AxMzMzM9M/QJiZmZmZ2T+g/v/////fP4AyMzMzM+M/sGVmZmZm5j/gmJmZmZnpPxDMzMzMzOw/QP//////7z84mZmZmZnxP9AyMzMzM/M/aMzMzMzM9D8AZmZmZmb2P5j///////c/MJmZmZmZ+T/IMjMzMzP7P2DMzMzMzPw/+GVmZmZm/j+Q////////P5TMzMzMzABAYJmZmZmZAUAsZmZmZmYCQPgyMzMzMwNAxP//////A0CQzMzMzMwEQFyZmZmZmQVAKGZmZmZmBkD0MjMzMzMHQMD//////wdAjMzMzMzMCEBYmZmZmZkJQCRmZmZmZgpA8DIzMzMzC0C8//////8LQIjMzMzMzAxAVJmZmZmZDUAgZmZmZmYOQOwyMzMzMw9AuP//////D0BCZmZmZmYQQKjMzMzMzBBADjMzMzMzEUB0mZmZmZkRQNr//////xFAQGZmZmZmEkCmzMzMzMwSQAwzMzMzMxNAcpmZmZmZE0DY//////8TQA==\",\"dtype\":\"float64\",\"shape\":[101]},\"y\":{\"__ndarray__\":\"AAAAAACAVsCVGARWDhVVwPF8PzVeulPAaDvfT41vUsBSYhBYOTRRwAYAAAAACFDAsEW28/3UTcA7sp3vp7ZLwF1iEFg5tEnAwXJoke3MR8ASAAAAAABGwPwmMQisTETAKwRWDi2yQsBMtMh2vi9BwBWoxks3iT/AKAAAAADgPMAiqvHSTWI6wGLfT42XDjjAPdnO91PjNcAK0SLb+d4zwCQAAAAAADLA4p8aL91EMMA1001iEFgtwE4tsp3vZyrAwsDKoUW2J8A7AAAAAEAlwG1eukkMAiPAB05iEFj5IMB0g8DKoUUewGpYObTI9hrAVAAAAAAAGMCOYOXQIlsVwHxeukkMAhPAfN9PjZfuEMDcke18PzUOwGkAAAAAAAvAXdV46SYxCMB42/l+arwFwHzdJAaBlQPAKqabxCCwAcBAAAAAAAAAwANt5/up8fy/XScxCKwc+r8PxSCwcmj3v5nb+X5qvPS/fgAAAAAA8r99ku18PzXuv7iWQ4ts5+e/sDiJQWDl4L/ORots5/vRv5z//////y29xQGBlUOL1D/euXSTGATmPwi/yqFFtvE/O9FNYhBY+T8D//////8AQPTXzvdT4wVAsKjx0k1iC0A8U+Olm8QQQEQDVg4tMhRAEP//////F0BAYRBYOTQcQDoi2/l+aiBApmEQWDn0IkA0fD81XrolQDP/////vyhA9HfpJjEILEDFc5MYBJYvQPy/yqFFtjFA7pRDi2zHM0Bf//////81QPrFSzeJYThAY69yaJHtOkBGgsDKoaU9QKSCwMqhRUBAif/////PQUAmm8QgsHJDQM84tMh2LkVA2Lt0kxgER0CUB6wcWvRIQFj//////0pAeIYW2c4nTUBIgJVDi2xPQA1oke1851BAoiyyne8nUkCO/////3dTQHnSTWIQ2FRADpduEoNIVkD1PjVeuslXQNy7dJMYXFlAaf//////WkBI+6nx0rVcQCShRbbzfV5AUvHSTWIsYEC62M73UyNhQJ//////I2JA1t5PjZcuY0A076fGS0NkQIyp8dJNYmVAt4YW2c6LZkCF/////79nQA==\",\"dtype\":\"float64\",\"shape\":[101]}},\"selected\":{\"id\":\"77341e8d-5a78-4b68-b7f7-e8e1d59a2c35\",\"type\":\"Selection\"},\"selection_policy\":{\"id\":\"e15a493e-e861-4bd9-a420-979ba50e54ab\",\"type\":\"UnionRenderers\"}},\"id\":\"1f32d3ac-0e8f-4bc7-8297-c711eed721b2\",\"type\":\"ColumnDataSource\"},{\"attributes\":{\"line_alpha\":0.5,\"line_color\":\"green\",\"line_width\":2,\"x\":{\"field\":\"x\"},\"y\":{\"field\":\"y\"}},\"id\":\"4ebdce67-409d-4e91-803e-69342bee6ef8\",\"type\":\"Line\"},{\"attributes\":{\"line_alpha\":0.1,\"line_color\":\"#1f77b4\",\"line_width\":2,\"x\":{\"field\":\"x\"},\"y\":{\"field\":\"y\"}},\"id\":\"1d7fcef7-f0ae-49ed-89fe-4300db58617a\",\"type\":\"Line\"},{\"attributes\":{\"data_source\":{\"id\":\"94fadf29-bab1-4810-9b53-85ab751b6519\",\"type\":\"ColumnDataSource\"},\"glyph\":{\"id\":\"4ebdce67-409d-4e91-803e-69342bee6ef8\",\"type\":\"Line\"},\"hover_glyph\":null,\"muted_glyph\":null,\"nonselection_glyph\":{\"id\":\"1d7fcef7-f0ae-49ed-89fe-4300db58617a\",\"type\":\"Line\"},\"selection_glyph\":null,\"view\":{\"id\":\"170f1359-8ebd-402b-90b8-471d79ee1a82\",\"type\":\"CDSView\"}},\"id\":\"ab67813e-3a8e-415f-a8bb-77bb3f18964b\",\"type\":\"GlyphRenderer\"},{\"attributes\":{\"source\":{\"id\":\"94fadf29-bab1-4810-9b53-85ab751b6519\",\"type\":\"ColumnDataSource\"}},\"id\":\"170f1359-8ebd-402b-90b8-471d79ee1a82\",\"type\":\"CDSView\"},{\"attributes\":{},\"id\":\"c958b9d8-0cde-40da-a9d2-85b7e4915acd\",\"type\":\"UnionRenderers\"},{\"attributes\":{\"callback\":null,\"data\":{\"x\":[-5,-5],\"y\":[-125,0]},\"selected\":{\"id\":\"db820859-ca35-42ca-a98f-c13a1f4e243c\",\"type\":\"Selection\"},\"selection_policy\":{\"id\":\"749c67f7-721c-46ac-8992-910e5e97930e\",\"type\":\"UnionRenderers\"}},\"id\":\"a6e86857-bb8b-4159-ab13-abd53660de78\",\"type\":\"ColumnDataSource\"},{\"attributes\":{\"label\":{\"value\":\"f2 = 3x\"},\"renderers\":[{\"id\":\"ab67813e-3a8e-415f-a8bb-77bb3f18964b\",\"type\":\"GlyphRenderer\"}]},\"id\":\"973e934a-32f3-4a76-ab6d-f419fec4286f\",\"type\":\"LegendItem\"},{\"attributes\":{\"below\":[{\"id\":\"3a4ac852-3919-4dc7-b890-dad4181b720c\",\"type\":\"LinearAxis\"}],\"left\":[{\"id\":\"44b3d166-7fa5-4140-9e16-7217350dea47\",\"type\":\"LinearAxis\"}],\"plot_height\":400,\"plot_width\":475,\"renderers\":[{\"id\":\"3a4ac852-3919-4dc7-b890-dad4181b720c\",\"type\":\"LinearAxis\"},{\"id\":\"8045a22c-5e45-44f7-a4cb-c5a5778c1981\",\"type\":\"Grid\"},{\"id\":\"44b3d166-7fa5-4140-9e16-7217350dea47\",\"type\":\"LinearAxis\"},{\"id\":\"c11939d1-e192-4b24-9f0f-c120aea31f72\",\"type\":\"Grid\"},{\"id\":\"59a00c47-633c-4c15-88ca-61dc52b217e7\",\"type\":\"BoxAnnotation\"},{\"id\":\"9088119a-8521-4e54-9232-43774e0a83a0\",\"type\":\"GlyphRenderer\"},{\"id\":\"28c4c5c1-884e-4af5-bec0-0ce06ea841ea\",\"type\":\"GlyphRenderer\"},{\"id\":\"ca23dd70-7328-4702-b3dd-3342fc7c0a7d\",\"type\":\"GlyphRenderer\"},{\"id\":\"77365c61-0308-4780-a1ed-8bdb7c44d5a0\",\"type\":\"GlyphRenderer\"},{\"id\":\"b81b838c-3075-4d7b-90c2-59005d0bd7c0\",\"type\":\"GlyphRenderer\"},{\"id\":\"59f0cdf5-42eb-406a-bf54-79b8806efcaf\",\"type\":\"GlyphRenderer\"},{\"id\":\"e11ad1b0-d064-4639-8907-c2d5c9444943\",\"type\":\"GlyphRenderer\"},{\"id\":\"890b8b56-e9dc-4cbd-be08-28df067973a3\",\"type\":\"GlyphRenderer\"},{\"id\":\"f91c537f-566e-4403-aae1-3a7325dadfa0\",\"type\":\"GlyphRenderer\"},{\"id\":\"b1a238db-7a24-46a4-aa17-f9340cb676a4\",\"type\":\"GlyphRenderer\"},{\"id\":\"2575c63a-cd22-42f4-946f-c7b70b8e1921\",\"type\":\"GlyphRenderer\"},{\"id\":\"9d638033-f6c7-44b5-9a4b-157b99192f49\",\"type\":\"GlyphRenderer\"},{\"id\":\"84f19f18-0679-422b-aa0d-72aa852ae5d6\",\"type\":\"GlyphRenderer\"},{\"id\":\"9519b72c-e52e-4343-9b68-b14f89fd1e34\",\"type\":\"GlyphRenderer\"},{\"id\":\"567e6567-b97e-4c3a-9f22-2d61fc883e4d\",\"type\":\"GlyphRenderer\"},{\"id\":\"519a8106-189b-4361-b4e7-6f7463a7a0c5\",\"type\":\"GlyphRenderer\"},{\"id\":\"0918ca92-8d73-4b4a-973b-19c050d87f9f\",\"type\":\"GlyphRenderer\"},{\"id\":\"92be67d8-bf1d-414f-bf15-f64ae626190d\",\"type\":\"GlyphRenderer\"},{\"id\":\"39aff1ea-a215-4e02-abd1-bae120fe658b\",\"type\":\"GlyphRenderer\"},{\"id\":\"2b60b84a-21ae-484e-a313-014be517352e\",\"type\":\"GlyphRenderer\"},{\"id\":\"b57a4eb3-9bb4-430e-89f8-ae5e31f6bae5\",\"type\":\"GlyphRenderer\"},{\"id\":\"ecc89e64-340a-494c-a23b-0813cc9e9f44\",\"type\":\"GlyphRenderer\"},{\"id\":\"7d109ceb-71e9-4a4c-8da0-31e44cd33530\",\"type\":\"GlyphRenderer\"},{\"id\":\"660821dc-dea2-4cc1-82a6-9b2cec19d0e4\",\"type\":\"GlyphRenderer\"},{\"id\":\"44abc403-e327-4126-93dc-2e3b89974ae1\",\"type\":\"GlyphRenderer\"},{\"id\":\"511df446-ab36-4fb6-b00e-459c0fab5910\",\"type\":\"GlyphRenderer\"},{\"id\":\"7cd16a8c-3a8d-491b-8174-193ef9f444e1\",\"type\":\"GlyphRenderer\"},{\"id\":\"50ce0059-5d73-4fcb-a758-7430ffbe1bc3\",\"type\":\"GlyphRenderer\"},{\"id\":\"15f7da8c-2ee0-4037-a024-3163f8b32edb\",\"type\":\"GlyphRenderer\"},{\"id\":\"691718fe-04ca-46cc-8922-9a2703dc3024\",\"type\":\"GlyphRenderer\"},{\"id\":\"eb4c998e-9229-4131-8764-cf1605e7eeb3\",\"type\":\"GlyphRenderer\"},{\"id\":\"05655811-7c74-4871-a35d-aa5f7fb21c24\",\"type\":\"GlyphRenderer\"},{\"id\":\"61529fcf-c608-4258-a57d-9295caab65f2\",\"type\":\"GlyphRenderer\"},{\"id\":\"10bf1d0f-d3d6-43d9-bbe2-b5711e6616df\",\"type\":\"GlyphRenderer\"}],\"title\":{\"id\":\"098021c0-04e7-4b53-9ca9-76c06b2bebba\",\"type\":\"Title\"},\"toolbar\":{\"id\":\"e989e633-a2b1-4efb-af44-5f3947a43fea\",\"type\":\"Toolbar\"},\"toolbar_location\":\"below\",\"x_range\":{\"id\":\"6044c6d9-1002-4e53-b4fe-a52acf771aa6\",\"type\":\"DataRange1d\"},\"x_scale\":{\"id\":\"21cb16db-afb0-4663-87e4-2b9bcbbd4a6b\",\"type\":\"LinearScale\"},\"y_range\":{\"id\":\"76f71b3a-9f9d-4f00-bc75-c4261514dbbc\",\"type\":\"DataRange1d\"},\"y_scale\":{\"id\":\"e4858db7-ddff-4e7d-a26f-2be6d0d02f8b\",\"type\":\"LinearScale\"}},\"id\":\"ce7a83c8-367b-417b-acd2-139a3acc159f\",\"subtype\":\"Figure\",\"type\":\"Plot\"},{\"attributes\":{},\"id\":\"bb1214ef-accd-4c0e-8513-b3257b0ed99f\",\"type\":\"Selection\"},{\"attributes\":{\"data_source\":{\"id\":\"a6e86857-bb8b-4159-ab13-abd53660de78\",\"type\":\"ColumnDataSource\"},\"glyph\":{\"id\":\"67fc0294-e6f0-4491-9de7-7c931d5b7b97\",\"type\":\"Line\"},\"hover_glyph\":null,\"muted_glyph\":null,\"nonselection_glyph\":{\"id\":\"d5dcec3e-d4d1-4761-b346-354ba79b6c1e\",\"type\":\"Line\"},\"selection_glyph\":null,\"view\":{\"id\":\"ba450118-8cf5-4cc9-92a6-814b7949118c\",\"type\":\"CDSView\"}},\"id\":\"9088119a-8521-4e54-9232-43774e0a83a0\",\"type\":\"GlyphRenderer\"},{\"attributes\":{\"plot\":null,\"text\":\"Combined Components\"},\"id\":\"098021c0-04e7-4b53-9ca9-76c06b2bebba\",\"type\":\"Title\"},{\"attributes\":{\"callback\":null},\"id\":\"6044c6d9-1002-4e53-b4fe-a52acf771aa6\",\"type\":\"DataRange1d\"},{\"attributes\":{\"active_drag\":\"auto\",\"active_inspect\":\"auto\",\"active_multi\":null,\"active_scroll\":\"auto\",\"active_tap\":\"auto\",\"tools\":[{\"id\":\"c8131858-2189-447a-b1f7-e895adc3e748\",\"type\":\"PanTool\"},{\"id\":\"e2d44a6d-8c40-476e-81a7-cc9f3ef954ba\",\"type\":\"WheelZoomTool\"},{\"id\":\"c3182871-fa52-4f05-9447-f12593fbbe0d\",\"type\":\"BoxZoomTool\"},{\"id\":\"84606275-8aca-4989-ac9b-6283bfc41c8c\",\"type\":\"SaveTool\"},{\"id\":\"4e100786-10e2-4b03-a454-654d5e93f6ac\",\"type\":\"ResetTool\"},{\"id\":\"d5d8f35e-4e51-40ca-ac46-22b2c577259c\",\"type\":\"HelpTool\"}]},\"id\":\"e989e633-a2b1-4efb-af44-5f3947a43fea\",\"type\":\"Toolbar\"},{\"attributes\":{\"line_alpha\":0.4,\"line_width\":5,\"x\":{\"field\":\"x\"},\"y\":{\"field\":\"y\"}},\"id\":\"67fc0294-e6f0-4491-9de7-7c931d5b7b97\",\"type\":\"Line\"},{\"attributes\":{},\"id\":\"21cb16db-afb0-4663-87e4-2b9bcbbd4a6b\",\"type\":\"LinearScale\"},{\"attributes\":{\"callback\":null},\"id\":\"76f71b3a-9f9d-4f00-bc75-c4261514dbbc\",\"type\":\"DataRange1d\"},{\"attributes\":{},\"id\":\"e4858db7-ddff-4e7d-a26f-2be6d0d02f8b\",\"type\":\"LinearScale\"},{\"attributes\":{\"plot\":{\"id\":\"ce7a83c8-367b-417b-acd2-139a3acc159f\",\"subtype\":\"Figure\",\"type\":\"Plot\"},\"ticker\":{\"id\":\"09fae8ac-313e-4080-99a2-ed91ded4d719\",\"type\":\"BasicTicker\"}},\"id\":\"8045a22c-5e45-44f7-a4cb-c5a5778c1981\",\"type\":\"Grid\"},{\"attributes\":{\"axis_label\":\"X\",\"formatter\":{\"id\":\"a86a5c47-da5d-4e9a-9c7f-881d4a7d3777\",\"type\":\"BasicTickFormatter\"},\"plot\":{\"id\":\"ce7a83c8-367b-417b-acd2-139a3acc159f\",\"subtype\":\"Figure\",\"type\":\"Plot\"},\"ticker\":{\"id\":\"09fae8ac-313e-4080-99a2-ed91ded4d719\",\"type\":\"BasicTicker\"}},\"id\":\"3a4ac852-3919-4dc7-b890-dad4181b720c\",\"type\":\"LinearAxis\"},{\"attributes\":{},\"id\":\"10bebf01-3c70-473f-b7f5-2044048886f3\",\"type\":\"Selection\"},{\"attributes\":{},\"id\":\"09fae8ac-313e-4080-99a2-ed91ded4d719\",\"type\":\"BasicTicker\"},{\"attributes\":{\"axis_label\":\"f(X)\",\"formatter\":{\"id\":\"d9c8d749-8307-429e-9a3a-995a0b2021af\",\"type\":\"BasicTickFormatter\"},\"plot\":{\"id\":\"ce7a83c8-367b-417b-acd2-139a3acc159f\",\"subtype\":\"Figure\",\"type\":\"Plot\"},\"ticker\":{\"id\":\"99a94535-9ab4-4516-a917-196df12af6da\",\"type\":\"BasicTicker\"}},\"id\":\"44b3d166-7fa5-4140-9e16-7217350dea47\",\"type\":\"LinearAxis\"},{\"attributes\":{},\"id\":\"99a94535-9ab4-4516-a917-196df12af6da\",\"type\":\"BasicTicker\"},{\"attributes\":{\"dimension\":1,\"plot\":{\"id\":\"ce7a83c8-367b-417b-acd2-139a3acc159f\",\"subtype\":\"Figure\",\"type\":\"Plot\"},\"ticker\":{\"id\":\"99a94535-9ab4-4516-a917-196df12af6da\",\"type\":\"BasicTicker\"}},\"id\":\"c11939d1-e192-4b24-9f0f-c120aea31f72\",\"type\":\"Grid\"},{\"attributes\":{\"line_alpha\":0.1,\"line_color\":\"#1f77b4\",\"line_width\":5,\"x\":{\"field\":\"x\"},\"y\":{\"field\":\"y\"}},\"id\":\"d5dcec3e-d4d1-4761-b346-354ba79b6c1e\",\"type\":\"Line\"},{\"attributes\":{\"callback\":null,\"data\":{\"x\":[-5,-5],\"y\":[-75,-125]},\"selected\":{\"id\":\"4af5da80-61df-4cf4-8833-664a14c9e69f\",\"type\":\"Selection\"},\"selection_policy\":{\"id\":\"2814c4dc-d467-4188-85b5-46711384413d\",\"type\":\"UnionRenderers\"}},\"id\":\"93612f5c-40f2-465e-88cf-a63e57b9e9a5\",\"type\":\"ColumnDataSource\"},{\"attributes\":{\"line_color\":\"steelblue\",\"line_width\":3,\"x\":{\"field\":\"x\"},\"y\":{\"field\":\"y\"}},\"id\":\"ae08e719-ec08-44da-8598-cdad93eac8cc\",\"type\":\"Line\"},{\"attributes\":{\"source\":{\"id\":\"a6e86857-bb8b-4159-ab13-abd53660de78\",\"type\":\"ColumnDataSource\"}},\"id\":\"ba450118-8cf5-4cc9-92a6-814b7949118c\",\"type\":\"CDSView\"},{\"attributes\":{},\"id\":\"c8131858-2189-447a-b1f7-e895adc3e748\",\"type\":\"PanTool\"},{\"attributes\":{},\"id\":\"918dde72-cd45-481b-904c-7371f63a5c9d\",\"type\":\"Selection\"},{\"attributes\":{},\"id\":\"2a8c8fe2-7ef5-453d-965b-edfb7ec5a95d\",\"type\":\"Selection\"},{\"attributes\":{},\"id\":\"46f038f7-95cb-4cd4-8404-74e51bd9a667\",\"type\":\"Selection\"},{\"attributes\":{},\"id\":\"2c492e4a-1a7a-492d-9148-18aa1e477b20\",\"type\":\"Selection\"},{\"attributes\":{},\"id\":\"fc19d59d-dcc5-4bbf-923f-5c2d242ed7f7\",\"type\":\"Selection\"},{\"attributes\":{},\"id\":\"112e4c6c-faf4-4d95-aef7-c4f045f84237\",\"type\":\"Selection\"},{\"attributes\":{},\"id\":\"f4ebdac4-7dd3-4b02-89b1-bccae0b49180\",\"type\":\"Selection\"},{\"attributes\":{},\"id\":\"1290305c-8016-447d-abe6-77a1382b0105\",\"type\":\"Selection\"}],\"root_ids\":[\"4d22080e-0f72-45c8-8715-e855c9634667\"]},\"title\":\"Bokeh Application\",\"version\":\"0.13.0\"}};\n",
       "  var render_items = [{\"docid\":\"f99c676f-3dec-403c-b9c6-bbe16065482d\",\"roots\":{\"4d22080e-0f72-45c8-8715-e855c9634667\":\"f7504f05-aef9-4313-a06b-c852ef31b333\"}}];\n",
       "  root.Bokeh.embed.embed_items_notebook(docs_json, render_items);\n",
       "\n",
       "  }\n",
       "  if (root.Bokeh !== undefined) {\n",
       "    embed_document(root);\n",
       "  } else {\n",
       "    var attempts = 0;\n",
       "    var timer = setInterval(function(root) {\n",
       "      if (root.Bokeh !== undefined) {\n",
       "        embed_document(root);\n",
       "        clearInterval(timer);\n",
       "      }\n",
       "      attempts++;\n",
       "      if (attempts > 100) {\n",
       "        console.log(\"Bokeh: ERROR: Unable to run BokehJS code because BokehJS library is missing\")\n",
       "        clearInterval(timer);\n",
       "      }\n",
       "    }, 10, root)\n",
       "  }\n",
       "})(window);"
      ],
      "application/vnd.bokehjs_exec.v0+json": ""
     },
     "metadata": {
      "application/vnd.bokehjs_exec.v0+json": {
       "id": "4d22080e-0f72-45c8-8715-e855c9634667"
      }
     },
     "output_type": "display_data"
    }
   ],
   "source": [
    "# Specify a range of x\n",
    "x = np.arange(-5,5+.1,.1)\n",
    "\n",
    "# Plot each of the component Functions \n",
    "p1 = plot(475,400,title=\"Each Function Individually\")\n",
    "p1.line(x,f_comp1(x),\n",
    "        color='black',line_width=2,alpha=.5,\n",
    "        legend ='f1 = x^3')\n",
    "p1.line(x,f_comp2(x),\n",
    "        color='orange',line_width=2,alpha=.5,\n",
    "        legend ='f2 = 2x^2')\n",
    "p1.line(x,f_comp3(x),\n",
    "        color='green',line_width=2,alpha=.5,\n",
    "        legend ='f2 = 3x')\n",
    "p1.legend.location = 'top_center'\n",
    "\n",
    "\n",
    "# Plot the combination of the component functions\n",
    "p2 = plot(475,400,title=\"Combined Components\")\n",
    "for i in range(-5,5+1):  \n",
    "    p2.line([i,i], # X-axis\n",
    "            [f_comp1(i),0], # Y-Axis\n",
    "            color='black',line_width=5,alpha=.4)\n",
    "    p2.line([i,i], # X-axis\n",
    "            [f_comp1(i)+f_comp2(i),f_comp1(i)], # Y-Axis\n",
    "            color='orange',line_width=5,alpha=.4)\n",
    "    p2.line([i,i], # X-axis\n",
    "            [f_comp1(i)+f_comp2(i)+f_comp3(i),f_comp1(i)+f_comp2(i)], # Y-Axis\n",
    "            color='green',line_width=5,alpha=.6)\n",
    "p2.line(x,f(x),color='steelblue',line_width=3)    \n",
    "\n",
    "# Print the two functions side by side\n",
    "show(row(p1,p2))"
   ]
  },
  {
   "cell_type": "markdown",
   "metadata": {},
   "source": [
    "Likewise, this extends to the derivatives as we are are altering the rate of change when altering the form of the function."
   ]
  },
  {
   "cell_type": "code",
   "execution_count": 7,
   "metadata": {},
   "outputs": [
    {
     "data": {
      "text/html": [
       "\n",
       "\n",
       "\n",
       "\n",
       "\n",
       "\n",
       "  <div class=\"bk-root\" id=\"c8fd116f-11a4-451a-a086-bf74bc251468\"></div>\n"
      ]
     },
     "metadata": {},
     "output_type": "display_data"
    },
    {
     "data": {
      "application/javascript": [
       "(function(root) {\n",
       "  function embed_document(root) {\n",
       "    \n",
       "  var docs_json = {\"7eb59fbe-cc2a-4df3-bb7d-4338719756eb\":{\"roots\":{\"references\":[{\"attributes\":{\"callback\":null,\"data\":{\"x\":[2,2],\"y\":[23,20]},\"selected\":{\"id\":\"2d1b471d-f523-4760-9927-6b668fb4913e\",\"type\":\"Selection\"},\"selection_policy\":{\"id\":\"62c1789a-109c-4a4e-96c4-d97d9d48fd4e\",\"type\":\"UnionRenderers\"}},\"id\":\"700cff0e-277e-4d93-ac16-d94db4c463b7\",\"type\":\"ColumnDataSource\"},{\"attributes\":{},\"id\":\"dbb58b87-de53-4654-9121-27c08c39481d\",\"type\":\"UnionRenderers\"},{\"attributes\":{\"source\":{\"id\":\"d8320c50-5d6a-4bc9-88a8-35fb0d5ffe7e\",\"type\":\"ColumnDataSource\"}},\"id\":\"0e94089c-b71d-4211-ba41-f0b4fdb79b1e\",\"type\":\"CDSView\"},{\"attributes\":{\"callback\":null,\"data\":{\"x\":[-2,-2],\"y\":[12,0]},\"selected\":{\"id\":\"ff88916c-e93a-458d-ba13-6000550eef27\",\"type\":\"Selection\"},\"selection_policy\":{\"id\":\"39d41fcb-d0fc-45d3-9183-18634f1bec99\",\"type\":\"UnionRenderers\"}},\"id\":\"6aee7bf6-4698-4e3a-a951-a2d839fe6148\",\"type\":\"ColumnDataSource\"},{\"attributes\":{},\"id\":\"c0a7ceaa-a341-4ab9-adb7-be3d3a3b885c\",\"type\":\"Selection\"},{\"attributes\":{\"line_alpha\":0.4,\"line_width\":5,\"x\":{\"field\":\"x\"},\"y\":{\"field\":\"y\"}},\"id\":\"c1df4660-cf6f-4cc0-bd18-f2a0df52164b\",\"type\":\"Line\"},{\"attributes\":{},\"id\":\"dc3d7b09-bf3f-49cf-8570-f3cf27a7dc74\",\"type\":\"UnionRenderers\"},{\"attributes\":{\"line_alpha\":0.1,\"line_color\":\"#1f77b4\",\"line_width\":5,\"x\":{\"field\":\"x\"},\"y\":{\"field\":\"y\"}},\"id\":\"b91ecfa7-2b7e-49a4-9335-d1a764b26c94\",\"type\":\"Line\"},{\"attributes\":{},\"id\":\"6e8f018f-44f7-4ada-994e-7e62b7ef82e3\",\"type\":\"Selection\"},{\"attributes\":{\"data_source\":{\"id\":\"6aee7bf6-4698-4e3a-a951-a2d839fe6148\",\"type\":\"ColumnDataSource\"},\"glyph\":{\"id\":\"c1df4660-cf6f-4cc0-bd18-f2a0df52164b\",\"type\":\"Line\"},\"hover_glyph\":null,\"muted_glyph\":null,\"nonselection_glyph\":{\"id\":\"b91ecfa7-2b7e-49a4-9335-d1a764b26c94\",\"type\":\"Line\"},\"selection_glyph\":null,\"view\":{\"id\":\"f7cf2881-43ac-46cb-a07d-f19c603f315f\",\"type\":\"CDSView\"}},\"id\":\"8b4b695e-3a1e-458a-85ee-a2804d1c94b8\",\"type\":\"GlyphRenderer\"},{\"attributes\":{},\"id\":\"8f44615a-b6cf-435a-bdce-07feb7325941\",\"type\":\"UnionRenderers\"},{\"attributes\":{\"source\":{\"id\":\"6aee7bf6-4698-4e3a-a951-a2d839fe6148\",\"type\":\"ColumnDataSource\"}},\"id\":\"f7cf2881-43ac-46cb-a07d-f19c603f315f\",\"type\":\"CDSView\"},{\"attributes\":{},\"id\":\"3d72e70b-1e0e-415f-86b3-d0d7ecb0a73a\",\"type\":\"Selection\"},{\"attributes\":{\"callback\":null,\"data\":{\"x\":[-2,-2],\"y\":[4,12]},\"selected\":{\"id\":\"8f27b4e3-99c6-4f4c-8025-5099f514d6c7\",\"type\":\"Selection\"},\"selection_policy\":{\"id\":\"e072f122-6ff9-4fd9-ba3b-ab9a80f665d2\",\"type\":\"UnionRenderers\"}},\"id\":\"25907913-f311-4353-a60f-2764bdbae651\",\"type\":\"ColumnDataSource\"},{\"attributes\":{},\"id\":\"39d41fcb-d0fc-45d3-9183-18634f1bec99\",\"type\":\"UnionRenderers\"},{\"attributes\":{\"line_alpha\":0.4,\"line_color\":\"orange\",\"line_width\":5,\"x\":{\"field\":\"x\"},\"y\":{\"field\":\"y\"}},\"id\":\"2e9c7f93-2c53-49b8-b006-4a5bb48aa958\",\"type\":\"Line\"},{\"attributes\":{},\"id\":\"ff88916c-e93a-458d-ba13-6000550eef27\",\"type\":\"Selection\"},{\"attributes\":{\"line_alpha\":0.1,\"line_color\":\"#1f77b4\",\"line_width\":5,\"x\":{\"field\":\"x\"},\"y\":{\"field\":\"y\"}},\"id\":\"ca80a3d9-8104-446e-9c97-19194c6993f5\",\"type\":\"Line\"},{\"attributes\":{},\"id\":\"e072f122-6ff9-4fd9-ba3b-ab9a80f665d2\",\"type\":\"UnionRenderers\"},{\"attributes\":{\"data_source\":{\"id\":\"25907913-f311-4353-a60f-2764bdbae651\",\"type\":\"ColumnDataSource\"},\"glyph\":{\"id\":\"2e9c7f93-2c53-49b8-b006-4a5bb48aa958\",\"type\":\"Line\"},\"hover_glyph\":null,\"muted_glyph\":null,\"nonselection_glyph\":{\"id\":\"ca80a3d9-8104-446e-9c97-19194c6993f5\",\"type\":\"Line\"},\"selection_glyph\":null,\"view\":{\"id\":\"f9c48d49-9a90-4d71-a64f-ff8977039d93\",\"type\":\"CDSView\"}},\"id\":\"e21b476e-05e5-44a1-9196-84cfd9d4532a\",\"type\":\"GlyphRenderer\"},{\"attributes\":{},\"id\":\"8f27b4e3-99c6-4f4c-8025-5099f514d6c7\",\"type\":\"Selection\"},{\"attributes\":{\"source\":{\"id\":\"25907913-f311-4353-a60f-2764bdbae651\",\"type\":\"ColumnDataSource\"}},\"id\":\"f9c48d49-9a90-4d71-a64f-ff8977039d93\",\"type\":\"CDSView\"},{\"attributes\":{},\"id\":\"511d5040-14fe-4b95-ae06-79035c41b776\",\"type\":\"UnionRenderers\"},{\"attributes\":{\"callback\":null,\"data\":{\"x\":[-2,-2],\"y\":[7,4]},\"selected\":{\"id\":\"79325710-5843-4d8a-8526-edf890e44813\",\"type\":\"Selection\"},\"selection_policy\":{\"id\":\"511d5040-14fe-4b95-ae06-79035c41b776\",\"type\":\"UnionRenderers\"}},\"id\":\"374a492f-acfa-4d23-9228-5f6739662e72\",\"type\":\"ColumnDataSource\"},{\"attributes\":{},\"id\":\"79325710-5843-4d8a-8526-edf890e44813\",\"type\":\"Selection\"},{\"attributes\":{\"line_alpha\":0.6,\"line_color\":\"green\",\"line_width\":5,\"x\":{\"field\":\"x\"},\"y\":{\"field\":\"y\"}},\"id\":\"e6130dc4-eec7-497d-9b9b-dae172b68ed6\",\"type\":\"Line\"},{\"attributes\":{},\"id\":\"28bb543f-01e5-4626-9910-d38b0e1db1e9\",\"type\":\"UnionRenderers\"},{\"attributes\":{\"line_alpha\":0.1,\"line_color\":\"#1f77b4\",\"line_width\":5,\"x\":{\"field\":\"x\"},\"y\":{\"field\":\"y\"}},\"id\":\"abc9b57a-103a-424f-b882-1dc2a91e0d13\",\"type\":\"Line\"},{\"attributes\":{},\"id\":\"2b147478-d677-4679-960a-ad71934d66b2\",\"type\":\"Selection\"},{\"attributes\":{\"data_source\":{\"id\":\"374a492f-acfa-4d23-9228-5f6739662e72\",\"type\":\"ColumnDataSource\"},\"glyph\":{\"id\":\"e6130dc4-eec7-497d-9b9b-dae172b68ed6\",\"type\":\"Line\"},\"hover_glyph\":null,\"muted_glyph\":null,\"nonselection_glyph\":{\"id\":\"abc9b57a-103a-424f-b882-1dc2a91e0d13\",\"type\":\"Line\"},\"selection_glyph\":null,\"view\":{\"id\":\"241cb29b-7595-47c7-82d2-a7f9d7887f1c\",\"type\":\"CDSView\"}},\"id\":\"b345dc22-a6d9-408e-9812-57a3f3ea8e9d\",\"type\":\"GlyphRenderer\"},{\"attributes\":{},\"id\":\"7ac01c22-c974-43b7-b900-3c8b0877f386\",\"type\":\"UnionRenderers\"},{\"attributes\":{\"source\":{\"id\":\"374a492f-acfa-4d23-9228-5f6739662e72\",\"type\":\"ColumnDataSource\"}},\"id\":\"241cb29b-7595-47c7-82d2-a7f9d7887f1c\",\"type\":\"CDSView\"},{\"attributes\":{},\"id\":\"8c209de6-b1ab-4480-8cf2-efe226cfeccd\",\"type\":\"Selection\"},{\"attributes\":{\"callback\":null,\"data\":{\"x\":[-1,-1],\"y\":[3,0]},\"selected\":{\"id\":\"2b147478-d677-4679-960a-ad71934d66b2\",\"type\":\"Selection\"},\"selection_policy\":{\"id\":\"28bb543f-01e5-4626-9910-d38b0e1db1e9\",\"type\":\"UnionRenderers\"}},\"id\":\"f0223146-a33a-4942-98e1-8f10273ae39c\",\"type\":\"ColumnDataSource\"},{\"attributes\":{},\"id\":\"1fc5b4e3-ddd2-467a-bba4-ea0c0f888fea\",\"type\":\"UnionRenderers\"},{\"attributes\":{\"line_alpha\":0.4,\"line_width\":5,\"x\":{\"field\":\"x\"},\"y\":{\"field\":\"y\"}},\"id\":\"63b59f80-e4cd-4c70-9cca-27aad59f2e42\",\"type\":\"Line\"},{\"attributes\":{},\"id\":\"10bc71c6-c9cf-464f-86b4-73502eb0e795\",\"type\":\"Selection\"},{\"attributes\":{\"line_alpha\":0.1,\"line_color\":\"#1f77b4\",\"line_width\":5,\"x\":{\"field\":\"x\"},\"y\":{\"field\":\"y\"}},\"id\":\"5dfe79a3-c671-4116-9cc6-a8b11f482b86\",\"type\":\"Line\"},{\"attributes\":{},\"id\":\"90646fe4-fc5e-49d4-80c8-88c8e9a27830\",\"type\":\"UnionRenderers\"},{\"attributes\":{\"data_source\":{\"id\":\"f0223146-a33a-4942-98e1-8f10273ae39c\",\"type\":\"ColumnDataSource\"},\"glyph\":{\"id\":\"63b59f80-e4cd-4c70-9cca-27aad59f2e42\",\"type\":\"Line\"},\"hover_glyph\":null,\"muted_glyph\":null,\"nonselection_glyph\":{\"id\":\"5dfe79a3-c671-4116-9cc6-a8b11f482b86\",\"type\":\"Line\"},\"selection_glyph\":null,\"view\":{\"id\":\"2b3c9eee-49a2-4af2-a072-7c8fc73e7cb3\",\"type\":\"CDSView\"}},\"id\":\"f64855ec-69a3-4a68-8e70-6816a6d1443a\",\"type\":\"GlyphRenderer\"},{\"attributes\":{},\"id\":\"e8bb29ff-da2a-4890-bf98-a53b7658b233\",\"type\":\"Selection\"},{\"attributes\":{\"source\":{\"id\":\"f0223146-a33a-4942-98e1-8f10273ae39c\",\"type\":\"ColumnDataSource\"}},\"id\":\"2b3c9eee-49a2-4af2-a072-7c8fc73e7cb3\",\"type\":\"CDSView\"},{\"attributes\":{},\"id\":\"0926b39a-1ae5-4672-9995-6edc1be3ce0b\",\"type\":\"UnionRenderers\"},{\"attributes\":{\"callback\":null,\"data\":{\"x\":[-1,-1],\"y\":[-1,3]},\"selected\":{\"id\":\"8c209de6-b1ab-4480-8cf2-efe226cfeccd\",\"type\":\"Selection\"},\"selection_policy\":{\"id\":\"7ac01c22-c974-43b7-b900-3c8b0877f386\",\"type\":\"UnionRenderers\"}},\"id\":\"b624b922-84b3-4564-9ee4-8be7839c37e0\",\"type\":\"ColumnDataSource\"},{\"attributes\":{},\"id\":\"b2476409-a88b-4ce2-b478-d23114c09eac\",\"type\":\"Selection\"},{\"attributes\":{\"line_alpha\":0.4,\"line_color\":\"orange\",\"line_width\":5,\"x\":{\"field\":\"x\"},\"y\":{\"field\":\"y\"}},\"id\":\"46ef715e-9955-48d1-9c7f-2b6f5ff4286f\",\"type\":\"Line\"},{\"attributes\":{},\"id\":\"f56e350e-2991-4031-9f0a-2fc81f23bc25\",\"type\":\"UnionRenderers\"},{\"attributes\":{\"line_alpha\":0.1,\"line_color\":\"#1f77b4\",\"line_width\":5,\"x\":{\"field\":\"x\"},\"y\":{\"field\":\"y\"}},\"id\":\"ff730c16-942b-43fd-b2ef-434da5703409\",\"type\":\"Line\"},{\"attributes\":{},\"id\":\"acc803e1-48c5-4594-8d80-d78382eeb754\",\"type\":\"Selection\"},{\"attributes\":{\"data_source\":{\"id\":\"b624b922-84b3-4564-9ee4-8be7839c37e0\",\"type\":\"ColumnDataSource\"},\"glyph\":{\"id\":\"46ef715e-9955-48d1-9c7f-2b6f5ff4286f\",\"type\":\"Line\"},\"hover_glyph\":null,\"muted_glyph\":null,\"nonselection_glyph\":{\"id\":\"ff730c16-942b-43fd-b2ef-434da5703409\",\"type\":\"Line\"},\"selection_glyph\":null,\"view\":{\"id\":\"1402a720-be0d-4b01-9067-3096b12446db\",\"type\":\"CDSView\"}},\"id\":\"3186b163-3857-454b-8f13-a4f4aa6bb147\",\"type\":\"GlyphRenderer\"},{\"attributes\":{},\"id\":\"a15cc649-454d-452d-8701-c007a6b78b2c\",\"type\":\"UnionRenderers\"},{\"attributes\":{\"source\":{\"id\":\"b624b922-84b3-4564-9ee4-8be7839c37e0\",\"type\":\"ColumnDataSource\"}},\"id\":\"1402a720-be0d-4b01-9067-3096b12446db\",\"type\":\"CDSView\"},{\"attributes\":{},\"id\":\"416395a2-5a49-419a-96e8-0587ca0fd5ff\",\"type\":\"Selection\"},{\"attributes\":{\"callback\":null,\"data\":{\"x\":[-1,-1],\"y\":[2,-1]},\"selected\":{\"id\":\"10bc71c6-c9cf-464f-86b4-73502eb0e795\",\"type\":\"Selection\"},\"selection_policy\":{\"id\":\"1fc5b4e3-ddd2-467a-bba4-ea0c0f888fea\",\"type\":\"UnionRenderers\"}},\"id\":\"944d5445-eee6-43ed-a345-87c5d86e8487\",\"type\":\"ColumnDataSource\"},{\"attributes\":{},\"id\":\"dd9e2652-a6f4-40c7-a996-362486eef9ed\",\"type\":\"UnionRenderers\"},{\"attributes\":{\"line_alpha\":0.6,\"line_color\":\"green\",\"line_width\":5,\"x\":{\"field\":\"x\"},\"y\":{\"field\":\"y\"}},\"id\":\"f82a547e-d99e-41b8-b451-e1252d41f6ff\",\"type\":\"Line\"},{\"attributes\":{},\"id\":\"71902390-0a0a-4fba-b34f-e3262d58803f\",\"type\":\"Selection\"},{\"attributes\":{\"line_alpha\":0.1,\"line_color\":\"#1f77b4\",\"line_width\":5,\"x\":{\"field\":\"x\"},\"y\":{\"field\":\"y\"}},\"id\":\"1c404e7f-2966-44ae-a356-79265f8658cb\",\"type\":\"Line\"},{\"attributes\":{},\"id\":\"94905c2d-b254-4a43-b7a6-d56760538f6d\",\"type\":\"Selection\"},{\"attributes\":{},\"id\":\"48f1b92a-1e8c-4f10-bbaf-130ef5d70257\",\"type\":\"UnionRenderers\"},{\"attributes\":{\"data_source\":{\"id\":\"944d5445-eee6-43ed-a345-87c5d86e8487\",\"type\":\"ColumnDataSource\"},\"glyph\":{\"id\":\"f82a547e-d99e-41b8-b451-e1252d41f6ff\",\"type\":\"Line\"},\"hover_glyph\":null,\"muted_glyph\":null,\"nonselection_glyph\":{\"id\":\"1c404e7f-2966-44ae-a356-79265f8658cb\",\"type\":\"Line\"},\"selection_glyph\":null,\"view\":{\"id\":\"e54e1a9a-79f9-4e26-a7c0-c2fb79e61188\",\"type\":\"CDSView\"}},\"id\":\"57b9947b-cdc7-45ee-aa77-0a106b99dfb6\",\"type\":\"GlyphRenderer\"},{\"attributes\":{},\"id\":\"740c7b06-a476-4f2b-9609-20b488bb000c\",\"type\":\"UnionRenderers\"},{\"attributes\":{},\"id\":\"6ad204bb-adb8-4132-aa91-6fa267c07ed9\",\"type\":\"Selection\"},{\"attributes\":{\"source\":{\"id\":\"944d5445-eee6-43ed-a345-87c5d86e8487\",\"type\":\"ColumnDataSource\"}},\"id\":\"e54e1a9a-79f9-4e26-a7c0-c2fb79e61188\",\"type\":\"CDSView\"},{\"attributes\":{},\"id\":\"99296e9d-ac9d-4ac7-904e-1c686cd8d64c\",\"type\":\"UnionRenderers\"},{\"attributes\":{\"callback\":null,\"data\":{\"x\":[0,0],\"y\":[0,0]},\"selected\":{\"id\":\"e8bb29ff-da2a-4890-bf98-a53b7658b233\",\"type\":\"Selection\"},\"selection_policy\":{\"id\":\"90646fe4-fc5e-49d4-80c8-88c8e9a27830\",\"type\":\"UnionRenderers\"}},\"id\":\"8a584349-e635-4dc0-a127-25e5ca20e4ea\",\"type\":\"ColumnDataSource\"},{\"attributes\":{},\"id\":\"9255e921-4091-4243-ab71-d5e9b07d191d\",\"type\":\"Selection\"},{\"attributes\":{\"line_alpha\":0.4,\"line_width\":5,\"x\":{\"field\":\"x\"},\"y\":{\"field\":\"y\"}},\"id\":\"14c4c700-0bb8-4cd2-bc3b-f8b659b1a097\",\"type\":\"Line\"},{\"attributes\":{},\"id\":\"ee13346c-a4fa-469d-8f39-52fea49f6839\",\"type\":\"UnionRenderers\"},{\"attributes\":{\"line_alpha\":0.1,\"line_color\":\"#1f77b4\",\"line_width\":5,\"x\":{\"field\":\"x\"},\"y\":{\"field\":\"y\"}},\"id\":\"2ef5c11d-cafb-4cd7-b6e3-4f2f4f689189\",\"type\":\"Line\"},{\"attributes\":{},\"id\":\"da1d2566-fbdd-4942-ac26-b2db371efe09\",\"type\":\"Selection\"},{\"attributes\":{\"data_source\":{\"id\":\"8a584349-e635-4dc0-a127-25e5ca20e4ea\",\"type\":\"ColumnDataSource\"},\"glyph\":{\"id\":\"14c4c700-0bb8-4cd2-bc3b-f8b659b1a097\",\"type\":\"Line\"},\"hover_glyph\":null,\"muted_glyph\":null,\"nonselection_glyph\":{\"id\":\"2ef5c11d-cafb-4cd7-b6e3-4f2f4f689189\",\"type\":\"Line\"},\"selection_glyph\":null,\"view\":{\"id\":\"c53886b9-2d55-4df6-a76d-eff6d1d5d768\",\"type\":\"CDSView\"}},\"id\":\"cb8c1a60-23cf-40c6-814b-434ff0ac82ce\",\"type\":\"GlyphRenderer\"},{\"attributes\":{},\"id\":\"62c1789a-109c-4a4e-96c4-d97d9d48fd4e\",\"type\":\"UnionRenderers\"},{\"attributes\":{\"source\":{\"id\":\"8a584349-e635-4dc0-a127-25e5ca20e4ea\",\"type\":\"ColumnDataSource\"}},\"id\":\"c53886b9-2d55-4df6-a76d-eff6d1d5d768\",\"type\":\"CDSView\"},{\"attributes\":{},\"id\":\"2d1b471d-f523-4760-9927-6b668fb4913e\",\"type\":\"Selection\"},{\"attributes\":{\"callback\":null,\"data\":{\"x\":[0,0],\"y\":[0,0]},\"selected\":{\"id\":\"b2476409-a88b-4ce2-b478-d23114c09eac\",\"type\":\"Selection\"},\"selection_policy\":{\"id\":\"0926b39a-1ae5-4672-9995-6edc1be3ce0b\",\"type\":\"UnionRenderers\"}},\"id\":\"d300219b-859a-48e8-9e87-c8e22e5f4164\",\"type\":\"ColumnDataSource\"},{\"attributes\":{},\"id\":\"11f2a303-9ed8-45b5-9e9a-86b5f8f083c5\",\"type\":\"UnionRenderers\"},{\"attributes\":{\"line_alpha\":0.4,\"line_color\":\"orange\",\"line_width\":5,\"x\":{\"field\":\"x\"},\"y\":{\"field\":\"y\"}},\"id\":\"7a88060e-45da-4e35-87bd-493d282d2239\",\"type\":\"Line\"},{\"attributes\":{},\"id\":\"6c7a7a3c-5f3d-4e25-958d-cc3c3baf249b\",\"type\":\"Selection\"},{\"attributes\":{\"line_alpha\":0.1,\"line_color\":\"#1f77b4\",\"line_width\":5,\"x\":{\"field\":\"x\"},\"y\":{\"field\":\"y\"}},\"id\":\"922289b0-84a2-48aa-95f8-93ca79fa6c65\",\"type\":\"Line\"},{\"attributes\":{},\"id\":\"49e33645-95c1-46b9-825a-98dd9c6ed97b\",\"type\":\"UnionRenderers\"},{\"attributes\":{\"data_source\":{\"id\":\"d300219b-859a-48e8-9e87-c8e22e5f4164\",\"type\":\"ColumnDataSource\"},\"glyph\":{\"id\":\"7a88060e-45da-4e35-87bd-493d282d2239\",\"type\":\"Line\"},\"hover_glyph\":null,\"muted_glyph\":null,\"nonselection_glyph\":{\"id\":\"922289b0-84a2-48aa-95f8-93ca79fa6c65\",\"type\":\"Line\"},\"selection_glyph\":null,\"view\":{\"id\":\"48751461-aa51-4e5d-94be-18ec8173cc7e\",\"type\":\"CDSView\"}},\"id\":\"d98a5248-a155-48b2-aa96-c57c8211dd59\",\"type\":\"GlyphRenderer\"},{\"attributes\":{},\"id\":\"a85657ee-920f-4ca0-96c1-0c3d90cb7f55\",\"type\":\"Selection\"},{\"attributes\":{\"source\":{\"id\":\"d300219b-859a-48e8-9e87-c8e22e5f4164\",\"type\":\"ColumnDataSource\"}},\"id\":\"48751461-aa51-4e5d-94be-18ec8173cc7e\",\"type\":\"CDSView\"},{\"attributes\":{},\"id\":\"d3cd1aad-bd11-4739-b1ef-122f1e4fb2c2\",\"type\":\"UnionRenderers\"},{\"attributes\":{\"callback\":null,\"data\":{\"x\":[0,0],\"y\":[3,0]},\"selected\":{\"id\":\"acc803e1-48c5-4594-8d80-d78382eeb754\",\"type\":\"Selection\"},\"selection_policy\":{\"id\":\"f56e350e-2991-4031-9f0a-2fc81f23bc25\",\"type\":\"UnionRenderers\"}},\"id\":\"a7101acb-c888-4123-9499-b4cc836d151f\",\"type\":\"ColumnDataSource\"},{\"attributes\":{},\"id\":\"83a6cb6c-8063-4fce-aa1d-bab0a0a84f04\",\"type\":\"Selection\"},{\"attributes\":{\"line_alpha\":0.6,\"line_color\":\"green\",\"line_width\":5,\"x\":{\"field\":\"x\"},\"y\":{\"field\":\"y\"}},\"id\":\"f107f3aa-91da-482b-b21b-a45994f94de2\",\"type\":\"Line\"},{\"attributes\":{},\"id\":\"097c3afa-b492-407d-8dd4-f562f0ba07cb\",\"type\":\"UnionRenderers\"},{\"attributes\":{\"line_alpha\":0.1,\"line_color\":\"#1f77b4\",\"line_width\":5,\"x\":{\"field\":\"x\"},\"y\":{\"field\":\"y\"}},\"id\":\"5b2470a3-6969-4850-98cd-9f581e020115\",\"type\":\"Line\"},{\"attributes\":{},\"id\":\"fcdaf202-2936-47c7-9efd-30b82bf05a4b\",\"type\":\"Selection\"},{\"attributes\":{\"data_source\":{\"id\":\"a7101acb-c888-4123-9499-b4cc836d151f\",\"type\":\"ColumnDataSource\"},\"glyph\":{\"id\":\"f107f3aa-91da-482b-b21b-a45994f94de2\",\"type\":\"Line\"},\"hover_glyph\":null,\"muted_glyph\":null,\"nonselection_glyph\":{\"id\":\"5b2470a3-6969-4850-98cd-9f581e020115\",\"type\":\"Line\"},\"selection_glyph\":null,\"view\":{\"id\":\"1ea8116d-8d29-484d-826f-008969e7f78a\",\"type\":\"CDSView\"}},\"id\":\"d4d363ac-c2ca-44f2-9165-e4938900b9f6\",\"type\":\"GlyphRenderer\"},{\"attributes\":{},\"id\":\"20df0366-38db-45c4-8c65-581cbee8729b\",\"type\":\"UnionRenderers\"},{\"attributes\":{\"source\":{\"id\":\"a7101acb-c888-4123-9499-b4cc836d151f\",\"type\":\"ColumnDataSource\"}},\"id\":\"1ea8116d-8d29-484d-826f-008969e7f78a\",\"type\":\"CDSView\"},{\"attributes\":{},\"id\":\"87b16201-c094-4b58-964d-e9a66b683df3\",\"type\":\"Selection\"},{\"attributes\":{\"callback\":null,\"data\":{\"x\":[1,1],\"y\":[3,0]},\"selected\":{\"id\":\"416395a2-5a49-419a-96e8-0587ca0fd5ff\",\"type\":\"Selection\"},\"selection_policy\":{\"id\":\"a15cc649-454d-452d-8701-c007a6b78b2c\",\"type\":\"UnionRenderers\"}},\"id\":\"4be3112a-5a84-49d3-84af-de337f2d47f9\",\"type\":\"ColumnDataSource\"},{\"attributes\":{},\"id\":\"3207a2eb-6cce-41b7-848c-d5584f027261\",\"type\":\"UnionRenderers\"},{\"attributes\":{\"line_alpha\":0.4,\"line_width\":5,\"x\":{\"field\":\"x\"},\"y\":{\"field\":\"y\"}},\"id\":\"a060cd9a-d126-40a7-bee9-77752e89d3f9\",\"type\":\"Line\"},{\"attributes\":{},\"id\":\"0a649688-a603-4631-895e-c6c73b249d93\",\"type\":\"Selection\"},{\"attributes\":{\"line_alpha\":0.1,\"line_color\":\"#1f77b4\",\"line_width\":5,\"x\":{\"field\":\"x\"},\"y\":{\"field\":\"y\"}},\"id\":\"b00f6a49-443b-4f2f-a392-308f5ad295b9\",\"type\":\"Line\"},{\"attributes\":{},\"id\":\"d0f9b3ba-3708-42f6-86e2-71c566d4ed63\",\"type\":\"UnionRenderers\"},{\"attributes\":{\"data_source\":{\"id\":\"4be3112a-5a84-49d3-84af-de337f2d47f9\",\"type\":\"ColumnDataSource\"},\"glyph\":{\"id\":\"a060cd9a-d126-40a7-bee9-77752e89d3f9\",\"type\":\"Line\"},\"hover_glyph\":null,\"muted_glyph\":null,\"nonselection_glyph\":{\"id\":\"b00f6a49-443b-4f2f-a392-308f5ad295b9\",\"type\":\"Line\"},\"selection_glyph\":null,\"view\":{\"id\":\"16208117-5986-45a8-936b-580ca2ccc564\",\"type\":\"CDSView\"}},\"id\":\"2442a51b-0ae0-48ae-b5a4-3035542868e6\",\"type\":\"GlyphRenderer\"},{\"attributes\":{},\"id\":\"148b2b67-fd10-4bf6-baae-00e4931defee\",\"type\":\"Selection\"},{\"attributes\":{\"source\":{\"id\":\"4be3112a-5a84-49d3-84af-de337f2d47f9\",\"type\":\"ColumnDataSource\"}},\"id\":\"16208117-5986-45a8-936b-580ca2ccc564\",\"type\":\"CDSView\"},{\"attributes\":{},\"id\":\"d64bf578-cb18-4f7d-b653-f06b1ff7a8b3\",\"type\":\"UnionRenderers\"},{\"attributes\":{\"callback\":null,\"data\":{\"x\":[1,1],\"y\":[7,3]},\"selected\":{\"id\":\"71902390-0a0a-4fba-b34f-e3262d58803f\",\"type\":\"Selection\"},\"selection_policy\":{\"id\":\"dd9e2652-a6f4-40c7-a996-362486eef9ed\",\"type\":\"UnionRenderers\"}},\"id\":\"27d154ed-98dc-4e19-8e79-4f90ae9a7b0d\",\"type\":\"ColumnDataSource\"},{\"attributes\":{},\"id\":\"de40f028-f6f1-4817-883b-25f06cd2d98c\",\"type\":\"Selection\"},{\"attributes\":{\"line_alpha\":0.4,\"line_color\":\"orange\",\"line_width\":5,\"x\":{\"field\":\"x\"},\"y\":{\"field\":\"y\"}},\"id\":\"a0fe6724-89ac-41b5-9928-97df3d14e5be\",\"type\":\"Line\"},{\"attributes\":{},\"id\":\"e944f088-06e5-4128-a31b-2f26641b1318\",\"type\":\"UnionRenderers\"},{\"attributes\":{\"line_alpha\":0.1,\"line_color\":\"#1f77b4\",\"line_width\":5,\"x\":{\"field\":\"x\"},\"y\":{\"field\":\"y\"}},\"id\":\"286f6b36-68a7-4462-a0a8-82554db09b39\",\"type\":\"Line\"},{\"attributes\":{},\"id\":\"e0070046-b3c4-4b73-bf8b-321d2ba75194\",\"type\":\"Selection\"},{\"attributes\":{\"data_source\":{\"id\":\"27d154ed-98dc-4e19-8e79-4f90ae9a7b0d\",\"type\":\"ColumnDataSource\"},\"glyph\":{\"id\":\"a0fe6724-89ac-41b5-9928-97df3d14e5be\",\"type\":\"Line\"},\"hover_glyph\":null,\"muted_glyph\":null,\"nonselection_glyph\":{\"id\":\"286f6b36-68a7-4462-a0a8-82554db09b39\",\"type\":\"Line\"},\"selection_glyph\":null,\"view\":{\"id\":\"39bb1f84-bd11-420f-b9e9-a432067fa878\",\"type\":\"CDSView\"}},\"id\":\"aae35389-989f-4fc9-9369-bdb3f4e485ff\",\"type\":\"GlyphRenderer\"},{\"attributes\":{},\"id\":\"f5b2e016-da3e-48a8-9c65-c15363c4feff\",\"type\":\"UnionRenderers\"},{\"attributes\":{\"source\":{\"id\":\"27d154ed-98dc-4e19-8e79-4f90ae9a7b0d\",\"type\":\"ColumnDataSource\"}},\"id\":\"39bb1f84-bd11-420f-b9e9-a432067fa878\",\"type\":\"CDSView\"},{\"attributes\":{},\"id\":\"bb3ad447-905b-4892-9c4e-2ff55e13d0bf\",\"type\":\"Selection\"},{\"attributes\":{\"callback\":null,\"data\":{\"x\":[1,1],\"y\":[10,7]},\"selected\":{\"id\":\"6ad204bb-adb8-4132-aa91-6fa267c07ed9\",\"type\":\"Selection\"},\"selection_policy\":{\"id\":\"48f1b92a-1e8c-4f10-bbaf-130ef5d70257\",\"type\":\"UnionRenderers\"}},\"id\":\"f4649446-4876-465a-8be2-fca95d58092b\",\"type\":\"ColumnDataSource\"},{\"attributes\":{\"line_alpha\":0.6,\"line_color\":\"green\",\"line_width\":5,\"x\":{\"field\":\"x\"},\"y\":{\"field\":\"y\"}},\"id\":\"826da89b-b5b3-402d-94ac-4f44e6752845\",\"type\":\"Line\"},{\"attributes\":{\"line_alpha\":0.1,\"line_color\":\"#1f77b4\",\"line_width\":5,\"x\":{\"field\":\"x\"},\"y\":{\"field\":\"y\"}},\"id\":\"0f1900a8-ef8b-4efd-8f76-fa2f43cbe407\",\"type\":\"Line\"},{\"attributes\":{\"data_source\":{\"id\":\"f4649446-4876-465a-8be2-fca95d58092b\",\"type\":\"ColumnDataSource\"},\"glyph\":{\"id\":\"826da89b-b5b3-402d-94ac-4f44e6752845\",\"type\":\"Line\"},\"hover_glyph\":null,\"muted_glyph\":null,\"nonselection_glyph\":{\"id\":\"0f1900a8-ef8b-4efd-8f76-fa2f43cbe407\",\"type\":\"Line\"},\"selection_glyph\":null,\"view\":{\"id\":\"1804b5f2-1101-4258-85f7-44bab64f0d34\",\"type\":\"CDSView\"}},\"id\":\"953f37fb-c6fc-4630-b6d9-a84471747421\",\"type\":\"GlyphRenderer\"},{\"attributes\":{\"source\":{\"id\":\"f4649446-4876-465a-8be2-fca95d58092b\",\"type\":\"ColumnDataSource\"}},\"id\":\"1804b5f2-1101-4258-85f7-44bab64f0d34\",\"type\":\"CDSView\"},{\"attributes\":{\"callback\":null,\"data\":{\"x\":[2,2],\"y\":[12,0]},\"selected\":{\"id\":\"9255e921-4091-4243-ab71-d5e9b07d191d\",\"type\":\"Selection\"},\"selection_policy\":{\"id\":\"99296e9d-ac9d-4ac7-904e-1c686cd8d64c\",\"type\":\"UnionRenderers\"}},\"id\":\"879e95c8-6cb5-4fb6-b4b0-d7464d6b4282\",\"type\":\"ColumnDataSource\"},{\"attributes\":{\"line_alpha\":0.4,\"line_width\":5,\"x\":{\"field\":\"x\"},\"y\":{\"field\":\"y\"}},\"id\":\"1281d825-c3b9-47bb-afa7-f179e1d3268c\",\"type\":\"Line\"},{\"attributes\":{\"line_alpha\":0.1,\"line_color\":\"#1f77b4\",\"line_width\":5,\"x\":{\"field\":\"x\"},\"y\":{\"field\":\"y\"}},\"id\":\"5deb6e83-1e61-4143-bd4d-ce07efe38187\",\"type\":\"Line\"},{\"attributes\":{\"data_source\":{\"id\":\"879e95c8-6cb5-4fb6-b4b0-d7464d6b4282\",\"type\":\"ColumnDataSource\"},\"glyph\":{\"id\":\"1281d825-c3b9-47bb-afa7-f179e1d3268c\",\"type\":\"Line\"},\"hover_glyph\":null,\"muted_glyph\":null,\"nonselection_glyph\":{\"id\":\"5deb6e83-1e61-4143-bd4d-ce07efe38187\",\"type\":\"Line\"},\"selection_glyph\":null,\"view\":{\"id\":\"22db9b88-5966-478e-add4-098d6209cd5b\",\"type\":\"CDSView\"}},\"id\":\"026f326d-b3c0-42df-8c2f-26093c9afdae\",\"type\":\"GlyphRenderer\"},{\"attributes\":{\"source\":{\"id\":\"879e95c8-6cb5-4fb6-b4b0-d7464d6b4282\",\"type\":\"ColumnDataSource\"}},\"id\":\"22db9b88-5966-478e-add4-098d6209cd5b\",\"type\":\"CDSView\"},{\"attributes\":{\"callback\":null,\"data\":{\"x\":[2,2],\"y\":[20,12]},\"selected\":{\"id\":\"da1d2566-fbdd-4942-ac26-b2db371efe09\",\"type\":\"Selection\"},\"selection_policy\":{\"id\":\"ee13346c-a4fa-469d-8f39-52fea49f6839\",\"type\":\"UnionRenderers\"}},\"id\":\"f1f25733-236b-44d3-9d05-a966b36f0610\",\"type\":\"ColumnDataSource\"},{\"attributes\":{\"line_alpha\":0.4,\"line_color\":\"orange\",\"line_width\":5,\"x\":{\"field\":\"x\"},\"y\":{\"field\":\"y\"}},\"id\":\"5d6b8d5b-7043-404d-ac2b-d659ada5ffdd\",\"type\":\"Line\"},{\"attributes\":{\"line_alpha\":0.1,\"line_color\":\"#1f77b4\",\"line_width\":5,\"x\":{\"field\":\"x\"},\"y\":{\"field\":\"y\"}},\"id\":\"d8217b99-ec62-4a08-b9a1-ebe335e5805b\",\"type\":\"Line\"},{\"attributes\":{\"data_source\":{\"id\":\"f1f25733-236b-44d3-9d05-a966b36f0610\",\"type\":\"ColumnDataSource\"},\"glyph\":{\"id\":\"5d6b8d5b-7043-404d-ac2b-d659ada5ffdd\",\"type\":\"Line\"},\"hover_glyph\":null,\"muted_glyph\":null,\"nonselection_glyph\":{\"id\":\"d8217b99-ec62-4a08-b9a1-ebe335e5805b\",\"type\":\"Line\"},\"selection_glyph\":null,\"view\":{\"id\":\"e96285ed-11c6-4df3-a65a-4fb6f8d37a87\",\"type\":\"CDSView\"}},\"id\":\"6f8c1d76-3c92-4b36-bfea-44562ec07017\",\"type\":\"GlyphRenderer\"},{\"attributes\":{\"source\":{\"id\":\"f1f25733-236b-44d3-9d05-a966b36f0610\",\"type\":\"ColumnDataSource\"}},\"id\":\"e96285ed-11c6-4df3-a65a-4fb6f8d37a87\",\"type\":\"CDSView\"},{\"attributes\":{\"data_source\":{\"id\":\"d8320c50-5d6a-4bc9-88a8-35fb0d5ffe7e\",\"type\":\"ColumnDataSource\"},\"glyph\":{\"id\":\"4957c2a5-8262-468f-a47c-dcf756337b73\",\"type\":\"Line\"},\"hover_glyph\":null,\"muted_glyph\":null,\"nonselection_glyph\":{\"id\":\"88aa4e9e-3f32-4adb-80e8-ffce96c649e3\",\"type\":\"Line\"},\"selection_glyph\":null,\"view\":{\"id\":\"0e94089c-b71d-4211-ba41-f0b4fdb79b1e\",\"type\":\"CDSView\"}},\"id\":\"ae2e79d2-77c7-41c5-a3d3-2b6144125f7a\",\"type\":\"GlyphRenderer\"},{\"attributes\":{},\"id\":\"0e471541-9162-4948-a7cf-f2ff163aa193\",\"type\":\"Selection\"},{\"attributes\":{\"line_alpha\":0.5,\"line_color\":\"green\",\"line_width\":2,\"x\":{\"field\":\"x\"},\"y\":{\"value\":3}},\"id\":\"18b8e87d-bad5-47cf-98b0-3d5af52e1f6d\",\"type\":\"Line\"},{\"attributes\":{\"line_alpha\":0.1,\"line_color\":\"#1f77b4\",\"line_width\":2,\"x\":{\"field\":\"x\"},\"y\":{\"value\":3}},\"id\":\"b301a633-a414-4944-a233-7cdd43cfb0d8\",\"type\":\"Line\"},{\"attributes\":{\"data_source\":{\"id\":\"fe5bcc91-63fd-4a0e-a64a-c7eac8fafcc9\",\"type\":\"ColumnDataSource\"},\"glyph\":{\"id\":\"18b8e87d-bad5-47cf-98b0-3d5af52e1f6d\",\"type\":\"Line\"},\"hover_glyph\":null,\"muted_glyph\":null,\"nonselection_glyph\":{\"id\":\"b301a633-a414-4944-a233-7cdd43cfb0d8\",\"type\":\"Line\"},\"selection_glyph\":null,\"view\":{\"id\":\"3f974b7f-b215-4bd9-ac6e-1d6f59089d08\",\"type\":\"CDSView\"}},\"id\":\"fd64a90c-7cb4-41f2-9a88-19142e775baf\",\"type\":\"GlyphRenderer\"},{\"attributes\":{\"source\":{\"id\":\"fe5bcc91-63fd-4a0e-a64a-c7eac8fafcc9\",\"type\":\"ColumnDataSource\"}},\"id\":\"3f974b7f-b215-4bd9-ac6e-1d6f59089d08\",\"type\":\"CDSView\"},{\"attributes\":{},\"id\":\"6cce51d4-08ed-4617-8b33-4840b56804a4\",\"type\":\"UnionRenderers\"},{\"attributes\":{\"callback\":null,\"data\":{\"x\":[-5,-5],\"y\":[75,0]},\"selected\":{\"id\":\"882348b7-a5e8-4f1d-9156-2ee4d2455de4\",\"type\":\"Selection\"},\"selection_policy\":{\"id\":\"963e2b40-7773-4273-802a-4e7966fb40f6\",\"type\":\"UnionRenderers\"}},\"id\":\"c80e39d6-1252-4069-af9c-480f1c848c14\",\"type\":\"ColumnDataSource\"},{\"attributes\":{\"label\":{\"value\":\"df3 = 3\"},\"renderers\":[{\"id\":\"fd64a90c-7cb4-41f2-9a88-19142e775baf\",\"type\":\"GlyphRenderer\"}]},\"id\":\"7be0100a-d566-48d6-9a82-8c6f319d48ca\",\"type\":\"LegendItem\"},{\"attributes\":{\"below\":[{\"id\":\"5168a470-0c42-4cb2-b33e-c92a55e43b45\",\"type\":\"LinearAxis\"}],\"left\":[{\"id\":\"694b218d-36fe-4cce-b9a5-43d7e0282955\",\"type\":\"LinearAxis\"}],\"plot_height\":400,\"plot_width\":475,\"renderers\":[{\"id\":\"5168a470-0c42-4cb2-b33e-c92a55e43b45\",\"type\":\"LinearAxis\"},{\"id\":\"cd3cb50e-92fc-409a-8573-46d95ac316bc\",\"type\":\"Grid\"},{\"id\":\"694b218d-36fe-4cce-b9a5-43d7e0282955\",\"type\":\"LinearAxis\"},{\"id\":\"e2e508ea-cbf1-4927-aa60-895a1c5a616e\",\"type\":\"Grid\"},{\"id\":\"acc36923-2d8c-4b43-a965-05eea23be915\",\"type\":\"BoxAnnotation\"},{\"id\":\"15e3e391-b29e-4e46-a202-d6a81d2e68c3\",\"type\":\"GlyphRenderer\"},{\"id\":\"8961f449-93fc-422e-9039-2eb467378216\",\"type\":\"GlyphRenderer\"},{\"id\":\"fb4dae36-2437-4c30-b78f-a2dd7405f599\",\"type\":\"GlyphRenderer\"},{\"id\":\"8d49d328-4ee2-4786-bd1f-9a87cedf9afa\",\"type\":\"GlyphRenderer\"},{\"id\":\"378ea8c3-3352-4c97-b3cc-83b7fa2119d8\",\"type\":\"GlyphRenderer\"},{\"id\":\"a72b90c1-376e-497a-899f-52fcbd1e4e34\",\"type\":\"GlyphRenderer\"},{\"id\":\"522e32eb-8036-456f-9f64-8a069d649df9\",\"type\":\"GlyphRenderer\"},{\"id\":\"254741b4-9603-48ea-bf27-967b675fe9bf\",\"type\":\"GlyphRenderer\"},{\"id\":\"ae2e79d2-77c7-41c5-a3d3-2b6144125f7a\",\"type\":\"GlyphRenderer\"},{\"id\":\"8b4b695e-3a1e-458a-85ee-a2804d1c94b8\",\"type\":\"GlyphRenderer\"},{\"id\":\"e21b476e-05e5-44a1-9196-84cfd9d4532a\",\"type\":\"GlyphRenderer\"},{\"id\":\"b345dc22-a6d9-408e-9812-57a3f3ea8e9d\",\"type\":\"GlyphRenderer\"},{\"id\":\"f64855ec-69a3-4a68-8e70-6816a6d1443a\",\"type\":\"GlyphRenderer\"},{\"id\":\"3186b163-3857-454b-8f13-a4f4aa6bb147\",\"type\":\"GlyphRenderer\"},{\"id\":\"57b9947b-cdc7-45ee-aa77-0a106b99dfb6\",\"type\":\"GlyphRenderer\"},{\"id\":\"cb8c1a60-23cf-40c6-814b-434ff0ac82ce\",\"type\":\"GlyphRenderer\"},{\"id\":\"d98a5248-a155-48b2-aa96-c57c8211dd59\",\"type\":\"GlyphRenderer\"},{\"id\":\"d4d363ac-c2ca-44f2-9165-e4938900b9f6\",\"type\":\"GlyphRenderer\"},{\"id\":\"2442a51b-0ae0-48ae-b5a4-3035542868e6\",\"type\":\"GlyphRenderer\"},{\"id\":\"aae35389-989f-4fc9-9369-bdb3f4e485ff\",\"type\":\"GlyphRenderer\"},{\"id\":\"953f37fb-c6fc-4630-b6d9-a84471747421\",\"type\":\"GlyphRenderer\"},{\"id\":\"026f326d-b3c0-42df-8c2f-26093c9afdae\",\"type\":\"GlyphRenderer\"},{\"id\":\"6f8c1d76-3c92-4b36-bfea-44562ec07017\",\"type\":\"GlyphRenderer\"},{\"id\":\"94ee1203-f598-4409-8642-a2ad4c017abc\",\"type\":\"GlyphRenderer\"},{\"id\":\"92b0544e-51a5-4fbe-8902-a40ce59a4ef3\",\"type\":\"GlyphRenderer\"},{\"id\":\"076daeed-91b5-4f36-b1dd-97c8efce60c5\",\"type\":\"GlyphRenderer\"},{\"id\":\"4549b832-0f2e-49ce-8ba2-437846c54544\",\"type\":\"GlyphRenderer\"},{\"id\":\"fbc7a210-2955-4c34-8661-7891e223db0a\",\"type\":\"GlyphRenderer\"},{\"id\":\"24f443a0-507d-4a6b-bf09-2c7810d7a214\",\"type\":\"GlyphRenderer\"},{\"id\":\"82fe2046-4ff2-44b5-a737-1d951216c8e6\",\"type\":\"GlyphRenderer\"},{\"id\":\"eb638a4c-6957-4911-8546-5ef2a68a8ec8\",\"type\":\"GlyphRenderer\"},{\"id\":\"5c674978-e491-4e33-a299-9d6b8e981e23\",\"type\":\"GlyphRenderer\"},{\"id\":\"054c194e-9953-4fa2-9ea0-6b6487f6fa4a\",\"type\":\"GlyphRenderer\"},{\"id\":\"23619b41-5d6d-4a35-8867-43bd450f738b\",\"type\":\"GlyphRenderer\"}],\"title\":{\"id\":\"c7388389-7a34-4926-b77d-721d38ae4719\",\"type\":\"Title\"},\"toolbar\":{\"id\":\"a5bfbe34-88ee-4c0f-b384-4cff89fdb5b3\",\"type\":\"Toolbar\"},\"toolbar_location\":\"below\",\"x_range\":{\"id\":\"d866ff1e-2e15-429a-a6d2-e93a29de1b77\",\"type\":\"DataRange1d\"},\"x_scale\":{\"id\":\"c7a926c9-9ac6-4419-8a86-438d9a47b2cb\",\"type\":\"LinearScale\"},\"y_range\":{\"id\":\"e9db3018-bf43-46b3-89db-213ebabd7e10\",\"type\":\"DataRange1d\"},\"y_scale\":{\"id\":\"723e936e-a1d4-4903-99d4-47d69e06d3cd\",\"type\":\"LinearScale\"}},\"id\":\"0887d67f-a1fe-4c64-b758-e80060abf84a\",\"subtype\":\"Figure\",\"type\":\"Plot\"},{\"attributes\":{\"source\":{\"id\":\"c80e39d6-1252-4069-af9c-480f1c848c14\",\"type\":\"ColumnDataSource\"}},\"id\":\"addb81cf-176b-48ce-bc63-ee621336ff5f\",\"type\":\"CDSView\"},{\"attributes\":{\"plot\":null,\"text\":\"The Derivatives Combined\"},\"id\":\"c7388389-7a34-4926-b77d-721d38ae4719\",\"type\":\"Title\"},{\"attributes\":{\"callback\":null},\"id\":\"d866ff1e-2e15-429a-a6d2-e93a29de1b77\",\"type\":\"DataRange1d\"},{\"attributes\":{\"active_drag\":\"auto\",\"active_inspect\":\"auto\",\"active_multi\":null,\"active_scroll\":\"auto\",\"active_tap\":\"auto\",\"tools\":[{\"id\":\"573bc539-2dd2-48c6-bf3a-56877ddc16ac\",\"type\":\"PanTool\"},{\"id\":\"36e55e49-4b5b-4948-9fa1-6f2ce51663bd\",\"type\":\"WheelZoomTool\"},{\"id\":\"9fc34b61-db6c-4d2c-af75-033144f99b27\",\"type\":\"BoxZoomTool\"},{\"id\":\"cd8be61f-eeb8-4e11-93c7-ae687a2d0905\",\"type\":\"SaveTool\"},{\"id\":\"f237c2ac-36f8-44d4-9181-68c370f6b14c\",\"type\":\"ResetTool\"},{\"id\":\"47b83bb2-5103-4605-b0ee-8c98393f5bd1\",\"type\":\"HelpTool\"}]},\"id\":\"a5bfbe34-88ee-4c0f-b384-4cff89fdb5b3\",\"type\":\"Toolbar\"},{\"attributes\":{\"line_alpha\":0.1,\"line_color\":\"#1f77b4\",\"line_width\":5,\"x\":{\"field\":\"x\"},\"y\":{\"field\":\"y\"}},\"id\":\"7ea97c99-5274-4fdc-bbf0-0f4fd825afac\",\"type\":\"Line\"},{\"attributes\":{},\"id\":\"c7a926c9-9ac6-4419-8a86-438d9a47b2cb\",\"type\":\"LinearScale\"},{\"attributes\":{\"callback\":null},\"id\":\"e9db3018-bf43-46b3-89db-213ebabd7e10\",\"type\":\"DataRange1d\"},{\"attributes\":{},\"id\":\"723e936e-a1d4-4903-99d4-47d69e06d3cd\",\"type\":\"LinearScale\"},{\"attributes\":{\"plot\":{\"id\":\"0887d67f-a1fe-4c64-b758-e80060abf84a\",\"subtype\":\"Figure\",\"type\":\"Plot\"},\"ticker\":{\"id\":\"80c62bc2-eda6-4706-9bf6-b4a29d454131\",\"type\":\"BasicTicker\"}},\"id\":\"cd3cb50e-92fc-409a-8573-46d95ac316bc\",\"type\":\"Grid\"},{\"attributes\":{\"axis_label\":\"X\",\"formatter\":{\"id\":\"367c6a3f-876c-4407-a868-6318a9cf8f76\",\"type\":\"BasicTickFormatter\"},\"plot\":{\"id\":\"0887d67f-a1fe-4c64-b758-e80060abf84a\",\"subtype\":\"Figure\",\"type\":\"Plot\"},\"ticker\":{\"id\":\"80c62bc2-eda6-4706-9bf6-b4a29d454131\",\"type\":\"BasicTicker\"}},\"id\":\"5168a470-0c42-4cb2-b33e-c92a55e43b45\",\"type\":\"LinearAxis\"},{\"attributes\":{},\"id\":\"80c62bc2-eda6-4706-9bf6-b4a29d454131\",\"type\":\"BasicTicker\"},{\"attributes\":{\"axis_label\":\"f(X)\",\"formatter\":{\"id\":\"890395d8-8091-4e5d-84f6-2d6bc37adeb8\",\"type\":\"BasicTickFormatter\"},\"plot\":{\"id\":\"0887d67f-a1fe-4c64-b758-e80060abf84a\",\"subtype\":\"Figure\",\"type\":\"Plot\"},\"ticker\":{\"id\":\"9f6d4c6d-879b-4a0f-b059-725438b1f09a\",\"type\":\"BasicTicker\"}},\"id\":\"694b218d-36fe-4cce-b9a5-43d7e0282955\",\"type\":\"LinearAxis\"},{\"attributes\":{},\"id\":\"9f6d4c6d-879b-4a0f-b059-725438b1f09a\",\"type\":\"BasicTicker\"},{\"attributes\":{\"dimension\":1,\"plot\":{\"id\":\"0887d67f-a1fe-4c64-b758-e80060abf84a\",\"subtype\":\"Figure\",\"type\":\"Plot\"},\"ticker\":{\"id\":\"9f6d4c6d-879b-4a0f-b059-725438b1f09a\",\"type\":\"BasicTicker\"}},\"id\":\"e2e508ea-cbf1-4927-aa60-895a1c5a616e\",\"type\":\"Grid\"},{\"attributes\":{\"data_source\":{\"id\":\"c80e39d6-1252-4069-af9c-480f1c848c14\",\"type\":\"ColumnDataSource\"},\"glyph\":{\"id\":\"0454d374-f26a-4f3e-aa8b-0af5c415be52\",\"type\":\"Line\"},\"hover_glyph\":null,\"muted_glyph\":null,\"nonselection_glyph\":{\"id\":\"7ea97c99-5274-4fdc-bbf0-0f4fd825afac\",\"type\":\"Line\"},\"selection_glyph\":null,\"view\":{\"id\":\"addb81cf-176b-48ce-bc63-ee621336ff5f\",\"type\":\"CDSView\"}},\"id\":\"15e3e391-b29e-4e46-a202-d6a81d2e68c3\",\"type\":\"GlyphRenderer\"},{\"attributes\":{\"line_alpha\":0.4,\"line_width\":5,\"x\":{\"field\":\"x\"},\"y\":{\"field\":\"y\"}},\"id\":\"0454d374-f26a-4f3e-aa8b-0af5c415be52\",\"type\":\"Line\"},{\"attributes\":{\"callback\":null,\"data\":{\"x\":{\"__ndarray__\":\"AAAAAAAAFMCamZmZmZkTwDQzMzMzMxPAzszMzMzMEsBoZmZmZmYSwAIAAAAAABLAnJmZmZmZEcA2MzMzMzMRwNDMzMzMzBDAamZmZmZmEMAEAAAAAAAQwDwzMzMzMw/AcGZmZmZmDsCkmZmZmZkNwNjMzMzMzAzADAAAAAAADMBAMzMzMzMLwHRmZmZmZgrAqJmZmZmZCcDczMzMzMwIwBAAAAAAAAjARDMzMzMzB8B4ZmZmZmYGwKyZmZmZmQXA4MzMzMzMBMAUAAAAAAAEwEgzMzMzMwPAfGZmZmZmAsCwmZmZmZkBwOTMzMzMzADAGAAAAAAAAMCYZmZmZmb+vwDNzMzMzPy/aDMzMzMz+7/QmZmZmZn5vzgAAAAAAPi/oGZmZmZm9r8IzczMzMz0v3AzMzMzM/O/2JmZmZmZ8b9AAAAAAADwv1DNzMzMzOy/IJqZmZmZ6b/wZmZmZmbmv8AzMzMzM+O/kAAAAAAA4L/AmpmZmZnZv2A0MzMzM9O/AJyZmZmZyb+AnpmZmZm5vwAAAAAAABS9gJSZmZmZuT8Al5mZmZnJP+AxMzMzM9M/QJiZmZmZ2T+g/v/////fP4AyMzMzM+M/sGVmZmZm5j/gmJmZmZnpPxDMzMzMzOw/QP//////7z84mZmZmZnxP9AyMzMzM/M/aMzMzMzM9D8AZmZmZmb2P5j///////c/MJmZmZmZ+T/IMjMzMzP7P2DMzMzMzPw/+GVmZmZm/j+Q////////P5TMzMzMzABAYJmZmZmZAUAsZmZmZmYCQPgyMzMzMwNAxP//////A0CQzMzMzMwEQFyZmZmZmQVAKGZmZmZmBkD0MjMzMzMHQMD//////wdAjMzMzMzMCEBYmZmZmZkJQCRmZmZmZgpA8DIzMzMzC0C8//////8LQIjMzMzMzAxAVJmZmZmZDUAgZmZmZmYOQOwyMzMzMw9AuP//////D0BCZmZmZmYQQKjMzMzMzBBADjMzMzMzEUB0mZmZmZkRQNr//////xFAQGZmZmZmEkCmzMzMzMwSQAwzMzMzMxNAcpmZmZmZE0DY//////8TQA==\",\"dtype\":\"float64\",\"shape\":[101]},\"y\":{\"__ndarray__\":\"AAAAAAAATUDZo3A9CrdLQPgoXI/CdUpAYY/C9Sg8SUAQ16NwPQpIQAcAAAAA4EZARArXo3C9RUDJ9Shcj6JEQJjC9Shcj0NArXA9CteDQkAKAAAAAIBBQK9wPQrXg0BANoXrUbgeP0Ce61G4HkU9QJQUrkfhejtAGgAAAADAOUAurkfhehQ4QNIehetReDZAB1K4HoXrNEDKR+F6FG4zQBwAAAAAADJA/XoUrkehMEDccD0K16MuQNxwPQrXIyxA+vUoXI/CKUA4AAAAAIAnQJKPwvUoXCVADKRwPQpXI0CkPQrXo3AhQLi4HoXrUR9AYAAAAAAAHEBIUrgehesYQGyuR+F6FBZAzBSuR+F6E0BrhetRuB4RQIwAAAAAAA5AvArXo3A9CkBmKVyPwvUGQIpcj8L1KARAKKRwPQrXAUBAAAAAAAAAQKThehSuR/0/u+tRuB6F+z/GHoXrUbj6P8V6FK5H4fo/uP//////+z+frUfhehT+PzzC9ShcjwBAJML1KFyPAkCF1qNwPQoFQGD//////wdAtTwK16NwC0CEjsL1KFwPQGZ6FK5H4RFAyLcehetRFEBm//////8WQEFRuB6F6xlAWq1H4XoUHUDYCdejcD0gQCDC9ShcDyJAiP//////I0AOwvUoXA8mQLIJ16NwPShAdtajcD2KKkBXKFyPwvUsQFf/////fy9Au61H4XoUMUBZHoXrUXgyQIdRuB6F6zNAREfhehRuNUCQ//////82QGx6FK5HoThA1rcehetROkDQtx6F6xE8QFl6FK5H4T1Acv////+/P0CMo3A9CtdAQKgoXI/C1UFAC4/C9SjcQkC21qNwPepDQKj//////0RA4gnXo3AdRkBk9Shcj0JHQC3C9Shcb0hAPXA9CtejSUCW/////99KQDZwPQrXI0xAHsL1KFxvTUBN9Shcj8JOQOKE61G4DlBAwf////+/UEBE61G4HnVRQGtH4XoULlJANhSuR+HqUkCkUbgehatTQLb/////b1RAbR6F61E4VUDGrUfhegRWQMStR+F61FZAZh6F61GoV0Cr/////39YQA==\",\"dtype\":\"float64\",\"shape\":[101]}},\"selected\":{\"id\":\"bb3ad447-905b-4892-9c4e-2ff55e13d0bf\",\"type\":\"Selection\"},\"selection_policy\":{\"id\":\"f5b2e016-da3e-48a8-9c65-c15363c4feff\",\"type\":\"UnionRenderers\"}},\"id\":\"37368240-67ac-474e-b9f9-541bd8c4c617\",\"type\":\"ColumnDataSource\"},{\"attributes\":{\"line_alpha\":0.4,\"line_color\":\"orange\",\"line_width\":5,\"x\":{\"field\":\"x\"},\"y\":{\"field\":\"y\"}},\"id\":\"a615cd3e-adcb-4302-8492-57181ef85e69\",\"type\":\"Line\"},{\"attributes\":{},\"id\":\"573bc539-2dd2-48c6-bf3a-56877ddc16ac\",\"type\":\"PanTool\"},{\"attributes\":{\"callback\":null,\"data\":{\"x\":[-5,-5],\"y\":[55,75]},\"selected\":{\"id\":\"94905c2d-b254-4a43-b7a6-d56760538f6d\",\"type\":\"Selection\"},\"selection_policy\":{\"id\":\"740c7b06-a476-4f2b-9609-20b488bb000c\",\"type\":\"UnionRenderers\"}},\"id\":\"1cec58f3-28b5-4b3f-a83f-a3e1b3fa975e\",\"type\":\"ColumnDataSource\"},{\"attributes\":{},\"id\":\"36e55e49-4b5b-4948-9fa1-6f2ce51663bd\",\"type\":\"WheelZoomTool\"},{\"attributes\":{\"overlay\":{\"id\":\"acc36923-2d8c-4b43-a965-05eea23be915\",\"type\":\"BoxAnnotation\"}},\"id\":\"9fc34b61-db6c-4d2c-af75-033144f99b27\",\"type\":\"BoxZoomTool\"},{\"attributes\":{},\"id\":\"cd8be61f-eeb8-4e11-93c7-ae687a2d0905\",\"type\":\"SaveTool\"},{\"attributes\":{},\"id\":\"f237c2ac-36f8-44d4-9181-68c370f6b14c\",\"type\":\"ResetTool\"},{\"attributes\":{},\"id\":\"47b83bb2-5103-4605-b0ee-8c98393f5bd1\",\"type\":\"HelpTool\"},{\"attributes\":{\"bottom_units\":\"screen\",\"fill_alpha\":{\"value\":0.5},\"fill_color\":{\"value\":\"lightgrey\"},\"left_units\":\"screen\",\"level\":\"overlay\",\"line_alpha\":{\"value\":1.0},\"line_color\":{\"value\":\"black\"},\"line_dash\":[4,4],\"line_width\":{\"value\":2},\"plot\":null,\"render_mode\":\"css\",\"right_units\":\"screen\",\"top_units\":\"screen\"},\"id\":\"acc36923-2d8c-4b43-a965-05eea23be915\",\"type\":\"BoxAnnotation\"},{\"attributes\":{\"source\":{\"id\":\"1cec58f3-28b5-4b3f-a83f-a3e1b3fa975e\",\"type\":\"ColumnDataSource\"}},\"id\":\"f55ca1f3-609a-4e60-9beb-059ebf90ebab\",\"type\":\"CDSView\"},{\"attributes\":{\"line_alpha\":0.1,\"line_color\":\"#1f77b4\",\"line_width\":5,\"x\":{\"field\":\"x\"},\"y\":{\"field\":\"y\"}},\"id\":\"e2b2eadc-16ec-4a5e-afd2-8c0c44585da1\",\"type\":\"Line\"},{\"attributes\":{\"data_source\":{\"id\":\"1cec58f3-28b5-4b3f-a83f-a3e1b3fa975e\",\"type\":\"ColumnDataSource\"},\"glyph\":{\"id\":\"a615cd3e-adcb-4302-8492-57181ef85e69\",\"type\":\"Line\"},\"hover_glyph\":null,\"muted_glyph\":null,\"nonselection_glyph\":{\"id\":\"e2b2eadc-16ec-4a5e-afd2-8c0c44585da1\",\"type\":\"Line\"},\"selection_glyph\":null,\"view\":{\"id\":\"f55ca1f3-609a-4e60-9beb-059ebf90ebab\",\"type\":\"CDSView\"}},\"id\":\"8961f449-93fc-422e-9039-2eb467378216\",\"type\":\"GlyphRenderer\"},{\"attributes\":{\"callback\":null,\"data\":{\"x\":[-5,-5],\"y\":[58,55]},\"selected\":{\"id\":\"1420c7af-4b75-43ea-864a-043ee12b9df9\",\"type\":\"Selection\"},\"selection_policy\":{\"id\":\"d595f07b-a37b-4b95-abf6-4611a2644beb\",\"type\":\"UnionRenderers\"}},\"id\":\"da964295-23ec-47cd-ac5a-e0217811d8e1\",\"type\":\"ColumnDataSource\"},{\"attributes\":{\"line_alpha\":0.6,\"line_color\":\"green\",\"line_width\":5,\"x\":{\"field\":\"x\"},\"y\":{\"field\":\"y\"}},\"id\":\"eee99659-0ff1-496e-ba7b-d1196df8875b\",\"type\":\"Line\"},{\"attributes\":{\"line_alpha\":0.1,\"line_color\":\"#1f77b4\",\"line_width\":5,\"x\":{\"field\":\"x\"},\"y\":{\"field\":\"y\"}},\"id\":\"eff355ab-add3-4258-b0e2-dc563ff5b431\",\"type\":\"Line\"},{\"attributes\":{\"data_source\":{\"id\":\"da964295-23ec-47cd-ac5a-e0217811d8e1\",\"type\":\"ColumnDataSource\"},\"glyph\":{\"id\":\"eee99659-0ff1-496e-ba7b-d1196df8875b\",\"type\":\"Line\"},\"hover_glyph\":null,\"muted_glyph\":null,\"nonselection_glyph\":{\"id\":\"eff355ab-add3-4258-b0e2-dc563ff5b431\",\"type\":\"Line\"},\"selection_glyph\":null,\"view\":{\"id\":\"b707973d-76bc-4e08-b996-e0f0fd589097\",\"type\":\"CDSView\"}},\"id\":\"fb4dae36-2437-4c30-b78f-a2dd7405f599\",\"type\":\"GlyphRenderer\"},{\"attributes\":{\"source\":{\"id\":\"da964295-23ec-47cd-ac5a-e0217811d8e1\",\"type\":\"ColumnDataSource\"}},\"id\":\"b707973d-76bc-4e08-b996-e0f0fd589097\",\"type\":\"CDSView\"},{\"attributes\":{\"callback\":null,\"data\":{\"x\":[-4,-4],\"y\":[48,0]},\"selected\":{\"id\":\"ed7ef8b0-ec95-486e-b799-47472beab348\",\"type\":\"Selection\"},\"selection_policy\":{\"id\":\"1103ec75-b676-4f54-9179-6da30136c043\",\"type\":\"UnionRenderers\"}},\"id\":\"fe50326e-aa31-4486-96e7-3703d8a548b1\",\"type\":\"ColumnDataSource\"},{\"attributes\":{\"line_alpha\":0.4,\"line_width\":5,\"x\":{\"field\":\"x\"},\"y\":{\"field\":\"y\"}},\"id\":\"3fda321e-9fe9-4a95-be0b-d6212933f2fc\",\"type\":\"Line\"},{\"attributes\":{\"line_alpha\":0.1,\"line_color\":\"#1f77b4\",\"line_width\":5,\"x\":{\"field\":\"x\"},\"y\":{\"field\":\"y\"}},\"id\":\"c6b0e585-d32e-4d3b-8870-9e36f27e8fc7\",\"type\":\"Line\"},{\"attributes\":{\"data_source\":{\"id\":\"fe50326e-aa31-4486-96e7-3703d8a548b1\",\"type\":\"ColumnDataSource\"},\"glyph\":{\"id\":\"3fda321e-9fe9-4a95-be0b-d6212933f2fc\",\"type\":\"Line\"},\"hover_glyph\":null,\"muted_glyph\":null,\"nonselection_glyph\":{\"id\":\"c6b0e585-d32e-4d3b-8870-9e36f27e8fc7\",\"type\":\"Line\"},\"selection_glyph\":null,\"view\":{\"id\":\"b33367b4-c80a-4341-925c-97dc46552480\",\"type\":\"CDSView\"}},\"id\":\"8d49d328-4ee2-4786-bd1f-9a87cedf9afa\",\"type\":\"GlyphRenderer\"},{\"attributes\":{\"source\":{\"id\":\"fe50326e-aa31-4486-96e7-3703d8a548b1\",\"type\":\"ColumnDataSource\"}},\"id\":\"b33367b4-c80a-4341-925c-97dc46552480\",\"type\":\"CDSView\"},{\"attributes\":{\"callback\":null,\"data\":{\"x\":[-4,-4],\"y\":[32,48]},\"selected\":{\"id\":\"9a782f13-3ec3-4bac-9b8f-93e1370361ce\",\"type\":\"Selection\"},\"selection_policy\":{\"id\":\"e929df33-be86-4e6d-bb63-539acaf5d552\",\"type\":\"UnionRenderers\"}},\"id\":\"e2773fd1-d66f-4b03-a987-d5435fa85db9\",\"type\":\"ColumnDataSource\"},{\"attributes\":{\"line_alpha\":0.4,\"line_color\":\"orange\",\"line_width\":5,\"x\":{\"field\":\"x\"},\"y\":{\"field\":\"y\"}},\"id\":\"338c92c0-368e-4610-a34c-3d46ef25605e\",\"type\":\"Line\"},{\"attributes\":{\"line_alpha\":0.1,\"line_color\":\"#1f77b4\",\"line_width\":5,\"x\":{\"field\":\"x\"},\"y\":{\"field\":\"y\"}},\"id\":\"cb306684-7401-4724-8d69-4106640c8f1b\",\"type\":\"Line\"},{\"attributes\":{\"data_source\":{\"id\":\"e2773fd1-d66f-4b03-a987-d5435fa85db9\",\"type\":\"ColumnDataSource\"},\"glyph\":{\"id\":\"338c92c0-368e-4610-a34c-3d46ef25605e\",\"type\":\"Line\"},\"hover_glyph\":null,\"muted_glyph\":null,\"nonselection_glyph\":{\"id\":\"cb306684-7401-4724-8d69-4106640c8f1b\",\"type\":\"Line\"},\"selection_glyph\":null,\"view\":{\"id\":\"68de8671-aa95-4c78-a0bd-f52923c38dc7\",\"type\":\"CDSView\"}},\"id\":\"378ea8c3-3352-4c97-b3cc-83b7fa2119d8\",\"type\":\"GlyphRenderer\"},{\"attributes\":{\"source\":{\"id\":\"e2773fd1-d66f-4b03-a987-d5435fa85db9\",\"type\":\"ColumnDataSource\"}},\"id\":\"68de8671-aa95-4c78-a0bd-f52923c38dc7\",\"type\":\"CDSView\"},{\"attributes\":{\"callback\":null,\"data\":{\"x\":[-4,-4],\"y\":[35,32]},\"selected\":{\"id\":\"cfbbe47b-bc58-4bb4-81c0-9868cc3f9f2e\",\"type\":\"Selection\"},\"selection_policy\":{\"id\":\"ab21ec93-5faa-4484-be19-9c2d8fe3f9f4\",\"type\":\"UnionRenderers\"}},\"id\":\"a2ae55b6-920c-4c5f-a7a9-b9c815f1989a\",\"type\":\"ColumnDataSource\"},{\"attributes\":{\"line_alpha\":0.6,\"line_color\":\"green\",\"line_width\":5,\"x\":{\"field\":\"x\"},\"y\":{\"field\":\"y\"}},\"id\":\"d7c6148e-e3c8-4f5c-963d-364a6704ac26\",\"type\":\"Line\"},{\"attributes\":{\"line_alpha\":0.1,\"line_color\":\"#1f77b4\",\"line_width\":5,\"x\":{\"field\":\"x\"},\"y\":{\"field\":\"y\"}},\"id\":\"48160dbf-3485-4015-b989-70156828f2a9\",\"type\":\"Line\"},{\"attributes\":{\"data_source\":{\"id\":\"a2ae55b6-920c-4c5f-a7a9-b9c815f1989a\",\"type\":\"ColumnDataSource\"},\"glyph\":{\"id\":\"d7c6148e-e3c8-4f5c-963d-364a6704ac26\",\"type\":\"Line\"},\"hover_glyph\":null,\"muted_glyph\":null,\"nonselection_glyph\":{\"id\":\"48160dbf-3485-4015-b989-70156828f2a9\",\"type\":\"Line\"},\"selection_glyph\":null,\"view\":{\"id\":\"149f9e2f-8e5a-4c22-90e8-4890176ab59e\",\"type\":\"CDSView\"}},\"id\":\"a72b90c1-376e-497a-899f-52fcbd1e4e34\",\"type\":\"GlyphRenderer\"},{\"attributes\":{\"source\":{\"id\":\"a2ae55b6-920c-4c5f-a7a9-b9c815f1989a\",\"type\":\"ColumnDataSource\"}},\"id\":\"149f9e2f-8e5a-4c22-90e8-4890176ab59e\",\"type\":\"CDSView\"},{\"attributes\":{\"callback\":null,\"data\":{\"x\":[-3,-3],\"y\":[27,0]},\"selected\":{\"id\":\"c0a7ceaa-a341-4ab9-adb7-be3d3a3b885c\",\"type\":\"Selection\"},\"selection_policy\":{\"id\":\"dbb58b87-de53-4654-9121-27c08c39481d\",\"type\":\"UnionRenderers\"}},\"id\":\"9e9fda55-d22f-40f2-b0e5-86d2295c492f\",\"type\":\"ColumnDataSource\"},{\"attributes\":{\"line_alpha\":0.4,\"line_width\":5,\"x\":{\"field\":\"x\"},\"y\":{\"field\":\"y\"}},\"id\":\"8ff5a6af-0acd-43a5-9a01-f5ce912419c7\",\"type\":\"Line\"},{\"attributes\":{\"line_alpha\":0.1,\"line_color\":\"#1f77b4\",\"line_width\":5,\"x\":{\"field\":\"x\"},\"y\":{\"field\":\"y\"}},\"id\":\"7b740329-290e-4e4d-9b3e-b0cb9dcf2ce3\",\"type\":\"Line\"},{\"attributes\":{\"data_source\":{\"id\":\"9e9fda55-d22f-40f2-b0e5-86d2295c492f\",\"type\":\"ColumnDataSource\"},\"glyph\":{\"id\":\"8ff5a6af-0acd-43a5-9a01-f5ce912419c7\",\"type\":\"Line\"},\"hover_glyph\":null,\"muted_glyph\":null,\"nonselection_glyph\":{\"id\":\"7b740329-290e-4e4d-9b3e-b0cb9dcf2ce3\",\"type\":\"Line\"},\"selection_glyph\":null,\"view\":{\"id\":\"b9fc6300-26bb-4250-8b91-c04cf56da115\",\"type\":\"CDSView\"}},\"id\":\"522e32eb-8036-456f-9f64-8a069d649df9\",\"type\":\"GlyphRenderer\"},{\"attributes\":{\"source\":{\"id\":\"9e9fda55-d22f-40f2-b0e5-86d2295c492f\",\"type\":\"ColumnDataSource\"}},\"id\":\"b9fc6300-26bb-4250-8b91-c04cf56da115\",\"type\":\"CDSView\"},{\"attributes\":{\"callback\":null,\"data\":{\"x\":[-3,-3],\"y\":[15,27]},\"selected\":{\"id\":\"6e8f018f-44f7-4ada-994e-7e62b7ef82e3\",\"type\":\"Selection\"},\"selection_policy\":{\"id\":\"dc3d7b09-bf3f-49cf-8570-f3cf27a7dc74\",\"type\":\"UnionRenderers\"}},\"id\":\"eac9ad34-4515-4727-8481-fa676798c576\",\"type\":\"ColumnDataSource\"},{\"attributes\":{\"line_alpha\":0.4,\"line_color\":\"orange\",\"line_width\":5,\"x\":{\"field\":\"x\"},\"y\":{\"field\":\"y\"}},\"id\":\"dd1a471f-cc69-4937-aca4-5c62b09e9891\",\"type\":\"Line\"},{\"attributes\":{\"line_alpha\":0.1,\"line_color\":\"#1f77b4\",\"line_width\":5,\"x\":{\"field\":\"x\"},\"y\":{\"field\":\"y\"}},\"id\":\"c56c9fd4-7b62-4ea0-b5e3-7185fbd18c13\",\"type\":\"Line\"},{\"attributes\":{\"data_source\":{\"id\":\"eac9ad34-4515-4727-8481-fa676798c576\",\"type\":\"ColumnDataSource\"},\"glyph\":{\"id\":\"dd1a471f-cc69-4937-aca4-5c62b09e9891\",\"type\":\"Line\"},\"hover_glyph\":null,\"muted_glyph\":null,\"nonselection_glyph\":{\"id\":\"c56c9fd4-7b62-4ea0-b5e3-7185fbd18c13\",\"type\":\"Line\"},\"selection_glyph\":null,\"view\":{\"id\":\"faa58115-4793-4dfd-a2cc-4f62e7165dfc\",\"type\":\"CDSView\"}},\"id\":\"254741b4-9603-48ea-bf27-967b675fe9bf\",\"type\":\"GlyphRenderer\"},{\"attributes\":{\"source\":{\"id\":\"eac9ad34-4515-4727-8481-fa676798c576\",\"type\":\"ColumnDataSource\"}},\"id\":\"faa58115-4793-4dfd-a2cc-4f62e7165dfc\",\"type\":\"CDSView\"},{\"attributes\":{\"callback\":null,\"data\":{\"x\":[-3,-3],\"y\":[18,15]},\"selected\":{\"id\":\"3d72e70b-1e0e-415f-86b3-d0d7ecb0a73a\",\"type\":\"Selection\"},\"selection_policy\":{\"id\":\"8f44615a-b6cf-435a-bdce-07feb7325941\",\"type\":\"UnionRenderers\"}},\"id\":\"d8320c50-5d6a-4bc9-88a8-35fb0d5ffe7e\",\"type\":\"ColumnDataSource\"},{\"attributes\":{\"line_alpha\":0.6,\"line_color\":\"green\",\"line_width\":5,\"x\":{\"field\":\"x\"},\"y\":{\"field\":\"y\"}},\"id\":\"4957c2a5-8262-468f-a47c-dcf756337b73\",\"type\":\"Line\"},{\"attributes\":{\"line_alpha\":0.1,\"line_color\":\"#1f77b4\",\"line_width\":5,\"x\":{\"field\":\"x\"},\"y\":{\"field\":\"y\"}},\"id\":\"88aa4e9e-3f32-4adb-80e8-ffce96c649e3\",\"type\":\"Line\"},{\"attributes\":{\"line_alpha\":0.6,\"line_color\":\"green\",\"line_width\":5,\"x\":{\"field\":\"x\"},\"y\":{\"field\":\"y\"}},\"id\":\"d8edc8f9-d1d1-4a8e-aac5-e1c67cd8e1a4\",\"type\":\"Line\"},{\"attributes\":{\"line_alpha\":0.1,\"line_color\":\"#1f77b4\",\"line_width\":5,\"x\":{\"field\":\"x\"},\"y\":{\"field\":\"y\"}},\"id\":\"f4e66043-9701-4ce9-b25f-4defaaee5262\",\"type\":\"Line\"},{\"attributes\":{\"data_source\":{\"id\":\"700cff0e-277e-4d93-ac16-d94db4c463b7\",\"type\":\"ColumnDataSource\"},\"glyph\":{\"id\":\"d8edc8f9-d1d1-4a8e-aac5-e1c67cd8e1a4\",\"type\":\"Line\"},\"hover_glyph\":null,\"muted_glyph\":null,\"nonselection_glyph\":{\"id\":\"f4e66043-9701-4ce9-b25f-4defaaee5262\",\"type\":\"Line\"},\"selection_glyph\":null,\"view\":{\"id\":\"7fda1beb-e354-4571-9778-35acce288d42\",\"type\":\"CDSView\"}},\"id\":\"94ee1203-f598-4409-8642-a2ad4c017abc\",\"type\":\"GlyphRenderer\"},{\"attributes\":{\"source\":{\"id\":\"700cff0e-277e-4d93-ac16-d94db4c463b7\",\"type\":\"ColumnDataSource\"}},\"id\":\"7fda1beb-e354-4571-9778-35acce288d42\",\"type\":\"CDSView\"},{\"attributes\":{\"callback\":null,\"data\":{\"x\":[3,3],\"y\":[27,0]},\"selected\":{\"id\":\"6c7a7a3c-5f3d-4e25-958d-cc3c3baf249b\",\"type\":\"Selection\"},\"selection_policy\":{\"id\":\"11f2a303-9ed8-45b5-9e9a-86b5f8f083c5\",\"type\":\"UnionRenderers\"}},\"id\":\"a67b7ca0-16ec-4e4f-b8ce-92a5ad4f35ed\",\"type\":\"ColumnDataSource\"},{\"attributes\":{\"line_alpha\":0.4,\"line_width\":5,\"x\":{\"field\":\"x\"},\"y\":{\"field\":\"y\"}},\"id\":\"15b8dd22-658d-4c79-a6c6-9e3a28ebac2f\",\"type\":\"Line\"},{\"attributes\":{\"line_alpha\":0.1,\"line_color\":\"#1f77b4\",\"line_width\":5,\"x\":{\"field\":\"x\"},\"y\":{\"field\":\"y\"}},\"id\":\"c57d3ec8-4ab3-4e8c-b084-c1abee7ce87a\",\"type\":\"Line\"},{\"attributes\":{\"data_source\":{\"id\":\"a67b7ca0-16ec-4e4f-b8ce-92a5ad4f35ed\",\"type\":\"ColumnDataSource\"},\"glyph\":{\"id\":\"15b8dd22-658d-4c79-a6c6-9e3a28ebac2f\",\"type\":\"Line\"},\"hover_glyph\":null,\"muted_glyph\":null,\"nonselection_glyph\":{\"id\":\"c57d3ec8-4ab3-4e8c-b084-c1abee7ce87a\",\"type\":\"Line\"},\"selection_glyph\":null,\"view\":{\"id\":\"dfcf55d4-ebf8-4e29-a573-10ad3603a946\",\"type\":\"CDSView\"}},\"id\":\"92b0544e-51a5-4fbe-8902-a40ce59a4ef3\",\"type\":\"GlyphRenderer\"},{\"attributes\":{\"source\":{\"id\":\"a67b7ca0-16ec-4e4f-b8ce-92a5ad4f35ed\",\"type\":\"ColumnDataSource\"}},\"id\":\"dfcf55d4-ebf8-4e29-a573-10ad3603a946\",\"type\":\"CDSView\"},{\"attributes\":{},\"id\":\"0561c07c-185f-41ef-8ff4-35bb4252c9e7\",\"type\":\"BasicTicker\"},{\"attributes\":{\"callback\":null,\"data\":{\"x\":[3,3],\"y\":[39,27]},\"selected\":{\"id\":\"a85657ee-920f-4ca0-96c1-0c3d90cb7f55\",\"type\":\"Selection\"},\"selection_policy\":{\"id\":\"49e33645-95c1-46b9-825a-98dd9c6ed97b\",\"type\":\"UnionRenderers\"}},\"id\":\"85613924-22c0-44e0-b8e7-45e0da7d0083\",\"type\":\"ColumnDataSource\"},{\"attributes\":{\"line_alpha\":0.4,\"line_color\":\"orange\",\"line_width\":5,\"x\":{\"field\":\"x\"},\"y\":{\"field\":\"y\"}},\"id\":\"7f53019b-5af3-4b60-a38f-284173f267e3\",\"type\":\"Line\"},{\"attributes\":{\"line_alpha\":0.1,\"line_color\":\"#1f77b4\",\"line_width\":5,\"x\":{\"field\":\"x\"},\"y\":{\"field\":\"y\"}},\"id\":\"b7af16d0-6e3d-4bc6-a86d-44ac7f51c745\",\"type\":\"Line\"},{\"attributes\":{\"data_source\":{\"id\":\"85613924-22c0-44e0-b8e7-45e0da7d0083\",\"type\":\"ColumnDataSource\"},\"glyph\":{\"id\":\"7f53019b-5af3-4b60-a38f-284173f267e3\",\"type\":\"Line\"},\"hover_glyph\":null,\"muted_glyph\":null,\"nonselection_glyph\":{\"id\":\"b7af16d0-6e3d-4bc6-a86d-44ac7f51c745\",\"type\":\"Line\"},\"selection_glyph\":null,\"view\":{\"id\":\"26c9cf7e-1f63-42d5-a0a4-0eb89e7ff639\",\"type\":\"CDSView\"}},\"id\":\"076daeed-91b5-4f36-b1dd-97c8efce60c5\",\"type\":\"GlyphRenderer\"},{\"attributes\":{\"source\":{\"id\":\"85613924-22c0-44e0-b8e7-45e0da7d0083\",\"type\":\"ColumnDataSource\"}},\"id\":\"26c9cf7e-1f63-42d5-a0a4-0eb89e7ff639\",\"type\":\"CDSView\"},{\"attributes\":{\"callback\":null,\"data\":{\"x\":[3,3],\"y\":[42,39]},\"selected\":{\"id\":\"83a6cb6c-8063-4fce-aa1d-bab0a0a84f04\",\"type\":\"Selection\"},\"selection_policy\":{\"id\":\"d3cd1aad-bd11-4739-b1ef-122f1e4fb2c2\",\"type\":\"UnionRenderers\"}},\"id\":\"bd07976b-e62b-49c4-a7f1-4cf3f750a545\",\"type\":\"ColumnDataSource\"},{\"attributes\":{\"line_alpha\":0.6,\"line_color\":\"green\",\"line_width\":5,\"x\":{\"field\":\"x\"},\"y\":{\"field\":\"y\"}},\"id\":\"1a49b255-1694-4d26-a13f-480b007176fe\",\"type\":\"Line\"},{\"attributes\":{},\"id\":\"9f74177b-c87e-4f2b-8f0f-604d00430a51\",\"type\":\"LinearScale\"},{\"attributes\":{\"line_alpha\":0.1,\"line_color\":\"#1f77b4\",\"line_width\":5,\"x\":{\"field\":\"x\"},\"y\":{\"field\":\"y\"}},\"id\":\"2d791976-7b73-48f1-86bb-5cfecac3b6fa\",\"type\":\"Line\"},{\"attributes\":{\"data_source\":{\"id\":\"bd07976b-e62b-49c4-a7f1-4cf3f750a545\",\"type\":\"ColumnDataSource\"},\"glyph\":{\"id\":\"1a49b255-1694-4d26-a13f-480b007176fe\",\"type\":\"Line\"},\"hover_glyph\":null,\"muted_glyph\":null,\"nonselection_glyph\":{\"id\":\"2d791976-7b73-48f1-86bb-5cfecac3b6fa\",\"type\":\"Line\"},\"selection_glyph\":null,\"view\":{\"id\":\"5b93fbad-7d83-4d71-91de-568868827f0a\",\"type\":\"CDSView\"}},\"id\":\"4549b832-0f2e-49ce-8ba2-437846c54544\",\"type\":\"GlyphRenderer\"},{\"attributes\":{\"source\":{\"id\":\"bd07976b-e62b-49c4-a7f1-4cf3f750a545\",\"type\":\"ColumnDataSource\"}},\"id\":\"5b93fbad-7d83-4d71-91de-568868827f0a\",\"type\":\"CDSView\"},{\"attributes\":{\"callback\":null,\"data\":{\"x\":[4,4],\"y\":[48,0]},\"selected\":{\"id\":\"fcdaf202-2936-47c7-9efd-30b82bf05a4b\",\"type\":\"Selection\"},\"selection_policy\":{\"id\":\"097c3afa-b492-407d-8dd4-f562f0ba07cb\",\"type\":\"UnionRenderers\"}},\"id\":\"71e0ce18-b7cd-43d0-ad99-beb9e0ebd0f7\",\"type\":\"ColumnDataSource\"},{\"attributes\":{\"line_alpha\":0.4,\"line_width\":5,\"x\":{\"field\":\"x\"},\"y\":{\"field\":\"y\"}},\"id\":\"02a69b23-cd6e-48cc-a810-a18ad847001f\",\"type\":\"Line\"},{\"attributes\":{\"line_alpha\":0.1,\"line_color\":\"#1f77b4\",\"line_width\":5,\"x\":{\"field\":\"x\"},\"y\":{\"field\":\"y\"}},\"id\":\"5fda1f9c-36be-44c9-a5fb-a804dbc19bb5\",\"type\":\"Line\"},{\"attributes\":{\"data_source\":{\"id\":\"71e0ce18-b7cd-43d0-ad99-beb9e0ebd0f7\",\"type\":\"ColumnDataSource\"},\"glyph\":{\"id\":\"02a69b23-cd6e-48cc-a810-a18ad847001f\",\"type\":\"Line\"},\"hover_glyph\":null,\"muted_glyph\":null,\"nonselection_glyph\":{\"id\":\"5fda1f9c-36be-44c9-a5fb-a804dbc19bb5\",\"type\":\"Line\"},\"selection_glyph\":null,\"view\":{\"id\":\"98185c7b-7193-4af9-8799-7023399c6c65\",\"type\":\"CDSView\"}},\"id\":\"fbc7a210-2955-4c34-8661-7891e223db0a\",\"type\":\"GlyphRenderer\"},{\"attributes\":{\"source\":{\"id\":\"71e0ce18-b7cd-43d0-ad99-beb9e0ebd0f7\",\"type\":\"ColumnDataSource\"}},\"id\":\"98185c7b-7193-4af9-8799-7023399c6c65\",\"type\":\"CDSView\"},{\"attributes\":{\"callback\":null,\"data\":{\"x\":[4,4],\"y\":[64,48]},\"selected\":{\"id\":\"87b16201-c094-4b58-964d-e9a66b683df3\",\"type\":\"Selection\"},\"selection_policy\":{\"id\":\"20df0366-38db-45c4-8c65-581cbee8729b\",\"type\":\"UnionRenderers\"}},\"id\":\"c849e7f6-c70e-43a2-8637-458e6034aba3\",\"type\":\"ColumnDataSource\"},{\"attributes\":{\"line_alpha\":0.4,\"line_color\":\"orange\",\"line_width\":5,\"x\":{\"field\":\"x\"},\"y\":{\"field\":\"y\"}},\"id\":\"668314ff-6136-4595-8879-5d804b3dc71c\",\"type\":\"Line\"},{\"attributes\":{\"line_alpha\":0.1,\"line_color\":\"#1f77b4\",\"line_width\":5,\"x\":{\"field\":\"x\"},\"y\":{\"field\":\"y\"}},\"id\":\"bd495ae3-51fe-4453-a977-2538f2f98bd0\",\"type\":\"Line\"},{\"attributes\":{\"data_source\":{\"id\":\"c849e7f6-c70e-43a2-8637-458e6034aba3\",\"type\":\"ColumnDataSource\"},\"glyph\":{\"id\":\"668314ff-6136-4595-8879-5d804b3dc71c\",\"type\":\"Line\"},\"hover_glyph\":null,\"muted_glyph\":null,\"nonselection_glyph\":{\"id\":\"bd495ae3-51fe-4453-a977-2538f2f98bd0\",\"type\":\"Line\"},\"selection_glyph\":null,\"view\":{\"id\":\"46b1112e-7ae4-4196-a794-65e20008d964\",\"type\":\"CDSView\"}},\"id\":\"24f443a0-507d-4a6b-bf09-2c7810d7a214\",\"type\":\"GlyphRenderer\"},{\"attributes\":{\"source\":{\"id\":\"c849e7f6-c70e-43a2-8637-458e6034aba3\",\"type\":\"ColumnDataSource\"}},\"id\":\"46b1112e-7ae4-4196-a794-65e20008d964\",\"type\":\"CDSView\"},{\"attributes\":{\"callback\":null,\"data\":{\"x\":[4,4],\"y\":[67,64]},\"selected\":{\"id\":\"0a649688-a603-4631-895e-c6c73b249d93\",\"type\":\"Selection\"},\"selection_policy\":{\"id\":\"3207a2eb-6cce-41b7-848c-d5584f027261\",\"type\":\"UnionRenderers\"}},\"id\":\"b8920343-792c-4954-8feb-61d67a246127\",\"type\":\"ColumnDataSource\"},{\"attributes\":{\"line_alpha\":0.6,\"line_color\":\"green\",\"line_width\":5,\"x\":{\"field\":\"x\"},\"y\":{\"field\":\"y\"}},\"id\":\"c945900d-1f41-4b0e-a210-a4218056c04f\",\"type\":\"Line\"},{\"attributes\":{\"line_alpha\":0.1,\"line_color\":\"#1f77b4\",\"line_width\":5,\"x\":{\"field\":\"x\"},\"y\":{\"field\":\"y\"}},\"id\":\"044e7189-a001-4954-aa24-6eca854fa86f\",\"type\":\"Line\"},{\"attributes\":{\"data_source\":{\"id\":\"b8920343-792c-4954-8feb-61d67a246127\",\"type\":\"ColumnDataSource\"},\"glyph\":{\"id\":\"c945900d-1f41-4b0e-a210-a4218056c04f\",\"type\":\"Line\"},\"hover_glyph\":null,\"muted_glyph\":null,\"nonselection_glyph\":{\"id\":\"044e7189-a001-4954-aa24-6eca854fa86f\",\"type\":\"Line\"},\"selection_glyph\":null,\"view\":{\"id\":\"570b326d-0ce3-4ad6-aa9d-ee5b71c759ce\",\"type\":\"CDSView\"}},\"id\":\"82fe2046-4ff2-44b5-a737-1d951216c8e6\",\"type\":\"GlyphRenderer\"},{\"attributes\":{\"source\":{\"id\":\"b8920343-792c-4954-8feb-61d67a246127\",\"type\":\"ColumnDataSource\"}},\"id\":\"570b326d-0ce3-4ad6-aa9d-ee5b71c759ce\",\"type\":\"CDSView\"},{\"attributes\":{\"callback\":null,\"data\":{\"x\":[5,5],\"y\":[75,0]},\"selected\":{\"id\":\"148b2b67-fd10-4bf6-baae-00e4931defee\",\"type\":\"Selection\"},\"selection_policy\":{\"id\":\"d0f9b3ba-3708-42f6-86e2-71c566d4ed63\",\"type\":\"UnionRenderers\"}},\"id\":\"cb87fd68-f155-486f-8017-54a9f3546552\",\"type\":\"ColumnDataSource\"},{\"attributes\":{\"line_alpha\":0.4,\"line_width\":5,\"x\":{\"field\":\"x\"},\"y\":{\"field\":\"y\"}},\"id\":\"3454a48c-807b-4a6f-92db-ce4c36797cf2\",\"type\":\"Line\"},{\"attributes\":{\"line_alpha\":0.1,\"line_color\":\"#1f77b4\",\"line_width\":5,\"x\":{\"field\":\"x\"},\"y\":{\"field\":\"y\"}},\"id\":\"e5de1afb-4327-4623-a726-c9d95ee5db4c\",\"type\":\"Line\"},{\"attributes\":{\"data_source\":{\"id\":\"cb87fd68-f155-486f-8017-54a9f3546552\",\"type\":\"ColumnDataSource\"},\"glyph\":{\"id\":\"3454a48c-807b-4a6f-92db-ce4c36797cf2\",\"type\":\"Line\"},\"hover_glyph\":null,\"muted_glyph\":null,\"nonselection_glyph\":{\"id\":\"e5de1afb-4327-4623-a726-c9d95ee5db4c\",\"type\":\"Line\"},\"selection_glyph\":null,\"view\":{\"id\":\"2c1acab7-40aa-46ab-a115-2fabaeed569d\",\"type\":\"CDSView\"}},\"id\":\"eb638a4c-6957-4911-8546-5ef2a68a8ec8\",\"type\":\"GlyphRenderer\"},{\"attributes\":{\"source\":{\"id\":\"cb87fd68-f155-486f-8017-54a9f3546552\",\"type\":\"ColumnDataSource\"}},\"id\":\"2c1acab7-40aa-46ab-a115-2fabaeed569d\",\"type\":\"CDSView\"},{\"attributes\":{\"callback\":null,\"data\":{\"x\":[5,5],\"y\":[95,75]},\"selected\":{\"id\":\"de40f028-f6f1-4817-883b-25f06cd2d98c\",\"type\":\"Selection\"},\"selection_policy\":{\"id\":\"d64bf578-cb18-4f7d-b653-f06b1ff7a8b3\",\"type\":\"UnionRenderers\"}},\"id\":\"1e8bffbe-e82c-489c-8434-2ff7267fa81a\",\"type\":\"ColumnDataSource\"},{\"attributes\":{\"line_alpha\":0.4,\"line_color\":\"orange\",\"line_width\":5,\"x\":{\"field\":\"x\"},\"y\":{\"field\":\"y\"}},\"id\":\"cd5c0a42-6695-4eab-9cd3-6c80ffebeae6\",\"type\":\"Line\"},{\"attributes\":{\"line_alpha\":0.1,\"line_color\":\"#1f77b4\",\"line_width\":5,\"x\":{\"field\":\"x\"},\"y\":{\"field\":\"y\"}},\"id\":\"dcd192d6-7ab9-4a36-a4de-8e8413febcc1\",\"type\":\"Line\"},{\"attributes\":{\"data_source\":{\"id\":\"1e8bffbe-e82c-489c-8434-2ff7267fa81a\",\"type\":\"ColumnDataSource\"},\"glyph\":{\"id\":\"cd5c0a42-6695-4eab-9cd3-6c80ffebeae6\",\"type\":\"Line\"},\"hover_glyph\":null,\"muted_glyph\":null,\"nonselection_glyph\":{\"id\":\"dcd192d6-7ab9-4a36-a4de-8e8413febcc1\",\"type\":\"Line\"},\"selection_glyph\":null,\"view\":{\"id\":\"8fd8148c-ef33-47eb-a483-25b10e237b51\",\"type\":\"CDSView\"}},\"id\":\"5c674978-e491-4e33-a299-9d6b8e981e23\",\"type\":\"GlyphRenderer\"},{\"attributes\":{\"source\":{\"id\":\"1e8bffbe-e82c-489c-8434-2ff7267fa81a\",\"type\":\"ColumnDataSource\"}},\"id\":\"8fd8148c-ef33-47eb-a483-25b10e237b51\",\"type\":\"CDSView\"},{\"attributes\":{\"callback\":null,\"data\":{\"x\":[5,5],\"y\":[98,95]},\"selected\":{\"id\":\"e0070046-b3c4-4b73-bf8b-321d2ba75194\",\"type\":\"Selection\"},\"selection_policy\":{\"id\":\"e944f088-06e5-4128-a31b-2f26641b1318\",\"type\":\"UnionRenderers\"}},\"id\":\"3e767568-d629-49e9-9a07-8cca8e26d7ea\",\"type\":\"ColumnDataSource\"},{\"attributes\":{\"line_alpha\":0.6,\"line_color\":\"green\",\"line_width\":5,\"x\":{\"field\":\"x\"},\"y\":{\"field\":\"y\"}},\"id\":\"7d1336a4-6880-42cb-8af6-72af7a74f12f\",\"type\":\"Line\"},{\"attributes\":{\"line_alpha\":0.1,\"line_color\":\"#1f77b4\",\"line_width\":5,\"x\":{\"field\":\"x\"},\"y\":{\"field\":\"y\"}},\"id\":\"cd6d4da0-4589-4a32-a6e4-88bd17ba200a\",\"type\":\"Line\"},{\"attributes\":{\"data_source\":{\"id\":\"3e767568-d629-49e9-9a07-8cca8e26d7ea\",\"type\":\"ColumnDataSource\"},\"glyph\":{\"id\":\"7d1336a4-6880-42cb-8af6-72af7a74f12f\",\"type\":\"Line\"},\"hover_glyph\":null,\"muted_glyph\":null,\"nonselection_glyph\":{\"id\":\"cd6d4da0-4589-4a32-a6e4-88bd17ba200a\",\"type\":\"Line\"},\"selection_glyph\":null,\"view\":{\"id\":\"9bbf84bf-4284-4091-8d41-ff56a1daa9a6\",\"type\":\"CDSView\"}},\"id\":\"054c194e-9953-4fa2-9ea0-6b6487f6fa4a\",\"type\":\"GlyphRenderer\"},{\"attributes\":{\"source\":{\"id\":\"3e767568-d629-49e9-9a07-8cca8e26d7ea\",\"type\":\"ColumnDataSource\"}},\"id\":\"9bbf84bf-4284-4091-8d41-ff56a1daa9a6\",\"type\":\"CDSView\"},{\"attributes\":{\"children\":[{\"id\":\"a7fa9710-e109-4073-bcfc-09743f4b1da6\",\"subtype\":\"Figure\",\"type\":\"Plot\"},{\"id\":\"0887d67f-a1fe-4c64-b758-e80060abf84a\",\"subtype\":\"Figure\",\"type\":\"Plot\"}]},\"id\":\"3f3bf266-1f8b-4d8a-b26a-64d6d91de083\",\"type\":\"Row\"},{\"attributes\":{\"line_color\":\"steelblue\",\"line_width\":3,\"x\":{\"field\":\"x\"},\"y\":{\"field\":\"y\"}},\"id\":\"2ebb88d9-05fd-4e04-89be-0bf4e688aa16\",\"type\":\"Line\"},{\"attributes\":{\"line_alpha\":0.1,\"line_color\":\"#1f77b4\",\"line_width\":3,\"x\":{\"field\":\"x\"},\"y\":{\"field\":\"y\"}},\"id\":\"1bf817ec-0508-4ee4-bcfe-f62912c846a4\",\"type\":\"Line\"},{\"attributes\":{\"data_source\":{\"id\":\"37368240-67ac-474e-b9f9-541bd8c4c617\",\"type\":\"ColumnDataSource\"},\"glyph\":{\"id\":\"2ebb88d9-05fd-4e04-89be-0bf4e688aa16\",\"type\":\"Line\"},\"hover_glyph\":null,\"muted_glyph\":null,\"nonselection_glyph\":{\"id\":\"1bf817ec-0508-4ee4-bcfe-f62912c846a4\",\"type\":\"Line\"},\"selection_glyph\":null,\"view\":{\"id\":\"38ad0ad1-c59a-4454-9370-04c5daa37f59\",\"type\":\"CDSView\"}},\"id\":\"23619b41-5d6d-4a35-8867-43bd450f738b\",\"type\":\"GlyphRenderer\"},{\"attributes\":{\"source\":{\"id\":\"37368240-67ac-474e-b9f9-541bd8c4c617\",\"type\":\"ColumnDataSource\"}},\"id\":\"38ad0ad1-c59a-4454-9370-04c5daa37f59\",\"type\":\"CDSView\"},{\"attributes\":{},\"id\":\"367c6a3f-876c-4407-a868-6318a9cf8f76\",\"type\":\"BasicTickFormatter\"},{\"attributes\":{},\"id\":\"890395d8-8091-4e5d-84f6-2d6bc37adeb8\",\"type\":\"BasicTickFormatter\"},{\"attributes\":{},\"id\":\"46d0207e-88fd-4c85-aed5-13ea7ff27ffb\",\"type\":\"UnionRenderers\"},{\"attributes\":{},\"id\":\"d11ce4c9-0e15-44fa-8531-aed4276e85c8\",\"type\":\"Selection\"},{\"attributes\":{},\"id\":\"882348b7-a5e8-4f1d-9156-2ee4d2455de4\",\"type\":\"Selection\"},{\"attributes\":{},\"id\":\"963e2b40-7773-4273-802a-4e7966fb40f6\",\"type\":\"UnionRenderers\"},{\"attributes\":{},\"id\":\"cfbbe47b-bc58-4bb4-81c0-9868cc3f9f2e\",\"type\":\"Selection\"},{\"attributes\":{\"callback\":null},\"id\":\"935508ba-85d5-4c7f-a50c-8bcb21b85791\",\"type\":\"DataRange1d\"},{\"attributes\":{},\"id\":\"d595f07b-a37b-4b95-abf6-4611a2644beb\",\"type\":\"UnionRenderers\"},{\"attributes\":{},\"id\":\"1420c7af-4b75-43ea-864a-043ee12b9df9\",\"type\":\"Selection\"},{\"attributes\":{},\"id\":\"1103ec75-b676-4f54-9179-6da30136c043\",\"type\":\"UnionRenderers\"},{\"attributes\":{\"callback\":null},\"id\":\"afa5c9c6-4119-4c4b-9d79-cc2c1c621593\",\"type\":\"DataRange1d\"},{\"attributes\":{},\"id\":\"ed7ef8b0-ec95-486e-b799-47472beab348\",\"type\":\"Selection\"},{\"attributes\":{},\"id\":\"e929df33-be86-4e6d-bb63-539acaf5d552\",\"type\":\"UnionRenderers\"},{\"attributes\":{},\"id\":\"9a782f13-3ec3-4bac-9b8f-93e1370361ce\",\"type\":\"Selection\"},{\"attributes\":{},\"id\":\"ab21ec93-5faa-4484-be19-9c2d8fe3f9f4\",\"type\":\"UnionRenderers\"},{\"attributes\":{},\"id\":\"38d6a5c4-7c72-425c-b1a5-dda85ad93e6b\",\"type\":\"BasicTickFormatter\"},{\"attributes\":{\"below\":[{\"id\":\"e5004e2c-67bf-436f-905d-7369efc6b140\",\"type\":\"LinearAxis\"}],\"left\":[{\"id\":\"4b8c3866-fdfa-4341-8c49-d798b900d427\",\"type\":\"LinearAxis\"}],\"plot_height\":400,\"plot_width\":475,\"renderers\":[{\"id\":\"e5004e2c-67bf-436f-905d-7369efc6b140\",\"type\":\"LinearAxis\"},{\"id\":\"9ff9f2d9-27a6-4358-a03d-4ec0e9adc8a4\",\"type\":\"Grid\"},{\"id\":\"4b8c3866-fdfa-4341-8c49-d798b900d427\",\"type\":\"LinearAxis\"},{\"id\":\"96c92c97-8b05-40a7-90be-9bd3c543bd1a\",\"type\":\"Grid\"},{\"id\":\"1c5b32fc-8230-4da3-8828-7f985ff4e3a0\",\"type\":\"BoxAnnotation\"},{\"id\":\"d627cae7-85bb-46e9-b60b-4f725e625e64\",\"type\":\"Legend\"},{\"id\":\"2f35be83-d556-404c-ba65-57d33111b55b\",\"type\":\"GlyphRenderer\"},{\"id\":\"836714c8-643d-4af7-834a-c437912822d2\",\"type\":\"GlyphRenderer\"},{\"id\":\"fd64a90c-7cb4-41f2-9a88-19142e775baf\",\"type\":\"GlyphRenderer\"}],\"title\":{\"id\":\"1bc247bc-d1ad-47cf-aebf-b6b9cc962cb5\",\"type\":\"Title\"},\"toolbar\":{\"id\":\"775d34ca-11d4-4d11-b8c0-d7d5ec04a9bf\",\"type\":\"Toolbar\"},\"toolbar_location\":\"below\",\"x_range\":{\"id\":\"afa5c9c6-4119-4c4b-9d79-cc2c1c621593\",\"type\":\"DataRange1d\"},\"x_scale\":{\"id\":\"40208e4f-86c8-4768-b8ff-09c579e5cd84\",\"type\":\"LinearScale\"},\"y_range\":{\"id\":\"935508ba-85d5-4c7f-a50c-8bcb21b85791\",\"type\":\"DataRange1d\"},\"y_scale\":{\"id\":\"9f74177b-c87e-4f2b-8f0f-604d00430a51\",\"type\":\"LinearScale\"}},\"id\":\"a7fa9710-e109-4073-bcfc-09743f4b1da6\",\"subtype\":\"Figure\",\"type\":\"Plot\"},{\"attributes\":{\"callback\":null,\"data\":{\"x\":{\"__ndarray__\":\"AAAAAAAAFMCamZmZmZkTwDQzMzMzMxPAzszMzMzMEsBoZmZmZmYSwAIAAAAAABLAnJmZmZmZEcA2MzMzMzMRwNDMzMzMzBDAamZmZmZmEMAEAAAAAAAQwDwzMzMzMw/AcGZmZmZmDsCkmZmZmZkNwNjMzMzMzAzADAAAAAAADMBAMzMzMzMLwHRmZmZmZgrAqJmZmZmZCcDczMzMzMwIwBAAAAAAAAjARDMzMzMzB8B4ZmZmZmYGwKyZmZmZmQXA4MzMzMzMBMAUAAAAAAAEwEgzMzMzMwPAfGZmZmZmAsCwmZmZmZkBwOTMzMzMzADAGAAAAAAAAMCYZmZmZmb+vwDNzMzMzPy/aDMzMzMz+7/QmZmZmZn5vzgAAAAAAPi/oGZmZmZm9r8IzczMzMz0v3AzMzMzM/O/2JmZmZmZ8b9AAAAAAADwv1DNzMzMzOy/IJqZmZmZ6b/wZmZmZmbmv8AzMzMzM+O/kAAAAAAA4L/AmpmZmZnZv2A0MzMzM9O/AJyZmZmZyb+AnpmZmZm5vwAAAAAAABS9gJSZmZmZuT8Al5mZmZnJP+AxMzMzM9M/QJiZmZmZ2T+g/v/////fP4AyMzMzM+M/sGVmZmZm5j/gmJmZmZnpPxDMzMzMzOw/QP//////7z84mZmZmZnxP9AyMzMzM/M/aMzMzMzM9D8AZmZmZmb2P5j///////c/MJmZmZmZ+T/IMjMzMzP7P2DMzMzMzPw/+GVmZmZm/j+Q////////P5TMzMzMzABAYJmZmZmZAUAsZmZmZmYCQPgyMzMzMwNAxP//////A0CQzMzMzMwEQFyZmZmZmQVAKGZmZmZmBkD0MjMzMzMHQMD//////wdAjMzMzMzMCEBYmZmZmZkJQCRmZmZmZgpA8DIzMzMzC0C8//////8LQIjMzMzMzAxAVJmZmZmZDUAgZmZmZmYOQOwyMzMzMw9AuP//////D0BCZmZmZmYQQKjMzMzMzBBADjMzMzMzEUB0mZmZmZkRQNr//////xFAQGZmZmZmEkCmzMzMzMwSQAwzMzMzMxNAcpmZmZmZE0DY//////8TQA==\",\"dtype\":\"float64\",\"shape\":[101]},\"y\":{\"__ndarray__\":\"AAAAAADAUkBTuB6F6wFSQEnhehSuR1FA5HoUrkeRUEBECtejcL1PQAgAAAAAYE5AEtejcD0KTUBkj8L1KLxLQAApXI/CdUpA4qNwPQo3SUAMAAAAAABIQH49Ctej0EZAN1yPwvWoRUA4XI/C9YhEQIA9CtejcENAEAAAAABgQkDno3A9CldBQAYpXI/CVUBA2x6F61G4PkA4rkfhetQ8QCQAAAAAADtAnxSuR+E6OUCq61G4HoU3QESF61G43jVAbeF6FK5HNEAmAAAAAMAyQG3hehSuRzFAiArXo3C9L0BU16NwPQotQEApXI/CdSpASAAAAAAAKEBwXI/C9aglQLY9CtejcCNAGqRwPQpXIUA7H4XrUbgeQH4AAAAAABtA/utRuB6FF0C74XoUrkcUQLXhehSuRxFA2NejcD0KDUDAAAAAAAAIQCI+CtejcANA+x+F61G4/j+m7FG4HoX3P0XiehSuR/E/sAEAAAAA6D97IYXrUbjeP2XjehSuR9E/eySF61G4vj97KoXrUbiePwAAAAAAwFI6exKF61G4nj97GIXrUbi+P+XeehSuR9E/exuF61G43j/w/f/////nPwXgehSuR/E/BupRuB6F9z/7HIXrUbj+P3I8CtejcANA4P7/////B0DI1aNwPQoNQJXgehSuRxFAg+B6FK5HFECu6lG4HoUXQBb//////xpAux2F61G4HkBOo3A9ClchQN48CtejcCNAjFuPwvWoJUBY//////8nQEQoXI/CdSpATNajcD0KLUB0CdejcL0vQN3gehSuRzFAkP////+/MkDR4HoUrkc0QKKE61G43jVAAutRuB6FN0DxE65H4To5QHD//////zpAfq1H4XrUPEAbHoXrUbg+QKQoXI/CVUBAgaNwPQpXQUCn/////19CQBQ9CtejcENAyVuPwvWIREDFW4/C9ahFQAk9Ctej0EZAlP//////R0Boo3A9CjdJQIIoXI/CdUpA5I7C9Si8S0CO1qNwPQpNQID/////X05AugnXo3C9T0CdehSuR5FQQAHhehSuR1FACrgehesBUkC1/////79SQA==\",\"dtype\":\"float64\",\"shape\":[101]}},\"selected\":{\"id\":\"b0c84cd6-3a0b-4e4f-a8c9-38f11212ccb6\",\"type\":\"Selection\"},\"selection_policy\":{\"id\":\"cf428cab-1320-40c6-89d8-d5130aaefa5a\",\"type\":\"UnionRenderers\"}},\"id\":\"de883617-46ce-499b-b583-778e21b6043c\",\"type\":\"ColumnDataSource\"},{\"attributes\":{\"source\":{\"id\":\"de883617-46ce-499b-b583-778e21b6043c\",\"type\":\"ColumnDataSource\"}},\"id\":\"fe6512f3-d426-4263-ba97-b49313d9087a\",\"type\":\"CDSView\"},{\"attributes\":{\"plot\":null,\"text\":\"The Derivative of each Function Individually\"},\"id\":\"1bc247bc-d1ad-47cf-aebf-b6b9cc962cb5\",\"type\":\"Title\"},{\"attributes\":{\"axis_label\":\"X\",\"formatter\":{\"id\":\"29711178-a6b5-401b-9f62-7439857c1ae7\",\"type\":\"BasicTickFormatter\"},\"plot\":{\"id\":\"a7fa9710-e109-4073-bcfc-09743f4b1da6\",\"subtype\":\"Figure\",\"type\":\"Plot\"},\"ticker\":{\"id\":\"f8fad1e2-b8a5-4c50-9307-3710fba0c76f\",\"type\":\"BasicTicker\"}},\"id\":\"e5004e2c-67bf-436f-905d-7369efc6b140\",\"type\":\"LinearAxis\"},{\"attributes\":{\"plot\":{\"id\":\"a7fa9710-e109-4073-bcfc-09743f4b1da6\",\"subtype\":\"Figure\",\"type\":\"Plot\"},\"ticker\":{\"id\":\"f8fad1e2-b8a5-4c50-9307-3710fba0c76f\",\"type\":\"BasicTicker\"}},\"id\":\"9ff9f2d9-27a6-4358-a03d-4ec0e9adc8a4\",\"type\":\"Grid\"},{\"attributes\":{\"active_drag\":\"auto\",\"active_inspect\":\"auto\",\"active_multi\":null,\"active_scroll\":\"auto\",\"active_tap\":\"auto\",\"tools\":[{\"id\":\"18fd180f-1bd1-40a9-8b78-2d193e1dd86a\",\"type\":\"PanTool\"},{\"id\":\"a1fbfedb-e6fc-4dcf-9d03-d54029132a97\",\"type\":\"WheelZoomTool\"},{\"id\":\"58d268be-1e11-4622-84d9-7323bee30e1b\",\"type\":\"BoxZoomTool\"},{\"id\":\"acab4f52-666f-418f-a7d9-06ef8fa372ad\",\"type\":\"SaveTool\"},{\"id\":\"7cd9d067-ece8-49e3-9428-e012bd6faf31\",\"type\":\"ResetTool\"},{\"id\":\"fd7bd6fb-155d-4fa6-b52d-d60a3d8793f1\",\"type\":\"HelpTool\"}]},\"id\":\"775d34ca-11d4-4d11-b8c0-d7d5ec04a9bf\",\"type\":\"Toolbar\"},{\"attributes\":{\"line_alpha\":0.1,\"line_color\":\"#1f77b4\",\"line_width\":2,\"x\":{\"field\":\"x\"},\"y\":{\"field\":\"y\"}},\"id\":\"6267ae7f-fc72-44e3-9fff-80a3c7102a27\",\"type\":\"Line\"},{\"attributes\":{},\"id\":\"40208e4f-86c8-4768-b8ff-09c579e5cd84\",\"type\":\"LinearScale\"},{\"attributes\":{},\"id\":\"f8fad1e2-b8a5-4c50-9307-3710fba0c76f\",\"type\":\"BasicTicker\"},{\"attributes\":{\"axis_label\":\"f(X)\",\"formatter\":{\"id\":\"38d6a5c4-7c72-425c-b1a5-dda85ad93e6b\",\"type\":\"BasicTickFormatter\"},\"plot\":{\"id\":\"a7fa9710-e109-4073-bcfc-09743f4b1da6\",\"subtype\":\"Figure\",\"type\":\"Plot\"},\"ticker\":{\"id\":\"0561c07c-185f-41ef-8ff4-35bb4252c9e7\",\"type\":\"BasicTicker\"}},\"id\":\"4b8c3866-fdfa-4341-8c49-d798b900d427\",\"type\":\"LinearAxis\"},{\"attributes\":{\"dimension\":1,\"plot\":{\"id\":\"a7fa9710-e109-4073-bcfc-09743f4b1da6\",\"subtype\":\"Figure\",\"type\":\"Plot\"},\"ticker\":{\"id\":\"0561c07c-185f-41ef-8ff4-35bb4252c9e7\",\"type\":\"BasicTicker\"}},\"id\":\"96c92c97-8b05-40a7-90be-9bd3c543bd1a\",\"type\":\"Grid\"},{\"attributes\":{\"data_source\":{\"id\":\"de883617-46ce-499b-b583-778e21b6043c\",\"type\":\"ColumnDataSource\"},\"glyph\":{\"id\":\"5053fd6f-4bb9-4d90-9998-751582313728\",\"type\":\"Line\"},\"hover_glyph\":null,\"muted_glyph\":null,\"nonselection_glyph\":{\"id\":\"6267ae7f-fc72-44e3-9fff-80a3c7102a27\",\"type\":\"Line\"},\"selection_glyph\":null,\"view\":{\"id\":\"fe6512f3-d426-4263-ba97-b49313d9087a\",\"type\":\"CDSView\"}},\"id\":\"2f35be83-d556-404c-ba65-57d33111b55b\",\"type\":\"GlyphRenderer\"},{\"attributes\":{\"line_alpha\":0.5,\"line_width\":2,\"x\":{\"field\":\"x\"},\"y\":{\"field\":\"y\"}},\"id\":\"5053fd6f-4bb9-4d90-9998-751582313728\",\"type\":\"Line\"},{\"attributes\":{\"callback\":null,\"data\":{\"x\":{\"__ndarray__\":\"AAAAAAAAFMCamZmZmZkTwDQzMzMzMxPAzszMzMzMEsBoZmZmZmYSwAIAAAAAABLAnJmZmZmZEcA2MzMzMzMRwNDMzMzMzBDAamZmZmZmEMAEAAAAAAAQwDwzMzMzMw/AcGZmZmZmDsCkmZmZmZkNwNjMzMzMzAzADAAAAAAADMBAMzMzMzMLwHRmZmZmZgrAqJmZmZmZCcDczMzMzMwIwBAAAAAAAAjARDMzMzMzB8B4ZmZmZmYGwKyZmZmZmQXA4MzMzMzMBMAUAAAAAAAEwEgzMzMzMwPAfGZmZmZmAsCwmZmZmZkBwOTMzMzMzADAGAAAAAAAAMCYZmZmZmb+vwDNzMzMzPy/aDMzMzMz+7/QmZmZmZn5vzgAAAAAAPi/oGZmZmZm9r8IzczMzMz0v3AzMzMzM/O/2JmZmZmZ8b9AAAAAAADwv1DNzMzMzOy/IJqZmZmZ6b/wZmZmZmbmv8AzMzMzM+O/kAAAAAAA4L/AmpmZmZnZv2A0MzMzM9O/AJyZmZmZyb+AnpmZmZm5vwAAAAAAABS9gJSZmZmZuT8Al5mZmZnJP+AxMzMzM9M/QJiZmZmZ2T+g/v/////fP4AyMzMzM+M/sGVmZmZm5j/gmJmZmZnpPxDMzMzMzOw/QP//////7z84mZmZmZnxP9AyMzMzM/M/aMzMzMzM9D8AZmZmZmb2P5j///////c/MJmZmZmZ+T/IMjMzMzP7P2DMzMzMzPw/+GVmZmZm/j+Q////////P5TMzMzMzABAYJmZmZmZAUAsZmZmZmYCQPgyMzMzMwNAxP//////A0CQzMzMzMwEQFyZmZmZmQVAKGZmZmZmBkD0MjMzMzMHQMD//////wdAjMzMzMzMCEBYmZmZmZkJQCRmZmZmZgpA8DIzMzMzC0C8//////8LQIjMzMzMzAxAVJmZmZmZDUAgZmZmZmYOQOwyMzMzMw9AuP//////D0BCZmZmZmYQQKjMzMzMzBBADjMzMzMzEUB0mZmZmZkRQNr//////xFAQGZmZmZmEkCmzMzMzMwSQAwzMzMzMxNAcpmZmZmZE0DY//////8TQA==\",\"dtype\":\"float64\",\"shape\":[101]},\"y\":{\"__ndarray__\":\"AAAAAAAANMCamZmZmZkzwDQzMzMzMzPAzszMzMzMMsBoZmZmZmYywAIAAAAAADLAnJmZmZmZMcA2MzMzMzMxwNDMzMzMzDDAamZmZmZmMMAEAAAAAAAwwDwzMzMzMy/AcGZmZmZmLsCkmZmZmZktwNjMzMzMzCzADAAAAAAALMBAMzMzMzMrwHRmZmZmZirAqJmZmZmZKcDczMzMzMwowBAAAAAAACjARDMzMzMzJ8B4ZmZmZmYmwKyZmZmZmSXA4MzMzMzMJMAUAAAAAAAkwEgzMzMzMyPAfGZmZmZmIsCwmZmZmZkhwOTMzMzMzCDAGAAAAAAAIMCYZmZmZmYewADNzMzMzBzAaDMzMzMzG8DQmZmZmZkZwDgAAAAAABjAoGZmZmZmFsAIzczMzMwUwHAzMzMzMxPA2JmZmZmZEcBAAAAAAAAQwFDNzMzMzAzAIJqZmZmZCcDwZmZmZmYGwMAzMzMzMwPAkAAAAAAAAMDAmpmZmZn5v2A0MzMzM/O/AJyZmZmZ6b+AnpmZmZnZvwAAAAAAADS9gJSZmZmZ2T8Al5mZmZnpP+AxMzMzM/M/QJiZmZmZ+T+g/v//////P4AyMzMzMwNAsGVmZmZmBkDgmJmZmZkJQBDMzMzMzAxAQP//////D0A4mZmZmZkRQNAyMzMzMxNAaMzMzMzMFEAAZmZmZmYWQJj//////xdAMJmZmZmZGUDIMjMzMzMbQGDMzMzMzBxA+GVmZmZmHkCQ//////8fQJTMzMzMzCBAYJmZmZmZIUAsZmZmZmYiQPgyMzMzMyNAxP//////I0CQzMzMzMwkQFyZmZmZmSVAKGZmZmZmJkD0MjMzMzMnQMD//////ydAjMzMzMzMKEBYmZmZmZkpQCRmZmZmZipA8DIzMzMzK0C8//////8rQIjMzMzMzCxAVJmZmZmZLUAgZmZmZmYuQOwyMzMzMy9AuP//////L0BCZmZmZmYwQKjMzMzMzDBADjMzMzMzMUB0mZmZmZkxQNr//////zFAQGZmZmZmMkCmzMzMzMwyQAwzMzMzMzNAcpmZmZmZM0DY//////8zQA==\",\"dtype\":\"float64\",\"shape\":[101]}},\"selected\":{\"id\":\"0e471541-9162-4948-a7cf-f2ff163aa193\",\"type\":\"Selection\"},\"selection_policy\":{\"id\":\"6cce51d4-08ed-4617-8b33-4840b56804a4\",\"type\":\"UnionRenderers\"}},\"id\":\"b1c9d10e-60e7-4b17-9f08-06ba20d8db9a\",\"type\":\"ColumnDataSource\"},{\"attributes\":{\"items\":[{\"id\":\"d82588eb-3386-428c-b819-7fc011e48568\",\"type\":\"LegendItem\"},{\"id\":\"29d2f036-8689-4ce1-a19b-0485408f7449\",\"type\":\"LegendItem\"},{\"id\":\"7be0100a-d566-48d6-9a82-8c6f319d48ca\",\"type\":\"LegendItem\"}],\"location\":\"top_center\",\"plot\":{\"id\":\"a7fa9710-e109-4073-bcfc-09743f4b1da6\",\"subtype\":\"Figure\",\"type\":\"Plot\"}},\"id\":\"d627cae7-85bb-46e9-b60b-4f725e625e64\",\"type\":\"Legend\"},{\"attributes\":{},\"id\":\"18fd180f-1bd1-40a9-8b78-2d193e1dd86a\",\"type\":\"PanTool\"},{\"attributes\":{},\"id\":\"29711178-a6b5-401b-9f62-7439857c1ae7\",\"type\":\"BasicTickFormatter\"},{\"attributes\":{},\"id\":\"a1fbfedb-e6fc-4dcf-9d03-d54029132a97\",\"type\":\"WheelZoomTool\"},{\"attributes\":{\"overlay\":{\"id\":\"1c5b32fc-8230-4da3-8828-7f985ff4e3a0\",\"type\":\"BoxAnnotation\"}},\"id\":\"58d268be-1e11-4622-84d9-7323bee30e1b\",\"type\":\"BoxZoomTool\"},{\"attributes\":{},\"id\":\"acab4f52-666f-418f-a7d9-06ef8fa372ad\",\"type\":\"SaveTool\"},{\"attributes\":{},\"id\":\"7cd9d067-ece8-49e3-9428-e012bd6faf31\",\"type\":\"ResetTool\"},{\"attributes\":{},\"id\":\"fd7bd6fb-155d-4fa6-b52d-d60a3d8793f1\",\"type\":\"HelpTool\"},{\"attributes\":{\"bottom_units\":\"screen\",\"fill_alpha\":{\"value\":0.5},\"fill_color\":{\"value\":\"lightgrey\"},\"left_units\":\"screen\",\"level\":\"overlay\",\"line_alpha\":{\"value\":1.0},\"line_color\":{\"value\":\"black\"},\"line_dash\":[4,4],\"line_width\":{\"value\":2},\"plot\":null,\"render_mode\":\"css\",\"right_units\":\"screen\",\"top_units\":\"screen\"},\"id\":\"1c5b32fc-8230-4da3-8828-7f985ff4e3a0\",\"type\":\"BoxAnnotation\"},{\"attributes\":{\"callback\":null,\"data\":{\"x\":{\"__ndarray__\":\"AAAAAAAAFMCamZmZmZkTwDQzMzMzMxPAzszMzMzMEsBoZmZmZmYSwAIAAAAAABLAnJmZmZmZEcA2MzMzMzMRwNDMzMzMzBDAamZmZmZmEMAEAAAAAAAQwDwzMzMzMw/AcGZmZmZmDsCkmZmZmZkNwNjMzMzMzAzADAAAAAAADMBAMzMzMzMLwHRmZmZmZgrAqJmZmZmZCcDczMzMzMwIwBAAAAAAAAjARDMzMzMzB8B4ZmZmZmYGwKyZmZmZmQXA4MzMzMzMBMAUAAAAAAAEwEgzMzMzMwPAfGZmZmZmAsCwmZmZmZkBwOTMzMzMzADAGAAAAAAAAMCYZmZmZmb+vwDNzMzMzPy/aDMzMzMz+7/QmZmZmZn5vzgAAAAAAPi/oGZmZmZm9r8IzczMzMz0v3AzMzMzM/O/2JmZmZmZ8b9AAAAAAADwv1DNzMzMzOy/IJqZmZmZ6b/wZmZmZmbmv8AzMzMzM+O/kAAAAAAA4L/AmpmZmZnZv2A0MzMzM9O/AJyZmZmZyb+AnpmZmZm5vwAAAAAAABS9gJSZmZmZuT8Al5mZmZnJP+AxMzMzM9M/QJiZmZmZ2T+g/v/////fP4AyMzMzM+M/sGVmZmZm5j/gmJmZmZnpPxDMzMzMzOw/QP//////7z84mZmZmZnxP9AyMzMzM/M/aMzMzMzM9D8AZmZmZmb2P5j///////c/MJmZmZmZ+T/IMjMzMzP7P2DMzMzMzPw/+GVmZmZm/j+Q////////P5TMzMzMzABAYJmZmZmZAUAsZmZmZmYCQPgyMzMzMwNAxP//////A0CQzMzMzMwEQFyZmZmZmQVAKGZmZmZmBkD0MjMzMzMHQMD//////wdAjMzMzMzMCEBYmZmZmZkJQCRmZmZmZgpA8DIzMzMzC0C8//////8LQIjMzMzMzAxAVJmZmZmZDUAgZmZmZmYOQOwyMzMzMw9AuP//////D0BCZmZmZmYQQKjMzMzMzBBADjMzMzMzEUB0mZmZmZkRQNr//////xFAQGZmZmZmEkCmzMzMzMwSQAwzMzMzMxNAcpmZmZmZE0DY//////8TQA==\",\"dtype\":\"float64\",\"shape\":[101]}},\"selected\":{\"id\":\"d11ce4c9-0e15-44fa-8531-aed4276e85c8\",\"type\":\"Selection\"},\"selection_policy\":{\"id\":\"46d0207e-88fd-4c85-aed5-13ea7ff27ffb\",\"type\":\"UnionRenderers\"}},\"id\":\"fe5bcc91-63fd-4a0e-a64a-c7eac8fafcc9\",\"type\":\"ColumnDataSource\"},{\"attributes\":{\"label\":{\"value\":\"df1 = 3x^2\"},\"renderers\":[{\"id\":\"2f35be83-d556-404c-ba65-57d33111b55b\",\"type\":\"GlyphRenderer\"}]},\"id\":\"d82588eb-3386-428c-b819-7fc011e48568\",\"type\":\"LegendItem\"},{\"attributes\":{},\"id\":\"b0c84cd6-3a0b-4e4f-a8c9-38f11212ccb6\",\"type\":\"Selection\"},{\"attributes\":{\"line_alpha\":0.5,\"line_color\":\"orange\",\"line_width\":2,\"x\":{\"field\":\"x\"},\"y\":{\"field\":\"y\"}},\"id\":\"9d64ae43-ffdb-4a4e-a9d5-2ceb75116f7b\",\"type\":\"Line\"},{\"attributes\":{\"line_alpha\":0.1,\"line_color\":\"#1f77b4\",\"line_width\":2,\"x\":{\"field\":\"x\"},\"y\":{\"field\":\"y\"}},\"id\":\"b2b7e555-a2fd-463f-b146-90d502aca115\",\"type\":\"Line\"},{\"attributes\":{\"data_source\":{\"id\":\"b1c9d10e-60e7-4b17-9f08-06ba20d8db9a\",\"type\":\"ColumnDataSource\"},\"glyph\":{\"id\":\"9d64ae43-ffdb-4a4e-a9d5-2ceb75116f7b\",\"type\":\"Line\"},\"hover_glyph\":null,\"muted_glyph\":null,\"nonselection_glyph\":{\"id\":\"b2b7e555-a2fd-463f-b146-90d502aca115\",\"type\":\"Line\"},\"selection_glyph\":null,\"view\":{\"id\":\"0c611fe8-8175-4d83-a380-785d4b4cadb1\",\"type\":\"CDSView\"}},\"id\":\"836714c8-643d-4af7-834a-c437912822d2\",\"type\":\"GlyphRenderer\"},{\"attributes\":{\"source\":{\"id\":\"b1c9d10e-60e7-4b17-9f08-06ba20d8db9a\",\"type\":\"ColumnDataSource\"}},\"id\":\"0c611fe8-8175-4d83-a380-785d4b4cadb1\",\"type\":\"CDSView\"},{\"attributes\":{},\"id\":\"cf428cab-1320-40c6-89d8-d5130aaefa5a\",\"type\":\"UnionRenderers\"},{\"attributes\":{\"label\":{\"value\":\"df2 = 4x\"},\"renderers\":[{\"id\":\"836714c8-643d-4af7-834a-c437912822d2\",\"type\":\"GlyphRenderer\"}]},\"id\":\"29d2f036-8689-4ce1-a19b-0485408f7449\",\"type\":\"LegendItem\"}],\"root_ids\":[\"3f3bf266-1f8b-4d8a-b26a-64d6d91de083\"]},\"title\":\"Bokeh Application\",\"version\":\"0.13.0\"}};\n",
       "  var render_items = [{\"docid\":\"7eb59fbe-cc2a-4df3-bb7d-4338719756eb\",\"roots\":{\"3f3bf266-1f8b-4d8a-b26a-64d6d91de083\":\"c8fd116f-11a4-451a-a086-bf74bc251468\"}}];\n",
       "  root.Bokeh.embed.embed_items_notebook(docs_json, render_items);\n",
       "\n",
       "  }\n",
       "  if (root.Bokeh !== undefined) {\n",
       "    embed_document(root);\n",
       "  } else {\n",
       "    var attempts = 0;\n",
       "    var timer = setInterval(function(root) {\n",
       "      if (root.Bokeh !== undefined) {\n",
       "        embed_document(root);\n",
       "        clearInterval(timer);\n",
       "      }\n",
       "      attempts++;\n",
       "      if (attempts > 100) {\n",
       "        console.log(\"Bokeh: ERROR: Unable to run BokehJS code because BokehJS library is missing\")\n",
       "        clearInterval(timer);\n",
       "      }\n",
       "    }, 10, root)\n",
       "  }\n",
       "})(window);"
      ],
      "application/vnd.bokehjs_exec.v0+json": ""
     },
     "metadata": {
      "application/vnd.bokehjs_exec.v0+json": {
       "id": "3f3bf266-1f8b-4d8a-b26a-64d6d91de083"
      }
     },
     "output_type": "display_data"
    }
   ],
   "source": [
    "# Derivatives of each or our component functions\n",
    "def df(x):\n",
    "    return 3*x**2 + 4*x + 3\n",
    "\n",
    "def df_comp1(x):\n",
    "    return 3*x**2\n",
    "\n",
    "def df_comp2(x):\n",
    "    return 4*x\n",
    "\n",
    "def df_comp3(x):\n",
    "    return 3\n",
    "\n",
    "# Plot each of the component Functions \n",
    "p1 = plot(475,400,title=\"The Derivative of each Function Individually\")\n",
    "p1.line(x,df_comp1(x),\n",
    "        color='black',line_width=2,alpha=.5,\n",
    "        legend=\"df1 = 3x^2\")\n",
    "p1.line(x,df_comp2(x),\n",
    "        color='orange',line_width=2,alpha=.5,\n",
    "       legend=\"df2 = 4x\")        \n",
    "p1.line(x,df_comp3(x),\n",
    "        color='green',line_width=2,alpha=.5,\n",
    "       legend=\"df3 = 3\")\n",
    "p1.legend.location = 'top_center'\n",
    "\n",
    "# Plot the combination of the component functions\n",
    "p2 = plot(475,400,title=\"The Derivatives Combined\")\n",
    "for i in range(-5,5+1):  \n",
    "    p2.line([i,i],[df_comp1(i),0],color='black',line_width=5,alpha=.4)\n",
    "    p2.line([i,i],[df_comp1(i)+df_comp2(i),df_comp1(i)],color='orange',line_width=5,alpha=.4)\n",
    "    p2.line([i,i],[df_comp1(i)+df_comp2(i)+df_comp3(i),df_comp1(i)+df_comp2(i)],color='green',line_width=5,alpha=.6)\n",
    "p2.line(x,df(x),color='steelblue',line_width=3)    \n",
    "\n",
    "# Print the two functions side by side\n",
    "show(row(p1,p2))"
   ]
  },
  {
   "cell_type": "markdown",
   "metadata": {},
   "source": [
    "# The Power Rule"
   ]
  },
  {
   "cell_type": "markdown",
   "metadata": {},
   "source": [
    "### Rule"
   ]
  },
  {
   "cell_type": "markdown",
   "metadata": {},
   "source": [
    "\n",
    "<br>\n",
    "<br>\n",
    "\n",
    "$$ f(x) =x^n $$\n",
    "\n",
    "<br>\n",
    "<br>\n",
    "\n",
    "$$ f'(x) = nx^{n-1} $$\n",
    "\n",
    "<br>\n",
    "<br>"
   ]
  },
  {
   "cell_type": "markdown",
   "metadata": {},
   "source": [
    "### Derivation\n",
    "\n",
    "The underlying derivation of the power rule is best seen in its application to different polynomials. Let's take the derivative of three polynomials and see how the power rule emerges as a consistent pattern."
   ]
  },
  {
   "cell_type": "markdown",
   "metadata": {},
   "source": [
    "**Example 1** \n",
    "\n",
    "Consider the function $f(x) = x^2$\n",
    "\n",
    "<br>\n",
    "<br>\n",
    "\n",
    "$$ f'(x) = \\lim_{h\\to0}\\frac{(x + h)^2 - x^2}{h} $$\n",
    "\n",
    "<br>\n",
    "<br>\n",
    "\n",
    "$$ \\frac{x^2 + 2 x (h) + h^2 - x^2}{h}$$\n",
    "\n",
    "<br>\n",
    "<br>\n",
    "\n",
    "$$ \\frac{2 x (h) + h^2}{h}$$\n",
    "\n",
    "<br>\n",
    "<br>\n",
    "\n",
    "$$ 2 x + h $$\n",
    "\n",
    "<br>\n",
    "<br>\n",
    "\n",
    "and as we shrink $h$ to zero (is taken to its limit), we end up with \n",
    "\n",
    "<br>\n",
    "<br>\n",
    "\n",
    "$$2x$$\n",
    "\n",
    "<br>\n",
    "<br>"
   ]
  },
  {
   "cell_type": "markdown",
   "metadata": {},
   "source": [
    "**Example 2:**\n",
    "\n",
    "Consider the function $ f(x) = x^3 $\n",
    "\n",
    "<br>\n",
    "<br>\n",
    "\n",
    "$$ f'(x) = \\lim_{h \\to 0} \\frac{(x + h)^3 - x^3}{h}$$\n",
    "\n",
    "<br>\n",
    "<br>\n",
    "\n",
    "$$\\frac{(h)^3 - 3 (h)^2 x + 3(h)x^2}{h}$$\n",
    "\n",
    "<br>\n",
    "<br>\n",
    "\n",
    "$$(h)^2 - 3 (h) x + 3x^2$$\n",
    "\n",
    "<br>\n",
    "<br>\n",
    "\n",
    "$$3x^2$$\n",
    "\n",
    "\n",
    "<br>\n",
    "<br>\n",
    "\n",
    "\n",
    "\n",
    "\n",
    "**Example 3:**\n",
    "\n",
    "Consider the function $ f(x) = x^7 $\n",
    "\n",
    "<br>\n",
    "<br>\n",
    "\n",
    "$$f'(x) = \\lim_{h \\to 0} \\frac{(x + h)^7 - x^7}{h}$$\n",
    "\n",
    "<br>\n",
    "<br>\n",
    "\n",
    "$$\\frac{(h)^7 + 7(h)^6 x + 21 (h)^5 x^2 + 35 (h)^3 x^4 + 21 (h)^2 x^5 + 7(h) x^6}{h}$$\n",
    "\n",
    "<br>\n",
    "<br>\n",
    "\n",
    "\n",
    "$$\\frac{ h(h^6 + 7 h^5 x + 21 h^4 x^2 + 35 h^2 x^4 + 21 h x^5 + 7 x^6)}{h}$$\n",
    "\n",
    "<br>\n",
    "<br>\n",
    "\n",
    "\n",
    "$$ h^6 + 7 h^5 x + 21 h^4 x^2 + 35 h^2 x^4 + 21 h x^5 + 7 x^6$$\n",
    "\n",
    "<br>\n",
    "<br>\n",
    "\n",
    "Which ultimately reduces to as $h$ approaches 0.\n",
    "\n",
    "<br>\n",
    "<br>\n",
    "\n",
    "$$ 7x^6 $$ \n",
    "\n",
    "<br>\n",
    "<br>"
   ]
  },
  {
   "cell_type": "markdown",
   "metadata": {},
   "source": [
    "The emerging pattern reveals a surprisingly simple rule, which is the **power rule**\n",
    "\n",
    "<br>\n",
    "<br>\n",
    "\n",
    "$$ n x ^{n-1} $$\n",
    "\n",
    "<br>\n",
    "<br>"
   ]
  },
  {
   "cell_type": "markdown",
   "metadata": {},
   "source": [
    "### Intuition\n",
    "\n",
    "What is a square? \n",
    "\n",
    "<br>\n",
    "<br>\n",
    "\n",
    "$$ x^2$$\n",
    "\n",
    "<br>\n",
    "<br>\n",
    "\n",
    "$$ x \\cdot x$$\n",
    "\n",
    "<br>\n",
    "<br>\n",
    "\n",
    "$$ area =  base \\times height $$\n",
    "\n",
    "\n",
    "<br>\n",
    "<br>\n",
    "\n",
    "What is the change in area when we increase the area of the square a little?"
   ]
  },
  {
   "cell_type": "code",
   "execution_count": 8,
   "metadata": {},
   "outputs": [
    {
     "data": {
      "text/html": [
       "\n",
       "\n",
       "\n",
       "\n",
       "\n",
       "\n",
       "  <div class=\"bk-root\" id=\"1be2ac3c-a158-4888-869c-e0467a83a136\"></div>\n"
      ]
     },
     "metadata": {},
     "output_type": "display_data"
    },
    {
     "data": {
      "application/javascript": [
       "(function(root) {\n",
       "  function embed_document(root) {\n",
       "    \n",
       "  var docs_json = {\"2d87b977-4c23-4418-8dba-95a6aac80930\":{\"roots\":{\"references\":[{\"attributes\":{\"dimension\":1,\"plot\":{\"id\":\"423478c4-dfaf-4f80-9569-eb9efdec8514\",\"subtype\":\"Figure\",\"type\":\"Plot\"},\"ticker\":{\"id\":\"62337afa-a468-40c2-9333-4f356a3c01ef\",\"type\":\"BasicTicker\"}},\"id\":\"fbfc58f0-3caa-423b-b23f-99dc1ab0c1d5\",\"type\":\"Grid\"},{\"attributes\":{\"data_source\":{\"id\":\"e5190712-2f64-424d-9fd0-d2b05370ec40\",\"type\":\"ColumnDataSource\"},\"glyph\":{\"id\":\"3c6d0f97-27f1-49d8-81c6-668702571a7b\",\"type\":\"Quad\"},\"hover_glyph\":null,\"muted_glyph\":null,\"nonselection_glyph\":{\"id\":\"5fc84c97-7c49-474f-84fa-d31485b591e2\",\"type\":\"Quad\"},\"selection_glyph\":null,\"view\":{\"id\":\"1a5aaa67-cb22-470c-943b-84f411da337c\",\"type\":\"CDSView\"}},\"id\":\"23aa9adc-3b66-491d-94c9-05ca3d287aed\",\"type\":\"GlyphRenderer\"},{\"attributes\":{\"callback\":null,\"data\":{\"bottom\":[0],\"left\":[0],\"right\":[2],\"top\":[2]},\"selected\":{\"id\":\"f6295939-ebd6-4a70-8c50-5cbb0cd2c67f\",\"type\":\"Selection\"},\"selection_policy\":{\"id\":\"8782e1a8-a2ab-4054-9221-5a909a20b87f\",\"type\":\"UnionRenderers\"}},\"id\":\"4655ffc6-d1ad-4c7e-93cb-fe230f6112e8\",\"type\":\"ColumnDataSource\"},{\"attributes\":{\"source\":{\"id\":\"e5190712-2f64-424d-9fd0-d2b05370ec40\",\"type\":\"ColumnDataSource\"}},\"id\":\"1a5aaa67-cb22-470c-943b-84f411da337c\",\"type\":\"CDSView\"},{\"attributes\":{\"callback\":null},\"id\":\"447f512c-b821-4a5e-92aa-8d15c4bd9766\",\"type\":\"DataRange1d\"},{\"attributes\":{\"bottom\":{\"field\":\"bottom\"},\"fill_alpha\":{\"value\":0.1},\"fill_color\":{\"value\":\"#1f77b4\"},\"left\":{\"field\":\"left\"},\"line_alpha\":{\"value\":0.1},\"line_color\":{\"value\":\"#1f77b4\"},\"right\":{\"field\":\"right\"},\"top\":{\"field\":\"top\"}},\"id\":\"5fc84c97-7c49-474f-84fa-d31485b591e2\",\"type\":\"Quad\"},{\"attributes\":{\"plot\":null,\"text\":\"\"},\"id\":\"8c40266d-335c-446f-97d0-6046e58268d6\",\"type\":\"Title\"},{\"attributes\":{},\"id\":\"b1727bdc-0b46-48e0-90ce-9ba50bfa9a60\",\"type\":\"BasicTickFormatter\"},{\"attributes\":{\"bottom\":{\"field\":\"bottom\"},\"fill_alpha\":{\"value\":0.1},\"fill_color\":{\"value\":\"#1f77b4\"},\"left\":{\"field\":\"left\"},\"line_alpha\":{\"value\":0.1},\"line_color\":{\"value\":\"#1f77b4\"},\"right\":{\"field\":\"right\"},\"top\":{\"field\":\"top\"}},\"id\":\"5887e799-d64c-4302-b257-05a8a7dfcdfd\",\"type\":\"Quad\"},{\"attributes\":{\"items\":[{\"id\":\"0419b1fc-9135-4f7d-b405-d11b375aa9e8\",\"type\":\"LegendItem\"},{\"id\":\"02ea9778-e063-4025-b31b-a0322dbd55fb\",\"type\":\"LegendItem\"},{\"id\":\"f11f118c-93ea-465e-a01d-d789dd1735e4\",\"type\":\"LegendItem\"}],\"location\":\"bottom_left\",\"plot\":{\"id\":\"423478c4-dfaf-4f80-9569-eb9efdec8514\",\"subtype\":\"Figure\",\"type\":\"Plot\"}},\"id\":\"a5d1ebe5-9290-402b-bf41-2a68ef603e05\",\"type\":\"Legend\"},{\"attributes\":{},\"id\":\"f184e319-d996-4e64-8516-a624ce7bbedf\",\"type\":\"LinearScale\"},{\"attributes\":{},\"id\":\"d1defc27-c4f0-4092-a838-52544fcf0d72\",\"type\":\"PanTool\"},{\"attributes\":{\"axis_label\":\"x\",\"formatter\":{\"id\":\"48d98504-1f87-45bc-8c7e-cc2e214b0692\",\"type\":\"BasicTickFormatter\"},\"plot\":{\"id\":\"8347ddec-af3b-4b40-a89d-b050ec60b5c8\",\"subtype\":\"Figure\",\"type\":\"Plot\"},\"ticker\":{\"id\":\"dce9a87e-9c6c-4f75-8f9e-7ce4051d1c52\",\"type\":\"BasicTicker\"}},\"id\":\"0f1c23ca-4b58-469e-99a6-2d7232c8e50d\",\"type\":\"LinearAxis\"},{\"attributes\":{},\"id\":\"56be3808-e9d0-4a89-8664-dc71e2a979a9\",\"type\":\"BasicTickFormatter\"},{\"attributes\":{\"plot\":{\"id\":\"8347ddec-af3b-4b40-a89d-b050ec60b5c8\",\"subtype\":\"Figure\",\"type\":\"Plot\"},\"ticker\":{\"id\":\"dce9a87e-9c6c-4f75-8f9e-7ce4051d1c52\",\"type\":\"BasicTicker\"}},\"id\":\"38460f43-9ab1-4fd3-87cf-15b8d3a18870\",\"type\":\"Grid\"},{\"attributes\":{},\"id\":\"6b6eeb01-45cc-4aa3-ab6c-5194b8d618b0\",\"type\":\"WheelZoomTool\"},{\"attributes\":{\"callback\":null},\"id\":\"bed054ce-41e5-4e4b-9d28-949e9d008b33\",\"type\":\"DataRange1d\"},{\"attributes\":{\"overlay\":{\"id\":\"160533c6-39c6-4300-9148-93a3b3b804f0\",\"type\":\"BoxAnnotation\"}},\"id\":\"9feb9da1-3a7f-4144-8abb-4e6d8c2e5bc4\",\"type\":\"BoxZoomTool\"},{\"attributes\":{},\"id\":\"49a6a3ba-8375-4c52-bc09-d6536a46b75f\",\"type\":\"SaveTool\"},{\"attributes\":{},\"id\":\"13aaa981-827a-4ac8-b366-267388835515\",\"type\":\"LinearScale\"},{\"attributes\":{},\"id\":\"5a119954-453d-4ed5-8842-488167940f43\",\"type\":\"ResetTool\"},{\"attributes\":{},\"id\":\"24f74650-df19-40fd-b8ff-c991bfbb0c3a\",\"type\":\"HelpTool\"},{\"attributes\":{\"bottom_units\":\"screen\",\"fill_alpha\":{\"value\":0.5},\"fill_color\":{\"value\":\"lightgrey\"},\"left_units\":\"screen\",\"level\":\"overlay\",\"line_alpha\":{\"value\":1.0},\"line_color\":{\"value\":\"black\"},\"line_dash\":[4,4],\"line_width\":{\"value\":2},\"plot\":null,\"render_mode\":\"css\",\"right_units\":\"screen\",\"top_units\":\"screen\"},\"id\":\"160533c6-39c6-4300-9148-93a3b3b804f0\",\"type\":\"BoxAnnotation\"},{\"attributes\":{\"callback\":null,\"data\":{\"bottom\":[2],\"left\":[2],\"right\":[2.1],\"top\":[2.1]},\"selected\":{\"id\":\"43fa1ad9-17ef-43f6-a3b7-7a4228edc392\",\"type\":\"Selection\"},\"selection_policy\":{\"id\":\"f21e8efd-fcbd-48f4-9a0c-ef7cb8831ed1\",\"type\":\"UnionRenderers\"}},\"id\":\"70265ef7-776d-430e-bfbf-c5b499f63b39\",\"type\":\"ColumnDataSource\"},{\"attributes\":{\"below\":[{\"id\":\"0f1c23ca-4b58-469e-99a6-2d7232c8e50d\",\"type\":\"LinearAxis\"}],\"left\":[{\"id\":\"6e87c70a-ed31-4873-b1c3-a10095f3f31a\",\"type\":\"LinearAxis\"}],\"plot_height\":475,\"plot_width\":475,\"renderers\":[{\"id\":\"0f1c23ca-4b58-469e-99a6-2d7232c8e50d\",\"type\":\"LinearAxis\"},{\"id\":\"38460f43-9ab1-4fd3-87cf-15b8d3a18870\",\"type\":\"Grid\"},{\"id\":\"6e87c70a-ed31-4873-b1c3-a10095f3f31a\",\"type\":\"LinearAxis\"},{\"id\":\"ed250127-dbc8-4823-9c33-dc55cc42ce01\",\"type\":\"Grid\"},{\"id\":\"3d368807-f5bf-4210-af08-0475b3cb7ea9\",\"type\":\"BoxAnnotation\"},{\"id\":\"918b3c0f-ac9f-4fb5-b9b3-f652003105ac\",\"type\":\"Legend\"},{\"id\":\"17bec797-c0b1-4e96-a5a8-a1b83a72bcbd\",\"type\":\"GlyphRenderer\"},{\"id\":\"3bcddfce-a04a-4a61-b4fe-1e7103bed2e4\",\"type\":\"GlyphRenderer\"}],\"title\":{\"id\":\"8c40266d-335c-446f-97d0-6046e58268d6\",\"type\":\"Title\"},\"toolbar\":{\"id\":\"986716a4-6431-4bd1-b5e1-c404e1e7a280\",\"type\":\"Toolbar\"},\"toolbar_location\":\"below\",\"x_range\":{\"id\":\"bed054ce-41e5-4e4b-9d28-949e9d008b33\",\"type\":\"DataRange1d\"},\"x_scale\":{\"id\":\"13aaa981-827a-4ac8-b366-267388835515\",\"type\":\"LinearScale\"},\"y_range\":{\"id\":\"447f512c-b821-4a5e-92aa-8d15c4bd9766\",\"type\":\"DataRange1d\"},\"y_scale\":{\"id\":\"f184e319-d996-4e64-8516-a624ce7bbedf\",\"type\":\"LinearScale\"}},\"id\":\"8347ddec-af3b-4b40-a89d-b050ec60b5c8\",\"subtype\":\"Figure\",\"type\":\"Plot\"},{\"attributes\":{\"label\":{\"value\":\"x(h)\"},\"renderers\":[{\"id\":\"23aa9adc-3b66-491d-94c9-05ca3d287aed\",\"type\":\"GlyphRenderer\"}]},\"id\":\"0419b1fc-9135-4f7d-b405-d11b375aa9e8\",\"type\":\"LegendItem\"},{\"attributes\":{},\"id\":\"4c0b8a49-22aa-4aff-b331-659f64a07c6b\",\"type\":\"BasicTickFormatter\"},{\"attributes\":{},\"id\":\"ca233bf5-d589-482d-a984-58f2d4a3256d\",\"type\":\"Selection\"},{\"attributes\":{\"source\":{\"id\":\"4655ffc6-d1ad-4c7e-93cb-fe230f6112e8\",\"type\":\"ColumnDataSource\"}},\"id\":\"6283479a-c07b-4da4-9820-67157e87d1f0\",\"type\":\"CDSView\"},{\"attributes\":{\"bottom\":{\"field\":\"bottom\"},\"fill_alpha\":{\"value\":0.2},\"fill_color\":{\"value\":\"purple\"},\"left\":{\"field\":\"left\"},\"line_alpha\":{\"value\":0.2},\"line_color\":{\"value\":\"purple\"},\"right\":{\"field\":\"right\"},\"top\":{\"field\":\"top\"}},\"id\":\"8475059b-68d1-4676-9533-5b8b14c19dfa\",\"type\":\"Quad\"},{\"attributes\":{},\"id\":\"dce9a87e-9c6c-4f75-8f9e-7ce4051d1c52\",\"type\":\"BasicTicker\"},{\"attributes\":{\"bottom\":{\"field\":\"bottom\"},\"fill_alpha\":{\"value\":0.1},\"fill_color\":{\"value\":\"#1f77b4\"},\"left\":{\"field\":\"left\"},\"line_alpha\":{\"value\":0.1},\"line_color\":{\"value\":\"#1f77b4\"},\"right\":{\"field\":\"right\"},\"top\":{\"field\":\"top\"}},\"id\":\"7da21177-5c3b-46e9-b5fa-7f61a8b6760c\",\"type\":\"Quad\"},{\"attributes\":{\"dimension\":1,\"plot\":{\"id\":\"8347ddec-af3b-4b40-a89d-b050ec60b5c8\",\"subtype\":\"Figure\",\"type\":\"Plot\"},\"ticker\":{\"id\":\"e6bb01f6-b3e1-47f2-912e-19f22549b2f1\",\"type\":\"BasicTicker\"}},\"id\":\"ed250127-dbc8-4823-9c33-dc55cc42ce01\",\"type\":\"Grid\"},{\"attributes\":{\"data_source\":{\"id\":\"c1d2fd67-c636-49b4-ac12-bbfe4011c9fc\",\"type\":\"ColumnDataSource\"},\"glyph\":{\"id\":\"8475059b-68d1-4676-9533-5b8b14c19dfa\",\"type\":\"Quad\"},\"hover_glyph\":null,\"muted_glyph\":null,\"nonselection_glyph\":{\"id\":\"7da21177-5c3b-46e9-b5fa-7f61a8b6760c\",\"type\":\"Quad\"},\"selection_glyph\":null,\"view\":{\"id\":\"fa5c7381-67be-4d5f-ae53-f8b38ebc950b\",\"type\":\"CDSView\"}},\"id\":\"dd1e18b6-2f3d-495a-992f-207e4d4ad613\",\"type\":\"GlyphRenderer\"},{\"attributes\":{},\"id\":\"56b1f45d-2bd8-498b-bc4f-630ef9503bb0\",\"type\":\"SaveTool\"},{\"attributes\":{\"source\":{\"id\":\"c1d2fd67-c636-49b4-ac12-bbfe4011c9fc\",\"type\":\"ColumnDataSource\"}},\"id\":\"fa5c7381-67be-4d5f-ae53-f8b38ebc950b\",\"type\":\"CDSView\"},{\"attributes\":{},\"id\":\"0202aaf4-553e-495d-9b04-0b5d29617f4c\",\"type\":\"ResetTool\"},{\"attributes\":{},\"id\":\"b5f7e9af-a059-495c-83ee-529b6afc3eb9\",\"type\":\"UnionRenderers\"},{\"attributes\":{},\"id\":\"5739a91c-cf17-4c78-b869-e234d46dcf6f\",\"type\":\"PanTool\"},{\"attributes\":{},\"id\":\"bb7db46d-6e38-46d3-aebd-c7234143a635\",\"type\":\"Selection\"},{\"attributes\":{},\"id\":\"48d98504-1f87-45bc-8c7e-cc2e214b0692\",\"type\":\"BasicTickFormatter\"},{\"attributes\":{\"label\":{\"value\":\"(h)x\"},\"renderers\":[{\"id\":\"dd1e18b6-2f3d-495a-992f-207e4d4ad613\",\"type\":\"GlyphRenderer\"}]},\"id\":\"02ea9778-e063-4025-b31b-a0322dbd55fb\",\"type\":\"LegendItem\"},{\"attributes\":{\"overlay\":{\"id\":\"3d368807-f5bf-4210-af08-0475b3cb7ea9\",\"type\":\"BoxAnnotation\"}},\"id\":\"eab5786c-3463-44b3-b876-bcd44ddfc4d7\",\"type\":\"BoxZoomTool\"},{\"attributes\":{},\"id\":\"b1bbad9c-f7e8-466a-9495-ec11af087a5d\",\"type\":\"WheelZoomTool\"},{\"attributes\":{\"bottom\":{\"field\":\"bottom\"},\"fill_alpha\":{\"value\":0.2},\"fill_color\":{\"value\":\"gold\"},\"left\":{\"field\":\"left\"},\"line_alpha\":{\"value\":0.2},\"line_color\":{\"value\":\"gold\"},\"right\":{\"field\":\"right\"},\"top\":{\"field\":\"top\"}},\"id\":\"b167c232-486f-4a1c-9ba0-779df9dba325\",\"type\":\"Quad\"},{\"attributes\":{\"data_source\":{\"id\":\"4655ffc6-d1ad-4c7e-93cb-fe230f6112e8\",\"type\":\"ColumnDataSource\"},\"glyph\":{\"id\":\"253aaec9-71cd-49cd-ba4e-dc99e99e851a\",\"type\":\"Quad\"},\"hover_glyph\":null,\"muted_glyph\":null,\"nonselection_glyph\":{\"id\":\"5887e799-d64c-4302-b257-05a8a7dfcdfd\",\"type\":\"Quad\"},\"selection_glyph\":null,\"view\":{\"id\":\"6283479a-c07b-4da4-9820-67157e87d1f0\",\"type\":\"CDSView\"}},\"id\":\"17bec797-c0b1-4e96-a5a8-a1b83a72bcbd\",\"type\":\"GlyphRenderer\"},{\"attributes\":{\"bottom\":{\"field\":\"bottom\"},\"fill_alpha\":{\"value\":0.1},\"fill_color\":{\"value\":\"#1f77b4\"},\"left\":{\"field\":\"left\"},\"line_alpha\":{\"value\":0.1},\"line_color\":{\"value\":\"#1f77b4\"},\"right\":{\"field\":\"right\"},\"top\":{\"field\":\"top\"}},\"id\":\"77658193-cf4b-4ff0-a372-d1dd7d3b1cb7\",\"type\":\"Quad\"},{\"attributes\":{\"bottom\":{\"field\":\"bottom\"},\"fill_color\":{\"value\":\"steelblue\"},\"left\":{\"field\":\"left\"},\"line_color\":{\"value\":\"steelblue\"},\"right\":{\"field\":\"right\"},\"top\":{\"field\":\"top\"}},\"id\":\"253aaec9-71cd-49cd-ba4e-dc99e99e851a\",\"type\":\"Quad\"},{\"attributes\":{\"axis_label\":\"x\",\"formatter\":{\"id\":\"b1727bdc-0b46-48e0-90ce-9ba50bfa9a60\",\"type\":\"BasicTickFormatter\"},\"plot\":{\"id\":\"423478c4-dfaf-4f80-9569-eb9efdec8514\",\"subtype\":\"Figure\",\"type\":\"Plot\"},\"ticker\":{\"id\":\"62337afa-a468-40c2-9333-4f356a3c01ef\",\"type\":\"BasicTicker\"}},\"id\":\"311bc98c-0e05-4db7-998e-7ff94e708dde\",\"type\":\"LinearAxis\"},{\"attributes\":{\"data_source\":{\"id\":\"70265ef7-776d-430e-bfbf-c5b499f63b39\",\"type\":\"ColumnDataSource\"},\"glyph\":{\"id\":\"b167c232-486f-4a1c-9ba0-779df9dba325\",\"type\":\"Quad\"},\"hover_glyph\":null,\"muted_glyph\":null,\"nonselection_glyph\":{\"id\":\"77658193-cf4b-4ff0-a372-d1dd7d3b1cb7\",\"type\":\"Quad\"},\"selection_glyph\":null,\"view\":{\"id\":\"f267e6f2-89c8-45f6-a13e-f07d28ceb741\",\"type\":\"CDSView\"}},\"id\":\"cf7f811a-e94e-49cb-bf6a-96051ccde7b6\",\"type\":\"GlyphRenderer\"},{\"attributes\":{\"callback\":null,\"data\":{\"bottom\":[0],\"left\":[0],\"right\":[2.1],\"top\":[2.1]},\"selected\":{\"id\":\"1f57551f-53c9-4406-bc58-b9caff77ad82\",\"type\":\"Selection\"},\"selection_policy\":{\"id\":\"5c8c5e82-fa55-48d1-9bf5-9bdba3ba6925\",\"type\":\"UnionRenderers\"}},\"id\":\"44008d3b-0a0d-458e-90cb-66f404688c99\",\"type\":\"ColumnDataSource\"},{\"attributes\":{\"active_drag\":\"auto\",\"active_inspect\":\"auto\",\"active_multi\":null,\"active_scroll\":\"auto\",\"active_tap\":\"auto\",\"tools\":[{\"id\":\"5739a91c-cf17-4c78-b869-e234d46dcf6f\",\"type\":\"PanTool\"},{\"id\":\"b1bbad9c-f7e8-466a-9495-ec11af087a5d\",\"type\":\"WheelZoomTool\"},{\"id\":\"eab5786c-3463-44b3-b876-bcd44ddfc4d7\",\"type\":\"BoxZoomTool\"},{\"id\":\"56b1f45d-2bd8-498b-bc4f-630ef9503bb0\",\"type\":\"SaveTool\"},{\"id\":\"0202aaf4-553e-495d-9b04-0b5d29617f4c\",\"type\":\"ResetTool\"},{\"id\":\"55c2523b-3377-4181-b99e-7024e21cfbe8\",\"type\":\"HelpTool\"}]},\"id\":\"986716a4-6431-4bd1-b5e1-c404e1e7a280\",\"type\":\"Toolbar\"},{\"attributes\":{\"source\":{\"id\":\"70265ef7-776d-430e-bfbf-c5b499f63b39\",\"type\":\"ColumnDataSource\"}},\"id\":\"f267e6f2-89c8-45f6-a13e-f07d28ceb741\",\"type\":\"CDSView\"},{\"attributes\":{\"items\":[{\"id\":\"a6fb9980-e47f-4380-9f22-9e5d30152712\",\"type\":\"LegendItem\"},{\"id\":\"25c4722f-5547-4e64-a6c9-b6059499b78f\",\"type\":\"LegendItem\"}],\"location\":\"bottom_left\",\"plot\":{\"id\":\"8347ddec-af3b-4b40-a89d-b050ec60b5c8\",\"subtype\":\"Figure\",\"type\":\"Plot\"}},\"id\":\"918b3c0f-ac9f-4fb5-b9b3-f652003105ac\",\"type\":\"Legend\"},{\"attributes\":{},\"id\":\"62337afa-a468-40c2-9333-4f356a3c01ef\",\"type\":\"BasicTicker\"},{\"attributes\":{},\"id\":\"b00dc2fd-e6cc-4aa2-9827-95aee59267c7\",\"type\":\"UnionRenderers\"},{\"attributes\":{},\"id\":\"55c2523b-3377-4181-b99e-7024e21cfbe8\",\"type\":\"HelpTool\"},{\"attributes\":{\"bottom_units\":\"screen\",\"fill_alpha\":{\"value\":0.5},\"fill_color\":{\"value\":\"lightgrey\"},\"left_units\":\"screen\",\"level\":\"overlay\",\"line_alpha\":{\"value\":1.0},\"line_color\":{\"value\":\"black\"},\"line_dash\":[4,4],\"line_width\":{\"value\":2},\"plot\":null,\"render_mode\":\"css\",\"right_units\":\"screen\",\"top_units\":\"screen\"},\"id\":\"3d368807-f5bf-4210-af08-0475b3cb7ea9\",\"type\":\"BoxAnnotation\"},{\"attributes\":{\"label\":{\"value\":\"h(h)\"},\"renderers\":[{\"id\":\"cf7f811a-e94e-49cb-bf6a-96051ccde7b6\",\"type\":\"GlyphRenderer\"}]},\"id\":\"f11f118c-93ea-465e-a01d-d789dd1735e4\",\"type\":\"LegendItem\"},{\"attributes\":{\"bottom\":{\"field\":\"bottom\"},\"fill_alpha\":{\"value\":0.1},\"fill_color\":{\"value\":\"#1f77b4\"},\"left\":{\"field\":\"left\"},\"line_alpha\":{\"value\":0.1},\"line_color\":{\"value\":\"#1f77b4\"},\"right\":{\"field\":\"right\"},\"top\":{\"field\":\"top\"}},\"id\":\"d13af178-1586-45a2-94d7-ba2e6eed1628\",\"type\":\"Quad\"},{\"attributes\":{\"children\":[{\"id\":\"8347ddec-af3b-4b40-a89d-b050ec60b5c8\",\"subtype\":\"Figure\",\"type\":\"Plot\"},{\"id\":\"423478c4-dfaf-4f80-9569-eb9efdec8514\",\"subtype\":\"Figure\",\"type\":\"Plot\"}]},\"id\":\"03fc3069-deed-4bd5-9672-6212978a8929\",\"type\":\"Row\"},{\"attributes\":{\"bottom\":{\"field\":\"bottom\"},\"fill_alpha\":{\"value\":0.2},\"fill_color\":{\"value\":\"red\"},\"left\":{\"field\":\"left\"},\"line_alpha\":{\"value\":0.2},\"line_color\":{\"value\":\"red\"},\"right\":{\"field\":\"right\"},\"top\":{\"field\":\"top\"}},\"id\":\"3c6d0f97-27f1-49d8-81c6-668702571a7b\",\"type\":\"Quad\"},{\"attributes\":{},\"id\":\"5c8c5e82-fa55-48d1-9bf5-9bdba3ba6925\",\"type\":\"UnionRenderers\"},{\"attributes\":{\"bottom\":{\"field\":\"bottom\"},\"fill_alpha\":{\"value\":0.2},\"fill_color\":{\"value\":\"gold\"},\"left\":{\"field\":\"left\"},\"line_alpha\":{\"value\":0.2},\"line_color\":{\"value\":\"gold\"},\"right\":{\"field\":\"right\"},\"top\":{\"field\":\"top\"}},\"id\":\"f1d96fec-c6c3-49fb-8adc-434ab5c31c93\",\"type\":\"Quad\"},{\"attributes\":{\"label\":{\"value\":\"Initial Area\"},\"renderers\":[{\"id\":\"17bec797-c0b1-4e96-a5a8-a1b83a72bcbd\",\"type\":\"GlyphRenderer\"}]},\"id\":\"a6fb9980-e47f-4380-9f22-9e5d30152712\",\"type\":\"LegendItem\"},{\"attributes\":{},\"id\":\"1f57551f-53c9-4406-bc58-b9caff77ad82\",\"type\":\"Selection\"},{\"attributes\":{\"source\":{\"id\":\"44008d3b-0a0d-458e-90cb-66f404688c99\",\"type\":\"ColumnDataSource\"}},\"id\":\"9aa04fd6-a899-4288-99e2-3173c83b9d94\",\"type\":\"CDSView\"},{\"attributes\":{},\"id\":\"43fa1ad9-17ef-43f6-a3b7-7a4228edc392\",\"type\":\"Selection\"},{\"attributes\":{\"data_source\":{\"id\":\"44008d3b-0a0d-458e-90cb-66f404688c99\",\"type\":\"ColumnDataSource\"},\"glyph\":{\"id\":\"f1d96fec-c6c3-49fb-8adc-434ab5c31c93\",\"type\":\"Quad\"},\"hover_glyph\":null,\"muted_glyph\":null,\"nonselection_glyph\":{\"id\":\"d13af178-1586-45a2-94d7-ba2e6eed1628\",\"type\":\"Quad\"},\"selection_glyph\":null,\"view\":{\"id\":\"9aa04fd6-a899-4288-99e2-3173c83b9d94\",\"type\":\"CDSView\"}},\"id\":\"3bcddfce-a04a-4a61-b4fe-1e7103bed2e4\",\"type\":\"GlyphRenderer\"},{\"attributes\":{},\"id\":\"f21e8efd-fcbd-48f4-9a0c-ef7cb8831ed1\",\"type\":\"UnionRenderers\"},{\"attributes\":{},\"id\":\"e6bb01f6-b3e1-47f2-912e-19f22549b2f1\",\"type\":\"BasicTicker\"},{\"attributes\":{\"axis_label\":\"x\",\"formatter\":{\"id\":\"4c0b8a49-22aa-4aff-b331-659f64a07c6b\",\"type\":\"BasicTickFormatter\"},\"plot\":{\"id\":\"8347ddec-af3b-4b40-a89d-b050ec60b5c8\",\"subtype\":\"Figure\",\"type\":\"Plot\"},\"ticker\":{\"id\":\"e6bb01f6-b3e1-47f2-912e-19f22549b2f1\",\"type\":\"BasicTicker\"}},\"id\":\"6e87c70a-ed31-4873-b1c3-a10095f3f31a\",\"type\":\"LinearAxis\"},{\"attributes\":{\"axis_label\":\"x\",\"formatter\":{\"id\":\"56be3808-e9d0-4a89-8664-dc71e2a979a9\",\"type\":\"BasicTickFormatter\"},\"plot\":{\"id\":\"423478c4-dfaf-4f80-9569-eb9efdec8514\",\"subtype\":\"Figure\",\"type\":\"Plot\"},\"ticker\":{\"id\":\"c3fc1be5-ef3f-454c-a9a2-c711896ddd58\",\"type\":\"BasicTicker\"}},\"id\":\"54c365f4-289e-4ca9-88ed-e6504537e66b\",\"type\":\"LinearAxis\"},{\"attributes\":{\"callback\":null,\"data\":{\"bottom\":[0],\"left\":[2],\"right\":[2.1],\"top\":[2]},\"selected\":{\"id\":\"bb7db46d-6e38-46d3-aebd-c7234143a635\",\"type\":\"Selection\"},\"selection_policy\":{\"id\":\"b00dc2fd-e6cc-4aa2-9827-95aee59267c7\",\"type\":\"UnionRenderers\"}},\"id\":\"c1d2fd67-c636-49b4-ac12-bbfe4011c9fc\",\"type\":\"ColumnDataSource\"},{\"attributes\":{},\"id\":\"f6295939-ebd6-4a70-8c50-5cbb0cd2c67f\",\"type\":\"Selection\"},{\"attributes\":{\"callback\":null,\"data\":{\"bottom\":[2],\"left\":[0],\"right\":[2],\"top\":[2.1]},\"selected\":{\"id\":\"ca233bf5-d589-482d-a984-58f2d4a3256d\",\"type\":\"Selection\"},\"selection_policy\":{\"id\":\"b5f7e9af-a059-495c-83ee-529b6afc3eb9\",\"type\":\"UnionRenderers\"}},\"id\":\"e5190712-2f64-424d-9fd0-d2b05370ec40\",\"type\":\"ColumnDataSource\"},{\"attributes\":{\"below\":[{\"id\":\"54c365f4-289e-4ca9-88ed-e6504537e66b\",\"type\":\"LinearAxis\"}],\"left\":[{\"id\":\"311bc98c-0e05-4db7-998e-7ff94e708dde\",\"type\":\"LinearAxis\"}],\"plot_height\":475,\"plot_width\":475,\"renderers\":[{\"id\":\"54c365f4-289e-4ca9-88ed-e6504537e66b\",\"type\":\"LinearAxis\"},{\"id\":\"55d2739b-88f5-4cc2-83e1-795648d5c7e4\",\"type\":\"Grid\"},{\"id\":\"311bc98c-0e05-4db7-998e-7ff94e708dde\",\"type\":\"LinearAxis\"},{\"id\":\"fbfc58f0-3caa-423b-b23f-99dc1ab0c1d5\",\"type\":\"Grid\"},{\"id\":\"160533c6-39c6-4300-9148-93a3b3b804f0\",\"type\":\"BoxAnnotation\"},{\"id\":\"a5d1ebe5-9290-402b-bf41-2a68ef603e05\",\"type\":\"Legend\"},{\"id\":\"23aa9adc-3b66-491d-94c9-05ca3d287aed\",\"type\":\"GlyphRenderer\"},{\"id\":\"dd1e18b6-2f3d-495a-992f-207e4d4ad613\",\"type\":\"GlyphRenderer\"},{\"id\":\"cf7f811a-e94e-49cb-bf6a-96051ccde7b6\",\"type\":\"GlyphRenderer\"}],\"title\":{\"id\":\"bc6ccbeb-f9f9-4f47-953c-70f3c243adb4\",\"type\":\"Title\"},\"toolbar\":{\"id\":\"e8126452-5202-4ba7-80aa-7ad7b73602fe\",\"type\":\"Toolbar\"},\"toolbar_location\":\"below\",\"x_range\":{\"id\":\"8458956a-dd6a-4bbf-a0e8-4c2c14a27580\",\"type\":\"DataRange1d\"},\"x_scale\":{\"id\":\"050357f7-4018-4f09-827c-4aba9efb4c55\",\"type\":\"LinearScale\"},\"y_range\":{\"id\":\"b752b6cb-f71b-4558-a09f-fc6659e32e46\",\"type\":\"DataRange1d\"},\"y_scale\":{\"id\":\"9d53a7bd-49f3-4969-98ed-b26df48dddc6\",\"type\":\"LinearScale\"}},\"id\":\"423478c4-dfaf-4f80-9569-eb9efdec8514\",\"subtype\":\"Figure\",\"type\":\"Plot\"},{\"attributes\":{\"label\":{\"value\":\"Area + some increase (h)\"},\"renderers\":[{\"id\":\"3bcddfce-a04a-4a61-b4fe-1e7103bed2e4\",\"type\":\"GlyphRenderer\"}]},\"id\":\"25c4722f-5547-4e64-a6c9-b6059499b78f\",\"type\":\"LegendItem\"},{\"attributes\":{\"plot\":null,\"text\":\"\"},\"id\":\"bc6ccbeb-f9f9-4f47-953c-70f3c243adb4\",\"type\":\"Title\"},{\"attributes\":{},\"id\":\"050357f7-4018-4f09-827c-4aba9efb4c55\",\"type\":\"LinearScale\"},{\"attributes\":{},\"id\":\"8782e1a8-a2ab-4054-9221-5a909a20b87f\",\"type\":\"UnionRenderers\"},{\"attributes\":{\"active_drag\":\"auto\",\"active_inspect\":\"auto\",\"active_multi\":null,\"active_scroll\":\"auto\",\"active_tap\":\"auto\",\"tools\":[{\"id\":\"d1defc27-c4f0-4092-a838-52544fcf0d72\",\"type\":\"PanTool\"},{\"id\":\"6b6eeb01-45cc-4aa3-ab6c-5194b8d618b0\",\"type\":\"WheelZoomTool\"},{\"id\":\"9feb9da1-3a7f-4144-8abb-4e6d8c2e5bc4\",\"type\":\"BoxZoomTool\"},{\"id\":\"49a6a3ba-8375-4c52-bc09-d6536a46b75f\",\"type\":\"SaveTool\"},{\"id\":\"5a119954-453d-4ed5-8842-488167940f43\",\"type\":\"ResetTool\"},{\"id\":\"24f74650-df19-40fd-b8ff-c991bfbb0c3a\",\"type\":\"HelpTool\"}]},\"id\":\"e8126452-5202-4ba7-80aa-7ad7b73602fe\",\"type\":\"Toolbar\"},{\"attributes\":{\"callback\":null},\"id\":\"b752b6cb-f71b-4558-a09f-fc6659e32e46\",\"type\":\"DataRange1d\"},{\"attributes\":{\"plot\":{\"id\":\"423478c4-dfaf-4f80-9569-eb9efdec8514\",\"subtype\":\"Figure\",\"type\":\"Plot\"},\"ticker\":{\"id\":\"c3fc1be5-ef3f-454c-a9a2-c711896ddd58\",\"type\":\"BasicTicker\"}},\"id\":\"55d2739b-88f5-4cc2-83e1-795648d5c7e4\",\"type\":\"Grid\"},{\"attributes\":{},\"id\":\"c3fc1be5-ef3f-454c-a9a2-c711896ddd58\",\"type\":\"BasicTicker\"},{\"attributes\":{\"callback\":null},\"id\":\"8458956a-dd6a-4bbf-a0e8-4c2c14a27580\",\"type\":\"DataRange1d\"},{\"attributes\":{},\"id\":\"9d53a7bd-49f3-4969-98ed-b26df48dddc6\",\"type\":\"LinearScale\"}],\"root_ids\":[\"03fc3069-deed-4bd5-9672-6212978a8929\"]},\"title\":\"Bokeh Application\",\"version\":\"0.13.0\"}};\n",
       "  var render_items = [{\"docid\":\"2d87b977-4c23-4418-8dba-95a6aac80930\",\"roots\":{\"03fc3069-deed-4bd5-9672-6212978a8929\":\"1be2ac3c-a158-4888-869c-e0467a83a136\"}}];\n",
       "  root.Bokeh.embed.embed_items_notebook(docs_json, render_items);\n",
       "\n",
       "  }\n",
       "  if (root.Bokeh !== undefined) {\n",
       "    embed_document(root);\n",
       "  } else {\n",
       "    var attempts = 0;\n",
       "    var timer = setInterval(function(root) {\n",
       "      if (root.Bokeh !== undefined) {\n",
       "        embed_document(root);\n",
       "        clearInterval(timer);\n",
       "      }\n",
       "      attempts++;\n",
       "      if (attempts > 100) {\n",
       "        console.log(\"Bokeh: ERROR: Unable to run BokehJS code because BokehJS library is missing\")\n",
       "        clearInterval(timer);\n",
       "      }\n",
       "    }, 10, root)\n",
       "  }\n",
       "})(window);"
      ],
      "application/vnd.bokehjs_exec.v0+json": ""
     },
     "metadata": {
      "application/vnd.bokehjs_exec.v0+json": {
       "id": "03fc3069-deed-4bd5-9672-6212978a8929"
      }
     },
     "output_type": "display_data"
    }
   ],
   "source": [
    "# Parameters \n",
    "base = 2 # Base \n",
    "height = 2 # Height\n",
    "h = .1 # our slight change\n",
    "\n",
    "\n",
    "# PLOT 1\n",
    "p1 = plot(475,475,y='x',x='x')\n",
    "\n",
    "# plot our square\n",
    "p1.quad(top=[height], bottom=[0], left=[0],\n",
    "       right=[base], color=\"steelblue\",\n",
    "       legend=\"Initial Area\")\n",
    "\n",
    "# Plot our square with a slight h\n",
    "p1.quad(top=[height+h], bottom=[0], left=[0],\n",
    "       right=[base+h], color=\"gold\",alpha=.2,\n",
    "       legend=\"Area + some increase (h)\")\n",
    "p1.legend.location = 'bottom_left'\n",
    "\n",
    "\n",
    "# PLOT 2\n",
    "# Lets color the areas being changes\n",
    "p2 = plot(475,475,x='x',y='x')\n",
    "\n",
    "# Change in the height as we adjust x. \n",
    "p2.quad(top=[height + h], bottom=[height], left=[0],\n",
    "       right=[base], color=\"red\",alpha=.2,\n",
    "      legend=\"x(h)\")\n",
    "\n",
    "# Change in the base as we adjust x.\n",
    "p2.quad(top=[height], bottom=[0], left=[base],\n",
    "       right=[base + h], color=\"purple\",alpha=.2,\n",
    "      legend=\"(h)x\")\n",
    "\n",
    "# Change in the base as we adjust x.\n",
    "p2.quad(top=[height+h], bottom=[height], left=[base],\n",
    "       right=[base+h], color=\"gold\",alpha=.2,\n",
    "      legend=\"h(h)\")\n",
    "p2.legend.location = 'bottom_left'\n",
    "show(row(p1,p2))"
   ]
  },
  {
   "cell_type": "markdown",
   "metadata": {},
   "source": [
    "What is the resulting area of the change?\n",
    "\n",
    "<br>\n",
    "<br>\n",
    "\n",
    "$$ new~area =  xh + xh + h^2 $$\n",
    "\n",
    "<br>\n",
    "<br>\n",
    "\n",
    "$$ 2xh + h^2 $$\n",
    "\n",
    "<br>\n",
    "<br>\n",
    "\n",
    "Divide $h$ out\n",
    "\n",
    "<br>\n",
    "<br>\n",
    "\n",
    "$$ \\frac{2xh + h^2}{h} $$\n",
    "\n",
    "<br>\n",
    "<br>\n",
    "\n",
    "$$ \\lim_{h \\to 0} 2x + h $$\n",
    "\n",
    "<br>\n",
    "<br>\n",
    "\n",
    "Again, as we shrink the size of $h$ (the change) down into smaller and smaller bits, we end up with \n",
    "\n",
    "<br>\n",
    "<br>\n",
    "\n",
    "$$2x$$\n",
    "\n",
    "<br>\n",
    "<br>\n",
    "\n",
    "Can you see how this would extend to any polynomial?"
   ]
  },
  {
   "cell_type": "markdown",
   "metadata": {},
   "source": [
    "# The Product Rule"
   ]
  },
  {
   "cell_type": "markdown",
   "metadata": {},
   "source": [
    "### Rule\n",
    "\n",
    "<br>\n",
    "<br>\n",
    "\n",
    "$$ F(x) = f(x)g(x) $$\n",
    "\n",
    "<br>\n",
    "<br>\n",
    "\n",
    "$$ F'(x) = f'(x) g(x) + f(x) g'(x) $$\n",
    "\n",
    "<br>\n",
    "<br>"
   ]
  },
  {
   "cell_type": "markdown",
   "metadata": {},
   "source": [
    "### Derivation\n",
    "\n",
    "<br>\n",
    "<br>\n",
    "\n",
    "$$  F'(x) = \\lim_{h \\to 0}  \\frac{f(x+h)g(x+h) - f(x)g(x)}{h} $$\n",
    "\n",
    "<br>\n",
    "<br>\n",
    "\n",
    "We'll need to perform a trick to manipulate this expression algebraically. We can do this by adding and subtracting the same value in the numerator. Note that this doesn't change anything in the expression, but it does allow us a way to manipulate it. \n",
    "\n",
    "<br>\n",
    "<br>\n",
    "\n",
    "\n",
    "$$ \\lim_{h \\to 0} \\frac{f(x+h)g(x+h) \\textbf{- f(x)g(x+h) + f(x)g(x+h)} - f(x)g(x)}{h} $$\n",
    "\n",
    "<br>\n",
    "<br>\n",
    "\n",
    "\n",
    "Regroup values and use what we know of addition\n",
    "\n",
    "<br>\n",
    "<br>\n",
    "\n",
    "$$ \\lim_{h \\to 0} \\frac{f(x+h)g(x+h) - f(x)g(x+h)}{h} + \\lim_{h \\to 0} \\frac{f(x)g(x+h) - f(x)g(x)}{h} $$\n",
    "\n",
    "<br>\n",
    "<br>\n",
    "\n",
    "Factor out values\n",
    "\n",
    "<br>\n",
    "<br>\n",
    "\n",
    "$$ \\lim_{h \\to 0} g(x+h)\\frac{f(x+h)-f(x)}{h} +  \\lim_{h \\to 0} f(x) \\frac{g(x+h)-g(x)}{h}$$ \n",
    "\n",
    "<br>\n",
    "<br>\n",
    "\n",
    "Take the limit of each component\n",
    "\n",
    "<br>\n",
    "<br>\n",
    "\n",
    "$$ (\\lim_{h \\to 0} g(x+h)) (\\lim_{h \\to 0} \\frac{f(x+h)-f(x)}{h}) +  (\\lim_{h \\to 0} f(x)) (\\lim_{h \\to 0}\\frac{g(x+h)-g(x)}{h})$$ \n",
    "\n",
    "<br>\n",
    "<br>\n",
    "\n",
    "\n",
    "$$ g(x)f'(x) + f(x)g'(x) $$\n",
    "\n",
    "<br>\n",
    "<br>\n",
    "\n",
    "More commonly arranged as \n",
    "\n",
    "<br>\n",
    "<br>\n",
    "\n",
    "\n",
    "$$ f'(x)g(x) + f(x)g'(x) $$\n",
    "\n",
    "<br>\n",
    "<br>"
   ]
  },
  {
   "cell_type": "markdown",
   "metadata": {},
   "source": [
    "### Example"
   ]
  },
  {
   "cell_type": "markdown",
   "metadata": {},
   "source": [
    "<br>\n",
    "<br>\n",
    "\n",
    "$$ f(x) = 2x + 3 $$\n",
    "\n",
    "<br>\n",
    "<br>\n",
    "\n",
    "$$ g(x) = x^2 $$\n",
    "\n",
    "<br>\n",
    "<br>\n",
    "\n",
    "$$ F(x) = f(x)g(x) $$\n",
    "\n",
    "<br>\n",
    "<br>\n",
    "\n",
    "$$ F(x) = (2x + 3)(x^2) $$\n",
    "\n",
    "<br>\n",
    "<br>\n",
    "\n",
    "$$ F'(x) = (2)(x^2) + (2x + 3)2x $$\n",
    "\n",
    "<br>\n",
    "<br>\n",
    "\n",
    "$$ F'(x) = 2x^2 + 4x^2 + 6x $$\n",
    "\n",
    "<br>\n",
    "<br>\n",
    "\n",
    "$$ F'(x) = 6x^2 + 6x $$\n",
    "\n",
    "<br>\n",
    "<br>"
   ]
  },
  {
   "cell_type": "markdown",
   "metadata": {},
   "source": [
    "### Intuition"
   ]
  },
  {
   "cell_type": "markdown",
   "metadata": {},
   "source": [
    "Let's consider the following functions:\n",
    "\n",
    "<br>\n",
    "<br>\n",
    "\n",
    "$$ f(x) = \\sin(x) $$\n",
    "\n",
    "<br>\n",
    "<br>\n",
    "\n",
    "$$ g(x) = x^2 $$\n",
    "\n",
    "<br>\n",
    "<br>\n",
    "\n",
    "What is the resulting product of these two functions as we nudge x incrementally? As we've seen, when dealing with products, it's sometimes useful to think in terms of the **area** when multiplied by one another. "
   ]
  },
  {
   "cell_type": "code",
   "execution_count": 9,
   "metadata": {},
   "outputs": [],
   "source": [
    "def f(x):\n",
    "    return np.sin(x)\n",
    "\n",
    "def g(x):\n",
    "    return x**2"
   ]
  },
  {
   "cell_type": "code",
   "execution_count": 10,
   "metadata": {},
   "outputs": [
    {
     "data": {
      "text/html": [
       "\n",
       "\n",
       "\n",
       "\n",
       "\n",
       "\n",
       "  <div class=\"bk-root\" id=\"b7ab4983-49e0-46de-8b15-d5fec57e1537\"></div>\n"
      ]
     },
     "metadata": {},
     "output_type": "display_data"
    },
    {
     "data": {
      "application/javascript": [
       "(function(root) {\n",
       "  function embed_document(root) {\n",
       "    \n",
       "  var docs_json = {\"be3cf06d-3397-4723-92cc-26c96e7e954a\":{\"roots\":{\"references\":[{\"attributes\":{},\"id\":\"7c1e1433-f128-4044-8b3b-5d621d135df9\",\"type\":\"Selection\"},{\"attributes\":{},\"id\":\"7840f933-44e7-4c30-bc13-1502bd9a3831\",\"type\":\"Selection\"},{\"attributes\":{},\"id\":\"d5ad31dd-3624-4fa3-80df-a7897ae49157\",\"type\":\"Selection\"},{\"attributes\":{\"bottom\":{\"field\":\"bottom\"},\"fill_alpha\":{\"value\":0.1},\"fill_color\":{\"value\":\"#1f77b4\"},\"left\":{\"field\":\"left\"},\"line_alpha\":{\"value\":0.1},\"line_color\":{\"value\":\"#1f77b4\"},\"right\":{\"field\":\"right\"},\"top\":{\"field\":\"top\"}},\"id\":\"d853ec5d-cf5c-4a6d-9278-f261a8bc136a\",\"type\":\"Quad\"},{\"attributes\":{\"data_source\":{\"id\":\"ca7c43f1-5970-48d7-87ad-3c300cfa18eb\",\"type\":\"ColumnDataSource\"},\"glyph\":{\"id\":\"3c0cd779-7323-41b7-b72f-799a7b7c3427\",\"type\":\"Quad\"},\"hover_glyph\":null,\"muted_glyph\":null,\"nonselection_glyph\":{\"id\":\"d853ec5d-cf5c-4a6d-9278-f261a8bc136a\",\"type\":\"Quad\"},\"selection_glyph\":null,\"view\":{\"id\":\"5d4507b1-28d7-475d-b14a-754a5a00b389\",\"type\":\"CDSView\"}},\"id\":\"a3bda599-5482-4168-88ed-f68cb79be471\",\"type\":\"GlyphRenderer\"},{\"attributes\":{},\"id\":\"ad9c6fa5-0b3a-4514-9e56-9a622935ab9e\",\"type\":\"BasicTickFormatter\"},{\"attributes\":{\"source\":{\"id\":\"ca7c43f1-5970-48d7-87ad-3c300cfa18eb\",\"type\":\"ColumnDataSource\"}},\"id\":\"5d4507b1-28d7-475d-b14a-754a5a00b389\",\"type\":\"CDSView\"},{\"attributes\":{\"below\":[{\"id\":\"ca72875e-c377-40b5-8b6e-28000b9a54c9\",\"type\":\"LinearAxis\"}],\"left\":[{\"id\":\"3c6b0579-7f23-45c8-9ca3-c36e502af368\",\"type\":\"LinearAxis\"}],\"plot_height\":475,\"plot_width\":475,\"renderers\":[{\"id\":\"ca72875e-c377-40b5-8b6e-28000b9a54c9\",\"type\":\"LinearAxis\"},{\"id\":\"20fb4893-497c-41e1-8c7f-8ada5dc91cd3\",\"type\":\"Grid\"},{\"id\":\"3c6b0579-7f23-45c8-9ca3-c36e502af368\",\"type\":\"LinearAxis\"},{\"id\":\"6a38c3f0-35d1-4ae4-b8d7-a3c25d8480a6\",\"type\":\"Grid\"},{\"id\":\"39679631-fc3b-4344-8eff-5948a168ee2f\",\"type\":\"BoxAnnotation\"},{\"id\":\"57d6a8c5-552d-42d5-b8ae-f49110fab48a\",\"type\":\"Legend\"},{\"id\":\"57fc1900-84f1-42f7-a3c9-e9442ed172e0\",\"type\":\"GlyphRenderer\"},{\"id\":\"25e348b0-0dbf-462c-9af0-2b3ac09a357a\",\"type\":\"GlyphRenderer\"}],\"title\":{\"id\":\"e762f8e1-0b79-4a66-b094-7cc8428cde0a\",\"type\":\"Title\"},\"toolbar\":{\"id\":\"c27b1d81-5e83-4632-9be6-426041a66fb6\",\"type\":\"Toolbar\"},\"toolbar_location\":\"below\",\"x_range\":{\"id\":\"68bd4482-7a40-4908-9ac1-3a048431b6ea\",\"type\":\"DataRange1d\"},\"x_scale\":{\"id\":\"80dcb86a-775b-4c07-97ec-3f61bbf73573\",\"type\":\"LinearScale\"},\"y_range\":{\"id\":\"24be4fe5-1ae8-41cd-9033-6a647171f706\",\"type\":\"DataRange1d\"},\"y_scale\":{\"id\":\"8f1f8af8-326f-4e17-92d0-7c18aabe99bf\",\"type\":\"LinearScale\"}},\"id\":\"bd1ed235-58ad-4c0b-8b71-41453208754f\",\"subtype\":\"Figure\",\"type\":\"Plot\"},{\"attributes\":{},\"id\":\"3a4ca58f-b6e3-4c37-8758-db8686331e51\",\"type\":\"UnionRenderers\"},{\"attributes\":{\"callback\":null,\"data\":{\"bottom\":[0],\"left\":[0],\"right\":[1],\"top\":[0.8414709848078965]},\"selected\":{\"id\":\"53d73ece-5f1f-4f33-af59-b5a768251b2a\",\"type\":\"Selection\"},\"selection_policy\":{\"id\":\"f94ae4bf-b11e-4832-b3e1-3a623d043f51\",\"type\":\"UnionRenderers\"}},\"id\":\"67811b6b-eb0d-4c43-8796-3e3b3628adb5\",\"type\":\"ColumnDataSource\"},{\"attributes\":{},\"id\":\"c5498882-129f-404e-9f2d-feb7a54834ab\",\"type\":\"UnionRenderers\"},{\"attributes\":{\"source\":{\"id\":\"67811b6b-eb0d-4c43-8796-3e3b3628adb5\",\"type\":\"ColumnDataSource\"}},\"id\":\"da1525db-7fd0-4763-88b9-d5ddb147db3e\",\"type\":\"CDSView\"},{\"attributes\":{\"label\":{\"value\":\"sin(x) (x+h)^2\"},\"renderers\":[{\"id\":\"a3bda599-5482-4168-88ed-f68cb79be471\",\"type\":\"GlyphRenderer\"}]},\"id\":\"196eb265-01dd-4b85-8512-49b710bd90f6\",\"type\":\"LegendItem\"},{\"attributes\":{\"plot\":null,\"text\":\"\"},\"id\":\"e762f8e1-0b79-4a66-b094-7cc8428cde0a\",\"type\":\"Title\"},{\"attributes\":{\"plot\":{\"id\":\"bd1ed235-58ad-4c0b-8b71-41453208754f\",\"subtype\":\"Figure\",\"type\":\"Plot\"},\"ticker\":{\"id\":\"41f2ef63-99b9-4a36-9228-94d3d941053c\",\"type\":\"BasicTicker\"}},\"id\":\"20fb4893-497c-41e1-8c7f-8ada5dc91cd3\",\"type\":\"Grid\"},{\"attributes\":{\"bottom\":{\"field\":\"bottom\"},\"fill_alpha\":{\"value\":0.2},\"fill_color\":{\"value\":\"gold\"},\"left\":{\"field\":\"left\"},\"line_alpha\":{\"value\":0.2},\"line_color\":{\"value\":\"gold\"},\"right\":{\"field\":\"right\"},\"top\":{\"field\":\"top\"}},\"id\":\"872f3349-30ad-4354-97ef-ef06a763bef5\",\"type\":\"Quad\"},{\"attributes\":{},\"id\":\"8f1f8af8-326f-4e17-92d0-7c18aabe99bf\",\"type\":\"LinearScale\"},{\"attributes\":{\"bottom\":{\"field\":\"bottom\"},\"fill_alpha\":{\"value\":0.1},\"fill_color\":{\"value\":\"#1f77b4\"},\"left\":{\"field\":\"left\"},\"line_alpha\":{\"value\":0.1},\"line_color\":{\"value\":\"#1f77b4\"},\"right\":{\"field\":\"right\"},\"top\":{\"field\":\"top\"}},\"id\":\"319c057f-ce5f-4f86-b09b-2cdfa6527d87\",\"type\":\"Quad\"},{\"attributes\":{\"data_source\":{\"id\":\"e6d6d641-21a1-4ac3-ac6a-1bf07ed38cea\",\"type\":\"ColumnDataSource\"},\"glyph\":{\"id\":\"872f3349-30ad-4354-97ef-ef06a763bef5\",\"type\":\"Quad\"},\"hover_glyph\":null,\"muted_glyph\":null,\"nonselection_glyph\":{\"id\":\"319c057f-ce5f-4f86-b09b-2cdfa6527d87\",\"type\":\"Quad\"},\"selection_glyph\":null,\"view\":{\"id\":\"d6847284-92c7-41ad-885b-dc9b78419110\",\"type\":\"CDSView\"}},\"id\":\"b96763cc-6cbc-41c9-bb52-478ed17b7b93\",\"type\":\"GlyphRenderer\"},{\"attributes\":{\"active_drag\":\"auto\",\"active_inspect\":\"auto\",\"active_multi\":null,\"active_scroll\":\"auto\",\"active_tap\":\"auto\",\"tools\":[{\"id\":\"7c8c84c4-ee68-43e0-bd27-a0e4832104a0\",\"type\":\"PanTool\"},{\"id\":\"bd9a24b5-47c5-402c-be2c-ebaeac91dc75\",\"type\":\"WheelZoomTool\"},{\"id\":\"a6748dfe-dc4d-45c1-9c73-88737a3730c3\",\"type\":\"BoxZoomTool\"},{\"id\":\"14dce1f1-39fb-4971-b6a9-69936c13d655\",\"type\":\"SaveTool\"},{\"id\":\"d1e31f75-f2d1-417d-a0e7-d818f8dbcf7f\",\"type\":\"ResetTool\"},{\"id\":\"5baea363-aa6e-4d03-8e53-574071e33124\",\"type\":\"HelpTool\"}]},\"id\":\"c27b1d81-5e83-4632-9be6-426041a66fb6\",\"type\":\"Toolbar\"},{\"attributes\":{\"source\":{\"id\":\"e6d6d641-21a1-4ac3-ac6a-1bf07ed38cea\",\"type\":\"ColumnDataSource\"}},\"id\":\"d6847284-92c7-41ad-885b-dc9b78419110\",\"type\":\"CDSView\"},{\"attributes\":{\"children\":[{\"id\":\"bd1ed235-58ad-4c0b-8b71-41453208754f\",\"subtype\":\"Figure\",\"type\":\"Plot\"},{\"id\":\"94d5c101-f4bd-4b4e-a35d-426f8238b9e3\",\"subtype\":\"Figure\",\"type\":\"Plot\"}]},\"id\":\"0276336f-6eec-4c8f-a0cc-3c8adac9f1f7\",\"type\":\"Row\"},{\"attributes\":{\"bottom\":{\"field\":\"bottom\"},\"fill_alpha\":{\"value\":0.1},\"fill_color\":{\"value\":\"#1f77b4\"},\"left\":{\"field\":\"left\"},\"line_alpha\":{\"value\":0.1},\"line_color\":{\"value\":\"#1f77b4\"},\"right\":{\"field\":\"right\"},\"top\":{\"field\":\"top\"}},\"id\":\"09756d7b-16d0-4449-bfef-0ec67a486a5d\",\"type\":\"Quad\"},{\"attributes\":{\"axis_label\":\"x^2\",\"formatter\":{\"id\":\"0ce98820-b228-4564-8489-b63dac1a2f9c\",\"type\":\"BasicTickFormatter\"},\"plot\":{\"id\":\"bd1ed235-58ad-4c0b-8b71-41453208754f\",\"subtype\":\"Figure\",\"type\":\"Plot\"},\"ticker\":{\"id\":\"41f2ef63-99b9-4a36-9228-94d3d941053c\",\"type\":\"BasicTicker\"}},\"id\":\"ca72875e-c377-40b5-8b6e-28000b9a54c9\",\"type\":\"LinearAxis\"},{\"attributes\":{},\"id\":\"41f2ef63-99b9-4a36-9228-94d3d941053c\",\"type\":\"BasicTicker\"},{\"attributes\":{\"label\":{\"value\":\"(x+h)^2 (sin(x+h))\"},\"renderers\":[{\"id\":\"b96763cc-6cbc-41c9-bb52-478ed17b7b93\",\"type\":\"GlyphRenderer\"}]},\"id\":\"d02774e3-53b0-4475-8f61-a7d9b18217ad\",\"type\":\"LegendItem\"},{\"attributes\":{},\"id\":\"6aac2c22-d9bc-420d-9b04-95f2c9c5bc7d\",\"type\":\"Selection\"},{\"attributes\":{},\"id\":\"25cf1332-2d4e-401a-aee6-e0dc787c6982\",\"type\":\"BasicTicker\"},{\"attributes\":{},\"id\":\"a1e5b28d-7d6a-450f-87d6-7d0f8408fa04\",\"type\":\"UnionRenderers\"},{\"attributes\":{\"dimension\":1,\"plot\":{\"id\":\"bd1ed235-58ad-4c0b-8b71-41453208754f\",\"subtype\":\"Figure\",\"type\":\"Plot\"},\"ticker\":{\"id\":\"25cf1332-2d4e-401a-aee6-e0dc787c6982\",\"type\":\"BasicTicker\"}},\"id\":\"6a38c3f0-35d1-4ae4-b8d7-a3c25d8480a6\",\"type\":\"Grid\"},{\"attributes\":{\"data_source\":{\"id\":\"67811b6b-eb0d-4c43-8796-3e3b3628adb5\",\"type\":\"ColumnDataSource\"},\"glyph\":{\"id\":\"efa8b7d2-bec8-4f6e-87ef-7f3ff6f7ab69\",\"type\":\"Quad\"},\"hover_glyph\":null,\"muted_glyph\":null,\"nonselection_glyph\":{\"id\":\"09756d7b-16d0-4449-bfef-0ec67a486a5d\",\"type\":\"Quad\"},\"selection_glyph\":null,\"view\":{\"id\":\"da1525db-7fd0-4763-88b9-d5ddb147db3e\",\"type\":\"CDSView\"}},\"id\":\"57fc1900-84f1-42f7-a3c9-e9442ed172e0\",\"type\":\"GlyphRenderer\"},{\"attributes\":{},\"id\":\"c965ca54-8008-4318-86b4-2331620e9d3f\",\"type\":\"UnionRenderers\"},{\"attributes\":{\"bottom\":{\"field\":\"bottom\"},\"fill_color\":{\"value\":\"steelblue\"},\"left\":{\"field\":\"left\"},\"line_color\":{\"value\":\"steelblue\"},\"right\":{\"field\":\"right\"},\"top\":{\"field\":\"top\"}},\"id\":\"efa8b7d2-bec8-4f6e-87ef-7f3ff6f7ab69\",\"type\":\"Quad\"},{\"attributes\":{\"callback\":null,\"data\":{\"bottom\":[0],\"left\":[0],\"right\":[1.2100000000000002],\"top\":[0.8912073600614354]},\"selected\":{\"id\":\"7c1e1433-f128-4044-8b3b-5d621d135df9\",\"type\":\"Selection\"},\"selection_policy\":{\"id\":\"a1e5b28d-7d6a-450f-87d6-7d0f8408fa04\",\"type\":\"UnionRenderers\"}},\"id\":\"91d81355-c618-4f0d-a287-a4ae9fb36a13\",\"type\":\"ColumnDataSource\"},{\"attributes\":{\"items\":[{\"id\":\"fefdf463-b9e1-4554-9cdd-018161377038\",\"type\":\"LegendItem\"},{\"id\":\"65620b97-8b53-4bef-bd32-219e738e7d8b\",\"type\":\"LegendItem\"}],\"location\":\"bottom_left\",\"plot\":{\"id\":\"bd1ed235-58ad-4c0b-8b71-41453208754f\",\"subtype\":\"Figure\",\"type\":\"Plot\"}},\"id\":\"57d6a8c5-552d-42d5-b8ae-f49110fab48a\",\"type\":\"Legend\"},{\"attributes\":{},\"id\":\"7c8c84c4-ee68-43e0-bd27-a0e4832104a0\",\"type\":\"PanTool\"},{\"attributes\":{},\"id\":\"0ce98820-b228-4564-8489-b63dac1a2f9c\",\"type\":\"BasicTickFormatter\"},{\"attributes\":{},\"id\":\"bd9a24b5-47c5-402c-be2c-ebaeac91dc75\",\"type\":\"WheelZoomTool\"},{\"attributes\":{\"callback\":null},\"id\":\"24be4fe5-1ae8-41cd-9033-6a647171f706\",\"type\":\"DataRange1d\"},{\"attributes\":{\"overlay\":{\"id\":\"39679631-fc3b-4344-8eff-5948a168ee2f\",\"type\":\"BoxAnnotation\"}},\"id\":\"a6748dfe-dc4d-45c1-9c73-88737a3730c3\",\"type\":\"BoxZoomTool\"},{\"attributes\":{\"axis_label\":\"sin(x)\",\"formatter\":{\"id\":\"ad9c6fa5-0b3a-4514-9e56-9a622935ab9e\",\"type\":\"BasicTickFormatter\"},\"plot\":{\"id\":\"bd1ed235-58ad-4c0b-8b71-41453208754f\",\"subtype\":\"Figure\",\"type\":\"Plot\"},\"ticker\":{\"id\":\"25cf1332-2d4e-401a-aee6-e0dc787c6982\",\"type\":\"BasicTicker\"}},\"id\":\"3c6b0579-7f23-45c8-9ca3-c36e502af368\",\"type\":\"LinearAxis\"},{\"attributes\":{},\"id\":\"14dce1f1-39fb-4971-b6a9-69936c13d655\",\"type\":\"SaveTool\"},{\"attributes\":{},\"id\":\"d1e31f75-f2d1-417d-a0e7-d818f8dbcf7f\",\"type\":\"ResetTool\"},{\"attributes\":{},\"id\":\"5baea363-aa6e-4d03-8e53-574071e33124\",\"type\":\"HelpTool\"},{\"attributes\":{},\"id\":\"80dcb86a-775b-4c07-97ec-3f61bbf73573\",\"type\":\"LinearScale\"},{\"attributes\":{\"bottom_units\":\"screen\",\"fill_alpha\":{\"value\":0.5},\"fill_color\":{\"value\":\"lightgrey\"},\"left_units\":\"screen\",\"level\":\"overlay\",\"line_alpha\":{\"value\":1.0},\"line_color\":{\"value\":\"black\"},\"line_dash\":[4,4],\"line_width\":{\"value\":2},\"plot\":null,\"render_mode\":\"css\",\"right_units\":\"screen\",\"top_units\":\"screen\"},\"id\":\"39679631-fc3b-4344-8eff-5948a168ee2f\",\"type\":\"BoxAnnotation\"},{\"attributes\":{},\"id\":\"18fd8823-d894-4f45-921d-4c4be923ef9f\",\"type\":\"BasicTickFormatter\"},{\"attributes\":{\"label\":{\"value\":\"Initial Area\"},\"renderers\":[{\"id\":\"57fc1900-84f1-42f7-a3c9-e9442ed172e0\",\"type\":\"GlyphRenderer\"}]},\"id\":\"fefdf463-b9e1-4554-9cdd-018161377038\",\"type\":\"LegendItem\"},{\"attributes\":{},\"id\":\"53d73ece-5f1f-4f33-af59-b5a768251b2a\",\"type\":\"Selection\"},{\"attributes\":{\"bottom\":{\"field\":\"bottom\"},\"fill_alpha\":{\"value\":0.2},\"fill_color\":{\"value\":\"gold\"},\"left\":{\"field\":\"left\"},\"line_alpha\":{\"value\":0.2},\"line_color\":{\"value\":\"gold\"},\"right\":{\"field\":\"right\"},\"top\":{\"field\":\"top\"}},\"id\":\"30b978b8-0102-4035-8024-ec074ec442b8\",\"type\":\"Quad\"},{\"attributes\":{\"bottom\":{\"field\":\"bottom\"},\"fill_alpha\":{\"value\":0.1},\"fill_color\":{\"value\":\"#1f77b4\"},\"left\":{\"field\":\"left\"},\"line_alpha\":{\"value\":0.1},\"line_color\":{\"value\":\"#1f77b4\"},\"right\":{\"field\":\"right\"},\"top\":{\"field\":\"top\"}},\"id\":\"f478c9b5-ba79-4690-97a7-74125c8c8332\",\"type\":\"Quad\"},{\"attributes\":{\"data_source\":{\"id\":\"91d81355-c618-4f0d-a287-a4ae9fb36a13\",\"type\":\"ColumnDataSource\"},\"glyph\":{\"id\":\"30b978b8-0102-4035-8024-ec074ec442b8\",\"type\":\"Quad\"},\"hover_glyph\":null,\"muted_glyph\":null,\"nonselection_glyph\":{\"id\":\"f478c9b5-ba79-4690-97a7-74125c8c8332\",\"type\":\"Quad\"},\"selection_glyph\":null,\"view\":{\"id\":\"1f72ecbc-75b5-46ae-b882-71e4e694123b\",\"type\":\"CDSView\"}},\"id\":\"25e348b0-0dbf-462c-9af0-2b3ac09a357a\",\"type\":\"GlyphRenderer\"},{\"attributes\":{\"source\":{\"id\":\"91d81355-c618-4f0d-a287-a4ae9fb36a13\",\"type\":\"ColumnDataSource\"}},\"id\":\"1f72ecbc-75b5-46ae-b882-71e4e694123b\",\"type\":\"CDSView\"},{\"attributes\":{},\"id\":\"f94ae4bf-b11e-4832-b3e1-3a623d043f51\",\"type\":\"UnionRenderers\"},{\"attributes\":{\"callback\":null,\"data\":{\"bottom\":[0.8414709848078965],\"left\":[0],\"right\":[1],\"top\":[0.8912073600614354]},\"selected\":{\"id\":\"d5ad31dd-3624-4fa3-80df-a7897ae49157\",\"type\":\"Selection\"},\"selection_policy\":{\"id\":\"3a4ca58f-b6e3-4c37-8758-db8686331e51\",\"type\":\"UnionRenderers\"}},\"id\":\"cd70ac84-6edf-4dd6-80e3-a79cc404da59\",\"type\":\"ColumnDataSource\"},{\"attributes\":{\"label\":{\"value\":\"Initial Area + some increase (h)\"},\"renderers\":[{\"id\":\"25e348b0-0dbf-462c-9af0-2b3ac09a357a\",\"type\":\"GlyphRenderer\"}]},\"id\":\"65620b97-8b53-4bef-bd32-219e738e7d8b\",\"type\":\"LegendItem\"},{\"attributes\":{\"below\":[{\"id\":\"b5a68a11-426e-406a-8150-2ef81a9637dd\",\"type\":\"LinearAxis\"}],\"left\":[{\"id\":\"fc9432fb-2d4a-4606-b1a0-1cde10ed412a\",\"type\":\"LinearAxis\"}],\"plot_height\":475,\"plot_width\":475,\"renderers\":[{\"id\":\"b5a68a11-426e-406a-8150-2ef81a9637dd\",\"type\":\"LinearAxis\"},{\"id\":\"ca2d0ad6-6efd-46cb-a315-4d5e38e64871\",\"type\":\"Grid\"},{\"id\":\"fc9432fb-2d4a-4606-b1a0-1cde10ed412a\",\"type\":\"LinearAxis\"},{\"id\":\"f70b10e8-d673-447e-b18d-25662d6dd6f1\",\"type\":\"Grid\"},{\"id\":\"8acd5d50-9f3f-4d19-aa2f-112a4752af42\",\"type\":\"BoxAnnotation\"},{\"id\":\"8f74ae1b-e27b-4570-ae2d-ce98384a4662\",\"type\":\"Legend\"},{\"id\":\"2a123b18-7af0-4d0b-bab5-206081ea3f6d\",\"type\":\"GlyphRenderer\"},{\"id\":\"a3bda599-5482-4168-88ed-f68cb79be471\",\"type\":\"GlyphRenderer\"},{\"id\":\"b96763cc-6cbc-41c9-bb52-478ed17b7b93\",\"type\":\"GlyphRenderer\"}],\"title\":{\"id\":\"e733512c-8578-4bb9-9f4e-fa9efa09313c\",\"type\":\"Title\"},\"toolbar\":{\"id\":\"58f48406-1fad-478a-95e9-fc3e2511b543\",\"type\":\"Toolbar\"},\"toolbar_location\":\"below\",\"x_range\":{\"id\":\"a893c66d-dfa9-4a55-bbeb-3cd3023f6f19\",\"type\":\"DataRange1d\"},\"x_scale\":{\"id\":\"08325831-7e4a-43f3-a5d4-885e987b793d\",\"type\":\"LinearScale\"},\"y_range\":{\"id\":\"d751a7d5-27f9-4903-a4cd-c0214bbccd3a\",\"type\":\"DataRange1d\"},\"y_scale\":{\"id\":\"66bf0691-f9fc-4315-924e-472440342515\",\"type\":\"LinearScale\"}},\"id\":\"94d5c101-f4bd-4b4e-a35d-426f8238b9e3\",\"subtype\":\"Figure\",\"type\":\"Plot\"},{\"attributes\":{\"callback\":null},\"id\":\"68bd4482-7a40-4908-9ac1-3a048431b6ea\",\"type\":\"DataRange1d\"},{\"attributes\":{\"source\":{\"id\":\"cd70ac84-6edf-4dd6-80e3-a79cc404da59\",\"type\":\"ColumnDataSource\"}},\"id\":\"cf07a99b-6338-42d1-8a5f-f39d74697eee\",\"type\":\"CDSView\"},{\"attributes\":{\"plot\":null,\"text\":\"\"},\"id\":\"e733512c-8578-4bb9-9f4e-fa9efa09313c\",\"type\":\"Title\"},{\"attributes\":{\"callback\":null},\"id\":\"a893c66d-dfa9-4a55-bbeb-3cd3023f6f19\",\"type\":\"DataRange1d\"},{\"attributes\":{\"active_drag\":\"auto\",\"active_inspect\":\"auto\",\"active_multi\":null,\"active_scroll\":\"auto\",\"active_tap\":\"auto\",\"tools\":[{\"id\":\"88ecda0f-fa8e-4278-b7b0-c9322cb0aef3\",\"type\":\"PanTool\"},{\"id\":\"1c7f33dd-eae3-465e-809b-5a07df82d623\",\"type\":\"WheelZoomTool\"},{\"id\":\"5a469dfc-e37c-4cea-aba1-7f2f05c68a92\",\"type\":\"BoxZoomTool\"},{\"id\":\"e459266a-9dae-4b9d-bbb9-79fea709f6b1\",\"type\":\"SaveTool\"},{\"id\":\"31a7a57e-a510-424a-97cf-a24197b41c51\",\"type\":\"ResetTool\"},{\"id\":\"18414eed-04f1-46d4-b9a2-23ad4e513582\",\"type\":\"HelpTool\"}]},\"id\":\"58f48406-1fad-478a-95e9-fc3e2511b543\",\"type\":\"Toolbar\"},{\"attributes\":{\"bottom\":{\"field\":\"bottom\"},\"fill_alpha\":{\"value\":0.1},\"fill_color\":{\"value\":\"#1f77b4\"},\"left\":{\"field\":\"left\"},\"line_alpha\":{\"value\":0.1},\"line_color\":{\"value\":\"#1f77b4\"},\"right\":{\"field\":\"right\"},\"top\":{\"field\":\"top\"}},\"id\":\"20a77f6f-554b-4f39-baa2-2dcddd7eb71a\",\"type\":\"Quad\"},{\"attributes\":{},\"id\":\"08325831-7e4a-43f3-a5d4-885e987b793d\",\"type\":\"LinearScale\"},{\"attributes\":{\"callback\":null},\"id\":\"d751a7d5-27f9-4903-a4cd-c0214bbccd3a\",\"type\":\"DataRange1d\"},{\"attributes\":{},\"id\":\"66bf0691-f9fc-4315-924e-472440342515\",\"type\":\"LinearScale\"},{\"attributes\":{\"plot\":{\"id\":\"94d5c101-f4bd-4b4e-a35d-426f8238b9e3\",\"subtype\":\"Figure\",\"type\":\"Plot\"},\"ticker\":{\"id\":\"0c000737-64c9-4dbe-b154-11f8a6b9d6eb\",\"type\":\"BasicTicker\"}},\"id\":\"ca2d0ad6-6efd-46cb-a315-4d5e38e64871\",\"type\":\"Grid\"},{\"attributes\":{\"axis_label\":\"x^2\",\"formatter\":{\"id\":\"1255f790-2721-4bc4-978f-1de3a909a123\",\"type\":\"BasicTickFormatter\"},\"plot\":{\"id\":\"94d5c101-f4bd-4b4e-a35d-426f8238b9e3\",\"subtype\":\"Figure\",\"type\":\"Plot\"},\"ticker\":{\"id\":\"0c000737-64c9-4dbe-b154-11f8a6b9d6eb\",\"type\":\"BasicTicker\"}},\"id\":\"b5a68a11-426e-406a-8150-2ef81a9637dd\",\"type\":\"LinearAxis\"},{\"attributes\":{},\"id\":\"0c000737-64c9-4dbe-b154-11f8a6b9d6eb\",\"type\":\"BasicTicker\"},{\"attributes\":{\"axis_label\":\"sin(x)\",\"formatter\":{\"id\":\"18fd8823-d894-4f45-921d-4c4be923ef9f\",\"type\":\"BasicTickFormatter\"},\"plot\":{\"id\":\"94d5c101-f4bd-4b4e-a35d-426f8238b9e3\",\"subtype\":\"Figure\",\"type\":\"Plot\"},\"ticker\":{\"id\":\"fcab3163-f8bc-491f-abf4-81318f7d4d72\",\"type\":\"BasicTicker\"}},\"id\":\"fc9432fb-2d4a-4606-b1a0-1cde10ed412a\",\"type\":\"LinearAxis\"},{\"attributes\":{},\"id\":\"fcab3163-f8bc-491f-abf4-81318f7d4d72\",\"type\":\"BasicTicker\"},{\"attributes\":{\"dimension\":1,\"plot\":{\"id\":\"94d5c101-f4bd-4b4e-a35d-426f8238b9e3\",\"subtype\":\"Figure\",\"type\":\"Plot\"},\"ticker\":{\"id\":\"fcab3163-f8bc-491f-abf4-81318f7d4d72\",\"type\":\"BasicTicker\"}},\"id\":\"f70b10e8-d673-447e-b18d-25662d6dd6f1\",\"type\":\"Grid\"},{\"attributes\":{\"data_source\":{\"id\":\"cd70ac84-6edf-4dd6-80e3-a79cc404da59\",\"type\":\"ColumnDataSource\"},\"glyph\":{\"id\":\"e20c52e1-1dde-4c03-9bb9-8f9013624199\",\"type\":\"Quad\"},\"hover_glyph\":null,\"muted_glyph\":null,\"nonselection_glyph\":{\"id\":\"20a77f6f-554b-4f39-baa2-2dcddd7eb71a\",\"type\":\"Quad\"},\"selection_glyph\":null,\"view\":{\"id\":\"cf07a99b-6338-42d1-8a5f-f39d74697eee\",\"type\":\"CDSView\"}},\"id\":\"2a123b18-7af0-4d0b-bab5-206081ea3f6d\",\"type\":\"GlyphRenderer\"},{\"attributes\":{\"bottom\":{\"field\":\"bottom\"},\"fill_alpha\":{\"value\":0.2},\"fill_color\":{\"value\":\"red\"},\"left\":{\"field\":\"left\"},\"line_alpha\":{\"value\":0.2},\"line_color\":{\"value\":\"red\"},\"right\":{\"field\":\"right\"},\"top\":{\"field\":\"top\"}},\"id\":\"e20c52e1-1dde-4c03-9bb9-8f9013624199\",\"type\":\"Quad\"},{\"attributes\":{\"callback\":null,\"data\":{\"bottom\":[0],\"left\":[1],\"right\":[1.2100000000000002],\"top\":[0.8414709848078965]},\"selected\":{\"id\":\"7840f933-44e7-4c30-bc13-1502bd9a3831\",\"type\":\"Selection\"},\"selection_policy\":{\"id\":\"c5498882-129f-404e-9f2d-feb7a54834ab\",\"type\":\"UnionRenderers\"}},\"id\":\"ca7c43f1-5970-48d7-87ad-3c300cfa18eb\",\"type\":\"ColumnDataSource\"},{\"attributes\":{\"items\":[{\"id\":\"bf227618-0a92-4852-b29d-be74cff34282\",\"type\":\"LegendItem\"},{\"id\":\"196eb265-01dd-4b85-8512-49b710bd90f6\",\"type\":\"LegendItem\"},{\"id\":\"d02774e3-53b0-4475-8f61-a7d9b18217ad\",\"type\":\"LegendItem\"}],\"location\":\"bottom_left\",\"plot\":{\"id\":\"94d5c101-f4bd-4b4e-a35d-426f8238b9e3\",\"subtype\":\"Figure\",\"type\":\"Plot\"}},\"id\":\"8f74ae1b-e27b-4570-ae2d-ce98384a4662\",\"type\":\"Legend\"},{\"attributes\":{},\"id\":\"88ecda0f-fa8e-4278-b7b0-c9322cb0aef3\",\"type\":\"PanTool\"},{\"attributes\":{},\"id\":\"1255f790-2721-4bc4-978f-1de3a909a123\",\"type\":\"BasicTickFormatter\"},{\"attributes\":{},\"id\":\"1c7f33dd-eae3-465e-809b-5a07df82d623\",\"type\":\"WheelZoomTool\"},{\"attributes\":{\"overlay\":{\"id\":\"8acd5d50-9f3f-4d19-aa2f-112a4752af42\",\"type\":\"BoxAnnotation\"}},\"id\":\"5a469dfc-e37c-4cea-aba1-7f2f05c68a92\",\"type\":\"BoxZoomTool\"},{\"attributes\":{},\"id\":\"e459266a-9dae-4b9d-bbb9-79fea709f6b1\",\"type\":\"SaveTool\"},{\"attributes\":{},\"id\":\"31a7a57e-a510-424a-97cf-a24197b41c51\",\"type\":\"ResetTool\"},{\"attributes\":{},\"id\":\"18414eed-04f1-46d4-b9a2-23ad4e513582\",\"type\":\"HelpTool\"},{\"attributes\":{\"bottom_units\":\"screen\",\"fill_alpha\":{\"value\":0.5},\"fill_color\":{\"value\":\"lightgrey\"},\"left_units\":\"screen\",\"level\":\"overlay\",\"line_alpha\":{\"value\":1.0},\"line_color\":{\"value\":\"black\"},\"line_dash\":[4,4],\"line_width\":{\"value\":2},\"plot\":null,\"render_mode\":\"css\",\"right_units\":\"screen\",\"top_units\":\"screen\"},\"id\":\"8acd5d50-9f3f-4d19-aa2f-112a4752af42\",\"type\":\"BoxAnnotation\"},{\"attributes\":{\"callback\":null,\"data\":{\"bottom\":[0.8414709848078965],\"left\":[1],\"right\":[1.2100000000000002],\"top\":[0.8912073600614354]},\"selected\":{\"id\":\"6aac2c22-d9bc-420d-9b04-95f2c9c5bc7d\",\"type\":\"Selection\"},\"selection_policy\":{\"id\":\"c965ca54-8008-4318-86b4-2331620e9d3f\",\"type\":\"UnionRenderers\"}},\"id\":\"e6d6d641-21a1-4ac3-ac6a-1bf07ed38cea\",\"type\":\"ColumnDataSource\"},{\"attributes\":{\"label\":{\"value\":\"x^2 sin(x+h)\"},\"renderers\":[{\"id\":\"2a123b18-7af0-4d0b-bab5-206081ea3f6d\",\"type\":\"GlyphRenderer\"}]},\"id\":\"bf227618-0a92-4852-b29d-be74cff34282\",\"type\":\"LegendItem\"},{\"attributes\":{\"bottom\":{\"field\":\"bottom\"},\"fill_alpha\":{\"value\":0.2},\"fill_color\":{\"value\":\"purple\"},\"left\":{\"field\":\"left\"},\"line_alpha\":{\"value\":0.2},\"line_color\":{\"value\":\"purple\"},\"right\":{\"field\":\"right\"},\"top\":{\"field\":\"top\"}},\"id\":\"3c0cd779-7323-41b7-b72f-799a7b7c3427\",\"type\":\"Quad\"}],\"root_ids\":[\"0276336f-6eec-4c8f-a0cc-3c8adac9f1f7\"]},\"title\":\"Bokeh Application\",\"version\":\"0.13.0\"}};\n",
       "  var render_items = [{\"docid\":\"be3cf06d-3397-4723-92cc-26c96e7e954a\",\"roots\":{\"0276336f-6eec-4c8f-a0cc-3c8adac9f1f7\":\"b7ab4983-49e0-46de-8b15-d5fec57e1537\"}}];\n",
       "  root.Bokeh.embed.embed_items_notebook(docs_json, render_items);\n",
       "\n",
       "  }\n",
       "  if (root.Bokeh !== undefined) {\n",
       "    embed_document(root);\n",
       "  } else {\n",
       "    var attempts = 0;\n",
       "    var timer = setInterval(function(root) {\n",
       "      if (root.Bokeh !== undefined) {\n",
       "        embed_document(root);\n",
       "        clearInterval(timer);\n",
       "      }\n",
       "      attempts++;\n",
       "      if (attempts > 100) {\n",
       "        console.log(\"Bokeh: ERROR: Unable to run BokehJS code because BokehJS library is missing\")\n",
       "        clearInterval(timer);\n",
       "      }\n",
       "    }, 10, root)\n",
       "  }\n",
       "})(window);"
      ],
      "application/vnd.bokehjs_exec.v0+json": ""
     },
     "metadata": {
      "application/vnd.bokehjs_exec.v0+json": {
       "id": "0276336f-6eec-4c8f-a0cc-3c8adac9f1f7"
      }
     },
     "output_type": "display_data"
    }
   ],
   "source": [
    "# Parameters\n",
    "base = 1 # Base \n",
    "height = 1 # Height\n",
    "area = base*height\n",
    "h = .1 # our slight change\n",
    "\n",
    "# PLOT 1\n",
    "\n",
    "# plot our square\n",
    "p1 = plot(475,475,x='x^2',y='sin(x)')\n",
    "\n",
    "p1.quad(top=[f(height)], bottom=[0], left=[0],\n",
    "       right=[g(base)], color=\"steelblue\",\n",
    "       legend='Initial Area')\n",
    "\n",
    "# Plot our square with a slight nudge\n",
    "p1.quad(top=[f(height + h)], bottom=[0], left=[0],\n",
    "       right=[g(base + h)], color=\"gold\",alpha=.2,\n",
    "       legend='Initial Area + some increase (h)')\n",
    "p1.legend.location = 'bottom_left'\n",
    "\n",
    "# PLOT 2\n",
    "# Lets color the areas being changes\n",
    "p2 = plot(475,475,x='x^2',y='sin(x)')\n",
    "\n",
    "# p2.quad(top=[f(height)], bottom=[0], left=[0],\n",
    "#        right=[g(base)], color=\"steelblue\",alpha=.05,\n",
    "#        legend=\"x^2 sin(x)\")\n",
    "\n",
    "# Change in the height as we adjust x. \n",
    "p2.quad(top=[f(height + h)], bottom=[f(height)], left=[0],\n",
    "       right=[g(base)], color=\"red\",alpha=.2,\n",
    "      legend=\"x^2 sin(x+h)\")\n",
    "\n",
    "# Change in the base as we adjust x.\n",
    "p2.quad(top=[f(height)], bottom=[0], left=[g(base)],\n",
    "       right=[g(base + h)], color=\"purple\",alpha=.2,\n",
    "      legend=\"sin(x) (x+h)^2\")\n",
    "\n",
    "# Change in the base as we adjust x.\n",
    "p2.quad(top=[f(height+h)], bottom=[f(height)], left=[g(base)],\n",
    "       right=[g(base+h)], color=\"gold\",alpha=.2,\n",
    "      legend=\"(x+h)^2 (sin(x+h))\")\n",
    "p2.legend.location = 'bottom_left'\n",
    "show(row(p1,p2))"
   ]
  },
  {
   "cell_type": "markdown",
   "metadata": {},
   "source": [
    "Let's gather these pieces\n",
    "\n",
    "<br>\n",
    "<br>\n",
    "\n",
    "$$ \\sin(x+h) x^2  + \\sin(x) (x+h)^2 + \\sin(x+h)(x+h)^2 $$ \n",
    "\n",
    "<br>\n",
    "<br>\n",
    "\n",
    "We can essentially ignore $\\sin(x+h)(x+h)^2$ as that area will shrink to a trivially small size as $h \\to 0 $\n",
    "\n",
    "<br>\n",
    "<br>\n",
    "\n",
    "This leaves us with \n",
    "\n",
    "<br>\n",
    "<br>\n",
    "\n",
    "$$ \\sin(x+h) x^2  + \\sin(x) (x+h)^2 $$ \n",
    "\n",
    "<br>\n",
    "<br>\n",
    "\n",
    "$$ \\cos(x) x^2  + \\sin(x) 2x $$ \n",
    "\n",
    "<br>\n",
    "<br>\n",
    "\n",
    "We are simply adding the respective area. This is the essence of the **product rule**.\n",
    "\n",
    "<br>\n",
    "<br>\n",
    "\n",
    "$$ f'(x) g(x) + f(x) g'(x) $$\n",
    "\n",
    "<br>\n",
    "<br>\n"
   ]
  },
  {
   "cell_type": "markdown",
   "metadata": {},
   "source": [
    "# The Chain Rule\n",
    "\n",
    "The chain rule is dictates how we deal with function compositions. That is, functions within functions. \n",
    "\n",
    "<br>\n",
    "<br>\n",
    "\n",
    "$$ g: x \\mapsto z $$ \n",
    "\n",
    "<br>\n",
    "<br>\n",
    "\n",
    "$$ f: z \\mapsto y $$ \n",
    "\n",
    "<br>\n",
    "<br>\n",
    "\n",
    "$$ g \\circ f: x \\mapsto y $$\n",
    "\n",
    "<br>\n",
    "<br>\n",
    "\n",
    "$$ f(g(x))= y $$\n",
    "\n",
    "<br>\n",
    "<br>\n",
    "\n",
    "We saw something similar to this when we took multiple matrix transformations.\n",
    "\n",
    "<br>\n",
    "<br>\n",
    "\n",
    "$$\\textbf{A}\\textbf{B}\\vec{x} = \\vec{y}$$\n",
    "\n",
    "<br>\n",
    "<br>"
   ]
  },
  {
   "cell_type": "markdown",
   "metadata": {},
   "source": [
    "### Rule\n",
    "\n",
    "\n",
    "<br>\n",
    "<br>\n",
    "\n",
    "$$ F(x) = f(g(x)) $$\n",
    "\n",
    "<br>\n",
    "<br>\n",
    "\n",
    "$$ F'(x) = f'(g(x))g'(x) $$\n",
    "\n",
    "<br>\n",
    "<br>"
   ]
  },
  {
   "cell_type": "markdown",
   "metadata": {},
   "source": [
    "### Derivation"
   ]
  },
  {
   "cell_type": "markdown",
   "metadata": {},
   "source": [
    "<br>\n",
    "<br>\n",
    "\n",
    "$$ F'(x) = \\lim_{h \\to 0}\\frac{f(g(x+h)) - f(g(x))}{h} $$\n",
    "\n",
    "<br>\n",
    "<br>\n",
    "\n",
    "Now let's multiply and divide by $g(x+h) - g(x)$. Recall that this doesn't change underlying value of the function as long as we multiply this value into both the numerator and the denominator. \n",
    "\n",
    "<br>\n",
    "<br>\n",
    "\n",
    "$$ \\lim_{h \\to 0}\\frac{f(g(x+h)) - f(g(x))}{h} \\frac{g(x+h) - g(x)}{g(x+h) - g(x)} $$\n",
    "\n",
    "<br>\n",
    "<br>\n",
    "\n",
    "$$ \\lim_{h \\to 0}\\frac{f(g(x+h)) - f(g(x))}{g(x+h) - g(x)} \\frac{g(x+h) - g(x)}{h} $$\n",
    "\n",
    "<br>\n",
    "<br>\n",
    "\n",
    "Recall that $h$ is really $(x + h) - x$, that is, it's the difference. When we think in these terms we can see that we have two similar types of statements...\n",
    "\n",
    "<br>\n",
    "<br>\n",
    "\n",
    "$$ \\lim_{h \\to 0}\\frac{f(g(x+h)) - f(g(x))}{g(x+h) - g(x)}\\lim_{h \\to 0}\\frac{g(x+h) - g(x)}{(x+h) - x} $$\n",
    "\n",
    "<br>\n",
    "<br>\n",
    "\n",
    "The first product is taking the change in $f(\\cdot)$ with respect to the change in $g(x)$ and the second takes the change in $g(\\cdot)$ with respect to the change in $x$.\n",
    "\n",
    "<br>\n",
    "<br>\n",
    "\n",
    "$$ f'(g(x))g'(x) $$\n",
    "\n",
    "<br>\n",
    "<br>"
   ]
  },
  {
   "cell_type": "markdown",
   "metadata": {},
   "source": [
    "### Intuition"
   ]
  },
  {
   "cell_type": "markdown",
   "metadata": {},
   "source": [
    "<br>\n",
    "<br>\n",
    "\n",
    "$$ x \\mapsto z \\mapsto y $$\n",
    "\n",
    "<br>\n",
    "<br>\n",
    "\n",
    "How does a change in $x$ correspond to a change in $z$ and how does that resulting change in $z$ correspond to a change in $y$?\n",
    "\n",
    "<br>\n",
    "<br>\n",
    "\n",
    "$$ f(x) = \\sin(x) $$\n",
    "\n",
    "<br>\n",
    "<br>\n",
    "\n",
    "$$ g(x) = x^2  $$\n",
    "\n",
    "\n",
    "<br>\n",
    "<br>"
   ]
  },
  {
   "cell_type": "code",
   "execution_count": 11,
   "metadata": {},
   "outputs": [],
   "source": [
    "# Define Functions\n",
    "def f(x):\n",
    "    return np.sin(x)\n",
    "\n",
    "def g(x):\n",
    "    return x**2"
   ]
  },
  {
   "cell_type": "markdown",
   "metadata": {},
   "source": [
    "Below is function that will help us analyze the changes discretely."
   ]
  },
  {
   "cell_type": "code",
   "execution_count": 12,
   "metadata": {},
   "outputs": [],
   "source": [
    "def chain(x,nudge=.1):\n",
    "    x1 = x\n",
    "    x2 = x + nudge\n",
    "    print(f'''\n",
    "    Changing x from {x1} to {x2}\n",
    "    x1: {x1}\\t\\t|--> g(x): {round(g(x1),2)}\\t\\t|--> f(g(x1)): {round(f(g(x1)),2)}\n",
    "    x2: {x2}\\t\\t|--> g(x): {round(g(x2),2)}\\t\\t|--> f(g(x2)): {round(f(g(x2)),2)}\n",
    "    ch: {round(x2-x1,2)}\\t\\t|--> {round(g(x2)-g(x1),2)}\\t\\t|--> {round(f(g(x2))-f(g(x1)),2)}\n",
    "    ''')"
   ]
  },
  {
   "cell_type": "code",
   "execution_count": 13,
   "metadata": {},
   "outputs": [
    {
     "name": "stdout",
     "output_type": "stream",
     "text": [
      "\n",
      "    Changing x from 1 to 1.1\n",
      "    x1: 1\t\t|--> g(x): 1\t\t|--> f(g(x1)): 0.84\n",
      "    x2: 1.1\t\t|--> g(x): 1.21\t\t|--> f(g(x2)): 0.94\n",
      "    ch: 0.1\t\t|--> 0.21\t\t|--> 0.09\n",
      "    \n",
      "\n",
      "    Changing x from 5 to 5.1\n",
      "    x1: 5\t\t|--> g(x): 25\t\t|--> f(g(x1)): -0.13\n",
      "    x2: 5.1\t\t|--> g(x): 26.01\t\t|--> f(g(x2)): 0.77\n",
      "    ch: 0.1\t\t|--> 1.01\t\t|--> 0.9\n",
      "    \n",
      "\n",
      "    Changing x from 10 to 10.1\n",
      "    x1: 10\t\t|--> g(x): 100\t\t|--> f(g(x1)): -0.51\n",
      "    x2: 10.1\t\t|--> g(x): 102.01\t\t|--> f(g(x2)): 1.0\n",
      "    ch: 0.1\t\t|--> 2.01\t\t|--> 1.5\n",
      "    \n",
      "\n",
      "    Changing x from 20 to 20.1\n",
      "    x1: 20\t\t|--> g(x): 400\t\t|--> f(g(x1)): -0.85\n",
      "    x2: 20.1\t\t|--> g(x): 404.01\t\t|--> f(g(x2)): 0.95\n",
      "    ch: 0.1\t\t|--> 4.01\t\t|--> 1.8\n",
      "    \n",
      "\n",
      "    Changing x from 50 to 50.1\n",
      "    x1: 50\t\t|--> g(x): 2500\t\t|--> f(g(x1)): -0.65\n",
      "    x2: 50.1\t\t|--> g(x): 2510.01\t\t|--> f(g(x2)): 0.12\n",
      "    ch: 0.1\t\t|--> 10.01\t\t|--> 0.77\n",
      "    \n"
     ]
    }
   ],
   "source": [
    "for i in [1,5,10,20,50]:\n",
    "    chain(i)"
   ]
  },
  {
   "cell_type": "code",
   "execution_count": 14,
   "metadata": {},
   "outputs": [
    {
     "data": {
      "text/html": [
       "\n",
       "\n",
       "\n",
       "\n",
       "\n",
       "\n",
       "  <div class=\"bk-root\" id=\"a9c53022-49d2-480a-9efe-9bb8e33e0835\"></div>\n"
      ]
     },
     "metadata": {},
     "output_type": "display_data"
    },
    {
     "data": {
      "application/javascript": [
       "(function(root) {\n",
       "  function embed_document(root) {\n",
       "    \n",
       "  var docs_json = {\"71ac139e-f712-4662-b442-82b6fbe351b6\":{\"roots\":{\"references\":[{\"attributes\":{},\"id\":\"ca7a1216-a63a-4db9-9431-51a9ab26e23e\",\"type\":\"Selection\"},{\"attributes\":{\"line_alpha\":0.1,\"line_color\":\"#1f77b4\",\"line_width\":3,\"x\":{\"field\":\"x\"},\"y\":{\"field\":\"y\"}},\"id\":\"cdb7dc84-51be-41e0-8456-cdee965a26b6\",\"type\":\"Line\"},{\"attributes\":{},\"id\":\"50026987-3e15-4e46-a636-2c12534726af\",\"type\":\"Selection\"},{\"attributes\":{\"label\":{\"value\":\"f'(g(x))\"},\"renderers\":[{\"id\":\"c4b0982e-be7b-46da-b92f-0d30bf6b0f1e\",\"type\":\"GlyphRenderer\"}]},\"id\":\"31af03d2-540c-4530-ab34-8b81973d4647\",\"type\":\"LegendItem\"},{\"attributes\":{\"children\":[{\"id\":\"c7da6dbc-fcd1-4bdd-93bd-59dd6d4fa35a\",\"subtype\":\"Figure\",\"type\":\"Plot\"},{\"id\":\"d15f0bd4-06c8-49e3-a072-c483403ddaae\",\"subtype\":\"Figure\",\"type\":\"Plot\"}]},\"id\":\"ab7a8cb3-ce49-42c7-832c-2f4606e6d5d6\",\"type\":\"Row\"},{\"attributes\":{\"axis_label\":\"X\",\"formatter\":{\"id\":\"f7d1625a-8908-46e8-99a5-71a410b0a330\",\"type\":\"BasicTickFormatter\"},\"plot\":{\"id\":\"c7da6dbc-fcd1-4bdd-93bd-59dd6d4fa35a\",\"subtype\":\"Figure\",\"type\":\"Plot\"},\"ticker\":{\"id\":\"251d3e56-db1c-432a-93a4-ead16a480eb1\",\"type\":\"BasicTicker\"}},\"id\":\"1ac4dd8c-1c55-4a89-93c4-accc452cdbfa\",\"type\":\"LinearAxis\"},{\"attributes\":{\"line_alpha\":0.5,\"line_color\":\"grey\",\"line_dash\":[6],\"line_width\":3,\"x\":{\"field\":\"x\"},\"y\":{\"field\":\"y\"}},\"id\":\"d5073a1d-4790-4a68-8f79-00a4d2713a00\",\"type\":\"Line\"},{\"attributes\":{\"line_alpha\":0.1,\"line_color\":\"#1f77b4\",\"line_dash\":[6],\"line_width\":3,\"x\":{\"field\":\"x\"},\"y\":{\"field\":\"y\"}},\"id\":\"a8bf0d78-efe8-4b5e-8b47-378b34b325fc\",\"type\":\"Line\"},{\"attributes\":{\"data_source\":{\"id\":\"8045a6a5-28de-442f-82da-cad280fe39c2\",\"type\":\"ColumnDataSource\"},\"glyph\":{\"id\":\"d5073a1d-4790-4a68-8f79-00a4d2713a00\",\"type\":\"Line\"},\"hover_glyph\":null,\"muted_glyph\":null,\"nonselection_glyph\":{\"id\":\"a8bf0d78-efe8-4b5e-8b47-378b34b325fc\",\"type\":\"Line\"},\"selection_glyph\":null,\"view\":{\"id\":\"0073dda7-387b-4ca5-84ce-98a4afcc79b2\",\"type\":\"CDSView\"}},\"id\":\"90f3f89d-37f3-4024-a4ea-6933b006278a\",\"type\":\"GlyphRenderer\"},{\"attributes\":{\"callback\":null},\"id\":\"b7bd5cf5-449d-4c42-babc-f54ef68e4fac\",\"type\":\"DataRange1d\"},{\"attributes\":{\"source\":{\"id\":\"8045a6a5-28de-442f-82da-cad280fe39c2\",\"type\":\"ColumnDataSource\"}},\"id\":\"0073dda7-387b-4ca5-84ce-98a4afcc79b2\",\"type\":\"CDSView\"},{\"attributes\":{},\"id\":\"2e975498-7692-4e25-9436-70c7204e2d2a\",\"type\":\"UnionRenderers\"},{\"attributes\":{\"label\":{\"value\":\"F'(x) = f'(g(x))g'(x)\"},\"renderers\":[{\"id\":\"90f3f89d-37f3-4024-a4ea-6933b006278a\",\"type\":\"GlyphRenderer\"}]},\"id\":\"4fb22ef6-a33f-4e6d-943c-09133c76eaea\",\"type\":\"LegendItem\"},{\"attributes\":{},\"id\":\"a7e07315-f390-4620-aac6-8862f3350d07\",\"type\":\"Selection\"},{\"attributes\":{},\"id\":\"ff9140c9-9b20-4120-a5c5-c74f775109ab\",\"type\":\"UnionRenderers\"},{\"attributes\":{},\"id\":\"c653cef1-5ad4-4455-921a-1a247ccaa0a0\",\"type\":\"Selection\"},{\"attributes\":{},\"id\":\"b745faf8-66da-4751-b220-3e20f3fc909d\",\"type\":\"UnionRenderers\"},{\"attributes\":{\"line_alpha\":0.5,\"line_color\":\"purple\",\"line_width\":3,\"x\":{\"field\":\"x\"},\"y\":{\"field\":\"y\"}},\"id\":\"80364f43-9370-48f0-9660-8d7f32f0e5e9\",\"type\":\"Line\"},{\"attributes\":{\"data_source\":{\"id\":\"8333533a-2701-43b5-83e0-e8d74b4dc11c\",\"type\":\"ColumnDataSource\"},\"glyph\":{\"id\":\"80364f43-9370-48f0-9660-8d7f32f0e5e9\",\"type\":\"Line\"},\"hover_glyph\":null,\"muted_glyph\":null,\"nonselection_glyph\":{\"id\":\"695712d3-346f-4267-be11-7f1c53f379f0\",\"type\":\"Line\"},\"selection_glyph\":null,\"view\":{\"id\":\"1ae85661-5a8b-4572-a5eb-3bec27b926e3\",\"type\":\"CDSView\"}},\"id\":\"74a79263-231d-44a0-aa85-f55cd87d6dff\",\"type\":\"GlyphRenderer\"},{\"attributes\":{\"label\":{\"value\":\"f(g(x))\"},\"renderers\":[{\"id\":\"74a79263-231d-44a0-aa85-f55cd87d6dff\",\"type\":\"GlyphRenderer\"}]},\"id\":\"8d6550d3-d6d6-419a-b0da-894d45085836\",\"type\":\"LegendItem\"},{\"attributes\":{\"source\":{\"id\":\"e8a16c47-eefb-4962-9525-e2f42109b442\",\"type\":\"ColumnDataSource\"}},\"id\":\"8f41354a-5c02-42b0-9ad7-02b7db84a1e5\",\"type\":\"CDSView\"},{\"attributes\":{},\"id\":\"f7d1625a-8908-46e8-99a5-71a410b0a330\",\"type\":\"BasicTickFormatter\"},{\"attributes\":{\"callback\":null,\"data\":{\"x\":{\"__ndarray__\":\"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\",\"dtype\":\"float64\",\"shape\":[1001]},\"y\":{\"__ndarray__\":\"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\",\"dtype\":\"float64\",\"shape\":[1001]}},\"selected\":{\"id\":\"ca7a1216-a63a-4db9-9431-51a9ab26e23e\",\"type\":\"Selection\"},\"selection_policy\":{\"id\":\"97271d55-7b89-477b-b77a-6b17262d90a1\",\"type\":\"UnionRenderers\"}},\"id\":\"5e26c088-373b-45ae-90c7-c4c03b86afd6\",\"type\":\"ColumnDataSource\"},{\"attributes\":{\"label\":{\"value\":\"f(x)\"},\"renderers\":[{\"id\":\"954eed21-32f6-4f7d-90b3-471bf3291bd9\",\"type\":\"GlyphRenderer\"}]},\"id\":\"7982f273-9d37-4681-82b0-079762597e95\",\"type\":\"LegendItem\"},{\"attributes\":{},\"id\":\"64159f1f-be21-4c33-8d27-778c94e4cdc8\",\"type\":\"BasicTickFormatter\"},{\"attributes\":{\"callback\":null,\"data\":{\"x\":{\"__ndarray__\":\"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\",\"dtype\":\"float64\",\"shape\":[1001]},\"y\":{\"__ndarray__\":\"AAAAAAAAOUAuIR/0bOY4QOq3rwPnzDhANcSxLm6zOEANRiV1Apo4QHQ9CtejgDhAaKpgVFJnOEDrjCjtDU44QPzkYaHWNDhAm7IMcawbOEDI9ShcjwI4QISutmJ/6TdAzdy1hHzQN0ClgCbChrc3QAuaCBuenjdA/ihcj8KFN0CALSEf9Gw3QJGnV8oyVDdAL5f/kH47N0Bb/Bhz1yI3QBbXo3A9CjdAXiegibDxNkA17Q2+MNk2QJoo7Q2+wDZAjdk9eVioNkAOAAAAAJA2QB6cM6K0dzZAu63YX3ZfNkDmNO84RUc2QKAxdy0hLzZA6KNwPQoXNkC+i9toAP81QCLpt68D5zVAFLwFEhTPNUCUBMWPMbc1QKPC9ShcnzVAP/aX3ZOHNUBqn6ut2G81QCO+MJkqWDVAalInoIlANUA/XI/C9Sg1QKLbaABvETVAlNCzWfX5NEATO3DOiOI0QCEbnl4pyzRAvHA9CtezNEDmO07RkZw0QJ580LNZhTRA5DLEsS5uNEC5XinLEFc0QBsAAAAAQDRADBdIUPwoNECKowG8BRI0QJelLEMc+zNAMh3J5T/kM0BbCtejcM0zQBJtVn2utjNAV0VHcvmfM0Ark6mCUYkzQIxWfa62cjNAfI/C9ShcM0D6PXlYqEUzQAZiodY0LzNAoPs6cM4YM0DICkYldQIzQH6PwvUo7DJAw4mw4enVMkCV+Q/pt78yQPbe4AuTqTJA5TkjSnuTMkBiCtejcH0yQG1Q/BhzZzJABgyTqYJRMkAtPZtVnzsyQOPjFB3JJTJAJgAAAAAQMkD4kVz+Q/oxQFiZKhiV5DFARhZqTfPOMUDCCBueXrkxQMxwPQrXozFAZU7RkVyOMUCLodY073gxQEBqTfOOYzFAgqg1zTtOMUBTXI/C9TgxQLKFWtO8IzFAnySX/5AOMUAbOUVHcvkwQCTDZKpg5DBAvML1KFzPMEDhN/jCZLowQJUibHh6pTBA14JRSZ2QMECnWKg1zXswQAWkcD0KZzBA8mSqYFRSMEBsm1Wfqz0wQHRHcvkPKTBAC2kAb4EUMEAwAAAAAAAwQMYZ4lgX1y9ASB6n6EiuL0DmDU+vlIUvQKHo2az6XC9AeK5H4Xo0L0BrX5hMFQwvQHv7y+7J4y5ApoLix5i7LkDu9NvXgZMuQFJSuB6Fay5A05p3nKJDLkBwzhlR2hsuQCntnjws9C1A/vYGX5jMLUDv61G4HqUtQP3Lf0i/fS1AJ5eQD3pWLUBtTYQNTy8tQNDuWkI+CC1AT3sUrkfhLEDq8rBQa7osQKFVMCqpkyxAdaOSOgFtLEBk3NeBc0YsQHEAAAAAICxAmQ8Ltab5K0DdCfmgZ9MrQD7vycNCrStAu799HTiHK0BVexSuR2ErQAoijnVxOytA3LPqc7UVK0DKMCqpE/AqQNWYTBWMyipA++tRuB6lKkA+KjqSy38qQJ1TBaOSWipAGWiz6nM1KkCxZ0RpbxAqQGRSuB6F6ylANSgPC7XGKUAh6Ugu/6EpQCqVZYhjfSlATyxlGeJYKUCQrkfhejQpQO4bDeAtEClAZ3S1FfvrKED9t0CC4scoQK/mriXkoyhAfgAAAACAKEBpBTQRNlwoQHD1SlmGOChAk9BE2PAUKEDTliGOdfEnQC5I4XoUzidApuSDns2qJ0A7bAn5oIcnQOvecYqOZCdAuDy9UpZBJ0ChhetRuB4nQKe5/If0+yZAyNjw9ErZJkAG48eYu7YmQGDYgXNGlCZA17gehetxJkBphJ7Nqk8mQBg7AU2ELSZA49xGA3gLJkDLaW/wheklQM7hehSuxyVA7kRpb/ClJUAqkzoBTYQlQIPM7snDYiVA+PCFyVRBJUCJAAAAACAlQDb7XG3F/iRA/+CcEaXdJEDlsb/snrwkQOdtxf6ymyRABRWuR+F6JEBAp3nHKVokQJYkKH6MOSRACY25awkZJECZ4C2QoPgjQEQfhetR2CNADEm/fR24I0DwXdxGA5gjQPBd3EYDeCNADUm/fR1YI0BGH4XrUTgjQJvgLZCgGCNADI25awn5IkCaJCh+jNkiQESneccpuiJAChWuR+GaIkDsbcX+snsiQOuxv+yeXCJABeGcEaU9IkA9+1xtxR4iQJAAAAAAACJAAPGFyVThIUCMzO7Jw8IhQDSTOgFNpCFA+ERpb/CFIUDZ4XoUrmchQNZpb/CFSSFA79xGA3grIUAkOwFNhA0hQHaEns2q7yBA5LgehevRIEBu2IFzRrQgQBXjx5i7liBA2Njw9Ep5IEC3ufyH9FsgQLKF61G4PiBAyTy9UpYhIED93nGKjgQgQJrYEvJBzx9Ac8kHPZuVH0CEkML1KFwfQM0tQxzrIh9AUKGJsOHpHkAK65WyDLEeQP0KaCJseB5AKQEAAABAHkCNzV1LyAceQCpwgQTFzx1A/+hqK/aXHUANOBrAW2AdQFNdj8L1KB1A0ljKMsTxHECJKssQx7ocQHnSkVz+gxxAoVAeFmpNHEACpXA9ChccQJvPiNLe4BtAbdBm1eeqG0B3pwpGJXUbQLpUdCSXPxtANtijcD0KG0DqMZkqGNUaQNZhVFInoBpA+2fV52prGkBYRBzr4jYaQO72KFyPAhpAvX/7OnDOGUDE3pOHhZoZQAMU8kHPZhlAex8Wak0zGUAsAQAAAAAZQBW5rwPnzBhAN0cldQKaGECRq2BUUmcYQCPmYaHWNBhA7vYoXI8CGEDy3bWEfNAXQC6bCBuenhdAoy4hH/RsF0BQmP+QfjsXQDbYo3A9ChdAVO4NvjDZFkCr2j15WKgWQDqdM6K0dxZAAjbvOEVHFkACpXA9ChcWQDvqt68D5xVArAXFjzG3FUBW95fdk4cVQDi/MJkqWBVAU12PwvUoFUCm0bNZ9fkUQDIcnl4pyxRA9zxO0ZGcFED0M8SxLm4UQCkBAAAAQBRAl6QBvAUSFEA9HsnlP+QTQBxuVn2uthNANJSpglGJE0CEkML1KFwTQAxjodY0LxNAzQtGJXUCE0DHirDh6dUSQPnf4AuTqRJAZAvXo3B9EkAHDZOpglESQOLkFB3JJRJA9pJc/kP6EUBDF2pN884RQMhxPQrXoxFAhqLWNO94EUB8qTXNO04RQKuGWtO8IxFAEjpFR3L5EECyw/UoXM8QQIojbHh6pRBAm1moNc17EEDkZapgVFIQQGZIcvkPKRBAIAEAAAAAEEAmIKfoSK4PQHzq2az6XA9ARGGYTBUMD0B9hOLHmLsOQCZUuB6Faw5AQdAZUdobDkDN+AZfmMwNQMrNf0i/fQ1AOE+EDU8vDUAXfRSuR+EMQGdXMCqpkwxAKN7XgXNGDEBaEQu1pvkLQP3wycNCrQtAEX0UrkdhC0CWtepztRULQIyaTBWMygpA8ys6kst/CkDLabPqczUKQBRUuB6F6wlAz+pILv+hCUD6LWUZ4lgJQJYdDeAtEAlApLlAguLHCEAiAgAAAIAIQBH3SlmGOAhAcpghjnXxB0BD5oOezaoHQIbgcYqOZAdAOYfrUbgeB0Be2vD0StkGQPPZgXNGlAZA+oWezapPBkBy3kYDeAsGQFrjehSuxwVAtJQ6AU2EBUB/8oXJVEEFQLv8XG3F/gRAZ7O/7J68BECFFq5H4XoEQBQmKH6MOQRAFOItkKD4A0CFSr99HbgDQGdf3EYDeANAuiCF61E4A0B+jrlrCfkCQLOoeccpugJAWW/F/rJ7AkBw4pwRpT0CQPgBAAAAAAJA8c3uycPCAUBbRmlv8IUBQDdrb/CFSQFAgzwBTYQNAUBAuh6F69EAQG7kx5i7lgBADrv8h/RbAEAePr1SliEAQD/bEvJBz/8/JJPC9Shc/z/ro4mw4en+P5QNaCJseP4/H9BdS8gH/j+M62or9pf9P9tfj8L1KP0/DC3LEMe6/D8gUx4Wak38PxXSiNLe4Ps/7KkKRiV1+z+m2qNwPQr7P0FkVFInoPo/v0Yc6+I2+j8fgvs6cM75P2AW8kHPZvk/hAMAAAAA+T+KSSV1Apr4P3LoYaHWNPg/POC1hHzQ9z/oMCEf9Gz3P3bao3A9Cvc/5tw9eVio9j84OO84RUf2P2zst68D5/U/g/mX3ZOH9T97X4/C9Sj1P1Uenl4py/Q/EjbEsS5u9D+xpgG8BRL0PzFwVn2utvM/lJLC9Shc8z/ZDUYldQLzP//h4AuTqfI/CA+TqYJR8j/zlFz+Q/rxP8BzPQrXo/E/b6s1zTtO8T8APEVHcvnwP3MlbHh6pfA/yWeqYFRS8D8AAwAAAADwPzPu2az6XO8/Kojix5i77j/k0xlR2hvuP2TRf0i/fe0/p4AUrkfh7D+u4deBc0bsP3n0ycNCres/Cbnqc7UV6z9dLzqSy3/qP3RXuB6F6+k/UDFlGeJY6T/wvECC4sfoP1X6SlmGOOg/femDns2q5z9piutRuB7nPxrdgXNGlOY/juFGA3gL5j/HlzoBTYTlP8T/XG3F/uQ/hRmuR+F65D8K5S2QoPjjP1Ri3EYDeOM/YZG5awn54j8ycsX+snviP8gEAAAAAOI/Iklpb/CF4T9APwFNhA3hPyLnx5i7luA/yEC9UpYh4D9kmML1KFzfP8ESaCJseN4/pfBqK/aX3T8TMssQx7rcPwjXiNLe4Ns/ht+jcD0K2z+MSxzr4jbaPxob8kHPZtk/ME4ldQKa2D/P5LWEfNDXP/beo3A9Ctc/pTzvOEVH1j/c/Zfdk4fVP5winl4py9Q/5KoBvAUS1D+0lsL1KFzTPwzm4AuTqdI/7Zhc/kP60T9WrzXNO07RP0cpbHh6pdA/wAYAAAAA0D+Dj+LHmLvOP5fYf0i/fc0/u+jXgXNGzD/vv+pztRXLPzReuB6F68k/isNAguLHyD/w74OezarHP2fjgXNGlMY/7p06AU2ExT+FH65H4XrEPy1o3EYDeMM/5nfF/rJ7wj+vTmlv8IXBP4jsx5i7lsA/5KLC9Shcvz/Z+mor9pe9P+7giNLe4Ls/JVUc6+I2uj99VyV1Apq4P/bno3A9Crc/jwaY3ZOHtT9KswG8BRK0Pybu4AuTqbI/Irc1zTtOsT9ADgAAAACwP/3mf0i/fa0/vM3qc7UVqz+90ECC4seoPwDwgXNGlKY/hSuuR+F6pD9Mg8X+snuiP1X3x5i7lqA/Pw9rK/aXnT9YaBzr4jaaP/b5o3A9Cpc/F8QBvAUSlD+8xjXNO06RP8oDgEi/fY0/JOtAguLHiD+FQ65H4XqEP+4MyJi7loA/v44c6+I2ej+x5QG8BRJ0P2Q9gEi/fW0/hXOuR+F6ZD+M2xzr4jZaP5ewgEi/fU0/JXUd6+I2Oj9YqB7r4jYaPwAAAAAAIIw6jNsZ6+I2Gj+/Dhvr4jY6P8rjfki/fU0/WKgb6+I2Wj+Fs61H4XpkP/1Wf0i/fW0/Sl8BvAUSdD8l9Rvr4jZ6P4i2x5i7loA/heOtR+F6hD+KgUCC4seIP5eQf0i/fY0/Vog1zTtOkT/kgAG8BRKUP/axo3A9Cpc/jBsc6+I2mj+lvWor9pedPyLMx5i7lqA/slXF/rJ7oj+F+61H4XqkP5q9gXNGlKY/8JtAguLHqD+JlupztRWrP2Stf0i/fa0/gOD/////rz/vlzXNO06xP7/N4AuTqbI/sZEBvAUStD/D45fdk4e1P/bDo3A9Crc/SjIldQKauD+/Lhzr4ja6P1W5iNLe4Ls/DNJqK/aXvT/keML1KFy/P+7Wx5i7lsA/ezhpb/CFwT8ZYcX+snvCP8dQ3EYDeMM/hQeuR+F6xD9UhToBTYTFPzPKgXNGlMY/I9aDns2qxz8kqUCC4sfIPzRDuB6F68k/VqTqc7UVyz+IzNeBc0bMP8q7f0i/fc0/HXLix5i7zj+A7//////PP/oZbHh6pdA/vJ81zTtO0T8GiVz+Q/rRP9nV4AuTqdI/NIbC9Shc0z8XmgG8BRLUP4IRnl4py9Q/duyX3ZOH1T/yKu84RUfWP/bMo3A9Ctc/gtK1hHzQ1z+XOyV1AprYPzMI8kHPZtk/WDgc6+I22j8GzKNwPQrbPzvDiNLe4Ns/+R3LEMe63D8/3Gor9pfdPw3+ZyJseN4/ZIPC9Shc3z8hNr1SliHgP1Xcx5i7luA/TDQBTYQN4T8IPmlv8IXhP4j5/////+E/zGbF/rJ74j/UhblrCfniP6BW3EYDeOM/MdktkKD44z+FDa5H4XrkP57zXG3F/uQ/eos6AU2E5T8b1UYDeAvmP4DQgXNGlOY/qX3rUbge5z+W3IOezarnP0jtSlmGOOg/va9AguLH6D/3I2UZ4ljpP/RJuB6F6+k/tiE6kst/6j88q+pztRXrP4bmycNCres/lNPXgXNG7D9nchSuR+HsP/3Cf0i/fe0/WMUZUdob7j92eeLHmLvuP1nf2az6XO8/APf/////7z82YKpgVFLwP80dbHh6pfA/RzRFR3L58D+iozXNO07xP+BrPQrXo/E/AI1c/kP68T8CB5OpglHyP+bZ4AuTqfI/rAVGJXUC8z9UisL1KFzzP95nVn2utvM/Sp4BvAUS9D+YLcSxLm70P8kVnl4py/Q/21aPwvUo9T/P8Jfdk4f1P6bjt68D5/U/Xi/vOEVH9j/50z15WKj2P3bRo3A9Cvc/1CchH/Rs9z8V17WEfND3PzjfYaHWNPg/PUAldQKa+D8k+v/////4P+0M8kHPZvk/mHj7OnDO+T8lPRzr4jb6P5RaVFInoPo/5tCjcD0K+z8ZoApGJXX7Py7IiNLe4Ps/JkkeFmpN/D//IssQx7r8P7tVj8L1KP0/WeFqK/aX/T/YxV1LyAf+PzoDaCJseP4/fpmJsOHp/j+kiML1KFz/P6zQEvJBz/8/yzi9UpYhAECxtfyH9FsAQAjfx5i7lgBA0LQehevRAEAJNwFNhA0BQLNlb/CFSQFAz0Bpb/CFAUBbyO7Jw8IBQFj8/////wFAxtycEaU9AkCmacX+snsCQPaieccpugJAt4i5awn5AkDqGoXrUTgDQI1Z3EYDeANAokS/fR24A0An3C2QoPgDQB4gKH6MOQRAhRCuR+F6BEBerb/snrwEQKf2XG3F/gRAYuyFyVRBBUCOjjoBTYQFQCrdehSuxwVAONhGA3gLBkC3f57Nqk8GQKfTgXNGlAZAB9Tw9ErZBkDZgOtRuB4HQBzacYqOZAdA0N+Dns2qB0D1kSGOdfEHQIvwSlmGOAhAkvv///9/CEAKs0CC4scIQPMWDeAtEAlATSdlGeJYCUAY5Egu/6EJQFRNuB6F6wlAAmOz6nM1CkAgJTqSy38KQK+TTBWMygpAr67qc7UVC0AhdhSuR2ELQAPqycNCrQtAVgoLtab5C0Ab19eBc0YMQFBQMCqpkwxA93UUrkfhDEAOSIQNTy8NQJfGf0i/fQ1AkPEGX5jMDUD7yBlR2hsOQNZMuB6Faw5AI33ix5i7DkDhWZhMFQwPQBDj2az6XA9Arxin6EiuD0DA+v////8PQKFEcvkPKRBAGmKqYFRSEEDMVag1zXsQQLcfbHh6pRBA2r/1KFzPEEA1NkVHcvkQQMmCWtO8IxFAlqU1zTtOEUCbntY073gRQNhtPQrXoxFAThNqTfPOEUD9jlz+Q/oRQOTgFB3JJRJAAwmTqYJREkBcB9ejcH0SQOzb4AuTqRJAtYaw4enVEkC3B0YldQITQPFeodY0LxNAZIzC9ShcE0APkKmCUYkTQPNpVn2uthNADxrJ5T/kE0BkoAG8BRIUQPH8////PxRAty/EsS5uFEC1OE7RkZwUQOwXnl4pyxRAW82zWfX5FEADWY/C9SgVQOO6MJkqWBVA/PKX3ZOHFUBOAcWPMbcVQNjlt68D5xVAmqBwPQoXFkCVMe84RUcWQMiYM6K0dxZANNY9eVioFkDZ6Q2+MNkWQLbTo3A9ChdAy5P/kH47F0AZKiEf9GwXQKCWCBuenhdAX9m1hHzQF0BW8ihcjwIYQIfhYaHWNBhA76ZgVFJnGECQQiV1ApoYQGq0rwPnzBhAfPz/////GEDHGhZqTTMZQEoP8kHPZhlABtqTh4WaGUD6evs6cM4ZQCbyKFyPAhpAjD8c6+I2GkApY9XnamsaQABdVFInoBpADi2ZKhjVGkBW06NwPQobQNZPdCSXPxtAjqIKRiV1G0B/y2bV56obQKjKiNLe4BtACqBwPQoXHECkSx4Wak0cQHfNkVz+gxxAgyXLEMe6HEDHU8oyxPEcQENYj8L1KB1A+DIawFtgHUDl42or9pcdQAtrgQTFzx1AashdS8gHHkAB/P///z8eQNEFaCJseB5A2eWVsgyxHkAZnImw4ekeQJIoQxzrIh9ARIvC9ShcH0AuxAc9m5UfQFHTEvJBzx9AVtxxio4EIEAgOr1SliEgQAaD61G4PiBACLf8h/RbIEAn1vD0SnkgQGLgx5i7liBAudWBc0a0IEAsth6F69EgQLyBns2q7yBAaDgBTYQNIUAw2kYDeCshQBRnb/CFSSFAFd96FK5nIUAyQmlv8IUhQGuQOgFNpCFAwMnuycPCIUAy7oXJVOEhQMD9/////yFAavhcbcUeIkAx3pwRpT0iQBOvv+yeXCJAEmvF/rJ7IkAuEq5H4ZoiQGWkeccpuiJAuSEofozZIkApirlrCfkiQLXdLZCgGCNAXhyF61E4I0AiRr99HVgjQARb3EYDeCNAAVvcRgOYI0AaRr99HbgjQFAchetR2CNAot0tkKD4I0ARirlrCRkkQJshKH6MOSRAQqR5xylaJEAFEq5H4XokQORqxf6ymyRA4K6/7J68JED43ZwRpd0kQCz4XG3F/iRAff3///8fJUDp7YXJVEElQHLJ7snDYiVAF5A6AU2EJUDZQWlv8KUlQLbeehSuxyVAsGZv8IXpJUDG2UYDeAsmQPk3AU2ELSZASIGezapPJkCztR6F63EmQDrVgXNGlCZA3d/HmLu2JkCd1fD0StkmQHm2/If0+yZAcYLrUbgeJ0CGOb1SlkEnQLfbcYqOZCdABGkJ+aCHJ0Bt4YOezaonQPJE4XoUzidAlJMhjnXxJ0BSzUTY8BQoQC3ySlmGOChAIwI0ETZcKEA2/f///38oQGXjriXkoyhAsLRAguLHKEAYcbUV++soQJwYDeAtEClAPKtH4Xo0KUD4KGUZ4lgpQNGRZYhjfSlAxuVILv+hKUDXJA8LtcYpQARPuB6F6ylATmREaW8QKkC0ZLPqczUqQDZQBaOSWipA1SY6kst/KkCP6FG4HqUqQGaVTBWMyipAWi0qqRPwKkBpsOpztRUrQJUejnVxOytA3XcUrkdhK0BBvH0dOIcrQMHrycNCrStAXgb5oGfTK0AXDAu1pvkrQO38////HyxA3tjXgXNGLEDsn5I6AW0sQBZSMCqpkyxAXO+wUGu6LEC/dxSuR+EsQD7rWkI+CC1A2UmEDU8vLUCQk5APelYtQGTIf0i/fS1AU+hRuB6lLUBf8wZfmMwtQIjpnjws9C1AzMoZUdobLkAtl3ecokMuQKpOuB6Fay5ARPHb14GTLkD6fuLHmLsuQMv3y+7J4y5AuluYTBUML0DEqkfhejQvQOvk2az6XC9ALgpPr5SFL0CNGqfoSK4vQAgW4lgX1y9AoPz/////L0AqZwBvgRQwQJJFcvkPKTBAiJlVn6s9MEANY6pgVFIwQB+icD0KZzBAwFaoNc17MEDvgFFJnZAwQKsgbHh6pTBA9jX4wmS6MEDQwPUoXM8wQDfBZKpg5DBALDdFR3L5MECwIpf/kA4xQMKDWtO8IzFAYVqPwvU4MUCPpjXNO04xQEtoTfOOYzFAlZ/WNO94MUBuTNGRXI4xQNRuPQrXozFAyQYbnl65MUBLFGpN884xQFyXKhiV5DFA+49c/kP6MUAo/v///w8yQOPhFB3JJTJALTubVZ87MkAECpOpglEyQGpO/BhzZzJAXgjXo3B9MkDfNyNKe5MyQO/c4AuTqTJAjfcP6be/MkC6h7Dh6dUyQHSNwvUo7DJAvQhGJXUCM0CT+TpwzhgzQPhfodY0LzNA6zt5WKhFM0BsjcL1KFwzQHtUfa62cjNAGJGpglGJM0BEQ0dy+Z8zQP1qVn2utjNARQjXo3DNM0AbG8nlP+QzQH6jLEMc+zNAcaEBvAUSNEDxFEhQ/Cg0QP/9////PzRAm1wpyxBXNEDGMMSxLm40QH960LNZhTRAxTlO0ZGcNECabj0K17M0QP0Ynl4pyzRA7zhwzojiNEBuzrNZ9fk0QHvZaABvETVAF1qPwvUoNUBBUCegiUA1QPm7MJkqWDVAP52rrdhvNUAT9Jfdk4c1QHXA9ShcnzVAZQLFjzG3NUDkuQUSFM81QPDmt68D5zVAi4nbaAD/NUC0oXA9Chc2QGsvdy0hLzZAsDLvOEVHNkCDq9hfdl82QOWZM6K0dzZA1P3///+PNkBS1z15WKg2QF4m7Q2+wDZA+OoNvjDZNkAgJaCJsPE2QNbUo3A9CjdAGvoYc9ciN0DslP+Qfjs3QE2lV8oyVDdAPCshH/RsN0C4JlyPwoU3QMOXCBuenjdAXH4mwoa3N0CE2rWEfNA3QDmstmJ/6TdAfPMoXI8COEBOsAxxrBs4QK7iYaHWNDhAnIoo7Q1OOEAYqGBUUmc4QCI7CtejgDhAukMldQKaOEDgwbEubrM4QJW1rwPnzDhA1x4f9GzmOECo/f////84QA==\",\"dtype\":\"float64\",\"shape\":[1001]}},\"selected\":{\"id\":\"cfc5a1dd-6cfd-42cb-b797-6af9a512a5e9\",\"type\":\"Selection\"},\"selection_policy\":{\"id\":\"de7d8b4b-62e4-4aad-902e-1d2e058d56ab\",\"type\":\"UnionRenderers\"}},\"id\":\"e8a16c47-eefb-4962-9525-e2f42109b442\",\"type\":\"ColumnDataSource\"},{\"attributes\":{\"below\":[{\"id\":\"1ac4dd8c-1c55-4a89-93c4-accc452cdbfa\",\"type\":\"LinearAxis\"}],\"left\":[{\"id\":\"b348ad25-9d2b-4c77-b68d-4a6ad5395edf\",\"type\":\"LinearAxis\"}],\"plot_height\":400,\"plot_width\":475,\"renderers\":[{\"id\":\"1ac4dd8c-1c55-4a89-93c4-accc452cdbfa\",\"type\":\"LinearAxis\"},{\"id\":\"6c44c883-2694-4a61-859f-d971f799710a\",\"type\":\"Grid\"},{\"id\":\"b348ad25-9d2b-4c77-b68d-4a6ad5395edf\",\"type\":\"LinearAxis\"},{\"id\":\"36cc20fa-b3ad-4ad4-a1f7-b1e6fa7814f0\",\"type\":\"Grid\"},{\"id\":\"d86754e1-816f-4860-bd00-5cbf447c179e\",\"type\":\"BoxAnnotation\"},{\"id\":\"5f9f1273-dbaf-48f6-b9f3-5ac0b58fb10b\",\"type\":\"Legend\"},{\"id\":\"d768e7ed-52cd-4ff4-8047-9314fea952c6\",\"type\":\"GlyphRenderer\"},{\"id\":\"954eed21-32f6-4f7d-90b3-471bf3291bd9\",\"type\":\"GlyphRenderer\"},{\"id\":\"74a79263-231d-44a0-aa85-f55cd87d6dff\",\"type\":\"GlyphRenderer\"}],\"title\":{\"id\":\"21a58f46-a485-4e0f-8bdf-7588e981fff6\",\"type\":\"Title\"},\"toolbar\":{\"id\":\"2c104e60-1fef-4043-aa2c-5bba32e00139\",\"type\":\"Toolbar\"},\"toolbar_location\":\"below\",\"x_range\":{\"id\":\"8d6b8c44-a0f4-4299-a446-da2b613271e1\",\"type\":\"DataRange1d\"},\"x_scale\":{\"id\":\"b1e1a125-e77e-4ffc-b2f5-ada42c95284f\",\"type\":\"LinearScale\"},\"y_range\":{\"id\":\"b7bd5cf5-449d-4c42-babc-f54ef68e4fac\",\"type\":\"DataRange1d\"},\"y_scale\":{\"id\":\"0c4f4519-bdf5-4a1a-99b3-9b8fce392a7b\",\"type\":\"LinearScale\"}},\"id\":\"c7da6dbc-fcd1-4bdd-93bd-59dd6d4fa35a\",\"subtype\":\"Figure\",\"type\":\"Plot\"},{\"attributes\":{\"source\":{\"id\":\"d40cb951-caee-4a7a-9c09-1f2406228eee\",\"type\":\"ColumnDataSource\"}},\"id\":\"35cc58d0-9b6c-4754-8da4-ee093b194ddd\",\"type\":\"CDSView\"},{\"attributes\":{\"data_source\":{\"id\":\"e8a16c47-eefb-4962-9525-e2f42109b442\",\"type\":\"ColumnDataSource\"},\"glyph\":{\"id\":\"21b5fe31-3d94-4ab6-8486-339461b92d95\",\"type\":\"Line\"},\"hover_glyph\":null,\"muted_glyph\":null,\"nonselection_glyph\":{\"id\":\"cdb7dc84-51be-41e0-8456-cdee965a26b6\",\"type\":\"Line\"},\"selection_glyph\":null,\"view\":{\"id\":\"8f41354a-5c02-42b0-9ad7-02b7db84a1e5\",\"type\":\"CDSView\"}},\"id\":\"d768e7ed-52cd-4ff4-8047-9314fea952c6\",\"type\":\"GlyphRenderer\"},{\"attributes\":{\"overlay\":{\"id\":\"d86754e1-816f-4860-bd00-5cbf447c179e\",\"type\":\"BoxAnnotation\"}},\"id\":\"5a8126c4-bc92-4a01-bfd5-481a5c245a1f\",\"type\":\"BoxZoomTool\"},{\"attributes\":{\"plot\":null,\"text\":\"\"},\"id\":\"21a58f46-a485-4e0f-8bdf-7588e981fff6\",\"type\":\"Title\"},{\"attributes\":{\"items\":[{\"id\":\"e271bef0-3bac-4921-bf80-a055550df312\",\"type\":\"LegendItem\"},{\"id\":\"7982f273-9d37-4681-82b0-079762597e95\",\"type\":\"LegendItem\"},{\"id\":\"8d6550d3-d6d6-419a-b0da-894d45085836\",\"type\":\"LegendItem\"}],\"plot\":{\"id\":\"c7da6dbc-fcd1-4bdd-93bd-59dd6d4fa35a\",\"subtype\":\"Figure\",\"type\":\"Plot\"}},\"id\":\"5f9f1273-dbaf-48f6-b9f3-5ac0b58fb10b\",\"type\":\"Legend\"},{\"attributes\":{},\"id\":\"97271d55-7b89-477b-b77a-6b17262d90a1\",\"type\":\"UnionRenderers\"},{\"attributes\":{},\"id\":\"5e4153ed-0dfb-4260-a7c0-a8667ae2327d\",\"type\":\"Selection\"},{\"attributes\":{},\"id\":\"fc30fb8b-5986-4b25-95d9-1fa99cebf58a\",\"type\":\"UnionRenderers\"},{\"attributes\":{},\"id\":\"cfc5a1dd-6cfd-42cb-b797-6af9a512a5e9\",\"type\":\"Selection\"},{\"attributes\":{\"line_alpha\":0.5,\"line_color\":\"purple\",\"line_dash\":[6],\"line_width\":3,\"x\":{\"field\":\"x\"},\"y\":{\"field\":\"y\"}},\"id\":\"c7c45533-6cd7-48fc-ae23-e22f81b45f03\",\"type\":\"Line\"},{\"attributes\":{},\"id\":\"b1e1a125-e77e-4ffc-b2f5-ada42c95284f\",\"type\":\"LinearScale\"},{\"attributes\":{\"line_alpha\":0.1,\"line_color\":\"#1f77b4\",\"line_dash\":[6],\"line_width\":3,\"x\":{\"field\":\"x\"},\"y\":{\"field\":\"y\"}},\"id\":\"b1338c88-b51e-43be-a181-440fa3b8a2e2\",\"type\":\"Line\"},{\"attributes\":{\"callback\":null},\"id\":\"b32267e3-55b8-44e2-b80d-c39707e0bd6d\",\"type\":\"DataRange1d\"},{\"attributes\":{\"data_source\":{\"id\":\"d40cb951-caee-4a7a-9c09-1f2406228eee\",\"type\":\"ColumnDataSource\"},\"glyph\":{\"id\":\"c7c45533-6cd7-48fc-ae23-e22f81b45f03\",\"type\":\"Line\"},\"hover_glyph\":null,\"muted_glyph\":null,\"nonselection_glyph\":{\"id\":\"b1338c88-b51e-43be-a181-440fa3b8a2e2\",\"type\":\"Line\"},\"selection_glyph\":null,\"view\":{\"id\":\"35cc58d0-9b6c-4754-8da4-ee093b194ddd\",\"type\":\"CDSView\"}},\"id\":\"c4b0982e-be7b-46da-b92f-0d30bf6b0f1e\",\"type\":\"GlyphRenderer\"},{\"attributes\":{\"plot\":{\"id\":\"c7da6dbc-fcd1-4bdd-93bd-59dd6d4fa35a\",\"subtype\":\"Figure\",\"type\":\"Plot\"},\"ticker\":{\"id\":\"251d3e56-db1c-432a-93a4-ead16a480eb1\",\"type\":\"BasicTicker\"}},\"id\":\"6c44c883-2694-4a61-859f-d971f799710a\",\"type\":\"Grid\"},{\"attributes\":{\"source\":{\"id\":\"8333533a-2701-43b5-83e0-e8d74b4dc11c\",\"type\":\"ColumnDataSource\"}},\"id\":\"1ae85661-5a8b-4572-a5eb-3bec27b926e3\",\"type\":\"CDSView\"},{\"attributes\":{\"formatter\":{\"id\":\"64159f1f-be21-4c33-8d27-778c94e4cdc8\",\"type\":\"BasicTickFormatter\"},\"plot\":{\"id\":\"d15f0bd4-06c8-49e3-a072-c483403ddaae\",\"subtype\":\"Figure\",\"type\":\"Plot\"},\"ticker\":{\"id\":\"411a79e1-4eab-4b18-9e34-92b7268acfbb\",\"type\":\"BasicTicker\"}},\"id\":\"f352a906-223d-4c5b-af84-d2a88faa3c12\",\"type\":\"LinearAxis\"},{\"attributes\":{\"below\":[{\"id\":\"aba5f717-5558-4592-ab53-ac2d47fa76da\",\"type\":\"LinearAxis\"}],\"left\":[{\"id\":\"f352a906-223d-4c5b-af84-d2a88faa3c12\",\"type\":\"LinearAxis\"}],\"plot_height\":400,\"plot_width\":475,\"renderers\":[{\"id\":\"aba5f717-5558-4592-ab53-ac2d47fa76da\",\"type\":\"LinearAxis\"},{\"id\":\"d2f6f06e-ba91-443d-8575-fb71b3028cd2\",\"type\":\"Grid\"},{\"id\":\"f352a906-223d-4c5b-af84-d2a88faa3c12\",\"type\":\"LinearAxis\"},{\"id\":\"1365246e-4804-45fa-8506-403b9a95207c\",\"type\":\"Grid\"},{\"id\":\"2b64f1af-df5b-46e6-89eb-d11ea35aad55\",\"type\":\"BoxAnnotation\"},{\"id\":\"6eff9c47-8177-4dae-a988-a16d014ad81e\",\"type\":\"Legend\"},{\"id\":\"93ea88a4-4bd4-4500-b04f-4df4098c7995\",\"type\":\"GlyphRenderer\"},{\"id\":\"c4b0982e-be7b-46da-b92f-0d30bf6b0f1e\",\"type\":\"GlyphRenderer\"},{\"id\":\"90f3f89d-37f3-4024-a4ea-6933b006278a\",\"type\":\"GlyphRenderer\"}],\"title\":{\"id\":\"e0be6e82-e8a7-4e96-961e-fa94633accfc\",\"type\":\"Title\"},\"toolbar\":{\"id\":\"a65e1094-48f5-46d4-ae3e-565e743db9cf\",\"type\":\"Toolbar\"},\"toolbar_location\":\"below\",\"x_range\":{\"id\":\"1805ff7f-5a88-446b-a7e6-f6a6d3ba6932\",\"type\":\"DataRange1d\"},\"x_scale\":{\"id\":\"70addcad-8477-4680-8b0e-6a01685261d1\",\"type\":\"LinearScale\"},\"y_range\":{\"id\":\"b32267e3-55b8-44e2-b80d-c39707e0bd6d\",\"type\":\"DataRange1d\"},\"y_scale\":{\"id\":\"447d03a7-edc2-4efd-a45a-9b831593c2e2\",\"type\":\"LinearScale\"}},\"id\":\"d15f0bd4-06c8-49e3-a072-c483403ddaae\",\"subtype\":\"Figure\",\"type\":\"Plot\"},{\"attributes\":{\"active_drag\":\"auto\",\"active_inspect\":\"auto\",\"active_multi\":null,\"active_scroll\":\"auto\",\"active_tap\":\"auto\",\"tools\":[{\"id\":\"427fad11-6897-4d6e-8f39-06249a60e0ca\",\"type\":\"PanTool\"},{\"id\":\"9eef22ef-1de4-429e-b929-4539f471ae26\",\"type\":\"WheelZoomTool\"},{\"id\":\"5a8126c4-bc92-4a01-bfd5-481a5c245a1f\",\"type\":\"BoxZoomTool\"},{\"id\":\"b215d32e-2df9-4f3c-9d98-56fbe5d25774\",\"type\":\"SaveTool\"},{\"id\":\"7f296b6f-ce13-49ce-92cc-7835dba435af\",\"type\":\"ResetTool\"},{\"id\":\"48e30b59-b111-4b56-9315-081e7263f723\",\"type\":\"HelpTool\"}]},\"id\":\"2c104e60-1fef-4043-aa2c-5bba32e00139\",\"type\":\"Toolbar\"},{\"attributes\":{\"active_drag\":\"auto\",\"active_inspect\":\"auto\",\"active_multi\":null,\"active_scroll\":\"auto\",\"active_tap\":\"auto\",\"tools\":[{\"id\":\"c1d4cd5b-7340-45bd-82e4-5991cf63bd14\",\"type\":\"PanTool\"},{\"id\":\"218746c7-ae1f-43a2-b6b8-379701d7ff95\",\"type\":\"WheelZoomTool\"},{\"id\":\"32149639-230d-44d5-8027-fdff6735b108\",\"type\":\"BoxZoomTool\"},{\"id\":\"1a0254ac-a1d7-48c4-9700-22eed708e491\",\"type\":\"SaveTool\"},{\"id\":\"79769b23-417e-4161-a485-a1da0deecc1e\",\"type\":\"ResetTool\"},{\"id\":\"f5434aa8-fdf6-4126-9276-d44eacb05d1b\",\"type\":\"HelpTool\"}]},\"id\":\"a65e1094-48f5-46d4-ae3e-565e743db9cf\",\"type\":\"Toolbar\"},{\"attributes\":{},\"id\":\"3b785bc8-fea0-4707-9dd3-4ad728b99323\",\"type\":\"BasicTicker\"},{\"attributes\":{},\"id\":\"b215d32e-2df9-4f3c-9d98-56fbe5d25774\",\"type\":\"SaveTool\"},{\"attributes\":{},\"id\":\"70addcad-8477-4680-8b0e-6a01685261d1\",\"type\":\"LinearScale\"},{\"attributes\":{\"plot\":null,\"text\":\"\"},\"id\":\"e0be6e82-e8a7-4e96-961e-fa94633accfc\",\"type\":\"Title\"},{\"attributes\":{\"data_source\":{\"id\":\"4264a2cf-2174-44f9-999c-affc7af24f67\",\"type\":\"ColumnDataSource\"},\"glyph\":{\"id\":\"5666b63a-f9ad-46ad-aeba-e3e2c5574a1b\",\"type\":\"Line\"},\"hover_glyph\":null,\"muted_glyph\":null,\"nonselection_glyph\":{\"id\":\"b130d070-370e-4922-a391-1d02ac592216\",\"type\":\"Line\"},\"selection_glyph\":null,\"view\":{\"id\":\"b4b6edad-dfbd-4288-8e45-6aa76a5d58e5\",\"type\":\"CDSView\"}},\"id\":\"954eed21-32f6-4f7d-90b3-471bf3291bd9\",\"type\":\"GlyphRenderer\"},{\"attributes\":{\"callback\":null},\"id\":\"1805ff7f-5a88-446b-a7e6-f6a6d3ba6932\",\"type\":\"DataRange1d\"},{\"attributes\":{},\"id\":\"0c4f4519-bdf5-4a1a-99b3-9b8fce392a7b\",\"type\":\"LinearScale\"},{\"attributes\":{\"line_alpha\":0.1,\"line_color\":\"#1f77b4\",\"line_dash\":[6],\"line_width\":3,\"x\":{\"field\":\"x\"},\"y\":{\"field\":\"y\"}},\"id\":\"1cbe0288-edd1-410f-bc5d-9cefc77afdb0\",\"type\":\"Line\"},{\"attributes\":{},\"id\":\"48e30b59-b111-4b56-9315-081e7263f723\",\"type\":\"HelpTool\"},{\"attributes\":{\"source\":{\"id\":\"5e26c088-373b-45ae-90c7-c4c03b86afd6\",\"type\":\"ColumnDataSource\"}},\"id\":\"412a1cb9-257d-40d2-91fb-b9c2ddcc1cf6\",\"type\":\"CDSView\"},{\"attributes\":{},\"id\":\"7f296b6f-ce13-49ce-92cc-7835dba435af\",\"type\":\"ResetTool\"},{\"attributes\":{\"axis_label\":\"X\",\"formatter\":{\"id\":\"599ba103-0560-4826-bb38-fc41f4737dfb\",\"type\":\"BasicTickFormatter\"},\"plot\":{\"id\":\"d15f0bd4-06c8-49e3-a072-c483403ddaae\",\"subtype\":\"Figure\",\"type\":\"Plot\"},\"ticker\":{\"id\":\"3b785bc8-fea0-4707-9dd3-4ad728b99323\",\"type\":\"BasicTicker\"}},\"id\":\"aba5f717-5558-4592-ab53-ac2d47fa76da\",\"type\":\"LinearAxis\"},{\"attributes\":{},\"id\":\"b02782cb-66b3-4c89-9e1c-ee0cc80cf60d\",\"type\":\"BasicTickFormatter\"},{\"attributes\":{\"bottom_units\":\"screen\",\"fill_alpha\":{\"value\":0.5},\"fill_color\":{\"value\":\"lightgrey\"},\"left_units\":\"screen\",\"level\":\"overlay\",\"line_alpha\":{\"value\":1.0},\"line_color\":{\"value\":\"black\"},\"line_dash\":[4,4],\"line_width\":{\"value\":2},\"plot\":null,\"render_mode\":\"css\",\"right_units\":\"screen\",\"top_units\":\"screen\"},\"id\":\"2b64f1af-df5b-46e6-89eb-d11ea35aad55\",\"type\":\"BoxAnnotation\"},{\"attributes\":{\"source\":{\"id\":\"4264a2cf-2174-44f9-999c-affc7af24f67\",\"type\":\"ColumnDataSource\"}},\"id\":\"b4b6edad-dfbd-4288-8e45-6aa76a5d58e5\",\"type\":\"CDSView\"},{\"attributes\":{\"callback\":null},\"id\":\"8d6b8c44-a0f4-4299-a446-da2b613271e1\",\"type\":\"DataRange1d\"},{\"attributes\":{\"callback\":null,\"data\":{\"x\":{\"__ndarray__\":\"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\",\"dtype\":\"float64\",\"shape\":[1001]},\"y\":{\"__ndarray__\":\"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\",\"dtype\":\"float64\",\"shape\":[1001]}},\"selected\":{\"id\":\"c653cef1-5ad4-4455-921a-1a247ccaa0a0\",\"type\":\"Selection\"},\"selection_policy\":{\"id\":\"b745faf8-66da-4751-b220-3e20f3fc909d\",\"type\":\"UnionRenderers\"}},\"id\":\"8045a6a5-28de-442f-82da-cad280fe39c2\",\"type\":\"ColumnDataSource\"},{\"attributes\":{\"callback\":null,\"data\":{\"x\":{\"__ndarray__\":\"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\",\"dtype\":\"float64\",\"shape\":[1001]},\"y\":{\"__ndarray__\":\"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\",\"dtype\":\"float64\",\"shape\":[1001]}},\"selected\":{\"id\":\"50026987-3e15-4e46-a636-2c12534726af\",\"type\":\"Selection\"},\"selection_policy\":{\"id\":\"2e975498-7692-4e25-9436-70c7204e2d2a\",\"type\":\"UnionRenderers\"}},\"id\":\"d40cb951-caee-4a7a-9c09-1f2406228eee\",\"type\":\"ColumnDataSource\"},{\"attributes\":{\"bottom_units\":\"screen\",\"fill_alpha\":{\"value\":0.5},\"fill_color\":{\"value\":\"lightgrey\"},\"left_units\":\"screen\",\"level\":\"overlay\",\"line_alpha\":{\"value\":1.0},\"line_color\":{\"value\":\"black\"},\"line_dash\":[4,4],\"line_width\":{\"value\":2},\"plot\":null,\"render_mode\":\"css\",\"right_units\":\"screen\",\"top_units\":\"screen\"},\"id\":\"d86754e1-816f-4860-bd00-5cbf447c179e\",\"type\":\"BoxAnnotation\"},{\"attributes\":{},\"id\":\"447d03a7-edc2-4efd-a45a-9b831593c2e2\",\"type\":\"LinearScale\"},{\"attributes\":{\"line_alpha\":0.5,\"line_color\":\"steelblue\",\"line_width\":3,\"x\":{\"field\":\"x\"},\"y\":{\"field\":\"y\"}},\"id\":\"21b5fe31-3d94-4ab6-8486-339461b92d95\",\"type\":\"Line\"},{\"attributes\":{\"callback\":null,\"data\":{\"x\":{\"__ndarray__\":\"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\",\"dtype\":\"float64\",\"shape\":[1001]},\"y\":{\"__ndarray__\":\"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\",\"dtype\":\"float64\",\"shape\":[1001]}},\"selected\":{\"id\":\"a7e07315-f390-4620-aac6-8862f3350d07\",\"type\":\"Selection\"},\"selection_policy\":{\"id\":\"ff9140c9-9b20-4120-a5c5-c74f775109ab\",\"type\":\"UnionRenderers\"}},\"id\":\"8333533a-2701-43b5-83e0-e8d74b4dc11c\",\"type\":\"ColumnDataSource\"},{\"attributes\":{\"plot\":{\"id\":\"d15f0bd4-06c8-49e3-a072-c483403ddaae\",\"subtype\":\"Figure\",\"type\":\"Plot\"},\"ticker\":{\"id\":\"3b785bc8-fea0-4707-9dd3-4ad728b99323\",\"type\":\"BasicTicker\"}},\"id\":\"d2f6f06e-ba91-443d-8575-fb71b3028cd2\",\"type\":\"Grid\"},{\"attributes\":{\"label\":{\"value\":\"g(x)\"},\"renderers\":[{\"id\":\"d768e7ed-52cd-4ff4-8047-9314fea952c6\",\"type\":\"GlyphRenderer\"}]},\"id\":\"e271bef0-3bac-4921-bf80-a055550df312\",\"type\":\"LegendItem\"},{\"attributes\":{\"overlay\":{\"id\":\"2b64f1af-df5b-46e6-89eb-d11ea35aad55\",\"type\":\"BoxAnnotation\"}},\"id\":\"32149639-230d-44d5-8027-fdff6735b108\",\"type\":\"BoxZoomTool\"},{\"attributes\":{},\"id\":\"9eef22ef-1de4-429e-b929-4539f471ae26\",\"type\":\"WheelZoomTool\"},{\"attributes\":{\"line_alpha\":0.5,\"line_color\":\"steelblue\",\"line_dash\":[6],\"line_width\":3,\"x\":{\"field\":\"x\"},\"y\":{\"field\":\"y\"}},\"id\":\"a4385f7f-ad05-4279-89a9-069cf4eccef0\",\"type\":\"Line\"},{\"attributes\":{},\"id\":\"86039609-65f7-42f5-a650-2c8abe3080f5\",\"type\":\"BasicTicker\"},{\"attributes\":{\"data_source\":{\"id\":\"5e26c088-373b-45ae-90c7-c4c03b86afd6\",\"type\":\"ColumnDataSource\"},\"glyph\":{\"id\":\"a4385f7f-ad05-4279-89a9-069cf4eccef0\",\"type\":\"Line\"},\"hover_glyph\":null,\"muted_glyph\":null,\"nonselection_glyph\":{\"id\":\"1cbe0288-edd1-410f-bc5d-9cefc77afdb0\",\"type\":\"Line\"},\"selection_glyph\":null,\"view\":{\"id\":\"412a1cb9-257d-40d2-91fb-b9c2ddcc1cf6\",\"type\":\"CDSView\"}},\"id\":\"93ea88a4-4bd4-4500-b04f-4df4098c7995\",\"type\":\"GlyphRenderer\"},{\"attributes\":{},\"id\":\"427fad11-6897-4d6e-8f39-06249a60e0ca\",\"type\":\"PanTool\"},{\"attributes\":{},\"id\":\"411a79e1-4eab-4b18-9e34-92b7268acfbb\",\"type\":\"BasicTicker\"},{\"attributes\":{\"line_alpha\":0.5,\"line_color\":\"red\",\"line_width\":3,\"x\":{\"field\":\"x\"},\"y\":{\"field\":\"y\"}},\"id\":\"5666b63a-f9ad-46ad-aeba-e3e2c5574a1b\",\"type\":\"Line\"},{\"attributes\":{\"dimension\":1,\"plot\":{\"id\":\"d15f0bd4-06c8-49e3-a072-c483403ddaae\",\"subtype\":\"Figure\",\"type\":\"Plot\"},\"ticker\":{\"id\":\"411a79e1-4eab-4b18-9e34-92b7268acfbb\",\"type\":\"BasicTicker\"}},\"id\":\"1365246e-4804-45fa-8506-403b9a95207c\",\"type\":\"Grid\"},{\"attributes\":{\"callback\":null,\"data\":{\"x\":{\"__ndarray__\":\"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\",\"dtype\":\"float64\",\"shape\":[1001]},\"y\":{\"__ndarray__\":\"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\",\"dtype\":\"float64\",\"shape\":[1001]}},\"selected\":{\"id\":\"5e4153ed-0dfb-4260-a7c0-a8667ae2327d\",\"type\":\"Selection\"},\"selection_policy\":{\"id\":\"fc30fb8b-5986-4b25-95d9-1fa99cebf58a\",\"type\":\"UnionRenderers\"}},\"id\":\"4264a2cf-2174-44f9-999c-affc7af24f67\",\"type\":\"ColumnDataSource\"},{\"attributes\":{\"items\":[{\"id\":\"181ac4cf-15e2-45eb-8aff-87b534f20e1b\",\"type\":\"LegendItem\"},{\"id\":\"31af03d2-540c-4530-ab34-8b81973d4647\",\"type\":\"LegendItem\"},{\"id\":\"4fb22ef6-a33f-4e6d-943c-09133c76eaea\",\"type\":\"LegendItem\"}],\"plot\":{\"id\":\"d15f0bd4-06c8-49e3-a072-c483403ddaae\",\"subtype\":\"Figure\",\"type\":\"Plot\"}},\"id\":\"6eff9c47-8177-4dae-a988-a16d014ad81e\",\"type\":\"Legend\"},{\"attributes\":{\"line_alpha\":0.1,\"line_color\":\"#1f77b4\",\"line_width\":3,\"x\":{\"field\":\"x\"},\"y\":{\"field\":\"y\"}},\"id\":\"695712d3-346f-4267-be11-7f1c53f379f0\",\"type\":\"Line\"},{\"attributes\":{},\"id\":\"218746c7-ae1f-43a2-b6b8-379701d7ff95\",\"type\":\"WheelZoomTool\"},{\"attributes\":{\"dimension\":1,\"plot\":{\"id\":\"c7da6dbc-fcd1-4bdd-93bd-59dd6d4fa35a\",\"subtype\":\"Figure\",\"type\":\"Plot\"},\"ticker\":{\"id\":\"86039609-65f7-42f5-a650-2c8abe3080f5\",\"type\":\"BasicTicker\"}},\"id\":\"36cc20fa-b3ad-4ad4-a1f7-b1e6fa7814f0\",\"type\":\"Grid\"},{\"attributes\":{},\"id\":\"c1d4cd5b-7340-45bd-82e4-5991cf63bd14\",\"type\":\"PanTool\"},{\"attributes\":{},\"id\":\"251d3e56-db1c-432a-93a4-ead16a480eb1\",\"type\":\"BasicTicker\"},{\"attributes\":{\"label\":{\"value\":\"g'(x)\"},\"renderers\":[{\"id\":\"93ea88a4-4bd4-4500-b04f-4df4098c7995\",\"type\":\"GlyphRenderer\"}]},\"id\":\"181ac4cf-15e2-45eb-8aff-87b534f20e1b\",\"type\":\"LegendItem\"},{\"attributes\":{\"line_alpha\":0.1,\"line_color\":\"#1f77b4\",\"line_width\":3,\"x\":{\"field\":\"x\"},\"y\":{\"field\":\"y\"}},\"id\":\"b130d070-370e-4922-a391-1d02ac592216\",\"type\":\"Line\"},{\"attributes\":{},\"id\":\"f5434aa8-fdf6-4126-9276-d44eacb05d1b\",\"type\":\"HelpTool\"},{\"attributes\":{\"formatter\":{\"id\":\"b02782cb-66b3-4c89-9e1c-ee0cc80cf60d\",\"type\":\"BasicTickFormatter\"},\"plot\":{\"id\":\"c7da6dbc-fcd1-4bdd-93bd-59dd6d4fa35a\",\"subtype\":\"Figure\",\"type\":\"Plot\"},\"ticker\":{\"id\":\"86039609-65f7-42f5-a650-2c8abe3080f5\",\"type\":\"BasicTicker\"}},\"id\":\"b348ad25-9d2b-4c77-b68d-4a6ad5395edf\",\"type\":\"LinearAxis\"},{\"attributes\":{},\"id\":\"79769b23-417e-4161-a485-a1da0deecc1e\",\"type\":\"ResetTool\"},{\"attributes\":{},\"id\":\"de7d8b4b-62e4-4aad-902e-1d2e058d56ab\",\"type\":\"UnionRenderers\"},{\"attributes\":{},\"id\":\"599ba103-0560-4826-bb38-fc41f4737dfb\",\"type\":\"BasicTickFormatter\"},{\"attributes\":{},\"id\":\"1a0254ac-a1d7-48c4-9700-22eed708e491\",\"type\":\"SaveTool\"}],\"root_ids\":[\"ab7a8cb3-ce49-42c7-832c-2f4606e6d5d6\"]},\"title\":\"Bokeh Application\",\"version\":\"0.13.0\"}};\n",
       "  var render_items = [{\"docid\":\"71ac139e-f712-4662-b442-82b6fbe351b6\",\"roots\":{\"ab7a8cb3-ce49-42c7-832c-2f4606e6d5d6\":\"a9c53022-49d2-480a-9efe-9bb8e33e0835\"}}];\n",
       "  root.Bokeh.embed.embed_items_notebook(docs_json, render_items);\n",
       "\n",
       "  }\n",
       "  if (root.Bokeh !== undefined) {\n",
       "    embed_document(root);\n",
       "  } else {\n",
       "    var attempts = 0;\n",
       "    var timer = setInterval(function(root) {\n",
       "      if (root.Bokeh !== undefined) {\n",
       "        embed_document(root);\n",
       "        clearInterval(timer);\n",
       "      }\n",
       "      attempts++;\n",
       "      if (attempts > 100) {\n",
       "        console.log(\"Bokeh: ERROR: Unable to run BokehJS code because BokehJS library is missing\")\n",
       "        clearInterval(timer);\n",
       "      }\n",
       "    }, 10, root)\n",
       "  }\n",
       "})(window);"
      ],
      "application/vnd.bokehjs_exec.v0+json": ""
     },
     "metadata": {
      "application/vnd.bokehjs_exec.v0+json": {
       "id": "ab7a8cb3-ce49-42c7-832c-2f4606e6d5d6"
      }
     },
     "output_type": "display_data"
    }
   ],
   "source": [
    "# Show graphically\n",
    "\n",
    "x = np.arange(-5,5 + .01 , .01)\n",
    "\n",
    "# Plot functional forms\n",
    "p1 = plot(475,400,y='')\n",
    "p1.line(x,g(x),color='steelblue',legend='g(x)',line_width=3,alpha=.5)\n",
    "p1.line(x,f(x),color='red',legend=\"f(x)\",line_width=3,alpha=.5)\n",
    "p1.line(x,f(g(x)),color='purple',legend='f(g(x))',line_width=3,alpha=.5)\n",
    "\n",
    "\n",
    "\n",
    "\n",
    "# Define composite function\n",
    "def F(x):\n",
    "    '''Composite function of f and g'''\n",
    "    return f(g(x))\n",
    "\n",
    "# Plot derivatives\n",
    "p2 = plot(475,400,y='')\n",
    "p2.line(x,deriv(x,func=g,nudge=.001),color='steelblue',\n",
    "       line_dash=\"dashed\",\n",
    "       legend=\"g'(x)\",\n",
    "       line_width=3,alpha=.5)\n",
    "p2.line(x,deriv(g(x),func=f,nudge=.001),color='purple',\n",
    "       line_dash=\"dashed\",\n",
    "       legend=\"f'(g(x))\",\n",
    "       line_width=3,alpha=.5)\n",
    "p2.line(x,F(x),color='grey',\n",
    "        line_dash=\"dashed\",\n",
    "        line_width=3,alpha=.5,\n",
    "        legend=\"F'(x) = f'(g(x))g'(x)\")\n",
    "show(row(p1,p2))"
   ]
  },
  {
   "cell_type": "markdown",
   "metadata": {},
   "source": [
    "# The Exponential Rule"
   ]
  },
  {
   "cell_type": "markdown",
   "metadata": {},
   "source": [
    "### Rule\n",
    "\n",
    "<br>\n",
    "<br>\n",
    "\n",
    "$$ f(x) = e^x $$\n",
    "\n",
    "<br>\n",
    "<br>\n",
    "\n",
    "$$ f'(x) = e^x $$\n",
    "\n",
    "<br>\n",
    "<br>"
   ]
  },
  {
   "cell_type": "markdown",
   "metadata": {},
   "source": [
    "### Derivation\n",
    "\n",
    "<br>\n",
    "<br>\n",
    "\n",
    "$$ f'(x) = \\lim_{h \\to0} \\frac{e^{x+h} - e^x}{h} $$\n",
    "\n",
    "<br>\n",
    "<br>\n",
    "\n",
    "$$ \\lim_{h \\to0} \\frac{e^{x}e^{h} - e^x}{h} $$\n",
    "\n",
    "<br>\n",
    "<br>\n",
    "\n",
    "Factor out $e^{x}$\n",
    "\n",
    "<br>\n",
    "<br>\n",
    "\n",
    "$$ e^{x} \\lim_{h \\to0} \\frac{e^{h} - 1}{h} $$\n",
    "\n",
    "<br>\n",
    "<br>\n",
    "\n",
    "$\\frac{e^{h} - 1}{h}$ converges to $1$ in the limit (see reading), leaving\n",
    "\n",
    "\n",
    "<br>\n",
    "<br>\n",
    "\n",
    "$$ e^{x} $$\n",
    "\n",
    "\n",
    "<br>\n",
    "<br>"
   ]
  },
  {
   "cell_type": "code",
   "execution_count": 15,
   "metadata": {},
   "outputs": [
    {
     "name": "stdout",
     "output_type": "stream",
     "text": [
      "1.005016708416795\n",
      "1.0005001667083846\n",
      "1.000005000006965\n",
      "1.0000000494336803\n"
     ]
    }
   ],
   "source": [
    "# Non-rigorous but a computational proof of this\n",
    "for h in [.01,.001,.00001,.0000001]:\n",
    "    print((np.exp(h)-1)/h)"
   ]
  },
  {
   "cell_type": "markdown",
   "metadata": {},
   "source": [
    "### Intuition\n",
    "\n",
    "This isn't as much an intuition as watching the function behave when we nudge it."
   ]
  },
  {
   "cell_type": "code",
   "execution_count": 16,
   "metadata": {},
   "outputs": [
    {
     "data": {
      "text/html": [
       "\n",
       "\n",
       "\n",
       "\n",
       "\n",
       "\n",
       "  <div class=\"bk-root\" id=\"c910d32a-3d5f-43de-9f92-b6981af45366\"></div>\n"
      ]
     },
     "metadata": {},
     "output_type": "display_data"
    },
    {
     "data": {
      "application/javascript": [
       "(function(root) {\n",
       "  function embed_document(root) {\n",
       "    \n",
       "  var docs_json = {\"1290bd6d-1030-4f4b-9a9c-9665aea991a2\":{\"roots\":{\"references\":[{\"attributes\":{},\"id\":\"d7148633-e56e-4080-b8e9-899145f77f31\",\"type\":\"UnionRenderers\"},{\"attributes\":{\"active_drag\":\"auto\",\"active_inspect\":\"auto\",\"active_multi\":null,\"active_scroll\":\"auto\",\"active_tap\":\"auto\",\"tools\":[{\"id\":\"07577a8c-a984-40ab-b442-3a098c9b51bf\",\"type\":\"PanTool\"},{\"id\":\"b6239f6e-6381-4b31-8d9d-ccd882c252ab\",\"type\":\"WheelZoomTool\"},{\"id\":\"9f3df086-5be1-4282-87f4-88b11b2b532e\",\"type\":\"BoxZoomTool\"},{\"id\":\"8f4afc63-e500-47ec-b6b4-eab8631ad4e4\",\"type\":\"SaveTool\"},{\"id\":\"44ab65f8-07b4-4434-a388-c8d4688865ef\",\"type\":\"ResetTool\"},{\"id\":\"1f4d6ea4-99ab-43c3-8b14-490a21b104c8\",\"type\":\"HelpTool\"}]},\"id\":\"b221e8c7-c821-440d-8dc7-a8b0ae95c360\",\"type\":\"Toolbar\"},{\"attributes\":{},\"id\":\"8f4afc63-e500-47ec-b6b4-eab8631ad4e4\",\"type\":\"SaveTool\"},{\"attributes\":{\"line_alpha\":0.4,\"line_color\":\"red\",\"line_width\":6,\"x\":{\"field\":\"x\"},\"y\":{\"field\":\"y\"}},\"id\":\"332c1fdf-3585-41de-bc7d-ea06af81ac22\",\"type\":\"Line\"},{\"attributes\":{\"overlay\":{\"id\":\"31111416-e1d9-454c-93cc-880fd69f7518\",\"type\":\"BoxAnnotation\"}},\"id\":\"9f3df086-5be1-4282-87f4-88b11b2b532e\",\"type\":\"BoxZoomTool\"},{\"attributes\":{\"data_source\":{\"id\":\"95f62863-56c2-4c01-9250-fa108f172c37\",\"type\":\"ColumnDataSource\"},\"glyph\":{\"id\":\"3bf89af4-76d6-41c5-9f17-5a4f66203793\",\"type\":\"Line\"},\"hover_glyph\":null,\"muted_glyph\":null,\"nonselection_glyph\":{\"id\":\"4fed5e98-5b99-4cb6-8669-cebf1cf60afb\",\"type\":\"Line\"},\"selection_glyph\":null,\"view\":{\"id\":\"1892258e-d962-4146-89de-501d519ac8c3\",\"type\":\"CDSView\"}},\"id\":\"9af6b07f-ccf4-456b-8e1c-e6fa747c81cd\",\"type\":\"GlyphRenderer\"},{\"attributes\":{},\"id\":\"44ab65f8-07b4-4434-a388-c8d4688865ef\",\"type\":\"ResetTool\"},{\"attributes\":{\"dimension\":1,\"plot\":{\"id\":\"ad30c78d-b958-4122-9d3e-649c710b9382\",\"subtype\":\"Figure\",\"type\":\"Plot\"},\"ticker\":{\"id\":\"8e0c3934-a29b-4275-8106-8612cf083cd7\",\"type\":\"BasicTicker\"}},\"id\":\"9253b13a-ffa6-47de-8d7a-2cb99cfdf063\",\"type\":\"Grid\"},{\"attributes\":{},\"id\":\"07577a8c-a984-40ab-b442-3a098c9b51bf\",\"type\":\"PanTool\"},{\"attributes\":{\"source\":{\"id\":\"95f62863-56c2-4c01-9250-fa108f172c37\",\"type\":\"ColumnDataSource\"}},\"id\":\"1892258e-d962-4146-89de-501d519ac8c3\",\"type\":\"CDSView\"},{\"attributes\":{\"callback\":null,\"data\":{\"x\":{\"__ndarray__\":\"AAAAAAAAFMCamZmZmZkTwDQzMzMzMxPAzszMzMzMEsBoZmZmZmYSwAIAAAAAABLAnJmZmZmZEcA2MzMzMzMRwNDMzMzMzBDAamZmZmZmEMAEAAAAAAAQwDwzMzMzMw/AcGZmZmZmDsCkmZmZmZkNwNjMzMzMzAzADAAAAAAADMBAMzMzMzMLwHRmZmZmZgrAqJmZmZmZCcDczMzMzMwIwBAAAAAAAAjARDMzMzMzB8B4ZmZmZmYGwKyZmZmZmQXA4MzMzMzMBMAUAAAAAAAEwEgzMzMzMwPAfGZmZmZmAsCwmZmZmZkBwOTMzMzMzADAGAAAAAAAAMCYZmZmZmb+vwDNzMzMzPy/aDMzMzMz+7/QmZmZmZn5vzgAAAAAAPi/oGZmZmZm9r8IzczMzMz0v3AzMzMzM/O/2JmZmZmZ8b9AAAAAAADwv1DNzMzMzOy/IJqZmZmZ6b/wZmZmZmbmv8AzMzMzM+O/kAAAAAAA4L/AmpmZmZnZv2A0MzMzM9O/AJyZmZmZyb+AnpmZmZm5vwAAAAAAABS9gJSZmZmZuT8Al5mZmZnJP+AxMzMzM9M/QJiZmZmZ2T+g/v/////fP4AyMzMzM+M/sGVmZmZm5j/gmJmZmZnpPxDMzMzMzOw/QP//////7z84mZmZmZnxP9AyMzMzM/M/aMzMzMzM9D8AZmZmZmb2P5j///////c/MJmZmZmZ+T/IMjMzMzP7P2DMzMzMzPw/+GVmZmZm/j+Q////////P5TMzMzMzABAYJmZmZmZAUAsZmZmZmYCQPgyMzMzMwNAxP//////A0CQzMzMzMwEQFyZmZmZmQVAKGZmZmZmBkD0MjMzMzMHQMD//////wdAjMzMzMzMCEBYmZmZmZkJQCRmZmZmZgpA8DIzMzMzC0C8//////8LQIjMzMzMzAxAVJmZmZmZDUAgZmZmZmYOQOwyMzMzMw9AuP//////D0BCZmZmZmYQQKjMzMzMzBBADjMzMzMzEUB0mZmZmZkRQNr//////xFAQGZmZmZmEkCmzMzMzMwSQAwzMzMzMxNAcpmZmZmZE0DY//////8TQA==\",\"dtype\":\"float64\",\"shape\":[101]},\"y\":{\"__ndarray__\":\"cMJWh8icez8IZg+4NoR+Pxiwjmzq3IA/kDBeAe6igj/4vBpZsZiEP8BMUwk6w4Y/eORX3BQoiT/4/noJZM2LP9AxLOzuuY4/2PAXsZn6kD+Y8bl+vMOSP6h9Vx3zvJQ/AE6S+Uvrlj/oys+iXVSZP3hHghxV/ps/GNXtsAXwnj/Abfk2fRihP/hbVrzE5KI/eHe0tHThpD9gLVhzpBOnP6D37l30gKk/iOUMV5wvrD/IDMyseyavP+j2L1qVNrE/4MvcHwcGsz+gKYyPNga1P7hg0PJDPLc/IAjwltmtuT+AJsRQOmG8P4huY4dRXb8/ADZad+JUwT+goakPhCfDP/jj/h45K8U/oP4A9Splxz/AKf/XDdvJPxhfXKIvk8w/+KZ36YeUzz+46rnrZHPRP6BmzfI7SdM/uB701HxQ1T+IMcz3WY7XPzDPO6yRCNo/iLCW5XzF3D8IifV8H8zfP0j4NBUdkuE/aBkOMS9r4z+AxhskAnblP0DC8XnRt+c/6D66n2U26j8Y5UK1IvjsPyB7enYMAvA/OJJWUgux8T8IaugyXo3zP1iz73/Jm/U/+I4Q+5Hh9z+gc4U/imT6P5hQQa0hK/0/0IDdcjoeAEC4UVACMNABQMjqkGHJrwNAWAS1XNPBBUBoJaj7mwsIQCCboBkAkwpAOKGEanpeDUBYBV4KmjoQQDhq+4SL7xFAAGT1JnHSE0DYjn0vIOgVQFhNGv3vNRhAAOsIvcfBGkAo4xOLLZIdQJDgTpQrVyBASNLZOh4PIkAgIL7tVfUjQHgqKW6wDiZAiIOsgY5gKECgQre54fAqQNBBDK47xi1AyKWcaO9zMEA4TReF6C4yQAAsTyF4GDRAeENnj4Q1NkCom4kMeIs4QKALoqBOIDtAuP+ic6X6PUCwoc7f5ZBAQPC+isXqTkJAeIvJLdg7REDYIrgKnVxGQLBSwyGttkhAUMi+Aw9QS0AQfid9ay9OQKgaCFMPrlBAAE23XiVvUkAwuAyAdl9UQLCAblj6g1ZA8OxTRi7iWECI5AN2I4BbQMDaBG2OZF5AQAwJHGzLYECIXM2zmI9iQA==\",\"dtype\":\"float64\",\"shape\":[101]}},\"selected\":{\"id\":\"57df08df-370a-4399-b846-005f13c08b51\",\"type\":\"Selection\"},\"selection_policy\":{\"id\":\"c0db5bdd-e618-49f2-a39e-519be524f03a\",\"type\":\"UnionRenderers\"}},\"id\":\"7886c74c-7d3e-482c-9ebc-98f123308c11\",\"type\":\"ColumnDataSource\"},{\"attributes\":{},\"id\":\"57df08df-370a-4399-b846-005f13c08b51\",\"type\":\"Selection\"},{\"attributes\":{\"callback\":null},\"id\":\"2c46af16-6c27-4e46-9aca-d93bad24cce1\",\"type\":\"DataRange1d\"},{\"attributes\":{\"below\":[{\"id\":\"327de1d5-c10d-40cc-85b7-93dac40acc2e\",\"type\":\"LinearAxis\"}],\"left\":[{\"id\":\"fb837b62-5eac-4330-8893-700c28f79824\",\"type\":\"LinearAxis\"}],\"plot_height\":300,\"plot_width\":950,\"renderers\":[{\"id\":\"327de1d5-c10d-40cc-85b7-93dac40acc2e\",\"type\":\"LinearAxis\"},{\"id\":\"1918dda3-d792-4cbf-ae56-fcf5e7a5c3b8\",\"type\":\"Grid\"},{\"id\":\"fb837b62-5eac-4330-8893-700c28f79824\",\"type\":\"LinearAxis\"},{\"id\":\"9253b13a-ffa6-47de-8d7a-2cb99cfdf063\",\"type\":\"Grid\"},{\"id\":\"31111416-e1d9-454c-93cc-880fd69f7518\",\"type\":\"BoxAnnotation\"},{\"id\":\"9af6b07f-ccf4-456b-8e1c-e6fa747c81cd\",\"type\":\"GlyphRenderer\"},{\"id\":\"9af96223-79b4-4de5-818c-e540243744b3\",\"type\":\"GlyphRenderer\"}],\"title\":{\"id\":\"cdd44da9-ed36-4ee7-b46b-ffdb05dd25ac\",\"type\":\"Title\"},\"toolbar\":{\"id\":\"b221e8c7-c821-440d-8dc7-a8b0ae95c360\",\"type\":\"Toolbar\"},\"toolbar_location\":\"below\",\"x_range\":{\"id\":\"eae9fb31-d3a9-482d-b957-682942ef7c48\",\"type\":\"DataRange1d\"},\"x_scale\":{\"id\":\"eab40bba-d122-47ba-9abe-fc022d1dd8e1\",\"type\":\"LinearScale\"},\"y_range\":{\"id\":\"2c46af16-6c27-4e46-9aca-d93bad24cce1\",\"type\":\"DataRange1d\"},\"y_scale\":{\"id\":\"2cb07d0a-cfef-4783-8319-833175f190ca\",\"type\":\"LinearScale\"}},\"id\":\"ad30c78d-b958-4122-9d3e-649c710b9382\",\"subtype\":\"Figure\",\"type\":\"Plot\"},{\"attributes\":{},\"id\":\"f00e4f76-7563-43a9-b521-4b486b8b1b70\",\"type\":\"BasicTickFormatter\"},{\"attributes\":{},\"id\":\"0320537e-ac3a-4a99-a0bb-5a4e92cdd066\",\"type\":\"BasicTickFormatter\"},{\"attributes\":{},\"id\":\"2cb07d0a-cfef-4783-8319-833175f190ca\",\"type\":\"LinearScale\"},{\"attributes\":{},\"id\":\"eab40bba-d122-47ba-9abe-fc022d1dd8e1\",\"type\":\"LinearScale\"},{\"attributes\":{\"callback\":null},\"id\":\"eae9fb31-d3a9-482d-b957-682942ef7c48\",\"type\":\"DataRange1d\"},{\"attributes\":{},\"id\":\"0fb33d48-41bd-4c66-8fe9-9af3745a30db\",\"type\":\"Selection\"},{\"attributes\":{},\"id\":\"8e0c3934-a29b-4275-8106-8612cf083cd7\",\"type\":\"BasicTicker\"},{\"attributes\":{},\"id\":\"b6239f6e-6381-4b31-8d9d-ccd882c252ab\",\"type\":\"WheelZoomTool\"},{\"attributes\":{\"axis_label\":\"f(X)\",\"formatter\":{\"id\":\"f00e4f76-7563-43a9-b521-4b486b8b1b70\",\"type\":\"BasicTickFormatter\"},\"plot\":{\"id\":\"ad30c78d-b958-4122-9d3e-649c710b9382\",\"subtype\":\"Figure\",\"type\":\"Plot\"},\"ticker\":{\"id\":\"8e0c3934-a29b-4275-8106-8612cf083cd7\",\"type\":\"BasicTicker\"}},\"id\":\"fb837b62-5eac-4330-8893-700c28f79824\",\"type\":\"LinearAxis\"},{\"attributes\":{\"axis_label\":\"X\",\"formatter\":{\"id\":\"0320537e-ac3a-4a99-a0bb-5a4e92cdd066\",\"type\":\"BasicTickFormatter\"},\"plot\":{\"id\":\"ad30c78d-b958-4122-9d3e-649c710b9382\",\"subtype\":\"Figure\",\"type\":\"Plot\"},\"ticker\":{\"id\":\"83fc928f-2641-483f-8bef-c68d5edfc94d\",\"type\":\"BasicTicker\"}},\"id\":\"327de1d5-c10d-40cc-85b7-93dac40acc2e\",\"type\":\"LinearAxis\"},{\"attributes\":{\"plot\":{\"id\":\"ad30c78d-b958-4122-9d3e-649c710b9382\",\"subtype\":\"Figure\",\"type\":\"Plot\"},\"ticker\":{\"id\":\"83fc928f-2641-483f-8bef-c68d5edfc94d\",\"type\":\"BasicTicker\"}},\"id\":\"1918dda3-d792-4cbf-ae56-fcf5e7a5c3b8\",\"type\":\"Grid\"},{\"attributes\":{\"plot\":null,\"text\":\"\"},\"id\":\"cdd44da9-ed36-4ee7-b46b-ffdb05dd25ac\",\"type\":\"Title\"},{\"attributes\":{},\"id\":\"1f4d6ea4-99ab-43c3-8b14-490a21b104c8\",\"type\":\"HelpTool\"},{\"attributes\":{},\"id\":\"83fc928f-2641-483f-8bef-c68d5edfc94d\",\"type\":\"BasicTicker\"},{\"attributes\":{\"line_alpha\":0.1,\"line_color\":\"#1f77b4\",\"line_width\":3,\"x\":{\"field\":\"x\"},\"y\":{\"field\":\"y\"}},\"id\":\"4fed5e98-5b99-4cb6-8669-cebf1cf60afb\",\"type\":\"Line\"},{\"attributes\":{\"source\":{\"id\":\"7886c74c-7d3e-482c-9ebc-98f123308c11\",\"type\":\"ColumnDataSource\"}},\"id\":\"978c7c7d-a497-4a79-90a4-b9ade2e7dc71\",\"type\":\"CDSView\"},{\"attributes\":{\"callback\":null,\"data\":{\"x\":{\"__ndarray__\":\"AAAAAAAAFMCamZmZmZkTwDQzMzMzMxPAzszMzMzMEsBoZmZmZmYSwAIAAAAAABLAnJmZmZmZEcA2MzMzMzMRwNDMzMzMzBDAamZmZmZmEMAEAAAAAAAQwDwzMzMzMw/AcGZmZmZmDsCkmZmZmZkNwNjMzMzMzAzADAAAAAAADMBAMzMzMzMLwHRmZmZmZgrAqJmZmZmZCcDczMzMzMwIwBAAAAAAAAjARDMzMzMzB8B4ZmZmZmYGwKyZmZmZmQXA4MzMzMzMBMAUAAAAAAAEwEgzMzMzMwPAfGZmZmZmAsCwmZmZmZkBwOTMzMzMzADAGAAAAAAAAMCYZmZmZmb+vwDNzMzMzPy/aDMzMzMz+7/QmZmZmZn5vzgAAAAAAPi/oGZmZmZm9r8IzczMzMz0v3AzMzMzM/O/2JmZmZmZ8b9AAAAAAADwv1DNzMzMzOy/IJqZmZmZ6b/wZmZmZmbmv8AzMzMzM+O/kAAAAAAA4L/AmpmZmZnZv2A0MzMzM9O/AJyZmZmZyb+AnpmZmZm5vwAAAAAAABS9gJSZmZmZuT8Al5mZmZnJP+AxMzMzM9M/QJiZmZmZ2T+g/v/////fP4AyMzMzM+M/sGVmZmZm5j/gmJmZmZnpPxDMzMzMzOw/QP//////7z84mZmZmZnxP9AyMzMzM/M/aMzMzMzM9D8AZmZmZmb2P5j///////c/MJmZmZmZ+T/IMjMzMzP7P2DMzMzMzPw/+GVmZmZm/j+Q////////P5TMzMzMzABAYJmZmZmZAUAsZmZmZmYCQPgyMzMzMwNAxP//////A0CQzMzMzMwEQFyZmZmZmQVAKGZmZmZmBkD0MjMzMzMHQMD//////wdAjMzMzMzMCEBYmZmZmZkJQCRmZmZmZgpA8DIzMzMzC0C8//////8LQIjMzMzMzAxAVJmZmZmZDUAgZmZmZmYOQOwyMzMzMw9AuP//////D0BCZmZmZmYQQKjMzMzMzBBADjMzMzMzEUB0mZmZmZkRQNr//////xFAQGZmZmZmEkCmzMzMzMwSQAwzMzMzMxNAcpmZmZmZE0DY//////8TQA==\",\"dtype\":\"float64\",\"shape\":[101]},\"y\":{\"__ndarray__\":\"dlMN4D+Zez9L5hrsToB+PwJscPPB2oA/UkaZbYuggj+VwE2ODpaEPwzElUZQwIY/66fsqtwkiT9Go7Ap1cmLP22WOkAAto4/+l9ua234kD/iPCG4VcGSP7dLrK5LupQ/VbYIFl3olj8kEIfGH1GZP0GwQ/m/+ps/OP/kGBDsnj9VkhQeTRahP2S+hbtZ4qI/Ivv/mcjepD90gPtlsBCnP3ywzsywfak/0mRT5QAsrD9AbXwcfyKvP5sAVGdhNLE/ijBj3ZcDsz/w85TAhQO1P4e/ibJKObc/NpnsRpCquT/AsHWFmF28P9gRiPJNWb8/mIG/o6pSwT/b1wiEECXDP/AJfZODKMU/uYmpeCxixz++Tfu+vtfJP7lbS3KHj8w/owa2Q32Qzz9B4owwKXHRP5USehbERtM/nhuRhMJN1T/a7iw2VovXP7NtCMA8Bdo/ENuBRc7B3D+5VN25DcjfP5YElmvdj+E/s5Vv/LJo4z+LcHIGQ3PlP5V7w2nItOc/3GAW1goz6j+tKtWZbfTsP2D//////+8/eQBas8eu8T8nrFie3YrzPyMajIwFmfU/X7/7koPe9z8LBh6OKWH6P0ypEQtmJ/0/K4kmYSocAECBRv5m6M0BQEd4XGVErQNA51YUiwq/BUAA1UQyiAgIQABlEHaZjwpA+/cVNrhaDUDfWRFXhjgQQM3ET+Y/7RFAaTdbu+fPE0AU+A13UuUVQODt78jWMhhAPmPYHFu+GkDf3NS4ZI4dQNocCDkUVSBA3A3Ekc4MIkC9h+8KyPIjQMXJScbdCyZABOAx2W9dKEDoe1wSb+0qQFcpVzJswi1AwiHsXtRxMEBvgXrKlCwyQGWwb7/lFTRAiP1n76wyNkDKtiTmU4g4QJt6gOfVHDtAbaO9Qs/2PUBPazkhx45AQGp3PfKSTEJA0OvuREE5REB4l9lpwFlGQGFGyXODs0hAYzknLpBMS0Cm8kKLjitOQJq/B9nsq1BA0myDa8lsUkBTtD4I21xUQNTd4a0YgVZAE8IIB//eWECvYTR5nnxbQDuQPa6qYF5AVLoL4EXJYEDWMnCZOI1iQA==\",\"dtype\":\"float64\",\"shape\":[101]}},\"selected\":{\"id\":\"0fb33d48-41bd-4c66-8fe9-9af3745a30db\",\"type\":\"Selection\"},\"selection_policy\":{\"id\":\"d7148633-e56e-4080-b8e9-899145f77f31\",\"type\":\"UnionRenderers\"}},\"id\":\"95f62863-56c2-4c01-9250-fa108f172c37\",\"type\":\"ColumnDataSource\"},{\"attributes\":{\"bottom_units\":\"screen\",\"fill_alpha\":{\"value\":0.5},\"fill_color\":{\"value\":\"lightgrey\"},\"left_units\":\"screen\",\"level\":\"overlay\",\"line_alpha\":{\"value\":1.0},\"line_color\":{\"value\":\"black\"},\"line_dash\":[4,4],\"line_width\":{\"value\":2},\"plot\":null,\"render_mode\":\"css\",\"right_units\":\"screen\",\"top_units\":\"screen\"},\"id\":\"31111416-e1d9-454c-93cc-880fd69f7518\",\"type\":\"BoxAnnotation\"},{\"attributes\":{\"line_width\":3,\"x\":{\"field\":\"x\"},\"y\":{\"field\":\"y\"}},\"id\":\"3bf89af4-76d6-41c5-9f17-5a4f66203793\",\"type\":\"Line\"},{\"attributes\":{\"line_alpha\":0.1,\"line_color\":\"#1f77b4\",\"line_width\":6,\"x\":{\"field\":\"x\"},\"y\":{\"field\":\"y\"}},\"id\":\"ea86febb-38d6-4e9b-8d72-6fe3d73b8312\",\"type\":\"Line\"},{\"attributes\":{\"data_source\":{\"id\":\"7886c74c-7d3e-482c-9ebc-98f123308c11\",\"type\":\"ColumnDataSource\"},\"glyph\":{\"id\":\"332c1fdf-3585-41de-bc7d-ea06af81ac22\",\"type\":\"Line\"},\"hover_glyph\":null,\"muted_glyph\":null,\"nonselection_glyph\":{\"id\":\"ea86febb-38d6-4e9b-8d72-6fe3d73b8312\",\"type\":\"Line\"},\"selection_glyph\":null,\"view\":{\"id\":\"978c7c7d-a497-4a79-90a4-b9ade2e7dc71\",\"type\":\"CDSView\"}},\"id\":\"9af96223-79b4-4de5-818c-e540243744b3\",\"type\":\"GlyphRenderer\"},{\"attributes\":{},\"id\":\"c0db5bdd-e618-49f2-a39e-519be524f03a\",\"type\":\"UnionRenderers\"}],\"root_ids\":[\"ad30c78d-b958-4122-9d3e-649c710b9382\"]},\"title\":\"Bokeh Application\",\"version\":\"0.13.0\"}};\n",
       "  var render_items = [{\"docid\":\"1290bd6d-1030-4f4b-9a9c-9665aea991a2\",\"roots\":{\"ad30c78d-b958-4122-9d3e-649c710b9382\":\"c910d32a-3d5f-43de-9f92-b6981af45366\"}}];\n",
       "  root.Bokeh.embed.embed_items_notebook(docs_json, render_items);\n",
       "\n",
       "  }\n",
       "  if (root.Bokeh !== undefined) {\n",
       "    embed_document(root);\n",
       "  } else {\n",
       "    var attempts = 0;\n",
       "    var timer = setInterval(function(root) {\n",
       "      if (root.Bokeh !== undefined) {\n",
       "        embed_document(root);\n",
       "        clearInterval(timer);\n",
       "      }\n",
       "      attempts++;\n",
       "      if (attempts > 100) {\n",
       "        console.log(\"Bokeh: ERROR: Unable to run BokehJS code because BokehJS library is missing\")\n",
       "        clearInterval(timer);\n",
       "      }\n",
       "    }, 10, root)\n",
       "  }\n",
       "})(window);"
      ],
      "application/vnd.bokehjs_exec.v0+json": ""
     },
     "metadata": {
      "application/vnd.bokehjs_exec.v0+json": {
       "id": "ad30c78d-b958-4122-9d3e-649c710b9382"
      }
     },
     "output_type": "display_data"
    }
   ],
   "source": [
    "def f(x):\n",
    "    return np.exp(x)\n",
    "\n",
    "x = np.arange(-5,5.1,.1)\n",
    "p = plot(950,300)\n",
    "p.line(x,f(x),line_width=3,color=\"black\")\n",
    "p.line(x,deriv(x,f,nudge=.001),line_width=6,color=\"red\",alpha=.4)\n",
    "show(p)"
   ]
  },
  {
   "cell_type": "markdown",
   "metadata": {},
   "source": [
    "# Summary of the Rules"
   ]
  },
  {
   "cell_type": "markdown",
   "metadata": {},
   "source": [
    "We covered the three most important rule of differentiation (of which the other rules can usually be derived). However, it's useful to list off all the rules that we'll encounter most often for future reference."
   ]
  },
  {
   "cell_type": "markdown",
   "metadata": {},
   "source": [
    "|Rule Name | Function | Derivative\n",
    "|-----|-----|-----|\n",
    "| **Sum**  | $ f(x) + g(x)$ | $f'(x) + g'(x)$|\n",
    "| Difference  | $ f(x) - g(x)$ | $f'(x) - g'(x)$|\n",
    "| **Scalar** | $ f(ax) $ | $af'(x)$|\n",
    "| **Product**  | $ f(x)g(x)$ | $f'(x)g(x) + f(x)g'(x)$|\n",
    "| Quotient  | $ \\frac{f(x)}{g(x)}$ | $\\frac{f'(x)g(x) - f(x)g'(x)}{g(x)^2}$|\n",
    "| **Chain**  | $ f(g(x))$ | $f'(g(x))g'(x)$|\n",
    "| **Constant**  | $ f(c)$ | $0$|\n",
    "| **Exponential**  | $ e^x$ | $ e^x$|\n",
    "| Natural Log  | $  ln(x)$ | $\\frac{1}{x}$|\n",
    "| Cosine | $ \\cos(x) $ | $-\\sin(x)$|\n",
    "| Sine | $ \\sin(x) $ | $\\cos(x)$|\n",
    "| Tangent | $ \\tan(x) $ | $1 + \\tan^2(x)$|\n",
    "\n",
    "(Note that I've bolded the rules that we covered today)."
   ]
  },
  {
   "cell_type": "markdown",
   "metadata": {},
   "source": [
    "# Sympy: Symbolic Math in Python"
   ]
  },
  {
   "cell_type": "markdown",
   "metadata": {},
   "source": [
    "Python has a useful library for calculating the derivative and other mathematical derivations. With [sympy](https://www.sympy.org/en/index.html), we can easily calculate the mathematical derivations outlined above (and much more). For now, I'll put it on our radar as it offers us a tool in python to quickly calculate the derivatives of trick functions. "
   ]
  },
  {
   "cell_type": "code",
   "execution_count": 17,
   "metadata": {},
   "outputs": [
    {
     "data": {
      "image/png": "[encoded data removed]",
      "text/latex": [
       "$$z^{3}$$"
      ],
      "text/plain": [
       " 3\n",
       "z "
      ]
     },
     "execution_count": 17,
     "metadata": {},
     "output_type": "execute_result"
    }
   ],
   "source": [
    "z = symbols('z') # specify the symbol used in an expression\n",
    "init_printing(use_unicode=True)\n",
    "expr = z**3\n",
    "expr"
   ]
  },
  {
   "cell_type": "markdown",
   "metadata": {},
   "source": [
    "### Calculating the Derivative"
   ]
  },
  {
   "cell_type": "code",
   "execution_count": 18,
   "metadata": {},
   "outputs": [
    {
     "data": {
      "image/png": "[encoded data removed]",
      "text/latex": [
       "$$3 z^{2}$$"
      ],
      "text/plain": [
       "   2\n",
       "3⋅z "
      ]
     },
     "execution_count": 18,
     "metadata": {},
     "output_type": "execute_result"
    }
   ],
   "source": [
    "# Calculate the derivative\n",
    "expr.diff()"
   ]
  },
  {
   "cell_type": "code",
   "execution_count": 19,
   "metadata": {},
   "outputs": [
    {
     "data": {
      "image/png": "[encoded data removed]",
      "text/latex": [
       "$$2 z \\cos{\\left (z^{2} \\right )}$$"
      ],
      "text/plain": [
       "       ⎛ 2⎞\n",
       "2⋅z⋅cos⎝z ⎠"
      ]
     },
     "execution_count": 19,
     "metadata": {},
     "output_type": "execute_result"
    }
   ],
   "source": [
    "# Implements all the tools and logic outlined above \n",
    "expr2 = sin(z**2)\n",
    "expr2.diff()"
   ]
  },
  {
   "cell_type": "markdown",
   "metadata": {},
   "source": [
    "We can evaluate the symbolic outputs using the `evalf` and `lambdify` methods."
   ]
  },
  {
   "cell_type": "code",
   "execution_count": 20,
   "metadata": {},
   "outputs": [
    {
     "data": {
      "image/png": "[encoded data removed]",
      "text/latex": [
       "$$8.0$$"
      ],
      "text/plain": [
       "8.00000000000000"
      ]
     },
     "execution_count": 20,
     "metadata": {},
     "output_type": "execute_result"
    }
   ],
   "source": [
    "expr.evalf(subs={z: 2})"
   ]
  },
  {
   "cell_type": "code",
   "execution_count": 21,
   "metadata": {},
   "outputs": [
    {
     "data": {
      "image/png": "[encoded data removed]",
      "text/latex": [
       "$$12.0$$"
      ],
      "text/plain": [
       "12.0000000000000"
      ]
     },
     "execution_count": 21,
     "metadata": {},
     "output_type": "execute_result"
    }
   ],
   "source": [
    "expr.diff().evalf(subs={z: 2})"
   ]
  },
  {
   "cell_type": "markdown",
   "metadata": {},
   "source": [
    "`lambdify` allows us to efficiently pass whole arrays of numbers through. We convert each expression into a special \"lambda-like\" function that we can then pass numerical values generated by `numpy`."
   ]
  },
  {
   "cell_type": "code",
   "execution_count": 22,
   "metadata": {},
   "outputs": [
    {
     "data": {
      "image/png": "[encoded data removed]",
      "text/latex": [
       "$$z^{3} - 2 z^{2} - z$$"
      ],
      "text/plain": [
       " 3      2    \n",
       "z  - 2⋅z  - z"
      ]
     },
     "execution_count": 22,
     "metadata": {},
     "output_type": "execute_result"
    }
   ],
   "source": [
    "# Define our expressions\n",
    "expr = z**3 - 2*z**2 - 1*z\n",
    "f = lambdify(z, expr, \"numpy\")  # function \n",
    "df = lambdify(z, expr.diff(), \"numpy\") # first derivative\n",
    "expr"
   ]
  },
  {
   "cell_type": "markdown",
   "metadata": {},
   "source": [
    "Let's plot the resulting values as we've done this entire time using the numerical arrays provided. "
   ]
  },
  {
   "cell_type": "code",
   "execution_count": 23,
   "metadata": {},
   "outputs": [
    {
     "data": {
      "text/html": [
       "\n",
       "\n",
       "\n",
       "\n",
       "\n",
       "\n",
       "  <div class=\"bk-root\" id=\"38f6fbfd-2430-4038-9361-8ec35ef02541\"></div>\n"
      ]
     },
     "metadata": {},
     "output_type": "display_data"
    },
    {
     "data": {
      "application/javascript": [
       "(function(root) {\n",
       "  function embed_document(root) {\n",
       "    \n",
       "  var docs_json = {\"80ab8d5c-85c0-409e-b8ad-408f9ee34c89\":{\"roots\":{\"references\":[{\"attributes\":{\"callback\":null,\"data\":{\"x\":{\"__ndarray__\":\"AAAAAAAAFMCamZmZmZkTwDQzMzMzMxPAzszMzMzMEsBoZmZmZmYSwAIAAAAAABLAnJmZmZmZEcA2MzMzMzMRwNDMzMzMzBDAamZmZmZmEMAEAAAAAAAQwDwzMzMzMw/AcGZmZmZmDsCkmZmZmZkNwNjMzMzMzAzADAAAAAAADMBAMzMzMzMLwHRmZmZmZgrAqJmZmZmZCcDczMzMzMwIwBAAAAAAAAjARDMzMzMzB8B4ZmZmZmYGwKyZmZmZmQXA4MzMzMzMBMAUAAAAAAAEwEgzMzMzMwPAfGZmZmZmAsCwmZmZmZkBwOTMzMzMzADAGAAAAAAAAMCYZmZmZmb+vwDNzMzMzPy/aDMzMzMz+7/QmZmZmZn5vzgAAAAAAPi/oGZmZmZm9r8IzczMzMz0v3AzMzMzM/O/2JmZmZmZ8b9AAAAAAADwv1DNzMzMzOy/IJqZmZmZ6b/wZmZmZmbmv8AzMzMzM+O/kAAAAAAA4L/AmpmZmZnZv2A0MzMzM9O/AJyZmZmZyb+AnpmZmZm5vwAAAAAAABS9gJSZmZmZuT8Al5mZmZnJP+AxMzMzM9M/QJiZmZmZ2T+g/v/////fP4AyMzMzM+M/sGVmZmZm5j/gmJmZmZnpPxDMzMzMzOw/QP//////7z84mZmZmZnxP9AyMzMzM/M/aMzMzMzM9D8AZmZmZmb2P5j///////c/MJmZmZmZ+T/IMjMzMzP7P2DMzMzMzPw/+GVmZmZm/j+Q////////P5TMzMzMzABAYJmZmZmZAUAsZmZmZmYCQPgyMzMzMwNAxP//////A0CQzMzMzMwEQFyZmZmZmQVAKGZmZmZmBkD0MjMzMzMHQMD//////wdAjMzMzMzMCEBYmZmZmZkJQCRmZmZmZgpA8DIzMzMzC0C8//////8LQIjMzMzMzAxAVJmZmZmZDUAgZmZmZmYOQOwyMzMzMw9AuP//////D0BCZmZmZmYQQKjMzMzMzBBADjMzMzMzEUB0mZmZmZkRQNr//////xFAQGZmZmZmEkCmzMzMzMwSQAwzMzMzMxNAcpmZmZmZE0A=\",\"dtype\":\"float64\",\"shape\":[100]},\"y\":{\"__ndarray__\":\"AAAAAACAV0C6HoXrUahWQBauR+F61FVAGK5H4XoEVUC8HoXrUThUQAQAAAAAcFNA8FG4HoWrUkCAFK5H4epRQLRH4XoULlFAjOtRuB51UEAOAAAAAIBPQE0K16NwHU5A0/UoXI/CTEChwvUoXG9LQLZwPQrXI0pAEwAAAADgSEC3cD0K16NHQKPC9Shcb0ZA2PUoXI9CRUBTCtejcB1EQBYAAAAAAENAINejcD3qQUBzj8L1KNxAQBpSuB6Fqz9A3UfhehSuPUAwAAAAAMA7QBF7FK5H4TlAgrgehesROECCuB6F61E2QBJ7FK5HoTRAMAAAAAAAM0DeR+F6FG4xQDakcD0K1y9Azj0K16PwLECGXI/C9SgqQFsAAAAAgCdATylcj8L1JEBi16NwPYoiQJIK16NwPSBAxIXrUbgeHECgAAAAAAAYQLmF61G4HhRADxWuR+F6EEBEXY/C9SgKQOKkcD0K1wNA+AEAAAAA/D8e43oUrkfxP+S0R+F6FN4/iPutR+F6tL9sB9ejcD3iv4D9/////++/1lC4HoXr9b/4eRSuR+H6vyd6FK5H4f6/sChcj8L1AMDU//////8BwH7C9ShcjwLArXA9CtejAsBiCtejcD0CwJ6PwvUoXAHAYAAAAAAAAMBQuR6F61H8v+xI4XoUrve/lK9H4XoU8r+Q2qNwPQrnvyAIAAAAANC/sEi4HoXr0T+gnnA9CtfrP3C1HoXrUfg/QKJwPQrXAUBA/v////8HQMBuPQrXow5A2HkUrkfhEkCQRuF6FK4WQIQdhetRuBpAuP7/////HkAS9Shcj8IhQOhvPQrXIyRA3G89CtejJkDu9Chcj0IpQCD//////ytAcI7C9SjcLkBvUbgeheswQDYehetReDJAiq1H4XoUNEBw/////781QOQTrkfhejdA6OpRuB5FOUB6hOtRuB47QJzgehSuBz1ATP//////PkBHcD0K14NAQC7C9Shcj0FAXfUoXI+iQkDUCdejcL1DQJP/////30RAmtajcD0KRkDnjsL1KDxHQHwoXI/CdUhAW6NwPQq3SUA=\",\"dtype\":\"float64\",\"shape\":[100]}},\"selected\":{\"id\":\"2f228537-632d-47bd-a7ea-55c599ed60b1\",\"type\":\"Selection\"},\"selection_policy\":{\"id\":\"9051a69f-feb7-4b73-9a55-5a98c7d59c19\",\"type\":\"UnionRenderers\"}},\"id\":\"da8e62c5-bd09-4eac-8f10-a0f094dc2d22\",\"type\":\"ColumnDataSource\"},{\"attributes\":{\"callback\":null,\"data\":{\"x\":{\"__ndarray__\":\"AAAAAAAAFMCamZmZmZkTwDQzMzMzMxPAzszMzMzMEsBoZmZmZmYSwAIAAAAAABLAnJmZmZmZEcA2MzMzMzMRwNDMzMzMzBDAamZmZmZmEMAEAAAAAAAQwDwzMzMzMw/AcGZmZmZmDsCkmZmZmZkNwNjMzMzMzAzADAAAAAAADMBAMzMzMzMLwHRmZmZmZgrAqJmZmZmZCcDczMzMzMwIwBAAAAAAAAjARDMzMzMzB8B4ZmZmZmYGwKyZmZmZmQXA4MzMzMzMBMAUAAAAAAAEwEgzMzMzMwPAfGZmZmZmAsCwmZmZmZkBwOTMzMzMzADAGAAAAAAAAMCYZmZmZmb+vwDNzMzMzPy/aDMzMzMz+7/QmZmZmZn5vzgAAAAAAPi/oGZmZmZm9r8IzczMzMz0v3AzMzMzM/O/2JmZmZmZ8b9AAAAAAADwv1DNzMzMzOy/IJqZmZmZ6b/wZmZmZmbmv8AzMzMzM+O/kAAAAAAA4L/AmpmZmZnZv2A0MzMzM9O/AJyZmZmZyb+AnpmZmZm5vwAAAAAAABS9gJSZmZmZuT8Al5mZmZnJP+AxMzMzM9M/QJiZmZmZ2T+g/v/////fP4AyMzMzM+M/sGVmZmZm5j/gmJmZmZnpPxDMzMzMzOw/QP//////7z84mZmZmZnxP9AyMzMzM/M/aMzMzMzM9D8AZmZmZmb2P5j///////c/MJmZmZmZ+T/IMjMzMzP7P2DMzMzMzPw/+GVmZmZm/j+Q////////P5TMzMzMzABAYJmZmZmZAUAsZmZmZmYCQPgyMzMzMwNAxP//////A0CQzMzMzMwEQFyZmZmZmQVAKGZmZmZmBkD0MjMzMzMHQMD//////wdAjMzMzMzMCEBYmZmZmZkJQCRmZmZmZgpA8DIzMzMzC0C8//////8LQIjMzMzMzAxAVJmZmZmZDUAgZmZmZmYOQOwyMzMzMw9AuP//////D0BCZmZmZmYQQKjMzMzMzBBADjMzMzMzEUB0mZmZmZkRQNr//////xFAQGZmZmZmEkCmzMzMzMwSQAwzMzMzMxNAcpmZmZmZE0A=\",\"dtype\":\"float64\",\"shape\":[100]},\"y\":{\"__ndarray__\":\"AAAAAABAZcD5U+OlmxhkwJhDi2zn+2LACFYOLbLpYcBzEoPAyuFgwAoAAAAAyF/A0ks3iUHgXcCTFtnO9wtcwKVuEoPASlrAXWIQWDmcWMAQAAAAAABXwBVWDi2ydVXAwnJoke38U8BsZDvfT5VSwGo5tMh2PlHAJQAAAADwT8B1jZduEoNNwHI3iUFgNUvAxhov3SQGScAeVOOlm/RGwCYAAAAAAEXAijvfT40nQ8D2Itv5fmpBwCymm8QgkD/ALdEi2/l+PMBGAAAAAKA5wM9s5/up8TbAIFCNl25yNMCS46WbxCAywPvAyqFF9i/AcgAAAAAALMA7+FPjpVsowAYbL90kBiXAgtv5fmr8IcDCWDm0yHYewKQAAAAAgBnADJQYBFYOFcBY+FPjpRsRwNQlBoGVQwvARJLtfD81BcDAAAAAAAAAwBR4vp8aL/e/gju0yHa+778YEC2yne/jv9Qx3SQGgdW/8AMAAAAAwL8glvHSTWKQP8wohxbZzrc/2+kmMQisvD+eUGIQWDm0Pzj//////xM9FFE5tMh2vr9swiCwcmjRvzyfRbbz/dy/XKBFtvP95L90/v/////rv3SKbOf7qfG/XAesHFpk9b92CwIrhxb5v0Issp3vp/y/QP///////7/5jJduEoMBwO6IQWDl0ALAPr6fGi/dA8Cq91PjpZsEwPP//////wTA2qFFtvP9BMAeqMZLN4kEwILdJAaBlQPAxgwCK4cWAsCoAAAAAAAAwNgHgZVDi/q/oMLKoUW2879wjkFg5dDmv4Cwarx0k7i/wPj/////4z+Ame+nxkv3P2hLYhBYOQNAbK+d76fGC0AGFwRWDq0SQED+/////xdABqjx0k3iHUB+FwRWDi0iQN9WObTItiVAdB+wcmiRKUCP/v///78tQL9AYOXQIjFAyprEILCSM0AO1HjpJjE2QDizyHa+/zhA6f7/////O0DOfWq8dDM/QEb7qfHSTUFA5xcEVg4dQ0AceOkmMQhFQDr/////D0dAlZDtfD81SUCBD1g5tHhLQFJf5dAi201ArrGd76cuUEA=\",\"dtype\":\"float64\",\"shape\":[100]}},\"selected\":{\"id\":\"50827b96-3dd2-4729-8e4c-59d6efe118b5\",\"type\":\"Selection\"},\"selection_policy\":{\"id\":\"3c71c082-f68b-428e-97eb-5a4aecb1c951\",\"type\":\"UnionRenderers\"}},\"id\":\"28de3bda-1557-409a-9f7b-f93b9f7aa03f\",\"type\":\"ColumnDataSource\"},{\"attributes\":{},\"id\":\"1d278fd2-b4fd-49e7-aabb-71d979110df5\",\"type\":\"BasicTickFormatter\"},{\"attributes\":{\"label\":{\"value\":\"f(x)=z**3 - 2*z**2 - z\"},\"renderers\":[{\"id\":\"925d25b9-4b27-4221-bb30-2048078483b6\",\"type\":\"GlyphRenderer\"}]},\"id\":\"8eaa66e9-4586-4c13-9f9b-883b44ea8647\",\"type\":\"LegendItem\"},{\"attributes\":{},\"id\":\"8c0e93ae-02d2-44d9-98e1-4cada9b0b496\",\"type\":\"PanTool\"},{\"attributes\":{},\"id\":\"3da38826-3717-4721-82a9-f699eb63a54b\",\"type\":\"SaveTool\"},{\"attributes\":{\"axis_label\":\"X\",\"formatter\":{\"id\":\"d200495e-1b86-4273-9660-380c193ed8dd\",\"type\":\"BasicTickFormatter\"},\"plot\":{\"id\":\"b8d5864b-2566-4438-8cc0-99039ec29bc2\",\"subtype\":\"Figure\",\"type\":\"Plot\"},\"ticker\":{\"id\":\"45df6438-ef43-426d-ab76-9900dec775ba\",\"type\":\"BasicTicker\"}},\"id\":\"fe731059-429e-4561-b76d-71a8ea92e2ba\",\"type\":\"LinearAxis\"},{\"attributes\":{},\"id\":\"6246063f-c8b1-4fc8-a079-e0b881734f43\",\"type\":\"WheelZoomTool\"},{\"attributes\":{\"line_alpha\":0.5,\"line_color\":\"#1f77b4\",\"line_width\":3,\"x\":{\"field\":\"x\"},\"y\":{\"field\":\"y\"}},\"id\":\"5c412fe3-0e71-42a6-8a12-24e8f0cdb37e\",\"type\":\"Line\"},{\"attributes\":{},\"id\":\"32b5e7e6-c744-4bca-8d1c-b455767216e3\",\"type\":\"ResetTool\"},{\"attributes\":{\"callback\":null},\"id\":\"cade4621-3ae7-41e0-852d-067014a42f72\",\"type\":\"DataRange1d\"},{\"attributes\":{},\"id\":\"a8392f11-7e48-4a01-a546-51d497540bb4\",\"type\":\"HelpTool\"},{\"attributes\":{\"bottom_units\":\"screen\",\"fill_alpha\":{\"value\":0.5},\"fill_color\":{\"value\":\"lightgrey\"},\"left_units\":\"screen\",\"level\":\"overlay\",\"line_alpha\":{\"value\":1.0},\"line_color\":{\"value\":\"black\"},\"line_dash\":[4,4],\"line_width\":{\"value\":2},\"plot\":null,\"render_mode\":\"css\",\"right_units\":\"screen\",\"top_units\":\"screen\"},\"id\":\"6ee7911e-ed1e-44f5-a354-0d958ce20397\",\"type\":\"BoxAnnotation\"},{\"attributes\":{\"items\":[{\"id\":\"8eaa66e9-4586-4c13-9f9b-883b44ea8647\",\"type\":\"LegendItem\"},{\"id\":\"876a2081-c3a5-41ad-a584-c14f6fbdef70\",\"type\":\"LegendItem\"}],\"plot\":{\"id\":\"b8d5864b-2566-4438-8cc0-99039ec29bc2\",\"subtype\":\"Figure\",\"type\":\"Plot\"}},\"id\":\"7607ce61-51e5-4e38-b558-e41af202619d\",\"type\":\"Legend\"},{\"attributes\":{},\"id\":\"d200495e-1b86-4273-9660-380c193ed8dd\",\"type\":\"BasicTickFormatter\"},{\"attributes\":{\"source\":{\"id\":\"28de3bda-1557-409a-9f7b-f93b9f7aa03f\",\"type\":\"ColumnDataSource\"}},\"id\":\"7a9e9348-089c-442b-bfbf-5e0293b71d83\",\"type\":\"CDSView\"},{\"attributes\":{},\"id\":\"50827b96-3dd2-4729-8e4c-59d6efe118b5\",\"type\":\"Selection\"},{\"attributes\":{\"data_source\":{\"id\":\"da8e62c5-bd09-4eac-8f10-a0f094dc2d22\",\"type\":\"ColumnDataSource\"},\"glyph\":{\"id\":\"fc66e323-66be-40ae-8c5a-42d51381e9bf\",\"type\":\"Line\"},\"hover_glyph\":null,\"muted_glyph\":null,\"nonselection_glyph\":{\"id\":\"0c798c94-da56-43a5-af2f-0f1846a8b304\",\"type\":\"Line\"},\"selection_glyph\":null,\"view\":{\"id\":\"04971090-3c7f-417c-a695-597766c65dc4\",\"type\":\"CDSView\"}},\"id\":\"f604fa51-4ca3-4ea2-85aa-99ca40a1c3ef\",\"type\":\"GlyphRenderer\"},{\"attributes\":{\"line_alpha\":0.1,\"line_color\":\"#1f77b4\",\"line_dash\":[6,4,2,4],\"line_width\":3,\"x\":{\"field\":\"x\"},\"y\":{\"field\":\"y\"}},\"id\":\"0c798c94-da56-43a5-af2f-0f1846a8b304\",\"type\":\"Line\"},{\"attributes\":{\"line_alpha\":0.5,\"line_color\":\"red\",\"line_dash\":[6,4,2,4],\"line_width\":3,\"x\":{\"field\":\"x\"},\"y\":{\"field\":\"y\"}},\"id\":\"fc66e323-66be-40ae-8c5a-42d51381e9bf\",\"type\":\"Line\"},{\"attributes\":{\"source\":{\"id\":\"da8e62c5-bd09-4eac-8f10-a0f094dc2d22\",\"type\":\"ColumnDataSource\"}},\"id\":\"04971090-3c7f-417c-a695-597766c65dc4\",\"type\":\"CDSView\"},{\"attributes\":{\"line_alpha\":0.1,\"line_color\":\"#1f77b4\",\"line_width\":3,\"x\":{\"field\":\"x\"},\"y\":{\"field\":\"y\"}},\"id\":\"b3984c49-96c4-4c72-ac9c-03f196e64a65\",\"type\":\"Line\"},{\"attributes\":{},\"id\":\"3c71c082-f68b-428e-97eb-5a4aecb1c951\",\"type\":\"UnionRenderers\"},{\"attributes\":{\"line_color\":{\"value\":\"grey\"},\"line_width\":{\"value\":2},\"location\":0,\"plot\":null},\"id\":\"1d374ad3-127b-4722-95ef-2e4f833666cd\",\"type\":\"Span\"},{\"attributes\":{\"label\":{\"value\":\"f'(x)=3*z**2 - 4*z - 1\"},\"renderers\":[{\"id\":\"f604fa51-4ca3-4ea2-85aa-99ca40a1c3ef\",\"type\":\"GlyphRenderer\"}]},\"id\":\"876a2081-c3a5-41ad-a584-c14f6fbdef70\",\"type\":\"LegendItem\"},{\"attributes\":{\"plot\":null,\"text\":\"\"},\"id\":\"c5c5a216-205e-4179-9e17-32d59627a249\",\"type\":\"Title\"},{\"attributes\":{},\"id\":\"9051a69f-feb7-4b73-9a55-5a98c7d59c19\",\"type\":\"UnionRenderers\"},{\"attributes\":{\"below\":[{\"id\":\"fe731059-429e-4561-b76d-71a8ea92e2ba\",\"type\":\"LinearAxis\"}],\"left\":[{\"id\":\"dac4984d-1f3c-4f84-a257-8ec1e86a2cb6\",\"type\":\"LinearAxis\"}],\"plot_height\":500,\"plot_width\":900,\"renderers\":[{\"id\":\"fe731059-429e-4561-b76d-71a8ea92e2ba\",\"type\":\"LinearAxis\"},{\"id\":\"a72b7ba7-3a5e-4341-b91f-fa9eb8c7ba40\",\"type\":\"Grid\"},{\"id\":\"dac4984d-1f3c-4f84-a257-8ec1e86a2cb6\",\"type\":\"LinearAxis\"},{\"id\":\"cb098c78-781b-4108-9a3d-69ef56c74e22\",\"type\":\"Grid\"},{\"id\":\"6ee7911e-ed1e-44f5-a354-0d958ce20397\",\"type\":\"BoxAnnotation\"},{\"id\":\"7607ce61-51e5-4e38-b558-e41af202619d\",\"type\":\"Legend\"},{\"id\":\"925d25b9-4b27-4221-bb30-2048078483b6\",\"type\":\"GlyphRenderer\"},{\"id\":\"f604fa51-4ca3-4ea2-85aa-99ca40a1c3ef\",\"type\":\"GlyphRenderer\"},{\"id\":\"1d374ad3-127b-4722-95ef-2e4f833666cd\",\"type\":\"Span\"}],\"title\":{\"id\":\"c5c5a216-205e-4179-9e17-32d59627a249\",\"type\":\"Title\"},\"toolbar\":{\"id\":\"fb13c085-d952-4495-bee4-c8686b82a4be\",\"type\":\"Toolbar\"},\"toolbar_location\":\"below\",\"x_range\":{\"id\":\"a1d20ca7-ad89-496b-899f-0ae8982cfdd6\",\"type\":\"DataRange1d\"},\"x_scale\":{\"id\":\"0361522f-075b-4301-8811-a532bc177441\",\"type\":\"LinearScale\"},\"y_range\":{\"id\":\"cade4621-3ae7-41e0-852d-067014a42f72\",\"type\":\"DataRange1d\"},\"y_scale\":{\"id\":\"c3fb1381-81b4-4578-ae95-985d3d56c494\",\"type\":\"LinearScale\"}},\"id\":\"b8d5864b-2566-4438-8cc0-99039ec29bc2\",\"subtype\":\"Figure\",\"type\":\"Plot\"},{\"attributes\":{},\"id\":\"2f228537-632d-47bd-a7ea-55c599ed60b1\",\"type\":\"Selection\"},{\"attributes\":{},\"id\":\"c3fb1381-81b4-4578-ae95-985d3d56c494\",\"type\":\"LinearScale\"},{\"attributes\":{\"active_drag\":\"auto\",\"active_inspect\":\"auto\",\"active_multi\":null,\"active_scroll\":\"auto\",\"active_tap\":\"auto\",\"tools\":[{\"id\":\"8c0e93ae-02d2-44d9-98e1-4cada9b0b496\",\"type\":\"PanTool\"},{\"id\":\"6246063f-c8b1-4fc8-a079-e0b881734f43\",\"type\":\"WheelZoomTool\"},{\"id\":\"6b26effd-824f-4ab9-9916-bc2d51b4043f\",\"type\":\"BoxZoomTool\"},{\"id\":\"3da38826-3717-4721-82a9-f699eb63a54b\",\"type\":\"SaveTool\"},{\"id\":\"32b5e7e6-c744-4bca-8d1c-b455767216e3\",\"type\":\"ResetTool\"},{\"id\":\"a8392f11-7e48-4a01-a546-51d497540bb4\",\"type\":\"HelpTool\"}]},\"id\":\"fb13c085-d952-4495-bee4-c8686b82a4be\",\"type\":\"Toolbar\"},{\"attributes\":{\"overlay\":{\"id\":\"6ee7911e-ed1e-44f5-a354-0d958ce20397\",\"type\":\"BoxAnnotation\"}},\"id\":\"6b26effd-824f-4ab9-9916-bc2d51b4043f\",\"type\":\"BoxZoomTool\"},{\"attributes\":{},\"id\":\"0361522f-075b-4301-8811-a532bc177441\",\"type\":\"LinearScale\"},{\"attributes\":{\"callback\":null},\"id\":\"a1d20ca7-ad89-496b-899f-0ae8982cfdd6\",\"type\":\"DataRange1d\"},{\"attributes\":{\"data_source\":{\"id\":\"28de3bda-1557-409a-9f7b-f93b9f7aa03f\",\"type\":\"ColumnDataSource\"},\"glyph\":{\"id\":\"5c412fe3-0e71-42a6-8a12-24e8f0cdb37e\",\"type\":\"Line\"},\"hover_glyph\":null,\"muted_glyph\":null,\"nonselection_glyph\":{\"id\":\"b3984c49-96c4-4c72-ac9c-03f196e64a65\",\"type\":\"Line\"},\"selection_glyph\":null,\"view\":{\"id\":\"7a9e9348-089c-442b-bfbf-5e0293b71d83\",\"type\":\"CDSView\"}},\"id\":\"925d25b9-4b27-4221-bb30-2048078483b6\",\"type\":\"GlyphRenderer\"},{\"attributes\":{\"plot\":{\"id\":\"b8d5864b-2566-4438-8cc0-99039ec29bc2\",\"subtype\":\"Figure\",\"type\":\"Plot\"},\"ticker\":{\"id\":\"45df6438-ef43-426d-ab76-9900dec775ba\",\"type\":\"BasicTicker\"}},\"id\":\"a72b7ba7-3a5e-4341-b91f-fa9eb8c7ba40\",\"type\":\"Grid\"},{\"attributes\":{},\"id\":\"45df6438-ef43-426d-ab76-9900dec775ba\",\"type\":\"BasicTicker\"},{\"attributes\":{\"axis_label\":\"f(X)\",\"formatter\":{\"id\":\"1d278fd2-b4fd-49e7-aabb-71d979110df5\",\"type\":\"BasicTickFormatter\"},\"plot\":{\"id\":\"b8d5864b-2566-4438-8cc0-99039ec29bc2\",\"subtype\":\"Figure\",\"type\":\"Plot\"},\"ticker\":{\"id\":\"abc4329f-bccb-4bc5-a29e-bbc70cbadeba\",\"type\":\"BasicTicker\"}},\"id\":\"dac4984d-1f3c-4f84-a257-8ec1e86a2cb6\",\"type\":\"LinearAxis\"},{\"attributes\":{},\"id\":\"abc4329f-bccb-4bc5-a29e-bbc70cbadeba\",\"type\":\"BasicTicker\"},{\"attributes\":{\"dimension\":1,\"plot\":{\"id\":\"b8d5864b-2566-4438-8cc0-99039ec29bc2\",\"subtype\":\"Figure\",\"type\":\"Plot\"},\"ticker\":{\"id\":\"abc4329f-bccb-4bc5-a29e-bbc70cbadeba\",\"type\":\"BasicTicker\"}},\"id\":\"cb098c78-781b-4108-9a3d-69ef56c74e22\",\"type\":\"Grid\"}],\"root_ids\":[\"b8d5864b-2566-4438-8cc0-99039ec29bc2\"]},\"title\":\"Bokeh Application\",\"version\":\"0.13.0\"}};\n",
       "  var render_items = [{\"docid\":\"80ab8d5c-85c0-409e-b8ad-408f9ee34c89\",\"roots\":{\"b8d5864b-2566-4438-8cc0-99039ec29bc2\":\"38f6fbfd-2430-4038-9361-8ec35ef02541\"}}];\n",
       "  root.Bokeh.embed.embed_items_notebook(docs_json, render_items);\n",
       "\n",
       "  }\n",
       "  if (root.Bokeh !== undefined) {\n",
       "    embed_document(root);\n",
       "  } else {\n",
       "    var attempts = 0;\n",
       "    var timer = setInterval(function(root) {\n",
       "      if (root.Bokeh !== undefined) {\n",
       "        embed_document(root);\n",
       "        clearInterval(timer);\n",
       "      }\n",
       "      attempts++;\n",
       "      if (attempts > 100) {\n",
       "        console.log(\"Bokeh: ERROR: Unable to run BokehJS code because BokehJS library is missing\")\n",
       "        clearInterval(timer);\n",
       "      }\n",
       "    }, 10, root)\n",
       "  }\n",
       "})(window);"
      ],
      "application/vnd.bokehjs_exec.v0+json": ""
     },
     "metadata": {
      "application/vnd.bokehjs_exec.v0+json": {
       "id": "b8d5864b-2566-4438-8cc0-99039ec29bc2"
      }
     },
     "output_type": "display_data"
    }
   ],
   "source": [
    "a = np.arange(-5,5,.1) \n",
    "p = plot()\n",
    "hline = Span(location=0, dimension='width', line_color='grey', line_width=2)\n",
    "p.line(a,f(a),legend=f'f(x)={str(expr)}',alpha=.5,line_width=3)\n",
    "p.line(a,df(a),color=\"red\",\n",
    "       legend=f\"f'(x)={str(expr.diff())}\",alpha=.5,line_width=3,\n",
    "       line_dash = 'dashdot')\n",
    "p.renderers.extend([hline])\n",
    "show(p)"
   ]
  },
  {
   "cell_type": "markdown",
   "metadata": {},
   "source": [
    "### Expansions"
   ]
  },
  {
   "cell_type": "code",
   "execution_count": 24,
   "metadata": {},
   "outputs": [
    {
     "data": {
      "image/png": "[encoded data removed]",
      "text/latex": [
       "$$\\left(z^{2} + 9 z\\right) \\left(z^{3} + z\\right)$$"
      ],
      "text/plain": [
       "⎛ 2      ⎞ ⎛ 3    ⎞\n",
       "⎝z  + 9⋅z⎠⋅⎝z  + z⎠"
      ]
     },
     "execution_count": 24,
     "metadata": {},
     "output_type": "execute_result"
    }
   ],
   "source": [
    "expr3 = (z**3+z)*(z*9+z**2)\n",
    "expr3"
   ]
  },
  {
   "cell_type": "code",
   "execution_count": 25,
   "metadata": {},
   "outputs": [
    {
     "data": {
      "image/png": "[encoded data removed]",
      "text/latex": [
       "$$z^{5} + 9 z^{4} + z^{3} + 9 z^{2}$$"
      ],
      "text/plain": [
       " 5      4    3      2\n",
       "z  + 9⋅z  + z  + 9⋅z "
      ]
     },
     "execution_count": 25,
     "metadata": {},
     "output_type": "execute_result"
    }
   ],
   "source": [
    "expr3.expand()"
   ]
  },
  {
   "cell_type": "markdown",
   "metadata": {},
   "source": [
    "### Simplifications"
   ]
  },
  {
   "cell_type": "code",
   "execution_count": 26,
   "metadata": {},
   "outputs": [
    {
     "data": {
      "image/png": "[encoded data removed]",
      "text/latex": [
       "$$z^{2} \\left(z + 9\\right) \\left(z^{2} + 1\\right)$$"
      ],
      "text/plain": [
       " 2         ⎛ 2    ⎞\n",
       "z ⋅(z + 9)⋅⎝z  + 1⎠"
      ]
     },
     "execution_count": 26,
     "metadata": {},
     "output_type": "execute_result"
    }
   ],
   "source": [
    "simplify(expr3)"
   ]
  },
  {
   "cell_type": "markdown",
   "metadata": {},
   "source": [
    "### Printing \n",
    "\n",
    "Express output equations in terms of python or latex."
   ]
  },
  {
   "cell_type": "code",
   "execution_count": 27,
   "metadata": {},
   "outputs": [
    {
     "name": "stdout",
     "output_type": "stream",
     "text": [
      "(z**2 + 9*z)*(z**3 + z)\n"
     ]
    }
   ],
   "source": [
    "print(expr3)"
   ]
  },
  {
   "cell_type": "code",
   "execution_count": 28,
   "metadata": {},
   "outputs": [
    {
     "data": {
      "text/plain": [
       "'\\\\left(z^{2} + 9 z\\\\right) \\\\left(z^{3} + z\\\\right)'"
      ]
     },
     "execution_count": 28,
     "metadata": {},
     "output_type": "execute_result"
    }
   ],
   "source": [
    "latex(expr3)"
   ]
  }
 ],
 "metadata": {
  "kernelspec": {
   "display_name": "Python 3",
   "language": "python",
   "name": "python3"
  },
  "language_info": {
   "codemirror_mode": {
    "name": "ipython",
    "version": 3
   },
   "file_extension": ".py",
   "mimetype": "text/x-python",
   "name": "python",
   "nbconvert_exporter": "python",
   "pygments_lexer": "ipython3",
   "version": "3.7.0"
  },
  "toc": {
   "base_numbering": 1,
   "nav_menu": {},
   "number_sections": false,
   "sideBar": false,
   "skip_h1_title": false,
   "title_cell": "Table of Contents",
   "title_sidebar": "Contents",
   "toc_cell": false,
   "toc_position": {},
   "toc_section_display": true,
   "toc_window_display": false
  }
 },
 "nbformat": 4,
 "nbformat_minor": 2
}
