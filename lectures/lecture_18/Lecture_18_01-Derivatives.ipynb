{
 "cells": [
  {
   "cell_type": "markdown",
   "metadata": {},
   "source": [
    "<h1><center> PPOL564 | Data Science 1: Foundations </center><h1>\n",
    "<h3><center> Lecture 18 <br><br><font color='grey'> \n",
    "    Introduction to Derivatives </font></center></h3>"
   ]
  },
  {
   "cell_type": "markdown",
   "metadata": {},
   "source": [
    "## Concepts Covered:\n",
    "\n",
    "- Build up a conceptual understanding of the derivative.\n",
    "- Derive the derivative computationally and analytically"
   ]
  },
  {
   "cell_type": "code",
   "execution_count": 1,
   "metadata": {},
   "outputs": [
    {
     "data": {
      "text/html": [
       "\n",
       "    <div class=\"bk-root\">\n",
       "        <a href=\"https://bokeh.pydata.org\" target=\"_blank\" class=\"bk-logo bk-logo-small bk-logo-notebook\"></a>\n",
       "        <span id=\"07db00de-cf72-46a7-867f-9af54fc6e1bb\">Loading BokehJS ...</span>\n",
       "    </div>"
      ]
     },
     "metadata": {},
     "output_type": "display_data"
    },
    {
     "data": {
      "application/javascript": [
       "\n",
       "(function(root) {\n",
       "  function now() {\n",
       "    return new Date();\n",
       "  }\n",
       "\n",
       "  var force = true;\n",
       "\n",
       "  if (typeof (root._bokeh_onload_callbacks) === \"undefined\" || force === true) {\n",
       "    root._bokeh_onload_callbacks = [];\n",
       "    root._bokeh_is_loading = undefined;\n",
       "  }\n",
       "\n",
       "  var JS_MIME_TYPE = 'application/javascript';\n",
       "  var HTML_MIME_TYPE = 'text/html';\n",
       "  var EXEC_MIME_TYPE = 'application/vnd.bokehjs_exec.v0+json';\n",
       "  var CLASS_NAME = 'output_bokeh rendered_html';\n",
       "\n",
       "  /**\n",
       "   * Render data to the DOM node\n",
       "   */\n",
       "  function render(props, node) {\n",
       "    var script = document.createElement(\"script\");\n",
       "    node.appendChild(script);\n",
       "  }\n",
       "\n",
       "  /**\n",
       "   * Handle when an output is cleared or removed\n",
       "   */\n",
       "  function handleClearOutput(event, handle) {\n",
       "    var cell = handle.cell;\n",
       "\n",
       "    var id = cell.output_area._bokeh_element_id;\n",
       "    var server_id = cell.output_area._bokeh_server_id;\n",
       "    // Clean up Bokeh references\n",
       "    if (id != null && id in Bokeh.index) {\n",
       "      Bokeh.index[id].model.document.clear();\n",
       "      delete Bokeh.index[id];\n",
       "    }\n",
       "\n",
       "    if (server_id !== undefined) {\n",
       "      // Clean up Bokeh references\n",
       "      var cmd = \"from bokeh.io.state import curstate; print(curstate().uuid_to_server['\" + server_id + \"'].get_sessions()[0].document.roots[0]._id)\";\n",
       "      cell.notebook.kernel.execute(cmd, {\n",
       "        iopub: {\n",
       "          output: function(msg) {\n",
       "            var id = msg.content.text.trim();\n",
       "            if (id in Bokeh.index) {\n",
       "              Bokeh.index[id].model.document.clear();\n",
       "              delete Bokeh.index[id];\n",
       "            }\n",
       "          }\n",
       "        }\n",
       "      });\n",
       "      // Destroy server and session\n",
       "      var cmd = \"import bokeh.io.notebook as ion; ion.destroy_server('\" + server_id + \"')\";\n",
       "      cell.notebook.kernel.execute(cmd);\n",
       "    }\n",
       "  }\n",
       "\n",
       "  /**\n",
       "   * Handle when a new output is added\n",
       "   */\n",
       "  function handleAddOutput(event, handle) {\n",
       "    var output_area = handle.output_area;\n",
       "    var output = handle.output;\n",
       "\n",
       "    // limit handleAddOutput to display_data with EXEC_MIME_TYPE content only\n",
       "    if ((output.output_type != \"display_data\") || (!output.data.hasOwnProperty(EXEC_MIME_TYPE))) {\n",
       "      return\n",
       "    }\n",
       "\n",
       "    var toinsert = output_area.element.find(\".\" + CLASS_NAME.split(' ')[0]);\n",
       "\n",
       "    if (output.metadata[EXEC_MIME_TYPE][\"id\"] !== undefined) {\n",
       "      toinsert[toinsert.length - 1].firstChild.textContent = output.data[JS_MIME_TYPE];\n",
       "      // store reference to embed id on output_area\n",
       "      output_area._bokeh_element_id = output.metadata[EXEC_MIME_TYPE][\"id\"];\n",
       "    }\n",
       "    if (output.metadata[EXEC_MIME_TYPE][\"server_id\"] !== undefined) {\n",
       "      var bk_div = document.createElement(\"div\");\n",
       "      bk_div.innerHTML = output.data[HTML_MIME_TYPE];\n",
       "      var script_attrs = bk_div.children[0].attributes;\n",
       "      for (var i = 0; i < script_attrs.length; i++) {\n",
       "        toinsert[toinsert.length - 1].firstChild.setAttribute(script_attrs[i].name, script_attrs[i].value);\n",
       "      }\n",
       "      // store reference to server id on output_area\n",
       "      output_area._bokeh_server_id = output.metadata[EXEC_MIME_TYPE][\"server_id\"];\n",
       "    }\n",
       "  }\n",
       "\n",
       "  function register_renderer(events, OutputArea) {\n",
       "\n",
       "    function append_mime(data, metadata, element) {\n",
       "      // create a DOM node to render to\n",
       "      var toinsert = this.create_output_subarea(\n",
       "        metadata,\n",
       "        CLASS_NAME,\n",
       "        EXEC_MIME_TYPE\n",
       "      );\n",
       "      this.keyboard_manager.register_events(toinsert);\n",
       "      // Render to node\n",
       "      var props = {data: data, metadata: metadata[EXEC_MIME_TYPE]};\n",
       "      render(props, toinsert[toinsert.length - 1]);\n",
       "      element.append(toinsert);\n",
       "      return toinsert\n",
       "    }\n",
       "\n",
       "    /* Handle when an output is cleared or removed */\n",
       "    events.on('clear_output.CodeCell', handleClearOutput);\n",
       "    events.on('delete.Cell', handleClearOutput);\n",
       "\n",
       "    /* Handle when a new output is added */\n",
       "    events.on('output_added.OutputArea', handleAddOutput);\n",
       "\n",
       "    /**\n",
       "     * Register the mime type and append_mime function with output_area\n",
       "     */\n",
       "    OutputArea.prototype.register_mime_type(EXEC_MIME_TYPE, append_mime, {\n",
       "      /* Is output safe? */\n",
       "      safe: true,\n",
       "      /* Index of renderer in `output_area.display_order` */\n",
       "      index: 0\n",
       "    });\n",
       "  }\n",
       "\n",
       "  // register the mime type if in Jupyter Notebook environment and previously unregistered\n",
       "  if (root.Jupyter !== undefined) {\n",
       "    var events = require('base/js/events');\n",
       "    var OutputArea = require('notebook/js/outputarea').OutputArea;\n",
       "\n",
       "    if (OutputArea.prototype.mime_types().indexOf(EXEC_MIME_TYPE) == -1) {\n",
       "      register_renderer(events, OutputArea);\n",
       "    }\n",
       "  }\n",
       "\n",
       "  \n",
       "  if (typeof (root._bokeh_timeout) === \"undefined\" || force === true) {\n",
       "    root._bokeh_timeout = Date.now() + 5000;\n",
       "    root._bokeh_failed_load = false;\n",
       "  }\n",
       "\n",
       "  var NB_LOAD_WARNING = {'data': {'text/html':\n",
       "     \"<div style='background-color: #fdd'>\\n\"+\n",
       "     \"<p>\\n\"+\n",
       "     \"BokehJS does not appear to have successfully loaded. If loading BokehJS from CDN, this \\n\"+\n",
       "     \"may be due to a slow or bad network connection. Possible fixes:\\n\"+\n",
       "     \"</p>\\n\"+\n",
       "     \"<ul>\\n\"+\n",
       "     \"<li>re-rerun `output_notebook()` to attempt to load from CDN again, or</li>\\n\"+\n",
       "     \"<li>use INLINE resources instead, as so:</li>\\n\"+\n",
       "     \"</ul>\\n\"+\n",
       "     \"<code>\\n\"+\n",
       "     \"from bokeh.resources import INLINE\\n\"+\n",
       "     \"output_notebook(resources=INLINE)\\n\"+\n",
       "     \"</code>\\n\"+\n",
       "     \"</div>\"}};\n",
       "\n",
       "  function display_loaded() {\n",
       "    var el = document.getElementById(\"07db00de-cf72-46a7-867f-9af54fc6e1bb\");\n",
       "    if (el != null) {\n",
       "      el.textContent = \"BokehJS is loading...\";\n",
       "    }\n",
       "    if (root.Bokeh !== undefined) {\n",
       "      if (el != null) {\n",
       "        el.textContent = \"BokehJS \" + root.Bokeh.version + \" successfully loaded.\";\n",
       "      }\n",
       "    } else if (Date.now() < root._bokeh_timeout) {\n",
       "      setTimeout(display_loaded, 100)\n",
       "    }\n",
       "  }\n",
       "\n",
       "\n",
       "  function run_callbacks() {\n",
       "    try {\n",
       "      root._bokeh_onload_callbacks.forEach(function(callback) { callback() });\n",
       "    }\n",
       "    finally {\n",
       "      delete root._bokeh_onload_callbacks\n",
       "    }\n",
       "    console.info(\"Bokeh: all callbacks have finished\");\n",
       "  }\n",
       "\n",
       "  function load_libs(js_urls, callback) {\n",
       "    root._bokeh_onload_callbacks.push(callback);\n",
       "    if (root._bokeh_is_loading > 0) {\n",
       "      console.log(\"Bokeh: BokehJS is being loaded, scheduling callback at\", now());\n",
       "      return null;\n",
       "    }\n",
       "    if (js_urls == null || js_urls.length === 0) {\n",
       "      run_callbacks();\n",
       "      return null;\n",
       "    }\n",
       "    console.log(\"Bokeh: BokehJS not loaded, scheduling load and callback at\", now());\n",
       "    root._bokeh_is_loading = js_urls.length;\n",
       "    for (var i = 0; i < js_urls.length; i++) {\n",
       "      var url = js_urls[i];\n",
       "      var s = document.createElement('script');\n",
       "      s.src = url;\n",
       "      s.async = false;\n",
       "      s.onreadystatechange = s.onload = function() {\n",
       "        root._bokeh_is_loading--;\n",
       "        if (root._bokeh_is_loading === 0) {\n",
       "          console.log(\"Bokeh: all BokehJS libraries loaded\");\n",
       "          run_callbacks()\n",
       "        }\n",
       "      };\n",
       "      s.onerror = function() {\n",
       "        console.warn(\"failed to load library \" + url);\n",
       "      };\n",
       "      console.log(\"Bokeh: injecting script tag for BokehJS library: \", url);\n",
       "      document.getElementsByTagName(\"head\")[0].appendChild(s);\n",
       "    }\n",
       "  };var element = document.getElementById(\"07db00de-cf72-46a7-867f-9af54fc6e1bb\");\n",
       "  if (element == null) {\n",
       "    console.log(\"Bokeh: ERROR: autoload.js configured with elementid '07db00de-cf72-46a7-867f-9af54fc6e1bb' but no matching script tag was found. \")\n",
       "    return false;\n",
       "  }\n",
       "\n",
       "  var js_urls = [\"https://cdn.pydata.org/bokeh/release/bokeh-0.13.0.min.js\", \"https://cdn.pydata.org/bokeh/release/bokeh-widgets-0.13.0.min.js\", \"https://cdn.pydata.org/bokeh/release/bokeh-tables-0.13.0.min.js\", \"https://cdn.pydata.org/bokeh/release/bokeh-gl-0.13.0.min.js\"];\n",
       "\n",
       "  var inline_js = [\n",
       "    function(Bokeh) {\n",
       "      Bokeh.set_log_level(\"info\");\n",
       "    },\n",
       "    \n",
       "    function(Bokeh) {\n",
       "      \n",
       "    },\n",
       "    function(Bokeh) {\n",
       "      console.log(\"Bokeh: injecting CSS: https://cdn.pydata.org/bokeh/release/bokeh-0.13.0.min.css\");\n",
       "      Bokeh.embed.inject_css(\"https://cdn.pydata.org/bokeh/release/bokeh-0.13.0.min.css\");\n",
       "      console.log(\"Bokeh: injecting CSS: https://cdn.pydata.org/bokeh/release/bokeh-widgets-0.13.0.min.css\");\n",
       "      Bokeh.embed.inject_css(\"https://cdn.pydata.org/bokeh/release/bokeh-widgets-0.13.0.min.css\");\n",
       "      console.log(\"Bokeh: injecting CSS: https://cdn.pydata.org/bokeh/release/bokeh-tables-0.13.0.min.css\");\n",
       "      Bokeh.embed.inject_css(\"https://cdn.pydata.org/bokeh/release/bokeh-tables-0.13.0.min.css\");\n",
       "    }\n",
       "  ];\n",
       "\n",
       "  function run_inline_js() {\n",
       "    \n",
       "    if ((root.Bokeh !== undefined) || (force === true)) {\n",
       "      for (var i = 0; i < inline_js.length; i++) {\n",
       "        inline_js[i].call(root, root.Bokeh);\n",
       "      }if (force === true) {\n",
       "        display_loaded();\n",
       "      }} else if (Date.now() < root._bokeh_timeout) {\n",
       "      setTimeout(run_inline_js, 100);\n",
       "    } else if (!root._bokeh_failed_load) {\n",
       "      console.log(\"Bokeh: BokehJS failed to load within specified timeout.\");\n",
       "      root._bokeh_failed_load = true;\n",
       "    } else if (force !== true) {\n",
       "      var cell = $(document.getElementById(\"07db00de-cf72-46a7-867f-9af54fc6e1bb\")).parents('.cell').data().cell;\n",
       "      cell.output_area.append_execute_result(NB_LOAD_WARNING)\n",
       "    }\n",
       "\n",
       "  }\n",
       "\n",
       "  if (root._bokeh_is_loading === 0) {\n",
       "    console.log(\"Bokeh: BokehJS loaded, going straight to plotting\");\n",
       "    run_inline_js();\n",
       "  } else {\n",
       "    load_libs(js_urls, function() {\n",
       "      console.log(\"Bokeh: BokehJS plotting callback run at\", now());\n",
       "      run_inline_js();\n",
       "    });\n",
       "  }\n",
       "}(window));"
      ],
      "application/vnd.bokehjs_load.v0+json": "\n(function(root) {\n  function now() {\n    return new Date();\n  }\n\n  var force = true;\n\n  if (typeof (root._bokeh_onload_callbacks) === \"undefined\" || force === true) {\n    root._bokeh_onload_callbacks = [];\n    root._bokeh_is_loading = undefined;\n  }\n\n  \n\n  \n  if (typeof (root._bokeh_timeout) === \"undefined\" || force === true) {\n    root._bokeh_timeout = Date.now() + 5000;\n    root._bokeh_failed_load = false;\n  }\n\n  var NB_LOAD_WARNING = {'data': {'text/html':\n     \"<div style='background-color: #fdd'>\\n\"+\n     \"<p>\\n\"+\n     \"BokehJS does not appear to have successfully loaded. If loading BokehJS from CDN, this \\n\"+\n     \"may be due to a slow or bad network connection. Possible fixes:\\n\"+\n     \"</p>\\n\"+\n     \"<ul>\\n\"+\n     \"<li>re-rerun `output_notebook()` to attempt to load from CDN again, or</li>\\n\"+\n     \"<li>use INLINE resources instead, as so:</li>\\n\"+\n     \"</ul>\\n\"+\n     \"<code>\\n\"+\n     \"from bokeh.resources import INLINE\\n\"+\n     \"output_notebook(resources=INLINE)\\n\"+\n     \"</code>\\n\"+\n     \"</div>\"}};\n\n  function display_loaded() {\n    var el = document.getElementById(\"07db00de-cf72-46a7-867f-9af54fc6e1bb\");\n    if (el != null) {\n      el.textContent = \"BokehJS is loading...\";\n    }\n    if (root.Bokeh !== undefined) {\n      if (el != null) {\n        el.textContent = \"BokehJS \" + root.Bokeh.version + \" successfully loaded.\";\n      }\n    } else if (Date.now() < root._bokeh_timeout) {\n      setTimeout(display_loaded, 100)\n    }\n  }\n\n\n  function run_callbacks() {\n    try {\n      root._bokeh_onload_callbacks.forEach(function(callback) { callback() });\n    }\n    finally {\n      delete root._bokeh_onload_callbacks\n    }\n    console.info(\"Bokeh: all callbacks have finished\");\n  }\n\n  function load_libs(js_urls, callback) {\n    root._bokeh_onload_callbacks.push(callback);\n    if (root._bokeh_is_loading > 0) {\n      console.log(\"Bokeh: BokehJS is being loaded, scheduling callback at\", now());\n      return null;\n    }\n    if (js_urls == null || js_urls.length === 0) {\n      run_callbacks();\n      return null;\n    }\n    console.log(\"Bokeh: BokehJS not loaded, scheduling load and callback at\", now());\n    root._bokeh_is_loading = js_urls.length;\n    for (var i = 0; i < js_urls.length; i++) {\n      var url = js_urls[i];\n      var s = document.createElement('script');\n      s.src = url;\n      s.async = false;\n      s.onreadystatechange = s.onload = function() {\n        root._bokeh_is_loading--;\n        if (root._bokeh_is_loading === 0) {\n          console.log(\"Bokeh: all BokehJS libraries loaded\");\n          run_callbacks()\n        }\n      };\n      s.onerror = function() {\n        console.warn(\"failed to load library \" + url);\n      };\n      console.log(\"Bokeh: injecting script tag for BokehJS library: \", url);\n      document.getElementsByTagName(\"head\")[0].appendChild(s);\n    }\n  };var element = document.getElementById(\"07db00de-cf72-46a7-867f-9af54fc6e1bb\");\n  if (element == null) {\n    console.log(\"Bokeh: ERROR: autoload.js configured with elementid '07db00de-cf72-46a7-867f-9af54fc6e1bb' but no matching script tag was found. \")\n    return false;\n  }\n\n  var js_urls = [\"https://cdn.pydata.org/bokeh/release/bokeh-0.13.0.min.js\", \"https://cdn.pydata.org/bokeh/release/bokeh-widgets-0.13.0.min.js\", \"https://cdn.pydata.org/bokeh/release/bokeh-tables-0.13.0.min.js\", \"https://cdn.pydata.org/bokeh/release/bokeh-gl-0.13.0.min.js\"];\n\n  var inline_js = [\n    function(Bokeh) {\n      Bokeh.set_log_level(\"info\");\n    },\n    \n    function(Bokeh) {\n      \n    },\n    function(Bokeh) {\n      console.log(\"Bokeh: injecting CSS: https://cdn.pydata.org/bokeh/release/bokeh-0.13.0.min.css\");\n      Bokeh.embed.inject_css(\"https://cdn.pydata.org/bokeh/release/bokeh-0.13.0.min.css\");\n      console.log(\"Bokeh: injecting CSS: https://cdn.pydata.org/bokeh/release/bokeh-widgets-0.13.0.min.css\");\n      Bokeh.embed.inject_css(\"https://cdn.pydata.org/bokeh/release/bokeh-widgets-0.13.0.min.css\");\n      console.log(\"Bokeh: injecting CSS: https://cdn.pydata.org/bokeh/release/bokeh-tables-0.13.0.min.css\");\n      Bokeh.embed.inject_css(\"https://cdn.pydata.org/bokeh/release/bokeh-tables-0.13.0.min.css\");\n    }\n  ];\n\n  function run_inline_js() {\n    \n    if ((root.Bokeh !== undefined) || (force === true)) {\n      for (var i = 0; i < inline_js.length; i++) {\n        inline_js[i].call(root, root.Bokeh);\n      }if (force === true) {\n        display_loaded();\n      }} else if (Date.now() < root._bokeh_timeout) {\n      setTimeout(run_inline_js, 100);\n    } else if (!root._bokeh_failed_load) {\n      console.log(\"Bokeh: BokehJS failed to load within specified timeout.\");\n      root._bokeh_failed_load = true;\n    } else if (force !== true) {\n      var cell = $(document.getElementById(\"07db00de-cf72-46a7-867f-9af54fc6e1bb\")).parents('.cell').data().cell;\n      cell.output_area.append_execute_result(NB_LOAD_WARNING)\n    }\n\n  }\n\n  if (root._bokeh_is_loading === 0) {\n    console.log(\"Bokeh: BokehJS loaded, going straight to plotting\");\n    run_inline_js();\n  } else {\n    load_libs(js_urls, function() {\n      console.log(\"Bokeh: BokehJS plotting callback run at\", now());\n      run_inline_js();\n    });\n  }\n}(window));"
     },
     "metadata": {},
     "output_type": "display_data"
    }
   ],
   "source": [
    "import numpy as np\n",
    "\n",
    "# Bokeh for interactive plots\n",
    "from bokeh.plotting import figure, output_notebook, show\n",
    "from bokeh.layouts import row\n",
    "output_notebook()\n",
    "\n",
    "def plot(w=950,h=500,title=''):\n",
    "    '''Wrapper function to ease starting a new plot.\n",
    "    '''\n",
    "    p = figure(plot_width=w,plot_height=h,title=title,toolbar_location=\"below\")\n",
    "    p.xaxis.axis_label = 'X'\n",
    "    p.yaxis.axis_label = 'f(X)'\n",
    "    return p"
   ]
  },
  {
   "cell_type": "markdown",
   "metadata": {},
   "source": [
    "# Functions as Mappings\n",
    "\n",
    "$$ f: x \\mapsto y $$"
   ]
  },
  {
   "cell_type": "code",
   "execution_count": 2,
   "metadata": {},
   "outputs": [],
   "source": [
    "def f(x):\n",
    "    return 3*x\n",
    "\n",
    "def g(x):\n",
    "    return x**2\n",
    "\n",
    "def h(x):\n",
    "    return np.cos(x)*100"
   ]
  },
  {
   "cell_type": "markdown",
   "metadata": {},
   "source": [
    "Each maps $x$ to $y$ in a different fashion."
   ]
  },
  {
   "cell_type": "code",
   "execution_count": 3,
   "metadata": {},
   "outputs": [
    {
     "name": "stdout",
     "output_type": "stream",
     "text": [
      "\n",
      "f: 0.15 |--> 0.44999999999999996\n",
      "f: 3 |--> 9\n",
      "f: 10 |--> 30\n",
      "\n",
      "g: 0.15 |--> 0.0225\n",
      "g: 3 |--> 9\n",
      "g: 10 |--> 100\n",
      "\n",
      "h: 0.15 |--> 98.87710779360422\n",
      "h: 3 |--> -98.99924966004454\n",
      "h: 10 |--> -83.90715290764524\n"
     ]
    }
   ],
   "source": [
    "x = [.15,3,10]\n",
    "print(\"\\nf:\",x[0],\"|-->\",f(x[0]))\n",
    "print(\"f:\",x[1],\"|-->\",f(x[1]))\n",
    "print(\"f:\",x[2],\"|-->\",f(x[2]))\n",
    "\n",
    "print(\"\\ng:\",x[0],\"|-->\",g(x[0]))\n",
    "print(\"g:\",x[1],\"|-->\",g(x[1]))\n",
    "print(\"g:\",x[2],\"|-->\",g(x[2]))\n",
    "\n",
    "print(\"\\nh:\",x[0],\"|-->\",h(x[0]))\n",
    "print(\"h:\",x[1],\"|-->\",h(x[1]))\n",
    "print(\"h:\",x[2],\"|-->\",h(x[2]))"
   ]
  },
  {
   "cell_type": "markdown",
   "metadata": {},
   "source": [
    "When we plot these mappings, distinct functional forms emerge."
   ]
  },
  {
   "cell_type": "code",
   "execution_count": 4,
   "metadata": {},
   "outputs": [
    {
     "data": {
      "text/html": [
       "\n",
       "\n",
       "\n",
       "\n",
       "\n",
       "\n",
       "  <div class=\"bk-root\" id=\"763ae560-8da3-4770-9629-f2246196a957\"></div>\n"
      ]
     },
     "metadata": {},
     "output_type": "display_data"
    },
    {
     "data": {
      "application/javascript": [
       "(function(root) {\n",
       "  function embed_document(root) {\n",
       "    \n",
       "  var docs_json = {\"0749a9f3-74bf-43f9-83f1-941587bd7ad3\":{\"roots\":{\"references\":[{\"attributes\":{\"callback\":null},\"id\":\"215631c1-2b84-4596-9407-4f65914a2cf1\",\"type\":\"DataRange1d\"},{\"attributes\":{\"line_alpha\":0.1,\"line_color\":\"#1f77b4\",\"line_width\":3,\"x\":{\"field\":\"x\"},\"y\":{\"field\":\"y\"}},\"id\":\"0fac2e42-2e37-4360-bdd2-9e65dd65eb7d\",\"type\":\"Line\"},{\"attributes\":{},\"id\":\"5c9c41cd-6475-4128-8687-d6ba7d70d29f\",\"type\":\"HelpTool\"},{\"attributes\":{\"bottom_units\":\"screen\",\"fill_alpha\":{\"value\":0.5},\"fill_color\":{\"value\":\"lightgrey\"},\"left_units\":\"screen\",\"level\":\"overlay\",\"line_alpha\":{\"value\":1.0},\"line_color\":{\"value\":\"black\"},\"line_dash\":[4,4],\"line_width\":{\"value\":2},\"plot\":null,\"render_mode\":\"css\",\"right_units\":\"screen\",\"top_units\":\"screen\"},\"id\":\"cd776cb5-e192-4b74-a8a2-b1c4661a7f0d\",\"type\":\"BoxAnnotation\"},{\"attributes\":{},\"id\":\"441b34d8-ae2b-4f0c-b4c3-2748f2521108\",\"type\":\"BasicTickFormatter\"},{\"attributes\":{\"source\":{\"id\":\"1e95feba-e09c-4c38-a85d-4f31b5598ed7\",\"type\":\"ColumnDataSource\"}},\"id\":\"25d5f6db-8d7b-4664-bc6c-e709284d826e\",\"type\":\"CDSView\"},{\"attributes\":{\"callback\":null,\"data\":{\"x\":{\"__ndarray__\":\"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\",\"dtype\":\"float64\",\"shape\":[200]},\"y\":{\"__ndarray__\":\"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\",\"dtype\":\"float64\",\"shape\":[200]}},\"selected\":{\"id\":\"e87cd98b-ded1-4edf-adf1-e9f6ebef41d4\",\"type\":\"Selection\"},\"selection_policy\":{\"id\":\"f2dc3739-5c81-4cbf-b3c3-80249ab4c242\",\"type\":\"UnionRenderers\"}},\"id\":\"94608ca2-82d3-4c2e-a6d1-24807ed66470\",\"type\":\"ColumnDataSource\"},{\"attributes\":{\"data_source\":{\"id\":\"d403ee2c-cf8a-4080-a831-7aefdba6dd51\",\"type\":\"ColumnDataSource\"},\"glyph\":{\"id\":\"b32ffeed-2c9f-44ee-b1f9-542efd2c6b51\",\"type\":\"Line\"},\"hover_glyph\":null,\"muted_glyph\":null,\"nonselection_glyph\":{\"id\":\"0fac2e42-2e37-4360-bdd2-9e65dd65eb7d\",\"type\":\"Line\"},\"selection_glyph\":null,\"view\":{\"id\":\"eb954143-5be4-4b4a-bfec-b3d4b89f618b\",\"type\":\"CDSView\"}},\"id\":\"73f05ad6-f7b9-4b8f-8a70-70f673b36746\",\"type\":\"GlyphRenderer\"},{\"attributes\":{\"source\":{\"id\":\"d403ee2c-cf8a-4080-a831-7aefdba6dd51\",\"type\":\"ColumnDataSource\"}},\"id\":\"eb954143-5be4-4b4a-bfec-b3d4b89f618b\",\"type\":\"CDSView\"},{\"attributes\":{},\"id\":\"4f39a940-5319-451e-820b-a9bc73e0a866\",\"type\":\"LinearScale\"},{\"attributes\":{\"callback\":null},\"id\":\"9371a135-8172-4440-ad1f-0ff2114a5179\",\"type\":\"DataRange1d\"},{\"attributes\":{},\"id\":\"81ee7cf8-f538-4d59-a6ec-cd02b9fe0ec9\",\"type\":\"WheelZoomTool\"},{\"attributes\":{\"line_color\":\"orange\",\"line_width\":3,\"x\":{\"field\":\"x\"},\"y\":{\"field\":\"y\"}},\"id\":\"84aa9863-d932-4a6c-9fb8-b98f7760fb13\",\"type\":\"Line\"},{\"attributes\":{\"line_alpha\":0.1,\"line_color\":\"#1f77b4\",\"line_width\":3,\"x\":{\"field\":\"x\"},\"y\":{\"field\":\"y\"}},\"id\":\"cd676cf6-e868-4887-b69c-0c9c83982eb4\",\"type\":\"Line\"},{\"attributes\":{},\"id\":\"0246365d-1d61-4f5d-81cf-3fbe0bfbe753\",\"type\":\"PanTool\"},{\"attributes\":{\"data_source\":{\"id\":\"94608ca2-82d3-4c2e-a6d1-24807ed66470\",\"type\":\"ColumnDataSource\"},\"glyph\":{\"id\":\"84aa9863-d932-4a6c-9fb8-b98f7760fb13\",\"type\":\"Line\"},\"hover_glyph\":null,\"muted_glyph\":null,\"nonselection_glyph\":{\"id\":\"cd676cf6-e868-4887-b69c-0c9c83982eb4\",\"type\":\"Line\"},\"selection_glyph\":null,\"view\":{\"id\":\"c46e0771-5238-410f-9641-7be92f2f2569\",\"type\":\"CDSView\"}},\"id\":\"4304219a-293a-4c62-8e7b-1ea1973190e0\",\"type\":\"GlyphRenderer\"},{\"attributes\":{\"plot\":{\"id\":\"0d839507-fe0c-4df2-82e5-78679522f0a6\",\"subtype\":\"Figure\",\"type\":\"Plot\"},\"ticker\":{\"id\":\"b38992da-b807-48d6-93bf-fa0115864084\",\"type\":\"BasicTicker\"}},\"id\":\"9262ed80-c20b-466d-9a6c-59ce98801901\",\"type\":\"Grid\"},{\"attributes\":{\"source\":{\"id\":\"94608ca2-82d3-4c2e-a6d1-24807ed66470\",\"type\":\"ColumnDataSource\"}},\"id\":\"c46e0771-5238-410f-9641-7be92f2f2569\",\"type\":\"CDSView\"},{\"attributes\":{\"line_alpha\":0.1,\"line_color\":\"#1f77b4\",\"line_width\":3,\"x\":{\"field\":\"x\"},\"y\":{\"field\":\"y\"}},\"id\":\"92d7197f-51bb-4d6a-bab1-22ba38dc39af\",\"type\":\"Line\"},{\"attributes\":{},\"id\":\"3d748b02-d99a-48a8-9929-2adedbcec924\",\"type\":\"BasicTickFormatter\"},{\"attributes\":{\"overlay\":{\"id\":\"cd776cb5-e192-4b74-a8a2-b1c4661a7f0d\",\"type\":\"BoxAnnotation\"}},\"id\":\"be3d09d4-257a-46b0-a490-b5609cd4f549\",\"type\":\"BoxZoomTool\"},{\"attributes\":{},\"id\":\"7a2b4b98-9daf-489d-8a14-3c5ae2aefad5\",\"type\":\"LinearScale\"},{\"attributes\":{},\"id\":\"35a7d697-e3a3-4d1d-92e4-efcc2f073eca\",\"type\":\"Selection\"},{\"attributes\":{},\"id\":\"3649a269-29d5-4a3a-9e78-3125d7b9ed2a\",\"type\":\"UnionRenderers\"},{\"attributes\":{\"data_source\":{\"id\":\"1e95feba-e09c-4c38-a85d-4f31b5598ed7\",\"type\":\"ColumnDataSource\"},\"glyph\":{\"id\":\"3ab6556f-de0a-4676-adee-dd8c3b2794b5\",\"type\":\"Line\"},\"hover_glyph\":null,\"muted_glyph\":null,\"nonselection_glyph\":{\"id\":\"92d7197f-51bb-4d6a-bab1-22ba38dc39af\",\"type\":\"Line\"},\"selection_glyph\":null,\"view\":{\"id\":\"25d5f6db-8d7b-4664-bc6c-e709284d826e\",\"type\":\"CDSView\"}},\"id\":\"7cdc7f77-f3a3-4995-ad07-75bdc8547db2\",\"type\":\"GlyphRenderer\"},{\"attributes\":{},\"id\":\"9f9debf9-1b21-47d6-8431-177716e27559\",\"type\":\"Selection\"},{\"attributes\":{\"dimension\":1,\"plot\":{\"id\":\"0d839507-fe0c-4df2-82e5-78679522f0a6\",\"subtype\":\"Figure\",\"type\":\"Plot\"},\"ticker\":{\"id\":\"29d87a79-5008-4193-b765-18757f0b5f3c\",\"type\":\"BasicTicker\"}},\"id\":\"b28785b7-e45a-40f5-8b75-22dc2976c529\",\"type\":\"Grid\"},{\"attributes\":{},\"id\":\"feb06d79-3134-4fef-9459-e1e616d09fc3\",\"type\":\"UnionRenderers\"},{\"attributes\":{\"callback\":null,\"data\":{\"x\":{\"__ndarray__\":\"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\",\"dtype\":\"float64\",\"shape\":[200]},\"y\":{\"__ndarray__\":\"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\",\"dtype\":\"float64\",\"shape\":[200]}},\"selected\":{\"id\":\"35a7d697-e3a3-4d1d-92e4-efcc2f073eca\",\"type\":\"Selection\"},\"selection_policy\":{\"id\":\"3649a269-29d5-4a3a-9e78-3125d7b9ed2a\",\"type\":\"UnionRenderers\"}},\"id\":\"1e95feba-e09c-4c38-a85d-4f31b5598ed7\",\"type\":\"ColumnDataSource\"},{\"attributes\":{},\"id\":\"e87cd98b-ded1-4edf-adf1-e9f6ebef41d4\",\"type\":\"Selection\"},{\"attributes\":{\"plot\":null,\"text\":\"\"},\"id\":\"702a647f-1998-4844-a577-c2fd5583df22\",\"type\":\"Title\"},{\"attributes\":{},\"id\":\"f2dc3739-5c81-4cbf-b3c3-80249ab4c242\",\"type\":\"UnionRenderers\"},{\"attributes\":{\"line_color\":\"green\",\"line_width\":3,\"x\":{\"field\":\"x\"},\"y\":{\"field\":\"y\"}},\"id\":\"b32ffeed-2c9f-44ee-b1f9-542efd2c6b51\",\"type\":\"Line\"},{\"attributes\":{\"below\":[{\"id\":\"6294b392-7871-407d-ba73-bd857ae0edb3\",\"type\":\"LinearAxis\"}],\"left\":[{\"id\":\"a5df7985-eb18-429a-9439-b8d511d522f3\",\"type\":\"LinearAxis\"}],\"plot_height\":500,\"plot_width\":950,\"renderers\":[{\"id\":\"6294b392-7871-407d-ba73-bd857ae0edb3\",\"type\":\"LinearAxis\"},{\"id\":\"9262ed80-c20b-466d-9a6c-59ce98801901\",\"type\":\"Grid\"},{\"id\":\"a5df7985-eb18-429a-9439-b8d511d522f3\",\"type\":\"LinearAxis\"},{\"id\":\"b28785b7-e45a-40f5-8b75-22dc2976c529\",\"type\":\"Grid\"},{\"id\":\"cd776cb5-e192-4b74-a8a2-b1c4661a7f0d\",\"type\":\"BoxAnnotation\"},{\"id\":\"7cdc7f77-f3a3-4995-ad07-75bdc8547db2\",\"type\":\"GlyphRenderer\"},{\"id\":\"73f05ad6-f7b9-4b8f-8a70-70f673b36746\",\"type\":\"GlyphRenderer\"},{\"id\":\"4304219a-293a-4c62-8e7b-1ea1973190e0\",\"type\":\"GlyphRenderer\"}],\"title\":{\"id\":\"702a647f-1998-4844-a577-c2fd5583df22\",\"type\":\"Title\"},\"toolbar\":{\"id\":\"6563d554-f844-4607-99f3-7bdc32c8ed77\",\"type\":\"Toolbar\"},\"toolbar_location\":\"below\",\"x_range\":{\"id\":\"215631c1-2b84-4596-9407-4f65914a2cf1\",\"type\":\"DataRange1d\"},\"x_scale\":{\"id\":\"4f39a940-5319-451e-820b-a9bc73e0a866\",\"type\":\"LinearScale\"},\"y_range\":{\"id\":\"9371a135-8172-4440-ad1f-0ff2114a5179\",\"type\":\"DataRange1d\"},\"y_scale\":{\"id\":\"7a2b4b98-9daf-489d-8a14-3c5ae2aefad5\",\"type\":\"LinearScale\"}},\"id\":\"0d839507-fe0c-4df2-82e5-78679522f0a6\",\"subtype\":\"Figure\",\"type\":\"Plot\"},{\"attributes\":{\"axis_label\":\"X\",\"formatter\":{\"id\":\"441b34d8-ae2b-4f0c-b4c3-2748f2521108\",\"type\":\"BasicTickFormatter\"},\"plot\":{\"id\":\"0d839507-fe0c-4df2-82e5-78679522f0a6\",\"subtype\":\"Figure\",\"type\":\"Plot\"},\"ticker\":{\"id\":\"b38992da-b807-48d6-93bf-fa0115864084\",\"type\":\"BasicTicker\"}},\"id\":\"6294b392-7871-407d-ba73-bd857ae0edb3\",\"type\":\"LinearAxis\"},{\"attributes\":{\"active_drag\":\"auto\",\"active_inspect\":\"auto\",\"active_multi\":null,\"active_scroll\":\"auto\",\"active_tap\":\"auto\",\"tools\":[{\"id\":\"0246365d-1d61-4f5d-81cf-3fbe0bfbe753\",\"type\":\"PanTool\"},{\"id\":\"81ee7cf8-f538-4d59-a6ec-cd02b9fe0ec9\",\"type\":\"WheelZoomTool\"},{\"id\":\"be3d09d4-257a-46b0-a490-b5609cd4f549\",\"type\":\"BoxZoomTool\"},{\"id\":\"a0905712-ba48-4ac7-9e91-79097175feec\",\"type\":\"SaveTool\"},{\"id\":\"19978640-5a7e-44f6-a3f4-b312bdd9fadb\",\"type\":\"ResetTool\"},{\"id\":\"5c9c41cd-6475-4128-8687-d6ba7d70d29f\",\"type\":\"HelpTool\"}]},\"id\":\"6563d554-f844-4607-99f3-7bdc32c8ed77\",\"type\":\"Toolbar\"},{\"attributes\":{},\"id\":\"19978640-5a7e-44f6-a3f4-b312bdd9fadb\",\"type\":\"ResetTool\"},{\"attributes\":{},\"id\":\"29d87a79-5008-4193-b765-18757f0b5f3c\",\"type\":\"BasicTicker\"},{\"attributes\":{},\"id\":\"a0905712-ba48-4ac7-9e91-79097175feec\",\"type\":\"SaveTool\"},{\"attributes\":{},\"id\":\"b38992da-b807-48d6-93bf-fa0115864084\",\"type\":\"BasicTicker\"},{\"attributes\":{\"axis_label\":\"f(X)\",\"formatter\":{\"id\":\"3d748b02-d99a-48a8-9929-2adedbcec924\",\"type\":\"BasicTickFormatter\"},\"plot\":{\"id\":\"0d839507-fe0c-4df2-82e5-78679522f0a6\",\"subtype\":\"Figure\",\"type\":\"Plot\"},\"ticker\":{\"id\":\"29d87a79-5008-4193-b765-18757f0b5f3c\",\"type\":\"BasicTicker\"}},\"id\":\"a5df7985-eb18-429a-9439-b8d511d522f3\",\"type\":\"LinearAxis\"},{\"attributes\":{\"callback\":null,\"data\":{\"x\":{\"__ndarray__\":\"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\",\"dtype\":\"float64\",\"shape\":[200]},\"y\":{\"__ndarray__\":\"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\",\"dtype\":\"float64\",\"shape\":[200]}},\"selected\":{\"id\":\"9f9debf9-1b21-47d6-8431-177716e27559\",\"type\":\"Selection\"},\"selection_policy\":{\"id\":\"feb06d79-3134-4fef-9459-e1e616d09fc3\",\"type\":\"UnionRenderers\"}},\"id\":\"d403ee2c-cf8a-4080-a831-7aefdba6dd51\",\"type\":\"ColumnDataSource\"},{\"attributes\":{\"line_color\":\"#1f77b4\",\"line_width\":3,\"x\":{\"field\":\"x\"},\"y\":{\"field\":\"y\"}},\"id\":\"3ab6556f-de0a-4676-adee-dd8c3b2794b5\",\"type\":\"Line\"}],\"root_ids\":[\"0d839507-fe0c-4df2-82e5-78679522f0a6\"]},\"title\":\"Bokeh Application\",\"version\":\"0.13.0\"}};\n",
       "  var render_items = [{\"docid\":\"0749a9f3-74bf-43f9-83f1-941587bd7ad3\",\"roots\":{\"0d839507-fe0c-4df2-82e5-78679522f0a6\":\"763ae560-8da3-4770-9629-f2246196a957\"}}];\n",
       "  root.Bokeh.embed.embed_items_notebook(docs_json, render_items);\n",
       "\n",
       "  }\n",
       "  if (root.Bokeh !== undefined) {\n",
       "    embed_document(root);\n",
       "  } else {\n",
       "    var attempts = 0;\n",
       "    var timer = setInterval(function(root) {\n",
       "      if (root.Bokeh !== undefined) {\n",
       "        embed_document(root);\n",
       "        clearInterval(timer);\n",
       "      }\n",
       "      attempts++;\n",
       "      if (attempts > 100) {\n",
       "        console.log(\"Bokeh: ERROR: Unable to run BokehJS code because BokehJS library is missing\")\n",
       "        clearInterval(timer);\n",
       "      }\n",
       "    }, 10, root)\n",
       "  }\n",
       "})(window);"
      ],
      "application/vnd.bokehjs_exec.v0+json": ""
     },
     "metadata": {
      "application/vnd.bokehjs_exec.v0+json": {
       "id": "0d839507-fe0c-4df2-82e5-78679522f0a6"
      }
     },
     "output_type": "display_data"
    }
   ],
   "source": [
    "x = np.arange(-5, 15, .1)\n",
    "p = plot()\n",
    "p.line(x,f(x),line_width=3)\n",
    "p.line(x,g(x),line_width=3,color=\"green\")\n",
    "p.line(x,h(x),line_width=3,color=\"orange\")\n",
    "show(p)"
   ]
  },
  {
   "cell_type": "markdown",
   "metadata": {},
   "source": [
    "# Continuous vs. Discontinuous Functions"
   ]
  },
  {
   "cell_type": "code",
   "execution_count": 5,
   "metadata": {},
   "outputs": [],
   "source": [
    "def f(x):\n",
    "    return 10*np.sin(x)\n",
    "\n",
    "def h(x):\n",
    "    return np.abs(x)\n",
    "\n",
    "# Define our functions piece meal...\n",
    "def g1(x):\n",
    "    y = np.zeros_like(x)\n",
    "    y[np.where(x>=0)] = 5 + -1*x[np.where(x>=0)] + -.2*x[np.where(x>=0)]**2 + .01*x[np.where(x>=0)]**3\n",
    "    y[np.where(y==0)] = np.nan\n",
    "    return y\n",
    "\n",
    "def g2(x):\n",
    "    y = np.zeros_like(x)\n",
    "    y[np.where(x<0)] = x[np.where(x<0)]**2\n",
    "    y[np.where(y==0)] = np.nan\n",
    "    return y"
   ]
  },
  {
   "cell_type": "code",
   "execution_count": 6,
   "metadata": {},
   "outputs": [
    {
     "data": {
      "text/html": [
       "\n",
       "\n",
       "\n",
       "\n",
       "\n",
       "\n",
       "  <div class=\"bk-root\" id=\"a5803558-0f70-458b-b4e5-4fb1a40e1f61\"></div>\n"
      ]
     },
     "metadata": {},
     "output_type": "display_data"
    },
    {
     "data": {
      "application/javascript": [
       "(function(root) {\n",
       "  function embed_document(root) {\n",
       "    \n",
       "  var docs_json = {\"946fe3a6-400e-417e-a1c0-1b525695c742\":{\"roots\":{\"references\":[{\"attributes\":{},\"id\":\"cd7d5e72-21c1-4116-a535-b2bb62044271\",\"type\":\"ResetTool\"},{\"attributes\":{\"active_drag\":\"auto\",\"active_inspect\":\"auto\",\"active_multi\":null,\"active_scroll\":\"auto\",\"active_tap\":\"auto\",\"tools\":[{\"id\":\"1b935e51-454c-439d-81d9-da0cf092c61a\",\"type\":\"PanTool\"},{\"id\":\"654c49ef-81c8-4cf4-96e4-b72adbc596ee\",\"type\":\"WheelZoomTool\"},{\"id\":\"a9883689-9579-4d9e-a558-a3a7d6a746cd\",\"type\":\"BoxZoomTool\"},{\"id\":\"154b6d63-9ff9-4ed5-aa35-aef29ac940c4\",\"type\":\"SaveTool\"},{\"id\":\"cd7d5e72-21c1-4116-a535-b2bb62044271\",\"type\":\"ResetTool\"},{\"id\":\"acf1888b-816b-4429-9963-cc5c550e20b2\",\"type\":\"HelpTool\"}]},\"id\":\"e11a1c5e-4de6-4ae5-9270-4a515eccbdaa\",\"type\":\"Toolbar\"},{\"attributes\":{},\"id\":\"154b6d63-9ff9-4ed5-aa35-aef29ac940c4\",\"type\":\"SaveTool\"},{\"attributes\":{\"line_alpha\":0.1,\"line_color\":\"#1f77b4\",\"line_width\":3,\"x\":{\"field\":\"x\"},\"y\":{\"field\":\"y\"}},\"id\":\"1523c1e9-5203-4d0a-b63c-0a1d8a5105d4\",\"type\":\"Line\"},{\"attributes\":{\"callback\":null,\"data\":{\"x\":{\"__ndarray__\":\"AAAAAAAAFMCamZmZmZkTwDQzMzMzMxPAzszMzMzMEsBoZmZmZmYSwAIAAAAAABLAnJmZmZmZEcA2MzMzMzMRwNDMzMzMzBDAamZmZmZmEMAEAAAAAAAQwDwzMzMzMw/AcGZmZmZmDsCkmZmZmZkNwNjMzMzMzAzADAAAAAAADMBAMzMzMzMLwHRmZmZmZgrAqJmZmZmZCcDczMzMzMwIwBAAAAAAAAjARDMzMzMzB8B4ZmZmZmYGwKyZmZmZmQXA4MzMzMzMBMAUAAAAAAAEwEgzMzMzMwPAfGZmZmZmAsCwmZmZmZkBwOTMzMzMzADAGAAAAAAAAMCYZmZmZmb+vwDNzMzMzPy/aDMzMzMz+7/QmZmZmZn5vzgAAAAAAPi/oGZmZmZm9r8IzczMzMz0v3AzMzMzM/O/2JmZmZmZ8b9AAAAAAADwv1DNzMzMzOy/IJqZmZmZ6b/wZmZmZmbmv8AzMzMzM+O/kAAAAAAA4L/AmpmZmZnZv2A0MzMzM9O/AJyZmZmZyb+AnpmZmZm5vwAAAAAAABS9gJSZmZmZuT8Al5mZmZnJP+AxMzMzM9M/QJiZmZmZ2T+g/v/////fP4AyMzMzM+M/sGVmZmZm5j/gmJmZmZnpPxDMzMzMzOw/QP//////7z84mZmZmZnxP9AyMzMzM/M/aMzMzMzM9D8AZmZmZmb2P5j///////c/MJmZmZmZ+T/IMjMzMzP7P2DMzMzMzPw/+GVmZmZm/j+Q////////P5TMzMzMzABAYJmZmZmZAUAsZmZmZmYCQPgyMzMzMwNAxP//////A0CQzMzMzMwEQFyZmZmZmQVAKGZmZmZmBkD0MjMzMzMHQMD//////wdAjMzMzMzMCEBYmZmZmZkJQCRmZmZmZgpA8DIzMzMzC0C8//////8LQIjMzMzMzAxAVJmZmZmZDUAgZmZmZmYOQOwyMzMzMw9AuP//////D0BCZmZmZmYQQKjMzMzMzBBADjMzMzMzEUB0mZmZmZkRQNr//////xFAQGZmZmZmEkCmzMzMzMwSQAwzMzMzMxNAcpmZmZmZE0A=\",\"dtype\":\"float64\",\"shape\":[100]},\"y\":{\"__ndarray__\":\"AAAAAAAAFECamZmZmZkTQDQzMzMzMxNAzszMzMzMEkBoZmZmZmYSQAIAAAAAABJAnJmZmZmZEUA2MzMzMzMRQNDMzMzMzBBAamZmZmZmEEAEAAAAAAAQQDwzMzMzMw9AcGZmZmZmDkCkmZmZmZkNQNjMzMzMzAxADAAAAAAADEBAMzMzMzMLQHRmZmZmZgpAqJmZmZmZCUDczMzMzMwIQBAAAAAAAAhARDMzMzMzB0B4ZmZmZmYGQKyZmZmZmQVA4MzMzMzMBEAUAAAAAAAEQEgzMzMzMwNAfGZmZmZmAkCwmZmZmZkBQOTMzMzMzABAGAAAAAAAAECYZmZmZmb+PwDNzMzMzPw/aDMzMzMz+z/QmZmZmZn5PzgAAAAAAPg/oGZmZmZm9j8IzczMzMz0P3AzMzMzM/M/2JmZmZmZ8T9AAAAAAADwP1DNzMzMzOw/IJqZmZmZ6T/wZmZmZmbmP8AzMzMzM+M/kAAAAAAA4D/AmpmZmZnZP2A0MzMzM9M/AJyZmZmZyT+AnpmZmZm5PwAAAAAAABQ9gJSZmZmZuT8Al5mZmZnJP+AxMzMzM9M/QJiZmZmZ2T+g/v/////fP4AyMzMzM+M/sGVmZmZm5j/gmJmZmZnpPxDMzMzMzOw/QP//////7z84mZmZmZnxP9AyMzMzM/M/aMzMzMzM9D8AZmZmZmb2P5j///////c/MJmZmZmZ+T/IMjMzMzP7P2DMzMzMzPw/+GVmZmZm/j+Q////////P5TMzMzMzABAYJmZmZmZAUAsZmZmZmYCQPgyMzMzMwNAxP//////A0CQzMzMzMwEQFyZmZmZmQVAKGZmZmZmBkD0MjMzMzMHQMD//////wdAjMzMzMzMCEBYmZmZmZkJQCRmZmZmZgpA8DIzMzMzC0C8//////8LQIjMzMzMzAxAVJmZmZmZDUAgZmZmZmYOQOwyMzMzMw9AuP//////D0BCZmZmZmYQQKjMzMzMzBBADjMzMzMzEUB0mZmZmZkRQNr//////xFAQGZmZmZmEkCmzMzMzMwSQAwzMzMzMxNAcpmZmZmZE0A=\",\"dtype\":\"float64\",\"shape\":[100]}},\"selected\":{\"id\":\"e28dc360-675a-46a0-acf9-09094e0f37cd\",\"type\":\"Selection\"},\"selection_policy\":{\"id\":\"71ca344d-2b32-4c40-863c-f1c1819f06cf\",\"type\":\"UnionRenderers\"}},\"id\":\"fa91e4c3-f941-4f4c-82cd-93f14b683056\",\"type\":\"ColumnDataSource\"},{\"attributes\":{},\"id\":\"654c49ef-81c8-4cf4-96e4-b72adbc596ee\",\"type\":\"WheelZoomTool\"},{\"attributes\":{\"line_alpha\":0.1,\"line_color\":\"#1f77b4\",\"line_width\":3,\"x\":{\"field\":\"x\"},\"y\":{\"field\":\"y\"}},\"id\":\"cf9d4e96-94f7-4555-a084-fff5f9ca2152\",\"type\":\"Line\"},{\"attributes\":{\"data_source\":{\"id\":\"fa91e4c3-f941-4f4c-82cd-93f14b683056\",\"type\":\"ColumnDataSource\"},\"glyph\":{\"id\":\"3f60c8fd-ecf4-43ca-9457-c2d6935baa21\",\"type\":\"Line\"},\"hover_glyph\":null,\"muted_glyph\":null,\"nonselection_glyph\":{\"id\":\"cf9d4e96-94f7-4555-a084-fff5f9ca2152\",\"type\":\"Line\"},\"selection_glyph\":null,\"view\":{\"id\":\"fdcaf585-f77c-4d26-8ee3-ccc90af676db\",\"type\":\"CDSView\"}},\"id\":\"f023120b-e252-46f0-89d6-b41d50b1ecd9\",\"type\":\"GlyphRenderer\"},{\"attributes\":{},\"id\":\"b87597e2-4d83-41cf-8ff3-24c92153ebdb\",\"type\":\"BasicTicker\"},{\"attributes\":{\"plot\":null,\"text\":\"\"},\"id\":\"9cb09cbc-7baa-47bf-a9c3-cd3989dd6bad\",\"type\":\"Title\"},{\"attributes\":{},\"id\":\"acf1888b-816b-4429-9963-cc5c550e20b2\",\"type\":\"HelpTool\"},{\"attributes\":{\"line_color\":\"green\",\"line_width\":3,\"x\":{\"field\":\"x\"},\"y\":{\"field\":\"y\"}},\"id\":\"3f60c8fd-ecf4-43ca-9457-c2d6935baa21\",\"type\":\"Line\"},{\"attributes\":{\"callback\":null,\"data\":{\"x\":{\"__ndarray__\":\"AAAAAAAAFMCamZmZmZkTwDQzMzMzMxPAzszMzMzMEsBoZmZmZmYSwAIAAAAAABLAnJmZmZmZEcA2MzMzMzMRwNDMzMzMzBDAamZmZmZmEMAEAAAAAAAQwDwzMzMzMw/AcGZmZmZmDsCkmZmZmZkNwNjMzMzMzAzADAAAAAAADMBAMzMzMzMLwHRmZmZmZgrAqJmZmZmZCcDczMzMzMwIwBAAAAAAAAjARDMzMzMzB8B4ZmZmZmYGwKyZmZmZmQXA4MzMzMzMBMAUAAAAAAAEwEgzMzMzMwPAfGZmZmZmAsCwmZmZmZkBwOTMzMzMzADAGAAAAAAAAMCYZmZmZmb+vwDNzMzMzPy/aDMzMzMz+7/QmZmZmZn5vzgAAAAAAPi/oGZmZmZm9r8IzczMzMz0v3AzMzMzM/O/2JmZmZmZ8b9AAAAAAADwv1DNzMzMzOy/IJqZmZmZ6b/wZmZmZmbmv8AzMzMzM+O/kAAAAAAA4L/AmpmZmZnZv2A0MzMzM9O/AJyZmZmZyb+AnpmZmZm5vwAAAAAAABS9gJSZmZmZuT8Al5mZmZnJP+AxMzMzM9M/QJiZmZmZ2T+g/v/////fP4AyMzMzM+M/sGVmZmZm5j/gmJmZmZnpPxDMzMzMzOw/QP//////7z84mZmZmZnxP9AyMzMzM/M/aMzMzMzM9D8AZmZmZmb2P5j///////c/MJmZmZmZ+T/IMjMzMzP7P2DMzMzMzPw/+GVmZmZm/j+Q////////P5TMzMzMzABAYJmZmZmZAUAsZmZmZmYCQPgyMzMzMwNAxP//////A0CQzMzMzMwEQFyZmZmZmQVAKGZmZmZmBkD0MjMzMzMHQMD//////wdAjMzMzMzMCEBYmZmZmZkJQCRmZmZmZgpA8DIzMzMzC0C8//////8LQIjMzMzMzAxAVJmZmZmZDUAgZmZmZmYOQOwyMzMzMw9AuP//////D0BCZmZmZmYQQKjMzMzMzBBADjMzMzMzEUB0mZmZmZkRQNr//////xFAQGZmZmZmEkCmzMzMzMwSQAwzMzMzMxNAcpmZmZmZE0A=\",\"dtype\":\"float64\",\"shape\":[100]},\"y\":{\"__ndarray__\":\"wF+sObEtI0BG09VJKKYjQL+mR+Bc7CNAtPOCaZv/I0D1sxqsst8jQFKInEb0jCNAmDnL3jMII0Bd9kAExVIiQM4L4st3biFAfr3NLJRdIEB0JlNVqEUeQN6gZ7i5ghtA7PDnv2x5GEA8ojmnhTEVQGiDdsposxFAF/toXgoQDEAFID9Ve3EEQL3QZH1DPfk/bh4xhAKu4j+LDz5jk5zav3SJJIlGlPa/6B3thdMjA8CQXjWsjswKwBbolrZeGBHA2KaI6rueFMAMvUPRWvAXwLTFNDO+BBvApDqueAXUHcBExgpogCsgwMAn88ehQyHAkxDDUpovIsAiY3BzDu0iwKgtFpEZeiPAar995lLVI8C5Kewc0f0jwHzE+6As8yPArgyLq4C1I8ADMxv8akUjwLd1UEUKpCLAJl6cT/vSIcBAqGXZVNQgwLYSdX5EVR/A9P5v87mxHMCqoJcDysQZwECSjl3wlRbAVOSuSFEtE8CYQnajSScPwChqKftApAfAXEoN7H7J/78PxG5+WvLvvwAAAAAAAEm9n7duflry7z88RA3sfsn/PytnKftApAdAtz92o0knD0D14q5IUS0TQPaQjl3wlRZAeJ+XA8rEGUDf/W/zubEcQL4RdX5EVR9A1Kdl2VTUIEDLXZxP+9IhQG51UEUKpCJAzTIb/GpFI0CMDIurgLUjQG7E+6As8yNAwCnsHNH9I0CDv33mUtUjQNUtFpEZeiNAY2Nwcw7tIkDmEMNSmi8iQCUo88ehQyFAusYKaIArIECwO654BdQdQNvGNDO+BBtATb5D0VrwF0AvqIjqu54UQIDplrZeGBFAgmE1rI7MCkDxIO2F0yMDQKWPJIlGlPY/hig+Y5Oc2j/0ETGEAq7iv5HKZH1DPfm/AB0/VXtxBMAq+GheChAMwAGCdsposxHA6KA5p4UxFcCw7+e/bHkYwLyfZ7i5ghvAbiVTVahFHsAMvc0slF0gwGwL4st3biHADfZABMVSIsBbOcveMwgjwCiInEb0jCPA3rMarLLfI8Cx84Jpm/8jwNGmR+Bc7CPAa9PVSSimI8A=\",\"dtype\":\"float64\",\"shape\":[100]}},\"selected\":{\"id\":\"ff56ce00-f418-4e56-8604-c7184b4ca6d4\",\"type\":\"Selection\"},\"selection_policy\":{\"id\":\"c8155720-9679-4f9d-8297-c4794010c27d\",\"type\":\"UnionRenderers\"}},\"id\":\"68b19828-76b5-4007-ac66-a3f1f4613180\",\"type\":\"ColumnDataSource\"},{\"attributes\":{},\"id\":\"ff56ce00-f418-4e56-8604-c7184b4ca6d4\",\"type\":\"Selection\"},{\"attributes\":{\"below\":[{\"id\":\"322e2e87-5e3a-4173-9dda-45aa109794bb\",\"type\":\"LinearAxis\"}],\"left\":[{\"id\":\"e2dd903f-a80b-4646-8362-f3b305eeadfc\",\"type\":\"LinearAxis\"}],\"plot_height\":500,\"plot_width\":950,\"renderers\":[{\"id\":\"322e2e87-5e3a-4173-9dda-45aa109794bb\",\"type\":\"LinearAxis\"},{\"id\":\"06460084-c46f-4de2-9c16-410eeeb6a722\",\"type\":\"Grid\"},{\"id\":\"e2dd903f-a80b-4646-8362-f3b305eeadfc\",\"type\":\"LinearAxis\"},{\"id\":\"cdcd00b1-5a26-4691-91e9-59e080941630\",\"type\":\"Grid\"},{\"id\":\"5d1aa4c6-fae5-42d9-b40c-f77429646f3a\",\"type\":\"BoxAnnotation\"},{\"id\":\"095cbe5a-d545-4353-af07-0c83434dc2fc\",\"type\":\"GlyphRenderer\"},{\"id\":\"f023120b-e252-46f0-89d6-b41d50b1ecd9\",\"type\":\"GlyphRenderer\"},{\"id\":\"6795dfc7-dca4-424e-b42d-a4364a863ba6\",\"type\":\"GlyphRenderer\"},{\"id\":\"dd84984b-f485-4ec5-b4ff-2a36ffb52692\",\"type\":\"GlyphRenderer\"}],\"title\":{\"id\":\"9cb09cbc-7baa-47bf-a9c3-cd3989dd6bad\",\"type\":\"Title\"},\"toolbar\":{\"id\":\"e11a1c5e-4de6-4ae5-9270-4a515eccbdaa\",\"type\":\"Toolbar\"},\"toolbar_location\":\"below\",\"x_range\":{\"id\":\"58ba6eac-03cc-4baa-b150-70a9c64a3650\",\"type\":\"DataRange1d\"},\"x_scale\":{\"id\":\"6b7b5ca3-cf82-45aa-a6fe-9fa6c53f0ad5\",\"type\":\"LinearScale\"},\"y_range\":{\"id\":\"5389228d-240b-48ff-8a7f-2520c8695532\",\"type\":\"DataRange1d\"},\"y_scale\":{\"id\":\"75a24a45-162c-40e5-8453-533a000e8d6d\",\"type\":\"LinearScale\"}},\"id\":\"d5b14f6e-75fe-4e65-bfb5-b60101628e5a\",\"subtype\":\"Figure\",\"type\":\"Plot\"},{\"attributes\":{\"source\":{\"id\":\"fa91e4c3-f941-4f4c-82cd-93f14b683056\",\"type\":\"ColumnDataSource\"}},\"id\":\"fdcaf585-f77c-4d26-8ee3-ccc90af676db\",\"type\":\"CDSView\"},{\"attributes\":{\"bottom_units\":\"screen\",\"fill_alpha\":{\"value\":0.5},\"fill_color\":{\"value\":\"lightgrey\"},\"left_units\":\"screen\",\"level\":\"overlay\",\"line_alpha\":{\"value\":1.0},\"line_color\":{\"value\":\"black\"},\"line_dash\":[4,4],\"line_width\":{\"value\":2},\"plot\":null,\"render_mode\":\"css\",\"right_units\":\"screen\",\"top_units\":\"screen\"},\"id\":\"5d1aa4c6-fae5-42d9-b40c-f77429646f3a\",\"type\":\"BoxAnnotation\"},{\"attributes\":{\"line_color\":\"#1f77b4\",\"line_width\":3,\"x\":{\"field\":\"x\"},\"y\":{\"field\":\"y\"}},\"id\":\"9dec5bab-827a-4140-8418-a584f44865e6\",\"type\":\"Line\"},{\"attributes\":{\"dimension\":1,\"plot\":{\"id\":\"d5b14f6e-75fe-4e65-bfb5-b60101628e5a\",\"subtype\":\"Figure\",\"type\":\"Plot\"},\"ticker\":{\"id\":\"b87597e2-4d83-41cf-8ff3-24c92153ebdb\",\"type\":\"BasicTicker\"}},\"id\":\"cdcd00b1-5a26-4691-91e9-59e080941630\",\"type\":\"Grid\"},{\"attributes\":{},\"id\":\"821eb3c0-0796-45c4-abba-8725f0ee936f\",\"type\":\"BasicTickFormatter\"},{\"attributes\":{},\"id\":\"b717c4b0-4d92-4f4c-b645-ebcc6944d4e3\",\"type\":\"Selection\"},{\"attributes\":{\"axis_label\":\"X\",\"formatter\":{\"id\":\"87e1dbbd-ad28-4627-9fbd-bfd4bdad6c7e\",\"type\":\"BasicTickFormatter\"},\"plot\":{\"id\":\"d5b14f6e-75fe-4e65-bfb5-b60101628e5a\",\"subtype\":\"Figure\",\"type\":\"Plot\"},\"ticker\":{\"id\":\"4143194a-d0f4-4706-8db4-7e6e0a181a11\",\"type\":\"BasicTicker\"}},\"id\":\"322e2e87-5e3a-4173-9dda-45aa109794bb\",\"type\":\"LinearAxis\"},{\"attributes\":{},\"id\":\"a6435b35-75a5-4c2a-9f79-f5df4e46a1fd\",\"type\":\"UnionRenderers\"},{\"attributes\":{\"callback\":null,\"data\":{\"x\":{\"__ndarray__\":\"AAAAAAAAFMCamZmZmZkTwDQzMzMzMxPAzszMzMzMEsBoZmZmZmYSwAIAAAAAABLAnJmZmZmZEcA2MzMzMzMRwNDMzMzMzBDAamZmZmZmEMAEAAAAAAAQwDwzMzMzMw/AcGZmZmZmDsCkmZmZmZkNwNjMzMzMzAzADAAAAAAADMBAMzMzMzMLwHRmZmZmZgrAqJmZmZmZCcDczMzMzMwIwBAAAAAAAAjARDMzMzMzB8B4ZmZmZmYGwKyZmZmZmQXA4MzMzMzMBMAUAAAAAAAEwEgzMzMzMwPAfGZmZmZmAsCwmZmZmZkBwOTMzMzMzADAGAAAAAAAAMCYZmZmZmb+vwDNzMzMzPy/aDMzMzMz+7/QmZmZmZn5vzgAAAAAAPi/oGZmZmZm9r8IzczMzMz0v3AzMzMzM/O/2JmZmZmZ8b9AAAAAAADwv1DNzMzMzOy/IJqZmZmZ6b/wZmZmZmbmv8AzMzMzM+O/kAAAAAAA4L/AmpmZmZnZv2A0MzMzM9O/AJyZmZmZyb+AnpmZmZm5vwAAAAAAABS9gJSZmZmZuT8Al5mZmZnJP+AxMzMzM9M/QJiZmZmZ2T+g/v/////fP4AyMzMzM+M/sGVmZmZm5j/gmJmZmZnpPxDMzMzMzOw/QP//////7z84mZmZmZnxP9AyMzMzM/M/aMzMzMzM9D8AZmZmZmb2P5j///////c/MJmZmZmZ+T/IMjMzMzP7P2DMzMzMzPw/+GVmZmZm/j+Q////////P5TMzMzMzABAYJmZmZmZAUAsZmZmZmYCQPgyMzMzMwNAxP//////A0CQzMzMzMwEQFyZmZmZmQVAKGZmZmZmBkD0MjMzMzMHQMD//////wdAjMzMzMzMCEBYmZmZmZkJQCRmZmZmZgpA8DIzMzMzC0C8//////8LQIjMzMzMzAxAVJmZmZmZDUAgZmZmZmYOQOwyMzMzMw9AuP//////D0BCZmZmZmYQQKjMzMzMzBBADjMzMzMzEUB0mZmZmZkRQNr//////xFAQGZmZmZmEkCmzMzMzMwSQAwzMzMzMxNAcpmZmZmZE0A=\",\"dtype\":\"float64\",\"shape\":[100]},\"y\":{\"__ndarray__\":\"AAAAAAAA+H8AAAAAAAD4fwAAAAAAAPh/AAAAAAAA+H8AAAAAAAD4fwAAAAAAAPh/AAAAAAAA+H8AAAAAAAD4fwAAAAAAAPh/AAAAAAAA+H8AAAAAAAD4fwAAAAAAAPh/AAAAAAAA+H8AAAAAAAD4fwAAAAAAAPh/AAAAAAAA+H8AAAAAAAD4fwAAAAAAAPh/AAAAAAAA+H8AAAAAAAD4fwAAAAAAAPh/AAAAAAAA+H8AAAAAAAD4fwAAAAAAAPh/AAAAAAAA+H8AAAAAAAD4fwAAAAAAAPh/AAAAAAAA+H8AAAAAAAD4fwAAAAAAAPh/AAAAAAAA+H8AAAAAAAD4fwAAAAAAAPh/AAAAAAAA+H8AAAAAAAD4fwAAAAAAAPh/AAAAAAAA+H8AAAAAAAD4fwAAAAAAAPh/AAAAAAAA+H8AAAAAAAD4fwAAAAAAAPh/AAAAAAAA+H8AAAAAAAD4fwAAAAAAAPh/AAAAAAAA+H8AAAAAAAD4fwAAAAAAAPh/AAAAAAAA+H8AAAAAAAD4fwAAAAAAAPh/luz17o+XE0BYQ/8EFysTQAQrpPykuhJARspskElGEkDIR+F6FM4RQDTKiXYVUhFANXjuPVzSEEB2eJeL+E4QQD/jGTT0jw9AvRSuR+F6DkC50vvG114NQIdqEyf3OwxAfikF3V4SC0D0XOFdLuIJQDxSuB6FqwhAq1aalIJuB0CXt5c0RisGQFTCwHPv4QRAOsQlx52SA0CbCtejcD0CQM7i5H6H4gBAUDS/mgME/z/4+64I/jf8P0O3uTE9Yfk/2gAAAACA9j9mc6JdhZTzP5GpwTQMn/A/EHz83qY/6z/llvHvMy7lP+6xR+F6FN4/OO+oaoKo0T88QSWS6GW0P6QAUyKJXr6/e9cuNNdp1L+IReF6FK7gvxa4ZvLNNue/G45mLJrO7b8eyU+qfTryv5RHaMu5lPW/xidcj8L1+L8IzwoMWV38v7CiU1c+y/+/CgSLw5mfAcBGspjYfFwDwLaOwvUoHAXABkz4pX7eBsDcnCl0XqMIwOgzRuuoagrA2MM9lj40DMA=\",\"dtype\":\"float64\",\"shape\":[100]}},\"selected\":{\"id\":\"76f42f7c-a667-4f50-b833-074a3d5ea255\",\"type\":\"Selection\"},\"selection_policy\":{\"id\":\"a6435b35-75a5-4c2a-9f79-f5df4e46a1fd\",\"type\":\"UnionRenderers\"}},\"id\":\"eccd6e42-7943-4471-bb1d-bae595f9d67d\",\"type\":\"ColumnDataSource\"},{\"attributes\":{},\"id\":\"76f42f7c-a667-4f50-b833-074a3d5ea255\",\"type\":\"Selection\"},{\"attributes\":{},\"id\":\"87e1dbbd-ad28-4627-9fbd-bfd4bdad6c7e\",\"type\":\"BasicTickFormatter\"},{\"attributes\":{\"data_source\":{\"id\":\"68b19828-76b5-4007-ac66-a3f1f4613180\",\"type\":\"ColumnDataSource\"},\"glyph\":{\"id\":\"9dec5bab-827a-4140-8418-a584f44865e6\",\"type\":\"Line\"},\"hover_glyph\":null,\"muted_glyph\":null,\"nonselection_glyph\":{\"id\":\"1523c1e9-5203-4d0a-b63c-0a1d8a5105d4\",\"type\":\"Line\"},\"selection_glyph\":null,\"view\":{\"id\":\"56c06ea5-f46d-4d22-b4f6-f54914d6e10b\",\"type\":\"CDSView\"}},\"id\":\"095cbe5a-d545-4353-af07-0c83434dc2fc\",\"type\":\"GlyphRenderer\"},{\"attributes\":{},\"id\":\"71ca344d-2b32-4c40-863c-f1c1819f06cf\",\"type\":\"UnionRenderers\"},{\"attributes\":{},\"id\":\"c8155720-9679-4f9d-8297-c4794010c27d\",\"type\":\"UnionRenderers\"},{\"attributes\":{},\"id\":\"6b7b5ca3-cf82-45aa-a6fe-9fa6c53f0ad5\",\"type\":\"LinearScale\"},{\"attributes\":{\"axis_label\":\"f(X)\",\"formatter\":{\"id\":\"821eb3c0-0796-45c4-abba-8725f0ee936f\",\"type\":\"BasicTickFormatter\"},\"plot\":{\"id\":\"d5b14f6e-75fe-4e65-bfb5-b60101628e5a\",\"subtype\":\"Figure\",\"type\":\"Plot\"},\"ticker\":{\"id\":\"b87597e2-4d83-41cf-8ff3-24c92153ebdb\",\"type\":\"BasicTicker\"}},\"id\":\"e2dd903f-a80b-4646-8362-f3b305eeadfc\",\"type\":\"LinearAxis\"},{\"attributes\":{\"callback\":null,\"data\":{\"x\":{\"__ndarray__\":\"AAAAAAAAFMCamZmZmZkTwDQzMzMzMxPAzszMzMzMEsBoZmZmZmYSwAIAAAAAABLAnJmZmZmZEcA2MzMzMzMRwNDMzMzMzBDAamZmZmZmEMAEAAAAAAAQwDwzMzMzMw/AcGZmZmZmDsCkmZmZmZkNwNjMzMzMzAzADAAAAAAADMBAMzMzMzMLwHRmZmZmZgrAqJmZmZmZCcDczMzMzMwIwBAAAAAAAAjARDMzMzMzB8B4ZmZmZmYGwKyZmZmZmQXA4MzMzMzMBMAUAAAAAAAEwEgzMzMzMwPAfGZmZmZmAsCwmZmZmZkBwOTMzMzMzADAGAAAAAAAAMCYZmZmZmb+vwDNzMzMzPy/aDMzMzMz+7/QmZmZmZn5vzgAAAAAAPi/oGZmZmZm9r8IzczMzMz0v3AzMzMzM/O/2JmZmZmZ8b9AAAAAAADwv1DNzMzMzOy/IJqZmZmZ6b/wZmZmZmbmv8AzMzMzM+O/kAAAAAAA4L/AmpmZmZnZv2A0MzMzM9O/AJyZmZmZyb+AnpmZmZm5vwAAAAAAABS9gJSZmZmZuT8Al5mZmZnJP+AxMzMzM9M/QJiZmZmZ2T+g/v/////fP4AyMzMzM+M/sGVmZmZm5j/gmJmZmZnpPxDMzMzMzOw/QP//////7z84mZmZmZnxP9AyMzMzM/M/aMzMzMzM9D8AZmZmZmb2P5j///////c/MJmZmZmZ+T/IMjMzMzP7P2DMzMzMzPw/+GVmZmZm/j+Q////////P5TMzMzMzABAYJmZmZmZAUAsZmZmZmYCQPgyMzMzMwNAxP//////A0CQzMzMzMwEQFyZmZmZmQVAKGZmZmZmBkD0MjMzMzMHQMD//////wdAjMzMzMzMCEBYmZmZmZkJQCRmZmZmZgpA8DIzMzMzC0C8//////8LQIjMzMzMzAxAVJmZmZmZDUAgZmZmZmYOQOwyMzMzMw9AuP//////D0BCZmZmZmYQQKjMzMzMzBBADjMzMzMzEUB0mZmZmZkRQNr//////xFAQGZmZmZmEkCmzMzMzMwSQAwzMzMzMxNAcpmZmZmZE0A=\",\"dtype\":\"float64\",\"shape\":[100]},\"y\":{\"__ndarray__\":\"AAAAAAAAOUDE9ShcjwI4QAzXo3A9CjdA2qNwPQoXNkAtXI/C9Sg1QAUAAAAAQDRAYY/C9ShcM0BDCtejcH0yQKtwPQrXozFAl8L1KFzPMEAIAAAAAAAwQP1RuB6Fay5A9HoUrkfhLED1ehSuR2ErQABSuB6F6ylAFQAAAACAKEA0hetRuB4nQF7hehSuxyVAkhSuR+F6JEDQHoXrUTgjQBgAAAAAACJAargehevRIECNj8L1KFwfQFtcj8L1KB1APNejcD0KG0AyAAAAAAAZQDzXo3A9ChdAW1yPwvUoFUCNj8L1KFwTQNVwPQrXoxFAMAAAAAAAEEBAexSuR+EMQEhSuB6F6wlAeIXrUbgeB0DSFK5H4XoEQFQAAAAAAAJA/Y/C9Shc/z+k16NwPQr7P5zXo3A9Cvc/5Y/C9Shc8z+AAAAAAADwP9hSuB6F6+k/UhWuR+F65D/dkML1KFzfP1zYo3A9Ctc/IAEAAAAA0D9SFq5H4XrEP9zZo3A9Crc/UhiuR+F6pD9SHK5H4XqEPwAAAAAAADk6AAAAAAAA+H8AAAAAAAD4fwAAAAAAAPh/AAAAAAAA+H8AAAAAAAD4fwAAAAAAAPh/AAAAAAAA+H8AAAAAAAD4fwAAAAAAAPh/AAAAAAAA+H8AAAAAAAD4fwAAAAAAAPh/AAAAAAAA+H8AAAAAAAD4fwAAAAAAAPh/AAAAAAAA+H8AAAAAAAD4fwAAAAAAAPh/AAAAAAAA+H8AAAAAAAD4fwAAAAAAAPh/AAAAAAAA+H8AAAAAAAD4fwAAAAAAAPh/AAAAAAAA+H8AAAAAAAD4fwAAAAAAAPh/AAAAAAAA+H8AAAAAAAD4fwAAAAAAAPh/AAAAAAAA+H8AAAAAAAD4fwAAAAAAAPh/AAAAAAAA+H8AAAAAAAD4fwAAAAAAAPh/AAAAAAAA+H8AAAAAAAD4fwAAAAAAAPh/AAAAAAAA+H8AAAAAAAD4fwAAAAAAAPh/AAAAAAAA+H8AAAAAAAD4fwAAAAAAAPh/AAAAAAAA+H8AAAAAAAD4fwAAAAAAAPh/AAAAAAAA+H8=\",\"dtype\":\"float64\",\"shape\":[100]}},\"selected\":{\"id\":\"b717c4b0-4d92-4f4c-b645-ebcc6944d4e3\",\"type\":\"Selection\"},\"selection_policy\":{\"id\":\"a9d66265-86ef-49af-8454-9f62ac3f2a05\",\"type\":\"UnionRenderers\"}},\"id\":\"3387456d-597a-447f-8820-55fd57fc0df8\",\"type\":\"ColumnDataSource\"},{\"attributes\":{},\"id\":\"4143194a-d0f4-4706-8db4-7e6e0a181a11\",\"type\":\"BasicTicker\"},{\"attributes\":{},\"id\":\"e28dc360-675a-46a0-acf9-09094e0f37cd\",\"type\":\"Selection\"},{\"attributes\":{},\"id\":\"1b935e51-454c-439d-81d9-da0cf092c61a\",\"type\":\"PanTool\"},{\"attributes\":{},\"id\":\"75a24a45-162c-40e5-8453-533a000e8d6d\",\"type\":\"LinearScale\"},{\"attributes\":{},\"id\":\"a9d66265-86ef-49af-8454-9f62ac3f2a05\",\"type\":\"UnionRenderers\"},{\"attributes\":{\"source\":{\"id\":\"68b19828-76b5-4007-ac66-a3f1f4613180\",\"type\":\"ColumnDataSource\"}},\"id\":\"56c06ea5-f46d-4d22-b4f6-f54914d6e10b\",\"type\":\"CDSView\"},{\"attributes\":{\"line_color\":\"orange\",\"line_width\":3,\"x\":{\"field\":\"x\"},\"y\":{\"field\":\"y\"}},\"id\":\"2be9162f-4fb9-4979-bc05-ee8f54fd3fc0\",\"type\":\"Line\"},{\"attributes\":{\"line_color\":\"orange\",\"line_width\":3,\"x\":{\"field\":\"x\"},\"y\":{\"field\":\"y\"}},\"id\":\"f80f9637-6740-4e43-b828-ebb6cc8aa676\",\"type\":\"Line\"},{\"attributes\":{\"line_alpha\":0.1,\"line_color\":\"#1f77b4\",\"line_width\":3,\"x\":{\"field\":\"x\"},\"y\":{\"field\":\"y\"}},\"id\":\"5aa09991-ccba-4e40-b07d-92efaad186cb\",\"type\":\"Line\"},{\"attributes\":{\"source\":{\"id\":\"3387456d-597a-447f-8820-55fd57fc0df8\",\"type\":\"ColumnDataSource\"}},\"id\":\"1f24ae6c-a186-43a5-b0db-52ccd0f8b978\",\"type\":\"CDSView\"},{\"attributes\":{\"overlay\":{\"id\":\"5d1aa4c6-fae5-42d9-b40c-f77429646f3a\",\"type\":\"BoxAnnotation\"}},\"id\":\"a9883689-9579-4d9e-a558-a3a7d6a746cd\",\"type\":\"BoxZoomTool\"},{\"attributes\":{\"data_source\":{\"id\":\"3387456d-597a-447f-8820-55fd57fc0df8\",\"type\":\"ColumnDataSource\"},\"glyph\":{\"id\":\"f80f9637-6740-4e43-b828-ebb6cc8aa676\",\"type\":\"Line\"},\"hover_glyph\":null,\"muted_glyph\":null,\"nonselection_glyph\":{\"id\":\"5aa09991-ccba-4e40-b07d-92efaad186cb\",\"type\":\"Line\"},\"selection_glyph\":null,\"view\":{\"id\":\"1f24ae6c-a186-43a5-b0db-52ccd0f8b978\",\"type\":\"CDSView\"}},\"id\":\"dd84984b-f485-4ec5-b4ff-2a36ffb52692\",\"type\":\"GlyphRenderer\"},{\"attributes\":{\"source\":{\"id\":\"eccd6e42-7943-4471-bb1d-bae595f9d67d\",\"type\":\"ColumnDataSource\"}},\"id\":\"5d458709-68a0-4a36-bc13-ae19b9665fef\",\"type\":\"CDSView\"},{\"attributes\":{\"callback\":null},\"id\":\"58ba6eac-03cc-4baa-b150-70a9c64a3650\",\"type\":\"DataRange1d\"},{\"attributes\":{\"callback\":null},\"id\":\"5389228d-240b-48ff-8a7f-2520c8695532\",\"type\":\"DataRange1d\"},{\"attributes\":{\"data_source\":{\"id\":\"eccd6e42-7943-4471-bb1d-bae595f9d67d\",\"type\":\"ColumnDataSource\"},\"glyph\":{\"id\":\"2be9162f-4fb9-4979-bc05-ee8f54fd3fc0\",\"type\":\"Line\"},\"hover_glyph\":null,\"muted_glyph\":null,\"nonselection_glyph\":{\"id\":\"2a86357f-19b1-434a-abf9-0668cbe92b44\",\"type\":\"Line\"},\"selection_glyph\":null,\"view\":{\"id\":\"5d458709-68a0-4a36-bc13-ae19b9665fef\",\"type\":\"CDSView\"}},\"id\":\"6795dfc7-dca4-424e-b42d-a4364a863ba6\",\"type\":\"GlyphRenderer\"},{\"attributes\":{\"plot\":{\"id\":\"d5b14f6e-75fe-4e65-bfb5-b60101628e5a\",\"subtype\":\"Figure\",\"type\":\"Plot\"},\"ticker\":{\"id\":\"4143194a-d0f4-4706-8db4-7e6e0a181a11\",\"type\":\"BasicTicker\"}},\"id\":\"06460084-c46f-4de2-9c16-410eeeb6a722\",\"type\":\"Grid\"},{\"attributes\":{\"line_alpha\":0.1,\"line_color\":\"#1f77b4\",\"line_width\":3,\"x\":{\"field\":\"x\"},\"y\":{\"field\":\"y\"}},\"id\":\"2a86357f-19b1-434a-abf9-0668cbe92b44\",\"type\":\"Line\"}],\"root_ids\":[\"d5b14f6e-75fe-4e65-bfb5-b60101628e5a\"]},\"title\":\"Bokeh Application\",\"version\":\"0.13.0\"}};\n",
       "  var render_items = [{\"docid\":\"946fe3a6-400e-417e-a1c0-1b525695c742\",\"roots\":{\"d5b14f6e-75fe-4e65-bfb5-b60101628e5a\":\"a5803558-0f70-458b-b4e5-4fb1a40e1f61\"}}];\n",
       "  root.Bokeh.embed.embed_items_notebook(docs_json, render_items);\n",
       "\n",
       "  }\n",
       "  if (root.Bokeh !== undefined) {\n",
       "    embed_document(root);\n",
       "  } else {\n",
       "    var attempts = 0;\n",
       "    var timer = setInterval(function(root) {\n",
       "      if (root.Bokeh !== undefined) {\n",
       "        embed_document(root);\n",
       "        clearInterval(timer);\n",
       "      }\n",
       "      attempts++;\n",
       "      if (attempts > 100) {\n",
       "        console.log(\"Bokeh: ERROR: Unable to run BokehJS code because BokehJS library is missing\")\n",
       "        clearInterval(timer);\n",
       "      }\n",
       "    }, 10, root)\n",
       "  }\n",
       "})(window);"
      ],
      "application/vnd.bokehjs_exec.v0+json": ""
     },
     "metadata": {
      "application/vnd.bokehjs_exec.v0+json": {
       "id": "d5b14f6e-75fe-4e65-bfb5-b60101628e5a"
      }
     },
     "output_type": "display_data"
    }
   ],
   "source": [
    "x = np.arange(-5, 5, .1)\n",
    "p = plot()\n",
    "p.line(x,f(x),line_width=3)\n",
    "p.line(x,h(x),line_width=3,color=\"green\")\n",
    "p.line(x,g1(x),line_width=3,color=\"orange\")\n",
    "p.line(x,g2(x),line_width=3,color=\"orange\")\n",
    "show(p)"
   ]
  },
  {
   "cell_type": "markdown",
   "metadata": {},
   "source": [
    "# Rate of  the Change"
   ]
  },
  {
   "cell_type": "code",
   "execution_count": 7,
   "metadata": {},
   "outputs": [],
   "source": [
    "def f(x):\n",
    "    return 3*x"
   ]
  },
  {
   "cell_type": "code",
   "execution_count": 8,
   "metadata": {},
   "outputs": [
    {
     "name": "stdout",
     "output_type": "stream",
     "text": [
      "\n",
      "    As x moves from 1 to 2\n",
      "    The mapping moves from 3 to 6\n",
      "\n"
     ]
    }
   ],
   "source": [
    "x1 = 1\n",
    "h = 1 # some change\n",
    "x2 = x1 + h\n",
    "\n",
    "print(f'''\n",
    "    As x moves from {x1} to {x2}\n",
    "    The mapping moves from {f(x1)} to {f(x2)}\n",
    "''')"
   ]
  },
  {
   "cell_type": "markdown",
   "metadata": {},
   "source": [
    "We can calculate the rate at which things are change by looking dividing over changes in the \"rise\" (y-axis) and the \"run\" (x-axis).\n",
    "\n",
    "<br>\n",
    "<br>\n",
    "\n",
    "$$ m = \\frac{f(x_2) - f(x_1)}{x_2 - x_1}$$\n",
    "\n",
    "<br>\n",
    "<br>"
   ]
  },
  {
   "cell_type": "code",
   "execution_count": 9,
   "metadata": {},
   "outputs": [
    {
     "data": {
      "text/plain": [
       "3.0"
      ]
     },
     "execution_count": 9,
     "metadata": {},
     "output_type": "execute_result"
    }
   ],
   "source": [
    "(f(x2) - f(x1))/(x2 - x1) "
   ]
  },
  {
   "cell_type": "markdown",
   "metadata": {},
   "source": [
    "We can observe these discrete changes visually."
   ]
  },
  {
   "cell_type": "code",
   "execution_count": 10,
   "metadata": {},
   "outputs": [
    {
     "data": {
      "text/html": [
       "\n",
       "\n",
       "\n",
       "\n",
       "\n",
       "\n",
       "  <div class=\"bk-root\" id=\"ee14d20c-cbb1-4798-8cc1-a2239e9ba8d4\"></div>\n"
      ]
     },
     "metadata": {},
     "output_type": "display_data"
    },
    {
     "data": {
      "application/javascript": [
       "(function(root) {\n",
       "  function embed_document(root) {\n",
       "    \n",
       "  var docs_json = {\"a24c3d2d-2190-4425-b141-25bb044f0a27\":{\"roots\":{\"references\":[{\"attributes\":{},\"id\":\"4c1f0b7e-acad-4542-9cf5-2f4420172d87\",\"type\":\"BasicTickFormatter\"},{\"attributes\":{},\"id\":\"ef7de022-24d2-4cd9-92cb-07914fe7f741\",\"type\":\"UnionRenderers\"},{\"attributes\":{\"callback\":null,\"data\":{},\"selected\":{\"id\":\"cb10f268-86a3-4b29-b0e0-3f2499101978\",\"type\":\"Selection\"},\"selection_policy\":{\"id\":\"ef7de022-24d2-4cd9-92cb-07914fe7f741\",\"type\":\"UnionRenderers\"}},\"id\":\"aaf29537-a6b3-41c2-809a-6d53873375bc\",\"type\":\"ColumnDataSource\"},{\"attributes\":{},\"id\":\"6e7d0aed-9b86-4d77-a66c-b1c93324f891\",\"type\":\"PanTool\"},{\"attributes\":{},\"id\":\"587b067f-dd95-4630-99a8-40ec23c88a23\",\"type\":\"Selection\"},{\"attributes\":{},\"id\":\"d8469425-117b-4fdc-8b65-4baa15579fe4\",\"type\":\"BasicTicker\"},{\"attributes\":{\"source\":{\"id\":\"41305eee-a659-4ff2-83b1-37c6bd30eef7\",\"type\":\"ColumnDataSource\"}},\"id\":\"38644a31-d8a5-49c8-8aac-2eb22b6589b2\",\"type\":\"CDSView\"},{\"attributes\":{},\"id\":\"98959532-3768-40ab-ad46-5a74b02ea1b9\",\"type\":\"UnionRenderers\"},{\"attributes\":{\"axis_label\":\"f(X)\",\"formatter\":{\"id\":\"6f1e23cc-f90a-402d-a407-55cc5a973244\",\"type\":\"BasicTickFormatter\"},\"plot\":{\"id\":\"940755bd-1ad5-4975-8b65-a55b085875c8\",\"subtype\":\"Figure\",\"type\":\"Plot\"},\"ticker\":{\"id\":\"d8469425-117b-4fdc-8b65-4baa15579fe4\",\"type\":\"BasicTicker\"}},\"id\":\"51934eac-d998-48eb-a2b1-f53732671145\",\"type\":\"LinearAxis\"},{\"attributes\":{},\"id\":\"7581275a-c5c5-4773-866f-72ac8d0dbee8\",\"type\":\"WheelZoomTool\"},{\"attributes\":{},\"id\":\"2268e846-fb9a-4734-9da5-a5b75fb8b4a8\",\"type\":\"Selection\"},{\"attributes\":{\"overlay\":{\"id\":\"6847e96e-b5e1-413a-ba15-2d7d7c66cce9\",\"type\":\"BoxAnnotation\"}},\"id\":\"6bc579d2-9fdc-47c7-b687-8649d1f7d90a\",\"type\":\"BoxZoomTool\"},{\"attributes\":{},\"id\":\"ac82a733-1160-4676-a60d-0c479fc9b3eb\",\"type\":\"UnionRenderers\"},{\"attributes\":{},\"id\":\"a80bb917-0111-4c10-bb4e-3cc2a211aec4\",\"type\":\"SaveTool\"},{\"attributes\":{},\"id\":\"6843919d-e046-49b1-9f93-5f1a77c0945b\",\"type\":\"ResetTool\"},{\"attributes\":{},\"id\":\"05a81b19-7402-4d85-b828-0d4be6772cac\",\"type\":\"HelpTool\"},{\"attributes\":{\"bottom_units\":\"screen\",\"fill_alpha\":{\"value\":0.5},\"fill_color\":{\"value\":\"lightgrey\"},\"left_units\":\"screen\",\"level\":\"overlay\",\"line_alpha\":{\"value\":1.0},\"line_color\":{\"value\":\"black\"},\"line_dash\":[4,4],\"line_width\":{\"value\":2},\"plot\":null,\"render_mode\":\"css\",\"right_units\":\"screen\",\"top_units\":\"screen\"},\"id\":\"6847e96e-b5e1-413a-ba15-2d7d7c66cce9\",\"type\":\"BoxAnnotation\"},{\"attributes\":{\"callback\":null,\"data\":{},\"selected\":{\"id\":\"015cdb75-92bb-47ff-9006-1aa7b8338c73\",\"type\":\"Selection\"},\"selection_policy\":{\"id\":\"d9a3156b-0ded-44c1-ba56-446552a18587\",\"type\":\"UnionRenderers\"}},\"id\":\"5a9f6467-11f6-4ff3-a0bd-3795e37c3d47\",\"type\":\"ColumnDataSource\"},{\"attributes\":{\"data_source\":{\"id\":\"5a9f6467-11f6-4ff3-a0bd-3795e37c3d47\",\"type\":\"ColumnDataSource\"},\"glyph\":{\"id\":\"a2ec0369-dfb1-4a3d-9468-891d2317b393\",\"type\":\"Circle\"},\"hover_glyph\":null,\"muted_glyph\":null,\"nonselection_glyph\":{\"id\":\"b9e3550d-5eb2-4417-8fb1-504091f824d6\",\"type\":\"Circle\"},\"selection_glyph\":null,\"view\":{\"id\":\"cc8fc3a3-12cd-4766-b06f-2cc6fcabc174\",\"type\":\"CDSView\"}},\"id\":\"0c24d8a8-fe1f-47f8-97d3-8e8448b574a9\",\"type\":\"GlyphRenderer\"},{\"attributes\":{\"fill_color\":{\"value\":\"black\"},\"size\":{\"units\":\"screen\",\"value\":6},\"x\":{\"value\":0},\"y\":{\"value\":0}},\"id\":\"a2ec0369-dfb1-4a3d-9468-891d2317b393\",\"type\":\"Circle\"},{\"attributes\":{\"callback\":null},\"id\":\"bbee45b4-6cf2-4e8c-a5c8-9070c8153c00\",\"type\":\"DataRange1d\"},{\"attributes\":{\"fill_alpha\":{\"value\":0.1},\"fill_color\":{\"value\":\"#1f77b4\"},\"line_alpha\":{\"value\":0.1},\"line_color\":{\"value\":\"#1f77b4\"},\"size\":{\"units\":\"screen\",\"value\":6},\"x\":{\"value\":0},\"y\":{\"value\":0}},\"id\":\"b9e3550d-5eb2-4417-8fb1-504091f824d6\",\"type\":\"Circle\"},{\"attributes\":{\"line_alpha\":0.1,\"line_color\":\"#1f77b4\",\"line_width\":3,\"x\":{\"field\":\"x\"},\"y\":{\"field\":\"y\"}},\"id\":\"ec9cc015-2308-4da7-9e91-1413e18e9e13\",\"type\":\"Line\"},{\"attributes\":{\"source\":{\"id\":\"5a9f6467-11f6-4ff3-a0bd-3795e37c3d47\",\"type\":\"ColumnDataSource\"}},\"id\":\"cc8fc3a3-12cd-4766-b06f-2cc6fcabc174\",\"type\":\"CDSView\"},{\"attributes\":{\"callback\":null,\"data\":{\"x\":[0,0],\"y\":[0,3]},\"selected\":{\"id\":\"587b067f-dd95-4630-99a8-40ec23c88a23\",\"type\":\"Selection\"},\"selection_policy\":{\"id\":\"98959532-3768-40ab-ad46-5a74b02ea1b9\",\"type\":\"UnionRenderers\"}},\"id\":\"470a6626-e223-43f7-8ae9-418c312a0f0a\",\"type\":\"ColumnDataSource\"},{\"attributes\":{\"fill_color\":{\"value\":\"black\"},\"size\":{\"units\":\"screen\",\"value\":6},\"x\":{\"value\":1},\"y\":{\"value\":3}},\"id\":\"d3f01a50-5fa0-46fa-98c7-75533c20f47b\",\"type\":\"Circle\"},{\"attributes\":{\"active_drag\":\"auto\",\"active_inspect\":\"auto\",\"active_multi\":null,\"active_scroll\":\"auto\",\"active_tap\":\"auto\",\"tools\":[{\"id\":\"6e7d0aed-9b86-4d77-a66c-b1c93324f891\",\"type\":\"PanTool\"},{\"id\":\"7581275a-c5c5-4773-866f-72ac8d0dbee8\",\"type\":\"WheelZoomTool\"},{\"id\":\"6bc579d2-9fdc-47c7-b687-8649d1f7d90a\",\"type\":\"BoxZoomTool\"},{\"id\":\"a80bb917-0111-4c10-bb4e-3cc2a211aec4\",\"type\":\"SaveTool\"},{\"id\":\"6843919d-e046-49b1-9f93-5f1a77c0945b\",\"type\":\"ResetTool\"},{\"id\":\"05a81b19-7402-4d85-b828-0d4be6772cac\",\"type\":\"HelpTool\"}]},\"id\":\"92001b82-df6d-4c6c-b933-e394fdb83102\",\"type\":\"Toolbar\"},{\"attributes\":{\"fill_alpha\":{\"value\":0.1},\"fill_color\":{\"value\":\"#1f77b4\"},\"line_alpha\":{\"value\":0.1},\"line_color\":{\"value\":\"#1f77b4\"},\"size\":{\"units\":\"screen\",\"value\":6},\"x\":{\"value\":1},\"y\":{\"value\":3}},\"id\":\"29ef4522-14c6-49c2-90b3-5dc296983bb1\",\"type\":\"Circle\"},{\"attributes\":{\"data_source\":{\"id\":\"aaf29537-a6b3-41c2-809a-6d53873375bc\",\"type\":\"ColumnDataSource\"},\"glyph\":{\"id\":\"d3f01a50-5fa0-46fa-98c7-75533c20f47b\",\"type\":\"Circle\"},\"hover_glyph\":null,\"muted_glyph\":null,\"nonselection_glyph\":{\"id\":\"29ef4522-14c6-49c2-90b3-5dc296983bb1\",\"type\":\"Circle\"},\"selection_glyph\":null,\"view\":{\"id\":\"cfcd7f02-e06a-4a74-b489-e99f6e5c8222\",\"type\":\"CDSView\"}},\"id\":\"e62fd240-107b-42c5-a037-2da1a44a9c0d\",\"type\":\"GlyphRenderer\"},{\"attributes\":{\"source\":{\"id\":\"aaf29537-a6b3-41c2-809a-6d53873375bc\",\"type\":\"ColumnDataSource\"}},\"id\":\"cfcd7f02-e06a-4a74-b489-e99f6e5c8222\",\"type\":\"CDSView\"},{\"attributes\":{\"callback\":null,\"data\":{\"x\":[1,0],\"y\":[3,3]},\"selected\":{\"id\":\"2268e846-fb9a-4734-9da5-a5b75fb8b4a8\",\"type\":\"Selection\"},\"selection_policy\":{\"id\":\"ac82a733-1160-4676-a60d-0c479fc9b3eb\",\"type\":\"UnionRenderers\"}},\"id\":\"1e1fd36d-a4d7-4cb8-a601-aaf47c6a1d9d\",\"type\":\"ColumnDataSource\"},{\"attributes\":{\"line_alpha\":0.5,\"line_color\":\"red\",\"line_width\":3,\"x\":{\"field\":\"x\"},\"y\":{\"field\":\"y\"}},\"id\":\"436f7213-198d-4370-983d-a806e44d2ecc\",\"type\":\"Line\"},{\"attributes\":{\"line_alpha\":0.1,\"line_color\":\"#1f77b4\",\"line_width\":3,\"x\":{\"field\":\"x\"},\"y\":{\"field\":\"y\"}},\"id\":\"dfaffa55-1c91-4cf9-ac34-382771932a4e\",\"type\":\"Line\"},{\"attributes\":{\"data_source\":{\"id\":\"41305eee-a659-4ff2-83b1-37c6bd30eef7\",\"type\":\"ColumnDataSource\"},\"glyph\":{\"id\":\"c42991fd-c5b0-45e7-8f91-29371467686c\",\"type\":\"Line\"},\"hover_glyph\":null,\"muted_glyph\":null,\"nonselection_glyph\":{\"id\":\"ec9cc015-2308-4da7-9e91-1413e18e9e13\",\"type\":\"Line\"},\"selection_glyph\":null,\"view\":{\"id\":\"38644a31-d8a5-49c8-8aac-2eb22b6589b2\",\"type\":\"CDSView\"}},\"id\":\"c7eed2c5-873c-4b04-b749-dbe1f6b5cae7\",\"type\":\"GlyphRenderer\"},{\"attributes\":{\"data_source\":{\"id\":\"470a6626-e223-43f7-8ae9-418c312a0f0a\",\"type\":\"ColumnDataSource\"},\"glyph\":{\"id\":\"436f7213-198d-4370-983d-a806e44d2ecc\",\"type\":\"Line\"},\"hover_glyph\":null,\"muted_glyph\":null,\"nonselection_glyph\":{\"id\":\"dfaffa55-1c91-4cf9-ac34-382771932a4e\",\"type\":\"Line\"},\"selection_glyph\":null,\"view\":{\"id\":\"2ecdc304-fef8-41ff-8a87-d15d2999da00\",\"type\":\"CDSView\"}},\"id\":\"8627820e-af1d-4b7c-82c0-1a5541d75a75\",\"type\":\"GlyphRenderer\"},{\"attributes\":{\"callback\":null,\"data\":{\"x\":{\"__ndarray__\":\"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\",\"dtype\":\"float64\",\"shape\":[200]},\"y\":{\"__ndarray__\":\"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\",\"dtype\":\"float64\",\"shape\":[200]}},\"selected\":{\"id\":\"7d1328fa-c128-4845-8c27-997d2f9b39c1\",\"type\":\"Selection\"},\"selection_policy\":{\"id\":\"42e2d2b4-7cb9-4a59-96eb-be65d1bd6951\",\"type\":\"UnionRenderers\"}},\"id\":\"41305eee-a659-4ff2-83b1-37c6bd30eef7\",\"type\":\"ColumnDataSource\"},{\"attributes\":{\"source\":{\"id\":\"470a6626-e223-43f7-8ae9-418c312a0f0a\",\"type\":\"ColumnDataSource\"}},\"id\":\"2ecdc304-fef8-41ff-8a87-d15d2999da00\",\"type\":\"CDSView\"},{\"attributes\":{\"dimension\":1,\"plot\":{\"id\":\"940755bd-1ad5-4975-8b65-a55b085875c8\",\"subtype\":\"Figure\",\"type\":\"Plot\"},\"ticker\":{\"id\":\"d8469425-117b-4fdc-8b65-4baa15579fe4\",\"type\":\"BasicTicker\"}},\"id\":\"419381d9-6364-4035-812c-0ebaddb2ea7c\",\"type\":\"Grid\"},{\"attributes\":{\"below\":[{\"id\":\"d702ff4e-5d85-4c4c-af20-3b96d557e6b4\",\"type\":\"LinearAxis\"}],\"left\":[{\"id\":\"51934eac-d998-48eb-a2b1-f53732671145\",\"type\":\"LinearAxis\"}],\"plot_height\":500,\"plot_width\":950,\"renderers\":[{\"id\":\"d702ff4e-5d85-4c4c-af20-3b96d557e6b4\",\"type\":\"LinearAxis\"},{\"id\":\"0b251662-ea6c-46e3-8276-ea68bf294f5f\",\"type\":\"Grid\"},{\"id\":\"51934eac-d998-48eb-a2b1-f53732671145\",\"type\":\"LinearAxis\"},{\"id\":\"419381d9-6364-4035-812c-0ebaddb2ea7c\",\"type\":\"Grid\"},{\"id\":\"6847e96e-b5e1-413a-ba15-2d7d7c66cce9\",\"type\":\"BoxAnnotation\"},{\"id\":\"c7eed2c5-873c-4b04-b749-dbe1f6b5cae7\",\"type\":\"GlyphRenderer\"},{\"id\":\"0c24d8a8-fe1f-47f8-97d3-8e8448b574a9\",\"type\":\"GlyphRenderer\"},{\"id\":\"e62fd240-107b-42c5-a037-2da1a44a9c0d\",\"type\":\"GlyphRenderer\"},{\"id\":\"8627820e-af1d-4b7c-82c0-1a5541d75a75\",\"type\":\"GlyphRenderer\"},{\"id\":\"20650d21-23d2-42c2-9a6e-ffe7a2489a6f\",\"type\":\"GlyphRenderer\"}],\"title\":{\"id\":\"8b803a8f-1b74-49a9-84d7-d8dfd93d80cf\",\"type\":\"Title\"},\"toolbar\":{\"id\":\"92001b82-df6d-4c6c-b933-e394fdb83102\",\"type\":\"Toolbar\"},\"toolbar_location\":\"below\",\"x_range\":{\"id\":\"bbee45b4-6cf2-4e8c-a5c8-9070c8153c00\",\"type\":\"DataRange1d\"},\"x_scale\":{\"id\":\"1c3e9a7e-5104-46a3-829d-13b651313c41\",\"type\":\"LinearScale\"},\"y_range\":{\"id\":\"a18f987e-388a-47c1-a9fb-f5ee33b12a9b\",\"type\":\"DataRange1d\"},\"y_scale\":{\"id\":\"51d8f0f8-fc6d-4e06-86cb-3ff13d160faa\",\"type\":\"LinearScale\"}},\"id\":\"940755bd-1ad5-4975-8b65-a55b085875c8\",\"subtype\":\"Figure\",\"type\":\"Plot\"},{\"attributes\":{\"line_alpha\":0.5,\"line_width\":3,\"x\":{\"field\":\"x\"},\"y\":{\"field\":\"y\"}},\"id\":\"d50f9ebd-6fce-4966-aaf0-7b09af9869f7\",\"type\":\"Line\"},{\"attributes\":{\"plot\":null,\"text\":\"\"},\"id\":\"8b803a8f-1b74-49a9-84d7-d8dfd93d80cf\",\"type\":\"Title\"},{\"attributes\":{\"line_alpha\":0.1,\"line_color\":\"#1f77b4\",\"line_width\":3,\"x\":{\"field\":\"x\"},\"y\":{\"field\":\"y\"}},\"id\":\"ec86b738-44cb-4a91-9ffb-7f779ac480e6\",\"type\":\"Line\"},{\"attributes\":{\"data_source\":{\"id\":\"1e1fd36d-a4d7-4cb8-a601-aaf47c6a1d9d\",\"type\":\"ColumnDataSource\"},\"glyph\":{\"id\":\"d50f9ebd-6fce-4966-aaf0-7b09af9869f7\",\"type\":\"Line\"},\"hover_glyph\":null,\"muted_glyph\":null,\"nonselection_glyph\":{\"id\":\"ec86b738-44cb-4a91-9ffb-7f779ac480e6\",\"type\":\"Line\"},\"selection_glyph\":null,\"view\":{\"id\":\"dc7d7197-e8c4-4cbf-9118-8ffdab6ff2d1\",\"type\":\"CDSView\"}},\"id\":\"20650d21-23d2-42c2-9a6e-ffe7a2489a6f\",\"type\":\"GlyphRenderer\"},{\"attributes\":{\"line_alpha\":0.5,\"line_color\":\"#1f77b4\",\"line_width\":3,\"x\":{\"field\":\"x\"},\"y\":{\"field\":\"y\"}},\"id\":\"c42991fd-c5b0-45e7-8f91-29371467686c\",\"type\":\"Line\"},{\"attributes\":{\"source\":{\"id\":\"1e1fd36d-a4d7-4cb8-a601-aaf47c6a1d9d\",\"type\":\"ColumnDataSource\"}},\"id\":\"dc7d7197-e8c4-4cbf-9118-8ffdab6ff2d1\",\"type\":\"CDSView\"},{\"attributes\":{\"plot\":{\"id\":\"940755bd-1ad5-4975-8b65-a55b085875c8\",\"subtype\":\"Figure\",\"type\":\"Plot\"},\"ticker\":{\"id\":\"921db4d1-58c3-463c-9db3-866bdb0551f1\",\"type\":\"BasicTicker\"}},\"id\":\"0b251662-ea6c-46e3-8276-ea68bf294f5f\",\"type\":\"Grid\"},{\"attributes\":{},\"id\":\"51d8f0f8-fc6d-4e06-86cb-3ff13d160faa\",\"type\":\"LinearScale\"},{\"attributes\":{},\"id\":\"6f1e23cc-f90a-402d-a407-55cc5a973244\",\"type\":\"BasicTickFormatter\"},{\"attributes\":{\"callback\":null},\"id\":\"a18f987e-388a-47c1-a9fb-f5ee33b12a9b\",\"type\":\"DataRange1d\"},{\"attributes\":{},\"id\":\"7d1328fa-c128-4845-8c27-997d2f9b39c1\",\"type\":\"Selection\"},{\"attributes\":{},\"id\":\"921db4d1-58c3-463c-9db3-866bdb0551f1\",\"type\":\"BasicTicker\"},{\"attributes\":{},\"id\":\"cb10f268-86a3-4b29-b0e0-3f2499101978\",\"type\":\"Selection\"},{\"attributes\":{},\"id\":\"42e2d2b4-7cb9-4a59-96eb-be65d1bd6951\",\"type\":\"UnionRenderers\"},{\"attributes\":{},\"id\":\"1c3e9a7e-5104-46a3-829d-13b651313c41\",\"type\":\"LinearScale\"},{\"attributes\":{},\"id\":\"015cdb75-92bb-47ff-9006-1aa7b8338c73\",\"type\":\"Selection\"},{\"attributes\":{},\"id\":\"d9a3156b-0ded-44c1-ba56-446552a18587\",\"type\":\"UnionRenderers\"},{\"attributes\":{\"axis_label\":\"X\",\"formatter\":{\"id\":\"4c1f0b7e-acad-4542-9cf5-2f4420172d87\",\"type\":\"BasicTickFormatter\"},\"plot\":{\"id\":\"940755bd-1ad5-4975-8b65-a55b085875c8\",\"subtype\":\"Figure\",\"type\":\"Plot\"},\"ticker\":{\"id\":\"921db4d1-58c3-463c-9db3-866bdb0551f1\",\"type\":\"BasicTicker\"}},\"id\":\"d702ff4e-5d85-4c4c-af20-3b96d557e6b4\",\"type\":\"LinearAxis\"}],\"root_ids\":[\"940755bd-1ad5-4975-8b65-a55b085875c8\"]},\"title\":\"Bokeh Application\",\"version\":\"0.13.0\"}};\n",
       "  var render_items = [{\"docid\":\"a24c3d2d-2190-4425-b141-25bb044f0a27\",\"roots\":{\"940755bd-1ad5-4975-8b65-a55b085875c8\":\"ee14d20c-cbb1-4798-8cc1-a2239e9ba8d4\"}}];\n",
       "  root.Bokeh.embed.embed_items_notebook(docs_json, render_items);\n",
       "\n",
       "  }\n",
       "  if (root.Bokeh !== undefined) {\n",
       "    embed_document(root);\n",
       "  } else {\n",
       "    var attempts = 0;\n",
       "    var timer = setInterval(function(root) {\n",
       "      if (root.Bokeh !== undefined) {\n",
       "        embed_document(root);\n",
       "        clearInterval(timer);\n",
       "      }\n",
       "      attempts++;\n",
       "      if (attempts > 100) {\n",
       "        console.log(\"Bokeh: ERROR: Unable to run BokehJS code because BokehJS library is missing\")\n",
       "        clearInterval(timer);\n",
       "      }\n",
       "    }, 10, root)\n",
       "  }\n",
       "})(window);"
      ],
      "application/vnd.bokehjs_exec.v0+json": ""
     },
     "metadata": {
      "application/vnd.bokehjs_exec.v0+json": {
       "id": "940755bd-1ad5-4975-8b65-a55b085875c8"
      }
     },
     "output_type": "display_data"
    }
   ],
   "source": [
    "# plot\n",
    "x = np.arange(-5, 15, .1)\n",
    "p = plot()\n",
    "p.line(x,f(x),line_width=3,alpha=.5)\n",
    "\n",
    "# How much does a one unit change in x change y?\n",
    "\n",
    "p.scatter(0,f(0),color='black',size=6)\n",
    "p.scatter(1,f(1),color='black',size=6)\n",
    "\n",
    "# Rise: \"Red\"\n",
    "p.line([0,0],[0,f(1)],color='red',line_width=3,alpha=.5)\n",
    "# Run: Run\n",
    "p.line([1,0],[f(1),f(1)],color='black',line_width=3,alpha=.5)\n",
    "    \n",
    "show(p)"
   ]
  },
  {
   "cell_type": "markdown",
   "metadata": {},
   "source": [
    "For a linear function, it doesn't matter how big of the difference between the two points is. The change is always the same (i.e. it's constant)."
   ]
  },
  {
   "cell_type": "code",
   "execution_count": 11,
   "metadata": {},
   "outputs": [
    {
     "name": "stdout",
     "output_type": "stream",
     "text": [
      "3.0\n",
      "3.000000000019653\n"
     ]
    }
   ],
   "source": [
    "h = 100 # A larger change\n",
    "print((f(x1 + h) - f(x1))/(h))\n",
    "\n",
    "h = .00001 # A smaller change\n",
    "print((f(x1 + h) - f(x1))/(h))"
   ]
  },
  {
   "cell_type": "markdown",
   "metadata": {},
   "source": [
    "Note the subtle shift in notation.\n",
    "\n",
    "<br>\n",
    "<br>\n",
    "\n",
    "$$ \\frac{f(x_2) - f(x_1)}{x_2 - x_1} \\to \\frac{f(x_1+h) - f(x_1)}{h}$$\n",
    "\n",
    "<br>\n",
    "<br>"
   ]
  },
  {
   "cell_type": "markdown",
   "metadata": {},
   "source": [
    "Let's now extend this to a non-linear function."
   ]
  },
  {
   "cell_type": "code",
   "execution_count": 12,
   "metadata": {},
   "outputs": [],
   "source": [
    "def g(x):\n",
    "    return x**2"
   ]
  },
  {
   "cell_type": "markdown",
   "metadata": {},
   "source": [
    "In addition, **let's build a simple function that implements our change protocol.** "
   ]
  },
  {
   "cell_type": "code",
   "execution_count": 13,
   "metadata": {},
   "outputs": [
    {
     "name": "stdout",
     "output_type": "stream",
     "text": [
      "-5 goes in and 25 comes out. The degree of change is -9.0\n",
      "-4 goes in and 16 comes out. The degree of change is -7.0\n",
      "-3 goes in and 9 comes out. The degree of change is -5.0\n",
      "-2 goes in and 4 comes out. The degree of change is -3.0\n",
      "-1 goes in and 1 comes out. The degree of change is -1.0\n",
      "0 goes in and 0 comes out. The degree of change is 1.0\n",
      "1 goes in and 1 comes out. The degree of change is 3.0\n",
      "2 goes in and 4 comes out. The degree of change is 5.0\n",
      "3 goes in and 9 comes out. The degree of change is 7.0\n",
      "4 goes in and 16 comes out. The degree of change is 9.0\n"
     ]
    }
   ],
   "source": [
    "def change(x,nudge=1):\n",
    "    '''\n",
    "    Take slight changes in x \"nudges\" and see the discrete difference in y\n",
    "    '''\n",
    "    return (g(x+nudge)-g(x))/nudge\n",
    "    \n",
    "    \n",
    "for i in np.arange(-5,5):\n",
    "    print(f'''{i} goes in and {g(i)} comes out. The degree of change is {change(i)}''')"
   ]
  },
  {
   "cell_type": "markdown",
   "metadata": {},
   "source": [
    "The degree of change is different given different inputs of $x$. When we plot this, we can see clearly why this is."
   ]
  },
  {
   "cell_type": "code",
   "execution_count": 14,
   "metadata": {},
   "outputs": [
    {
     "data": {
      "text/html": [
       "\n",
       "\n",
       "\n",
       "\n",
       "\n",
       "\n",
       "  <div class=\"bk-root\" id=\"490c0c04-bb74-4e16-bd06-975f7ce1952a\"></div>\n"
      ]
     },
     "metadata": {},
     "output_type": "display_data"
    },
    {
     "data": {
      "application/javascript": [
       "(function(root) {\n",
       "  function embed_document(root) {\n",
       "    \n",
       "  var docs_json = {\"be0251f3-84a3-4dd4-8ec7-56b9a2c73c0c\":{\"roots\":{\"references\":[{\"attributes\":{},\"id\":\"bd854a68-f0db-4ec5-bc77-32d21dea4fbc\",\"type\":\"Selection\"},{\"attributes\":{},\"id\":\"45cef452-efc6-49e8-b2ef-4b6f94c66afd\",\"type\":\"BasicTickFormatter\"},{\"attributes\":{\"line_alpha\":0.1,\"line_color\":\"#1f77b4\",\"line_width\":3,\"x\":{\"field\":\"x\"},\"y\":{\"field\":\"y\"}},\"id\":\"8faf4d68-97b1-4955-88a1-110dbf96124c\",\"type\":\"Line\"},{\"attributes\":{},\"id\":\"6b0409d5-3305-4bea-a585-8f0de9d9431b\",\"type\":\"LinearScale\"},{\"attributes\":{},\"id\":\"583534d4-cdfa-4e4f-9355-b3d90f560f75\",\"type\":\"UnionRenderers\"},{\"attributes\":{},\"id\":\"219b6827-2935-4cdc-91ab-7ce7bddf3ac7\",\"type\":\"BasicTickFormatter\"},{\"attributes\":{\"callback\":null},\"id\":\"5340d670-3022-4c8b-9bd2-cf7744156eee\",\"type\":\"DataRange1d\"},{\"attributes\":{},\"id\":\"0b3ae90d-5b09-4f81-ac83-832b38494d58\",\"type\":\"PanTool\"},{\"attributes\":{},\"id\":\"dce42600-afc4-413b-84c7-46834590e0d6\",\"type\":\"WheelZoomTool\"},{\"attributes\":{\"active_drag\":\"auto\",\"active_inspect\":\"auto\",\"active_multi\":null,\"active_scroll\":\"auto\",\"active_tap\":\"auto\",\"tools\":[{\"id\":\"0b3ae90d-5b09-4f81-ac83-832b38494d58\",\"type\":\"PanTool\"},{\"id\":\"dce42600-afc4-413b-84c7-46834590e0d6\",\"type\":\"WheelZoomTool\"},{\"id\":\"0263ad03-3391-4f03-b0f3-7beab2954254\",\"type\":\"BoxZoomTool\"},{\"id\":\"32bf8558-fba6-4adb-82aa-c8186430aae4\",\"type\":\"SaveTool\"},{\"id\":\"019595d4-f245-44bb-aca8-40c95fd05655\",\"type\":\"ResetTool\"},{\"id\":\"feb2b4a6-aa5b-445d-9198-639fe46dfa45\",\"type\":\"HelpTool\"}]},\"id\":\"31c337b1-31ef-4c54-b2ce-412fff0622b0\",\"type\":\"Toolbar\"},{\"attributes\":{\"axis_label\":\"X\",\"formatter\":{\"id\":\"219b6827-2935-4cdc-91ab-7ce7bddf3ac7\",\"type\":\"BasicTickFormatter\"},\"plot\":{\"id\":\"51a0cb40-6bd6-43a0-a963-c6bab15e4c02\",\"subtype\":\"Figure\",\"type\":\"Plot\"},\"ticker\":{\"id\":\"abaa1c24-7b23-477b-a2ec-6ef0e248862b\",\"type\":\"BasicTicker\"}},\"id\":\"bd4e8d26-135c-462a-895f-f13ddedbb484\",\"type\":\"LinearAxis\"},{\"attributes\":{\"overlay\":{\"id\":\"01522ca6-b837-45a7-b0cc-69929cacc8db\",\"type\":\"BoxAnnotation\"}},\"id\":\"0263ad03-3391-4f03-b0f3-7beab2954254\",\"type\":\"BoxZoomTool\"},{\"attributes\":{\"line_color\":\"#1f77b4\",\"line_width\":3,\"x\":{\"field\":\"x\"},\"y\":{\"field\":\"y\"}},\"id\":\"fc06cd79-10b4-47fa-9b69-f04a35baeff7\",\"type\":\"Line\"},{\"attributes\":{},\"id\":\"019595d4-f245-44bb-aca8-40c95fd05655\",\"type\":\"ResetTool\"},{\"attributes\":{\"plot\":null,\"text\":\"\"},\"id\":\"b618fb4d-9893-4cb8-a62a-1a445e0b7aa7\",\"type\":\"Title\"},{\"attributes\":{},\"id\":\"32bf8558-fba6-4adb-82aa-c8186430aae4\",\"type\":\"SaveTool\"},{\"attributes\":{},\"id\":\"6f6618f0-e7a3-45f2-83c6-a72d4491ecb7\",\"type\":\"BasicTicker\"},{\"attributes\":{\"dimension\":1,\"plot\":{\"id\":\"51a0cb40-6bd6-43a0-a963-c6bab15e4c02\",\"subtype\":\"Figure\",\"type\":\"Plot\"},\"ticker\":{\"id\":\"6f6618f0-e7a3-45f2-83c6-a72d4491ecb7\",\"type\":\"BasicTicker\"}},\"id\":\"f1de57d0-fd9e-4b94-9aa5-0ea1cc4e7465\",\"type\":\"Grid\"},{\"attributes\":{},\"id\":\"c767e623-20fb-4cd7-8aa6-f889dfc05228\",\"type\":\"LinearScale\"},{\"attributes\":{\"axis_label\":\"f(X)\",\"formatter\":{\"id\":\"45cef452-efc6-49e8-b2ef-4b6f94c66afd\",\"type\":\"BasicTickFormatter\"},\"plot\":{\"id\":\"51a0cb40-6bd6-43a0-a963-c6bab15e4c02\",\"subtype\":\"Figure\",\"type\":\"Plot\"},\"ticker\":{\"id\":\"6f6618f0-e7a3-45f2-83c6-a72d4491ecb7\",\"type\":\"BasicTicker\"}},\"id\":\"840fc981-91a8-4a53-a277-86f6115f3784\",\"type\":\"LinearAxis\"},{\"attributes\":{\"callback\":null,\"data\":{\"x\":{\"__ndarray__\":\"AAAAAAAAFMCamZmZmZkTwDQzMzMzMxPAzszMzMzMEsBoZmZmZmYSwAIAAAAAABLAnJmZmZmZEcA2MzMzMzMRwNDMzMzMzBDAamZmZmZmEMAEAAAAAAAQwDwzMzMzMw/AcGZmZmZmDsCkmZmZmZkNwNjMzMzMzAzADAAAAAAADMBAMzMzMzMLwHRmZmZmZgrAqJmZmZmZCcDczMzMzMwIwBAAAAAAAAjARDMzMzMzB8B4ZmZmZmYGwKyZmZmZmQXA4MzMzMzMBMAUAAAAAAAEwEgzMzMzMwPAfGZmZmZmAsCwmZmZmZkBwOTMzMzMzADAGAAAAAAAAMCYZmZmZmb+vwDNzMzMzPy/aDMzMzMz+7/QmZmZmZn5vzgAAAAAAPi/oGZmZmZm9r8IzczMzMz0v3AzMzMzM/O/2JmZmZmZ8b9AAAAAAADwv1DNzMzMzOy/IJqZmZmZ6b/wZmZmZmbmv8AzMzMzM+O/kAAAAAAA4L/AmpmZmZnZv2A0MzMzM9O/AJyZmZmZyb+AnpmZmZm5vwAAAAAAABS9gJSZmZmZuT8Al5mZmZnJP+AxMzMzM9M/QJiZmZmZ2T+g/v/////fP4AyMzMzM+M/sGVmZmZm5j/gmJmZmZnpPxDMzMzMzOw/QP//////7z84mZmZmZnxP9AyMzMzM/M/aMzMzMzM9D8AZmZmZmb2P5j///////c/MJmZmZmZ+T/IMjMzMzP7P2DMzMzMzPw/+GVmZmZm/j+Q////////P5TMzMzMzABAYJmZmZmZAUAsZmZmZmYCQPgyMzMzMwNAxP//////A0CQzMzMzMwEQFyZmZmZmQVAKGZmZmZmBkD0MjMzMzMHQMD//////wdAjMzMzMzMCEBYmZmZmZkJQCRmZmZmZgpA8DIzMzMzC0C8//////8LQIjMzMzMzAxAVJmZmZmZDUAgZmZmZmYOQOwyMzMzMw9AuP//////D0BCZmZmZmYQQKjMzMzMzBBADjMzMzMzEUB0mZmZmZkRQNr//////xFAQGZmZmZmEkCmzMzMzMwSQAwzMzMzMxNAcpmZmZmZE0DY//////8TQA==\",\"dtype\":\"float64\",\"shape\":[101]},\"y\":{\"__ndarray__\":\"AAAAAAAAOUDE9ShcjwI4QAzXo3A9CjdA2qNwPQoXNkAtXI/C9Sg1QAUAAAAAQDRAYY/C9ShcM0BDCtejcH0yQKtwPQrXozFAl8L1KFzPMEAIAAAAAAAwQP1RuB6Fay5A9HoUrkfhLED1ehSuR2ErQABSuB6F6ylAFQAAAACAKEA0hetRuB4nQF7hehSuxyVAkhSuR+F6JEDQHoXrUTgjQBgAAAAAACJAargehevRIECNj8L1KFwfQFtcj8L1KB1APNejcD0KG0AyAAAAAAAZQDzXo3A9ChdAW1yPwvUoFUCNj8L1KFwTQNVwPQrXoxFAMAAAAAAAEEBAexSuR+EMQEhSuB6F6wlAeIXrUbgeB0DSFK5H4XoEQFQAAAAAAAJA/Y/C9Shc/z+k16NwPQr7P5zXo3A9Cvc/5Y/C9Shc8z+AAAAAAADwP9hSuB6F6+k/UhWuR+F65D/dkML1KFzfP1zYo3A9Ctc/IAEAAAAA0D9SFq5H4XrEP9zZo3A9Crc/UhiuR+F6pD9SHK5H4XqEPwAAAAAAADk6UgyuR+F6hD9SEK5H4XqkP9zTo3A9Crc/UhKuR+F6xD9A/f/////PP1zVo3A9Ctc/XY3C9Shc3z9SE65H4XrkP5hQuB6F6+k/gP7/////7z+FjsL1KFzzPxzWo3A9Cvc/BNajcD0K+z89jsL1KFz/P2T//////wFA0hOuR+F6BEBohOtRuB4HQChRuB6F6wlAEHoUrkfhDEAg//////8PQC1wPQrXoxFA3Y7C9ShcE0CjW4/C9SgVQHzWo3A9ChdAav//////GEBs1qNwPQobQINbj8L1KB1ArY7C9ShcH0D2tx6F69EgQKD//////yFAVB6F61E4I0ASFK5H4XokQNrgehSuxyVArITrUbgeJ0CJ/////38oQHBRuB6F6ylAYXoUrkdhK0BcehSuR+EsQGFRuB6Fay5AcP//////L0BFwvUoXM8wQFdwPQrXozFA7QnXo3B9MkAJj8L1KFwzQKv/////PzRA0VuPwvUoNUB8o3A9Chc2QKzWo3A9CjdAYvUoXI8COECc//////84QA==\",\"dtype\":\"float64\",\"shape\":[101]}},\"selected\":{\"id\":\"bd854a68-f0db-4ec5-bc77-32d21dea4fbc\",\"type\":\"Selection\"},\"selection_policy\":{\"id\":\"583534d4-cdfa-4e4f-9355-b3d90f560f75\",\"type\":\"UnionRenderers\"}},\"id\":\"fba5faa0-9f40-4850-a004-33d0efbe2d74\",\"type\":\"ColumnDataSource\"},{\"attributes\":{\"plot\":{\"id\":\"51a0cb40-6bd6-43a0-a963-c6bab15e4c02\",\"subtype\":\"Figure\",\"type\":\"Plot\"},\"ticker\":{\"id\":\"abaa1c24-7b23-477b-a2ec-6ef0e248862b\",\"type\":\"BasicTicker\"}},\"id\":\"a3a8909d-6a57-4a37-9693-024ea99dbe42\",\"type\":\"Grid\"},{\"attributes\":{\"data_source\":{\"id\":\"fba5faa0-9f40-4850-a004-33d0efbe2d74\",\"type\":\"ColumnDataSource\"},\"glyph\":{\"id\":\"fc06cd79-10b4-47fa-9b69-f04a35baeff7\",\"type\":\"Line\"},\"hover_glyph\":null,\"muted_glyph\":null,\"nonselection_glyph\":{\"id\":\"8faf4d68-97b1-4955-88a1-110dbf96124c\",\"type\":\"Line\"},\"selection_glyph\":null,\"view\":{\"id\":\"9087a394-50d8-43d5-b61e-0095d0c74ba4\",\"type\":\"CDSView\"}},\"id\":\"d46280dc-4907-4d12-810d-3d6646a5f015\",\"type\":\"GlyphRenderer\"},{\"attributes\":{\"source\":{\"id\":\"fba5faa0-9f40-4850-a004-33d0efbe2d74\",\"type\":\"ColumnDataSource\"}},\"id\":\"9087a394-50d8-43d5-b61e-0095d0c74ba4\",\"type\":\"CDSView\"},{\"attributes\":{\"below\":[{\"id\":\"bd4e8d26-135c-462a-895f-f13ddedbb484\",\"type\":\"LinearAxis\"}],\"left\":[{\"id\":\"840fc981-91a8-4a53-a277-86f6115f3784\",\"type\":\"LinearAxis\"}],\"plot_height\":500,\"plot_width\":950,\"renderers\":[{\"id\":\"bd4e8d26-135c-462a-895f-f13ddedbb484\",\"type\":\"LinearAxis\"},{\"id\":\"a3a8909d-6a57-4a37-9693-024ea99dbe42\",\"type\":\"Grid\"},{\"id\":\"840fc981-91a8-4a53-a277-86f6115f3784\",\"type\":\"LinearAxis\"},{\"id\":\"f1de57d0-fd9e-4b94-9aa5-0ea1cc4e7465\",\"type\":\"Grid\"},{\"id\":\"01522ca6-b837-45a7-b0cc-69929cacc8db\",\"type\":\"BoxAnnotation\"},{\"id\":\"d46280dc-4907-4d12-810d-3d6646a5f015\",\"type\":\"GlyphRenderer\"}],\"title\":{\"id\":\"b618fb4d-9893-4cb8-a62a-1a445e0b7aa7\",\"type\":\"Title\"},\"toolbar\":{\"id\":\"31c337b1-31ef-4c54-b2ce-412fff0622b0\",\"type\":\"Toolbar\"},\"toolbar_location\":\"below\",\"x_range\":{\"id\":\"9e4ea4b9-5445-455f-a460-c0ed6a4b726b\",\"type\":\"DataRange1d\"},\"x_scale\":{\"id\":\"6b0409d5-3305-4bea-a585-8f0de9d9431b\",\"type\":\"LinearScale\"},\"y_range\":{\"id\":\"5340d670-3022-4c8b-9bd2-cf7744156eee\",\"type\":\"DataRange1d\"},\"y_scale\":{\"id\":\"c767e623-20fb-4cd7-8aa6-f889dfc05228\",\"type\":\"LinearScale\"}},\"id\":\"51a0cb40-6bd6-43a0-a963-c6bab15e4c02\",\"subtype\":\"Figure\",\"type\":\"Plot\"},{\"attributes\":{},\"id\":\"feb2b4a6-aa5b-445d-9198-639fe46dfa45\",\"type\":\"HelpTool\"},{\"attributes\":{},\"id\":\"abaa1c24-7b23-477b-a2ec-6ef0e248862b\",\"type\":\"BasicTicker\"},{\"attributes\":{\"bottom_units\":\"screen\",\"fill_alpha\":{\"value\":0.5},\"fill_color\":{\"value\":\"lightgrey\"},\"left_units\":\"screen\",\"level\":\"overlay\",\"line_alpha\":{\"value\":1.0},\"line_color\":{\"value\":\"black\"},\"line_dash\":[4,4],\"line_width\":{\"value\":2},\"plot\":null,\"render_mode\":\"css\",\"right_units\":\"screen\",\"top_units\":\"screen\"},\"id\":\"01522ca6-b837-45a7-b0cc-69929cacc8db\",\"type\":\"BoxAnnotation\"},{\"attributes\":{\"callback\":null},\"id\":\"9e4ea4b9-5445-455f-a460-c0ed6a4b726b\",\"type\":\"DataRange1d\"}],\"root_ids\":[\"51a0cb40-6bd6-43a0-a963-c6bab15e4c02\"]},\"title\":\"Bokeh Application\",\"version\":\"0.13.0\"}};\n",
       "  var render_items = [{\"docid\":\"be0251f3-84a3-4dd4-8ec7-56b9a2c73c0c\",\"roots\":{\"51a0cb40-6bd6-43a0-a963-c6bab15e4c02\":\"490c0c04-bb74-4e16-bd06-975f7ce1952a\"}}];\n",
       "  root.Bokeh.embed.embed_items_notebook(docs_json, render_items);\n",
       "\n",
       "  }\n",
       "  if (root.Bokeh !== undefined) {\n",
       "    embed_document(root);\n",
       "  } else {\n",
       "    var attempts = 0;\n",
       "    var timer = setInterval(function(root) {\n",
       "      if (root.Bokeh !== undefined) {\n",
       "        embed_document(root);\n",
       "        clearInterval(timer);\n",
       "      }\n",
       "      attempts++;\n",
       "      if (attempts > 100) {\n",
       "        console.log(\"Bokeh: ERROR: Unable to run BokehJS code because BokehJS library is missing\")\n",
       "        clearInterval(timer);\n",
       "      }\n",
       "    }, 10, root)\n",
       "  }\n",
       "})(window);"
      ],
      "application/vnd.bokehjs_exec.v0+json": ""
     },
     "metadata": {
      "application/vnd.bokehjs_exec.v0+json": {
       "id": "51a0cb40-6bd6-43a0-a963-c6bab15e4c02"
      }
     },
     "output_type": "display_data"
    }
   ],
   "source": [
    "x = np.arange(-5,5+.1,.1)\n",
    "p = plot()\n",
    "p.line(x,g(x),line_width=3)\n",
    "show(p)"
   ]
  },
  {
   "cell_type": "markdown",
   "metadata": {},
   "source": [
    "Let's see if we can plot out the rate in which things change, using our change function. Moreover, let's see what happens as we take smaller and smaller \"nudges\" (changes in x)."
   ]
  },
  {
   "cell_type": "code",
   "execution_count": 15,
   "metadata": {},
   "outputs": [
    {
     "data": {
      "text/html": [
       "\n",
       "\n",
       "\n",
       "\n",
       "\n",
       "\n",
       "  <div class=\"bk-root\" id=\"dd4c4b0b-c5dd-4ca4-9670-3986947cbe96\"></div>\n"
      ]
     },
     "metadata": {},
     "output_type": "display_data"
    },
    {
     "data": {
      "application/javascript": [
       "(function(root) {\n",
       "  function embed_document(root) {\n",
       "    \n",
       "  var docs_json = {\"c181250b-a943-4eb9-b02e-e719d56f953c\":{\"roots\":{\"references\":[{\"attributes\":{\"line_alpha\":0.1,\"line_color\":\"#1f77b4\",\"line_width\":3,\"x\":{\"field\":\"x\"},\"y\":{\"field\":\"y\"}},\"id\":\"8faf4d68-97b1-4955-88a1-110dbf96124c\",\"type\":\"Line\"},{\"attributes\":{\"line_alpha\":0.2,\"line_color\":\"red\",\"line_width\":3,\"x\":{\"field\":\"x\"},\"y\":{\"field\":\"y\"}},\"id\":\"c6f1a125-0aa9-4196-b46d-7b6522665e8f\",\"type\":\"Line\"},{\"attributes\":{},\"id\":\"219b6827-2935-4cdc-91ab-7ce7bddf3ac7\",\"type\":\"BasicTickFormatter\"},{\"attributes\":{\"callback\":null,\"data\":{\"x\":{\"__ndarray__\":\"AAAAAAAAFMCamZmZmZkTwDQzMzMzMxPAzszMzMzMEsBoZmZmZmYSwAIAAAAAABLAnJmZmZmZEcA2MzMzMzMRwNDMzMzMzBDAamZmZmZmEMAEAAAAAAAQwDwzMzMzMw/AcGZmZmZmDsCkmZmZmZkNwNjMzMzMzAzADAAAAAAADMBAMzMzMzMLwHRmZmZmZgrAqJmZmZmZCcDczMzMzMwIwBAAAAAAAAjARDMzMzMzB8B4ZmZmZmYGwKyZmZmZmQXA4MzMzMzMBMAUAAAAAAAEwEgzMzMzMwPAfGZmZmZmAsCwmZmZmZkBwOTMzMzMzADAGAAAAAAAAMCYZmZmZmb+vwDNzMzMzPy/aDMzMzMz+7/QmZmZmZn5vzgAAAAAAPi/oGZmZmZm9r8IzczMzMz0v3AzMzMzM/O/2JmZmZmZ8b9AAAAAAADwv1DNzMzMzOy/IJqZmZmZ6b/wZmZmZmbmv8AzMzMzM+O/kAAAAAAA4L/AmpmZmZnZv2A0MzMzM9O/AJyZmZmZyb+AnpmZmZm5vwAAAAAAABS9gJSZmZmZuT8Al5mZmZnJP+AxMzMzM9M/QJiZmZmZ2T+g/v/////fP4AyMzMzM+M/sGVmZmZm5j/gmJmZmZnpPxDMzMzMzOw/QP//////7z84mZmZmZnxP9AyMzMzM/M/aMzMzMzM9D8AZmZmZmb2P5j///////c/MJmZmZmZ+T/IMjMzMzP7P2DMzMzMzPw/+GVmZmZm/j+Q////////P5TMzMzMzABAYJmZmZmZAUAsZmZmZmYCQPgyMzMzMwNAxP//////A0CQzMzMzMwEQFyZmZmZmQVAKGZmZmZmBkD0MjMzMzMHQMD//////wdAjMzMzMzMCEBYmZmZmZkJQCRmZmZmZgpA8DIzMzMzC0C8//////8LQIjMzMzMzAxAVJmZmZmZDUAgZmZmZmYOQOwyMzMzMw9AuP//////D0BCZmZmZmYQQKjMzMzMzBBADjMzMzMzEUB0mZmZmZkRQNr//////xFAQGZmZmZmEkCmzMzMzMwSQAwzMzMzMxNAcpmZmZmZE0DY//////8TQA==\",\"dtype\":\"float64\",\"shape\":[101]},\"y\":{\"__ndarray__\":\"EBSuR+H6I8DorUfhepQjwPhG4XoULiPA0OB6FK7HIsCoehSuR2EiwIAUrkfh+iHAkK1H4XqUIcCgRuF6FC4hwEDhehSuxyDAGHsUrkdhIMBQKFyPwvUfwABcj8L1KB/A6I7C9ShcHsCYwvUoXI8dwID1KFyPwhzAaChcj8L1G8BQW4/C9SgbwACPwvUoXBrA6MH1KFyPGcCY9Shcj8IYwIAoXI/C9RfAaFuPwvUoF8C0jsL1KFwWwGTC9ShcjxXATPUoXI/CFMCYKFyPwvUTwORbj8L1KBPAMI/C9ShcEsAYwvUoXI8RwMj1KFyPwhDAKFK4HoXrD8DAuB6F61EOwPQehetRuAzAKIXrUbgeC8DA61G4HoUJwFhSuB6F6wfAjLgehetRBsDyHoXrUbgEwFiF61G4HgPAvutRuB6FAcBIpHA9Ctf/v0ZxPQrXo/y/Ej4K16Nw+b/FCtejcD32v5HXo3A9CvO/00jhehSu779r4noUrkfpvw98FK5H4eK/aCtcj8L12L82vR6F61HIv3vErUfheoQ/xXUUrkfhyj+mB9ejcD3aPzvqUbgeheM/ilC4HoXr6T95W4/C9SjwP62OwvUoXPM/4cH1KFyP9j/89Chcj8L5PzAoXI/C9fw/sq1H4XoUAEB+R+F6FK4BQObgehSuRwNAgHoUrkfhBEAaFK5H4XoGQLStR+F6FAhAHEfhehSuCUDo4HoUrkcLQFB6FK5H4QxAuBOuR+F6DkCQ1qNwPQoQQOCicD0K1xBAXHA9CtejEUCsPArXo3ASQMQJ16NwPRNAeNajcD0KFEAso3A9CtcUQOBvPQrXoxVA+DwK16NwFkBICdejcD0XQGDWo3A9ChhAsKJwPQrXGEDIbz0K16MZQOA8CtejcBpA+AnXo3A9G0BI1qNwPQocQJiicD0K1xxAsG89CtejHUAAPArXo3AeQBgJ16NwPR9AGOtRuB4FIEBAUbgehWsgQGi3HoXr0SBAWB6F61E4IUBIhetRuJ4hQKjqUbgeBSJA0FC4HoVrIkDAtx6F69EiQOgdhetROCNAEITrUbieI0AA61G4HgUkQA==\",\"dtype\":\"float64\",\"shape\":[101]}},\"selected\":{\"id\":\"dcf89057-decd-4b13-ac75-60696de9d909\",\"type\":\"Selection\"},\"selection_policy\":{\"id\":\"de271c76-4b69-46f1-adc4-81a278332606\",\"type\":\"UnionRenderers\"}},\"id\":\"8d8bd01a-bd3b-4913-91cd-3a27d7e9ba68\",\"type\":\"ColumnDataSource\"},{\"attributes\":{},\"id\":\"0b3ae90d-5b09-4f81-ac83-832b38494d58\",\"type\":\"PanTool\"},{\"attributes\":{},\"id\":\"dce42600-afc4-413b-84c7-46834590e0d6\",\"type\":\"WheelZoomTool\"},{\"attributes\":{},\"id\":\"556e858b-2968-464c-b149-1a1b9fdbb26c\",\"type\":\"Selection\"},{\"attributes\":{\"overlay\":{\"id\":\"01522ca6-b837-45a7-b0cc-69929cacc8db\",\"type\":\"BoxAnnotation\"}},\"id\":\"0263ad03-3391-4f03-b0f3-7beab2954254\",\"type\":\"BoxZoomTool\"},{\"attributes\":{},\"id\":\"019595d4-f245-44bb-aca8-40c95fd05655\",\"type\":\"ResetTool\"},{\"attributes\":{},\"id\":\"32bf8558-fba6-4adb-82aa-c8186430aae4\",\"type\":\"SaveTool\"},{\"attributes\":{},\"id\":\"6f6618f0-e7a3-45f2-83c6-a72d4491ecb7\",\"type\":\"BasicTicker\"},{\"attributes\":{\"dimension\":1,\"plot\":{\"id\":\"51a0cb40-6bd6-43a0-a963-c6bab15e4c02\",\"subtype\":\"Figure\",\"type\":\"Plot\"},\"ticker\":{\"id\":\"6f6618f0-e7a3-45f2-83c6-a72d4491ecb7\",\"type\":\"BasicTicker\"}},\"id\":\"f1de57d0-fd9e-4b94-9aa5-0ea1cc4e7465\",\"type\":\"Grid\"},{\"attributes\":{\"axis_label\":\"f(X)\",\"formatter\":{\"id\":\"45cef452-efc6-49e8-b2ef-4b6f94c66afd\",\"type\":\"BasicTickFormatter\"},\"plot\":{\"id\":\"51a0cb40-6bd6-43a0-a963-c6bab15e4c02\",\"subtype\":\"Figure\",\"type\":\"Plot\"},\"ticker\":{\"id\":\"6f6618f0-e7a3-45f2-83c6-a72d4491ecb7\",\"type\":\"BasicTicker\"}},\"id\":\"840fc981-91a8-4a53-a277-86f6115f3784\",\"type\":\"LinearAxis\"},{\"attributes\":{},\"id\":\"990e2603-9f32-47b3-b362-547f514eb002\",\"type\":\"Selection\"},{\"attributes\":{\"plot\":{\"id\":\"51a0cb40-6bd6-43a0-a963-c6bab15e4c02\",\"subtype\":\"Figure\",\"type\":\"Plot\"},\"ticker\":{\"id\":\"abaa1c24-7b23-477b-a2ec-6ef0e248862b\",\"type\":\"BasicTicker\"}},\"id\":\"a3a8909d-6a57-4a37-9693-024ea99dbe42\",\"type\":\"Grid\"},{\"attributes\":{\"data_source\":{\"id\":\"fba5faa0-9f40-4850-a004-33d0efbe2d74\",\"type\":\"ColumnDataSource\"},\"glyph\":{\"id\":\"fc06cd79-10b4-47fa-9b69-f04a35baeff7\",\"type\":\"Line\"},\"hover_glyph\":null,\"muted_glyph\":null,\"nonselection_glyph\":{\"id\":\"8faf4d68-97b1-4955-88a1-110dbf96124c\",\"type\":\"Line\"},\"selection_glyph\":null,\"view\":{\"id\":\"9087a394-50d8-43d5-b61e-0095d0c74ba4\",\"type\":\"CDSView\"}},\"id\":\"d46280dc-4907-4d12-810d-3d6646a5f015\",\"type\":\"GlyphRenderer\"},{\"attributes\":{\"source\":{\"id\":\"fba5faa0-9f40-4850-a004-33d0efbe2d74\",\"type\":\"ColumnDataSource\"}},\"id\":\"9087a394-50d8-43d5-b61e-0095d0c74ba4\",\"type\":\"CDSView\"},{\"attributes\":{},\"id\":\"aaf00c0a-2fcb-46d1-8d17-017702dec754\",\"type\":\"Selection\"},{\"attributes\":{},\"id\":\"feb2b4a6-aa5b-445d-9198-639fe46dfa45\",\"type\":\"HelpTool\"},{\"attributes\":{\"line_alpha\":0.2,\"line_color\":\"red\",\"line_width\":3,\"x\":{\"field\":\"x\"},\"y\":{\"field\":\"y\"}},\"id\":\"f4cdcdb0-61f2-498d-8e24-5d4afa6fb744\",\"type\":\"Line\"},{\"attributes\":{\"bottom_units\":\"screen\",\"fill_alpha\":{\"value\":0.5},\"fill_color\":{\"value\":\"lightgrey\"},\"left_units\":\"screen\",\"level\":\"overlay\",\"line_alpha\":{\"value\":1.0},\"line_color\":{\"value\":\"black\"},\"line_dash\":[4,4],\"line_width\":{\"value\":2},\"plot\":null,\"render_mode\":\"css\",\"right_units\":\"screen\",\"top_units\":\"screen\"},\"id\":\"01522ca6-b837-45a7-b0cc-69929cacc8db\",\"type\":\"BoxAnnotation\"},{\"attributes\":{\"callback\":null},\"id\":\"9e4ea4b9-5445-455f-a460-c0ed6a4b726b\",\"type\":\"DataRange1d\"},{\"attributes\":{\"source\":{\"id\":\"8d8bd01a-bd3b-4913-91cd-3a27d7e9ba68\",\"type\":\"ColumnDataSource\"}},\"id\":\"f8951940-70cb-4c5c-ba87-c0e17d4a04f9\",\"type\":\"CDSView\"},{\"attributes\":{},\"id\":\"bd854a68-f0db-4ec5-bc77-32d21dea4fbc\",\"type\":\"Selection\"},{\"attributes\":{},\"id\":\"de271c76-4b69-46f1-adc4-81a278332606\",\"type\":\"UnionRenderers\"},{\"attributes\":{},\"id\":\"45cef452-efc6-49e8-b2ef-4b6f94c66afd\",\"type\":\"BasicTickFormatter\"},{\"attributes\":{},\"id\":\"dcf89057-decd-4b13-ac75-60696de9d909\",\"type\":\"Selection\"},{\"attributes\":{},\"id\":\"388e0335-3b47-445f-955a-ea3adbac8907\",\"type\":\"UnionRenderers\"},{\"attributes\":{},\"id\":\"74a8c8e2-4820-481f-be2a-0ae6776a5070\",\"type\":\"UnionRenderers\"},{\"attributes\":{},\"id\":\"583534d4-cdfa-4e4f-9355-b3d90f560f75\",\"type\":\"UnionRenderers\"},{\"attributes\":{\"callback\":null,\"data\":{\"x\":{\"__ndarray__\":\"AAAAAAAAFMCamZmZmZkTwDQzMzMzMxPAzszMzMzMEsBoZmZmZmYSwAIAAAAAABLAnJmZmZmZEcA2MzMzMzMRwNDMzMzMzBDAamZmZmZmEMAEAAAAAAAQwDwzMzMzMw/AcGZmZmZmDsCkmZmZmZkNwNjMzMzMzAzADAAAAAAADMBAMzMzMzMLwHRmZmZmZgrAqJmZmZmZCcDczMzMzMwIwBAAAAAAAAjARDMzMzMzB8B4ZmZmZmYGwKyZmZmZmQXA4MzMzMzMBMAUAAAAAAAEwEgzMzMzMwPAfGZmZmZmAsCwmZmZmZkBwOTMzMzMzADAGAAAAAAAAMCYZmZmZmb+vwDNzMzMzPy/aDMzMzMz+7/QmZmZmZn5vzgAAAAAAPi/oGZmZmZm9r8IzczMzMz0v3AzMzMzM/O/2JmZmZmZ8b9AAAAAAADwv1DNzMzMzOy/IJqZmZmZ6b/wZmZmZmbmv8AzMzMzM+O/kAAAAAAA4L/AmpmZmZnZv2A0MzMzM9O/AJyZmZmZyb+AnpmZmZm5vwAAAAAAABS9gJSZmZmZuT8Al5mZmZnJP+AxMzMzM9M/QJiZmZmZ2T+g/v/////fP4AyMzMzM+M/sGVmZmZm5j/gmJmZmZnpPxDMzMzMzOw/QP//////7z84mZmZmZnxP9AyMzMzM/M/aMzMzMzM9D8AZmZmZmb2P5j///////c/MJmZmZmZ+T/IMjMzMzP7P2DMzMzMzPw/+GVmZmZm/j+Q////////P5TMzMzMzABAYJmZmZmZAUAsZmZmZmYCQPgyMzMzMwNAxP//////A0CQzMzMzMwEQFyZmZmZmQVAKGZmZmZmBkD0MjMzMzMHQMD//////wdAjMzMzMzMCEBYmZmZmZkJQCRmZmZmZgpA8DIzMzMzC0C8//////8LQIjMzMzMzAxAVJmZmZmZDUAgZmZmZmYOQOwyMzMzMw9AuP//////D0BCZmZmZmYQQKjMzMzMzBBADjMzMzMzEUB0mZmZmZkRQNr//////xFAQGZmZmZmEkCmzMzMzMwSQAwzMzMzMxNAcpmZmZmZE0DY//////8TQA==\",\"dtype\":\"float64\",\"shape\":[101]},\"y\":{\"__ndarray__\":\"AAAAAAAAI8CcmZmZmZkiwDQzMzMzMyLA0MzMzMzMIcBoZmZmZmYhwAQAAAAAACHAmpmZmZmZIMA0MzMzMzMgwKSZmZmZmR/A2MzMzMzMHsAIAAAAAAAewDwzMzMzMx3AcGZmZmZmHMCkmZmZmZkbwNjMzMzMzBrADAAAAAAAGsBAMzMzMzMZwHRmZmZmZhjAqJmZmZmZF8DczMzMzMwWwBAAAAAAABbAQjMzMzMzFcB4ZmZmZmYUwKyZmZmZmRPA4MzMzMzMEsAUAAAAAAASwEgzMzMzMxHAfWZmZmZmEMBeMzMzMzMPwMqZmZmZmQ3AMAAAAAAADMCZZmZmZmYKwAHNzMzMzAjAZzMzMzMzB8DQmZmZmZkFwDgAAAAAAATAoGZmZmZmAsAIzczMzMwAwOBmZmZmZv6/rzMzMzMz+7+AAAAAAAD4v1DNzMzMzPS/IJqZmZmZ8b/gzczMzMzsv4BnZmZmZua/IAEAAAAA4L+ANTMzMzPTvwCjmZmZmbm/AJCZmZmZuT/AMDMzMzPTP4D9/////98/IGVmZmZm5j+Ay8zMzMzsP/CYmZmZmfE/IMzMzMzM9D9Q///////3P4AyMzMzM/s/sGVmZmZm/j9wzMzMzMwAQAhmZmZmZgJAoP//////A0A5mZmZmZkFQNAyMzMzMwdAaMzMzMzMCEABZmZmZmYKQJj//////wtAMJmZmZmZDUDIMjMzMzMPQDBmZmZmZhBA/DIzMzMzEUDI//////8RQJTMzMzMzBJAYJmZmZmZE0AsZmZmZmYUQPgyMzMzMxVAxP//////FUCQzMzMzMwWQFqZmZmZmRdAKmZmZmZmGED0MjMzMzMZQMD//////xlAjMzMzMzMGkBYmZmZmZkbQCRmZmZmZhxA8DIzMzMzHUC8//////8dQIjMzMzMzB5AVJmZmZmZH0AQMzMzMzMgQHaZmZmZmSBA3P//////IEBAZmZmZmYhQKjMzMzMzCFAEDMzMzMzIkB0mZmZmZkiQNj//////yJAQGZmZmZmI0CkzMzMzMwjQAwzMzMzMyRAcJmZmZmZJEDY//////8kQA==\",\"dtype\":\"float64\",\"shape\":[101]}},\"selected\":{\"id\":\"990e2603-9f32-47b3-b362-547f514eb002\",\"type\":\"Selection\"},\"selection_policy\":{\"id\":\"0dbeebbf-5eec-44a9-8cd9-4d0c4ed778fe\",\"type\":\"UnionRenderers\"}},\"id\":\"916e8da5-9afd-4fc0-8ddf-f612e468b573\",\"type\":\"ColumnDataSource\"},{\"attributes\":{\"data_source\":{\"id\":\"8d8bd01a-bd3b-4913-91cd-3a27d7e9ba68\",\"type\":\"ColumnDataSource\"},\"glyph\":{\"id\":\"f4cdcdb0-61f2-498d-8e24-5d4afa6fb744\",\"type\":\"Line\"},\"hover_glyph\":null,\"muted_glyph\":null,\"nonselection_glyph\":{\"id\":\"ef699ea6-265d-414c-ae6c-07ad6e40d48c\",\"type\":\"Line\"},\"selection_glyph\":null,\"view\":{\"id\":\"f8951940-70cb-4c5c-ba87-c0e17d4a04f9\",\"type\":\"CDSView\"}},\"id\":\"5149dcf6-3d65-48ce-853b-933f2c637934\",\"type\":\"GlyphRenderer\"},{\"attributes\":{},\"id\":\"0dbeebbf-5eec-44a9-8cd9-4d0c4ed778fe\",\"type\":\"UnionRenderers\"},{\"attributes\":{\"line_alpha\":0.1,\"line_color\":\"#1f77b4\",\"line_width\":3,\"x\":{\"field\":\"x\"},\"y\":{\"field\":\"y\"}},\"id\":\"ef699ea6-265d-414c-ae6c-07ad6e40d48c\",\"type\":\"Line\"},{\"attributes\":{\"callback\":null,\"data\":{\"x\":{\"__ndarray__\":\"AAAAAAAAFMCamZmZmZkTwDQzMzMzMxPAzszMzMzMEsBoZmZmZmYSwAIAAAAAABLAnJmZmZmZEcA2MzMzMzMRwNDMzMzMzBDAamZmZmZmEMAEAAAAAAAQwDwzMzMzMw/AcGZmZmZmDsCkmZmZmZkNwNjMzMzMzAzADAAAAAAADMBAMzMzMzMLwHRmZmZmZgrAqJmZmZmZCcDczMzMzMwIwBAAAAAAAAjARDMzMzMzB8B4ZmZmZmYGwKyZmZmZmQXA4MzMzMzMBMAUAAAAAAAEwEgzMzMzMwPAfGZmZmZmAsCwmZmZmZkBwOTMzMzMzADAGAAAAAAAAMCYZmZmZmb+vwDNzMzMzPy/aDMzMzMz+7/QmZmZmZn5vzgAAAAAAPi/oGZmZmZm9r8IzczMzMz0v3AzMzMzM/O/2JmZmZmZ8b9AAAAAAADwv1DNzMzMzOy/IJqZmZmZ6b/wZmZmZmbmv8AzMzMzM+O/kAAAAAAA4L/AmpmZmZnZv2A0MzMzM9O/AJyZmZmZyb+AnpmZmZm5vwAAAAAAABS9gJSZmZmZuT8Al5mZmZnJP+AxMzMzM9M/QJiZmZmZ2T+g/v/////fP4AyMzMzM+M/sGVmZmZm5j/gmJmZmZnpPxDMzMzMzOw/QP//////7z84mZmZmZnxP9AyMzMzM/M/aMzMzMzM9D8AZmZmZmb2P5j///////c/MJmZmZmZ+T/IMjMzMzP7P2DMzMzMzPw/+GVmZmZm/j+Q////////P5TMzMzMzABAYJmZmZmZAUAsZmZmZmYCQPgyMzMzMwNAxP//////A0CQzMzMzMwEQFyZmZmZmQVAKGZmZmZmBkD0MjMzMzMHQMD//////wdAjMzMzMzMCEBYmZmZmZkJQCRmZmZmZgpA8DIzMzMzC0C8//////8LQIjMzMzMzAxAVJmZmZmZDUAgZmZmZmYOQOwyMzMzMw9AuP//////D0BCZmZmZmYQQKjMzMzMzBBADjMzMzMzEUB0mZmZmZkRQNr//////xFAQGZmZmZmEkCmzMzMzMwSQAwzMzMzMxNAcpmZmZmZE0DY//////8TQA==\",\"dtype\":\"float64\",\"shape\":[101]},\"y\":{\"__ndarray__\":\"wOtysP7/I8CAzg1KmJkjwACkpeMxMyPAgHk9fcvMIsBAXNgWZWYiwAA/c7D+/yHAgBQLSpiZIcAA6qLjMTMhwADaQH3LzCDAgK/YFmVmIMC/Mepg/f8fwP/pHJQwMx/Af69Sx2NmHsC/Z4X6lpkdwP8fuC3KzBzAP9jqYP3/G8A/gxqUMDMbwL9IUMdjZhrA/wCD+paZGcA/ubUtyswYwL9+62D9/xfAvykblDAzF8CfaE/HY2YWwICng/qWmRXAwF+2LcrMFMCgnupg/f8TwOBWHZQwMxPAIA9Qx2NmEsBgx4L6lpkRwEAGty3KzBDA/3zTwfr/D8AfdDooYWYOwD9roY7HzAzAH1UF9S0zC8A/TGxblJkJwF9D08H6/wfAL3c5KGFmBsAAq5+Ox8wEwNDeBfUtMwPAoBJsW5SZAcDfjKSD9f//v8+3cVDCzPy/bx8+HY+Z+b+36ArqW2b2v6gT2LYoM/O/L31KB+v/77+/D+SghJnpv1CifToeM+O/k5ouqG+Z2b/9ZsO2RZnJv/Foo4e1+OQ+2aJvfO2ZyT/r0ASLw5nZP1Du6CtIM+M/v1tPkq6Z6T/wglp8CgDwP6i5ja89M/M/X/DA4nBm9j9vxfMVpJn5P3+aJknXzPw/wNwtPgUAAEDwqMfXnpkBQCB1YXE4MwNAUEH7CtLMBEB/DZWka2YGQF8WLj4FAAhAPx/H156ZCUC/rmFxODMLQJ+3+grSzAxAf8CTpGtmDkAAKBefAgAQQCDp4mvPzBBAgLexOJyZEUCgeH0FaWYSQGDAStI1MxNAgIEWnwIAFEBAyeNrz8wUQAARsTicmRVAv1h+BWlmFkB/oEvSNTMXQP/aFZ8CABhAvyLja8/MGEB/arA4nJkZQD+yfQVpZhpA//lK0jUzG0C/QRifAgAcQD984mvPzBxA/8OvOJyZHUC/C30FaWYeQH9TStI1Mx9AwDmHTwEAIEBAZO+1Z2YgQICBVBzOzCBAAKy8gjQzIUCA1iTpmpkhQIDmhk8BACJAABHvtWdmIkBALlQczswiQMBYvII0MyNAAHYh6ZqZI0BAk4ZPAQAkQA==\",\"dtype\":\"float64\",\"shape\":[101]}},\"selected\":{\"id\":\"117998d9-7cca-4ba4-baf4-06d863109c25\",\"type\":\"Selection\"},\"selection_policy\":{\"id\":\"ae177301-bd97-42f3-8eb6-0d88dc2fd2e1\",\"type\":\"UnionRenderers\"}},\"id\":\"27dd67cd-df07-4c35-beb0-c623f964804c\",\"type\":\"ColumnDataSource\"},{\"attributes\":{\"source\":{\"id\":\"b38dae01-68c0-47f1-9ec8-98bcc244621d\",\"type\":\"ColumnDataSource\"}},\"id\":\"be84561c-8a72-496e-ac10-730f5b1e6a93\",\"type\":\"CDSView\"},{\"attributes\":{\"data_source\":{\"id\":\"b38dae01-68c0-47f1-9ec8-98bcc244621d\",\"type\":\"ColumnDataSource\"},\"glyph\":{\"id\":\"41c1ddfe-474b-4359-aedc-3c3f2d90cd81\",\"type\":\"Line\"},\"hover_glyph\":null,\"muted_glyph\":null,\"nonselection_glyph\":{\"id\":\"2fa75f9a-a1bb-4de0-97f6-75dc351b786e\",\"type\":\"Line\"},\"selection_glyph\":null,\"view\":{\"id\":\"be84561c-8a72-496e-ac10-730f5b1e6a93\",\"type\":\"CDSView\"}},\"id\":\"f8bb73c8-6ae6-4467-81af-4fec95a46c80\",\"type\":\"GlyphRenderer\"},{\"attributes\":{\"line_alpha\":0.2,\"line_color\":\"red\",\"line_width\":3,\"x\":{\"field\":\"x\"},\"y\":{\"field\":\"y\"}},\"id\":\"41c1ddfe-474b-4359-aedc-3c3f2d90cd81\",\"type\":\"Line\"},{\"attributes\":{\"data_source\":{\"id\":\"de0fed0f-e76b-4440-9236-20b5fd59c6a4\",\"type\":\"ColumnDataSource\"},\"glyph\":{\"id\":\"c6f1a125-0aa9-4196-b46d-7b6522665e8f\",\"type\":\"Line\"},\"hover_glyph\":null,\"muted_glyph\":null,\"nonselection_glyph\":{\"id\":\"2c05cb44-769a-4f47-b6cf-24644879b55b\",\"type\":\"Line\"},\"selection_glyph\":null,\"view\":{\"id\":\"f6c6d26e-5779-4371-82c3-d944cfe34019\",\"type\":\"CDSView\"}},\"id\":\"dc6d5764-42c4-4a2c-9214-dfdf66b23a3f\",\"type\":\"GlyphRenderer\"},{\"attributes\":{},\"id\":\"c5c37349-3c63-4fc9-a182-08c424d423ae\",\"type\":\"Selection\"},{\"attributes\":{\"line_alpha\":0.1,\"line_color\":\"#1f77b4\",\"line_width\":3,\"x\":{\"field\":\"x\"},\"y\":{\"field\":\"y\"}},\"id\":\"2fa75f9a-a1bb-4de0-97f6-75dc351b786e\",\"type\":\"Line\"},{\"attributes\":{\"line_alpha\":0.1,\"line_color\":\"#1f77b4\",\"line_width\":3,\"x\":{\"field\":\"x\"},\"y\":{\"field\":\"y\"}},\"id\":\"2c05cb44-769a-4f47-b6cf-24644879b55b\",\"type\":\"Line\"},{\"attributes\":{},\"id\":\"abaa1c24-7b23-477b-a2ec-6ef0e248862b\",\"type\":\"BasicTicker\"},{\"attributes\":{\"source\":{\"id\":\"916e8da5-9afd-4fc0-8ddf-f612e468b573\",\"type\":\"ColumnDataSource\"}},\"id\":\"e9dbc4e8-7fa2-4291-9eed-0d92a22e6b83\",\"type\":\"CDSView\"},{\"attributes\":{\"callback\":null,\"data\":{\"x\":{\"__ndarray__\":\"AAAAAAAAFMCamZmZmZkTwDQzMzMzMxPAzszMzMzMEsBoZmZmZmYSwAIAAAAAABLAnJmZmZmZEcA2MzMzMzMRwNDMzMzMzBDAamZmZmZmEMAEAAAAAAAQwDwzMzMzMw/AcGZmZmZmDsCkmZmZmZkNwNjMzMzMzAzADAAAAAAADMBAMzMzMzMLwHRmZmZmZgrAqJmZmZmZCcDczMzMzMwIwBAAAAAAAAjARDMzMzMzB8B4ZmZmZmYGwKyZmZmZmQXA4MzMzMzMBMAUAAAAAAAEwEgzMzMzMwPAfGZmZmZmAsCwmZmZmZkBwOTMzMzMzADAGAAAAAAAAMCYZmZmZmb+vwDNzMzMzPy/aDMzMzMz+7/QmZmZmZn5vzgAAAAAAPi/oGZmZmZm9r8IzczMzMz0v3AzMzMzM/O/2JmZmZmZ8b9AAAAAAADwv1DNzMzMzOy/IJqZmZmZ6b/wZmZmZmbmv8AzMzMzM+O/kAAAAAAA4L/AmpmZmZnZv2A0MzMzM9O/AJyZmZmZyb+AnpmZmZm5vwAAAAAAABS9gJSZmZmZuT8Al5mZmZnJP+AxMzMzM9M/QJiZmZmZ2T+g/v/////fP4AyMzMzM+M/sGVmZmZm5j/gmJmZmZnpPxDMzMzMzOw/QP//////7z84mZmZmZnxP9AyMzMzM/M/aMzMzMzM9D8AZmZmZmb2P5j///////c/MJmZmZmZ+T/IMjMzMzP7P2DMzMzMzPw/+GVmZmZm/j+Q////////P5TMzMzMzABAYJmZmZmZAUAsZmZmZmYCQPgyMzMzMwNAxP//////A0CQzMzMzMwEQFyZmZmZmQVAKGZmZmZmBkD0MjMzMzMHQMD//////wdAjMzMzMzMCEBYmZmZmZkJQCRmZmZmZgpA8DIzMzMzC0C8//////8LQIjMzMzMzAxAVJmZmZmZDUAgZmZmZmYOQOwyMzMzMw9AuP//////D0BCZmZmZmYQQKjMzMzMzBBADjMzMzMzEUB0mZmZmZkRQNr//////xFAQGZmZmZmEkCmzMzMzMwSQAwzMzMzMxNAcpmZmZmZE0DY//////8TQA==\",\"dtype\":\"float64\",\"shape\":[101]},\"y\":{\"__ndarray__\":\"AAAAAAAAIsCbmZmZmZkhwDQzMzMzMyHAzszMzMzMIMBpZmZmZmYgwAMAAAAAACDANjMzMzMzH8BqZmZmZmYewKKZmZmZmR3A1szMzMzMHMAIAAAAAAAcwDwzMzMzMxvAcWZmZmZmGsClmZmZmZkZwNnMzMzMzBjADAAAAAAAGMA/MzMzMzMXwHRmZmZmZhbAqJmZmZmZFcDczMzMzMwUwBAAAAAAABTARDMzMzMzE8B4ZmZmZmYSwKyZmZmZmRHA4MzMzMzMEMAUAAAAAAAQwJBmZmZmZg7A+MzMzMzMDMBfMzMzMzMLwMmZmZmZmQnAMAAAAAAACMCYZmZmZmYGwADNzMzMzATAaDMzMzMzA8DQmZmZmZkBwDgAAAAAAADAQM3MzMzM/L8QmpmZmZn5v+BmZmZmZva/sDMzMzMz87+AAAAAAADwv6CamZmZmem/QDQzMzMz47/Am5mZmZnZvwCemZmZmcm/AAAAAAAAIr0AlZmZmZnJP0CXmZmZmdk/ADIzMzMz4z9gmJmZmZnpP8D+/////+8/kDIzMzMz8z/AZWZmZmb2P/CYmZmZmfk/IMzMzMzM/D9Q////////P0CZmZmZmQFA2DIzMzMzA0BwzMzMzMwEQAhmZmZmZgZAoP//////B0A4mZmZmZkJQNAyMzMzMwtAaMzMzMzMDEAAZmZmZmYOQJj//////w9AmMzMzMzMEEBkmZmZmZkRQDBmZmZmZhJA/DIzMzMzE0DI//////8TQJPMzMzMzBRAYZmZmZmZFUArZmZmZmYWQPgyMzMzMxdAxP//////F0CQzMzMzMwYQFuZmZmZmRlAKWZmZmZmGkD0MjMzMzMbQMD//////xtAjMzMzMzMHEBYmZmZmZkdQCRmZmZmZh5A8DIzMzMzH0C+//////8fQERmZmZmZiBAqczMzMzMIEAQMzMzMzMhQHWZmZmZmSFA3P//////IUBCZmZmZmYiQKjMzMzMzCJADjMzMzMzI0B0mZmZmZkjQNr//////yNAQGZmZmZmJECkzMzMzMwkQAwzMzMzMyVAcJmZmZmZJUDY//////8lQA==\",\"dtype\":\"float64\",\"shape\":[101]}},\"selected\":{\"id\":\"556e858b-2968-464c-b149-1a1b9fdbb26c\",\"type\":\"Selection\"},\"selection_policy\":{\"id\":\"388e0335-3b47-445f-955a-ea3adbac8907\",\"type\":\"UnionRenderers\"}},\"id\":\"de0fed0f-e76b-4440-9236-20b5fd59c6a4\",\"type\":\"ColumnDataSource\"},{\"attributes\":{},\"id\":\"6b0409d5-3305-4bea-a585-8f0de9d9431b\",\"type\":\"LinearScale\"},{\"attributes\":{\"source\":{\"id\":\"fe7bfd67-8326-43af-bfb9-83748325693d\",\"type\":\"ColumnDataSource\"}},\"id\":\"bde110e9-3c43-4351-bb72-6dc8e40efbab\",\"type\":\"CDSView\"},{\"attributes\":{\"line_alpha\":0.1,\"line_color\":\"#1f77b4\",\"line_width\":3,\"x\":{\"field\":\"x\"},\"y\":{\"field\":\"y\"}},\"id\":\"75b6e150-e468-4d66-92e4-eb1a7deb2f3e\",\"type\":\"Line\"},{\"attributes\":{},\"id\":\"117998d9-7cca-4ba4-baf4-06d863109c25\",\"type\":\"Selection\"},{\"attributes\":{\"source\":{\"id\":\"27dd67cd-df07-4c35-beb0-c623f964804c\",\"type\":\"ColumnDataSource\"}},\"id\":\"3ad4a2ee-d5b7-4560-8980-465f07a90171\",\"type\":\"CDSView\"},{\"attributes\":{\"callback\":null,\"data\":{\"x\":{\"__ndarray__\":\"AAAAAAAAFMCamZmZmZkTwDQzMzMzMxPAzszMzMzMEsBoZmZmZmYSwAIAAAAAABLAnJmZmZmZEcA2MzMzMzMRwNDMzMzMzBDAamZmZmZmEMAEAAAAAAAQwDwzMzMzMw/AcGZmZmZmDsCkmZmZmZkNwNjMzMzMzAzADAAAAAAADMBAMzMzMzMLwHRmZmZmZgrAqJmZmZmZCcDczMzMzMwIwBAAAAAAAAjARDMzMzMzB8B4ZmZmZmYGwKyZmZmZmQXA4MzMzMzMBMAUAAAAAAAEwEgzMzMzMwPAfGZmZmZmAsCwmZmZmZkBwOTMzMzMzADAGAAAAAAAAMCYZmZmZmb+vwDNzMzMzPy/aDMzMzMz+7/QmZmZmZn5vzgAAAAAAPi/oGZmZmZm9r8IzczMzMz0v3AzMzMzM/O/2JmZmZmZ8b9AAAAAAADwv1DNzMzMzOy/IJqZmZmZ6b/wZmZmZmbmv8AzMzMzM+O/kAAAAAAA4L/AmpmZmZnZv2A0MzMzM9O/AJyZmZmZyb+AnpmZmZm5vwAAAAAAABS9gJSZmZmZuT8Al5mZmZnJP+AxMzMzM9M/QJiZmZmZ2T+g/v/////fP4AyMzMzM+M/sGVmZmZm5j/gmJmZmZnpPxDMzMzMzOw/QP//////7z84mZmZmZnxP9AyMzMzM/M/aMzMzMzM9D8AZmZmZmb2P5j///////c/MJmZmZmZ+T/IMjMzMzP7P2DMzMzMzPw/+GVmZmZm/j+Q////////P5TMzMzMzABAYJmZmZmZAUAsZmZmZmYCQPgyMzMzMwNAxP//////A0CQzMzMzMwEQFyZmZmZmQVAKGZmZmZmBkD0MjMzMzMHQMD//////wdAjMzMzMzMCEBYmZmZmZkJQCRmZmZmZgpA8DIzMzMzC0C8//////8LQIjMzMzMzAxAVJmZmZmZDUAgZmZmZmYOQOwyMzMzMw9AuP//////D0BCZmZmZmYQQKjMzMzMzBBADjMzMzMzEUB0mZmZmZkRQNr//////xFAQGZmZmZmEkCmzMzMzMwSQAwzMzMzMxNAcpmZmZmZE0DY//////8TQA==\",\"dtype\":\"float64\",\"shape\":[101]},\"y\":{\"__ndarray__\":\"AAAAAAAAGMA0MzMzMzMXwGhmZmZmZhbAnJmZmZmZFcDQzMzMzMwUwAQAAAAAABTAODMzMzMzE8BsZmZmZmYSwKCZmZmZmRHA1MzMzMzMEMAIAAAAAAAQwHhmZmZmZg7A4MzMzMzMDMBIMzMzMzMLwLCZmZmZmQnAGAAAAAAACMCAZmZmZmYGwOjMzMzMzATAUDMzMzMzA8C4mZmZmZkBwCAAAAAAAADAEM3MzMzM/L/gmZmZmZn5v7BmZmZmZva/gDMzMzMz879QAAAAAADwv0CamZmZmem/4TMzMzMz47/+mpmZmZnZv4ScmZmZmcm/AAAAAAAAGL2AlpmZmZnJPwCYmZmZmdk/YDIzMzMz4z/AmJmZmZnpPyD//////+8/wDIzMzMz8z/wZWZmZmb2PyCZmZmZmfk/UczMzMzM/D+A////////P1iZmZmZmQFA8DIzMzMzA0CIzMzMzMwEQCBmZmZmZgZAuP//////B0BQmZmZmZkJQOgyMzMzMwtAgMzMzMzMDEAYZmZmZmYOQLD//////w9ApMzMzMzMEEBwmZmZmZkRQDxmZmZmZhJACDMzMzMzE0DU//////8TQKDMzMzMzBRAbJmZmZmZFUA4ZmZmZmYWQAQzMzMzMxdA0P//////F0CczMzMzMwYQGiZmZmZmRlANGZmZmZmGkAAMzMzMzMbQMz//////xtAmMzMzMzMHEBlmZmZmZkdQC9mZmZmZh5A/DIzMzMzH0DI//////8fQEpmZmZmZiBAsMzMzMzMIEAWMzMzMzMhQHyZmZmZmSFA4v//////IUBIZmZmZmYiQK7MzMzMzCJAFDMzMzMzI0B6mZmZmZkjQOD//////yNARmZmZmZmJECszMzMzMwkQBIzMzMzMyVAeJmZmZmZJUDe//////8lQERmZmZmZiZAqszMzMzMJkAQMzMzMzMnQHaZmZmZmSdA3P//////J0BCZmZmZmYoQKjMzMzMzChADjMzMzMzKUB0mZmZmZkpQNr//////ylAQGZmZmZmKkCmzMzMzMwqQAwzMzMzMytAcZmZmZmZK0DY//////8rQA==\",\"dtype\":\"float64\",\"shape\":[101]}},\"selected\":{\"id\":\"aaf00c0a-2fcb-46d1-8d17-017702dec754\",\"type\":\"Selection\"},\"selection_policy\":{\"id\":\"e56b7345-81cc-4161-9495-f621aaa9884e\",\"type\":\"UnionRenderers\"}},\"id\":\"fe7bfd67-8326-43af-bfb9-83748325693d\",\"type\":\"ColumnDataSource\"},{\"attributes\":{\"line_color\":\"#1f77b4\",\"line_width\":3,\"x\":{\"field\":\"x\"},\"y\":{\"field\":\"y\"}},\"id\":\"fc06cd79-10b4-47fa-9b69-f04a35baeff7\",\"type\":\"Line\"},{\"attributes\":{\"source\":{\"id\":\"373b0011-6251-4216-ac7e-e0dec1778782\",\"type\":\"ColumnDataSource\"}},\"id\":\"6e2c075a-5bf4-45d0-a02e-6c5004aab2bc\",\"type\":\"CDSView\"},{\"attributes\":{},\"id\":\"ae177301-bd97-42f3-8eb6-0d88dc2fd2e1\",\"type\":\"UnionRenderers\"},{\"attributes\":{\"plot\":null,\"text\":\"\"},\"id\":\"b618fb4d-9893-4cb8-a62a-1a445e0b7aa7\",\"type\":\"Title\"},{\"attributes\":{\"line_alpha\":0.1,\"line_color\":\"#1f77b4\",\"line_width\":3,\"x\":{\"field\":\"x\"},\"y\":{\"field\":\"y\"}},\"id\":\"b2940d52-cf30-4bae-af72-2349e86d5ccd\",\"type\":\"Line\"},{\"attributes\":{\"data_source\":{\"id\":\"27dd67cd-df07-4c35-beb0-c623f964804c\",\"type\":\"ColumnDataSource\"},\"glyph\":{\"id\":\"58635737-87e7-46d6-ba8d-cb1d340587ae\",\"type\":\"Line\"},\"hover_glyph\":null,\"muted_glyph\":null,\"nonselection_glyph\":{\"id\":\"75b6e150-e468-4d66-92e4-eb1a7deb2f3e\",\"type\":\"Line\"},\"selection_glyph\":null,\"view\":{\"id\":\"3ad4a2ee-d5b7-4560-8980-465f07a90171\",\"type\":\"CDSView\"}},\"id\":\"0ef9ba12-fb87-4d8d-8570-b62bbdd9f778\",\"type\":\"GlyphRenderer\"},{\"attributes\":{},\"id\":\"078dae44-1e0a-4acb-9a35-95c02f93ed4a\",\"type\":\"UnionRenderers\"},{\"attributes\":{\"line_alpha\":0.2,\"line_color\":\"red\",\"line_width\":3,\"x\":{\"field\":\"x\"},\"y\":{\"field\":\"y\"}},\"id\":\"58635737-87e7-46d6-ba8d-cb1d340587ae\",\"type\":\"Line\"},{\"attributes\":{},\"id\":\"c767e623-20fb-4cd7-8aa6-f889dfc05228\",\"type\":\"LinearScale\"},{\"attributes\":{\"data_source\":{\"id\":\"fe7bfd67-8326-43af-bfb9-83748325693d\",\"type\":\"ColumnDataSource\"},\"glyph\":{\"id\":\"acac732d-fcd6-417b-8e6e-1eb0c983a621\",\"type\":\"Line\"},\"hover_glyph\":null,\"muted_glyph\":null,\"nonselection_glyph\":{\"id\":\"b2940d52-cf30-4bae-af72-2349e86d5ccd\",\"type\":\"Line\"},\"selection_glyph\":null,\"view\":{\"id\":\"bde110e9-3c43-4351-bb72-6dc8e40efbab\",\"type\":\"CDSView\"}},\"id\":\"b1560b0c-7f5f-44d9-9893-1c6fc57db663\",\"type\":\"GlyphRenderer\"},{\"attributes\":{\"line_alpha\":0.2,\"line_color\":\"red\",\"line_width\":3,\"x\":{\"field\":\"x\"},\"y\":{\"field\":\"y\"}},\"id\":\"acac732d-fcd6-417b-8e6e-1eb0c983a621\",\"type\":\"Line\"},{\"attributes\":{\"data_source\":{\"id\":\"373b0011-6251-4216-ac7e-e0dec1778782\",\"type\":\"ColumnDataSource\"},\"glyph\":{\"id\":\"ee87aea2-748f-48a2-962f-04a50508dbf4\",\"type\":\"Line\"},\"hover_glyph\":null,\"muted_glyph\":null,\"nonselection_glyph\":{\"id\":\"6e8a1fea-2f9a-45ca-9900-c11ba2de020a\",\"type\":\"Line\"},\"selection_glyph\":null,\"view\":{\"id\":\"6e2c075a-5bf4-45d0-a02e-6c5004aab2bc\",\"type\":\"CDSView\"}},\"id\":\"84a90ca7-4be3-45b0-bf46-16277fdef850\",\"type\":\"GlyphRenderer\"},{\"attributes\":{\"callback\":null},\"id\":\"5340d670-3022-4c8b-9bd2-cf7744156eee\",\"type\":\"DataRange1d\"},{\"attributes\":{\"line_alpha\":0.1,\"line_color\":\"#1f77b4\",\"line_width\":3,\"x\":{\"field\":\"x\"},\"y\":{\"field\":\"y\"}},\"id\":\"6e8a1fea-2f9a-45ca-9900-c11ba2de020a\",\"type\":\"Line\"},{\"attributes\":{\"line_alpha\":0.2,\"line_color\":\"red\",\"line_width\":3,\"x\":{\"field\":\"x\"},\"y\":{\"field\":\"y\"}},\"id\":\"ee87aea2-748f-48a2-962f-04a50508dbf4\",\"type\":\"Line\"},{\"attributes\":{\"data_source\":{\"id\":\"916e8da5-9afd-4fc0-8ddf-f612e468b573\",\"type\":\"ColumnDataSource\"},\"glyph\":{\"id\":\"49dbb648-b67a-40f3-bf48-b208aed7964e\",\"type\":\"Line\"},\"hover_glyph\":null,\"muted_glyph\":null,\"nonselection_glyph\":{\"id\":\"3c0fb0be-f95c-421e-b2be-de2293e99b44\",\"type\":\"Line\"},\"selection_glyph\":null,\"view\":{\"id\":\"e9dbc4e8-7fa2-4291-9eed-0d92a22e6b83\",\"type\":\"CDSView\"}},\"id\":\"58b725d2-f7aa-405f-aca6-4606a113ffa2\",\"type\":\"GlyphRenderer\"},{\"attributes\":{\"callback\":null,\"data\":{\"x\":{\"__ndarray__\":\"AAAAAAAAFMCamZmZmZkTwDQzMzMzMxPAzszMzMzMEsBoZmZmZmYSwAIAAAAAABLAnJmZmZmZEcA2MzMzMzMRwNDMzMzMzBDAamZmZmZmEMAEAAAAAAAQwDwzMzMzMw/AcGZmZmZmDsCkmZmZmZkNwNjMzMzMzAzADAAAAAAADMBAMzMzMzMLwHRmZmZmZgrAqJmZmZmZCcDczMzMzMwIwBAAAAAAAAjARDMzMzMzB8B4ZmZmZmYGwKyZmZmZmQXA4MzMzMzMBMAUAAAAAAAEwEgzMzMzMwPAfGZmZmZmAsCwmZmZmZkBwOTMzMzMzADAGAAAAAAAAMCYZmZmZmb+vwDNzMzMzPy/aDMzMzMz+7/QmZmZmZn5vzgAAAAAAPi/oGZmZmZm9r8IzczMzMz0v3AzMzMzM/O/2JmZmZmZ8b9AAAAAAADwv1DNzMzMzOy/IJqZmZmZ6b/wZmZmZmbmv8AzMzMzM+O/kAAAAAAA4L/AmpmZmZnZv2A0MzMzM9O/AJyZmZmZyb+AnpmZmZm5vwAAAAAAABS9gJSZmZmZuT8Al5mZmZnJP+AxMzMzM9M/QJiZmZmZ2T+g/v/////fP4AyMzMzM+M/sGVmZmZm5j/gmJmZmZnpPxDMzMzMzOw/QP//////7z84mZmZmZnxP9AyMzMzM/M/aMzMzMzM9D8AZmZmZmb2P5j///////c/MJmZmZmZ+T/IMjMzMzP7P2DMzMzMzPw/+GVmZmZm/j+Q////////P5TMzMzMzABAYJmZmZmZAUAsZmZmZmYCQPgyMzMzMwNAxP//////A0CQzMzMzMwEQFyZmZmZmQVAKGZmZmZmBkD0MjMzMzMHQMD//////wdAjMzMzMzMCEBYmZmZmZkJQCRmZmZmZgpA8DIzMzMzC0C8//////8LQIjMzMzMzAxAVJmZmZmZDUAgZmZmZmYOQOwyMzMzMw9AuP//////D0BCZmZmZmYQQKjMzMzMzBBADjMzMzMzEUB0mZmZmZkRQNr//////xFAQGZmZmZmEkCmzMzMzMwSQAwzMzMzMxNAcpmZmZmZE0DY//////8TQA==\",\"dtype\":\"float64\",\"shape\":[101]},\"y\":{\"__ndarray__\":\"cHGR7Xz/I8AQDCuHFpkjwOCexCCwMiPAgDleuknMIsDw2/dT42UiwJB2ke18/yHAkAErhxaZIcAwnMQgsDIhwKA+XrpJzCDAQNn3U+NlIMBQ0CLb+f4fwJAFVg4tMh/A0DqJQWBlHsBAaLx0k5gdwICd76fGyxzA8Moi2/n+G8AwAFYOLTIbwHA1iUFgZRrAsGq8dJOYGcAgmO+nxssYwGDNItv5/hfAoAJWDi0yF8D4M4lBYGUWwDhpvHSTmBXAkJrvp8bLFMDQzyLb+f4TwCgBVg4tMhPAaDaJQWBlEsDAZ7x0k5gRwACd76fGyxDAsJxFtvP9D8AwB6wcWmQOwMhtEoPAygzAeNB46SYxC8AQN99PjZcJwKidRbbz/QfAQASsHFpkBsDMbBKDwMoEwGTTeOkmMQPACDjfT42XAcAQRYts5/v/v0ASWDm0yPy/fN0kBoGV+b+yqfHSTWL2v+J2vp8aL/O/JIgW2c7377+KIbByaJHpv227SQwCK+O/oKrGSzeJ2b9Vu/P91HjJv/wp79JNYlA/xXc/NV66yT+5iGzn+6nZP7iqHFpkO+M/UhGDwMqh6T/2u3STGATwP8bup8ZLN/M/kCLb+X5q9j9gVQ4tsp35PzCIQWDl0Pw/jFu6SQwCAEDo9lPjpZsBQFyO7Xw/NQNAxCeHFtnOBEAgwyCwcmgGQIhcukkMAghACPJT46WbCUBYj+18PzULQNgkhxbZzgxAQL4gsHJoDkDILd0kBgEQQIj4qfHSzRBAMMd2vp+aEUDwkUOLbGcSQJhgEFg5NBNAWCvdJAYBFEAA+qnx0s0UQMDEdr6fmhVAaJNDi2xnFkAQYhBYOTQXQNAs3SQGARhAkPep8dLNGEBQwna+n5oZQOCUQ4tsZxpAoF8QWDk0G0BgKt0kBgEcQCD1qfHSzRxA4L92vp+aHUCgikOLbGceQDBdEFg5NB9AsJ9uEoMAIEAQBdV46WYgQHBqO99PzSBAoNehRbYzIUAAPQisHJohQJCabhKDACJA8P/UeOlmIkAgbTvfT80iQIDSoUW2MyNA4DcIrByaI0BAnW4SgwAkQA==\",\"dtype\":\"float64\",\"shape\":[101]}},\"selected\":{\"id\":\"c5c37349-3c63-4fc9-a182-08c424d423ae\",\"type\":\"Selection\"},\"selection_policy\":{\"id\":\"74a8c8e2-4820-481f-be2a-0ae6776a5070\",\"type\":\"UnionRenderers\"}},\"id\":\"b38dae01-68c0-47f1-9ec8-98bcc244621d\",\"type\":\"ColumnDataSource\"},{\"attributes\":{\"active_drag\":\"auto\",\"active_inspect\":\"auto\",\"active_multi\":null,\"active_scroll\":\"auto\",\"active_tap\":\"auto\",\"tools\":[{\"id\":\"0b3ae90d-5b09-4f81-ac83-832b38494d58\",\"type\":\"PanTool\"},{\"id\":\"dce42600-afc4-413b-84c7-46834590e0d6\",\"type\":\"WheelZoomTool\"},{\"id\":\"0263ad03-3391-4f03-b0f3-7beab2954254\",\"type\":\"BoxZoomTool\"},{\"id\":\"32bf8558-fba6-4adb-82aa-c8186430aae4\",\"type\":\"SaveTool\"},{\"id\":\"019595d4-f245-44bb-aca8-40c95fd05655\",\"type\":\"ResetTool\"},{\"id\":\"feb2b4a6-aa5b-445d-9198-639fe46dfa45\",\"type\":\"HelpTool\"}]},\"id\":\"31c337b1-31ef-4c54-b2ce-412fff0622b0\",\"type\":\"Toolbar\"},{\"attributes\":{\"axis_label\":\"X\",\"formatter\":{\"id\":\"219b6827-2935-4cdc-91ab-7ce7bddf3ac7\",\"type\":\"BasicTickFormatter\"},\"plot\":{\"id\":\"51a0cb40-6bd6-43a0-a963-c6bab15e4c02\",\"subtype\":\"Figure\",\"type\":\"Plot\"},\"ticker\":{\"id\":\"abaa1c24-7b23-477b-a2ec-6ef0e248862b\",\"type\":\"BasicTicker\"}},\"id\":\"bd4e8d26-135c-462a-895f-f13ddedbb484\",\"type\":\"LinearAxis\"},{\"attributes\":{\"line_alpha\":0.2,\"line_color\":\"red\",\"line_width\":3,\"x\":{\"field\":\"x\"},\"y\":{\"field\":\"y\"}},\"id\":\"49dbb648-b67a-40f3-bf48-b208aed7964e\",\"type\":\"Line\"},{\"attributes\":{\"callback\":null,\"data\":{\"x\":{\"__ndarray__\":\"AAAAAAAAFMCamZmZmZkTwDQzMzMzMxPAzszMzMzMEsBoZmZmZmYSwAIAAAAAABLAnJmZmZmZEcA2MzMzMzMRwNDMzMzMzBDAamZmZmZmEMAEAAAAAAAQwDwzMzMzMw/AcGZmZmZmDsCkmZmZmZkNwNjMzMzMzAzADAAAAAAADMBAMzMzMzMLwHRmZmZmZgrAqJmZmZmZCcDczMzMzMwIwBAAAAAAAAjARDMzMzMzB8B4ZmZmZmYGwKyZmZmZmQXA4MzMzMzMBMAUAAAAAAAEwEgzMzMzMwPAfGZmZmZmAsCwmZmZmZkBwOTMzMzMzADAGAAAAAAAAMCYZmZmZmb+vwDNzMzMzPy/aDMzMzMz+7/QmZmZmZn5vzgAAAAAAPi/oGZmZmZm9r8IzczMzMz0v3AzMzMzM/O/2JmZmZmZ8b9AAAAAAADwv1DNzMzMzOy/IJqZmZmZ6b/wZmZmZmbmv8AzMzMzM+O/kAAAAAAA4L/AmpmZmZnZv2A0MzMzM9O/AJyZmZmZyb+AnpmZmZm5vwAAAAAAABS9gJSZmZmZuT8Al5mZmZnJP+AxMzMzM9M/QJiZmZmZ2T+g/v/////fP4AyMzMzM+M/sGVmZmZm5j/gmJmZmZnpPxDMzMzMzOw/QP//////7z84mZmZmZnxP9AyMzMzM/M/aMzMzMzM9D8AZmZmZmb2P5j///////c/MJmZmZmZ+T/IMjMzMzP7P2DMzMzMzPw/+GVmZmZm/j+Q////////P5TMzMzMzABAYJmZmZmZAUAsZmZmZmYCQPgyMzMzMwNAxP//////A0CQzMzMzMwEQFyZmZmZmQVAKGZmZmZmBkD0MjMzMzMHQMD//////wdAjMzMzMzMCEBYmZmZmZkJQCRmZmZmZgpA8DIzMzMzC0C8//////8LQIjMzMzMzAxAVJmZmZmZDUAgZmZmZmYOQOwyMzMzMw9AuP//////D0BCZmZmZmYQQKjMzMzMzBBADjMzMzMzEUB0mZmZmZkRQNr//////xFAQGZmZmZmEkCmzMzMzMwSQAwzMzMzMxNAcpmZmZmZE0DY//////8TQA==\",\"dtype\":\"float64\",\"shape\":[101]},\"y\":{\"__ndarray__\":\"AAAAAAAAIMA1MzMzMzMfwGhmZmZmZh7AnJmZmZmZHcDQzMzMzMwcwAUAAAAAABzANzMzMzMzG8BrZmZmZmYawKGZmZmZmRnA1MzMzMzMGMAIAAAAAAAYwDwzMzMzMxfAcGZmZmZmFsCkmZmZmZkVwNjMzMzMzBTADAAAAAAAFMBAMzMzMzMTwHRmZmZmZhLAqJmZmZmZEcDczMzMzMwQwBAAAAAAABDAiGZmZmZmDsDwzMzMzMwMwFgzMzMzMwvAwJmZmZmZCcAoAAAAAAAIwJBmZmZmZgbA+MzMzMzMBMBgMzMzMzMDwMiZmZmZmQHAMAAAAAAAAMAwzczMzMz8vwCamZmZmfm/0GZmZmZm9r+gMzMzMzPzv3AAAAAAAPC/gJqZmZmZ6b8gNDMzMzPjv4CbmZmZmdm/fp2ZmZmZyb8AAAAAAAAgvYCVmZmZmck/gJeZmZmZ2T8gMjMzMzPjP4CYmZmZmek/4P7/////7z+gMjMzMzPzP9BlZmZmZvY/AJmZmZmZ+T8wzMzMzMz8P2D///////8/SJmZmZmZAUDgMjMzMzMDQHjMzMzMzARAEGZmZmZmBkCo//////8HQECZmZmZmQlA2DIzMzMzC0BwzMzMzMwMQAdmZmZmZg5AoP//////D0CczMzMzMwQQGiZmZmZmRFANGZmZmZmEkAAMzMzMzMTQMz//////xNAmMzMzMzMFEBkmZmZmZkVQDBmZmZmZhZA/DIzMzMzF0DI//////8XQJTMzMzMzBhAYJmZmZmZGUAsZmZmZmYaQPgyMzMzMxtAxf//////G0CQzMzMzMwcQFyZmZmZmR1AKGZmZmZmHkD0MjMzMzMfQMD//////x9ARmZmZmZmIECszMzMzMwgQBIzMzMzMyFAeJmZmZmZIUDe//////8hQERmZmZmZiJAqszMzMzMIkAQMzMzMzMjQHaZmZmZmSNA3P//////I0BBZmZmZmYkQKfMzMzMzCRADzMzMzMzJUB1mZmZmZklQNn//////yVAP2ZmZmZmJkCmzMzMzMwmQAwzMzMzMydAcpmZmZmZJ0DY//////8nQA==\",\"dtype\":\"float64\",\"shape\":[101]}},\"selected\":{\"id\":\"6009ef54-f5a8-4621-b58e-7c61149dd304\",\"type\":\"Selection\"},\"selection_policy\":{\"id\":\"078dae44-1e0a-4acb-9a35-95c02f93ed4a\",\"type\":\"UnionRenderers\"}},\"id\":\"373b0011-6251-4216-ac7e-e0dec1778782\",\"type\":\"ColumnDataSource\"},{\"attributes\":{\"source\":{\"id\":\"de0fed0f-e76b-4440-9236-20b5fd59c6a4\",\"type\":\"ColumnDataSource\"}},\"id\":\"f6c6d26e-5779-4371-82c3-d944cfe34019\",\"type\":\"CDSView\"},{\"attributes\":{\"line_alpha\":0.1,\"line_color\":\"#1f77b4\",\"line_width\":3,\"x\":{\"field\":\"x\"},\"y\":{\"field\":\"y\"}},\"id\":\"3c0fb0be-f95c-421e-b2be-de2293e99b44\",\"type\":\"Line\"},{\"attributes\":{\"callback\":null,\"data\":{\"x\":{\"__ndarray__\":\"AAAAAAAAFMCamZmZmZkTwDQzMzMzMxPAzszMzMzMEsBoZmZmZmYSwAIAAAAAABLAnJmZmZmZEcA2MzMzMzMRwNDMzMzMzBDAamZmZmZmEMAEAAAAAAAQwDwzMzMzMw/AcGZmZmZmDsCkmZmZmZkNwNjMzMzMzAzADAAAAAAADMBAMzMzMzMLwHRmZmZmZgrAqJmZmZmZCcDczMzMzMwIwBAAAAAAAAjARDMzMzMzB8B4ZmZmZmYGwKyZmZmZmQXA4MzMzMzMBMAUAAAAAAAEwEgzMzMzMwPAfGZmZmZmAsCwmZmZmZkBwOTMzMzMzADAGAAAAAAAAMCYZmZmZmb+vwDNzMzMzPy/aDMzMzMz+7/QmZmZmZn5vzgAAAAAAPi/oGZmZmZm9r8IzczMzMz0v3AzMzMzM/O/2JmZmZmZ8b9AAAAAAADwv1DNzMzMzOy/IJqZmZmZ6b/wZmZmZmbmv8AzMzMzM+O/kAAAAAAA4L/AmpmZmZnZv2A0MzMzM9O/AJyZmZmZyb+AnpmZmZm5vwAAAAAAABS9gJSZmZmZuT8Al5mZmZnJP+AxMzMzM9M/QJiZmZmZ2T+g/v/////fP4AyMzMzM+M/sGVmZmZm5j/gmJmZmZnpPxDMzMzMzOw/QP//////7z84mZmZmZnxP9AyMzMzM/M/aMzMzMzM9D8AZmZmZmb2P5j///////c/MJmZmZmZ+T/IMjMzMzP7P2DMzMzMzPw/+GVmZmZm/j+Q////////P5TMzMzMzABAYJmZmZmZAUAsZmZmZmYCQPgyMzMzMwNAxP//////A0CQzMzMzMwEQFyZmZmZmQVAKGZmZmZmBkD0MjMzMzMHQMD//////wdAjMzMzMzMCEBYmZmZmZkJQCRmZmZmZgpA8DIzMzMzC0C8//////8LQIjMzMzMzAxAVJmZmZmZDUAgZmZmZmYOQOwyMzMzMw9AuP//////D0BCZmZmZmYQQKjMzMzMzBBADjMzMzMzEUB0mZmZmZkRQNr//////xFAQGZmZmZmEkCmzMzMzMwSQAwzMzMzMxNAcpmZmZmZE0DY//////8TQA==\",\"dtype\":\"float64\",\"shape\":[101]},\"y\":{\"__ndarray__\":\"AAAAAAAAOUDE9ShcjwI4QAzXo3A9CjdA2qNwPQoXNkAtXI/C9Sg1QAUAAAAAQDRAYY/C9ShcM0BDCtejcH0yQKtwPQrXozFAl8L1KFzPMEAIAAAAAAAwQP1RuB6Fay5A9HoUrkfhLED1ehSuR2ErQABSuB6F6ylAFQAAAACAKEA0hetRuB4nQF7hehSuxyVAkhSuR+F6JEDQHoXrUTgjQBgAAAAAACJAargehevRIECNj8L1KFwfQFtcj8L1KB1APNejcD0KG0AyAAAAAAAZQDzXo3A9ChdAW1yPwvUoFUCNj8L1KFwTQNVwPQrXoxFAMAAAAAAAEEBAexSuR+EMQEhSuB6F6wlAeIXrUbgeB0DSFK5H4XoEQFQAAAAAAAJA/Y/C9Shc/z+k16NwPQr7P5zXo3A9Cvc/5Y/C9Shc8z+AAAAAAADwP9hSuB6F6+k/UhWuR+F65D/dkML1KFzfP1zYo3A9Ctc/IAEAAAAA0D9SFq5H4XrEP9zZo3A9Crc/UhiuR+F6pD9SHK5H4XqEPwAAAAAAADk6UgyuR+F6hD9SEK5H4XqkP9zTo3A9Crc/UhKuR+F6xD9A/f/////PP1zVo3A9Ctc/XY3C9Shc3z9SE65H4XrkP5hQuB6F6+k/gP7/////7z+FjsL1KFzzPxzWo3A9Cvc/BNajcD0K+z89jsL1KFz/P2T//////wFA0hOuR+F6BEBohOtRuB4HQChRuB6F6wlAEHoUrkfhDEAg//////8PQC1wPQrXoxFA3Y7C9ShcE0CjW4/C9SgVQHzWo3A9ChdAav//////GEBs1qNwPQobQINbj8L1KB1ArY7C9ShcH0D2tx6F69EgQKD//////yFAVB6F61E4I0ASFK5H4XokQNrgehSuxyVArITrUbgeJ0CJ/////38oQHBRuB6F6ylAYXoUrkdhK0BcehSuR+EsQGFRuB6Fay5AcP//////L0BFwvUoXM8wQFdwPQrXozFA7QnXo3B9MkAJj8L1KFwzQKv/////PzRA0VuPwvUoNUB8o3A9Chc2QKzWo3A9CjdAYvUoXI8COECc//////84QA==\",\"dtype\":\"float64\",\"shape\":[101]}},\"selected\":{\"id\":\"bd854a68-f0db-4ec5-bc77-32d21dea4fbc\",\"type\":\"Selection\"},\"selection_policy\":{\"id\":\"583534d4-cdfa-4e4f-9355-b3d90f560f75\",\"type\":\"UnionRenderers\"}},\"id\":\"fba5faa0-9f40-4850-a004-33d0efbe2d74\",\"type\":\"ColumnDataSource\"},{\"attributes\":{},\"id\":\"e56b7345-81cc-4161-9495-f621aaa9884e\",\"type\":\"UnionRenderers\"},{\"attributes\":{},\"id\":\"6009ef54-f5a8-4621-b58e-7c61149dd304\",\"type\":\"Selection\"},{\"attributes\":{\"below\":[{\"id\":\"bd4e8d26-135c-462a-895f-f13ddedbb484\",\"type\":\"LinearAxis\"}],\"left\":[{\"id\":\"840fc981-91a8-4a53-a277-86f6115f3784\",\"type\":\"LinearAxis\"}],\"plot_height\":500,\"plot_width\":950,\"renderers\":[{\"id\":\"bd4e8d26-135c-462a-895f-f13ddedbb484\",\"type\":\"LinearAxis\"},{\"id\":\"a3a8909d-6a57-4a37-9693-024ea99dbe42\",\"type\":\"Grid\"},{\"id\":\"840fc981-91a8-4a53-a277-86f6115f3784\",\"type\":\"LinearAxis\"},{\"id\":\"f1de57d0-fd9e-4b94-9aa5-0ea1cc4e7465\",\"type\":\"Grid\"},{\"id\":\"01522ca6-b837-45a7-b0cc-69929cacc8db\",\"type\":\"BoxAnnotation\"},{\"id\":\"d46280dc-4907-4d12-810d-3d6646a5f015\",\"type\":\"GlyphRenderer\"},{\"id\":\"b1560b0c-7f5f-44d9-9893-1c6fc57db663\",\"type\":\"GlyphRenderer\"},{\"id\":\"84a90ca7-4be3-45b0-bf46-16277fdef850\",\"type\":\"GlyphRenderer\"},{\"id\":\"dc6d5764-42c4-4a2c-9214-dfdf66b23a3f\",\"type\":\"GlyphRenderer\"},{\"id\":\"58b725d2-f7aa-405f-aca6-4606a113ffa2\",\"type\":\"GlyphRenderer\"},{\"id\":\"5149dcf6-3d65-48ce-853b-933f2c637934\",\"type\":\"GlyphRenderer\"},{\"id\":\"f8bb73c8-6ae6-4467-81af-4fec95a46c80\",\"type\":\"GlyphRenderer\"},{\"id\":\"0ef9ba12-fb87-4d8d-8570-b62bbdd9f778\",\"type\":\"GlyphRenderer\"}],\"title\":{\"id\":\"b618fb4d-9893-4cb8-a62a-1a445e0b7aa7\",\"type\":\"Title\"},\"toolbar\":{\"id\":\"31c337b1-31ef-4c54-b2ce-412fff0622b0\",\"type\":\"Toolbar\"},\"toolbar_location\":\"below\",\"x_range\":{\"id\":\"9e4ea4b9-5445-455f-a460-c0ed6a4b726b\",\"type\":\"DataRange1d\"},\"x_scale\":{\"id\":\"6b0409d5-3305-4bea-a585-8f0de9d9431b\",\"type\":\"LinearScale\"},\"y_range\":{\"id\":\"5340d670-3022-4c8b-9bd2-cf7744156eee\",\"type\":\"DataRange1d\"},\"y_scale\":{\"id\":\"c767e623-20fb-4cd7-8aa6-f889dfc05228\",\"type\":\"LinearScale\"}},\"id\":\"51a0cb40-6bd6-43a0-a963-c6bab15e4c02\",\"subtype\":\"Figure\",\"type\":\"Plot\"}],\"root_ids\":[\"51a0cb40-6bd6-43a0-a963-c6bab15e4c02\"]},\"title\":\"Bokeh Application\",\"version\":\"0.13.0\"}};\n",
       "  var render_items = [{\"docid\":\"c181250b-a943-4eb9-b02e-e719d56f953c\",\"roots\":{\"51a0cb40-6bd6-43a0-a963-c6bab15e4c02\":\"dd4c4b0b-c5dd-4ca4-9670-3986947cbe96\"}}];\n",
       "  root.Bokeh.embed.embed_items_notebook(docs_json, render_items);\n",
       "\n",
       "  }\n",
       "  if (root.Bokeh !== undefined) {\n",
       "    embed_document(root);\n",
       "  } else {\n",
       "    var attempts = 0;\n",
       "    var timer = setInterval(function(root) {\n",
       "      if (root.Bokeh !== undefined) {\n",
       "        embed_document(root);\n",
       "        clearInterval(timer);\n",
       "      }\n",
       "      attempts++;\n",
       "      if (attempts > 100) {\n",
       "        console.log(\"Bokeh: ERROR: Unable to run BokehJS code because BokehJS library is missing\")\n",
       "        clearInterval(timer);\n",
       "      }\n",
       "    }, 10, root)\n",
       "  }\n",
       "})(window);"
      ],
      "application/vnd.bokehjs_exec.v0+json": ""
     },
     "metadata": {
      "application/vnd.bokehjs_exec.v0+json": {
       "id": "51a0cb40-6bd6-43a0-a963-c6bab15e4c02"
      }
     },
     "output_type": "display_data"
    }
   ],
   "source": [
    "for i in [4,2,1,.5,.01,.001,.00001]:\n",
    "    p.line(x,change(x,nudge=i),color=\"red\",line_width=3,alpha=.2)\n",
    "show(p)"
   ]
  },
  {
   "cell_type": "markdown",
   "metadata": {},
   "source": [
    "This idea of making our nudges smaller and smaller is the known as taking something to it's **limit**. That is, as we approach 0 (i.e. as our changes get smaller and smaller), we get a closer and closer approximation of the rate of change at a given points. "
   ]
  },
  {
   "cell_type": "markdown",
   "metadata": {},
   "source": [
    "$$ \\frac{f(x_1+.00001) - f(x_1)}{.00001} $$\n",
    "\n",
    "$$ \\frac{f(x_1+.00000000001) - f(x_1)}{.00000000001} $$\n",
    "\n",
    "$$ \\lim_{h \\to 0} \\frac{f(x_1+h) - f(x_1)}{h} = \\frac{d y}{d x} = f'(x) $$\n",
    "\n",
    "\n",
    "Ultimately we converge on the \"**Instantaneous rate of change**\": the rate of change at a specific point."
   ]
  },
  {
   "cell_type": "markdown",
   "metadata": {},
   "source": [
    "### Calculating the derivative"
   ]
  },
  {
   "cell_type": "markdown",
   "metadata": {},
   "source": [
    "<br>\n",
    "<br>\n",
    "\n",
    "$$  \\lim_{h \\to 0} \\frac{g(x+h) - g(x)}{h} $$\n",
    "\n",
    "<br>\n",
    "<br>\n",
    "\n",
    "$$  \\lim_{h \\to 0} \\frac{ (x+h)^2 -  x^2}{h} $$\n",
    "\n",
    "<br>\n",
    "<br>\n",
    "\n",
    "$$  \\lim_{h \\to 0} \\frac{ x^2 + 2hx + h^2 -  x^2}{h} $$\n",
    "\n",
    "<br>\n",
    "<br>\n",
    "\n",
    "$$  \\lim_{h \\to 0} \\frac{ 2hx + h^2 }{h} $$\n",
    "\n",
    "<br>\n",
    "<br>\n",
    "\n",
    "$$  \\lim_{h \\to 0}  2x + h  $$\n",
    "\n",
    "<br>\n",
    "<br>\n",
    "\n",
    "$$  g'(x) = 2x  $$\n",
    "\n",
    "<br>\n",
    "<br>"
   ]
  },
  {
   "cell_type": "code",
   "execution_count": 16,
   "metadata": {},
   "outputs": [],
   "source": [
    "def g1(x):\n",
    "    return 2*x"
   ]
  },
  {
   "cell_type": "code",
   "execution_count": 17,
   "metadata": {},
   "outputs": [
    {
     "data": {
      "text/html": [
       "\n",
       "\n",
       "\n",
       "\n",
       "\n",
       "\n",
       "  <div class=\"bk-root\" id=\"2ba2e093-b259-4895-9e97-75b99fa928ea\"></div>\n"
      ]
     },
     "metadata": {},
     "output_type": "display_data"
    },
    {
     "data": {
      "application/javascript": [
       "(function(root) {\n",
       "  function embed_document(root) {\n",
       "    \n",
       "  var docs_json = {\"4da03d59-26a1-495b-912f-4b2aa333dbae\":{\"roots\":{\"references\":[{\"attributes\":{\"line_alpha\":0.1,\"line_color\":\"#1f77b4\",\"line_width\":3,\"x\":{\"field\":\"x\"},\"y\":{\"field\":\"y\"}},\"id\":\"8faf4d68-97b1-4955-88a1-110dbf96124c\",\"type\":\"Line\"},{\"attributes\":{},\"id\":\"c5825aa9-152a-4a86-ae10-2af45164351d\",\"type\":\"Selection\"},{\"attributes\":{\"line_alpha\":0.2,\"line_color\":\"red\",\"line_width\":3,\"x\":{\"field\":\"x\"},\"y\":{\"field\":\"y\"}},\"id\":\"c6f1a125-0aa9-4196-b46d-7b6522665e8f\",\"type\":\"Line\"},{\"attributes\":{},\"id\":\"219b6827-2935-4cdc-91ab-7ce7bddf3ac7\",\"type\":\"BasicTickFormatter\"},{\"attributes\":{\"callback\":null,\"data\":{\"x\":{\"__ndarray__\":\"AAAAAAAAFMCamZmZmZkTwDQzMzMzMxPAzszMzMzMEsBoZmZmZmYSwAIAAAAAABLAnJmZmZmZEcA2MzMzMzMRwNDMzMzMzBDAamZmZmZmEMAEAAAAAAAQwDwzMzMzMw/AcGZmZmZmDsCkmZmZmZkNwNjMzMzMzAzADAAAAAAADMBAMzMzMzMLwHRmZmZmZgrAqJmZmZmZCcDczMzMzMwIwBAAAAAAAAjARDMzMzMzB8B4ZmZmZmYGwKyZmZmZmQXA4MzMzMzMBMAUAAAAAAAEwEgzMzMzMwPAfGZmZmZmAsCwmZmZmZkBwOTMzMzMzADAGAAAAAAAAMCYZmZmZmb+vwDNzMzMzPy/aDMzMzMz+7/QmZmZmZn5vzgAAAAAAPi/oGZmZmZm9r8IzczMzMz0v3AzMzMzM/O/2JmZmZmZ8b9AAAAAAADwv1DNzMzMzOy/IJqZmZmZ6b/wZmZmZmbmv8AzMzMzM+O/kAAAAAAA4L/AmpmZmZnZv2A0MzMzM9O/AJyZmZmZyb+AnpmZmZm5vwAAAAAAABS9gJSZmZmZuT8Al5mZmZnJP+AxMzMzM9M/QJiZmZmZ2T+g/v/////fP4AyMzMzM+M/sGVmZmZm5j/gmJmZmZnpPxDMzMzMzOw/QP//////7z84mZmZmZnxP9AyMzMzM/M/aMzMzMzM9D8AZmZmZmb2P5j///////c/MJmZmZmZ+T/IMjMzMzP7P2DMzMzMzPw/+GVmZmZm/j+Q////////P5TMzMzMzABAYJmZmZmZAUAsZmZmZmYCQPgyMzMzMwNAxP//////A0CQzMzMzMwEQFyZmZmZmQVAKGZmZmZmBkD0MjMzMzMHQMD//////wdAjMzMzMzMCEBYmZmZmZkJQCRmZmZmZgpA8DIzMzMzC0C8//////8LQIjMzMzMzAxAVJmZmZmZDUAgZmZmZmYOQOwyMzMzMw9AuP//////D0BCZmZmZmYQQKjMzMzMzBBADjMzMzMzEUB0mZmZmZkRQNr//////xFAQGZmZmZmEkCmzMzMzMwSQAwzMzMzMxNAcpmZmZmZE0DY//////8TQA==\",\"dtype\":\"float64\",\"shape\":[101]},\"y\":{\"__ndarray__\":\"EBSuR+H6I8DorUfhepQjwPhG4XoULiPA0OB6FK7HIsCoehSuR2EiwIAUrkfh+iHAkK1H4XqUIcCgRuF6FC4hwEDhehSuxyDAGHsUrkdhIMBQKFyPwvUfwABcj8L1KB/A6I7C9ShcHsCYwvUoXI8dwID1KFyPwhzAaChcj8L1G8BQW4/C9SgbwACPwvUoXBrA6MH1KFyPGcCY9Shcj8IYwIAoXI/C9RfAaFuPwvUoF8C0jsL1KFwWwGTC9ShcjxXATPUoXI/CFMCYKFyPwvUTwORbj8L1KBPAMI/C9ShcEsAYwvUoXI8RwMj1KFyPwhDAKFK4HoXrD8DAuB6F61EOwPQehetRuAzAKIXrUbgeC8DA61G4HoUJwFhSuB6F6wfAjLgehetRBsDyHoXrUbgEwFiF61G4HgPAvutRuB6FAcBIpHA9Ctf/v0ZxPQrXo/y/Ej4K16Nw+b/FCtejcD32v5HXo3A9CvO/00jhehSu779r4noUrkfpvw98FK5H4eK/aCtcj8L12L82vR6F61HIv3vErUfheoQ/xXUUrkfhyj+mB9ejcD3aPzvqUbgeheM/ilC4HoXr6T95W4/C9SjwP62OwvUoXPM/4cH1KFyP9j/89Chcj8L5PzAoXI/C9fw/sq1H4XoUAEB+R+F6FK4BQObgehSuRwNAgHoUrkfhBEAaFK5H4XoGQLStR+F6FAhAHEfhehSuCUDo4HoUrkcLQFB6FK5H4QxAuBOuR+F6DkCQ1qNwPQoQQOCicD0K1xBAXHA9CtejEUCsPArXo3ASQMQJ16NwPRNAeNajcD0KFEAso3A9CtcUQOBvPQrXoxVA+DwK16NwFkBICdejcD0XQGDWo3A9ChhAsKJwPQrXGEDIbz0K16MZQOA8CtejcBpA+AnXo3A9G0BI1qNwPQocQJiicD0K1xxAsG89CtejHUAAPArXo3AeQBgJ16NwPR9AGOtRuB4FIEBAUbgehWsgQGi3HoXr0SBAWB6F61E4IUBIhetRuJ4hQKjqUbgeBSJA0FC4HoVrIkDAtx6F69EiQOgdhetROCNAEITrUbieI0AA61G4HgUkQA==\",\"dtype\":\"float64\",\"shape\":[101]}},\"selected\":{\"id\":\"dcf89057-decd-4b13-ac75-60696de9d909\",\"type\":\"Selection\"},\"selection_policy\":{\"id\":\"de271c76-4b69-46f1-adc4-81a278332606\",\"type\":\"UnionRenderers\"}},\"id\":\"8d8bd01a-bd3b-4913-91cd-3a27d7e9ba68\",\"type\":\"ColumnDataSource\"},{\"attributes\":{},\"id\":\"0b3ae90d-5b09-4f81-ac83-832b38494d58\",\"type\":\"PanTool\"},{\"attributes\":{},\"id\":\"dce42600-afc4-413b-84c7-46834590e0d6\",\"type\":\"WheelZoomTool\"},{\"attributes\":{},\"id\":\"556e858b-2968-464c-b149-1a1b9fdbb26c\",\"type\":\"Selection\"},{\"attributes\":{\"overlay\":{\"id\":\"01522ca6-b837-45a7-b0cc-69929cacc8db\",\"type\":\"BoxAnnotation\"}},\"id\":\"0263ad03-3391-4f03-b0f3-7beab2954254\",\"type\":\"BoxZoomTool\"},{\"attributes\":{},\"id\":\"019595d4-f245-44bb-aca8-40c95fd05655\",\"type\":\"ResetTool\"},{\"attributes\":{},\"id\":\"32bf8558-fba6-4adb-82aa-c8186430aae4\",\"type\":\"SaveTool\"},{\"attributes\":{},\"id\":\"6f6618f0-e7a3-45f2-83c6-a72d4491ecb7\",\"type\":\"BasicTicker\"},{\"attributes\":{\"dimension\":1,\"plot\":{\"id\":\"51a0cb40-6bd6-43a0-a963-c6bab15e4c02\",\"subtype\":\"Figure\",\"type\":\"Plot\"},\"ticker\":{\"id\":\"6f6618f0-e7a3-45f2-83c6-a72d4491ecb7\",\"type\":\"BasicTicker\"}},\"id\":\"f1de57d0-fd9e-4b94-9aa5-0ea1cc4e7465\",\"type\":\"Grid\"},{\"attributes\":{\"axis_label\":\"f(X)\",\"formatter\":{\"id\":\"45cef452-efc6-49e8-b2ef-4b6f94c66afd\",\"type\":\"BasicTickFormatter\"},\"plot\":{\"id\":\"51a0cb40-6bd6-43a0-a963-c6bab15e4c02\",\"subtype\":\"Figure\",\"type\":\"Plot\"},\"ticker\":{\"id\":\"6f6618f0-e7a3-45f2-83c6-a72d4491ecb7\",\"type\":\"BasicTicker\"}},\"id\":\"840fc981-91a8-4a53-a277-86f6115f3784\",\"type\":\"LinearAxis\"},{\"attributes\":{},\"id\":\"990e2603-9f32-47b3-b362-547f514eb002\",\"type\":\"Selection\"},{\"attributes\":{\"plot\":{\"id\":\"51a0cb40-6bd6-43a0-a963-c6bab15e4c02\",\"subtype\":\"Figure\",\"type\":\"Plot\"},\"ticker\":{\"id\":\"abaa1c24-7b23-477b-a2ec-6ef0e248862b\",\"type\":\"BasicTicker\"}},\"id\":\"a3a8909d-6a57-4a37-9693-024ea99dbe42\",\"type\":\"Grid\"},{\"attributes\":{\"data_source\":{\"id\":\"fba5faa0-9f40-4850-a004-33d0efbe2d74\",\"type\":\"ColumnDataSource\"},\"glyph\":{\"id\":\"fc06cd79-10b4-47fa-9b69-f04a35baeff7\",\"type\":\"Line\"},\"hover_glyph\":null,\"muted_glyph\":null,\"nonselection_glyph\":{\"id\":\"8faf4d68-97b1-4955-88a1-110dbf96124c\",\"type\":\"Line\"},\"selection_glyph\":null,\"view\":{\"id\":\"9087a394-50d8-43d5-b61e-0095d0c74ba4\",\"type\":\"CDSView\"}},\"id\":\"d46280dc-4907-4d12-810d-3d6646a5f015\",\"type\":\"GlyphRenderer\"},{\"attributes\":{\"source\":{\"id\":\"fba5faa0-9f40-4850-a004-33d0efbe2d74\",\"type\":\"ColumnDataSource\"}},\"id\":\"9087a394-50d8-43d5-b61e-0095d0c74ba4\",\"type\":\"CDSView\"},{\"attributes\":{},\"id\":\"aaf00c0a-2fcb-46d1-8d17-017702dec754\",\"type\":\"Selection\"},{\"attributes\":{},\"id\":\"feb2b4a6-aa5b-445d-9198-639fe46dfa45\",\"type\":\"HelpTool\"},{\"attributes\":{\"line_alpha\":0.2,\"line_color\":\"red\",\"line_width\":3,\"x\":{\"field\":\"x\"},\"y\":{\"field\":\"y\"}},\"id\":\"f4cdcdb0-61f2-498d-8e24-5d4afa6fb744\",\"type\":\"Line\"},{\"attributes\":{\"bottom_units\":\"screen\",\"fill_alpha\":{\"value\":0.5},\"fill_color\":{\"value\":\"lightgrey\"},\"left_units\":\"screen\",\"level\":\"overlay\",\"line_alpha\":{\"value\":1.0},\"line_color\":{\"value\":\"black\"},\"line_dash\":[4,4],\"line_width\":{\"value\":2},\"plot\":null,\"render_mode\":\"css\",\"right_units\":\"screen\",\"top_units\":\"screen\"},\"id\":\"01522ca6-b837-45a7-b0cc-69929cacc8db\",\"type\":\"BoxAnnotation\"},{\"attributes\":{\"callback\":null},\"id\":\"9e4ea4b9-5445-455f-a460-c0ed6a4b726b\",\"type\":\"DataRange1d\"},{\"attributes\":{\"source\":{\"id\":\"8d8bd01a-bd3b-4913-91cd-3a27d7e9ba68\",\"type\":\"ColumnDataSource\"}},\"id\":\"f8951940-70cb-4c5c-ba87-c0e17d4a04f9\",\"type\":\"CDSView\"},{\"attributes\":{},\"id\":\"bd854a68-f0db-4ec5-bc77-32d21dea4fbc\",\"type\":\"Selection\"},{\"attributes\":{},\"id\":\"de271c76-4b69-46f1-adc4-81a278332606\",\"type\":\"UnionRenderers\"},{\"attributes\":{},\"id\":\"45cef452-efc6-49e8-b2ef-4b6f94c66afd\",\"type\":\"BasicTickFormatter\"},{\"attributes\":{},\"id\":\"dcf89057-decd-4b13-ac75-60696de9d909\",\"type\":\"Selection\"},{\"attributes\":{},\"id\":\"388e0335-3b47-445f-955a-ea3adbac8907\",\"type\":\"UnionRenderers\"},{\"attributes\":{},\"id\":\"74a8c8e2-4820-481f-be2a-0ae6776a5070\",\"type\":\"UnionRenderers\"},{\"attributes\":{},\"id\":\"583534d4-cdfa-4e4f-9355-b3d90f560f75\",\"type\":\"UnionRenderers\"},{\"attributes\":{\"callback\":null,\"data\":{\"x\":{\"__ndarray__\":\"AAAAAAAAFMCamZmZmZkTwDQzMzMzMxPAzszMzMzMEsBoZmZmZmYSwAIAAAAAABLAnJmZmZmZEcA2MzMzMzMRwNDMzMzMzBDAamZmZmZmEMAEAAAAAAAQwDwzMzMzMw/AcGZmZmZmDsCkmZmZmZkNwNjMzMzMzAzADAAAAAAADMBAMzMzMzMLwHRmZmZmZgrAqJmZmZmZCcDczMzMzMwIwBAAAAAAAAjARDMzMzMzB8B4ZmZmZmYGwKyZmZmZmQXA4MzMzMzMBMAUAAAAAAAEwEgzMzMzMwPAfGZmZmZmAsCwmZmZmZkBwOTMzMzMzADAGAAAAAAAAMCYZmZmZmb+vwDNzMzMzPy/aDMzMzMz+7/QmZmZmZn5vzgAAAAAAPi/oGZmZmZm9r8IzczMzMz0v3AzMzMzM/O/2JmZmZmZ8b9AAAAAAADwv1DNzMzMzOy/IJqZmZmZ6b/wZmZmZmbmv8AzMzMzM+O/kAAAAAAA4L/AmpmZmZnZv2A0MzMzM9O/AJyZmZmZyb+AnpmZmZm5vwAAAAAAABS9gJSZmZmZuT8Al5mZmZnJP+AxMzMzM9M/QJiZmZmZ2T+g/v/////fP4AyMzMzM+M/sGVmZmZm5j/gmJmZmZnpPxDMzMzMzOw/QP//////7z84mZmZmZnxP9AyMzMzM/M/aMzMzMzM9D8AZmZmZmb2P5j///////c/MJmZmZmZ+T/IMjMzMzP7P2DMzMzMzPw/+GVmZmZm/j+Q////////P5TMzMzMzABAYJmZmZmZAUAsZmZmZmYCQPgyMzMzMwNAxP//////A0CQzMzMzMwEQFyZmZmZmQVAKGZmZmZmBkD0MjMzMzMHQMD//////wdAjMzMzMzMCEBYmZmZmZkJQCRmZmZmZgpA8DIzMzMzC0C8//////8LQIjMzMzMzAxAVJmZmZmZDUAgZmZmZmYOQOwyMzMzMw9AuP//////D0BCZmZmZmYQQKjMzMzMzBBADjMzMzMzEUB0mZmZmZkRQNr//////xFAQGZmZmZmEkCmzMzMzMwSQAwzMzMzMxNAcpmZmZmZE0DY//////8TQA==\",\"dtype\":\"float64\",\"shape\":[101]},\"y\":{\"__ndarray__\":\"AAAAAAAAI8CcmZmZmZkiwDQzMzMzMyLA0MzMzMzMIcBoZmZmZmYhwAQAAAAAACHAmpmZmZmZIMA0MzMzMzMgwKSZmZmZmR/A2MzMzMzMHsAIAAAAAAAewDwzMzMzMx3AcGZmZmZmHMCkmZmZmZkbwNjMzMzMzBrADAAAAAAAGsBAMzMzMzMZwHRmZmZmZhjAqJmZmZmZF8DczMzMzMwWwBAAAAAAABbAQjMzMzMzFcB4ZmZmZmYUwKyZmZmZmRPA4MzMzMzMEsAUAAAAAAASwEgzMzMzMxHAfWZmZmZmEMBeMzMzMzMPwMqZmZmZmQ3AMAAAAAAADMCZZmZmZmYKwAHNzMzMzAjAZzMzMzMzB8DQmZmZmZkFwDgAAAAAAATAoGZmZmZmAsAIzczMzMwAwOBmZmZmZv6/rzMzMzMz+7+AAAAAAAD4v1DNzMzMzPS/IJqZmZmZ8b/gzczMzMzsv4BnZmZmZua/IAEAAAAA4L+ANTMzMzPTvwCjmZmZmbm/AJCZmZmZuT/AMDMzMzPTP4D9/////98/IGVmZmZm5j+Ay8zMzMzsP/CYmZmZmfE/IMzMzMzM9D9Q///////3P4AyMzMzM/s/sGVmZmZm/j9wzMzMzMwAQAhmZmZmZgJAoP//////A0A5mZmZmZkFQNAyMzMzMwdAaMzMzMzMCEABZmZmZmYKQJj//////wtAMJmZmZmZDUDIMjMzMzMPQDBmZmZmZhBA/DIzMzMzEUDI//////8RQJTMzMzMzBJAYJmZmZmZE0AsZmZmZmYUQPgyMzMzMxVAxP//////FUCQzMzMzMwWQFqZmZmZmRdAKmZmZmZmGED0MjMzMzMZQMD//////xlAjMzMzMzMGkBYmZmZmZkbQCRmZmZmZhxA8DIzMzMzHUC8//////8dQIjMzMzMzB5AVJmZmZmZH0AQMzMzMzMgQHaZmZmZmSBA3P//////IEBAZmZmZmYhQKjMzMzMzCFAEDMzMzMzIkB0mZmZmZkiQNj//////yJAQGZmZmZmI0CkzMzMzMwjQAwzMzMzMyRAcJmZmZmZJEDY//////8kQA==\",\"dtype\":\"float64\",\"shape\":[101]}},\"selected\":{\"id\":\"990e2603-9f32-47b3-b362-547f514eb002\",\"type\":\"Selection\"},\"selection_policy\":{\"id\":\"0dbeebbf-5eec-44a9-8cd9-4d0c4ed778fe\",\"type\":\"UnionRenderers\"}},\"id\":\"916e8da5-9afd-4fc0-8ddf-f612e468b573\",\"type\":\"ColumnDataSource\"},{\"attributes\":{\"data_source\":{\"id\":\"8d8bd01a-bd3b-4913-91cd-3a27d7e9ba68\",\"type\":\"ColumnDataSource\"},\"glyph\":{\"id\":\"f4cdcdb0-61f2-498d-8e24-5d4afa6fb744\",\"type\":\"Line\"},\"hover_glyph\":null,\"muted_glyph\":null,\"nonselection_glyph\":{\"id\":\"ef699ea6-265d-414c-ae6c-07ad6e40d48c\",\"type\":\"Line\"},\"selection_glyph\":null,\"view\":{\"id\":\"f8951940-70cb-4c5c-ba87-c0e17d4a04f9\",\"type\":\"CDSView\"}},\"id\":\"5149dcf6-3d65-48ce-853b-933f2c637934\",\"type\":\"GlyphRenderer\"},{\"attributes\":{},\"id\":\"0dbeebbf-5eec-44a9-8cd9-4d0c4ed778fe\",\"type\":\"UnionRenderers\"},{\"attributes\":{\"line_alpha\":0.1,\"line_color\":\"#1f77b4\",\"line_width\":3,\"x\":{\"field\":\"x\"},\"y\":{\"field\":\"y\"}},\"id\":\"ef699ea6-265d-414c-ae6c-07ad6e40d48c\",\"type\":\"Line\"},{\"attributes\":{\"callback\":null,\"data\":{\"x\":{\"__ndarray__\":\"AAAAAAAAFMCamZmZmZkTwDQzMzMzMxPAzszMzMzMEsBoZmZmZmYSwAIAAAAAABLAnJmZmZmZEcA2MzMzMzMRwNDMzMzMzBDAamZmZmZmEMAEAAAAAAAQwDwzMzMzMw/AcGZmZmZmDsCkmZmZmZkNwNjMzMzMzAzADAAAAAAADMBAMzMzMzMLwHRmZmZmZgrAqJmZmZmZCcDczMzMzMwIwBAAAAAAAAjARDMzMzMzB8B4ZmZmZmYGwKyZmZmZmQXA4MzMzMzMBMAUAAAAAAAEwEgzMzMzMwPAfGZmZmZmAsCwmZmZmZkBwOTMzMzMzADAGAAAAAAAAMCYZmZmZmb+vwDNzMzMzPy/aDMzMzMz+7/QmZmZmZn5vzgAAAAAAPi/oGZmZmZm9r8IzczMzMz0v3AzMzMzM/O/2JmZmZmZ8b9AAAAAAADwv1DNzMzMzOy/IJqZmZmZ6b/wZmZmZmbmv8AzMzMzM+O/kAAAAAAA4L/AmpmZmZnZv2A0MzMzM9O/AJyZmZmZyb+AnpmZmZm5vwAAAAAAABS9gJSZmZmZuT8Al5mZmZnJP+AxMzMzM9M/QJiZmZmZ2T+g/v/////fP4AyMzMzM+M/sGVmZmZm5j/gmJmZmZnpPxDMzMzMzOw/QP//////7z84mZmZmZnxP9AyMzMzM/M/aMzMzMzM9D8AZmZmZmb2P5j///////c/MJmZmZmZ+T/IMjMzMzP7P2DMzMzMzPw/+GVmZmZm/j+Q////////P5TMzMzMzABAYJmZmZmZAUAsZmZmZmYCQPgyMzMzMwNAxP//////A0CQzMzMzMwEQFyZmZmZmQVAKGZmZmZmBkD0MjMzMzMHQMD//////wdAjMzMzMzMCEBYmZmZmZkJQCRmZmZmZgpA8DIzMzMzC0C8//////8LQIjMzMzMzAxAVJmZmZmZDUAgZmZmZmYOQOwyMzMzMw9AuP//////D0BCZmZmZmYQQKjMzMzMzBBADjMzMzMzEUB0mZmZmZkRQNr//////xFAQGZmZmZmEkCmzMzMzMwSQAwzMzMzMxNAcpmZmZmZE0DY//////8TQA==\",\"dtype\":\"float64\",\"shape\":[101]},\"y\":{\"__ndarray__\":\"wOtysP7/I8CAzg1KmJkjwACkpeMxMyPAgHk9fcvMIsBAXNgWZWYiwAA/c7D+/yHAgBQLSpiZIcAA6qLjMTMhwADaQH3LzCDAgK/YFmVmIMC/Mepg/f8fwP/pHJQwMx/Af69Sx2NmHsC/Z4X6lpkdwP8fuC3KzBzAP9jqYP3/G8A/gxqUMDMbwL9IUMdjZhrA/wCD+paZGcA/ubUtyswYwL9+62D9/xfAvykblDAzF8CfaE/HY2YWwICng/qWmRXAwF+2LcrMFMCgnupg/f8TwOBWHZQwMxPAIA9Qx2NmEsBgx4L6lpkRwEAGty3KzBDA/3zTwfr/D8AfdDooYWYOwD9roY7HzAzAH1UF9S0zC8A/TGxblJkJwF9D08H6/wfAL3c5KGFmBsAAq5+Ox8wEwNDeBfUtMwPAoBJsW5SZAcDfjKSD9f//v8+3cVDCzPy/bx8+HY+Z+b+36ArqW2b2v6gT2LYoM/O/L31KB+v/77+/D+SghJnpv1CifToeM+O/k5ouqG+Z2b/9ZsO2RZnJv/Foo4e1+OQ+2aJvfO2ZyT/r0ASLw5nZP1Du6CtIM+M/v1tPkq6Z6T/wglp8CgDwP6i5ja89M/M/X/DA4nBm9j9vxfMVpJn5P3+aJknXzPw/wNwtPgUAAEDwqMfXnpkBQCB1YXE4MwNAUEH7CtLMBEB/DZWka2YGQF8WLj4FAAhAPx/H156ZCUC/rmFxODMLQJ+3+grSzAxAf8CTpGtmDkAAKBefAgAQQCDp4mvPzBBAgLexOJyZEUCgeH0FaWYSQGDAStI1MxNAgIEWnwIAFEBAyeNrz8wUQAARsTicmRVAv1h+BWlmFkB/oEvSNTMXQP/aFZ8CABhAvyLja8/MGEB/arA4nJkZQD+yfQVpZhpA//lK0jUzG0C/QRifAgAcQD984mvPzBxA/8OvOJyZHUC/C30FaWYeQH9TStI1Mx9AwDmHTwEAIEBAZO+1Z2YgQICBVBzOzCBAAKy8gjQzIUCA1iTpmpkhQIDmhk8BACJAABHvtWdmIkBALlQczswiQMBYvII0MyNAAHYh6ZqZI0BAk4ZPAQAkQA==\",\"dtype\":\"float64\",\"shape\":[101]}},\"selected\":{\"id\":\"117998d9-7cca-4ba4-baf4-06d863109c25\",\"type\":\"Selection\"},\"selection_policy\":{\"id\":\"ae177301-bd97-42f3-8eb6-0d88dc2fd2e1\",\"type\":\"UnionRenderers\"}},\"id\":\"27dd67cd-df07-4c35-beb0-c623f964804c\",\"type\":\"ColumnDataSource\"},{\"attributes\":{\"source\":{\"id\":\"b38dae01-68c0-47f1-9ec8-98bcc244621d\",\"type\":\"ColumnDataSource\"}},\"id\":\"be84561c-8a72-496e-ac10-730f5b1e6a93\",\"type\":\"CDSView\"},{\"attributes\":{\"data_source\":{\"id\":\"b38dae01-68c0-47f1-9ec8-98bcc244621d\",\"type\":\"ColumnDataSource\"},\"glyph\":{\"id\":\"41c1ddfe-474b-4359-aedc-3c3f2d90cd81\",\"type\":\"Line\"},\"hover_glyph\":null,\"muted_glyph\":null,\"nonselection_glyph\":{\"id\":\"2fa75f9a-a1bb-4de0-97f6-75dc351b786e\",\"type\":\"Line\"},\"selection_glyph\":null,\"view\":{\"id\":\"be84561c-8a72-496e-ac10-730f5b1e6a93\",\"type\":\"CDSView\"}},\"id\":\"f8bb73c8-6ae6-4467-81af-4fec95a46c80\",\"type\":\"GlyphRenderer\"},{\"attributes\":{\"line_alpha\":0.2,\"line_color\":\"red\",\"line_width\":3,\"x\":{\"field\":\"x\"},\"y\":{\"field\":\"y\"}},\"id\":\"41c1ddfe-474b-4359-aedc-3c3f2d90cd81\",\"type\":\"Line\"},{\"attributes\":{\"data_source\":{\"id\":\"de0fed0f-e76b-4440-9236-20b5fd59c6a4\",\"type\":\"ColumnDataSource\"},\"glyph\":{\"id\":\"c6f1a125-0aa9-4196-b46d-7b6522665e8f\",\"type\":\"Line\"},\"hover_glyph\":null,\"muted_glyph\":null,\"nonselection_glyph\":{\"id\":\"2c05cb44-769a-4f47-b6cf-24644879b55b\",\"type\":\"Line\"},\"selection_glyph\":null,\"view\":{\"id\":\"f6c6d26e-5779-4371-82c3-d944cfe34019\",\"type\":\"CDSView\"}},\"id\":\"dc6d5764-42c4-4a2c-9214-dfdf66b23a3f\",\"type\":\"GlyphRenderer\"},{\"attributes\":{},\"id\":\"c5c37349-3c63-4fc9-a182-08c424d423ae\",\"type\":\"Selection\"},{\"attributes\":{\"line_alpha\":0.1,\"line_color\":\"#1f77b4\",\"line_width\":3,\"x\":{\"field\":\"x\"},\"y\":{\"field\":\"y\"}},\"id\":\"2fa75f9a-a1bb-4de0-97f6-75dc351b786e\",\"type\":\"Line\"},{\"attributes\":{\"line_alpha\":0.1,\"line_color\":\"#1f77b4\",\"line_width\":3,\"x\":{\"field\":\"x\"},\"y\":{\"field\":\"y\"}},\"id\":\"2c05cb44-769a-4f47-b6cf-24644879b55b\",\"type\":\"Line\"},{\"attributes\":{\"callback\":null,\"data\":{\"x\":{\"__ndarray__\":\"AAAAAAAAFMCamZmZmZkTwDQzMzMzMxPAzszMzMzMEsBoZmZmZmYSwAIAAAAAABLAnJmZmZmZEcA2MzMzMzMRwNDMzMzMzBDAamZmZmZmEMAEAAAAAAAQwDwzMzMzMw/AcGZmZmZmDsCkmZmZmZkNwNjMzMzMzAzADAAAAAAADMBAMzMzMzMLwHRmZmZmZgrAqJmZmZmZCcDczMzMzMwIwBAAAAAAAAjARDMzMzMzB8B4ZmZmZmYGwKyZmZmZmQXA4MzMzMzMBMAUAAAAAAAEwEgzMzMzMwPAfGZmZmZmAsCwmZmZmZkBwOTMzMzMzADAGAAAAAAAAMCYZmZmZmb+vwDNzMzMzPy/aDMzMzMz+7/QmZmZmZn5vzgAAAAAAPi/oGZmZmZm9r8IzczMzMz0v3AzMzMzM/O/2JmZmZmZ8b9AAAAAAADwv1DNzMzMzOy/IJqZmZmZ6b/wZmZmZmbmv8AzMzMzM+O/kAAAAAAA4L/AmpmZmZnZv2A0MzMzM9O/AJyZmZmZyb+AnpmZmZm5vwAAAAAAABS9gJSZmZmZuT8Al5mZmZnJP+AxMzMzM9M/QJiZmZmZ2T+g/v/////fP4AyMzMzM+M/sGVmZmZm5j/gmJmZmZnpPxDMzMzMzOw/QP//////7z84mZmZmZnxP9AyMzMzM/M/aMzMzMzM9D8AZmZmZmb2P5j///////c/MJmZmZmZ+T/IMjMzMzP7P2DMzMzMzPw/+GVmZmZm/j+Q////////P5TMzMzMzABAYJmZmZmZAUAsZmZmZmYCQPgyMzMzMwNAxP//////A0CQzMzMzMwEQFyZmZmZmQVAKGZmZmZmBkD0MjMzMzMHQMD//////wdAjMzMzMzMCEBYmZmZmZkJQCRmZmZmZgpA8DIzMzMzC0C8//////8LQIjMzMzMzAxAVJmZmZmZDUAgZmZmZmYOQOwyMzMzMw9AuP//////D0BCZmZmZmYQQKjMzMzMzBBADjMzMzMzEUB0mZmZmZkRQNr//////xFAQGZmZmZmEkCmzMzMzMwSQAwzMzMzMxNAcpmZmZmZE0DY//////8TQA==\",\"dtype\":\"float64\",\"shape\":[101]},\"y\":{\"__ndarray__\":\"AAAAAAAAJMCamZmZmZkjwDQzMzMzMyPAzszMzMzMIsBoZmZmZmYiwAIAAAAAACLAnJmZmZmZIcA2MzMzMzMhwNDMzMzMzCDAamZmZmZmIMAEAAAAAAAgwDwzMzMzMx/AcGZmZmZmHsCkmZmZmZkdwNjMzMzMzBzADAAAAAAAHMBAMzMzMzMbwHRmZmZmZhrAqJmZmZmZGcDczMzMzMwYwBAAAAAAABjARDMzMzMzF8B4ZmZmZmYWwKyZmZmZmRXA4MzMzMzMFMAUAAAAAAAUwEgzMzMzMxPAfGZmZmZmEsCwmZmZmZkRwOTMzMzMzBDAGAAAAAAAEMCYZmZmZmYOwADNzMzMzAzAaDMzMzMzC8DQmZmZmZkJwDgAAAAAAAjAoGZmZmZmBsAIzczMzMwEwHAzMzMzMwPA2JmZmZmZAcBAAAAAAAAAwFDNzMzMzPy/IJqZmZmZ+b/wZmZmZmb2v8AzMzMzM/O/kAAAAAAA8L/AmpmZmZnpv2A0MzMzM+O/AJyZmZmZ2b+AnpmZmZnJvwAAAAAAACS9gJSZmZmZyT8Al5mZmZnZP+AxMzMzM+M/QJiZmZmZ6T+g/v/////vP4AyMzMzM/M/sGVmZmZm9j/gmJmZmZn5PxDMzMzMzPw/QP///////z84mZmZmZkBQNAyMzMzMwNAaMzMzMzMBEAAZmZmZmYGQJj//////wdAMJmZmZmZCUDIMjMzMzMLQGDMzMzMzAxA+GVmZmZmDkCQ//////8PQJTMzMzMzBBAYJmZmZmZEUAsZmZmZmYSQPgyMzMzMxNAxP//////E0CQzMzMzMwUQFyZmZmZmRVAKGZmZmZmFkD0MjMzMzMXQMD//////xdAjMzMzMzMGEBYmZmZmZkZQCRmZmZmZhpA8DIzMzMzG0C8//////8bQIjMzMzMzBxAVJmZmZmZHUAgZmZmZmYeQOwyMzMzMx9AuP//////H0BCZmZmZmYgQKjMzMzMzCBADjMzMzMzIUB0mZmZmZkhQNr//////yFAQGZmZmZmIkCmzMzMzMwiQAwzMzMzMyNAcpmZmZmZI0DY//////8jQA==\",\"dtype\":\"float64\",\"shape\":[101]}},\"selected\":{\"id\":\"c5825aa9-152a-4a86-ae10-2af45164351d\",\"type\":\"Selection\"},\"selection_policy\":{\"id\":\"a45d41be-c979-4b4a-8c0a-82e06aecd1da\",\"type\":\"UnionRenderers\"}},\"id\":\"e58266ba-272c-49db-a36b-b32348720cd3\",\"type\":\"ColumnDataSource\"},{\"attributes\":{},\"id\":\"abaa1c24-7b23-477b-a2ec-6ef0e248862b\",\"type\":\"BasicTicker\"},{\"attributes\":{\"source\":{\"id\":\"916e8da5-9afd-4fc0-8ddf-f612e468b573\",\"type\":\"ColumnDataSource\"}},\"id\":\"e9dbc4e8-7fa2-4291-9eed-0d92a22e6b83\",\"type\":\"CDSView\"},{\"attributes\":{\"callback\":null,\"data\":{\"x\":{\"__ndarray__\":\"AAAAAAAAFMCamZmZmZkTwDQzMzMzMxPAzszMzMzMEsBoZmZmZmYSwAIAAAAAABLAnJmZmZmZEcA2MzMzMzMRwNDMzMzMzBDAamZmZmZmEMAEAAAAAAAQwDwzMzMzMw/AcGZmZmZmDsCkmZmZmZkNwNjMzMzMzAzADAAAAAAADMBAMzMzMzMLwHRmZmZmZgrAqJmZmZmZCcDczMzMzMwIwBAAAAAAAAjARDMzMzMzB8B4ZmZmZmYGwKyZmZmZmQXA4MzMzMzMBMAUAAAAAAAEwEgzMzMzMwPAfGZmZmZmAsCwmZmZmZkBwOTMzMzMzADAGAAAAAAAAMCYZmZmZmb+vwDNzMzMzPy/aDMzMzMz+7/QmZmZmZn5vzgAAAAAAPi/oGZmZmZm9r8IzczMzMz0v3AzMzMzM/O/2JmZmZmZ8b9AAAAAAADwv1DNzMzMzOy/IJqZmZmZ6b/wZmZmZmbmv8AzMzMzM+O/kAAAAAAA4L/AmpmZmZnZv2A0MzMzM9O/AJyZmZmZyb+AnpmZmZm5vwAAAAAAABS9gJSZmZmZuT8Al5mZmZnJP+AxMzMzM9M/QJiZmZmZ2T+g/v/////fP4AyMzMzM+M/sGVmZmZm5j/gmJmZmZnpPxDMzMzMzOw/QP//////7z84mZmZmZnxP9AyMzMzM/M/aMzMzMzM9D8AZmZmZmb2P5j///////c/MJmZmZmZ+T/IMjMzMzP7P2DMzMzMzPw/+GVmZmZm/j+Q////////P5TMzMzMzABAYJmZmZmZAUAsZmZmZmYCQPgyMzMzMwNAxP//////A0CQzMzMzMwEQFyZmZmZmQVAKGZmZmZmBkD0MjMzMzMHQMD//////wdAjMzMzMzMCEBYmZmZmZkJQCRmZmZmZgpA8DIzMzMzC0C8//////8LQIjMzMzMzAxAVJmZmZmZDUAgZmZmZmYOQOwyMzMzMw9AuP//////D0BCZmZmZmYQQKjMzMzMzBBADjMzMzMzEUB0mZmZmZkRQNr//////xFAQGZmZmZmEkCmzMzMzMwSQAwzMzMzMxNAcpmZmZmZE0DY//////8TQA==\",\"dtype\":\"float64\",\"shape\":[101]},\"y\":{\"__ndarray__\":\"AAAAAAAAIsCbmZmZmZkhwDQzMzMzMyHAzszMzMzMIMBpZmZmZmYgwAMAAAAAACDANjMzMzMzH8BqZmZmZmYewKKZmZmZmR3A1szMzMzMHMAIAAAAAAAcwDwzMzMzMxvAcWZmZmZmGsClmZmZmZkZwNnMzMzMzBjADAAAAAAAGMA/MzMzMzMXwHRmZmZmZhbAqJmZmZmZFcDczMzMzMwUwBAAAAAAABTARDMzMzMzE8B4ZmZmZmYSwKyZmZmZmRHA4MzMzMzMEMAUAAAAAAAQwJBmZmZmZg7A+MzMzMzMDMBfMzMzMzMLwMmZmZmZmQnAMAAAAAAACMCYZmZmZmYGwADNzMzMzATAaDMzMzMzA8DQmZmZmZkBwDgAAAAAAADAQM3MzMzM/L8QmpmZmZn5v+BmZmZmZva/sDMzMzMz87+AAAAAAADwv6CamZmZmem/QDQzMzMz47/Am5mZmZnZvwCemZmZmcm/AAAAAAAAIr0AlZmZmZnJP0CXmZmZmdk/ADIzMzMz4z9gmJmZmZnpP8D+/////+8/kDIzMzMz8z/AZWZmZmb2P/CYmZmZmfk/IMzMzMzM/D9Q////////P0CZmZmZmQFA2DIzMzMzA0BwzMzMzMwEQAhmZmZmZgZAoP//////B0A4mZmZmZkJQNAyMzMzMwtAaMzMzMzMDEAAZmZmZmYOQJj//////w9AmMzMzMzMEEBkmZmZmZkRQDBmZmZmZhJA/DIzMzMzE0DI//////8TQJPMzMzMzBRAYZmZmZmZFUArZmZmZmYWQPgyMzMzMxdAxP//////F0CQzMzMzMwYQFuZmZmZmRlAKWZmZmZmGkD0MjMzMzMbQMD//////xtAjMzMzMzMHEBYmZmZmZkdQCRmZmZmZh5A8DIzMzMzH0C+//////8fQERmZmZmZiBAqczMzMzMIEAQMzMzMzMhQHWZmZmZmSFA3P//////IUBCZmZmZmYiQKjMzMzMzCJADjMzMzMzI0B0mZmZmZkjQNr//////yNAQGZmZmZmJECkzMzMzMwkQAwzMzMzMyVAcJmZmZmZJUDY//////8lQA==\",\"dtype\":\"float64\",\"shape\":[101]}},\"selected\":{\"id\":\"556e858b-2968-464c-b149-1a1b9fdbb26c\",\"type\":\"Selection\"},\"selection_policy\":{\"id\":\"388e0335-3b47-445f-955a-ea3adbac8907\",\"type\":\"UnionRenderers\"}},\"id\":\"de0fed0f-e76b-4440-9236-20b5fd59c6a4\",\"type\":\"ColumnDataSource\"},{\"attributes\":{},\"id\":\"6b0409d5-3305-4bea-a585-8f0de9d9431b\",\"type\":\"LinearScale\"},{\"attributes\":{\"source\":{\"id\":\"fe7bfd67-8326-43af-bfb9-83748325693d\",\"type\":\"ColumnDataSource\"}},\"id\":\"bde110e9-3c43-4351-bb72-6dc8e40efbab\",\"type\":\"CDSView\"},{\"attributes\":{\"line_alpha\":0.1,\"line_color\":\"#1f77b4\",\"line_width\":3,\"x\":{\"field\":\"x\"},\"y\":{\"field\":\"y\"}},\"id\":\"75b6e150-e468-4d66-92e4-eb1a7deb2f3e\",\"type\":\"Line\"},{\"attributes\":{},\"id\":\"117998d9-7cca-4ba4-baf4-06d863109c25\",\"type\":\"Selection\"},{\"attributes\":{\"source\":{\"id\":\"27dd67cd-df07-4c35-beb0-c623f964804c\",\"type\":\"ColumnDataSource\"}},\"id\":\"3ad4a2ee-d5b7-4560-8980-465f07a90171\",\"type\":\"CDSView\"},{\"attributes\":{\"callback\":null,\"data\":{\"x\":{\"__ndarray__\":\"AAAAAAAAFMCamZmZmZkTwDQzMzMzMxPAzszMzMzMEsBoZmZmZmYSwAIAAAAAABLAnJmZmZmZEcA2MzMzMzMRwNDMzMzMzBDAamZmZmZmEMAEAAAAAAAQwDwzMzMzMw/AcGZmZmZmDsCkmZmZmZkNwNjMzMzMzAzADAAAAAAADMBAMzMzMzMLwHRmZmZmZgrAqJmZmZmZCcDczMzMzMwIwBAAAAAAAAjARDMzMzMzB8B4ZmZmZmYGwKyZmZmZmQXA4MzMzMzMBMAUAAAAAAAEwEgzMzMzMwPAfGZmZmZmAsCwmZmZmZkBwOTMzMzMzADAGAAAAAAAAMCYZmZmZmb+vwDNzMzMzPy/aDMzMzMz+7/QmZmZmZn5vzgAAAAAAPi/oGZmZmZm9r8IzczMzMz0v3AzMzMzM/O/2JmZmZmZ8b9AAAAAAADwv1DNzMzMzOy/IJqZmZmZ6b/wZmZmZmbmv8AzMzMzM+O/kAAAAAAA4L/AmpmZmZnZv2A0MzMzM9O/AJyZmZmZyb+AnpmZmZm5vwAAAAAAABS9gJSZmZmZuT8Al5mZmZnJP+AxMzMzM9M/QJiZmZmZ2T+g/v/////fP4AyMzMzM+M/sGVmZmZm5j/gmJmZmZnpPxDMzMzMzOw/QP//////7z84mZmZmZnxP9AyMzMzM/M/aMzMzMzM9D8AZmZmZmb2P5j///////c/MJmZmZmZ+T/IMjMzMzP7P2DMzMzMzPw/+GVmZmZm/j+Q////////P5TMzMzMzABAYJmZmZmZAUAsZmZmZmYCQPgyMzMzMwNAxP//////A0CQzMzMzMwEQFyZmZmZmQVAKGZmZmZmBkD0MjMzMzMHQMD//////wdAjMzMzMzMCEBYmZmZmZkJQCRmZmZmZgpA8DIzMzMzC0C8//////8LQIjMzMzMzAxAVJmZmZmZDUAgZmZmZmYOQOwyMzMzMw9AuP//////D0BCZmZmZmYQQKjMzMzMzBBADjMzMzMzEUB0mZmZmZkRQNr//////xFAQGZmZmZmEkCmzMzMzMwSQAwzMzMzMxNAcpmZmZmZE0DY//////8TQA==\",\"dtype\":\"float64\",\"shape\":[101]},\"y\":{\"__ndarray__\":\"AAAAAAAAGMA0MzMzMzMXwGhmZmZmZhbAnJmZmZmZFcDQzMzMzMwUwAQAAAAAABTAODMzMzMzE8BsZmZmZmYSwKCZmZmZmRHA1MzMzMzMEMAIAAAAAAAQwHhmZmZmZg7A4MzMzMzMDMBIMzMzMzMLwLCZmZmZmQnAGAAAAAAACMCAZmZmZmYGwOjMzMzMzATAUDMzMzMzA8C4mZmZmZkBwCAAAAAAAADAEM3MzMzM/L/gmZmZmZn5v7BmZmZmZva/gDMzMzMz879QAAAAAADwv0CamZmZmem/4TMzMzMz47/+mpmZmZnZv4ScmZmZmcm/AAAAAAAAGL2AlpmZmZnJPwCYmZmZmdk/YDIzMzMz4z/AmJmZmZnpPyD//////+8/wDIzMzMz8z/wZWZmZmb2PyCZmZmZmfk/UczMzMzM/D+A////////P1iZmZmZmQFA8DIzMzMzA0CIzMzMzMwEQCBmZmZmZgZAuP//////B0BQmZmZmZkJQOgyMzMzMwtAgMzMzMzMDEAYZmZmZmYOQLD//////w9ApMzMzMzMEEBwmZmZmZkRQDxmZmZmZhJACDMzMzMzE0DU//////8TQKDMzMzMzBRAbJmZmZmZFUA4ZmZmZmYWQAQzMzMzMxdA0P//////F0CczMzMzMwYQGiZmZmZmRlANGZmZmZmGkAAMzMzMzMbQMz//////xtAmMzMzMzMHEBlmZmZmZkdQC9mZmZmZh5A/DIzMzMzH0DI//////8fQEpmZmZmZiBAsMzMzMzMIEAWMzMzMzMhQHyZmZmZmSFA4v//////IUBIZmZmZmYiQK7MzMzMzCJAFDMzMzMzI0B6mZmZmZkjQOD//////yNARmZmZmZmJECszMzMzMwkQBIzMzMzMyVAeJmZmZmZJUDe//////8lQERmZmZmZiZAqszMzMzMJkAQMzMzMzMnQHaZmZmZmSdA3P//////J0BCZmZmZmYoQKjMzMzMzChADjMzMzMzKUB0mZmZmZkpQNr//////ylAQGZmZmZmKkCmzMzMzMwqQAwzMzMzMytAcZmZmZmZK0DY//////8rQA==\",\"dtype\":\"float64\",\"shape\":[101]}},\"selected\":{\"id\":\"aaf00c0a-2fcb-46d1-8d17-017702dec754\",\"type\":\"Selection\"},\"selection_policy\":{\"id\":\"e56b7345-81cc-4161-9495-f621aaa9884e\",\"type\":\"UnionRenderers\"}},\"id\":\"fe7bfd67-8326-43af-bfb9-83748325693d\",\"type\":\"ColumnDataSource\"},{\"attributes\":{\"line_color\":\"#1f77b4\",\"line_width\":3,\"x\":{\"field\":\"x\"},\"y\":{\"field\":\"y\"}},\"id\":\"fc06cd79-10b4-47fa-9b69-f04a35baeff7\",\"type\":\"Line\"},{\"attributes\":{\"source\":{\"id\":\"373b0011-6251-4216-ac7e-e0dec1778782\",\"type\":\"ColumnDataSource\"}},\"id\":\"6e2c075a-5bf4-45d0-a02e-6c5004aab2bc\",\"type\":\"CDSView\"},{\"attributes\":{},\"id\":\"ae177301-bd97-42f3-8eb6-0d88dc2fd2e1\",\"type\":\"UnionRenderers\"},{\"attributes\":{\"plot\":null,\"text\":\"\"},\"id\":\"b618fb4d-9893-4cb8-a62a-1a445e0b7aa7\",\"type\":\"Title\"},{\"attributes\":{\"line_alpha\":0.1,\"line_color\":\"#1f77b4\",\"line_width\":3,\"x\":{\"field\":\"x\"},\"y\":{\"field\":\"y\"}},\"id\":\"b2940d52-cf30-4bae-af72-2349e86d5ccd\",\"type\":\"Line\"},{\"attributes\":{\"source\":{\"id\":\"e58266ba-272c-49db-a36b-b32348720cd3\",\"type\":\"ColumnDataSource\"}},\"id\":\"bb34a26a-d56c-4343-98b0-1f341454ef64\",\"type\":\"CDSView\"},{\"attributes\":{\"data_source\":{\"id\":\"27dd67cd-df07-4c35-beb0-c623f964804c\",\"type\":\"ColumnDataSource\"},\"glyph\":{\"id\":\"58635737-87e7-46d6-ba8d-cb1d340587ae\",\"type\":\"Line\"},\"hover_glyph\":null,\"muted_glyph\":null,\"nonselection_glyph\":{\"id\":\"75b6e150-e468-4d66-92e4-eb1a7deb2f3e\",\"type\":\"Line\"},\"selection_glyph\":null,\"view\":{\"id\":\"3ad4a2ee-d5b7-4560-8980-465f07a90171\",\"type\":\"CDSView\"}},\"id\":\"0ef9ba12-fb87-4d8d-8570-b62bbdd9f778\",\"type\":\"GlyphRenderer\"},{\"attributes\":{},\"id\":\"078dae44-1e0a-4acb-9a35-95c02f93ed4a\",\"type\":\"UnionRenderers\"},{\"attributes\":{\"line_alpha\":0.2,\"line_color\":\"red\",\"line_width\":3,\"x\":{\"field\":\"x\"},\"y\":{\"field\":\"y\"}},\"id\":\"58635737-87e7-46d6-ba8d-cb1d340587ae\",\"type\":\"Line\"},{\"attributes\":{\"data_source\":{\"id\":\"e58266ba-272c-49db-a36b-b32348720cd3\",\"type\":\"ColumnDataSource\"},\"glyph\":{\"id\":\"5e6b5fef-a194-4ec9-96f8-b31cdd8b7942\",\"type\":\"Line\"},\"hover_glyph\":null,\"muted_glyph\":null,\"nonselection_glyph\":{\"id\":\"c14601b3-3943-4c17-a537-69e2b201d262\",\"type\":\"Line\"},\"selection_glyph\":null,\"view\":{\"id\":\"bb34a26a-d56c-4343-98b0-1f341454ef64\",\"type\":\"CDSView\"}},\"id\":\"fc89d477-cf73-4d84-b35e-f1417af429d1\",\"type\":\"GlyphRenderer\"},{\"attributes\":{},\"id\":\"c767e623-20fb-4cd7-8aa6-f889dfc05228\",\"type\":\"LinearScale\"},{\"attributes\":{\"data_source\":{\"id\":\"fe7bfd67-8326-43af-bfb9-83748325693d\",\"type\":\"ColumnDataSource\"},\"glyph\":{\"id\":\"acac732d-fcd6-417b-8e6e-1eb0c983a621\",\"type\":\"Line\"},\"hover_glyph\":null,\"muted_glyph\":null,\"nonselection_glyph\":{\"id\":\"b2940d52-cf30-4bae-af72-2349e86d5ccd\",\"type\":\"Line\"},\"selection_glyph\":null,\"view\":{\"id\":\"bde110e9-3c43-4351-bb72-6dc8e40efbab\",\"type\":\"CDSView\"}},\"id\":\"b1560b0c-7f5f-44d9-9893-1c6fc57db663\",\"type\":\"GlyphRenderer\"},{\"attributes\":{\"line_alpha\":0.2,\"line_color\":\"red\",\"line_width\":3,\"x\":{\"field\":\"x\"},\"y\":{\"field\":\"y\"}},\"id\":\"acac732d-fcd6-417b-8e6e-1eb0c983a621\",\"type\":\"Line\"},{\"attributes\":{\"data_source\":{\"id\":\"373b0011-6251-4216-ac7e-e0dec1778782\",\"type\":\"ColumnDataSource\"},\"glyph\":{\"id\":\"ee87aea2-748f-48a2-962f-04a50508dbf4\",\"type\":\"Line\"},\"hover_glyph\":null,\"muted_glyph\":null,\"nonselection_glyph\":{\"id\":\"6e8a1fea-2f9a-45ca-9900-c11ba2de020a\",\"type\":\"Line\"},\"selection_glyph\":null,\"view\":{\"id\":\"6e2c075a-5bf4-45d0-a02e-6c5004aab2bc\",\"type\":\"CDSView\"}},\"id\":\"84a90ca7-4be3-45b0-bf46-16277fdef850\",\"type\":\"GlyphRenderer\"},{\"attributes\":{},\"id\":\"a45d41be-c979-4b4a-8c0a-82e06aecd1da\",\"type\":\"UnionRenderers\"},{\"attributes\":{\"line_dash\":[6],\"line_width\":3,\"x\":{\"field\":\"x\"},\"y\":{\"field\":\"y\"}},\"id\":\"5e6b5fef-a194-4ec9-96f8-b31cdd8b7942\",\"type\":\"Line\"},{\"attributes\":{\"callback\":null},\"id\":\"5340d670-3022-4c8b-9bd2-cf7744156eee\",\"type\":\"DataRange1d\"},{\"attributes\":{\"line_alpha\":0.1,\"line_color\":\"#1f77b4\",\"line_width\":3,\"x\":{\"field\":\"x\"},\"y\":{\"field\":\"y\"}},\"id\":\"6e8a1fea-2f9a-45ca-9900-c11ba2de020a\",\"type\":\"Line\"},{\"attributes\":{\"line_alpha\":0.2,\"line_color\":\"red\",\"line_width\":3,\"x\":{\"field\":\"x\"},\"y\":{\"field\":\"y\"}},\"id\":\"ee87aea2-748f-48a2-962f-04a50508dbf4\",\"type\":\"Line\"},{\"attributes\":{\"data_source\":{\"id\":\"916e8da5-9afd-4fc0-8ddf-f612e468b573\",\"type\":\"ColumnDataSource\"},\"glyph\":{\"id\":\"49dbb648-b67a-40f3-bf48-b208aed7964e\",\"type\":\"Line\"},\"hover_glyph\":null,\"muted_glyph\":null,\"nonselection_glyph\":{\"id\":\"3c0fb0be-f95c-421e-b2be-de2293e99b44\",\"type\":\"Line\"},\"selection_glyph\":null,\"view\":{\"id\":\"e9dbc4e8-7fa2-4291-9eed-0d92a22e6b83\",\"type\":\"CDSView\"}},\"id\":\"58b725d2-f7aa-405f-aca6-4606a113ffa2\",\"type\":\"GlyphRenderer\"},{\"attributes\":{\"callback\":null,\"data\":{\"x\":{\"__ndarray__\":\"AAAAAAAAFMCamZmZmZkTwDQzMzMzMxPAzszMzMzMEsBoZmZmZmYSwAIAAAAAABLAnJmZmZmZEcA2MzMzMzMRwNDMzMzMzBDAamZmZmZmEMAEAAAAAAAQwDwzMzMzMw/AcGZmZmZmDsCkmZmZmZkNwNjMzMzMzAzADAAAAAAADMBAMzMzMzMLwHRmZmZmZgrAqJmZmZmZCcDczMzMzMwIwBAAAAAAAAjARDMzMzMzB8B4ZmZmZmYGwKyZmZmZmQXA4MzMzMzMBMAUAAAAAAAEwEgzMzMzMwPAfGZmZmZmAsCwmZmZmZkBwOTMzMzMzADAGAAAAAAAAMCYZmZmZmb+vwDNzMzMzPy/aDMzMzMz+7/QmZmZmZn5vzgAAAAAAPi/oGZmZmZm9r8IzczMzMz0v3AzMzMzM/O/2JmZmZmZ8b9AAAAAAADwv1DNzMzMzOy/IJqZmZmZ6b/wZmZmZmbmv8AzMzMzM+O/kAAAAAAA4L/AmpmZmZnZv2A0MzMzM9O/AJyZmZmZyb+AnpmZmZm5vwAAAAAAABS9gJSZmZmZuT8Al5mZmZnJP+AxMzMzM9M/QJiZmZmZ2T+g/v/////fP4AyMzMzM+M/sGVmZmZm5j/gmJmZmZnpPxDMzMzMzOw/QP//////7z84mZmZmZnxP9AyMzMzM/M/aMzMzMzM9D8AZmZmZmb2P5j///////c/MJmZmZmZ+T/IMjMzMzP7P2DMzMzMzPw/+GVmZmZm/j+Q////////P5TMzMzMzABAYJmZmZmZAUAsZmZmZmYCQPgyMzMzMwNAxP//////A0CQzMzMzMwEQFyZmZmZmQVAKGZmZmZmBkD0MjMzMzMHQMD//////wdAjMzMzMzMCEBYmZmZmZkJQCRmZmZmZgpA8DIzMzMzC0C8//////8LQIjMzMzMzAxAVJmZmZmZDUAgZmZmZmYOQOwyMzMzMw9AuP//////D0BCZmZmZmYQQKjMzMzMzBBADjMzMzMzEUB0mZmZmZkRQNr//////xFAQGZmZmZmEkCmzMzMzMwSQAwzMzMzMxNAcpmZmZmZE0DY//////8TQA==\",\"dtype\":\"float64\",\"shape\":[101]},\"y\":{\"__ndarray__\":\"cHGR7Xz/I8AQDCuHFpkjwOCexCCwMiPAgDleuknMIsDw2/dT42UiwJB2ke18/yHAkAErhxaZIcAwnMQgsDIhwKA+XrpJzCDAQNn3U+NlIMBQ0CLb+f4fwJAFVg4tMh/A0DqJQWBlHsBAaLx0k5gdwICd76fGyxzA8Moi2/n+G8AwAFYOLTIbwHA1iUFgZRrAsGq8dJOYGcAgmO+nxssYwGDNItv5/hfAoAJWDi0yF8D4M4lBYGUWwDhpvHSTmBXAkJrvp8bLFMDQzyLb+f4TwCgBVg4tMhPAaDaJQWBlEsDAZ7x0k5gRwACd76fGyxDAsJxFtvP9D8AwB6wcWmQOwMhtEoPAygzAeNB46SYxC8AQN99PjZcJwKidRbbz/QfAQASsHFpkBsDMbBKDwMoEwGTTeOkmMQPACDjfT42XAcAQRYts5/v/v0ASWDm0yPy/fN0kBoGV+b+yqfHSTWL2v+J2vp8aL/O/JIgW2c7377+KIbByaJHpv227SQwCK+O/oKrGSzeJ2b9Vu/P91HjJv/wp79JNYlA/xXc/NV66yT+5iGzn+6nZP7iqHFpkO+M/UhGDwMqh6T/2u3STGATwP8bup8ZLN/M/kCLb+X5q9j9gVQ4tsp35PzCIQWDl0Pw/jFu6SQwCAEDo9lPjpZsBQFyO7Xw/NQNAxCeHFtnOBEAgwyCwcmgGQIhcukkMAghACPJT46WbCUBYj+18PzULQNgkhxbZzgxAQL4gsHJoDkDILd0kBgEQQIj4qfHSzRBAMMd2vp+aEUDwkUOLbGcSQJhgEFg5NBNAWCvdJAYBFEAA+qnx0s0UQMDEdr6fmhVAaJNDi2xnFkAQYhBYOTQXQNAs3SQGARhAkPep8dLNGEBQwna+n5oZQOCUQ4tsZxpAoF8QWDk0G0BgKt0kBgEcQCD1qfHSzRxA4L92vp+aHUCgikOLbGceQDBdEFg5NB9AsJ9uEoMAIEAQBdV46WYgQHBqO99PzSBAoNehRbYzIUAAPQisHJohQJCabhKDACJA8P/UeOlmIkAgbTvfT80iQIDSoUW2MyNA4DcIrByaI0BAnW4SgwAkQA==\",\"dtype\":\"float64\",\"shape\":[101]}},\"selected\":{\"id\":\"c5c37349-3c63-4fc9-a182-08c424d423ae\",\"type\":\"Selection\"},\"selection_policy\":{\"id\":\"74a8c8e2-4820-481f-be2a-0ae6776a5070\",\"type\":\"UnionRenderers\"}},\"id\":\"b38dae01-68c0-47f1-9ec8-98bcc244621d\",\"type\":\"ColumnDataSource\"},{\"attributes\":{\"line_alpha\":0.1,\"line_color\":\"#1f77b4\",\"line_dash\":[6],\"line_width\":3,\"x\":{\"field\":\"x\"},\"y\":{\"field\":\"y\"}},\"id\":\"c14601b3-3943-4c17-a537-69e2b201d262\",\"type\":\"Line\"},{\"attributes\":{\"active_drag\":\"auto\",\"active_inspect\":\"auto\",\"active_multi\":null,\"active_scroll\":\"auto\",\"active_tap\":\"auto\",\"tools\":[{\"id\":\"0b3ae90d-5b09-4f81-ac83-832b38494d58\",\"type\":\"PanTool\"},{\"id\":\"dce42600-afc4-413b-84c7-46834590e0d6\",\"type\":\"WheelZoomTool\"},{\"id\":\"0263ad03-3391-4f03-b0f3-7beab2954254\",\"type\":\"BoxZoomTool\"},{\"id\":\"32bf8558-fba6-4adb-82aa-c8186430aae4\",\"type\":\"SaveTool\"},{\"id\":\"019595d4-f245-44bb-aca8-40c95fd05655\",\"type\":\"ResetTool\"},{\"id\":\"feb2b4a6-aa5b-445d-9198-639fe46dfa45\",\"type\":\"HelpTool\"}]},\"id\":\"31c337b1-31ef-4c54-b2ce-412fff0622b0\",\"type\":\"Toolbar\"},{\"attributes\":{\"axis_label\":\"X\",\"formatter\":{\"id\":\"219b6827-2935-4cdc-91ab-7ce7bddf3ac7\",\"type\":\"BasicTickFormatter\"},\"plot\":{\"id\":\"51a0cb40-6bd6-43a0-a963-c6bab15e4c02\",\"subtype\":\"Figure\",\"type\":\"Plot\"},\"ticker\":{\"id\":\"abaa1c24-7b23-477b-a2ec-6ef0e248862b\",\"type\":\"BasicTicker\"}},\"id\":\"bd4e8d26-135c-462a-895f-f13ddedbb484\",\"type\":\"LinearAxis\"},{\"attributes\":{\"line_alpha\":0.2,\"line_color\":\"red\",\"line_width\":3,\"x\":{\"field\":\"x\"},\"y\":{\"field\":\"y\"}},\"id\":\"49dbb648-b67a-40f3-bf48-b208aed7964e\",\"type\":\"Line\"},{\"attributes\":{\"callback\":null,\"data\":{\"x\":{\"__ndarray__\":\"AAAAAAAAFMCamZmZmZkTwDQzMzMzMxPAzszMzMzMEsBoZmZmZmYSwAIAAAAAABLAnJmZmZmZEcA2MzMzMzMRwNDMzMzMzBDAamZmZmZmEMAEAAAAAAAQwDwzMzMzMw/AcGZmZmZmDsCkmZmZmZkNwNjMzMzMzAzADAAAAAAADMBAMzMzMzMLwHRmZmZmZgrAqJmZmZmZCcDczMzMzMwIwBAAAAAAAAjARDMzMzMzB8B4ZmZmZmYGwKyZmZmZmQXA4MzMzMzMBMAUAAAAAAAEwEgzMzMzMwPAfGZmZmZmAsCwmZmZmZkBwOTMzMzMzADAGAAAAAAAAMCYZmZmZmb+vwDNzMzMzPy/aDMzMzMz+7/QmZmZmZn5vzgAAAAAAPi/oGZmZmZm9r8IzczMzMz0v3AzMzMzM/O/2JmZmZmZ8b9AAAAAAADwv1DNzMzMzOy/IJqZmZmZ6b/wZmZmZmbmv8AzMzMzM+O/kAAAAAAA4L/AmpmZmZnZv2A0MzMzM9O/AJyZmZmZyb+AnpmZmZm5vwAAAAAAABS9gJSZmZmZuT8Al5mZmZnJP+AxMzMzM9M/QJiZmZmZ2T+g/v/////fP4AyMzMzM+M/sGVmZmZm5j/gmJmZmZnpPxDMzMzMzOw/QP//////7z84mZmZmZnxP9AyMzMzM/M/aMzMzMzM9D8AZmZmZmb2P5j///////c/MJmZmZmZ+T/IMjMzMzP7P2DMzMzMzPw/+GVmZmZm/j+Q////////P5TMzMzMzABAYJmZmZmZAUAsZmZmZmYCQPgyMzMzMwNAxP//////A0CQzMzMzMwEQFyZmZmZmQVAKGZmZmZmBkD0MjMzMzMHQMD//////wdAjMzMzMzMCEBYmZmZmZkJQCRmZmZmZgpA8DIzMzMzC0C8//////8LQIjMzMzMzAxAVJmZmZmZDUAgZmZmZmYOQOwyMzMzMw9AuP//////D0BCZmZmZmYQQKjMzMzMzBBADjMzMzMzEUB0mZmZmZkRQNr//////xFAQGZmZmZmEkCmzMzMzMwSQAwzMzMzMxNAcpmZmZmZE0DY//////8TQA==\",\"dtype\":\"float64\",\"shape\":[101]},\"y\":{\"__ndarray__\":\"AAAAAAAAIMA1MzMzMzMfwGhmZmZmZh7AnJmZmZmZHcDQzMzMzMwcwAUAAAAAABzANzMzMzMzG8BrZmZmZmYawKGZmZmZmRnA1MzMzMzMGMAIAAAAAAAYwDwzMzMzMxfAcGZmZmZmFsCkmZmZmZkVwNjMzMzMzBTADAAAAAAAFMBAMzMzMzMTwHRmZmZmZhLAqJmZmZmZEcDczMzMzMwQwBAAAAAAABDAiGZmZmZmDsDwzMzMzMwMwFgzMzMzMwvAwJmZmZmZCcAoAAAAAAAIwJBmZmZmZgbA+MzMzMzMBMBgMzMzMzMDwMiZmZmZmQHAMAAAAAAAAMAwzczMzMz8vwCamZmZmfm/0GZmZmZm9r+gMzMzMzPzv3AAAAAAAPC/gJqZmZmZ6b8gNDMzMzPjv4CbmZmZmdm/fp2ZmZmZyb8AAAAAAAAgvYCVmZmZmck/gJeZmZmZ2T8gMjMzMzPjP4CYmZmZmek/4P7/////7z+gMjMzMzPzP9BlZmZmZvY/AJmZmZmZ+T8wzMzMzMz8P2D///////8/SJmZmZmZAUDgMjMzMzMDQHjMzMzMzARAEGZmZmZmBkCo//////8HQECZmZmZmQlA2DIzMzMzC0BwzMzMzMwMQAdmZmZmZg5AoP//////D0CczMzMzMwQQGiZmZmZmRFANGZmZmZmEkAAMzMzMzMTQMz//////xNAmMzMzMzMFEBkmZmZmZkVQDBmZmZmZhZA/DIzMzMzF0DI//////8XQJTMzMzMzBhAYJmZmZmZGUAsZmZmZmYaQPgyMzMzMxtAxf//////G0CQzMzMzMwcQFyZmZmZmR1AKGZmZmZmHkD0MjMzMzMfQMD//////x9ARmZmZmZmIECszMzMzMwgQBIzMzMzMyFAeJmZmZmZIUDe//////8hQERmZmZmZiJAqszMzMzMIkAQMzMzMzMjQHaZmZmZmSNA3P//////I0BBZmZmZmYkQKfMzMzMzCRADzMzMzMzJUB1mZmZmZklQNn//////yVAP2ZmZmZmJkCmzMzMzMwmQAwzMzMzMydAcpmZmZmZJ0DY//////8nQA==\",\"dtype\":\"float64\",\"shape\":[101]}},\"selected\":{\"id\":\"6009ef54-f5a8-4621-b58e-7c61149dd304\",\"type\":\"Selection\"},\"selection_policy\":{\"id\":\"078dae44-1e0a-4acb-9a35-95c02f93ed4a\",\"type\":\"UnionRenderers\"}},\"id\":\"373b0011-6251-4216-ac7e-e0dec1778782\",\"type\":\"ColumnDataSource\"},{\"attributes\":{\"source\":{\"id\":\"de0fed0f-e76b-4440-9236-20b5fd59c6a4\",\"type\":\"ColumnDataSource\"}},\"id\":\"f6c6d26e-5779-4371-82c3-d944cfe34019\",\"type\":\"CDSView\"},{\"attributes\":{\"line_alpha\":0.1,\"line_color\":\"#1f77b4\",\"line_width\":3,\"x\":{\"field\":\"x\"},\"y\":{\"field\":\"y\"}},\"id\":\"3c0fb0be-f95c-421e-b2be-de2293e99b44\",\"type\":\"Line\"},{\"attributes\":{\"callback\":null,\"data\":{\"x\":{\"__ndarray__\":\"AAAAAAAAFMCamZmZmZkTwDQzMzMzMxPAzszMzMzMEsBoZmZmZmYSwAIAAAAAABLAnJmZmZmZEcA2MzMzMzMRwNDMzMzMzBDAamZmZmZmEMAEAAAAAAAQwDwzMzMzMw/AcGZmZmZmDsCkmZmZmZkNwNjMzMzMzAzADAAAAAAADMBAMzMzMzMLwHRmZmZmZgrAqJmZmZmZCcDczMzMzMwIwBAAAAAAAAjARDMzMzMzB8B4ZmZmZmYGwKyZmZmZmQXA4MzMzMzMBMAUAAAAAAAEwEgzMzMzMwPAfGZmZmZmAsCwmZmZmZkBwOTMzMzMzADAGAAAAAAAAMCYZmZmZmb+vwDNzMzMzPy/aDMzMzMz+7/QmZmZmZn5vzgAAAAAAPi/oGZmZmZm9r8IzczMzMz0v3AzMzMzM/O/2JmZmZmZ8b9AAAAAAADwv1DNzMzMzOy/IJqZmZmZ6b/wZmZmZmbmv8AzMzMzM+O/kAAAAAAA4L/AmpmZmZnZv2A0MzMzM9O/AJyZmZmZyb+AnpmZmZm5vwAAAAAAABS9gJSZmZmZuT8Al5mZmZnJP+AxMzMzM9M/QJiZmZmZ2T+g/v/////fP4AyMzMzM+M/sGVmZmZm5j/gmJmZmZnpPxDMzMzMzOw/QP//////7z84mZmZmZnxP9AyMzMzM/M/aMzMzMzM9D8AZmZmZmb2P5j///////c/MJmZmZmZ+T/IMjMzMzP7P2DMzMzMzPw/+GVmZmZm/j+Q////////P5TMzMzMzABAYJmZmZmZAUAsZmZmZmYCQPgyMzMzMwNAxP//////A0CQzMzMzMwEQFyZmZmZmQVAKGZmZmZmBkD0MjMzMzMHQMD//////wdAjMzMzMzMCEBYmZmZmZkJQCRmZmZmZgpA8DIzMzMzC0C8//////8LQIjMzMzMzAxAVJmZmZmZDUAgZmZmZmYOQOwyMzMzMw9AuP//////D0BCZmZmZmYQQKjMzMzMzBBADjMzMzMzEUB0mZmZmZkRQNr//////xFAQGZmZmZmEkCmzMzMzMwSQAwzMzMzMxNAcpmZmZmZE0DY//////8TQA==\",\"dtype\":\"float64\",\"shape\":[101]},\"y\":{\"__ndarray__\":\"AAAAAAAAOUDE9ShcjwI4QAzXo3A9CjdA2qNwPQoXNkAtXI/C9Sg1QAUAAAAAQDRAYY/C9ShcM0BDCtejcH0yQKtwPQrXozFAl8L1KFzPMEAIAAAAAAAwQP1RuB6Fay5A9HoUrkfhLED1ehSuR2ErQABSuB6F6ylAFQAAAACAKEA0hetRuB4nQF7hehSuxyVAkhSuR+F6JEDQHoXrUTgjQBgAAAAAACJAargehevRIECNj8L1KFwfQFtcj8L1KB1APNejcD0KG0AyAAAAAAAZQDzXo3A9ChdAW1yPwvUoFUCNj8L1KFwTQNVwPQrXoxFAMAAAAAAAEEBAexSuR+EMQEhSuB6F6wlAeIXrUbgeB0DSFK5H4XoEQFQAAAAAAAJA/Y/C9Shc/z+k16NwPQr7P5zXo3A9Cvc/5Y/C9Shc8z+AAAAAAADwP9hSuB6F6+k/UhWuR+F65D/dkML1KFzfP1zYo3A9Ctc/IAEAAAAA0D9SFq5H4XrEP9zZo3A9Crc/UhiuR+F6pD9SHK5H4XqEPwAAAAAAADk6UgyuR+F6hD9SEK5H4XqkP9zTo3A9Crc/UhKuR+F6xD9A/f/////PP1zVo3A9Ctc/XY3C9Shc3z9SE65H4XrkP5hQuB6F6+k/gP7/////7z+FjsL1KFzzPxzWo3A9Cvc/BNajcD0K+z89jsL1KFz/P2T//////wFA0hOuR+F6BEBohOtRuB4HQChRuB6F6wlAEHoUrkfhDEAg//////8PQC1wPQrXoxFA3Y7C9ShcE0CjW4/C9SgVQHzWo3A9ChdAav//////GEBs1qNwPQobQINbj8L1KB1ArY7C9ShcH0D2tx6F69EgQKD//////yFAVB6F61E4I0ASFK5H4XokQNrgehSuxyVArITrUbgeJ0CJ/////38oQHBRuB6F6ylAYXoUrkdhK0BcehSuR+EsQGFRuB6Fay5AcP//////L0BFwvUoXM8wQFdwPQrXozFA7QnXo3B9MkAJj8L1KFwzQKv/////PzRA0VuPwvUoNUB8o3A9Chc2QKzWo3A9CjdAYvUoXI8COECc//////84QA==\",\"dtype\":\"float64\",\"shape\":[101]}},\"selected\":{\"id\":\"bd854a68-f0db-4ec5-bc77-32d21dea4fbc\",\"type\":\"Selection\"},\"selection_policy\":{\"id\":\"583534d4-cdfa-4e4f-9355-b3d90f560f75\",\"type\":\"UnionRenderers\"}},\"id\":\"fba5faa0-9f40-4850-a004-33d0efbe2d74\",\"type\":\"ColumnDataSource\"},{\"attributes\":{},\"id\":\"e56b7345-81cc-4161-9495-f621aaa9884e\",\"type\":\"UnionRenderers\"},{\"attributes\":{},\"id\":\"6009ef54-f5a8-4621-b58e-7c61149dd304\",\"type\":\"Selection\"},{\"attributes\":{\"below\":[{\"id\":\"bd4e8d26-135c-462a-895f-f13ddedbb484\",\"type\":\"LinearAxis\"}],\"left\":[{\"id\":\"840fc981-91a8-4a53-a277-86f6115f3784\",\"type\":\"LinearAxis\"}],\"plot_height\":500,\"plot_width\":950,\"renderers\":[{\"id\":\"bd4e8d26-135c-462a-895f-f13ddedbb484\",\"type\":\"LinearAxis\"},{\"id\":\"a3a8909d-6a57-4a37-9693-024ea99dbe42\",\"type\":\"Grid\"},{\"id\":\"840fc981-91a8-4a53-a277-86f6115f3784\",\"type\":\"LinearAxis\"},{\"id\":\"f1de57d0-fd9e-4b94-9aa5-0ea1cc4e7465\",\"type\":\"Grid\"},{\"id\":\"01522ca6-b837-45a7-b0cc-69929cacc8db\",\"type\":\"BoxAnnotation\"},{\"id\":\"d46280dc-4907-4d12-810d-3d6646a5f015\",\"type\":\"GlyphRenderer\"},{\"id\":\"b1560b0c-7f5f-44d9-9893-1c6fc57db663\",\"type\":\"GlyphRenderer\"},{\"id\":\"84a90ca7-4be3-45b0-bf46-16277fdef850\",\"type\":\"GlyphRenderer\"},{\"id\":\"dc6d5764-42c4-4a2c-9214-dfdf66b23a3f\",\"type\":\"GlyphRenderer\"},{\"id\":\"58b725d2-f7aa-405f-aca6-4606a113ffa2\",\"type\":\"GlyphRenderer\"},{\"id\":\"5149dcf6-3d65-48ce-853b-933f2c637934\",\"type\":\"GlyphRenderer\"},{\"id\":\"f8bb73c8-6ae6-4467-81af-4fec95a46c80\",\"type\":\"GlyphRenderer\"},{\"id\":\"0ef9ba12-fb87-4d8d-8570-b62bbdd9f778\",\"type\":\"GlyphRenderer\"},{\"id\":\"fc89d477-cf73-4d84-b35e-f1417af429d1\",\"type\":\"GlyphRenderer\"}],\"title\":{\"id\":\"b618fb4d-9893-4cb8-a62a-1a445e0b7aa7\",\"type\":\"Title\"},\"toolbar\":{\"id\":\"31c337b1-31ef-4c54-b2ce-412fff0622b0\",\"type\":\"Toolbar\"},\"toolbar_location\":\"below\",\"x_range\":{\"id\":\"9e4ea4b9-5445-455f-a460-c0ed6a4b726b\",\"type\":\"DataRange1d\"},\"x_scale\":{\"id\":\"6b0409d5-3305-4bea-a585-8f0de9d9431b\",\"type\":\"LinearScale\"},\"y_range\":{\"id\":\"5340d670-3022-4c8b-9bd2-cf7744156eee\",\"type\":\"DataRange1d\"},\"y_scale\":{\"id\":\"c767e623-20fb-4cd7-8aa6-f889dfc05228\",\"type\":\"LinearScale\"}},\"id\":\"51a0cb40-6bd6-43a0-a963-c6bab15e4c02\",\"subtype\":\"Figure\",\"type\":\"Plot\"}],\"root_ids\":[\"51a0cb40-6bd6-43a0-a963-c6bab15e4c02\"]},\"title\":\"Bokeh Application\",\"version\":\"0.13.0\"}};\n",
       "  var render_items = [{\"docid\":\"4da03d59-26a1-495b-912f-4b2aa333dbae\",\"roots\":{\"51a0cb40-6bd6-43a0-a963-c6bab15e4c02\":\"2ba2e093-b259-4895-9e97-75b99fa928ea\"}}];\n",
       "  root.Bokeh.embed.embed_items_notebook(docs_json, render_items);\n",
       "\n",
       "  }\n",
       "  if (root.Bokeh !== undefined) {\n",
       "    embed_document(root);\n",
       "  } else {\n",
       "    var attempts = 0;\n",
       "    var timer = setInterval(function(root) {\n",
       "      if (root.Bokeh !== undefined) {\n",
       "        embed_document(root);\n",
       "        clearInterval(timer);\n",
       "      }\n",
       "      attempts++;\n",
       "      if (attempts > 100) {\n",
       "        console.log(\"Bokeh: ERROR: Unable to run BokehJS code because BokehJS library is missing\")\n",
       "        clearInterval(timer);\n",
       "      }\n",
       "    }, 10, root)\n",
       "  }\n",
       "})(window);"
      ],
      "application/vnd.bokehjs_exec.v0+json": ""
     },
     "metadata": {
      "application/vnd.bokehjs_exec.v0+json": {
       "id": "51a0cb40-6bd6-43a0-a963-c6bab15e4c02"
      }
     },
     "output_type": "display_data"
    }
   ],
   "source": [
    "p.line(x,g1(x),line_width=3,color='black',line_dash='dashed')\n",
    "show(p)"
   ]
  },
  {
   "cell_type": "markdown",
   "metadata": {},
   "source": [
    "Maps onto what we had before! Naturally a closed form solution is always preferable, but it is quite interesting that we could approximate the rate of change by plugging in a a range of values into our computer."
   ]
  },
  {
   "cell_type": "code",
   "execution_count": 18,
   "metadata": {},
   "outputs": [],
   "source": [
    "def deriv(x,func,nudge=.001):\n",
    "    '''\n",
    "    More generic derivative function\n",
    "    '''\n",
    "    return (func(x + nudge) - func(x))/nudge"
   ]
  },
  {
   "cell_type": "markdown",
   "metadata": {},
   "source": [
    "Does this work on a really complex function... let's return to $h(x)$ which is the $\\cos x$\n",
    "\n",
    "let's apply our simple derivative function to this..."
   ]
  },
  {
   "cell_type": "code",
   "execution_count": 19,
   "metadata": {},
   "outputs": [],
   "source": [
    "def h(x):\n",
    "    return np.sin(x)"
   ]
  },
  {
   "cell_type": "code",
   "execution_count": 20,
   "metadata": {},
   "outputs": [
    {
     "data": {
      "text/html": [
       "\n",
       "\n",
       "\n",
       "\n",
       "\n",
       "\n",
       "  <div class=\"bk-root\" id=\"39b8a520-ca14-4b53-bf2b-86aa0c320837\"></div>\n"
      ]
     },
     "metadata": {},
     "output_type": "display_data"
    },
    {
     "data": {
      "application/javascript": [
       "(function(root) {\n",
       "  function embed_document(root) {\n",
       "    \n",
       "  var docs_json = {\"d1518063-ee76-4281-b0c4-ca4c0890279a\":{\"roots\":{\"references\":[{\"attributes\":{},\"id\":\"56eb09c2-2241-4480-9248-4d1885aba111\",\"type\":\"BasicTickFormatter\"},{\"attributes\":{\"overlay\":{\"id\":\"3f4cfde6-78e8-4dca-92e1-b9278aad9b2a\",\"type\":\"BoxAnnotation\"}},\"id\":\"d1ad09e5-27af-4485-96c2-58d65869b165\",\"type\":\"BoxZoomTool\"},{\"attributes\":{},\"id\":\"5e9b1a67-a8f0-44bf-ae1d-47995027fa76\",\"type\":\"SaveTool\"},{\"attributes\":{\"callback\":null},\"id\":\"43ecbd84-f2fb-4df4-8514-c7c4671dd49f\",\"type\":\"DataRange1d\"},{\"attributes\":{},\"id\":\"daed76db-d93f-4d17-96dc-4f007b4c9cb6\",\"type\":\"ResetTool\"},{\"attributes\":{},\"id\":\"e51218dd-4a9e-4cf4-8176-ac8a60a12772\",\"type\":\"HelpTool\"},{\"attributes\":{},\"id\":\"914f1469-5bfe-485c-8cad-d44ad5153188\",\"type\":\"PanTool\"},{\"attributes\":{\"bottom_units\":\"screen\",\"fill_alpha\":{\"value\":0.5},\"fill_color\":{\"value\":\"lightgrey\"},\"left_units\":\"screen\",\"level\":\"overlay\",\"line_alpha\":{\"value\":1.0},\"line_color\":{\"value\":\"black\"},\"line_dash\":[4,4],\"line_width\":{\"value\":2},\"plot\":null,\"render_mode\":\"css\",\"right_units\":\"screen\",\"top_units\":\"screen\"},\"id\":\"3f4cfde6-78e8-4dca-92e1-b9278aad9b2a\",\"type\":\"BoxAnnotation\"},{\"attributes\":{\"below\":[{\"id\":\"882a6356-0770-4d02-99a9-6837052dd548\",\"type\":\"LinearAxis\"}],\"left\":[{\"id\":\"2dfc3d67-e62f-4d46-a234-29ba5562b09d\",\"type\":\"LinearAxis\"}],\"plot_height\":500,\"plot_width\":950,\"renderers\":[{\"id\":\"882a6356-0770-4d02-99a9-6837052dd548\",\"type\":\"LinearAxis\"},{\"id\":\"5708b814-63aa-46dc-8b9e-849903f8c8b0\",\"type\":\"Grid\"},{\"id\":\"2dfc3d67-e62f-4d46-a234-29ba5562b09d\",\"type\":\"LinearAxis\"},{\"id\":\"3eef4bca-609d-41f6-b355-86c249400d4d\",\"type\":\"Grid\"},{\"id\":\"3f4cfde6-78e8-4dca-92e1-b9278aad9b2a\",\"type\":\"BoxAnnotation\"},{\"id\":\"861690a2-794b-4d32-81dd-3ea4ad63caa7\",\"type\":\"GlyphRenderer\"},{\"id\":\"c055d7d4-9f57-4f06-a86e-2b89f5e7f254\",\"type\":\"GlyphRenderer\"}],\"title\":{\"id\":\"547f2799-8f0e-4e76-99eb-380ce8beb03b\",\"type\":\"Title\"},\"toolbar\":{\"id\":\"0a85fb55-e3e3-4427-9c12-fd8f30f9cc46\",\"type\":\"Toolbar\"},\"toolbar_location\":\"below\",\"x_range\":{\"id\":\"7f79e181-b357-4846-bbb4-7cac2d93ebb5\",\"type\":\"DataRange1d\"},\"x_scale\":{\"id\":\"3ca36ca5-8862-4b56-9808-803211197e79\",\"type\":\"LinearScale\"},\"y_range\":{\"id\":\"43ecbd84-f2fb-4df4-8514-c7c4671dd49f\",\"type\":\"DataRange1d\"},\"y_scale\":{\"id\":\"f8e77d67-d139-44d0-90ce-2a8ff516f5dc\",\"type\":\"LinearScale\"}},\"id\":\"9f56fb37-866e-484f-851f-91b7ac5afcf9\",\"subtype\":\"Figure\",\"type\":\"Plot\"},{\"attributes\":{\"active_drag\":\"auto\",\"active_inspect\":\"auto\",\"active_multi\":null,\"active_scroll\":\"auto\",\"active_tap\":\"auto\",\"tools\":[{\"id\":\"914f1469-5bfe-485c-8cad-d44ad5153188\",\"type\":\"PanTool\"},{\"id\":\"66744689-52b8-4dd0-88d7-0eb3ca2609da\",\"type\":\"WheelZoomTool\"},{\"id\":\"d1ad09e5-27af-4485-96c2-58d65869b165\",\"type\":\"BoxZoomTool\"},{\"id\":\"5e9b1a67-a8f0-44bf-ae1d-47995027fa76\",\"type\":\"SaveTool\"},{\"id\":\"daed76db-d93f-4d17-96dc-4f007b4c9cb6\",\"type\":\"ResetTool\"},{\"id\":\"e51218dd-4a9e-4cf4-8176-ac8a60a12772\",\"type\":\"HelpTool\"}]},\"id\":\"0a85fb55-e3e3-4427-9c12-fd8f30f9cc46\",\"type\":\"Toolbar\"},{\"attributes\":{\"data_source\":{\"id\":\"5f46308e-a18c-412d-b5f8-d6ccc587fccc\",\"type\":\"ColumnDataSource\"},\"glyph\":{\"id\":\"5a762b24-6d8d-4859-925e-b9e2ea884fab\",\"type\":\"Line\"},\"hover_glyph\":null,\"muted_glyph\":null,\"nonselection_glyph\":{\"id\":\"5d3c8c45-fe7f-4e5c-a617-3e65de7a9086\",\"type\":\"Line\"},\"selection_glyph\":null,\"view\":{\"id\":\"0450dc5a-b68b-49a2-b1fd-0e64ffeaab06\",\"type\":\"CDSView\"}},\"id\":\"c055d7d4-9f57-4f06-a86e-2b89f5e7f254\",\"type\":\"GlyphRenderer\"},{\"attributes\":{\"line_alpha\":0.3,\"line_color\":\"red\",\"line_dash\":[6],\"line_width\":3,\"x\":{\"field\":\"x\"},\"y\":{\"field\":\"y\"}},\"id\":\"5a762b24-6d8d-4859-925e-b9e2ea884fab\",\"type\":\"Line\"},{\"attributes\":{\"line_alpha\":0.1,\"line_color\":\"#1f77b4\",\"line_width\":3,\"x\":{\"field\":\"x\"},\"y\":{\"field\":\"y\"}},\"id\":\"440d82ad-96e1-476b-9152-54143e949c02\",\"type\":\"Line\"},{\"attributes\":{\"line_alpha\":0.1,\"line_color\":\"#1f77b4\",\"line_dash\":[6],\"line_width\":3,\"x\":{\"field\":\"x\"},\"y\":{\"field\":\"y\"}},\"id\":\"5d3c8c45-fe7f-4e5c-a617-3e65de7a9086\",\"type\":\"Line\"},{\"attributes\":{\"axis_label\":\"X\",\"formatter\":{\"id\":\"56eb09c2-2241-4480-9248-4d1885aba111\",\"type\":\"BasicTickFormatter\"},\"plot\":{\"id\":\"9f56fb37-866e-484f-851f-91b7ac5afcf9\",\"subtype\":\"Figure\",\"type\":\"Plot\"},\"ticker\":{\"id\":\"575f056e-703e-4e8b-b944-90e4a1d9fad4\",\"type\":\"BasicTicker\"}},\"id\":\"882a6356-0770-4d02-99a9-6837052dd548\",\"type\":\"LinearAxis\"},{\"attributes\":{\"source\":{\"id\":\"5f46308e-a18c-412d-b5f8-d6ccc587fccc\",\"type\":\"ColumnDataSource\"}},\"id\":\"0450dc5a-b68b-49a2-b1fd-0e64ffeaab06\",\"type\":\"CDSView\"},{\"attributes\":{},\"id\":\"3ef48b9d-9a6c-431c-b429-77c9fabf2c89\",\"type\":\"BasicTickFormatter\"},{\"attributes\":{},\"id\":\"61bd956a-04ab-47f4-aa08-5346d561daef\",\"type\":\"Selection\"},{\"attributes\":{\"callback\":null},\"id\":\"7f79e181-b357-4846-bbb4-7cac2d93ebb5\",\"type\":\"DataRange1d\"},{\"attributes\":{\"data_source\":{\"id\":\"3fa38507-61d0-4c31-9d32-0ed7bfbacfbb\",\"type\":\"ColumnDataSource\"},\"glyph\":{\"id\":\"8c13ec4e-53fb-4d6d-b098-ed1413253e61\",\"type\":\"Line\"},\"hover_glyph\":null,\"muted_glyph\":null,\"nonselection_glyph\":{\"id\":\"440d82ad-96e1-476b-9152-54143e949c02\",\"type\":\"Line\"},\"selection_glyph\":null,\"view\":{\"id\":\"b6472f71-b113-43d8-bdab-e4bb68ed259b\",\"type\":\"CDSView\"}},\"id\":\"861690a2-794b-4d32-81dd-3ea4ad63caa7\",\"type\":\"GlyphRenderer\"},{\"attributes\":{},\"id\":\"f8e77d67-d139-44d0-90ce-2a8ff516f5dc\",\"type\":\"LinearScale\"},{\"attributes\":{},\"id\":\"abdb8072-544f-4a65-8097-b8e28dc2bc34\",\"type\":\"UnionRenderers\"},{\"attributes\":{},\"id\":\"c5ed961f-a0c4-40a9-856c-7f2d79adefeb\",\"type\":\"Selection\"},{\"attributes\":{},\"id\":\"575f056e-703e-4e8b-b944-90e4a1d9fad4\",\"type\":\"BasicTicker\"},{\"attributes\":{},\"id\":\"52057224-afb2-41c1-aeb4-3235549d924f\",\"type\":\"UnionRenderers\"},{\"attributes\":{},\"id\":\"3ca36ca5-8862-4b56-9808-803211197e79\",\"type\":\"LinearScale\"},{\"attributes\":{\"plot\":{\"id\":\"9f56fb37-866e-484f-851f-91b7ac5afcf9\",\"subtype\":\"Figure\",\"type\":\"Plot\"},\"ticker\":{\"id\":\"575f056e-703e-4e8b-b944-90e4a1d9fad4\",\"type\":\"BasicTicker\"}},\"id\":\"5708b814-63aa-46dc-8b9e-849903f8c8b0\",\"type\":\"Grid\"},{\"attributes\":{\"source\":{\"id\":\"3fa38507-61d0-4c31-9d32-0ed7bfbacfbb\",\"type\":\"ColumnDataSource\"}},\"id\":\"b6472f71-b113-43d8-bdab-e4bb68ed259b\",\"type\":\"CDSView\"},{\"attributes\":{\"plot\":null,\"text\":\"\"},\"id\":\"547f2799-8f0e-4e76-99eb-380ce8beb03b\",\"type\":\"Title\"},{\"attributes\":{\"line_color\":\"#1f77b4\",\"line_width\":3,\"x\":{\"field\":\"x\"},\"y\":{\"field\":\"y\"}},\"id\":\"8c13ec4e-53fb-4d6d-b098-ed1413253e61\",\"type\":\"Line\"},{\"attributes\":{\"callback\":null,\"data\":{\"x\":{\"__ndarray__\":\"AAAAAAAAFMCamZmZmZkTwDQzMzMzMxPAzszMzMzMEsBoZmZmZmYSwAIAAAAAABLAnJmZmZmZEcA2MzMzMzMRwNDMzMzMzBDAamZmZmZmEMAEAAAAAAAQwDwzMzMzMw/AcGZmZmZmDsCkmZmZmZkNwNjMzMzMzAzADAAAAAAADMBAMzMzMzMLwHRmZmZmZgrAqJmZmZmZCcDczMzMzMwIwBAAAAAAAAjARDMzMzMzB8B4ZmZmZmYGwKyZmZmZmQXA4MzMzMzMBMAUAAAAAAAEwEgzMzMzMwPAfGZmZmZmAsCwmZmZmZkBwOTMzMzMzADAGAAAAAAAAMCYZmZmZmb+vwDNzMzMzPy/aDMzMzMz+7/QmZmZmZn5vzgAAAAAAPi/oGZmZmZm9r8IzczMzMz0v3AzMzMzM/O/2JmZmZmZ8b9AAAAAAADwv1DNzMzMzOy/IJqZmZmZ6b/wZmZmZmbmv8AzMzMzM+O/kAAAAAAA4L/AmpmZmZnZv2A0MzMzM9O/AJyZmZmZyb+AnpmZmZm5vwAAAAAAABS9gJSZmZmZuT8Al5mZmZnJP+AxMzMzM9M/QJiZmZmZ2T+g/v/////fP4AyMzMzM+M/sGVmZmZm5j/gmJmZmZnpPxDMzMzMzOw/QP//////7z84mZmZmZnxP9AyMzMzM/M/aMzMzMzM9D8AZmZmZmb2P5j///////c/MJmZmZmZ+T/IMjMzMzP7P2DMzMzMzPw/+GVmZmZm/j+Q////////P5TMzMzMzABAYJmZmZmZAUAsZmZmZmYCQPgyMzMzMwNAxP//////A0CQzMzMzMwEQFyZmZmZmQVAKGZmZmZmBkD0MjMzMzMHQMD//////wdAjMzMzMzMCEBYmZmZmZkJQCRmZmZmZgpA8DIzMzMzC0C8//////8LQIjMzMzMzAxAVJmZmZmZDUAgZmZmZmYOQOwyMzMzMw9AuP//////D0BCZmZmZmYQQKjMzMzMzBBADjMzMzMzEUB0mZmZmZkRQNr//////xFAQGZmZmZmEkCmzMzMzMwSQAwzMzMzMxNAcpmZmZmZE0DY//////8TQA==\",\"dtype\":\"float64\",\"shape\":[101]},\"y\":{\"__ndarray__\":\"wFkOVrwm0j9AvMQUB97HPwDH9bIRY7Y/AOSyoXB5ib+AGxG8SLm8vwB4FlX1/Mq/gAmVDB+s078gEaezcafZv+AICLQlYd+/4Klb/Upl4r9Qt4hh9erkv0C9o38eO+e/wCaWrNtP6b+AG2o72iPrv9BN1hptsuy/YMouy5j37b84riKOHfDuv1RCObZ/me+/gHjNAA7y77/i7kXq5fjvvxgdevH1re+/CEZ4xP0R778QyjpWjCbuvyj9MuL77ey/8GTa52tr678w/rAtuaLpv9CPFOBzmOe/gIY45dNR5b+QKxmEq9Tiv1Cgi4BYJ+C/oDAMpWeh2r/gsoZEALDUvwDvPNhcE82/QFP5BFp8wL8AFl3BYNmdv4CMrxEaH7I/QE1TDxnDxT8gyVJ6fR/RP4AeDQqiMdc/ADRM7HII3T/A00lLgErhP1D6SbmM5OM/AGYzFrdL5j+Augbf2XnoP+DYjHBhaeo/CKoNS1oV7D8ALGe8fXntP8iSI9A8ku4/TCCUaclc7z8WMqZwHdfvP2LvGv///+8/qirigAjX7z/koZm/n1zvP3DVhNb+ke4/GCiqESx57T+wPRfA9RTsP1C7iQbraOo/UDbaxFJ56D9AbnClIEvmP+D+vnLo4+M/QLco089J4T8gu6If/QbdP0CvHR0bMNc/YPgMVekd0T8ATptn3r/FPwDo2YyQGLI/ADq8x5Tznb/ALV/jmX/Av0DmbMSNFs2/oE65LI2x1L+AhR0I5aLavwC6vocNKOC/oPjqEVXV4r/ALfdHcFLlv3C9u4cBmee/4JXrrzaj6b+wV58D2Gvrv4Ba+4JV7uy/OOvEltIm7r9EAhLxLxLvv9y5zIkTru+/FDWeou747785Wd3CAfLvv8j7UKFeme+/MHrg9ufv7r9g3KY6T/ftv7i6M00Qsuy/MKANHmsj678APbdbW0/pvwCueUOOOue/4BICq1bq5L9Q0HBin2TivyDGSyO4X9+/oGEVb/Gl2b+gYBbrj6rTv4CaF1LB+cq/AGsHmcWyvL8AQITjA0WJvwBYZfyYabY/gKrcOD/hxz9AEcSJTijSPw==\",\"dtype\":\"float64\",\"shape\":[101]}},\"selected\":{\"id\":\"c5ed961f-a0c4-40a9-856c-7f2d79adefeb\",\"type\":\"Selection\"},\"selection_policy\":{\"id\":\"52057224-afb2-41c1-aeb4-3235549d924f\",\"type\":\"UnionRenderers\"}},\"id\":\"5f46308e-a18c-412d-b5f8-d6ccc587fccc\",\"type\":\"ColumnDataSource\"},{\"attributes\":{\"axis_label\":\"f(X)\",\"formatter\":{\"id\":\"3ef48b9d-9a6c-431c-b429-77c9fabf2c89\",\"type\":\"BasicTickFormatter\"},\"plot\":{\"id\":\"9f56fb37-866e-484f-851f-91b7ac5afcf9\",\"subtype\":\"Figure\",\"type\":\"Plot\"},\"ticker\":{\"id\":\"5001c882-2fe8-48cc-b9c4-4afac906f772\",\"type\":\"BasicTicker\"}},\"id\":\"2dfc3d67-e62f-4d46-a234-29ba5562b09d\",\"type\":\"LinearAxis\"},{\"attributes\":{\"dimension\":1,\"plot\":{\"id\":\"9f56fb37-866e-484f-851f-91b7ac5afcf9\",\"subtype\":\"Figure\",\"type\":\"Plot\"},\"ticker\":{\"id\":\"5001c882-2fe8-48cc-b9c4-4afac906f772\",\"type\":\"BasicTicker\"}},\"id\":\"3eef4bca-609d-41f6-b355-86c249400d4d\",\"type\":\"Grid\"},{\"attributes\":{},\"id\":\"5001c882-2fe8-48cc-b9c4-4afac906f772\",\"type\":\"BasicTicker\"},{\"attributes\":{},\"id\":\"66744689-52b8-4dd0-88d7-0eb3ca2609da\",\"type\":\"WheelZoomTool\"},{\"attributes\":{\"callback\":null,\"data\":{\"x\":{\"__ndarray__\":\"AAAAAAAAFMCamZmZmZkTwDQzMzMzMxPAzszMzMzMEsBoZmZmZmYSwAIAAAAAABLAnJmZmZmZEcA2MzMzMzMRwNDMzMzMzBDAamZmZmZmEMAEAAAAAAAQwDwzMzMzMw/AcGZmZmZmDsCkmZmZmZkNwNjMzMzMzAzADAAAAAAADMBAMzMzMzMLwHRmZmZmZgrAqJmZmZmZCcDczMzMzMwIwBAAAAAAAAjARDMzMzMzB8B4ZmZmZmYGwKyZmZmZmQXA4MzMzMzMBMAUAAAAAAAEwEgzMzMzMwPAfGZmZmZmAsCwmZmZmZkBwOTMzMzMzADAGAAAAAAAAMCYZmZmZmb+vwDNzMzMzPy/aDMzMzMz+7/QmZmZmZn5vzgAAAAAAPi/oGZmZmZm9r8IzczMzMz0v3AzMzMzM/O/2JmZmZmZ8b9AAAAAAADwv1DNzMzMzOy/IJqZmZmZ6b/wZmZmZmbmv8AzMzMzM+O/kAAAAAAA4L/AmpmZmZnZv2A0MzMzM9O/AJyZmZmZyb+AnpmZmZm5vwAAAAAAABS9gJSZmZmZuT8Al5mZmZnJP+AxMzMzM9M/QJiZmZmZ2T+g/v/////fP4AyMzMzM+M/sGVmZmZm5j/gmJmZmZnpPxDMzMzMzOw/QP//////7z84mZmZmZnxP9AyMzMzM/M/aMzMzMzM9D8AZmZmZmb2P5j///////c/MJmZmZmZ+T/IMjMzMzP7P2DMzMzMzPw/+GVmZmZm/j+Q////////P5TMzMzMzABAYJmZmZmZAUAsZmZmZmYCQPgyMzMzMwNAxP//////A0CQzMzMzMwEQFyZmZmZmQVAKGZmZmZmBkD0MjMzMzMHQMD//////wdAjMzMzMzMCEBYmZmZmZkJQCRmZmZmZgpA8DIzMzMzC0C8//////8LQIjMzMzMzAxAVJmZmZmZDUAgZmZmZmYOQOwyMzMzMw9AuP//////D0BCZmZmZmYQQKjMzMzMzBBADjMzMzMzEUB0mZmZmZkRQNr//////xFAQGZmZmZmEkCmzMzMzMwSQAwzMzMzMxNAcpmZmZmZE0DY//////8TQA==\",\"dtype\":\"float64\",\"shape\":[101]},\"y\":{\"__ndarray__\":\"M5ng9YGv7j+k6yJ2QHDvP/89DJqU4O8/U+w3D1//7z+77F0TUczvP4RAxz3tR+8/9ChFMYZz7j8vigE6O1HtP+MS0N/y4+s/ysjielMv6j/DHtzduTfoP+WzHy0uAuY/vcDs/1aU4z9jGy7savTgP0DS8ENBUtw/eWK6fjtz1j/RTP8QyVrQP2QNt8oCMcQ/sDDoOTfjrT9vDJiCD0qlv13Utm04EMK/2i9I1rifzr9A5V0jcnDVv4qmJCQxWtu/eoWgu/x+4L9wys8Nrybjv13Rw/VkneW/6i5YLdHc57/U1qrZM9/pv81y6z9pn+u/HrTR6vYY7b83OBofF0juv9kVvYHCKe+/qZgv17e777/CQuDHgfzvv5NtLJt66++/FuFE382I779rHsX5d9Xuv/FVGqJD0+2/cGMtTMWE7L8zDQmPVO3qv5KoXZgDEem/Kv+/wpT05r8iGkZpbp3kv81BpReNEeK/7QZLdOiu3r96aCvpOuzYv1O7upXN6dK/FtU9I/9tyb8M0IvLro65vwAAAAAAABS9GcaLy66OuT8w0D0j/23JP++4upXN6dI/LGYr6Trs2D+7BEt06K7eP8VApReNEeI/LRlGaW6d5D9M/r/ClPTmP8unXZgDEek/hgwJj1Tt6j/fYi1MxYTsP31VGqJD0+0/FR7F+XfV7j/g4ETfzYjvP3xtLJt66+8/zELgx4H87z/SmC/Xt7vvPyIWvYHCKe8/njgaHxdI7j+jtNHq9hjtP25z6z9pn+s/kNeq2TPf6T/AL1gt0dznP0nSw/VkneU/ccvPDa8m4z+MhqC7/H7gP8yoJCQxWts/m+ddI3Jw1T+1NEjWuJ/OP1HZtm04EMI/ayCYgg9KpT+5HOg5N+Otv3QIt8oCMcS/Zkr/EMla0L8iYLp+O3PWvwLQ8ENBUty/Uxou7Gr04L/Av+z/VpTjv/2yHy0uAua/8h3c3bk36L8TyOJ6Uy/qv0YS0N/y4+u/r4kBOjtR7b+SKEUxhnPuv0BAxz3tR++/l+xdE1HM779P7DcPX//vvxs+DJqU4O+/3+sidkBw77+OmeD1ga/uvw==\",\"dtype\":\"float64\",\"shape\":[101]}},\"selected\":{\"id\":\"61bd956a-04ab-47f4-aa08-5346d561daef\",\"type\":\"Selection\"},\"selection_policy\":{\"id\":\"abdb8072-544f-4a65-8097-b8e28dc2bc34\",\"type\":\"UnionRenderers\"}},\"id\":\"3fa38507-61d0-4c31-9d32-0ed7bfbacfbb\",\"type\":\"ColumnDataSource\"}],\"root_ids\":[\"9f56fb37-866e-484f-851f-91b7ac5afcf9\"]},\"title\":\"Bokeh Application\",\"version\":\"0.13.0\"}};\n",
       "  var render_items = [{\"docid\":\"d1518063-ee76-4281-b0c4-ca4c0890279a\",\"roots\":{\"9f56fb37-866e-484f-851f-91b7ac5afcf9\":\"39b8a520-ca14-4b53-bf2b-86aa0c320837\"}}];\n",
       "  root.Bokeh.embed.embed_items_notebook(docs_json, render_items);\n",
       "\n",
       "  }\n",
       "  if (root.Bokeh !== undefined) {\n",
       "    embed_document(root);\n",
       "  } else {\n",
       "    var attempts = 0;\n",
       "    var timer = setInterval(function(root) {\n",
       "      if (root.Bokeh !== undefined) {\n",
       "        embed_document(root);\n",
       "        clearInterval(timer);\n",
       "      }\n",
       "      attempts++;\n",
       "      if (attempts > 100) {\n",
       "        console.log(\"Bokeh: ERROR: Unable to run BokehJS code because BokehJS library is missing\")\n",
       "        clearInterval(timer);\n",
       "      }\n",
       "    }, 10, root)\n",
       "  }\n",
       "})(window);"
      ],
      "application/vnd.bokehjs_exec.v0+json": ""
     },
     "metadata": {
      "application/vnd.bokehjs_exec.v0+json": {
       "id": "9f56fb37-866e-484f-851f-91b7ac5afcf9"
      }
     },
     "output_type": "display_data"
    }
   ],
   "source": [
    "p = plot()\n",
    "p.line(x,h(x),line_width=3)\n",
    "p.line(x,deriv(x,h,nudge=.0001),color=\"red\",line_width=3,alpha=.3,line_dash='dashed')\n",
    "show(p)"
   ]
  },
  {
   "cell_type": "markdown",
   "metadata": {},
   "source": [
    "What does the derivative look like? The $\\cos x$ function (which is in fact the derivative for the $\\sin x$)!"
   ]
  },
  {
   "cell_type": "code",
   "execution_count": 21,
   "metadata": {},
   "outputs": [
    {
     "data": {
      "text/html": [
       "\n",
       "\n",
       "\n",
       "\n",
       "\n",
       "\n",
       "  <div class=\"bk-root\" id=\"aaa5710f-1395-480e-b46e-3713988172a2\"></div>\n"
      ]
     },
     "metadata": {},
     "output_type": "display_data"
    },
    {
     "data": {
      "application/javascript": [
       "(function(root) {\n",
       "  function embed_document(root) {\n",
       "    \n",
       "  var docs_json = {\"c66a9026-365c-49a7-a4e7-5b2bcf7098ee\":{\"roots\":{\"references\":[{\"attributes\":{},\"id\":\"56eb09c2-2241-4480-9248-4d1885aba111\",\"type\":\"BasicTickFormatter\"},{\"attributes\":{\"overlay\":{\"id\":\"3f4cfde6-78e8-4dca-92e1-b9278aad9b2a\",\"type\":\"BoxAnnotation\"}},\"id\":\"d1ad09e5-27af-4485-96c2-58d65869b165\",\"type\":\"BoxZoomTool\"},{\"attributes\":{},\"id\":\"5e9b1a67-a8f0-44bf-ae1d-47995027fa76\",\"type\":\"SaveTool\"},{\"attributes\":{\"callback\":null},\"id\":\"43ecbd84-f2fb-4df4-8514-c7c4671dd49f\",\"type\":\"DataRange1d\"},{\"attributes\":{},\"id\":\"daed76db-d93f-4d17-96dc-4f007b4c9cb6\",\"type\":\"ResetTool\"},{\"attributes\":{},\"id\":\"6d5325d7-28be-49f0-b9ea-48548b6a866f\",\"type\":\"UnionRenderers\"},{\"attributes\":{},\"id\":\"e51218dd-4a9e-4cf4-8176-ac8a60a12772\",\"type\":\"HelpTool\"},{\"attributes\":{},\"id\":\"914f1469-5bfe-485c-8cad-d44ad5153188\",\"type\":\"PanTool\"},{\"attributes\":{\"bottom_units\":\"screen\",\"fill_alpha\":{\"value\":0.5},\"fill_color\":{\"value\":\"lightgrey\"},\"left_units\":\"screen\",\"level\":\"overlay\",\"line_alpha\":{\"value\":1.0},\"line_color\":{\"value\":\"black\"},\"line_dash\":[4,4],\"line_width\":{\"value\":2},\"plot\":null,\"render_mode\":\"css\",\"right_units\":\"screen\",\"top_units\":\"screen\"},\"id\":\"3f4cfde6-78e8-4dca-92e1-b9278aad9b2a\",\"type\":\"BoxAnnotation\"},{\"attributes\":{\"below\":[{\"id\":\"882a6356-0770-4d02-99a9-6837052dd548\",\"type\":\"LinearAxis\"}],\"left\":[{\"id\":\"2dfc3d67-e62f-4d46-a234-29ba5562b09d\",\"type\":\"LinearAxis\"}],\"plot_height\":500,\"plot_width\":950,\"renderers\":[{\"id\":\"882a6356-0770-4d02-99a9-6837052dd548\",\"type\":\"LinearAxis\"},{\"id\":\"5708b814-63aa-46dc-8b9e-849903f8c8b0\",\"type\":\"Grid\"},{\"id\":\"2dfc3d67-e62f-4d46-a234-29ba5562b09d\",\"type\":\"LinearAxis\"},{\"id\":\"3eef4bca-609d-41f6-b355-86c249400d4d\",\"type\":\"Grid\"},{\"id\":\"3f4cfde6-78e8-4dca-92e1-b9278aad9b2a\",\"type\":\"BoxAnnotation\"},{\"id\":\"861690a2-794b-4d32-81dd-3ea4ad63caa7\",\"type\":\"GlyphRenderer\"},{\"id\":\"c055d7d4-9f57-4f06-a86e-2b89f5e7f254\",\"type\":\"GlyphRenderer\"},{\"id\":\"ae0dc0b6-32e9-400c-a266-6b6197fd8f01\",\"type\":\"GlyphRenderer\"}],\"title\":{\"id\":\"547f2799-8f0e-4e76-99eb-380ce8beb03b\",\"type\":\"Title\"},\"toolbar\":{\"id\":\"0a85fb55-e3e3-4427-9c12-fd8f30f9cc46\",\"type\":\"Toolbar\"},\"toolbar_location\":\"below\",\"x_range\":{\"id\":\"7f79e181-b357-4846-bbb4-7cac2d93ebb5\",\"type\":\"DataRange1d\"},\"x_scale\":{\"id\":\"3ca36ca5-8862-4b56-9808-803211197e79\",\"type\":\"LinearScale\"},\"y_range\":{\"id\":\"43ecbd84-f2fb-4df4-8514-c7c4671dd49f\",\"type\":\"DataRange1d\"},\"y_scale\":{\"id\":\"f8e77d67-d139-44d0-90ce-2a8ff516f5dc\",\"type\":\"LinearScale\"}},\"id\":\"9f56fb37-866e-484f-851f-91b7ac5afcf9\",\"subtype\":\"Figure\",\"type\":\"Plot\"},{\"attributes\":{\"active_drag\":\"auto\",\"active_inspect\":\"auto\",\"active_multi\":null,\"active_scroll\":\"auto\",\"active_tap\":\"auto\",\"tools\":[{\"id\":\"914f1469-5bfe-485c-8cad-d44ad5153188\",\"type\":\"PanTool\"},{\"id\":\"66744689-52b8-4dd0-88d7-0eb3ca2609da\",\"type\":\"WheelZoomTool\"},{\"id\":\"d1ad09e5-27af-4485-96c2-58d65869b165\",\"type\":\"BoxZoomTool\"},{\"id\":\"5e9b1a67-a8f0-44bf-ae1d-47995027fa76\",\"type\":\"SaveTool\"},{\"id\":\"daed76db-d93f-4d17-96dc-4f007b4c9cb6\",\"type\":\"ResetTool\"},{\"id\":\"e51218dd-4a9e-4cf4-8176-ac8a60a12772\",\"type\":\"HelpTool\"}]},\"id\":\"0a85fb55-e3e3-4427-9c12-fd8f30f9cc46\",\"type\":\"Toolbar\"},{\"attributes\":{\"data_source\":{\"id\":\"5f46308e-a18c-412d-b5f8-d6ccc587fccc\",\"type\":\"ColumnDataSource\"},\"glyph\":{\"id\":\"5a762b24-6d8d-4859-925e-b9e2ea884fab\",\"type\":\"Line\"},\"hover_glyph\":null,\"muted_glyph\":null,\"nonselection_glyph\":{\"id\":\"5d3c8c45-fe7f-4e5c-a617-3e65de7a9086\",\"type\":\"Line\"},\"selection_glyph\":null,\"view\":{\"id\":\"0450dc5a-b68b-49a2-b1fd-0e64ffeaab06\",\"type\":\"CDSView\"}},\"id\":\"c055d7d4-9f57-4f06-a86e-2b89f5e7f254\",\"type\":\"GlyphRenderer\"},{\"attributes\":{\"line_alpha\":0.3,\"line_color\":\"red\",\"line_dash\":[6],\"line_width\":3,\"x\":{\"field\":\"x\"},\"y\":{\"field\":\"y\"}},\"id\":\"5a762b24-6d8d-4859-925e-b9e2ea884fab\",\"type\":\"Line\"},{\"attributes\":{\"line_alpha\":0.1,\"line_color\":\"#1f77b4\",\"line_width\":3,\"x\":{\"field\":\"x\"},\"y\":{\"field\":\"y\"}},\"id\":\"440d82ad-96e1-476b-9152-54143e949c02\",\"type\":\"Line\"},{\"attributes\":{\"line_alpha\":0.1,\"line_color\":\"#1f77b4\",\"line_dash\":[6],\"line_width\":3,\"x\":{\"field\":\"x\"},\"y\":{\"field\":\"y\"}},\"id\":\"5d3c8c45-fe7f-4e5c-a617-3e65de7a9086\",\"type\":\"Line\"},{\"attributes\":{\"axis_label\":\"X\",\"formatter\":{\"id\":\"56eb09c2-2241-4480-9248-4d1885aba111\",\"type\":\"BasicTickFormatter\"},\"plot\":{\"id\":\"9f56fb37-866e-484f-851f-91b7ac5afcf9\",\"subtype\":\"Figure\",\"type\":\"Plot\"},\"ticker\":{\"id\":\"575f056e-703e-4e8b-b944-90e4a1d9fad4\",\"type\":\"BasicTicker\"}},\"id\":\"882a6356-0770-4d02-99a9-6837052dd548\",\"type\":\"LinearAxis\"},{\"attributes\":{\"source\":{\"id\":\"5f46308e-a18c-412d-b5f8-d6ccc587fccc\",\"type\":\"ColumnDataSource\"}},\"id\":\"0450dc5a-b68b-49a2-b1fd-0e64ffeaab06\",\"type\":\"CDSView\"},{\"attributes\":{\"callback\":null,\"data\":{\"x\":{\"__ndarray__\":\"AAAAAAAAFMCamZmZmZkTwDQzMzMzMxPAzszMzMzMEsBoZmZmZmYSwAIAAAAAABLAnJmZmZmZEcA2MzMzMzMRwNDMzMzMzBDAamZmZmZmEMAEAAAAAAAQwDwzMzMzMw/AcGZmZmZmDsCkmZmZmZkNwNjMzMzMzAzADAAAAAAADMBAMzMzMzMLwHRmZmZmZgrAqJmZmZmZCcDczMzMzMwIwBAAAAAAAAjARDMzMzMzB8B4ZmZmZmYGwKyZmZmZmQXA4MzMzMzMBMAUAAAAAAAEwEgzMzMzMwPAfGZmZmZmAsCwmZmZmZkBwOTMzMzMzADAGAAAAAAAAMCYZmZmZmb+vwDNzMzMzPy/aDMzMzMz+7/QmZmZmZn5vzgAAAAAAPi/oGZmZmZm9r8IzczMzMz0v3AzMzMzM/O/2JmZmZmZ8b9AAAAAAADwv1DNzMzMzOy/IJqZmZmZ6b/wZmZmZmbmv8AzMzMzM+O/kAAAAAAA4L/AmpmZmZnZv2A0MzMzM9O/AJyZmZmZyb+AnpmZmZm5vwAAAAAAABS9gJSZmZmZuT8Al5mZmZnJP+AxMzMzM9M/QJiZmZmZ2T+g/v/////fP4AyMzMzM+M/sGVmZmZm5j/gmJmZmZnpPxDMzMzMzOw/QP//////7z84mZmZmZnxP9AyMzMzM/M/aMzMzMzM9D8AZmZmZmb2P5j///////c/MJmZmZmZ+T/IMjMzMzP7P2DMzMzMzPw/+GVmZmZm/j+Q////////P5TMzMzMzABAYJmZmZmZAUAsZmZmZmYCQPgyMzMzMwNAxP//////A0CQzMzMzMwEQFyZmZmZmQVAKGZmZmZmBkD0MjMzMzMHQMD//////wdAjMzMzMzMCEBYmZmZmZkJQCRmZmZmZgpA8DIzMzMzC0C8//////8LQIjMzMzMzAxAVJmZmZmZDUAgZmZmZmYOQOwyMzMzMw9AuP//////D0BCZmZmZmYQQKjMzMzMzBBADjMzMzMzEUB0mZmZmZkRQNr//////xFAQGZmZmZmEkCmzMzMzMwSQAwzMzMzMxNAcpmZmZmZE0DY//////8TQA==\",\"dtype\":\"float64\",\"shape\":[101]},\"y\":{\"__ndarray__\":\"2kprcIUn0j9jFnwno9/HP4BATlhVZrY/NGhQQzpfib9LjVkrB7a8vyw9WFRb+8q/i8JifFer078nOxaSsabZv/TGiuxuYN+/UC1qMPVk4r+pJNsGpurkv9HINGLWOue/0qjbhJtP6b8i2X2toiPrv0Us0rQ+suy/ThrBA3T37b/2vV7DAvDuv60Lpyxvme+/ssu54gfy778mplZH6vjvv9vlhb4Eru+/2UCj2xYS779icFd3rybuv8UDZrMo7uy/l/SA9qFr67+ti4Xv96Lpv77RkLS6mOe/IjAwFyJS5b+3rYhLANXivxmfmASzJ+C/s3JTVyai2r9oRjS5xrDUvwcQJU/1FM2/K26i9Pl9wL+xI1/Feuadvyn2xU/VG7I/QVUTvHvBxT98Syposx7RP/B4O5TeMNc/NGDHBrgH3T8gBrUPKErhP7bhkpY65OM/BZhx3mtL5j86nZ9SlnnoP8VaSDwmaeo/C31bBigV7D++otvnVHntP44JL9Qdku4/XGJ3lbRc7z+xF6j5EtfvPwAAAAAAAPA/0Reo+RLX7z+bYneVtFzvP+wJL9Qdku4/O6Pb51R57T+kfVsGKBXsP3pbSDwmaeo/CJ6fUpZ56D/rmHHea0vmP7HikpY65OM/Lge1DyhK4T9uYscGuAfdP0V7O5TeMNc/5E0qaLMe0T8vWhO8e8HFPyMAxk/VG7I/tftexXrmnb81aaL0+X3AvykLJU/1FM2/CkQ0ucaw1L9tcFNXJqLavwSemASzJ+C/tKyISwDV4r8zLzAXIlLlv+bQkLS6mOe/7oqF7/ei6b/y84D2oWvrvzwDZrMo7uy/929Xd68m7r+MQKPbFhLvv67lhb4Eru+/GaZWR+r477/Fy7niB/Lvv+ALpyxvme+/SL5ewwLw7r++GsEDdPftv9Ms0rQ+suy/zNl9raIj67+WqduEm0/pv63JNGLWOue/myXbBqbq5L9WLmow9WTivyLJiuxuYN+/cT0WkrGm2b/sxGJ8V6vTvw9CWFRb+8q/O5dZKwe2vL8yuFBDOl+Jv4k2TlhVZrY/ehF8J6Pfxz90SGtwhSfSPw==\",\"dtype\":\"float64\",\"shape\":[101]}},\"selected\":{\"id\":\"46f23d0c-5d0f-46d8-b222-6f72c1d813ca\",\"type\":\"Selection\"},\"selection_policy\":{\"id\":\"6d5325d7-28be-49f0-b9ea-48548b6a866f\",\"type\":\"UnionRenderers\"}},\"id\":\"70e64bb9-9c54-494d-ad40-f8e3c335352c\",\"type\":\"ColumnDataSource\"},{\"attributes\":{\"data_source\":{\"id\":\"70e64bb9-9c54-494d-ad40-f8e3c335352c\",\"type\":\"ColumnDataSource\"},\"glyph\":{\"id\":\"6e832311-e992-4e92-94c1-e78464cafb60\",\"type\":\"Line\"},\"hover_glyph\":null,\"muted_glyph\":null,\"nonselection_glyph\":{\"id\":\"bf8d8fb8-3070-4d98-89c9-393cd113046d\",\"type\":\"Line\"},\"selection_glyph\":null,\"view\":{\"id\":\"1a00758d-380e-49da-bcc2-ccce8f48f65e\",\"type\":\"CDSView\"}},\"id\":\"ae0dc0b6-32e9-400c-a266-6b6197fd8f01\",\"type\":\"GlyphRenderer\"},{\"attributes\":{},\"id\":\"3ef48b9d-9a6c-431c-b429-77c9fabf2c89\",\"type\":\"BasicTickFormatter\"},{\"attributes\":{},\"id\":\"61bd956a-04ab-47f4-aa08-5346d561daef\",\"type\":\"Selection\"},{\"attributes\":{\"callback\":null},\"id\":\"7f79e181-b357-4846-bbb4-7cac2d93ebb5\",\"type\":\"DataRange1d\"},{\"attributes\":{\"data_source\":{\"id\":\"3fa38507-61d0-4c31-9d32-0ed7bfbacfbb\",\"type\":\"ColumnDataSource\"},\"glyph\":{\"id\":\"8c13ec4e-53fb-4d6d-b098-ed1413253e61\",\"type\":\"Line\"},\"hover_glyph\":null,\"muted_glyph\":null,\"nonselection_glyph\":{\"id\":\"440d82ad-96e1-476b-9152-54143e949c02\",\"type\":\"Line\"},\"selection_glyph\":null,\"view\":{\"id\":\"b6472f71-b113-43d8-bdab-e4bb68ed259b\",\"type\":\"CDSView\"}},\"id\":\"861690a2-794b-4d32-81dd-3ea4ad63caa7\",\"type\":\"GlyphRenderer\"},{\"attributes\":{},\"id\":\"f8e77d67-d139-44d0-90ce-2a8ff516f5dc\",\"type\":\"LinearScale\"},{\"attributes\":{},\"id\":\"abdb8072-544f-4a65-8097-b8e28dc2bc34\",\"type\":\"UnionRenderers\"},{\"attributes\":{},\"id\":\"c5ed961f-a0c4-40a9-856c-7f2d79adefeb\",\"type\":\"Selection\"},{\"attributes\":{},\"id\":\"575f056e-703e-4e8b-b944-90e4a1d9fad4\",\"type\":\"BasicTicker\"},{\"attributes\":{},\"id\":\"52057224-afb2-41c1-aeb4-3235549d924f\",\"type\":\"UnionRenderers\"},{\"attributes\":{},\"id\":\"3ca36ca5-8862-4b56-9808-803211197e79\",\"type\":\"LinearScale\"},{\"attributes\":{\"line_alpha\":0.1,\"line_color\":\"#1f77b4\",\"line_width\":8,\"x\":{\"field\":\"x\"},\"y\":{\"field\":\"y\"}},\"id\":\"bf8d8fb8-3070-4d98-89c9-393cd113046d\",\"type\":\"Line\"},{\"attributes\":{\"plot\":{\"id\":\"9f56fb37-866e-484f-851f-91b7ac5afcf9\",\"subtype\":\"Figure\",\"type\":\"Plot\"},\"ticker\":{\"id\":\"575f056e-703e-4e8b-b944-90e4a1d9fad4\",\"type\":\"BasicTicker\"}},\"id\":\"5708b814-63aa-46dc-8b9e-849903f8c8b0\",\"type\":\"Grid\"},{\"attributes\":{\"line_alpha\":0.1,\"line_color\":\"purple\",\"line_width\":8,\"x\":{\"field\":\"x\"},\"y\":{\"field\":\"y\"}},\"id\":\"6e832311-e992-4e92-94c1-e78464cafb60\",\"type\":\"Line\"},{\"attributes\":{},\"id\":\"46f23d0c-5d0f-46d8-b222-6f72c1d813ca\",\"type\":\"Selection\"},{\"attributes\":{\"source\":{\"id\":\"3fa38507-61d0-4c31-9d32-0ed7bfbacfbb\",\"type\":\"ColumnDataSource\"}},\"id\":\"b6472f71-b113-43d8-bdab-e4bb68ed259b\",\"type\":\"CDSView\"},{\"attributes\":{\"plot\":null,\"text\":\"\"},\"id\":\"547f2799-8f0e-4e76-99eb-380ce8beb03b\",\"type\":\"Title\"},{\"attributes\":{\"line_color\":\"#1f77b4\",\"line_width\":3,\"x\":{\"field\":\"x\"},\"y\":{\"field\":\"y\"}},\"id\":\"8c13ec4e-53fb-4d6d-b098-ed1413253e61\",\"type\":\"Line\"},{\"attributes\":{\"callback\":null,\"data\":{\"x\":{\"__ndarray__\":\"AAAAAAAAFMCamZmZmZkTwDQzMzMzMxPAzszMzMzMEsBoZmZmZmYSwAIAAAAAABLAnJmZmZmZEcA2MzMzMzMRwNDMzMzMzBDAamZmZmZmEMAEAAAAAAAQwDwzMzMzMw/AcGZmZmZmDsCkmZmZmZkNwNjMzMzMzAzADAAAAAAADMBAMzMzMzMLwHRmZmZmZgrAqJmZmZmZCcDczMzMzMwIwBAAAAAAAAjARDMzMzMzB8B4ZmZmZmYGwKyZmZmZmQXA4MzMzMzMBMAUAAAAAAAEwEgzMzMzMwPAfGZmZmZmAsCwmZmZmZkBwOTMzMzMzADAGAAAAAAAAMCYZmZmZmb+vwDNzMzMzPy/aDMzMzMz+7/QmZmZmZn5vzgAAAAAAPi/oGZmZmZm9r8IzczMzMz0v3AzMzMzM/O/2JmZmZmZ8b9AAAAAAADwv1DNzMzMzOy/IJqZmZmZ6b/wZmZmZmbmv8AzMzMzM+O/kAAAAAAA4L/AmpmZmZnZv2A0MzMzM9O/AJyZmZmZyb+AnpmZmZm5vwAAAAAAABS9gJSZmZmZuT8Al5mZmZnJP+AxMzMzM9M/QJiZmZmZ2T+g/v/////fP4AyMzMzM+M/sGVmZmZm5j/gmJmZmZnpPxDMzMzMzOw/QP//////7z84mZmZmZnxP9AyMzMzM/M/aMzMzMzM9D8AZmZmZmb2P5j///////c/MJmZmZmZ+T/IMjMzMzP7P2DMzMzMzPw/+GVmZmZm/j+Q////////P5TMzMzMzABAYJmZmZmZAUAsZmZmZmYCQPgyMzMzMwNAxP//////A0CQzMzMzMwEQFyZmZmZmQVAKGZmZmZmBkD0MjMzMzMHQMD//////wdAjMzMzMzMCEBYmZmZmZkJQCRmZmZmZgpA8DIzMzMzC0C8//////8LQIjMzMzMzAxAVJmZmZmZDUAgZmZmZmYOQOwyMzMzMw9AuP//////D0BCZmZmZmYQQKjMzMzMzBBADjMzMzMzEUB0mZmZmZkRQNr//////xFAQGZmZmZmEkCmzMzMzMwSQAwzMzMzMxNAcpmZmZmZE0DY//////8TQA==\",\"dtype\":\"float64\",\"shape\":[101]},\"y\":{\"__ndarray__\":\"wFkOVrwm0j9AvMQUB97HPwDH9bIRY7Y/AOSyoXB5ib+AGxG8SLm8vwB4FlX1/Mq/gAmVDB+s078gEaezcafZv+AICLQlYd+/4Klb/Upl4r9Qt4hh9erkv0C9o38eO+e/wCaWrNtP6b+AG2o72iPrv9BN1hptsuy/YMouy5j37b84riKOHfDuv1RCObZ/me+/gHjNAA7y77/i7kXq5fjvvxgdevH1re+/CEZ4xP0R778QyjpWjCbuvyj9MuL77ey/8GTa52tr678w/rAtuaLpv9CPFOBzmOe/gIY45dNR5b+QKxmEq9Tiv1Cgi4BYJ+C/oDAMpWeh2r/gsoZEALDUvwDvPNhcE82/QFP5BFp8wL8AFl3BYNmdv4CMrxEaH7I/QE1TDxnDxT8gyVJ6fR/RP4AeDQqiMdc/ADRM7HII3T/A00lLgErhP1D6SbmM5OM/AGYzFrdL5j+Augbf2XnoP+DYjHBhaeo/CKoNS1oV7D8ALGe8fXntP8iSI9A8ku4/TCCUaclc7z8WMqZwHdfvP2LvGv///+8/qirigAjX7z/koZm/n1zvP3DVhNb+ke4/GCiqESx57T+wPRfA9RTsP1C7iQbraOo/UDbaxFJ56D9AbnClIEvmP+D+vnLo4+M/QLco089J4T8gu6If/QbdP0CvHR0bMNc/YPgMVekd0T8ATptn3r/FPwDo2YyQGLI/ADq8x5Tznb/ALV/jmX/Av0DmbMSNFs2/oE65LI2x1L+AhR0I5aLavwC6vocNKOC/oPjqEVXV4r/ALfdHcFLlv3C9u4cBmee/4JXrrzaj6b+wV58D2Gvrv4Ba+4JV7uy/OOvEltIm7r9EAhLxLxLvv9y5zIkTru+/FDWeou747785Wd3CAfLvv8j7UKFeme+/MHrg9ufv7r9g3KY6T/ftv7i6M00Qsuy/MKANHmsj678APbdbW0/pvwCueUOOOue/4BICq1bq5L9Q0HBin2TivyDGSyO4X9+/oGEVb/Gl2b+gYBbrj6rTv4CaF1LB+cq/AGsHmcWyvL8AQITjA0WJvwBYZfyYabY/gKrcOD/hxz9AEcSJTijSPw==\",\"dtype\":\"float64\",\"shape\":[101]}},\"selected\":{\"id\":\"c5ed961f-a0c4-40a9-856c-7f2d79adefeb\",\"type\":\"Selection\"},\"selection_policy\":{\"id\":\"52057224-afb2-41c1-aeb4-3235549d924f\",\"type\":\"UnionRenderers\"}},\"id\":\"5f46308e-a18c-412d-b5f8-d6ccc587fccc\",\"type\":\"ColumnDataSource\"},{\"attributes\":{\"source\":{\"id\":\"70e64bb9-9c54-494d-ad40-f8e3c335352c\",\"type\":\"ColumnDataSource\"}},\"id\":\"1a00758d-380e-49da-bcc2-ccce8f48f65e\",\"type\":\"CDSView\"},{\"attributes\":{\"axis_label\":\"f(X)\",\"formatter\":{\"id\":\"3ef48b9d-9a6c-431c-b429-77c9fabf2c89\",\"type\":\"BasicTickFormatter\"},\"plot\":{\"id\":\"9f56fb37-866e-484f-851f-91b7ac5afcf9\",\"subtype\":\"Figure\",\"type\":\"Plot\"},\"ticker\":{\"id\":\"5001c882-2fe8-48cc-b9c4-4afac906f772\",\"type\":\"BasicTicker\"}},\"id\":\"2dfc3d67-e62f-4d46-a234-29ba5562b09d\",\"type\":\"LinearAxis\"},{\"attributes\":{\"dimension\":1,\"plot\":{\"id\":\"9f56fb37-866e-484f-851f-91b7ac5afcf9\",\"subtype\":\"Figure\",\"type\":\"Plot\"},\"ticker\":{\"id\":\"5001c882-2fe8-48cc-b9c4-4afac906f772\",\"type\":\"BasicTicker\"}},\"id\":\"3eef4bca-609d-41f6-b355-86c249400d4d\",\"type\":\"Grid\"},{\"attributes\":{},\"id\":\"5001c882-2fe8-48cc-b9c4-4afac906f772\",\"type\":\"BasicTicker\"},{\"attributes\":{},\"id\":\"66744689-52b8-4dd0-88d7-0eb3ca2609da\",\"type\":\"WheelZoomTool\"},{\"attributes\":{\"callback\":null,\"data\":{\"x\":{\"__ndarray__\":\"AAAAAAAAFMCamZmZmZkTwDQzMzMzMxPAzszMzMzMEsBoZmZmZmYSwAIAAAAAABLAnJmZmZmZEcA2MzMzMzMRwNDMzMzMzBDAamZmZmZmEMAEAAAAAAAQwDwzMzMzMw/AcGZmZmZmDsCkmZmZmZkNwNjMzMzMzAzADAAAAAAADMBAMzMzMzMLwHRmZmZmZgrAqJmZmZmZCcDczMzMzMwIwBAAAAAAAAjARDMzMzMzB8B4ZmZmZmYGwKyZmZmZmQXA4MzMzMzMBMAUAAAAAAAEwEgzMzMzMwPAfGZmZmZmAsCwmZmZmZkBwOTMzMzMzADAGAAAAAAAAMCYZmZmZmb+vwDNzMzMzPy/aDMzMzMz+7/QmZmZmZn5vzgAAAAAAPi/oGZmZmZm9r8IzczMzMz0v3AzMzMzM/O/2JmZmZmZ8b9AAAAAAADwv1DNzMzMzOy/IJqZmZmZ6b/wZmZmZmbmv8AzMzMzM+O/kAAAAAAA4L/AmpmZmZnZv2A0MzMzM9O/AJyZmZmZyb+AnpmZmZm5vwAAAAAAABS9gJSZmZmZuT8Al5mZmZnJP+AxMzMzM9M/QJiZmZmZ2T+g/v/////fP4AyMzMzM+M/sGVmZmZm5j/gmJmZmZnpPxDMzMzMzOw/QP//////7z84mZmZmZnxP9AyMzMzM/M/aMzMzMzM9D8AZmZmZmb2P5j///////c/MJmZmZmZ+T/IMjMzMzP7P2DMzMzMzPw/+GVmZmZm/j+Q////////P5TMzMzMzABAYJmZmZmZAUAsZmZmZmYCQPgyMzMzMwNAxP//////A0CQzMzMzMwEQFyZmZmZmQVAKGZmZmZmBkD0MjMzMzMHQMD//////wdAjMzMzMzMCEBYmZmZmZkJQCRmZmZmZgpA8DIzMzMzC0C8//////8LQIjMzMzMzAxAVJmZmZmZDUAgZmZmZmYOQOwyMzMzMw9AuP//////D0BCZmZmZmYQQKjMzMzMzBBADjMzMzMzEUB0mZmZmZkRQNr//////xFAQGZmZmZmEkCmzMzMzMwSQAwzMzMzMxNAcpmZmZmZE0DY//////8TQA==\",\"dtype\":\"float64\",\"shape\":[101]},\"y\":{\"__ndarray__\":\"M5ng9YGv7j+k6yJ2QHDvP/89DJqU4O8/U+w3D1//7z+77F0TUczvP4RAxz3tR+8/9ChFMYZz7j8vigE6O1HtP+MS0N/y4+s/ysjielMv6j/DHtzduTfoP+WzHy0uAuY/vcDs/1aU4z9jGy7savTgP0DS8ENBUtw/eWK6fjtz1j/RTP8QyVrQP2QNt8oCMcQ/sDDoOTfjrT9vDJiCD0qlv13Utm04EMK/2i9I1rifzr9A5V0jcnDVv4qmJCQxWtu/eoWgu/x+4L9wys8Nrybjv13Rw/VkneW/6i5YLdHc57/U1qrZM9/pv81y6z9pn+u/HrTR6vYY7b83OBofF0juv9kVvYHCKe+/qZgv17e777/CQuDHgfzvv5NtLJt66++/FuFE382I779rHsX5d9Xuv/FVGqJD0+2/cGMtTMWE7L8zDQmPVO3qv5KoXZgDEem/Kv+/wpT05r8iGkZpbp3kv81BpReNEeK/7QZLdOiu3r96aCvpOuzYv1O7upXN6dK/FtU9I/9tyb8M0IvLro65vwAAAAAAABS9GcaLy66OuT8w0D0j/23JP++4upXN6dI/LGYr6Trs2D+7BEt06K7eP8VApReNEeI/LRlGaW6d5D9M/r/ClPTmP8unXZgDEek/hgwJj1Tt6j/fYi1MxYTsP31VGqJD0+0/FR7F+XfV7j/g4ETfzYjvP3xtLJt66+8/zELgx4H87z/SmC/Xt7vvPyIWvYHCKe8/njgaHxdI7j+jtNHq9hjtP25z6z9pn+s/kNeq2TPf6T/AL1gt0dznP0nSw/VkneU/ccvPDa8m4z+MhqC7/H7gP8yoJCQxWts/m+ddI3Jw1T+1NEjWuJ/OP1HZtm04EMI/ayCYgg9KpT+5HOg5N+Otv3QIt8oCMcS/Zkr/EMla0L8iYLp+O3PWvwLQ8ENBUty/Uxou7Gr04L/Av+z/VpTjv/2yHy0uAua/8h3c3bk36L8TyOJ6Uy/qv0YS0N/y4+u/r4kBOjtR7b+SKEUxhnPuv0BAxz3tR++/l+xdE1HM779P7DcPX//vvxs+DJqU4O+/3+sidkBw77+OmeD1ga/uvw==\",\"dtype\":\"float64\",\"shape\":[101]}},\"selected\":{\"id\":\"61bd956a-04ab-47f4-aa08-5346d561daef\",\"type\":\"Selection\"},\"selection_policy\":{\"id\":\"abdb8072-544f-4a65-8097-b8e28dc2bc34\",\"type\":\"UnionRenderers\"}},\"id\":\"3fa38507-61d0-4c31-9d32-0ed7bfbacfbb\",\"type\":\"ColumnDataSource\"}],\"root_ids\":[\"9f56fb37-866e-484f-851f-91b7ac5afcf9\"]},\"title\":\"Bokeh Application\",\"version\":\"0.13.0\"}};\n",
       "  var render_items = [{\"docid\":\"c66a9026-365c-49a7-a4e7-5b2bcf7098ee\",\"roots\":{\"9f56fb37-866e-484f-851f-91b7ac5afcf9\":\"aaa5710f-1395-480e-b46e-3713988172a2\"}}];\n",
       "  root.Bokeh.embed.embed_items_notebook(docs_json, render_items);\n",
       "\n",
       "  }\n",
       "  if (root.Bokeh !== undefined) {\n",
       "    embed_document(root);\n",
       "  } else {\n",
       "    var attempts = 0;\n",
       "    var timer = setInterval(function(root) {\n",
       "      if (root.Bokeh !== undefined) {\n",
       "        embed_document(root);\n",
       "        clearInterval(timer);\n",
       "      }\n",
       "      attempts++;\n",
       "      if (attempts > 100) {\n",
       "        console.log(\"Bokeh: ERROR: Unable to run BokehJS code because BokehJS library is missing\")\n",
       "        clearInterval(timer);\n",
       "      }\n",
       "    }, 10, root)\n",
       "  }\n",
       "})(window);"
      ],
      "application/vnd.bokehjs_exec.v0+json": ""
     },
     "metadata": {
      "application/vnd.bokehjs_exec.v0+json": {
       "id": "9f56fb37-866e-484f-851f-91b7ac5afcf9"
      }
     },
     "output_type": "display_data"
    }
   ],
   "source": [
    "p.line(x,np.cos(x),color=\"purple\",line_width=8,alpha=.1)\n",
    "show(p)"
   ]
  },
  {
   "cell_type": "markdown",
   "metadata": {},
   "source": [
    "As we can see, computational approximation can be pretty useful (at the very least for getting the intuition of what we are doing and to even sometimes check our math!)"
   ]
  }
 ],
 "metadata": {
  "kernelspec": {
   "display_name": "Python 3",
   "language": "python",
   "name": "python3"
  },
  "language_info": {
   "codemirror_mode": {
    "name": "ipython",
    "version": 3
   },
   "file_extension": ".py",
   "mimetype": "text/x-python",
   "name": "python",
   "nbconvert_exporter": "python",
   "pygments_lexer": "ipython3",
   "version": "3.7.0"
  },
  "toc": {
   "base_numbering": 1,
   "nav_menu": {},
   "number_sections": false,
   "sideBar": false,
   "skip_h1_title": false,
   "title_cell": "Table of Contents",
   "title_sidebar": "Contents",
   "toc_cell": false,
   "toc_position": {},
   "toc_section_display": true,
   "toc_window_display": false
  }
 },
 "nbformat": 4,
 "nbformat_minor": 2
}
