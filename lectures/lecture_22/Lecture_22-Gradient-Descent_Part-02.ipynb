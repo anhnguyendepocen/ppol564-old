{
 "cells": [
  {
   "cell_type": "markdown",
   "metadata": {},
   "source": [
    "<h1><center> PPOL564 | DS1: Foundations </center><h1>\n",
    "<h3><center> Lecture 22 <br><br><font color='grey'> \n",
    "Gradient Descent (Part 2)</font></center></h3>\n",
    "\n",
    "## Concepts Covered:\n",
    "\n",
    "- Gradient Descent on a Binary Outcome"
   ]
  },
  {
   "cell_type": "code",
   "execution_count": 1,
   "metadata": {},
   "outputs": [
    {
     "data": {
      "text/html": [
       "\n",
       "    <div class=\"bk-root\">\n",
       "        <a href=\"https://bokeh.pydata.org\" target=\"_blank\" class=\"bk-logo bk-logo-small bk-logo-notebook\"></a>\n",
       "        <span id=\"6e2d0995-dc27-45e6-87ae-2fe6982e8837\">Loading BokehJS ...</span>\n",
       "    </div>"
      ]
     },
     "metadata": {},
     "output_type": "display_data"
    },
    {
     "data": {
      "application/javascript": [
       "\n",
       "(function(root) {\n",
       "  function now() {\n",
       "    return new Date();\n",
       "  }\n",
       "\n",
       "  var force = true;\n",
       "\n",
       "  if (typeof (root._bokeh_onload_callbacks) === \"undefined\" || force === true) {\n",
       "    root._bokeh_onload_callbacks = [];\n",
       "    root._bokeh_is_loading = undefined;\n",
       "  }\n",
       "\n",
       "  var JS_MIME_TYPE = 'application/javascript';\n",
       "  var HTML_MIME_TYPE = 'text/html';\n",
       "  var EXEC_MIME_TYPE = 'application/vnd.bokehjs_exec.v0+json';\n",
       "  var CLASS_NAME = 'output_bokeh rendered_html';\n",
       "\n",
       "  /**\n",
       "   * Render data to the DOM node\n",
       "   */\n",
       "  function render(props, node) {\n",
       "    var script = document.createElement(\"script\");\n",
       "    node.appendChild(script);\n",
       "  }\n",
       "\n",
       "  /**\n",
       "   * Handle when an output is cleared or removed\n",
       "   */\n",
       "  function handleClearOutput(event, handle) {\n",
       "    var cell = handle.cell;\n",
       "\n",
       "    var id = cell.output_area._bokeh_element_id;\n",
       "    var server_id = cell.output_area._bokeh_server_id;\n",
       "    // Clean up Bokeh references\n",
       "    if (id != null && id in Bokeh.index) {\n",
       "      Bokeh.index[id].model.document.clear();\n",
       "      delete Bokeh.index[id];\n",
       "    }\n",
       "\n",
       "    if (server_id !== undefined) {\n",
       "      // Clean up Bokeh references\n",
       "      var cmd = \"from bokeh.io.state import curstate; print(curstate().uuid_to_server['\" + server_id + \"'].get_sessions()[0].document.roots[0]._id)\";\n",
       "      cell.notebook.kernel.execute(cmd, {\n",
       "        iopub: {\n",
       "          output: function(msg) {\n",
       "            var id = msg.content.text.trim();\n",
       "            if (id in Bokeh.index) {\n",
       "              Bokeh.index[id].model.document.clear();\n",
       "              delete Bokeh.index[id];\n",
       "            }\n",
       "          }\n",
       "        }\n",
       "      });\n",
       "      // Destroy server and session\n",
       "      var cmd = \"import bokeh.io.notebook as ion; ion.destroy_server('\" + server_id + \"')\";\n",
       "      cell.notebook.kernel.execute(cmd);\n",
       "    }\n",
       "  }\n",
       "\n",
       "  /**\n",
       "   * Handle when a new output is added\n",
       "   */\n",
       "  function handleAddOutput(event, handle) {\n",
       "    var output_area = handle.output_area;\n",
       "    var output = handle.output;\n",
       "\n",
       "    // limit handleAddOutput to display_data with EXEC_MIME_TYPE content only\n",
       "    if ((output.output_type != \"display_data\") || (!output.data.hasOwnProperty(EXEC_MIME_TYPE))) {\n",
       "      return\n",
       "    }\n",
       "\n",
       "    var toinsert = output_area.element.find(\".\" + CLASS_NAME.split(' ')[0]);\n",
       "\n",
       "    if (output.metadata[EXEC_MIME_TYPE][\"id\"] !== undefined) {\n",
       "      toinsert[toinsert.length - 1].firstChild.textContent = output.data[JS_MIME_TYPE];\n",
       "      // store reference to embed id on output_area\n",
       "      output_area._bokeh_element_id = output.metadata[EXEC_MIME_TYPE][\"id\"];\n",
       "    }\n",
       "    if (output.metadata[EXEC_MIME_TYPE][\"server_id\"] !== undefined) {\n",
       "      var bk_div = document.createElement(\"div\");\n",
       "      bk_div.innerHTML = output.data[HTML_MIME_TYPE];\n",
       "      var script_attrs = bk_div.children[0].attributes;\n",
       "      for (var i = 0; i < script_attrs.length; i++) {\n",
       "        toinsert[toinsert.length - 1].firstChild.setAttribute(script_attrs[i].name, script_attrs[i].value);\n",
       "      }\n",
       "      // store reference to server id on output_area\n",
       "      output_area._bokeh_server_id = output.metadata[EXEC_MIME_TYPE][\"server_id\"];\n",
       "    }\n",
       "  }\n",
       "\n",
       "  function register_renderer(events, OutputArea) {\n",
       "\n",
       "    function append_mime(data, metadata, element) {\n",
       "      // create a DOM node to render to\n",
       "      var toinsert = this.create_output_subarea(\n",
       "        metadata,\n",
       "        CLASS_NAME,\n",
       "        EXEC_MIME_TYPE\n",
       "      );\n",
       "      this.keyboard_manager.register_events(toinsert);\n",
       "      // Render to node\n",
       "      var props = {data: data, metadata: metadata[EXEC_MIME_TYPE]};\n",
       "      render(props, toinsert[toinsert.length - 1]);\n",
       "      element.append(toinsert);\n",
       "      return toinsert\n",
       "    }\n",
       "\n",
       "    /* Handle when an output is cleared or removed */\n",
       "    events.on('clear_output.CodeCell', handleClearOutput);\n",
       "    events.on('delete.Cell', handleClearOutput);\n",
       "\n",
       "    /* Handle when a new output is added */\n",
       "    events.on('output_added.OutputArea', handleAddOutput);\n",
       "\n",
       "    /**\n",
       "     * Register the mime type and append_mime function with output_area\n",
       "     */\n",
       "    OutputArea.prototype.register_mime_type(EXEC_MIME_TYPE, append_mime, {\n",
       "      /* Is output safe? */\n",
       "      safe: true,\n",
       "      /* Index of renderer in `output_area.display_order` */\n",
       "      index: 0\n",
       "    });\n",
       "  }\n",
       "\n",
       "  // register the mime type if in Jupyter Notebook environment and previously unregistered\n",
       "  if (root.Jupyter !== undefined) {\n",
       "    var events = require('base/js/events');\n",
       "    var OutputArea = require('notebook/js/outputarea').OutputArea;\n",
       "\n",
       "    if (OutputArea.prototype.mime_types().indexOf(EXEC_MIME_TYPE) == -1) {\n",
       "      register_renderer(events, OutputArea);\n",
       "    }\n",
       "  }\n",
       "\n",
       "  \n",
       "  if (typeof (root._bokeh_timeout) === \"undefined\" || force === true) {\n",
       "    root._bokeh_timeout = Date.now() + 5000;\n",
       "    root._bokeh_failed_load = false;\n",
       "  }\n",
       "\n",
       "  var NB_LOAD_WARNING = {'data': {'text/html':\n",
       "     \"<div style='background-color: #fdd'>\\n\"+\n",
       "     \"<p>\\n\"+\n",
       "     \"BokehJS does not appear to have successfully loaded. If loading BokehJS from CDN, this \\n\"+\n",
       "     \"may be due to a slow or bad network connection. Possible fixes:\\n\"+\n",
       "     \"</p>\\n\"+\n",
       "     \"<ul>\\n\"+\n",
       "     \"<li>re-rerun `output_notebook()` to attempt to load from CDN again, or</li>\\n\"+\n",
       "     \"<li>use INLINE resources instead, as so:</li>\\n\"+\n",
       "     \"</ul>\\n\"+\n",
       "     \"<code>\\n\"+\n",
       "     \"from bokeh.resources import INLINE\\n\"+\n",
       "     \"output_notebook(resources=INLINE)\\n\"+\n",
       "     \"</code>\\n\"+\n",
       "     \"</div>\"}};\n",
       "\n",
       "  function display_loaded() {\n",
       "    var el = document.getElementById(\"6e2d0995-dc27-45e6-87ae-2fe6982e8837\");\n",
       "    if (el != null) {\n",
       "      el.textContent = \"BokehJS is loading...\";\n",
       "    }\n",
       "    if (root.Bokeh !== undefined) {\n",
       "      if (el != null) {\n",
       "        el.textContent = \"BokehJS \" + root.Bokeh.version + \" successfully loaded.\";\n",
       "      }\n",
       "    } else if (Date.now() < root._bokeh_timeout) {\n",
       "      setTimeout(display_loaded, 100)\n",
       "    }\n",
       "  }\n",
       "\n",
       "\n",
       "  function run_callbacks() {\n",
       "    try {\n",
       "      root._bokeh_onload_callbacks.forEach(function(callback) { callback() });\n",
       "    }\n",
       "    finally {\n",
       "      delete root._bokeh_onload_callbacks\n",
       "    }\n",
       "    console.info(\"Bokeh: all callbacks have finished\");\n",
       "  }\n",
       "\n",
       "  function load_libs(js_urls, callback) {\n",
       "    root._bokeh_onload_callbacks.push(callback);\n",
       "    if (root._bokeh_is_loading > 0) {\n",
       "      console.log(\"Bokeh: BokehJS is being loaded, scheduling callback at\", now());\n",
       "      return null;\n",
       "    }\n",
       "    if (js_urls == null || js_urls.length === 0) {\n",
       "      run_callbacks();\n",
       "      return null;\n",
       "    }\n",
       "    console.log(\"Bokeh: BokehJS not loaded, scheduling load and callback at\", now());\n",
       "    root._bokeh_is_loading = js_urls.length;\n",
       "    for (var i = 0; i < js_urls.length; i++) {\n",
       "      var url = js_urls[i];\n",
       "      var s = document.createElement('script');\n",
       "      s.src = url;\n",
       "      s.async = false;\n",
       "      s.onreadystatechange = s.onload = function() {\n",
       "        root._bokeh_is_loading--;\n",
       "        if (root._bokeh_is_loading === 0) {\n",
       "          console.log(\"Bokeh: all BokehJS libraries loaded\");\n",
       "          run_callbacks()\n",
       "        }\n",
       "      };\n",
       "      s.onerror = function() {\n",
       "        console.warn(\"failed to load library \" + url);\n",
       "      };\n",
       "      console.log(\"Bokeh: injecting script tag for BokehJS library: \", url);\n",
       "      document.getElementsByTagName(\"head\")[0].appendChild(s);\n",
       "    }\n",
       "  };var element = document.getElementById(\"6e2d0995-dc27-45e6-87ae-2fe6982e8837\");\n",
       "  if (element == null) {\n",
       "    console.log(\"Bokeh: ERROR: autoload.js configured with elementid '6e2d0995-dc27-45e6-87ae-2fe6982e8837' but no matching script tag was found. \")\n",
       "    return false;\n",
       "  }\n",
       "\n",
       "  var js_urls = [\"https://cdn.pydata.org/bokeh/release/bokeh-0.13.0.min.js\", \"https://cdn.pydata.org/bokeh/release/bokeh-widgets-0.13.0.min.js\", \"https://cdn.pydata.org/bokeh/release/bokeh-tables-0.13.0.min.js\", \"https://cdn.pydata.org/bokeh/release/bokeh-gl-0.13.0.min.js\"];\n",
       "\n",
       "  var inline_js = [\n",
       "    function(Bokeh) {\n",
       "      Bokeh.set_log_level(\"info\");\n",
       "    },\n",
       "    \n",
       "    function(Bokeh) {\n",
       "      \n",
       "    },\n",
       "    function(Bokeh) {\n",
       "      console.log(\"Bokeh: injecting CSS: https://cdn.pydata.org/bokeh/release/bokeh-0.13.0.min.css\");\n",
       "      Bokeh.embed.inject_css(\"https://cdn.pydata.org/bokeh/release/bokeh-0.13.0.min.css\");\n",
       "      console.log(\"Bokeh: injecting CSS: https://cdn.pydata.org/bokeh/release/bokeh-widgets-0.13.0.min.css\");\n",
       "      Bokeh.embed.inject_css(\"https://cdn.pydata.org/bokeh/release/bokeh-widgets-0.13.0.min.css\");\n",
       "      console.log(\"Bokeh: injecting CSS: https://cdn.pydata.org/bokeh/release/bokeh-tables-0.13.0.min.css\");\n",
       "      Bokeh.embed.inject_css(\"https://cdn.pydata.org/bokeh/release/bokeh-tables-0.13.0.min.css\");\n",
       "    }\n",
       "  ];\n",
       "\n",
       "  function run_inline_js() {\n",
       "    \n",
       "    if ((root.Bokeh !== undefined) || (force === true)) {\n",
       "      for (var i = 0; i < inline_js.length; i++) {\n",
       "        inline_js[i].call(root, root.Bokeh);\n",
       "      }if (force === true) {\n",
       "        display_loaded();\n",
       "      }} else if (Date.now() < root._bokeh_timeout) {\n",
       "      setTimeout(run_inline_js, 100);\n",
       "    } else if (!root._bokeh_failed_load) {\n",
       "      console.log(\"Bokeh: BokehJS failed to load within specified timeout.\");\n",
       "      root._bokeh_failed_load = true;\n",
       "    } else if (force !== true) {\n",
       "      var cell = $(document.getElementById(\"6e2d0995-dc27-45e6-87ae-2fe6982e8837\")).parents('.cell').data().cell;\n",
       "      cell.output_area.append_execute_result(NB_LOAD_WARNING)\n",
       "    }\n",
       "\n",
       "  }\n",
       "\n",
       "  if (root._bokeh_is_loading === 0) {\n",
       "    console.log(\"Bokeh: BokehJS loaded, going straight to plotting\");\n",
       "    run_inline_js();\n",
       "  } else {\n",
       "    load_libs(js_urls, function() {\n",
       "      console.log(\"Bokeh: BokehJS plotting callback run at\", now());\n",
       "      run_inline_js();\n",
       "    });\n",
       "  }\n",
       "}(window));"
      ],
      "application/vnd.bokehjs_load.v0+json": "\n(function(root) {\n  function now() {\n    return new Date();\n  }\n\n  var force = true;\n\n  if (typeof (root._bokeh_onload_callbacks) === \"undefined\" || force === true) {\n    root._bokeh_onload_callbacks = [];\n    root._bokeh_is_loading = undefined;\n  }\n\n  \n\n  \n  if (typeof (root._bokeh_timeout) === \"undefined\" || force === true) {\n    root._bokeh_timeout = Date.now() + 5000;\n    root._bokeh_failed_load = false;\n  }\n\n  var NB_LOAD_WARNING = {'data': {'text/html':\n     \"<div style='background-color: #fdd'>\\n\"+\n     \"<p>\\n\"+\n     \"BokehJS does not appear to have successfully loaded. If loading BokehJS from CDN, this \\n\"+\n     \"may be due to a slow or bad network connection. Possible fixes:\\n\"+\n     \"</p>\\n\"+\n     \"<ul>\\n\"+\n     \"<li>re-rerun `output_notebook()` to attempt to load from CDN again, or</li>\\n\"+\n     \"<li>use INLINE resources instead, as so:</li>\\n\"+\n     \"</ul>\\n\"+\n     \"<code>\\n\"+\n     \"from bokeh.resources import INLINE\\n\"+\n     \"output_notebook(resources=INLINE)\\n\"+\n     \"</code>\\n\"+\n     \"</div>\"}};\n\n  function display_loaded() {\n    var el = document.getElementById(\"6e2d0995-dc27-45e6-87ae-2fe6982e8837\");\n    if (el != null) {\n      el.textContent = \"BokehJS is loading...\";\n    }\n    if (root.Bokeh !== undefined) {\n      if (el != null) {\n        el.textContent = \"BokehJS \" + root.Bokeh.version + \" successfully loaded.\";\n      }\n    } else if (Date.now() < root._bokeh_timeout) {\n      setTimeout(display_loaded, 100)\n    }\n  }\n\n\n  function run_callbacks() {\n    try {\n      root._bokeh_onload_callbacks.forEach(function(callback) { callback() });\n    }\n    finally {\n      delete root._bokeh_onload_callbacks\n    }\n    console.info(\"Bokeh: all callbacks have finished\");\n  }\n\n  function load_libs(js_urls, callback) {\n    root._bokeh_onload_callbacks.push(callback);\n    if (root._bokeh_is_loading > 0) {\n      console.log(\"Bokeh: BokehJS is being loaded, scheduling callback at\", now());\n      return null;\n    }\n    if (js_urls == null || js_urls.length === 0) {\n      run_callbacks();\n      return null;\n    }\n    console.log(\"Bokeh: BokehJS not loaded, scheduling load and callback at\", now());\n    root._bokeh_is_loading = js_urls.length;\n    for (var i = 0; i < js_urls.length; i++) {\n      var url = js_urls[i];\n      var s = document.createElement('script');\n      s.src = url;\n      s.async = false;\n      s.onreadystatechange = s.onload = function() {\n        root._bokeh_is_loading--;\n        if (root._bokeh_is_loading === 0) {\n          console.log(\"Bokeh: all BokehJS libraries loaded\");\n          run_callbacks()\n        }\n      };\n      s.onerror = function() {\n        console.warn(\"failed to load library \" + url);\n      };\n      console.log(\"Bokeh: injecting script tag for BokehJS library: \", url);\n      document.getElementsByTagName(\"head\")[0].appendChild(s);\n    }\n  };var element = document.getElementById(\"6e2d0995-dc27-45e6-87ae-2fe6982e8837\");\n  if (element == null) {\n    console.log(\"Bokeh: ERROR: autoload.js configured with elementid '6e2d0995-dc27-45e6-87ae-2fe6982e8837' but no matching script tag was found. \")\n    return false;\n  }\n\n  var js_urls = [\"https://cdn.pydata.org/bokeh/release/bokeh-0.13.0.min.js\", \"https://cdn.pydata.org/bokeh/release/bokeh-widgets-0.13.0.min.js\", \"https://cdn.pydata.org/bokeh/release/bokeh-tables-0.13.0.min.js\", \"https://cdn.pydata.org/bokeh/release/bokeh-gl-0.13.0.min.js\"];\n\n  var inline_js = [\n    function(Bokeh) {\n      Bokeh.set_log_level(\"info\");\n    },\n    \n    function(Bokeh) {\n      \n    },\n    function(Bokeh) {\n      console.log(\"Bokeh: injecting CSS: https://cdn.pydata.org/bokeh/release/bokeh-0.13.0.min.css\");\n      Bokeh.embed.inject_css(\"https://cdn.pydata.org/bokeh/release/bokeh-0.13.0.min.css\");\n      console.log(\"Bokeh: injecting CSS: https://cdn.pydata.org/bokeh/release/bokeh-widgets-0.13.0.min.css\");\n      Bokeh.embed.inject_css(\"https://cdn.pydata.org/bokeh/release/bokeh-widgets-0.13.0.min.css\");\n      console.log(\"Bokeh: injecting CSS: https://cdn.pydata.org/bokeh/release/bokeh-tables-0.13.0.min.css\");\n      Bokeh.embed.inject_css(\"https://cdn.pydata.org/bokeh/release/bokeh-tables-0.13.0.min.css\");\n    }\n  ];\n\n  function run_inline_js() {\n    \n    if ((root.Bokeh !== undefined) || (force === true)) {\n      for (var i = 0; i < inline_js.length; i++) {\n        inline_js[i].call(root, root.Bokeh);\n      }if (force === true) {\n        display_loaded();\n      }} else if (Date.now() < root._bokeh_timeout) {\n      setTimeout(run_inline_js, 100);\n    } else if (!root._bokeh_failed_load) {\n      console.log(\"Bokeh: BokehJS failed to load within specified timeout.\");\n      root._bokeh_failed_load = true;\n    } else if (force !== true) {\n      var cell = $(document.getElementById(\"6e2d0995-dc27-45e6-87ae-2fe6982e8837\")).parents('.cell').data().cell;\n      cell.output_area.append_execute_result(NB_LOAD_WARNING)\n    }\n\n  }\n\n  if (root._bokeh_is_loading === 0) {\n    console.log(\"Bokeh: BokehJS loaded, going straight to plotting\");\n    run_inline_js();\n  } else {\n    load_libs(js_urls, function() {\n      console.log(\"Bokeh: BokehJS plotting callback run at\", now());\n      run_inline_js();\n    });\n  }\n}(window));"
     },
     "metadata": {},
     "output_type": "display_data"
    }
   ],
   "source": [
    "import numpy as np\n",
    "import pandas as pd\n",
    "import sympy as sp\n",
    "import requests\n",
    "from bokeh.plotting import figure, output_notebook, show\n",
    "from bokeh.layouts import column, row, gridplot\n",
    "output_notebook()\n",
    "sp.init_printing(use_unicode=True)"
   ]
  },
  {
   "cell_type": "markdown",
   "metadata": {},
   "source": [
    "Download Data from Github"
   ]
  },
  {
   "cell_type": "code",
   "execution_count": 2,
   "metadata": {},
   "outputs": [],
   "source": [
    "def download_data(git_loc,dest_name):\n",
    "    '''\n",
    "    Download data from Github and save to the notebook's working directory.\n",
    "    '''\n",
    "    req = requests.get(git_loc)\n",
    "    with open(dest_name,\"w\") as file:\n",
    "        for line in req.text:\n",
    "            file.writelines(line)\n",
    "            \n",
    "download_data('https://raw.githubusercontent.com/edunford/ppol564/master/lectures/lecture_22/test_data.csv',\n",
    "         \"test_data.csv\")\n",
    "download_data('https://raw.githubusercontent.com/edunford/ppol564/master/lectures/lecture_22/training_data.csv',\n",
    "         \"training_data.csv\")"
   ]
  },
  {
   "cell_type": "markdown",
   "metadata": {},
   "source": [
    "# Gradient Descent (Part 2)\n",
    "## Binary Classification (Logistic Regression)"
   ]
  },
  {
   "cell_type": "markdown",
   "metadata": {},
   "source": [
    "### Bernoulli Distribution : The likelihood of observing one state over another \n",
    "\n",
    "Many social science problems involve classifying states of the world (war/peace, voting, event occurrences, etc.). The **Bernoulli Distribution** (which is a special case of the binomial distribution) describes the distribution of two states (heads/tails). We'll describe the outcome in terms of 1 or 0 to describe the two states. $y \\in [0,1]$\n",
    "\n",
    "The [Bernoulli Distribution](https://en.wikipedia.org/wiki/Bernoulli_distribution) is described as \n",
    "\n",
    "<br>\n",
    "<br>\n",
    "\n",
    "$$ p^y(1-p)^{1-y} $$\n",
    "\n",
    "<br>\n",
    "<br>\n",
    "\n",
    "- $p^y \\to $ the probability $y = 1$, we observe the phenomena\n",
    "- $(1-p)^{1-y}  \\to $ the probability $y = 0$, we don't observe the phenomena\n",
    "\n",
    "Odds of something happening over not happening.\n",
    "\n",
    "Our goal is to model that probability. We want to figure out the weights to maximize the probability of observing a 1 over a 0. Again, we can state the problem as minimizing the error, which maximizes the likelihood of observing the data. \n",
    "\n",
    "How can we model a probability? "
   ]
  },
  {
   "cell_type": "markdown",
   "metadata": {},
   "source": [
    "#### The logistic (sigmoid function)"
   ]
  },
  {
   "cell_type": "markdown",
   "metadata": {},
   "source": [
    "Probabilities are unique. They are bounded between 0 and 1. Thus, we need a function that obeys such bounds. Luckily we have a range of functional forms to choose from. A function that maps a continuous value (a line) onto a probability distribution  is known as a \"link function\". We'll look at a specific kind of link function: the logistic or a sigmoid function.\n",
    "\n",
    "Let's define the logistic function $\\nu$ (sigmoid function) as "
   ]
  },
  {
   "cell_type": "markdown",
   "metadata": {},
   "source": [
    "<br>\n",
    "<br>\n",
    "\n",
    "$$ \\nu(z) = \\frac{1}{1+e^{-z}}  $$\n",
    "\n",
    "<br>\n",
    "<br>\n",
    "\n",
    "$$ z = X\\beta $$\n",
    "\n",
    "<br>\n",
    "<br>"
   ]
  },
  {
   "cell_type": "markdown",
   "metadata": {},
   "source": [
    "Note that $z$ is our normal linear projection. $z(\\cdot)$ maps our line to a probability space."
   ]
  },
  {
   "cell_type": "markdown",
   "metadata": {},
   "source": [
    "![](http://ericdunford.com/ppol670/Lectures/week_10/Figures/lin-to-pr-space.gif)"
   ]
  },
  {
   "cell_type": "code",
   "execution_count": 3,
   "metadata": {},
   "outputs": [],
   "source": [
    "# Defining the logistic function...\n",
    "def s(z):\n",
    "    '''sigmoid function'''\n",
    "    return 1/(1+np.exp(-z))\n",
    "\n",
    "\n",
    "def ds(z):\n",
    "    '''first-order derivative of the function'''\n",
    "    return np.exp(-x)/(1 + np.exp(-x))**2"
   ]
  },
  {
   "cell_type": "markdown",
   "metadata": {},
   "source": [
    "Let's get a feel for it's behavior and its first derivative."
   ]
  },
  {
   "cell_type": "code",
   "execution_count": 4,
   "metadata": {},
   "outputs": [
    {
     "data": {
      "text/html": [
       "\n",
       "\n",
       "\n",
       "\n",
       "\n",
       "\n",
       "  <div class=\"bk-root\" id=\"3baa93c6-c4d3-43ee-be1e-37d68357e3d9\"></div>\n"
      ]
     },
     "metadata": {},
     "output_type": "display_data"
    },
    {
     "data": {
      "application/javascript": [
       "(function(root) {\n",
       "  function embed_document(root) {\n",
       "    \n",
       "  var docs_json = {\"300f409f-4760-4b34-8961-1cf60d1e55d6\":{\"roots\":{\"references\":[{\"attributes\":{\"overlay\":{\"id\":\"e32faab0-d2cd-4a33-b681-40809f75edc4\",\"type\":\"BoxAnnotation\"}},\"id\":\"0f03ca03-4acc-4d0f-9d81-9b58a273e19e\",\"type\":\"BoxZoomTool\"},{\"attributes\":{\"line_alpha\":0.5,\"line_color\":\"orange\",\"line_width\":3,\"x\":{\"field\":\"x\"},\"y\":{\"field\":\"y\"}},\"id\":\"91a0e288-9bbb-4cc2-be73-fae95ec78488\",\"type\":\"Line\"},{\"attributes\":{\"line_alpha\":0.5,\"line_color\":\"#1f77b4\",\"line_width\":3,\"x\":{\"field\":\"x\"},\"y\":{\"field\":\"y\"}},\"id\":\"fcd8eb8a-7fb1-4be3-96c3-b5f7f9f00fb4\",\"type\":\"Line\"},{\"attributes\":{},\"id\":\"20e78b78-dd5e-4d0b-a56b-af3aaecf996e\",\"type\":\"LinearScale\"},{\"attributes\":{\"dimension\":1,\"plot\":{\"id\":\"6c975448-f7b0-4713-9da8-9a63ea4a4d21\",\"subtype\":\"Figure\",\"type\":\"Plot\"},\"ticker\":{\"id\":\"070fb98d-f857-4b24-b9f6-df0723758935\",\"type\":\"BasicTicker\"}},\"id\":\"d3fd8f94-25ef-4548-b65d-ee0ce944af58\",\"type\":\"Grid\"},{\"attributes\":{\"label\":{\"value\":\"logistic\"},\"renderers\":[{\"id\":\"2e492e0b-b478-4d17-a31d-35e0e6343092\",\"type\":\"GlyphRenderer\"}]},\"id\":\"55d80655-13ed-4681-a224-ed4476e50214\",\"type\":\"LegendItem\"},{\"attributes\":{},\"id\":\"4e77b886-e30e-40c8-abf4-00f9af214358\",\"type\":\"LinearScale\"},{\"attributes\":{},\"id\":\"070fb98d-f857-4b24-b9f6-df0723758935\",\"type\":\"BasicTicker\"},{\"attributes\":{\"callback\":null,\"data\":{\"x\":{\"__ndarray__\":\"AAAAAAAAHMCamZmZmZkbwDQzMzMzMxvAzszMzMzMGsBoZmZmZmYawAIAAAAAABrAnJmZmZmZGcA2MzMzMzMZwNDMzMzMzBjAamZmZmZmGMAEAAAAAAAYwJ6ZmZmZmRfAODMzMzMzF8DSzMzMzMwWwGxmZmZmZhbABgAAAAAAFsCgmZmZmZkVwDozMzMzMxXA1MzMzMzMFMBuZmZmZmYUwAgAAAAAABTAopmZmZmZE8A8MzMzMzMTwNbMzMzMzBLAcGZmZmZmEsAKAAAAAAASwKSZmZmZmRHAPjMzMzMzEcDYzMzMzMwQwHJmZmZmZhDADAAAAAAAEMBMMzMzMzMPwIBmZmZmZg7AtJmZmZmZDcDozMzMzMwMwBwAAAAAAAzAUDMzMzMzC8CEZmZmZmYKwLiZmZmZmQnA7MzMzMzMCMAgAAAAAAAIwFQzMzMzMwfAiGZmZmZmBsC8mZmZmZkFwPDMzMzMzATAJAAAAAAABMBYMzMzMzMDwIxmZmZmZgLAwJmZmZmZAcD0zMzMzMwAwCgAAAAAAADAuGZmZmZm/r8gzczMzMz8v4gzMzMzM/u/8JmZmZmZ+b9YAAAAAAD4v8BmZmZmZva/KM3MzMzM9L+QMzMzMzPzv/iZmZmZmfG/YAAAAAAA8L+QzczMzMzsv2CamZmZmem/MGdmZmZm5r8ANDMzMzPjv9AAAAAAAOC/QJuZmZmZ2b/gNDMzMzPTvwCdmZmZmcm/gKCZmZmZub8AAAAAAAAcvYCSmZmZmbk/AJaZmZmZyT9gMTMzMzPTP8CXmZmZmdk/IP7/////3z9AMjMzMzPjP3BlZmZmZuY/oJiZmZmZ6T/Qy8zMzMzsPwD//////+8/GJmZmZmZ8T+wMjMzMzPzP0jMzMzMzPQ/4GVmZmZm9j94///////3PxCZmZmZmfk/qDIzMzMz+z9AzMzMzMz8P9hlZmZmZv4/cP///////z+EzMzMzMwAQFCZmZmZmQFAHGZmZmZmAkDoMjMzMzMDQLT//////wNAgMzMzMzMBEBMmZmZmZkFQBhmZmZmZgZA5DIzMzMzB0Cw//////8HQHzMzMzMzAhASJmZmZmZCUAUZmZmZmYKQOAyMzMzMwtArP//////C0B4zMzMzMwMQESZmZmZmQ1AEGZmZmZmDkDcMjMzMzMPQKj//////w9AOmZmZmZmEECgzMzMzMwQQAYzMzMzMxFAbJmZmZmZEUDS//////8RQDhmZmZmZhJAnszMzMzMEkAEMzMzMzMTQGqZmZmZmRNA0P//////E0A2ZmZmZmYUQJzMzMzMzBRAAjMzMzMzFUBomZmZmZkVQM7//////xVANGZmZmZmFkCazMzMzMwWQAAzMzMzMxdAZpmZmZmZF0DM//////8XQDJmZmZmZhhAmMzMzMzMGED+MjMzMzMZQGSZmZmZmRlAyv//////GUAwZmZmZmYaQJbMzMzMzBpA/DIzMzMzG0BimZmZmZkbQA==\",\"dtype\":\"float64\",\"shape\":[140]},\"y\":{\"__ndarray__\":\"iRHfinPaTT+nJMzvs35QP/XHHHhQOlI/JQvRt3gkVD/w/IOwC0JWP51frCxqmFg/JW30GIQtWz/KjRE05wdeP8ltt5pnl2A/WgfLxhtVYj/7f/pyd0FkP8LeMURWYWY/pYvP7BO6aD8ollwKmVFrP7JGHjxpLm4/TnAURtmrcD+MyuEir2pyP4+DcaoRWHQ/2meWJc14dj81LaCTKdJ4P1iPY332aXs/qZlzxZdGfj/klTvBibeAPxFki3eQdYI/d99vPJxhhD8EXEB6UoCGPyF63/zK1og//cocsplqiz/lE5/32EGOPxvXkjaasZA/jcJDHvpqkj/N/hRhBFGUPz4rQzwLaJY/b0/B/8C0mD/JllYGPjybPy6tzIEGBJ4/HcBg+QeJoD/0KjYNYzaiPzqWEpWHDaQ/u3RidCcSpj/pU5A8NEioP1BWlS/fs6o/zfaCKZhZrT+vvsiYBR+wP8+SRTYOs7E/9kdTEnFrsz/ojFxLzkq1P0I2eZnVU7c/fm+HgD+JuT9H+SHvxO27PygxrCsVhL4/nScp/WSnwD/2PlP6LCjCP0Zs846ExcM/HusW62uAxT9HG1o1uFnHP2yiodAJUsk/DMbjX8Jpyz+DZVra+qDNP27bfBN6988/O7pUFFY20T9Sj0eozX/SP0DeHkZ119M/vNa8Wmk81T8ldRMska3WP3x4WVagKdg/NxbT8xmv2T+CKjd0VTzbP20X1BCFz9w/IqCssb1m3j+Q///////fP3+vKSehzOA/2/OVdz2Y4T9RauRF1WHiP3l0FgZzKOM/WEPT1C/r4z8HRfZpN6nkPz+UoVLLYeU/gJDwXEUU5j/7N9wrGcDmP4ui1fXUZOc/0MggeyEC6D9PZmlJwZfoPzIOB2iPJek/HZfXi32r6T/seKnykSnqP/tEOgXln+o/tCRD3J4O6z8MMGvB9HXrP+a1tcAm1us/rHmKWn0v7D+swBtiR4LsP+gR7w/Yzuw/EtnQTIUV7T9BbpQ2plbtP+GWtd2Rku0/iU03OZ7J7T8P6OZMH/ztP3rQZ31mKu4/haoGDcJU7j+u+ja8fHvuP6LYuYjdnu4/i9auhie/7j9CnSzPmdzuP/DzaYBv9+4/iZrxy98P7z8/S80PHibvP3v1AfhZOu8/nOYdpr9M7z8AWPfcd13vP+ThDS+obO8/QGlLLnN67z+pgyGc+IbvP86MN5lVku8/EoIM1KSc7z+M/ha2/qXvP35ADo95ru8/bdIhvim27z+kEfvYIb3vP8kYddByw+8/3jgFEyzJ7z+iv9isW87vPy3TtGUO0+8/9hyr3E/X7z9pPLqhKtvvPx7Xc02o3u8/uOHDltHh7z9oo/VmruTvP3MwE+xF5+8/IM67qZ7p7z9/BY2IvuvvP/g0OeSq7e8/kkhlmGjv7z8592UM/PDvP8mF8z1p8u8/0KnpyrPz7z8Avif63vTvP3sXpMPt9e8/m/HD1+L27z/sGQimwPfvPw==\",\"dtype\":\"float64\",\"shape\":[140]}},\"selected\":{\"id\":\"55a9e547-1dce-4ecb-b216-25a6711cc349\",\"type\":\"Selection\"},\"selection_policy\":{\"id\":\"2c325531-4d91-4872-a6ed-1832d55139da\",\"type\":\"UnionRenderers\"}},\"id\":\"ce0cc117-dbfd-447e-909f-09e6d1cbb87a\",\"type\":\"ColumnDataSource\"},{\"attributes\":{\"line_alpha\":0.1,\"line_color\":\"#1f77b4\",\"line_width\":3,\"x\":{\"field\":\"x\"},\"y\":{\"field\":\"y\"}},\"id\":\"bba3a399-2909-4c51-9373-d0d741bdb400\",\"type\":\"Line\"},{\"attributes\":{},\"id\":\"8ed38dcd-54d6-4501-9553-06e8b3780182\",\"type\":\"Selection\"},{\"attributes\":{\"plot\":null,\"text\":\"\"},\"id\":\"d47a29e1-653b-44c8-b43f-36ca6a01fa28\",\"type\":\"Title\"},{\"attributes\":{},\"id\":\"55a9e547-1dce-4ecb-b216-25a6711cc349\",\"type\":\"Selection\"},{\"attributes\":{},\"id\":\"2c325531-4d91-4872-a6ed-1832d55139da\",\"type\":\"UnionRenderers\"},{\"attributes\":{},\"id\":\"99f917bd-6c7d-4043-ab5f-9005e9c1de0a\",\"type\":\"UnionRenderers\"},{\"attributes\":{},\"id\":\"c4d63076-bca1-499e-abe5-cb03f07724c4\",\"type\":\"BasicTickFormatter\"},{\"attributes\":{\"callback\":null,\"data\":{\"x\":{\"__ndarray__\":\"AAAAAAAAHMCamZmZmZkbwDQzMzMzMxvAzszMzMzMGsBoZmZmZmYawAIAAAAAABrAnJmZmZmZGcA2MzMzMzMZwNDMzMzMzBjAamZmZmZmGMAEAAAAAAAYwJ6ZmZmZmRfAODMzMzMzF8DSzMzMzMwWwGxmZmZmZhbABgAAAAAAFsCgmZmZmZkVwDozMzMzMxXA1MzMzMzMFMBuZmZmZmYUwAgAAAAAABTAopmZmZmZE8A8MzMzMzMTwNbMzMzMzBLAcGZmZmZmEsAKAAAAAAASwKSZmZmZmRHAPjMzMzMzEcDYzMzMzMwQwHJmZmZmZhDADAAAAAAAEMBMMzMzMzMPwIBmZmZmZg7AtJmZmZmZDcDozMzMzMwMwBwAAAAAAAzAUDMzMzMzC8CEZmZmZmYKwLiZmZmZmQnA7MzMzMzMCMAgAAAAAAAIwFQzMzMzMwfAiGZmZmZmBsC8mZmZmZkFwPDMzMzMzATAJAAAAAAABMBYMzMzMzMDwIxmZmZmZgLAwJmZmZmZAcD0zMzMzMwAwCgAAAAAAADAuGZmZmZm/r8gzczMzMz8v4gzMzMzM/u/8JmZmZmZ+b9YAAAAAAD4v8BmZmZmZva/KM3MzMzM9L+QMzMzMzPzv/iZmZmZmfG/YAAAAAAA8L+QzczMzMzsv2CamZmZmem/MGdmZmZm5r8ANDMzMzPjv9AAAAAAAOC/QJuZmZmZ2b/gNDMzMzPTvwCdmZmZmcm/gKCZmZmZub8AAAAAAAAcvYCSmZmZmbk/AJaZmZmZyT9gMTMzMzPTP8CXmZmZmdk/IP7/////3z9AMjMzMzPjP3BlZmZmZuY/oJiZmZmZ6T/Qy8zMzMzsPwD//////+8/GJmZmZmZ8T+wMjMzMzPzP0jMzMzMzPQ/4GVmZmZm9j94///////3PxCZmZmZmfk/qDIzMzMz+z9AzMzMzMz8P9hlZmZmZv4/cP///////z+EzMzMzMwAQFCZmZmZmQFAHGZmZmZmAkDoMjMzMzMDQLT//////wNAgMzMzMzMBEBMmZmZmZkFQBhmZmZmZgZA5DIzMzMzB0Cw//////8HQHzMzMzMzAhASJmZmZmZCUAUZmZmZmYKQOAyMzMzMwtArP//////C0B4zMzMzMwMQESZmZmZmQ1AEGZmZmZmDkDcMjMzMzMPQKj//////w9AOmZmZmZmEECgzMzMzMwQQAYzMzMzMxFAbJmZmZmZEUDS//////8RQDhmZmZmZhJAnszMzMzMEkAEMzMzMzMTQGqZmZmZmRNA0P//////E0A2ZmZmZmYUQJzMzMzMzBRAAjMzMzMzFUBomZmZmZkVQM7//////xVANGZmZmZmFkCazMzMzMwWQAAzMzMzMxdAZpmZmZmZF0DM//////8XQDJmZmZmZhhAmMzMzMzMGED+MjMzMzMZQGSZmZmZmRlAyv//////GUAwZmZmZmYaQJbMzMzMzBpA/DIzMzMzG0BimZmZmZkbQA==\",\"dtype\":\"float64\",\"shape\":[140]},\"y\":{\"__ndarray__\":\"ISuyGX3TTT98xP2ac3pQP+T4tnUfNVI/AHaV1yEeVD8AhFIETjpWP/7ZEXL2jlg/K4sgkfkhWz+15lbKz/ldP8miwWbNjmA/v7ovJZtKYj/hxbsXpTRkPzI0gEWvUWY//6bklPimaD+LeQmIRjprPwOnffPxEW4/+obIXXqacD9JQ3tRfFVyP2QBhZkzPnQ/GZBfYT1Zdj93fWFOqKt4P0Zcuh/+Ons/zojZ1E0Nfj8aG28nm5SAP0qXxa34SoI/SgtJiK8thD+tX02qCEGGPw9G8rOriYg/2w82mKQMiz+dNmH+aM+NPzEpN5fua5A/5wQuJiwWkj87zFjM0+mTPy7rYy6I6pU/mPXFCygcmD/rhbg1zYKaP9qgJBzKIp0/ih8GzVIAoD/laFBPipChP0Sp5qF4RKM/ccWYa5cepT8fbywoZSGnPymc0FNbT6k/p3k7P+Kqqz/PDalGQjauPwmmLxbJebA/e6jjMVHysT/qjhWXcoWzPymxscOpM7U/P6plhCf9tj+/inaOwOG4P98LmQ/c4Lo/mzEVqGH5vD9uJn9vpym/P2Lb8Wmwt8A/aDvCqcfjwT+ybvoeOxfDPzdvjmbJT8Q/2zFj/cyKxT8g71u6PsXGPxy+dHi8+8c/TkOjb5QqyT/dLa2F1U3KP24MbZdkYcs/BLPyYRZhzD8o/0xPzUjNP5AWLAWaFM4/uni8Nt3Azj9fO/nyaErPPwH6gYCfrs8/5miE2I3rzz8AAAAAAADQP/xohNiN688/LPqBgJ+uzz+fO/nyaErPPw55vDbdwM4/+hYsBZoUzj+h/0xPzUjNP4ez8mEWYcw/AQ1tl2Rhyz95Lq2F1U3KP/FDo2+UKsk/xL50eLz7xz/M71u6PsXGP4oyY/3MisU/4m+OZslPxD9cb/oeOxfDPw88wqnH48E/BNzxabC3wD+lJ39vpym/P8cyFahh+bw//gyZD9zguj/Qi3aOwOG4P0CrZYQn/bY/G7Kxw6kztT/NjxWXcoWzP0+p4zFR8rE/0KYvFsl5sD8/D6lGQjauP/16Oz/iqqs/aJ3QU1tPqT9FcCwoZSGnP4HGmGuXHqU/PKrmoXhEoz/KaVBPipChP1sgBs1SAKA/V6IkHMoinT9Kh7g1zYKaP9r2xQsoHJg/VOxjLojqlT9HzVjM0+mTP9oFLiYsFpI/Dyo3l+5rkD8xOGH+aM+NP0wRNpikDIs/X0fys6uJiD/eYE2qCEGGP18MSYivLYQ/R5jFrfhKgj/9G28nm5SAP2uK2dRNDX4/vV26H/46ez/MfmFOqKt4P02RX2E9WXY/fAKFmTM+dD9IRHtRfFVyP+GHyF16mnA/pah98/ERbj8GewmIRjprP1ao5JT4pmg/aDWARa9RZj/6xrsXpTRkP767LyWbSmI/r6PBZs2OYD9Z6FbKz/ldP6WMIJH5IVs/VtsRcvaOWD81hVIETjpWPxp3ldchHlQ/4fm2dR81Uj9hxf2ac3pQPw==\",\"dtype\":\"float64\",\"shape\":[140]}},\"selected\":{\"id\":\"8ed38dcd-54d6-4501-9553-06e8b3780182\",\"type\":\"Selection\"},\"selection_policy\":{\"id\":\"99f917bd-6c7d-4043-ab5f-9005e9c1de0a\",\"type\":\"UnionRenderers\"}},\"id\":\"f18b4c48-d540-459a-8e21-07c7ec37cb78\",\"type\":\"ColumnDataSource\"},{\"attributes\":{\"callback\":null},\"id\":\"3de51691-c45a-460d-8e7c-1fea4c287957\",\"type\":\"DataRange1d\"},{\"attributes\":{\"callback\":null},\"id\":\"7669c6d7-74a2-4e84-a6ad-ae4fa332a9d1\",\"type\":\"DataRange1d\"},{\"attributes\":{\"data_source\":{\"id\":\"ce0cc117-dbfd-447e-909f-09e6d1cbb87a\",\"type\":\"ColumnDataSource\"},\"glyph\":{\"id\":\"fcd8eb8a-7fb1-4be3-96c3-b5f7f9f00fb4\",\"type\":\"Line\"},\"hover_glyph\":null,\"muted_glyph\":null,\"nonselection_glyph\":{\"id\":\"b0c22cfe-334c-44f6-baf3-899ea37e3f66\",\"type\":\"Line\"},\"selection_glyph\":null,\"view\":{\"id\":\"9bf1f1b1-9235-4970-8066-28fd4acaae7f\",\"type\":\"CDSView\"}},\"id\":\"2e492e0b-b478-4d17-a31d-35e0e6343092\",\"type\":\"GlyphRenderer\"},{\"attributes\":{\"active_drag\":\"auto\",\"active_inspect\":\"auto\",\"active_multi\":null,\"active_scroll\":\"auto\",\"active_tap\":\"auto\",\"tools\":[{\"id\":\"a237fed2-35b3-4ddd-a493-597b10a449ce\",\"type\":\"PanTool\"},{\"id\":\"f0f4df4d-3792-4915-b40d-c1d8480ed9e7\",\"type\":\"WheelZoomTool\"},{\"id\":\"0f03ca03-4acc-4d0f-9d81-9b58a273e19e\",\"type\":\"BoxZoomTool\"},{\"id\":\"a6195661-a0ca-4da6-8726-eba9cbf86f33\",\"type\":\"SaveTool\"},{\"id\":\"0e8fa57c-7ed4-4fdb-9757-1d74c3e66068\",\"type\":\"ResetTool\"},{\"id\":\"e3e04f08-5177-416f-a51c-c64a9c1ce339\",\"type\":\"HelpTool\"}]},\"id\":\"c56b2eb8-7b49-46c6-af65-67c38b938d7e\",\"type\":\"Toolbar\"},{\"attributes\":{\"line_alpha\":0.1,\"line_color\":\"#1f77b4\",\"line_width\":3,\"x\":{\"field\":\"x\"},\"y\":{\"field\":\"y\"}},\"id\":\"b0c22cfe-334c-44f6-baf3-899ea37e3f66\",\"type\":\"Line\"},{\"attributes\":{},\"id\":\"c3aaf82d-a6d8-4615-b16a-8620bfcb2b20\",\"type\":\"BasicTicker\"},{\"attributes\":{},\"id\":\"e3e04f08-5177-416f-a51c-c64a9c1ce339\",\"type\":\"HelpTool\"},{\"attributes\":{},\"id\":\"a6195661-a0ca-4da6-8726-eba9cbf86f33\",\"type\":\"SaveTool\"},{\"attributes\":{\"formatter\":{\"id\":\"c2ba4cb3-4746-42f3-8597-0bd285f35321\",\"type\":\"BasicTickFormatter\"},\"plot\":{\"id\":\"6c975448-f7b0-4713-9da8-9a63ea4a4d21\",\"subtype\":\"Figure\",\"type\":\"Plot\"},\"ticker\":{\"id\":\"070fb98d-f857-4b24-b9f6-df0723758935\",\"type\":\"BasicTicker\"}},\"id\":\"b6f0a519-1d6c-4c5f-af17-c9fb47cdb99d\",\"type\":\"LinearAxis\"},{\"attributes\":{\"items\":[{\"id\":\"55d80655-13ed-4681-a224-ed4476e50214\",\"type\":\"LegendItem\"},{\"id\":\"14e4e2c3-494c-45c3-afc0-a5a3801afec1\",\"type\":\"LegendItem\"}],\"location\":\"top_left\",\"plot\":{\"id\":\"6c975448-f7b0-4713-9da8-9a63ea4a4d21\",\"subtype\":\"Figure\",\"type\":\"Plot\"}},\"id\":\"24bde9ac-ee39-4713-8d37-b203710e61e8\",\"type\":\"Legend\"},{\"attributes\":{\"source\":{\"id\":\"f18b4c48-d540-459a-8e21-07c7ec37cb78\",\"type\":\"ColumnDataSource\"}},\"id\":\"ecb8dfd2-d253-4afe-99c9-e5f3cadb52f5\",\"type\":\"CDSView\"},{\"attributes\":{\"source\":{\"id\":\"ce0cc117-dbfd-447e-909f-09e6d1cbb87a\",\"type\":\"ColumnDataSource\"}},\"id\":\"9bf1f1b1-9235-4970-8066-28fd4acaae7f\",\"type\":\"CDSView\"},{\"attributes\":{},\"id\":\"f0f4df4d-3792-4915-b40d-c1d8480ed9e7\",\"type\":\"WheelZoomTool\"},{\"attributes\":{},\"id\":\"a237fed2-35b3-4ddd-a493-597b10a449ce\",\"type\":\"PanTool\"},{\"attributes\":{},\"id\":\"c2ba4cb3-4746-42f3-8597-0bd285f35321\",\"type\":\"BasicTickFormatter\"},{\"attributes\":{\"plot\":{\"id\":\"6c975448-f7b0-4713-9da8-9a63ea4a4d21\",\"subtype\":\"Figure\",\"type\":\"Plot\"},\"ticker\":{\"id\":\"c3aaf82d-a6d8-4615-b16a-8620bfcb2b20\",\"type\":\"BasicTicker\"}},\"id\":\"2b51846a-7e22-45f6-8909-4ba616b1105f\",\"type\":\"Grid\"},{\"attributes\":{\"label\":{\"value\":\"df/dx logistic\"},\"renderers\":[{\"id\":\"4c35c010-72c5-4f1f-b7b0-e460a047095b\",\"type\":\"GlyphRenderer\"}]},\"id\":\"14e4e2c3-494c-45c3-afc0-a5a3801afec1\",\"type\":\"LegendItem\"},{\"attributes\":{\"data_source\":{\"id\":\"f18b4c48-d540-459a-8e21-07c7ec37cb78\",\"type\":\"ColumnDataSource\"},\"glyph\":{\"id\":\"91a0e288-9bbb-4cc2-be73-fae95ec78488\",\"type\":\"Line\"},\"hover_glyph\":null,\"muted_glyph\":null,\"nonselection_glyph\":{\"id\":\"bba3a399-2909-4c51-9373-d0d741bdb400\",\"type\":\"Line\"},\"selection_glyph\":null,\"view\":{\"id\":\"ecb8dfd2-d253-4afe-99c9-e5f3cadb52f5\",\"type\":\"CDSView\"}},\"id\":\"4c35c010-72c5-4f1f-b7b0-e460a047095b\",\"type\":\"GlyphRenderer\"},{\"attributes\":{\"formatter\":{\"id\":\"c4d63076-bca1-499e-abe5-cb03f07724c4\",\"type\":\"BasicTickFormatter\"},\"plot\":{\"id\":\"6c975448-f7b0-4713-9da8-9a63ea4a4d21\",\"subtype\":\"Figure\",\"type\":\"Plot\"},\"ticker\":{\"id\":\"c3aaf82d-a6d8-4615-b16a-8620bfcb2b20\",\"type\":\"BasicTicker\"}},\"id\":\"06fba60a-dfaa-4b42-af78-4fab08efd589\",\"type\":\"LinearAxis\"},{\"attributes\":{\"below\":[{\"id\":\"06fba60a-dfaa-4b42-af78-4fab08efd589\",\"type\":\"LinearAxis\"}],\"left\":[{\"id\":\"b6f0a519-1d6c-4c5f-af17-c9fb47cdb99d\",\"type\":\"LinearAxis\"}],\"plot_height\":300,\"plot_width\":700,\"renderers\":[{\"id\":\"06fba60a-dfaa-4b42-af78-4fab08efd589\",\"type\":\"LinearAxis\"},{\"id\":\"2b51846a-7e22-45f6-8909-4ba616b1105f\",\"type\":\"Grid\"},{\"id\":\"b6f0a519-1d6c-4c5f-af17-c9fb47cdb99d\",\"type\":\"LinearAxis\"},{\"id\":\"d3fd8f94-25ef-4548-b65d-ee0ce944af58\",\"type\":\"Grid\"},{\"id\":\"e32faab0-d2cd-4a33-b681-40809f75edc4\",\"type\":\"BoxAnnotation\"},{\"id\":\"24bde9ac-ee39-4713-8d37-b203710e61e8\",\"type\":\"Legend\"},{\"id\":\"2e492e0b-b478-4d17-a31d-35e0e6343092\",\"type\":\"GlyphRenderer\"},{\"id\":\"4c35c010-72c5-4f1f-b7b0-e460a047095b\",\"type\":\"GlyphRenderer\"}],\"title\":{\"id\":\"d47a29e1-653b-44c8-b43f-36ca6a01fa28\",\"type\":\"Title\"},\"toolbar\":{\"id\":\"c56b2eb8-7b49-46c6-af65-67c38b938d7e\",\"type\":\"Toolbar\"},\"x_range\":{\"id\":\"3de51691-c45a-460d-8e7c-1fea4c287957\",\"type\":\"DataRange1d\"},\"x_scale\":{\"id\":\"20e78b78-dd5e-4d0b-a56b-af3aaecf996e\",\"type\":\"LinearScale\"},\"y_range\":{\"id\":\"7669c6d7-74a2-4e84-a6ad-ae4fa332a9d1\",\"type\":\"DataRange1d\"},\"y_scale\":{\"id\":\"4e77b886-e30e-40c8-abf4-00f9af214358\",\"type\":\"LinearScale\"}},\"id\":\"6c975448-f7b0-4713-9da8-9a63ea4a4d21\",\"subtype\":\"Figure\",\"type\":\"Plot\"},{\"attributes\":{},\"id\":\"0e8fa57c-7ed4-4fdb-9757-1d74c3e66068\",\"type\":\"ResetTool\"},{\"attributes\":{\"bottom_units\":\"screen\",\"fill_alpha\":{\"value\":0.5},\"fill_color\":{\"value\":\"lightgrey\"},\"left_units\":\"screen\",\"level\":\"overlay\",\"line_alpha\":{\"value\":1.0},\"line_color\":{\"value\":\"black\"},\"line_dash\":[4,4],\"line_width\":{\"value\":2},\"plot\":null,\"render_mode\":\"css\",\"right_units\":\"screen\",\"top_units\":\"screen\"},\"id\":\"e32faab0-d2cd-4a33-b681-40809f75edc4\",\"type\":\"BoxAnnotation\"}],\"root_ids\":[\"6c975448-f7b0-4713-9da8-9a63ea4a4d21\"]},\"title\":\"Bokeh Application\",\"version\":\"0.13.0\"}};\n",
       "  var render_items = [{\"docid\":\"300f409f-4760-4b34-8961-1cf60d1e55d6\",\"roots\":{\"6c975448-f7b0-4713-9da8-9a63ea4a4d21\":\"3baa93c6-c4d3-43ee-be1e-37d68357e3d9\"}}];\n",
       "  root.Bokeh.embed.embed_items_notebook(docs_json, render_items);\n",
       "\n",
       "  }\n",
       "  if (root.Bokeh !== undefined) {\n",
       "    embed_document(root);\n",
       "  } else {\n",
       "    var attempts = 0;\n",
       "    var timer = setInterval(function(root) {\n",
       "      if (root.Bokeh !== undefined) {\n",
       "        embed_document(root);\n",
       "        clearInterval(timer);\n",
       "      }\n",
       "      attempts++;\n",
       "      if (attempts > 100) {\n",
       "        console.log(\"Bokeh: ERROR: Unable to run BokehJS code because BokehJS library is missing\")\n",
       "        clearInterval(timer);\n",
       "      }\n",
       "    }, 10, root)\n",
       "  }\n",
       "})(window);"
      ],
      "application/vnd.bokehjs_exec.v0+json": ""
     },
     "metadata": {
      "application/vnd.bokehjs_exec.v0+json": {
       "id": "6c975448-f7b0-4713-9da8-9a63ea4a4d21"
      }
     },
     "output_type": "display_data"
    }
   ],
   "source": [
    "x = np.arange(-7,7,.1) # Generate a numerical range\n",
    "p = figure(height=300,width=700)\n",
    "p.line(x,s(x),line_width=3,legend='logistic',alpha=.5)\n",
    "p.line(x,ds(x),line_width=3,color=\"orange\",\n",
    "       alpha=.5,legend=\"df/dx logistic\")\n",
    "p.legend.location = \"top_left\"\n",
    "show(p)"
   ]
  },
  {
   "cell_type": "markdown",
   "metadata": {},
   "source": [
    "With this function, we can build a model for the probability."
   ]
  },
  {
   "cell_type": "markdown",
   "metadata": {},
   "source": [
    "<br>\n",
    "<br>\n",
    "\n",
    "$$ pr(y = 1) = \\nu(z) $$\n",
    "\n",
    "<br>\n",
    "<br>\n",
    "\n",
    "$$ \\nu(z)^y(1-\\nu(z))^{1-y} $$\n",
    "\n",
    "<br>\n",
    "<br>"
   ]
  },
  {
   "cell_type": "markdown",
   "metadata": {},
   "source": [
    "#### Let's use some simulated data to walk through the optimization "
   ]
  },
  {
   "cell_type": "code",
   "execution_count": 5,
   "metadata": {},
   "outputs": [
    {
     "data": {
      "text/html": [
       "<div>\n",
       "<style scoped>\n",
       "    .dataframe tbody tr th:only-of-type {\n",
       "        vertical-align: middle;\n",
       "    }\n",
       "\n",
       "    .dataframe tbody tr th {\n",
       "        vertical-align: top;\n",
       "    }\n",
       "\n",
       "    .dataframe thead th {\n",
       "        text-align: right;\n",
       "    }\n",
       "</style>\n",
       "<table border=\"1\" class=\"dataframe\">\n",
       "  <thead>\n",
       "    <tr style=\"text-align: right;\">\n",
       "      <th></th>\n",
       "      <th>y</th>\n",
       "      <th>x1</th>\n",
       "      <th>x2</th>\n",
       "    </tr>\n",
       "  </thead>\n",
       "  <tbody>\n",
       "    <tr>\n",
       "      <th>0</th>\n",
       "      <td>1.0</td>\n",
       "      <td>-1.085631</td>\n",
       "      <td>-0.748827</td>\n",
       "    </tr>\n",
       "    <tr>\n",
       "      <th>1</th>\n",
       "      <td>1.0</td>\n",
       "      <td>0.997345</td>\n",
       "      <td>0.567595</td>\n",
       "    </tr>\n",
       "    <tr>\n",
       "      <th>2</th>\n",
       "      <td>1.0</td>\n",
       "      <td>0.282978</td>\n",
       "      <td>0.718151</td>\n",
       "    </tr>\n",
       "    <tr>\n",
       "      <th>3</th>\n",
       "      <td>0.0</td>\n",
       "      <td>-1.506295</td>\n",
       "      <td>-0.999381</td>\n",
       "    </tr>\n",
       "    <tr>\n",
       "      <th>4</th>\n",
       "      <td>1.0</td>\n",
       "      <td>-0.578600</td>\n",
       "      <td>0.474898</td>\n",
       "    </tr>\n",
       "  </tbody>\n",
       "</table>\n",
       "</div>"
      ],
      "text/plain": [
       "     y        x1        x2\n",
       "0  1.0 -1.085631 -0.748827\n",
       "1  1.0  0.997345  0.567595\n",
       "2  1.0  0.282978  0.718151\n",
       "3  0.0 -1.506295 -0.999381\n",
       "4  1.0 -0.578600  0.474898"
      ]
     },
     "execution_count": 5,
     "metadata": {},
     "output_type": "execute_result"
    }
   ],
   "source": [
    "D = pd.read_csv(\"training_data.csv\")\n",
    "D.head()"
   ]
  },
  {
   "cell_type": "code",
   "execution_count": 6,
   "metadata": {},
   "outputs": [
    {
     "data": {
      "text/plain": [
       "array([[ 1.        , -1.0856306 , -0.74882747],\n",
       "       [ 1.        ,  0.99734545,  0.56759473],\n",
       "       [ 1.        ,  0.2829785 ,  0.71815054],\n",
       "       [ 1.        , -1.50629471, -0.99938075],\n",
       "       [ 1.        , -0.57860025,  0.47489832]])"
      ]
     },
     "execution_count": 6,
     "metadata": {},
     "output_type": "execute_result"
    }
   ],
   "source": [
    "# Outcome\n",
    "y = D.y\n",
    "\n",
    "# Generate design matrix.\n",
    "X = np.column_stack([np.ones(D.shape[0]),D.x1,D.x2])\n",
    "X[:5,:]"
   ]
  },
  {
   "cell_type": "markdown",
   "metadata": {},
   "source": [
    "### The Likelihood\n",
    "\n",
    "The **likelihood function** (each individual likelihood multiplied together) is \n",
    "\n",
    "<br>\n",
    "<br>\n",
    "\n",
    "$$ L = \\prod_{i=1}^N \\nu(z_{i})^{y_{i}}(1-\\nu(z_i))^{1-y_i} $$\n",
    "\n",
    "<br>\n",
    "<br>\n",
    "\n",
    "The **log likelihood** function is \n",
    "\n",
    "$$ l  = \\sum_{i=1}^N  y_i log(\\nu(z_i)) + (1-y_i)) log((1-\\nu(z_i)))$$\n",
    "\n",
    "\n",
    "<br>\n",
    "<br>"
   ]
  },
  {
   "cell_type": "markdown",
   "metadata": {},
   "source": [
    "When we **minimize** the average log likelihood function, we get our cost function...\n",
    "\n",
    "<br>\n",
    "<br>\n",
    "\n",
    "$$ C = - \\frac{1}{N} \\sum_{i=1}^N  y_i log(\\nu(z_i)) + (1-y_i) log((1-\\nu(z_i)))$$\n",
    "\n",
    "<br>\n",
    "<br>"
   ]
  },
  {
   "cell_type": "markdown",
   "metadata": {},
   "source": [
    "Let's get a feel the for this cost function behaves..."
   ]
  },
  {
   "cell_type": "code",
   "execution_count": 7,
   "metadata": {},
   "outputs": [
    {
     "data": {
      "text/html": [
       "\n",
       "\n",
       "\n",
       "\n",
       "\n",
       "\n",
       "  <div class=\"bk-root\" id=\"4838fceb-6246-4fc8-ad9a-57b6e8c9c84a\"></div>\n"
      ]
     },
     "metadata": {},
     "output_type": "display_data"
    },
    {
     "data": {
      "application/javascript": [
       "(function(root) {\n",
       "  function embed_document(root) {\n",
       "    \n",
       "  var docs_json = {\"8627bdc7-cd19-4b47-92ca-562528c353e0\":{\"roots\":{\"references\":[{\"attributes\":{},\"id\":\"e39eb8a1-1b39-4b85-96c3-d510f2659ded\",\"type\":\"LinearScale\"},{\"attributes\":{\"data_source\":{\"id\":\"48cbadd0-d9ab-47a1-ab70-b35a024f77a9\",\"type\":\"ColumnDataSource\"},\"glyph\":{\"id\":\"5a4c04b5-a974-4da6-97e2-fa5ab23a2406\",\"type\":\"Line\"},\"hover_glyph\":null,\"muted_glyph\":null,\"nonselection_glyph\":{\"id\":\"eafbf3dd-7f31-4bc9-b6e6-5b878ae95a36\",\"type\":\"Line\"},\"selection_glyph\":null,\"view\":{\"id\":\"4b9d80e7-1618-4c5d-9382-1b77317e5506\",\"type\":\"CDSView\"}},\"id\":\"8daad407-7cf0-44bf-92e1-00faca067853\",\"type\":\"GlyphRenderer\"},{\"attributes\":{\"items\":[{\"id\":\"099ff467-1ac0-46d0-9410-4e2239c69aba\",\"type\":\"LegendItem\"},{\"id\":\"d55b1f8c-0090-48b9-bf56-cb80b15e4b9b\",\"type\":\"LegendItem\"}],\"location\":\"top_left\",\"plot\":{\"id\":\"b46df1d2-c539-4777-a85e-663ef4f47705\",\"subtype\":\"Figure\",\"type\":\"Plot\"}},\"id\":\"a0a17b97-fbaf-4408-9020-81980e7c2312\",\"type\":\"Legend\"},{\"attributes\":{},\"id\":\"b89c8cc9-7909-4726-a233-4a0f279b09b0\",\"type\":\"LinearScale\"},{\"attributes\":{},\"id\":\"bfd78444-1386-4fa3-a16d-fa386eb2e6ca\",\"type\":\"BasicTicker\"},{\"attributes\":{\"plot\":{\"id\":\"381b671a-902f-4910-9028-bb2f1d1b68bb\",\"subtype\":\"Figure\",\"type\":\"Plot\"},\"ticker\":{\"id\":\"bfd78444-1386-4fa3-a16d-fa386eb2e6ca\",\"type\":\"BasicTicker\"}},\"id\":\"4eaf94e7-8ed8-4d47-9b87-e27298f0c678\",\"type\":\"Grid\"},{\"attributes\":{\"dimension\":1,\"plot\":{\"id\":\"381b671a-902f-4910-9028-bb2f1d1b68bb\",\"subtype\":\"Figure\",\"type\":\"Plot\"},\"ticker\":{\"id\":\"16388b37-7620-4bf4-a482-4e547b555d8d\",\"type\":\"BasicTicker\"}},\"id\":\"a52554e6-859d-415b-9877-cda68eeb1168\",\"type\":\"Grid\"},{\"attributes\":{\"source\":{\"id\":\"48cbadd0-d9ab-47a1-ab70-b35a024f77a9\",\"type\":\"ColumnDataSource\"}},\"id\":\"4b9d80e7-1618-4c5d-9382-1b77317e5506\",\"type\":\"CDSView\"},{\"attributes\":{\"callback\":null},\"id\":\"c8b24bb2-8f7e-4737-827a-fb8f92af1b9c\",\"type\":\"DataRange1d\"},{\"attributes\":{\"line_alpha\":0.1,\"line_color\":\"#1f77b4\",\"line_width\":3,\"x\":{\"field\":\"x\"},\"y\":{\"field\":\"y\"}},\"id\":\"eafbf3dd-7f31-4bc9-b6e6-5b878ae95a36\",\"type\":\"Line\"},{\"attributes\":{\"items\":[{\"id\":\"731c5261-1864-4137-a00b-f9a707baf326\",\"type\":\"LegendItem\"},{\"id\":\"fad816ba-b4a7-4b05-ad64-857aa25e03db\",\"type\":\"LegendItem\"}],\"plot\":{\"id\":\"381b671a-902f-4910-9028-bb2f1d1b68bb\",\"subtype\":\"Figure\",\"type\":\"Plot\"}},\"id\":\"4fcda56c-94db-4bcb-8033-e51dd7e706ad\",\"type\":\"Legend\"},{\"attributes\":{},\"id\":\"061e405f-bde2-4f04-963c-9ebf1a66a1bd\",\"type\":\"BasicTickFormatter\"},{\"attributes\":{},\"id\":\"e1e2bb9b-c283-4ed8-8a20-ddfd8e3adfa4\",\"type\":\"PanTool\"},{\"attributes\":{},\"id\":\"79bf9afb-d97d-42ea-aaa7-8275d324351a\",\"type\":\"BasicTickFormatter\"},{\"attributes\":{\"label\":{\"value\":\"-y*log(pr)\"},\"renderers\":[{\"id\":\"00744c43-5995-4beb-8dae-a40f69764dff\",\"type\":\"GlyphRenderer\"}]},\"id\":\"099ff467-1ac0-46d0-9410-4e2239c69aba\",\"type\":\"LegendItem\"},{\"attributes\":{},\"id\":\"483a7bba-9d7a-49b2-97c4-388c72292847\",\"type\":\"WheelZoomTool\"},{\"attributes\":{\"overlay\":{\"id\":\"25af8fc5-e9c5-4e85-ad5b-7eb6db356f7d\",\"type\":\"BoxAnnotation\"}},\"id\":\"3ce1d03a-c3e3-4dc2-b90d-ab5ddc530651\",\"type\":\"BoxZoomTool\"},{\"attributes\":{},\"id\":\"57197cfe-fe85-4f1c-8167-652b0160269f\",\"type\":\"SaveTool\"},{\"attributes\":{},\"id\":\"0c188be6-35ff-4f48-acde-aa6168ec2523\",\"type\":\"ResetTool\"},{\"attributes\":{},\"id\":\"b6ba1ce1-9450-4cf3-956d-d876be22ba85\",\"type\":\"HelpTool\"},{\"attributes\":{\"bottom_units\":\"screen\",\"fill_alpha\":{\"value\":0.5},\"fill_color\":{\"value\":\"lightgrey\"},\"left_units\":\"screen\",\"level\":\"overlay\",\"line_alpha\":{\"value\":1.0},\"line_color\":{\"value\":\"black\"},\"line_dash\":[4,4],\"line_width\":{\"value\":2},\"plot\":null,\"render_mode\":\"css\",\"right_units\":\"screen\",\"top_units\":\"screen\"},\"id\":\"25af8fc5-e9c5-4e85-ad5b-7eb6db356f7d\",\"type\":\"BoxAnnotation\"},{\"attributes\":{\"children\":[{\"id\":\"381b671a-902f-4910-9028-bb2f1d1b68bb\",\"subtype\":\"Figure\",\"type\":\"Plot\"},{\"id\":\"b46df1d2-c539-4777-a85e-663ef4f47705\",\"subtype\":\"Figure\",\"type\":\"Plot\"}]},\"id\":\"3e4d4d58-ac3e-4a67-9c3c-770b48b45a76\",\"type\":\"Row\"},{\"attributes\":{\"below\":[{\"id\":\"e2c2b457-4d1e-46e3-9dae-e02829d0549b\",\"type\":\"LinearAxis\"}],\"left\":[{\"id\":\"31d483ee-f46a-4796-915e-1d2f50f50342\",\"type\":\"LinearAxis\"}],\"plot_height\":400,\"plot_width\":400,\"renderers\":[{\"id\":\"e2c2b457-4d1e-46e3-9dae-e02829d0549b\",\"type\":\"LinearAxis\"},{\"id\":\"c52758eb-6240-4d8c-9587-8dd4257943e2\",\"type\":\"Grid\"},{\"id\":\"31d483ee-f46a-4796-915e-1d2f50f50342\",\"type\":\"LinearAxis\"},{\"id\":\"c3fa77ea-e138-410d-abf3-735dc411a56b\",\"type\":\"Grid\"},{\"id\":\"acba627a-bd4e-4380-89d4-2e2c6e7fd7fd\",\"type\":\"BoxAnnotation\"},{\"id\":\"a0a17b97-fbaf-4408-9020-81980e7c2312\",\"type\":\"Legend\"},{\"id\":\"00744c43-5995-4beb-8dae-a40f69764dff\",\"type\":\"GlyphRenderer\"},{\"id\":\"79f3ff3d-c418-4c8e-a8d8-f5433c3e45cb\",\"type\":\"GlyphRenderer\"}],\"title\":{\"id\":\"7d2776f4-7fa2-49d8-b1b0-67953942fb0e\",\"type\":\"Title\"},\"toolbar\":{\"id\":\"513f3017-6a02-4453-aed4-874c21f85a09\",\"type\":\"Toolbar\"},\"x_range\":{\"id\":\"9a43f648-c10d-41f6-bc11-f828102b157a\",\"type\":\"DataRange1d\"},\"x_scale\":{\"id\":\"6847f035-1ab4-4632-834d-b472cc17254a\",\"type\":\"LinearScale\"},\"y_range\":{\"id\":\"4a05a10f-5b18-404b-ae74-45530086a22d\",\"type\":\"DataRange1d\"},\"y_scale\":{\"id\":\"8e93809b-defd-4eee-a738-f28b03319211\",\"type\":\"LinearScale\"}},\"id\":\"b46df1d2-c539-4777-a85e-663ef4f47705\",\"subtype\":\"Figure\",\"type\":\"Plot\"},{\"attributes\":{\"label\":{\"value\":\"-y*log(pr)\"},\"renderers\":[{\"id\":\"8daad407-7cf0-44bf-92e1-00faca067853\",\"type\":\"GlyphRenderer\"}]},\"id\":\"731c5261-1864-4137-a00b-f9a707baf326\",\"type\":\"LegendItem\"},{\"attributes\":{\"line_alpha\":0.5,\"line_color\":\"orange\",\"line_width\":3,\"x\":{\"field\":\"x\"},\"y\":{\"field\":\"y\"}},\"id\":\"68e7f055-463b-4c72-844d-55cf4ad1904d\",\"type\":\"Line\"},{\"attributes\":{\"line_alpha\":0.1,\"line_color\":\"#1f77b4\",\"line_width\":3,\"x\":{\"field\":\"x\"},\"y\":{\"field\":\"y\"}},\"id\":\"094f9232-cb28-405c-af82-5f2d552ea6ae\",\"type\":\"Line\"},{\"attributes\":{\"data_source\":{\"id\":\"ebc29d23-43cf-4b90-a9bc-1d1614d8cd05\",\"type\":\"ColumnDataSource\"},\"glyph\":{\"id\":\"68e7f055-463b-4c72-844d-55cf4ad1904d\",\"type\":\"Line\"},\"hover_glyph\":null,\"muted_glyph\":null,\"nonselection_glyph\":{\"id\":\"094f9232-cb28-405c-af82-5f2d552ea6ae\",\"type\":\"Line\"},\"selection_glyph\":null,\"view\":{\"id\":\"ee4387e8-6e76-4b62-8a63-fab2fb864968\",\"type\":\"CDSView\"}},\"id\":\"b8a7d965-bc09-4e46-9c4c-95c7f6485191\",\"type\":\"GlyphRenderer\"},{\"attributes\":{\"source\":{\"id\":\"ebc29d23-43cf-4b90-a9bc-1d1614d8cd05\",\"type\":\"ColumnDataSource\"}},\"id\":\"ee4387e8-6e76-4b62-8a63-fab2fb864968\",\"type\":\"CDSView\"},{\"attributes\":{},\"id\":\"35a60200-380a-4963-8431-28b12144ec30\",\"type\":\"UnionRenderers\"},{\"attributes\":{},\"id\":\"e7da8d5b-71fd-4ad4-8658-52f2ec893fc0\",\"type\":\"Selection\"},{\"attributes\":{\"label\":{\"value\":\"(1-y)*log(1-pr)\"},\"renderers\":[{\"id\":\"b8a7d965-bc09-4e46-9c4c-95c7f6485191\",\"type\":\"GlyphRenderer\"}]},\"id\":\"fad816ba-b4a7-4b05-ad64-857aa25e03db\",\"type\":\"LegendItem\"},{\"attributes\":{\"callback\":null},\"id\":\"ba99739c-47d7-4438-bc3e-0d4922bf618b\",\"type\":\"DataRange1d\"},{\"attributes\":{\"source\":{\"id\":\"66a601ed-01c0-4d19-bc30-5d29c3fed845\",\"type\":\"ColumnDataSource\"}},\"id\":\"d95d140f-2203-4f71-bf8d-6c1f8f120b94\",\"type\":\"CDSView\"},{\"attributes\":{\"callback\":null,\"data\":{\"x\":{\"__ndarray__\":\"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\",\"dtype\":\"float64\",\"shape\":[999]},\"y\":{\"__ndarray__\":\"AAAAAAAAAIAAAAAAAAAAgAAAAAAAAACAAAAAAAAAAIAAAAAAAAAAgAAAAAAAAACAAAAAAAAAAIAAAAAAAAAAgAAAAAAAAACAAAAAAAAAAIAAAAAAAAAAgAAAAAAAAACAAAAAAAAAAIAAAAAAAAAAgAAAAAAAAACAAAAAAAAAAIAAAAAAAAAAgAAAAAAAAACAAAAAAAAAAIAAAAAAAAAAgAAAAAAAAACAAAAAAAAAAIAAAAAAAAAAgAAAAAAAAACAAAAAAAAAAIAAAAAAAAAAgAAAAAAAAACAAAAAAAAAAIAAAAAAAAAAgAAAAAAAAACAAAAAAAAAAIAAAAAAAAAAgAAAAAAAAACAAAAAAAAAAIAAAAAAAAAAgAAAAAAAAACAAAAAAAAAAIAAAAAAAAAAgAAAAAAAAACAAAAAAAAAAIAAAAAAAAAAgAAAAAAAAACAAAAAAAAAAIAAAAAAAAAAgAAAAAAAAACAAAAAAAAAAIAAAAAAAAAAgAAAAAAAAACAAAAAAAAAAIAAAAAAAAAAgAAAAAAAAACAAAAAAAAAAIAAAAAAAAAAgAAAAAAAAACAAAAAAAAAAIAAAAAAAAAAgAAAAAAAAACAAAAAAAAAAIAAAAAAAAAAgAAAAAAAAACAAAAAAAAAAIAAAAAAAAAAgAAAAAAAAACAAAAAAAAAAIAAAAAAAAAAgAAAAAAAAACAAAAAAAAAAIAAAAAAAAAAgAAAAAAAAACAAAAAAAAAAIAAAAAAAAAAgAAAAAAAAACAAAAAAAAAAIAAAAAAAAAAgAAAAAAAAACAAAAAAAAAAIAAAAAAAAAAgAAAAAAAAACAAAAAAAAAAIAAAAAAAAAAgAAAAAAAAACAAAAAAAAAAIAAAAAAAAAAgAAAAAAAAACAAAAAAAAAAIAAAAAAAAAAgAAAAAAAAACAAAAAAAAAAIAAAAAAAAAAgAAAAAAAAACAAAAAAAAAAIAAAAAAAAAAgAAAAAAAAACAAAAAAAAAAIAAAAAAAAAAgAAAAAAAAACAAAAAAAAAAIAAAAAAAAAAgAAAAAAAAACAAAAAAAAAAIAAAAAAAAAAgAAAAAAAAACAAAAAAAAAAIAAAAAAAAAAgAAAAAAAAACAAAAAAAAAAIAAAAAAAAAAgAAAAAAAAACAAAAAAAAAAIAAAAAAAAAAgAAAAAAAAACAAAAAAAAAAIAAAAAAAAAAgAAAAAAAAACAAAAAAAAAAIAAAAAAAAAAgAAAAAAAAACAAAAAAAAAAIAAAAAAAAAAgAAAAAAAAACAAAAAAAAAAIAAAAAAAAAAgAAAAAAAAACAAAAAAAAAAIAAAAAAAAAAgAAAAAAAAACAAAAAAAAAAIAAAAAAAAAAgAAAAAAAAACAAAAAAAAAAIAAAAAAAAAAgAAAAAAAAACAAAAAAAAAAIAAAAAAAAAAgAAAAAAAAACAAAAAAAAAAIAAAAAAAAAAgAAAAAAAAACAAAAAAAAAAIAAAAAAAAAAgAAAAAAAAACAAAAAAAAAAIAAAAAAAAAAgAAAAAAAAACAAAAAAAAAAIAAAAAAAAAAgAAAAAAAAACAAAAAAAAAAIAAAAAAAAAAgAAAAAAAAACAAAAAAAAAAIAAAAAAAAAAgAAAAAAAAACAAAAAAAAAAIAAAAAAAAAAgAAAAAAAAACAAAAAAAAAAIAAAAAAAAAAgAAAAAAAAACAAAAAAAAAAIAAAAAAAAAAgAAAAAAAAACAAAAAAAAAAIAAAAAAAAAAgAAAAAAAAACAAAAAAAAAAIAAAAAAAAAAgAAAAAAAAACAAAAAAAAAAIAAAAAAAAAAgAAAAAAAAACAAAAAAAAAAIAAAAAAAAAAgAAAAAAAAACAAAAAAAAAAIAAAAAAAAAAgAAAAAAAAACAAAAAAAAAAIAAAAAAAAAAgAAAAAAAAACAAAAAAAAAAIAAAAAAAAAAgAAAAAAAAACAAAAAAAAAAIAAAAAAAAAAgAAAAAAAAACAAAAAAAAAAIAAAAAAAAAAgAAAAAAAAACAAAAAAAAAAIAAAAAAAAAAgAAAAAAAAACAAAAAAAAAAIAAAAAAAAAAgAAAAAAAAACAAAAAAAAAAIAAAAAAAAAAgAAAAAAAAACAAAAAAAAAAIAAAAAAAAAAgAAAAAAAAACAAAAAAAAAAIAAAAAAAAAAgAAAAAAAAACAAAAAAAAAAIAAAAAAAAAAgAAAAAAAAACAAAAAAAAAAIAAAAAAAAAAgAAAAAAAAACAAAAAAAAAAIAAAAAAAAAAgAAAAAAAAACAAAAAAAAAAIAAAAAAAAAAgAAAAAAAAACAAAAAAAAAAIAAAAAAAAAAgAAAAAAAAACAAAAAAAAAAIAAAAAAAAAAgAAAAAAAAACAAAAAAAAAAIAAAAAAAAAAgAAAAAAAAACAAAAAAAAAAIAAAAAAAAAAgAAAAAAAAACAAAAAAAAAAIAAAAAAAAAAgAAAAAAAAACAAAAAAAAAAIAAAAAAAAAAgAAAAAAAAACAAAAAAAAAAIAAAAAAAAAAgAAAAAAAAACAAAAAAAAAAIAAAAAAAAAAgAAAAAAAAACAAAAAAAAAAIAAAAAAAAAAgAAAAAAAAACAAAAAAAAAAIAAAAAAAAAAgAAAAAAAAACAAAAAAAAAAIAAAAAAAAAAgAAAAAAAAACAAAAAAAAAAIAAAAAAAAAAgAAAAAAAAACAAAAAAAAAAIAAAAAAAAAAgAAAAAAAAACAAAAAAAAAAIAAAAAAAAAAgAAAAAAAAACAAAAAAAAAAIAAAAAAAAAAgAAAAAAAAACAAAAAAAAAAIAAAAAAAAAAgAAAAAAAAACAAAAAAAAAAIAAAAAAAAAAgAAAAAAAAACAAAAAAAAAAIAAAAAAAAAAgAAAAAAAAACAAAAAAAAAAIAAAAAAAAAAgAAAAAAAAACAAAAAAAAAAIAAAAAAAAAAgAAAAAAAAACAAAAAAAAAAIAAAAAAAAAAgAAAAAAAAACAAAAAAAAAAIAAAAAAAAAAgAAAAAAAAACAAAAAAAAAAIAAAAAAAAAAgAAAAAAAAACAAAAAAAAAAIAAAAAAAAAAgAAAAAAAAACAAAAAAAAAAIAAAAAAAAAAgAAAAAAAAACAAAAAAAAAAIAAAAAAAAAAgAAAAAAAAACAAAAAAAAAAIAAAAAAAAAAgAAAAAAAAACAAAAAAAAAAIAAAAAAAAAAgAAAAAAAAACAAAAAAAAAAIAAAAAAAAAAgAAAAAAAAACAAAAAAAAAAIAAAAAAAAAAgAAAAAAAAACAAAAAAAAAAIAAAAAAAAAAgAAAAAAAAACAAAAAAAAAAIAAAAAAAAAAgAAAAAAAAACAAAAAAAAAAIAAAAAAAAAAgAAAAAAAAACAAAAAAAAAAIAAAAAAAAAAgAAAAAAAAACAAAAAAAAAAIAAAAAAAAAAgAAAAAAAAACAAAAAAAAAAIAAAAAAAAAAgAAAAAAAAACAAAAAAAAAAIAAAAAAAAAAgAAAAAAAAACAAAAAAAAAAIAAAAAAAAAAgAAAAAAAAACAAAAAAAAAAIAAAAAAAAAAgAAAAAAAAACAAAAAAAAAAIAAAAAAAAAAgAAAAAAAAACAAAAAAAAAAIAAAAAAAAAAgAAAAAAAAACAAAAAAAAAAIAAAAAAAAAAgAAAAAAAAACAAAAAAAAAAIAAAAAAAAAAgAAAAAAAAACAAAAAAAAAAIAAAAAAAAAAgAAAAAAAAACAAAAAAAAAAIAAAAAAAAAAgAAAAAAAAACAAAAAAAAAAIAAAAAAAAAAgAAAAAAAAACAAAAAAAAAAIAAAAAAAAAAgAAAAAAAAACAAAAAAAAAAIAAAAAAAAAAgAAAAAAAAACAAAAAAAAAAIAAAAAAAAAAgAAAAAAAAACAAAAAAAAAAIAAAAAAAAAAgAAAAAAAAACAAAAAAAAAAIAAAAAAAAAAgAAAAAAAAACAAAAAAAAAAIAAAAAAAAAAgAAAAAAAAACAAAAAAAAAAIAAAAAAAAAAgAAAAAAAAACAAAAAAAAAAIAAAAAAAAAAgAAAAAAAAACAAAAAAAAAAIAAAAAAAAAAgAAAAAAAAACAAAAAAAAAAIAAAAAAAAAAgAAAAAAAAACAAAAAAAAAAIAAAAAAAAAAgAAAAAAAAACAAAAAAAAAAIAAAAAAAAAAgAAAAAAAAACAAAAAAAAAAIAAAAAAAAAAgAAAAAAAAACAAAAAAAAAAIAAAAAAAAAAgAAAAAAAAACAAAAAAAAAAIAAAAAAAAAAgAAAAAAAAACAAAAAAAAAAIAAAAAAAAAAgAAAAAAAAACAAAAAAAAAAIAAAAAAAAAAgAAAAAAAAACAAAAAAAAAAIAAAAAAAAAAgAAAAAAAAACAAAAAAAAAAIAAAAAAAAAAgAAAAAAAAACAAAAAAAAAAIAAAAAAAAAAgAAAAAAAAACAAAAAAAAAAIAAAAAAAAAAgAAAAAAAAACAAAAAAAAAAIAAAAAAAAAAgAAAAAAAAACAAAAAAAAAAIAAAAAAAAAAgAAAAAAAAACAAAAAAAAAAIAAAAAAAAAAgAAAAAAAAACAAAAAAAAAAIAAAAAAAAAAgAAAAAAAAACAAAAAAAAAAIAAAAAAAAAAgAAAAAAAAACAAAAAAAAAAIAAAAAAAAAAgAAAAAAAAACAAAAAAAAAAIAAAAAAAAAAgAAAAAAAAACAAAAAAAAAAIAAAAAAAAAAgAAAAAAAAACAAAAAAAAAAIAAAAAAAAAAgAAAAAAAAACAAAAAAAAAAIAAAAAAAAAAgAAAAAAAAACAAAAAAAAAAIAAAAAAAAAAgAAAAAAAAACAAAAAAAAAAIAAAAAAAAAAgAAAAAAAAACAAAAAAAAAAIAAAAAAAAAAgAAAAAAAAACAAAAAAAAAAIAAAAAAAAAAgAAAAAAAAACAAAAAAAAAAIAAAAAAAAAAgAAAAAAAAACAAAAAAAAAAIAAAAAAAAAAgAAAAAAAAACAAAAAAAAAAIAAAAAAAAAAgAAAAAAAAACAAAAAAAAAAIAAAAAAAAAAgAAAAAAAAACAAAAAAAAAAIAAAAAAAAAAgAAAAAAAAACAAAAAAAAAAIAAAAAAAAAAgAAAAAAAAACAAAAAAAAAAIAAAAAAAAAAgAAAAAAAAACAAAAAAAAAAIAAAAAAAAAAgAAAAAAAAACAAAAAAAAAAIAAAAAAAAAAgAAAAAAAAACAAAAAAAAAAIAAAAAAAAAAgAAAAAAAAACAAAAAAAAAAIAAAAAAAAAAgAAAAAAAAACAAAAAAAAAAIAAAAAAAAAAgAAAAAAAAACAAAAAAAAAAIAAAAAAAAAAgAAAAAAAAACAAAAAAAAAAIAAAAAAAAAAgAAAAAAAAACAAAAAAAAAAIAAAAAAAAAAgAAAAAAAAACAAAAAAAAAAIAAAAAAAAAAgAAAAAAAAACAAAAAAAAAAIAAAAAAAAAAgAAAAAAAAACAAAAAAAAAAIAAAAAAAAAAgAAAAAAAAACAAAAAAAAAAIAAAAAAAAAAgAAAAAAAAACAAAAAAAAAAIAAAAAAAAAAgAAAAAAAAACAAAAAAAAAAIAAAAAAAAAAgAAAAAAAAACAAAAAAAAAAIAAAAAAAAAAgAAAAAAAAACAAAAAAAAAAIAAAAAAAAAAgAAAAAAAAACAAAAAAAAAAIAAAAAAAAAAgAAAAAAAAACAAAAAAAAAAIAAAAAAAAAAgAAAAAAAAACAAAAAAAAAAIAAAAAAAAAAgAAAAAAAAACAAAAAAAAAAIAAAAAAAAAAgAAAAAAAAACAAAAAAAAAAIAAAAAAAAAAgAAAAAAAAACAAAAAAAAAAIAAAAAAAAAAgAAAAAAAAACAAAAAAAAAAIAAAAAAAAAAgAAAAAAAAACAAAAAAAAAAIAAAAAAAAAAgAAAAAAAAACAAAAAAAAAAIAAAAAAAAAAgAAAAAAAAACAAAAAAAAAAIAAAAAAAAAAgAAAAAAAAACAAAAAAAAAAIAAAAAAAAAAgAAAAAAAAACAAAAAAAAAAIAAAAAAAAAAgAAAAAAAAACAAAAAAAAAAIAAAAAAAAAAgAAAAAAAAACAAAAAAAAAAIAAAAAAAAAAgAAAAAAAAACAAAAAAAAAAIAAAAAAAAAAgAAAAAAAAACAAAAAAAAAAIAAAAAAAAAAgAAAAAAAAACAAAAAAAAAAIAAAAAAAAAAgAAAAAAAAACAAAAAAAAAAIAAAAAAAAAAgAAAAAAAAACAAAAAAAAAAIAAAAAAAAAAgAAAAAAAAACAAAAAAAAAAIAAAAAAAAAAgAAAAAAAAACAAAAAAAAAAIAAAAAAAAAAgAAAAAAAAACAAAAAAAAAAIAAAAAAAAAAgAAAAAAAAACAAAAAAAAAAIAAAAAAAAAAgAAAAAAAAACAAAAAAAAAAIAAAAAAAAAAgAAAAAAAAACAAAAAAAAAAIAAAAAAAAAAgAAAAAAAAACAAAAAAAAAAIAAAAAAAAAAgAAAAAAAAACAAAAAAAAAAIAAAAAAAAAAgAAAAAAAAACAAAAAAAAAAIAAAAAAAAAAgAAAAAAAAACAAAAAAAAAAIAAAAAAAAAAgAAAAAAAAACAAAAAAAAAAIAAAAAAAAAAgAAAAAAAAACAAAAAAAAAAIAAAAAAAAAAgAAAAAAAAACAAAAAAAAAAIAAAAAAAAAAgAAAAAAAAACAAAAAAAAAAIAAAAAAAAAAgAAAAAAAAACAAAAAAAAAAIAAAAAAAAAAgAAAAAAAAACAAAAAAAAAAIAAAAAAAAAAgAAAAAAAAACAAAAAAAAAAIAAAAAAAAAAgAAAAAAAAACAAAAAAAAAAIAAAAAAAAAAgAAAAAAAAACAAAAAAAAAAIAAAAAAAAAAgAAAAAAAAACAAAAAAAAAAIAAAAAAAAAAgAAAAAAAAACAAAAAAAAAAIAAAAAAAAAAgAAAAAAAAACAAAAAAAAAAIAAAAAAAAAAgAAAAAAAAACAAAAAAAAAAIAAAAAAAAAAgAAAAAAAAACAAAAAAAAAAIAAAAAAAAAAgAAAAAAAAACAAAAAAAAAAIAAAAAAAAAAgAAAAAAAAACAAAAAAAAAAIAAAAAAAAAAgAAAAAAAAACAAAAAAAAAAIAAAAAAAAAAgAAAAAAAAACAAAAAAAAAAIAAAAAAAAAAgAAAAAAAAACAAAAAAAAAAIAAAAAAAAAAgAAAAAAAAACAAAAAAAAAAIAAAAAAAAAAgAAAAAAAAACAAAAAAAAAAIAAAAAAAAAAgAAAAAAAAACAAAAAAAAAAIAAAAAAAAAAgAAAAAAAAACAAAAAAAAAAIAAAAAAAAAAgAAAAAAAAACAAAAAAAAAAIAAAAAAAAAAgAAAAAAAAACAAAAAAAAAAIAAAAAAAAAAgAAAAAAAAACAAAAAAAAAAIAAAAAAAAAAgAAAAAAAAACAAAAAAAAAAIAAAAAAAAAAgAAAAAAAAACAAAAAAAAAAIAAAAAAAAAAgAAAAAAAAACAAAAAAAAAAIAAAAAAAAAAgAAAAAAAAACAAAAAAAAAAIAAAAAAAAAAgAAAAAAAAACAAAAAAAAAAIAAAAAAAAAAgAAAAAAAAACAAAAAAAAAAIAAAAAAAAAAgAAAAAAAAACAAAAAAAAAAIAAAAAAAAAAgAAAAAAAAACAAAAAAAAAAIAAAAAAAAAAgAAAAAAAAACAAAAAAAAAAIAAAAAAAAAAgAAAAAAAAACAAAAAAAAAAIAAAAAAAAAAgAAAAAAAAACAAAAAAAAAAIAAAAAAAAAAgAAAAAAAAACAAAAAAAAAAIAAAAAAAAAAgAAAAAAAAACAAAAAAAAAAIAAAAAAAAAAgAAAAAAAAACAAAAAAAAAAIAAAAAAAAAAgAAAAAAAAACAAAAAAAAAAIAAAAAAAAAAgAAAAAAAAACAAAAAAAAAAIAAAAAAAAAAgAAAAAAAAACAAAAAAAAAAIAAAAAAAAAAgAAAAAAAAACAAAAAAAAAAIAAAAAAAAAAgAAAAAAAAACAAAAAAAAAAIAAAAAAAAAAgAAAAAAAAACAAAAAAAAAAIAAAAAAAAAAgAAAAAAAAACAAAAAAAAAAIAAAAAAAAAAgAAAAAAAAACAAAAAAAAAAIAAAAAAAAAAgAAAAAAAAACAAAAAAAAAAIAAAAAAAAAAgAAAAAAAAACAAAAAAAAAAIAAAAAAAAAAgAAAAAAAAACAAAAAAAAAAIAAAAAAAAAAgAAAAAAAAACAAAAAAAAAAIAAAAAAAAAAgAAAAAAAAACAAAAAAAAAAIAAAAAAAAAAgAAAAAAAAACAAAAAAAAAAIAAAAAAAAAAgAAAAAAAAACAAAAAAAAAAIAAAAAAAAAAgAAAAAAAAACAAAAAAAAAAIAAAAAAAAAAgAAAAAAAAACAAAAAAAAAAIAAAAAAAAAAgAAAAAAAAACAAAAAAAAAAIAAAAAAAAAAgAAAAAAAAACAAAAAAAAAAIAAAAAAAAAAgAAAAAAAAACAAAAAAAAAAIAAAAAAAAAAgAAAAAAAAACAAAAAAAAAAIAAAAAAAAAAgAAAAAAAAACAAAAAAAAAAIAAAAAAAAAAgAAAAAAAAACAAAAAAAAAAIAAAAAAAAAAgAAAAAAAAACAAAAAAAAAAIAAAAAAAAAAgAAAAAAAAACAAAAAAAAAAIAAAAAAAAAAgAAAAAAAAACAAAAAAAAAAIAAAAAAAAAAgAAAAAAAAACAAAAAAAAAAIAAAAAAAAAAgAAAAAAAAACAAAAAAAAAAIAAAAAAAAAAgAAAAAAAAACAAAAAAAAAAIAAAAAAAAAAgAAAAAAAAACAAAAAAAAAAIAAAAAAAAAAgAAAAAAAAACAAAAAAAAAAIAAAAAAAAAAgAAAAAAAAACAAAAAAAAAAIAAAAAAAAAAgAAAAAAAAACAAAAAAAAAAIAAAAAAAAAAgAAAAAAAAACAAAAAAAAAAIAAAAAAAAAAgAAAAAAAAACAAAAAAAAAAIAAAAAAAAAAgAAAAAAAAACAAAAAAAAAAIAAAAAAAAAAgAAAAAAAAACAAAAAAAAAAIAAAAAAAAAAgAAAAAAAAACAAAAAAAAAAIAAAAAAAAAAgAAAAAAAAACAAAAAAAAAAIAAAAAAAAAAgAAAAAAAAACAAAAAAAAAAIAAAAAAAAAAgAAAAAAAAACAAAAAAAAAAIAAAAAAAAAAgAAAAAAAAACAAAAAAAAAAIAAAAAAAAAAgAAAAAAAAACAAAAAAAAAAIAAAAAAAAAAgAAAAAAAAACAAAAAAAAAAIAAAAAAAAAAgAAAAAAAAACAAAAAAAAAAIAAAAAAAAAAgAAAAAAAAACAAAAAAAAAAIAAAAAAAAAAgAAAAAAAAACAAAAAAAAAAIAAAAAAAAAAgAAAAAAAAACAAAAAAAAAAIAAAAAAAAAAgAAAAAAAAACAAAAAAAAAAIAAAAAAAAAAgAAAAAAAAACAAAAAAAAAAIAAAAAAAAAAgAAAAAAAAACAAAAAAAAAAIAAAAAAAAAAgAAAAAAAAACAAAAAAAAAAIAAAAAAAAAAgAAAAAAAAACAAAAAAAAAAIAAAAAAAAAAgAAAAAAAAACAAAAAAAAAAIAAAAAAAAAAgAAAAAAAAACAAAAAAAAAAIAAAAAAAAAAgAAAAAAAAACAAAAAAAAAAIAAAAAAAAAAgAAAAAAAAACAAAAAAAAAAIAAAAAAAAAAgAAAAAAAAACAAAAAAAAAAIAAAAAAAAAAgAAAAAAAAACAAAAAAAAAAIAAAAAAAAAAgAAAAAAAAACAAAAAAAAAAIAAAAAAAAAAgAAAAAAAAACAAAAAAAAAAIAAAAAAAAAAgAAAAAAAAACAAAAAAAAAAIAAAAAAAAAAgAAAAAAAAACAAAAAAAAAAIAAAAAAAAAAgAAAAAAAAACAAAAAAAAAAIAAAAAAAAAAgAAAAAAAAACAAAAAAAAAAIAAAAAAAAAAgAAAAAAAAACAAAAAAAAAAIAAAAAAAAAAgAAAAAAAAACAAAAAAAAAAIAAAAAAAAAAgAAAAAAAAACAAAAAAAAAAIAAAAAAAAAAgAAAAAAAAACAAAAAAAAAAIAAAAAAAAAAgAAAAAAAAACAAAAAAAAAAIAAAAAAAAAAgAAAAAAAAACAAAAAAAAAAIAAAAAAAAAAgAAAAAAAAACAAAAAAAAAAIAAAAAAAAAAgAAAAAAAAACAAAAAAAAAAIAAAAAAAAAAgAAAAAAAAACAAAAAAAAAAIAAAAAAAAAAgAAAAAAAAACAAAAAAAAAAIAAAAAAAAAAgAAAAAAAAACAAAAAAAAAAIAAAAAAAAAAgAAAAAAAAACAAAAAAAAAAIAAAAAAAAAAgAAAAAAAAACAAAAAAAAAAIAAAAAAAAAAgAAAAAAAAACAAAAAAAAAAIAAAAAAAAAAgAAAAAAAAACAAAAAAAAAAIAAAAAAAAAAgAAAAAAAAACAAAAAAAAAAIAAAAAAAAAAgAAAAAAAAACAAAAAAAAAAIAAAAAAAAAAgAAAAAAAAACAAAAAAAAAAIAAAAAAAAAAgAAAAAAAAACAAAAAAAAAAIAAAAAAAAAAgAAAAAAAAACAAAAAAAAAAIAAAAAAAAAAgAAAAAAAAACAAAAAAAAAAIAAAAAAAAAAgAAAAAAAAACAAAAAAAAAAIAAAAAAAAAAgAAAAAAAAACAAAAAAAAAAIAAAAAAAAAAgAAAAAAAAACA\",\"dtype\":\"float64\",\"shape\":[999]}},\"selected\":{\"id\":\"a2a2a527-f93e-4683-8da9-edd392683417\",\"type\":\"Selection\"},\"selection_policy\":{\"id\":\"ed1b1a14-f509-4eb3-8b2b-8122b9343a9e\",\"type\":\"UnionRenderers\"}},\"id\":\"66a601ed-01c0-4d19-bc30-5d29c3fed845\",\"type\":\"ColumnDataSource\"},{\"attributes\":{\"plot\":null,\"text\":\"y = 0\"},\"id\":\"7d2776f4-7fa2-49d8-b1b0-67953942fb0e\",\"type\":\"Title\"},{\"attributes\":{\"callback\":null},\"id\":\"9a43f648-c10d-41f6-bc11-f828102b157a\",\"type\":\"DataRange1d\"},{\"attributes\":{\"active_drag\":\"auto\",\"active_inspect\":\"auto\",\"active_multi\":null,\"active_scroll\":\"auto\",\"active_tap\":\"auto\",\"tools\":[{\"id\":\"d952b306-2291-4277-9ee3-4a9193dd1fd8\",\"type\":\"PanTool\"},{\"id\":\"4671cfe0-5ec7-4aa8-b115-f8acefff5a01\",\"type\":\"WheelZoomTool\"},{\"id\":\"779ade7b-5360-4726-9b78-2efb7ad8603e\",\"type\":\"BoxZoomTool\"},{\"id\":\"c780d636-768e-4b1c-bae3-3ccfb01741ed\",\"type\":\"SaveTool\"},{\"id\":\"49b5b96e-5755-4c7d-9bf4-ab2cc011adfa\",\"type\":\"ResetTool\"},{\"id\":\"f1ccdd9e-88b3-4272-8a00-1d170d423307\",\"type\":\"HelpTool\"}]},\"id\":\"513f3017-6a02-4453-aed4-874c21f85a09\",\"type\":\"Toolbar\"},{\"attributes\":{\"line_alpha\":0.1,\"line_color\":\"#1f77b4\",\"line_width\":3,\"x\":{\"field\":\"x\"},\"y\":{\"field\":\"y\"}},\"id\":\"2284df62-cf56-431f-bbbf-d9b47761aafb\",\"type\":\"Line\"},{\"attributes\":{},\"id\":\"6847f035-1ab4-4632-834d-b472cc17254a\",\"type\":\"LinearScale\"},{\"attributes\":{\"callback\":null},\"id\":\"4a05a10f-5b18-404b-ae74-45530086a22d\",\"type\":\"DataRange1d\"},{\"attributes\":{},\"id\":\"8e93809b-defd-4eee-a738-f28b03319211\",\"type\":\"LinearScale\"},{\"attributes\":{\"plot\":{\"id\":\"b46df1d2-c539-4777-a85e-663ef4f47705\",\"subtype\":\"Figure\",\"type\":\"Plot\"},\"ticker\":{\"id\":\"244d30a4-0726-41af-b1b0-b1311a68e6ee\",\"type\":\"BasicTicker\"}},\"id\":\"c52758eb-6240-4d8c-9587-8dd4257943e2\",\"type\":\"Grid\"},{\"attributes\":{\"axis_label\":\"Est. Probability\",\"formatter\":{\"id\":\"2b6e71e1-27ff-40f9-a49f-2b7cb3aa8bad\",\"type\":\"BasicTickFormatter\"},\"plot\":{\"id\":\"b46df1d2-c539-4777-a85e-663ef4f47705\",\"subtype\":\"Figure\",\"type\":\"Plot\"},\"ticker\":{\"id\":\"244d30a4-0726-41af-b1b0-b1311a68e6ee\",\"type\":\"BasicTicker\"}},\"id\":\"e2c2b457-4d1e-46e3-9dae-e02829d0549b\",\"type\":\"LinearAxis\"},{\"attributes\":{},\"id\":\"244d30a4-0726-41af-b1b0-b1311a68e6ee\",\"type\":\"BasicTicker\"},{\"attributes\":{\"axis_label\":\"Cost\",\"formatter\":{\"id\":\"12042c4d-e8c3-4285-83d6-cd280c3b0c78\",\"type\":\"BasicTickFormatter\"},\"plot\":{\"id\":\"b46df1d2-c539-4777-a85e-663ef4f47705\",\"subtype\":\"Figure\",\"type\":\"Plot\"},\"ticker\":{\"id\":\"67283408-ab3d-4b3a-8d02-f5ed28b1af41\",\"type\":\"BasicTicker\"}},\"id\":\"31d483ee-f46a-4796-915e-1d2f50f50342\",\"type\":\"LinearAxis\"},{\"attributes\":{},\"id\":\"67283408-ab3d-4b3a-8d02-f5ed28b1af41\",\"type\":\"BasicTicker\"},{\"attributes\":{\"dimension\":1,\"plot\":{\"id\":\"b46df1d2-c539-4777-a85e-663ef4f47705\",\"subtype\":\"Figure\",\"type\":\"Plot\"},\"ticker\":{\"id\":\"67283408-ab3d-4b3a-8d02-f5ed28b1af41\",\"type\":\"BasicTicker\"}},\"id\":\"c3fa77ea-e138-410d-abf3-735dc411a56b\",\"type\":\"Grid\"},{\"attributes\":{\"data_source\":{\"id\":\"66a601ed-01c0-4d19-bc30-5d29c3fed845\",\"type\":\"ColumnDataSource\"},\"glyph\":{\"id\":\"a124fa46-7a5a-4cc4-9313-f4366de0de5a\",\"type\":\"Line\"},\"hover_glyph\":null,\"muted_glyph\":null,\"nonselection_glyph\":{\"id\":\"2284df62-cf56-431f-bbbf-d9b47761aafb\",\"type\":\"Line\"},\"selection_glyph\":null,\"view\":{\"id\":\"d95d140f-2203-4f71-bf8d-6c1f8f120b94\",\"type\":\"CDSView\"}},\"id\":\"00744c43-5995-4beb-8dae-a40f69764dff\",\"type\":\"GlyphRenderer\"},{\"attributes\":{\"line_alpha\":0.5,\"line_color\":\"#1f77b4\",\"line_width\":3,\"x\":{\"field\":\"x\"},\"y\":{\"field\":\"y\"}},\"id\":\"a124fa46-7a5a-4cc4-9313-f4366de0de5a\",\"type\":\"Line\"},{\"attributes\":{\"callback\":null,\"data\":{\"x\":{\"__ndarray__\":\"/Knx0k1iUD/8qfHSTWJgP/p+arx0k2g//Knx0k1icD97FK5H4Xp0P/p+arx0k3g/eekmMQisfD/8qfHSTWKAPzzfT42XboI/fBSuR+F6hD+6SQwCK4eGP/p+arx0k4g/OrTIdr6fij966SYxCKyMP7gehetRuI4//Knx0k1ikD+cxCCwcmiRPzzfT42XbpI/3Pl+arx0kz97FK5H4XqUPxsv3SQGgZU/u0kMAiuHlj9aZDvfT42XP/p+arx0k5g/mpmZmZmZmT86tMh2vp+aP9rO91PjpZs/eekmMQisnD8ZBFYOLbKdP7kehetRuJ4/WDm0yHa+nz/8qfHSTWKgP0w3iUFg5aA/nMQgsHJooT/sUbgeheuhPzzfT42XbqI/jGzn+6nxoj/b+X5qvHSjPyuHFtnO96M/exSuR+F6pD/LoUW28/2kPxsv3SQGgaU/a7x0kxgEpj+7SQwCK4emPwrXo3A9Cqc/WmQ730+Npz+q8dJNYhCoP/p+arx0k6g/SgwCK4cWqT+amZmZmZmpP+omMQisHKo/OrTIdr6fqj+KQWDl0CKrP9nO91Pjpas/KVyPwvUorD956SYxCKysP8l2vp8aL60/GQRWDi2yrT9pke18PzWuP7kehetRuK4/CKwcWmQ7rz9YObTIdr6vP1TjpZvEILA//Knx0k1isD+kcD0K16OwP0w3iUFg5bA/9P3UeOkmsT+cxCCwcmixP0SLbOf7qbE/7FG4HoXrsT+UGARWDi2yPzzfT42XbrI/5KWbxCCwsj+LbOf7qfGyPzMzMzMzM7M/2/l+arx0sz+DwMqhRbazPyuHFtnO97M/001iEFg5tD97FK5H4Xq0PyPb+X5qvLQ/y6FFtvP9tD9zaJHtfD+1Pxsv3SQGgbU/w/UoXI/CtT9rvHSTGAS2PxODwMqhRbY/u0kMAiuHtj9iEFg5tMi2PwrXo3A9Crc/sp3vp8ZLtz9aZDvfT423PwIrhxbZzrc/qvHSTWIQuD9SuB6F61G4P/p+arx0k7g/okW28/3UuD9KDAIrhxa5P/LSTWIQWLk/mpmZmZmZuT9CYOXQItu5P+omMQisHLo/ku18PzVeuj86tMh2vp+6P+J6FK5H4bo/iUFg5dAiuz8xCKwcWmS7P9nO91Pjpbs/gZVDi2znuz8pXI/C9Si8P9Ei2/l+arw/eekmMQisvD8hsHJoke28P8l2vp8aL70/cT0K16NwvT8ZBFYOLbK9P8HKoUW2870/aZHtfD81vj8RWDm0yHa+P7kehetRuL4/YOXQItv5vj8IrBxaZDu/P7ByaJHtfL8/WDm0yHa+vz8AAAAAAADAP1TjpZvEIMA/qMZLN4lBwD/8qfHSTWLAP1CNl24Sg8A/pHA9CtejwD/4U+Olm8TAP0w3iUFg5cA/oBov3SQGwT/0/dR46SbBP0jhehSuR8E/nMQgsHJowT/wp8ZLN4nBP0SLbOf7qcE/mG4Sg8DKwT/sUbgehevBP0A1XrpJDMI/lBgEVg4twj/o+6nx0k3CPzzfT42XbsI/kML1KFyPwj/jpZvEILDCPzeJQWDl0MI/i2zn+6nxwj/fT42XbhLDPzMzMzMzM8M/hxbZzvdTwz/b+X5qvHTDPy/dJAaBlcM/g8DKoUW2wz/Xo3A9CtfDPyuHFtnO98M/f2q8dJMYxD/TTWIQWDnEPycxCKwcWsQ/exSuR+F6xD/P91PjpZvEPyPb+X5qvMQ/d76fGi/dxD/LoUW28/3EPx+F61G4HsU/c2iR7Xw/xT/HSzeJQWDFPxsv3SQGgcU/bxKDwMqhxT/D9Shcj8LFPxfZzvdT48U/a7x0kxgExj+/nxov3STGPxODwMqhRcY/Z2ZmZmZmxj+7SQwCK4fGPw4tsp3vp8Y/YhBYObTIxj+28/3UeOnGPwrXo3A9Csc/XrpJDAIrxz+yne+nxkvHPwaBlUOLbMc/WmQ730+Nxz+uR+F6FK7HPwIrhxbZzsc/Vg4tsp3vxz+q8dJNYhDIP/7UeOkmMcg/UrgehetRyD+mm8QgsHLIP/p+arx0k8g/TmIQWDm0yD+iRbbz/dTIP/YoXI/C9cg/SgwCK4cWyT+e76fGSzfJP/LSTWIQWMk/Rrbz/dR4yT+amZmZmZnJP+58PzVeusk/QmDl0CLbyT+WQ4ts5/vJP+omMQisHMo/PgrXo3A9yj+S7Xw/NV7KP+bQItv5fso/OrTIdr6fyj+Ol24Sg8DKP+F6FK5H4co/NV66SQwCyz+JQWDl0CLLP90kBoGVQ8s/MQisHFpkyz+F61G4HoXLP9nO91Pjpcs/LbKd76fGyz+BlUOLbOfLP9V46SYxCMw/KVyPwvUozD99PzVeuknMP9Ei2/l+asw/JQaBlUOLzD956SYxCKzMP83MzMzMzMw/IbByaJHtzD91kxgEVg7NP8l2vp8aL80/HVpkO99PzT9xPQrXo3DNP8UgsHJokc0/GQRWDi2yzT9t5/up8dLNP8HKoUW2880/Fa5H4XoUzj9pke18PzXOP710kxgEVs4/EVg5tMh2zj9lO99PjZfOP7kehetRuM4/DAIrhxbZzj9g5dAi2/nOP7TIdr6fGs8/CKwcWmQ7zz9cj8L1KFzPP7ByaJHtfM8/BFYOLbKdzz9YObTIdr7PP6wcWmQ7388/AAAAAAAA0D+q8dJNYhDQP1TjpZvEINA//tR46SYx0D+oxks3iUHQP1K4HoXrUdA//Knx0k1i0D+mm8QgsHLQP1CNl24Sg9A/+n5qvHST0D+kcD0K16PQP05iEFg5tNA/+FPjpZvE0D+iRbbz/dTQP0w3iUFg5dA/9ihcj8L10D+gGi/dJAbRP0oMAiuHFtE/9P3UeOkm0T+e76fGSzfRP0jhehSuR9E/8tJNYhBY0T+cxCCwcmjRP0a28/3UeNE/8KfGSzeJ0T+amZmZmZnRP0SLbOf7qdE/7nw/NV660T+YbhKDwMrRP0Jg5dAi29E/7FG4HoXr0T+WQ4ts5/vRP0A1XrpJDNI/6iYxCKwc0j+UGARWDi3SPz4K16NwPdI/6Pup8dJN0j+S7Xw/NV7SPzzfT42XbtI/5tAi2/l+0j+PwvUoXI/SPzm0yHa+n9I/46WbxCCw0j+Nl24Sg8DSPzeJQWDl0NI/4XoUrkfh0j+LbOf7qfHSPzVeukkMAtM/30+Nl24S0z+JQWDl0CLTPzMzMzMzM9M/3SQGgZVD0z+HFtnO91PTPzEIrBxaZNM/2/l+arx00z+F61G4HoXTPy/dJAaBldM/2c73U+Ol0z+DwMqhRbbTPy2yne+nxtM/16NwPQrX0z+BlUOLbOfTPyuHFtnO99M/1XjpJjEI1D9/arx0kxjUPylcj8L1KNQ/001iEFg51D99PzVeuknUPycxCKwcWtQ/0SLb+X5q1D97FK5H4XrUPyUGgZVDi9Q/z/dT46Wb1D956SYxCKzUPyPb+X5qvNQ/zczMzMzM1D93vp8aL93UPyGwcmiR7dQ/y6FFtvP91D91kxgEVg7VPx+F61G4HtU/yXa+nxov1T9zaJHtfD/VPx1aZDvfT9U/x0s3iUFg1T9xPQrXo3DVPxsv3SQGgdU/xSCwcmiR1T9vEoPAyqHVPxkEVg4tstU/w/UoXI/C1T9t5/up8dLVPxfZzvdT49U/wcqhRbbz1T9rvHSTGATWPxWuR+F6FNY/v58aL90k1j9pke18PzXWPxODwMqhRdY/vXSTGARW1j9nZmZmZmbWPxFYObTIdtY/u0kMAiuH1j9kO99PjZfWPw4tsp3vp9Y/uB6F61G41j9iEFg5tMjWPwwCK4cW2dY/tvP91Hjp1j9g5dAi2/nWPwrXo3A9Ctc/tMh2vp8a1z9eukkMAivXPwisHFpkO9c/sp3vp8ZL1z9cj8L1KFzXPwaBlUOLbNc/sHJoke181z9aZDvfT43XPwRWDi2yndc/rkfhehSu1z9YObTIdr7XPwIrhxbZztc/rBxaZDvf1z9WDi2yne/XPwAAAAAAANg/qvHSTWIQ2D9U46WbxCDYP/7UeOkmMdg/qMZLN4lB2D9SuB6F61HYP/yp8dJNYtg/ppvEILBy2D9QjZduEoPYP/p+arx0k9g/pHA9Ctej2D9OYhBYObTYP/hT46WbxNg/okW28/3U2D9MN4lBYOXYP/YoXI/C9dg/oBov3SQG2T9KDAIrhxbZP/T91HjpJtk/nu+nxks32T9I4XoUrkfZP/LSTWIQWNk/nMQgsHJo2T9GtvP91HjZP/Cnxks3idk/mpmZmZmZ2T9Ei2zn+6nZP+58PzVeutk/mG4Sg8DK2T9CYOXQItvZP+xRuB6F69k/lkOLbOf72T9ANV66SQzaP+omMQisHNo/lBgEVg4t2j8+CtejcD3aP+j7qfHSTdo/ku18PzVe2j8830+Nl27aP+bQItv5fto/kML1KFyP2j86tMh2vp/aP+Slm8QgsNo/jZduEoPA2j83iUFg5dDaP+F6FK5H4do/i2zn+6nx2j81XrpJDALbP99PjZduEts/iUFg5dAi2z8zMzMzMzPbP90kBoGVQ9s/hxbZzvdT2z8xCKwcWmTbP9v5fmq8dNs/hetRuB6F2z8v3SQGgZXbP9nO91Pjpds/g8DKoUW22z8tsp3vp8bbP9ejcD0K19s/gZVDi2zn2z8rhxbZzvfbP9V46SYxCNw/f2q8dJMY3D8pXI/C9SjcP9NNYhBYOdw/fT81XrpJ3D8nMQisHFrcP9Ei2/l+atw/exSuR+F63D8lBoGVQ4vcP8/3U+Olm9w/eekmMQis3D8j2/l+arzcP83MzMzMzNw/d76fGi/d3D8hsHJoke3cP8uhRbbz/dw/dZMYBFYO3T8fhetRuB7dP8l2vp8aL90/c2iR7Xw/3T8dWmQ730/dP8dLN4lBYN0/cT0K16Nw3T8bL90kBoHdP8UgsHJokd0/bxKDwMqh3T8ZBFYOLbLdP8P1KFyPwt0/bef7qfHS3T8X2c73U+PdP8HKoUW2890/a7x0kxgE3j8VrkfhehTeP7+fGi/dJN4/aZHtfD813j8Tg8DKoUXeP710kxgEVt4/Z2ZmZmZm3j8RWDm0yHbeP7tJDAIrh94/ZTvfT42X3j8PLbKd76feP7kehetRuN4/YhBYObTI3j8MAiuHFtneP7bz/dR46d4/YOXQItv53j8K16NwPQrfP7TIdr6fGt8/XrpJDAIr3z8IrBxaZDvfP7Kd76fGS98/XI/C9Shc3z8GgZVDi2zfP7ByaJHtfN8/WmQ730+N3z8EVg4tsp3fP65H4XoUrt8/WDm0yHa+3z8CK4cW2c7fP6wcWmQ7398/Vg4tsp3v3z8AAAAAAADgP9V46SYxCOA/qvHSTWIQ4D9/arx0kxjgP1TjpZvEIOA/KVyPwvUo4D/+1HjpJjHgP9NNYhBYOeA/qMZLN4lB4D99PzVeukngP1K4HoXrUeA/JzEIrBxa4D/8qfHSTWLgP9Ei2/l+auA/ppvEILBy4D97FK5H4XrgP1CNl24Sg+A/JQaBlUOL4D/6fmq8dJPgP8/3U+Olm+A/pHA9Ctej4D956SYxCKzgP05iEFg5tOA/I9v5fmq84D/4U+Olm8TgP83MzMzMzOA/okW28/3U4D93vp8aL93gP0w3iUFg5eA/IbByaJHt4D/2KFyPwvXgP8uhRbbz/eA/oBov3SQG4T91kxgEVg7hP0oMAiuHFuE/H4XrUbge4T/0/dR46SbhP8l2vp8aL+E/nu+nxks34T9zaJHtfD/hP0jhehSuR+E/HVpkO99P4T/y0k1iEFjhP8dLN4lBYOE/nMQgsHJo4T9xPQrXo3DhP0a28/3UeOE/Gy/dJAaB4T/wp8ZLN4nhP8UgsHJokeE/mpmZmZmZ4T9vEoPAyqHhP0SLbOf7qeE/GQRWDi2y4T/ufD81XrrhP8P1KFyPwuE/mG4Sg8DK4T9t5/up8dLhP0Jg5dAi2+E/F9nO91Pj4T/sUbgehevhP8HKoUW28+E/lkOLbOf74T9rvHSTGATiP0A1XrpJDOI/Fa5H4XoU4j/qJjEIrBziP7+fGi/dJOI/lBgEVg4t4j9pke18PzXiPz4K16NwPeI/E4PAyqFF4j/o+6nx0k3iP710kxgEVuI/ku18PzVe4j9nZmZmZmbiPzzfT42XbuI/EVg5tMh24j/l0CLb+X7iP7pJDAIrh+I/j8L1KFyP4j9kO99PjZfiPzm0yHa+n+I/Di2yne+n4j/jpZvEILDiP7gehetRuOI/jZduEoPA4j9iEFg5tMjiPzeJQWDl0OI/DAIrhxbZ4j/hehSuR+HiP7bz/dR46eI/i2zn+6nx4j9g5dAi2/niPzVeukkMAuM/CtejcD0K4z/fT42XbhLjP7TIdr6fGuM/iUFg5dAi4z9eukkMAivjPzMzMzMzM+M/CKwcWmQ74z/dJAaBlUPjP7Kd76fGS+M/hxbZzvdT4z9cj8L1KFzjPzEIrBxaZOM/BoGVQ4ts4z/b+X5qvHTjP7ByaJHtfOM/hetRuB6F4z9aZDvfT43jPy/dJAaBleM/BFYOLbKd4z/ZzvdT46XjP65H4XoUruM/g8DKoUW24z9YObTIdr7jPy2yne+nxuM/AiuHFtnO4z/Xo3A9CtfjP6wcWmQ73+M/gZVDi2zn4z9WDi2yne/jPyuHFtnO9+M/AAAAAAAA5D/VeOkmMQjkP6rx0k1iEOQ/f2q8dJMY5D9U46WbxCDkPylcj8L1KOQ//tR46SYx5D/TTWIQWDnkP6jGSzeJQeQ/fT81XrpJ5D9SuB6F61HkPycxCKwcWuQ//Knx0k1i5D/RItv5fmrkP6abxCCwcuQ/exSuR+F65D9QjZduEoPkPyUGgZVDi+Q/+n5qvHST5D/P91PjpZvkP6RwPQrXo+Q/eekmMQis5D9OYhBYObTkPyPb+X5qvOQ/+FPjpZvE5D/NzMzMzMzkP6JFtvP91OQ/d76fGi/d5D9MN4lBYOXkPyGwcmiR7eQ/9ihcj8L15D/LoUW28/3kP6AaL90kBuU/dZMYBFYO5T9KDAIrhxblPx+F61G4HuU/9P3UeOkm5T/Jdr6fGi/lP57vp8ZLN+U/c2iR7Xw/5T9I4XoUrkflPx1aZDvfT+U/8tJNYhBY5T/HSzeJQWDlP5zEILByaOU/cT0K16Nw5T9GtvP91HjlPxsv3SQGgeU/8KfGSzeJ5T/FILByaJHlP5qZmZmZmeU/bxKDwMqh5T9Ei2zn+6nlPxkEVg4tsuU/7nw/NV665T/D9Shcj8LlP5huEoPAyuU/bef7qfHS5T9CYOXQItvlPxfZzvdT4+U/7FG4HoXr5T/ByqFFtvPlP5ZDi2zn++U/a7x0kxgE5j9ANV66SQzmPxWuR+F6FOY/6iYxCKwc5j+/nxov3STmP5QYBFYOLeY/aZHtfD815j8+CtejcD3mPxODwMqhReY/6Pup8dJN5j+9dJMYBFbmP5LtfD81XuY/Z2ZmZmZm5j8830+Nl27mPxFYObTIduY/5tAi2/l+5j+7SQwCK4fmP4/C9Shcj+Y/ZDvfT42X5j85tMh2vp/mPw4tsp3vp+Y/46WbxCCw5j+4HoXrUbjmP42XbhKDwOY/YhBYObTI5j83iUFg5dDmPwwCK4cW2eY/4XoUrkfh5j+28/3UeOnmP4ts5/up8eY/YOXQItv55j81XrpJDALnPwrXo3A9Cuc/30+Nl24S5z+0yHa+nxrnP4lBYOXQIuc/XrpJDAIr5z8zMzMzMzPnPwisHFpkO+c/3SQGgZVD5z+yne+nxkvnP4cW2c73U+c/XI/C9Shc5z8xCKwcWmTnPwaBlUOLbOc/2/l+arx05z+wcmiR7XznP4XrUbgehec/WmQ730+N5z8v3SQGgZXnPwRWDi2ynec/2c73U+Ol5z+uR+F6FK7nP4PAyqFFtuc/WDm0yHa+5z8tsp3vp8bnPwIrhxbZzuc/16NwPQrX5z+sHFpkO9/nP4GVQ4ts5+c/Vg4tsp3v5z8rhxbZzvfnPwAAAAAAAOg/1XjpJjEI6D+q8dJNYhDoP39qvHSTGOg/VOOlm8Qg6D8pXI/C9SjoP/7UeOkmMeg/001iEFg56D+oxks3iUHoP30/NV66Seg/UrgehetR6D8nMQisHFroP/yp8dJNYug/0SLb+X5q6D+mm8QgsHLoP3sUrkfheug/UI2XbhKD6D8lBoGVQ4voP/p+arx0k+g/z/dT46Wb6D+kcD0K16PoP3npJjEIrOg/TmIQWDm06D8j2/l+arzoP/hT46WbxOg/zczMzMzM6D+iRbbz/dToP3e+nxov3eg/TDeJQWDl6D8hsHJoke3oP/YoXI/C9eg/y6FFtvP96D+gGi/dJAbpP3WTGARWDuk/SgwCK4cW6T8fhetRuB7pP/T91HjpJuk/yXa+nxov6T+e76fGSzfpP3Noke18P+k/SOF6FK5H6T8dWmQ730/pP/LSTWIQWOk/x0s3iUFg6T+cxCCwcmjpP3E9CtejcOk/Rrbz/dR46T8bL90kBoHpP/Cnxks3iek/xSCwcmiR6T+amZmZmZnpP28Sg8DKoek/RIts5/up6T8ZBFYOLbLpP+58PzVeuuk/w/UoXI/C6T+YbhKDwMrpP23n+6nx0uk/QmDl0CLb6T8X2c73U+PpP+xRuB6F6+k/wcqhRbbz6T+WQ4ts5/vpP2u8dJMYBOo/QDVeukkM6j8VrkfhehTqP+omMQisHOo/v58aL90k6j+UGARWDi3qP2mR7Xw/Neo/PgrXo3A96j8Tg8DKoUXqP+j7qfHSTeo/vXSTGARW6j+S7Xw/NV7qP2dmZmZmZuo/PN9PjZdu6j8RWDm0yHbqP+bQItv5fuo/u0kMAiuH6j+QwvUoXI/qP2U730+Nl+o/OrTIdr6f6j8PLbKd76fqP+Olm8QgsOo/uB6F61G46j+Nl24Sg8DqP2IQWDm0yOo/N4lBYOXQ6j8MAiuHFtnqP+F6FK5H4eo/tvP91Hjp6j+LbOf7qfHqP2Dl0CLb+eo/NV66SQwC6z8K16NwPQrrP99PjZduEus/tMh2vp8a6z+JQWDl0CLrP166SQwCK+s/MzMzMzMz6z8IrBxaZDvrP90kBoGVQ+s/sp3vp8ZL6z+HFtnO91PrP1yPwvUoXOs/MQisHFpk6z8GgZVDi2zrP9v5fmq8dOs/sHJoke186z+F61G4HoXrP1pkO99Pjes/L90kBoGV6z8EVg4tsp3rP9nO91Pjpes/rkfhehSu6z+DwMqhRbbrP1g5tMh2vus/LbKd76fG6z8CK4cW2c7rP9ejcD0K1+s/rBxaZDvf6z+BlUOLbOfrP1YOLbKd7+s/K4cW2c736z8AAAAAAADsP9V46SYxCOw/qvHSTWIQ7D9/arx0kxjsP1TjpZvEIOw/KVyPwvUo7D/+1HjpJjHsP9NNYhBYOew/qMZLN4lB7D99PzVeuknsP1K4HoXrUew/JzEIrBxa7D/8qfHSTWLsP9Ei2/l+auw/ppvEILBy7D97FK5H4XrsP1CNl24Sg+w/JQaBlUOL7D/6fmq8dJPsP8/3U+Olm+w/pHA9Ctej7D956SYxCKzsP05iEFg5tOw/I9v5fmq87D/4U+Olm8TsP83MzMzMzOw/okW28/3U7D93vp8aL93sP0w3iUFg5ew/IbByaJHt7D/2KFyPwvXsP8uhRbbz/ew/oBov3SQG7T91kxgEVg7tP0oMAiuHFu0/H4XrUbge7T/0/dR46SbtP8l2vp8aL+0/nu+nxks37T9zaJHtfD/tP0jhehSuR+0/HVpkO99P7T/y0k1iEFjtP8dLN4lBYO0/nMQgsHJo7T9xPQrXo3DtP0a28/3UeO0/Gy/dJAaB7T/wp8ZLN4ntP8UgsHJoke0/mpmZmZmZ7T9vEoPAyqHtP0SLbOf7qe0/GQRWDi2y7T/ufD81XrrtP8P1KFyPwu0/mG4Sg8DK7T9t5/up8dLtP0Jg5dAi2+0/F9nO91Pj7T/sUbgehevtP8HKoUW28+0/lkOLbOf77T9rvHSTGATuP0A1XrpJDO4/Fa5H4XoU7j/qJjEIrBzuP7+fGi/dJO4/lBgEVg4t7j9pke18PzXuPz4K16NwPe4/E4PAyqFF7j/o+6nx0k3uP710kxgEVu4/ku18PzVe7j9nZmZmZmbuPzzfT42Xbu4/EVg5tMh27j/m0CLb+X7uP7tJDAIrh+4/kML1KFyP7j9lO99PjZfuPzq0yHa+n+4/Dy2yne+n7j/kpZvEILDuP7kehetRuO4/jZduEoPA7j9iEFg5tMjuPzeJQWDl0O4/DAIrhxbZ7j/hehSuR+HuP7bz/dR46e4/i2zn+6nx7j9g5dAi2/nuPzVeukkMAu8/CtejcD0K7z/fT42XbhLvP7TIdr6fGu8/iUFg5dAi7z9eukkMAivvPzMzMzMzM+8/CKwcWmQ77z/dJAaBlUPvP7Kd76fGS+8/hxbZzvdT7z9cj8L1KFzvPzEIrBxaZO8/BoGVQ4ts7z/b+X5qvHTvP7ByaJHtfO8/hetRuB6F7z9aZDvfT43vPy/dJAaBle8/BFYOLbKd7z/ZzvdT46XvP65H4XoUru8/g8DKoUW27z9YObTIdr7vPy2yne+nxu8/AiuHFtnO7z/Xo3A9CtfvP6wcWmQ73+8/gZVDi2zn7z9WDi2yne/vPyuHFtnO9+8/\",\"dtype\":\"float64\",\"shape\":[999]},\"y\":{\"__ndarray__\":\"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\",\"dtype\":\"float64\",\"shape\":[999]}},\"selected\":{\"id\":\"ca2a6fa2-61a2-4ef0-961d-a0c5be1216de\",\"type\":\"Selection\"},\"selection_policy\":{\"id\":\"c05f634c-4904-4a61-9696-75dc257a7901\",\"type\":\"UnionRenderers\"}},\"id\":\"8fded181-b06a-4947-b2fb-06ecba8fa098\",\"type\":\"ColumnDataSource\"},{\"attributes\":{},\"id\":\"2b6e71e1-27ff-40f9-a49f-2b7cb3aa8bad\",\"type\":\"BasicTickFormatter\"},{\"attributes\":{},\"id\":\"d952b306-2291-4277-9ee3-4a9193dd1fd8\",\"type\":\"PanTool\"},{\"attributes\":{},\"id\":\"12042c4d-e8c3-4285-83d6-cd280c3b0c78\",\"type\":\"BasicTickFormatter\"},{\"attributes\":{},\"id\":\"4671cfe0-5ec7-4aa8-b115-f8acefff5a01\",\"type\":\"WheelZoomTool\"},{\"attributes\":{\"overlay\":{\"id\":\"acba627a-bd4e-4380-89d4-2e2c6e7fd7fd\",\"type\":\"BoxAnnotation\"}},\"id\":\"779ade7b-5360-4726-9b78-2efb7ad8603e\",\"type\":\"BoxZoomTool\"},{\"attributes\":{},\"id\":\"c780d636-768e-4b1c-bae3-3ccfb01741ed\",\"type\":\"SaveTool\"},{\"attributes\":{},\"id\":\"49b5b96e-5755-4c7d-9bf4-ab2cc011adfa\",\"type\":\"ResetTool\"},{\"attributes\":{},\"id\":\"f1ccdd9e-88b3-4272-8a00-1d170d423307\",\"type\":\"HelpTool\"},{\"attributes\":{\"bottom_units\":\"screen\",\"fill_alpha\":{\"value\":0.5},\"fill_color\":{\"value\":\"lightgrey\"},\"left_units\":\"screen\",\"level\":\"overlay\",\"line_alpha\":{\"value\":1.0},\"line_color\":{\"value\":\"black\"},\"line_dash\":[4,4],\"line_width\":{\"value\":2},\"plot\":null,\"render_mode\":\"css\",\"right_units\":\"screen\",\"top_units\":\"screen\"},\"id\":\"acba627a-bd4e-4380-89d4-2e2c6e7fd7fd\",\"type\":\"BoxAnnotation\"},{\"attributes\":{\"line_alpha\":0.1,\"line_color\":\"#1f77b4\",\"line_width\":3,\"x\":{\"field\":\"x\"},\"y\":{\"field\":\"y\"}},\"id\":\"37396059-66ce-414a-805b-1deeca6a5b3b\",\"type\":\"Line\"},{\"attributes\":{\"line_alpha\":0.5,\"line_color\":\"orange\",\"line_width\":3,\"x\":{\"field\":\"x\"},\"y\":{\"field\":\"y\"}},\"id\":\"75b221d2-52a0-4d7d-930b-7bec6bec7632\",\"type\":\"Line\"},{\"attributes\":{\"data_source\":{\"id\":\"8fded181-b06a-4947-b2fb-06ecba8fa098\",\"type\":\"ColumnDataSource\"},\"glyph\":{\"id\":\"75b221d2-52a0-4d7d-930b-7bec6bec7632\",\"type\":\"Line\"},\"hover_glyph\":null,\"muted_glyph\":null,\"nonselection_glyph\":{\"id\":\"37396059-66ce-414a-805b-1deeca6a5b3b\",\"type\":\"Line\"},\"selection_glyph\":null,\"view\":{\"id\":\"7b535492-9d1d-4c1f-bd34-7c3c177e8ac2\",\"type\":\"CDSView\"}},\"id\":\"79f3ff3d-c418-4c8e-a8d8-f5433c3e45cb\",\"type\":\"GlyphRenderer\"},{\"attributes\":{\"source\":{\"id\":\"8fded181-b06a-4947-b2fb-06ecba8fa098\",\"type\":\"ColumnDataSource\"}},\"id\":\"7b535492-9d1d-4c1f-bd34-7c3c177e8ac2\",\"type\":\"CDSView\"},{\"attributes\":{},\"id\":\"ed1b1a14-f509-4eb3-8b2b-8122b9343a9e\",\"type\":\"UnionRenderers\"},{\"attributes\":{},\"id\":\"a2a2a527-f93e-4683-8da9-edd392683417\",\"type\":\"Selection\"},{\"attributes\":{\"label\":{\"value\":\"(1-y)*log(1-pr)\"},\"renderers\":[{\"id\":\"79f3ff3d-c418-4c8e-a8d8-f5433c3e45cb\",\"type\":\"GlyphRenderer\"}]},\"id\":\"d55b1f8c-0090-48b9-bf56-cb80b15e4b9b\",\"type\":\"LegendItem\"},{\"attributes\":{\"line_alpha\":0.5,\"line_color\":\"#1f77b4\",\"line_width\":3,\"x\":{\"field\":\"x\"},\"y\":{\"field\":\"y\"}},\"id\":\"5a4c04b5-a974-4da6-97e2-fa5ab23a2406\",\"type\":\"Line\"},{\"attributes\":{\"callback\":null,\"data\":{\"x\":{\"__ndarray__\":\"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\",\"dtype\":\"float64\",\"shape\":[999]},\"y\":{\"__ndarray__\":\"AAAAAAAAAIAAAAAAAAAAgAAAAAAAAACAAAAAAAAAAIAAAAAAAAAAgAAAAAAAAACAAAAAAAAAAIAAAAAAAAAAgAAAAAAAAACAAAAAAAAAAIAAAAAAAAAAgAAAAAAAAACAAAAAAAAAAIAAAAAAAAAAgAAAAAAAAACAAAAAAAAAAIAAAAAAAAAAgAAAAAAAAACAAAAAAAAAAIAAAAAAAAAAgAAAAAAAAACAAAAAAAAAAIAAAAAAAAAAgAAAAAAAAACAAAAAAAAAAIAAAAAAAAAAgAAAAAAAAACAAAAAAAAAAIAAAAAAAAAAgAAAAAAAAACAAAAAAAAAAIAAAAAAAAAAgAAAAAAAAACAAAAAAAAAAIAAAAAAAAAAgAAAAAAAAACAAAAAAAAAAIAAAAAAAAAAgAAAAAAAAACAAAAAAAAAAIAAAAAAAAAAgAAAAAAAAACAAAAAAAAAAIAAAAAAAAAAgAAAAAAAAACAAAAAAAAAAIAAAAAAAAAAgAAAAAAAAACAAAAAAAAAAIAAAAAAAAAAgAAAAAAAAACAAAAAAAAAAIAAAAAAAAAAgAAAAAAAAACAAAAAAAAAAIAAAAAAAAAAgAAAAAAAAACAAAAAAAAAAIAAAAAAAAAAgAAAAAAAAACAAAAAAAAAAIAAAAAAAAAAgAAAAAAAAACAAAAAAAAAAIAAAAAAAAAAgAAAAAAAAACAAAAAAAAAAIAAAAAAAAAAgAAAAAAAAACAAAAAAAAAAIAAAAAAAAAAgAAAAAAAAACAAAAAAAAAAIAAAAAAAAAAgAAAAAAAAACAAAAAAAAAAIAAAAAAAAAAgAAAAAAAAACAAAAAAAAAAIAAAAAAAAAAgAAAAAAAAACAAAAAAAAAAIAAAAAAAAAAgAAAAAAAAACAAAAAAAAAAIAAAAAAAAAAgAAAAAAAAACAAAAAAAAAAIAAAAAAAAAAgAAAAAAAAACAAAAAAAAAAIAAAAAAAAAAgAAAAAAAAACAAAAAAAAAAIAAAAAAAAAAgAAAAAAAAACAAAAAAAAAAIAAAAAAAAAAgAAAAAAAAACAAAAAAAAAAIAAAAAAAAAAgAAAAAAAAACAAAAAAAAAAIAAAAAAAAAAgAAAAAAAAACAAAAAAAAAAIAAAAAAAAAAgAAAAAAAAACAAAAAAAAAAIAAAAAAAAAAgAAAAAAAAACAAAAAAAAAAIAAAAAAAAAAgAAAAAAAAACAAAAAAAAAAIAAAAAAAAAAgAAAAAAAAACAAAAAAAAAAIAAAAAAAAAAgAAAAAAAAACAAAAAAAAAAIAAAAAAAAAAgAAAAAAAAACAAAAAAAAAAIAAAAAAAAAAgAAAAAAAAACAAAAAAAAAAIAAAAAAAAAAgAAAAAAAAACAAAAAAAAAAIAAAAAAAAAAgAAAAAAAAACAAAAAAAAAAIAAAAAAAAAAgAAAAAAAAACAAAAAAAAAAIAAAAAAAAAAgAAAAAAAAACAAAAAAAAAAIAAAAAAAAAAgAAAAAAAAACAAAAAAAAAAIAAAAAAAAAAgAAAAAAAAACAAAAAAAAAAIAAAAAAAAAAgAAAAAAAAACAAAAAAAAAAIAAAAAAAAAAgAAAAAAAAACAAAAAAAAAAIAAAAAAAAAAgAAAAAAAAACAAAAAAAAAAIAAAAAAAAAAgAAAAAAAAACAAAAAAAAAAIAAAAAAAAAAgAAAAAAAAACAAAAAAAAAAIAAAAAAAAAAgAAAAAAAAACAAAAAAAAAAIAAAAAAAAAAgAAAAAAAAACAAAAAAAAAAIAAAAAAAAAAgAAAAAAAAACAAAAAAAAAAIAAAAAAAAAAgAAAAAAAAACAAAAAAAAAAIAAAAAAAAAAgAAAAAAAAACAAAAAAAAAAIAAAAAAAAAAgAAAAAAAAACAAAAAAAAAAIAAAAAAAAAAgAAAAAAAAACAAAAAAAAAAIAAAAAAAAAAgAAAAAAAAACAAAAAAAAAAIAAAAAAAAAAgAAAAAAAAACAAAAAAAAAAIAAAAAAAAAAgAAAAAAAAACAAAAAAAAAAIAAAAAAAAAAgAAAAAAAAACAAAAAAAAAAIAAAAAAAAAAgAAAAAAAAACAAAAAAAAAAIAAAAAAAAAAgAAAAAAAAACAAAAAAAAAAIAAAAAAAAAAgAAAAAAAAACAAAAAAAAAAIAAAAAAAAAAgAAAAAAAAACAAAAAAAAAAIAAAAAAAAAAgAAAAAAAAACAAAAAAAAAAIAAAAAAAAAAgAAAAAAAAACAAAAAAAAAAIAAAAAAAAAAgAAAAAAAAACAAAAAAAAAAIAAAAAAAAAAgAAAAAAAAACAAAAAAAAAAIAAAAAAAAAAgAAAAAAAAACAAAAAAAAAAIAAAAAAAAAAgAAAAAAAAACAAAAAAAAAAIAAAAAAAAAAgAAAAAAAAACAAAAAAAAAAIAAAAAAAAAAgAAAAAAAAACAAAAAAAAAAIAAAAAAAAAAgAAAAAAAAACAAAAAAAAAAIAAAAAAAAAAgAAAAAAAAACAAAAAAAAAAIAAAAAAAAAAgAAAAAAAAACAAAAAAAAAAIAAAAAAAAAAgAAAAAAAAACAAAAAAAAAAIAAAAAAAAAAgAAAAAAAAACAAAAAAAAAAIAAAAAAAAAAgAAAAAAAAACAAAAAAAAAAIAAAAAAAAAAgAAAAAAAAACAAAAAAAAAAIAAAAAAAAAAgAAAAAAAAACAAAAAAAAAAIAAAAAAAAAAgAAAAAAAAACAAAAAAAAAAIAAAAAAAAAAgAAAAAAAAACAAAAAAAAAAIAAAAAAAAAAgAAAAAAAAACAAAAAAAAAAIAAAAAAAAAAgAAAAAAAAACAAAAAAAAAAIAAAAAAAAAAgAAAAAAAAACAAAAAAAAAAIAAAAAAAAAAgAAAAAAAAACAAAAAAAAAAIAAAAAAAAAAgAAAAAAAAACAAAAAAAAAAIAAAAAAAAAAgAAAAAAAAACAAAAAAAAAAIAAAAAAAAAAgAAAAAAAAACAAAAAAAAAAIAAAAAAAAAAgAAAAAAAAACAAAAAAAAAAIAAAAAAAAAAgAAAAAAAAACAAAAAAAAAAIAAAAAAAAAAgAAAAAAAAACAAAAAAAAAAIAAAAAAAAAAgAAAAAAAAACAAAAAAAAAAIAAAAAAAAAAgAAAAAAAAACAAAAAAAAAAIAAAAAAAAAAgAAAAAAAAACAAAAAAAAAAIAAAAAAAAAAgAAAAAAAAACAAAAAAAAAAIAAAAAAAAAAgAAAAAAAAACAAAAAAAAAAIAAAAAAAAAAgAAAAAAAAACAAAAAAAAAAIAAAAAAAAAAgAAAAAAAAACAAAAAAAAAAIAAAAAAAAAAgAAAAAAAAACAAAAAAAAAAIAAAAAAAAAAgAAAAAAAAACAAAAAAAAAAIAAAAAAAAAAgAAAAAAAAACAAAAAAAAAAIAAAAAAAAAAgAAAAAAAAACAAAAAAAAAAIAAAAAAAAAAgAAAAAAAAACAAAAAAAAAAIAAAAAAAAAAgAAAAAAAAACAAAAAAAAAAIAAAAAAAAAAgAAAAAAAAACAAAAAAAAAAIAAAAAAAAAAgAAAAAAAAACAAAAAAAAAAIAAAAAAAAAAgAAAAAAAAACAAAAAAAAAAIAAAAAAAAAAgAAAAAAAAACAAAAAAAAAAIAAAAAAAAAAgAAAAAAAAACAAAAAAAAAAIAAAAAAAAAAgAAAAAAAAACAAAAAAAAAAIAAAAAAAAAAgAAAAAAAAACAAAAAAAAAAIAAAAAAAAAAgAAAAAAAAACAAAAAAAAAAIAAAAAAAAAAgAAAAAAAAACAAAAAAAAAAIAAAAAAAAAAgAAAAAAAAACAAAAAAAAAAIAAAAAAAAAAgAAAAAAAAACAAAAAAAAAAIAAAAAAAAAAgAAAAAAAAACAAAAAAAAAAIAAAAAAAAAAgAAAAAAAAACAAAAAAAAAAIAAAAAAAAAAgAAAAAAAAACAAAAAAAAAAIAAAAAAAAAAgAAAAAAAAACAAAAAAAAAAIAAAAAAAAAAgAAAAAAAAACAAAAAAAAAAIAAAAAAAAAAgAAAAAAAAACAAAAAAAAAAIAAAAAAAAAAgAAAAAAAAACAAAAAAAAAAIAAAAAAAAAAgAAAAAAAAACAAAAAAAAAAIAAAAAAAAAAgAAAAAAAAACAAAAAAAAAAIAAAAAAAAAAgAAAAAAAAACAAAAAAAAAAIAAAAAAAAAAgAAAAAAAAACAAAAAAAAAAIAAAAAAAAAAgAAAAAAAAACAAAAAAAAAAIAAAAAAAAAAgAAAAAAAAACAAAAAAAAAAIAAAAAAAAAAgAAAAAAAAACAAAAAAAAAAIAAAAAAAAAAgAAAAAAAAACAAAAAAAAAAIAAAAAAAAAAgAAAAAAAAACAAAAAAAAAAIAAAAAAAAAAgAAAAAAAAACAAAAAAAAAAIAAAAAAAAAAgAAAAAAAAACAAAAAAAAAAIAAAAAAAAAAgAAAAAAAAACAAAAAAAAAAIAAAAAAAAAAgAAAAAAAAACAAAAAAAAAAIAAAAAAAAAAgAAAAAAAAACAAAAAAAAAAIAAAAAAAAAAgAAAAAAAAACAAAAAAAAAAIAAAAAAAAAAgAAAAAAAAACAAAAAAAAAAIAAAAAAAAAAgAAAAAAAAACAAAAAAAAAAIAAAAAAAAAAgAAAAAAAAACAAAAAAAAAAIAAAAAAAAAAgAAAAAAAAACAAAAAAAAAAIAAAAAAAAAAgAAAAAAAAACAAAAAAAAAAIAAAAAAAAAAgAAAAAAAAACAAAAAAAAAAIAAAAAAAAAAgAAAAAAAAACAAAAAAAAAAIAAAAAAAAAAgAAAAAAAAACAAAAAAAAAAIAAAAAAAAAAgAAAAAAAAACAAAAAAAAAAIAAAAAAAAAAgAAAAAAAAACAAAAAAAAAAIAAAAAAAAAAgAAAAAAAAACAAAAAAAAAAIAAAAAAAAAAgAAAAAAAAACAAAAAAAAAAIAAAAAAAAAAgAAAAAAAAACAAAAAAAAAAIAAAAAAAAAAgAAAAAAAAACAAAAAAAAAAIAAAAAAAAAAgAAAAAAAAACAAAAAAAAAAIAAAAAAAAAAgAAAAAAAAACAAAAAAAAAAIAAAAAAAAAAgAAAAAAAAACAAAAAAAAAAIAAAAAAAAAAgAAAAAAAAACAAAAAAAAAAIAAAAAAAAAAgAAAAAAAAACAAAAAAAAAAIAAAAAAAAAAgAAAAAAAAACAAAAAAAAAAIAAAAAAAAAAgAAAAAAAAACAAAAAAAAAAIAAAAAAAAAAgAAAAAAAAACAAAAAAAAAAIAAAAAAAAAAgAAAAAAAAACAAAAAAAAAAIAAAAAAAAAAgAAAAAAAAACAAAAAAAAAAIAAAAAAAAAAgAAAAAAAAACAAAAAAAAAAIAAAAAAAAAAgAAAAAAAAACAAAAAAAAAAIAAAAAAAAAAgAAAAAAAAACAAAAAAAAAAIAAAAAAAAAAgAAAAAAAAACAAAAAAAAAAIAAAAAAAAAAgAAAAAAAAACAAAAAAAAAAIAAAAAAAAAAgAAAAAAAAACAAAAAAAAAAIAAAAAAAAAAgAAAAAAAAACAAAAAAAAAAIAAAAAAAAAAgAAAAAAAAACAAAAAAAAAAIAAAAAAAAAAgAAAAAAAAACAAAAAAAAAAIAAAAAAAAAAgAAAAAAAAACAAAAAAAAAAIAAAAAAAAAAgAAAAAAAAACAAAAAAAAAAIAAAAAAAAAAgAAAAAAAAACAAAAAAAAAAIAAAAAAAAAAgAAAAAAAAACAAAAAAAAAAIAAAAAAAAAAgAAAAAAAAACAAAAAAAAAAIAAAAAAAAAAgAAAAAAAAACAAAAAAAAAAIAAAAAAAAAAgAAAAAAAAACAAAAAAAAAAIAAAAAAAAAAgAAAAAAAAACAAAAAAAAAAIAAAAAAAAAAgAAAAAAAAACAAAAAAAAAAIAAAAAAAAAAgAAAAAAAAACAAAAAAAAAAIAAAAAAAAAAgAAAAAAAAACAAAAAAAAAAIAAAAAAAAAAgAAAAAAAAACAAAAAAAAAAIAAAAAAAAAAgAAAAAAAAACAAAAAAAAAAIAAAAAAAAAAgAAAAAAAAACAAAAAAAAAAIAAAAAAAAAAgAAAAAAAAACAAAAAAAAAAIAAAAAAAAAAgAAAAAAAAACAAAAAAAAAAIAAAAAAAAAAgAAAAAAAAACAAAAAAAAAAIAAAAAAAAAAgAAAAAAAAACAAAAAAAAAAIAAAAAAAAAAgAAAAAAAAACAAAAAAAAAAIAAAAAAAAAAgAAAAAAAAACAAAAAAAAAAIAAAAAAAAAAgAAAAAAAAACAAAAAAAAAAIAAAAAAAAAAgAAAAAAAAACAAAAAAAAAAIAAAAAAAAAAgAAAAAAAAACAAAAAAAAAAIAAAAAAAAAAgAAAAAAAAACAAAAAAAAAAIAAAAAAAAAAgAAAAAAAAACAAAAAAAAAAIAAAAAAAAAAgAAAAAAAAACAAAAAAAAAAIAAAAAAAAAAgAAAAAAAAACAAAAAAAAAAIAAAAAAAAAAgAAAAAAAAACAAAAAAAAAAIAAAAAAAAAAgAAAAAAAAACAAAAAAAAAAIAAAAAAAAAAgAAAAAAAAACAAAAAAAAAAIAAAAAAAAAAgAAAAAAAAACAAAAAAAAAAIAAAAAAAAAAgAAAAAAAAACAAAAAAAAAAIAAAAAAAAAAgAAAAAAAAACAAAAAAAAAAIAAAAAAAAAAgAAAAAAAAACAAAAAAAAAAIAAAAAAAAAAgAAAAAAAAACAAAAAAAAAAIAAAAAAAAAAgAAAAAAAAACAAAAAAAAAAIAAAAAAAAAAgAAAAAAAAACAAAAAAAAAAIAAAAAAAAAAgAAAAAAAAACAAAAAAAAAAIAAAAAAAAAAgAAAAAAAAACAAAAAAAAAAIAAAAAAAAAAgAAAAAAAAACAAAAAAAAAAIAAAAAAAAAAgAAAAAAAAACAAAAAAAAAAIAAAAAAAAAAgAAAAAAAAACAAAAAAAAAAIAAAAAAAAAAgAAAAAAAAACAAAAAAAAAAIAAAAAAAAAAgAAAAAAAAACAAAAAAAAAAIAAAAAAAAAAgAAAAAAAAACAAAAAAAAAAIAAAAAAAAAAgAAAAAAAAACAAAAAAAAAAIAAAAAAAAAAgAAAAAAAAACAAAAAAAAAAIAAAAAAAAAAgAAAAAAAAACAAAAAAAAAAIAAAAAAAAAAgAAAAAAAAACAAAAAAAAAAIAAAAAAAAAAgAAAAAAAAACAAAAAAAAAAIAAAAAAAAAAgAAAAAAAAACAAAAAAAAAAIAAAAAAAAAAgAAAAAAAAACAAAAAAAAAAIAAAAAAAAAAgAAAAAAAAACAAAAAAAAAAIAAAAAAAAAAgAAAAAAAAACAAAAAAAAAAIAAAAAAAAAAgAAAAAAAAACAAAAAAAAAAIAAAAAAAAAAgAAAAAAAAACAAAAAAAAAAIAAAAAAAAAAgAAAAAAAAACAAAAAAAAAAIAAAAAAAAAAgAAAAAAAAACAAAAAAAAAAIAAAAAAAAAAgAAAAAAAAACAAAAAAAAAAIAAAAAAAAAAgAAAAAAAAACAAAAAAAAAAIAAAAAAAAAAgAAAAAAAAACAAAAAAAAAAIAAAAAAAAAAgAAAAAAAAACAAAAAAAAAAIAAAAAAAAAAgAAAAAAAAACAAAAAAAAAAIAAAAAAAAAAgAAAAAAAAACAAAAAAAAAAIAAAAAAAAAAgAAAAAAAAACAAAAAAAAAAIAAAAAAAAAAgAAAAAAAAACAAAAAAAAAAIAAAAAAAAAAgAAAAAAAAACAAAAAAAAAAIAAAAAAAAAAgAAAAAAAAACAAAAAAAAAAIAAAAAAAAAAgAAAAAAAAACAAAAAAAAAAIAAAAAAAAAAgAAAAAAAAACAAAAAAAAAAIAAAAAAAAAAgAAAAAAAAACAAAAAAAAAAIAAAAAAAAAAgAAAAAAAAACAAAAAAAAAAIAAAAAAAAAAgAAAAAAAAACAAAAAAAAAAIAAAAAAAAAAgAAAAAAAAACAAAAAAAAAAIAAAAAAAAAAgAAAAAAAAACAAAAAAAAAAIAAAAAAAAAAgAAAAAAAAACAAAAAAAAAAIAAAAAAAAAAgAAAAAAAAACAAAAAAAAAAIAAAAAAAAAAgAAAAAAAAACAAAAAAAAAAIAAAAAAAAAAgAAAAAAAAACAAAAAAAAAAIAAAAAAAAAAgAAAAAAAAACAAAAAAAAAAIAAAAAAAAAAgAAAAAAAAACAAAAAAAAAAIAAAAAAAAAAgAAAAAAAAACAAAAAAAAAAIAAAAAAAAAAgAAAAAAAAACAAAAAAAAAAIAAAAAAAAAAgAAAAAAAAACAAAAAAAAAAIAAAAAAAAAAgAAAAAAAAACAAAAAAAAAAIAAAAAAAAAAgAAAAAAAAACAAAAAAAAAAIAAAAAAAAAAgAAAAAAAAACAAAAAAAAAAIAAAAAAAAAAgAAAAAAAAACAAAAAAAAAAIAAAAAAAAAAgAAAAAAAAACAAAAAAAAAAIAAAAAAAAAAgAAAAAAAAACAAAAAAAAAAIAAAAAAAAAAgAAAAAAAAACAAAAAAAAAAIAAAAAAAAAAgAAAAAAAAACAAAAAAAAAAIAAAAAAAAAAgAAAAAAAAACAAAAAAAAAAIAAAAAAAAAAgAAAAAAAAACAAAAAAAAAAIAAAAAAAAAAgAAAAAAAAACAAAAAAAAAAIAAAAAAAAAAgAAAAAAAAACAAAAAAAAAAIAAAAAAAAAAgAAAAAAAAACAAAAAAAAAAIAAAAAAAAAAgAAAAAAAAACAAAAAAAAAAIAAAAAAAAAAgAAAAAAAAACAAAAAAAAAAIAAAAAAAAAAgAAAAAAAAACAAAAAAAAAAIAAAAAAAAAAgAAAAAAAAACAAAAAAAAAAIAAAAAAAAAAgAAAAAAAAACAAAAAAAAAAIAAAAAAAAAAgAAAAAAAAACAAAAAAAAAAIAAAAAAAAAAgAAAAAAAAACAAAAAAAAAAIAAAAAAAAAAgAAAAAAAAACAAAAAAAAAAIAAAAAAAAAAgAAAAAAAAACAAAAAAAAAAIAAAAAAAAAAgAAAAAAAAACAAAAAAAAAAIAAAAAAAAAAgAAAAAAAAACAAAAAAAAAAIAAAAAAAAAAgAAAAAAAAACAAAAAAAAAAIAAAAAAAAAAgAAAAAAAAACAAAAAAAAAAIAAAAAAAAAAgAAAAAAAAACAAAAAAAAAAIAAAAAAAAAAgAAAAAAAAACAAAAAAAAAAIAAAAAAAAAAgAAAAAAAAACAAAAAAAAAAIAAAAAAAAAAgAAAAAAAAACAAAAAAAAAAIAAAAAAAAAAgAAAAAAAAACAAAAAAAAAAIAAAAAAAAAAgAAAAAAAAACAAAAAAAAAAIAAAAAAAAAAgAAAAAAAAACAAAAAAAAAAIAAAAAAAAAAgAAAAAAAAACAAAAAAAAAAIAAAAAAAAAAgAAAAAAAAACAAAAAAAAAAIAAAAAAAAAAgAAAAAAAAACAAAAAAAAAAIAAAAAAAAAAgAAAAAAAAACAAAAAAAAAAIAAAAAAAAAAgAAAAAAAAACAAAAAAAAAAIAAAAAAAAAAgAAAAAAAAACAAAAAAAAAAIAAAAAAAAAAgAAAAAAAAACAAAAAAAAAAIAAAAAAAAAAgAAAAAAAAACAAAAAAAAAAIAAAAAAAAAAgAAAAAAAAACAAAAAAAAAAIAAAAAAAAAAgAAAAAAAAACAAAAAAAAAAIAAAAAAAAAAgAAAAAAAAACAAAAAAAAAAIAAAAAAAAAAgAAAAAAAAACAAAAAAAAAAIAAAAAAAAAAgAAAAAAAAACAAAAAAAAAAIAAAAAAAAAAgAAAAAAAAACAAAAAAAAAAIAAAAAAAAAAgAAAAAAAAACAAAAAAAAAAIAAAAAAAAAAgAAAAAAAAACAAAAAAAAAAIAAAAAAAAAAgAAAAAAAAACAAAAAAAAAAIAAAAAAAAAAgAAAAAAAAACAAAAAAAAAAIAAAAAAAAAAgAAAAAAAAACAAAAAAAAAAIAAAAAAAAAAgAAAAAAAAACAAAAAAAAAAIAAAAAAAAAAgAAAAAAAAACAAAAAAAAAAIAAAAAAAAAAgAAAAAAAAACAAAAAAAAAAIAAAAAAAAAAgAAAAAAAAACAAAAAAAAAAIAAAAAAAAAAgAAAAAAAAACAAAAAAAAAAIAAAAAAAAAAgAAAAAAAAACAAAAAAAAAAIAAAAAAAAAAgAAAAAAAAACAAAAAAAAAAIAAAAAAAAAAgAAAAAAAAACAAAAAAAAAAIAAAAAAAAAAgAAAAAAAAACAAAAAAAAAAIAAAAAAAAAAgAAAAAAAAACAAAAAAAAAAIAAAAAAAAAAgAAAAAAAAACAAAAAAAAAAIAAAAAAAAAAgAAAAAAAAACAAAAAAAAAAIAAAAAAAAAAgAAAAAAAAACAAAAAAAAAAIAAAAAAAAAAgAAAAAAAAACAAAAAAAAAAIAAAAAAAAAAgAAAAAAAAACAAAAAAAAAAIAAAAAAAAAAgAAAAAAAAACAAAAAAAAAAIAAAAAAAAAAgAAAAAAAAACAAAAAAAAAAIAAAAAAAAAAgAAAAAAAAACAAAAAAAAAAIAAAAAAAAAAgAAAAAAAAACAAAAAAAAAAIAAAAAAAAAAgAAAAAAAAACAAAAAAAAAAIAAAAAAAAAAgAAAAAAAAACAAAAAAAAAAIAAAAAAAAAAgAAAAAAAAACA\",\"dtype\":\"float64\",\"shape\":[999]}},\"selected\":{\"id\":\"4d9baede-ffda-4b66-b3d0-4eb5dde3e1d0\",\"type\":\"Selection\"},\"selection_policy\":{\"id\":\"6b2b2ac5-bb23-4d4f-9509-36a005b487d7\",\"type\":\"UnionRenderers\"}},\"id\":\"ebc29d23-43cf-4b90-a9bc-1d1614d8cd05\",\"type\":\"ColumnDataSource\"},{\"attributes\":{},\"id\":\"6b2b2ac5-bb23-4d4f-9509-36a005b487d7\",\"type\":\"UnionRenderers\"},{\"attributes\":{\"axis_label\":\"Cost\",\"formatter\":{\"id\":\"79bf9afb-d97d-42ea-aaa7-8275d324351a\",\"type\":\"BasicTickFormatter\"},\"plot\":{\"id\":\"381b671a-902f-4910-9028-bb2f1d1b68bb\",\"subtype\":\"Figure\",\"type\":\"Plot\"},\"ticker\":{\"id\":\"16388b37-7620-4bf4-a482-4e547b555d8d\",\"type\":\"BasicTicker\"}},\"id\":\"ed5c3566-2e22-495b-8d37-1e90a90f4516\",\"type\":\"LinearAxis\"},{\"attributes\":{\"below\":[{\"id\":\"79313408-218c-4fe8-8589-74724068ddcc\",\"type\":\"LinearAxis\"}],\"left\":[{\"id\":\"ed5c3566-2e22-495b-8d37-1e90a90f4516\",\"type\":\"LinearAxis\"}],\"plot_height\":400,\"plot_width\":400,\"renderers\":[{\"id\":\"79313408-218c-4fe8-8589-74724068ddcc\",\"type\":\"LinearAxis\"},{\"id\":\"4eaf94e7-8ed8-4d47-9b87-e27298f0c678\",\"type\":\"Grid\"},{\"id\":\"ed5c3566-2e22-495b-8d37-1e90a90f4516\",\"type\":\"LinearAxis\"},{\"id\":\"a52554e6-859d-415b-9877-cda68eeb1168\",\"type\":\"Grid\"},{\"id\":\"25af8fc5-e9c5-4e85-ad5b-7eb6db356f7d\",\"type\":\"BoxAnnotation\"},{\"id\":\"4fcda56c-94db-4bcb-8033-e51dd7e706ad\",\"type\":\"Legend\"},{\"id\":\"8daad407-7cf0-44bf-92e1-00faca067853\",\"type\":\"GlyphRenderer\"},{\"id\":\"b8a7d965-bc09-4e46-9c4c-95c7f6485191\",\"type\":\"GlyphRenderer\"}],\"title\":{\"id\":\"2885fbc5-6818-4d7b-8847-7b5d6f9ec9d2\",\"type\":\"Title\"},\"toolbar\":{\"id\":\"22a2cedb-89b0-4740-9586-a91eceb6294e\",\"type\":\"Toolbar\"},\"x_range\":{\"id\":\"c8b24bb2-8f7e-4737-827a-fb8f92af1b9c\",\"type\":\"DataRange1d\"},\"x_scale\":{\"id\":\"e39eb8a1-1b39-4b85-96c3-d510f2659ded\",\"type\":\"LinearScale\"},\"y_range\":{\"id\":\"ba99739c-47d7-4438-bc3e-0d4922bf618b\",\"type\":\"DataRange1d\"},\"y_scale\":{\"id\":\"b89c8cc9-7909-4726-a233-4a0f279b09b0\",\"type\":\"LinearScale\"}},\"id\":\"381b671a-902f-4910-9028-bb2f1d1b68bb\",\"subtype\":\"Figure\",\"type\":\"Plot\"},{\"attributes\":{\"plot\":null,\"text\":\"y = 1\"},\"id\":\"2885fbc5-6818-4d7b-8847-7b5d6f9ec9d2\",\"type\":\"Title\"},{\"attributes\":{},\"id\":\"ca2a6fa2-61a2-4ef0-961d-a0c5be1216de\",\"type\":\"Selection\"},{\"attributes\":{},\"id\":\"4d9baede-ffda-4b66-b3d0-4eb5dde3e1d0\",\"type\":\"Selection\"},{\"attributes\":{\"axis_label\":\"Est. Probability\",\"formatter\":{\"id\":\"061e405f-bde2-4f04-963c-9ebf1a66a1bd\",\"type\":\"BasicTickFormatter\"},\"plot\":{\"id\":\"381b671a-902f-4910-9028-bb2f1d1b68bb\",\"subtype\":\"Figure\",\"type\":\"Plot\"},\"ticker\":{\"id\":\"bfd78444-1386-4fa3-a16d-fa386eb2e6ca\",\"type\":\"BasicTicker\"}},\"id\":\"79313408-218c-4fe8-8589-74724068ddcc\",\"type\":\"LinearAxis\"},{\"attributes\":{},\"id\":\"c05f634c-4904-4a61-9696-75dc257a7901\",\"type\":\"UnionRenderers\"},{\"attributes\":{\"callback\":null,\"data\":{\"x\":{\"__ndarray__\":\"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\",\"dtype\":\"float64\",\"shape\":[999]},\"y\":{\"__ndarray__\":\"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\",\"dtype\":\"float64\",\"shape\":[999]}},\"selected\":{\"id\":\"e7da8d5b-71fd-4ad4-8658-52f2ec893fc0\",\"type\":\"Selection\"},\"selection_policy\":{\"id\":\"35a60200-380a-4963-8431-28b12144ec30\",\"type\":\"UnionRenderers\"}},\"id\":\"48cbadd0-d9ab-47a1-ab70-b35a024f77a9\",\"type\":\"ColumnDataSource\"},{\"attributes\":{},\"id\":\"16388b37-7620-4bf4-a482-4e547b555d8d\",\"type\":\"BasicTicker\"},{\"attributes\":{\"active_drag\":\"auto\",\"active_inspect\":\"auto\",\"active_multi\":null,\"active_scroll\":\"auto\",\"active_tap\":\"auto\",\"tools\":[{\"id\":\"e1e2bb9b-c283-4ed8-8a20-ddfd8e3adfa4\",\"type\":\"PanTool\"},{\"id\":\"483a7bba-9d7a-49b2-97c4-388c72292847\",\"type\":\"WheelZoomTool\"},{\"id\":\"3ce1d03a-c3e3-4dc2-b90d-ab5ddc530651\",\"type\":\"BoxZoomTool\"},{\"id\":\"57197cfe-fe85-4f1c-8167-652b0160269f\",\"type\":\"SaveTool\"},{\"id\":\"0c188be6-35ff-4f48-acde-aa6168ec2523\",\"type\":\"ResetTool\"},{\"id\":\"b6ba1ce1-9450-4cf3-956d-d876be22ba85\",\"type\":\"HelpTool\"}]},\"id\":\"22a2cedb-89b0-4740-9586-a91eceb6294e\",\"type\":\"Toolbar\"}],\"root_ids\":[\"3e4d4d58-ac3e-4a67-9c3c-770b48b45a76\"]},\"title\":\"Bokeh Application\",\"version\":\"0.13.0\"}};\n",
       "  var render_items = [{\"docid\":\"8627bdc7-cd19-4b47-92ca-562528c353e0\",\"roots\":{\"3e4d4d58-ac3e-4a67-9c3c-770b48b45a76\":\"4838fceb-6246-4fc8-ad9a-57b6e8c9c84a\"}}];\n",
       "  root.Bokeh.embed.embed_items_notebook(docs_json, render_items);\n",
       "\n",
       "  }\n",
       "  if (root.Bokeh !== undefined) {\n",
       "    embed_document(root);\n",
       "  } else {\n",
       "    var attempts = 0;\n",
       "    var timer = setInterval(function(root) {\n",
       "      if (root.Bokeh !== undefined) {\n",
       "        embed_document(root);\n",
       "        clearInterval(timer);\n",
       "      }\n",
       "      attempts++;\n",
       "      if (attempts > 100) {\n",
       "        console.log(\"Bokeh: ERROR: Unable to run BokehJS code because BokehJS library is missing\")\n",
       "        clearInterval(timer);\n",
       "      }\n",
       "    }, 10, root)\n",
       "  }\n",
       "})(window);"
      ],
      "application/vnd.bokehjs_exec.v0+json": ""
     },
     "metadata": {
      "application/vnd.bokehjs_exec.v0+json": {
       "id": "3e4d4d58-ac3e-4a67-9c3c-770b48b45a76"
      }
     },
     "output_type": "display_data"
    }
   ],
   "source": [
    "outcome = 1\n",
    "pr = np.arange(.001,1,.001)\n",
    "p = figure(height=400,width=400,title=\"y = 1\")\n",
    "p.line(pr,\n",
    "       -outcome*np.log(pr),\n",
    "       line_width=3,alpha=.5,\n",
    "       legend='-y*log(pr)')\n",
    "\n",
    "p.line(pr,\n",
    "       -(1-outcome)*np.log(1-pr),\n",
    "       line_width=3,alpha=.5,\n",
    "       color = 'orange',\n",
    "       legend='(1-y)*log(1-pr)')\n",
    "p.xaxis.axis_label = \"Est. Probability\"\n",
    "p.yaxis.axis_label = \"Cost\"\n",
    "\n",
    "outcome = 0\n",
    "p2 = figure(height=400,width=400,title=\"y = 0\")\n",
    "p2.line(pr,\n",
    "       -outcome*np.log(pr),\n",
    "       line_width=3,alpha=.5,\n",
    "       legend='-y*log(pr)')\n",
    "\n",
    "p2.line(pr,\n",
    "       -(1-outcome)*np.log(1-pr),\n",
    "       line_width=3,alpha=.5,\n",
    "       color = 'orange',\n",
    "       legend='(1-y)*log(1-pr)')\n",
    "p2.xaxis.axis_label = \"Est. Probability\"\n",
    "p2.yaxis.axis_label = \"Cost\"\n",
    "p2.legend.location = \"top_left\"\n",
    "show(row(p,p2))"
   ]
  },
  {
   "cell_type": "markdown",
   "metadata": {},
   "source": [
    "Let's write a function to quickly compute the costs, given some randomly selected coefficients..."
   ]
  },
  {
   "cell_type": "code",
   "execution_count": 8,
   "metadata": {},
   "outputs": [
    {
     "data": {
      "image/png": "[encoded data removed]",
      "text/latex": [
       "$$0.6931471805599322$$"
      ],
      "text/plain": [
       "0.6931471805599322"
      ]
     },
     "execution_count": 8,
     "metadata": {},
     "output_type": "execute_result"
    }
   ],
   "source": [
    "def cost(y,X,B):\n",
    "    '''\n",
    "    Cross-Entropy Cost\n",
    "    '''\n",
    "    z = X.dot(B)\n",
    "    n = len(y)\n",
    "    return -sum(y*np.log(s(z))+(1-y)*np.log(1-s(z)))/n\n",
    "\n",
    "cost(y,X,B=np.array([0,0,0]))"
   ]
  },
  {
   "cell_type": "markdown",
   "metadata": {},
   "source": [
    "Let's locate the gradient of the cost function with respect to our parameters/\"weights\", $\\beta$."
   ]
  },
  {
   "cell_type": "code",
   "execution_count": 9,
   "metadata": {},
   "outputs": [
    {
     "data": {
      "image/png": "[encoded data removed]",
      "text/latex": [
       "$$- y \\log{\\left (\\frac{1}{e^{- b_{0} - b_{1} x} + 1} \\right )} - \\left(- y + 1\\right) \\log{\\left (1 - \\frac{1}{e^{- b_{0} - b_{1} x} + 1} \\right )}$$"
      ],
      "text/plain": [
       "       ⎛       1       ⎞               ⎛           1       ⎞\n",
       "- y⋅log⎜───────────────⎟ - (-y + 1)⋅log⎜1 - ───────────────⎟\n",
       "       ⎜ -b₀ - b₁⋅x    ⎟               ⎜     -b₀ - b₁⋅x    ⎟\n",
       "       ⎝ℯ           + 1⎠               ⎝    ℯ           + 1⎠"
      ]
     },
     "execution_count": 9,
     "metadata": {},
     "output_type": "execute_result"
    }
   ],
   "source": [
    "b0,b1,x,y_sym = sp.symbols('b0 b1 x y')\n",
    "z_sym = b0 + b1*x\n",
    "s_sym = 1/(1+sp.exp(-z_sym))\n",
    "c = -y_sym*sp.log(s_sym)-(1-y_sym)*sp.log(1-s_sym)\n",
    "c"
   ]
  },
  {
   "cell_type": "markdown",
   "metadata": {},
   "source": [
    "Taking the derivative with respect to $\\beta_0$ "
   ]
  },
  {
   "cell_type": "code",
   "execution_count": 10,
   "metadata": {},
   "outputs": [
    {
     "data": {
      "image/png": "[encoded data removed]",
      "text/latex": [
       "$$\\frac{- y e^{- b_{0} - b_{1} x} - y + 1}{e^{- b_{0} - b_{1} x} + 1}$$"
      ],
      "text/plain": [
       "     -b₀ - b₁⋅x        \n",
       "- y⋅ℯ           - y + 1\n",
       "───────────────────────\n",
       "     -b₀ - b₁⋅x        \n",
       "    ℯ           + 1    "
      ]
     },
     "execution_count": 10,
     "metadata": {},
     "output_type": "execute_result"
    }
   ],
   "source": [
    "c.diff(b0).simplify()"
   ]
  },
  {
   "cell_type": "markdown",
   "metadata": {},
   "source": [
    "<br>\n",
    "<br>\n",
    "\n",
    "$$ \\frac{\\partial C}{\\partial \\beta_0}= \\frac{- y e^{- b_{0} - b_{1} x} - y + 1}{e^{- b_{0} - b_{1} x} + 1} $$\n",
    "\n",
    "<br>\n",
    "<br>\n",
    "\n",
    "$$ \\frac{-y(e^{- b_{0} - b_{1} x}+1)+1}{e^{- b_{0} - b_{1} x} + 1}$$\n",
    "\n",
    "<br>\n",
    "<br>\n",
    "\n",
    "$$ \\frac{-y(e^{- b_{0} - b_{1} x}+1)}{e^{- b_{0} - b_{1} x} + 1} + \\frac{1}{e^{- b_{0} - b_{1} x} + 1}$$\n",
    "\n",
    "<br>\n",
    "<br>\n",
    "\n",
    "$$ \\frac{-y(e^{- b_{0} - b_{1} x}+1)}{e^{- b_{0} - b_{1} x} + 1} + \\nu(z)$$\n",
    "\n",
    "<br>\n",
    "<br>\n",
    "\n",
    "$$ \\frac{\\partial C}{\\partial \\beta_0}= \\nu(z) -y$$\n",
    "\n",
    "<br>\n",
    "<br>"
   ]
  },
  {
   "cell_type": "markdown",
   "metadata": {},
   "source": [
    "Now, the derivative with respect to $\\beta_1$"
   ]
  },
  {
   "cell_type": "code",
   "execution_count": 11,
   "metadata": {},
   "outputs": [
    {
     "data": {
      "image/png": "[encoded data removed]",
      "text/latex": [
       "$$\\frac{x \\left(- y e^{- b_{0} - b_{1} x} - y + 1\\right)}{e^{- b_{0} - b_{1} x} + 1}$$"
      ],
      "text/plain": [
       "  ⎛     -b₀ - b₁⋅x        ⎞\n",
       "x⋅⎝- y⋅ℯ           - y + 1⎠\n",
       "───────────────────────────\n",
       "       -b₀ - b₁⋅x          \n",
       "      ℯ           + 1      "
      ]
     },
     "execution_count": 11,
     "metadata": {},
     "output_type": "execute_result"
    }
   ],
   "source": [
    "c.diff(b1).simplify()"
   ]
  },
  {
   "cell_type": "markdown",
   "metadata": {},
   "source": [
    "<br>\n",
    "<br>\n",
    "\n",
    "$$\\frac{\\partial C}{\\partial \\beta_1}= \\frac{x(- y e^{- b_{0} - b_{1} x} - y + 1)}{e^{- b_{0} - b_{1} x} + 1} $$\n",
    "\n",
    "<br>\n",
    "<br>\n",
    "\n",
    "$$ x(\\frac{-y(e^{- b_{0} - b_{1} x}+1)+1}{e^{- b_{0} - b_{1} x} + 1})$$\n",
    "\n",
    "<br>\n",
    "<br>\n",
    "\n",
    "$$ x(\\frac{-y(e^{- b_{0} - b_{1} x}+1)}{e^{- b_{0} - b_{1} x} + 1} + \\frac{1}{e^{- b_{0} - b_{1} x} + 1})$$\n",
    "\n",
    "<br>\n",
    "<br>\n",
    "\n",
    "$$ \\frac{\\partial C}{\\partial \\beta_1}= x(\\nu(z)-y)$$\n",
    "\n",
    "<br>\n",
    "<br>"
   ]
  },
  {
   "cell_type": "markdown",
   "metadata": {},
   "source": [
    "We now have everything we need to calculate the gradient of the cost function, and we can see that this cost function actually scale quite beautifully to a large number of inputs."
   ]
  },
  {
   "cell_type": "code",
   "execution_count": 12,
   "metadata": {},
   "outputs": [],
   "source": [
    "def calc_gradient(y,X,B):\n",
    "    '''\n",
    "    Calculate and average the gradient for every entry in the data.\n",
    "    '''\n",
    "    z = X.dot(B)\n",
    "    n = len(y)\n",
    "    grad = [sum(s(z)-y)/n ]\n",
    "    for i in range(1,X.shape[1]):\n",
    "        grad.append(sum(X[:,i]*(s(z)-y))/n)\n",
    "    return np.array(grad)"
   ]
  },
  {
   "cell_type": "markdown",
   "metadata": {},
   "source": [
    "Let's get a feel for both functions again."
   ]
  },
  {
   "cell_type": "code",
   "execution_count": 13,
   "metadata": {},
   "outputs": [
    {
     "name": "stdout",
     "output_type": "stream",
     "text": [
      "0.7846086172264121\n"
     ]
    },
    {
     "data": {
      "text/plain": [
       "array([ 0.04453159,  0.3665033 , -0.126092  ])"
      ]
     },
     "execution_count": 13,
     "metadata": {},
     "output_type": "execute_result"
    }
   ],
   "source": [
    "B = np.array([1,1,1])\n",
    "print(cost(y,X,B))\n",
    "calc_gradient(y,X,B)"
   ]
  },
  {
   "cell_type": "markdown",
   "metadata": {},
   "source": [
    "Now run the algorithm a number of times."
   ]
  },
  {
   "cell_type": "code",
   "execution_count": 14,
   "metadata": {},
   "outputs": [
    {
     "name": "stdout",
     "output_type": "stream",
     "text": [
      "[ 1.15205797 -2.20421918  3.15954845]\n"
     ]
    }
   ],
   "source": [
    "np.random.seed(123)\n",
    "B = np.random.uniform(-1,1,3) # starting values\n",
    "learning = 1\n",
    "n_iter = 1000\n",
    "stats = []\n",
    "for i in range(n_iter):\n",
    "    grad = calc_gradient(y,X,B)\n",
    "    B = B - learning*grad\n",
    "    \n",
    "    # Store output values...\n",
    "    stats.append(np.hstack([cost(y,X,B),B]))\n",
    "    \n",
    "stats = np.array(stats)\n",
    "\n",
    "# Let's print out the resulting coefficients (\"weights\")\n",
    "print(B)"
   ]
  },
  {
   "cell_type": "markdown",
   "metadata": {},
   "source": [
    "Let's visualize the gradient descent step..."
   ]
  },
  {
   "cell_type": "code",
   "execution_count": 15,
   "metadata": {},
   "outputs": [
    {
     "data": {
      "text/html": [
       "\n",
       "\n",
       "\n",
       "\n",
       "\n",
       "\n",
       "  <div class=\"bk-root\" id=\"12362563-e3e7-4590-bf7b-b1b626cfe9f1\"></div>\n"
      ]
     },
     "metadata": {},
     "output_type": "display_data"
    },
    {
     "data": {
      "application/javascript": [
       "(function(root) {\n",
       "  function embed_document(root) {\n",
       "    \n",
       "  var docs_json = {\"eb997af4-8121-4bf8-b91e-d7319fe1d878\":{\"roots\":{\"references\":[{\"attributes\":{\"data_source\":{\"id\":\"5420cb50-ae84-4047-bd76-8610779a206a\",\"type\":\"ColumnDataSource\"},\"glyph\":{\"id\":\"b975afb5-e320-4273-a755-d401397d11d6\",\"type\":\"Line\"},\"hover_glyph\":null,\"muted_glyph\":null,\"nonselection_glyph\":{\"id\":\"92bf026c-0383-4801-a6f2-33ed1d992bdb\",\"type\":\"Line\"},\"selection_glyph\":null,\"view\":{\"id\":\"11b130b7-fb20-443b-ade5-c921da18ea44\",\"type\":\"CDSView\"}},\"id\":\"b20dc0c8-c40e-4ce9-baee-2ab0585d6a14\",\"type\":\"GlyphRenderer\"},{\"attributes\":{\"source\":{\"id\":\"5420cb50-ae84-4047-bd76-8610779a206a\",\"type\":\"ColumnDataSource\"}},\"id\":\"11b130b7-fb20-443b-ade5-c921da18ea44\",\"type\":\"CDSView\"},{\"attributes\":{\"line_alpha\":0.1,\"line_color\":\"#1f77b4\",\"line_width\":3,\"x\":{\"field\":\"x\"},\"y\":{\"field\":\"y\"}},\"id\":\"92bf026c-0383-4801-a6f2-33ed1d992bdb\",\"type\":\"Line\"},{\"attributes\":{\"items\":[{\"id\":\"a2f8fe4d-101f-4b4d-ae6e-b49bd7f102c1\",\"type\":\"LegendItem\"},{\"id\":\"ba0170dd-d9f3-473c-a862-469d5b071dfe\",\"type\":\"LegendItem\"},{\"id\":\"b357b628-2dab-4d89-8ba6-1510a635f115\",\"type\":\"LegendItem\"}],\"plot\":{\"id\":\"d318c9c6-7235-412a-bf6f-6419ced4c38b\",\"subtype\":\"Figure\",\"type\":\"Plot\"}},\"id\":\"17c0036b-71ce-4694-a52e-b2fdc91a7334\",\"type\":\"Legend\"},{\"attributes\":{\"line_color\":\"#1f77b4\",\"line_width\":3,\"x\":{\"field\":\"x\"},\"y\":{\"field\":\"y\"}},\"id\":\"b047710e-d285-48c8-9cfc-d20450435b4d\",\"type\":\"Line\"},{\"attributes\":{},\"id\":\"f498ec1d-ec7c-414d-9a96-0bf51605de04\",\"type\":\"BasicTickFormatter\"},{\"attributes\":{},\"id\":\"6e512a8d-cbda-4758-8d10-21a11c2c3050\",\"type\":\"PanTool\"},{\"attributes\":{\"plot\":null,\"text\":\"\"},\"id\":\"40fbf91c-16d1-4005-814a-d3388fb7dc79\",\"type\":\"Title\"},{\"attributes\":{},\"id\":\"6f781650-af38-4749-a792-66ea066b9531\",\"type\":\"WheelZoomTool\"},{\"attributes\":{\"overlay\":{\"id\":\"5753268e-499d-4a77-bb0b-a05db67ff8d8\",\"type\":\"BoxAnnotation\"}},\"id\":\"4ef2f1f1-23f8-4c5f-bcc5-08aa5cbe4738\",\"type\":\"BoxZoomTool\"},{\"attributes\":{},\"id\":\"dc0c0a3d-46d3-4222-ae91-ef9f8388b265\",\"type\":\"BasicTicker\"},{\"attributes\":{},\"id\":\"a33c4c3f-95b1-4ef4-8826-039a035b5e6f\",\"type\":\"SaveTool\"},{\"attributes\":{},\"id\":\"d67f49be-5f64-4f77-945f-f141006b3b3e\",\"type\":\"ResetTool\"},{\"attributes\":{},\"id\":\"7288b256-f27d-4902-9ebf-9c379e6aa5dc\",\"type\":\"HelpTool\"},{\"attributes\":{\"bottom_units\":\"screen\",\"fill_alpha\":{\"value\":0.5},\"fill_color\":{\"value\":\"lightgrey\"},\"left_units\":\"screen\",\"level\":\"overlay\",\"line_alpha\":{\"value\":1.0},\"line_color\":{\"value\":\"black\"},\"line_dash\":[4,4],\"line_width\":{\"value\":2},\"plot\":null,\"render_mode\":\"css\",\"right_units\":\"screen\",\"top_units\":\"screen\"},\"id\":\"5753268e-499d-4a77-bb0b-a05db67ff8d8\",\"type\":\"BoxAnnotation\"},{\"attributes\":{},\"id\":\"5576b3f4-7a38-44b3-b035-94b37571659f\",\"type\":\"BasicTicker\"},{\"attributes\":{\"label\":{\"value\":\"B0\"},\"renderers\":[{\"id\":\"b20dc0c8-c40e-4ce9-baee-2ab0585d6a14\",\"type\":\"GlyphRenderer\"}]},\"id\":\"a2f8fe4d-101f-4b4d-ae6e-b49bd7f102c1\",\"type\":\"LegendItem\"},{\"attributes\":{},\"id\":\"a0408427-c92b-4f91-aac4-f66d5b888c5e\",\"type\":\"BasicTickFormatter\"},{\"attributes\":{},\"id\":\"fb0be64b-00da-484b-a899-94d2bc383855\",\"type\":\"Selection\"},{\"attributes\":{\"callback\":null,\"data\":{\"x\":[0,1,2,3,4,5,6,7,8,9,10,11,12,13,14,15,16,17,18,19,20,21,22,23,24,25,26,27,28,29,30,31,32,33,34,35,36,37,38,39,40,41,42,43,44,45,46,47,48,49,50,51,52,53,54,55,56,57,58,59,60,61,62,63,64,65,66,67,68,69,70,71,72,73,74,75,76,77,78,79,80,81,82,83,84,85,86,87,88,89,90,91,92,93,94,95,96,97,98,99,100,101,102,103,104,105,106,107,108,109,110,111,112,113,114,115,116,117,118,119,120,121,122,123,124,125,126,127,128,129,130,131,132,133,134,135,136,137,138,139,140,141,142,143,144,145,146,147,148,149,150,151,152,153,154,155,156,157,158,159,160,161,162,163,164,165,166,167,168,169,170,171,172,173,174,175,176,177,178,179,180,181,182,183,184,185,186,187,188,189,190,191,192,193,194,195,196,197,198,199,200,201,202,203,204,205,206,207,208,209,210,211,212,213,214,215,216,217,218,219,220,221,222,223,224,225,226,227,228,229,230,231,232,233,234,235,236,237,238,239,240,241,242,243,244,245,246,247,248,249,250,251,252,253,254,255,256,257,258,259,260,261,262,263,264,265,266,267,268,269,270,271,272,273,274,275,276,277,278,279,280,281,282,283,284,285,286,287,288,289,290,291,292,293,294,295,296,297,298,299,300,301,302,303,304,305,306,307,308,309,310,311,312,313,314,315,316,317,318,319,320,321,322,323,324,325,326,327,328,329,330,331,332,333,334,335,336,337,338,339,340,341,342,343,344,345,346,347,348,349,350,351,352,353,354,355,356,357,358,359,360,361,362,363,364,365,366,367,368,369,370,371,372,373,374,375,376,377,378,379,380,381,382,383,384,385,386,387,388,389,390,391,392,393,394,395,396,397,398,399,400,401,402,403,404,405,406,407,408,409,410,411,412,413,414,415,416,417,418,419,420,421,422,423,424,425,426,427,428,429,430,431,432,433,434,435,436,437,438,439,440,441,442,443,444,445,446,447,448,449,450,451,452,453,454,455,456,457,458,459,460,461,462,463,464,465,466,467,468,469,470,471,472,473,474,475,476,477,478,479,480,481,482,483,484,485,486,487,488,489,490,491,492,493,494,495,496,497,498,499,500,501,502,503,504,505,506,507,508,509,510,511,512,513,514,515,516,517,518,519,520,521,522,523,524,525,526,527,528,529,530,531,532,533,534,535,536,537,538,539,540,541,542,543,544,545,546,547,548,549,550,551,552,553,554,555,556,557,558,559,560,561,562,563,564,565,566,567,568,569,570,571,572,573,574,575,576,577,578,579,580,581,582,583,584,585,586,587,588,589,590,591,592,593,594,595,596,597,598,599,600,601,602,603,604,605,606,607,608,609,610,611,612,613,614,615,616,617,618,619,620,621,622,623,624,625,626,627,628,629,630,631,632,633,634,635,636,637,638,639,640,641,642,643,644,645,646,647,648,649,650,651,652,653,654,655,656,657,658,659,660,661,662,663,664,665,666,667,668,669,670,671,672,673,674,675,676,677,678,679,680,681,682,683,684,685,686,687,688,689,690,691,692,693,694,695,696,697,698,699,700,701,702,703,704,705,706,707,708,709,710,711,712,713,714,715,716,717,718,719,720,721,722,723,724,725,726,727,728,729,730,731,732,733,734,735,736,737,738,739,740,741,742,743,744,745,746,747,748,749,750,751,752,753,754,755,756,757,758,759,760,761,762,763,764,765,766,767,768,769,770,771,772,773,774,775,776,777,778,779,780,781,782,783,784,785,786,787,788,789,790,791,792,793,794,795,796,797,798,799,800,801,802,803,804,805,806,807,808,809,810,811,812,813,814,815,816,817,818,819,820,821,822,823,824,825,826,827,828,829,830,831,832,833,834,835,836,837,838,839,840,841,842,843,844,845,846,847,848,849,850,851,852,853,854,855,856,857,858,859,860,861,862,863,864,865,866,867,868,869,870,871,872,873,874,875,876,877,878,879,880,881,882,883,884,885,886,887,888,889,890,891,892,893,894,895,896,897,898,899,900,901,902,903,904,905,906,907,908,909,910,911,912,913,914,915,916,917,918,919,920,921,922,923,924,925,926,927,928,929,930,931,932,933,934,935,936,937,938,939,940,941,942,943,944,945,946,947,948,949,950,951,952,953,954,955,956,957,958,959,960,961,962,963,964,965,966,967,968,969,970,971,972,973,974,975,976,977,978,979,980,981,982,983,984,985,986,987,988,989,990,991,992,993,994,995,996,997,998,999],\"y\":{\"__ndarray__\":\"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\",\"dtype\":\"float64\",\"shape\":[1000]}},\"selected\":{\"id\":\"78757eaf-7c14-40b1-a2d0-cf672575d4af\",\"type\":\"Selection\"},\"selection_policy\":{\"id\":\"b10e25c3-443d-44cc-86de-9f897063fd58\",\"type\":\"UnionRenderers\"}},\"id\":\"1e9fca5e-9da7-4d47-870c-5d64dcbcce38\",\"type\":\"ColumnDataSource\"},{\"attributes\":{\"line_color\":\"orange\",\"line_width\":3,\"x\":{\"field\":\"x\"},\"y\":{\"field\":\"y\"}},\"id\":\"91f5fb9f-2820-4717-b39b-53fdd6003a78\",\"type\":\"Line\"},{\"attributes\":{\"line_alpha\":0.1,\"line_color\":\"#1f77b4\",\"line_width\":3,\"x\":{\"field\":\"x\"},\"y\":{\"field\":\"y\"}},\"id\":\"4d04cb20-cd68-45fa-be9d-fe5df1981b3a\",\"type\":\"Line\"},{\"attributes\":{\"data_source\":{\"id\":\"d27a079f-04ca-45d0-8413-5dc67a4d4346\",\"type\":\"ColumnDataSource\"},\"glyph\":{\"id\":\"91f5fb9f-2820-4717-b39b-53fdd6003a78\",\"type\":\"Line\"},\"hover_glyph\":null,\"muted_glyph\":null,\"nonselection_glyph\":{\"id\":\"4d04cb20-cd68-45fa-be9d-fe5df1981b3a\",\"type\":\"Line\"},\"selection_glyph\":null,\"view\":{\"id\":\"59c2094c-f0bb-478c-9e1e-67632431df4d\",\"type\":\"CDSView\"}},\"id\":\"dc272bd3-3b44-4f22-b6a3-b7998e181646\",\"type\":\"GlyphRenderer\"},{\"attributes\":{\"source\":{\"id\":\"d27a079f-04ca-45d0-8413-5dc67a4d4346\",\"type\":\"ColumnDataSource\"}},\"id\":\"59c2094c-f0bb-478c-9e1e-67632431df4d\",\"type\":\"CDSView\"},{\"attributes\":{},\"id\":\"f4f62ee7-965b-4419-859a-1a39acf9b703\",\"type\":\"UnionRenderers\"},{\"attributes\":{\"children\":[{\"id\":\"96af2ef9-c90d-4210-8064-3b0f8c7bb2c4\",\"subtype\":\"Figure\",\"type\":\"Plot\"},{\"id\":\"d318c9c6-7235-412a-bf6f-6419ced4c38b\",\"subtype\":\"Figure\",\"type\":\"Plot\"}]},\"id\":\"b641c4c5-1823-45ca-83bb-74631cbab249\",\"type\":\"Row\"},{\"attributes\":{\"label\":{\"value\":\"B1\"},\"renderers\":[{\"id\":\"dc272bd3-3b44-4f22-b6a3-b7998e181646\",\"type\":\"GlyphRenderer\"}]},\"id\":\"ba0170dd-d9f3-473c-a862-469d5b071dfe\",\"type\":\"LegendItem\"},{\"attributes\":{},\"id\":\"234e4334-9dc5-42ec-bd48-6f53b4e04e38\",\"type\":\"Selection\"},{\"attributes\":{\"line_color\":\"pink\",\"line_width\":3,\"x\":{\"field\":\"x\"},\"y\":{\"field\":\"y\"}},\"id\":\"b568c592-f052-4f1b-8dc0-9be4de469884\",\"type\":\"Line\"},{\"attributes\":{\"line_alpha\":0.1,\"line_color\":\"#1f77b4\",\"line_width\":3,\"x\":{\"field\":\"x\"},\"y\":{\"field\":\"y\"}},\"id\":\"8f5cba5c-50ff-4ad3-9234-c4473f5dcc37\",\"type\":\"Line\"},{\"attributes\":{\"data_source\":{\"id\":\"1e9fca5e-9da7-4d47-870c-5d64dcbcce38\",\"type\":\"ColumnDataSource\"},\"glyph\":{\"id\":\"b568c592-f052-4f1b-8dc0-9be4de469884\",\"type\":\"Line\"},\"hover_glyph\":null,\"muted_glyph\":null,\"nonselection_glyph\":{\"id\":\"8f5cba5c-50ff-4ad3-9234-c4473f5dcc37\",\"type\":\"Line\"},\"selection_glyph\":null,\"view\":{\"id\":\"591d3019-9f24-4368-b49e-3ebaff1c57f8\",\"type\":\"CDSView\"}},\"id\":\"4106e84e-7263-4e83-92ab-67792bff2859\",\"type\":\"GlyphRenderer\"},{\"attributes\":{\"source\":{\"id\":\"1e9fca5e-9da7-4d47-870c-5d64dcbcce38\",\"type\":\"ColumnDataSource\"}},\"id\":\"591d3019-9f24-4368-b49e-3ebaff1c57f8\",\"type\":\"CDSView\"},{\"attributes\":{},\"id\":\"7faa0b91-51cd-4c33-a33a-e04fa7480599\",\"type\":\"UnionRenderers\"},{\"attributes\":{\"label\":{\"value\":\"B2\"},\"renderers\":[{\"id\":\"4106e84e-7263-4e83-92ab-67792bff2859\",\"type\":\"GlyphRenderer\"}]},\"id\":\"b357b628-2dab-4d89-8ba6-1510a635f115\",\"type\":\"LegendItem\"},{\"attributes\":{\"plot\":null,\"text\":\"\"},\"id\":\"e9e4d258-528f-4192-b394-9b44fd6e44d8\",\"type\":\"Title\"},{\"attributes\":{\"plot\":{\"id\":\"96af2ef9-c90d-4210-8064-3b0f8c7bb2c4\",\"subtype\":\"Figure\",\"type\":\"Plot\"},\"ticker\":{\"id\":\"5576b3f4-7a38-44b3-b035-94b37571659f\",\"type\":\"BasicTicker\"}},\"id\":\"824b5ce0-5ff7-4985-aee4-67f6373edff9\",\"type\":\"Grid\"},{\"attributes\":{},\"id\":\"7066a2da-a0bf-4fdf-8e8a-d1e5892dd3d7\",\"type\":\"BasicTickFormatter\"},{\"attributes\":{},\"id\":\"7cb216d8-54c8-47cc-84cf-d55abfb1a1f2\",\"type\":\"BasicTickFormatter\"},{\"attributes\":{\"axis_label\":\"Iterations\",\"formatter\":{\"id\":\"7066a2da-a0bf-4fdf-8e8a-d1e5892dd3d7\",\"type\":\"BasicTickFormatter\"},\"plot\":{\"id\":\"96af2ef9-c90d-4210-8064-3b0f8c7bb2c4\",\"subtype\":\"Figure\",\"type\":\"Plot\"},\"ticker\":{\"id\":\"5576b3f4-7a38-44b3-b035-94b37571659f\",\"type\":\"BasicTicker\"}},\"id\":\"9a1f1e12-ea78-4413-b54b-e7617d0522d5\",\"type\":\"LinearAxis\"},{\"attributes\":{},\"id\":\"600d640a-dadf-4dde-8731-c367dd193125\",\"type\":\"UnionRenderers\"},{\"attributes\":{},\"id\":\"3f6d774d-f432-483c-b8f0-88e4c3f56a77\",\"type\":\"Selection\"},{\"attributes\":{},\"id\":\"78757eaf-7c14-40b1-a2d0-cf672575d4af\",\"type\":\"Selection\"},{\"attributes\":{},\"id\":\"b10e25c3-443d-44cc-86de-9f897063fd58\",\"type\":\"UnionRenderers\"},{\"attributes\":{\"line_alpha\":0.1,\"line_color\":\"#1f77b4\",\"line_width\":3,\"x\":{\"field\":\"x\"},\"y\":{\"field\":\"y\"}},\"id\":\"4c306d3e-2844-4d0f-80ff-ef6ec9023a19\",\"type\":\"Line\"},{\"attributes\":{\"below\":[{\"id\":\"9a1f1e12-ea78-4413-b54b-e7617d0522d5\",\"type\":\"LinearAxis\"}],\"left\":[{\"id\":\"540aa04d-0ace-4bc7-9b06-6e051ec55067\",\"type\":\"LinearAxis\"}],\"plot_height\":400,\"plot_width\":400,\"renderers\":[{\"id\":\"9a1f1e12-ea78-4413-b54b-e7617d0522d5\",\"type\":\"LinearAxis\"},{\"id\":\"824b5ce0-5ff7-4985-aee4-67f6373edff9\",\"type\":\"Grid\"},{\"id\":\"540aa04d-0ace-4bc7-9b06-6e051ec55067\",\"type\":\"LinearAxis\"},{\"id\":\"3e700d18-2bac-4047-90c4-22ed271a10c8\",\"type\":\"Grid\"},{\"id\":\"7cf3bf7f-957a-45ef-b8df-f4068ca47a0a\",\"type\":\"BoxAnnotation\"},{\"id\":\"2c05da3e-6e8f-4efb-a3ab-e3d424fef3b4\",\"type\":\"GlyphRenderer\"}],\"title\":{\"id\":\"e9e4d258-528f-4192-b394-9b44fd6e44d8\",\"type\":\"Title\"},\"toolbar\":{\"id\":\"c535e3d2-4d6c-4d6b-a801-55e7390c12c3\",\"type\":\"Toolbar\"},\"x_range\":{\"id\":\"4a92169d-c06b-42b2-9a21-ea67b59abe02\",\"type\":\"DataRange1d\"},\"x_scale\":{\"id\":\"c8ad93d3-bdd6-46c7-9f17-a1eebf20f120\",\"type\":\"LinearScale\"},\"y_range\":{\"id\":\"3c9b8fbc-2cc0-43a5-92a5-ce21f5ce568f\",\"type\":\"DataRange1d\"},\"y_scale\":{\"id\":\"3fa50560-a8b3-481e-b777-05fee54454aa\",\"type\":\"LinearScale\"}},\"id\":\"96af2ef9-c90d-4210-8064-3b0f8c7bb2c4\",\"subtype\":\"Figure\",\"type\":\"Plot\"},{\"attributes\":{\"callback\":null,\"data\":{\"x\":[0,1,2,3,4,5,6,7,8,9,10,11,12,13,14,15,16,17,18,19,20,21,22,23,24,25,26,27,28,29,30,31,32,33,34,35,36,37,38,39,40,41,42,43,44,45,46,47,48,49,50,51,52,53,54,55,56,57,58,59,60,61,62,63,64,65,66,67,68,69,70,71,72,73,74,75,76,77,78,79,80,81,82,83,84,85,86,87,88,89,90,91,92,93,94,95,96,97,98,99,100,101,102,103,104,105,106,107,108,109,110,111,112,113,114,115,116,117,118,119,120,121,122,123,124,125,126,127,128,129,130,131,132,133,134,135,136,137,138,139,140,141,142,143,144,145,146,147,148,149,150,151,152,153,154,155,156,157,158,159,160,161,162,163,164,165,166,167,168,169,170,171,172,173,174,175,176,177,178,179,180,181,182,183,184,185,186,187,188,189,190,191,192,193,194,195,196,197,198,199,200,201,202,203,204,205,206,207,208,209,210,211,212,213,214,215,216,217,218,219,220,221,222,223,224,225,226,227,228,229,230,231,232,233,234,235,236,237,238,239,240,241,242,243,244,245,246,247,248,249,250,251,252,253,254,255,256,257,258,259,260,261,262,263,264,265,266,267,268,269,270,271,272,273,274,275,276,277,278,279,280,281,282,283,284,285,286,287,288,289,290,291,292,293,294,295,296,297,298,299,300,301,302,303,304,305,306,307,308,309,310,311,312,313,314,315,316,317,318,319,320,321,322,323,324,325,326,327,328,329,330,331,332,333,334,335,336,337,338,339,340,341,342,343,344,345,346,347,348,349,350,351,352,353,354,355,356,357,358,359,360,361,362,363,364,365,366,367,368,369,370,371,372,373,374,375,376,377,378,379,380,381,382,383,384,385,386,387,388,389,390,391,392,393,394,395,396,397,398,399,400,401,402,403,404,405,406,407,408,409,410,411,412,413,414,415,416,417,418,419,420,421,422,423,424,425,426,427,428,429,430,431,432,433,434,435,436,437,438,439,440,441,442,443,444,445,446,447,448,449,450,451,452,453,454,455,456,457,458,459,460,461,462,463,464,465,466,467,468,469,470,471,472,473,474,475,476,477,478,479,480,481,482,483,484,485,486,487,488,489,490,491,492,493,494,495,496,497,498,499,500,501,502,503,504,505,506,507,508,509,510,511,512,513,514,515,516,517,518,519,520,521,522,523,524,525,526,527,528,529,530,531,532,533,534,535,536,537,538,539,540,541,542,543,544,545,546,547,548,549,550,551,552,553,554,555,556,557,558,559,560,561,562,563,564,565,566,567,568,569,570,571,572,573,574,575,576,577,578,579,580,581,582,583,584,585,586,587,588,589,590,591,592,593,594,595,596,597,598,599,600,601,602,603,604,605,606,607,608,609,610,611,612,613,614,615,616,617,618,619,620,621,622,623,624,625,626,627,628,629,630,631,632,633,634,635,636,637,638,639,640,641,642,643,644,645,646,647,648,649,650,651,652,653,654,655,656,657,658,659,660,661,662,663,664,665,666,667,668,669,670,671,672,673,674,675,676,677,678,679,680,681,682,683,684,685,686,687,688,689,690,691,692,693,694,695,696,697,698,699,700,701,702,703,704,705,706,707,708,709,710,711,712,713,714,715,716,717,718,719,720,721,722,723,724,725,726,727,728,729,730,731,732,733,734,735,736,737,738,739,740,741,742,743,744,745,746,747,748,749,750,751,752,753,754,755,756,757,758,759,760,761,762,763,764,765,766,767,768,769,770,771,772,773,774,775,776,777,778,779,780,781,782,783,784,785,786,787,788,789,790,791,792,793,794,795,796,797,798,799,800,801,802,803,804,805,806,807,808,809,810,811,812,813,814,815,816,817,818,819,820,821,822,823,824,825,826,827,828,829,830,831,832,833,834,835,836,837,838,839,840,841,842,843,844,845,846,847,848,849,850,851,852,853,854,855,856,857,858,859,860,861,862,863,864,865,866,867,868,869,870,871,872,873,874,875,876,877,878,879,880,881,882,883,884,885,886,887,888,889,890,891,892,893,894,895,896,897,898,899,900,901,902,903,904,905,906,907,908,909,910,911,912,913,914,915,916,917,918,919,920,921,922,923,924,925,926,927,928,929,930,931,932,933,934,935,936,937,938,939,940,941,942,943,944,945,946,947,948,949,950,951,952,953,954,955,956,957,958,959,960,961,962,963,964,965,966,967,968,969,970,971,972,973,974,975,976,977,978,979,980,981,982,983,984,985,986,987,988,989,990,991,992,993,994,995,996,997,998,999],\"y\":{\"__ndarray__\":\"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\",\"dtype\":\"float64\",\"shape\":[1000]}},\"selected\":{\"id\":\"fb0be64b-00da-484b-a899-94d2bc383855\",\"type\":\"Selection\"},\"selection_policy\":{\"id\":\"f4f62ee7-965b-4419-859a-1a39acf9b703\",\"type\":\"UnionRenderers\"}},\"id\":\"5420cb50-ae84-4047-bd76-8610779a206a\",\"type\":\"ColumnDataSource\"},{\"attributes\":{\"line_color\":\"red\",\"line_width\":3,\"x\":{\"field\":\"x\"},\"y\":{\"field\":\"y\"}},\"id\":\"b975afb5-e320-4273-a755-d401397d11d6\",\"type\":\"Line\"},{\"attributes\":{\"active_drag\":\"auto\",\"active_inspect\":\"auto\",\"active_multi\":null,\"active_scroll\":\"auto\",\"active_tap\":\"auto\",\"tools\":[{\"id\":\"320f3543-264d-4e06-a71c-fad3fe4c57a9\",\"type\":\"PanTool\"},{\"id\":\"30546c72-bc09-44e3-8ce3-6bcee4769800\",\"type\":\"WheelZoomTool\"},{\"id\":\"f83a6a1c-5afe-4622-ad26-15ef3b5f4cb2\",\"type\":\"BoxZoomTool\"},{\"id\":\"58cacd44-1c5e-4280-a781-bf689ef42403\",\"type\":\"SaveTool\"},{\"id\":\"1e44832a-cf11-4169-903f-e24ee80c9906\",\"type\":\"ResetTool\"},{\"id\":\"86c230d0-f5e3-4102-8792-6ba8739fbe86\",\"type\":\"HelpTool\"}]},\"id\":\"c535e3d2-4d6c-4d6b-a801-55e7390c12c3\",\"type\":\"Toolbar\"},{\"attributes\":{\"callback\":null},\"id\":\"4a92169d-c06b-42b2-9a21-ea67b59abe02\",\"type\":\"DataRange1d\"},{\"attributes\":{\"data_source\":{\"id\":\"5d8c5aea-6abe-4287-a31b-03e3440c6135\",\"type\":\"ColumnDataSource\"},\"glyph\":{\"id\":\"b047710e-d285-48c8-9cfc-d20450435b4d\",\"type\":\"Line\"},\"hover_glyph\":null,\"muted_glyph\":null,\"nonselection_glyph\":{\"id\":\"4c306d3e-2844-4d0f-80ff-ef6ec9023a19\",\"type\":\"Line\"},\"selection_glyph\":null,\"view\":{\"id\":\"51af7783-867a-42c5-a471-34f02af747f1\",\"type\":\"CDSView\"}},\"id\":\"2c05da3e-6e8f-4efb-a3ab-e3d424fef3b4\",\"type\":\"GlyphRenderer\"},{\"attributes\":{\"axis_label\":\"Cross-Entropy\",\"formatter\":{\"id\":\"7cb216d8-54c8-47cc-84cf-d55abfb1a1f2\",\"type\":\"BasicTickFormatter\"},\"plot\":{\"id\":\"96af2ef9-c90d-4210-8064-3b0f8c7bb2c4\",\"subtype\":\"Figure\",\"type\":\"Plot\"},\"ticker\":{\"id\":\"72c82bc8-135b-4e65-b363-3d68f25b69a4\",\"type\":\"BasicTicker\"}},\"id\":\"540aa04d-0ace-4bc7-9b06-6e051ec55067\",\"type\":\"LinearAxis\"},{\"attributes\":{\"callback\":null},\"id\":\"3c9b8fbc-2cc0-43a5-92a5-ce21f5ce568f\",\"type\":\"DataRange1d\"},{\"attributes\":{},\"id\":\"c8ad93d3-bdd6-46c7-9f17-a1eebf20f120\",\"type\":\"LinearScale\"},{\"attributes\":{\"source\":{\"id\":\"5d8c5aea-6abe-4287-a31b-03e3440c6135\",\"type\":\"ColumnDataSource\"}},\"id\":\"51af7783-867a-42c5-a471-34f02af747f1\",\"type\":\"CDSView\"},{\"attributes\":{\"active_drag\":\"auto\",\"active_inspect\":\"auto\",\"active_multi\":null,\"active_scroll\":\"auto\",\"active_tap\":\"auto\",\"tools\":[{\"id\":\"6e512a8d-cbda-4758-8d10-21a11c2c3050\",\"type\":\"PanTool\"},{\"id\":\"6f781650-af38-4749-a792-66ea066b9531\",\"type\":\"WheelZoomTool\"},{\"id\":\"4ef2f1f1-23f8-4c5f-bcc5-08aa5cbe4738\",\"type\":\"BoxZoomTool\"},{\"id\":\"a33c4c3f-95b1-4ef4-8826-039a035b5e6f\",\"type\":\"SaveTool\"},{\"id\":\"d67f49be-5f64-4f77-945f-f141006b3b3e\",\"type\":\"ResetTool\"},{\"id\":\"7288b256-f27d-4902-9ebf-9c379e6aa5dc\",\"type\":\"HelpTool\"}]},\"id\":\"b47b6293-659e-43e5-b361-6d3d7cc24b23\",\"type\":\"Toolbar\"},{\"attributes\":{},\"id\":\"320f3543-264d-4e06-a71c-fad3fe4c57a9\",\"type\":\"PanTool\"},{\"attributes\":{\"callback\":null,\"data\":{\"x\":[0,1,2,3,4,5,6,7,8,9,10,11,12,13,14,15,16,17,18,19,20,21,22,23,24,25,26,27,28,29,30,31,32,33,34,35,36,37,38,39,40,41,42,43,44,45,46,47,48,49,50,51,52,53,54,55,56,57,58,59,60,61,62,63,64,65,66,67,68,69,70,71,72,73,74,75,76,77,78,79,80,81,82,83,84,85,86,87,88,89,90,91,92,93,94,95,96,97,98,99,100,101,102,103,104,105,106,107,108,109,110,111,112,113,114,115,116,117,118,119,120,121,122,123,124,125,126,127,128,129,130,131,132,133,134,135,136,137,138,139,140,141,142,143,144,145,146,147,148,149,150,151,152,153,154,155,156,157,158,159,160,161,162,163,164,165,166,167,168,169,170,171,172,173,174,175,176,177,178,179,180,181,182,183,184,185,186,187,188,189,190,191,192,193,194,195,196,197,198,199,200,201,202,203,204,205,206,207,208,209,210,211,212,213,214,215,216,217,218,219,220,221,222,223,224,225,226,227,228,229,230,231,232,233,234,235,236,237,238,239,240,241,242,243,244,245,246,247,248,249,250,251,252,253,254,255,256,257,258,259,260,261,262,263,264,265,266,267,268,269,270,271,272,273,274,275,276,277,278,279,280,281,282,283,284,285,286,287,288,289,290,291,292,293,294,295,296,297,298,299,300,301,302,303,304,305,306,307,308,309,310,311,312,313,314,315,316,317,318,319,320,321,322,323,324,325,326,327,328,329,330,331,332,333,334,335,336,337,338,339,340,341,342,343,344,345,346,347,348,349,350,351,352,353,354,355,356,357,358,359,360,361,362,363,364,365,366,367,368,369,370,371,372,373,374,375,376,377,378,379,380,381,382,383,384,385,386,387,388,389,390,391,392,393,394,395,396,397,398,399,400,401,402,403,404,405,406,407,408,409,410,411,412,413,414,415,416,417,418,419,420,421,422,423,424,425,426,427,428,429,430,431,432,433,434,435,436,437,438,439,440,441,442,443,444,445,446,447,448,449,450,451,452,453,454,455,456,457,458,459,460,461,462,463,464,465,466,467,468,469,470,471,472,473,474,475,476,477,478,479,480,481,482,483,484,485,486,487,488,489,490,491,492,493,494,495,496,497,498,499,500,501,502,503,504,505,506,507,508,509,510,511,512,513,514,515,516,517,518,519,520,521,522,523,524,525,526,527,528,529,530,531,532,533,534,535,536,537,538,539,540,541,542,543,544,545,546,547,548,549,550,551,552,553,554,555,556,557,558,559,560,561,562,563,564,565,566,567,568,569,570,571,572,573,574,575,576,577,578,579,580,581,582,583,584,585,586,587,588,589,590,591,592,593,594,595,596,597,598,599,600,601,602,603,604,605,606,607,608,609,610,611,612,613,614,615,616,617,618,619,620,621,622,623,624,625,626,627,628,629,630,631,632,633,634,635,636,637,638,639,640,641,642,643,644,645,646,647,648,649,650,651,652,653,654,655,656,657,658,659,660,661,662,663,664,665,666,667,668,669,670,671,672,673,674,675,676,677,678,679,680,681,682,683,684,685,686,687,688,689,690,691,692,693,694,695,696,697,698,699,700,701,702,703,704,705,706,707,708,709,710,711,712,713,714,715,716,717,718,719,720,721,722,723,724,725,726,727,728,729,730,731,732,733,734,735,736,737,738,739,740,741,742,743,744,745,746,747,748,749,750,751,752,753,754,755,756,757,758,759,760,761,762,763,764,765,766,767,768,769,770,771,772,773,774,775,776,777,778,779,780,781,782,783,784,785,786,787,788,789,790,791,792,793,794,795,796,797,798,799,800,801,802,803,804,805,806,807,808,809,810,811,812,813,814,815,816,817,818,819,820,821,822,823,824,825,826,827,828,829,830,831,832,833,834,835,836,837,838,839,840,841,842,843,844,845,846,847,848,849,850,851,852,853,854,855,856,857,858,859,860,861,862,863,864,865,866,867,868,869,870,871,872,873,874,875,876,877,878,879,880,881,882,883,884,885,886,887,888,889,890,891,892,893,894,895,896,897,898,899,900,901,902,903,904,905,906,907,908,909,910,911,912,913,914,915,916,917,918,919,920,921,922,923,924,925,926,927,928,929,930,931,932,933,934,935,936,937,938,939,940,941,942,943,944,945,946,947,948,949,950,951,952,953,954,955,956,957,958,959,960,961,962,963,964,965,966,967,968,969,970,971,972,973,974,975,976,977,978,979,980,981,982,983,984,985,986,987,988,989,990,991,992,993,994,995,996,997,998,999],\"y\":{\"__ndarray__\":\"PzicxK0p5D/QgS652E7hP+PS70SG+d4/mlR1a1+K3D/6fh9MRNPaP2OruUwZj9k/8tCztHWW2D+FfPVWy9HXP6owGdRVMtc/9Dl8FGqu1j96rwatdD/WP+IxXC/W4NU/iTb9gzaP1T8jvYbMGkjVP8j00uuhCdU/QqeOT1jS1D/3xx8sGqHUP5JW3fT+dNQ/BVVr40pN1D/q0tSQZCnUP2dHSFnNCNQ/crCdsxvr0z8Cxpns9s/TP84hguMTt9M/4QSWgzKg0z9XdRbKG4vTP92mNzagd9M/mbPNiZZl0z/OqSzI2lTTP2NIb2VNRdM/RdvAm9I20z8edMPeUSnTP2FNAWe1HNM/NAu20OkQ0z+6y0PK3QXTP9vXb8+B+9I/gtcb78fx0j8jlaaZo+jSP1xPe3YJ4NI/C5qeP+/X0j8vqkCiS9DSPwcDiiMWydI/vIn7CEfC0j8k/NdD17vSP7stJF/AtdI/nXHeb/yv0j/aGh0HhqrSP1K50CVYpdI/GTHxMW6g0j8IfOXsw5vSP1AW/WpVl9I/xBzYCx+T0j/XKqBzHY/SP1dC+IRNi9I/spaNW6yH0j+wGzZHN4TSP7dGjMfrgNI/7575h8d90j9ZlyNcyHrSPzzErzzsd9I/1NxVRDF10j9fJzetlXLSP6jyc84XcNI/tKD4GbZt0j9jinwab2vSP2WtrXFBadI/TamE1itn0j8vE70TLWXSP1OWbgZEY9I/lL3DnG9h0j8dlsvUrl/SP1WqY7sAXtI/oRY4a2Rc0j8NtdcL2VrSP8OR2tBdWdI/+wkZ+fFX0j+mHvLNlFbSP06qn6JFVdI/i0qX0wNU0j/U6fbFzlLSPzfx++alUdI/20CEq4hQ0j/0IpiPdk/SP1h//BVvTtI/B6jMx3FN0j9yIxs0fkzSP6LqmO+TS9I/B5pClLJK0j+QIRPB2UnSPwGJuxkJSdI/DGdfRkBI0j/mslXzfkfSP2Cd7dDERtI/Hyc3kxFG0j+bL8/xZEXSP0G8rqe+RNI/Fj/9ch5E0j+hpeUUhEPSP4gAblHvQtI/O5RR719C0j+jKt231UHSP859zXZQQdI/6Zcv+s9A0j+hB0MSVEDSPxjKXZHcP9I/ms3RS2k/0j9m89MX+j7SPyl3ZM2OPtI/oaY4Ric+0j/50qVdwz3SP1NpjfBiPdI/sx9K3QU90j+IJZ4DrDzSP/1HokRVPNI/W/u1ggE80j+uO3ChsDvSP5Y3kYViO9I/nrr0FBc70j+sSYU2zjrSP4rpL9KHOtI/1IPY0EM60j9/4k4cAjrSP7I4RJ/COdI/KjFBRYU50j/Tepz6STnSP2fMcawQOdI/VViZSNk40j8qq5+9ozjSP3LuvfpvONI/iorS7z040j+GIlqNDTjSPwzlaMTeN9I/Hi6khrE30j/bdDzGhTfSP+KB53VbN9I/S+raiDI30j9ny8byCjfSP6/E0KfkNtI/wSuPnL820j8neATGmzbSPwbkmhl5NtI/uz4gjVc20j/57sEWNzbSP6ciCa0XNtI/BSnXRvk10j+79mHb2zXSP8PPMGK/NdI/QRcZ06M10j/iQTsmiTXSP3/q/1NvNdI/QQYVVVY10j9KN2siPjXSP448M7UmNdI/Jn3bBhA10j8qrg0R+jTSP3yRrM3kNNI//czRNtA00j8T2MtGvDTSPzr/G/ioNNI/CH10RZY00j/hpbYphDTSPwYo8Z9yNNI/vFxeo2E00j9kq2IvUTTSPxL9ij9BNNI/yT+LzzE00j8i+TzbIjTSPyrnnV4UNNI/lq/OVQY00j+BmxG9+DPSP6pgyZDrM9I/Q/Z3zd4z0j+bdb1v0jPSP9MFV3TGM9I/ddId2Loz0j8bDAaYrzPSP4TyHbGkM9I/C+mMIJoz0j/hkpLjjzPSP8r4hfeFM9I/n7bUWXwz0j8WMQIIczPSP+XSpv9pM9I/KFFvPmEz0j8I9xvCWDPSP+r3f4hQM9I/08eAj0gz0j+DehXVQDPSPxIoRlc5M9I/fFcrFDIz0j9hbu0JKzPSP2gmxDYkM9I/QQf2mB0z0j/z5dcuFzPSP2lozPYQM9I/yo1D7woz0j/kOroWBTPSP/nKuWv/MtI/IqTX7Pky0j9P0LSY9DLSP6qY/W3vMtI//iVpa+oy0j9oI7mP5TLSP+pkudngMtI/vJA/SNwy0j8IzCra1zLSP3JqY47TMtI/MqDaY88y0j9LN4pZyzLSP9pGdG7HMtI/l+2iocMy0j8SDijyvzLSP7ANHV+8MtI/tJWi57gy0j9/VuCKtTLSPyTNBEiyMtI/agpFHq8y0j84fNwMrDLSP824DBOpMtI/r0sdMKYy0j8WhFtjozLSP55FGqygMtI/EdqxCZ4y0j/SxH97mzLSP/uX5gCZMtI/sspNmZYy0j/7kCFElDLSPze10gCSMtI/FnLWzo8y0j+mTqatjTLSPzb7v5yLMtI/Ny+lm4ky0j/aiNuphzLSP9hs7MaFMtI/KOhk8oMy0j8vktUrgjLSPyxw0nKAMtI/Wdnyxn4y0j9BXNEnfTLSP5ekC5V7MtI/VWJCDnoy0j9HMRmTeDLSP6OBNiN3MtI/WYFDvnUy0j/eBexjdDLSPy133hNzMtI/CLvLzXEy0j8DIWeRcDLSP0tPZl5vMtI/DDCBNG4y0j8s33ETbTLSPxuZ9PprMtI/kKnH6moy0j+FW6viaTLSPw7pYeJoMtI/JGyv6Wcy0j/Kz1n4ZjLSP6TBKA5mMtI/+6PlKmUy0j9PgFtOZDLSP1/6VnhjMtI/YUOmqGIy0j+rDRnfYTLSPzCBgBthMtI/xC+vXWAy0j/nCXmlXzLSP1JUs/JeMtI/KZ00RV4y0j9BstScXTLSPwqXbPlcMtI/LnvWWlwy0j93se3AWzLSP9KmjitbMtI/tdmWmloy0j/D0eQNWjLSP88XWIVZMtI/6S3RAFky0j/LhzGAWDLSP4ODWwNYMtI/b2Iyilcy0j8hQpoUVzLSP9EVeKJWMtI/2Z+xM1Yy0j9day3IVTLSP2PG0l9VMtI/w7uJ+lQy0j9cDTuYVDLSP8wu0DhUMtI/4z8z3FMy0j91B0+CUzLSP0vuDitTMtI/X/pe1lIy0j/cySuEUjLSP9qOYjRSMtI/rQrx5lEy0j+dicWbUTLSP9TezlJRMtI/H2D8C1Ey0j9n4j3HUDLSPzm1g4RQMtI/mJ++Q1Ay0j9Y3N8EUDLSP3gW2cdPMtI/5WWcjE8y0j8TTBxTTzLSPwSxSxtPMtI/HeAd5U4y0j8nhYawTjLSP2WpeX1OMtI/5LDrS04y0j++V9EbTjLSP1evH+1NMtI/CBzMv00y0j9fUsyTTTLSP/RUFmlNMtI/EHKgP00y0j9CQWEXTTLSP1GhT/BMMtI/J7Ziykwy0j+W5pGlTDLSP4na1IFMMtI/+XgjX0wy0j8C5nU9TDLSPzeBxBxMMtI/vOMH/Usy0j+b3jjeSzLSPxx5UMBLMtI/Su9Ho0sy0j//rxiHSzLSP7dbvGtLMtI/O8MsUUsy0j+o5WM3SzLSP43vWx5LMtI/YzkPBksy0j8pRnjuSjLSP2XCkddKMtI/pYJWwUoy0j9MgsGrSjLSP7zizZZKMtI/8Ol2gkoy0j9lAbhuSjLSP0u1jFtKMtI/G7PwSEoy0j8Jyd82SjLSP8LkVSVKMtI/hBJPFEoy0j96fMcDSjLSP1dpu/NJMtI/Gjwn5Eky0j+5cgfVSTLSP6WlWMZJMtI/zoYXuEky0j8X4UCqSTLSP0iX0ZxJMtI/xKPGj0ky0j+SFx2DSTLSP5oZ0nZJMtI/YObiakky0j8Ez0xfSTLSP8w4DVRJMtI/ipwhSUky0j8ghoc+STLSP6STPDRJMtI/UHU+Kkky0j9z7IogSTLSP17LHxdJMtI/vPT6DUky0j/jWhoFSTLSP7v/e/xIMtI/AvQd9Egy0j8iV/7rSDLSP1JWG+RIMtI/mSxz3Egy0j9MIgTVSDLSP5mMzM1IMtI/Cc3Kxkgy0j9uUf2/SDLSP0aTYrlIMtI/kRf5skgy0j9Kbr+sSDLSPzcytKZIMtI/rQjWoEgy0j/4oCObSDLSP2a0m5VIMtI/lgU9kEgy0j/IYAaLSDLSP+ma9oVIMtI/y5EMgUgy0j+jK0d8SDLSPxxXpXdIMtI/igomc0gy0j8+RMhuSDLSP/EJi2pIMtI/v2htZkgy0j/jdG5iSDLSP2VJjV5IMtI/DgjJWkgy0j8R2SBXSDLSPwXrk1NIMtI/h3IhUEgy0j9BqshMSDLSP4PSiElIMtI/LjFhRkgy0j/DEVFDSDLSP+TEV0BIMtI/T6B0PUgy0j+2/qY6SDLSP9M/7jdIMtI/scdJNUgy0j8+/7gySDLSP5dTOzBIMtI/PDbQLUgy0j/WHHcrSDLSPwyBLylIMtI/hOD4Jkgy0j+NvNIkSDLSP0mavCJIMtI/ZQK2IEgy0j/4gL4eSDLSP6Cl1RxIMtI/HgP7Gkgy0j93Ly4ZSDLSP7jDbhdIMtI/9Vu8FUgy0j8/lxYUSDLSP1YXfRJIMtI/y4DvEEgy0j/qem0PSDLSP2Ov9g1IMtI/rcqKDEgy0j+GeykLSDLSPwNz0glIMtI/m2SFCEgy0j/8BUIHSDLSP/YOCAZIMtI/aTnXBEgy0j9jQa8DSDLSP87kjwJIMtI/j+N4AUgy0j9t/2kASDLSP+/7Yv9HMtI/WJ5j/kcy0j/OrWv9RzLSP+nyevxHMtI//zeR+0cy0j/uSK76RzLSPxLz0flHMtI/SAX8+Ecy0j/jTyz4RzLSP4mkYvdHMtI/P9ae9kcy0j9UueD1RzLSP2cjKPVHMtI/S+t09Ecy0j8c6cbzRzLSP/v1HfNHMtI/R+x58kcy0j9tp9rxRzLSP9YDQPFHMtI/J9+p8Ecy0j/OFxjwRzLSP12Niu9HMtI/PCAB70cy0j/TsXvuRzLSP1Qk+u1HMtI/7Vp87Ucy0j+QOQLtRzLSPxCli+xHMtI/5YIY7Ecy0j9uuajrRzLSP+IvPOtHMtI/5c3S6kcy0j8ZfGzqRzLSP5gjCepHMtI/U66o6Ucy0j/JBkvpRzLSPwsY8OhHMtI/482X6Ecy0j+7FELoRzLSP1PZ7udHMtI/Mwme50cy0j9Tkk/nRzLSP0NjA+dHMtI/+Wq55kcy0j8amXHmRzLSP3jdK+ZHMtI/rijo5Ucy0j+ca6blRzLSP6CXZuVHMtI/c54o5Ucy0j9tcuzkRzLSP/EFsuRHMtI/JUx55Ecy0j9dOELkRzLSP02+DORHMtI/HNLY40cy0j8oaKbjRzLSPzN1deNHMtI/Ye5F40cy0j8ryRfjRzLSPzX76uJHMtI/jnq/4kcy0j9+PZXiRzLSP6c6bOJHMtI/4WhE4kcy0j9Kvx3iRzLSP0g1+OFHMtI/jsLT4Ucy0j/0XrDhRzLSP5ACjuFHMtI/wqVs4Ucy0j8fQUzhRzLSP3LNLOFHMtI/tkMO4Ucy0j8hnfDgRzLSPx7T0+BHMtI/NN+34Ecy0j8xu5zgRzLSPyBhguBHMtI/Dcto4Ecy0j8780/gRzLSPzrUN+BHMtI/oGgg4Ecy0j83qwngRzLSP/GW899HMtI/5ibe30cy0j9LVsnfRzLSP4Ugtd9HMtI/DYGh30cy0j+Gc47fRzLSP7vze99HMtI/gv1p30cy0j/WjFjfRzLSP/OdR99HMtI/9Sw330cy0j85NiffRzLSP0m2F99HMtI/kakI30cy0j/NDPreRzLSP7vc695HMtI/Gxbe3kcy0j/9tdDeRzLSP1y5w95HMtI/RR233kcy0j8E36reRzLSP8n7nt5HMtI/+nCT3kcy0j/4O4jeRzLSP11afd5HMtI/pcly3kcy0j+Fh2jeRzLSP7KRXt5HMtI/3uVU3kcy0j8RgkveRzLSPwdkQt5HMtI/3Yk53kcy0j9s8TDeRzLSP/mYKN5HMtI/k34g3kcy0j96oBjeRzLSP9X8EN5HMtI/AZIJ3kcy0j9QXgLeRzLSP0pg+91HMtI/L5b03Ucy0j+S/u3dRzLSP/SX591HMtI/+WDh3Ucy0j8zWNvdRzLSP1l81d1HMtI/+cvP3Ucy0j8ARsrdRzLSPwbpxN1HMtI/+7O/3Ucy0j+fpbrdRzLSP+G8td1HMtI/sviw3Ucy0j/kV6zdRzLSP3nZp91HMtI/iHyj3Ucy0j8DQJ/dRzLSPwMjm91HMtI/kiSX3Ucy0j/aQ5PdRzLSP/R/j91HMtI/G9iL3Ucy0j9sS4jdRzLSPxfZhN1HMtI/ZYCB3Ucy0j+cQH7dRzLSP/4Ye91HMtI/yQh43Ucy0j9pD3XdRzLSPxosct1HMtI/VV5v3Ucy0j9mpWzdRzLSP6YAat1HMtI/om9n3Ucy0j+m8WTdRzLSPzeGYt1HMtI/0Sxg3Ucy0j/M5F3dRzLSP8utW91HMtI/QYdZ3Ucy0j+pcFfdRzLSP6xpVd1HMtI/sXFT3Ucy0j9liFHdRzLSP0atT91HMtI//99N3Ucy0j8XIEzdRzLSPzltSt1HMtI/8MZI3Ucy0j/5LEfdRzLSP9ueRd1HMtI/XBxE3Ucy0j8TpULdRzLSP6c4Qd1HMtI/2dY/3Ucy0j9Wfz7dRzLSP84xPd1HMtI/7O073Ucy0j92szrdRzLSPymCOd1HMtI/rlk43Ucy0j/KOTfdRzLSP1EiNt1HMtI/9xI13Ucy0j+BCzTdRzLSP7ALM91HMtI/RhMy3Ucy0j8SIjHdRzLSP+Y3MN1HMtI/glQv3Ucy0j++dy7dRzLSP2OhLd1HMtI/N9Es3Ucy0j8nByzdRzLSP+pCK91HMtI/ZYQq3Ucy0j93yyndRzLSP9YXKd1HMtI/bmko3Ucy0j8awCfdRzLSP6sbJ91HMtI/DXwm3Ucy0j8B4SXdRzLSP4hKJd1HMtI/Z7gk3Ucy0j+EKiTdRzLSP7WgI91HMtI/Axsj3Ucy0j8ZmSLdRzLSPwAbIt1HMtI/j6Ah3Ucy0j+mKSHdRzLSP0O2IN1HMtI/LkYg3Ucy0j9e2R/dRzLSP6tvH91HMtI/Egkf3Ucy0j98pR7dRzLSP8FEHt1HMtI/z+Yd3Ucy0j+qix3dRzLSPxkzHd1HMtI/KN0c3Ucy0j+uiRzdRzLSP6M4HN1HMtI/9ekb3Ucy0j+CnRvdRzLSP1ZTG91HMtI/UQsb3Ucy0j9jxRrdRzLSP4KBGt1HMtI/iz8a3Ucy0j+O/xndRzLSP1rBGd1HMtI/AYUZ3Ucy0j9mShndRzLSP4ERGd1HMtI/P9oY3Ucy0j+gpBjdRzLSP4ZwGN1HMtI/9j0Y3Ucy0j/dDBjdRzLSPy/dF91HMtI/4K4X3Ucy0j/wgRfdRzLSP0hWF91HMtI/6CsX3Ucy0j/FAhfdRzLSP9faFt1HMtI/F7QW3Ucy0j9ejhbdRzLSP9RpFt1HMtI/TUYW3Ucy0j/SIxbdRzLSP1wCFt1HMtI/5OEV3Ucy0j9MwhXdRzLSP6ejFd1HMtI/6oUV3Ucy0j8KaRXdRzLSP/ZMFd1HMtI/zDEV3Ucy0j9QFxXdRzLSP6b9FN1HMtI/s+QU3Ucy0j97zBTdRzLSP/m0FN1HMtI/NJ4U3Ucy0j8IiBTdRzLSP39yFN1HMtI/pF0U3Ucy0j9TSRTdRzLSP6s1FN1HMtI/hSIU3Ucy0j/zDxTdRzLSP/b9E91HMtI/duwT3Ucy0j942xPdRzLSP/XKE91HMtI/6roT3Ucy0j9gqxPdRzLSP0WcE91HMtI/nI0T3Ucy0j9ZfxPdRzLSP5FxE91HMtI/H2QT3Ucy0j8SVxPdRzLSP2hKE91HMtI/HT4T3Ucy0j87MhPdRzLSP54mE91HMtI/XBsT3Ucy0j90EBPdRzLSP9MFE91HMtI/ivsS3Ucy0j+K8RLdRzLSP9TnEt1HMtI/aN4S3Ucy0j871RLdRzLSP2PMEt1HMtI/wcMS3Ucy0j9euxLdRzLSPzyzEt1HMtI/XasS3Ucy0j+toxLdRzLSPzecEt1HMtI/BJUS3Ucy0j/1jRLdRzLSPy+HEt1HMtI/jYAS3Ucy0j8cehLdRzLSP9ZzEt1HMtI/020S3Ucy0j/0ZxLdRzLSPztiEt1HMtI/tFwS3Ucy0j9YVxLdRzLSPxNSEt1HMtI/+0wS3Ucy0j8cSBLdRzLSP1NDEt1HMtI/pz4S3Ucy0j8qOhLdRzLSP781Et1HMtI/fzES3Ucy0j9aLRLdRzLSP10pEt1HMtI/eCUS3Ucy0j+2IRLdRzLSPwceEt1HMtI/bBoS3Ucy0j8HFxLdRzLSP6UTEt1HMtI/YBAS3Ucy0j87DRLdRzLSPxwKEt1HMtI/IQcS3Ucy0j9EBBLdRzLSP3ABEt1HMtI/tP4R3Ucy0j8F/BHdRzLSP3T5Ed1HMtI/+/YR3Ucy0j+Q9BHdRzLSPzLyEd1HMtI/6e8R3Ucy0j+i7RHdRzLSP4PrEd1HMtI/bOkR3Ucy0j9l5xHdRzLSP2LlEd1HMtI/e+MR3Ucy0j+g4RHdRzLSP8vfEd1HMtI/CN4R3Ucy0j9d3BHdRzLSP7TaEd1HMtI/GtkR3Ucy0j+K1xHdRzLSPwHWEd1HMtI/jNQR3Ucy0j8Z0xHdRzLSP67REd1HMtI/WdAR3Ucy0j8MzxHdRzLSP7/NEd1HMtI/jcwR3Ucy0j9gyxHdRzLSPy/KEd1HMtI/D8kR3Ucy0j/6xxHdRzLSP+XGEd1HMtI/4cUR3Ucy0j/axBHdRzLSP+zDEd1HMtI/9cIR3Ucy0j/+wRHdRzLSPynBEd1HMtI/TsAR3Ucy0j9xvxHdRzLSP5y+Ed1HMtI/1r0R3Ucy0j8EvRHdRzLSP068Ed1HMtI/jbsR3Ucy0j/luhHdRzLSPzO6Ed1HMtI/h7kR3Ucy0j/kuBHdRzLSPz64Ed1HMtI/pLcR3Ucy0j8RtxHdRzLSP3u2Ed1HMtI/7LUR3Ucy0j9ftRHdRzLSP9u0Ed1HMtI/XLQR3Ucy0j/WsxHdRzLSP2SzEd1HMtI/6bIR3Ucy0j98shHdRzLSPwCyEd1HMtI/oLER3Ucy0j8usRHdRzLSP8SwEd1HMtI/ZrAR3Ucy0j8AsBHdRzLSP6mvEd1HMtI/Ra8R3Ucy0j/yrhHdRzLSP56uEd1HMtI/Qa4R3Ucy0j8CrhHdRzLSP6StEd1HMtI/Ya0R3Ucy0j8UrRHdRzLSP8ysEd1HMtI/gawR3Ucy0j9GrBHdRzLSP/SrEd1HMtI/uKsR3Ucy0j91qxHdRzLSPzirEd1HMtI/CKsR3Ucy0j/CqhHdRzLSP5GqEd1HMtI/X6oR3Ucy0j8lqhHdRzLSP/apEd1HMtI/wqkR3Ucy0j+aqRHdRzLSP2epEd1HMtI/OakR3Ucy0j8LqRHdRzLSP+KoEd1HMtI/sKgR3Ucy0j+RqBHdRzLSP2yoEd1HMtI/SagR3Ucy0j8mqBHdRzLSP/qnEd1HMtI/3acR3Ucy0j+1pxHdRzLSP5mnEd1HMtI/eKcR3Ucy0j9UpxHdRzLSPz2nEd1HMtI/GKcR3Ucy0j8GpxHdRzLSP+qmEd1HMtI/waYR3Ucy0j+xphHdRzLSP5ymEd1HMtI/h6YR3Ucy0j9ophHdRzLSP02mEd1HMtI/SaYR3Ucy0j8hphHdRzLSPw+mEd1HMtI//aUR3Ucy0j/tpRHdRzLSP9WlEd1HMtI/wqUR3Ucy0j+spRHdRzLSP6WlEd1HMtI/jaUR3Ucy0j96pRHdRzLSP26lEd1HMtI/XqUR3Ucy0j9FpRHdRzLSPz2lEd1HMtI/NaUR3Ucy0j8ipRHdRzLSPxmlEd1HMtI/C6UR3Ucy0j/7pBHdRzLSP/GkEd1HMtI/5qQR3Ucy0j/cpBHdRzLSP86kEd1HMtI/vqQR3Ucy0j/GpBHdRzLSP6ikEd1HMtI/oaQR3Ucy0j+SpBHdRzLSP5akEd1HMtI/haQR3Ucy0j9/pBHdRzLSP3ekEd1HMtI/cKQR3Ucy0j9mpBHdRzLSP12kEd1HMtI/VqQR3Ucy0j9HpBHdRzLSP0ykEd1HMtI/P6QR3Ucy0j8vpBHdRzLSPzSkEd1HMtI/L6QR3Ucy0j8mpBHdRzLSPyakEd1HMtI/E6QR3Ucy0j8ZpBHdRzLSPxKkEd1HMtI/CKQR3Ucy0j/+oxHdRzLSP/6jEd1HMtI/+6MR3Ucy0j//oxHdRzLSP+mjEd1HMtI/6KMR3Ucy0j/ooxHdRzLSP+OjEd1HMtI/3qMR3Ucy0j/boxHdRzLSP9qjEd1HMtI/06MR3Ucy0j/ToxHdRzLSP86jEd1HMtI/zKMR3Ucy0j/HoxHdRzLSP7+jEd1HMtI/waMR3Ucy0j+5oxHdRzLSP7CjEd1HMtI/t6MR3Ucy0j+uoxHdRzLSP6+jEd1HMtI/rKMR3Ucy0j+koxHdRzLSP56jEd1HMtI/qqMR3Ucy0j+qoxHdRzLSP56jEd1HMtI/oqMR3Ucy0j+ZoxHdRzLSP52jEd1HMtI/maMR3Ucy0j+eoxHdRzLSP5yjEd1HMtI/k6MR3Ucy0j+PoxHdRzLSP4mjEd1HMtI/hqMR3Ucy0j+NoxHdRzLSP5KjEd1HMtI/iKMR3Ucy0j+IoxHdRzLSP3yjEd1HMtI/e6MR3Ucy0j+CoxHdRzLSP4KjEd1HMtI/h6MR3Ucy0j90oxHdRzLSP3mjEd1HMtI/hKMR3Ucy0j8=\",\"dtype\":\"float64\",\"shape\":[1000]}},\"selected\":{\"id\":\"3f6d774d-f432-483c-b8f0-88e4c3f56a77\",\"type\":\"Selection\"},\"selection_policy\":{\"id\":\"600d640a-dadf-4dde-8731-c367dd193125\",\"type\":\"UnionRenderers\"}},\"id\":\"5d8c5aea-6abe-4287-a31b-03e3440c6135\",\"type\":\"ColumnDataSource\"},{\"attributes\":{\"callback\":null,\"data\":{\"x\":[0,1,2,3,4,5,6,7,8,9,10,11,12,13,14,15,16,17,18,19,20,21,22,23,24,25,26,27,28,29,30,31,32,33,34,35,36,37,38,39,40,41,42,43,44,45,46,47,48,49,50,51,52,53,54,55,56,57,58,59,60,61,62,63,64,65,66,67,68,69,70,71,72,73,74,75,76,77,78,79,80,81,82,83,84,85,86,87,88,89,90,91,92,93,94,95,96,97,98,99,100,101,102,103,104,105,106,107,108,109,110,111,112,113,114,115,116,117,118,119,120,121,122,123,124,125,126,127,128,129,130,131,132,133,134,135,136,137,138,139,140,141,142,143,144,145,146,147,148,149,150,151,152,153,154,155,156,157,158,159,160,161,162,163,164,165,166,167,168,169,170,171,172,173,174,175,176,177,178,179,180,181,182,183,184,185,186,187,188,189,190,191,192,193,194,195,196,197,198,199,200,201,202,203,204,205,206,207,208,209,210,211,212,213,214,215,216,217,218,219,220,221,222,223,224,225,226,227,228,229,230,231,232,233,234,235,236,237,238,239,240,241,242,243,244,245,246,247,248,249,250,251,252,253,254,255,256,257,258,259,260,261,262,263,264,265,266,267,268,269,270,271,272,273,274,275,276,277,278,279,280,281,282,283,284,285,286,287,288,289,290,291,292,293,294,295,296,297,298,299,300,301,302,303,304,305,306,307,308,309,310,311,312,313,314,315,316,317,318,319,320,321,322,323,324,325,326,327,328,329,330,331,332,333,334,335,336,337,338,339,340,341,342,343,344,345,346,347,348,349,350,351,352,353,354,355,356,357,358,359,360,361,362,363,364,365,366,367,368,369,370,371,372,373,374,375,376,377,378,379,380,381,382,383,384,385,386,387,388,389,390,391,392,393,394,395,396,397,398,399,400,401,402,403,404,405,406,407,408,409,410,411,412,413,414,415,416,417,418,419,420,421,422,423,424,425,426,427,428,429,430,431,432,433,434,435,436,437,438,439,440,441,442,443,444,445,446,447,448,449,450,451,452,453,454,455,456,457,458,459,460,461,462,463,464,465,466,467,468,469,470,471,472,473,474,475,476,477,478,479,480,481,482,483,484,485,486,487,488,489,490,491,492,493,494,495,496,497,498,499,500,501,502,503,504,505,506,507,508,509,510,511,512,513,514,515,516,517,518,519,520,521,522,523,524,525,526,527,528,529,530,531,532,533,534,535,536,537,538,539,540,541,542,543,544,545,546,547,548,549,550,551,552,553,554,555,556,557,558,559,560,561,562,563,564,565,566,567,568,569,570,571,572,573,574,575,576,577,578,579,580,581,582,583,584,585,586,587,588,589,590,591,592,593,594,595,596,597,598,599,600,601,602,603,604,605,606,607,608,609,610,611,612,613,614,615,616,617,618,619,620,621,622,623,624,625,626,627,628,629,630,631,632,633,634,635,636,637,638,639,640,641,642,643,644,645,646,647,648,649,650,651,652,653,654,655,656,657,658,659,660,661,662,663,664,665,666,667,668,669,670,671,672,673,674,675,676,677,678,679,680,681,682,683,684,685,686,687,688,689,690,691,692,693,694,695,696,697,698,699,700,701,702,703,704,705,706,707,708,709,710,711,712,713,714,715,716,717,718,719,720,721,722,723,724,725,726,727,728,729,730,731,732,733,734,735,736,737,738,739,740,741,742,743,744,745,746,747,748,749,750,751,752,753,754,755,756,757,758,759,760,761,762,763,764,765,766,767,768,769,770,771,772,773,774,775,776,777,778,779,780,781,782,783,784,785,786,787,788,789,790,791,792,793,794,795,796,797,798,799,800,801,802,803,804,805,806,807,808,809,810,811,812,813,814,815,816,817,818,819,820,821,822,823,824,825,826,827,828,829,830,831,832,833,834,835,836,837,838,839,840,841,842,843,844,845,846,847,848,849,850,851,852,853,854,855,856,857,858,859,860,861,862,863,864,865,866,867,868,869,870,871,872,873,874,875,876,877,878,879,880,881,882,883,884,885,886,887,888,889,890,891,892,893,894,895,896,897,898,899,900,901,902,903,904,905,906,907,908,909,910,911,912,913,914,915,916,917,918,919,920,921,922,923,924,925,926,927,928,929,930,931,932,933,934,935,936,937,938,939,940,941,942,943,944,945,946,947,948,949,950,951,952,953,954,955,956,957,958,959,960,961,962,963,964,965,966,967,968,969,970,971,972,973,974,975,976,977,978,979,980,981,982,983,984,985,986,987,988,989,990,991,992,993,994,995,996,997,998,999],\"y\":{\"__ndarray__\":\"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\",\"dtype\":\"float64\",\"shape\":[1000]}},\"selected\":{\"id\":\"234e4334-9dc5-42ec-bd48-6f53b4e04e38\",\"type\":\"Selection\"},\"selection_policy\":{\"id\":\"7faa0b91-51cd-4c33-a33a-e04fa7480599\",\"type\":\"UnionRenderers\"}},\"id\":\"d27a079f-04ca-45d0-8413-5dc67a4d4346\",\"type\":\"ColumnDataSource\"},{\"attributes\":{},\"id\":\"30546c72-bc09-44e3-8ce3-6bcee4769800\",\"type\":\"WheelZoomTool\"},{\"attributes\":{\"overlay\":{\"id\":\"7cf3bf7f-957a-45ef-b8df-f4068ca47a0a\",\"type\":\"BoxAnnotation\"}},\"id\":\"f83a6a1c-5afe-4622-ad26-15ef3b5f4cb2\",\"type\":\"BoxZoomTool\"},{\"attributes\":{\"below\":[{\"id\":\"5d5584d0-5829-458f-8054-c6baff4f1867\",\"type\":\"LinearAxis\"}],\"left\":[{\"id\":\"626ad817-4ad4-4f2e-ab83-f0cf36d4a3df\",\"type\":\"LinearAxis\"}],\"plot_height\":400,\"plot_width\":400,\"renderers\":[{\"id\":\"5d5584d0-5829-458f-8054-c6baff4f1867\",\"type\":\"LinearAxis\"},{\"id\":\"dfb44166-d9cc-45cb-ab7b-eeaac7d38049\",\"type\":\"Grid\"},{\"id\":\"626ad817-4ad4-4f2e-ab83-f0cf36d4a3df\",\"type\":\"LinearAxis\"},{\"id\":\"48950b28-6ff7-41e2-bef1-b2c09195a99b\",\"type\":\"Grid\"},{\"id\":\"5753268e-499d-4a77-bb0b-a05db67ff8d8\",\"type\":\"BoxAnnotation\"},{\"id\":\"17c0036b-71ce-4694-a52e-b2fdc91a7334\",\"type\":\"Legend\"},{\"id\":\"b20dc0c8-c40e-4ce9-baee-2ab0585d6a14\",\"type\":\"GlyphRenderer\"},{\"id\":\"dc272bd3-3b44-4f22-b6a3-b7998e181646\",\"type\":\"GlyphRenderer\"},{\"id\":\"4106e84e-7263-4e83-92ab-67792bff2859\",\"type\":\"GlyphRenderer\"}],\"title\":{\"id\":\"40fbf91c-16d1-4005-814a-d3388fb7dc79\",\"type\":\"Title\"},\"toolbar\":{\"id\":\"b47b6293-659e-43e5-b361-6d3d7cc24b23\",\"type\":\"Toolbar\"},\"x_range\":{\"id\":\"4f76c985-23d3-4a39-8ccb-6e5ebf289c77\",\"type\":\"DataRange1d\"},\"x_scale\":{\"id\":\"ae1122dc-7f70-475d-9555-633c75aa0fba\",\"type\":\"LinearScale\"},\"y_range\":{\"id\":\"ee922802-2f30-4e3f-87ca-f32eb9d97aaa\",\"type\":\"DataRange1d\"},\"y_scale\":{\"id\":\"c5e2bfce-b3ef-44a5-b861-086063f5ad27\",\"type\":\"LinearScale\"}},\"id\":\"d318c9c6-7235-412a-bf6f-6419ced4c38b\",\"subtype\":\"Figure\",\"type\":\"Plot\"},{\"attributes\":{},\"id\":\"58cacd44-1c5e-4280-a781-bf689ef42403\",\"type\":\"SaveTool\"},{\"attributes\":{},\"id\":\"1e44832a-cf11-4169-903f-e24ee80c9906\",\"type\":\"ResetTool\"},{\"attributes\":{},\"id\":\"86c230d0-f5e3-4102-8792-6ba8739fbe86\",\"type\":\"HelpTool\"},{\"attributes\":{\"bottom_units\":\"screen\",\"fill_alpha\":{\"value\":0.5},\"fill_color\":{\"value\":\"lightgrey\"},\"left_units\":\"screen\",\"level\":\"overlay\",\"line_alpha\":{\"value\":1.0},\"line_color\":{\"value\":\"black\"},\"line_dash\":[4,4],\"line_width\":{\"value\":2},\"plot\":null,\"render_mode\":\"css\",\"right_units\":\"screen\",\"top_units\":\"screen\"},\"id\":\"7cf3bf7f-957a-45ef-b8df-f4068ca47a0a\",\"type\":\"BoxAnnotation\"},{\"attributes\":{\"callback\":null},\"id\":\"4f76c985-23d3-4a39-8ccb-6e5ebf289c77\",\"type\":\"DataRange1d\"},{\"attributes\":{\"dimension\":1,\"plot\":{\"id\":\"d318c9c6-7235-412a-bf6f-6419ced4c38b\",\"subtype\":\"Figure\",\"type\":\"Plot\"},\"ticker\":{\"id\":\"dc0c0a3d-46d3-4222-ae91-ef9f8388b265\",\"type\":\"BasicTicker\"}},\"id\":\"48950b28-6ff7-41e2-bef1-b2c09195a99b\",\"type\":\"Grid\"},{\"attributes\":{},\"id\":\"72c82bc8-135b-4e65-b363-3d68f25b69a4\",\"type\":\"BasicTicker\"},{\"attributes\":{\"callback\":null},\"id\":\"ee922802-2f30-4e3f-87ca-f32eb9d97aaa\",\"type\":\"DataRange1d\"},{\"attributes\":{\"dimension\":1,\"plot\":{\"id\":\"96af2ef9-c90d-4210-8064-3b0f8c7bb2c4\",\"subtype\":\"Figure\",\"type\":\"Plot\"},\"ticker\":{\"id\":\"72c82bc8-135b-4e65-b363-3d68f25b69a4\",\"type\":\"BasicTicker\"}},\"id\":\"3e700d18-2bac-4047-90c4-22ed271a10c8\",\"type\":\"Grid\"},{\"attributes\":{},\"id\":\"ae1122dc-7f70-475d-9555-633c75aa0fba\",\"type\":\"LinearScale\"},{\"attributes\":{},\"id\":\"c5e2bfce-b3ef-44a5-b861-086063f5ad27\",\"type\":\"LinearScale\"},{\"attributes\":{\"plot\":{\"id\":\"d318c9c6-7235-412a-bf6f-6419ced4c38b\",\"subtype\":\"Figure\",\"type\":\"Plot\"},\"ticker\":{\"id\":\"5daaab41-cdca-4402-b144-66f414a23bfd\",\"type\":\"BasicTicker\"}},\"id\":\"dfb44166-d9cc-45cb-ab7b-eeaac7d38049\",\"type\":\"Grid\"},{\"attributes\":{\"axis_label\":\"Iterations\",\"formatter\":{\"id\":\"a0408427-c92b-4f91-aac4-f66d5b888c5e\",\"type\":\"BasicTickFormatter\"},\"plot\":{\"id\":\"d318c9c6-7235-412a-bf6f-6419ced4c38b\",\"subtype\":\"Figure\",\"type\":\"Plot\"},\"ticker\":{\"id\":\"5daaab41-cdca-4402-b144-66f414a23bfd\",\"type\":\"BasicTicker\"}},\"id\":\"5d5584d0-5829-458f-8054-c6baff4f1867\",\"type\":\"LinearAxis\"},{\"attributes\":{},\"id\":\"5daaab41-cdca-4402-b144-66f414a23bfd\",\"type\":\"BasicTicker\"},{\"attributes\":{\"axis_label\":\"Coeffients\",\"formatter\":{\"id\":\"f498ec1d-ec7c-414d-9a96-0bf51605de04\",\"type\":\"BasicTickFormatter\"},\"plot\":{\"id\":\"d318c9c6-7235-412a-bf6f-6419ced4c38b\",\"subtype\":\"Figure\",\"type\":\"Plot\"},\"ticker\":{\"id\":\"dc0c0a3d-46d3-4222-ae91-ef9f8388b265\",\"type\":\"BasicTicker\"}},\"id\":\"626ad817-4ad4-4f2e-ab83-f0cf36d4a3df\",\"type\":\"LinearAxis\"},{\"attributes\":{},\"id\":\"3fa50560-a8b3-481e-b777-05fee54454aa\",\"type\":\"LinearScale\"}],\"root_ids\":[\"b641c4c5-1823-45ca-83bb-74631cbab249\"]},\"title\":\"Bokeh Application\",\"version\":\"0.13.0\"}};\n",
       "  var render_items = [{\"docid\":\"eb997af4-8121-4bf8-b91e-d7319fe1d878\",\"roots\":{\"b641c4c5-1823-45ca-83bb-74631cbab249\":\"12362563-e3e7-4590-bf7b-b1b626cfe9f1\"}}];\n",
       "  root.Bokeh.embed.embed_items_notebook(docs_json, render_items);\n",
       "\n",
       "  }\n",
       "  if (root.Bokeh !== undefined) {\n",
       "    embed_document(root);\n",
       "  } else {\n",
       "    var attempts = 0;\n",
       "    var timer = setInterval(function(root) {\n",
       "      if (root.Bokeh !== undefined) {\n",
       "        embed_document(root);\n",
       "        clearInterval(timer);\n",
       "      }\n",
       "      attempts++;\n",
       "      if (attempts > 100) {\n",
       "        console.log(\"Bokeh: ERROR: Unable to run BokehJS code because BokehJS library is missing\")\n",
       "        clearInterval(timer);\n",
       "      }\n",
       "    }, 10, root)\n",
       "  }\n",
       "})(window);"
      ],
      "application/vnd.bokehjs_exec.v0+json": ""
     },
     "metadata": {
      "application/vnd.bokehjs_exec.v0+json": {
       "id": "b641c4c5-1823-45ca-83bb-74631cbab249"
      }
     },
     "output_type": "display_data"
    }
   ],
   "source": [
    "p = figure(height=400,width=400)\n",
    "p.xaxis.axis_label = \"Iterations\"\n",
    "p.yaxis.axis_label = \"Cross-Entropy\"\n",
    "p.line(np.arange(stats.shape[0]),stats[:,0],line_width=3)\n",
    "\n",
    "p2 = figure(height=400,width=400)\n",
    "p2.xaxis.axis_label = \"Iterations\"\n",
    "p2.yaxis.axis_label = \"Coeffients\"\n",
    "p2.line(np.arange(stats.shape[0]),stats[:,1],color=\"red\",line_width=3,legend=\"B0\")\n",
    "p2.line(np.arange(stats.shape[0]),stats[:,2],color=\"orange\",line_width=3,legend=\"B1\")\n",
    "p2.line(np.arange(stats.shape[0]),stats[:,3],color=\"pink\",line_width=3,legend=\"B2\")\n",
    "\n",
    "show(row(p,p2))"
   ]
  },
  {
   "cell_type": "markdown",
   "metadata": {},
   "source": [
    "### How well did we do?"
   ]
  },
  {
   "cell_type": "code",
   "execution_count": 16,
   "metadata": {},
   "outputs": [
    {
     "name": "stdout",
     "output_type": "stream",
     "text": [
      "Optimization terminated successfully.\n",
      "         Current function value: 0.284319\n",
      "         Iterations 8\n"
     ]
    },
    {
     "data": {
      "text/html": [
       "<table class=\"simpletable\">\n",
       "<caption>Logit Regression Results</caption>\n",
       "<tr>\n",
       "  <th>Dep. Variable:</th>         <td>y</td>        <th>  No. Observations:  </th>   <td>  1000</td>  \n",
       "</tr>\n",
       "<tr>\n",
       "  <th>Model:</th>               <td>Logit</td>      <th>  Df Residuals:      </th>   <td>   997</td>  \n",
       "</tr>\n",
       "<tr>\n",
       "  <th>Method:</th>               <td>MLE</td>       <th>  Df Model:          </th>   <td>     2</td>  \n",
       "</tr>\n",
       "<tr>\n",
       "  <th>Date:</th>          <td>Tue, 19 Nov 2019</td> <th>  Pseudo R-squ.:     </th>   <td>0.5689</td>  \n",
       "</tr>\n",
       "<tr>\n",
       "  <th>Time:</th>              <td>17:44:14</td>     <th>  Log-Likelihood:    </th>  <td> -284.32</td> \n",
       "</tr>\n",
       "<tr>\n",
       "  <th>converged:</th>           <td>True</td>       <th>  LL-Null:           </th>  <td> -659.49</td> \n",
       "</tr>\n",
       "<tr>\n",
       "  <th> </th>                      <td> </td>        <th>  LLR p-value:       </th> <td>1.167e-163</td>\n",
       "</tr>\n",
       "</table>\n",
       "<table class=\"simpletable\">\n",
       "<tr>\n",
       "    <td></td>       <th>coef</th>     <th>std err</th>      <th>z</th>      <th>P>|z|</th>  <th>[0.025</th>    <th>0.975]</th>  \n",
       "</tr>\n",
       "<tr>\n",
       "  <th>const</th> <td>    1.1521</td> <td>    0.121</td> <td>    9.541</td> <td> 0.000</td> <td>    0.915</td> <td>    1.389</td>\n",
       "</tr>\n",
       "<tr>\n",
       "  <th>x1</th>    <td>   -2.2042</td> <td>    0.169</td> <td>  -13.065</td> <td> 0.000</td> <td>   -2.535</td> <td>   -1.874</td>\n",
       "</tr>\n",
       "<tr>\n",
       "  <th>x2</th>    <td>    3.1595</td> <td>    0.218</td> <td>   14.463</td> <td> 0.000</td> <td>    2.731</td> <td>    3.588</td>\n",
       "</tr>\n",
       "</table>"
      ],
      "text/plain": [
       "<class 'statsmodels.iolib.summary.Summary'>\n",
       "\"\"\"\n",
       "                           Logit Regression Results                           \n",
       "==============================================================================\n",
       "Dep. Variable:                      y   No. Observations:                 1000\n",
       "Model:                          Logit   Df Residuals:                      997\n",
       "Method:                           MLE   Df Model:                            2\n",
       "Date:                Tue, 19 Nov 2019   Pseudo R-squ.:                  0.5689\n",
       "Time:                        17:44:14   Log-Likelihood:                -284.32\n",
       "converged:                       True   LL-Null:                       -659.49\n",
       "                                        LLR p-value:                1.167e-163\n",
       "==============================================================================\n",
       "                 coef    std err          z      P>|z|      [0.025      0.975]\n",
       "------------------------------------------------------------------------------\n",
       "const          1.1521      0.121      9.541      0.000       0.915       1.389\n",
       "x1            -2.2042      0.169    -13.065      0.000      -2.535      -1.874\n",
       "x2             3.1595      0.218     14.463      0.000       2.731       3.588\n",
       "==============================================================================\n",
       "\"\"\""
      ]
     },
     "execution_count": 16,
     "metadata": {},
     "output_type": "execute_result"
    }
   ],
   "source": [
    "import statsmodels.discrete.discrete_model as sm\n",
    "sm.Logit(y,X).fit().summary()"
   ]
  },
  {
   "cell_type": "markdown",
   "metadata": {},
   "source": [
    "### How well can we predict future values (i.e. new data that we didn't learn on)?"
   ]
  },
  {
   "cell_type": "code",
   "execution_count": 17,
   "metadata": {},
   "outputs": [
    {
     "data": {
      "text/plain": [
       "array([[ 1.        ,  0.43673466, -1.65848742],\n",
       "       [ 1.        ,  0.20579458, -2.07998446],\n",
       "       [ 1.        ,  0.11082226,  0.5694471 ],\n",
       "       [ 1.        , -0.68799224,  0.51801639],\n",
       "       [ 1.        , -1.49774878,  1.10036964]])"
      ]
     },
     "execution_count": 17,
     "metadata": {},
     "output_type": "execute_result"
    }
   ],
   "source": [
    "D_test = pd.read_csv(\"test_data.csv\")\n",
    "\n",
    "# Outcome\n",
    "y_test = D_test.y\n",
    "\n",
    "# Generate design matrix.\n",
    "X_test = np.column_stack([np.ones(D_test.shape[0]),D_test.x1,D_test.x2])\n",
    "X_test[:5,:]"
   ]
  },
  {
   "cell_type": "markdown",
   "metadata": {},
   "source": [
    "First, note that our coefficients weight our data in a way that minimizes the costs and maximizes the likelihood. We can used these weights to predict new data entries, which are contained in our test dataset. "
   ]
  },
  {
   "cell_type": "code",
   "execution_count": 18,
   "metadata": {},
   "outputs": [
    {
     "data": {
      "text/plain": [
       "array([0.01, 0.  , 0.94, 0.99, 1.  , 0.97, 0.9 , 0.  , 0.14, 0.88])"
      ]
     },
     "execution_count": 18,
     "metadata": {},
     "output_type": "execute_result"
    }
   ],
   "source": [
    "probs = s(X_test.dot(B))\n",
    "probs[:10].round(2)"
   ]
  },
  {
   "cell_type": "markdown",
   "metadata": {},
   "source": [
    "This will give us probabilities that we can then convert into real values by choosing an arbitrary threshold."
   ]
  },
  {
   "cell_type": "code",
   "execution_count": 19,
   "metadata": {},
   "outputs": [
    {
     "data": {
      "text/plain": [
       "array([0, 0, 1, 1, 1, 1, 1, 0, 0, 1])"
      ]
     },
     "execution_count": 19,
     "metadata": {},
     "output_type": "execute_result"
    }
   ],
   "source": [
    "prediction = probs >= .5\n",
    "prediction = prediction.astype(\"int\")\n",
    "prediction[:10]"
   ]
  },
  {
   "cell_type": "code",
   "execution_count": 21,
   "metadata": {},
   "outputs": [
    {
     "data": {
      "image/png": "[encoded data removed]",
      "text/latex": [
       "$$0.866$$"
      ],
      "text/plain": [
       "0.866"
      ]
     },
     "execution_count": 21,
     "metadata": {},
     "output_type": "execute_result"
    }
   ],
   "source": [
    "# Accuracy: How many ones did we predict that were actual ones?\n",
    "sum(prediction == y_test)/len(y_test)"
   ]
  }
 ],
 "metadata": {
  "kernelspec": {
   "display_name": "Python 3",
   "language": "python",
   "name": "python3"
  },
  "language_info": {
   "codemirror_mode": {
    "name": "ipython",
    "version": 3
   },
   "file_extension": ".py",
   "mimetype": "text/x-python",
   "name": "python",
   "nbconvert_exporter": "python",
   "pygments_lexer": "ipython3",
   "version": "3.7.0"
  },
  "toc": {
   "base_numbering": 1,
   "nav_menu": {},
   "number_sections": false,
   "sideBar": false,
   "skip_h1_title": false,
   "title_cell": "Table of Contents",
   "title_sidebar": "Contents",
   "toc_cell": false,
   "toc_position": {},
   "toc_section_display": true,
   "toc_window_display": false
  }
 },
 "nbformat": 4,
 "nbformat_minor": 2
}
