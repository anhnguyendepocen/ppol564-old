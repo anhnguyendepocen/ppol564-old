{
 "cells": [
  {
   "cell_type": "markdown",
   "metadata": {
    "slideshow": {
     "slide_type": "slide"
    }
   },
   "source": [
    "<h1><center> PPOL564 - Data Science I: Foundations </center><h1>\n",
    "<h3><center> Lecture 4 <br><br><font color='grey'>[Supplement] Strings and Dates</font></center></h3>"
   ]
  },
  {
   "cell_type": "markdown",
   "metadata": {},
   "source": [
    "# String Basics"
   ]
  },
  {
   "cell_type": "code",
   "execution_count": 1,
   "metadata": {},
   "outputs": [
    {
     "name": "stdout",
     "output_type": "stream",
     "text": [
      "this is a 'string'\n",
      "this is a \"string\"\n"
     ]
    }
   ],
   "source": [
    "# layer quotation (when need be)\n",
    "s = \"this is a 'string'\" # good\n",
    "print(s)\n",
    "\n",
    "s = 'this is a \"string\"' # good\n",
    "print(s)"
   ]
  },
  {
   "cell_type": "code",
   "execution_count": 2,
   "metadata": {},
   "outputs": [
    {
     "ename": "SyntaxError",
     "evalue": "invalid syntax (<ipython-input-2-5eaf67da1eeb>, line 1)",
     "output_type": "error",
     "traceback": [
      "\u001b[0;36m  File \u001b[0;32m\"<ipython-input-2-5eaf67da1eeb>\"\u001b[0;36m, line \u001b[0;32m1\u001b[0m\n\u001b[0;31m    s = \"this is a \"string\"\" # bad\u001b[0m\n\u001b[0m                         ^\u001b[0m\n\u001b[0;31mSyntaxError\u001b[0m\u001b[0;31m:\u001b[0m invalid syntax\n"
     ]
    }
   ],
   "source": [
    "s = \"this is a \"string\"\" # bad\n",
    "print(s)"
   ]
  },
  {
   "cell_type": "code",
   "execution_count": 3,
   "metadata": {},
   "outputs": [
    {
     "name": "stdout",
     "output_type": "stream",
     "text": [
      "this is a \"string\"\n"
     ]
    }
   ],
   "source": [
    "# Use escape features when this occurs\n",
    "s = \"this is a \\\"string\\\"\" # Good again\n",
    "print(s)"
   ]
  },
  {
   "cell_type": "code",
   "execution_count": 4,
   "metadata": {},
   "outputs": [
    {
     "name": "stdout",
     "output_type": "stream",
     "text": [
      "\n",
      "This is a long string!\n",
      "    \n",
      "    With many lines\n",
      "    \n",
      "    Many. Lines.\n",
      "\n"
     ]
    }
   ],
   "source": [
    "# Multiline Strings\n",
    "s2 = '''\n",
    "This is a long string!\n",
    "    \n",
    "    With many lines\n",
    "    \n",
    "    Many. Lines.\n",
    "'''\n",
    "print(s2)"
   ]
  },
  {
   "cell_type": "code",
   "execution_count": 5,
   "metadata": {},
   "outputs": [
    {
     "name": "stdout",
     "output_type": "stream",
     "text": [
      "This is a long string!\n",
      "Now I'm starting a new line.\n"
     ]
    }
   ],
   "source": [
    "# Or use \\n to generate a new line\n",
    "s3 = \"This is a long string!\\nNow I'm starting a new line.\"\n",
    "print(s3)"
   ]
  },
  {
   "cell_type": "markdown",
   "metadata": {},
   "source": [
    "# String methods\n",
    "\n",
    "`str` types are really useful because so many common regular expression (regex) methods are baked into the string object when created.\n",
    "\n",
    "Note that some methods, such as addition and multiplication, take on new functionality here. "
   ]
  },
  {
   "cell_type": "markdown",
   "metadata": {},
   "source": [
    "**<center>Methods in object type `str`</center>**\n",
    "\n",
    "| Method  | Description |\n",
    "|:---------:|:---------:|\n",
    "|**`.capitalize()`**| S.capitalize() -> str|\n",
    "|**`.casefold()`**| S.casefold() -> str|\n",
    "|**`.center()`**| S.center(width[, fillchar]) -> str|\n",
    "|**`.count()`**| S.count(sub[, start[, end]]) -> int|\n",
    "|**`.encode()`**| S.encode(encoding='utf-8', errors='strict') -> bytes|\n",
    "|**`.endswith()`**| S.endswith(suffix[, start[, end]]) -> bool|\n",
    "|**`.expandtabs()`**| S.expandtabs(tabsize=8) -> str|\n",
    "|**`.find()`**| S.find(sub[, start[, end]]) -> int|\n",
    "|**`.format()`**| S.format(*args, **kwargs) -> str|\n",
    "|**`.format_map()`**| S.format_map(mapping) -> str|\n",
    "|**`.index()`**| S.index(sub[, start[, end]]) -> int|\n",
    "|**`.isalnum()`**| S.isalnum() -> bool|\n",
    "|**`.isalpha()`**| S.isalpha() -> bool|\n",
    "|**`.isdecimal()`**| S.isdecimal() -> bool|\n",
    "|**`.isdigit()`**| S.isdigit() -> bool|\n",
    "|**`.isidentifier()`**| S.isidentifier() -> bool|\n",
    "|**`.islower()`**| S.islower() -> bool|\n",
    "|**`.isnumeric()`**| S.isnumeric() -> bool|\n",
    "|**`.isprintable()`**| S.isprintable() -> bool|\n",
    "|**`.isspace()`**| S.isspace() -> bool|\n",
    "|**`.istitle()`**| S.istitle() -> bool|\n",
    "|**`.isupper()`**| S.isupper() -> bool|\n",
    "|**`.join()`**| S.join(iterable) -> str|\n",
    "|**`.ljust()`**| S.ljust(width[, fillchar]) -> str|\n",
    "|**`.lower()`**| S.lower() -> str|\n",
    "|**`.lstrip()`**| S.lstrip([chars]) -> str|\n",
    "|**`.maketrans()`**| Return a translation table usable for str.translate().|\n",
    "|**`.partition()`**| S.partition(sep) -> (head, sep, tail)|\n",
    "|**`.replace()`**| S.replace(old, new[, count]) -> str|\n",
    "|**`.rfind()`**| S.rfind(sub[, start[, end]]) -> int|\n",
    "|**`.rindex()`**| S.rindex(sub[, start[, end]]) -> int|\n",
    "|**`.rjust()`**| S.rjust(width[, fillchar]) -> str|\n",
    "|**`.rpartition()`**| S.rpartition(sep) -> (head, sep, tail)|\n",
    "|**`.rsplit()`**| S.rsplit(sep=None, maxsplit=-1) -> list of strings|\n",
    "|**`.rstrip()`**| S.rstrip([chars]) -> str|\n",
    "|**`.split()`**| S.split(sep=None, maxsplit=-1) -> list of strings|\n",
    "|**`.splitlines()`**| S.splitlines([keepends]) -> list of strings|\n",
    "|**`.startswith()`**| S.startswith(prefix[, start[, end]]) -> bool|\n",
    "|**`.strip()`**| S.strip([chars]) -> str|\n",
    "|**`.swapcase()`**| S.swapcase() -> str|\n",
    "|**`.title()`**| S.title() -> str|\n",
    "|**`.translate()`**| S.translate(table) -> str|\n",
    "|**`.upper()`**| S.upper() -> str|\n",
    "|**`.zfill()`**| S.zfill(width) -> str|"
   ]
  },
  {
   "cell_type": "code",
   "execution_count": 32,
   "metadata": {},
   "outputs": [],
   "source": [
    "my_str = \"Regression is a common statistical learning technique\""
   ]
  },
  {
   "cell_type": "code",
   "execution_count": 33,
   "metadata": {},
   "outputs": [
    {
     "name": "stdout",
     "output_type": "stream",
     "text": [
      "regression is a common statistical learning technique\n",
      "REGRESSION IS A COMMON STATISTICAL LEARNING TECHNIQUE\n",
      "False\n"
     ]
    }
   ],
   "source": [
    "print(my_str.lower()) # convert to lower\n",
    "\n",
    "print(my_str.upper()) # convert to upper\n",
    "\n",
    "print(my_str.isupper()) # boolean determination"
   ]
  },
  {
   "cell_type": "code",
   "execution_count": 35,
   "metadata": {},
   "outputs": [
    {
     "data": {
      "text/plain": [
       "'Random Forest is a common statistical learning technique'"
      ]
     },
     "execution_count": 35,
     "metadata": {},
     "output_type": "execute_result"
    }
   ],
   "source": [
    "my_str.replace(\"Regression\",\"Random Forest\")"
   ]
  },
  {
   "cell_type": "code",
   "execution_count": 36,
   "metadata": {},
   "outputs": [
    {
     "data": {
      "text/plain": [
       "['This', 'is', 'important', 'to', 'remember.']"
      ]
     },
     "execution_count": 36,
     "metadata": {},
     "output_type": "execute_result"
    }
   ],
   "source": [
    "sent = \"This is important to remember.\"\n",
    "sent.split() # break a string into a list`"
   ]
  },
  {
   "cell_type": "code",
   "execution_count": 37,
   "metadata": {},
   "outputs": [
    {
     "data": {
      "text/plain": [
       "8"
      ]
     },
     "execution_count": 37,
     "metadata": {},
     "output_type": "execute_result"
    }
   ],
   "source": [
    "seq_str = \"A A A A B B B B C C C C A A C A B A C\"\n",
    "seq_str.count(\"A\") # count the number of times a certain pattern occurs"
   ]
  },
  {
   "cell_type": "code",
   "execution_count": 38,
   "metadata": {},
   "outputs": [
    {
     "name": "stdout",
     "output_type": "stream",
     "text": [
      "2\n",
      "i\n"
     ]
    }
   ],
   "source": [
    "ind = sent.find(\"i\")\n",
    "print(ind)\n",
    "print(sent[ind])"
   ]
  },
  {
   "cell_type": "code",
   "execution_count": 39,
   "metadata": {},
   "outputs": [
    {
     "name": "stdout",
     "output_type": "stream",
     "text": [
      "THIS is a Sentence &95#with problems\n",
      "THIS is a Sentence with problems\n",
      "this is a sentence with problems\n",
      "This is a sentence with problems\n",
      "This is a sentence with problems.\n"
     ]
    }
   ],
   "source": [
    "# In concert, we can do some useful manipulations of text\n",
    "\n",
    "sent_ws = \"      THIS is a Sentence &95#with problems\"\n",
    "\n",
    "sent_ws = sent_ws.strip() # Strip white space\n",
    "print(sent_ws)\n",
    "\n",
    "sent_ws = sent_ws.replace(\"&95#\",\"\") # strip problem values by leveraging the pattern\n",
    "print(sent_ws)\n",
    "\n",
    "sent_ws = sent_ws.lower() # convert to lower case\n",
    "print(sent_ws)\n",
    "\n",
    "sent_ws = sent_ws.capitalize() # capitalize the first letter\n",
    "print(sent_ws)\n",
    "\n",
    "sent_ws = sent_ws + \".\"\n",
    "print(sent_ws)"
   ]
  },
  {
   "cell_type": "markdown",
   "metadata": {},
   "source": [
    "## Formating Data into Strings\n",
    "\n",
    "Often, we need to combine data and strings, either to report results or progress, or compose more versatile text objects. Python makes it easy to integrate data with strings. "
   ]
  },
  {
   "cell_type": "markdown",
   "metadata": {},
   "source": [
    "### `\"\" % ()`\n",
    "\n",
    "The `%` takes in a tuple of data points. We then need to specify the location we want the data value and the data type of the incoming value."
   ]
  },
  {
   "cell_type": "code",
   "execution_count": 47,
   "metadata": {},
   "outputs": [
    {
     "data": {
      "text/plain": [
       "'This is a string with a number (4) and a word (dog)'"
      ]
     },
     "execution_count": 47,
     "metadata": {},
     "output_type": "execute_result"
    }
   ],
   "source": [
    "x = 4\n",
    "y = \"dog\"\n",
    "\"This is a string with a number (%s) and a word (%s)\" %(x,y)"
   ]
  },
  {
   "cell_type": "code",
   "execution_count": 48,
   "metadata": {},
   "outputs": [
    {
     "ename": "TypeError",
     "evalue": "%d format: a number is required, not str",
     "output_type": "error",
     "traceback": [
      "\u001b[0;31m---------------------------------------------------------------------------\u001b[0m",
      "\u001b[0;31mTypeError\u001b[0m                                 Traceback (most recent call last)",
      "\u001b[0;32m<ipython-input-48-eeca9e1ccaaf>\u001b[0m in \u001b[0;36m<module>\u001b[0;34m()\u001b[0m\n\u001b[0;32m----> 1\u001b[0;31m \u001b[0;34m\"This is a string with a number (%d) and a word (%d)\"\u001b[0m \u001b[0;34m%\u001b[0m\u001b[0;34m(\u001b[0m\u001b[0mx\u001b[0m\u001b[0;34m,\u001b[0m\u001b[0my\u001b[0m\u001b[0;34m)\u001b[0m\u001b[0;34m\u001b[0m\u001b[0;34m\u001b[0m\u001b[0m\n\u001b[0m",
      "\u001b[0;31mTypeError\u001b[0m: %d format: a number is required, not str"
     ]
    }
   ],
   "source": [
    "\"This is a string with a number (%d) and a word (%d)\" %(x,y)"
   ]
  },
  {
   "cell_type": "code",
   "execution_count": 49,
   "metadata": {},
   "outputs": [
    {
     "data": {
      "text/plain": [
       "'This is a string with a number (4) and a word (dog)'"
      ]
     },
     "execution_count": 49,
     "metadata": {},
     "output_type": "execute_result"
    }
   ],
   "source": [
    "\"This is a string with a number (%d) and a word (%s)\" %(x,y)"
   ]
  },
  {
   "cell_type": "code",
   "execution_count": 50,
   "metadata": {},
   "outputs": [
    {
     "data": {
      "text/plain": [
       "'This is a string with a number (4.000) and a word (dog)'"
      ]
     },
     "execution_count": 50,
     "metadata": {},
     "output_type": "execute_result"
    }
   ],
   "source": [
    "\"This is a string with a number (%.3f) and a word (%s)\" %(x,y)"
   ]
  },
  {
   "cell_type": "markdown",
   "metadata": {},
   "source": [
    "### `.format()`"
   ]
  },
  {
   "cell_type": "code",
   "execution_count": 51,
   "metadata": {},
   "outputs": [
    {
     "data": {
      "text/plain": [
       "'This is a string with a number (4) and a word (dog)'"
      ]
     },
     "execution_count": 51,
     "metadata": {},
     "output_type": "execute_result"
    }
   ],
   "source": [
    "# Integer positions\n",
    "\"This is a string with a number ({0}) and a word ({1})\".format('4','dog')"
   ]
  },
  {
   "cell_type": "code",
   "execution_count": 52,
   "metadata": {},
   "outputs": [
    {
     "data": {
      "text/plain": [
       "'This is a dog in a house'"
      ]
     },
     "execution_count": 52,
     "metadata": {},
     "output_type": "execute_result"
    }
   ],
   "source": [
    "# Named Fields\n",
    "'This is a {a} in a {b}'.format(a='dog',b='house')"
   ]
  },
  {
   "cell_type": "code",
   "execution_count": 56,
   "metadata": {},
   "outputs": [
    {
     "data": {
      "text/plain": [
       "'This is a field: 3 and 2.2. '"
      ]
     },
     "execution_count": 56,
     "metadata": {},
     "output_type": "execute_result"
    }
   ],
   "source": [
    "# Can leverage index positions of defined data structures.\n",
    "ps = [1.0,2.2,3]\n",
    "'This is a field: {ps[2]} and {ps[1]}. '.format(ps=ps)"
   ]
  },
  {
   "cell_type": "markdown",
   "metadata": {},
   "source": [
    "### fstrings\n",
    "\n",
    "fstrings emerge from a desire to make string formatting more readable. The above two methods are fine, but these can be difficult to read when these statements become involved. To this end, fstrings provide an easy syntax in which objects can be evaluated directly in the string statement usin `{}`. This increases readability."
   ]
  },
  {
   "cell_type": "code",
   "execution_count": 57,
   "metadata": {},
   "outputs": [
    {
     "data": {
      "text/plain": [
       "'This is a field: 3 and 2.2'"
      ]
     },
     "execution_count": 57,
     "metadata": {},
     "output_type": "execute_result"
    }
   ],
   "source": [
    "f'This is a field: {ps[2]} and {ps[1]}'"
   ]
  },
  {
   "cell_type": "code",
   "execution_count": 58,
   "metadata": {},
   "outputs": [
    {
     "data": {
      "text/plain": [
       "'Progress: 57.89%'"
      ]
     },
     "execution_count": 58,
     "metadata": {},
     "output_type": "execute_result"
    }
   ],
   "source": [
    "f\"Progress: { round((44/76)*100,2) }%\""
   ]
  },
  {
   "cell_type": "markdown",
   "metadata": {},
   "source": [
    "### String Encoding\n",
    "\n",
    "Note the default string code character is UTF-8"
   ]
  },
  {
   "cell_type": "code",
   "execution_count": 59,
   "metadata": {},
   "outputs": [
    {
     "data": {
      "text/plain": [
       "'éôü'"
      ]
     },
     "execution_count": 59,
     "metadata": {},
     "output_type": "execute_result"
    }
   ],
   "source": [
    "word = \"éôü\"\n",
    "word"
   ]
  },
  {
   "cell_type": "code",
   "execution_count": 60,
   "metadata": {},
   "outputs": [
    {
     "data": {
      "text/plain": [
       "b'\\xc3\\xa9\\xc3\\xb4\\xc3\\xbc'"
      ]
     },
     "execution_count": 60,
     "metadata": {},
     "output_type": "execute_result"
    }
   ],
   "source": [
    "en_word = word.encode('UTF-8')\n",
    "en_word"
   ]
  },
  {
   "cell_type": "code",
   "execution_count": 61,
   "metadata": {},
   "outputs": [
    {
     "data": {
      "text/plain": [
       "'éôü'"
      ]
     },
     "execution_count": 61,
     "metadata": {},
     "output_type": "execute_result"
    }
   ],
   "source": [
    "en_word.decode('UTF-8')"
   ]
  },
  {
   "cell_type": "markdown",
   "metadata": {},
   "source": [
    "## Dates\n",
    "\n",
    "Let's briefly explore working with dates in Python using the `datetime` standard library."
   ]
  },
  {
   "cell_type": "code",
   "execution_count": 62,
   "metadata": {},
   "outputs": [
    {
     "data": {
      "text/plain": [
       "datetime.datetime(2019, 9, 15, 15, 28, 47, 294426)"
      ]
     },
     "execution_count": 62,
     "metadata": {},
     "output_type": "execute_result"
    }
   ],
   "source": [
    "from datetime import datetime\n",
    "now = datetime.now()\n",
    "now"
   ]
  },
  {
   "cell_type": "markdown",
   "metadata": {},
   "source": [
    "**<center>Methods in object type `datetime`</center>**\n",
    "\n",
    "| Method  | Description |\n",
    "|:---------:|:---------:|\n",
    "|**`.astimezone()`**| tz -> convert to local time in new timezone tz|\n",
    "|**`.combine()`**| date, time -> datetime with same date and time fields|\n",
    "|**`.ctime()`**| Return ctime() style string.|\n",
    "|**`.date()`**| Return date object with same year, month and day.|\n",
    "|**`.day()`**| int([x]) -> integer int(x, base=10) -> integer|\n",
    "|**`.dst()`**| Return self.tzinfo.dst(self).|\n",
    "|**`.fold()`**| int([x]) -> integer int(x, base=10) -> integer|\n",
    "|**`.fromisoformat()`**| string -> datetime from datetime.isoformat() output|\n",
    "|**`.fromordinal()`**| int -> date corresponding to a proleptic Gregorian ordinal.|\n",
    "|**`.fromtimestamp()`**| timestamp[, tz] -> tz's local time from POSIX timestamp.|\n",
    "|**`.hour()`**| int([x]) -> integer int(x, base=10) -> integer|\n",
    "|**`.isocalendar()`**| Return a 3-tuple containing ISO year, week number, and weekday.|\n",
    "|**`.isoformat()`**| [sep] -> string in ISO 8601 format, YYYY-MM-DDT[HH[:MM[:SS[.mmm[uuu]]]]][+HH:MM]. sep is used to separate the year from the time, and defaults to 'T'. timespec specifies what components of the time to include (allowed values are 'auto', 'hours', 'minutes', 'seconds', 'milliseconds', and 'microseconds').|\n",
    "|**`.isoweekday()`**| Return the day of the week represented by the date. Monday == 1 ... Sunday == 7|\n",
    "|**`.max()`**| datetime(year, month, day[, hour[, minute[, second[, microsecond[,tzinfo]]]]])|\n",
    "|**`.microsecond()`**| int([x]) -> integer int(x, base=10) -> integer|\n",
    "|**`.min()`**| datetime(year, month, day[, hour[, minute[, second[, microsecond[,tzinfo]]]]])|\n",
    "|**`.minute()`**| int([x]) -> integer int(x, base=10) -> integer|\n",
    "|**`.month()`**| int([x]) -> integer int(x, base=10) -> integer|\n",
    "|**`.now()`**| Returns new datetime object representing current time local to tz.|\n",
    "|**`.replace()`**| Return datetime with new specified fields.|\n",
    "|**`.resolution()`**| Difference between two datetime values.|\n",
    "|**`.second()`**| int([x]) -> integer int(x, base=10) -> integer|\n",
    "|**`.strftime()`**| format -> strftime() style string.|\n",
    "|**`.strptime()`**| string, format -> new datetime parsed from a string (like time.strptime()).|\n",
    "|**`.time()`**| Return time object with same time but with tzinfo=None.|\n",
    "|**`.timestamp()`**| Return POSIX timestamp as float.|\n",
    "|**`.timetuple()`**| Return time tuple, compatible with time.localtime().|\n",
    "|**`.timetz()`**| Return time object with same time and tzinfo.|\n",
    "|**`.today()`**| Current date or datetime:  same as self.__class__.fromtimestamp(time.time()).|\n",
    "|**`.toordinal()`**| Return proleptic Gregorian ordinal.  January 1 of year 1 is day 1.|\n",
    "|**`.tzname()`**| Return self.tzinfo.tzname(self).|\n",
    "|**`.utcfromtimestamp()`**| Construct a naive UTC datetime from a POSIX timestamp.|\n",
    "|**`.utcnow()`**| Return a new datetime representing UTC day and time.|\n",
    "|**`.utcoffset()`**| Return self.tzinfo.utcoffset(self).|\n",
    "|**`.utctimetuple()`**| Return UTC time tuple, compatible with time.localtime().|\n",
    "|**`.weekday()`**| Return the day of the week represented by the date. Monday == 0 ... Sunday == 6|\n",
    "|**`.year()`**| int([x]) -> integer int(x, base=10) -> integer|"
   ]
  },
  {
   "cell_type": "code",
   "execution_count": 63,
   "metadata": {},
   "outputs": [
    {
     "data": {
      "text/plain": [
       "9"
      ]
     },
     "execution_count": 63,
     "metadata": {},
     "output_type": "execute_result"
    }
   ],
   "source": [
    "now.month "
   ]
  },
  {
   "cell_type": "code",
   "execution_count": 64,
   "metadata": {},
   "outputs": [
    {
     "data": {
      "text/plain": [
       "2019"
      ]
     },
     "execution_count": 64,
     "metadata": {},
     "output_type": "execute_result"
    }
   ],
   "source": [
    "now.year"
   ]
  },
  {
   "cell_type": "markdown",
   "metadata": {},
   "source": [
    "Can format Date Time"
   ]
  },
  {
   "cell_type": "code",
   "execution_count": 65,
   "metadata": {},
   "outputs": [
    {
     "data": {
      "text/plain": [
       "'2019 09 15'"
      ]
     },
     "execution_count": 65,
     "metadata": {},
     "output_type": "execute_result"
    }
   ],
   "source": [
    "now.strftime('%Y %m %d')"
   ]
  },
  {
   "cell_type": "code",
   "execution_count": 66,
   "metadata": {},
   "outputs": [
    {
     "data": {
      "text/plain": [
       "'2019-09-15 15:28:47'"
      ]
     },
     "execution_count": 66,
     "metadata": {},
     "output_type": "execute_result"
    }
   ],
   "source": [
    "now.strftime('%Y-%m-%d %H:%M:%S')   "
   ]
  },
  {
   "cell_type": "markdown",
   "metadata": {},
   "source": [
    "Generating dates"
   ]
  },
  {
   "cell_type": "code",
   "execution_count": 67,
   "metadata": {},
   "outputs": [
    {
     "data": {
      "text/plain": [
       "datetime.datetime(2008, 4, 20, 0, 0)"
      ]
     },
     "execution_count": 67,
     "metadata": {},
     "output_type": "execute_result"
    }
   ],
   "source": [
    "past = datetime(year=2008,month=4,day=20)\n",
    "past"
   ]
  },
  {
   "cell_type": "markdown",
   "metadata": {},
   "source": [
    "Comparing dates"
   ]
  },
  {
   "cell_type": "code",
   "execution_count": 68,
   "metadata": {},
   "outputs": [
    {
     "data": {
      "text/plain": [
       "4165"
      ]
     },
     "execution_count": 68,
     "metadata": {},
     "output_type": "execute_result"
    }
   ],
   "source": [
    "diff = now - past\n",
    "diff.days"
   ]
  },
  {
   "cell_type": "code",
   "execution_count": 70,
   "metadata": {},
   "outputs": [
    {
     "data": {
      "text/plain": [
       "datetime.datetime(2019, 9, 15, 20, 28, 47, 294426)"
      ]
     },
     "execution_count": 70,
     "metadata": {},
     "output_type": "execute_result"
    }
   ],
   "source": [
    "from datetime import timedelta\n",
    "now + timedelta(hours=5)"
   ]
  },
  {
   "cell_type": "markdown",
   "metadata": {},
   "source": [
    "Converting raw date strings into datetime objects. The secret is that we need to identify the structure of that the date is formatted in. "
   ]
  },
  {
   "cell_type": "code",
   "execution_count": 71,
   "metadata": {},
   "outputs": [
    {
     "data": {
      "text/plain": [
       "datetime.datetime(2005, 6, 1, 0, 0)"
      ]
     },
     "execution_count": 71,
     "metadata": {},
     "output_type": "execute_result"
    }
   ],
   "source": [
    "new_date = datetime.strptime('Jun 1 2005', '%b %d %Y')\n",
    "new_date"
   ]
  }
 ],
 "metadata": {
  "kernelspec": {
   "display_name": "Python 3",
   "language": "python",
   "name": "python3"
  },
  "language_info": {
   "codemirror_mode": {
    "name": "ipython",
    "version": 3
   },
   "file_extension": ".py",
   "mimetype": "text/x-python",
   "name": "python",
   "nbconvert_exporter": "python",
   "pygments_lexer": "ipython3",
   "version": "3.7.2"
  }
 },
 "nbformat": 4,
 "nbformat_minor": 2
}
