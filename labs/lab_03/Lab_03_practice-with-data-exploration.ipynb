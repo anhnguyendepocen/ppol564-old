{
 "cells": [
  {
   "cell_type": "markdown",
   "metadata": {},
   "source": [
    "# PPOL564 | Lab 3"
   ]
  },
  {
   "cell_type": "markdown",
   "metadata": {},
   "source": [
    "The following code download the 2018 Chicago Crime Dataset (`crime.csv`) from last week's coding discussion. "
   ]
  },
  {
   "cell_type": "code",
   "execution_count": 4,
   "metadata": {},
   "outputs": [],
   "source": [
    "def download_data(git_loc,dest_name):\n",
    "    '''\n",
    "    Download data from Github and save to the notebook's working directory.\n",
    "    '''\n",
    "    req = requests.get(git_loc)\n",
    "    with open(dest_name,\"w\") as file:\n",
    "        for line in req.text:\n",
    "            file.writelines(line)\n",
    "            \n",
    "download_data('https://raw.githubusercontent.com/edunford/coding_discussions_ppol564_fall2019/master/03_coding_discussion/chicago_summer_2018_crime_data.csv',\n",
    "              \"crime.csv\")"
   ]
  },
  {
   "cell_type": "markdown",
   "metadata": {},
   "source": [
    "## About the Data \n",
    "\n",
    "For this assignment, we will use data extracted from the [Chicago Data Portal](https://data.cityofchicago.org/browse) on reported crimes in the Chicago area during the summer of 2018. Note that the data has been filtered to only provide information on crimes committed during the summer of 2018. For a complete dataset, please consult the [data portal](https://data.cityofchicago.org/Public-Safety/Crimes-2018/3i3m-jwuy).\n",
    "\n",
    "The data contains information on:\n",
    "\n",
    "- `month`,\n",
    "- `day`,\n",
    "- `year`,\n",
    "- `day_of_week`,\n",
    "- `description`,\n",
    "- `location_description`,\n",
    "- `block`,\n",
    "- `primary_type`,\n",
    "- `district`,\n",
    "- `ward`,\n",
    "- `arrest`,\n",
    "- `domestic`,\n",
    "- `latitude`,\n",
    "- `longitude`"
   ]
  },
  {
   "cell_type": "markdown",
   "metadata": {},
   "source": [
    "### Answer the Following Questions\n",
    "\n",
    "Complete the following questions independently and then discuss the results as a class."
   ]
  },
  {
   "cell_type": "markdown",
   "metadata": {},
   "source": [
    "#### 1: How many districts are there?"
   ]
  },
  {
   "cell_type": "markdown",
   "metadata": {},
   "source": [
    "#### 2: How many wards are there?"
   ]
  },
  {
   "cell_type": "markdown",
   "metadata": {},
   "source": [
    "#### 3: What proportion of crimes resulted in arrests?"
   ]
  },
  {
   "cell_type": "markdown",
   "metadata": {},
   "source": [
    "#### 4: What proportion of data entries are missing georeferences (i.e. longitude/latitude)?"
   ]
  },
  {
   "cell_type": "markdown",
   "metadata": {},
   "source": [
    "#### 5: Which `primary_type` of crime occurred most frequently during the summer of 2018? "
   ]
  },
  {
   "cell_type": "markdown",
   "metadata": {},
   "source": [
    "#### 6: Which day of the week had the least crime?"
   ]
  },
  {
   "cell_type": "markdown",
   "metadata": {},
   "source": [
    "#### 7: Which month in the summer of 2018 experienced the most crime in Chicago?"
   ]
  },
  {
   "cell_type": "markdown",
   "metadata": {},
   "source": [
    "**8. In which districts are arrests for \"battery\" more likely? List the top three districts.**"
   ]
  },
  {
   "cell_type": "markdown",
   "metadata": {},
   "source": [
    "**9. Plot the spatial location of each crime in the data. Differentiate between the different districts by color.** "
   ]
  }
 ],
 "metadata": {
  "kernelspec": {
   "display_name": "Python 3",
   "language": "python",
   "name": "python3"
  },
  "language_info": {
   "codemirror_mode": {
    "name": "ipython",
    "version": 3
   },
   "file_extension": ".py",
   "mimetype": "text/x-python",
   "name": "python",
   "nbconvert_exporter": "python",
   "pygments_lexer": "ipython3",
   "version": "3.7.0"
  },
  "toc": {
   "base_numbering": 1,
   "nav_menu": {},
   "number_sections": false,
   "sideBar": false,
   "skip_h1_title": false,
   "title_cell": "Table of Contents",
   "title_sidebar": "Contents",
   "toc_cell": false,
   "toc_position": {},
   "toc_section_display": true,
   "toc_window_display": false
  }
 },
 "nbformat": 4,
 "nbformat_minor": 2
}
